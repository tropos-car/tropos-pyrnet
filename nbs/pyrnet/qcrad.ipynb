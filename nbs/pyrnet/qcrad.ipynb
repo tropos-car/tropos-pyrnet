{
 "cells": [
  {
   "cell_type": "code",
   "execution_count": 1,
   "id": "initial_id",
   "metadata": {
    "collapsed": true,
    "ExecuteTime": {
     "end_time": "2024-01-31T15:26:41.179584900Z",
     "start_time": "2024-01-31T15:26:41.176860200Z"
    }
   },
   "outputs": [],
   "source": [
    "#|hide\n",
    "#|default_exp qcrad"
   ]
  },
  {
   "cell_type": "markdown",
   "source": [
    "# PyrNet automatic quality checks\n",
    "In the following, functions for automatic quality screening are developed. Including BSRN recommended physical and rare limits, as well as network sanity checks."
   ],
   "metadata": {
    "collapsed": false
   },
   "id": "cf56cd614fb8d48a"
  },
  {
   "cell_type": "code",
   "execution_count": 2,
   "outputs": [],
   "source": [
    "#|export\n",
    "import xarray as xr\n",
    "import numpy as np\n",
    "import trosat.sunpos as sp\n",
    "import logging\n",
    "\n",
    "import pyrnet.data\n",
    "\n",
    "\n",
    "# logging setup\n",
    "logging.basicConfig(\n",
    "    filename='pyrnet.log',\n",
    "    encoding='utf-8',\n",
    "    level=logging.DEBUG,\n",
    "    format='%(asctime)s %(name)s %(levelname)s:%(message)s'\n",
    ")\n",
    "logger = logging.getLogger(__name__)"
   ],
   "metadata": {
    "collapsed": false,
    "ExecuteTime": {
     "end_time": "2024-01-31T15:26:43.435090400Z",
     "start_time": "2024-01-31T15:26:41.195362Z"
    }
   },
   "id": "10e20462eea472cd"
  },
  {
   "cell_type": "code",
   "execution_count": 3,
   "outputs": [],
   "source": [
    "import matplotlib.pyplot as plt"
   ],
   "metadata": {
    "collapsed": false,
    "ExecuteTime": {
     "end_time": "2024-01-31T15:26:43.973235900Z",
     "start_time": "2024-01-31T15:26:43.442977100Z"
    }
   },
   "id": "933ea329f4416a5e"
  },
  {
   "cell_type": "code",
   "execution_count": 4,
   "outputs": [],
   "source": [
    "#|export\n",
    "class CONSTANTS:\n",
    "    S0 = 1367  # W m-2\n",
    "    k = 5.67*1e-8"
   ],
   "metadata": {
    "collapsed": false,
    "ExecuteTime": {
     "end_time": "2024-01-31T15:26:43.977242100Z",
     "start_time": "2024-01-31T15:26:43.968321800Z"
    }
   },
   "id": "46c99745dd91bc2b"
  },
  {
   "cell_type": "markdown",
   "source": [
    "## BSRN recommended checks\n",
    "BSRN recommends thresholds for physical and rare limits of GHI data"
   ],
   "metadata": {
    "collapsed": false
   },
   "id": "80c0dbd48c9039c1"
  },
  {
   "cell_type": "code",
   "execution_count": 5,
   "outputs": [],
   "source": [
    "#|export\n",
    "class QCCode:\n",
    "    \"\"\" BSRN quality codes\n",
    "    https://wiki.pangaea.de/wiki/BSRN_Toolbox#Quality_Check\n",
    "    \"\"\"\n",
    "    below_physical = 2**0\n",
    "    above_phyiscal = 2**1\n",
    "    below_rare = 2**2\n",
    "    above_rare = 2**3\n",
    "    compare_to_low = 2**4\n",
    "    compare_to_high = 2**5"
   ],
   "metadata": {
    "collapsed": false,
    "ExecuteTime": {
     "end_time": "2024-01-31T15:26:44.009050Z",
     "start_time": "2024-01-31T15:26:43.983191100Z"
    }
   },
   "id": "f3b0a3fe1b692933"
  },
  {
   "cell_type": "markdown",
   "source": [
    "Load test dataset:"
   ],
   "metadata": {
    "collapsed": false
   },
   "id": "66d85261e2c99f10"
  },
  {
   "cell_type": "code",
   "execution_count": 6,
   "outputs": [
    {
     "ename": "FileNotFoundError",
     "evalue": "[Errno 2] No such file or directory: b'/mnt/c/Users/witthuhn/Documents/Project/2023_SGP/PyrNet/example_data/to_l1b_output.nc'",
     "output_type": "error",
     "traceback": [
      "\u001B[0;31m---------------------------------------------------------------------------\u001B[0m",
      "\u001B[0;31mKeyError\u001B[0m                                  Traceback (most recent call last)",
      "File \u001B[0;32m~/miniconda3/envs/pyrnet/lib/python3.11/site-packages/xarray/backends/file_manager.py:209\u001B[0m, in \u001B[0;36mCachingFileManager._acquire_with_cache_info\u001B[0;34m(self, needs_lock)\u001B[0m\n\u001B[1;32m    208\u001B[0m \u001B[38;5;28;01mtry\u001B[39;00m:\n\u001B[0;32m--> 209\u001B[0m     file \u001B[38;5;241m=\u001B[39m \u001B[38;5;28mself\u001B[39m\u001B[38;5;241m.\u001B[39m_cache[\u001B[38;5;28mself\u001B[39m\u001B[38;5;241m.\u001B[39m_key]\n\u001B[1;32m    210\u001B[0m \u001B[38;5;28;01mexcept\u001B[39;00m \u001B[38;5;167;01mKeyError\u001B[39;00m:\n",
      "File \u001B[0;32m~/miniconda3/envs/pyrnet/lib/python3.11/site-packages/xarray/backends/lru_cache.py:55\u001B[0m, in \u001B[0;36mLRUCache.__getitem__\u001B[0;34m(self, key)\u001B[0m\n\u001B[1;32m     54\u001B[0m \u001B[38;5;28;01mwith\u001B[39;00m \u001B[38;5;28mself\u001B[39m\u001B[38;5;241m.\u001B[39m_lock:\n\u001B[0;32m---> 55\u001B[0m     value \u001B[38;5;241m=\u001B[39m \u001B[38;5;28mself\u001B[39m\u001B[38;5;241m.\u001B[39m_cache[key]\n\u001B[1;32m     56\u001B[0m     \u001B[38;5;28mself\u001B[39m\u001B[38;5;241m.\u001B[39m_cache\u001B[38;5;241m.\u001B[39mmove_to_end(key)\n",
      "\u001B[0;31mKeyError\u001B[0m: [<class 'netCDF4._netCDF4.Dataset'>, ('/mnt/c/Users/witthuhn/Documents/Project/2023_SGP/PyrNet/example_data/to_l1b_output.nc',), 'r', (('clobber', True), ('diskless', False), ('format', 'NETCDF4'), ('persist', False)), '1af5bfae-8f13-4793-a643-fc63aa3dfce8']",
      "\nDuring handling of the above exception, another exception occurred:\n",
      "\u001B[0;31mFileNotFoundError\u001B[0m                         Traceback (most recent call last)",
      "Cell \u001B[0;32mIn[6], line 4\u001B[0m\n\u001B[1;32m      1\u001B[0m \u001B[38;5;66;03m#|dropcode\u001B[39;00m\n\u001B[1;32m      2\u001B[0m \u001B[38;5;66;03m#|dropout\u001B[39;00m\n\u001B[1;32m      3\u001B[0m fname \u001B[38;5;241m=\u001B[39m \u001B[38;5;124m\"\u001B[39m\u001B[38;5;124m../../example_data/to_l1b_output.nc\u001B[39m\u001B[38;5;124m\"\u001B[39m\n\u001B[0;32m----> 4\u001B[0m ds_l1b \u001B[38;5;241m=\u001B[39m xr\u001B[38;5;241m.\u001B[39mload_dataset(fname)\n\u001B[1;32m      5\u001B[0m ds_l1b\n",
      "File \u001B[0;32m~/miniconda3/envs/pyrnet/lib/python3.11/site-packages/xarray/backends/api.py:278\u001B[0m, in \u001B[0;36mload_dataset\u001B[0;34m(filename_or_obj, **kwargs)\u001B[0m\n\u001B[1;32m    275\u001B[0m \u001B[38;5;28;01mif\u001B[39;00m \u001B[38;5;124m\"\u001B[39m\u001B[38;5;124mcache\u001B[39m\u001B[38;5;124m\"\u001B[39m \u001B[38;5;129;01min\u001B[39;00m kwargs:\n\u001B[1;32m    276\u001B[0m     \u001B[38;5;28;01mraise\u001B[39;00m \u001B[38;5;167;01mTypeError\u001B[39;00m(\u001B[38;5;124m\"\u001B[39m\u001B[38;5;124mcache has no effect in this context\u001B[39m\u001B[38;5;124m\"\u001B[39m)\n\u001B[0;32m--> 278\u001B[0m \u001B[38;5;28;01mwith\u001B[39;00m open_dataset(filename_or_obj, \u001B[38;5;241m*\u001B[39m\u001B[38;5;241m*\u001B[39mkwargs) \u001B[38;5;28;01mas\u001B[39;00m ds:\n\u001B[1;32m    279\u001B[0m     \u001B[38;5;28;01mreturn\u001B[39;00m ds\u001B[38;5;241m.\u001B[39mload()\n",
      "File \u001B[0;32m~/miniconda3/envs/pyrnet/lib/python3.11/site-packages/xarray/backends/api.py:539\u001B[0m, in \u001B[0;36mopen_dataset\u001B[0;34m(filename_or_obj, engine, chunks, cache, decode_cf, mask_and_scale, decode_times, decode_timedelta, use_cftime, concat_characters, decode_coords, drop_variables, inline_array, backend_kwargs, **kwargs)\u001B[0m\n\u001B[1;32m    527\u001B[0m decoders \u001B[38;5;241m=\u001B[39m _resolve_decoders_kwargs(\n\u001B[1;32m    528\u001B[0m     decode_cf,\n\u001B[1;32m    529\u001B[0m     open_backend_dataset_parameters\u001B[38;5;241m=\u001B[39mbackend\u001B[38;5;241m.\u001B[39mopen_dataset_parameters,\n\u001B[0;32m   (...)\u001B[0m\n\u001B[1;32m    535\u001B[0m     decode_coords\u001B[38;5;241m=\u001B[39mdecode_coords,\n\u001B[1;32m    536\u001B[0m )\n\u001B[1;32m    538\u001B[0m overwrite_encoded_chunks \u001B[38;5;241m=\u001B[39m kwargs\u001B[38;5;241m.\u001B[39mpop(\u001B[38;5;124m\"\u001B[39m\u001B[38;5;124moverwrite_encoded_chunks\u001B[39m\u001B[38;5;124m\"\u001B[39m, \u001B[38;5;28;01mNone\u001B[39;00m)\n\u001B[0;32m--> 539\u001B[0m backend_ds \u001B[38;5;241m=\u001B[39m backend\u001B[38;5;241m.\u001B[39mopen_dataset(\n\u001B[1;32m    540\u001B[0m     filename_or_obj,\n\u001B[1;32m    541\u001B[0m     drop_variables\u001B[38;5;241m=\u001B[39mdrop_variables,\n\u001B[1;32m    542\u001B[0m     \u001B[38;5;241m*\u001B[39m\u001B[38;5;241m*\u001B[39mdecoders,\n\u001B[1;32m    543\u001B[0m     \u001B[38;5;241m*\u001B[39m\u001B[38;5;241m*\u001B[39mkwargs,\n\u001B[1;32m    544\u001B[0m )\n\u001B[1;32m    545\u001B[0m ds \u001B[38;5;241m=\u001B[39m _dataset_from_backend_dataset(\n\u001B[1;32m    546\u001B[0m     backend_ds,\n\u001B[1;32m    547\u001B[0m     filename_or_obj,\n\u001B[0;32m   (...)\u001B[0m\n\u001B[1;32m    555\u001B[0m     \u001B[38;5;241m*\u001B[39m\u001B[38;5;241m*\u001B[39mkwargs,\n\u001B[1;32m    556\u001B[0m )\n\u001B[1;32m    557\u001B[0m \u001B[38;5;28;01mreturn\u001B[39;00m ds\n",
      "File \u001B[0;32m~/miniconda3/envs/pyrnet/lib/python3.11/site-packages/xarray/backends/netCDF4_.py:572\u001B[0m, in \u001B[0;36mNetCDF4BackendEntrypoint.open_dataset\u001B[0;34m(self, filename_or_obj, mask_and_scale, decode_times, concat_characters, decode_coords, drop_variables, use_cftime, decode_timedelta, group, mode, format, clobber, diskless, persist, lock, autoclose)\u001B[0m\n\u001B[1;32m    551\u001B[0m \u001B[38;5;28;01mdef\u001B[39;00m \u001B[38;5;21mopen_dataset\u001B[39m(\n\u001B[1;32m    552\u001B[0m     \u001B[38;5;28mself\u001B[39m,\n\u001B[1;32m    553\u001B[0m     filename_or_obj,\n\u001B[0;32m   (...)\u001B[0m\n\u001B[1;32m    568\u001B[0m     autoclose\u001B[38;5;241m=\u001B[39m\u001B[38;5;28;01mFalse\u001B[39;00m,\n\u001B[1;32m    569\u001B[0m ):\n\u001B[1;32m    571\u001B[0m     filename_or_obj \u001B[38;5;241m=\u001B[39m _normalize_path(filename_or_obj)\n\u001B[0;32m--> 572\u001B[0m     store \u001B[38;5;241m=\u001B[39m NetCDF4DataStore\u001B[38;5;241m.\u001B[39mopen(\n\u001B[1;32m    573\u001B[0m         filename_or_obj,\n\u001B[1;32m    574\u001B[0m         mode\u001B[38;5;241m=\u001B[39mmode,\n\u001B[1;32m    575\u001B[0m         \u001B[38;5;28mformat\u001B[39m\u001B[38;5;241m=\u001B[39m\u001B[38;5;28mformat\u001B[39m,\n\u001B[1;32m    576\u001B[0m         group\u001B[38;5;241m=\u001B[39mgroup,\n\u001B[1;32m    577\u001B[0m         clobber\u001B[38;5;241m=\u001B[39mclobber,\n\u001B[1;32m    578\u001B[0m         diskless\u001B[38;5;241m=\u001B[39mdiskless,\n\u001B[1;32m    579\u001B[0m         persist\u001B[38;5;241m=\u001B[39mpersist,\n\u001B[1;32m    580\u001B[0m         lock\u001B[38;5;241m=\u001B[39mlock,\n\u001B[1;32m    581\u001B[0m         autoclose\u001B[38;5;241m=\u001B[39mautoclose,\n\u001B[1;32m    582\u001B[0m     )\n\u001B[1;32m    584\u001B[0m     store_entrypoint \u001B[38;5;241m=\u001B[39m StoreBackendEntrypoint()\n\u001B[1;32m    585\u001B[0m     \u001B[38;5;28;01mwith\u001B[39;00m close_on_error(store):\n",
      "File \u001B[0;32m~/miniconda3/envs/pyrnet/lib/python3.11/site-packages/xarray/backends/netCDF4_.py:376\u001B[0m, in \u001B[0;36mNetCDF4DataStore.open\u001B[0;34m(cls, filename, mode, format, group, clobber, diskless, persist, lock, lock_maker, autoclose)\u001B[0m\n\u001B[1;32m    370\u001B[0m kwargs \u001B[38;5;241m=\u001B[39m \u001B[38;5;28mdict\u001B[39m(\n\u001B[1;32m    371\u001B[0m     clobber\u001B[38;5;241m=\u001B[39mclobber, diskless\u001B[38;5;241m=\u001B[39mdiskless, persist\u001B[38;5;241m=\u001B[39mpersist, \u001B[38;5;28mformat\u001B[39m\u001B[38;5;241m=\u001B[39m\u001B[38;5;28mformat\u001B[39m\n\u001B[1;32m    372\u001B[0m )\n\u001B[1;32m    373\u001B[0m manager \u001B[38;5;241m=\u001B[39m CachingFileManager(\n\u001B[1;32m    374\u001B[0m     netCDF4\u001B[38;5;241m.\u001B[39mDataset, filename, mode\u001B[38;5;241m=\u001B[39mmode, kwargs\u001B[38;5;241m=\u001B[39mkwargs\n\u001B[1;32m    375\u001B[0m )\n\u001B[0;32m--> 376\u001B[0m \u001B[38;5;28;01mreturn\u001B[39;00m \u001B[38;5;28mcls\u001B[39m(manager, group\u001B[38;5;241m=\u001B[39mgroup, mode\u001B[38;5;241m=\u001B[39mmode, lock\u001B[38;5;241m=\u001B[39mlock, autoclose\u001B[38;5;241m=\u001B[39mautoclose)\n",
      "File \u001B[0;32m~/miniconda3/envs/pyrnet/lib/python3.11/site-packages/xarray/backends/netCDF4_.py:323\u001B[0m, in \u001B[0;36mNetCDF4DataStore.__init__\u001B[0;34m(self, manager, group, mode, lock, autoclose)\u001B[0m\n\u001B[1;32m    321\u001B[0m \u001B[38;5;28mself\u001B[39m\u001B[38;5;241m.\u001B[39m_group \u001B[38;5;241m=\u001B[39m group\n\u001B[1;32m    322\u001B[0m \u001B[38;5;28mself\u001B[39m\u001B[38;5;241m.\u001B[39m_mode \u001B[38;5;241m=\u001B[39m mode\n\u001B[0;32m--> 323\u001B[0m \u001B[38;5;28mself\u001B[39m\u001B[38;5;241m.\u001B[39mformat \u001B[38;5;241m=\u001B[39m \u001B[38;5;28mself\u001B[39m\u001B[38;5;241m.\u001B[39mds\u001B[38;5;241m.\u001B[39mdata_model\n\u001B[1;32m    324\u001B[0m \u001B[38;5;28mself\u001B[39m\u001B[38;5;241m.\u001B[39m_filename \u001B[38;5;241m=\u001B[39m \u001B[38;5;28mself\u001B[39m\u001B[38;5;241m.\u001B[39mds\u001B[38;5;241m.\u001B[39mfilepath()\n\u001B[1;32m    325\u001B[0m \u001B[38;5;28mself\u001B[39m\u001B[38;5;241m.\u001B[39mis_remote \u001B[38;5;241m=\u001B[39m is_remote_uri(\u001B[38;5;28mself\u001B[39m\u001B[38;5;241m.\u001B[39m_filename)\n",
      "File \u001B[0;32m~/miniconda3/envs/pyrnet/lib/python3.11/site-packages/xarray/backends/netCDF4_.py:385\u001B[0m, in \u001B[0;36mNetCDF4DataStore.ds\u001B[0;34m(self)\u001B[0m\n\u001B[1;32m    383\u001B[0m \u001B[38;5;129m@property\u001B[39m\n\u001B[1;32m    384\u001B[0m \u001B[38;5;28;01mdef\u001B[39;00m \u001B[38;5;21mds\u001B[39m(\u001B[38;5;28mself\u001B[39m):\n\u001B[0;32m--> 385\u001B[0m     \u001B[38;5;28;01mreturn\u001B[39;00m \u001B[38;5;28mself\u001B[39m\u001B[38;5;241m.\u001B[39m_acquire()\n",
      "File \u001B[0;32m~/miniconda3/envs/pyrnet/lib/python3.11/site-packages/xarray/backends/netCDF4_.py:379\u001B[0m, in \u001B[0;36mNetCDF4DataStore._acquire\u001B[0;34m(self, needs_lock)\u001B[0m\n\u001B[1;32m    378\u001B[0m \u001B[38;5;28;01mdef\u001B[39;00m \u001B[38;5;21m_acquire\u001B[39m(\u001B[38;5;28mself\u001B[39m, needs_lock\u001B[38;5;241m=\u001B[39m\u001B[38;5;28;01mTrue\u001B[39;00m):\n\u001B[0;32m--> 379\u001B[0m     \u001B[38;5;28;01mwith\u001B[39;00m \u001B[38;5;28mself\u001B[39m\u001B[38;5;241m.\u001B[39m_manager\u001B[38;5;241m.\u001B[39macquire_context(needs_lock) \u001B[38;5;28;01mas\u001B[39;00m root:\n\u001B[1;32m    380\u001B[0m         ds \u001B[38;5;241m=\u001B[39m _nc4_require_group(root, \u001B[38;5;28mself\u001B[39m\u001B[38;5;241m.\u001B[39m_group, \u001B[38;5;28mself\u001B[39m\u001B[38;5;241m.\u001B[39m_mode)\n\u001B[1;32m    381\u001B[0m     \u001B[38;5;28;01mreturn\u001B[39;00m ds\n",
      "File \u001B[0;32m~/miniconda3/envs/pyrnet/lib/python3.11/contextlib.py:137\u001B[0m, in \u001B[0;36m_GeneratorContextManager.__enter__\u001B[0;34m(self)\u001B[0m\n\u001B[1;32m    135\u001B[0m \u001B[38;5;28;01mdel\u001B[39;00m \u001B[38;5;28mself\u001B[39m\u001B[38;5;241m.\u001B[39margs, \u001B[38;5;28mself\u001B[39m\u001B[38;5;241m.\u001B[39mkwds, \u001B[38;5;28mself\u001B[39m\u001B[38;5;241m.\u001B[39mfunc\n\u001B[1;32m    136\u001B[0m \u001B[38;5;28;01mtry\u001B[39;00m:\n\u001B[0;32m--> 137\u001B[0m     \u001B[38;5;28;01mreturn\u001B[39;00m \u001B[38;5;28mnext\u001B[39m(\u001B[38;5;28mself\u001B[39m\u001B[38;5;241m.\u001B[39mgen)\n\u001B[1;32m    138\u001B[0m \u001B[38;5;28;01mexcept\u001B[39;00m \u001B[38;5;167;01mStopIteration\u001B[39;00m:\n\u001B[1;32m    139\u001B[0m     \u001B[38;5;28;01mraise\u001B[39;00m \u001B[38;5;167;01mRuntimeError\u001B[39;00m(\u001B[38;5;124m\"\u001B[39m\u001B[38;5;124mgenerator didn\u001B[39m\u001B[38;5;124m'\u001B[39m\u001B[38;5;124mt yield\u001B[39m\u001B[38;5;124m\"\u001B[39m) \u001B[38;5;28;01mfrom\u001B[39;00m \u001B[38;5;28mNone\u001B[39m\n",
      "File \u001B[0;32m~/miniconda3/envs/pyrnet/lib/python3.11/site-packages/xarray/backends/file_manager.py:197\u001B[0m, in \u001B[0;36mCachingFileManager.acquire_context\u001B[0;34m(self, needs_lock)\u001B[0m\n\u001B[1;32m    194\u001B[0m \u001B[38;5;129m@contextlib\u001B[39m\u001B[38;5;241m.\u001B[39mcontextmanager\n\u001B[1;32m    195\u001B[0m \u001B[38;5;28;01mdef\u001B[39;00m \u001B[38;5;21macquire_context\u001B[39m(\u001B[38;5;28mself\u001B[39m, needs_lock\u001B[38;5;241m=\u001B[39m\u001B[38;5;28;01mTrue\u001B[39;00m):\n\u001B[1;32m    196\u001B[0m     \u001B[38;5;124;03m\"\"\"Context manager for acquiring a file.\"\"\"\u001B[39;00m\n\u001B[0;32m--> 197\u001B[0m     file, cached \u001B[38;5;241m=\u001B[39m \u001B[38;5;28mself\u001B[39m\u001B[38;5;241m.\u001B[39m_acquire_with_cache_info(needs_lock)\n\u001B[1;32m    198\u001B[0m     \u001B[38;5;28;01mtry\u001B[39;00m:\n\u001B[1;32m    199\u001B[0m         \u001B[38;5;28;01myield\u001B[39;00m file\n",
      "File \u001B[0;32m~/miniconda3/envs/pyrnet/lib/python3.11/site-packages/xarray/backends/file_manager.py:215\u001B[0m, in \u001B[0;36mCachingFileManager._acquire_with_cache_info\u001B[0;34m(self, needs_lock)\u001B[0m\n\u001B[1;32m    213\u001B[0m     kwargs \u001B[38;5;241m=\u001B[39m kwargs\u001B[38;5;241m.\u001B[39mcopy()\n\u001B[1;32m    214\u001B[0m     kwargs[\u001B[38;5;124m\"\u001B[39m\u001B[38;5;124mmode\u001B[39m\u001B[38;5;124m\"\u001B[39m] \u001B[38;5;241m=\u001B[39m \u001B[38;5;28mself\u001B[39m\u001B[38;5;241m.\u001B[39m_mode\n\u001B[0;32m--> 215\u001B[0m file \u001B[38;5;241m=\u001B[39m \u001B[38;5;28mself\u001B[39m\u001B[38;5;241m.\u001B[39m_opener(\u001B[38;5;241m*\u001B[39m\u001B[38;5;28mself\u001B[39m\u001B[38;5;241m.\u001B[39m_args, \u001B[38;5;241m*\u001B[39m\u001B[38;5;241m*\u001B[39mkwargs)\n\u001B[1;32m    216\u001B[0m \u001B[38;5;28;01mif\u001B[39;00m \u001B[38;5;28mself\u001B[39m\u001B[38;5;241m.\u001B[39m_mode \u001B[38;5;241m==\u001B[39m \u001B[38;5;124m\"\u001B[39m\u001B[38;5;124mw\u001B[39m\u001B[38;5;124m\"\u001B[39m:\n\u001B[1;32m    217\u001B[0m     \u001B[38;5;66;03m# ensure file doesn't get overridden when opened again\u001B[39;00m\n\u001B[1;32m    218\u001B[0m     \u001B[38;5;28mself\u001B[39m\u001B[38;5;241m.\u001B[39m_mode \u001B[38;5;241m=\u001B[39m \u001B[38;5;124m\"\u001B[39m\u001B[38;5;124ma\u001B[39m\u001B[38;5;124m\"\u001B[39m\n",
      "File \u001B[0;32msrc/netCDF4/_netCDF4.pyx:2463\u001B[0m, in \u001B[0;36mnetCDF4._netCDF4.Dataset.__init__\u001B[0;34m()\u001B[0m\n",
      "File \u001B[0;32msrc/netCDF4/_netCDF4.pyx:2026\u001B[0m, in \u001B[0;36mnetCDF4._netCDF4._ensure_nc_success\u001B[0;34m()\u001B[0m\n",
      "\u001B[0;31mFileNotFoundError\u001B[0m: [Errno 2] No such file or directory: b'/mnt/c/Users/witthuhn/Documents/Project/2023_SGP/PyrNet/example_data/to_l1b_output.nc'"
     ]
    }
   ],
   "source": [
    "#|dropcode\n",
    "#|dropout\n",
    "fname = \"../../example_data/to_l1b_output.nc\"\n",
    "ds_l1b = xr.load_dataset(fname)\n",
    "ds_l1b "
   ],
   "metadata": {
    "collapsed": false,
    "ExecuteTime": {
     "end_time": "2024-01-31T15:26:45.730506Z",
     "start_time": "2024-01-31T15:26:43.993194600Z"
    }
   },
   "id": "6dd8e1d8c7a00692"
  },
  {
   "cell_type": "markdown",
   "source": [
    "Function to initialize qc-flag variables:"
   ],
   "metadata": {
    "collapsed": false
   },
   "id": "a1ff010e73b142fa"
  },
  {
   "cell_type": "code",
   "execution_count": null,
   "outputs": [],
   "source": [
    "#|export\n",
    "#|dropcode\n",
    "def init_qc_flag(ds, var):\n",
    "    qc_bits = [2**i for i in range(6)]\n",
    "    ds[f\"qc_flag_{var}\"] = ds[var].copy()\n",
    "    ds[f\"qc_flag_{var}\"].values *= 0\n",
    "    ds[f\"qc_flag_{var}\"].attrs.update({\n",
    "        \"standard_name\": \"quality_flag\",\n",
    "        \"units\": \"-\",\n",
    "        \"ancillary_variables\": var,\n",
    "        \"valid_range\": [0, np.sum(qc_bits)],\n",
    "        \"flag_masks\": qc_bits,\n",
    "        \"flag_values\": qc_bits,\n",
    "        \"flag_meanings\": str(\n",
    "            \"below_physical_limit\" + \" \" +\n",
    "            \"above_physical_limit\" + \" \" +\n",
    "            \"below_rare_limit\" + \" \" +\n",
    "            \"above_rare_limit\" + \" \" +\n",
    "            \"comparison_to_low\" + \" \" +\n",
    "            \"comparison_to_high\"\n",
    "        )\n",
    "    })\n",
    "    ds[f\"qc_flag_{var}\"].encoding.update({\n",
    "        \"dtype\": \"u1\",\n",
    "        \"_FillValue\": 0\n",
    "    })\n",
    "    return ds"
   ],
   "metadata": {
    "collapsed": false,
    "ExecuteTime": {
     "start_time": "2024-01-31T15:26:45.715222900Z"
    }
   },
   "id": "7d76db3bef479c3d"
  },
  {
   "cell_type": "markdown",
   "source": [
    "1. Initialize qc-flags for dataset"
   ],
   "metadata": {
    "collapsed": false
   },
   "id": "264a6b61b518fdf8"
  },
  {
   "cell_type": "code",
   "execution_count": null,
   "outputs": [],
   "source": [
    "#|dropout\n",
    "config = pyrnet.data.get_config()\n",
    "\n",
    "for var in config[\"radflux_varname\"]:\n",
    "    ds_l1b = init_qc_flag(ds_l1b, var) \n",
    "    \n",
    "ds_l1b"
   ],
   "metadata": {
    "collapsed": false,
    "ExecuteTime": {
     "start_time": "2024-01-31T15:26:45.715222900Z"
    }
   },
   "id": "a09283de54f67de1"
  },
  {
   "cell_type": "markdown",
   "source": [
    "Prepare ancillary variables"
   ],
   "metadata": {
    "collapsed": false
   },
   "id": "74a19376e53face8"
  },
  {
   "cell_type": "code",
   "execution_count": null,
   "outputs": [],
   "source": [
    "szen = ds_l1b.szen.values\n",
    "mu0 = np.cos(np.deg2rad(szen))\n",
    "mu0[mu0 < 0] = 0 #  exclude night\n",
    "esd = ds_l1b.esd.values\n",
    "Sa = CONSTANTS.S0 / esd**2"
   ],
   "metadata": {
    "collapsed": false,
    "ExecuteTime": {
     "start_time": "2024-01-31T15:26:45.728732900Z"
    }
   },
   "id": "c12c02028d333f4"
  },
  {
   "cell_type": "markdown",
   "source": [
    "Perform quality checks on GHI (main pyranometer) and GTI (extra pyranometer).\n",
    "Check if GTI is tilted and if so, apply a simple conversion to horizontal irradiance for the quality checks."
   ],
   "metadata": {
    "collapsed": false
   },
   "id": "761ca9941636e5ee"
  },
  {
   "cell_type": "code",
   "execution_count": null,
   "outputs": [],
   "source": [
    "#|dropout\n",
    "for var in config[\"radflux_varname\"]:\n",
    "    is_tilted = False\n",
    "    if \"vangle\" in ds_l1b[var].attrs:\n",
    "        if np.abs(ds_l1b[var].attrs[\"vangle\"])>0.1:\n",
    "            is_tilted = True\n",
    "            \n",
    "    values = ds_l1b[var].values\n",
    "    if is_tilted:\n",
    "        # TODO: add correction for tilted values\n",
    "        # correct to horizontal for quality check\n",
    "        pass\n",
    "    \n",
    "    # physical minimum\n",
    "    mask = values < -4\n",
    "    ds_l1b[f\"qc_flag_{var}\"].values[mask] += QCCode.below_physical\n",
    "    # physical maximum\n",
    "    mask = values > ((Sa * 1.5 * mu0 ** 1.2) + 100)\n",
    "    ds_l1b[f\"qc_flag_{var}\"].values[mask] += QCCode.above_phyiscal\n",
    "    # rare limit minimum\n",
    "    mask = values < -2\n",
    "    ds_l1b[f\"qc_flag_{var}\"].values[mask] += QCCode.below_rare\n",
    "    # rare limit maximum\n",
    "    mask = values > ((Sa * 1.2 * mu0 ** 1.2) + 50)\n",
    "    ds_l1b[f\"qc_flag_{var}\"].values[mask] += QCCode.above_rare\n",
    "    \n",
    "    fig,ax = plt.subplots(1,1)\n",
    "    ax.set_title(var)\n",
    "    ax.fill_between(ds_l1b.time,np.ones(mu0.shape[0])*-4,((Sa * 1.5 * mu0 ** 1.2) + 100)[:,0],color='r',alpha=0.2)\n",
    "    ax.fill_between(ds_l1b.time,np.ones(mu0.shape[0])*-2,((Sa * 1.2 * mu0 ** 1.2) + 50)[:,0],color='g',alpha=0.2)\n",
    "    ax.plot(ds_l1b.time,values, 'k')\n",
    "    ax.grid(True)\n",
    "    \n",
    "    # TODO: compare all sensors\n",
    "    # for tilted sensors, compare to all (converted to horizontal)\n",
    "    # non tilted sensor compare only to non tilted sensors\n",
    "    \n",
    "\n",
    "ds_l1b"
   ],
   "metadata": {
    "collapsed": false,
    "ExecuteTime": {
     "start_time": "2024-01-31T15:26:45.730506Z"
    }
   },
   "id": "5d797bd16478c491"
  },
  {
   "cell_type": "code",
   "execution_count": null,
   "outputs": [],
   "source": [
    "((Sa * 1.5 * mu0 ** 1.2) + 100).shape"
   ],
   "metadata": {
    "collapsed": false,
    "ExecuteTime": {
     "start_time": "2024-01-31T15:26:45.730506Z"
    }
   },
   "id": "c77873fef0dfe99"
  },
  {
   "cell_type": "markdown",
   "source": [
    "Comparison checks can be applied on network files or if the station has two pyranometers\n"
   ],
   "metadata": {
    "collapsed": false
   },
   "id": "946ca90e56d4943d"
  },
  {
   "cell_type": "code",
   "execution_count": null,
   "outputs": [],
   "source": [
    "#|hide\n",
    "# Export module\n",
    "# Requires *nbdev* to export and update the *../lib/logger.py* module\n",
    "import nbdev.export\n",
    "import nbformat as nbf\n",
    "name = \"qcrad\"\n",
    "\n",
    "# Export python module\n",
    "nbdev.export.nb_export( f\"{name}.ipynb\" ,f\"../../src/pyrnet\")\n",
    "\n",
    "# Export to docs\n",
    "ntbk = nbf.read(f\"{name}.ipynb\", nbf.NO_CONVERT)\n",
    "\n",
    "text_search_dict = {\n",
    "    \"#|hide\": \"remove-cell\",  # Remove the whole cell\n",
    "    \"#|dropcode\": \"hide-input\",  # Hide the input w/ a button to show\n",
    "    \"#|dropout\": \"hide-output\"  # Hide the output w/ a button to show\n",
    "}\n",
    "for cell in ntbk.cells:\n",
    "    cell_tags = cell.get('metadata', {}).get('tags', [])\n",
    "    for key, val in text_search_dict.items():\n",
    "            if key in cell['source']:\n",
    "                if val not in cell_tags:\n",
    "                    cell_tags.append(val)\n",
    "    if len(cell_tags) > 0:\n",
    "        cell['metadata']['tags'] = cell_tags\n",
    "    nbf.write(ntbk, f\"../../docs/source/nbs/{name}.ipynb\")"
   ],
   "metadata": {
    "collapsed": false,
    "ExecuteTime": {
     "start_time": "2024-01-31T15:26:45.730506Z"
    }
   },
   "id": "c23d17c81a5e5683"
  }
 ],
 "metadata": {
  "kernelspec": {
   "name": "pyrnet",
   "language": "python",
   "display_name": "pyrnet"
  },
  "language_info": {
   "codemirror_mode": {
    "name": "ipython",
    "version": 2
   },
   "file_extension": ".py",
   "mimetype": "text/x-python",
   "name": "python",
   "nbconvert_exporter": "python",
   "pygments_lexer": "ipython2",
   "version": "2.7.6"
  }
 },
 "nbformat": 4,
 "nbformat_minor": 5
}
