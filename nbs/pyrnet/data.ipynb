{
 "cells": [
  {
   "cell_type": "code",
   "execution_count": 1,
   "outputs": [],
   "source": [
    "#|hide\n",
    "#|default_exp data"
   ],
   "metadata": {
    "collapsed": false,
    "ExecuteTime": {
     "end_time": "2024-02-12T12:44:56.625611800Z",
     "start_time": "2024-02-12T12:44:55.454092800Z"
    }
   }
  },
  {
   "cell_type": "markdown",
   "source": [
    "# Data level\n",
    "\n",
    "Reading and advance in data processing levels to be stored in netcdf database format.\n",
    "\n",
    "```{note}\n",
    "raw > l1a > l1b > l1c\n",
    "```"
   ],
   "metadata": {
    "collapsed": false
   }
  },
  {
   "cell_type": "code",
   "execution_count": 2,
   "outputs": [],
   "source": [
    "#|export\n",
    "import os\n",
    "import numpy as np\n",
    "import pandas as pd\n",
    "import xarray as xr\n",
    "import logging\n",
    "from toolz import assoc_in\n",
    "import pkg_resources as pkg_res\n",
    "import warnings\n",
    "\n",
    "from trosat import sunpos as sp\n",
    "\n",
    "import pyrnet\n",
    "pyrnet_version = pyrnet.__version__\n",
    "import pyrnet.pyrnet\n",
    "import pyrnet.utils\n",
    "import pyrnet.logger\n",
    "import pyrnet.reports\n",
    "import pyrnet.qcrad\n",
    "\n",
    "# logging setup\n",
    "logging.basicConfig(\n",
    "    filename='pyrnet.log',\n",
    "    encoding='utf-8',\n",
    "    level=logging.DEBUG,\n",
    "    format='%(asctime)s %(name)s %(levelname)s:%(message)s'\n",
    ")\n",
    "logger = logging.getLogger(__name__)"
   ],
   "metadata": {
    "collapsed": false,
    "ExecuteTime": {
     "end_time": "2024-02-12T12:45:00.505387200Z",
     "start_time": "2024-02-12T12:44:55.456758900Z"
    }
   }
  },
  {
   "cell_type": "code",
   "execution_count": 3,
   "outputs": [],
   "source": [
    "import matplotlib.pyplot as plt"
   ],
   "metadata": {
    "collapsed": false,
    "ExecuteTime": {
     "end_time": "2024-02-12T12:45:01.294981700Z",
     "start_time": "2024-02-12T12:45:00.515450100Z"
    }
   }
  },
  {
   "cell_type": "markdown",
   "source": [
    "## netCDF dataset operations\n"
   ],
   "metadata": {
    "collapsed": false
   }
  },
  {
   "cell_type": "code",
   "execution_count": 4,
   "outputs": [],
   "source": [
    "#|export\n",
    "def update_coverage_meta(ds,timevar='time'):\n",
    "    \"\"\"Update global attributes related to geospatial and time coverage\n",
    "    \"\"\"\n",
    "    duration = ds[timevar].values[-1] - ds[timevar].values[0]\n",
    "    resolution = np.mean(np.diff(ds[timevar].values))\n",
    "    now = pd.to_datetime(np.datetime64(\"now\"))\n",
    "    gattrs = {\n",
    "        'date_created': now.isoformat(),\n",
    "        'geospatial_lat_min': np.nanmin(ds.lat.values),\n",
    "        'geospatial_lat_max': np.nanmax(ds.lat.values),\n",
    "        'geospatial_lat_units': 'degN',\n",
    "        'geospatial_lon_min': np.nanmin(ds.lon.values),\n",
    "        'geospatial_lon_max': np.nanmax(ds.lon.values),\n",
    "        'geospatial_lon_units': 'degE',\n",
    "        'time_coverage_start': pd.to_datetime(ds[timevar].values[0]).isoformat(),\n",
    "        'time_coverage_end': pd.to_datetime(ds[timevar].values[-1]).isoformat(),\n",
    "        'time_coverage_duration': pd.to_timedelta(duration).isoformat(),\n",
    "        'time_coverage_resolution': pd.to_timedelta(resolution).isoformat(),\n",
    "    }\n",
    "    ds.attrs.update(gattrs)\n",
    "    return ds\n"
   ],
   "metadata": {
    "collapsed": false,
    "ExecuteTime": {
     "end_time": "2024-02-12T12:45:01.322925200Z",
     "start_time": "2024-02-12T12:45:01.303041700Z"
    }
   }
  },
  {
   "cell_type": "code",
   "execution_count": 5,
   "outputs": [],
   "source": [
    "#|export\n",
    "def stretch_resolution(ds: xr.Dataset) -> xr.Dataset:\n",
    "    \"\"\" Stretch variable resolution to full integer size,\n",
    "    to not lose resolution after averaging ADC count data.\"\"\"\n",
    "    for var in ds:\n",
    "        if \"scale_factor\" not in ds[var].encoding:\n",
    "            continue\n",
    "        if \"valid_range\" not in ds[var].attrs:\n",
    "            continue\n",
    "        dtype = ds[var].encoding['dtype']\n",
    "        valid_range = ds[var].valid_range\n",
    "        int_limit = np.iinfo(dtype).max\n",
    "        scale_factor = ds[var].encoding['scale_factor']\n",
    "        scale_factor_mod = int((int_limit-1)/valid_range[1])\n",
    "        ds[var].encoding.update({\n",
    "            \"scale_factor\": scale_factor / scale_factor_mod,\n",
    "            \"_FillValue\": int_limit,\n",
    "        })\n",
    "        ds[var].attrs.update({\n",
    "            \"valid_range\": valid_range * scale_factor_mod\n",
    "        })\n",
    "    return ds"
   ],
   "metadata": {
    "collapsed": false,
    "ExecuteTime": {
     "end_time": "2024-02-12T12:45:01.351887200Z",
     "start_time": "2024-02-12T12:45:01.318962200Z"
    }
   }
  },
  {
   "cell_type": "code",
   "execution_count": 6,
   "outputs": [],
   "source": [
    "#|export\n",
    "def merge_ds(ds1,ds2,timevar=\"time\"):\n",
    "    \"\"\"Merge two datasets along the time dimension.\n",
    "    \"\"\"\n",
    "    if ds1[timevar].equals(ds2[timevar]):\n",
    "        logging.info(\"Overwrite existing file.\")\n",
    "        return ds2\n",
    "    logging.info(\"Merge with existing file.\")\n",
    "\n",
    "    ## overwrite non time dependent variables\n",
    "    overwrite_vars = [ v for v in ds1 if timevar not in ds1[v].dims ]\n",
    "\n",
    "    ## merge both datasets\n",
    "    ds_new=ds1.merge(ds2,\n",
    "                     compat='no_conflicts',\n",
    "                     overwrite_vars=overwrite_vars)\n",
    "\n",
    "    # add global coverage attributes\n",
    "    ds_new.attrs.update({'merged':1})\n",
    "\n",
    "    # add encoding again\n",
    "    ds_new = add_encoding(ds_new)\n",
    "    return ds_new"
   ],
   "metadata": {
    "collapsed": false,
    "ExecuteTime": {
     "end_time": "2024-02-12T12:45:01.400329400Z",
     "start_time": "2024-02-12T12:45:01.330174400Z"
    }
   }
  },
  {
   "cell_type": "code",
   "execution_count": 7,
   "outputs": [],
   "source": [
    "#|export\n",
    "def to_netcdf(ds,fname, timevar=\"time\"):\n",
    "    \"\"\"xarray to netcdf, but merge if exist\n",
    "    \"\"\"\n",
    "    # merge if necessary\n",
    "    if os.path.exists(fname):\n",
    "        ds1 = xr.open_dataset(fname)\n",
    "        ds = merge_ds(ds1,ds, timevar=timevar)\n",
    "        ds1.close()\n",
    "        os.remove(fname)\n",
    "\n",
    "    # save to netCDF4\n",
    "    ds = update_coverage_meta(ds, timevar=timevar)\n",
    "    ds.to_netcdf(fname,\n",
    "                 encoding={timevar:{'dtype':'float64'}}) # for OpenDAP 2 compatibility"
   ],
   "metadata": {
    "collapsed": false,
    "ExecuteTime": {
     "end_time": "2024-02-12T12:45:01.400329400Z",
     "start_time": "2024-02-12T12:45:01.342274900Z"
    }
   }
  },
  {
   "cell_type": "code",
   "execution_count": 8,
   "outputs": [],
   "source": [
    "#|export\n",
    "def resample(ds, freq, methods='mean', kwargs={}):\n",
    "    \"\"\" Resample xarray dataset using pandas for speed.\n",
    "    https://github.com/pydata/xarray/issues/4498#issuecomment-706688398\n",
    "    \"\"\"\n",
    "    if isinstance(methods,str):\n",
    "        methods = [methods]\n",
    "\n",
    "    dsr = ds.to_dataframe().resample(freq)\n",
    "    dsouts = []\n",
    "    for method in methods:\n",
    "        # what we want (quickly), but in Pandas form\n",
    "        df_h = dsr.apply(method)#, kwargs=dict(numeric_only=True) )\n",
    "        # rebuild xarray dataset with attributes\n",
    "        vals = []\n",
    "        for c in df_h.columns:\n",
    "            vals.append(\n",
    "                xr.DataArray(data=df_h[c],\n",
    "                             dims=['time'],\n",
    "                             coords={'time': df_h.index},\n",
    "                             attrs=ds[c].attrs)\n",
    "            )\n",
    "        dsouts.append(xr.Dataset(dict(zip(df_h.columns, vals)), attrs=ds.attrs))\n",
    "\n",
    "    if len(dsouts) == 1:\n",
    "        dsouts = dsouts[0]\n",
    "    return dsouts"
   ],
   "metadata": {
    "collapsed": false,
    "ExecuteTime": {
     "end_time": "2024-02-12T12:45:01.453672700Z",
     "start_time": "2024-02-12T12:45:01.355059800Z"
    }
   }
  },
  {
   "cell_type": "markdown",
   "source": [
    "## Default config and nc encoding\n",
    "Parse default config and cfmeta, and merge with user condfig"
   ],
   "metadata": {
    "collapsed": false
   }
  },
  {
   "cell_type": "code",
   "execution_count": 9,
   "outputs": [],
   "source": [
    "#|export\n",
    "def get_config(config: dict|None = None) -> dict:\n",
    "    \"\"\"Read default config and merge with input config\n",
    "    \"\"\"\n",
    "\n",
    "    fn_config = pkg_res.resource_filename(\"pyrnet\", \"share/pyrnet_config.json\")\n",
    "    default_config = pyrnet.utils.read_json(fn_config)\n",
    "    if config is None:\n",
    "        config = default_config\n",
    "    config = {**default_config, **config}\n",
    "\n",
    "    # add default files\n",
    "    cfiles = {\n",
    "        \"file_cfmeta\": \"share/pyrnet_cfmeta.json\",\n",
    "        \"file_calibration\": \"share/pyrnet_calibration.json\",\n",
    "        \"file_mapping\": \"share/pyrnet_station_map.json\",\n",
    "        \"file_gti_angles\": \"share/pyrnet_gti_angles.json\",\n",
    "        \"file_site\": \"share/pyrnet_sites.json\",\n",
    "    }\n",
    "    for fn in cfiles:\n",
    "        if config[fn] is None:\n",
    "            config[fn] =  pkg_res.resource_filename(\"pyrnet\", cfiles[fn])\n",
    "    return config\n",
    "\n",
    "def get_sensor_config(sconfig: dict|None = None) -> dict:\n",
    "    \"\"\" Read the sensor configuration from the default json file and merge if needed. \n",
    "    \"\"\"\n",
    "    fn_config = pkg_res.resource_filename(\"pyrnet\", \"share/pyrnet_sensor_config.json\")\n",
    "    default_config = pyrnet.utils.read_json(fn_config)\n",
    "    if sconfig is None:\n",
    "        sconfig = default_config\n",
    "    sconfig = {**default_config, **sconfig}\n",
    "    return sconfig\n",
    "    \n",
    "def get_cfmeta(config: dict|None = None) -> dict:\n",
    "    \"\"\"Read global and variable attributes and encoding from cfmeta.json\n",
    "    \"\"\"\n",
    "    config= get_config(config)\n",
    "    # parse the json file\n",
    "    cfdict = pyrnet.utils.read_json(config[\"file_cfmeta\"])\n",
    "    # get global attributes:\n",
    "    gattrs = cfdict['attributes']\n",
    "    # apply config\n",
    "    gattrs = {k:v.format_map(config) for k,v in gattrs.items()}\n",
    "    # get variable attributes\n",
    "    d = pyrnet.utils.get_var_attrs(cfdict)\n",
    "    # split encoding attributes\n",
    "    vattrs, vencode = pyrnet.utils.get_attrs_enc(d)\n",
    "    return gattrs ,vattrs, vencode\n",
    "\n",
    "def calc_encoding(sconfig:dict, ADCV=3.3, ADCbits=10) -> dict:\n",
    "    ADCfac = ADCV / (2**ADCbits-1) # Last bit is reserved \n",
    "    sencoding ={}\n",
    "    for k,v in sconfig.items():\n",
    "        sencoding.update(\n",
    "            {k: dict(\n",
    "                units=v['units'],\n",
    "                scale_factor=v['C']*ADCfac/v['gain'],\n",
    "                add_offset=v['offset'],\n",
    "                valid_range= [0, min(((2**ADCbits-1), int(v['Vmax']*v['gain']/ADCfac)))]\n",
    "            )}\n",
    "        )\n",
    "    return sencoding\n"
   ],
   "metadata": {
    "collapsed": false,
    "ExecuteTime": {
     "end_time": "2024-02-12T12:45:01.454676400Z",
     "start_time": "2024-02-12T12:45:01.373026700Z"
    }
   }
  },
  {
   "cell_type": "code",
   "execution_count": 10,
   "outputs": [
    {
     "data": {
      "text/plain": "{'ta': {'units': 'K',\n  'scale_factor': 0.12903225806451613,\n  'add_offset': 253.15,\n  'valid_range': [0, 775]},\n 'rh': {'units': '1',\n  'scale_factor': 0.0012903225806451613,\n  'add_offset': 0.0,\n  'valid_range': [0, 775]},\n 'battery_voltage': {'units': 'V',\n  'scale_factor': 0.0064516129032258064,\n  'add_offset': 0.0,\n  'valid_range': [0, 992]},\n 'ghi': {'units': 'V',\n  'scale_factor': 1.075268817204301e-05,\n  'add_offset': 0.0,\n  'valid_range': [0, 1023]},\n 'gti': {'units': 'V',\n  'scale_factor': 1.075268817204301e-05,\n  'add_offset': 0.0,\n  'valid_range': [0, 1023]}}"
     },
     "execution_count": 10,
     "metadata": {},
     "output_type": "execute_result"
    }
   ],
   "source": [
    "sconfig = get_sensor_config()\n",
    "sencoding = calc_encoding(sconfig)\n",
    "sencoding"
   ],
   "metadata": {
    "collapsed": false,
    "ExecuteTime": {
     "end_time": "2024-02-12T12:45:01.455671400Z",
     "start_time": "2024-02-12T12:45:01.382807700Z"
    }
   }
  },
  {
   "cell_type": "markdown",
   "source": [
    "## Encoding\n",
    "The encoding attributes are defined within the file PyrNet/share/pyrnet_cfmeta.json per default.\n",
    "\n",
    "The netcdf packing of data is realized via the two attributes *scale_factor* and *add_offset*:\n",
    "  ```unpacked_variable = scale_factor * packed_variable + add_offset```"
   ],
   "metadata": {
    "collapsed": false
   }
  },
  {
   "cell_type": "code",
   "execution_count": 11,
   "outputs": [
    {
     "data": {
      "text/plain": "{'attributes': {'title': 'TROPOS pyranometer network (PyrNet) observations',\n  'institution': 'Leibniz Institute for Tropospheric Research (TROPOS)',\n  'department': 'Remote Sensing of Atmospheric Processes',\n  'department_team': 'Clouds, Aerosol and Radiation',\n  'address': 'Permoser Str. 15, 04318 Leipzig, Germany',\n  'source': 'TROPOS pyranometer network (PyrNet)',\n  'contact_person': 'Andreas Macke and the clouds, aerosol and radiation team of the remote sensing department, mailto:andreas.macke@tropos.de',\n  'contributor_name': '{contributor_name}',\n  'contributor_role': '{contributor_role}',\n  'authors_software': 'Hartwig Deneke, Jonas Witthuhn, mailto:deneke@tropos.de',\n  'creator_name': '{creator_name}',\n  'project': '{project}',\n  'references': 'https://doi.org/10.5194/amt-9-1153-2016',\n  'standard_name_vocabulary': 'CF Standard Name Table v81',\n  'conventions': 'CF-1.10, ACDD-1.3',\n  'license': 'CC-BY-SA 3.0'},\n 'variables': {'ta': {'type': 'u2',\n   'attributes': {'units': 'K',\n    'long_name': 'air temperature',\n    'standard_name': 'air_temperature',\n    'scale_factor': 0.0001,\n    'add_offset': 253.15,\n    '_FillValue': 65535,\n    'valid_range': [0, 10000],\n    'zlib': True}},\n  'rh': {'type': 'u2',\n   'attributes': {'units': '1',\n    'long_name': 'air relative humidity',\n    'standard_name': 'relative_humidity',\n    'scale_factor': 0.0001,\n    'add_offset': 0.0,\n    'valid_range': [0, 10000],\n    '_FillValue': 65535,\n    'zlib': True}},\n  'battery_voltage': {'type': 'u2',\n   'attributes': {'units': 'V',\n    'standard_name': 'battery_voltage',\n    'scale_factor': 0.001,\n    'add_offset': 0.0,\n    'valid_range': [0, 6400],\n    '_FillValue': 65535,\n    'zlib': True}},\n  'ghi': {'type': 'u2',\n   'attributes': {'units': 'W m-2',\n    'long_name': 'downwelling shortwave flux',\n    'standard_name': 'downwelling_shortwave_flux_in_air',\n    'scale_factor': 0.025,\n    'add_offset': 0.0,\n    'valid_range': [0, 60000],\n    '_FillValue': 65535,\n    'zlib': True}},\n  'gti': {'type': 'u2',\n   'attributes': {'units': 'V',\n    'long_name': 'downwelling shortwave flux measured on secondary platform, might be tilted',\n    'standard_name': 'downwelling_shortwave_flux_in_air',\n    'scale_factor': 0.025,\n    'add_offset': 0.0,\n    'valid_range': [0, 60000],\n    '_FillValue': 65535,\n    'zlib': True}},\n  'station': {'type': 'u1',\n   'attributes': {'units': '-',\n    'long_name': 'PyrNet unit box number',\n    '_FillValue': 255,\n    'zlib': True}},\n  'szen': {'type': 'u2',\n   'attributes': {'standard_name': 'solar_zenith_angle',\n    'units': 'degree',\n    'scale_factor': 0.005,\n    'add_offset': 0.0,\n    'valid_range': [0, 36000],\n    '_FillValue': 65535,\n    'zlib': True}},\n  'sazi': {'type': 'u2',\n   'attributes': {'standard_name': 'solar_azimuth_angle',\n    'units': 'degree',\n    'scale_factor': 0.01,\n    'add_offset': 0.0,\n    'valid_range': [0, 36000],\n    '_FillValue': 65535,\n    'zlib': True}},\n  'esd': {'type': 'u2',\n   'attributes': {'standard_name': 'earth_sun_distance',\n    'units': 'AU',\n    'scale_factor': 1e-06,\n    'add_offset': 0.98,\n    'valid_range': [0, 40000],\n    '_FillValue': 65535,\n    'zlib': True}},\n  'maintenance_flag_ghi': {'type': 'u1',\n   'attributes': {'standard_name': 'quality_flag',\n    'long_name': 'Maintenance quality control flags for main pyranometer',\n    'note': 'Soiling describes subjectively the coverage of the pyranometer dome with dirt. The level flag is problematic if the bubble of the spirit level touches the reference ring, and bad if it is outside.',\n    'valid_range': [0, 11],\n    'flag_masks': [3, 3, 3, 12, 12],\n    'flag_values': [1, 2, 3, 4, 8],\n    'flag_meanings': 'soiling_light soiling_moderate soiling_heavy level_problematic level_bad',\n    '_FillValue': 255,\n    'zlib': True}},\n  'maintenance_flag_gti': {'type': 'u1',\n   'attributes': {'standard_name': 'quality_flag',\n    'long_name': 'Maintenance quality control flags for secondary pyranometer',\n    'note': 'Soiling describes subjectively the coverage of the pyranometer dome with dirt. The level flag is problematic if the bubble of the spirit level touches the reference ring, and bad if it is outside.',\n    'valid_range': [0, 11],\n    'flag_masks': [3, 3, 3, 12, 12],\n    'flag_values': [1, 2, 3, 4, 8],\n    'flag_meanings': 'soiling_light soiling_moderate soiling_heavy level_problematic level_bad',\n    '_FillValue': 255,\n    'zlib': True}},\n  'lat': {'type': 'u4',\n   'attributes': {'standard_name': 'latitude',\n    'units': 'degree_north',\n    'scale_factor': 1e-06,\n    'add_offset': -90,\n    'valid_range': [0, 180000000],\n    '_FillValue': 4294967295,\n    'zlib': True}},\n  'lon': {'type': 'u4',\n   'attributes': {'standard_name': 'longitude',\n    'units': 'degree_east',\n    'scale_factor': 1e-06,\n    'add_offset': -180,\n    'valid_range': [0, 360000000],\n    '_FillValue': 4294967295,\n    'zlib': True}},\n  'iadc': {'type': 'u4',\n   'attributes': {'standard_name': 'index',\n    'comment': 'index to map gps to adc records',\n    'units': '-',\n    '_FillValue': 4294967295,\n    'zlib': True}},\n  'adctime': {'type': 'u4',\n   'attributes': {'standard_name': 'time',\n    '_FillValue': 4294967295,\n    'zlib': True}},\n  'time': {'type': 'f8',\n   'attributes': {'standard_name': 'time', 'zlib': True}}}}"
     },
     "execution_count": 11,
     "metadata": {},
     "output_type": "execute_result"
    }
   ],
   "source": [
    "#|dropcode\n",
    "#|dropout\n",
    "fn_cfjson = pkg_res.resource_filename(\"pyrnet\", \"share/pyrnet_cfmeta.json\")\n",
    "pyrnet.utils.read_json(fn_cfjson)"
   ],
   "metadata": {
    "collapsed": false,
    "ExecuteTime": {
     "end_time": "2024-02-12T12:45:01.512825700Z",
     "start_time": "2024-02-12T12:45:01.401327200Z"
    }
   }
  },
  {
   "cell_type": "markdown",
   "source": [
    "### Irradiance values\n",
    "\n",
    "Irradiance values are stored as Voltage for later calibration. Assigning 1500Wm-2 as maximum measurable irradiance from the irradiance sensor. The maximum counts (*valid_max*) measured by the logger can be calculated by:\n",
    " * maximum counts = $\\mathrm{gain}*1500*\\mathrm{C_{max}}*1023/3.3$\n",
    "\n",
    "Most calibration factors are in the area of 7.5 uV/Wm-2, assuming $\\mathrm{C_{max}}=8$uV/Wm-2 for this estimate seems sufficient. All radiation sensors are amplified with a fixed gain of $\\mathrm{gain}=300$.\n",
    "\n",
    "Later (level 1c+) the scale factor will be instrument specific by adding the calibration from V to W m-2\n",
    "\n",
    "### Temperature and humidity\n",
    "\n",
    "\n",
    "Calibration coefficients for Temperature and Humidity DKRF-4000 series (discontinued) https://www.driesen-kern.de/downloads/produktlinie_feuchte.pdf are:\n",
    " * Temperature (T) range :-20-80 degC  from 0-5V\n",
    " * relative Humidity (rH) range: 0-100% from 0-5V\n",
    "\n",
    "As the logger ADC range is 0-3.3V with a 10bit resolution, the sensors are measured through a voltage splitting circuit. Therefore, the ADC counts have to be doubled.\n",
    " * Voltage U [V] = $2* 3.3/1023$ [counts]\n",
    " * T = $-20 + 100*(U/5)$ [degC] = $253.15 + 100*(U/5)$ [K]\n",
    " * rH = $(U/5)$  [%]  = $(U/5)$    [%]\n",
    "\n",
    "### Ancillary data\n",
    "\n",
    "* solar zenith angle (*szen*)\n",
    "    * valid range unpacked: (0,180) (deg)\n",
    "    * packing in u2 integer (unsigned 16bit)\n",
    "        * fill value = $2^{16} - 1$\n",
    "        * scale_factor = $180 /(2^{16}-2)$\n",
    "* solar azimuth angle (*sazi*)\n",
    "    * valid range unpacked: (0,360)\n",
    "    * packing in u2 integer (unsigned 16bit)\n",
    "        * fill_value = $2^{16} -1$\n",
    "        * scale_factor= $360 / (2^{16}-2)$\n",
    "* earth sun distance (*esd*)\n",
    "    * valid range unpacked: (0.98,1.02)\n",
    "    * packing in u2 integer (unsigned 16bit)\n",
    "        * fill_value = $2^{16} -1$\n",
    "        * scale_factor= $(1.02-0.98)/(2^{16}-2)$\n",
    "        * add_offset = 0.98\n"
   ],
   "metadata": {
    "collapsed": false
   }
  },
  {
   "cell_type": "code",
   "execution_count": 12,
   "outputs": [
    {
     "name": "stdout",
     "output_type": "stream",
     "text": [
      "ta scale_factor: 0.12903225806451613\n",
      "ta add_offset: 253.15\n",
      "ta valid_range: [0, 775]\n",
      "\n",
      "rh scale_factor: 0.0012903225806451613\n",
      "rh add_offset: 0\n",
      "rh valid_range: [0, 775]\n",
      "\n",
      "battery scale_factor: 0.0064516129032258064\n",
      "battery add_offset: 0\n",
      "battery valid_range: [0, 992]\n",
      "\n",
      "radflux scale_factor: 1.075268817204301e-05\n",
      "radflux add_offset: 0\n",
      "radflux valid_range: [0, 1023]\n",
      "\n",
      "scale_factor szen (deg): 0.005\n",
      "add_offset szen: 0.0 \n",
      "valid_range szen: [0, 36000]\n",
      "\n",
      "scale_factor sazi (deg): 0.01\n",
      "add_offset sazi: 0.0 \n",
      "valid_range sazi: [0, 36000]\n",
      "\n",
      "scale_factor esd (AU): 1.0000000000000008e-06\n",
      "add_offset esd: 0.98 \n",
      "valid_range esd: [0, 40000]\n",
      "\n",
      "scale_factor lat (degree_north): 1e-06\n",
      "add_offset lat (degree_north): -90.\n",
      "valid_range lat: [0, 180_000_000]\n",
      "\n",
      "scale_factor lon (degree_east): 1e-06\n",
      "add_offset lon (degree_east): -180.\n",
      "valid_range lon: [0, 360_000_000]\n"
     ]
    }
   ],
   "source": [
    "#|dropcode\n",
    "#|dropout\n",
    "sensor_config = {\n",
    "    \"ta\": {\n",
    "        \"C\": 100./5., # K/V\n",
    "        \"offset\": 253.15, # K at 0V\n",
    "        \"gain\": 0.5, # measured over voltage splitter\n",
    "        \"Vmax\": 5, # V output at sensor\n",
    "    },\n",
    "    \"rh\": {\n",
    "        \"C\": 1./5., # 1/V\n",
    "        \"offset\": 0, # 0 at 0V\n",
    "        \"gain\": 0.5, # measured over voltage splitter\n",
    "        \"Vmax\": 5, # V output at sensor\n",
    "    },\n",
    "    \"battery\": {\n",
    "        \"C\": 1., # V(batt)/V\n",
    "        \"offset\": 0, # V at 0V\n",
    "        \"gain\": 0.5, # measured over voltage splitter\n",
    "        \"Vmax\": 6.4, # V output at sensor\n",
    "    },\n",
    "    \"radflux\": {\n",
    "        \"C\": 1., # Vsensor/Vmeasured\n",
    "        \"offset\": 0, # V at 0V\n",
    "        \"gain\": 300, # amplified\n",
    "        \"Vmax\": 1500*8*1e-6, # V output at sensor\n",
    "    },\n",
    "}\n",
    "ADCfac = 3.3/1023. # V/counts\n",
    "for var in sensor_config:\n",
    "    sconf = sensor_config[var]\n",
    "    print(f\"{var} scale_factor: {sconf['C']*ADCfac/sconf['gain']}\")\n",
    "    print(f\"{var} add_offset: {sconf['offset']}\")\n",
    "    print(f\"{var} valid_range: [0, {min((1023, int(sconf['Vmax']*sconf['gain']/ADCfac)))}]\")\n",
    "    print()\n",
    "\n",
    "# szen encoding\n",
    "print(f\"scale_factor szen (deg): {180./(36_000)}\")\n",
    "print(f\"add_offset szen: 0.0 \")\n",
    "print(f\"valid_range szen: [0, {36_000}]\")\n",
    "print()\n",
    "# sazi encoding\n",
    "print(f\"scale_factor sazi (deg): {360./(36_000)}\")\n",
    "print(f\"add_offset sazi: 0.0 \")\n",
    "print(f\"valid_range sazi: [0, {36_000}]\")\n",
    "print()\n",
    "# esd encoding\n",
    "print(f\"scale_factor esd (AU): {(1.02-0.98)/(40_000)}\")\n",
    "print(f\"add_offset esd: 0.98 \")\n",
    "print(f\"valid_range esd: [0, {40_000}]\")\n",
    "print()\n",
    "# lat encoding\n",
    "print(f\"scale_factor lat (degree_north): {(90.-(-90.))/180_000_000}\")\n",
    "print(f\"add_offset lat (degree_north): -90.\")\n",
    "print(f\"valid_range lat: [0, 180_000_000]\")\n",
    "print()\n",
    "# lon encoding\n",
    "print(f\"scale_factor lon (degree_east): {(180.-(-180.))/360_000_000}\")\n",
    "print(f\"add_offset lon (degree_east): -180.\")\n",
    "print(f\"valid_range lon: [0, 360_000_000]\")\n",
    "print()"
   ],
   "metadata": {
    "collapsed": false,
    "ExecuteTime": {
     "end_time": "2024-02-12T12:45:01.638349400Z",
     "start_time": "2024-02-12T12:45:01.432045500Z"
    }
   }
  },
  {
   "cell_type": "code",
   "execution_count": 13,
   "outputs": [],
   "source": [
    "#|export\n",
    "def add_encoding(ds, vencode=None):\n",
    "    \"\"\"\n",
    "    Set valid_range attribute and encoding to every variable of the dataset.\n",
    "\n",
    "    Parameters\n",
    "    ----------\n",
    "    ds: xr.Dataset\n",
    "        Dataset of any processing level. The processing level will be\n",
    "        determined by the global attribute 'processing_level'.\n",
    "    vencode: dict or None\n",
    "        Dictionary of encoding attributes by variable name, will be merged with pyrnet default cfmeta. The default is None.\n",
    "\n",
    "    Returns\n",
    "    -------\n",
    "    xr.Dataset\n",
    "        The input dataset but with encoding and valid_range attribute.\n",
    "    \"\"\"\n",
    "    # prepare netcdf encoding\n",
    "    _, vattrs_default, vencode_default = get_cfmeta()\n",
    "\n",
    "    # Add valid range temporary to encoding dict.\n",
    "    # As valid_range is not implemented in xarray encoding,\n",
    "    #  it has to be stored as a variable attribute later.\n",
    "    for k in vencode_default:\n",
    "        if \"valid_range\" not in vencode_default[k]:\n",
    "            continue\n",
    "        vencode_default = assoc_in(vencode_default,\n",
    "                                   [k,'valid_range'],\n",
    "                                   vattrs_default['valid_range'])\n",
    "\n",
    "    # merge input and default with preference on input\n",
    "    if vencode is None:\n",
    "        vencode = vencode_default\n",
    "    else:\n",
    "        a = vencode_default.copy()\n",
    "        b = vencode.copy()\n",
    "        vencode = {}\n",
    "        for k in set(a)-set(b):\n",
    "            vencode.update({k:a[k]})\n",
    "        for k in set(a)&set(b):\n",
    "            vencode.update({k: {**a[k],**b[k]}})\n",
    "        for k in set(b)-set(a):\n",
    "            vencode.update({k:b[k]})\n",
    "\n",
    "    # add encoding to Dataset\n",
    "    for k, v in vencode.items():\n",
    "        if k not in ds:\n",
    "            continue\n",
    "        for ki in [key for key in ds if key.startswith(k)]:\n",
    "            ds[ki].encoding.update(v)\n",
    "        if \"valid_range\" not in vencode[k]:\n",
    "            continue\n",
    "        # add valid_range to variable attributes\n",
    "        for ki in [key for key in ds if key.startswith(k)]:\n",
    "            ds[ki].attrs.update({\n",
    "                'valid_range': vencode[k]['valid_range']\n",
    "            })\n",
    "            \n",
    "    # add encoding to coords\n",
    "    if ds.processing_level=='l1a':\n",
    "        ds[\"gpstime\"].encoding.update({\n",
    "            **vencode[\"time\"],\n",
    "            \"units\": f\"seconds since {np.datetime_as_string(ds.gpstime.data[0], unit='D')}T00:00Z\",\n",
    "        })\n",
    "        ds[\"maintenancetime\"].encoding.update({\n",
    "            **vencode[\"time\"],\n",
    "            \"units\": f\"seconds since {np.datetime_as_string(ds.maintenancetime.data[0], unit='D')}T00:00Z\",\n",
    "        })\n",
    "        ds[\"adctime\"].encoding.update({\n",
    "            **vencode[\"adctime\"],\n",
    "            \"units\": \"milliseconds\"\n",
    "        })\n",
    "        ds[\"station\"].encoding.update({\n",
    "            **vencode[\"station\"]\n",
    "        })\n",
    "    elif ds.processing_level == 'l1b':\n",
    "        ds[\"time\"].encoding.update({\n",
    "            **vencode[\"time\"],\n",
    "            \"units\": f\"seconds since {np.datetime_as_string(ds.time.data[0], unit='D')}T00:00Z\",\n",
    "        })\n",
    "        ds[\"maintenancetime\"].encoding.update({\n",
    "            **vencode[\"time\"],\n",
    "            \"units\": f\"seconds since {np.datetime_as_string(ds.maintenancetime.data[0], unit='D')}T00:00Z\",\n",
    "        })\n",
    "    else:\n",
    "        raise ValueError(\"Dataset has no 'processing_level' attribute.\")\n",
    "    return ds"
   ],
   "metadata": {
    "collapsed": false,
    "ExecuteTime": {
     "end_time": "2024-02-12T12:45:01.699787500Z",
     "start_time": "2024-02-12T12:45:01.453672700Z"
    }
   }
  },
  {
   "cell_type": "markdown",
   "source": [
    "## l1a\n",
    "Full resolution unprocessed, uncalibrated data. One data file corresponds to one maintenance period of one PyrNet station.\n",
    "\n",
    "Level *l1a* will be processed from the logger raw data with the following workflow:\n",
    "\n",
    "1. Parse raw logger file\n",
    "    * ```pyrnet.logger.read_records```\n",
    "1. Get maintenance logbook quality flags\n",
    "    * ```pyrnet.reports```\n",
    "1. Get metadata and encoding\n",
    "    * ```pyrnet_cfmeta_l1b.json```\n",
    "1. Make xarray Dataset\n",
    "1. Add variable and global attributes and encoding"
   ],
   "metadata": {
    "collapsed": false
   }
  },
  {
   "cell_type": "code",
   "execution_count": 14,
   "outputs": [],
   "source": [
    "config = get_config()\n",
    "gattrs, vattrs, vencode = get_cfmeta(config)\n",
    "\n",
    "# update encoding with sensor config for l1a\n",
    "sconfig = get_sensor_config()\n",
    "sencoding = calc_encoding(sconfig, ADCV=3.3, ADCbits=10)"
   ],
   "metadata": {
    "collapsed": false,
    "ExecuteTime": {
     "end_time": "2024-02-12T12:45:01.709631200Z",
     "start_time": "2024-02-12T12:45:01.479327300Z"
    }
   }
  },
  {
   "cell_type": "code",
   "execution_count": 15,
   "outputs": [
    {
     "data": {
      "text/plain": "{'ta': {'scale_factor': 0.12903225806451613,\n  'add_offset': 253.15,\n  '_FillValue': 65535,\n  'zlib': True,\n  'dtype': 'u2',\n  'gzip': True,\n  'complevel': 6,\n  'units': 'K'},\n 'rh': {'scale_factor': 0.0012903225806451613,\n  'add_offset': 0.0,\n  '_FillValue': 65535,\n  'zlib': True,\n  'dtype': 'u2',\n  'gzip': True,\n  'complevel': 6,\n  'units': '1'},\n 'battery_voltage': {'scale_factor': 0.0064516129032258064,\n  'add_offset': 0.0,\n  '_FillValue': 65535,\n  'zlib': True,\n  'dtype': 'u2',\n  'gzip': True,\n  'complevel': 6,\n  'units': 'V'},\n 'ghi': {'scale_factor': 1.075268817204301e-05,\n  'add_offset': 0.0,\n  '_FillValue': 65535,\n  'zlib': True,\n  'dtype': 'u2',\n  'gzip': True,\n  'complevel': 6,\n  'units': 'V'},\n 'gti': {'scale_factor': 1.075268817204301e-05,\n  'add_offset': 0.0,\n  '_FillValue': 65535,\n  'zlib': True,\n  'dtype': 'u2',\n  'gzip': True,\n  'complevel': 6,\n  'units': 'V'},\n 'station': {'_FillValue': 255,\n  'zlib': True,\n  'dtype': 'u1',\n  'gzip': True,\n  'complevel': 6},\n 'szen': {'scale_factor': 0.005,\n  'add_offset': 0.0,\n  '_FillValue': 65535,\n  'zlib': True,\n  'dtype': 'u2',\n  'gzip': True,\n  'complevel': 6},\n 'sazi': {'scale_factor': 0.01,\n  'add_offset': 0.0,\n  '_FillValue': 65535,\n  'zlib': True,\n  'dtype': 'u2',\n  'gzip': True,\n  'complevel': 6},\n 'esd': {'scale_factor': 1e-06,\n  'add_offset': 0.98,\n  '_FillValue': 65535,\n  'zlib': True,\n  'dtype': 'u2',\n  'gzip': True,\n  'complevel': 6},\n 'maintenance_flag_ghi': {'_FillValue': 255,\n  'zlib': True,\n  'dtype': 'u1',\n  'gzip': True,\n  'complevel': 6},\n 'maintenance_flag_gti': {'_FillValue': 255,\n  'zlib': True,\n  'dtype': 'u1',\n  'gzip': True,\n  'complevel': 6},\n 'lat': {'scale_factor': 1e-06,\n  'add_offset': -90,\n  '_FillValue': 4294967295,\n  'zlib': True,\n  'dtype': 'u4',\n  'gzip': True,\n  'complevel': 6},\n 'lon': {'scale_factor': 1e-06,\n  'add_offset': -180,\n  '_FillValue': 4294967295,\n  'zlib': True,\n  'dtype': 'u4',\n  'gzip': True,\n  'complevel': 6},\n 'iadc': {'_FillValue': 4294967295,\n  'zlib': True,\n  'dtype': 'u4',\n  'gzip': True,\n  'complevel': 6},\n 'adctime': {'_FillValue': 4294967295,\n  'zlib': True,\n  'dtype': 'u4',\n  'gzip': True,\n  'complevel': 6},\n 'time': {'zlib': True, 'dtype': 'f8', 'gzip': True, 'complevel': 6}}"
     },
     "execution_count": 15,
     "metadata": {},
     "output_type": "execute_result"
    }
   ],
   "source": [
    "# from toolz import update_in\n",
    "for var,enc in sencoding.items():\n",
    "    for k,v in enc.items():\n",
    "        if k==\"valid_range\":\n",
    "            vattrs = assoc_in(vattrs, [var,k], v)\n",
    "        else:\n",
    "            vencode = assoc_in(vencode, [var,k], v)\n",
    "vencode"
   ],
   "metadata": {
    "collapsed": false,
    "ExecuteTime": {
     "end_time": "2024-02-12T12:45:01.719642900Z",
     "start_time": "2024-02-12T12:45:01.509167400Z"
    }
   }
  },
  {
   "cell_type": "markdown",
   "source": [
    "## to l1a_function"
   ],
   "metadata": {
    "collapsed": false
   }
  },
  {
   "cell_type": "code",
   "execution_count": 16,
   "outputs": [],
   "source": [
    "#|export\n",
    "def to_l1a(\n",
    "        fname : str,\n",
    "        *,\n",
    "        station: int,\n",
    "        report: dict|pd.DataFrame|None,\n",
    "        date_of_measure : np.datetime64 = np.datetime64(\"now\"),\n",
    "        config: dict|None = None,\n",
    "        sconfig: dict|None = None,\n",
    "        global_attrs: dict|None = None\n",
    ") -> xr.Dataset|None:\n",
    "    \"\"\"\n",
    "    Read logger raw file and parse it to xarray Dataset. Thereby, attributes and names are defined via cfmeta.json file and sun position values are calculated and added.\n",
    "\n",
    "    Parameters\n",
    "    ----------\n",
    "    fname: str\n",
    "        Path and filename of the raw logger file.\n",
    "    station: int\n",
    "        PyrNet station box number.\n",
    "    report: dict\n",
    "        Parsed maintenance report, see reports.ipynb\n",
    "    bins: int\n",
    "        Number of desired bins per day. The default is 86400, which result in\n",
    "        mean values of 1 second steps per day. Maximum resolution is 86400000.\n",
    "    date_of_measure: float, datetime or datetime64\n",
    "        A rough date of measure  to account for GPS week rollover. If measured in 2019, day resolution is recommended, before 2019 annual resolution, 2020 onwards not required. If float, interpreted as Julian day from 2000-01-01T12:00. the default is np.datetime64(\"now\").\n",
    "    config: dict\n",
    "        Stores processing specific configuration.\n",
    "            * cfjson -> path to cfmeta.json, the default is \"../share/pyrnet_cfmeta.json\"\n",
    "            * stripminutes -> number of minutes to be stripped from the data at start and end,\n",
    "                the default is 5.\n",
    "    sconfig: dict\n",
    "        Config for ADC and amplifier for each sensor. The default is \"../share/pyrnet_sensor_config.json\"\n",
    "    global_attrs: dict\n",
    "        Additional global attributes for the Dataset. (Overrides cfmeta.json attributes)\n",
    "    Returns\n",
    "    -------\n",
    "    xarray.Dataset\n",
    "        Raw Logger data for one measurement periode.\n",
    "    \"\"\"\n",
    "    ADCV = 3.3\n",
    "    ADCbits = 10\n",
    "    \n",
    "    # load and merge  default config\n",
    "    config = get_config(config)\n",
    "    gattrs, vattrs, vencode = get_cfmeta(config)\n",
    "    \n",
    "    # update encoding with sensor config for l1a\n",
    "    sconfig = get_sensor_config(sconfig)\n",
    "    sencoding = calc_encoding(sconfig, ADCV=ADCV, ADCbits=ADCbits)\n",
    "    # update encoding with sensor config for l1a\n",
    "    for var, enc in sencoding.items():\n",
    "        for k, v in enc.items():\n",
    "            if k in [\"valid_range\", \"units\"]:\n",
    "                vattrs = assoc_in(vattrs, [var, k], v)\n",
    "            else:\n",
    "                vencode = assoc_in(vencode, [var, k], v)\n",
    "                \n",
    "    # update additional global attributes\n",
    "    if global_attrs is not None:\n",
    "        gattrs.update(global_attrs)\n",
    "\n",
    "    date_of_measure = pyrnet.utils.to_datetime64(date_of_measure)\n",
    "\n",
    "    # 1. Parse raw file\n",
    "    rec_adc, rec_gprmc = pyrnet.logger.read_records(fname=fname, date_of_measure=date_of_measure)\n",
    "\n",
    "    if type(rec_adc)==bool or len(rec_gprmc.time)<3:\n",
    "        logger.debug(\"Failed to load the data from the file, because of not enough stable GPS data, or file is empty.\")\n",
    "        return None\n",
    "\n",
    "    # Get ADC time\n",
    "    adctime = pyrnet.logger.get_adc_time(rec_adc)\n",
    "\n",
    "    # ADC to Volts\n",
    "    # Drop time and internal battery sensor output (columns 0 and 1)\n",
    "    adc_volts = ADCV * rec_adc[:,2:] / float(2**ADCbits - 1)\n",
    "\n",
    "    # 2. Get Logbook maintenance quality flags\n",
    "    key = f\"{station:03d}\"\n",
    "    if report is None:\n",
    "        logger.warning(\"No report available!\")\n",
    "        report = {}\n",
    "    if isinstance(report, pd.DataFrame):\n",
    "        logger.info(f\"Parsing report at date {rec_gprmc.time[-1]}\")\n",
    "        report = pyrnet.reports.parse_report(\n",
    "            report,\n",
    "            date_of_maintenance=rec_gprmc.time[-1],\n",
    "            stations=station\n",
    "        )\n",
    "\n",
    "    if key not in report:\n",
    "        logger.warning(f\"No report for station {station} available.\")\n",
    "        warnings.warn(f\"No report for station {station} available.\")\n",
    "        qc_main = pyrnet.reports.get_qcflag(4,3)\n",
    "        qc_extra = pyrnet.reports.get_qcflag(4,3)\n",
    "        vattrs = assoc_in(vattrs, [\"maintenance_flag_ghi\",\"note_general\"], \"No maintenance report!\")\n",
    "        vattrs = assoc_in(vattrs, [\"maintenance_flag_gti\",\"note_general\"], \"No maintenance report!\")\n",
    "        maintenancetime = np.array([rec_gprmc.time.astype('datetime64[ns]')[-1]])\n",
    "    else:\n",
    "        qc_main = pyrnet.reports.get_qcflag(\n",
    "            qc_clean=report[key]['clean'],\n",
    "            qc_level=report[key]['align']\n",
    "        )\n",
    "        qc_extra = pyrnet.reports.get_qcflag(\n",
    "            qc_clean=report[key]['clean2'],\n",
    "            qc_level=report[key]['align2']\n",
    "        )\n",
    "        maintenancetime = np.array([pyrnet.utils.to_datetime64(report[key][\"maintenancetime\"])]) \n",
    "        # add qc notes\n",
    "        vattrs = assoc_in(vattrs, [\"maintenance_flag_ghi\",\"note_general\"], report[key][\"note_general\"])\n",
    "        vattrs = assoc_in(vattrs, [\"maintenance_flag_gti\",\"note_general\"], report[key][\"note_general\"])\n",
    "        vattrs = assoc_in(vattrs, [\"maintenance_flag_ghi\",\"note_clean\"], report[key][\"note_clean\"])\n",
    "        vattrs = assoc_in(vattrs, [\"maintenance_flag_gti\",\"note_clean\"], report[key][\"note_clean2\"])\n",
    "        vattrs = assoc_in(vattrs, [\"maintenance_flag_ghi\",\"note_level\"], report[key][\"note_align\"])\n",
    "        vattrs = assoc_in(vattrs, [\"maintenance_flag_gti\",\"note_level\"], report[key][\"note_align2\"])\n",
    "    qc_main = np.ubyte(qc_main)\n",
    "    qc_extra = np.ubyte(qc_extra)\n",
    "\n",
    "    # 3. Add global meta data\n",
    "    now = pd.to_datetime(np.datetime64(\"now\"))\n",
    "    gattrs.update({\n",
    "        'processing_level': 'l1a',\n",
    "        'product_version': pyrnet_version,\n",
    "        'history': f'{now.isoformat()}: Generated level l1a  by pyrnet version {pyrnet_version}; ',\n",
    "    })\n",
    "    # add site information\n",
    "    if config['sites'] is not None:\n",
    "        sites = pyrnet.utils.read_json(config['file_site'])[config['sites']]\n",
    "        if key in sites:\n",
    "            gattrs.update({ \"site\" : sites[key]})\n",
    "\n",
    "    # add gti angles\n",
    "    # default horizontal\n",
    "    vattrs = assoc_in(vattrs, [\"gti\",\"hangle\"], 0.)\n",
    "    vattrs = assoc_in(vattrs, [\"gti\",\"vangle\"], 0.)\n",
    "    # update with angles from mapping file\n",
    "    if config['gti_angles'] is not None:\n",
    "        gti_angles = pyrnet.utils.read_json(config['file_gti_angles'])[config['gti_angles']]\n",
    "        if key in gti_angles:\n",
    "            hangle = np.nan if gti_angles[key][0] is None else gti_angles[key][0]\n",
    "            vangle = np.nan if gti_angles[key][1] is None else gti_angles[key][1]\n",
    "            vattrs = assoc_in(vattrs, [\"gti\",\"hangle\"], hangle)\n",
    "            vattrs = assoc_in(vattrs, [\"gti\",\"vangle\"], vangle)\n",
    "\n",
    "    if adc_volts.shape[1]<5: # gti data is not available\n",
    "        adc_volts = np.concatenate((adc_volts,-1*np.ones(adc_volts.shape[0])[:,None]),axis=1)\n",
    "\n",
    "    # 8. Make xarray Dataset\n",
    "    values = {}\n",
    "    for k,v in sconfig.items():\n",
    "        offset = sconfig[k][\"offset\"]\n",
    "        gain = sconfig[k][\"gain\"]\n",
    "        C = sconfig[k][\"C\"]\n",
    "        iadc = sconfig[k][\"iadc\"]\n",
    "        volts = adc_volts[:,iadc][:,None]\n",
    "        values.update(\n",
    "            {k: offset + C*volts/gain}\n",
    "        )\n",
    "    ds = xr.Dataset(\n",
    "        data_vars={\n",
    "            \"ghi\": ((\"adctime\",\"station\"), values[\"ghi\"]), # [V]\n",
    "            \"gti\": ((\"adctime\",\"station\"), values[\"gti\"]), # [V]\n",
    "            \"ta\": ((\"adctime\",\"station\"), values[\"ta\"]), # [K]\n",
    "            \"rh\": ((\"adctime\",\"station\"), values[\"rh\"]), # [-]\n",
    "            \"battery_voltage\": ((\"adctime\",\"station\"), values[\"battery_voltage\"]), # [V]\n",
    "            \"lat\": ((\"gpstime\",\"station\"), rec_gprmc.lat[:,None]), # [degN]\n",
    "            \"lon\": ((\"gpstime\",\"station\"), rec_gprmc.lon[:,None]), # [degE]\n",
    "            \"maintenance_flag_ghi\": ((\"maintenancetime\",\"station\"), [[qc_main]]),\n",
    "            \"maintenance_flag_gti\": ((\"maintenancetime\",\"station\"), [[qc_extra]]),\n",
    "            \"iadc\": ((\"gpstime\", \"station\"), rec_gprmc.iadc[:,None])\n",
    "        },\n",
    "        coords={\n",
    "            \"adctime\": (\"adctime\", adctime.astype('timedelta64[ns]')),\n",
    "            \"gpstime\": (\"gpstime\", rec_gprmc.time.astype('datetime64[ns]')),\n",
    "            \"maintenancetime\": (\"maintenancetime\", maintenancetime),\n",
    "            \"station\": (\"station\", [np.ubyte(station)]),\n",
    "        },\n",
    "        attrs=gattrs\n",
    "    )\n",
    "\n",
    "    # drop ocurance of douplicate gps values\n",
    "    ds = ds.drop_duplicates(\"gpstime\")\n",
    "\n",
    "    # add global coverage attributes\n",
    "    ds = update_coverage_meta(ds, timevar=\"gpstime\")\n",
    "\n",
    "    # add attributes to Dataset\n",
    "    for k,v in vattrs.items():\n",
    "        if k not in ds.keys():\n",
    "            continue\n",
    "        ds[k].attrs = v\n",
    "\n",
    "    # add encoding to Dataset\n",
    "    ds = add_encoding(ds, vencode)\n",
    "\n",
    "    return ds"
   ],
   "metadata": {
    "collapsed": false,
    "ExecuteTime": {
     "end_time": "2024-02-12T12:45:01.719642900Z",
     "start_time": "2024-02-12T12:45:01.522826200Z"
    }
   }
  },
  {
   "cell_type": "markdown",
   "source": [
    "## Test to_l1a function"
   ],
   "metadata": {
    "collapsed": false
   }
  },
  {
   "cell_type": "code",
   "execution_count": 17,
   "outputs": [
    {
     "data": {
      "text/plain": "<xarray.Dataset>\nDimensions:               (adctime: 77, station: 1, gpstime: 5,\n                           maintenancetime: 1)\nCoordinates:\n  * adctime               (adctime) timedelta64[ns] 00:00:00 ... 00:00:07.600000\n  * gpstime               (gpstime) datetime64[ns] 2022-08-30T11:21:04.065000...\n  * maintenancetime       (maintenancetime) datetime64[ns] 2023-05-08T16:09:06\n  * station               (station) uint8 1\nData variables:\n    ghi                   (adctime, station) float64 0.002086 ... 0.002086\n    gti                   (adctime, station) float64 0.001935 ... 0.001935\n    ta                    (adctime, station) float64 294.7 294.7 ... 294.8 295.0\n    rh                    (adctime, station) float64 0.6245 0.6245 ... 0.6297\n    battery_voltage       (adctime, station) float64 6.452 6.439 ... 6.465 6.452\n    lat                   (gpstime, station) float64 51.39 51.39 ... 51.39 51.39\n    lon                   (gpstime, station) float64 11.89 11.89 ... 11.89 11.89\n    maintenance_flag_ghi  (maintenancetime, station) uint8 9\n    maintenance_flag_gti  (maintenancetime, station) uint8 7\n    iadc                  (gpstime, station) uint32 26 35 54 64 74\nAttributes: (12/31)\n    title:                     TROPOS pyranometer network (PyrNet) observations\n    institution:               Leibniz Institute for Tropospheric Research (T...\n    department:                Remote Sensing of Atmospheric Processes\n    department_team:           Clouds, Aerosol and Radiation\n    address:                   Permoser Str. 15, 04318 Leipzig, Germany\n    source:                    TROPOS pyranometer network (PyrNet)\n    ...                        ...\n    geospatial_lon_max:        11.885256666666667\n    geospatial_lon_units:      degE\n    time_coverage_start:       2022-08-30T11:21:04.065000\n    time_coverage_end:         2022-08-30T11:21:09\n    time_coverage_duration:    P0DT0H0M4.935S\n    time_coverage_resolution:  P0DT0H0M1.23375S",
      "text/html": "<div><svg style=\"position: absolute; width: 0; height: 0; overflow: hidden\">\n<defs>\n<symbol id=\"icon-database\" viewBox=\"0 0 32 32\">\n<path d=\"M16 0c-8.837 0-16 2.239-16 5v4c0 2.761 7.163 5 16 5s16-2.239 16-5v-4c0-2.761-7.163-5-16-5z\"></path>\n<path d=\"M16 17c-8.837 0-16-2.239-16-5v6c0 2.761 7.163 5 16 5s16-2.239 16-5v-6c0 2.761-7.163 5-16 5z\"></path>\n<path d=\"M16 26c-8.837 0-16-2.239-16-5v6c0 2.761 7.163 5 16 5s16-2.239 16-5v-6c0 2.761-7.163 5-16 5z\"></path>\n</symbol>\n<symbol id=\"icon-file-text2\" viewBox=\"0 0 32 32\">\n<path d=\"M28.681 7.159c-0.694-0.947-1.662-2.053-2.724-3.116s-2.169-2.030-3.116-2.724c-1.612-1.182-2.393-1.319-2.841-1.319h-15.5c-1.378 0-2.5 1.121-2.5 2.5v27c0 1.378 1.122 2.5 2.5 2.5h23c1.378 0 2.5-1.122 2.5-2.5v-19.5c0-0.448-0.137-1.23-1.319-2.841zM24.543 5.457c0.959 0.959 1.712 1.825 2.268 2.543h-4.811v-4.811c0.718 0.556 1.584 1.309 2.543 2.268zM28 29.5c0 0.271-0.229 0.5-0.5 0.5h-23c-0.271 0-0.5-0.229-0.5-0.5v-27c0-0.271 0.229-0.5 0.5-0.5 0 0 15.499-0 15.5 0v7c0 0.552 0.448 1 1 1h7v19.5z\"></path>\n<path d=\"M23 26h-14c-0.552 0-1-0.448-1-1s0.448-1 1-1h14c0.552 0 1 0.448 1 1s-0.448 1-1 1z\"></path>\n<path d=\"M23 22h-14c-0.552 0-1-0.448-1-1s0.448-1 1-1h14c0.552 0 1 0.448 1 1s-0.448 1-1 1z\"></path>\n<path d=\"M23 18h-14c-0.552 0-1-0.448-1-1s0.448-1 1-1h14c0.552 0 1 0.448 1 1s-0.448 1-1 1z\"></path>\n</symbol>\n</defs>\n</svg>\n<style>/* CSS stylesheet for displaying xarray objects in jupyterlab.\n *\n */\n\n:root {\n  --xr-font-color0: var(--jp-content-font-color0, rgba(0, 0, 0, 1));\n  --xr-font-color2: var(--jp-content-font-color2, rgba(0, 0, 0, 0.54));\n  --xr-font-color3: var(--jp-content-font-color3, rgba(0, 0, 0, 0.38));\n  --xr-border-color: var(--jp-border-color2, #e0e0e0);\n  --xr-disabled-color: var(--jp-layout-color3, #bdbdbd);\n  --xr-background-color: var(--jp-layout-color0, white);\n  --xr-background-color-row-even: var(--jp-layout-color1, white);\n  --xr-background-color-row-odd: var(--jp-layout-color2, #eeeeee);\n}\n\nhtml[theme=dark],\nbody[data-theme=dark],\nbody.vscode-dark {\n  --xr-font-color0: rgba(255, 255, 255, 1);\n  --xr-font-color2: rgba(255, 255, 255, 0.54);\n  --xr-font-color3: rgba(255, 255, 255, 0.38);\n  --xr-border-color: #1F1F1F;\n  --xr-disabled-color: #515151;\n  --xr-background-color: #111111;\n  --xr-background-color-row-even: #111111;\n  --xr-background-color-row-odd: #313131;\n}\n\n.xr-wrap {\n  display: block !important;\n  min-width: 300px;\n  max-width: 700px;\n}\n\n.xr-text-repr-fallback {\n  /* fallback to plain text repr when CSS is not injected (untrusted notebook) */\n  display: none;\n}\n\n.xr-header {\n  padding-top: 6px;\n  padding-bottom: 6px;\n  margin-bottom: 4px;\n  border-bottom: solid 1px var(--xr-border-color);\n}\n\n.xr-header > div,\n.xr-header > ul {\n  display: inline;\n  margin-top: 0;\n  margin-bottom: 0;\n}\n\n.xr-obj-type,\n.xr-array-name {\n  margin-left: 2px;\n  margin-right: 10px;\n}\n\n.xr-obj-type {\n  color: var(--xr-font-color2);\n}\n\n.xr-sections {\n  padding-left: 0 !important;\n  display: grid;\n  grid-template-columns: 150px auto auto 1fr 20px 20px;\n}\n\n.xr-section-item {\n  display: contents;\n}\n\n.xr-section-item input {\n  display: none;\n}\n\n.xr-section-item input + label {\n  color: var(--xr-disabled-color);\n}\n\n.xr-section-item input:enabled + label {\n  cursor: pointer;\n  color: var(--xr-font-color2);\n}\n\n.xr-section-item input:enabled + label:hover {\n  color: var(--xr-font-color0);\n}\n\n.xr-section-summary {\n  grid-column: 1;\n  color: var(--xr-font-color2);\n  font-weight: 500;\n}\n\n.xr-section-summary > span {\n  display: inline-block;\n  padding-left: 0.5em;\n}\n\n.xr-section-summary-in:disabled + label {\n  color: var(--xr-font-color2);\n}\n\n.xr-section-summary-in + label:before {\n  display: inline-block;\n  content: '►';\n  font-size: 11px;\n  width: 15px;\n  text-align: center;\n}\n\n.xr-section-summary-in:disabled + label:before {\n  color: var(--xr-disabled-color);\n}\n\n.xr-section-summary-in:checked + label:before {\n  content: '▼';\n}\n\n.xr-section-summary-in:checked + label > span {\n  display: none;\n}\n\n.xr-section-summary,\n.xr-section-inline-details {\n  padding-top: 4px;\n  padding-bottom: 4px;\n}\n\n.xr-section-inline-details {\n  grid-column: 2 / -1;\n}\n\n.xr-section-details {\n  display: none;\n  grid-column: 1 / -1;\n  margin-bottom: 5px;\n}\n\n.xr-section-summary-in:checked ~ .xr-section-details {\n  display: contents;\n}\n\n.xr-array-wrap {\n  grid-column: 1 / -1;\n  display: grid;\n  grid-template-columns: 20px auto;\n}\n\n.xr-array-wrap > label {\n  grid-column: 1;\n  vertical-align: top;\n}\n\n.xr-preview {\n  color: var(--xr-font-color3);\n}\n\n.xr-array-preview,\n.xr-array-data {\n  padding: 0 5px !important;\n  grid-column: 2;\n}\n\n.xr-array-data,\n.xr-array-in:checked ~ .xr-array-preview {\n  display: none;\n}\n\n.xr-array-in:checked ~ .xr-array-data,\n.xr-array-preview {\n  display: inline-block;\n}\n\n.xr-dim-list {\n  display: inline-block !important;\n  list-style: none;\n  padding: 0 !important;\n  margin: 0;\n}\n\n.xr-dim-list li {\n  display: inline-block;\n  padding: 0;\n  margin: 0;\n}\n\n.xr-dim-list:before {\n  content: '(';\n}\n\n.xr-dim-list:after {\n  content: ')';\n}\n\n.xr-dim-list li:not(:last-child):after {\n  content: ',';\n  padding-right: 5px;\n}\n\n.xr-has-index {\n  font-weight: bold;\n}\n\n.xr-var-list,\n.xr-var-item {\n  display: contents;\n}\n\n.xr-var-item > div,\n.xr-var-item label,\n.xr-var-item > .xr-var-name span {\n  background-color: var(--xr-background-color-row-even);\n  margin-bottom: 0;\n}\n\n.xr-var-item > .xr-var-name:hover span {\n  padding-right: 5px;\n}\n\n.xr-var-list > li:nth-child(odd) > div,\n.xr-var-list > li:nth-child(odd) > label,\n.xr-var-list > li:nth-child(odd) > .xr-var-name span {\n  background-color: var(--xr-background-color-row-odd);\n}\n\n.xr-var-name {\n  grid-column: 1;\n}\n\n.xr-var-dims {\n  grid-column: 2;\n}\n\n.xr-var-dtype {\n  grid-column: 3;\n  text-align: right;\n  color: var(--xr-font-color2);\n}\n\n.xr-var-preview {\n  grid-column: 4;\n}\n\n.xr-index-preview {\n  grid-column: 2 / 5;\n  color: var(--xr-font-color2);\n}\n\n.xr-var-name,\n.xr-var-dims,\n.xr-var-dtype,\n.xr-preview,\n.xr-attrs dt {\n  white-space: nowrap;\n  overflow: hidden;\n  text-overflow: ellipsis;\n  padding-right: 10px;\n}\n\n.xr-var-name:hover,\n.xr-var-dims:hover,\n.xr-var-dtype:hover,\n.xr-attrs dt:hover {\n  overflow: visible;\n  width: auto;\n  z-index: 1;\n}\n\n.xr-var-attrs,\n.xr-var-data,\n.xr-index-data {\n  display: none;\n  background-color: var(--xr-background-color) !important;\n  padding-bottom: 5px !important;\n}\n\n.xr-var-attrs-in:checked ~ .xr-var-attrs,\n.xr-var-data-in:checked ~ .xr-var-data,\n.xr-index-data-in:checked ~ .xr-index-data {\n  display: block;\n}\n\n.xr-var-data > table {\n  float: right;\n}\n\n.xr-var-name span,\n.xr-var-data,\n.xr-index-name div,\n.xr-index-data,\n.xr-attrs {\n  padding-left: 25px !important;\n}\n\n.xr-attrs,\n.xr-var-attrs,\n.xr-var-data,\n.xr-index-data {\n  grid-column: 1 / -1;\n}\n\ndl.xr-attrs {\n  padding: 0;\n  margin: 0;\n  display: grid;\n  grid-template-columns: 125px auto;\n}\n\n.xr-attrs dt,\n.xr-attrs dd {\n  padding: 0;\n  margin: 0;\n  float: left;\n  padding-right: 10px;\n  width: auto;\n}\n\n.xr-attrs dt {\n  font-weight: normal;\n  grid-column: 1;\n}\n\n.xr-attrs dt:hover span {\n  display: inline-block;\n  background: var(--xr-background-color);\n  padding-right: 10px;\n}\n\n.xr-attrs dd {\n  grid-column: 2;\n  white-space: pre-wrap;\n  word-break: break-all;\n}\n\n.xr-icon-database,\n.xr-icon-file-text2,\n.xr-no-icon {\n  display: inline-block;\n  vertical-align: middle;\n  width: 1em;\n  height: 1.5em !important;\n  stroke-width: 0;\n  stroke: currentColor;\n  fill: currentColor;\n}\n</style><pre class='xr-text-repr-fallback'>&lt;xarray.Dataset&gt;\nDimensions:               (adctime: 77, station: 1, gpstime: 5,\n                           maintenancetime: 1)\nCoordinates:\n  * adctime               (adctime) timedelta64[ns] 00:00:00 ... 00:00:07.600000\n  * gpstime               (gpstime) datetime64[ns] 2022-08-30T11:21:04.065000...\n  * maintenancetime       (maintenancetime) datetime64[ns] 2023-05-08T16:09:06\n  * station               (station) uint8 1\nData variables:\n    ghi                   (adctime, station) float64 0.002086 ... 0.002086\n    gti                   (adctime, station) float64 0.001935 ... 0.001935\n    ta                    (adctime, station) float64 294.7 294.7 ... 294.8 295.0\n    rh                    (adctime, station) float64 0.6245 0.6245 ... 0.6297\n    battery_voltage       (adctime, station) float64 6.452 6.439 ... 6.465 6.452\n    lat                   (gpstime, station) float64 51.39 51.39 ... 51.39 51.39\n    lon                   (gpstime, station) float64 11.89 11.89 ... 11.89 11.89\n    maintenance_flag_ghi  (maintenancetime, station) uint8 9\n    maintenance_flag_gti  (maintenancetime, station) uint8 7\n    iadc                  (gpstime, station) uint32 26 35 54 64 74\nAttributes: (12/31)\n    title:                     TROPOS pyranometer network (PyrNet) observations\n    institution:               Leibniz Institute for Tropospheric Research (T...\n    department:                Remote Sensing of Atmospheric Processes\n    department_team:           Clouds, Aerosol and Radiation\n    address:                   Permoser Str. 15, 04318 Leipzig, Germany\n    source:                    TROPOS pyranometer network (PyrNet)\n    ...                        ...\n    geospatial_lon_max:        11.885256666666667\n    geospatial_lon_units:      degE\n    time_coverage_start:       2022-08-30T11:21:04.065000\n    time_coverage_end:         2022-08-30T11:21:09\n    time_coverage_duration:    P0DT0H0M4.935S\n    time_coverage_resolution:  P0DT0H0M1.23375S</pre><div class='xr-wrap' style='display:none'><div class='xr-header'><div class='xr-obj-type'>xarray.Dataset</div></div><ul class='xr-sections'><li class='xr-section-item'><input id='section-3b0a6f8d-6194-44ae-b0ee-8ca2d8295fd3' class='xr-section-summary-in' type='checkbox' disabled ><label for='section-3b0a6f8d-6194-44ae-b0ee-8ca2d8295fd3' class='xr-section-summary'  title='Expand/collapse section'>Dimensions:</label><div class='xr-section-inline-details'><ul class='xr-dim-list'><li><span class='xr-has-index'>adctime</span>: 77</li><li><span class='xr-has-index'>station</span>: 1</li><li><span class='xr-has-index'>gpstime</span>: 5</li><li><span class='xr-has-index'>maintenancetime</span>: 1</li></ul></div><div class='xr-section-details'></div></li><li class='xr-section-item'><input id='section-a1f12628-328e-44ad-9808-cd3b0621f963' class='xr-section-summary-in' type='checkbox'  checked><label for='section-a1f12628-328e-44ad-9808-cd3b0621f963' class='xr-section-summary' >Coordinates: <span>(4)</span></label><div class='xr-section-inline-details'></div><div class='xr-section-details'><ul class='xr-var-list'><li class='xr-var-item'><div class='xr-var-name'><span class='xr-has-index'>adctime</span></div><div class='xr-var-dims'>(adctime)</div><div class='xr-var-dtype'>timedelta64[ns]</div><div class='xr-var-preview xr-preview'>00:00:00 ... 00:00:07.600000</div><input id='attrs-9ea83689-7563-4ac0-93a0-221386f8d81e' class='xr-var-attrs-in' type='checkbox' ><label for='attrs-9ea83689-7563-4ac0-93a0-221386f8d81e' title='Show/Hide attributes'><svg class='icon xr-icon-file-text2'><use xlink:href='#icon-file-text2'></use></svg></label><input id='data-bb09d58c-cdde-4d1a-9dbc-fea13f53aaa7' class='xr-var-data-in' type='checkbox'><label for='data-bb09d58c-cdde-4d1a-9dbc-fea13f53aaa7' title='Show/Hide data repr'><svg class='icon xr-icon-database'><use xlink:href='#icon-database'></use></svg></label><div class='xr-var-attrs'><dl class='xr-attrs'><dt><span>standard_name :</span></dt><dd>time</dd></dl></div><div class='xr-var-data'><pre>array([         0,  100000000,  200000000,  300000000,  400000000,  500000000,\n        600000000,  700000000,  800000000,  900000000, 1000000000, 1100000000,\n       1200000000, 1300000000, 1400000000, 1500000000, 1600000000, 1700000000,\n       1800000000, 1900000000, 2000000000, 2100000000, 2200000000, 2300000000,\n       2400000000, 2500000000, 2600000000, 2700000000, 2800000000, 2900000000,\n       3000000000, 3100000000, 3200000000, 3300000000, 3400000000, 3500000000,\n       3600000000, 3700000000, 3800000000, 3900000000, 4000000000, 4100000000,\n       4200000000, 4300000000, 4400000000, 4500000000, 4600000000, 4700000000,\n       4800000000, 4900000000, 5000000000, 5100000000, 5200000000, 5300000000,\n       5400000000, 5500000000, 5600000000, 5700000000, 5800000000, 5900000000,\n       6000000000, 6100000000, 6200000000, 6300000000, 6400000000, 6500000000,\n       6600000000, 6700000000, 6800000000, 6900000000, 7000000000, 7100000000,\n       7200000000, 7300000000, 7400000000, 7500000000, 7600000000],\n      dtype=&#x27;timedelta64[ns]&#x27;)</pre></div></li><li class='xr-var-item'><div class='xr-var-name'><span class='xr-has-index'>gpstime</span></div><div class='xr-var-dims'>(gpstime)</div><div class='xr-var-dtype'>datetime64[ns]</div><div class='xr-var-preview xr-preview'>2022-08-30T11:21:04.065000 ... 2...</div><input id='attrs-2313495a-4102-4ea2-a14f-26dcb71287c1' class='xr-var-attrs-in' type='checkbox' disabled><label for='attrs-2313495a-4102-4ea2-a14f-26dcb71287c1' title='Show/Hide attributes'><svg class='icon xr-icon-file-text2'><use xlink:href='#icon-file-text2'></use></svg></label><input id='data-b2ebe1f9-2c33-4792-aa16-f07023c6c620' class='xr-var-data-in' type='checkbox'><label for='data-b2ebe1f9-2c33-4792-aa16-f07023c6c620' title='Show/Hide data repr'><svg class='icon xr-icon-database'><use xlink:href='#icon-database'></use></svg></label><div class='xr-var-attrs'><dl class='xr-attrs'></dl></div><div class='xr-var-data'><pre>array([&#x27;2022-08-30T11:21:04.065000000&#x27;, &#x27;2022-08-30T11:21:05.065000000&#x27;,\n       &#x27;2022-08-30T11:21:07.000000000&#x27;, &#x27;2022-08-30T11:21:08.000000000&#x27;,\n       &#x27;2022-08-30T11:21:09.000000000&#x27;], dtype=&#x27;datetime64[ns]&#x27;)</pre></div></li><li class='xr-var-item'><div class='xr-var-name'><span class='xr-has-index'>maintenancetime</span></div><div class='xr-var-dims'>(maintenancetime)</div><div class='xr-var-dtype'>datetime64[ns]</div><div class='xr-var-preview xr-preview'>2023-05-08T16:09:06</div><input id='attrs-1bfa1c16-6ce2-444a-9c91-9af51f2787bb' class='xr-var-attrs-in' type='checkbox' disabled><label for='attrs-1bfa1c16-6ce2-444a-9c91-9af51f2787bb' title='Show/Hide attributes'><svg class='icon xr-icon-file-text2'><use xlink:href='#icon-file-text2'></use></svg></label><input id='data-ec8e9783-ade1-467e-a7d9-988d6415be2f' class='xr-var-data-in' type='checkbox'><label for='data-ec8e9783-ade1-467e-a7d9-988d6415be2f' title='Show/Hide data repr'><svg class='icon xr-icon-database'><use xlink:href='#icon-database'></use></svg></label><div class='xr-var-attrs'><dl class='xr-attrs'></dl></div><div class='xr-var-data'><pre>array([&#x27;2023-05-08T16:09:06.000000000&#x27;], dtype=&#x27;datetime64[ns]&#x27;)</pre></div></li><li class='xr-var-item'><div class='xr-var-name'><span class='xr-has-index'>station</span></div><div class='xr-var-dims'>(station)</div><div class='xr-var-dtype'>uint8</div><div class='xr-var-preview xr-preview'>1</div><input id='attrs-16ceafd3-0068-4c2c-a17d-3cffe316dd7b' class='xr-var-attrs-in' type='checkbox' ><label for='attrs-16ceafd3-0068-4c2c-a17d-3cffe316dd7b' title='Show/Hide attributes'><svg class='icon xr-icon-file-text2'><use xlink:href='#icon-file-text2'></use></svg></label><input id='data-941ad840-a143-4324-aafc-b886b63d247d' class='xr-var-data-in' type='checkbox'><label for='data-941ad840-a143-4324-aafc-b886b63d247d' title='Show/Hide data repr'><svg class='icon xr-icon-database'><use xlink:href='#icon-database'></use></svg></label><div class='xr-var-attrs'><dl class='xr-attrs'><dt><span>units :</span></dt><dd>-</dd><dt><span>long_name :</span></dt><dd>PyrNet unit box number</dd></dl></div><div class='xr-var-data'><pre>array([1], dtype=uint8)</pre></div></li></ul></div></li><li class='xr-section-item'><input id='section-104d98fb-858a-47f2-b8ea-151934bbf0b1' class='xr-section-summary-in' type='checkbox'  checked><label for='section-104d98fb-858a-47f2-b8ea-151934bbf0b1' class='xr-section-summary' >Data variables: <span>(10)</span></label><div class='xr-section-inline-details'></div><div class='xr-section-details'><ul class='xr-var-list'><li class='xr-var-item'><div class='xr-var-name'><span>ghi</span></div><div class='xr-var-dims'>(adctime, station)</div><div class='xr-var-dtype'>float64</div><div class='xr-var-preview xr-preview'>0.002086 0.002086 ... 0.002086</div><input id='attrs-3fed4602-1d7a-4e1a-8592-e13d74c64dac' class='xr-var-attrs-in' type='checkbox' ><label for='attrs-3fed4602-1d7a-4e1a-8592-e13d74c64dac' title='Show/Hide attributes'><svg class='icon xr-icon-file-text2'><use xlink:href='#icon-file-text2'></use></svg></label><input id='data-fb390b89-5ac4-44ba-851e-5121e14b8546' class='xr-var-data-in' type='checkbox'><label for='data-fb390b89-5ac4-44ba-851e-5121e14b8546' title='Show/Hide data repr'><svg class='icon xr-icon-database'><use xlink:href='#icon-database'></use></svg></label><div class='xr-var-attrs'><dl class='xr-attrs'><dt><span>units :</span></dt><dd>V</dd><dt><span>long_name :</span></dt><dd>downwelling shortwave flux</dd><dt><span>standard_name :</span></dt><dd>downwelling_shortwave_flux_in_air</dd><dt><span>valid_range :</span></dt><dd>[0, 1023]</dd></dl></div><div class='xr-var-data'><pre>array([[0.00208602],\n       [0.00208602],\n       [0.00208602],\n       [0.00208602],\n       [0.00208602],\n       [0.00208602],\n       [0.00208602],\n       [0.00208602],\n       [0.00208602],\n       [0.00208602],\n       [0.00208602],\n       [0.00208602],\n       [0.00208602],\n       [0.00208602],\n       [0.00208602],\n       [0.00208602],\n       [0.00208602],\n       [0.00208602],\n       [0.00208602],\n       [0.00208602],\n...\n       [0.00207527],\n       [0.00208602],\n       [0.00208602],\n       [0.00208602],\n       [0.00208602],\n       [0.00208602],\n       [0.00208602],\n       [0.00208602],\n       [0.00208602],\n       [0.00208602],\n       [0.00208602],\n       [0.00208602],\n       [0.00208602],\n       [0.00208602],\n       [0.00208602],\n       [0.00208602],\n       [0.00208602],\n       [0.00208602],\n       [0.00208602],\n       [0.00208602]])</pre></div></li><li class='xr-var-item'><div class='xr-var-name'><span>gti</span></div><div class='xr-var-dims'>(adctime, station)</div><div class='xr-var-dtype'>float64</div><div class='xr-var-preview xr-preview'>0.001935 0.001935 ... 0.001935</div><input id='attrs-2ee278d4-01f0-4ad0-b3f5-e29a2d8bafa4' class='xr-var-attrs-in' type='checkbox' ><label for='attrs-2ee278d4-01f0-4ad0-b3f5-e29a2d8bafa4' title='Show/Hide attributes'><svg class='icon xr-icon-file-text2'><use xlink:href='#icon-file-text2'></use></svg></label><input id='data-f6aace66-5b13-4a58-bed8-4ec74362e20d' class='xr-var-data-in' type='checkbox'><label for='data-f6aace66-5b13-4a58-bed8-4ec74362e20d' title='Show/Hide data repr'><svg class='icon xr-icon-database'><use xlink:href='#icon-database'></use></svg></label><div class='xr-var-attrs'><dl class='xr-attrs'><dt><span>units :</span></dt><dd>V</dd><dt><span>long_name :</span></dt><dd>downwelling shortwave flux measured on secondary platform, might be tilted</dd><dt><span>standard_name :</span></dt><dd>downwelling_shortwave_flux_in_air</dd><dt><span>valid_range :</span></dt><dd>[0, 1023]</dd><dt><span>hangle :</span></dt><dd>0.0</dd><dt><span>vangle :</span></dt><dd>0.0</dd></dl></div><div class='xr-var-data'><pre>array([[0.00193548],\n       [0.00193548],\n       [0.00193548],\n       [0.00193548],\n       [0.00194624],\n       [0.00193548],\n       [0.00194624],\n       [0.00193548],\n       [0.00193548],\n       [0.00193548],\n       [0.00193548],\n       [0.00194624],\n       [0.00193548],\n       [0.00193548],\n       [0.00193548],\n       [0.00193548],\n       [0.00193548],\n       [0.00193548],\n       [0.00193548],\n       [0.00193548],\n...\n       [0.00193548],\n       [0.00193548],\n       [0.00193548],\n       [0.00193548],\n       [0.00193548],\n       [0.00193548],\n       [0.00192473],\n       [0.00192473],\n       [0.00193548],\n       [0.00193548],\n       [0.00193548],\n       [0.00193548],\n       [0.00193548],\n       [0.00193548],\n       [0.00193548],\n       [0.00193548],\n       [0.00193548],\n       [0.00193548],\n       [0.00194624],\n       [0.00193548]])</pre></div></li><li class='xr-var-item'><div class='xr-var-name'><span>ta</span></div><div class='xr-var-dims'>(adctime, station)</div><div class='xr-var-dtype'>float64</div><div class='xr-var-preview xr-preview'>294.7 294.7 294.7 ... 294.8 295.0</div><input id='attrs-8a4dd126-1346-420a-ae87-6b5e6254d0d8' class='xr-var-attrs-in' type='checkbox' ><label for='attrs-8a4dd126-1346-420a-ae87-6b5e6254d0d8' title='Show/Hide attributes'><svg class='icon xr-icon-file-text2'><use xlink:href='#icon-file-text2'></use></svg></label><input id='data-af2844a8-99e4-4927-be18-cff7aa824fff' class='xr-var-data-in' type='checkbox'><label for='data-af2844a8-99e4-4927-be18-cff7aa824fff' title='Show/Hide data repr'><svg class='icon xr-icon-database'><use xlink:href='#icon-database'></use></svg></label><div class='xr-var-attrs'><dl class='xr-attrs'><dt><span>units :</span></dt><dd>K</dd><dt><span>long_name :</span></dt><dd>air temperature</dd><dt><span>standard_name :</span></dt><dd>air_temperature</dd><dt><span>valid_range :</span></dt><dd>[0, 775]</dd></dl></div><div class='xr-var-data'><pre>array([[294.6983871 ],\n       [294.6983871 ],\n       [294.6983871 ],\n       [294.6983871 ],\n       [294.95645161],\n       [294.95645161],\n       [294.6983871 ],\n       [294.6983871 ],\n       [294.6983871 ],\n       [294.6983871 ],\n       [294.6983871 ],\n       [294.82741935],\n       [294.95645161],\n       [294.6983871 ],\n       [294.6983871 ],\n       [294.6983871 ],\n       [294.82741935],\n       [294.6983871 ],\n       [294.82741935],\n       [294.6983871 ],\n...\n       [294.82741935],\n       [294.95645161],\n       [294.6983871 ],\n       [294.6983871 ],\n       [294.82741935],\n       [294.6983871 ],\n       [294.82741935],\n       [294.95645161],\n       [294.6983871 ],\n       [294.6983871 ],\n       [294.6983871 ],\n       [294.82741935],\n       [294.6983871 ],\n       [294.82741935],\n       [294.6983871 ],\n       [294.6983871 ],\n       [294.6983871 ],\n       [294.6983871 ],\n       [294.82741935],\n       [294.95645161]])</pre></div></li><li class='xr-var-item'><div class='xr-var-name'><span>rh</span></div><div class='xr-var-dims'>(adctime, station)</div><div class='xr-var-dtype'>float64</div><div class='xr-var-preview xr-preview'>0.6245 0.6245 ... 0.6297 0.6297</div><input id='attrs-e211312d-5d72-4540-a942-5cf901356af9' class='xr-var-attrs-in' type='checkbox' ><label for='attrs-e211312d-5d72-4540-a942-5cf901356af9' title='Show/Hide attributes'><svg class='icon xr-icon-file-text2'><use xlink:href='#icon-file-text2'></use></svg></label><input id='data-0a3def3b-bc35-4b6c-98bf-54b7f4732b3f' class='xr-var-data-in' type='checkbox'><label for='data-0a3def3b-bc35-4b6c-98bf-54b7f4732b3f' title='Show/Hide data repr'><svg class='icon xr-icon-database'><use xlink:href='#icon-database'></use></svg></label><div class='xr-var-attrs'><dl class='xr-attrs'><dt><span>units :</span></dt><dd>1</dd><dt><span>long_name :</span></dt><dd>air relative humidity</dd><dt><span>standard_name :</span></dt><dd>relative_humidity</dd><dt><span>valid_range :</span></dt><dd>[0, 775]</dd></dl></div><div class='xr-var-data'><pre>array([[0.62451613],\n       [0.62451613],\n       [0.62451613],\n       [0.62580645],\n       [0.62580645],\n       [0.62580645],\n       [0.62451613],\n       [0.62451613],\n       [0.62451613],\n       [0.62451613],\n       [0.62580645],\n       [0.62709677],\n       [0.62451613],\n       [0.62322581],\n       [0.62451613],\n       [0.62451613],\n       [0.62451613],\n       [0.62580645],\n       [0.62709677],\n       [0.62451613],\n...\n       [0.62967742],\n       [0.6283871 ],\n       [0.62709677],\n       [0.62709677],\n       [0.62709677],\n       [0.62967742],\n       [0.62967742],\n       [0.62967742],\n       [0.62709677],\n       [0.62709677],\n       [0.6283871 ],\n       [0.6283871 ],\n       [0.62967742],\n       [0.62967742],\n       [0.62709677],\n       [0.62709677],\n       [0.62709677],\n       [0.6283871 ],\n       [0.62967742],\n       [0.62967742]])</pre></div></li><li class='xr-var-item'><div class='xr-var-name'><span>battery_voltage</span></div><div class='xr-var-dims'>(adctime, station)</div><div class='xr-var-dtype'>float64</div><div class='xr-var-preview xr-preview'>6.452 6.439 6.445 ... 6.465 6.452</div><input id='attrs-c9bbbaad-e0bf-411b-aa56-812e43256124' class='xr-var-attrs-in' type='checkbox' ><label for='attrs-c9bbbaad-e0bf-411b-aa56-812e43256124' title='Show/Hide attributes'><svg class='icon xr-icon-file-text2'><use xlink:href='#icon-file-text2'></use></svg></label><input id='data-87a71c44-0865-424d-b288-b2843d607a57' class='xr-var-data-in' type='checkbox'><label for='data-87a71c44-0865-424d-b288-b2843d607a57' title='Show/Hide data repr'><svg class='icon xr-icon-database'><use xlink:href='#icon-database'></use></svg></label><div class='xr-var-attrs'><dl class='xr-attrs'><dt><span>units :</span></dt><dd>V</dd><dt><span>standard_name :</span></dt><dd>battery_voltage</dd><dt><span>valid_range :</span></dt><dd>[0, 992]</dd></dl></div><div class='xr-var-data'><pre>array([[6.4516129 ],\n       [6.43870968],\n       [6.44516129],\n       [6.4516129 ],\n       [6.43870968],\n       [6.43870968],\n       [6.4516129 ],\n       [6.44516129],\n       [6.43870968],\n       [6.4516129 ],\n       [6.44516129],\n       [6.4516129 ],\n       [6.43870968],\n       [6.43870968],\n       [6.43870968],\n       [6.4516129 ],\n       [6.43870968],\n       [6.44516129],\n       [6.44516129],\n       [6.43870968],\n...\n       [6.45806452],\n       [6.43870968],\n       [6.43870968],\n       [6.44516129],\n       [6.43225806],\n       [6.43870968],\n       [6.44516129],\n       [6.4516129 ],\n       [6.46451613],\n       [6.4516129 ],\n       [6.46451613],\n       [6.4516129 ],\n       [6.4516129 ],\n       [6.43870968],\n       [6.43870968],\n       [6.43225806],\n       [6.4516129 ],\n       [6.46451613],\n       [6.46451613],\n       [6.4516129 ]])</pre></div></li><li class='xr-var-item'><div class='xr-var-name'><span>lat</span></div><div class='xr-var-dims'>(gpstime, station)</div><div class='xr-var-dtype'>float64</div><div class='xr-var-preview xr-preview'>51.39 51.39 51.39 51.39 51.39</div><input id='attrs-b1389701-ecd8-4957-9ec8-8dfbac0ef3e8' class='xr-var-attrs-in' type='checkbox' ><label for='attrs-b1389701-ecd8-4957-9ec8-8dfbac0ef3e8' title='Show/Hide attributes'><svg class='icon xr-icon-file-text2'><use xlink:href='#icon-file-text2'></use></svg></label><input id='data-11d7350a-01f2-42a1-b455-a6d010361b91' class='xr-var-data-in' type='checkbox'><label for='data-11d7350a-01f2-42a1-b455-a6d010361b91' title='Show/Hide data repr'><svg class='icon xr-icon-database'><use xlink:href='#icon-database'></use></svg></label><div class='xr-var-attrs'><dl class='xr-attrs'><dt><span>standard_name :</span></dt><dd>latitude</dd><dt><span>units :</span></dt><dd>degree_north</dd><dt><span>valid_range :</span></dt><dd>[0, 180000000]</dd></dl></div><div class='xr-var-data'><pre>array([[51.39021167],\n       [51.39021167],\n       [51.39021   ],\n       [51.39021   ],\n       [51.39020833]])</pre></div></li><li class='xr-var-item'><div class='xr-var-name'><span>lon</span></div><div class='xr-var-dims'>(gpstime, station)</div><div class='xr-var-dtype'>float64</div><div class='xr-var-preview xr-preview'>11.89 11.89 11.89 11.89 11.89</div><input id='attrs-853b25e8-307a-4c29-a1e7-79292b607807' class='xr-var-attrs-in' type='checkbox' ><label for='attrs-853b25e8-307a-4c29-a1e7-79292b607807' title='Show/Hide attributes'><svg class='icon xr-icon-file-text2'><use xlink:href='#icon-file-text2'></use></svg></label><input id='data-c2f85d96-0c82-4b0f-b074-2606f3bada82' class='xr-var-data-in' type='checkbox'><label for='data-c2f85d96-0c82-4b0f-b074-2606f3bada82' title='Show/Hide data repr'><svg class='icon xr-icon-database'><use xlink:href='#icon-database'></use></svg></label><div class='xr-var-attrs'><dl class='xr-attrs'><dt><span>standard_name :</span></dt><dd>longitude</dd><dt><span>units :</span></dt><dd>degree_east</dd><dt><span>valid_range :</span></dt><dd>[0, 360000000]</dd></dl></div><div class='xr-var-data'><pre>array([[11.885255  ],\n       [11.88525667],\n       [11.88525167],\n       [11.88525   ],\n       [11.88524667]])</pre></div></li><li class='xr-var-item'><div class='xr-var-name'><span>maintenance_flag_ghi</span></div><div class='xr-var-dims'>(maintenancetime, station)</div><div class='xr-var-dtype'>uint8</div><div class='xr-var-preview xr-preview'>9</div><input id='attrs-bcdefa51-00b9-4e9a-9af7-9aa4e2ed25e8' class='xr-var-attrs-in' type='checkbox' ><label for='attrs-bcdefa51-00b9-4e9a-9af7-9aa4e2ed25e8' title='Show/Hide attributes'><svg class='icon xr-icon-file-text2'><use xlink:href='#icon-file-text2'></use></svg></label><input id='data-ea8bd62d-8a34-4caa-90fa-8fc6b666db16' class='xr-var-data-in' type='checkbox'><label for='data-ea8bd62d-8a34-4caa-90fa-8fc6b666db16' title='Show/Hide data repr'><svg class='icon xr-icon-database'><use xlink:href='#icon-database'></use></svg></label><div class='xr-var-attrs'><dl class='xr-attrs'><dt><span>standard_name :</span></dt><dd>quality_flag</dd><dt><span>long_name :</span></dt><dd>Maintenance quality control flags for main pyranometer</dd><dt><span>note :</span></dt><dd>Soiling describes subjectively the coverage of the pyranometer dome with dirt. The level flag is problematic if the bubble of the spirit level touches the reference ring, and bad if it is outside.</dd><dt><span>valid_range :</span></dt><dd>[0, 11]</dd><dt><span>flag_masks :</span></dt><dd>[3, 3, 3, 12, 12]</dd><dt><span>flag_values :</span></dt><dd>[1, 2, 3, 4, 8]</dd><dt><span>flag_meanings :</span></dt><dd>soiling_light soiling_moderate soiling_heavy level_problematic level_bad</dd><dt><span>note_general :</span></dt><dd>222</dd><dt><span>note_clean :</span></dt><dd>testing notes</dd><dt><span>note_level :</span></dt><dd>test</dd></dl></div><div class='xr-var-data'><pre>array([[9]], dtype=uint8)</pre></div></li><li class='xr-var-item'><div class='xr-var-name'><span>maintenance_flag_gti</span></div><div class='xr-var-dims'>(maintenancetime, station)</div><div class='xr-var-dtype'>uint8</div><div class='xr-var-preview xr-preview'>7</div><input id='attrs-26cc5470-c400-48f4-877c-43306fc6ebfc' class='xr-var-attrs-in' type='checkbox' ><label for='attrs-26cc5470-c400-48f4-877c-43306fc6ebfc' title='Show/Hide attributes'><svg class='icon xr-icon-file-text2'><use xlink:href='#icon-file-text2'></use></svg></label><input id='data-bad22329-da6c-41bc-a3d1-470c2aadcaae' class='xr-var-data-in' type='checkbox'><label for='data-bad22329-da6c-41bc-a3d1-470c2aadcaae' title='Show/Hide data repr'><svg class='icon xr-icon-database'><use xlink:href='#icon-database'></use></svg></label><div class='xr-var-attrs'><dl class='xr-attrs'><dt><span>standard_name :</span></dt><dd>quality_flag</dd><dt><span>long_name :</span></dt><dd>Maintenance quality control flags for secondary pyranometer</dd><dt><span>note :</span></dt><dd>Soiling describes subjectively the coverage of the pyranometer dome with dirt. The level flag is problematic if the bubble of the spirit level touches the reference ring, and bad if it is outside.</dd><dt><span>valid_range :</span></dt><dd>[0, 11]</dd><dt><span>flag_masks :</span></dt><dd>[3, 3, 3, 12, 12]</dd><dt><span>flag_values :</span></dt><dd>[1, 2, 3, 4, 8]</dd><dt><span>flag_meanings :</span></dt><dd>soiling_light soiling_moderate soiling_heavy level_problematic level_bad</dd><dt><span>note_general :</span></dt><dd>222</dd><dt><span>note_clean :</span></dt><dd></dd><dt><span>note_level :</span></dt><dd></dd></dl></div><div class='xr-var-data'><pre>array([[7]], dtype=uint8)</pre></div></li><li class='xr-var-item'><div class='xr-var-name'><span>iadc</span></div><div class='xr-var-dims'>(gpstime, station)</div><div class='xr-var-dtype'>uint32</div><div class='xr-var-preview xr-preview'>26 35 54 64 74</div><input id='attrs-f1550f14-c459-4426-9094-60bb6b809f8e' class='xr-var-attrs-in' type='checkbox' ><label for='attrs-f1550f14-c459-4426-9094-60bb6b809f8e' title='Show/Hide attributes'><svg class='icon xr-icon-file-text2'><use xlink:href='#icon-file-text2'></use></svg></label><input id='data-f0f76a67-8c70-4a1d-8bfa-4eeaffae7bb9' class='xr-var-data-in' type='checkbox'><label for='data-f0f76a67-8c70-4a1d-8bfa-4eeaffae7bb9' title='Show/Hide data repr'><svg class='icon xr-icon-database'><use xlink:href='#icon-database'></use></svg></label><div class='xr-var-attrs'><dl class='xr-attrs'><dt><span>standard_name :</span></dt><dd>index</dd><dt><span>comment :</span></dt><dd>index to map gps to adc records</dd><dt><span>units :</span></dt><dd>-</dd></dl></div><div class='xr-var-data'><pre>array([[26],\n       [35],\n       [54],\n       [64],\n       [74]], dtype=uint32)</pre></div></li></ul></div></li><li class='xr-section-item'><input id='section-19e795a7-aca9-4a03-bf4c-467535769b91' class='xr-section-summary-in' type='checkbox'  ><label for='section-19e795a7-aca9-4a03-bf4c-467535769b91' class='xr-section-summary' >Indexes: <span>(4)</span></label><div class='xr-section-inline-details'></div><div class='xr-section-details'><ul class='xr-var-list'><li class='xr-var-item'><div class='xr-index-name'><div>adctime</div></div><div class='xr-index-preview'>PandasIndex</div><div></div><input id='index-506a1c93-e161-4af0-9276-f16513e7d8cf' class='xr-index-data-in' type='checkbox'/><label for='index-506a1c93-e161-4af0-9276-f16513e7d8cf' title='Show/Hide index repr'><svg class='icon xr-icon-database'><use xlink:href='#icon-database'></use></svg></label><div class='xr-index-data'><pre>PandasIndex(TimedeltaIndex([       &#x27;0 days 00:00:00&#x27;, &#x27;0 days 00:00:00.100000&#x27;,\n                &#x27;0 days 00:00:00.200000&#x27;, &#x27;0 days 00:00:00.300000&#x27;,\n                &#x27;0 days 00:00:00.400000&#x27;, &#x27;0 days 00:00:00.500000&#x27;,\n                &#x27;0 days 00:00:00.600000&#x27;, &#x27;0 days 00:00:00.700000&#x27;,\n                &#x27;0 days 00:00:00.800000&#x27;, &#x27;0 days 00:00:00.900000&#x27;,\n                       &#x27;0 days 00:00:01&#x27;, &#x27;0 days 00:00:01.100000&#x27;,\n                &#x27;0 days 00:00:01.200000&#x27;, &#x27;0 days 00:00:01.300000&#x27;,\n                &#x27;0 days 00:00:01.400000&#x27;, &#x27;0 days 00:00:01.500000&#x27;,\n                &#x27;0 days 00:00:01.600000&#x27;, &#x27;0 days 00:00:01.700000&#x27;,\n                &#x27;0 days 00:00:01.800000&#x27;, &#x27;0 days 00:00:01.900000&#x27;,\n                       &#x27;0 days 00:00:02&#x27;, &#x27;0 days 00:00:02.100000&#x27;,\n                &#x27;0 days 00:00:02.200000&#x27;, &#x27;0 days 00:00:02.300000&#x27;,\n                &#x27;0 days 00:00:02.400000&#x27;, &#x27;0 days 00:00:02.500000&#x27;,\n                &#x27;0 days 00:00:02.600000&#x27;, &#x27;0 days 00:00:02.700000&#x27;,\n                &#x27;0 days 00:00:02.800000&#x27;, &#x27;0 days 00:00:02.900000&#x27;,\n                       &#x27;0 days 00:00:03&#x27;, &#x27;0 days 00:00:03.100000&#x27;,\n                &#x27;0 days 00:00:03.200000&#x27;, &#x27;0 days 00:00:03.300000&#x27;,\n                &#x27;0 days 00:00:03.400000&#x27;, &#x27;0 days 00:00:03.500000&#x27;,\n                &#x27;0 days 00:00:03.600000&#x27;, &#x27;0 days 00:00:03.700000&#x27;,\n                &#x27;0 days 00:00:03.800000&#x27;, &#x27;0 days 00:00:03.900000&#x27;,\n                       &#x27;0 days 00:00:04&#x27;, &#x27;0 days 00:00:04.100000&#x27;,\n                &#x27;0 days 00:00:04.200000&#x27;, &#x27;0 days 00:00:04.300000&#x27;,\n                &#x27;0 days 00:00:04.400000&#x27;, &#x27;0 days 00:00:04.500000&#x27;,\n                &#x27;0 days 00:00:04.600000&#x27;, &#x27;0 days 00:00:04.700000&#x27;,\n                &#x27;0 days 00:00:04.800000&#x27;, &#x27;0 days 00:00:04.900000&#x27;,\n                       &#x27;0 days 00:00:05&#x27;, &#x27;0 days 00:00:05.100000&#x27;,\n                &#x27;0 days 00:00:05.200000&#x27;, &#x27;0 days 00:00:05.300000&#x27;,\n                &#x27;0 days 00:00:05.400000&#x27;, &#x27;0 days 00:00:05.500000&#x27;,\n                &#x27;0 days 00:00:05.600000&#x27;, &#x27;0 days 00:00:05.700000&#x27;,\n                &#x27;0 days 00:00:05.800000&#x27;, &#x27;0 days 00:00:05.900000&#x27;,\n                       &#x27;0 days 00:00:06&#x27;, &#x27;0 days 00:00:06.100000&#x27;,\n                &#x27;0 days 00:00:06.200000&#x27;, &#x27;0 days 00:00:06.300000&#x27;,\n                &#x27;0 days 00:00:06.400000&#x27;, &#x27;0 days 00:00:06.500000&#x27;,\n                &#x27;0 days 00:00:06.600000&#x27;, &#x27;0 days 00:00:06.700000&#x27;,\n                &#x27;0 days 00:00:06.800000&#x27;, &#x27;0 days 00:00:06.900000&#x27;,\n                       &#x27;0 days 00:00:07&#x27;, &#x27;0 days 00:00:07.100000&#x27;,\n                &#x27;0 days 00:00:07.200000&#x27;, &#x27;0 days 00:00:07.300000&#x27;,\n                &#x27;0 days 00:00:07.400000&#x27;, &#x27;0 days 00:00:07.500000&#x27;,\n                &#x27;0 days 00:00:07.600000&#x27;],\n               dtype=&#x27;timedelta64[ns]&#x27;, name=&#x27;adctime&#x27;, freq=None))</pre></div></li><li class='xr-var-item'><div class='xr-index-name'><div>gpstime</div></div><div class='xr-index-preview'>PandasIndex</div><div></div><input id='index-458b6085-8ef1-457a-b12e-3dd49bee622c' class='xr-index-data-in' type='checkbox'/><label for='index-458b6085-8ef1-457a-b12e-3dd49bee622c' title='Show/Hide index repr'><svg class='icon xr-icon-database'><use xlink:href='#icon-database'></use></svg></label><div class='xr-index-data'><pre>PandasIndex(DatetimeIndex([&#x27;2022-08-30 11:21:04.065000&#x27;, &#x27;2022-08-30 11:21:05.065000&#x27;,\n                      &#x27;2022-08-30 11:21:07&#x27;,        &#x27;2022-08-30 11:21:08&#x27;,\n                      &#x27;2022-08-30 11:21:09&#x27;],\n              dtype=&#x27;datetime64[ns]&#x27;, name=&#x27;gpstime&#x27;, freq=None))</pre></div></li><li class='xr-var-item'><div class='xr-index-name'><div>maintenancetime</div></div><div class='xr-index-preview'>PandasIndex</div><div></div><input id='index-88f7df88-e54b-457d-bd77-bc7cbfcb4cac' class='xr-index-data-in' type='checkbox'/><label for='index-88f7df88-e54b-457d-bd77-bc7cbfcb4cac' title='Show/Hide index repr'><svg class='icon xr-icon-database'><use xlink:href='#icon-database'></use></svg></label><div class='xr-index-data'><pre>PandasIndex(DatetimeIndex([&#x27;2023-05-08 16:09:06&#x27;], dtype=&#x27;datetime64[ns]&#x27;, name=&#x27;maintenancetime&#x27;, freq=None))</pre></div></li><li class='xr-var-item'><div class='xr-index-name'><div>station</div></div><div class='xr-index-preview'>PandasIndex</div><div></div><input id='index-4b58eb92-19d0-489f-936e-3bb97926d272' class='xr-index-data-in' type='checkbox'/><label for='index-4b58eb92-19d0-489f-936e-3bb97926d272' title='Show/Hide index repr'><svg class='icon xr-icon-database'><use xlink:href='#icon-database'></use></svg></label><div class='xr-index-data'><pre>PandasIndex(UInt64Index([1], dtype=&#x27;uint64&#x27;, name=&#x27;station&#x27;))</pre></div></li></ul></div></li><li class='xr-section-item'><input id='section-891e627b-34ed-4b93-9716-bcf1e4726b5e' class='xr-section-summary-in' type='checkbox'  ><label for='section-891e627b-34ed-4b93-9716-bcf1e4726b5e' class='xr-section-summary' >Attributes: <span>(31)</span></label><div class='xr-section-inline-details'></div><div class='xr-section-details'><dl class='xr-attrs'><dt><span>title :</span></dt><dd>TROPOS pyranometer network (PyrNet) observations</dd><dt><span>institution :</span></dt><dd>Leibniz Institute for Tropospheric Research (TROPOS)</dd><dt><span>department :</span></dt><dd>Remote Sensing of Atmospheric Processes</dd><dt><span>department_team :</span></dt><dd>Clouds, Aerosol and Radiation</dd><dt><span>address :</span></dt><dd>Permoser Str. 15, 04318 Leipzig, Germany</dd><dt><span>source :</span></dt><dd>TROPOS pyranometer network (PyrNet)</dd><dt><span>contact_person :</span></dt><dd>Andreas Macke and the clouds, aerosol and radiation team of the remote sensing department, mailto:andreas.macke@tropos.de</dd><dt><span>contributor_name :</span></dt><dd></dd><dt><span>contributor_role :</span></dt><dd></dd><dt><span>authors_software :</span></dt><dd>Hartwig Deneke, Jonas Witthuhn, mailto:deneke@tropos.de</dd><dt><span>creator_name :</span></dt><dd></dd><dt><span>project :</span></dt><dd></dd><dt><span>references :</span></dt><dd>https://doi.org/10.5194/amt-9-1153-2016</dd><dt><span>standard_name_vocabulary :</span></dt><dd>CF Standard Name Table v81</dd><dt><span>conventions :</span></dt><dd>CF-1.10, ACDD-1.3</dd><dt><span>license :</span></dt><dd>CC-BY-SA 3.0</dd><dt><span>TESTNOTE :</span></dt><dd>This is a test note.</dd><dt><span>processing_level :</span></dt><dd>l1a</dd><dt><span>product_version :</span></dt><dd>0.1.10+28.g175ed10.dirty</dd><dt><span>history :</span></dt><dd>2024-02-12T12:45:01: Generated level l1a  by pyrnet version 0.1.10+28.g175ed10.dirty; </dd><dt><span>date_created :</span></dt><dd>2024-02-12T12:45:01</dd><dt><span>geospatial_lat_min :</span></dt><dd>51.390208333333334</dd><dt><span>geospatial_lat_max :</span></dt><dd>51.390211666666666</dd><dt><span>geospatial_lat_units :</span></dt><dd>degN</dd><dt><span>geospatial_lon_min :</span></dt><dd>11.885246666666667</dd><dt><span>geospatial_lon_max :</span></dt><dd>11.885256666666667</dd><dt><span>geospatial_lon_units :</span></dt><dd>degE</dd><dt><span>time_coverage_start :</span></dt><dd>2022-08-30T11:21:04.065000</dd><dt><span>time_coverage_end :</span></dt><dd>2022-08-30T11:21:09</dd><dt><span>time_coverage_duration :</span></dt><dd>P0DT0H0M4.935S</dd><dt><span>time_coverage_resolution :</span></dt><dd>P0DT0H0M1.23375S</dd></dl></div></li></ul></div></div>"
     },
     "execution_count": 17,
     "metadata": {},
     "output_type": "execute_result"
    }
   ],
   "source": [
    "#|dropout\n",
    "fn_report = \"../../example_data/results-survey224783.csv\"\n",
    "fn_data = \"../../example_data/Pyr9_000.bin\"\n",
    "\n",
    "fn_cfmeta = pkg_res.resource_filename(\"pyrnet\", \"share/pyrnet_cfmeta.json\")\n",
    "\n",
    "\n",
    "# parse report\n",
    "df_report = pyrnet.reports.get_responses(fn=\"../../example_data/results-survey224783.csv\")\n",
    "report = pyrnet.reports.parse_report(df_report,\n",
    "                              date_of_maintenance=np.datetime64(\"2023-05-08T12:00\"))\n",
    "# read logger file to xarray\n",
    "ds = to_l1a(\n",
    "    fname=fn_data,\n",
    "    station=1, # actually test data is from station 9, but test reports are for station 1 and 2 only\n",
    "    # bins=86400, # seconds resolution\n",
    "    report=report,\n",
    "    config={\"file_cfmeta\": fn_cfmeta, \"stripminutes\": 0},\n",
    "    global_attrs={\"TESTNOTE\": \"This is a test note.\"}\n",
    ")\n",
    "\n",
    "ds.to_netcdf(\"../../example_data/to_l1a_output.nc\")\n",
    "ds"
   ],
   "metadata": {
    "collapsed": false,
    "ExecuteTime": {
     "end_time": "2024-02-12T12:45:01.957351100Z",
     "start_time": "2024-02-12T12:45:01.560754900Z"
    }
   }
  },
  {
   "cell_type": "code",
   "execution_count": 20,
   "outputs": [
    {
     "name": "stdout",
     "output_type": "stream",
     "text": [
      "CHECKING NetCDF FILE: ../../example_data/to_l1a_output.nc\n",
      "=====================\n",
      "Using CF Checker Version 4.1.0\n",
      "Checking against CF Version CF-1.8\n",
      "Using Standard Name Table Version 84 (2024-01-19T15:55:10Z)\n",
      "Using Area Type Table Version 11 (06 July 2023)\n",
      "Using Standardized Region Name Table Version 4 (18 December 2018)\n",
      "\n",
      "ERROR: (2.6.1): This netCDF file does not appear to contain CF Convention data.\n",
      "\n",
      "------------------\n",
      "Checking variable: ghi\n",
      "------------------\n",
      "ERROR: (3.1): Units are not consistent with those given in the standard_name table.\n",
      "ERROR: (8.1): must be of type byte, short or int\n",
      "\n",
      "------------------\n",
      "Checking variable: gti\n",
      "------------------\n",
      "ERROR: (3.1): Units are not consistent with those given in the standard_name table.\n",
      "ERROR: (8.1): must be of type byte, short or int\n",
      "\n",
      "------------------\n",
      "Checking variable: ta\n",
      "------------------\n",
      "ERROR: (8.1): must be of type byte, short or int\n",
      "\n",
      "------------------\n",
      "Checking variable: rh\n",
      "------------------\n",
      "ERROR: (8.1): must be of type byte, short or int\n",
      "\n",
      "------------------\n",
      "Checking variable: battery_voltage\n",
      "------------------\n",
      "ERROR: (3.3): Invalid standard_name: battery_voltage\n",
      "ERROR: (8.1): must be of type byte, short or int\n",
      "\n",
      "------------------\n",
      "Checking variable: lat\n",
      "------------------\n",
      "ERROR: (8.1): scale_factor and add_offset must be the same numeric data type\n",
      "\n",
      "------------------\n",
      "Checking variable: lon\n",
      "------------------\n",
      "ERROR: (8.1): scale_factor and add_offset must be the same numeric data type\n",
      "\n",
      "------------------\n",
      "Checking variable: ghi_qc\n",
      "------------------\n",
      "ERROR: Attribute flag_masks of incorrect type (expecting 'Data Variable' type, got 'Numeric' type)\n",
      "ERROR: Attribute flag_values of incorrect type (expecting 'Data Variable' type, got 'Numeric' type)\n",
      "ERROR: (8.1): must be of type byte, short or int\n",
      "\n",
      "------------------\n",
      "Checking variable: gti_qc\n",
      "------------------\n",
      "ERROR: Attribute flag_masks of incorrect type (expecting 'Data Variable' type, got 'Numeric' type)\n",
      "ERROR: Attribute flag_values of incorrect type (expecting 'Data Variable' type, got 'Numeric' type)\n",
      "ERROR: (8.1): must be of type byte, short or int\n",
      "\n",
      "------------------\n",
      "Checking variable: iadc\n",
      "------------------\n",
      "ERROR: (3.3): Invalid standard_name: index\n",
      "ERROR: (3.1): Invalid units: -\n",
      "\n",
      "------------------\n",
      "Checking variable: adctime\n",
      "------------------\n",
      "WARN: (4.4.1): Use of the calendar and/or month_lengths attributes is recommended for time coordinate variables\n",
      "ERROR: (4.4): Invalid units and/or reference time\n",
      "\n",
      "------------------\n",
      "Checking variable: gpstime\n",
      "------------------\n",
      "WARN: (3): No standard_name or long_name attribute specified\n",
      "\n",
      "------------------\n",
      "Checking variable: station\n",
      "------------------\n",
      "ERROR: (3.1): Invalid units: -\n",
      "\n",
      "ERRORS detected: 21\n",
      "WARNINGS given: 2\n",
      "INFORMATION messages: 0\n"
     ]
    }
   ],
   "source": [
    "import cfchecker.cfchecks\n",
    "init = cfchecker.cfchecks.CFChecker()\n",
    "res = init.checker(\"../../example_data/to_l1a_output.nc\")"
   ],
   "metadata": {
    "collapsed": false,
    "ExecuteTime": {
     "end_time": "2024-01-31T15:32:05.994924400Z",
     "start_time": "2024-01-31T15:32:04.255641300Z"
    }
   }
  },
  {
   "cell_type": "code",
   "execution_count": 21,
   "outputs": [
    {
     "data": {
      "text/plain": "<class 'netCDF4._netCDF4.Dataset'>\nroot group (NETCDF4 data model, file format HDF5):\n    Title: TROPOS pyranometer network (PyrNet) observations\n    Institution: Leibniz Institute for Tropospheric Research (TROPOS)\n    Department: Remote Sensing of Atmospheric Processes\n    Department_team: Clouds, Aerosol and Radiation\n    Address: Permoser Str. 15, 04318 Leipzig, Germany\n    Source: TROPOS pyranometer network (PyrNet)\n    Contact_person: Andreas Macke and the clouds, aerosol and radiation team of the remote sensing department, mailto:andreas.macke@tropos.de\n    Contributor_name: \n    Contributor_role: \n    Authors_software: Hartwig Deneke, Jonas Witthuhn, mailto:deneke@tropos.de\n    Creator_name: \n    Project: \n    References: https://doi.org/10.5194/amt-9-1153-2016\n    Standard_name_vocabulary: CF Standard Name Table v81\n    Conventions: CF-1.10, ACDD-1.3\n    License: CC-BY-SA 3.0\n    TESTNOTE: This is a test note.\n    processing_level: l1a\n    product_version: 0.1.10+15.g5f0229e.dirty\n    history: 2024-01-31T15:32:04: Generated level l1a  by pyrnet version 0.1.10+15.g5f0229e.dirty; \n    date_created: 2024-01-31T15:32:04\n    geospatial_lat_min: 51.390208333333334\n    geospatial_lat_max: 51.390211666666666\n    geospatial_lat_units: degN\n    geospatial_lon_min: 11.885246666666667\n    geospatial_lon_max: 11.885256666666667\n    geospatial_lon_units: degE\n    time_coverage_start: 2022-08-30T11:21:04.065000\n    time_coverage_end: 2022-08-30T11:21:09\n    time_coverage_duration: P0DT0H0M4.935S\n    time_coverage_resolution: P0DT0H0M1.23375S\n    dimensions(sizes): adctime(77), station(1), gpstime(5)\n    variables(dimensions): uint16 ghi(adctime, station), uint16 gti(adctime, station), uint16 ta(adctime, station), uint16 rh(adctime, station), uint16 battery_voltage(adctime, station), uint32 lat(gpstime, station), uint32 lon(gpstime, station), uint16 ghi_qc(station), uint16 gti_qc(station), uint32 iadc(gpstime, station), uint32 adctime(adctime), float64 gpstime(gpstime), uint8 station(station)\n    groups: "
     },
     "execution_count": 18,
     "metadata": {},
     "output_type": "execute_result"
    }
   ],
   "source": [
    "#|dropout\n",
    "import netCDF4\n",
    "netCDF4.Dataset(\"../../example_data/to_l1a_output.nc\",'r')"
   ],
   "metadata": {
    "collapsed": false,
    "ExecuteTime": {
     "end_time": "2024-02-12T12:45:01.957854600Z",
     "start_time": "2024-02-12T12:45:01.741944900Z"
    }
   }
  },
  {
   "cell_type": "markdown",
   "source": [
    "\n",
    "\n",
    "## l1b\n",
    "Resampled, calibrated data as daily files per station. Resampling is per default to one second, but can be configured.\n"
   ],
   "metadata": {
    "collapsed": false
   }
  },
  {
   "cell_type": "code",
   "execution_count": 19,
   "outputs": [],
   "source": [
    "fname = \"../../example_data/to_l1a_output.nc\"\n",
    "config = {\n",
    "    \"l1bfreq\": \"1s\",\n",
    "    \"stripminutes\": 5,\n",
    "    \"average_latlon\": True,\n",
    "    \"radflux_varname\": [\"ghi\", \"gti\"]\n",
    "}\n",
    "\n",
    "config = get_config(config)\n",
    "gattrs, vattrs, vencode = get_cfmeta(config)\n"
   ],
   "metadata": {
    "collapsed": false,
    "ExecuteTime": {
     "end_time": "2024-02-12T12:45:01.958855Z",
     "start_time": "2024-02-12T12:45:01.763160Z"
    }
   }
  },
  {
   "cell_type": "markdown",
   "source": [
    "The l1b data is processed from the l1b data with the following workflow:\n",
    "\n",
    "1. Read l1a netcdf\n",
    "2. Sync GPS to ADC time\n",
    "    * ```sync_adc_time```\n",
    "3. Make dataset with new time"
   ],
   "metadata": {
    "collapsed": false
   }
  },
  {
   "cell_type": "code",
   "execution_count": 20,
   "outputs": [
    {
     "data": {
      "text/plain": "<xarray.Dataset>\nDimensions:          (time: 77, station: 1, maintenancetime: 1)\nCoordinates:\n  * maintenancetime  (maintenancetime) datetime64[ns] 2023-05-08T16:09:06\n  * station          (station) float32 1.0\n  * time             (time) datetime64[ns] 2022-08-30T11:21:01.443000 ... 202...\nData variables:\n    ghi              (time, station) float32 ...\n    gti              (time, station) float32 ...\n    ta               (time, station) float32 ...\n    rh               (time, station) float32 ...\n    battery_voltage  (time, station) float32 ...\nAttributes: (12/31)\n    title:                     TROPOS pyranometer network (PyrNet) observations\n    institution:               Leibniz Institute for Tropospheric Research (T...\n    department:                Remote Sensing of Atmospheric Processes\n    department_team:           Clouds, Aerosol and Radiation\n    address:                   Permoser Str. 15, 04318 Leipzig, Germany\n    source:                    TROPOS pyranometer network (PyrNet)\n    ...                        ...\n    geospatial_lon_max:        11.885256666666667\n    geospatial_lon_units:      degE\n    time_coverage_start:       2022-08-30T11:21:04.065000\n    time_coverage_end:         2022-08-30T11:21:09\n    time_coverage_duration:    P0DT0H0M4.935S\n    time_coverage_resolution:  P0DT0H0M1.23375S",
      "text/html": "<div><svg style=\"position: absolute; width: 0; height: 0; overflow: hidden\">\n<defs>\n<symbol id=\"icon-database\" viewBox=\"0 0 32 32\">\n<path d=\"M16 0c-8.837 0-16 2.239-16 5v4c0 2.761 7.163 5 16 5s16-2.239 16-5v-4c0-2.761-7.163-5-16-5z\"></path>\n<path d=\"M16 17c-8.837 0-16-2.239-16-5v6c0 2.761 7.163 5 16 5s16-2.239 16-5v-6c0 2.761-7.163 5-16 5z\"></path>\n<path d=\"M16 26c-8.837 0-16-2.239-16-5v6c0 2.761 7.163 5 16 5s16-2.239 16-5v-6c0 2.761-7.163 5-16 5z\"></path>\n</symbol>\n<symbol id=\"icon-file-text2\" viewBox=\"0 0 32 32\">\n<path d=\"M28.681 7.159c-0.694-0.947-1.662-2.053-2.724-3.116s-2.169-2.030-3.116-2.724c-1.612-1.182-2.393-1.319-2.841-1.319h-15.5c-1.378 0-2.5 1.121-2.5 2.5v27c0 1.378 1.122 2.5 2.5 2.5h23c1.378 0 2.5-1.122 2.5-2.5v-19.5c0-0.448-0.137-1.23-1.319-2.841zM24.543 5.457c0.959 0.959 1.712 1.825 2.268 2.543h-4.811v-4.811c0.718 0.556 1.584 1.309 2.543 2.268zM28 29.5c0 0.271-0.229 0.5-0.5 0.5h-23c-0.271 0-0.5-0.229-0.5-0.5v-27c0-0.271 0.229-0.5 0.5-0.5 0 0 15.499-0 15.5 0v7c0 0.552 0.448 1 1 1h7v19.5z\"></path>\n<path d=\"M23 26h-14c-0.552 0-1-0.448-1-1s0.448-1 1-1h14c0.552 0 1 0.448 1 1s-0.448 1-1 1z\"></path>\n<path d=\"M23 22h-14c-0.552 0-1-0.448-1-1s0.448-1 1-1h14c0.552 0 1 0.448 1 1s-0.448 1-1 1z\"></path>\n<path d=\"M23 18h-14c-0.552 0-1-0.448-1-1s0.448-1 1-1h14c0.552 0 1 0.448 1 1s-0.448 1-1 1z\"></path>\n</symbol>\n</defs>\n</svg>\n<style>/* CSS stylesheet for displaying xarray objects in jupyterlab.\n *\n */\n\n:root {\n  --xr-font-color0: var(--jp-content-font-color0, rgba(0, 0, 0, 1));\n  --xr-font-color2: var(--jp-content-font-color2, rgba(0, 0, 0, 0.54));\n  --xr-font-color3: var(--jp-content-font-color3, rgba(0, 0, 0, 0.38));\n  --xr-border-color: var(--jp-border-color2, #e0e0e0);\n  --xr-disabled-color: var(--jp-layout-color3, #bdbdbd);\n  --xr-background-color: var(--jp-layout-color0, white);\n  --xr-background-color-row-even: var(--jp-layout-color1, white);\n  --xr-background-color-row-odd: var(--jp-layout-color2, #eeeeee);\n}\n\nhtml[theme=dark],\nbody[data-theme=dark],\nbody.vscode-dark {\n  --xr-font-color0: rgba(255, 255, 255, 1);\n  --xr-font-color2: rgba(255, 255, 255, 0.54);\n  --xr-font-color3: rgba(255, 255, 255, 0.38);\n  --xr-border-color: #1F1F1F;\n  --xr-disabled-color: #515151;\n  --xr-background-color: #111111;\n  --xr-background-color-row-even: #111111;\n  --xr-background-color-row-odd: #313131;\n}\n\n.xr-wrap {\n  display: block !important;\n  min-width: 300px;\n  max-width: 700px;\n}\n\n.xr-text-repr-fallback {\n  /* fallback to plain text repr when CSS is not injected (untrusted notebook) */\n  display: none;\n}\n\n.xr-header {\n  padding-top: 6px;\n  padding-bottom: 6px;\n  margin-bottom: 4px;\n  border-bottom: solid 1px var(--xr-border-color);\n}\n\n.xr-header > div,\n.xr-header > ul {\n  display: inline;\n  margin-top: 0;\n  margin-bottom: 0;\n}\n\n.xr-obj-type,\n.xr-array-name {\n  margin-left: 2px;\n  margin-right: 10px;\n}\n\n.xr-obj-type {\n  color: var(--xr-font-color2);\n}\n\n.xr-sections {\n  padding-left: 0 !important;\n  display: grid;\n  grid-template-columns: 150px auto auto 1fr 20px 20px;\n}\n\n.xr-section-item {\n  display: contents;\n}\n\n.xr-section-item input {\n  display: none;\n}\n\n.xr-section-item input + label {\n  color: var(--xr-disabled-color);\n}\n\n.xr-section-item input:enabled + label {\n  cursor: pointer;\n  color: var(--xr-font-color2);\n}\n\n.xr-section-item input:enabled + label:hover {\n  color: var(--xr-font-color0);\n}\n\n.xr-section-summary {\n  grid-column: 1;\n  color: var(--xr-font-color2);\n  font-weight: 500;\n}\n\n.xr-section-summary > span {\n  display: inline-block;\n  padding-left: 0.5em;\n}\n\n.xr-section-summary-in:disabled + label {\n  color: var(--xr-font-color2);\n}\n\n.xr-section-summary-in + label:before {\n  display: inline-block;\n  content: '►';\n  font-size: 11px;\n  width: 15px;\n  text-align: center;\n}\n\n.xr-section-summary-in:disabled + label:before {\n  color: var(--xr-disabled-color);\n}\n\n.xr-section-summary-in:checked + label:before {\n  content: '▼';\n}\n\n.xr-section-summary-in:checked + label > span {\n  display: none;\n}\n\n.xr-section-summary,\n.xr-section-inline-details {\n  padding-top: 4px;\n  padding-bottom: 4px;\n}\n\n.xr-section-inline-details {\n  grid-column: 2 / -1;\n}\n\n.xr-section-details {\n  display: none;\n  grid-column: 1 / -1;\n  margin-bottom: 5px;\n}\n\n.xr-section-summary-in:checked ~ .xr-section-details {\n  display: contents;\n}\n\n.xr-array-wrap {\n  grid-column: 1 / -1;\n  display: grid;\n  grid-template-columns: 20px auto;\n}\n\n.xr-array-wrap > label {\n  grid-column: 1;\n  vertical-align: top;\n}\n\n.xr-preview {\n  color: var(--xr-font-color3);\n}\n\n.xr-array-preview,\n.xr-array-data {\n  padding: 0 5px !important;\n  grid-column: 2;\n}\n\n.xr-array-data,\n.xr-array-in:checked ~ .xr-array-preview {\n  display: none;\n}\n\n.xr-array-in:checked ~ .xr-array-data,\n.xr-array-preview {\n  display: inline-block;\n}\n\n.xr-dim-list {\n  display: inline-block !important;\n  list-style: none;\n  padding: 0 !important;\n  margin: 0;\n}\n\n.xr-dim-list li {\n  display: inline-block;\n  padding: 0;\n  margin: 0;\n}\n\n.xr-dim-list:before {\n  content: '(';\n}\n\n.xr-dim-list:after {\n  content: ')';\n}\n\n.xr-dim-list li:not(:last-child):after {\n  content: ',';\n  padding-right: 5px;\n}\n\n.xr-has-index {\n  font-weight: bold;\n}\n\n.xr-var-list,\n.xr-var-item {\n  display: contents;\n}\n\n.xr-var-item > div,\n.xr-var-item label,\n.xr-var-item > .xr-var-name span {\n  background-color: var(--xr-background-color-row-even);\n  margin-bottom: 0;\n}\n\n.xr-var-item > .xr-var-name:hover span {\n  padding-right: 5px;\n}\n\n.xr-var-list > li:nth-child(odd) > div,\n.xr-var-list > li:nth-child(odd) > label,\n.xr-var-list > li:nth-child(odd) > .xr-var-name span {\n  background-color: var(--xr-background-color-row-odd);\n}\n\n.xr-var-name {\n  grid-column: 1;\n}\n\n.xr-var-dims {\n  grid-column: 2;\n}\n\n.xr-var-dtype {\n  grid-column: 3;\n  text-align: right;\n  color: var(--xr-font-color2);\n}\n\n.xr-var-preview {\n  grid-column: 4;\n}\n\n.xr-index-preview {\n  grid-column: 2 / 5;\n  color: var(--xr-font-color2);\n}\n\n.xr-var-name,\n.xr-var-dims,\n.xr-var-dtype,\n.xr-preview,\n.xr-attrs dt {\n  white-space: nowrap;\n  overflow: hidden;\n  text-overflow: ellipsis;\n  padding-right: 10px;\n}\n\n.xr-var-name:hover,\n.xr-var-dims:hover,\n.xr-var-dtype:hover,\n.xr-attrs dt:hover {\n  overflow: visible;\n  width: auto;\n  z-index: 1;\n}\n\n.xr-var-attrs,\n.xr-var-data,\n.xr-index-data {\n  display: none;\n  background-color: var(--xr-background-color) !important;\n  padding-bottom: 5px !important;\n}\n\n.xr-var-attrs-in:checked ~ .xr-var-attrs,\n.xr-var-data-in:checked ~ .xr-var-data,\n.xr-index-data-in:checked ~ .xr-index-data {\n  display: block;\n}\n\n.xr-var-data > table {\n  float: right;\n}\n\n.xr-var-name span,\n.xr-var-data,\n.xr-index-name div,\n.xr-index-data,\n.xr-attrs {\n  padding-left: 25px !important;\n}\n\n.xr-attrs,\n.xr-var-attrs,\n.xr-var-data,\n.xr-index-data {\n  grid-column: 1 / -1;\n}\n\ndl.xr-attrs {\n  padding: 0;\n  margin: 0;\n  display: grid;\n  grid-template-columns: 125px auto;\n}\n\n.xr-attrs dt,\n.xr-attrs dd {\n  padding: 0;\n  margin: 0;\n  float: left;\n  padding-right: 10px;\n  width: auto;\n}\n\n.xr-attrs dt {\n  font-weight: normal;\n  grid-column: 1;\n}\n\n.xr-attrs dt:hover span {\n  display: inline-block;\n  background: var(--xr-background-color);\n  padding-right: 10px;\n}\n\n.xr-attrs dd {\n  grid-column: 2;\n  white-space: pre-wrap;\n  word-break: break-all;\n}\n\n.xr-icon-database,\n.xr-icon-file-text2,\n.xr-no-icon {\n  display: inline-block;\n  vertical-align: middle;\n  width: 1em;\n  height: 1.5em !important;\n  stroke-width: 0;\n  stroke: currentColor;\n  fill: currentColor;\n}\n</style><pre class='xr-text-repr-fallback'>&lt;xarray.Dataset&gt;\nDimensions:          (time: 77, station: 1, maintenancetime: 1)\nCoordinates:\n  * maintenancetime  (maintenancetime) datetime64[ns] 2023-05-08T16:09:06\n  * station          (station) float32 1.0\n  * time             (time) datetime64[ns] 2022-08-30T11:21:01.443000 ... 202...\nData variables:\n    ghi              (time, station) float32 ...\n    gti              (time, station) float32 ...\n    ta               (time, station) float32 ...\n    rh               (time, station) float32 ...\n    battery_voltage  (time, station) float32 ...\nAttributes: (12/31)\n    title:                     TROPOS pyranometer network (PyrNet) observations\n    institution:               Leibniz Institute for Tropospheric Research (T...\n    department:                Remote Sensing of Atmospheric Processes\n    department_team:           Clouds, Aerosol and Radiation\n    address:                   Permoser Str. 15, 04318 Leipzig, Germany\n    source:                    TROPOS pyranometer network (PyrNet)\n    ...                        ...\n    geospatial_lon_max:        11.885256666666667\n    geospatial_lon_units:      degE\n    time_coverage_start:       2022-08-30T11:21:04.065000\n    time_coverage_end:         2022-08-30T11:21:09\n    time_coverage_duration:    P0DT0H0M4.935S\n    time_coverage_resolution:  P0DT0H0M1.23375S</pre><div class='xr-wrap' style='display:none'><div class='xr-header'><div class='xr-obj-type'>xarray.Dataset</div></div><ul class='xr-sections'><li class='xr-section-item'><input id='section-4049ef59-9eef-41c0-ae87-1cfd53e2d112' class='xr-section-summary-in' type='checkbox' disabled ><label for='section-4049ef59-9eef-41c0-ae87-1cfd53e2d112' class='xr-section-summary'  title='Expand/collapse section'>Dimensions:</label><div class='xr-section-inline-details'><ul class='xr-dim-list'><li><span class='xr-has-index'>time</span>: 77</li><li><span class='xr-has-index'>station</span>: 1</li><li><span class='xr-has-index'>maintenancetime</span>: 1</li></ul></div><div class='xr-section-details'></div></li><li class='xr-section-item'><input id='section-2c44131f-9d26-4fb0-9f0c-1854f9325071' class='xr-section-summary-in' type='checkbox'  checked><label for='section-2c44131f-9d26-4fb0-9f0c-1854f9325071' class='xr-section-summary' >Coordinates: <span>(3)</span></label><div class='xr-section-inline-details'></div><div class='xr-section-details'><ul class='xr-var-list'><li class='xr-var-item'><div class='xr-var-name'><span class='xr-has-index'>maintenancetime</span></div><div class='xr-var-dims'>(maintenancetime)</div><div class='xr-var-dtype'>datetime64[ns]</div><div class='xr-var-preview xr-preview'>2023-05-08T16:09:06</div><input id='attrs-899ecfd4-db0f-41bd-ae0e-d62ba043d916' class='xr-var-attrs-in' type='checkbox' disabled><label for='attrs-899ecfd4-db0f-41bd-ae0e-d62ba043d916' title='Show/Hide attributes'><svg class='icon xr-icon-file-text2'><use xlink:href='#icon-file-text2'></use></svg></label><input id='data-95b72cf8-6c8b-44f5-a8d5-6289e2a9566e' class='xr-var-data-in' type='checkbox'><label for='data-95b72cf8-6c8b-44f5-a8d5-6289e2a9566e' title='Show/Hide data repr'><svg class='icon xr-icon-database'><use xlink:href='#icon-database'></use></svg></label><div class='xr-var-attrs'><dl class='xr-attrs'></dl></div><div class='xr-var-data'><pre>array([&#x27;2023-05-08T16:09:06.000000000&#x27;], dtype=&#x27;datetime64[ns]&#x27;)</pre></div></li><li class='xr-var-item'><div class='xr-var-name'><span class='xr-has-index'>station</span></div><div class='xr-var-dims'>(station)</div><div class='xr-var-dtype'>float32</div><div class='xr-var-preview xr-preview'>1.0</div><input id='attrs-42e3876e-afd3-428b-9f7f-a796be80e1b0' class='xr-var-attrs-in' type='checkbox' ><label for='attrs-42e3876e-afd3-428b-9f7f-a796be80e1b0' title='Show/Hide attributes'><svg class='icon xr-icon-file-text2'><use xlink:href='#icon-file-text2'></use></svg></label><input id='data-d1cd67c3-594e-4294-93e7-94f9e7f650c1' class='xr-var-data-in' type='checkbox'><label for='data-d1cd67c3-594e-4294-93e7-94f9e7f650c1' title='Show/Hide data repr'><svg class='icon xr-icon-database'><use xlink:href='#icon-database'></use></svg></label><div class='xr-var-attrs'><dl class='xr-attrs'><dt><span>units :</span></dt><dd>-</dd><dt><span>long_name :</span></dt><dd>PyrNet unit box number</dd></dl></div><div class='xr-var-data'><pre>array([1.], dtype=float32)</pre></div></li><li class='xr-var-item'><div class='xr-var-name'><span class='xr-has-index'>time</span></div><div class='xr-var-dims'>(time)</div><div class='xr-var-dtype'>datetime64[ns]</div><div class='xr-var-preview xr-preview'>2022-08-30T11:21:01.443000 ... 2...</div><input id='attrs-48a45602-4f0a-4781-b8db-4dcd77af1279' class='xr-var-attrs-in' type='checkbox' disabled><label for='attrs-48a45602-4f0a-4781-b8db-4dcd77af1279' title='Show/Hide attributes'><svg class='icon xr-icon-file-text2'><use xlink:href='#icon-file-text2'></use></svg></label><input id='data-68c0ada7-b7b9-4ea2-993f-613abf505803' class='xr-var-data-in' type='checkbox'><label for='data-68c0ada7-b7b9-4ea2-993f-613abf505803' title='Show/Hide data repr'><svg class='icon xr-icon-database'><use xlink:href='#icon-database'></use></svg></label><div class='xr-var-attrs'><dl class='xr-attrs'></dl></div><div class='xr-var-data'><pre>array([&#x27;2022-08-30T11:21:01.443000000&#x27;, &#x27;2022-08-30T11:21:01.545000000&#x27;,\n       &#x27;2022-08-30T11:21:01.647000000&#x27;, &#x27;2022-08-30T11:21:01.750000000&#x27;,\n       &#x27;2022-08-30T11:21:01.852000000&#x27;, &#x27;2022-08-30T11:21:01.955000000&#x27;,\n       &#x27;2022-08-30T11:21:02.057000000&#x27;, &#x27;2022-08-30T11:21:02.160000000&#x27;,\n       &#x27;2022-08-30T11:21:02.262000000&#x27;, &#x27;2022-08-30T11:21:02.364000000&#x27;,\n       &#x27;2022-08-30T11:21:02.467000000&#x27;, &#x27;2022-08-30T11:21:02.569000000&#x27;,\n       &#x27;2022-08-30T11:21:02.672000000&#x27;, &#x27;2022-08-30T11:21:02.774000000&#x27;,\n       &#x27;2022-08-30T11:21:02.877000000&#x27;, &#x27;2022-08-30T11:21:02.979000000&#x27;,\n       &#x27;2022-08-30T11:21:03.081000000&#x27;, &#x27;2022-08-30T11:21:03.184000000&#x27;,\n       &#x27;2022-08-30T11:21:03.286000000&#x27;, &#x27;2022-08-30T11:21:03.389000000&#x27;,\n       &#x27;2022-08-30T11:21:03.491000000&#x27;, &#x27;2022-08-30T11:21:03.594000000&#x27;,\n       &#x27;2022-08-30T11:21:03.696000000&#x27;, &#x27;2022-08-30T11:21:03.799000000&#x27;,\n       &#x27;2022-08-30T11:21:03.901000000&#x27;, &#x27;2022-08-30T11:21:04.003000000&#x27;,\n       &#x27;2022-08-30T11:21:04.106000000&#x27;, &#x27;2022-08-30T11:21:04.208000000&#x27;,\n       &#x27;2022-08-30T11:21:04.311000000&#x27;, &#x27;2022-08-30T11:21:04.413000000&#x27;,\n       &#x27;2022-08-30T11:21:04.516000000&#x27;, &#x27;2022-08-30T11:21:04.618000000&#x27;,\n       &#x27;2022-08-30T11:21:04.720000000&#x27;, &#x27;2022-08-30T11:21:04.823000000&#x27;,\n       &#x27;2022-08-30T11:21:04.925000000&#x27;, &#x27;2022-08-30T11:21:05.028000000&#x27;,\n       &#x27;2022-08-30T11:21:05.130000000&#x27;, &#x27;2022-08-30T11:21:05.233000000&#x27;,\n       &#x27;2022-08-30T11:21:05.335000000&#x27;, &#x27;2022-08-30T11:21:05.438000000&#x27;,\n       &#x27;2022-08-30T11:21:05.540000000&#x27;, &#x27;2022-08-30T11:21:05.642000000&#x27;,\n       &#x27;2022-08-30T11:21:05.745000000&#x27;, &#x27;2022-08-30T11:21:05.847000000&#x27;,\n       &#x27;2022-08-30T11:21:05.950000000&#x27;, &#x27;2022-08-30T11:21:06.052000000&#x27;,\n       &#x27;2022-08-30T11:21:06.155000000&#x27;, &#x27;2022-08-30T11:21:06.257000000&#x27;,\n       &#x27;2022-08-30T11:21:06.359000000&#x27;, &#x27;2022-08-30T11:21:06.462000000&#x27;,\n       &#x27;2022-08-30T11:21:06.564000000&#x27;, &#x27;2022-08-30T11:21:06.667000000&#x27;,\n       &#x27;2022-08-30T11:21:06.769000000&#x27;, &#x27;2022-08-30T11:21:06.872000000&#x27;,\n       &#x27;2022-08-30T11:21:06.974000000&#x27;, &#x27;2022-08-30T11:21:07.077000000&#x27;,\n       &#x27;2022-08-30T11:21:07.179000000&#x27;, &#x27;2022-08-30T11:21:07.281000000&#x27;,\n       &#x27;2022-08-30T11:21:07.384000000&#x27;, &#x27;2022-08-30T11:21:07.486000000&#x27;,\n       &#x27;2022-08-30T11:21:07.589000000&#x27;, &#x27;2022-08-30T11:21:07.691000000&#x27;,\n       &#x27;2022-08-30T11:21:07.794000000&#x27;, &#x27;2022-08-30T11:21:07.896000000&#x27;,\n       &#x27;2022-08-30T11:21:07.998000000&#x27;, &#x27;2022-08-30T11:21:08.101000000&#x27;,\n       &#x27;2022-08-30T11:21:08.203000000&#x27;, &#x27;2022-08-30T11:21:08.306000000&#x27;,\n       &#x27;2022-08-30T11:21:08.408000000&#x27;, &#x27;2022-08-30T11:21:08.511000000&#x27;,\n       &#x27;2022-08-30T11:21:08.613000000&#x27;, &#x27;2022-08-30T11:21:08.715000000&#x27;,\n       &#x27;2022-08-30T11:21:08.818000000&#x27;, &#x27;2022-08-30T11:21:08.920000000&#x27;,\n       &#x27;2022-08-30T11:21:09.023000000&#x27;, &#x27;2022-08-30T11:21:09.125000000&#x27;,\n       &#x27;2022-08-30T11:21:09.228000000&#x27;], dtype=&#x27;datetime64[ns]&#x27;)</pre></div></li></ul></div></li><li class='xr-section-item'><input id='section-88b7877d-d2cd-4f6d-93a0-073ca7df2b0d' class='xr-section-summary-in' type='checkbox'  checked><label for='section-88b7877d-d2cd-4f6d-93a0-073ca7df2b0d' class='xr-section-summary' >Data variables: <span>(5)</span></label><div class='xr-section-inline-details'></div><div class='xr-section-details'><ul class='xr-var-list'><li class='xr-var-item'><div class='xr-var-name'><span>ghi</span></div><div class='xr-var-dims'>(time, station)</div><div class='xr-var-dtype'>float32</div><div class='xr-var-preview xr-preview'>...</div><input id='attrs-b8b18386-379c-4bd5-86ee-816d72f18958' class='xr-var-attrs-in' type='checkbox' ><label for='attrs-b8b18386-379c-4bd5-86ee-816d72f18958' title='Show/Hide attributes'><svg class='icon xr-icon-file-text2'><use xlink:href='#icon-file-text2'></use></svg></label><input id='data-5b17fe9a-ce11-4960-a939-556bb9a73379' class='xr-var-data-in' type='checkbox'><label for='data-5b17fe9a-ce11-4960-a939-556bb9a73379' title='Show/Hide data repr'><svg class='icon xr-icon-database'><use xlink:href='#icon-database'></use></svg></label><div class='xr-var-attrs'><dl class='xr-attrs'><dt><span>units :</span></dt><dd>V</dd><dt><span>long_name :</span></dt><dd>downwelling shortwave flux</dd><dt><span>standard_name :</span></dt><dd>downwelling_shortwave_flux_in_air</dd><dt><span>valid_range :</span></dt><dd>[   0 1023]</dd></dl></div><div class='xr-var-data'><pre>[77 values with dtype=float32]</pre></div></li><li class='xr-var-item'><div class='xr-var-name'><span>gti</span></div><div class='xr-var-dims'>(time, station)</div><div class='xr-var-dtype'>float32</div><div class='xr-var-preview xr-preview'>...</div><input id='attrs-3bcccf81-3040-4ee9-9217-55de6693a831' class='xr-var-attrs-in' type='checkbox' ><label for='attrs-3bcccf81-3040-4ee9-9217-55de6693a831' title='Show/Hide attributes'><svg class='icon xr-icon-file-text2'><use xlink:href='#icon-file-text2'></use></svg></label><input id='data-ebe22dda-9f8e-4fdc-88c9-74be82788aed' class='xr-var-data-in' type='checkbox'><label for='data-ebe22dda-9f8e-4fdc-88c9-74be82788aed' title='Show/Hide data repr'><svg class='icon xr-icon-database'><use xlink:href='#icon-database'></use></svg></label><div class='xr-var-attrs'><dl class='xr-attrs'><dt><span>units :</span></dt><dd>V</dd><dt><span>long_name :</span></dt><dd>downwelling shortwave flux measured on secondary platform, might be tilted</dd><dt><span>standard_name :</span></dt><dd>downwelling_shortwave_flux_in_air</dd><dt><span>valid_range :</span></dt><dd>[   0 1023]</dd><dt><span>hangle :</span></dt><dd>0.0</dd><dt><span>vangle :</span></dt><dd>0.0</dd></dl></div><div class='xr-var-data'><pre>[77 values with dtype=float32]</pre></div></li><li class='xr-var-item'><div class='xr-var-name'><span>ta</span></div><div class='xr-var-dims'>(time, station)</div><div class='xr-var-dtype'>float32</div><div class='xr-var-preview xr-preview'>...</div><input id='attrs-4d32ad9d-cfe3-41b2-9ba4-9bd9bb35ad5b' class='xr-var-attrs-in' type='checkbox' ><label for='attrs-4d32ad9d-cfe3-41b2-9ba4-9bd9bb35ad5b' title='Show/Hide attributes'><svg class='icon xr-icon-file-text2'><use xlink:href='#icon-file-text2'></use></svg></label><input id='data-43c08aee-f558-4cd5-87ef-236c30c655a2' class='xr-var-data-in' type='checkbox'><label for='data-43c08aee-f558-4cd5-87ef-236c30c655a2' title='Show/Hide data repr'><svg class='icon xr-icon-database'><use xlink:href='#icon-database'></use></svg></label><div class='xr-var-attrs'><dl class='xr-attrs'><dt><span>units :</span></dt><dd>K</dd><dt><span>long_name :</span></dt><dd>air temperature</dd><dt><span>standard_name :</span></dt><dd>air_temperature</dd><dt><span>valid_range :</span></dt><dd>[  0 775]</dd></dl></div><div class='xr-var-data'><pre>[77 values with dtype=float32]</pre></div></li><li class='xr-var-item'><div class='xr-var-name'><span>rh</span></div><div class='xr-var-dims'>(time, station)</div><div class='xr-var-dtype'>float32</div><div class='xr-var-preview xr-preview'>...</div><input id='attrs-5bad1361-655b-4828-88cc-4ec20e765e80' class='xr-var-attrs-in' type='checkbox' ><label for='attrs-5bad1361-655b-4828-88cc-4ec20e765e80' title='Show/Hide attributes'><svg class='icon xr-icon-file-text2'><use xlink:href='#icon-file-text2'></use></svg></label><input id='data-71368f52-ac92-4ea0-9bfc-cde36e505140' class='xr-var-data-in' type='checkbox'><label for='data-71368f52-ac92-4ea0-9bfc-cde36e505140' title='Show/Hide data repr'><svg class='icon xr-icon-database'><use xlink:href='#icon-database'></use></svg></label><div class='xr-var-attrs'><dl class='xr-attrs'><dt><span>units :</span></dt><dd>1</dd><dt><span>long_name :</span></dt><dd>air relative humidity</dd><dt><span>standard_name :</span></dt><dd>relative_humidity</dd><dt><span>valid_range :</span></dt><dd>[  0 775]</dd></dl></div><div class='xr-var-data'><pre>[77 values with dtype=float32]</pre></div></li><li class='xr-var-item'><div class='xr-var-name'><span>battery_voltage</span></div><div class='xr-var-dims'>(time, station)</div><div class='xr-var-dtype'>float32</div><div class='xr-var-preview xr-preview'>...</div><input id='attrs-d597d546-06cc-48a0-a088-6d23a32a3f8b' class='xr-var-attrs-in' type='checkbox' ><label for='attrs-d597d546-06cc-48a0-a088-6d23a32a3f8b' title='Show/Hide attributes'><svg class='icon xr-icon-file-text2'><use xlink:href='#icon-file-text2'></use></svg></label><input id='data-d2b76fea-b048-4ca6-bc95-6346c08f9e3c' class='xr-var-data-in' type='checkbox'><label for='data-d2b76fea-b048-4ca6-bc95-6346c08f9e3c' title='Show/Hide data repr'><svg class='icon xr-icon-database'><use xlink:href='#icon-database'></use></svg></label><div class='xr-var-attrs'><dl class='xr-attrs'><dt><span>units :</span></dt><dd>V</dd><dt><span>standard_name :</span></dt><dd>battery_voltage</dd><dt><span>valid_range :</span></dt><dd>[  0 992]</dd></dl></div><div class='xr-var-data'><pre>[77 values with dtype=float32]</pre></div></li></ul></div></li><li class='xr-section-item'><input id='section-fcf4eff9-0eec-4a79-a44b-31a9df6581c0' class='xr-section-summary-in' type='checkbox'  ><label for='section-fcf4eff9-0eec-4a79-a44b-31a9df6581c0' class='xr-section-summary' >Indexes: <span>(3)</span></label><div class='xr-section-inline-details'></div><div class='xr-section-details'><ul class='xr-var-list'><li class='xr-var-item'><div class='xr-index-name'><div>maintenancetime</div></div><div class='xr-index-preview'>PandasIndex</div><div></div><input id='index-2c6a8765-bd12-465a-a377-addb75114bed' class='xr-index-data-in' type='checkbox'/><label for='index-2c6a8765-bd12-465a-a377-addb75114bed' title='Show/Hide index repr'><svg class='icon xr-icon-database'><use xlink:href='#icon-database'></use></svg></label><div class='xr-index-data'><pre>PandasIndex(DatetimeIndex([&#x27;2023-05-08 16:09:06&#x27;], dtype=&#x27;datetime64[ns]&#x27;, name=&#x27;maintenancetime&#x27;, freq=None))</pre></div></li><li class='xr-var-item'><div class='xr-index-name'><div>station</div></div><div class='xr-index-preview'>PandasIndex</div><div></div><input id='index-127cdac0-7fda-4db4-a906-a4aa25d99687' class='xr-index-data-in' type='checkbox'/><label for='index-127cdac0-7fda-4db4-a906-a4aa25d99687' title='Show/Hide index repr'><svg class='icon xr-icon-database'><use xlink:href='#icon-database'></use></svg></label><div class='xr-index-data'><pre>PandasIndex(Float64Index([1.0], dtype=&#x27;float64&#x27;, name=&#x27;station&#x27;))</pre></div></li><li class='xr-var-item'><div class='xr-index-name'><div>time</div></div><div class='xr-index-preview'>PandasIndex</div><div></div><input id='index-33c0dbfc-8796-469d-a490-81a2a0382b68' class='xr-index-data-in' type='checkbox'/><label for='index-33c0dbfc-8796-469d-a490-81a2a0382b68' title='Show/Hide index repr'><svg class='icon xr-icon-database'><use xlink:href='#icon-database'></use></svg></label><div class='xr-index-data'><pre>PandasIndex(DatetimeIndex([&#x27;2022-08-30 11:21:01.443000&#x27;, &#x27;2022-08-30 11:21:01.545000&#x27;,\n               &#x27;2022-08-30 11:21:01.647000&#x27;, &#x27;2022-08-30 11:21:01.750000&#x27;,\n               &#x27;2022-08-30 11:21:01.852000&#x27;, &#x27;2022-08-30 11:21:01.955000&#x27;,\n               &#x27;2022-08-30 11:21:02.057000&#x27;, &#x27;2022-08-30 11:21:02.160000&#x27;,\n               &#x27;2022-08-30 11:21:02.262000&#x27;, &#x27;2022-08-30 11:21:02.364000&#x27;,\n               &#x27;2022-08-30 11:21:02.467000&#x27;, &#x27;2022-08-30 11:21:02.569000&#x27;,\n               &#x27;2022-08-30 11:21:02.672000&#x27;, &#x27;2022-08-30 11:21:02.774000&#x27;,\n               &#x27;2022-08-30 11:21:02.877000&#x27;, &#x27;2022-08-30 11:21:02.979000&#x27;,\n               &#x27;2022-08-30 11:21:03.081000&#x27;, &#x27;2022-08-30 11:21:03.184000&#x27;,\n               &#x27;2022-08-30 11:21:03.286000&#x27;, &#x27;2022-08-30 11:21:03.389000&#x27;,\n               &#x27;2022-08-30 11:21:03.491000&#x27;, &#x27;2022-08-30 11:21:03.594000&#x27;,\n               &#x27;2022-08-30 11:21:03.696000&#x27;, &#x27;2022-08-30 11:21:03.799000&#x27;,\n               &#x27;2022-08-30 11:21:03.901000&#x27;, &#x27;2022-08-30 11:21:04.003000&#x27;,\n               &#x27;2022-08-30 11:21:04.106000&#x27;, &#x27;2022-08-30 11:21:04.208000&#x27;,\n               &#x27;2022-08-30 11:21:04.311000&#x27;, &#x27;2022-08-30 11:21:04.413000&#x27;,\n               &#x27;2022-08-30 11:21:04.516000&#x27;, &#x27;2022-08-30 11:21:04.618000&#x27;,\n               &#x27;2022-08-30 11:21:04.720000&#x27;, &#x27;2022-08-30 11:21:04.823000&#x27;,\n               &#x27;2022-08-30 11:21:04.925000&#x27;, &#x27;2022-08-30 11:21:05.028000&#x27;,\n               &#x27;2022-08-30 11:21:05.130000&#x27;, &#x27;2022-08-30 11:21:05.233000&#x27;,\n               &#x27;2022-08-30 11:21:05.335000&#x27;, &#x27;2022-08-30 11:21:05.438000&#x27;,\n               &#x27;2022-08-30 11:21:05.540000&#x27;, &#x27;2022-08-30 11:21:05.642000&#x27;,\n               &#x27;2022-08-30 11:21:05.745000&#x27;, &#x27;2022-08-30 11:21:05.847000&#x27;,\n               &#x27;2022-08-30 11:21:05.950000&#x27;, &#x27;2022-08-30 11:21:06.052000&#x27;,\n               &#x27;2022-08-30 11:21:06.155000&#x27;, &#x27;2022-08-30 11:21:06.257000&#x27;,\n               &#x27;2022-08-30 11:21:06.359000&#x27;, &#x27;2022-08-30 11:21:06.462000&#x27;,\n               &#x27;2022-08-30 11:21:06.564000&#x27;, &#x27;2022-08-30 11:21:06.667000&#x27;,\n               &#x27;2022-08-30 11:21:06.769000&#x27;, &#x27;2022-08-30 11:21:06.872000&#x27;,\n               &#x27;2022-08-30 11:21:06.974000&#x27;, &#x27;2022-08-30 11:21:07.077000&#x27;,\n               &#x27;2022-08-30 11:21:07.179000&#x27;, &#x27;2022-08-30 11:21:07.281000&#x27;,\n               &#x27;2022-08-30 11:21:07.384000&#x27;, &#x27;2022-08-30 11:21:07.486000&#x27;,\n               &#x27;2022-08-30 11:21:07.589000&#x27;, &#x27;2022-08-30 11:21:07.691000&#x27;,\n               &#x27;2022-08-30 11:21:07.794000&#x27;, &#x27;2022-08-30 11:21:07.896000&#x27;,\n               &#x27;2022-08-30 11:21:07.998000&#x27;, &#x27;2022-08-30 11:21:08.101000&#x27;,\n               &#x27;2022-08-30 11:21:08.203000&#x27;, &#x27;2022-08-30 11:21:08.306000&#x27;,\n               &#x27;2022-08-30 11:21:08.408000&#x27;, &#x27;2022-08-30 11:21:08.511000&#x27;,\n               &#x27;2022-08-30 11:21:08.613000&#x27;, &#x27;2022-08-30 11:21:08.715000&#x27;,\n               &#x27;2022-08-30 11:21:08.818000&#x27;, &#x27;2022-08-30 11:21:08.920000&#x27;,\n               &#x27;2022-08-30 11:21:09.023000&#x27;, &#x27;2022-08-30 11:21:09.125000&#x27;,\n               &#x27;2022-08-30 11:21:09.228000&#x27;],\n              dtype=&#x27;datetime64[ns]&#x27;, name=&#x27;time&#x27;, freq=None))</pre></div></li></ul></div></li><li class='xr-section-item'><input id='section-89a62cec-74ad-4d01-8e09-e99a48681c8c' class='xr-section-summary-in' type='checkbox'  ><label for='section-89a62cec-74ad-4d01-8e09-e99a48681c8c' class='xr-section-summary' >Attributes: <span>(31)</span></label><div class='xr-section-inline-details'></div><div class='xr-section-details'><dl class='xr-attrs'><dt><span>title :</span></dt><dd>TROPOS pyranometer network (PyrNet) observations</dd><dt><span>institution :</span></dt><dd>Leibniz Institute for Tropospheric Research (TROPOS)</dd><dt><span>department :</span></dt><dd>Remote Sensing of Atmospheric Processes</dd><dt><span>department_team :</span></dt><dd>Clouds, Aerosol and Radiation</dd><dt><span>address :</span></dt><dd>Permoser Str. 15, 04318 Leipzig, Germany</dd><dt><span>source :</span></dt><dd>TROPOS pyranometer network (PyrNet)</dd><dt><span>contact_person :</span></dt><dd>Andreas Macke and the clouds, aerosol and radiation team of the remote sensing department, mailto:andreas.macke@tropos.de</dd><dt><span>contributor_name :</span></dt><dd></dd><dt><span>contributor_role :</span></dt><dd></dd><dt><span>authors_software :</span></dt><dd>Hartwig Deneke, Jonas Witthuhn, mailto:deneke@tropos.de</dd><dt><span>creator_name :</span></dt><dd></dd><dt><span>project :</span></dt><dd></dd><dt><span>references :</span></dt><dd>https://doi.org/10.5194/amt-9-1153-2016</dd><dt><span>standard_name_vocabulary :</span></dt><dd>CF Standard Name Table v81</dd><dt><span>conventions :</span></dt><dd>CF-1.10, ACDD-1.3</dd><dt><span>license :</span></dt><dd>CC-BY-SA 3.0</dd><dt><span>TESTNOTE :</span></dt><dd>This is a test note.</dd><dt><span>processing_level :</span></dt><dd>l1a</dd><dt><span>product_version :</span></dt><dd>0.1.10+28.g175ed10.dirty</dd><dt><span>history :</span></dt><dd>2024-02-12T12:45:01: Generated level l1a  by pyrnet version 0.1.10+28.g175ed10.dirty; </dd><dt><span>date_created :</span></dt><dd>2024-02-12T12:45:01</dd><dt><span>geospatial_lat_min :</span></dt><dd>51.390208333333334</dd><dt><span>geospatial_lat_max :</span></dt><dd>51.390211666666666</dd><dt><span>geospatial_lat_units :</span></dt><dd>degN</dd><dt><span>geospatial_lon_min :</span></dt><dd>11.885246666666667</dd><dt><span>geospatial_lon_max :</span></dt><dd>11.885256666666667</dd><dt><span>geospatial_lon_units :</span></dt><dd>degE</dd><dt><span>time_coverage_start :</span></dt><dd>2022-08-30T11:21:04.065000</dd><dt><span>time_coverage_end :</span></dt><dd>2022-08-30T11:21:09</dd><dt><span>time_coverage_duration :</span></dt><dd>P0DT0H0M4.935S</dd><dt><span>time_coverage_resolution :</span></dt><dd>P0DT0H0M1.23375S</dd></dl></div></li></ul></div></div>"
     },
     "execution_count": 20,
     "metadata": {},
     "output_type": "execute_result"
    }
   ],
   "source": [
    "#|dropcode\n",
    "#|dropout\n",
    "# 1. Load l1a data\n",
    "ds_l1a = xr.open_dataset(fname)\n",
    "# check correct file\n",
    "if ds_l1a.processing_level != \"l1a\":\n",
    "    raise ValueError(f\"{fname} is not a l1a file.\")\n",
    "\n",
    "\n",
    "# 2. Sync GPS to ADC time\n",
    "adctime = pyrnet.logger.sync_adc_time(\n",
    "    adctime = ds_l1a.adctime.values,\n",
    "    gpstime = ds_l1a.gpstime.values,\n",
    "    iadc = ds_l1a.iadc.squeeze().values.astype(int),\n",
    "    check_results= False\n",
    ")\n",
    "\n",
    "# 3. Create new dataset (l1b) with synced time\n",
    "\n",
    "ds_l1b = ds_l1a.drop_dims('gpstime')\n",
    "ds_l1b = ds_l1b.drop_vars(['maintenance_flag_ghi','maintenance_flag_gti']) # keep only time dependend variables\n",
    "ds_l1b = ds_l1b.assign({'time': ('adctime', adctime)})\n",
    "ds_l1b = ds_l1b.swap_dims({\"adctime\":\"time\"})\n",
    "ds_l1b = ds_l1b.drop_vars(\"adctime\")\n",
    "ds_l1b"
   ],
   "metadata": {
    "collapsed": false,
    "ExecuteTime": {
     "end_time": "2024-02-12T12:45:02.142776400Z",
     "start_time": "2024-02-12T12:45:01.781217500Z"
    }
   }
  },
  {
   "cell_type": "code",
   "execution_count": 21,
   "outputs": [],
   "source": [
    "#|hide\n",
    "# dsp = ds_l1b.sel(time=\"2019-07-15\")\n",
    "# plt.figure()\n",
    "# plt.plot(dsp.time, dsp.ghi)\n",
    "# plt.grid()"
   ],
   "metadata": {
    "collapsed": false,
    "ExecuteTime": {
     "end_time": "2024-02-12T12:45:02.144351600Z",
     "start_time": "2024-02-12T12:45:02.046249500Z"
    }
   }
  },
  {
   "cell_type": "markdown",
   "source": [
    "4. Drop first and last X minutes of data to avoid bad data due to maintenance\n",
    "\n",
    "```{note}\n",
    "config.json -> \"stripminutes\"\n",
    "```"
   ],
   "metadata": {
    "collapsed": false
   }
  },
  {
   "cell_type": "code",
   "execution_count": 22,
   "outputs": [
    {
     "data": {
      "text/plain": "<xarray.Dataset>\nDimensions:          (time: 37, station: 1, maintenancetime: 1)\nCoordinates:\n  * maintenancetime  (maintenancetime) datetime64[ns] 2023-05-08T16:09:06\n  * station          (station) float32 1.0\n  * time             (time) datetime64[ns] 2022-08-30T11:21:03.491000 ... 202...\nData variables:\n    ghi              (time, station) float32 ...\n    gti              (time, station) float32 ...\n    ta               (time, station) float32 ...\n    rh               (time, station) float32 ...\n    battery_voltage  (time, station) float32 ...\nAttributes: (12/31)\n    title:                     TROPOS pyranometer network (PyrNet) observations\n    institution:               Leibniz Institute for Tropospheric Research (T...\n    department:                Remote Sensing of Atmospheric Processes\n    department_team:           Clouds, Aerosol and Radiation\n    address:                   Permoser Str. 15, 04318 Leipzig, Germany\n    source:                    TROPOS pyranometer network (PyrNet)\n    ...                        ...\n    geospatial_lon_max:        11.885256666666667\n    geospatial_lon_units:      degE\n    time_coverage_start:       2022-08-30T11:21:04.065000\n    time_coverage_end:         2022-08-30T11:21:09\n    time_coverage_duration:    P0DT0H0M4.935S\n    time_coverage_resolution:  P0DT0H0M1.23375S",
      "text/html": "<div><svg style=\"position: absolute; width: 0; height: 0; overflow: hidden\">\n<defs>\n<symbol id=\"icon-database\" viewBox=\"0 0 32 32\">\n<path d=\"M16 0c-8.837 0-16 2.239-16 5v4c0 2.761 7.163 5 16 5s16-2.239 16-5v-4c0-2.761-7.163-5-16-5z\"></path>\n<path d=\"M16 17c-8.837 0-16-2.239-16-5v6c0 2.761 7.163 5 16 5s16-2.239 16-5v-6c0 2.761-7.163 5-16 5z\"></path>\n<path d=\"M16 26c-8.837 0-16-2.239-16-5v6c0 2.761 7.163 5 16 5s16-2.239 16-5v-6c0 2.761-7.163 5-16 5z\"></path>\n</symbol>\n<symbol id=\"icon-file-text2\" viewBox=\"0 0 32 32\">\n<path d=\"M28.681 7.159c-0.694-0.947-1.662-2.053-2.724-3.116s-2.169-2.030-3.116-2.724c-1.612-1.182-2.393-1.319-2.841-1.319h-15.5c-1.378 0-2.5 1.121-2.5 2.5v27c0 1.378 1.122 2.5 2.5 2.5h23c1.378 0 2.5-1.122 2.5-2.5v-19.5c0-0.448-0.137-1.23-1.319-2.841zM24.543 5.457c0.959 0.959 1.712 1.825 2.268 2.543h-4.811v-4.811c0.718 0.556 1.584 1.309 2.543 2.268zM28 29.5c0 0.271-0.229 0.5-0.5 0.5h-23c-0.271 0-0.5-0.229-0.5-0.5v-27c0-0.271 0.229-0.5 0.5-0.5 0 0 15.499-0 15.5 0v7c0 0.552 0.448 1 1 1h7v19.5z\"></path>\n<path d=\"M23 26h-14c-0.552 0-1-0.448-1-1s0.448-1 1-1h14c0.552 0 1 0.448 1 1s-0.448 1-1 1z\"></path>\n<path d=\"M23 22h-14c-0.552 0-1-0.448-1-1s0.448-1 1-1h14c0.552 0 1 0.448 1 1s-0.448 1-1 1z\"></path>\n<path d=\"M23 18h-14c-0.552 0-1-0.448-1-1s0.448-1 1-1h14c0.552 0 1 0.448 1 1s-0.448 1-1 1z\"></path>\n</symbol>\n</defs>\n</svg>\n<style>/* CSS stylesheet for displaying xarray objects in jupyterlab.\n *\n */\n\n:root {\n  --xr-font-color0: var(--jp-content-font-color0, rgba(0, 0, 0, 1));\n  --xr-font-color2: var(--jp-content-font-color2, rgba(0, 0, 0, 0.54));\n  --xr-font-color3: var(--jp-content-font-color3, rgba(0, 0, 0, 0.38));\n  --xr-border-color: var(--jp-border-color2, #e0e0e0);\n  --xr-disabled-color: var(--jp-layout-color3, #bdbdbd);\n  --xr-background-color: var(--jp-layout-color0, white);\n  --xr-background-color-row-even: var(--jp-layout-color1, white);\n  --xr-background-color-row-odd: var(--jp-layout-color2, #eeeeee);\n}\n\nhtml[theme=dark],\nbody[data-theme=dark],\nbody.vscode-dark {\n  --xr-font-color0: rgba(255, 255, 255, 1);\n  --xr-font-color2: rgba(255, 255, 255, 0.54);\n  --xr-font-color3: rgba(255, 255, 255, 0.38);\n  --xr-border-color: #1F1F1F;\n  --xr-disabled-color: #515151;\n  --xr-background-color: #111111;\n  --xr-background-color-row-even: #111111;\n  --xr-background-color-row-odd: #313131;\n}\n\n.xr-wrap {\n  display: block !important;\n  min-width: 300px;\n  max-width: 700px;\n}\n\n.xr-text-repr-fallback {\n  /* fallback to plain text repr when CSS is not injected (untrusted notebook) */\n  display: none;\n}\n\n.xr-header {\n  padding-top: 6px;\n  padding-bottom: 6px;\n  margin-bottom: 4px;\n  border-bottom: solid 1px var(--xr-border-color);\n}\n\n.xr-header > div,\n.xr-header > ul {\n  display: inline;\n  margin-top: 0;\n  margin-bottom: 0;\n}\n\n.xr-obj-type,\n.xr-array-name {\n  margin-left: 2px;\n  margin-right: 10px;\n}\n\n.xr-obj-type {\n  color: var(--xr-font-color2);\n}\n\n.xr-sections {\n  padding-left: 0 !important;\n  display: grid;\n  grid-template-columns: 150px auto auto 1fr 20px 20px;\n}\n\n.xr-section-item {\n  display: contents;\n}\n\n.xr-section-item input {\n  display: none;\n}\n\n.xr-section-item input + label {\n  color: var(--xr-disabled-color);\n}\n\n.xr-section-item input:enabled + label {\n  cursor: pointer;\n  color: var(--xr-font-color2);\n}\n\n.xr-section-item input:enabled + label:hover {\n  color: var(--xr-font-color0);\n}\n\n.xr-section-summary {\n  grid-column: 1;\n  color: var(--xr-font-color2);\n  font-weight: 500;\n}\n\n.xr-section-summary > span {\n  display: inline-block;\n  padding-left: 0.5em;\n}\n\n.xr-section-summary-in:disabled + label {\n  color: var(--xr-font-color2);\n}\n\n.xr-section-summary-in + label:before {\n  display: inline-block;\n  content: '►';\n  font-size: 11px;\n  width: 15px;\n  text-align: center;\n}\n\n.xr-section-summary-in:disabled + label:before {\n  color: var(--xr-disabled-color);\n}\n\n.xr-section-summary-in:checked + label:before {\n  content: '▼';\n}\n\n.xr-section-summary-in:checked + label > span {\n  display: none;\n}\n\n.xr-section-summary,\n.xr-section-inline-details {\n  padding-top: 4px;\n  padding-bottom: 4px;\n}\n\n.xr-section-inline-details {\n  grid-column: 2 / -1;\n}\n\n.xr-section-details {\n  display: none;\n  grid-column: 1 / -1;\n  margin-bottom: 5px;\n}\n\n.xr-section-summary-in:checked ~ .xr-section-details {\n  display: contents;\n}\n\n.xr-array-wrap {\n  grid-column: 1 / -1;\n  display: grid;\n  grid-template-columns: 20px auto;\n}\n\n.xr-array-wrap > label {\n  grid-column: 1;\n  vertical-align: top;\n}\n\n.xr-preview {\n  color: var(--xr-font-color3);\n}\n\n.xr-array-preview,\n.xr-array-data {\n  padding: 0 5px !important;\n  grid-column: 2;\n}\n\n.xr-array-data,\n.xr-array-in:checked ~ .xr-array-preview {\n  display: none;\n}\n\n.xr-array-in:checked ~ .xr-array-data,\n.xr-array-preview {\n  display: inline-block;\n}\n\n.xr-dim-list {\n  display: inline-block !important;\n  list-style: none;\n  padding: 0 !important;\n  margin: 0;\n}\n\n.xr-dim-list li {\n  display: inline-block;\n  padding: 0;\n  margin: 0;\n}\n\n.xr-dim-list:before {\n  content: '(';\n}\n\n.xr-dim-list:after {\n  content: ')';\n}\n\n.xr-dim-list li:not(:last-child):after {\n  content: ',';\n  padding-right: 5px;\n}\n\n.xr-has-index {\n  font-weight: bold;\n}\n\n.xr-var-list,\n.xr-var-item {\n  display: contents;\n}\n\n.xr-var-item > div,\n.xr-var-item label,\n.xr-var-item > .xr-var-name span {\n  background-color: var(--xr-background-color-row-even);\n  margin-bottom: 0;\n}\n\n.xr-var-item > .xr-var-name:hover span {\n  padding-right: 5px;\n}\n\n.xr-var-list > li:nth-child(odd) > div,\n.xr-var-list > li:nth-child(odd) > label,\n.xr-var-list > li:nth-child(odd) > .xr-var-name span {\n  background-color: var(--xr-background-color-row-odd);\n}\n\n.xr-var-name {\n  grid-column: 1;\n}\n\n.xr-var-dims {\n  grid-column: 2;\n}\n\n.xr-var-dtype {\n  grid-column: 3;\n  text-align: right;\n  color: var(--xr-font-color2);\n}\n\n.xr-var-preview {\n  grid-column: 4;\n}\n\n.xr-index-preview {\n  grid-column: 2 / 5;\n  color: var(--xr-font-color2);\n}\n\n.xr-var-name,\n.xr-var-dims,\n.xr-var-dtype,\n.xr-preview,\n.xr-attrs dt {\n  white-space: nowrap;\n  overflow: hidden;\n  text-overflow: ellipsis;\n  padding-right: 10px;\n}\n\n.xr-var-name:hover,\n.xr-var-dims:hover,\n.xr-var-dtype:hover,\n.xr-attrs dt:hover {\n  overflow: visible;\n  width: auto;\n  z-index: 1;\n}\n\n.xr-var-attrs,\n.xr-var-data,\n.xr-index-data {\n  display: none;\n  background-color: var(--xr-background-color) !important;\n  padding-bottom: 5px !important;\n}\n\n.xr-var-attrs-in:checked ~ .xr-var-attrs,\n.xr-var-data-in:checked ~ .xr-var-data,\n.xr-index-data-in:checked ~ .xr-index-data {\n  display: block;\n}\n\n.xr-var-data > table {\n  float: right;\n}\n\n.xr-var-name span,\n.xr-var-data,\n.xr-index-name div,\n.xr-index-data,\n.xr-attrs {\n  padding-left: 25px !important;\n}\n\n.xr-attrs,\n.xr-var-attrs,\n.xr-var-data,\n.xr-index-data {\n  grid-column: 1 / -1;\n}\n\ndl.xr-attrs {\n  padding: 0;\n  margin: 0;\n  display: grid;\n  grid-template-columns: 125px auto;\n}\n\n.xr-attrs dt,\n.xr-attrs dd {\n  padding: 0;\n  margin: 0;\n  float: left;\n  padding-right: 10px;\n  width: auto;\n}\n\n.xr-attrs dt {\n  font-weight: normal;\n  grid-column: 1;\n}\n\n.xr-attrs dt:hover span {\n  display: inline-block;\n  background: var(--xr-background-color);\n  padding-right: 10px;\n}\n\n.xr-attrs dd {\n  grid-column: 2;\n  white-space: pre-wrap;\n  word-break: break-all;\n}\n\n.xr-icon-database,\n.xr-icon-file-text2,\n.xr-no-icon {\n  display: inline-block;\n  vertical-align: middle;\n  width: 1em;\n  height: 1.5em !important;\n  stroke-width: 0;\n  stroke: currentColor;\n  fill: currentColor;\n}\n</style><pre class='xr-text-repr-fallback'>&lt;xarray.Dataset&gt;\nDimensions:          (time: 37, station: 1, maintenancetime: 1)\nCoordinates:\n  * maintenancetime  (maintenancetime) datetime64[ns] 2023-05-08T16:09:06\n  * station          (station) float32 1.0\n  * time             (time) datetime64[ns] 2022-08-30T11:21:03.491000 ... 202...\nData variables:\n    ghi              (time, station) float32 ...\n    gti              (time, station) float32 ...\n    ta               (time, station) float32 ...\n    rh               (time, station) float32 ...\n    battery_voltage  (time, station) float32 ...\nAttributes: (12/31)\n    title:                     TROPOS pyranometer network (PyrNet) observations\n    institution:               Leibniz Institute for Tropospheric Research (T...\n    department:                Remote Sensing of Atmospheric Processes\n    department_team:           Clouds, Aerosol and Radiation\n    address:                   Permoser Str. 15, 04318 Leipzig, Germany\n    source:                    TROPOS pyranometer network (PyrNet)\n    ...                        ...\n    geospatial_lon_max:        11.885256666666667\n    geospatial_lon_units:      degE\n    time_coverage_start:       2022-08-30T11:21:04.065000\n    time_coverage_end:         2022-08-30T11:21:09\n    time_coverage_duration:    P0DT0H0M4.935S\n    time_coverage_resolution:  P0DT0H0M1.23375S</pre><div class='xr-wrap' style='display:none'><div class='xr-header'><div class='xr-obj-type'>xarray.Dataset</div></div><ul class='xr-sections'><li class='xr-section-item'><input id='section-eee49726-0281-4195-a446-fe0861ca4dd5' class='xr-section-summary-in' type='checkbox' disabled ><label for='section-eee49726-0281-4195-a446-fe0861ca4dd5' class='xr-section-summary'  title='Expand/collapse section'>Dimensions:</label><div class='xr-section-inline-details'><ul class='xr-dim-list'><li><span class='xr-has-index'>time</span>: 37</li><li><span class='xr-has-index'>station</span>: 1</li><li><span class='xr-has-index'>maintenancetime</span>: 1</li></ul></div><div class='xr-section-details'></div></li><li class='xr-section-item'><input id='section-198edbbf-8477-431a-82b3-0169233d8e87' class='xr-section-summary-in' type='checkbox'  checked><label for='section-198edbbf-8477-431a-82b3-0169233d8e87' class='xr-section-summary' >Coordinates: <span>(3)</span></label><div class='xr-section-inline-details'></div><div class='xr-section-details'><ul class='xr-var-list'><li class='xr-var-item'><div class='xr-var-name'><span class='xr-has-index'>maintenancetime</span></div><div class='xr-var-dims'>(maintenancetime)</div><div class='xr-var-dtype'>datetime64[ns]</div><div class='xr-var-preview xr-preview'>2023-05-08T16:09:06</div><input id='attrs-8159eac0-0d3f-4db2-8cb5-5aa5619f09db' class='xr-var-attrs-in' type='checkbox' disabled><label for='attrs-8159eac0-0d3f-4db2-8cb5-5aa5619f09db' title='Show/Hide attributes'><svg class='icon xr-icon-file-text2'><use xlink:href='#icon-file-text2'></use></svg></label><input id='data-de312a61-c1d5-43ec-8962-2568be11a38f' class='xr-var-data-in' type='checkbox'><label for='data-de312a61-c1d5-43ec-8962-2568be11a38f' title='Show/Hide data repr'><svg class='icon xr-icon-database'><use xlink:href='#icon-database'></use></svg></label><div class='xr-var-attrs'><dl class='xr-attrs'></dl></div><div class='xr-var-data'><pre>array([&#x27;2023-05-08T16:09:06.000000000&#x27;], dtype=&#x27;datetime64[ns]&#x27;)</pre></div></li><li class='xr-var-item'><div class='xr-var-name'><span class='xr-has-index'>station</span></div><div class='xr-var-dims'>(station)</div><div class='xr-var-dtype'>float32</div><div class='xr-var-preview xr-preview'>1.0</div><input id='attrs-496d7256-44b8-438f-8ba5-96c75bd2a266' class='xr-var-attrs-in' type='checkbox' ><label for='attrs-496d7256-44b8-438f-8ba5-96c75bd2a266' title='Show/Hide attributes'><svg class='icon xr-icon-file-text2'><use xlink:href='#icon-file-text2'></use></svg></label><input id='data-49c5fe45-4e12-49c5-92d8-0c5b91b1482c' class='xr-var-data-in' type='checkbox'><label for='data-49c5fe45-4e12-49c5-92d8-0c5b91b1482c' title='Show/Hide data repr'><svg class='icon xr-icon-database'><use xlink:href='#icon-database'></use></svg></label><div class='xr-var-attrs'><dl class='xr-attrs'><dt><span>units :</span></dt><dd>-</dd><dt><span>long_name :</span></dt><dd>PyrNet unit box number</dd></dl></div><div class='xr-var-data'><pre>array([1.], dtype=float32)</pre></div></li><li class='xr-var-item'><div class='xr-var-name'><span class='xr-has-index'>time</span></div><div class='xr-var-dims'>(time)</div><div class='xr-var-dtype'>datetime64[ns]</div><div class='xr-var-preview xr-preview'>2022-08-30T11:21:03.491000 ... 2...</div><input id='attrs-c721efa8-e25a-4141-95da-3da8e1b5fcf3' class='xr-var-attrs-in' type='checkbox' disabled><label for='attrs-c721efa8-e25a-4141-95da-3da8e1b5fcf3' title='Show/Hide attributes'><svg class='icon xr-icon-file-text2'><use xlink:href='#icon-file-text2'></use></svg></label><input id='data-9a5ed6dd-e8b2-4ece-b206-7beac30fc57c' class='xr-var-data-in' type='checkbox'><label for='data-9a5ed6dd-e8b2-4ece-b206-7beac30fc57c' title='Show/Hide data repr'><svg class='icon xr-icon-database'><use xlink:href='#icon-database'></use></svg></label><div class='xr-var-attrs'><dl class='xr-attrs'></dl></div><div class='xr-var-data'><pre>array([&#x27;2022-08-30T11:21:03.491000000&#x27;, &#x27;2022-08-30T11:21:03.594000000&#x27;,\n       &#x27;2022-08-30T11:21:03.696000000&#x27;, &#x27;2022-08-30T11:21:03.799000000&#x27;,\n       &#x27;2022-08-30T11:21:03.901000000&#x27;, &#x27;2022-08-30T11:21:04.003000000&#x27;,\n       &#x27;2022-08-30T11:21:04.106000000&#x27;, &#x27;2022-08-30T11:21:04.208000000&#x27;,\n       &#x27;2022-08-30T11:21:04.311000000&#x27;, &#x27;2022-08-30T11:21:04.413000000&#x27;,\n       &#x27;2022-08-30T11:21:04.516000000&#x27;, &#x27;2022-08-30T11:21:04.618000000&#x27;,\n       &#x27;2022-08-30T11:21:04.720000000&#x27;, &#x27;2022-08-30T11:21:04.823000000&#x27;,\n       &#x27;2022-08-30T11:21:04.925000000&#x27;, &#x27;2022-08-30T11:21:05.028000000&#x27;,\n       &#x27;2022-08-30T11:21:05.130000000&#x27;, &#x27;2022-08-30T11:21:05.233000000&#x27;,\n       &#x27;2022-08-30T11:21:05.335000000&#x27;, &#x27;2022-08-30T11:21:05.438000000&#x27;,\n       &#x27;2022-08-30T11:21:05.540000000&#x27;, &#x27;2022-08-30T11:21:05.642000000&#x27;,\n       &#x27;2022-08-30T11:21:05.745000000&#x27;, &#x27;2022-08-30T11:21:05.847000000&#x27;,\n       &#x27;2022-08-30T11:21:05.950000000&#x27;, &#x27;2022-08-30T11:21:06.052000000&#x27;,\n       &#x27;2022-08-30T11:21:06.155000000&#x27;, &#x27;2022-08-30T11:21:06.257000000&#x27;,\n       &#x27;2022-08-30T11:21:06.359000000&#x27;, &#x27;2022-08-30T11:21:06.462000000&#x27;,\n       &#x27;2022-08-30T11:21:06.564000000&#x27;, &#x27;2022-08-30T11:21:06.667000000&#x27;,\n       &#x27;2022-08-30T11:21:06.769000000&#x27;, &#x27;2022-08-30T11:21:06.872000000&#x27;,\n       &#x27;2022-08-30T11:21:06.974000000&#x27;, &#x27;2022-08-30T11:21:07.077000000&#x27;,\n       &#x27;2022-08-30T11:21:07.179000000&#x27;], dtype=&#x27;datetime64[ns]&#x27;)</pre></div></li></ul></div></li><li class='xr-section-item'><input id='section-810b1694-849f-4280-9dac-a1f8c122a688' class='xr-section-summary-in' type='checkbox'  checked><label for='section-810b1694-849f-4280-9dac-a1f8c122a688' class='xr-section-summary' >Data variables: <span>(5)</span></label><div class='xr-section-inline-details'></div><div class='xr-section-details'><ul class='xr-var-list'><li class='xr-var-item'><div class='xr-var-name'><span>ghi</span></div><div class='xr-var-dims'>(time, station)</div><div class='xr-var-dtype'>float32</div><div class='xr-var-preview xr-preview'>...</div><input id='attrs-621cf493-2aee-4d30-a023-a0f4228de279' class='xr-var-attrs-in' type='checkbox' ><label for='attrs-621cf493-2aee-4d30-a023-a0f4228de279' title='Show/Hide attributes'><svg class='icon xr-icon-file-text2'><use xlink:href='#icon-file-text2'></use></svg></label><input id='data-c673ac1a-4a1e-41f2-a0a8-3391dfb66b1f' class='xr-var-data-in' type='checkbox'><label for='data-c673ac1a-4a1e-41f2-a0a8-3391dfb66b1f' title='Show/Hide data repr'><svg class='icon xr-icon-database'><use xlink:href='#icon-database'></use></svg></label><div class='xr-var-attrs'><dl class='xr-attrs'><dt><span>units :</span></dt><dd>V</dd><dt><span>long_name :</span></dt><dd>downwelling shortwave flux</dd><dt><span>standard_name :</span></dt><dd>downwelling_shortwave_flux_in_air</dd><dt><span>valid_range :</span></dt><dd>[   0 1023]</dd></dl></div><div class='xr-var-data'><pre>[37 values with dtype=float32]</pre></div></li><li class='xr-var-item'><div class='xr-var-name'><span>gti</span></div><div class='xr-var-dims'>(time, station)</div><div class='xr-var-dtype'>float32</div><div class='xr-var-preview xr-preview'>...</div><input id='attrs-618b7b1f-99f8-43f1-a9c0-5d6baff25284' class='xr-var-attrs-in' type='checkbox' ><label for='attrs-618b7b1f-99f8-43f1-a9c0-5d6baff25284' title='Show/Hide attributes'><svg class='icon xr-icon-file-text2'><use xlink:href='#icon-file-text2'></use></svg></label><input id='data-f67776b8-807c-41fd-a605-965dd61dd223' class='xr-var-data-in' type='checkbox'><label for='data-f67776b8-807c-41fd-a605-965dd61dd223' title='Show/Hide data repr'><svg class='icon xr-icon-database'><use xlink:href='#icon-database'></use></svg></label><div class='xr-var-attrs'><dl class='xr-attrs'><dt><span>units :</span></dt><dd>V</dd><dt><span>long_name :</span></dt><dd>downwelling shortwave flux measured on secondary platform, might be tilted</dd><dt><span>standard_name :</span></dt><dd>downwelling_shortwave_flux_in_air</dd><dt><span>valid_range :</span></dt><dd>[   0 1023]</dd><dt><span>hangle :</span></dt><dd>0.0</dd><dt><span>vangle :</span></dt><dd>0.0</dd></dl></div><div class='xr-var-data'><pre>[37 values with dtype=float32]</pre></div></li><li class='xr-var-item'><div class='xr-var-name'><span>ta</span></div><div class='xr-var-dims'>(time, station)</div><div class='xr-var-dtype'>float32</div><div class='xr-var-preview xr-preview'>...</div><input id='attrs-87f219f5-5785-451e-bfd4-4808d39b4a43' class='xr-var-attrs-in' type='checkbox' ><label for='attrs-87f219f5-5785-451e-bfd4-4808d39b4a43' title='Show/Hide attributes'><svg class='icon xr-icon-file-text2'><use xlink:href='#icon-file-text2'></use></svg></label><input id='data-1a1477a0-1d8f-4d9f-8341-9f49af9484c9' class='xr-var-data-in' type='checkbox'><label for='data-1a1477a0-1d8f-4d9f-8341-9f49af9484c9' title='Show/Hide data repr'><svg class='icon xr-icon-database'><use xlink:href='#icon-database'></use></svg></label><div class='xr-var-attrs'><dl class='xr-attrs'><dt><span>units :</span></dt><dd>K</dd><dt><span>long_name :</span></dt><dd>air temperature</dd><dt><span>standard_name :</span></dt><dd>air_temperature</dd><dt><span>valid_range :</span></dt><dd>[  0 775]</dd></dl></div><div class='xr-var-data'><pre>[37 values with dtype=float32]</pre></div></li><li class='xr-var-item'><div class='xr-var-name'><span>rh</span></div><div class='xr-var-dims'>(time, station)</div><div class='xr-var-dtype'>float32</div><div class='xr-var-preview xr-preview'>...</div><input id='attrs-f540b042-b1cc-41ec-85b6-d75497eb2afc' class='xr-var-attrs-in' type='checkbox' ><label for='attrs-f540b042-b1cc-41ec-85b6-d75497eb2afc' title='Show/Hide attributes'><svg class='icon xr-icon-file-text2'><use xlink:href='#icon-file-text2'></use></svg></label><input id='data-32f0ef46-bc86-41b5-888b-4c1fd7610ff6' class='xr-var-data-in' type='checkbox'><label for='data-32f0ef46-bc86-41b5-888b-4c1fd7610ff6' title='Show/Hide data repr'><svg class='icon xr-icon-database'><use xlink:href='#icon-database'></use></svg></label><div class='xr-var-attrs'><dl class='xr-attrs'><dt><span>units :</span></dt><dd>1</dd><dt><span>long_name :</span></dt><dd>air relative humidity</dd><dt><span>standard_name :</span></dt><dd>relative_humidity</dd><dt><span>valid_range :</span></dt><dd>[  0 775]</dd></dl></div><div class='xr-var-data'><pre>[37 values with dtype=float32]</pre></div></li><li class='xr-var-item'><div class='xr-var-name'><span>battery_voltage</span></div><div class='xr-var-dims'>(time, station)</div><div class='xr-var-dtype'>float32</div><div class='xr-var-preview xr-preview'>...</div><input id='attrs-10182306-6e90-4da0-816e-f461edd15112' class='xr-var-attrs-in' type='checkbox' ><label for='attrs-10182306-6e90-4da0-816e-f461edd15112' title='Show/Hide attributes'><svg class='icon xr-icon-file-text2'><use xlink:href='#icon-file-text2'></use></svg></label><input id='data-87156718-b4c9-44c0-ba23-e3742c87356d' class='xr-var-data-in' type='checkbox'><label for='data-87156718-b4c9-44c0-ba23-e3742c87356d' title='Show/Hide data repr'><svg class='icon xr-icon-database'><use xlink:href='#icon-database'></use></svg></label><div class='xr-var-attrs'><dl class='xr-attrs'><dt><span>units :</span></dt><dd>V</dd><dt><span>standard_name :</span></dt><dd>battery_voltage</dd><dt><span>valid_range :</span></dt><dd>[  0 992]</dd></dl></div><div class='xr-var-data'><pre>[37 values with dtype=float32]</pre></div></li></ul></div></li><li class='xr-section-item'><input id='section-75633012-9f9a-4e12-8e4e-77b7fe77311a' class='xr-section-summary-in' type='checkbox'  ><label for='section-75633012-9f9a-4e12-8e4e-77b7fe77311a' class='xr-section-summary' >Indexes: <span>(3)</span></label><div class='xr-section-inline-details'></div><div class='xr-section-details'><ul class='xr-var-list'><li class='xr-var-item'><div class='xr-index-name'><div>maintenancetime</div></div><div class='xr-index-preview'>PandasIndex</div><div></div><input id='index-657678a9-60b8-4e59-90ca-36010642dd0b' class='xr-index-data-in' type='checkbox'/><label for='index-657678a9-60b8-4e59-90ca-36010642dd0b' title='Show/Hide index repr'><svg class='icon xr-icon-database'><use xlink:href='#icon-database'></use></svg></label><div class='xr-index-data'><pre>PandasIndex(DatetimeIndex([&#x27;2023-05-08 16:09:06&#x27;], dtype=&#x27;datetime64[ns]&#x27;, name=&#x27;maintenancetime&#x27;, freq=None))</pre></div></li><li class='xr-var-item'><div class='xr-index-name'><div>station</div></div><div class='xr-index-preview'>PandasIndex</div><div></div><input id='index-758994a5-b6ec-41a5-a8e8-0abc9c1e25ab' class='xr-index-data-in' type='checkbox'/><label for='index-758994a5-b6ec-41a5-a8e8-0abc9c1e25ab' title='Show/Hide index repr'><svg class='icon xr-icon-database'><use xlink:href='#icon-database'></use></svg></label><div class='xr-index-data'><pre>PandasIndex(Float64Index([1.0], dtype=&#x27;float64&#x27;, name=&#x27;station&#x27;))</pre></div></li><li class='xr-var-item'><div class='xr-index-name'><div>time</div></div><div class='xr-index-preview'>PandasIndex</div><div></div><input id='index-db939a22-7287-4605-b3cc-e3b3dbbbbe72' class='xr-index-data-in' type='checkbox'/><label for='index-db939a22-7287-4605-b3cc-e3b3dbbbbe72' title='Show/Hide index repr'><svg class='icon xr-icon-database'><use xlink:href='#icon-database'></use></svg></label><div class='xr-index-data'><pre>PandasIndex(DatetimeIndex([&#x27;2022-08-30 11:21:03.491000&#x27;, &#x27;2022-08-30 11:21:03.594000&#x27;,\n               &#x27;2022-08-30 11:21:03.696000&#x27;, &#x27;2022-08-30 11:21:03.799000&#x27;,\n               &#x27;2022-08-30 11:21:03.901000&#x27;, &#x27;2022-08-30 11:21:04.003000&#x27;,\n               &#x27;2022-08-30 11:21:04.106000&#x27;, &#x27;2022-08-30 11:21:04.208000&#x27;,\n               &#x27;2022-08-30 11:21:04.311000&#x27;, &#x27;2022-08-30 11:21:04.413000&#x27;,\n               &#x27;2022-08-30 11:21:04.516000&#x27;, &#x27;2022-08-30 11:21:04.618000&#x27;,\n               &#x27;2022-08-30 11:21:04.720000&#x27;, &#x27;2022-08-30 11:21:04.823000&#x27;,\n               &#x27;2022-08-30 11:21:04.925000&#x27;, &#x27;2022-08-30 11:21:05.028000&#x27;,\n               &#x27;2022-08-30 11:21:05.130000&#x27;, &#x27;2022-08-30 11:21:05.233000&#x27;,\n               &#x27;2022-08-30 11:21:05.335000&#x27;, &#x27;2022-08-30 11:21:05.438000&#x27;,\n               &#x27;2022-08-30 11:21:05.540000&#x27;, &#x27;2022-08-30 11:21:05.642000&#x27;,\n               &#x27;2022-08-30 11:21:05.745000&#x27;, &#x27;2022-08-30 11:21:05.847000&#x27;,\n               &#x27;2022-08-30 11:21:05.950000&#x27;, &#x27;2022-08-30 11:21:06.052000&#x27;,\n               &#x27;2022-08-30 11:21:06.155000&#x27;, &#x27;2022-08-30 11:21:06.257000&#x27;,\n               &#x27;2022-08-30 11:21:06.359000&#x27;, &#x27;2022-08-30 11:21:06.462000&#x27;,\n               &#x27;2022-08-30 11:21:06.564000&#x27;, &#x27;2022-08-30 11:21:06.667000&#x27;,\n               &#x27;2022-08-30 11:21:06.769000&#x27;, &#x27;2022-08-30 11:21:06.872000&#x27;,\n               &#x27;2022-08-30 11:21:06.974000&#x27;, &#x27;2022-08-30 11:21:07.077000&#x27;,\n               &#x27;2022-08-30 11:21:07.179000&#x27;],\n              dtype=&#x27;datetime64[ns]&#x27;, name=&#x27;time&#x27;, freq=None))</pre></div></li></ul></div></li><li class='xr-section-item'><input id='section-68e27956-d3cf-40db-9413-e07192460423' class='xr-section-summary-in' type='checkbox'  ><label for='section-68e27956-d3cf-40db-9413-e07192460423' class='xr-section-summary' >Attributes: <span>(31)</span></label><div class='xr-section-inline-details'></div><div class='xr-section-details'><dl class='xr-attrs'><dt><span>title :</span></dt><dd>TROPOS pyranometer network (PyrNet) observations</dd><dt><span>institution :</span></dt><dd>Leibniz Institute for Tropospheric Research (TROPOS)</dd><dt><span>department :</span></dt><dd>Remote Sensing of Atmospheric Processes</dd><dt><span>department_team :</span></dt><dd>Clouds, Aerosol and Radiation</dd><dt><span>address :</span></dt><dd>Permoser Str. 15, 04318 Leipzig, Germany</dd><dt><span>source :</span></dt><dd>TROPOS pyranometer network (PyrNet)</dd><dt><span>contact_person :</span></dt><dd>Andreas Macke and the clouds, aerosol and radiation team of the remote sensing department, mailto:andreas.macke@tropos.de</dd><dt><span>contributor_name :</span></dt><dd></dd><dt><span>contributor_role :</span></dt><dd></dd><dt><span>authors_software :</span></dt><dd>Hartwig Deneke, Jonas Witthuhn, mailto:deneke@tropos.de</dd><dt><span>creator_name :</span></dt><dd></dd><dt><span>project :</span></dt><dd></dd><dt><span>references :</span></dt><dd>https://doi.org/10.5194/amt-9-1153-2016</dd><dt><span>standard_name_vocabulary :</span></dt><dd>CF Standard Name Table v81</dd><dt><span>conventions :</span></dt><dd>CF-1.10, ACDD-1.3</dd><dt><span>license :</span></dt><dd>CC-BY-SA 3.0</dd><dt><span>TESTNOTE :</span></dt><dd>This is a test note.</dd><dt><span>processing_level :</span></dt><dd>l1a</dd><dt><span>product_version :</span></dt><dd>0.1.10+28.g175ed10.dirty</dd><dt><span>history :</span></dt><dd>2024-02-12T12:45:01: Generated level l1a  by pyrnet version 0.1.10+28.g175ed10.dirty; </dd><dt><span>date_created :</span></dt><dd>2024-02-12T12:45:01</dd><dt><span>geospatial_lat_min :</span></dt><dd>51.390208333333334</dd><dt><span>geospatial_lat_max :</span></dt><dd>51.390211666666666</dd><dt><span>geospatial_lat_units :</span></dt><dd>degN</dd><dt><span>geospatial_lon_min :</span></dt><dd>11.885246666666667</dd><dt><span>geospatial_lon_max :</span></dt><dd>11.885256666666667</dd><dt><span>geospatial_lon_units :</span></dt><dd>degE</dd><dt><span>time_coverage_start :</span></dt><dd>2022-08-30T11:21:04.065000</dd><dt><span>time_coverage_end :</span></dt><dd>2022-08-30T11:21:09</dd><dt><span>time_coverage_duration :</span></dt><dd>P0DT0H0M4.935S</dd><dt><span>time_coverage_resolution :</span></dt><dd>P0DT0H0M1.23375S</dd></dl></div></li></ul></div></div>"
     },
     "execution_count": 22,
     "metadata": {},
     "output_type": "execute_result"
    }
   ],
   "source": [
    "#|dropcode\n",
    "#|dropout\n",
    "# 4. Drop first and last <stripminutes> minutes of data to avoid bad data due to maintenance\n",
    "\n",
    "# stripminutes = np.timedelta64(int(config['stripminutes']), 'm')\n",
    "# for now use some seconds for demonstration\n",
    "stripminutes = np.timedelta64(2, 's')\n",
    "tslice = slice(ds_l1b.time.values[0] + stripminutes,\n",
    "               ds_l1b.time.values[-1] - stripminutes)\n",
    "ds_l1b = ds_l1b.sel(time=tslice)\n",
    "ds_l1b"
   ],
   "metadata": {
    "collapsed": false,
    "ExecuteTime": {
     "end_time": "2024-02-12T12:45:02.156412700Z",
     "start_time": "2024-02-12T12:45:02.066086800Z"
    }
   }
  },
  {
   "cell_type": "markdown",
   "source": [
    "5. Calibrate radiation flux"
   ],
   "metadata": {
    "collapsed": false
   }
  },
  {
   "cell_type": "code",
   "execution_count": 23,
   "outputs": [
    {
     "name": "stdout",
     "output_type": "stream",
     "text": [
      "Meta Lookup:\n",
      ">> Box=1.0\n",
      ">> serial(s)=['S12128.001', 'S12137.049']\n",
      "calibration factor(s)=[7.73, 6.98]\n"
     ]
    }
   ],
   "source": [
    "# 5. rad flux calibration\n",
    "box = ds_l1b.station.values[0]\n",
    "boxnumber, serial, cfac = pyrnet.pyrnet.meta_lookup(\n",
    "    ds_l1b.time.values[0],\n",
    "    box=box,\n",
    "    cfile=config['file_calibration'],\n",
    "    mapfile=config['file_mapping'],\n",
    ")\n",
    "\n",
    "print(f\"Meta Lookup:\")\n",
    "print(f\">> Box={box}\")\n",
    "print(f\">> serial(s)={serial}\")\n",
    "print(f\"calibration factor(s)={cfac}\")\n",
    "\n",
    "\n",
    "# calibrate radiation flux with gain=300\n",
    "for i, radflx in enumerate(config['radflux_varname']):\n",
    "    if cfac[i] is None:\n",
    "        # drop if calibration/instrument don't exist (probably secondary pyranometer).\n",
    "        ds_l1b = ds_l1b.drop_vars([var for var in ds_l1b if radflx in var])\n",
    "        continue\n",
    "    ds_l1b[radflx].values = ds_l1b[radflx].values*1e6/cfac[i] # V -> W m-2\n",
    "    ds_l1b[radflx].attrs['units'] = \"W m-2\",\n",
    "    ds_l1b[radflx].attrs.update({\n",
    "        \"units\": \"W m-2\",\n",
    "        \"serial\": serial[i],\n",
    "        \"calibration_factor\": cfac[i]\n",
    "    })\n",
    "    # ds_l1b[radflx].encoding.update({\n",
    "    #     'scale_factor': ds_l1b[radflx].encoding['scale_factor']*1e6/cfac[i]\n",
    "    # })"
   ],
   "metadata": {
    "collapsed": false,
    "ExecuteTime": {
     "end_time": "2024-02-12T12:45:02.182088900Z",
     "start_time": "2024-02-12T12:45:02.106969400Z"
    }
   }
  },
  {
   "cell_type": "code",
   "execution_count": 24,
   "outputs": [],
   "source": [
    "#|hide\n",
    "# dsp = ds_l1b.sel(time=\"2019-07-15\")\n",
    "# plt.figure()\n",
    "# plt.plot(dsp.time, dsp.ghi)\n",
    "# plt.grid()"
   ],
   "metadata": {
    "collapsed": false,
    "ExecuteTime": {
     "end_time": "2024-02-12T12:45:02.369384900Z",
     "start_time": "2024-02-12T12:45:02.138713300Z"
    }
   }
  },
  {
   "cell_type": "markdown",
   "source": [
    "6. Apply appropriate binning to ADC values\n",
    "    * ```pyrnet.data.resample```\n"
   ],
   "metadata": {
    "collapsed": false
   }
  },
  {
   "cell_type": "code",
   "execution_count": 25,
   "outputs": [],
   "source": [
    "#|dropcode\n",
    "#|dropout\n",
    "# 6. resample to desired resolution\n",
    "# --- This method is replaced with the data.resample function ---\n",
    "# ds_l1b1 = pyrnet.logger.resample_mean(ds_l1b,freq=config['l1bfreq'])\n",
    "# ds_l1b1"
   ],
   "metadata": {
    "collapsed": false,
    "ExecuteTime": {
     "end_time": "2024-02-12T12:45:02.369384900Z",
     "start_time": "2024-02-12T12:45:02.148048300Z"
    }
   }
  },
  {
   "cell_type": "code",
   "execution_count": 26,
   "outputs": [
    {
     "name": "stderr",
     "output_type": "stream",
     "text": [
      "/tmp/ipykernel_602/344152066.py:13: FutureWarning: The default value of numeric_only in DataFrameGroupBy.mean is deprecated. In a future version, numeric_only will default to False. Either specify numeric_only or select only columns which should be valid for the function.\n",
      "  df_h = dsr.apply(method)#, kwargs=dict(numeric_only=True) )\n",
      "/tmp/ipykernel_602/344152066.py:13: FutureWarning: The default value of numeric_only in DataFrameGroupBy.std is deprecated. In a future version, numeric_only will default to False. Either specify numeric_only or select only columns which should be valid for the function.\n",
      "  df_h = dsr.apply(method)#, kwargs=dict(numeric_only=True) )\n"
     ]
    },
    {
     "data": {
      "text/plain": "<xarray.Dataset>\nDimensions:          (station: 1, time: 5)\nCoordinates:\n  * station          (station) float64 1.0\n  * time             (time) datetime64[ns] 2022-08-30T11:21:03 ... 2022-08-30...\nData variables:\n    ghi              (time, station) float32 269.9 269.7 269.9 269.9 269.9\n    gti              (time, station) float32 277.3 277.3 277.4 277.3 277.3\n    ta               (time, station) float32 294.8 294.7 294.8 294.7 294.8\n    rh               (time, station) float32 0.6263 0.6266 0.6271 0.6271 0.629\n    battery_voltage  (time, station) float32 6.445 6.446 6.45 6.448 6.458\n    ghi_min          (time, station) float32 269.9 268.5 269.9 269.9 269.9\n    gti_min          (time, station) float32 277.3 275.7 275.7 277.3 277.3\n    ghi_max          (time, station) float32 269.9 269.9 269.9 269.9 269.9\n    gti_max          (time, station) float32 277.3 278.8 278.8 277.3 277.3\n    ghi_std          (time, station) float64 0.0 0.4399 0.0 0.0 0.0\n    gti_std          (time, station) float64 0.0 0.7262 0.8745 0.0 0.0\nAttributes: (12/31)\n    title:                     TROPOS pyranometer network (PyrNet) observations\n    institution:               Leibniz Institute for Tropospheric Research (T...\n    department:                Remote Sensing of Atmospheric Processes\n    department_team:           Clouds, Aerosol and Radiation\n    address:                   Permoser Str. 15, 04318 Leipzig, Germany\n    source:                    TROPOS pyranometer network (PyrNet)\n    ...                        ...\n    geospatial_lon_max:        11.885256666666667\n    geospatial_lon_units:      degE\n    time_coverage_start:       2022-08-30T11:21:04.065000\n    time_coverage_end:         2022-08-30T11:21:09\n    time_coverage_duration:    P0DT0H0M4.935S\n    time_coverage_resolution:  P0DT0H0M1.23375S",
      "text/html": "<div><svg style=\"position: absolute; width: 0; height: 0; overflow: hidden\">\n<defs>\n<symbol id=\"icon-database\" viewBox=\"0 0 32 32\">\n<path d=\"M16 0c-8.837 0-16 2.239-16 5v4c0 2.761 7.163 5 16 5s16-2.239 16-5v-4c0-2.761-7.163-5-16-5z\"></path>\n<path d=\"M16 17c-8.837 0-16-2.239-16-5v6c0 2.761 7.163 5 16 5s16-2.239 16-5v-6c0 2.761-7.163 5-16 5z\"></path>\n<path d=\"M16 26c-8.837 0-16-2.239-16-5v6c0 2.761 7.163 5 16 5s16-2.239 16-5v-6c0 2.761-7.163 5-16 5z\"></path>\n</symbol>\n<symbol id=\"icon-file-text2\" viewBox=\"0 0 32 32\">\n<path d=\"M28.681 7.159c-0.694-0.947-1.662-2.053-2.724-3.116s-2.169-2.030-3.116-2.724c-1.612-1.182-2.393-1.319-2.841-1.319h-15.5c-1.378 0-2.5 1.121-2.5 2.5v27c0 1.378 1.122 2.5 2.5 2.5h23c1.378 0 2.5-1.122 2.5-2.5v-19.5c0-0.448-0.137-1.23-1.319-2.841zM24.543 5.457c0.959 0.959 1.712 1.825 2.268 2.543h-4.811v-4.811c0.718 0.556 1.584 1.309 2.543 2.268zM28 29.5c0 0.271-0.229 0.5-0.5 0.5h-23c-0.271 0-0.5-0.229-0.5-0.5v-27c0-0.271 0.229-0.5 0.5-0.5 0 0 15.499-0 15.5 0v7c0 0.552 0.448 1 1 1h7v19.5z\"></path>\n<path d=\"M23 26h-14c-0.552 0-1-0.448-1-1s0.448-1 1-1h14c0.552 0 1 0.448 1 1s-0.448 1-1 1z\"></path>\n<path d=\"M23 22h-14c-0.552 0-1-0.448-1-1s0.448-1 1-1h14c0.552 0 1 0.448 1 1s-0.448 1-1 1z\"></path>\n<path d=\"M23 18h-14c-0.552 0-1-0.448-1-1s0.448-1 1-1h14c0.552 0 1 0.448 1 1s-0.448 1-1 1z\"></path>\n</symbol>\n</defs>\n</svg>\n<style>/* CSS stylesheet for displaying xarray objects in jupyterlab.\n *\n */\n\n:root {\n  --xr-font-color0: var(--jp-content-font-color0, rgba(0, 0, 0, 1));\n  --xr-font-color2: var(--jp-content-font-color2, rgba(0, 0, 0, 0.54));\n  --xr-font-color3: var(--jp-content-font-color3, rgba(0, 0, 0, 0.38));\n  --xr-border-color: var(--jp-border-color2, #e0e0e0);\n  --xr-disabled-color: var(--jp-layout-color3, #bdbdbd);\n  --xr-background-color: var(--jp-layout-color0, white);\n  --xr-background-color-row-even: var(--jp-layout-color1, white);\n  --xr-background-color-row-odd: var(--jp-layout-color2, #eeeeee);\n}\n\nhtml[theme=dark],\nbody[data-theme=dark],\nbody.vscode-dark {\n  --xr-font-color0: rgba(255, 255, 255, 1);\n  --xr-font-color2: rgba(255, 255, 255, 0.54);\n  --xr-font-color3: rgba(255, 255, 255, 0.38);\n  --xr-border-color: #1F1F1F;\n  --xr-disabled-color: #515151;\n  --xr-background-color: #111111;\n  --xr-background-color-row-even: #111111;\n  --xr-background-color-row-odd: #313131;\n}\n\n.xr-wrap {\n  display: block !important;\n  min-width: 300px;\n  max-width: 700px;\n}\n\n.xr-text-repr-fallback {\n  /* fallback to plain text repr when CSS is not injected (untrusted notebook) */\n  display: none;\n}\n\n.xr-header {\n  padding-top: 6px;\n  padding-bottom: 6px;\n  margin-bottom: 4px;\n  border-bottom: solid 1px var(--xr-border-color);\n}\n\n.xr-header > div,\n.xr-header > ul {\n  display: inline;\n  margin-top: 0;\n  margin-bottom: 0;\n}\n\n.xr-obj-type,\n.xr-array-name {\n  margin-left: 2px;\n  margin-right: 10px;\n}\n\n.xr-obj-type {\n  color: var(--xr-font-color2);\n}\n\n.xr-sections {\n  padding-left: 0 !important;\n  display: grid;\n  grid-template-columns: 150px auto auto 1fr 20px 20px;\n}\n\n.xr-section-item {\n  display: contents;\n}\n\n.xr-section-item input {\n  display: none;\n}\n\n.xr-section-item input + label {\n  color: var(--xr-disabled-color);\n}\n\n.xr-section-item input:enabled + label {\n  cursor: pointer;\n  color: var(--xr-font-color2);\n}\n\n.xr-section-item input:enabled + label:hover {\n  color: var(--xr-font-color0);\n}\n\n.xr-section-summary {\n  grid-column: 1;\n  color: var(--xr-font-color2);\n  font-weight: 500;\n}\n\n.xr-section-summary > span {\n  display: inline-block;\n  padding-left: 0.5em;\n}\n\n.xr-section-summary-in:disabled + label {\n  color: var(--xr-font-color2);\n}\n\n.xr-section-summary-in + label:before {\n  display: inline-block;\n  content: '►';\n  font-size: 11px;\n  width: 15px;\n  text-align: center;\n}\n\n.xr-section-summary-in:disabled + label:before {\n  color: var(--xr-disabled-color);\n}\n\n.xr-section-summary-in:checked + label:before {\n  content: '▼';\n}\n\n.xr-section-summary-in:checked + label > span {\n  display: none;\n}\n\n.xr-section-summary,\n.xr-section-inline-details {\n  padding-top: 4px;\n  padding-bottom: 4px;\n}\n\n.xr-section-inline-details {\n  grid-column: 2 / -1;\n}\n\n.xr-section-details {\n  display: none;\n  grid-column: 1 / -1;\n  margin-bottom: 5px;\n}\n\n.xr-section-summary-in:checked ~ .xr-section-details {\n  display: contents;\n}\n\n.xr-array-wrap {\n  grid-column: 1 / -1;\n  display: grid;\n  grid-template-columns: 20px auto;\n}\n\n.xr-array-wrap > label {\n  grid-column: 1;\n  vertical-align: top;\n}\n\n.xr-preview {\n  color: var(--xr-font-color3);\n}\n\n.xr-array-preview,\n.xr-array-data {\n  padding: 0 5px !important;\n  grid-column: 2;\n}\n\n.xr-array-data,\n.xr-array-in:checked ~ .xr-array-preview {\n  display: none;\n}\n\n.xr-array-in:checked ~ .xr-array-data,\n.xr-array-preview {\n  display: inline-block;\n}\n\n.xr-dim-list {\n  display: inline-block !important;\n  list-style: none;\n  padding: 0 !important;\n  margin: 0;\n}\n\n.xr-dim-list li {\n  display: inline-block;\n  padding: 0;\n  margin: 0;\n}\n\n.xr-dim-list:before {\n  content: '(';\n}\n\n.xr-dim-list:after {\n  content: ')';\n}\n\n.xr-dim-list li:not(:last-child):after {\n  content: ',';\n  padding-right: 5px;\n}\n\n.xr-has-index {\n  font-weight: bold;\n}\n\n.xr-var-list,\n.xr-var-item {\n  display: contents;\n}\n\n.xr-var-item > div,\n.xr-var-item label,\n.xr-var-item > .xr-var-name span {\n  background-color: var(--xr-background-color-row-even);\n  margin-bottom: 0;\n}\n\n.xr-var-item > .xr-var-name:hover span {\n  padding-right: 5px;\n}\n\n.xr-var-list > li:nth-child(odd) > div,\n.xr-var-list > li:nth-child(odd) > label,\n.xr-var-list > li:nth-child(odd) > .xr-var-name span {\n  background-color: var(--xr-background-color-row-odd);\n}\n\n.xr-var-name {\n  grid-column: 1;\n}\n\n.xr-var-dims {\n  grid-column: 2;\n}\n\n.xr-var-dtype {\n  grid-column: 3;\n  text-align: right;\n  color: var(--xr-font-color2);\n}\n\n.xr-var-preview {\n  grid-column: 4;\n}\n\n.xr-index-preview {\n  grid-column: 2 / 5;\n  color: var(--xr-font-color2);\n}\n\n.xr-var-name,\n.xr-var-dims,\n.xr-var-dtype,\n.xr-preview,\n.xr-attrs dt {\n  white-space: nowrap;\n  overflow: hidden;\n  text-overflow: ellipsis;\n  padding-right: 10px;\n}\n\n.xr-var-name:hover,\n.xr-var-dims:hover,\n.xr-var-dtype:hover,\n.xr-attrs dt:hover {\n  overflow: visible;\n  width: auto;\n  z-index: 1;\n}\n\n.xr-var-attrs,\n.xr-var-data,\n.xr-index-data {\n  display: none;\n  background-color: var(--xr-background-color) !important;\n  padding-bottom: 5px !important;\n}\n\n.xr-var-attrs-in:checked ~ .xr-var-attrs,\n.xr-var-data-in:checked ~ .xr-var-data,\n.xr-index-data-in:checked ~ .xr-index-data {\n  display: block;\n}\n\n.xr-var-data > table {\n  float: right;\n}\n\n.xr-var-name span,\n.xr-var-data,\n.xr-index-name div,\n.xr-index-data,\n.xr-attrs {\n  padding-left: 25px !important;\n}\n\n.xr-attrs,\n.xr-var-attrs,\n.xr-var-data,\n.xr-index-data {\n  grid-column: 1 / -1;\n}\n\ndl.xr-attrs {\n  padding: 0;\n  margin: 0;\n  display: grid;\n  grid-template-columns: 125px auto;\n}\n\n.xr-attrs dt,\n.xr-attrs dd {\n  padding: 0;\n  margin: 0;\n  float: left;\n  padding-right: 10px;\n  width: auto;\n}\n\n.xr-attrs dt {\n  font-weight: normal;\n  grid-column: 1;\n}\n\n.xr-attrs dt:hover span {\n  display: inline-block;\n  background: var(--xr-background-color);\n  padding-right: 10px;\n}\n\n.xr-attrs dd {\n  grid-column: 2;\n  white-space: pre-wrap;\n  word-break: break-all;\n}\n\n.xr-icon-database,\n.xr-icon-file-text2,\n.xr-no-icon {\n  display: inline-block;\n  vertical-align: middle;\n  width: 1em;\n  height: 1.5em !important;\n  stroke-width: 0;\n  stroke: currentColor;\n  fill: currentColor;\n}\n</style><pre class='xr-text-repr-fallback'>&lt;xarray.Dataset&gt;\nDimensions:          (station: 1, time: 5)\nCoordinates:\n  * station          (station) float64 1.0\n  * time             (time) datetime64[ns] 2022-08-30T11:21:03 ... 2022-08-30...\nData variables:\n    ghi              (time, station) float32 269.9 269.7 269.9 269.9 269.9\n    gti              (time, station) float32 277.3 277.3 277.4 277.3 277.3\n    ta               (time, station) float32 294.8 294.7 294.8 294.7 294.8\n    rh               (time, station) float32 0.6263 0.6266 0.6271 0.6271 0.629\n    battery_voltage  (time, station) float32 6.445 6.446 6.45 6.448 6.458\n    ghi_min          (time, station) float32 269.9 268.5 269.9 269.9 269.9\n    gti_min          (time, station) float32 277.3 275.7 275.7 277.3 277.3\n    ghi_max          (time, station) float32 269.9 269.9 269.9 269.9 269.9\n    gti_max          (time, station) float32 277.3 278.8 278.8 277.3 277.3\n    ghi_std          (time, station) float64 0.0 0.4399 0.0 0.0 0.0\n    gti_std          (time, station) float64 0.0 0.7262 0.8745 0.0 0.0\nAttributes: (12/31)\n    title:                     TROPOS pyranometer network (PyrNet) observations\n    institution:               Leibniz Institute for Tropospheric Research (T...\n    department:                Remote Sensing of Atmospheric Processes\n    department_team:           Clouds, Aerosol and Radiation\n    address:                   Permoser Str. 15, 04318 Leipzig, Germany\n    source:                    TROPOS pyranometer network (PyrNet)\n    ...                        ...\n    geospatial_lon_max:        11.885256666666667\n    geospatial_lon_units:      degE\n    time_coverage_start:       2022-08-30T11:21:04.065000\n    time_coverage_end:         2022-08-30T11:21:09\n    time_coverage_duration:    P0DT0H0M4.935S\n    time_coverage_resolution:  P0DT0H0M1.23375S</pre><div class='xr-wrap' style='display:none'><div class='xr-header'><div class='xr-obj-type'>xarray.Dataset</div></div><ul class='xr-sections'><li class='xr-section-item'><input id='section-14521732-82b4-4d09-ad3e-1472c98eb1cc' class='xr-section-summary-in' type='checkbox' disabled ><label for='section-14521732-82b4-4d09-ad3e-1472c98eb1cc' class='xr-section-summary'  title='Expand/collapse section'>Dimensions:</label><div class='xr-section-inline-details'><ul class='xr-dim-list'><li><span class='xr-has-index'>station</span>: 1</li><li><span class='xr-has-index'>time</span>: 5</li></ul></div><div class='xr-section-details'></div></li><li class='xr-section-item'><input id='section-45c8b65a-3484-4ddc-a530-096b226d3f66' class='xr-section-summary-in' type='checkbox'  checked><label for='section-45c8b65a-3484-4ddc-a530-096b226d3f66' class='xr-section-summary' >Coordinates: <span>(2)</span></label><div class='xr-section-inline-details'></div><div class='xr-section-details'><ul class='xr-var-list'><li class='xr-var-item'><div class='xr-var-name'><span class='xr-has-index'>station</span></div><div class='xr-var-dims'>(station)</div><div class='xr-var-dtype'>float64</div><div class='xr-var-preview xr-preview'>1.0</div><input id='attrs-f3e3f6d4-0aeb-4518-a002-76cadb4dbd68' class='xr-var-attrs-in' type='checkbox' disabled><label for='attrs-f3e3f6d4-0aeb-4518-a002-76cadb4dbd68' title='Show/Hide attributes'><svg class='icon xr-icon-file-text2'><use xlink:href='#icon-file-text2'></use></svg></label><input id='data-fdd81402-72fd-40c1-baae-61406ec0741c' class='xr-var-data-in' type='checkbox'><label for='data-fdd81402-72fd-40c1-baae-61406ec0741c' title='Show/Hide data repr'><svg class='icon xr-icon-database'><use xlink:href='#icon-database'></use></svg></label><div class='xr-var-attrs'><dl class='xr-attrs'></dl></div><div class='xr-var-data'><pre>array([1.])</pre></div></li><li class='xr-var-item'><div class='xr-var-name'><span class='xr-has-index'>time</span></div><div class='xr-var-dims'>(time)</div><div class='xr-var-dtype'>datetime64[ns]</div><div class='xr-var-preview xr-preview'>2022-08-30T11:21:03 ... 2022-08-...</div><input id='attrs-6acd7e87-7b26-425b-aaa0-24c624ff5468' class='xr-var-attrs-in' type='checkbox' disabled><label for='attrs-6acd7e87-7b26-425b-aaa0-24c624ff5468' title='Show/Hide attributes'><svg class='icon xr-icon-file-text2'><use xlink:href='#icon-file-text2'></use></svg></label><input id='data-74a6c470-5258-4a05-b55b-663b3fc6daf6' class='xr-var-data-in' type='checkbox'><label for='data-74a6c470-5258-4a05-b55b-663b3fc6daf6' title='Show/Hide data repr'><svg class='icon xr-icon-database'><use xlink:href='#icon-database'></use></svg></label><div class='xr-var-attrs'><dl class='xr-attrs'></dl></div><div class='xr-var-data'><pre>array([&#x27;2022-08-30T11:21:03.000000000&#x27;, &#x27;2022-08-30T11:21:04.000000000&#x27;,\n       &#x27;2022-08-30T11:21:05.000000000&#x27;, &#x27;2022-08-30T11:21:06.000000000&#x27;,\n       &#x27;2022-08-30T11:21:07.000000000&#x27;], dtype=&#x27;datetime64[ns]&#x27;)</pre></div></li></ul></div></li><li class='xr-section-item'><input id='section-f61aeddf-a808-49d1-a034-8745717ffff5' class='xr-section-summary-in' type='checkbox'  checked><label for='section-f61aeddf-a808-49d1-a034-8745717ffff5' class='xr-section-summary' >Data variables: <span>(11)</span></label><div class='xr-section-inline-details'></div><div class='xr-section-details'><ul class='xr-var-list'><li class='xr-var-item'><div class='xr-var-name'><span>ghi</span></div><div class='xr-var-dims'>(time, station)</div><div class='xr-var-dtype'>float32</div><div class='xr-var-preview xr-preview'>269.9 269.7 269.9 269.9 269.9</div><input id='attrs-26d10915-4e7d-4020-a75a-d994072d1563' class='xr-var-attrs-in' type='checkbox' ><label for='attrs-26d10915-4e7d-4020-a75a-d994072d1563' title='Show/Hide attributes'><svg class='icon xr-icon-file-text2'><use xlink:href='#icon-file-text2'></use></svg></label><input id='data-903175b3-97b0-4fb5-a877-969aa44d0f6f' class='xr-var-data-in' type='checkbox'><label for='data-903175b3-97b0-4fb5-a877-969aa44d0f6f' title='Show/Hide data repr'><svg class='icon xr-icon-database'><use xlink:href='#icon-database'></use></svg></label><div class='xr-var-attrs'><dl class='xr-attrs'><dt><span>units :</span></dt><dd>W m-2</dd><dt><span>long_name :</span></dt><dd>downwelling shortwave flux</dd><dt><span>standard_name :</span></dt><dd>downwelling_shortwave_flux_in_air</dd><dt><span>valid_range :</span></dt><dd>[   0 1023]</dd><dt><span>serial :</span></dt><dd>S12128.001</dd><dt><span>calibration_factor :</span></dt><dd>7.73</dd></dl></div><div class='xr-var-data'><pre>array([[269.86047],\n       [269.72137],\n       [269.86047],\n       [269.86047],\n       [269.86047]], dtype=float32)</pre></div></li><li class='xr-var-item'><div class='xr-var-name'><span>gti</span></div><div class='xr-var-dims'>(time, station)</div><div class='xr-var-dtype'>float32</div><div class='xr-var-preview xr-preview'>277.3 277.3 277.4 277.3 277.3</div><input id='attrs-cecb1c61-2992-43a2-92c9-774dab9df675' class='xr-var-attrs-in' type='checkbox' ><label for='attrs-cecb1c61-2992-43a2-92c9-774dab9df675' title='Show/Hide attributes'><svg class='icon xr-icon-file-text2'><use xlink:href='#icon-file-text2'></use></svg></label><input id='data-c1fcbdcd-9ebc-4802-8328-277d1b891f0a' class='xr-var-data-in' type='checkbox'><label for='data-c1fcbdcd-9ebc-4802-8328-277d1b891f0a' title='Show/Hide data repr'><svg class='icon xr-icon-database'><use xlink:href='#icon-database'></use></svg></label><div class='xr-var-attrs'><dl class='xr-attrs'><dt><span>units :</span></dt><dd>W m-2</dd><dt><span>long_name :</span></dt><dd>downwelling shortwave flux measured on secondary platform, might be tilted</dd><dt><span>standard_name :</span></dt><dd>downwelling_shortwave_flux_in_air</dd><dt><span>valid_range :</span></dt><dd>[   0 1023]</dd><dt><span>hangle :</span></dt><dd>0.0</dd><dt><span>vangle :</span></dt><dd>0.0</dd><dt><span>serial :</span></dt><dd>S12137.049</dd><dt><span>calibration_factor :</span></dt><dd>6.98</dd></dl></div><div class='xr-var-data'><pre>array([[277.28995],\n       [277.28995],\n       [277.444  ],\n       [277.28995],\n       [277.28995]], dtype=float32)</pre></div></li><li class='xr-var-item'><div class='xr-var-name'><span>ta</span></div><div class='xr-var-dims'>(time, station)</div><div class='xr-var-dtype'>float32</div><div class='xr-var-preview xr-preview'>294.8 294.7 294.8 294.7 294.8</div><input id='attrs-a0765222-3d09-450f-a599-0967979eb74b' class='xr-var-attrs-in' type='checkbox' ><label for='attrs-a0765222-3d09-450f-a599-0967979eb74b' title='Show/Hide attributes'><svg class='icon xr-icon-file-text2'><use xlink:href='#icon-file-text2'></use></svg></label><input id='data-f227071b-7e59-444b-ba41-5031f7c1b012' class='xr-var-data-in' type='checkbox'><label for='data-f227071b-7e59-444b-ba41-5031f7c1b012' title='Show/Hide data repr'><svg class='icon xr-icon-database'><use xlink:href='#icon-database'></use></svg></label><div class='xr-var-attrs'><dl class='xr-attrs'><dt><span>units :</span></dt><dd>K</dd><dt><span>long_name :</span></dt><dd>air temperature</dd><dt><span>standard_name :</span></dt><dd>air_temperature</dd><dt><span>valid_range :</span></dt><dd>[  0 775]</dd></dl></div><div class='xr-var-data'><pre>array([[294.7758 ],\n       [294.74997],\n       [294.7887 ],\n       [294.74997],\n       [294.82742]], dtype=float32)</pre></div></li><li class='xr-var-item'><div class='xr-var-name'><span>rh</span></div><div class='xr-var-dims'>(time, station)</div><div class='xr-var-dtype'>float32</div><div class='xr-var-preview xr-preview'>0.6263 0.6266 0.6271 0.6271 0.629</div><input id='attrs-504a3029-301c-4e84-9df3-eb585a530245' class='xr-var-attrs-in' type='checkbox' ><label for='attrs-504a3029-301c-4e84-9df3-eb585a530245' title='Show/Hide attributes'><svg class='icon xr-icon-file-text2'><use xlink:href='#icon-file-text2'></use></svg></label><input id='data-beb3fcf7-d291-4a98-b04b-de6cb237014c' class='xr-var-data-in' type='checkbox'><label for='data-beb3fcf7-d291-4a98-b04b-de6cb237014c' title='Show/Hide data repr'><svg class='icon xr-icon-database'><use xlink:href='#icon-database'></use></svg></label><div class='xr-var-attrs'><dl class='xr-attrs'><dt><span>units :</span></dt><dd>1</dd><dt><span>long_name :</span></dt><dd>air relative humidity</dd><dt><span>standard_name :</span></dt><dd>relative_humidity</dd><dt><span>valid_range :</span></dt><dd>[  0 775]</dd></dl></div><div class='xr-var-data'><pre>array([[0.62632257],\n       [0.6265806 ],\n       [0.6270968 ],\n       [0.6270968 ],\n       [0.62903225]], dtype=float32)</pre></div></li><li class='xr-var-item'><div class='xr-var-name'><span>battery_voltage</span></div><div class='xr-var-dims'>(time, station)</div><div class='xr-var-dtype'>float32</div><div class='xr-var-preview xr-preview'>6.445 6.446 6.45 6.448 6.458</div><input id='attrs-1dfd02e2-d9a2-4b3b-bb98-efe8b7b9eae8' class='xr-var-attrs-in' type='checkbox' ><label for='attrs-1dfd02e2-d9a2-4b3b-bb98-efe8b7b9eae8' title='Show/Hide attributes'><svg class='icon xr-icon-file-text2'><use xlink:href='#icon-file-text2'></use></svg></label><input id='data-4b1991b4-2dd3-40b3-ba6b-37f13e0ca30c' class='xr-var-data-in' type='checkbox'><label for='data-4b1991b4-2dd3-40b3-ba6b-37f13e0ca30c' title='Show/Hide data repr'><svg class='icon xr-icon-database'><use xlink:href='#icon-database'></use></svg></label><div class='xr-var-attrs'><dl class='xr-attrs'><dt><span>units :</span></dt><dd>V</dd><dt><span>standard_name :</span></dt><dd>battery_voltage</dd><dt><span>valid_range :</span></dt><dd>[  0 992]</dd></dl></div><div class='xr-var-data'><pre>array([[6.4451613],\n       [6.445807 ],\n       [6.4496775],\n       [6.4477415],\n       [6.4580646]], dtype=float32)</pre></div></li><li class='xr-var-item'><div class='xr-var-name'><span>ghi_min</span></div><div class='xr-var-dims'>(time, station)</div><div class='xr-var-dtype'>float32</div><div class='xr-var-preview xr-preview'>269.9 268.5 269.9 269.9 269.9</div><input id='attrs-77959734-f566-462e-9a0f-331a6bbb7f09' class='xr-var-attrs-in' type='checkbox' ><label for='attrs-77959734-f566-462e-9a0f-331a6bbb7f09' title='Show/Hide attributes'><svg class='icon xr-icon-file-text2'><use xlink:href='#icon-file-text2'></use></svg></label><input id='data-8902f2cf-12c4-45e2-b4d5-6a8a6d93053e' class='xr-var-data-in' type='checkbox'><label for='data-8902f2cf-12c4-45e2-b4d5-6a8a6d93053e' title='Show/Hide data repr'><svg class='icon xr-icon-database'><use xlink:href='#icon-database'></use></svg></label><div class='xr-var-attrs'><dl class='xr-attrs'><dt><span>units :</span></dt><dd>W m-2</dd><dt><span>long_name :</span></dt><dd>downwelling shortwave flux</dd><dt><span>standard_name :</span></dt><dd>min_downwelling_shortwave_flux_in_air</dd><dt><span>valid_range :</span></dt><dd>[   0 1023]</dd><dt><span>serial :</span></dt><dd>S12128.001</dd><dt><span>calibration_factor :</span></dt><dd>7.73</dd></dl></div><div class='xr-var-data'><pre>array([[269.86047],\n       [268.46945],\n       [269.86047],\n       [269.86047],\n       [269.86047]], dtype=float32)</pre></div></li><li class='xr-var-item'><div class='xr-var-name'><span>gti_min</span></div><div class='xr-var-dims'>(time, station)</div><div class='xr-var-dtype'>float32</div><div class='xr-var-preview xr-preview'>277.3 275.7 275.7 277.3 277.3</div><input id='attrs-b45bd3bd-0ec9-45b1-ada0-f395adf6496f' class='xr-var-attrs-in' type='checkbox' ><label for='attrs-b45bd3bd-0ec9-45b1-ada0-f395adf6496f' title='Show/Hide attributes'><svg class='icon xr-icon-file-text2'><use xlink:href='#icon-file-text2'></use></svg></label><input id='data-ce1620ea-5f4b-42e6-8fbe-c4b05c49313f' class='xr-var-data-in' type='checkbox'><label for='data-ce1620ea-5f4b-42e6-8fbe-c4b05c49313f' title='Show/Hide data repr'><svg class='icon xr-icon-database'><use xlink:href='#icon-database'></use></svg></label><div class='xr-var-attrs'><dl class='xr-attrs'><dt><span>units :</span></dt><dd>W m-2</dd><dt><span>long_name :</span></dt><dd>downwelling shortwave flux measured on secondary platform, might be tilted</dd><dt><span>standard_name :</span></dt><dd>min_downwelling_shortwave_flux_in_air</dd><dt><span>valid_range :</span></dt><dd>[   0 1023]</dd><dt><span>hangle :</span></dt><dd>0.0</dd><dt><span>vangle :</span></dt><dd>0.0</dd><dt><span>serial :</span></dt><dd>S12137.049</dd><dt><span>calibration_factor :</span></dt><dd>6.98</dd></dl></div><div class='xr-var-data'><pre>array([[277.28995],\n       [275.74945],\n       [275.74945],\n       [277.28995],\n       [277.28995]], dtype=float32)</pre></div></li><li class='xr-var-item'><div class='xr-var-name'><span>ghi_max</span></div><div class='xr-var-dims'>(time, station)</div><div class='xr-var-dtype'>float32</div><div class='xr-var-preview xr-preview'>269.9 269.9 269.9 269.9 269.9</div><input id='attrs-8fbe7a3e-73bc-408c-b986-be6fa5450e25' class='xr-var-attrs-in' type='checkbox' ><label for='attrs-8fbe7a3e-73bc-408c-b986-be6fa5450e25' title='Show/Hide attributes'><svg class='icon xr-icon-file-text2'><use xlink:href='#icon-file-text2'></use></svg></label><input id='data-13d138e5-233a-4562-a168-aada0d514f72' class='xr-var-data-in' type='checkbox'><label for='data-13d138e5-233a-4562-a168-aada0d514f72' title='Show/Hide data repr'><svg class='icon xr-icon-database'><use xlink:href='#icon-database'></use></svg></label><div class='xr-var-attrs'><dl class='xr-attrs'><dt><span>units :</span></dt><dd>W m-2</dd><dt><span>long_name :</span></dt><dd>downwelling shortwave flux</dd><dt><span>standard_name :</span></dt><dd>max_downwelling_shortwave_flux_in_air</dd><dt><span>valid_range :</span></dt><dd>[   0 1023]</dd><dt><span>serial :</span></dt><dd>S12128.001</dd><dt><span>calibration_factor :</span></dt><dd>7.73</dd></dl></div><div class='xr-var-data'><pre>array([[269.86047],\n       [269.86047],\n       [269.86047],\n       [269.86047],\n       [269.86047]], dtype=float32)</pre></div></li><li class='xr-var-item'><div class='xr-var-name'><span>gti_max</span></div><div class='xr-var-dims'>(time, station)</div><div class='xr-var-dtype'>float32</div><div class='xr-var-preview xr-preview'>277.3 278.8 278.8 277.3 277.3</div><input id='attrs-c1f94cc3-31c2-40ed-b881-20530a73f5ed' class='xr-var-attrs-in' type='checkbox' ><label for='attrs-c1f94cc3-31c2-40ed-b881-20530a73f5ed' title='Show/Hide attributes'><svg class='icon xr-icon-file-text2'><use xlink:href='#icon-file-text2'></use></svg></label><input id='data-7bc98d88-f26f-4ba2-bf83-a5393d2227f1' class='xr-var-data-in' type='checkbox'><label for='data-7bc98d88-f26f-4ba2-bf83-a5393d2227f1' title='Show/Hide data repr'><svg class='icon xr-icon-database'><use xlink:href='#icon-database'></use></svg></label><div class='xr-var-attrs'><dl class='xr-attrs'><dt><span>units :</span></dt><dd>W m-2</dd><dt><span>long_name :</span></dt><dd>downwelling shortwave flux measured on secondary platform, might be tilted</dd><dt><span>standard_name :</span></dt><dd>max_downwelling_shortwave_flux_in_air</dd><dt><span>valid_range :</span></dt><dd>[   0 1023]</dd><dt><span>hangle :</span></dt><dd>0.0</dd><dt><span>vangle :</span></dt><dd>0.0</dd><dt><span>serial :</span></dt><dd>S12137.049</dd><dt><span>calibration_factor :</span></dt><dd>6.98</dd></dl></div><div class='xr-var-data'><pre>array([[277.28995],\n       [278.83044],\n       [278.83044],\n       [277.28995],\n       [277.28995]], dtype=float32)</pre></div></li><li class='xr-var-item'><div class='xr-var-name'><span>ghi_std</span></div><div class='xr-var-dims'>(time, station)</div><div class='xr-var-dtype'>float64</div><div class='xr-var-preview xr-preview'>0.0 0.4399 0.0 0.0 0.0</div><input id='attrs-90fec51a-22c2-4b1d-9194-14b42ce9d9ff' class='xr-var-attrs-in' type='checkbox' ><label for='attrs-90fec51a-22c2-4b1d-9194-14b42ce9d9ff' title='Show/Hide attributes'><svg class='icon xr-icon-file-text2'><use xlink:href='#icon-file-text2'></use></svg></label><input id='data-06acf4b6-9dc9-48d5-9612-c53beeda4f65' class='xr-var-data-in' type='checkbox'><label for='data-06acf4b6-9dc9-48d5-9612-c53beeda4f65' title='Show/Hide data repr'><svg class='icon xr-icon-database'><use xlink:href='#icon-database'></use></svg></label><div class='xr-var-attrs'><dl class='xr-attrs'><dt><span>units :</span></dt><dd>W m-2</dd><dt><span>long_name :</span></dt><dd>downwelling shortwave flux</dd><dt><span>standard_name :</span></dt><dd>std_downwelling_shortwave_flux_in_air</dd><dt><span>valid_range :</span></dt><dd>[   0 1023]</dd><dt><span>serial :</span></dt><dd>S12128.001</dd><dt><span>calibration_factor :</span></dt><dd>7.73</dd></dl></div><div class='xr-var-data'><pre>array([[0.        ],\n       [0.43987969],\n       [0.        ],\n       [0.        ],\n       [0.        ]])</pre></div></li><li class='xr-var-item'><div class='xr-var-name'><span>gti_std</span></div><div class='xr-var-dims'>(time, station)</div><div class='xr-var-dtype'>float64</div><div class='xr-var-preview xr-preview'>0.0 0.7262 0.8745 0.0 0.0</div><input id='attrs-8b707e66-9672-4031-ad0a-45d6dc7396a3' class='xr-var-attrs-in' type='checkbox' ><label for='attrs-8b707e66-9672-4031-ad0a-45d6dc7396a3' title='Show/Hide attributes'><svg class='icon xr-icon-file-text2'><use xlink:href='#icon-file-text2'></use></svg></label><input id='data-d8aa83cd-eb59-402d-84b3-1c7b612e65d0' class='xr-var-data-in' type='checkbox'><label for='data-d8aa83cd-eb59-402d-84b3-1c7b612e65d0' title='Show/Hide data repr'><svg class='icon xr-icon-database'><use xlink:href='#icon-database'></use></svg></label><div class='xr-var-attrs'><dl class='xr-attrs'><dt><span>units :</span></dt><dd>W m-2</dd><dt><span>long_name :</span></dt><dd>downwelling shortwave flux measured on secondary platform, might be tilted</dd><dt><span>standard_name :</span></dt><dd>std_downwelling_shortwave_flux_in_air</dd><dt><span>valid_range :</span></dt><dd>[   0 1023]</dd><dt><span>hangle :</span></dt><dd>0.0</dd><dt><span>vangle :</span></dt><dd>0.0</dd><dt><span>serial :</span></dt><dd>S12137.049</dd><dt><span>calibration_factor :</span></dt><dd>6.98</dd></dl></div><div class='xr-var-data'><pre>array([[0.        ],\n       [0.72619717],\n       [0.87445719],\n       [0.        ],\n       [0.        ]])</pre></div></li></ul></div></li><li class='xr-section-item'><input id='section-c2132cf7-179d-42d8-8ff1-d7464fe4742c' class='xr-section-summary-in' type='checkbox'  ><label for='section-c2132cf7-179d-42d8-8ff1-d7464fe4742c' class='xr-section-summary' >Indexes: <span>(2)</span></label><div class='xr-section-inline-details'></div><div class='xr-section-details'><ul class='xr-var-list'><li class='xr-var-item'><div class='xr-index-name'><div>time</div></div><div class='xr-index-preview'>PandasIndex</div><div></div><input id='index-e5bd4902-02e6-4243-83a5-30c5a1e27d28' class='xr-index-data-in' type='checkbox'/><label for='index-e5bd4902-02e6-4243-83a5-30c5a1e27d28' title='Show/Hide index repr'><svg class='icon xr-icon-database'><use xlink:href='#icon-database'></use></svg></label><div class='xr-index-data'><pre>PandasIndex(DatetimeIndex([&#x27;2022-08-30 11:21:03&#x27;, &#x27;2022-08-30 11:21:04&#x27;,\n               &#x27;2022-08-30 11:21:05&#x27;, &#x27;2022-08-30 11:21:06&#x27;,\n               &#x27;2022-08-30 11:21:07&#x27;],\n              dtype=&#x27;datetime64[ns]&#x27;, name=&#x27;time&#x27;, freq=&#x27;S&#x27;))</pre></div></li><li class='xr-var-item'><div class='xr-index-name'><div>station</div></div><div class='xr-index-preview'>PandasIndex</div><div></div><input id='index-f3fed21a-f230-4a98-99ca-d8c84c66cfc3' class='xr-index-data-in' type='checkbox'/><label for='index-f3fed21a-f230-4a98-99ca-d8c84c66cfc3' title='Show/Hide index repr'><svg class='icon xr-icon-database'><use xlink:href='#icon-database'></use></svg></label><div class='xr-index-data'><pre>PandasIndex(Float64Index([1.0], dtype=&#x27;float64&#x27;, name=&#x27;station&#x27;))</pre></div></li></ul></div></li><li class='xr-section-item'><input id='section-e4125d9a-cea9-4e8f-a9f6-08f54ba23da2' class='xr-section-summary-in' type='checkbox'  ><label for='section-e4125d9a-cea9-4e8f-a9f6-08f54ba23da2' class='xr-section-summary' >Attributes: <span>(31)</span></label><div class='xr-section-inline-details'></div><div class='xr-section-details'><dl class='xr-attrs'><dt><span>title :</span></dt><dd>TROPOS pyranometer network (PyrNet) observations</dd><dt><span>institution :</span></dt><dd>Leibniz Institute for Tropospheric Research (TROPOS)</dd><dt><span>department :</span></dt><dd>Remote Sensing of Atmospheric Processes</dd><dt><span>department_team :</span></dt><dd>Clouds, Aerosol and Radiation</dd><dt><span>address :</span></dt><dd>Permoser Str. 15, 04318 Leipzig, Germany</dd><dt><span>source :</span></dt><dd>TROPOS pyranometer network (PyrNet)</dd><dt><span>contact_person :</span></dt><dd>Andreas Macke and the clouds, aerosol and radiation team of the remote sensing department, mailto:andreas.macke@tropos.de</dd><dt><span>contributor_name :</span></dt><dd></dd><dt><span>contributor_role :</span></dt><dd></dd><dt><span>authors_software :</span></dt><dd>Hartwig Deneke, Jonas Witthuhn, mailto:deneke@tropos.de</dd><dt><span>creator_name :</span></dt><dd></dd><dt><span>project :</span></dt><dd></dd><dt><span>references :</span></dt><dd>https://doi.org/10.5194/amt-9-1153-2016</dd><dt><span>standard_name_vocabulary :</span></dt><dd>CF Standard Name Table v81</dd><dt><span>conventions :</span></dt><dd>CF-1.10, ACDD-1.3</dd><dt><span>license :</span></dt><dd>CC-BY-SA 3.0</dd><dt><span>TESTNOTE :</span></dt><dd>This is a test note.</dd><dt><span>processing_level :</span></dt><dd>l1a</dd><dt><span>product_version :</span></dt><dd>0.1.10+28.g175ed10.dirty</dd><dt><span>history :</span></dt><dd>2024-02-12T12:45:01: Generated level l1a  by pyrnet version 0.1.10+28.g175ed10.dirty; </dd><dt><span>date_created :</span></dt><dd>2024-02-12T12:45:01</dd><dt><span>geospatial_lat_min :</span></dt><dd>51.390208333333334</dd><dt><span>geospatial_lat_max :</span></dt><dd>51.390211666666666</dd><dt><span>geospatial_lat_units :</span></dt><dd>degN</dd><dt><span>geospatial_lon_min :</span></dt><dd>11.885246666666667</dd><dt><span>geospatial_lon_max :</span></dt><dd>11.885256666666667</dd><dt><span>geospatial_lon_units :</span></dt><dd>degE</dd><dt><span>time_coverage_start :</span></dt><dd>2022-08-30T11:21:04.065000</dd><dt><span>time_coverage_end :</span></dt><dd>2022-08-30T11:21:09</dd><dt><span>time_coverage_duration :</span></dt><dd>P0DT0H0M4.935S</dd><dt><span>time_coverage_resolution :</span></dt><dd>P0DT0H0M1.23375S</dd></dl></div></li></ul></div></div>"
     },
     "execution_count": 26,
     "metadata": {},
     "output_type": "execute_result"
    }
   ],
   "source": [
    "#|dropcode\n",
    "#|dropout\n",
    "# 6. resample to desired resolution\n",
    "# save station coordinate\n",
    "station_dim = {\"station\": ds_l1b[\"station\"].values}\n",
    "\n",
    "# resample on time dimension with specified methods\n",
    "methods = ['mean'] + config[\"l1b_resample_stats\"]\n",
    "res = resample(\n",
    "    ds_l1b.squeeze().drop_vars(\"station\"), # drop station coordinate and variable\n",
    "    freq=config['l1bfreq'],\n",
    "    methods=methods,\n",
    "    kwargs=dict(skipna=True)\n",
    ")\n",
    "\n",
    "# add standard names for new variables\n",
    "ds_l1b = res[0]\n",
    "for i, method in enumerate(methods[1:]):\n",
    "    for var in config[\"radflux_varname\"]:\n",
    "        ds_l1b[f\"{var}_{method}\"] = res[i+1][var]\n",
    "        ds_l1b[f\"{var}_{method}\"].attrs.update({\n",
    "            \"standard_name\": f\"{method}_\"+ds_l1b[f\"{var}_{method}\"].attrs[\"standard_name\"]\n",
    "        })\n",
    "\n",
    "# add station dimension back again\n",
    "ds_l1b = ds_l1b.expand_dims(station_dim, axis=-1)\n",
    "ds_l1b"
   ],
   "metadata": {
    "collapsed": false,
    "ExecuteTime": {
     "end_time": "2024-02-12T12:45:02.438967Z",
     "start_time": "2024-02-12T12:45:02.158405200Z"
    }
   }
  },
  {
   "cell_type": "code",
   "execution_count": 27,
   "outputs": [],
   "source": [
    "#|hide\n",
    "# dsp = ds_l1b.sel(time=\"2019-07-15\")\n",
    "# plt.figure()\n",
    "# plt.plot(dsp.time, dsp.ghi)\n",
    "# plt.grid()"
   ],
   "metadata": {
    "collapsed": false,
    "ExecuteTime": {
     "end_time": "2024-02-12T12:45:02.438967Z",
     "start_time": "2024-02-12T12:45:02.227092100Z"
    }
   }
  },
  {
   "cell_type": "markdown",
   "source": [
    " * stretch valid_range to not lose resolution due to averaging"
   ],
   "metadata": {
    "collapsed": false
   }
  },
  {
   "cell_type": "code",
   "execution_count": 28,
   "outputs": [],
   "source": [
    "#|dropcode\n",
    "#|dropout\n",
    "# stretch valid range to not lose resolution due to averaging\n",
    "# ds_l1b = stretch_resolution(ds_l1b)\n",
    "# ds_l1b"
   ],
   "metadata": {
    "collapsed": false,
    "ExecuteTime": {
     "end_time": "2024-02-12T12:45:02.439965200Z",
     "start_time": "2024-02-12T12:45:02.239585800Z"
    }
   }
  },
  {
   "cell_type": "code",
   "execution_count": 29,
   "outputs": [],
   "source": [
    "#|hide\n",
    "# dsp = ds_l1b.sel(time=\"2019-07-15\")\n",
    "# plt.figure()\n",
    "# plt.plot(dsp.time, dsp.ghi)\n",
    "# plt.grid()"
   ],
   "metadata": {
    "collapsed": false,
    "ExecuteTime": {
     "end_time": "2024-02-12T12:45:02.459160800Z",
     "start_time": "2024-02-12T12:45:02.250614700Z"
    }
   }
  },
  {
   "cell_type": "markdown",
   "source": [
    "7. Interpolate GPS coordinates to bin time\n",
    "    * ```xarray.interp```\n",
    "    ```{note}\n",
    "    At this point the descision to whether store geocoordinates in full time resolution or as mean over the time interval is made.\n",
    "\n",
    "    This is configured in config.json -> \"average_latlon\"\n",
    "    ```"
   ],
   "metadata": {
    "collapsed": false
   }
  },
  {
   "cell_type": "code",
   "execution_count": 30,
   "outputs": [
    {
     "data": {
      "text/plain": "<xarray.Dataset>\nDimensions:          (station: 1, time: 5)\nCoordinates:\n  * station          (station) float64 1.0\n  * time             (time) datetime64[ns] 2022-08-30T11:21:03 ... 2022-08-30...\nData variables: (12/15)\n    ghi              (time, station) float32 269.9 269.7 269.9 269.9 269.9\n    gti              (time, station) float32 277.3 277.3 277.4 277.3 277.3\n    ta               (time, station) float32 294.8 294.7 294.8 294.7 294.8\n    rh               (time, station) float32 0.6263 0.6266 0.6271 0.6271 0.629\n    battery_voltage  (time, station) float32 6.445 6.446 6.45 6.448 6.458\n    ghi_min          (time, station) float32 269.9 268.5 269.9 269.9 269.9\n    ...               ...\n    ghi_std          (time, station) float64 0.0 0.4399 0.0 0.0 0.0\n    gti_std          (time, station) float64 0.0 0.7262 0.8745 0.0 0.0\n    lat              (time, station) float64 nan nan 51.39 51.39 51.39\n    lon              (time, station) float64 nan nan 11.89 11.89 11.89\n    ghi_qc           (station) float32 0.5437\n    gti_qc           (station) float32 0.6578\nAttributes: (12/31)\n    title:                     TROPOS pyranometer network (PyrNet) observations\n    institution:               Leibniz Institute for Tropospheric Research (T...\n    department:                Remote Sensing of Atmospheric Processes\n    department_team:           Clouds, Aerosol and Radiation\n    address:                   Permoser Str. 15, 04318 Leipzig, Germany\n    source:                    TROPOS pyranometer network (PyrNet)\n    ...                        ...\n    geospatial_lon_max:        11.885256666666667\n    geospatial_lon_units:      degE\n    time_coverage_start:       2022-08-30T11:21:04.065000\n    time_coverage_end:         2022-08-30T11:21:09\n    time_coverage_duration:    P0DT0H0M4.935S\n    time_coverage_resolution:  P0DT0H0M1.23375S",
      "text/html": "<div><svg style=\"position: absolute; width: 0; height: 0; overflow: hidden\">\n<defs>\n<symbol id=\"icon-database\" viewBox=\"0 0 32 32\">\n<path d=\"M16 0c-8.837 0-16 2.239-16 5v4c0 2.761 7.163 5 16 5s16-2.239 16-5v-4c0-2.761-7.163-5-16-5z\"></path>\n<path d=\"M16 17c-8.837 0-16-2.239-16-5v6c0 2.761 7.163 5 16 5s16-2.239 16-5v-6c0 2.761-7.163 5-16 5z\"></path>\n<path d=\"M16 26c-8.837 0-16-2.239-16-5v6c0 2.761 7.163 5 16 5s16-2.239 16-5v-6c0 2.761-7.163 5-16 5z\"></path>\n</symbol>\n<symbol id=\"icon-file-text2\" viewBox=\"0 0 32 32\">\n<path d=\"M28.681 7.159c-0.694-0.947-1.662-2.053-2.724-3.116s-2.169-2.030-3.116-2.724c-1.612-1.182-2.393-1.319-2.841-1.319h-15.5c-1.378 0-2.5 1.121-2.5 2.5v27c0 1.378 1.122 2.5 2.5 2.5h23c1.378 0 2.5-1.122 2.5-2.5v-19.5c0-0.448-0.137-1.23-1.319-2.841zM24.543 5.457c0.959 0.959 1.712 1.825 2.268 2.543h-4.811v-4.811c0.718 0.556 1.584 1.309 2.543 2.268zM28 29.5c0 0.271-0.229 0.5-0.5 0.5h-23c-0.271 0-0.5-0.229-0.5-0.5v-27c0-0.271 0.229-0.5 0.5-0.5 0 0 15.499-0 15.5 0v7c0 0.552 0.448 1 1 1h7v19.5z\"></path>\n<path d=\"M23 26h-14c-0.552 0-1-0.448-1-1s0.448-1 1-1h14c0.552 0 1 0.448 1 1s-0.448 1-1 1z\"></path>\n<path d=\"M23 22h-14c-0.552 0-1-0.448-1-1s0.448-1 1-1h14c0.552 0 1 0.448 1 1s-0.448 1-1 1z\"></path>\n<path d=\"M23 18h-14c-0.552 0-1-0.448-1-1s0.448-1 1-1h14c0.552 0 1 0.448 1 1s-0.448 1-1 1z\"></path>\n</symbol>\n</defs>\n</svg>\n<style>/* CSS stylesheet for displaying xarray objects in jupyterlab.\n *\n */\n\n:root {\n  --xr-font-color0: var(--jp-content-font-color0, rgba(0, 0, 0, 1));\n  --xr-font-color2: var(--jp-content-font-color2, rgba(0, 0, 0, 0.54));\n  --xr-font-color3: var(--jp-content-font-color3, rgba(0, 0, 0, 0.38));\n  --xr-border-color: var(--jp-border-color2, #e0e0e0);\n  --xr-disabled-color: var(--jp-layout-color3, #bdbdbd);\n  --xr-background-color: var(--jp-layout-color0, white);\n  --xr-background-color-row-even: var(--jp-layout-color1, white);\n  --xr-background-color-row-odd: var(--jp-layout-color2, #eeeeee);\n}\n\nhtml[theme=dark],\nbody[data-theme=dark],\nbody.vscode-dark {\n  --xr-font-color0: rgba(255, 255, 255, 1);\n  --xr-font-color2: rgba(255, 255, 255, 0.54);\n  --xr-font-color3: rgba(255, 255, 255, 0.38);\n  --xr-border-color: #1F1F1F;\n  --xr-disabled-color: #515151;\n  --xr-background-color: #111111;\n  --xr-background-color-row-even: #111111;\n  --xr-background-color-row-odd: #313131;\n}\n\n.xr-wrap {\n  display: block !important;\n  min-width: 300px;\n  max-width: 700px;\n}\n\n.xr-text-repr-fallback {\n  /* fallback to plain text repr when CSS is not injected (untrusted notebook) */\n  display: none;\n}\n\n.xr-header {\n  padding-top: 6px;\n  padding-bottom: 6px;\n  margin-bottom: 4px;\n  border-bottom: solid 1px var(--xr-border-color);\n}\n\n.xr-header > div,\n.xr-header > ul {\n  display: inline;\n  margin-top: 0;\n  margin-bottom: 0;\n}\n\n.xr-obj-type,\n.xr-array-name {\n  margin-left: 2px;\n  margin-right: 10px;\n}\n\n.xr-obj-type {\n  color: var(--xr-font-color2);\n}\n\n.xr-sections {\n  padding-left: 0 !important;\n  display: grid;\n  grid-template-columns: 150px auto auto 1fr 20px 20px;\n}\n\n.xr-section-item {\n  display: contents;\n}\n\n.xr-section-item input {\n  display: none;\n}\n\n.xr-section-item input + label {\n  color: var(--xr-disabled-color);\n}\n\n.xr-section-item input:enabled + label {\n  cursor: pointer;\n  color: var(--xr-font-color2);\n}\n\n.xr-section-item input:enabled + label:hover {\n  color: var(--xr-font-color0);\n}\n\n.xr-section-summary {\n  grid-column: 1;\n  color: var(--xr-font-color2);\n  font-weight: 500;\n}\n\n.xr-section-summary > span {\n  display: inline-block;\n  padding-left: 0.5em;\n}\n\n.xr-section-summary-in:disabled + label {\n  color: var(--xr-font-color2);\n}\n\n.xr-section-summary-in + label:before {\n  display: inline-block;\n  content: '►';\n  font-size: 11px;\n  width: 15px;\n  text-align: center;\n}\n\n.xr-section-summary-in:disabled + label:before {\n  color: var(--xr-disabled-color);\n}\n\n.xr-section-summary-in:checked + label:before {\n  content: '▼';\n}\n\n.xr-section-summary-in:checked + label > span {\n  display: none;\n}\n\n.xr-section-summary,\n.xr-section-inline-details {\n  padding-top: 4px;\n  padding-bottom: 4px;\n}\n\n.xr-section-inline-details {\n  grid-column: 2 / -1;\n}\n\n.xr-section-details {\n  display: none;\n  grid-column: 1 / -1;\n  margin-bottom: 5px;\n}\n\n.xr-section-summary-in:checked ~ .xr-section-details {\n  display: contents;\n}\n\n.xr-array-wrap {\n  grid-column: 1 / -1;\n  display: grid;\n  grid-template-columns: 20px auto;\n}\n\n.xr-array-wrap > label {\n  grid-column: 1;\n  vertical-align: top;\n}\n\n.xr-preview {\n  color: var(--xr-font-color3);\n}\n\n.xr-array-preview,\n.xr-array-data {\n  padding: 0 5px !important;\n  grid-column: 2;\n}\n\n.xr-array-data,\n.xr-array-in:checked ~ .xr-array-preview {\n  display: none;\n}\n\n.xr-array-in:checked ~ .xr-array-data,\n.xr-array-preview {\n  display: inline-block;\n}\n\n.xr-dim-list {\n  display: inline-block !important;\n  list-style: none;\n  padding: 0 !important;\n  margin: 0;\n}\n\n.xr-dim-list li {\n  display: inline-block;\n  padding: 0;\n  margin: 0;\n}\n\n.xr-dim-list:before {\n  content: '(';\n}\n\n.xr-dim-list:after {\n  content: ')';\n}\n\n.xr-dim-list li:not(:last-child):after {\n  content: ',';\n  padding-right: 5px;\n}\n\n.xr-has-index {\n  font-weight: bold;\n}\n\n.xr-var-list,\n.xr-var-item {\n  display: contents;\n}\n\n.xr-var-item > div,\n.xr-var-item label,\n.xr-var-item > .xr-var-name span {\n  background-color: var(--xr-background-color-row-even);\n  margin-bottom: 0;\n}\n\n.xr-var-item > .xr-var-name:hover span {\n  padding-right: 5px;\n}\n\n.xr-var-list > li:nth-child(odd) > div,\n.xr-var-list > li:nth-child(odd) > label,\n.xr-var-list > li:nth-child(odd) > .xr-var-name span {\n  background-color: var(--xr-background-color-row-odd);\n}\n\n.xr-var-name {\n  grid-column: 1;\n}\n\n.xr-var-dims {\n  grid-column: 2;\n}\n\n.xr-var-dtype {\n  grid-column: 3;\n  text-align: right;\n  color: var(--xr-font-color2);\n}\n\n.xr-var-preview {\n  grid-column: 4;\n}\n\n.xr-index-preview {\n  grid-column: 2 / 5;\n  color: var(--xr-font-color2);\n}\n\n.xr-var-name,\n.xr-var-dims,\n.xr-var-dtype,\n.xr-preview,\n.xr-attrs dt {\n  white-space: nowrap;\n  overflow: hidden;\n  text-overflow: ellipsis;\n  padding-right: 10px;\n}\n\n.xr-var-name:hover,\n.xr-var-dims:hover,\n.xr-var-dtype:hover,\n.xr-attrs dt:hover {\n  overflow: visible;\n  width: auto;\n  z-index: 1;\n}\n\n.xr-var-attrs,\n.xr-var-data,\n.xr-index-data {\n  display: none;\n  background-color: var(--xr-background-color) !important;\n  padding-bottom: 5px !important;\n}\n\n.xr-var-attrs-in:checked ~ .xr-var-attrs,\n.xr-var-data-in:checked ~ .xr-var-data,\n.xr-index-data-in:checked ~ .xr-index-data {\n  display: block;\n}\n\n.xr-var-data > table {\n  float: right;\n}\n\n.xr-var-name span,\n.xr-var-data,\n.xr-index-name div,\n.xr-index-data,\n.xr-attrs {\n  padding-left: 25px !important;\n}\n\n.xr-attrs,\n.xr-var-attrs,\n.xr-var-data,\n.xr-index-data {\n  grid-column: 1 / -1;\n}\n\ndl.xr-attrs {\n  padding: 0;\n  margin: 0;\n  display: grid;\n  grid-template-columns: 125px auto;\n}\n\n.xr-attrs dt,\n.xr-attrs dd {\n  padding: 0;\n  margin: 0;\n  float: left;\n  padding-right: 10px;\n  width: auto;\n}\n\n.xr-attrs dt {\n  font-weight: normal;\n  grid-column: 1;\n}\n\n.xr-attrs dt:hover span {\n  display: inline-block;\n  background: var(--xr-background-color);\n  padding-right: 10px;\n}\n\n.xr-attrs dd {\n  grid-column: 2;\n  white-space: pre-wrap;\n  word-break: break-all;\n}\n\n.xr-icon-database,\n.xr-icon-file-text2,\n.xr-no-icon {\n  display: inline-block;\n  vertical-align: middle;\n  width: 1em;\n  height: 1.5em !important;\n  stroke-width: 0;\n  stroke: currentColor;\n  fill: currentColor;\n}\n</style><pre class='xr-text-repr-fallback'>&lt;xarray.Dataset&gt;\nDimensions:          (station: 1, time: 5)\nCoordinates:\n  * station          (station) float64 1.0\n  * time             (time) datetime64[ns] 2022-08-30T11:21:03 ... 2022-08-30...\nData variables: (12/15)\n    ghi              (time, station) float32 269.9 269.7 269.9 269.9 269.9\n    gti              (time, station) float32 277.3 277.3 277.4 277.3 277.3\n    ta               (time, station) float32 294.8 294.7 294.8 294.7 294.8\n    rh               (time, station) float32 0.6263 0.6266 0.6271 0.6271 0.629\n    battery_voltage  (time, station) float32 6.445 6.446 6.45 6.448 6.458\n    ghi_min          (time, station) float32 269.9 268.5 269.9 269.9 269.9\n    ...               ...\n    ghi_std          (time, station) float64 0.0 0.4399 0.0 0.0 0.0\n    gti_std          (time, station) float64 0.0 0.7262 0.8745 0.0 0.0\n    lat              (time, station) float64 nan nan 51.39 51.39 51.39\n    lon              (time, station) float64 nan nan 11.89 11.89 11.89\n    ghi_qc           (station) float32 0.5437\n    gti_qc           (station) float32 0.6578\nAttributes: (12/31)\n    title:                     TROPOS pyranometer network (PyrNet) observations\n    institution:               Leibniz Institute for Tropospheric Research (T...\n    department:                Remote Sensing of Atmospheric Processes\n    department_team:           Clouds, Aerosol and Radiation\n    address:                   Permoser Str. 15, 04318 Leipzig, Germany\n    source:                    TROPOS pyranometer network (PyrNet)\n    ...                        ...\n    geospatial_lon_max:        11.885256666666667\n    geospatial_lon_units:      degE\n    time_coverage_start:       2022-08-30T11:21:04.065000\n    time_coverage_end:         2022-08-30T11:21:09\n    time_coverage_duration:    P0DT0H0M4.935S\n    time_coverage_resolution:  P0DT0H0M1.23375S</pre><div class='xr-wrap' style='display:none'><div class='xr-header'><div class='xr-obj-type'>xarray.Dataset</div></div><ul class='xr-sections'><li class='xr-section-item'><input id='section-0b2ab91f-d554-473f-8009-f1f6c092bb34' class='xr-section-summary-in' type='checkbox' disabled ><label for='section-0b2ab91f-d554-473f-8009-f1f6c092bb34' class='xr-section-summary'  title='Expand/collapse section'>Dimensions:</label><div class='xr-section-inline-details'><ul class='xr-dim-list'><li><span class='xr-has-index'>station</span>: 1</li><li><span class='xr-has-index'>time</span>: 5</li></ul></div><div class='xr-section-details'></div></li><li class='xr-section-item'><input id='section-236e195a-6d30-41b4-95f5-b121ef21ad04' class='xr-section-summary-in' type='checkbox'  checked><label for='section-236e195a-6d30-41b4-95f5-b121ef21ad04' class='xr-section-summary' >Coordinates: <span>(2)</span></label><div class='xr-section-inline-details'></div><div class='xr-section-details'><ul class='xr-var-list'><li class='xr-var-item'><div class='xr-var-name'><span class='xr-has-index'>station</span></div><div class='xr-var-dims'>(station)</div><div class='xr-var-dtype'>float64</div><div class='xr-var-preview xr-preview'>1.0</div><input id='attrs-e8316928-b5e6-4b66-90e3-aed3f4ccb630' class='xr-var-attrs-in' type='checkbox' disabled><label for='attrs-e8316928-b5e6-4b66-90e3-aed3f4ccb630' title='Show/Hide attributes'><svg class='icon xr-icon-file-text2'><use xlink:href='#icon-file-text2'></use></svg></label><input id='data-19ef0242-7f50-4584-8453-ec781b827942' class='xr-var-data-in' type='checkbox'><label for='data-19ef0242-7f50-4584-8453-ec781b827942' title='Show/Hide data repr'><svg class='icon xr-icon-database'><use xlink:href='#icon-database'></use></svg></label><div class='xr-var-attrs'><dl class='xr-attrs'></dl></div><div class='xr-var-data'><pre>array([1.])</pre></div></li><li class='xr-var-item'><div class='xr-var-name'><span class='xr-has-index'>time</span></div><div class='xr-var-dims'>(time)</div><div class='xr-var-dtype'>datetime64[ns]</div><div class='xr-var-preview xr-preview'>2022-08-30T11:21:03 ... 2022-08-...</div><input id='attrs-db2e982e-f037-4d58-8b96-a420ac9ad58b' class='xr-var-attrs-in' type='checkbox' disabled><label for='attrs-db2e982e-f037-4d58-8b96-a420ac9ad58b' title='Show/Hide attributes'><svg class='icon xr-icon-file-text2'><use xlink:href='#icon-file-text2'></use></svg></label><input id='data-4733567e-4886-4931-8394-289b604049e7' class='xr-var-data-in' type='checkbox'><label for='data-4733567e-4886-4931-8394-289b604049e7' title='Show/Hide data repr'><svg class='icon xr-icon-database'><use xlink:href='#icon-database'></use></svg></label><div class='xr-var-attrs'><dl class='xr-attrs'></dl></div><div class='xr-var-data'><pre>array([&#x27;2022-08-30T11:21:03.000000000&#x27;, &#x27;2022-08-30T11:21:04.000000000&#x27;,\n       &#x27;2022-08-30T11:21:05.000000000&#x27;, &#x27;2022-08-30T11:21:06.000000000&#x27;,\n       &#x27;2022-08-30T11:21:07.000000000&#x27;], dtype=&#x27;datetime64[ns]&#x27;)</pre></div></li></ul></div></li><li class='xr-section-item'><input id='section-d5fc0d65-c922-4182-9869-28b1ad818396' class='xr-section-summary-in' type='checkbox'  ><label for='section-d5fc0d65-c922-4182-9869-28b1ad818396' class='xr-section-summary' >Data variables: <span>(15)</span></label><div class='xr-section-inline-details'></div><div class='xr-section-details'><ul class='xr-var-list'><li class='xr-var-item'><div class='xr-var-name'><span>ghi</span></div><div class='xr-var-dims'>(time, station)</div><div class='xr-var-dtype'>float32</div><div class='xr-var-preview xr-preview'>269.9 269.7 269.9 269.9 269.9</div><input id='attrs-688587ba-d145-4f28-8cb1-d83b548ddaf3' class='xr-var-attrs-in' type='checkbox' ><label for='attrs-688587ba-d145-4f28-8cb1-d83b548ddaf3' title='Show/Hide attributes'><svg class='icon xr-icon-file-text2'><use xlink:href='#icon-file-text2'></use></svg></label><input id='data-bae869d7-afbe-455f-97f3-1c520c86e224' class='xr-var-data-in' type='checkbox'><label for='data-bae869d7-afbe-455f-97f3-1c520c86e224' title='Show/Hide data repr'><svg class='icon xr-icon-database'><use xlink:href='#icon-database'></use></svg></label><div class='xr-var-attrs'><dl class='xr-attrs'><dt><span>units :</span></dt><dd>W m-2</dd><dt><span>long_name :</span></dt><dd>downwelling shortwave flux</dd><dt><span>standard_name :</span></dt><dd>downwelling_shortwave_flux_in_air</dd><dt><span>valid_range :</span></dt><dd>[   0 1023]</dd><dt><span>serial :</span></dt><dd>S12128.001</dd><dt><span>calibration_factor :</span></dt><dd>7.73</dd></dl></div><div class='xr-var-data'><pre>array([[269.86047],\n       [269.72137],\n       [269.86047],\n       [269.86047],\n       [269.86047]], dtype=float32)</pre></div></li><li class='xr-var-item'><div class='xr-var-name'><span>gti</span></div><div class='xr-var-dims'>(time, station)</div><div class='xr-var-dtype'>float32</div><div class='xr-var-preview xr-preview'>277.3 277.3 277.4 277.3 277.3</div><input id='attrs-c47f4892-7670-4b4f-bb0f-454d32595342' class='xr-var-attrs-in' type='checkbox' ><label for='attrs-c47f4892-7670-4b4f-bb0f-454d32595342' title='Show/Hide attributes'><svg class='icon xr-icon-file-text2'><use xlink:href='#icon-file-text2'></use></svg></label><input id='data-c65f02a3-badc-4493-be6f-527227fe0473' class='xr-var-data-in' type='checkbox'><label for='data-c65f02a3-badc-4493-be6f-527227fe0473' title='Show/Hide data repr'><svg class='icon xr-icon-database'><use xlink:href='#icon-database'></use></svg></label><div class='xr-var-attrs'><dl class='xr-attrs'><dt><span>units :</span></dt><dd>W m-2</dd><dt><span>long_name :</span></dt><dd>downwelling shortwave flux measured on secondary platform, might be tilted</dd><dt><span>standard_name :</span></dt><dd>downwelling_shortwave_flux_in_air</dd><dt><span>valid_range :</span></dt><dd>[   0 1023]</dd><dt><span>hangle :</span></dt><dd>0.0</dd><dt><span>vangle :</span></dt><dd>0.0</dd><dt><span>serial :</span></dt><dd>S12137.049</dd><dt><span>calibration_factor :</span></dt><dd>6.98</dd></dl></div><div class='xr-var-data'><pre>array([[277.28995],\n       [277.28995],\n       [277.444  ],\n       [277.28995],\n       [277.28995]], dtype=float32)</pre></div></li><li class='xr-var-item'><div class='xr-var-name'><span>ta</span></div><div class='xr-var-dims'>(time, station)</div><div class='xr-var-dtype'>float32</div><div class='xr-var-preview xr-preview'>294.8 294.7 294.8 294.7 294.8</div><input id='attrs-710aa750-b6f1-45aa-92ca-5841a7cc9989' class='xr-var-attrs-in' type='checkbox' ><label for='attrs-710aa750-b6f1-45aa-92ca-5841a7cc9989' title='Show/Hide attributes'><svg class='icon xr-icon-file-text2'><use xlink:href='#icon-file-text2'></use></svg></label><input id='data-f2a8acb4-4dee-4b23-8606-0746a229bf97' class='xr-var-data-in' type='checkbox'><label for='data-f2a8acb4-4dee-4b23-8606-0746a229bf97' title='Show/Hide data repr'><svg class='icon xr-icon-database'><use xlink:href='#icon-database'></use></svg></label><div class='xr-var-attrs'><dl class='xr-attrs'><dt><span>units :</span></dt><dd>K</dd><dt><span>long_name :</span></dt><dd>air temperature</dd><dt><span>standard_name :</span></dt><dd>air_temperature</dd><dt><span>valid_range :</span></dt><dd>[  0 775]</dd></dl></div><div class='xr-var-data'><pre>array([[294.7758 ],\n       [294.74997],\n       [294.7887 ],\n       [294.74997],\n       [294.82742]], dtype=float32)</pre></div></li><li class='xr-var-item'><div class='xr-var-name'><span>rh</span></div><div class='xr-var-dims'>(time, station)</div><div class='xr-var-dtype'>float32</div><div class='xr-var-preview xr-preview'>0.6263 0.6266 0.6271 0.6271 0.629</div><input id='attrs-fcb2dbb7-5c99-4967-baef-63b31f204771' class='xr-var-attrs-in' type='checkbox' ><label for='attrs-fcb2dbb7-5c99-4967-baef-63b31f204771' title='Show/Hide attributes'><svg class='icon xr-icon-file-text2'><use xlink:href='#icon-file-text2'></use></svg></label><input id='data-c0b73cfa-6ea7-430d-89f8-bef3dc6418b5' class='xr-var-data-in' type='checkbox'><label for='data-c0b73cfa-6ea7-430d-89f8-bef3dc6418b5' title='Show/Hide data repr'><svg class='icon xr-icon-database'><use xlink:href='#icon-database'></use></svg></label><div class='xr-var-attrs'><dl class='xr-attrs'><dt><span>units :</span></dt><dd>1</dd><dt><span>long_name :</span></dt><dd>air relative humidity</dd><dt><span>standard_name :</span></dt><dd>relative_humidity</dd><dt><span>valid_range :</span></dt><dd>[  0 775]</dd></dl></div><div class='xr-var-data'><pre>array([[0.62632257],\n       [0.6265806 ],\n       [0.6270968 ],\n       [0.6270968 ],\n       [0.62903225]], dtype=float32)</pre></div></li><li class='xr-var-item'><div class='xr-var-name'><span>battery_voltage</span></div><div class='xr-var-dims'>(time, station)</div><div class='xr-var-dtype'>float32</div><div class='xr-var-preview xr-preview'>6.445 6.446 6.45 6.448 6.458</div><input id='attrs-278e0bfc-dd14-4a8f-9ccb-d6fa41e20b30' class='xr-var-attrs-in' type='checkbox' ><label for='attrs-278e0bfc-dd14-4a8f-9ccb-d6fa41e20b30' title='Show/Hide attributes'><svg class='icon xr-icon-file-text2'><use xlink:href='#icon-file-text2'></use></svg></label><input id='data-ec375a8c-2d66-41e0-be90-6a3c9a512d4e' class='xr-var-data-in' type='checkbox'><label for='data-ec375a8c-2d66-41e0-be90-6a3c9a512d4e' title='Show/Hide data repr'><svg class='icon xr-icon-database'><use xlink:href='#icon-database'></use></svg></label><div class='xr-var-attrs'><dl class='xr-attrs'><dt><span>units :</span></dt><dd>V</dd><dt><span>standard_name :</span></dt><dd>battery_voltage</dd><dt><span>valid_range :</span></dt><dd>[  0 992]</dd></dl></div><div class='xr-var-data'><pre>array([[6.4451613],\n       [6.445807 ],\n       [6.4496775],\n       [6.4477415],\n       [6.4580646]], dtype=float32)</pre></div></li><li class='xr-var-item'><div class='xr-var-name'><span>ghi_min</span></div><div class='xr-var-dims'>(time, station)</div><div class='xr-var-dtype'>float32</div><div class='xr-var-preview xr-preview'>269.9 268.5 269.9 269.9 269.9</div><input id='attrs-ef0a4c74-0b14-4e61-a4ea-b8c2a752e6c5' class='xr-var-attrs-in' type='checkbox' ><label for='attrs-ef0a4c74-0b14-4e61-a4ea-b8c2a752e6c5' title='Show/Hide attributes'><svg class='icon xr-icon-file-text2'><use xlink:href='#icon-file-text2'></use></svg></label><input id='data-aecbd755-061c-42f6-b02c-a4cfc6303abf' class='xr-var-data-in' type='checkbox'><label for='data-aecbd755-061c-42f6-b02c-a4cfc6303abf' title='Show/Hide data repr'><svg class='icon xr-icon-database'><use xlink:href='#icon-database'></use></svg></label><div class='xr-var-attrs'><dl class='xr-attrs'><dt><span>units :</span></dt><dd>W m-2</dd><dt><span>long_name :</span></dt><dd>downwelling shortwave flux</dd><dt><span>standard_name :</span></dt><dd>min_downwelling_shortwave_flux_in_air</dd><dt><span>valid_range :</span></dt><dd>[   0 1023]</dd><dt><span>serial :</span></dt><dd>S12128.001</dd><dt><span>calibration_factor :</span></dt><dd>7.73</dd></dl></div><div class='xr-var-data'><pre>array([[269.86047],\n       [268.46945],\n       [269.86047],\n       [269.86047],\n       [269.86047]], dtype=float32)</pre></div></li><li class='xr-var-item'><div class='xr-var-name'><span>gti_min</span></div><div class='xr-var-dims'>(time, station)</div><div class='xr-var-dtype'>float32</div><div class='xr-var-preview xr-preview'>277.3 275.7 275.7 277.3 277.3</div><input id='attrs-8d4d7eb5-bed1-49f3-92cf-821fea24f285' class='xr-var-attrs-in' type='checkbox' ><label for='attrs-8d4d7eb5-bed1-49f3-92cf-821fea24f285' title='Show/Hide attributes'><svg class='icon xr-icon-file-text2'><use xlink:href='#icon-file-text2'></use></svg></label><input id='data-c008a84e-4737-4338-b4ad-beb9d30ce0a7' class='xr-var-data-in' type='checkbox'><label for='data-c008a84e-4737-4338-b4ad-beb9d30ce0a7' title='Show/Hide data repr'><svg class='icon xr-icon-database'><use xlink:href='#icon-database'></use></svg></label><div class='xr-var-attrs'><dl class='xr-attrs'><dt><span>units :</span></dt><dd>W m-2</dd><dt><span>long_name :</span></dt><dd>downwelling shortwave flux measured on secondary platform, might be tilted</dd><dt><span>standard_name :</span></dt><dd>min_downwelling_shortwave_flux_in_air</dd><dt><span>valid_range :</span></dt><dd>[   0 1023]</dd><dt><span>hangle :</span></dt><dd>0.0</dd><dt><span>vangle :</span></dt><dd>0.0</dd><dt><span>serial :</span></dt><dd>S12137.049</dd><dt><span>calibration_factor :</span></dt><dd>6.98</dd></dl></div><div class='xr-var-data'><pre>array([[277.28995],\n       [275.74945],\n       [275.74945],\n       [277.28995],\n       [277.28995]], dtype=float32)</pre></div></li><li class='xr-var-item'><div class='xr-var-name'><span>ghi_max</span></div><div class='xr-var-dims'>(time, station)</div><div class='xr-var-dtype'>float32</div><div class='xr-var-preview xr-preview'>269.9 269.9 269.9 269.9 269.9</div><input id='attrs-54a2e57c-8c74-427e-a1c1-237cc9af8415' class='xr-var-attrs-in' type='checkbox' ><label for='attrs-54a2e57c-8c74-427e-a1c1-237cc9af8415' title='Show/Hide attributes'><svg class='icon xr-icon-file-text2'><use xlink:href='#icon-file-text2'></use></svg></label><input id='data-cd4bba0d-93de-428f-8e32-64d3425ba964' class='xr-var-data-in' type='checkbox'><label for='data-cd4bba0d-93de-428f-8e32-64d3425ba964' title='Show/Hide data repr'><svg class='icon xr-icon-database'><use xlink:href='#icon-database'></use></svg></label><div class='xr-var-attrs'><dl class='xr-attrs'><dt><span>units :</span></dt><dd>W m-2</dd><dt><span>long_name :</span></dt><dd>downwelling shortwave flux</dd><dt><span>standard_name :</span></dt><dd>max_downwelling_shortwave_flux_in_air</dd><dt><span>valid_range :</span></dt><dd>[   0 1023]</dd><dt><span>serial :</span></dt><dd>S12128.001</dd><dt><span>calibration_factor :</span></dt><dd>7.73</dd></dl></div><div class='xr-var-data'><pre>array([[269.86047],\n       [269.86047],\n       [269.86047],\n       [269.86047],\n       [269.86047]], dtype=float32)</pre></div></li><li class='xr-var-item'><div class='xr-var-name'><span>gti_max</span></div><div class='xr-var-dims'>(time, station)</div><div class='xr-var-dtype'>float32</div><div class='xr-var-preview xr-preview'>277.3 278.8 278.8 277.3 277.3</div><input id='attrs-634d0954-bfb4-4712-9171-82ec36cbbcab' class='xr-var-attrs-in' type='checkbox' ><label for='attrs-634d0954-bfb4-4712-9171-82ec36cbbcab' title='Show/Hide attributes'><svg class='icon xr-icon-file-text2'><use xlink:href='#icon-file-text2'></use></svg></label><input id='data-a8cef5ee-7c4a-4de9-aa5b-f75c52fb671f' class='xr-var-data-in' type='checkbox'><label for='data-a8cef5ee-7c4a-4de9-aa5b-f75c52fb671f' title='Show/Hide data repr'><svg class='icon xr-icon-database'><use xlink:href='#icon-database'></use></svg></label><div class='xr-var-attrs'><dl class='xr-attrs'><dt><span>units :</span></dt><dd>W m-2</dd><dt><span>long_name :</span></dt><dd>downwelling shortwave flux measured on secondary platform, might be tilted</dd><dt><span>standard_name :</span></dt><dd>max_downwelling_shortwave_flux_in_air</dd><dt><span>valid_range :</span></dt><dd>[   0 1023]</dd><dt><span>hangle :</span></dt><dd>0.0</dd><dt><span>vangle :</span></dt><dd>0.0</dd><dt><span>serial :</span></dt><dd>S12137.049</dd><dt><span>calibration_factor :</span></dt><dd>6.98</dd></dl></div><div class='xr-var-data'><pre>array([[277.28995],\n       [278.83044],\n       [278.83044],\n       [277.28995],\n       [277.28995]], dtype=float32)</pre></div></li><li class='xr-var-item'><div class='xr-var-name'><span>ghi_std</span></div><div class='xr-var-dims'>(time, station)</div><div class='xr-var-dtype'>float64</div><div class='xr-var-preview xr-preview'>0.0 0.4399 0.0 0.0 0.0</div><input id='attrs-5e9b07cb-ca1f-465b-87e1-b86677db8671' class='xr-var-attrs-in' type='checkbox' ><label for='attrs-5e9b07cb-ca1f-465b-87e1-b86677db8671' title='Show/Hide attributes'><svg class='icon xr-icon-file-text2'><use xlink:href='#icon-file-text2'></use></svg></label><input id='data-0bc244a0-465a-4711-9879-4ae2fb1903ed' class='xr-var-data-in' type='checkbox'><label for='data-0bc244a0-465a-4711-9879-4ae2fb1903ed' title='Show/Hide data repr'><svg class='icon xr-icon-database'><use xlink:href='#icon-database'></use></svg></label><div class='xr-var-attrs'><dl class='xr-attrs'><dt><span>units :</span></dt><dd>W m-2</dd><dt><span>long_name :</span></dt><dd>downwelling shortwave flux</dd><dt><span>standard_name :</span></dt><dd>std_downwelling_shortwave_flux_in_air</dd><dt><span>valid_range :</span></dt><dd>[   0 1023]</dd><dt><span>serial :</span></dt><dd>S12128.001</dd><dt><span>calibration_factor :</span></dt><dd>7.73</dd></dl></div><div class='xr-var-data'><pre>array([[0.        ],\n       [0.43987969],\n       [0.        ],\n       [0.        ],\n       [0.        ]])</pre></div></li><li class='xr-var-item'><div class='xr-var-name'><span>gti_std</span></div><div class='xr-var-dims'>(time, station)</div><div class='xr-var-dtype'>float64</div><div class='xr-var-preview xr-preview'>0.0 0.7262 0.8745 0.0 0.0</div><input id='attrs-d775a305-4052-4376-8c46-fbc5e9d59076' class='xr-var-attrs-in' type='checkbox' ><label for='attrs-d775a305-4052-4376-8c46-fbc5e9d59076' title='Show/Hide attributes'><svg class='icon xr-icon-file-text2'><use xlink:href='#icon-file-text2'></use></svg></label><input id='data-e78f6d92-a07f-40a2-a2c0-e7c35bd93048' class='xr-var-data-in' type='checkbox'><label for='data-e78f6d92-a07f-40a2-a2c0-e7c35bd93048' title='Show/Hide data repr'><svg class='icon xr-icon-database'><use xlink:href='#icon-database'></use></svg></label><div class='xr-var-attrs'><dl class='xr-attrs'><dt><span>units :</span></dt><dd>W m-2</dd><dt><span>long_name :</span></dt><dd>downwelling shortwave flux measured on secondary platform, might be tilted</dd><dt><span>standard_name :</span></dt><dd>std_downwelling_shortwave_flux_in_air</dd><dt><span>valid_range :</span></dt><dd>[   0 1023]</dd><dt><span>hangle :</span></dt><dd>0.0</dd><dt><span>vangle :</span></dt><dd>0.0</dd><dt><span>serial :</span></dt><dd>S12137.049</dd><dt><span>calibration_factor :</span></dt><dd>6.98</dd></dl></div><div class='xr-var-data'><pre>array([[0.        ],\n       [0.72619717],\n       [0.87445719],\n       [0.        ],\n       [0.        ]])</pre></div></li><li class='xr-var-item'><div class='xr-var-name'><span>lat</span></div><div class='xr-var-dims'>(time, station)</div><div class='xr-var-dtype'>float64</div><div class='xr-var-preview xr-preview'>nan nan 51.39 51.39 51.39</div><input id='attrs-c353e2ae-84dd-4239-9aa2-bc702e330f83' class='xr-var-attrs-in' type='checkbox' ><label for='attrs-c353e2ae-84dd-4239-9aa2-bc702e330f83' title='Show/Hide attributes'><svg class='icon xr-icon-file-text2'><use xlink:href='#icon-file-text2'></use></svg></label><input id='data-d919b6fc-3b12-4bc3-b2c9-8ebc5b28862f' class='xr-var-data-in' type='checkbox'><label for='data-d919b6fc-3b12-4bc3-b2c9-8ebc5b28862f' title='Show/Hide data repr'><svg class='icon xr-icon-database'><use xlink:href='#icon-database'></use></svg></label><div class='xr-var-attrs'><dl class='xr-attrs'><dt><span>standard_name :</span></dt><dd>latitude</dd><dt><span>units :</span></dt><dd>degree_north</dd><dt><span>valid_range :</span></dt><dd>[        0 180000000]</dd></dl></div><div class='xr-var-data'><pre>array([[        nan],\n       [        nan],\n       [51.390212  ],\n       [51.39021103],\n       [51.39021   ]])</pre></div></li><li class='xr-var-item'><div class='xr-var-name'><span>lon</span></div><div class='xr-var-dims'>(time, station)</div><div class='xr-var-dtype'>float64</div><div class='xr-var-preview xr-preview'>nan nan 11.89 11.89 11.89</div><input id='attrs-1882d636-bd0b-4c04-b850-8f1c36831c54' class='xr-var-attrs-in' type='checkbox' ><label for='attrs-1882d636-bd0b-4c04-b850-8f1c36831c54' title='Show/Hide attributes'><svg class='icon xr-icon-file-text2'><use xlink:href='#icon-file-text2'></use></svg></label><input id='data-d34d86f2-5619-4018-aea6-5d29ca6613c2' class='xr-var-data-in' type='checkbox'><label for='data-d34d86f2-5619-4018-aea6-5d29ca6613c2' title='Show/Hide data repr'><svg class='icon xr-icon-database'><use xlink:href='#icon-database'></use></svg></label><div class='xr-var-attrs'><dl class='xr-attrs'><dt><span>standard_name :</span></dt><dd>longitude</dd><dt><span>units :</span></dt><dd>degree_east</dd><dt><span>valid_range :</span></dt><dd>[        0 360000000]</dd></dl></div><div class='xr-var-data'><pre>array([[        nan],\n       [        nan],\n       [11.88525687],\n       [11.88525458],\n       [11.885252  ]])</pre></div></li><li class='xr-var-item'><div class='xr-var-name'><span>ghi_qc</span></div><div class='xr-var-dims'>(station)</div><div class='xr-var-dtype'>float32</div><div class='xr-var-preview xr-preview'>0.5437</div><input id='attrs-511317ec-4df7-4ec0-85d7-bca3747b6759' class='xr-var-attrs-in' type='checkbox' ><label for='attrs-511317ec-4df7-4ec0-85d7-bca3747b6759' title='Show/Hide attributes'><svg class='icon xr-icon-file-text2'><use xlink:href='#icon-file-text2'></use></svg></label><input id='data-0c16146c-027b-4623-848a-081e56764c3c' class='xr-var-data-in' type='checkbox'><label for='data-0c16146c-027b-4623-848a-081e56764c3c' title='Show/Hide data repr'><svg class='icon xr-icon-database'><use xlink:href='#icon-database'></use></svg></label><div class='xr-var-attrs'><dl class='xr-attrs'><dt><span>standard_name :</span></dt><dd>quality_flag</dd><dt><span>long_name :</span></dt><dd>Maintenance quality control flags for main pyranometer</dd><dt><span>note :</span></dt><dd>Soiling describes subjectively the coverage of the pyranometer dome with dirt. The level flag is problematic if the bubble of the spirit level touches the reference ring, and bad if it is outside.</dd><dt><span>valid_range :</span></dt><dd>[ 0 11]</dd><dt><span>flag_masks :</span></dt><dd>[ 3  3  3 12 12]</dd><dt><span>flag_values :</span></dt><dd>[1 2 3 4 8]</dd><dt><span>flag_meanings :</span></dt><dd>soiling_light soiling_moderate soiling_heavy level_problematic level_bad</dd><dt><span>note_general :</span></dt><dd>this is a test; 222</dd><dt><span>note_clean :</span></dt><dd>testing notes; None</dd><dt><span>note_level :</span></dt><dd>None; test</dd></dl></div><div class='xr-var-data'><pre>array([0.543742], dtype=float32)</pre></div></li><li class='xr-var-item'><div class='xr-var-name'><span>gti_qc</span></div><div class='xr-var-dims'>(station)</div><div class='xr-var-dtype'>float32</div><div class='xr-var-preview xr-preview'>0.6578</div><input id='attrs-d5ff40ef-f9a5-4a3f-aac0-a639b1607c65' class='xr-var-attrs-in' type='checkbox' ><label for='attrs-d5ff40ef-f9a5-4a3f-aac0-a639b1607c65' title='Show/Hide attributes'><svg class='icon xr-icon-file-text2'><use xlink:href='#icon-file-text2'></use></svg></label><input id='data-68cb4c75-2962-4a9c-8330-5a46e16067f6' class='xr-var-data-in' type='checkbox'><label for='data-68cb4c75-2962-4a9c-8330-5a46e16067f6' title='Show/Hide data repr'><svg class='icon xr-icon-database'><use xlink:href='#icon-database'></use></svg></label><div class='xr-var-attrs'><dl class='xr-attrs'><dt><span>standard_name :</span></dt><dd>quality_flag</dd><dt><span>long_name :</span></dt><dd>Maintenance quality control flags for secondary pyranometer</dd><dt><span>note :</span></dt><dd>Soiling describes subjectively the coverage of the pyranometer dome with dirt. The level flag is problematic if the bubble of the spirit level touches the reference ring, and bad if it is outside.</dd><dt><span>valid_range :</span></dt><dd>[ 0 11]</dd><dt><span>flag_masks :</span></dt><dd>[ 3  3  3 12 12]</dd><dt><span>flag_values :</span></dt><dd>[1 2 3 4 8]</dd><dt><span>flag_meanings :</span></dt><dd>soiling_light soiling_moderate soiling_heavy level_problematic level_bad</dd><dt><span>note_general :</span></dt><dd>this is a test; 222</dd><dt><span>note_clean :</span></dt><dd>None; None</dd><dt><span>note_level :</span></dt><dd>None; None</dd></dl></div><div class='xr-var-data'><pre>array([0.657806], dtype=float32)</pre></div></li></ul></div></li><li class='xr-section-item'><input id='section-dbe48a6f-91aa-4ccb-a30b-9a7aa8dc4485' class='xr-section-summary-in' type='checkbox'  ><label for='section-dbe48a6f-91aa-4ccb-a30b-9a7aa8dc4485' class='xr-section-summary' >Indexes: <span>(2)</span></label><div class='xr-section-inline-details'></div><div class='xr-section-details'><ul class='xr-var-list'><li class='xr-var-item'><div class='xr-index-name'><div>station</div></div><div class='xr-index-preview'>PandasIndex</div><div></div><input id='index-304006d0-0a73-452f-a647-d185e91c7334' class='xr-index-data-in' type='checkbox'/><label for='index-304006d0-0a73-452f-a647-d185e91c7334' title='Show/Hide index repr'><svg class='icon xr-icon-database'><use xlink:href='#icon-database'></use></svg></label><div class='xr-index-data'><pre>PandasIndex(Float64Index([1.0], dtype=&#x27;float64&#x27;, name=&#x27;station&#x27;))</pre></div></li><li class='xr-var-item'><div class='xr-index-name'><div>time</div></div><div class='xr-index-preview'>PandasIndex</div><div></div><input id='index-9347f8a1-9622-4100-9f3b-5d4ccf6604b3' class='xr-index-data-in' type='checkbox'/><label for='index-9347f8a1-9622-4100-9f3b-5d4ccf6604b3' title='Show/Hide index repr'><svg class='icon xr-icon-database'><use xlink:href='#icon-database'></use></svg></label><div class='xr-index-data'><pre>PandasIndex(DatetimeIndex([&#x27;2022-08-30 11:21:03&#x27;, &#x27;2022-08-30 11:21:04&#x27;,\n               &#x27;2022-08-30 11:21:05&#x27;, &#x27;2022-08-30 11:21:06&#x27;,\n               &#x27;2022-08-30 11:21:07&#x27;],\n              dtype=&#x27;datetime64[ns]&#x27;, name=&#x27;time&#x27;, freq=&#x27;S&#x27;))</pre></div></li></ul></div></li><li class='xr-section-item'><input id='section-1d5d18ed-5e65-49a2-a14c-0c4eca496f7c' class='xr-section-summary-in' type='checkbox'  ><label for='section-1d5d18ed-5e65-49a2-a14c-0c4eca496f7c' class='xr-section-summary' >Attributes: <span>(31)</span></label><div class='xr-section-inline-details'></div><div class='xr-section-details'><dl class='xr-attrs'><dt><span>title :</span></dt><dd>TROPOS pyranometer network (PyrNet) observations</dd><dt><span>institution :</span></dt><dd>Leibniz Institute for Tropospheric Research (TROPOS)</dd><dt><span>department :</span></dt><dd>Remote Sensing of Atmospheric Processes</dd><dt><span>department_team :</span></dt><dd>Clouds, Aerosol and Radiation</dd><dt><span>address :</span></dt><dd>Permoser Str. 15, 04318 Leipzig, Germany</dd><dt><span>source :</span></dt><dd>TROPOS pyranometer network (PyrNet)</dd><dt><span>contact_person :</span></dt><dd>Andreas Macke and the clouds, aerosol and radiation team of the remote sensing department, mailto:andreas.macke@tropos.de</dd><dt><span>contributor_name :</span></dt><dd></dd><dt><span>contributor_role :</span></dt><dd></dd><dt><span>authors_software :</span></dt><dd>Hartwig Deneke, Jonas Witthuhn, mailto:deneke@tropos.de</dd><dt><span>creator_name :</span></dt><dd></dd><dt><span>project :</span></dt><dd></dd><dt><span>references :</span></dt><dd>https://doi.org/10.5194/amt-9-1153-2016</dd><dt><span>standard_name_vocabulary :</span></dt><dd>CF Standard Name Table v81</dd><dt><span>conventions :</span></dt><dd>CF-1.10, ACDD-1.3</dd><dt><span>license :</span></dt><dd>CC-BY-SA 3.0</dd><dt><span>TESTNOTE :</span></dt><dd>This is a test note.</dd><dt><span>processing_level :</span></dt><dd>l1a</dd><dt><span>product_version :</span></dt><dd>0.1.10+13.gc6b62f7.dirty</dd><dt><span>history :</span></dt><dd>2024-01-30T15:04:14: Generated level l1a  by pyrnet version 0.1.10+13.gc6b62f7.dirty; </dd><dt><span>date_created :</span></dt><dd>2024-01-30T15:04:14</dd><dt><span>geospatial_lat_min :</span></dt><dd>51.390208333333334</dd><dt><span>geospatial_lat_max :</span></dt><dd>51.390211666666666</dd><dt><span>geospatial_lat_units :</span></dt><dd>degN</dd><dt><span>geospatial_lon_min :</span></dt><dd>11.885246666666667</dd><dt><span>geospatial_lon_max :</span></dt><dd>11.885256666666667</dd><dt><span>geospatial_lon_units :</span></dt><dd>degE</dd><dt><span>time_coverage_start :</span></dt><dd>2022-08-30T11:21:04.065000</dd><dt><span>time_coverage_end :</span></dt><dd>2022-08-30T11:21:09</dd><dt><span>time_coverage_duration :</span></dt><dd>P0DT0H0M4.935S</dd><dt><span>time_coverage_resolution :</span></dt><dd>P0DT0H0M1.23375S</dd></dl></div></li></ul></div></div>"
     },
     "execution_count": 30,
     "metadata": {},
     "output_type": "execute_result"
    }
   ],
   "source": [
    "#|dropcode\n",
    "#|dropout\n",
    "\n",
    "# 7. Interpolate GPS coordinates to bin time\n",
    "ds_gps = ds_l1a.drop_dims(\"adctime\")\n",
    "ds_gps = ds_gps.drop_vars(['iadc'])\n",
    "\n",
    "\n",
    "# Decide whether geo coordinates should be averaged or not\n",
    "\n",
    "# if config['average_latlon']:\n",
    "ds_gps_avg = ds_gps.mean('gpstime',skipna=True)\n",
    "ds_l1b_avg = xr.merge((ds_l1b,ds_gps_avg))\n",
    "\n",
    "# else:\n",
    "ds_gps = ds_gps.interp(gpstime=ds_l1b.time,\n",
    "                       kwargs={\"bounds_error\":False, \"fill_value\":np.nan})\n",
    "ds_gps = ds_gps.drop_vars(\"gpstime\")\n",
    "\n",
    "ds_l1b = xr.merge((ds_l1b,ds_gps))\n",
    "\n",
    "ds_l1b"
   ],
   "metadata": {
    "collapsed": false,
    "ExecuteTime": {
     "end_time": "2024-01-30T15:04:16.878608400Z",
     "start_time": "2024-01-30T15:04:16.247131800Z"
    }
   }
  },
  {
   "cell_type": "code",
   "execution_count": 31,
   "outputs": [],
   "source": [
    "#|hide\n",
    "# dsp = ds_l1b.sel(time=\"2019-07-15\")\n",
    "# plt.figure()\n",
    "# plt.plot(dsp.time, dsp.ghi)\n",
    "# plt.grid()"
   ],
   "metadata": {
    "collapsed": false,
    "ExecuteTime": {
     "end_time": "2024-01-30T15:04:16.879604600Z",
     "start_time": "2024-01-30T15:04:16.340614700Z"
    }
   }
  },
  {
   "cell_type": "markdown",
   "source": [],
   "metadata": {
    "collapsed": false
   }
  },
  {
   "cell_type": "markdown",
   "source": [
    "8. Calculate sun position\n",
    "    * ```trosat.sunpos```\n"
   ],
   "metadata": {
    "collapsed": false
   }
  },
  {
   "cell_type": "code",
   "execution_count": 32,
   "outputs": [
    {
     "name": "stdout",
     "output_type": "stream",
     "text": [
      "szen (avg latlon): [42.51158535 42.51172152 42.51185796 42.51199467 42.51213166]\n",
      "szen: [        nan         nan 42.5118597  42.51199538 42.51213126]\n",
      "sazi  (avg latlon): [182.90675083 182.91284047 182.91893008 182.92501967 182.93110922]\n",
      "sazi: [         nan          nan 182.91893682 182.92502312 182.93110895]\n",
      "Earth-Sun Distance: 1.009599726026352\n"
     ]
    }
   ],
   "source": [
    "#|dropcode\n",
    "#|dropout\n",
    "# 8. Calc and add sun position\n",
    "\n",
    "szen, sazi = sp.sun_angles(\n",
    "    time=ds_l1b.time.values[:,None],\n",
    "    lat=ds_l1b.lat.values,\n",
    "    lon=ds_l1b.lon.values\n",
    ")\n",
    "\n",
    "\n",
    "szen_avg, sazi_avg = sp.sun_angles(\n",
    "    time=ds_l1b_avg.time.values[:,None],\n",
    "    lat=ds_l1b_avg.lat.values,\n",
    "    lon=ds_l1b_avg.lon.values\n",
    ")\n",
    "\n",
    "szen  = szen.squeeze()\n",
    "sazi = sazi.squeeze()\n",
    "szen_avg = szen_avg.squeeze()\n",
    "sazi_avg = sazi_avg.squeeze()\n",
    "\n",
    "\n",
    "esd = np.mean(sp.earth_sun_distance(ds_l1b.time.values))\n",
    "\n",
    "print('szen (avg latlon):', szen_avg)\n",
    "print('szen:', szen)\n",
    "print('sazi  (avg latlon):', sazi_avg)\n",
    "print('sazi:', sazi)\n",
    "print('Earth-Sun Distance:',esd)"
   ],
   "metadata": {
    "collapsed": false,
    "ExecuteTime": {
     "end_time": "2024-01-30T15:04:16.978079400Z",
     "start_time": "2024-01-30T15:04:16.360564Z"
    }
   }
  },
  {
   "cell_type": "code",
   "execution_count": 33,
   "outputs": [
    {
     "data": {
      "text/plain": "<xarray.Dataset>\nDimensions:               (station: 1, time: 5, maintenancetime: 1)\nCoordinates:\n  * station               (station) float64 1.0\n  * time                  (time) datetime64[ns] 2022-08-30T11:21:03 ... 2022-...\n  * maintenancetime       (maintenancetime) datetime64[ns] 2023-05-08T16:09:06\nData variables: (12/18)\n    ghi                   (time, station) float32 269.9 269.7 269.9 269.9 269.9\n    gti                   (time, station) float32 277.3 277.3 277.4 277.3 277.3\n    ta                    (time, station) float32 294.8 294.7 294.8 294.7 294.8\n    rh                    (time, station) float32 0.6263 0.6266 ... 0.6271 0.629\n    battery_voltage       (time, station) float32 6.445 6.446 6.45 6.448 6.458\n    ghi_min               (time, station) float32 269.9 268.5 269.9 269.9 269.9\n    ...                    ...\n    lon                   (time, station) float64 nan nan 11.89 11.89 11.89\n    maintenance_flag_ghi  (maintenancetime, station) float32 9.0\n    maintenance_flag_gti  (maintenancetime, station) float32 7.0\n    szen                  (time, station) float64 nan nan 42.51 42.51 42.51\n    sazi                  (time, station) float64 nan nan 182.9 182.9 182.9\n    esd                   (station) float64 1.01\nAttributes: (12/31)\n    title:                     TROPOS pyranometer network (PyrNet) observations\n    institution:               Leibniz Institute for Tropospheric Research (T...\n    department:                Remote Sensing of Atmospheric Processes\n    department_team:           Clouds, Aerosol and Radiation\n    address:                   Permoser Str. 15, 04318 Leipzig, Germany\n    source:                    TROPOS pyranometer network (PyrNet)\n    ...                        ...\n    geospatial_lon_max:        11.885256666666667\n    geospatial_lon_units:      degE\n    time_coverage_start:       2022-08-30T11:21:04.065000\n    time_coverage_end:         2022-08-30T11:21:09\n    time_coverage_duration:    P0DT0H0M4.935S\n    time_coverage_resolution:  P0DT0H0M1.23375S",
      "text/html": "<div><svg style=\"position: absolute; width: 0; height: 0; overflow: hidden\">\n<defs>\n<symbol id=\"icon-database\" viewBox=\"0 0 32 32\">\n<path d=\"M16 0c-8.837 0-16 2.239-16 5v4c0 2.761 7.163 5 16 5s16-2.239 16-5v-4c0-2.761-7.163-5-16-5z\"></path>\n<path d=\"M16 17c-8.837 0-16-2.239-16-5v6c0 2.761 7.163 5 16 5s16-2.239 16-5v-6c0 2.761-7.163 5-16 5z\"></path>\n<path d=\"M16 26c-8.837 0-16-2.239-16-5v6c0 2.761 7.163 5 16 5s16-2.239 16-5v-6c0 2.761-7.163 5-16 5z\"></path>\n</symbol>\n<symbol id=\"icon-file-text2\" viewBox=\"0 0 32 32\">\n<path d=\"M28.681 7.159c-0.694-0.947-1.662-2.053-2.724-3.116s-2.169-2.030-3.116-2.724c-1.612-1.182-2.393-1.319-2.841-1.319h-15.5c-1.378 0-2.5 1.121-2.5 2.5v27c0 1.378 1.122 2.5 2.5 2.5h23c1.378 0 2.5-1.122 2.5-2.5v-19.5c0-0.448-0.137-1.23-1.319-2.841zM24.543 5.457c0.959 0.959 1.712 1.825 2.268 2.543h-4.811v-4.811c0.718 0.556 1.584 1.309 2.543 2.268zM28 29.5c0 0.271-0.229 0.5-0.5 0.5h-23c-0.271 0-0.5-0.229-0.5-0.5v-27c0-0.271 0.229-0.5 0.5-0.5 0 0 15.499-0 15.5 0v7c0 0.552 0.448 1 1 1h7v19.5z\"></path>\n<path d=\"M23 26h-14c-0.552 0-1-0.448-1-1s0.448-1 1-1h14c0.552 0 1 0.448 1 1s-0.448 1-1 1z\"></path>\n<path d=\"M23 22h-14c-0.552 0-1-0.448-1-1s0.448-1 1-1h14c0.552 0 1 0.448 1 1s-0.448 1-1 1z\"></path>\n<path d=\"M23 18h-14c-0.552 0-1-0.448-1-1s0.448-1 1-1h14c0.552 0 1 0.448 1 1s-0.448 1-1 1z\"></path>\n</symbol>\n</defs>\n</svg>\n<style>/* CSS stylesheet for displaying xarray objects in jupyterlab.\n *\n */\n\n:root {\n  --xr-font-color0: var(--jp-content-font-color0, rgba(0, 0, 0, 1));\n  --xr-font-color2: var(--jp-content-font-color2, rgba(0, 0, 0, 0.54));\n  --xr-font-color3: var(--jp-content-font-color3, rgba(0, 0, 0, 0.38));\n  --xr-border-color: var(--jp-border-color2, #e0e0e0);\n  --xr-disabled-color: var(--jp-layout-color3, #bdbdbd);\n  --xr-background-color: var(--jp-layout-color0, white);\n  --xr-background-color-row-even: var(--jp-layout-color1, white);\n  --xr-background-color-row-odd: var(--jp-layout-color2, #eeeeee);\n}\n\nhtml[theme=dark],\nbody[data-theme=dark],\nbody.vscode-dark {\n  --xr-font-color0: rgba(255, 255, 255, 1);\n  --xr-font-color2: rgba(255, 255, 255, 0.54);\n  --xr-font-color3: rgba(255, 255, 255, 0.38);\n  --xr-border-color: #1F1F1F;\n  --xr-disabled-color: #515151;\n  --xr-background-color: #111111;\n  --xr-background-color-row-even: #111111;\n  --xr-background-color-row-odd: #313131;\n}\n\n.xr-wrap {\n  display: block !important;\n  min-width: 300px;\n  max-width: 700px;\n}\n\n.xr-text-repr-fallback {\n  /* fallback to plain text repr when CSS is not injected (untrusted notebook) */\n  display: none;\n}\n\n.xr-header {\n  padding-top: 6px;\n  padding-bottom: 6px;\n  margin-bottom: 4px;\n  border-bottom: solid 1px var(--xr-border-color);\n}\n\n.xr-header > div,\n.xr-header > ul {\n  display: inline;\n  margin-top: 0;\n  margin-bottom: 0;\n}\n\n.xr-obj-type,\n.xr-array-name {\n  margin-left: 2px;\n  margin-right: 10px;\n}\n\n.xr-obj-type {\n  color: var(--xr-font-color2);\n}\n\n.xr-sections {\n  padding-left: 0 !important;\n  display: grid;\n  grid-template-columns: 150px auto auto 1fr 20px 20px;\n}\n\n.xr-section-item {\n  display: contents;\n}\n\n.xr-section-item input {\n  display: none;\n}\n\n.xr-section-item input + label {\n  color: var(--xr-disabled-color);\n}\n\n.xr-section-item input:enabled + label {\n  cursor: pointer;\n  color: var(--xr-font-color2);\n}\n\n.xr-section-item input:enabled + label:hover {\n  color: var(--xr-font-color0);\n}\n\n.xr-section-summary {\n  grid-column: 1;\n  color: var(--xr-font-color2);\n  font-weight: 500;\n}\n\n.xr-section-summary > span {\n  display: inline-block;\n  padding-left: 0.5em;\n}\n\n.xr-section-summary-in:disabled + label {\n  color: var(--xr-font-color2);\n}\n\n.xr-section-summary-in + label:before {\n  display: inline-block;\n  content: '►';\n  font-size: 11px;\n  width: 15px;\n  text-align: center;\n}\n\n.xr-section-summary-in:disabled + label:before {\n  color: var(--xr-disabled-color);\n}\n\n.xr-section-summary-in:checked + label:before {\n  content: '▼';\n}\n\n.xr-section-summary-in:checked + label > span {\n  display: none;\n}\n\n.xr-section-summary,\n.xr-section-inline-details {\n  padding-top: 4px;\n  padding-bottom: 4px;\n}\n\n.xr-section-inline-details {\n  grid-column: 2 / -1;\n}\n\n.xr-section-details {\n  display: none;\n  grid-column: 1 / -1;\n  margin-bottom: 5px;\n}\n\n.xr-section-summary-in:checked ~ .xr-section-details {\n  display: contents;\n}\n\n.xr-array-wrap {\n  grid-column: 1 / -1;\n  display: grid;\n  grid-template-columns: 20px auto;\n}\n\n.xr-array-wrap > label {\n  grid-column: 1;\n  vertical-align: top;\n}\n\n.xr-preview {\n  color: var(--xr-font-color3);\n}\n\n.xr-array-preview,\n.xr-array-data {\n  padding: 0 5px !important;\n  grid-column: 2;\n}\n\n.xr-array-data,\n.xr-array-in:checked ~ .xr-array-preview {\n  display: none;\n}\n\n.xr-array-in:checked ~ .xr-array-data,\n.xr-array-preview {\n  display: inline-block;\n}\n\n.xr-dim-list {\n  display: inline-block !important;\n  list-style: none;\n  padding: 0 !important;\n  margin: 0;\n}\n\n.xr-dim-list li {\n  display: inline-block;\n  padding: 0;\n  margin: 0;\n}\n\n.xr-dim-list:before {\n  content: '(';\n}\n\n.xr-dim-list:after {\n  content: ')';\n}\n\n.xr-dim-list li:not(:last-child):after {\n  content: ',';\n  padding-right: 5px;\n}\n\n.xr-has-index {\n  font-weight: bold;\n}\n\n.xr-var-list,\n.xr-var-item {\n  display: contents;\n}\n\n.xr-var-item > div,\n.xr-var-item label,\n.xr-var-item > .xr-var-name span {\n  background-color: var(--xr-background-color-row-even);\n  margin-bottom: 0;\n}\n\n.xr-var-item > .xr-var-name:hover span {\n  padding-right: 5px;\n}\n\n.xr-var-list > li:nth-child(odd) > div,\n.xr-var-list > li:nth-child(odd) > label,\n.xr-var-list > li:nth-child(odd) > .xr-var-name span {\n  background-color: var(--xr-background-color-row-odd);\n}\n\n.xr-var-name {\n  grid-column: 1;\n}\n\n.xr-var-dims {\n  grid-column: 2;\n}\n\n.xr-var-dtype {\n  grid-column: 3;\n  text-align: right;\n  color: var(--xr-font-color2);\n}\n\n.xr-var-preview {\n  grid-column: 4;\n}\n\n.xr-index-preview {\n  grid-column: 2 / 5;\n  color: var(--xr-font-color2);\n}\n\n.xr-var-name,\n.xr-var-dims,\n.xr-var-dtype,\n.xr-preview,\n.xr-attrs dt {\n  white-space: nowrap;\n  overflow: hidden;\n  text-overflow: ellipsis;\n  padding-right: 10px;\n}\n\n.xr-var-name:hover,\n.xr-var-dims:hover,\n.xr-var-dtype:hover,\n.xr-attrs dt:hover {\n  overflow: visible;\n  width: auto;\n  z-index: 1;\n}\n\n.xr-var-attrs,\n.xr-var-data,\n.xr-index-data {\n  display: none;\n  background-color: var(--xr-background-color) !important;\n  padding-bottom: 5px !important;\n}\n\n.xr-var-attrs-in:checked ~ .xr-var-attrs,\n.xr-var-data-in:checked ~ .xr-var-data,\n.xr-index-data-in:checked ~ .xr-index-data {\n  display: block;\n}\n\n.xr-var-data > table {\n  float: right;\n}\n\n.xr-var-name span,\n.xr-var-data,\n.xr-index-name div,\n.xr-index-data,\n.xr-attrs {\n  padding-left: 25px !important;\n}\n\n.xr-attrs,\n.xr-var-attrs,\n.xr-var-data,\n.xr-index-data {\n  grid-column: 1 / -1;\n}\n\ndl.xr-attrs {\n  padding: 0;\n  margin: 0;\n  display: grid;\n  grid-template-columns: 125px auto;\n}\n\n.xr-attrs dt,\n.xr-attrs dd {\n  padding: 0;\n  margin: 0;\n  float: left;\n  padding-right: 10px;\n  width: auto;\n}\n\n.xr-attrs dt {\n  font-weight: normal;\n  grid-column: 1;\n}\n\n.xr-attrs dt:hover span {\n  display: inline-block;\n  background: var(--xr-background-color);\n  padding-right: 10px;\n}\n\n.xr-attrs dd {\n  grid-column: 2;\n  white-space: pre-wrap;\n  word-break: break-all;\n}\n\n.xr-icon-database,\n.xr-icon-file-text2,\n.xr-no-icon {\n  display: inline-block;\n  vertical-align: middle;\n  width: 1em;\n  height: 1.5em !important;\n  stroke-width: 0;\n  stroke: currentColor;\n  fill: currentColor;\n}\n</style><pre class='xr-text-repr-fallback'>&lt;xarray.Dataset&gt;\nDimensions:               (station: 1, time: 5, maintenancetime: 1)\nCoordinates:\n  * station               (station) float64 1.0\n  * time                  (time) datetime64[ns] 2022-08-30T11:21:03 ... 2022-...\n  * maintenancetime       (maintenancetime) datetime64[ns] 2023-05-08T16:09:06\nData variables: (12/18)\n    ghi                   (time, station) float32 269.9 269.7 269.9 269.9 269.9\n    gti                   (time, station) float32 277.3 277.3 277.4 277.3 277.3\n    ta                    (time, station) float32 294.8 294.7 294.8 294.7 294.8\n    rh                    (time, station) float32 0.6263 0.6266 ... 0.6271 0.629\n    battery_voltage       (time, station) float32 6.445 6.446 6.45 6.448 6.458\n    ghi_min               (time, station) float32 269.9 268.5 269.9 269.9 269.9\n    ...                    ...\n    lon                   (time, station) float64 nan nan 11.89 11.89 11.89\n    maintenance_flag_ghi  (maintenancetime, station) float32 9.0\n    maintenance_flag_gti  (maintenancetime, station) float32 7.0\n    szen                  (time, station) float64 nan nan 42.51 42.51 42.51\n    sazi                  (time, station) float64 nan nan 182.9 182.9 182.9\n    esd                   (station) float64 1.01\nAttributes: (12/31)\n    title:                     TROPOS pyranometer network (PyrNet) observations\n    institution:               Leibniz Institute for Tropospheric Research (T...\n    department:                Remote Sensing of Atmospheric Processes\n    department_team:           Clouds, Aerosol and Radiation\n    address:                   Permoser Str. 15, 04318 Leipzig, Germany\n    source:                    TROPOS pyranometer network (PyrNet)\n    ...                        ...\n    geospatial_lon_max:        11.885256666666667\n    geospatial_lon_units:      degE\n    time_coverage_start:       2022-08-30T11:21:04.065000\n    time_coverage_end:         2022-08-30T11:21:09\n    time_coverage_duration:    P0DT0H0M4.935S\n    time_coverage_resolution:  P0DT0H0M1.23375S</pre><div class='xr-wrap' style='display:none'><div class='xr-header'><div class='xr-obj-type'>xarray.Dataset</div></div><ul class='xr-sections'><li class='xr-section-item'><input id='section-3b0e1a67-405d-4933-ab1a-2ce68f308993' class='xr-section-summary-in' type='checkbox' disabled ><label for='section-3b0e1a67-405d-4933-ab1a-2ce68f308993' class='xr-section-summary'  title='Expand/collapse section'>Dimensions:</label><div class='xr-section-inline-details'><ul class='xr-dim-list'><li><span class='xr-has-index'>station</span>: 1</li><li><span class='xr-has-index'>time</span>: 5</li><li><span class='xr-has-index'>maintenancetime</span>: 1</li></ul></div><div class='xr-section-details'></div></li><li class='xr-section-item'><input id='section-32e0775e-4684-424d-a89f-8b700b055245' class='xr-section-summary-in' type='checkbox'  checked><label for='section-32e0775e-4684-424d-a89f-8b700b055245' class='xr-section-summary' >Coordinates: <span>(3)</span></label><div class='xr-section-inline-details'></div><div class='xr-section-details'><ul class='xr-var-list'><li class='xr-var-item'><div class='xr-var-name'><span class='xr-has-index'>station</span></div><div class='xr-var-dims'>(station)</div><div class='xr-var-dtype'>float64</div><div class='xr-var-preview xr-preview'>1.0</div><input id='attrs-5f82885f-20c6-4ae1-8565-0bbaf0702b9b' class='xr-var-attrs-in' type='checkbox' disabled><label for='attrs-5f82885f-20c6-4ae1-8565-0bbaf0702b9b' title='Show/Hide attributes'><svg class='icon xr-icon-file-text2'><use xlink:href='#icon-file-text2'></use></svg></label><input id='data-50a5da57-293b-4f70-9d25-a1da87805f22' class='xr-var-data-in' type='checkbox'><label for='data-50a5da57-293b-4f70-9d25-a1da87805f22' title='Show/Hide data repr'><svg class='icon xr-icon-database'><use xlink:href='#icon-database'></use></svg></label><div class='xr-var-attrs'><dl class='xr-attrs'></dl></div><div class='xr-var-data'><pre>array([1.])</pre></div></li><li class='xr-var-item'><div class='xr-var-name'><span class='xr-has-index'>time</span></div><div class='xr-var-dims'>(time)</div><div class='xr-var-dtype'>datetime64[ns]</div><div class='xr-var-preview xr-preview'>2022-08-30T11:21:03 ... 2022-08-...</div><input id='attrs-f8accd8d-308f-46ae-96fb-9dd2e43f79d1' class='xr-var-attrs-in' type='checkbox' disabled><label for='attrs-f8accd8d-308f-46ae-96fb-9dd2e43f79d1' title='Show/Hide attributes'><svg class='icon xr-icon-file-text2'><use xlink:href='#icon-file-text2'></use></svg></label><input id='data-d8f99f6b-7711-43bc-94d6-25a6efb07d14' class='xr-var-data-in' type='checkbox'><label for='data-d8f99f6b-7711-43bc-94d6-25a6efb07d14' title='Show/Hide data repr'><svg class='icon xr-icon-database'><use xlink:href='#icon-database'></use></svg></label><div class='xr-var-attrs'><dl class='xr-attrs'></dl></div><div class='xr-var-data'><pre>array([&#x27;2022-08-30T11:21:03.000000000&#x27;, &#x27;2022-08-30T11:21:04.000000000&#x27;,\n       &#x27;2022-08-30T11:21:05.000000000&#x27;, &#x27;2022-08-30T11:21:06.000000000&#x27;,\n       &#x27;2022-08-30T11:21:07.000000000&#x27;], dtype=&#x27;datetime64[ns]&#x27;)</pre></div></li><li class='xr-var-item'><div class='xr-var-name'><span class='xr-has-index'>maintenancetime</span></div><div class='xr-var-dims'>(maintenancetime)</div><div class='xr-var-dtype'>datetime64[ns]</div><div class='xr-var-preview xr-preview'>2023-05-08T16:09:06</div><input id='attrs-dde64e60-041d-4dd9-a725-1665855ee320' class='xr-var-attrs-in' type='checkbox' disabled><label for='attrs-dde64e60-041d-4dd9-a725-1665855ee320' title='Show/Hide attributes'><svg class='icon xr-icon-file-text2'><use xlink:href='#icon-file-text2'></use></svg></label><input id='data-8a018233-6ed4-49e4-9d81-2dde94178ec3' class='xr-var-data-in' type='checkbox'><label for='data-8a018233-6ed4-49e4-9d81-2dde94178ec3' title='Show/Hide data repr'><svg class='icon xr-icon-database'><use xlink:href='#icon-database'></use></svg></label><div class='xr-var-attrs'><dl class='xr-attrs'></dl></div><div class='xr-var-data'><pre>array([&#x27;2023-05-08T16:09:06.000000000&#x27;], dtype=&#x27;datetime64[ns]&#x27;)</pre></div></li></ul></div></li><li class='xr-section-item'><input id='section-fbbd2874-460d-468d-8f09-f5951a218efd' class='xr-section-summary-in' type='checkbox'  ><label for='section-fbbd2874-460d-468d-8f09-f5951a218efd' class='xr-section-summary' >Data variables: <span>(18)</span></label><div class='xr-section-inline-details'></div><div class='xr-section-details'><ul class='xr-var-list'><li class='xr-var-item'><div class='xr-var-name'><span>ghi</span></div><div class='xr-var-dims'>(time, station)</div><div class='xr-var-dtype'>float32</div><div class='xr-var-preview xr-preview'>269.9 269.7 269.9 269.9 269.9</div><input id='attrs-5770bebb-50c4-45c1-a2ee-af7fcc79de9e' class='xr-var-attrs-in' type='checkbox' ><label for='attrs-5770bebb-50c4-45c1-a2ee-af7fcc79de9e' title='Show/Hide attributes'><svg class='icon xr-icon-file-text2'><use xlink:href='#icon-file-text2'></use></svg></label><input id='data-730d42f4-78b3-43fa-b655-41c13200010c' class='xr-var-data-in' type='checkbox'><label for='data-730d42f4-78b3-43fa-b655-41c13200010c' title='Show/Hide data repr'><svg class='icon xr-icon-database'><use xlink:href='#icon-database'></use></svg></label><div class='xr-var-attrs'><dl class='xr-attrs'><dt><span>units :</span></dt><dd>W m-2</dd><dt><span>long_name :</span></dt><dd>downwelling shortwave flux</dd><dt><span>standard_name :</span></dt><dd>downwelling_shortwave_flux_in_air</dd><dt><span>valid_range :</span></dt><dd>[   0 1023]</dd><dt><span>serial :</span></dt><dd>S12128.001</dd><dt><span>calibration_factor :</span></dt><dd>7.73</dd></dl></div><div class='xr-var-data'><pre>array([[269.86047],\n       [269.72137],\n       [269.86047],\n       [269.86047],\n       [269.86047]], dtype=float32)</pre></div></li><li class='xr-var-item'><div class='xr-var-name'><span>gti</span></div><div class='xr-var-dims'>(time, station)</div><div class='xr-var-dtype'>float32</div><div class='xr-var-preview xr-preview'>277.3 277.3 277.4 277.3 277.3</div><input id='attrs-0fe116c1-5ff8-46d2-b526-5fe7851e8b85' class='xr-var-attrs-in' type='checkbox' ><label for='attrs-0fe116c1-5ff8-46d2-b526-5fe7851e8b85' title='Show/Hide attributes'><svg class='icon xr-icon-file-text2'><use xlink:href='#icon-file-text2'></use></svg></label><input id='data-63c317cd-f1f1-41ce-b52d-353486bc4d32' class='xr-var-data-in' type='checkbox'><label for='data-63c317cd-f1f1-41ce-b52d-353486bc4d32' title='Show/Hide data repr'><svg class='icon xr-icon-database'><use xlink:href='#icon-database'></use></svg></label><div class='xr-var-attrs'><dl class='xr-attrs'><dt><span>units :</span></dt><dd>W m-2</dd><dt><span>long_name :</span></dt><dd>downwelling shortwave flux measured on secondary platform, might be tilted</dd><dt><span>standard_name :</span></dt><dd>downwelling_shortwave_flux_in_air</dd><dt><span>valid_range :</span></dt><dd>[   0 1023]</dd><dt><span>hangle :</span></dt><dd>0.0</dd><dt><span>vangle :</span></dt><dd>0.0</dd><dt><span>serial :</span></dt><dd>S12137.049</dd><dt><span>calibration_factor :</span></dt><dd>6.98</dd></dl></div><div class='xr-var-data'><pre>array([[277.28995],\n       [277.28995],\n       [277.444  ],\n       [277.28995],\n       [277.28995]], dtype=float32)</pre></div></li><li class='xr-var-item'><div class='xr-var-name'><span>ta</span></div><div class='xr-var-dims'>(time, station)</div><div class='xr-var-dtype'>float32</div><div class='xr-var-preview xr-preview'>294.8 294.7 294.8 294.7 294.8</div><input id='attrs-6d78f3e7-d8b1-4dad-ab10-a6688c4fd300' class='xr-var-attrs-in' type='checkbox' ><label for='attrs-6d78f3e7-d8b1-4dad-ab10-a6688c4fd300' title='Show/Hide attributes'><svg class='icon xr-icon-file-text2'><use xlink:href='#icon-file-text2'></use></svg></label><input id='data-d2f50516-9855-4459-b787-e3218339c26d' class='xr-var-data-in' type='checkbox'><label for='data-d2f50516-9855-4459-b787-e3218339c26d' title='Show/Hide data repr'><svg class='icon xr-icon-database'><use xlink:href='#icon-database'></use></svg></label><div class='xr-var-attrs'><dl class='xr-attrs'><dt><span>units :</span></dt><dd>K</dd><dt><span>long_name :</span></dt><dd>air temperature</dd><dt><span>standard_name :</span></dt><dd>air_temperature</dd><dt><span>valid_range :</span></dt><dd>[  0 775]</dd></dl></div><div class='xr-var-data'><pre>array([[294.7758 ],\n       [294.74997],\n       [294.7887 ],\n       [294.74997],\n       [294.82742]], dtype=float32)</pre></div></li><li class='xr-var-item'><div class='xr-var-name'><span>rh</span></div><div class='xr-var-dims'>(time, station)</div><div class='xr-var-dtype'>float32</div><div class='xr-var-preview xr-preview'>0.6263 0.6266 0.6271 0.6271 0.629</div><input id='attrs-81533211-ea85-490d-b4f4-4d2bfa54ebfa' class='xr-var-attrs-in' type='checkbox' ><label for='attrs-81533211-ea85-490d-b4f4-4d2bfa54ebfa' title='Show/Hide attributes'><svg class='icon xr-icon-file-text2'><use xlink:href='#icon-file-text2'></use></svg></label><input id='data-cda410f0-1259-459b-a6e1-3c0af857b9a5' class='xr-var-data-in' type='checkbox'><label for='data-cda410f0-1259-459b-a6e1-3c0af857b9a5' title='Show/Hide data repr'><svg class='icon xr-icon-database'><use xlink:href='#icon-database'></use></svg></label><div class='xr-var-attrs'><dl class='xr-attrs'><dt><span>units :</span></dt><dd>1</dd><dt><span>long_name :</span></dt><dd>air relative humidity</dd><dt><span>standard_name :</span></dt><dd>relative_humidity</dd><dt><span>valid_range :</span></dt><dd>[  0 775]</dd></dl></div><div class='xr-var-data'><pre>array([[0.62632257],\n       [0.6265806 ],\n       [0.6270968 ],\n       [0.6270968 ],\n       [0.62903225]], dtype=float32)</pre></div></li><li class='xr-var-item'><div class='xr-var-name'><span>battery_voltage</span></div><div class='xr-var-dims'>(time, station)</div><div class='xr-var-dtype'>float32</div><div class='xr-var-preview xr-preview'>6.445 6.446 6.45 6.448 6.458</div><input id='attrs-4e19f95d-d56a-4a6b-aec8-501b9f6045f2' class='xr-var-attrs-in' type='checkbox' ><label for='attrs-4e19f95d-d56a-4a6b-aec8-501b9f6045f2' title='Show/Hide attributes'><svg class='icon xr-icon-file-text2'><use xlink:href='#icon-file-text2'></use></svg></label><input id='data-843203a2-958e-4d59-b70f-c02ea887e27d' class='xr-var-data-in' type='checkbox'><label for='data-843203a2-958e-4d59-b70f-c02ea887e27d' title='Show/Hide data repr'><svg class='icon xr-icon-database'><use xlink:href='#icon-database'></use></svg></label><div class='xr-var-attrs'><dl class='xr-attrs'><dt><span>units :</span></dt><dd>V</dd><dt><span>standard_name :</span></dt><dd>battery_voltage</dd><dt><span>valid_range :</span></dt><dd>[  0 992]</dd></dl></div><div class='xr-var-data'><pre>array([[6.4451613],\n       [6.445807 ],\n       [6.4496775],\n       [6.4477415],\n       [6.4580646]], dtype=float32)</pre></div></li><li class='xr-var-item'><div class='xr-var-name'><span>ghi_min</span></div><div class='xr-var-dims'>(time, station)</div><div class='xr-var-dtype'>float32</div><div class='xr-var-preview xr-preview'>269.9 268.5 269.9 269.9 269.9</div><input id='attrs-f758bfa1-212d-4ae2-975d-200015502631' class='xr-var-attrs-in' type='checkbox' ><label for='attrs-f758bfa1-212d-4ae2-975d-200015502631' title='Show/Hide attributes'><svg class='icon xr-icon-file-text2'><use xlink:href='#icon-file-text2'></use></svg></label><input id='data-8a191af1-0143-4b60-85e6-0b1b0869cd87' class='xr-var-data-in' type='checkbox'><label for='data-8a191af1-0143-4b60-85e6-0b1b0869cd87' title='Show/Hide data repr'><svg class='icon xr-icon-database'><use xlink:href='#icon-database'></use></svg></label><div class='xr-var-attrs'><dl class='xr-attrs'><dt><span>units :</span></dt><dd>W m-2</dd><dt><span>long_name :</span></dt><dd>downwelling shortwave flux</dd><dt><span>standard_name :</span></dt><dd>min_downwelling_shortwave_flux_in_air</dd><dt><span>valid_range :</span></dt><dd>[   0 1023]</dd><dt><span>serial :</span></dt><dd>S12128.001</dd><dt><span>calibration_factor :</span></dt><dd>7.73</dd></dl></div><div class='xr-var-data'><pre>array([[269.86047],\n       [268.46945],\n       [269.86047],\n       [269.86047],\n       [269.86047]], dtype=float32)</pre></div></li><li class='xr-var-item'><div class='xr-var-name'><span>gti_min</span></div><div class='xr-var-dims'>(time, station)</div><div class='xr-var-dtype'>float32</div><div class='xr-var-preview xr-preview'>277.3 275.7 275.7 277.3 277.3</div><input id='attrs-a3b31c47-895f-4b5a-aa06-64ad4c318950' class='xr-var-attrs-in' type='checkbox' ><label for='attrs-a3b31c47-895f-4b5a-aa06-64ad4c318950' title='Show/Hide attributes'><svg class='icon xr-icon-file-text2'><use xlink:href='#icon-file-text2'></use></svg></label><input id='data-2e271b14-0945-4d6c-bdc6-40894d135e3d' class='xr-var-data-in' type='checkbox'><label for='data-2e271b14-0945-4d6c-bdc6-40894d135e3d' title='Show/Hide data repr'><svg class='icon xr-icon-database'><use xlink:href='#icon-database'></use></svg></label><div class='xr-var-attrs'><dl class='xr-attrs'><dt><span>units :</span></dt><dd>W m-2</dd><dt><span>long_name :</span></dt><dd>downwelling shortwave flux measured on secondary platform, might be tilted</dd><dt><span>standard_name :</span></dt><dd>min_downwelling_shortwave_flux_in_air</dd><dt><span>valid_range :</span></dt><dd>[   0 1023]</dd><dt><span>hangle :</span></dt><dd>0.0</dd><dt><span>vangle :</span></dt><dd>0.0</dd><dt><span>serial :</span></dt><dd>S12137.049</dd><dt><span>calibration_factor :</span></dt><dd>6.98</dd></dl></div><div class='xr-var-data'><pre>array([[277.28995],\n       [275.74945],\n       [275.74945],\n       [277.28995],\n       [277.28995]], dtype=float32)</pre></div></li><li class='xr-var-item'><div class='xr-var-name'><span>ghi_max</span></div><div class='xr-var-dims'>(time, station)</div><div class='xr-var-dtype'>float32</div><div class='xr-var-preview xr-preview'>269.9 269.9 269.9 269.9 269.9</div><input id='attrs-98621b02-86bf-4efd-9360-c1fb49c5050d' class='xr-var-attrs-in' type='checkbox' ><label for='attrs-98621b02-86bf-4efd-9360-c1fb49c5050d' title='Show/Hide attributes'><svg class='icon xr-icon-file-text2'><use xlink:href='#icon-file-text2'></use></svg></label><input id='data-38664987-7689-40e8-bbb0-93a77ac94884' class='xr-var-data-in' type='checkbox'><label for='data-38664987-7689-40e8-bbb0-93a77ac94884' title='Show/Hide data repr'><svg class='icon xr-icon-database'><use xlink:href='#icon-database'></use></svg></label><div class='xr-var-attrs'><dl class='xr-attrs'><dt><span>units :</span></dt><dd>W m-2</dd><dt><span>long_name :</span></dt><dd>downwelling shortwave flux</dd><dt><span>standard_name :</span></dt><dd>max_downwelling_shortwave_flux_in_air</dd><dt><span>valid_range :</span></dt><dd>[   0 1023]</dd><dt><span>serial :</span></dt><dd>S12128.001</dd><dt><span>calibration_factor :</span></dt><dd>7.73</dd></dl></div><div class='xr-var-data'><pre>array([[269.86047],\n       [269.86047],\n       [269.86047],\n       [269.86047],\n       [269.86047]], dtype=float32)</pre></div></li><li class='xr-var-item'><div class='xr-var-name'><span>gti_max</span></div><div class='xr-var-dims'>(time, station)</div><div class='xr-var-dtype'>float32</div><div class='xr-var-preview xr-preview'>277.3 278.8 278.8 277.3 277.3</div><input id='attrs-c386afe3-ca9a-4637-851d-3c132af75f84' class='xr-var-attrs-in' type='checkbox' ><label for='attrs-c386afe3-ca9a-4637-851d-3c132af75f84' title='Show/Hide attributes'><svg class='icon xr-icon-file-text2'><use xlink:href='#icon-file-text2'></use></svg></label><input id='data-f18fba55-1928-41e5-be3b-2022817de4a6' class='xr-var-data-in' type='checkbox'><label for='data-f18fba55-1928-41e5-be3b-2022817de4a6' title='Show/Hide data repr'><svg class='icon xr-icon-database'><use xlink:href='#icon-database'></use></svg></label><div class='xr-var-attrs'><dl class='xr-attrs'><dt><span>units :</span></dt><dd>W m-2</dd><dt><span>long_name :</span></dt><dd>downwelling shortwave flux measured on secondary platform, might be tilted</dd><dt><span>standard_name :</span></dt><dd>max_downwelling_shortwave_flux_in_air</dd><dt><span>valid_range :</span></dt><dd>[   0 1023]</dd><dt><span>hangle :</span></dt><dd>0.0</dd><dt><span>vangle :</span></dt><dd>0.0</dd><dt><span>serial :</span></dt><dd>S12137.049</dd><dt><span>calibration_factor :</span></dt><dd>6.98</dd></dl></div><div class='xr-var-data'><pre>array([[277.28995],\n       [278.83044],\n       [278.83044],\n       [277.28995],\n       [277.28995]], dtype=float32)</pre></div></li><li class='xr-var-item'><div class='xr-var-name'><span>ghi_std</span></div><div class='xr-var-dims'>(time, station)</div><div class='xr-var-dtype'>float64</div><div class='xr-var-preview xr-preview'>0.0 0.4399 0.0 0.0 0.0</div><input id='attrs-ec6f8d43-f809-402c-9f96-b7226977f184' class='xr-var-attrs-in' type='checkbox' ><label for='attrs-ec6f8d43-f809-402c-9f96-b7226977f184' title='Show/Hide attributes'><svg class='icon xr-icon-file-text2'><use xlink:href='#icon-file-text2'></use></svg></label><input id='data-edf52fa0-fcdb-4a1b-8ea7-d419c6ee88cf' class='xr-var-data-in' type='checkbox'><label for='data-edf52fa0-fcdb-4a1b-8ea7-d419c6ee88cf' title='Show/Hide data repr'><svg class='icon xr-icon-database'><use xlink:href='#icon-database'></use></svg></label><div class='xr-var-attrs'><dl class='xr-attrs'><dt><span>units :</span></dt><dd>W m-2</dd><dt><span>long_name :</span></dt><dd>downwelling shortwave flux</dd><dt><span>standard_name :</span></dt><dd>std_downwelling_shortwave_flux_in_air</dd><dt><span>valid_range :</span></dt><dd>[   0 1023]</dd><dt><span>serial :</span></dt><dd>S12128.001</dd><dt><span>calibration_factor :</span></dt><dd>7.73</dd></dl></div><div class='xr-var-data'><pre>array([[0.        ],\n       [0.43987969],\n       [0.        ],\n       [0.        ],\n       [0.        ]])</pre></div></li><li class='xr-var-item'><div class='xr-var-name'><span>gti_std</span></div><div class='xr-var-dims'>(time, station)</div><div class='xr-var-dtype'>float64</div><div class='xr-var-preview xr-preview'>0.0 0.7262 0.8745 0.0 0.0</div><input id='attrs-92fce3ce-01ed-45f0-a9a7-fbe3a26b83e8' class='xr-var-attrs-in' type='checkbox' ><label for='attrs-92fce3ce-01ed-45f0-a9a7-fbe3a26b83e8' title='Show/Hide attributes'><svg class='icon xr-icon-file-text2'><use xlink:href='#icon-file-text2'></use></svg></label><input id='data-013906d0-09b9-4bbc-8553-2f06eb2eb8dd' class='xr-var-data-in' type='checkbox'><label for='data-013906d0-09b9-4bbc-8553-2f06eb2eb8dd' title='Show/Hide data repr'><svg class='icon xr-icon-database'><use xlink:href='#icon-database'></use></svg></label><div class='xr-var-attrs'><dl class='xr-attrs'><dt><span>units :</span></dt><dd>W m-2</dd><dt><span>long_name :</span></dt><dd>downwelling shortwave flux measured on secondary platform, might be tilted</dd><dt><span>standard_name :</span></dt><dd>std_downwelling_shortwave_flux_in_air</dd><dt><span>valid_range :</span></dt><dd>[   0 1023]</dd><dt><span>hangle :</span></dt><dd>0.0</dd><dt><span>vangle :</span></dt><dd>0.0</dd><dt><span>serial :</span></dt><dd>S12137.049</dd><dt><span>calibration_factor :</span></dt><dd>6.98</dd></dl></div><div class='xr-var-data'><pre>array([[0.        ],\n       [0.72619717],\n       [0.87445719],\n       [0.        ],\n       [0.        ]])</pre></div></li><li class='xr-var-item'><div class='xr-var-name'><span>lat</span></div><div class='xr-var-dims'>(time, station)</div><div class='xr-var-dtype'>float64</div><div class='xr-var-preview xr-preview'>nan nan 51.39 51.39 51.39</div><input id='attrs-63f7593d-87ea-44e2-be4b-a1df5467f083' class='xr-var-attrs-in' type='checkbox' ><label for='attrs-63f7593d-87ea-44e2-be4b-a1df5467f083' title='Show/Hide attributes'><svg class='icon xr-icon-file-text2'><use xlink:href='#icon-file-text2'></use></svg></label><input id='data-b5866f58-9676-482f-a1a9-2c1a45c95de6' class='xr-var-data-in' type='checkbox'><label for='data-b5866f58-9676-482f-a1a9-2c1a45c95de6' title='Show/Hide data repr'><svg class='icon xr-icon-database'><use xlink:href='#icon-database'></use></svg></label><div class='xr-var-attrs'><dl class='xr-attrs'><dt><span>standard_name :</span></dt><dd>latitude</dd><dt><span>units :</span></dt><dd>degree_north</dd><dt><span>valid_range :</span></dt><dd>[        0 180000000]</dd></dl></div><div class='xr-var-data'><pre>array([[        nan],\n       [        nan],\n       [51.390212  ],\n       [51.39021103],\n       [51.39021   ]])</pre></div></li><li class='xr-var-item'><div class='xr-var-name'><span>lon</span></div><div class='xr-var-dims'>(time, station)</div><div class='xr-var-dtype'>float64</div><div class='xr-var-preview xr-preview'>nan nan 11.89 11.89 11.89</div><input id='attrs-e1271741-9319-4eb7-9170-d18a9ae6afb9' class='xr-var-attrs-in' type='checkbox' ><label for='attrs-e1271741-9319-4eb7-9170-d18a9ae6afb9' title='Show/Hide attributes'><svg class='icon xr-icon-file-text2'><use xlink:href='#icon-file-text2'></use></svg></label><input id='data-e1608340-6bbb-4283-9b75-ed51c81e0383' class='xr-var-data-in' type='checkbox'><label for='data-e1608340-6bbb-4283-9b75-ed51c81e0383' title='Show/Hide data repr'><svg class='icon xr-icon-database'><use xlink:href='#icon-database'></use></svg></label><div class='xr-var-attrs'><dl class='xr-attrs'><dt><span>standard_name :</span></dt><dd>longitude</dd><dt><span>units :</span></dt><dd>degree_east</dd><dt><span>valid_range :</span></dt><dd>[        0 360000000]</dd></dl></div><div class='xr-var-data'><pre>array([[        nan],\n       [        nan],\n       [11.88525687],\n       [11.88525458],\n       [11.885252  ]])</pre></div></li><li class='xr-var-item'><div class='xr-var-name'><span>maintenance_flag_ghi</span></div><div class='xr-var-dims'>(maintenancetime, station)</div><div class='xr-var-dtype'>float32</div><div class='xr-var-preview xr-preview'>9.0</div><input id='attrs-5e79585b-6de5-4f63-b7c5-9f60a79a7576' class='xr-var-attrs-in' type='checkbox' ><label for='attrs-5e79585b-6de5-4f63-b7c5-9f60a79a7576' title='Show/Hide attributes'><svg class='icon xr-icon-file-text2'><use xlink:href='#icon-file-text2'></use></svg></label><input id='data-875c766f-525a-42ec-b730-5329aaf088e6' class='xr-var-data-in' type='checkbox'><label for='data-875c766f-525a-42ec-b730-5329aaf088e6' title='Show/Hide data repr'><svg class='icon xr-icon-database'><use xlink:href='#icon-database'></use></svg></label><div class='xr-var-attrs'><dl class='xr-attrs'><dt><span>standard_name :</span></dt><dd>quality_flag</dd><dt><span>long_name :</span></dt><dd>Maintenance quality control flags for main pyranometer</dd><dt><span>note :</span></dt><dd>Soiling describes subjectively the coverage of the pyranometer dome with dirt. The level flag is problematic if the bubble of the spirit level touches the reference ring, and bad if it is outside.</dd><dt><span>valid_range :</span></dt><dd>[ 0 11]</dd><dt><span>flag_masks :</span></dt><dd>[ 3  3  3 12 12]</dd><dt><span>flag_values :</span></dt><dd>[1 2 3 4 8]</dd><dt><span>flag_meanings :</span></dt><dd>soiling_light soiling_moderate soiling_heavy level_problematic level_bad</dd><dt><span>note_general :</span></dt><dd>222</dd><dt><span>note_clean :</span></dt><dd>testing notes</dd><dt><span>note_level :</span></dt><dd>test</dd></dl></div><div class='xr-var-data'><pre>array([[9.]], dtype=float32)</pre></div></li><li class='xr-var-item'><div class='xr-var-name'><span>maintenance_flag_gti</span></div><div class='xr-var-dims'>(maintenancetime, station)</div><div class='xr-var-dtype'>float32</div><div class='xr-var-preview xr-preview'>7.0</div><input id='attrs-1c3f6498-2477-420a-b845-d2c7af06015d' class='xr-var-attrs-in' type='checkbox' ><label for='attrs-1c3f6498-2477-420a-b845-d2c7af06015d' title='Show/Hide attributes'><svg class='icon xr-icon-file-text2'><use xlink:href='#icon-file-text2'></use></svg></label><input id='data-ab500317-cd00-4e29-8280-15eb3c9bc6b2' class='xr-var-data-in' type='checkbox'><label for='data-ab500317-cd00-4e29-8280-15eb3c9bc6b2' title='Show/Hide data repr'><svg class='icon xr-icon-database'><use xlink:href='#icon-database'></use></svg></label><div class='xr-var-attrs'><dl class='xr-attrs'><dt><span>standard_name :</span></dt><dd>quality_flag</dd><dt><span>long_name :</span></dt><dd>Maintenance quality control flags for secondary pyranometer</dd><dt><span>note :</span></dt><dd>Soiling describes subjectively the coverage of the pyranometer dome with dirt. The level flag is problematic if the bubble of the spirit level touches the reference ring, and bad if it is outside.</dd><dt><span>valid_range :</span></dt><dd>[ 0 11]</dd><dt><span>flag_masks :</span></dt><dd>[ 3  3  3 12 12]</dd><dt><span>flag_values :</span></dt><dd>[1 2 3 4 8]</dd><dt><span>flag_meanings :</span></dt><dd>soiling_light soiling_moderate soiling_heavy level_problematic level_bad</dd><dt><span>note_general :</span></dt><dd>222</dd><dt><span>note_clean :</span></dt><dd></dd><dt><span>note_level :</span></dt><dd></dd></dl></div><div class='xr-var-data'><pre>array([[7.]], dtype=float32)</pre></div></li><li class='xr-var-item'><div class='xr-var-name'><span>szen</span></div><div class='xr-var-dims'>(time, station)</div><div class='xr-var-dtype'>float64</div><div class='xr-var-preview xr-preview'>nan nan 42.51 42.51 42.51</div><input id='attrs-52869e94-7070-40bc-ab32-a97021e71598' class='xr-var-attrs-in' type='checkbox' ><label for='attrs-52869e94-7070-40bc-ab32-a97021e71598' title='Show/Hide attributes'><svg class='icon xr-icon-file-text2'><use xlink:href='#icon-file-text2'></use></svg></label><input id='data-018a42ad-5ebb-490d-a166-d2dc4242219b' class='xr-var-data-in' type='checkbox'><label for='data-018a42ad-5ebb-490d-a166-d2dc4242219b' title='Show/Hide data repr'><svg class='icon xr-icon-database'><use xlink:href='#icon-database'></use></svg></label><div class='xr-var-attrs'><dl class='xr-attrs'><dt><span>standard_name :</span></dt><dd>solar_zenith_angle</dd><dt><span>units :</span></dt><dd>degree</dd><dt><span>valid_range :</span></dt><dd>[0, 36000]</dd></dl></div><div class='xr-var-data'><pre>array([[        nan],\n       [        nan],\n       [42.5118597 ],\n       [42.51199538],\n       [42.51213126]])</pre></div></li><li class='xr-var-item'><div class='xr-var-name'><span>sazi</span></div><div class='xr-var-dims'>(time, station)</div><div class='xr-var-dtype'>float64</div><div class='xr-var-preview xr-preview'>nan nan 182.9 182.9 182.9</div><input id='attrs-5b90b027-6f0a-4c81-bc52-10a2bc3938dc' class='xr-var-attrs-in' type='checkbox' ><label for='attrs-5b90b027-6f0a-4c81-bc52-10a2bc3938dc' title='Show/Hide attributes'><svg class='icon xr-icon-file-text2'><use xlink:href='#icon-file-text2'></use></svg></label><input id='data-a1e16399-e3f2-4568-8c28-96a24303948e' class='xr-var-data-in' type='checkbox'><label for='data-a1e16399-e3f2-4568-8c28-96a24303948e' title='Show/Hide data repr'><svg class='icon xr-icon-database'><use xlink:href='#icon-database'></use></svg></label><div class='xr-var-attrs'><dl class='xr-attrs'><dt><span>standard_name :</span></dt><dd>solar_azimuth_angle</dd><dt><span>units :</span></dt><dd>degree</dd><dt><span>valid_range :</span></dt><dd>[0, 36000]</dd></dl></div><div class='xr-var-data'><pre>array([[         nan],\n       [         nan],\n       [182.91893682],\n       [182.92502312],\n       [182.93110895]])</pre></div></li><li class='xr-var-item'><div class='xr-var-name'><span>esd</span></div><div class='xr-var-dims'>(station)</div><div class='xr-var-dtype'>float64</div><div class='xr-var-preview xr-preview'>1.01</div><input id='attrs-852b83d1-e2a4-46ea-bcf3-d2f28db6605d' class='xr-var-attrs-in' type='checkbox' ><label for='attrs-852b83d1-e2a4-46ea-bcf3-d2f28db6605d' title='Show/Hide attributes'><svg class='icon xr-icon-file-text2'><use xlink:href='#icon-file-text2'></use></svg></label><input id='data-956bfe8f-a4ae-4683-98d3-f3e96c22c85a' class='xr-var-data-in' type='checkbox'><label for='data-956bfe8f-a4ae-4683-98d3-f3e96c22c85a' title='Show/Hide data repr'><svg class='icon xr-icon-database'><use xlink:href='#icon-database'></use></svg></label><div class='xr-var-attrs'><dl class='xr-attrs'><dt><span>standard_name :</span></dt><dd>earth_sun_distance</dd><dt><span>units :</span></dt><dd>AU</dd><dt><span>valid_range :</span></dt><dd>[0, 40000]</dd></dl></div><div class='xr-var-data'><pre>array([1.00959973])</pre></div></li></ul></div></li><li class='xr-section-item'><input id='section-e484dd2f-4e44-4103-a767-a1299b6d6902' class='xr-section-summary-in' type='checkbox'  ><label for='section-e484dd2f-4e44-4103-a767-a1299b6d6902' class='xr-section-summary' >Indexes: <span>(3)</span></label><div class='xr-section-inline-details'></div><div class='xr-section-details'><ul class='xr-var-list'><li class='xr-var-item'><div class='xr-index-name'><div>station</div></div><div class='xr-index-preview'>PandasIndex</div><div></div><input id='index-26c5bbc0-f283-4f99-bb60-ddb2fb740e74' class='xr-index-data-in' type='checkbox'/><label for='index-26c5bbc0-f283-4f99-bb60-ddb2fb740e74' title='Show/Hide index repr'><svg class='icon xr-icon-database'><use xlink:href='#icon-database'></use></svg></label><div class='xr-index-data'><pre>PandasIndex(Float64Index([1.0], dtype=&#x27;float64&#x27;, name=&#x27;station&#x27;))</pre></div></li><li class='xr-var-item'><div class='xr-index-name'><div>time</div></div><div class='xr-index-preview'>PandasIndex</div><div></div><input id='index-c667033b-d4ed-4347-aa44-852d2da7ecd7' class='xr-index-data-in' type='checkbox'/><label for='index-c667033b-d4ed-4347-aa44-852d2da7ecd7' title='Show/Hide index repr'><svg class='icon xr-icon-database'><use xlink:href='#icon-database'></use></svg></label><div class='xr-index-data'><pre>PandasIndex(DatetimeIndex([&#x27;2022-08-30 11:21:03&#x27;, &#x27;2022-08-30 11:21:04&#x27;,\n               &#x27;2022-08-30 11:21:05&#x27;, &#x27;2022-08-30 11:21:06&#x27;,\n               &#x27;2022-08-30 11:21:07&#x27;],\n              dtype=&#x27;datetime64[ns]&#x27;, name=&#x27;time&#x27;, freq=&#x27;S&#x27;))</pre></div></li><li class='xr-var-item'><div class='xr-index-name'><div>maintenancetime</div></div><div class='xr-index-preview'>PandasIndex</div><div></div><input id='index-55de14cc-e045-4157-a227-bf6e44b290ce' class='xr-index-data-in' type='checkbox'/><label for='index-55de14cc-e045-4157-a227-bf6e44b290ce' title='Show/Hide index repr'><svg class='icon xr-icon-database'><use xlink:href='#icon-database'></use></svg></label><div class='xr-index-data'><pre>PandasIndex(DatetimeIndex([&#x27;2023-05-08 16:09:06&#x27;], dtype=&#x27;datetime64[ns]&#x27;, name=&#x27;maintenancetime&#x27;, freq=None))</pre></div></li></ul></div></li><li class='xr-section-item'><input id='section-5b786be0-2b2c-44fe-ad8c-2c6252f9fede' class='xr-section-summary-in' type='checkbox'  ><label for='section-5b786be0-2b2c-44fe-ad8c-2c6252f9fede' class='xr-section-summary' >Attributes: <span>(31)</span></label><div class='xr-section-inline-details'></div><div class='xr-section-details'><dl class='xr-attrs'><dt><span>title :</span></dt><dd>TROPOS pyranometer network (PyrNet) observations</dd><dt><span>institution :</span></dt><dd>Leibniz Institute for Tropospheric Research (TROPOS)</dd><dt><span>department :</span></dt><dd>Remote Sensing of Atmospheric Processes</dd><dt><span>department_team :</span></dt><dd>Clouds, Aerosol and Radiation</dd><dt><span>address :</span></dt><dd>Permoser Str. 15, 04318 Leipzig, Germany</dd><dt><span>source :</span></dt><dd>TROPOS pyranometer network (PyrNet)</dd><dt><span>contact_person :</span></dt><dd>Andreas Macke and the clouds, aerosol and radiation team of the remote sensing department, mailto:andreas.macke@tropos.de</dd><dt><span>contributor_name :</span></dt><dd></dd><dt><span>contributor_role :</span></dt><dd></dd><dt><span>authors_software :</span></dt><dd>Hartwig Deneke, Jonas Witthuhn, mailto:deneke@tropos.de</dd><dt><span>creator_name :</span></dt><dd></dd><dt><span>project :</span></dt><dd></dd><dt><span>references :</span></dt><dd>https://doi.org/10.5194/amt-9-1153-2016</dd><dt><span>standard_name_vocabulary :</span></dt><dd>CF Standard Name Table v81</dd><dt><span>conventions :</span></dt><dd>CF-1.10, ACDD-1.3</dd><dt><span>license :</span></dt><dd>CC-BY-SA 3.0</dd><dt><span>TESTNOTE :</span></dt><dd>This is a test note.</dd><dt><span>processing_level :</span></dt><dd>l1a</dd><dt><span>product_version :</span></dt><dd>0.1.10+28.g175ed10.dirty</dd><dt><span>history :</span></dt><dd>2024-02-12T12:45:01: Generated level l1a  by pyrnet version 0.1.10+28.g175ed10.dirty; </dd><dt><span>date_created :</span></dt><dd>2024-02-12T12:45:01</dd><dt><span>geospatial_lat_min :</span></dt><dd>51.390208333333334</dd><dt><span>geospatial_lat_max :</span></dt><dd>51.390211666666666</dd><dt><span>geospatial_lat_units :</span></dt><dd>degN</dd><dt><span>geospatial_lon_min :</span></dt><dd>11.885246666666667</dd><dt><span>geospatial_lon_max :</span></dt><dd>11.885256666666667</dd><dt><span>geospatial_lon_units :</span></dt><dd>degE</dd><dt><span>time_coverage_start :</span></dt><dd>2022-08-30T11:21:04.065000</dd><dt><span>time_coverage_end :</span></dt><dd>2022-08-30T11:21:09</dd><dt><span>time_coverage_duration :</span></dt><dd>P0DT0H0M4.935S</dd><dt><span>time_coverage_resolution :</span></dt><dd>P0DT0H0M1.23375S</dd></dl></div></li></ul></div></div>"
     },
     "execution_count": 33,
     "metadata": {},
     "output_type": "execute_result"
    }
   ],
   "source": [
    "#|dropcode\n",
    "#|dropout\n",
    "ds_l1b = ds_l1b.assign(\n",
    "    {\n",
    "        \"szen\": ((\"time\", \"station\"), szen[:,None]),\n",
    "        \"sazi\": ((\"time\", \"station\"), sazi[:,None]),\n",
    "        \"esd\": (\"station\", [esd])\n",
    "    }\n",
    ")\n",
    "for key in ['szen', 'sazi','esd']:\n",
    "    ds_l1b[key].attrs.update(vattrs[key])\n",
    "    # ds_l1b[key].encoding.update(vencode[key])\n",
    "ds_l1b"
   ],
   "metadata": {
    "collapsed": false,
    "ExecuteTime": {
     "end_time": "2024-01-30T15:04:17.039634700Z",
     "start_time": "2024-01-30T15:04:16.387412500Z"
    }
   }
  },
  {
   "cell_type": "markdown",
   "source": [
    "9. Add automatic quality flags"
   ],
   "metadata": {
    "collapsed": false
   }
  },
  {
   "cell_type": "code",
   "execution_count": 34,
   "outputs": [
    {
     "data": {
      "text/plain": "<xarray.Dataset>\nDimensions:               (station: 1, time: 5, maintenancetime: 1)\nCoordinates:\n  * station               (station) float64 1.0\n  * time                  (time) datetime64[ns] 2022-08-30T11:21:03 ... 2022-...\n  * maintenancetime       (maintenancetime) datetime64[ns] 2023-05-08T16:09:06\nData variables: (12/20)\n    ghi                   (time, station) float32 269.9 269.7 269.9 269.9 269.9\n    gti                   (time, station) float32 277.3 277.3 277.4 277.3 277.3\n    ta                    (time, station) float32 294.8 294.7 294.8 294.7 294.8\n    rh                    (time, station) float32 0.6263 0.6266 ... 0.6271 0.629\n    battery_voltage       (time, station) float32 6.445 6.446 6.45 6.448 6.458\n    ghi_min               (time, station) float32 269.9 268.5 269.9 269.9 269.9\n    ...                    ...\n    maintenance_flag_gti  (maintenancetime, station) float32 7.0\n    szen                  (time, station) float64 nan nan 42.51 42.51 42.51\n    sazi                  (time, station) float64 nan nan 182.9 182.9 182.9\n    esd                   (station) float64 1.01\n    qc_flag_ghi           (time, station) uint8 0 0 0 0 0\n    qc_flag_gti           (time, station) uint8 0 0 0 0 0\nAttributes: (12/31)\n    title:                     TROPOS pyranometer network (PyrNet) observations\n    institution:               Leibniz Institute for Tropospheric Research (T...\n    department:                Remote Sensing of Atmospheric Processes\n    department_team:           Clouds, Aerosol and Radiation\n    address:                   Permoser Str. 15, 04318 Leipzig, Germany\n    source:                    TROPOS pyranometer network (PyrNet)\n    ...                        ...\n    geospatial_lon_max:        11.885256666666667\n    geospatial_lon_units:      degE\n    time_coverage_start:       2022-08-30T11:21:04.065000\n    time_coverage_end:         2022-08-30T11:21:09\n    time_coverage_duration:    P0DT0H0M4.935S\n    time_coverage_resolution:  P0DT0H0M1.23375S",
      "text/html": "<div><svg style=\"position: absolute; width: 0; height: 0; overflow: hidden\">\n<defs>\n<symbol id=\"icon-database\" viewBox=\"0 0 32 32\">\n<path d=\"M16 0c-8.837 0-16 2.239-16 5v4c0 2.761 7.163 5 16 5s16-2.239 16-5v-4c0-2.761-7.163-5-16-5z\"></path>\n<path d=\"M16 17c-8.837 0-16-2.239-16-5v6c0 2.761 7.163 5 16 5s16-2.239 16-5v-6c0 2.761-7.163 5-16 5z\"></path>\n<path d=\"M16 26c-8.837 0-16-2.239-16-5v6c0 2.761 7.163 5 16 5s16-2.239 16-5v-6c0 2.761-7.163 5-16 5z\"></path>\n</symbol>\n<symbol id=\"icon-file-text2\" viewBox=\"0 0 32 32\">\n<path d=\"M28.681 7.159c-0.694-0.947-1.662-2.053-2.724-3.116s-2.169-2.030-3.116-2.724c-1.612-1.182-2.393-1.319-2.841-1.319h-15.5c-1.378 0-2.5 1.121-2.5 2.5v27c0 1.378 1.122 2.5 2.5 2.5h23c1.378 0 2.5-1.122 2.5-2.5v-19.5c0-0.448-0.137-1.23-1.319-2.841zM24.543 5.457c0.959 0.959 1.712 1.825 2.268 2.543h-4.811v-4.811c0.718 0.556 1.584 1.309 2.543 2.268zM28 29.5c0 0.271-0.229 0.5-0.5 0.5h-23c-0.271 0-0.5-0.229-0.5-0.5v-27c0-0.271 0.229-0.5 0.5-0.5 0 0 15.499-0 15.5 0v7c0 0.552 0.448 1 1 1h7v19.5z\"></path>\n<path d=\"M23 26h-14c-0.552 0-1-0.448-1-1s0.448-1 1-1h14c0.552 0 1 0.448 1 1s-0.448 1-1 1z\"></path>\n<path d=\"M23 22h-14c-0.552 0-1-0.448-1-1s0.448-1 1-1h14c0.552 0 1 0.448 1 1s-0.448 1-1 1z\"></path>\n<path d=\"M23 18h-14c-0.552 0-1-0.448-1-1s0.448-1 1-1h14c0.552 0 1 0.448 1 1s-0.448 1-1 1z\"></path>\n</symbol>\n</defs>\n</svg>\n<style>/* CSS stylesheet for displaying xarray objects in jupyterlab.\n *\n */\n\n:root {\n  --xr-font-color0: var(--jp-content-font-color0, rgba(0, 0, 0, 1));\n  --xr-font-color2: var(--jp-content-font-color2, rgba(0, 0, 0, 0.54));\n  --xr-font-color3: var(--jp-content-font-color3, rgba(0, 0, 0, 0.38));\n  --xr-border-color: var(--jp-border-color2, #e0e0e0);\n  --xr-disabled-color: var(--jp-layout-color3, #bdbdbd);\n  --xr-background-color: var(--jp-layout-color0, white);\n  --xr-background-color-row-even: var(--jp-layout-color1, white);\n  --xr-background-color-row-odd: var(--jp-layout-color2, #eeeeee);\n}\n\nhtml[theme=dark],\nbody[data-theme=dark],\nbody.vscode-dark {\n  --xr-font-color0: rgba(255, 255, 255, 1);\n  --xr-font-color2: rgba(255, 255, 255, 0.54);\n  --xr-font-color3: rgba(255, 255, 255, 0.38);\n  --xr-border-color: #1F1F1F;\n  --xr-disabled-color: #515151;\n  --xr-background-color: #111111;\n  --xr-background-color-row-even: #111111;\n  --xr-background-color-row-odd: #313131;\n}\n\n.xr-wrap {\n  display: block !important;\n  min-width: 300px;\n  max-width: 700px;\n}\n\n.xr-text-repr-fallback {\n  /* fallback to plain text repr when CSS is not injected (untrusted notebook) */\n  display: none;\n}\n\n.xr-header {\n  padding-top: 6px;\n  padding-bottom: 6px;\n  margin-bottom: 4px;\n  border-bottom: solid 1px var(--xr-border-color);\n}\n\n.xr-header > div,\n.xr-header > ul {\n  display: inline;\n  margin-top: 0;\n  margin-bottom: 0;\n}\n\n.xr-obj-type,\n.xr-array-name {\n  margin-left: 2px;\n  margin-right: 10px;\n}\n\n.xr-obj-type {\n  color: var(--xr-font-color2);\n}\n\n.xr-sections {\n  padding-left: 0 !important;\n  display: grid;\n  grid-template-columns: 150px auto auto 1fr 20px 20px;\n}\n\n.xr-section-item {\n  display: contents;\n}\n\n.xr-section-item input {\n  display: none;\n}\n\n.xr-section-item input + label {\n  color: var(--xr-disabled-color);\n}\n\n.xr-section-item input:enabled + label {\n  cursor: pointer;\n  color: var(--xr-font-color2);\n}\n\n.xr-section-item input:enabled + label:hover {\n  color: var(--xr-font-color0);\n}\n\n.xr-section-summary {\n  grid-column: 1;\n  color: var(--xr-font-color2);\n  font-weight: 500;\n}\n\n.xr-section-summary > span {\n  display: inline-block;\n  padding-left: 0.5em;\n}\n\n.xr-section-summary-in:disabled + label {\n  color: var(--xr-font-color2);\n}\n\n.xr-section-summary-in + label:before {\n  display: inline-block;\n  content: '►';\n  font-size: 11px;\n  width: 15px;\n  text-align: center;\n}\n\n.xr-section-summary-in:disabled + label:before {\n  color: var(--xr-disabled-color);\n}\n\n.xr-section-summary-in:checked + label:before {\n  content: '▼';\n}\n\n.xr-section-summary-in:checked + label > span {\n  display: none;\n}\n\n.xr-section-summary,\n.xr-section-inline-details {\n  padding-top: 4px;\n  padding-bottom: 4px;\n}\n\n.xr-section-inline-details {\n  grid-column: 2 / -1;\n}\n\n.xr-section-details {\n  display: none;\n  grid-column: 1 / -1;\n  margin-bottom: 5px;\n}\n\n.xr-section-summary-in:checked ~ .xr-section-details {\n  display: contents;\n}\n\n.xr-array-wrap {\n  grid-column: 1 / -1;\n  display: grid;\n  grid-template-columns: 20px auto;\n}\n\n.xr-array-wrap > label {\n  grid-column: 1;\n  vertical-align: top;\n}\n\n.xr-preview {\n  color: var(--xr-font-color3);\n}\n\n.xr-array-preview,\n.xr-array-data {\n  padding: 0 5px !important;\n  grid-column: 2;\n}\n\n.xr-array-data,\n.xr-array-in:checked ~ .xr-array-preview {\n  display: none;\n}\n\n.xr-array-in:checked ~ .xr-array-data,\n.xr-array-preview {\n  display: inline-block;\n}\n\n.xr-dim-list {\n  display: inline-block !important;\n  list-style: none;\n  padding: 0 !important;\n  margin: 0;\n}\n\n.xr-dim-list li {\n  display: inline-block;\n  padding: 0;\n  margin: 0;\n}\n\n.xr-dim-list:before {\n  content: '(';\n}\n\n.xr-dim-list:after {\n  content: ')';\n}\n\n.xr-dim-list li:not(:last-child):after {\n  content: ',';\n  padding-right: 5px;\n}\n\n.xr-has-index {\n  font-weight: bold;\n}\n\n.xr-var-list,\n.xr-var-item {\n  display: contents;\n}\n\n.xr-var-item > div,\n.xr-var-item label,\n.xr-var-item > .xr-var-name span {\n  background-color: var(--xr-background-color-row-even);\n  margin-bottom: 0;\n}\n\n.xr-var-item > .xr-var-name:hover span {\n  padding-right: 5px;\n}\n\n.xr-var-list > li:nth-child(odd) > div,\n.xr-var-list > li:nth-child(odd) > label,\n.xr-var-list > li:nth-child(odd) > .xr-var-name span {\n  background-color: var(--xr-background-color-row-odd);\n}\n\n.xr-var-name {\n  grid-column: 1;\n}\n\n.xr-var-dims {\n  grid-column: 2;\n}\n\n.xr-var-dtype {\n  grid-column: 3;\n  text-align: right;\n  color: var(--xr-font-color2);\n}\n\n.xr-var-preview {\n  grid-column: 4;\n}\n\n.xr-index-preview {\n  grid-column: 2 / 5;\n  color: var(--xr-font-color2);\n}\n\n.xr-var-name,\n.xr-var-dims,\n.xr-var-dtype,\n.xr-preview,\n.xr-attrs dt {\n  white-space: nowrap;\n  overflow: hidden;\n  text-overflow: ellipsis;\n  padding-right: 10px;\n}\n\n.xr-var-name:hover,\n.xr-var-dims:hover,\n.xr-var-dtype:hover,\n.xr-attrs dt:hover {\n  overflow: visible;\n  width: auto;\n  z-index: 1;\n}\n\n.xr-var-attrs,\n.xr-var-data,\n.xr-index-data {\n  display: none;\n  background-color: var(--xr-background-color) !important;\n  padding-bottom: 5px !important;\n}\n\n.xr-var-attrs-in:checked ~ .xr-var-attrs,\n.xr-var-data-in:checked ~ .xr-var-data,\n.xr-index-data-in:checked ~ .xr-index-data {\n  display: block;\n}\n\n.xr-var-data > table {\n  float: right;\n}\n\n.xr-var-name span,\n.xr-var-data,\n.xr-index-name div,\n.xr-index-data,\n.xr-attrs {\n  padding-left: 25px !important;\n}\n\n.xr-attrs,\n.xr-var-attrs,\n.xr-var-data,\n.xr-index-data {\n  grid-column: 1 / -1;\n}\n\ndl.xr-attrs {\n  padding: 0;\n  margin: 0;\n  display: grid;\n  grid-template-columns: 125px auto;\n}\n\n.xr-attrs dt,\n.xr-attrs dd {\n  padding: 0;\n  margin: 0;\n  float: left;\n  padding-right: 10px;\n  width: auto;\n}\n\n.xr-attrs dt {\n  font-weight: normal;\n  grid-column: 1;\n}\n\n.xr-attrs dt:hover span {\n  display: inline-block;\n  background: var(--xr-background-color);\n  padding-right: 10px;\n}\n\n.xr-attrs dd {\n  grid-column: 2;\n  white-space: pre-wrap;\n  word-break: break-all;\n}\n\n.xr-icon-database,\n.xr-icon-file-text2,\n.xr-no-icon {\n  display: inline-block;\n  vertical-align: middle;\n  width: 1em;\n  height: 1.5em !important;\n  stroke-width: 0;\n  stroke: currentColor;\n  fill: currentColor;\n}\n</style><pre class='xr-text-repr-fallback'>&lt;xarray.Dataset&gt;\nDimensions:               (station: 1, time: 5, maintenancetime: 1)\nCoordinates:\n  * station               (station) float64 1.0\n  * time                  (time) datetime64[ns] 2022-08-30T11:21:03 ... 2022-...\n  * maintenancetime       (maintenancetime) datetime64[ns] 2023-05-08T16:09:06\nData variables: (12/20)\n    ghi                   (time, station) float32 269.9 269.7 269.9 269.9 269.9\n    gti                   (time, station) float32 277.3 277.3 277.4 277.3 277.3\n    ta                    (time, station) float32 294.8 294.7 294.8 294.7 294.8\n    rh                    (time, station) float32 0.6263 0.6266 ... 0.6271 0.629\n    battery_voltage       (time, station) float32 6.445 6.446 6.45 6.448 6.458\n    ghi_min               (time, station) float32 269.9 268.5 269.9 269.9 269.9\n    ...                    ...\n    maintenance_flag_gti  (maintenancetime, station) float32 7.0\n    szen                  (time, station) float64 nan nan 42.51 42.51 42.51\n    sazi                  (time, station) float64 nan nan 182.9 182.9 182.9\n    esd                   (station) float64 1.01\n    qc_flag_ghi           (time, station) uint8 0 0 0 0 0\n    qc_flag_gti           (time, station) uint8 0 0 0 0 0\nAttributes: (12/31)\n    title:                     TROPOS pyranometer network (PyrNet) observations\n    institution:               Leibniz Institute for Tropospheric Research (T...\n    department:                Remote Sensing of Atmospheric Processes\n    department_team:           Clouds, Aerosol and Radiation\n    address:                   Permoser Str. 15, 04318 Leipzig, Germany\n    source:                    TROPOS pyranometer network (PyrNet)\n    ...                        ...\n    geospatial_lon_max:        11.885256666666667\n    geospatial_lon_units:      degE\n    time_coverage_start:       2022-08-30T11:21:04.065000\n    time_coverage_end:         2022-08-30T11:21:09\n    time_coverage_duration:    P0DT0H0M4.935S\n    time_coverage_resolution:  P0DT0H0M1.23375S</pre><div class='xr-wrap' style='display:none'><div class='xr-header'><div class='xr-obj-type'>xarray.Dataset</div></div><ul class='xr-sections'><li class='xr-section-item'><input id='section-fc2f6a77-a268-4dcf-a24e-ab9344e9c5fb' class='xr-section-summary-in' type='checkbox' disabled ><label for='section-fc2f6a77-a268-4dcf-a24e-ab9344e9c5fb' class='xr-section-summary'  title='Expand/collapse section'>Dimensions:</label><div class='xr-section-inline-details'><ul class='xr-dim-list'><li><span class='xr-has-index'>station</span>: 1</li><li><span class='xr-has-index'>time</span>: 5</li><li><span class='xr-has-index'>maintenancetime</span>: 1</li></ul></div><div class='xr-section-details'></div></li><li class='xr-section-item'><input id='section-1a7e93aa-42e0-4d09-8ce3-d6028f5a577b' class='xr-section-summary-in' type='checkbox'  checked><label for='section-1a7e93aa-42e0-4d09-8ce3-d6028f5a577b' class='xr-section-summary' >Coordinates: <span>(3)</span></label><div class='xr-section-inline-details'></div><div class='xr-section-details'><ul class='xr-var-list'><li class='xr-var-item'><div class='xr-var-name'><span class='xr-has-index'>station</span></div><div class='xr-var-dims'>(station)</div><div class='xr-var-dtype'>float64</div><div class='xr-var-preview xr-preview'>1.0</div><input id='attrs-ff6cdaa1-302f-40af-989c-7f08922e3340' class='xr-var-attrs-in' type='checkbox' disabled><label for='attrs-ff6cdaa1-302f-40af-989c-7f08922e3340' title='Show/Hide attributes'><svg class='icon xr-icon-file-text2'><use xlink:href='#icon-file-text2'></use></svg></label><input id='data-cd01dc74-38db-494a-9649-03e41ac4ff76' class='xr-var-data-in' type='checkbox'><label for='data-cd01dc74-38db-494a-9649-03e41ac4ff76' title='Show/Hide data repr'><svg class='icon xr-icon-database'><use xlink:href='#icon-database'></use></svg></label><div class='xr-var-attrs'><dl class='xr-attrs'></dl></div><div class='xr-var-data'><pre>array([1.])</pre></div></li><li class='xr-var-item'><div class='xr-var-name'><span class='xr-has-index'>time</span></div><div class='xr-var-dims'>(time)</div><div class='xr-var-dtype'>datetime64[ns]</div><div class='xr-var-preview xr-preview'>2022-08-30T11:21:03 ... 2022-08-...</div><input id='attrs-2e8f6d27-050b-4d6d-8166-07e9f68e6975' class='xr-var-attrs-in' type='checkbox' disabled><label for='attrs-2e8f6d27-050b-4d6d-8166-07e9f68e6975' title='Show/Hide attributes'><svg class='icon xr-icon-file-text2'><use xlink:href='#icon-file-text2'></use></svg></label><input id='data-29ddd508-bf30-47dc-acc6-62b45b79fab5' class='xr-var-data-in' type='checkbox'><label for='data-29ddd508-bf30-47dc-acc6-62b45b79fab5' title='Show/Hide data repr'><svg class='icon xr-icon-database'><use xlink:href='#icon-database'></use></svg></label><div class='xr-var-attrs'><dl class='xr-attrs'></dl></div><div class='xr-var-data'><pre>array([&#x27;2022-08-30T11:21:03.000000000&#x27;, &#x27;2022-08-30T11:21:04.000000000&#x27;,\n       &#x27;2022-08-30T11:21:05.000000000&#x27;, &#x27;2022-08-30T11:21:06.000000000&#x27;,\n       &#x27;2022-08-30T11:21:07.000000000&#x27;], dtype=&#x27;datetime64[ns]&#x27;)</pre></div></li><li class='xr-var-item'><div class='xr-var-name'><span class='xr-has-index'>maintenancetime</span></div><div class='xr-var-dims'>(maintenancetime)</div><div class='xr-var-dtype'>datetime64[ns]</div><div class='xr-var-preview xr-preview'>2023-05-08T16:09:06</div><input id='attrs-1e2722b4-32af-429f-b0c2-053846a4feb4' class='xr-var-attrs-in' type='checkbox' disabled><label for='attrs-1e2722b4-32af-429f-b0c2-053846a4feb4' title='Show/Hide attributes'><svg class='icon xr-icon-file-text2'><use xlink:href='#icon-file-text2'></use></svg></label><input id='data-c18d2b48-3737-425b-99da-065c8a00a40d' class='xr-var-data-in' type='checkbox'><label for='data-c18d2b48-3737-425b-99da-065c8a00a40d' title='Show/Hide data repr'><svg class='icon xr-icon-database'><use xlink:href='#icon-database'></use></svg></label><div class='xr-var-attrs'><dl class='xr-attrs'></dl></div><div class='xr-var-data'><pre>array([&#x27;2023-05-08T16:09:06.000000000&#x27;], dtype=&#x27;datetime64[ns]&#x27;)</pre></div></li></ul></div></li><li class='xr-section-item'><input id='section-204386b0-30d4-4ced-890e-077e62ea1f82' class='xr-section-summary-in' type='checkbox'  ><label for='section-204386b0-30d4-4ced-890e-077e62ea1f82' class='xr-section-summary' >Data variables: <span>(20)</span></label><div class='xr-section-inline-details'></div><div class='xr-section-details'><ul class='xr-var-list'><li class='xr-var-item'><div class='xr-var-name'><span>ghi</span></div><div class='xr-var-dims'>(time, station)</div><div class='xr-var-dtype'>float32</div><div class='xr-var-preview xr-preview'>269.9 269.7 269.9 269.9 269.9</div><input id='attrs-3e4d9e24-3a9e-451e-9746-01b3cc20bfbf' class='xr-var-attrs-in' type='checkbox' ><label for='attrs-3e4d9e24-3a9e-451e-9746-01b3cc20bfbf' title='Show/Hide attributes'><svg class='icon xr-icon-file-text2'><use xlink:href='#icon-file-text2'></use></svg></label><input id='data-524bcc61-3122-4be8-9dea-24f417ccd45f' class='xr-var-data-in' type='checkbox'><label for='data-524bcc61-3122-4be8-9dea-24f417ccd45f' title='Show/Hide data repr'><svg class='icon xr-icon-database'><use xlink:href='#icon-database'></use></svg></label><div class='xr-var-attrs'><dl class='xr-attrs'><dt><span>units :</span></dt><dd>W m-2</dd><dt><span>long_name :</span></dt><dd>downwelling shortwave flux</dd><dt><span>standard_name :</span></dt><dd>downwelling_shortwave_flux_in_air</dd><dt><span>valid_range :</span></dt><dd>[   0 1023]</dd><dt><span>serial :</span></dt><dd>S12128.001</dd><dt><span>calibration_factor :</span></dt><dd>7.73</dd></dl></div><div class='xr-var-data'><pre>array([[269.86047],\n       [269.72137],\n       [269.86047],\n       [269.86047],\n       [269.86047]], dtype=float32)</pre></div></li><li class='xr-var-item'><div class='xr-var-name'><span>gti</span></div><div class='xr-var-dims'>(time, station)</div><div class='xr-var-dtype'>float32</div><div class='xr-var-preview xr-preview'>277.3 277.3 277.4 277.3 277.3</div><input id='attrs-77ad9703-b7c6-46c6-8c03-4ca55c2b70e4' class='xr-var-attrs-in' type='checkbox' ><label for='attrs-77ad9703-b7c6-46c6-8c03-4ca55c2b70e4' title='Show/Hide attributes'><svg class='icon xr-icon-file-text2'><use xlink:href='#icon-file-text2'></use></svg></label><input id='data-e2558bad-436a-4882-a0b2-61b82eb688ef' class='xr-var-data-in' type='checkbox'><label for='data-e2558bad-436a-4882-a0b2-61b82eb688ef' title='Show/Hide data repr'><svg class='icon xr-icon-database'><use xlink:href='#icon-database'></use></svg></label><div class='xr-var-attrs'><dl class='xr-attrs'><dt><span>units :</span></dt><dd>W m-2</dd><dt><span>long_name :</span></dt><dd>downwelling shortwave flux measured on secondary platform, might be tilted</dd><dt><span>standard_name :</span></dt><dd>downwelling_shortwave_flux_in_air</dd><dt><span>valid_range :</span></dt><dd>[   0 1023]</dd><dt><span>hangle :</span></dt><dd>0.0</dd><dt><span>vangle :</span></dt><dd>0.0</dd><dt><span>serial :</span></dt><dd>S12137.049</dd><dt><span>calibration_factor :</span></dt><dd>6.98</dd></dl></div><div class='xr-var-data'><pre>array([[277.28995],\n       [277.28995],\n       [277.444  ],\n       [277.28995],\n       [277.28995]], dtype=float32)</pre></div></li><li class='xr-var-item'><div class='xr-var-name'><span>ta</span></div><div class='xr-var-dims'>(time, station)</div><div class='xr-var-dtype'>float32</div><div class='xr-var-preview xr-preview'>294.8 294.7 294.8 294.7 294.8</div><input id='attrs-b3ddbec1-560e-44f3-9ceb-61b6875b318c' class='xr-var-attrs-in' type='checkbox' ><label for='attrs-b3ddbec1-560e-44f3-9ceb-61b6875b318c' title='Show/Hide attributes'><svg class='icon xr-icon-file-text2'><use xlink:href='#icon-file-text2'></use></svg></label><input id='data-c0eeeb55-9fd1-4947-aeee-04f5f9d133f5' class='xr-var-data-in' type='checkbox'><label for='data-c0eeeb55-9fd1-4947-aeee-04f5f9d133f5' title='Show/Hide data repr'><svg class='icon xr-icon-database'><use xlink:href='#icon-database'></use></svg></label><div class='xr-var-attrs'><dl class='xr-attrs'><dt><span>units :</span></dt><dd>K</dd><dt><span>long_name :</span></dt><dd>air temperature</dd><dt><span>standard_name :</span></dt><dd>air_temperature</dd><dt><span>valid_range :</span></dt><dd>[  0 775]</dd></dl></div><div class='xr-var-data'><pre>array([[294.7758 ],\n       [294.74997],\n       [294.7887 ],\n       [294.74997],\n       [294.82742]], dtype=float32)</pre></div></li><li class='xr-var-item'><div class='xr-var-name'><span>rh</span></div><div class='xr-var-dims'>(time, station)</div><div class='xr-var-dtype'>float32</div><div class='xr-var-preview xr-preview'>0.6263 0.6266 0.6271 0.6271 0.629</div><input id='attrs-7251eb72-a776-4c9f-a930-3f9a3d877ebb' class='xr-var-attrs-in' type='checkbox' ><label for='attrs-7251eb72-a776-4c9f-a930-3f9a3d877ebb' title='Show/Hide attributes'><svg class='icon xr-icon-file-text2'><use xlink:href='#icon-file-text2'></use></svg></label><input id='data-3b1937b1-6aa7-4843-b02c-73fd2179ec03' class='xr-var-data-in' type='checkbox'><label for='data-3b1937b1-6aa7-4843-b02c-73fd2179ec03' title='Show/Hide data repr'><svg class='icon xr-icon-database'><use xlink:href='#icon-database'></use></svg></label><div class='xr-var-attrs'><dl class='xr-attrs'><dt><span>units :</span></dt><dd>1</dd><dt><span>long_name :</span></dt><dd>air relative humidity</dd><dt><span>standard_name :</span></dt><dd>relative_humidity</dd><dt><span>valid_range :</span></dt><dd>[  0 775]</dd></dl></div><div class='xr-var-data'><pre>array([[0.62632257],\n       [0.6265806 ],\n       [0.6270968 ],\n       [0.6270968 ],\n       [0.62903225]], dtype=float32)</pre></div></li><li class='xr-var-item'><div class='xr-var-name'><span>battery_voltage</span></div><div class='xr-var-dims'>(time, station)</div><div class='xr-var-dtype'>float32</div><div class='xr-var-preview xr-preview'>6.445 6.446 6.45 6.448 6.458</div><input id='attrs-3a47cd2c-2e02-4a48-9793-e398b1ee2303' class='xr-var-attrs-in' type='checkbox' ><label for='attrs-3a47cd2c-2e02-4a48-9793-e398b1ee2303' title='Show/Hide attributes'><svg class='icon xr-icon-file-text2'><use xlink:href='#icon-file-text2'></use></svg></label><input id='data-66816576-319a-4f33-9694-073ac206b159' class='xr-var-data-in' type='checkbox'><label for='data-66816576-319a-4f33-9694-073ac206b159' title='Show/Hide data repr'><svg class='icon xr-icon-database'><use xlink:href='#icon-database'></use></svg></label><div class='xr-var-attrs'><dl class='xr-attrs'><dt><span>units :</span></dt><dd>V</dd><dt><span>standard_name :</span></dt><dd>battery_voltage</dd><dt><span>valid_range :</span></dt><dd>[  0 992]</dd></dl></div><div class='xr-var-data'><pre>array([[6.4451613],\n       [6.445807 ],\n       [6.4496775],\n       [6.4477415],\n       [6.4580646]], dtype=float32)</pre></div></li><li class='xr-var-item'><div class='xr-var-name'><span>ghi_min</span></div><div class='xr-var-dims'>(time, station)</div><div class='xr-var-dtype'>float32</div><div class='xr-var-preview xr-preview'>269.9 268.5 269.9 269.9 269.9</div><input id='attrs-3e4d19f5-018a-4826-97bf-ab7d6f9ecdef' class='xr-var-attrs-in' type='checkbox' ><label for='attrs-3e4d19f5-018a-4826-97bf-ab7d6f9ecdef' title='Show/Hide attributes'><svg class='icon xr-icon-file-text2'><use xlink:href='#icon-file-text2'></use></svg></label><input id='data-0b654f5b-e870-470a-973a-165e4806a572' class='xr-var-data-in' type='checkbox'><label for='data-0b654f5b-e870-470a-973a-165e4806a572' title='Show/Hide data repr'><svg class='icon xr-icon-database'><use xlink:href='#icon-database'></use></svg></label><div class='xr-var-attrs'><dl class='xr-attrs'><dt><span>units :</span></dt><dd>W m-2</dd><dt><span>long_name :</span></dt><dd>downwelling shortwave flux</dd><dt><span>standard_name :</span></dt><dd>min_downwelling_shortwave_flux_in_air</dd><dt><span>valid_range :</span></dt><dd>[   0 1023]</dd><dt><span>serial :</span></dt><dd>S12128.001</dd><dt><span>calibration_factor :</span></dt><dd>7.73</dd></dl></div><div class='xr-var-data'><pre>array([[269.86047],\n       [268.46945],\n       [269.86047],\n       [269.86047],\n       [269.86047]], dtype=float32)</pre></div></li><li class='xr-var-item'><div class='xr-var-name'><span>gti_min</span></div><div class='xr-var-dims'>(time, station)</div><div class='xr-var-dtype'>float32</div><div class='xr-var-preview xr-preview'>277.3 275.7 275.7 277.3 277.3</div><input id='attrs-89691937-06fb-4b50-8c73-c7aa0bac2c53' class='xr-var-attrs-in' type='checkbox' ><label for='attrs-89691937-06fb-4b50-8c73-c7aa0bac2c53' title='Show/Hide attributes'><svg class='icon xr-icon-file-text2'><use xlink:href='#icon-file-text2'></use></svg></label><input id='data-d2aff4d4-e674-4fb3-9d8d-4c44435715ac' class='xr-var-data-in' type='checkbox'><label for='data-d2aff4d4-e674-4fb3-9d8d-4c44435715ac' title='Show/Hide data repr'><svg class='icon xr-icon-database'><use xlink:href='#icon-database'></use></svg></label><div class='xr-var-attrs'><dl class='xr-attrs'><dt><span>units :</span></dt><dd>W m-2</dd><dt><span>long_name :</span></dt><dd>downwelling shortwave flux measured on secondary platform, might be tilted</dd><dt><span>standard_name :</span></dt><dd>min_downwelling_shortwave_flux_in_air</dd><dt><span>valid_range :</span></dt><dd>[   0 1023]</dd><dt><span>hangle :</span></dt><dd>0.0</dd><dt><span>vangle :</span></dt><dd>0.0</dd><dt><span>serial :</span></dt><dd>S12137.049</dd><dt><span>calibration_factor :</span></dt><dd>6.98</dd></dl></div><div class='xr-var-data'><pre>array([[277.28995],\n       [275.74945],\n       [275.74945],\n       [277.28995],\n       [277.28995]], dtype=float32)</pre></div></li><li class='xr-var-item'><div class='xr-var-name'><span>ghi_max</span></div><div class='xr-var-dims'>(time, station)</div><div class='xr-var-dtype'>float32</div><div class='xr-var-preview xr-preview'>269.9 269.9 269.9 269.9 269.9</div><input id='attrs-35fcf9ae-d2a8-4cdf-b636-bddaa2820497' class='xr-var-attrs-in' type='checkbox' ><label for='attrs-35fcf9ae-d2a8-4cdf-b636-bddaa2820497' title='Show/Hide attributes'><svg class='icon xr-icon-file-text2'><use xlink:href='#icon-file-text2'></use></svg></label><input id='data-a9779f38-a310-44ff-b465-6b4f6af7a232' class='xr-var-data-in' type='checkbox'><label for='data-a9779f38-a310-44ff-b465-6b4f6af7a232' title='Show/Hide data repr'><svg class='icon xr-icon-database'><use xlink:href='#icon-database'></use></svg></label><div class='xr-var-attrs'><dl class='xr-attrs'><dt><span>units :</span></dt><dd>W m-2</dd><dt><span>long_name :</span></dt><dd>downwelling shortwave flux</dd><dt><span>standard_name :</span></dt><dd>max_downwelling_shortwave_flux_in_air</dd><dt><span>valid_range :</span></dt><dd>[   0 1023]</dd><dt><span>serial :</span></dt><dd>S12128.001</dd><dt><span>calibration_factor :</span></dt><dd>7.73</dd></dl></div><div class='xr-var-data'><pre>array([[269.86047],\n       [269.86047],\n       [269.86047],\n       [269.86047],\n       [269.86047]], dtype=float32)</pre></div></li><li class='xr-var-item'><div class='xr-var-name'><span>gti_max</span></div><div class='xr-var-dims'>(time, station)</div><div class='xr-var-dtype'>float32</div><div class='xr-var-preview xr-preview'>277.3 278.8 278.8 277.3 277.3</div><input id='attrs-0ba6195b-0acb-4037-a3df-8c76ebea1417' class='xr-var-attrs-in' type='checkbox' ><label for='attrs-0ba6195b-0acb-4037-a3df-8c76ebea1417' title='Show/Hide attributes'><svg class='icon xr-icon-file-text2'><use xlink:href='#icon-file-text2'></use></svg></label><input id='data-8c3f2a5a-bcd7-4e92-90bf-43d9320a079e' class='xr-var-data-in' type='checkbox'><label for='data-8c3f2a5a-bcd7-4e92-90bf-43d9320a079e' title='Show/Hide data repr'><svg class='icon xr-icon-database'><use xlink:href='#icon-database'></use></svg></label><div class='xr-var-attrs'><dl class='xr-attrs'><dt><span>units :</span></dt><dd>W m-2</dd><dt><span>long_name :</span></dt><dd>downwelling shortwave flux measured on secondary platform, might be tilted</dd><dt><span>standard_name :</span></dt><dd>max_downwelling_shortwave_flux_in_air</dd><dt><span>valid_range :</span></dt><dd>[   0 1023]</dd><dt><span>hangle :</span></dt><dd>0.0</dd><dt><span>vangle :</span></dt><dd>0.0</dd><dt><span>serial :</span></dt><dd>S12137.049</dd><dt><span>calibration_factor :</span></dt><dd>6.98</dd></dl></div><div class='xr-var-data'><pre>array([[277.28995],\n       [278.83044],\n       [278.83044],\n       [277.28995],\n       [277.28995]], dtype=float32)</pre></div></li><li class='xr-var-item'><div class='xr-var-name'><span>ghi_std</span></div><div class='xr-var-dims'>(time, station)</div><div class='xr-var-dtype'>float64</div><div class='xr-var-preview xr-preview'>0.0 0.4399 0.0 0.0 0.0</div><input id='attrs-b41fe5cc-d028-46cd-b65c-f5b1b6f4c098' class='xr-var-attrs-in' type='checkbox' ><label for='attrs-b41fe5cc-d028-46cd-b65c-f5b1b6f4c098' title='Show/Hide attributes'><svg class='icon xr-icon-file-text2'><use xlink:href='#icon-file-text2'></use></svg></label><input id='data-fc56b57b-951d-440b-ba3c-14b842b0bd8e' class='xr-var-data-in' type='checkbox'><label for='data-fc56b57b-951d-440b-ba3c-14b842b0bd8e' title='Show/Hide data repr'><svg class='icon xr-icon-database'><use xlink:href='#icon-database'></use></svg></label><div class='xr-var-attrs'><dl class='xr-attrs'><dt><span>units :</span></dt><dd>W m-2</dd><dt><span>long_name :</span></dt><dd>downwelling shortwave flux</dd><dt><span>standard_name :</span></dt><dd>std_downwelling_shortwave_flux_in_air</dd><dt><span>valid_range :</span></dt><dd>[   0 1023]</dd><dt><span>serial :</span></dt><dd>S12128.001</dd><dt><span>calibration_factor :</span></dt><dd>7.73</dd></dl></div><div class='xr-var-data'><pre>array([[0.        ],\n       [0.43987969],\n       [0.        ],\n       [0.        ],\n       [0.        ]])</pre></div></li><li class='xr-var-item'><div class='xr-var-name'><span>gti_std</span></div><div class='xr-var-dims'>(time, station)</div><div class='xr-var-dtype'>float64</div><div class='xr-var-preview xr-preview'>0.0 0.7262 0.8745 0.0 0.0</div><input id='attrs-4d749606-13a0-4df3-8bab-e9ead84abc03' class='xr-var-attrs-in' type='checkbox' ><label for='attrs-4d749606-13a0-4df3-8bab-e9ead84abc03' title='Show/Hide attributes'><svg class='icon xr-icon-file-text2'><use xlink:href='#icon-file-text2'></use></svg></label><input id='data-28c18934-5481-418e-9b07-105480a102a5' class='xr-var-data-in' type='checkbox'><label for='data-28c18934-5481-418e-9b07-105480a102a5' title='Show/Hide data repr'><svg class='icon xr-icon-database'><use xlink:href='#icon-database'></use></svg></label><div class='xr-var-attrs'><dl class='xr-attrs'><dt><span>units :</span></dt><dd>W m-2</dd><dt><span>long_name :</span></dt><dd>downwelling shortwave flux measured on secondary platform, might be tilted</dd><dt><span>standard_name :</span></dt><dd>std_downwelling_shortwave_flux_in_air</dd><dt><span>valid_range :</span></dt><dd>[   0 1023]</dd><dt><span>hangle :</span></dt><dd>0.0</dd><dt><span>vangle :</span></dt><dd>0.0</dd><dt><span>serial :</span></dt><dd>S12137.049</dd><dt><span>calibration_factor :</span></dt><dd>6.98</dd></dl></div><div class='xr-var-data'><pre>array([[0.        ],\n       [0.72619717],\n       [0.87445719],\n       [0.        ],\n       [0.        ]])</pre></div></li><li class='xr-var-item'><div class='xr-var-name'><span>lat</span></div><div class='xr-var-dims'>(time, station)</div><div class='xr-var-dtype'>float64</div><div class='xr-var-preview xr-preview'>nan nan 51.39 51.39 51.39</div><input id='attrs-0ef04623-76dc-4b68-8a20-f0520b2916e5' class='xr-var-attrs-in' type='checkbox' ><label for='attrs-0ef04623-76dc-4b68-8a20-f0520b2916e5' title='Show/Hide attributes'><svg class='icon xr-icon-file-text2'><use xlink:href='#icon-file-text2'></use></svg></label><input id='data-fb0a92cf-fbcd-4527-9b13-a600b33a26c7' class='xr-var-data-in' type='checkbox'><label for='data-fb0a92cf-fbcd-4527-9b13-a600b33a26c7' title='Show/Hide data repr'><svg class='icon xr-icon-database'><use xlink:href='#icon-database'></use></svg></label><div class='xr-var-attrs'><dl class='xr-attrs'><dt><span>standard_name :</span></dt><dd>latitude</dd><dt><span>units :</span></dt><dd>degree_north</dd><dt><span>valid_range :</span></dt><dd>[        0 180000000]</dd></dl></div><div class='xr-var-data'><pre>array([[        nan],\n       [        nan],\n       [51.390212  ],\n       [51.39021103],\n       [51.39021   ]])</pre></div></li><li class='xr-var-item'><div class='xr-var-name'><span>lon</span></div><div class='xr-var-dims'>(time, station)</div><div class='xr-var-dtype'>float64</div><div class='xr-var-preview xr-preview'>nan nan 11.89 11.89 11.89</div><input id='attrs-34b2e1ee-15bf-4a62-b304-1d0f8a565c45' class='xr-var-attrs-in' type='checkbox' ><label for='attrs-34b2e1ee-15bf-4a62-b304-1d0f8a565c45' title='Show/Hide attributes'><svg class='icon xr-icon-file-text2'><use xlink:href='#icon-file-text2'></use></svg></label><input id='data-4af67105-2158-49de-8869-42bd4dff7671' class='xr-var-data-in' type='checkbox'><label for='data-4af67105-2158-49de-8869-42bd4dff7671' title='Show/Hide data repr'><svg class='icon xr-icon-database'><use xlink:href='#icon-database'></use></svg></label><div class='xr-var-attrs'><dl class='xr-attrs'><dt><span>standard_name :</span></dt><dd>longitude</dd><dt><span>units :</span></dt><dd>degree_east</dd><dt><span>valid_range :</span></dt><dd>[        0 360000000]</dd></dl></div><div class='xr-var-data'><pre>array([[        nan],\n       [        nan],\n       [11.88525687],\n       [11.88525458],\n       [11.885252  ]])</pre></div></li><li class='xr-var-item'><div class='xr-var-name'><span>maintenance_flag_ghi</span></div><div class='xr-var-dims'>(maintenancetime, station)</div><div class='xr-var-dtype'>float32</div><div class='xr-var-preview xr-preview'>9.0</div><input id='attrs-88c514b5-96b2-4416-983d-71fd9ccfb53f' class='xr-var-attrs-in' type='checkbox' ><label for='attrs-88c514b5-96b2-4416-983d-71fd9ccfb53f' title='Show/Hide attributes'><svg class='icon xr-icon-file-text2'><use xlink:href='#icon-file-text2'></use></svg></label><input id='data-b2ef4b1f-7e04-4315-8c49-df3c8091ea3c' class='xr-var-data-in' type='checkbox'><label for='data-b2ef4b1f-7e04-4315-8c49-df3c8091ea3c' title='Show/Hide data repr'><svg class='icon xr-icon-database'><use xlink:href='#icon-database'></use></svg></label><div class='xr-var-attrs'><dl class='xr-attrs'><dt><span>standard_name :</span></dt><dd>quality_flag</dd><dt><span>long_name :</span></dt><dd>Maintenance quality control flags for main pyranometer</dd><dt><span>note :</span></dt><dd>Soiling describes subjectively the coverage of the pyranometer dome with dirt. The level flag is problematic if the bubble of the spirit level touches the reference ring, and bad if it is outside.</dd><dt><span>valid_range :</span></dt><dd>[ 0 11]</dd><dt><span>flag_masks :</span></dt><dd>[ 3  3  3 12 12]</dd><dt><span>flag_values :</span></dt><dd>[1 2 3 4 8]</dd><dt><span>flag_meanings :</span></dt><dd>soiling_light soiling_moderate soiling_heavy level_problematic level_bad</dd><dt><span>note_general :</span></dt><dd>222</dd><dt><span>note_clean :</span></dt><dd>testing notes</dd><dt><span>note_level :</span></dt><dd>test</dd></dl></div><div class='xr-var-data'><pre>array([[9.]], dtype=float32)</pre></div></li><li class='xr-var-item'><div class='xr-var-name'><span>maintenance_flag_gti</span></div><div class='xr-var-dims'>(maintenancetime, station)</div><div class='xr-var-dtype'>float32</div><div class='xr-var-preview xr-preview'>7.0</div><input id='attrs-e361d063-226d-4a05-b51f-0e311ec09778' class='xr-var-attrs-in' type='checkbox' ><label for='attrs-e361d063-226d-4a05-b51f-0e311ec09778' title='Show/Hide attributes'><svg class='icon xr-icon-file-text2'><use xlink:href='#icon-file-text2'></use></svg></label><input id='data-bdcac146-130b-4db5-8386-fdb77e919517' class='xr-var-data-in' type='checkbox'><label for='data-bdcac146-130b-4db5-8386-fdb77e919517' title='Show/Hide data repr'><svg class='icon xr-icon-database'><use xlink:href='#icon-database'></use></svg></label><div class='xr-var-attrs'><dl class='xr-attrs'><dt><span>standard_name :</span></dt><dd>quality_flag</dd><dt><span>long_name :</span></dt><dd>Maintenance quality control flags for secondary pyranometer</dd><dt><span>note :</span></dt><dd>Soiling describes subjectively the coverage of the pyranometer dome with dirt. The level flag is problematic if the bubble of the spirit level touches the reference ring, and bad if it is outside.</dd><dt><span>valid_range :</span></dt><dd>[ 0 11]</dd><dt><span>flag_masks :</span></dt><dd>[ 3  3  3 12 12]</dd><dt><span>flag_values :</span></dt><dd>[1 2 3 4 8]</dd><dt><span>flag_meanings :</span></dt><dd>soiling_light soiling_moderate soiling_heavy level_problematic level_bad</dd><dt><span>note_general :</span></dt><dd>222</dd><dt><span>note_clean :</span></dt><dd></dd><dt><span>note_level :</span></dt><dd></dd></dl></div><div class='xr-var-data'><pre>array([[7.]], dtype=float32)</pre></div></li><li class='xr-var-item'><div class='xr-var-name'><span>szen</span></div><div class='xr-var-dims'>(time, station)</div><div class='xr-var-dtype'>float64</div><div class='xr-var-preview xr-preview'>nan nan 42.51 42.51 42.51</div><input id='attrs-de70ee82-3cdb-4dc7-9149-6e917dbfcfab' class='xr-var-attrs-in' type='checkbox' ><label for='attrs-de70ee82-3cdb-4dc7-9149-6e917dbfcfab' title='Show/Hide attributes'><svg class='icon xr-icon-file-text2'><use xlink:href='#icon-file-text2'></use></svg></label><input id='data-e6612ef5-a143-49f6-ab4c-d7d6e22dd37b' class='xr-var-data-in' type='checkbox'><label for='data-e6612ef5-a143-49f6-ab4c-d7d6e22dd37b' title='Show/Hide data repr'><svg class='icon xr-icon-database'><use xlink:href='#icon-database'></use></svg></label><div class='xr-var-attrs'><dl class='xr-attrs'><dt><span>standard_name :</span></dt><dd>solar_zenith_angle</dd><dt><span>units :</span></dt><dd>degree</dd><dt><span>valid_range :</span></dt><dd>[0, 36000]</dd></dl></div><div class='xr-var-data'><pre>array([[        nan],\n       [        nan],\n       [42.5118597 ],\n       [42.51199538],\n       [42.51213126]])</pre></div></li><li class='xr-var-item'><div class='xr-var-name'><span>sazi</span></div><div class='xr-var-dims'>(time, station)</div><div class='xr-var-dtype'>float64</div><div class='xr-var-preview xr-preview'>nan nan 182.9 182.9 182.9</div><input id='attrs-d9c6f470-5271-446c-8240-a6db8d9f7cb8' class='xr-var-attrs-in' type='checkbox' ><label for='attrs-d9c6f470-5271-446c-8240-a6db8d9f7cb8' title='Show/Hide attributes'><svg class='icon xr-icon-file-text2'><use xlink:href='#icon-file-text2'></use></svg></label><input id='data-79393cc8-33dc-4ebe-a76f-30547dec2d18' class='xr-var-data-in' type='checkbox'><label for='data-79393cc8-33dc-4ebe-a76f-30547dec2d18' title='Show/Hide data repr'><svg class='icon xr-icon-database'><use xlink:href='#icon-database'></use></svg></label><div class='xr-var-attrs'><dl class='xr-attrs'><dt><span>standard_name :</span></dt><dd>solar_azimuth_angle</dd><dt><span>units :</span></dt><dd>degree</dd><dt><span>valid_range :</span></dt><dd>[0, 36000]</dd></dl></div><div class='xr-var-data'><pre>array([[         nan],\n       [         nan],\n       [182.91893682],\n       [182.92502312],\n       [182.93110895]])</pre></div></li><li class='xr-var-item'><div class='xr-var-name'><span>esd</span></div><div class='xr-var-dims'>(station)</div><div class='xr-var-dtype'>float64</div><div class='xr-var-preview xr-preview'>1.01</div><input id='attrs-d6d2ccb9-7f6c-4655-81f8-da78d075d49e' class='xr-var-attrs-in' type='checkbox' ><label for='attrs-d6d2ccb9-7f6c-4655-81f8-da78d075d49e' title='Show/Hide attributes'><svg class='icon xr-icon-file-text2'><use xlink:href='#icon-file-text2'></use></svg></label><input id='data-5458c2fe-ba36-4bb6-a014-0c9786df502a' class='xr-var-data-in' type='checkbox'><label for='data-5458c2fe-ba36-4bb6-a014-0c9786df502a' title='Show/Hide data repr'><svg class='icon xr-icon-database'><use xlink:href='#icon-database'></use></svg></label><div class='xr-var-attrs'><dl class='xr-attrs'><dt><span>standard_name :</span></dt><dd>earth_sun_distance</dd><dt><span>units :</span></dt><dd>AU</dd><dt><span>valid_range :</span></dt><dd>[0, 40000]</dd></dl></div><div class='xr-var-data'><pre>array([1.00959973])</pre></div></li><li class='xr-var-item'><div class='xr-var-name'><span>qc_flag_ghi</span></div><div class='xr-var-dims'>(time, station)</div><div class='xr-var-dtype'>uint8</div><div class='xr-var-preview xr-preview'>0 0 0 0 0</div><input id='attrs-016615c5-e1ec-429b-ac53-ad56fa1da138' class='xr-var-attrs-in' type='checkbox' ><label for='attrs-016615c5-e1ec-429b-ac53-ad56fa1da138' title='Show/Hide attributes'><svg class='icon xr-icon-file-text2'><use xlink:href='#icon-file-text2'></use></svg></label><input id='data-c8a080b6-4d0c-449e-93fe-6553df0f4575' class='xr-var-data-in' type='checkbox'><label for='data-c8a080b6-4d0c-449e-93fe-6553df0f4575' title='Show/Hide data repr'><svg class='icon xr-icon-database'><use xlink:href='#icon-database'></use></svg></label><div class='xr-var-attrs'><dl class='xr-attrs'><dt><span>standard_name :</span></dt><dd>quality_flag</dd><dt><span>valid_range :</span></dt><dd>[0, 127]</dd><dt><span>serial :</span></dt><dd>S12128.001</dd><dt><span>calibration_factor :</span></dt><dd>7.73</dd><dt><span>ancillary_variables :</span></dt><dd>ghi</dd><dt><span>flag_masks :</span></dt><dd>[1, 2, 4, 8, 16, 32, 64]</dd><dt><span>flag_values :</span></dt><dd>[1, 2, 4, 8, 16, 32, 64]</dd><dt><span>flag_meanings :</span></dt><dd>below_physical_limit above_physical_limit below_rare_limit above_rare_limit comparison_to_low comparison_to_high quality_control_failed</dd></dl></div><div class='xr-var-data'><pre>array([[0],\n       [0],\n       [0],\n       [0],\n       [0]], dtype=uint8)</pre></div></li><li class='xr-var-item'><div class='xr-var-name'><span>qc_flag_gti</span></div><div class='xr-var-dims'>(time, station)</div><div class='xr-var-dtype'>uint8</div><div class='xr-var-preview xr-preview'>0 0 0 0 0</div><input id='attrs-c5ec91b9-c8cb-4a07-b3d3-169a65ff01bb' class='xr-var-attrs-in' type='checkbox' ><label for='attrs-c5ec91b9-c8cb-4a07-b3d3-169a65ff01bb' title='Show/Hide attributes'><svg class='icon xr-icon-file-text2'><use xlink:href='#icon-file-text2'></use></svg></label><input id='data-a48ebaa4-760a-4eb3-be83-c57c20d100e7' class='xr-var-data-in' type='checkbox'><label for='data-a48ebaa4-760a-4eb3-be83-c57c20d100e7' title='Show/Hide data repr'><svg class='icon xr-icon-database'><use xlink:href='#icon-database'></use></svg></label><div class='xr-var-attrs'><dl class='xr-attrs'><dt><span>standard_name :</span></dt><dd>quality_flag</dd><dt><span>valid_range :</span></dt><dd>[0, 127]</dd><dt><span>hangle :</span></dt><dd>0.0</dd><dt><span>vangle :</span></dt><dd>0.0</dd><dt><span>serial :</span></dt><dd>S12137.049</dd><dt><span>calibration_factor :</span></dt><dd>6.98</dd><dt><span>ancillary_variables :</span></dt><dd>gti</dd><dt><span>flag_masks :</span></dt><dd>[1, 2, 4, 8, 16, 32, 64]</dd><dt><span>flag_values :</span></dt><dd>[1, 2, 4, 8, 16, 32, 64]</dd><dt><span>flag_meanings :</span></dt><dd>below_physical_limit above_physical_limit below_rare_limit above_rare_limit comparison_to_low comparison_to_high quality_control_failed</dd></dl></div><div class='xr-var-data'><pre>array([[0],\n       [0],\n       [0],\n       [0],\n       [0]], dtype=uint8)</pre></div></li></ul></div></li><li class='xr-section-item'><input id='section-73865197-4ef0-4c10-a95b-448ec5281a49' class='xr-section-summary-in' type='checkbox'  ><label for='section-73865197-4ef0-4c10-a95b-448ec5281a49' class='xr-section-summary' >Indexes: <span>(3)</span></label><div class='xr-section-inline-details'></div><div class='xr-section-details'><ul class='xr-var-list'><li class='xr-var-item'><div class='xr-index-name'><div>station</div></div><div class='xr-index-preview'>PandasIndex</div><div></div><input id='index-2356d964-28b6-4569-92e2-92159b131096' class='xr-index-data-in' type='checkbox'/><label for='index-2356d964-28b6-4569-92e2-92159b131096' title='Show/Hide index repr'><svg class='icon xr-icon-database'><use xlink:href='#icon-database'></use></svg></label><div class='xr-index-data'><pre>PandasIndex(Float64Index([1.0], dtype=&#x27;float64&#x27;, name=&#x27;station&#x27;))</pre></div></li><li class='xr-var-item'><div class='xr-index-name'><div>time</div></div><div class='xr-index-preview'>PandasIndex</div><div></div><input id='index-14540488-07ce-465b-b795-79400b897eed' class='xr-index-data-in' type='checkbox'/><label for='index-14540488-07ce-465b-b795-79400b897eed' title='Show/Hide index repr'><svg class='icon xr-icon-database'><use xlink:href='#icon-database'></use></svg></label><div class='xr-index-data'><pre>PandasIndex(DatetimeIndex([&#x27;2022-08-30 11:21:03&#x27;, &#x27;2022-08-30 11:21:04&#x27;,\n               &#x27;2022-08-30 11:21:05&#x27;, &#x27;2022-08-30 11:21:06&#x27;,\n               &#x27;2022-08-30 11:21:07&#x27;],\n              dtype=&#x27;datetime64[ns]&#x27;, name=&#x27;time&#x27;, freq=&#x27;S&#x27;))</pre></div></li><li class='xr-var-item'><div class='xr-index-name'><div>maintenancetime</div></div><div class='xr-index-preview'>PandasIndex</div><div></div><input id='index-103a8da9-ccb2-4b44-8300-bc34b6ddf4e7' class='xr-index-data-in' type='checkbox'/><label for='index-103a8da9-ccb2-4b44-8300-bc34b6ddf4e7' title='Show/Hide index repr'><svg class='icon xr-icon-database'><use xlink:href='#icon-database'></use></svg></label><div class='xr-index-data'><pre>PandasIndex(DatetimeIndex([&#x27;2023-05-08 16:09:06&#x27;], dtype=&#x27;datetime64[ns]&#x27;, name=&#x27;maintenancetime&#x27;, freq=None))</pre></div></li></ul></div></li><li class='xr-section-item'><input id='section-9770c74f-4d11-4132-b781-8c05b5fd4c45' class='xr-section-summary-in' type='checkbox'  ><label for='section-9770c74f-4d11-4132-b781-8c05b5fd4c45' class='xr-section-summary' >Attributes: <span>(31)</span></label><div class='xr-section-inline-details'></div><div class='xr-section-details'><dl class='xr-attrs'><dt><span>title :</span></dt><dd>TROPOS pyranometer network (PyrNet) observations</dd><dt><span>institution :</span></dt><dd>Leibniz Institute for Tropospheric Research (TROPOS)</dd><dt><span>department :</span></dt><dd>Remote Sensing of Atmospheric Processes</dd><dt><span>department_team :</span></dt><dd>Clouds, Aerosol and Radiation</dd><dt><span>address :</span></dt><dd>Permoser Str. 15, 04318 Leipzig, Germany</dd><dt><span>source :</span></dt><dd>TROPOS pyranometer network (PyrNet)</dd><dt><span>contact_person :</span></dt><dd>Andreas Macke and the clouds, aerosol and radiation team of the remote sensing department, mailto:andreas.macke@tropos.de</dd><dt><span>contributor_name :</span></dt><dd></dd><dt><span>contributor_role :</span></dt><dd></dd><dt><span>authors_software :</span></dt><dd>Hartwig Deneke, Jonas Witthuhn, mailto:deneke@tropos.de</dd><dt><span>creator_name :</span></dt><dd></dd><dt><span>project :</span></dt><dd></dd><dt><span>references :</span></dt><dd>https://doi.org/10.5194/amt-9-1153-2016</dd><dt><span>standard_name_vocabulary :</span></dt><dd>CF Standard Name Table v81</dd><dt><span>conventions :</span></dt><dd>CF-1.10, ACDD-1.3</dd><dt><span>license :</span></dt><dd>CC-BY-SA 3.0</dd><dt><span>TESTNOTE :</span></dt><dd>This is a test note.</dd><dt><span>processing_level :</span></dt><dd>l1a</dd><dt><span>product_version :</span></dt><dd>0.1.10+28.g175ed10.dirty</dd><dt><span>history :</span></dt><dd>2024-02-12T12:45:01: Generated level l1a  by pyrnet version 0.1.10+28.g175ed10.dirty; </dd><dt><span>date_created :</span></dt><dd>2024-02-12T12:45:01</dd><dt><span>geospatial_lat_min :</span></dt><dd>51.390208333333334</dd><dt><span>geospatial_lat_max :</span></dt><dd>51.390211666666666</dd><dt><span>geospatial_lat_units :</span></dt><dd>degN</dd><dt><span>geospatial_lon_min :</span></dt><dd>11.885246666666667</dd><dt><span>geospatial_lon_max :</span></dt><dd>11.885256666666667</dd><dt><span>geospatial_lon_units :</span></dt><dd>degE</dd><dt><span>time_coverage_start :</span></dt><dd>2022-08-30T11:21:04.065000</dd><dt><span>time_coverage_end :</span></dt><dd>2022-08-30T11:21:09</dd><dt><span>time_coverage_duration :</span></dt><dd>P0DT0H0M4.935S</dd><dt><span>time_coverage_resolution :</span></dt><dd>P0DT0H0M1.23375S</dd></dl></div></li></ul></div></div>"
     },
     "execution_count": 34,
     "metadata": {},
     "output_type": "execute_result"
    }
   ],
   "source": [
    "#|dropcode\n",
    "#|dropout\n",
    "ds_l1b = pyrnet.qcrad.add_qc_flags(ds_l1b, config[\"radflux_varname\"])\n",
    "ds_l1b"
   ],
   "metadata": {
    "collapsed": false,
    "ExecuteTime": {
     "end_time": "2024-02-12T12:45:02.907141Z",
     "start_time": "2024-02-12T12:45:02.409844700Z"
    }
   }
  },
  {
   "cell_type": "markdown",
   "source": [
    "10. Update variables and global attributes and encoding"
   ],
   "metadata": {
    "collapsed": false
   }
  },
  {
   "cell_type": "code",
   "execution_count": 35,
   "outputs": [
    {
     "data": {
      "text/plain": "<xarray.Dataset>\nDimensions:               (station: 1, time: 5, maintenancetime: 1)\nCoordinates:\n  * station               (station) float64 1.0\n  * time                  (time) datetime64[ns] 2022-08-30T11:21:03 ... 2022-...\n  * maintenancetime       (maintenancetime) datetime64[ns] 2023-05-08T16:09:06\nData variables: (12/20)\n    ghi                   (time, station) float32 269.9 269.7 269.9 269.9 269.9\n    gti                   (time, station) float32 277.3 277.3 277.4 277.3 277.3\n    ta                    (time, station) float32 294.8 294.7 294.8 294.7 294.8\n    rh                    (time, station) float32 0.6263 0.6266 ... 0.6271 0.629\n    battery_voltage       (time, station) float32 6.445 6.446 6.45 6.448 6.458\n    ghi_min               (time, station) float32 269.9 268.5 269.9 269.9 269.9\n    ...                    ...\n    maintenance_flag_gti  (maintenancetime, station) float32 7.0\n    szen                  (time, station) float64 nan nan 42.51 42.51 42.51\n    sazi                  (time, station) float64 nan nan 182.9 182.9 182.9\n    esd                   (station) float64 1.01\n    qc_flag_ghi           (time, station) uint8 0 0 0 0 0\n    qc_flag_gti           (time, station) uint8 0 0 0 0 0\nAttributes: (12/31)\n    title:                     TROPOS pyranometer network (PyrNet) observations\n    institution:               Leibniz Institute for Tropospheric Research (T...\n    department:                Remote Sensing of Atmospheric Processes\n    department_team:           Clouds, Aerosol and Radiation\n    address:                   Permoser Str. 15, 04318 Leipzig, Germany\n    source:                    TROPOS pyranometer network (PyrNet)\n    ...                        ...\n    geospatial_lon_max:        11.885256869999996\n    geospatial_lon_units:      degE\n    time_coverage_start:       2022-08-30T11:21:03\n    time_coverage_end:         2022-08-30T11:21:07\n    time_coverage_duration:    P0DT0H0M4S\n    time_coverage_resolution:  P0DT0H0M1S",
      "text/html": "<div><svg style=\"position: absolute; width: 0; height: 0; overflow: hidden\">\n<defs>\n<symbol id=\"icon-database\" viewBox=\"0 0 32 32\">\n<path d=\"M16 0c-8.837 0-16 2.239-16 5v4c0 2.761 7.163 5 16 5s16-2.239 16-5v-4c0-2.761-7.163-5-16-5z\"></path>\n<path d=\"M16 17c-8.837 0-16-2.239-16-5v6c0 2.761 7.163 5 16 5s16-2.239 16-5v-6c0 2.761-7.163 5-16 5z\"></path>\n<path d=\"M16 26c-8.837 0-16-2.239-16-5v6c0 2.761 7.163 5 16 5s16-2.239 16-5v-6c0 2.761-7.163 5-16 5z\"></path>\n</symbol>\n<symbol id=\"icon-file-text2\" viewBox=\"0 0 32 32\">\n<path d=\"M28.681 7.159c-0.694-0.947-1.662-2.053-2.724-3.116s-2.169-2.030-3.116-2.724c-1.612-1.182-2.393-1.319-2.841-1.319h-15.5c-1.378 0-2.5 1.121-2.5 2.5v27c0 1.378 1.122 2.5 2.5 2.5h23c1.378 0 2.5-1.122 2.5-2.5v-19.5c0-0.448-0.137-1.23-1.319-2.841zM24.543 5.457c0.959 0.959 1.712 1.825 2.268 2.543h-4.811v-4.811c0.718 0.556 1.584 1.309 2.543 2.268zM28 29.5c0 0.271-0.229 0.5-0.5 0.5h-23c-0.271 0-0.5-0.229-0.5-0.5v-27c0-0.271 0.229-0.5 0.5-0.5 0 0 15.499-0 15.5 0v7c0 0.552 0.448 1 1 1h7v19.5z\"></path>\n<path d=\"M23 26h-14c-0.552 0-1-0.448-1-1s0.448-1 1-1h14c0.552 0 1 0.448 1 1s-0.448 1-1 1z\"></path>\n<path d=\"M23 22h-14c-0.552 0-1-0.448-1-1s0.448-1 1-1h14c0.552 0 1 0.448 1 1s-0.448 1-1 1z\"></path>\n<path d=\"M23 18h-14c-0.552 0-1-0.448-1-1s0.448-1 1-1h14c0.552 0 1 0.448 1 1s-0.448 1-1 1z\"></path>\n</symbol>\n</defs>\n</svg>\n<style>/* CSS stylesheet for displaying xarray objects in jupyterlab.\n *\n */\n\n:root {\n  --xr-font-color0: var(--jp-content-font-color0, rgba(0, 0, 0, 1));\n  --xr-font-color2: var(--jp-content-font-color2, rgba(0, 0, 0, 0.54));\n  --xr-font-color3: var(--jp-content-font-color3, rgba(0, 0, 0, 0.38));\n  --xr-border-color: var(--jp-border-color2, #e0e0e0);\n  --xr-disabled-color: var(--jp-layout-color3, #bdbdbd);\n  --xr-background-color: var(--jp-layout-color0, white);\n  --xr-background-color-row-even: var(--jp-layout-color1, white);\n  --xr-background-color-row-odd: var(--jp-layout-color2, #eeeeee);\n}\n\nhtml[theme=dark],\nbody[data-theme=dark],\nbody.vscode-dark {\n  --xr-font-color0: rgba(255, 255, 255, 1);\n  --xr-font-color2: rgba(255, 255, 255, 0.54);\n  --xr-font-color3: rgba(255, 255, 255, 0.38);\n  --xr-border-color: #1F1F1F;\n  --xr-disabled-color: #515151;\n  --xr-background-color: #111111;\n  --xr-background-color-row-even: #111111;\n  --xr-background-color-row-odd: #313131;\n}\n\n.xr-wrap {\n  display: block !important;\n  min-width: 300px;\n  max-width: 700px;\n}\n\n.xr-text-repr-fallback {\n  /* fallback to plain text repr when CSS is not injected (untrusted notebook) */\n  display: none;\n}\n\n.xr-header {\n  padding-top: 6px;\n  padding-bottom: 6px;\n  margin-bottom: 4px;\n  border-bottom: solid 1px var(--xr-border-color);\n}\n\n.xr-header > div,\n.xr-header > ul {\n  display: inline;\n  margin-top: 0;\n  margin-bottom: 0;\n}\n\n.xr-obj-type,\n.xr-array-name {\n  margin-left: 2px;\n  margin-right: 10px;\n}\n\n.xr-obj-type {\n  color: var(--xr-font-color2);\n}\n\n.xr-sections {\n  padding-left: 0 !important;\n  display: grid;\n  grid-template-columns: 150px auto auto 1fr 20px 20px;\n}\n\n.xr-section-item {\n  display: contents;\n}\n\n.xr-section-item input {\n  display: none;\n}\n\n.xr-section-item input + label {\n  color: var(--xr-disabled-color);\n}\n\n.xr-section-item input:enabled + label {\n  cursor: pointer;\n  color: var(--xr-font-color2);\n}\n\n.xr-section-item input:enabled + label:hover {\n  color: var(--xr-font-color0);\n}\n\n.xr-section-summary {\n  grid-column: 1;\n  color: var(--xr-font-color2);\n  font-weight: 500;\n}\n\n.xr-section-summary > span {\n  display: inline-block;\n  padding-left: 0.5em;\n}\n\n.xr-section-summary-in:disabled + label {\n  color: var(--xr-font-color2);\n}\n\n.xr-section-summary-in + label:before {\n  display: inline-block;\n  content: '►';\n  font-size: 11px;\n  width: 15px;\n  text-align: center;\n}\n\n.xr-section-summary-in:disabled + label:before {\n  color: var(--xr-disabled-color);\n}\n\n.xr-section-summary-in:checked + label:before {\n  content: '▼';\n}\n\n.xr-section-summary-in:checked + label > span {\n  display: none;\n}\n\n.xr-section-summary,\n.xr-section-inline-details {\n  padding-top: 4px;\n  padding-bottom: 4px;\n}\n\n.xr-section-inline-details {\n  grid-column: 2 / -1;\n}\n\n.xr-section-details {\n  display: none;\n  grid-column: 1 / -1;\n  margin-bottom: 5px;\n}\n\n.xr-section-summary-in:checked ~ .xr-section-details {\n  display: contents;\n}\n\n.xr-array-wrap {\n  grid-column: 1 / -1;\n  display: grid;\n  grid-template-columns: 20px auto;\n}\n\n.xr-array-wrap > label {\n  grid-column: 1;\n  vertical-align: top;\n}\n\n.xr-preview {\n  color: var(--xr-font-color3);\n}\n\n.xr-array-preview,\n.xr-array-data {\n  padding: 0 5px !important;\n  grid-column: 2;\n}\n\n.xr-array-data,\n.xr-array-in:checked ~ .xr-array-preview {\n  display: none;\n}\n\n.xr-array-in:checked ~ .xr-array-data,\n.xr-array-preview {\n  display: inline-block;\n}\n\n.xr-dim-list {\n  display: inline-block !important;\n  list-style: none;\n  padding: 0 !important;\n  margin: 0;\n}\n\n.xr-dim-list li {\n  display: inline-block;\n  padding: 0;\n  margin: 0;\n}\n\n.xr-dim-list:before {\n  content: '(';\n}\n\n.xr-dim-list:after {\n  content: ')';\n}\n\n.xr-dim-list li:not(:last-child):after {\n  content: ',';\n  padding-right: 5px;\n}\n\n.xr-has-index {\n  font-weight: bold;\n}\n\n.xr-var-list,\n.xr-var-item {\n  display: contents;\n}\n\n.xr-var-item > div,\n.xr-var-item label,\n.xr-var-item > .xr-var-name span {\n  background-color: var(--xr-background-color-row-even);\n  margin-bottom: 0;\n}\n\n.xr-var-item > .xr-var-name:hover span {\n  padding-right: 5px;\n}\n\n.xr-var-list > li:nth-child(odd) > div,\n.xr-var-list > li:nth-child(odd) > label,\n.xr-var-list > li:nth-child(odd) > .xr-var-name span {\n  background-color: var(--xr-background-color-row-odd);\n}\n\n.xr-var-name {\n  grid-column: 1;\n}\n\n.xr-var-dims {\n  grid-column: 2;\n}\n\n.xr-var-dtype {\n  grid-column: 3;\n  text-align: right;\n  color: var(--xr-font-color2);\n}\n\n.xr-var-preview {\n  grid-column: 4;\n}\n\n.xr-index-preview {\n  grid-column: 2 / 5;\n  color: var(--xr-font-color2);\n}\n\n.xr-var-name,\n.xr-var-dims,\n.xr-var-dtype,\n.xr-preview,\n.xr-attrs dt {\n  white-space: nowrap;\n  overflow: hidden;\n  text-overflow: ellipsis;\n  padding-right: 10px;\n}\n\n.xr-var-name:hover,\n.xr-var-dims:hover,\n.xr-var-dtype:hover,\n.xr-attrs dt:hover {\n  overflow: visible;\n  width: auto;\n  z-index: 1;\n}\n\n.xr-var-attrs,\n.xr-var-data,\n.xr-index-data {\n  display: none;\n  background-color: var(--xr-background-color) !important;\n  padding-bottom: 5px !important;\n}\n\n.xr-var-attrs-in:checked ~ .xr-var-attrs,\n.xr-var-data-in:checked ~ .xr-var-data,\n.xr-index-data-in:checked ~ .xr-index-data {\n  display: block;\n}\n\n.xr-var-data > table {\n  float: right;\n}\n\n.xr-var-name span,\n.xr-var-data,\n.xr-index-name div,\n.xr-index-data,\n.xr-attrs {\n  padding-left: 25px !important;\n}\n\n.xr-attrs,\n.xr-var-attrs,\n.xr-var-data,\n.xr-index-data {\n  grid-column: 1 / -1;\n}\n\ndl.xr-attrs {\n  padding: 0;\n  margin: 0;\n  display: grid;\n  grid-template-columns: 125px auto;\n}\n\n.xr-attrs dt,\n.xr-attrs dd {\n  padding: 0;\n  margin: 0;\n  float: left;\n  padding-right: 10px;\n  width: auto;\n}\n\n.xr-attrs dt {\n  font-weight: normal;\n  grid-column: 1;\n}\n\n.xr-attrs dt:hover span {\n  display: inline-block;\n  background: var(--xr-background-color);\n  padding-right: 10px;\n}\n\n.xr-attrs dd {\n  grid-column: 2;\n  white-space: pre-wrap;\n  word-break: break-all;\n}\n\n.xr-icon-database,\n.xr-icon-file-text2,\n.xr-no-icon {\n  display: inline-block;\n  vertical-align: middle;\n  width: 1em;\n  height: 1.5em !important;\n  stroke-width: 0;\n  stroke: currentColor;\n  fill: currentColor;\n}\n</style><pre class='xr-text-repr-fallback'>&lt;xarray.Dataset&gt;\nDimensions:               (station: 1, time: 5, maintenancetime: 1)\nCoordinates:\n  * station               (station) float64 1.0\n  * time                  (time) datetime64[ns] 2022-08-30T11:21:03 ... 2022-...\n  * maintenancetime       (maintenancetime) datetime64[ns] 2023-05-08T16:09:06\nData variables: (12/20)\n    ghi                   (time, station) float32 269.9 269.7 269.9 269.9 269.9\n    gti                   (time, station) float32 277.3 277.3 277.4 277.3 277.3\n    ta                    (time, station) float32 294.8 294.7 294.8 294.7 294.8\n    rh                    (time, station) float32 0.6263 0.6266 ... 0.6271 0.629\n    battery_voltage       (time, station) float32 6.445 6.446 6.45 6.448 6.458\n    ghi_min               (time, station) float32 269.9 268.5 269.9 269.9 269.9\n    ...                    ...\n    maintenance_flag_gti  (maintenancetime, station) float32 7.0\n    szen                  (time, station) float64 nan nan 42.51 42.51 42.51\n    sazi                  (time, station) float64 nan nan 182.9 182.9 182.9\n    esd                   (station) float64 1.01\n    qc_flag_ghi           (time, station) uint8 0 0 0 0 0\n    qc_flag_gti           (time, station) uint8 0 0 0 0 0\nAttributes: (12/31)\n    title:                     TROPOS pyranometer network (PyrNet) observations\n    institution:               Leibniz Institute for Tropospheric Research (T...\n    department:                Remote Sensing of Atmospheric Processes\n    department_team:           Clouds, Aerosol and Radiation\n    address:                   Permoser Str. 15, 04318 Leipzig, Germany\n    source:                    TROPOS pyranometer network (PyrNet)\n    ...                        ...\n    geospatial_lon_max:        11.885256869999996\n    geospatial_lon_units:      degE\n    time_coverage_start:       2022-08-30T11:21:03\n    time_coverage_end:         2022-08-30T11:21:07\n    time_coverage_duration:    P0DT0H0M4S\n    time_coverage_resolution:  P0DT0H0M1S</pre><div class='xr-wrap' style='display:none'><div class='xr-header'><div class='xr-obj-type'>xarray.Dataset</div></div><ul class='xr-sections'><li class='xr-section-item'><input id='section-d16405aa-a26a-48c3-bc9f-1dbd8f7bc42f' class='xr-section-summary-in' type='checkbox' disabled ><label for='section-d16405aa-a26a-48c3-bc9f-1dbd8f7bc42f' class='xr-section-summary'  title='Expand/collapse section'>Dimensions:</label><div class='xr-section-inline-details'><ul class='xr-dim-list'><li><span class='xr-has-index'>station</span>: 1</li><li><span class='xr-has-index'>time</span>: 5</li><li><span class='xr-has-index'>maintenancetime</span>: 1</li></ul></div><div class='xr-section-details'></div></li><li class='xr-section-item'><input id='section-c716f218-dbb5-4057-8379-0d826fb2ddd4' class='xr-section-summary-in' type='checkbox'  checked><label for='section-c716f218-dbb5-4057-8379-0d826fb2ddd4' class='xr-section-summary' >Coordinates: <span>(3)</span></label><div class='xr-section-inline-details'></div><div class='xr-section-details'><ul class='xr-var-list'><li class='xr-var-item'><div class='xr-var-name'><span class='xr-has-index'>station</span></div><div class='xr-var-dims'>(station)</div><div class='xr-var-dtype'>float64</div><div class='xr-var-preview xr-preview'>1.0</div><input id='attrs-48eb554c-cf0f-417a-9eb0-f88d1e35a761' class='xr-var-attrs-in' type='checkbox' disabled><label for='attrs-48eb554c-cf0f-417a-9eb0-f88d1e35a761' title='Show/Hide attributes'><svg class='icon xr-icon-file-text2'><use xlink:href='#icon-file-text2'></use></svg></label><input id='data-5976bbed-18b3-4321-b032-d742eb71cf3a' class='xr-var-data-in' type='checkbox'><label for='data-5976bbed-18b3-4321-b032-d742eb71cf3a' title='Show/Hide data repr'><svg class='icon xr-icon-database'><use xlink:href='#icon-database'></use></svg></label><div class='xr-var-attrs'><dl class='xr-attrs'></dl></div><div class='xr-var-data'><pre>array([1.])</pre></div></li><li class='xr-var-item'><div class='xr-var-name'><span class='xr-has-index'>time</span></div><div class='xr-var-dims'>(time)</div><div class='xr-var-dtype'>datetime64[ns]</div><div class='xr-var-preview xr-preview'>2022-08-30T11:21:03 ... 2022-08-...</div><input id='attrs-79a78949-1d88-4581-878a-424e8c5ffa16' class='xr-var-attrs-in' type='checkbox' disabled><label for='attrs-79a78949-1d88-4581-878a-424e8c5ffa16' title='Show/Hide attributes'><svg class='icon xr-icon-file-text2'><use xlink:href='#icon-file-text2'></use></svg></label><input id='data-f5ad475c-47de-439a-8df3-073d2df12695' class='xr-var-data-in' type='checkbox'><label for='data-f5ad475c-47de-439a-8df3-073d2df12695' title='Show/Hide data repr'><svg class='icon xr-icon-database'><use xlink:href='#icon-database'></use></svg></label><div class='xr-var-attrs'><dl class='xr-attrs'></dl></div><div class='xr-var-data'><pre>array([&#x27;2022-08-30T11:21:03.000000000&#x27;, &#x27;2022-08-30T11:21:04.000000000&#x27;,\n       &#x27;2022-08-30T11:21:05.000000000&#x27;, &#x27;2022-08-30T11:21:06.000000000&#x27;,\n       &#x27;2022-08-30T11:21:07.000000000&#x27;], dtype=&#x27;datetime64[ns]&#x27;)</pre></div></li><li class='xr-var-item'><div class='xr-var-name'><span class='xr-has-index'>maintenancetime</span></div><div class='xr-var-dims'>(maintenancetime)</div><div class='xr-var-dtype'>datetime64[ns]</div><div class='xr-var-preview xr-preview'>2023-05-08T16:09:06</div><input id='attrs-578b7a68-2262-4295-b980-67acc7819cb8' class='xr-var-attrs-in' type='checkbox' disabled><label for='attrs-578b7a68-2262-4295-b980-67acc7819cb8' title='Show/Hide attributes'><svg class='icon xr-icon-file-text2'><use xlink:href='#icon-file-text2'></use></svg></label><input id='data-484ba4ea-21e1-4afe-8dd6-f8dd328c7935' class='xr-var-data-in' type='checkbox'><label for='data-484ba4ea-21e1-4afe-8dd6-f8dd328c7935' title='Show/Hide data repr'><svg class='icon xr-icon-database'><use xlink:href='#icon-database'></use></svg></label><div class='xr-var-attrs'><dl class='xr-attrs'></dl></div><div class='xr-var-data'><pre>array([&#x27;2023-05-08T16:09:06.000000000&#x27;], dtype=&#x27;datetime64[ns]&#x27;)</pre></div></li></ul></div></li><li class='xr-section-item'><input id='section-a70671e6-7a6c-4583-a1d9-98655883c16a' class='xr-section-summary-in' type='checkbox'  ><label for='section-a70671e6-7a6c-4583-a1d9-98655883c16a' class='xr-section-summary' >Data variables: <span>(20)</span></label><div class='xr-section-inline-details'></div><div class='xr-section-details'><ul class='xr-var-list'><li class='xr-var-item'><div class='xr-var-name'><span>ghi</span></div><div class='xr-var-dims'>(time, station)</div><div class='xr-var-dtype'>float32</div><div class='xr-var-preview xr-preview'>269.9 269.7 269.9 269.9 269.9</div><input id='attrs-be626007-50a1-4a09-9945-35cf4dbe034f' class='xr-var-attrs-in' type='checkbox' ><label for='attrs-be626007-50a1-4a09-9945-35cf4dbe034f' title='Show/Hide attributes'><svg class='icon xr-icon-file-text2'><use xlink:href='#icon-file-text2'></use></svg></label><input id='data-27dc9118-4a49-4f1a-aa46-8ecde9d7bdf6' class='xr-var-data-in' type='checkbox'><label for='data-27dc9118-4a49-4f1a-aa46-8ecde9d7bdf6' title='Show/Hide data repr'><svg class='icon xr-icon-database'><use xlink:href='#icon-database'></use></svg></label><div class='xr-var-attrs'><dl class='xr-attrs'><dt><span>units :</span></dt><dd>W m-2</dd><dt><span>long_name :</span></dt><dd>downwelling shortwave flux</dd><dt><span>standard_name :</span></dt><dd>downwelling_shortwave_flux_in_air</dd><dt><span>valid_range :</span></dt><dd>[   0 1023]</dd><dt><span>serial :</span></dt><dd>S12128.001</dd><dt><span>calibration_factor :</span></dt><dd>7.73</dd></dl></div><div class='xr-var-data'><pre>array([[269.86047],\n       [269.72137],\n       [269.86047],\n       [269.86047],\n       [269.86047]], dtype=float32)</pre></div></li><li class='xr-var-item'><div class='xr-var-name'><span>gti</span></div><div class='xr-var-dims'>(time, station)</div><div class='xr-var-dtype'>float32</div><div class='xr-var-preview xr-preview'>277.3 277.3 277.4 277.3 277.3</div><input id='attrs-8d78057c-d329-43ac-849e-7ff4bd3f5fc7' class='xr-var-attrs-in' type='checkbox' ><label for='attrs-8d78057c-d329-43ac-849e-7ff4bd3f5fc7' title='Show/Hide attributes'><svg class='icon xr-icon-file-text2'><use xlink:href='#icon-file-text2'></use></svg></label><input id='data-8f2db6ab-7600-4fb2-ad8f-78cff062bdc8' class='xr-var-data-in' type='checkbox'><label for='data-8f2db6ab-7600-4fb2-ad8f-78cff062bdc8' title='Show/Hide data repr'><svg class='icon xr-icon-database'><use xlink:href='#icon-database'></use></svg></label><div class='xr-var-attrs'><dl class='xr-attrs'><dt><span>units :</span></dt><dd>W m-2</dd><dt><span>long_name :</span></dt><dd>downwelling shortwave flux measured on secondary platform, might be tilted</dd><dt><span>standard_name :</span></dt><dd>downwelling_shortwave_flux_in_air</dd><dt><span>valid_range :</span></dt><dd>[   0 1023]</dd><dt><span>hangle :</span></dt><dd>0.0</dd><dt><span>vangle :</span></dt><dd>0.0</dd><dt><span>serial :</span></dt><dd>S12137.049</dd><dt><span>calibration_factor :</span></dt><dd>6.98</dd></dl></div><div class='xr-var-data'><pre>array([[277.28995],\n       [277.28995],\n       [277.444  ],\n       [277.28995],\n       [277.28995]], dtype=float32)</pre></div></li><li class='xr-var-item'><div class='xr-var-name'><span>ta</span></div><div class='xr-var-dims'>(time, station)</div><div class='xr-var-dtype'>float32</div><div class='xr-var-preview xr-preview'>294.8 294.7 294.8 294.7 294.8</div><input id='attrs-02e54172-10e3-4df6-bda2-25695ff78216' class='xr-var-attrs-in' type='checkbox' ><label for='attrs-02e54172-10e3-4df6-bda2-25695ff78216' title='Show/Hide attributes'><svg class='icon xr-icon-file-text2'><use xlink:href='#icon-file-text2'></use></svg></label><input id='data-b3070675-5b63-4135-ac9d-30c61e182d23' class='xr-var-data-in' type='checkbox'><label for='data-b3070675-5b63-4135-ac9d-30c61e182d23' title='Show/Hide data repr'><svg class='icon xr-icon-database'><use xlink:href='#icon-database'></use></svg></label><div class='xr-var-attrs'><dl class='xr-attrs'><dt><span>units :</span></dt><dd>K</dd><dt><span>long_name :</span></dt><dd>air temperature</dd><dt><span>standard_name :</span></dt><dd>air_temperature</dd><dt><span>valid_range :</span></dt><dd>[  0 775]</dd></dl></div><div class='xr-var-data'><pre>array([[294.7758 ],\n       [294.74997],\n       [294.7887 ],\n       [294.74997],\n       [294.82742]], dtype=float32)</pre></div></li><li class='xr-var-item'><div class='xr-var-name'><span>rh</span></div><div class='xr-var-dims'>(time, station)</div><div class='xr-var-dtype'>float32</div><div class='xr-var-preview xr-preview'>0.6263 0.6266 0.6271 0.6271 0.629</div><input id='attrs-9f74be43-0de5-4d34-a1de-61f50f7f03d2' class='xr-var-attrs-in' type='checkbox' ><label for='attrs-9f74be43-0de5-4d34-a1de-61f50f7f03d2' title='Show/Hide attributes'><svg class='icon xr-icon-file-text2'><use xlink:href='#icon-file-text2'></use></svg></label><input id='data-45ddbe90-53a1-441f-8394-3b7338044654' class='xr-var-data-in' type='checkbox'><label for='data-45ddbe90-53a1-441f-8394-3b7338044654' title='Show/Hide data repr'><svg class='icon xr-icon-database'><use xlink:href='#icon-database'></use></svg></label><div class='xr-var-attrs'><dl class='xr-attrs'><dt><span>units :</span></dt><dd>1</dd><dt><span>long_name :</span></dt><dd>air relative humidity</dd><dt><span>standard_name :</span></dt><dd>relative_humidity</dd><dt><span>valid_range :</span></dt><dd>[  0 775]</dd></dl></div><div class='xr-var-data'><pre>array([[0.62632257],\n       [0.6265806 ],\n       [0.6270968 ],\n       [0.6270968 ],\n       [0.62903225]], dtype=float32)</pre></div></li><li class='xr-var-item'><div class='xr-var-name'><span>battery_voltage</span></div><div class='xr-var-dims'>(time, station)</div><div class='xr-var-dtype'>float32</div><div class='xr-var-preview xr-preview'>6.445 6.446 6.45 6.448 6.458</div><input id='attrs-8ecaca2d-882c-4806-8576-f88a9b06c0fb' class='xr-var-attrs-in' type='checkbox' ><label for='attrs-8ecaca2d-882c-4806-8576-f88a9b06c0fb' title='Show/Hide attributes'><svg class='icon xr-icon-file-text2'><use xlink:href='#icon-file-text2'></use></svg></label><input id='data-6ce22cb2-ba46-45b6-84fc-a4a61e8364af' class='xr-var-data-in' type='checkbox'><label for='data-6ce22cb2-ba46-45b6-84fc-a4a61e8364af' title='Show/Hide data repr'><svg class='icon xr-icon-database'><use xlink:href='#icon-database'></use></svg></label><div class='xr-var-attrs'><dl class='xr-attrs'><dt><span>units :</span></dt><dd>V</dd><dt><span>standard_name :</span></dt><dd>battery_voltage</dd><dt><span>valid_range :</span></dt><dd>[  0 992]</dd></dl></div><div class='xr-var-data'><pre>array([[6.4451613],\n       [6.445807 ],\n       [6.4496775],\n       [6.4477415],\n       [6.4580646]], dtype=float32)</pre></div></li><li class='xr-var-item'><div class='xr-var-name'><span>ghi_min</span></div><div class='xr-var-dims'>(time, station)</div><div class='xr-var-dtype'>float32</div><div class='xr-var-preview xr-preview'>269.9 268.5 269.9 269.9 269.9</div><input id='attrs-614a8206-90b6-4e68-aedd-e5120bb6e8ac' class='xr-var-attrs-in' type='checkbox' ><label for='attrs-614a8206-90b6-4e68-aedd-e5120bb6e8ac' title='Show/Hide attributes'><svg class='icon xr-icon-file-text2'><use xlink:href='#icon-file-text2'></use></svg></label><input id='data-c4c0a97a-314e-416b-b2df-381ff11c2f6a' class='xr-var-data-in' type='checkbox'><label for='data-c4c0a97a-314e-416b-b2df-381ff11c2f6a' title='Show/Hide data repr'><svg class='icon xr-icon-database'><use xlink:href='#icon-database'></use></svg></label><div class='xr-var-attrs'><dl class='xr-attrs'><dt><span>units :</span></dt><dd>W m-2</dd><dt><span>long_name :</span></dt><dd>downwelling shortwave flux</dd><dt><span>standard_name :</span></dt><dd>min_downwelling_shortwave_flux_in_air</dd><dt><span>valid_range :</span></dt><dd>[   0 1023]</dd><dt><span>serial :</span></dt><dd>S12128.001</dd><dt><span>calibration_factor :</span></dt><dd>7.73</dd></dl></div><div class='xr-var-data'><pre>array([[269.86047],\n       [268.46945],\n       [269.86047],\n       [269.86047],\n       [269.86047]], dtype=float32)</pre></div></li><li class='xr-var-item'><div class='xr-var-name'><span>gti_min</span></div><div class='xr-var-dims'>(time, station)</div><div class='xr-var-dtype'>float32</div><div class='xr-var-preview xr-preview'>277.3 275.7 275.7 277.3 277.3</div><input id='attrs-9094bad7-f92c-4b5b-a692-0f4cb75663e1' class='xr-var-attrs-in' type='checkbox' ><label for='attrs-9094bad7-f92c-4b5b-a692-0f4cb75663e1' title='Show/Hide attributes'><svg class='icon xr-icon-file-text2'><use xlink:href='#icon-file-text2'></use></svg></label><input id='data-cfb2bd66-ff36-4bf5-8ede-e4a56f26ff14' class='xr-var-data-in' type='checkbox'><label for='data-cfb2bd66-ff36-4bf5-8ede-e4a56f26ff14' title='Show/Hide data repr'><svg class='icon xr-icon-database'><use xlink:href='#icon-database'></use></svg></label><div class='xr-var-attrs'><dl class='xr-attrs'><dt><span>units :</span></dt><dd>W m-2</dd><dt><span>long_name :</span></dt><dd>downwelling shortwave flux measured on secondary platform, might be tilted</dd><dt><span>standard_name :</span></dt><dd>min_downwelling_shortwave_flux_in_air</dd><dt><span>valid_range :</span></dt><dd>[   0 1023]</dd><dt><span>hangle :</span></dt><dd>0.0</dd><dt><span>vangle :</span></dt><dd>0.0</dd><dt><span>serial :</span></dt><dd>S12137.049</dd><dt><span>calibration_factor :</span></dt><dd>6.98</dd></dl></div><div class='xr-var-data'><pre>array([[277.28995],\n       [275.74945],\n       [275.74945],\n       [277.28995],\n       [277.28995]], dtype=float32)</pre></div></li><li class='xr-var-item'><div class='xr-var-name'><span>ghi_max</span></div><div class='xr-var-dims'>(time, station)</div><div class='xr-var-dtype'>float32</div><div class='xr-var-preview xr-preview'>269.9 269.9 269.9 269.9 269.9</div><input id='attrs-50238378-107d-40fd-93bc-8dd0ea93ae1b' class='xr-var-attrs-in' type='checkbox' ><label for='attrs-50238378-107d-40fd-93bc-8dd0ea93ae1b' title='Show/Hide attributes'><svg class='icon xr-icon-file-text2'><use xlink:href='#icon-file-text2'></use></svg></label><input id='data-eb83bcc9-1916-4315-bff0-eda937da57b2' class='xr-var-data-in' type='checkbox'><label for='data-eb83bcc9-1916-4315-bff0-eda937da57b2' title='Show/Hide data repr'><svg class='icon xr-icon-database'><use xlink:href='#icon-database'></use></svg></label><div class='xr-var-attrs'><dl class='xr-attrs'><dt><span>units :</span></dt><dd>W m-2</dd><dt><span>long_name :</span></dt><dd>downwelling shortwave flux</dd><dt><span>standard_name :</span></dt><dd>max_downwelling_shortwave_flux_in_air</dd><dt><span>valid_range :</span></dt><dd>[   0 1023]</dd><dt><span>serial :</span></dt><dd>S12128.001</dd><dt><span>calibration_factor :</span></dt><dd>7.73</dd></dl></div><div class='xr-var-data'><pre>array([[269.86047],\n       [269.86047],\n       [269.86047],\n       [269.86047],\n       [269.86047]], dtype=float32)</pre></div></li><li class='xr-var-item'><div class='xr-var-name'><span>gti_max</span></div><div class='xr-var-dims'>(time, station)</div><div class='xr-var-dtype'>float32</div><div class='xr-var-preview xr-preview'>277.3 278.8 278.8 277.3 277.3</div><input id='attrs-bda5131b-d742-4475-85d8-dc94ebe0bb00' class='xr-var-attrs-in' type='checkbox' ><label for='attrs-bda5131b-d742-4475-85d8-dc94ebe0bb00' title='Show/Hide attributes'><svg class='icon xr-icon-file-text2'><use xlink:href='#icon-file-text2'></use></svg></label><input id='data-101babc7-3aaf-4283-97fb-9bdbf2806a30' class='xr-var-data-in' type='checkbox'><label for='data-101babc7-3aaf-4283-97fb-9bdbf2806a30' title='Show/Hide data repr'><svg class='icon xr-icon-database'><use xlink:href='#icon-database'></use></svg></label><div class='xr-var-attrs'><dl class='xr-attrs'><dt><span>units :</span></dt><dd>W m-2</dd><dt><span>long_name :</span></dt><dd>downwelling shortwave flux measured on secondary platform, might be tilted</dd><dt><span>standard_name :</span></dt><dd>max_downwelling_shortwave_flux_in_air</dd><dt><span>valid_range :</span></dt><dd>[   0 1023]</dd><dt><span>hangle :</span></dt><dd>0.0</dd><dt><span>vangle :</span></dt><dd>0.0</dd><dt><span>serial :</span></dt><dd>S12137.049</dd><dt><span>calibration_factor :</span></dt><dd>6.98</dd></dl></div><div class='xr-var-data'><pre>array([[277.28995],\n       [278.83044],\n       [278.83044],\n       [277.28995],\n       [277.28995]], dtype=float32)</pre></div></li><li class='xr-var-item'><div class='xr-var-name'><span>ghi_std</span></div><div class='xr-var-dims'>(time, station)</div><div class='xr-var-dtype'>float64</div><div class='xr-var-preview xr-preview'>0.0 0.4399 0.0 0.0 0.0</div><input id='attrs-89b8e521-e620-409b-8e9b-e067d5be5815' class='xr-var-attrs-in' type='checkbox' ><label for='attrs-89b8e521-e620-409b-8e9b-e067d5be5815' title='Show/Hide attributes'><svg class='icon xr-icon-file-text2'><use xlink:href='#icon-file-text2'></use></svg></label><input id='data-7b445f69-5536-4373-b191-6c4082da53ad' class='xr-var-data-in' type='checkbox'><label for='data-7b445f69-5536-4373-b191-6c4082da53ad' title='Show/Hide data repr'><svg class='icon xr-icon-database'><use xlink:href='#icon-database'></use></svg></label><div class='xr-var-attrs'><dl class='xr-attrs'><dt><span>units :</span></dt><dd>W m-2</dd><dt><span>long_name :</span></dt><dd>downwelling shortwave flux</dd><dt><span>standard_name :</span></dt><dd>std_downwelling_shortwave_flux_in_air</dd><dt><span>valid_range :</span></dt><dd>[   0 1023]</dd><dt><span>serial :</span></dt><dd>S12128.001</dd><dt><span>calibration_factor :</span></dt><dd>7.73</dd></dl></div><div class='xr-var-data'><pre>array([[0.        ],\n       [0.43987969],\n       [0.        ],\n       [0.        ],\n       [0.        ]])</pre></div></li><li class='xr-var-item'><div class='xr-var-name'><span>gti_std</span></div><div class='xr-var-dims'>(time, station)</div><div class='xr-var-dtype'>float64</div><div class='xr-var-preview xr-preview'>0.0 0.7262 0.8745 0.0 0.0</div><input id='attrs-5f782cf1-b37c-485b-9839-c9a002eb304b' class='xr-var-attrs-in' type='checkbox' ><label for='attrs-5f782cf1-b37c-485b-9839-c9a002eb304b' title='Show/Hide attributes'><svg class='icon xr-icon-file-text2'><use xlink:href='#icon-file-text2'></use></svg></label><input id='data-012cbe7f-5aec-4f36-90f1-86a94466c42e' class='xr-var-data-in' type='checkbox'><label for='data-012cbe7f-5aec-4f36-90f1-86a94466c42e' title='Show/Hide data repr'><svg class='icon xr-icon-database'><use xlink:href='#icon-database'></use></svg></label><div class='xr-var-attrs'><dl class='xr-attrs'><dt><span>units :</span></dt><dd>W m-2</dd><dt><span>long_name :</span></dt><dd>downwelling shortwave flux measured on secondary platform, might be tilted</dd><dt><span>standard_name :</span></dt><dd>std_downwelling_shortwave_flux_in_air</dd><dt><span>valid_range :</span></dt><dd>[   0 1023]</dd><dt><span>hangle :</span></dt><dd>0.0</dd><dt><span>vangle :</span></dt><dd>0.0</dd><dt><span>serial :</span></dt><dd>S12137.049</dd><dt><span>calibration_factor :</span></dt><dd>6.98</dd></dl></div><div class='xr-var-data'><pre>array([[0.        ],\n       [0.72619717],\n       [0.87445719],\n       [0.        ],\n       [0.        ]])</pre></div></li><li class='xr-var-item'><div class='xr-var-name'><span>lat</span></div><div class='xr-var-dims'>(time, station)</div><div class='xr-var-dtype'>float64</div><div class='xr-var-preview xr-preview'>nan nan 51.39 51.39 51.39</div><input id='attrs-8c68f1e4-1e2d-4bde-a705-07f55d5e7e2a' class='xr-var-attrs-in' type='checkbox' ><label for='attrs-8c68f1e4-1e2d-4bde-a705-07f55d5e7e2a' title='Show/Hide attributes'><svg class='icon xr-icon-file-text2'><use xlink:href='#icon-file-text2'></use></svg></label><input id='data-fee6a44e-26ce-4018-8d24-6a2b975c0238' class='xr-var-data-in' type='checkbox'><label for='data-fee6a44e-26ce-4018-8d24-6a2b975c0238' title='Show/Hide data repr'><svg class='icon xr-icon-database'><use xlink:href='#icon-database'></use></svg></label><div class='xr-var-attrs'><dl class='xr-attrs'><dt><span>standard_name :</span></dt><dd>latitude</dd><dt><span>units :</span></dt><dd>degree_north</dd><dt><span>valid_range :</span></dt><dd>[        0 180000000]</dd></dl></div><div class='xr-var-data'><pre>array([[        nan],\n       [        nan],\n       [51.390212  ],\n       [51.39021103],\n       [51.39021   ]])</pre></div></li><li class='xr-var-item'><div class='xr-var-name'><span>lon</span></div><div class='xr-var-dims'>(time, station)</div><div class='xr-var-dtype'>float64</div><div class='xr-var-preview xr-preview'>nan nan 11.89 11.89 11.89</div><input id='attrs-b2473a5c-4a5d-40e5-b1f8-874378c9d7cd' class='xr-var-attrs-in' type='checkbox' ><label for='attrs-b2473a5c-4a5d-40e5-b1f8-874378c9d7cd' title='Show/Hide attributes'><svg class='icon xr-icon-file-text2'><use xlink:href='#icon-file-text2'></use></svg></label><input id='data-ce925917-5a96-46ac-9582-978c6a0d2240' class='xr-var-data-in' type='checkbox'><label for='data-ce925917-5a96-46ac-9582-978c6a0d2240' title='Show/Hide data repr'><svg class='icon xr-icon-database'><use xlink:href='#icon-database'></use></svg></label><div class='xr-var-attrs'><dl class='xr-attrs'><dt><span>standard_name :</span></dt><dd>longitude</dd><dt><span>units :</span></dt><dd>degree_east</dd><dt><span>valid_range :</span></dt><dd>[        0 360000000]</dd></dl></div><div class='xr-var-data'><pre>array([[        nan],\n       [        nan],\n       [11.88525687],\n       [11.88525458],\n       [11.885252  ]])</pre></div></li><li class='xr-var-item'><div class='xr-var-name'><span>maintenance_flag_ghi</span></div><div class='xr-var-dims'>(maintenancetime, station)</div><div class='xr-var-dtype'>float32</div><div class='xr-var-preview xr-preview'>9.0</div><input id='attrs-5cd9c167-9d2f-45a5-ab15-cbfd7d5e00aa' class='xr-var-attrs-in' type='checkbox' ><label for='attrs-5cd9c167-9d2f-45a5-ab15-cbfd7d5e00aa' title='Show/Hide attributes'><svg class='icon xr-icon-file-text2'><use xlink:href='#icon-file-text2'></use></svg></label><input id='data-66611f77-9ca7-4bec-8b62-0f624a13d082' class='xr-var-data-in' type='checkbox'><label for='data-66611f77-9ca7-4bec-8b62-0f624a13d082' title='Show/Hide data repr'><svg class='icon xr-icon-database'><use xlink:href='#icon-database'></use></svg></label><div class='xr-var-attrs'><dl class='xr-attrs'><dt><span>standard_name :</span></dt><dd>quality_flag</dd><dt><span>long_name :</span></dt><dd>Maintenance quality control flags for main pyranometer</dd><dt><span>note :</span></dt><dd>Soiling describes subjectively the coverage of the pyranometer dome with dirt. The level flag is problematic if the bubble of the spirit level touches the reference ring, and bad if it is outside.</dd><dt><span>valid_range :</span></dt><dd>[ 0 11]</dd><dt><span>flag_masks :</span></dt><dd>[ 3  3  3 12 12]</dd><dt><span>flag_values :</span></dt><dd>[1 2 3 4 8]</dd><dt><span>flag_meanings :</span></dt><dd>soiling_light soiling_moderate soiling_heavy level_problematic level_bad</dd><dt><span>note_general :</span></dt><dd>222</dd><dt><span>note_clean :</span></dt><dd>testing notes</dd><dt><span>note_level :</span></dt><dd>test</dd></dl></div><div class='xr-var-data'><pre>array([[9.]], dtype=float32)</pre></div></li><li class='xr-var-item'><div class='xr-var-name'><span>maintenance_flag_gti</span></div><div class='xr-var-dims'>(maintenancetime, station)</div><div class='xr-var-dtype'>float32</div><div class='xr-var-preview xr-preview'>7.0</div><input id='attrs-88b333b1-2cba-4e65-9816-70443c80997c' class='xr-var-attrs-in' type='checkbox' ><label for='attrs-88b333b1-2cba-4e65-9816-70443c80997c' title='Show/Hide attributes'><svg class='icon xr-icon-file-text2'><use xlink:href='#icon-file-text2'></use></svg></label><input id='data-7d5de1ef-e702-4051-8091-af5a09ac92a2' class='xr-var-data-in' type='checkbox'><label for='data-7d5de1ef-e702-4051-8091-af5a09ac92a2' title='Show/Hide data repr'><svg class='icon xr-icon-database'><use xlink:href='#icon-database'></use></svg></label><div class='xr-var-attrs'><dl class='xr-attrs'><dt><span>standard_name :</span></dt><dd>quality_flag</dd><dt><span>long_name :</span></dt><dd>Maintenance quality control flags for secondary pyranometer</dd><dt><span>note :</span></dt><dd>Soiling describes subjectively the coverage of the pyranometer dome with dirt. The level flag is problematic if the bubble of the spirit level touches the reference ring, and bad if it is outside.</dd><dt><span>valid_range :</span></dt><dd>[ 0 11]</dd><dt><span>flag_masks :</span></dt><dd>[ 3  3  3 12 12]</dd><dt><span>flag_values :</span></dt><dd>[1 2 3 4 8]</dd><dt><span>flag_meanings :</span></dt><dd>soiling_light soiling_moderate soiling_heavy level_problematic level_bad</dd><dt><span>note_general :</span></dt><dd>222</dd><dt><span>note_clean :</span></dt><dd></dd><dt><span>note_level :</span></dt><dd></dd></dl></div><div class='xr-var-data'><pre>array([[7.]], dtype=float32)</pre></div></li><li class='xr-var-item'><div class='xr-var-name'><span>szen</span></div><div class='xr-var-dims'>(time, station)</div><div class='xr-var-dtype'>float64</div><div class='xr-var-preview xr-preview'>nan nan 42.51 42.51 42.51</div><input id='attrs-2b6d010b-05d0-47dd-9827-1f90ad691954' class='xr-var-attrs-in' type='checkbox' ><label for='attrs-2b6d010b-05d0-47dd-9827-1f90ad691954' title='Show/Hide attributes'><svg class='icon xr-icon-file-text2'><use xlink:href='#icon-file-text2'></use></svg></label><input id='data-0ca56024-3545-4595-b63b-b560b2d179ec' class='xr-var-data-in' type='checkbox'><label for='data-0ca56024-3545-4595-b63b-b560b2d179ec' title='Show/Hide data repr'><svg class='icon xr-icon-database'><use xlink:href='#icon-database'></use></svg></label><div class='xr-var-attrs'><dl class='xr-attrs'><dt><span>standard_name :</span></dt><dd>solar_zenith_angle</dd><dt><span>units :</span></dt><dd>degree</dd><dt><span>valid_range :</span></dt><dd>[0, 36000]</dd></dl></div><div class='xr-var-data'><pre>array([[        nan],\n       [        nan],\n       [42.5118597 ],\n       [42.51199538],\n       [42.51213126]])</pre></div></li><li class='xr-var-item'><div class='xr-var-name'><span>sazi</span></div><div class='xr-var-dims'>(time, station)</div><div class='xr-var-dtype'>float64</div><div class='xr-var-preview xr-preview'>nan nan 182.9 182.9 182.9</div><input id='attrs-1fa24714-a691-4d47-98e0-5f36c785d3cc' class='xr-var-attrs-in' type='checkbox' ><label for='attrs-1fa24714-a691-4d47-98e0-5f36c785d3cc' title='Show/Hide attributes'><svg class='icon xr-icon-file-text2'><use xlink:href='#icon-file-text2'></use></svg></label><input id='data-17bfedad-4305-4a8b-9609-7faa07470a97' class='xr-var-data-in' type='checkbox'><label for='data-17bfedad-4305-4a8b-9609-7faa07470a97' title='Show/Hide data repr'><svg class='icon xr-icon-database'><use xlink:href='#icon-database'></use></svg></label><div class='xr-var-attrs'><dl class='xr-attrs'><dt><span>standard_name :</span></dt><dd>solar_azimuth_angle</dd><dt><span>units :</span></dt><dd>degree</dd><dt><span>valid_range :</span></dt><dd>[0, 36000]</dd></dl></div><div class='xr-var-data'><pre>array([[         nan],\n       [         nan],\n       [182.91893682],\n       [182.92502312],\n       [182.93110895]])</pre></div></li><li class='xr-var-item'><div class='xr-var-name'><span>esd</span></div><div class='xr-var-dims'>(station)</div><div class='xr-var-dtype'>float64</div><div class='xr-var-preview xr-preview'>1.01</div><input id='attrs-853dd5da-a76c-428d-8737-4fe681a92fff' class='xr-var-attrs-in' type='checkbox' ><label for='attrs-853dd5da-a76c-428d-8737-4fe681a92fff' title='Show/Hide attributes'><svg class='icon xr-icon-file-text2'><use xlink:href='#icon-file-text2'></use></svg></label><input id='data-8d23bfb7-4ee2-411c-8e70-c48c4a459e18' class='xr-var-data-in' type='checkbox'><label for='data-8d23bfb7-4ee2-411c-8e70-c48c4a459e18' title='Show/Hide data repr'><svg class='icon xr-icon-database'><use xlink:href='#icon-database'></use></svg></label><div class='xr-var-attrs'><dl class='xr-attrs'><dt><span>standard_name :</span></dt><dd>earth_sun_distance</dd><dt><span>units :</span></dt><dd>AU</dd><dt><span>valid_range :</span></dt><dd>[0, 40000]</dd></dl></div><div class='xr-var-data'><pre>array([1.00959973])</pre></div></li><li class='xr-var-item'><div class='xr-var-name'><span>qc_flag_ghi</span></div><div class='xr-var-dims'>(time, station)</div><div class='xr-var-dtype'>uint8</div><div class='xr-var-preview xr-preview'>0 0 0 0 0</div><input id='attrs-be690411-df89-4f25-93b9-ac4b7b24622e' class='xr-var-attrs-in' type='checkbox' ><label for='attrs-be690411-df89-4f25-93b9-ac4b7b24622e' title='Show/Hide attributes'><svg class='icon xr-icon-file-text2'><use xlink:href='#icon-file-text2'></use></svg></label><input id='data-632525a1-65b9-4d6c-91b5-25b33ab84f69' class='xr-var-data-in' type='checkbox'><label for='data-632525a1-65b9-4d6c-91b5-25b33ab84f69' title='Show/Hide data repr'><svg class='icon xr-icon-database'><use xlink:href='#icon-database'></use></svg></label><div class='xr-var-attrs'><dl class='xr-attrs'><dt><span>standard_name :</span></dt><dd>quality_flag</dd><dt><span>valid_range :</span></dt><dd>[0, 127]</dd><dt><span>serial :</span></dt><dd>S12128.001</dd><dt><span>calibration_factor :</span></dt><dd>7.73</dd><dt><span>ancillary_variables :</span></dt><dd>ghi</dd><dt><span>flag_masks :</span></dt><dd>[1, 2, 4, 8, 16, 32, 64]</dd><dt><span>flag_values :</span></dt><dd>[1, 2, 4, 8, 16, 32, 64]</dd><dt><span>flag_meanings :</span></dt><dd>below_physical_limit above_physical_limit below_rare_limit above_rare_limit comparison_to_low comparison_to_high quality_control_failed</dd></dl></div><div class='xr-var-data'><pre>array([[0],\n       [0],\n       [0],\n       [0],\n       [0]], dtype=uint8)</pre></div></li><li class='xr-var-item'><div class='xr-var-name'><span>qc_flag_gti</span></div><div class='xr-var-dims'>(time, station)</div><div class='xr-var-dtype'>uint8</div><div class='xr-var-preview xr-preview'>0 0 0 0 0</div><input id='attrs-0b7464c8-f5ce-4e0a-82d1-ca23da560c82' class='xr-var-attrs-in' type='checkbox' ><label for='attrs-0b7464c8-f5ce-4e0a-82d1-ca23da560c82' title='Show/Hide attributes'><svg class='icon xr-icon-file-text2'><use xlink:href='#icon-file-text2'></use></svg></label><input id='data-afe94a34-76bd-47ed-8021-467efda0eaf5' class='xr-var-data-in' type='checkbox'><label for='data-afe94a34-76bd-47ed-8021-467efda0eaf5' title='Show/Hide data repr'><svg class='icon xr-icon-database'><use xlink:href='#icon-database'></use></svg></label><div class='xr-var-attrs'><dl class='xr-attrs'><dt><span>standard_name :</span></dt><dd>quality_flag</dd><dt><span>valid_range :</span></dt><dd>[0, 127]</dd><dt><span>hangle :</span></dt><dd>0.0</dd><dt><span>vangle :</span></dt><dd>0.0</dd><dt><span>serial :</span></dt><dd>S12137.049</dd><dt><span>calibration_factor :</span></dt><dd>6.98</dd><dt><span>ancillary_variables :</span></dt><dd>gti</dd><dt><span>flag_masks :</span></dt><dd>[1, 2, 4, 8, 16, 32, 64]</dd><dt><span>flag_values :</span></dt><dd>[1, 2, 4, 8, 16, 32, 64]</dd><dt><span>flag_meanings :</span></dt><dd>below_physical_limit above_physical_limit below_rare_limit above_rare_limit comparison_to_low comparison_to_high quality_control_failed</dd></dl></div><div class='xr-var-data'><pre>array([[0],\n       [0],\n       [0],\n       [0],\n       [0]], dtype=uint8)</pre></div></li></ul></div></li><li class='xr-section-item'><input id='section-524853e6-5869-4c70-a31e-37185c9a2362' class='xr-section-summary-in' type='checkbox'  ><label for='section-524853e6-5869-4c70-a31e-37185c9a2362' class='xr-section-summary' >Indexes: <span>(3)</span></label><div class='xr-section-inline-details'></div><div class='xr-section-details'><ul class='xr-var-list'><li class='xr-var-item'><div class='xr-index-name'><div>station</div></div><div class='xr-index-preview'>PandasIndex</div><div></div><input id='index-204ca6f6-47e6-43cc-9eee-8c2f7e77c150' class='xr-index-data-in' type='checkbox'/><label for='index-204ca6f6-47e6-43cc-9eee-8c2f7e77c150' title='Show/Hide index repr'><svg class='icon xr-icon-database'><use xlink:href='#icon-database'></use></svg></label><div class='xr-index-data'><pre>PandasIndex(Float64Index([1.0], dtype=&#x27;float64&#x27;, name=&#x27;station&#x27;))</pre></div></li><li class='xr-var-item'><div class='xr-index-name'><div>time</div></div><div class='xr-index-preview'>PandasIndex</div><div></div><input id='index-a140a1e8-c1af-48ad-89d8-d5fec36371b8' class='xr-index-data-in' type='checkbox'/><label for='index-a140a1e8-c1af-48ad-89d8-d5fec36371b8' title='Show/Hide index repr'><svg class='icon xr-icon-database'><use xlink:href='#icon-database'></use></svg></label><div class='xr-index-data'><pre>PandasIndex(DatetimeIndex([&#x27;2022-08-30 11:21:03&#x27;, &#x27;2022-08-30 11:21:04&#x27;,\n               &#x27;2022-08-30 11:21:05&#x27;, &#x27;2022-08-30 11:21:06&#x27;,\n               &#x27;2022-08-30 11:21:07&#x27;],\n              dtype=&#x27;datetime64[ns]&#x27;, name=&#x27;time&#x27;, freq=&#x27;S&#x27;))</pre></div></li><li class='xr-var-item'><div class='xr-index-name'><div>maintenancetime</div></div><div class='xr-index-preview'>PandasIndex</div><div></div><input id='index-cf820307-1c07-4cf4-a24c-2734dbe14e5c' class='xr-index-data-in' type='checkbox'/><label for='index-cf820307-1c07-4cf4-a24c-2734dbe14e5c' title='Show/Hide index repr'><svg class='icon xr-icon-database'><use xlink:href='#icon-database'></use></svg></label><div class='xr-index-data'><pre>PandasIndex(DatetimeIndex([&#x27;2023-05-08 16:09:06&#x27;], dtype=&#x27;datetime64[ns]&#x27;, name=&#x27;maintenancetime&#x27;, freq=None))</pre></div></li></ul></div></li><li class='xr-section-item'><input id='section-f5bd6372-c662-4a55-9e2b-3fe693d827c7' class='xr-section-summary-in' type='checkbox'  ><label for='section-f5bd6372-c662-4a55-9e2b-3fe693d827c7' class='xr-section-summary' >Attributes: <span>(31)</span></label><div class='xr-section-inline-details'></div><div class='xr-section-details'><dl class='xr-attrs'><dt><span>title :</span></dt><dd>TROPOS pyranometer network (PyrNet) observations</dd><dt><span>institution :</span></dt><dd>Leibniz Institute for Tropospheric Research (TROPOS)</dd><dt><span>department :</span></dt><dd>Remote Sensing of Atmospheric Processes</dd><dt><span>department_team :</span></dt><dd>Clouds, Aerosol and Radiation</dd><dt><span>address :</span></dt><dd>Permoser Str. 15, 04318 Leipzig, Germany</dd><dt><span>source :</span></dt><dd>TROPOS pyranometer network (PyrNet)</dd><dt><span>contact_person :</span></dt><dd>Andreas Macke and the clouds, aerosol and radiation team of the remote sensing department, mailto:andreas.macke@tropos.de</dd><dt><span>contributor_name :</span></dt><dd></dd><dt><span>contributor_role :</span></dt><dd></dd><dt><span>authors_software :</span></dt><dd>Hartwig Deneke, Jonas Witthuhn, mailto:deneke@tropos.de</dd><dt><span>creator_name :</span></dt><dd></dd><dt><span>project :</span></dt><dd></dd><dt><span>references :</span></dt><dd>https://doi.org/10.5194/amt-9-1153-2016</dd><dt><span>standard_name_vocabulary :</span></dt><dd>CF Standard Name Table v81</dd><dt><span>conventions :</span></dt><dd>CF-1.10, ACDD-1.3</dd><dt><span>license :</span></dt><dd>CC-BY-SA 3.0</dd><dt><span>TESTNOTE :</span></dt><dd>This is a test note.</dd><dt><span>processing_level :</span></dt><dd>l1b</dd><dt><span>product_version :</span></dt><dd>0.1.10+28.g175ed10.dirty</dd><dt><span>history :</span></dt><dd>2024-02-12T12:45:01: Generated level l1a  by pyrnet version 0.1.10+28.g175ed10.dirty; 2024-02-12T12:45:02: Generated level l1b  by pyrnet version 0.1.10+28.g175ed10.dirty; </dd><dt><span>date_created :</span></dt><dd>2024-02-12T12:45:02</dd><dt><span>geospatial_lat_min :</span></dt><dd>51.390209999999996</dd><dt><span>geospatial_lat_max :</span></dt><dd>51.39021199999999</dd><dt><span>geospatial_lat_units :</span></dt><dd>degN</dd><dt><span>geospatial_lon_min :</span></dt><dd>11.88525199999998</dd><dt><span>geospatial_lon_max :</span></dt><dd>11.885256869999996</dd><dt><span>geospatial_lon_units :</span></dt><dd>degE</dd><dt><span>time_coverage_start :</span></dt><dd>2022-08-30T11:21:03</dd><dt><span>time_coverage_end :</span></dt><dd>2022-08-30T11:21:07</dd><dt><span>time_coverage_duration :</span></dt><dd>P0DT0H0M4S</dd><dt><span>time_coverage_resolution :</span></dt><dd>P0DT0H0M1S</dd></dl></div></li></ul></div></div>"
     },
     "execution_count": 35,
     "metadata": {},
     "output_type": "execute_result"
    }
   ],
   "source": [
    "#|dropcode\n",
    "#|dropout\n",
    "# add global coverage attributes\n",
    "ds_l1b = update_coverage_meta(ds_l1b, timevar=\"time\")\n",
    "\n",
    "ds_l1b.attrs[\"processing_level\"] = 'l1b'\n",
    "now = pd.to_datetime(np.datetime64(\"now\"))\n",
    "ds_l1b.attrs[\"history\"] = ds_l1b.history + f\"{now.isoformat()}: Generated level l1b  by pyrnet version {pyrnet_version}; \"\n",
    "\n",
    "ds_l1b"
   ],
   "metadata": {
    "collapsed": false,
    "ExecuteTime": {
     "end_time": "2024-01-30T15:04:17.083888700Z",
     "start_time": "2024-01-30T15:04:16.468049700Z"
    }
   }
  },
  {
   "cell_type": "code",
   "execution_count": 35,
   "outputs": [],
   "source": [
    "#|hide\n",
    "# dsp = ds_l1b.sel(time=\"2019-07-15\")\n",
    "# plt.figure()\n",
    "# plt.plot(dsp.time, dsp.ghi)\n",
    "# plt.grid()"
   ],
   "metadata": {
    "collapsed": false,
    "ExecuteTime": {
     "end_time": "2024-01-30T15:04:17.084889800Z",
     "start_time": "2024-01-30T15:04:16.544547800Z"
    }
   }
  },
  {
   "cell_type": "code",
   "execution_count": 36,
   "outputs": [],
   "source": [
    "#|hide\n",
    "# ds_l1b.to_netcdf(\"../../testnb/to_l1b_output.nc\",\n",
    "#                  encoding={'time':{'dtype':'float64'}})"
   ],
   "metadata": {
    "collapsed": false,
    "ExecuteTime": {
     "end_time": "2024-01-30T15:04:17.085690700Z",
     "start_time": "2024-01-30T15:04:16.566890900Z"
    }
   }
  },
  {
   "cell_type": "code",
   "execution_count": 37,
   "outputs": [],
   "source": [
    "#|hide\n",
    "# dsp = xr.load_dataset(\"../../testnb/to_l1b_output.nc\").sel(time=\"2019-07-15\")\n",
    "# plt.figure()\n",
    "# plt.plot(dsp.time, dsp.ghi)\n",
    "# plt.grid()"
   ],
   "metadata": {
    "collapsed": false,
    "ExecuteTime": {
     "end_time": "2024-01-30T15:04:17.096674100Z",
     "start_time": "2024-01-30T15:04:16.582575200Z"
    }
   }
  },
  {
   "cell_type": "markdown",
   "source": [
    "## to_l1b function"
   ],
   "metadata": {
    "collapsed": false
   }
  },
  {
   "cell_type": "code",
   "execution_count": 38,
   "outputs": [],
   "source": [
    "#|export\n",
    "#|dropcode\n",
    "def to_l1b(\n",
    "        fname: str,\n",
    "        *,\n",
    "        config: dict | None = None,\n",
    "        global_attrs: dict | None = None,\n",
    "        check_adc_sync: bool = True\n",
    ") -> xr.Dataset|None:\n",
    "\n",
    "    config = get_config(config)\n",
    "    gattrs, vattrs, vencode = get_cfmeta(config)\n",
    "\n",
    "    if global_attrs is not None:\n",
    "        gattrs.update(global_attrs)\n",
    "\n",
    "    # 1. Load l1a data\n",
    "    ds_l1a = xr.open_dataset(fname)\n",
    "    # check correct file\n",
    "    if ds_l1a.processing_level != \"l1a\":\n",
    "        logger.warning(f\"{fname} is not a l1a file. Skip.\")\n",
    "        return None\n",
    "\n",
    "    # 2. Sync GPS to ADC time\n",
    "    adctime = pyrnet.logger.sync_adc_time(\n",
    "        adctime = ds_l1a.adctime.values,\n",
    "        gpstime = ds_l1a.gpstime.values,\n",
    "        iadc = ds_l1a.iadc.squeeze().values.astype(int),\n",
    "        check_results = check_adc_sync\n",
    "    )\n",
    "    \n",
    "    if adctime is None:\n",
    "        logger.warning(f\"Could not fit GPS to ADC time for file {fname}. Skip.\")\n",
    "        return None\n",
    "\n",
    "    # 3. Create new dataset (l1b)\n",
    "    ds_l1b = ds_l1a.drop_dims('gpstime')\n",
    "    ds_l1b = ds_l1b.drop_vars(['maintenance_flag_ghi','maintenance_flag_gti']) # keep only time dependent variables\n",
    "    ds_l1b = ds_l1b.assign({'time': ('adctime', adctime)})\n",
    "    ds_l1b = ds_l1b.swap_dims({\"adctime\":\"time\"})\n",
    "    ds_l1b = ds_l1b.drop_vars(\"adctime\")\n",
    "\n",
    "    ds_l1b[\"time\"].encoding.update({\n",
    "        \"dtype\": 'float64',\n",
    "        \"units\": f\"seconds since {np.datetime_as_string(ds_l1b.time.data[0], unit='D')}T00:00Z\",\n",
    "    })\n",
    "    logger.info(f\"Dataset time coverage before strip: {ds_l1b.time.values[0]} - {ds_l1b.time.values[-1]}\")\n",
    "\n",
    "    # 4. Drop first and last <stripminutes> minutes of data to avoid bad data due to maintenance\n",
    "    stripminutes = np.timedelta64(int(config['stripminutes']), 'm')\n",
    "    if (ds_l1b.time.values[0] + 3*stripminutes) > ds_l1b.time.values[-1]:\n",
    "        logger.warning(f\"{fname} has not enough data. Skip.\")\n",
    "        return None\n",
    "\n",
    "    ds_l1b = ds_l1b.isel(time=ds_l1b.time>ds_l1b.time.values[0] + stripminutes)\n",
    "    ds_l1b = ds_l1b.isel(time=ds_l1b.time<ds_l1b.time.values[-1] - stripminutes)\n",
    "    if ds_l1b.time.size < 10:\n",
    "        logger.warning(f\"{fname} has not enough data, after strip. Skip.\")\n",
    "        return None\n",
    "\n",
    "\n",
    "    logger.info(f\"Dataset time coverage after strip: {ds_l1b.time.values[0]} - {ds_l1b.time.values[-1]}\")\n",
    "\n",
    "    # 5. rad flux calibration\n",
    "    box = ds_l1b.station.values[0]\n",
    "    boxnumber, serial, cfac = pyrnet.pyrnet.meta_lookup(\n",
    "        ds_l1b.time.values[0],\n",
    "        box=box,\n",
    "        cfile=config['file_calibration'],\n",
    "        mapfile=config['file_mapping'],\n",
    "    )\n",
    "    logger.info(f\"Meta Lookup:\")\n",
    "    logger.info(f\">> Box={box}\")\n",
    "    logger.info(f\">> serial(s)={serial}\")\n",
    "    logger.info(f\">> calibration factor(s)={cfac}\")\n",
    "\n",
    "\n",
    "    # calibrate radflux variables\n",
    "    for i, radflx in enumerate(config['radflux_varname']):\n",
    "        if cfac[i] is None:\n",
    "            # drop if calibration/instrument don't exist (probably secondary pyranometer).\n",
    "            ds_l1b = ds_l1b.drop_vars([var for var in ds_l1b if radflx in var])\n",
    "            continue\n",
    "        ds_l1b[radflx].values = ds_l1b[radflx].values*1e6/(cfac[i]) # V -> W m-2\n",
    "        ds_l1b[radflx].attrs.update({\n",
    "            \"serial\": serial[i],\n",
    "            \"calibration_factor\": cfac[i],\n",
    "            \"calibration_function\": \"flux (W m-2) = flux (V) * calibration_factor (W m-2 V-1)\",\n",
    "        })\n",
    "\n",
    "\n",
    "    # 6. resample to desired resolution\n",
    "    # save station coordinate\n",
    "    station_dim = {\"station\": ds_l1b[\"station\"].values}\n",
    "    \n",
    "    # resample on time dimension with specified methods\n",
    "    methods = ['mean'] + config[\"l1b_resample_stats\"]\n",
    "    res = resample(\n",
    "        ds_l1b.squeeze().drop_vars(\"station\"), # drop station coordinate and variable\n",
    "        freq=config['l1bfreq'],\n",
    "        methods=methods,\n",
    "        kwargs=dict(skipna=True)\n",
    "    )\n",
    "    \n",
    "    # add standard names for new variables\n",
    "    # apply for variables if both in config['radflux_varname'] and ds_l1b.keys()\n",
    "    radflux_vars = list(set(config['radflux_varname'])&set(ds_l1b.keys()))\n",
    "    ds_l1b = res[0]\n",
    "    for i, method in enumerate(methods[1:]):\n",
    "        for var in radflux_vars:\n",
    "            ds_l1b[f\"{var}_{method}\"] = res[i+1][var]\n",
    "            ds_l1b[f\"{var}_{method}\"].attrs.update({\n",
    "                \"standard_name\": f\"{method}_\"+ds_l1b[f\"{var}_{method}\"].attrs[\"standard_name\"]\n",
    "            })\n",
    "    \n",
    "    # add station dimension back again\n",
    "    ds_l1b = ds_l1b.expand_dims(station_dim, axis=-1)\n",
    "\n",
    "    # 7. Interpolate GPS coordinates to l1b time\n",
    "    ds_gps = ds_l1a.drop_dims(\"adctime\")\n",
    "    ds_gps = ds_gps.drop_vars(['iadc'])\n",
    "\n",
    "    # Decide whether geo coordinates should be averaged or not\n",
    "    if config['average_latlon']:\n",
    "        ds_gps = ds_gps.mean('gpstime', skipna=True, keep_attrs=True)\n",
    "    else:\n",
    "        ds_gps = ds_gps.interp(gpstime=ds_l1b.time)\n",
    "        ds_gps = ds_gps.drop_vars(\"gpstime\")\n",
    "\n",
    "    ds_l1b = xr.merge((ds_l1b,ds_gps))\n",
    "\n",
    "    # 8. Calc and add sun position\n",
    "    szen, sazi = sp.sun_angles(\n",
    "        time=ds_l1b.time.values[:,None], # line up with coordinates to keep dependence on time only\n",
    "        lat=ds_l1b.lat.values,\n",
    "        lon=ds_l1b.lon.values\n",
    "    )\n",
    "    szen  = szen.squeeze()\n",
    "    sazi = sazi.squeeze()\n",
    "\n",
    "    esd = np.mean(sp.earth_sun_distance(ds_l1b.time.values))\n",
    "\n",
    "    ds_l1b = ds_l1b.assign(\n",
    "        {\n",
    "            \"szen\": ((\"time\", \"station\"), szen[:,None]),\n",
    "            \"sazi\": ((\"time\", \"station\"), sazi[:,None]),\n",
    "            \"esd\": (\"station\", [esd])\n",
    "        }\n",
    "    )\n",
    "    # update attributes and encoding\n",
    "    for key in ['szen', 'sazi','esd']:\n",
    "        ds_l1b[key].attrs.update(vattrs[key])\n",
    "        \n",
    "    # 9. add quality flags\n",
    "    ds_l1b = pyrnet.qcrad.add_qc_flags(ds_l1b, config[\"radflux_varname\"])\n",
    "\n",
    "    # add global coverage attributes\n",
    "    ds_l1b = update_coverage_meta(ds_l1b, timevar=\"time\")\n",
    "    ds_l1b.attrs[\"processing_level\"] = 'l1b'\n",
    "    now = pd.to_datetime(np.datetime64(\"now\"))\n",
    "    ds_l1b.attrs[\"history\"] = ds_l1b.history + f\"{now.isoformat()}: Generated level l1b  by pyrnet version {pyrnet_version}; \"\n",
    "\n",
    "    # update encoding\n",
    "    ds_l1b = add_encoding(ds_l1b, vencode=vencode)\n",
    "\n",
    "    return ds_l1b"
   ],
   "metadata": {
    "collapsed": false,
    "ExecuteTime": {
     "end_time": "2024-01-30T15:04:17.447621100Z",
     "start_time": "2024-01-30T15:04:16.675370100Z"
    }
   }
  },
  {
   "cell_type": "markdown",
   "source": [
    "## Test to_l1b function"
   ],
   "metadata": {
    "collapsed": false
   }
  },
  {
   "cell_type": "code",
   "execution_count": 40,
   "outputs": [
    {
     "name": "stderr",
     "output_type": "stream",
     "text": [
      "/tmp/ipykernel_602/344152066.py:13: FutureWarning: The default value of numeric_only in DataFrameGroupBy.mean is deprecated. In a future version, numeric_only will default to False. Either specify numeric_only or select only columns which should be valid for the function.\n",
      "  df_h = dsr.apply(method)#, kwargs=dict(numeric_only=True) )\n",
      "/tmp/ipykernel_602/344152066.py:13: FutureWarning: The default value of numeric_only in DataFrameGroupBy.std is deprecated. In a future version, numeric_only will default to False. Either specify numeric_only or select only columns which should be valid for the function.\n",
      "  df_h = dsr.apply(method)#, kwargs=dict(numeric_only=True) )\n"
     ]
    },
    {
     "data": {
      "text/plain": "<xarray.Dataset>\nDimensions:               (station: 1, time: 9, maintenancetime: 1)\nCoordinates:\n  * station               (station) float64 1.0\n  * time                  (time) datetime64[ns] 2022-08-30T11:21:01 ... 2022-...\n  * maintenancetime       (maintenancetime) datetime64[ns] 2023-05-08T16:09:06\nData variables: (12/20)\n    ghi                   (time, station) float32 269.9 269.9 ... 269.9 269.9\n    gti                   (time, station) float32 277.6 277.6 ... 277.3 278.1\n    ta                    (time, station) float32 294.8 294.7 ... 294.7 294.8\n    rh                    (time, station) float32 0.6253 0.6248 ... 0.628 0.629\n    battery_voltage       (time, station) float32 6.443 6.445 ... 6.449 6.465\n    gti_min               (time, station) float32 277.3 277.3 ... 277.3 277.3\n    ...                    ...\n    maintenance_flag_gti  (maintenancetime, station) float32 7.0\n    szen                  (time, station) float64 42.51 42.51 ... 42.51 42.51\n    sazi                  (time, station) float64 182.9 182.9 ... 182.9 182.9\n    esd                   (station) float64 1.01\n    qc_flag_ghi           (time, station) uint8 0 0 0 0 0 0 0 0 0\n    qc_flag_gti           (time, station) uint8 0 0 0 0 0 0 0 0 0\nAttributes: (12/31)\n    title:                     TROPOS pyranometer network (PyrNet) observations\n    institution:               Leibniz Institute for Tropospheric Research (T...\n    department:                Remote Sensing of Atmospheric Processes\n    department_team:           Clouds, Aerosol and Radiation\n    address:                   Permoser Str. 15, 04318 Leipzig, Germany\n    source:                    TROPOS pyranometer network (PyrNet)\n    ...                        ...\n    geospatial_lon_max:        11.885252199999991\n    geospatial_lon_units:      degE\n    time_coverage_start:       2022-08-30T11:21:01\n    time_coverage_end:         2022-08-30T11:21:09\n    time_coverage_duration:    P0DT0H0M8S\n    time_coverage_resolution:  P0DT0H0M1S",
      "text/html": "<div><svg style=\"position: absolute; width: 0; height: 0; overflow: hidden\">\n<defs>\n<symbol id=\"icon-database\" viewBox=\"0 0 32 32\">\n<path d=\"M16 0c-8.837 0-16 2.239-16 5v4c0 2.761 7.163 5 16 5s16-2.239 16-5v-4c0-2.761-7.163-5-16-5z\"></path>\n<path d=\"M16 17c-8.837 0-16-2.239-16-5v6c0 2.761 7.163 5 16 5s16-2.239 16-5v-6c0 2.761-7.163 5-16 5z\"></path>\n<path d=\"M16 26c-8.837 0-16-2.239-16-5v6c0 2.761 7.163 5 16 5s16-2.239 16-5v-6c0 2.761-7.163 5-16 5z\"></path>\n</symbol>\n<symbol id=\"icon-file-text2\" viewBox=\"0 0 32 32\">\n<path d=\"M28.681 7.159c-0.694-0.947-1.662-2.053-2.724-3.116s-2.169-2.030-3.116-2.724c-1.612-1.182-2.393-1.319-2.841-1.319h-15.5c-1.378 0-2.5 1.121-2.5 2.5v27c0 1.378 1.122 2.5 2.5 2.5h23c1.378 0 2.5-1.122 2.5-2.5v-19.5c0-0.448-0.137-1.23-1.319-2.841zM24.543 5.457c0.959 0.959 1.712 1.825 2.268 2.543h-4.811v-4.811c0.718 0.556 1.584 1.309 2.543 2.268zM28 29.5c0 0.271-0.229 0.5-0.5 0.5h-23c-0.271 0-0.5-0.229-0.5-0.5v-27c0-0.271 0.229-0.5 0.5-0.5 0 0 15.499-0 15.5 0v7c0 0.552 0.448 1 1 1h7v19.5z\"></path>\n<path d=\"M23 26h-14c-0.552 0-1-0.448-1-1s0.448-1 1-1h14c0.552 0 1 0.448 1 1s-0.448 1-1 1z\"></path>\n<path d=\"M23 22h-14c-0.552 0-1-0.448-1-1s0.448-1 1-1h14c0.552 0 1 0.448 1 1s-0.448 1-1 1z\"></path>\n<path d=\"M23 18h-14c-0.552 0-1-0.448-1-1s0.448-1 1-1h14c0.552 0 1 0.448 1 1s-0.448 1-1 1z\"></path>\n</symbol>\n</defs>\n</svg>\n<style>/* CSS stylesheet for displaying xarray objects in jupyterlab.\n *\n */\n\n:root {\n  --xr-font-color0: var(--jp-content-font-color0, rgba(0, 0, 0, 1));\n  --xr-font-color2: var(--jp-content-font-color2, rgba(0, 0, 0, 0.54));\n  --xr-font-color3: var(--jp-content-font-color3, rgba(0, 0, 0, 0.38));\n  --xr-border-color: var(--jp-border-color2, #e0e0e0);\n  --xr-disabled-color: var(--jp-layout-color3, #bdbdbd);\n  --xr-background-color: var(--jp-layout-color0, white);\n  --xr-background-color-row-even: var(--jp-layout-color1, white);\n  --xr-background-color-row-odd: var(--jp-layout-color2, #eeeeee);\n}\n\nhtml[theme=dark],\nbody[data-theme=dark],\nbody.vscode-dark {\n  --xr-font-color0: rgba(255, 255, 255, 1);\n  --xr-font-color2: rgba(255, 255, 255, 0.54);\n  --xr-font-color3: rgba(255, 255, 255, 0.38);\n  --xr-border-color: #1F1F1F;\n  --xr-disabled-color: #515151;\n  --xr-background-color: #111111;\n  --xr-background-color-row-even: #111111;\n  --xr-background-color-row-odd: #313131;\n}\n\n.xr-wrap {\n  display: block !important;\n  min-width: 300px;\n  max-width: 700px;\n}\n\n.xr-text-repr-fallback {\n  /* fallback to plain text repr when CSS is not injected (untrusted notebook) */\n  display: none;\n}\n\n.xr-header {\n  padding-top: 6px;\n  padding-bottom: 6px;\n  margin-bottom: 4px;\n  border-bottom: solid 1px var(--xr-border-color);\n}\n\n.xr-header > div,\n.xr-header > ul {\n  display: inline;\n  margin-top: 0;\n  margin-bottom: 0;\n}\n\n.xr-obj-type,\n.xr-array-name {\n  margin-left: 2px;\n  margin-right: 10px;\n}\n\n.xr-obj-type {\n  color: var(--xr-font-color2);\n}\n\n.xr-sections {\n  padding-left: 0 !important;\n  display: grid;\n  grid-template-columns: 150px auto auto 1fr 20px 20px;\n}\n\n.xr-section-item {\n  display: contents;\n}\n\n.xr-section-item input {\n  display: none;\n}\n\n.xr-section-item input + label {\n  color: var(--xr-disabled-color);\n}\n\n.xr-section-item input:enabled + label {\n  cursor: pointer;\n  color: var(--xr-font-color2);\n}\n\n.xr-section-item input:enabled + label:hover {\n  color: var(--xr-font-color0);\n}\n\n.xr-section-summary {\n  grid-column: 1;\n  color: var(--xr-font-color2);\n  font-weight: 500;\n}\n\n.xr-section-summary > span {\n  display: inline-block;\n  padding-left: 0.5em;\n}\n\n.xr-section-summary-in:disabled + label {\n  color: var(--xr-font-color2);\n}\n\n.xr-section-summary-in + label:before {\n  display: inline-block;\n  content: '►';\n  font-size: 11px;\n  width: 15px;\n  text-align: center;\n}\n\n.xr-section-summary-in:disabled + label:before {\n  color: var(--xr-disabled-color);\n}\n\n.xr-section-summary-in:checked + label:before {\n  content: '▼';\n}\n\n.xr-section-summary-in:checked + label > span {\n  display: none;\n}\n\n.xr-section-summary,\n.xr-section-inline-details {\n  padding-top: 4px;\n  padding-bottom: 4px;\n}\n\n.xr-section-inline-details {\n  grid-column: 2 / -1;\n}\n\n.xr-section-details {\n  display: none;\n  grid-column: 1 / -1;\n  margin-bottom: 5px;\n}\n\n.xr-section-summary-in:checked ~ .xr-section-details {\n  display: contents;\n}\n\n.xr-array-wrap {\n  grid-column: 1 / -1;\n  display: grid;\n  grid-template-columns: 20px auto;\n}\n\n.xr-array-wrap > label {\n  grid-column: 1;\n  vertical-align: top;\n}\n\n.xr-preview {\n  color: var(--xr-font-color3);\n}\n\n.xr-array-preview,\n.xr-array-data {\n  padding: 0 5px !important;\n  grid-column: 2;\n}\n\n.xr-array-data,\n.xr-array-in:checked ~ .xr-array-preview {\n  display: none;\n}\n\n.xr-array-in:checked ~ .xr-array-data,\n.xr-array-preview {\n  display: inline-block;\n}\n\n.xr-dim-list {\n  display: inline-block !important;\n  list-style: none;\n  padding: 0 !important;\n  margin: 0;\n}\n\n.xr-dim-list li {\n  display: inline-block;\n  padding: 0;\n  margin: 0;\n}\n\n.xr-dim-list:before {\n  content: '(';\n}\n\n.xr-dim-list:after {\n  content: ')';\n}\n\n.xr-dim-list li:not(:last-child):after {\n  content: ',';\n  padding-right: 5px;\n}\n\n.xr-has-index {\n  font-weight: bold;\n}\n\n.xr-var-list,\n.xr-var-item {\n  display: contents;\n}\n\n.xr-var-item > div,\n.xr-var-item label,\n.xr-var-item > .xr-var-name span {\n  background-color: var(--xr-background-color-row-even);\n  margin-bottom: 0;\n}\n\n.xr-var-item > .xr-var-name:hover span {\n  padding-right: 5px;\n}\n\n.xr-var-list > li:nth-child(odd) > div,\n.xr-var-list > li:nth-child(odd) > label,\n.xr-var-list > li:nth-child(odd) > .xr-var-name span {\n  background-color: var(--xr-background-color-row-odd);\n}\n\n.xr-var-name {\n  grid-column: 1;\n}\n\n.xr-var-dims {\n  grid-column: 2;\n}\n\n.xr-var-dtype {\n  grid-column: 3;\n  text-align: right;\n  color: var(--xr-font-color2);\n}\n\n.xr-var-preview {\n  grid-column: 4;\n}\n\n.xr-index-preview {\n  grid-column: 2 / 5;\n  color: var(--xr-font-color2);\n}\n\n.xr-var-name,\n.xr-var-dims,\n.xr-var-dtype,\n.xr-preview,\n.xr-attrs dt {\n  white-space: nowrap;\n  overflow: hidden;\n  text-overflow: ellipsis;\n  padding-right: 10px;\n}\n\n.xr-var-name:hover,\n.xr-var-dims:hover,\n.xr-var-dtype:hover,\n.xr-attrs dt:hover {\n  overflow: visible;\n  width: auto;\n  z-index: 1;\n}\n\n.xr-var-attrs,\n.xr-var-data,\n.xr-index-data {\n  display: none;\n  background-color: var(--xr-background-color) !important;\n  padding-bottom: 5px !important;\n}\n\n.xr-var-attrs-in:checked ~ .xr-var-attrs,\n.xr-var-data-in:checked ~ .xr-var-data,\n.xr-index-data-in:checked ~ .xr-index-data {\n  display: block;\n}\n\n.xr-var-data > table {\n  float: right;\n}\n\n.xr-var-name span,\n.xr-var-data,\n.xr-index-name div,\n.xr-index-data,\n.xr-attrs {\n  padding-left: 25px !important;\n}\n\n.xr-attrs,\n.xr-var-attrs,\n.xr-var-data,\n.xr-index-data {\n  grid-column: 1 / -1;\n}\n\ndl.xr-attrs {\n  padding: 0;\n  margin: 0;\n  display: grid;\n  grid-template-columns: 125px auto;\n}\n\n.xr-attrs dt,\n.xr-attrs dd {\n  padding: 0;\n  margin: 0;\n  float: left;\n  padding-right: 10px;\n  width: auto;\n}\n\n.xr-attrs dt {\n  font-weight: normal;\n  grid-column: 1;\n}\n\n.xr-attrs dt:hover span {\n  display: inline-block;\n  background: var(--xr-background-color);\n  padding-right: 10px;\n}\n\n.xr-attrs dd {\n  grid-column: 2;\n  white-space: pre-wrap;\n  word-break: break-all;\n}\n\n.xr-icon-database,\n.xr-icon-file-text2,\n.xr-no-icon {\n  display: inline-block;\n  vertical-align: middle;\n  width: 1em;\n  height: 1.5em !important;\n  stroke-width: 0;\n  stroke: currentColor;\n  fill: currentColor;\n}\n</style><pre class='xr-text-repr-fallback'>&lt;xarray.Dataset&gt;\nDimensions:               (station: 1, time: 9, maintenancetime: 1)\nCoordinates:\n  * station               (station) float64 1.0\n  * time                  (time) datetime64[ns] 2022-08-30T11:21:01 ... 2022-...\n  * maintenancetime       (maintenancetime) datetime64[ns] 2023-05-08T16:09:06\nData variables: (12/20)\n    ghi                   (time, station) float32 269.9 269.9 ... 269.9 269.9\n    gti                   (time, station) float32 277.6 277.6 ... 277.3 278.1\n    ta                    (time, station) float32 294.8 294.7 ... 294.7 294.8\n    rh                    (time, station) float32 0.6253 0.6248 ... 0.628 0.629\n    battery_voltage       (time, station) float32 6.443 6.445 ... 6.449 6.465\n    gti_min               (time, station) float32 277.3 277.3 ... 277.3 277.3\n    ...                    ...\n    maintenance_flag_gti  (maintenancetime, station) float32 7.0\n    szen                  (time, station) float64 42.51 42.51 ... 42.51 42.51\n    sazi                  (time, station) float64 182.9 182.9 ... 182.9 182.9\n    esd                   (station) float64 1.01\n    qc_flag_ghi           (time, station) uint8 0 0 0 0 0 0 0 0 0\n    qc_flag_gti           (time, station) uint8 0 0 0 0 0 0 0 0 0\nAttributes: (12/31)\n    title:                     TROPOS pyranometer network (PyrNet) observations\n    institution:               Leibniz Institute for Tropospheric Research (T...\n    department:                Remote Sensing of Atmospheric Processes\n    department_team:           Clouds, Aerosol and Radiation\n    address:                   Permoser Str. 15, 04318 Leipzig, Germany\n    source:                    TROPOS pyranometer network (PyrNet)\n    ...                        ...\n    geospatial_lon_max:        11.885252199999991\n    geospatial_lon_units:      degE\n    time_coverage_start:       2022-08-30T11:21:01\n    time_coverage_end:         2022-08-30T11:21:09\n    time_coverage_duration:    P0DT0H0M8S\n    time_coverage_resolution:  P0DT0H0M1S</pre><div class='xr-wrap' style='display:none'><div class='xr-header'><div class='xr-obj-type'>xarray.Dataset</div></div><ul class='xr-sections'><li class='xr-section-item'><input id='section-167d0045-2538-497e-afe0-b91366c286e8' class='xr-section-summary-in' type='checkbox' disabled ><label for='section-167d0045-2538-497e-afe0-b91366c286e8' class='xr-section-summary'  title='Expand/collapse section'>Dimensions:</label><div class='xr-section-inline-details'><ul class='xr-dim-list'><li><span class='xr-has-index'>station</span>: 1</li><li><span class='xr-has-index'>time</span>: 9</li><li><span class='xr-has-index'>maintenancetime</span>: 1</li></ul></div><div class='xr-section-details'></div></li><li class='xr-section-item'><input id='section-daa7141f-08e2-484f-b918-f9407e2d87d5' class='xr-section-summary-in' type='checkbox'  checked><label for='section-daa7141f-08e2-484f-b918-f9407e2d87d5' class='xr-section-summary' >Coordinates: <span>(3)</span></label><div class='xr-section-inline-details'></div><div class='xr-section-details'><ul class='xr-var-list'><li class='xr-var-item'><div class='xr-var-name'><span class='xr-has-index'>station</span></div><div class='xr-var-dims'>(station)</div><div class='xr-var-dtype'>float64</div><div class='xr-var-preview xr-preview'>1.0</div><input id='attrs-953a9cdb-6b7d-4780-a866-c09f8cab553f' class='xr-var-attrs-in' type='checkbox' disabled><label for='attrs-953a9cdb-6b7d-4780-a866-c09f8cab553f' title='Show/Hide attributes'><svg class='icon xr-icon-file-text2'><use xlink:href='#icon-file-text2'></use></svg></label><input id='data-19ff21be-b69c-4a31-aa23-870dd47a29ef' class='xr-var-data-in' type='checkbox'><label for='data-19ff21be-b69c-4a31-aa23-870dd47a29ef' title='Show/Hide data repr'><svg class='icon xr-icon-database'><use xlink:href='#icon-database'></use></svg></label><div class='xr-var-attrs'><dl class='xr-attrs'></dl></div><div class='xr-var-data'><pre>array([1.])</pre></div></li><li class='xr-var-item'><div class='xr-var-name'><span class='xr-has-index'>time</span></div><div class='xr-var-dims'>(time)</div><div class='xr-var-dtype'>datetime64[ns]</div><div class='xr-var-preview xr-preview'>2022-08-30T11:21:01 ... 2022-08-...</div><input id='attrs-26759f5a-9255-4f17-ade3-b55d80255819' class='xr-var-attrs-in' type='checkbox' disabled><label for='attrs-26759f5a-9255-4f17-ade3-b55d80255819' title='Show/Hide attributes'><svg class='icon xr-icon-file-text2'><use xlink:href='#icon-file-text2'></use></svg></label><input id='data-36e4aa1e-b22c-42df-8f57-1c605baea9e8' class='xr-var-data-in' type='checkbox'><label for='data-36e4aa1e-b22c-42df-8f57-1c605baea9e8' title='Show/Hide data repr'><svg class='icon xr-icon-database'><use xlink:href='#icon-database'></use></svg></label><div class='xr-var-attrs'><dl class='xr-attrs'></dl></div><div class='xr-var-data'><pre>array([&#x27;2022-08-30T11:21:01.000000000&#x27;, &#x27;2022-08-30T11:21:02.000000000&#x27;,\n       &#x27;2022-08-30T11:21:03.000000000&#x27;, &#x27;2022-08-30T11:21:04.000000000&#x27;,\n       &#x27;2022-08-30T11:21:05.000000000&#x27;, &#x27;2022-08-30T11:21:06.000000000&#x27;,\n       &#x27;2022-08-30T11:21:07.000000000&#x27;, &#x27;2022-08-30T11:21:08.000000000&#x27;,\n       &#x27;2022-08-30T11:21:09.000000000&#x27;], dtype=&#x27;datetime64[ns]&#x27;)</pre></div></li><li class='xr-var-item'><div class='xr-var-name'><span class='xr-has-index'>maintenancetime</span></div><div class='xr-var-dims'>(maintenancetime)</div><div class='xr-var-dtype'>datetime64[ns]</div><div class='xr-var-preview xr-preview'>2023-05-08T16:09:06</div><input id='attrs-7ac14473-6e00-4f7d-805d-94b236714739' class='xr-var-attrs-in' type='checkbox' disabled><label for='attrs-7ac14473-6e00-4f7d-805d-94b236714739' title='Show/Hide attributes'><svg class='icon xr-icon-file-text2'><use xlink:href='#icon-file-text2'></use></svg></label><input id='data-bff312ee-3872-4342-85dc-1daf82efa6f9' class='xr-var-data-in' type='checkbox'><label for='data-bff312ee-3872-4342-85dc-1daf82efa6f9' title='Show/Hide data repr'><svg class='icon xr-icon-database'><use xlink:href='#icon-database'></use></svg></label><div class='xr-var-attrs'><dl class='xr-attrs'></dl></div><div class='xr-var-data'><pre>array([&#x27;2023-05-08T16:09:06.000000000&#x27;], dtype=&#x27;datetime64[ns]&#x27;)</pre></div></li></ul></div></li><li class='xr-section-item'><input id='section-9cac70ee-d0b4-4268-b595-0d3245f6cdd3' class='xr-section-summary-in' type='checkbox'  ><label for='section-9cac70ee-d0b4-4268-b595-0d3245f6cdd3' class='xr-section-summary' >Data variables: <span>(20)</span></label><div class='xr-section-inline-details'></div><div class='xr-section-details'><ul class='xr-var-list'><li class='xr-var-item'><div class='xr-var-name'><span>ghi</span></div><div class='xr-var-dims'>(time, station)</div><div class='xr-var-dtype'>float32</div><div class='xr-var-preview xr-preview'>269.9 269.9 269.9 ... 269.9 269.9</div><input id='attrs-38b79fdc-8f29-48aa-be52-7572c1b68d4b' class='xr-var-attrs-in' type='checkbox' ><label for='attrs-38b79fdc-8f29-48aa-be52-7572c1b68d4b' title='Show/Hide attributes'><svg class='icon xr-icon-file-text2'><use xlink:href='#icon-file-text2'></use></svg></label><input id='data-14872252-fdaa-4f3b-a037-87540adddf0e' class='xr-var-data-in' type='checkbox'><label for='data-14872252-fdaa-4f3b-a037-87540adddf0e' title='Show/Hide data repr'><svg class='icon xr-icon-database'><use xlink:href='#icon-database'></use></svg></label><div class='xr-var-attrs'><dl class='xr-attrs'><dt><span>units :</span></dt><dd>V</dd><dt><span>long_name :</span></dt><dd>downwelling shortwave flux</dd><dt><span>standard_name :</span></dt><dd>downwelling_shortwave_flux_in_air</dd><dt><span>valid_range :</span></dt><dd>[   0 1023]</dd><dt><span>serial :</span></dt><dd>S12128.001</dd><dt><span>calibration_factor :</span></dt><dd>7.73</dd><dt><span>calibration_function :</span></dt><dd>flux (W m-2) = flux (V) * calibration_factor (W m-2 V-1)</dd></dl></div><div class='xr-var-data'><pre>array([[269.86047],\n       [269.86047],\n       [269.86047],\n       [269.72137],\n       [269.86047],\n       [269.86047],\n       [269.72137],\n       [269.86047],\n       [269.86047]], dtype=float32)</pre></div></li><li class='xr-var-item'><div class='xr-var-name'><span>gti</span></div><div class='xr-var-dims'>(time, station)</div><div class='xr-var-dtype'>float32</div><div class='xr-var-preview xr-preview'>277.6 277.6 277.3 ... 277.3 278.1</div><input id='attrs-53268ded-dd88-43f3-8c94-71d3d2baf6a1' class='xr-var-attrs-in' type='checkbox' ><label for='attrs-53268ded-dd88-43f3-8c94-71d3d2baf6a1' title='Show/Hide attributes'><svg class='icon xr-icon-file-text2'><use xlink:href='#icon-file-text2'></use></svg></label><input id='data-6f87888e-f739-40bc-a26e-110ed465b2ed' class='xr-var-data-in' type='checkbox'><label for='data-6f87888e-f739-40bc-a26e-110ed465b2ed' title='Show/Hide data repr'><svg class='icon xr-icon-database'><use xlink:href='#icon-database'></use></svg></label><div class='xr-var-attrs'><dl class='xr-attrs'><dt><span>units :</span></dt><dd>V</dd><dt><span>long_name :</span></dt><dd>downwelling shortwave flux measured on secondary platform, might be tilted</dd><dt><span>standard_name :</span></dt><dd>downwelling_shortwave_flux_in_air</dd><dt><span>valid_range :</span></dt><dd>[   0 1023]</dd><dt><span>hangle :</span></dt><dd>0.0</dd><dt><span>vangle :</span></dt><dd>0.0</dd><dt><span>serial :</span></dt><dd>S12137.049</dd><dt><span>calibration_factor :</span></dt><dd>6.98</dd><dt><span>calibration_function :</span></dt><dd>flux (W m-2) = flux (V) * calibration_factor (W m-2 V-1)</dd></dl></div><div class='xr-var-data'><pre>array([[277.59805],\n       [277.59805],\n       [277.28995],\n       [277.28995],\n       [277.444  ],\n       [277.28995],\n       [276.98184],\n       [277.28995],\n       [278.06018]], dtype=float32)</pre></div></li><li class='xr-var-item'><div class='xr-var-name'><span>ta</span></div><div class='xr-var-dims'>(time, station)</div><div class='xr-var-dtype'>float32</div><div class='xr-var-preview xr-preview'>294.8 294.7 294.8 ... 294.7 294.8</div><input id='attrs-a5a0c51e-bacc-44bd-83c7-4b1cd05b2000' class='xr-var-attrs-in' type='checkbox' ><label for='attrs-a5a0c51e-bacc-44bd-83c7-4b1cd05b2000' title='Show/Hide attributes'><svg class='icon xr-icon-file-text2'><use xlink:href='#icon-file-text2'></use></svg></label><input id='data-00c11cec-8f01-45c2-98cd-5ec0c2ce479e' class='xr-var-data-in' type='checkbox'><label for='data-00c11cec-8f01-45c2-98cd-5ec0c2ce479e' title='Show/Hide data repr'><svg class='icon xr-icon-database'><use xlink:href='#icon-database'></use></svg></label><div class='xr-var-attrs'><dl class='xr-attrs'><dt><span>units :</span></dt><dd>K</dd><dt><span>long_name :</span></dt><dd>air temperature</dd><dt><span>standard_name :</span></dt><dd>air_temperature</dd><dt><span>valid_range :</span></dt><dd>[  0 775]</dd></dl></div><div class='xr-var-data'><pre>array([[294.8016 ],\n       [294.7371 ],\n       [294.77008],\n       [294.74997],\n       [294.7887 ],\n       [294.74997],\n       [294.8145 ],\n       [294.72705],\n       [294.76288]], dtype=float32)</pre></div></li><li class='xr-var-item'><div class='xr-var-name'><span>rh</span></div><div class='xr-var-dims'>(time, station)</div><div class='xr-var-dtype'>float32</div><div class='xr-var-preview xr-preview'>0.6253 0.6248 ... 0.628 0.629</div><input id='attrs-7649862e-aa55-4544-bc8d-d7dc204a9a30' class='xr-var-attrs-in' type='checkbox' ><label for='attrs-7649862e-aa55-4544-bc8d-d7dc204a9a30' title='Show/Hide attributes'><svg class='icon xr-icon-file-text2'><use xlink:href='#icon-file-text2'></use></svg></label><input id='data-ad990539-83bf-41d5-823a-a7a8499331e7' class='xr-var-data-in' type='checkbox'><label for='data-ad990539-83bf-41d5-823a-a7a8499331e7' title='Show/Hide data repr'><svg class='icon xr-icon-database'><use xlink:href='#icon-database'></use></svg></label><div class='xr-var-attrs'><dl class='xr-attrs'><dt><span>units :</span></dt><dd>1</dd><dt><span>long_name :</span></dt><dd>air relative humidity</dd><dt><span>standard_name :</span></dt><dd>relative_humidity</dd><dt><span>valid_range :</span></dt><dd>[  0 775]</dd></dl></div><div class='xr-var-data'><pre>array([[0.6252903 ],\n       [0.62477416],\n       [0.6259498 ],\n       [0.6265806 ],\n       [0.6270968 ],\n       [0.6270968 ],\n       [0.6286451 ],\n       [0.627957  ],\n       [0.62903225]], dtype=float32)</pre></div></li><li class='xr-var-item'><div class='xr-var-name'><span>battery_voltage</span></div><div class='xr-var-dims'>(time, station)</div><div class='xr-var-dtype'>float32</div><div class='xr-var-preview xr-preview'>6.443 6.445 6.444 ... 6.449 6.465</div><input id='attrs-dab5e45e-97eb-4c8d-8d06-d13466baf32a' class='xr-var-attrs-in' type='checkbox' ><label for='attrs-dab5e45e-97eb-4c8d-8d06-d13466baf32a' title='Show/Hide attributes'><svg class='icon xr-icon-file-text2'><use xlink:href='#icon-file-text2'></use></svg></label><input id='data-3676bbbb-07e8-49ab-8d30-bf27bb29e18c' class='xr-var-data-in' type='checkbox'><label for='data-3676bbbb-07e8-49ab-8d30-bf27bb29e18c' title='Show/Hide data repr'><svg class='icon xr-icon-database'><use xlink:href='#icon-database'></use></svg></label><div class='xr-var-attrs'><dl class='xr-attrs'><dt><span>units :</span></dt><dd>V</dd><dt><span>standard_name :</span></dt><dd>battery_voltage</dd><dt><span>valid_range :</span></dt><dd>[  0 992]</dd></dl></div><div class='xr-var-data'><pre>array([[6.44258  ],\n       [6.4451613],\n       [6.4437275],\n       [6.445807 ],\n       [6.4496775],\n       [6.4477415],\n       [6.4464517],\n       [6.4494624],\n       [6.464516 ]], dtype=float32)</pre></div></li><li class='xr-var-item'><div class='xr-var-name'><span>gti_min</span></div><div class='xr-var-dims'>(time, station)</div><div class='xr-var-dtype'>float32</div><div class='xr-var-preview xr-preview'>277.3 277.3 277.3 ... 277.3 277.3</div><input id='attrs-844d38c7-eaeb-46ec-a6d3-d9fb8894223a' class='xr-var-attrs-in' type='checkbox' ><label for='attrs-844d38c7-eaeb-46ec-a6d3-d9fb8894223a' title='Show/Hide attributes'><svg class='icon xr-icon-file-text2'><use xlink:href='#icon-file-text2'></use></svg></label><input id='data-ec4d29fc-c717-4dd5-a914-a6876342b962' class='xr-var-data-in' type='checkbox'><label for='data-ec4d29fc-c717-4dd5-a914-a6876342b962' title='Show/Hide data repr'><svg class='icon xr-icon-database'><use xlink:href='#icon-database'></use></svg></label><div class='xr-var-attrs'><dl class='xr-attrs'><dt><span>units :</span></dt><dd>V</dd><dt><span>long_name :</span></dt><dd>downwelling shortwave flux measured on secondary platform, might be tilted</dd><dt><span>standard_name :</span></dt><dd>min_downwelling_shortwave_flux_in_air</dd><dt><span>valid_range :</span></dt><dd>[   0 1023]</dd><dt><span>hangle :</span></dt><dd>0.0</dd><dt><span>vangle :</span></dt><dd>0.0</dd><dt><span>serial :</span></dt><dd>S12137.049</dd><dt><span>calibration_factor :</span></dt><dd>6.98</dd><dt><span>calibration_function :</span></dt><dd>flux (W m-2) = flux (V) * calibration_factor (W m-2 V-1)</dd></dl></div><div class='xr-var-data'><pre>array([[277.28995],\n       [277.28995],\n       [277.28995],\n       [275.74945],\n       [275.74945],\n       [277.28995],\n       [275.74945],\n       [277.28995],\n       [277.28995]], dtype=float32)</pre></div></li><li class='xr-var-item'><div class='xr-var-name'><span>ghi_min</span></div><div class='xr-var-dims'>(time, station)</div><div class='xr-var-dtype'>float32</div><div class='xr-var-preview xr-preview'>269.9 269.9 269.9 ... 269.9 269.9</div><input id='attrs-fc191ef5-93c2-496b-8eff-d82be1d28e5d' class='xr-var-attrs-in' type='checkbox' ><label for='attrs-fc191ef5-93c2-496b-8eff-d82be1d28e5d' title='Show/Hide attributes'><svg class='icon xr-icon-file-text2'><use xlink:href='#icon-file-text2'></use></svg></label><input id='data-9e64f228-2903-45de-a850-fb61dce14890' class='xr-var-data-in' type='checkbox'><label for='data-9e64f228-2903-45de-a850-fb61dce14890' title='Show/Hide data repr'><svg class='icon xr-icon-database'><use xlink:href='#icon-database'></use></svg></label><div class='xr-var-attrs'><dl class='xr-attrs'><dt><span>units :</span></dt><dd>V</dd><dt><span>long_name :</span></dt><dd>downwelling shortwave flux</dd><dt><span>standard_name :</span></dt><dd>min_downwelling_shortwave_flux_in_air</dd><dt><span>valid_range :</span></dt><dd>[   0 1023]</dd><dt><span>serial :</span></dt><dd>S12128.001</dd><dt><span>calibration_factor :</span></dt><dd>7.73</dd><dt><span>calibration_function :</span></dt><dd>flux (W m-2) = flux (V) * calibration_factor (W m-2 V-1)</dd></dl></div><div class='xr-var-data'><pre>array([[269.86047],\n       [269.86047],\n       [269.86047],\n       [268.46945],\n       [269.86047],\n       [269.86047],\n       [268.46945],\n       [269.86047],\n       [269.86047]], dtype=float32)</pre></div></li><li class='xr-var-item'><div class='xr-var-name'><span>gti_max</span></div><div class='xr-var-dims'>(time, station)</div><div class='xr-var-dtype'>float32</div><div class='xr-var-preview xr-preview'>278.8 278.8 277.3 ... 277.3 278.8</div><input id='attrs-e9f26c08-8479-4179-9749-22b04d332095' class='xr-var-attrs-in' type='checkbox' ><label for='attrs-e9f26c08-8479-4179-9749-22b04d332095' title='Show/Hide attributes'><svg class='icon xr-icon-file-text2'><use xlink:href='#icon-file-text2'></use></svg></label><input id='data-c4737e32-5f32-40f9-b29c-98bed563ccef' class='xr-var-data-in' type='checkbox'><label for='data-c4737e32-5f32-40f9-b29c-98bed563ccef' title='Show/Hide data repr'><svg class='icon xr-icon-database'><use xlink:href='#icon-database'></use></svg></label><div class='xr-var-attrs'><dl class='xr-attrs'><dt><span>units :</span></dt><dd>V</dd><dt><span>long_name :</span></dt><dd>downwelling shortwave flux measured on secondary platform, might be tilted</dd><dt><span>standard_name :</span></dt><dd>max_downwelling_shortwave_flux_in_air</dd><dt><span>valid_range :</span></dt><dd>[   0 1023]</dd><dt><span>hangle :</span></dt><dd>0.0</dd><dt><span>vangle :</span></dt><dd>0.0</dd><dt><span>serial :</span></dt><dd>S12137.049</dd><dt><span>calibration_factor :</span></dt><dd>6.98</dd><dt><span>calibration_function :</span></dt><dd>flux (W m-2) = flux (V) * calibration_factor (W m-2 V-1)</dd></dl></div><div class='xr-var-data'><pre>array([[278.83044],\n       [278.83044],\n       [277.28995],\n       [278.83044],\n       [278.83044],\n       [277.28995],\n       [277.28995],\n       [277.28995],\n       [278.83044]], dtype=float32)</pre></div></li><li class='xr-var-item'><div class='xr-var-name'><span>ghi_max</span></div><div class='xr-var-dims'>(time, station)</div><div class='xr-var-dtype'>float32</div><div class='xr-var-preview xr-preview'>269.9 269.9 269.9 ... 269.9 269.9</div><input id='attrs-7e4b63eb-98ac-4614-b91e-14efd6fef4b7' class='xr-var-attrs-in' type='checkbox' ><label for='attrs-7e4b63eb-98ac-4614-b91e-14efd6fef4b7' title='Show/Hide attributes'><svg class='icon xr-icon-file-text2'><use xlink:href='#icon-file-text2'></use></svg></label><input id='data-ee17005f-eec7-4e85-97b7-9ee2e2fe2292' class='xr-var-data-in' type='checkbox'><label for='data-ee17005f-eec7-4e85-97b7-9ee2e2fe2292' title='Show/Hide data repr'><svg class='icon xr-icon-database'><use xlink:href='#icon-database'></use></svg></label><div class='xr-var-attrs'><dl class='xr-attrs'><dt><span>units :</span></dt><dd>V</dd><dt><span>long_name :</span></dt><dd>downwelling shortwave flux</dd><dt><span>standard_name :</span></dt><dd>max_downwelling_shortwave_flux_in_air</dd><dt><span>valid_range :</span></dt><dd>[   0 1023]</dd><dt><span>serial :</span></dt><dd>S12128.001</dd><dt><span>calibration_factor :</span></dt><dd>7.73</dd><dt><span>calibration_function :</span></dt><dd>flux (W m-2) = flux (V) * calibration_factor (W m-2 V-1)</dd></dl></div><div class='xr-var-data'><pre>array([[269.86047],\n       [269.86047],\n       [269.86047],\n       [269.86047],\n       [269.86047],\n       [269.86047],\n       [269.86047],\n       [269.86047],\n       [269.86047]], dtype=float32)</pre></div></li><li class='xr-var-item'><div class='xr-var-name'><span>gti_std</span></div><div class='xr-var-dims'>(time, station)</div><div class='xr-var-dtype'>float64</div><div class='xr-var-preview xr-preview'>0.6889 0.6495 0.0 ... 0.0 1.089</div><input id='attrs-7b0b2c46-e00a-4089-b074-9c6736b48587' class='xr-var-attrs-in' type='checkbox' ><label for='attrs-7b0b2c46-e00a-4089-b074-9c6736b48587' title='Show/Hide attributes'><svg class='icon xr-icon-file-text2'><use xlink:href='#icon-file-text2'></use></svg></label><input id='data-e234c869-a077-4684-8546-25141a411dda' class='xr-var-data-in' type='checkbox'><label for='data-e234c869-a077-4684-8546-25141a411dda' title='Show/Hide data repr'><svg class='icon xr-icon-database'><use xlink:href='#icon-database'></use></svg></label><div class='xr-var-attrs'><dl class='xr-attrs'><dt><span>units :</span></dt><dd>V</dd><dt><span>long_name :</span></dt><dd>downwelling shortwave flux measured on secondary platform, might be tilted</dd><dt><span>standard_name :</span></dt><dd>std_downwelling_shortwave_flux_in_air</dd><dt><span>valid_range :</span></dt><dd>[   0 1023]</dd><dt><span>hangle :</span></dt><dd>0.0</dd><dt><span>vangle :</span></dt><dd>0.0</dd><dt><span>serial :</span></dt><dd>S12137.049</dd><dt><span>calibration_factor :</span></dt><dd>6.98</dd><dt><span>calibration_function :</span></dt><dd>flux (W m-2) = flux (V) * calibration_factor (W m-2 V-1)</dd></dl></div><div class='xr-var-data'><pre>array([[0.68893112],\n       [0.64953049],\n       [0.        ],\n       [0.72619717],\n       [0.87445719],\n       [0.        ],\n       [0.64953049],\n       [0.        ],\n       [1.08929575]])</pre></div></li><li class='xr-var-item'><div class='xr-var-name'><span>ghi_std</span></div><div class='xr-var-dims'>(time, station)</div><div class='xr-var-dtype'>float64</div><div class='xr-var-preview xr-preview'>0.0 0.0 0.0 ... 0.4399 0.0 0.0</div><input id='attrs-ef989a58-25c8-4582-bac0-0e0cc0028aff' class='xr-var-attrs-in' type='checkbox' ><label for='attrs-ef989a58-25c8-4582-bac0-0e0cc0028aff' title='Show/Hide attributes'><svg class='icon xr-icon-file-text2'><use xlink:href='#icon-file-text2'></use></svg></label><input id='data-3e3a66fa-fcac-4046-bf62-874885767222' class='xr-var-data-in' type='checkbox'><label for='data-3e3a66fa-fcac-4046-bf62-874885767222' title='Show/Hide data repr'><svg class='icon xr-icon-database'><use xlink:href='#icon-database'></use></svg></label><div class='xr-var-attrs'><dl class='xr-attrs'><dt><span>units :</span></dt><dd>V</dd><dt><span>long_name :</span></dt><dd>downwelling shortwave flux</dd><dt><span>standard_name :</span></dt><dd>std_downwelling_shortwave_flux_in_air</dd><dt><span>valid_range :</span></dt><dd>[   0 1023]</dd><dt><span>serial :</span></dt><dd>S12128.001</dd><dt><span>calibration_factor :</span></dt><dd>7.73</dd><dt><span>calibration_function :</span></dt><dd>flux (W m-2) = flux (V) * calibration_factor (W m-2 V-1)</dd></dl></div><div class='xr-var-data'><pre>array([[0.        ],\n       [0.        ],\n       [0.        ],\n       [0.43987969],\n       [0.        ],\n       [0.        ],\n       [0.43987969],\n       [0.        ],\n       [0.        ]])</pre></div></li><li class='xr-var-item'><div class='xr-var-name'><span>lat</span></div><div class='xr-var-dims'>(station)</div><div class='xr-var-dtype'>float64</div><div class='xr-var-preview xr-preview'>51.39</div><input id='attrs-926deab2-47d9-4827-8cf9-32d0366a0e7d' class='xr-var-attrs-in' type='checkbox' ><label for='attrs-926deab2-47d9-4827-8cf9-32d0366a0e7d' title='Show/Hide attributes'><svg class='icon xr-icon-file-text2'><use xlink:href='#icon-file-text2'></use></svg></label><input id='data-27c0ff9e-173e-46fd-b2a0-98199fbc13fc' class='xr-var-data-in' type='checkbox'><label for='data-27c0ff9e-173e-46fd-b2a0-98199fbc13fc' title='Show/Hide data repr'><svg class='icon xr-icon-database'><use xlink:href='#icon-database'></use></svg></label><div class='xr-var-attrs'><dl class='xr-attrs'><dt><span>standard_name :</span></dt><dd>latitude</dd><dt><span>units :</span></dt><dd>degree_north</dd><dt><span>valid_range :</span></dt><dd>[        0 180000000]</dd></dl></div><div class='xr-var-data'><pre>array([51.3902104])</pre></div></li><li class='xr-var-item'><div class='xr-var-name'><span>lon</span></div><div class='xr-var-dims'>(station)</div><div class='xr-var-dtype'>float64</div><div class='xr-var-preview xr-preview'>11.89</div><input id='attrs-02ed48f1-ee21-439f-ae00-3b8bd1eacf45' class='xr-var-attrs-in' type='checkbox' ><label for='attrs-02ed48f1-ee21-439f-ae00-3b8bd1eacf45' title='Show/Hide attributes'><svg class='icon xr-icon-file-text2'><use xlink:href='#icon-file-text2'></use></svg></label><input id='data-97ac35b2-b2ce-4fb6-9f06-54d2a1b2b8a1' class='xr-var-data-in' type='checkbox'><label for='data-97ac35b2-b2ce-4fb6-9f06-54d2a1b2b8a1' title='Show/Hide data repr'><svg class='icon xr-icon-database'><use xlink:href='#icon-database'></use></svg></label><div class='xr-var-attrs'><dl class='xr-attrs'><dt><span>standard_name :</span></dt><dd>longitude</dd><dt><span>units :</span></dt><dd>degree_east</dd><dt><span>valid_range :</span></dt><dd>[        0 360000000]</dd></dl></div><div class='xr-var-data'><pre>array([11.8852522])</pre></div></li><li class='xr-var-item'><div class='xr-var-name'><span>maintenance_flag_ghi</span></div><div class='xr-var-dims'>(maintenancetime, station)</div><div class='xr-var-dtype'>float32</div><div class='xr-var-preview xr-preview'>9.0</div><input id='attrs-61e38c63-4244-46a2-88c0-e0ab7a6b547f' class='xr-var-attrs-in' type='checkbox' ><label for='attrs-61e38c63-4244-46a2-88c0-e0ab7a6b547f' title='Show/Hide attributes'><svg class='icon xr-icon-file-text2'><use xlink:href='#icon-file-text2'></use></svg></label><input id='data-1452c77f-fb87-4764-9e64-f75bd60a42d2' class='xr-var-data-in' type='checkbox'><label for='data-1452c77f-fb87-4764-9e64-f75bd60a42d2' title='Show/Hide data repr'><svg class='icon xr-icon-database'><use xlink:href='#icon-database'></use></svg></label><div class='xr-var-attrs'><dl class='xr-attrs'><dt><span>standard_name :</span></dt><dd>quality_flag</dd><dt><span>long_name :</span></dt><dd>Maintenance quality control flags for main pyranometer</dd><dt><span>note :</span></dt><dd>Soiling describes subjectively the coverage of the pyranometer dome with dirt. The level flag is problematic if the bubble of the spirit level touches the reference ring, and bad if it is outside.</dd><dt><span>valid_range :</span></dt><dd>[ 0 11]</dd><dt><span>flag_masks :</span></dt><dd>[ 3  3  3 12 12]</dd><dt><span>flag_values :</span></dt><dd>[1 2 3 4 8]</dd><dt><span>flag_meanings :</span></dt><dd>soiling_light soiling_moderate soiling_heavy level_problematic level_bad</dd><dt><span>note_general :</span></dt><dd>222</dd><dt><span>note_clean :</span></dt><dd>testing notes</dd><dt><span>note_level :</span></dt><dd>test</dd></dl></div><div class='xr-var-data'><pre>array([[9.]], dtype=float32)</pre></div></li><li class='xr-var-item'><div class='xr-var-name'><span>maintenance_flag_gti</span></div><div class='xr-var-dims'>(maintenancetime, station)</div><div class='xr-var-dtype'>float32</div><div class='xr-var-preview xr-preview'>7.0</div><input id='attrs-a06d9308-4912-4d3c-8aa1-d336eae74ca4' class='xr-var-attrs-in' type='checkbox' ><label for='attrs-a06d9308-4912-4d3c-8aa1-d336eae74ca4' title='Show/Hide attributes'><svg class='icon xr-icon-file-text2'><use xlink:href='#icon-file-text2'></use></svg></label><input id='data-dfaaa025-ae25-4546-ae53-dd3a1c550f0a' class='xr-var-data-in' type='checkbox'><label for='data-dfaaa025-ae25-4546-ae53-dd3a1c550f0a' title='Show/Hide data repr'><svg class='icon xr-icon-database'><use xlink:href='#icon-database'></use></svg></label><div class='xr-var-attrs'><dl class='xr-attrs'><dt><span>standard_name :</span></dt><dd>quality_flag</dd><dt><span>long_name :</span></dt><dd>Maintenance quality control flags for secondary pyranometer</dd><dt><span>note :</span></dt><dd>Soiling describes subjectively the coverage of the pyranometer dome with dirt. The level flag is problematic if the bubble of the spirit level touches the reference ring, and bad if it is outside.</dd><dt><span>valid_range :</span></dt><dd>[ 0 11]</dd><dt><span>flag_masks :</span></dt><dd>[ 3  3  3 12 12]</dd><dt><span>flag_values :</span></dt><dd>[1 2 3 4 8]</dd><dt><span>flag_meanings :</span></dt><dd>soiling_light soiling_moderate soiling_heavy level_problematic level_bad</dd><dt><span>note_general :</span></dt><dd>222</dd><dt><span>note_clean :</span></dt><dd></dd><dt><span>note_level :</span></dt><dd></dd></dl></div><div class='xr-var-data'><pre>array([[7.]], dtype=float32)</pre></div></li><li class='xr-var-item'><div class='xr-var-name'><span>szen</span></div><div class='xr-var-dims'>(time, station)</div><div class='xr-var-dtype'>float64</div><div class='xr-var-preview xr-preview'>42.51 42.51 42.51 ... 42.51 42.51</div><input id='attrs-3f551089-8db1-4775-aa69-3864a0a9da95' class='xr-var-attrs-in' type='checkbox' ><label for='attrs-3f551089-8db1-4775-aa69-3864a0a9da95' title='Show/Hide attributes'><svg class='icon xr-icon-file-text2'><use xlink:href='#icon-file-text2'></use></svg></label><input id='data-19926156-62e2-4027-b2d8-9e2210f58761' class='xr-var-data-in' type='checkbox'><label for='data-19926156-62e2-4027-b2d8-9e2210f58761' title='Show/Hide data repr'><svg class='icon xr-icon-database'><use xlink:href='#icon-database'></use></svg></label><div class='xr-var-attrs'><dl class='xr-attrs'><dt><span>standard_name :</span></dt><dd>solar_zenith_angle</dd><dt><span>units :</span></dt><dd>degree</dd><dt><span>valid_range :</span></dt><dd>[0, 36000]</dd></dl></div><div class='xr-var-data'><pre>array([[42.51131386],\n       [42.51144947],\n       [42.51158535],\n       [42.51172152],\n       [42.51185796],\n       [42.51199467],\n       [42.51213166],\n       [42.51226893],\n       [42.51240647]])</pre></div></li><li class='xr-var-item'><div class='xr-var-name'><span>sazi</span></div><div class='xr-var-dims'>(time, station)</div><div class='xr-var-dtype'>float64</div><div class='xr-var-preview xr-preview'>182.9 182.9 182.9 ... 182.9 182.9</div><input id='attrs-7b9cfd12-ade7-41e1-a8bc-9d36d197793b' class='xr-var-attrs-in' type='checkbox' ><label for='attrs-7b9cfd12-ade7-41e1-a8bc-9d36d197793b' title='Show/Hide attributes'><svg class='icon xr-icon-file-text2'><use xlink:href='#icon-file-text2'></use></svg></label><input id='data-a4e6cdd1-ced8-4a08-8e93-5aa6bec2fb00' class='xr-var-data-in' type='checkbox'><label for='data-a4e6cdd1-ced8-4a08-8e93-5aa6bec2fb00' title='Show/Hide data repr'><svg class='icon xr-icon-database'><use xlink:href='#icon-database'></use></svg></label><div class='xr-var-attrs'><dl class='xr-attrs'><dt><span>standard_name :</span></dt><dd>solar_azimuth_angle</dd><dt><span>units :</span></dt><dd>degree</dd><dt><span>valid_range :</span></dt><dd>[0, 36000]</dd></dl></div><div class='xr-var-data'><pre>array([[182.89457146],\n       [182.90066116],\n       [182.90675083],\n       [182.91284047],\n       [182.91893008],\n       [182.92501967],\n       [182.93110922],\n       [182.93719875],\n       [182.94328824]])</pre></div></li><li class='xr-var-item'><div class='xr-var-name'><span>esd</span></div><div class='xr-var-dims'>(station)</div><div class='xr-var-dtype'>float64</div><div class='xr-var-preview xr-preview'>1.01</div><input id='attrs-20086016-1931-4ec4-b87c-9eed1390253e' class='xr-var-attrs-in' type='checkbox' ><label for='attrs-20086016-1931-4ec4-b87c-9eed1390253e' title='Show/Hide attributes'><svg class='icon xr-icon-file-text2'><use xlink:href='#icon-file-text2'></use></svg></label><input id='data-543b79cb-a5a6-4ac8-8e59-588946341f3c' class='xr-var-data-in' type='checkbox'><label for='data-543b79cb-a5a6-4ac8-8e59-588946341f3c' title='Show/Hide data repr'><svg class='icon xr-icon-database'><use xlink:href='#icon-database'></use></svg></label><div class='xr-var-attrs'><dl class='xr-attrs'><dt><span>standard_name :</span></dt><dd>earth_sun_distance</dd><dt><span>units :</span></dt><dd>AU</dd><dt><span>valid_range :</span></dt><dd>[0, 40000]</dd></dl></div><div class='xr-var-data'><pre>array([1.00959973])</pre></div></li><li class='xr-var-item'><div class='xr-var-name'><span>qc_flag_ghi</span></div><div class='xr-var-dims'>(time, station)</div><div class='xr-var-dtype'>uint8</div><div class='xr-var-preview xr-preview'>0 0 0 0 0 0 0 0 0</div><input id='attrs-ff5c80ae-9d12-4f9d-9bc4-d6d758f4903b' class='xr-var-attrs-in' type='checkbox' ><label for='attrs-ff5c80ae-9d12-4f9d-9bc4-d6d758f4903b' title='Show/Hide attributes'><svg class='icon xr-icon-file-text2'><use xlink:href='#icon-file-text2'></use></svg></label><input id='data-d874cc42-3da3-4e95-8356-d1ae2582f53c' class='xr-var-data-in' type='checkbox'><label for='data-d874cc42-3da3-4e95-8356-d1ae2582f53c' title='Show/Hide data repr'><svg class='icon xr-icon-database'><use xlink:href='#icon-database'></use></svg></label><div class='xr-var-attrs'><dl class='xr-attrs'><dt><span>standard_name :</span></dt><dd>quality_flag</dd><dt><span>valid_range :</span></dt><dd>[0, 127]</dd><dt><span>serial :</span></dt><dd>S12128.001</dd><dt><span>calibration_factor :</span></dt><dd>7.73</dd><dt><span>calibration_function :</span></dt><dd>flux (W m-2) = flux (V) * calibration_factor (W m-2 V-1)</dd><dt><span>ancillary_variables :</span></dt><dd>ghi</dd><dt><span>flag_masks :</span></dt><dd>[1, 2, 4, 8, 16, 32, 64]</dd><dt><span>flag_values :</span></dt><dd>[1, 2, 4, 8, 16, 32, 64]</dd><dt><span>flag_meanings :</span></dt><dd>below_physical_limit above_physical_limit below_rare_limit above_rare_limit comparison_to_low comparison_to_high quality_control_failed</dd></dl></div><div class='xr-var-data'><pre>array([[0],\n       [0],\n       [0],\n       [0],\n       [0],\n       [0],\n       [0],\n       [0],\n       [0]], dtype=uint8)</pre></div></li><li class='xr-var-item'><div class='xr-var-name'><span>qc_flag_gti</span></div><div class='xr-var-dims'>(time, station)</div><div class='xr-var-dtype'>uint8</div><div class='xr-var-preview xr-preview'>0 0 0 0 0 0 0 0 0</div><input id='attrs-fb6a2dd0-98bb-4a29-bf61-21593acc34d2' class='xr-var-attrs-in' type='checkbox' ><label for='attrs-fb6a2dd0-98bb-4a29-bf61-21593acc34d2' title='Show/Hide attributes'><svg class='icon xr-icon-file-text2'><use xlink:href='#icon-file-text2'></use></svg></label><input id='data-36539939-cf14-4374-8a2a-9670362743f9' class='xr-var-data-in' type='checkbox'><label for='data-36539939-cf14-4374-8a2a-9670362743f9' title='Show/Hide data repr'><svg class='icon xr-icon-database'><use xlink:href='#icon-database'></use></svg></label><div class='xr-var-attrs'><dl class='xr-attrs'><dt><span>standard_name :</span></dt><dd>quality_flag</dd><dt><span>valid_range :</span></dt><dd>[0, 127]</dd><dt><span>hangle :</span></dt><dd>0.0</dd><dt><span>vangle :</span></dt><dd>0.0</dd><dt><span>serial :</span></dt><dd>S12137.049</dd><dt><span>calibration_factor :</span></dt><dd>6.98</dd><dt><span>calibration_function :</span></dt><dd>flux (W m-2) = flux (V) * calibration_factor (W m-2 V-1)</dd><dt><span>ancillary_variables :</span></dt><dd>gti</dd><dt><span>flag_masks :</span></dt><dd>[1, 2, 4, 8, 16, 32, 64]</dd><dt><span>flag_values :</span></dt><dd>[1, 2, 4, 8, 16, 32, 64]</dd><dt><span>flag_meanings :</span></dt><dd>below_physical_limit above_physical_limit below_rare_limit above_rare_limit comparison_to_low comparison_to_high quality_control_failed</dd></dl></div><div class='xr-var-data'><pre>array([[0],\n       [0],\n       [0],\n       [0],\n       [0],\n       [0],\n       [0],\n       [0],\n       [0]], dtype=uint8)</pre></div></li></ul></div></li><li class='xr-section-item'><input id='section-71d8cdc8-55a2-4d71-8ad0-caa11acdc4a0' class='xr-section-summary-in' type='checkbox'  ><label for='section-71d8cdc8-55a2-4d71-8ad0-caa11acdc4a0' class='xr-section-summary' >Indexes: <span>(3)</span></label><div class='xr-section-inline-details'></div><div class='xr-section-details'><ul class='xr-var-list'><li class='xr-var-item'><div class='xr-index-name'><div>station</div></div><div class='xr-index-preview'>PandasIndex</div><div></div><input id='index-d6ba5487-c681-48eb-adb7-f70f511ea3db' class='xr-index-data-in' type='checkbox'/><label for='index-d6ba5487-c681-48eb-adb7-f70f511ea3db' title='Show/Hide index repr'><svg class='icon xr-icon-database'><use xlink:href='#icon-database'></use></svg></label><div class='xr-index-data'><pre>PandasIndex(Float64Index([1.0], dtype=&#x27;float64&#x27;, name=&#x27;station&#x27;))</pre></div></li><li class='xr-var-item'><div class='xr-index-name'><div>time</div></div><div class='xr-index-preview'>PandasIndex</div><div></div><input id='index-32580a3b-9503-44e0-8513-2e545060b542' class='xr-index-data-in' type='checkbox'/><label for='index-32580a3b-9503-44e0-8513-2e545060b542' title='Show/Hide index repr'><svg class='icon xr-icon-database'><use xlink:href='#icon-database'></use></svg></label><div class='xr-index-data'><pre>PandasIndex(DatetimeIndex([&#x27;2022-08-30 11:21:01&#x27;, &#x27;2022-08-30 11:21:02&#x27;,\n               &#x27;2022-08-30 11:21:03&#x27;, &#x27;2022-08-30 11:21:04&#x27;,\n               &#x27;2022-08-30 11:21:05&#x27;, &#x27;2022-08-30 11:21:06&#x27;,\n               &#x27;2022-08-30 11:21:07&#x27;, &#x27;2022-08-30 11:21:08&#x27;,\n               &#x27;2022-08-30 11:21:09&#x27;],\n              dtype=&#x27;datetime64[ns]&#x27;, name=&#x27;time&#x27;, freq=&#x27;S&#x27;))</pre></div></li><li class='xr-var-item'><div class='xr-index-name'><div>maintenancetime</div></div><div class='xr-index-preview'>PandasIndex</div><div></div><input id='index-8b685cda-67dc-4e2c-886b-7340d697d435' class='xr-index-data-in' type='checkbox'/><label for='index-8b685cda-67dc-4e2c-886b-7340d697d435' title='Show/Hide index repr'><svg class='icon xr-icon-database'><use xlink:href='#icon-database'></use></svg></label><div class='xr-index-data'><pre>PandasIndex(DatetimeIndex([&#x27;2023-05-08 16:09:06&#x27;], dtype=&#x27;datetime64[ns]&#x27;, name=&#x27;maintenancetime&#x27;, freq=None))</pre></div></li></ul></div></li><li class='xr-section-item'><input id='section-ff658b05-f1d5-4094-8dd1-489aabc8d9d3' class='xr-section-summary-in' type='checkbox'  ><label for='section-ff658b05-f1d5-4094-8dd1-489aabc8d9d3' class='xr-section-summary' >Attributes: <span>(31)</span></label><div class='xr-section-inline-details'></div><div class='xr-section-details'><dl class='xr-attrs'><dt><span>title :</span></dt><dd>TROPOS pyranometer network (PyrNet) observations</dd><dt><span>institution :</span></dt><dd>Leibniz Institute for Tropospheric Research (TROPOS)</dd><dt><span>department :</span></dt><dd>Remote Sensing of Atmospheric Processes</dd><dt><span>department_team :</span></dt><dd>Clouds, Aerosol and Radiation</dd><dt><span>address :</span></dt><dd>Permoser Str. 15, 04318 Leipzig, Germany</dd><dt><span>source :</span></dt><dd>TROPOS pyranometer network (PyrNet)</dd><dt><span>contact_person :</span></dt><dd>Andreas Macke and the clouds, aerosol and radiation team of the remote sensing department, mailto:andreas.macke@tropos.de</dd><dt><span>contributor_name :</span></dt><dd></dd><dt><span>contributor_role :</span></dt><dd></dd><dt><span>authors_software :</span></dt><dd>Hartwig Deneke, Jonas Witthuhn, mailto:deneke@tropos.de</dd><dt><span>creator_name :</span></dt><dd></dd><dt><span>project :</span></dt><dd></dd><dt><span>references :</span></dt><dd>https://doi.org/10.5194/amt-9-1153-2016</dd><dt><span>standard_name_vocabulary :</span></dt><dd>CF Standard Name Table v81</dd><dt><span>conventions :</span></dt><dd>CF-1.10, ACDD-1.3</dd><dt><span>license :</span></dt><dd>CC-BY-SA 3.0</dd><dt><span>TESTNOTE :</span></dt><dd>This is a test note.</dd><dt><span>processing_level :</span></dt><dd>l1b</dd><dt><span>product_version :</span></dt><dd>0.1.10+28.g175ed10.dirty</dd><dt><span>history :</span></dt><dd>2024-02-12T12:45:01: Generated level l1a  by pyrnet version 0.1.10+28.g175ed10.dirty; 2024-02-12T12:45:02: Generated level l1b  by pyrnet version 0.1.10+28.g175ed10.dirty; </dd><dt><span>date_created :</span></dt><dd>2024-02-12T12:45:02</dd><dt><span>geospatial_lat_min :</span></dt><dd>51.3902104</dd><dt><span>geospatial_lat_max :</span></dt><dd>51.3902104</dd><dt><span>geospatial_lat_units :</span></dt><dd>degN</dd><dt><span>geospatial_lon_min :</span></dt><dd>11.885252199999991</dd><dt><span>geospatial_lon_max :</span></dt><dd>11.885252199999991</dd><dt><span>geospatial_lon_units :</span></dt><dd>degE</dd><dt><span>time_coverage_start :</span></dt><dd>2022-08-30T11:21:01</dd><dt><span>time_coverage_end :</span></dt><dd>2022-08-30T11:21:09</dd><dt><span>time_coverage_duration :</span></dt><dd>P0DT0H0M8S</dd><dt><span>time_coverage_resolution :</span></dt><dd>P0DT0H0M1S</dd></dl></div></li></ul></div></div>"
     },
     "execution_count": 40,
     "metadata": {},
     "output_type": "execute_result"
    }
   ],
   "source": [
    "#|dropcode\n",
    "#|dropout\n",
    "fname = \"../../example_data/to_l1a_output.nc\"\n",
    "config = {\n",
    "    \"l1bfreq\":\"1s\",\n",
    "    \"stripminutes\":0,\n",
    "    \"average_latlon\":True,\n",
    "    \"l1b_resample_stats\": [\"min\", \"max\", \"std\"],\n",
    "    \"radflux_varname\": [\"ghi\",\"gti\"]\n",
    "}\n",
    "\n",
    "ds_l1b = to_l1b(fname=fname, config=config, check_adc_sync=False)\n",
    "ds_l1b.to_netcdf(\"../../example_data/to_l1b_output.nc\")\n",
    "ds_l1b"
   ],
   "metadata": {
    "collapsed": false,
    "ExecuteTime": {
     "end_time": "2024-02-12T12:45:03.042933400Z",
     "start_time": "2024-02-12T12:45:02.589002200Z"
    }
   }
  },
  {
   "cell_type": "code",
   "execution_count": 43,
   "outputs": [
    {
     "name": "stdout",
     "output_type": "stream",
     "text": [
      "CHECKING NetCDF FILE: ../../example_data/to_l1b_output.nc\n",
      "=====================\n",
      "Using CF Checker Version 4.1.0\n",
      "Checking against CF Version CF-1.8\n",
      "Using Standard Name Table Version 84 (2024-01-19T15:55:10Z)\n",
      "Using Area Type Table Version 11 (06 July 2023)\n",
      "Using Standardized Region Name Table Version 4 (18 December 2018)\n",
      "\n",
      "ERROR: (2.6.1): This netCDF file does not appear to contain CF Convention data.\n",
      "\n",
      "------------------\n",
      "Checking variable: station\n",
      "------------------\n",
      "WARN: (3): No standard_name or long_name attribute specified\n",
      "WARN: (3.1): units attribute should be present\n",
      "\n",
      "------------------\n",
      "Checking variable: time\n",
      "------------------\n",
      "WARN: (3): No standard_name or long_name attribute specified\n",
      "\n",
      "------------------\n",
      "Checking variable: ghi\n",
      "------------------\n",
      "ERROR: (3.1): Units are not consistent with those given in the standard_name table.\n",
      "ERROR: (8.1): must be of type byte, short or int\n",
      "\n",
      "------------------\n",
      "Checking variable: gti\n",
      "------------------\n",
      "ERROR: (3.1): Units are not consistent with those given in the standard_name table.\n",
      "ERROR: (8.1): must be of type byte, short or int\n",
      "\n",
      "------------------\n",
      "Checking variable: ta\n",
      "------------------\n",
      "ERROR: (8.1): must be of type byte, short or int\n",
      "\n",
      "------------------\n",
      "Checking variable: rh\n",
      "------------------\n",
      "ERROR: (8.1): must be of type byte, short or int\n",
      "\n",
      "------------------\n",
      "Checking variable: battery_voltage\n",
      "------------------\n",
      "ERROR: (3.3): Invalid standard_name: battery_voltage\n",
      "ERROR: (8.1): must be of type byte, short or int\n",
      "\n",
      "------------------\n",
      "Checking variable: gti_min\n",
      "------------------\n",
      "ERROR: (3.3): Invalid standard_name: min_downwelling_shortwave_flux_in_air\n",
      "ERROR: (8.1): must be of type byte, short or int\n",
      "\n",
      "------------------\n",
      "Checking variable: ghi_min\n",
      "------------------\n",
      "ERROR: (3.3): Invalid standard_name: min_downwelling_shortwave_flux_in_air\n",
      "ERROR: (8.1): must be of type byte, short or int\n",
      "\n",
      "------------------\n",
      "Checking variable: gti_max\n",
      "------------------\n",
      "ERROR: (3.3): Invalid standard_name: max_downwelling_shortwave_flux_in_air\n",
      "ERROR: (8.1): must be of type byte, short or int\n",
      "\n",
      "------------------\n",
      "Checking variable: ghi_max\n",
      "------------------\n",
      "ERROR: (3.3): Invalid standard_name: max_downwelling_shortwave_flux_in_air\n",
      "ERROR: (8.1): must be of type byte, short or int\n",
      "\n",
      "------------------\n",
      "Checking variable: gti_std\n",
      "------------------\n",
      "ERROR: (3.3): Invalid standard_name: std_downwelling_shortwave_flux_in_air\n",
      "ERROR: (8.1): must be of type byte, short or int\n",
      "\n",
      "------------------\n",
      "Checking variable: ghi_std\n",
      "------------------\n",
      "ERROR: (3.3): Invalid standard_name: std_downwelling_shortwave_flux_in_air\n",
      "ERROR: (8.1): must be of type byte, short or int\n",
      "\n",
      "------------------\n",
      "Checking variable: lat\n",
      "------------------\n",
      "ERROR: (8.1): scale_factor and add_offset must be the same numeric data type\n",
      "\n",
      "------------------\n",
      "Checking variable: lon\n",
      "------------------\n",
      "ERROR: (8.1): scale_factor and add_offset must be the same numeric data type\n",
      "\n",
      "------------------\n",
      "Checking variable: ghi_qc\n",
      "------------------\n",
      "ERROR: Attribute flag_masks of incorrect type (expecting 'Data Variable' type, got 'Numeric' type)\n",
      "ERROR: Attribute flag_values of incorrect type (expecting 'Data Variable' type, got 'Numeric' type)\n",
      "ERROR: (8.1): must be of type byte, short or int\n",
      "\n",
      "------------------\n",
      "Checking variable: gti_qc\n",
      "------------------\n",
      "ERROR: Attribute flag_masks of incorrect type (expecting 'Data Variable' type, got 'Numeric' type)\n",
      "ERROR: Attribute flag_values of incorrect type (expecting 'Data Variable' type, got 'Numeric' type)\n",
      "ERROR: (8.1): must be of type byte, short or int\n",
      "\n",
      "------------------\n",
      "Checking variable: szen\n",
      "------------------\n",
      "ERROR: (8.1): must be of type byte, short or int\n",
      "\n",
      "------------------\n",
      "Checking variable: sazi\n",
      "------------------\n",
      "ERROR: (8.1): must be of type byte, short or int\n",
      "\n",
      "------------------\n",
      "Checking variable: esd\n",
      "------------------\n",
      "ERROR: (3.3): Invalid standard_name: earth_sun_distance\n",
      "ERROR: (3.1): Invalid units: AU\n",
      "ERROR: (8.1): must be of type byte, short or int\n",
      "\n",
      "ERRORS detected: 34\n",
      "WARNINGS given: 3\n",
      "INFORMATION messages: 0\n"
     ]
    }
   ],
   "source": [
    "import cfchecker.cfchecks\n",
    "init = cfchecker.cfchecks.CFChecker()\n",
    "res = init.checker(\"../../example_data/to_l1b_output.nc\")"
   ],
   "metadata": {
    "collapsed": false,
    "ExecuteTime": {
     "end_time": "2024-01-31T15:32:09.012717200Z",
     "start_time": "2024-01-31T15:32:07.679982400Z"
    }
   }
  },
  {
   "cell_type": "code",
   "execution_count": 44,
   "outputs": [
    {
     "data": {
      "text/plain": "<class 'netCDF4._netCDF4.Dataset'>\nroot group (NETCDF4 data model, file format HDF5):\n    Title: TROPOS pyranometer network (PyrNet) observations\n    Institution: Leibniz Institute for Tropospheric Research (TROPOS)\n    Department: Remote Sensing of Atmospheric Processes\n    Department_team: Clouds, Aerosol and Radiation\n    Address: Permoser Str. 15, 04318 Leipzig, Germany\n    Source: TROPOS pyranometer network (PyrNet)\n    Contact_person: Andreas Macke and the clouds, aerosol and radiation team of the remote sensing department, mailto:andreas.macke@tropos.de\n    Contributor_name: \n    Contributor_role: \n    Authors_software: Hartwig Deneke, Jonas Witthuhn, mailto:deneke@tropos.de\n    Creator_name: \n    Project: \n    References: https://doi.org/10.5194/amt-9-1153-2016\n    Standard_name_vocabulary: CF Standard Name Table v81\n    Conventions: CF-1.10, ACDD-1.3\n    License: CC-BY-SA 3.0\n    TESTNOTE: This is a test note.\n    processing_level: l1b\n    product_version: 0.1.10+15.g5f0229e.dirty\n    history: 2024-01-31T15:32:04: Generated level l1a  by pyrnet version 0.1.10+15.g5f0229e.dirty; 2024-01-31T15:32:07: Generated level l1b  by pyrnet version 0.1.10+15.g5f0229e.dirty; \n    date_created: 2024-01-31T15:32:07\n    geospatial_lat_min: 51.3902104\n    geospatial_lat_max: 51.3902104\n    geospatial_lat_units: degN\n    geospatial_lon_min: 11.885252199999991\n    geospatial_lon_max: 11.885252199999991\n    geospatial_lon_units: degE\n    time_coverage_start: 2022-08-30T11:21:01\n    time_coverage_end: 2022-08-30T11:21:09\n    time_coverage_duration: P0DT0H0M8S\n    time_coverage_resolution: P0DT0H0M1S\n    dimensions(sizes): station(1), time(9)\n    variables(dimensions): float64 station(station), float64 time(time), uint16 ghi(time, station), uint16 gti(time, station), uint16 ta(time, station), uint16 rh(time, station), uint16 battery_voltage(time, station), uint16 gti_min(time, station), uint16 ghi_min(time, station), uint16 gti_max(time, station), uint16 ghi_max(time, station), uint16 gti_std(time, station), uint16 ghi_std(time, station), uint32 lat(station), uint32 lon(station), uint16 ghi_qc(station), uint16 gti_qc(station), uint16 szen(time, station), uint16 sazi(time, station), uint16 esd(station)\n    groups: "
     },
     "execution_count": 40,
     "metadata": {},
     "output_type": "execute_result"
    }
   ],
   "source": [
    "#|dropout\n",
    "import netCDF4\n",
    "netCDF4.Dataset(\"../../example_data/to_l1b_output.nc\",'r')"
   ],
   "metadata": {
    "collapsed": false,
    "ExecuteTime": {
     "end_time": "2024-01-30T15:04:17.684118800Z",
     "start_time": "2024-01-30T15:04:16.961114100Z"
    }
   }
  },
  {
   "cell_type": "code",
   "execution_count": 41,
   "outputs": [],
   "source": [
    "#|hide\n",
    "# Export module\n",
    "# Requires *nbdev* to export and update the *../lib/logger.py* module\n",
    "import nbdev.export\n",
    "import nbformat as nbf\n",
    "name = \"data\"\n",
    "\n",
    "# Export python module\n",
    "nbdev.export.nb_export( f\"{name}.ipynb\" ,f\"../../src/pyrnet\")\n",
    "\n",
    "# Export to docs\n",
    "ntbk = nbf.read(f\"{name}.ipynb\", nbf.NO_CONVERT)\n",
    "\n",
    "text_search_dict = {\n",
    "    \"#|hide\": \"remove-cell\",  # Remove the whole cell\n",
    "    \"#|dropcode\": \"hide-input\",  # Hide the input w/ a button to show\n",
    "    \"#|dropout\": \"hide-output\"  # Hide the output w/ a button to show\n",
    "}\n",
    "for cell in ntbk.cells:\n",
    "    cell_tags = cell.get('metadata', {}).get('tags', [])\n",
    "    for key, val in text_search_dict.items():\n",
    "            if key in cell['source']:\n",
    "                if val not in cell_tags:\n",
    "                    cell_tags.append(val)\n",
    "    if len(cell_tags) > 0:\n",
    "        cell['metadata']['tags'] = cell_tags\n",
    "    nbf.write(ntbk, f\"../../docs/source/nbs/{name}.ipynb\")"
   ],
   "metadata": {
    "collapsed": false,
    "ExecuteTime": {
     "end_time": "2024-01-30T15:04:19.821123800Z",
     "start_time": "2024-01-30T15:04:17.009987100Z"
    }
   }
  }
 ],
 "metadata": {
  "kernelspec": {
   "display_name": "Python 3",
   "language": "python",
   "name": "python3"
  },
  "language_info": {
   "codemirror_mode": {
    "name": "ipython",
    "version": 2
   },
   "file_extension": ".py",
   "mimetype": "text/x-python",
   "name": "python",
   "nbconvert_exporter": "python",
   "pygments_lexer": "ipython2",
   "version": "2.7.6"
  }
 },
 "nbformat": 4,
 "nbformat_minor": 0
}
