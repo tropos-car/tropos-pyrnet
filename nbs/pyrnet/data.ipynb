{
 "cells": [
  {
   "cell_type": "code",
   "execution_count": 1,
   "metadata": {
    "collapsed": false,
    "ExecuteTime": {
     "end_time": "2024-02-27T06:51:34.110645400Z",
     "start_time": "2024-02-27T06:51:32.978706300Z"
    }
   },
   "outputs": [],
   "source": [
    "#|hide\n",
    "#|default_exp data"
   ]
  },
  {
   "cell_type": "markdown",
   "metadata": {
    "collapsed": false
   },
   "source": [
    "# Data level\n",
    "\n",
    "Reading and advance in data processing levels to be stored in netcdf database format.\n",
    "\n",
    "```{note}\n",
    "raw > l1a > l1b > l1c\n",
    "```"
   ]
  },
  {
   "cell_type": "code",
   "execution_count": 2,
   "metadata": {
    "collapsed": false,
    "ExecuteTime": {
     "end_time": "2024-02-27T06:51:35.325504600Z",
     "start_time": "2024-02-27T06:51:32.992972900Z"
    }
   },
   "outputs": [],
   "source": [
    "#|export\n",
    "import os\n",
    "import numpy as np\n",
    "import pandas as pd\n",
    "import xarray as xr\n",
    "import logging\n",
    "from toolz import assoc_in, merge_with\n",
    "import pkg_resources as pkg_res\n",
    "import warnings\n",
    "\n",
    "from trosat import sunpos as sp\n",
    "from trosat.cfconv import read_cfjson\n",
    "\n",
    "import pyrnet\n",
    "pyrnet_version = pyrnet.__version__\n",
    "import pyrnet.pyrnet\n",
    "import pyrnet.utils\n",
    "import pyrnet.logger\n",
    "import pyrnet.reports\n",
    "import pyrnet.qcrad\n",
    "\n",
    "# logging setup\n",
    "logging.basicConfig(\n",
    "    filename='pyrnet.log',\n",
    "    encoding='utf-8',\n",
    "    level=logging.DEBUG,\n",
    "    format='%(asctime)s %(name)s %(levelname)s:%(message)s'\n",
    ")\n",
    "logger = logging.getLogger(__name__)"
   ]
  },
  {
   "cell_type": "code",
   "execution_count": 3,
   "metadata": {
    "collapsed": false,
    "ExecuteTime": {
     "end_time": "2024-02-27T06:51:35.335006600Z",
     "start_time": "2024-02-27T06:51:34.864386100Z"
    }
   },
   "outputs": [],
   "source": [
    "import matplotlib.pyplot as plt"
   ]
  },
  {
   "cell_type": "markdown",
   "metadata": {
    "collapsed": false
   },
   "source": [
    "## netCDF dataset operations\n"
   ]
  },
  {
   "cell_type": "markdown",
   "source": [
    "### Filename\n",
    "Filename from config format string."
   ],
   "metadata": {
    "collapsed": false
   }
  },
  {
   "cell_type": "code",
   "execution_count": 4,
   "outputs": [],
   "source": [
    "#|export\n",
    "def get_fname(ds, freq, period=None, timevar='time', sfx='nc', kind=None, station=None, config=None):\n",
    "    config = get_config(config)\n",
    "    if period is None:\n",
    "        period = ds[timevar].values[-1] - ds[timevar].values[0]\n",
    "        period = pd.to_timedelta(period).floor(\"s\").isoformat()\n",
    "    if kind is None:\n",
    "        if ds.station.size==1:\n",
    "            kind = 's'\n",
    "            station = ds.station.values[0]\n",
    "        else:\n",
    "            kind = 'n'\n",
    "            station = ds.station.size\n",
    "    format_dict = dict(\n",
    "        dt = pd.to_datetime(ds[timevar].values[0]),\n",
    "        period = period,\n",
    "        campaign = config[\"campaign\"],\n",
    "        kind = kind,\n",
    "        station = int(station),\n",
    "        level = ds.processing_level,\n",
    "        freq = freq,\n",
    "        collection = int(config[\"collection\"]),\n",
    "        sfx = sfx\n",
    "    )\n",
    "    return config[\"output\"].format(**format_dict) "
   ],
   "metadata": {
    "collapsed": false,
    "ExecuteTime": {
     "end_time": "2024-02-27T06:51:35.336004400Z",
     "start_time": "2024-02-27T06:51:35.245062600Z"
    }
   }
  },
  {
   "cell_type": "markdown",
   "source": [
    "### Update netcdf coverage metadata\n",
    "Add and update ACDD covarge metadata to dataset"
   ],
   "metadata": {
    "collapsed": false
   }
  },
  {
   "cell_type": "code",
   "execution_count": 5,
   "metadata": {
    "collapsed": false,
    "ExecuteTime": {
     "end_time": "2024-02-27T06:51:35.337001800Z",
     "start_time": "2024-02-27T06:51:35.252564300Z"
    }
   },
   "outputs": [],
   "source": [
    "#|export\n",
    "def update_coverage_meta(ds, timevar='time'):\n",
    "    \"\"\"Update global attributes related to geospatial and time coverage\n",
    "    \"\"\"\n",
    "    duration = ds[timevar].values[-1] - ds[timevar].values[0]\n",
    "    resolution = np.mean(np.diff(ds[timevar].values))\n",
    "    now = pd.to_datetime(np.datetime64(\"now\"))\n",
    "    gattrs = {\n",
    "        'date_created': now.isoformat(),\n",
    "        'geospatial_lat_min': np.nanmin(ds.lat.values),\n",
    "        'geospatial_lat_max': np.nanmax(ds.lat.values),\n",
    "        'geospatial_lat_units': 'degN',\n",
    "        'geospatial_lon_min': np.nanmin(ds.lon.values),\n",
    "        'geospatial_lon_max': np.nanmax(ds.lon.values),\n",
    "        'geospatial_lon_units': 'degE',\n",
    "        'time_coverage_start': pd.to_datetime(ds[timevar].values[0]).isoformat(),\n",
    "        'time_coverage_end': pd.to_datetime(ds[timevar].values[-1]).isoformat(),\n",
    "        'time_coverage_duration': pd.to_timedelta(duration).isoformat(),\n",
    "        'time_coverage_resolution': pd.to_timedelta(resolution).isoformat(),\n",
    "    }\n",
    "    ds.attrs.update(gattrs)\n",
    "    return ds\n"
   ]
  },
  {
   "cell_type": "markdown",
   "source": [
    "### Stretch resolution\n",
    "Update encoding *scale_factor* and *add_offset* to use the full dtype resolution."
   ],
   "metadata": {
    "collapsed": false
   }
  },
  {
   "cell_type": "code",
   "execution_count": 6,
   "metadata": {
    "collapsed": false,
    "ExecuteTime": {
     "end_time": "2024-02-27T06:51:35.356213Z",
     "start_time": "2024-02-27T06:51:35.269262200Z"
    }
   },
   "outputs": [],
   "source": [
    "#|export\n",
    "def stretch_resolution(ds: xr.Dataset) -> xr.Dataset:\n",
    "    \"\"\" Stretch variable resolution to full integer size,\n",
    "    to not lose resolution after averaging ADC count data.\"\"\"\n",
    "    for var in ds:\n",
    "        if \"scale_factor\" not in ds[var].encoding:\n",
    "            continue\n",
    "        if \"valid_range\" not in ds[var].attrs:\n",
    "            continue\n",
    "        dtype = ds[var].encoding['dtype']\n",
    "        valid_range = ds[var].valid_range\n",
    "        int_limit = np.iinfo(dtype).max\n",
    "        scale_factor = ds[var].encoding['scale_factor']\n",
    "        scale_factor_mod = int((int_limit-1)/valid_range[1])\n",
    "        ds[var].encoding.update({\n",
    "            \"scale_factor\": scale_factor / scale_factor_mod,\n",
    "            \"_FillValue\": int_limit,\n",
    "        })\n",
    "        ds[var].attrs.update({\n",
    "            \"valid_range\": valid_range * scale_factor_mod\n",
    "        })\n",
    "    return ds"
   ]
  },
  {
   "cell_type": "markdown",
   "source": [
    "### Write to netcdf\n",
    "Ensure complete metadata and merge if needed before writing to netcdf."
   ],
   "metadata": {
    "collapsed": false
   }
  },
  {
   "cell_type": "code",
   "execution_count": 7,
   "metadata": {
    "collapsed": false,
    "ExecuteTime": {
     "end_time": "2024-02-27T06:51:35.358208300Z",
     "start_time": "2024-02-27T06:51:35.283634600Z"
    }
   },
   "outputs": [],
   "source": [
    "#|export\n",
    "def to_netcdf(ds, fname, timevar=\"time\"):\n",
    "    \"\"\"xarray to netcdf, but merge if exist\n",
    "    \"\"\"\n",
    "    # save to netCDF4\n",
    "    ds = update_coverage_meta(ds, timevar=timevar)\n",
    "    ds.to_netcdf(fname,\n",
    "                 encoding={timevar:{'dtype':'float64'}}) # for OpenDAP 2 compatibility\n",
    "#|export\n",
    "def to_netcdf_l1b(ds, fname, freq='1s', timevar=\"time\"):\n",
    "    \"\"\"xarray to netcdf, but merge if exist\n",
    "    \"\"\"\n",
    "    # merge if necessary\n",
    "    if isinstance(ds, xr.Dataset):\n",
    "        dslist = [ds]\n",
    "    else:\n",
    "        dslist = ds\n",
    "    \n",
    "    if os.path.exists(fname):\n",
    "        ds1 = xr.load_dataset(fname)\n",
    "        dslist.append(ds1)\n",
    "        os.remove(fname)\n",
    "\n",
    "    ds = merge_l1b(dslist, freq=freq, timevar=timevar)\n",
    "    # save to netCDF4\n",
    "    ds = update_coverage_meta(ds, timevar=timevar)\n",
    "    ds.to_netcdf(fname,\n",
    "                 encoding={timevar:{'dtype':'float64'}}) # for OpenDAP 2 compatibility"
   ]
  },
  {
   "cell_type": "markdown",
   "source": [
    "### Resample\n",
    "Specialized (fast) resample methods, as xarray resample is sometimes very slow."
   ],
   "metadata": {
    "collapsed": false
   }
  },
  {
   "cell_type": "code",
   "execution_count": 8,
   "metadata": {
    "collapsed": false,
    "ExecuteTime": {
     "end_time": "2024-02-27T06:51:35.358208300Z",
     "start_time": "2024-02-27T06:51:35.295791700Z"
    }
   },
   "outputs": [],
   "source": [
    "#|export\n",
    "def resample(ds, freq, methods='mean', kwargs={}):\n",
    "    \"\"\" Resample xarray dataset using pandas for speed.\n",
    "    https://github.com/pydata/xarray/issues/4498#issuecomment-706688398\n",
    "    \"\"\"\n",
    "    if isinstance(methods,str):\n",
    "        methods = [methods]\n",
    "\n",
    "    dsr = ds.to_dataframe().resample(freq)\n",
    "    dsouts = []\n",
    "    for method in methods:\n",
    "        # what we want (quickly), but in Pandas form\n",
    "        with warnings.catch_warnings():\n",
    "            warnings.simplefilter(action='ignore', category=FutureWarning)\n",
    "            df_h = dsr.apply(method)\n",
    "        # rebuild xarray dataset with attributes\n",
    "        vals = []\n",
    "        for c in df_h.columns:\n",
    "            vals.append(\n",
    "                xr.DataArray(data=df_h[c],\n",
    "                             dims=['time'],\n",
    "                             coords={'time': df_h.index},\n",
    "                             attrs=ds[c].attrs)\n",
    "            )\n",
    "        dsouts.append(xr.Dataset(dict(zip(df_h.columns, vals)), attrs=ds.attrs))\n",
    "\n",
    "    if len(dsouts) == 1:\n",
    "        dsouts = dsouts[0]\n",
    "    return dsouts"
   ]
  },
  {
   "cell_type": "markdown",
   "metadata": {
    "collapsed": false
   },
   "source": [
    "## Config \n",
    "Parse default config"
   ]
  },
  {
   "cell_type": "code",
   "execution_count": 9,
   "metadata": {
    "collapsed": false,
    "ExecuteTime": {
     "end_time": "2024-02-27T06:51:35.358208300Z",
     "start_time": "2024-02-27T06:51:35.310996600Z"
    }
   },
   "outputs": [],
   "source": [
    "#|export\n",
    "def get_config(config: dict|None = None) -> dict:\n",
    "    \"\"\"Read default config and merge with input config\n",
    "    \"\"\"\n",
    "\n",
    "    fn_config = pkg_res.resource_filename(\"pyrnet\", \"share/pyrnet_config.json\")\n",
    "    default_config = pyrnet.utils.read_json(fn_config)\n",
    "    if config is None:\n",
    "        config = default_config\n",
    "    config = {**default_config, **config}\n",
    "\n",
    "    # add default files\n",
    "    cfiles = {\n",
    "        \"file_cfmeta\": \"share/pyrnet_cfmeta.json\",\n",
    "        \"file_calibration\": \"share/pyrnet_calibration.json\",\n",
    "        \"file_mapping\": \"share/pyrnet_station_map.json\",\n",
    "        \"file_gti_angles\": \"share/pyrnet_gti_angles.json\",\n",
    "        \"file_site\": \"share/pyrnet_sites.json\",\n",
    "    }\n",
    "    for fn in cfiles:\n",
    "        if config[fn] is None:\n",
    "            config[fn] =  pkg_res.resource_filename(\"pyrnet\", cfiles[fn])\n",
    "    return config\n",
    "\n",
    "def get_sensor_config(sconfig: dict|None = None) -> dict:\n",
    "    \"\"\" Read the sensor configuration from the default json file and merge if needed. \n",
    "    \"\"\"\n",
    "    fn_config = pkg_res.resource_filename(\"pyrnet\", \"share/pyrnet_sensor_config.json\")\n",
    "    default_config = pyrnet.utils.read_json(fn_config)\n",
    "    if sconfig is None:\n",
    "        sconfig = default_config\n",
    "    sconfig = {**default_config, **sconfig}\n",
    "    return sconfig\n",
    "\n",
    "def get_cfmeta(config: dict|None = None) -> dict:\n",
    "    \"\"\"Read global and variable attributes and encoding from cfmeta.json\n",
    "    \"\"\"\n",
    "    config= get_config(config)\n",
    "    # parse the json file\n",
    "    cfdict = read_cfjson(config[\"file_cfmeta\"])\n",
    "    # get global attributes:\n",
    "    gattrs = cfdict['attributes']\n",
    "    # apply config\n",
    "    gattrs = {k:v.format_map(config) for k,v in gattrs.items()}\n",
    "    # get variable attributes\n",
    "    d = pyrnet.utils.get_var_attrs(cfdict)\n",
    "    # split encoding attributes\n",
    "    vattrs, vencode = pyrnet.utils.get_attrs_enc(d)\n",
    "    return gattrs, vattrs, vencode"
   ]
  },
  {
   "cell_type": "markdown",
   "metadata": {
    "collapsed": false
   },
   "source": [
    "## Encoding\n",
    "The encoding attributes are defined within the file PyrNet/share/pyrnet_cfmeta.json per default.\n",
    "\n",
    "The netcdf packing of data is realized via the two attributes *scale_factor* and *add_offset*:\n",
    "  ```unpacked_variable = scale_factor * packed_variable + add_offset```"
   ]
  },
  {
   "cell_type": "code",
   "execution_count": 10,
   "outputs": [],
   "source": [
    "#|export\n",
    "def calc_encoding(sconfig:dict, ADCV=3.3, ADCbits=10) -> dict:\n",
    "    ADCfac = ADCV / (2**ADCbits-1) # Last bit is reserved \n",
    "    sencoding = {}\n",
    "    for k, v in sconfig.items():\n",
    "        sencoding.update(\n",
    "            {k: dict(\n",
    "                units=v['units'],\n",
    "                scale_factor=v['C']*ADCfac/v['gain'],\n",
    "                add_offset=v['offset'],\n",
    "                valid_range= [0, min(((2**ADCbits-1), int(v['Vmax']*v['gain']/ADCfac)))]\n",
    "            )}\n",
    "        )\n",
    "    return sencoding"
   ],
   "metadata": {
    "collapsed": false,
    "ExecuteTime": {
     "end_time": "2024-02-27T06:51:35.358208300Z",
     "start_time": "2024-02-27T06:51:35.319390500Z"
    }
   }
  },
  {
   "cell_type": "code",
   "execution_count": 11,
   "outputs": [
    {
     "data": {
      "text/plain": "{'ta': {'units': 'K',\n  'scale_factor': 0.12903225806451613,\n  'add_offset': 253.15,\n  'valid_range': [0, 775]},\n 'rh': {'units': '1',\n  'scale_factor': 0.0012903225806451613,\n  'add_offset': 0.0,\n  'valid_range': [0, 775]},\n 'battery_voltage': {'units': 'V',\n  'scale_factor': 0.0064516129032258064,\n  'add_offset': 0.0,\n  'valid_range': [0, 992]},\n 'ghi': {'units': 'V',\n  'scale_factor': 1.075268817204301e-05,\n  'add_offset': 0.0,\n  'valid_range': [0, 1023]},\n 'gti': {'units': 'V',\n  'scale_factor': 1.075268817204301e-05,\n  'add_offset': 0.0,\n  'valid_range': [0, 1023]}}"
     },
     "execution_count": 11,
     "metadata": {},
     "output_type": "execute_result"
    }
   ],
   "source": [
    "sconfig = get_sensor_config()\n",
    "sencoding = calc_encoding(sconfig)\n",
    "sencoding"
   ],
   "metadata": {
    "collapsed": false,
    "ExecuteTime": {
     "end_time": "2024-02-27T06:51:35.417605500Z",
     "start_time": "2024-02-27T06:51:35.329497200Z"
    }
   }
  },
  {
   "cell_type": "code",
   "execution_count": 12,
   "metadata": {
    "collapsed": false,
    "ExecuteTime": {
     "end_time": "2024-02-27T06:51:35.674848300Z",
     "start_time": "2024-02-27T06:51:35.348230800Z"
    }
   },
   "outputs": [
    {
     "data": {
      "text/plain": "{'attributes': {'Conventions': 'CF-1.10, ACDD-1.3',\n  'title': 'TROPOS pyranometer network (PyrNet) observational data set',\n  'history': '',\n  'institution': 'Leibniz Institute for Tropospheric Research (TROPOS)',\n  'source': 'TROPOS pyranometer network (PyrNet)',\n  'references': 'https://doi.org/10.5194/amt-9-1153-2016',\n  'Department': 'Remote Sensing of Atmospheric Processes',\n  'Department_team': 'Clouds, Aerosol and Radiation',\n  'Address': 'Permoser Str. 15, 04318 Leipzig, Germany',\n  'Contact_person': 'Andreas Macke and the clouds, aerosol and radiation team of the remote sensing department, mailto:andreas.macke@tropos.de',\n  'Contributor_name': '{contributor_name}',\n  'Contributor_role': '{contributor_role}',\n  'Authors_software': 'Hartwig Deneke, Jonas Witthuhn, mailto:deneke@tropos.de',\n  'Creator_name': '{creator_name}',\n  'Project': '{project}',\n  'Standard_name_vocabulary': 'CF Standard Name Table v81',\n  'License': 'CC-BY-SA 3.0'},\n 'variables': {'ta': {'type': 'u2',\n   'attributes': {'units': 'K',\n    'long_name': 'air temperature',\n    'standard_name': 'air_temperature',\n    'scale_factor': 0.01,\n    'add_offset': 253.15,\n    '_FillValue': 65535,\n    'valid_range': [0, 10000],\n    'zlib': True}},\n  'rh': {'type': 'u2',\n   'attributes': {'units': '1',\n    'long_name': 'air relative humidity',\n    'standard_name': 'relative_humidity',\n    'scale_factor': 0.0001,\n    'add_offset': 0.0,\n    'valid_range': [0, 10000],\n    '_FillValue': 65535,\n    'zlib': True}},\n  'battery_voltage': {'type': 'u2',\n   'attributes': {'units': 'V',\n    'standard_name': 'battery_voltage',\n    'scale_factor': 0.001,\n    'add_offset': 0.0,\n    'valid_range': [0, 6400],\n    '_FillValue': 65535,\n    'zlib': True}},\n  'ghi': {'type': 'u2',\n   'attributes': {'units': 'W m-2',\n    'long_name': 'downwelling shortwave flux',\n    'standard_name': 'downwelling_shortwave_flux_in_air',\n    'scale_factor': 0.025,\n    'add_offset': 0.0,\n    'valid_range': [0, 60000],\n    '_FillValue': 65535,\n    'zlib': True}},\n  'gti': {'type': 'u2',\n   'attributes': {'units': 'V',\n    'long_name': 'downwelling shortwave flux measured on secondary platform, might be tilted',\n    'standard_name': 'downwelling_shortwave_flux_in_air',\n    'scale_factor': 0.025,\n    'add_offset': 0.0,\n    'valid_range': [0, 60000],\n    '_FillValue': 65535,\n    'zlib': True}},\n  'station': {'type': 'u1',\n   'attributes': {'units': '-',\n    'long_name': 'PyrNet unit box number',\n    '_FillValue': 255,\n    'zlib': True}},\n  'szen': {'type': 'u2',\n   'attributes': {'standard_name': 'solar_zenith_angle',\n    'units': 'degree',\n    'scale_factor': 0.005,\n    'add_offset': 0.0,\n    'valid_range': [0, 36000],\n    '_FillValue': 65535,\n    'zlib': True}},\n  'sazi': {'type': 'u2',\n   'attributes': {'standard_name': 'solar_azimuth_angle',\n    'units': 'degree',\n    'scale_factor': 0.01,\n    'add_offset': 0.0,\n    'valid_range': [0, 36000],\n    '_FillValue': 65535,\n    'zlib': True}},\n  'esd': {'type': 'f8',\n   'attributes': {'long_name': 'Earth-sun distance',\n    'note': 'Calculated based on Spencer (1971), as mean of its values over all time steps.',\n    'units': 'ua'}},\n  'maintenance_flag': {'type': 'u1',\n   'attributes': {'standard_name': 'quality_flag',\n    'long_name': 'Maintenance quality control flags',\n    'note': 'Soiling describes subjectively the coverage of the pyranometer dome with dirt. The level flag is problematic if the bubble of the spirit level touches the reference ring, and bad if it is outside.',\n    'valid_range': [0, 11],\n    'flag_masks': [3, 3, 3, 12, 12],\n    'flag_values': [1, 2, 3, 4, 8],\n    'flag_meanings': 'soiling_light soiling_moderate soiling_heavy level_problematic level_bad',\n    '_FillValue': 255,\n    'zlib': True}},\n  'qc_flag': {'type': 'u1',\n   'attributes': {'standard_name': 'quality_flag',\n    'long_name': 'Automatic quality checks.',\n    'valid_range': [0, 127],\n    'flag_masks': [1, 2, 4, 8, 16, 32, 64],\n    'flag_values': [1, 2, 4, 8, 16, 32, 64],\n    'flag_meanings': 'below_physical_limit above_physical_limit below_rare_limit above_rare_limit comparison_to_low comparison_to_high quality_control_failed',\n    '_FillValue': 255,\n    'zlib': True}},\n  'lat': {'type': 'f8',\n   'attributes': {'standard_name': 'latitude',\n    'units': 'degree_north',\n    'valid_range': [-90.0, 90.0],\n    '_FillValue': -9999.0,\n    'zlib': True}},\n  'lon': {'type': 'f8',\n   'attributes': {'standard_name': 'longitude',\n    'units': 'degree_east',\n    'valid_range': [-180.0, 180.0],\n    '_FillValue': -99999.0,\n    'zlib': True}},\n  'iadc': {'type': 'u4',\n   'attributes': {'standard_name': 'index',\n    'comment': 'index to map gps to adc records',\n    'units': '-',\n    '_FillValue': 4294967295,\n    'zlib': True}},\n  'adctime': {'type': 'u4',\n   'attributes': {'standard_name': 'time',\n    '_FillValue': 4294967295,\n    'zlib': True}},\n  'time': {'type': 'f8',\n   'attributes': {'standard_name': 'time', 'zlib': True}}}}"
     },
     "execution_count": 12,
     "metadata": {},
     "output_type": "execute_result"
    }
   ],
   "source": [
    "#|dropcode\n",
    "#|dropout\n",
    "fn_cfjson = pkg_res.resource_filename(\"pyrnet\", \"share/pyrnet_cfmeta.c01.json\")\n",
    "read_cfjson(fn_cfjson)"
   ]
  },
  {
   "cell_type": "markdown",
   "metadata": {
    "collapsed": false
   },
   "source": [
    "### Irradiance values\n",
    "\n",
    "Irradiance values are stored as Voltage for later calibration. Assigning 1500Wm-2 as maximum measurable irradiance from the irradiance sensor. The maximum counts (*valid_max*) measured by the logger can be calculated by:\n",
    " * maximum counts = $\\mathrm{gain}*1500*\\mathrm{C_{max}}*1023/3.3$\n",
    "\n",
    "Most calibration factors are in the area of 7.5 uV/Wm-2, assuming $\\mathrm{C_{max}}=8$uV/Wm-2 for this estimate seems sufficient. All radiation sensors are amplified with a fixed gain of $\\mathrm{gain}=300$.\n",
    "\n",
    "Later (level 1c+) the scale factor will be instrument specific by adding the calibration from V to W m-2\n",
    "\n",
    "### Temperature and humidity\n",
    "\n",
    "\n",
    "Calibration coefficients for Temperature and Humidity DKRF-4000 series (discontinued) https://www.driesen-kern.de/downloads/produktlinie_feuchte.pdf are:\n",
    " * Temperature (T) range :-20-80 degC  from 0-5V\n",
    " * relative Humidity (rH) range: 0-100% from 0-5V\n",
    "\n",
    "As the logger ADC range is 0-3.3V with a 10bit resolution, the sensors are measured through a voltage splitting circuit. Therefore, the ADC counts have to be doubled.\n",
    " * Voltage U [V] = $2* 3.3/1023$ [counts]\n",
    " * T = $-20 + 100*(U/5)$ [degC] = $253.15 + 100*(U/5)$ [K]\n",
    " * rH = $(U/5)$  [%]  = $(U/5)$    [%]\n",
    "\n",
    "### Ancillary data\n",
    "\n",
    "* solar zenith angle (*szen*)\n",
    "    * valid range unpacked: (0,180) (deg)\n",
    "    * packing in u2 integer (unsigned 16bit)\n",
    "        * fill value = $2^{16} - 1$\n",
    "        * scale_factor = $180 /(2^{16}-2)$\n",
    "* solar azimuth angle (*sazi*)\n",
    "    * valid range unpacked: (0,360)\n",
    "    * packing in u2 integer (unsigned 16bit)\n",
    "        * fill_value = $2^{16} -1$\n",
    "        * scale_factor= $360 / (2^{16}-2)$\n",
    "* earth sun distance (*esd*)\n",
    "    * valid range unpacked: (0.98,1.02)\n",
    "    * packing in u2 integer (unsigned 16bit)\n",
    "        * fill_value = $2^{16} -1$\n",
    "        * scale_factor= $(1.02-0.98)/(2^{16}-2)$\n",
    "        * add_offset = 0.98\n"
   ]
  },
  {
   "cell_type": "code",
   "execution_count": 13,
   "metadata": {
    "collapsed": false,
    "ExecuteTime": {
     "end_time": "2024-02-27T06:51:35.675845300Z",
     "start_time": "2024-02-27T06:51:35.385140600Z"
    }
   },
   "outputs": [
    {
     "name": "stdout",
     "output_type": "stream",
     "text": [
      "ta scale_factor: 0.12903225806451613\n",
      "ta add_offset: 253.15\n",
      "ta valid_range: [0, 775]\n",
      "\n",
      "rh scale_factor: 0.0012903225806451613\n",
      "rh add_offset: 0\n",
      "rh valid_range: [0, 775]\n",
      "\n",
      "battery scale_factor: 0.0064516129032258064\n",
      "battery add_offset: 0\n",
      "battery valid_range: [0, 992]\n",
      "\n",
      "radflux scale_factor: 1.075268817204301e-05\n",
      "radflux add_offset: 0\n",
      "radflux valid_range: [0, 1023]\n",
      "\n",
      "scale_factor szen (deg): 0.005\n",
      "add_offset szen: 0.0 \n",
      "valid_range szen: [0, 36000]\n",
      "\n",
      "scale_factor sazi (deg): 0.01\n",
      "add_offset sazi: 0.0 \n",
      "valid_range sazi: [0, 36000]\n",
      "\n",
      "scale_factor esd (AU): 1.0000000000000008e-06\n",
      "add_offset esd: 0.98 \n",
      "valid_range esd: [0, 40000]\n",
      "\n",
      "scale_factor lat (degree_north): 1e-06\n",
      "add_offset lat (degree_north): -90.\n",
      "valid_range lat: [0, 180_000_000]\n",
      "\n",
      "scale_factor lon (degree_east): 1e-06\n",
      "add_offset lon (degree_east): -180.\n",
      "valid_range lon: [0, 360_000_000]\n"
     ]
    }
   ],
   "source": [
    "#|dropcode\n",
    "#|dropout\n",
    "sensor_config = {\n",
    "    \"ta\": {\n",
    "        \"C\": 100./5., # K/V\n",
    "        \"offset\": 253.15, # K at 0V\n",
    "        \"gain\": 0.5, # measured over voltage splitter\n",
    "        \"Vmax\": 5, # V output at sensor\n",
    "    },\n",
    "    \"rh\": {\n",
    "        \"C\": 1./5., # 1/V\n",
    "        \"offset\": 0, # 0 at 0V\n",
    "        \"gain\": 0.5, # measured over voltage splitter\n",
    "        \"Vmax\": 5, # V output at sensor\n",
    "    },\n",
    "    \"battery\": {\n",
    "        \"C\": 1., # V(batt)/V\n",
    "        \"offset\": 0, # V at 0V\n",
    "        \"gain\": 0.5, # measured over voltage splitter\n",
    "        \"Vmax\": 6.4, # V output at sensor\n",
    "    },\n",
    "    \"radflux\": {\n",
    "        \"C\": 1., # Vsensor/Vmeasured\n",
    "        \"offset\": 0, # V at 0V\n",
    "        \"gain\": 300, # amplified\n",
    "        \"Vmax\": 1500*8*1e-6, # V output at sensor\n",
    "    },\n",
    "}\n",
    "ADCfac = 3.3/1023. # V/counts\n",
    "for var in sensor_config:\n",
    "    sconf = sensor_config[var]\n",
    "    print(f\"{var} scale_factor: {sconf['C']*ADCfac/sconf['gain']}\")\n",
    "    print(f\"{var} add_offset: {sconf['offset']}\")\n",
    "    print(f\"{var} valid_range: [0, {min((1023, int(sconf['Vmax']*sconf['gain']/ADCfac)))}]\")\n",
    "    print()\n",
    "\n",
    "# szen encoding\n",
    "print(f\"scale_factor szen (deg): {180./(36_000)}\")\n",
    "print(f\"add_offset szen: 0.0 \")\n",
    "print(f\"valid_range szen: [0, {36_000}]\")\n",
    "print()\n",
    "# sazi encoding\n",
    "print(f\"scale_factor sazi (deg): {360./(36_000)}\")\n",
    "print(f\"add_offset sazi: 0.0 \")\n",
    "print(f\"valid_range sazi: [0, {36_000}]\")\n",
    "print()\n",
    "# esd encoding\n",
    "print(f\"scale_factor esd (AU): {(1.02-0.98)/(40_000)}\")\n",
    "print(f\"add_offset esd: 0.98 \")\n",
    "print(f\"valid_range esd: [0, {40_000}]\")\n",
    "print()\n",
    "# lat encoding\n",
    "print(f\"scale_factor lat (degree_north): {(90.-(-90.))/180_000_000}\")\n",
    "print(f\"add_offset lat (degree_north): -90.\")\n",
    "print(f\"valid_range lat: [0, 180_000_000]\")\n",
    "print()\n",
    "# lon encoding\n",
    "print(f\"scale_factor lon (degree_east): {(180.-(-180.))/360_000_000}\")\n",
    "print(f\"add_offset lon (degree_east): -180.\")\n",
    "print(f\"valid_range lon: [0, 360_000_000]\")\n",
    "print()"
   ]
  },
  {
   "cell_type": "markdown",
   "source": [
    "### Add encoding to netcdf"
   ],
   "metadata": {
    "collapsed": false
   }
  },
  {
   "cell_type": "code",
   "execution_count": 14,
   "metadata": {
    "collapsed": false,
    "ExecuteTime": {
     "end_time": "2024-02-27T06:51:35.680832300Z",
     "start_time": "2024-02-27T06:51:35.395089300Z"
    }
   },
   "outputs": [],
   "source": [
    "#|export\n",
    "def add_encoding(ds, vencode=None):\n",
    "    \"\"\"\n",
    "    Set valid_range attribute and encoding to every variable of the dataset.\n",
    "\n",
    "    Parameters\n",
    "    ----------\n",
    "    ds: xr.Dataset\n",
    "        Dataset of any processing level. The processing level will be\n",
    "        determined by the global attribute 'processing_level'.\n",
    "    vencode: dict or None\n",
    "        Dictionary of encoding attributes by variable name, will be merged with pyrnet default cfmeta. The default is None.\n",
    "\n",
    "    Returns\n",
    "    -------\n",
    "    xr.Dataset\n",
    "        The input dataset but with encoding and valid_range attribute.\n",
    "    \"\"\"\n",
    "    # prepare netcdf encoding\n",
    "    _, vattrs_default, vencode_default = get_cfmeta()\n",
    "\n",
    "    # Add valid range temporary to encoding dict.\n",
    "    # As valid_range is not implemented in xarray encoding,\n",
    "    #  it has to be stored as a variable attribute later.\n",
    "    for k in vencode_default:\n",
    "        if \"valid_range\" in vencode_default[k]:\n",
    "            continue\n",
    "        if \"valid_range\" not in vattrs_default[k]:\n",
    "            continue\n",
    "        vencode_default = assoc_in(vencode_default,\n",
    "                                   [k,'valid_range'],\n",
    "                                   vattrs_default[k]['valid_range'])\n",
    "        \n",
    "    # merge input and default with preference on input\n",
    "    if vencode is None:\n",
    "        vencode = vencode_default\n",
    "    else:\n",
    "        a = vencode_default.copy()\n",
    "        b = vencode.copy()\n",
    "        vencode = {}\n",
    "        for k in set(a)-set(b):\n",
    "            vencode.update({k:a[k]})\n",
    "        for k in set(a)&set(b):\n",
    "            vencode.update({k: {**a[k],**b[k]}})\n",
    "        for k in set(b)-set(a):\n",
    "            vencode.update({k:b[k]})\n",
    "\n",
    "    # add encoding to Dataset\n",
    "    for k, v in vencode.items():\n",
    "        for ki in [key for key in ds if key.startswith(k)]:\n",
    "            ds[ki].encoding.update(v)\n",
    "        if \"valid_range\" not in vencode[k]:\n",
    "            continue\n",
    "        # add valid_range to variable attributes\n",
    "        for ki in [key for key in ds if key.startswith(k)]:\n",
    "            ds[ki].attrs.update({\n",
    "                'valid_range': vencode[k]['valid_range']\n",
    "            })\n",
    "            \n",
    "    # add encoding to coords\n",
    "    if ds.processing_level=='l1a':\n",
    "        ds[\"gpstime\"].encoding.update({\n",
    "            **vencode[\"time\"],\n",
    "            \"units\": f\"seconds since {np.datetime_as_string(ds.gpstime.data[0], unit='D')}T00:00Z\",\n",
    "        })\n",
    "        ds[\"maintenancetime\"].encoding.update({\n",
    "            **vencode[\"time\"],\n",
    "            \"units\": f\"seconds since {np.datetime_as_string(ds.maintenancetime.data[0], unit='D')}T00:00Z\",\n",
    "        })\n",
    "        ds[\"adctime\"].encoding.update({\n",
    "            **vencode[\"adctime\"],\n",
    "            \"units\": \"milliseconds\"\n",
    "        })\n",
    "        ds[\"station\"].encoding.update({\n",
    "            **vencode[\"station\"]\n",
    "        })\n",
    "    elif ds.processing_level == 'l1b':\n",
    "        ds[\"time\"].encoding.update({\n",
    "            **vencode[\"time\"],\n",
    "            \"units\": f\"seconds since {np.datetime_as_string(ds.time.data[0], unit='D')}T00:00Z\",\n",
    "        })\n",
    "        ds[\"maintenancetime\"].encoding.update({\n",
    "            **vencode[\"time\"],\n",
    "            \"units\": f\"seconds since {np.datetime_as_string(ds.maintenancetime.data[0], unit='D')}T00:00Z\",\n",
    "        })\n",
    "    else:\n",
    "        raise ValueError(\"Dataset has no 'processing_level' attribute.\")\n",
    "    return ds"
   ]
  },
  {
   "cell_type": "markdown",
   "metadata": {
    "collapsed": false
   },
   "source": [
    "## l1a\n",
    "Full resolution unprocessed, uncalibrated data. One data file corresponds to one maintenance period of one PyrNet station.\n",
    "\n",
    "Level *l1a* will be processed from the logger raw data with the following workflow:\n",
    "\n",
    "1. Parse raw logger file\n",
    "    * ```pyrnet.logger.read_records```\n",
    "1. Get maintenance logbook quality flags\n",
    "    * ```pyrnet.reports```\n",
    "1. Get metadata and encoding\n",
    "    * ```pyrnet_cfmeta_l1b.json```\n",
    "1. Make xarray Dataset\n",
    "1. Add variable and global attributes and encoding"
   ]
  },
  {
   "cell_type": "code",
   "execution_count": 15,
   "metadata": {
    "collapsed": false,
    "ExecuteTime": {
     "end_time": "2024-02-27T06:51:35.684823600Z",
     "start_time": "2024-02-27T06:51:35.412618200Z"
    }
   },
   "outputs": [],
   "source": [
    "config = get_config()\n",
    "gattrs, vattrs, vencode = get_cfmeta(config)\n",
    "\n",
    "# update encoding with sensor config for l1a\n",
    "sconfig = get_sensor_config()\n",
    "sencoding = calc_encoding(sconfig, ADCV=3.3, ADCbits=10)"
   ]
  },
  {
   "cell_type": "code",
   "execution_count": 16,
   "metadata": {
    "collapsed": false,
    "ExecuteTime": {
     "end_time": "2024-02-27T06:51:35.717737600Z",
     "start_time": "2024-02-27T06:51:35.436073700Z"
    }
   },
   "outputs": [
    {
     "data": {
      "text/plain": "{'ta': {'scale_factor': 0.12903225806451613,\n  'add_offset': 253.15,\n  '_FillValue': 65535,\n  'zlib': True,\n  'dtype': 'u2',\n  'gzip': True,\n  'complevel': 6,\n  'units': 'K'},\n 'rh': {'scale_factor': 0.0012903225806451613,\n  'add_offset': 0.0,\n  '_FillValue': 65535,\n  'zlib': True,\n  'dtype': 'u2',\n  'gzip': True,\n  'complevel': 6,\n  'units': '1'},\n 'battery_voltage': {'scale_factor': 0.0064516129032258064,\n  'add_offset': 0.0,\n  '_FillValue': 65535,\n  'zlib': True,\n  'dtype': 'u2',\n  'gzip': True,\n  'complevel': 6,\n  'units': 'V'},\n 'ghi': {'scale_factor': 1.075268817204301e-05,\n  'add_offset': 0.0,\n  '_FillValue': 65535,\n  'zlib': True,\n  'dtype': 'u2',\n  'gzip': True,\n  'complevel': 6,\n  'units': 'V'},\n 'gti': {'scale_factor': 1.075268817204301e-05,\n  'add_offset': 0.0,\n  '_FillValue': 65535,\n  'zlib': True,\n  'dtype': 'u2',\n  'gzip': True,\n  'complevel': 6,\n  'units': 'V'},\n 'station': {'_FillValue': 255,\n  'zlib': True,\n  'dtype': 'u1',\n  'gzip': True,\n  'complevel': 6},\n 'szen': {'scale_factor': 0.005,\n  'add_offset': 0.0,\n  '_FillValue': 65535,\n  'zlib': True,\n  'dtype': 'u2',\n  'gzip': True,\n  'complevel': 6},\n 'sazi': {'scale_factor': 0.01,\n  'add_offset': 0.0,\n  '_FillValue': 65535,\n  'zlib': True,\n  'dtype': 'u2',\n  'gzip': True,\n  'complevel': 6},\n 'esd': {'dtype': 'f8', 'gzip': True, 'complevel': 6},\n 'maintenance_flag': {'_FillValue': 255,\n  'zlib': True,\n  'dtype': 'u1',\n  'gzip': True,\n  'complevel': 6},\n 'qc_flag': {'_FillValue': 255,\n  'zlib': True,\n  'dtype': 'u1',\n  'gzip': True,\n  'complevel': 6},\n 'lat': {'_FillValue': -9999.0,\n  'zlib': True,\n  'dtype': 'f8',\n  'gzip': True,\n  'complevel': 6},\n 'lon': {'_FillValue': -99999.0,\n  'zlib': True,\n  'dtype': 'f8',\n  'gzip': True,\n  'complevel': 6},\n 'iadc': {'_FillValue': 4294967295,\n  'zlib': True,\n  'dtype': 'u4',\n  'gzip': True,\n  'complevel': 6},\n 'adctime': {'_FillValue': 4294967295,\n  'zlib': True,\n  'dtype': 'u4',\n  'gzip': True,\n  'complevel': 6},\n 'time': {'zlib': True, 'dtype': 'f8', 'gzip': True, 'complevel': 6}}"
     },
     "execution_count": 16,
     "metadata": {},
     "output_type": "execute_result"
    }
   ],
   "source": [
    "# from toolz import update_in\n",
    "for var,enc in sencoding.items():\n",
    "    for k,v in enc.items():\n",
    "        if k==\"valid_range\":\n",
    "            vattrs = assoc_in(vattrs, [var,k], v)\n",
    "        else:\n",
    "            vencode = assoc_in(vencode, [var,k], v)\n",
    "vencode"
   ]
  },
  {
   "cell_type": "markdown",
   "metadata": {
    "collapsed": false
   },
   "source": [
    "## to l1a_function"
   ]
  },
  {
   "cell_type": "code",
   "execution_count": 17,
   "metadata": {
    "collapsed": false,
    "ExecuteTime": {
     "end_time": "2024-02-27T06:51:35.718735400Z",
     "start_time": "2024-02-27T06:51:35.468525400Z"
    }
   },
   "outputs": [],
   "source": [
    "#|export\n",
    "def to_l1a(\n",
    "        fname : str,\n",
    "        *,\n",
    "        station: int,\n",
    "        report: dict|pd.DataFrame|None,\n",
    "        date_of_measure : np.datetime64 = np.datetime64(\"now\"),\n",
    "        config: dict|None = None,\n",
    "        sconfig: dict|None = None,\n",
    "        global_attrs: dict|None = None\n",
    ") -> xr.Dataset|None:\n",
    "    \"\"\"\n",
    "    Read logger raw file and parse it to xarray Dataset. Thereby, attributes and names are defined via cfmeta.json file and sun position values are calculated and added.\n",
    "\n",
    "    Parameters\n",
    "    ----------\n",
    "    fname: str\n",
    "        Path and filename of the raw logger file.\n",
    "    station: int\n",
    "        PyrNet station box number.\n",
    "    report: dict\n",
    "        Parsed maintenance report, see reports.ipynb\n",
    "    bins: int\n",
    "        Number of desired bins per day. The default is 86400, which result in\n",
    "        mean values of 1 second steps per day. Maximum resolution is 86400000.\n",
    "    date_of_measure: float, datetime or datetime64\n",
    "        A rough date of measure  to account for GPS week rollover. If measured in 2019, day resolution is recommended, before 2019 annual resolution, 2020 onwards not required. If float, interpreted as Julian day from 2000-01-01T12:00. the default is np.datetime64(\"now\").\n",
    "    config: dict\n",
    "        Stores processing specific configuration.\n",
    "            * cfjson -> path to cfmeta.json, the default is \"../share/pyrnet_cfmeta.json\"\n",
    "            * stripminutes -> number of minutes to be stripped from the data at start and end,\n",
    "                the default is 5.\n",
    "    sconfig: dict\n",
    "        Config for ADC and amplifier for each sensor. The default is \"../share/pyrnet_sensor_config.json\"\n",
    "    global_attrs: dict\n",
    "        Additional global attributes for the Dataset. (Overrides cfmeta.json attributes)\n",
    "    Returns\n",
    "    -------\n",
    "    xarray.Dataset\n",
    "        Raw Logger data for one measurement periode.\n",
    "    \"\"\"\n",
    "    ADCV = 3.3\n",
    "    ADCbits = 10\n",
    "    \n",
    "    # load and merge  default config\n",
    "    config = get_config(config)\n",
    "    gattrs, vattrs, vencode = get_cfmeta(config)\n",
    "    \n",
    "    # update encoding with sensor config for l1a\n",
    "    sconfig = get_sensor_config(sconfig)\n",
    "    sencoding = calc_encoding(sconfig, ADCV=ADCV, ADCbits=ADCbits)\n",
    "    # update encoding with sensor config for l1a\n",
    "    for var, enc in sencoding.items():\n",
    "        for k, v in enc.items():\n",
    "            if k in [\"units\"]:\n",
    "                vattrs = assoc_in(vattrs, [var, k], v)\n",
    "            else:\n",
    "                vencode = assoc_in(vencode, [var, k], v)\n",
    "                \n",
    "    # update additional global attributes\n",
    "    if global_attrs is not None:\n",
    "        gattrs.update(global_attrs)\n",
    "\n",
    "    date_of_measure = pyrnet.utils.to_datetime64(date_of_measure)\n",
    "\n",
    "    # 1. Parse raw file\n",
    "    rec_adc, rec_gprmc = pyrnet.logger.read_records(fname=fname, date_of_measure=date_of_measure)\n",
    "\n",
    "    if type(rec_adc)==bool or len(rec_gprmc.time)<3:\n",
    "        logger.debug(\"Failed to load the data from the file, because of not enough stable GPS data, or file is empty.\")\n",
    "        return None\n",
    "\n",
    "    # Get ADC time\n",
    "    adctime = pyrnet.logger.get_adc_time(rec_adc)\n",
    "\n",
    "    # ADC to Volts\n",
    "    # Drop time and internal battery sensor output (columns 0 and 1)\n",
    "    adc_volts = ADCV * rec_adc[:,2:] / float(2**ADCbits - 1)\n",
    "\n",
    "    # 2. Get Logbook maintenance quality flags\n",
    "    key = f\"{station:03d}\"\n",
    "    if report is None:\n",
    "        logger.warning(\"No report available!\")\n",
    "        report = {}\n",
    "    if isinstance(report, pd.DataFrame):\n",
    "        logger.info(f\"Parsing report at date {rec_gprmc.time[-1]}\")\n",
    "        report = pyrnet.reports.parse_report(\n",
    "            report,\n",
    "            date_of_maintenance=rec_gprmc.time[-1],\n",
    "            stations=station\n",
    "        )\n",
    "\n",
    "    if key not in report:\n",
    "        logger.warning(f\"No report for station {station} available.\")\n",
    "        warnings.warn(f\"No report for station {station} available.\")\n",
    "        qc_main = pyrnet.reports.get_qcflag(4,3)\n",
    "        qc_extra = pyrnet.reports.get_qcflag(4,3)\n",
    "        vattrs = assoc_in(vattrs, [\"maintenance_flag_ghi\",\"note_general\"], \"No maintenance report!\")\n",
    "        vattrs = assoc_in(vattrs, [\"maintenance_flag_gti\",\"note_general\"], \"No maintenance report!\")\n",
    "        maintenancetime = np.array([rec_gprmc.time.astype('datetime64[ns]')[-1]])\n",
    "    else:\n",
    "        qc_main = pyrnet.reports.get_qcflag(\n",
    "            qc_clean=report[key]['clean'],\n",
    "            qc_level=report[key]['align']\n",
    "        )\n",
    "        qc_extra = pyrnet.reports.get_qcflag(\n",
    "            qc_clean=report[key]['clean2'],\n",
    "            qc_level=report[key]['align2']\n",
    "        )\n",
    "        maintenancetime = np.array([pyrnet.utils.to_datetime64(report[key][\"maintenancetime\"])]) \n",
    "        # add qc notes\n",
    "        vattrs = assoc_in(vattrs, [\"maintenance_flag_ghi\",\"note_general\"], report[key][\"note_general\"])\n",
    "        vattrs = assoc_in(vattrs, [\"maintenance_flag_gti\",\"note_general\"], report[key][\"note_general\"])\n",
    "        vattrs = assoc_in(vattrs, [\"maintenance_flag_ghi\",\"note_clean\"], report[key][\"note_clean\"])\n",
    "        vattrs = assoc_in(vattrs, [\"maintenance_flag_gti\",\"note_clean\"], report[key][\"note_clean2\"])\n",
    "        vattrs = assoc_in(vattrs, [\"maintenance_flag_ghi\",\"note_level\"], report[key][\"note_align\"])\n",
    "        vattrs = assoc_in(vattrs, [\"maintenance_flag_gti\",\"note_level\"], report[key][\"note_align2\"])\n",
    "    qc_main = np.ubyte(qc_main)\n",
    "    qc_extra = np.ubyte(qc_extra)\n",
    "\n",
    "    # 3. Add global meta data\n",
    "    now = pd.to_datetime(np.datetime64(\"now\"))\n",
    "    gattrs.update({\n",
    "        'processing_level': 'l1a',\n",
    "        'product_version': pyrnet_version,\n",
    "        'history': f'{now.isoformat()}: Generated level l1a  by pyrnet version {pyrnet_version}; ',\n",
    "    })\n",
    "    # add site information\n",
    "    if config['sites'] is not None:\n",
    "        sites = pyrnet.utils.read_json(config['file_site'])[config['sites']]\n",
    "        if key in sites:\n",
    "            gattrs.update({ \"site\" : sites[key]})\n",
    "\n",
    "    # add gti angles\n",
    "    # default horizontal\n",
    "    vattrs = assoc_in(vattrs, [\"gti\",\"hangle\"], 0.)\n",
    "    vattrs = assoc_in(vattrs, [\"gti\",\"vangle\"], 0.)\n",
    "    # update with angles from mapping file\n",
    "    if config['gti_angles'] is not None:\n",
    "        gti_angles = pyrnet.utils.read_json(config['file_gti_angles'])[config['gti_angles']]\n",
    "        if key in gti_angles:\n",
    "            hangle = np.nan if gti_angles[key][0] is None else gti_angles[key][0]\n",
    "            vangle = np.nan if gti_angles[key][1] is None else gti_angles[key][1]\n",
    "            vattrs = assoc_in(vattrs, [\"gti\",\"hangle\"], hangle)\n",
    "            vattrs = assoc_in(vattrs, [\"gti\",\"vangle\"], vangle)\n",
    "\n",
    "    if adc_volts.shape[1]<5: # gti data is not available\n",
    "        adc_volts = np.concatenate((adc_volts,-1*np.ones(adc_volts.shape[0])[:,None]),axis=1)\n",
    "\n",
    "    # 8. Make xarray Dataset\n",
    "    values = {}\n",
    "    for k, v in sconfig.items():\n",
    "        offset = sconfig[k][\"offset\"]\n",
    "        gain = sconfig[k][\"gain\"]\n",
    "        C = sconfig[k][\"C\"]\n",
    "        iadc = sconfig[k][\"iadc\"]\n",
    "        volts = adc_volts[:,iadc][:,None]\n",
    "        values.update(\n",
    "            {k: offset + C*volts/gain}\n",
    "        )\n",
    "    ds = xr.Dataset(\n",
    "        data_vars={\n",
    "            \"ghi\": ((\"adctime\",\"station\"), values[\"ghi\"]), # [V]\n",
    "            \"gti\": ((\"adctime\",\"station\"), values[\"gti\"]), # [V]\n",
    "            \"ta\": ((\"adctime\",\"station\"), values[\"ta\"]), # [K]\n",
    "            \"rh\": ((\"adctime\",\"station\"), values[\"rh\"]), # [-]\n",
    "            \"battery_voltage\": ((\"adctime\",\"station\"), values[\"battery_voltage\"]), # [V]\n",
    "            \"lat\": ((\"gpstime\",\"station\"), rec_gprmc.lat[:,None]), # [degN]\n",
    "            \"lon\": ((\"gpstime\",\"station\"), rec_gprmc.lon[:,None]), # [degE]\n",
    "            \"maintenance_flag_ghi\": ((\"maintenancetime\",\"station\"), [[qc_main]]),\n",
    "            \"maintenance_flag_gti\": ((\"maintenancetime\",\"station\"), [[qc_extra]]),\n",
    "            \"iadc\": ((\"gpstime\", \"station\"), rec_gprmc.iadc[:,None])\n",
    "        },\n",
    "        coords={\n",
    "            \"adctime\": (\"adctime\", adctime.astype('timedelta64[ns]')),\n",
    "            \"gpstime\": (\"gpstime\", rec_gprmc.time.astype('datetime64[ns]')),\n",
    "            \"maintenancetime\": (\"maintenancetime\", maintenancetime),\n",
    "            \"station\": (\"station\", [np.ubyte(station)]),\n",
    "        },\n",
    "        attrs=gattrs\n",
    "    )\n",
    "\n",
    "    # drop ocurance of douplicate gps values\n",
    "    ds = ds.drop_duplicates(\"gpstime\")\n",
    "\n",
    "    # add global coverage attributes\n",
    "    ds = update_coverage_meta(ds, timevar=\"gpstime\")\n",
    "\n",
    "    # add attributes to Dataset\n",
    "    for k,v in vattrs.items():\n",
    "        if k not in ds.keys():\n",
    "            continue\n",
    "        ds[k].attrs = v\n",
    "\n",
    "    # add encoding to Dataset\n",
    "    ds = add_encoding(ds, vencode)\n",
    "\n",
    "    return ds"
   ]
  },
  {
   "cell_type": "markdown",
   "metadata": {
    "collapsed": false
   },
   "source": [
    "## Test to_l1a function"
   ]
  },
  {
   "cell_type": "code",
   "execution_count": 18,
   "metadata": {
    "collapsed": false,
    "ExecuteTime": {
     "end_time": "2024-02-27T06:51:35.724045600Z",
     "start_time": "2024-02-27T06:51:35.478484800Z"
    }
   },
   "outputs": [
    {
     "name": "stdout",
     "output_type": "stream",
     "text": [
      "Processing fname:\n",
      "2022-08-30_P0DT0H0M4S_pyrnet__s001l1af10Hz.c01.nc\n"
     ]
    },
    {
     "data": {
      "text/plain": "<xarray.Dataset>\nDimensions:               (adctime: 77, station: 1, gpstime: 5,\n                           maintenancetime: 1)\nCoordinates:\n  * adctime               (adctime) timedelta64[ns] 00:00:00 ... 00:00:07.600000\n  * gpstime               (gpstime) datetime64[ns] 2022-08-30T11:21:04.065000...\n  * maintenancetime       (maintenancetime) datetime64[ns] 2023-05-08T16:09:06\n  * station               (station) uint8 1\nData variables:\n    ghi                   (adctime, station) float64 0.002086 ... 0.002086\n    gti                   (adctime, station) float64 0.001935 ... 0.001935\n    ta                    (adctime, station) float64 294.7 294.7 ... 294.8 295.0\n    rh                    (adctime, station) float64 0.6245 0.6245 ... 0.6297\n    battery_voltage       (adctime, station) float64 6.452 6.439 ... 6.465 6.452\n    lat                   (gpstime, station) float64 51.39 51.39 ... 51.39 51.39\n    lon                   (gpstime, station) float64 11.89 11.89 ... 11.89 11.89\n    maintenance_flag_ghi  (maintenancetime, station) uint8 9\n    maintenance_flag_gti  (maintenancetime, station) uint8 7\n    iadc                  (gpstime, station) uint32 26 35 54 64 74\nAttributes: (12/31)\n    Conventions:               CF-1.10, ACDD-1.3\n    title:                     TROPOS pyranometer network (PyrNet) observatio...\n    history:                   2024-02-27T06:51:35: Generated level l1a  by p...\n    institution:               Leibniz Institute for Tropospheric Research (T...\n    source:                    TROPOS pyranometer network (PyrNet)\n    references:                https://doi.org/10.5194/amt-9-1153-2016\n    ...                        ...\n    geospatial_lon_max:        11.885256666666667\n    geospatial_lon_units:      degE\n    time_coverage_start:       2022-08-30T11:21:04.065000\n    time_coverage_end:         2022-08-30T11:21:09\n    time_coverage_duration:    P0DT0H0M4.935S\n    time_coverage_resolution:  P0DT0H0M1.23375S",
      "text/html": "<div><svg style=\"position: absolute; width: 0; height: 0; overflow: hidden\">\n<defs>\n<symbol id=\"icon-database\" viewBox=\"0 0 32 32\">\n<path d=\"M16 0c-8.837 0-16 2.239-16 5v4c0 2.761 7.163 5 16 5s16-2.239 16-5v-4c0-2.761-7.163-5-16-5z\"></path>\n<path d=\"M16 17c-8.837 0-16-2.239-16-5v6c0 2.761 7.163 5 16 5s16-2.239 16-5v-6c0 2.761-7.163 5-16 5z\"></path>\n<path d=\"M16 26c-8.837 0-16-2.239-16-5v6c0 2.761 7.163 5 16 5s16-2.239 16-5v-6c0 2.761-7.163 5-16 5z\"></path>\n</symbol>\n<symbol id=\"icon-file-text2\" viewBox=\"0 0 32 32\">\n<path d=\"M28.681 7.159c-0.694-0.947-1.662-2.053-2.724-3.116s-2.169-2.030-3.116-2.724c-1.612-1.182-2.393-1.319-2.841-1.319h-15.5c-1.378 0-2.5 1.121-2.5 2.5v27c0 1.378 1.122 2.5 2.5 2.5h23c1.378 0 2.5-1.122 2.5-2.5v-19.5c0-0.448-0.137-1.23-1.319-2.841zM24.543 5.457c0.959 0.959 1.712 1.825 2.268 2.543h-4.811v-4.811c0.718 0.556 1.584 1.309 2.543 2.268zM28 29.5c0 0.271-0.229 0.5-0.5 0.5h-23c-0.271 0-0.5-0.229-0.5-0.5v-27c0-0.271 0.229-0.5 0.5-0.5 0 0 15.499-0 15.5 0v7c0 0.552 0.448 1 1 1h7v19.5z\"></path>\n<path d=\"M23 26h-14c-0.552 0-1-0.448-1-1s0.448-1 1-1h14c0.552 0 1 0.448 1 1s-0.448 1-1 1z\"></path>\n<path d=\"M23 22h-14c-0.552 0-1-0.448-1-1s0.448-1 1-1h14c0.552 0 1 0.448 1 1s-0.448 1-1 1z\"></path>\n<path d=\"M23 18h-14c-0.552 0-1-0.448-1-1s0.448-1 1-1h14c0.552 0 1 0.448 1 1s-0.448 1-1 1z\"></path>\n</symbol>\n</defs>\n</svg>\n<style>/* CSS stylesheet for displaying xarray objects in jupyterlab.\n *\n */\n\n:root {\n  --xr-font-color0: var(--jp-content-font-color0, rgba(0, 0, 0, 1));\n  --xr-font-color2: var(--jp-content-font-color2, rgba(0, 0, 0, 0.54));\n  --xr-font-color3: var(--jp-content-font-color3, rgba(0, 0, 0, 0.38));\n  --xr-border-color: var(--jp-border-color2, #e0e0e0);\n  --xr-disabled-color: var(--jp-layout-color3, #bdbdbd);\n  --xr-background-color: var(--jp-layout-color0, white);\n  --xr-background-color-row-even: var(--jp-layout-color1, white);\n  --xr-background-color-row-odd: var(--jp-layout-color2, #eeeeee);\n}\n\nhtml[theme=dark],\nbody[data-theme=dark],\nbody.vscode-dark {\n  --xr-font-color0: rgba(255, 255, 255, 1);\n  --xr-font-color2: rgba(255, 255, 255, 0.54);\n  --xr-font-color3: rgba(255, 255, 255, 0.38);\n  --xr-border-color: #1F1F1F;\n  --xr-disabled-color: #515151;\n  --xr-background-color: #111111;\n  --xr-background-color-row-even: #111111;\n  --xr-background-color-row-odd: #313131;\n}\n\n.xr-wrap {\n  display: block !important;\n  min-width: 300px;\n  max-width: 700px;\n}\n\n.xr-text-repr-fallback {\n  /* fallback to plain text repr when CSS is not injected (untrusted notebook) */\n  display: none;\n}\n\n.xr-header {\n  padding-top: 6px;\n  padding-bottom: 6px;\n  margin-bottom: 4px;\n  border-bottom: solid 1px var(--xr-border-color);\n}\n\n.xr-header > div,\n.xr-header > ul {\n  display: inline;\n  margin-top: 0;\n  margin-bottom: 0;\n}\n\n.xr-obj-type,\n.xr-array-name {\n  margin-left: 2px;\n  margin-right: 10px;\n}\n\n.xr-obj-type {\n  color: var(--xr-font-color2);\n}\n\n.xr-sections {\n  padding-left: 0 !important;\n  display: grid;\n  grid-template-columns: 150px auto auto 1fr 20px 20px;\n}\n\n.xr-section-item {\n  display: contents;\n}\n\n.xr-section-item input {\n  display: none;\n}\n\n.xr-section-item input + label {\n  color: var(--xr-disabled-color);\n}\n\n.xr-section-item input:enabled + label {\n  cursor: pointer;\n  color: var(--xr-font-color2);\n}\n\n.xr-section-item input:enabled + label:hover {\n  color: var(--xr-font-color0);\n}\n\n.xr-section-summary {\n  grid-column: 1;\n  color: var(--xr-font-color2);\n  font-weight: 500;\n}\n\n.xr-section-summary > span {\n  display: inline-block;\n  padding-left: 0.5em;\n}\n\n.xr-section-summary-in:disabled + label {\n  color: var(--xr-font-color2);\n}\n\n.xr-section-summary-in + label:before {\n  display: inline-block;\n  content: '►';\n  font-size: 11px;\n  width: 15px;\n  text-align: center;\n}\n\n.xr-section-summary-in:disabled + label:before {\n  color: var(--xr-disabled-color);\n}\n\n.xr-section-summary-in:checked + label:before {\n  content: '▼';\n}\n\n.xr-section-summary-in:checked + label > span {\n  display: none;\n}\n\n.xr-section-summary,\n.xr-section-inline-details {\n  padding-top: 4px;\n  padding-bottom: 4px;\n}\n\n.xr-section-inline-details {\n  grid-column: 2 / -1;\n}\n\n.xr-section-details {\n  display: none;\n  grid-column: 1 / -1;\n  margin-bottom: 5px;\n}\n\n.xr-section-summary-in:checked ~ .xr-section-details {\n  display: contents;\n}\n\n.xr-array-wrap {\n  grid-column: 1 / -1;\n  display: grid;\n  grid-template-columns: 20px auto;\n}\n\n.xr-array-wrap > label {\n  grid-column: 1;\n  vertical-align: top;\n}\n\n.xr-preview {\n  color: var(--xr-font-color3);\n}\n\n.xr-array-preview,\n.xr-array-data {\n  padding: 0 5px !important;\n  grid-column: 2;\n}\n\n.xr-array-data,\n.xr-array-in:checked ~ .xr-array-preview {\n  display: none;\n}\n\n.xr-array-in:checked ~ .xr-array-data,\n.xr-array-preview {\n  display: inline-block;\n}\n\n.xr-dim-list {\n  display: inline-block !important;\n  list-style: none;\n  padding: 0 !important;\n  margin: 0;\n}\n\n.xr-dim-list li {\n  display: inline-block;\n  padding: 0;\n  margin: 0;\n}\n\n.xr-dim-list:before {\n  content: '(';\n}\n\n.xr-dim-list:after {\n  content: ')';\n}\n\n.xr-dim-list li:not(:last-child):after {\n  content: ',';\n  padding-right: 5px;\n}\n\n.xr-has-index {\n  font-weight: bold;\n}\n\n.xr-var-list,\n.xr-var-item {\n  display: contents;\n}\n\n.xr-var-item > div,\n.xr-var-item label,\n.xr-var-item > .xr-var-name span {\n  background-color: var(--xr-background-color-row-even);\n  margin-bottom: 0;\n}\n\n.xr-var-item > .xr-var-name:hover span {\n  padding-right: 5px;\n}\n\n.xr-var-list > li:nth-child(odd) > div,\n.xr-var-list > li:nth-child(odd) > label,\n.xr-var-list > li:nth-child(odd) > .xr-var-name span {\n  background-color: var(--xr-background-color-row-odd);\n}\n\n.xr-var-name {\n  grid-column: 1;\n}\n\n.xr-var-dims {\n  grid-column: 2;\n}\n\n.xr-var-dtype {\n  grid-column: 3;\n  text-align: right;\n  color: var(--xr-font-color2);\n}\n\n.xr-var-preview {\n  grid-column: 4;\n}\n\n.xr-index-preview {\n  grid-column: 2 / 5;\n  color: var(--xr-font-color2);\n}\n\n.xr-var-name,\n.xr-var-dims,\n.xr-var-dtype,\n.xr-preview,\n.xr-attrs dt {\n  white-space: nowrap;\n  overflow: hidden;\n  text-overflow: ellipsis;\n  padding-right: 10px;\n}\n\n.xr-var-name:hover,\n.xr-var-dims:hover,\n.xr-var-dtype:hover,\n.xr-attrs dt:hover {\n  overflow: visible;\n  width: auto;\n  z-index: 1;\n}\n\n.xr-var-attrs,\n.xr-var-data,\n.xr-index-data {\n  display: none;\n  background-color: var(--xr-background-color) !important;\n  padding-bottom: 5px !important;\n}\n\n.xr-var-attrs-in:checked ~ .xr-var-attrs,\n.xr-var-data-in:checked ~ .xr-var-data,\n.xr-index-data-in:checked ~ .xr-index-data {\n  display: block;\n}\n\n.xr-var-data > table {\n  float: right;\n}\n\n.xr-var-name span,\n.xr-var-data,\n.xr-index-name div,\n.xr-index-data,\n.xr-attrs {\n  padding-left: 25px !important;\n}\n\n.xr-attrs,\n.xr-var-attrs,\n.xr-var-data,\n.xr-index-data {\n  grid-column: 1 / -1;\n}\n\ndl.xr-attrs {\n  padding: 0;\n  margin: 0;\n  display: grid;\n  grid-template-columns: 125px auto;\n}\n\n.xr-attrs dt,\n.xr-attrs dd {\n  padding: 0;\n  margin: 0;\n  float: left;\n  padding-right: 10px;\n  width: auto;\n}\n\n.xr-attrs dt {\n  font-weight: normal;\n  grid-column: 1;\n}\n\n.xr-attrs dt:hover span {\n  display: inline-block;\n  background: var(--xr-background-color);\n  padding-right: 10px;\n}\n\n.xr-attrs dd {\n  grid-column: 2;\n  white-space: pre-wrap;\n  word-break: break-all;\n}\n\n.xr-icon-database,\n.xr-icon-file-text2,\n.xr-no-icon {\n  display: inline-block;\n  vertical-align: middle;\n  width: 1em;\n  height: 1.5em !important;\n  stroke-width: 0;\n  stroke: currentColor;\n  fill: currentColor;\n}\n</style><pre class='xr-text-repr-fallback'>&lt;xarray.Dataset&gt;\nDimensions:               (adctime: 77, station: 1, gpstime: 5,\n                           maintenancetime: 1)\nCoordinates:\n  * adctime               (adctime) timedelta64[ns] 00:00:00 ... 00:00:07.600000\n  * gpstime               (gpstime) datetime64[ns] 2022-08-30T11:21:04.065000...\n  * maintenancetime       (maintenancetime) datetime64[ns] 2023-05-08T16:09:06\n  * station               (station) uint8 1\nData variables:\n    ghi                   (adctime, station) float64 0.002086 ... 0.002086\n    gti                   (adctime, station) float64 0.001935 ... 0.001935\n    ta                    (adctime, station) float64 294.7 294.7 ... 294.8 295.0\n    rh                    (adctime, station) float64 0.6245 0.6245 ... 0.6297\n    battery_voltage       (adctime, station) float64 6.452 6.439 ... 6.465 6.452\n    lat                   (gpstime, station) float64 51.39 51.39 ... 51.39 51.39\n    lon                   (gpstime, station) float64 11.89 11.89 ... 11.89 11.89\n    maintenance_flag_ghi  (maintenancetime, station) uint8 9\n    maintenance_flag_gti  (maintenancetime, station) uint8 7\n    iadc                  (gpstime, station) uint32 26 35 54 64 74\nAttributes: (12/31)\n    Conventions:               CF-1.10, ACDD-1.3\n    title:                     TROPOS pyranometer network (PyrNet) observatio...\n    history:                   2024-02-27T06:51:35: Generated level l1a  by p...\n    institution:               Leibniz Institute for Tropospheric Research (T...\n    source:                    TROPOS pyranometer network (PyrNet)\n    references:                https://doi.org/10.5194/amt-9-1153-2016\n    ...                        ...\n    geospatial_lon_max:        11.885256666666667\n    geospatial_lon_units:      degE\n    time_coverage_start:       2022-08-30T11:21:04.065000\n    time_coverage_end:         2022-08-30T11:21:09\n    time_coverage_duration:    P0DT0H0M4.935S\n    time_coverage_resolution:  P0DT0H0M1.23375S</pre><div class='xr-wrap' style='display:none'><div class='xr-header'><div class='xr-obj-type'>xarray.Dataset</div></div><ul class='xr-sections'><li class='xr-section-item'><input id='section-7f35feb0-cdd2-4b8f-9254-e3ed57364dcb' class='xr-section-summary-in' type='checkbox' disabled ><label for='section-7f35feb0-cdd2-4b8f-9254-e3ed57364dcb' class='xr-section-summary'  title='Expand/collapse section'>Dimensions:</label><div class='xr-section-inline-details'><ul class='xr-dim-list'><li><span class='xr-has-index'>adctime</span>: 77</li><li><span class='xr-has-index'>station</span>: 1</li><li><span class='xr-has-index'>gpstime</span>: 5</li><li><span class='xr-has-index'>maintenancetime</span>: 1</li></ul></div><div class='xr-section-details'></div></li><li class='xr-section-item'><input id='section-2c1b3d82-52e7-46f7-a3b8-ee8caad0bdff' class='xr-section-summary-in' type='checkbox'  checked><label for='section-2c1b3d82-52e7-46f7-a3b8-ee8caad0bdff' class='xr-section-summary' >Coordinates: <span>(4)</span></label><div class='xr-section-inline-details'></div><div class='xr-section-details'><ul class='xr-var-list'><li class='xr-var-item'><div class='xr-var-name'><span class='xr-has-index'>adctime</span></div><div class='xr-var-dims'>(adctime)</div><div class='xr-var-dtype'>timedelta64[ns]</div><div class='xr-var-preview xr-preview'>00:00:00 ... 00:00:07.600000</div><input id='attrs-081fac46-12d4-4901-9d92-acb58e08f5f1' class='xr-var-attrs-in' type='checkbox' ><label for='attrs-081fac46-12d4-4901-9d92-acb58e08f5f1' title='Show/Hide attributes'><svg class='icon xr-icon-file-text2'><use xlink:href='#icon-file-text2'></use></svg></label><input id='data-0757d381-a7c4-4dff-8f11-f858d3ffdfe3' class='xr-var-data-in' type='checkbox'><label for='data-0757d381-a7c4-4dff-8f11-f858d3ffdfe3' title='Show/Hide data repr'><svg class='icon xr-icon-database'><use xlink:href='#icon-database'></use></svg></label><div class='xr-var-attrs'><dl class='xr-attrs'><dt><span>standard_name :</span></dt><dd>time</dd></dl></div><div class='xr-var-data'><pre>array([         0,  100000000,  200000000,  300000000,  400000000,  500000000,\n        600000000,  700000000,  800000000,  900000000, 1000000000, 1100000000,\n       1200000000, 1300000000, 1400000000, 1500000000, 1600000000, 1700000000,\n       1800000000, 1900000000, 2000000000, 2100000000, 2200000000, 2300000000,\n       2400000000, 2500000000, 2600000000, 2700000000, 2800000000, 2900000000,\n       3000000000, 3100000000, 3200000000, 3300000000, 3400000000, 3500000000,\n       3600000000, 3700000000, 3800000000, 3900000000, 4000000000, 4100000000,\n       4200000000, 4300000000, 4400000000, 4500000000, 4600000000, 4700000000,\n       4800000000, 4900000000, 5000000000, 5100000000, 5200000000, 5300000000,\n       5400000000, 5500000000, 5600000000, 5700000000, 5800000000, 5900000000,\n       6000000000, 6100000000, 6200000000, 6300000000, 6400000000, 6500000000,\n       6600000000, 6700000000, 6800000000, 6900000000, 7000000000, 7100000000,\n       7200000000, 7300000000, 7400000000, 7500000000, 7600000000],\n      dtype=&#x27;timedelta64[ns]&#x27;)</pre></div></li><li class='xr-var-item'><div class='xr-var-name'><span class='xr-has-index'>gpstime</span></div><div class='xr-var-dims'>(gpstime)</div><div class='xr-var-dtype'>datetime64[ns]</div><div class='xr-var-preview xr-preview'>2022-08-30T11:21:04.065000 ... 2...</div><input id='attrs-5ea93a94-3af5-4697-a20e-997fc6d5f033' class='xr-var-attrs-in' type='checkbox' disabled><label for='attrs-5ea93a94-3af5-4697-a20e-997fc6d5f033' title='Show/Hide attributes'><svg class='icon xr-icon-file-text2'><use xlink:href='#icon-file-text2'></use></svg></label><input id='data-05d76244-a9ec-4826-b93d-369710d4e89c' class='xr-var-data-in' type='checkbox'><label for='data-05d76244-a9ec-4826-b93d-369710d4e89c' title='Show/Hide data repr'><svg class='icon xr-icon-database'><use xlink:href='#icon-database'></use></svg></label><div class='xr-var-attrs'><dl class='xr-attrs'></dl></div><div class='xr-var-data'><pre>array([&#x27;2022-08-30T11:21:04.065000000&#x27;, &#x27;2022-08-30T11:21:05.065000000&#x27;,\n       &#x27;2022-08-30T11:21:07.000000000&#x27;, &#x27;2022-08-30T11:21:08.000000000&#x27;,\n       &#x27;2022-08-30T11:21:09.000000000&#x27;], dtype=&#x27;datetime64[ns]&#x27;)</pre></div></li><li class='xr-var-item'><div class='xr-var-name'><span class='xr-has-index'>maintenancetime</span></div><div class='xr-var-dims'>(maintenancetime)</div><div class='xr-var-dtype'>datetime64[ns]</div><div class='xr-var-preview xr-preview'>2023-05-08T16:09:06</div><input id='attrs-1be077cb-7f6a-44f6-af1d-084ac53c55c1' class='xr-var-attrs-in' type='checkbox' disabled><label for='attrs-1be077cb-7f6a-44f6-af1d-084ac53c55c1' title='Show/Hide attributes'><svg class='icon xr-icon-file-text2'><use xlink:href='#icon-file-text2'></use></svg></label><input id='data-6de108a3-719c-46a2-b319-497a5ab3553a' class='xr-var-data-in' type='checkbox'><label for='data-6de108a3-719c-46a2-b319-497a5ab3553a' title='Show/Hide data repr'><svg class='icon xr-icon-database'><use xlink:href='#icon-database'></use></svg></label><div class='xr-var-attrs'><dl class='xr-attrs'></dl></div><div class='xr-var-data'><pre>array([&#x27;2023-05-08T16:09:06.000000000&#x27;], dtype=&#x27;datetime64[ns]&#x27;)</pre></div></li><li class='xr-var-item'><div class='xr-var-name'><span class='xr-has-index'>station</span></div><div class='xr-var-dims'>(station)</div><div class='xr-var-dtype'>uint8</div><div class='xr-var-preview xr-preview'>1</div><input id='attrs-cf710e58-3dea-4c3d-8a58-5ebb396ceda0' class='xr-var-attrs-in' type='checkbox' ><label for='attrs-cf710e58-3dea-4c3d-8a58-5ebb396ceda0' title='Show/Hide attributes'><svg class='icon xr-icon-file-text2'><use xlink:href='#icon-file-text2'></use></svg></label><input id='data-efa7fbea-a723-45b8-b893-9193ad613a5e' class='xr-var-data-in' type='checkbox'><label for='data-efa7fbea-a723-45b8-b893-9193ad613a5e' title='Show/Hide data repr'><svg class='icon xr-icon-database'><use xlink:href='#icon-database'></use></svg></label><div class='xr-var-attrs'><dl class='xr-attrs'><dt><span>units :</span></dt><dd>-</dd><dt><span>long_name :</span></dt><dd>PyrNet unit box number</dd></dl></div><div class='xr-var-data'><pre>array([1], dtype=uint8)</pre></div></li></ul></div></li><li class='xr-section-item'><input id='section-67c7c2f7-cfe5-4427-9d5e-c5ffae66ac0a' class='xr-section-summary-in' type='checkbox'  checked><label for='section-67c7c2f7-cfe5-4427-9d5e-c5ffae66ac0a' class='xr-section-summary' >Data variables: <span>(10)</span></label><div class='xr-section-inline-details'></div><div class='xr-section-details'><ul class='xr-var-list'><li class='xr-var-item'><div class='xr-var-name'><span>ghi</span></div><div class='xr-var-dims'>(adctime, station)</div><div class='xr-var-dtype'>float64</div><div class='xr-var-preview xr-preview'>0.002086 0.002086 ... 0.002086</div><input id='attrs-8bcb1ff6-2132-4803-9355-fcfb57a69cc4' class='xr-var-attrs-in' type='checkbox' ><label for='attrs-8bcb1ff6-2132-4803-9355-fcfb57a69cc4' title='Show/Hide attributes'><svg class='icon xr-icon-file-text2'><use xlink:href='#icon-file-text2'></use></svg></label><input id='data-48805c36-8ac2-4fb5-8550-990d5cdc4a39' class='xr-var-data-in' type='checkbox'><label for='data-48805c36-8ac2-4fb5-8550-990d5cdc4a39' title='Show/Hide data repr'><svg class='icon xr-icon-database'><use xlink:href='#icon-database'></use></svg></label><div class='xr-var-attrs'><dl class='xr-attrs'><dt><span>units :</span></dt><dd>V</dd><dt><span>long_name :</span></dt><dd>downwelling shortwave flux</dd><dt><span>standard_name :</span></dt><dd>downwelling_shortwave_flux_in_air</dd><dt><span>valid_range :</span></dt><dd>[0, 1023]</dd></dl></div><div class='xr-var-data'><pre>array([[0.00208602],\n       [0.00208602],\n       [0.00208602],\n       [0.00208602],\n       [0.00208602],\n       [0.00208602],\n       [0.00208602],\n       [0.00208602],\n       [0.00208602],\n       [0.00208602],\n       [0.00208602],\n       [0.00208602],\n       [0.00208602],\n       [0.00208602],\n       [0.00208602],\n       [0.00208602],\n       [0.00208602],\n       [0.00208602],\n       [0.00208602],\n       [0.00208602],\n...\n       [0.00207527],\n       [0.00208602],\n       [0.00208602],\n       [0.00208602],\n       [0.00208602],\n       [0.00208602],\n       [0.00208602],\n       [0.00208602],\n       [0.00208602],\n       [0.00208602],\n       [0.00208602],\n       [0.00208602],\n       [0.00208602],\n       [0.00208602],\n       [0.00208602],\n       [0.00208602],\n       [0.00208602],\n       [0.00208602],\n       [0.00208602],\n       [0.00208602]])</pre></div></li><li class='xr-var-item'><div class='xr-var-name'><span>gti</span></div><div class='xr-var-dims'>(adctime, station)</div><div class='xr-var-dtype'>float64</div><div class='xr-var-preview xr-preview'>0.001935 0.001935 ... 0.001935</div><input id='attrs-ba2475a9-c796-4ec0-8004-8d61d43c82a1' class='xr-var-attrs-in' type='checkbox' ><label for='attrs-ba2475a9-c796-4ec0-8004-8d61d43c82a1' title='Show/Hide attributes'><svg class='icon xr-icon-file-text2'><use xlink:href='#icon-file-text2'></use></svg></label><input id='data-12d3f1a2-8c4c-4b64-99af-682a8fd7f273' class='xr-var-data-in' type='checkbox'><label for='data-12d3f1a2-8c4c-4b64-99af-682a8fd7f273' title='Show/Hide data repr'><svg class='icon xr-icon-database'><use xlink:href='#icon-database'></use></svg></label><div class='xr-var-attrs'><dl class='xr-attrs'><dt><span>units :</span></dt><dd>V</dd><dt><span>long_name :</span></dt><dd>downwelling shortwave flux measured on secondary platform, might be tilted</dd><dt><span>standard_name :</span></dt><dd>downwelling_shortwave_flux_in_air</dd><dt><span>valid_range :</span></dt><dd>[0, 1023]</dd><dt><span>hangle :</span></dt><dd>0.0</dd><dt><span>vangle :</span></dt><dd>0.0</dd></dl></div><div class='xr-var-data'><pre>array([[0.00193548],\n       [0.00193548],\n       [0.00193548],\n       [0.00193548],\n       [0.00194624],\n       [0.00193548],\n       [0.00194624],\n       [0.00193548],\n       [0.00193548],\n       [0.00193548],\n       [0.00193548],\n       [0.00194624],\n       [0.00193548],\n       [0.00193548],\n       [0.00193548],\n       [0.00193548],\n       [0.00193548],\n       [0.00193548],\n       [0.00193548],\n       [0.00193548],\n...\n       [0.00193548],\n       [0.00193548],\n       [0.00193548],\n       [0.00193548],\n       [0.00193548],\n       [0.00193548],\n       [0.00192473],\n       [0.00192473],\n       [0.00193548],\n       [0.00193548],\n       [0.00193548],\n       [0.00193548],\n       [0.00193548],\n       [0.00193548],\n       [0.00193548],\n       [0.00193548],\n       [0.00193548],\n       [0.00193548],\n       [0.00194624],\n       [0.00193548]])</pre></div></li><li class='xr-var-item'><div class='xr-var-name'><span>ta</span></div><div class='xr-var-dims'>(adctime, station)</div><div class='xr-var-dtype'>float64</div><div class='xr-var-preview xr-preview'>294.7 294.7 294.7 ... 294.8 295.0</div><input id='attrs-49e9c6af-a45d-42c0-8595-3991054b3f3b' class='xr-var-attrs-in' type='checkbox' ><label for='attrs-49e9c6af-a45d-42c0-8595-3991054b3f3b' title='Show/Hide attributes'><svg class='icon xr-icon-file-text2'><use xlink:href='#icon-file-text2'></use></svg></label><input id='data-d6489748-782a-4c9c-9bc7-b4457f37f0a3' class='xr-var-data-in' type='checkbox'><label for='data-d6489748-782a-4c9c-9bc7-b4457f37f0a3' title='Show/Hide data repr'><svg class='icon xr-icon-database'><use xlink:href='#icon-database'></use></svg></label><div class='xr-var-attrs'><dl class='xr-attrs'><dt><span>units :</span></dt><dd>K</dd><dt><span>long_name :</span></dt><dd>air temperature</dd><dt><span>standard_name :</span></dt><dd>air_temperature</dd><dt><span>valid_range :</span></dt><dd>[0, 775]</dd></dl></div><div class='xr-var-data'><pre>array([[294.6983871 ],\n       [294.6983871 ],\n       [294.6983871 ],\n       [294.6983871 ],\n       [294.95645161],\n       [294.95645161],\n       [294.6983871 ],\n       [294.6983871 ],\n       [294.6983871 ],\n       [294.6983871 ],\n       [294.6983871 ],\n       [294.82741935],\n       [294.95645161],\n       [294.6983871 ],\n       [294.6983871 ],\n       [294.6983871 ],\n       [294.82741935],\n       [294.6983871 ],\n       [294.82741935],\n       [294.6983871 ],\n...\n       [294.82741935],\n       [294.95645161],\n       [294.6983871 ],\n       [294.6983871 ],\n       [294.82741935],\n       [294.6983871 ],\n       [294.82741935],\n       [294.95645161],\n       [294.6983871 ],\n       [294.6983871 ],\n       [294.6983871 ],\n       [294.82741935],\n       [294.6983871 ],\n       [294.82741935],\n       [294.6983871 ],\n       [294.6983871 ],\n       [294.6983871 ],\n       [294.6983871 ],\n       [294.82741935],\n       [294.95645161]])</pre></div></li><li class='xr-var-item'><div class='xr-var-name'><span>rh</span></div><div class='xr-var-dims'>(adctime, station)</div><div class='xr-var-dtype'>float64</div><div class='xr-var-preview xr-preview'>0.6245 0.6245 ... 0.6297 0.6297</div><input id='attrs-e00fc644-d068-4578-81d1-cc28c3922a02' class='xr-var-attrs-in' type='checkbox' ><label for='attrs-e00fc644-d068-4578-81d1-cc28c3922a02' title='Show/Hide attributes'><svg class='icon xr-icon-file-text2'><use xlink:href='#icon-file-text2'></use></svg></label><input id='data-fac2ba82-88d3-4e8b-a328-de7f2a3ed738' class='xr-var-data-in' type='checkbox'><label for='data-fac2ba82-88d3-4e8b-a328-de7f2a3ed738' title='Show/Hide data repr'><svg class='icon xr-icon-database'><use xlink:href='#icon-database'></use></svg></label><div class='xr-var-attrs'><dl class='xr-attrs'><dt><span>units :</span></dt><dd>1</dd><dt><span>long_name :</span></dt><dd>air relative humidity</dd><dt><span>standard_name :</span></dt><dd>relative_humidity</dd><dt><span>valid_range :</span></dt><dd>[0, 775]</dd></dl></div><div class='xr-var-data'><pre>array([[0.62451613],\n       [0.62451613],\n       [0.62451613],\n       [0.62580645],\n       [0.62580645],\n       [0.62580645],\n       [0.62451613],\n       [0.62451613],\n       [0.62451613],\n       [0.62451613],\n       [0.62580645],\n       [0.62709677],\n       [0.62451613],\n       [0.62322581],\n       [0.62451613],\n       [0.62451613],\n       [0.62451613],\n       [0.62580645],\n       [0.62709677],\n       [0.62451613],\n...\n       [0.62967742],\n       [0.6283871 ],\n       [0.62709677],\n       [0.62709677],\n       [0.62709677],\n       [0.62967742],\n       [0.62967742],\n       [0.62967742],\n       [0.62709677],\n       [0.62709677],\n       [0.6283871 ],\n       [0.6283871 ],\n       [0.62967742],\n       [0.62967742],\n       [0.62709677],\n       [0.62709677],\n       [0.62709677],\n       [0.6283871 ],\n       [0.62967742],\n       [0.62967742]])</pre></div></li><li class='xr-var-item'><div class='xr-var-name'><span>battery_voltage</span></div><div class='xr-var-dims'>(adctime, station)</div><div class='xr-var-dtype'>float64</div><div class='xr-var-preview xr-preview'>6.452 6.439 6.445 ... 6.465 6.452</div><input id='attrs-cf773bf6-a346-4396-8825-bf5c61265985' class='xr-var-attrs-in' type='checkbox' ><label for='attrs-cf773bf6-a346-4396-8825-bf5c61265985' title='Show/Hide attributes'><svg class='icon xr-icon-file-text2'><use xlink:href='#icon-file-text2'></use></svg></label><input id='data-69f8db58-1b5f-4ed0-aac6-1569dac5a9c7' class='xr-var-data-in' type='checkbox'><label for='data-69f8db58-1b5f-4ed0-aac6-1569dac5a9c7' title='Show/Hide data repr'><svg class='icon xr-icon-database'><use xlink:href='#icon-database'></use></svg></label><div class='xr-var-attrs'><dl class='xr-attrs'><dt><span>units :</span></dt><dd>V</dd><dt><span>standard_name :</span></dt><dd>battery_voltage</dd><dt><span>valid_range :</span></dt><dd>[0, 992]</dd></dl></div><div class='xr-var-data'><pre>array([[6.4516129 ],\n       [6.43870968],\n       [6.44516129],\n       [6.4516129 ],\n       [6.43870968],\n       [6.43870968],\n       [6.4516129 ],\n       [6.44516129],\n       [6.43870968],\n       [6.4516129 ],\n       [6.44516129],\n       [6.4516129 ],\n       [6.43870968],\n       [6.43870968],\n       [6.43870968],\n       [6.4516129 ],\n       [6.43870968],\n       [6.44516129],\n       [6.44516129],\n       [6.43870968],\n...\n       [6.45806452],\n       [6.43870968],\n       [6.43870968],\n       [6.44516129],\n       [6.43225806],\n       [6.43870968],\n       [6.44516129],\n       [6.4516129 ],\n       [6.46451613],\n       [6.4516129 ],\n       [6.46451613],\n       [6.4516129 ],\n       [6.4516129 ],\n       [6.43870968],\n       [6.43870968],\n       [6.43225806],\n       [6.4516129 ],\n       [6.46451613],\n       [6.46451613],\n       [6.4516129 ]])</pre></div></li><li class='xr-var-item'><div class='xr-var-name'><span>lat</span></div><div class='xr-var-dims'>(gpstime, station)</div><div class='xr-var-dtype'>float64</div><div class='xr-var-preview xr-preview'>51.39 51.39 51.39 51.39 51.39</div><input id='attrs-c6c12655-12ac-4dfb-9259-298a5a518171' class='xr-var-attrs-in' type='checkbox' ><label for='attrs-c6c12655-12ac-4dfb-9259-298a5a518171' title='Show/Hide attributes'><svg class='icon xr-icon-file-text2'><use xlink:href='#icon-file-text2'></use></svg></label><input id='data-891b50d4-dad7-49e4-ae5d-63502ee940f1' class='xr-var-data-in' type='checkbox'><label for='data-891b50d4-dad7-49e4-ae5d-63502ee940f1' title='Show/Hide data repr'><svg class='icon xr-icon-database'><use xlink:href='#icon-database'></use></svg></label><div class='xr-var-attrs'><dl class='xr-attrs'><dt><span>standard_name :</span></dt><dd>latitude</dd><dt><span>units :</span></dt><dd>degree_north</dd><dt><span>valid_range :</span></dt><dd>[-90.0, 90.0]</dd></dl></div><div class='xr-var-data'><pre>array([[51.39021167],\n       [51.39021167],\n       [51.39021   ],\n       [51.39021   ],\n       [51.39020833]])</pre></div></li><li class='xr-var-item'><div class='xr-var-name'><span>lon</span></div><div class='xr-var-dims'>(gpstime, station)</div><div class='xr-var-dtype'>float64</div><div class='xr-var-preview xr-preview'>11.89 11.89 11.89 11.89 11.89</div><input id='attrs-36f761ea-a0d9-4d9f-8b8c-4029c5d67251' class='xr-var-attrs-in' type='checkbox' ><label for='attrs-36f761ea-a0d9-4d9f-8b8c-4029c5d67251' title='Show/Hide attributes'><svg class='icon xr-icon-file-text2'><use xlink:href='#icon-file-text2'></use></svg></label><input id='data-b80de42b-79e8-474e-b768-2f4834554772' class='xr-var-data-in' type='checkbox'><label for='data-b80de42b-79e8-474e-b768-2f4834554772' title='Show/Hide data repr'><svg class='icon xr-icon-database'><use xlink:href='#icon-database'></use></svg></label><div class='xr-var-attrs'><dl class='xr-attrs'><dt><span>standard_name :</span></dt><dd>longitude</dd><dt><span>units :</span></dt><dd>degree_east</dd><dt><span>valid_range :</span></dt><dd>[-180.0, 180.0]</dd></dl></div><div class='xr-var-data'><pre>array([[11.885255  ],\n       [11.88525667],\n       [11.88525167],\n       [11.88525   ],\n       [11.88524667]])</pre></div></li><li class='xr-var-item'><div class='xr-var-name'><span>maintenance_flag_ghi</span></div><div class='xr-var-dims'>(maintenancetime, station)</div><div class='xr-var-dtype'>uint8</div><div class='xr-var-preview xr-preview'>9</div><input id='attrs-2b0dc50e-0441-4030-9380-b8c21989d8bc' class='xr-var-attrs-in' type='checkbox' ><label for='attrs-2b0dc50e-0441-4030-9380-b8c21989d8bc' title='Show/Hide attributes'><svg class='icon xr-icon-file-text2'><use xlink:href='#icon-file-text2'></use></svg></label><input id='data-06b6a488-688b-43d0-bfe3-f033cc47c319' class='xr-var-data-in' type='checkbox'><label for='data-06b6a488-688b-43d0-bfe3-f033cc47c319' title='Show/Hide data repr'><svg class='icon xr-icon-database'><use xlink:href='#icon-database'></use></svg></label><div class='xr-var-attrs'><dl class='xr-attrs'><dt><span>note_general :</span></dt><dd>222</dd><dt><span>note_clean :</span></dt><dd>testing notes</dd><dt><span>note_level :</span></dt><dd>test</dd><dt><span>valid_range :</span></dt><dd>[0, 11]</dd></dl></div><div class='xr-var-data'><pre>array([[9]], dtype=uint8)</pre></div></li><li class='xr-var-item'><div class='xr-var-name'><span>maintenance_flag_gti</span></div><div class='xr-var-dims'>(maintenancetime, station)</div><div class='xr-var-dtype'>uint8</div><div class='xr-var-preview xr-preview'>7</div><input id='attrs-5644dbdd-e101-4ae5-91f1-181f803bca89' class='xr-var-attrs-in' type='checkbox' ><label for='attrs-5644dbdd-e101-4ae5-91f1-181f803bca89' title='Show/Hide attributes'><svg class='icon xr-icon-file-text2'><use xlink:href='#icon-file-text2'></use></svg></label><input id='data-97af1858-5a5c-4c19-b2aa-503b2f7bdb57' class='xr-var-data-in' type='checkbox'><label for='data-97af1858-5a5c-4c19-b2aa-503b2f7bdb57' title='Show/Hide data repr'><svg class='icon xr-icon-database'><use xlink:href='#icon-database'></use></svg></label><div class='xr-var-attrs'><dl class='xr-attrs'><dt><span>note_general :</span></dt><dd>222</dd><dt><span>note_clean :</span></dt><dd></dd><dt><span>note_level :</span></dt><dd></dd><dt><span>valid_range :</span></dt><dd>[0, 11]</dd></dl></div><div class='xr-var-data'><pre>array([[7]], dtype=uint8)</pre></div></li><li class='xr-var-item'><div class='xr-var-name'><span>iadc</span></div><div class='xr-var-dims'>(gpstime, station)</div><div class='xr-var-dtype'>uint32</div><div class='xr-var-preview xr-preview'>26 35 54 64 74</div><input id='attrs-df6138b8-fad6-4908-a467-c7e0d3bb282e' class='xr-var-attrs-in' type='checkbox' ><label for='attrs-df6138b8-fad6-4908-a467-c7e0d3bb282e' title='Show/Hide attributes'><svg class='icon xr-icon-file-text2'><use xlink:href='#icon-file-text2'></use></svg></label><input id='data-446ecc99-f9f3-405e-83da-78e16161f984' class='xr-var-data-in' type='checkbox'><label for='data-446ecc99-f9f3-405e-83da-78e16161f984' title='Show/Hide data repr'><svg class='icon xr-icon-database'><use xlink:href='#icon-database'></use></svg></label><div class='xr-var-attrs'><dl class='xr-attrs'><dt><span>standard_name :</span></dt><dd>index</dd><dt><span>comment :</span></dt><dd>index to map gps to adc records</dd><dt><span>units :</span></dt><dd>-</dd></dl></div><div class='xr-var-data'><pre>array([[26],\n       [35],\n       [54],\n       [64],\n       [74]], dtype=uint32)</pre></div></li></ul></div></li><li class='xr-section-item'><input id='section-82ccc53c-d733-429e-b5d8-36a62409a88f' class='xr-section-summary-in' type='checkbox'  ><label for='section-82ccc53c-d733-429e-b5d8-36a62409a88f' class='xr-section-summary' >Indexes: <span>(4)</span></label><div class='xr-section-inline-details'></div><div class='xr-section-details'><ul class='xr-var-list'><li class='xr-var-item'><div class='xr-index-name'><div>adctime</div></div><div class='xr-index-preview'>PandasIndex</div><div></div><input id='index-81917e3b-91e4-438b-836c-517e56809963' class='xr-index-data-in' type='checkbox'/><label for='index-81917e3b-91e4-438b-836c-517e56809963' title='Show/Hide index repr'><svg class='icon xr-icon-database'><use xlink:href='#icon-database'></use></svg></label><div class='xr-index-data'><pre>PandasIndex(TimedeltaIndex([       &#x27;0 days 00:00:00&#x27;, &#x27;0 days 00:00:00.100000&#x27;,\n                &#x27;0 days 00:00:00.200000&#x27;, &#x27;0 days 00:00:00.300000&#x27;,\n                &#x27;0 days 00:00:00.400000&#x27;, &#x27;0 days 00:00:00.500000&#x27;,\n                &#x27;0 days 00:00:00.600000&#x27;, &#x27;0 days 00:00:00.700000&#x27;,\n                &#x27;0 days 00:00:00.800000&#x27;, &#x27;0 days 00:00:00.900000&#x27;,\n                       &#x27;0 days 00:00:01&#x27;, &#x27;0 days 00:00:01.100000&#x27;,\n                &#x27;0 days 00:00:01.200000&#x27;, &#x27;0 days 00:00:01.300000&#x27;,\n                &#x27;0 days 00:00:01.400000&#x27;, &#x27;0 days 00:00:01.500000&#x27;,\n                &#x27;0 days 00:00:01.600000&#x27;, &#x27;0 days 00:00:01.700000&#x27;,\n                &#x27;0 days 00:00:01.800000&#x27;, &#x27;0 days 00:00:01.900000&#x27;,\n                       &#x27;0 days 00:00:02&#x27;, &#x27;0 days 00:00:02.100000&#x27;,\n                &#x27;0 days 00:00:02.200000&#x27;, &#x27;0 days 00:00:02.300000&#x27;,\n                &#x27;0 days 00:00:02.400000&#x27;, &#x27;0 days 00:00:02.500000&#x27;,\n                &#x27;0 days 00:00:02.600000&#x27;, &#x27;0 days 00:00:02.700000&#x27;,\n                &#x27;0 days 00:00:02.800000&#x27;, &#x27;0 days 00:00:02.900000&#x27;,\n                       &#x27;0 days 00:00:03&#x27;, &#x27;0 days 00:00:03.100000&#x27;,\n                &#x27;0 days 00:00:03.200000&#x27;, &#x27;0 days 00:00:03.300000&#x27;,\n                &#x27;0 days 00:00:03.400000&#x27;, &#x27;0 days 00:00:03.500000&#x27;,\n                &#x27;0 days 00:00:03.600000&#x27;, &#x27;0 days 00:00:03.700000&#x27;,\n                &#x27;0 days 00:00:03.800000&#x27;, &#x27;0 days 00:00:03.900000&#x27;,\n                       &#x27;0 days 00:00:04&#x27;, &#x27;0 days 00:00:04.100000&#x27;,\n                &#x27;0 days 00:00:04.200000&#x27;, &#x27;0 days 00:00:04.300000&#x27;,\n                &#x27;0 days 00:00:04.400000&#x27;, &#x27;0 days 00:00:04.500000&#x27;,\n                &#x27;0 days 00:00:04.600000&#x27;, &#x27;0 days 00:00:04.700000&#x27;,\n                &#x27;0 days 00:00:04.800000&#x27;, &#x27;0 days 00:00:04.900000&#x27;,\n                       &#x27;0 days 00:00:05&#x27;, &#x27;0 days 00:00:05.100000&#x27;,\n                &#x27;0 days 00:00:05.200000&#x27;, &#x27;0 days 00:00:05.300000&#x27;,\n                &#x27;0 days 00:00:05.400000&#x27;, &#x27;0 days 00:00:05.500000&#x27;,\n                &#x27;0 days 00:00:05.600000&#x27;, &#x27;0 days 00:00:05.700000&#x27;,\n                &#x27;0 days 00:00:05.800000&#x27;, &#x27;0 days 00:00:05.900000&#x27;,\n                       &#x27;0 days 00:00:06&#x27;, &#x27;0 days 00:00:06.100000&#x27;,\n                &#x27;0 days 00:00:06.200000&#x27;, &#x27;0 days 00:00:06.300000&#x27;,\n                &#x27;0 days 00:00:06.400000&#x27;, &#x27;0 days 00:00:06.500000&#x27;,\n                &#x27;0 days 00:00:06.600000&#x27;, &#x27;0 days 00:00:06.700000&#x27;,\n                &#x27;0 days 00:00:06.800000&#x27;, &#x27;0 days 00:00:06.900000&#x27;,\n                       &#x27;0 days 00:00:07&#x27;, &#x27;0 days 00:00:07.100000&#x27;,\n                &#x27;0 days 00:00:07.200000&#x27;, &#x27;0 days 00:00:07.300000&#x27;,\n                &#x27;0 days 00:00:07.400000&#x27;, &#x27;0 days 00:00:07.500000&#x27;,\n                &#x27;0 days 00:00:07.600000&#x27;],\n               dtype=&#x27;timedelta64[ns]&#x27;, name=&#x27;adctime&#x27;, freq=None))</pre></div></li><li class='xr-var-item'><div class='xr-index-name'><div>gpstime</div></div><div class='xr-index-preview'>PandasIndex</div><div></div><input id='index-0e4f8170-2d95-4fd7-8624-7cab41e41fc0' class='xr-index-data-in' type='checkbox'/><label for='index-0e4f8170-2d95-4fd7-8624-7cab41e41fc0' title='Show/Hide index repr'><svg class='icon xr-icon-database'><use xlink:href='#icon-database'></use></svg></label><div class='xr-index-data'><pre>PandasIndex(DatetimeIndex([&#x27;2022-08-30 11:21:04.065000&#x27;, &#x27;2022-08-30 11:21:05.065000&#x27;,\n                      &#x27;2022-08-30 11:21:07&#x27;,        &#x27;2022-08-30 11:21:08&#x27;,\n                      &#x27;2022-08-30 11:21:09&#x27;],\n              dtype=&#x27;datetime64[ns]&#x27;, name=&#x27;gpstime&#x27;, freq=None))</pre></div></li><li class='xr-var-item'><div class='xr-index-name'><div>maintenancetime</div></div><div class='xr-index-preview'>PandasIndex</div><div></div><input id='index-aa9852bf-24e5-46e4-9ca4-bb56b8d30267' class='xr-index-data-in' type='checkbox'/><label for='index-aa9852bf-24e5-46e4-9ca4-bb56b8d30267' title='Show/Hide index repr'><svg class='icon xr-icon-database'><use xlink:href='#icon-database'></use></svg></label><div class='xr-index-data'><pre>PandasIndex(DatetimeIndex([&#x27;2023-05-08 16:09:06&#x27;], dtype=&#x27;datetime64[ns]&#x27;, name=&#x27;maintenancetime&#x27;, freq=None))</pre></div></li><li class='xr-var-item'><div class='xr-index-name'><div>station</div></div><div class='xr-index-preview'>PandasIndex</div><div></div><input id='index-71233d18-e4ce-4ff7-8302-10db1e4da463' class='xr-index-data-in' type='checkbox'/><label for='index-71233d18-e4ce-4ff7-8302-10db1e4da463' title='Show/Hide index repr'><svg class='icon xr-icon-database'><use xlink:href='#icon-database'></use></svg></label><div class='xr-index-data'><pre>PandasIndex(UInt64Index([1], dtype=&#x27;uint64&#x27;, name=&#x27;station&#x27;))</pre></div></li></ul></div></li><li class='xr-section-item'><input id='section-1842ae41-8fc4-4203-9ee4-62648334781e' class='xr-section-summary-in' type='checkbox'  ><label for='section-1842ae41-8fc4-4203-9ee4-62648334781e' class='xr-section-summary' >Attributes: <span>(31)</span></label><div class='xr-section-inline-details'></div><div class='xr-section-details'><dl class='xr-attrs'><dt><span>Conventions :</span></dt><dd>CF-1.10, ACDD-1.3</dd><dt><span>title :</span></dt><dd>TROPOS pyranometer network (PyrNet) observational data set</dd><dt><span>history :</span></dt><dd>2024-02-27T06:51:35: Generated level l1a  by pyrnet version 0.2.0+2.g8cd06c5.dirty; </dd><dt><span>institution :</span></dt><dd>Leibniz Institute for Tropospheric Research (TROPOS)</dd><dt><span>source :</span></dt><dd>TROPOS pyranometer network (PyrNet)</dd><dt><span>references :</span></dt><dd>https://doi.org/10.5194/amt-9-1153-2016</dd><dt><span>Department :</span></dt><dd>Remote Sensing of Atmospheric Processes</dd><dt><span>Department_team :</span></dt><dd>Clouds, Aerosol and Radiation</dd><dt><span>Address :</span></dt><dd>Permoser Str. 15, 04318 Leipzig, Germany</dd><dt><span>Contact_person :</span></dt><dd>Andreas Macke and the clouds, aerosol and radiation team of the remote sensing department, mailto:andreas.macke@tropos.de</dd><dt><span>Contributor_name :</span></dt><dd></dd><dt><span>Contributor_role :</span></dt><dd></dd><dt><span>Authors_software :</span></dt><dd>Hartwig Deneke, Jonas Witthuhn, mailto:deneke@tropos.de</dd><dt><span>Creator_name :</span></dt><dd></dd><dt><span>Project :</span></dt><dd></dd><dt><span>Standard_name_vocabulary :</span></dt><dd>CF Standard Name Table v81</dd><dt><span>License :</span></dt><dd>CC-BY-SA 3.0</dd><dt><span>TESTNOTE :</span></dt><dd>This is a test note.</dd><dt><span>processing_level :</span></dt><dd>l1a</dd><dt><span>product_version :</span></dt><dd>0.2.0+2.g8cd06c5.dirty</dd><dt><span>date_created :</span></dt><dd>2024-02-27T06:51:35</dd><dt><span>geospatial_lat_min :</span></dt><dd>51.390208333333334</dd><dt><span>geospatial_lat_max :</span></dt><dd>51.390211666666666</dd><dt><span>geospatial_lat_units :</span></dt><dd>degN</dd><dt><span>geospatial_lon_min :</span></dt><dd>11.885246666666667</dd><dt><span>geospatial_lon_max :</span></dt><dd>11.885256666666667</dd><dt><span>geospatial_lon_units :</span></dt><dd>degE</dd><dt><span>time_coverage_start :</span></dt><dd>2022-08-30T11:21:04.065000</dd><dt><span>time_coverage_end :</span></dt><dd>2022-08-30T11:21:09</dd><dt><span>time_coverage_duration :</span></dt><dd>P0DT0H0M4.935S</dd><dt><span>time_coverage_resolution :</span></dt><dd>P0DT0H0M1.23375S</dd></dl></div></li></ul></div></div>"
     },
     "execution_count": 18,
     "metadata": {},
     "output_type": "execute_result"
    }
   ],
   "source": [
    "#|dropout\n",
    "fn_report = \"../../example_data/results-survey224783.csv\"\n",
    "fn_data = \"../../example_data/Pyr9_000.bin\"\n",
    "\n",
    "fn_cfmeta = pkg_res.resource_filename(\"pyrnet\", \"share/pyrnet_cfmeta.c01.json\")\n",
    "\n",
    "\n",
    "# parse report\n",
    "df_report = pyrnet.reports.get_responses(fn=\"../../example_data/results-survey224783.csv\")\n",
    "report = pyrnet.reports.parse_report(df_report,\n",
    "                              date_of_maintenance=np.datetime64(\"2023-05-08T12:00\"))\n",
    "# read logger file to xarray\n",
    "ds = to_l1a(\n",
    "    fname=fn_data,\n",
    "    station=1, # actually test data is from station 9, but test reports are for station 1 and 2 only\n",
    "    # bins=86400, # seconds resolution\n",
    "    report=report,\n",
    "    config={\"file_cfmeta\": fn_cfmeta, \"stripminutes\": 0},\n",
    "    global_attrs={\"TESTNOTE\": \"This is a test note.\"}\n",
    ")\n",
    "\n",
    "print(\"Processing fname:\")\n",
    "print(get_fname(ds, freq=\"10Hz\", timevar=\"gpstime\", config=None))\n",
    "\n",
    "ds.to_netcdf(\"../../example_data/to_l1a_output.nc\")\n",
    "ds"
   ]
  },
  {
   "cell_type": "code",
   "execution_count": 19,
   "metadata": {
    "collapsed": false,
    "ExecuteTime": {
     "end_time": "2024-02-27T06:51:36.506929100Z",
     "start_time": "2024-02-27T06:51:35.620968100Z"
    }
   },
   "outputs": [
    {
     "name": "stdout",
     "output_type": "stream",
     "text": [
      "CHECKING NetCDF FILE: ../../example_data/to_l1a_output.nc\n",
      "=====================\n",
      "Using CF Checker Version 4.1.0\n",
      "Checking against CF Version CF-1.8\n",
      "Using Standard Name Table Version 84 (2024-01-19T15:55:10Z)\n",
      "Using Area Type Table Version 11 (06 July 2023)\n",
      "Using Standardized Region Name Table Version 4 (18 December 2018)\n",
      "\n",
      "ERROR: (2.6.1): This netCDF file does not appear to contain CF Convention data.\n",
      "\n",
      "------------------\n",
      "Checking variable: ghi\n",
      "------------------\n",
      "ERROR: (3.1): Units are not consistent with those given in the standard_name table.\n",
      "ERROR: (8.1): must be of type byte, short or int\n",
      "\n",
      "------------------\n",
      "Checking variable: gti\n",
      "------------------\n",
      "ERROR: (3.1): Units are not consistent with those given in the standard_name table.\n",
      "ERROR: (8.1): must be of type byte, short or int\n",
      "\n",
      "------------------\n",
      "Checking variable: ta\n",
      "------------------\n",
      "ERROR: (8.1): must be of type byte, short or int\n",
      "\n",
      "------------------\n",
      "Checking variable: rh\n",
      "------------------\n",
      "ERROR: (8.1): must be of type byte, short or int\n",
      "\n",
      "------------------\n",
      "Checking variable: battery_voltage\n",
      "------------------\n",
      "ERROR: (3.3): Invalid standard_name: battery_voltage\n",
      "ERROR: (8.1): must be of type byte, short or int\n",
      "\n",
      "------------------\n",
      "Checking variable: lat\n",
      "------------------\n",
      "\n",
      "------------------\n",
      "Checking variable: lon\n",
      "------------------\n",
      "\n",
      "------------------\n",
      "Checking variable: maintenance_flag_ghi\n",
      "------------------\n",
      "WARN: (3): No standard_name or long_name attribute specified\n",
      "INFO: (3.1): No units attribute set.  Please consider adding a units attribute for completeness.\n",
      "\n",
      "------------------\n",
      "Checking variable: maintenance_flag_gti\n",
      "------------------\n",
      "WARN: (3): No standard_name or long_name attribute specified\n",
      "INFO: (3.1): No units attribute set.  Please consider adding a units attribute for completeness.\n",
      "\n",
      "------------------\n",
      "Checking variable: iadc\n",
      "------------------\n",
      "ERROR: (3.3): Invalid standard_name: index\n",
      "ERROR: (3.1): Invalid units: -\n",
      "\n",
      "------------------\n",
      "Checking variable: adctime\n",
      "------------------\n",
      "WARN: (4.4.1): Use of the calendar and/or month_lengths attributes is recommended for time coordinate variables\n",
      "ERROR: (4.4): Invalid units and/or reference time\n",
      "\n",
      "------------------\n",
      "Checking variable: gpstime\n",
      "------------------\n",
      "WARN: (3): No standard_name or long_name attribute specified\n",
      "\n",
      "------------------\n",
      "Checking variable: maintenancetime\n",
      "------------------\n",
      "WARN: (3): No standard_name or long_name attribute specified\n",
      "\n",
      "------------------\n",
      "Checking variable: station\n",
      "------------------\n",
      "ERROR: (3.1): Invalid units: -\n",
      "\n",
      "ERRORS detected: 13\n",
      "WARNINGS given: 5\n",
      "INFORMATION messages: 2\n"
     ]
    }
   ],
   "source": [
    "import cfchecker.cfchecks\n",
    "init = cfchecker.cfchecks.CFChecker()\n",
    "res = init.checker(\"../../example_data/to_l1a_output.nc\")"
   ]
  },
  {
   "cell_type": "code",
   "execution_count": 20,
   "metadata": {
    "collapsed": false,
    "ExecuteTime": {
     "end_time": "2024-02-27T06:51:36.507950Z",
     "start_time": "2024-02-27T06:51:36.484433200Z"
    }
   },
   "outputs": [
    {
     "data": {
      "text/plain": "<class 'netCDF4._netCDF4.Dataset'>\nroot group (NETCDF4 data model, file format HDF5):\n    Conventions: CF-1.10, ACDD-1.3\n    title: TROPOS pyranometer network (PyrNet) observational data set\n    history: 2024-02-27T06:51:35: Generated level l1a  by pyrnet version 0.2.0+2.g8cd06c5.dirty; \n    institution: Leibniz Institute for Tropospheric Research (TROPOS)\n    source: TROPOS pyranometer network (PyrNet)\n    references: https://doi.org/10.5194/amt-9-1153-2016\n    Department: Remote Sensing of Atmospheric Processes\n    Department_team: Clouds, Aerosol and Radiation\n    Address: Permoser Str. 15, 04318 Leipzig, Germany\n    Contact_person: Andreas Macke and the clouds, aerosol and radiation team of the remote sensing department, mailto:andreas.macke@tropos.de\n    Contributor_name: \n    Contributor_role: \n    Authors_software: Hartwig Deneke, Jonas Witthuhn, mailto:deneke@tropos.de\n    Creator_name: \n    Project: \n    Standard_name_vocabulary: CF Standard Name Table v81\n    License: CC-BY-SA 3.0\n    TESTNOTE: This is a test note.\n    processing_level: l1a\n    product_version: 0.2.0+2.g8cd06c5.dirty\n    date_created: 2024-02-27T06:51:35\n    geospatial_lat_min: 51.390208333333334\n    geospatial_lat_max: 51.390211666666666\n    geospatial_lat_units: degN\n    geospatial_lon_min: 11.885246666666667\n    geospatial_lon_max: 11.885256666666667\n    geospatial_lon_units: degE\n    time_coverage_start: 2022-08-30T11:21:04.065000\n    time_coverage_end: 2022-08-30T11:21:09\n    time_coverage_duration: P0DT0H0M4.935S\n    time_coverage_resolution: P0DT0H0M1.23375S\n    dimensions(sizes): adctime(77), station(1), gpstime(5), maintenancetime(1)\n    variables(dimensions): uint16 ghi(adctime, station), uint16 gti(adctime, station), uint16 ta(adctime, station), uint16 rh(adctime, station), uint16 battery_voltage(adctime, station), float64 lat(gpstime, station), float64 lon(gpstime, station), uint8 maintenance_flag_ghi(maintenancetime, station), uint8 maintenance_flag_gti(maintenancetime, station), uint32 iadc(gpstime, station), uint32 adctime(adctime), float64 gpstime(gpstime), float64 maintenancetime(maintenancetime), uint8 station(station)\n    groups: "
     },
     "execution_count": 20,
     "metadata": {},
     "output_type": "execute_result"
    }
   ],
   "source": [
    "#|dropout\n",
    "import netCDF4\n",
    "netCDF4.Dataset(\"../../example_data/to_l1a_output.nc\",'r')"
   ]
  },
  {
   "cell_type": "markdown",
   "metadata": {
    "collapsed": false
   },
   "source": [
    "\n",
    "\n",
    "## l1b\n",
    "Resampled, calibrated data as daily files per station. Resampling is per default to one second, but can be configured.\n"
   ]
  },
  {
   "cell_type": "code",
   "execution_count": 21,
   "metadata": {
    "collapsed": false,
    "ExecuteTime": {
     "end_time": "2024-02-27T06:51:36.581788600Z",
     "start_time": "2024-02-27T06:51:36.501592200Z"
    }
   },
   "outputs": [],
   "source": [
    "fname = \"../../example_data/to_l1a_output.nc\"\n",
    "config = {\n",
    "    \"l1bfreq\": \"1s\",\n",
    "    \"stripminutes\": 5,\n",
    "    \"average_latlon\": True,\n",
    "    \"radflux_varname\": [\"ghi\", \"gti\"]\n",
    "}\n",
    "\n",
    "config = get_config(config)\n",
    "gattrs, vattrs, vencode = get_cfmeta(config)\n"
   ]
  },
  {
   "cell_type": "markdown",
   "metadata": {
    "collapsed": false
   },
   "source": [
    "The l1b data is processed from the l1b data with the following workflow:\n",
    "\n",
    "### Read l1a netcdf\n",
    "Ensure its l1a by checking *processing_level* attribute.\n",
    "\n",
    "### Sync GPS to ADC time\n",
    "Use ```sync_adc_time``` to fit logger ADC timedelta since operation start to GPS timestamps. This is crucial to overcome time drifts and ensure synchronized measurements.\n",
    "\n",
    "### Make dataset with new time\n",
    "Initialize new l1b dataset with the synchronized time as coordinate"
   ]
  },
  {
   "cell_type": "code",
   "execution_count": 22,
   "metadata": {
    "collapsed": false,
    "ExecuteTime": {
     "end_time": "2024-02-27T06:51:36.747075Z",
     "start_time": "2024-02-27T06:51:36.518331900Z"
    }
   },
   "outputs": [
    {
     "data": {
      "text/plain": "<xarray.Dataset>\nDimensions:          (time: 77, station: 1, maintenancetime: 1)\nCoordinates:\n  * maintenancetime  (maintenancetime) datetime64[ns] 2023-05-08T16:09:06\n  * station          (station) float32 1.0\n  * time             (time) datetime64[ns] 2022-08-30T11:21:01.443000 ... 202...\nData variables:\n    ghi              (time, station) float32 ...\n    gti              (time, station) float32 ...\n    ta               (time, station) float32 ...\n    rh               (time, station) float32 ...\n    battery_voltage  (time, station) float32 ...\nAttributes: (12/31)\n    Conventions:               CF-1.10, ACDD-1.3\n    title:                     TROPOS pyranometer network (PyrNet) observatio...\n    history:                   2024-02-27T06:51:35: Generated level l1a  by p...\n    institution:               Leibniz Institute for Tropospheric Research (T...\n    source:                    TROPOS pyranometer network (PyrNet)\n    references:                https://doi.org/10.5194/amt-9-1153-2016\n    ...                        ...\n    geospatial_lon_max:        11.885256666666667\n    geospatial_lon_units:      degE\n    time_coverage_start:       2022-08-30T11:21:04.065000\n    time_coverage_end:         2022-08-30T11:21:09\n    time_coverage_duration:    P0DT0H0M4.935S\n    time_coverage_resolution:  P0DT0H0M1.23375S",
      "text/html": "<div><svg style=\"position: absolute; width: 0; height: 0; overflow: hidden\">\n<defs>\n<symbol id=\"icon-database\" viewBox=\"0 0 32 32\">\n<path d=\"M16 0c-8.837 0-16 2.239-16 5v4c0 2.761 7.163 5 16 5s16-2.239 16-5v-4c0-2.761-7.163-5-16-5z\"></path>\n<path d=\"M16 17c-8.837 0-16-2.239-16-5v6c0 2.761 7.163 5 16 5s16-2.239 16-5v-6c0 2.761-7.163 5-16 5z\"></path>\n<path d=\"M16 26c-8.837 0-16-2.239-16-5v6c0 2.761 7.163 5 16 5s16-2.239 16-5v-6c0 2.761-7.163 5-16 5z\"></path>\n</symbol>\n<symbol id=\"icon-file-text2\" viewBox=\"0 0 32 32\">\n<path d=\"M28.681 7.159c-0.694-0.947-1.662-2.053-2.724-3.116s-2.169-2.030-3.116-2.724c-1.612-1.182-2.393-1.319-2.841-1.319h-15.5c-1.378 0-2.5 1.121-2.5 2.5v27c0 1.378 1.122 2.5 2.5 2.5h23c1.378 0 2.5-1.122 2.5-2.5v-19.5c0-0.448-0.137-1.23-1.319-2.841zM24.543 5.457c0.959 0.959 1.712 1.825 2.268 2.543h-4.811v-4.811c0.718 0.556 1.584 1.309 2.543 2.268zM28 29.5c0 0.271-0.229 0.5-0.5 0.5h-23c-0.271 0-0.5-0.229-0.5-0.5v-27c0-0.271 0.229-0.5 0.5-0.5 0 0 15.499-0 15.5 0v7c0 0.552 0.448 1 1 1h7v19.5z\"></path>\n<path d=\"M23 26h-14c-0.552 0-1-0.448-1-1s0.448-1 1-1h14c0.552 0 1 0.448 1 1s-0.448 1-1 1z\"></path>\n<path d=\"M23 22h-14c-0.552 0-1-0.448-1-1s0.448-1 1-1h14c0.552 0 1 0.448 1 1s-0.448 1-1 1z\"></path>\n<path d=\"M23 18h-14c-0.552 0-1-0.448-1-1s0.448-1 1-1h14c0.552 0 1 0.448 1 1s-0.448 1-1 1z\"></path>\n</symbol>\n</defs>\n</svg>\n<style>/* CSS stylesheet for displaying xarray objects in jupyterlab.\n *\n */\n\n:root {\n  --xr-font-color0: var(--jp-content-font-color0, rgba(0, 0, 0, 1));\n  --xr-font-color2: var(--jp-content-font-color2, rgba(0, 0, 0, 0.54));\n  --xr-font-color3: var(--jp-content-font-color3, rgba(0, 0, 0, 0.38));\n  --xr-border-color: var(--jp-border-color2, #e0e0e0);\n  --xr-disabled-color: var(--jp-layout-color3, #bdbdbd);\n  --xr-background-color: var(--jp-layout-color0, white);\n  --xr-background-color-row-even: var(--jp-layout-color1, white);\n  --xr-background-color-row-odd: var(--jp-layout-color2, #eeeeee);\n}\n\nhtml[theme=dark],\nbody[data-theme=dark],\nbody.vscode-dark {\n  --xr-font-color0: rgba(255, 255, 255, 1);\n  --xr-font-color2: rgba(255, 255, 255, 0.54);\n  --xr-font-color3: rgba(255, 255, 255, 0.38);\n  --xr-border-color: #1F1F1F;\n  --xr-disabled-color: #515151;\n  --xr-background-color: #111111;\n  --xr-background-color-row-even: #111111;\n  --xr-background-color-row-odd: #313131;\n}\n\n.xr-wrap {\n  display: block !important;\n  min-width: 300px;\n  max-width: 700px;\n}\n\n.xr-text-repr-fallback {\n  /* fallback to plain text repr when CSS is not injected (untrusted notebook) */\n  display: none;\n}\n\n.xr-header {\n  padding-top: 6px;\n  padding-bottom: 6px;\n  margin-bottom: 4px;\n  border-bottom: solid 1px var(--xr-border-color);\n}\n\n.xr-header > div,\n.xr-header > ul {\n  display: inline;\n  margin-top: 0;\n  margin-bottom: 0;\n}\n\n.xr-obj-type,\n.xr-array-name {\n  margin-left: 2px;\n  margin-right: 10px;\n}\n\n.xr-obj-type {\n  color: var(--xr-font-color2);\n}\n\n.xr-sections {\n  padding-left: 0 !important;\n  display: grid;\n  grid-template-columns: 150px auto auto 1fr 20px 20px;\n}\n\n.xr-section-item {\n  display: contents;\n}\n\n.xr-section-item input {\n  display: none;\n}\n\n.xr-section-item input + label {\n  color: var(--xr-disabled-color);\n}\n\n.xr-section-item input:enabled + label {\n  cursor: pointer;\n  color: var(--xr-font-color2);\n}\n\n.xr-section-item input:enabled + label:hover {\n  color: var(--xr-font-color0);\n}\n\n.xr-section-summary {\n  grid-column: 1;\n  color: var(--xr-font-color2);\n  font-weight: 500;\n}\n\n.xr-section-summary > span {\n  display: inline-block;\n  padding-left: 0.5em;\n}\n\n.xr-section-summary-in:disabled + label {\n  color: var(--xr-font-color2);\n}\n\n.xr-section-summary-in + label:before {\n  display: inline-block;\n  content: '►';\n  font-size: 11px;\n  width: 15px;\n  text-align: center;\n}\n\n.xr-section-summary-in:disabled + label:before {\n  color: var(--xr-disabled-color);\n}\n\n.xr-section-summary-in:checked + label:before {\n  content: '▼';\n}\n\n.xr-section-summary-in:checked + label > span {\n  display: none;\n}\n\n.xr-section-summary,\n.xr-section-inline-details {\n  padding-top: 4px;\n  padding-bottom: 4px;\n}\n\n.xr-section-inline-details {\n  grid-column: 2 / -1;\n}\n\n.xr-section-details {\n  display: none;\n  grid-column: 1 / -1;\n  margin-bottom: 5px;\n}\n\n.xr-section-summary-in:checked ~ .xr-section-details {\n  display: contents;\n}\n\n.xr-array-wrap {\n  grid-column: 1 / -1;\n  display: grid;\n  grid-template-columns: 20px auto;\n}\n\n.xr-array-wrap > label {\n  grid-column: 1;\n  vertical-align: top;\n}\n\n.xr-preview {\n  color: var(--xr-font-color3);\n}\n\n.xr-array-preview,\n.xr-array-data {\n  padding: 0 5px !important;\n  grid-column: 2;\n}\n\n.xr-array-data,\n.xr-array-in:checked ~ .xr-array-preview {\n  display: none;\n}\n\n.xr-array-in:checked ~ .xr-array-data,\n.xr-array-preview {\n  display: inline-block;\n}\n\n.xr-dim-list {\n  display: inline-block !important;\n  list-style: none;\n  padding: 0 !important;\n  margin: 0;\n}\n\n.xr-dim-list li {\n  display: inline-block;\n  padding: 0;\n  margin: 0;\n}\n\n.xr-dim-list:before {\n  content: '(';\n}\n\n.xr-dim-list:after {\n  content: ')';\n}\n\n.xr-dim-list li:not(:last-child):after {\n  content: ',';\n  padding-right: 5px;\n}\n\n.xr-has-index {\n  font-weight: bold;\n}\n\n.xr-var-list,\n.xr-var-item {\n  display: contents;\n}\n\n.xr-var-item > div,\n.xr-var-item label,\n.xr-var-item > .xr-var-name span {\n  background-color: var(--xr-background-color-row-even);\n  margin-bottom: 0;\n}\n\n.xr-var-item > .xr-var-name:hover span {\n  padding-right: 5px;\n}\n\n.xr-var-list > li:nth-child(odd) > div,\n.xr-var-list > li:nth-child(odd) > label,\n.xr-var-list > li:nth-child(odd) > .xr-var-name span {\n  background-color: var(--xr-background-color-row-odd);\n}\n\n.xr-var-name {\n  grid-column: 1;\n}\n\n.xr-var-dims {\n  grid-column: 2;\n}\n\n.xr-var-dtype {\n  grid-column: 3;\n  text-align: right;\n  color: var(--xr-font-color2);\n}\n\n.xr-var-preview {\n  grid-column: 4;\n}\n\n.xr-index-preview {\n  grid-column: 2 / 5;\n  color: var(--xr-font-color2);\n}\n\n.xr-var-name,\n.xr-var-dims,\n.xr-var-dtype,\n.xr-preview,\n.xr-attrs dt {\n  white-space: nowrap;\n  overflow: hidden;\n  text-overflow: ellipsis;\n  padding-right: 10px;\n}\n\n.xr-var-name:hover,\n.xr-var-dims:hover,\n.xr-var-dtype:hover,\n.xr-attrs dt:hover {\n  overflow: visible;\n  width: auto;\n  z-index: 1;\n}\n\n.xr-var-attrs,\n.xr-var-data,\n.xr-index-data {\n  display: none;\n  background-color: var(--xr-background-color) !important;\n  padding-bottom: 5px !important;\n}\n\n.xr-var-attrs-in:checked ~ .xr-var-attrs,\n.xr-var-data-in:checked ~ .xr-var-data,\n.xr-index-data-in:checked ~ .xr-index-data {\n  display: block;\n}\n\n.xr-var-data > table {\n  float: right;\n}\n\n.xr-var-name span,\n.xr-var-data,\n.xr-index-name div,\n.xr-index-data,\n.xr-attrs {\n  padding-left: 25px !important;\n}\n\n.xr-attrs,\n.xr-var-attrs,\n.xr-var-data,\n.xr-index-data {\n  grid-column: 1 / -1;\n}\n\ndl.xr-attrs {\n  padding: 0;\n  margin: 0;\n  display: grid;\n  grid-template-columns: 125px auto;\n}\n\n.xr-attrs dt,\n.xr-attrs dd {\n  padding: 0;\n  margin: 0;\n  float: left;\n  padding-right: 10px;\n  width: auto;\n}\n\n.xr-attrs dt {\n  font-weight: normal;\n  grid-column: 1;\n}\n\n.xr-attrs dt:hover span {\n  display: inline-block;\n  background: var(--xr-background-color);\n  padding-right: 10px;\n}\n\n.xr-attrs dd {\n  grid-column: 2;\n  white-space: pre-wrap;\n  word-break: break-all;\n}\n\n.xr-icon-database,\n.xr-icon-file-text2,\n.xr-no-icon {\n  display: inline-block;\n  vertical-align: middle;\n  width: 1em;\n  height: 1.5em !important;\n  stroke-width: 0;\n  stroke: currentColor;\n  fill: currentColor;\n}\n</style><pre class='xr-text-repr-fallback'>&lt;xarray.Dataset&gt;\nDimensions:          (time: 77, station: 1, maintenancetime: 1)\nCoordinates:\n  * maintenancetime  (maintenancetime) datetime64[ns] 2023-05-08T16:09:06\n  * station          (station) float32 1.0\n  * time             (time) datetime64[ns] 2022-08-30T11:21:01.443000 ... 202...\nData variables:\n    ghi              (time, station) float32 ...\n    gti              (time, station) float32 ...\n    ta               (time, station) float32 ...\n    rh               (time, station) float32 ...\n    battery_voltage  (time, station) float32 ...\nAttributes: (12/31)\n    Conventions:               CF-1.10, ACDD-1.3\n    title:                     TROPOS pyranometer network (PyrNet) observatio...\n    history:                   2024-02-27T06:51:35: Generated level l1a  by p...\n    institution:               Leibniz Institute for Tropospheric Research (T...\n    source:                    TROPOS pyranometer network (PyrNet)\n    references:                https://doi.org/10.5194/amt-9-1153-2016\n    ...                        ...\n    geospatial_lon_max:        11.885256666666667\n    geospatial_lon_units:      degE\n    time_coverage_start:       2022-08-30T11:21:04.065000\n    time_coverage_end:         2022-08-30T11:21:09\n    time_coverage_duration:    P0DT0H0M4.935S\n    time_coverage_resolution:  P0DT0H0M1.23375S</pre><div class='xr-wrap' style='display:none'><div class='xr-header'><div class='xr-obj-type'>xarray.Dataset</div></div><ul class='xr-sections'><li class='xr-section-item'><input id='section-db4ca268-9bf5-4ab4-9aa2-3ed253263274' class='xr-section-summary-in' type='checkbox' disabled ><label for='section-db4ca268-9bf5-4ab4-9aa2-3ed253263274' class='xr-section-summary'  title='Expand/collapse section'>Dimensions:</label><div class='xr-section-inline-details'><ul class='xr-dim-list'><li><span class='xr-has-index'>time</span>: 77</li><li><span class='xr-has-index'>station</span>: 1</li><li><span class='xr-has-index'>maintenancetime</span>: 1</li></ul></div><div class='xr-section-details'></div></li><li class='xr-section-item'><input id='section-1f374352-0fdd-477a-b249-a3888f84793c' class='xr-section-summary-in' type='checkbox'  checked><label for='section-1f374352-0fdd-477a-b249-a3888f84793c' class='xr-section-summary' >Coordinates: <span>(3)</span></label><div class='xr-section-inline-details'></div><div class='xr-section-details'><ul class='xr-var-list'><li class='xr-var-item'><div class='xr-var-name'><span class='xr-has-index'>maintenancetime</span></div><div class='xr-var-dims'>(maintenancetime)</div><div class='xr-var-dtype'>datetime64[ns]</div><div class='xr-var-preview xr-preview'>2023-05-08T16:09:06</div><input id='attrs-3e1aab2a-07c4-489a-8e39-3fd8eaebcf91' class='xr-var-attrs-in' type='checkbox' disabled><label for='attrs-3e1aab2a-07c4-489a-8e39-3fd8eaebcf91' title='Show/Hide attributes'><svg class='icon xr-icon-file-text2'><use xlink:href='#icon-file-text2'></use></svg></label><input id='data-631f305b-bf98-43d5-8a4d-050e7f5d797a' class='xr-var-data-in' type='checkbox'><label for='data-631f305b-bf98-43d5-8a4d-050e7f5d797a' title='Show/Hide data repr'><svg class='icon xr-icon-database'><use xlink:href='#icon-database'></use></svg></label><div class='xr-var-attrs'><dl class='xr-attrs'></dl></div><div class='xr-var-data'><pre>array([&#x27;2023-05-08T16:09:06.000000000&#x27;], dtype=&#x27;datetime64[ns]&#x27;)</pre></div></li><li class='xr-var-item'><div class='xr-var-name'><span class='xr-has-index'>station</span></div><div class='xr-var-dims'>(station)</div><div class='xr-var-dtype'>float32</div><div class='xr-var-preview xr-preview'>1.0</div><input id='attrs-e69fa059-1b86-4097-b622-ef3e520a6832' class='xr-var-attrs-in' type='checkbox' ><label for='attrs-e69fa059-1b86-4097-b622-ef3e520a6832' title='Show/Hide attributes'><svg class='icon xr-icon-file-text2'><use xlink:href='#icon-file-text2'></use></svg></label><input id='data-3654f00d-48ce-468c-9b2f-e3251c2ea551' class='xr-var-data-in' type='checkbox'><label for='data-3654f00d-48ce-468c-9b2f-e3251c2ea551' title='Show/Hide data repr'><svg class='icon xr-icon-database'><use xlink:href='#icon-database'></use></svg></label><div class='xr-var-attrs'><dl class='xr-attrs'><dt><span>units :</span></dt><dd>-</dd><dt><span>long_name :</span></dt><dd>PyrNet unit box number</dd></dl></div><div class='xr-var-data'><pre>array([1.], dtype=float32)</pre></div></li><li class='xr-var-item'><div class='xr-var-name'><span class='xr-has-index'>time</span></div><div class='xr-var-dims'>(time)</div><div class='xr-var-dtype'>datetime64[ns]</div><div class='xr-var-preview xr-preview'>2022-08-30T11:21:01.443000 ... 2...</div><input id='attrs-d0391ed6-62f5-421b-96bf-f3b5131912b1' class='xr-var-attrs-in' type='checkbox' disabled><label for='attrs-d0391ed6-62f5-421b-96bf-f3b5131912b1' title='Show/Hide attributes'><svg class='icon xr-icon-file-text2'><use xlink:href='#icon-file-text2'></use></svg></label><input id='data-93fb13d7-f5ec-462b-8478-279180751a06' class='xr-var-data-in' type='checkbox'><label for='data-93fb13d7-f5ec-462b-8478-279180751a06' title='Show/Hide data repr'><svg class='icon xr-icon-database'><use xlink:href='#icon-database'></use></svg></label><div class='xr-var-attrs'><dl class='xr-attrs'></dl></div><div class='xr-var-data'><pre>array([&#x27;2022-08-30T11:21:01.443000000&#x27;, &#x27;2022-08-30T11:21:01.545000000&#x27;,\n       &#x27;2022-08-30T11:21:01.647000000&#x27;, &#x27;2022-08-30T11:21:01.750000000&#x27;,\n       &#x27;2022-08-30T11:21:01.852000000&#x27;, &#x27;2022-08-30T11:21:01.955000000&#x27;,\n       &#x27;2022-08-30T11:21:02.057000000&#x27;, &#x27;2022-08-30T11:21:02.160000000&#x27;,\n       &#x27;2022-08-30T11:21:02.262000000&#x27;, &#x27;2022-08-30T11:21:02.364000000&#x27;,\n       &#x27;2022-08-30T11:21:02.467000000&#x27;, &#x27;2022-08-30T11:21:02.569000000&#x27;,\n       &#x27;2022-08-30T11:21:02.672000000&#x27;, &#x27;2022-08-30T11:21:02.774000000&#x27;,\n       &#x27;2022-08-30T11:21:02.877000000&#x27;, &#x27;2022-08-30T11:21:02.979000000&#x27;,\n       &#x27;2022-08-30T11:21:03.081000000&#x27;, &#x27;2022-08-30T11:21:03.184000000&#x27;,\n       &#x27;2022-08-30T11:21:03.286000000&#x27;, &#x27;2022-08-30T11:21:03.389000000&#x27;,\n       &#x27;2022-08-30T11:21:03.491000000&#x27;, &#x27;2022-08-30T11:21:03.594000000&#x27;,\n       &#x27;2022-08-30T11:21:03.696000000&#x27;, &#x27;2022-08-30T11:21:03.799000000&#x27;,\n       &#x27;2022-08-30T11:21:03.901000000&#x27;, &#x27;2022-08-30T11:21:04.003000000&#x27;,\n       &#x27;2022-08-30T11:21:04.106000000&#x27;, &#x27;2022-08-30T11:21:04.208000000&#x27;,\n       &#x27;2022-08-30T11:21:04.311000000&#x27;, &#x27;2022-08-30T11:21:04.413000000&#x27;,\n       &#x27;2022-08-30T11:21:04.516000000&#x27;, &#x27;2022-08-30T11:21:04.618000000&#x27;,\n       &#x27;2022-08-30T11:21:04.720000000&#x27;, &#x27;2022-08-30T11:21:04.823000000&#x27;,\n       &#x27;2022-08-30T11:21:04.925000000&#x27;, &#x27;2022-08-30T11:21:05.028000000&#x27;,\n       &#x27;2022-08-30T11:21:05.130000000&#x27;, &#x27;2022-08-30T11:21:05.233000000&#x27;,\n       &#x27;2022-08-30T11:21:05.335000000&#x27;, &#x27;2022-08-30T11:21:05.438000000&#x27;,\n       &#x27;2022-08-30T11:21:05.540000000&#x27;, &#x27;2022-08-30T11:21:05.642000000&#x27;,\n       &#x27;2022-08-30T11:21:05.745000000&#x27;, &#x27;2022-08-30T11:21:05.847000000&#x27;,\n       &#x27;2022-08-30T11:21:05.950000000&#x27;, &#x27;2022-08-30T11:21:06.052000000&#x27;,\n       &#x27;2022-08-30T11:21:06.155000000&#x27;, &#x27;2022-08-30T11:21:06.257000000&#x27;,\n       &#x27;2022-08-30T11:21:06.359000000&#x27;, &#x27;2022-08-30T11:21:06.462000000&#x27;,\n       &#x27;2022-08-30T11:21:06.564000000&#x27;, &#x27;2022-08-30T11:21:06.667000000&#x27;,\n       &#x27;2022-08-30T11:21:06.769000000&#x27;, &#x27;2022-08-30T11:21:06.872000000&#x27;,\n       &#x27;2022-08-30T11:21:06.974000000&#x27;, &#x27;2022-08-30T11:21:07.077000000&#x27;,\n       &#x27;2022-08-30T11:21:07.179000000&#x27;, &#x27;2022-08-30T11:21:07.281000000&#x27;,\n       &#x27;2022-08-30T11:21:07.384000000&#x27;, &#x27;2022-08-30T11:21:07.486000000&#x27;,\n       &#x27;2022-08-30T11:21:07.589000000&#x27;, &#x27;2022-08-30T11:21:07.691000000&#x27;,\n       &#x27;2022-08-30T11:21:07.794000000&#x27;, &#x27;2022-08-30T11:21:07.896000000&#x27;,\n       &#x27;2022-08-30T11:21:07.998000000&#x27;, &#x27;2022-08-30T11:21:08.101000000&#x27;,\n       &#x27;2022-08-30T11:21:08.203000000&#x27;, &#x27;2022-08-30T11:21:08.306000000&#x27;,\n       &#x27;2022-08-30T11:21:08.408000000&#x27;, &#x27;2022-08-30T11:21:08.511000000&#x27;,\n       &#x27;2022-08-30T11:21:08.613000000&#x27;, &#x27;2022-08-30T11:21:08.715000000&#x27;,\n       &#x27;2022-08-30T11:21:08.818000000&#x27;, &#x27;2022-08-30T11:21:08.920000000&#x27;,\n       &#x27;2022-08-30T11:21:09.023000000&#x27;, &#x27;2022-08-30T11:21:09.125000000&#x27;,\n       &#x27;2022-08-30T11:21:09.228000000&#x27;], dtype=&#x27;datetime64[ns]&#x27;)</pre></div></li></ul></div></li><li class='xr-section-item'><input id='section-7ca25d78-b174-4872-9cce-ecfb7d9d14bf' class='xr-section-summary-in' type='checkbox'  checked><label for='section-7ca25d78-b174-4872-9cce-ecfb7d9d14bf' class='xr-section-summary' >Data variables: <span>(5)</span></label><div class='xr-section-inline-details'></div><div class='xr-section-details'><ul class='xr-var-list'><li class='xr-var-item'><div class='xr-var-name'><span>ghi</span></div><div class='xr-var-dims'>(time, station)</div><div class='xr-var-dtype'>float32</div><div class='xr-var-preview xr-preview'>...</div><input id='attrs-02974b0a-4fec-4c52-96be-f201519180ea' class='xr-var-attrs-in' type='checkbox' ><label for='attrs-02974b0a-4fec-4c52-96be-f201519180ea' title='Show/Hide attributes'><svg class='icon xr-icon-file-text2'><use xlink:href='#icon-file-text2'></use></svg></label><input id='data-11d280b1-3775-4312-a36d-4a72719d4bff' class='xr-var-data-in' type='checkbox'><label for='data-11d280b1-3775-4312-a36d-4a72719d4bff' title='Show/Hide data repr'><svg class='icon xr-icon-database'><use xlink:href='#icon-database'></use></svg></label><div class='xr-var-attrs'><dl class='xr-attrs'><dt><span>units :</span></dt><dd>V</dd><dt><span>long_name :</span></dt><dd>downwelling shortwave flux</dd><dt><span>standard_name :</span></dt><dd>downwelling_shortwave_flux_in_air</dd><dt><span>valid_range :</span></dt><dd>[   0 1023]</dd></dl></div><div class='xr-var-data'><pre>[77 values with dtype=float32]</pre></div></li><li class='xr-var-item'><div class='xr-var-name'><span>gti</span></div><div class='xr-var-dims'>(time, station)</div><div class='xr-var-dtype'>float32</div><div class='xr-var-preview xr-preview'>...</div><input id='attrs-723f48b3-44e2-4921-9017-0e2724923360' class='xr-var-attrs-in' type='checkbox' ><label for='attrs-723f48b3-44e2-4921-9017-0e2724923360' title='Show/Hide attributes'><svg class='icon xr-icon-file-text2'><use xlink:href='#icon-file-text2'></use></svg></label><input id='data-0eb1db3e-4c86-47d0-869c-8107f542ff89' class='xr-var-data-in' type='checkbox'><label for='data-0eb1db3e-4c86-47d0-869c-8107f542ff89' title='Show/Hide data repr'><svg class='icon xr-icon-database'><use xlink:href='#icon-database'></use></svg></label><div class='xr-var-attrs'><dl class='xr-attrs'><dt><span>units :</span></dt><dd>V</dd><dt><span>long_name :</span></dt><dd>downwelling shortwave flux measured on secondary platform, might be tilted</dd><dt><span>standard_name :</span></dt><dd>downwelling_shortwave_flux_in_air</dd><dt><span>valid_range :</span></dt><dd>[   0 1023]</dd><dt><span>hangle :</span></dt><dd>0.0</dd><dt><span>vangle :</span></dt><dd>0.0</dd></dl></div><div class='xr-var-data'><pre>[77 values with dtype=float32]</pre></div></li><li class='xr-var-item'><div class='xr-var-name'><span>ta</span></div><div class='xr-var-dims'>(time, station)</div><div class='xr-var-dtype'>float32</div><div class='xr-var-preview xr-preview'>...</div><input id='attrs-8131db75-7e36-433d-92e1-dee828c1797f' class='xr-var-attrs-in' type='checkbox' ><label for='attrs-8131db75-7e36-433d-92e1-dee828c1797f' title='Show/Hide attributes'><svg class='icon xr-icon-file-text2'><use xlink:href='#icon-file-text2'></use></svg></label><input id='data-1e528e87-a45b-40f6-8927-aecfda466c67' class='xr-var-data-in' type='checkbox'><label for='data-1e528e87-a45b-40f6-8927-aecfda466c67' title='Show/Hide data repr'><svg class='icon xr-icon-database'><use xlink:href='#icon-database'></use></svg></label><div class='xr-var-attrs'><dl class='xr-attrs'><dt><span>units :</span></dt><dd>K</dd><dt><span>long_name :</span></dt><dd>air temperature</dd><dt><span>standard_name :</span></dt><dd>air_temperature</dd><dt><span>valid_range :</span></dt><dd>[  0 775]</dd></dl></div><div class='xr-var-data'><pre>[77 values with dtype=float32]</pre></div></li><li class='xr-var-item'><div class='xr-var-name'><span>rh</span></div><div class='xr-var-dims'>(time, station)</div><div class='xr-var-dtype'>float32</div><div class='xr-var-preview xr-preview'>...</div><input id='attrs-513aa02e-4543-4e35-9ad9-f7b7fdb25642' class='xr-var-attrs-in' type='checkbox' ><label for='attrs-513aa02e-4543-4e35-9ad9-f7b7fdb25642' title='Show/Hide attributes'><svg class='icon xr-icon-file-text2'><use xlink:href='#icon-file-text2'></use></svg></label><input id='data-393f19dd-4c3a-4926-a3b0-86cd32a61cd2' class='xr-var-data-in' type='checkbox'><label for='data-393f19dd-4c3a-4926-a3b0-86cd32a61cd2' title='Show/Hide data repr'><svg class='icon xr-icon-database'><use xlink:href='#icon-database'></use></svg></label><div class='xr-var-attrs'><dl class='xr-attrs'><dt><span>units :</span></dt><dd>1</dd><dt><span>long_name :</span></dt><dd>air relative humidity</dd><dt><span>standard_name :</span></dt><dd>relative_humidity</dd><dt><span>valid_range :</span></dt><dd>[  0 775]</dd></dl></div><div class='xr-var-data'><pre>[77 values with dtype=float32]</pre></div></li><li class='xr-var-item'><div class='xr-var-name'><span>battery_voltage</span></div><div class='xr-var-dims'>(time, station)</div><div class='xr-var-dtype'>float32</div><div class='xr-var-preview xr-preview'>...</div><input id='attrs-1eab5c20-832d-41d0-9e47-545123b8c257' class='xr-var-attrs-in' type='checkbox' ><label for='attrs-1eab5c20-832d-41d0-9e47-545123b8c257' title='Show/Hide attributes'><svg class='icon xr-icon-file-text2'><use xlink:href='#icon-file-text2'></use></svg></label><input id='data-b594b6f0-2e60-4155-8f50-1c2b235e769b' class='xr-var-data-in' type='checkbox'><label for='data-b594b6f0-2e60-4155-8f50-1c2b235e769b' title='Show/Hide data repr'><svg class='icon xr-icon-database'><use xlink:href='#icon-database'></use></svg></label><div class='xr-var-attrs'><dl class='xr-attrs'><dt><span>units :</span></dt><dd>V</dd><dt><span>standard_name :</span></dt><dd>battery_voltage</dd><dt><span>valid_range :</span></dt><dd>[  0 992]</dd></dl></div><div class='xr-var-data'><pre>[77 values with dtype=float32]</pre></div></li></ul></div></li><li class='xr-section-item'><input id='section-9e3c37fb-cfe1-474a-b00c-6b4f06a55ab8' class='xr-section-summary-in' type='checkbox'  ><label for='section-9e3c37fb-cfe1-474a-b00c-6b4f06a55ab8' class='xr-section-summary' >Indexes: <span>(3)</span></label><div class='xr-section-inline-details'></div><div class='xr-section-details'><ul class='xr-var-list'><li class='xr-var-item'><div class='xr-index-name'><div>maintenancetime</div></div><div class='xr-index-preview'>PandasIndex</div><div></div><input id='index-8138da16-5e66-40df-9353-981faeb5f95e' class='xr-index-data-in' type='checkbox'/><label for='index-8138da16-5e66-40df-9353-981faeb5f95e' title='Show/Hide index repr'><svg class='icon xr-icon-database'><use xlink:href='#icon-database'></use></svg></label><div class='xr-index-data'><pre>PandasIndex(DatetimeIndex([&#x27;2023-05-08 16:09:06&#x27;], dtype=&#x27;datetime64[ns]&#x27;, name=&#x27;maintenancetime&#x27;, freq=None))</pre></div></li><li class='xr-var-item'><div class='xr-index-name'><div>station</div></div><div class='xr-index-preview'>PandasIndex</div><div></div><input id='index-7ef3b1d0-62ae-479a-aca7-488e94155f6b' class='xr-index-data-in' type='checkbox'/><label for='index-7ef3b1d0-62ae-479a-aca7-488e94155f6b' title='Show/Hide index repr'><svg class='icon xr-icon-database'><use xlink:href='#icon-database'></use></svg></label><div class='xr-index-data'><pre>PandasIndex(Float64Index([1.0], dtype=&#x27;float64&#x27;, name=&#x27;station&#x27;))</pre></div></li><li class='xr-var-item'><div class='xr-index-name'><div>time</div></div><div class='xr-index-preview'>PandasIndex</div><div></div><input id='index-1fb9c98d-2df8-4dd1-93fd-7535071ba93d' class='xr-index-data-in' type='checkbox'/><label for='index-1fb9c98d-2df8-4dd1-93fd-7535071ba93d' title='Show/Hide index repr'><svg class='icon xr-icon-database'><use xlink:href='#icon-database'></use></svg></label><div class='xr-index-data'><pre>PandasIndex(DatetimeIndex([&#x27;2022-08-30 11:21:01.443000&#x27;, &#x27;2022-08-30 11:21:01.545000&#x27;,\n               &#x27;2022-08-30 11:21:01.647000&#x27;, &#x27;2022-08-30 11:21:01.750000&#x27;,\n               &#x27;2022-08-30 11:21:01.852000&#x27;, &#x27;2022-08-30 11:21:01.955000&#x27;,\n               &#x27;2022-08-30 11:21:02.057000&#x27;, &#x27;2022-08-30 11:21:02.160000&#x27;,\n               &#x27;2022-08-30 11:21:02.262000&#x27;, &#x27;2022-08-30 11:21:02.364000&#x27;,\n               &#x27;2022-08-30 11:21:02.467000&#x27;, &#x27;2022-08-30 11:21:02.569000&#x27;,\n               &#x27;2022-08-30 11:21:02.672000&#x27;, &#x27;2022-08-30 11:21:02.774000&#x27;,\n               &#x27;2022-08-30 11:21:02.877000&#x27;, &#x27;2022-08-30 11:21:02.979000&#x27;,\n               &#x27;2022-08-30 11:21:03.081000&#x27;, &#x27;2022-08-30 11:21:03.184000&#x27;,\n               &#x27;2022-08-30 11:21:03.286000&#x27;, &#x27;2022-08-30 11:21:03.389000&#x27;,\n               &#x27;2022-08-30 11:21:03.491000&#x27;, &#x27;2022-08-30 11:21:03.594000&#x27;,\n               &#x27;2022-08-30 11:21:03.696000&#x27;, &#x27;2022-08-30 11:21:03.799000&#x27;,\n               &#x27;2022-08-30 11:21:03.901000&#x27;, &#x27;2022-08-30 11:21:04.003000&#x27;,\n               &#x27;2022-08-30 11:21:04.106000&#x27;, &#x27;2022-08-30 11:21:04.208000&#x27;,\n               &#x27;2022-08-30 11:21:04.311000&#x27;, &#x27;2022-08-30 11:21:04.413000&#x27;,\n               &#x27;2022-08-30 11:21:04.516000&#x27;, &#x27;2022-08-30 11:21:04.618000&#x27;,\n               &#x27;2022-08-30 11:21:04.720000&#x27;, &#x27;2022-08-30 11:21:04.823000&#x27;,\n               &#x27;2022-08-30 11:21:04.925000&#x27;, &#x27;2022-08-30 11:21:05.028000&#x27;,\n               &#x27;2022-08-30 11:21:05.130000&#x27;, &#x27;2022-08-30 11:21:05.233000&#x27;,\n               &#x27;2022-08-30 11:21:05.335000&#x27;, &#x27;2022-08-30 11:21:05.438000&#x27;,\n               &#x27;2022-08-30 11:21:05.540000&#x27;, &#x27;2022-08-30 11:21:05.642000&#x27;,\n               &#x27;2022-08-30 11:21:05.745000&#x27;, &#x27;2022-08-30 11:21:05.847000&#x27;,\n               &#x27;2022-08-30 11:21:05.950000&#x27;, &#x27;2022-08-30 11:21:06.052000&#x27;,\n               &#x27;2022-08-30 11:21:06.155000&#x27;, &#x27;2022-08-30 11:21:06.257000&#x27;,\n               &#x27;2022-08-30 11:21:06.359000&#x27;, &#x27;2022-08-30 11:21:06.462000&#x27;,\n               &#x27;2022-08-30 11:21:06.564000&#x27;, &#x27;2022-08-30 11:21:06.667000&#x27;,\n               &#x27;2022-08-30 11:21:06.769000&#x27;, &#x27;2022-08-30 11:21:06.872000&#x27;,\n               &#x27;2022-08-30 11:21:06.974000&#x27;, &#x27;2022-08-30 11:21:07.077000&#x27;,\n               &#x27;2022-08-30 11:21:07.179000&#x27;, &#x27;2022-08-30 11:21:07.281000&#x27;,\n               &#x27;2022-08-30 11:21:07.384000&#x27;, &#x27;2022-08-30 11:21:07.486000&#x27;,\n               &#x27;2022-08-30 11:21:07.589000&#x27;, &#x27;2022-08-30 11:21:07.691000&#x27;,\n               &#x27;2022-08-30 11:21:07.794000&#x27;, &#x27;2022-08-30 11:21:07.896000&#x27;,\n               &#x27;2022-08-30 11:21:07.998000&#x27;, &#x27;2022-08-30 11:21:08.101000&#x27;,\n               &#x27;2022-08-30 11:21:08.203000&#x27;, &#x27;2022-08-30 11:21:08.306000&#x27;,\n               &#x27;2022-08-30 11:21:08.408000&#x27;, &#x27;2022-08-30 11:21:08.511000&#x27;,\n               &#x27;2022-08-30 11:21:08.613000&#x27;, &#x27;2022-08-30 11:21:08.715000&#x27;,\n               &#x27;2022-08-30 11:21:08.818000&#x27;, &#x27;2022-08-30 11:21:08.920000&#x27;,\n               &#x27;2022-08-30 11:21:09.023000&#x27;, &#x27;2022-08-30 11:21:09.125000&#x27;,\n               &#x27;2022-08-30 11:21:09.228000&#x27;],\n              dtype=&#x27;datetime64[ns]&#x27;, name=&#x27;time&#x27;, freq=None))</pre></div></li></ul></div></li><li class='xr-section-item'><input id='section-b25edbe1-eeee-4322-a11b-792fd463a70a' class='xr-section-summary-in' type='checkbox'  ><label for='section-b25edbe1-eeee-4322-a11b-792fd463a70a' class='xr-section-summary' >Attributes: <span>(31)</span></label><div class='xr-section-inline-details'></div><div class='xr-section-details'><dl class='xr-attrs'><dt><span>Conventions :</span></dt><dd>CF-1.10, ACDD-1.3</dd><dt><span>title :</span></dt><dd>TROPOS pyranometer network (PyrNet) observational data set</dd><dt><span>history :</span></dt><dd>2024-02-27T06:51:35: Generated level l1a  by pyrnet version 0.2.0+2.g8cd06c5.dirty; </dd><dt><span>institution :</span></dt><dd>Leibniz Institute for Tropospheric Research (TROPOS)</dd><dt><span>source :</span></dt><dd>TROPOS pyranometer network (PyrNet)</dd><dt><span>references :</span></dt><dd>https://doi.org/10.5194/amt-9-1153-2016</dd><dt><span>Department :</span></dt><dd>Remote Sensing of Atmospheric Processes</dd><dt><span>Department_team :</span></dt><dd>Clouds, Aerosol and Radiation</dd><dt><span>Address :</span></dt><dd>Permoser Str. 15, 04318 Leipzig, Germany</dd><dt><span>Contact_person :</span></dt><dd>Andreas Macke and the clouds, aerosol and radiation team of the remote sensing department, mailto:andreas.macke@tropos.de</dd><dt><span>Contributor_name :</span></dt><dd></dd><dt><span>Contributor_role :</span></dt><dd></dd><dt><span>Authors_software :</span></dt><dd>Hartwig Deneke, Jonas Witthuhn, mailto:deneke@tropos.de</dd><dt><span>Creator_name :</span></dt><dd></dd><dt><span>Project :</span></dt><dd></dd><dt><span>Standard_name_vocabulary :</span></dt><dd>CF Standard Name Table v81</dd><dt><span>License :</span></dt><dd>CC-BY-SA 3.0</dd><dt><span>TESTNOTE :</span></dt><dd>This is a test note.</dd><dt><span>processing_level :</span></dt><dd>l1a</dd><dt><span>product_version :</span></dt><dd>0.2.0+2.g8cd06c5.dirty</dd><dt><span>date_created :</span></dt><dd>2024-02-27T06:51:35</dd><dt><span>geospatial_lat_min :</span></dt><dd>51.390208333333334</dd><dt><span>geospatial_lat_max :</span></dt><dd>51.390211666666666</dd><dt><span>geospatial_lat_units :</span></dt><dd>degN</dd><dt><span>geospatial_lon_min :</span></dt><dd>11.885246666666667</dd><dt><span>geospatial_lon_max :</span></dt><dd>11.885256666666667</dd><dt><span>geospatial_lon_units :</span></dt><dd>degE</dd><dt><span>time_coverage_start :</span></dt><dd>2022-08-30T11:21:04.065000</dd><dt><span>time_coverage_end :</span></dt><dd>2022-08-30T11:21:09</dd><dt><span>time_coverage_duration :</span></dt><dd>P0DT0H0M4.935S</dd><dt><span>time_coverage_resolution :</span></dt><dd>P0DT0H0M1.23375S</dd></dl></div></li></ul></div></div>"
     },
     "execution_count": 22,
     "metadata": {},
     "output_type": "execute_result"
    }
   ],
   "source": [
    "#|dropcode\n",
    "#|dropout\n",
    "# 1. Load l1a data\n",
    "ds_l1a = xr.open_dataset(fname)\n",
    "# check correct file\n",
    "if ds_l1a.processing_level != \"l1a\":\n",
    "    raise ValueError(f\"{fname} is not a l1a file.\")\n",
    "\n",
    "\n",
    "# 2. Sync GPS to ADC time\n",
    "adctime = pyrnet.logger.sync_adc_time(\n",
    "    adctime = ds_l1a.adctime.values,\n",
    "    gpstime = ds_l1a.gpstime.values,\n",
    "    iadc = ds_l1a.iadc.squeeze().values.astype(int),\n",
    "    check_results= False\n",
    ")\n",
    "\n",
    "# 3. Create new dataset (l1b) with synced time\n",
    "\n",
    "ds_l1b = ds_l1a.drop_dims('gpstime')\n",
    "ds_l1b = ds_l1b.drop_vars(['maintenance_flag_ghi','maintenance_flag_gti']) # keep only time dependend variables\n",
    "ds_l1b = ds_l1b.assign({'time': ('adctime', adctime)})\n",
    "ds_l1b = ds_l1b.swap_dims({\"adctime\":\"time\"})\n",
    "ds_l1b = ds_l1b.drop_vars(\"adctime\")\n",
    "ds_l1b"
   ]
  },
  {
   "cell_type": "code",
   "execution_count": 23,
   "metadata": {
    "collapsed": false,
    "ExecuteTime": {
     "end_time": "2024-02-27T06:51:36.748074600Z",
     "start_time": "2024-02-27T06:51:36.725619200Z"
    }
   },
   "outputs": [],
   "source": [
    "#|hide\n",
    "# dsp = ds_l1b.sel(time=\"2019-07-15\")\n",
    "# plt.figure()\n",
    "# plt.plot(dsp.time, dsp.ghi)\n",
    "# plt.grid()"
   ]
  },
  {
   "cell_type": "markdown",
   "metadata": {
    "collapsed": false
   },
   "source": [
    "### Drop first and last X minutes of data \n",
    "To avoid bad data due to maintenance during start or end of the maintenance interval, a certain amound of minutes is dropped (defined in config).\n",
    "\n",
    "```{note}\n",
    "config.json -> \"stripminutes\"\n",
    "```"
   ]
  },
  {
   "cell_type": "code",
   "execution_count": 24,
   "metadata": {
    "collapsed": false,
    "ExecuteTime": {
     "end_time": "2024-02-27T06:51:36.841065Z",
     "start_time": "2024-02-27T06:51:36.754354200Z"
    }
   },
   "outputs": [
    {
     "data": {
      "text/plain": "<xarray.Dataset>\nDimensions:          (time: 37, station: 1, maintenancetime: 1)\nCoordinates:\n  * maintenancetime  (maintenancetime) datetime64[ns] 2023-05-08T16:09:06\n  * station          (station) float32 1.0\n  * time             (time) datetime64[ns] 2022-08-30T11:21:03.491000 ... 202...\nData variables:\n    ghi              (time, station) float32 ...\n    gti              (time, station) float32 ...\n    ta               (time, station) float32 ...\n    rh               (time, station) float32 ...\n    battery_voltage  (time, station) float32 ...\nAttributes: (12/31)\n    Conventions:               CF-1.10, ACDD-1.3\n    title:                     TROPOS pyranometer network (PyrNet) observatio...\n    history:                   2024-02-27T06:51:35: Generated level l1a  by p...\n    institution:               Leibniz Institute for Tropospheric Research (T...\n    source:                    TROPOS pyranometer network (PyrNet)\n    references:                https://doi.org/10.5194/amt-9-1153-2016\n    ...                        ...\n    geospatial_lon_max:        11.885256666666667\n    geospatial_lon_units:      degE\n    time_coverage_start:       2022-08-30T11:21:04.065000\n    time_coverage_end:         2022-08-30T11:21:09\n    time_coverage_duration:    P0DT0H0M4.935S\n    time_coverage_resolution:  P0DT0H0M1.23375S",
      "text/html": "<div><svg style=\"position: absolute; width: 0; height: 0; overflow: hidden\">\n<defs>\n<symbol id=\"icon-database\" viewBox=\"0 0 32 32\">\n<path d=\"M16 0c-8.837 0-16 2.239-16 5v4c0 2.761 7.163 5 16 5s16-2.239 16-5v-4c0-2.761-7.163-5-16-5z\"></path>\n<path d=\"M16 17c-8.837 0-16-2.239-16-5v6c0 2.761 7.163 5 16 5s16-2.239 16-5v-6c0 2.761-7.163 5-16 5z\"></path>\n<path d=\"M16 26c-8.837 0-16-2.239-16-5v6c0 2.761 7.163 5 16 5s16-2.239 16-5v-6c0 2.761-7.163 5-16 5z\"></path>\n</symbol>\n<symbol id=\"icon-file-text2\" viewBox=\"0 0 32 32\">\n<path d=\"M28.681 7.159c-0.694-0.947-1.662-2.053-2.724-3.116s-2.169-2.030-3.116-2.724c-1.612-1.182-2.393-1.319-2.841-1.319h-15.5c-1.378 0-2.5 1.121-2.5 2.5v27c0 1.378 1.122 2.5 2.5 2.5h23c1.378 0 2.5-1.122 2.5-2.5v-19.5c0-0.448-0.137-1.23-1.319-2.841zM24.543 5.457c0.959 0.959 1.712 1.825 2.268 2.543h-4.811v-4.811c0.718 0.556 1.584 1.309 2.543 2.268zM28 29.5c0 0.271-0.229 0.5-0.5 0.5h-23c-0.271 0-0.5-0.229-0.5-0.5v-27c0-0.271 0.229-0.5 0.5-0.5 0 0 15.499-0 15.5 0v7c0 0.552 0.448 1 1 1h7v19.5z\"></path>\n<path d=\"M23 26h-14c-0.552 0-1-0.448-1-1s0.448-1 1-1h14c0.552 0 1 0.448 1 1s-0.448 1-1 1z\"></path>\n<path d=\"M23 22h-14c-0.552 0-1-0.448-1-1s0.448-1 1-1h14c0.552 0 1 0.448 1 1s-0.448 1-1 1z\"></path>\n<path d=\"M23 18h-14c-0.552 0-1-0.448-1-1s0.448-1 1-1h14c0.552 0 1 0.448 1 1s-0.448 1-1 1z\"></path>\n</symbol>\n</defs>\n</svg>\n<style>/* CSS stylesheet for displaying xarray objects in jupyterlab.\n *\n */\n\n:root {\n  --xr-font-color0: var(--jp-content-font-color0, rgba(0, 0, 0, 1));\n  --xr-font-color2: var(--jp-content-font-color2, rgba(0, 0, 0, 0.54));\n  --xr-font-color3: var(--jp-content-font-color3, rgba(0, 0, 0, 0.38));\n  --xr-border-color: var(--jp-border-color2, #e0e0e0);\n  --xr-disabled-color: var(--jp-layout-color3, #bdbdbd);\n  --xr-background-color: var(--jp-layout-color0, white);\n  --xr-background-color-row-even: var(--jp-layout-color1, white);\n  --xr-background-color-row-odd: var(--jp-layout-color2, #eeeeee);\n}\n\nhtml[theme=dark],\nbody[data-theme=dark],\nbody.vscode-dark {\n  --xr-font-color0: rgba(255, 255, 255, 1);\n  --xr-font-color2: rgba(255, 255, 255, 0.54);\n  --xr-font-color3: rgba(255, 255, 255, 0.38);\n  --xr-border-color: #1F1F1F;\n  --xr-disabled-color: #515151;\n  --xr-background-color: #111111;\n  --xr-background-color-row-even: #111111;\n  --xr-background-color-row-odd: #313131;\n}\n\n.xr-wrap {\n  display: block !important;\n  min-width: 300px;\n  max-width: 700px;\n}\n\n.xr-text-repr-fallback {\n  /* fallback to plain text repr when CSS is not injected (untrusted notebook) */\n  display: none;\n}\n\n.xr-header {\n  padding-top: 6px;\n  padding-bottom: 6px;\n  margin-bottom: 4px;\n  border-bottom: solid 1px var(--xr-border-color);\n}\n\n.xr-header > div,\n.xr-header > ul {\n  display: inline;\n  margin-top: 0;\n  margin-bottom: 0;\n}\n\n.xr-obj-type,\n.xr-array-name {\n  margin-left: 2px;\n  margin-right: 10px;\n}\n\n.xr-obj-type {\n  color: var(--xr-font-color2);\n}\n\n.xr-sections {\n  padding-left: 0 !important;\n  display: grid;\n  grid-template-columns: 150px auto auto 1fr 20px 20px;\n}\n\n.xr-section-item {\n  display: contents;\n}\n\n.xr-section-item input {\n  display: none;\n}\n\n.xr-section-item input + label {\n  color: var(--xr-disabled-color);\n}\n\n.xr-section-item input:enabled + label {\n  cursor: pointer;\n  color: var(--xr-font-color2);\n}\n\n.xr-section-item input:enabled + label:hover {\n  color: var(--xr-font-color0);\n}\n\n.xr-section-summary {\n  grid-column: 1;\n  color: var(--xr-font-color2);\n  font-weight: 500;\n}\n\n.xr-section-summary > span {\n  display: inline-block;\n  padding-left: 0.5em;\n}\n\n.xr-section-summary-in:disabled + label {\n  color: var(--xr-font-color2);\n}\n\n.xr-section-summary-in + label:before {\n  display: inline-block;\n  content: '►';\n  font-size: 11px;\n  width: 15px;\n  text-align: center;\n}\n\n.xr-section-summary-in:disabled + label:before {\n  color: var(--xr-disabled-color);\n}\n\n.xr-section-summary-in:checked + label:before {\n  content: '▼';\n}\n\n.xr-section-summary-in:checked + label > span {\n  display: none;\n}\n\n.xr-section-summary,\n.xr-section-inline-details {\n  padding-top: 4px;\n  padding-bottom: 4px;\n}\n\n.xr-section-inline-details {\n  grid-column: 2 / -1;\n}\n\n.xr-section-details {\n  display: none;\n  grid-column: 1 / -1;\n  margin-bottom: 5px;\n}\n\n.xr-section-summary-in:checked ~ .xr-section-details {\n  display: contents;\n}\n\n.xr-array-wrap {\n  grid-column: 1 / -1;\n  display: grid;\n  grid-template-columns: 20px auto;\n}\n\n.xr-array-wrap > label {\n  grid-column: 1;\n  vertical-align: top;\n}\n\n.xr-preview {\n  color: var(--xr-font-color3);\n}\n\n.xr-array-preview,\n.xr-array-data {\n  padding: 0 5px !important;\n  grid-column: 2;\n}\n\n.xr-array-data,\n.xr-array-in:checked ~ .xr-array-preview {\n  display: none;\n}\n\n.xr-array-in:checked ~ .xr-array-data,\n.xr-array-preview {\n  display: inline-block;\n}\n\n.xr-dim-list {\n  display: inline-block !important;\n  list-style: none;\n  padding: 0 !important;\n  margin: 0;\n}\n\n.xr-dim-list li {\n  display: inline-block;\n  padding: 0;\n  margin: 0;\n}\n\n.xr-dim-list:before {\n  content: '(';\n}\n\n.xr-dim-list:after {\n  content: ')';\n}\n\n.xr-dim-list li:not(:last-child):after {\n  content: ',';\n  padding-right: 5px;\n}\n\n.xr-has-index {\n  font-weight: bold;\n}\n\n.xr-var-list,\n.xr-var-item {\n  display: contents;\n}\n\n.xr-var-item > div,\n.xr-var-item label,\n.xr-var-item > .xr-var-name span {\n  background-color: var(--xr-background-color-row-even);\n  margin-bottom: 0;\n}\n\n.xr-var-item > .xr-var-name:hover span {\n  padding-right: 5px;\n}\n\n.xr-var-list > li:nth-child(odd) > div,\n.xr-var-list > li:nth-child(odd) > label,\n.xr-var-list > li:nth-child(odd) > .xr-var-name span {\n  background-color: var(--xr-background-color-row-odd);\n}\n\n.xr-var-name {\n  grid-column: 1;\n}\n\n.xr-var-dims {\n  grid-column: 2;\n}\n\n.xr-var-dtype {\n  grid-column: 3;\n  text-align: right;\n  color: var(--xr-font-color2);\n}\n\n.xr-var-preview {\n  grid-column: 4;\n}\n\n.xr-index-preview {\n  grid-column: 2 / 5;\n  color: var(--xr-font-color2);\n}\n\n.xr-var-name,\n.xr-var-dims,\n.xr-var-dtype,\n.xr-preview,\n.xr-attrs dt {\n  white-space: nowrap;\n  overflow: hidden;\n  text-overflow: ellipsis;\n  padding-right: 10px;\n}\n\n.xr-var-name:hover,\n.xr-var-dims:hover,\n.xr-var-dtype:hover,\n.xr-attrs dt:hover {\n  overflow: visible;\n  width: auto;\n  z-index: 1;\n}\n\n.xr-var-attrs,\n.xr-var-data,\n.xr-index-data {\n  display: none;\n  background-color: var(--xr-background-color) !important;\n  padding-bottom: 5px !important;\n}\n\n.xr-var-attrs-in:checked ~ .xr-var-attrs,\n.xr-var-data-in:checked ~ .xr-var-data,\n.xr-index-data-in:checked ~ .xr-index-data {\n  display: block;\n}\n\n.xr-var-data > table {\n  float: right;\n}\n\n.xr-var-name span,\n.xr-var-data,\n.xr-index-name div,\n.xr-index-data,\n.xr-attrs {\n  padding-left: 25px !important;\n}\n\n.xr-attrs,\n.xr-var-attrs,\n.xr-var-data,\n.xr-index-data {\n  grid-column: 1 / -1;\n}\n\ndl.xr-attrs {\n  padding: 0;\n  margin: 0;\n  display: grid;\n  grid-template-columns: 125px auto;\n}\n\n.xr-attrs dt,\n.xr-attrs dd {\n  padding: 0;\n  margin: 0;\n  float: left;\n  padding-right: 10px;\n  width: auto;\n}\n\n.xr-attrs dt {\n  font-weight: normal;\n  grid-column: 1;\n}\n\n.xr-attrs dt:hover span {\n  display: inline-block;\n  background: var(--xr-background-color);\n  padding-right: 10px;\n}\n\n.xr-attrs dd {\n  grid-column: 2;\n  white-space: pre-wrap;\n  word-break: break-all;\n}\n\n.xr-icon-database,\n.xr-icon-file-text2,\n.xr-no-icon {\n  display: inline-block;\n  vertical-align: middle;\n  width: 1em;\n  height: 1.5em !important;\n  stroke-width: 0;\n  stroke: currentColor;\n  fill: currentColor;\n}\n</style><pre class='xr-text-repr-fallback'>&lt;xarray.Dataset&gt;\nDimensions:          (time: 37, station: 1, maintenancetime: 1)\nCoordinates:\n  * maintenancetime  (maintenancetime) datetime64[ns] 2023-05-08T16:09:06\n  * station          (station) float32 1.0\n  * time             (time) datetime64[ns] 2022-08-30T11:21:03.491000 ... 202...\nData variables:\n    ghi              (time, station) float32 ...\n    gti              (time, station) float32 ...\n    ta               (time, station) float32 ...\n    rh               (time, station) float32 ...\n    battery_voltage  (time, station) float32 ...\nAttributes: (12/31)\n    Conventions:               CF-1.10, ACDD-1.3\n    title:                     TROPOS pyranometer network (PyrNet) observatio...\n    history:                   2024-02-27T06:51:35: Generated level l1a  by p...\n    institution:               Leibniz Institute for Tropospheric Research (T...\n    source:                    TROPOS pyranometer network (PyrNet)\n    references:                https://doi.org/10.5194/amt-9-1153-2016\n    ...                        ...\n    geospatial_lon_max:        11.885256666666667\n    geospatial_lon_units:      degE\n    time_coverage_start:       2022-08-30T11:21:04.065000\n    time_coverage_end:         2022-08-30T11:21:09\n    time_coverage_duration:    P0DT0H0M4.935S\n    time_coverage_resolution:  P0DT0H0M1.23375S</pre><div class='xr-wrap' style='display:none'><div class='xr-header'><div class='xr-obj-type'>xarray.Dataset</div></div><ul class='xr-sections'><li class='xr-section-item'><input id='section-3f4cafc5-3b76-46d6-a401-6d95f133c543' class='xr-section-summary-in' type='checkbox' disabled ><label for='section-3f4cafc5-3b76-46d6-a401-6d95f133c543' class='xr-section-summary'  title='Expand/collapse section'>Dimensions:</label><div class='xr-section-inline-details'><ul class='xr-dim-list'><li><span class='xr-has-index'>time</span>: 37</li><li><span class='xr-has-index'>station</span>: 1</li><li><span class='xr-has-index'>maintenancetime</span>: 1</li></ul></div><div class='xr-section-details'></div></li><li class='xr-section-item'><input id='section-90dde847-78db-430f-80cf-4a9eee0d92bb' class='xr-section-summary-in' type='checkbox'  checked><label for='section-90dde847-78db-430f-80cf-4a9eee0d92bb' class='xr-section-summary' >Coordinates: <span>(3)</span></label><div class='xr-section-inline-details'></div><div class='xr-section-details'><ul class='xr-var-list'><li class='xr-var-item'><div class='xr-var-name'><span class='xr-has-index'>maintenancetime</span></div><div class='xr-var-dims'>(maintenancetime)</div><div class='xr-var-dtype'>datetime64[ns]</div><div class='xr-var-preview xr-preview'>2023-05-08T16:09:06</div><input id='attrs-18be4a9f-7a94-4034-8084-5eeaf0e682f5' class='xr-var-attrs-in' type='checkbox' disabled><label for='attrs-18be4a9f-7a94-4034-8084-5eeaf0e682f5' title='Show/Hide attributes'><svg class='icon xr-icon-file-text2'><use xlink:href='#icon-file-text2'></use></svg></label><input id='data-d8b3a2d7-968b-4f72-8737-e238aa0dadaa' class='xr-var-data-in' type='checkbox'><label for='data-d8b3a2d7-968b-4f72-8737-e238aa0dadaa' title='Show/Hide data repr'><svg class='icon xr-icon-database'><use xlink:href='#icon-database'></use></svg></label><div class='xr-var-attrs'><dl class='xr-attrs'></dl></div><div class='xr-var-data'><pre>array([&#x27;2023-05-08T16:09:06.000000000&#x27;], dtype=&#x27;datetime64[ns]&#x27;)</pre></div></li><li class='xr-var-item'><div class='xr-var-name'><span class='xr-has-index'>station</span></div><div class='xr-var-dims'>(station)</div><div class='xr-var-dtype'>float32</div><div class='xr-var-preview xr-preview'>1.0</div><input id='attrs-9a482299-ed30-4a5c-a4fd-ad1938ffa048' class='xr-var-attrs-in' type='checkbox' ><label for='attrs-9a482299-ed30-4a5c-a4fd-ad1938ffa048' title='Show/Hide attributes'><svg class='icon xr-icon-file-text2'><use xlink:href='#icon-file-text2'></use></svg></label><input id='data-bf46e274-50aa-43a7-8e7c-fccb81a16b2d' class='xr-var-data-in' type='checkbox'><label for='data-bf46e274-50aa-43a7-8e7c-fccb81a16b2d' title='Show/Hide data repr'><svg class='icon xr-icon-database'><use xlink:href='#icon-database'></use></svg></label><div class='xr-var-attrs'><dl class='xr-attrs'><dt><span>units :</span></dt><dd>-</dd><dt><span>long_name :</span></dt><dd>PyrNet unit box number</dd></dl></div><div class='xr-var-data'><pre>array([1.], dtype=float32)</pre></div></li><li class='xr-var-item'><div class='xr-var-name'><span class='xr-has-index'>time</span></div><div class='xr-var-dims'>(time)</div><div class='xr-var-dtype'>datetime64[ns]</div><div class='xr-var-preview xr-preview'>2022-08-30T11:21:03.491000 ... 2...</div><input id='attrs-2c5f8130-8457-428b-a964-62019172f2c0' class='xr-var-attrs-in' type='checkbox' disabled><label for='attrs-2c5f8130-8457-428b-a964-62019172f2c0' title='Show/Hide attributes'><svg class='icon xr-icon-file-text2'><use xlink:href='#icon-file-text2'></use></svg></label><input id='data-f2c82007-cfd3-4dd4-a1a4-a13358e51e5d' class='xr-var-data-in' type='checkbox'><label for='data-f2c82007-cfd3-4dd4-a1a4-a13358e51e5d' title='Show/Hide data repr'><svg class='icon xr-icon-database'><use xlink:href='#icon-database'></use></svg></label><div class='xr-var-attrs'><dl class='xr-attrs'></dl></div><div class='xr-var-data'><pre>array([&#x27;2022-08-30T11:21:03.491000000&#x27;, &#x27;2022-08-30T11:21:03.594000000&#x27;,\n       &#x27;2022-08-30T11:21:03.696000000&#x27;, &#x27;2022-08-30T11:21:03.799000000&#x27;,\n       &#x27;2022-08-30T11:21:03.901000000&#x27;, &#x27;2022-08-30T11:21:04.003000000&#x27;,\n       &#x27;2022-08-30T11:21:04.106000000&#x27;, &#x27;2022-08-30T11:21:04.208000000&#x27;,\n       &#x27;2022-08-30T11:21:04.311000000&#x27;, &#x27;2022-08-30T11:21:04.413000000&#x27;,\n       &#x27;2022-08-30T11:21:04.516000000&#x27;, &#x27;2022-08-30T11:21:04.618000000&#x27;,\n       &#x27;2022-08-30T11:21:04.720000000&#x27;, &#x27;2022-08-30T11:21:04.823000000&#x27;,\n       &#x27;2022-08-30T11:21:04.925000000&#x27;, &#x27;2022-08-30T11:21:05.028000000&#x27;,\n       &#x27;2022-08-30T11:21:05.130000000&#x27;, &#x27;2022-08-30T11:21:05.233000000&#x27;,\n       &#x27;2022-08-30T11:21:05.335000000&#x27;, &#x27;2022-08-30T11:21:05.438000000&#x27;,\n       &#x27;2022-08-30T11:21:05.540000000&#x27;, &#x27;2022-08-30T11:21:05.642000000&#x27;,\n       &#x27;2022-08-30T11:21:05.745000000&#x27;, &#x27;2022-08-30T11:21:05.847000000&#x27;,\n       &#x27;2022-08-30T11:21:05.950000000&#x27;, &#x27;2022-08-30T11:21:06.052000000&#x27;,\n       &#x27;2022-08-30T11:21:06.155000000&#x27;, &#x27;2022-08-30T11:21:06.257000000&#x27;,\n       &#x27;2022-08-30T11:21:06.359000000&#x27;, &#x27;2022-08-30T11:21:06.462000000&#x27;,\n       &#x27;2022-08-30T11:21:06.564000000&#x27;, &#x27;2022-08-30T11:21:06.667000000&#x27;,\n       &#x27;2022-08-30T11:21:06.769000000&#x27;, &#x27;2022-08-30T11:21:06.872000000&#x27;,\n       &#x27;2022-08-30T11:21:06.974000000&#x27;, &#x27;2022-08-30T11:21:07.077000000&#x27;,\n       &#x27;2022-08-30T11:21:07.179000000&#x27;], dtype=&#x27;datetime64[ns]&#x27;)</pre></div></li></ul></div></li><li class='xr-section-item'><input id='section-9d70237a-9402-4808-ad93-565a19c2ef3e' class='xr-section-summary-in' type='checkbox'  checked><label for='section-9d70237a-9402-4808-ad93-565a19c2ef3e' class='xr-section-summary' >Data variables: <span>(5)</span></label><div class='xr-section-inline-details'></div><div class='xr-section-details'><ul class='xr-var-list'><li class='xr-var-item'><div class='xr-var-name'><span>ghi</span></div><div class='xr-var-dims'>(time, station)</div><div class='xr-var-dtype'>float32</div><div class='xr-var-preview xr-preview'>...</div><input id='attrs-f09e3c31-6dd4-4d4e-888d-3fd67bf58953' class='xr-var-attrs-in' type='checkbox' ><label for='attrs-f09e3c31-6dd4-4d4e-888d-3fd67bf58953' title='Show/Hide attributes'><svg class='icon xr-icon-file-text2'><use xlink:href='#icon-file-text2'></use></svg></label><input id='data-4691c6a9-9f4b-4adb-b1b8-38be0b2154d1' class='xr-var-data-in' type='checkbox'><label for='data-4691c6a9-9f4b-4adb-b1b8-38be0b2154d1' title='Show/Hide data repr'><svg class='icon xr-icon-database'><use xlink:href='#icon-database'></use></svg></label><div class='xr-var-attrs'><dl class='xr-attrs'><dt><span>units :</span></dt><dd>V</dd><dt><span>long_name :</span></dt><dd>downwelling shortwave flux</dd><dt><span>standard_name :</span></dt><dd>downwelling_shortwave_flux_in_air</dd><dt><span>valid_range :</span></dt><dd>[   0 1023]</dd></dl></div><div class='xr-var-data'><pre>[37 values with dtype=float32]</pre></div></li><li class='xr-var-item'><div class='xr-var-name'><span>gti</span></div><div class='xr-var-dims'>(time, station)</div><div class='xr-var-dtype'>float32</div><div class='xr-var-preview xr-preview'>...</div><input id='attrs-51a76ca7-7aa1-4017-a7ff-bc421733dfe4' class='xr-var-attrs-in' type='checkbox' ><label for='attrs-51a76ca7-7aa1-4017-a7ff-bc421733dfe4' title='Show/Hide attributes'><svg class='icon xr-icon-file-text2'><use xlink:href='#icon-file-text2'></use></svg></label><input id='data-975b3a4b-7759-42fa-ad48-e60b6766c92f' class='xr-var-data-in' type='checkbox'><label for='data-975b3a4b-7759-42fa-ad48-e60b6766c92f' title='Show/Hide data repr'><svg class='icon xr-icon-database'><use xlink:href='#icon-database'></use></svg></label><div class='xr-var-attrs'><dl class='xr-attrs'><dt><span>units :</span></dt><dd>V</dd><dt><span>long_name :</span></dt><dd>downwelling shortwave flux measured on secondary platform, might be tilted</dd><dt><span>standard_name :</span></dt><dd>downwelling_shortwave_flux_in_air</dd><dt><span>valid_range :</span></dt><dd>[   0 1023]</dd><dt><span>hangle :</span></dt><dd>0.0</dd><dt><span>vangle :</span></dt><dd>0.0</dd></dl></div><div class='xr-var-data'><pre>[37 values with dtype=float32]</pre></div></li><li class='xr-var-item'><div class='xr-var-name'><span>ta</span></div><div class='xr-var-dims'>(time, station)</div><div class='xr-var-dtype'>float32</div><div class='xr-var-preview xr-preview'>...</div><input id='attrs-71f6a532-7539-4264-9f8d-d2f9e745fc6e' class='xr-var-attrs-in' type='checkbox' ><label for='attrs-71f6a532-7539-4264-9f8d-d2f9e745fc6e' title='Show/Hide attributes'><svg class='icon xr-icon-file-text2'><use xlink:href='#icon-file-text2'></use></svg></label><input id='data-57534911-d7c4-4eab-bcc2-671b533d9bfb' class='xr-var-data-in' type='checkbox'><label for='data-57534911-d7c4-4eab-bcc2-671b533d9bfb' title='Show/Hide data repr'><svg class='icon xr-icon-database'><use xlink:href='#icon-database'></use></svg></label><div class='xr-var-attrs'><dl class='xr-attrs'><dt><span>units :</span></dt><dd>K</dd><dt><span>long_name :</span></dt><dd>air temperature</dd><dt><span>standard_name :</span></dt><dd>air_temperature</dd><dt><span>valid_range :</span></dt><dd>[  0 775]</dd></dl></div><div class='xr-var-data'><pre>[37 values with dtype=float32]</pre></div></li><li class='xr-var-item'><div class='xr-var-name'><span>rh</span></div><div class='xr-var-dims'>(time, station)</div><div class='xr-var-dtype'>float32</div><div class='xr-var-preview xr-preview'>...</div><input id='attrs-d30bf148-4bd5-42a1-b8c9-23f4664344d9' class='xr-var-attrs-in' type='checkbox' ><label for='attrs-d30bf148-4bd5-42a1-b8c9-23f4664344d9' title='Show/Hide attributes'><svg class='icon xr-icon-file-text2'><use xlink:href='#icon-file-text2'></use></svg></label><input id='data-522df5e8-4491-4690-a71e-98fa3675e9ba' class='xr-var-data-in' type='checkbox'><label for='data-522df5e8-4491-4690-a71e-98fa3675e9ba' title='Show/Hide data repr'><svg class='icon xr-icon-database'><use xlink:href='#icon-database'></use></svg></label><div class='xr-var-attrs'><dl class='xr-attrs'><dt><span>units :</span></dt><dd>1</dd><dt><span>long_name :</span></dt><dd>air relative humidity</dd><dt><span>standard_name :</span></dt><dd>relative_humidity</dd><dt><span>valid_range :</span></dt><dd>[  0 775]</dd></dl></div><div class='xr-var-data'><pre>[37 values with dtype=float32]</pre></div></li><li class='xr-var-item'><div class='xr-var-name'><span>battery_voltage</span></div><div class='xr-var-dims'>(time, station)</div><div class='xr-var-dtype'>float32</div><div class='xr-var-preview xr-preview'>...</div><input id='attrs-f182442e-7d42-4532-9130-3225451efe46' class='xr-var-attrs-in' type='checkbox' ><label for='attrs-f182442e-7d42-4532-9130-3225451efe46' title='Show/Hide attributes'><svg class='icon xr-icon-file-text2'><use xlink:href='#icon-file-text2'></use></svg></label><input id='data-cace6735-9ce9-410b-9c3a-30f14f8fbbeb' class='xr-var-data-in' type='checkbox'><label for='data-cace6735-9ce9-410b-9c3a-30f14f8fbbeb' title='Show/Hide data repr'><svg class='icon xr-icon-database'><use xlink:href='#icon-database'></use></svg></label><div class='xr-var-attrs'><dl class='xr-attrs'><dt><span>units :</span></dt><dd>V</dd><dt><span>standard_name :</span></dt><dd>battery_voltage</dd><dt><span>valid_range :</span></dt><dd>[  0 992]</dd></dl></div><div class='xr-var-data'><pre>[37 values with dtype=float32]</pre></div></li></ul></div></li><li class='xr-section-item'><input id='section-8be1825f-abb0-4466-ac5e-dde7bc8d0a93' class='xr-section-summary-in' type='checkbox'  ><label for='section-8be1825f-abb0-4466-ac5e-dde7bc8d0a93' class='xr-section-summary' >Indexes: <span>(3)</span></label><div class='xr-section-inline-details'></div><div class='xr-section-details'><ul class='xr-var-list'><li class='xr-var-item'><div class='xr-index-name'><div>maintenancetime</div></div><div class='xr-index-preview'>PandasIndex</div><div></div><input id='index-b8982d9a-4bd1-431f-ab52-b5383a9120df' class='xr-index-data-in' type='checkbox'/><label for='index-b8982d9a-4bd1-431f-ab52-b5383a9120df' title='Show/Hide index repr'><svg class='icon xr-icon-database'><use xlink:href='#icon-database'></use></svg></label><div class='xr-index-data'><pre>PandasIndex(DatetimeIndex([&#x27;2023-05-08 16:09:06&#x27;], dtype=&#x27;datetime64[ns]&#x27;, name=&#x27;maintenancetime&#x27;, freq=None))</pre></div></li><li class='xr-var-item'><div class='xr-index-name'><div>station</div></div><div class='xr-index-preview'>PandasIndex</div><div></div><input id='index-7872f5ee-1f0f-4e43-90ba-8fe2433c4c45' class='xr-index-data-in' type='checkbox'/><label for='index-7872f5ee-1f0f-4e43-90ba-8fe2433c4c45' title='Show/Hide index repr'><svg class='icon xr-icon-database'><use xlink:href='#icon-database'></use></svg></label><div class='xr-index-data'><pre>PandasIndex(Float64Index([1.0], dtype=&#x27;float64&#x27;, name=&#x27;station&#x27;))</pre></div></li><li class='xr-var-item'><div class='xr-index-name'><div>time</div></div><div class='xr-index-preview'>PandasIndex</div><div></div><input id='index-809f22d2-6091-41b5-b792-dcff89d464ee' class='xr-index-data-in' type='checkbox'/><label for='index-809f22d2-6091-41b5-b792-dcff89d464ee' title='Show/Hide index repr'><svg class='icon xr-icon-database'><use xlink:href='#icon-database'></use></svg></label><div class='xr-index-data'><pre>PandasIndex(DatetimeIndex([&#x27;2022-08-30 11:21:03.491000&#x27;, &#x27;2022-08-30 11:21:03.594000&#x27;,\n               &#x27;2022-08-30 11:21:03.696000&#x27;, &#x27;2022-08-30 11:21:03.799000&#x27;,\n               &#x27;2022-08-30 11:21:03.901000&#x27;, &#x27;2022-08-30 11:21:04.003000&#x27;,\n               &#x27;2022-08-30 11:21:04.106000&#x27;, &#x27;2022-08-30 11:21:04.208000&#x27;,\n               &#x27;2022-08-30 11:21:04.311000&#x27;, &#x27;2022-08-30 11:21:04.413000&#x27;,\n               &#x27;2022-08-30 11:21:04.516000&#x27;, &#x27;2022-08-30 11:21:04.618000&#x27;,\n               &#x27;2022-08-30 11:21:04.720000&#x27;, &#x27;2022-08-30 11:21:04.823000&#x27;,\n               &#x27;2022-08-30 11:21:04.925000&#x27;, &#x27;2022-08-30 11:21:05.028000&#x27;,\n               &#x27;2022-08-30 11:21:05.130000&#x27;, &#x27;2022-08-30 11:21:05.233000&#x27;,\n               &#x27;2022-08-30 11:21:05.335000&#x27;, &#x27;2022-08-30 11:21:05.438000&#x27;,\n               &#x27;2022-08-30 11:21:05.540000&#x27;, &#x27;2022-08-30 11:21:05.642000&#x27;,\n               &#x27;2022-08-30 11:21:05.745000&#x27;, &#x27;2022-08-30 11:21:05.847000&#x27;,\n               &#x27;2022-08-30 11:21:05.950000&#x27;, &#x27;2022-08-30 11:21:06.052000&#x27;,\n               &#x27;2022-08-30 11:21:06.155000&#x27;, &#x27;2022-08-30 11:21:06.257000&#x27;,\n               &#x27;2022-08-30 11:21:06.359000&#x27;, &#x27;2022-08-30 11:21:06.462000&#x27;,\n               &#x27;2022-08-30 11:21:06.564000&#x27;, &#x27;2022-08-30 11:21:06.667000&#x27;,\n               &#x27;2022-08-30 11:21:06.769000&#x27;, &#x27;2022-08-30 11:21:06.872000&#x27;,\n               &#x27;2022-08-30 11:21:06.974000&#x27;, &#x27;2022-08-30 11:21:07.077000&#x27;,\n               &#x27;2022-08-30 11:21:07.179000&#x27;],\n              dtype=&#x27;datetime64[ns]&#x27;, name=&#x27;time&#x27;, freq=None))</pre></div></li></ul></div></li><li class='xr-section-item'><input id='section-012dcc1a-13fd-493f-b325-f3bf548c1155' class='xr-section-summary-in' type='checkbox'  ><label for='section-012dcc1a-13fd-493f-b325-f3bf548c1155' class='xr-section-summary' >Attributes: <span>(31)</span></label><div class='xr-section-inline-details'></div><div class='xr-section-details'><dl class='xr-attrs'><dt><span>Conventions :</span></dt><dd>CF-1.10, ACDD-1.3</dd><dt><span>title :</span></dt><dd>TROPOS pyranometer network (PyrNet) observational data set</dd><dt><span>history :</span></dt><dd>2024-02-27T06:51:35: Generated level l1a  by pyrnet version 0.2.0+2.g8cd06c5.dirty; </dd><dt><span>institution :</span></dt><dd>Leibniz Institute for Tropospheric Research (TROPOS)</dd><dt><span>source :</span></dt><dd>TROPOS pyranometer network (PyrNet)</dd><dt><span>references :</span></dt><dd>https://doi.org/10.5194/amt-9-1153-2016</dd><dt><span>Department :</span></dt><dd>Remote Sensing of Atmospheric Processes</dd><dt><span>Department_team :</span></dt><dd>Clouds, Aerosol and Radiation</dd><dt><span>Address :</span></dt><dd>Permoser Str. 15, 04318 Leipzig, Germany</dd><dt><span>Contact_person :</span></dt><dd>Andreas Macke and the clouds, aerosol and radiation team of the remote sensing department, mailto:andreas.macke@tropos.de</dd><dt><span>Contributor_name :</span></dt><dd></dd><dt><span>Contributor_role :</span></dt><dd></dd><dt><span>Authors_software :</span></dt><dd>Hartwig Deneke, Jonas Witthuhn, mailto:deneke@tropos.de</dd><dt><span>Creator_name :</span></dt><dd></dd><dt><span>Project :</span></dt><dd></dd><dt><span>Standard_name_vocabulary :</span></dt><dd>CF Standard Name Table v81</dd><dt><span>License :</span></dt><dd>CC-BY-SA 3.0</dd><dt><span>TESTNOTE :</span></dt><dd>This is a test note.</dd><dt><span>processing_level :</span></dt><dd>l1a</dd><dt><span>product_version :</span></dt><dd>0.2.0+2.g8cd06c5.dirty</dd><dt><span>date_created :</span></dt><dd>2024-02-27T06:51:35</dd><dt><span>geospatial_lat_min :</span></dt><dd>51.390208333333334</dd><dt><span>geospatial_lat_max :</span></dt><dd>51.390211666666666</dd><dt><span>geospatial_lat_units :</span></dt><dd>degN</dd><dt><span>geospatial_lon_min :</span></dt><dd>11.885246666666667</dd><dt><span>geospatial_lon_max :</span></dt><dd>11.885256666666667</dd><dt><span>geospatial_lon_units :</span></dt><dd>degE</dd><dt><span>time_coverage_start :</span></dt><dd>2022-08-30T11:21:04.065000</dd><dt><span>time_coverage_end :</span></dt><dd>2022-08-30T11:21:09</dd><dt><span>time_coverage_duration :</span></dt><dd>P0DT0H0M4.935S</dd><dt><span>time_coverage_resolution :</span></dt><dd>P0DT0H0M1.23375S</dd></dl></div></li></ul></div></div>"
     },
     "execution_count": 24,
     "metadata": {},
     "output_type": "execute_result"
    }
   ],
   "source": [
    "#|dropcode\n",
    "#|dropout\n",
    "# 4. Drop first and last <stripminutes> minutes of data to avoid bad data due to maintenance\n",
    "\n",
    "# stripminutes = np.timedelta64(int(config['stripminutes']), 'm')\n",
    "# for now use some seconds for demonstration\n",
    "stripminutes = np.timedelta64(2, 's')\n",
    "tslice = slice(ds_l1b.time.values[0] + stripminutes,\n",
    "               ds_l1b.time.values[-1] - stripminutes)\n",
    "ds_l1b = ds_l1b.sel(time=tslice)\n",
    "ds_l1b"
   ]
  },
  {
   "cell_type": "markdown",
   "source": [
    "###  Resample\n",
    "Resample the data to desired time interval\n",
    "    * ```pyrnet.data.resample```\n"
   ],
   "metadata": {
    "collapsed": false
   }
  },
  {
   "cell_type": "code",
   "execution_count": 25,
   "outputs": [
    {
     "data": {
      "text/plain": "<xarray.Dataset>\nDimensions:          (station: 1, time: 5)\nCoordinates:\n  * station          (station) float64 1.0\n  * time             (time) datetime64[ns] 2022-08-30T11:21:03 ... 2022-08-30...\nData variables:\n    ghi              (time, station) float32 0.002086 0.002085 ... 0.002086\n    gti              (time, station) float32 0.001935 0.001935 ... 0.001935\n    ta               (time, station) float32 294.8 294.7 294.8 294.7 294.8\n    rh               (time, station) float32 0.6263 0.6266 0.6271 0.6271 0.629\n    battery_voltage  (time, station) float32 6.445 6.446 6.45 6.448 6.458\n    ghi_min          (time, station) float32 0.002086 0.002075 ... 0.002086\n    gti_min          (time, station) float32 0.001935 0.001925 ... 0.001935\n    ghi_max          (time, station) float32 0.002086 0.002086 ... 0.002086\n    gti_max          (time, station) float32 0.001935 0.001946 ... 0.001935\n    ghi_std          (time, station) float64 0.0 3.4e-06 0.0 0.0 0.0\n    gti_std          (time, station) float64 0.0 5.069e-06 6.104e-06 0.0 0.0\nAttributes: (12/31)\n    Conventions:               CF-1.10, ACDD-1.3\n    title:                     TROPOS pyranometer network (PyrNet) observatio...\n    history:                   2024-02-27T06:51:35: Generated level l1a  by p...\n    institution:               Leibniz Institute for Tropospheric Research (T...\n    source:                    TROPOS pyranometer network (PyrNet)\n    references:                https://doi.org/10.5194/amt-9-1153-2016\n    ...                        ...\n    geospatial_lon_max:        11.885256666666667\n    geospatial_lon_units:      degE\n    time_coverage_start:       2022-08-30T11:21:04.065000\n    time_coverage_end:         2022-08-30T11:21:09\n    time_coverage_duration:    P0DT0H0M4.935S\n    time_coverage_resolution:  P0DT0H0M1.23375S",
      "text/html": "<div><svg style=\"position: absolute; width: 0; height: 0; overflow: hidden\">\n<defs>\n<symbol id=\"icon-database\" viewBox=\"0 0 32 32\">\n<path d=\"M16 0c-8.837 0-16 2.239-16 5v4c0 2.761 7.163 5 16 5s16-2.239 16-5v-4c0-2.761-7.163-5-16-5z\"></path>\n<path d=\"M16 17c-8.837 0-16-2.239-16-5v6c0 2.761 7.163 5 16 5s16-2.239 16-5v-6c0 2.761-7.163 5-16 5z\"></path>\n<path d=\"M16 26c-8.837 0-16-2.239-16-5v6c0 2.761 7.163 5 16 5s16-2.239 16-5v-6c0 2.761-7.163 5-16 5z\"></path>\n</symbol>\n<symbol id=\"icon-file-text2\" viewBox=\"0 0 32 32\">\n<path d=\"M28.681 7.159c-0.694-0.947-1.662-2.053-2.724-3.116s-2.169-2.030-3.116-2.724c-1.612-1.182-2.393-1.319-2.841-1.319h-15.5c-1.378 0-2.5 1.121-2.5 2.5v27c0 1.378 1.122 2.5 2.5 2.5h23c1.378 0 2.5-1.122 2.5-2.5v-19.5c0-0.448-0.137-1.23-1.319-2.841zM24.543 5.457c0.959 0.959 1.712 1.825 2.268 2.543h-4.811v-4.811c0.718 0.556 1.584 1.309 2.543 2.268zM28 29.5c0 0.271-0.229 0.5-0.5 0.5h-23c-0.271 0-0.5-0.229-0.5-0.5v-27c0-0.271 0.229-0.5 0.5-0.5 0 0 15.499-0 15.5 0v7c0 0.552 0.448 1 1 1h7v19.5z\"></path>\n<path d=\"M23 26h-14c-0.552 0-1-0.448-1-1s0.448-1 1-1h14c0.552 0 1 0.448 1 1s-0.448 1-1 1z\"></path>\n<path d=\"M23 22h-14c-0.552 0-1-0.448-1-1s0.448-1 1-1h14c0.552 0 1 0.448 1 1s-0.448 1-1 1z\"></path>\n<path d=\"M23 18h-14c-0.552 0-1-0.448-1-1s0.448-1 1-1h14c0.552 0 1 0.448 1 1s-0.448 1-1 1z\"></path>\n</symbol>\n</defs>\n</svg>\n<style>/* CSS stylesheet for displaying xarray objects in jupyterlab.\n *\n */\n\n:root {\n  --xr-font-color0: var(--jp-content-font-color0, rgba(0, 0, 0, 1));\n  --xr-font-color2: var(--jp-content-font-color2, rgba(0, 0, 0, 0.54));\n  --xr-font-color3: var(--jp-content-font-color3, rgba(0, 0, 0, 0.38));\n  --xr-border-color: var(--jp-border-color2, #e0e0e0);\n  --xr-disabled-color: var(--jp-layout-color3, #bdbdbd);\n  --xr-background-color: var(--jp-layout-color0, white);\n  --xr-background-color-row-even: var(--jp-layout-color1, white);\n  --xr-background-color-row-odd: var(--jp-layout-color2, #eeeeee);\n}\n\nhtml[theme=dark],\nbody[data-theme=dark],\nbody.vscode-dark {\n  --xr-font-color0: rgba(255, 255, 255, 1);\n  --xr-font-color2: rgba(255, 255, 255, 0.54);\n  --xr-font-color3: rgba(255, 255, 255, 0.38);\n  --xr-border-color: #1F1F1F;\n  --xr-disabled-color: #515151;\n  --xr-background-color: #111111;\n  --xr-background-color-row-even: #111111;\n  --xr-background-color-row-odd: #313131;\n}\n\n.xr-wrap {\n  display: block !important;\n  min-width: 300px;\n  max-width: 700px;\n}\n\n.xr-text-repr-fallback {\n  /* fallback to plain text repr when CSS is not injected (untrusted notebook) */\n  display: none;\n}\n\n.xr-header {\n  padding-top: 6px;\n  padding-bottom: 6px;\n  margin-bottom: 4px;\n  border-bottom: solid 1px var(--xr-border-color);\n}\n\n.xr-header > div,\n.xr-header > ul {\n  display: inline;\n  margin-top: 0;\n  margin-bottom: 0;\n}\n\n.xr-obj-type,\n.xr-array-name {\n  margin-left: 2px;\n  margin-right: 10px;\n}\n\n.xr-obj-type {\n  color: var(--xr-font-color2);\n}\n\n.xr-sections {\n  padding-left: 0 !important;\n  display: grid;\n  grid-template-columns: 150px auto auto 1fr 20px 20px;\n}\n\n.xr-section-item {\n  display: contents;\n}\n\n.xr-section-item input {\n  display: none;\n}\n\n.xr-section-item input + label {\n  color: var(--xr-disabled-color);\n}\n\n.xr-section-item input:enabled + label {\n  cursor: pointer;\n  color: var(--xr-font-color2);\n}\n\n.xr-section-item input:enabled + label:hover {\n  color: var(--xr-font-color0);\n}\n\n.xr-section-summary {\n  grid-column: 1;\n  color: var(--xr-font-color2);\n  font-weight: 500;\n}\n\n.xr-section-summary > span {\n  display: inline-block;\n  padding-left: 0.5em;\n}\n\n.xr-section-summary-in:disabled + label {\n  color: var(--xr-font-color2);\n}\n\n.xr-section-summary-in + label:before {\n  display: inline-block;\n  content: '►';\n  font-size: 11px;\n  width: 15px;\n  text-align: center;\n}\n\n.xr-section-summary-in:disabled + label:before {\n  color: var(--xr-disabled-color);\n}\n\n.xr-section-summary-in:checked + label:before {\n  content: '▼';\n}\n\n.xr-section-summary-in:checked + label > span {\n  display: none;\n}\n\n.xr-section-summary,\n.xr-section-inline-details {\n  padding-top: 4px;\n  padding-bottom: 4px;\n}\n\n.xr-section-inline-details {\n  grid-column: 2 / -1;\n}\n\n.xr-section-details {\n  display: none;\n  grid-column: 1 / -1;\n  margin-bottom: 5px;\n}\n\n.xr-section-summary-in:checked ~ .xr-section-details {\n  display: contents;\n}\n\n.xr-array-wrap {\n  grid-column: 1 / -1;\n  display: grid;\n  grid-template-columns: 20px auto;\n}\n\n.xr-array-wrap > label {\n  grid-column: 1;\n  vertical-align: top;\n}\n\n.xr-preview {\n  color: var(--xr-font-color3);\n}\n\n.xr-array-preview,\n.xr-array-data {\n  padding: 0 5px !important;\n  grid-column: 2;\n}\n\n.xr-array-data,\n.xr-array-in:checked ~ .xr-array-preview {\n  display: none;\n}\n\n.xr-array-in:checked ~ .xr-array-data,\n.xr-array-preview {\n  display: inline-block;\n}\n\n.xr-dim-list {\n  display: inline-block !important;\n  list-style: none;\n  padding: 0 !important;\n  margin: 0;\n}\n\n.xr-dim-list li {\n  display: inline-block;\n  padding: 0;\n  margin: 0;\n}\n\n.xr-dim-list:before {\n  content: '(';\n}\n\n.xr-dim-list:after {\n  content: ')';\n}\n\n.xr-dim-list li:not(:last-child):after {\n  content: ',';\n  padding-right: 5px;\n}\n\n.xr-has-index {\n  font-weight: bold;\n}\n\n.xr-var-list,\n.xr-var-item {\n  display: contents;\n}\n\n.xr-var-item > div,\n.xr-var-item label,\n.xr-var-item > .xr-var-name span {\n  background-color: var(--xr-background-color-row-even);\n  margin-bottom: 0;\n}\n\n.xr-var-item > .xr-var-name:hover span {\n  padding-right: 5px;\n}\n\n.xr-var-list > li:nth-child(odd) > div,\n.xr-var-list > li:nth-child(odd) > label,\n.xr-var-list > li:nth-child(odd) > .xr-var-name span {\n  background-color: var(--xr-background-color-row-odd);\n}\n\n.xr-var-name {\n  grid-column: 1;\n}\n\n.xr-var-dims {\n  grid-column: 2;\n}\n\n.xr-var-dtype {\n  grid-column: 3;\n  text-align: right;\n  color: var(--xr-font-color2);\n}\n\n.xr-var-preview {\n  grid-column: 4;\n}\n\n.xr-index-preview {\n  grid-column: 2 / 5;\n  color: var(--xr-font-color2);\n}\n\n.xr-var-name,\n.xr-var-dims,\n.xr-var-dtype,\n.xr-preview,\n.xr-attrs dt {\n  white-space: nowrap;\n  overflow: hidden;\n  text-overflow: ellipsis;\n  padding-right: 10px;\n}\n\n.xr-var-name:hover,\n.xr-var-dims:hover,\n.xr-var-dtype:hover,\n.xr-attrs dt:hover {\n  overflow: visible;\n  width: auto;\n  z-index: 1;\n}\n\n.xr-var-attrs,\n.xr-var-data,\n.xr-index-data {\n  display: none;\n  background-color: var(--xr-background-color) !important;\n  padding-bottom: 5px !important;\n}\n\n.xr-var-attrs-in:checked ~ .xr-var-attrs,\n.xr-var-data-in:checked ~ .xr-var-data,\n.xr-index-data-in:checked ~ .xr-index-data {\n  display: block;\n}\n\n.xr-var-data > table {\n  float: right;\n}\n\n.xr-var-name span,\n.xr-var-data,\n.xr-index-name div,\n.xr-index-data,\n.xr-attrs {\n  padding-left: 25px !important;\n}\n\n.xr-attrs,\n.xr-var-attrs,\n.xr-var-data,\n.xr-index-data {\n  grid-column: 1 / -1;\n}\n\ndl.xr-attrs {\n  padding: 0;\n  margin: 0;\n  display: grid;\n  grid-template-columns: 125px auto;\n}\n\n.xr-attrs dt,\n.xr-attrs dd {\n  padding: 0;\n  margin: 0;\n  float: left;\n  padding-right: 10px;\n  width: auto;\n}\n\n.xr-attrs dt {\n  font-weight: normal;\n  grid-column: 1;\n}\n\n.xr-attrs dt:hover span {\n  display: inline-block;\n  background: var(--xr-background-color);\n  padding-right: 10px;\n}\n\n.xr-attrs dd {\n  grid-column: 2;\n  white-space: pre-wrap;\n  word-break: break-all;\n}\n\n.xr-icon-database,\n.xr-icon-file-text2,\n.xr-no-icon {\n  display: inline-block;\n  vertical-align: middle;\n  width: 1em;\n  height: 1.5em !important;\n  stroke-width: 0;\n  stroke: currentColor;\n  fill: currentColor;\n}\n</style><pre class='xr-text-repr-fallback'>&lt;xarray.Dataset&gt;\nDimensions:          (station: 1, time: 5)\nCoordinates:\n  * station          (station) float64 1.0\n  * time             (time) datetime64[ns] 2022-08-30T11:21:03 ... 2022-08-30...\nData variables:\n    ghi              (time, station) float32 0.002086 0.002085 ... 0.002086\n    gti              (time, station) float32 0.001935 0.001935 ... 0.001935\n    ta               (time, station) float32 294.8 294.7 294.8 294.7 294.8\n    rh               (time, station) float32 0.6263 0.6266 0.6271 0.6271 0.629\n    battery_voltage  (time, station) float32 6.445 6.446 6.45 6.448 6.458\n    ghi_min          (time, station) float32 0.002086 0.002075 ... 0.002086\n    gti_min          (time, station) float32 0.001935 0.001925 ... 0.001935\n    ghi_max          (time, station) float32 0.002086 0.002086 ... 0.002086\n    gti_max          (time, station) float32 0.001935 0.001946 ... 0.001935\n    ghi_std          (time, station) float64 0.0 3.4e-06 0.0 0.0 0.0\n    gti_std          (time, station) float64 0.0 5.069e-06 6.104e-06 0.0 0.0\nAttributes: (12/31)\n    Conventions:               CF-1.10, ACDD-1.3\n    title:                     TROPOS pyranometer network (PyrNet) observatio...\n    history:                   2024-02-27T06:51:35: Generated level l1a  by p...\n    institution:               Leibniz Institute for Tropospheric Research (T...\n    source:                    TROPOS pyranometer network (PyrNet)\n    references:                https://doi.org/10.5194/amt-9-1153-2016\n    ...                        ...\n    geospatial_lon_max:        11.885256666666667\n    geospatial_lon_units:      degE\n    time_coverage_start:       2022-08-30T11:21:04.065000\n    time_coverage_end:         2022-08-30T11:21:09\n    time_coverage_duration:    P0DT0H0M4.935S\n    time_coverage_resolution:  P0DT0H0M1.23375S</pre><div class='xr-wrap' style='display:none'><div class='xr-header'><div class='xr-obj-type'>xarray.Dataset</div></div><ul class='xr-sections'><li class='xr-section-item'><input id='section-26459241-a451-4aec-8335-f89ecbc40b81' class='xr-section-summary-in' type='checkbox' disabled ><label for='section-26459241-a451-4aec-8335-f89ecbc40b81' class='xr-section-summary'  title='Expand/collapse section'>Dimensions:</label><div class='xr-section-inline-details'><ul class='xr-dim-list'><li><span class='xr-has-index'>station</span>: 1</li><li><span class='xr-has-index'>time</span>: 5</li></ul></div><div class='xr-section-details'></div></li><li class='xr-section-item'><input id='section-1b4dd72c-3ff6-47a1-877b-8df9d9d09695' class='xr-section-summary-in' type='checkbox'  checked><label for='section-1b4dd72c-3ff6-47a1-877b-8df9d9d09695' class='xr-section-summary' >Coordinates: <span>(2)</span></label><div class='xr-section-inline-details'></div><div class='xr-section-details'><ul class='xr-var-list'><li class='xr-var-item'><div class='xr-var-name'><span class='xr-has-index'>station</span></div><div class='xr-var-dims'>(station)</div><div class='xr-var-dtype'>float64</div><div class='xr-var-preview xr-preview'>1.0</div><input id='attrs-9bba63a5-e7cc-4636-8001-4eddadf96a1f' class='xr-var-attrs-in' type='checkbox' ><label for='attrs-9bba63a5-e7cc-4636-8001-4eddadf96a1f' title='Show/Hide attributes'><svg class='icon xr-icon-file-text2'><use xlink:href='#icon-file-text2'></use></svg></label><input id='data-59ef139a-e74a-4614-938d-7b0a891e7796' class='xr-var-data-in' type='checkbox'><label for='data-59ef139a-e74a-4614-938d-7b0a891e7796' title='Show/Hide data repr'><svg class='icon xr-icon-database'><use xlink:href='#icon-database'></use></svg></label><div class='xr-var-attrs'><dl class='xr-attrs'><dt><span>units :</span></dt><dd>-</dd><dt><span>long_name :</span></dt><dd>PyrNet unit box number</dd></dl></div><div class='xr-var-data'><pre>array([1.])</pre></div></li><li class='xr-var-item'><div class='xr-var-name'><span class='xr-has-index'>time</span></div><div class='xr-var-dims'>(time)</div><div class='xr-var-dtype'>datetime64[ns]</div><div class='xr-var-preview xr-preview'>2022-08-30T11:21:03 ... 2022-08-...</div><input id='attrs-23485882-1d9b-4ec7-9b02-d826db10d09d' class='xr-var-attrs-in' type='checkbox' disabled><label for='attrs-23485882-1d9b-4ec7-9b02-d826db10d09d' title='Show/Hide attributes'><svg class='icon xr-icon-file-text2'><use xlink:href='#icon-file-text2'></use></svg></label><input id='data-6412e0b6-6e59-4b50-96e8-8552bb1e1e50' class='xr-var-data-in' type='checkbox'><label for='data-6412e0b6-6e59-4b50-96e8-8552bb1e1e50' title='Show/Hide data repr'><svg class='icon xr-icon-database'><use xlink:href='#icon-database'></use></svg></label><div class='xr-var-attrs'><dl class='xr-attrs'></dl></div><div class='xr-var-data'><pre>array([&#x27;2022-08-30T11:21:03.000000000&#x27;, &#x27;2022-08-30T11:21:04.000000000&#x27;,\n       &#x27;2022-08-30T11:21:05.000000000&#x27;, &#x27;2022-08-30T11:21:06.000000000&#x27;,\n       &#x27;2022-08-30T11:21:07.000000000&#x27;], dtype=&#x27;datetime64[ns]&#x27;)</pre></div></li></ul></div></li><li class='xr-section-item'><input id='section-a00b4722-9954-4713-9546-a74640414e99' class='xr-section-summary-in' type='checkbox'  checked><label for='section-a00b4722-9954-4713-9546-a74640414e99' class='xr-section-summary' >Data variables: <span>(11)</span></label><div class='xr-section-inline-details'></div><div class='xr-section-details'><ul class='xr-var-list'><li class='xr-var-item'><div class='xr-var-name'><span>ghi</span></div><div class='xr-var-dims'>(time, station)</div><div class='xr-var-dtype'>float32</div><div class='xr-var-preview xr-preview'>0.002086 0.002085 ... 0.002086</div><input id='attrs-d7e5cf58-5370-484e-b077-899ef690a17d' class='xr-var-attrs-in' type='checkbox' ><label for='attrs-d7e5cf58-5370-484e-b077-899ef690a17d' title='Show/Hide attributes'><svg class='icon xr-icon-file-text2'><use xlink:href='#icon-file-text2'></use></svg></label><input id='data-bc2986cf-f050-46f3-8251-75d8ed0d2570' class='xr-var-data-in' type='checkbox'><label for='data-bc2986cf-f050-46f3-8251-75d8ed0d2570' title='Show/Hide data repr'><svg class='icon xr-icon-database'><use xlink:href='#icon-database'></use></svg></label><div class='xr-var-attrs'><dl class='xr-attrs'><dt><span>units :</span></dt><dd>V</dd><dt><span>long_name :</span></dt><dd>downwelling shortwave flux</dd><dt><span>standard_name :</span></dt><dd>downwelling_shortwave_flux_in_air</dd><dt><span>valid_range :</span></dt><dd>[   0 1023]</dd></dl></div><div class='xr-var-data'><pre>array([[0.00208602],\n       [0.00208495],\n       [0.00208602],\n       [0.00208602],\n       [0.00208602]], dtype=float32)</pre></div></li><li class='xr-var-item'><div class='xr-var-name'><span>gti</span></div><div class='xr-var-dims'>(time, station)</div><div class='xr-var-dtype'>float32</div><div class='xr-var-preview xr-preview'>0.001935 0.001935 ... 0.001935</div><input id='attrs-a6441179-5a60-4468-b864-f632e1951f65' class='xr-var-attrs-in' type='checkbox' ><label for='attrs-a6441179-5a60-4468-b864-f632e1951f65' title='Show/Hide attributes'><svg class='icon xr-icon-file-text2'><use xlink:href='#icon-file-text2'></use></svg></label><input id='data-686abeac-a8c3-4cb6-9205-d9a0b722975b' class='xr-var-data-in' type='checkbox'><label for='data-686abeac-a8c3-4cb6-9205-d9a0b722975b' title='Show/Hide data repr'><svg class='icon xr-icon-database'><use xlink:href='#icon-database'></use></svg></label><div class='xr-var-attrs'><dl class='xr-attrs'><dt><span>units :</span></dt><dd>V</dd><dt><span>long_name :</span></dt><dd>downwelling shortwave flux measured on secondary platform, might be tilted</dd><dt><span>standard_name :</span></dt><dd>downwelling_shortwave_flux_in_air</dd><dt><span>valid_range :</span></dt><dd>[   0 1023]</dd><dt><span>hangle :</span></dt><dd>0.0</dd><dt><span>vangle :</span></dt><dd>0.0</dd></dl></div><div class='xr-var-data'><pre>array([[0.00193548],\n       [0.00193548],\n       [0.00193656],\n       [0.00193548],\n       [0.00193548]], dtype=float32)</pre></div></li><li class='xr-var-item'><div class='xr-var-name'><span>ta</span></div><div class='xr-var-dims'>(time, station)</div><div class='xr-var-dtype'>float32</div><div class='xr-var-preview xr-preview'>294.8 294.7 294.8 294.7 294.8</div><input id='attrs-92ff50c5-59d1-4fbe-9c6c-52074f87cb32' class='xr-var-attrs-in' type='checkbox' ><label for='attrs-92ff50c5-59d1-4fbe-9c6c-52074f87cb32' title='Show/Hide attributes'><svg class='icon xr-icon-file-text2'><use xlink:href='#icon-file-text2'></use></svg></label><input id='data-d3bac76c-bf46-4f48-bef7-e5436d67ca3e' class='xr-var-data-in' type='checkbox'><label for='data-d3bac76c-bf46-4f48-bef7-e5436d67ca3e' title='Show/Hide data repr'><svg class='icon xr-icon-database'><use xlink:href='#icon-database'></use></svg></label><div class='xr-var-attrs'><dl class='xr-attrs'><dt><span>units :</span></dt><dd>K</dd><dt><span>long_name :</span></dt><dd>air temperature</dd><dt><span>standard_name :</span></dt><dd>air_temperature</dd><dt><span>valid_range :</span></dt><dd>[  0 775]</dd></dl></div><div class='xr-var-data'><pre>array([[294.7758 ],\n       [294.74997],\n       [294.7887 ],\n       [294.74997],\n       [294.82742]], dtype=float32)</pre></div></li><li class='xr-var-item'><div class='xr-var-name'><span>rh</span></div><div class='xr-var-dims'>(time, station)</div><div class='xr-var-dtype'>float32</div><div class='xr-var-preview xr-preview'>0.6263 0.6266 0.6271 0.6271 0.629</div><input id='attrs-9dfb38c2-8df1-481d-a42f-9fed56ac9a42' class='xr-var-attrs-in' type='checkbox' ><label for='attrs-9dfb38c2-8df1-481d-a42f-9fed56ac9a42' title='Show/Hide attributes'><svg class='icon xr-icon-file-text2'><use xlink:href='#icon-file-text2'></use></svg></label><input id='data-1dfbd280-d223-4a16-81b0-8b283c9fad41' class='xr-var-data-in' type='checkbox'><label for='data-1dfbd280-d223-4a16-81b0-8b283c9fad41' title='Show/Hide data repr'><svg class='icon xr-icon-database'><use xlink:href='#icon-database'></use></svg></label><div class='xr-var-attrs'><dl class='xr-attrs'><dt><span>units :</span></dt><dd>1</dd><dt><span>long_name :</span></dt><dd>air relative humidity</dd><dt><span>standard_name :</span></dt><dd>relative_humidity</dd><dt><span>valid_range :</span></dt><dd>[  0 775]</dd></dl></div><div class='xr-var-data'><pre>array([[0.62632257],\n       [0.6265806 ],\n       [0.6270968 ],\n       [0.6270968 ],\n       [0.62903225]], dtype=float32)</pre></div></li><li class='xr-var-item'><div class='xr-var-name'><span>battery_voltage</span></div><div class='xr-var-dims'>(time, station)</div><div class='xr-var-dtype'>float32</div><div class='xr-var-preview xr-preview'>6.445 6.446 6.45 6.448 6.458</div><input id='attrs-ebcc34e6-f08b-416e-b846-8f0dddbe4900' class='xr-var-attrs-in' type='checkbox' ><label for='attrs-ebcc34e6-f08b-416e-b846-8f0dddbe4900' title='Show/Hide attributes'><svg class='icon xr-icon-file-text2'><use xlink:href='#icon-file-text2'></use></svg></label><input id='data-911e7524-741c-49a1-8726-b294003963e7' class='xr-var-data-in' type='checkbox'><label for='data-911e7524-741c-49a1-8726-b294003963e7' title='Show/Hide data repr'><svg class='icon xr-icon-database'><use xlink:href='#icon-database'></use></svg></label><div class='xr-var-attrs'><dl class='xr-attrs'><dt><span>units :</span></dt><dd>V</dd><dt><span>standard_name :</span></dt><dd>battery_voltage</dd><dt><span>valid_range :</span></dt><dd>[  0 992]</dd></dl></div><div class='xr-var-data'><pre>array([[6.4451613],\n       [6.445807 ],\n       [6.4496775],\n       [6.4477415],\n       [6.4580646]], dtype=float32)</pre></div></li><li class='xr-var-item'><div class='xr-var-name'><span>ghi_min</span></div><div class='xr-var-dims'>(time, station)</div><div class='xr-var-dtype'>float32</div><div class='xr-var-preview xr-preview'>0.002086 0.002075 ... 0.002086</div><input id='attrs-8205fcec-84b9-427f-a5d8-6ae17935ca2b' class='xr-var-attrs-in' type='checkbox' ><label for='attrs-8205fcec-84b9-427f-a5d8-6ae17935ca2b' title='Show/Hide attributes'><svg class='icon xr-icon-file-text2'><use xlink:href='#icon-file-text2'></use></svg></label><input id='data-bf3659ab-f026-4c2f-9e77-d1756d563367' class='xr-var-data-in' type='checkbox'><label for='data-bf3659ab-f026-4c2f-9e77-d1756d563367' title='Show/Hide data repr'><svg class='icon xr-icon-database'><use xlink:href='#icon-database'></use></svg></label><div class='xr-var-attrs'><dl class='xr-attrs'><dt><span>units :</span></dt><dd>V</dd><dt><span>long_name :</span></dt><dd>downwelling shortwave flux</dd><dt><span>standard_name :</span></dt><dd>min_downwelling_shortwave_flux_in_air</dd><dt><span>valid_range :</span></dt><dd>[   0 1023]</dd></dl></div><div class='xr-var-data'><pre>array([[0.00208602],\n       [0.00207527],\n       [0.00208602],\n       [0.00208602],\n       [0.00208602]], dtype=float32)</pre></div></li><li class='xr-var-item'><div class='xr-var-name'><span>gti_min</span></div><div class='xr-var-dims'>(time, station)</div><div class='xr-var-dtype'>float32</div><div class='xr-var-preview xr-preview'>0.001935 0.001925 ... 0.001935</div><input id='attrs-9ac60542-ad78-4feb-8fe2-5e8df7b74619' class='xr-var-attrs-in' type='checkbox' ><label for='attrs-9ac60542-ad78-4feb-8fe2-5e8df7b74619' title='Show/Hide attributes'><svg class='icon xr-icon-file-text2'><use xlink:href='#icon-file-text2'></use></svg></label><input id='data-03842416-1c1e-4d00-84e1-e6ca26cf2779' class='xr-var-data-in' type='checkbox'><label for='data-03842416-1c1e-4d00-84e1-e6ca26cf2779' title='Show/Hide data repr'><svg class='icon xr-icon-database'><use xlink:href='#icon-database'></use></svg></label><div class='xr-var-attrs'><dl class='xr-attrs'><dt><span>units :</span></dt><dd>V</dd><dt><span>long_name :</span></dt><dd>downwelling shortwave flux measured on secondary platform, might be tilted</dd><dt><span>standard_name :</span></dt><dd>min_downwelling_shortwave_flux_in_air</dd><dt><span>valid_range :</span></dt><dd>[   0 1023]</dd><dt><span>hangle :</span></dt><dd>0.0</dd><dt><span>vangle :</span></dt><dd>0.0</dd></dl></div><div class='xr-var-data'><pre>array([[0.00193548],\n       [0.00192473],\n       [0.00192473],\n       [0.00193548],\n       [0.00193548]], dtype=float32)</pre></div></li><li class='xr-var-item'><div class='xr-var-name'><span>ghi_max</span></div><div class='xr-var-dims'>(time, station)</div><div class='xr-var-dtype'>float32</div><div class='xr-var-preview xr-preview'>0.002086 0.002086 ... 0.002086</div><input id='attrs-082add11-4ba0-4f80-9098-b1d595247602' class='xr-var-attrs-in' type='checkbox' ><label for='attrs-082add11-4ba0-4f80-9098-b1d595247602' title='Show/Hide attributes'><svg class='icon xr-icon-file-text2'><use xlink:href='#icon-file-text2'></use></svg></label><input id='data-14922957-f15d-40a4-97f8-1c70a1891a3f' class='xr-var-data-in' type='checkbox'><label for='data-14922957-f15d-40a4-97f8-1c70a1891a3f' title='Show/Hide data repr'><svg class='icon xr-icon-database'><use xlink:href='#icon-database'></use></svg></label><div class='xr-var-attrs'><dl class='xr-attrs'><dt><span>units :</span></dt><dd>V</dd><dt><span>long_name :</span></dt><dd>downwelling shortwave flux</dd><dt><span>standard_name :</span></dt><dd>max_downwelling_shortwave_flux_in_air</dd><dt><span>valid_range :</span></dt><dd>[   0 1023]</dd></dl></div><div class='xr-var-data'><pre>array([[0.00208602],\n       [0.00208602],\n       [0.00208602],\n       [0.00208602],\n       [0.00208602]], dtype=float32)</pre></div></li><li class='xr-var-item'><div class='xr-var-name'><span>gti_max</span></div><div class='xr-var-dims'>(time, station)</div><div class='xr-var-dtype'>float32</div><div class='xr-var-preview xr-preview'>0.001935 0.001946 ... 0.001935</div><input id='attrs-e580b23f-1598-4b3f-a9f2-023fa73238bc' class='xr-var-attrs-in' type='checkbox' ><label for='attrs-e580b23f-1598-4b3f-a9f2-023fa73238bc' title='Show/Hide attributes'><svg class='icon xr-icon-file-text2'><use xlink:href='#icon-file-text2'></use></svg></label><input id='data-0e4a827e-9f50-4916-afa4-5b9cf62fd1ec' class='xr-var-data-in' type='checkbox'><label for='data-0e4a827e-9f50-4916-afa4-5b9cf62fd1ec' title='Show/Hide data repr'><svg class='icon xr-icon-database'><use xlink:href='#icon-database'></use></svg></label><div class='xr-var-attrs'><dl class='xr-attrs'><dt><span>units :</span></dt><dd>V</dd><dt><span>long_name :</span></dt><dd>downwelling shortwave flux measured on secondary platform, might be tilted</dd><dt><span>standard_name :</span></dt><dd>max_downwelling_shortwave_flux_in_air</dd><dt><span>valid_range :</span></dt><dd>[   0 1023]</dd><dt><span>hangle :</span></dt><dd>0.0</dd><dt><span>vangle :</span></dt><dd>0.0</dd></dl></div><div class='xr-var-data'><pre>array([[0.00193548],\n       [0.00194624],\n       [0.00194624],\n       [0.00193548],\n       [0.00193548]], dtype=float32)</pre></div></li><li class='xr-var-item'><div class='xr-var-name'><span>ghi_std</span></div><div class='xr-var-dims'>(time, station)</div><div class='xr-var-dtype'>float64</div><div class='xr-var-preview xr-preview'>0.0 3.4e-06 0.0 0.0 0.0</div><input id='attrs-661bae98-2948-453e-957b-cb80ddfd4451' class='xr-var-attrs-in' type='checkbox' ><label for='attrs-661bae98-2948-453e-957b-cb80ddfd4451' title='Show/Hide attributes'><svg class='icon xr-icon-file-text2'><use xlink:href='#icon-file-text2'></use></svg></label><input id='data-923449d0-b72d-4535-b93f-ac96555ce9d9' class='xr-var-data-in' type='checkbox'><label for='data-923449d0-b72d-4535-b93f-ac96555ce9d9' title='Show/Hide data repr'><svg class='icon xr-icon-database'><use xlink:href='#icon-database'></use></svg></label><div class='xr-var-attrs'><dl class='xr-attrs'><dt><span>units :</span></dt><dd>V</dd><dt><span>long_name :</span></dt><dd>downwelling shortwave flux</dd><dt><span>standard_name :</span></dt><dd>std_downwelling_shortwave_flux_in_air</dd><dt><span>valid_range :</span></dt><dd>[   0 1023]</dd></dl></div><div class='xr-var-data'><pre>array([[0.00000000e+00],\n       [3.40026587e-06],\n       [0.00000000e+00],\n       [0.00000000e+00],\n       [0.00000000e+00]])</pre></div></li><li class='xr-var-item'><div class='xr-var-name'><span>gti_std</span></div><div class='xr-var-dims'>(time, station)</div><div class='xr-var-dtype'>float64</div><div class='xr-var-preview xr-preview'>0.0 5.069e-06 6.104e-06 0.0 0.0</div><input id='attrs-7c2c4c03-d730-4cb7-afaf-25a52a09150e' class='xr-var-attrs-in' type='checkbox' ><label for='attrs-7c2c4c03-d730-4cb7-afaf-25a52a09150e' title='Show/Hide attributes'><svg class='icon xr-icon-file-text2'><use xlink:href='#icon-file-text2'></use></svg></label><input id='data-d8212bdc-4d1a-46c1-92fe-724e33d07efc' class='xr-var-data-in' type='checkbox'><label for='data-d8212bdc-4d1a-46c1-92fe-724e33d07efc' title='Show/Hide data repr'><svg class='icon xr-icon-database'><use xlink:href='#icon-database'></use></svg></label><div class='xr-var-attrs'><dl class='xr-attrs'><dt><span>units :</span></dt><dd>V</dd><dt><span>long_name :</span></dt><dd>downwelling shortwave flux measured on secondary platform, might be tilted</dd><dt><span>standard_name :</span></dt><dd>std_downwelling_shortwave_flux_in_air</dd><dt><span>valid_range :</span></dt><dd>[   0 1023]</dd><dt><span>hangle :</span></dt><dd>0.0</dd><dt><span>vangle :</span></dt><dd>0.0</dd></dl></div><div class='xr-var-data'><pre>array([[0.00000000e+00],\n       [5.06887196e-06],\n       [6.10373011e-06],\n       [0.00000000e+00],\n       [0.00000000e+00]])</pre></div></li></ul></div></li><li class='xr-section-item'><input id='section-e056972b-8c4d-4cca-b15d-d5a120d51414' class='xr-section-summary-in' type='checkbox'  ><label for='section-e056972b-8c4d-4cca-b15d-d5a120d51414' class='xr-section-summary' >Indexes: <span>(2)</span></label><div class='xr-section-inline-details'></div><div class='xr-section-details'><ul class='xr-var-list'><li class='xr-var-item'><div class='xr-index-name'><div>time</div></div><div class='xr-index-preview'>PandasIndex</div><div></div><input id='index-6a4d5249-804c-47cb-9643-d0f7e515995b' class='xr-index-data-in' type='checkbox'/><label for='index-6a4d5249-804c-47cb-9643-d0f7e515995b' title='Show/Hide index repr'><svg class='icon xr-icon-database'><use xlink:href='#icon-database'></use></svg></label><div class='xr-index-data'><pre>PandasIndex(DatetimeIndex([&#x27;2022-08-30 11:21:03&#x27;, &#x27;2022-08-30 11:21:04&#x27;,\n               &#x27;2022-08-30 11:21:05&#x27;, &#x27;2022-08-30 11:21:06&#x27;,\n               &#x27;2022-08-30 11:21:07&#x27;],\n              dtype=&#x27;datetime64[ns]&#x27;, name=&#x27;time&#x27;, freq=&#x27;S&#x27;))</pre></div></li><li class='xr-var-item'><div class='xr-index-name'><div>station</div></div><div class='xr-index-preview'>PandasIndex</div><div></div><input id='index-755a0169-7ac4-4144-a210-e109c41012ab' class='xr-index-data-in' type='checkbox'/><label for='index-755a0169-7ac4-4144-a210-e109c41012ab' title='Show/Hide index repr'><svg class='icon xr-icon-database'><use xlink:href='#icon-database'></use></svg></label><div class='xr-index-data'><pre>PandasIndex(Float64Index([1.0], dtype=&#x27;float64&#x27;, name=&#x27;station&#x27;))</pre></div></li></ul></div></li><li class='xr-section-item'><input id='section-d0f63453-f71c-42d5-bc0b-6a515c4a39a6' class='xr-section-summary-in' type='checkbox'  ><label for='section-d0f63453-f71c-42d5-bc0b-6a515c4a39a6' class='xr-section-summary' >Attributes: <span>(31)</span></label><div class='xr-section-inline-details'></div><div class='xr-section-details'><dl class='xr-attrs'><dt><span>Conventions :</span></dt><dd>CF-1.10, ACDD-1.3</dd><dt><span>title :</span></dt><dd>TROPOS pyranometer network (PyrNet) observational data set</dd><dt><span>history :</span></dt><dd>2024-02-27T06:51:35: Generated level l1a  by pyrnet version 0.2.0+2.g8cd06c5.dirty; </dd><dt><span>institution :</span></dt><dd>Leibniz Institute for Tropospheric Research (TROPOS)</dd><dt><span>source :</span></dt><dd>TROPOS pyranometer network (PyrNet)</dd><dt><span>references :</span></dt><dd>https://doi.org/10.5194/amt-9-1153-2016</dd><dt><span>Department :</span></dt><dd>Remote Sensing of Atmospheric Processes</dd><dt><span>Department_team :</span></dt><dd>Clouds, Aerosol and Radiation</dd><dt><span>Address :</span></dt><dd>Permoser Str. 15, 04318 Leipzig, Germany</dd><dt><span>Contact_person :</span></dt><dd>Andreas Macke and the clouds, aerosol and radiation team of the remote sensing department, mailto:andreas.macke@tropos.de</dd><dt><span>Contributor_name :</span></dt><dd></dd><dt><span>Contributor_role :</span></dt><dd></dd><dt><span>Authors_software :</span></dt><dd>Hartwig Deneke, Jonas Witthuhn, mailto:deneke@tropos.de</dd><dt><span>Creator_name :</span></dt><dd></dd><dt><span>Project :</span></dt><dd></dd><dt><span>Standard_name_vocabulary :</span></dt><dd>CF Standard Name Table v81</dd><dt><span>License :</span></dt><dd>CC-BY-SA 3.0</dd><dt><span>TESTNOTE :</span></dt><dd>This is a test note.</dd><dt><span>processing_level :</span></dt><dd>l1a</dd><dt><span>product_version :</span></dt><dd>0.2.0+2.g8cd06c5.dirty</dd><dt><span>date_created :</span></dt><dd>2024-02-27T06:51:35</dd><dt><span>geospatial_lat_min :</span></dt><dd>51.390208333333334</dd><dt><span>geospatial_lat_max :</span></dt><dd>51.390211666666666</dd><dt><span>geospatial_lat_units :</span></dt><dd>degN</dd><dt><span>geospatial_lon_min :</span></dt><dd>11.885246666666667</dd><dt><span>geospatial_lon_max :</span></dt><dd>11.885256666666667</dd><dt><span>geospatial_lon_units :</span></dt><dd>degE</dd><dt><span>time_coverage_start :</span></dt><dd>2022-08-30T11:21:04.065000</dd><dt><span>time_coverage_end :</span></dt><dd>2022-08-30T11:21:09</dd><dt><span>time_coverage_duration :</span></dt><dd>P0DT0H0M4.935S</dd><dt><span>time_coverage_resolution :</span></dt><dd>P0DT0H0M1.23375S</dd></dl></div></li></ul></div></div>"
     },
     "execution_count": 25,
     "metadata": {},
     "output_type": "execute_result"
    }
   ],
   "source": [
    "#|dropcode\n",
    "#|dropout\n",
    "# 6. resample to desired resolution\n",
    "# save station coordinate\n",
    "station_dim = {\"station\": ds_l1b[\"station\"].values}\n",
    "station_attrs = ds_l1b[\"station\"].attrs\n",
    "\n",
    "# resample on time dimension with specified methods\n",
    "methods = ['mean'] + config[\"l1b_resample_stats\"]\n",
    "res = resample(\n",
    "    ds_l1b.squeeze().drop_vars(\"station\"), # drop station coordinate and variable\n",
    "    freq=config['l1bfreq'],\n",
    "    methods=methods,\n",
    "    kwargs=dict(skipna=True)\n",
    ")\n",
    "\n",
    "# add standard names for new variables\n",
    "ds_l1b = res[0]\n",
    "for i, method in enumerate(methods[1:]):\n",
    "    for var in config[\"radflux_varname\"]:\n",
    "        ds_l1b[f\"{var}_{method}\"] = res[i+1][var]\n",
    "        ds_l1b[f\"{var}_{method}\"].attrs.update({\n",
    "            \"standard_name\": f\"{method}_\"+ds_l1b[f\"{var}_{method}\"].attrs[\"standard_name\"]\n",
    "        })\n",
    "\n",
    "# add station dimension back again\n",
    "ds_l1b = ds_l1b.expand_dims(station_dim, axis=-1)\n",
    "ds_l1b[\"station\"].attrs.update(station_attrs)\n",
    "ds_l1b"
   ],
   "metadata": {
    "collapsed": false,
    "ExecuteTime": {
     "end_time": "2024-02-27T06:51:36.898377300Z",
     "start_time": "2024-02-27T06:51:36.786168100Z"
    }
   }
  },
  {
   "cell_type": "code",
   "execution_count": 26,
   "metadata": {
    "collapsed": false,
    "ExecuteTime": {
     "end_time": "2024-02-27T06:51:36.898377300Z",
     "start_time": "2024-02-27T06:51:36.853981900Z"
    }
   },
   "outputs": [],
   "source": [
    "#|hide\n",
    "# dsp = ds_l1b.sel(time=\"2019-07-15\")\n",
    "# plt.figure()\n",
    "# plt.plot(dsp.time, dsp.ghi)\n",
    "# plt.grid()"
   ]
  },
  {
   "cell_type": "markdown",
   "metadata": {
    "collapsed": false
   },
   "source": [
    "### Interpolate GPS coordinates\n",
    "\n",
    "Use ```xarray.interp``` to interpolate lat and lon to the resampled time dimension.\n",
    "```{note}\n",
    "At this point the descision to whether store geocoordinates in full time resolution or as mean over the time interval is made.\n",
    "\n",
    "This is configured in config.json -> \"average_latlon\"\n",
    "```"
   ]
  },
  {
   "cell_type": "code",
   "execution_count": 27,
   "metadata": {
    "collapsed": false,
    "ExecuteTime": {
     "end_time": "2024-02-27T06:51:37.088237300Z",
     "start_time": "2024-02-27T06:51:36.866463900Z"
    }
   },
   "outputs": [
    {
     "data": {
      "text/plain": "<xarray.Dataset>\nDimensions:               (station: 1, time: 5, maintenancetime: 1)\nCoordinates:\n  * station               (station) float64 1.0\n  * time                  (time) datetime64[ns] 2022-08-30T11:21:03 ... 2022-...\n  * maintenancetime       (maintenancetime) datetime64[ns] 2023-05-08T16:09:06\nData variables: (12/15)\n    ghi                   (time, station) float32 0.002086 0.002085 ... 0.002086\n    gti                   (time, station) float32 0.001935 0.001935 ... 0.001935\n    ta                    (time, station) float32 294.8 294.7 294.8 294.7 294.8\n    rh                    (time, station) float32 0.6263 0.6266 ... 0.6271 0.629\n    battery_voltage       (time, station) float32 6.445 6.446 6.45 6.448 6.458\n    ghi_min               (time, station) float32 0.002086 0.002075 ... 0.002086\n    ...                    ...\n    ghi_std               (time, station) float64 0.0 3.4e-06 0.0 0.0 0.0\n    gti_std               (time, station) float64 0.0 5.069e-06 ... 0.0 0.0\n    lat                   (time, station) float64 nan nan 51.39 51.39 51.39\n    lon                   (time, station) float64 nan nan 11.89 11.89 11.89\n    maintenance_flag_ghi  (maintenancetime, station) float32 9.0\n    maintenance_flag_gti  (maintenancetime, station) float32 7.0\nAttributes: (12/31)\n    Conventions:               CF-1.10, ACDD-1.3\n    title:                     TROPOS pyranometer network (PyrNet) observatio...\n    history:                   2024-02-27T06:51:35: Generated level l1a  by p...\n    institution:               Leibniz Institute for Tropospheric Research (T...\n    source:                    TROPOS pyranometer network (PyrNet)\n    references:                https://doi.org/10.5194/amt-9-1153-2016\n    ...                        ...\n    geospatial_lon_max:        11.885256666666667\n    geospatial_lon_units:      degE\n    time_coverage_start:       2022-08-30T11:21:04.065000\n    time_coverage_end:         2022-08-30T11:21:09\n    time_coverage_duration:    P0DT0H0M4.935S\n    time_coverage_resolution:  P0DT0H0M1.23375S",
      "text/html": "<div><svg style=\"position: absolute; width: 0; height: 0; overflow: hidden\">\n<defs>\n<symbol id=\"icon-database\" viewBox=\"0 0 32 32\">\n<path d=\"M16 0c-8.837 0-16 2.239-16 5v4c0 2.761 7.163 5 16 5s16-2.239 16-5v-4c0-2.761-7.163-5-16-5z\"></path>\n<path d=\"M16 17c-8.837 0-16-2.239-16-5v6c0 2.761 7.163 5 16 5s16-2.239 16-5v-6c0 2.761-7.163 5-16 5z\"></path>\n<path d=\"M16 26c-8.837 0-16-2.239-16-5v6c0 2.761 7.163 5 16 5s16-2.239 16-5v-6c0 2.761-7.163 5-16 5z\"></path>\n</symbol>\n<symbol id=\"icon-file-text2\" viewBox=\"0 0 32 32\">\n<path d=\"M28.681 7.159c-0.694-0.947-1.662-2.053-2.724-3.116s-2.169-2.030-3.116-2.724c-1.612-1.182-2.393-1.319-2.841-1.319h-15.5c-1.378 0-2.5 1.121-2.5 2.5v27c0 1.378 1.122 2.5 2.5 2.5h23c1.378 0 2.5-1.122 2.5-2.5v-19.5c0-0.448-0.137-1.23-1.319-2.841zM24.543 5.457c0.959 0.959 1.712 1.825 2.268 2.543h-4.811v-4.811c0.718 0.556 1.584 1.309 2.543 2.268zM28 29.5c0 0.271-0.229 0.5-0.5 0.5h-23c-0.271 0-0.5-0.229-0.5-0.5v-27c0-0.271 0.229-0.5 0.5-0.5 0 0 15.499-0 15.5 0v7c0 0.552 0.448 1 1 1h7v19.5z\"></path>\n<path d=\"M23 26h-14c-0.552 0-1-0.448-1-1s0.448-1 1-1h14c0.552 0 1 0.448 1 1s-0.448 1-1 1z\"></path>\n<path d=\"M23 22h-14c-0.552 0-1-0.448-1-1s0.448-1 1-1h14c0.552 0 1 0.448 1 1s-0.448 1-1 1z\"></path>\n<path d=\"M23 18h-14c-0.552 0-1-0.448-1-1s0.448-1 1-1h14c0.552 0 1 0.448 1 1s-0.448 1-1 1z\"></path>\n</symbol>\n</defs>\n</svg>\n<style>/* CSS stylesheet for displaying xarray objects in jupyterlab.\n *\n */\n\n:root {\n  --xr-font-color0: var(--jp-content-font-color0, rgba(0, 0, 0, 1));\n  --xr-font-color2: var(--jp-content-font-color2, rgba(0, 0, 0, 0.54));\n  --xr-font-color3: var(--jp-content-font-color3, rgba(0, 0, 0, 0.38));\n  --xr-border-color: var(--jp-border-color2, #e0e0e0);\n  --xr-disabled-color: var(--jp-layout-color3, #bdbdbd);\n  --xr-background-color: var(--jp-layout-color0, white);\n  --xr-background-color-row-even: var(--jp-layout-color1, white);\n  --xr-background-color-row-odd: var(--jp-layout-color2, #eeeeee);\n}\n\nhtml[theme=dark],\nbody[data-theme=dark],\nbody.vscode-dark {\n  --xr-font-color0: rgba(255, 255, 255, 1);\n  --xr-font-color2: rgba(255, 255, 255, 0.54);\n  --xr-font-color3: rgba(255, 255, 255, 0.38);\n  --xr-border-color: #1F1F1F;\n  --xr-disabled-color: #515151;\n  --xr-background-color: #111111;\n  --xr-background-color-row-even: #111111;\n  --xr-background-color-row-odd: #313131;\n}\n\n.xr-wrap {\n  display: block !important;\n  min-width: 300px;\n  max-width: 700px;\n}\n\n.xr-text-repr-fallback {\n  /* fallback to plain text repr when CSS is not injected (untrusted notebook) */\n  display: none;\n}\n\n.xr-header {\n  padding-top: 6px;\n  padding-bottom: 6px;\n  margin-bottom: 4px;\n  border-bottom: solid 1px var(--xr-border-color);\n}\n\n.xr-header > div,\n.xr-header > ul {\n  display: inline;\n  margin-top: 0;\n  margin-bottom: 0;\n}\n\n.xr-obj-type,\n.xr-array-name {\n  margin-left: 2px;\n  margin-right: 10px;\n}\n\n.xr-obj-type {\n  color: var(--xr-font-color2);\n}\n\n.xr-sections {\n  padding-left: 0 !important;\n  display: grid;\n  grid-template-columns: 150px auto auto 1fr 20px 20px;\n}\n\n.xr-section-item {\n  display: contents;\n}\n\n.xr-section-item input {\n  display: none;\n}\n\n.xr-section-item input + label {\n  color: var(--xr-disabled-color);\n}\n\n.xr-section-item input:enabled + label {\n  cursor: pointer;\n  color: var(--xr-font-color2);\n}\n\n.xr-section-item input:enabled + label:hover {\n  color: var(--xr-font-color0);\n}\n\n.xr-section-summary {\n  grid-column: 1;\n  color: var(--xr-font-color2);\n  font-weight: 500;\n}\n\n.xr-section-summary > span {\n  display: inline-block;\n  padding-left: 0.5em;\n}\n\n.xr-section-summary-in:disabled + label {\n  color: var(--xr-font-color2);\n}\n\n.xr-section-summary-in + label:before {\n  display: inline-block;\n  content: '►';\n  font-size: 11px;\n  width: 15px;\n  text-align: center;\n}\n\n.xr-section-summary-in:disabled + label:before {\n  color: var(--xr-disabled-color);\n}\n\n.xr-section-summary-in:checked + label:before {\n  content: '▼';\n}\n\n.xr-section-summary-in:checked + label > span {\n  display: none;\n}\n\n.xr-section-summary,\n.xr-section-inline-details {\n  padding-top: 4px;\n  padding-bottom: 4px;\n}\n\n.xr-section-inline-details {\n  grid-column: 2 / -1;\n}\n\n.xr-section-details {\n  display: none;\n  grid-column: 1 / -1;\n  margin-bottom: 5px;\n}\n\n.xr-section-summary-in:checked ~ .xr-section-details {\n  display: contents;\n}\n\n.xr-array-wrap {\n  grid-column: 1 / -1;\n  display: grid;\n  grid-template-columns: 20px auto;\n}\n\n.xr-array-wrap > label {\n  grid-column: 1;\n  vertical-align: top;\n}\n\n.xr-preview {\n  color: var(--xr-font-color3);\n}\n\n.xr-array-preview,\n.xr-array-data {\n  padding: 0 5px !important;\n  grid-column: 2;\n}\n\n.xr-array-data,\n.xr-array-in:checked ~ .xr-array-preview {\n  display: none;\n}\n\n.xr-array-in:checked ~ .xr-array-data,\n.xr-array-preview {\n  display: inline-block;\n}\n\n.xr-dim-list {\n  display: inline-block !important;\n  list-style: none;\n  padding: 0 !important;\n  margin: 0;\n}\n\n.xr-dim-list li {\n  display: inline-block;\n  padding: 0;\n  margin: 0;\n}\n\n.xr-dim-list:before {\n  content: '(';\n}\n\n.xr-dim-list:after {\n  content: ')';\n}\n\n.xr-dim-list li:not(:last-child):after {\n  content: ',';\n  padding-right: 5px;\n}\n\n.xr-has-index {\n  font-weight: bold;\n}\n\n.xr-var-list,\n.xr-var-item {\n  display: contents;\n}\n\n.xr-var-item > div,\n.xr-var-item label,\n.xr-var-item > .xr-var-name span {\n  background-color: var(--xr-background-color-row-even);\n  margin-bottom: 0;\n}\n\n.xr-var-item > .xr-var-name:hover span {\n  padding-right: 5px;\n}\n\n.xr-var-list > li:nth-child(odd) > div,\n.xr-var-list > li:nth-child(odd) > label,\n.xr-var-list > li:nth-child(odd) > .xr-var-name span {\n  background-color: var(--xr-background-color-row-odd);\n}\n\n.xr-var-name {\n  grid-column: 1;\n}\n\n.xr-var-dims {\n  grid-column: 2;\n}\n\n.xr-var-dtype {\n  grid-column: 3;\n  text-align: right;\n  color: var(--xr-font-color2);\n}\n\n.xr-var-preview {\n  grid-column: 4;\n}\n\n.xr-index-preview {\n  grid-column: 2 / 5;\n  color: var(--xr-font-color2);\n}\n\n.xr-var-name,\n.xr-var-dims,\n.xr-var-dtype,\n.xr-preview,\n.xr-attrs dt {\n  white-space: nowrap;\n  overflow: hidden;\n  text-overflow: ellipsis;\n  padding-right: 10px;\n}\n\n.xr-var-name:hover,\n.xr-var-dims:hover,\n.xr-var-dtype:hover,\n.xr-attrs dt:hover {\n  overflow: visible;\n  width: auto;\n  z-index: 1;\n}\n\n.xr-var-attrs,\n.xr-var-data,\n.xr-index-data {\n  display: none;\n  background-color: var(--xr-background-color) !important;\n  padding-bottom: 5px !important;\n}\n\n.xr-var-attrs-in:checked ~ .xr-var-attrs,\n.xr-var-data-in:checked ~ .xr-var-data,\n.xr-index-data-in:checked ~ .xr-index-data {\n  display: block;\n}\n\n.xr-var-data > table {\n  float: right;\n}\n\n.xr-var-name span,\n.xr-var-data,\n.xr-index-name div,\n.xr-index-data,\n.xr-attrs {\n  padding-left: 25px !important;\n}\n\n.xr-attrs,\n.xr-var-attrs,\n.xr-var-data,\n.xr-index-data {\n  grid-column: 1 / -1;\n}\n\ndl.xr-attrs {\n  padding: 0;\n  margin: 0;\n  display: grid;\n  grid-template-columns: 125px auto;\n}\n\n.xr-attrs dt,\n.xr-attrs dd {\n  padding: 0;\n  margin: 0;\n  float: left;\n  padding-right: 10px;\n  width: auto;\n}\n\n.xr-attrs dt {\n  font-weight: normal;\n  grid-column: 1;\n}\n\n.xr-attrs dt:hover span {\n  display: inline-block;\n  background: var(--xr-background-color);\n  padding-right: 10px;\n}\n\n.xr-attrs dd {\n  grid-column: 2;\n  white-space: pre-wrap;\n  word-break: break-all;\n}\n\n.xr-icon-database,\n.xr-icon-file-text2,\n.xr-no-icon {\n  display: inline-block;\n  vertical-align: middle;\n  width: 1em;\n  height: 1.5em !important;\n  stroke-width: 0;\n  stroke: currentColor;\n  fill: currentColor;\n}\n</style><pre class='xr-text-repr-fallback'>&lt;xarray.Dataset&gt;\nDimensions:               (station: 1, time: 5, maintenancetime: 1)\nCoordinates:\n  * station               (station) float64 1.0\n  * time                  (time) datetime64[ns] 2022-08-30T11:21:03 ... 2022-...\n  * maintenancetime       (maintenancetime) datetime64[ns] 2023-05-08T16:09:06\nData variables: (12/15)\n    ghi                   (time, station) float32 0.002086 0.002085 ... 0.002086\n    gti                   (time, station) float32 0.001935 0.001935 ... 0.001935\n    ta                    (time, station) float32 294.8 294.7 294.8 294.7 294.8\n    rh                    (time, station) float32 0.6263 0.6266 ... 0.6271 0.629\n    battery_voltage       (time, station) float32 6.445 6.446 6.45 6.448 6.458\n    ghi_min               (time, station) float32 0.002086 0.002075 ... 0.002086\n    ...                    ...\n    ghi_std               (time, station) float64 0.0 3.4e-06 0.0 0.0 0.0\n    gti_std               (time, station) float64 0.0 5.069e-06 ... 0.0 0.0\n    lat                   (time, station) float64 nan nan 51.39 51.39 51.39\n    lon                   (time, station) float64 nan nan 11.89 11.89 11.89\n    maintenance_flag_ghi  (maintenancetime, station) float32 9.0\n    maintenance_flag_gti  (maintenancetime, station) float32 7.0\nAttributes: (12/31)\n    Conventions:               CF-1.10, ACDD-1.3\n    title:                     TROPOS pyranometer network (PyrNet) observatio...\n    history:                   2024-02-27T06:51:35: Generated level l1a  by p...\n    institution:               Leibniz Institute for Tropospheric Research (T...\n    source:                    TROPOS pyranometer network (PyrNet)\n    references:                https://doi.org/10.5194/amt-9-1153-2016\n    ...                        ...\n    geospatial_lon_max:        11.885256666666667\n    geospatial_lon_units:      degE\n    time_coverage_start:       2022-08-30T11:21:04.065000\n    time_coverage_end:         2022-08-30T11:21:09\n    time_coverage_duration:    P0DT0H0M4.935S\n    time_coverage_resolution:  P0DT0H0M1.23375S</pre><div class='xr-wrap' style='display:none'><div class='xr-header'><div class='xr-obj-type'>xarray.Dataset</div></div><ul class='xr-sections'><li class='xr-section-item'><input id='section-13f6d8e8-ccbf-4dcd-812a-81f3d11665b9' class='xr-section-summary-in' type='checkbox' disabled ><label for='section-13f6d8e8-ccbf-4dcd-812a-81f3d11665b9' class='xr-section-summary'  title='Expand/collapse section'>Dimensions:</label><div class='xr-section-inline-details'><ul class='xr-dim-list'><li><span class='xr-has-index'>station</span>: 1</li><li><span class='xr-has-index'>time</span>: 5</li><li><span class='xr-has-index'>maintenancetime</span>: 1</li></ul></div><div class='xr-section-details'></div></li><li class='xr-section-item'><input id='section-923eeef8-9f7d-4e6d-aba5-bd2f7c53771c' class='xr-section-summary-in' type='checkbox'  checked><label for='section-923eeef8-9f7d-4e6d-aba5-bd2f7c53771c' class='xr-section-summary' >Coordinates: <span>(3)</span></label><div class='xr-section-inline-details'></div><div class='xr-section-details'><ul class='xr-var-list'><li class='xr-var-item'><div class='xr-var-name'><span class='xr-has-index'>station</span></div><div class='xr-var-dims'>(station)</div><div class='xr-var-dtype'>float64</div><div class='xr-var-preview xr-preview'>1.0</div><input id='attrs-68d87cd0-4456-4a41-bdef-4066af65bf8b' class='xr-var-attrs-in' type='checkbox' ><label for='attrs-68d87cd0-4456-4a41-bdef-4066af65bf8b' title='Show/Hide attributes'><svg class='icon xr-icon-file-text2'><use xlink:href='#icon-file-text2'></use></svg></label><input id='data-9865017d-65c2-4173-93ce-96216769a2cc' class='xr-var-data-in' type='checkbox'><label for='data-9865017d-65c2-4173-93ce-96216769a2cc' title='Show/Hide data repr'><svg class='icon xr-icon-database'><use xlink:href='#icon-database'></use></svg></label><div class='xr-var-attrs'><dl class='xr-attrs'><dt><span>units :</span></dt><dd>-</dd><dt><span>long_name :</span></dt><dd>PyrNet unit box number</dd></dl></div><div class='xr-var-data'><pre>array([1.])</pre></div></li><li class='xr-var-item'><div class='xr-var-name'><span class='xr-has-index'>time</span></div><div class='xr-var-dims'>(time)</div><div class='xr-var-dtype'>datetime64[ns]</div><div class='xr-var-preview xr-preview'>2022-08-30T11:21:03 ... 2022-08-...</div><input id='attrs-d1bd285a-259c-4882-ab8d-b09c5238680a' class='xr-var-attrs-in' type='checkbox' disabled><label for='attrs-d1bd285a-259c-4882-ab8d-b09c5238680a' title='Show/Hide attributes'><svg class='icon xr-icon-file-text2'><use xlink:href='#icon-file-text2'></use></svg></label><input id='data-873e1c3d-b103-4cee-8420-e6ce6dce999b' class='xr-var-data-in' type='checkbox'><label for='data-873e1c3d-b103-4cee-8420-e6ce6dce999b' title='Show/Hide data repr'><svg class='icon xr-icon-database'><use xlink:href='#icon-database'></use></svg></label><div class='xr-var-attrs'><dl class='xr-attrs'></dl></div><div class='xr-var-data'><pre>array([&#x27;2022-08-30T11:21:03.000000000&#x27;, &#x27;2022-08-30T11:21:04.000000000&#x27;,\n       &#x27;2022-08-30T11:21:05.000000000&#x27;, &#x27;2022-08-30T11:21:06.000000000&#x27;,\n       &#x27;2022-08-30T11:21:07.000000000&#x27;], dtype=&#x27;datetime64[ns]&#x27;)</pre></div></li><li class='xr-var-item'><div class='xr-var-name'><span class='xr-has-index'>maintenancetime</span></div><div class='xr-var-dims'>(maintenancetime)</div><div class='xr-var-dtype'>datetime64[ns]</div><div class='xr-var-preview xr-preview'>2023-05-08T16:09:06</div><input id='attrs-8fb7fb91-d77b-402b-a572-8819c00558b9' class='xr-var-attrs-in' type='checkbox' disabled><label for='attrs-8fb7fb91-d77b-402b-a572-8819c00558b9' title='Show/Hide attributes'><svg class='icon xr-icon-file-text2'><use xlink:href='#icon-file-text2'></use></svg></label><input id='data-d00e067c-da07-4cea-b79a-d0b6199a3753' class='xr-var-data-in' type='checkbox'><label for='data-d00e067c-da07-4cea-b79a-d0b6199a3753' title='Show/Hide data repr'><svg class='icon xr-icon-database'><use xlink:href='#icon-database'></use></svg></label><div class='xr-var-attrs'><dl class='xr-attrs'></dl></div><div class='xr-var-data'><pre>array([&#x27;2023-05-08T16:09:06.000000000&#x27;], dtype=&#x27;datetime64[ns]&#x27;)</pre></div></li></ul></div></li><li class='xr-section-item'><input id='section-a2f48328-d419-4f9c-bd53-abdb9ec62d10' class='xr-section-summary-in' type='checkbox'  ><label for='section-a2f48328-d419-4f9c-bd53-abdb9ec62d10' class='xr-section-summary' >Data variables: <span>(15)</span></label><div class='xr-section-inline-details'></div><div class='xr-section-details'><ul class='xr-var-list'><li class='xr-var-item'><div class='xr-var-name'><span>ghi</span></div><div class='xr-var-dims'>(time, station)</div><div class='xr-var-dtype'>float32</div><div class='xr-var-preview xr-preview'>0.002086 0.002085 ... 0.002086</div><input id='attrs-32c85aee-bf65-4a17-baa8-3d1eda1a1a8d' class='xr-var-attrs-in' type='checkbox' ><label for='attrs-32c85aee-bf65-4a17-baa8-3d1eda1a1a8d' title='Show/Hide attributes'><svg class='icon xr-icon-file-text2'><use xlink:href='#icon-file-text2'></use></svg></label><input id='data-2df8a046-3984-42af-a0ab-44df4b4c8ba3' class='xr-var-data-in' type='checkbox'><label for='data-2df8a046-3984-42af-a0ab-44df4b4c8ba3' title='Show/Hide data repr'><svg class='icon xr-icon-database'><use xlink:href='#icon-database'></use></svg></label><div class='xr-var-attrs'><dl class='xr-attrs'><dt><span>units :</span></dt><dd>V</dd><dt><span>long_name :</span></dt><dd>downwelling shortwave flux</dd><dt><span>standard_name :</span></dt><dd>downwelling_shortwave_flux_in_air</dd><dt><span>valid_range :</span></dt><dd>[   0 1023]</dd></dl></div><div class='xr-var-data'><pre>array([[0.00208602],\n       [0.00208495],\n       [0.00208602],\n       [0.00208602],\n       [0.00208602]], dtype=float32)</pre></div></li><li class='xr-var-item'><div class='xr-var-name'><span>gti</span></div><div class='xr-var-dims'>(time, station)</div><div class='xr-var-dtype'>float32</div><div class='xr-var-preview xr-preview'>0.001935 0.001935 ... 0.001935</div><input id='attrs-acedf6d5-2ec6-4d68-8e55-2d9ef792a745' class='xr-var-attrs-in' type='checkbox' ><label for='attrs-acedf6d5-2ec6-4d68-8e55-2d9ef792a745' title='Show/Hide attributes'><svg class='icon xr-icon-file-text2'><use xlink:href='#icon-file-text2'></use></svg></label><input id='data-3d625536-51e0-44a8-b294-c710046a4c94' class='xr-var-data-in' type='checkbox'><label for='data-3d625536-51e0-44a8-b294-c710046a4c94' title='Show/Hide data repr'><svg class='icon xr-icon-database'><use xlink:href='#icon-database'></use></svg></label><div class='xr-var-attrs'><dl class='xr-attrs'><dt><span>units :</span></dt><dd>V</dd><dt><span>long_name :</span></dt><dd>downwelling shortwave flux measured on secondary platform, might be tilted</dd><dt><span>standard_name :</span></dt><dd>downwelling_shortwave_flux_in_air</dd><dt><span>valid_range :</span></dt><dd>[   0 1023]</dd><dt><span>hangle :</span></dt><dd>0.0</dd><dt><span>vangle :</span></dt><dd>0.0</dd></dl></div><div class='xr-var-data'><pre>array([[0.00193548],\n       [0.00193548],\n       [0.00193656],\n       [0.00193548],\n       [0.00193548]], dtype=float32)</pre></div></li><li class='xr-var-item'><div class='xr-var-name'><span>ta</span></div><div class='xr-var-dims'>(time, station)</div><div class='xr-var-dtype'>float32</div><div class='xr-var-preview xr-preview'>294.8 294.7 294.8 294.7 294.8</div><input id='attrs-18df4e4e-3568-4876-b854-671cb2e94675' class='xr-var-attrs-in' type='checkbox' ><label for='attrs-18df4e4e-3568-4876-b854-671cb2e94675' title='Show/Hide attributes'><svg class='icon xr-icon-file-text2'><use xlink:href='#icon-file-text2'></use></svg></label><input id='data-957ff7e5-9991-4ce4-b62b-61d4246f8c30' class='xr-var-data-in' type='checkbox'><label for='data-957ff7e5-9991-4ce4-b62b-61d4246f8c30' title='Show/Hide data repr'><svg class='icon xr-icon-database'><use xlink:href='#icon-database'></use></svg></label><div class='xr-var-attrs'><dl class='xr-attrs'><dt><span>units :</span></dt><dd>K</dd><dt><span>long_name :</span></dt><dd>air temperature</dd><dt><span>standard_name :</span></dt><dd>air_temperature</dd><dt><span>valid_range :</span></dt><dd>[  0 775]</dd></dl></div><div class='xr-var-data'><pre>array([[294.7758 ],\n       [294.74997],\n       [294.7887 ],\n       [294.74997],\n       [294.82742]], dtype=float32)</pre></div></li><li class='xr-var-item'><div class='xr-var-name'><span>rh</span></div><div class='xr-var-dims'>(time, station)</div><div class='xr-var-dtype'>float32</div><div class='xr-var-preview xr-preview'>0.6263 0.6266 0.6271 0.6271 0.629</div><input id='attrs-e92b1283-4f5d-4733-bb56-9b6edf471587' class='xr-var-attrs-in' type='checkbox' ><label for='attrs-e92b1283-4f5d-4733-bb56-9b6edf471587' title='Show/Hide attributes'><svg class='icon xr-icon-file-text2'><use xlink:href='#icon-file-text2'></use></svg></label><input id='data-4175c05f-3a7b-42d3-8700-b5df68fa5a2d' class='xr-var-data-in' type='checkbox'><label for='data-4175c05f-3a7b-42d3-8700-b5df68fa5a2d' title='Show/Hide data repr'><svg class='icon xr-icon-database'><use xlink:href='#icon-database'></use></svg></label><div class='xr-var-attrs'><dl class='xr-attrs'><dt><span>units :</span></dt><dd>1</dd><dt><span>long_name :</span></dt><dd>air relative humidity</dd><dt><span>standard_name :</span></dt><dd>relative_humidity</dd><dt><span>valid_range :</span></dt><dd>[  0 775]</dd></dl></div><div class='xr-var-data'><pre>array([[0.62632257],\n       [0.6265806 ],\n       [0.6270968 ],\n       [0.6270968 ],\n       [0.62903225]], dtype=float32)</pre></div></li><li class='xr-var-item'><div class='xr-var-name'><span>battery_voltage</span></div><div class='xr-var-dims'>(time, station)</div><div class='xr-var-dtype'>float32</div><div class='xr-var-preview xr-preview'>6.445 6.446 6.45 6.448 6.458</div><input id='attrs-824639fc-01e3-4519-b655-71f627325938' class='xr-var-attrs-in' type='checkbox' ><label for='attrs-824639fc-01e3-4519-b655-71f627325938' title='Show/Hide attributes'><svg class='icon xr-icon-file-text2'><use xlink:href='#icon-file-text2'></use></svg></label><input id='data-b67d51b8-6d85-49df-8484-297154d10991' class='xr-var-data-in' type='checkbox'><label for='data-b67d51b8-6d85-49df-8484-297154d10991' title='Show/Hide data repr'><svg class='icon xr-icon-database'><use xlink:href='#icon-database'></use></svg></label><div class='xr-var-attrs'><dl class='xr-attrs'><dt><span>units :</span></dt><dd>V</dd><dt><span>standard_name :</span></dt><dd>battery_voltage</dd><dt><span>valid_range :</span></dt><dd>[  0 992]</dd></dl></div><div class='xr-var-data'><pre>array([[6.4451613],\n       [6.445807 ],\n       [6.4496775],\n       [6.4477415],\n       [6.4580646]], dtype=float32)</pre></div></li><li class='xr-var-item'><div class='xr-var-name'><span>ghi_min</span></div><div class='xr-var-dims'>(time, station)</div><div class='xr-var-dtype'>float32</div><div class='xr-var-preview xr-preview'>0.002086 0.002075 ... 0.002086</div><input id='attrs-d705554a-9b91-4afb-9424-92025063a3c4' class='xr-var-attrs-in' type='checkbox' ><label for='attrs-d705554a-9b91-4afb-9424-92025063a3c4' title='Show/Hide attributes'><svg class='icon xr-icon-file-text2'><use xlink:href='#icon-file-text2'></use></svg></label><input id='data-07e82b1a-a269-4f79-9e82-eca79131a054' class='xr-var-data-in' type='checkbox'><label for='data-07e82b1a-a269-4f79-9e82-eca79131a054' title='Show/Hide data repr'><svg class='icon xr-icon-database'><use xlink:href='#icon-database'></use></svg></label><div class='xr-var-attrs'><dl class='xr-attrs'><dt><span>units :</span></dt><dd>V</dd><dt><span>long_name :</span></dt><dd>downwelling shortwave flux</dd><dt><span>standard_name :</span></dt><dd>min_downwelling_shortwave_flux_in_air</dd><dt><span>valid_range :</span></dt><dd>[   0 1023]</dd></dl></div><div class='xr-var-data'><pre>array([[0.00208602],\n       [0.00207527],\n       [0.00208602],\n       [0.00208602],\n       [0.00208602]], dtype=float32)</pre></div></li><li class='xr-var-item'><div class='xr-var-name'><span>gti_min</span></div><div class='xr-var-dims'>(time, station)</div><div class='xr-var-dtype'>float32</div><div class='xr-var-preview xr-preview'>0.001935 0.001925 ... 0.001935</div><input id='attrs-1e31a091-2aac-4834-bb94-479a00c2ff6b' class='xr-var-attrs-in' type='checkbox' ><label for='attrs-1e31a091-2aac-4834-bb94-479a00c2ff6b' title='Show/Hide attributes'><svg class='icon xr-icon-file-text2'><use xlink:href='#icon-file-text2'></use></svg></label><input id='data-998e8810-3b6b-44c0-9376-ad8925161faf' class='xr-var-data-in' type='checkbox'><label for='data-998e8810-3b6b-44c0-9376-ad8925161faf' title='Show/Hide data repr'><svg class='icon xr-icon-database'><use xlink:href='#icon-database'></use></svg></label><div class='xr-var-attrs'><dl class='xr-attrs'><dt><span>units :</span></dt><dd>V</dd><dt><span>long_name :</span></dt><dd>downwelling shortwave flux measured on secondary platform, might be tilted</dd><dt><span>standard_name :</span></dt><dd>min_downwelling_shortwave_flux_in_air</dd><dt><span>valid_range :</span></dt><dd>[   0 1023]</dd><dt><span>hangle :</span></dt><dd>0.0</dd><dt><span>vangle :</span></dt><dd>0.0</dd></dl></div><div class='xr-var-data'><pre>array([[0.00193548],\n       [0.00192473],\n       [0.00192473],\n       [0.00193548],\n       [0.00193548]], dtype=float32)</pre></div></li><li class='xr-var-item'><div class='xr-var-name'><span>ghi_max</span></div><div class='xr-var-dims'>(time, station)</div><div class='xr-var-dtype'>float32</div><div class='xr-var-preview xr-preview'>0.002086 0.002086 ... 0.002086</div><input id='attrs-5c7cbe9d-e5fe-49ce-9ab7-2087d75fc283' class='xr-var-attrs-in' type='checkbox' ><label for='attrs-5c7cbe9d-e5fe-49ce-9ab7-2087d75fc283' title='Show/Hide attributes'><svg class='icon xr-icon-file-text2'><use xlink:href='#icon-file-text2'></use></svg></label><input id='data-00624394-829d-43d0-969f-8fede0e024ff' class='xr-var-data-in' type='checkbox'><label for='data-00624394-829d-43d0-969f-8fede0e024ff' title='Show/Hide data repr'><svg class='icon xr-icon-database'><use xlink:href='#icon-database'></use></svg></label><div class='xr-var-attrs'><dl class='xr-attrs'><dt><span>units :</span></dt><dd>V</dd><dt><span>long_name :</span></dt><dd>downwelling shortwave flux</dd><dt><span>standard_name :</span></dt><dd>max_downwelling_shortwave_flux_in_air</dd><dt><span>valid_range :</span></dt><dd>[   0 1023]</dd></dl></div><div class='xr-var-data'><pre>array([[0.00208602],\n       [0.00208602],\n       [0.00208602],\n       [0.00208602],\n       [0.00208602]], dtype=float32)</pre></div></li><li class='xr-var-item'><div class='xr-var-name'><span>gti_max</span></div><div class='xr-var-dims'>(time, station)</div><div class='xr-var-dtype'>float32</div><div class='xr-var-preview xr-preview'>0.001935 0.001946 ... 0.001935</div><input id='attrs-a8719331-1949-40f8-b453-5abda588ba13' class='xr-var-attrs-in' type='checkbox' ><label for='attrs-a8719331-1949-40f8-b453-5abda588ba13' title='Show/Hide attributes'><svg class='icon xr-icon-file-text2'><use xlink:href='#icon-file-text2'></use></svg></label><input id='data-9f0b99a4-c03a-493e-b024-dd59b7136b85' class='xr-var-data-in' type='checkbox'><label for='data-9f0b99a4-c03a-493e-b024-dd59b7136b85' title='Show/Hide data repr'><svg class='icon xr-icon-database'><use xlink:href='#icon-database'></use></svg></label><div class='xr-var-attrs'><dl class='xr-attrs'><dt><span>units :</span></dt><dd>V</dd><dt><span>long_name :</span></dt><dd>downwelling shortwave flux measured on secondary platform, might be tilted</dd><dt><span>standard_name :</span></dt><dd>max_downwelling_shortwave_flux_in_air</dd><dt><span>valid_range :</span></dt><dd>[   0 1023]</dd><dt><span>hangle :</span></dt><dd>0.0</dd><dt><span>vangle :</span></dt><dd>0.0</dd></dl></div><div class='xr-var-data'><pre>array([[0.00193548],\n       [0.00194624],\n       [0.00194624],\n       [0.00193548],\n       [0.00193548]], dtype=float32)</pre></div></li><li class='xr-var-item'><div class='xr-var-name'><span>ghi_std</span></div><div class='xr-var-dims'>(time, station)</div><div class='xr-var-dtype'>float64</div><div class='xr-var-preview xr-preview'>0.0 3.4e-06 0.0 0.0 0.0</div><input id='attrs-68347595-05fd-4689-8b83-8fdf727cc1a7' class='xr-var-attrs-in' type='checkbox' ><label for='attrs-68347595-05fd-4689-8b83-8fdf727cc1a7' title='Show/Hide attributes'><svg class='icon xr-icon-file-text2'><use xlink:href='#icon-file-text2'></use></svg></label><input id='data-5ac594c6-e68c-48a9-8ff5-082a91cf089d' class='xr-var-data-in' type='checkbox'><label for='data-5ac594c6-e68c-48a9-8ff5-082a91cf089d' title='Show/Hide data repr'><svg class='icon xr-icon-database'><use xlink:href='#icon-database'></use></svg></label><div class='xr-var-attrs'><dl class='xr-attrs'><dt><span>units :</span></dt><dd>V</dd><dt><span>long_name :</span></dt><dd>downwelling shortwave flux</dd><dt><span>standard_name :</span></dt><dd>std_downwelling_shortwave_flux_in_air</dd><dt><span>valid_range :</span></dt><dd>[   0 1023]</dd></dl></div><div class='xr-var-data'><pre>array([[0.00000000e+00],\n       [3.40026587e-06],\n       [0.00000000e+00],\n       [0.00000000e+00],\n       [0.00000000e+00]])</pre></div></li><li class='xr-var-item'><div class='xr-var-name'><span>gti_std</span></div><div class='xr-var-dims'>(time, station)</div><div class='xr-var-dtype'>float64</div><div class='xr-var-preview xr-preview'>0.0 5.069e-06 6.104e-06 0.0 0.0</div><input id='attrs-8b1e275c-bf31-4429-8091-b7b9de6ca5f9' class='xr-var-attrs-in' type='checkbox' ><label for='attrs-8b1e275c-bf31-4429-8091-b7b9de6ca5f9' title='Show/Hide attributes'><svg class='icon xr-icon-file-text2'><use xlink:href='#icon-file-text2'></use></svg></label><input id='data-19cb7a6f-9cf8-44a6-800d-f70005bbaee6' class='xr-var-data-in' type='checkbox'><label for='data-19cb7a6f-9cf8-44a6-800d-f70005bbaee6' title='Show/Hide data repr'><svg class='icon xr-icon-database'><use xlink:href='#icon-database'></use></svg></label><div class='xr-var-attrs'><dl class='xr-attrs'><dt><span>units :</span></dt><dd>V</dd><dt><span>long_name :</span></dt><dd>downwelling shortwave flux measured on secondary platform, might be tilted</dd><dt><span>standard_name :</span></dt><dd>std_downwelling_shortwave_flux_in_air</dd><dt><span>valid_range :</span></dt><dd>[   0 1023]</dd><dt><span>hangle :</span></dt><dd>0.0</dd><dt><span>vangle :</span></dt><dd>0.0</dd></dl></div><div class='xr-var-data'><pre>array([[0.00000000e+00],\n       [5.06887196e-06],\n       [6.10373011e-06],\n       [0.00000000e+00],\n       [0.00000000e+00]])</pre></div></li><li class='xr-var-item'><div class='xr-var-name'><span>lat</span></div><div class='xr-var-dims'>(time, station)</div><div class='xr-var-dtype'>float64</div><div class='xr-var-preview xr-preview'>nan nan 51.39 51.39 51.39</div><input id='attrs-2be17ead-ce2c-4a43-877e-06a234fe71f9' class='xr-var-attrs-in' type='checkbox' ><label for='attrs-2be17ead-ce2c-4a43-877e-06a234fe71f9' title='Show/Hide attributes'><svg class='icon xr-icon-file-text2'><use xlink:href='#icon-file-text2'></use></svg></label><input id='data-9bc12478-84e4-4568-85f3-3b7bd29ed400' class='xr-var-data-in' type='checkbox'><label for='data-9bc12478-84e4-4568-85f3-3b7bd29ed400' title='Show/Hide data repr'><svg class='icon xr-icon-database'><use xlink:href='#icon-database'></use></svg></label><div class='xr-var-attrs'><dl class='xr-attrs'><dt><span>standard_name :</span></dt><dd>latitude</dd><dt><span>units :</span></dt><dd>degree_north</dd><dt><span>valid_range :</span></dt><dd>[-90.  90.]</dd></dl></div><div class='xr-var-data'><pre>array([[        nan],\n       [        nan],\n       [51.39021167],\n       [51.39021086],\n       [51.39021   ]])</pre></div></li><li class='xr-var-item'><div class='xr-var-name'><span>lon</span></div><div class='xr-var-dims'>(time, station)</div><div class='xr-var-dtype'>float64</div><div class='xr-var-preview xr-preview'>nan nan 11.89 11.89 11.89</div><input id='attrs-da22e4e6-b829-4d12-a84f-42c527ffde47' class='xr-var-attrs-in' type='checkbox' ><label for='attrs-da22e4e6-b829-4d12-a84f-42c527ffde47' title='Show/Hide attributes'><svg class='icon xr-icon-file-text2'><use xlink:href='#icon-file-text2'></use></svg></label><input id='data-c24b6269-55ce-4128-bbf2-c8c4f4e6a012' class='xr-var-data-in' type='checkbox'><label for='data-c24b6269-55ce-4128-bbf2-c8c4f4e6a012' title='Show/Hide data repr'><svg class='icon xr-icon-database'><use xlink:href='#icon-database'></use></svg></label><div class='xr-var-attrs'><dl class='xr-attrs'><dt><span>standard_name :</span></dt><dd>longitude</dd><dt><span>units :</span></dt><dd>degree_east</dd><dt><span>valid_range :</span></dt><dd>[-180.  180.]</dd></dl></div><div class='xr-var-data'><pre>array([[        nan],\n       [        nan],\n       [11.88525656],\n       [11.88525425],\n       [11.88525167]])</pre></div></li><li class='xr-var-item'><div class='xr-var-name'><span>maintenance_flag_ghi</span></div><div class='xr-var-dims'>(maintenancetime, station)</div><div class='xr-var-dtype'>float32</div><div class='xr-var-preview xr-preview'>9.0</div><input id='attrs-dcc980c9-7b01-4a4e-aac8-cbb68e846ff9' class='xr-var-attrs-in' type='checkbox' ><label for='attrs-dcc980c9-7b01-4a4e-aac8-cbb68e846ff9' title='Show/Hide attributes'><svg class='icon xr-icon-file-text2'><use xlink:href='#icon-file-text2'></use></svg></label><input id='data-42f7bc52-6c77-4aaf-8721-6da4a052987c' class='xr-var-data-in' type='checkbox'><label for='data-42f7bc52-6c77-4aaf-8721-6da4a052987c' title='Show/Hide data repr'><svg class='icon xr-icon-database'><use xlink:href='#icon-database'></use></svg></label><div class='xr-var-attrs'><dl class='xr-attrs'><dt><span>note_general :</span></dt><dd>222</dd><dt><span>note_clean :</span></dt><dd>testing notes</dd><dt><span>note_level :</span></dt><dd>test</dd><dt><span>valid_range :</span></dt><dd>[ 0 11]</dd></dl></div><div class='xr-var-data'><pre>array([[9.]], dtype=float32)</pre></div></li><li class='xr-var-item'><div class='xr-var-name'><span>maintenance_flag_gti</span></div><div class='xr-var-dims'>(maintenancetime, station)</div><div class='xr-var-dtype'>float32</div><div class='xr-var-preview xr-preview'>7.0</div><input id='attrs-395f8715-5ee0-4aa8-8a3c-f0b53a2b5641' class='xr-var-attrs-in' type='checkbox' ><label for='attrs-395f8715-5ee0-4aa8-8a3c-f0b53a2b5641' title='Show/Hide attributes'><svg class='icon xr-icon-file-text2'><use xlink:href='#icon-file-text2'></use></svg></label><input id='data-bb6b4f35-c88b-403c-a787-340a6f2fa160' class='xr-var-data-in' type='checkbox'><label for='data-bb6b4f35-c88b-403c-a787-340a6f2fa160' title='Show/Hide data repr'><svg class='icon xr-icon-database'><use xlink:href='#icon-database'></use></svg></label><div class='xr-var-attrs'><dl class='xr-attrs'><dt><span>note_general :</span></dt><dd>222</dd><dt><span>note_clean :</span></dt><dd></dd><dt><span>note_level :</span></dt><dd></dd><dt><span>valid_range :</span></dt><dd>[ 0 11]</dd></dl></div><div class='xr-var-data'><pre>array([[7.]], dtype=float32)</pre></div></li></ul></div></li><li class='xr-section-item'><input id='section-ea7f7bfa-f0fe-4112-a880-893c97ad6cf4' class='xr-section-summary-in' type='checkbox'  ><label for='section-ea7f7bfa-f0fe-4112-a880-893c97ad6cf4' class='xr-section-summary' >Indexes: <span>(3)</span></label><div class='xr-section-inline-details'></div><div class='xr-section-details'><ul class='xr-var-list'><li class='xr-var-item'><div class='xr-index-name'><div>station</div></div><div class='xr-index-preview'>PandasIndex</div><div></div><input id='index-a1e4e1d4-6b59-4355-8800-c0ed97dc05f3' class='xr-index-data-in' type='checkbox'/><label for='index-a1e4e1d4-6b59-4355-8800-c0ed97dc05f3' title='Show/Hide index repr'><svg class='icon xr-icon-database'><use xlink:href='#icon-database'></use></svg></label><div class='xr-index-data'><pre>PandasIndex(Float64Index([1.0], dtype=&#x27;float64&#x27;, name=&#x27;station&#x27;))</pre></div></li><li class='xr-var-item'><div class='xr-index-name'><div>time</div></div><div class='xr-index-preview'>PandasIndex</div><div></div><input id='index-6904de59-9f50-423b-8e5a-d6595efd6f6c' class='xr-index-data-in' type='checkbox'/><label for='index-6904de59-9f50-423b-8e5a-d6595efd6f6c' title='Show/Hide index repr'><svg class='icon xr-icon-database'><use xlink:href='#icon-database'></use></svg></label><div class='xr-index-data'><pre>PandasIndex(DatetimeIndex([&#x27;2022-08-30 11:21:03&#x27;, &#x27;2022-08-30 11:21:04&#x27;,\n               &#x27;2022-08-30 11:21:05&#x27;, &#x27;2022-08-30 11:21:06&#x27;,\n               &#x27;2022-08-30 11:21:07&#x27;],\n              dtype=&#x27;datetime64[ns]&#x27;, name=&#x27;time&#x27;, freq=&#x27;S&#x27;))</pre></div></li><li class='xr-var-item'><div class='xr-index-name'><div>maintenancetime</div></div><div class='xr-index-preview'>PandasIndex</div><div></div><input id='index-62c556f7-0f75-42fb-8d09-f48a3576010c' class='xr-index-data-in' type='checkbox'/><label for='index-62c556f7-0f75-42fb-8d09-f48a3576010c' title='Show/Hide index repr'><svg class='icon xr-icon-database'><use xlink:href='#icon-database'></use></svg></label><div class='xr-index-data'><pre>PandasIndex(DatetimeIndex([&#x27;2023-05-08 16:09:06&#x27;], dtype=&#x27;datetime64[ns]&#x27;, name=&#x27;maintenancetime&#x27;, freq=None))</pre></div></li></ul></div></li><li class='xr-section-item'><input id='section-92534ce3-185a-461d-9d6b-42b912ee6f6c' class='xr-section-summary-in' type='checkbox'  ><label for='section-92534ce3-185a-461d-9d6b-42b912ee6f6c' class='xr-section-summary' >Attributes: <span>(31)</span></label><div class='xr-section-inline-details'></div><div class='xr-section-details'><dl class='xr-attrs'><dt><span>Conventions :</span></dt><dd>CF-1.10, ACDD-1.3</dd><dt><span>title :</span></dt><dd>TROPOS pyranometer network (PyrNet) observational data set</dd><dt><span>history :</span></dt><dd>2024-02-27T06:51:35: Generated level l1a  by pyrnet version 0.2.0+2.g8cd06c5.dirty; </dd><dt><span>institution :</span></dt><dd>Leibniz Institute for Tropospheric Research (TROPOS)</dd><dt><span>source :</span></dt><dd>TROPOS pyranometer network (PyrNet)</dd><dt><span>references :</span></dt><dd>https://doi.org/10.5194/amt-9-1153-2016</dd><dt><span>Department :</span></dt><dd>Remote Sensing of Atmospheric Processes</dd><dt><span>Department_team :</span></dt><dd>Clouds, Aerosol and Radiation</dd><dt><span>Address :</span></dt><dd>Permoser Str. 15, 04318 Leipzig, Germany</dd><dt><span>Contact_person :</span></dt><dd>Andreas Macke and the clouds, aerosol and radiation team of the remote sensing department, mailto:andreas.macke@tropos.de</dd><dt><span>Contributor_name :</span></dt><dd></dd><dt><span>Contributor_role :</span></dt><dd></dd><dt><span>Authors_software :</span></dt><dd>Hartwig Deneke, Jonas Witthuhn, mailto:deneke@tropos.de</dd><dt><span>Creator_name :</span></dt><dd></dd><dt><span>Project :</span></dt><dd></dd><dt><span>Standard_name_vocabulary :</span></dt><dd>CF Standard Name Table v81</dd><dt><span>License :</span></dt><dd>CC-BY-SA 3.0</dd><dt><span>TESTNOTE :</span></dt><dd>This is a test note.</dd><dt><span>processing_level :</span></dt><dd>l1a</dd><dt><span>product_version :</span></dt><dd>0.2.0+2.g8cd06c5.dirty</dd><dt><span>date_created :</span></dt><dd>2024-02-27T06:51:35</dd><dt><span>geospatial_lat_min :</span></dt><dd>51.390208333333334</dd><dt><span>geospatial_lat_max :</span></dt><dd>51.390211666666666</dd><dt><span>geospatial_lat_units :</span></dt><dd>degN</dd><dt><span>geospatial_lon_min :</span></dt><dd>11.885246666666667</dd><dt><span>geospatial_lon_max :</span></dt><dd>11.885256666666667</dd><dt><span>geospatial_lon_units :</span></dt><dd>degE</dd><dt><span>time_coverage_start :</span></dt><dd>2022-08-30T11:21:04.065000</dd><dt><span>time_coverage_end :</span></dt><dd>2022-08-30T11:21:09</dd><dt><span>time_coverage_duration :</span></dt><dd>P0DT0H0M4.935S</dd><dt><span>time_coverage_resolution :</span></dt><dd>P0DT0H0M1.23375S</dd></dl></div></li></ul></div></div>"
     },
     "execution_count": 27,
     "metadata": {},
     "output_type": "execute_result"
    }
   ],
   "source": [
    "#|dropcode\n",
    "#|dropout\n",
    "\n",
    "# 7. Interpolate GPS coordinates to bin time\n",
    "ds_gps = ds_l1a.drop_dims(\"adctime\")\n",
    "ds_gps = ds_gps.drop_vars(['iadc'])\n",
    "\n",
    "\n",
    "# Decide whether geo coordinates should be averaged or not\n",
    "\n",
    "# if config['average_latlon']:\n",
    "ds_gps_avg = ds_gps.mean('gpstime',skipna=True)\n",
    "ds_l1b_avg = xr.merge((ds_l1b,ds_gps_avg))\n",
    "\n",
    "# else:\n",
    "ds_gps = ds_gps.interp(gpstime=ds_l1b.time,\n",
    "                       kwargs={\"bounds_error\":False, \"fill_value\":np.nan})\n",
    "ds_gps = ds_gps.drop_vars(\"gpstime\")\n",
    "\n",
    "ds_l1b = xr.merge((ds_l1b,ds_gps))\n",
    "\n",
    "ds_l1b"
   ]
  },
  {
   "cell_type": "code",
   "execution_count": 28,
   "metadata": {
    "collapsed": false,
    "ExecuteTime": {
     "end_time": "2024-02-27T06:51:37.088237300Z",
     "start_time": "2024-02-27T06:51:36.916392100Z"
    }
   },
   "outputs": [],
   "source": [
    "#|hide\n",
    "# dsp = ds_l1b.sel(time=\"2019-07-15\")\n",
    "# plt.figure()\n",
    "# plt.plot(dsp.time, dsp.ghi)\n",
    "# plt.grid()"
   ]
  },
  {
   "cell_type": "markdown",
   "metadata": {
    "collapsed": false
   },
   "source": []
  },
  {
   "cell_type": "markdown",
   "metadata": {
    "collapsed": false
   },
   "source": [
    "### Add sun position\n",
    "Use ```trosat.sunpos``` to calculate sun position from time and lat,lon coordinates.\n"
   ]
  },
  {
   "cell_type": "code",
   "execution_count": 29,
   "metadata": {
    "collapsed": false,
    "ExecuteTime": {
     "end_time": "2024-02-27T06:51:37.089236600Z",
     "start_time": "2024-02-27T06:51:36.931399400Z"
    }
   },
   "outputs": [
    {
     "name": "stdout",
     "output_type": "stream",
     "text": [
      "szen (avg latlon): [42.51158528 42.51172144 42.51185788 42.5119946  42.51213159]\n",
      "szen: [        nan         nan 42.51185936 42.5119952  42.51213125]\n",
      "sazi  (avg latlon): [182.90675054 182.91284018 182.91892979 182.92501938 182.93110893]\n",
      "sazi: [         nan          nan 182.91893638 182.92502264 182.93110846]\n",
      "Earth-Sun Distance: 1.009599726026352\n"
     ]
    }
   ],
   "source": [
    "#|dropcode\n",
    "#|dropout\n",
    "# 8. Calc and add sun position\n",
    "\n",
    "szen, sazi = sp.sun_angles(\n",
    "    time=ds_l1b.time.values[:,None],\n",
    "    lat=ds_l1b.lat.values,\n",
    "    lon=ds_l1b.lon.values\n",
    ")\n",
    "\n",
    "\n",
    "szen_avg, sazi_avg = sp.sun_angles(\n",
    "    time=ds_l1b_avg.time.values[:,None],\n",
    "    lat=ds_l1b_avg.lat.values,\n",
    "    lon=ds_l1b_avg.lon.values\n",
    ")\n",
    "\n",
    "szen  = szen.squeeze()\n",
    "sazi = sazi.squeeze()\n",
    "szen_avg = szen_avg.squeeze()\n",
    "sazi_avg = sazi_avg.squeeze()\n",
    "\n",
    "\n",
    "esd = np.mean(sp.earth_sun_distance(ds_l1b.time.values))\n",
    "\n",
    "print('szen (avg latlon):', szen_avg)\n",
    "print('szen:', szen)\n",
    "print('sazi  (avg latlon):', sazi_avg)\n",
    "print('sazi:', sazi)\n",
    "print('Earth-Sun Distance:',esd)"
   ]
  },
  {
   "cell_type": "code",
   "execution_count": 30,
   "metadata": {
    "collapsed": false,
    "ExecuteTime": {
     "end_time": "2024-02-27T06:51:37.104160900Z",
     "start_time": "2024-02-27T06:51:36.954878600Z"
    }
   },
   "outputs": [
    {
     "data": {
      "text/plain": "<xarray.Dataset>\nDimensions:               (station: 1, time: 5, maintenancetime: 1)\nCoordinates:\n  * station               (station) float64 1.0\n  * time                  (time) datetime64[ns] 2022-08-30T11:21:03 ... 2022-...\n  * maintenancetime       (maintenancetime) datetime64[ns] 2023-05-08T16:09:06\nData variables: (12/18)\n    ghi                   (time, station) float32 0.002086 0.002085 ... 0.002086\n    gti                   (time, station) float32 0.001935 0.001935 ... 0.001935\n    ta                    (time, station) float32 294.8 294.7 294.8 294.7 294.8\n    rh                    (time, station) float32 0.6263 0.6266 ... 0.6271 0.629\n    battery_voltage       (time, station) float32 6.445 6.446 6.45 6.448 6.458\n    ghi_min               (time, station) float32 0.002086 0.002075 ... 0.002086\n    ...                    ...\n    lon                   (time, station) float64 nan nan 11.89 11.89 11.89\n    maintenance_flag_ghi  (maintenancetime, station) float32 9.0\n    maintenance_flag_gti  (maintenancetime, station) float32 7.0\n    szen                  (time, station) float64 nan nan 42.51 42.51 42.51\n    sazi                  (time, station) float64 nan nan 182.9 182.9 182.9\n    esd                   (station) float64 1.01\nAttributes: (12/31)\n    Conventions:               CF-1.10, ACDD-1.3\n    title:                     TROPOS pyranometer network (PyrNet) observatio...\n    history:                   2024-02-27T06:51:35: Generated level l1a  by p...\n    institution:               Leibniz Institute for Tropospheric Research (T...\n    source:                    TROPOS pyranometer network (PyrNet)\n    references:                https://doi.org/10.5194/amt-9-1153-2016\n    ...                        ...\n    geospatial_lon_max:        11.885256666666667\n    geospatial_lon_units:      degE\n    time_coverage_start:       2022-08-30T11:21:04.065000\n    time_coverage_end:         2022-08-30T11:21:09\n    time_coverage_duration:    P0DT0H0M4.935S\n    time_coverage_resolution:  P0DT0H0M1.23375S",
      "text/html": "<div><svg style=\"position: absolute; width: 0; height: 0; overflow: hidden\">\n<defs>\n<symbol id=\"icon-database\" viewBox=\"0 0 32 32\">\n<path d=\"M16 0c-8.837 0-16 2.239-16 5v4c0 2.761 7.163 5 16 5s16-2.239 16-5v-4c0-2.761-7.163-5-16-5z\"></path>\n<path d=\"M16 17c-8.837 0-16-2.239-16-5v6c0 2.761 7.163 5 16 5s16-2.239 16-5v-6c0 2.761-7.163 5-16 5z\"></path>\n<path d=\"M16 26c-8.837 0-16-2.239-16-5v6c0 2.761 7.163 5 16 5s16-2.239 16-5v-6c0 2.761-7.163 5-16 5z\"></path>\n</symbol>\n<symbol id=\"icon-file-text2\" viewBox=\"0 0 32 32\">\n<path d=\"M28.681 7.159c-0.694-0.947-1.662-2.053-2.724-3.116s-2.169-2.030-3.116-2.724c-1.612-1.182-2.393-1.319-2.841-1.319h-15.5c-1.378 0-2.5 1.121-2.5 2.5v27c0 1.378 1.122 2.5 2.5 2.5h23c1.378 0 2.5-1.122 2.5-2.5v-19.5c0-0.448-0.137-1.23-1.319-2.841zM24.543 5.457c0.959 0.959 1.712 1.825 2.268 2.543h-4.811v-4.811c0.718 0.556 1.584 1.309 2.543 2.268zM28 29.5c0 0.271-0.229 0.5-0.5 0.5h-23c-0.271 0-0.5-0.229-0.5-0.5v-27c0-0.271 0.229-0.5 0.5-0.5 0 0 15.499-0 15.5 0v7c0 0.552 0.448 1 1 1h7v19.5z\"></path>\n<path d=\"M23 26h-14c-0.552 0-1-0.448-1-1s0.448-1 1-1h14c0.552 0 1 0.448 1 1s-0.448 1-1 1z\"></path>\n<path d=\"M23 22h-14c-0.552 0-1-0.448-1-1s0.448-1 1-1h14c0.552 0 1 0.448 1 1s-0.448 1-1 1z\"></path>\n<path d=\"M23 18h-14c-0.552 0-1-0.448-1-1s0.448-1 1-1h14c0.552 0 1 0.448 1 1s-0.448 1-1 1z\"></path>\n</symbol>\n</defs>\n</svg>\n<style>/* CSS stylesheet for displaying xarray objects in jupyterlab.\n *\n */\n\n:root {\n  --xr-font-color0: var(--jp-content-font-color0, rgba(0, 0, 0, 1));\n  --xr-font-color2: var(--jp-content-font-color2, rgba(0, 0, 0, 0.54));\n  --xr-font-color3: var(--jp-content-font-color3, rgba(0, 0, 0, 0.38));\n  --xr-border-color: var(--jp-border-color2, #e0e0e0);\n  --xr-disabled-color: var(--jp-layout-color3, #bdbdbd);\n  --xr-background-color: var(--jp-layout-color0, white);\n  --xr-background-color-row-even: var(--jp-layout-color1, white);\n  --xr-background-color-row-odd: var(--jp-layout-color2, #eeeeee);\n}\n\nhtml[theme=dark],\nbody[data-theme=dark],\nbody.vscode-dark {\n  --xr-font-color0: rgba(255, 255, 255, 1);\n  --xr-font-color2: rgba(255, 255, 255, 0.54);\n  --xr-font-color3: rgba(255, 255, 255, 0.38);\n  --xr-border-color: #1F1F1F;\n  --xr-disabled-color: #515151;\n  --xr-background-color: #111111;\n  --xr-background-color-row-even: #111111;\n  --xr-background-color-row-odd: #313131;\n}\n\n.xr-wrap {\n  display: block !important;\n  min-width: 300px;\n  max-width: 700px;\n}\n\n.xr-text-repr-fallback {\n  /* fallback to plain text repr when CSS is not injected (untrusted notebook) */\n  display: none;\n}\n\n.xr-header {\n  padding-top: 6px;\n  padding-bottom: 6px;\n  margin-bottom: 4px;\n  border-bottom: solid 1px var(--xr-border-color);\n}\n\n.xr-header > div,\n.xr-header > ul {\n  display: inline;\n  margin-top: 0;\n  margin-bottom: 0;\n}\n\n.xr-obj-type,\n.xr-array-name {\n  margin-left: 2px;\n  margin-right: 10px;\n}\n\n.xr-obj-type {\n  color: var(--xr-font-color2);\n}\n\n.xr-sections {\n  padding-left: 0 !important;\n  display: grid;\n  grid-template-columns: 150px auto auto 1fr 20px 20px;\n}\n\n.xr-section-item {\n  display: contents;\n}\n\n.xr-section-item input {\n  display: none;\n}\n\n.xr-section-item input + label {\n  color: var(--xr-disabled-color);\n}\n\n.xr-section-item input:enabled + label {\n  cursor: pointer;\n  color: var(--xr-font-color2);\n}\n\n.xr-section-item input:enabled + label:hover {\n  color: var(--xr-font-color0);\n}\n\n.xr-section-summary {\n  grid-column: 1;\n  color: var(--xr-font-color2);\n  font-weight: 500;\n}\n\n.xr-section-summary > span {\n  display: inline-block;\n  padding-left: 0.5em;\n}\n\n.xr-section-summary-in:disabled + label {\n  color: var(--xr-font-color2);\n}\n\n.xr-section-summary-in + label:before {\n  display: inline-block;\n  content: '►';\n  font-size: 11px;\n  width: 15px;\n  text-align: center;\n}\n\n.xr-section-summary-in:disabled + label:before {\n  color: var(--xr-disabled-color);\n}\n\n.xr-section-summary-in:checked + label:before {\n  content: '▼';\n}\n\n.xr-section-summary-in:checked + label > span {\n  display: none;\n}\n\n.xr-section-summary,\n.xr-section-inline-details {\n  padding-top: 4px;\n  padding-bottom: 4px;\n}\n\n.xr-section-inline-details {\n  grid-column: 2 / -1;\n}\n\n.xr-section-details {\n  display: none;\n  grid-column: 1 / -1;\n  margin-bottom: 5px;\n}\n\n.xr-section-summary-in:checked ~ .xr-section-details {\n  display: contents;\n}\n\n.xr-array-wrap {\n  grid-column: 1 / -1;\n  display: grid;\n  grid-template-columns: 20px auto;\n}\n\n.xr-array-wrap > label {\n  grid-column: 1;\n  vertical-align: top;\n}\n\n.xr-preview {\n  color: var(--xr-font-color3);\n}\n\n.xr-array-preview,\n.xr-array-data {\n  padding: 0 5px !important;\n  grid-column: 2;\n}\n\n.xr-array-data,\n.xr-array-in:checked ~ .xr-array-preview {\n  display: none;\n}\n\n.xr-array-in:checked ~ .xr-array-data,\n.xr-array-preview {\n  display: inline-block;\n}\n\n.xr-dim-list {\n  display: inline-block !important;\n  list-style: none;\n  padding: 0 !important;\n  margin: 0;\n}\n\n.xr-dim-list li {\n  display: inline-block;\n  padding: 0;\n  margin: 0;\n}\n\n.xr-dim-list:before {\n  content: '(';\n}\n\n.xr-dim-list:after {\n  content: ')';\n}\n\n.xr-dim-list li:not(:last-child):after {\n  content: ',';\n  padding-right: 5px;\n}\n\n.xr-has-index {\n  font-weight: bold;\n}\n\n.xr-var-list,\n.xr-var-item {\n  display: contents;\n}\n\n.xr-var-item > div,\n.xr-var-item label,\n.xr-var-item > .xr-var-name span {\n  background-color: var(--xr-background-color-row-even);\n  margin-bottom: 0;\n}\n\n.xr-var-item > .xr-var-name:hover span {\n  padding-right: 5px;\n}\n\n.xr-var-list > li:nth-child(odd) > div,\n.xr-var-list > li:nth-child(odd) > label,\n.xr-var-list > li:nth-child(odd) > .xr-var-name span {\n  background-color: var(--xr-background-color-row-odd);\n}\n\n.xr-var-name {\n  grid-column: 1;\n}\n\n.xr-var-dims {\n  grid-column: 2;\n}\n\n.xr-var-dtype {\n  grid-column: 3;\n  text-align: right;\n  color: var(--xr-font-color2);\n}\n\n.xr-var-preview {\n  grid-column: 4;\n}\n\n.xr-index-preview {\n  grid-column: 2 / 5;\n  color: var(--xr-font-color2);\n}\n\n.xr-var-name,\n.xr-var-dims,\n.xr-var-dtype,\n.xr-preview,\n.xr-attrs dt {\n  white-space: nowrap;\n  overflow: hidden;\n  text-overflow: ellipsis;\n  padding-right: 10px;\n}\n\n.xr-var-name:hover,\n.xr-var-dims:hover,\n.xr-var-dtype:hover,\n.xr-attrs dt:hover {\n  overflow: visible;\n  width: auto;\n  z-index: 1;\n}\n\n.xr-var-attrs,\n.xr-var-data,\n.xr-index-data {\n  display: none;\n  background-color: var(--xr-background-color) !important;\n  padding-bottom: 5px !important;\n}\n\n.xr-var-attrs-in:checked ~ .xr-var-attrs,\n.xr-var-data-in:checked ~ .xr-var-data,\n.xr-index-data-in:checked ~ .xr-index-data {\n  display: block;\n}\n\n.xr-var-data > table {\n  float: right;\n}\n\n.xr-var-name span,\n.xr-var-data,\n.xr-index-name div,\n.xr-index-data,\n.xr-attrs {\n  padding-left: 25px !important;\n}\n\n.xr-attrs,\n.xr-var-attrs,\n.xr-var-data,\n.xr-index-data {\n  grid-column: 1 / -1;\n}\n\ndl.xr-attrs {\n  padding: 0;\n  margin: 0;\n  display: grid;\n  grid-template-columns: 125px auto;\n}\n\n.xr-attrs dt,\n.xr-attrs dd {\n  padding: 0;\n  margin: 0;\n  float: left;\n  padding-right: 10px;\n  width: auto;\n}\n\n.xr-attrs dt {\n  font-weight: normal;\n  grid-column: 1;\n}\n\n.xr-attrs dt:hover span {\n  display: inline-block;\n  background: var(--xr-background-color);\n  padding-right: 10px;\n}\n\n.xr-attrs dd {\n  grid-column: 2;\n  white-space: pre-wrap;\n  word-break: break-all;\n}\n\n.xr-icon-database,\n.xr-icon-file-text2,\n.xr-no-icon {\n  display: inline-block;\n  vertical-align: middle;\n  width: 1em;\n  height: 1.5em !important;\n  stroke-width: 0;\n  stroke: currentColor;\n  fill: currentColor;\n}\n</style><pre class='xr-text-repr-fallback'>&lt;xarray.Dataset&gt;\nDimensions:               (station: 1, time: 5, maintenancetime: 1)\nCoordinates:\n  * station               (station) float64 1.0\n  * time                  (time) datetime64[ns] 2022-08-30T11:21:03 ... 2022-...\n  * maintenancetime       (maintenancetime) datetime64[ns] 2023-05-08T16:09:06\nData variables: (12/18)\n    ghi                   (time, station) float32 0.002086 0.002085 ... 0.002086\n    gti                   (time, station) float32 0.001935 0.001935 ... 0.001935\n    ta                    (time, station) float32 294.8 294.7 294.8 294.7 294.8\n    rh                    (time, station) float32 0.6263 0.6266 ... 0.6271 0.629\n    battery_voltage       (time, station) float32 6.445 6.446 6.45 6.448 6.458\n    ghi_min               (time, station) float32 0.002086 0.002075 ... 0.002086\n    ...                    ...\n    lon                   (time, station) float64 nan nan 11.89 11.89 11.89\n    maintenance_flag_ghi  (maintenancetime, station) float32 9.0\n    maintenance_flag_gti  (maintenancetime, station) float32 7.0\n    szen                  (time, station) float64 nan nan 42.51 42.51 42.51\n    sazi                  (time, station) float64 nan nan 182.9 182.9 182.9\n    esd                   (station) float64 1.01\nAttributes: (12/31)\n    Conventions:               CF-1.10, ACDD-1.3\n    title:                     TROPOS pyranometer network (PyrNet) observatio...\n    history:                   2024-02-27T06:51:35: Generated level l1a  by p...\n    institution:               Leibniz Institute for Tropospheric Research (T...\n    source:                    TROPOS pyranometer network (PyrNet)\n    references:                https://doi.org/10.5194/amt-9-1153-2016\n    ...                        ...\n    geospatial_lon_max:        11.885256666666667\n    geospatial_lon_units:      degE\n    time_coverage_start:       2022-08-30T11:21:04.065000\n    time_coverage_end:         2022-08-30T11:21:09\n    time_coverage_duration:    P0DT0H0M4.935S\n    time_coverage_resolution:  P0DT0H0M1.23375S</pre><div class='xr-wrap' style='display:none'><div class='xr-header'><div class='xr-obj-type'>xarray.Dataset</div></div><ul class='xr-sections'><li class='xr-section-item'><input id='section-846f3ac5-f1d0-4c4c-b69b-d401f61e86a4' class='xr-section-summary-in' type='checkbox' disabled ><label for='section-846f3ac5-f1d0-4c4c-b69b-d401f61e86a4' class='xr-section-summary'  title='Expand/collapse section'>Dimensions:</label><div class='xr-section-inline-details'><ul class='xr-dim-list'><li><span class='xr-has-index'>station</span>: 1</li><li><span class='xr-has-index'>time</span>: 5</li><li><span class='xr-has-index'>maintenancetime</span>: 1</li></ul></div><div class='xr-section-details'></div></li><li class='xr-section-item'><input id='section-be9977d1-c6dd-4e8d-9cbe-ebd1d779b7ad' class='xr-section-summary-in' type='checkbox'  checked><label for='section-be9977d1-c6dd-4e8d-9cbe-ebd1d779b7ad' class='xr-section-summary' >Coordinates: <span>(3)</span></label><div class='xr-section-inline-details'></div><div class='xr-section-details'><ul class='xr-var-list'><li class='xr-var-item'><div class='xr-var-name'><span class='xr-has-index'>station</span></div><div class='xr-var-dims'>(station)</div><div class='xr-var-dtype'>float64</div><div class='xr-var-preview xr-preview'>1.0</div><input id='attrs-8c47ebb3-4bb5-4b3f-84d1-7db23f335630' class='xr-var-attrs-in' type='checkbox' ><label for='attrs-8c47ebb3-4bb5-4b3f-84d1-7db23f335630' title='Show/Hide attributes'><svg class='icon xr-icon-file-text2'><use xlink:href='#icon-file-text2'></use></svg></label><input id='data-449d500d-d41d-40e2-a2b6-685d8b530a5c' class='xr-var-data-in' type='checkbox'><label for='data-449d500d-d41d-40e2-a2b6-685d8b530a5c' title='Show/Hide data repr'><svg class='icon xr-icon-database'><use xlink:href='#icon-database'></use></svg></label><div class='xr-var-attrs'><dl class='xr-attrs'><dt><span>units :</span></dt><dd>-</dd><dt><span>long_name :</span></dt><dd>PyrNet unit box number</dd></dl></div><div class='xr-var-data'><pre>array([1.])</pre></div></li><li class='xr-var-item'><div class='xr-var-name'><span class='xr-has-index'>time</span></div><div class='xr-var-dims'>(time)</div><div class='xr-var-dtype'>datetime64[ns]</div><div class='xr-var-preview xr-preview'>2022-08-30T11:21:03 ... 2022-08-...</div><input id='attrs-85b2affe-6a1b-4994-97b0-35e094a37290' class='xr-var-attrs-in' type='checkbox' disabled><label for='attrs-85b2affe-6a1b-4994-97b0-35e094a37290' title='Show/Hide attributes'><svg class='icon xr-icon-file-text2'><use xlink:href='#icon-file-text2'></use></svg></label><input id='data-87b597f1-6445-46bf-a700-57b69180efa9' class='xr-var-data-in' type='checkbox'><label for='data-87b597f1-6445-46bf-a700-57b69180efa9' title='Show/Hide data repr'><svg class='icon xr-icon-database'><use xlink:href='#icon-database'></use></svg></label><div class='xr-var-attrs'><dl class='xr-attrs'></dl></div><div class='xr-var-data'><pre>array([&#x27;2022-08-30T11:21:03.000000000&#x27;, &#x27;2022-08-30T11:21:04.000000000&#x27;,\n       &#x27;2022-08-30T11:21:05.000000000&#x27;, &#x27;2022-08-30T11:21:06.000000000&#x27;,\n       &#x27;2022-08-30T11:21:07.000000000&#x27;], dtype=&#x27;datetime64[ns]&#x27;)</pre></div></li><li class='xr-var-item'><div class='xr-var-name'><span class='xr-has-index'>maintenancetime</span></div><div class='xr-var-dims'>(maintenancetime)</div><div class='xr-var-dtype'>datetime64[ns]</div><div class='xr-var-preview xr-preview'>2023-05-08T16:09:06</div><input id='attrs-61efbac4-2028-45da-adeb-3550570c3197' class='xr-var-attrs-in' type='checkbox' disabled><label for='attrs-61efbac4-2028-45da-adeb-3550570c3197' title='Show/Hide attributes'><svg class='icon xr-icon-file-text2'><use xlink:href='#icon-file-text2'></use></svg></label><input id='data-eaf37d9f-b205-417b-b152-792b8399e418' class='xr-var-data-in' type='checkbox'><label for='data-eaf37d9f-b205-417b-b152-792b8399e418' title='Show/Hide data repr'><svg class='icon xr-icon-database'><use xlink:href='#icon-database'></use></svg></label><div class='xr-var-attrs'><dl class='xr-attrs'></dl></div><div class='xr-var-data'><pre>array([&#x27;2023-05-08T16:09:06.000000000&#x27;], dtype=&#x27;datetime64[ns]&#x27;)</pre></div></li></ul></div></li><li class='xr-section-item'><input id='section-a6173377-a07e-429e-8d64-eacbb5bc205d' class='xr-section-summary-in' type='checkbox'  ><label for='section-a6173377-a07e-429e-8d64-eacbb5bc205d' class='xr-section-summary' >Data variables: <span>(18)</span></label><div class='xr-section-inline-details'></div><div class='xr-section-details'><ul class='xr-var-list'><li class='xr-var-item'><div class='xr-var-name'><span>ghi</span></div><div class='xr-var-dims'>(time, station)</div><div class='xr-var-dtype'>float32</div><div class='xr-var-preview xr-preview'>0.002086 0.002085 ... 0.002086</div><input id='attrs-e86f48fb-9a02-4cd2-a473-052d6e567611' class='xr-var-attrs-in' type='checkbox' ><label for='attrs-e86f48fb-9a02-4cd2-a473-052d6e567611' title='Show/Hide attributes'><svg class='icon xr-icon-file-text2'><use xlink:href='#icon-file-text2'></use></svg></label><input id='data-cf8dba32-6600-414c-9e2f-456ad5271e2c' class='xr-var-data-in' type='checkbox'><label for='data-cf8dba32-6600-414c-9e2f-456ad5271e2c' title='Show/Hide data repr'><svg class='icon xr-icon-database'><use xlink:href='#icon-database'></use></svg></label><div class='xr-var-attrs'><dl class='xr-attrs'><dt><span>units :</span></dt><dd>V</dd><dt><span>long_name :</span></dt><dd>downwelling shortwave flux</dd><dt><span>standard_name :</span></dt><dd>downwelling_shortwave_flux_in_air</dd><dt><span>valid_range :</span></dt><dd>[   0 1023]</dd></dl></div><div class='xr-var-data'><pre>array([[0.00208602],\n       [0.00208495],\n       [0.00208602],\n       [0.00208602],\n       [0.00208602]], dtype=float32)</pre></div></li><li class='xr-var-item'><div class='xr-var-name'><span>gti</span></div><div class='xr-var-dims'>(time, station)</div><div class='xr-var-dtype'>float32</div><div class='xr-var-preview xr-preview'>0.001935 0.001935 ... 0.001935</div><input id='attrs-d66da1c5-c479-4f59-a0e8-e669d2557084' class='xr-var-attrs-in' type='checkbox' ><label for='attrs-d66da1c5-c479-4f59-a0e8-e669d2557084' title='Show/Hide attributes'><svg class='icon xr-icon-file-text2'><use xlink:href='#icon-file-text2'></use></svg></label><input id='data-69914a39-be51-49b3-bfb4-b88bacd27d3f' class='xr-var-data-in' type='checkbox'><label for='data-69914a39-be51-49b3-bfb4-b88bacd27d3f' title='Show/Hide data repr'><svg class='icon xr-icon-database'><use xlink:href='#icon-database'></use></svg></label><div class='xr-var-attrs'><dl class='xr-attrs'><dt><span>units :</span></dt><dd>V</dd><dt><span>long_name :</span></dt><dd>downwelling shortwave flux measured on secondary platform, might be tilted</dd><dt><span>standard_name :</span></dt><dd>downwelling_shortwave_flux_in_air</dd><dt><span>valid_range :</span></dt><dd>[   0 1023]</dd><dt><span>hangle :</span></dt><dd>0.0</dd><dt><span>vangle :</span></dt><dd>0.0</dd></dl></div><div class='xr-var-data'><pre>array([[0.00193548],\n       [0.00193548],\n       [0.00193656],\n       [0.00193548],\n       [0.00193548]], dtype=float32)</pre></div></li><li class='xr-var-item'><div class='xr-var-name'><span>ta</span></div><div class='xr-var-dims'>(time, station)</div><div class='xr-var-dtype'>float32</div><div class='xr-var-preview xr-preview'>294.8 294.7 294.8 294.7 294.8</div><input id='attrs-3e8673d0-b21f-42aa-bb60-14e57360f270' class='xr-var-attrs-in' type='checkbox' ><label for='attrs-3e8673d0-b21f-42aa-bb60-14e57360f270' title='Show/Hide attributes'><svg class='icon xr-icon-file-text2'><use xlink:href='#icon-file-text2'></use></svg></label><input id='data-95029031-2fb1-4016-b18a-e169087b928a' class='xr-var-data-in' type='checkbox'><label for='data-95029031-2fb1-4016-b18a-e169087b928a' title='Show/Hide data repr'><svg class='icon xr-icon-database'><use xlink:href='#icon-database'></use></svg></label><div class='xr-var-attrs'><dl class='xr-attrs'><dt><span>units :</span></dt><dd>K</dd><dt><span>long_name :</span></dt><dd>air temperature</dd><dt><span>standard_name :</span></dt><dd>air_temperature</dd><dt><span>valid_range :</span></dt><dd>[  0 775]</dd></dl></div><div class='xr-var-data'><pre>array([[294.7758 ],\n       [294.74997],\n       [294.7887 ],\n       [294.74997],\n       [294.82742]], dtype=float32)</pre></div></li><li class='xr-var-item'><div class='xr-var-name'><span>rh</span></div><div class='xr-var-dims'>(time, station)</div><div class='xr-var-dtype'>float32</div><div class='xr-var-preview xr-preview'>0.6263 0.6266 0.6271 0.6271 0.629</div><input id='attrs-80aed0bc-513c-485e-8a95-ce1301eda8ac' class='xr-var-attrs-in' type='checkbox' ><label for='attrs-80aed0bc-513c-485e-8a95-ce1301eda8ac' title='Show/Hide attributes'><svg class='icon xr-icon-file-text2'><use xlink:href='#icon-file-text2'></use></svg></label><input id='data-fef66922-31e2-42ba-9758-b91c00a4da04' class='xr-var-data-in' type='checkbox'><label for='data-fef66922-31e2-42ba-9758-b91c00a4da04' title='Show/Hide data repr'><svg class='icon xr-icon-database'><use xlink:href='#icon-database'></use></svg></label><div class='xr-var-attrs'><dl class='xr-attrs'><dt><span>units :</span></dt><dd>1</dd><dt><span>long_name :</span></dt><dd>air relative humidity</dd><dt><span>standard_name :</span></dt><dd>relative_humidity</dd><dt><span>valid_range :</span></dt><dd>[  0 775]</dd></dl></div><div class='xr-var-data'><pre>array([[0.62632257],\n       [0.6265806 ],\n       [0.6270968 ],\n       [0.6270968 ],\n       [0.62903225]], dtype=float32)</pre></div></li><li class='xr-var-item'><div class='xr-var-name'><span>battery_voltage</span></div><div class='xr-var-dims'>(time, station)</div><div class='xr-var-dtype'>float32</div><div class='xr-var-preview xr-preview'>6.445 6.446 6.45 6.448 6.458</div><input id='attrs-b4092194-0fce-43e7-b238-686a9dc9589f' class='xr-var-attrs-in' type='checkbox' ><label for='attrs-b4092194-0fce-43e7-b238-686a9dc9589f' title='Show/Hide attributes'><svg class='icon xr-icon-file-text2'><use xlink:href='#icon-file-text2'></use></svg></label><input id='data-98c3bdac-2cfc-4d31-9729-ab17b90593be' class='xr-var-data-in' type='checkbox'><label for='data-98c3bdac-2cfc-4d31-9729-ab17b90593be' title='Show/Hide data repr'><svg class='icon xr-icon-database'><use xlink:href='#icon-database'></use></svg></label><div class='xr-var-attrs'><dl class='xr-attrs'><dt><span>units :</span></dt><dd>V</dd><dt><span>standard_name :</span></dt><dd>battery_voltage</dd><dt><span>valid_range :</span></dt><dd>[  0 992]</dd></dl></div><div class='xr-var-data'><pre>array([[6.4451613],\n       [6.445807 ],\n       [6.4496775],\n       [6.4477415],\n       [6.4580646]], dtype=float32)</pre></div></li><li class='xr-var-item'><div class='xr-var-name'><span>ghi_min</span></div><div class='xr-var-dims'>(time, station)</div><div class='xr-var-dtype'>float32</div><div class='xr-var-preview xr-preview'>0.002086 0.002075 ... 0.002086</div><input id='attrs-bbdd65f3-020d-4746-8d48-3d0bc98212a9' class='xr-var-attrs-in' type='checkbox' ><label for='attrs-bbdd65f3-020d-4746-8d48-3d0bc98212a9' title='Show/Hide attributes'><svg class='icon xr-icon-file-text2'><use xlink:href='#icon-file-text2'></use></svg></label><input id='data-5eb7c019-05d6-45f5-b40a-67b1c8bdb5e1' class='xr-var-data-in' type='checkbox'><label for='data-5eb7c019-05d6-45f5-b40a-67b1c8bdb5e1' title='Show/Hide data repr'><svg class='icon xr-icon-database'><use xlink:href='#icon-database'></use></svg></label><div class='xr-var-attrs'><dl class='xr-attrs'><dt><span>units :</span></dt><dd>V</dd><dt><span>long_name :</span></dt><dd>downwelling shortwave flux</dd><dt><span>standard_name :</span></dt><dd>min_downwelling_shortwave_flux_in_air</dd><dt><span>valid_range :</span></dt><dd>[   0 1023]</dd></dl></div><div class='xr-var-data'><pre>array([[0.00208602],\n       [0.00207527],\n       [0.00208602],\n       [0.00208602],\n       [0.00208602]], dtype=float32)</pre></div></li><li class='xr-var-item'><div class='xr-var-name'><span>gti_min</span></div><div class='xr-var-dims'>(time, station)</div><div class='xr-var-dtype'>float32</div><div class='xr-var-preview xr-preview'>0.001935 0.001925 ... 0.001935</div><input id='attrs-2da00091-d11c-40d1-972b-524026130544' class='xr-var-attrs-in' type='checkbox' ><label for='attrs-2da00091-d11c-40d1-972b-524026130544' title='Show/Hide attributes'><svg class='icon xr-icon-file-text2'><use xlink:href='#icon-file-text2'></use></svg></label><input id='data-996e337a-1156-455e-93f0-420488bfad89' class='xr-var-data-in' type='checkbox'><label for='data-996e337a-1156-455e-93f0-420488bfad89' title='Show/Hide data repr'><svg class='icon xr-icon-database'><use xlink:href='#icon-database'></use></svg></label><div class='xr-var-attrs'><dl class='xr-attrs'><dt><span>units :</span></dt><dd>V</dd><dt><span>long_name :</span></dt><dd>downwelling shortwave flux measured on secondary platform, might be tilted</dd><dt><span>standard_name :</span></dt><dd>min_downwelling_shortwave_flux_in_air</dd><dt><span>valid_range :</span></dt><dd>[   0 1023]</dd><dt><span>hangle :</span></dt><dd>0.0</dd><dt><span>vangle :</span></dt><dd>0.0</dd></dl></div><div class='xr-var-data'><pre>array([[0.00193548],\n       [0.00192473],\n       [0.00192473],\n       [0.00193548],\n       [0.00193548]], dtype=float32)</pre></div></li><li class='xr-var-item'><div class='xr-var-name'><span>ghi_max</span></div><div class='xr-var-dims'>(time, station)</div><div class='xr-var-dtype'>float32</div><div class='xr-var-preview xr-preview'>0.002086 0.002086 ... 0.002086</div><input id='attrs-e8f151c8-4d61-4518-a489-5141fd4858aa' class='xr-var-attrs-in' type='checkbox' ><label for='attrs-e8f151c8-4d61-4518-a489-5141fd4858aa' title='Show/Hide attributes'><svg class='icon xr-icon-file-text2'><use xlink:href='#icon-file-text2'></use></svg></label><input id='data-42c697a2-f3ea-4620-ab51-3e531e500c41' class='xr-var-data-in' type='checkbox'><label for='data-42c697a2-f3ea-4620-ab51-3e531e500c41' title='Show/Hide data repr'><svg class='icon xr-icon-database'><use xlink:href='#icon-database'></use></svg></label><div class='xr-var-attrs'><dl class='xr-attrs'><dt><span>units :</span></dt><dd>V</dd><dt><span>long_name :</span></dt><dd>downwelling shortwave flux</dd><dt><span>standard_name :</span></dt><dd>max_downwelling_shortwave_flux_in_air</dd><dt><span>valid_range :</span></dt><dd>[   0 1023]</dd></dl></div><div class='xr-var-data'><pre>array([[0.00208602],\n       [0.00208602],\n       [0.00208602],\n       [0.00208602],\n       [0.00208602]], dtype=float32)</pre></div></li><li class='xr-var-item'><div class='xr-var-name'><span>gti_max</span></div><div class='xr-var-dims'>(time, station)</div><div class='xr-var-dtype'>float32</div><div class='xr-var-preview xr-preview'>0.001935 0.001946 ... 0.001935</div><input id='attrs-c35c1972-e0f8-4280-ade2-d7a6f678ee60' class='xr-var-attrs-in' type='checkbox' ><label for='attrs-c35c1972-e0f8-4280-ade2-d7a6f678ee60' title='Show/Hide attributes'><svg class='icon xr-icon-file-text2'><use xlink:href='#icon-file-text2'></use></svg></label><input id='data-6a7fcd67-82db-4137-adc8-3f7eaba4224c' class='xr-var-data-in' type='checkbox'><label for='data-6a7fcd67-82db-4137-adc8-3f7eaba4224c' title='Show/Hide data repr'><svg class='icon xr-icon-database'><use xlink:href='#icon-database'></use></svg></label><div class='xr-var-attrs'><dl class='xr-attrs'><dt><span>units :</span></dt><dd>V</dd><dt><span>long_name :</span></dt><dd>downwelling shortwave flux measured on secondary platform, might be tilted</dd><dt><span>standard_name :</span></dt><dd>max_downwelling_shortwave_flux_in_air</dd><dt><span>valid_range :</span></dt><dd>[   0 1023]</dd><dt><span>hangle :</span></dt><dd>0.0</dd><dt><span>vangle :</span></dt><dd>0.0</dd></dl></div><div class='xr-var-data'><pre>array([[0.00193548],\n       [0.00194624],\n       [0.00194624],\n       [0.00193548],\n       [0.00193548]], dtype=float32)</pre></div></li><li class='xr-var-item'><div class='xr-var-name'><span>ghi_std</span></div><div class='xr-var-dims'>(time, station)</div><div class='xr-var-dtype'>float64</div><div class='xr-var-preview xr-preview'>0.0 3.4e-06 0.0 0.0 0.0</div><input id='attrs-260ffe7b-8a57-47a5-81e0-798a5f7acdf7' class='xr-var-attrs-in' type='checkbox' ><label for='attrs-260ffe7b-8a57-47a5-81e0-798a5f7acdf7' title='Show/Hide attributes'><svg class='icon xr-icon-file-text2'><use xlink:href='#icon-file-text2'></use></svg></label><input id='data-40ad6099-3138-4e98-b26d-347e9d042a0e' class='xr-var-data-in' type='checkbox'><label for='data-40ad6099-3138-4e98-b26d-347e9d042a0e' title='Show/Hide data repr'><svg class='icon xr-icon-database'><use xlink:href='#icon-database'></use></svg></label><div class='xr-var-attrs'><dl class='xr-attrs'><dt><span>units :</span></dt><dd>V</dd><dt><span>long_name :</span></dt><dd>downwelling shortwave flux</dd><dt><span>standard_name :</span></dt><dd>std_downwelling_shortwave_flux_in_air</dd><dt><span>valid_range :</span></dt><dd>[   0 1023]</dd></dl></div><div class='xr-var-data'><pre>array([[0.00000000e+00],\n       [3.40026587e-06],\n       [0.00000000e+00],\n       [0.00000000e+00],\n       [0.00000000e+00]])</pre></div></li><li class='xr-var-item'><div class='xr-var-name'><span>gti_std</span></div><div class='xr-var-dims'>(time, station)</div><div class='xr-var-dtype'>float64</div><div class='xr-var-preview xr-preview'>0.0 5.069e-06 6.104e-06 0.0 0.0</div><input id='attrs-f51169a3-9ed3-4de1-90ef-e3f1c844b0f4' class='xr-var-attrs-in' type='checkbox' ><label for='attrs-f51169a3-9ed3-4de1-90ef-e3f1c844b0f4' title='Show/Hide attributes'><svg class='icon xr-icon-file-text2'><use xlink:href='#icon-file-text2'></use></svg></label><input id='data-adce1470-2e9b-4419-8586-0ed12de2a8f4' class='xr-var-data-in' type='checkbox'><label for='data-adce1470-2e9b-4419-8586-0ed12de2a8f4' title='Show/Hide data repr'><svg class='icon xr-icon-database'><use xlink:href='#icon-database'></use></svg></label><div class='xr-var-attrs'><dl class='xr-attrs'><dt><span>units :</span></dt><dd>V</dd><dt><span>long_name :</span></dt><dd>downwelling shortwave flux measured on secondary platform, might be tilted</dd><dt><span>standard_name :</span></dt><dd>std_downwelling_shortwave_flux_in_air</dd><dt><span>valid_range :</span></dt><dd>[   0 1023]</dd><dt><span>hangle :</span></dt><dd>0.0</dd><dt><span>vangle :</span></dt><dd>0.0</dd></dl></div><div class='xr-var-data'><pre>array([[0.00000000e+00],\n       [5.06887196e-06],\n       [6.10373011e-06],\n       [0.00000000e+00],\n       [0.00000000e+00]])</pre></div></li><li class='xr-var-item'><div class='xr-var-name'><span>lat</span></div><div class='xr-var-dims'>(time, station)</div><div class='xr-var-dtype'>float64</div><div class='xr-var-preview xr-preview'>nan nan 51.39 51.39 51.39</div><input id='attrs-ec9b6dcf-c544-437c-bfb8-bfb866878289' class='xr-var-attrs-in' type='checkbox' ><label for='attrs-ec9b6dcf-c544-437c-bfb8-bfb866878289' title='Show/Hide attributes'><svg class='icon xr-icon-file-text2'><use xlink:href='#icon-file-text2'></use></svg></label><input id='data-4a448c29-a7d9-420f-aeb7-f71cbbb85437' class='xr-var-data-in' type='checkbox'><label for='data-4a448c29-a7d9-420f-aeb7-f71cbbb85437' title='Show/Hide data repr'><svg class='icon xr-icon-database'><use xlink:href='#icon-database'></use></svg></label><div class='xr-var-attrs'><dl class='xr-attrs'><dt><span>standard_name :</span></dt><dd>latitude</dd><dt><span>units :</span></dt><dd>degree_north</dd><dt><span>valid_range :</span></dt><dd>[-90.  90.]</dd></dl></div><div class='xr-var-data'><pre>array([[        nan],\n       [        nan],\n       [51.39021167],\n       [51.39021086],\n       [51.39021   ]])</pre></div></li><li class='xr-var-item'><div class='xr-var-name'><span>lon</span></div><div class='xr-var-dims'>(time, station)</div><div class='xr-var-dtype'>float64</div><div class='xr-var-preview xr-preview'>nan nan 11.89 11.89 11.89</div><input id='attrs-7f58daa0-5ef8-46e1-b221-7f47d9ef79ae' class='xr-var-attrs-in' type='checkbox' ><label for='attrs-7f58daa0-5ef8-46e1-b221-7f47d9ef79ae' title='Show/Hide attributes'><svg class='icon xr-icon-file-text2'><use xlink:href='#icon-file-text2'></use></svg></label><input id='data-a50c9e17-920d-4d23-969f-2f45fac7bb19' class='xr-var-data-in' type='checkbox'><label for='data-a50c9e17-920d-4d23-969f-2f45fac7bb19' title='Show/Hide data repr'><svg class='icon xr-icon-database'><use xlink:href='#icon-database'></use></svg></label><div class='xr-var-attrs'><dl class='xr-attrs'><dt><span>standard_name :</span></dt><dd>longitude</dd><dt><span>units :</span></dt><dd>degree_east</dd><dt><span>valid_range :</span></dt><dd>[-180.  180.]</dd></dl></div><div class='xr-var-data'><pre>array([[        nan],\n       [        nan],\n       [11.88525656],\n       [11.88525425],\n       [11.88525167]])</pre></div></li><li class='xr-var-item'><div class='xr-var-name'><span>maintenance_flag_ghi</span></div><div class='xr-var-dims'>(maintenancetime, station)</div><div class='xr-var-dtype'>float32</div><div class='xr-var-preview xr-preview'>9.0</div><input id='attrs-c8604425-3122-47f1-9ad8-046d3b057225' class='xr-var-attrs-in' type='checkbox' ><label for='attrs-c8604425-3122-47f1-9ad8-046d3b057225' title='Show/Hide attributes'><svg class='icon xr-icon-file-text2'><use xlink:href='#icon-file-text2'></use></svg></label><input id='data-938bf281-bef1-4ff0-910b-5e7394e9d0ce' class='xr-var-data-in' type='checkbox'><label for='data-938bf281-bef1-4ff0-910b-5e7394e9d0ce' title='Show/Hide data repr'><svg class='icon xr-icon-database'><use xlink:href='#icon-database'></use></svg></label><div class='xr-var-attrs'><dl class='xr-attrs'><dt><span>note_general :</span></dt><dd>222</dd><dt><span>note_clean :</span></dt><dd>testing notes</dd><dt><span>note_level :</span></dt><dd>test</dd><dt><span>valid_range :</span></dt><dd>[ 0 11]</dd></dl></div><div class='xr-var-data'><pre>array([[9.]], dtype=float32)</pre></div></li><li class='xr-var-item'><div class='xr-var-name'><span>maintenance_flag_gti</span></div><div class='xr-var-dims'>(maintenancetime, station)</div><div class='xr-var-dtype'>float32</div><div class='xr-var-preview xr-preview'>7.0</div><input id='attrs-1ac25a09-fcf9-4c68-91a0-e8ee52bf2cfe' class='xr-var-attrs-in' type='checkbox' ><label for='attrs-1ac25a09-fcf9-4c68-91a0-e8ee52bf2cfe' title='Show/Hide attributes'><svg class='icon xr-icon-file-text2'><use xlink:href='#icon-file-text2'></use></svg></label><input id='data-30a9c46c-937d-4ae6-9542-db98ac3b6976' class='xr-var-data-in' type='checkbox'><label for='data-30a9c46c-937d-4ae6-9542-db98ac3b6976' title='Show/Hide data repr'><svg class='icon xr-icon-database'><use xlink:href='#icon-database'></use></svg></label><div class='xr-var-attrs'><dl class='xr-attrs'><dt><span>note_general :</span></dt><dd>222</dd><dt><span>note_clean :</span></dt><dd></dd><dt><span>note_level :</span></dt><dd></dd><dt><span>valid_range :</span></dt><dd>[ 0 11]</dd></dl></div><div class='xr-var-data'><pre>array([[7.]], dtype=float32)</pre></div></li><li class='xr-var-item'><div class='xr-var-name'><span>szen</span></div><div class='xr-var-dims'>(time, station)</div><div class='xr-var-dtype'>float64</div><div class='xr-var-preview xr-preview'>nan nan 42.51 42.51 42.51</div><input id='attrs-458d6f66-e0a9-48a1-abd2-fc5cdf17d16e' class='xr-var-attrs-in' type='checkbox' ><label for='attrs-458d6f66-e0a9-48a1-abd2-fc5cdf17d16e' title='Show/Hide attributes'><svg class='icon xr-icon-file-text2'><use xlink:href='#icon-file-text2'></use></svg></label><input id='data-ac46d94e-9982-4d20-829f-66c078745639' class='xr-var-data-in' type='checkbox'><label for='data-ac46d94e-9982-4d20-829f-66c078745639' title='Show/Hide data repr'><svg class='icon xr-icon-database'><use xlink:href='#icon-database'></use></svg></label><div class='xr-var-attrs'><dl class='xr-attrs'><dt><span>standard_name :</span></dt><dd>solar_zenith_angle</dd><dt><span>units :</span></dt><dd>degree</dd><dt><span>valid_range :</span></dt><dd>[0, 36000]</dd></dl></div><div class='xr-var-data'><pre>array([[        nan],\n       [        nan],\n       [42.51185936],\n       [42.5119952 ],\n       [42.51213125]])</pre></div></li><li class='xr-var-item'><div class='xr-var-name'><span>sazi</span></div><div class='xr-var-dims'>(time, station)</div><div class='xr-var-dtype'>float64</div><div class='xr-var-preview xr-preview'>nan nan 182.9 182.9 182.9</div><input id='attrs-1a5df9df-6ee0-43d5-9a27-dac9fe16c047' class='xr-var-attrs-in' type='checkbox' ><label for='attrs-1a5df9df-6ee0-43d5-9a27-dac9fe16c047' title='Show/Hide attributes'><svg class='icon xr-icon-file-text2'><use xlink:href='#icon-file-text2'></use></svg></label><input id='data-fae9178d-d945-49d5-bf30-bbc0d54bd619' class='xr-var-data-in' type='checkbox'><label for='data-fae9178d-d945-49d5-bf30-bbc0d54bd619' title='Show/Hide data repr'><svg class='icon xr-icon-database'><use xlink:href='#icon-database'></use></svg></label><div class='xr-var-attrs'><dl class='xr-attrs'><dt><span>standard_name :</span></dt><dd>solar_azimuth_angle</dd><dt><span>units :</span></dt><dd>degree</dd><dt><span>valid_range :</span></dt><dd>[0, 36000]</dd></dl></div><div class='xr-var-data'><pre>array([[         nan],\n       [         nan],\n       [182.91893638],\n       [182.92502264],\n       [182.93110846]])</pre></div></li><li class='xr-var-item'><div class='xr-var-name'><span>esd</span></div><div class='xr-var-dims'>(station)</div><div class='xr-var-dtype'>float64</div><div class='xr-var-preview xr-preview'>1.01</div><input id='attrs-aa0ec68e-ceed-4b08-ad15-01fbddc3ec44' class='xr-var-attrs-in' type='checkbox' ><label for='attrs-aa0ec68e-ceed-4b08-ad15-01fbddc3ec44' title='Show/Hide attributes'><svg class='icon xr-icon-file-text2'><use xlink:href='#icon-file-text2'></use></svg></label><input id='data-964f34ce-8ede-453e-beaf-6c4b193189a8' class='xr-var-data-in' type='checkbox'><label for='data-964f34ce-8ede-453e-beaf-6c4b193189a8' title='Show/Hide data repr'><svg class='icon xr-icon-database'><use xlink:href='#icon-database'></use></svg></label><div class='xr-var-attrs'><dl class='xr-attrs'><dt><span>long_name :</span></dt><dd>Earth-sun distance</dd><dt><span>note :</span></dt><dd>Calculated based on Spencer (1971), as mean of its values over all time steps.</dd><dt><span>units :</span></dt><dd>ua</dd></dl></div><div class='xr-var-data'><pre>array([1.00959973])</pre></div></li></ul></div></li><li class='xr-section-item'><input id='section-7a3c1c22-7258-455e-a460-ca21787471d7' class='xr-section-summary-in' type='checkbox'  ><label for='section-7a3c1c22-7258-455e-a460-ca21787471d7' class='xr-section-summary' >Indexes: <span>(3)</span></label><div class='xr-section-inline-details'></div><div class='xr-section-details'><ul class='xr-var-list'><li class='xr-var-item'><div class='xr-index-name'><div>station</div></div><div class='xr-index-preview'>PandasIndex</div><div></div><input id='index-3cafffe7-1ce9-4e51-9ffa-2fda0590e9a2' class='xr-index-data-in' type='checkbox'/><label for='index-3cafffe7-1ce9-4e51-9ffa-2fda0590e9a2' title='Show/Hide index repr'><svg class='icon xr-icon-database'><use xlink:href='#icon-database'></use></svg></label><div class='xr-index-data'><pre>PandasIndex(Float64Index([1.0], dtype=&#x27;float64&#x27;, name=&#x27;station&#x27;))</pre></div></li><li class='xr-var-item'><div class='xr-index-name'><div>time</div></div><div class='xr-index-preview'>PandasIndex</div><div></div><input id='index-5b3cb62d-1cca-4162-9aec-fbf59adc814a' class='xr-index-data-in' type='checkbox'/><label for='index-5b3cb62d-1cca-4162-9aec-fbf59adc814a' title='Show/Hide index repr'><svg class='icon xr-icon-database'><use xlink:href='#icon-database'></use></svg></label><div class='xr-index-data'><pre>PandasIndex(DatetimeIndex([&#x27;2022-08-30 11:21:03&#x27;, &#x27;2022-08-30 11:21:04&#x27;,\n               &#x27;2022-08-30 11:21:05&#x27;, &#x27;2022-08-30 11:21:06&#x27;,\n               &#x27;2022-08-30 11:21:07&#x27;],\n              dtype=&#x27;datetime64[ns]&#x27;, name=&#x27;time&#x27;, freq=&#x27;S&#x27;))</pre></div></li><li class='xr-var-item'><div class='xr-index-name'><div>maintenancetime</div></div><div class='xr-index-preview'>PandasIndex</div><div></div><input id='index-8a53fdc3-011a-4a02-8b41-6ea55e74bcfc' class='xr-index-data-in' type='checkbox'/><label for='index-8a53fdc3-011a-4a02-8b41-6ea55e74bcfc' title='Show/Hide index repr'><svg class='icon xr-icon-database'><use xlink:href='#icon-database'></use></svg></label><div class='xr-index-data'><pre>PandasIndex(DatetimeIndex([&#x27;2023-05-08 16:09:06&#x27;], dtype=&#x27;datetime64[ns]&#x27;, name=&#x27;maintenancetime&#x27;, freq=None))</pre></div></li></ul></div></li><li class='xr-section-item'><input id='section-fcdc919f-3478-421e-be06-3d377db54346' class='xr-section-summary-in' type='checkbox'  ><label for='section-fcdc919f-3478-421e-be06-3d377db54346' class='xr-section-summary' >Attributes: <span>(31)</span></label><div class='xr-section-inline-details'></div><div class='xr-section-details'><dl class='xr-attrs'><dt><span>Conventions :</span></dt><dd>CF-1.10, ACDD-1.3</dd><dt><span>title :</span></dt><dd>TROPOS pyranometer network (PyrNet) observational data set</dd><dt><span>history :</span></dt><dd>2024-02-27T06:51:35: Generated level l1a  by pyrnet version 0.2.0+2.g8cd06c5.dirty; </dd><dt><span>institution :</span></dt><dd>Leibniz Institute for Tropospheric Research (TROPOS)</dd><dt><span>source :</span></dt><dd>TROPOS pyranometer network (PyrNet)</dd><dt><span>references :</span></dt><dd>https://doi.org/10.5194/amt-9-1153-2016</dd><dt><span>Department :</span></dt><dd>Remote Sensing of Atmospheric Processes</dd><dt><span>Department_team :</span></dt><dd>Clouds, Aerosol and Radiation</dd><dt><span>Address :</span></dt><dd>Permoser Str. 15, 04318 Leipzig, Germany</dd><dt><span>Contact_person :</span></dt><dd>Andreas Macke and the clouds, aerosol and radiation team of the remote sensing department, mailto:andreas.macke@tropos.de</dd><dt><span>Contributor_name :</span></dt><dd></dd><dt><span>Contributor_role :</span></dt><dd></dd><dt><span>Authors_software :</span></dt><dd>Hartwig Deneke, Jonas Witthuhn, mailto:deneke@tropos.de</dd><dt><span>Creator_name :</span></dt><dd></dd><dt><span>Project :</span></dt><dd></dd><dt><span>Standard_name_vocabulary :</span></dt><dd>CF Standard Name Table v81</dd><dt><span>License :</span></dt><dd>CC-BY-SA 3.0</dd><dt><span>TESTNOTE :</span></dt><dd>This is a test note.</dd><dt><span>processing_level :</span></dt><dd>l1a</dd><dt><span>product_version :</span></dt><dd>0.2.0+2.g8cd06c5.dirty</dd><dt><span>date_created :</span></dt><dd>2024-02-27T06:51:35</dd><dt><span>geospatial_lat_min :</span></dt><dd>51.390208333333334</dd><dt><span>geospatial_lat_max :</span></dt><dd>51.390211666666666</dd><dt><span>geospatial_lat_units :</span></dt><dd>degN</dd><dt><span>geospatial_lon_min :</span></dt><dd>11.885246666666667</dd><dt><span>geospatial_lon_max :</span></dt><dd>11.885256666666667</dd><dt><span>geospatial_lon_units :</span></dt><dd>degE</dd><dt><span>time_coverage_start :</span></dt><dd>2022-08-30T11:21:04.065000</dd><dt><span>time_coverage_end :</span></dt><dd>2022-08-30T11:21:09</dd><dt><span>time_coverage_duration :</span></dt><dd>P0DT0H0M4.935S</dd><dt><span>time_coverage_resolution :</span></dt><dd>P0DT0H0M1.23375S</dd></dl></div></li></ul></div></div>"
     },
     "execution_count": 30,
     "metadata": {},
     "output_type": "execute_result"
    }
   ],
   "source": [
    "#|dropcode\n",
    "#|dropout\n",
    "ds_l1b = ds_l1b.assign(\n",
    "    {\n",
    "        \"szen\": ((\"time\", \"station\"), szen[:,None]),\n",
    "        \"sazi\": ((\"time\", \"station\"), sazi[:,None]),\n",
    "        \"esd\": (\"station\", [esd])\n",
    "    }\n",
    ")\n",
    "for key in ['szen', 'sazi','esd']:\n",
    "    ds_l1b[key].attrs.update(vattrs[key])\n",
    "    # ds_l1b[key].encoding.update(vencode[key])\n",
    "ds_l1b"
   ]
  },
  {
   "cell_type": "markdown",
   "metadata": {
    "collapsed": false
   },
   "source": [
    "### **(Not implemented)** Alignment detection\n",
    "Detect the alignment of the instruments assuming perfect alignment at the beginning of the maintenance period. Refine GTI *hangle* and *vangle* if available. "
   ]
  },
  {
   "cell_type": "markdown",
   "source": [
    "### Calibrate radiation flux\n",
    "\n",
    "Calibration and correction of measured voltage (U) is done via the following equations:\n",
    "\n",
    "$ \\mathrm{GHI} = \\mathrm{U} * \\mathrm{C}_\\mathrm{a} * \\mathrm{C}_\\mathrm{c}(\\mu_a) * \\frac{\\mu_0}{\\mu_a}$,\n",
    "\n",
    "$ \\mathrm{GTI} = \\mathrm{U} * \\mathrm{C}_\\mathrm{a} * \\mathrm{C}_\\mathrm{c}(\\mu_a)$,\n",
    "\n",
    "with the absolute calibration factor $\\mathrm{C}_\\mathrm{a}$ $\\left(\\frac{W}{m^2}V^{-1}\\right)$ and the cosine correction factor $\\mathrm{C}_\\mathrm{c}$ which depends on the cosine of the apparent solar zenith angle ($\\mu_a$). The fraction $\\frac{\\mu_0}{\\mu_a}$ is applied as a factor to correct for misalignment (neglecting diffuse radiation) ([Boers et al. (1998)](http://dx.doi.org/10.1029/98JD01431)).\n",
    "\n",
    "Therefore, the full calibration including cosine and misalignment correction can only be applied if the apparent zenith angle is known. For GHI we apply the full calibration assuming $\\mu_a = \\mu_0$. For GTI, only the absolute calibration is added. GTI cosine correction is applied only if both *hangle* and *vangle* are known.  "
   ],
   "metadata": {
    "collapsed": false
   }
  },
  {
   "cell_type": "code",
   "execution_count": 31,
   "outputs": [
    {
     "name": "stdout",
     "output_type": "stream",
     "text": [
      "Meta Lookup:\n",
      ">> Box = 1.0\n",
      ">> serial(s) = ['S12128.001', 'S12137.049']\n",
      ">> calibration factor(s) = [7.73, 6.98]\n",
      ">> cosine correction factor = 1.45 - 3.04·x¹ + 5.59·x² - 3.01·x³,\n",
      ">>     with x = cos(apparent solar zenith angle)\n"
     ]
    },
    {
     "data": {
      "text/plain": "<xarray.Dataset>\nDimensions:               (station: 1, time: 5, maintenancetime: 1)\nCoordinates:\n  * station               (station) float64 1.0\n  * time                  (time) datetime64[ns] 2022-08-30T11:21:03 ... 2022-...\n  * maintenancetime       (maintenancetime) datetime64[ns] 2023-05-08T16:09:06\nData variables: (12/18)\n    ghi                   (time, station) float64 269.9 269.7 280.9 280.9 280.9\n    gti                   (time, station) float64 277.3 277.3 288.8 288.6 288.6\n    ta                    (time, station) float32 294.8 294.7 294.8 294.7 294.8\n    rh                    (time, station) float32 0.6263 0.6266 ... 0.6271 0.629\n    battery_voltage       (time, station) float32 6.445 6.446 6.45 6.448 6.458\n    ghi_min               (time, station) float64 269.9 268.5 280.9 280.9 280.9\n    ...                    ...\n    lon                   (time, station) float64 nan nan 11.89 11.89 11.89\n    maintenance_flag_ghi  (maintenancetime, station) float32 9.0\n    maintenance_flag_gti  (maintenancetime, station) float32 7.0\n    szen                  (time, station) float64 nan nan 42.51 42.51 42.51\n    sazi                  (time, station) float64 nan nan 182.9 182.9 182.9\n    esd                   (station) float64 1.01\nAttributes: (12/31)\n    Conventions:               CF-1.10, ACDD-1.3\n    title:                     TROPOS pyranometer network (PyrNet) observatio...\n    history:                   2024-02-27T06:51:35: Generated level l1a  by p...\n    institution:               Leibniz Institute for Tropospheric Research (T...\n    source:                    TROPOS pyranometer network (PyrNet)\n    references:                https://doi.org/10.5194/amt-9-1153-2016\n    ...                        ...\n    geospatial_lon_max:        11.885256666666667\n    geospatial_lon_units:      degE\n    time_coverage_start:       2022-08-30T11:21:04.065000\n    time_coverage_end:         2022-08-30T11:21:09\n    time_coverage_duration:    P0DT0H0M4.935S\n    time_coverage_resolution:  P0DT0H0M1.23375S",
      "text/html": "<div><svg style=\"position: absolute; width: 0; height: 0; overflow: hidden\">\n<defs>\n<symbol id=\"icon-database\" viewBox=\"0 0 32 32\">\n<path d=\"M16 0c-8.837 0-16 2.239-16 5v4c0 2.761 7.163 5 16 5s16-2.239 16-5v-4c0-2.761-7.163-5-16-5z\"></path>\n<path d=\"M16 17c-8.837 0-16-2.239-16-5v6c0 2.761 7.163 5 16 5s16-2.239 16-5v-6c0 2.761-7.163 5-16 5z\"></path>\n<path d=\"M16 26c-8.837 0-16-2.239-16-5v6c0 2.761 7.163 5 16 5s16-2.239 16-5v-6c0 2.761-7.163 5-16 5z\"></path>\n</symbol>\n<symbol id=\"icon-file-text2\" viewBox=\"0 0 32 32\">\n<path d=\"M28.681 7.159c-0.694-0.947-1.662-2.053-2.724-3.116s-2.169-2.030-3.116-2.724c-1.612-1.182-2.393-1.319-2.841-1.319h-15.5c-1.378 0-2.5 1.121-2.5 2.5v27c0 1.378 1.122 2.5 2.5 2.5h23c1.378 0 2.5-1.122 2.5-2.5v-19.5c0-0.448-0.137-1.23-1.319-2.841zM24.543 5.457c0.959 0.959 1.712 1.825 2.268 2.543h-4.811v-4.811c0.718 0.556 1.584 1.309 2.543 2.268zM28 29.5c0 0.271-0.229 0.5-0.5 0.5h-23c-0.271 0-0.5-0.229-0.5-0.5v-27c0-0.271 0.229-0.5 0.5-0.5 0 0 15.499-0 15.5 0v7c0 0.552 0.448 1 1 1h7v19.5z\"></path>\n<path d=\"M23 26h-14c-0.552 0-1-0.448-1-1s0.448-1 1-1h14c0.552 0 1 0.448 1 1s-0.448 1-1 1z\"></path>\n<path d=\"M23 22h-14c-0.552 0-1-0.448-1-1s0.448-1 1-1h14c0.552 0 1 0.448 1 1s-0.448 1-1 1z\"></path>\n<path d=\"M23 18h-14c-0.552 0-1-0.448-1-1s0.448-1 1-1h14c0.552 0 1 0.448 1 1s-0.448 1-1 1z\"></path>\n</symbol>\n</defs>\n</svg>\n<style>/* CSS stylesheet for displaying xarray objects in jupyterlab.\n *\n */\n\n:root {\n  --xr-font-color0: var(--jp-content-font-color0, rgba(0, 0, 0, 1));\n  --xr-font-color2: var(--jp-content-font-color2, rgba(0, 0, 0, 0.54));\n  --xr-font-color3: var(--jp-content-font-color3, rgba(0, 0, 0, 0.38));\n  --xr-border-color: var(--jp-border-color2, #e0e0e0);\n  --xr-disabled-color: var(--jp-layout-color3, #bdbdbd);\n  --xr-background-color: var(--jp-layout-color0, white);\n  --xr-background-color-row-even: var(--jp-layout-color1, white);\n  --xr-background-color-row-odd: var(--jp-layout-color2, #eeeeee);\n}\n\nhtml[theme=dark],\nbody[data-theme=dark],\nbody.vscode-dark {\n  --xr-font-color0: rgba(255, 255, 255, 1);\n  --xr-font-color2: rgba(255, 255, 255, 0.54);\n  --xr-font-color3: rgba(255, 255, 255, 0.38);\n  --xr-border-color: #1F1F1F;\n  --xr-disabled-color: #515151;\n  --xr-background-color: #111111;\n  --xr-background-color-row-even: #111111;\n  --xr-background-color-row-odd: #313131;\n}\n\n.xr-wrap {\n  display: block !important;\n  min-width: 300px;\n  max-width: 700px;\n}\n\n.xr-text-repr-fallback {\n  /* fallback to plain text repr when CSS is not injected (untrusted notebook) */\n  display: none;\n}\n\n.xr-header {\n  padding-top: 6px;\n  padding-bottom: 6px;\n  margin-bottom: 4px;\n  border-bottom: solid 1px var(--xr-border-color);\n}\n\n.xr-header > div,\n.xr-header > ul {\n  display: inline;\n  margin-top: 0;\n  margin-bottom: 0;\n}\n\n.xr-obj-type,\n.xr-array-name {\n  margin-left: 2px;\n  margin-right: 10px;\n}\n\n.xr-obj-type {\n  color: var(--xr-font-color2);\n}\n\n.xr-sections {\n  padding-left: 0 !important;\n  display: grid;\n  grid-template-columns: 150px auto auto 1fr 20px 20px;\n}\n\n.xr-section-item {\n  display: contents;\n}\n\n.xr-section-item input {\n  display: none;\n}\n\n.xr-section-item input + label {\n  color: var(--xr-disabled-color);\n}\n\n.xr-section-item input:enabled + label {\n  cursor: pointer;\n  color: var(--xr-font-color2);\n}\n\n.xr-section-item input:enabled + label:hover {\n  color: var(--xr-font-color0);\n}\n\n.xr-section-summary {\n  grid-column: 1;\n  color: var(--xr-font-color2);\n  font-weight: 500;\n}\n\n.xr-section-summary > span {\n  display: inline-block;\n  padding-left: 0.5em;\n}\n\n.xr-section-summary-in:disabled + label {\n  color: var(--xr-font-color2);\n}\n\n.xr-section-summary-in + label:before {\n  display: inline-block;\n  content: '►';\n  font-size: 11px;\n  width: 15px;\n  text-align: center;\n}\n\n.xr-section-summary-in:disabled + label:before {\n  color: var(--xr-disabled-color);\n}\n\n.xr-section-summary-in:checked + label:before {\n  content: '▼';\n}\n\n.xr-section-summary-in:checked + label > span {\n  display: none;\n}\n\n.xr-section-summary,\n.xr-section-inline-details {\n  padding-top: 4px;\n  padding-bottom: 4px;\n}\n\n.xr-section-inline-details {\n  grid-column: 2 / -1;\n}\n\n.xr-section-details {\n  display: none;\n  grid-column: 1 / -1;\n  margin-bottom: 5px;\n}\n\n.xr-section-summary-in:checked ~ .xr-section-details {\n  display: contents;\n}\n\n.xr-array-wrap {\n  grid-column: 1 / -1;\n  display: grid;\n  grid-template-columns: 20px auto;\n}\n\n.xr-array-wrap > label {\n  grid-column: 1;\n  vertical-align: top;\n}\n\n.xr-preview {\n  color: var(--xr-font-color3);\n}\n\n.xr-array-preview,\n.xr-array-data {\n  padding: 0 5px !important;\n  grid-column: 2;\n}\n\n.xr-array-data,\n.xr-array-in:checked ~ .xr-array-preview {\n  display: none;\n}\n\n.xr-array-in:checked ~ .xr-array-data,\n.xr-array-preview {\n  display: inline-block;\n}\n\n.xr-dim-list {\n  display: inline-block !important;\n  list-style: none;\n  padding: 0 !important;\n  margin: 0;\n}\n\n.xr-dim-list li {\n  display: inline-block;\n  padding: 0;\n  margin: 0;\n}\n\n.xr-dim-list:before {\n  content: '(';\n}\n\n.xr-dim-list:after {\n  content: ')';\n}\n\n.xr-dim-list li:not(:last-child):after {\n  content: ',';\n  padding-right: 5px;\n}\n\n.xr-has-index {\n  font-weight: bold;\n}\n\n.xr-var-list,\n.xr-var-item {\n  display: contents;\n}\n\n.xr-var-item > div,\n.xr-var-item label,\n.xr-var-item > .xr-var-name span {\n  background-color: var(--xr-background-color-row-even);\n  margin-bottom: 0;\n}\n\n.xr-var-item > .xr-var-name:hover span {\n  padding-right: 5px;\n}\n\n.xr-var-list > li:nth-child(odd) > div,\n.xr-var-list > li:nth-child(odd) > label,\n.xr-var-list > li:nth-child(odd) > .xr-var-name span {\n  background-color: var(--xr-background-color-row-odd);\n}\n\n.xr-var-name {\n  grid-column: 1;\n}\n\n.xr-var-dims {\n  grid-column: 2;\n}\n\n.xr-var-dtype {\n  grid-column: 3;\n  text-align: right;\n  color: var(--xr-font-color2);\n}\n\n.xr-var-preview {\n  grid-column: 4;\n}\n\n.xr-index-preview {\n  grid-column: 2 / 5;\n  color: var(--xr-font-color2);\n}\n\n.xr-var-name,\n.xr-var-dims,\n.xr-var-dtype,\n.xr-preview,\n.xr-attrs dt {\n  white-space: nowrap;\n  overflow: hidden;\n  text-overflow: ellipsis;\n  padding-right: 10px;\n}\n\n.xr-var-name:hover,\n.xr-var-dims:hover,\n.xr-var-dtype:hover,\n.xr-attrs dt:hover {\n  overflow: visible;\n  width: auto;\n  z-index: 1;\n}\n\n.xr-var-attrs,\n.xr-var-data,\n.xr-index-data {\n  display: none;\n  background-color: var(--xr-background-color) !important;\n  padding-bottom: 5px !important;\n}\n\n.xr-var-attrs-in:checked ~ .xr-var-attrs,\n.xr-var-data-in:checked ~ .xr-var-data,\n.xr-index-data-in:checked ~ .xr-index-data {\n  display: block;\n}\n\n.xr-var-data > table {\n  float: right;\n}\n\n.xr-var-name span,\n.xr-var-data,\n.xr-index-name div,\n.xr-index-data,\n.xr-attrs {\n  padding-left: 25px !important;\n}\n\n.xr-attrs,\n.xr-var-attrs,\n.xr-var-data,\n.xr-index-data {\n  grid-column: 1 / -1;\n}\n\ndl.xr-attrs {\n  padding: 0;\n  margin: 0;\n  display: grid;\n  grid-template-columns: 125px auto;\n}\n\n.xr-attrs dt,\n.xr-attrs dd {\n  padding: 0;\n  margin: 0;\n  float: left;\n  padding-right: 10px;\n  width: auto;\n}\n\n.xr-attrs dt {\n  font-weight: normal;\n  grid-column: 1;\n}\n\n.xr-attrs dt:hover span {\n  display: inline-block;\n  background: var(--xr-background-color);\n  padding-right: 10px;\n}\n\n.xr-attrs dd {\n  grid-column: 2;\n  white-space: pre-wrap;\n  word-break: break-all;\n}\n\n.xr-icon-database,\n.xr-icon-file-text2,\n.xr-no-icon {\n  display: inline-block;\n  vertical-align: middle;\n  width: 1em;\n  height: 1.5em !important;\n  stroke-width: 0;\n  stroke: currentColor;\n  fill: currentColor;\n}\n</style><pre class='xr-text-repr-fallback'>&lt;xarray.Dataset&gt;\nDimensions:               (station: 1, time: 5, maintenancetime: 1)\nCoordinates:\n  * station               (station) float64 1.0\n  * time                  (time) datetime64[ns] 2022-08-30T11:21:03 ... 2022-...\n  * maintenancetime       (maintenancetime) datetime64[ns] 2023-05-08T16:09:06\nData variables: (12/18)\n    ghi                   (time, station) float64 269.9 269.7 280.9 280.9 280.9\n    gti                   (time, station) float64 277.3 277.3 288.8 288.6 288.6\n    ta                    (time, station) float32 294.8 294.7 294.8 294.7 294.8\n    rh                    (time, station) float32 0.6263 0.6266 ... 0.6271 0.629\n    battery_voltage       (time, station) float32 6.445 6.446 6.45 6.448 6.458\n    ghi_min               (time, station) float64 269.9 268.5 280.9 280.9 280.9\n    ...                    ...\n    lon                   (time, station) float64 nan nan 11.89 11.89 11.89\n    maintenance_flag_ghi  (maintenancetime, station) float32 9.0\n    maintenance_flag_gti  (maintenancetime, station) float32 7.0\n    szen                  (time, station) float64 nan nan 42.51 42.51 42.51\n    sazi                  (time, station) float64 nan nan 182.9 182.9 182.9\n    esd                   (station) float64 1.01\nAttributes: (12/31)\n    Conventions:               CF-1.10, ACDD-1.3\n    title:                     TROPOS pyranometer network (PyrNet) observatio...\n    history:                   2024-02-27T06:51:35: Generated level l1a  by p...\n    institution:               Leibniz Institute for Tropospheric Research (T...\n    source:                    TROPOS pyranometer network (PyrNet)\n    references:                https://doi.org/10.5194/amt-9-1153-2016\n    ...                        ...\n    geospatial_lon_max:        11.885256666666667\n    geospatial_lon_units:      degE\n    time_coverage_start:       2022-08-30T11:21:04.065000\n    time_coverage_end:         2022-08-30T11:21:09\n    time_coverage_duration:    P0DT0H0M4.935S\n    time_coverage_resolution:  P0DT0H0M1.23375S</pre><div class='xr-wrap' style='display:none'><div class='xr-header'><div class='xr-obj-type'>xarray.Dataset</div></div><ul class='xr-sections'><li class='xr-section-item'><input id='section-460b55c4-952c-427a-bcdc-d991ca58ab1b' class='xr-section-summary-in' type='checkbox' disabled ><label for='section-460b55c4-952c-427a-bcdc-d991ca58ab1b' class='xr-section-summary'  title='Expand/collapse section'>Dimensions:</label><div class='xr-section-inline-details'><ul class='xr-dim-list'><li><span class='xr-has-index'>station</span>: 1</li><li><span class='xr-has-index'>time</span>: 5</li><li><span class='xr-has-index'>maintenancetime</span>: 1</li></ul></div><div class='xr-section-details'></div></li><li class='xr-section-item'><input id='section-5a3ea952-8f6e-4a25-bbad-8130fcf56b8f' class='xr-section-summary-in' type='checkbox'  checked><label for='section-5a3ea952-8f6e-4a25-bbad-8130fcf56b8f' class='xr-section-summary' >Coordinates: <span>(3)</span></label><div class='xr-section-inline-details'></div><div class='xr-section-details'><ul class='xr-var-list'><li class='xr-var-item'><div class='xr-var-name'><span class='xr-has-index'>station</span></div><div class='xr-var-dims'>(station)</div><div class='xr-var-dtype'>float64</div><div class='xr-var-preview xr-preview'>1.0</div><input id='attrs-7679545f-a7fb-4b72-a107-51ec1779a41d' class='xr-var-attrs-in' type='checkbox' ><label for='attrs-7679545f-a7fb-4b72-a107-51ec1779a41d' title='Show/Hide attributes'><svg class='icon xr-icon-file-text2'><use xlink:href='#icon-file-text2'></use></svg></label><input id='data-0373c2ae-7648-4907-8193-4e1d4d71e118' class='xr-var-data-in' type='checkbox'><label for='data-0373c2ae-7648-4907-8193-4e1d4d71e118' title='Show/Hide data repr'><svg class='icon xr-icon-database'><use xlink:href='#icon-database'></use></svg></label><div class='xr-var-attrs'><dl class='xr-attrs'><dt><span>units :</span></dt><dd>-</dd><dt><span>long_name :</span></dt><dd>PyrNet unit box number</dd></dl></div><div class='xr-var-data'><pre>array([1.])</pre></div></li><li class='xr-var-item'><div class='xr-var-name'><span class='xr-has-index'>time</span></div><div class='xr-var-dims'>(time)</div><div class='xr-var-dtype'>datetime64[ns]</div><div class='xr-var-preview xr-preview'>2022-08-30T11:21:03 ... 2022-08-...</div><input id='attrs-13eded7d-5065-4ebf-884e-512ce69bd3e1' class='xr-var-attrs-in' type='checkbox' disabled><label for='attrs-13eded7d-5065-4ebf-884e-512ce69bd3e1' title='Show/Hide attributes'><svg class='icon xr-icon-file-text2'><use xlink:href='#icon-file-text2'></use></svg></label><input id='data-01cd0b40-c551-4b7d-b85f-0472d61fa979' class='xr-var-data-in' type='checkbox'><label for='data-01cd0b40-c551-4b7d-b85f-0472d61fa979' title='Show/Hide data repr'><svg class='icon xr-icon-database'><use xlink:href='#icon-database'></use></svg></label><div class='xr-var-attrs'><dl class='xr-attrs'></dl></div><div class='xr-var-data'><pre>array([&#x27;2022-08-30T11:21:03.000000000&#x27;, &#x27;2022-08-30T11:21:04.000000000&#x27;,\n       &#x27;2022-08-30T11:21:05.000000000&#x27;, &#x27;2022-08-30T11:21:06.000000000&#x27;,\n       &#x27;2022-08-30T11:21:07.000000000&#x27;], dtype=&#x27;datetime64[ns]&#x27;)</pre></div></li><li class='xr-var-item'><div class='xr-var-name'><span class='xr-has-index'>maintenancetime</span></div><div class='xr-var-dims'>(maintenancetime)</div><div class='xr-var-dtype'>datetime64[ns]</div><div class='xr-var-preview xr-preview'>2023-05-08T16:09:06</div><input id='attrs-05c1bdbb-58aa-4ac1-ba7a-dc3e642e06ac' class='xr-var-attrs-in' type='checkbox' disabled><label for='attrs-05c1bdbb-58aa-4ac1-ba7a-dc3e642e06ac' title='Show/Hide attributes'><svg class='icon xr-icon-file-text2'><use xlink:href='#icon-file-text2'></use></svg></label><input id='data-358cf083-03b9-4461-b511-8f78190d34fc' class='xr-var-data-in' type='checkbox'><label for='data-358cf083-03b9-4461-b511-8f78190d34fc' title='Show/Hide data repr'><svg class='icon xr-icon-database'><use xlink:href='#icon-database'></use></svg></label><div class='xr-var-attrs'><dl class='xr-attrs'></dl></div><div class='xr-var-data'><pre>array([&#x27;2023-05-08T16:09:06.000000000&#x27;], dtype=&#x27;datetime64[ns]&#x27;)</pre></div></li></ul></div></li><li class='xr-section-item'><input id='section-1b7fd508-b60c-4b04-ba05-40f31fd81e7a' class='xr-section-summary-in' type='checkbox'  ><label for='section-1b7fd508-b60c-4b04-ba05-40f31fd81e7a' class='xr-section-summary' >Data variables: <span>(18)</span></label><div class='xr-section-inline-details'></div><div class='xr-section-details'><ul class='xr-var-list'><li class='xr-var-item'><div class='xr-var-name'><span>ghi</span></div><div class='xr-var-dims'>(time, station)</div><div class='xr-var-dtype'>float64</div><div class='xr-var-preview xr-preview'>269.9 269.7 280.9 280.9 280.9</div><input id='attrs-3d56d76e-144d-4f0e-a1ba-4e99be1701c3' class='xr-var-attrs-in' type='checkbox' ><label for='attrs-3d56d76e-144d-4f0e-a1ba-4e99be1701c3' title='Show/Hide attributes'><svg class='icon xr-icon-file-text2'><use xlink:href='#icon-file-text2'></use></svg></label><input id='data-71e406a2-170d-4b37-9acf-204fc41c3eb3' class='xr-var-data-in' type='checkbox'><label for='data-71e406a2-170d-4b37-9acf-204fc41c3eb3' title='Show/Hide data repr'><svg class='icon xr-icon-database'><use xlink:href='#icon-database'></use></svg></label><div class='xr-var-attrs'><dl class='xr-attrs'><dt><span>units :</span></dt><dd>W m-2</dd><dt><span>long_name :</span></dt><dd>downwelling shortwave flux</dd><dt><span>standard_name :</span></dt><dd>downwelling_shortwave_flux_in_air</dd><dt><span>valid_range :</span></dt><dd>[   0 1023]</dd><dt><span>serial :</span></dt><dd>S12128.001</dd><dt><span>calibration_Cabsolute :</span></dt><dd>129366.10608020698</dd><dt><span>calibration_Ccoscorr :</span></dt><dd>1.45 - 3.04·x¹ + 5.59·x² - 3.01·x³</dd><dt><span>calibration_function :</span></dt><dd>flux (W m-2) = flux (V) * Cabsolute (W m-2 V-1) * Ccoscorr(mua)</dd></dl></div><div class='xr-var-data'><pre>array([[269.860475  ],\n       [269.72137902],\n       [280.90462604],\n       [280.90449869],\n       [280.90437115]])</pre></div></li><li class='xr-var-item'><div class='xr-var-name'><span>gti</span></div><div class='xr-var-dims'>(time, station)</div><div class='xr-var-dtype'>float64</div><div class='xr-var-preview xr-preview'>277.3 277.3 288.8 288.6 288.6</div><input id='attrs-9c03ee30-23da-423d-94a8-aa894bf924a7' class='xr-var-attrs-in' type='checkbox' ><label for='attrs-9c03ee30-23da-423d-94a8-aa894bf924a7' title='Show/Hide attributes'><svg class='icon xr-icon-file-text2'><use xlink:href='#icon-file-text2'></use></svg></label><input id='data-6c15c72c-1154-4414-9a2a-9c57a6ece609' class='xr-var-data-in' type='checkbox'><label for='data-6c15c72c-1154-4414-9a2a-9c57a6ece609' title='Show/Hide data repr'><svg class='icon xr-icon-database'><use xlink:href='#icon-database'></use></svg></label><div class='xr-var-attrs'><dl class='xr-attrs'><dt><span>units :</span></dt><dd>W m-2</dd><dt><span>long_name :</span></dt><dd>downwelling shortwave flux measured on secondary platform, might be tilted</dd><dt><span>standard_name :</span></dt><dd>downwelling_shortwave_flux_in_air</dd><dt><span>valid_range :</span></dt><dd>[   0 1023]</dd><dt><span>hangle :</span></dt><dd>0.0</dd><dt><span>vangle :</span></dt><dd>0.0</dd><dt><span>serial :</span></dt><dd>S12137.049</dd><dt><span>calibration_Cabsolute :</span></dt><dd>143266.47564469912</dd><dt><span>calibration_Ccoscorr :</span></dt><dd>1.45 - 3.04·x¹ + 5.59·x² - 3.01·x³</dd><dt><span>calibration_function :</span></dt><dd>flux (W m-2) = flux (V) * Cabsolute (W m-2 V-1) * Ccoscorr(mua)</dd></dl></div><div class='xr-var-data'><pre>array([[277.28995527],\n       [277.28995527],\n       [288.79852425],\n       [288.63802999],\n       [288.63789894]])</pre></div></li><li class='xr-var-item'><div class='xr-var-name'><span>ta</span></div><div class='xr-var-dims'>(time, station)</div><div class='xr-var-dtype'>float32</div><div class='xr-var-preview xr-preview'>294.8 294.7 294.8 294.7 294.8</div><input id='attrs-c1f8f199-0967-4476-8443-97535aa96e8a' class='xr-var-attrs-in' type='checkbox' ><label for='attrs-c1f8f199-0967-4476-8443-97535aa96e8a' title='Show/Hide attributes'><svg class='icon xr-icon-file-text2'><use xlink:href='#icon-file-text2'></use></svg></label><input id='data-ee125ed1-80b9-4526-ad2b-a93ca5ca8fa4' class='xr-var-data-in' type='checkbox'><label for='data-ee125ed1-80b9-4526-ad2b-a93ca5ca8fa4' title='Show/Hide data repr'><svg class='icon xr-icon-database'><use xlink:href='#icon-database'></use></svg></label><div class='xr-var-attrs'><dl class='xr-attrs'><dt><span>units :</span></dt><dd>K</dd><dt><span>long_name :</span></dt><dd>air temperature</dd><dt><span>standard_name :</span></dt><dd>air_temperature</dd><dt><span>valid_range :</span></dt><dd>[  0 775]</dd></dl></div><div class='xr-var-data'><pre>array([[294.7758 ],\n       [294.74997],\n       [294.7887 ],\n       [294.74997],\n       [294.82742]], dtype=float32)</pre></div></li><li class='xr-var-item'><div class='xr-var-name'><span>rh</span></div><div class='xr-var-dims'>(time, station)</div><div class='xr-var-dtype'>float32</div><div class='xr-var-preview xr-preview'>0.6263 0.6266 0.6271 0.6271 0.629</div><input id='attrs-78a43ffe-518b-4c86-90fe-5a23a04dade3' class='xr-var-attrs-in' type='checkbox' ><label for='attrs-78a43ffe-518b-4c86-90fe-5a23a04dade3' title='Show/Hide attributes'><svg class='icon xr-icon-file-text2'><use xlink:href='#icon-file-text2'></use></svg></label><input id='data-e3405825-c0bf-44f1-b2d4-9c93a06d49de' class='xr-var-data-in' type='checkbox'><label for='data-e3405825-c0bf-44f1-b2d4-9c93a06d49de' title='Show/Hide data repr'><svg class='icon xr-icon-database'><use xlink:href='#icon-database'></use></svg></label><div class='xr-var-attrs'><dl class='xr-attrs'><dt><span>units :</span></dt><dd>1</dd><dt><span>long_name :</span></dt><dd>air relative humidity</dd><dt><span>standard_name :</span></dt><dd>relative_humidity</dd><dt><span>valid_range :</span></dt><dd>[  0 775]</dd></dl></div><div class='xr-var-data'><pre>array([[0.62632257],\n       [0.6265806 ],\n       [0.6270968 ],\n       [0.6270968 ],\n       [0.62903225]], dtype=float32)</pre></div></li><li class='xr-var-item'><div class='xr-var-name'><span>battery_voltage</span></div><div class='xr-var-dims'>(time, station)</div><div class='xr-var-dtype'>float32</div><div class='xr-var-preview xr-preview'>6.445 6.446 6.45 6.448 6.458</div><input id='attrs-cde88947-cfe8-40b7-bfbe-869987f1992b' class='xr-var-attrs-in' type='checkbox' ><label for='attrs-cde88947-cfe8-40b7-bfbe-869987f1992b' title='Show/Hide attributes'><svg class='icon xr-icon-file-text2'><use xlink:href='#icon-file-text2'></use></svg></label><input id='data-190c978c-ecea-4464-8728-ca691355f372' class='xr-var-data-in' type='checkbox'><label for='data-190c978c-ecea-4464-8728-ca691355f372' title='Show/Hide data repr'><svg class='icon xr-icon-database'><use xlink:href='#icon-database'></use></svg></label><div class='xr-var-attrs'><dl class='xr-attrs'><dt><span>units :</span></dt><dd>V</dd><dt><span>standard_name :</span></dt><dd>battery_voltage</dd><dt><span>valid_range :</span></dt><dd>[  0 992]</dd></dl></div><div class='xr-var-data'><pre>array([[6.4451613],\n       [6.445807 ],\n       [6.4496775],\n       [6.4477415],\n       [6.4580646]], dtype=float32)</pre></div></li><li class='xr-var-item'><div class='xr-var-name'><span>ghi_min</span></div><div class='xr-var-dims'>(time, station)</div><div class='xr-var-dtype'>float64</div><div class='xr-var-preview xr-preview'>269.9 268.5 280.9 280.9 280.9</div><input id='attrs-ca74ca3f-33e9-414e-968e-5ecc6b06b082' class='xr-var-attrs-in' type='checkbox' ><label for='attrs-ca74ca3f-33e9-414e-968e-5ecc6b06b082' title='Show/Hide attributes'><svg class='icon xr-icon-file-text2'><use xlink:href='#icon-file-text2'></use></svg></label><input id='data-609caf2d-c147-4285-ae84-668f661dc99d' class='xr-var-data-in' type='checkbox'><label for='data-609caf2d-c147-4285-ae84-668f661dc99d' title='Show/Hide data repr'><svg class='icon xr-icon-database'><use xlink:href='#icon-database'></use></svg></label><div class='xr-var-attrs'><dl class='xr-attrs'><dt><span>units :</span></dt><dd>W m-2</dd><dt><span>long_name :</span></dt><dd>downwelling shortwave flux</dd><dt><span>standard_name :</span></dt><dd>min_downwelling_shortwave_flux_in_air</dd><dt><span>valid_range :</span></dt><dd>[   0 1023]</dd><dt><span>serial :</span></dt><dd>S12128.001</dd><dt><span>calibration_Cabsolute :</span></dt><dd>129366.10608020698</dd><dt><span>calibration_Ccoscorr :</span></dt><dd>1.45 - 3.04·x¹ + 5.59·x² - 3.01·x³</dd><dt><span>calibration_function :</span></dt><dd>flux (W m-2) = flux (V) * Cabsolute (W m-2 V-1) * Ccoscorr(mua)</dd></dl></div><div class='xr-var-data'><pre>array([[269.860475  ],\n       [268.46945498],\n       [280.90462604],\n       [280.90449869],\n       [280.90437115]])</pre></div></li><li class='xr-var-item'><div class='xr-var-name'><span>gti_min</span></div><div class='xr-var-dims'>(time, station)</div><div class='xr-var-dtype'>float64</div><div class='xr-var-preview xr-preview'>277.3 275.7 287.0 288.6 288.6</div><input id='attrs-f1c2b4f0-18d4-4f80-8cfc-0c95319015d6' class='xr-var-attrs-in' type='checkbox' ><label for='attrs-f1c2b4f0-18d4-4f80-8cfc-0c95319015d6' title='Show/Hide attributes'><svg class='icon xr-icon-file-text2'><use xlink:href='#icon-file-text2'></use></svg></label><input id='data-b0b5bb1a-4865-47a5-9d5e-ae7731747da8' class='xr-var-data-in' type='checkbox'><label for='data-b0b5bb1a-4865-47a5-9d5e-ae7731747da8' title='Show/Hide data repr'><svg class='icon xr-icon-database'><use xlink:href='#icon-database'></use></svg></label><div class='xr-var-attrs'><dl class='xr-attrs'><dt><span>units :</span></dt><dd>W m-2</dd><dt><span>long_name :</span></dt><dd>downwelling shortwave flux measured on secondary platform, might be tilted</dd><dt><span>standard_name :</span></dt><dd>min_downwelling_shortwave_flux_in_air</dd><dt><span>valid_range :</span></dt><dd>[   0 1023]</dd><dt><span>hangle :</span></dt><dd>0.0</dd><dt><span>vangle :</span></dt><dd>0.0</dd><dt><span>serial :</span></dt><dd>S12137.049</dd><dt><span>calibration_Cabsolute :</span></dt><dd>143266.47564469912</dd><dt><span>calibration_Ccoscorr :</span></dt><dd>1.45 - 3.04·x¹ + 5.59·x² - 3.01·x³</dd><dt><span>calibration_function :</span></dt><dd>flux (W m-2) = flux (V) * Cabsolute (W m-2 V-1) * Ccoscorr(mua)</dd></dl></div><div class='xr-var-data'><pre>array([[277.28995527],\n       [275.74945367],\n       [287.03461358],\n       [288.63802999],\n       [288.63789894]])</pre></div></li><li class='xr-var-item'><div class='xr-var-name'><span>ghi_max</span></div><div class='xr-var-dims'>(time, station)</div><div class='xr-var-dtype'>float64</div><div class='xr-var-preview xr-preview'>269.9 269.9 280.9 280.9 280.9</div><input id='attrs-039e1df4-c877-4184-a0be-a5a056f6ea72' class='xr-var-attrs-in' type='checkbox' ><label for='attrs-039e1df4-c877-4184-a0be-a5a056f6ea72' title='Show/Hide attributes'><svg class='icon xr-icon-file-text2'><use xlink:href='#icon-file-text2'></use></svg></label><input id='data-ea186c72-af97-43ae-aeda-7153acf683c6' class='xr-var-data-in' type='checkbox'><label for='data-ea186c72-af97-43ae-aeda-7153acf683c6' title='Show/Hide data repr'><svg class='icon xr-icon-database'><use xlink:href='#icon-database'></use></svg></label><div class='xr-var-attrs'><dl class='xr-attrs'><dt><span>units :</span></dt><dd>W m-2</dd><dt><span>long_name :</span></dt><dd>downwelling shortwave flux</dd><dt><span>standard_name :</span></dt><dd>max_downwelling_shortwave_flux_in_air</dd><dt><span>valid_range :</span></dt><dd>[   0 1023]</dd><dt><span>serial :</span></dt><dd>S12128.001</dd><dt><span>calibration_Cabsolute :</span></dt><dd>129366.10608020698</dd><dt><span>calibration_Ccoscorr :</span></dt><dd>1.45 - 3.04·x¹ + 5.59·x² - 3.01·x³</dd><dt><span>calibration_function :</span></dt><dd>flux (W m-2) = flux (V) * Cabsolute (W m-2 V-1) * Ccoscorr(mua)</dd></dl></div><div class='xr-var-data'><pre>array([[269.860475  ],\n       [269.860475  ],\n       [280.90462604],\n       [280.90449869],\n       [280.90437115]])</pre></div></li><li class='xr-var-item'><div class='xr-var-name'><span>gti_max</span></div><div class='xr-var-dims'>(time, station)</div><div class='xr-var-dtype'>float64</div><div class='xr-var-preview xr-preview'>277.3 278.8 290.2 288.6 288.6</div><input id='attrs-855f4fa4-1ed8-4e19-9869-990c5b07c36b' class='xr-var-attrs-in' type='checkbox' ><label for='attrs-855f4fa4-1ed8-4e19-9869-990c5b07c36b' title='Show/Hide attributes'><svg class='icon xr-icon-file-text2'><use xlink:href='#icon-file-text2'></use></svg></label><input id='data-9784f88e-0bd5-47b3-8617-4324a828ea7a' class='xr-var-data-in' type='checkbox'><label for='data-9784f88e-0bd5-47b3-8617-4324a828ea7a' title='Show/Hide data repr'><svg class='icon xr-icon-database'><use xlink:href='#icon-database'></use></svg></label><div class='xr-var-attrs'><dl class='xr-attrs'><dt><span>units :</span></dt><dd>W m-2</dd><dt><span>long_name :</span></dt><dd>downwelling shortwave flux measured on secondary platform, might be tilted</dd><dt><span>standard_name :</span></dt><dd>max_downwelling_shortwave_flux_in_air</dd><dt><span>valid_range :</span></dt><dd>[   0 1023]</dd><dt><span>hangle :</span></dt><dd>0.0</dd><dt><span>vangle :</span></dt><dd>0.0</dd><dt><span>serial :</span></dt><dd>S12137.049</dd><dt><span>calibration_Cabsolute :</span></dt><dd>143266.47564469912</dd><dt><span>calibration_Ccoscorr :</span></dt><dd>1.45 - 3.04·x¹ + 5.59·x² - 3.01·x³</dd><dt><span>calibration_function :</span></dt><dd>flux (W m-2) = flux (V) * Cabsolute (W m-2 V-1) * Ccoscorr(mua)</dd></dl></div><div class='xr-var-data'><pre>array([[277.28995527],\n       [278.83045688],\n       [290.24170811],\n       [288.63802999],\n       [288.63789894]])</pre></div></li><li class='xr-var-item'><div class='xr-var-name'><span>ghi_std</span></div><div class='xr-var-dims'>(time, station)</div><div class='xr-var-dtype'>float64</div><div class='xr-var-preview xr-preview'>0.0 0.4399 0.0 0.0 0.0</div><input id='attrs-320cc846-76ce-4cb9-a0c9-f6b683136404' class='xr-var-attrs-in' type='checkbox' ><label for='attrs-320cc846-76ce-4cb9-a0c9-f6b683136404' title='Show/Hide attributes'><svg class='icon xr-icon-file-text2'><use xlink:href='#icon-file-text2'></use></svg></label><input id='data-9e531252-c261-44e8-9834-5efb3cf55830' class='xr-var-data-in' type='checkbox'><label for='data-9e531252-c261-44e8-9834-5efb3cf55830' title='Show/Hide data repr'><svg class='icon xr-icon-database'><use xlink:href='#icon-database'></use></svg></label><div class='xr-var-attrs'><dl class='xr-attrs'><dt><span>units :</span></dt><dd>W m-2</dd><dt><span>long_name :</span></dt><dd>downwelling shortwave flux</dd><dt><span>standard_name :</span></dt><dd>std_downwelling_shortwave_flux_in_air</dd><dt><span>valid_range :</span></dt><dd>[   0 1023]</dd><dt><span>serial :</span></dt><dd>S12128.001</dd><dt><span>calibration_Cabsolute :</span></dt><dd>129366.10608020698</dd><dt><span>calibration_Ccoscorr :</span></dt><dd>1.45 - 3.04·x¹ + 5.59·x² - 3.01·x³</dd><dt><span>calibration_function :</span></dt><dd>flux (W m-2) = flux (V) * Cabsolute (W m-2 V-1) * Ccoscorr(mua)</dd></dl></div><div class='xr-var-data'><pre>array([[0.        ],\n       [0.43987915],\n       [0.        ],\n       [0.        ],\n       [0.        ]])</pre></div></li><li class='xr-var-item'><div class='xr-var-name'><span>gti_std</span></div><div class='xr-var-dims'>(time, station)</div><div class='xr-var-dtype'>float64</div><div class='xr-var-preview xr-preview'>0.0 0.7262 0.9102 0.0 0.0</div><input id='attrs-afbdb062-7c67-4d0e-b55b-6855f181cb5d' class='xr-var-attrs-in' type='checkbox' ><label for='attrs-afbdb062-7c67-4d0e-b55b-6855f181cb5d' title='Show/Hide attributes'><svg class='icon xr-icon-file-text2'><use xlink:href='#icon-file-text2'></use></svg></label><input id='data-1dbd0bf7-6188-4c35-9a0c-7057a19591d5' class='xr-var-data-in' type='checkbox'><label for='data-1dbd0bf7-6188-4c35-9a0c-7057a19591d5' title='Show/Hide data repr'><svg class='icon xr-icon-database'><use xlink:href='#icon-database'></use></svg></label><div class='xr-var-attrs'><dl class='xr-attrs'><dt><span>units :</span></dt><dd>W m-2</dd><dt><span>long_name :</span></dt><dd>downwelling shortwave flux measured on secondary platform, might be tilted</dd><dt><span>standard_name :</span></dt><dd>std_downwelling_shortwave_flux_in_air</dd><dt><span>valid_range :</span></dt><dd>[   0 1023]</dd><dt><span>hangle :</span></dt><dd>0.0</dd><dt><span>vangle :</span></dt><dd>0.0</dd><dt><span>serial :</span></dt><dd>S12137.049</dd><dt><span>calibration_Cabsolute :</span></dt><dd>143266.47564469912</dd><dt><span>calibration_Ccoscorr :</span></dt><dd>1.45 - 3.04·x¹ + 5.59·x² - 3.01·x³</dd><dt><span>calibration_function :</span></dt><dd>flux (W m-2) = flux (V) * Cabsolute (W m-2 V-1) * Ccoscorr(mua)</dd></dl></div><div class='xr-var-data'><pre>array([[0.        ],\n       [0.72619942],\n       [0.91024753],\n       [0.        ],\n       [0.        ]])</pre></div></li><li class='xr-var-item'><div class='xr-var-name'><span>lat</span></div><div class='xr-var-dims'>(time, station)</div><div class='xr-var-dtype'>float64</div><div class='xr-var-preview xr-preview'>nan nan 51.39 51.39 51.39</div><input id='attrs-6a469bea-e01f-4496-b3f0-302cc7e44206' class='xr-var-attrs-in' type='checkbox' ><label for='attrs-6a469bea-e01f-4496-b3f0-302cc7e44206' title='Show/Hide attributes'><svg class='icon xr-icon-file-text2'><use xlink:href='#icon-file-text2'></use></svg></label><input id='data-ff605448-3094-4480-8d8c-dd65d73cf3cd' class='xr-var-data-in' type='checkbox'><label for='data-ff605448-3094-4480-8d8c-dd65d73cf3cd' title='Show/Hide data repr'><svg class='icon xr-icon-database'><use xlink:href='#icon-database'></use></svg></label><div class='xr-var-attrs'><dl class='xr-attrs'><dt><span>standard_name :</span></dt><dd>latitude</dd><dt><span>units :</span></dt><dd>degree_north</dd><dt><span>valid_range :</span></dt><dd>[-90.  90.]</dd></dl></div><div class='xr-var-data'><pre>array([[        nan],\n       [        nan],\n       [51.39021167],\n       [51.39021086],\n       [51.39021   ]])</pre></div></li><li class='xr-var-item'><div class='xr-var-name'><span>lon</span></div><div class='xr-var-dims'>(time, station)</div><div class='xr-var-dtype'>float64</div><div class='xr-var-preview xr-preview'>nan nan 11.89 11.89 11.89</div><input id='attrs-4764d3f2-fa5a-43cd-864a-ff063afac94f' class='xr-var-attrs-in' type='checkbox' ><label for='attrs-4764d3f2-fa5a-43cd-864a-ff063afac94f' title='Show/Hide attributes'><svg class='icon xr-icon-file-text2'><use xlink:href='#icon-file-text2'></use></svg></label><input id='data-77799a5d-715b-4a97-afd7-eb18912e0667' class='xr-var-data-in' type='checkbox'><label for='data-77799a5d-715b-4a97-afd7-eb18912e0667' title='Show/Hide data repr'><svg class='icon xr-icon-database'><use xlink:href='#icon-database'></use></svg></label><div class='xr-var-attrs'><dl class='xr-attrs'><dt><span>standard_name :</span></dt><dd>longitude</dd><dt><span>units :</span></dt><dd>degree_east</dd><dt><span>valid_range :</span></dt><dd>[-180.  180.]</dd></dl></div><div class='xr-var-data'><pre>array([[        nan],\n       [        nan],\n       [11.88525656],\n       [11.88525425],\n       [11.88525167]])</pre></div></li><li class='xr-var-item'><div class='xr-var-name'><span>maintenance_flag_ghi</span></div><div class='xr-var-dims'>(maintenancetime, station)</div><div class='xr-var-dtype'>float32</div><div class='xr-var-preview xr-preview'>9.0</div><input id='attrs-0d97fcd0-4454-4932-9758-b0382f74bfd3' class='xr-var-attrs-in' type='checkbox' ><label for='attrs-0d97fcd0-4454-4932-9758-b0382f74bfd3' title='Show/Hide attributes'><svg class='icon xr-icon-file-text2'><use xlink:href='#icon-file-text2'></use></svg></label><input id='data-a408c9b2-4c11-449f-ae4f-7c078b3453c6' class='xr-var-data-in' type='checkbox'><label for='data-a408c9b2-4c11-449f-ae4f-7c078b3453c6' title='Show/Hide data repr'><svg class='icon xr-icon-database'><use xlink:href='#icon-database'></use></svg></label><div class='xr-var-attrs'><dl class='xr-attrs'><dt><span>note_general :</span></dt><dd>222</dd><dt><span>note_clean :</span></dt><dd>testing notes</dd><dt><span>note_level :</span></dt><dd>test</dd><dt><span>valid_range :</span></dt><dd>[ 0 11]</dd></dl></div><div class='xr-var-data'><pre>array([[9.]], dtype=float32)</pre></div></li><li class='xr-var-item'><div class='xr-var-name'><span>maintenance_flag_gti</span></div><div class='xr-var-dims'>(maintenancetime, station)</div><div class='xr-var-dtype'>float32</div><div class='xr-var-preview xr-preview'>7.0</div><input id='attrs-1c909116-5d24-44c2-a0c6-a8917a0a3e0b' class='xr-var-attrs-in' type='checkbox' ><label for='attrs-1c909116-5d24-44c2-a0c6-a8917a0a3e0b' title='Show/Hide attributes'><svg class='icon xr-icon-file-text2'><use xlink:href='#icon-file-text2'></use></svg></label><input id='data-048f87b0-ba5e-4f8e-9fdf-b27de41ab106' class='xr-var-data-in' type='checkbox'><label for='data-048f87b0-ba5e-4f8e-9fdf-b27de41ab106' title='Show/Hide data repr'><svg class='icon xr-icon-database'><use xlink:href='#icon-database'></use></svg></label><div class='xr-var-attrs'><dl class='xr-attrs'><dt><span>note_general :</span></dt><dd>222</dd><dt><span>note_clean :</span></dt><dd></dd><dt><span>note_level :</span></dt><dd></dd><dt><span>valid_range :</span></dt><dd>[ 0 11]</dd></dl></div><div class='xr-var-data'><pre>array([[7.]], dtype=float32)</pre></div></li><li class='xr-var-item'><div class='xr-var-name'><span>szen</span></div><div class='xr-var-dims'>(time, station)</div><div class='xr-var-dtype'>float64</div><div class='xr-var-preview xr-preview'>nan nan 42.51 42.51 42.51</div><input id='attrs-2cc78104-4fe0-476b-95ff-91d4d2964860' class='xr-var-attrs-in' type='checkbox' ><label for='attrs-2cc78104-4fe0-476b-95ff-91d4d2964860' title='Show/Hide attributes'><svg class='icon xr-icon-file-text2'><use xlink:href='#icon-file-text2'></use></svg></label><input id='data-75f746d0-b098-42e4-8331-bdf9bc2b2ba5' class='xr-var-data-in' type='checkbox'><label for='data-75f746d0-b098-42e4-8331-bdf9bc2b2ba5' title='Show/Hide data repr'><svg class='icon xr-icon-database'><use xlink:href='#icon-database'></use></svg></label><div class='xr-var-attrs'><dl class='xr-attrs'><dt><span>standard_name :</span></dt><dd>solar_zenith_angle</dd><dt><span>units :</span></dt><dd>degree</dd><dt><span>valid_range :</span></dt><dd>[0, 36000]</dd></dl></div><div class='xr-var-data'><pre>array([[        nan],\n       [        nan],\n       [42.51185936],\n       [42.5119952 ],\n       [42.51213125]])</pre></div></li><li class='xr-var-item'><div class='xr-var-name'><span>sazi</span></div><div class='xr-var-dims'>(time, station)</div><div class='xr-var-dtype'>float64</div><div class='xr-var-preview xr-preview'>nan nan 182.9 182.9 182.9</div><input id='attrs-9f009fbf-a0e5-49ca-a4f1-a57f56009e05' class='xr-var-attrs-in' type='checkbox' ><label for='attrs-9f009fbf-a0e5-49ca-a4f1-a57f56009e05' title='Show/Hide attributes'><svg class='icon xr-icon-file-text2'><use xlink:href='#icon-file-text2'></use></svg></label><input id='data-ef7750e2-edb4-42c6-a46a-eec3f8f218c8' class='xr-var-data-in' type='checkbox'><label for='data-ef7750e2-edb4-42c6-a46a-eec3f8f218c8' title='Show/Hide data repr'><svg class='icon xr-icon-database'><use xlink:href='#icon-database'></use></svg></label><div class='xr-var-attrs'><dl class='xr-attrs'><dt><span>standard_name :</span></dt><dd>solar_azimuth_angle</dd><dt><span>units :</span></dt><dd>degree</dd><dt><span>valid_range :</span></dt><dd>[0, 36000]</dd></dl></div><div class='xr-var-data'><pre>array([[         nan],\n       [         nan],\n       [182.91893638],\n       [182.92502264],\n       [182.93110846]])</pre></div></li><li class='xr-var-item'><div class='xr-var-name'><span>esd</span></div><div class='xr-var-dims'>(station)</div><div class='xr-var-dtype'>float64</div><div class='xr-var-preview xr-preview'>1.01</div><input id='attrs-a697c8e6-3236-498f-ad8c-928f5089ec21' class='xr-var-attrs-in' type='checkbox' ><label for='attrs-a697c8e6-3236-498f-ad8c-928f5089ec21' title='Show/Hide attributes'><svg class='icon xr-icon-file-text2'><use xlink:href='#icon-file-text2'></use></svg></label><input id='data-d60445ad-6dc0-413b-bb70-c1d7a9b4127c' class='xr-var-data-in' type='checkbox'><label for='data-d60445ad-6dc0-413b-bb70-c1d7a9b4127c' title='Show/Hide data repr'><svg class='icon xr-icon-database'><use xlink:href='#icon-database'></use></svg></label><div class='xr-var-attrs'><dl class='xr-attrs'><dt><span>long_name :</span></dt><dd>Earth-sun distance</dd><dt><span>note :</span></dt><dd>Calculated based on Spencer (1971), as mean of its values over all time steps.</dd><dt><span>units :</span></dt><dd>ua</dd></dl></div><div class='xr-var-data'><pre>array([1.00959973])</pre></div></li></ul></div></li><li class='xr-section-item'><input id='section-a11749c8-dd2b-4336-b0b1-a9ba750e5efe' class='xr-section-summary-in' type='checkbox'  ><label for='section-a11749c8-dd2b-4336-b0b1-a9ba750e5efe' class='xr-section-summary' >Indexes: <span>(3)</span></label><div class='xr-section-inline-details'></div><div class='xr-section-details'><ul class='xr-var-list'><li class='xr-var-item'><div class='xr-index-name'><div>station</div></div><div class='xr-index-preview'>PandasIndex</div><div></div><input id='index-4f19236c-bc7e-4de3-a83e-50fbc774605d' class='xr-index-data-in' type='checkbox'/><label for='index-4f19236c-bc7e-4de3-a83e-50fbc774605d' title='Show/Hide index repr'><svg class='icon xr-icon-database'><use xlink:href='#icon-database'></use></svg></label><div class='xr-index-data'><pre>PandasIndex(Float64Index([1.0], dtype=&#x27;float64&#x27;, name=&#x27;station&#x27;))</pre></div></li><li class='xr-var-item'><div class='xr-index-name'><div>time</div></div><div class='xr-index-preview'>PandasIndex</div><div></div><input id='index-7513a9a7-ee14-4b6f-9774-267df14bafc3' class='xr-index-data-in' type='checkbox'/><label for='index-7513a9a7-ee14-4b6f-9774-267df14bafc3' title='Show/Hide index repr'><svg class='icon xr-icon-database'><use xlink:href='#icon-database'></use></svg></label><div class='xr-index-data'><pre>PandasIndex(DatetimeIndex([&#x27;2022-08-30 11:21:03&#x27;, &#x27;2022-08-30 11:21:04&#x27;,\n               &#x27;2022-08-30 11:21:05&#x27;, &#x27;2022-08-30 11:21:06&#x27;,\n               &#x27;2022-08-30 11:21:07&#x27;],\n              dtype=&#x27;datetime64[ns]&#x27;, name=&#x27;time&#x27;, freq=&#x27;S&#x27;))</pre></div></li><li class='xr-var-item'><div class='xr-index-name'><div>maintenancetime</div></div><div class='xr-index-preview'>PandasIndex</div><div></div><input id='index-8fe8e1ad-d0bd-4a4c-9b4c-1843b069ea1d' class='xr-index-data-in' type='checkbox'/><label for='index-8fe8e1ad-d0bd-4a4c-9b4c-1843b069ea1d' title='Show/Hide index repr'><svg class='icon xr-icon-database'><use xlink:href='#icon-database'></use></svg></label><div class='xr-index-data'><pre>PandasIndex(DatetimeIndex([&#x27;2023-05-08 16:09:06&#x27;], dtype=&#x27;datetime64[ns]&#x27;, name=&#x27;maintenancetime&#x27;, freq=None))</pre></div></li></ul></div></li><li class='xr-section-item'><input id='section-b9e01bb1-484e-44d6-9d15-827e9590ea84' class='xr-section-summary-in' type='checkbox'  ><label for='section-b9e01bb1-484e-44d6-9d15-827e9590ea84' class='xr-section-summary' >Attributes: <span>(31)</span></label><div class='xr-section-inline-details'></div><div class='xr-section-details'><dl class='xr-attrs'><dt><span>Conventions :</span></dt><dd>CF-1.10, ACDD-1.3</dd><dt><span>title :</span></dt><dd>TROPOS pyranometer network (PyrNet) observational data set</dd><dt><span>history :</span></dt><dd>2024-02-27T06:51:35: Generated level l1a  by pyrnet version 0.2.0+2.g8cd06c5.dirty; </dd><dt><span>institution :</span></dt><dd>Leibniz Institute for Tropospheric Research (TROPOS)</dd><dt><span>source :</span></dt><dd>TROPOS pyranometer network (PyrNet)</dd><dt><span>references :</span></dt><dd>https://doi.org/10.5194/amt-9-1153-2016</dd><dt><span>Department :</span></dt><dd>Remote Sensing of Atmospheric Processes</dd><dt><span>Department_team :</span></dt><dd>Clouds, Aerosol and Radiation</dd><dt><span>Address :</span></dt><dd>Permoser Str. 15, 04318 Leipzig, Germany</dd><dt><span>Contact_person :</span></dt><dd>Andreas Macke and the clouds, aerosol and radiation team of the remote sensing department, mailto:andreas.macke@tropos.de</dd><dt><span>Contributor_name :</span></dt><dd></dd><dt><span>Contributor_role :</span></dt><dd></dd><dt><span>Authors_software :</span></dt><dd>Hartwig Deneke, Jonas Witthuhn, mailto:deneke@tropos.de</dd><dt><span>Creator_name :</span></dt><dd></dd><dt><span>Project :</span></dt><dd></dd><dt><span>Standard_name_vocabulary :</span></dt><dd>CF Standard Name Table v81</dd><dt><span>License :</span></dt><dd>CC-BY-SA 3.0</dd><dt><span>TESTNOTE :</span></dt><dd>This is a test note.</dd><dt><span>processing_level :</span></dt><dd>l1a</dd><dt><span>product_version :</span></dt><dd>0.2.0+2.g8cd06c5.dirty</dd><dt><span>date_created :</span></dt><dd>2024-02-27T06:51:35</dd><dt><span>geospatial_lat_min :</span></dt><dd>51.390208333333334</dd><dt><span>geospatial_lat_max :</span></dt><dd>51.390211666666666</dd><dt><span>geospatial_lat_units :</span></dt><dd>degN</dd><dt><span>geospatial_lon_min :</span></dt><dd>11.885246666666667</dd><dt><span>geospatial_lon_max :</span></dt><dd>11.885256666666667</dd><dt><span>geospatial_lon_units :</span></dt><dd>degE</dd><dt><span>time_coverage_start :</span></dt><dd>2022-08-30T11:21:04.065000</dd><dt><span>time_coverage_end :</span></dt><dd>2022-08-30T11:21:09</dd><dt><span>time_coverage_duration :</span></dt><dd>P0DT0H0M4.935S</dd><dt><span>time_coverage_resolution :</span></dt><dd>P0DT0H0M1.23375S</dd></dl></div></li></ul></div></div>"
     },
     "execution_count": 31,
     "metadata": {},
     "output_type": "execute_result"
    }
   ],
   "source": [
    "# 5. rad flux calibration\n",
    "box = ds_l1b.station.values[0]\n",
    "boxnumber, serial, cfac, CCcoef = pyrnet.pyrnet.meta_lookup(\n",
    "    ds_l1b.time.values[0],\n",
    "    box=box,\n",
    "    cfile=config['file_calibration'],\n",
    "    mapfile=config['file_mapping'],\n",
    ")\n",
    "\n",
    "print(f\"Meta Lookup:\")\n",
    "print(f\">> Box = {box}\")\n",
    "print(f\">> serial(s) = {serial}\")\n",
    "print(f\">> calibration factor(s) = {cfac}\")\n",
    "print(f\">> cosine correction factor = {np.polynomial.polynomial.Polynomial(CCcoef)},\\n>>     with x = cos(apparent solar zenith angle)\")\n",
    "\n",
    "mu0 = np.cos(np.deg2rad(ds_l1b.szen.values))\n",
    "\n",
    "# calibrate radiation flux with gain=300\n",
    "for i, radflx in enumerate(config['radflux_varname']):\n",
    "    # all radflux related variables (including <radflux>_<resamplemethod> variables)\n",
    "    radflx_vars = [var for var in ds_l1b if var.startswith(radflx)]\n",
    "    if cfac[i] is None:\n",
    "        # drop if calibration/instrument don't exist (probably secondary pyranometer).\n",
    "        ds_l1b = ds_l1b.drop_vars(radflx_vars)\n",
    "        continue\n",
    "    \n",
    "    # calc apparent zenith angle if possible\n",
    "    mua = mu0.copy()\n",
    "    if \"vangle\" in ds[radflx].attrs:\n",
    "        vangle = pyrnet.utils.make_iter(ds[radflx].attrs[\"vangle\"])\n",
    "        hangle = pyrnet.utils.make_iter(ds[radflx].attrs[\"hangle\"])\n",
    "        mua = pyrnet.utils.calc_apparent_coszen(\n",
    "            pitch=vangle,\n",
    "            yaw=hangle,\n",
    "            zen=ds_l1b.szen.values,\n",
    "            azi=ds_l1b.sazi.values\n",
    "        )\n",
    "    \n",
    "    mask_mua = ~np.isnan(mua)\n",
    "    Ca = 1e6/cfac[i]\n",
    "    Cc = np.polynomial.polynomial.polyval(mua, c=CCcoef)\n",
    "    Cmu = mu0/mua\n",
    "    # apply to all variables\n",
    "    for var in radflx_vars:\n",
    "        calib_func = \"flux (W m-2) = flux (V) * Cabsolute (W m-2 V-1)\"\n",
    "        C = np.ones(mu0.shape)*Ca\n",
    "        if radflx == \"gti\":\n",
    "            C[mask_mua] *= Cc[mask_mua]\n",
    "            calib_func += \"\" if np.all(np.isnan(mua)) else \" * Ccoscorr(mua)\"\n",
    "        else:\n",
    "            C[mask_mua] *= Cc[mask_mua] * Cmu[mask_mua]\n",
    "            calib_func += \" * Ccoscorr(mua)\"# * mu0/mua\" (not implemented)\n",
    "        ds_l1b[var].values = ds_l1b[var].values*C\n",
    "\n",
    "        ds_l1b[var].attrs['units'] = \"W m-2\",\n",
    "        ds_l1b[var].attrs.update({\n",
    "            \"units\": \"W m-2\",\n",
    "            \"serial\": serial[i],\n",
    "            \"calibration_Cabsolute\": Ca,\n",
    "            \"calibration_Ccoscorr\": str(np.polynomial.polynomial.Polynomial(CCcoef)),\n",
    "            \"calibration_function\": calib_func\n",
    "        })\n",
    "ds_l1b"
   ],
   "metadata": {
    "collapsed": false,
    "ExecuteTime": {
     "end_time": "2024-02-27T06:51:37.119343900Z",
     "start_time": "2024-02-27T06:51:36.989087100Z"
    }
   }
  },
  {
   "cell_type": "markdown",
   "source": [
    "### Add automatic quality flags\n",
    "Add BSRN recommended limit checks and intercompare checks if multiple pyranometers are in the dataset."
   ],
   "metadata": {
    "collapsed": false
   }
  },
  {
   "cell_type": "code",
   "execution_count": 32,
   "metadata": {
    "collapsed": false,
    "ExecuteTime": {
     "end_time": "2024-02-27T06:51:37.396039800Z",
     "start_time": "2024-02-27T06:51:37.072242500Z"
    }
   },
   "outputs": [
    {
     "data": {
      "text/plain": "<xarray.Dataset>\nDimensions:               (station: 1, time: 5, maintenancetime: 1)\nCoordinates:\n  * station               (station) float64 1.0\n  * time                  (time) datetime64[ns] 2022-08-30T11:21:03 ... 2022-...\n  * maintenancetime       (maintenancetime) datetime64[ns] 2023-05-08T16:09:06\nData variables: (12/20)\n    ghi                   (time, station) float64 269.9 269.7 280.9 280.9 280.9\n    gti                   (time, station) float64 277.3 277.3 288.8 288.6 288.6\n    ta                    (time, station) float32 294.8 294.7 294.8 294.7 294.8\n    rh                    (time, station) float32 0.6263 0.6266 ... 0.6271 0.629\n    battery_voltage       (time, station) float32 6.445 6.446 6.45 6.448 6.458\n    ghi_min               (time, station) float64 269.9 268.5 280.9 280.9 280.9\n    ...                    ...\n    maintenance_flag_gti  (maintenancetime, station) float32 7.0\n    szen                  (time, station) float64 nan nan 42.51 42.51 42.51\n    sazi                  (time, station) float64 nan nan 182.9 182.9 182.9\n    esd                   (station) float64 1.01\n    qc_flag_ghi           (time, station) uint8 0 0 0 0 0\n    qc_flag_gti           (time, station) uint8 0 0 0 0 0\nAttributes: (12/31)\n    Conventions:               CF-1.10, ACDD-1.3\n    title:                     TROPOS pyranometer network (PyrNet) observatio...\n    history:                   2024-02-27T06:51:35: Generated level l1a  by p...\n    institution:               Leibniz Institute for Tropospheric Research (T...\n    source:                    TROPOS pyranometer network (PyrNet)\n    references:                https://doi.org/10.5194/amt-9-1153-2016\n    ...                        ...\n    geospatial_lon_max:        11.885256666666667\n    geospatial_lon_units:      degE\n    time_coverage_start:       2022-08-30T11:21:04.065000\n    time_coverage_end:         2022-08-30T11:21:09\n    time_coverage_duration:    P0DT0H0M4.935S\n    time_coverage_resolution:  P0DT0H0M1.23375S",
      "text/html": "<div><svg style=\"position: absolute; width: 0; height: 0; overflow: hidden\">\n<defs>\n<symbol id=\"icon-database\" viewBox=\"0 0 32 32\">\n<path d=\"M16 0c-8.837 0-16 2.239-16 5v4c0 2.761 7.163 5 16 5s16-2.239 16-5v-4c0-2.761-7.163-5-16-5z\"></path>\n<path d=\"M16 17c-8.837 0-16-2.239-16-5v6c0 2.761 7.163 5 16 5s16-2.239 16-5v-6c0 2.761-7.163 5-16 5z\"></path>\n<path d=\"M16 26c-8.837 0-16-2.239-16-5v6c0 2.761 7.163 5 16 5s16-2.239 16-5v-6c0 2.761-7.163 5-16 5z\"></path>\n</symbol>\n<symbol id=\"icon-file-text2\" viewBox=\"0 0 32 32\">\n<path d=\"M28.681 7.159c-0.694-0.947-1.662-2.053-2.724-3.116s-2.169-2.030-3.116-2.724c-1.612-1.182-2.393-1.319-2.841-1.319h-15.5c-1.378 0-2.5 1.121-2.5 2.5v27c0 1.378 1.122 2.5 2.5 2.5h23c1.378 0 2.5-1.122 2.5-2.5v-19.5c0-0.448-0.137-1.23-1.319-2.841zM24.543 5.457c0.959 0.959 1.712 1.825 2.268 2.543h-4.811v-4.811c0.718 0.556 1.584 1.309 2.543 2.268zM28 29.5c0 0.271-0.229 0.5-0.5 0.5h-23c-0.271 0-0.5-0.229-0.5-0.5v-27c0-0.271 0.229-0.5 0.5-0.5 0 0 15.499-0 15.5 0v7c0 0.552 0.448 1 1 1h7v19.5z\"></path>\n<path d=\"M23 26h-14c-0.552 0-1-0.448-1-1s0.448-1 1-1h14c0.552 0 1 0.448 1 1s-0.448 1-1 1z\"></path>\n<path d=\"M23 22h-14c-0.552 0-1-0.448-1-1s0.448-1 1-1h14c0.552 0 1 0.448 1 1s-0.448 1-1 1z\"></path>\n<path d=\"M23 18h-14c-0.552 0-1-0.448-1-1s0.448-1 1-1h14c0.552 0 1 0.448 1 1s-0.448 1-1 1z\"></path>\n</symbol>\n</defs>\n</svg>\n<style>/* CSS stylesheet for displaying xarray objects in jupyterlab.\n *\n */\n\n:root {\n  --xr-font-color0: var(--jp-content-font-color0, rgba(0, 0, 0, 1));\n  --xr-font-color2: var(--jp-content-font-color2, rgba(0, 0, 0, 0.54));\n  --xr-font-color3: var(--jp-content-font-color3, rgba(0, 0, 0, 0.38));\n  --xr-border-color: var(--jp-border-color2, #e0e0e0);\n  --xr-disabled-color: var(--jp-layout-color3, #bdbdbd);\n  --xr-background-color: var(--jp-layout-color0, white);\n  --xr-background-color-row-even: var(--jp-layout-color1, white);\n  --xr-background-color-row-odd: var(--jp-layout-color2, #eeeeee);\n}\n\nhtml[theme=dark],\nbody[data-theme=dark],\nbody.vscode-dark {\n  --xr-font-color0: rgba(255, 255, 255, 1);\n  --xr-font-color2: rgba(255, 255, 255, 0.54);\n  --xr-font-color3: rgba(255, 255, 255, 0.38);\n  --xr-border-color: #1F1F1F;\n  --xr-disabled-color: #515151;\n  --xr-background-color: #111111;\n  --xr-background-color-row-even: #111111;\n  --xr-background-color-row-odd: #313131;\n}\n\n.xr-wrap {\n  display: block !important;\n  min-width: 300px;\n  max-width: 700px;\n}\n\n.xr-text-repr-fallback {\n  /* fallback to plain text repr when CSS is not injected (untrusted notebook) */\n  display: none;\n}\n\n.xr-header {\n  padding-top: 6px;\n  padding-bottom: 6px;\n  margin-bottom: 4px;\n  border-bottom: solid 1px var(--xr-border-color);\n}\n\n.xr-header > div,\n.xr-header > ul {\n  display: inline;\n  margin-top: 0;\n  margin-bottom: 0;\n}\n\n.xr-obj-type,\n.xr-array-name {\n  margin-left: 2px;\n  margin-right: 10px;\n}\n\n.xr-obj-type {\n  color: var(--xr-font-color2);\n}\n\n.xr-sections {\n  padding-left: 0 !important;\n  display: grid;\n  grid-template-columns: 150px auto auto 1fr 20px 20px;\n}\n\n.xr-section-item {\n  display: contents;\n}\n\n.xr-section-item input {\n  display: none;\n}\n\n.xr-section-item input + label {\n  color: var(--xr-disabled-color);\n}\n\n.xr-section-item input:enabled + label {\n  cursor: pointer;\n  color: var(--xr-font-color2);\n}\n\n.xr-section-item input:enabled + label:hover {\n  color: var(--xr-font-color0);\n}\n\n.xr-section-summary {\n  grid-column: 1;\n  color: var(--xr-font-color2);\n  font-weight: 500;\n}\n\n.xr-section-summary > span {\n  display: inline-block;\n  padding-left: 0.5em;\n}\n\n.xr-section-summary-in:disabled + label {\n  color: var(--xr-font-color2);\n}\n\n.xr-section-summary-in + label:before {\n  display: inline-block;\n  content: '►';\n  font-size: 11px;\n  width: 15px;\n  text-align: center;\n}\n\n.xr-section-summary-in:disabled + label:before {\n  color: var(--xr-disabled-color);\n}\n\n.xr-section-summary-in:checked + label:before {\n  content: '▼';\n}\n\n.xr-section-summary-in:checked + label > span {\n  display: none;\n}\n\n.xr-section-summary,\n.xr-section-inline-details {\n  padding-top: 4px;\n  padding-bottom: 4px;\n}\n\n.xr-section-inline-details {\n  grid-column: 2 / -1;\n}\n\n.xr-section-details {\n  display: none;\n  grid-column: 1 / -1;\n  margin-bottom: 5px;\n}\n\n.xr-section-summary-in:checked ~ .xr-section-details {\n  display: contents;\n}\n\n.xr-array-wrap {\n  grid-column: 1 / -1;\n  display: grid;\n  grid-template-columns: 20px auto;\n}\n\n.xr-array-wrap > label {\n  grid-column: 1;\n  vertical-align: top;\n}\n\n.xr-preview {\n  color: var(--xr-font-color3);\n}\n\n.xr-array-preview,\n.xr-array-data {\n  padding: 0 5px !important;\n  grid-column: 2;\n}\n\n.xr-array-data,\n.xr-array-in:checked ~ .xr-array-preview {\n  display: none;\n}\n\n.xr-array-in:checked ~ .xr-array-data,\n.xr-array-preview {\n  display: inline-block;\n}\n\n.xr-dim-list {\n  display: inline-block !important;\n  list-style: none;\n  padding: 0 !important;\n  margin: 0;\n}\n\n.xr-dim-list li {\n  display: inline-block;\n  padding: 0;\n  margin: 0;\n}\n\n.xr-dim-list:before {\n  content: '(';\n}\n\n.xr-dim-list:after {\n  content: ')';\n}\n\n.xr-dim-list li:not(:last-child):after {\n  content: ',';\n  padding-right: 5px;\n}\n\n.xr-has-index {\n  font-weight: bold;\n}\n\n.xr-var-list,\n.xr-var-item {\n  display: contents;\n}\n\n.xr-var-item > div,\n.xr-var-item label,\n.xr-var-item > .xr-var-name span {\n  background-color: var(--xr-background-color-row-even);\n  margin-bottom: 0;\n}\n\n.xr-var-item > .xr-var-name:hover span {\n  padding-right: 5px;\n}\n\n.xr-var-list > li:nth-child(odd) > div,\n.xr-var-list > li:nth-child(odd) > label,\n.xr-var-list > li:nth-child(odd) > .xr-var-name span {\n  background-color: var(--xr-background-color-row-odd);\n}\n\n.xr-var-name {\n  grid-column: 1;\n}\n\n.xr-var-dims {\n  grid-column: 2;\n}\n\n.xr-var-dtype {\n  grid-column: 3;\n  text-align: right;\n  color: var(--xr-font-color2);\n}\n\n.xr-var-preview {\n  grid-column: 4;\n}\n\n.xr-index-preview {\n  grid-column: 2 / 5;\n  color: var(--xr-font-color2);\n}\n\n.xr-var-name,\n.xr-var-dims,\n.xr-var-dtype,\n.xr-preview,\n.xr-attrs dt {\n  white-space: nowrap;\n  overflow: hidden;\n  text-overflow: ellipsis;\n  padding-right: 10px;\n}\n\n.xr-var-name:hover,\n.xr-var-dims:hover,\n.xr-var-dtype:hover,\n.xr-attrs dt:hover {\n  overflow: visible;\n  width: auto;\n  z-index: 1;\n}\n\n.xr-var-attrs,\n.xr-var-data,\n.xr-index-data {\n  display: none;\n  background-color: var(--xr-background-color) !important;\n  padding-bottom: 5px !important;\n}\n\n.xr-var-attrs-in:checked ~ .xr-var-attrs,\n.xr-var-data-in:checked ~ .xr-var-data,\n.xr-index-data-in:checked ~ .xr-index-data {\n  display: block;\n}\n\n.xr-var-data > table {\n  float: right;\n}\n\n.xr-var-name span,\n.xr-var-data,\n.xr-index-name div,\n.xr-index-data,\n.xr-attrs {\n  padding-left: 25px !important;\n}\n\n.xr-attrs,\n.xr-var-attrs,\n.xr-var-data,\n.xr-index-data {\n  grid-column: 1 / -1;\n}\n\ndl.xr-attrs {\n  padding: 0;\n  margin: 0;\n  display: grid;\n  grid-template-columns: 125px auto;\n}\n\n.xr-attrs dt,\n.xr-attrs dd {\n  padding: 0;\n  margin: 0;\n  float: left;\n  padding-right: 10px;\n  width: auto;\n}\n\n.xr-attrs dt {\n  font-weight: normal;\n  grid-column: 1;\n}\n\n.xr-attrs dt:hover span {\n  display: inline-block;\n  background: var(--xr-background-color);\n  padding-right: 10px;\n}\n\n.xr-attrs dd {\n  grid-column: 2;\n  white-space: pre-wrap;\n  word-break: break-all;\n}\n\n.xr-icon-database,\n.xr-icon-file-text2,\n.xr-no-icon {\n  display: inline-block;\n  vertical-align: middle;\n  width: 1em;\n  height: 1.5em !important;\n  stroke-width: 0;\n  stroke: currentColor;\n  fill: currentColor;\n}\n</style><pre class='xr-text-repr-fallback'>&lt;xarray.Dataset&gt;\nDimensions:               (station: 1, time: 5, maintenancetime: 1)\nCoordinates:\n  * station               (station) float64 1.0\n  * time                  (time) datetime64[ns] 2022-08-30T11:21:03 ... 2022-...\n  * maintenancetime       (maintenancetime) datetime64[ns] 2023-05-08T16:09:06\nData variables: (12/20)\n    ghi                   (time, station) float64 269.9 269.7 280.9 280.9 280.9\n    gti                   (time, station) float64 277.3 277.3 288.8 288.6 288.6\n    ta                    (time, station) float32 294.8 294.7 294.8 294.7 294.8\n    rh                    (time, station) float32 0.6263 0.6266 ... 0.6271 0.629\n    battery_voltage       (time, station) float32 6.445 6.446 6.45 6.448 6.458\n    ghi_min               (time, station) float64 269.9 268.5 280.9 280.9 280.9\n    ...                    ...\n    maintenance_flag_gti  (maintenancetime, station) float32 7.0\n    szen                  (time, station) float64 nan nan 42.51 42.51 42.51\n    sazi                  (time, station) float64 nan nan 182.9 182.9 182.9\n    esd                   (station) float64 1.01\n    qc_flag_ghi           (time, station) uint8 0 0 0 0 0\n    qc_flag_gti           (time, station) uint8 0 0 0 0 0\nAttributes: (12/31)\n    Conventions:               CF-1.10, ACDD-1.3\n    title:                     TROPOS pyranometer network (PyrNet) observatio...\n    history:                   2024-02-27T06:51:35: Generated level l1a  by p...\n    institution:               Leibniz Institute for Tropospheric Research (T...\n    source:                    TROPOS pyranometer network (PyrNet)\n    references:                https://doi.org/10.5194/amt-9-1153-2016\n    ...                        ...\n    geospatial_lon_max:        11.885256666666667\n    geospatial_lon_units:      degE\n    time_coverage_start:       2022-08-30T11:21:04.065000\n    time_coverage_end:         2022-08-30T11:21:09\n    time_coverage_duration:    P0DT0H0M4.935S\n    time_coverage_resolution:  P0DT0H0M1.23375S</pre><div class='xr-wrap' style='display:none'><div class='xr-header'><div class='xr-obj-type'>xarray.Dataset</div></div><ul class='xr-sections'><li class='xr-section-item'><input id='section-66c7f79b-15fd-43b0-9996-03a9af0e44bc' class='xr-section-summary-in' type='checkbox' disabled ><label for='section-66c7f79b-15fd-43b0-9996-03a9af0e44bc' class='xr-section-summary'  title='Expand/collapse section'>Dimensions:</label><div class='xr-section-inline-details'><ul class='xr-dim-list'><li><span class='xr-has-index'>station</span>: 1</li><li><span class='xr-has-index'>time</span>: 5</li><li><span class='xr-has-index'>maintenancetime</span>: 1</li></ul></div><div class='xr-section-details'></div></li><li class='xr-section-item'><input id='section-dea57ecc-a1de-4f80-b68b-0dba4ef1fdd0' class='xr-section-summary-in' type='checkbox'  checked><label for='section-dea57ecc-a1de-4f80-b68b-0dba4ef1fdd0' class='xr-section-summary' >Coordinates: <span>(3)</span></label><div class='xr-section-inline-details'></div><div class='xr-section-details'><ul class='xr-var-list'><li class='xr-var-item'><div class='xr-var-name'><span class='xr-has-index'>station</span></div><div class='xr-var-dims'>(station)</div><div class='xr-var-dtype'>float64</div><div class='xr-var-preview xr-preview'>1.0</div><input id='attrs-f601c5a9-b371-4aff-8a77-55fe44e2a88a' class='xr-var-attrs-in' type='checkbox' ><label for='attrs-f601c5a9-b371-4aff-8a77-55fe44e2a88a' title='Show/Hide attributes'><svg class='icon xr-icon-file-text2'><use xlink:href='#icon-file-text2'></use></svg></label><input id='data-b5ed28d9-e8b8-41d9-91a1-02599f9fc377' class='xr-var-data-in' type='checkbox'><label for='data-b5ed28d9-e8b8-41d9-91a1-02599f9fc377' title='Show/Hide data repr'><svg class='icon xr-icon-database'><use xlink:href='#icon-database'></use></svg></label><div class='xr-var-attrs'><dl class='xr-attrs'><dt><span>units :</span></dt><dd>-</dd><dt><span>long_name :</span></dt><dd>PyrNet unit box number</dd></dl></div><div class='xr-var-data'><pre>array([1.])</pre></div></li><li class='xr-var-item'><div class='xr-var-name'><span class='xr-has-index'>time</span></div><div class='xr-var-dims'>(time)</div><div class='xr-var-dtype'>datetime64[ns]</div><div class='xr-var-preview xr-preview'>2022-08-30T11:21:03 ... 2022-08-...</div><input id='attrs-c3cff5cb-02c2-45f3-8397-8fc8e1947932' class='xr-var-attrs-in' type='checkbox' disabled><label for='attrs-c3cff5cb-02c2-45f3-8397-8fc8e1947932' title='Show/Hide attributes'><svg class='icon xr-icon-file-text2'><use xlink:href='#icon-file-text2'></use></svg></label><input id='data-36536016-16ba-474a-9d0a-114787ca9d39' class='xr-var-data-in' type='checkbox'><label for='data-36536016-16ba-474a-9d0a-114787ca9d39' title='Show/Hide data repr'><svg class='icon xr-icon-database'><use xlink:href='#icon-database'></use></svg></label><div class='xr-var-attrs'><dl class='xr-attrs'></dl></div><div class='xr-var-data'><pre>array([&#x27;2022-08-30T11:21:03.000000000&#x27;, &#x27;2022-08-30T11:21:04.000000000&#x27;,\n       &#x27;2022-08-30T11:21:05.000000000&#x27;, &#x27;2022-08-30T11:21:06.000000000&#x27;,\n       &#x27;2022-08-30T11:21:07.000000000&#x27;], dtype=&#x27;datetime64[ns]&#x27;)</pre></div></li><li class='xr-var-item'><div class='xr-var-name'><span class='xr-has-index'>maintenancetime</span></div><div class='xr-var-dims'>(maintenancetime)</div><div class='xr-var-dtype'>datetime64[ns]</div><div class='xr-var-preview xr-preview'>2023-05-08T16:09:06</div><input id='attrs-d6e292f6-efe8-43ea-b0b5-8f636b718012' class='xr-var-attrs-in' type='checkbox' disabled><label for='attrs-d6e292f6-efe8-43ea-b0b5-8f636b718012' title='Show/Hide attributes'><svg class='icon xr-icon-file-text2'><use xlink:href='#icon-file-text2'></use></svg></label><input id='data-1a1770e3-f56d-47f0-826a-cb6c23b49971' class='xr-var-data-in' type='checkbox'><label for='data-1a1770e3-f56d-47f0-826a-cb6c23b49971' title='Show/Hide data repr'><svg class='icon xr-icon-database'><use xlink:href='#icon-database'></use></svg></label><div class='xr-var-attrs'><dl class='xr-attrs'></dl></div><div class='xr-var-data'><pre>array([&#x27;2023-05-08T16:09:06.000000000&#x27;], dtype=&#x27;datetime64[ns]&#x27;)</pre></div></li></ul></div></li><li class='xr-section-item'><input id='section-80638f32-999a-444c-b692-be6fcda8d229' class='xr-section-summary-in' type='checkbox'  ><label for='section-80638f32-999a-444c-b692-be6fcda8d229' class='xr-section-summary' >Data variables: <span>(20)</span></label><div class='xr-section-inline-details'></div><div class='xr-section-details'><ul class='xr-var-list'><li class='xr-var-item'><div class='xr-var-name'><span>ghi</span></div><div class='xr-var-dims'>(time, station)</div><div class='xr-var-dtype'>float64</div><div class='xr-var-preview xr-preview'>269.9 269.7 280.9 280.9 280.9</div><input id='attrs-b4883e12-7613-4fda-bce6-f915d1316177' class='xr-var-attrs-in' type='checkbox' ><label for='attrs-b4883e12-7613-4fda-bce6-f915d1316177' title='Show/Hide attributes'><svg class='icon xr-icon-file-text2'><use xlink:href='#icon-file-text2'></use></svg></label><input id='data-b9fbbbd0-7c9f-4110-92ed-1540eebd0bed' class='xr-var-data-in' type='checkbox'><label for='data-b9fbbbd0-7c9f-4110-92ed-1540eebd0bed' title='Show/Hide data repr'><svg class='icon xr-icon-database'><use xlink:href='#icon-database'></use></svg></label><div class='xr-var-attrs'><dl class='xr-attrs'><dt><span>units :</span></dt><dd>W m-2</dd><dt><span>long_name :</span></dt><dd>downwelling shortwave flux</dd><dt><span>standard_name :</span></dt><dd>downwelling_shortwave_flux_in_air</dd><dt><span>valid_range :</span></dt><dd>[   0 1023]</dd><dt><span>serial :</span></dt><dd>S12128.001</dd><dt><span>calibration_Cabsolute :</span></dt><dd>129366.10608020698</dd><dt><span>calibration_Ccoscorr :</span></dt><dd>1.45 - 3.04·x¹ + 5.59·x² - 3.01·x³</dd><dt><span>calibration_function :</span></dt><dd>flux (W m-2) = flux (V) * Cabsolute (W m-2 V-1) * Ccoscorr(mua)</dd></dl></div><div class='xr-var-data'><pre>array([[269.860475  ],\n       [269.72137902],\n       [280.90462604],\n       [280.90449869],\n       [280.90437115]])</pre></div></li><li class='xr-var-item'><div class='xr-var-name'><span>gti</span></div><div class='xr-var-dims'>(time, station)</div><div class='xr-var-dtype'>float64</div><div class='xr-var-preview xr-preview'>277.3 277.3 288.8 288.6 288.6</div><input id='attrs-3e7c364a-d951-4fdc-a12b-82f0ccc8150a' class='xr-var-attrs-in' type='checkbox' ><label for='attrs-3e7c364a-d951-4fdc-a12b-82f0ccc8150a' title='Show/Hide attributes'><svg class='icon xr-icon-file-text2'><use xlink:href='#icon-file-text2'></use></svg></label><input id='data-8fb93880-78e8-4b49-b64e-a8cd00c2f6e6' class='xr-var-data-in' type='checkbox'><label for='data-8fb93880-78e8-4b49-b64e-a8cd00c2f6e6' title='Show/Hide data repr'><svg class='icon xr-icon-database'><use xlink:href='#icon-database'></use></svg></label><div class='xr-var-attrs'><dl class='xr-attrs'><dt><span>units :</span></dt><dd>W m-2</dd><dt><span>long_name :</span></dt><dd>downwelling shortwave flux measured on secondary platform, might be tilted</dd><dt><span>standard_name :</span></dt><dd>downwelling_shortwave_flux_in_air</dd><dt><span>valid_range :</span></dt><dd>[   0 1023]</dd><dt><span>hangle :</span></dt><dd>0.0</dd><dt><span>vangle :</span></dt><dd>0.0</dd><dt><span>serial :</span></dt><dd>S12137.049</dd><dt><span>calibration_Cabsolute :</span></dt><dd>143266.47564469912</dd><dt><span>calibration_Ccoscorr :</span></dt><dd>1.45 - 3.04·x¹ + 5.59·x² - 3.01·x³</dd><dt><span>calibration_function :</span></dt><dd>flux (W m-2) = flux (V) * Cabsolute (W m-2 V-1) * Ccoscorr(mua)</dd></dl></div><div class='xr-var-data'><pre>array([[277.28995527],\n       [277.28995527],\n       [288.79852425],\n       [288.63802999],\n       [288.63789894]])</pre></div></li><li class='xr-var-item'><div class='xr-var-name'><span>ta</span></div><div class='xr-var-dims'>(time, station)</div><div class='xr-var-dtype'>float32</div><div class='xr-var-preview xr-preview'>294.8 294.7 294.8 294.7 294.8</div><input id='attrs-92e332a2-47fc-4ea5-9205-68188bc0721e' class='xr-var-attrs-in' type='checkbox' ><label for='attrs-92e332a2-47fc-4ea5-9205-68188bc0721e' title='Show/Hide attributes'><svg class='icon xr-icon-file-text2'><use xlink:href='#icon-file-text2'></use></svg></label><input id='data-b47356fd-eb87-4de7-ac61-2653f8176bb3' class='xr-var-data-in' type='checkbox'><label for='data-b47356fd-eb87-4de7-ac61-2653f8176bb3' title='Show/Hide data repr'><svg class='icon xr-icon-database'><use xlink:href='#icon-database'></use></svg></label><div class='xr-var-attrs'><dl class='xr-attrs'><dt><span>units :</span></dt><dd>K</dd><dt><span>long_name :</span></dt><dd>air temperature</dd><dt><span>standard_name :</span></dt><dd>air_temperature</dd><dt><span>valid_range :</span></dt><dd>[  0 775]</dd></dl></div><div class='xr-var-data'><pre>array([[294.7758 ],\n       [294.74997],\n       [294.7887 ],\n       [294.74997],\n       [294.82742]], dtype=float32)</pre></div></li><li class='xr-var-item'><div class='xr-var-name'><span>rh</span></div><div class='xr-var-dims'>(time, station)</div><div class='xr-var-dtype'>float32</div><div class='xr-var-preview xr-preview'>0.6263 0.6266 0.6271 0.6271 0.629</div><input id='attrs-5ee59a11-4ebb-4a30-adf7-3ed1552cfe7d' class='xr-var-attrs-in' type='checkbox' ><label for='attrs-5ee59a11-4ebb-4a30-adf7-3ed1552cfe7d' title='Show/Hide attributes'><svg class='icon xr-icon-file-text2'><use xlink:href='#icon-file-text2'></use></svg></label><input id='data-94e01255-bdf6-4a09-ad23-76c101fd71f3' class='xr-var-data-in' type='checkbox'><label for='data-94e01255-bdf6-4a09-ad23-76c101fd71f3' title='Show/Hide data repr'><svg class='icon xr-icon-database'><use xlink:href='#icon-database'></use></svg></label><div class='xr-var-attrs'><dl class='xr-attrs'><dt><span>units :</span></dt><dd>1</dd><dt><span>long_name :</span></dt><dd>air relative humidity</dd><dt><span>standard_name :</span></dt><dd>relative_humidity</dd><dt><span>valid_range :</span></dt><dd>[  0 775]</dd></dl></div><div class='xr-var-data'><pre>array([[0.62632257],\n       [0.6265806 ],\n       [0.6270968 ],\n       [0.6270968 ],\n       [0.62903225]], dtype=float32)</pre></div></li><li class='xr-var-item'><div class='xr-var-name'><span>battery_voltage</span></div><div class='xr-var-dims'>(time, station)</div><div class='xr-var-dtype'>float32</div><div class='xr-var-preview xr-preview'>6.445 6.446 6.45 6.448 6.458</div><input id='attrs-c81b41df-2f83-41fa-8025-b5a2885621dc' class='xr-var-attrs-in' type='checkbox' ><label for='attrs-c81b41df-2f83-41fa-8025-b5a2885621dc' title='Show/Hide attributes'><svg class='icon xr-icon-file-text2'><use xlink:href='#icon-file-text2'></use></svg></label><input id='data-f3e19484-ceb2-4dcf-951c-23da6323e5cb' class='xr-var-data-in' type='checkbox'><label for='data-f3e19484-ceb2-4dcf-951c-23da6323e5cb' title='Show/Hide data repr'><svg class='icon xr-icon-database'><use xlink:href='#icon-database'></use></svg></label><div class='xr-var-attrs'><dl class='xr-attrs'><dt><span>units :</span></dt><dd>V</dd><dt><span>standard_name :</span></dt><dd>battery_voltage</dd><dt><span>valid_range :</span></dt><dd>[  0 992]</dd></dl></div><div class='xr-var-data'><pre>array([[6.4451613],\n       [6.445807 ],\n       [6.4496775],\n       [6.4477415],\n       [6.4580646]], dtype=float32)</pre></div></li><li class='xr-var-item'><div class='xr-var-name'><span>ghi_min</span></div><div class='xr-var-dims'>(time, station)</div><div class='xr-var-dtype'>float64</div><div class='xr-var-preview xr-preview'>269.9 268.5 280.9 280.9 280.9</div><input id='attrs-567bdc21-9e79-46fa-ac70-7a21941a9774' class='xr-var-attrs-in' type='checkbox' ><label for='attrs-567bdc21-9e79-46fa-ac70-7a21941a9774' title='Show/Hide attributes'><svg class='icon xr-icon-file-text2'><use xlink:href='#icon-file-text2'></use></svg></label><input id='data-76e1efb0-370a-4320-8d90-e78870b3a16b' class='xr-var-data-in' type='checkbox'><label for='data-76e1efb0-370a-4320-8d90-e78870b3a16b' title='Show/Hide data repr'><svg class='icon xr-icon-database'><use xlink:href='#icon-database'></use></svg></label><div class='xr-var-attrs'><dl class='xr-attrs'><dt><span>units :</span></dt><dd>W m-2</dd><dt><span>long_name :</span></dt><dd>downwelling shortwave flux</dd><dt><span>standard_name :</span></dt><dd>min_downwelling_shortwave_flux_in_air</dd><dt><span>valid_range :</span></dt><dd>[   0 1023]</dd><dt><span>serial :</span></dt><dd>S12128.001</dd><dt><span>calibration_Cabsolute :</span></dt><dd>129366.10608020698</dd><dt><span>calibration_Ccoscorr :</span></dt><dd>1.45 - 3.04·x¹ + 5.59·x² - 3.01·x³</dd><dt><span>calibration_function :</span></dt><dd>flux (W m-2) = flux (V) * Cabsolute (W m-2 V-1) * Ccoscorr(mua)</dd></dl></div><div class='xr-var-data'><pre>array([[269.860475  ],\n       [268.46945498],\n       [280.90462604],\n       [280.90449869],\n       [280.90437115]])</pre></div></li><li class='xr-var-item'><div class='xr-var-name'><span>gti_min</span></div><div class='xr-var-dims'>(time, station)</div><div class='xr-var-dtype'>float64</div><div class='xr-var-preview xr-preview'>277.3 275.7 287.0 288.6 288.6</div><input id='attrs-2260e2dc-92ce-4f73-90b9-ec1d7d71d013' class='xr-var-attrs-in' type='checkbox' ><label for='attrs-2260e2dc-92ce-4f73-90b9-ec1d7d71d013' title='Show/Hide attributes'><svg class='icon xr-icon-file-text2'><use xlink:href='#icon-file-text2'></use></svg></label><input id='data-9872e7b7-02c3-4ae1-8995-652496e7e5b2' class='xr-var-data-in' type='checkbox'><label for='data-9872e7b7-02c3-4ae1-8995-652496e7e5b2' title='Show/Hide data repr'><svg class='icon xr-icon-database'><use xlink:href='#icon-database'></use></svg></label><div class='xr-var-attrs'><dl class='xr-attrs'><dt><span>units :</span></dt><dd>W m-2</dd><dt><span>long_name :</span></dt><dd>downwelling shortwave flux measured on secondary platform, might be tilted</dd><dt><span>standard_name :</span></dt><dd>min_downwelling_shortwave_flux_in_air</dd><dt><span>valid_range :</span></dt><dd>[   0 1023]</dd><dt><span>hangle :</span></dt><dd>0.0</dd><dt><span>vangle :</span></dt><dd>0.0</dd><dt><span>serial :</span></dt><dd>S12137.049</dd><dt><span>calibration_Cabsolute :</span></dt><dd>143266.47564469912</dd><dt><span>calibration_Ccoscorr :</span></dt><dd>1.45 - 3.04·x¹ + 5.59·x² - 3.01·x³</dd><dt><span>calibration_function :</span></dt><dd>flux (W m-2) = flux (V) * Cabsolute (W m-2 V-1) * Ccoscorr(mua)</dd></dl></div><div class='xr-var-data'><pre>array([[277.28995527],\n       [275.74945367],\n       [287.03461358],\n       [288.63802999],\n       [288.63789894]])</pre></div></li><li class='xr-var-item'><div class='xr-var-name'><span>ghi_max</span></div><div class='xr-var-dims'>(time, station)</div><div class='xr-var-dtype'>float64</div><div class='xr-var-preview xr-preview'>269.9 269.9 280.9 280.9 280.9</div><input id='attrs-3d283232-2c59-43f9-b51c-85a0b779e7d6' class='xr-var-attrs-in' type='checkbox' ><label for='attrs-3d283232-2c59-43f9-b51c-85a0b779e7d6' title='Show/Hide attributes'><svg class='icon xr-icon-file-text2'><use xlink:href='#icon-file-text2'></use></svg></label><input id='data-639333ba-77b9-4006-a3e1-86ffbd9ef2ca' class='xr-var-data-in' type='checkbox'><label for='data-639333ba-77b9-4006-a3e1-86ffbd9ef2ca' title='Show/Hide data repr'><svg class='icon xr-icon-database'><use xlink:href='#icon-database'></use></svg></label><div class='xr-var-attrs'><dl class='xr-attrs'><dt><span>units :</span></dt><dd>W m-2</dd><dt><span>long_name :</span></dt><dd>downwelling shortwave flux</dd><dt><span>standard_name :</span></dt><dd>max_downwelling_shortwave_flux_in_air</dd><dt><span>valid_range :</span></dt><dd>[   0 1023]</dd><dt><span>serial :</span></dt><dd>S12128.001</dd><dt><span>calibration_Cabsolute :</span></dt><dd>129366.10608020698</dd><dt><span>calibration_Ccoscorr :</span></dt><dd>1.45 - 3.04·x¹ + 5.59·x² - 3.01·x³</dd><dt><span>calibration_function :</span></dt><dd>flux (W m-2) = flux (V) * Cabsolute (W m-2 V-1) * Ccoscorr(mua)</dd></dl></div><div class='xr-var-data'><pre>array([[269.860475  ],\n       [269.860475  ],\n       [280.90462604],\n       [280.90449869],\n       [280.90437115]])</pre></div></li><li class='xr-var-item'><div class='xr-var-name'><span>gti_max</span></div><div class='xr-var-dims'>(time, station)</div><div class='xr-var-dtype'>float64</div><div class='xr-var-preview xr-preview'>277.3 278.8 290.2 288.6 288.6</div><input id='attrs-5b17cf0c-c156-4f1e-a7be-36a1c466940c' class='xr-var-attrs-in' type='checkbox' ><label for='attrs-5b17cf0c-c156-4f1e-a7be-36a1c466940c' title='Show/Hide attributes'><svg class='icon xr-icon-file-text2'><use xlink:href='#icon-file-text2'></use></svg></label><input id='data-ef40d1ac-c2f2-476a-ae38-2892baff3b30' class='xr-var-data-in' type='checkbox'><label for='data-ef40d1ac-c2f2-476a-ae38-2892baff3b30' title='Show/Hide data repr'><svg class='icon xr-icon-database'><use xlink:href='#icon-database'></use></svg></label><div class='xr-var-attrs'><dl class='xr-attrs'><dt><span>units :</span></dt><dd>W m-2</dd><dt><span>long_name :</span></dt><dd>downwelling shortwave flux measured on secondary platform, might be tilted</dd><dt><span>standard_name :</span></dt><dd>max_downwelling_shortwave_flux_in_air</dd><dt><span>valid_range :</span></dt><dd>[   0 1023]</dd><dt><span>hangle :</span></dt><dd>0.0</dd><dt><span>vangle :</span></dt><dd>0.0</dd><dt><span>serial :</span></dt><dd>S12137.049</dd><dt><span>calibration_Cabsolute :</span></dt><dd>143266.47564469912</dd><dt><span>calibration_Ccoscorr :</span></dt><dd>1.45 - 3.04·x¹ + 5.59·x² - 3.01·x³</dd><dt><span>calibration_function :</span></dt><dd>flux (W m-2) = flux (V) * Cabsolute (W m-2 V-1) * Ccoscorr(mua)</dd></dl></div><div class='xr-var-data'><pre>array([[277.28995527],\n       [278.83045688],\n       [290.24170811],\n       [288.63802999],\n       [288.63789894]])</pre></div></li><li class='xr-var-item'><div class='xr-var-name'><span>ghi_std</span></div><div class='xr-var-dims'>(time, station)</div><div class='xr-var-dtype'>float64</div><div class='xr-var-preview xr-preview'>0.0 0.4399 0.0 0.0 0.0</div><input id='attrs-29972d86-5ef7-443d-9d39-3884b51a3d0c' class='xr-var-attrs-in' type='checkbox' ><label for='attrs-29972d86-5ef7-443d-9d39-3884b51a3d0c' title='Show/Hide attributes'><svg class='icon xr-icon-file-text2'><use xlink:href='#icon-file-text2'></use></svg></label><input id='data-6148db30-0f55-4a69-8e6e-954d6cb03b4f' class='xr-var-data-in' type='checkbox'><label for='data-6148db30-0f55-4a69-8e6e-954d6cb03b4f' title='Show/Hide data repr'><svg class='icon xr-icon-database'><use xlink:href='#icon-database'></use></svg></label><div class='xr-var-attrs'><dl class='xr-attrs'><dt><span>units :</span></dt><dd>W m-2</dd><dt><span>long_name :</span></dt><dd>downwelling shortwave flux</dd><dt><span>standard_name :</span></dt><dd>std_downwelling_shortwave_flux_in_air</dd><dt><span>valid_range :</span></dt><dd>[   0 1023]</dd><dt><span>serial :</span></dt><dd>S12128.001</dd><dt><span>calibration_Cabsolute :</span></dt><dd>129366.10608020698</dd><dt><span>calibration_Ccoscorr :</span></dt><dd>1.45 - 3.04·x¹ + 5.59·x² - 3.01·x³</dd><dt><span>calibration_function :</span></dt><dd>flux (W m-2) = flux (V) * Cabsolute (W m-2 V-1) * Ccoscorr(mua)</dd></dl></div><div class='xr-var-data'><pre>array([[0.        ],\n       [0.43987915],\n       [0.        ],\n       [0.        ],\n       [0.        ]])</pre></div></li><li class='xr-var-item'><div class='xr-var-name'><span>gti_std</span></div><div class='xr-var-dims'>(time, station)</div><div class='xr-var-dtype'>float64</div><div class='xr-var-preview xr-preview'>0.0 0.7262 0.9102 0.0 0.0</div><input id='attrs-e434e9e7-173d-4fe9-86ac-3184578b2fd9' class='xr-var-attrs-in' type='checkbox' ><label for='attrs-e434e9e7-173d-4fe9-86ac-3184578b2fd9' title='Show/Hide attributes'><svg class='icon xr-icon-file-text2'><use xlink:href='#icon-file-text2'></use></svg></label><input id='data-69bee172-09f3-41d7-bc0a-6dc21e2f7156' class='xr-var-data-in' type='checkbox'><label for='data-69bee172-09f3-41d7-bc0a-6dc21e2f7156' title='Show/Hide data repr'><svg class='icon xr-icon-database'><use xlink:href='#icon-database'></use></svg></label><div class='xr-var-attrs'><dl class='xr-attrs'><dt><span>units :</span></dt><dd>W m-2</dd><dt><span>long_name :</span></dt><dd>downwelling shortwave flux measured on secondary platform, might be tilted</dd><dt><span>standard_name :</span></dt><dd>std_downwelling_shortwave_flux_in_air</dd><dt><span>valid_range :</span></dt><dd>[   0 1023]</dd><dt><span>hangle :</span></dt><dd>0.0</dd><dt><span>vangle :</span></dt><dd>0.0</dd><dt><span>serial :</span></dt><dd>S12137.049</dd><dt><span>calibration_Cabsolute :</span></dt><dd>143266.47564469912</dd><dt><span>calibration_Ccoscorr :</span></dt><dd>1.45 - 3.04·x¹ + 5.59·x² - 3.01·x³</dd><dt><span>calibration_function :</span></dt><dd>flux (W m-2) = flux (V) * Cabsolute (W m-2 V-1) * Ccoscorr(mua)</dd></dl></div><div class='xr-var-data'><pre>array([[0.        ],\n       [0.72619942],\n       [0.91024753],\n       [0.        ],\n       [0.        ]])</pre></div></li><li class='xr-var-item'><div class='xr-var-name'><span>lat</span></div><div class='xr-var-dims'>(time, station)</div><div class='xr-var-dtype'>float64</div><div class='xr-var-preview xr-preview'>nan nan 51.39 51.39 51.39</div><input id='attrs-e6380db3-17ad-4ca4-8bbf-54ee7495842c' class='xr-var-attrs-in' type='checkbox' ><label for='attrs-e6380db3-17ad-4ca4-8bbf-54ee7495842c' title='Show/Hide attributes'><svg class='icon xr-icon-file-text2'><use xlink:href='#icon-file-text2'></use></svg></label><input id='data-45d9b121-7957-4b70-8f8e-379bbdcb248d' class='xr-var-data-in' type='checkbox'><label for='data-45d9b121-7957-4b70-8f8e-379bbdcb248d' title='Show/Hide data repr'><svg class='icon xr-icon-database'><use xlink:href='#icon-database'></use></svg></label><div class='xr-var-attrs'><dl class='xr-attrs'><dt><span>standard_name :</span></dt><dd>latitude</dd><dt><span>units :</span></dt><dd>degree_north</dd><dt><span>valid_range :</span></dt><dd>[-90.  90.]</dd></dl></div><div class='xr-var-data'><pre>array([[        nan],\n       [        nan],\n       [51.39021167],\n       [51.39021086],\n       [51.39021   ]])</pre></div></li><li class='xr-var-item'><div class='xr-var-name'><span>lon</span></div><div class='xr-var-dims'>(time, station)</div><div class='xr-var-dtype'>float64</div><div class='xr-var-preview xr-preview'>nan nan 11.89 11.89 11.89</div><input id='attrs-c5df17ea-c4db-4a7d-81b0-6c3273ef2298' class='xr-var-attrs-in' type='checkbox' ><label for='attrs-c5df17ea-c4db-4a7d-81b0-6c3273ef2298' title='Show/Hide attributes'><svg class='icon xr-icon-file-text2'><use xlink:href='#icon-file-text2'></use></svg></label><input id='data-b078a76e-c39b-4bd4-9531-7f77ec36cbbd' class='xr-var-data-in' type='checkbox'><label for='data-b078a76e-c39b-4bd4-9531-7f77ec36cbbd' title='Show/Hide data repr'><svg class='icon xr-icon-database'><use xlink:href='#icon-database'></use></svg></label><div class='xr-var-attrs'><dl class='xr-attrs'><dt><span>standard_name :</span></dt><dd>longitude</dd><dt><span>units :</span></dt><dd>degree_east</dd><dt><span>valid_range :</span></dt><dd>[-180.  180.]</dd></dl></div><div class='xr-var-data'><pre>array([[        nan],\n       [        nan],\n       [11.88525656],\n       [11.88525425],\n       [11.88525167]])</pre></div></li><li class='xr-var-item'><div class='xr-var-name'><span>maintenance_flag_ghi</span></div><div class='xr-var-dims'>(maintenancetime, station)</div><div class='xr-var-dtype'>float32</div><div class='xr-var-preview xr-preview'>9.0</div><input id='attrs-8e3971d9-c21b-415c-a98e-02c916a84f8d' class='xr-var-attrs-in' type='checkbox' ><label for='attrs-8e3971d9-c21b-415c-a98e-02c916a84f8d' title='Show/Hide attributes'><svg class='icon xr-icon-file-text2'><use xlink:href='#icon-file-text2'></use></svg></label><input id='data-be5f241e-f6f9-4b01-bf58-2372cf0b459e' class='xr-var-data-in' type='checkbox'><label for='data-be5f241e-f6f9-4b01-bf58-2372cf0b459e' title='Show/Hide data repr'><svg class='icon xr-icon-database'><use xlink:href='#icon-database'></use></svg></label><div class='xr-var-attrs'><dl class='xr-attrs'><dt><span>note_general :</span></dt><dd>222</dd><dt><span>note_clean :</span></dt><dd>testing notes</dd><dt><span>note_level :</span></dt><dd>test</dd><dt><span>valid_range :</span></dt><dd>[ 0 11]</dd></dl></div><div class='xr-var-data'><pre>array([[9.]], dtype=float32)</pre></div></li><li class='xr-var-item'><div class='xr-var-name'><span>maintenance_flag_gti</span></div><div class='xr-var-dims'>(maintenancetime, station)</div><div class='xr-var-dtype'>float32</div><div class='xr-var-preview xr-preview'>7.0</div><input id='attrs-cb84013f-5e9b-4e86-938a-939bafa9404a' class='xr-var-attrs-in' type='checkbox' ><label for='attrs-cb84013f-5e9b-4e86-938a-939bafa9404a' title='Show/Hide attributes'><svg class='icon xr-icon-file-text2'><use xlink:href='#icon-file-text2'></use></svg></label><input id='data-31ca95de-4fca-4bf7-b284-f726dd4d7e84' class='xr-var-data-in' type='checkbox'><label for='data-31ca95de-4fca-4bf7-b284-f726dd4d7e84' title='Show/Hide data repr'><svg class='icon xr-icon-database'><use xlink:href='#icon-database'></use></svg></label><div class='xr-var-attrs'><dl class='xr-attrs'><dt><span>note_general :</span></dt><dd>222</dd><dt><span>note_clean :</span></dt><dd></dd><dt><span>note_level :</span></dt><dd></dd><dt><span>valid_range :</span></dt><dd>[ 0 11]</dd></dl></div><div class='xr-var-data'><pre>array([[7.]], dtype=float32)</pre></div></li><li class='xr-var-item'><div class='xr-var-name'><span>szen</span></div><div class='xr-var-dims'>(time, station)</div><div class='xr-var-dtype'>float64</div><div class='xr-var-preview xr-preview'>nan nan 42.51 42.51 42.51</div><input id='attrs-8b679cc8-fcde-4797-9db0-3c35ca912f15' class='xr-var-attrs-in' type='checkbox' ><label for='attrs-8b679cc8-fcde-4797-9db0-3c35ca912f15' title='Show/Hide attributes'><svg class='icon xr-icon-file-text2'><use xlink:href='#icon-file-text2'></use></svg></label><input id='data-879cf77a-735f-4844-9986-c12c9d6b6d2c' class='xr-var-data-in' type='checkbox'><label for='data-879cf77a-735f-4844-9986-c12c9d6b6d2c' title='Show/Hide data repr'><svg class='icon xr-icon-database'><use xlink:href='#icon-database'></use></svg></label><div class='xr-var-attrs'><dl class='xr-attrs'><dt><span>standard_name :</span></dt><dd>solar_zenith_angle</dd><dt><span>units :</span></dt><dd>degree</dd><dt><span>valid_range :</span></dt><dd>[0, 36000]</dd></dl></div><div class='xr-var-data'><pre>array([[        nan],\n       [        nan],\n       [42.51185936],\n       [42.5119952 ],\n       [42.51213125]])</pre></div></li><li class='xr-var-item'><div class='xr-var-name'><span>sazi</span></div><div class='xr-var-dims'>(time, station)</div><div class='xr-var-dtype'>float64</div><div class='xr-var-preview xr-preview'>nan nan 182.9 182.9 182.9</div><input id='attrs-f171e184-4acc-427b-bbf4-b87378abf593' class='xr-var-attrs-in' type='checkbox' ><label for='attrs-f171e184-4acc-427b-bbf4-b87378abf593' title='Show/Hide attributes'><svg class='icon xr-icon-file-text2'><use xlink:href='#icon-file-text2'></use></svg></label><input id='data-20cead38-c9a2-47f4-9bf3-e1a0d1aeebda' class='xr-var-data-in' type='checkbox'><label for='data-20cead38-c9a2-47f4-9bf3-e1a0d1aeebda' title='Show/Hide data repr'><svg class='icon xr-icon-database'><use xlink:href='#icon-database'></use></svg></label><div class='xr-var-attrs'><dl class='xr-attrs'><dt><span>standard_name :</span></dt><dd>solar_azimuth_angle</dd><dt><span>units :</span></dt><dd>degree</dd><dt><span>valid_range :</span></dt><dd>[0, 36000]</dd></dl></div><div class='xr-var-data'><pre>array([[         nan],\n       [         nan],\n       [182.91893638],\n       [182.92502264],\n       [182.93110846]])</pre></div></li><li class='xr-var-item'><div class='xr-var-name'><span>esd</span></div><div class='xr-var-dims'>(station)</div><div class='xr-var-dtype'>float64</div><div class='xr-var-preview xr-preview'>1.01</div><input id='attrs-479217a9-1419-4158-9871-0340bcd70f02' class='xr-var-attrs-in' type='checkbox' ><label for='attrs-479217a9-1419-4158-9871-0340bcd70f02' title='Show/Hide attributes'><svg class='icon xr-icon-file-text2'><use xlink:href='#icon-file-text2'></use></svg></label><input id='data-2809e855-5e98-4c5d-b8de-6cd49b002d2c' class='xr-var-data-in' type='checkbox'><label for='data-2809e855-5e98-4c5d-b8de-6cd49b002d2c' title='Show/Hide data repr'><svg class='icon xr-icon-database'><use xlink:href='#icon-database'></use></svg></label><div class='xr-var-attrs'><dl class='xr-attrs'><dt><span>long_name :</span></dt><dd>Earth-sun distance</dd><dt><span>note :</span></dt><dd>Calculated based on Spencer (1971), as mean of its values over all time steps.</dd><dt><span>units :</span></dt><dd>ua</dd></dl></div><div class='xr-var-data'><pre>array([1.00959973])</pre></div></li><li class='xr-var-item'><div class='xr-var-name'><span>qc_flag_ghi</span></div><div class='xr-var-dims'>(time, station)</div><div class='xr-var-dtype'>uint8</div><div class='xr-var-preview xr-preview'>0 0 0 0 0</div><input id='attrs-f7e4602b-8b1e-4302-adc4-3e1208a143fc' class='xr-var-attrs-in' type='checkbox' ><label for='attrs-f7e4602b-8b1e-4302-adc4-3e1208a143fc' title='Show/Hide attributes'><svg class='icon xr-icon-file-text2'><use xlink:href='#icon-file-text2'></use></svg></label><input id='data-7cdb55c5-54cc-49dd-a2f4-a693303b6826' class='xr-var-data-in' type='checkbox'><label for='data-7cdb55c5-54cc-49dd-a2f4-a693303b6826' title='Show/Hide data repr'><svg class='icon xr-icon-database'><use xlink:href='#icon-database'></use></svg></label><div class='xr-var-attrs'><dl class='xr-attrs'><dt><span>standard_name :</span></dt><dd>quality_flag</dd><dt><span>valid_range :</span></dt><dd>[0, 127]</dd><dt><span>serial :</span></dt><dd>S12128.001</dd><dt><span>calibration_Cabsolute :</span></dt><dd>129366.10608020698</dd><dt><span>calibration_Ccoscorr :</span></dt><dd>1.45 - 3.04·x¹ + 5.59·x² - 3.01·x³</dd><dt><span>calibration_function :</span></dt><dd>flux (W m-2) = flux (V) * Cabsolute (W m-2 V-1) * Ccoscorr(mua)</dd><dt><span>ancillary_variables :</span></dt><dd>ghi</dd><dt><span>flag_masks :</span></dt><dd>[1, 2, 4, 8, 16, 32, 64]</dd><dt><span>flag_values :</span></dt><dd>[1, 2, 4, 8, 16, 32, 64]</dd><dt><span>flag_meanings :</span></dt><dd>below_physical_limit above_physical_limit below_rare_limit above_rare_limit comparison_to_low comparison_to_high quality_control_failed</dd></dl></div><div class='xr-var-data'><pre>array([[0],\n       [0],\n       [0],\n       [0],\n       [0]], dtype=uint8)</pre></div></li><li class='xr-var-item'><div class='xr-var-name'><span>qc_flag_gti</span></div><div class='xr-var-dims'>(time, station)</div><div class='xr-var-dtype'>uint8</div><div class='xr-var-preview xr-preview'>0 0 0 0 0</div><input id='attrs-0a6d3c09-9f87-45f0-97e2-e43b43604acf' class='xr-var-attrs-in' type='checkbox' ><label for='attrs-0a6d3c09-9f87-45f0-97e2-e43b43604acf' title='Show/Hide attributes'><svg class='icon xr-icon-file-text2'><use xlink:href='#icon-file-text2'></use></svg></label><input id='data-cbc6c751-aa04-46eb-8989-7d74089fa92e' class='xr-var-data-in' type='checkbox'><label for='data-cbc6c751-aa04-46eb-8989-7d74089fa92e' title='Show/Hide data repr'><svg class='icon xr-icon-database'><use xlink:href='#icon-database'></use></svg></label><div class='xr-var-attrs'><dl class='xr-attrs'><dt><span>standard_name :</span></dt><dd>quality_flag</dd><dt><span>valid_range :</span></dt><dd>[0, 127]</dd><dt><span>hangle :</span></dt><dd>0.0</dd><dt><span>vangle :</span></dt><dd>0.0</dd><dt><span>serial :</span></dt><dd>S12137.049</dd><dt><span>calibration_Cabsolute :</span></dt><dd>143266.47564469912</dd><dt><span>calibration_Ccoscorr :</span></dt><dd>1.45 - 3.04·x¹ + 5.59·x² - 3.01·x³</dd><dt><span>calibration_function :</span></dt><dd>flux (W m-2) = flux (V) * Cabsolute (W m-2 V-1) * Ccoscorr(mua)</dd><dt><span>ancillary_variables :</span></dt><dd>gti</dd><dt><span>flag_masks :</span></dt><dd>[1, 2, 4, 8, 16, 32, 64]</dd><dt><span>flag_values :</span></dt><dd>[1, 2, 4, 8, 16, 32, 64]</dd><dt><span>flag_meanings :</span></dt><dd>below_physical_limit above_physical_limit below_rare_limit above_rare_limit comparison_to_low comparison_to_high quality_control_failed</dd></dl></div><div class='xr-var-data'><pre>array([[0],\n       [0],\n       [0],\n       [0],\n       [0]], dtype=uint8)</pre></div></li></ul></div></li><li class='xr-section-item'><input id='section-4aa190cb-5399-42da-b30b-a15e969591a9' class='xr-section-summary-in' type='checkbox'  ><label for='section-4aa190cb-5399-42da-b30b-a15e969591a9' class='xr-section-summary' >Indexes: <span>(3)</span></label><div class='xr-section-inline-details'></div><div class='xr-section-details'><ul class='xr-var-list'><li class='xr-var-item'><div class='xr-index-name'><div>station</div></div><div class='xr-index-preview'>PandasIndex</div><div></div><input id='index-db41c40b-2a7e-4dda-8b67-f260328614cb' class='xr-index-data-in' type='checkbox'/><label for='index-db41c40b-2a7e-4dda-8b67-f260328614cb' title='Show/Hide index repr'><svg class='icon xr-icon-database'><use xlink:href='#icon-database'></use></svg></label><div class='xr-index-data'><pre>PandasIndex(Float64Index([1.0], dtype=&#x27;float64&#x27;, name=&#x27;station&#x27;))</pre></div></li><li class='xr-var-item'><div class='xr-index-name'><div>time</div></div><div class='xr-index-preview'>PandasIndex</div><div></div><input id='index-debcc4c6-a807-4e90-8007-9eabb7124802' class='xr-index-data-in' type='checkbox'/><label for='index-debcc4c6-a807-4e90-8007-9eabb7124802' title='Show/Hide index repr'><svg class='icon xr-icon-database'><use xlink:href='#icon-database'></use></svg></label><div class='xr-index-data'><pre>PandasIndex(DatetimeIndex([&#x27;2022-08-30 11:21:03&#x27;, &#x27;2022-08-30 11:21:04&#x27;,\n               &#x27;2022-08-30 11:21:05&#x27;, &#x27;2022-08-30 11:21:06&#x27;,\n               &#x27;2022-08-30 11:21:07&#x27;],\n              dtype=&#x27;datetime64[ns]&#x27;, name=&#x27;time&#x27;, freq=&#x27;S&#x27;))</pre></div></li><li class='xr-var-item'><div class='xr-index-name'><div>maintenancetime</div></div><div class='xr-index-preview'>PandasIndex</div><div></div><input id='index-d377092a-cfd9-4537-b816-14b72e963f25' class='xr-index-data-in' type='checkbox'/><label for='index-d377092a-cfd9-4537-b816-14b72e963f25' title='Show/Hide index repr'><svg class='icon xr-icon-database'><use xlink:href='#icon-database'></use></svg></label><div class='xr-index-data'><pre>PandasIndex(DatetimeIndex([&#x27;2023-05-08 16:09:06&#x27;], dtype=&#x27;datetime64[ns]&#x27;, name=&#x27;maintenancetime&#x27;, freq=None))</pre></div></li></ul></div></li><li class='xr-section-item'><input id='section-07cc3a5d-3be6-4974-a4af-02c2e2da4e9a' class='xr-section-summary-in' type='checkbox'  ><label for='section-07cc3a5d-3be6-4974-a4af-02c2e2da4e9a' class='xr-section-summary' >Attributes: <span>(31)</span></label><div class='xr-section-inline-details'></div><div class='xr-section-details'><dl class='xr-attrs'><dt><span>Conventions :</span></dt><dd>CF-1.10, ACDD-1.3</dd><dt><span>title :</span></dt><dd>TROPOS pyranometer network (PyrNet) observational data set</dd><dt><span>history :</span></dt><dd>2024-02-27T06:51:35: Generated level l1a  by pyrnet version 0.2.0+2.g8cd06c5.dirty; </dd><dt><span>institution :</span></dt><dd>Leibniz Institute for Tropospheric Research (TROPOS)</dd><dt><span>source :</span></dt><dd>TROPOS pyranometer network (PyrNet)</dd><dt><span>references :</span></dt><dd>https://doi.org/10.5194/amt-9-1153-2016</dd><dt><span>Department :</span></dt><dd>Remote Sensing of Atmospheric Processes</dd><dt><span>Department_team :</span></dt><dd>Clouds, Aerosol and Radiation</dd><dt><span>Address :</span></dt><dd>Permoser Str. 15, 04318 Leipzig, Germany</dd><dt><span>Contact_person :</span></dt><dd>Andreas Macke and the clouds, aerosol and radiation team of the remote sensing department, mailto:andreas.macke@tropos.de</dd><dt><span>Contributor_name :</span></dt><dd></dd><dt><span>Contributor_role :</span></dt><dd></dd><dt><span>Authors_software :</span></dt><dd>Hartwig Deneke, Jonas Witthuhn, mailto:deneke@tropos.de</dd><dt><span>Creator_name :</span></dt><dd></dd><dt><span>Project :</span></dt><dd></dd><dt><span>Standard_name_vocabulary :</span></dt><dd>CF Standard Name Table v81</dd><dt><span>License :</span></dt><dd>CC-BY-SA 3.0</dd><dt><span>TESTNOTE :</span></dt><dd>This is a test note.</dd><dt><span>processing_level :</span></dt><dd>l1a</dd><dt><span>product_version :</span></dt><dd>0.2.0+2.g8cd06c5.dirty</dd><dt><span>date_created :</span></dt><dd>2024-02-27T06:51:35</dd><dt><span>geospatial_lat_min :</span></dt><dd>51.390208333333334</dd><dt><span>geospatial_lat_max :</span></dt><dd>51.390211666666666</dd><dt><span>geospatial_lat_units :</span></dt><dd>degN</dd><dt><span>geospatial_lon_min :</span></dt><dd>11.885246666666667</dd><dt><span>geospatial_lon_max :</span></dt><dd>11.885256666666667</dd><dt><span>geospatial_lon_units :</span></dt><dd>degE</dd><dt><span>time_coverage_start :</span></dt><dd>2022-08-30T11:21:04.065000</dd><dt><span>time_coverage_end :</span></dt><dd>2022-08-30T11:21:09</dd><dt><span>time_coverage_duration :</span></dt><dd>P0DT0H0M4.935S</dd><dt><span>time_coverage_resolution :</span></dt><dd>P0DT0H0M1.23375S</dd></dl></div></li></ul></div></div>"
     },
     "execution_count": 32,
     "metadata": {},
     "output_type": "execute_result"
    }
   ],
   "source": [
    "#|dropcode\n",
    "#|dropout\n",
    "ds_l1b = pyrnet.qcrad.add_qc_flags(ds_l1b, config[\"radflux_varname\"])\n",
    "ds_l1b"
   ]
  },
  {
   "cell_type": "markdown",
   "metadata": {
    "collapsed": false
   },
   "source": [
    "### Update variables and global attributes and encoding"
   ]
  },
  {
   "cell_type": "code",
   "execution_count": 33,
   "metadata": {
    "collapsed": false,
    "ExecuteTime": {
     "end_time": "2024-02-27T06:51:37.441445200Z",
     "start_time": "2024-02-27T06:51:37.133272200Z"
    }
   },
   "outputs": [
    {
     "data": {
      "text/plain": "<xarray.Dataset>\nDimensions:               (station: 1, time: 5, maintenancetime: 1)\nCoordinates:\n  * station               (station) float64 1.0\n  * time                  (time) datetime64[ns] 2022-08-30T11:21:03 ... 2022-...\n  * maintenancetime       (maintenancetime) datetime64[ns] 2023-05-08T16:09:06\nData variables: (12/20)\n    ghi                   (time, station) float64 269.9 269.7 280.9 280.9 280.9\n    gti                   (time, station) float64 277.3 277.3 288.8 288.6 288.6\n    ta                    (time, station) float32 294.8 294.7 294.8 294.7 294.8\n    rh                    (time, station) float32 0.6263 0.6266 ... 0.6271 0.629\n    battery_voltage       (time, station) float32 6.445 6.446 6.45 6.448 6.458\n    ghi_min               (time, station) float64 269.9 268.5 280.9 280.9 280.9\n    ...                    ...\n    maintenance_flag_gti  (maintenancetime, station) float32 7.0\n    szen                  (time, station) float64 nan nan 42.51 42.51 42.51\n    sazi                  (time, station) float64 nan nan 182.9 182.9 182.9\n    esd                   (station) float64 1.01\n    qc_flag_ghi           (time, station) uint8 0 0 0 0 0\n    qc_flag_gti           (time, station) uint8 0 0 0 0 0\nAttributes: (12/31)\n    Conventions:               CF-1.10, ACDD-1.3\n    title:                     TROPOS pyranometer network (PyrNet) observatio...\n    history:                   2024-02-27T06:51:35: Generated level l1a  by p...\n    institution:               Leibniz Institute for Tropospheric Research (T...\n    source:                    TROPOS pyranometer network (PyrNet)\n    references:                https://doi.org/10.5194/amt-9-1153-2016\n    ...                        ...\n    geospatial_lon_max:        11.885256558333333\n    geospatial_lon_units:      degE\n    time_coverage_start:       2022-08-30T11:21:03\n    time_coverage_end:         2022-08-30T11:21:07\n    time_coverage_duration:    P0DT0H0M4S\n    time_coverage_resolution:  P0DT0H0M1S",
      "text/html": "<div><svg style=\"position: absolute; width: 0; height: 0; overflow: hidden\">\n<defs>\n<symbol id=\"icon-database\" viewBox=\"0 0 32 32\">\n<path d=\"M16 0c-8.837 0-16 2.239-16 5v4c0 2.761 7.163 5 16 5s16-2.239 16-5v-4c0-2.761-7.163-5-16-5z\"></path>\n<path d=\"M16 17c-8.837 0-16-2.239-16-5v6c0 2.761 7.163 5 16 5s16-2.239 16-5v-6c0 2.761-7.163 5-16 5z\"></path>\n<path d=\"M16 26c-8.837 0-16-2.239-16-5v6c0 2.761 7.163 5 16 5s16-2.239 16-5v-6c0 2.761-7.163 5-16 5z\"></path>\n</symbol>\n<symbol id=\"icon-file-text2\" viewBox=\"0 0 32 32\">\n<path d=\"M28.681 7.159c-0.694-0.947-1.662-2.053-2.724-3.116s-2.169-2.030-3.116-2.724c-1.612-1.182-2.393-1.319-2.841-1.319h-15.5c-1.378 0-2.5 1.121-2.5 2.5v27c0 1.378 1.122 2.5 2.5 2.5h23c1.378 0 2.5-1.122 2.5-2.5v-19.5c0-0.448-0.137-1.23-1.319-2.841zM24.543 5.457c0.959 0.959 1.712 1.825 2.268 2.543h-4.811v-4.811c0.718 0.556 1.584 1.309 2.543 2.268zM28 29.5c0 0.271-0.229 0.5-0.5 0.5h-23c-0.271 0-0.5-0.229-0.5-0.5v-27c0-0.271 0.229-0.5 0.5-0.5 0 0 15.499-0 15.5 0v7c0 0.552 0.448 1 1 1h7v19.5z\"></path>\n<path d=\"M23 26h-14c-0.552 0-1-0.448-1-1s0.448-1 1-1h14c0.552 0 1 0.448 1 1s-0.448 1-1 1z\"></path>\n<path d=\"M23 22h-14c-0.552 0-1-0.448-1-1s0.448-1 1-1h14c0.552 0 1 0.448 1 1s-0.448 1-1 1z\"></path>\n<path d=\"M23 18h-14c-0.552 0-1-0.448-1-1s0.448-1 1-1h14c0.552 0 1 0.448 1 1s-0.448 1-1 1z\"></path>\n</symbol>\n</defs>\n</svg>\n<style>/* CSS stylesheet for displaying xarray objects in jupyterlab.\n *\n */\n\n:root {\n  --xr-font-color0: var(--jp-content-font-color0, rgba(0, 0, 0, 1));\n  --xr-font-color2: var(--jp-content-font-color2, rgba(0, 0, 0, 0.54));\n  --xr-font-color3: var(--jp-content-font-color3, rgba(0, 0, 0, 0.38));\n  --xr-border-color: var(--jp-border-color2, #e0e0e0);\n  --xr-disabled-color: var(--jp-layout-color3, #bdbdbd);\n  --xr-background-color: var(--jp-layout-color0, white);\n  --xr-background-color-row-even: var(--jp-layout-color1, white);\n  --xr-background-color-row-odd: var(--jp-layout-color2, #eeeeee);\n}\n\nhtml[theme=dark],\nbody[data-theme=dark],\nbody.vscode-dark {\n  --xr-font-color0: rgba(255, 255, 255, 1);\n  --xr-font-color2: rgba(255, 255, 255, 0.54);\n  --xr-font-color3: rgba(255, 255, 255, 0.38);\n  --xr-border-color: #1F1F1F;\n  --xr-disabled-color: #515151;\n  --xr-background-color: #111111;\n  --xr-background-color-row-even: #111111;\n  --xr-background-color-row-odd: #313131;\n}\n\n.xr-wrap {\n  display: block !important;\n  min-width: 300px;\n  max-width: 700px;\n}\n\n.xr-text-repr-fallback {\n  /* fallback to plain text repr when CSS is not injected (untrusted notebook) */\n  display: none;\n}\n\n.xr-header {\n  padding-top: 6px;\n  padding-bottom: 6px;\n  margin-bottom: 4px;\n  border-bottom: solid 1px var(--xr-border-color);\n}\n\n.xr-header > div,\n.xr-header > ul {\n  display: inline;\n  margin-top: 0;\n  margin-bottom: 0;\n}\n\n.xr-obj-type,\n.xr-array-name {\n  margin-left: 2px;\n  margin-right: 10px;\n}\n\n.xr-obj-type {\n  color: var(--xr-font-color2);\n}\n\n.xr-sections {\n  padding-left: 0 !important;\n  display: grid;\n  grid-template-columns: 150px auto auto 1fr 20px 20px;\n}\n\n.xr-section-item {\n  display: contents;\n}\n\n.xr-section-item input {\n  display: none;\n}\n\n.xr-section-item input + label {\n  color: var(--xr-disabled-color);\n}\n\n.xr-section-item input:enabled + label {\n  cursor: pointer;\n  color: var(--xr-font-color2);\n}\n\n.xr-section-item input:enabled + label:hover {\n  color: var(--xr-font-color0);\n}\n\n.xr-section-summary {\n  grid-column: 1;\n  color: var(--xr-font-color2);\n  font-weight: 500;\n}\n\n.xr-section-summary > span {\n  display: inline-block;\n  padding-left: 0.5em;\n}\n\n.xr-section-summary-in:disabled + label {\n  color: var(--xr-font-color2);\n}\n\n.xr-section-summary-in + label:before {\n  display: inline-block;\n  content: '►';\n  font-size: 11px;\n  width: 15px;\n  text-align: center;\n}\n\n.xr-section-summary-in:disabled + label:before {\n  color: var(--xr-disabled-color);\n}\n\n.xr-section-summary-in:checked + label:before {\n  content: '▼';\n}\n\n.xr-section-summary-in:checked + label > span {\n  display: none;\n}\n\n.xr-section-summary,\n.xr-section-inline-details {\n  padding-top: 4px;\n  padding-bottom: 4px;\n}\n\n.xr-section-inline-details {\n  grid-column: 2 / -1;\n}\n\n.xr-section-details {\n  display: none;\n  grid-column: 1 / -1;\n  margin-bottom: 5px;\n}\n\n.xr-section-summary-in:checked ~ .xr-section-details {\n  display: contents;\n}\n\n.xr-array-wrap {\n  grid-column: 1 / -1;\n  display: grid;\n  grid-template-columns: 20px auto;\n}\n\n.xr-array-wrap > label {\n  grid-column: 1;\n  vertical-align: top;\n}\n\n.xr-preview {\n  color: var(--xr-font-color3);\n}\n\n.xr-array-preview,\n.xr-array-data {\n  padding: 0 5px !important;\n  grid-column: 2;\n}\n\n.xr-array-data,\n.xr-array-in:checked ~ .xr-array-preview {\n  display: none;\n}\n\n.xr-array-in:checked ~ .xr-array-data,\n.xr-array-preview {\n  display: inline-block;\n}\n\n.xr-dim-list {\n  display: inline-block !important;\n  list-style: none;\n  padding: 0 !important;\n  margin: 0;\n}\n\n.xr-dim-list li {\n  display: inline-block;\n  padding: 0;\n  margin: 0;\n}\n\n.xr-dim-list:before {\n  content: '(';\n}\n\n.xr-dim-list:after {\n  content: ')';\n}\n\n.xr-dim-list li:not(:last-child):after {\n  content: ',';\n  padding-right: 5px;\n}\n\n.xr-has-index {\n  font-weight: bold;\n}\n\n.xr-var-list,\n.xr-var-item {\n  display: contents;\n}\n\n.xr-var-item > div,\n.xr-var-item label,\n.xr-var-item > .xr-var-name span {\n  background-color: var(--xr-background-color-row-even);\n  margin-bottom: 0;\n}\n\n.xr-var-item > .xr-var-name:hover span {\n  padding-right: 5px;\n}\n\n.xr-var-list > li:nth-child(odd) > div,\n.xr-var-list > li:nth-child(odd) > label,\n.xr-var-list > li:nth-child(odd) > .xr-var-name span {\n  background-color: var(--xr-background-color-row-odd);\n}\n\n.xr-var-name {\n  grid-column: 1;\n}\n\n.xr-var-dims {\n  grid-column: 2;\n}\n\n.xr-var-dtype {\n  grid-column: 3;\n  text-align: right;\n  color: var(--xr-font-color2);\n}\n\n.xr-var-preview {\n  grid-column: 4;\n}\n\n.xr-index-preview {\n  grid-column: 2 / 5;\n  color: var(--xr-font-color2);\n}\n\n.xr-var-name,\n.xr-var-dims,\n.xr-var-dtype,\n.xr-preview,\n.xr-attrs dt {\n  white-space: nowrap;\n  overflow: hidden;\n  text-overflow: ellipsis;\n  padding-right: 10px;\n}\n\n.xr-var-name:hover,\n.xr-var-dims:hover,\n.xr-var-dtype:hover,\n.xr-attrs dt:hover {\n  overflow: visible;\n  width: auto;\n  z-index: 1;\n}\n\n.xr-var-attrs,\n.xr-var-data,\n.xr-index-data {\n  display: none;\n  background-color: var(--xr-background-color) !important;\n  padding-bottom: 5px !important;\n}\n\n.xr-var-attrs-in:checked ~ .xr-var-attrs,\n.xr-var-data-in:checked ~ .xr-var-data,\n.xr-index-data-in:checked ~ .xr-index-data {\n  display: block;\n}\n\n.xr-var-data > table {\n  float: right;\n}\n\n.xr-var-name span,\n.xr-var-data,\n.xr-index-name div,\n.xr-index-data,\n.xr-attrs {\n  padding-left: 25px !important;\n}\n\n.xr-attrs,\n.xr-var-attrs,\n.xr-var-data,\n.xr-index-data {\n  grid-column: 1 / -1;\n}\n\ndl.xr-attrs {\n  padding: 0;\n  margin: 0;\n  display: grid;\n  grid-template-columns: 125px auto;\n}\n\n.xr-attrs dt,\n.xr-attrs dd {\n  padding: 0;\n  margin: 0;\n  float: left;\n  padding-right: 10px;\n  width: auto;\n}\n\n.xr-attrs dt {\n  font-weight: normal;\n  grid-column: 1;\n}\n\n.xr-attrs dt:hover span {\n  display: inline-block;\n  background: var(--xr-background-color);\n  padding-right: 10px;\n}\n\n.xr-attrs dd {\n  grid-column: 2;\n  white-space: pre-wrap;\n  word-break: break-all;\n}\n\n.xr-icon-database,\n.xr-icon-file-text2,\n.xr-no-icon {\n  display: inline-block;\n  vertical-align: middle;\n  width: 1em;\n  height: 1.5em !important;\n  stroke-width: 0;\n  stroke: currentColor;\n  fill: currentColor;\n}\n</style><pre class='xr-text-repr-fallback'>&lt;xarray.Dataset&gt;\nDimensions:               (station: 1, time: 5, maintenancetime: 1)\nCoordinates:\n  * station               (station) float64 1.0\n  * time                  (time) datetime64[ns] 2022-08-30T11:21:03 ... 2022-...\n  * maintenancetime       (maintenancetime) datetime64[ns] 2023-05-08T16:09:06\nData variables: (12/20)\n    ghi                   (time, station) float64 269.9 269.7 280.9 280.9 280.9\n    gti                   (time, station) float64 277.3 277.3 288.8 288.6 288.6\n    ta                    (time, station) float32 294.8 294.7 294.8 294.7 294.8\n    rh                    (time, station) float32 0.6263 0.6266 ... 0.6271 0.629\n    battery_voltage       (time, station) float32 6.445 6.446 6.45 6.448 6.458\n    ghi_min               (time, station) float64 269.9 268.5 280.9 280.9 280.9\n    ...                    ...\n    maintenance_flag_gti  (maintenancetime, station) float32 7.0\n    szen                  (time, station) float64 nan nan 42.51 42.51 42.51\n    sazi                  (time, station) float64 nan nan 182.9 182.9 182.9\n    esd                   (station) float64 1.01\n    qc_flag_ghi           (time, station) uint8 0 0 0 0 0\n    qc_flag_gti           (time, station) uint8 0 0 0 0 0\nAttributes: (12/31)\n    Conventions:               CF-1.10, ACDD-1.3\n    title:                     TROPOS pyranometer network (PyrNet) observatio...\n    history:                   2024-02-27T06:51:35: Generated level l1a  by p...\n    institution:               Leibniz Institute for Tropospheric Research (T...\n    source:                    TROPOS pyranometer network (PyrNet)\n    references:                https://doi.org/10.5194/amt-9-1153-2016\n    ...                        ...\n    geospatial_lon_max:        11.885256558333333\n    geospatial_lon_units:      degE\n    time_coverage_start:       2022-08-30T11:21:03\n    time_coverage_end:         2022-08-30T11:21:07\n    time_coverage_duration:    P0DT0H0M4S\n    time_coverage_resolution:  P0DT0H0M1S</pre><div class='xr-wrap' style='display:none'><div class='xr-header'><div class='xr-obj-type'>xarray.Dataset</div></div><ul class='xr-sections'><li class='xr-section-item'><input id='section-6f79b731-bcf5-4b0b-9496-1aa19ea305b3' class='xr-section-summary-in' type='checkbox' disabled ><label for='section-6f79b731-bcf5-4b0b-9496-1aa19ea305b3' class='xr-section-summary'  title='Expand/collapse section'>Dimensions:</label><div class='xr-section-inline-details'><ul class='xr-dim-list'><li><span class='xr-has-index'>station</span>: 1</li><li><span class='xr-has-index'>time</span>: 5</li><li><span class='xr-has-index'>maintenancetime</span>: 1</li></ul></div><div class='xr-section-details'></div></li><li class='xr-section-item'><input id='section-1b8409fa-80bf-4837-938e-58f52408da4b' class='xr-section-summary-in' type='checkbox'  checked><label for='section-1b8409fa-80bf-4837-938e-58f52408da4b' class='xr-section-summary' >Coordinates: <span>(3)</span></label><div class='xr-section-inline-details'></div><div class='xr-section-details'><ul class='xr-var-list'><li class='xr-var-item'><div class='xr-var-name'><span class='xr-has-index'>station</span></div><div class='xr-var-dims'>(station)</div><div class='xr-var-dtype'>float64</div><div class='xr-var-preview xr-preview'>1.0</div><input id='attrs-5afe5611-1abe-49d2-adc7-6b8ca3477ff9' class='xr-var-attrs-in' type='checkbox' ><label for='attrs-5afe5611-1abe-49d2-adc7-6b8ca3477ff9' title='Show/Hide attributes'><svg class='icon xr-icon-file-text2'><use xlink:href='#icon-file-text2'></use></svg></label><input id='data-1d88961c-e8b8-4105-967a-4350265b602c' class='xr-var-data-in' type='checkbox'><label for='data-1d88961c-e8b8-4105-967a-4350265b602c' title='Show/Hide data repr'><svg class='icon xr-icon-database'><use xlink:href='#icon-database'></use></svg></label><div class='xr-var-attrs'><dl class='xr-attrs'><dt><span>units :</span></dt><dd>-</dd><dt><span>long_name :</span></dt><dd>PyrNet unit box number</dd></dl></div><div class='xr-var-data'><pre>array([1.])</pre></div></li><li class='xr-var-item'><div class='xr-var-name'><span class='xr-has-index'>time</span></div><div class='xr-var-dims'>(time)</div><div class='xr-var-dtype'>datetime64[ns]</div><div class='xr-var-preview xr-preview'>2022-08-30T11:21:03 ... 2022-08-...</div><input id='attrs-de73d2e7-3f90-4dbd-aff7-567f9ae38b6b' class='xr-var-attrs-in' type='checkbox' disabled><label for='attrs-de73d2e7-3f90-4dbd-aff7-567f9ae38b6b' title='Show/Hide attributes'><svg class='icon xr-icon-file-text2'><use xlink:href='#icon-file-text2'></use></svg></label><input id='data-99c13760-e842-4e82-b9c7-d171e78b6c82' class='xr-var-data-in' type='checkbox'><label for='data-99c13760-e842-4e82-b9c7-d171e78b6c82' title='Show/Hide data repr'><svg class='icon xr-icon-database'><use xlink:href='#icon-database'></use></svg></label><div class='xr-var-attrs'><dl class='xr-attrs'></dl></div><div class='xr-var-data'><pre>array([&#x27;2022-08-30T11:21:03.000000000&#x27;, &#x27;2022-08-30T11:21:04.000000000&#x27;,\n       &#x27;2022-08-30T11:21:05.000000000&#x27;, &#x27;2022-08-30T11:21:06.000000000&#x27;,\n       &#x27;2022-08-30T11:21:07.000000000&#x27;], dtype=&#x27;datetime64[ns]&#x27;)</pre></div></li><li class='xr-var-item'><div class='xr-var-name'><span class='xr-has-index'>maintenancetime</span></div><div class='xr-var-dims'>(maintenancetime)</div><div class='xr-var-dtype'>datetime64[ns]</div><div class='xr-var-preview xr-preview'>2023-05-08T16:09:06</div><input id='attrs-a9432cf4-c5b4-48aa-85b6-dca3693e726e' class='xr-var-attrs-in' type='checkbox' disabled><label for='attrs-a9432cf4-c5b4-48aa-85b6-dca3693e726e' title='Show/Hide attributes'><svg class='icon xr-icon-file-text2'><use xlink:href='#icon-file-text2'></use></svg></label><input id='data-898b67f3-eb58-4b2c-af68-d5a82521e785' class='xr-var-data-in' type='checkbox'><label for='data-898b67f3-eb58-4b2c-af68-d5a82521e785' title='Show/Hide data repr'><svg class='icon xr-icon-database'><use xlink:href='#icon-database'></use></svg></label><div class='xr-var-attrs'><dl class='xr-attrs'></dl></div><div class='xr-var-data'><pre>array([&#x27;2023-05-08T16:09:06.000000000&#x27;], dtype=&#x27;datetime64[ns]&#x27;)</pre></div></li></ul></div></li><li class='xr-section-item'><input id='section-ee1cb892-eb8b-48d6-867a-ecfc59e06128' class='xr-section-summary-in' type='checkbox'  ><label for='section-ee1cb892-eb8b-48d6-867a-ecfc59e06128' class='xr-section-summary' >Data variables: <span>(20)</span></label><div class='xr-section-inline-details'></div><div class='xr-section-details'><ul class='xr-var-list'><li class='xr-var-item'><div class='xr-var-name'><span>ghi</span></div><div class='xr-var-dims'>(time, station)</div><div class='xr-var-dtype'>float64</div><div class='xr-var-preview xr-preview'>269.9 269.7 280.9 280.9 280.9</div><input id='attrs-b668d5f6-d898-4cd4-9835-ce4dcc1a0b88' class='xr-var-attrs-in' type='checkbox' ><label for='attrs-b668d5f6-d898-4cd4-9835-ce4dcc1a0b88' title='Show/Hide attributes'><svg class='icon xr-icon-file-text2'><use xlink:href='#icon-file-text2'></use></svg></label><input id='data-73da2d83-5262-4a89-8a30-0129a5cef5b9' class='xr-var-data-in' type='checkbox'><label for='data-73da2d83-5262-4a89-8a30-0129a5cef5b9' title='Show/Hide data repr'><svg class='icon xr-icon-database'><use xlink:href='#icon-database'></use></svg></label><div class='xr-var-attrs'><dl class='xr-attrs'><dt><span>units :</span></dt><dd>W m-2</dd><dt><span>long_name :</span></dt><dd>downwelling shortwave flux</dd><dt><span>standard_name :</span></dt><dd>downwelling_shortwave_flux_in_air</dd><dt><span>valid_range :</span></dt><dd>[   0 1023]</dd><dt><span>serial :</span></dt><dd>S12128.001</dd><dt><span>calibration_Cabsolute :</span></dt><dd>129366.10608020698</dd><dt><span>calibration_Ccoscorr :</span></dt><dd>1.45 - 3.04·x¹ + 5.59·x² - 3.01·x³</dd><dt><span>calibration_function :</span></dt><dd>flux (W m-2) = flux (V) * Cabsolute (W m-2 V-1) * Ccoscorr(mua)</dd></dl></div><div class='xr-var-data'><pre>array([[269.860475  ],\n       [269.72137902],\n       [280.90462604],\n       [280.90449869],\n       [280.90437115]])</pre></div></li><li class='xr-var-item'><div class='xr-var-name'><span>gti</span></div><div class='xr-var-dims'>(time, station)</div><div class='xr-var-dtype'>float64</div><div class='xr-var-preview xr-preview'>277.3 277.3 288.8 288.6 288.6</div><input id='attrs-36d090fe-5b39-45a4-8360-a782cb2211aa' class='xr-var-attrs-in' type='checkbox' ><label for='attrs-36d090fe-5b39-45a4-8360-a782cb2211aa' title='Show/Hide attributes'><svg class='icon xr-icon-file-text2'><use xlink:href='#icon-file-text2'></use></svg></label><input id='data-9336d997-4eb5-40ac-bcde-3a17b0e126c0' class='xr-var-data-in' type='checkbox'><label for='data-9336d997-4eb5-40ac-bcde-3a17b0e126c0' title='Show/Hide data repr'><svg class='icon xr-icon-database'><use xlink:href='#icon-database'></use></svg></label><div class='xr-var-attrs'><dl class='xr-attrs'><dt><span>units :</span></dt><dd>W m-2</dd><dt><span>long_name :</span></dt><dd>downwelling shortwave flux measured on secondary platform, might be tilted</dd><dt><span>standard_name :</span></dt><dd>downwelling_shortwave_flux_in_air</dd><dt><span>valid_range :</span></dt><dd>[   0 1023]</dd><dt><span>hangle :</span></dt><dd>0.0</dd><dt><span>vangle :</span></dt><dd>0.0</dd><dt><span>serial :</span></dt><dd>S12137.049</dd><dt><span>calibration_Cabsolute :</span></dt><dd>143266.47564469912</dd><dt><span>calibration_Ccoscorr :</span></dt><dd>1.45 - 3.04·x¹ + 5.59·x² - 3.01·x³</dd><dt><span>calibration_function :</span></dt><dd>flux (W m-2) = flux (V) * Cabsolute (W m-2 V-1) * Ccoscorr(mua)</dd></dl></div><div class='xr-var-data'><pre>array([[277.28995527],\n       [277.28995527],\n       [288.79852425],\n       [288.63802999],\n       [288.63789894]])</pre></div></li><li class='xr-var-item'><div class='xr-var-name'><span>ta</span></div><div class='xr-var-dims'>(time, station)</div><div class='xr-var-dtype'>float32</div><div class='xr-var-preview xr-preview'>294.8 294.7 294.8 294.7 294.8</div><input id='attrs-e1cdf75a-d7e1-47f7-bbaf-b7c6c051fcf7' class='xr-var-attrs-in' type='checkbox' ><label for='attrs-e1cdf75a-d7e1-47f7-bbaf-b7c6c051fcf7' title='Show/Hide attributes'><svg class='icon xr-icon-file-text2'><use xlink:href='#icon-file-text2'></use></svg></label><input id='data-5025109a-9174-463e-a95e-ede4a6f8f80e' class='xr-var-data-in' type='checkbox'><label for='data-5025109a-9174-463e-a95e-ede4a6f8f80e' title='Show/Hide data repr'><svg class='icon xr-icon-database'><use xlink:href='#icon-database'></use></svg></label><div class='xr-var-attrs'><dl class='xr-attrs'><dt><span>units :</span></dt><dd>K</dd><dt><span>long_name :</span></dt><dd>air temperature</dd><dt><span>standard_name :</span></dt><dd>air_temperature</dd><dt><span>valid_range :</span></dt><dd>[  0 775]</dd></dl></div><div class='xr-var-data'><pre>array([[294.7758 ],\n       [294.74997],\n       [294.7887 ],\n       [294.74997],\n       [294.82742]], dtype=float32)</pre></div></li><li class='xr-var-item'><div class='xr-var-name'><span>rh</span></div><div class='xr-var-dims'>(time, station)</div><div class='xr-var-dtype'>float32</div><div class='xr-var-preview xr-preview'>0.6263 0.6266 0.6271 0.6271 0.629</div><input id='attrs-18523b7c-ce8d-4b69-8a2f-75542e7d7753' class='xr-var-attrs-in' type='checkbox' ><label for='attrs-18523b7c-ce8d-4b69-8a2f-75542e7d7753' title='Show/Hide attributes'><svg class='icon xr-icon-file-text2'><use xlink:href='#icon-file-text2'></use></svg></label><input id='data-8ff65c6f-50be-4a07-896a-9f89f88ab188' class='xr-var-data-in' type='checkbox'><label for='data-8ff65c6f-50be-4a07-896a-9f89f88ab188' title='Show/Hide data repr'><svg class='icon xr-icon-database'><use xlink:href='#icon-database'></use></svg></label><div class='xr-var-attrs'><dl class='xr-attrs'><dt><span>units :</span></dt><dd>1</dd><dt><span>long_name :</span></dt><dd>air relative humidity</dd><dt><span>standard_name :</span></dt><dd>relative_humidity</dd><dt><span>valid_range :</span></dt><dd>[  0 775]</dd></dl></div><div class='xr-var-data'><pre>array([[0.62632257],\n       [0.6265806 ],\n       [0.6270968 ],\n       [0.6270968 ],\n       [0.62903225]], dtype=float32)</pre></div></li><li class='xr-var-item'><div class='xr-var-name'><span>battery_voltage</span></div><div class='xr-var-dims'>(time, station)</div><div class='xr-var-dtype'>float32</div><div class='xr-var-preview xr-preview'>6.445 6.446 6.45 6.448 6.458</div><input id='attrs-0d70b43f-3c77-4933-831f-55be472a126d' class='xr-var-attrs-in' type='checkbox' ><label for='attrs-0d70b43f-3c77-4933-831f-55be472a126d' title='Show/Hide attributes'><svg class='icon xr-icon-file-text2'><use xlink:href='#icon-file-text2'></use></svg></label><input id='data-3dbd7b33-6339-47ca-ad3b-95ca56a8b8c7' class='xr-var-data-in' type='checkbox'><label for='data-3dbd7b33-6339-47ca-ad3b-95ca56a8b8c7' title='Show/Hide data repr'><svg class='icon xr-icon-database'><use xlink:href='#icon-database'></use></svg></label><div class='xr-var-attrs'><dl class='xr-attrs'><dt><span>units :</span></dt><dd>V</dd><dt><span>standard_name :</span></dt><dd>battery_voltage</dd><dt><span>valid_range :</span></dt><dd>[  0 992]</dd></dl></div><div class='xr-var-data'><pre>array([[6.4451613],\n       [6.445807 ],\n       [6.4496775],\n       [6.4477415],\n       [6.4580646]], dtype=float32)</pre></div></li><li class='xr-var-item'><div class='xr-var-name'><span>ghi_min</span></div><div class='xr-var-dims'>(time, station)</div><div class='xr-var-dtype'>float64</div><div class='xr-var-preview xr-preview'>269.9 268.5 280.9 280.9 280.9</div><input id='attrs-b68a39ef-6b00-411a-ba27-369dc59caddc' class='xr-var-attrs-in' type='checkbox' ><label for='attrs-b68a39ef-6b00-411a-ba27-369dc59caddc' title='Show/Hide attributes'><svg class='icon xr-icon-file-text2'><use xlink:href='#icon-file-text2'></use></svg></label><input id='data-37dc47ed-6cd0-480a-babb-91ec19bde398' class='xr-var-data-in' type='checkbox'><label for='data-37dc47ed-6cd0-480a-babb-91ec19bde398' title='Show/Hide data repr'><svg class='icon xr-icon-database'><use xlink:href='#icon-database'></use></svg></label><div class='xr-var-attrs'><dl class='xr-attrs'><dt><span>units :</span></dt><dd>W m-2</dd><dt><span>long_name :</span></dt><dd>downwelling shortwave flux</dd><dt><span>standard_name :</span></dt><dd>min_downwelling_shortwave_flux_in_air</dd><dt><span>valid_range :</span></dt><dd>[   0 1023]</dd><dt><span>serial :</span></dt><dd>S12128.001</dd><dt><span>calibration_Cabsolute :</span></dt><dd>129366.10608020698</dd><dt><span>calibration_Ccoscorr :</span></dt><dd>1.45 - 3.04·x¹ + 5.59·x² - 3.01·x³</dd><dt><span>calibration_function :</span></dt><dd>flux (W m-2) = flux (V) * Cabsolute (W m-2 V-1) * Ccoscorr(mua)</dd></dl></div><div class='xr-var-data'><pre>array([[269.860475  ],\n       [268.46945498],\n       [280.90462604],\n       [280.90449869],\n       [280.90437115]])</pre></div></li><li class='xr-var-item'><div class='xr-var-name'><span>gti_min</span></div><div class='xr-var-dims'>(time, station)</div><div class='xr-var-dtype'>float64</div><div class='xr-var-preview xr-preview'>277.3 275.7 287.0 288.6 288.6</div><input id='attrs-fbdad4e9-aae2-4e33-895c-f63403295263' class='xr-var-attrs-in' type='checkbox' ><label for='attrs-fbdad4e9-aae2-4e33-895c-f63403295263' title='Show/Hide attributes'><svg class='icon xr-icon-file-text2'><use xlink:href='#icon-file-text2'></use></svg></label><input id='data-8af23783-d4d5-4ead-962e-cb67ad53c407' class='xr-var-data-in' type='checkbox'><label for='data-8af23783-d4d5-4ead-962e-cb67ad53c407' title='Show/Hide data repr'><svg class='icon xr-icon-database'><use xlink:href='#icon-database'></use></svg></label><div class='xr-var-attrs'><dl class='xr-attrs'><dt><span>units :</span></dt><dd>W m-2</dd><dt><span>long_name :</span></dt><dd>downwelling shortwave flux measured on secondary platform, might be tilted</dd><dt><span>standard_name :</span></dt><dd>min_downwelling_shortwave_flux_in_air</dd><dt><span>valid_range :</span></dt><dd>[   0 1023]</dd><dt><span>hangle :</span></dt><dd>0.0</dd><dt><span>vangle :</span></dt><dd>0.0</dd><dt><span>serial :</span></dt><dd>S12137.049</dd><dt><span>calibration_Cabsolute :</span></dt><dd>143266.47564469912</dd><dt><span>calibration_Ccoscorr :</span></dt><dd>1.45 - 3.04·x¹ + 5.59·x² - 3.01·x³</dd><dt><span>calibration_function :</span></dt><dd>flux (W m-2) = flux (V) * Cabsolute (W m-2 V-1) * Ccoscorr(mua)</dd></dl></div><div class='xr-var-data'><pre>array([[277.28995527],\n       [275.74945367],\n       [287.03461358],\n       [288.63802999],\n       [288.63789894]])</pre></div></li><li class='xr-var-item'><div class='xr-var-name'><span>ghi_max</span></div><div class='xr-var-dims'>(time, station)</div><div class='xr-var-dtype'>float64</div><div class='xr-var-preview xr-preview'>269.9 269.9 280.9 280.9 280.9</div><input id='attrs-7a7b0171-4dcd-4726-bb53-41bbc8d56e2d' class='xr-var-attrs-in' type='checkbox' ><label for='attrs-7a7b0171-4dcd-4726-bb53-41bbc8d56e2d' title='Show/Hide attributes'><svg class='icon xr-icon-file-text2'><use xlink:href='#icon-file-text2'></use></svg></label><input id='data-ec24e8aa-621c-4762-a728-450d49cf963e' class='xr-var-data-in' type='checkbox'><label for='data-ec24e8aa-621c-4762-a728-450d49cf963e' title='Show/Hide data repr'><svg class='icon xr-icon-database'><use xlink:href='#icon-database'></use></svg></label><div class='xr-var-attrs'><dl class='xr-attrs'><dt><span>units :</span></dt><dd>W m-2</dd><dt><span>long_name :</span></dt><dd>downwelling shortwave flux</dd><dt><span>standard_name :</span></dt><dd>max_downwelling_shortwave_flux_in_air</dd><dt><span>valid_range :</span></dt><dd>[   0 1023]</dd><dt><span>serial :</span></dt><dd>S12128.001</dd><dt><span>calibration_Cabsolute :</span></dt><dd>129366.10608020698</dd><dt><span>calibration_Ccoscorr :</span></dt><dd>1.45 - 3.04·x¹ + 5.59·x² - 3.01·x³</dd><dt><span>calibration_function :</span></dt><dd>flux (W m-2) = flux (V) * Cabsolute (W m-2 V-1) * Ccoscorr(mua)</dd></dl></div><div class='xr-var-data'><pre>array([[269.860475  ],\n       [269.860475  ],\n       [280.90462604],\n       [280.90449869],\n       [280.90437115]])</pre></div></li><li class='xr-var-item'><div class='xr-var-name'><span>gti_max</span></div><div class='xr-var-dims'>(time, station)</div><div class='xr-var-dtype'>float64</div><div class='xr-var-preview xr-preview'>277.3 278.8 290.2 288.6 288.6</div><input id='attrs-5e74d6d5-f05a-4045-86d5-1b470c560dc0' class='xr-var-attrs-in' type='checkbox' ><label for='attrs-5e74d6d5-f05a-4045-86d5-1b470c560dc0' title='Show/Hide attributes'><svg class='icon xr-icon-file-text2'><use xlink:href='#icon-file-text2'></use></svg></label><input id='data-5c46772c-fe50-4710-acac-6b2c3b9cf17d' class='xr-var-data-in' type='checkbox'><label for='data-5c46772c-fe50-4710-acac-6b2c3b9cf17d' title='Show/Hide data repr'><svg class='icon xr-icon-database'><use xlink:href='#icon-database'></use></svg></label><div class='xr-var-attrs'><dl class='xr-attrs'><dt><span>units :</span></dt><dd>W m-2</dd><dt><span>long_name :</span></dt><dd>downwelling shortwave flux measured on secondary platform, might be tilted</dd><dt><span>standard_name :</span></dt><dd>max_downwelling_shortwave_flux_in_air</dd><dt><span>valid_range :</span></dt><dd>[   0 1023]</dd><dt><span>hangle :</span></dt><dd>0.0</dd><dt><span>vangle :</span></dt><dd>0.0</dd><dt><span>serial :</span></dt><dd>S12137.049</dd><dt><span>calibration_Cabsolute :</span></dt><dd>143266.47564469912</dd><dt><span>calibration_Ccoscorr :</span></dt><dd>1.45 - 3.04·x¹ + 5.59·x² - 3.01·x³</dd><dt><span>calibration_function :</span></dt><dd>flux (W m-2) = flux (V) * Cabsolute (W m-2 V-1) * Ccoscorr(mua)</dd></dl></div><div class='xr-var-data'><pre>array([[277.28995527],\n       [278.83045688],\n       [290.24170811],\n       [288.63802999],\n       [288.63789894]])</pre></div></li><li class='xr-var-item'><div class='xr-var-name'><span>ghi_std</span></div><div class='xr-var-dims'>(time, station)</div><div class='xr-var-dtype'>float64</div><div class='xr-var-preview xr-preview'>0.0 0.4399 0.0 0.0 0.0</div><input id='attrs-fefc6995-265f-4583-9a73-d9ebdf26a8f4' class='xr-var-attrs-in' type='checkbox' ><label for='attrs-fefc6995-265f-4583-9a73-d9ebdf26a8f4' title='Show/Hide attributes'><svg class='icon xr-icon-file-text2'><use xlink:href='#icon-file-text2'></use></svg></label><input id='data-0cf5f146-f941-4a0f-942c-79906c176b99' class='xr-var-data-in' type='checkbox'><label for='data-0cf5f146-f941-4a0f-942c-79906c176b99' title='Show/Hide data repr'><svg class='icon xr-icon-database'><use xlink:href='#icon-database'></use></svg></label><div class='xr-var-attrs'><dl class='xr-attrs'><dt><span>units :</span></dt><dd>W m-2</dd><dt><span>long_name :</span></dt><dd>downwelling shortwave flux</dd><dt><span>standard_name :</span></dt><dd>std_downwelling_shortwave_flux_in_air</dd><dt><span>valid_range :</span></dt><dd>[   0 1023]</dd><dt><span>serial :</span></dt><dd>S12128.001</dd><dt><span>calibration_Cabsolute :</span></dt><dd>129366.10608020698</dd><dt><span>calibration_Ccoscorr :</span></dt><dd>1.45 - 3.04·x¹ + 5.59·x² - 3.01·x³</dd><dt><span>calibration_function :</span></dt><dd>flux (W m-2) = flux (V) * Cabsolute (W m-2 V-1) * Ccoscorr(mua)</dd></dl></div><div class='xr-var-data'><pre>array([[0.        ],\n       [0.43987915],\n       [0.        ],\n       [0.        ],\n       [0.        ]])</pre></div></li><li class='xr-var-item'><div class='xr-var-name'><span>gti_std</span></div><div class='xr-var-dims'>(time, station)</div><div class='xr-var-dtype'>float64</div><div class='xr-var-preview xr-preview'>0.0 0.7262 0.9102 0.0 0.0</div><input id='attrs-cea92edb-ac56-452c-a95d-74144785c1d4' class='xr-var-attrs-in' type='checkbox' ><label for='attrs-cea92edb-ac56-452c-a95d-74144785c1d4' title='Show/Hide attributes'><svg class='icon xr-icon-file-text2'><use xlink:href='#icon-file-text2'></use></svg></label><input id='data-f85dda37-b005-4eae-aa3a-665138b55418' class='xr-var-data-in' type='checkbox'><label for='data-f85dda37-b005-4eae-aa3a-665138b55418' title='Show/Hide data repr'><svg class='icon xr-icon-database'><use xlink:href='#icon-database'></use></svg></label><div class='xr-var-attrs'><dl class='xr-attrs'><dt><span>units :</span></dt><dd>W m-2</dd><dt><span>long_name :</span></dt><dd>downwelling shortwave flux measured on secondary platform, might be tilted</dd><dt><span>standard_name :</span></dt><dd>std_downwelling_shortwave_flux_in_air</dd><dt><span>valid_range :</span></dt><dd>[   0 1023]</dd><dt><span>hangle :</span></dt><dd>0.0</dd><dt><span>vangle :</span></dt><dd>0.0</dd><dt><span>serial :</span></dt><dd>S12137.049</dd><dt><span>calibration_Cabsolute :</span></dt><dd>143266.47564469912</dd><dt><span>calibration_Ccoscorr :</span></dt><dd>1.45 - 3.04·x¹ + 5.59·x² - 3.01·x³</dd><dt><span>calibration_function :</span></dt><dd>flux (W m-2) = flux (V) * Cabsolute (W m-2 V-1) * Ccoscorr(mua)</dd></dl></div><div class='xr-var-data'><pre>array([[0.        ],\n       [0.72619942],\n       [0.91024753],\n       [0.        ],\n       [0.        ]])</pre></div></li><li class='xr-var-item'><div class='xr-var-name'><span>lat</span></div><div class='xr-var-dims'>(time, station)</div><div class='xr-var-dtype'>float64</div><div class='xr-var-preview xr-preview'>nan nan 51.39 51.39 51.39</div><input id='attrs-7922c2a5-dce7-4c2b-b0f1-0fad874534e0' class='xr-var-attrs-in' type='checkbox' ><label for='attrs-7922c2a5-dce7-4c2b-b0f1-0fad874534e0' title='Show/Hide attributes'><svg class='icon xr-icon-file-text2'><use xlink:href='#icon-file-text2'></use></svg></label><input id='data-a9d58a3e-aab9-45ef-a94f-8e1795520cf2' class='xr-var-data-in' type='checkbox'><label for='data-a9d58a3e-aab9-45ef-a94f-8e1795520cf2' title='Show/Hide data repr'><svg class='icon xr-icon-database'><use xlink:href='#icon-database'></use></svg></label><div class='xr-var-attrs'><dl class='xr-attrs'><dt><span>standard_name :</span></dt><dd>latitude</dd><dt><span>units :</span></dt><dd>degree_north</dd><dt><span>valid_range :</span></dt><dd>[-90.  90.]</dd></dl></div><div class='xr-var-data'><pre>array([[        nan],\n       [        nan],\n       [51.39021167],\n       [51.39021086],\n       [51.39021   ]])</pre></div></li><li class='xr-var-item'><div class='xr-var-name'><span>lon</span></div><div class='xr-var-dims'>(time, station)</div><div class='xr-var-dtype'>float64</div><div class='xr-var-preview xr-preview'>nan nan 11.89 11.89 11.89</div><input id='attrs-d9c0fbc3-5552-4cbb-8d05-08a28ad37491' class='xr-var-attrs-in' type='checkbox' ><label for='attrs-d9c0fbc3-5552-4cbb-8d05-08a28ad37491' title='Show/Hide attributes'><svg class='icon xr-icon-file-text2'><use xlink:href='#icon-file-text2'></use></svg></label><input id='data-736c710e-e7fd-4a3e-866b-ac554a30f7d0' class='xr-var-data-in' type='checkbox'><label for='data-736c710e-e7fd-4a3e-866b-ac554a30f7d0' title='Show/Hide data repr'><svg class='icon xr-icon-database'><use xlink:href='#icon-database'></use></svg></label><div class='xr-var-attrs'><dl class='xr-attrs'><dt><span>standard_name :</span></dt><dd>longitude</dd><dt><span>units :</span></dt><dd>degree_east</dd><dt><span>valid_range :</span></dt><dd>[-180.  180.]</dd></dl></div><div class='xr-var-data'><pre>array([[        nan],\n       [        nan],\n       [11.88525656],\n       [11.88525425],\n       [11.88525167]])</pre></div></li><li class='xr-var-item'><div class='xr-var-name'><span>maintenance_flag_ghi</span></div><div class='xr-var-dims'>(maintenancetime, station)</div><div class='xr-var-dtype'>float32</div><div class='xr-var-preview xr-preview'>9.0</div><input id='attrs-c129771e-4e01-49ff-9f1f-5c6eb699e9a7' class='xr-var-attrs-in' type='checkbox' ><label for='attrs-c129771e-4e01-49ff-9f1f-5c6eb699e9a7' title='Show/Hide attributes'><svg class='icon xr-icon-file-text2'><use xlink:href='#icon-file-text2'></use></svg></label><input id='data-26e448e3-b60f-4e5b-bf94-9dc9679eb808' class='xr-var-data-in' type='checkbox'><label for='data-26e448e3-b60f-4e5b-bf94-9dc9679eb808' title='Show/Hide data repr'><svg class='icon xr-icon-database'><use xlink:href='#icon-database'></use></svg></label><div class='xr-var-attrs'><dl class='xr-attrs'><dt><span>note_general :</span></dt><dd>222</dd><dt><span>note_clean :</span></dt><dd>testing notes</dd><dt><span>note_level :</span></dt><dd>test</dd><dt><span>valid_range :</span></dt><dd>[ 0 11]</dd></dl></div><div class='xr-var-data'><pre>array([[9.]], dtype=float32)</pre></div></li><li class='xr-var-item'><div class='xr-var-name'><span>maintenance_flag_gti</span></div><div class='xr-var-dims'>(maintenancetime, station)</div><div class='xr-var-dtype'>float32</div><div class='xr-var-preview xr-preview'>7.0</div><input id='attrs-35d3860f-42e1-4453-922a-5b84de1b16fd' class='xr-var-attrs-in' type='checkbox' ><label for='attrs-35d3860f-42e1-4453-922a-5b84de1b16fd' title='Show/Hide attributes'><svg class='icon xr-icon-file-text2'><use xlink:href='#icon-file-text2'></use></svg></label><input id='data-c536c074-8ce6-4f46-bfdd-c451d5c6b069' class='xr-var-data-in' type='checkbox'><label for='data-c536c074-8ce6-4f46-bfdd-c451d5c6b069' title='Show/Hide data repr'><svg class='icon xr-icon-database'><use xlink:href='#icon-database'></use></svg></label><div class='xr-var-attrs'><dl class='xr-attrs'><dt><span>note_general :</span></dt><dd>222</dd><dt><span>note_clean :</span></dt><dd></dd><dt><span>note_level :</span></dt><dd></dd><dt><span>valid_range :</span></dt><dd>[ 0 11]</dd></dl></div><div class='xr-var-data'><pre>array([[7.]], dtype=float32)</pre></div></li><li class='xr-var-item'><div class='xr-var-name'><span>szen</span></div><div class='xr-var-dims'>(time, station)</div><div class='xr-var-dtype'>float64</div><div class='xr-var-preview xr-preview'>nan nan 42.51 42.51 42.51</div><input id='attrs-e90ff0f0-97e2-47d5-835a-32e4807b96c1' class='xr-var-attrs-in' type='checkbox' ><label for='attrs-e90ff0f0-97e2-47d5-835a-32e4807b96c1' title='Show/Hide attributes'><svg class='icon xr-icon-file-text2'><use xlink:href='#icon-file-text2'></use></svg></label><input id='data-09f5cb1d-d3f4-4715-9f2c-3e96f4f3c16c' class='xr-var-data-in' type='checkbox'><label for='data-09f5cb1d-d3f4-4715-9f2c-3e96f4f3c16c' title='Show/Hide data repr'><svg class='icon xr-icon-database'><use xlink:href='#icon-database'></use></svg></label><div class='xr-var-attrs'><dl class='xr-attrs'><dt><span>standard_name :</span></dt><dd>solar_zenith_angle</dd><dt><span>units :</span></dt><dd>degree</dd><dt><span>valid_range :</span></dt><dd>[0, 36000]</dd></dl></div><div class='xr-var-data'><pre>array([[        nan],\n       [        nan],\n       [42.51185936],\n       [42.5119952 ],\n       [42.51213125]])</pre></div></li><li class='xr-var-item'><div class='xr-var-name'><span>sazi</span></div><div class='xr-var-dims'>(time, station)</div><div class='xr-var-dtype'>float64</div><div class='xr-var-preview xr-preview'>nan nan 182.9 182.9 182.9</div><input id='attrs-935456b1-da59-4287-9c48-c35d57a160cd' class='xr-var-attrs-in' type='checkbox' ><label for='attrs-935456b1-da59-4287-9c48-c35d57a160cd' title='Show/Hide attributes'><svg class='icon xr-icon-file-text2'><use xlink:href='#icon-file-text2'></use></svg></label><input id='data-1ae1dc10-75da-437f-84a8-5f2e083069be' class='xr-var-data-in' type='checkbox'><label for='data-1ae1dc10-75da-437f-84a8-5f2e083069be' title='Show/Hide data repr'><svg class='icon xr-icon-database'><use xlink:href='#icon-database'></use></svg></label><div class='xr-var-attrs'><dl class='xr-attrs'><dt><span>standard_name :</span></dt><dd>solar_azimuth_angle</dd><dt><span>units :</span></dt><dd>degree</dd><dt><span>valid_range :</span></dt><dd>[0, 36000]</dd></dl></div><div class='xr-var-data'><pre>array([[         nan],\n       [         nan],\n       [182.91893638],\n       [182.92502264],\n       [182.93110846]])</pre></div></li><li class='xr-var-item'><div class='xr-var-name'><span>esd</span></div><div class='xr-var-dims'>(station)</div><div class='xr-var-dtype'>float64</div><div class='xr-var-preview xr-preview'>1.01</div><input id='attrs-00c95bfd-c35f-4408-b593-deafa6e27913' class='xr-var-attrs-in' type='checkbox' ><label for='attrs-00c95bfd-c35f-4408-b593-deafa6e27913' title='Show/Hide attributes'><svg class='icon xr-icon-file-text2'><use xlink:href='#icon-file-text2'></use></svg></label><input id='data-48fc8b6a-b8cc-4cf6-96f9-c8277c1bb154' class='xr-var-data-in' type='checkbox'><label for='data-48fc8b6a-b8cc-4cf6-96f9-c8277c1bb154' title='Show/Hide data repr'><svg class='icon xr-icon-database'><use xlink:href='#icon-database'></use></svg></label><div class='xr-var-attrs'><dl class='xr-attrs'><dt><span>long_name :</span></dt><dd>Earth-sun distance</dd><dt><span>note :</span></dt><dd>Calculated based on Spencer (1971), as mean of its values over all time steps.</dd><dt><span>units :</span></dt><dd>ua</dd></dl></div><div class='xr-var-data'><pre>array([1.00959973])</pre></div></li><li class='xr-var-item'><div class='xr-var-name'><span>qc_flag_ghi</span></div><div class='xr-var-dims'>(time, station)</div><div class='xr-var-dtype'>uint8</div><div class='xr-var-preview xr-preview'>0 0 0 0 0</div><input id='attrs-41e5eaff-f3d2-4a02-933f-febb4ff89378' class='xr-var-attrs-in' type='checkbox' ><label for='attrs-41e5eaff-f3d2-4a02-933f-febb4ff89378' title='Show/Hide attributes'><svg class='icon xr-icon-file-text2'><use xlink:href='#icon-file-text2'></use></svg></label><input id='data-f0186a04-128e-474a-94a2-50ec3ae8a596' class='xr-var-data-in' type='checkbox'><label for='data-f0186a04-128e-474a-94a2-50ec3ae8a596' title='Show/Hide data repr'><svg class='icon xr-icon-database'><use xlink:href='#icon-database'></use></svg></label><div class='xr-var-attrs'><dl class='xr-attrs'><dt><span>standard_name :</span></dt><dd>quality_flag</dd><dt><span>valid_range :</span></dt><dd>[0, 127]</dd><dt><span>serial :</span></dt><dd>S12128.001</dd><dt><span>calibration_Cabsolute :</span></dt><dd>129366.10608020698</dd><dt><span>calibration_Ccoscorr :</span></dt><dd>1.45 - 3.04·x¹ + 5.59·x² - 3.01·x³</dd><dt><span>calibration_function :</span></dt><dd>flux (W m-2) = flux (V) * Cabsolute (W m-2 V-1) * Ccoscorr(mua)</dd><dt><span>ancillary_variables :</span></dt><dd>ghi</dd><dt><span>flag_masks :</span></dt><dd>[1, 2, 4, 8, 16, 32, 64]</dd><dt><span>flag_values :</span></dt><dd>[1, 2, 4, 8, 16, 32, 64]</dd><dt><span>flag_meanings :</span></dt><dd>below_physical_limit above_physical_limit below_rare_limit above_rare_limit comparison_to_low comparison_to_high quality_control_failed</dd></dl></div><div class='xr-var-data'><pre>array([[0],\n       [0],\n       [0],\n       [0],\n       [0]], dtype=uint8)</pre></div></li><li class='xr-var-item'><div class='xr-var-name'><span>qc_flag_gti</span></div><div class='xr-var-dims'>(time, station)</div><div class='xr-var-dtype'>uint8</div><div class='xr-var-preview xr-preview'>0 0 0 0 0</div><input id='attrs-f23898ca-6bf1-4e5c-93b4-63b712909cb6' class='xr-var-attrs-in' type='checkbox' ><label for='attrs-f23898ca-6bf1-4e5c-93b4-63b712909cb6' title='Show/Hide attributes'><svg class='icon xr-icon-file-text2'><use xlink:href='#icon-file-text2'></use></svg></label><input id='data-d346f275-34e5-4877-ae67-4fc1afcdd7d9' class='xr-var-data-in' type='checkbox'><label for='data-d346f275-34e5-4877-ae67-4fc1afcdd7d9' title='Show/Hide data repr'><svg class='icon xr-icon-database'><use xlink:href='#icon-database'></use></svg></label><div class='xr-var-attrs'><dl class='xr-attrs'><dt><span>standard_name :</span></dt><dd>quality_flag</dd><dt><span>valid_range :</span></dt><dd>[0, 127]</dd><dt><span>hangle :</span></dt><dd>0.0</dd><dt><span>vangle :</span></dt><dd>0.0</dd><dt><span>serial :</span></dt><dd>S12137.049</dd><dt><span>calibration_Cabsolute :</span></dt><dd>143266.47564469912</dd><dt><span>calibration_Ccoscorr :</span></dt><dd>1.45 - 3.04·x¹ + 5.59·x² - 3.01·x³</dd><dt><span>calibration_function :</span></dt><dd>flux (W m-2) = flux (V) * Cabsolute (W m-2 V-1) * Ccoscorr(mua)</dd><dt><span>ancillary_variables :</span></dt><dd>gti</dd><dt><span>flag_masks :</span></dt><dd>[1, 2, 4, 8, 16, 32, 64]</dd><dt><span>flag_values :</span></dt><dd>[1, 2, 4, 8, 16, 32, 64]</dd><dt><span>flag_meanings :</span></dt><dd>below_physical_limit above_physical_limit below_rare_limit above_rare_limit comparison_to_low comparison_to_high quality_control_failed</dd></dl></div><div class='xr-var-data'><pre>array([[0],\n       [0],\n       [0],\n       [0],\n       [0]], dtype=uint8)</pre></div></li></ul></div></li><li class='xr-section-item'><input id='section-3b67c5a5-8140-419c-b821-e8410ceebee1' class='xr-section-summary-in' type='checkbox'  ><label for='section-3b67c5a5-8140-419c-b821-e8410ceebee1' class='xr-section-summary' >Indexes: <span>(3)</span></label><div class='xr-section-inline-details'></div><div class='xr-section-details'><ul class='xr-var-list'><li class='xr-var-item'><div class='xr-index-name'><div>station</div></div><div class='xr-index-preview'>PandasIndex</div><div></div><input id='index-407dc09b-76f6-4ff6-93f8-b8cf574aba05' class='xr-index-data-in' type='checkbox'/><label for='index-407dc09b-76f6-4ff6-93f8-b8cf574aba05' title='Show/Hide index repr'><svg class='icon xr-icon-database'><use xlink:href='#icon-database'></use></svg></label><div class='xr-index-data'><pre>PandasIndex(Float64Index([1.0], dtype=&#x27;float64&#x27;, name=&#x27;station&#x27;))</pre></div></li><li class='xr-var-item'><div class='xr-index-name'><div>time</div></div><div class='xr-index-preview'>PandasIndex</div><div></div><input id='index-0021003a-d82b-4332-8695-96619eadf77a' class='xr-index-data-in' type='checkbox'/><label for='index-0021003a-d82b-4332-8695-96619eadf77a' title='Show/Hide index repr'><svg class='icon xr-icon-database'><use xlink:href='#icon-database'></use></svg></label><div class='xr-index-data'><pre>PandasIndex(DatetimeIndex([&#x27;2022-08-30 11:21:03&#x27;, &#x27;2022-08-30 11:21:04&#x27;,\n               &#x27;2022-08-30 11:21:05&#x27;, &#x27;2022-08-30 11:21:06&#x27;,\n               &#x27;2022-08-30 11:21:07&#x27;],\n              dtype=&#x27;datetime64[ns]&#x27;, name=&#x27;time&#x27;, freq=&#x27;S&#x27;))</pre></div></li><li class='xr-var-item'><div class='xr-index-name'><div>maintenancetime</div></div><div class='xr-index-preview'>PandasIndex</div><div></div><input id='index-9f43867e-3ac0-4b01-95c0-89c8f1d61a46' class='xr-index-data-in' type='checkbox'/><label for='index-9f43867e-3ac0-4b01-95c0-89c8f1d61a46' title='Show/Hide index repr'><svg class='icon xr-icon-database'><use xlink:href='#icon-database'></use></svg></label><div class='xr-index-data'><pre>PandasIndex(DatetimeIndex([&#x27;2023-05-08 16:09:06&#x27;], dtype=&#x27;datetime64[ns]&#x27;, name=&#x27;maintenancetime&#x27;, freq=None))</pre></div></li></ul></div></li><li class='xr-section-item'><input id='section-a2e8ab0e-a8fc-49e4-8f0d-5237a7b523f0' class='xr-section-summary-in' type='checkbox'  ><label for='section-a2e8ab0e-a8fc-49e4-8f0d-5237a7b523f0' class='xr-section-summary' >Attributes: <span>(31)</span></label><div class='xr-section-inline-details'></div><div class='xr-section-details'><dl class='xr-attrs'><dt><span>Conventions :</span></dt><dd>CF-1.10, ACDD-1.3</dd><dt><span>title :</span></dt><dd>TROPOS pyranometer network (PyrNet) observational data set</dd><dt><span>history :</span></dt><dd>2024-02-27T06:51:35: Generated level l1a  by pyrnet version 0.2.0+2.g8cd06c5.dirty; 2024-02-27T06:51:37: Generated level l1b  by pyrnet version 0.2.0+2.g8cd06c5.dirty; </dd><dt><span>institution :</span></dt><dd>Leibniz Institute for Tropospheric Research (TROPOS)</dd><dt><span>source :</span></dt><dd>TROPOS pyranometer network (PyrNet)</dd><dt><span>references :</span></dt><dd>https://doi.org/10.5194/amt-9-1153-2016</dd><dt><span>Department :</span></dt><dd>Remote Sensing of Atmospheric Processes</dd><dt><span>Department_team :</span></dt><dd>Clouds, Aerosol and Radiation</dd><dt><span>Address :</span></dt><dd>Permoser Str. 15, 04318 Leipzig, Germany</dd><dt><span>Contact_person :</span></dt><dd>Andreas Macke and the clouds, aerosol and radiation team of the remote sensing department, mailto:andreas.macke@tropos.de</dd><dt><span>Contributor_name :</span></dt><dd></dd><dt><span>Contributor_role :</span></dt><dd></dd><dt><span>Authors_software :</span></dt><dd>Hartwig Deneke, Jonas Witthuhn, mailto:deneke@tropos.de</dd><dt><span>Creator_name :</span></dt><dd></dd><dt><span>Project :</span></dt><dd></dd><dt><span>Standard_name_vocabulary :</span></dt><dd>CF Standard Name Table v81</dd><dt><span>License :</span></dt><dd>CC-BY-SA 3.0</dd><dt><span>TESTNOTE :</span></dt><dd>This is a test note.</dd><dt><span>processing_level :</span></dt><dd>l1b</dd><dt><span>product_version :</span></dt><dd>0.2.0+2.g8cd06c5.dirty</dd><dt><span>date_created :</span></dt><dd>2024-02-27T06:51:37</dd><dt><span>geospatial_lat_min :</span></dt><dd>51.39021</dd><dt><span>geospatial_lat_max :</span></dt><dd>51.390211666666666</dd><dt><span>geospatial_lat_units :</span></dt><dd>degN</dd><dt><span>geospatial_lon_min :</span></dt><dd>11.885251666666667</dd><dt><span>geospatial_lon_max :</span></dt><dd>11.885256558333333</dd><dt><span>geospatial_lon_units :</span></dt><dd>degE</dd><dt><span>time_coverage_start :</span></dt><dd>2022-08-30T11:21:03</dd><dt><span>time_coverage_end :</span></dt><dd>2022-08-30T11:21:07</dd><dt><span>time_coverage_duration :</span></dt><dd>P0DT0H0M4S</dd><dt><span>time_coverage_resolution :</span></dt><dd>P0DT0H0M1S</dd></dl></div></li></ul></div></div>"
     },
     "execution_count": 33,
     "metadata": {},
     "output_type": "execute_result"
    }
   ],
   "source": [
    "#|dropcode\n",
    "#|dropout\n",
    "# add global coverage attributes\n",
    "ds_l1b = update_coverage_meta(ds_l1b, timevar=\"time\")\n",
    "\n",
    "ds_l1b.attrs[\"processing_level\"] = 'l1b'\n",
    "now = pd.to_datetime(np.datetime64(\"now\"))\n",
    "ds_l1b.attrs[\"history\"] = ds_l1b.history + f\"{now.isoformat()}: Generated level l1b  by pyrnet version {pyrnet_version}; \"\n",
    "\n",
    "ds_l1b"
   ]
  },
  {
   "cell_type": "code",
   "execution_count": 34,
   "metadata": {
    "collapsed": false,
    "ExecuteTime": {
     "end_time": "2024-02-27T06:51:37.448427600Z",
     "start_time": "2024-02-27T06:51:37.162519Z"
    }
   },
   "outputs": [],
   "source": [
    "#|hide\n",
    "# dsp = ds_l1b.sel(time=\"2019-07-15\")\n",
    "# plt.figure()\n",
    "# plt.plot(dsp.time, dsp.ghi)\n",
    "# plt.grid()"
   ]
  },
  {
   "cell_type": "code",
   "execution_count": 35,
   "metadata": {
    "collapsed": false,
    "ExecuteTime": {
     "end_time": "2024-02-27T06:51:37.449426100Z",
     "start_time": "2024-02-27T06:51:37.169092300Z"
    }
   },
   "outputs": [],
   "source": [
    "#|hide\n",
    "# ds_l1b.to_netcdf(\"../../testnb/to_l1b_output.nc\",\n",
    "#                  encoding={'time':{'dtype':'float64'}})"
   ]
  },
  {
   "cell_type": "code",
   "execution_count": 36,
   "metadata": {
    "collapsed": false,
    "ExecuteTime": {
     "end_time": "2024-02-27T06:51:37.449426100Z",
     "start_time": "2024-02-27T06:51:37.179028300Z"
    }
   },
   "outputs": [],
   "source": [
    "#|hide\n",
    "# dsp = xr.load_dataset(\"../../testnb/to_l1b_output.nc\").sel(time=\"2019-07-15\")\n",
    "# plt.figure()\n",
    "# plt.plot(dsp.time, dsp.ghi)\n",
    "# plt.grid()"
   ]
  },
  {
   "cell_type": "markdown",
   "metadata": {
    "collapsed": false
   },
   "source": [
    "## to_l1b function"
   ]
  },
  {
   "cell_type": "code",
   "execution_count": 37,
   "metadata": {
    "collapsed": false,
    "ExecuteTime": {
     "end_time": "2024-02-27T06:51:37.449426100Z",
     "start_time": "2024-02-27T06:51:37.185017200Z"
    }
   },
   "outputs": [],
   "source": [
    "#|export\n",
    "#|dropcode\n",
    "def to_l1b(\n",
    "        fname: str,\n",
    "        *,\n",
    "        config: dict | None = None,\n",
    "        global_attrs: dict | None = None,\n",
    "        check_adc_sync: bool = True\n",
    ") -> xr.Dataset|None:\n",
    "\n",
    "    config = get_config(config)\n",
    "    gattrs, vattrs, vencode = get_cfmeta(config)\n",
    "\n",
    "    if global_attrs is not None:\n",
    "        gattrs.update(global_attrs)\n",
    "\n",
    "    ######################################################################################\n",
    "    ## Load l1a data\n",
    "    ds_l1a = xr.open_dataset(fname)\n",
    "    # check correct file\n",
    "    if ds_l1a.processing_level != \"l1a\":\n",
    "        logger.warning(f\"{fname} is not a l1a file. Skip.\")\n",
    "        return None\n",
    "\n",
    "    ######################################################################################\n",
    "    ## Sync GPS to ADC time\n",
    "    adctime = pyrnet.logger.sync_adc_time(\n",
    "        adctime = ds_l1a.adctime.values,\n",
    "        gpstime = ds_l1a.gpstime.values,\n",
    "        iadc = ds_l1a.iadc.squeeze().values.astype(int),\n",
    "        check_results = check_adc_sync\n",
    "    )\n",
    "    \n",
    "    if adctime is None:\n",
    "        logger.warning(f\"Could not fit GPS to ADC time for file {fname}. Skip.\")\n",
    "        return None\n",
    "\n",
    "    ######################################################################################\n",
    "    ## Create new dataset (l1b)\n",
    "    ds_l1b = ds_l1a.drop_dims('gpstime')\n",
    "    ds_l1b = ds_l1b.drop_vars(['maintenance_flag_ghi','maintenance_flag_gti']) # keep only time dependent variables\n",
    "    ds_l1b = ds_l1b.assign({'time': ('adctime', adctime)})\n",
    "    ds_l1b = ds_l1b.swap_dims({\"adctime\":\"time\"})\n",
    "    ds_l1b = ds_l1b.drop_vars(\"adctime\")\n",
    "\n",
    "    ds_l1b[\"time\"].encoding.update({\n",
    "        \"dtype\": 'float64',\n",
    "        \"units\": f\"seconds since {np.datetime_as_string(ds_l1b.time.data[0], unit='D')}T00:00Z\",\n",
    "    })\n",
    "    logger.info(f\"Dataset time coverage before strip: {ds_l1b.time.values[0]} - {ds_l1b.time.values[-1]}\")\n",
    "\n",
    "    ######################################################################################\n",
    "    ## Drop first and last <stripminutes> minutes of data to avoid bad data due to maintenance\n",
    "    stripminutes = np.timedelta64(int(config['stripminutes']), 'm')\n",
    "    if (ds_l1b.time.values[0] + 3*stripminutes) > ds_l1b.time.values[-1]:\n",
    "        logger.warning(f\"{fname} has not enough data. Skip.\")\n",
    "        return None\n",
    "\n",
    "    ds_l1b = ds_l1b.isel(time=ds_l1b.time>ds_l1b.time.values[0] + stripminutes)\n",
    "    ds_l1b = ds_l1b.isel(time=ds_l1b.time<ds_l1b.time.values[-1] - stripminutes)\n",
    "    if ds_l1b.time.size < 10:\n",
    "        logger.warning(f\"{fname} has not enough data, after strip. Skip.\")\n",
    "        return None\n",
    "\n",
    "\n",
    "    logger.info(f\"Dataset time coverage after strip: {ds_l1b.time.values[0]} - {ds_l1b.time.values[-1]}\")\n",
    "\n",
    "    #####################################################################################\n",
    "    ## resample to desired resolution\n",
    "    # save station coordinate\n",
    "    station_dim = {\"station\": ds_l1b[\"station\"].values}\n",
    "    station_attrs = ds_l1b[\"station\"].attrs\n",
    "\n",
    "    # resample on time dimension with specified methods\n",
    "    methods = ['mean'] + config[\"l1b_resample_stats\"]\n",
    "    res = resample(\n",
    "        ds_l1b.squeeze().drop_vars(\"station\"), # drop station coordinate and variable\n",
    "        freq=config['l1bfreq'],\n",
    "        methods=methods,\n",
    "        kwargs=dict(skipna=True)\n",
    "    )\n",
    "    \n",
    "    # add standard names for new variables\n",
    "    # apply for variables if both in config['radflux_varname'] and ds_l1b.keys()\n",
    "    radflux_vars = list(set(config['radflux_varname'])&set(ds_l1b.keys()))\n",
    "    ds_l1b = res[0]\n",
    "    for i, method in enumerate(methods[1:]):\n",
    "        for var in radflux_vars:\n",
    "            ds_l1b[f\"{var}_{method}\"] = res[i+1][var]\n",
    "            ds_l1b[f\"{var}_{method}\"].attrs.update({\n",
    "                \"standard_name\": f\"{method}_\"+ds_l1b[f\"{var}_{method}\"].attrs[\"standard_name\"]\n",
    "            })\n",
    "    \n",
    "    # add station dimension back again\n",
    "    ds_l1b = ds_l1b.expand_dims(station_dim, axis=-1)\n",
    "    ds_l1b[\"station\"].attrs.update(station_attrs)\n",
    "    \n",
    "    ######################################################################################\n",
    "    ## Interpolate GPS coordinates to l1b time\n",
    "    ds_gps = ds_l1a.drop_dims(\"adctime\")\n",
    "    ds_gps = ds_gps.drop_vars(['iadc'])\n",
    "\n",
    "    # Decide whether geo coordinates should be averaged or not\n",
    "    if config['average_latlon']:\n",
    "        ds_gps = ds_gps.mean('gpstime', skipna=True, keep_attrs=True)\n",
    "    else:\n",
    "        ds_gps = ds_gps.interp(gpstime=ds_l1b.time)\n",
    "        ds_gps = ds_gps.drop_vars(\"gpstime\")\n",
    "\n",
    "    ds_l1b = xr.merge((ds_l1b,ds_gps))\n",
    "\n",
    "    ######################################################################################\n",
    "    ## Calc and add sun position\n",
    "    szen, sazi = sp.sun_angles(\n",
    "        time=ds_l1b.time.values[:,None], # line up with coordinates to keep dependence on time only\n",
    "        lat=ds_l1b.lat.values,\n",
    "        lon=ds_l1b.lon.values\n",
    "    )\n",
    "    szen  = szen.squeeze()\n",
    "    sazi = sazi.squeeze()\n",
    "\n",
    "    esd = np.mean(sp.earth_sun_distance(ds_l1b.time.values))\n",
    "\n",
    "    ds_l1b = ds_l1b.assign(\n",
    "        {\n",
    "            \"szen\": ((\"time\", \"station\"), szen[:,None]),\n",
    "            \"sazi\": ((\"time\", \"station\"), sazi[:,None]),\n",
    "            \"esd\": (\"station\", [esd])\n",
    "        }\n",
    "    )\n",
    "    # update attributes and encoding\n",
    "    for key in ['szen', 'sazi','esd']:\n",
    "        ds_l1b[key].attrs.update(vattrs[key])\n",
    "\n",
    "    ######################################################################################\n",
    "    ## rad flux calibration\n",
    "    box = ds_l1b.station.values[0]\n",
    "    boxnumber, serial, cfac, CCcoef = pyrnet.pyrnet.meta_lookup(\n",
    "        ds_l1b.time.values[0],\n",
    "        box=box,\n",
    "        cfile=config['file_calibration'],\n",
    "        mapfile=config['file_mapping'],\n",
    "    )\n",
    "    logger.info(f\"Meta Lookup:\")\n",
    "    logger.info(f\">> Box={box}\")\n",
    "    logger.info(f\">> serial(s)={serial}\")\n",
    "    logger.info(f\">> calibration factor(s)={cfac}\")\n",
    "\n",
    "    mu0 = np.cos(np.deg2rad(ds_l1b.szen.values))\n",
    "    \n",
    "    # calibrate radiation flux with gain=300\n",
    "    for i, radflx in enumerate(config['radflux_varname']):\n",
    "        # all radflux related variables (including <radflux>_<resamplemethod> variables)\n",
    "        radflx_vars = [var for var in ds_l1b if var.startswith(radflx)]\n",
    "        if cfac[i] is None:\n",
    "            # drop if calibration/instrument don't exist (probably secondary pyranometer).\n",
    "            ds_l1b = ds_l1b.drop_vars(radflx_vars)\n",
    "            continue\n",
    "        \n",
    "        # calc apparent zenith angle if possible\n",
    "        mua = mu0.copy()\n",
    "        if \"vangle\" in ds_l1b[radflx].attrs:\n",
    "            vangle = pyrnet.utils.make_iter(ds_l1b[radflx].attrs[\"vangle\"])\n",
    "            hangle = pyrnet.utils.make_iter(ds_l1b[radflx].attrs[\"hangle\"])\n",
    "            mua = pyrnet.utils.calc_apparent_coszen(\n",
    "                pitch=vangle,\n",
    "                yaw=hangle,\n",
    "                zen=ds_l1b.szen.values,\n",
    "                azi=ds_l1b.sazi.values\n",
    "            )\n",
    "        \n",
    "        mask_mua = ~np.isnan(mua)\n",
    "        Ca = 1e6/cfac[i]\n",
    "        Cc = np.polynomial.polynomial.polyval(mua, c=CCcoef)\n",
    "        Cmu = mu0/mua\n",
    "        # apply to all variables\n",
    "        for var in radflx_vars:\n",
    "            calib_func = \"flux (W m-2) = flux (V) * Cabsolute (W m-2 V-1)\"\n",
    "            C = np.ones(mu0.shape)*Ca\n",
    "            if radflx == \"gti\":\n",
    "                C[mask_mua] *= Cc[mask_mua]\n",
    "                calib_func += \"\" if np.all(np.isnan(mua)) else \" * Ccoscorr(mua)\"\n",
    "            else:\n",
    "                C[mask_mua] *= Cc[mask_mua] * Cmu[mask_mua]\n",
    "                calib_func += \" * Ccoscorr(mua)\" # * mu0/mua\" (not implemented)\n",
    "            ds_l1b[var].values = ds_l1b[var].values*C\n",
    "    \n",
    "            ds_l1b[var].attrs['units'] = \"W m-2\",\n",
    "            ds_l1b[var].attrs.update({\n",
    "                \"units\": \"W m-2\",\n",
    "                \"serial\": serial[i],\n",
    "                \"calibration_Cabsolute\": Ca,\n",
    "                \"calibration_Ccoscorr\": str(np.polynomial.polynomial.Polynomial(CCcoef)),\n",
    "                \"calibration_function\": calib_func\n",
    "            })\n",
    "\n",
    "    ######################################################################################  \n",
    "    ## add quality flags\n",
    "    ds_l1b = pyrnet.qcrad.add_qc_flags(ds_l1b, config[\"radflux_varname\"])\n",
    "\n",
    "    ######################################################################################\n",
    "    ## Update variables, global attributes and encoding\n",
    "    #add global coverage attributes\n",
    "    ds_l1b = update_coverage_meta(ds_l1b, timevar=\"time\")\n",
    "    ds_l1b.attrs[\"processing_level\"] = 'l1b'\n",
    "    ds_l1b.attrs[\"product_version\"] = pyrnet_version\n",
    "    now = pd.to_datetime(np.datetime64(\"now\"))\n",
    "    ds_l1b.attrs[\"history\"] = ds_l1b.history + f\"{now.isoformat()}: Generated level l1b  by pyrnet version {pyrnet_version}; \"\n",
    "\n",
    "    # update encoding\n",
    "    ds_l1b = add_encoding(ds_l1b, vencode=vencode)\n",
    "\n",
    "    return ds_l1b"
   ]
  },
  {
   "cell_type": "markdown",
   "metadata": {
    "collapsed": false
   },
   "source": [
    "## Test to_l1b function"
   ]
  },
  {
   "cell_type": "code",
   "execution_count": 38,
   "metadata": {
    "collapsed": false,
    "ExecuteTime": {
     "end_time": "2024-02-27T06:51:37.753005800Z",
     "start_time": "2024-02-27T06:51:37.213306Z"
    }
   },
   "outputs": [
    {
     "name": "stdout",
     "output_type": "stream",
     "text": [
      "Processing fname:\n",
      "2022-08-30_P0DT0H0M8S_pyrnet_test_s001l1bf1s.c01.nc\n"
     ]
    },
    {
     "data": {
      "text/plain": "<xarray.Dataset>\nDimensions:               (station: 1, time: 9, maintenancetime: 1)\nCoordinates:\n  * station               (station) float64 1.0\n  * time                  (time) datetime64[ns] 2022-08-30T11:21:01 ... 2022-...\n  * maintenancetime       (maintenancetime) datetime64[ns] 2023-05-08T16:09:06\nData variables: (12/20)\n    ghi                   (time, station) float64 280.9 280.9 ... 280.9 280.9\n    gti                   (time, station) float64 289.0 289.0 ... 288.6 289.4\n    ta                    (time, station) float32 294.8 294.7 ... 294.7 294.8\n    rh                    (time, station) float32 0.6253 0.6248 ... 0.628 0.629\n    battery_voltage       (time, station) float32 6.443 6.445 ... 6.449 6.465\n    ghi_min               (time, station) float64 280.9 280.9 ... 280.9 280.9\n    ...                    ...\n    maintenance_flag_gti  (maintenancetime, station) float32 7.0\n    szen                  (time, station) float64 42.51 42.51 ... 42.51 42.51\n    sazi                  (time, station) float64 182.9 182.9 ... 182.9 182.9\n    esd                   (station) float64 1.01\n    qc_flag_ghi           (time, station) uint8 0 0 0 0 0 0 0 0 0\n    qc_flag_gti           (time, station) uint8 0 0 0 0 0 0 0 0 0\nAttributes: (12/31)\n    Conventions:               CF-1.10, ACDD-1.3\n    title:                     TROPOS pyranometer network (PyrNet) observatio...\n    history:                   2024-02-27T06:51:35: Generated level l1a  by p...\n    institution:               Leibniz Institute for Tropospheric Research (T...\n    source:                    TROPOS pyranometer network (PyrNet)\n    references:                https://doi.org/10.5194/amt-9-1153-2016\n    ...                        ...\n    geospatial_lon_max:        11.885252\n    geospatial_lon_units:      degE\n    time_coverage_start:       2022-08-30T11:21:01\n    time_coverage_end:         2022-08-30T11:21:09\n    time_coverage_duration:    P0DT0H0M8S\n    time_coverage_resolution:  P0DT0H0M1S",
      "text/html": "<div><svg style=\"position: absolute; width: 0; height: 0; overflow: hidden\">\n<defs>\n<symbol id=\"icon-database\" viewBox=\"0 0 32 32\">\n<path d=\"M16 0c-8.837 0-16 2.239-16 5v4c0 2.761 7.163 5 16 5s16-2.239 16-5v-4c0-2.761-7.163-5-16-5z\"></path>\n<path d=\"M16 17c-8.837 0-16-2.239-16-5v6c0 2.761 7.163 5 16 5s16-2.239 16-5v-6c0 2.761-7.163 5-16 5z\"></path>\n<path d=\"M16 26c-8.837 0-16-2.239-16-5v6c0 2.761 7.163 5 16 5s16-2.239 16-5v-6c0 2.761-7.163 5-16 5z\"></path>\n</symbol>\n<symbol id=\"icon-file-text2\" viewBox=\"0 0 32 32\">\n<path d=\"M28.681 7.159c-0.694-0.947-1.662-2.053-2.724-3.116s-2.169-2.030-3.116-2.724c-1.612-1.182-2.393-1.319-2.841-1.319h-15.5c-1.378 0-2.5 1.121-2.5 2.5v27c0 1.378 1.122 2.5 2.5 2.5h23c1.378 0 2.5-1.122 2.5-2.5v-19.5c0-0.448-0.137-1.23-1.319-2.841zM24.543 5.457c0.959 0.959 1.712 1.825 2.268 2.543h-4.811v-4.811c0.718 0.556 1.584 1.309 2.543 2.268zM28 29.5c0 0.271-0.229 0.5-0.5 0.5h-23c-0.271 0-0.5-0.229-0.5-0.5v-27c0-0.271 0.229-0.5 0.5-0.5 0 0 15.499-0 15.5 0v7c0 0.552 0.448 1 1 1h7v19.5z\"></path>\n<path d=\"M23 26h-14c-0.552 0-1-0.448-1-1s0.448-1 1-1h14c0.552 0 1 0.448 1 1s-0.448 1-1 1z\"></path>\n<path d=\"M23 22h-14c-0.552 0-1-0.448-1-1s0.448-1 1-1h14c0.552 0 1 0.448 1 1s-0.448 1-1 1z\"></path>\n<path d=\"M23 18h-14c-0.552 0-1-0.448-1-1s0.448-1 1-1h14c0.552 0 1 0.448 1 1s-0.448 1-1 1z\"></path>\n</symbol>\n</defs>\n</svg>\n<style>/* CSS stylesheet for displaying xarray objects in jupyterlab.\n *\n */\n\n:root {\n  --xr-font-color0: var(--jp-content-font-color0, rgba(0, 0, 0, 1));\n  --xr-font-color2: var(--jp-content-font-color2, rgba(0, 0, 0, 0.54));\n  --xr-font-color3: var(--jp-content-font-color3, rgba(0, 0, 0, 0.38));\n  --xr-border-color: var(--jp-border-color2, #e0e0e0);\n  --xr-disabled-color: var(--jp-layout-color3, #bdbdbd);\n  --xr-background-color: var(--jp-layout-color0, white);\n  --xr-background-color-row-even: var(--jp-layout-color1, white);\n  --xr-background-color-row-odd: var(--jp-layout-color2, #eeeeee);\n}\n\nhtml[theme=dark],\nbody[data-theme=dark],\nbody.vscode-dark {\n  --xr-font-color0: rgba(255, 255, 255, 1);\n  --xr-font-color2: rgba(255, 255, 255, 0.54);\n  --xr-font-color3: rgba(255, 255, 255, 0.38);\n  --xr-border-color: #1F1F1F;\n  --xr-disabled-color: #515151;\n  --xr-background-color: #111111;\n  --xr-background-color-row-even: #111111;\n  --xr-background-color-row-odd: #313131;\n}\n\n.xr-wrap {\n  display: block !important;\n  min-width: 300px;\n  max-width: 700px;\n}\n\n.xr-text-repr-fallback {\n  /* fallback to plain text repr when CSS is not injected (untrusted notebook) */\n  display: none;\n}\n\n.xr-header {\n  padding-top: 6px;\n  padding-bottom: 6px;\n  margin-bottom: 4px;\n  border-bottom: solid 1px var(--xr-border-color);\n}\n\n.xr-header > div,\n.xr-header > ul {\n  display: inline;\n  margin-top: 0;\n  margin-bottom: 0;\n}\n\n.xr-obj-type,\n.xr-array-name {\n  margin-left: 2px;\n  margin-right: 10px;\n}\n\n.xr-obj-type {\n  color: var(--xr-font-color2);\n}\n\n.xr-sections {\n  padding-left: 0 !important;\n  display: grid;\n  grid-template-columns: 150px auto auto 1fr 20px 20px;\n}\n\n.xr-section-item {\n  display: contents;\n}\n\n.xr-section-item input {\n  display: none;\n}\n\n.xr-section-item input + label {\n  color: var(--xr-disabled-color);\n}\n\n.xr-section-item input:enabled + label {\n  cursor: pointer;\n  color: var(--xr-font-color2);\n}\n\n.xr-section-item input:enabled + label:hover {\n  color: var(--xr-font-color0);\n}\n\n.xr-section-summary {\n  grid-column: 1;\n  color: var(--xr-font-color2);\n  font-weight: 500;\n}\n\n.xr-section-summary > span {\n  display: inline-block;\n  padding-left: 0.5em;\n}\n\n.xr-section-summary-in:disabled + label {\n  color: var(--xr-font-color2);\n}\n\n.xr-section-summary-in + label:before {\n  display: inline-block;\n  content: '►';\n  font-size: 11px;\n  width: 15px;\n  text-align: center;\n}\n\n.xr-section-summary-in:disabled + label:before {\n  color: var(--xr-disabled-color);\n}\n\n.xr-section-summary-in:checked + label:before {\n  content: '▼';\n}\n\n.xr-section-summary-in:checked + label > span {\n  display: none;\n}\n\n.xr-section-summary,\n.xr-section-inline-details {\n  padding-top: 4px;\n  padding-bottom: 4px;\n}\n\n.xr-section-inline-details {\n  grid-column: 2 / -1;\n}\n\n.xr-section-details {\n  display: none;\n  grid-column: 1 / -1;\n  margin-bottom: 5px;\n}\n\n.xr-section-summary-in:checked ~ .xr-section-details {\n  display: contents;\n}\n\n.xr-array-wrap {\n  grid-column: 1 / -1;\n  display: grid;\n  grid-template-columns: 20px auto;\n}\n\n.xr-array-wrap > label {\n  grid-column: 1;\n  vertical-align: top;\n}\n\n.xr-preview {\n  color: var(--xr-font-color3);\n}\n\n.xr-array-preview,\n.xr-array-data {\n  padding: 0 5px !important;\n  grid-column: 2;\n}\n\n.xr-array-data,\n.xr-array-in:checked ~ .xr-array-preview {\n  display: none;\n}\n\n.xr-array-in:checked ~ .xr-array-data,\n.xr-array-preview {\n  display: inline-block;\n}\n\n.xr-dim-list {\n  display: inline-block !important;\n  list-style: none;\n  padding: 0 !important;\n  margin: 0;\n}\n\n.xr-dim-list li {\n  display: inline-block;\n  padding: 0;\n  margin: 0;\n}\n\n.xr-dim-list:before {\n  content: '(';\n}\n\n.xr-dim-list:after {\n  content: ')';\n}\n\n.xr-dim-list li:not(:last-child):after {\n  content: ',';\n  padding-right: 5px;\n}\n\n.xr-has-index {\n  font-weight: bold;\n}\n\n.xr-var-list,\n.xr-var-item {\n  display: contents;\n}\n\n.xr-var-item > div,\n.xr-var-item label,\n.xr-var-item > .xr-var-name span {\n  background-color: var(--xr-background-color-row-even);\n  margin-bottom: 0;\n}\n\n.xr-var-item > .xr-var-name:hover span {\n  padding-right: 5px;\n}\n\n.xr-var-list > li:nth-child(odd) > div,\n.xr-var-list > li:nth-child(odd) > label,\n.xr-var-list > li:nth-child(odd) > .xr-var-name span {\n  background-color: var(--xr-background-color-row-odd);\n}\n\n.xr-var-name {\n  grid-column: 1;\n}\n\n.xr-var-dims {\n  grid-column: 2;\n}\n\n.xr-var-dtype {\n  grid-column: 3;\n  text-align: right;\n  color: var(--xr-font-color2);\n}\n\n.xr-var-preview {\n  grid-column: 4;\n}\n\n.xr-index-preview {\n  grid-column: 2 / 5;\n  color: var(--xr-font-color2);\n}\n\n.xr-var-name,\n.xr-var-dims,\n.xr-var-dtype,\n.xr-preview,\n.xr-attrs dt {\n  white-space: nowrap;\n  overflow: hidden;\n  text-overflow: ellipsis;\n  padding-right: 10px;\n}\n\n.xr-var-name:hover,\n.xr-var-dims:hover,\n.xr-var-dtype:hover,\n.xr-attrs dt:hover {\n  overflow: visible;\n  width: auto;\n  z-index: 1;\n}\n\n.xr-var-attrs,\n.xr-var-data,\n.xr-index-data {\n  display: none;\n  background-color: var(--xr-background-color) !important;\n  padding-bottom: 5px !important;\n}\n\n.xr-var-attrs-in:checked ~ .xr-var-attrs,\n.xr-var-data-in:checked ~ .xr-var-data,\n.xr-index-data-in:checked ~ .xr-index-data {\n  display: block;\n}\n\n.xr-var-data > table {\n  float: right;\n}\n\n.xr-var-name span,\n.xr-var-data,\n.xr-index-name div,\n.xr-index-data,\n.xr-attrs {\n  padding-left: 25px !important;\n}\n\n.xr-attrs,\n.xr-var-attrs,\n.xr-var-data,\n.xr-index-data {\n  grid-column: 1 / -1;\n}\n\ndl.xr-attrs {\n  padding: 0;\n  margin: 0;\n  display: grid;\n  grid-template-columns: 125px auto;\n}\n\n.xr-attrs dt,\n.xr-attrs dd {\n  padding: 0;\n  margin: 0;\n  float: left;\n  padding-right: 10px;\n  width: auto;\n}\n\n.xr-attrs dt {\n  font-weight: normal;\n  grid-column: 1;\n}\n\n.xr-attrs dt:hover span {\n  display: inline-block;\n  background: var(--xr-background-color);\n  padding-right: 10px;\n}\n\n.xr-attrs dd {\n  grid-column: 2;\n  white-space: pre-wrap;\n  word-break: break-all;\n}\n\n.xr-icon-database,\n.xr-icon-file-text2,\n.xr-no-icon {\n  display: inline-block;\n  vertical-align: middle;\n  width: 1em;\n  height: 1.5em !important;\n  stroke-width: 0;\n  stroke: currentColor;\n  fill: currentColor;\n}\n</style><pre class='xr-text-repr-fallback'>&lt;xarray.Dataset&gt;\nDimensions:               (station: 1, time: 9, maintenancetime: 1)\nCoordinates:\n  * station               (station) float64 1.0\n  * time                  (time) datetime64[ns] 2022-08-30T11:21:01 ... 2022-...\n  * maintenancetime       (maintenancetime) datetime64[ns] 2023-05-08T16:09:06\nData variables: (12/20)\n    ghi                   (time, station) float64 280.9 280.9 ... 280.9 280.9\n    gti                   (time, station) float64 289.0 289.0 ... 288.6 289.4\n    ta                    (time, station) float32 294.8 294.7 ... 294.7 294.8\n    rh                    (time, station) float32 0.6253 0.6248 ... 0.628 0.629\n    battery_voltage       (time, station) float32 6.443 6.445 ... 6.449 6.465\n    ghi_min               (time, station) float64 280.9 280.9 ... 280.9 280.9\n    ...                    ...\n    maintenance_flag_gti  (maintenancetime, station) float32 7.0\n    szen                  (time, station) float64 42.51 42.51 ... 42.51 42.51\n    sazi                  (time, station) float64 182.9 182.9 ... 182.9 182.9\n    esd                   (station) float64 1.01\n    qc_flag_ghi           (time, station) uint8 0 0 0 0 0 0 0 0 0\n    qc_flag_gti           (time, station) uint8 0 0 0 0 0 0 0 0 0\nAttributes: (12/31)\n    Conventions:               CF-1.10, ACDD-1.3\n    title:                     TROPOS pyranometer network (PyrNet) observatio...\n    history:                   2024-02-27T06:51:35: Generated level l1a  by p...\n    institution:               Leibniz Institute for Tropospheric Research (T...\n    source:                    TROPOS pyranometer network (PyrNet)\n    references:                https://doi.org/10.5194/amt-9-1153-2016\n    ...                        ...\n    geospatial_lon_max:        11.885252\n    geospatial_lon_units:      degE\n    time_coverage_start:       2022-08-30T11:21:01\n    time_coverage_end:         2022-08-30T11:21:09\n    time_coverage_duration:    P0DT0H0M8S\n    time_coverage_resolution:  P0DT0H0M1S</pre><div class='xr-wrap' style='display:none'><div class='xr-header'><div class='xr-obj-type'>xarray.Dataset</div></div><ul class='xr-sections'><li class='xr-section-item'><input id='section-487b85b3-9efe-4a1f-8579-a6b39380c468' class='xr-section-summary-in' type='checkbox' disabled ><label for='section-487b85b3-9efe-4a1f-8579-a6b39380c468' class='xr-section-summary'  title='Expand/collapse section'>Dimensions:</label><div class='xr-section-inline-details'><ul class='xr-dim-list'><li><span class='xr-has-index'>station</span>: 1</li><li><span class='xr-has-index'>time</span>: 9</li><li><span class='xr-has-index'>maintenancetime</span>: 1</li></ul></div><div class='xr-section-details'></div></li><li class='xr-section-item'><input id='section-2b17d012-efe4-4822-8132-3e1e417adf00' class='xr-section-summary-in' type='checkbox'  checked><label for='section-2b17d012-efe4-4822-8132-3e1e417adf00' class='xr-section-summary' >Coordinates: <span>(3)</span></label><div class='xr-section-inline-details'></div><div class='xr-section-details'><ul class='xr-var-list'><li class='xr-var-item'><div class='xr-var-name'><span class='xr-has-index'>station</span></div><div class='xr-var-dims'>(station)</div><div class='xr-var-dtype'>float64</div><div class='xr-var-preview xr-preview'>1.0</div><input id='attrs-0b2d4aee-0a8f-4fef-b672-542946ff2609' class='xr-var-attrs-in' type='checkbox' ><label for='attrs-0b2d4aee-0a8f-4fef-b672-542946ff2609' title='Show/Hide attributes'><svg class='icon xr-icon-file-text2'><use xlink:href='#icon-file-text2'></use></svg></label><input id='data-23c90528-fb34-4d1b-8c93-3a9e4234746f' class='xr-var-data-in' type='checkbox'><label for='data-23c90528-fb34-4d1b-8c93-3a9e4234746f' title='Show/Hide data repr'><svg class='icon xr-icon-database'><use xlink:href='#icon-database'></use></svg></label><div class='xr-var-attrs'><dl class='xr-attrs'><dt><span>units :</span></dt><dd>-</dd><dt><span>long_name :</span></dt><dd>PyrNet unit box number</dd></dl></div><div class='xr-var-data'><pre>array([1.])</pre></div></li><li class='xr-var-item'><div class='xr-var-name'><span class='xr-has-index'>time</span></div><div class='xr-var-dims'>(time)</div><div class='xr-var-dtype'>datetime64[ns]</div><div class='xr-var-preview xr-preview'>2022-08-30T11:21:01 ... 2022-08-...</div><input id='attrs-6c34186d-369e-4c2e-b937-a5791ea44f72' class='xr-var-attrs-in' type='checkbox' disabled><label for='attrs-6c34186d-369e-4c2e-b937-a5791ea44f72' title='Show/Hide attributes'><svg class='icon xr-icon-file-text2'><use xlink:href='#icon-file-text2'></use></svg></label><input id='data-967774db-7c55-42a4-9261-896496ebf034' class='xr-var-data-in' type='checkbox'><label for='data-967774db-7c55-42a4-9261-896496ebf034' title='Show/Hide data repr'><svg class='icon xr-icon-database'><use xlink:href='#icon-database'></use></svg></label><div class='xr-var-attrs'><dl class='xr-attrs'></dl></div><div class='xr-var-data'><pre>array([&#x27;2022-08-30T11:21:01.000000000&#x27;, &#x27;2022-08-30T11:21:02.000000000&#x27;,\n       &#x27;2022-08-30T11:21:03.000000000&#x27;, &#x27;2022-08-30T11:21:04.000000000&#x27;,\n       &#x27;2022-08-30T11:21:05.000000000&#x27;, &#x27;2022-08-30T11:21:06.000000000&#x27;,\n       &#x27;2022-08-30T11:21:07.000000000&#x27;, &#x27;2022-08-30T11:21:08.000000000&#x27;,\n       &#x27;2022-08-30T11:21:09.000000000&#x27;], dtype=&#x27;datetime64[ns]&#x27;)</pre></div></li><li class='xr-var-item'><div class='xr-var-name'><span class='xr-has-index'>maintenancetime</span></div><div class='xr-var-dims'>(maintenancetime)</div><div class='xr-var-dtype'>datetime64[ns]</div><div class='xr-var-preview xr-preview'>2023-05-08T16:09:06</div><input id='attrs-0baadd96-9377-4a8c-985b-43fe790463a2' class='xr-var-attrs-in' type='checkbox' disabled><label for='attrs-0baadd96-9377-4a8c-985b-43fe790463a2' title='Show/Hide attributes'><svg class='icon xr-icon-file-text2'><use xlink:href='#icon-file-text2'></use></svg></label><input id='data-28a5ff54-bddd-44f6-b029-4f938649bd10' class='xr-var-data-in' type='checkbox'><label for='data-28a5ff54-bddd-44f6-b029-4f938649bd10' title='Show/Hide data repr'><svg class='icon xr-icon-database'><use xlink:href='#icon-database'></use></svg></label><div class='xr-var-attrs'><dl class='xr-attrs'></dl></div><div class='xr-var-data'><pre>array([&#x27;2023-05-08T16:09:06.000000000&#x27;], dtype=&#x27;datetime64[ns]&#x27;)</pre></div></li></ul></div></li><li class='xr-section-item'><input id='section-c8158e77-916b-47e8-a3ff-48e83ddf8c1c' class='xr-section-summary-in' type='checkbox'  ><label for='section-c8158e77-916b-47e8-a3ff-48e83ddf8c1c' class='xr-section-summary' >Data variables: <span>(20)</span></label><div class='xr-section-inline-details'></div><div class='xr-section-details'><ul class='xr-var-list'><li class='xr-var-item'><div class='xr-var-name'><span>ghi</span></div><div class='xr-var-dims'>(time, station)</div><div class='xr-var-dtype'>float64</div><div class='xr-var-preview xr-preview'>280.9 280.9 280.9 ... 280.9 280.9</div><input id='attrs-598e6c39-c613-445c-9604-8996db035db8' class='xr-var-attrs-in' type='checkbox' ><label for='attrs-598e6c39-c613-445c-9604-8996db035db8' title='Show/Hide attributes'><svg class='icon xr-icon-file-text2'><use xlink:href='#icon-file-text2'></use></svg></label><input id='data-fcacba47-0e38-46d5-89b8-569ea5915e1a' class='xr-var-data-in' type='checkbox'><label for='data-fcacba47-0e38-46d5-89b8-569ea5915e1a' title='Show/Hide data repr'><svg class='icon xr-icon-database'><use xlink:href='#icon-database'></use></svg></label><div class='xr-var-attrs'><dl class='xr-attrs'><dt><span>units :</span></dt><dd>W m-2</dd><dt><span>long_name :</span></dt><dd>downwelling shortwave flux</dd><dt><span>standard_name :</span></dt><dd>downwelling_shortwave_flux_in_air</dd><dt><span>valid_range :</span></dt><dd>[0, 60000]</dd><dt><span>serial :</span></dt><dd>S12128.001</dd><dt><span>calibration_Cabsolute :</span></dt><dd>129366.10608020698</dd><dt><span>calibration_Ccoscorr :</span></dt><dd>1.45 - 3.04·x¹ + 5.59·x² - 3.01·x³</dd><dt><span>calibration_function :</span></dt><dd>flux (W m-2) = flux (V) * Cabsolute (W m-2 V-1) * Ccoscorr(mua)</dd></dl></div><div class='xr-var-data'><pre>array([[280.90513748],\n       [280.90501036],\n       [280.90488297],\n       [280.75996672],\n       [280.90462742],\n       [280.90449925],\n       [280.75958242],\n       [280.90424214],\n       [280.90411319]])</pre></div></li><li class='xr-var-item'><div class='xr-var-name'><span>gti</span></div><div class='xr-var-dims'>(time, station)</div><div class='xr-var-dtype'>float64</div><div class='xr-var-preview xr-preview'>289.0 289.0 288.6 ... 288.6 289.4</div><input id='attrs-49d7d755-4fc9-4be0-9779-a9456d0cfe80' class='xr-var-attrs-in' type='checkbox' ><label for='attrs-49d7d755-4fc9-4be0-9779-a9456d0cfe80' title='Show/Hide attributes'><svg class='icon xr-icon-file-text2'><use xlink:href='#icon-file-text2'></use></svg></label><input id='data-67457724-ccf7-485d-ac65-e714e908eaf7' class='xr-var-data-in' type='checkbox'><label for='data-67457724-ccf7-485d-ac65-e714e908eaf7' title='Show/Hide data repr'><svg class='icon xr-icon-database'><use xlink:href='#icon-database'></use></svg></label><div class='xr-var-attrs'><dl class='xr-attrs'><dt><span>units :</span></dt><dd>W m-2</dd><dt><span>long_name :</span></dt><dd>downwelling shortwave flux measured on secondary platform, might be tilted</dd><dt><span>standard_name :</span></dt><dd>downwelling_shortwave_flux_in_air</dd><dt><span>valid_range :</span></dt><dd>[0, 60000]</dd><dt><span>hangle :</span></dt><dd>0.0</dd><dt><span>vangle :</span></dt><dd>0.0</dd><dt><span>serial :</span></dt><dd>S12137.049</dd><dt><span>calibration_Cabsolute :</span></dt><dd>143266.47564469912</dd><dt><span>calibration_Ccoscorr :</span></dt><dd>1.45 - 3.04·x¹ + 5.59·x² - 3.01·x³</dd><dt><span>calibration_function :</span></dt><dd>flux (W m-2) = flux (V) * Cabsolute (W m-2 V-1) * Ccoscorr(mua)</dd></dl></div><div class='xr-var-data'><pre>array([[288.95941377],\n       [288.959283  ],\n       [288.63842485],\n       [288.63829369],\n       [288.79852567],\n       [288.63803057],\n       [288.31717208],\n       [288.63776637],\n       [289.43939736]])</pre></div></li><li class='xr-var-item'><div class='xr-var-name'><span>ta</span></div><div class='xr-var-dims'>(time, station)</div><div class='xr-var-dtype'>float32</div><div class='xr-var-preview xr-preview'>294.8 294.7 294.8 ... 294.7 294.8</div><input id='attrs-c66ebf96-cac8-4b3c-b7dc-69a6705b99fd' class='xr-var-attrs-in' type='checkbox' ><label for='attrs-c66ebf96-cac8-4b3c-b7dc-69a6705b99fd' title='Show/Hide attributes'><svg class='icon xr-icon-file-text2'><use xlink:href='#icon-file-text2'></use></svg></label><input id='data-55cb25ea-e27b-4581-a5b5-00d2a1ac4de1' class='xr-var-data-in' type='checkbox'><label for='data-55cb25ea-e27b-4581-a5b5-00d2a1ac4de1' title='Show/Hide data repr'><svg class='icon xr-icon-database'><use xlink:href='#icon-database'></use></svg></label><div class='xr-var-attrs'><dl class='xr-attrs'><dt><span>units :</span></dt><dd>K</dd><dt><span>long_name :</span></dt><dd>air temperature</dd><dt><span>standard_name :</span></dt><dd>air_temperature</dd><dt><span>valid_range :</span></dt><dd>[0, 10000]</dd></dl></div><div class='xr-var-data'><pre>array([[294.8016 ],\n       [294.7371 ],\n       [294.77008],\n       [294.74997],\n       [294.7887 ],\n       [294.74997],\n       [294.8145 ],\n       [294.72705],\n       [294.76288]], dtype=float32)</pre></div></li><li class='xr-var-item'><div class='xr-var-name'><span>rh</span></div><div class='xr-var-dims'>(time, station)</div><div class='xr-var-dtype'>float32</div><div class='xr-var-preview xr-preview'>0.6253 0.6248 ... 0.628 0.629</div><input id='attrs-7fa2fd68-91db-403e-a2fd-f9d67dabe997' class='xr-var-attrs-in' type='checkbox' ><label for='attrs-7fa2fd68-91db-403e-a2fd-f9d67dabe997' title='Show/Hide attributes'><svg class='icon xr-icon-file-text2'><use xlink:href='#icon-file-text2'></use></svg></label><input id='data-2274764b-4652-43f9-b160-a3d63dc0f155' class='xr-var-data-in' type='checkbox'><label for='data-2274764b-4652-43f9-b160-a3d63dc0f155' title='Show/Hide data repr'><svg class='icon xr-icon-database'><use xlink:href='#icon-database'></use></svg></label><div class='xr-var-attrs'><dl class='xr-attrs'><dt><span>units :</span></dt><dd>1</dd><dt><span>long_name :</span></dt><dd>air relative humidity</dd><dt><span>standard_name :</span></dt><dd>relative_humidity</dd><dt><span>valid_range :</span></dt><dd>[0, 10000]</dd></dl></div><div class='xr-var-data'><pre>array([[0.6252903 ],\n       [0.62477416],\n       [0.6259498 ],\n       [0.6265806 ],\n       [0.6270968 ],\n       [0.6270968 ],\n       [0.6286451 ],\n       [0.627957  ],\n       [0.62903225]], dtype=float32)</pre></div></li><li class='xr-var-item'><div class='xr-var-name'><span>battery_voltage</span></div><div class='xr-var-dims'>(time, station)</div><div class='xr-var-dtype'>float32</div><div class='xr-var-preview xr-preview'>6.443 6.445 6.444 ... 6.449 6.465</div><input id='attrs-5646dc0c-efc8-4d41-b180-b41fc0c44c06' class='xr-var-attrs-in' type='checkbox' ><label for='attrs-5646dc0c-efc8-4d41-b180-b41fc0c44c06' title='Show/Hide attributes'><svg class='icon xr-icon-file-text2'><use xlink:href='#icon-file-text2'></use></svg></label><input id='data-3801ca9c-d3ec-429f-b64f-55f0ed17a219' class='xr-var-data-in' type='checkbox'><label for='data-3801ca9c-d3ec-429f-b64f-55f0ed17a219' title='Show/Hide data repr'><svg class='icon xr-icon-database'><use xlink:href='#icon-database'></use></svg></label><div class='xr-var-attrs'><dl class='xr-attrs'><dt><span>units :</span></dt><dd>V</dd><dt><span>standard_name :</span></dt><dd>battery_voltage</dd><dt><span>valid_range :</span></dt><dd>[0, 6400]</dd></dl></div><div class='xr-var-data'><pre>array([[6.44258  ],\n       [6.4451613],\n       [6.4437275],\n       [6.445807 ],\n       [6.4496775],\n       [6.4477415],\n       [6.4464517],\n       [6.4494624],\n       [6.464516 ]], dtype=float32)</pre></div></li><li class='xr-var-item'><div class='xr-var-name'><span>ghi_min</span></div><div class='xr-var-dims'>(time, station)</div><div class='xr-var-dtype'>float64</div><div class='xr-var-preview xr-preview'>280.9 280.9 280.9 ... 280.9 280.9</div><input id='attrs-393fcb9c-8986-4221-840b-a94e13c0b346' class='xr-var-attrs-in' type='checkbox' ><label for='attrs-393fcb9c-8986-4221-840b-a94e13c0b346' title='Show/Hide attributes'><svg class='icon xr-icon-file-text2'><use xlink:href='#icon-file-text2'></use></svg></label><input id='data-64daf479-0b68-4fdf-986b-3ec4b65beb5d' class='xr-var-data-in' type='checkbox'><label for='data-64daf479-0b68-4fdf-986b-3ec4b65beb5d' title='Show/Hide data repr'><svg class='icon xr-icon-database'><use xlink:href='#icon-database'></use></svg></label><div class='xr-var-attrs'><dl class='xr-attrs'><dt><span>units :</span></dt><dd>W m-2</dd><dt><span>long_name :</span></dt><dd>downwelling shortwave flux</dd><dt><span>standard_name :</span></dt><dd>min_downwelling_shortwave_flux_in_air</dd><dt><span>valid_range :</span></dt><dd>[0, 60000]</dd><dt><span>serial :</span></dt><dd>S12128.001</dd><dt><span>calibration_Cabsolute :</span></dt><dd>129366.10608020698</dd><dt><span>calibration_Ccoscorr :</span></dt><dd>1.45 - 3.04·x¹ + 5.59·x² - 3.01·x³</dd><dt><span>calibration_function :</span></dt><dd>flux (W m-2) = flux (V) * Cabsolute (W m-2 V-1) * Ccoscorr(mua)</dd></dl></div><div class='xr-var-data'><pre>array([[280.90513748],\n       [280.90501036],\n       [280.90488297],\n       [279.45680657],\n       [280.90462742],\n       [280.90449925],\n       [279.45642405],\n       [280.90424214],\n       [280.90411319]])</pre></div></li><li class='xr-var-item'><div class='xr-var-name'><span>gti_min</span></div><div class='xr-var-dims'>(time, station)</div><div class='xr-var-dtype'>float64</div><div class='xr-var-preview xr-preview'>288.6 288.6 288.6 ... 288.6 288.6</div><input id='attrs-e8127238-0e06-4d7a-9144-786ea1b3fe7d' class='xr-var-attrs-in' type='checkbox' ><label for='attrs-e8127238-0e06-4d7a-9144-786ea1b3fe7d' title='Show/Hide attributes'><svg class='icon xr-icon-file-text2'><use xlink:href='#icon-file-text2'></use></svg></label><input id='data-2776951f-538f-46be-9583-1b6db5a40600' class='xr-var-data-in' type='checkbox'><label for='data-2776951f-538f-46be-9583-1b6db5a40600' title='Show/Hide data repr'><svg class='icon xr-icon-database'><use xlink:href='#icon-database'></use></svg></label><div class='xr-var-attrs'><dl class='xr-attrs'><dt><span>units :</span></dt><dd>W m-2</dd><dt><span>long_name :</span></dt><dd>downwelling shortwave flux measured on secondary platform, might be tilted</dd><dt><span>standard_name :</span></dt><dd>min_downwelling_shortwave_flux_in_air</dd><dt><span>valid_range :</span></dt><dd>[0, 60000]</dd><dt><span>hangle :</span></dt><dd>0.0</dd><dt><span>vangle :</span></dt><dd>0.0</dd><dt><span>serial :</span></dt><dd>S12137.049</dd><dt><span>calibration_Cabsolute :</span></dt><dd>143266.47564469912</dd><dt><span>calibration_Ccoscorr :</span></dt><dd>1.45 - 3.04·x¹ + 5.59·x² - 3.01·x³</dd><dt><span>calibration_function :</span></dt><dd>flux (W m-2) = flux (V) * Cabsolute (W m-2 V-1) * Ccoscorr(mua)</dd></dl></div><div class='xr-var-data'><pre>array([[288.63868637],\n       [288.63855575],\n       [288.63842485],\n       [287.03474569],\n       [287.03461499],\n       [288.63803057],\n       [287.0343528 ],\n       [288.63776637],\n       [288.63763387]])</pre></div></li><li class='xr-var-item'><div class='xr-var-name'><span>ghi_max</span></div><div class='xr-var-dims'>(time, station)</div><div class='xr-var-dtype'>float64</div><div class='xr-var-preview xr-preview'>280.9 280.9 280.9 ... 280.9 280.9</div><input id='attrs-69c35caa-3ab4-431c-bf2a-1d9c792bd81b' class='xr-var-attrs-in' type='checkbox' ><label for='attrs-69c35caa-3ab4-431c-bf2a-1d9c792bd81b' title='Show/Hide attributes'><svg class='icon xr-icon-file-text2'><use xlink:href='#icon-file-text2'></use></svg></label><input id='data-c35d540e-e80d-4cb8-957e-0f6357d71569' class='xr-var-data-in' type='checkbox'><label for='data-c35d540e-e80d-4cb8-957e-0f6357d71569' title='Show/Hide data repr'><svg class='icon xr-icon-database'><use xlink:href='#icon-database'></use></svg></label><div class='xr-var-attrs'><dl class='xr-attrs'><dt><span>units :</span></dt><dd>W m-2</dd><dt><span>long_name :</span></dt><dd>downwelling shortwave flux</dd><dt><span>standard_name :</span></dt><dd>max_downwelling_shortwave_flux_in_air</dd><dt><span>valid_range :</span></dt><dd>[0, 60000]</dd><dt><span>serial :</span></dt><dd>S12128.001</dd><dt><span>calibration_Cabsolute :</span></dt><dd>129366.10608020698</dd><dt><span>calibration_Ccoscorr :</span></dt><dd>1.45 - 3.04·x¹ + 5.59·x² - 3.01·x³</dd><dt><span>calibration_function :</span></dt><dd>flux (W m-2) = flux (V) * Cabsolute (W m-2 V-1) * Ccoscorr(mua)</dd></dl></div><div class='xr-var-data'><pre>array([[280.90513748],\n       [280.90501036],\n       [280.90488297],\n       [280.90475533],\n       [280.90462742],\n       [280.90449925],\n       [280.90437082],\n       [280.90424214],\n       [280.90411319]])</pre></div></li><li class='xr-var-item'><div class='xr-var-name'><span>gti_max</span></div><div class='xr-var-dims'>(time, station)</div><div class='xr-var-dtype'>float64</div><div class='xr-var-preview xr-preview'>290.2 290.2 288.6 ... 288.6 290.2</div><input id='attrs-13c0c6fa-eaf4-4d48-93a1-ea450b1743ae' class='xr-var-attrs-in' type='checkbox' ><label for='attrs-13c0c6fa-eaf4-4d48-93a1-ea450b1743ae' title='Show/Hide attributes'><svg class='icon xr-icon-file-text2'><use xlink:href='#icon-file-text2'></use></svg></label><input id='data-793eaf4e-e0d3-49c0-996b-69c7d36c239b' class='xr-var-data-in' type='checkbox'><label for='data-793eaf4e-e0d3-49c0-996b-69c7d36c239b' title='Show/Hide data repr'><svg class='icon xr-icon-database'><use xlink:href='#icon-database'></use></svg></label><div class='xr-var-attrs'><dl class='xr-attrs'><dt><span>units :</span></dt><dd>W m-2</dd><dt><span>long_name :</span></dt><dd>downwelling shortwave flux measured on secondary platform, might be tilted</dd><dt><span>standard_name :</span></dt><dd>max_downwelling_shortwave_flux_in_air</dd><dt><span>valid_range :</span></dt><dd>[0, 60000]</dd><dt><span>hangle :</span></dt><dd>0.0</dd><dt><span>vangle :</span></dt><dd>0.0</dd><dt><span>serial :</span></dt><dd>S12137.049</dd><dt><span>calibration_Cabsolute :</span></dt><dd>143266.47564469912</dd><dt><span>calibration_Ccoscorr :</span></dt><dd>1.45 - 3.04·x¹ + 5.59·x² - 3.01·x³</dd><dt><span>calibration_function :</span></dt><dd>flux (W m-2) = flux (V) * Cabsolute (W m-2 V-1) * Ccoscorr(mua)</dd></dl></div><div class='xr-var-data'><pre>array([[290.24223656],\n       [290.24210521],\n       [288.63842485],\n       [290.2418417 ],\n       [290.24170954],\n       [288.63803057],\n       [288.63789861],\n       [288.63776637],\n       [290.24117821]])</pre></div></li><li class='xr-var-item'><div class='xr-var-name'><span>ghi_std</span></div><div class='xr-var-dims'>(time, station)</div><div class='xr-var-dtype'>float64</div><div class='xr-var-preview xr-preview'>0.0 0.0 0.0 ... 0.4579 0.0 0.0</div><input id='attrs-181b8929-bc20-4137-ba5c-b44dcbd31ae7' class='xr-var-attrs-in' type='checkbox' ><label for='attrs-181b8929-bc20-4137-ba5c-b44dcbd31ae7' title='Show/Hide attributes'><svg class='icon xr-icon-file-text2'><use xlink:href='#icon-file-text2'></use></svg></label><input id='data-ce9c85bf-d23e-4792-9e3b-3bcb8978f590' class='xr-var-data-in' type='checkbox'><label for='data-ce9c85bf-d23e-4792-9e3b-3bcb8978f590' title='Show/Hide data repr'><svg class='icon xr-icon-database'><use xlink:href='#icon-database'></use></svg></label><div class='xr-var-attrs'><dl class='xr-attrs'><dt><span>units :</span></dt><dd>W m-2</dd><dt><span>long_name :</span></dt><dd>downwelling shortwave flux</dd><dt><span>standard_name :</span></dt><dd>std_downwelling_shortwave_flux_in_air</dd><dt><span>valid_range :</span></dt><dd>[0, 60000]</dd><dt><span>serial :</span></dt><dd>S12128.001</dd><dt><span>calibration_Cabsolute :</span></dt><dd>129366.10608020698</dd><dt><span>calibration_Ccoscorr :</span></dt><dd>1.45 - 3.04·x¹ + 5.59·x² - 3.01·x³</dd><dt><span>calibration_function :</span></dt><dd>flux (W m-2) = flux (V) * Cabsolute (W m-2 V-1) * Ccoscorr(mua)</dd></dl></div><div class='xr-var-data'><pre>array([[0.        ],\n       [0.        ],\n       [0.        ],\n       [0.4578816 ],\n       [0.        ],\n       [0.        ],\n       [0.45788097],\n       [0.        ],\n       [0.        ]])</pre></div></li><li class='xr-var-item'><div class='xr-var-name'><span>gti_std</span></div><div class='xr-var-dims'>(time, station)</div><div class='xr-var-dtype'>float64</div><div class='xr-var-preview xr-preview'>0.7171 0.6761 0.0 ... 0.0 1.134</div><input id='attrs-e6e7e059-01da-4b07-85bc-cb176351ba83' class='xr-var-attrs-in' type='checkbox' ><label for='attrs-e6e7e059-01da-4b07-85bc-cb176351ba83' title='Show/Hide attributes'><svg class='icon xr-icon-file-text2'><use xlink:href='#icon-file-text2'></use></svg></label><input id='data-183b0588-5532-41da-9cbb-683584ee7139' class='xr-var-data-in' type='checkbox'><label for='data-183b0588-5532-41da-9cbb-683584ee7139' title='Show/Hide data repr'><svg class='icon xr-icon-database'><use xlink:href='#icon-database'></use></svg></label><div class='xr-var-attrs'><dl class='xr-attrs'><dt><span>units :</span></dt><dd>W m-2</dd><dt><span>long_name :</span></dt><dd>downwelling shortwave flux measured on secondary platform, might be tilted</dd><dt><span>standard_name :</span></dt><dd>std_downwelling_shortwave_flux_in_air</dd><dt><span>valid_range :</span></dt><dd>[0, 60000]</dd><dt><span>hangle :</span></dt><dd>0.0</dd><dt><span>vangle :</span></dt><dd>0.0</dd><dt><span>serial :</span></dt><dd>S12137.049</dd><dt><span>calibration_Cabsolute :</span></dt><dd>143266.47564469912</dd><dt><span>calibration_Ccoscorr :</span></dt><dd>1.45 - 3.04·x¹ + 5.59·x² - 3.01·x³</dd><dt><span>calibration_function :</span></dt><dd>flux (W m-2) = flux (V) * Cabsolute (W m-2 V-1) * Ccoscorr(mua)</dd></dl></div><div class='xr-var-data'><pre>array([[0.71712944],\n       [0.67611582],\n       [0.        ],\n       [0.75591978],\n       [0.91024754],\n       [0.        ],\n       [0.67611428],\n       [0.        ],\n       [1.13387708]])</pre></div></li><li class='xr-var-item'><div class='xr-var-name'><span>lat</span></div><div class='xr-var-dims'>(station)</div><div class='xr-var-dtype'>float64</div><div class='xr-var-preview xr-preview'>51.39</div><input id='attrs-311039a5-8a83-41af-89b5-4744abc18e6e' class='xr-var-attrs-in' type='checkbox' ><label for='attrs-311039a5-8a83-41af-89b5-4744abc18e6e' title='Show/Hide attributes'><svg class='icon xr-icon-file-text2'><use xlink:href='#icon-file-text2'></use></svg></label><input id='data-8e10ab20-fabf-4b5b-bd27-303d30b83e78' class='xr-var-data-in' type='checkbox'><label for='data-8e10ab20-fabf-4b5b-bd27-303d30b83e78' title='Show/Hide data repr'><svg class='icon xr-icon-database'><use xlink:href='#icon-database'></use></svg></label><div class='xr-var-attrs'><dl class='xr-attrs'><dt><span>standard_name :</span></dt><dd>latitude</dd><dt><span>units :</span></dt><dd>degree_north</dd><dt><span>valid_range :</span></dt><dd>[-90.0, 90.0]</dd></dl></div><div class='xr-var-data'><pre>array([51.39021033])</pre></div></li><li class='xr-var-item'><div class='xr-var-name'><span>lon</span></div><div class='xr-var-dims'>(station)</div><div class='xr-var-dtype'>float64</div><div class='xr-var-preview xr-preview'>11.89</div><input id='attrs-4cb3c9dc-cb1d-4dcb-a172-bfbab22abdc5' class='xr-var-attrs-in' type='checkbox' ><label for='attrs-4cb3c9dc-cb1d-4dcb-a172-bfbab22abdc5' title='Show/Hide attributes'><svg class='icon xr-icon-file-text2'><use xlink:href='#icon-file-text2'></use></svg></label><input id='data-68b5958b-0631-451e-84bd-448992d63962' class='xr-var-data-in' type='checkbox'><label for='data-68b5958b-0631-451e-84bd-448992d63962' title='Show/Hide data repr'><svg class='icon xr-icon-database'><use xlink:href='#icon-database'></use></svg></label><div class='xr-var-attrs'><dl class='xr-attrs'><dt><span>standard_name :</span></dt><dd>longitude</dd><dt><span>units :</span></dt><dd>degree_east</dd><dt><span>valid_range :</span></dt><dd>[-180.0, 180.0]</dd></dl></div><div class='xr-var-data'><pre>array([11.885252])</pre></div></li><li class='xr-var-item'><div class='xr-var-name'><span>maintenance_flag_ghi</span></div><div class='xr-var-dims'>(maintenancetime, station)</div><div class='xr-var-dtype'>float32</div><div class='xr-var-preview xr-preview'>9.0</div><input id='attrs-0250181e-af07-4eaf-93a1-3db6d680fd0e' class='xr-var-attrs-in' type='checkbox' ><label for='attrs-0250181e-af07-4eaf-93a1-3db6d680fd0e' title='Show/Hide attributes'><svg class='icon xr-icon-file-text2'><use xlink:href='#icon-file-text2'></use></svg></label><input id='data-e94fa297-db74-41f9-bb59-940b87457522' class='xr-var-data-in' type='checkbox'><label for='data-e94fa297-db74-41f9-bb59-940b87457522' title='Show/Hide data repr'><svg class='icon xr-icon-database'><use xlink:href='#icon-database'></use></svg></label><div class='xr-var-attrs'><dl class='xr-attrs'><dt><span>note_general :</span></dt><dd>222</dd><dt><span>note_clean :</span></dt><dd>testing notes</dd><dt><span>note_level :</span></dt><dd>test</dd><dt><span>valid_range :</span></dt><dd>[0, 11]</dd></dl></div><div class='xr-var-data'><pre>array([[9.]], dtype=float32)</pre></div></li><li class='xr-var-item'><div class='xr-var-name'><span>maintenance_flag_gti</span></div><div class='xr-var-dims'>(maintenancetime, station)</div><div class='xr-var-dtype'>float32</div><div class='xr-var-preview xr-preview'>7.0</div><input id='attrs-60937a54-ec0f-4cb3-a0eb-8992733fbbd2' class='xr-var-attrs-in' type='checkbox' ><label for='attrs-60937a54-ec0f-4cb3-a0eb-8992733fbbd2' title='Show/Hide attributes'><svg class='icon xr-icon-file-text2'><use xlink:href='#icon-file-text2'></use></svg></label><input id='data-9eb64d2b-f2ea-4d46-93cf-55b7cf0e4a1d' class='xr-var-data-in' type='checkbox'><label for='data-9eb64d2b-f2ea-4d46-93cf-55b7cf0e4a1d' title='Show/Hide data repr'><svg class='icon xr-icon-database'><use xlink:href='#icon-database'></use></svg></label><div class='xr-var-attrs'><dl class='xr-attrs'><dt><span>note_general :</span></dt><dd>222</dd><dt><span>note_clean :</span></dt><dd></dd><dt><span>note_level :</span></dt><dd></dd><dt><span>valid_range :</span></dt><dd>[0, 11]</dd></dl></div><div class='xr-var-data'><pre>array([[7.]], dtype=float32)</pre></div></li><li class='xr-var-item'><div class='xr-var-name'><span>szen</span></div><div class='xr-var-dims'>(time, station)</div><div class='xr-var-dtype'>float64</div><div class='xr-var-preview xr-preview'>42.51 42.51 42.51 ... 42.51 42.51</div><input id='attrs-3d77cf83-ff8b-4082-8592-28e87035f685' class='xr-var-attrs-in' type='checkbox' ><label for='attrs-3d77cf83-ff8b-4082-8592-28e87035f685' title='Show/Hide attributes'><svg class='icon xr-icon-file-text2'><use xlink:href='#icon-file-text2'></use></svg></label><input id='data-2b18e792-f1f9-4ccd-9b03-34191cf64fcd' class='xr-var-data-in' type='checkbox'><label for='data-2b18e792-f1f9-4ccd-9b03-34191cf64fcd' title='Show/Hide data repr'><svg class='icon xr-icon-database'><use xlink:href='#icon-database'></use></svg></label><div class='xr-var-attrs'><dl class='xr-attrs'><dt><span>standard_name :</span></dt><dd>solar_zenith_angle</dd><dt><span>units :</span></dt><dd>degree</dd><dt><span>valid_range :</span></dt><dd>[0, 36000]</dd></dl></div><div class='xr-var-data'><pre>array([[42.51131378],\n       [42.51144939],\n       [42.51158528],\n       [42.51172144],\n       [42.51185788],\n       [42.5119946 ],\n       [42.51213159],\n       [42.51226886],\n       [42.5124064 ]])</pre></div></li><li class='xr-var-item'><div class='xr-var-name'><span>sazi</span></div><div class='xr-var-dims'>(time, station)</div><div class='xr-var-dtype'>float64</div><div class='xr-var-preview xr-preview'>182.9 182.9 182.9 ... 182.9 182.9</div><input id='attrs-40277eca-2b6b-44d7-b615-84fa26b2ed85' class='xr-var-attrs-in' type='checkbox' ><label for='attrs-40277eca-2b6b-44d7-b615-84fa26b2ed85' title='Show/Hide attributes'><svg class='icon xr-icon-file-text2'><use xlink:href='#icon-file-text2'></use></svg></label><input id='data-afb68f07-a90c-4fca-8f99-1165ede26c6f' class='xr-var-data-in' type='checkbox'><label for='data-afb68f07-a90c-4fca-8f99-1165ede26c6f' title='Show/Hide data repr'><svg class='icon xr-icon-database'><use xlink:href='#icon-database'></use></svg></label><div class='xr-var-attrs'><dl class='xr-attrs'><dt><span>standard_name :</span></dt><dd>solar_azimuth_angle</dd><dt><span>units :</span></dt><dd>degree</dd><dt><span>valid_range :</span></dt><dd>[0, 36000]</dd></dl></div><div class='xr-var-data'><pre>array([[182.89457117],\n       [182.90066087],\n       [182.90675054],\n       [182.91284018],\n       [182.91892979],\n       [182.92501938],\n       [182.93110893],\n       [182.93719846],\n       [182.94328795]])</pre></div></li><li class='xr-var-item'><div class='xr-var-name'><span>esd</span></div><div class='xr-var-dims'>(station)</div><div class='xr-var-dtype'>float64</div><div class='xr-var-preview xr-preview'>1.01</div><input id='attrs-5a533d53-de05-42ed-8c62-8b08f0c3005d' class='xr-var-attrs-in' type='checkbox' ><label for='attrs-5a533d53-de05-42ed-8c62-8b08f0c3005d' title='Show/Hide attributes'><svg class='icon xr-icon-file-text2'><use xlink:href='#icon-file-text2'></use></svg></label><input id='data-e51d411a-7916-4b7d-a7c0-d00e288d1b7e' class='xr-var-data-in' type='checkbox'><label for='data-e51d411a-7916-4b7d-a7c0-d00e288d1b7e' title='Show/Hide data repr'><svg class='icon xr-icon-database'><use xlink:href='#icon-database'></use></svg></label><div class='xr-var-attrs'><dl class='xr-attrs'><dt><span>long_name :</span></dt><dd>Earth-sun distance</dd><dt><span>note :</span></dt><dd>Calculated based on Spencer (1971), as mean of its values over all time steps.</dd><dt><span>units :</span></dt><dd>ua</dd></dl></div><div class='xr-var-data'><pre>array([1.00959973])</pre></div></li><li class='xr-var-item'><div class='xr-var-name'><span>qc_flag_ghi</span></div><div class='xr-var-dims'>(time, station)</div><div class='xr-var-dtype'>uint8</div><div class='xr-var-preview xr-preview'>0 0 0 0 0 0 0 0 0</div><input id='attrs-3e69939a-12af-465c-8124-b29117b9f26d' class='xr-var-attrs-in' type='checkbox' ><label for='attrs-3e69939a-12af-465c-8124-b29117b9f26d' title='Show/Hide attributes'><svg class='icon xr-icon-file-text2'><use xlink:href='#icon-file-text2'></use></svg></label><input id='data-ed091d92-ca23-46ae-8a7d-0a69e13a113b' class='xr-var-data-in' type='checkbox'><label for='data-ed091d92-ca23-46ae-8a7d-0a69e13a113b' title='Show/Hide data repr'><svg class='icon xr-icon-database'><use xlink:href='#icon-database'></use></svg></label><div class='xr-var-attrs'><dl class='xr-attrs'><dt><span>standard_name :</span></dt><dd>quality_flag</dd><dt><span>valid_range :</span></dt><dd>[0, 127]</dd><dt><span>serial :</span></dt><dd>S12128.001</dd><dt><span>calibration_Cabsolute :</span></dt><dd>129366.10608020698</dd><dt><span>calibration_Ccoscorr :</span></dt><dd>1.45 - 3.04·x¹ + 5.59·x² - 3.01·x³</dd><dt><span>calibration_function :</span></dt><dd>flux (W m-2) = flux (V) * Cabsolute (W m-2 V-1) * Ccoscorr(mua)</dd><dt><span>ancillary_variables :</span></dt><dd>ghi</dd><dt><span>flag_masks :</span></dt><dd>[1, 2, 4, 8, 16, 32, 64]</dd><dt><span>flag_values :</span></dt><dd>[1, 2, 4, 8, 16, 32, 64]</dd><dt><span>flag_meanings :</span></dt><dd>below_physical_limit above_physical_limit below_rare_limit above_rare_limit comparison_to_low comparison_to_high quality_control_failed</dd></dl></div><div class='xr-var-data'><pre>array([[0],\n       [0],\n       [0],\n       [0],\n       [0],\n       [0],\n       [0],\n       [0],\n       [0]], dtype=uint8)</pre></div></li><li class='xr-var-item'><div class='xr-var-name'><span>qc_flag_gti</span></div><div class='xr-var-dims'>(time, station)</div><div class='xr-var-dtype'>uint8</div><div class='xr-var-preview xr-preview'>0 0 0 0 0 0 0 0 0</div><input id='attrs-5661e80f-3d71-4456-9e5a-7c5ea48000fb' class='xr-var-attrs-in' type='checkbox' ><label for='attrs-5661e80f-3d71-4456-9e5a-7c5ea48000fb' title='Show/Hide attributes'><svg class='icon xr-icon-file-text2'><use xlink:href='#icon-file-text2'></use></svg></label><input id='data-14aa26fb-998c-4001-b6b5-1e09181489a4' class='xr-var-data-in' type='checkbox'><label for='data-14aa26fb-998c-4001-b6b5-1e09181489a4' title='Show/Hide data repr'><svg class='icon xr-icon-database'><use xlink:href='#icon-database'></use></svg></label><div class='xr-var-attrs'><dl class='xr-attrs'><dt><span>standard_name :</span></dt><dd>quality_flag</dd><dt><span>valid_range :</span></dt><dd>[0, 127]</dd><dt><span>hangle :</span></dt><dd>0.0</dd><dt><span>vangle :</span></dt><dd>0.0</dd><dt><span>serial :</span></dt><dd>S12137.049</dd><dt><span>calibration_Cabsolute :</span></dt><dd>143266.47564469912</dd><dt><span>calibration_Ccoscorr :</span></dt><dd>1.45 - 3.04·x¹ + 5.59·x² - 3.01·x³</dd><dt><span>calibration_function :</span></dt><dd>flux (W m-2) = flux (V) * Cabsolute (W m-2 V-1) * Ccoscorr(mua)</dd><dt><span>ancillary_variables :</span></dt><dd>gti</dd><dt><span>flag_masks :</span></dt><dd>[1, 2, 4, 8, 16, 32, 64]</dd><dt><span>flag_values :</span></dt><dd>[1, 2, 4, 8, 16, 32, 64]</dd><dt><span>flag_meanings :</span></dt><dd>below_physical_limit above_physical_limit below_rare_limit above_rare_limit comparison_to_low comparison_to_high quality_control_failed</dd></dl></div><div class='xr-var-data'><pre>array([[0],\n       [0],\n       [0],\n       [0],\n       [0],\n       [0],\n       [0],\n       [0],\n       [0]], dtype=uint8)</pre></div></li></ul></div></li><li class='xr-section-item'><input id='section-c414119f-21e6-4d44-a93a-92f2116b09ee' class='xr-section-summary-in' type='checkbox'  ><label for='section-c414119f-21e6-4d44-a93a-92f2116b09ee' class='xr-section-summary' >Indexes: <span>(3)</span></label><div class='xr-section-inline-details'></div><div class='xr-section-details'><ul class='xr-var-list'><li class='xr-var-item'><div class='xr-index-name'><div>station</div></div><div class='xr-index-preview'>PandasIndex</div><div></div><input id='index-f8673945-060c-44f6-923d-e17c9298ab87' class='xr-index-data-in' type='checkbox'/><label for='index-f8673945-060c-44f6-923d-e17c9298ab87' title='Show/Hide index repr'><svg class='icon xr-icon-database'><use xlink:href='#icon-database'></use></svg></label><div class='xr-index-data'><pre>PandasIndex(Float64Index([1.0], dtype=&#x27;float64&#x27;, name=&#x27;station&#x27;))</pre></div></li><li class='xr-var-item'><div class='xr-index-name'><div>time</div></div><div class='xr-index-preview'>PandasIndex</div><div></div><input id='index-43735704-abbc-473c-a537-78a326d2e3f0' class='xr-index-data-in' type='checkbox'/><label for='index-43735704-abbc-473c-a537-78a326d2e3f0' title='Show/Hide index repr'><svg class='icon xr-icon-database'><use xlink:href='#icon-database'></use></svg></label><div class='xr-index-data'><pre>PandasIndex(DatetimeIndex([&#x27;2022-08-30 11:21:01&#x27;, &#x27;2022-08-30 11:21:02&#x27;,\n               &#x27;2022-08-30 11:21:03&#x27;, &#x27;2022-08-30 11:21:04&#x27;,\n               &#x27;2022-08-30 11:21:05&#x27;, &#x27;2022-08-30 11:21:06&#x27;,\n               &#x27;2022-08-30 11:21:07&#x27;, &#x27;2022-08-30 11:21:08&#x27;,\n               &#x27;2022-08-30 11:21:09&#x27;],\n              dtype=&#x27;datetime64[ns]&#x27;, name=&#x27;time&#x27;, freq=&#x27;S&#x27;))</pre></div></li><li class='xr-var-item'><div class='xr-index-name'><div>maintenancetime</div></div><div class='xr-index-preview'>PandasIndex</div><div></div><input id='index-16cdce7b-ea4d-4114-9f6e-1ebd4f963835' class='xr-index-data-in' type='checkbox'/><label for='index-16cdce7b-ea4d-4114-9f6e-1ebd4f963835' title='Show/Hide index repr'><svg class='icon xr-icon-database'><use xlink:href='#icon-database'></use></svg></label><div class='xr-index-data'><pre>PandasIndex(DatetimeIndex([&#x27;2023-05-08 16:09:06&#x27;], dtype=&#x27;datetime64[ns]&#x27;, name=&#x27;maintenancetime&#x27;, freq=None))</pre></div></li></ul></div></li><li class='xr-section-item'><input id='section-de71bb5a-8634-44e6-bc7a-d9d019e50473' class='xr-section-summary-in' type='checkbox'  ><label for='section-de71bb5a-8634-44e6-bc7a-d9d019e50473' class='xr-section-summary' >Attributes: <span>(31)</span></label><div class='xr-section-inline-details'></div><div class='xr-section-details'><dl class='xr-attrs'><dt><span>Conventions :</span></dt><dd>CF-1.10, ACDD-1.3</dd><dt><span>title :</span></dt><dd>TROPOS pyranometer network (PyrNet) observational data set</dd><dt><span>history :</span></dt><dd>2024-02-27T06:51:35: Generated level l1a  by pyrnet version 0.2.0+2.g8cd06c5.dirty; 2024-02-27T06:51:37: Generated level l1b  by pyrnet version 0.2.0+2.g8cd06c5.dirty; </dd><dt><span>institution :</span></dt><dd>Leibniz Institute for Tropospheric Research (TROPOS)</dd><dt><span>source :</span></dt><dd>TROPOS pyranometer network (PyrNet)</dd><dt><span>references :</span></dt><dd>https://doi.org/10.5194/amt-9-1153-2016</dd><dt><span>Department :</span></dt><dd>Remote Sensing of Atmospheric Processes</dd><dt><span>Department_team :</span></dt><dd>Clouds, Aerosol and Radiation</dd><dt><span>Address :</span></dt><dd>Permoser Str. 15, 04318 Leipzig, Germany</dd><dt><span>Contact_person :</span></dt><dd>Andreas Macke and the clouds, aerosol and radiation team of the remote sensing department, mailto:andreas.macke@tropos.de</dd><dt><span>Contributor_name :</span></dt><dd></dd><dt><span>Contributor_role :</span></dt><dd></dd><dt><span>Authors_software :</span></dt><dd>Hartwig Deneke, Jonas Witthuhn, mailto:deneke@tropos.de</dd><dt><span>Creator_name :</span></dt><dd></dd><dt><span>Project :</span></dt><dd></dd><dt><span>Standard_name_vocabulary :</span></dt><dd>CF Standard Name Table v81</dd><dt><span>License :</span></dt><dd>CC-BY-SA 3.0</dd><dt><span>TESTNOTE :</span></dt><dd>This is a test note.</dd><dt><span>processing_level :</span></dt><dd>l1b</dd><dt><span>product_version :</span></dt><dd>0.2.0+2.g8cd06c5.dirty</dd><dt><span>date_created :</span></dt><dd>2024-02-27T06:51:37</dd><dt><span>geospatial_lat_min :</span></dt><dd>51.390210333333336</dd><dt><span>geospatial_lat_max :</span></dt><dd>51.390210333333336</dd><dt><span>geospatial_lat_units :</span></dt><dd>degN</dd><dt><span>geospatial_lon_min :</span></dt><dd>11.885252</dd><dt><span>geospatial_lon_max :</span></dt><dd>11.885252</dd><dt><span>geospatial_lon_units :</span></dt><dd>degE</dd><dt><span>time_coverage_start :</span></dt><dd>2022-08-30T11:21:01</dd><dt><span>time_coverage_end :</span></dt><dd>2022-08-30T11:21:09</dd><dt><span>time_coverage_duration :</span></dt><dd>P0DT0H0M8S</dd><dt><span>time_coverage_resolution :</span></dt><dd>P0DT0H0M1S</dd></dl></div></li></ul></div></div>"
     },
     "execution_count": 38,
     "metadata": {},
     "output_type": "execute_result"
    }
   ],
   "source": [
    "#|dropcode\n",
    "#|dropout\n",
    "fname = \"../../example_data/to_l1a_output.nc\"\n",
    "config = {\n",
    "    \"l1bfreq\":\"1s\",\n",
    "    \"campaign\": \"test\",\n",
    "    \"stripminutes\":0,\n",
    "    \"average_latlon\":True,\n",
    "    \"l1b_resample_stats\": [\"min\", \"max\", \"std\"],\n",
    "    \"radflux_varname\": [\"ghi\",\"gti\"]\n",
    "}\n",
    "\n",
    "ds_l1b = to_l1b(fname=fname, config=config, check_adc_sync=False)\n",
    "\n",
    "print(\"Processing fname:\")\n",
    "print(get_fname(ds_l1b, freq='1s', timevar=\"time\", config=config))\n",
    "\n",
    "ds_l1b.to_netcdf(\"../../example_data/to_l1b_output.nc\")\n",
    "ds_l1b"
   ]
  },
  {
   "cell_type": "code",
   "execution_count": 39,
   "metadata": {
    "collapsed": false,
    "ExecuteTime": {
     "end_time": "2024-02-27T06:51:38.185201Z",
     "start_time": "2024-02-27T06:51:37.474195500Z"
    }
   },
   "outputs": [
    {
     "name": "stdout",
     "output_type": "stream",
     "text": [
      "CHECKING NetCDF FILE: ../../example_data/to_l1b_output.nc\n",
      "=====================\n",
      "Using CF Checker Version 4.1.0\n",
      "Checking against CF Version CF-1.8\n",
      "Using Standard Name Table Version 84 (2024-01-19T15:55:10Z)\n",
      "Using Area Type Table Version 11 (06 July 2023)\n",
      "Using Standardized Region Name Table Version 4 (18 December 2018)\n",
      "\n",
      "ERROR: (2.6.1): This netCDF file does not appear to contain CF Convention data.\n",
      "\n",
      "------------------\n",
      "Checking variable: station\n",
      "------------------\n",
      "ERROR: (3.1): Invalid units: -\n",
      "\n",
      "------------------\n",
      "Checking variable: time\n",
      "------------------\n",
      "WARN: (3): No standard_name or long_name attribute specified\n",
      "\n",
      "------------------\n",
      "Checking variable: ghi\n",
      "------------------\n",
      "ERROR: (8.1): must be of type byte, short or int\n",
      "\n",
      "------------------\n",
      "Checking variable: gti\n",
      "------------------\n",
      "ERROR: (8.1): must be of type byte, short or int\n",
      "\n",
      "------------------\n",
      "Checking variable: ta\n",
      "------------------\n",
      "ERROR: (8.1): must be of type byte, short or int\n",
      "\n",
      "------------------\n",
      "Checking variable: rh\n",
      "------------------\n",
      "ERROR: (8.1): must be of type byte, short or int\n",
      "\n",
      "------------------\n",
      "Checking variable: battery_voltage\n",
      "------------------\n",
      "ERROR: (3.3): Invalid standard_name: battery_voltage\n",
      "ERROR: (8.1): must be of type byte, short or int\n",
      "\n",
      "------------------\n",
      "Checking variable: ghi_min\n",
      "------------------\n",
      "ERROR: (3.3): Invalid standard_name: min_downwelling_shortwave_flux_in_air\n",
      "ERROR: (8.1): must be of type byte, short or int\n",
      "\n",
      "------------------\n",
      "Checking variable: gti_min\n",
      "------------------\n",
      "ERROR: (3.3): Invalid standard_name: min_downwelling_shortwave_flux_in_air\n",
      "ERROR: (8.1): must be of type byte, short or int\n",
      "\n",
      "------------------\n",
      "Checking variable: ghi_max\n",
      "------------------\n",
      "ERROR: (3.3): Invalid standard_name: max_downwelling_shortwave_flux_in_air\n",
      "ERROR: (8.1): must be of type byte, short or int\n",
      "\n",
      "------------------\n",
      "Checking variable: gti_max\n",
      "------------------\n",
      "ERROR: (3.3): Invalid standard_name: max_downwelling_shortwave_flux_in_air\n",
      "ERROR: (8.1): must be of type byte, short or int\n",
      "\n",
      "------------------\n",
      "Checking variable: ghi_std\n",
      "------------------\n",
      "ERROR: (3.3): Invalid standard_name: std_downwelling_shortwave_flux_in_air\n",
      "ERROR: (8.1): must be of type byte, short or int\n",
      "\n",
      "------------------\n",
      "Checking variable: gti_std\n",
      "------------------\n",
      "ERROR: (3.3): Invalid standard_name: std_downwelling_shortwave_flux_in_air\n",
      "ERROR: (8.1): must be of type byte, short or int\n",
      "\n",
      "------------------\n",
      "Checking variable: lat\n",
      "------------------\n",
      "\n",
      "------------------\n",
      "Checking variable: lon\n",
      "------------------\n",
      "\n",
      "------------------\n",
      "Checking variable: maintenance_flag_ghi\n",
      "------------------\n",
      "WARN: (3): No standard_name or long_name attribute specified\n",
      "INFO: (3.1): No units attribute set.  Please consider adding a units attribute for completeness.\n",
      "\n",
      "------------------\n",
      "Checking variable: maintenance_flag_gti\n",
      "------------------\n",
      "WARN: (3): No standard_name or long_name attribute specified\n",
      "INFO: (3.1): No units attribute set.  Please consider adding a units attribute for completeness.\n",
      "\n",
      "------------------\n",
      "Checking variable: maintenancetime\n",
      "------------------\n",
      "WARN: (3): No standard_name or long_name attribute specified\n",
      "\n",
      "------------------\n",
      "Checking variable: szen\n",
      "------------------\n",
      "ERROR: (8.1): must be of type byte, short or int\n",
      "\n",
      "------------------\n",
      "Checking variable: sazi\n",
      "------------------\n",
      "ERROR: (8.1): must be of type byte, short or int\n",
      "\n",
      "------------------\n",
      "Checking variable: esd\n",
      "------------------\n",
      "\n",
      "------------------\n",
      "Checking variable: qc_flag_ghi\n",
      "------------------\n",
      "ERROR: Attribute flag_masks of incorrect type (expecting 'Data Variable' type, got 'Numeric' type)\n",
      "ERROR: Attribute flag_values of incorrect type (expecting 'Data Variable' type, got 'Numeric' type)\n",
      "\n",
      "------------------\n",
      "Checking variable: qc_flag_gti\n",
      "------------------\n",
      "ERROR: Attribute flag_masks of incorrect type (expecting 'Data Variable' type, got 'Numeric' type)\n",
      "ERROR: Attribute flag_values of incorrect type (expecting 'Data Variable' type, got 'Numeric' type)\n",
      "\n",
      "ERRORS detected: 26\n",
      "WARNINGS given: 4\n",
      "INFORMATION messages: 2\n"
     ]
    }
   ],
   "source": [
    "import cfchecker.cfchecks\n",
    "init = cfchecker.cfchecks.CFChecker()\n",
    "res = init.checker(\"../../example_data/to_l1b_output.nc\")"
   ]
  },
  {
   "cell_type": "code",
   "execution_count": 40,
   "metadata": {
    "collapsed": false,
    "ExecuteTime": {
     "end_time": "2024-02-27T06:51:38.193160Z",
     "start_time": "2024-02-27T06:51:38.169816Z"
    }
   },
   "outputs": [
    {
     "data": {
      "text/plain": "<class 'netCDF4._netCDF4.Dataset'>\nroot group (NETCDF4 data model, file format HDF5):\n    Conventions: CF-1.10, ACDD-1.3\n    title: TROPOS pyranometer network (PyrNet) observational data set\n    history: 2024-02-27T06:51:35: Generated level l1a  by pyrnet version 0.2.0+2.g8cd06c5.dirty; 2024-02-27T06:51:37: Generated level l1b  by pyrnet version 0.2.0+2.g8cd06c5.dirty; \n    institution: Leibniz Institute for Tropospheric Research (TROPOS)\n    source: TROPOS pyranometer network (PyrNet)\n    references: https://doi.org/10.5194/amt-9-1153-2016\n    Department: Remote Sensing of Atmospheric Processes\n    Department_team: Clouds, Aerosol and Radiation\n    Address: Permoser Str. 15, 04318 Leipzig, Germany\n    Contact_person: Andreas Macke and the clouds, aerosol and radiation team of the remote sensing department, mailto:andreas.macke@tropos.de\n    Contributor_name: \n    Contributor_role: \n    Authors_software: Hartwig Deneke, Jonas Witthuhn, mailto:deneke@tropos.de\n    Creator_name: \n    Project: \n    Standard_name_vocabulary: CF Standard Name Table v81\n    License: CC-BY-SA 3.0\n    TESTNOTE: This is a test note.\n    processing_level: l1b\n    product_version: 0.2.0+2.g8cd06c5.dirty\n    date_created: 2024-02-27T06:51:37\n    geospatial_lat_min: 51.390210333333336\n    geospatial_lat_max: 51.390210333333336\n    geospatial_lat_units: degN\n    geospatial_lon_min: 11.885252\n    geospatial_lon_max: 11.885252\n    geospatial_lon_units: degE\n    time_coverage_start: 2022-08-30T11:21:01\n    time_coverage_end: 2022-08-30T11:21:09\n    time_coverage_duration: P0DT0H0M8S\n    time_coverage_resolution: P0DT0H0M1S\n    dimensions(sizes): station(1), time(9), maintenancetime(1)\n    variables(dimensions): float64 station(station), float64 time(time), uint16 ghi(time, station), uint16 gti(time, station), uint16 ta(time, station), uint16 rh(time, station), uint16 battery_voltage(time, station), uint16 ghi_min(time, station), uint16 gti_min(time, station), uint16 ghi_max(time, station), uint16 gti_max(time, station), uint16 ghi_std(time, station), uint16 gti_std(time, station), float64 lat(station), float64 lon(station), uint8 maintenance_flag_ghi(maintenancetime, station), uint8 maintenance_flag_gti(maintenancetime, station), float64 maintenancetime(maintenancetime), uint16 szen(time, station), uint16 sazi(time, station), float64 esd(station), uint8 qc_flag_ghi(time, station), uint8 qc_flag_gti(time, station)\n    groups: "
     },
     "execution_count": 40,
     "metadata": {},
     "output_type": "execute_result"
    }
   ],
   "source": [
    "#|dropout\n",
    "import netCDF4\n",
    "netCDF4.Dataset(\"../../example_data/to_l1b_output.nc\",'r')"
   ]
  },
  {
   "cell_type": "markdown",
   "source": [
    "## Merging\n",
    "Merging datasets with xarray default merge overwrites or drops certain variable attributes (e.g., serial number, calibration factor). The methods here are specialized to merge PyrNet datasets and attributes.   "
   ],
   "metadata": {
    "collapsed": false
   }
  },
  {
   "cell_type": "code",
   "execution_count": 41,
   "outputs": [],
   "source": [
    "# make 3 artificial datasets for testing\n",
    "# original ds_l1b\n",
    "ds1 = ds_l1b.copy()\n",
    "ds1.attrs[\"site\"] = \"testsite1\"\n",
    "# ds_l1b but new times\n",
    "ds2 = ds1.copy()\n",
    "ds2 = ds2.assign_coords({\n",
    "    \"time\": (\"time\", ds2.time.values+(ds2.time.values[-1]-ds2.time.values[0]))\n",
    "})\n",
    "# ds_l1b, same time but other station\n",
    "ds3 = ds1.copy()\n",
    "ds3 = ds3.assign_coords({\n",
    "    \"station\": (\"station\", [2])\n",
    "})\n",
    "ds3.attrs[\"site\"] = \"testsite2\"\n",
    "for var in ds3:\n",
    "    if \"ghi\" in var:\n",
    "        ds3[var].attrs[\"serial\"] = \"test_ghi_ds3\"\n",
    "    if \"gti\" in var:\n",
    "        ds3[var].attrs[\"serial\"] = \"test_gti_ds3\"\n",
    "\n",
    "dslist = [ds1, ds3, ds2]\n"
   ],
   "metadata": {
    "collapsed": false,
    "ExecuteTime": {
     "end_time": "2024-02-27T06:51:38.273290300Z",
     "start_time": "2024-02-27T06:51:38.195448700Z"
    }
   }
  },
  {
   "cell_type": "markdown",
   "source": [
    "### Sort by station coordinates\n",
    "Before merging, sort them by station"
   ],
   "metadata": {
    "collapsed": false
   }
  },
  {
   "cell_type": "code",
   "execution_count": 42,
   "outputs": [],
   "source": [
    "#|export\n",
    "#|dropcode\n",
    "def _sort_by_station(dslist):\n",
    "    # sort dslist for first station\n",
    "    station0 = []\n",
    "    for i in range(len(dslist)):\n",
    "        station0.append(int(dslist[i][\"station\"].values[0]))\n",
    "    isort = np.argsort(station0).ravel()\n",
    "    dslist = [dslist[i] for i in isort]\n",
    "    return dslist\n"
   ],
   "metadata": {
    "collapsed": false,
    "ExecuteTime": {
     "end_time": "2024-02-27T06:51:38.296622400Z",
     "start_time": "2024-02-27T06:51:38.204372500Z"
    }
   }
  },
  {
   "cell_type": "code",
   "execution_count": 43,
   "outputs": [
    {
     "name": "stdout",
     "output_type": "stream",
     "text": [
      "[1.]\n",
      "[1.]\n",
      "[2]\n"
     ]
    },
    {
     "data": {
      "text/plain": "[None, None, None]"
     },
     "execution_count": 43,
     "metadata": {},
     "output_type": "execute_result"
    }
   ],
   "source": [
    "#|dropout\n",
    "dslist = _sort_by_station(dslist)\n",
    "[print(dslist[i].station.values) for i in range(len(dslist))]"
   ],
   "metadata": {
    "collapsed": false,
    "ExecuteTime": {
     "end_time": "2024-02-27T06:51:38.312576200Z",
     "start_time": "2024-02-27T06:51:38.213351200Z"
    }
   }
  },
  {
   "cell_type": "markdown",
   "source": [
    "### Merge global and variable attributes\n",
    "Some attributes are tied to a specific statin (e.g., calibration factor, serial number). These attributes are converted to a list and merged with respect to the station dimension."
   ],
   "metadata": {
    "collapsed": false
   }
  },
  {
   "cell_type": "code",
   "execution_count": 44,
   "outputs": [],
   "source": [
    "#|export\n",
    "#|dropcode\n",
    "def _merge_gattrs_by_station(dslist, merge_gattrs):\n",
    "    merged_gattrs = {}\n",
    "    gattrs_idx = {}\n",
    "    for i in range(len(dslist)):\n",
    "        dst = dslist[i]\n",
    "        for attr in dst.attrs:\n",
    "            if attr not in merge_gattrs:\n",
    "                continue\n",
    "            # save station index, as attributes are related to station dimension\n",
    "            attridx = list(dst.station.values.astype(int))\n",
    "            attrval = list(pyrnet.utils.make_iter(dst.attrs[attr]))\n",
    "            # merge attributes, overwrite values of same station\n",
    "            if attr in merged_gattrs:\n",
    "                mattrval = merged_gattrs[attr] + attrval\n",
    "                mattridx = gattrs_idx[attr] + attridx\n",
    "                _,idx = np.unique(mattridx, return_index=True)\n",
    "                attridx = [mattridx[i] for i in idx]\n",
    "                attrval = [mattrval[i] for i in idx]\n",
    "            gattrs_idx = assoc_in(\n",
    "                gattrs_idx, [attr], attridx\n",
    "            )\n",
    "            merged_gattrs = assoc_in(\n",
    "                merged_gattrs, [attr], attrval\n",
    "            )\n",
    "    return merged_gattrs\n",
    "\n",
    "def _merge_vattrs_by_station(dslist, merge_attrs):\n",
    "    # merge variable attrs:\n",
    "    merge_attrs_fill_value = [merge_attrs[key] for key in merge_attrs] \n",
    "    merge_attrs = [key for key in merge_attrs]\n",
    "    \n",
    "    # add missing gti variables\n",
    "    for i in range(len(dslist)):\n",
    "        dst = dslist[i].copy()\n",
    "        if \"gti\" in dst:\n",
    "            continue\n",
    "        ghi_vars = [var for var in dst if \"ghi\" in var]\n",
    "        gti_vars = [var.replace(\"ghi\",\"gti\") for var in ghi_vars]\n",
    "        for ghi_var, gti_var in zip(ghi_vars,gti_vars):\n",
    "            dst = dst.assign({\n",
    "                gti_var: (dst[ghi_var].dims, np.full(dst[ghi_var].shape, np.nan))\n",
    "            })\n",
    "            for j,attr in enumerate(merge_attrs):\n",
    "                if \"note\" in attr and not ghi_var.startswith(\"maintenance\"):\n",
    "                    continue\n",
    "                if \"note\" not in attr and ghi_var.startswith(\"maintenance\"):\n",
    "                    continue\n",
    "                fill_value = dst.station.size * [merge_attrs_fill_value[j]]\n",
    "                dst[gti_var].attrs.update({\n",
    "                    attr: fill_value\n",
    "                })\n",
    "        dslist[i] = dst\n",
    "    \n",
    "    merged_attrs = {}\n",
    "    mattrs_idx = {}\n",
    "    for i in range(len(dslist)):\n",
    "        dst = dslist[i]\n",
    "        for var in dst:\n",
    "            for attr in dst[var].attrs:\n",
    "                if attr not in merge_attrs:\n",
    "                    continue\n",
    "                # save station index, as attributes are related to station dimension\n",
    "                attridx = list(dst.station.values.astype(int))\n",
    "                attrval = list(pyrnet.utils.make_iter(dst[var].attrs[attr]))\n",
    "                # merge attributes, overwrite values of same station\n",
    "                if var not in merged_attrs:\n",
    "                    merged_attrs.update({var:{}})\n",
    "                    mattrs_idx.update({var:{}})\n",
    "                if attr in merged_attrs[var]:\n",
    "                    mattrval = merged_attrs[var][attr] + attrval\n",
    "                    mattridx = mattrs_idx[var][attr] + attridx\n",
    "                    print(i,var,attr,mattrval)\n",
    "                    _,idx = np.unique(mattridx, return_index=True)\n",
    "                    attridx = [mattridx[i] for i in idx]\n",
    "                    attrval = [mattrval[i] for i in idx]\n",
    "                mattrs_idx = assoc_in(\n",
    "                    mattrs_idx, [var,attr], attridx\n",
    "                )\n",
    "                merged_attrs = assoc_in(\n",
    "                    merged_attrs, [var,attr], attrval\n",
    "                )\n",
    "    return dslist, merged_attrs\n",
    "    "
   ],
   "metadata": {
    "collapsed": false,
    "ExecuteTime": {
     "end_time": "2024-02-27T06:51:38.314167200Z",
     "start_time": "2024-02-27T06:51:38.234603300Z"
    }
   }
  },
  {
   "cell_type": "code",
   "execution_count": 45,
   "outputs": [
    {
     "name": "stdout",
     "output_type": "stream",
     "text": [
      "{'site': ['testsite1', 'testsite2']}\n",
      "1 ghi serial ['S12128.001', 'S12128.001']\n",
      "1 gti serial ['S12137.049', 'S12137.049']\n",
      "1 ghi_min serial ['S12128.001', 'S12128.001']\n",
      "1 gti_min serial ['S12137.049', 'S12137.049']\n",
      "1 ghi_max serial ['S12128.001', 'S12128.001']\n",
      "1 gti_max serial ['S12137.049', 'S12137.049']\n",
      "1 ghi_std serial ['S12128.001', 'S12128.001']\n",
      "1 gti_std serial ['S12137.049', 'S12137.049']\n",
      "1 maintenance_flag_ghi note_general ['222', '222']\n",
      "1 maintenance_flag_gti note_general ['222', '222']\n",
      "1 qc_flag_ghi serial ['S12128.001', 'S12128.001']\n",
      "1 qc_flag_gti serial ['S12137.049', 'S12137.049']\n",
      "2 ghi serial ['S12128.001', 'test_ghi_ds3']\n",
      "2 gti serial ['S12137.049', 'test_gti_ds3']\n",
      "2 ghi_min serial ['S12128.001', 'test_ghi_ds3']\n",
      "2 gti_min serial ['S12137.049', 'test_gti_ds3']\n",
      "2 ghi_max serial ['S12128.001', 'test_ghi_ds3']\n",
      "2 gti_max serial ['S12137.049', 'test_gti_ds3']\n",
      "2 ghi_std serial ['S12128.001', 'test_ghi_ds3']\n",
      "2 gti_std serial ['S12137.049', 'test_gti_ds3']\n",
      "2 maintenance_flag_ghi note_general ['222', '222']\n",
      "2 maintenance_flag_gti note_general ['222', '222']\n",
      "2 qc_flag_ghi serial ['S12128.001', 'test_ghi_ds3']\n",
      "2 qc_flag_gti serial ['S12137.049', 'test_gti_ds3']\n",
      "{'ghi': {'serial': ['S12128.001', 'test_ghi_ds3']}, 'gti': {'serial': ['S12137.049', 'test_gti_ds3']}, 'ghi_min': {'serial': ['S12128.001', 'test_ghi_ds3']}, 'gti_min': {'serial': ['S12137.049', 'test_gti_ds3']}, 'ghi_max': {'serial': ['S12128.001', 'test_ghi_ds3']}, 'gti_max': {'serial': ['S12137.049', 'test_gti_ds3']}, 'ghi_std': {'serial': ['S12128.001', 'test_ghi_ds3']}, 'gti_std': {'serial': ['S12137.049', 'test_gti_ds3']}, 'maintenance_flag_ghi': {'note_general': ['222', '222'], 'serial': ['test_ghi_ds3']}, 'maintenance_flag_gti': {'note_general': ['222', '222'], 'serial': ['test_gti_ds3']}, 'qc_flag_ghi': {'serial': ['S12128.001', 'test_ghi_ds3']}, 'qc_flag_gti': {'serial': ['S12137.049', 'test_gti_ds3']}}\n"
     ]
    }
   ],
   "source": [
    "#|dropout\n",
    "merged_gattrs = _merge_gattrs_by_station(dslist, merge_gattrs=[\"site\"])\n",
    "print(merged_gattrs)\n",
    "_, merged_attrs = _merge_vattrs_by_station(dslist, merge_attrs={\"serial\":\"\", \"note_general\":\"\"})\n",
    "print(merged_attrs)"
   ],
   "metadata": {
    "collapsed": false,
    "ExecuteTime": {
     "end_time": "2024-02-27T06:51:38.317160600Z",
     "start_time": "2024-02-27T06:51:38.253170300Z"
    }
   }
  },
  {
   "cell_type": "markdown",
   "source": [
    "### Dataset unification\n",
    "Reindex all kinds of dimension to unify datasets."
   ],
   "metadata": {
    "collapsed": false
   }
  },
  {
   "cell_type": "code",
   "execution_count": 46,
   "outputs": [],
   "source": [
    "#|export\n",
    "#|dropcode\n",
    "def _reindex_time(dslist, freq='1s', timevar='time'):\n",
    "    dates = []\n",
    "    for i in range(len(dslist)):\n",
    "        # reindex to full day\n",
    "        dates.append(dslist[i][timevar].values[0].astype(\"datetime64[D]\"))\n",
    "    udates = np.unique(dates)\n",
    "    \n",
    "    timeidx = pd.DatetimeIndex([])\n",
    "    for date in udates:\n",
    "        timeidx = timeidx.append(pd.date_range(\n",
    "            date,\n",
    "            date + np.timedelta64(1, 'D'),\n",
    "            freq=freq,\n",
    "            inclusive='left'\n",
    "        ))\n",
    "    \n",
    "    for i in range(len(dslist)):\n",
    "        dslist[i] = dslist[i].reindex(\n",
    "            {timevar:timeidx},\n",
    "            method='nearest',\n",
    "            tolerance=np.timedelta64(1, 'ms')\n",
    "        )\n",
    "    return dslist\n",
    "\n",
    "def _reindex_station(dslist):\n",
    "    stations = []\n",
    "    for i in range(len(dslist)):\n",
    "        # reindex to full day\n",
    "        stations += list(dslist[i].station.values)\n",
    "    ustations = np.unique(stations)\n",
    "    for i in range(len(dslist)):\n",
    "        dslist[i] = dslist[i].reindex(\n",
    "            {\"station\":ustations},\n",
    "            method='nearest',\n",
    "            tolerance=1e-6\n",
    "        )\n",
    "    return dslist\n",
    "\n",
    "def _reindex_maintenancetime(dslist):\n",
    "    mtimes = []\n",
    "    for i in range(len(dslist)):\n",
    "        # reindex to full day\n",
    "        mtimes += list(dslist[i].maintenancetime.values)\n",
    "    umtimes = np.unique(mtimes)\n",
    "    for i in range(len(dslist)):\n",
    "        dslist[i] = dslist[i].reindex(\n",
    "            {\"maintenancetime\":umtimes},\n",
    "            method='nearest',\n",
    "            tolerance=np.timedelta64(1, 'ms')\n",
    "        )\n",
    "    return dslist"
   ],
   "metadata": {
    "collapsed": false,
    "ExecuteTime": {
     "end_time": "2024-02-27T06:51:38.317160600Z",
     "start_time": "2024-02-27T06:51:38.264251200Z"
    }
   }
  },
  {
   "cell_type": "markdown",
   "source": [
    "### Snap Maintenance time coordinate\n",
    "The Maintenancetime coordinate is given at report time, which is actually somewhere after the maintenance. Assuming the report takes place on same or next day, we snap the coordinate to matching data gaps of 10-120min. "
   ],
   "metadata": {
    "collapsed": false
   }
  },
  {
   "cell_type": "code",
   "execution_count": 47,
   "outputs": [],
   "source": [
    "#|export\n",
    "#|dropcode\n",
    "def _maintenancetime_snap_to_gap(ds):\n",
    "    old_mtimes = ds.maintenancetime.values\n",
    "    new_mtimes = old_mtimes.copy()\n",
    "    for i, mtime in enumerate(old_mtimes):\n",
    "        dtime = mtime.astype(\"datetime64[D]\") - ds.time.values[0].astype(\"datetime64[D]\")\n",
    "        # consider only same or next day maintenance times for snapping\n",
    "        if (dtime > np.timedelta64(1,\"D\") or\n",
    "            dtime < np.timedelta64(0,\"D\")):\n",
    "            continue\n",
    "        # lookup station\n",
    "        istation = np.argwhere(~np.isnan(\n",
    "            ds.maintenance_flag_ghi.values[i,:]\n",
    "        ))[0][0]\n",
    "        # identify gaps and gap length\n",
    "        igap = np.argwhere(np.isnan(\n",
    "            ds.ghi.isel(station=istation).values\n",
    "        )).ravel()\n",
    "        if len(igap)==0:\n",
    "            continue\n",
    "        digap = np.diff(igap)\n",
    "        istartgaps = np.insert(digap,0,0)!=1\n",
    "        iendgaps = np.insert(digap,-1,0)!=1\n",
    "        # checkout only gaps of certain length\n",
    "        gaptimes = []\n",
    "        gapidxs = []\n",
    "        for istart,iend in zip(igap[istartgaps],igap[iendgaps]):\n",
    "            gaptime = ds.time.values[iend] - ds.time.values[istart]\n",
    "            # assume maintenance takes at least 10 min and maximum 2h\n",
    "            if (np.timedelta64(10, \"m\") < gaptime < np.timedelta64(2, 'h')):\n",
    "                gapidxs.append(istart)\n",
    "                gaptimes.append(ds.time.values[istart])\n",
    "        if len(gaptimes)==0:\n",
    "            continue\n",
    "        # snap maintenance time to the closest matching gap\n",
    "        new_mtimes[i] = gaptimes[np.argmin([mtime-gtime for gtime in gaptimes])]\n",
    "    # update maintenancetime coordinate\n",
    "    ds = ds.assign_coords({\n",
    "        \"maintenancetime\": (\"maintenancetime\", new_mtimes)\n",
    "    })\n",
    "    ds = ds.sortby(\"maintenancetime\")\n",
    "    return ds"
   ],
   "metadata": {
    "collapsed": false,
    "ExecuteTime": {
     "end_time": "2024-02-27T06:51:38.335632600Z",
     "start_time": "2024-02-27T06:51:38.275721900Z"
    }
   }
  },
  {
   "cell_type": "markdown",
   "source": [
    "### Merging processed datasets"
   ],
   "metadata": {
    "collapsed": false
   }
  },
  {
   "cell_type": "code",
   "execution_count": 48,
   "outputs": [],
   "source": [
    "#|export\n",
    "#|dropcode\n",
    "def merge_l1b(\n",
    "        dslist,\n",
    "        freq='1s',\n",
    "        timevar='time',\n",
    "        merge_gattrs=[\"site\"],\n",
    "        merge_attrs={\n",
    "            \"calibration_Cabsolute\":0,\n",
    "            \"serial\":\"\",\n",
    "            \"vangle\":0,\n",
    "            \"hangle\":0,\n",
    "            \"note_general\":\"\",\n",
    "            \"note_clean\":\"\",\n",
    "            \"note_level\":\"\"\n",
    "        }\n",
    "):\n",
    "    # sort by first station coordinate\n",
    "    dslist = _sort_by_station(dslist)\n",
    "    \n",
    "    ################################################################\n",
    "    ## Merge Attributes\n",
    "    # have to merge attributes before reindexing, \n",
    "    # as attributes are tied the specific stations in the current datasets\n",
    "    merged_gattrs = _merge_gattrs_by_station(dslist, merge_gattrs=merge_gattrs)\n",
    "    dslist, merged_attrs = _merge_vattrs_by_station(dslist, merge_attrs=merge_attrs)\n",
    "    \n",
    "    #####################################################################\n",
    "    ## Unify datasets\n",
    "    # reindex timevar:\n",
    "    dslist = _reindex_time(dslist, freq=freq, timevar=timevar)\n",
    "    # reindex station var:\n",
    "    dslist = _reindex_station(dslist)\n",
    "    # reindex maintenancetime var:\n",
    "    dslist = _reindex_maintenancetime(dslist)\n",
    "    \n",
    "    #####################################################################\n",
    "    ## Merge datasets\n",
    "    # merge vars with (time,station) dims\n",
    "    for i in range(len(dslist)):\n",
    "        dst = dslist[i].copy()\n",
    "        dst = dst.drop_vars(\n",
    "            [var for var in dst if not (timevar in dst[var].dims and \"station\" in dst[var].dims)]\n",
    "        )\n",
    "        if i==0:\n",
    "            ds_time_station = dst.copy()\n",
    "        else:\n",
    "            # handle overlapping values by dropping from the first (override from second)\n",
    "            for var in dst:\n",
    "                overlap = (~np.isnan(dst[var].values))*(~np.isnan(dst[var].values))\n",
    "                ds_time_station[var].values = ds_time_station[var].values.astype(float)\n",
    "                ds_time_station[var].values[overlap] = np.nan\n",
    "            ds_time_station = ds_time_station.merge(dst)\n",
    "            \n",
    "    # merge vars with (maintenancetime, station) dims\n",
    "    for i in range(len(dslist)):\n",
    "        dst = dslist[i].copy()\n",
    "        dst = dst.drop_vars(\n",
    "            [var for var in dst if not (\"maintenancetime\" in dst[var].dims and \"station\" in dst[var].dims)]\n",
    "        )\n",
    "        if i==0:\n",
    "            ds_mtime_station = dst.copy()\n",
    "        else:\n",
    "            for var in dst:\n",
    "                overlap = (~np.isnan(dst[var].values))*(~np.isnan(dst[var].values))\n",
    "                ds_mtime_station[var].values = ds_mtime_station[var].values.astype(float)\n",
    "                ds_mtime_station[var].values[overlap] = np.nan\n",
    "            ds_mtime_station = ds_mtime_station.merge(dst)\n",
    "    \n",
    "    # merge vars with (time,station) dims\n",
    "    for i in range(len(dslist)):\n",
    "        dst = dslist[i].copy()\n",
    "        dst = dst.drop_vars(\n",
    "            [var for var in dst if not (len(dst[var].dims)==1 and \"station\" in dst[var].dims)]\n",
    "        )\n",
    "        if i==0:\n",
    "            ds_station = dst.copy()\n",
    "        else:\n",
    "            try:\n",
    "                # works there is no overlap with non null values ( new stations )\n",
    "                ds_station = ds_station.merge(dst, compat='no_conflicts')\n",
    "            except:\n",
    "                # override if station already exists\n",
    "                ds_station = ds_station.merge(dst, compat='override')\n",
    "            #ds_station = xr.concat((ds_station, dst), dim='station')\n",
    "    \n",
    "    ds_merged = xr.merge([ds_time_station,ds_station,ds_mtime_station])\n",
    "    \n",
    "    ###########################################################################\n",
    "    ## add merged attrs\n",
    "    # write new history\n",
    "    now = pd.to_datetime(np.datetime64(\"now\"))\n",
    "    ds_merged.attrs[\"history\"] = f\"{now.isoformat()}: Merged level l1b by pyrnet version {pyrnet_version}; \"\n",
    "    \n",
    "    # save merged global attrs\n",
    "    for attr in ds_merged.attrs:\n",
    "        if attr not in merge_gattrs:\n",
    "            continue\n",
    "        ds_merged.attrs[attr] = merged_gattrs[attr]\n",
    "    \n",
    "    # save merged variable attrs\n",
    "    for var in ds_merged:\n",
    "        for attr in ds_merged[var].attrs:\n",
    "            if attr not in merge_attrs:\n",
    "                continue\n",
    "            ds_merged[var].attrs[attr] = merged_attrs[var][attr]\n",
    "  \n",
    "    #############################################################################\n",
    "    ## maintenance time snap to data gap\n",
    "    # check maintenance time per station\n",
    "    # if its in time range, scan for gaps >10min and snap closest maintenance time to this gaps\n",
    "    ds_merged = _maintenancetime_snap_to_gap(ds_merged)\n",
    "    \n",
    "    # update automatic quality flags\n",
    "    ds_merged = pyrnet.qcrad.add_qc_flags(ds_merged, [\"ghi\",\"gti\"])\n",
    "    # add encoding\n",
    "    ds_merged = add_encoding(ds_merged)\n",
    "    return ds_merged\n"
   ],
   "metadata": {
    "collapsed": false,
    "ExecuteTime": {
     "end_time": "2024-02-27T06:51:38.336637Z",
     "start_time": "2024-02-27T06:51:38.291124Z"
    }
   }
  },
  {
   "cell_type": "markdown",
   "source": [
    "### Test merging"
   ],
   "metadata": {
    "collapsed": false
   }
  },
  {
   "cell_type": "code",
   "execution_count": 49,
   "outputs": [
    {
     "name": "stdout",
     "output_type": "stream",
     "text": [
      "1 ghi serial ['S12128.001', 'S12128.001']\n",
      "1 ghi calibration_Cabsolute [129366.10608020698, 129366.10608020698]\n",
      "1 gti hangle [0.0, 0.0]\n",
      "1 gti vangle [0.0, 0.0]\n",
      "1 gti serial ['S12137.049', 'S12137.049']\n",
      "1 gti calibration_Cabsolute [143266.47564469912, 143266.47564469912]\n",
      "1 ghi_min serial ['S12128.001', 'S12128.001']\n",
      "1 ghi_min calibration_Cabsolute [129366.10608020698, 129366.10608020698]\n",
      "1 gti_min hangle [0.0, 0.0]\n",
      "1 gti_min vangle [0.0, 0.0]\n",
      "1 gti_min serial ['S12137.049', 'S12137.049']\n",
      "1 gti_min calibration_Cabsolute [143266.47564469912, 143266.47564469912]\n",
      "1 ghi_max serial ['S12128.001', 'S12128.001']\n",
      "1 ghi_max calibration_Cabsolute [129366.10608020698, 129366.10608020698]\n",
      "1 gti_max hangle [0.0, 0.0]\n",
      "1 gti_max vangle [0.0, 0.0]\n",
      "1 gti_max serial ['S12137.049', 'S12137.049']\n",
      "1 gti_max calibration_Cabsolute [143266.47564469912, 143266.47564469912]\n",
      "1 ghi_std serial ['S12128.001', 'S12128.001']\n",
      "1 ghi_std calibration_Cabsolute [129366.10608020698, 129366.10608020698]\n",
      "1 gti_std hangle [0.0, 0.0]\n",
      "1 gti_std vangle [0.0, 0.0]\n",
      "1 gti_std serial ['S12137.049', 'S12137.049']\n",
      "1 gti_std calibration_Cabsolute [143266.47564469912, 143266.47564469912]\n",
      "1 maintenance_flag_ghi note_general ['222', '222']\n",
      "1 maintenance_flag_ghi note_clean ['testing notes', 'testing notes']\n",
      "1 maintenance_flag_ghi note_level ['test', 'test']\n",
      "1 maintenance_flag_gti note_general ['222', '222']\n",
      "1 maintenance_flag_gti note_clean ['', '']\n",
      "1 maintenance_flag_gti note_level ['', '']\n",
      "1 qc_flag_ghi serial ['S12128.001', 'S12128.001']\n",
      "1 qc_flag_ghi calibration_Cabsolute [129366.10608020698, 129366.10608020698]\n",
      "1 qc_flag_gti hangle [0.0, 0.0]\n",
      "1 qc_flag_gti vangle [0.0, 0.0]\n",
      "1 qc_flag_gti serial ['S12137.049', 'S12137.049']\n",
      "1 qc_flag_gti calibration_Cabsolute [143266.47564469912, 143266.47564469912]\n",
      "2 ghi serial ['S12128.001', 'test_ghi_ds3']\n",
      "2 ghi calibration_Cabsolute [129366.10608020698, 129366.10608020698]\n",
      "2 gti hangle [0.0, 0.0]\n",
      "2 gti vangle [0.0, 0.0]\n",
      "2 gti serial ['S12137.049', 'test_gti_ds3']\n",
      "2 gti calibration_Cabsolute [143266.47564469912, 143266.47564469912]\n",
      "2 ghi_min serial ['S12128.001', 'test_ghi_ds3']\n",
      "2 ghi_min calibration_Cabsolute [129366.10608020698, 129366.10608020698]\n",
      "2 gti_min hangle [0.0, 0.0]\n",
      "2 gti_min vangle [0.0, 0.0]\n",
      "2 gti_min serial ['S12137.049', 'test_gti_ds3']\n",
      "2 gti_min calibration_Cabsolute [143266.47564469912, 143266.47564469912]\n",
      "2 ghi_max serial ['S12128.001', 'test_ghi_ds3']\n",
      "2 ghi_max calibration_Cabsolute [129366.10608020698, 129366.10608020698]\n",
      "2 gti_max hangle [0.0, 0.0]\n",
      "2 gti_max vangle [0.0, 0.0]\n",
      "2 gti_max serial ['S12137.049', 'test_gti_ds3']\n",
      "2 gti_max calibration_Cabsolute [143266.47564469912, 143266.47564469912]\n",
      "2 ghi_std serial ['S12128.001', 'test_ghi_ds3']\n",
      "2 ghi_std calibration_Cabsolute [129366.10608020698, 129366.10608020698]\n",
      "2 gti_std hangle [0.0, 0.0]\n",
      "2 gti_std vangle [0.0, 0.0]\n",
      "2 gti_std serial ['S12137.049', 'test_gti_ds3']\n",
      "2 gti_std calibration_Cabsolute [143266.47564469912, 143266.47564469912]\n",
      "2 maintenance_flag_ghi note_general ['222', '222']\n",
      "2 maintenance_flag_ghi note_clean ['testing notes', 'testing notes']\n",
      "2 maintenance_flag_ghi note_level ['test', 'test']\n",
      "2 maintenance_flag_gti note_general ['222', '222']\n",
      "2 maintenance_flag_gti note_clean ['', '']\n",
      "2 maintenance_flag_gti note_level ['', '']\n",
      "2 qc_flag_ghi serial ['S12128.001', 'test_ghi_ds3']\n",
      "2 qc_flag_ghi calibration_Cabsolute [129366.10608020698, 129366.10608020698]\n",
      "2 qc_flag_gti hangle [0.0, 0.0]\n",
      "2 qc_flag_gti vangle [0.0, 0.0]\n",
      "2 qc_flag_gti serial ['S12137.049', 'test_gti_ds3']\n",
      "2 qc_flag_gti calibration_Cabsolute [143266.47564469912, 143266.47564469912]\n"
     ]
    },
    {
     "name": "stderr",
     "output_type": "stream",
     "text": [
      "/mnt/c/Users/witthuhn/Documents/Project/2023_SGP/PyrNet/src/pyrnet/qcrad.py:154: RuntimeWarning: Mean of empty slice\n",
      "  all_values_mean = np.nanmean(np.concatenate([dsr[var].values for var in dsr],axis=1),axis=1)\n",
      "/mnt/c/Users/witthuhn/Documents/Project/2023_SGP/PyrNet/src/pyrnet/qcrad.py:161: RuntimeWarning: Mean of empty slice\n",
      "  meanvalues = np.nanmean(dsr[var].values, axis=1)\n"
     ]
    },
    {
     "data": {
      "text/plain": "<xarray.Dataset>\nDimensions:               (station: 1, time: 9, maintenancetime: 1)\nCoordinates:\n  * station               (station) float64 1.0\n  * time                  (time) datetime64[ns] 2022-08-30T11:21:01 ... 2022-...\n  * maintenancetime       (maintenancetime) datetime64[ns] 2023-05-08T16:09:06\nData variables: (12/20)\n    ghi                   (time, station) float64 280.9 280.9 ... 280.9 280.9\n    gti                   (time, station) float64 289.0 289.0 ... 288.6 289.0\n    ta                    (time, station) float64 294.8 294.7 ... 294.7 294.8\n    rh                    (time, station) float64 0.6253 0.6248 ... 0.628 0.6253\n    battery_voltage       (time, station) float64 6.443 6.445 ... 6.449 6.443\n    ghi_min               (time, station) float64 280.9 280.9 ... 280.9 280.9\n    ...                    ...\n    qc_flag_gti           (time, station) uint8 0 0 0 0 0 0 0 0 0\n    lat                   (station) float64 51.39\n    lon                   (station) float64 11.89\n    esd                   (station) float64 1.01\n    maintenance_flag_ghi  (maintenancetime, station) float64 9.0\n    maintenance_flag_gti  (maintenancetime, station) float64 7.0\nAttributes: (12/32)\n    Conventions:               CF-1.10, ACDD-1.3\n    title:                     TROPOS pyranometer network (PyrNet) observatio...\n    history:                   2024-02-27T06:51:38: Merged level l1b by pyrne...\n    institution:               Leibniz Institute for Tropospheric Research (T...\n    source:                    TROPOS pyranometer network (PyrNet)\n    references:                https://doi.org/10.5194/amt-9-1153-2016\n    ...                        ...\n    geospatial_lon_units:      degE\n    time_coverage_start:       2022-08-30T11:21:01\n    time_coverage_end:         2022-08-30T11:21:09\n    time_coverage_duration:    P0DT0H0M8S\n    time_coverage_resolution:  P0DT0H0M1S\n    site:                      ['testsite1', 'testsite2']",
      "text/html": "<div><svg style=\"position: absolute; width: 0; height: 0; overflow: hidden\">\n<defs>\n<symbol id=\"icon-database\" viewBox=\"0 0 32 32\">\n<path d=\"M16 0c-8.837 0-16 2.239-16 5v4c0 2.761 7.163 5 16 5s16-2.239 16-5v-4c0-2.761-7.163-5-16-5z\"></path>\n<path d=\"M16 17c-8.837 0-16-2.239-16-5v6c0 2.761 7.163 5 16 5s16-2.239 16-5v-6c0 2.761-7.163 5-16 5z\"></path>\n<path d=\"M16 26c-8.837 0-16-2.239-16-5v6c0 2.761 7.163 5 16 5s16-2.239 16-5v-6c0 2.761-7.163 5-16 5z\"></path>\n</symbol>\n<symbol id=\"icon-file-text2\" viewBox=\"0 0 32 32\">\n<path d=\"M28.681 7.159c-0.694-0.947-1.662-2.053-2.724-3.116s-2.169-2.030-3.116-2.724c-1.612-1.182-2.393-1.319-2.841-1.319h-15.5c-1.378 0-2.5 1.121-2.5 2.5v27c0 1.378 1.122 2.5 2.5 2.5h23c1.378 0 2.5-1.122 2.5-2.5v-19.5c0-0.448-0.137-1.23-1.319-2.841zM24.543 5.457c0.959 0.959 1.712 1.825 2.268 2.543h-4.811v-4.811c0.718 0.556 1.584 1.309 2.543 2.268zM28 29.5c0 0.271-0.229 0.5-0.5 0.5h-23c-0.271 0-0.5-0.229-0.5-0.5v-27c0-0.271 0.229-0.5 0.5-0.5 0 0 15.499-0 15.5 0v7c0 0.552 0.448 1 1 1h7v19.5z\"></path>\n<path d=\"M23 26h-14c-0.552 0-1-0.448-1-1s0.448-1 1-1h14c0.552 0 1 0.448 1 1s-0.448 1-1 1z\"></path>\n<path d=\"M23 22h-14c-0.552 0-1-0.448-1-1s0.448-1 1-1h14c0.552 0 1 0.448 1 1s-0.448 1-1 1z\"></path>\n<path d=\"M23 18h-14c-0.552 0-1-0.448-1-1s0.448-1 1-1h14c0.552 0 1 0.448 1 1s-0.448 1-1 1z\"></path>\n</symbol>\n</defs>\n</svg>\n<style>/* CSS stylesheet for displaying xarray objects in jupyterlab.\n *\n */\n\n:root {\n  --xr-font-color0: var(--jp-content-font-color0, rgba(0, 0, 0, 1));\n  --xr-font-color2: var(--jp-content-font-color2, rgba(0, 0, 0, 0.54));\n  --xr-font-color3: var(--jp-content-font-color3, rgba(0, 0, 0, 0.38));\n  --xr-border-color: var(--jp-border-color2, #e0e0e0);\n  --xr-disabled-color: var(--jp-layout-color3, #bdbdbd);\n  --xr-background-color: var(--jp-layout-color0, white);\n  --xr-background-color-row-even: var(--jp-layout-color1, white);\n  --xr-background-color-row-odd: var(--jp-layout-color2, #eeeeee);\n}\n\nhtml[theme=dark],\nbody[data-theme=dark],\nbody.vscode-dark {\n  --xr-font-color0: rgba(255, 255, 255, 1);\n  --xr-font-color2: rgba(255, 255, 255, 0.54);\n  --xr-font-color3: rgba(255, 255, 255, 0.38);\n  --xr-border-color: #1F1F1F;\n  --xr-disabled-color: #515151;\n  --xr-background-color: #111111;\n  --xr-background-color-row-even: #111111;\n  --xr-background-color-row-odd: #313131;\n}\n\n.xr-wrap {\n  display: block !important;\n  min-width: 300px;\n  max-width: 700px;\n}\n\n.xr-text-repr-fallback {\n  /* fallback to plain text repr when CSS is not injected (untrusted notebook) */\n  display: none;\n}\n\n.xr-header {\n  padding-top: 6px;\n  padding-bottom: 6px;\n  margin-bottom: 4px;\n  border-bottom: solid 1px var(--xr-border-color);\n}\n\n.xr-header > div,\n.xr-header > ul {\n  display: inline;\n  margin-top: 0;\n  margin-bottom: 0;\n}\n\n.xr-obj-type,\n.xr-array-name {\n  margin-left: 2px;\n  margin-right: 10px;\n}\n\n.xr-obj-type {\n  color: var(--xr-font-color2);\n}\n\n.xr-sections {\n  padding-left: 0 !important;\n  display: grid;\n  grid-template-columns: 150px auto auto 1fr 20px 20px;\n}\n\n.xr-section-item {\n  display: contents;\n}\n\n.xr-section-item input {\n  display: none;\n}\n\n.xr-section-item input + label {\n  color: var(--xr-disabled-color);\n}\n\n.xr-section-item input:enabled + label {\n  cursor: pointer;\n  color: var(--xr-font-color2);\n}\n\n.xr-section-item input:enabled + label:hover {\n  color: var(--xr-font-color0);\n}\n\n.xr-section-summary {\n  grid-column: 1;\n  color: var(--xr-font-color2);\n  font-weight: 500;\n}\n\n.xr-section-summary > span {\n  display: inline-block;\n  padding-left: 0.5em;\n}\n\n.xr-section-summary-in:disabled + label {\n  color: var(--xr-font-color2);\n}\n\n.xr-section-summary-in + label:before {\n  display: inline-block;\n  content: '►';\n  font-size: 11px;\n  width: 15px;\n  text-align: center;\n}\n\n.xr-section-summary-in:disabled + label:before {\n  color: var(--xr-disabled-color);\n}\n\n.xr-section-summary-in:checked + label:before {\n  content: '▼';\n}\n\n.xr-section-summary-in:checked + label > span {\n  display: none;\n}\n\n.xr-section-summary,\n.xr-section-inline-details {\n  padding-top: 4px;\n  padding-bottom: 4px;\n}\n\n.xr-section-inline-details {\n  grid-column: 2 / -1;\n}\n\n.xr-section-details {\n  display: none;\n  grid-column: 1 / -1;\n  margin-bottom: 5px;\n}\n\n.xr-section-summary-in:checked ~ .xr-section-details {\n  display: contents;\n}\n\n.xr-array-wrap {\n  grid-column: 1 / -1;\n  display: grid;\n  grid-template-columns: 20px auto;\n}\n\n.xr-array-wrap > label {\n  grid-column: 1;\n  vertical-align: top;\n}\n\n.xr-preview {\n  color: var(--xr-font-color3);\n}\n\n.xr-array-preview,\n.xr-array-data {\n  padding: 0 5px !important;\n  grid-column: 2;\n}\n\n.xr-array-data,\n.xr-array-in:checked ~ .xr-array-preview {\n  display: none;\n}\n\n.xr-array-in:checked ~ .xr-array-data,\n.xr-array-preview {\n  display: inline-block;\n}\n\n.xr-dim-list {\n  display: inline-block !important;\n  list-style: none;\n  padding: 0 !important;\n  margin: 0;\n}\n\n.xr-dim-list li {\n  display: inline-block;\n  padding: 0;\n  margin: 0;\n}\n\n.xr-dim-list:before {\n  content: '(';\n}\n\n.xr-dim-list:after {\n  content: ')';\n}\n\n.xr-dim-list li:not(:last-child):after {\n  content: ',';\n  padding-right: 5px;\n}\n\n.xr-has-index {\n  font-weight: bold;\n}\n\n.xr-var-list,\n.xr-var-item {\n  display: contents;\n}\n\n.xr-var-item > div,\n.xr-var-item label,\n.xr-var-item > .xr-var-name span {\n  background-color: var(--xr-background-color-row-even);\n  margin-bottom: 0;\n}\n\n.xr-var-item > .xr-var-name:hover span {\n  padding-right: 5px;\n}\n\n.xr-var-list > li:nth-child(odd) > div,\n.xr-var-list > li:nth-child(odd) > label,\n.xr-var-list > li:nth-child(odd) > .xr-var-name span {\n  background-color: var(--xr-background-color-row-odd);\n}\n\n.xr-var-name {\n  grid-column: 1;\n}\n\n.xr-var-dims {\n  grid-column: 2;\n}\n\n.xr-var-dtype {\n  grid-column: 3;\n  text-align: right;\n  color: var(--xr-font-color2);\n}\n\n.xr-var-preview {\n  grid-column: 4;\n}\n\n.xr-index-preview {\n  grid-column: 2 / 5;\n  color: var(--xr-font-color2);\n}\n\n.xr-var-name,\n.xr-var-dims,\n.xr-var-dtype,\n.xr-preview,\n.xr-attrs dt {\n  white-space: nowrap;\n  overflow: hidden;\n  text-overflow: ellipsis;\n  padding-right: 10px;\n}\n\n.xr-var-name:hover,\n.xr-var-dims:hover,\n.xr-var-dtype:hover,\n.xr-attrs dt:hover {\n  overflow: visible;\n  width: auto;\n  z-index: 1;\n}\n\n.xr-var-attrs,\n.xr-var-data,\n.xr-index-data {\n  display: none;\n  background-color: var(--xr-background-color) !important;\n  padding-bottom: 5px !important;\n}\n\n.xr-var-attrs-in:checked ~ .xr-var-attrs,\n.xr-var-data-in:checked ~ .xr-var-data,\n.xr-index-data-in:checked ~ .xr-index-data {\n  display: block;\n}\n\n.xr-var-data > table {\n  float: right;\n}\n\n.xr-var-name span,\n.xr-var-data,\n.xr-index-name div,\n.xr-index-data,\n.xr-attrs {\n  padding-left: 25px !important;\n}\n\n.xr-attrs,\n.xr-var-attrs,\n.xr-var-data,\n.xr-index-data {\n  grid-column: 1 / -1;\n}\n\ndl.xr-attrs {\n  padding: 0;\n  margin: 0;\n  display: grid;\n  grid-template-columns: 125px auto;\n}\n\n.xr-attrs dt,\n.xr-attrs dd {\n  padding: 0;\n  margin: 0;\n  float: left;\n  padding-right: 10px;\n  width: auto;\n}\n\n.xr-attrs dt {\n  font-weight: normal;\n  grid-column: 1;\n}\n\n.xr-attrs dt:hover span {\n  display: inline-block;\n  background: var(--xr-background-color);\n  padding-right: 10px;\n}\n\n.xr-attrs dd {\n  grid-column: 2;\n  white-space: pre-wrap;\n  word-break: break-all;\n}\n\n.xr-icon-database,\n.xr-icon-file-text2,\n.xr-no-icon {\n  display: inline-block;\n  vertical-align: middle;\n  width: 1em;\n  height: 1.5em !important;\n  stroke-width: 0;\n  stroke: currentColor;\n  fill: currentColor;\n}\n</style><pre class='xr-text-repr-fallback'>&lt;xarray.Dataset&gt;\nDimensions:               (station: 1, time: 9, maintenancetime: 1)\nCoordinates:\n  * station               (station) float64 1.0\n  * time                  (time) datetime64[ns] 2022-08-30T11:21:01 ... 2022-...\n  * maintenancetime       (maintenancetime) datetime64[ns] 2023-05-08T16:09:06\nData variables: (12/20)\n    ghi                   (time, station) float64 280.9 280.9 ... 280.9 280.9\n    gti                   (time, station) float64 289.0 289.0 ... 288.6 289.0\n    ta                    (time, station) float64 294.8 294.7 ... 294.7 294.8\n    rh                    (time, station) float64 0.6253 0.6248 ... 0.628 0.6253\n    battery_voltage       (time, station) float64 6.443 6.445 ... 6.449 6.443\n    ghi_min               (time, station) float64 280.9 280.9 ... 280.9 280.9\n    ...                    ...\n    qc_flag_gti           (time, station) uint8 0 0 0 0 0 0 0 0 0\n    lat                   (station) float64 51.39\n    lon                   (station) float64 11.89\n    esd                   (station) float64 1.01\n    maintenance_flag_ghi  (maintenancetime, station) float64 9.0\n    maintenance_flag_gti  (maintenancetime, station) float64 7.0\nAttributes: (12/32)\n    Conventions:               CF-1.10, ACDD-1.3\n    title:                     TROPOS pyranometer network (PyrNet) observatio...\n    history:                   2024-02-27T06:51:38: Merged level l1b by pyrne...\n    institution:               Leibniz Institute for Tropospheric Research (T...\n    source:                    TROPOS pyranometer network (PyrNet)\n    references:                https://doi.org/10.5194/amt-9-1153-2016\n    ...                        ...\n    geospatial_lon_units:      degE\n    time_coverage_start:       2022-08-30T11:21:01\n    time_coverage_end:         2022-08-30T11:21:09\n    time_coverage_duration:    P0DT0H0M8S\n    time_coverage_resolution:  P0DT0H0M1S\n    site:                      [&#x27;testsite1&#x27;, &#x27;testsite2&#x27;]</pre><div class='xr-wrap' style='display:none'><div class='xr-header'><div class='xr-obj-type'>xarray.Dataset</div></div><ul class='xr-sections'><li class='xr-section-item'><input id='section-62f7038b-4731-4000-a978-7c2d9aac31aa' class='xr-section-summary-in' type='checkbox' disabled ><label for='section-62f7038b-4731-4000-a978-7c2d9aac31aa' class='xr-section-summary'  title='Expand/collapse section'>Dimensions:</label><div class='xr-section-inline-details'><ul class='xr-dim-list'><li><span class='xr-has-index'>station</span>: 1</li><li><span class='xr-has-index'>time</span>: 9</li><li><span class='xr-has-index'>maintenancetime</span>: 1</li></ul></div><div class='xr-section-details'></div></li><li class='xr-section-item'><input id='section-feecaff6-4a0f-49d3-a36a-9299ee4a719c' class='xr-section-summary-in' type='checkbox'  checked><label for='section-feecaff6-4a0f-49d3-a36a-9299ee4a719c' class='xr-section-summary' >Coordinates: <span>(3)</span></label><div class='xr-section-inline-details'></div><div class='xr-section-details'><ul class='xr-var-list'><li class='xr-var-item'><div class='xr-var-name'><span class='xr-has-index'>station</span></div><div class='xr-var-dims'>(station)</div><div class='xr-var-dtype'>float64</div><div class='xr-var-preview xr-preview'>1.0</div><input id='attrs-8fa5a2d2-0d39-4184-b0e9-9dfb6ae37b75' class='xr-var-attrs-in' type='checkbox' ><label for='attrs-8fa5a2d2-0d39-4184-b0e9-9dfb6ae37b75' title='Show/Hide attributes'><svg class='icon xr-icon-file-text2'><use xlink:href='#icon-file-text2'></use></svg></label><input id='data-bfbd40bf-220e-4240-af42-5d293f3120f4' class='xr-var-data-in' type='checkbox'><label for='data-bfbd40bf-220e-4240-af42-5d293f3120f4' title='Show/Hide data repr'><svg class='icon xr-icon-database'><use xlink:href='#icon-database'></use></svg></label><div class='xr-var-attrs'><dl class='xr-attrs'><dt><span>units :</span></dt><dd>-</dd><dt><span>long_name :</span></dt><dd>PyrNet unit box number</dd></dl></div><div class='xr-var-data'><pre>array([1.])</pre></div></li><li class='xr-var-item'><div class='xr-var-name'><span class='xr-has-index'>time</span></div><div class='xr-var-dims'>(time)</div><div class='xr-var-dtype'>datetime64[ns]</div><div class='xr-var-preview xr-preview'>2022-08-30T11:21:01 ... 2022-08-...</div><input id='attrs-8c23aff3-89ce-482a-83a1-232841dfbf77' class='xr-var-attrs-in' type='checkbox' disabled><label for='attrs-8c23aff3-89ce-482a-83a1-232841dfbf77' title='Show/Hide attributes'><svg class='icon xr-icon-file-text2'><use xlink:href='#icon-file-text2'></use></svg></label><input id='data-093ef661-dcf5-489d-a7ec-31b1439242cb' class='xr-var-data-in' type='checkbox'><label for='data-093ef661-dcf5-489d-a7ec-31b1439242cb' title='Show/Hide data repr'><svg class='icon xr-icon-database'><use xlink:href='#icon-database'></use></svg></label><div class='xr-var-attrs'><dl class='xr-attrs'></dl></div><div class='xr-var-data'><pre>array([&#x27;2022-08-30T11:21:01.000000000&#x27;, &#x27;2022-08-30T11:21:02.000000000&#x27;,\n       &#x27;2022-08-30T11:21:03.000000000&#x27;, &#x27;2022-08-30T11:21:04.000000000&#x27;,\n       &#x27;2022-08-30T11:21:05.000000000&#x27;, &#x27;2022-08-30T11:21:06.000000000&#x27;,\n       &#x27;2022-08-30T11:21:07.000000000&#x27;, &#x27;2022-08-30T11:21:08.000000000&#x27;,\n       &#x27;2022-08-30T11:21:09.000000000&#x27;], dtype=&#x27;datetime64[ns]&#x27;)</pre></div></li><li class='xr-var-item'><div class='xr-var-name'><span class='xr-has-index'>maintenancetime</span></div><div class='xr-var-dims'>(maintenancetime)</div><div class='xr-var-dtype'>datetime64[ns]</div><div class='xr-var-preview xr-preview'>2023-05-08T16:09:06</div><input id='attrs-95334c82-fdc5-41d5-a1c0-417858199660' class='xr-var-attrs-in' type='checkbox' disabled><label for='attrs-95334c82-fdc5-41d5-a1c0-417858199660' title='Show/Hide attributes'><svg class='icon xr-icon-file-text2'><use xlink:href='#icon-file-text2'></use></svg></label><input id='data-ea63f033-330d-485c-bafd-288dea29817a' class='xr-var-data-in' type='checkbox'><label for='data-ea63f033-330d-485c-bafd-288dea29817a' title='Show/Hide data repr'><svg class='icon xr-icon-database'><use xlink:href='#icon-database'></use></svg></label><div class='xr-var-attrs'><dl class='xr-attrs'></dl></div><div class='xr-var-data'><pre>array([&#x27;2023-05-08T16:09:06.000000000&#x27;], dtype=&#x27;datetime64[ns]&#x27;)</pre></div></li></ul></div></li><li class='xr-section-item'><input id='section-7cfd5f0a-6dbc-4d1e-8c92-bd98f30543e3' class='xr-section-summary-in' type='checkbox'  ><label for='section-7cfd5f0a-6dbc-4d1e-8c92-bd98f30543e3' class='xr-section-summary' >Data variables: <span>(20)</span></label><div class='xr-section-inline-details'></div><div class='xr-section-details'><ul class='xr-var-list'><li class='xr-var-item'><div class='xr-var-name'><span>ghi</span></div><div class='xr-var-dims'>(time, station)</div><div class='xr-var-dtype'>float64</div><div class='xr-var-preview xr-preview'>280.9 280.9 280.9 ... 280.9 280.9</div><input id='attrs-3de04d83-9df1-4954-b6ec-91413bdec019' class='xr-var-attrs-in' type='checkbox' ><label for='attrs-3de04d83-9df1-4954-b6ec-91413bdec019' title='Show/Hide attributes'><svg class='icon xr-icon-file-text2'><use xlink:href='#icon-file-text2'></use></svg></label><input id='data-b0158497-e6d9-43fe-b78a-f58cc6231ef6' class='xr-var-data-in' type='checkbox'><label for='data-b0158497-e6d9-43fe-b78a-f58cc6231ef6' title='Show/Hide data repr'><svg class='icon xr-icon-database'><use xlink:href='#icon-database'></use></svg></label><div class='xr-var-attrs'><dl class='xr-attrs'><dt><span>units :</span></dt><dd>W m-2</dd><dt><span>long_name :</span></dt><dd>downwelling shortwave flux</dd><dt><span>standard_name :</span></dt><dd>downwelling_shortwave_flux_in_air</dd><dt><span>valid_range :</span></dt><dd>[0, 60000]</dd><dt><span>serial :</span></dt><dd>[&#x27;S12128.001&#x27;, &#x27;test_ghi_ds3&#x27;]</dd><dt><span>calibration_Cabsolute :</span></dt><dd>[129366.10608020698, 129366.10608020698]</dd><dt><span>calibration_Ccoscorr :</span></dt><dd>1.45 - 3.04·x¹ + 5.59·x² - 3.01·x³</dd><dt><span>calibration_function :</span></dt><dd>flux (W m-2) = flux (V) * Cabsolute (W m-2 V-1) * Ccoscorr(mua)</dd></dl></div><div class='xr-var-data'><pre>array([[280.90513748],\n       [280.90501036],\n       [280.90488297],\n       [280.75996672],\n       [280.90462742],\n       [280.90449925],\n       [280.75958242],\n       [280.90424214],\n       [280.90513748]])</pre></div></li><li class='xr-var-item'><div class='xr-var-name'><span>gti</span></div><div class='xr-var-dims'>(time, station)</div><div class='xr-var-dtype'>float64</div><div class='xr-var-preview xr-preview'>289.0 289.0 288.6 ... 288.6 289.0</div><input id='attrs-317a6a1f-6df2-437e-abb8-830c47bff3a2' class='xr-var-attrs-in' type='checkbox' ><label for='attrs-317a6a1f-6df2-437e-abb8-830c47bff3a2' title='Show/Hide attributes'><svg class='icon xr-icon-file-text2'><use xlink:href='#icon-file-text2'></use></svg></label><input id='data-857b406e-46da-44c5-ad84-6cb07f276350' class='xr-var-data-in' type='checkbox'><label for='data-857b406e-46da-44c5-ad84-6cb07f276350' title='Show/Hide data repr'><svg class='icon xr-icon-database'><use xlink:href='#icon-database'></use></svg></label><div class='xr-var-attrs'><dl class='xr-attrs'><dt><span>units :</span></dt><dd>W m-2</dd><dt><span>long_name :</span></dt><dd>downwelling shortwave flux measured on secondary platform, might be tilted</dd><dt><span>standard_name :</span></dt><dd>downwelling_shortwave_flux_in_air</dd><dt><span>valid_range :</span></dt><dd>[0, 60000]</dd><dt><span>hangle :</span></dt><dd>[0.0, 0.0]</dd><dt><span>vangle :</span></dt><dd>[0.0, 0.0]</dd><dt><span>serial :</span></dt><dd>[&#x27;S12137.049&#x27;, &#x27;test_gti_ds3&#x27;]</dd><dt><span>calibration_Cabsolute :</span></dt><dd>[143266.47564469912, 143266.47564469912]</dd><dt><span>calibration_Ccoscorr :</span></dt><dd>1.45 - 3.04·x¹ + 5.59·x² - 3.01·x³</dd><dt><span>calibration_function :</span></dt><dd>flux (W m-2) = flux (V) * Cabsolute (W m-2 V-1) * Ccoscorr(mua)</dd></dl></div><div class='xr-var-data'><pre>array([[288.95941377],\n       [288.959283  ],\n       [288.63842485],\n       [288.63829369],\n       [288.79852567],\n       [288.63803057],\n       [288.31717208],\n       [288.63776637],\n       [288.95941377]])</pre></div></li><li class='xr-var-item'><div class='xr-var-name'><span>ta</span></div><div class='xr-var-dims'>(time, station)</div><div class='xr-var-dtype'>float64</div><div class='xr-var-preview xr-preview'>294.8 294.7 294.8 ... 294.7 294.8</div><input id='attrs-5d0a4bf5-0778-4c4a-9188-ba81698764ca' class='xr-var-attrs-in' type='checkbox' ><label for='attrs-5d0a4bf5-0778-4c4a-9188-ba81698764ca' title='Show/Hide attributes'><svg class='icon xr-icon-file-text2'><use xlink:href='#icon-file-text2'></use></svg></label><input id='data-0a29b1d7-5136-466c-b48b-8c95a5850311' class='xr-var-data-in' type='checkbox'><label for='data-0a29b1d7-5136-466c-b48b-8c95a5850311' title='Show/Hide data repr'><svg class='icon xr-icon-database'><use xlink:href='#icon-database'></use></svg></label><div class='xr-var-attrs'><dl class='xr-attrs'><dt><span>units :</span></dt><dd>K</dd><dt><span>long_name :</span></dt><dd>air temperature</dd><dt><span>standard_name :</span></dt><dd>air_temperature</dd><dt><span>valid_range :</span></dt><dd>[0, 10000]</dd></dl></div><div class='xr-var-data'><pre>array([[294.80160522],\n       [294.73709106],\n       [294.77008057],\n       [294.74996948],\n       [294.78869629],\n       [294.74996948],\n       [294.81451416],\n       [294.72705078],\n       [294.80160522]])</pre></div></li><li class='xr-var-item'><div class='xr-var-name'><span>rh</span></div><div class='xr-var-dims'>(time, station)</div><div class='xr-var-dtype'>float64</div><div class='xr-var-preview xr-preview'>0.6253 0.6248 ... 0.628 0.6253</div><input id='attrs-f03005a1-ae92-4480-a40a-5df5f68b533c' class='xr-var-attrs-in' type='checkbox' ><label for='attrs-f03005a1-ae92-4480-a40a-5df5f68b533c' title='Show/Hide attributes'><svg class='icon xr-icon-file-text2'><use xlink:href='#icon-file-text2'></use></svg></label><input id='data-d99cb0c8-7787-4f80-8130-7148eb7cbdd3' class='xr-var-data-in' type='checkbox'><label for='data-d99cb0c8-7787-4f80-8130-7148eb7cbdd3' title='Show/Hide data repr'><svg class='icon xr-icon-database'><use xlink:href='#icon-database'></use></svg></label><div class='xr-var-attrs'><dl class='xr-attrs'><dt><span>units :</span></dt><dd>1</dd><dt><span>long_name :</span></dt><dd>air relative humidity</dd><dt><span>standard_name :</span></dt><dd>relative_humidity</dd><dt><span>valid_range :</span></dt><dd>[0, 10000]</dd></dl></div><div class='xr-var-data'><pre>array([[0.62529027],\n       [0.62477416],\n       [0.6259498 ],\n       [0.6265806 ],\n       [0.62709677],\n       [0.62709677],\n       [0.62864512],\n       [0.62795699],\n       [0.62529027]])</pre></div></li><li class='xr-var-item'><div class='xr-var-name'><span>battery_voltage</span></div><div class='xr-var-dims'>(time, station)</div><div class='xr-var-dtype'>float64</div><div class='xr-var-preview xr-preview'>6.443 6.445 6.444 ... 6.449 6.443</div><input id='attrs-9cd3264e-a37b-4310-bb4a-851ca9ef3d18' class='xr-var-attrs-in' type='checkbox' ><label for='attrs-9cd3264e-a37b-4310-bb4a-851ca9ef3d18' title='Show/Hide attributes'><svg class='icon xr-icon-file-text2'><use xlink:href='#icon-file-text2'></use></svg></label><input id='data-9b6afa1e-109c-4ff3-bd63-b2aa9585b88c' class='xr-var-data-in' type='checkbox'><label for='data-9b6afa1e-109c-4ff3-bd63-b2aa9585b88c' title='Show/Hide data repr'><svg class='icon xr-icon-database'><use xlink:href='#icon-database'></use></svg></label><div class='xr-var-attrs'><dl class='xr-attrs'><dt><span>units :</span></dt><dd>V</dd><dt><span>standard_name :</span></dt><dd>battery_voltage</dd><dt><span>valid_range :</span></dt><dd>[0, 6400]</dd></dl></div><div class='xr-var-data'><pre>array([[6.44258022],\n       [6.44516134],\n       [6.44372749],\n       [6.44580698],\n       [6.44967747],\n       [6.44774151],\n       [6.44645166],\n       [6.44946241],\n       [6.44258022]])</pre></div></li><li class='xr-var-item'><div class='xr-var-name'><span>ghi_min</span></div><div class='xr-var-dims'>(time, station)</div><div class='xr-var-dtype'>float64</div><div class='xr-var-preview xr-preview'>280.9 280.9 280.9 ... 280.9 280.9</div><input id='attrs-17e05dba-f7bf-4e99-a62e-ad2130bb94c6' class='xr-var-attrs-in' type='checkbox' ><label for='attrs-17e05dba-f7bf-4e99-a62e-ad2130bb94c6' title='Show/Hide attributes'><svg class='icon xr-icon-file-text2'><use xlink:href='#icon-file-text2'></use></svg></label><input id='data-e58a3c1f-6289-4f7a-af0b-efad38b3a7c2' class='xr-var-data-in' type='checkbox'><label for='data-e58a3c1f-6289-4f7a-af0b-efad38b3a7c2' title='Show/Hide data repr'><svg class='icon xr-icon-database'><use xlink:href='#icon-database'></use></svg></label><div class='xr-var-attrs'><dl class='xr-attrs'><dt><span>units :</span></dt><dd>W m-2</dd><dt><span>long_name :</span></dt><dd>downwelling shortwave flux</dd><dt><span>standard_name :</span></dt><dd>min_downwelling_shortwave_flux_in_air</dd><dt><span>valid_range :</span></dt><dd>[0, 60000]</dd><dt><span>serial :</span></dt><dd>[&#x27;S12128.001&#x27;, &#x27;test_ghi_ds3&#x27;]</dd><dt><span>calibration_Cabsolute :</span></dt><dd>[129366.10608020698, 129366.10608020698]</dd><dt><span>calibration_Ccoscorr :</span></dt><dd>1.45 - 3.04·x¹ + 5.59·x² - 3.01·x³</dd><dt><span>calibration_function :</span></dt><dd>flux (W m-2) = flux (V) * Cabsolute (W m-2 V-1) * Ccoscorr(mua)</dd></dl></div><div class='xr-var-data'><pre>array([[280.90513748],\n       [280.90501036],\n       [280.90488297],\n       [279.45680657],\n       [280.90462742],\n       [280.90449925],\n       [279.45642405],\n       [280.90424214],\n       [280.90513748]])</pre></div></li><li class='xr-var-item'><div class='xr-var-name'><span>gti_min</span></div><div class='xr-var-dims'>(time, station)</div><div class='xr-var-dtype'>float64</div><div class='xr-var-preview xr-preview'>288.6 288.6 288.6 ... 288.6 288.6</div><input id='attrs-4f6dd124-e659-483f-af34-da6b6877f3ad' class='xr-var-attrs-in' type='checkbox' ><label for='attrs-4f6dd124-e659-483f-af34-da6b6877f3ad' title='Show/Hide attributes'><svg class='icon xr-icon-file-text2'><use xlink:href='#icon-file-text2'></use></svg></label><input id='data-e5f9beb5-cec7-404d-8335-4af7829183e3' class='xr-var-data-in' type='checkbox'><label for='data-e5f9beb5-cec7-404d-8335-4af7829183e3' title='Show/Hide data repr'><svg class='icon xr-icon-database'><use xlink:href='#icon-database'></use></svg></label><div class='xr-var-attrs'><dl class='xr-attrs'><dt><span>units :</span></dt><dd>W m-2</dd><dt><span>long_name :</span></dt><dd>downwelling shortwave flux measured on secondary platform, might be tilted</dd><dt><span>standard_name :</span></dt><dd>min_downwelling_shortwave_flux_in_air</dd><dt><span>valid_range :</span></dt><dd>[0, 60000]</dd><dt><span>hangle :</span></dt><dd>[0.0, 0.0]</dd><dt><span>vangle :</span></dt><dd>[0.0, 0.0]</dd><dt><span>serial :</span></dt><dd>[&#x27;S12137.049&#x27;, &#x27;test_gti_ds3&#x27;]</dd><dt><span>calibration_Cabsolute :</span></dt><dd>[143266.47564469912, 143266.47564469912]</dd><dt><span>calibration_Ccoscorr :</span></dt><dd>1.45 - 3.04·x¹ + 5.59·x² - 3.01·x³</dd><dt><span>calibration_function :</span></dt><dd>flux (W m-2) = flux (V) * Cabsolute (W m-2 V-1) * Ccoscorr(mua)</dd></dl></div><div class='xr-var-data'><pre>array([[288.63868637],\n       [288.63855575],\n       [288.63842485],\n       [287.03474569],\n       [287.03461499],\n       [288.63803057],\n       [287.0343528 ],\n       [288.63776637],\n       [288.63868637]])</pre></div></li><li class='xr-var-item'><div class='xr-var-name'><span>ghi_max</span></div><div class='xr-var-dims'>(time, station)</div><div class='xr-var-dtype'>float64</div><div class='xr-var-preview xr-preview'>280.9 280.9 280.9 ... 280.9 280.9</div><input id='attrs-8e61742d-5cca-47b3-85fd-f0e9a36d60bc' class='xr-var-attrs-in' type='checkbox' ><label for='attrs-8e61742d-5cca-47b3-85fd-f0e9a36d60bc' title='Show/Hide attributes'><svg class='icon xr-icon-file-text2'><use xlink:href='#icon-file-text2'></use></svg></label><input id='data-e84bcaf0-4ab7-41dd-93ba-2d33051c23fa' class='xr-var-data-in' type='checkbox'><label for='data-e84bcaf0-4ab7-41dd-93ba-2d33051c23fa' title='Show/Hide data repr'><svg class='icon xr-icon-database'><use xlink:href='#icon-database'></use></svg></label><div class='xr-var-attrs'><dl class='xr-attrs'><dt><span>units :</span></dt><dd>W m-2</dd><dt><span>long_name :</span></dt><dd>downwelling shortwave flux</dd><dt><span>standard_name :</span></dt><dd>max_downwelling_shortwave_flux_in_air</dd><dt><span>valid_range :</span></dt><dd>[0, 60000]</dd><dt><span>serial :</span></dt><dd>[&#x27;S12128.001&#x27;, &#x27;test_ghi_ds3&#x27;]</dd><dt><span>calibration_Cabsolute :</span></dt><dd>[129366.10608020698, 129366.10608020698]</dd><dt><span>calibration_Ccoscorr :</span></dt><dd>1.45 - 3.04·x¹ + 5.59·x² - 3.01·x³</dd><dt><span>calibration_function :</span></dt><dd>flux (W m-2) = flux (V) * Cabsolute (W m-2 V-1) * Ccoscorr(mua)</dd></dl></div><div class='xr-var-data'><pre>array([[280.90513748],\n       [280.90501036],\n       [280.90488297],\n       [280.90475533],\n       [280.90462742],\n       [280.90449925],\n       [280.90437082],\n       [280.90424214],\n       [280.90513748]])</pre></div></li><li class='xr-var-item'><div class='xr-var-name'><span>gti_max</span></div><div class='xr-var-dims'>(time, station)</div><div class='xr-var-dtype'>float64</div><div class='xr-var-preview xr-preview'>290.2 290.2 288.6 ... 288.6 290.2</div><input id='attrs-0f2af2d5-1b53-4a3a-a8ad-ac8f4dd88514' class='xr-var-attrs-in' type='checkbox' ><label for='attrs-0f2af2d5-1b53-4a3a-a8ad-ac8f4dd88514' title='Show/Hide attributes'><svg class='icon xr-icon-file-text2'><use xlink:href='#icon-file-text2'></use></svg></label><input id='data-6af7b7ac-8e42-4cfd-b402-792b6a984661' class='xr-var-data-in' type='checkbox'><label for='data-6af7b7ac-8e42-4cfd-b402-792b6a984661' title='Show/Hide data repr'><svg class='icon xr-icon-database'><use xlink:href='#icon-database'></use></svg></label><div class='xr-var-attrs'><dl class='xr-attrs'><dt><span>units :</span></dt><dd>W m-2</dd><dt><span>long_name :</span></dt><dd>downwelling shortwave flux measured on secondary platform, might be tilted</dd><dt><span>standard_name :</span></dt><dd>max_downwelling_shortwave_flux_in_air</dd><dt><span>valid_range :</span></dt><dd>[0, 60000]</dd><dt><span>hangle :</span></dt><dd>[0.0, 0.0]</dd><dt><span>vangle :</span></dt><dd>[0.0, 0.0]</dd><dt><span>serial :</span></dt><dd>[&#x27;S12137.049&#x27;, &#x27;test_gti_ds3&#x27;]</dd><dt><span>calibration_Cabsolute :</span></dt><dd>[143266.47564469912, 143266.47564469912]</dd><dt><span>calibration_Ccoscorr :</span></dt><dd>1.45 - 3.04·x¹ + 5.59·x² - 3.01·x³</dd><dt><span>calibration_function :</span></dt><dd>flux (W m-2) = flux (V) * Cabsolute (W m-2 V-1) * Ccoscorr(mua)</dd></dl></div><div class='xr-var-data'><pre>array([[290.24223656],\n       [290.24210521],\n       [288.63842485],\n       [290.2418417 ],\n       [290.24170954],\n       [288.63803057],\n       [288.63789861],\n       [288.63776637],\n       [290.24223656]])</pre></div></li><li class='xr-var-item'><div class='xr-var-name'><span>ghi_std</span></div><div class='xr-var-dims'>(time, station)</div><div class='xr-var-dtype'>float64</div><div class='xr-var-preview xr-preview'>0.0 0.0 0.0 ... 0.4579 0.0 0.0</div><input id='attrs-96546d29-8918-49b3-a09c-a64ce1bfcd5d' class='xr-var-attrs-in' type='checkbox' ><label for='attrs-96546d29-8918-49b3-a09c-a64ce1bfcd5d' title='Show/Hide attributes'><svg class='icon xr-icon-file-text2'><use xlink:href='#icon-file-text2'></use></svg></label><input id='data-8ab69a04-fbf1-440d-b7b6-c49f7aebf09d' class='xr-var-data-in' type='checkbox'><label for='data-8ab69a04-fbf1-440d-b7b6-c49f7aebf09d' title='Show/Hide data repr'><svg class='icon xr-icon-database'><use xlink:href='#icon-database'></use></svg></label><div class='xr-var-attrs'><dl class='xr-attrs'><dt><span>units :</span></dt><dd>W m-2</dd><dt><span>long_name :</span></dt><dd>downwelling shortwave flux</dd><dt><span>standard_name :</span></dt><dd>std_downwelling_shortwave_flux_in_air</dd><dt><span>valid_range :</span></dt><dd>[0, 60000]</dd><dt><span>serial :</span></dt><dd>[&#x27;S12128.001&#x27;, &#x27;test_ghi_ds3&#x27;]</dd><dt><span>calibration_Cabsolute :</span></dt><dd>[129366.10608020698, 129366.10608020698]</dd><dt><span>calibration_Ccoscorr :</span></dt><dd>1.45 - 3.04·x¹ + 5.59·x² - 3.01·x³</dd><dt><span>calibration_function :</span></dt><dd>flux (W m-2) = flux (V) * Cabsolute (W m-2 V-1) * Ccoscorr(mua)</dd></dl></div><div class='xr-var-data'><pre>array([[0.        ],\n       [0.        ],\n       [0.        ],\n       [0.4578816 ],\n       [0.        ],\n       [0.        ],\n       [0.45788097],\n       [0.        ],\n       [0.        ]])</pre></div></li><li class='xr-var-item'><div class='xr-var-name'><span>gti_std</span></div><div class='xr-var-dims'>(time, station)</div><div class='xr-var-dtype'>float64</div><div class='xr-var-preview xr-preview'>0.7171 0.6761 0.0 ... 0.0 0.7171</div><input id='attrs-11a1c586-5749-43b9-a7ab-197e206ea899' class='xr-var-attrs-in' type='checkbox' ><label for='attrs-11a1c586-5749-43b9-a7ab-197e206ea899' title='Show/Hide attributes'><svg class='icon xr-icon-file-text2'><use xlink:href='#icon-file-text2'></use></svg></label><input id='data-fd8bbd4c-58da-4614-91b6-d9ef6dcba0ae' class='xr-var-data-in' type='checkbox'><label for='data-fd8bbd4c-58da-4614-91b6-d9ef6dcba0ae' title='Show/Hide data repr'><svg class='icon xr-icon-database'><use xlink:href='#icon-database'></use></svg></label><div class='xr-var-attrs'><dl class='xr-attrs'><dt><span>units :</span></dt><dd>W m-2</dd><dt><span>long_name :</span></dt><dd>downwelling shortwave flux measured on secondary platform, might be tilted</dd><dt><span>standard_name :</span></dt><dd>std_downwelling_shortwave_flux_in_air</dd><dt><span>valid_range :</span></dt><dd>[0, 60000]</dd><dt><span>hangle :</span></dt><dd>[0.0, 0.0]</dd><dt><span>vangle :</span></dt><dd>[0.0, 0.0]</dd><dt><span>serial :</span></dt><dd>[&#x27;S12137.049&#x27;, &#x27;test_gti_ds3&#x27;]</dd><dt><span>calibration_Cabsolute :</span></dt><dd>[143266.47564469912, 143266.47564469912]</dd><dt><span>calibration_Ccoscorr :</span></dt><dd>1.45 - 3.04·x¹ + 5.59·x² - 3.01·x³</dd><dt><span>calibration_function :</span></dt><dd>flux (W m-2) = flux (V) * Cabsolute (W m-2 V-1) * Ccoscorr(mua)</dd></dl></div><div class='xr-var-data'><pre>array([[0.71712944],\n       [0.67611582],\n       [0.        ],\n       [0.75591978],\n       [0.91024754],\n       [0.        ],\n       [0.67611428],\n       [0.        ],\n       [0.71712944]])</pre></div></li><li class='xr-var-item'><div class='xr-var-name'><span>szen</span></div><div class='xr-var-dims'>(time, station)</div><div class='xr-var-dtype'>float64</div><div class='xr-var-preview xr-preview'>42.51 42.51 42.51 ... 42.51 42.51</div><input id='attrs-54de30ba-c4f9-49c7-a55f-f0eda8211e8a' class='xr-var-attrs-in' type='checkbox' ><label for='attrs-54de30ba-c4f9-49c7-a55f-f0eda8211e8a' title='Show/Hide attributes'><svg class='icon xr-icon-file-text2'><use xlink:href='#icon-file-text2'></use></svg></label><input id='data-79d68784-4d5f-4878-9f86-307190b7ce6c' class='xr-var-data-in' type='checkbox'><label for='data-79d68784-4d5f-4878-9f86-307190b7ce6c' title='Show/Hide data repr'><svg class='icon xr-icon-database'><use xlink:href='#icon-database'></use></svg></label><div class='xr-var-attrs'><dl class='xr-attrs'><dt><span>standard_name :</span></dt><dd>solar_zenith_angle</dd><dt><span>units :</span></dt><dd>degree</dd><dt><span>valid_range :</span></dt><dd>[0, 36000]</dd></dl></div><div class='xr-var-data'><pre>array([[42.51131378],\n       [42.51144939],\n       [42.51158528],\n       [42.51172144],\n       [42.51185788],\n       [42.5119946 ],\n       [42.51213159],\n       [42.51226886],\n       [42.51131378]])</pre></div></li><li class='xr-var-item'><div class='xr-var-name'><span>sazi</span></div><div class='xr-var-dims'>(time, station)</div><div class='xr-var-dtype'>float64</div><div class='xr-var-preview xr-preview'>182.9 182.9 182.9 ... 182.9 182.9</div><input id='attrs-7f4a9800-ab5c-49eb-8d41-aaefe65ef5f5' class='xr-var-attrs-in' type='checkbox' ><label for='attrs-7f4a9800-ab5c-49eb-8d41-aaefe65ef5f5' title='Show/Hide attributes'><svg class='icon xr-icon-file-text2'><use xlink:href='#icon-file-text2'></use></svg></label><input id='data-29097070-f97a-42ea-8cef-bcb464a21d83' class='xr-var-data-in' type='checkbox'><label for='data-29097070-f97a-42ea-8cef-bcb464a21d83' title='Show/Hide data repr'><svg class='icon xr-icon-database'><use xlink:href='#icon-database'></use></svg></label><div class='xr-var-attrs'><dl class='xr-attrs'><dt><span>standard_name :</span></dt><dd>solar_azimuth_angle</dd><dt><span>units :</span></dt><dd>degree</dd><dt><span>valid_range :</span></dt><dd>[0, 36000]</dd></dl></div><div class='xr-var-data'><pre>array([[182.89457117],\n       [182.90066087],\n       [182.90675054],\n       [182.91284018],\n       [182.91892979],\n       [182.92501938],\n       [182.93110893],\n       [182.93719846],\n       [182.89457117]])</pre></div></li><li class='xr-var-item'><div class='xr-var-name'><span>qc_flag_ghi</span></div><div class='xr-var-dims'>(time, station)</div><div class='xr-var-dtype'>uint8</div><div class='xr-var-preview xr-preview'>0 0 0 0 0 0 0 0 0</div><input id='attrs-96451a51-4c1b-4fb8-9a2b-d20082733723' class='xr-var-attrs-in' type='checkbox' ><label for='attrs-96451a51-4c1b-4fb8-9a2b-d20082733723' title='Show/Hide attributes'><svg class='icon xr-icon-file-text2'><use xlink:href='#icon-file-text2'></use></svg></label><input id='data-ddd60afd-37f2-4f9c-9d93-3ceabd85e4b1' class='xr-var-data-in' type='checkbox'><label for='data-ddd60afd-37f2-4f9c-9d93-3ceabd85e4b1' title='Show/Hide data repr'><svg class='icon xr-icon-database'><use xlink:href='#icon-database'></use></svg></label><div class='xr-var-attrs'><dl class='xr-attrs'><dt><span>standard_name :</span></dt><dd>quality_flag</dd><dt><span>valid_range :</span></dt><dd>[0, 127]</dd><dt><span>serial :</span></dt><dd>[&#x27;S12128.001&#x27;, &#x27;test_ghi_ds3&#x27;]</dd><dt><span>calibration_Cabsolute :</span></dt><dd>[129366.10608020698, 129366.10608020698]</dd><dt><span>calibration_Ccoscorr :</span></dt><dd>1.45 - 3.04·x¹ + 5.59·x² - 3.01·x³</dd><dt><span>calibration_function :</span></dt><dd>flux (W m-2) = flux (V) * Cabsolute (W m-2 V-1) * Ccoscorr(mua)</dd><dt><span>ancillary_variables :</span></dt><dd>ghi</dd><dt><span>flag_masks :</span></dt><dd>[1, 2, 4, 8, 16, 32, 64]</dd><dt><span>flag_values :</span></dt><dd>[1, 2, 4, 8, 16, 32, 64]</dd><dt><span>flag_meanings :</span></dt><dd>below_physical_limit above_physical_limit below_rare_limit above_rare_limit comparison_to_low comparison_to_high quality_control_failed</dd></dl></div><div class='xr-var-data'><pre>array([[0],\n       [0],\n       [0],\n       [0],\n       [0],\n       [0],\n       [0],\n       [0],\n       [0]], dtype=uint8)</pre></div></li><li class='xr-var-item'><div class='xr-var-name'><span>qc_flag_gti</span></div><div class='xr-var-dims'>(time, station)</div><div class='xr-var-dtype'>uint8</div><div class='xr-var-preview xr-preview'>0 0 0 0 0 0 0 0 0</div><input id='attrs-faa3b76a-b63a-4a00-b821-27e61aad6e09' class='xr-var-attrs-in' type='checkbox' ><label for='attrs-faa3b76a-b63a-4a00-b821-27e61aad6e09' title='Show/Hide attributes'><svg class='icon xr-icon-file-text2'><use xlink:href='#icon-file-text2'></use></svg></label><input id='data-da6c305b-b9e9-4606-a906-9f2b68142bdf' class='xr-var-data-in' type='checkbox'><label for='data-da6c305b-b9e9-4606-a906-9f2b68142bdf' title='Show/Hide data repr'><svg class='icon xr-icon-database'><use xlink:href='#icon-database'></use></svg></label><div class='xr-var-attrs'><dl class='xr-attrs'><dt><span>standard_name :</span></dt><dd>quality_flag</dd><dt><span>valid_range :</span></dt><dd>[0, 127]</dd><dt><span>hangle :</span></dt><dd>[0.0, 0.0]</dd><dt><span>vangle :</span></dt><dd>[0.0, 0.0]</dd><dt><span>serial :</span></dt><dd>[&#x27;S12137.049&#x27;, &#x27;test_gti_ds3&#x27;]</dd><dt><span>calibration_Cabsolute :</span></dt><dd>[143266.47564469912, 143266.47564469912]</dd><dt><span>calibration_Ccoscorr :</span></dt><dd>1.45 - 3.04·x¹ + 5.59·x² - 3.01·x³</dd><dt><span>calibration_function :</span></dt><dd>flux (W m-2) = flux (V) * Cabsolute (W m-2 V-1) * Ccoscorr(mua)</dd><dt><span>ancillary_variables :</span></dt><dd>gti</dd><dt><span>flag_masks :</span></dt><dd>[1, 2, 4, 8, 16, 32, 64]</dd><dt><span>flag_values :</span></dt><dd>[1, 2, 4, 8, 16, 32, 64]</dd><dt><span>flag_meanings :</span></dt><dd>below_physical_limit above_physical_limit below_rare_limit above_rare_limit comparison_to_low comparison_to_high quality_control_failed</dd></dl></div><div class='xr-var-data'><pre>array([[0],\n       [0],\n       [0],\n       [0],\n       [0],\n       [0],\n       [0],\n       [0],\n       [0]], dtype=uint8)</pre></div></li><li class='xr-var-item'><div class='xr-var-name'><span>lat</span></div><div class='xr-var-dims'>(station)</div><div class='xr-var-dtype'>float64</div><div class='xr-var-preview xr-preview'>51.39</div><input id='attrs-33de0958-b86c-41e2-b8bd-7d83726405ff' class='xr-var-attrs-in' type='checkbox' ><label for='attrs-33de0958-b86c-41e2-b8bd-7d83726405ff' title='Show/Hide attributes'><svg class='icon xr-icon-file-text2'><use xlink:href='#icon-file-text2'></use></svg></label><input id='data-02d4d473-60aa-4a3e-8f5a-2b69bdeeb6e8' class='xr-var-data-in' type='checkbox'><label for='data-02d4d473-60aa-4a3e-8f5a-2b69bdeeb6e8' title='Show/Hide data repr'><svg class='icon xr-icon-database'><use xlink:href='#icon-database'></use></svg></label><div class='xr-var-attrs'><dl class='xr-attrs'><dt><span>standard_name :</span></dt><dd>latitude</dd><dt><span>units :</span></dt><dd>degree_north</dd><dt><span>valid_range :</span></dt><dd>[-90.0, 90.0]</dd></dl></div><div class='xr-var-data'><pre>array([51.39021033])</pre></div></li><li class='xr-var-item'><div class='xr-var-name'><span>lon</span></div><div class='xr-var-dims'>(station)</div><div class='xr-var-dtype'>float64</div><div class='xr-var-preview xr-preview'>11.89</div><input id='attrs-a03ea06b-0f49-4db5-a37a-961a35e40e23' class='xr-var-attrs-in' type='checkbox' ><label for='attrs-a03ea06b-0f49-4db5-a37a-961a35e40e23' title='Show/Hide attributes'><svg class='icon xr-icon-file-text2'><use xlink:href='#icon-file-text2'></use></svg></label><input id='data-c5fe7529-cf96-407b-b4fe-4ae938f88281' class='xr-var-data-in' type='checkbox'><label for='data-c5fe7529-cf96-407b-b4fe-4ae938f88281' title='Show/Hide data repr'><svg class='icon xr-icon-database'><use xlink:href='#icon-database'></use></svg></label><div class='xr-var-attrs'><dl class='xr-attrs'><dt><span>standard_name :</span></dt><dd>longitude</dd><dt><span>units :</span></dt><dd>degree_east</dd><dt><span>valid_range :</span></dt><dd>[-180.0, 180.0]</dd></dl></div><div class='xr-var-data'><pre>array([11.885252])</pre></div></li><li class='xr-var-item'><div class='xr-var-name'><span>esd</span></div><div class='xr-var-dims'>(station)</div><div class='xr-var-dtype'>float64</div><div class='xr-var-preview xr-preview'>1.01</div><input id='attrs-5f95f187-97a9-4c0e-ae59-3c1dcbc8eeea' class='xr-var-attrs-in' type='checkbox' ><label for='attrs-5f95f187-97a9-4c0e-ae59-3c1dcbc8eeea' title='Show/Hide attributes'><svg class='icon xr-icon-file-text2'><use xlink:href='#icon-file-text2'></use></svg></label><input id='data-785434dc-c8bc-4a28-96b1-356535f997a1' class='xr-var-data-in' type='checkbox'><label for='data-785434dc-c8bc-4a28-96b1-356535f997a1' title='Show/Hide data repr'><svg class='icon xr-icon-database'><use xlink:href='#icon-database'></use></svg></label><div class='xr-var-attrs'><dl class='xr-attrs'><dt><span>long_name :</span></dt><dd>Earth-sun distance</dd><dt><span>note :</span></dt><dd>Calculated based on Spencer (1971), as mean of its values over all time steps.</dd><dt><span>units :</span></dt><dd>ua</dd></dl></div><div class='xr-var-data'><pre>array([1.00959973])</pre></div></li><li class='xr-var-item'><div class='xr-var-name'><span>maintenance_flag_ghi</span></div><div class='xr-var-dims'>(maintenancetime, station)</div><div class='xr-var-dtype'>float64</div><div class='xr-var-preview xr-preview'>9.0</div><input id='attrs-54567034-a7ad-43b4-a59f-ce1cbfc8c774' class='xr-var-attrs-in' type='checkbox' ><label for='attrs-54567034-a7ad-43b4-a59f-ce1cbfc8c774' title='Show/Hide attributes'><svg class='icon xr-icon-file-text2'><use xlink:href='#icon-file-text2'></use></svg></label><input id='data-75d342d3-0195-4110-96ba-90fd677427fc' class='xr-var-data-in' type='checkbox'><label for='data-75d342d3-0195-4110-96ba-90fd677427fc' title='Show/Hide data repr'><svg class='icon xr-icon-database'><use xlink:href='#icon-database'></use></svg></label><div class='xr-var-attrs'><dl class='xr-attrs'><dt><span>note_general :</span></dt><dd>[&#x27;222&#x27;, &#x27;222&#x27;]</dd><dt><span>note_clean :</span></dt><dd>[&#x27;testing notes&#x27;, &#x27;testing notes&#x27;]</dd><dt><span>note_level :</span></dt><dd>[&#x27;test&#x27;, &#x27;test&#x27;]</dd><dt><span>valid_range :</span></dt><dd>[0, 11]</dd></dl></div><div class='xr-var-data'><pre>array([[9.]])</pre></div></li><li class='xr-var-item'><div class='xr-var-name'><span>maintenance_flag_gti</span></div><div class='xr-var-dims'>(maintenancetime, station)</div><div class='xr-var-dtype'>float64</div><div class='xr-var-preview xr-preview'>7.0</div><input id='attrs-f533859f-542b-4bcd-99fe-fa8a43f289cd' class='xr-var-attrs-in' type='checkbox' ><label for='attrs-f533859f-542b-4bcd-99fe-fa8a43f289cd' title='Show/Hide attributes'><svg class='icon xr-icon-file-text2'><use xlink:href='#icon-file-text2'></use></svg></label><input id='data-23b14c44-29c5-4588-806f-48a7fd2d8e12' class='xr-var-data-in' type='checkbox'><label for='data-23b14c44-29c5-4588-806f-48a7fd2d8e12' title='Show/Hide data repr'><svg class='icon xr-icon-database'><use xlink:href='#icon-database'></use></svg></label><div class='xr-var-attrs'><dl class='xr-attrs'><dt><span>note_general :</span></dt><dd>[&#x27;222&#x27;, &#x27;222&#x27;]</dd><dt><span>note_clean :</span></dt><dd>[&#x27;&#x27;, &#x27;&#x27;]</dd><dt><span>note_level :</span></dt><dd>[&#x27;&#x27;, &#x27;&#x27;]</dd><dt><span>valid_range :</span></dt><dd>[0, 11]</dd></dl></div><div class='xr-var-data'><pre>array([[7.]])</pre></div></li></ul></div></li><li class='xr-section-item'><input id='section-92c20bde-2d4d-4e26-8e66-de670030f180' class='xr-section-summary-in' type='checkbox'  ><label for='section-92c20bde-2d4d-4e26-8e66-de670030f180' class='xr-section-summary' >Indexes: <span>(3)</span></label><div class='xr-section-inline-details'></div><div class='xr-section-details'><ul class='xr-var-list'><li class='xr-var-item'><div class='xr-index-name'><div>station</div></div><div class='xr-index-preview'>PandasIndex</div><div></div><input id='index-b92d81b8-62b8-44b9-8d85-0bcfe81d2ffd' class='xr-index-data-in' type='checkbox'/><label for='index-b92d81b8-62b8-44b9-8d85-0bcfe81d2ffd' title='Show/Hide index repr'><svg class='icon xr-icon-database'><use xlink:href='#icon-database'></use></svg></label><div class='xr-index-data'><pre>PandasIndex(Float64Index([1.0], dtype=&#x27;float64&#x27;, name=&#x27;station&#x27;))</pre></div></li><li class='xr-var-item'><div class='xr-index-name'><div>time</div></div><div class='xr-index-preview'>PandasIndex</div><div></div><input id='index-bbffd49d-8685-498a-9900-6923e9e3ecfe' class='xr-index-data-in' type='checkbox'/><label for='index-bbffd49d-8685-498a-9900-6923e9e3ecfe' title='Show/Hide index repr'><svg class='icon xr-icon-database'><use xlink:href='#icon-database'></use></svg></label><div class='xr-index-data'><pre>PandasIndex(DatetimeIndex([&#x27;2022-08-30 11:21:01&#x27;, &#x27;2022-08-30 11:21:02&#x27;,\n               &#x27;2022-08-30 11:21:03&#x27;, &#x27;2022-08-30 11:21:04&#x27;,\n               &#x27;2022-08-30 11:21:05&#x27;, &#x27;2022-08-30 11:21:06&#x27;,\n               &#x27;2022-08-30 11:21:07&#x27;, &#x27;2022-08-30 11:21:08&#x27;,\n               &#x27;2022-08-30 11:21:09&#x27;],\n              dtype=&#x27;datetime64[ns]&#x27;, name=&#x27;time&#x27;, freq=&#x27;S&#x27;))</pre></div></li><li class='xr-var-item'><div class='xr-index-name'><div>maintenancetime</div></div><div class='xr-index-preview'>PandasIndex</div><div></div><input id='index-76f94094-0617-464c-9f75-1b59524e5b63' class='xr-index-data-in' type='checkbox'/><label for='index-76f94094-0617-464c-9f75-1b59524e5b63' title='Show/Hide index repr'><svg class='icon xr-icon-database'><use xlink:href='#icon-database'></use></svg></label><div class='xr-index-data'><pre>PandasIndex(DatetimeIndex([&#x27;2023-05-08 16:09:06&#x27;], dtype=&#x27;datetime64[ns]&#x27;, name=&#x27;maintenancetime&#x27;, freq=None))</pre></div></li></ul></div></li><li class='xr-section-item'><input id='section-94a90cfa-69b3-4bbf-830c-fe4482c9c7f4' class='xr-section-summary-in' type='checkbox'  ><label for='section-94a90cfa-69b3-4bbf-830c-fe4482c9c7f4' class='xr-section-summary' >Attributes: <span>(32)</span></label><div class='xr-section-inline-details'></div><div class='xr-section-details'><dl class='xr-attrs'><dt><span>Conventions :</span></dt><dd>CF-1.10, ACDD-1.3</dd><dt><span>title :</span></dt><dd>TROPOS pyranometer network (PyrNet) observational data set</dd><dt><span>history :</span></dt><dd>2024-02-27T06:51:38: Merged level l1b by pyrnet version 0.2.0+2.g8cd06c5.dirty; </dd><dt><span>institution :</span></dt><dd>Leibniz Institute for Tropospheric Research (TROPOS)</dd><dt><span>source :</span></dt><dd>TROPOS pyranometer network (PyrNet)</dd><dt><span>references :</span></dt><dd>https://doi.org/10.5194/amt-9-1153-2016</dd><dt><span>Department :</span></dt><dd>Remote Sensing of Atmospheric Processes</dd><dt><span>Department_team :</span></dt><dd>Clouds, Aerosol and Radiation</dd><dt><span>Address :</span></dt><dd>Permoser Str. 15, 04318 Leipzig, Germany</dd><dt><span>Contact_person :</span></dt><dd>Andreas Macke and the clouds, aerosol and radiation team of the remote sensing department, mailto:andreas.macke@tropos.de</dd><dt><span>Contributor_name :</span></dt><dd></dd><dt><span>Contributor_role :</span></dt><dd></dd><dt><span>Authors_software :</span></dt><dd>Hartwig Deneke, Jonas Witthuhn, mailto:deneke@tropos.de</dd><dt><span>Creator_name :</span></dt><dd></dd><dt><span>Project :</span></dt><dd></dd><dt><span>Standard_name_vocabulary :</span></dt><dd>CF Standard Name Table v81</dd><dt><span>License :</span></dt><dd>CC-BY-SA 3.0</dd><dt><span>TESTNOTE :</span></dt><dd>This is a test note.</dd><dt><span>processing_level :</span></dt><dd>l1b</dd><dt><span>product_version :</span></dt><dd>0.2.0+2.g8cd06c5.dirty</dd><dt><span>date_created :</span></dt><dd>2024-02-27T06:51:37</dd><dt><span>geospatial_lat_min :</span></dt><dd>51.390210333333336</dd><dt><span>geospatial_lat_max :</span></dt><dd>51.390210333333336</dd><dt><span>geospatial_lat_units :</span></dt><dd>degN</dd><dt><span>geospatial_lon_min :</span></dt><dd>11.885252</dd><dt><span>geospatial_lon_max :</span></dt><dd>11.885252</dd><dt><span>geospatial_lon_units :</span></dt><dd>degE</dd><dt><span>time_coverage_start :</span></dt><dd>2022-08-30T11:21:01</dd><dt><span>time_coverage_end :</span></dt><dd>2022-08-30T11:21:09</dd><dt><span>time_coverage_duration :</span></dt><dd>P0DT0H0M8S</dd><dt><span>time_coverage_resolution :</span></dt><dd>P0DT0H0M1S</dd><dt><span>site :</span></dt><dd>[&#x27;testsite1&#x27;, &#x27;testsite2&#x27;]</dd></dl></div></li></ul></div></div>"
     },
     "execution_count": 49,
     "metadata": {},
     "output_type": "execute_result"
    }
   ],
   "source": [
    "#|dropout\n",
    "#|dropcode\n",
    "ds_merged = merge_l1b(dslist,freq='1s',timevar='time')\n",
    "ds_merged.reindex_like(dslist[0])"
   ],
   "metadata": {
    "collapsed": false,
    "ExecuteTime": {
     "end_time": "2024-02-27T06:51:39.072239900Z",
     "start_time": "2024-02-27T06:51:38.314167200Z"
    }
   }
  },
  {
   "cell_type": "code",
   "execution_count": 50,
   "outputs": [],
   "source": [
    "#|hide\n",
    "# #|export\n",
    "# def merge_ds(ds1, ds2, timevar=\"time\"):\n",
    "#     \"\"\"Merge two datasets along the time dimension.\n",
    "#     \"\"\"\n",
    "#     if ds1[timevar].equals(ds2[timevar]):\n",
    "#         logging.info(\"Overwrite existing file.\")\n",
    "#         return ds2\n",
    "#     logging.info(\"Merge with existing file.\")\n",
    "# \n",
    "#     ## overwrite non time dependent variables\n",
    "#     overwrite_vars = [ v for v in ds1 if timevar not in ds1[v].dims ]\n",
    "# \n",
    "#     ## merge both datasets\n",
    "#     ds_new=ds1.merge(ds2,\n",
    "#                      compat='no_conflicts',\n",
    "#                      overwrite_vars=overwrite_vars)\n",
    "# \n",
    "#     # add global coverage attributes\n",
    "#     ds_new.attrs.update({'merged':1})\n",
    "# \n",
    "#     # add encoding again\n",
    "#     ds_new = add_encoding(ds_new)\n",
    "#     return ds_new"
   ],
   "metadata": {
    "collapsed": false,
    "ExecuteTime": {
     "end_time": "2024-02-27T06:51:39.085205100Z",
     "start_time": "2024-02-27T06:51:39.063395Z"
    }
   }
  },
  {
   "cell_type": "code",
   "execution_count": 51,
   "metadata": {
    "collapsed": false,
    "ExecuteTime": {
     "end_time": "2024-02-27T06:51:40.427273200Z",
     "start_time": "2024-02-27T06:51:39.072239900Z"
    }
   },
   "outputs": [],
   "source": [
    "#|hide\n",
    "# Export module\n",
    "# Requires *nbdev* to export and update the *../lib/logger.py* module\n",
    "import nbdev.export\n",
    "import nbformat as nbf\n",
    "name = \"data\"\n",
    "\n",
    "# Export python module\n",
    "nbdev.export.nb_export( f\"{name}.ipynb\" ,f\"../../src/pyrnet\")\n",
    "\n",
    "# Export to docs\n",
    "ntbk = nbf.read(f\"{name}.ipynb\", nbf.NO_CONVERT)\n",
    "\n",
    "text_search_dict = {\n",
    "    \"#|hide\": \"remove-cell\",  # Remove the whole cell\n",
    "    \"#|dropcode\": \"hide-input\",  # Hide the input w/ a button to show\n",
    "    \"#|dropout\": \"hide-output\"  # Hide the output w/ a button to show\n",
    "}\n",
    "for cell in ntbk.cells:\n",
    "    cell_tags = cell.get('metadata', {}).get('tags', [])\n",
    "    for key, val in text_search_dict.items():\n",
    "            if key in cell['source']:\n",
    "                if val not in cell_tags:\n",
    "                    cell_tags.append(val)\n",
    "    if len(cell_tags) > 0:\n",
    "        cell['metadata']['tags'] = cell_tags\n",
    "    nbf.write(ntbk, f\"../../docs/source/nbs/{name}.ipynb\")"
   ]
  }
 ],
 "metadata": {
  "kernelspec": {
   "display_name": "Python 3 (ipykernel)",
   "language": "python",
   "name": "python3"
  },
  "language_info": {
   "codemirror_mode": {
    "name": "ipython",
    "version": 3
   },
   "file_extension": ".py",
   "mimetype": "text/x-python",
   "name": "python",
   "nbconvert_exporter": "python",
   "pygments_lexer": "ipython3",
   "version": "3.11.7"
  }
 },
 "nbformat": 4,
 "nbformat_minor": 4
}
