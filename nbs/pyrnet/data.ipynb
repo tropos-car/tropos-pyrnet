{
 "cells": [
  {
   "cell_type": "code",
   "execution_count": 1,
   "outputs": [],
   "source": [
    "#|hide\n",
    "#|default_exp data"
   ],
   "metadata": {
    "collapsed": false,
    "ExecuteTime": {
     "end_time": "2024-01-31T07:48:44.119807200Z",
     "start_time": "2024-01-31T07:48:43.337051500Z"
    }
   }
  },
  {
   "cell_type": "markdown",
   "source": [
    "# Data level\n",
    "\n",
    "Reading and advance in data processing levels to be stored in netcdf database format.\n",
    "\n",
    "```{note}\n",
    "raw > l1a > l1b > l1c\n",
    "```"
   ],
   "metadata": {
    "collapsed": false
   }
  },
  {
   "cell_type": "code",
   "execution_count": 2,
   "outputs": [],
   "source": [
    "#|export\n",
    "import os\n",
    "import numpy as np\n",
    "import pandas as pd\n",
    "import xarray as xr\n",
    "import logging\n",
    "from toolz import assoc_in\n",
    "import pkg_resources as pkg_res\n",
    "import warnings\n",
    "\n",
    "from trosat import sunpos as sp\n",
    "\n",
    "import pyrnet as pyrnet_main\n",
    "pyrnet_version = pyrnet_main.__version__\n",
    "from pyrnet import pyrnet\n",
    "from pyrnet import utils as pyrutils\n",
    "from pyrnet import logger as pyrlogger\n",
    "from pyrnet import reports as pyrreports\n",
    "\n",
    "# logging setup\n",
    "logging.basicConfig(\n",
    "    filename='pyrnet.log',\n",
    "    encoding='utf-8',\n",
    "    level=logging.DEBUG,\n",
    "    format='%(asctime)s %(name)s %(levelname)s:%(message)s'\n",
    ")\n",
    "logger = logging.getLogger(__name__)"
   ],
   "metadata": {
    "collapsed": false,
    "ExecuteTime": {
     "end_time": "2024-01-31T07:48:48.666567200Z",
     "start_time": "2024-01-31T07:48:43.356000900Z"
    }
   }
  },
  {
   "cell_type": "code",
   "execution_count": 3,
   "outputs": [],
   "source": [
    "import matplotlib.pyplot as plt"
   ],
   "metadata": {
    "collapsed": false,
    "ExecuteTime": {
     "end_time": "2024-01-31T07:48:49.372339800Z",
     "start_time": "2024-01-31T07:48:48.670556200Z"
    }
   }
  },
  {
   "cell_type": "markdown",
   "source": [
    "## netCDF dataset operations\n"
   ],
   "metadata": {
    "collapsed": false
   }
  },
  {
   "cell_type": "code",
   "execution_count": 4,
   "outputs": [],
   "source": [
    "#|export\n",
    "def update_coverage_meta(ds,timevar='time'):\n",
    "    \"\"\"Update global attributes related to geospatial and time coverage\n",
    "    \"\"\"\n",
    "    duration = ds[timevar].values[-1] - ds[timevar].values[0]\n",
    "    resolution = np.mean(np.diff(ds[timevar].values))\n",
    "    now = pd.to_datetime(np.datetime64(\"now\"))\n",
    "    gattrs = {\n",
    "        'date_created': now.isoformat(),\n",
    "        'geospatial_lat_min': np.nanmin(ds.lat.values),\n",
    "        'geospatial_lat_max': np.nanmax(ds.lat.values),\n",
    "        'geospatial_lat_units': 'degN',\n",
    "        'geospatial_lon_min': np.nanmin(ds.lon.values),\n",
    "        'geospatial_lon_max': np.nanmax(ds.lon.values),\n",
    "        'geospatial_lon_units': 'degE',\n",
    "        'time_coverage_start': pd.to_datetime(ds[timevar].values[0]).isoformat(),\n",
    "        'time_coverage_end': pd.to_datetime(ds[timevar].values[-1]).isoformat(),\n",
    "        'time_coverage_duration': pd.to_timedelta(duration).isoformat(),\n",
    "        'time_coverage_resolution': pd.to_timedelta(resolution).isoformat(),\n",
    "    }\n",
    "    ds.attrs.update(gattrs)\n",
    "    return ds\n"
   ],
   "metadata": {
    "collapsed": false,
    "ExecuteTime": {
     "end_time": "2024-01-31T07:48:49.394760900Z",
     "start_time": "2024-01-31T07:48:49.384780Z"
    }
   }
  },
  {
   "cell_type": "code",
   "execution_count": 5,
   "outputs": [],
   "source": [
    "#|export\n",
    "def stretch_resolution(ds: xr.Dataset) -> xr.Dataset:\n",
    "    \"\"\" Stretch variable resolution to full integer size,\n",
    "    to not lose resolution after averaging ADC count data.\"\"\"\n",
    "    for var in ds:\n",
    "        if \"scale_factor\" not in ds[var].encoding:\n",
    "            continue\n",
    "        if \"valid_range\" not in ds[var].attrs:\n",
    "            continue\n",
    "        dtype = ds[var].encoding['dtype']\n",
    "        valid_range = ds[var].valid_range\n",
    "        int_limit = np.iinfo(dtype).max\n",
    "        scale_factor = ds[var].encoding['scale_factor']\n",
    "        scale_factor_mod = int((int_limit-1)/valid_range[1])\n",
    "        ds[var].encoding.update({\n",
    "            \"scale_factor\": scale_factor / scale_factor_mod,\n",
    "            \"_FillValue\": int_limit,\n",
    "        })\n",
    "        ds[var].attrs.update({\n",
    "            \"valid_range\": valid_range * scale_factor_mod\n",
    "        })\n",
    "    return ds"
   ],
   "metadata": {
    "collapsed": false,
    "ExecuteTime": {
     "end_time": "2024-01-31T07:48:49.467804300Z",
     "start_time": "2024-01-31T07:48:49.403007500Z"
    }
   }
  },
  {
   "cell_type": "code",
   "execution_count": 6,
   "outputs": [],
   "source": [
    "#|export\n",
    "def merge_ds(ds1,ds2,timevar=\"time\"):\n",
    "    \"\"\"Merge two datasets along the time dimension.\n",
    "    \"\"\"\n",
    "    if ds1[timevar].equals(ds2[timevar]):\n",
    "        logging.info(\"Overwrite existing file.\")\n",
    "        return ds2\n",
    "    logging.info(\"Merge with existing file.\")\n",
    "\n",
    "    ## overwrite non time dependent variables\n",
    "    overwrite_vars = [ v for v in ds1 if timevar not in ds1[v].dims ]\n",
    "\n",
    "    ## merge both datasets\n",
    "    ds_new=ds1.merge(ds2,\n",
    "                     compat='no_conflicts',\n",
    "                     overwrite_vars=overwrite_vars)\n",
    "\n",
    "    # add global coverage attributes\n",
    "    ds_new.attrs.update({'merged':1})\n",
    "\n",
    "    # add encoding again\n",
    "    ds_new = add_encoding(ds_new)\n",
    "    return ds_new"
   ],
   "metadata": {
    "collapsed": false,
    "ExecuteTime": {
     "end_time": "2024-01-31T07:48:49.496006300Z",
     "start_time": "2024-01-31T07:48:49.417712300Z"
    }
   }
  },
  {
   "cell_type": "code",
   "execution_count": 7,
   "outputs": [],
   "source": [
    "#|export\n",
    "def to_netcdf(ds,fname, timevar=\"time\"):\n",
    "    \"\"\"xarray to netcdf, but merge if exist\n",
    "    \"\"\"\n",
    "    # merge if necessary\n",
    "    if os.path.exists(fname):\n",
    "        ds1 = xr.open_dataset(fname)\n",
    "        ds = merge_ds(ds1,ds, timevar=timevar)\n",
    "        ds1.close()\n",
    "        os.remove(fname)\n",
    "\n",
    "    # save to netCDF4\n",
    "    ds = update_coverage_meta(ds, timevar=timevar)\n",
    "    ds.to_netcdf(fname,\n",
    "                 encoding={timevar:{'dtype':'float64'}}) # for OpenDAP 2 compatibility"
   ],
   "metadata": {
    "collapsed": false,
    "ExecuteTime": {
     "end_time": "2024-01-31T07:48:49.497004600Z",
     "start_time": "2024-01-31T07:48:49.431946100Z"
    }
   }
  },
  {
   "cell_type": "code",
   "execution_count": 8,
   "outputs": [],
   "source": [
    "#|export\n",
    "def resample(ds, freq, methods='mean', kwargs={}):\n",
    "    \"\"\" Resample xarray dataset using pandas for speed.\n",
    "    https://github.com/pydata/xarray/issues/4498#issuecomment-706688398\n",
    "    \"\"\"\n",
    "    if isinstance(methods,str):\n",
    "        methods = [methods]\n",
    "\n",
    "    dsr = ds.to_dataframe().resample(freq)\n",
    "    dsouts = []\n",
    "    for method in methods:\n",
    "        # what we want (quickly), but in Pandas form\n",
    "        df_h = dsr.apply(method)\n",
    "        # rebuild xarray dataset with attributes\n",
    "        vals = []\n",
    "        for c in df_h.columns:\n",
    "            vals.append(\n",
    "                xr.DataArray(data=df_h[c],\n",
    "                             dims=['time'],\n",
    "                             coords={'time': df_h.index},\n",
    "                             attrs=ds[c].attrs)\n",
    "            )\n",
    "        dsouts.append(xr.Dataset(dict(zip(df_h.columns, vals)), attrs=ds.attrs))\n",
    "\n",
    "    if len(dsouts) == 1:\n",
    "        dsouts = dsouts[0]\n",
    "    return dsouts"
   ],
   "metadata": {
    "collapsed": false,
    "ExecuteTime": {
     "end_time": "2024-01-31T07:48:49.497004600Z",
     "start_time": "2024-01-31T07:48:49.448832200Z"
    }
   }
  },
  {
   "cell_type": "markdown",
   "source": [
    "## Default config and nc encoding\n",
    "Parse default config and cfmeta, and merge with user condfig"
   ],
   "metadata": {
    "collapsed": false
   }
  },
  {
   "cell_type": "code",
   "execution_count": 9,
   "outputs": [],
   "source": [
    "#|export\n",
    "def get_config(config: dict|None = None) -> dict:\n",
    "    \"\"\"Read default config and merge with input config\n",
    "    \"\"\"\n",
    "\n",
    "    fn_config = pkg_res.resource_filename(\"pyrnet\", \"share/pyrnet_config.json\")\n",
    "    default_config = pyrutils.read_json(fn_config)\n",
    "    if config is None:\n",
    "        config = default_config\n",
    "    config = {**default_config, **config}\n",
    "\n",
    "    # add default files\n",
    "    cfiles = {\n",
    "        \"file_cfmeta\": \"share/pyrnet_cfmeta.json\",\n",
    "        \"file_calibration\": \"share/pyrnet_calibration.json\",\n",
    "        \"file_mapping\": \"share/pyrnet_station_map.json\",\n",
    "        \"file_gti_angles\": \"share/pyrnet_gti_angles.json\",\n",
    "        \"file_site\": \"share/pyrnet_sites.json\",\n",
    "    }\n",
    "    for fn in cfiles:\n",
    "        if config[fn] is None:\n",
    "            config[fn] =  pkg_res.resource_filename(\"pyrnet\", cfiles[fn])\n",
    "    return config\n",
    "\n",
    "def get_sensor_config(sconfig: dict|None = None) -> dict:\n",
    "    \"\"\" Read the sensor configuration from the default json file and merge if needed. \n",
    "    \"\"\"\n",
    "    fn_config = pkg_res.resource_filename(\"pyrnet\", \"share/pyrnet_sensor_config.json\")\n",
    "    default_config = pyrutils.read_json(fn_config)\n",
    "    if sconfig is None:\n",
    "        sconfig = default_config\n",
    "    sconfig = {**default_config, **sconfig}\n",
    "    return sconfig\n",
    "    \n",
    "def get_cfmeta(config: dict|None = None) -> dict:\n",
    "    \"\"\"Read global and variable attributes and encoding from cfmeta.json\n",
    "    \"\"\"\n",
    "    config= get_config(config)\n",
    "    # parse the json file\n",
    "    cfdict = pyrutils.read_json(config[\"file_cfmeta\"])\n",
    "    # get global attributes:\n",
    "    gattrs = cfdict['attributes']\n",
    "    # apply config\n",
    "    gattrs = {k:v.format_map(config) for k,v in gattrs.items()}\n",
    "    # get variable attributes\n",
    "    d = pyrutils.get_var_attrs(cfdict)\n",
    "    # split encoding attributes\n",
    "    vattrs, vencode = pyrutils.get_attrs_enc(d)\n",
    "    return gattrs ,vattrs, vencode\n",
    "\n",
    "def calc_encoding(sconfig:dict, ADCV=3.3, ADCbits=10) -> dict:\n",
    "    ADCfac = ADCV / (2**ADCbits-1) # Last bit is reserved \n",
    "    sencoding ={}\n",
    "    for k,v in sconfig.items():\n",
    "        sencoding.update(\n",
    "            {k: dict(\n",
    "                units=v['units'],\n",
    "                scale_factor=v['C']*ADCfac/v['gain'],\n",
    "                add_offset=v['offset'],\n",
    "                valid_range= [0, min(((2**ADCbits-1), int(v['Vmax']*v['gain']/ADCfac)))]\n",
    "            )}\n",
    "        )\n",
    "    return sencoding\n"
   ],
   "metadata": {
    "collapsed": false,
    "ExecuteTime": {
     "end_time": "2024-01-31T07:48:49.500904200Z",
     "start_time": "2024-01-31T07:48:49.468484900Z"
    }
   }
  },
  {
   "cell_type": "code",
   "execution_count": 10,
   "outputs": [
    {
     "data": {
      "text/plain": "{'ta': {'units': 'K',\n  'scale_factor': 0.12903225806451613,\n  'add_offset': 253.15,\n  'valid_range': [0, 775]},\n 'rh': {'units': '1',\n  'scale_factor': 0.0012903225806451613,\n  'add_offset': 0.0,\n  'valid_range': [0, 775]},\n 'battery_voltage': {'units': 'V',\n  'scale_factor': 0.0064516129032258064,\n  'add_offset': 0.0,\n  'valid_range': [0, 992]},\n 'ghi': {'units': 'V',\n  'scale_factor': 1.075268817204301e-05,\n  'add_offset': 0.0,\n  'valid_range': [0, 1023]},\n 'gti': {'units': 'V',\n  'scale_factor': 1.075268817204301e-05,\n  'add_offset': 0.0,\n  'valid_range': [0, 1023]}}"
     },
     "execution_count": 10,
     "metadata": {},
     "output_type": "execute_result"
    }
   ],
   "source": [
    "sconfig = get_sensor_config()\n",
    "sencoding = calc_encoding(sconfig)\n",
    "sencoding"
   ],
   "metadata": {
    "collapsed": false,
    "ExecuteTime": {
     "end_time": "2024-01-31T07:48:49.655939700Z",
     "start_time": "2024-01-31T07:48:49.489027800Z"
    }
   }
  },
  {
   "cell_type": "markdown",
   "source": [
    "## Encoding\n",
    "The encoding attributes are defined within the file PyrNet/share/pyrnet_cfmeta.json per default.\n",
    "\n",
    "The netcdf packing of data is realized via the two attributes *scale_factor* and *add_offset*:\n",
    "  ```unpacked_variable = scale_factor * packed_variable + add_offset```"
   ],
   "metadata": {
    "collapsed": false
   }
  },
  {
   "cell_type": "code",
   "execution_count": 11,
   "outputs": [
    {
     "data": {
      "text/plain": "{'attributes': {'title': 'TROPOS pyranometer network (PyrNet) observations',\n  'institution': 'Leibniz Institute for Tropospheric Research (TROPOS)',\n  'department': 'Remote Sensing of Atmospheric Processes',\n  'department_team': 'Clouds, Aerosol and Radiation',\n  'address': 'Permoser Str. 15, 04318 Leipzig, Germany',\n  'source': 'TROPOS pyranometer network (PyrNet)',\n  'contact_person': 'Andreas Macke and the clouds, aerosol and radiation team of the remote sensing department, mailto:andreas.macke@tropos.de',\n  'contributor_name': '{contributor_name}',\n  'contributor_role': '{contributor_role}',\n  'authors_software': 'Hartwig Deneke, Jonas Witthuhn, mailto:deneke@tropos.de',\n  'creator_name': '{creator_name}',\n  'project': '{project}',\n  'references': 'https://doi.org/10.5194/amt-9-1153-2016',\n  'standard_name_vocabulary': 'CF Standard Name Table v81',\n  'conventions': 'CF-1.10, ACDD-1.3',\n  'license': 'CC-BY-SA 3.0'},\n 'variables': {'ta': {'type': 'u2',\n   'attributes': {'units': 'K',\n    'long_name': 'air temperature',\n    'standard_name': 'air_temperature',\n    'scale_factor': 0.0001,\n    'add_offset': 253.15,\n    '_FillValue': 65535,\n    'valid_range': [0, 10000],\n    'zlib': True}},\n  'rh': {'type': 'u2',\n   'attributes': {'units': '1',\n    'long_name': 'air relative humidity',\n    'standard_name': 'relative_humidity',\n    'scale_factor': 0.0001,\n    'add_offset': 0.0,\n    'valid_range': [0, 10000],\n    '_FillValue': 65535,\n    'zlib': True}},\n  'battery_voltage': {'type': 'u2',\n   'attributes': {'units': 'V',\n    'standard_name': 'battery_voltage',\n    'scale_factor': 0.001,\n    'add_offset': 0.0,\n    'valid_range': [0, 6400],\n    '_FillValue': 65535,\n    'zlib': True}},\n  'ghi': {'type': 'u2',\n   'attributes': {'units': 'W m-2',\n    'long_name': 'downwelling shortwave flux',\n    'standard_name': 'downwelling_shortwave_flux_in_air',\n    'scale_factor': 0.025,\n    'add_offset': 0.0,\n    'valid_range': [0, 60000],\n    '_FillValue': 65535,\n    'zlib': True}},\n  'gti': {'type': 'u2',\n   'attributes': {'units': 'V',\n    'long_name': 'downwelling shortwave flux measured on secondary platform, might be tilted',\n    'standard_name': 'downwelling_shortwave_flux_in_air',\n    'scale_factor': 0.025,\n    'add_offset': 0.0,\n    'valid_range': [0, 60000],\n    '_FillValue': 65535,\n    'zlib': True}},\n  'station': {'type': 'u1',\n   'attributes': {'units': '-',\n    'long_name': 'PyrNet unit box number',\n    '_FillValue': 255,\n    'zlib': True}},\n  'szen': {'type': 'u2',\n   'attributes': {'standard_name': 'solar_zenith_angle',\n    'units': 'degree',\n    'scale_factor': 0.005,\n    'add_offset': 0.0,\n    'valid_range': [0, 36000],\n    '_FillValue': 65535,\n    'zlib': True}},\n  'sazi': {'type': 'u2',\n   'attributes': {'standard_name': 'solar_azimuth_angle',\n    'units': 'degree',\n    'scale_factor': 0.01,\n    'add_offset': 0.0,\n    'valid_range': [0, 36000],\n    '_FillValue': 65535,\n    'zlib': True}},\n  'esd': {'type': 'u2',\n   'attributes': {'standard_name': 'earth_sun_distance',\n    'units': 'AU',\n    'scale_factor': 1e-06,\n    'add_offset': 0.98,\n    'valid_range': [0, 40000],\n    '_FillValue': 65535,\n    'zlib': True}},\n  'maintenance_flag_ghi': {'type': 'u1',\n   'attributes': {'standard_name': 'quality_flag',\n    'long_name': 'Maintenance quality control flags for main pyranometer',\n    'note': 'Soiling describes subjectively the coverage of the pyranometer dome with dirt. The level flag is problematic if the bubble of the spirit level touches the reference ring, and bad if it is outside.',\n    'valid_range': [0, 11],\n    'flag_masks': [3, 3, 3, 12, 12],\n    'flag_values': [1, 2, 3, 4, 8],\n    'flag_meanings': 'soiling_light soiling_moderate soiling_heavy level_problematic level_bad',\n    '_FillValue': 255,\n    'zlib': True}},\n  'maintenance_flag_gti': {'type': 'u1',\n   'attributes': {'standard_name': 'quality_flag',\n    'long_name': 'Maintenance quality control flags for secondary pyranometer',\n    'note': 'Soiling describes subjectively the coverage of the pyranometer dome with dirt. The level flag is problematic if the bubble of the spirit level touches the reference ring, and bad if it is outside.',\n    'valid_range': [0, 11],\n    'flag_masks': [3, 3, 3, 12, 12],\n    'flag_values': [1, 2, 3, 4, 8],\n    'flag_meanings': 'soiling_light soiling_moderate soiling_heavy level_problematic level_bad',\n    '_FillValue': 255,\n    'zlib': True}},\n  'lat': {'type': 'u4',\n   'attributes': {'standard_name': 'latitude',\n    'units': 'degree_north',\n    'scale_factor': 1e-06,\n    'add_offset': -90,\n    'valid_range': [0, 180000000],\n    '_FillValue': 4294967295,\n    'zlib': True}},\n  'lon': {'type': 'u4',\n   'attributes': {'standard_name': 'longitude',\n    'units': 'degree_east',\n    'scale_factor': 1e-06,\n    'add_offset': -180,\n    'valid_range': [0, 360000000],\n    '_FillValue': 4294967295,\n    'zlib': True}},\n  'iadc': {'type': 'u4',\n   'attributes': {'standard_name': 'index',\n    'comment': 'index to map gps to adc records',\n    'units': '-',\n    '_FillValue': 4294967295,\n    'zlib': True}},\n  'adctime': {'type': 'u4',\n   'attributes': {'standard_name': 'time',\n    '_FillValue': 4294967295,\n    'zlib': True}},\n  'time': {'type': 'f8',\n   'attributes': {'standard_name': 'time', 'zlib': True}}}}"
     },
     "execution_count": 11,
     "metadata": {},
     "output_type": "execute_result"
    }
   ],
   "source": [
    "#|dropcode\n",
    "#|dropout\n",
    "fn_cfjson = pkg_res.resource_filename(\"pyrnet\", \"share/pyrnet_cfmeta.json\")\n",
    "pyrutils.read_json(fn_cfjson)"
   ],
   "metadata": {
    "collapsed": false,
    "ExecuteTime": {
     "end_time": "2024-01-31T07:48:49.685935300Z",
     "start_time": "2024-01-31T07:48:49.510879300Z"
    }
   }
  },
  {
   "cell_type": "markdown",
   "source": [
    "### Irradiance values\n",
    "\n",
    "Irradiance values are stored as Voltage for later calibration. Assigning 1500Wm-2 as maximum measurable irradiance from the irradiance sensor. The maximum counts (*valid_max*) measured by the logger can be calculated by:\n",
    " * maximum counts = $\\mathrm{gain}*1500*\\mathrm{C_{max}}*1023/3.3$\n",
    "\n",
    "Most calibration factors are in the area of 7.5 uV/Wm-2, assuming $\\mathrm{C_{max}}=8$uV/Wm-2 for this estimate seems sufficient. All radiation sensors are amplified with a fixed gain of $\\mathrm{gain}=300$.\n",
    "\n",
    "Later (level 1c+) the scale factor will be instrument specific by adding the calibration from V to W m-2\n",
    "\n",
    "### Temperature and humidity\n",
    "\n",
    "\n",
    "Calibration coefficients for Temperature and Humidity DKRF-4000 series (discontinued) https://www.driesen-kern.de/downloads/produktlinie_feuchte.pdf are:\n",
    " * Temperature (T) range :-20-80 degC  from 0-5V\n",
    " * relative Humidity (rH) range: 0-100% from 0-5V\n",
    "\n",
    "As the logger ADC range is 0-3.3V with a 10bit resolution, the sensors are measured through a voltage splitting circuit. Therefore, the ADC counts have to be doubled.\n",
    " * Voltage U [V] = $2* 3.3/1023$ [counts]\n",
    " * T = $-20 + 100*(U/5)$ [degC] = $253.15 + 100*(U/5)$ [K]\n",
    " * rH = $(U/5)$  [%]  = $(U/5)$    [%]\n",
    "\n",
    "### Ancillary data\n",
    "\n",
    "* solar zenith angle (*szen*)\n",
    "    * valid range unpacked: (0,180) (deg)\n",
    "    * packing in u2 integer (unsigned 16bit)\n",
    "        * fill value = $2^{16} - 1$\n",
    "        * scale_factor = $180 /(2^{16}-2)$\n",
    "* solar azimuth angle (*sazi*)\n",
    "    * valid range unpacked: (0,360)\n",
    "    * packing in u2 integer (unsigned 16bit)\n",
    "        * fill_value = $2^{16} -1$\n",
    "        * scale_factor= $360 / (2^{16}-2)$\n",
    "* earth sun distance (*esd*)\n",
    "    * valid range unpacked: (0.98,1.02)\n",
    "    * packing in u2 integer (unsigned 16bit)\n",
    "        * fill_value = $2^{16} -1$\n",
    "        * scale_factor= $(1.02-0.98)/(2^{16}-2)$\n",
    "        * add_offset = 0.98\n"
   ],
   "metadata": {
    "collapsed": false
   }
  },
  {
   "cell_type": "code",
   "execution_count": 12,
   "outputs": [
    {
     "name": "stdout",
     "output_type": "stream",
     "text": [
      "ta scale_factor: 0.12903225806451613\n",
      "ta add_offset: 253.15\n",
      "ta valid_range: [0, 775]\n",
      "\n",
      "rh scale_factor: 0.0012903225806451613\n",
      "rh add_offset: 0\n",
      "rh valid_range: [0, 775]\n",
      "\n",
      "battery scale_factor: 0.0064516129032258064\n",
      "battery add_offset: 0\n",
      "battery valid_range: [0, 992]\n",
      "\n",
      "radflux scale_factor: 1.075268817204301e-05\n",
      "radflux add_offset: 0\n",
      "radflux valid_range: [0, 1023]\n",
      "\n",
      "scale_factor szen (deg): 0.005\n",
      "add_offset szen: 0.0 \n",
      "valid_range szen: [0, 36000]\n",
      "\n",
      "scale_factor sazi (deg): 0.01\n",
      "add_offset sazi: 0.0 \n",
      "valid_range sazi: [0, 36000]\n",
      "\n",
      "scale_factor esd (AU): 1.0000000000000008e-06\n",
      "add_offset esd: 0.98 \n",
      "valid_range esd: [0, 40000]\n",
      "\n",
      "scale_factor lat (degree_north): 1e-06\n",
      "add_offset lat (degree_north): -90.\n",
      "valid_range lat: [0, 180_000_000]\n",
      "\n",
      "scale_factor lon (degree_east): 1e-06\n",
      "add_offset lon (degree_east): -180.\n",
      "valid_range lon: [0, 360_000_000]\n"
     ]
    }
   ],
   "source": [
    "#|dropcode\n",
    "#|dropout\n",
    "sensor_config = {\n",
    "    \"ta\": {\n",
    "        \"C\": 100./5., # K/V\n",
    "        \"offset\": 253.15, # K at 0V\n",
    "        \"gain\": 0.5, # measured over voltage splitter\n",
    "        \"Vmax\": 5, # V output at sensor\n",
    "    },\n",
    "    \"rh\": {\n",
    "        \"C\": 1./5., # 1/V\n",
    "        \"offset\": 0, # 0 at 0V\n",
    "        \"gain\": 0.5, # measured over voltage splitter\n",
    "        \"Vmax\": 5, # V output at sensor\n",
    "    },\n",
    "    \"battery\": {\n",
    "        \"C\": 1., # V(batt)/V\n",
    "        \"offset\": 0, # V at 0V\n",
    "        \"gain\": 0.5, # measured over voltage splitter\n",
    "        \"Vmax\": 6.4, # V output at sensor\n",
    "    },\n",
    "    \"radflux\": {\n",
    "        \"C\": 1., # Vsensor/Vmeasured\n",
    "        \"offset\": 0, # V at 0V\n",
    "        \"gain\": 300, # amplified\n",
    "        \"Vmax\": 1500*8*1e-6, # V output at sensor\n",
    "    },\n",
    "}\n",
    "ADCfac = 3.3/1023. # V/counts\n",
    "for var in sensor_config:\n",
    "    sconf = sensor_config[var]\n",
    "    print(f\"{var} scale_factor: {sconf['C']*ADCfac/sconf['gain']}\")\n",
    "    print(f\"{var} add_offset: {sconf['offset']}\")\n",
    "    print(f\"{var} valid_range: [0, {min((1023, int(sconf['Vmax']*sconf['gain']/ADCfac)))}]\")\n",
    "    print()\n",
    "\n",
    "# szen encoding\n",
    "print(f\"scale_factor szen (deg): {180./(36_000)}\")\n",
    "print(f\"add_offset szen: 0.0 \")\n",
    "print(f\"valid_range szen: [0, {36_000}]\")\n",
    "print()\n",
    "# sazi encoding\n",
    "print(f\"scale_factor sazi (deg): {360./(36_000)}\")\n",
    "print(f\"add_offset sazi: 0.0 \")\n",
    "print(f\"valid_range sazi: [0, {36_000}]\")\n",
    "print()\n",
    "# esd encoding\n",
    "print(f\"scale_factor esd (AU): {(1.02-0.98)/(40_000)}\")\n",
    "print(f\"add_offset esd: 0.98 \")\n",
    "print(f\"valid_range esd: [0, {40_000}]\")\n",
    "print()\n",
    "# lat encoding\n",
    "print(f\"scale_factor lat (degree_north): {(90.-(-90.))/180_000_000}\")\n",
    "print(f\"add_offset lat (degree_north): -90.\")\n",
    "print(f\"valid_range lat: [0, 180_000_000]\")\n",
    "print()\n",
    "# lon encoding\n",
    "print(f\"scale_factor lon (degree_east): {(180.-(-180.))/360_000_000}\")\n",
    "print(f\"add_offset lon (degree_east): -180.\")\n",
    "print(f\"valid_range lon: [0, 360_000_000]\")\n",
    "print()"
   ],
   "metadata": {
    "collapsed": false,
    "ExecuteTime": {
     "end_time": "2024-01-31T07:48:49.712861600Z",
     "start_time": "2024-01-31T07:48:49.551778200Z"
    }
   }
  },
  {
   "cell_type": "code",
   "execution_count": 13,
   "outputs": [],
   "source": [
    "#|export\n",
    "def add_encoding(ds, vencode=None):\n",
    "    \"\"\"\n",
    "    Set valid_range attribute and encoding to every variable of the dataset.\n",
    "\n",
    "    Parameters\n",
    "    ----------\n",
    "    ds: xr.Dataset\n",
    "        Dataset of any processing level. The processing level will be\n",
    "        determined by the global attribute 'processing_level'.\n",
    "    vencode: dict or None\n",
    "        Dictionary of encoding attributes by variable name, will be merged with pyrnet default cfmeta. The default is None.\n",
    "\n",
    "    Returns\n",
    "    -------\n",
    "    xr.Dataset\n",
    "        The input dataset but with encoding and valid_range attribute.\n",
    "    \"\"\"\n",
    "    # prepare netcdf encoding\n",
    "    _, vattrs_default, vencode_default = get_cfmeta()\n",
    "\n",
    "    # Add valid range temporary to encoding dict.\n",
    "    # As valid_range is not implemented in xarray encoding,\n",
    "    #  it has to be stored as a variable attribute later.\n",
    "    for k in vencode_default:\n",
    "        if \"valid_range\" not in vencode_default[k]:\n",
    "            continue\n",
    "        vencode_default = assoc_in(vencode_default,\n",
    "                                   [k,'valid_range'],\n",
    "                                   vattrs_default['valid_range'])\n",
    "\n",
    "    # merge input and default with preference on input\n",
    "    if vencode is None:\n",
    "        vencode = vencode_default\n",
    "    else:\n",
    "        a = vencode_default.copy()\n",
    "        b = vencode.copy()\n",
    "        vencode = {}\n",
    "        for k in set(a)-set(b):\n",
    "            vencode.update({k:a[k]})\n",
    "        for k in set(a)&set(b):\n",
    "            vencode.update({k: {**a[k],**b[k]}})\n",
    "        for k in set(b)-set(a):\n",
    "            vencode.update({k:b[k]})\n",
    "\n",
    "    # add encoding to Dataset\n",
    "    for k, v in vencode.items():\n",
    "        if k not in ds:\n",
    "            continue\n",
    "        for ki in [key for key in ds if key.startswith(k)]:\n",
    "            ds[ki].encoding.update(v)\n",
    "        if \"valid_range\" not in vencode[k]:\n",
    "            continue\n",
    "        # add valid_range to variable attributes\n",
    "        for ki in [key for key in ds if key.startswith(k)]:\n",
    "            ds[ki].attrs.update({\n",
    "                'valid_range': vencode[k]['valid_range']\n",
    "            })\n",
    "            \n",
    "    # add encoding to coords\n",
    "    if ds.processing_level=='l1a':\n",
    "        ds[\"gpstime\"].encoding.update({\n",
    "            **vencode[\"time\"],\n",
    "            \"units\": f\"seconds since {np.datetime_as_string(ds.gpstime.data[0], unit='D')}T00:00Z\",\n",
    "        })\n",
    "        ds[\"adctime\"].encoding.update({\n",
    "            **vencode[\"adctime\"],\n",
    "            \"units\": \"milliseconds\"\n",
    "        })\n",
    "        ds[\"station\"].encoding.update({\n",
    "            **vencode[\"station\"]\n",
    "        })\n",
    "    elif ds.processing_level == 'l1b':\n",
    "        ds[\"time\"].encoding.update({\n",
    "            **vencode[\"time\"],\n",
    "            \"units\": f\"seconds since {np.datetime_as_string(ds.time.data[0], unit='D')}T00:00Z\",\n",
    "        })\n",
    "    else:\n",
    "        raise ValueError(\"Dataset has no 'processing_level' attribute.\")\n",
    "    return ds"
   ],
   "metadata": {
    "collapsed": false,
    "ExecuteTime": {
     "end_time": "2024-01-31T07:48:49.713859600Z",
     "start_time": "2024-01-31T07:48:49.574711500Z"
    }
   }
  },
  {
   "cell_type": "markdown",
   "source": [
    "## l1a\n",
    "Full resolution unprocessed, uncalibrated data. One data file corresponds to one maintenance period of one PyrNet station.\n",
    "\n",
    "Level *l1a* will be processed from the logger raw data with the following workflow:\n",
    "\n",
    "1. Parse raw logger file\n",
    "    * ```pyrnet.logger.read_records```\n",
    "1. Get maintenance logbook quality flags\n",
    "    * ```pyrnet.reports```\n",
    "1. Get metadata and encoding\n",
    "    * ```pyrnet_cfmeta_l1b.json```\n",
    "1. Make xarray Dataset\n",
    "1. Add variable and global attributes and encoding"
   ],
   "metadata": {
    "collapsed": false
   }
  },
  {
   "cell_type": "code",
   "execution_count": 14,
   "outputs": [],
   "source": [
    "config = get_config()\n",
    "gattrs, vattrs, vencode = get_cfmeta(config)\n",
    "\n",
    "# update encoding with sensor config for l1a\n",
    "sconfig = get_sensor_config()\n",
    "sencoding = calc_encoding(sconfig, ADCV=3.3, ADCbits=10)"
   ],
   "metadata": {
    "collapsed": false,
    "ExecuteTime": {
     "end_time": "2024-01-31T07:48:49.713859600Z",
     "start_time": "2024-01-31T07:48:49.586472300Z"
    }
   }
  },
  {
   "cell_type": "code",
   "execution_count": 15,
   "outputs": [
    {
     "data": {
      "text/plain": "{'ta': {'scale_factor': 0.12903225806451613,\n  'add_offset': 253.15,\n  '_FillValue': 65535,\n  'zlib': True,\n  'dtype': 'u2',\n  'gzip': True,\n  'complevel': 6,\n  'units': 'K'},\n 'rh': {'scale_factor': 0.0012903225806451613,\n  'add_offset': 0.0,\n  '_FillValue': 65535,\n  'zlib': True,\n  'dtype': 'u2',\n  'gzip': True,\n  'complevel': 6,\n  'units': '1'},\n 'battery_voltage': {'scale_factor': 0.0064516129032258064,\n  'add_offset': 0.0,\n  '_FillValue': 65535,\n  'zlib': True,\n  'dtype': 'u2',\n  'gzip': True,\n  'complevel': 6,\n  'units': 'V'},\n 'ghi': {'scale_factor': 1.075268817204301e-05,\n  'add_offset': 0.0,\n  '_FillValue': 65535,\n  'zlib': True,\n  'dtype': 'u2',\n  'gzip': True,\n  'complevel': 6,\n  'units': 'V'},\n 'gti': {'scale_factor': 1.075268817204301e-05,\n  'add_offset': 0.0,\n  '_FillValue': 65535,\n  'zlib': True,\n  'dtype': 'u2',\n  'gzip': True,\n  'complevel': 6,\n  'units': 'V'},\n 'station': {'_FillValue': 255,\n  'zlib': True,\n  'dtype': 'u1',\n  'gzip': True,\n  'complevel': 6},\n 'szen': {'scale_factor': 0.005,\n  'add_offset': 0.0,\n  '_FillValue': 65535,\n  'zlib': True,\n  'dtype': 'u2',\n  'gzip': True,\n  'complevel': 6},\n 'sazi': {'scale_factor': 0.01,\n  'add_offset': 0.0,\n  '_FillValue': 65535,\n  'zlib': True,\n  'dtype': 'u2',\n  'gzip': True,\n  'complevel': 6},\n 'esd': {'scale_factor': 1e-06,\n  'add_offset': 0.98,\n  '_FillValue': 65535,\n  'zlib': True,\n  'dtype': 'u2',\n  'gzip': True,\n  'complevel': 6},\n 'maintenance_flag_ghi': {'_FillValue': 255,\n  'zlib': True,\n  'dtype': 'u1',\n  'gzip': True,\n  'complevel': 6},\n 'maintenance_flag_gti': {'_FillValue': 255,\n  'zlib': True,\n  'dtype': 'u1',\n  'gzip': True,\n  'complevel': 6},\n 'lat': {'scale_factor': 1e-06,\n  'add_offset': -90,\n  '_FillValue': 4294967295,\n  'zlib': True,\n  'dtype': 'u4',\n  'gzip': True,\n  'complevel': 6},\n 'lon': {'scale_factor': 1e-06,\n  'add_offset': -180,\n  '_FillValue': 4294967295,\n  'zlib': True,\n  'dtype': 'u4',\n  'gzip': True,\n  'complevel': 6},\n 'iadc': {'_FillValue': 4294967295,\n  'zlib': True,\n  'dtype': 'u4',\n  'gzip': True,\n  'complevel': 6},\n 'adctime': {'_FillValue': 4294967295,\n  'zlib': True,\n  'dtype': 'u4',\n  'gzip': True,\n  'complevel': 6},\n 'time': {'zlib': True, 'dtype': 'f8', 'gzip': True, 'complevel': 6}}"
     },
     "execution_count": 15,
     "metadata": {},
     "output_type": "execute_result"
    }
   ],
   "source": [
    "# from toolz import update_in\n",
    "for var,enc in sencoding.items():\n",
    "    for k,v in enc.items():\n",
    "        if k==\"valid_range\":\n",
    "            vattrs = assoc_in(vattrs, [var,k], v)\n",
    "        else:\n",
    "            vencode = assoc_in(vencode, [var,k], v)\n",
    "vencode"
   ],
   "metadata": {
    "collapsed": false,
    "ExecuteTime": {
     "end_time": "2024-01-31T07:48:49.721841300Z",
     "start_time": "2024-01-31T07:48:49.614305800Z"
    }
   }
  },
  {
   "cell_type": "code",
   "execution_count": 16,
   "outputs": [],
   "source": [
    "#|export\n",
    "def to_l1a(\n",
    "        fname : str,\n",
    "        *,\n",
    "        station: int,\n",
    "        report: dict|pd.DataFrame|None,\n",
    "        date_of_measure : np.datetime64 = np.datetime64(\"now\"),\n",
    "        config: dict|None = None,\n",
    "        sconfig: dict|None = None,\n",
    "        global_attrs: dict|None = None\n",
    ") -> xr.Dataset|None:\n",
    "    \"\"\"\n",
    "    Read logger raw file and parse it to xarray Dataset. Thereby, attributes and names are defined via cfmeta.json file and sun position values are calculated and added.\n",
    "\n",
    "    Parameters\n",
    "    ----------\n",
    "    fname: str\n",
    "        Path and filename of the raw logger file.\n",
    "    station: int\n",
    "        PyrNet station box number.\n",
    "    report: dict\n",
    "        Parsed maintenance report, see reports.ipynb\n",
    "    bins: int\n",
    "        Number of desired bins per day. The default is 86400, which result in\n",
    "        mean values of 1 second steps per day. Maximum resolution is 86400000.\n",
    "    date_of_measure: float, datetime or datetime64\n",
    "        A rough date of measure  to account for GPS week rollover. If measured in 2019, day resolution is recommended, before 2019 annual resolution, 2020 onwards not required. If float, interpreted as Julian day from 2000-01-01T12:00. the default is np.datetime64(\"now\").\n",
    "    config: dict\n",
    "        Stores processing specific configuration.\n",
    "            * cfjson -> path to cfmeta.json, the default is \"../share/pyrnet_cfmeta.json\"\n",
    "            * stripminutes -> number of minutes to be stripped from the data at start and end,\n",
    "                the default is 5.\n",
    "    sconfig: dict\n",
    "        Config for ADC and amplifier for each sensor. The default is \"../share/pyrnet_sensor_config.json\"\n",
    "    global_attrs: dict\n",
    "        Additional global attributes for the Dataset. (Overrides cfmeta.json attributes)\n",
    "    Returns\n",
    "    -------\n",
    "    xarray.Dataset\n",
    "        Raw Logger data for one measurement periode.\n",
    "    \"\"\"\n",
    "    ADCV = 3.3\n",
    "    ADCbits = 10\n",
    "    \n",
    "    # load and merge  default config\n",
    "    config = get_config(config)\n",
    "    gattrs, vattrs, vencode = get_cfmeta(config)\n",
    "    \n",
    "    # update encoding with sensor config for l1a\n",
    "    sconfig = get_sensor_config(sconfig)\n",
    "    sencoding = calc_encoding(sconfig, ADCV=ADCV, ADCbits=ADCbits)\n",
    "    # update encoding with sensor config for l1a\n",
    "    for var, enc in sencoding.items():\n",
    "        for k, v in enc.items():\n",
    "            if k in [\"valid_range\", \"units\"]:\n",
    "                vattrs = assoc_in(vattrs, [var, k], v)\n",
    "            else:\n",
    "                vencode = assoc_in(vencode, [var, k], v)\n",
    "                \n",
    "    # update additional global attributes\n",
    "    if global_attrs is not None:\n",
    "        gattrs.update(global_attrs)\n",
    "\n",
    "    date_of_measure = pyrutils.to_datetime64(date_of_measure)\n",
    "\n",
    "    # 1. Parse raw file\n",
    "    rec_adc, rec_gprmc = pyrlogger.read_records(fname=fname, date_of_measure=date_of_measure)\n",
    "\n",
    "    if type(rec_adc)==bool or len(rec_gprmc.time)<3:\n",
    "        logger.debug(\"Failed to load the data from the file, because of not enough stable GPS data, or file is empty.\")\n",
    "        return None\n",
    "\n",
    "    # Get ADC time\n",
    "    adctime = pyrlogger.get_adc_time(rec_adc)\n",
    "\n",
    "    # ADC to Volts\n",
    "    # Drop time and internal battery sensor output (columns 0 and 1)\n",
    "    adc_volts = ADCV * rec_adc[:,2:] / float(2**ADCbits - 1)\n",
    "\n",
    "    # 2. Get Logbook maintenance quality flags\n",
    "    key = f\"{station:03d}\"\n",
    "    if report is None:\n",
    "        logger.warning(\"No report available!\")\n",
    "        report = {}\n",
    "    if isinstance(report, pd.DataFrame):\n",
    "        logger.info(f\"Parsing report at date {rec_gprmc.time[-1]}\")\n",
    "        report = pyrreports.parse_report(report,\n",
    "                                date_of_maintenance=rec_gprmc.time[-1])\n",
    "\n",
    "    if key not in report:\n",
    "        logger.warning(f\"No report for station {station} available.\")\n",
    "        warnings.warn(f\"No report for station {station} available.\")\n",
    "        qc_main = pyrreports.get_qcflag(4,3)\n",
    "        qc_extra = pyrreports.get_qcflag(4,3)\n",
    "        vattrs = assoc_in(vattrs, [\"maintenance_flag_ghi\",\"note_general\"], \"No maintenance report!\")\n",
    "        vattrs = assoc_in(vattrs, [\"maintenance_flag_gti\",\"note_general\"], \"No maintenance report!\")\n",
    "    else:\n",
    "        qc_main = pyrreports.get_qcflag(\n",
    "            qc_clean=report[key]['clean'],\n",
    "            qc_level=report[key]['align']\n",
    "        )\n",
    "        qc_extra = pyrreports.get_qcflag(\n",
    "            qc_clean=report[key]['clean2'],\n",
    "            qc_level=report[key]['align2']\n",
    "        )\n",
    "        # add qc notes\n",
    "        vattrs = assoc_in(vattrs, [\"maintenance_flag_ghi\",\"note_general\"], report[key][\"note_general\"])\n",
    "        vattrs = assoc_in(vattrs, [\"maintenance_flag_gti\",\"note_general\"], report[key][\"note_general\"])\n",
    "        vattrs = assoc_in(vattrs, [\"maintenance_flag_ghi\",\"note_clean\"], report[key][\"note_clean\"])\n",
    "        vattrs = assoc_in(vattrs, [\"maintenance_flag_gti\",\"note_clean\"], report[key][\"note_clean2\"])\n",
    "        vattrs = assoc_in(vattrs, [\"maintenance_flag_ghi\",\"note_level\"], report[key][\"note_align\"])\n",
    "        vattrs = assoc_in(vattrs, [\"maintenance_flag_gti\",\"note_level\"], report[key][\"note_align2\"])\n",
    "\n",
    "    # 3. Add global meta data\n",
    "    now = pd.to_datetime(np.datetime64(\"now\"))\n",
    "    gattrs.update({\n",
    "        'processing_level': 'l1a',\n",
    "        'product_version': pyrnet_version,\n",
    "        'history': f'{now.isoformat()}: Generated level l1a  by pyrnet version {pyrnet_version}; ',\n",
    "    })\n",
    "    # add site information\n",
    "    if config['sites'] is not None:\n",
    "        sites = pyrutils.read_json(config['file_site'])[config['sites']]\n",
    "        if key in sites:\n",
    "            gattrs.update({ \"site\" : sites[key]})\n",
    "\n",
    "    # add gti angles\n",
    "    # default horizontal\n",
    "    vattrs = assoc_in(vattrs, [\"gti\",\"hangle\"], 0.)\n",
    "    vattrs = assoc_in(vattrs, [\"gti\",\"vangle\"], 0.)\n",
    "    # update with angles from mapping file\n",
    "    if config['gti_angles'] is not None:\n",
    "        gti_angles = pyrutils.read_json(config['file_gti_angles'])[config['gti_angles']]\n",
    "        if key in gti_angles:\n",
    "            hangle = np.nan if gti_angles[key][0] is None else gti_angles[key][0]\n",
    "            vangle = np.nan if gti_angles[key][1] is None else gti_angles[key][1]\n",
    "            vattrs = assoc_in(vattrs, [\"gti\",\"hangle\"], hangle)\n",
    "            vattrs = assoc_in(vattrs, [\"gti\",\"vangle\"], vangle)\n",
    "\n",
    "    if adc_volts.shape[1]<5: # gti data is not available\n",
    "        adc_volts = np.concatenate((adc_volts,-1*np.ones(adc_volts.shape[0])[:,None]),axis=1)\n",
    "\n",
    "    # 8. Make xarray Dataset\n",
    "    values = {}\n",
    "    for k,v in sconfig.items():\n",
    "        offset = sconfig[k][\"offset\"]\n",
    "        gain = sconfig[k][\"gain\"]\n",
    "        C = sconfig[k][\"C\"]\n",
    "        iadc = sconfig[k][\"iadc\"]\n",
    "        volts = adc_volts[:,iadc][:,None]\n",
    "        values.update(\n",
    "            {k: offset + C*volts/gain}\n",
    "        )\n",
    "    ds = xr.Dataset(\n",
    "        data_vars={\n",
    "            \"ghi\": ((\"adctime\",\"station\"), values[\"ghi\"]), # [V]\n",
    "            \"gti\": ((\"adctime\",\"station\"), values[\"gti\"]), # [V]\n",
    "            \"ta\": ((\"adctime\",\"station\"), values[\"ta\"]), # [K]\n",
    "            \"rh\": ((\"adctime\",\"station\"), values[\"rh\"]), # [-]\n",
    "            \"battery_voltage\": ((\"adctime\",\"station\"), values[\"battery_voltage\"]), # [V]\n",
    "            \"lat\": ((\"gpstime\",\"station\"), rec_gprmc.lat[:,None]), # [degN]\n",
    "            \"lon\": ((\"gpstime\",\"station\"), rec_gprmc.lon[:,None]), # [degE]\n",
    "            \"maintenance_flag_ghi\": (\"station\", [qc_main]),\n",
    "            \"maintenance_flag_gti\": (\"station\", [qc_extra]),\n",
    "            \"iadc\": ((\"gpstime\", \"station\"), rec_gprmc.iadc[:,None])\n",
    "        },\n",
    "        coords={\n",
    "            \"adctime\": (\"adctime\", adctime.astype('timedelta64[ns]')),\n",
    "            \"gpstime\": (\"gpstime\", rec_gprmc.time.astype('datetime64[ns]')),\n",
    "            \"station\": (\"station\", [station]),\n",
    "        },\n",
    "        attrs=gattrs\n",
    "    )\n",
    "\n",
    "    # drop ocurance of douplicate gps values\n",
    "    ds = ds.drop_duplicates(\"gpstime\")\n",
    "\n",
    "    # add global coverage attributes\n",
    "    ds = update_coverage_meta(ds, timevar=\"gpstime\")\n",
    "\n",
    "    # add attributes to Dataset\n",
    "    for k,v in vattrs.items():\n",
    "        if k not in ds.keys():\n",
    "            continue\n",
    "        ds[k].attrs = v\n",
    "\n",
    "    # add encoding to Dataset\n",
    "    ds = add_encoding(ds, vencode)\n",
    "\n",
    "    return ds"
   ],
   "metadata": {
    "collapsed": false,
    "ExecuteTime": {
     "end_time": "2024-01-31T07:48:49.730822100Z",
     "start_time": "2024-01-31T07:48:49.629502200Z"
    }
   }
  },
  {
   "cell_type": "code",
   "execution_count": 17,
   "outputs": [
    {
     "data": {
      "text/plain": "<xarray.Dataset>\nDimensions:               (adctime: 77, station: 1, gpstime: 5)\nCoordinates:\n  * adctime               (adctime) timedelta64[ns] 00:00:00 ... 00:00:07.600000\n  * gpstime               (gpstime) datetime64[ns] 2022-08-30T11:21:04.065000...\n  * station               (station) int64 1\nData variables:\n    ghi                   (adctime, station) float64 0.002086 ... 0.002086\n    gti                   (adctime, station) float64 0.001935 ... 0.001935\n    ta                    (adctime, station) float64 294.7 294.7 ... 294.8 295.0\n    rh                    (adctime, station) float64 0.6245 0.6245 ... 0.6297\n    battery_voltage       (adctime, station) float64 6.452 6.439 ... 6.465 6.452\n    lat                   (gpstime, station) float64 51.39 51.39 ... 51.39 51.39\n    lon                   (gpstime, station) float64 11.89 11.89 ... 11.89 11.89\n    maintenance_flag_ghi  (station) int64 9\n    maintenance_flag_gti  (station) int64 7\n    iadc                  (gpstime, station) uint32 26 35 54 64 74\nAttributes: (12/31)\n    title:                     TROPOS pyranometer network (PyrNet) observations\n    institution:               Leibniz Institute for Tropospheric Research (T...\n    department:                Remote Sensing of Atmospheric Processes\n    department_team:           Clouds, Aerosol and Radiation\n    address:                   Permoser Str. 15, 04318 Leipzig, Germany\n    source:                    TROPOS pyranometer network (PyrNet)\n    ...                        ...\n    geospatial_lon_max:        11.885256666666667\n    geospatial_lon_units:      degE\n    time_coverage_start:       2022-08-30T11:21:04.065000\n    time_coverage_end:         2022-08-30T11:21:09\n    time_coverage_duration:    P0DT0H0M4.935S\n    time_coverage_resolution:  P0DT0H0M1.23375S",
      "text/html": "<div><svg style=\"position: absolute; width: 0; height: 0; overflow: hidden\">\n<defs>\n<symbol id=\"icon-database\" viewBox=\"0 0 32 32\">\n<path d=\"M16 0c-8.837 0-16 2.239-16 5v4c0 2.761 7.163 5 16 5s16-2.239 16-5v-4c0-2.761-7.163-5-16-5z\"></path>\n<path d=\"M16 17c-8.837 0-16-2.239-16-5v6c0 2.761 7.163 5 16 5s16-2.239 16-5v-6c0 2.761-7.163 5-16 5z\"></path>\n<path d=\"M16 26c-8.837 0-16-2.239-16-5v6c0 2.761 7.163 5 16 5s16-2.239 16-5v-6c0 2.761-7.163 5-16 5z\"></path>\n</symbol>\n<symbol id=\"icon-file-text2\" viewBox=\"0 0 32 32\">\n<path d=\"M28.681 7.159c-0.694-0.947-1.662-2.053-2.724-3.116s-2.169-2.030-3.116-2.724c-1.612-1.182-2.393-1.319-2.841-1.319h-15.5c-1.378 0-2.5 1.121-2.5 2.5v27c0 1.378 1.122 2.5 2.5 2.5h23c1.378 0 2.5-1.122 2.5-2.5v-19.5c0-0.448-0.137-1.23-1.319-2.841zM24.543 5.457c0.959 0.959 1.712 1.825 2.268 2.543h-4.811v-4.811c0.718 0.556 1.584 1.309 2.543 2.268zM28 29.5c0 0.271-0.229 0.5-0.5 0.5h-23c-0.271 0-0.5-0.229-0.5-0.5v-27c0-0.271 0.229-0.5 0.5-0.5 0 0 15.499-0 15.5 0v7c0 0.552 0.448 1 1 1h7v19.5z\"></path>\n<path d=\"M23 26h-14c-0.552 0-1-0.448-1-1s0.448-1 1-1h14c0.552 0 1 0.448 1 1s-0.448 1-1 1z\"></path>\n<path d=\"M23 22h-14c-0.552 0-1-0.448-1-1s0.448-1 1-1h14c0.552 0 1 0.448 1 1s-0.448 1-1 1z\"></path>\n<path d=\"M23 18h-14c-0.552 0-1-0.448-1-1s0.448-1 1-1h14c0.552 0 1 0.448 1 1s-0.448 1-1 1z\"></path>\n</symbol>\n</defs>\n</svg>\n<style>/* CSS stylesheet for displaying xarray objects in jupyterlab.\n *\n */\n\n:root {\n  --xr-font-color0: var(--jp-content-font-color0, rgba(0, 0, 0, 1));\n  --xr-font-color2: var(--jp-content-font-color2, rgba(0, 0, 0, 0.54));\n  --xr-font-color3: var(--jp-content-font-color3, rgba(0, 0, 0, 0.38));\n  --xr-border-color: var(--jp-border-color2, #e0e0e0);\n  --xr-disabled-color: var(--jp-layout-color3, #bdbdbd);\n  --xr-background-color: var(--jp-layout-color0, white);\n  --xr-background-color-row-even: var(--jp-layout-color1, white);\n  --xr-background-color-row-odd: var(--jp-layout-color2, #eeeeee);\n}\n\nhtml[theme=dark],\nbody[data-theme=dark],\nbody.vscode-dark {\n  --xr-font-color0: rgba(255, 255, 255, 1);\n  --xr-font-color2: rgba(255, 255, 255, 0.54);\n  --xr-font-color3: rgba(255, 255, 255, 0.38);\n  --xr-border-color: #1F1F1F;\n  --xr-disabled-color: #515151;\n  --xr-background-color: #111111;\n  --xr-background-color-row-even: #111111;\n  --xr-background-color-row-odd: #313131;\n}\n\n.xr-wrap {\n  display: block !important;\n  min-width: 300px;\n  max-width: 700px;\n}\n\n.xr-text-repr-fallback {\n  /* fallback to plain text repr when CSS is not injected (untrusted notebook) */\n  display: none;\n}\n\n.xr-header {\n  padding-top: 6px;\n  padding-bottom: 6px;\n  margin-bottom: 4px;\n  border-bottom: solid 1px var(--xr-border-color);\n}\n\n.xr-header > div,\n.xr-header > ul {\n  display: inline;\n  margin-top: 0;\n  margin-bottom: 0;\n}\n\n.xr-obj-type,\n.xr-array-name {\n  margin-left: 2px;\n  margin-right: 10px;\n}\n\n.xr-obj-type {\n  color: var(--xr-font-color2);\n}\n\n.xr-sections {\n  padding-left: 0 !important;\n  display: grid;\n  grid-template-columns: 150px auto auto 1fr 20px 20px;\n}\n\n.xr-section-item {\n  display: contents;\n}\n\n.xr-section-item input {\n  display: none;\n}\n\n.xr-section-item input + label {\n  color: var(--xr-disabled-color);\n}\n\n.xr-section-item input:enabled + label {\n  cursor: pointer;\n  color: var(--xr-font-color2);\n}\n\n.xr-section-item input:enabled + label:hover {\n  color: var(--xr-font-color0);\n}\n\n.xr-section-summary {\n  grid-column: 1;\n  color: var(--xr-font-color2);\n  font-weight: 500;\n}\n\n.xr-section-summary > span {\n  display: inline-block;\n  padding-left: 0.5em;\n}\n\n.xr-section-summary-in:disabled + label {\n  color: var(--xr-font-color2);\n}\n\n.xr-section-summary-in + label:before {\n  display: inline-block;\n  content: '►';\n  font-size: 11px;\n  width: 15px;\n  text-align: center;\n}\n\n.xr-section-summary-in:disabled + label:before {\n  color: var(--xr-disabled-color);\n}\n\n.xr-section-summary-in:checked + label:before {\n  content: '▼';\n}\n\n.xr-section-summary-in:checked + label > span {\n  display: none;\n}\n\n.xr-section-summary,\n.xr-section-inline-details {\n  padding-top: 4px;\n  padding-bottom: 4px;\n}\n\n.xr-section-inline-details {\n  grid-column: 2 / -1;\n}\n\n.xr-section-details {\n  display: none;\n  grid-column: 1 / -1;\n  margin-bottom: 5px;\n}\n\n.xr-section-summary-in:checked ~ .xr-section-details {\n  display: contents;\n}\n\n.xr-array-wrap {\n  grid-column: 1 / -1;\n  display: grid;\n  grid-template-columns: 20px auto;\n}\n\n.xr-array-wrap > label {\n  grid-column: 1;\n  vertical-align: top;\n}\n\n.xr-preview {\n  color: var(--xr-font-color3);\n}\n\n.xr-array-preview,\n.xr-array-data {\n  padding: 0 5px !important;\n  grid-column: 2;\n}\n\n.xr-array-data,\n.xr-array-in:checked ~ .xr-array-preview {\n  display: none;\n}\n\n.xr-array-in:checked ~ .xr-array-data,\n.xr-array-preview {\n  display: inline-block;\n}\n\n.xr-dim-list {\n  display: inline-block !important;\n  list-style: none;\n  padding: 0 !important;\n  margin: 0;\n}\n\n.xr-dim-list li {\n  display: inline-block;\n  padding: 0;\n  margin: 0;\n}\n\n.xr-dim-list:before {\n  content: '(';\n}\n\n.xr-dim-list:after {\n  content: ')';\n}\n\n.xr-dim-list li:not(:last-child):after {\n  content: ',';\n  padding-right: 5px;\n}\n\n.xr-has-index {\n  font-weight: bold;\n}\n\n.xr-var-list,\n.xr-var-item {\n  display: contents;\n}\n\n.xr-var-item > div,\n.xr-var-item label,\n.xr-var-item > .xr-var-name span {\n  background-color: var(--xr-background-color-row-even);\n  margin-bottom: 0;\n}\n\n.xr-var-item > .xr-var-name:hover span {\n  padding-right: 5px;\n}\n\n.xr-var-list > li:nth-child(odd) > div,\n.xr-var-list > li:nth-child(odd) > label,\n.xr-var-list > li:nth-child(odd) > .xr-var-name span {\n  background-color: var(--xr-background-color-row-odd);\n}\n\n.xr-var-name {\n  grid-column: 1;\n}\n\n.xr-var-dims {\n  grid-column: 2;\n}\n\n.xr-var-dtype {\n  grid-column: 3;\n  text-align: right;\n  color: var(--xr-font-color2);\n}\n\n.xr-var-preview {\n  grid-column: 4;\n}\n\n.xr-index-preview {\n  grid-column: 2 / 5;\n  color: var(--xr-font-color2);\n}\n\n.xr-var-name,\n.xr-var-dims,\n.xr-var-dtype,\n.xr-preview,\n.xr-attrs dt {\n  white-space: nowrap;\n  overflow: hidden;\n  text-overflow: ellipsis;\n  padding-right: 10px;\n}\n\n.xr-var-name:hover,\n.xr-var-dims:hover,\n.xr-var-dtype:hover,\n.xr-attrs dt:hover {\n  overflow: visible;\n  width: auto;\n  z-index: 1;\n}\n\n.xr-var-attrs,\n.xr-var-data,\n.xr-index-data {\n  display: none;\n  background-color: var(--xr-background-color) !important;\n  padding-bottom: 5px !important;\n}\n\n.xr-var-attrs-in:checked ~ .xr-var-attrs,\n.xr-var-data-in:checked ~ .xr-var-data,\n.xr-index-data-in:checked ~ .xr-index-data {\n  display: block;\n}\n\n.xr-var-data > table {\n  float: right;\n}\n\n.xr-var-name span,\n.xr-var-data,\n.xr-index-name div,\n.xr-index-data,\n.xr-attrs {\n  padding-left: 25px !important;\n}\n\n.xr-attrs,\n.xr-var-attrs,\n.xr-var-data,\n.xr-index-data {\n  grid-column: 1 / -1;\n}\n\ndl.xr-attrs {\n  padding: 0;\n  margin: 0;\n  display: grid;\n  grid-template-columns: 125px auto;\n}\n\n.xr-attrs dt,\n.xr-attrs dd {\n  padding: 0;\n  margin: 0;\n  float: left;\n  padding-right: 10px;\n  width: auto;\n}\n\n.xr-attrs dt {\n  font-weight: normal;\n  grid-column: 1;\n}\n\n.xr-attrs dt:hover span {\n  display: inline-block;\n  background: var(--xr-background-color);\n  padding-right: 10px;\n}\n\n.xr-attrs dd {\n  grid-column: 2;\n  white-space: pre-wrap;\n  word-break: break-all;\n}\n\n.xr-icon-database,\n.xr-icon-file-text2,\n.xr-no-icon {\n  display: inline-block;\n  vertical-align: middle;\n  width: 1em;\n  height: 1.5em !important;\n  stroke-width: 0;\n  stroke: currentColor;\n  fill: currentColor;\n}\n</style><pre class='xr-text-repr-fallback'>&lt;xarray.Dataset&gt;\nDimensions:               (adctime: 77, station: 1, gpstime: 5)\nCoordinates:\n  * adctime               (adctime) timedelta64[ns] 00:00:00 ... 00:00:07.600000\n  * gpstime               (gpstime) datetime64[ns] 2022-08-30T11:21:04.065000...\n  * station               (station) int64 1\nData variables:\n    ghi                   (adctime, station) float64 0.002086 ... 0.002086\n    gti                   (adctime, station) float64 0.001935 ... 0.001935\n    ta                    (adctime, station) float64 294.7 294.7 ... 294.8 295.0\n    rh                    (adctime, station) float64 0.6245 0.6245 ... 0.6297\n    battery_voltage       (adctime, station) float64 6.452 6.439 ... 6.465 6.452\n    lat                   (gpstime, station) float64 51.39 51.39 ... 51.39 51.39\n    lon                   (gpstime, station) float64 11.89 11.89 ... 11.89 11.89\n    maintenance_flag_ghi  (station) int64 9\n    maintenance_flag_gti  (station) int64 7\n    iadc                  (gpstime, station) uint32 26 35 54 64 74\nAttributes: (12/31)\n    title:                     TROPOS pyranometer network (PyrNet) observations\n    institution:               Leibniz Institute for Tropospheric Research (T...\n    department:                Remote Sensing of Atmospheric Processes\n    department_team:           Clouds, Aerosol and Radiation\n    address:                   Permoser Str. 15, 04318 Leipzig, Germany\n    source:                    TROPOS pyranometer network (PyrNet)\n    ...                        ...\n    geospatial_lon_max:        11.885256666666667\n    geospatial_lon_units:      degE\n    time_coverage_start:       2022-08-30T11:21:04.065000\n    time_coverage_end:         2022-08-30T11:21:09\n    time_coverage_duration:    P0DT0H0M4.935S\n    time_coverage_resolution:  P0DT0H0M1.23375S</pre><div class='xr-wrap' style='display:none'><div class='xr-header'><div class='xr-obj-type'>xarray.Dataset</div></div><ul class='xr-sections'><li class='xr-section-item'><input id='section-aaeee7d8-78b0-4803-8359-5c0cbf8f1441' class='xr-section-summary-in' type='checkbox' disabled ><label for='section-aaeee7d8-78b0-4803-8359-5c0cbf8f1441' class='xr-section-summary'  title='Expand/collapse section'>Dimensions:</label><div class='xr-section-inline-details'><ul class='xr-dim-list'><li><span class='xr-has-index'>adctime</span>: 77</li><li><span class='xr-has-index'>station</span>: 1</li><li><span class='xr-has-index'>gpstime</span>: 5</li></ul></div><div class='xr-section-details'></div></li><li class='xr-section-item'><input id='section-cc194533-dc95-4da2-9e7b-71ed5ff0e049' class='xr-section-summary-in' type='checkbox'  checked><label for='section-cc194533-dc95-4da2-9e7b-71ed5ff0e049' class='xr-section-summary' >Coordinates: <span>(3)</span></label><div class='xr-section-inline-details'></div><div class='xr-section-details'><ul class='xr-var-list'><li class='xr-var-item'><div class='xr-var-name'><span class='xr-has-index'>adctime</span></div><div class='xr-var-dims'>(adctime)</div><div class='xr-var-dtype'>timedelta64[ns]</div><div class='xr-var-preview xr-preview'>00:00:00 ... 00:00:07.600000</div><input id='attrs-61085d72-f0f1-4591-8ce6-24e35ad3cf87' class='xr-var-attrs-in' type='checkbox' ><label for='attrs-61085d72-f0f1-4591-8ce6-24e35ad3cf87' title='Show/Hide attributes'><svg class='icon xr-icon-file-text2'><use xlink:href='#icon-file-text2'></use></svg></label><input id='data-06ae07fc-6b78-4374-a8e4-ac2f4041118d' class='xr-var-data-in' type='checkbox'><label for='data-06ae07fc-6b78-4374-a8e4-ac2f4041118d' title='Show/Hide data repr'><svg class='icon xr-icon-database'><use xlink:href='#icon-database'></use></svg></label><div class='xr-var-attrs'><dl class='xr-attrs'><dt><span>standard_name :</span></dt><dd>time</dd></dl></div><div class='xr-var-data'><pre>array([         0,  100000000,  200000000,  300000000,  400000000,  500000000,\n        600000000,  700000000,  800000000,  900000000, 1000000000, 1100000000,\n       1200000000, 1300000000, 1400000000, 1500000000, 1600000000, 1700000000,\n       1800000000, 1900000000, 2000000000, 2100000000, 2200000000, 2300000000,\n       2400000000, 2500000000, 2600000000, 2700000000, 2800000000, 2900000000,\n       3000000000, 3100000000, 3200000000, 3300000000, 3400000000, 3500000000,\n       3600000000, 3700000000, 3800000000, 3900000000, 4000000000, 4100000000,\n       4200000000, 4300000000, 4400000000, 4500000000, 4600000000, 4700000000,\n       4800000000, 4900000000, 5000000000, 5100000000, 5200000000, 5300000000,\n       5400000000, 5500000000, 5600000000, 5700000000, 5800000000, 5900000000,\n       6000000000, 6100000000, 6200000000, 6300000000, 6400000000, 6500000000,\n       6600000000, 6700000000, 6800000000, 6900000000, 7000000000, 7100000000,\n       7200000000, 7300000000, 7400000000, 7500000000, 7600000000],\n      dtype=&#x27;timedelta64[ns]&#x27;)</pre></div></li><li class='xr-var-item'><div class='xr-var-name'><span class='xr-has-index'>gpstime</span></div><div class='xr-var-dims'>(gpstime)</div><div class='xr-var-dtype'>datetime64[ns]</div><div class='xr-var-preview xr-preview'>2022-08-30T11:21:04.065000 ... 2...</div><input id='attrs-8deed2e6-f2be-4c2f-b813-ebca5b18ec3e' class='xr-var-attrs-in' type='checkbox' disabled><label for='attrs-8deed2e6-f2be-4c2f-b813-ebca5b18ec3e' title='Show/Hide attributes'><svg class='icon xr-icon-file-text2'><use xlink:href='#icon-file-text2'></use></svg></label><input id='data-2585d119-96df-4b0e-adfa-8aed7b97c142' class='xr-var-data-in' type='checkbox'><label for='data-2585d119-96df-4b0e-adfa-8aed7b97c142' title='Show/Hide data repr'><svg class='icon xr-icon-database'><use xlink:href='#icon-database'></use></svg></label><div class='xr-var-attrs'><dl class='xr-attrs'></dl></div><div class='xr-var-data'><pre>array([&#x27;2022-08-30T11:21:04.065000000&#x27;, &#x27;2022-08-30T11:21:05.065000000&#x27;,\n       &#x27;2022-08-30T11:21:07.000000000&#x27;, &#x27;2022-08-30T11:21:08.000000000&#x27;,\n       &#x27;2022-08-30T11:21:09.000000000&#x27;], dtype=&#x27;datetime64[ns]&#x27;)</pre></div></li><li class='xr-var-item'><div class='xr-var-name'><span class='xr-has-index'>station</span></div><div class='xr-var-dims'>(station)</div><div class='xr-var-dtype'>int64</div><div class='xr-var-preview xr-preview'>1</div><input id='attrs-7b8f72e7-2810-4397-91c9-1e048016e262' class='xr-var-attrs-in' type='checkbox' ><label for='attrs-7b8f72e7-2810-4397-91c9-1e048016e262' title='Show/Hide attributes'><svg class='icon xr-icon-file-text2'><use xlink:href='#icon-file-text2'></use></svg></label><input id='data-55cc6762-c4fb-4dd8-ad18-b72589622537' class='xr-var-data-in' type='checkbox'><label for='data-55cc6762-c4fb-4dd8-ad18-b72589622537' title='Show/Hide data repr'><svg class='icon xr-icon-database'><use xlink:href='#icon-database'></use></svg></label><div class='xr-var-attrs'><dl class='xr-attrs'><dt><span>units :</span></dt><dd>-</dd><dt><span>long_name :</span></dt><dd>PyrNet unit box number</dd></dl></div><div class='xr-var-data'><pre>array([1])</pre></div></li></ul></div></li><li class='xr-section-item'><input id='section-f6d099f7-b1c8-429f-b3da-0deb9406db38' class='xr-section-summary-in' type='checkbox'  checked><label for='section-f6d099f7-b1c8-429f-b3da-0deb9406db38' class='xr-section-summary' >Data variables: <span>(10)</span></label><div class='xr-section-inline-details'></div><div class='xr-section-details'><ul class='xr-var-list'><li class='xr-var-item'><div class='xr-var-name'><span>ghi</span></div><div class='xr-var-dims'>(adctime, station)</div><div class='xr-var-dtype'>float64</div><div class='xr-var-preview xr-preview'>0.002086 0.002086 ... 0.002086</div><input id='attrs-0d701af4-265d-4cc1-975c-0780a20f1a09' class='xr-var-attrs-in' type='checkbox' ><label for='attrs-0d701af4-265d-4cc1-975c-0780a20f1a09' title='Show/Hide attributes'><svg class='icon xr-icon-file-text2'><use xlink:href='#icon-file-text2'></use></svg></label><input id='data-dc47eab1-9c10-4ba9-b1a6-fb6af7cc067a' class='xr-var-data-in' type='checkbox'><label for='data-dc47eab1-9c10-4ba9-b1a6-fb6af7cc067a' title='Show/Hide data repr'><svg class='icon xr-icon-database'><use xlink:href='#icon-database'></use></svg></label><div class='xr-var-attrs'><dl class='xr-attrs'><dt><span>units :</span></dt><dd>V</dd><dt><span>long_name :</span></dt><dd>downwelling shortwave flux</dd><dt><span>standard_name :</span></dt><dd>downwelling_shortwave_flux_in_air</dd><dt><span>valid_range :</span></dt><dd>[0, 1023]</dd></dl></div><div class='xr-var-data'><pre>array([[0.00208602],\n       [0.00208602],\n       [0.00208602],\n       [0.00208602],\n       [0.00208602],\n       [0.00208602],\n       [0.00208602],\n       [0.00208602],\n       [0.00208602],\n       [0.00208602],\n       [0.00208602],\n       [0.00208602],\n       [0.00208602],\n       [0.00208602],\n       [0.00208602],\n       [0.00208602],\n       [0.00208602],\n       [0.00208602],\n       [0.00208602],\n       [0.00208602],\n...\n       [0.00207527],\n       [0.00208602],\n       [0.00208602],\n       [0.00208602],\n       [0.00208602],\n       [0.00208602],\n       [0.00208602],\n       [0.00208602],\n       [0.00208602],\n       [0.00208602],\n       [0.00208602],\n       [0.00208602],\n       [0.00208602],\n       [0.00208602],\n       [0.00208602],\n       [0.00208602],\n       [0.00208602],\n       [0.00208602],\n       [0.00208602],\n       [0.00208602]])</pre></div></li><li class='xr-var-item'><div class='xr-var-name'><span>gti</span></div><div class='xr-var-dims'>(adctime, station)</div><div class='xr-var-dtype'>float64</div><div class='xr-var-preview xr-preview'>0.001935 0.001935 ... 0.001935</div><input id='attrs-fbb4c73d-164a-49d0-9d73-70951446c2ec' class='xr-var-attrs-in' type='checkbox' ><label for='attrs-fbb4c73d-164a-49d0-9d73-70951446c2ec' title='Show/Hide attributes'><svg class='icon xr-icon-file-text2'><use xlink:href='#icon-file-text2'></use></svg></label><input id='data-6a1bfb17-9514-41bb-b384-42c7df124f14' class='xr-var-data-in' type='checkbox'><label for='data-6a1bfb17-9514-41bb-b384-42c7df124f14' title='Show/Hide data repr'><svg class='icon xr-icon-database'><use xlink:href='#icon-database'></use></svg></label><div class='xr-var-attrs'><dl class='xr-attrs'><dt><span>units :</span></dt><dd>V</dd><dt><span>long_name :</span></dt><dd>downwelling shortwave flux measured on secondary platform, might be tilted</dd><dt><span>standard_name :</span></dt><dd>downwelling_shortwave_flux_in_air</dd><dt><span>valid_range :</span></dt><dd>[0, 1023]</dd><dt><span>hangle :</span></dt><dd>0.0</dd><dt><span>vangle :</span></dt><dd>0.0</dd></dl></div><div class='xr-var-data'><pre>array([[0.00193548],\n       [0.00193548],\n       [0.00193548],\n       [0.00193548],\n       [0.00194624],\n       [0.00193548],\n       [0.00194624],\n       [0.00193548],\n       [0.00193548],\n       [0.00193548],\n       [0.00193548],\n       [0.00194624],\n       [0.00193548],\n       [0.00193548],\n       [0.00193548],\n       [0.00193548],\n       [0.00193548],\n       [0.00193548],\n       [0.00193548],\n       [0.00193548],\n...\n       [0.00193548],\n       [0.00193548],\n       [0.00193548],\n       [0.00193548],\n       [0.00193548],\n       [0.00193548],\n       [0.00192473],\n       [0.00192473],\n       [0.00193548],\n       [0.00193548],\n       [0.00193548],\n       [0.00193548],\n       [0.00193548],\n       [0.00193548],\n       [0.00193548],\n       [0.00193548],\n       [0.00193548],\n       [0.00193548],\n       [0.00194624],\n       [0.00193548]])</pre></div></li><li class='xr-var-item'><div class='xr-var-name'><span>ta</span></div><div class='xr-var-dims'>(adctime, station)</div><div class='xr-var-dtype'>float64</div><div class='xr-var-preview xr-preview'>294.7 294.7 294.7 ... 294.8 295.0</div><input id='attrs-9ea9b43f-298e-4941-88d9-409a8648118e' class='xr-var-attrs-in' type='checkbox' ><label for='attrs-9ea9b43f-298e-4941-88d9-409a8648118e' title='Show/Hide attributes'><svg class='icon xr-icon-file-text2'><use xlink:href='#icon-file-text2'></use></svg></label><input id='data-3142be4a-d689-448c-8e85-6802cc48392a' class='xr-var-data-in' type='checkbox'><label for='data-3142be4a-d689-448c-8e85-6802cc48392a' title='Show/Hide data repr'><svg class='icon xr-icon-database'><use xlink:href='#icon-database'></use></svg></label><div class='xr-var-attrs'><dl class='xr-attrs'><dt><span>units :</span></dt><dd>K</dd><dt><span>long_name :</span></dt><dd>air temperature</dd><dt><span>standard_name :</span></dt><dd>air_temperature</dd><dt><span>valid_range :</span></dt><dd>[0, 775]</dd></dl></div><div class='xr-var-data'><pre>array([[294.6983871 ],\n       [294.6983871 ],\n       [294.6983871 ],\n       [294.6983871 ],\n       [294.95645161],\n       [294.95645161],\n       [294.6983871 ],\n       [294.6983871 ],\n       [294.6983871 ],\n       [294.6983871 ],\n       [294.6983871 ],\n       [294.82741935],\n       [294.95645161],\n       [294.6983871 ],\n       [294.6983871 ],\n       [294.6983871 ],\n       [294.82741935],\n       [294.6983871 ],\n       [294.82741935],\n       [294.6983871 ],\n...\n       [294.82741935],\n       [294.95645161],\n       [294.6983871 ],\n       [294.6983871 ],\n       [294.82741935],\n       [294.6983871 ],\n       [294.82741935],\n       [294.95645161],\n       [294.6983871 ],\n       [294.6983871 ],\n       [294.6983871 ],\n       [294.82741935],\n       [294.6983871 ],\n       [294.82741935],\n       [294.6983871 ],\n       [294.6983871 ],\n       [294.6983871 ],\n       [294.6983871 ],\n       [294.82741935],\n       [294.95645161]])</pre></div></li><li class='xr-var-item'><div class='xr-var-name'><span>rh</span></div><div class='xr-var-dims'>(adctime, station)</div><div class='xr-var-dtype'>float64</div><div class='xr-var-preview xr-preview'>0.6245 0.6245 ... 0.6297 0.6297</div><input id='attrs-3fe3629d-385c-48de-adce-e77da41203a7' class='xr-var-attrs-in' type='checkbox' ><label for='attrs-3fe3629d-385c-48de-adce-e77da41203a7' title='Show/Hide attributes'><svg class='icon xr-icon-file-text2'><use xlink:href='#icon-file-text2'></use></svg></label><input id='data-30bc6eac-8501-47f7-ba6a-9879a54f0131' class='xr-var-data-in' type='checkbox'><label for='data-30bc6eac-8501-47f7-ba6a-9879a54f0131' title='Show/Hide data repr'><svg class='icon xr-icon-database'><use xlink:href='#icon-database'></use></svg></label><div class='xr-var-attrs'><dl class='xr-attrs'><dt><span>units :</span></dt><dd>1</dd><dt><span>long_name :</span></dt><dd>air relative humidity</dd><dt><span>standard_name :</span></dt><dd>relative_humidity</dd><dt><span>valid_range :</span></dt><dd>[0, 775]</dd></dl></div><div class='xr-var-data'><pre>array([[0.62451613],\n       [0.62451613],\n       [0.62451613],\n       [0.62580645],\n       [0.62580645],\n       [0.62580645],\n       [0.62451613],\n       [0.62451613],\n       [0.62451613],\n       [0.62451613],\n       [0.62580645],\n       [0.62709677],\n       [0.62451613],\n       [0.62322581],\n       [0.62451613],\n       [0.62451613],\n       [0.62451613],\n       [0.62580645],\n       [0.62709677],\n       [0.62451613],\n...\n       [0.62967742],\n       [0.6283871 ],\n       [0.62709677],\n       [0.62709677],\n       [0.62709677],\n       [0.62967742],\n       [0.62967742],\n       [0.62967742],\n       [0.62709677],\n       [0.62709677],\n       [0.6283871 ],\n       [0.6283871 ],\n       [0.62967742],\n       [0.62967742],\n       [0.62709677],\n       [0.62709677],\n       [0.62709677],\n       [0.6283871 ],\n       [0.62967742],\n       [0.62967742]])</pre></div></li><li class='xr-var-item'><div class='xr-var-name'><span>battery_voltage</span></div><div class='xr-var-dims'>(adctime, station)</div><div class='xr-var-dtype'>float64</div><div class='xr-var-preview xr-preview'>6.452 6.439 6.445 ... 6.465 6.452</div><input id='attrs-9a677a01-174e-4320-b7bf-e7f2f304821a' class='xr-var-attrs-in' type='checkbox' ><label for='attrs-9a677a01-174e-4320-b7bf-e7f2f304821a' title='Show/Hide attributes'><svg class='icon xr-icon-file-text2'><use xlink:href='#icon-file-text2'></use></svg></label><input id='data-35bbc581-ad0c-47bb-82b3-9bb9c27336db' class='xr-var-data-in' type='checkbox'><label for='data-35bbc581-ad0c-47bb-82b3-9bb9c27336db' title='Show/Hide data repr'><svg class='icon xr-icon-database'><use xlink:href='#icon-database'></use></svg></label><div class='xr-var-attrs'><dl class='xr-attrs'><dt><span>units :</span></dt><dd>V</dd><dt><span>standard_name :</span></dt><dd>battery_voltage</dd><dt><span>valid_range :</span></dt><dd>[0, 992]</dd></dl></div><div class='xr-var-data'><pre>array([[6.4516129 ],\n       [6.43870968],\n       [6.44516129],\n       [6.4516129 ],\n       [6.43870968],\n       [6.43870968],\n       [6.4516129 ],\n       [6.44516129],\n       [6.43870968],\n       [6.4516129 ],\n       [6.44516129],\n       [6.4516129 ],\n       [6.43870968],\n       [6.43870968],\n       [6.43870968],\n       [6.4516129 ],\n       [6.43870968],\n       [6.44516129],\n       [6.44516129],\n       [6.43870968],\n...\n       [6.45806452],\n       [6.43870968],\n       [6.43870968],\n       [6.44516129],\n       [6.43225806],\n       [6.43870968],\n       [6.44516129],\n       [6.4516129 ],\n       [6.46451613],\n       [6.4516129 ],\n       [6.46451613],\n       [6.4516129 ],\n       [6.4516129 ],\n       [6.43870968],\n       [6.43870968],\n       [6.43225806],\n       [6.4516129 ],\n       [6.46451613],\n       [6.46451613],\n       [6.4516129 ]])</pre></div></li><li class='xr-var-item'><div class='xr-var-name'><span>lat</span></div><div class='xr-var-dims'>(gpstime, station)</div><div class='xr-var-dtype'>float64</div><div class='xr-var-preview xr-preview'>51.39 51.39 51.39 51.39 51.39</div><input id='attrs-5988c458-7520-4690-9e3a-1465e7457d8f' class='xr-var-attrs-in' type='checkbox' ><label for='attrs-5988c458-7520-4690-9e3a-1465e7457d8f' title='Show/Hide attributes'><svg class='icon xr-icon-file-text2'><use xlink:href='#icon-file-text2'></use></svg></label><input id='data-20855c2b-592e-440d-b685-351393c9a9c1' class='xr-var-data-in' type='checkbox'><label for='data-20855c2b-592e-440d-b685-351393c9a9c1' title='Show/Hide data repr'><svg class='icon xr-icon-database'><use xlink:href='#icon-database'></use></svg></label><div class='xr-var-attrs'><dl class='xr-attrs'><dt><span>standard_name :</span></dt><dd>latitude</dd><dt><span>units :</span></dt><dd>degree_north</dd><dt><span>valid_range :</span></dt><dd>[0, 180000000]</dd></dl></div><div class='xr-var-data'><pre>array([[51.39021167],\n       [51.39021167],\n       [51.39021   ],\n       [51.39021   ],\n       [51.39020833]])</pre></div></li><li class='xr-var-item'><div class='xr-var-name'><span>lon</span></div><div class='xr-var-dims'>(gpstime, station)</div><div class='xr-var-dtype'>float64</div><div class='xr-var-preview xr-preview'>11.89 11.89 11.89 11.89 11.89</div><input id='attrs-096a3ea0-e1ba-4c13-910a-7d9c6fab463c' class='xr-var-attrs-in' type='checkbox' ><label for='attrs-096a3ea0-e1ba-4c13-910a-7d9c6fab463c' title='Show/Hide attributes'><svg class='icon xr-icon-file-text2'><use xlink:href='#icon-file-text2'></use></svg></label><input id='data-3f73b8e6-9a75-446d-ad77-e3566917f9d7' class='xr-var-data-in' type='checkbox'><label for='data-3f73b8e6-9a75-446d-ad77-e3566917f9d7' title='Show/Hide data repr'><svg class='icon xr-icon-database'><use xlink:href='#icon-database'></use></svg></label><div class='xr-var-attrs'><dl class='xr-attrs'><dt><span>standard_name :</span></dt><dd>longitude</dd><dt><span>units :</span></dt><dd>degree_east</dd><dt><span>valid_range :</span></dt><dd>[0, 360000000]</dd></dl></div><div class='xr-var-data'><pre>array([[11.885255  ],\n       [11.88525667],\n       [11.88525167],\n       [11.88525   ],\n       [11.88524667]])</pre></div></li><li class='xr-var-item'><div class='xr-var-name'><span>maintenance_flag_ghi</span></div><div class='xr-var-dims'>(station)</div><div class='xr-var-dtype'>int64</div><div class='xr-var-preview xr-preview'>9</div><input id='attrs-ea2ff398-05e9-469e-bc82-e0fe25a10436' class='xr-var-attrs-in' type='checkbox' ><label for='attrs-ea2ff398-05e9-469e-bc82-e0fe25a10436' title='Show/Hide attributes'><svg class='icon xr-icon-file-text2'><use xlink:href='#icon-file-text2'></use></svg></label><input id='data-417ad7b5-6b54-4a14-b211-5ef431ad5e97' class='xr-var-data-in' type='checkbox'><label for='data-417ad7b5-6b54-4a14-b211-5ef431ad5e97' title='Show/Hide data repr'><svg class='icon xr-icon-database'><use xlink:href='#icon-database'></use></svg></label><div class='xr-var-attrs'><dl class='xr-attrs'><dt><span>standard_name :</span></dt><dd>quality_flag</dd><dt><span>long_name :</span></dt><dd>Maintenance quality control flags for main pyranometer</dd><dt><span>note :</span></dt><dd>Soiling describes subjectively the coverage of the pyranometer dome with dirt. The level flag is problematic if the bubble of the spirit level touches the reference ring, and bad if it is outside.</dd><dt><span>valid_range :</span></dt><dd>[0, 11]</dd><dt><span>flag_masks :</span></dt><dd>[3, 3, 3, 12, 12]</dd><dt><span>flag_values :</span></dt><dd>[1, 2, 3, 4, 8]</dd><dt><span>flag_meanings :</span></dt><dd>soiling_light soiling_moderate soiling_heavy level_problematic level_bad</dd><dt><span>note_general :</span></dt><dd>this is a test; 222</dd><dt><span>note_clean :</span></dt><dd>testing notes; None</dd><dt><span>note_level :</span></dt><dd>None; test</dd></dl></div><div class='xr-var-data'><pre>array([9])</pre></div></li><li class='xr-var-item'><div class='xr-var-name'><span>maintenance_flag_gti</span></div><div class='xr-var-dims'>(station)</div><div class='xr-var-dtype'>int64</div><div class='xr-var-preview xr-preview'>7</div><input id='attrs-17506558-a0a8-42e6-82c8-94837f78cbe1' class='xr-var-attrs-in' type='checkbox' ><label for='attrs-17506558-a0a8-42e6-82c8-94837f78cbe1' title='Show/Hide attributes'><svg class='icon xr-icon-file-text2'><use xlink:href='#icon-file-text2'></use></svg></label><input id='data-586edd7f-004c-456b-8411-e4177a337593' class='xr-var-data-in' type='checkbox'><label for='data-586edd7f-004c-456b-8411-e4177a337593' title='Show/Hide data repr'><svg class='icon xr-icon-database'><use xlink:href='#icon-database'></use></svg></label><div class='xr-var-attrs'><dl class='xr-attrs'><dt><span>standard_name :</span></dt><dd>quality_flag</dd><dt><span>long_name :</span></dt><dd>Maintenance quality control flags for secondary pyranometer</dd><dt><span>note :</span></dt><dd>Soiling describes subjectively the coverage of the pyranometer dome with dirt. The level flag is problematic if the bubble of the spirit level touches the reference ring, and bad if it is outside.</dd><dt><span>valid_range :</span></dt><dd>[0, 11]</dd><dt><span>flag_masks :</span></dt><dd>[3, 3, 3, 12, 12]</dd><dt><span>flag_values :</span></dt><dd>[1, 2, 3, 4, 8]</dd><dt><span>flag_meanings :</span></dt><dd>soiling_light soiling_moderate soiling_heavy level_problematic level_bad</dd><dt><span>note_general :</span></dt><dd>this is a test; 222</dd><dt><span>note_clean :</span></dt><dd>None; None</dd><dt><span>note_level :</span></dt><dd>None; None</dd></dl></div><div class='xr-var-data'><pre>array([7])</pre></div></li><li class='xr-var-item'><div class='xr-var-name'><span>iadc</span></div><div class='xr-var-dims'>(gpstime, station)</div><div class='xr-var-dtype'>uint32</div><div class='xr-var-preview xr-preview'>26 35 54 64 74</div><input id='attrs-d4004040-0b77-4951-8f2d-2fe485eedb68' class='xr-var-attrs-in' type='checkbox' ><label for='attrs-d4004040-0b77-4951-8f2d-2fe485eedb68' title='Show/Hide attributes'><svg class='icon xr-icon-file-text2'><use xlink:href='#icon-file-text2'></use></svg></label><input id='data-7a55a022-a1fe-459a-a4ce-f0d0e5d10ae1' class='xr-var-data-in' type='checkbox'><label for='data-7a55a022-a1fe-459a-a4ce-f0d0e5d10ae1' title='Show/Hide data repr'><svg class='icon xr-icon-database'><use xlink:href='#icon-database'></use></svg></label><div class='xr-var-attrs'><dl class='xr-attrs'><dt><span>standard_name :</span></dt><dd>index</dd><dt><span>comment :</span></dt><dd>index to map gps to adc records</dd><dt><span>units :</span></dt><dd>-</dd></dl></div><div class='xr-var-data'><pre>array([[26],\n       [35],\n       [54],\n       [64],\n       [74]], dtype=uint32)</pre></div></li></ul></div></li><li class='xr-section-item'><input id='section-fa21a247-bd12-4d23-b152-64485a6c5632' class='xr-section-summary-in' type='checkbox'  ><label for='section-fa21a247-bd12-4d23-b152-64485a6c5632' class='xr-section-summary' >Indexes: <span>(3)</span></label><div class='xr-section-inline-details'></div><div class='xr-section-details'><ul class='xr-var-list'><li class='xr-var-item'><div class='xr-index-name'><div>adctime</div></div><div class='xr-index-preview'>PandasIndex</div><div></div><input id='index-ba0677e2-5988-48c2-ae79-bf1b31529809' class='xr-index-data-in' type='checkbox'/><label for='index-ba0677e2-5988-48c2-ae79-bf1b31529809' title='Show/Hide index repr'><svg class='icon xr-icon-database'><use xlink:href='#icon-database'></use></svg></label><div class='xr-index-data'><pre>PandasIndex(TimedeltaIndex([       &#x27;0 days 00:00:00&#x27;, &#x27;0 days 00:00:00.100000&#x27;,\n                &#x27;0 days 00:00:00.200000&#x27;, &#x27;0 days 00:00:00.300000&#x27;,\n                &#x27;0 days 00:00:00.400000&#x27;, &#x27;0 days 00:00:00.500000&#x27;,\n                &#x27;0 days 00:00:00.600000&#x27;, &#x27;0 days 00:00:00.700000&#x27;,\n                &#x27;0 days 00:00:00.800000&#x27;, &#x27;0 days 00:00:00.900000&#x27;,\n                       &#x27;0 days 00:00:01&#x27;, &#x27;0 days 00:00:01.100000&#x27;,\n                &#x27;0 days 00:00:01.200000&#x27;, &#x27;0 days 00:00:01.300000&#x27;,\n                &#x27;0 days 00:00:01.400000&#x27;, &#x27;0 days 00:00:01.500000&#x27;,\n                &#x27;0 days 00:00:01.600000&#x27;, &#x27;0 days 00:00:01.700000&#x27;,\n                &#x27;0 days 00:00:01.800000&#x27;, &#x27;0 days 00:00:01.900000&#x27;,\n                       &#x27;0 days 00:00:02&#x27;, &#x27;0 days 00:00:02.100000&#x27;,\n                &#x27;0 days 00:00:02.200000&#x27;, &#x27;0 days 00:00:02.300000&#x27;,\n                &#x27;0 days 00:00:02.400000&#x27;, &#x27;0 days 00:00:02.500000&#x27;,\n                &#x27;0 days 00:00:02.600000&#x27;, &#x27;0 days 00:00:02.700000&#x27;,\n                &#x27;0 days 00:00:02.800000&#x27;, &#x27;0 days 00:00:02.900000&#x27;,\n                       &#x27;0 days 00:00:03&#x27;, &#x27;0 days 00:00:03.100000&#x27;,\n                &#x27;0 days 00:00:03.200000&#x27;, &#x27;0 days 00:00:03.300000&#x27;,\n                &#x27;0 days 00:00:03.400000&#x27;, &#x27;0 days 00:00:03.500000&#x27;,\n                &#x27;0 days 00:00:03.600000&#x27;, &#x27;0 days 00:00:03.700000&#x27;,\n                &#x27;0 days 00:00:03.800000&#x27;, &#x27;0 days 00:00:03.900000&#x27;,\n                       &#x27;0 days 00:00:04&#x27;, &#x27;0 days 00:00:04.100000&#x27;,\n                &#x27;0 days 00:00:04.200000&#x27;, &#x27;0 days 00:00:04.300000&#x27;,\n                &#x27;0 days 00:00:04.400000&#x27;, &#x27;0 days 00:00:04.500000&#x27;,\n                &#x27;0 days 00:00:04.600000&#x27;, &#x27;0 days 00:00:04.700000&#x27;,\n                &#x27;0 days 00:00:04.800000&#x27;, &#x27;0 days 00:00:04.900000&#x27;,\n                       &#x27;0 days 00:00:05&#x27;, &#x27;0 days 00:00:05.100000&#x27;,\n                &#x27;0 days 00:00:05.200000&#x27;, &#x27;0 days 00:00:05.300000&#x27;,\n                &#x27;0 days 00:00:05.400000&#x27;, &#x27;0 days 00:00:05.500000&#x27;,\n                &#x27;0 days 00:00:05.600000&#x27;, &#x27;0 days 00:00:05.700000&#x27;,\n                &#x27;0 days 00:00:05.800000&#x27;, &#x27;0 days 00:00:05.900000&#x27;,\n                       &#x27;0 days 00:00:06&#x27;, &#x27;0 days 00:00:06.100000&#x27;,\n                &#x27;0 days 00:00:06.200000&#x27;, &#x27;0 days 00:00:06.300000&#x27;,\n                &#x27;0 days 00:00:06.400000&#x27;, &#x27;0 days 00:00:06.500000&#x27;,\n                &#x27;0 days 00:00:06.600000&#x27;, &#x27;0 days 00:00:06.700000&#x27;,\n                &#x27;0 days 00:00:06.800000&#x27;, &#x27;0 days 00:00:06.900000&#x27;,\n                       &#x27;0 days 00:00:07&#x27;, &#x27;0 days 00:00:07.100000&#x27;,\n                &#x27;0 days 00:00:07.200000&#x27;, &#x27;0 days 00:00:07.300000&#x27;,\n                &#x27;0 days 00:00:07.400000&#x27;, &#x27;0 days 00:00:07.500000&#x27;,\n                &#x27;0 days 00:00:07.600000&#x27;],\n               dtype=&#x27;timedelta64[ns]&#x27;, name=&#x27;adctime&#x27;, freq=None))</pre></div></li><li class='xr-var-item'><div class='xr-index-name'><div>gpstime</div></div><div class='xr-index-preview'>PandasIndex</div><div></div><input id='index-d26e92e3-888f-40a2-b5ea-c313a1a5abe3' class='xr-index-data-in' type='checkbox'/><label for='index-d26e92e3-888f-40a2-b5ea-c313a1a5abe3' title='Show/Hide index repr'><svg class='icon xr-icon-database'><use xlink:href='#icon-database'></use></svg></label><div class='xr-index-data'><pre>PandasIndex(DatetimeIndex([&#x27;2022-08-30 11:21:04.065000&#x27;, &#x27;2022-08-30 11:21:05.065000&#x27;,\n                      &#x27;2022-08-30 11:21:07&#x27;,        &#x27;2022-08-30 11:21:08&#x27;,\n                      &#x27;2022-08-30 11:21:09&#x27;],\n              dtype=&#x27;datetime64[ns]&#x27;, name=&#x27;gpstime&#x27;, freq=None))</pre></div></li><li class='xr-var-item'><div class='xr-index-name'><div>station</div></div><div class='xr-index-preview'>PandasIndex</div><div></div><input id='index-524753a2-b03e-496f-a945-ab6d0999e3d0' class='xr-index-data-in' type='checkbox'/><label for='index-524753a2-b03e-496f-a945-ab6d0999e3d0' title='Show/Hide index repr'><svg class='icon xr-icon-database'><use xlink:href='#icon-database'></use></svg></label><div class='xr-index-data'><pre>PandasIndex(Int64Index([1], dtype=&#x27;int64&#x27;, name=&#x27;station&#x27;))</pre></div></li></ul></div></li><li class='xr-section-item'><input id='section-e718eba4-bf4a-4947-8756-56c0d42257b3' class='xr-section-summary-in' type='checkbox'  ><label for='section-e718eba4-bf4a-4947-8756-56c0d42257b3' class='xr-section-summary' >Attributes: <span>(31)</span></label><div class='xr-section-inline-details'></div><div class='xr-section-details'><dl class='xr-attrs'><dt><span>title :</span></dt><dd>TROPOS pyranometer network (PyrNet) observations</dd><dt><span>institution :</span></dt><dd>Leibniz Institute for Tropospheric Research (TROPOS)</dd><dt><span>department :</span></dt><dd>Remote Sensing of Atmospheric Processes</dd><dt><span>department_team :</span></dt><dd>Clouds, Aerosol and Radiation</dd><dt><span>address :</span></dt><dd>Permoser Str. 15, 04318 Leipzig, Germany</dd><dt><span>source :</span></dt><dd>TROPOS pyranometer network (PyrNet)</dd><dt><span>contact_person :</span></dt><dd>Andreas Macke and the clouds, aerosol and radiation team of the remote sensing department, mailto:andreas.macke@tropos.de</dd><dt><span>contributor_name :</span></dt><dd></dd><dt><span>contributor_role :</span></dt><dd></dd><dt><span>authors_software :</span></dt><dd>Hartwig Deneke, Jonas Witthuhn, mailto:deneke@tropos.de</dd><dt><span>creator_name :</span></dt><dd></dd><dt><span>project :</span></dt><dd></dd><dt><span>references :</span></dt><dd>https://doi.org/10.5194/amt-9-1153-2016</dd><dt><span>standard_name_vocabulary :</span></dt><dd>CF Standard Name Table v81</dd><dt><span>conventions :</span></dt><dd>CF-1.10, ACDD-1.3</dd><dt><span>license :</span></dt><dd>CC-BY-SA 3.0</dd><dt><span>TESTNOTE :</span></dt><dd>This is a test note.</dd><dt><span>processing_level :</span></dt><dd>l1a</dd><dt><span>product_version :</span></dt><dd>0.1.10+15.g5f0229e.dirty</dd><dt><span>history :</span></dt><dd>2024-01-31T07:48:49: Generated level l1a  by pyrnet version 0.1.10+15.g5f0229e.dirty; </dd><dt><span>date_created :</span></dt><dd>2024-01-31T07:48:49</dd><dt><span>geospatial_lat_min :</span></dt><dd>51.390208333333334</dd><dt><span>geospatial_lat_max :</span></dt><dd>51.390211666666666</dd><dt><span>geospatial_lat_units :</span></dt><dd>degN</dd><dt><span>geospatial_lon_min :</span></dt><dd>11.885246666666667</dd><dt><span>geospatial_lon_max :</span></dt><dd>11.885256666666667</dd><dt><span>geospatial_lon_units :</span></dt><dd>degE</dd><dt><span>time_coverage_start :</span></dt><dd>2022-08-30T11:21:04.065000</dd><dt><span>time_coverage_end :</span></dt><dd>2022-08-30T11:21:09</dd><dt><span>time_coverage_duration :</span></dt><dd>P0DT0H0M4.935S</dd><dt><span>time_coverage_resolution :</span></dt><dd>P0DT0H0M1.23375S</dd></dl></div></li></ul></div></div>"
     },
     "execution_count": 17,
     "metadata": {},
     "output_type": "execute_result"
    }
   ],
   "source": [
    "#|dropout\n",
    "fn_report = \"../../example_data/results-survey224783.csv\"\n",
    "fn_data = \"../../example_data/Pyr9_000.bin\"\n",
    "\n",
    "fn_cfmeta = pkg_res.resource_filename(\"pyrnet\", \"share/pyrnet_cfmeta.json\")\n",
    "\n",
    "\n",
    "# parse report\n",
    "df_report = pyrreports.get_responses(fn=\"../../example_data/results-survey224783.csv\")\n",
    "report = pyrreports.parse_report(df_report,\n",
    "                              date_of_maintenance=np.datetime64(\"2023-05-08T12:00\"))\n",
    "# read logger file to xarray\n",
    "ds = to_l1a(\n",
    "    fname=fn_data,\n",
    "    station=1, # actually test data is from station 9, but test reports are for station 1 and 2 only\n",
    "    # bins=86400, # seconds resolution\n",
    "    report=report,\n",
    "    config={\"file_cfmeta\": fn_cfmeta, \"stripminutes\": 0},\n",
    "    global_attrs={\"TESTNOTE\": \"This is a test note.\"}\n",
    ")\n",
    "\n",
    "ds.to_netcdf(\"../../example_data/to_l1a_output.nc\")\n",
    "ds"
   ],
   "metadata": {
    "collapsed": false,
    "ExecuteTime": {
     "end_time": "2024-01-31T07:48:50.092797200Z",
     "start_time": "2024-01-31T07:48:49.679951500Z"
    }
   }
  },
  {
   "cell_type": "code",
   "execution_count": 18,
   "outputs": [
    {
     "data": {
      "text/plain": "{'_FillValue': 255, 'zlib': True, 'dtype': 'u1', 'gzip': True, 'complevel': 6}"
     },
     "execution_count": 18,
     "metadata": {},
     "output_type": "execute_result"
    }
   ],
   "source": [
    "ds.maintenance_flag_ghi.encoding"
   ],
   "metadata": {
    "collapsed": false,
    "ExecuteTime": {
     "end_time": "2024-01-31T07:48:50.096786Z",
     "start_time": "2024-01-31T07:48:49.879068400Z"
    }
   }
  },
  {
   "cell_type": "code",
   "execution_count": 19,
   "outputs": [
    {
     "data": {
      "text/plain": "<class 'netCDF4._netCDF4.Dataset'>\nroot group (NETCDF4 data model, file format HDF5):\n    title: TROPOS pyranometer network (PyrNet) observations\n    institution: Leibniz Institute for Tropospheric Research (TROPOS)\n    department: Remote Sensing of Atmospheric Processes\n    department_team: Clouds, Aerosol and Radiation\n    address: Permoser Str. 15, 04318 Leipzig, Germany\n    source: TROPOS pyranometer network (PyrNet)\n    contact_person: Andreas Macke and the clouds, aerosol and radiation team of the remote sensing department, mailto:andreas.macke@tropos.de\n    contributor_name: \n    contributor_role: \n    authors_software: Hartwig Deneke, Jonas Witthuhn, mailto:deneke@tropos.de\n    creator_name: \n    project: \n    references: https://doi.org/10.5194/amt-9-1153-2016\n    standard_name_vocabulary: CF Standard Name Table v81\n    conventions: CF-1.10, ACDD-1.3\n    license: CC-BY-SA 3.0\n    TESTNOTE: This is a test note.\n    processing_level: l1a\n    product_version: 0.1.10+15.g5f0229e.dirty\n    history: 2024-01-31T07:48:49: Generated level l1a  by pyrnet version 0.1.10+15.g5f0229e.dirty; \n    date_created: 2024-01-31T07:48:49\n    geospatial_lat_min: 51.390208333333334\n    geospatial_lat_max: 51.390211666666666\n    geospatial_lat_units: degN\n    geospatial_lon_min: 11.885246666666667\n    geospatial_lon_max: 11.885256666666667\n    geospatial_lon_units: degE\n    time_coverage_start: 2022-08-30T11:21:04.065000\n    time_coverage_end: 2022-08-30T11:21:09\n    time_coverage_duration: P0DT0H0M4.935S\n    time_coverage_resolution: P0DT0H0M1.23375S\n    dimensions(sizes): adctime(77), station(1), gpstime(5)\n    variables(dimensions): uint16 ghi(adctime, station), uint16 gti(adctime, station), uint16 ta(adctime, station), uint16 rh(adctime, station), uint16 battery_voltage(adctime, station), uint32 lat(gpstime, station), uint32 lon(gpstime, station), uint8 maintenance_flag_ghi(station), uint8 maintenance_flag_gti(station), uint32 iadc(gpstime, station), uint32 adctime(adctime), float64 gpstime(gpstime), uint8 station(station)\n    groups: "
     },
     "execution_count": 19,
     "metadata": {},
     "output_type": "execute_result"
    }
   ],
   "source": [
    "#|dropout\n",
    "import netCDF4\n",
    "netCDF4.Dataset(\"../../example_data/to_l1a_output.nc\",'r')"
   ],
   "metadata": {
    "collapsed": false,
    "ExecuteTime": {
     "end_time": "2024-01-31T07:48:50.098780900Z",
     "start_time": "2024-01-31T07:48:49.898386500Z"
    }
   }
  },
  {
   "cell_type": "markdown",
   "source": [
    "\n",
    "\n",
    "## l1b\n",
    "Resampled, calibrated data as daily files per station. Resampling is per default to one second, but can be configured.\n"
   ],
   "metadata": {
    "collapsed": false
   }
  },
  {
   "cell_type": "code",
   "execution_count": 20,
   "outputs": [],
   "source": [
    "fname = \"../../example_data/to_l1a_output.nc\"\n",
    "config = {\n",
    "    \"l1bfreq\":\"1s\",\n",
    "    \"stripminutes\":5,\n",
    "    \"average_latlon\":True,\n",
    "}\n",
    "\n",
    "config = get_config(config)\n",
    "gattrs, vattrs, vencode = get_cfmeta(config)\n"
   ],
   "metadata": {
    "collapsed": false,
    "ExecuteTime": {
     "end_time": "2024-01-31T07:48:50.098780900Z",
     "start_time": "2024-01-31T07:48:49.943081500Z"
    }
   }
  },
  {
   "cell_type": "markdown",
   "source": [
    "The l1b data is processed from the l1b data with the following workflow:\n",
    "\n",
    "1. Read l1a netcdf\n",
    "2. Sync GPS to ADC time\n",
    "    * ```sync_adc_time```\n",
    "3. Make dataset with new time"
   ],
   "metadata": {
    "collapsed": false
   }
  },
  {
   "cell_type": "code",
   "execution_count": 21,
   "outputs": [
    {
     "data": {
      "text/plain": "<xarray.Dataset>\nDimensions:          (time: 77, station: 1)\nCoordinates:\n  * station          (station) float32 1.0\n  * time             (time) datetime64[ns] 2022-08-30T11:21:01.443000 ... 202...\nData variables:\n    ghi              (time, station) float32 ...\n    gti              (time, station) float32 ...\n    ta               (time, station) float32 ...\n    rh               (time, station) float32 ...\n    battery_voltage  (time, station) float32 ...\nAttributes: (12/31)\n    title:                     TROPOS pyranometer network (PyrNet) observations\n    institution:               Leibniz Institute for Tropospheric Research (T...\n    department:                Remote Sensing of Atmospheric Processes\n    department_team:           Clouds, Aerosol and Radiation\n    address:                   Permoser Str. 15, 04318 Leipzig, Germany\n    source:                    TROPOS pyranometer network (PyrNet)\n    ...                        ...\n    geospatial_lon_max:        11.885256666666667\n    geospatial_lon_units:      degE\n    time_coverage_start:       2022-08-30T11:21:04.065000\n    time_coverage_end:         2022-08-30T11:21:09\n    time_coverage_duration:    P0DT0H0M4.935S\n    time_coverage_resolution:  P0DT0H0M1.23375S",
      "text/html": "<div><svg style=\"position: absolute; width: 0; height: 0; overflow: hidden\">\n<defs>\n<symbol id=\"icon-database\" viewBox=\"0 0 32 32\">\n<path d=\"M16 0c-8.837 0-16 2.239-16 5v4c0 2.761 7.163 5 16 5s16-2.239 16-5v-4c0-2.761-7.163-5-16-5z\"></path>\n<path d=\"M16 17c-8.837 0-16-2.239-16-5v6c0 2.761 7.163 5 16 5s16-2.239 16-5v-6c0 2.761-7.163 5-16 5z\"></path>\n<path d=\"M16 26c-8.837 0-16-2.239-16-5v6c0 2.761 7.163 5 16 5s16-2.239 16-5v-6c0 2.761-7.163 5-16 5z\"></path>\n</symbol>\n<symbol id=\"icon-file-text2\" viewBox=\"0 0 32 32\">\n<path d=\"M28.681 7.159c-0.694-0.947-1.662-2.053-2.724-3.116s-2.169-2.030-3.116-2.724c-1.612-1.182-2.393-1.319-2.841-1.319h-15.5c-1.378 0-2.5 1.121-2.5 2.5v27c0 1.378 1.122 2.5 2.5 2.5h23c1.378 0 2.5-1.122 2.5-2.5v-19.5c0-0.448-0.137-1.23-1.319-2.841zM24.543 5.457c0.959 0.959 1.712 1.825 2.268 2.543h-4.811v-4.811c0.718 0.556 1.584 1.309 2.543 2.268zM28 29.5c0 0.271-0.229 0.5-0.5 0.5h-23c-0.271 0-0.5-0.229-0.5-0.5v-27c0-0.271 0.229-0.5 0.5-0.5 0 0 15.499-0 15.5 0v7c0 0.552 0.448 1 1 1h7v19.5z\"></path>\n<path d=\"M23 26h-14c-0.552 0-1-0.448-1-1s0.448-1 1-1h14c0.552 0 1 0.448 1 1s-0.448 1-1 1z\"></path>\n<path d=\"M23 22h-14c-0.552 0-1-0.448-1-1s0.448-1 1-1h14c0.552 0 1 0.448 1 1s-0.448 1-1 1z\"></path>\n<path d=\"M23 18h-14c-0.552 0-1-0.448-1-1s0.448-1 1-1h14c0.552 0 1 0.448 1 1s-0.448 1-1 1z\"></path>\n</symbol>\n</defs>\n</svg>\n<style>/* CSS stylesheet for displaying xarray objects in jupyterlab.\n *\n */\n\n:root {\n  --xr-font-color0: var(--jp-content-font-color0, rgba(0, 0, 0, 1));\n  --xr-font-color2: var(--jp-content-font-color2, rgba(0, 0, 0, 0.54));\n  --xr-font-color3: var(--jp-content-font-color3, rgba(0, 0, 0, 0.38));\n  --xr-border-color: var(--jp-border-color2, #e0e0e0);\n  --xr-disabled-color: var(--jp-layout-color3, #bdbdbd);\n  --xr-background-color: var(--jp-layout-color0, white);\n  --xr-background-color-row-even: var(--jp-layout-color1, white);\n  --xr-background-color-row-odd: var(--jp-layout-color2, #eeeeee);\n}\n\nhtml[theme=dark],\nbody[data-theme=dark],\nbody.vscode-dark {\n  --xr-font-color0: rgba(255, 255, 255, 1);\n  --xr-font-color2: rgba(255, 255, 255, 0.54);\n  --xr-font-color3: rgba(255, 255, 255, 0.38);\n  --xr-border-color: #1F1F1F;\n  --xr-disabled-color: #515151;\n  --xr-background-color: #111111;\n  --xr-background-color-row-even: #111111;\n  --xr-background-color-row-odd: #313131;\n}\n\n.xr-wrap {\n  display: block !important;\n  min-width: 300px;\n  max-width: 700px;\n}\n\n.xr-text-repr-fallback {\n  /* fallback to plain text repr when CSS is not injected (untrusted notebook) */\n  display: none;\n}\n\n.xr-header {\n  padding-top: 6px;\n  padding-bottom: 6px;\n  margin-bottom: 4px;\n  border-bottom: solid 1px var(--xr-border-color);\n}\n\n.xr-header > div,\n.xr-header > ul {\n  display: inline;\n  margin-top: 0;\n  margin-bottom: 0;\n}\n\n.xr-obj-type,\n.xr-array-name {\n  margin-left: 2px;\n  margin-right: 10px;\n}\n\n.xr-obj-type {\n  color: var(--xr-font-color2);\n}\n\n.xr-sections {\n  padding-left: 0 !important;\n  display: grid;\n  grid-template-columns: 150px auto auto 1fr 20px 20px;\n}\n\n.xr-section-item {\n  display: contents;\n}\n\n.xr-section-item input {\n  display: none;\n}\n\n.xr-section-item input + label {\n  color: var(--xr-disabled-color);\n}\n\n.xr-section-item input:enabled + label {\n  cursor: pointer;\n  color: var(--xr-font-color2);\n}\n\n.xr-section-item input:enabled + label:hover {\n  color: var(--xr-font-color0);\n}\n\n.xr-section-summary {\n  grid-column: 1;\n  color: var(--xr-font-color2);\n  font-weight: 500;\n}\n\n.xr-section-summary > span {\n  display: inline-block;\n  padding-left: 0.5em;\n}\n\n.xr-section-summary-in:disabled + label {\n  color: var(--xr-font-color2);\n}\n\n.xr-section-summary-in + label:before {\n  display: inline-block;\n  content: '►';\n  font-size: 11px;\n  width: 15px;\n  text-align: center;\n}\n\n.xr-section-summary-in:disabled + label:before {\n  color: var(--xr-disabled-color);\n}\n\n.xr-section-summary-in:checked + label:before {\n  content: '▼';\n}\n\n.xr-section-summary-in:checked + label > span {\n  display: none;\n}\n\n.xr-section-summary,\n.xr-section-inline-details {\n  padding-top: 4px;\n  padding-bottom: 4px;\n}\n\n.xr-section-inline-details {\n  grid-column: 2 / -1;\n}\n\n.xr-section-details {\n  display: none;\n  grid-column: 1 / -1;\n  margin-bottom: 5px;\n}\n\n.xr-section-summary-in:checked ~ .xr-section-details {\n  display: contents;\n}\n\n.xr-array-wrap {\n  grid-column: 1 / -1;\n  display: grid;\n  grid-template-columns: 20px auto;\n}\n\n.xr-array-wrap > label {\n  grid-column: 1;\n  vertical-align: top;\n}\n\n.xr-preview {\n  color: var(--xr-font-color3);\n}\n\n.xr-array-preview,\n.xr-array-data {\n  padding: 0 5px !important;\n  grid-column: 2;\n}\n\n.xr-array-data,\n.xr-array-in:checked ~ .xr-array-preview {\n  display: none;\n}\n\n.xr-array-in:checked ~ .xr-array-data,\n.xr-array-preview {\n  display: inline-block;\n}\n\n.xr-dim-list {\n  display: inline-block !important;\n  list-style: none;\n  padding: 0 !important;\n  margin: 0;\n}\n\n.xr-dim-list li {\n  display: inline-block;\n  padding: 0;\n  margin: 0;\n}\n\n.xr-dim-list:before {\n  content: '(';\n}\n\n.xr-dim-list:after {\n  content: ')';\n}\n\n.xr-dim-list li:not(:last-child):after {\n  content: ',';\n  padding-right: 5px;\n}\n\n.xr-has-index {\n  font-weight: bold;\n}\n\n.xr-var-list,\n.xr-var-item {\n  display: contents;\n}\n\n.xr-var-item > div,\n.xr-var-item label,\n.xr-var-item > .xr-var-name span {\n  background-color: var(--xr-background-color-row-even);\n  margin-bottom: 0;\n}\n\n.xr-var-item > .xr-var-name:hover span {\n  padding-right: 5px;\n}\n\n.xr-var-list > li:nth-child(odd) > div,\n.xr-var-list > li:nth-child(odd) > label,\n.xr-var-list > li:nth-child(odd) > .xr-var-name span {\n  background-color: var(--xr-background-color-row-odd);\n}\n\n.xr-var-name {\n  grid-column: 1;\n}\n\n.xr-var-dims {\n  grid-column: 2;\n}\n\n.xr-var-dtype {\n  grid-column: 3;\n  text-align: right;\n  color: var(--xr-font-color2);\n}\n\n.xr-var-preview {\n  grid-column: 4;\n}\n\n.xr-index-preview {\n  grid-column: 2 / 5;\n  color: var(--xr-font-color2);\n}\n\n.xr-var-name,\n.xr-var-dims,\n.xr-var-dtype,\n.xr-preview,\n.xr-attrs dt {\n  white-space: nowrap;\n  overflow: hidden;\n  text-overflow: ellipsis;\n  padding-right: 10px;\n}\n\n.xr-var-name:hover,\n.xr-var-dims:hover,\n.xr-var-dtype:hover,\n.xr-attrs dt:hover {\n  overflow: visible;\n  width: auto;\n  z-index: 1;\n}\n\n.xr-var-attrs,\n.xr-var-data,\n.xr-index-data {\n  display: none;\n  background-color: var(--xr-background-color) !important;\n  padding-bottom: 5px !important;\n}\n\n.xr-var-attrs-in:checked ~ .xr-var-attrs,\n.xr-var-data-in:checked ~ .xr-var-data,\n.xr-index-data-in:checked ~ .xr-index-data {\n  display: block;\n}\n\n.xr-var-data > table {\n  float: right;\n}\n\n.xr-var-name span,\n.xr-var-data,\n.xr-index-name div,\n.xr-index-data,\n.xr-attrs {\n  padding-left: 25px !important;\n}\n\n.xr-attrs,\n.xr-var-attrs,\n.xr-var-data,\n.xr-index-data {\n  grid-column: 1 / -1;\n}\n\ndl.xr-attrs {\n  padding: 0;\n  margin: 0;\n  display: grid;\n  grid-template-columns: 125px auto;\n}\n\n.xr-attrs dt,\n.xr-attrs dd {\n  padding: 0;\n  margin: 0;\n  float: left;\n  padding-right: 10px;\n  width: auto;\n}\n\n.xr-attrs dt {\n  font-weight: normal;\n  grid-column: 1;\n}\n\n.xr-attrs dt:hover span {\n  display: inline-block;\n  background: var(--xr-background-color);\n  padding-right: 10px;\n}\n\n.xr-attrs dd {\n  grid-column: 2;\n  white-space: pre-wrap;\n  word-break: break-all;\n}\n\n.xr-icon-database,\n.xr-icon-file-text2,\n.xr-no-icon {\n  display: inline-block;\n  vertical-align: middle;\n  width: 1em;\n  height: 1.5em !important;\n  stroke-width: 0;\n  stroke: currentColor;\n  fill: currentColor;\n}\n</style><pre class='xr-text-repr-fallback'>&lt;xarray.Dataset&gt;\nDimensions:          (time: 77, station: 1)\nCoordinates:\n  * station          (station) float32 1.0\n  * time             (time) datetime64[ns] 2022-08-30T11:21:01.443000 ... 202...\nData variables:\n    ghi              (time, station) float32 ...\n    gti              (time, station) float32 ...\n    ta               (time, station) float32 ...\n    rh               (time, station) float32 ...\n    battery_voltage  (time, station) float32 ...\nAttributes: (12/31)\n    title:                     TROPOS pyranometer network (PyrNet) observations\n    institution:               Leibniz Institute for Tropospheric Research (T...\n    department:                Remote Sensing of Atmospheric Processes\n    department_team:           Clouds, Aerosol and Radiation\n    address:                   Permoser Str. 15, 04318 Leipzig, Germany\n    source:                    TROPOS pyranometer network (PyrNet)\n    ...                        ...\n    geospatial_lon_max:        11.885256666666667\n    geospatial_lon_units:      degE\n    time_coverage_start:       2022-08-30T11:21:04.065000\n    time_coverage_end:         2022-08-30T11:21:09\n    time_coverage_duration:    P0DT0H0M4.935S\n    time_coverage_resolution:  P0DT0H0M1.23375S</pre><div class='xr-wrap' style='display:none'><div class='xr-header'><div class='xr-obj-type'>xarray.Dataset</div></div><ul class='xr-sections'><li class='xr-section-item'><input id='section-03139275-58f6-47f4-ba42-a649b4f90911' class='xr-section-summary-in' type='checkbox' disabled ><label for='section-03139275-58f6-47f4-ba42-a649b4f90911' class='xr-section-summary'  title='Expand/collapse section'>Dimensions:</label><div class='xr-section-inline-details'><ul class='xr-dim-list'><li><span class='xr-has-index'>time</span>: 77</li><li><span class='xr-has-index'>station</span>: 1</li></ul></div><div class='xr-section-details'></div></li><li class='xr-section-item'><input id='section-47e723de-30ab-4bdb-b69f-ab63aaa870e3' class='xr-section-summary-in' type='checkbox'  checked><label for='section-47e723de-30ab-4bdb-b69f-ab63aaa870e3' class='xr-section-summary' >Coordinates: <span>(2)</span></label><div class='xr-section-inline-details'></div><div class='xr-section-details'><ul class='xr-var-list'><li class='xr-var-item'><div class='xr-var-name'><span class='xr-has-index'>station</span></div><div class='xr-var-dims'>(station)</div><div class='xr-var-dtype'>float32</div><div class='xr-var-preview xr-preview'>1.0</div><input id='attrs-38aa2e50-c625-4669-8bc0-cdacf45b0bc4' class='xr-var-attrs-in' type='checkbox' ><label for='attrs-38aa2e50-c625-4669-8bc0-cdacf45b0bc4' title='Show/Hide attributes'><svg class='icon xr-icon-file-text2'><use xlink:href='#icon-file-text2'></use></svg></label><input id='data-5bf149bb-b2cf-40a5-ad71-d10972be74a3' class='xr-var-data-in' type='checkbox'><label for='data-5bf149bb-b2cf-40a5-ad71-d10972be74a3' title='Show/Hide data repr'><svg class='icon xr-icon-database'><use xlink:href='#icon-database'></use></svg></label><div class='xr-var-attrs'><dl class='xr-attrs'><dt><span>units :</span></dt><dd>-</dd><dt><span>long_name :</span></dt><dd>PyrNet unit box number</dd></dl></div><div class='xr-var-data'><pre>array([1.], dtype=float32)</pre></div></li><li class='xr-var-item'><div class='xr-var-name'><span class='xr-has-index'>time</span></div><div class='xr-var-dims'>(time)</div><div class='xr-var-dtype'>datetime64[ns]</div><div class='xr-var-preview xr-preview'>2022-08-30T11:21:01.443000 ... 2...</div><input id='attrs-d8039f86-cb44-4b83-a8a5-7eaf2e2eecc9' class='xr-var-attrs-in' type='checkbox' disabled><label for='attrs-d8039f86-cb44-4b83-a8a5-7eaf2e2eecc9' title='Show/Hide attributes'><svg class='icon xr-icon-file-text2'><use xlink:href='#icon-file-text2'></use></svg></label><input id='data-b2d4864f-c764-4d86-b121-4732aaff3736' class='xr-var-data-in' type='checkbox'><label for='data-b2d4864f-c764-4d86-b121-4732aaff3736' title='Show/Hide data repr'><svg class='icon xr-icon-database'><use xlink:href='#icon-database'></use></svg></label><div class='xr-var-attrs'><dl class='xr-attrs'></dl></div><div class='xr-var-data'><pre>array([&#x27;2022-08-30T11:21:01.443000000&#x27;, &#x27;2022-08-30T11:21:01.545000000&#x27;,\n       &#x27;2022-08-30T11:21:01.647000000&#x27;, &#x27;2022-08-30T11:21:01.750000000&#x27;,\n       &#x27;2022-08-30T11:21:01.852000000&#x27;, &#x27;2022-08-30T11:21:01.955000000&#x27;,\n       &#x27;2022-08-30T11:21:02.057000000&#x27;, &#x27;2022-08-30T11:21:02.160000000&#x27;,\n       &#x27;2022-08-30T11:21:02.262000000&#x27;, &#x27;2022-08-30T11:21:02.364000000&#x27;,\n       &#x27;2022-08-30T11:21:02.467000000&#x27;, &#x27;2022-08-30T11:21:02.569000000&#x27;,\n       &#x27;2022-08-30T11:21:02.672000000&#x27;, &#x27;2022-08-30T11:21:02.774000000&#x27;,\n       &#x27;2022-08-30T11:21:02.877000000&#x27;, &#x27;2022-08-30T11:21:02.979000000&#x27;,\n       &#x27;2022-08-30T11:21:03.081000000&#x27;, &#x27;2022-08-30T11:21:03.184000000&#x27;,\n       &#x27;2022-08-30T11:21:03.286000000&#x27;, &#x27;2022-08-30T11:21:03.389000000&#x27;,\n       &#x27;2022-08-30T11:21:03.491000000&#x27;, &#x27;2022-08-30T11:21:03.594000000&#x27;,\n       &#x27;2022-08-30T11:21:03.696000000&#x27;, &#x27;2022-08-30T11:21:03.799000000&#x27;,\n       &#x27;2022-08-30T11:21:03.901000000&#x27;, &#x27;2022-08-30T11:21:04.003000000&#x27;,\n       &#x27;2022-08-30T11:21:04.106000000&#x27;, &#x27;2022-08-30T11:21:04.208000000&#x27;,\n       &#x27;2022-08-30T11:21:04.311000000&#x27;, &#x27;2022-08-30T11:21:04.413000000&#x27;,\n       &#x27;2022-08-30T11:21:04.516000000&#x27;, &#x27;2022-08-30T11:21:04.618000000&#x27;,\n       &#x27;2022-08-30T11:21:04.720000000&#x27;, &#x27;2022-08-30T11:21:04.823000000&#x27;,\n       &#x27;2022-08-30T11:21:04.925000000&#x27;, &#x27;2022-08-30T11:21:05.028000000&#x27;,\n       &#x27;2022-08-30T11:21:05.130000000&#x27;, &#x27;2022-08-30T11:21:05.233000000&#x27;,\n       &#x27;2022-08-30T11:21:05.335000000&#x27;, &#x27;2022-08-30T11:21:05.438000000&#x27;,\n       &#x27;2022-08-30T11:21:05.540000000&#x27;, &#x27;2022-08-30T11:21:05.642000000&#x27;,\n       &#x27;2022-08-30T11:21:05.745000000&#x27;, &#x27;2022-08-30T11:21:05.847000000&#x27;,\n       &#x27;2022-08-30T11:21:05.950000000&#x27;, &#x27;2022-08-30T11:21:06.052000000&#x27;,\n       &#x27;2022-08-30T11:21:06.155000000&#x27;, &#x27;2022-08-30T11:21:06.257000000&#x27;,\n       &#x27;2022-08-30T11:21:06.359000000&#x27;, &#x27;2022-08-30T11:21:06.462000000&#x27;,\n       &#x27;2022-08-30T11:21:06.564000000&#x27;, &#x27;2022-08-30T11:21:06.667000000&#x27;,\n       &#x27;2022-08-30T11:21:06.769000000&#x27;, &#x27;2022-08-30T11:21:06.872000000&#x27;,\n       &#x27;2022-08-30T11:21:06.974000000&#x27;, &#x27;2022-08-30T11:21:07.077000000&#x27;,\n       &#x27;2022-08-30T11:21:07.179000000&#x27;, &#x27;2022-08-30T11:21:07.281000000&#x27;,\n       &#x27;2022-08-30T11:21:07.384000000&#x27;, &#x27;2022-08-30T11:21:07.486000000&#x27;,\n       &#x27;2022-08-30T11:21:07.589000000&#x27;, &#x27;2022-08-30T11:21:07.691000000&#x27;,\n       &#x27;2022-08-30T11:21:07.794000000&#x27;, &#x27;2022-08-30T11:21:07.896000000&#x27;,\n       &#x27;2022-08-30T11:21:07.998000000&#x27;, &#x27;2022-08-30T11:21:08.101000000&#x27;,\n       &#x27;2022-08-30T11:21:08.203000000&#x27;, &#x27;2022-08-30T11:21:08.306000000&#x27;,\n       &#x27;2022-08-30T11:21:08.408000000&#x27;, &#x27;2022-08-30T11:21:08.511000000&#x27;,\n       &#x27;2022-08-30T11:21:08.613000000&#x27;, &#x27;2022-08-30T11:21:08.715000000&#x27;,\n       &#x27;2022-08-30T11:21:08.818000000&#x27;, &#x27;2022-08-30T11:21:08.920000000&#x27;,\n       &#x27;2022-08-30T11:21:09.023000000&#x27;, &#x27;2022-08-30T11:21:09.125000000&#x27;,\n       &#x27;2022-08-30T11:21:09.228000000&#x27;], dtype=&#x27;datetime64[ns]&#x27;)</pre></div></li></ul></div></li><li class='xr-section-item'><input id='section-e83ea95b-ba32-4c4c-b66c-84ec6b1e529e' class='xr-section-summary-in' type='checkbox'  checked><label for='section-e83ea95b-ba32-4c4c-b66c-84ec6b1e529e' class='xr-section-summary' >Data variables: <span>(5)</span></label><div class='xr-section-inline-details'></div><div class='xr-section-details'><ul class='xr-var-list'><li class='xr-var-item'><div class='xr-var-name'><span>ghi</span></div><div class='xr-var-dims'>(time, station)</div><div class='xr-var-dtype'>float32</div><div class='xr-var-preview xr-preview'>...</div><input id='attrs-41db7cb7-67ec-4c04-a625-6e4e2eab6706' class='xr-var-attrs-in' type='checkbox' ><label for='attrs-41db7cb7-67ec-4c04-a625-6e4e2eab6706' title='Show/Hide attributes'><svg class='icon xr-icon-file-text2'><use xlink:href='#icon-file-text2'></use></svg></label><input id='data-ad19d0db-b2ee-456a-813a-c6f2a6570963' class='xr-var-data-in' type='checkbox'><label for='data-ad19d0db-b2ee-456a-813a-c6f2a6570963' title='Show/Hide data repr'><svg class='icon xr-icon-database'><use xlink:href='#icon-database'></use></svg></label><div class='xr-var-attrs'><dl class='xr-attrs'><dt><span>units :</span></dt><dd>V</dd><dt><span>long_name :</span></dt><dd>downwelling shortwave flux</dd><dt><span>standard_name :</span></dt><dd>downwelling_shortwave_flux_in_air</dd><dt><span>valid_range :</span></dt><dd>[   0 1023]</dd></dl></div><div class='xr-var-data'><pre>[77 values with dtype=float32]</pre></div></li><li class='xr-var-item'><div class='xr-var-name'><span>gti</span></div><div class='xr-var-dims'>(time, station)</div><div class='xr-var-dtype'>float32</div><div class='xr-var-preview xr-preview'>...</div><input id='attrs-6eaf295e-78b0-4e46-a4df-7bee2233867f' class='xr-var-attrs-in' type='checkbox' ><label for='attrs-6eaf295e-78b0-4e46-a4df-7bee2233867f' title='Show/Hide attributes'><svg class='icon xr-icon-file-text2'><use xlink:href='#icon-file-text2'></use></svg></label><input id='data-fc24c1f6-497e-40fe-aad5-20ceb5a746fb' class='xr-var-data-in' type='checkbox'><label for='data-fc24c1f6-497e-40fe-aad5-20ceb5a746fb' title='Show/Hide data repr'><svg class='icon xr-icon-database'><use xlink:href='#icon-database'></use></svg></label><div class='xr-var-attrs'><dl class='xr-attrs'><dt><span>units :</span></dt><dd>V</dd><dt><span>long_name :</span></dt><dd>downwelling shortwave flux measured on secondary platform, might be tilted</dd><dt><span>standard_name :</span></dt><dd>downwelling_shortwave_flux_in_air</dd><dt><span>valid_range :</span></dt><dd>[   0 1023]</dd><dt><span>hangle :</span></dt><dd>0.0</dd><dt><span>vangle :</span></dt><dd>0.0</dd></dl></div><div class='xr-var-data'><pre>[77 values with dtype=float32]</pre></div></li><li class='xr-var-item'><div class='xr-var-name'><span>ta</span></div><div class='xr-var-dims'>(time, station)</div><div class='xr-var-dtype'>float32</div><div class='xr-var-preview xr-preview'>...</div><input id='attrs-427a79df-3b3a-42ef-9b4d-e23537cc525f' class='xr-var-attrs-in' type='checkbox' ><label for='attrs-427a79df-3b3a-42ef-9b4d-e23537cc525f' title='Show/Hide attributes'><svg class='icon xr-icon-file-text2'><use xlink:href='#icon-file-text2'></use></svg></label><input id='data-7b28f2b5-d811-4b6d-8ad7-e8db51522268' class='xr-var-data-in' type='checkbox'><label for='data-7b28f2b5-d811-4b6d-8ad7-e8db51522268' title='Show/Hide data repr'><svg class='icon xr-icon-database'><use xlink:href='#icon-database'></use></svg></label><div class='xr-var-attrs'><dl class='xr-attrs'><dt><span>units :</span></dt><dd>K</dd><dt><span>long_name :</span></dt><dd>air temperature</dd><dt><span>standard_name :</span></dt><dd>air_temperature</dd><dt><span>valid_range :</span></dt><dd>[  0 775]</dd></dl></div><div class='xr-var-data'><pre>[77 values with dtype=float32]</pre></div></li><li class='xr-var-item'><div class='xr-var-name'><span>rh</span></div><div class='xr-var-dims'>(time, station)</div><div class='xr-var-dtype'>float32</div><div class='xr-var-preview xr-preview'>...</div><input id='attrs-5b18e29c-d291-499d-b205-994426b1cd9c' class='xr-var-attrs-in' type='checkbox' ><label for='attrs-5b18e29c-d291-499d-b205-994426b1cd9c' title='Show/Hide attributes'><svg class='icon xr-icon-file-text2'><use xlink:href='#icon-file-text2'></use></svg></label><input id='data-abee885d-d726-4b0e-b485-2cec0eac34f0' class='xr-var-data-in' type='checkbox'><label for='data-abee885d-d726-4b0e-b485-2cec0eac34f0' title='Show/Hide data repr'><svg class='icon xr-icon-database'><use xlink:href='#icon-database'></use></svg></label><div class='xr-var-attrs'><dl class='xr-attrs'><dt><span>units :</span></dt><dd>1</dd><dt><span>long_name :</span></dt><dd>air relative humidity</dd><dt><span>standard_name :</span></dt><dd>relative_humidity</dd><dt><span>valid_range :</span></dt><dd>[  0 775]</dd></dl></div><div class='xr-var-data'><pre>[77 values with dtype=float32]</pre></div></li><li class='xr-var-item'><div class='xr-var-name'><span>battery_voltage</span></div><div class='xr-var-dims'>(time, station)</div><div class='xr-var-dtype'>float32</div><div class='xr-var-preview xr-preview'>...</div><input id='attrs-1e0d467f-a3d4-4c80-b2f8-eb7b91665e1b' class='xr-var-attrs-in' type='checkbox' ><label for='attrs-1e0d467f-a3d4-4c80-b2f8-eb7b91665e1b' title='Show/Hide attributes'><svg class='icon xr-icon-file-text2'><use xlink:href='#icon-file-text2'></use></svg></label><input id='data-bd8e54e8-367f-48e5-a41c-826b38f37c3d' class='xr-var-data-in' type='checkbox'><label for='data-bd8e54e8-367f-48e5-a41c-826b38f37c3d' title='Show/Hide data repr'><svg class='icon xr-icon-database'><use xlink:href='#icon-database'></use></svg></label><div class='xr-var-attrs'><dl class='xr-attrs'><dt><span>units :</span></dt><dd>V</dd><dt><span>standard_name :</span></dt><dd>battery_voltage</dd><dt><span>valid_range :</span></dt><dd>[  0 992]</dd></dl></div><div class='xr-var-data'><pre>[77 values with dtype=float32]</pre></div></li></ul></div></li><li class='xr-section-item'><input id='section-4c0e1c3b-5737-4183-aa36-11268f6a54d4' class='xr-section-summary-in' type='checkbox'  ><label for='section-4c0e1c3b-5737-4183-aa36-11268f6a54d4' class='xr-section-summary' >Indexes: <span>(2)</span></label><div class='xr-section-inline-details'></div><div class='xr-section-details'><ul class='xr-var-list'><li class='xr-var-item'><div class='xr-index-name'><div>station</div></div><div class='xr-index-preview'>PandasIndex</div><div></div><input id='index-becea532-16c6-49da-afa3-a11a95907e9e' class='xr-index-data-in' type='checkbox'/><label for='index-becea532-16c6-49da-afa3-a11a95907e9e' title='Show/Hide index repr'><svg class='icon xr-icon-database'><use xlink:href='#icon-database'></use></svg></label><div class='xr-index-data'><pre>PandasIndex(Float64Index([1.0], dtype=&#x27;float64&#x27;, name=&#x27;station&#x27;))</pre></div></li><li class='xr-var-item'><div class='xr-index-name'><div>time</div></div><div class='xr-index-preview'>PandasIndex</div><div></div><input id='index-1521573d-29f4-47ee-baaa-c8f6694891e0' class='xr-index-data-in' type='checkbox'/><label for='index-1521573d-29f4-47ee-baaa-c8f6694891e0' title='Show/Hide index repr'><svg class='icon xr-icon-database'><use xlink:href='#icon-database'></use></svg></label><div class='xr-index-data'><pre>PandasIndex(DatetimeIndex([&#x27;2022-08-30 11:21:01.443000&#x27;, &#x27;2022-08-30 11:21:01.545000&#x27;,\n               &#x27;2022-08-30 11:21:01.647000&#x27;, &#x27;2022-08-30 11:21:01.750000&#x27;,\n               &#x27;2022-08-30 11:21:01.852000&#x27;, &#x27;2022-08-30 11:21:01.955000&#x27;,\n               &#x27;2022-08-30 11:21:02.057000&#x27;, &#x27;2022-08-30 11:21:02.160000&#x27;,\n               &#x27;2022-08-30 11:21:02.262000&#x27;, &#x27;2022-08-30 11:21:02.364000&#x27;,\n               &#x27;2022-08-30 11:21:02.467000&#x27;, &#x27;2022-08-30 11:21:02.569000&#x27;,\n               &#x27;2022-08-30 11:21:02.672000&#x27;, &#x27;2022-08-30 11:21:02.774000&#x27;,\n               &#x27;2022-08-30 11:21:02.877000&#x27;, &#x27;2022-08-30 11:21:02.979000&#x27;,\n               &#x27;2022-08-30 11:21:03.081000&#x27;, &#x27;2022-08-30 11:21:03.184000&#x27;,\n               &#x27;2022-08-30 11:21:03.286000&#x27;, &#x27;2022-08-30 11:21:03.389000&#x27;,\n               &#x27;2022-08-30 11:21:03.491000&#x27;, &#x27;2022-08-30 11:21:03.594000&#x27;,\n               &#x27;2022-08-30 11:21:03.696000&#x27;, &#x27;2022-08-30 11:21:03.799000&#x27;,\n               &#x27;2022-08-30 11:21:03.901000&#x27;, &#x27;2022-08-30 11:21:04.003000&#x27;,\n               &#x27;2022-08-30 11:21:04.106000&#x27;, &#x27;2022-08-30 11:21:04.208000&#x27;,\n               &#x27;2022-08-30 11:21:04.311000&#x27;, &#x27;2022-08-30 11:21:04.413000&#x27;,\n               &#x27;2022-08-30 11:21:04.516000&#x27;, &#x27;2022-08-30 11:21:04.618000&#x27;,\n               &#x27;2022-08-30 11:21:04.720000&#x27;, &#x27;2022-08-30 11:21:04.823000&#x27;,\n               &#x27;2022-08-30 11:21:04.925000&#x27;, &#x27;2022-08-30 11:21:05.028000&#x27;,\n               &#x27;2022-08-30 11:21:05.130000&#x27;, &#x27;2022-08-30 11:21:05.233000&#x27;,\n               &#x27;2022-08-30 11:21:05.335000&#x27;, &#x27;2022-08-30 11:21:05.438000&#x27;,\n               &#x27;2022-08-30 11:21:05.540000&#x27;, &#x27;2022-08-30 11:21:05.642000&#x27;,\n               &#x27;2022-08-30 11:21:05.745000&#x27;, &#x27;2022-08-30 11:21:05.847000&#x27;,\n               &#x27;2022-08-30 11:21:05.950000&#x27;, &#x27;2022-08-30 11:21:06.052000&#x27;,\n               &#x27;2022-08-30 11:21:06.155000&#x27;, &#x27;2022-08-30 11:21:06.257000&#x27;,\n               &#x27;2022-08-30 11:21:06.359000&#x27;, &#x27;2022-08-30 11:21:06.462000&#x27;,\n               &#x27;2022-08-30 11:21:06.564000&#x27;, &#x27;2022-08-30 11:21:06.667000&#x27;,\n               &#x27;2022-08-30 11:21:06.769000&#x27;, &#x27;2022-08-30 11:21:06.872000&#x27;,\n               &#x27;2022-08-30 11:21:06.974000&#x27;, &#x27;2022-08-30 11:21:07.077000&#x27;,\n               &#x27;2022-08-30 11:21:07.179000&#x27;, &#x27;2022-08-30 11:21:07.281000&#x27;,\n               &#x27;2022-08-30 11:21:07.384000&#x27;, &#x27;2022-08-30 11:21:07.486000&#x27;,\n               &#x27;2022-08-30 11:21:07.589000&#x27;, &#x27;2022-08-30 11:21:07.691000&#x27;,\n               &#x27;2022-08-30 11:21:07.794000&#x27;, &#x27;2022-08-30 11:21:07.896000&#x27;,\n               &#x27;2022-08-30 11:21:07.998000&#x27;, &#x27;2022-08-30 11:21:08.101000&#x27;,\n               &#x27;2022-08-30 11:21:08.203000&#x27;, &#x27;2022-08-30 11:21:08.306000&#x27;,\n               &#x27;2022-08-30 11:21:08.408000&#x27;, &#x27;2022-08-30 11:21:08.511000&#x27;,\n               &#x27;2022-08-30 11:21:08.613000&#x27;, &#x27;2022-08-30 11:21:08.715000&#x27;,\n               &#x27;2022-08-30 11:21:08.818000&#x27;, &#x27;2022-08-30 11:21:08.920000&#x27;,\n               &#x27;2022-08-30 11:21:09.023000&#x27;, &#x27;2022-08-30 11:21:09.125000&#x27;,\n               &#x27;2022-08-30 11:21:09.228000&#x27;],\n              dtype=&#x27;datetime64[ns]&#x27;, name=&#x27;time&#x27;, freq=None))</pre></div></li></ul></div></li><li class='xr-section-item'><input id='section-082ae8eb-1729-4103-8746-939375a214a7' class='xr-section-summary-in' type='checkbox'  ><label for='section-082ae8eb-1729-4103-8746-939375a214a7' class='xr-section-summary' >Attributes: <span>(31)</span></label><div class='xr-section-inline-details'></div><div class='xr-section-details'><dl class='xr-attrs'><dt><span>title :</span></dt><dd>TROPOS pyranometer network (PyrNet) observations</dd><dt><span>institution :</span></dt><dd>Leibniz Institute for Tropospheric Research (TROPOS)</dd><dt><span>department :</span></dt><dd>Remote Sensing of Atmospheric Processes</dd><dt><span>department_team :</span></dt><dd>Clouds, Aerosol and Radiation</dd><dt><span>address :</span></dt><dd>Permoser Str. 15, 04318 Leipzig, Germany</dd><dt><span>source :</span></dt><dd>TROPOS pyranometer network (PyrNet)</dd><dt><span>contact_person :</span></dt><dd>Andreas Macke and the clouds, aerosol and radiation team of the remote sensing department, mailto:andreas.macke@tropos.de</dd><dt><span>contributor_name :</span></dt><dd></dd><dt><span>contributor_role :</span></dt><dd></dd><dt><span>authors_software :</span></dt><dd>Hartwig Deneke, Jonas Witthuhn, mailto:deneke@tropos.de</dd><dt><span>creator_name :</span></dt><dd></dd><dt><span>project :</span></dt><dd></dd><dt><span>references :</span></dt><dd>https://doi.org/10.5194/amt-9-1153-2016</dd><dt><span>standard_name_vocabulary :</span></dt><dd>CF Standard Name Table v81</dd><dt><span>conventions :</span></dt><dd>CF-1.10, ACDD-1.3</dd><dt><span>license :</span></dt><dd>CC-BY-SA 3.0</dd><dt><span>TESTNOTE :</span></dt><dd>This is a test note.</dd><dt><span>processing_level :</span></dt><dd>l1a</dd><dt><span>product_version :</span></dt><dd>0.1.10+15.g5f0229e.dirty</dd><dt><span>history :</span></dt><dd>2024-01-31T07:48:49: Generated level l1a  by pyrnet version 0.1.10+15.g5f0229e.dirty; </dd><dt><span>date_created :</span></dt><dd>2024-01-31T07:48:49</dd><dt><span>geospatial_lat_min :</span></dt><dd>51.390208333333334</dd><dt><span>geospatial_lat_max :</span></dt><dd>51.390211666666666</dd><dt><span>geospatial_lat_units :</span></dt><dd>degN</dd><dt><span>geospatial_lon_min :</span></dt><dd>11.885246666666667</dd><dt><span>geospatial_lon_max :</span></dt><dd>11.885256666666667</dd><dt><span>geospatial_lon_units :</span></dt><dd>degE</dd><dt><span>time_coverage_start :</span></dt><dd>2022-08-30T11:21:04.065000</dd><dt><span>time_coverage_end :</span></dt><dd>2022-08-30T11:21:09</dd><dt><span>time_coverage_duration :</span></dt><dd>P0DT0H0M4.935S</dd><dt><span>time_coverage_resolution :</span></dt><dd>P0DT0H0M1.23375S</dd></dl></div></li></ul></div></div>"
     },
     "execution_count": 21,
     "metadata": {},
     "output_type": "execute_result"
    }
   ],
   "source": [
    "#|dropcode\n",
    "#|dropout\n",
    "# 1. Load l1a data\n",
    "ds_l1a = xr.open_dataset(fname)\n",
    "# check correct file\n",
    "if ds_l1a.processing_level != \"l1a\":\n",
    "    raise ValueError(f\"{fname} is not a l1a file.\")\n",
    "\n",
    "\n",
    "# 2. Sync GPS to ADC time\n",
    "adctime = pyrlogger.sync_adc_time(\n",
    "    adctime = ds_l1a.adctime.values,\n",
    "    gpstime = ds_l1a.gpstime.values,\n",
    "    iadc = ds_l1a.iadc.squeeze().values.astype(int),\n",
    "    check_results= False\n",
    ")\n",
    "\n",
    "# 3. Create new dataset (l1b) with synced time\n",
    "\n",
    "ds_l1b = ds_l1a.drop_dims('gpstime')\n",
    "ds_l1b = ds_l1b.drop_vars(['maintenance_flag_ghi','maintenance_flag_gti']) # keep only time dependend variables\n",
    "ds_l1b = ds_l1b.assign({'time': ('adctime', adctime)})\n",
    "ds_l1b = ds_l1b.swap_dims({\"adctime\":\"time\"})\n",
    "ds_l1b = ds_l1b.drop_vars(\"adctime\")\n",
    "ds_l1b"
   ],
   "metadata": {
    "collapsed": false,
    "ExecuteTime": {
     "end_time": "2024-01-31T07:48:50.404984700Z",
     "start_time": "2024-01-31T07:48:49.973065500Z"
    }
   }
  },
  {
   "cell_type": "code",
   "execution_count": 22,
   "outputs": [],
   "source": [
    "#|hide\n",
    "# dsp = ds_l1b.sel(time=\"2019-07-15\")\n",
    "# plt.figure()\n",
    "# plt.plot(dsp.time, dsp.ghi)\n",
    "# plt.grid()"
   ],
   "metadata": {
    "collapsed": false,
    "ExecuteTime": {
     "end_time": "2024-01-31T07:48:50.419943800Z",
     "start_time": "2024-01-31T07:48:50.385961200Z"
    }
   }
  },
  {
   "cell_type": "markdown",
   "source": [
    "4. Drop first and last X minutes of data to avoid bad data due to maintenance\n",
    "\n",
    "```{note}\n",
    "config.json -> \"stripminutes\"\n",
    "```"
   ],
   "metadata": {
    "collapsed": false
   }
  },
  {
   "cell_type": "code",
   "execution_count": 23,
   "outputs": [
    {
     "data": {
      "text/plain": "<xarray.Dataset>\nDimensions:          (time: 37, station: 1)\nCoordinates:\n  * station          (station) float32 1.0\n  * time             (time) datetime64[ns] 2022-08-30T11:21:03.491000 ... 202...\nData variables:\n    ghi              (time, station) float32 ...\n    gti              (time, station) float32 ...\n    ta               (time, station) float32 ...\n    rh               (time, station) float32 ...\n    battery_voltage  (time, station) float32 ...\nAttributes: (12/31)\n    title:                     TROPOS pyranometer network (PyrNet) observations\n    institution:               Leibniz Institute for Tropospheric Research (T...\n    department:                Remote Sensing of Atmospheric Processes\n    department_team:           Clouds, Aerosol and Radiation\n    address:                   Permoser Str. 15, 04318 Leipzig, Germany\n    source:                    TROPOS pyranometer network (PyrNet)\n    ...                        ...\n    geospatial_lon_max:        11.885256666666667\n    geospatial_lon_units:      degE\n    time_coverage_start:       2022-08-30T11:21:04.065000\n    time_coverage_end:         2022-08-30T11:21:09\n    time_coverage_duration:    P0DT0H0M4.935S\n    time_coverage_resolution:  P0DT0H0M1.23375S",
      "text/html": "<div><svg style=\"position: absolute; width: 0; height: 0; overflow: hidden\">\n<defs>\n<symbol id=\"icon-database\" viewBox=\"0 0 32 32\">\n<path d=\"M16 0c-8.837 0-16 2.239-16 5v4c0 2.761 7.163 5 16 5s16-2.239 16-5v-4c0-2.761-7.163-5-16-5z\"></path>\n<path d=\"M16 17c-8.837 0-16-2.239-16-5v6c0 2.761 7.163 5 16 5s16-2.239 16-5v-6c0 2.761-7.163 5-16 5z\"></path>\n<path d=\"M16 26c-8.837 0-16-2.239-16-5v6c0 2.761 7.163 5 16 5s16-2.239 16-5v-6c0 2.761-7.163 5-16 5z\"></path>\n</symbol>\n<symbol id=\"icon-file-text2\" viewBox=\"0 0 32 32\">\n<path d=\"M28.681 7.159c-0.694-0.947-1.662-2.053-2.724-3.116s-2.169-2.030-3.116-2.724c-1.612-1.182-2.393-1.319-2.841-1.319h-15.5c-1.378 0-2.5 1.121-2.5 2.5v27c0 1.378 1.122 2.5 2.5 2.5h23c1.378 0 2.5-1.122 2.5-2.5v-19.5c0-0.448-0.137-1.23-1.319-2.841zM24.543 5.457c0.959 0.959 1.712 1.825 2.268 2.543h-4.811v-4.811c0.718 0.556 1.584 1.309 2.543 2.268zM28 29.5c0 0.271-0.229 0.5-0.5 0.5h-23c-0.271 0-0.5-0.229-0.5-0.5v-27c0-0.271 0.229-0.5 0.5-0.5 0 0 15.499-0 15.5 0v7c0 0.552 0.448 1 1 1h7v19.5z\"></path>\n<path d=\"M23 26h-14c-0.552 0-1-0.448-1-1s0.448-1 1-1h14c0.552 0 1 0.448 1 1s-0.448 1-1 1z\"></path>\n<path d=\"M23 22h-14c-0.552 0-1-0.448-1-1s0.448-1 1-1h14c0.552 0 1 0.448 1 1s-0.448 1-1 1z\"></path>\n<path d=\"M23 18h-14c-0.552 0-1-0.448-1-1s0.448-1 1-1h14c0.552 0 1 0.448 1 1s-0.448 1-1 1z\"></path>\n</symbol>\n</defs>\n</svg>\n<style>/* CSS stylesheet for displaying xarray objects in jupyterlab.\n *\n */\n\n:root {\n  --xr-font-color0: var(--jp-content-font-color0, rgba(0, 0, 0, 1));\n  --xr-font-color2: var(--jp-content-font-color2, rgba(0, 0, 0, 0.54));\n  --xr-font-color3: var(--jp-content-font-color3, rgba(0, 0, 0, 0.38));\n  --xr-border-color: var(--jp-border-color2, #e0e0e0);\n  --xr-disabled-color: var(--jp-layout-color3, #bdbdbd);\n  --xr-background-color: var(--jp-layout-color0, white);\n  --xr-background-color-row-even: var(--jp-layout-color1, white);\n  --xr-background-color-row-odd: var(--jp-layout-color2, #eeeeee);\n}\n\nhtml[theme=dark],\nbody[data-theme=dark],\nbody.vscode-dark {\n  --xr-font-color0: rgba(255, 255, 255, 1);\n  --xr-font-color2: rgba(255, 255, 255, 0.54);\n  --xr-font-color3: rgba(255, 255, 255, 0.38);\n  --xr-border-color: #1F1F1F;\n  --xr-disabled-color: #515151;\n  --xr-background-color: #111111;\n  --xr-background-color-row-even: #111111;\n  --xr-background-color-row-odd: #313131;\n}\n\n.xr-wrap {\n  display: block !important;\n  min-width: 300px;\n  max-width: 700px;\n}\n\n.xr-text-repr-fallback {\n  /* fallback to plain text repr when CSS is not injected (untrusted notebook) */\n  display: none;\n}\n\n.xr-header {\n  padding-top: 6px;\n  padding-bottom: 6px;\n  margin-bottom: 4px;\n  border-bottom: solid 1px var(--xr-border-color);\n}\n\n.xr-header > div,\n.xr-header > ul {\n  display: inline;\n  margin-top: 0;\n  margin-bottom: 0;\n}\n\n.xr-obj-type,\n.xr-array-name {\n  margin-left: 2px;\n  margin-right: 10px;\n}\n\n.xr-obj-type {\n  color: var(--xr-font-color2);\n}\n\n.xr-sections {\n  padding-left: 0 !important;\n  display: grid;\n  grid-template-columns: 150px auto auto 1fr 20px 20px;\n}\n\n.xr-section-item {\n  display: contents;\n}\n\n.xr-section-item input {\n  display: none;\n}\n\n.xr-section-item input + label {\n  color: var(--xr-disabled-color);\n}\n\n.xr-section-item input:enabled + label {\n  cursor: pointer;\n  color: var(--xr-font-color2);\n}\n\n.xr-section-item input:enabled + label:hover {\n  color: var(--xr-font-color0);\n}\n\n.xr-section-summary {\n  grid-column: 1;\n  color: var(--xr-font-color2);\n  font-weight: 500;\n}\n\n.xr-section-summary > span {\n  display: inline-block;\n  padding-left: 0.5em;\n}\n\n.xr-section-summary-in:disabled + label {\n  color: var(--xr-font-color2);\n}\n\n.xr-section-summary-in + label:before {\n  display: inline-block;\n  content: '►';\n  font-size: 11px;\n  width: 15px;\n  text-align: center;\n}\n\n.xr-section-summary-in:disabled + label:before {\n  color: var(--xr-disabled-color);\n}\n\n.xr-section-summary-in:checked + label:before {\n  content: '▼';\n}\n\n.xr-section-summary-in:checked + label > span {\n  display: none;\n}\n\n.xr-section-summary,\n.xr-section-inline-details {\n  padding-top: 4px;\n  padding-bottom: 4px;\n}\n\n.xr-section-inline-details {\n  grid-column: 2 / -1;\n}\n\n.xr-section-details {\n  display: none;\n  grid-column: 1 / -1;\n  margin-bottom: 5px;\n}\n\n.xr-section-summary-in:checked ~ .xr-section-details {\n  display: contents;\n}\n\n.xr-array-wrap {\n  grid-column: 1 / -1;\n  display: grid;\n  grid-template-columns: 20px auto;\n}\n\n.xr-array-wrap > label {\n  grid-column: 1;\n  vertical-align: top;\n}\n\n.xr-preview {\n  color: var(--xr-font-color3);\n}\n\n.xr-array-preview,\n.xr-array-data {\n  padding: 0 5px !important;\n  grid-column: 2;\n}\n\n.xr-array-data,\n.xr-array-in:checked ~ .xr-array-preview {\n  display: none;\n}\n\n.xr-array-in:checked ~ .xr-array-data,\n.xr-array-preview {\n  display: inline-block;\n}\n\n.xr-dim-list {\n  display: inline-block !important;\n  list-style: none;\n  padding: 0 !important;\n  margin: 0;\n}\n\n.xr-dim-list li {\n  display: inline-block;\n  padding: 0;\n  margin: 0;\n}\n\n.xr-dim-list:before {\n  content: '(';\n}\n\n.xr-dim-list:after {\n  content: ')';\n}\n\n.xr-dim-list li:not(:last-child):after {\n  content: ',';\n  padding-right: 5px;\n}\n\n.xr-has-index {\n  font-weight: bold;\n}\n\n.xr-var-list,\n.xr-var-item {\n  display: contents;\n}\n\n.xr-var-item > div,\n.xr-var-item label,\n.xr-var-item > .xr-var-name span {\n  background-color: var(--xr-background-color-row-even);\n  margin-bottom: 0;\n}\n\n.xr-var-item > .xr-var-name:hover span {\n  padding-right: 5px;\n}\n\n.xr-var-list > li:nth-child(odd) > div,\n.xr-var-list > li:nth-child(odd) > label,\n.xr-var-list > li:nth-child(odd) > .xr-var-name span {\n  background-color: var(--xr-background-color-row-odd);\n}\n\n.xr-var-name {\n  grid-column: 1;\n}\n\n.xr-var-dims {\n  grid-column: 2;\n}\n\n.xr-var-dtype {\n  grid-column: 3;\n  text-align: right;\n  color: var(--xr-font-color2);\n}\n\n.xr-var-preview {\n  grid-column: 4;\n}\n\n.xr-index-preview {\n  grid-column: 2 / 5;\n  color: var(--xr-font-color2);\n}\n\n.xr-var-name,\n.xr-var-dims,\n.xr-var-dtype,\n.xr-preview,\n.xr-attrs dt {\n  white-space: nowrap;\n  overflow: hidden;\n  text-overflow: ellipsis;\n  padding-right: 10px;\n}\n\n.xr-var-name:hover,\n.xr-var-dims:hover,\n.xr-var-dtype:hover,\n.xr-attrs dt:hover {\n  overflow: visible;\n  width: auto;\n  z-index: 1;\n}\n\n.xr-var-attrs,\n.xr-var-data,\n.xr-index-data {\n  display: none;\n  background-color: var(--xr-background-color) !important;\n  padding-bottom: 5px !important;\n}\n\n.xr-var-attrs-in:checked ~ .xr-var-attrs,\n.xr-var-data-in:checked ~ .xr-var-data,\n.xr-index-data-in:checked ~ .xr-index-data {\n  display: block;\n}\n\n.xr-var-data > table {\n  float: right;\n}\n\n.xr-var-name span,\n.xr-var-data,\n.xr-index-name div,\n.xr-index-data,\n.xr-attrs {\n  padding-left: 25px !important;\n}\n\n.xr-attrs,\n.xr-var-attrs,\n.xr-var-data,\n.xr-index-data {\n  grid-column: 1 / -1;\n}\n\ndl.xr-attrs {\n  padding: 0;\n  margin: 0;\n  display: grid;\n  grid-template-columns: 125px auto;\n}\n\n.xr-attrs dt,\n.xr-attrs dd {\n  padding: 0;\n  margin: 0;\n  float: left;\n  padding-right: 10px;\n  width: auto;\n}\n\n.xr-attrs dt {\n  font-weight: normal;\n  grid-column: 1;\n}\n\n.xr-attrs dt:hover span {\n  display: inline-block;\n  background: var(--xr-background-color);\n  padding-right: 10px;\n}\n\n.xr-attrs dd {\n  grid-column: 2;\n  white-space: pre-wrap;\n  word-break: break-all;\n}\n\n.xr-icon-database,\n.xr-icon-file-text2,\n.xr-no-icon {\n  display: inline-block;\n  vertical-align: middle;\n  width: 1em;\n  height: 1.5em !important;\n  stroke-width: 0;\n  stroke: currentColor;\n  fill: currentColor;\n}\n</style><pre class='xr-text-repr-fallback'>&lt;xarray.Dataset&gt;\nDimensions:          (time: 37, station: 1)\nCoordinates:\n  * station          (station) float32 1.0\n  * time             (time) datetime64[ns] 2022-08-30T11:21:03.491000 ... 202...\nData variables:\n    ghi              (time, station) float32 ...\n    gti              (time, station) float32 ...\n    ta               (time, station) float32 ...\n    rh               (time, station) float32 ...\n    battery_voltage  (time, station) float32 ...\nAttributes: (12/31)\n    title:                     TROPOS pyranometer network (PyrNet) observations\n    institution:               Leibniz Institute for Tropospheric Research (T...\n    department:                Remote Sensing of Atmospheric Processes\n    department_team:           Clouds, Aerosol and Radiation\n    address:                   Permoser Str. 15, 04318 Leipzig, Germany\n    source:                    TROPOS pyranometer network (PyrNet)\n    ...                        ...\n    geospatial_lon_max:        11.885256666666667\n    geospatial_lon_units:      degE\n    time_coverage_start:       2022-08-30T11:21:04.065000\n    time_coverage_end:         2022-08-30T11:21:09\n    time_coverage_duration:    P0DT0H0M4.935S\n    time_coverage_resolution:  P0DT0H0M1.23375S</pre><div class='xr-wrap' style='display:none'><div class='xr-header'><div class='xr-obj-type'>xarray.Dataset</div></div><ul class='xr-sections'><li class='xr-section-item'><input id='section-2bf8bf20-e63a-4e8e-8ccb-44e066289182' class='xr-section-summary-in' type='checkbox' disabled ><label for='section-2bf8bf20-e63a-4e8e-8ccb-44e066289182' class='xr-section-summary'  title='Expand/collapse section'>Dimensions:</label><div class='xr-section-inline-details'><ul class='xr-dim-list'><li><span class='xr-has-index'>time</span>: 37</li><li><span class='xr-has-index'>station</span>: 1</li></ul></div><div class='xr-section-details'></div></li><li class='xr-section-item'><input id='section-9607714c-59cc-4d5e-a431-8f296b98d8fc' class='xr-section-summary-in' type='checkbox'  checked><label for='section-9607714c-59cc-4d5e-a431-8f296b98d8fc' class='xr-section-summary' >Coordinates: <span>(2)</span></label><div class='xr-section-inline-details'></div><div class='xr-section-details'><ul class='xr-var-list'><li class='xr-var-item'><div class='xr-var-name'><span class='xr-has-index'>station</span></div><div class='xr-var-dims'>(station)</div><div class='xr-var-dtype'>float32</div><div class='xr-var-preview xr-preview'>1.0</div><input id='attrs-9a6d1626-5b6c-41ad-b037-ade06a8e953f' class='xr-var-attrs-in' type='checkbox' ><label for='attrs-9a6d1626-5b6c-41ad-b037-ade06a8e953f' title='Show/Hide attributes'><svg class='icon xr-icon-file-text2'><use xlink:href='#icon-file-text2'></use></svg></label><input id='data-d0ecca0a-2758-420f-b12d-4c7a44b8cf04' class='xr-var-data-in' type='checkbox'><label for='data-d0ecca0a-2758-420f-b12d-4c7a44b8cf04' title='Show/Hide data repr'><svg class='icon xr-icon-database'><use xlink:href='#icon-database'></use></svg></label><div class='xr-var-attrs'><dl class='xr-attrs'><dt><span>units :</span></dt><dd>-</dd><dt><span>long_name :</span></dt><dd>PyrNet unit box number</dd></dl></div><div class='xr-var-data'><pre>array([1.], dtype=float32)</pre></div></li><li class='xr-var-item'><div class='xr-var-name'><span class='xr-has-index'>time</span></div><div class='xr-var-dims'>(time)</div><div class='xr-var-dtype'>datetime64[ns]</div><div class='xr-var-preview xr-preview'>2022-08-30T11:21:03.491000 ... 2...</div><input id='attrs-337bdc9c-d749-4b7d-8733-c0fb37736620' class='xr-var-attrs-in' type='checkbox' disabled><label for='attrs-337bdc9c-d749-4b7d-8733-c0fb37736620' title='Show/Hide attributes'><svg class='icon xr-icon-file-text2'><use xlink:href='#icon-file-text2'></use></svg></label><input id='data-07ea4899-a32d-4d80-a15a-2982983f0f4c' class='xr-var-data-in' type='checkbox'><label for='data-07ea4899-a32d-4d80-a15a-2982983f0f4c' title='Show/Hide data repr'><svg class='icon xr-icon-database'><use xlink:href='#icon-database'></use></svg></label><div class='xr-var-attrs'><dl class='xr-attrs'></dl></div><div class='xr-var-data'><pre>array([&#x27;2022-08-30T11:21:03.491000000&#x27;, &#x27;2022-08-30T11:21:03.594000000&#x27;,\n       &#x27;2022-08-30T11:21:03.696000000&#x27;, &#x27;2022-08-30T11:21:03.799000000&#x27;,\n       &#x27;2022-08-30T11:21:03.901000000&#x27;, &#x27;2022-08-30T11:21:04.003000000&#x27;,\n       &#x27;2022-08-30T11:21:04.106000000&#x27;, &#x27;2022-08-30T11:21:04.208000000&#x27;,\n       &#x27;2022-08-30T11:21:04.311000000&#x27;, &#x27;2022-08-30T11:21:04.413000000&#x27;,\n       &#x27;2022-08-30T11:21:04.516000000&#x27;, &#x27;2022-08-30T11:21:04.618000000&#x27;,\n       &#x27;2022-08-30T11:21:04.720000000&#x27;, &#x27;2022-08-30T11:21:04.823000000&#x27;,\n       &#x27;2022-08-30T11:21:04.925000000&#x27;, &#x27;2022-08-30T11:21:05.028000000&#x27;,\n       &#x27;2022-08-30T11:21:05.130000000&#x27;, &#x27;2022-08-30T11:21:05.233000000&#x27;,\n       &#x27;2022-08-30T11:21:05.335000000&#x27;, &#x27;2022-08-30T11:21:05.438000000&#x27;,\n       &#x27;2022-08-30T11:21:05.540000000&#x27;, &#x27;2022-08-30T11:21:05.642000000&#x27;,\n       &#x27;2022-08-30T11:21:05.745000000&#x27;, &#x27;2022-08-30T11:21:05.847000000&#x27;,\n       &#x27;2022-08-30T11:21:05.950000000&#x27;, &#x27;2022-08-30T11:21:06.052000000&#x27;,\n       &#x27;2022-08-30T11:21:06.155000000&#x27;, &#x27;2022-08-30T11:21:06.257000000&#x27;,\n       &#x27;2022-08-30T11:21:06.359000000&#x27;, &#x27;2022-08-30T11:21:06.462000000&#x27;,\n       &#x27;2022-08-30T11:21:06.564000000&#x27;, &#x27;2022-08-30T11:21:06.667000000&#x27;,\n       &#x27;2022-08-30T11:21:06.769000000&#x27;, &#x27;2022-08-30T11:21:06.872000000&#x27;,\n       &#x27;2022-08-30T11:21:06.974000000&#x27;, &#x27;2022-08-30T11:21:07.077000000&#x27;,\n       &#x27;2022-08-30T11:21:07.179000000&#x27;], dtype=&#x27;datetime64[ns]&#x27;)</pre></div></li></ul></div></li><li class='xr-section-item'><input id='section-104faff0-00fc-489e-8adf-96594f9a8fb6' class='xr-section-summary-in' type='checkbox'  checked><label for='section-104faff0-00fc-489e-8adf-96594f9a8fb6' class='xr-section-summary' >Data variables: <span>(5)</span></label><div class='xr-section-inline-details'></div><div class='xr-section-details'><ul class='xr-var-list'><li class='xr-var-item'><div class='xr-var-name'><span>ghi</span></div><div class='xr-var-dims'>(time, station)</div><div class='xr-var-dtype'>float32</div><div class='xr-var-preview xr-preview'>...</div><input id='attrs-371412c4-5df2-4ab4-b147-88ecf8c34231' class='xr-var-attrs-in' type='checkbox' ><label for='attrs-371412c4-5df2-4ab4-b147-88ecf8c34231' title='Show/Hide attributes'><svg class='icon xr-icon-file-text2'><use xlink:href='#icon-file-text2'></use></svg></label><input id='data-a47b15de-470a-45d3-ad51-4edb532b4366' class='xr-var-data-in' type='checkbox'><label for='data-a47b15de-470a-45d3-ad51-4edb532b4366' title='Show/Hide data repr'><svg class='icon xr-icon-database'><use xlink:href='#icon-database'></use></svg></label><div class='xr-var-attrs'><dl class='xr-attrs'><dt><span>units :</span></dt><dd>V</dd><dt><span>long_name :</span></dt><dd>downwelling shortwave flux</dd><dt><span>standard_name :</span></dt><dd>downwelling_shortwave_flux_in_air</dd><dt><span>valid_range :</span></dt><dd>[   0 1023]</dd></dl></div><div class='xr-var-data'><pre>[37 values with dtype=float32]</pre></div></li><li class='xr-var-item'><div class='xr-var-name'><span>gti</span></div><div class='xr-var-dims'>(time, station)</div><div class='xr-var-dtype'>float32</div><div class='xr-var-preview xr-preview'>...</div><input id='attrs-a78bb123-6668-4b59-9cda-1232f2dea086' class='xr-var-attrs-in' type='checkbox' ><label for='attrs-a78bb123-6668-4b59-9cda-1232f2dea086' title='Show/Hide attributes'><svg class='icon xr-icon-file-text2'><use xlink:href='#icon-file-text2'></use></svg></label><input id='data-222762a4-7d98-4fe7-9466-dd66258935a7' class='xr-var-data-in' type='checkbox'><label for='data-222762a4-7d98-4fe7-9466-dd66258935a7' title='Show/Hide data repr'><svg class='icon xr-icon-database'><use xlink:href='#icon-database'></use></svg></label><div class='xr-var-attrs'><dl class='xr-attrs'><dt><span>units :</span></dt><dd>V</dd><dt><span>long_name :</span></dt><dd>downwelling shortwave flux measured on secondary platform, might be tilted</dd><dt><span>standard_name :</span></dt><dd>downwelling_shortwave_flux_in_air</dd><dt><span>valid_range :</span></dt><dd>[   0 1023]</dd><dt><span>hangle :</span></dt><dd>0.0</dd><dt><span>vangle :</span></dt><dd>0.0</dd></dl></div><div class='xr-var-data'><pre>[37 values with dtype=float32]</pre></div></li><li class='xr-var-item'><div class='xr-var-name'><span>ta</span></div><div class='xr-var-dims'>(time, station)</div><div class='xr-var-dtype'>float32</div><div class='xr-var-preview xr-preview'>...</div><input id='attrs-efd73359-d318-4e70-91d7-8f538fcd58d8' class='xr-var-attrs-in' type='checkbox' ><label for='attrs-efd73359-d318-4e70-91d7-8f538fcd58d8' title='Show/Hide attributes'><svg class='icon xr-icon-file-text2'><use xlink:href='#icon-file-text2'></use></svg></label><input id='data-d4c53b39-2dd3-4eaa-9884-c21df1bed706' class='xr-var-data-in' type='checkbox'><label for='data-d4c53b39-2dd3-4eaa-9884-c21df1bed706' title='Show/Hide data repr'><svg class='icon xr-icon-database'><use xlink:href='#icon-database'></use></svg></label><div class='xr-var-attrs'><dl class='xr-attrs'><dt><span>units :</span></dt><dd>K</dd><dt><span>long_name :</span></dt><dd>air temperature</dd><dt><span>standard_name :</span></dt><dd>air_temperature</dd><dt><span>valid_range :</span></dt><dd>[  0 775]</dd></dl></div><div class='xr-var-data'><pre>[37 values with dtype=float32]</pre></div></li><li class='xr-var-item'><div class='xr-var-name'><span>rh</span></div><div class='xr-var-dims'>(time, station)</div><div class='xr-var-dtype'>float32</div><div class='xr-var-preview xr-preview'>...</div><input id='attrs-64e6d98c-b15b-4af8-b591-9e205920c092' class='xr-var-attrs-in' type='checkbox' ><label for='attrs-64e6d98c-b15b-4af8-b591-9e205920c092' title='Show/Hide attributes'><svg class='icon xr-icon-file-text2'><use xlink:href='#icon-file-text2'></use></svg></label><input id='data-2314ccce-5d4b-49a4-b692-84c7b15d5d7c' class='xr-var-data-in' type='checkbox'><label for='data-2314ccce-5d4b-49a4-b692-84c7b15d5d7c' title='Show/Hide data repr'><svg class='icon xr-icon-database'><use xlink:href='#icon-database'></use></svg></label><div class='xr-var-attrs'><dl class='xr-attrs'><dt><span>units :</span></dt><dd>1</dd><dt><span>long_name :</span></dt><dd>air relative humidity</dd><dt><span>standard_name :</span></dt><dd>relative_humidity</dd><dt><span>valid_range :</span></dt><dd>[  0 775]</dd></dl></div><div class='xr-var-data'><pre>[37 values with dtype=float32]</pre></div></li><li class='xr-var-item'><div class='xr-var-name'><span>battery_voltage</span></div><div class='xr-var-dims'>(time, station)</div><div class='xr-var-dtype'>float32</div><div class='xr-var-preview xr-preview'>...</div><input id='attrs-a379af9f-31a7-49c9-a756-986139db666d' class='xr-var-attrs-in' type='checkbox' ><label for='attrs-a379af9f-31a7-49c9-a756-986139db666d' title='Show/Hide attributes'><svg class='icon xr-icon-file-text2'><use xlink:href='#icon-file-text2'></use></svg></label><input id='data-0d46fc9a-bdf3-418f-b1ed-c76ae999bf33' class='xr-var-data-in' type='checkbox'><label for='data-0d46fc9a-bdf3-418f-b1ed-c76ae999bf33' title='Show/Hide data repr'><svg class='icon xr-icon-database'><use xlink:href='#icon-database'></use></svg></label><div class='xr-var-attrs'><dl class='xr-attrs'><dt><span>units :</span></dt><dd>V</dd><dt><span>standard_name :</span></dt><dd>battery_voltage</dd><dt><span>valid_range :</span></dt><dd>[  0 992]</dd></dl></div><div class='xr-var-data'><pre>[37 values with dtype=float32]</pre></div></li></ul></div></li><li class='xr-section-item'><input id='section-ed9f6651-7e93-4b63-b955-c42ec405fbd8' class='xr-section-summary-in' type='checkbox'  ><label for='section-ed9f6651-7e93-4b63-b955-c42ec405fbd8' class='xr-section-summary' >Indexes: <span>(2)</span></label><div class='xr-section-inline-details'></div><div class='xr-section-details'><ul class='xr-var-list'><li class='xr-var-item'><div class='xr-index-name'><div>station</div></div><div class='xr-index-preview'>PandasIndex</div><div></div><input id='index-e2495410-271a-4e92-a2f8-6a3c3fb6b108' class='xr-index-data-in' type='checkbox'/><label for='index-e2495410-271a-4e92-a2f8-6a3c3fb6b108' title='Show/Hide index repr'><svg class='icon xr-icon-database'><use xlink:href='#icon-database'></use></svg></label><div class='xr-index-data'><pre>PandasIndex(Float64Index([1.0], dtype=&#x27;float64&#x27;, name=&#x27;station&#x27;))</pre></div></li><li class='xr-var-item'><div class='xr-index-name'><div>time</div></div><div class='xr-index-preview'>PandasIndex</div><div></div><input id='index-764d7822-a74d-4a22-ba2d-047c40922869' class='xr-index-data-in' type='checkbox'/><label for='index-764d7822-a74d-4a22-ba2d-047c40922869' title='Show/Hide index repr'><svg class='icon xr-icon-database'><use xlink:href='#icon-database'></use></svg></label><div class='xr-index-data'><pre>PandasIndex(DatetimeIndex([&#x27;2022-08-30 11:21:03.491000&#x27;, &#x27;2022-08-30 11:21:03.594000&#x27;,\n               &#x27;2022-08-30 11:21:03.696000&#x27;, &#x27;2022-08-30 11:21:03.799000&#x27;,\n               &#x27;2022-08-30 11:21:03.901000&#x27;, &#x27;2022-08-30 11:21:04.003000&#x27;,\n               &#x27;2022-08-30 11:21:04.106000&#x27;, &#x27;2022-08-30 11:21:04.208000&#x27;,\n               &#x27;2022-08-30 11:21:04.311000&#x27;, &#x27;2022-08-30 11:21:04.413000&#x27;,\n               &#x27;2022-08-30 11:21:04.516000&#x27;, &#x27;2022-08-30 11:21:04.618000&#x27;,\n               &#x27;2022-08-30 11:21:04.720000&#x27;, &#x27;2022-08-30 11:21:04.823000&#x27;,\n               &#x27;2022-08-30 11:21:04.925000&#x27;, &#x27;2022-08-30 11:21:05.028000&#x27;,\n               &#x27;2022-08-30 11:21:05.130000&#x27;, &#x27;2022-08-30 11:21:05.233000&#x27;,\n               &#x27;2022-08-30 11:21:05.335000&#x27;, &#x27;2022-08-30 11:21:05.438000&#x27;,\n               &#x27;2022-08-30 11:21:05.540000&#x27;, &#x27;2022-08-30 11:21:05.642000&#x27;,\n               &#x27;2022-08-30 11:21:05.745000&#x27;, &#x27;2022-08-30 11:21:05.847000&#x27;,\n               &#x27;2022-08-30 11:21:05.950000&#x27;, &#x27;2022-08-30 11:21:06.052000&#x27;,\n               &#x27;2022-08-30 11:21:06.155000&#x27;, &#x27;2022-08-30 11:21:06.257000&#x27;,\n               &#x27;2022-08-30 11:21:06.359000&#x27;, &#x27;2022-08-30 11:21:06.462000&#x27;,\n               &#x27;2022-08-30 11:21:06.564000&#x27;, &#x27;2022-08-30 11:21:06.667000&#x27;,\n               &#x27;2022-08-30 11:21:06.769000&#x27;, &#x27;2022-08-30 11:21:06.872000&#x27;,\n               &#x27;2022-08-30 11:21:06.974000&#x27;, &#x27;2022-08-30 11:21:07.077000&#x27;,\n               &#x27;2022-08-30 11:21:07.179000&#x27;],\n              dtype=&#x27;datetime64[ns]&#x27;, name=&#x27;time&#x27;, freq=None))</pre></div></li></ul></div></li><li class='xr-section-item'><input id='section-94c9c9e8-7c26-4a67-a196-c0e44180ba7a' class='xr-section-summary-in' type='checkbox'  ><label for='section-94c9c9e8-7c26-4a67-a196-c0e44180ba7a' class='xr-section-summary' >Attributes: <span>(31)</span></label><div class='xr-section-inline-details'></div><div class='xr-section-details'><dl class='xr-attrs'><dt><span>title :</span></dt><dd>TROPOS pyranometer network (PyrNet) observations</dd><dt><span>institution :</span></dt><dd>Leibniz Institute for Tropospheric Research (TROPOS)</dd><dt><span>department :</span></dt><dd>Remote Sensing of Atmospheric Processes</dd><dt><span>department_team :</span></dt><dd>Clouds, Aerosol and Radiation</dd><dt><span>address :</span></dt><dd>Permoser Str. 15, 04318 Leipzig, Germany</dd><dt><span>source :</span></dt><dd>TROPOS pyranometer network (PyrNet)</dd><dt><span>contact_person :</span></dt><dd>Andreas Macke and the clouds, aerosol and radiation team of the remote sensing department, mailto:andreas.macke@tropos.de</dd><dt><span>contributor_name :</span></dt><dd></dd><dt><span>contributor_role :</span></dt><dd></dd><dt><span>authors_software :</span></dt><dd>Hartwig Deneke, Jonas Witthuhn, mailto:deneke@tropos.de</dd><dt><span>creator_name :</span></dt><dd></dd><dt><span>project :</span></dt><dd></dd><dt><span>references :</span></dt><dd>https://doi.org/10.5194/amt-9-1153-2016</dd><dt><span>standard_name_vocabulary :</span></dt><dd>CF Standard Name Table v81</dd><dt><span>conventions :</span></dt><dd>CF-1.10, ACDD-1.3</dd><dt><span>license :</span></dt><dd>CC-BY-SA 3.0</dd><dt><span>TESTNOTE :</span></dt><dd>This is a test note.</dd><dt><span>processing_level :</span></dt><dd>l1a</dd><dt><span>product_version :</span></dt><dd>0.1.10+15.g5f0229e.dirty</dd><dt><span>history :</span></dt><dd>2024-01-31T07:48:49: Generated level l1a  by pyrnet version 0.1.10+15.g5f0229e.dirty; </dd><dt><span>date_created :</span></dt><dd>2024-01-31T07:48:49</dd><dt><span>geospatial_lat_min :</span></dt><dd>51.390208333333334</dd><dt><span>geospatial_lat_max :</span></dt><dd>51.390211666666666</dd><dt><span>geospatial_lat_units :</span></dt><dd>degN</dd><dt><span>geospatial_lon_min :</span></dt><dd>11.885246666666667</dd><dt><span>geospatial_lon_max :</span></dt><dd>11.885256666666667</dd><dt><span>geospatial_lon_units :</span></dt><dd>degE</dd><dt><span>time_coverage_start :</span></dt><dd>2022-08-30T11:21:04.065000</dd><dt><span>time_coverage_end :</span></dt><dd>2022-08-30T11:21:09</dd><dt><span>time_coverage_duration :</span></dt><dd>P0DT0H0M4.935S</dd><dt><span>time_coverage_resolution :</span></dt><dd>P0DT0H0M1.23375S</dd></dl></div></li></ul></div></div>"
     },
     "execution_count": 23,
     "metadata": {},
     "output_type": "execute_result"
    }
   ],
   "source": [
    "#|dropcode\n",
    "#|dropout\n",
    "# 4. Drop first and last <stripminutes> minutes of data to avoid bad data due to maintenance\n",
    "\n",
    "# stripminutes = np.timedelta64(int(config['stripminutes']), 'm')\n",
    "# for now use some seconds for demonstration\n",
    "stripminutes = np.timedelta64(2, 's')\n",
    "tslice = slice(ds_l1b.time.values[0] + stripminutes,\n",
    "               ds_l1b.time.values[-1] - stripminutes)\n",
    "ds_l1b = ds_l1b.sel(time=tslice)\n",
    "ds_l1b"
   ],
   "metadata": {
    "collapsed": false,
    "ExecuteTime": {
     "end_time": "2024-01-31T07:48:50.557220100Z",
     "start_time": "2024-01-31T07:48:50.407976800Z"
    }
   }
  },
  {
   "cell_type": "markdown",
   "source": [
    "5. Calibrate radiation flux"
   ],
   "metadata": {
    "collapsed": false
   }
  },
  {
   "cell_type": "code",
   "execution_count": 24,
   "outputs": [
    {
     "name": "stdout",
     "output_type": "stream",
     "text": [
      "Meta Lookup:\n",
      ">> Box=1.0\n",
      ">> serial(s)=['S12128.001', 'S12137.049']\n",
      "calibration factor(s)=[7.73, 6.98]\n"
     ]
    }
   ],
   "source": [
    "# 5. rad flux calibration\n",
    "box = ds_l1b.station.values[0]\n",
    "boxnumber, serial, cfac = pyrnet.meta_lookup(\n",
    "    ds_l1b.time.values[0],\n",
    "    box=box,\n",
    "    cfile=config['file_calibration'],\n",
    "    mapfile=config['file_mapping'],\n",
    ")\n",
    "\n",
    "print(f\"Meta Lookup:\")\n",
    "print(f\">> Box={box}\")\n",
    "print(f\">> serial(s)={serial}\")\n",
    "print(f\"calibration factor(s)={cfac}\")\n",
    "\n",
    "\n",
    "# calibrate radiation flux with gain=300\n",
    "for i, radflx in enumerate(config['radflux_varname']):\n",
    "    if cfac[i] is None:\n",
    "        # drop if calibration/instrument don't exist (probably secondary pyranometer).\n",
    "        ds_l1b = ds_l1b.drop_vars([var for var in ds_l1b if radflx in var])\n",
    "        continue\n",
    "    ds_l1b[radflx].values = ds_l1b[radflx].values*1e6/cfac[i] # V -> W m-2\n",
    "    ds_l1b[radflx].attrs['units'] = \"W m-2\",\n",
    "    ds_l1b[radflx].attrs.update({\n",
    "        \"units\": \"W m-2\",\n",
    "        \"serial\": serial[i],\n",
    "        \"calibration_factor\": cfac[i]\n",
    "    })\n",
    "    # ds_l1b[radflx].encoding.update({\n",
    "    #     'scale_factor': ds_l1b[radflx].encoding['scale_factor']*1e6/cfac[i]\n",
    "    # })"
   ],
   "metadata": {
    "collapsed": false,
    "ExecuteTime": {
     "end_time": "2024-01-31T07:48:50.557220100Z",
     "start_time": "2024-01-31T07:48:50.447076500Z"
    }
   }
  },
  {
   "cell_type": "code",
   "execution_count": 25,
   "outputs": [],
   "source": [
    "#|hide\n",
    "# dsp = ds_l1b.sel(time=\"2019-07-15\")\n",
    "# plt.figure()\n",
    "# plt.plot(dsp.time, dsp.ghi)\n",
    "# plt.grid()"
   ],
   "metadata": {
    "collapsed": false,
    "ExecuteTime": {
     "end_time": "2024-01-31T07:48:50.559215600Z",
     "start_time": "2024-01-31T07:48:50.482228Z"
    }
   }
  },
  {
   "cell_type": "markdown",
   "source": [
    "6. Apply appropriate binning to ADC values\n",
    "    * ```pyrnet.data.resample```\n"
   ],
   "metadata": {
    "collapsed": false
   }
  },
  {
   "cell_type": "code",
   "execution_count": 26,
   "outputs": [],
   "source": [
    "#|dropcode\n",
    "#|dropout\n",
    "# 6. resample to desired resolution\n",
    "# --- This method is replaced with the data.resample function ---\n",
    "# ds_l1b1 = pyrlogger.resample_mean(ds_l1b,freq=config['l1bfreq'])\n",
    "# ds_l1b1"
   ],
   "metadata": {
    "collapsed": false,
    "ExecuteTime": {
     "end_time": "2024-01-31T07:48:50.559215600Z",
     "start_time": "2024-01-31T07:48:50.496161Z"
    }
   }
  },
  {
   "cell_type": "code",
   "execution_count": 27,
   "outputs": [
    {
     "data": {
      "text/plain": "<xarray.Dataset>\nDimensions:          (station: 1, time: 5)\nCoordinates:\n  * station          (station) float64 1.0\n  * time             (time) datetime64[ns] 2022-08-30T11:21:03 ... 2022-08-30...\nData variables:\n    ghi              (time, station) float32 269.9 269.7 269.9 269.9 269.9\n    gti              (time, station) float32 277.3 277.3 277.4 277.3 277.3\n    ta               (time, station) float32 294.8 294.7 294.8 294.7 294.8\n    rh               (time, station) float32 0.6263 0.6266 0.6271 0.6271 0.629\n    battery_voltage  (time, station) float32 6.445 6.446 6.45 6.448 6.458\n    ghi_min          (time, station) float32 269.9 268.5 269.9 269.9 269.9\n    gti_min          (time, station) float32 277.3 275.7 275.7 277.3 277.3\n    ghi_max          (time, station) float32 269.9 269.9 269.9 269.9 269.9\n    gti_max          (time, station) float32 277.3 278.8 278.8 277.3 277.3\n    ghi_std          (time, station) float64 0.0 0.4399 0.0 0.0 0.0\n    gti_std          (time, station) float64 0.0 0.7262 0.8745 0.0 0.0\nAttributes: (12/31)\n    title:                     TROPOS pyranometer network (PyrNet) observations\n    institution:               Leibniz Institute for Tropospheric Research (T...\n    department:                Remote Sensing of Atmospheric Processes\n    department_team:           Clouds, Aerosol and Radiation\n    address:                   Permoser Str. 15, 04318 Leipzig, Germany\n    source:                    TROPOS pyranometer network (PyrNet)\n    ...                        ...\n    geospatial_lon_max:        11.885256666666667\n    geospatial_lon_units:      degE\n    time_coverage_start:       2022-08-30T11:21:04.065000\n    time_coverage_end:         2022-08-30T11:21:09\n    time_coverage_duration:    P0DT0H0M4.935S\n    time_coverage_resolution:  P0DT0H0M1.23375S",
      "text/html": "<div><svg style=\"position: absolute; width: 0; height: 0; overflow: hidden\">\n<defs>\n<symbol id=\"icon-database\" viewBox=\"0 0 32 32\">\n<path d=\"M16 0c-8.837 0-16 2.239-16 5v4c0 2.761 7.163 5 16 5s16-2.239 16-5v-4c0-2.761-7.163-5-16-5z\"></path>\n<path d=\"M16 17c-8.837 0-16-2.239-16-5v6c0 2.761 7.163 5 16 5s16-2.239 16-5v-6c0 2.761-7.163 5-16 5z\"></path>\n<path d=\"M16 26c-8.837 0-16-2.239-16-5v6c0 2.761 7.163 5 16 5s16-2.239 16-5v-6c0 2.761-7.163 5-16 5z\"></path>\n</symbol>\n<symbol id=\"icon-file-text2\" viewBox=\"0 0 32 32\">\n<path d=\"M28.681 7.159c-0.694-0.947-1.662-2.053-2.724-3.116s-2.169-2.030-3.116-2.724c-1.612-1.182-2.393-1.319-2.841-1.319h-15.5c-1.378 0-2.5 1.121-2.5 2.5v27c0 1.378 1.122 2.5 2.5 2.5h23c1.378 0 2.5-1.122 2.5-2.5v-19.5c0-0.448-0.137-1.23-1.319-2.841zM24.543 5.457c0.959 0.959 1.712 1.825 2.268 2.543h-4.811v-4.811c0.718 0.556 1.584 1.309 2.543 2.268zM28 29.5c0 0.271-0.229 0.5-0.5 0.5h-23c-0.271 0-0.5-0.229-0.5-0.5v-27c0-0.271 0.229-0.5 0.5-0.5 0 0 15.499-0 15.5 0v7c0 0.552 0.448 1 1 1h7v19.5z\"></path>\n<path d=\"M23 26h-14c-0.552 0-1-0.448-1-1s0.448-1 1-1h14c0.552 0 1 0.448 1 1s-0.448 1-1 1z\"></path>\n<path d=\"M23 22h-14c-0.552 0-1-0.448-1-1s0.448-1 1-1h14c0.552 0 1 0.448 1 1s-0.448 1-1 1z\"></path>\n<path d=\"M23 18h-14c-0.552 0-1-0.448-1-1s0.448-1 1-1h14c0.552 0 1 0.448 1 1s-0.448 1-1 1z\"></path>\n</symbol>\n</defs>\n</svg>\n<style>/* CSS stylesheet for displaying xarray objects in jupyterlab.\n *\n */\n\n:root {\n  --xr-font-color0: var(--jp-content-font-color0, rgba(0, 0, 0, 1));\n  --xr-font-color2: var(--jp-content-font-color2, rgba(0, 0, 0, 0.54));\n  --xr-font-color3: var(--jp-content-font-color3, rgba(0, 0, 0, 0.38));\n  --xr-border-color: var(--jp-border-color2, #e0e0e0);\n  --xr-disabled-color: var(--jp-layout-color3, #bdbdbd);\n  --xr-background-color: var(--jp-layout-color0, white);\n  --xr-background-color-row-even: var(--jp-layout-color1, white);\n  --xr-background-color-row-odd: var(--jp-layout-color2, #eeeeee);\n}\n\nhtml[theme=dark],\nbody[data-theme=dark],\nbody.vscode-dark {\n  --xr-font-color0: rgba(255, 255, 255, 1);\n  --xr-font-color2: rgba(255, 255, 255, 0.54);\n  --xr-font-color3: rgba(255, 255, 255, 0.38);\n  --xr-border-color: #1F1F1F;\n  --xr-disabled-color: #515151;\n  --xr-background-color: #111111;\n  --xr-background-color-row-even: #111111;\n  --xr-background-color-row-odd: #313131;\n}\n\n.xr-wrap {\n  display: block !important;\n  min-width: 300px;\n  max-width: 700px;\n}\n\n.xr-text-repr-fallback {\n  /* fallback to plain text repr when CSS is not injected (untrusted notebook) */\n  display: none;\n}\n\n.xr-header {\n  padding-top: 6px;\n  padding-bottom: 6px;\n  margin-bottom: 4px;\n  border-bottom: solid 1px var(--xr-border-color);\n}\n\n.xr-header > div,\n.xr-header > ul {\n  display: inline;\n  margin-top: 0;\n  margin-bottom: 0;\n}\n\n.xr-obj-type,\n.xr-array-name {\n  margin-left: 2px;\n  margin-right: 10px;\n}\n\n.xr-obj-type {\n  color: var(--xr-font-color2);\n}\n\n.xr-sections {\n  padding-left: 0 !important;\n  display: grid;\n  grid-template-columns: 150px auto auto 1fr 20px 20px;\n}\n\n.xr-section-item {\n  display: contents;\n}\n\n.xr-section-item input {\n  display: none;\n}\n\n.xr-section-item input + label {\n  color: var(--xr-disabled-color);\n}\n\n.xr-section-item input:enabled + label {\n  cursor: pointer;\n  color: var(--xr-font-color2);\n}\n\n.xr-section-item input:enabled + label:hover {\n  color: var(--xr-font-color0);\n}\n\n.xr-section-summary {\n  grid-column: 1;\n  color: var(--xr-font-color2);\n  font-weight: 500;\n}\n\n.xr-section-summary > span {\n  display: inline-block;\n  padding-left: 0.5em;\n}\n\n.xr-section-summary-in:disabled + label {\n  color: var(--xr-font-color2);\n}\n\n.xr-section-summary-in + label:before {\n  display: inline-block;\n  content: '►';\n  font-size: 11px;\n  width: 15px;\n  text-align: center;\n}\n\n.xr-section-summary-in:disabled + label:before {\n  color: var(--xr-disabled-color);\n}\n\n.xr-section-summary-in:checked + label:before {\n  content: '▼';\n}\n\n.xr-section-summary-in:checked + label > span {\n  display: none;\n}\n\n.xr-section-summary,\n.xr-section-inline-details {\n  padding-top: 4px;\n  padding-bottom: 4px;\n}\n\n.xr-section-inline-details {\n  grid-column: 2 / -1;\n}\n\n.xr-section-details {\n  display: none;\n  grid-column: 1 / -1;\n  margin-bottom: 5px;\n}\n\n.xr-section-summary-in:checked ~ .xr-section-details {\n  display: contents;\n}\n\n.xr-array-wrap {\n  grid-column: 1 / -1;\n  display: grid;\n  grid-template-columns: 20px auto;\n}\n\n.xr-array-wrap > label {\n  grid-column: 1;\n  vertical-align: top;\n}\n\n.xr-preview {\n  color: var(--xr-font-color3);\n}\n\n.xr-array-preview,\n.xr-array-data {\n  padding: 0 5px !important;\n  grid-column: 2;\n}\n\n.xr-array-data,\n.xr-array-in:checked ~ .xr-array-preview {\n  display: none;\n}\n\n.xr-array-in:checked ~ .xr-array-data,\n.xr-array-preview {\n  display: inline-block;\n}\n\n.xr-dim-list {\n  display: inline-block !important;\n  list-style: none;\n  padding: 0 !important;\n  margin: 0;\n}\n\n.xr-dim-list li {\n  display: inline-block;\n  padding: 0;\n  margin: 0;\n}\n\n.xr-dim-list:before {\n  content: '(';\n}\n\n.xr-dim-list:after {\n  content: ')';\n}\n\n.xr-dim-list li:not(:last-child):after {\n  content: ',';\n  padding-right: 5px;\n}\n\n.xr-has-index {\n  font-weight: bold;\n}\n\n.xr-var-list,\n.xr-var-item {\n  display: contents;\n}\n\n.xr-var-item > div,\n.xr-var-item label,\n.xr-var-item > .xr-var-name span {\n  background-color: var(--xr-background-color-row-even);\n  margin-bottom: 0;\n}\n\n.xr-var-item > .xr-var-name:hover span {\n  padding-right: 5px;\n}\n\n.xr-var-list > li:nth-child(odd) > div,\n.xr-var-list > li:nth-child(odd) > label,\n.xr-var-list > li:nth-child(odd) > .xr-var-name span {\n  background-color: var(--xr-background-color-row-odd);\n}\n\n.xr-var-name {\n  grid-column: 1;\n}\n\n.xr-var-dims {\n  grid-column: 2;\n}\n\n.xr-var-dtype {\n  grid-column: 3;\n  text-align: right;\n  color: var(--xr-font-color2);\n}\n\n.xr-var-preview {\n  grid-column: 4;\n}\n\n.xr-index-preview {\n  grid-column: 2 / 5;\n  color: var(--xr-font-color2);\n}\n\n.xr-var-name,\n.xr-var-dims,\n.xr-var-dtype,\n.xr-preview,\n.xr-attrs dt {\n  white-space: nowrap;\n  overflow: hidden;\n  text-overflow: ellipsis;\n  padding-right: 10px;\n}\n\n.xr-var-name:hover,\n.xr-var-dims:hover,\n.xr-var-dtype:hover,\n.xr-attrs dt:hover {\n  overflow: visible;\n  width: auto;\n  z-index: 1;\n}\n\n.xr-var-attrs,\n.xr-var-data,\n.xr-index-data {\n  display: none;\n  background-color: var(--xr-background-color) !important;\n  padding-bottom: 5px !important;\n}\n\n.xr-var-attrs-in:checked ~ .xr-var-attrs,\n.xr-var-data-in:checked ~ .xr-var-data,\n.xr-index-data-in:checked ~ .xr-index-data {\n  display: block;\n}\n\n.xr-var-data > table {\n  float: right;\n}\n\n.xr-var-name span,\n.xr-var-data,\n.xr-index-name div,\n.xr-index-data,\n.xr-attrs {\n  padding-left: 25px !important;\n}\n\n.xr-attrs,\n.xr-var-attrs,\n.xr-var-data,\n.xr-index-data {\n  grid-column: 1 / -1;\n}\n\ndl.xr-attrs {\n  padding: 0;\n  margin: 0;\n  display: grid;\n  grid-template-columns: 125px auto;\n}\n\n.xr-attrs dt,\n.xr-attrs dd {\n  padding: 0;\n  margin: 0;\n  float: left;\n  padding-right: 10px;\n  width: auto;\n}\n\n.xr-attrs dt {\n  font-weight: normal;\n  grid-column: 1;\n}\n\n.xr-attrs dt:hover span {\n  display: inline-block;\n  background: var(--xr-background-color);\n  padding-right: 10px;\n}\n\n.xr-attrs dd {\n  grid-column: 2;\n  white-space: pre-wrap;\n  word-break: break-all;\n}\n\n.xr-icon-database,\n.xr-icon-file-text2,\n.xr-no-icon {\n  display: inline-block;\n  vertical-align: middle;\n  width: 1em;\n  height: 1.5em !important;\n  stroke-width: 0;\n  stroke: currentColor;\n  fill: currentColor;\n}\n</style><pre class='xr-text-repr-fallback'>&lt;xarray.Dataset&gt;\nDimensions:          (station: 1, time: 5)\nCoordinates:\n  * station          (station) float64 1.0\n  * time             (time) datetime64[ns] 2022-08-30T11:21:03 ... 2022-08-30...\nData variables:\n    ghi              (time, station) float32 269.9 269.7 269.9 269.9 269.9\n    gti              (time, station) float32 277.3 277.3 277.4 277.3 277.3\n    ta               (time, station) float32 294.8 294.7 294.8 294.7 294.8\n    rh               (time, station) float32 0.6263 0.6266 0.6271 0.6271 0.629\n    battery_voltage  (time, station) float32 6.445 6.446 6.45 6.448 6.458\n    ghi_min          (time, station) float32 269.9 268.5 269.9 269.9 269.9\n    gti_min          (time, station) float32 277.3 275.7 275.7 277.3 277.3\n    ghi_max          (time, station) float32 269.9 269.9 269.9 269.9 269.9\n    gti_max          (time, station) float32 277.3 278.8 278.8 277.3 277.3\n    ghi_std          (time, station) float64 0.0 0.4399 0.0 0.0 0.0\n    gti_std          (time, station) float64 0.0 0.7262 0.8745 0.0 0.0\nAttributes: (12/31)\n    title:                     TROPOS pyranometer network (PyrNet) observations\n    institution:               Leibniz Institute for Tropospheric Research (T...\n    department:                Remote Sensing of Atmospheric Processes\n    department_team:           Clouds, Aerosol and Radiation\n    address:                   Permoser Str. 15, 04318 Leipzig, Germany\n    source:                    TROPOS pyranometer network (PyrNet)\n    ...                        ...\n    geospatial_lon_max:        11.885256666666667\n    geospatial_lon_units:      degE\n    time_coverage_start:       2022-08-30T11:21:04.065000\n    time_coverage_end:         2022-08-30T11:21:09\n    time_coverage_duration:    P0DT0H0M4.935S\n    time_coverage_resolution:  P0DT0H0M1.23375S</pre><div class='xr-wrap' style='display:none'><div class='xr-header'><div class='xr-obj-type'>xarray.Dataset</div></div><ul class='xr-sections'><li class='xr-section-item'><input id='section-1e20d23a-cd8f-4116-8a99-f1b9371d10e0' class='xr-section-summary-in' type='checkbox' disabled ><label for='section-1e20d23a-cd8f-4116-8a99-f1b9371d10e0' class='xr-section-summary'  title='Expand/collapse section'>Dimensions:</label><div class='xr-section-inline-details'><ul class='xr-dim-list'><li><span class='xr-has-index'>station</span>: 1</li><li><span class='xr-has-index'>time</span>: 5</li></ul></div><div class='xr-section-details'></div></li><li class='xr-section-item'><input id='section-a996a434-99df-4c77-a516-d00c2955804b' class='xr-section-summary-in' type='checkbox'  checked><label for='section-a996a434-99df-4c77-a516-d00c2955804b' class='xr-section-summary' >Coordinates: <span>(2)</span></label><div class='xr-section-inline-details'></div><div class='xr-section-details'><ul class='xr-var-list'><li class='xr-var-item'><div class='xr-var-name'><span class='xr-has-index'>station</span></div><div class='xr-var-dims'>(station)</div><div class='xr-var-dtype'>float64</div><div class='xr-var-preview xr-preview'>1.0</div><input id='attrs-064949c8-a599-4884-85df-826705b5b991' class='xr-var-attrs-in' type='checkbox' disabled><label for='attrs-064949c8-a599-4884-85df-826705b5b991' title='Show/Hide attributes'><svg class='icon xr-icon-file-text2'><use xlink:href='#icon-file-text2'></use></svg></label><input id='data-44ac387d-c735-497d-a2e8-7f2f26ff6c1a' class='xr-var-data-in' type='checkbox'><label for='data-44ac387d-c735-497d-a2e8-7f2f26ff6c1a' title='Show/Hide data repr'><svg class='icon xr-icon-database'><use xlink:href='#icon-database'></use></svg></label><div class='xr-var-attrs'><dl class='xr-attrs'></dl></div><div class='xr-var-data'><pre>array([1.])</pre></div></li><li class='xr-var-item'><div class='xr-var-name'><span class='xr-has-index'>time</span></div><div class='xr-var-dims'>(time)</div><div class='xr-var-dtype'>datetime64[ns]</div><div class='xr-var-preview xr-preview'>2022-08-30T11:21:03 ... 2022-08-...</div><input id='attrs-06884383-991f-49b5-9e6d-2aa59614d8be' class='xr-var-attrs-in' type='checkbox' disabled><label for='attrs-06884383-991f-49b5-9e6d-2aa59614d8be' title='Show/Hide attributes'><svg class='icon xr-icon-file-text2'><use xlink:href='#icon-file-text2'></use></svg></label><input id='data-e3e419d3-2f3d-401f-953b-253c1cf80de5' class='xr-var-data-in' type='checkbox'><label for='data-e3e419d3-2f3d-401f-953b-253c1cf80de5' title='Show/Hide data repr'><svg class='icon xr-icon-database'><use xlink:href='#icon-database'></use></svg></label><div class='xr-var-attrs'><dl class='xr-attrs'></dl></div><div class='xr-var-data'><pre>array([&#x27;2022-08-30T11:21:03.000000000&#x27;, &#x27;2022-08-30T11:21:04.000000000&#x27;,\n       &#x27;2022-08-30T11:21:05.000000000&#x27;, &#x27;2022-08-30T11:21:06.000000000&#x27;,\n       &#x27;2022-08-30T11:21:07.000000000&#x27;], dtype=&#x27;datetime64[ns]&#x27;)</pre></div></li></ul></div></li><li class='xr-section-item'><input id='section-57405c7f-da86-40b9-8d40-4ab13a1e78cd' class='xr-section-summary-in' type='checkbox'  checked><label for='section-57405c7f-da86-40b9-8d40-4ab13a1e78cd' class='xr-section-summary' >Data variables: <span>(11)</span></label><div class='xr-section-inline-details'></div><div class='xr-section-details'><ul class='xr-var-list'><li class='xr-var-item'><div class='xr-var-name'><span>ghi</span></div><div class='xr-var-dims'>(time, station)</div><div class='xr-var-dtype'>float32</div><div class='xr-var-preview xr-preview'>269.9 269.7 269.9 269.9 269.9</div><input id='attrs-99c17260-2d57-4c0e-aa7e-6d428c4a1163' class='xr-var-attrs-in' type='checkbox' ><label for='attrs-99c17260-2d57-4c0e-aa7e-6d428c4a1163' title='Show/Hide attributes'><svg class='icon xr-icon-file-text2'><use xlink:href='#icon-file-text2'></use></svg></label><input id='data-650fd3ec-34b7-4c1a-9510-46f8984d5040' class='xr-var-data-in' type='checkbox'><label for='data-650fd3ec-34b7-4c1a-9510-46f8984d5040' title='Show/Hide data repr'><svg class='icon xr-icon-database'><use xlink:href='#icon-database'></use></svg></label><div class='xr-var-attrs'><dl class='xr-attrs'><dt><span>units :</span></dt><dd>W m-2</dd><dt><span>long_name :</span></dt><dd>downwelling shortwave flux</dd><dt><span>standard_name :</span></dt><dd>downwelling_shortwave_flux_in_air</dd><dt><span>valid_range :</span></dt><dd>[   0 1023]</dd><dt><span>serial :</span></dt><dd>S12128.001</dd><dt><span>calibration_factor :</span></dt><dd>7.73</dd></dl></div><div class='xr-var-data'><pre>array([[269.86047],\n       [269.72137],\n       [269.86047],\n       [269.86047],\n       [269.86047]], dtype=float32)</pre></div></li><li class='xr-var-item'><div class='xr-var-name'><span>gti</span></div><div class='xr-var-dims'>(time, station)</div><div class='xr-var-dtype'>float32</div><div class='xr-var-preview xr-preview'>277.3 277.3 277.4 277.3 277.3</div><input id='attrs-a9c5d1ac-244a-4308-a74b-3f101ae1cffe' class='xr-var-attrs-in' type='checkbox' ><label for='attrs-a9c5d1ac-244a-4308-a74b-3f101ae1cffe' title='Show/Hide attributes'><svg class='icon xr-icon-file-text2'><use xlink:href='#icon-file-text2'></use></svg></label><input id='data-e59cc8d9-2350-408b-bc68-6a408332dd33' class='xr-var-data-in' type='checkbox'><label for='data-e59cc8d9-2350-408b-bc68-6a408332dd33' title='Show/Hide data repr'><svg class='icon xr-icon-database'><use xlink:href='#icon-database'></use></svg></label><div class='xr-var-attrs'><dl class='xr-attrs'><dt><span>units :</span></dt><dd>W m-2</dd><dt><span>long_name :</span></dt><dd>downwelling shortwave flux measured on secondary platform, might be tilted</dd><dt><span>standard_name :</span></dt><dd>downwelling_shortwave_flux_in_air</dd><dt><span>valid_range :</span></dt><dd>[   0 1023]</dd><dt><span>hangle :</span></dt><dd>0.0</dd><dt><span>vangle :</span></dt><dd>0.0</dd><dt><span>serial :</span></dt><dd>S12137.049</dd><dt><span>calibration_factor :</span></dt><dd>6.98</dd></dl></div><div class='xr-var-data'><pre>array([[277.28995],\n       [277.28995],\n       [277.444  ],\n       [277.28995],\n       [277.28995]], dtype=float32)</pre></div></li><li class='xr-var-item'><div class='xr-var-name'><span>ta</span></div><div class='xr-var-dims'>(time, station)</div><div class='xr-var-dtype'>float32</div><div class='xr-var-preview xr-preview'>294.8 294.7 294.8 294.7 294.8</div><input id='attrs-2b682253-0760-48da-8e61-2cdaaa1a04c2' class='xr-var-attrs-in' type='checkbox' ><label for='attrs-2b682253-0760-48da-8e61-2cdaaa1a04c2' title='Show/Hide attributes'><svg class='icon xr-icon-file-text2'><use xlink:href='#icon-file-text2'></use></svg></label><input id='data-8fd265c9-9129-4cd0-a98e-ea98c3cd0b0f' class='xr-var-data-in' type='checkbox'><label for='data-8fd265c9-9129-4cd0-a98e-ea98c3cd0b0f' title='Show/Hide data repr'><svg class='icon xr-icon-database'><use xlink:href='#icon-database'></use></svg></label><div class='xr-var-attrs'><dl class='xr-attrs'><dt><span>units :</span></dt><dd>K</dd><dt><span>long_name :</span></dt><dd>air temperature</dd><dt><span>standard_name :</span></dt><dd>air_temperature</dd><dt><span>valid_range :</span></dt><dd>[  0 775]</dd></dl></div><div class='xr-var-data'><pre>array([[294.7758 ],\n       [294.74997],\n       [294.7887 ],\n       [294.74997],\n       [294.82742]], dtype=float32)</pre></div></li><li class='xr-var-item'><div class='xr-var-name'><span>rh</span></div><div class='xr-var-dims'>(time, station)</div><div class='xr-var-dtype'>float32</div><div class='xr-var-preview xr-preview'>0.6263 0.6266 0.6271 0.6271 0.629</div><input id='attrs-55b35f15-78ff-4a4b-ac3a-1729e44a42c3' class='xr-var-attrs-in' type='checkbox' ><label for='attrs-55b35f15-78ff-4a4b-ac3a-1729e44a42c3' title='Show/Hide attributes'><svg class='icon xr-icon-file-text2'><use xlink:href='#icon-file-text2'></use></svg></label><input id='data-92a4ce79-5fe9-45b4-8ab6-38665e629124' class='xr-var-data-in' type='checkbox'><label for='data-92a4ce79-5fe9-45b4-8ab6-38665e629124' title='Show/Hide data repr'><svg class='icon xr-icon-database'><use xlink:href='#icon-database'></use></svg></label><div class='xr-var-attrs'><dl class='xr-attrs'><dt><span>units :</span></dt><dd>1</dd><dt><span>long_name :</span></dt><dd>air relative humidity</dd><dt><span>standard_name :</span></dt><dd>relative_humidity</dd><dt><span>valid_range :</span></dt><dd>[  0 775]</dd></dl></div><div class='xr-var-data'><pre>array([[0.62632257],\n       [0.6265806 ],\n       [0.6270968 ],\n       [0.6270968 ],\n       [0.62903225]], dtype=float32)</pre></div></li><li class='xr-var-item'><div class='xr-var-name'><span>battery_voltage</span></div><div class='xr-var-dims'>(time, station)</div><div class='xr-var-dtype'>float32</div><div class='xr-var-preview xr-preview'>6.445 6.446 6.45 6.448 6.458</div><input id='attrs-ab8897d2-096e-4a38-b3aa-96223d1eaa44' class='xr-var-attrs-in' type='checkbox' ><label for='attrs-ab8897d2-096e-4a38-b3aa-96223d1eaa44' title='Show/Hide attributes'><svg class='icon xr-icon-file-text2'><use xlink:href='#icon-file-text2'></use></svg></label><input id='data-ded4c572-b54a-4bc2-86c3-ab0332f38a8e' class='xr-var-data-in' type='checkbox'><label for='data-ded4c572-b54a-4bc2-86c3-ab0332f38a8e' title='Show/Hide data repr'><svg class='icon xr-icon-database'><use xlink:href='#icon-database'></use></svg></label><div class='xr-var-attrs'><dl class='xr-attrs'><dt><span>units :</span></dt><dd>V</dd><dt><span>standard_name :</span></dt><dd>battery_voltage</dd><dt><span>valid_range :</span></dt><dd>[  0 992]</dd></dl></div><div class='xr-var-data'><pre>array([[6.4451613],\n       [6.445807 ],\n       [6.4496775],\n       [6.4477415],\n       [6.4580646]], dtype=float32)</pre></div></li><li class='xr-var-item'><div class='xr-var-name'><span>ghi_min</span></div><div class='xr-var-dims'>(time, station)</div><div class='xr-var-dtype'>float32</div><div class='xr-var-preview xr-preview'>269.9 268.5 269.9 269.9 269.9</div><input id='attrs-cde7187a-9d74-482f-ae1c-c64ea026e4c1' class='xr-var-attrs-in' type='checkbox' ><label for='attrs-cde7187a-9d74-482f-ae1c-c64ea026e4c1' title='Show/Hide attributes'><svg class='icon xr-icon-file-text2'><use xlink:href='#icon-file-text2'></use></svg></label><input id='data-5d501770-6b36-4d90-9bdc-0c7cc50cce4e' class='xr-var-data-in' type='checkbox'><label for='data-5d501770-6b36-4d90-9bdc-0c7cc50cce4e' title='Show/Hide data repr'><svg class='icon xr-icon-database'><use xlink:href='#icon-database'></use></svg></label><div class='xr-var-attrs'><dl class='xr-attrs'><dt><span>units :</span></dt><dd>W m-2</dd><dt><span>long_name :</span></dt><dd>downwelling shortwave flux</dd><dt><span>standard_name :</span></dt><dd>min_downwelling_shortwave_flux_in_air</dd><dt><span>valid_range :</span></dt><dd>[   0 1023]</dd><dt><span>serial :</span></dt><dd>S12128.001</dd><dt><span>calibration_factor :</span></dt><dd>7.73</dd></dl></div><div class='xr-var-data'><pre>array([[269.86047],\n       [268.46945],\n       [269.86047],\n       [269.86047],\n       [269.86047]], dtype=float32)</pre></div></li><li class='xr-var-item'><div class='xr-var-name'><span>gti_min</span></div><div class='xr-var-dims'>(time, station)</div><div class='xr-var-dtype'>float32</div><div class='xr-var-preview xr-preview'>277.3 275.7 275.7 277.3 277.3</div><input id='attrs-2920f726-7373-4430-b795-c4b70bf1736b' class='xr-var-attrs-in' type='checkbox' ><label for='attrs-2920f726-7373-4430-b795-c4b70bf1736b' title='Show/Hide attributes'><svg class='icon xr-icon-file-text2'><use xlink:href='#icon-file-text2'></use></svg></label><input id='data-5b6416fa-7e84-43a5-abdf-13ae261f0a83' class='xr-var-data-in' type='checkbox'><label for='data-5b6416fa-7e84-43a5-abdf-13ae261f0a83' title='Show/Hide data repr'><svg class='icon xr-icon-database'><use xlink:href='#icon-database'></use></svg></label><div class='xr-var-attrs'><dl class='xr-attrs'><dt><span>units :</span></dt><dd>W m-2</dd><dt><span>long_name :</span></dt><dd>downwelling shortwave flux measured on secondary platform, might be tilted</dd><dt><span>standard_name :</span></dt><dd>min_downwelling_shortwave_flux_in_air</dd><dt><span>valid_range :</span></dt><dd>[   0 1023]</dd><dt><span>hangle :</span></dt><dd>0.0</dd><dt><span>vangle :</span></dt><dd>0.0</dd><dt><span>serial :</span></dt><dd>S12137.049</dd><dt><span>calibration_factor :</span></dt><dd>6.98</dd></dl></div><div class='xr-var-data'><pre>array([[277.28995],\n       [275.74945],\n       [275.74945],\n       [277.28995],\n       [277.28995]], dtype=float32)</pre></div></li><li class='xr-var-item'><div class='xr-var-name'><span>ghi_max</span></div><div class='xr-var-dims'>(time, station)</div><div class='xr-var-dtype'>float32</div><div class='xr-var-preview xr-preview'>269.9 269.9 269.9 269.9 269.9</div><input id='attrs-a9102f59-a689-4455-b1af-4922b7451a75' class='xr-var-attrs-in' type='checkbox' ><label for='attrs-a9102f59-a689-4455-b1af-4922b7451a75' title='Show/Hide attributes'><svg class='icon xr-icon-file-text2'><use xlink:href='#icon-file-text2'></use></svg></label><input id='data-5a9d98ae-20ff-4282-a0e9-d29cfd68172d' class='xr-var-data-in' type='checkbox'><label for='data-5a9d98ae-20ff-4282-a0e9-d29cfd68172d' title='Show/Hide data repr'><svg class='icon xr-icon-database'><use xlink:href='#icon-database'></use></svg></label><div class='xr-var-attrs'><dl class='xr-attrs'><dt><span>units :</span></dt><dd>W m-2</dd><dt><span>long_name :</span></dt><dd>downwelling shortwave flux</dd><dt><span>standard_name :</span></dt><dd>max_downwelling_shortwave_flux_in_air</dd><dt><span>valid_range :</span></dt><dd>[   0 1023]</dd><dt><span>serial :</span></dt><dd>S12128.001</dd><dt><span>calibration_factor :</span></dt><dd>7.73</dd></dl></div><div class='xr-var-data'><pre>array([[269.86047],\n       [269.86047],\n       [269.86047],\n       [269.86047],\n       [269.86047]], dtype=float32)</pre></div></li><li class='xr-var-item'><div class='xr-var-name'><span>gti_max</span></div><div class='xr-var-dims'>(time, station)</div><div class='xr-var-dtype'>float32</div><div class='xr-var-preview xr-preview'>277.3 278.8 278.8 277.3 277.3</div><input id='attrs-89fc211b-27cd-4253-a754-a99a12c0bfdc' class='xr-var-attrs-in' type='checkbox' ><label for='attrs-89fc211b-27cd-4253-a754-a99a12c0bfdc' title='Show/Hide attributes'><svg class='icon xr-icon-file-text2'><use xlink:href='#icon-file-text2'></use></svg></label><input id='data-85b6c4f9-e729-4df6-aece-2fa02fe5382e' class='xr-var-data-in' type='checkbox'><label for='data-85b6c4f9-e729-4df6-aece-2fa02fe5382e' title='Show/Hide data repr'><svg class='icon xr-icon-database'><use xlink:href='#icon-database'></use></svg></label><div class='xr-var-attrs'><dl class='xr-attrs'><dt><span>units :</span></dt><dd>W m-2</dd><dt><span>long_name :</span></dt><dd>downwelling shortwave flux measured on secondary platform, might be tilted</dd><dt><span>standard_name :</span></dt><dd>max_downwelling_shortwave_flux_in_air</dd><dt><span>valid_range :</span></dt><dd>[   0 1023]</dd><dt><span>hangle :</span></dt><dd>0.0</dd><dt><span>vangle :</span></dt><dd>0.0</dd><dt><span>serial :</span></dt><dd>S12137.049</dd><dt><span>calibration_factor :</span></dt><dd>6.98</dd></dl></div><div class='xr-var-data'><pre>array([[277.28995],\n       [278.83044],\n       [278.83044],\n       [277.28995],\n       [277.28995]], dtype=float32)</pre></div></li><li class='xr-var-item'><div class='xr-var-name'><span>ghi_std</span></div><div class='xr-var-dims'>(time, station)</div><div class='xr-var-dtype'>float64</div><div class='xr-var-preview xr-preview'>0.0 0.4399 0.0 0.0 0.0</div><input id='attrs-a809d105-4ce8-486c-a860-f58114347c6c' class='xr-var-attrs-in' type='checkbox' ><label for='attrs-a809d105-4ce8-486c-a860-f58114347c6c' title='Show/Hide attributes'><svg class='icon xr-icon-file-text2'><use xlink:href='#icon-file-text2'></use></svg></label><input id='data-45c30a27-a122-40ac-9f6c-533765a0fc1e' class='xr-var-data-in' type='checkbox'><label for='data-45c30a27-a122-40ac-9f6c-533765a0fc1e' title='Show/Hide data repr'><svg class='icon xr-icon-database'><use xlink:href='#icon-database'></use></svg></label><div class='xr-var-attrs'><dl class='xr-attrs'><dt><span>units :</span></dt><dd>W m-2</dd><dt><span>long_name :</span></dt><dd>downwelling shortwave flux</dd><dt><span>standard_name :</span></dt><dd>std_downwelling_shortwave_flux_in_air</dd><dt><span>valid_range :</span></dt><dd>[   0 1023]</dd><dt><span>serial :</span></dt><dd>S12128.001</dd><dt><span>calibration_factor :</span></dt><dd>7.73</dd></dl></div><div class='xr-var-data'><pre>array([[0.        ],\n       [0.43987969],\n       [0.        ],\n       [0.        ],\n       [0.        ]])</pre></div></li><li class='xr-var-item'><div class='xr-var-name'><span>gti_std</span></div><div class='xr-var-dims'>(time, station)</div><div class='xr-var-dtype'>float64</div><div class='xr-var-preview xr-preview'>0.0 0.7262 0.8745 0.0 0.0</div><input id='attrs-536ce873-a1be-4025-a01f-fc1fbfb932b6' class='xr-var-attrs-in' type='checkbox' ><label for='attrs-536ce873-a1be-4025-a01f-fc1fbfb932b6' title='Show/Hide attributes'><svg class='icon xr-icon-file-text2'><use xlink:href='#icon-file-text2'></use></svg></label><input id='data-8e93c416-9791-478a-979d-3cc4d3ef126d' class='xr-var-data-in' type='checkbox'><label for='data-8e93c416-9791-478a-979d-3cc4d3ef126d' title='Show/Hide data repr'><svg class='icon xr-icon-database'><use xlink:href='#icon-database'></use></svg></label><div class='xr-var-attrs'><dl class='xr-attrs'><dt><span>units :</span></dt><dd>W m-2</dd><dt><span>long_name :</span></dt><dd>downwelling shortwave flux measured on secondary platform, might be tilted</dd><dt><span>standard_name :</span></dt><dd>std_downwelling_shortwave_flux_in_air</dd><dt><span>valid_range :</span></dt><dd>[   0 1023]</dd><dt><span>hangle :</span></dt><dd>0.0</dd><dt><span>vangle :</span></dt><dd>0.0</dd><dt><span>serial :</span></dt><dd>S12137.049</dd><dt><span>calibration_factor :</span></dt><dd>6.98</dd></dl></div><div class='xr-var-data'><pre>array([[0.        ],\n       [0.72619717],\n       [0.87445719],\n       [0.        ],\n       [0.        ]])</pre></div></li></ul></div></li><li class='xr-section-item'><input id='section-6296a7a4-eb06-4449-abef-7c9eab2c7067' class='xr-section-summary-in' type='checkbox'  ><label for='section-6296a7a4-eb06-4449-abef-7c9eab2c7067' class='xr-section-summary' >Indexes: <span>(2)</span></label><div class='xr-section-inline-details'></div><div class='xr-section-details'><ul class='xr-var-list'><li class='xr-var-item'><div class='xr-index-name'><div>time</div></div><div class='xr-index-preview'>PandasIndex</div><div></div><input id='index-3fc9172c-91c1-4acc-8f49-0edd7fa4638a' class='xr-index-data-in' type='checkbox'/><label for='index-3fc9172c-91c1-4acc-8f49-0edd7fa4638a' title='Show/Hide index repr'><svg class='icon xr-icon-database'><use xlink:href='#icon-database'></use></svg></label><div class='xr-index-data'><pre>PandasIndex(DatetimeIndex([&#x27;2022-08-30 11:21:03&#x27;, &#x27;2022-08-30 11:21:04&#x27;,\n               &#x27;2022-08-30 11:21:05&#x27;, &#x27;2022-08-30 11:21:06&#x27;,\n               &#x27;2022-08-30 11:21:07&#x27;],\n              dtype=&#x27;datetime64[ns]&#x27;, name=&#x27;time&#x27;, freq=&#x27;S&#x27;))</pre></div></li><li class='xr-var-item'><div class='xr-index-name'><div>station</div></div><div class='xr-index-preview'>PandasIndex</div><div></div><input id='index-54efc584-544a-491b-99b6-371e7a33c9b5' class='xr-index-data-in' type='checkbox'/><label for='index-54efc584-544a-491b-99b6-371e7a33c9b5' title='Show/Hide index repr'><svg class='icon xr-icon-database'><use xlink:href='#icon-database'></use></svg></label><div class='xr-index-data'><pre>PandasIndex(Float64Index([1.0], dtype=&#x27;float64&#x27;, name=&#x27;station&#x27;))</pre></div></li></ul></div></li><li class='xr-section-item'><input id='section-55f8ac0e-276c-4d36-bcce-c7dca260ba16' class='xr-section-summary-in' type='checkbox'  ><label for='section-55f8ac0e-276c-4d36-bcce-c7dca260ba16' class='xr-section-summary' >Attributes: <span>(31)</span></label><div class='xr-section-inline-details'></div><div class='xr-section-details'><dl class='xr-attrs'><dt><span>title :</span></dt><dd>TROPOS pyranometer network (PyrNet) observations</dd><dt><span>institution :</span></dt><dd>Leibniz Institute for Tropospheric Research (TROPOS)</dd><dt><span>department :</span></dt><dd>Remote Sensing of Atmospheric Processes</dd><dt><span>department_team :</span></dt><dd>Clouds, Aerosol and Radiation</dd><dt><span>address :</span></dt><dd>Permoser Str. 15, 04318 Leipzig, Germany</dd><dt><span>source :</span></dt><dd>TROPOS pyranometer network (PyrNet)</dd><dt><span>contact_person :</span></dt><dd>Andreas Macke and the clouds, aerosol and radiation team of the remote sensing department, mailto:andreas.macke@tropos.de</dd><dt><span>contributor_name :</span></dt><dd></dd><dt><span>contributor_role :</span></dt><dd></dd><dt><span>authors_software :</span></dt><dd>Hartwig Deneke, Jonas Witthuhn, mailto:deneke@tropos.de</dd><dt><span>creator_name :</span></dt><dd></dd><dt><span>project :</span></dt><dd></dd><dt><span>references :</span></dt><dd>https://doi.org/10.5194/amt-9-1153-2016</dd><dt><span>standard_name_vocabulary :</span></dt><dd>CF Standard Name Table v81</dd><dt><span>conventions :</span></dt><dd>CF-1.10, ACDD-1.3</dd><dt><span>license :</span></dt><dd>CC-BY-SA 3.0</dd><dt><span>TESTNOTE :</span></dt><dd>This is a test note.</dd><dt><span>processing_level :</span></dt><dd>l1a</dd><dt><span>product_version :</span></dt><dd>0.1.10+15.g5f0229e.dirty</dd><dt><span>history :</span></dt><dd>2024-01-31T07:48:49: Generated level l1a  by pyrnet version 0.1.10+15.g5f0229e.dirty; </dd><dt><span>date_created :</span></dt><dd>2024-01-31T07:48:49</dd><dt><span>geospatial_lat_min :</span></dt><dd>51.390208333333334</dd><dt><span>geospatial_lat_max :</span></dt><dd>51.390211666666666</dd><dt><span>geospatial_lat_units :</span></dt><dd>degN</dd><dt><span>geospatial_lon_min :</span></dt><dd>11.885246666666667</dd><dt><span>geospatial_lon_max :</span></dt><dd>11.885256666666667</dd><dt><span>geospatial_lon_units :</span></dt><dd>degE</dd><dt><span>time_coverage_start :</span></dt><dd>2022-08-30T11:21:04.065000</dd><dt><span>time_coverage_end :</span></dt><dd>2022-08-30T11:21:09</dd><dt><span>time_coverage_duration :</span></dt><dd>P0DT0H0M4.935S</dd><dt><span>time_coverage_resolution :</span></dt><dd>P0DT0H0M1.23375S</dd></dl></div></li></ul></div></div>"
     },
     "execution_count": 27,
     "metadata": {},
     "output_type": "execute_result"
    }
   ],
   "source": [
    "#|dropcode\n",
    "#|dropout\n",
    "# 6. resample to desired resolution\n",
    "# save station coordinate\n",
    "station_dim = {\"station\": ds_l1b[\"station\"].values}\n",
    "\n",
    "# resample on time dimension with specified methods\n",
    "methods = ['mean'] + config[\"l1b_resample_stats\"]\n",
    "res = resample(\n",
    "    ds_l1b.squeeze().drop_vars(\"station\"), # drop station coordinate and variable\n",
    "    freq=config['l1bfreq'],\n",
    "    methods=methods,\n",
    "    kwargs=dict(skipna=True)\n",
    ")\n",
    "\n",
    "# add standard names for new variables\n",
    "ds_l1b = res[0]\n",
    "for i, method in enumerate(methods[1:]):\n",
    "    for var in config[\"radflux_varname\"]:\n",
    "        ds_l1b[f\"{var}_{method}\"] = res[i+1][var]\n",
    "        ds_l1b[f\"{var}_{method}\"].attrs.update({\n",
    "            \"standard_name\": f\"{method}_\"+ds_l1b[f\"{var}_{method}\"].attrs[\"standard_name\"]\n",
    "        })\n",
    "\n",
    "# add station dimension back again\n",
    "ds_l1b = ds_l1b.expand_dims(station_dim, axis=-1)\n",
    "ds_l1b"
   ],
   "metadata": {
    "collapsed": false,
    "ExecuteTime": {
     "end_time": "2024-01-31T07:48:50.824533Z",
     "start_time": "2024-01-31T07:48:50.519275700Z"
    }
   }
  },
  {
   "cell_type": "code",
   "execution_count": 28,
   "outputs": [],
   "source": [
    "#|hide\n",
    "# dsp = ds_l1b.sel(time=\"2019-07-15\")\n",
    "# plt.figure()\n",
    "# plt.plot(dsp.time, dsp.ghi)\n",
    "# plt.grid()"
   ],
   "metadata": {
    "collapsed": false,
    "ExecuteTime": {
     "end_time": "2024-01-31T07:48:50.824533Z",
     "start_time": "2024-01-31T07:48:50.622238900Z"
    }
   }
  },
  {
   "cell_type": "markdown",
   "source": [
    " * stretch valid_range to not lose resolution due to averaging"
   ],
   "metadata": {
    "collapsed": false
   }
  },
  {
   "cell_type": "code",
   "execution_count": 29,
   "outputs": [],
   "source": [
    "#|dropcode\n",
    "#|dropout\n",
    "# stretch valid range to not lose resolution due to averaging\n",
    "# ds_l1b = stretch_resolution(ds_l1b)\n",
    "# ds_l1b"
   ],
   "metadata": {
    "collapsed": false,
    "ExecuteTime": {
     "end_time": "2024-01-31T07:48:50.825525100Z",
     "start_time": "2024-01-31T07:48:50.635316300Z"
    }
   }
  },
  {
   "cell_type": "code",
   "execution_count": 30,
   "outputs": [],
   "source": [
    "#|hide\n",
    "# dsp = ds_l1b.sel(time=\"2019-07-15\")\n",
    "# plt.figure()\n",
    "# plt.plot(dsp.time, dsp.ghi)\n",
    "# plt.grid()"
   ],
   "metadata": {
    "collapsed": false,
    "ExecuteTime": {
     "end_time": "2024-01-31T07:48:50.825525100Z",
     "start_time": "2024-01-31T07:48:50.648230500Z"
    }
   }
  },
  {
   "cell_type": "markdown",
   "source": [
    "7. Interpolate GPS coordinates to bin time\n",
    "    * ```xarray.interp```\n",
    "    ```{note}\n",
    "    At this point the descision to whether store geocoordinates in full time resolution or as mean over the time interval is made.\n",
    "\n",
    "    This is configured in config.json -> \"average_latlon\"\n",
    "    ```"
   ],
   "metadata": {
    "collapsed": false
   }
  },
  {
   "cell_type": "code",
   "execution_count": 31,
   "outputs": [
    {
     "data": {
      "text/plain": "<xarray.Dataset>\nDimensions:               (station: 1, time: 5)\nCoordinates:\n  * station               (station) float64 1.0\n  * time                  (time) datetime64[ns] 2022-08-30T11:21:03 ... 2022-...\nData variables: (12/15)\n    ghi                   (time, station) float32 269.9 269.7 269.9 269.9 269.9\n    gti                   (time, station) float32 277.3 277.3 277.4 277.3 277.3\n    ta                    (time, station) float32 294.8 294.7 294.8 294.7 294.8\n    rh                    (time, station) float32 0.6263 0.6266 ... 0.6271 0.629\n    battery_voltage       (time, station) float32 6.445 6.446 6.45 6.448 6.458\n    ghi_min               (time, station) float32 269.9 268.5 269.9 269.9 269.9\n    ...                    ...\n    ghi_std               (time, station) float64 0.0 0.4399 0.0 0.0 0.0\n    gti_std               (time, station) float64 0.0 0.7262 0.8745 0.0 0.0\n    lat                   (time, station) float64 nan nan 51.39 51.39 51.39\n    lon                   (time, station) float64 nan nan 11.89 11.89 11.89\n    maintenance_flag_ghi  (station) float32 9.0\n    maintenance_flag_gti  (station) float32 7.0\nAttributes: (12/31)\n    title:                     TROPOS pyranometer network (PyrNet) observations\n    institution:               Leibniz Institute for Tropospheric Research (T...\n    department:                Remote Sensing of Atmospheric Processes\n    department_team:           Clouds, Aerosol and Radiation\n    address:                   Permoser Str. 15, 04318 Leipzig, Germany\n    source:                    TROPOS pyranometer network (PyrNet)\n    ...                        ...\n    geospatial_lon_max:        11.885256666666667\n    geospatial_lon_units:      degE\n    time_coverage_start:       2022-08-30T11:21:04.065000\n    time_coverage_end:         2022-08-30T11:21:09\n    time_coverage_duration:    P0DT0H0M4.935S\n    time_coverage_resolution:  P0DT0H0M1.23375S",
      "text/html": "<div><svg style=\"position: absolute; width: 0; height: 0; overflow: hidden\">\n<defs>\n<symbol id=\"icon-database\" viewBox=\"0 0 32 32\">\n<path d=\"M16 0c-8.837 0-16 2.239-16 5v4c0 2.761 7.163 5 16 5s16-2.239 16-5v-4c0-2.761-7.163-5-16-5z\"></path>\n<path d=\"M16 17c-8.837 0-16-2.239-16-5v6c0 2.761 7.163 5 16 5s16-2.239 16-5v-6c0 2.761-7.163 5-16 5z\"></path>\n<path d=\"M16 26c-8.837 0-16-2.239-16-5v6c0 2.761 7.163 5 16 5s16-2.239 16-5v-6c0 2.761-7.163 5-16 5z\"></path>\n</symbol>\n<symbol id=\"icon-file-text2\" viewBox=\"0 0 32 32\">\n<path d=\"M28.681 7.159c-0.694-0.947-1.662-2.053-2.724-3.116s-2.169-2.030-3.116-2.724c-1.612-1.182-2.393-1.319-2.841-1.319h-15.5c-1.378 0-2.5 1.121-2.5 2.5v27c0 1.378 1.122 2.5 2.5 2.5h23c1.378 0 2.5-1.122 2.5-2.5v-19.5c0-0.448-0.137-1.23-1.319-2.841zM24.543 5.457c0.959 0.959 1.712 1.825 2.268 2.543h-4.811v-4.811c0.718 0.556 1.584 1.309 2.543 2.268zM28 29.5c0 0.271-0.229 0.5-0.5 0.5h-23c-0.271 0-0.5-0.229-0.5-0.5v-27c0-0.271 0.229-0.5 0.5-0.5 0 0 15.499-0 15.5 0v7c0 0.552 0.448 1 1 1h7v19.5z\"></path>\n<path d=\"M23 26h-14c-0.552 0-1-0.448-1-1s0.448-1 1-1h14c0.552 0 1 0.448 1 1s-0.448 1-1 1z\"></path>\n<path d=\"M23 22h-14c-0.552 0-1-0.448-1-1s0.448-1 1-1h14c0.552 0 1 0.448 1 1s-0.448 1-1 1z\"></path>\n<path d=\"M23 18h-14c-0.552 0-1-0.448-1-1s0.448-1 1-1h14c0.552 0 1 0.448 1 1s-0.448 1-1 1z\"></path>\n</symbol>\n</defs>\n</svg>\n<style>/* CSS stylesheet for displaying xarray objects in jupyterlab.\n *\n */\n\n:root {\n  --xr-font-color0: var(--jp-content-font-color0, rgba(0, 0, 0, 1));\n  --xr-font-color2: var(--jp-content-font-color2, rgba(0, 0, 0, 0.54));\n  --xr-font-color3: var(--jp-content-font-color3, rgba(0, 0, 0, 0.38));\n  --xr-border-color: var(--jp-border-color2, #e0e0e0);\n  --xr-disabled-color: var(--jp-layout-color3, #bdbdbd);\n  --xr-background-color: var(--jp-layout-color0, white);\n  --xr-background-color-row-even: var(--jp-layout-color1, white);\n  --xr-background-color-row-odd: var(--jp-layout-color2, #eeeeee);\n}\n\nhtml[theme=dark],\nbody[data-theme=dark],\nbody.vscode-dark {\n  --xr-font-color0: rgba(255, 255, 255, 1);\n  --xr-font-color2: rgba(255, 255, 255, 0.54);\n  --xr-font-color3: rgba(255, 255, 255, 0.38);\n  --xr-border-color: #1F1F1F;\n  --xr-disabled-color: #515151;\n  --xr-background-color: #111111;\n  --xr-background-color-row-even: #111111;\n  --xr-background-color-row-odd: #313131;\n}\n\n.xr-wrap {\n  display: block !important;\n  min-width: 300px;\n  max-width: 700px;\n}\n\n.xr-text-repr-fallback {\n  /* fallback to plain text repr when CSS is not injected (untrusted notebook) */\n  display: none;\n}\n\n.xr-header {\n  padding-top: 6px;\n  padding-bottom: 6px;\n  margin-bottom: 4px;\n  border-bottom: solid 1px var(--xr-border-color);\n}\n\n.xr-header > div,\n.xr-header > ul {\n  display: inline;\n  margin-top: 0;\n  margin-bottom: 0;\n}\n\n.xr-obj-type,\n.xr-array-name {\n  margin-left: 2px;\n  margin-right: 10px;\n}\n\n.xr-obj-type {\n  color: var(--xr-font-color2);\n}\n\n.xr-sections {\n  padding-left: 0 !important;\n  display: grid;\n  grid-template-columns: 150px auto auto 1fr 20px 20px;\n}\n\n.xr-section-item {\n  display: contents;\n}\n\n.xr-section-item input {\n  display: none;\n}\n\n.xr-section-item input + label {\n  color: var(--xr-disabled-color);\n}\n\n.xr-section-item input:enabled + label {\n  cursor: pointer;\n  color: var(--xr-font-color2);\n}\n\n.xr-section-item input:enabled + label:hover {\n  color: var(--xr-font-color0);\n}\n\n.xr-section-summary {\n  grid-column: 1;\n  color: var(--xr-font-color2);\n  font-weight: 500;\n}\n\n.xr-section-summary > span {\n  display: inline-block;\n  padding-left: 0.5em;\n}\n\n.xr-section-summary-in:disabled + label {\n  color: var(--xr-font-color2);\n}\n\n.xr-section-summary-in + label:before {\n  display: inline-block;\n  content: '►';\n  font-size: 11px;\n  width: 15px;\n  text-align: center;\n}\n\n.xr-section-summary-in:disabled + label:before {\n  color: var(--xr-disabled-color);\n}\n\n.xr-section-summary-in:checked + label:before {\n  content: '▼';\n}\n\n.xr-section-summary-in:checked + label > span {\n  display: none;\n}\n\n.xr-section-summary,\n.xr-section-inline-details {\n  padding-top: 4px;\n  padding-bottom: 4px;\n}\n\n.xr-section-inline-details {\n  grid-column: 2 / -1;\n}\n\n.xr-section-details {\n  display: none;\n  grid-column: 1 / -1;\n  margin-bottom: 5px;\n}\n\n.xr-section-summary-in:checked ~ .xr-section-details {\n  display: contents;\n}\n\n.xr-array-wrap {\n  grid-column: 1 / -1;\n  display: grid;\n  grid-template-columns: 20px auto;\n}\n\n.xr-array-wrap > label {\n  grid-column: 1;\n  vertical-align: top;\n}\n\n.xr-preview {\n  color: var(--xr-font-color3);\n}\n\n.xr-array-preview,\n.xr-array-data {\n  padding: 0 5px !important;\n  grid-column: 2;\n}\n\n.xr-array-data,\n.xr-array-in:checked ~ .xr-array-preview {\n  display: none;\n}\n\n.xr-array-in:checked ~ .xr-array-data,\n.xr-array-preview {\n  display: inline-block;\n}\n\n.xr-dim-list {\n  display: inline-block !important;\n  list-style: none;\n  padding: 0 !important;\n  margin: 0;\n}\n\n.xr-dim-list li {\n  display: inline-block;\n  padding: 0;\n  margin: 0;\n}\n\n.xr-dim-list:before {\n  content: '(';\n}\n\n.xr-dim-list:after {\n  content: ')';\n}\n\n.xr-dim-list li:not(:last-child):after {\n  content: ',';\n  padding-right: 5px;\n}\n\n.xr-has-index {\n  font-weight: bold;\n}\n\n.xr-var-list,\n.xr-var-item {\n  display: contents;\n}\n\n.xr-var-item > div,\n.xr-var-item label,\n.xr-var-item > .xr-var-name span {\n  background-color: var(--xr-background-color-row-even);\n  margin-bottom: 0;\n}\n\n.xr-var-item > .xr-var-name:hover span {\n  padding-right: 5px;\n}\n\n.xr-var-list > li:nth-child(odd) > div,\n.xr-var-list > li:nth-child(odd) > label,\n.xr-var-list > li:nth-child(odd) > .xr-var-name span {\n  background-color: var(--xr-background-color-row-odd);\n}\n\n.xr-var-name {\n  grid-column: 1;\n}\n\n.xr-var-dims {\n  grid-column: 2;\n}\n\n.xr-var-dtype {\n  grid-column: 3;\n  text-align: right;\n  color: var(--xr-font-color2);\n}\n\n.xr-var-preview {\n  grid-column: 4;\n}\n\n.xr-index-preview {\n  grid-column: 2 / 5;\n  color: var(--xr-font-color2);\n}\n\n.xr-var-name,\n.xr-var-dims,\n.xr-var-dtype,\n.xr-preview,\n.xr-attrs dt {\n  white-space: nowrap;\n  overflow: hidden;\n  text-overflow: ellipsis;\n  padding-right: 10px;\n}\n\n.xr-var-name:hover,\n.xr-var-dims:hover,\n.xr-var-dtype:hover,\n.xr-attrs dt:hover {\n  overflow: visible;\n  width: auto;\n  z-index: 1;\n}\n\n.xr-var-attrs,\n.xr-var-data,\n.xr-index-data {\n  display: none;\n  background-color: var(--xr-background-color) !important;\n  padding-bottom: 5px !important;\n}\n\n.xr-var-attrs-in:checked ~ .xr-var-attrs,\n.xr-var-data-in:checked ~ .xr-var-data,\n.xr-index-data-in:checked ~ .xr-index-data {\n  display: block;\n}\n\n.xr-var-data > table {\n  float: right;\n}\n\n.xr-var-name span,\n.xr-var-data,\n.xr-index-name div,\n.xr-index-data,\n.xr-attrs {\n  padding-left: 25px !important;\n}\n\n.xr-attrs,\n.xr-var-attrs,\n.xr-var-data,\n.xr-index-data {\n  grid-column: 1 / -1;\n}\n\ndl.xr-attrs {\n  padding: 0;\n  margin: 0;\n  display: grid;\n  grid-template-columns: 125px auto;\n}\n\n.xr-attrs dt,\n.xr-attrs dd {\n  padding: 0;\n  margin: 0;\n  float: left;\n  padding-right: 10px;\n  width: auto;\n}\n\n.xr-attrs dt {\n  font-weight: normal;\n  grid-column: 1;\n}\n\n.xr-attrs dt:hover span {\n  display: inline-block;\n  background: var(--xr-background-color);\n  padding-right: 10px;\n}\n\n.xr-attrs dd {\n  grid-column: 2;\n  white-space: pre-wrap;\n  word-break: break-all;\n}\n\n.xr-icon-database,\n.xr-icon-file-text2,\n.xr-no-icon {\n  display: inline-block;\n  vertical-align: middle;\n  width: 1em;\n  height: 1.5em !important;\n  stroke-width: 0;\n  stroke: currentColor;\n  fill: currentColor;\n}\n</style><pre class='xr-text-repr-fallback'>&lt;xarray.Dataset&gt;\nDimensions:               (station: 1, time: 5)\nCoordinates:\n  * station               (station) float64 1.0\n  * time                  (time) datetime64[ns] 2022-08-30T11:21:03 ... 2022-...\nData variables: (12/15)\n    ghi                   (time, station) float32 269.9 269.7 269.9 269.9 269.9\n    gti                   (time, station) float32 277.3 277.3 277.4 277.3 277.3\n    ta                    (time, station) float32 294.8 294.7 294.8 294.7 294.8\n    rh                    (time, station) float32 0.6263 0.6266 ... 0.6271 0.629\n    battery_voltage       (time, station) float32 6.445 6.446 6.45 6.448 6.458\n    ghi_min               (time, station) float32 269.9 268.5 269.9 269.9 269.9\n    ...                    ...\n    ghi_std               (time, station) float64 0.0 0.4399 0.0 0.0 0.0\n    gti_std               (time, station) float64 0.0 0.7262 0.8745 0.0 0.0\n    lat                   (time, station) float64 nan nan 51.39 51.39 51.39\n    lon                   (time, station) float64 nan nan 11.89 11.89 11.89\n    maintenance_flag_ghi  (station) float32 9.0\n    maintenance_flag_gti  (station) float32 7.0\nAttributes: (12/31)\n    title:                     TROPOS pyranometer network (PyrNet) observations\n    institution:               Leibniz Institute for Tropospheric Research (T...\n    department:                Remote Sensing of Atmospheric Processes\n    department_team:           Clouds, Aerosol and Radiation\n    address:                   Permoser Str. 15, 04318 Leipzig, Germany\n    source:                    TROPOS pyranometer network (PyrNet)\n    ...                        ...\n    geospatial_lon_max:        11.885256666666667\n    geospatial_lon_units:      degE\n    time_coverage_start:       2022-08-30T11:21:04.065000\n    time_coverage_end:         2022-08-30T11:21:09\n    time_coverage_duration:    P0DT0H0M4.935S\n    time_coverage_resolution:  P0DT0H0M1.23375S</pre><div class='xr-wrap' style='display:none'><div class='xr-header'><div class='xr-obj-type'>xarray.Dataset</div></div><ul class='xr-sections'><li class='xr-section-item'><input id='section-3289d0b1-693d-4ed5-9319-88b98c3fdfd0' class='xr-section-summary-in' type='checkbox' disabled ><label for='section-3289d0b1-693d-4ed5-9319-88b98c3fdfd0' class='xr-section-summary'  title='Expand/collapse section'>Dimensions:</label><div class='xr-section-inline-details'><ul class='xr-dim-list'><li><span class='xr-has-index'>station</span>: 1</li><li><span class='xr-has-index'>time</span>: 5</li></ul></div><div class='xr-section-details'></div></li><li class='xr-section-item'><input id='section-64aabcc5-d561-4bcc-9a7d-f6cc93d08402' class='xr-section-summary-in' type='checkbox'  checked><label for='section-64aabcc5-d561-4bcc-9a7d-f6cc93d08402' class='xr-section-summary' >Coordinates: <span>(2)</span></label><div class='xr-section-inline-details'></div><div class='xr-section-details'><ul class='xr-var-list'><li class='xr-var-item'><div class='xr-var-name'><span class='xr-has-index'>station</span></div><div class='xr-var-dims'>(station)</div><div class='xr-var-dtype'>float64</div><div class='xr-var-preview xr-preview'>1.0</div><input id='attrs-80c18968-b8b1-4cb3-bfef-854e3f811ca5' class='xr-var-attrs-in' type='checkbox' disabled><label for='attrs-80c18968-b8b1-4cb3-bfef-854e3f811ca5' title='Show/Hide attributes'><svg class='icon xr-icon-file-text2'><use xlink:href='#icon-file-text2'></use></svg></label><input id='data-678801c2-f4b3-4f6e-afd4-47e5a71d5d3c' class='xr-var-data-in' type='checkbox'><label for='data-678801c2-f4b3-4f6e-afd4-47e5a71d5d3c' title='Show/Hide data repr'><svg class='icon xr-icon-database'><use xlink:href='#icon-database'></use></svg></label><div class='xr-var-attrs'><dl class='xr-attrs'></dl></div><div class='xr-var-data'><pre>array([1.])</pre></div></li><li class='xr-var-item'><div class='xr-var-name'><span class='xr-has-index'>time</span></div><div class='xr-var-dims'>(time)</div><div class='xr-var-dtype'>datetime64[ns]</div><div class='xr-var-preview xr-preview'>2022-08-30T11:21:03 ... 2022-08-...</div><input id='attrs-4a976729-0e80-44d6-af6f-b22064528504' class='xr-var-attrs-in' type='checkbox' disabled><label for='attrs-4a976729-0e80-44d6-af6f-b22064528504' title='Show/Hide attributes'><svg class='icon xr-icon-file-text2'><use xlink:href='#icon-file-text2'></use></svg></label><input id='data-efe5730e-fa39-4e0e-b141-7d7e3588d3c3' class='xr-var-data-in' type='checkbox'><label for='data-efe5730e-fa39-4e0e-b141-7d7e3588d3c3' title='Show/Hide data repr'><svg class='icon xr-icon-database'><use xlink:href='#icon-database'></use></svg></label><div class='xr-var-attrs'><dl class='xr-attrs'></dl></div><div class='xr-var-data'><pre>array([&#x27;2022-08-30T11:21:03.000000000&#x27;, &#x27;2022-08-30T11:21:04.000000000&#x27;,\n       &#x27;2022-08-30T11:21:05.000000000&#x27;, &#x27;2022-08-30T11:21:06.000000000&#x27;,\n       &#x27;2022-08-30T11:21:07.000000000&#x27;], dtype=&#x27;datetime64[ns]&#x27;)</pre></div></li></ul></div></li><li class='xr-section-item'><input id='section-c75b3e6c-d66a-466f-8d60-ae22e08c30bb' class='xr-section-summary-in' type='checkbox'  ><label for='section-c75b3e6c-d66a-466f-8d60-ae22e08c30bb' class='xr-section-summary' >Data variables: <span>(15)</span></label><div class='xr-section-inline-details'></div><div class='xr-section-details'><ul class='xr-var-list'><li class='xr-var-item'><div class='xr-var-name'><span>ghi</span></div><div class='xr-var-dims'>(time, station)</div><div class='xr-var-dtype'>float32</div><div class='xr-var-preview xr-preview'>269.9 269.7 269.9 269.9 269.9</div><input id='attrs-7d890209-1d84-438c-b3d4-fa3cf8f1cb53' class='xr-var-attrs-in' type='checkbox' ><label for='attrs-7d890209-1d84-438c-b3d4-fa3cf8f1cb53' title='Show/Hide attributes'><svg class='icon xr-icon-file-text2'><use xlink:href='#icon-file-text2'></use></svg></label><input id='data-8dfef851-7974-47df-881e-24ab9c7aff21' class='xr-var-data-in' type='checkbox'><label for='data-8dfef851-7974-47df-881e-24ab9c7aff21' title='Show/Hide data repr'><svg class='icon xr-icon-database'><use xlink:href='#icon-database'></use></svg></label><div class='xr-var-attrs'><dl class='xr-attrs'><dt><span>units :</span></dt><dd>W m-2</dd><dt><span>long_name :</span></dt><dd>downwelling shortwave flux</dd><dt><span>standard_name :</span></dt><dd>downwelling_shortwave_flux_in_air</dd><dt><span>valid_range :</span></dt><dd>[   0 1023]</dd><dt><span>serial :</span></dt><dd>S12128.001</dd><dt><span>calibration_factor :</span></dt><dd>7.73</dd></dl></div><div class='xr-var-data'><pre>array([[269.86047],\n       [269.72137],\n       [269.86047],\n       [269.86047],\n       [269.86047]], dtype=float32)</pre></div></li><li class='xr-var-item'><div class='xr-var-name'><span>gti</span></div><div class='xr-var-dims'>(time, station)</div><div class='xr-var-dtype'>float32</div><div class='xr-var-preview xr-preview'>277.3 277.3 277.4 277.3 277.3</div><input id='attrs-1b0e193b-d7bf-41d2-a253-d53895add2f5' class='xr-var-attrs-in' type='checkbox' ><label for='attrs-1b0e193b-d7bf-41d2-a253-d53895add2f5' title='Show/Hide attributes'><svg class='icon xr-icon-file-text2'><use xlink:href='#icon-file-text2'></use></svg></label><input id='data-89e0b185-6f3d-4cd4-ade1-5b137fc8f023' class='xr-var-data-in' type='checkbox'><label for='data-89e0b185-6f3d-4cd4-ade1-5b137fc8f023' title='Show/Hide data repr'><svg class='icon xr-icon-database'><use xlink:href='#icon-database'></use></svg></label><div class='xr-var-attrs'><dl class='xr-attrs'><dt><span>units :</span></dt><dd>W m-2</dd><dt><span>long_name :</span></dt><dd>downwelling shortwave flux measured on secondary platform, might be tilted</dd><dt><span>standard_name :</span></dt><dd>downwelling_shortwave_flux_in_air</dd><dt><span>valid_range :</span></dt><dd>[   0 1023]</dd><dt><span>hangle :</span></dt><dd>0.0</dd><dt><span>vangle :</span></dt><dd>0.0</dd><dt><span>serial :</span></dt><dd>S12137.049</dd><dt><span>calibration_factor :</span></dt><dd>6.98</dd></dl></div><div class='xr-var-data'><pre>array([[277.28995],\n       [277.28995],\n       [277.444  ],\n       [277.28995],\n       [277.28995]], dtype=float32)</pre></div></li><li class='xr-var-item'><div class='xr-var-name'><span>ta</span></div><div class='xr-var-dims'>(time, station)</div><div class='xr-var-dtype'>float32</div><div class='xr-var-preview xr-preview'>294.8 294.7 294.8 294.7 294.8</div><input id='attrs-6087d8f6-47b0-4fb5-ae66-0a6fd2b2e086' class='xr-var-attrs-in' type='checkbox' ><label for='attrs-6087d8f6-47b0-4fb5-ae66-0a6fd2b2e086' title='Show/Hide attributes'><svg class='icon xr-icon-file-text2'><use xlink:href='#icon-file-text2'></use></svg></label><input id='data-4c6658b4-8882-411b-9970-6f81d8c20a2e' class='xr-var-data-in' type='checkbox'><label for='data-4c6658b4-8882-411b-9970-6f81d8c20a2e' title='Show/Hide data repr'><svg class='icon xr-icon-database'><use xlink:href='#icon-database'></use></svg></label><div class='xr-var-attrs'><dl class='xr-attrs'><dt><span>units :</span></dt><dd>K</dd><dt><span>long_name :</span></dt><dd>air temperature</dd><dt><span>standard_name :</span></dt><dd>air_temperature</dd><dt><span>valid_range :</span></dt><dd>[  0 775]</dd></dl></div><div class='xr-var-data'><pre>array([[294.7758 ],\n       [294.74997],\n       [294.7887 ],\n       [294.74997],\n       [294.82742]], dtype=float32)</pre></div></li><li class='xr-var-item'><div class='xr-var-name'><span>rh</span></div><div class='xr-var-dims'>(time, station)</div><div class='xr-var-dtype'>float32</div><div class='xr-var-preview xr-preview'>0.6263 0.6266 0.6271 0.6271 0.629</div><input id='attrs-04dc9b7e-bc16-4f7d-96f0-24e63d477168' class='xr-var-attrs-in' type='checkbox' ><label for='attrs-04dc9b7e-bc16-4f7d-96f0-24e63d477168' title='Show/Hide attributes'><svg class='icon xr-icon-file-text2'><use xlink:href='#icon-file-text2'></use></svg></label><input id='data-ae419d96-b8d6-4fa4-8d95-9f4072746d0d' class='xr-var-data-in' type='checkbox'><label for='data-ae419d96-b8d6-4fa4-8d95-9f4072746d0d' title='Show/Hide data repr'><svg class='icon xr-icon-database'><use xlink:href='#icon-database'></use></svg></label><div class='xr-var-attrs'><dl class='xr-attrs'><dt><span>units :</span></dt><dd>1</dd><dt><span>long_name :</span></dt><dd>air relative humidity</dd><dt><span>standard_name :</span></dt><dd>relative_humidity</dd><dt><span>valid_range :</span></dt><dd>[  0 775]</dd></dl></div><div class='xr-var-data'><pre>array([[0.62632257],\n       [0.6265806 ],\n       [0.6270968 ],\n       [0.6270968 ],\n       [0.62903225]], dtype=float32)</pre></div></li><li class='xr-var-item'><div class='xr-var-name'><span>battery_voltage</span></div><div class='xr-var-dims'>(time, station)</div><div class='xr-var-dtype'>float32</div><div class='xr-var-preview xr-preview'>6.445 6.446 6.45 6.448 6.458</div><input id='attrs-bceb0e9e-a92d-4824-bf32-3001039add71' class='xr-var-attrs-in' type='checkbox' ><label for='attrs-bceb0e9e-a92d-4824-bf32-3001039add71' title='Show/Hide attributes'><svg class='icon xr-icon-file-text2'><use xlink:href='#icon-file-text2'></use></svg></label><input id='data-aa25aa30-5655-4178-9659-c5dbb264a59a' class='xr-var-data-in' type='checkbox'><label for='data-aa25aa30-5655-4178-9659-c5dbb264a59a' title='Show/Hide data repr'><svg class='icon xr-icon-database'><use xlink:href='#icon-database'></use></svg></label><div class='xr-var-attrs'><dl class='xr-attrs'><dt><span>units :</span></dt><dd>V</dd><dt><span>standard_name :</span></dt><dd>battery_voltage</dd><dt><span>valid_range :</span></dt><dd>[  0 992]</dd></dl></div><div class='xr-var-data'><pre>array([[6.4451613],\n       [6.445807 ],\n       [6.4496775],\n       [6.4477415],\n       [6.4580646]], dtype=float32)</pre></div></li><li class='xr-var-item'><div class='xr-var-name'><span>ghi_min</span></div><div class='xr-var-dims'>(time, station)</div><div class='xr-var-dtype'>float32</div><div class='xr-var-preview xr-preview'>269.9 268.5 269.9 269.9 269.9</div><input id='attrs-11c6c69f-9cc3-434a-8004-9b8c184443ab' class='xr-var-attrs-in' type='checkbox' ><label for='attrs-11c6c69f-9cc3-434a-8004-9b8c184443ab' title='Show/Hide attributes'><svg class='icon xr-icon-file-text2'><use xlink:href='#icon-file-text2'></use></svg></label><input id='data-d82a4c72-ca01-4833-a794-45917f7a9704' class='xr-var-data-in' type='checkbox'><label for='data-d82a4c72-ca01-4833-a794-45917f7a9704' title='Show/Hide data repr'><svg class='icon xr-icon-database'><use xlink:href='#icon-database'></use></svg></label><div class='xr-var-attrs'><dl class='xr-attrs'><dt><span>units :</span></dt><dd>W m-2</dd><dt><span>long_name :</span></dt><dd>downwelling shortwave flux</dd><dt><span>standard_name :</span></dt><dd>min_downwelling_shortwave_flux_in_air</dd><dt><span>valid_range :</span></dt><dd>[   0 1023]</dd><dt><span>serial :</span></dt><dd>S12128.001</dd><dt><span>calibration_factor :</span></dt><dd>7.73</dd></dl></div><div class='xr-var-data'><pre>array([[269.86047],\n       [268.46945],\n       [269.86047],\n       [269.86047],\n       [269.86047]], dtype=float32)</pre></div></li><li class='xr-var-item'><div class='xr-var-name'><span>gti_min</span></div><div class='xr-var-dims'>(time, station)</div><div class='xr-var-dtype'>float32</div><div class='xr-var-preview xr-preview'>277.3 275.7 275.7 277.3 277.3</div><input id='attrs-8d17a5e9-1870-4feb-953c-e6f5dda68e1e' class='xr-var-attrs-in' type='checkbox' ><label for='attrs-8d17a5e9-1870-4feb-953c-e6f5dda68e1e' title='Show/Hide attributes'><svg class='icon xr-icon-file-text2'><use xlink:href='#icon-file-text2'></use></svg></label><input id='data-53f1756f-b095-44e6-82f9-a16596675570' class='xr-var-data-in' type='checkbox'><label for='data-53f1756f-b095-44e6-82f9-a16596675570' title='Show/Hide data repr'><svg class='icon xr-icon-database'><use xlink:href='#icon-database'></use></svg></label><div class='xr-var-attrs'><dl class='xr-attrs'><dt><span>units :</span></dt><dd>W m-2</dd><dt><span>long_name :</span></dt><dd>downwelling shortwave flux measured on secondary platform, might be tilted</dd><dt><span>standard_name :</span></dt><dd>min_downwelling_shortwave_flux_in_air</dd><dt><span>valid_range :</span></dt><dd>[   0 1023]</dd><dt><span>hangle :</span></dt><dd>0.0</dd><dt><span>vangle :</span></dt><dd>0.0</dd><dt><span>serial :</span></dt><dd>S12137.049</dd><dt><span>calibration_factor :</span></dt><dd>6.98</dd></dl></div><div class='xr-var-data'><pre>array([[277.28995],\n       [275.74945],\n       [275.74945],\n       [277.28995],\n       [277.28995]], dtype=float32)</pre></div></li><li class='xr-var-item'><div class='xr-var-name'><span>ghi_max</span></div><div class='xr-var-dims'>(time, station)</div><div class='xr-var-dtype'>float32</div><div class='xr-var-preview xr-preview'>269.9 269.9 269.9 269.9 269.9</div><input id='attrs-d0ae55c0-2c1b-4cc9-ac0a-3ab727b7a822' class='xr-var-attrs-in' type='checkbox' ><label for='attrs-d0ae55c0-2c1b-4cc9-ac0a-3ab727b7a822' title='Show/Hide attributes'><svg class='icon xr-icon-file-text2'><use xlink:href='#icon-file-text2'></use></svg></label><input id='data-dd916714-62ce-498e-8110-4cddf8a978ca' class='xr-var-data-in' type='checkbox'><label for='data-dd916714-62ce-498e-8110-4cddf8a978ca' title='Show/Hide data repr'><svg class='icon xr-icon-database'><use xlink:href='#icon-database'></use></svg></label><div class='xr-var-attrs'><dl class='xr-attrs'><dt><span>units :</span></dt><dd>W m-2</dd><dt><span>long_name :</span></dt><dd>downwelling shortwave flux</dd><dt><span>standard_name :</span></dt><dd>max_downwelling_shortwave_flux_in_air</dd><dt><span>valid_range :</span></dt><dd>[   0 1023]</dd><dt><span>serial :</span></dt><dd>S12128.001</dd><dt><span>calibration_factor :</span></dt><dd>7.73</dd></dl></div><div class='xr-var-data'><pre>array([[269.86047],\n       [269.86047],\n       [269.86047],\n       [269.86047],\n       [269.86047]], dtype=float32)</pre></div></li><li class='xr-var-item'><div class='xr-var-name'><span>gti_max</span></div><div class='xr-var-dims'>(time, station)</div><div class='xr-var-dtype'>float32</div><div class='xr-var-preview xr-preview'>277.3 278.8 278.8 277.3 277.3</div><input id='attrs-453921fa-9021-4e6d-88f3-cef9c7b785ca' class='xr-var-attrs-in' type='checkbox' ><label for='attrs-453921fa-9021-4e6d-88f3-cef9c7b785ca' title='Show/Hide attributes'><svg class='icon xr-icon-file-text2'><use xlink:href='#icon-file-text2'></use></svg></label><input id='data-239e772b-d864-4101-8b4b-df8262bdd719' class='xr-var-data-in' type='checkbox'><label for='data-239e772b-d864-4101-8b4b-df8262bdd719' title='Show/Hide data repr'><svg class='icon xr-icon-database'><use xlink:href='#icon-database'></use></svg></label><div class='xr-var-attrs'><dl class='xr-attrs'><dt><span>units :</span></dt><dd>W m-2</dd><dt><span>long_name :</span></dt><dd>downwelling shortwave flux measured on secondary platform, might be tilted</dd><dt><span>standard_name :</span></dt><dd>max_downwelling_shortwave_flux_in_air</dd><dt><span>valid_range :</span></dt><dd>[   0 1023]</dd><dt><span>hangle :</span></dt><dd>0.0</dd><dt><span>vangle :</span></dt><dd>0.0</dd><dt><span>serial :</span></dt><dd>S12137.049</dd><dt><span>calibration_factor :</span></dt><dd>6.98</dd></dl></div><div class='xr-var-data'><pre>array([[277.28995],\n       [278.83044],\n       [278.83044],\n       [277.28995],\n       [277.28995]], dtype=float32)</pre></div></li><li class='xr-var-item'><div class='xr-var-name'><span>ghi_std</span></div><div class='xr-var-dims'>(time, station)</div><div class='xr-var-dtype'>float64</div><div class='xr-var-preview xr-preview'>0.0 0.4399 0.0 0.0 0.0</div><input id='attrs-c2313c86-52ac-439e-9f88-eb5fed32ce78' class='xr-var-attrs-in' type='checkbox' ><label for='attrs-c2313c86-52ac-439e-9f88-eb5fed32ce78' title='Show/Hide attributes'><svg class='icon xr-icon-file-text2'><use xlink:href='#icon-file-text2'></use></svg></label><input id='data-741f43d5-0ff8-43f0-8d10-6fc48dd873ae' class='xr-var-data-in' type='checkbox'><label for='data-741f43d5-0ff8-43f0-8d10-6fc48dd873ae' title='Show/Hide data repr'><svg class='icon xr-icon-database'><use xlink:href='#icon-database'></use></svg></label><div class='xr-var-attrs'><dl class='xr-attrs'><dt><span>units :</span></dt><dd>W m-2</dd><dt><span>long_name :</span></dt><dd>downwelling shortwave flux</dd><dt><span>standard_name :</span></dt><dd>std_downwelling_shortwave_flux_in_air</dd><dt><span>valid_range :</span></dt><dd>[   0 1023]</dd><dt><span>serial :</span></dt><dd>S12128.001</dd><dt><span>calibration_factor :</span></dt><dd>7.73</dd></dl></div><div class='xr-var-data'><pre>array([[0.        ],\n       [0.43987969],\n       [0.        ],\n       [0.        ],\n       [0.        ]])</pre></div></li><li class='xr-var-item'><div class='xr-var-name'><span>gti_std</span></div><div class='xr-var-dims'>(time, station)</div><div class='xr-var-dtype'>float64</div><div class='xr-var-preview xr-preview'>0.0 0.7262 0.8745 0.0 0.0</div><input id='attrs-582b0915-1456-43a1-ba96-517549236a81' class='xr-var-attrs-in' type='checkbox' ><label for='attrs-582b0915-1456-43a1-ba96-517549236a81' title='Show/Hide attributes'><svg class='icon xr-icon-file-text2'><use xlink:href='#icon-file-text2'></use></svg></label><input id='data-26bf7ebb-55c4-4814-8e24-ebc929f42dd4' class='xr-var-data-in' type='checkbox'><label for='data-26bf7ebb-55c4-4814-8e24-ebc929f42dd4' title='Show/Hide data repr'><svg class='icon xr-icon-database'><use xlink:href='#icon-database'></use></svg></label><div class='xr-var-attrs'><dl class='xr-attrs'><dt><span>units :</span></dt><dd>W m-2</dd><dt><span>long_name :</span></dt><dd>downwelling shortwave flux measured on secondary platform, might be tilted</dd><dt><span>standard_name :</span></dt><dd>std_downwelling_shortwave_flux_in_air</dd><dt><span>valid_range :</span></dt><dd>[   0 1023]</dd><dt><span>hangle :</span></dt><dd>0.0</dd><dt><span>vangle :</span></dt><dd>0.0</dd><dt><span>serial :</span></dt><dd>S12137.049</dd><dt><span>calibration_factor :</span></dt><dd>6.98</dd></dl></div><div class='xr-var-data'><pre>array([[0.        ],\n       [0.72619717],\n       [0.87445719],\n       [0.        ],\n       [0.        ]])</pre></div></li><li class='xr-var-item'><div class='xr-var-name'><span>lat</span></div><div class='xr-var-dims'>(time, station)</div><div class='xr-var-dtype'>float64</div><div class='xr-var-preview xr-preview'>nan nan 51.39 51.39 51.39</div><input id='attrs-595d51c6-fcb9-42c8-99b3-2215c1bd75de' class='xr-var-attrs-in' type='checkbox' ><label for='attrs-595d51c6-fcb9-42c8-99b3-2215c1bd75de' title='Show/Hide attributes'><svg class='icon xr-icon-file-text2'><use xlink:href='#icon-file-text2'></use></svg></label><input id='data-bc146ab4-7b32-4637-9acb-2200e06c6b77' class='xr-var-data-in' type='checkbox'><label for='data-bc146ab4-7b32-4637-9acb-2200e06c6b77' title='Show/Hide data repr'><svg class='icon xr-icon-database'><use xlink:href='#icon-database'></use></svg></label><div class='xr-var-attrs'><dl class='xr-attrs'><dt><span>standard_name :</span></dt><dd>latitude</dd><dt><span>units :</span></dt><dd>degree_north</dd><dt><span>valid_range :</span></dt><dd>[        0 180000000]</dd></dl></div><div class='xr-var-data'><pre>array([[        nan],\n       [        nan],\n       [51.390212  ],\n       [51.39021103],\n       [51.39021   ]])</pre></div></li><li class='xr-var-item'><div class='xr-var-name'><span>lon</span></div><div class='xr-var-dims'>(time, station)</div><div class='xr-var-dtype'>float64</div><div class='xr-var-preview xr-preview'>nan nan 11.89 11.89 11.89</div><input id='attrs-8c4c43e0-aa77-400d-93b6-44ae51bed1ab' class='xr-var-attrs-in' type='checkbox' ><label for='attrs-8c4c43e0-aa77-400d-93b6-44ae51bed1ab' title='Show/Hide attributes'><svg class='icon xr-icon-file-text2'><use xlink:href='#icon-file-text2'></use></svg></label><input id='data-cccb161f-e90c-45dc-aee0-1c8ff5a61bd5' class='xr-var-data-in' type='checkbox'><label for='data-cccb161f-e90c-45dc-aee0-1c8ff5a61bd5' title='Show/Hide data repr'><svg class='icon xr-icon-database'><use xlink:href='#icon-database'></use></svg></label><div class='xr-var-attrs'><dl class='xr-attrs'><dt><span>standard_name :</span></dt><dd>longitude</dd><dt><span>units :</span></dt><dd>degree_east</dd><dt><span>valid_range :</span></dt><dd>[        0 360000000]</dd></dl></div><div class='xr-var-data'><pre>array([[        nan],\n       [        nan],\n       [11.88525687],\n       [11.88525458],\n       [11.885252  ]])</pre></div></li><li class='xr-var-item'><div class='xr-var-name'><span>maintenance_flag_ghi</span></div><div class='xr-var-dims'>(station)</div><div class='xr-var-dtype'>float32</div><div class='xr-var-preview xr-preview'>9.0</div><input id='attrs-33a29731-5057-4f5b-85ed-a6fd8e81ca00' class='xr-var-attrs-in' type='checkbox' ><label for='attrs-33a29731-5057-4f5b-85ed-a6fd8e81ca00' title='Show/Hide attributes'><svg class='icon xr-icon-file-text2'><use xlink:href='#icon-file-text2'></use></svg></label><input id='data-40435f18-c06c-4a4f-a9d1-e46154db6bab' class='xr-var-data-in' type='checkbox'><label for='data-40435f18-c06c-4a4f-a9d1-e46154db6bab' title='Show/Hide data repr'><svg class='icon xr-icon-database'><use xlink:href='#icon-database'></use></svg></label><div class='xr-var-attrs'><dl class='xr-attrs'><dt><span>standard_name :</span></dt><dd>quality_flag</dd><dt><span>long_name :</span></dt><dd>Maintenance quality control flags for main pyranometer</dd><dt><span>note :</span></dt><dd>Soiling describes subjectively the coverage of the pyranometer dome with dirt. The level flag is problematic if the bubble of the spirit level touches the reference ring, and bad if it is outside.</dd><dt><span>valid_range :</span></dt><dd>[ 0 11]</dd><dt><span>flag_masks :</span></dt><dd>[ 3  3  3 12 12]</dd><dt><span>flag_values :</span></dt><dd>[1 2 3 4 8]</dd><dt><span>flag_meanings :</span></dt><dd>soiling_light soiling_moderate soiling_heavy level_problematic level_bad</dd><dt><span>note_general :</span></dt><dd>this is a test; 222</dd><dt><span>note_clean :</span></dt><dd>testing notes; None</dd><dt><span>note_level :</span></dt><dd>None; test</dd></dl></div><div class='xr-var-data'><pre>array([9.], dtype=float32)</pre></div></li><li class='xr-var-item'><div class='xr-var-name'><span>maintenance_flag_gti</span></div><div class='xr-var-dims'>(station)</div><div class='xr-var-dtype'>float32</div><div class='xr-var-preview xr-preview'>7.0</div><input id='attrs-25516ecb-8466-4ca9-91cb-673dac54dddc' class='xr-var-attrs-in' type='checkbox' ><label for='attrs-25516ecb-8466-4ca9-91cb-673dac54dddc' title='Show/Hide attributes'><svg class='icon xr-icon-file-text2'><use xlink:href='#icon-file-text2'></use></svg></label><input id='data-fc65a585-4bcf-4dd7-9125-bca0a2c6308b' class='xr-var-data-in' type='checkbox'><label for='data-fc65a585-4bcf-4dd7-9125-bca0a2c6308b' title='Show/Hide data repr'><svg class='icon xr-icon-database'><use xlink:href='#icon-database'></use></svg></label><div class='xr-var-attrs'><dl class='xr-attrs'><dt><span>standard_name :</span></dt><dd>quality_flag</dd><dt><span>long_name :</span></dt><dd>Maintenance quality control flags for secondary pyranometer</dd><dt><span>note :</span></dt><dd>Soiling describes subjectively the coverage of the pyranometer dome with dirt. The level flag is problematic if the bubble of the spirit level touches the reference ring, and bad if it is outside.</dd><dt><span>valid_range :</span></dt><dd>[ 0 11]</dd><dt><span>flag_masks :</span></dt><dd>[ 3  3  3 12 12]</dd><dt><span>flag_values :</span></dt><dd>[1 2 3 4 8]</dd><dt><span>flag_meanings :</span></dt><dd>soiling_light soiling_moderate soiling_heavy level_problematic level_bad</dd><dt><span>note_general :</span></dt><dd>this is a test; 222</dd><dt><span>note_clean :</span></dt><dd>None; None</dd><dt><span>note_level :</span></dt><dd>None; None</dd></dl></div><div class='xr-var-data'><pre>array([7.], dtype=float32)</pre></div></li></ul></div></li><li class='xr-section-item'><input id='section-1becbe2a-99d2-4c25-8a4f-03354acb8a5d' class='xr-section-summary-in' type='checkbox'  ><label for='section-1becbe2a-99d2-4c25-8a4f-03354acb8a5d' class='xr-section-summary' >Indexes: <span>(2)</span></label><div class='xr-section-inline-details'></div><div class='xr-section-details'><ul class='xr-var-list'><li class='xr-var-item'><div class='xr-index-name'><div>station</div></div><div class='xr-index-preview'>PandasIndex</div><div></div><input id='index-3c173d03-5b8d-4737-8587-d54707945e13' class='xr-index-data-in' type='checkbox'/><label for='index-3c173d03-5b8d-4737-8587-d54707945e13' title='Show/Hide index repr'><svg class='icon xr-icon-database'><use xlink:href='#icon-database'></use></svg></label><div class='xr-index-data'><pre>PandasIndex(Float64Index([1.0], dtype=&#x27;float64&#x27;, name=&#x27;station&#x27;))</pre></div></li><li class='xr-var-item'><div class='xr-index-name'><div>time</div></div><div class='xr-index-preview'>PandasIndex</div><div></div><input id='index-2bf25feb-6c67-48c1-a88b-625afa5c50aa' class='xr-index-data-in' type='checkbox'/><label for='index-2bf25feb-6c67-48c1-a88b-625afa5c50aa' title='Show/Hide index repr'><svg class='icon xr-icon-database'><use xlink:href='#icon-database'></use></svg></label><div class='xr-index-data'><pre>PandasIndex(DatetimeIndex([&#x27;2022-08-30 11:21:03&#x27;, &#x27;2022-08-30 11:21:04&#x27;,\n               &#x27;2022-08-30 11:21:05&#x27;, &#x27;2022-08-30 11:21:06&#x27;,\n               &#x27;2022-08-30 11:21:07&#x27;],\n              dtype=&#x27;datetime64[ns]&#x27;, name=&#x27;time&#x27;, freq=&#x27;S&#x27;))</pre></div></li></ul></div></li><li class='xr-section-item'><input id='section-aa81f7b4-8d4b-4964-a899-939407c65e79' class='xr-section-summary-in' type='checkbox'  ><label for='section-aa81f7b4-8d4b-4964-a899-939407c65e79' class='xr-section-summary' >Attributes: <span>(31)</span></label><div class='xr-section-inline-details'></div><div class='xr-section-details'><dl class='xr-attrs'><dt><span>title :</span></dt><dd>TROPOS pyranometer network (PyrNet) observations</dd><dt><span>institution :</span></dt><dd>Leibniz Institute for Tropospheric Research (TROPOS)</dd><dt><span>department :</span></dt><dd>Remote Sensing of Atmospheric Processes</dd><dt><span>department_team :</span></dt><dd>Clouds, Aerosol and Radiation</dd><dt><span>address :</span></dt><dd>Permoser Str. 15, 04318 Leipzig, Germany</dd><dt><span>source :</span></dt><dd>TROPOS pyranometer network (PyrNet)</dd><dt><span>contact_person :</span></dt><dd>Andreas Macke and the clouds, aerosol and radiation team of the remote sensing department, mailto:andreas.macke@tropos.de</dd><dt><span>contributor_name :</span></dt><dd></dd><dt><span>contributor_role :</span></dt><dd></dd><dt><span>authors_software :</span></dt><dd>Hartwig Deneke, Jonas Witthuhn, mailto:deneke@tropos.de</dd><dt><span>creator_name :</span></dt><dd></dd><dt><span>project :</span></dt><dd></dd><dt><span>references :</span></dt><dd>https://doi.org/10.5194/amt-9-1153-2016</dd><dt><span>standard_name_vocabulary :</span></dt><dd>CF Standard Name Table v81</dd><dt><span>conventions :</span></dt><dd>CF-1.10, ACDD-1.3</dd><dt><span>license :</span></dt><dd>CC-BY-SA 3.0</dd><dt><span>TESTNOTE :</span></dt><dd>This is a test note.</dd><dt><span>processing_level :</span></dt><dd>l1a</dd><dt><span>product_version :</span></dt><dd>0.1.10+15.g5f0229e.dirty</dd><dt><span>history :</span></dt><dd>2024-01-31T07:48:49: Generated level l1a  by pyrnet version 0.1.10+15.g5f0229e.dirty; </dd><dt><span>date_created :</span></dt><dd>2024-01-31T07:48:49</dd><dt><span>geospatial_lat_min :</span></dt><dd>51.390208333333334</dd><dt><span>geospatial_lat_max :</span></dt><dd>51.390211666666666</dd><dt><span>geospatial_lat_units :</span></dt><dd>degN</dd><dt><span>geospatial_lon_min :</span></dt><dd>11.885246666666667</dd><dt><span>geospatial_lon_max :</span></dt><dd>11.885256666666667</dd><dt><span>geospatial_lon_units :</span></dt><dd>degE</dd><dt><span>time_coverage_start :</span></dt><dd>2022-08-30T11:21:04.065000</dd><dt><span>time_coverage_end :</span></dt><dd>2022-08-30T11:21:09</dd><dt><span>time_coverage_duration :</span></dt><dd>P0DT0H0M4.935S</dd><dt><span>time_coverage_resolution :</span></dt><dd>P0DT0H0M1.23375S</dd></dl></div></li></ul></div></div>"
     },
     "execution_count": 31,
     "metadata": {},
     "output_type": "execute_result"
    }
   ],
   "source": [
    "#|dropcode\n",
    "#|dropout\n",
    "\n",
    "# 7. Interpolate GPS coordinates to bin time\n",
    "ds_gps = ds_l1a.drop_dims(\"adctime\")\n",
    "ds_gps = ds_gps.drop_vars(['iadc'])\n",
    "\n",
    "\n",
    "# Decide whether geo coordinates should be averaged or not\n",
    "\n",
    "# if config['average_latlon']:\n",
    "ds_gps_avg = ds_gps.mean('gpstime',skipna=True)\n",
    "ds_l1b_avg = xr.merge((ds_l1b,ds_gps_avg))\n",
    "\n",
    "# else:\n",
    "ds_gps = ds_gps.interp(gpstime=ds_l1b.time,\n",
    "                       kwargs={\"bounds_error\":False, \"fill_value\":np.nan})\n",
    "ds_gps = ds_gps.drop_vars(\"gpstime\")\n",
    "\n",
    "ds_l1b = xr.merge((ds_l1b,ds_gps))\n",
    "\n",
    "ds_l1b"
   ],
   "metadata": {
    "collapsed": false,
    "ExecuteTime": {
     "end_time": "2024-01-31T07:48:50.849718400Z",
     "start_time": "2024-01-31T07:48:50.666599900Z"
    }
   }
  },
  {
   "cell_type": "code",
   "execution_count": 32,
   "outputs": [],
   "source": [
    "#|hide\n",
    "# dsp = ds_l1b.sel(time=\"2019-07-15\")\n",
    "# plt.figure()\n",
    "# plt.plot(dsp.time, dsp.ghi)\n",
    "# plt.grid()"
   ],
   "metadata": {
    "collapsed": false,
    "ExecuteTime": {
     "end_time": "2024-01-31T07:48:50.851712200Z",
     "start_time": "2024-01-31T07:48:50.751248900Z"
    }
   }
  },
  {
   "cell_type": "markdown",
   "source": [],
   "metadata": {
    "collapsed": false
   }
  },
  {
   "cell_type": "markdown",
   "source": [
    "8. Calculate sun position\n",
    "    * ```trosat.sunpos```\n"
   ],
   "metadata": {
    "collapsed": false
   }
  },
  {
   "cell_type": "code",
   "execution_count": 33,
   "outputs": [
    {
     "name": "stdout",
     "output_type": "stream",
     "text": [
      "szen (avg latlon): [42.51158535 42.51172152 42.51185796 42.51199467 42.51213166]\n",
      "szen: [        nan         nan 42.5118597  42.51199538 42.51213126]\n",
      "sazi  (avg latlon): [182.90675083 182.91284047 182.91893008 182.92501967 182.93110922]\n",
      "sazi: [         nan          nan 182.91893682 182.92502312 182.93110895]\n",
      "Earth-Sun Distance: 1.009599726026352\n"
     ]
    }
   ],
   "source": [
    "#|dropcode\n",
    "#|dropout\n",
    "# 8. Calc and add sun position\n",
    "\n",
    "szen, sazi = sp.sun_angles(\n",
    "    time=ds_l1b.time.values[:,None],\n",
    "    lat=ds_l1b.lat.values,\n",
    "    lon=ds_l1b.lon.values\n",
    ")\n",
    "\n",
    "\n",
    "szen_avg, sazi_avg = sp.sun_angles(\n",
    "    time=ds_l1b_avg.time.values[:,None],\n",
    "    lat=ds_l1b_avg.lat.values,\n",
    "    lon=ds_l1b_avg.lon.values\n",
    ")\n",
    "\n",
    "szen  = szen.squeeze()\n",
    "sazi = sazi.squeeze()\n",
    "szen_avg = szen_avg.squeeze()\n",
    "sazi_avg = sazi_avg.squeeze()\n",
    "\n",
    "\n",
    "esd = np.mean(sp.earth_sun_distance(ds_l1b.time.values))\n",
    "\n",
    "print('szen (avg latlon):', szen_avg)\n",
    "print('szen:', szen)\n",
    "print('sazi  (avg latlon):', sazi_avg)\n",
    "print('sazi:', sazi)\n",
    "print('Earth-Sun Distance:',esd)"
   ],
   "metadata": {
    "collapsed": false,
    "ExecuteTime": {
     "end_time": "2024-01-31T07:48:50.852714600Z",
     "start_time": "2024-01-31T07:48:50.776142700Z"
    }
   }
  },
  {
   "cell_type": "code",
   "execution_count": 34,
   "outputs": [
    {
     "data": {
      "text/plain": "<xarray.Dataset>\nDimensions:               (station: 1, time: 5)\nCoordinates:\n  * station               (station) float64 1.0\n  * time                  (time) datetime64[ns] 2022-08-30T11:21:03 ... 2022-...\nData variables: (12/18)\n    ghi                   (time, station) float32 269.9 269.7 269.9 269.9 269.9\n    gti                   (time, station) float32 277.3 277.3 277.4 277.3 277.3\n    ta                    (time, station) float32 294.8 294.7 294.8 294.7 294.8\n    rh                    (time, station) float32 0.6263 0.6266 ... 0.6271 0.629\n    battery_voltage       (time, station) float32 6.445 6.446 6.45 6.448 6.458\n    ghi_min               (time, station) float32 269.9 268.5 269.9 269.9 269.9\n    ...                    ...\n    lon                   (time, station) float64 nan nan 11.89 11.89 11.89\n    maintenance_flag_ghi  (station) float32 9.0\n    maintenance_flag_gti  (station) float32 7.0\n    szen                  (time, station) float64 nan nan 42.51 42.51 42.51\n    sazi                  (time, station) float64 nan nan 182.9 182.9 182.9\n    esd                   (station) float64 1.01\nAttributes: (12/31)\n    title:                     TROPOS pyranometer network (PyrNet) observations\n    institution:               Leibniz Institute for Tropospheric Research (T...\n    department:                Remote Sensing of Atmospheric Processes\n    department_team:           Clouds, Aerosol and Radiation\n    address:                   Permoser Str. 15, 04318 Leipzig, Germany\n    source:                    TROPOS pyranometer network (PyrNet)\n    ...                        ...\n    geospatial_lon_max:        11.885256666666667\n    geospatial_lon_units:      degE\n    time_coverage_start:       2022-08-30T11:21:04.065000\n    time_coverage_end:         2022-08-30T11:21:09\n    time_coverage_duration:    P0DT0H0M4.935S\n    time_coverage_resolution:  P0DT0H0M1.23375S",
      "text/html": "<div><svg style=\"position: absolute; width: 0; height: 0; overflow: hidden\">\n<defs>\n<symbol id=\"icon-database\" viewBox=\"0 0 32 32\">\n<path d=\"M16 0c-8.837 0-16 2.239-16 5v4c0 2.761 7.163 5 16 5s16-2.239 16-5v-4c0-2.761-7.163-5-16-5z\"></path>\n<path d=\"M16 17c-8.837 0-16-2.239-16-5v6c0 2.761 7.163 5 16 5s16-2.239 16-5v-6c0 2.761-7.163 5-16 5z\"></path>\n<path d=\"M16 26c-8.837 0-16-2.239-16-5v6c0 2.761 7.163 5 16 5s16-2.239 16-5v-6c0 2.761-7.163 5-16 5z\"></path>\n</symbol>\n<symbol id=\"icon-file-text2\" viewBox=\"0 0 32 32\">\n<path d=\"M28.681 7.159c-0.694-0.947-1.662-2.053-2.724-3.116s-2.169-2.030-3.116-2.724c-1.612-1.182-2.393-1.319-2.841-1.319h-15.5c-1.378 0-2.5 1.121-2.5 2.5v27c0 1.378 1.122 2.5 2.5 2.5h23c1.378 0 2.5-1.122 2.5-2.5v-19.5c0-0.448-0.137-1.23-1.319-2.841zM24.543 5.457c0.959 0.959 1.712 1.825 2.268 2.543h-4.811v-4.811c0.718 0.556 1.584 1.309 2.543 2.268zM28 29.5c0 0.271-0.229 0.5-0.5 0.5h-23c-0.271 0-0.5-0.229-0.5-0.5v-27c0-0.271 0.229-0.5 0.5-0.5 0 0 15.499-0 15.5 0v7c0 0.552 0.448 1 1 1h7v19.5z\"></path>\n<path d=\"M23 26h-14c-0.552 0-1-0.448-1-1s0.448-1 1-1h14c0.552 0 1 0.448 1 1s-0.448 1-1 1z\"></path>\n<path d=\"M23 22h-14c-0.552 0-1-0.448-1-1s0.448-1 1-1h14c0.552 0 1 0.448 1 1s-0.448 1-1 1z\"></path>\n<path d=\"M23 18h-14c-0.552 0-1-0.448-1-1s0.448-1 1-1h14c0.552 0 1 0.448 1 1s-0.448 1-1 1z\"></path>\n</symbol>\n</defs>\n</svg>\n<style>/* CSS stylesheet for displaying xarray objects in jupyterlab.\n *\n */\n\n:root {\n  --xr-font-color0: var(--jp-content-font-color0, rgba(0, 0, 0, 1));\n  --xr-font-color2: var(--jp-content-font-color2, rgba(0, 0, 0, 0.54));\n  --xr-font-color3: var(--jp-content-font-color3, rgba(0, 0, 0, 0.38));\n  --xr-border-color: var(--jp-border-color2, #e0e0e0);\n  --xr-disabled-color: var(--jp-layout-color3, #bdbdbd);\n  --xr-background-color: var(--jp-layout-color0, white);\n  --xr-background-color-row-even: var(--jp-layout-color1, white);\n  --xr-background-color-row-odd: var(--jp-layout-color2, #eeeeee);\n}\n\nhtml[theme=dark],\nbody[data-theme=dark],\nbody.vscode-dark {\n  --xr-font-color0: rgba(255, 255, 255, 1);\n  --xr-font-color2: rgba(255, 255, 255, 0.54);\n  --xr-font-color3: rgba(255, 255, 255, 0.38);\n  --xr-border-color: #1F1F1F;\n  --xr-disabled-color: #515151;\n  --xr-background-color: #111111;\n  --xr-background-color-row-even: #111111;\n  --xr-background-color-row-odd: #313131;\n}\n\n.xr-wrap {\n  display: block !important;\n  min-width: 300px;\n  max-width: 700px;\n}\n\n.xr-text-repr-fallback {\n  /* fallback to plain text repr when CSS is not injected (untrusted notebook) */\n  display: none;\n}\n\n.xr-header {\n  padding-top: 6px;\n  padding-bottom: 6px;\n  margin-bottom: 4px;\n  border-bottom: solid 1px var(--xr-border-color);\n}\n\n.xr-header > div,\n.xr-header > ul {\n  display: inline;\n  margin-top: 0;\n  margin-bottom: 0;\n}\n\n.xr-obj-type,\n.xr-array-name {\n  margin-left: 2px;\n  margin-right: 10px;\n}\n\n.xr-obj-type {\n  color: var(--xr-font-color2);\n}\n\n.xr-sections {\n  padding-left: 0 !important;\n  display: grid;\n  grid-template-columns: 150px auto auto 1fr 20px 20px;\n}\n\n.xr-section-item {\n  display: contents;\n}\n\n.xr-section-item input {\n  display: none;\n}\n\n.xr-section-item input + label {\n  color: var(--xr-disabled-color);\n}\n\n.xr-section-item input:enabled + label {\n  cursor: pointer;\n  color: var(--xr-font-color2);\n}\n\n.xr-section-item input:enabled + label:hover {\n  color: var(--xr-font-color0);\n}\n\n.xr-section-summary {\n  grid-column: 1;\n  color: var(--xr-font-color2);\n  font-weight: 500;\n}\n\n.xr-section-summary > span {\n  display: inline-block;\n  padding-left: 0.5em;\n}\n\n.xr-section-summary-in:disabled + label {\n  color: var(--xr-font-color2);\n}\n\n.xr-section-summary-in + label:before {\n  display: inline-block;\n  content: '►';\n  font-size: 11px;\n  width: 15px;\n  text-align: center;\n}\n\n.xr-section-summary-in:disabled + label:before {\n  color: var(--xr-disabled-color);\n}\n\n.xr-section-summary-in:checked + label:before {\n  content: '▼';\n}\n\n.xr-section-summary-in:checked + label > span {\n  display: none;\n}\n\n.xr-section-summary,\n.xr-section-inline-details {\n  padding-top: 4px;\n  padding-bottom: 4px;\n}\n\n.xr-section-inline-details {\n  grid-column: 2 / -1;\n}\n\n.xr-section-details {\n  display: none;\n  grid-column: 1 / -1;\n  margin-bottom: 5px;\n}\n\n.xr-section-summary-in:checked ~ .xr-section-details {\n  display: contents;\n}\n\n.xr-array-wrap {\n  grid-column: 1 / -1;\n  display: grid;\n  grid-template-columns: 20px auto;\n}\n\n.xr-array-wrap > label {\n  grid-column: 1;\n  vertical-align: top;\n}\n\n.xr-preview {\n  color: var(--xr-font-color3);\n}\n\n.xr-array-preview,\n.xr-array-data {\n  padding: 0 5px !important;\n  grid-column: 2;\n}\n\n.xr-array-data,\n.xr-array-in:checked ~ .xr-array-preview {\n  display: none;\n}\n\n.xr-array-in:checked ~ .xr-array-data,\n.xr-array-preview {\n  display: inline-block;\n}\n\n.xr-dim-list {\n  display: inline-block !important;\n  list-style: none;\n  padding: 0 !important;\n  margin: 0;\n}\n\n.xr-dim-list li {\n  display: inline-block;\n  padding: 0;\n  margin: 0;\n}\n\n.xr-dim-list:before {\n  content: '(';\n}\n\n.xr-dim-list:after {\n  content: ')';\n}\n\n.xr-dim-list li:not(:last-child):after {\n  content: ',';\n  padding-right: 5px;\n}\n\n.xr-has-index {\n  font-weight: bold;\n}\n\n.xr-var-list,\n.xr-var-item {\n  display: contents;\n}\n\n.xr-var-item > div,\n.xr-var-item label,\n.xr-var-item > .xr-var-name span {\n  background-color: var(--xr-background-color-row-even);\n  margin-bottom: 0;\n}\n\n.xr-var-item > .xr-var-name:hover span {\n  padding-right: 5px;\n}\n\n.xr-var-list > li:nth-child(odd) > div,\n.xr-var-list > li:nth-child(odd) > label,\n.xr-var-list > li:nth-child(odd) > .xr-var-name span {\n  background-color: var(--xr-background-color-row-odd);\n}\n\n.xr-var-name {\n  grid-column: 1;\n}\n\n.xr-var-dims {\n  grid-column: 2;\n}\n\n.xr-var-dtype {\n  grid-column: 3;\n  text-align: right;\n  color: var(--xr-font-color2);\n}\n\n.xr-var-preview {\n  grid-column: 4;\n}\n\n.xr-index-preview {\n  grid-column: 2 / 5;\n  color: var(--xr-font-color2);\n}\n\n.xr-var-name,\n.xr-var-dims,\n.xr-var-dtype,\n.xr-preview,\n.xr-attrs dt {\n  white-space: nowrap;\n  overflow: hidden;\n  text-overflow: ellipsis;\n  padding-right: 10px;\n}\n\n.xr-var-name:hover,\n.xr-var-dims:hover,\n.xr-var-dtype:hover,\n.xr-attrs dt:hover {\n  overflow: visible;\n  width: auto;\n  z-index: 1;\n}\n\n.xr-var-attrs,\n.xr-var-data,\n.xr-index-data {\n  display: none;\n  background-color: var(--xr-background-color) !important;\n  padding-bottom: 5px !important;\n}\n\n.xr-var-attrs-in:checked ~ .xr-var-attrs,\n.xr-var-data-in:checked ~ .xr-var-data,\n.xr-index-data-in:checked ~ .xr-index-data {\n  display: block;\n}\n\n.xr-var-data > table {\n  float: right;\n}\n\n.xr-var-name span,\n.xr-var-data,\n.xr-index-name div,\n.xr-index-data,\n.xr-attrs {\n  padding-left: 25px !important;\n}\n\n.xr-attrs,\n.xr-var-attrs,\n.xr-var-data,\n.xr-index-data {\n  grid-column: 1 / -1;\n}\n\ndl.xr-attrs {\n  padding: 0;\n  margin: 0;\n  display: grid;\n  grid-template-columns: 125px auto;\n}\n\n.xr-attrs dt,\n.xr-attrs dd {\n  padding: 0;\n  margin: 0;\n  float: left;\n  padding-right: 10px;\n  width: auto;\n}\n\n.xr-attrs dt {\n  font-weight: normal;\n  grid-column: 1;\n}\n\n.xr-attrs dt:hover span {\n  display: inline-block;\n  background: var(--xr-background-color);\n  padding-right: 10px;\n}\n\n.xr-attrs dd {\n  grid-column: 2;\n  white-space: pre-wrap;\n  word-break: break-all;\n}\n\n.xr-icon-database,\n.xr-icon-file-text2,\n.xr-no-icon {\n  display: inline-block;\n  vertical-align: middle;\n  width: 1em;\n  height: 1.5em !important;\n  stroke-width: 0;\n  stroke: currentColor;\n  fill: currentColor;\n}\n</style><pre class='xr-text-repr-fallback'>&lt;xarray.Dataset&gt;\nDimensions:               (station: 1, time: 5)\nCoordinates:\n  * station               (station) float64 1.0\n  * time                  (time) datetime64[ns] 2022-08-30T11:21:03 ... 2022-...\nData variables: (12/18)\n    ghi                   (time, station) float32 269.9 269.7 269.9 269.9 269.9\n    gti                   (time, station) float32 277.3 277.3 277.4 277.3 277.3\n    ta                    (time, station) float32 294.8 294.7 294.8 294.7 294.8\n    rh                    (time, station) float32 0.6263 0.6266 ... 0.6271 0.629\n    battery_voltage       (time, station) float32 6.445 6.446 6.45 6.448 6.458\n    ghi_min               (time, station) float32 269.9 268.5 269.9 269.9 269.9\n    ...                    ...\n    lon                   (time, station) float64 nan nan 11.89 11.89 11.89\n    maintenance_flag_ghi  (station) float32 9.0\n    maintenance_flag_gti  (station) float32 7.0\n    szen                  (time, station) float64 nan nan 42.51 42.51 42.51\n    sazi                  (time, station) float64 nan nan 182.9 182.9 182.9\n    esd                   (station) float64 1.01\nAttributes: (12/31)\n    title:                     TROPOS pyranometer network (PyrNet) observations\n    institution:               Leibniz Institute for Tropospheric Research (T...\n    department:                Remote Sensing of Atmospheric Processes\n    department_team:           Clouds, Aerosol and Radiation\n    address:                   Permoser Str. 15, 04318 Leipzig, Germany\n    source:                    TROPOS pyranometer network (PyrNet)\n    ...                        ...\n    geospatial_lon_max:        11.885256666666667\n    geospatial_lon_units:      degE\n    time_coverage_start:       2022-08-30T11:21:04.065000\n    time_coverage_end:         2022-08-30T11:21:09\n    time_coverage_duration:    P0DT0H0M4.935S\n    time_coverage_resolution:  P0DT0H0M1.23375S</pre><div class='xr-wrap' style='display:none'><div class='xr-header'><div class='xr-obj-type'>xarray.Dataset</div></div><ul class='xr-sections'><li class='xr-section-item'><input id='section-118f7e8d-0d19-4654-8ced-5773910e86dd' class='xr-section-summary-in' type='checkbox' disabled ><label for='section-118f7e8d-0d19-4654-8ced-5773910e86dd' class='xr-section-summary'  title='Expand/collapse section'>Dimensions:</label><div class='xr-section-inline-details'><ul class='xr-dim-list'><li><span class='xr-has-index'>station</span>: 1</li><li><span class='xr-has-index'>time</span>: 5</li></ul></div><div class='xr-section-details'></div></li><li class='xr-section-item'><input id='section-e33b3b3e-a950-43b2-bc59-be56cebad118' class='xr-section-summary-in' type='checkbox'  checked><label for='section-e33b3b3e-a950-43b2-bc59-be56cebad118' class='xr-section-summary' >Coordinates: <span>(2)</span></label><div class='xr-section-inline-details'></div><div class='xr-section-details'><ul class='xr-var-list'><li class='xr-var-item'><div class='xr-var-name'><span class='xr-has-index'>station</span></div><div class='xr-var-dims'>(station)</div><div class='xr-var-dtype'>float64</div><div class='xr-var-preview xr-preview'>1.0</div><input id='attrs-30943ab9-a6b1-4d36-b083-faeafca04713' class='xr-var-attrs-in' type='checkbox' disabled><label for='attrs-30943ab9-a6b1-4d36-b083-faeafca04713' title='Show/Hide attributes'><svg class='icon xr-icon-file-text2'><use xlink:href='#icon-file-text2'></use></svg></label><input id='data-0bd586a1-80eb-482e-b2ae-a402d323d1df' class='xr-var-data-in' type='checkbox'><label for='data-0bd586a1-80eb-482e-b2ae-a402d323d1df' title='Show/Hide data repr'><svg class='icon xr-icon-database'><use xlink:href='#icon-database'></use></svg></label><div class='xr-var-attrs'><dl class='xr-attrs'></dl></div><div class='xr-var-data'><pre>array([1.])</pre></div></li><li class='xr-var-item'><div class='xr-var-name'><span class='xr-has-index'>time</span></div><div class='xr-var-dims'>(time)</div><div class='xr-var-dtype'>datetime64[ns]</div><div class='xr-var-preview xr-preview'>2022-08-30T11:21:03 ... 2022-08-...</div><input id='attrs-9bc20a21-7969-490e-9082-b4fd0eb4a6d5' class='xr-var-attrs-in' type='checkbox' disabled><label for='attrs-9bc20a21-7969-490e-9082-b4fd0eb4a6d5' title='Show/Hide attributes'><svg class='icon xr-icon-file-text2'><use xlink:href='#icon-file-text2'></use></svg></label><input id='data-6d42508a-6cd6-40d0-b1f2-c2eec1de9d14' class='xr-var-data-in' type='checkbox'><label for='data-6d42508a-6cd6-40d0-b1f2-c2eec1de9d14' title='Show/Hide data repr'><svg class='icon xr-icon-database'><use xlink:href='#icon-database'></use></svg></label><div class='xr-var-attrs'><dl class='xr-attrs'></dl></div><div class='xr-var-data'><pre>array([&#x27;2022-08-30T11:21:03.000000000&#x27;, &#x27;2022-08-30T11:21:04.000000000&#x27;,\n       &#x27;2022-08-30T11:21:05.000000000&#x27;, &#x27;2022-08-30T11:21:06.000000000&#x27;,\n       &#x27;2022-08-30T11:21:07.000000000&#x27;], dtype=&#x27;datetime64[ns]&#x27;)</pre></div></li></ul></div></li><li class='xr-section-item'><input id='section-cb7f7130-797d-4210-93d0-1b4edd126e18' class='xr-section-summary-in' type='checkbox'  ><label for='section-cb7f7130-797d-4210-93d0-1b4edd126e18' class='xr-section-summary' >Data variables: <span>(18)</span></label><div class='xr-section-inline-details'></div><div class='xr-section-details'><ul class='xr-var-list'><li class='xr-var-item'><div class='xr-var-name'><span>ghi</span></div><div class='xr-var-dims'>(time, station)</div><div class='xr-var-dtype'>float32</div><div class='xr-var-preview xr-preview'>269.9 269.7 269.9 269.9 269.9</div><input id='attrs-4452bbea-0834-46fe-9b77-fd1a65f1916b' class='xr-var-attrs-in' type='checkbox' ><label for='attrs-4452bbea-0834-46fe-9b77-fd1a65f1916b' title='Show/Hide attributes'><svg class='icon xr-icon-file-text2'><use xlink:href='#icon-file-text2'></use></svg></label><input id='data-10b18836-7e86-4e01-b365-3c44fbb97184' class='xr-var-data-in' type='checkbox'><label for='data-10b18836-7e86-4e01-b365-3c44fbb97184' title='Show/Hide data repr'><svg class='icon xr-icon-database'><use xlink:href='#icon-database'></use></svg></label><div class='xr-var-attrs'><dl class='xr-attrs'><dt><span>units :</span></dt><dd>W m-2</dd><dt><span>long_name :</span></dt><dd>downwelling shortwave flux</dd><dt><span>standard_name :</span></dt><dd>downwelling_shortwave_flux_in_air</dd><dt><span>valid_range :</span></dt><dd>[   0 1023]</dd><dt><span>serial :</span></dt><dd>S12128.001</dd><dt><span>calibration_factor :</span></dt><dd>7.73</dd></dl></div><div class='xr-var-data'><pre>array([[269.86047],\n       [269.72137],\n       [269.86047],\n       [269.86047],\n       [269.86047]], dtype=float32)</pre></div></li><li class='xr-var-item'><div class='xr-var-name'><span>gti</span></div><div class='xr-var-dims'>(time, station)</div><div class='xr-var-dtype'>float32</div><div class='xr-var-preview xr-preview'>277.3 277.3 277.4 277.3 277.3</div><input id='attrs-d563feb3-1178-4a45-acba-dc9d50e63a2a' class='xr-var-attrs-in' type='checkbox' ><label for='attrs-d563feb3-1178-4a45-acba-dc9d50e63a2a' title='Show/Hide attributes'><svg class='icon xr-icon-file-text2'><use xlink:href='#icon-file-text2'></use></svg></label><input id='data-4a248f55-fc1a-4d0a-a589-ce8f976e3e38' class='xr-var-data-in' type='checkbox'><label for='data-4a248f55-fc1a-4d0a-a589-ce8f976e3e38' title='Show/Hide data repr'><svg class='icon xr-icon-database'><use xlink:href='#icon-database'></use></svg></label><div class='xr-var-attrs'><dl class='xr-attrs'><dt><span>units :</span></dt><dd>W m-2</dd><dt><span>long_name :</span></dt><dd>downwelling shortwave flux measured on secondary platform, might be tilted</dd><dt><span>standard_name :</span></dt><dd>downwelling_shortwave_flux_in_air</dd><dt><span>valid_range :</span></dt><dd>[   0 1023]</dd><dt><span>hangle :</span></dt><dd>0.0</dd><dt><span>vangle :</span></dt><dd>0.0</dd><dt><span>serial :</span></dt><dd>S12137.049</dd><dt><span>calibration_factor :</span></dt><dd>6.98</dd></dl></div><div class='xr-var-data'><pre>array([[277.28995],\n       [277.28995],\n       [277.444  ],\n       [277.28995],\n       [277.28995]], dtype=float32)</pre></div></li><li class='xr-var-item'><div class='xr-var-name'><span>ta</span></div><div class='xr-var-dims'>(time, station)</div><div class='xr-var-dtype'>float32</div><div class='xr-var-preview xr-preview'>294.8 294.7 294.8 294.7 294.8</div><input id='attrs-a04758cc-da23-48aa-b9e2-78f9323e4753' class='xr-var-attrs-in' type='checkbox' ><label for='attrs-a04758cc-da23-48aa-b9e2-78f9323e4753' title='Show/Hide attributes'><svg class='icon xr-icon-file-text2'><use xlink:href='#icon-file-text2'></use></svg></label><input id='data-2b952a1a-51f8-4ee9-9468-b41a2ee54d14' class='xr-var-data-in' type='checkbox'><label for='data-2b952a1a-51f8-4ee9-9468-b41a2ee54d14' title='Show/Hide data repr'><svg class='icon xr-icon-database'><use xlink:href='#icon-database'></use></svg></label><div class='xr-var-attrs'><dl class='xr-attrs'><dt><span>units :</span></dt><dd>K</dd><dt><span>long_name :</span></dt><dd>air temperature</dd><dt><span>standard_name :</span></dt><dd>air_temperature</dd><dt><span>valid_range :</span></dt><dd>[  0 775]</dd></dl></div><div class='xr-var-data'><pre>array([[294.7758 ],\n       [294.74997],\n       [294.7887 ],\n       [294.74997],\n       [294.82742]], dtype=float32)</pre></div></li><li class='xr-var-item'><div class='xr-var-name'><span>rh</span></div><div class='xr-var-dims'>(time, station)</div><div class='xr-var-dtype'>float32</div><div class='xr-var-preview xr-preview'>0.6263 0.6266 0.6271 0.6271 0.629</div><input id='attrs-962a0e85-d419-4221-86d3-ac8f5ed6e626' class='xr-var-attrs-in' type='checkbox' ><label for='attrs-962a0e85-d419-4221-86d3-ac8f5ed6e626' title='Show/Hide attributes'><svg class='icon xr-icon-file-text2'><use xlink:href='#icon-file-text2'></use></svg></label><input id='data-3dc1b5a9-ca98-4f17-b434-a2ee7b3cc272' class='xr-var-data-in' type='checkbox'><label for='data-3dc1b5a9-ca98-4f17-b434-a2ee7b3cc272' title='Show/Hide data repr'><svg class='icon xr-icon-database'><use xlink:href='#icon-database'></use></svg></label><div class='xr-var-attrs'><dl class='xr-attrs'><dt><span>units :</span></dt><dd>1</dd><dt><span>long_name :</span></dt><dd>air relative humidity</dd><dt><span>standard_name :</span></dt><dd>relative_humidity</dd><dt><span>valid_range :</span></dt><dd>[  0 775]</dd></dl></div><div class='xr-var-data'><pre>array([[0.62632257],\n       [0.6265806 ],\n       [0.6270968 ],\n       [0.6270968 ],\n       [0.62903225]], dtype=float32)</pre></div></li><li class='xr-var-item'><div class='xr-var-name'><span>battery_voltage</span></div><div class='xr-var-dims'>(time, station)</div><div class='xr-var-dtype'>float32</div><div class='xr-var-preview xr-preview'>6.445 6.446 6.45 6.448 6.458</div><input id='attrs-88272ab4-336f-4ba3-bd44-283699fbd01b' class='xr-var-attrs-in' type='checkbox' ><label for='attrs-88272ab4-336f-4ba3-bd44-283699fbd01b' title='Show/Hide attributes'><svg class='icon xr-icon-file-text2'><use xlink:href='#icon-file-text2'></use></svg></label><input id='data-f87c5eb0-75de-4709-b552-19b32b2fd423' class='xr-var-data-in' type='checkbox'><label for='data-f87c5eb0-75de-4709-b552-19b32b2fd423' title='Show/Hide data repr'><svg class='icon xr-icon-database'><use xlink:href='#icon-database'></use></svg></label><div class='xr-var-attrs'><dl class='xr-attrs'><dt><span>units :</span></dt><dd>V</dd><dt><span>standard_name :</span></dt><dd>battery_voltage</dd><dt><span>valid_range :</span></dt><dd>[  0 992]</dd></dl></div><div class='xr-var-data'><pre>array([[6.4451613],\n       [6.445807 ],\n       [6.4496775],\n       [6.4477415],\n       [6.4580646]], dtype=float32)</pre></div></li><li class='xr-var-item'><div class='xr-var-name'><span>ghi_min</span></div><div class='xr-var-dims'>(time, station)</div><div class='xr-var-dtype'>float32</div><div class='xr-var-preview xr-preview'>269.9 268.5 269.9 269.9 269.9</div><input id='attrs-b2f8fb19-bf2f-4c3d-822d-0b59efc10d59' class='xr-var-attrs-in' type='checkbox' ><label for='attrs-b2f8fb19-bf2f-4c3d-822d-0b59efc10d59' title='Show/Hide attributes'><svg class='icon xr-icon-file-text2'><use xlink:href='#icon-file-text2'></use></svg></label><input id='data-d2097e59-aad9-4f6a-adf4-bd015406bf2a' class='xr-var-data-in' type='checkbox'><label for='data-d2097e59-aad9-4f6a-adf4-bd015406bf2a' title='Show/Hide data repr'><svg class='icon xr-icon-database'><use xlink:href='#icon-database'></use></svg></label><div class='xr-var-attrs'><dl class='xr-attrs'><dt><span>units :</span></dt><dd>W m-2</dd><dt><span>long_name :</span></dt><dd>downwelling shortwave flux</dd><dt><span>standard_name :</span></dt><dd>min_downwelling_shortwave_flux_in_air</dd><dt><span>valid_range :</span></dt><dd>[   0 1023]</dd><dt><span>serial :</span></dt><dd>S12128.001</dd><dt><span>calibration_factor :</span></dt><dd>7.73</dd></dl></div><div class='xr-var-data'><pre>array([[269.86047],\n       [268.46945],\n       [269.86047],\n       [269.86047],\n       [269.86047]], dtype=float32)</pre></div></li><li class='xr-var-item'><div class='xr-var-name'><span>gti_min</span></div><div class='xr-var-dims'>(time, station)</div><div class='xr-var-dtype'>float32</div><div class='xr-var-preview xr-preview'>277.3 275.7 275.7 277.3 277.3</div><input id='attrs-80f06148-eeac-48ce-88ac-11ecfc1b2168' class='xr-var-attrs-in' type='checkbox' ><label for='attrs-80f06148-eeac-48ce-88ac-11ecfc1b2168' title='Show/Hide attributes'><svg class='icon xr-icon-file-text2'><use xlink:href='#icon-file-text2'></use></svg></label><input id='data-b341d425-db27-4f5c-b2a2-fe0febee8075' class='xr-var-data-in' type='checkbox'><label for='data-b341d425-db27-4f5c-b2a2-fe0febee8075' title='Show/Hide data repr'><svg class='icon xr-icon-database'><use xlink:href='#icon-database'></use></svg></label><div class='xr-var-attrs'><dl class='xr-attrs'><dt><span>units :</span></dt><dd>W m-2</dd><dt><span>long_name :</span></dt><dd>downwelling shortwave flux measured on secondary platform, might be tilted</dd><dt><span>standard_name :</span></dt><dd>min_downwelling_shortwave_flux_in_air</dd><dt><span>valid_range :</span></dt><dd>[   0 1023]</dd><dt><span>hangle :</span></dt><dd>0.0</dd><dt><span>vangle :</span></dt><dd>0.0</dd><dt><span>serial :</span></dt><dd>S12137.049</dd><dt><span>calibration_factor :</span></dt><dd>6.98</dd></dl></div><div class='xr-var-data'><pre>array([[277.28995],\n       [275.74945],\n       [275.74945],\n       [277.28995],\n       [277.28995]], dtype=float32)</pre></div></li><li class='xr-var-item'><div class='xr-var-name'><span>ghi_max</span></div><div class='xr-var-dims'>(time, station)</div><div class='xr-var-dtype'>float32</div><div class='xr-var-preview xr-preview'>269.9 269.9 269.9 269.9 269.9</div><input id='attrs-1037aae5-65b6-4b27-ac77-a2028972bc9e' class='xr-var-attrs-in' type='checkbox' ><label for='attrs-1037aae5-65b6-4b27-ac77-a2028972bc9e' title='Show/Hide attributes'><svg class='icon xr-icon-file-text2'><use xlink:href='#icon-file-text2'></use></svg></label><input id='data-bcaa9a98-2c2e-4bbf-a000-d44694f71fdc' class='xr-var-data-in' type='checkbox'><label for='data-bcaa9a98-2c2e-4bbf-a000-d44694f71fdc' title='Show/Hide data repr'><svg class='icon xr-icon-database'><use xlink:href='#icon-database'></use></svg></label><div class='xr-var-attrs'><dl class='xr-attrs'><dt><span>units :</span></dt><dd>W m-2</dd><dt><span>long_name :</span></dt><dd>downwelling shortwave flux</dd><dt><span>standard_name :</span></dt><dd>max_downwelling_shortwave_flux_in_air</dd><dt><span>valid_range :</span></dt><dd>[   0 1023]</dd><dt><span>serial :</span></dt><dd>S12128.001</dd><dt><span>calibration_factor :</span></dt><dd>7.73</dd></dl></div><div class='xr-var-data'><pre>array([[269.86047],\n       [269.86047],\n       [269.86047],\n       [269.86047],\n       [269.86047]], dtype=float32)</pre></div></li><li class='xr-var-item'><div class='xr-var-name'><span>gti_max</span></div><div class='xr-var-dims'>(time, station)</div><div class='xr-var-dtype'>float32</div><div class='xr-var-preview xr-preview'>277.3 278.8 278.8 277.3 277.3</div><input id='attrs-fd07e3a8-50a8-4fca-b46c-50cb325ed1b8' class='xr-var-attrs-in' type='checkbox' ><label for='attrs-fd07e3a8-50a8-4fca-b46c-50cb325ed1b8' title='Show/Hide attributes'><svg class='icon xr-icon-file-text2'><use xlink:href='#icon-file-text2'></use></svg></label><input id='data-f0412ba5-a811-475b-a3b6-197d9e86400f' class='xr-var-data-in' type='checkbox'><label for='data-f0412ba5-a811-475b-a3b6-197d9e86400f' title='Show/Hide data repr'><svg class='icon xr-icon-database'><use xlink:href='#icon-database'></use></svg></label><div class='xr-var-attrs'><dl class='xr-attrs'><dt><span>units :</span></dt><dd>W m-2</dd><dt><span>long_name :</span></dt><dd>downwelling shortwave flux measured on secondary platform, might be tilted</dd><dt><span>standard_name :</span></dt><dd>max_downwelling_shortwave_flux_in_air</dd><dt><span>valid_range :</span></dt><dd>[   0 1023]</dd><dt><span>hangle :</span></dt><dd>0.0</dd><dt><span>vangle :</span></dt><dd>0.0</dd><dt><span>serial :</span></dt><dd>S12137.049</dd><dt><span>calibration_factor :</span></dt><dd>6.98</dd></dl></div><div class='xr-var-data'><pre>array([[277.28995],\n       [278.83044],\n       [278.83044],\n       [277.28995],\n       [277.28995]], dtype=float32)</pre></div></li><li class='xr-var-item'><div class='xr-var-name'><span>ghi_std</span></div><div class='xr-var-dims'>(time, station)</div><div class='xr-var-dtype'>float64</div><div class='xr-var-preview xr-preview'>0.0 0.4399 0.0 0.0 0.0</div><input id='attrs-3b8d03ec-506a-446f-a373-d13cd4bb0dc7' class='xr-var-attrs-in' type='checkbox' ><label for='attrs-3b8d03ec-506a-446f-a373-d13cd4bb0dc7' title='Show/Hide attributes'><svg class='icon xr-icon-file-text2'><use xlink:href='#icon-file-text2'></use></svg></label><input id='data-30a18d9c-f75c-45f0-be23-43bc18e76d4f' class='xr-var-data-in' type='checkbox'><label for='data-30a18d9c-f75c-45f0-be23-43bc18e76d4f' title='Show/Hide data repr'><svg class='icon xr-icon-database'><use xlink:href='#icon-database'></use></svg></label><div class='xr-var-attrs'><dl class='xr-attrs'><dt><span>units :</span></dt><dd>W m-2</dd><dt><span>long_name :</span></dt><dd>downwelling shortwave flux</dd><dt><span>standard_name :</span></dt><dd>std_downwelling_shortwave_flux_in_air</dd><dt><span>valid_range :</span></dt><dd>[   0 1023]</dd><dt><span>serial :</span></dt><dd>S12128.001</dd><dt><span>calibration_factor :</span></dt><dd>7.73</dd></dl></div><div class='xr-var-data'><pre>array([[0.        ],\n       [0.43987969],\n       [0.        ],\n       [0.        ],\n       [0.        ]])</pre></div></li><li class='xr-var-item'><div class='xr-var-name'><span>gti_std</span></div><div class='xr-var-dims'>(time, station)</div><div class='xr-var-dtype'>float64</div><div class='xr-var-preview xr-preview'>0.0 0.7262 0.8745 0.0 0.0</div><input id='attrs-1c682ba0-5ae2-4053-baf5-90c0bd31a5b3' class='xr-var-attrs-in' type='checkbox' ><label for='attrs-1c682ba0-5ae2-4053-baf5-90c0bd31a5b3' title='Show/Hide attributes'><svg class='icon xr-icon-file-text2'><use xlink:href='#icon-file-text2'></use></svg></label><input id='data-7ba188ac-6cd6-44fe-a83e-c342319d5e62' class='xr-var-data-in' type='checkbox'><label for='data-7ba188ac-6cd6-44fe-a83e-c342319d5e62' title='Show/Hide data repr'><svg class='icon xr-icon-database'><use xlink:href='#icon-database'></use></svg></label><div class='xr-var-attrs'><dl class='xr-attrs'><dt><span>units :</span></dt><dd>W m-2</dd><dt><span>long_name :</span></dt><dd>downwelling shortwave flux measured on secondary platform, might be tilted</dd><dt><span>standard_name :</span></dt><dd>std_downwelling_shortwave_flux_in_air</dd><dt><span>valid_range :</span></dt><dd>[   0 1023]</dd><dt><span>hangle :</span></dt><dd>0.0</dd><dt><span>vangle :</span></dt><dd>0.0</dd><dt><span>serial :</span></dt><dd>S12137.049</dd><dt><span>calibration_factor :</span></dt><dd>6.98</dd></dl></div><div class='xr-var-data'><pre>array([[0.        ],\n       [0.72619717],\n       [0.87445719],\n       [0.        ],\n       [0.        ]])</pre></div></li><li class='xr-var-item'><div class='xr-var-name'><span>lat</span></div><div class='xr-var-dims'>(time, station)</div><div class='xr-var-dtype'>float64</div><div class='xr-var-preview xr-preview'>nan nan 51.39 51.39 51.39</div><input id='attrs-7e1d74ac-f577-4b06-9531-91c1bd11ed7f' class='xr-var-attrs-in' type='checkbox' ><label for='attrs-7e1d74ac-f577-4b06-9531-91c1bd11ed7f' title='Show/Hide attributes'><svg class='icon xr-icon-file-text2'><use xlink:href='#icon-file-text2'></use></svg></label><input id='data-5f1212bc-77ab-47ac-8ddb-91438fab159d' class='xr-var-data-in' type='checkbox'><label for='data-5f1212bc-77ab-47ac-8ddb-91438fab159d' title='Show/Hide data repr'><svg class='icon xr-icon-database'><use xlink:href='#icon-database'></use></svg></label><div class='xr-var-attrs'><dl class='xr-attrs'><dt><span>standard_name :</span></dt><dd>latitude</dd><dt><span>units :</span></dt><dd>degree_north</dd><dt><span>valid_range :</span></dt><dd>[        0 180000000]</dd></dl></div><div class='xr-var-data'><pre>array([[        nan],\n       [        nan],\n       [51.390212  ],\n       [51.39021103],\n       [51.39021   ]])</pre></div></li><li class='xr-var-item'><div class='xr-var-name'><span>lon</span></div><div class='xr-var-dims'>(time, station)</div><div class='xr-var-dtype'>float64</div><div class='xr-var-preview xr-preview'>nan nan 11.89 11.89 11.89</div><input id='attrs-8b57aee0-f2dc-4271-96e3-67e8368c8526' class='xr-var-attrs-in' type='checkbox' ><label for='attrs-8b57aee0-f2dc-4271-96e3-67e8368c8526' title='Show/Hide attributes'><svg class='icon xr-icon-file-text2'><use xlink:href='#icon-file-text2'></use></svg></label><input id='data-a68285cb-148a-4abb-a648-88b4f4cee3c9' class='xr-var-data-in' type='checkbox'><label for='data-a68285cb-148a-4abb-a648-88b4f4cee3c9' title='Show/Hide data repr'><svg class='icon xr-icon-database'><use xlink:href='#icon-database'></use></svg></label><div class='xr-var-attrs'><dl class='xr-attrs'><dt><span>standard_name :</span></dt><dd>longitude</dd><dt><span>units :</span></dt><dd>degree_east</dd><dt><span>valid_range :</span></dt><dd>[        0 360000000]</dd></dl></div><div class='xr-var-data'><pre>array([[        nan],\n       [        nan],\n       [11.88525687],\n       [11.88525458],\n       [11.885252  ]])</pre></div></li><li class='xr-var-item'><div class='xr-var-name'><span>maintenance_flag_ghi</span></div><div class='xr-var-dims'>(station)</div><div class='xr-var-dtype'>float32</div><div class='xr-var-preview xr-preview'>9.0</div><input id='attrs-56e43cb9-2f99-4538-99f1-3938e5c53d6a' class='xr-var-attrs-in' type='checkbox' ><label for='attrs-56e43cb9-2f99-4538-99f1-3938e5c53d6a' title='Show/Hide attributes'><svg class='icon xr-icon-file-text2'><use xlink:href='#icon-file-text2'></use></svg></label><input id='data-decfe4fa-1852-49fd-b7e6-1213842915bc' class='xr-var-data-in' type='checkbox'><label for='data-decfe4fa-1852-49fd-b7e6-1213842915bc' title='Show/Hide data repr'><svg class='icon xr-icon-database'><use xlink:href='#icon-database'></use></svg></label><div class='xr-var-attrs'><dl class='xr-attrs'><dt><span>standard_name :</span></dt><dd>quality_flag</dd><dt><span>long_name :</span></dt><dd>Maintenance quality control flags for main pyranometer</dd><dt><span>note :</span></dt><dd>Soiling describes subjectively the coverage of the pyranometer dome with dirt. The level flag is problematic if the bubble of the spirit level touches the reference ring, and bad if it is outside.</dd><dt><span>valid_range :</span></dt><dd>[ 0 11]</dd><dt><span>flag_masks :</span></dt><dd>[ 3  3  3 12 12]</dd><dt><span>flag_values :</span></dt><dd>[1 2 3 4 8]</dd><dt><span>flag_meanings :</span></dt><dd>soiling_light soiling_moderate soiling_heavy level_problematic level_bad</dd><dt><span>note_general :</span></dt><dd>this is a test; 222</dd><dt><span>note_clean :</span></dt><dd>testing notes; None</dd><dt><span>note_level :</span></dt><dd>None; test</dd></dl></div><div class='xr-var-data'><pre>array([9.], dtype=float32)</pre></div></li><li class='xr-var-item'><div class='xr-var-name'><span>maintenance_flag_gti</span></div><div class='xr-var-dims'>(station)</div><div class='xr-var-dtype'>float32</div><div class='xr-var-preview xr-preview'>7.0</div><input id='attrs-baefe07b-bfb8-4a4e-be67-86c63705caee' class='xr-var-attrs-in' type='checkbox' ><label for='attrs-baefe07b-bfb8-4a4e-be67-86c63705caee' title='Show/Hide attributes'><svg class='icon xr-icon-file-text2'><use xlink:href='#icon-file-text2'></use></svg></label><input id='data-af606c95-1426-4de5-bb85-19280f4d2b95' class='xr-var-data-in' type='checkbox'><label for='data-af606c95-1426-4de5-bb85-19280f4d2b95' title='Show/Hide data repr'><svg class='icon xr-icon-database'><use xlink:href='#icon-database'></use></svg></label><div class='xr-var-attrs'><dl class='xr-attrs'><dt><span>standard_name :</span></dt><dd>quality_flag</dd><dt><span>long_name :</span></dt><dd>Maintenance quality control flags for secondary pyranometer</dd><dt><span>note :</span></dt><dd>Soiling describes subjectively the coverage of the pyranometer dome with dirt. The level flag is problematic if the bubble of the spirit level touches the reference ring, and bad if it is outside.</dd><dt><span>valid_range :</span></dt><dd>[ 0 11]</dd><dt><span>flag_masks :</span></dt><dd>[ 3  3  3 12 12]</dd><dt><span>flag_values :</span></dt><dd>[1 2 3 4 8]</dd><dt><span>flag_meanings :</span></dt><dd>soiling_light soiling_moderate soiling_heavy level_problematic level_bad</dd><dt><span>note_general :</span></dt><dd>this is a test; 222</dd><dt><span>note_clean :</span></dt><dd>None; None</dd><dt><span>note_level :</span></dt><dd>None; None</dd></dl></div><div class='xr-var-data'><pre>array([7.], dtype=float32)</pre></div></li><li class='xr-var-item'><div class='xr-var-name'><span>szen</span></div><div class='xr-var-dims'>(time, station)</div><div class='xr-var-dtype'>float64</div><div class='xr-var-preview xr-preview'>nan nan 42.51 42.51 42.51</div><input id='attrs-1c1e7f40-cfaa-4dc2-9966-a8aade3576fc' class='xr-var-attrs-in' type='checkbox' ><label for='attrs-1c1e7f40-cfaa-4dc2-9966-a8aade3576fc' title='Show/Hide attributes'><svg class='icon xr-icon-file-text2'><use xlink:href='#icon-file-text2'></use></svg></label><input id='data-cd6b3c17-5b5b-47f0-8dc1-263ea7061292' class='xr-var-data-in' type='checkbox'><label for='data-cd6b3c17-5b5b-47f0-8dc1-263ea7061292' title='Show/Hide data repr'><svg class='icon xr-icon-database'><use xlink:href='#icon-database'></use></svg></label><div class='xr-var-attrs'><dl class='xr-attrs'><dt><span>standard_name :</span></dt><dd>solar_zenith_angle</dd><dt><span>units :</span></dt><dd>degree</dd><dt><span>valid_range :</span></dt><dd>[0, 36000]</dd></dl></div><div class='xr-var-data'><pre>array([[        nan],\n       [        nan],\n       [42.5118597 ],\n       [42.51199538],\n       [42.51213126]])</pre></div></li><li class='xr-var-item'><div class='xr-var-name'><span>sazi</span></div><div class='xr-var-dims'>(time, station)</div><div class='xr-var-dtype'>float64</div><div class='xr-var-preview xr-preview'>nan nan 182.9 182.9 182.9</div><input id='attrs-d85d6d24-6c4a-459a-a0a3-2a14c8966f09' class='xr-var-attrs-in' type='checkbox' ><label for='attrs-d85d6d24-6c4a-459a-a0a3-2a14c8966f09' title='Show/Hide attributes'><svg class='icon xr-icon-file-text2'><use xlink:href='#icon-file-text2'></use></svg></label><input id='data-65fae099-f6fb-4e56-98d3-c8ee7c5d1515' class='xr-var-data-in' type='checkbox'><label for='data-65fae099-f6fb-4e56-98d3-c8ee7c5d1515' title='Show/Hide data repr'><svg class='icon xr-icon-database'><use xlink:href='#icon-database'></use></svg></label><div class='xr-var-attrs'><dl class='xr-attrs'><dt><span>standard_name :</span></dt><dd>solar_azimuth_angle</dd><dt><span>units :</span></dt><dd>degree</dd><dt><span>valid_range :</span></dt><dd>[0, 36000]</dd></dl></div><div class='xr-var-data'><pre>array([[         nan],\n       [         nan],\n       [182.91893682],\n       [182.92502312],\n       [182.93110895]])</pre></div></li><li class='xr-var-item'><div class='xr-var-name'><span>esd</span></div><div class='xr-var-dims'>(station)</div><div class='xr-var-dtype'>float64</div><div class='xr-var-preview xr-preview'>1.01</div><input id='attrs-87093c5d-2146-46b5-9406-6d10612cfc2b' class='xr-var-attrs-in' type='checkbox' ><label for='attrs-87093c5d-2146-46b5-9406-6d10612cfc2b' title='Show/Hide attributes'><svg class='icon xr-icon-file-text2'><use xlink:href='#icon-file-text2'></use></svg></label><input id='data-ba33e02d-a4d2-493a-822d-3172d7e76faf' class='xr-var-data-in' type='checkbox'><label for='data-ba33e02d-a4d2-493a-822d-3172d7e76faf' title='Show/Hide data repr'><svg class='icon xr-icon-database'><use xlink:href='#icon-database'></use></svg></label><div class='xr-var-attrs'><dl class='xr-attrs'><dt><span>standard_name :</span></dt><dd>earth_sun_distance</dd><dt><span>units :</span></dt><dd>AU</dd><dt><span>valid_range :</span></dt><dd>[0, 40000]</dd></dl></div><div class='xr-var-data'><pre>array([1.00959973])</pre></div></li></ul></div></li><li class='xr-section-item'><input id='section-17b42e24-b2b0-4513-a25e-452abb052b63' class='xr-section-summary-in' type='checkbox'  ><label for='section-17b42e24-b2b0-4513-a25e-452abb052b63' class='xr-section-summary' >Indexes: <span>(2)</span></label><div class='xr-section-inline-details'></div><div class='xr-section-details'><ul class='xr-var-list'><li class='xr-var-item'><div class='xr-index-name'><div>station</div></div><div class='xr-index-preview'>PandasIndex</div><div></div><input id='index-ffce3dd6-609b-4744-95a1-ed8fa11305a9' class='xr-index-data-in' type='checkbox'/><label for='index-ffce3dd6-609b-4744-95a1-ed8fa11305a9' title='Show/Hide index repr'><svg class='icon xr-icon-database'><use xlink:href='#icon-database'></use></svg></label><div class='xr-index-data'><pre>PandasIndex(Float64Index([1.0], dtype=&#x27;float64&#x27;, name=&#x27;station&#x27;))</pre></div></li><li class='xr-var-item'><div class='xr-index-name'><div>time</div></div><div class='xr-index-preview'>PandasIndex</div><div></div><input id='index-631eb32d-9817-4146-8ad8-b1f0f0075a12' class='xr-index-data-in' type='checkbox'/><label for='index-631eb32d-9817-4146-8ad8-b1f0f0075a12' title='Show/Hide index repr'><svg class='icon xr-icon-database'><use xlink:href='#icon-database'></use></svg></label><div class='xr-index-data'><pre>PandasIndex(DatetimeIndex([&#x27;2022-08-30 11:21:03&#x27;, &#x27;2022-08-30 11:21:04&#x27;,\n               &#x27;2022-08-30 11:21:05&#x27;, &#x27;2022-08-30 11:21:06&#x27;,\n               &#x27;2022-08-30 11:21:07&#x27;],\n              dtype=&#x27;datetime64[ns]&#x27;, name=&#x27;time&#x27;, freq=&#x27;S&#x27;))</pre></div></li></ul></div></li><li class='xr-section-item'><input id='section-53b9ac76-de24-4431-b47c-5fc0db375ab6' class='xr-section-summary-in' type='checkbox'  ><label for='section-53b9ac76-de24-4431-b47c-5fc0db375ab6' class='xr-section-summary' >Attributes: <span>(31)</span></label><div class='xr-section-inline-details'></div><div class='xr-section-details'><dl class='xr-attrs'><dt><span>title :</span></dt><dd>TROPOS pyranometer network (PyrNet) observations</dd><dt><span>institution :</span></dt><dd>Leibniz Institute for Tropospheric Research (TROPOS)</dd><dt><span>department :</span></dt><dd>Remote Sensing of Atmospheric Processes</dd><dt><span>department_team :</span></dt><dd>Clouds, Aerosol and Radiation</dd><dt><span>address :</span></dt><dd>Permoser Str. 15, 04318 Leipzig, Germany</dd><dt><span>source :</span></dt><dd>TROPOS pyranometer network (PyrNet)</dd><dt><span>contact_person :</span></dt><dd>Andreas Macke and the clouds, aerosol and radiation team of the remote sensing department, mailto:andreas.macke@tropos.de</dd><dt><span>contributor_name :</span></dt><dd></dd><dt><span>contributor_role :</span></dt><dd></dd><dt><span>authors_software :</span></dt><dd>Hartwig Deneke, Jonas Witthuhn, mailto:deneke@tropos.de</dd><dt><span>creator_name :</span></dt><dd></dd><dt><span>project :</span></dt><dd></dd><dt><span>references :</span></dt><dd>https://doi.org/10.5194/amt-9-1153-2016</dd><dt><span>standard_name_vocabulary :</span></dt><dd>CF Standard Name Table v81</dd><dt><span>conventions :</span></dt><dd>CF-1.10, ACDD-1.3</dd><dt><span>license :</span></dt><dd>CC-BY-SA 3.0</dd><dt><span>TESTNOTE :</span></dt><dd>This is a test note.</dd><dt><span>processing_level :</span></dt><dd>l1a</dd><dt><span>product_version :</span></dt><dd>0.1.10+15.g5f0229e.dirty</dd><dt><span>history :</span></dt><dd>2024-01-31T07:48:49: Generated level l1a  by pyrnet version 0.1.10+15.g5f0229e.dirty; </dd><dt><span>date_created :</span></dt><dd>2024-01-31T07:48:49</dd><dt><span>geospatial_lat_min :</span></dt><dd>51.390208333333334</dd><dt><span>geospatial_lat_max :</span></dt><dd>51.390211666666666</dd><dt><span>geospatial_lat_units :</span></dt><dd>degN</dd><dt><span>geospatial_lon_min :</span></dt><dd>11.885246666666667</dd><dt><span>geospatial_lon_max :</span></dt><dd>11.885256666666667</dd><dt><span>geospatial_lon_units :</span></dt><dd>degE</dd><dt><span>time_coverage_start :</span></dt><dd>2022-08-30T11:21:04.065000</dd><dt><span>time_coverage_end :</span></dt><dd>2022-08-30T11:21:09</dd><dt><span>time_coverage_duration :</span></dt><dd>P0DT0H0M4.935S</dd><dt><span>time_coverage_resolution :</span></dt><dd>P0DT0H0M1.23375S</dd></dl></div></li></ul></div></div>"
     },
     "execution_count": 34,
     "metadata": {},
     "output_type": "execute_result"
    }
   ],
   "source": [
    "#|dropcode\n",
    "#|dropout\n",
    "ds_l1b = ds_l1b.assign(\n",
    "    {\n",
    "        \"szen\": ((\"time\", \"station\"), szen[:,None]),\n",
    "        \"sazi\": ((\"time\", \"station\"), sazi[:,None]),\n",
    "        \"esd\": (\"station\", [esd])\n",
    "    }\n",
    ")\n",
    "for key in ['szen', 'sazi','esd']:\n",
    "    ds_l1b[key].attrs.update(vattrs[key])\n",
    "    # ds_l1b[key].encoding.update(vencode[key])\n",
    "ds_l1b"
   ],
   "metadata": {
    "collapsed": false,
    "ExecuteTime": {
     "end_time": "2024-01-31T07:48:51.151950300Z",
     "start_time": "2024-01-31T07:48:50.810564200Z"
    }
   }
  },
  {
   "cell_type": "markdown",
   "source": [
    "9. Update variables and global attributes and encoding"
   ],
   "metadata": {
    "collapsed": false
   }
  },
  {
   "cell_type": "code",
   "execution_count": 35,
   "outputs": [
    {
     "data": {
      "text/plain": "<xarray.Dataset>\nDimensions:               (station: 1, time: 5)\nCoordinates:\n  * station               (station) float64 1.0\n  * time                  (time) datetime64[ns] 2022-08-30T11:21:03 ... 2022-...\nData variables: (12/18)\n    ghi                   (time, station) float32 269.9 269.7 269.9 269.9 269.9\n    gti                   (time, station) float32 277.3 277.3 277.4 277.3 277.3\n    ta                    (time, station) float32 294.8 294.7 294.8 294.7 294.8\n    rh                    (time, station) float32 0.6263 0.6266 ... 0.6271 0.629\n    battery_voltage       (time, station) float32 6.445 6.446 6.45 6.448 6.458\n    ghi_min               (time, station) float32 269.9 268.5 269.9 269.9 269.9\n    ...                    ...\n    lon                   (time, station) float64 nan nan 11.89 11.89 11.89\n    maintenance_flag_ghi  (station) float32 9.0\n    maintenance_flag_gti  (station) float32 7.0\n    szen                  (time, station) float64 nan nan 42.51 42.51 42.51\n    sazi                  (time, station) float64 nan nan 182.9 182.9 182.9\n    esd                   (station) float64 1.01\nAttributes: (12/31)\n    title:                     TROPOS pyranometer network (PyrNet) observations\n    institution:               Leibniz Institute for Tropospheric Research (T...\n    department:                Remote Sensing of Atmospheric Processes\n    department_team:           Clouds, Aerosol and Radiation\n    address:                   Permoser Str. 15, 04318 Leipzig, Germany\n    source:                    TROPOS pyranometer network (PyrNet)\n    ...                        ...\n    geospatial_lon_max:        11.885256869999996\n    geospatial_lon_units:      degE\n    time_coverage_start:       2022-08-30T11:21:03\n    time_coverage_end:         2022-08-30T11:21:07\n    time_coverage_duration:    P0DT0H0M4S\n    time_coverage_resolution:  P0DT0H0M1S",
      "text/html": "<div><svg style=\"position: absolute; width: 0; height: 0; overflow: hidden\">\n<defs>\n<symbol id=\"icon-database\" viewBox=\"0 0 32 32\">\n<path d=\"M16 0c-8.837 0-16 2.239-16 5v4c0 2.761 7.163 5 16 5s16-2.239 16-5v-4c0-2.761-7.163-5-16-5z\"></path>\n<path d=\"M16 17c-8.837 0-16-2.239-16-5v6c0 2.761 7.163 5 16 5s16-2.239 16-5v-6c0 2.761-7.163 5-16 5z\"></path>\n<path d=\"M16 26c-8.837 0-16-2.239-16-5v6c0 2.761 7.163 5 16 5s16-2.239 16-5v-6c0 2.761-7.163 5-16 5z\"></path>\n</symbol>\n<symbol id=\"icon-file-text2\" viewBox=\"0 0 32 32\">\n<path d=\"M28.681 7.159c-0.694-0.947-1.662-2.053-2.724-3.116s-2.169-2.030-3.116-2.724c-1.612-1.182-2.393-1.319-2.841-1.319h-15.5c-1.378 0-2.5 1.121-2.5 2.5v27c0 1.378 1.122 2.5 2.5 2.5h23c1.378 0 2.5-1.122 2.5-2.5v-19.5c0-0.448-0.137-1.23-1.319-2.841zM24.543 5.457c0.959 0.959 1.712 1.825 2.268 2.543h-4.811v-4.811c0.718 0.556 1.584 1.309 2.543 2.268zM28 29.5c0 0.271-0.229 0.5-0.5 0.5h-23c-0.271 0-0.5-0.229-0.5-0.5v-27c0-0.271 0.229-0.5 0.5-0.5 0 0 15.499-0 15.5 0v7c0 0.552 0.448 1 1 1h7v19.5z\"></path>\n<path d=\"M23 26h-14c-0.552 0-1-0.448-1-1s0.448-1 1-1h14c0.552 0 1 0.448 1 1s-0.448 1-1 1z\"></path>\n<path d=\"M23 22h-14c-0.552 0-1-0.448-1-1s0.448-1 1-1h14c0.552 0 1 0.448 1 1s-0.448 1-1 1z\"></path>\n<path d=\"M23 18h-14c-0.552 0-1-0.448-1-1s0.448-1 1-1h14c0.552 0 1 0.448 1 1s-0.448 1-1 1z\"></path>\n</symbol>\n</defs>\n</svg>\n<style>/* CSS stylesheet for displaying xarray objects in jupyterlab.\n *\n */\n\n:root {\n  --xr-font-color0: var(--jp-content-font-color0, rgba(0, 0, 0, 1));\n  --xr-font-color2: var(--jp-content-font-color2, rgba(0, 0, 0, 0.54));\n  --xr-font-color3: var(--jp-content-font-color3, rgba(0, 0, 0, 0.38));\n  --xr-border-color: var(--jp-border-color2, #e0e0e0);\n  --xr-disabled-color: var(--jp-layout-color3, #bdbdbd);\n  --xr-background-color: var(--jp-layout-color0, white);\n  --xr-background-color-row-even: var(--jp-layout-color1, white);\n  --xr-background-color-row-odd: var(--jp-layout-color2, #eeeeee);\n}\n\nhtml[theme=dark],\nbody[data-theme=dark],\nbody.vscode-dark {\n  --xr-font-color0: rgba(255, 255, 255, 1);\n  --xr-font-color2: rgba(255, 255, 255, 0.54);\n  --xr-font-color3: rgba(255, 255, 255, 0.38);\n  --xr-border-color: #1F1F1F;\n  --xr-disabled-color: #515151;\n  --xr-background-color: #111111;\n  --xr-background-color-row-even: #111111;\n  --xr-background-color-row-odd: #313131;\n}\n\n.xr-wrap {\n  display: block !important;\n  min-width: 300px;\n  max-width: 700px;\n}\n\n.xr-text-repr-fallback {\n  /* fallback to plain text repr when CSS is not injected (untrusted notebook) */\n  display: none;\n}\n\n.xr-header {\n  padding-top: 6px;\n  padding-bottom: 6px;\n  margin-bottom: 4px;\n  border-bottom: solid 1px var(--xr-border-color);\n}\n\n.xr-header > div,\n.xr-header > ul {\n  display: inline;\n  margin-top: 0;\n  margin-bottom: 0;\n}\n\n.xr-obj-type,\n.xr-array-name {\n  margin-left: 2px;\n  margin-right: 10px;\n}\n\n.xr-obj-type {\n  color: var(--xr-font-color2);\n}\n\n.xr-sections {\n  padding-left: 0 !important;\n  display: grid;\n  grid-template-columns: 150px auto auto 1fr 20px 20px;\n}\n\n.xr-section-item {\n  display: contents;\n}\n\n.xr-section-item input {\n  display: none;\n}\n\n.xr-section-item input + label {\n  color: var(--xr-disabled-color);\n}\n\n.xr-section-item input:enabled + label {\n  cursor: pointer;\n  color: var(--xr-font-color2);\n}\n\n.xr-section-item input:enabled + label:hover {\n  color: var(--xr-font-color0);\n}\n\n.xr-section-summary {\n  grid-column: 1;\n  color: var(--xr-font-color2);\n  font-weight: 500;\n}\n\n.xr-section-summary > span {\n  display: inline-block;\n  padding-left: 0.5em;\n}\n\n.xr-section-summary-in:disabled + label {\n  color: var(--xr-font-color2);\n}\n\n.xr-section-summary-in + label:before {\n  display: inline-block;\n  content: '►';\n  font-size: 11px;\n  width: 15px;\n  text-align: center;\n}\n\n.xr-section-summary-in:disabled + label:before {\n  color: var(--xr-disabled-color);\n}\n\n.xr-section-summary-in:checked + label:before {\n  content: '▼';\n}\n\n.xr-section-summary-in:checked + label > span {\n  display: none;\n}\n\n.xr-section-summary,\n.xr-section-inline-details {\n  padding-top: 4px;\n  padding-bottom: 4px;\n}\n\n.xr-section-inline-details {\n  grid-column: 2 / -1;\n}\n\n.xr-section-details {\n  display: none;\n  grid-column: 1 / -1;\n  margin-bottom: 5px;\n}\n\n.xr-section-summary-in:checked ~ .xr-section-details {\n  display: contents;\n}\n\n.xr-array-wrap {\n  grid-column: 1 / -1;\n  display: grid;\n  grid-template-columns: 20px auto;\n}\n\n.xr-array-wrap > label {\n  grid-column: 1;\n  vertical-align: top;\n}\n\n.xr-preview {\n  color: var(--xr-font-color3);\n}\n\n.xr-array-preview,\n.xr-array-data {\n  padding: 0 5px !important;\n  grid-column: 2;\n}\n\n.xr-array-data,\n.xr-array-in:checked ~ .xr-array-preview {\n  display: none;\n}\n\n.xr-array-in:checked ~ .xr-array-data,\n.xr-array-preview {\n  display: inline-block;\n}\n\n.xr-dim-list {\n  display: inline-block !important;\n  list-style: none;\n  padding: 0 !important;\n  margin: 0;\n}\n\n.xr-dim-list li {\n  display: inline-block;\n  padding: 0;\n  margin: 0;\n}\n\n.xr-dim-list:before {\n  content: '(';\n}\n\n.xr-dim-list:after {\n  content: ')';\n}\n\n.xr-dim-list li:not(:last-child):after {\n  content: ',';\n  padding-right: 5px;\n}\n\n.xr-has-index {\n  font-weight: bold;\n}\n\n.xr-var-list,\n.xr-var-item {\n  display: contents;\n}\n\n.xr-var-item > div,\n.xr-var-item label,\n.xr-var-item > .xr-var-name span {\n  background-color: var(--xr-background-color-row-even);\n  margin-bottom: 0;\n}\n\n.xr-var-item > .xr-var-name:hover span {\n  padding-right: 5px;\n}\n\n.xr-var-list > li:nth-child(odd) > div,\n.xr-var-list > li:nth-child(odd) > label,\n.xr-var-list > li:nth-child(odd) > .xr-var-name span {\n  background-color: var(--xr-background-color-row-odd);\n}\n\n.xr-var-name {\n  grid-column: 1;\n}\n\n.xr-var-dims {\n  grid-column: 2;\n}\n\n.xr-var-dtype {\n  grid-column: 3;\n  text-align: right;\n  color: var(--xr-font-color2);\n}\n\n.xr-var-preview {\n  grid-column: 4;\n}\n\n.xr-index-preview {\n  grid-column: 2 / 5;\n  color: var(--xr-font-color2);\n}\n\n.xr-var-name,\n.xr-var-dims,\n.xr-var-dtype,\n.xr-preview,\n.xr-attrs dt {\n  white-space: nowrap;\n  overflow: hidden;\n  text-overflow: ellipsis;\n  padding-right: 10px;\n}\n\n.xr-var-name:hover,\n.xr-var-dims:hover,\n.xr-var-dtype:hover,\n.xr-attrs dt:hover {\n  overflow: visible;\n  width: auto;\n  z-index: 1;\n}\n\n.xr-var-attrs,\n.xr-var-data,\n.xr-index-data {\n  display: none;\n  background-color: var(--xr-background-color) !important;\n  padding-bottom: 5px !important;\n}\n\n.xr-var-attrs-in:checked ~ .xr-var-attrs,\n.xr-var-data-in:checked ~ .xr-var-data,\n.xr-index-data-in:checked ~ .xr-index-data {\n  display: block;\n}\n\n.xr-var-data > table {\n  float: right;\n}\n\n.xr-var-name span,\n.xr-var-data,\n.xr-index-name div,\n.xr-index-data,\n.xr-attrs {\n  padding-left: 25px !important;\n}\n\n.xr-attrs,\n.xr-var-attrs,\n.xr-var-data,\n.xr-index-data {\n  grid-column: 1 / -1;\n}\n\ndl.xr-attrs {\n  padding: 0;\n  margin: 0;\n  display: grid;\n  grid-template-columns: 125px auto;\n}\n\n.xr-attrs dt,\n.xr-attrs dd {\n  padding: 0;\n  margin: 0;\n  float: left;\n  padding-right: 10px;\n  width: auto;\n}\n\n.xr-attrs dt {\n  font-weight: normal;\n  grid-column: 1;\n}\n\n.xr-attrs dt:hover span {\n  display: inline-block;\n  background: var(--xr-background-color);\n  padding-right: 10px;\n}\n\n.xr-attrs dd {\n  grid-column: 2;\n  white-space: pre-wrap;\n  word-break: break-all;\n}\n\n.xr-icon-database,\n.xr-icon-file-text2,\n.xr-no-icon {\n  display: inline-block;\n  vertical-align: middle;\n  width: 1em;\n  height: 1.5em !important;\n  stroke-width: 0;\n  stroke: currentColor;\n  fill: currentColor;\n}\n</style><pre class='xr-text-repr-fallback'>&lt;xarray.Dataset&gt;\nDimensions:               (station: 1, time: 5)\nCoordinates:\n  * station               (station) float64 1.0\n  * time                  (time) datetime64[ns] 2022-08-30T11:21:03 ... 2022-...\nData variables: (12/18)\n    ghi                   (time, station) float32 269.9 269.7 269.9 269.9 269.9\n    gti                   (time, station) float32 277.3 277.3 277.4 277.3 277.3\n    ta                    (time, station) float32 294.8 294.7 294.8 294.7 294.8\n    rh                    (time, station) float32 0.6263 0.6266 ... 0.6271 0.629\n    battery_voltage       (time, station) float32 6.445 6.446 6.45 6.448 6.458\n    ghi_min               (time, station) float32 269.9 268.5 269.9 269.9 269.9\n    ...                    ...\n    lon                   (time, station) float64 nan nan 11.89 11.89 11.89\n    maintenance_flag_ghi  (station) float32 9.0\n    maintenance_flag_gti  (station) float32 7.0\n    szen                  (time, station) float64 nan nan 42.51 42.51 42.51\n    sazi                  (time, station) float64 nan nan 182.9 182.9 182.9\n    esd                   (station) float64 1.01\nAttributes: (12/31)\n    title:                     TROPOS pyranometer network (PyrNet) observations\n    institution:               Leibniz Institute for Tropospheric Research (T...\n    department:                Remote Sensing of Atmospheric Processes\n    department_team:           Clouds, Aerosol and Radiation\n    address:                   Permoser Str. 15, 04318 Leipzig, Germany\n    source:                    TROPOS pyranometer network (PyrNet)\n    ...                        ...\n    geospatial_lon_max:        11.885256869999996\n    geospatial_lon_units:      degE\n    time_coverage_start:       2022-08-30T11:21:03\n    time_coverage_end:         2022-08-30T11:21:07\n    time_coverage_duration:    P0DT0H0M4S\n    time_coverage_resolution:  P0DT0H0M1S</pre><div class='xr-wrap' style='display:none'><div class='xr-header'><div class='xr-obj-type'>xarray.Dataset</div></div><ul class='xr-sections'><li class='xr-section-item'><input id='section-0c660d2b-1d89-4161-ad7b-5731f370e1eb' class='xr-section-summary-in' type='checkbox' disabled ><label for='section-0c660d2b-1d89-4161-ad7b-5731f370e1eb' class='xr-section-summary'  title='Expand/collapse section'>Dimensions:</label><div class='xr-section-inline-details'><ul class='xr-dim-list'><li><span class='xr-has-index'>station</span>: 1</li><li><span class='xr-has-index'>time</span>: 5</li></ul></div><div class='xr-section-details'></div></li><li class='xr-section-item'><input id='section-f39c8535-4fdf-4ae0-93be-23c663d28cee' class='xr-section-summary-in' type='checkbox'  checked><label for='section-f39c8535-4fdf-4ae0-93be-23c663d28cee' class='xr-section-summary' >Coordinates: <span>(2)</span></label><div class='xr-section-inline-details'></div><div class='xr-section-details'><ul class='xr-var-list'><li class='xr-var-item'><div class='xr-var-name'><span class='xr-has-index'>station</span></div><div class='xr-var-dims'>(station)</div><div class='xr-var-dtype'>float64</div><div class='xr-var-preview xr-preview'>1.0</div><input id='attrs-3b484373-b591-4d7e-a032-029136863dbd' class='xr-var-attrs-in' type='checkbox' disabled><label for='attrs-3b484373-b591-4d7e-a032-029136863dbd' title='Show/Hide attributes'><svg class='icon xr-icon-file-text2'><use xlink:href='#icon-file-text2'></use></svg></label><input id='data-aac5f808-3c13-4032-a636-3497c29dc0c7' class='xr-var-data-in' type='checkbox'><label for='data-aac5f808-3c13-4032-a636-3497c29dc0c7' title='Show/Hide data repr'><svg class='icon xr-icon-database'><use xlink:href='#icon-database'></use></svg></label><div class='xr-var-attrs'><dl class='xr-attrs'></dl></div><div class='xr-var-data'><pre>array([1.])</pre></div></li><li class='xr-var-item'><div class='xr-var-name'><span class='xr-has-index'>time</span></div><div class='xr-var-dims'>(time)</div><div class='xr-var-dtype'>datetime64[ns]</div><div class='xr-var-preview xr-preview'>2022-08-30T11:21:03 ... 2022-08-...</div><input id='attrs-9d42867f-2cc0-4f99-ba50-e47ee6123184' class='xr-var-attrs-in' type='checkbox' disabled><label for='attrs-9d42867f-2cc0-4f99-ba50-e47ee6123184' title='Show/Hide attributes'><svg class='icon xr-icon-file-text2'><use xlink:href='#icon-file-text2'></use></svg></label><input id='data-88bb2b9b-cf6f-4606-97e6-6f046420e4df' class='xr-var-data-in' type='checkbox'><label for='data-88bb2b9b-cf6f-4606-97e6-6f046420e4df' title='Show/Hide data repr'><svg class='icon xr-icon-database'><use xlink:href='#icon-database'></use></svg></label><div class='xr-var-attrs'><dl class='xr-attrs'></dl></div><div class='xr-var-data'><pre>array([&#x27;2022-08-30T11:21:03.000000000&#x27;, &#x27;2022-08-30T11:21:04.000000000&#x27;,\n       &#x27;2022-08-30T11:21:05.000000000&#x27;, &#x27;2022-08-30T11:21:06.000000000&#x27;,\n       &#x27;2022-08-30T11:21:07.000000000&#x27;], dtype=&#x27;datetime64[ns]&#x27;)</pre></div></li></ul></div></li><li class='xr-section-item'><input id='section-5585de15-00a8-4f60-8e08-1740c4e8f06d' class='xr-section-summary-in' type='checkbox'  ><label for='section-5585de15-00a8-4f60-8e08-1740c4e8f06d' class='xr-section-summary' >Data variables: <span>(18)</span></label><div class='xr-section-inline-details'></div><div class='xr-section-details'><ul class='xr-var-list'><li class='xr-var-item'><div class='xr-var-name'><span>ghi</span></div><div class='xr-var-dims'>(time, station)</div><div class='xr-var-dtype'>float32</div><div class='xr-var-preview xr-preview'>269.9 269.7 269.9 269.9 269.9</div><input id='attrs-8359278f-c3bb-41e5-9d17-1ee39fdc6d11' class='xr-var-attrs-in' type='checkbox' ><label for='attrs-8359278f-c3bb-41e5-9d17-1ee39fdc6d11' title='Show/Hide attributes'><svg class='icon xr-icon-file-text2'><use xlink:href='#icon-file-text2'></use></svg></label><input id='data-33bb25c4-d0f8-4525-b667-a61bccc419e2' class='xr-var-data-in' type='checkbox'><label for='data-33bb25c4-d0f8-4525-b667-a61bccc419e2' title='Show/Hide data repr'><svg class='icon xr-icon-database'><use xlink:href='#icon-database'></use></svg></label><div class='xr-var-attrs'><dl class='xr-attrs'><dt><span>units :</span></dt><dd>W m-2</dd><dt><span>long_name :</span></dt><dd>downwelling shortwave flux</dd><dt><span>standard_name :</span></dt><dd>downwelling_shortwave_flux_in_air</dd><dt><span>valid_range :</span></dt><dd>[   0 1023]</dd><dt><span>serial :</span></dt><dd>S12128.001</dd><dt><span>calibration_factor :</span></dt><dd>7.73</dd></dl></div><div class='xr-var-data'><pre>array([[269.86047],\n       [269.72137],\n       [269.86047],\n       [269.86047],\n       [269.86047]], dtype=float32)</pre></div></li><li class='xr-var-item'><div class='xr-var-name'><span>gti</span></div><div class='xr-var-dims'>(time, station)</div><div class='xr-var-dtype'>float32</div><div class='xr-var-preview xr-preview'>277.3 277.3 277.4 277.3 277.3</div><input id='attrs-7c30bd1e-5214-4f44-bed9-5606a4d3c754' class='xr-var-attrs-in' type='checkbox' ><label for='attrs-7c30bd1e-5214-4f44-bed9-5606a4d3c754' title='Show/Hide attributes'><svg class='icon xr-icon-file-text2'><use xlink:href='#icon-file-text2'></use></svg></label><input id='data-00d8af9d-0ab7-4914-9e65-6bee35807a52' class='xr-var-data-in' type='checkbox'><label for='data-00d8af9d-0ab7-4914-9e65-6bee35807a52' title='Show/Hide data repr'><svg class='icon xr-icon-database'><use xlink:href='#icon-database'></use></svg></label><div class='xr-var-attrs'><dl class='xr-attrs'><dt><span>units :</span></dt><dd>W m-2</dd><dt><span>long_name :</span></dt><dd>downwelling shortwave flux measured on secondary platform, might be tilted</dd><dt><span>standard_name :</span></dt><dd>downwelling_shortwave_flux_in_air</dd><dt><span>valid_range :</span></dt><dd>[   0 1023]</dd><dt><span>hangle :</span></dt><dd>0.0</dd><dt><span>vangle :</span></dt><dd>0.0</dd><dt><span>serial :</span></dt><dd>S12137.049</dd><dt><span>calibration_factor :</span></dt><dd>6.98</dd></dl></div><div class='xr-var-data'><pre>array([[277.28995],\n       [277.28995],\n       [277.444  ],\n       [277.28995],\n       [277.28995]], dtype=float32)</pre></div></li><li class='xr-var-item'><div class='xr-var-name'><span>ta</span></div><div class='xr-var-dims'>(time, station)</div><div class='xr-var-dtype'>float32</div><div class='xr-var-preview xr-preview'>294.8 294.7 294.8 294.7 294.8</div><input id='attrs-35188102-0b53-4455-b4ad-7394c25840bc' class='xr-var-attrs-in' type='checkbox' ><label for='attrs-35188102-0b53-4455-b4ad-7394c25840bc' title='Show/Hide attributes'><svg class='icon xr-icon-file-text2'><use xlink:href='#icon-file-text2'></use></svg></label><input id='data-6b744a83-5f7b-4cd5-bb8f-9e59230c6bf4' class='xr-var-data-in' type='checkbox'><label for='data-6b744a83-5f7b-4cd5-bb8f-9e59230c6bf4' title='Show/Hide data repr'><svg class='icon xr-icon-database'><use xlink:href='#icon-database'></use></svg></label><div class='xr-var-attrs'><dl class='xr-attrs'><dt><span>units :</span></dt><dd>K</dd><dt><span>long_name :</span></dt><dd>air temperature</dd><dt><span>standard_name :</span></dt><dd>air_temperature</dd><dt><span>valid_range :</span></dt><dd>[  0 775]</dd></dl></div><div class='xr-var-data'><pre>array([[294.7758 ],\n       [294.74997],\n       [294.7887 ],\n       [294.74997],\n       [294.82742]], dtype=float32)</pre></div></li><li class='xr-var-item'><div class='xr-var-name'><span>rh</span></div><div class='xr-var-dims'>(time, station)</div><div class='xr-var-dtype'>float32</div><div class='xr-var-preview xr-preview'>0.6263 0.6266 0.6271 0.6271 0.629</div><input id='attrs-1ca99bcb-5b18-497d-8d4a-fe0d7c571083' class='xr-var-attrs-in' type='checkbox' ><label for='attrs-1ca99bcb-5b18-497d-8d4a-fe0d7c571083' title='Show/Hide attributes'><svg class='icon xr-icon-file-text2'><use xlink:href='#icon-file-text2'></use></svg></label><input id='data-8f4e8ef7-1e80-4911-aabd-ac08e8fd5bf8' class='xr-var-data-in' type='checkbox'><label for='data-8f4e8ef7-1e80-4911-aabd-ac08e8fd5bf8' title='Show/Hide data repr'><svg class='icon xr-icon-database'><use xlink:href='#icon-database'></use></svg></label><div class='xr-var-attrs'><dl class='xr-attrs'><dt><span>units :</span></dt><dd>1</dd><dt><span>long_name :</span></dt><dd>air relative humidity</dd><dt><span>standard_name :</span></dt><dd>relative_humidity</dd><dt><span>valid_range :</span></dt><dd>[  0 775]</dd></dl></div><div class='xr-var-data'><pre>array([[0.62632257],\n       [0.6265806 ],\n       [0.6270968 ],\n       [0.6270968 ],\n       [0.62903225]], dtype=float32)</pre></div></li><li class='xr-var-item'><div class='xr-var-name'><span>battery_voltage</span></div><div class='xr-var-dims'>(time, station)</div><div class='xr-var-dtype'>float32</div><div class='xr-var-preview xr-preview'>6.445 6.446 6.45 6.448 6.458</div><input id='attrs-39af1404-856e-44e2-9d4c-c51d187147a6' class='xr-var-attrs-in' type='checkbox' ><label for='attrs-39af1404-856e-44e2-9d4c-c51d187147a6' title='Show/Hide attributes'><svg class='icon xr-icon-file-text2'><use xlink:href='#icon-file-text2'></use></svg></label><input id='data-3c156edc-50ac-42a8-ae1e-f71eabd7d1e4' class='xr-var-data-in' type='checkbox'><label for='data-3c156edc-50ac-42a8-ae1e-f71eabd7d1e4' title='Show/Hide data repr'><svg class='icon xr-icon-database'><use xlink:href='#icon-database'></use></svg></label><div class='xr-var-attrs'><dl class='xr-attrs'><dt><span>units :</span></dt><dd>V</dd><dt><span>standard_name :</span></dt><dd>battery_voltage</dd><dt><span>valid_range :</span></dt><dd>[  0 992]</dd></dl></div><div class='xr-var-data'><pre>array([[6.4451613],\n       [6.445807 ],\n       [6.4496775],\n       [6.4477415],\n       [6.4580646]], dtype=float32)</pre></div></li><li class='xr-var-item'><div class='xr-var-name'><span>ghi_min</span></div><div class='xr-var-dims'>(time, station)</div><div class='xr-var-dtype'>float32</div><div class='xr-var-preview xr-preview'>269.9 268.5 269.9 269.9 269.9</div><input id='attrs-c2cfff19-deb6-4a7c-83e2-894fddc6fd7b' class='xr-var-attrs-in' type='checkbox' ><label for='attrs-c2cfff19-deb6-4a7c-83e2-894fddc6fd7b' title='Show/Hide attributes'><svg class='icon xr-icon-file-text2'><use xlink:href='#icon-file-text2'></use></svg></label><input id='data-9640d4e9-3c25-4c16-8682-bc9f46276676' class='xr-var-data-in' type='checkbox'><label for='data-9640d4e9-3c25-4c16-8682-bc9f46276676' title='Show/Hide data repr'><svg class='icon xr-icon-database'><use xlink:href='#icon-database'></use></svg></label><div class='xr-var-attrs'><dl class='xr-attrs'><dt><span>units :</span></dt><dd>W m-2</dd><dt><span>long_name :</span></dt><dd>downwelling shortwave flux</dd><dt><span>standard_name :</span></dt><dd>min_downwelling_shortwave_flux_in_air</dd><dt><span>valid_range :</span></dt><dd>[   0 1023]</dd><dt><span>serial :</span></dt><dd>S12128.001</dd><dt><span>calibration_factor :</span></dt><dd>7.73</dd></dl></div><div class='xr-var-data'><pre>array([[269.86047],\n       [268.46945],\n       [269.86047],\n       [269.86047],\n       [269.86047]], dtype=float32)</pre></div></li><li class='xr-var-item'><div class='xr-var-name'><span>gti_min</span></div><div class='xr-var-dims'>(time, station)</div><div class='xr-var-dtype'>float32</div><div class='xr-var-preview xr-preview'>277.3 275.7 275.7 277.3 277.3</div><input id='attrs-fc4bd214-a35e-42f1-9052-1eec7e6256f5' class='xr-var-attrs-in' type='checkbox' ><label for='attrs-fc4bd214-a35e-42f1-9052-1eec7e6256f5' title='Show/Hide attributes'><svg class='icon xr-icon-file-text2'><use xlink:href='#icon-file-text2'></use></svg></label><input id='data-ce230ead-2f61-4a39-a874-2bc147b423cd' class='xr-var-data-in' type='checkbox'><label for='data-ce230ead-2f61-4a39-a874-2bc147b423cd' title='Show/Hide data repr'><svg class='icon xr-icon-database'><use xlink:href='#icon-database'></use></svg></label><div class='xr-var-attrs'><dl class='xr-attrs'><dt><span>units :</span></dt><dd>W m-2</dd><dt><span>long_name :</span></dt><dd>downwelling shortwave flux measured on secondary platform, might be tilted</dd><dt><span>standard_name :</span></dt><dd>min_downwelling_shortwave_flux_in_air</dd><dt><span>valid_range :</span></dt><dd>[   0 1023]</dd><dt><span>hangle :</span></dt><dd>0.0</dd><dt><span>vangle :</span></dt><dd>0.0</dd><dt><span>serial :</span></dt><dd>S12137.049</dd><dt><span>calibration_factor :</span></dt><dd>6.98</dd></dl></div><div class='xr-var-data'><pre>array([[277.28995],\n       [275.74945],\n       [275.74945],\n       [277.28995],\n       [277.28995]], dtype=float32)</pre></div></li><li class='xr-var-item'><div class='xr-var-name'><span>ghi_max</span></div><div class='xr-var-dims'>(time, station)</div><div class='xr-var-dtype'>float32</div><div class='xr-var-preview xr-preview'>269.9 269.9 269.9 269.9 269.9</div><input id='attrs-b767e14c-98a5-43eb-9cb9-fe2ebc31d592' class='xr-var-attrs-in' type='checkbox' ><label for='attrs-b767e14c-98a5-43eb-9cb9-fe2ebc31d592' title='Show/Hide attributes'><svg class='icon xr-icon-file-text2'><use xlink:href='#icon-file-text2'></use></svg></label><input id='data-806802da-5dc3-4e5d-a772-2a433844be9a' class='xr-var-data-in' type='checkbox'><label for='data-806802da-5dc3-4e5d-a772-2a433844be9a' title='Show/Hide data repr'><svg class='icon xr-icon-database'><use xlink:href='#icon-database'></use></svg></label><div class='xr-var-attrs'><dl class='xr-attrs'><dt><span>units :</span></dt><dd>W m-2</dd><dt><span>long_name :</span></dt><dd>downwelling shortwave flux</dd><dt><span>standard_name :</span></dt><dd>max_downwelling_shortwave_flux_in_air</dd><dt><span>valid_range :</span></dt><dd>[   0 1023]</dd><dt><span>serial :</span></dt><dd>S12128.001</dd><dt><span>calibration_factor :</span></dt><dd>7.73</dd></dl></div><div class='xr-var-data'><pre>array([[269.86047],\n       [269.86047],\n       [269.86047],\n       [269.86047],\n       [269.86047]], dtype=float32)</pre></div></li><li class='xr-var-item'><div class='xr-var-name'><span>gti_max</span></div><div class='xr-var-dims'>(time, station)</div><div class='xr-var-dtype'>float32</div><div class='xr-var-preview xr-preview'>277.3 278.8 278.8 277.3 277.3</div><input id='attrs-277d6330-f844-4080-94b3-539ee1f62af8' class='xr-var-attrs-in' type='checkbox' ><label for='attrs-277d6330-f844-4080-94b3-539ee1f62af8' title='Show/Hide attributes'><svg class='icon xr-icon-file-text2'><use xlink:href='#icon-file-text2'></use></svg></label><input id='data-ebd74330-5a05-491a-a234-1271c3e1539b' class='xr-var-data-in' type='checkbox'><label for='data-ebd74330-5a05-491a-a234-1271c3e1539b' title='Show/Hide data repr'><svg class='icon xr-icon-database'><use xlink:href='#icon-database'></use></svg></label><div class='xr-var-attrs'><dl class='xr-attrs'><dt><span>units :</span></dt><dd>W m-2</dd><dt><span>long_name :</span></dt><dd>downwelling shortwave flux measured on secondary platform, might be tilted</dd><dt><span>standard_name :</span></dt><dd>max_downwelling_shortwave_flux_in_air</dd><dt><span>valid_range :</span></dt><dd>[   0 1023]</dd><dt><span>hangle :</span></dt><dd>0.0</dd><dt><span>vangle :</span></dt><dd>0.0</dd><dt><span>serial :</span></dt><dd>S12137.049</dd><dt><span>calibration_factor :</span></dt><dd>6.98</dd></dl></div><div class='xr-var-data'><pre>array([[277.28995],\n       [278.83044],\n       [278.83044],\n       [277.28995],\n       [277.28995]], dtype=float32)</pre></div></li><li class='xr-var-item'><div class='xr-var-name'><span>ghi_std</span></div><div class='xr-var-dims'>(time, station)</div><div class='xr-var-dtype'>float64</div><div class='xr-var-preview xr-preview'>0.0 0.4399 0.0 0.0 0.0</div><input id='attrs-c7955972-d1ba-4934-8cf5-53213049705e' class='xr-var-attrs-in' type='checkbox' ><label for='attrs-c7955972-d1ba-4934-8cf5-53213049705e' title='Show/Hide attributes'><svg class='icon xr-icon-file-text2'><use xlink:href='#icon-file-text2'></use></svg></label><input id='data-0ca2d153-a317-4aed-b1a1-b7c8a2fdae50' class='xr-var-data-in' type='checkbox'><label for='data-0ca2d153-a317-4aed-b1a1-b7c8a2fdae50' title='Show/Hide data repr'><svg class='icon xr-icon-database'><use xlink:href='#icon-database'></use></svg></label><div class='xr-var-attrs'><dl class='xr-attrs'><dt><span>units :</span></dt><dd>W m-2</dd><dt><span>long_name :</span></dt><dd>downwelling shortwave flux</dd><dt><span>standard_name :</span></dt><dd>std_downwelling_shortwave_flux_in_air</dd><dt><span>valid_range :</span></dt><dd>[   0 1023]</dd><dt><span>serial :</span></dt><dd>S12128.001</dd><dt><span>calibration_factor :</span></dt><dd>7.73</dd></dl></div><div class='xr-var-data'><pre>array([[0.        ],\n       [0.43987969],\n       [0.        ],\n       [0.        ],\n       [0.        ]])</pre></div></li><li class='xr-var-item'><div class='xr-var-name'><span>gti_std</span></div><div class='xr-var-dims'>(time, station)</div><div class='xr-var-dtype'>float64</div><div class='xr-var-preview xr-preview'>0.0 0.7262 0.8745 0.0 0.0</div><input id='attrs-f8644005-3b59-4933-98ff-936671c7dcb8' class='xr-var-attrs-in' type='checkbox' ><label for='attrs-f8644005-3b59-4933-98ff-936671c7dcb8' title='Show/Hide attributes'><svg class='icon xr-icon-file-text2'><use xlink:href='#icon-file-text2'></use></svg></label><input id='data-1f10bb44-7bb9-4837-b8f2-54b5deb261a4' class='xr-var-data-in' type='checkbox'><label for='data-1f10bb44-7bb9-4837-b8f2-54b5deb261a4' title='Show/Hide data repr'><svg class='icon xr-icon-database'><use xlink:href='#icon-database'></use></svg></label><div class='xr-var-attrs'><dl class='xr-attrs'><dt><span>units :</span></dt><dd>W m-2</dd><dt><span>long_name :</span></dt><dd>downwelling shortwave flux measured on secondary platform, might be tilted</dd><dt><span>standard_name :</span></dt><dd>std_downwelling_shortwave_flux_in_air</dd><dt><span>valid_range :</span></dt><dd>[   0 1023]</dd><dt><span>hangle :</span></dt><dd>0.0</dd><dt><span>vangle :</span></dt><dd>0.0</dd><dt><span>serial :</span></dt><dd>S12137.049</dd><dt><span>calibration_factor :</span></dt><dd>6.98</dd></dl></div><div class='xr-var-data'><pre>array([[0.        ],\n       [0.72619717],\n       [0.87445719],\n       [0.        ],\n       [0.        ]])</pre></div></li><li class='xr-var-item'><div class='xr-var-name'><span>lat</span></div><div class='xr-var-dims'>(time, station)</div><div class='xr-var-dtype'>float64</div><div class='xr-var-preview xr-preview'>nan nan 51.39 51.39 51.39</div><input id='attrs-632b7007-df56-4612-97bc-4a78e4ae53d5' class='xr-var-attrs-in' type='checkbox' ><label for='attrs-632b7007-df56-4612-97bc-4a78e4ae53d5' title='Show/Hide attributes'><svg class='icon xr-icon-file-text2'><use xlink:href='#icon-file-text2'></use></svg></label><input id='data-a90ddbf3-f61f-44c8-8071-5e09fa2106d8' class='xr-var-data-in' type='checkbox'><label for='data-a90ddbf3-f61f-44c8-8071-5e09fa2106d8' title='Show/Hide data repr'><svg class='icon xr-icon-database'><use xlink:href='#icon-database'></use></svg></label><div class='xr-var-attrs'><dl class='xr-attrs'><dt><span>standard_name :</span></dt><dd>latitude</dd><dt><span>units :</span></dt><dd>degree_north</dd><dt><span>valid_range :</span></dt><dd>[        0 180000000]</dd></dl></div><div class='xr-var-data'><pre>array([[        nan],\n       [        nan],\n       [51.390212  ],\n       [51.39021103],\n       [51.39021   ]])</pre></div></li><li class='xr-var-item'><div class='xr-var-name'><span>lon</span></div><div class='xr-var-dims'>(time, station)</div><div class='xr-var-dtype'>float64</div><div class='xr-var-preview xr-preview'>nan nan 11.89 11.89 11.89</div><input id='attrs-b0780d92-927c-4e5e-8e5c-c8e2972292d0' class='xr-var-attrs-in' type='checkbox' ><label for='attrs-b0780d92-927c-4e5e-8e5c-c8e2972292d0' title='Show/Hide attributes'><svg class='icon xr-icon-file-text2'><use xlink:href='#icon-file-text2'></use></svg></label><input id='data-02ab8851-a024-48f7-81c3-28dbc1fa1f31' class='xr-var-data-in' type='checkbox'><label for='data-02ab8851-a024-48f7-81c3-28dbc1fa1f31' title='Show/Hide data repr'><svg class='icon xr-icon-database'><use xlink:href='#icon-database'></use></svg></label><div class='xr-var-attrs'><dl class='xr-attrs'><dt><span>standard_name :</span></dt><dd>longitude</dd><dt><span>units :</span></dt><dd>degree_east</dd><dt><span>valid_range :</span></dt><dd>[        0 360000000]</dd></dl></div><div class='xr-var-data'><pre>array([[        nan],\n       [        nan],\n       [11.88525687],\n       [11.88525458],\n       [11.885252  ]])</pre></div></li><li class='xr-var-item'><div class='xr-var-name'><span>maintenance_flag_ghi</span></div><div class='xr-var-dims'>(station)</div><div class='xr-var-dtype'>float32</div><div class='xr-var-preview xr-preview'>9.0</div><input id='attrs-3300c6c2-1dca-49cf-8af4-b8bb395aaf26' class='xr-var-attrs-in' type='checkbox' ><label for='attrs-3300c6c2-1dca-49cf-8af4-b8bb395aaf26' title='Show/Hide attributes'><svg class='icon xr-icon-file-text2'><use xlink:href='#icon-file-text2'></use></svg></label><input id='data-284c4874-682a-40ce-b1b2-09023cb26848' class='xr-var-data-in' type='checkbox'><label for='data-284c4874-682a-40ce-b1b2-09023cb26848' title='Show/Hide data repr'><svg class='icon xr-icon-database'><use xlink:href='#icon-database'></use></svg></label><div class='xr-var-attrs'><dl class='xr-attrs'><dt><span>standard_name :</span></dt><dd>quality_flag</dd><dt><span>long_name :</span></dt><dd>Maintenance quality control flags for main pyranometer</dd><dt><span>note :</span></dt><dd>Soiling describes subjectively the coverage of the pyranometer dome with dirt. The level flag is problematic if the bubble of the spirit level touches the reference ring, and bad if it is outside.</dd><dt><span>valid_range :</span></dt><dd>[ 0 11]</dd><dt><span>flag_masks :</span></dt><dd>[ 3  3  3 12 12]</dd><dt><span>flag_values :</span></dt><dd>[1 2 3 4 8]</dd><dt><span>flag_meanings :</span></dt><dd>soiling_light soiling_moderate soiling_heavy level_problematic level_bad</dd><dt><span>note_general :</span></dt><dd>this is a test; 222</dd><dt><span>note_clean :</span></dt><dd>testing notes; None</dd><dt><span>note_level :</span></dt><dd>None; test</dd></dl></div><div class='xr-var-data'><pre>array([9.], dtype=float32)</pre></div></li><li class='xr-var-item'><div class='xr-var-name'><span>maintenance_flag_gti</span></div><div class='xr-var-dims'>(station)</div><div class='xr-var-dtype'>float32</div><div class='xr-var-preview xr-preview'>7.0</div><input id='attrs-d60ed1ea-d62c-4437-9928-3d6514b68038' class='xr-var-attrs-in' type='checkbox' ><label for='attrs-d60ed1ea-d62c-4437-9928-3d6514b68038' title='Show/Hide attributes'><svg class='icon xr-icon-file-text2'><use xlink:href='#icon-file-text2'></use></svg></label><input id='data-c810c127-798c-4db1-b1f5-2f8159599deb' class='xr-var-data-in' type='checkbox'><label for='data-c810c127-798c-4db1-b1f5-2f8159599deb' title='Show/Hide data repr'><svg class='icon xr-icon-database'><use xlink:href='#icon-database'></use></svg></label><div class='xr-var-attrs'><dl class='xr-attrs'><dt><span>standard_name :</span></dt><dd>quality_flag</dd><dt><span>long_name :</span></dt><dd>Maintenance quality control flags for secondary pyranometer</dd><dt><span>note :</span></dt><dd>Soiling describes subjectively the coverage of the pyranometer dome with dirt. The level flag is problematic if the bubble of the spirit level touches the reference ring, and bad if it is outside.</dd><dt><span>valid_range :</span></dt><dd>[ 0 11]</dd><dt><span>flag_masks :</span></dt><dd>[ 3  3  3 12 12]</dd><dt><span>flag_values :</span></dt><dd>[1 2 3 4 8]</dd><dt><span>flag_meanings :</span></dt><dd>soiling_light soiling_moderate soiling_heavy level_problematic level_bad</dd><dt><span>note_general :</span></dt><dd>this is a test; 222</dd><dt><span>note_clean :</span></dt><dd>None; None</dd><dt><span>note_level :</span></dt><dd>None; None</dd></dl></div><div class='xr-var-data'><pre>array([7.], dtype=float32)</pre></div></li><li class='xr-var-item'><div class='xr-var-name'><span>szen</span></div><div class='xr-var-dims'>(time, station)</div><div class='xr-var-dtype'>float64</div><div class='xr-var-preview xr-preview'>nan nan 42.51 42.51 42.51</div><input id='attrs-4c90dfb9-9f60-4f4a-b76a-071d9d4d572b' class='xr-var-attrs-in' type='checkbox' ><label for='attrs-4c90dfb9-9f60-4f4a-b76a-071d9d4d572b' title='Show/Hide attributes'><svg class='icon xr-icon-file-text2'><use xlink:href='#icon-file-text2'></use></svg></label><input id='data-0fba3423-ef0d-45cc-b178-177557c5c017' class='xr-var-data-in' type='checkbox'><label for='data-0fba3423-ef0d-45cc-b178-177557c5c017' title='Show/Hide data repr'><svg class='icon xr-icon-database'><use xlink:href='#icon-database'></use></svg></label><div class='xr-var-attrs'><dl class='xr-attrs'><dt><span>standard_name :</span></dt><dd>solar_zenith_angle</dd><dt><span>units :</span></dt><dd>degree</dd><dt><span>valid_range :</span></dt><dd>[0, 36000]</dd></dl></div><div class='xr-var-data'><pre>array([[        nan],\n       [        nan],\n       [42.5118597 ],\n       [42.51199538],\n       [42.51213126]])</pre></div></li><li class='xr-var-item'><div class='xr-var-name'><span>sazi</span></div><div class='xr-var-dims'>(time, station)</div><div class='xr-var-dtype'>float64</div><div class='xr-var-preview xr-preview'>nan nan 182.9 182.9 182.9</div><input id='attrs-1a2aabcb-4a64-4e5c-80b0-cb4985d62401' class='xr-var-attrs-in' type='checkbox' ><label for='attrs-1a2aabcb-4a64-4e5c-80b0-cb4985d62401' title='Show/Hide attributes'><svg class='icon xr-icon-file-text2'><use xlink:href='#icon-file-text2'></use></svg></label><input id='data-b477a4ee-7000-4e52-98cd-3c08243e0981' class='xr-var-data-in' type='checkbox'><label for='data-b477a4ee-7000-4e52-98cd-3c08243e0981' title='Show/Hide data repr'><svg class='icon xr-icon-database'><use xlink:href='#icon-database'></use></svg></label><div class='xr-var-attrs'><dl class='xr-attrs'><dt><span>standard_name :</span></dt><dd>solar_azimuth_angle</dd><dt><span>units :</span></dt><dd>degree</dd><dt><span>valid_range :</span></dt><dd>[0, 36000]</dd></dl></div><div class='xr-var-data'><pre>array([[         nan],\n       [         nan],\n       [182.91893682],\n       [182.92502312],\n       [182.93110895]])</pre></div></li><li class='xr-var-item'><div class='xr-var-name'><span>esd</span></div><div class='xr-var-dims'>(station)</div><div class='xr-var-dtype'>float64</div><div class='xr-var-preview xr-preview'>1.01</div><input id='attrs-395e86bb-1cac-4de8-b2f5-fcf92592b1ea' class='xr-var-attrs-in' type='checkbox' ><label for='attrs-395e86bb-1cac-4de8-b2f5-fcf92592b1ea' title='Show/Hide attributes'><svg class='icon xr-icon-file-text2'><use xlink:href='#icon-file-text2'></use></svg></label><input id='data-0e4ab35c-945e-445c-9e66-0ee33789c796' class='xr-var-data-in' type='checkbox'><label for='data-0e4ab35c-945e-445c-9e66-0ee33789c796' title='Show/Hide data repr'><svg class='icon xr-icon-database'><use xlink:href='#icon-database'></use></svg></label><div class='xr-var-attrs'><dl class='xr-attrs'><dt><span>standard_name :</span></dt><dd>earth_sun_distance</dd><dt><span>units :</span></dt><dd>AU</dd><dt><span>valid_range :</span></dt><dd>[0, 40000]</dd></dl></div><div class='xr-var-data'><pre>array([1.00959973])</pre></div></li></ul></div></li><li class='xr-section-item'><input id='section-afd7bb08-7bc5-4bcb-8bad-98ef026d731a' class='xr-section-summary-in' type='checkbox'  ><label for='section-afd7bb08-7bc5-4bcb-8bad-98ef026d731a' class='xr-section-summary' >Indexes: <span>(2)</span></label><div class='xr-section-inline-details'></div><div class='xr-section-details'><ul class='xr-var-list'><li class='xr-var-item'><div class='xr-index-name'><div>station</div></div><div class='xr-index-preview'>PandasIndex</div><div></div><input id='index-ce3210dc-91ce-43af-b711-457ec2b221ad' class='xr-index-data-in' type='checkbox'/><label for='index-ce3210dc-91ce-43af-b711-457ec2b221ad' title='Show/Hide index repr'><svg class='icon xr-icon-database'><use xlink:href='#icon-database'></use></svg></label><div class='xr-index-data'><pre>PandasIndex(Float64Index([1.0], dtype=&#x27;float64&#x27;, name=&#x27;station&#x27;))</pre></div></li><li class='xr-var-item'><div class='xr-index-name'><div>time</div></div><div class='xr-index-preview'>PandasIndex</div><div></div><input id='index-713660c0-a115-4f15-98b2-c48e8b2b9fad' class='xr-index-data-in' type='checkbox'/><label for='index-713660c0-a115-4f15-98b2-c48e8b2b9fad' title='Show/Hide index repr'><svg class='icon xr-icon-database'><use xlink:href='#icon-database'></use></svg></label><div class='xr-index-data'><pre>PandasIndex(DatetimeIndex([&#x27;2022-08-30 11:21:03&#x27;, &#x27;2022-08-30 11:21:04&#x27;,\n               &#x27;2022-08-30 11:21:05&#x27;, &#x27;2022-08-30 11:21:06&#x27;,\n               &#x27;2022-08-30 11:21:07&#x27;],\n              dtype=&#x27;datetime64[ns]&#x27;, name=&#x27;time&#x27;, freq=&#x27;S&#x27;))</pre></div></li></ul></div></li><li class='xr-section-item'><input id='section-74472b4d-9e64-4dd7-8fec-5257c0b86da7' class='xr-section-summary-in' type='checkbox'  ><label for='section-74472b4d-9e64-4dd7-8fec-5257c0b86da7' class='xr-section-summary' >Attributes: <span>(31)</span></label><div class='xr-section-inline-details'></div><div class='xr-section-details'><dl class='xr-attrs'><dt><span>title :</span></dt><dd>TROPOS pyranometer network (PyrNet) observations</dd><dt><span>institution :</span></dt><dd>Leibniz Institute for Tropospheric Research (TROPOS)</dd><dt><span>department :</span></dt><dd>Remote Sensing of Atmospheric Processes</dd><dt><span>department_team :</span></dt><dd>Clouds, Aerosol and Radiation</dd><dt><span>address :</span></dt><dd>Permoser Str. 15, 04318 Leipzig, Germany</dd><dt><span>source :</span></dt><dd>TROPOS pyranometer network (PyrNet)</dd><dt><span>contact_person :</span></dt><dd>Andreas Macke and the clouds, aerosol and radiation team of the remote sensing department, mailto:andreas.macke@tropos.de</dd><dt><span>contributor_name :</span></dt><dd></dd><dt><span>contributor_role :</span></dt><dd></dd><dt><span>authors_software :</span></dt><dd>Hartwig Deneke, Jonas Witthuhn, mailto:deneke@tropos.de</dd><dt><span>creator_name :</span></dt><dd></dd><dt><span>project :</span></dt><dd></dd><dt><span>references :</span></dt><dd>https://doi.org/10.5194/amt-9-1153-2016</dd><dt><span>standard_name_vocabulary :</span></dt><dd>CF Standard Name Table v81</dd><dt><span>conventions :</span></dt><dd>CF-1.10, ACDD-1.3</dd><dt><span>license :</span></dt><dd>CC-BY-SA 3.0</dd><dt><span>TESTNOTE :</span></dt><dd>This is a test note.</dd><dt><span>processing_level :</span></dt><dd>l1b</dd><dt><span>product_version :</span></dt><dd>0.1.10+15.g5f0229e.dirty</dd><dt><span>history :</span></dt><dd>2024-01-31T07:48:49: Generated level l1a  by pyrnet version 0.1.10+15.g5f0229e.dirty; 2024-01-31T07:48:50: Generated level l1b  by pyrnet version 0.1.10+15.g5f0229e.dirty; </dd><dt><span>date_created :</span></dt><dd>2024-01-31T07:48:50</dd><dt><span>geospatial_lat_min :</span></dt><dd>51.390209999999996</dd><dt><span>geospatial_lat_max :</span></dt><dd>51.39021199999999</dd><dt><span>geospatial_lat_units :</span></dt><dd>degN</dd><dt><span>geospatial_lon_min :</span></dt><dd>11.88525199999998</dd><dt><span>geospatial_lon_max :</span></dt><dd>11.885256869999996</dd><dt><span>geospatial_lon_units :</span></dt><dd>degE</dd><dt><span>time_coverage_start :</span></dt><dd>2022-08-30T11:21:03</dd><dt><span>time_coverage_end :</span></dt><dd>2022-08-30T11:21:07</dd><dt><span>time_coverage_duration :</span></dt><dd>P0DT0H0M4S</dd><dt><span>time_coverage_resolution :</span></dt><dd>P0DT0H0M1S</dd></dl></div></li></ul></div></div>"
     },
     "execution_count": 35,
     "metadata": {},
     "output_type": "execute_result"
    }
   ],
   "source": [
    "#|dropcode\n",
    "#|dropout\n",
    "# add global coverage attributes\n",
    "ds_l1b = update_coverage_meta(ds_l1b, timevar=\"time\")\n",
    "\n",
    "ds_l1b.attrs[\"processing_level\"] = 'l1b'\n",
    "now = pd.to_datetime(np.datetime64(\"now\"))\n",
    "ds_l1b.attrs[\"history\"] = ds_l1b.history + f\"{now.isoformat()}: Generated level l1b  by pyrnet version {pyrnet_version}; \"\n",
    "\n",
    "ds_l1b"
   ],
   "metadata": {
    "collapsed": false,
    "ExecuteTime": {
     "end_time": "2024-01-31T07:48:51.197833200Z",
     "start_time": "2024-01-31T07:48:50.870197200Z"
    }
   }
  },
  {
   "cell_type": "code",
   "execution_count": 36,
   "outputs": [],
   "source": [
    "#|hide\n",
    "# dsp = ds_l1b.sel(time=\"2019-07-15\")\n",
    "# plt.figure()\n",
    "# plt.plot(dsp.time, dsp.ghi)\n",
    "# plt.grid()"
   ],
   "metadata": {
    "collapsed": false,
    "ExecuteTime": {
     "end_time": "2024-01-31T07:48:51.197833200Z",
     "start_time": "2024-01-31T07:48:50.911961900Z"
    }
   }
  },
  {
   "cell_type": "code",
   "execution_count": 37,
   "outputs": [],
   "source": [
    "#|hide\n",
    "# ds_l1b.to_netcdf(\"../../testnb/to_l1b_output.nc\",\n",
    "#                  encoding={'time':{'dtype':'float64'}})"
   ],
   "metadata": {
    "collapsed": false,
    "ExecuteTime": {
     "end_time": "2024-01-31T07:48:51.198831200Z",
     "start_time": "2024-01-31T07:48:50.927123200Z"
    }
   }
  },
  {
   "cell_type": "code",
   "execution_count": 38,
   "outputs": [],
   "source": [
    "#|hide\n",
    "# dsp = xr.load_dataset(\"../../testnb/to_l1b_output.nc\").sel(time=\"2019-07-15\")\n",
    "# plt.figure()\n",
    "# plt.plot(dsp.time, dsp.ghi)\n",
    "# plt.grid()"
   ],
   "metadata": {
    "collapsed": false,
    "ExecuteTime": {
     "end_time": "2024-01-31T07:48:51.198831200Z",
     "start_time": "2024-01-31T07:48:50.942093700Z"
    }
   }
  },
  {
   "cell_type": "code",
   "execution_count": 39,
   "outputs": [],
   "source": [
    "#|export\n",
    "#|dropcode\n",
    "def to_l1b(\n",
    "        fname: str,\n",
    "        *,\n",
    "        config: dict | None = None,\n",
    "        global_attrs: dict | None = None,\n",
    "        check_adc_sync: bool = True\n",
    ") -> xr.Dataset|None:\n",
    "\n",
    "    config = get_config(config)\n",
    "    gattrs, vattrs, vencode = get_cfmeta(config)\n",
    "\n",
    "    if global_attrs is not None:\n",
    "        gattrs.update(global_attrs)\n",
    "\n",
    "    # 1. Load l1a data\n",
    "    ds_l1a = xr.open_dataset(fname)\n",
    "    # check correct file\n",
    "    if ds_l1a.processing_level != \"l1a\":\n",
    "        logger.warning(f\"{fname} is not a l1a file. Skip.\")\n",
    "        return None\n",
    "\n",
    "    # 2. Sync GPS to ADC time\n",
    "    adctime = pyrlogger.sync_adc_time(\n",
    "        adctime = ds_l1a.adctime.values,\n",
    "        gpstime = ds_l1a.gpstime.values,\n",
    "        iadc = ds_l1a.iadc.squeeze().values.astype(int),\n",
    "        check_results = check_adc_sync\n",
    "    )\n",
    "    \n",
    "    if adctime is None:\n",
    "        logger.warning(f\"Could not fit GPS to ADC time for file {fname}. Skip.\")\n",
    "        return None\n",
    "\n",
    "    # 3. Create new dataset (l1b)\n",
    "    ds_l1b = ds_l1a.drop_dims('gpstime')\n",
    "    ds_l1b = ds_l1b.drop_vars(['maintenance_flag_ghi','maintenance_flag_gti']) # keep only time dependent variables\n",
    "    ds_l1b = ds_l1b.assign({'time': ('adctime', adctime)})\n",
    "    ds_l1b = ds_l1b.swap_dims({\"adctime\":\"time\"})\n",
    "    ds_l1b = ds_l1b.drop_vars(\"adctime\")\n",
    "\n",
    "    ds_l1b[\"time\"].encoding.update({\n",
    "        \"dtype\": 'float64',\n",
    "        \"units\": f\"seconds since {np.datetime_as_string(ds_l1b.time.data[0], unit='D')}T00:00Z\",\n",
    "    })\n",
    "    logger.info(f\"Dataset time coverage before strip: {ds_l1b.time.values[0]} - {ds_l1b.time.values[-1]}\")\n",
    "\n",
    "    # 4. Drop first and last <stripminutes> minutes of data to avoid bad data due to maintenance\n",
    "    stripminutes = np.timedelta64(int(config['stripminutes']), 'm')\n",
    "    if (ds_l1b.time.values[0] + 3*stripminutes) > ds_l1b.time.values[-1]:\n",
    "        logger.warning(f\"{fname} has not enough data. Skip.\")\n",
    "        return None\n",
    "\n",
    "    ds_l1b = ds_l1b.isel(time=ds_l1b.time>ds_l1b.time.values[0] + stripminutes)\n",
    "    ds_l1b = ds_l1b.isel(time=ds_l1b.time<ds_l1b.time.values[-1] - stripminutes)\n",
    "    if ds_l1b.time.size < 10:\n",
    "        logger.warning(f\"{fname} has not enough data, after strip. Skip.\")\n",
    "        return None\n",
    "\n",
    "\n",
    "    logger.info(f\"Dataset time coverage after strip: {ds_l1b.time.values[0]} - {ds_l1b.time.values[-1]}\")\n",
    "\n",
    "    # 5. rad flux calibration\n",
    "    box = ds_l1b.station.values[0]\n",
    "    boxnumber, serial, cfac = pyrnet.meta_lookup(\n",
    "        ds_l1b.time.values[0],\n",
    "        box=box,\n",
    "        cfile=config['file_calibration'],\n",
    "        mapfile=config['file_mapping'],\n",
    "    )\n",
    "    logger.info(f\"Meta Lookup:\")\n",
    "    logger.info(f\">> Box={box}\")\n",
    "    logger.info(f\">> serial(s)={serial}\")\n",
    "    logger.info(f\">> calibration factor(s)={cfac}\")\n",
    "\n",
    "\n",
    "    # calibrate radflux variables\n",
    "    for i, radflx in enumerate(config['radflux_varname']):\n",
    "        if cfac[i] is None:\n",
    "            # drop if calibration/instrument don't exist (probably secondary pyranometer).\n",
    "            ds_l1b = ds_l1b.drop_vars([var for var in ds_l1b if radflx in var])\n",
    "            continue\n",
    "        ds_l1b[radflx].values = ds_l1b[radflx].values*1e6/(cfac[i]) # V -> W m-2\n",
    "        ds_l1b[radflx].attrs.update({\n",
    "            \"serial\": serial[i],\n",
    "            \"calibration_factor\": cfac[i],\n",
    "            \"calibration_function\": \"flux (W m-2) = flux (V) * calibration_factor (W m-2 V-1)\",\n",
    "        })\n",
    "\n",
    "\n",
    "    # 6. resample to desired resolution\n",
    "    # save station coordinate\n",
    "    station_dim = {\"station\": ds_l1b[\"station\"].values}\n",
    "    \n",
    "    # resample on time dimension with specified methods\n",
    "    methods = ['mean'] + config[\"l1b_resample_stats\"]\n",
    "    res = resample(\n",
    "        ds_l1b.squeeze().drop_vars(\"station\"), # drop station coordinate and variable\n",
    "        freq=config['l1bfreq'],\n",
    "        methods=methods,\n",
    "        kwargs=dict(skipna=True)\n",
    "    )\n",
    "    \n",
    "    # add standard names for new variables\n",
    "    # apply for variables if both in config['radflux_varname'] and ds_l1b.keys()\n",
    "    radflux_vars = list(set(config['radflux_varname'])&set(ds_l1b.keys()))\n",
    "    ds_l1b = res[0]\n",
    "    for i, method in enumerate(methods[1:]):\n",
    "        for var in radflux_vars:\n",
    "            ds_l1b[f\"{var}_{method}\"] = res[i+1][var]\n",
    "            ds_l1b[f\"{var}_{method}\"].attrs.update({\n",
    "                \"standard_name\": f\"{method}_\"+ds_l1b[f\"{var}_{method}\"].attrs[\"standard_name\"]\n",
    "            })\n",
    "    \n",
    "    # add station dimension back again\n",
    "    ds_l1b = ds_l1b.expand_dims(station_dim, axis=-1)\n",
    "\n",
    "    # 7. Interpolate GPS coordinates to l1b time\n",
    "    ds_gps = ds_l1a.drop_dims(\"adctime\")\n",
    "    ds_gps = ds_gps.drop_vars(['iadc'])\n",
    "\n",
    "    # Decide whether geo coordinates should be averaged or not\n",
    "    if config['average_latlon']:\n",
    "        ds_gps = ds_gps.mean('gpstime', skipna=True, keep_attrs=True)\n",
    "    else:\n",
    "        ds_gps = ds_gps.interp(gpstime=ds_l1b.time)\n",
    "        ds_gps = ds_gps.drop_vars(\"gpstime\")\n",
    "\n",
    "    ds_l1b = xr.merge((ds_l1b,ds_gps))\n",
    "\n",
    "    # 8. Calc and add sun position\n",
    "    szen, sazi = sp.sun_angles(\n",
    "        time=ds_l1b.time.values[:,None], # line up with coordinates to keep dependence on time only\n",
    "        lat=ds_l1b.lat.values,\n",
    "        lon=ds_l1b.lon.values\n",
    "    )\n",
    "    szen  = szen.squeeze()\n",
    "    sazi = sazi.squeeze()\n",
    "\n",
    "    esd = np.mean(sp.earth_sun_distance(ds_l1b.time.values))\n",
    "\n",
    "    ds_l1b = ds_l1b.assign(\n",
    "        {\n",
    "            \"szen\": ((\"time\", \"station\"), szen[:,None]),\n",
    "            \"sazi\": ((\"time\", \"station\"), sazi[:,None]),\n",
    "            \"esd\": (\"station\", [esd])\n",
    "        }\n",
    "    )\n",
    "    # update attributes and encoding\n",
    "    for key in ['szen', 'sazi','esd']:\n",
    "        ds_l1b[key].attrs.update(vattrs[key])\n",
    "\n",
    "    # add global coverage attributes\n",
    "    ds_l1b = update_coverage_meta(ds_l1b, timevar=\"time\")\n",
    "    ds_l1b.attrs[\"processing_level\"] = 'l1b'\n",
    "    now = pd.to_datetime(np.datetime64(\"now\"))\n",
    "    ds_l1b.attrs[\"history\"] = ds_l1b.history + f\"{now.isoformat()}: Generated level l1b  by pyrnet version {pyrnet_version}; \"\n",
    "\n",
    "    # update encoding\n",
    "    ds_l1b = add_encoding(ds_l1b, vencode=vencode)\n",
    "\n",
    "    return ds_l1b"
   ],
   "metadata": {
    "collapsed": false,
    "ExecuteTime": {
     "end_time": "2024-01-31T07:48:51.198831200Z",
     "start_time": "2024-01-31T07:48:50.986313400Z"
    }
   }
  },
  {
   "cell_type": "code",
   "execution_count": 40,
   "outputs": [],
   "source": [
    "#|dropout\n",
    "fname = \"../../example_data/to_l1a_output.nc\"\n",
    "config = {\n",
    "    \"l1bfreq\":\"1s\",\n",
    "    \"stripminutes\":0,\n",
    "    \"average_latlon\":True,\n",
    "    \"l1b_resample_stats\": [\"min\", \"max\", \"std\"]\n",
    "}\n",
    "\n",
    "ds_l1b = to_l1b(fname=fname, config=config, check_adc_sync=False)\n",
    "ds_l1b.to_netcdf(\"../../example_data/to_l1b_output.nc\")"
   ],
   "metadata": {
    "collapsed": false,
    "ExecuteTime": {
     "end_time": "2024-01-31T07:48:51.455515400Z",
     "start_time": "2024-01-31T07:48:51.001783200Z"
    }
   }
  },
  {
   "cell_type": "code",
   "execution_count": 41,
   "outputs": [
    {
     "data": {
      "text/plain": "<xarray.Dataset>\nDimensions:               (station: 1, time: 9)\nCoordinates:\n  * station               (station) float64 1.0\n  * time                  (time) datetime64[ns] 2022-08-30T11:21:01 ... 2022-...\nData variables: (12/18)\n    ghi                   (time, station) float32 269.9 269.9 ... 269.9 269.9\n    gti                   (time, station) float32 277.6 277.6 ... 277.3 278.1\n    ta                    (time, station) float32 294.8 294.7 ... 294.7 294.8\n    rh                    (time, station) float32 0.6253 0.6248 ... 0.628 0.629\n    battery_voltage       (time, station) float32 6.443 6.445 ... 6.449 6.465\n    gti_min               (time, station) float32 277.3 277.3 ... 277.3 277.3\n    ...                    ...\n    lon                   (station) float64 11.89\n    maintenance_flag_ghi  (station) float32 9.0\n    maintenance_flag_gti  (station) float32 7.0\n    szen                  (time, station) float64 42.51 42.51 ... 42.51 42.51\n    sazi                  (time, station) float64 182.9 182.9 ... 182.9 182.9\n    esd                   (station) float64 1.01\nAttributes: (12/31)\n    title:                     TROPOS pyranometer network (PyrNet) observations\n    institution:               Leibniz Institute for Tropospheric Research (T...\n    department:                Remote Sensing of Atmospheric Processes\n    department_team:           Clouds, Aerosol and Radiation\n    address:                   Permoser Str. 15, 04318 Leipzig, Germany\n    source:                    TROPOS pyranometer network (PyrNet)\n    ...                        ...\n    geospatial_lon_max:        11.885252199999991\n    geospatial_lon_units:      degE\n    time_coverage_start:       2022-08-30T11:21:01\n    time_coverage_end:         2022-08-30T11:21:09\n    time_coverage_duration:    P0DT0H0M8S\n    time_coverage_resolution:  P0DT0H0M1S",
      "text/html": "<div><svg style=\"position: absolute; width: 0; height: 0; overflow: hidden\">\n<defs>\n<symbol id=\"icon-database\" viewBox=\"0 0 32 32\">\n<path d=\"M16 0c-8.837 0-16 2.239-16 5v4c0 2.761 7.163 5 16 5s16-2.239 16-5v-4c0-2.761-7.163-5-16-5z\"></path>\n<path d=\"M16 17c-8.837 0-16-2.239-16-5v6c0 2.761 7.163 5 16 5s16-2.239 16-5v-6c0 2.761-7.163 5-16 5z\"></path>\n<path d=\"M16 26c-8.837 0-16-2.239-16-5v6c0 2.761 7.163 5 16 5s16-2.239 16-5v-6c0 2.761-7.163 5-16 5z\"></path>\n</symbol>\n<symbol id=\"icon-file-text2\" viewBox=\"0 0 32 32\">\n<path d=\"M28.681 7.159c-0.694-0.947-1.662-2.053-2.724-3.116s-2.169-2.030-3.116-2.724c-1.612-1.182-2.393-1.319-2.841-1.319h-15.5c-1.378 0-2.5 1.121-2.5 2.5v27c0 1.378 1.122 2.5 2.5 2.5h23c1.378 0 2.5-1.122 2.5-2.5v-19.5c0-0.448-0.137-1.23-1.319-2.841zM24.543 5.457c0.959 0.959 1.712 1.825 2.268 2.543h-4.811v-4.811c0.718 0.556 1.584 1.309 2.543 2.268zM28 29.5c0 0.271-0.229 0.5-0.5 0.5h-23c-0.271 0-0.5-0.229-0.5-0.5v-27c0-0.271 0.229-0.5 0.5-0.5 0 0 15.499-0 15.5 0v7c0 0.552 0.448 1 1 1h7v19.5z\"></path>\n<path d=\"M23 26h-14c-0.552 0-1-0.448-1-1s0.448-1 1-1h14c0.552 0 1 0.448 1 1s-0.448 1-1 1z\"></path>\n<path d=\"M23 22h-14c-0.552 0-1-0.448-1-1s0.448-1 1-1h14c0.552 0 1 0.448 1 1s-0.448 1-1 1z\"></path>\n<path d=\"M23 18h-14c-0.552 0-1-0.448-1-1s0.448-1 1-1h14c0.552 0 1 0.448 1 1s-0.448 1-1 1z\"></path>\n</symbol>\n</defs>\n</svg>\n<style>/* CSS stylesheet for displaying xarray objects in jupyterlab.\n *\n */\n\n:root {\n  --xr-font-color0: var(--jp-content-font-color0, rgba(0, 0, 0, 1));\n  --xr-font-color2: var(--jp-content-font-color2, rgba(0, 0, 0, 0.54));\n  --xr-font-color3: var(--jp-content-font-color3, rgba(0, 0, 0, 0.38));\n  --xr-border-color: var(--jp-border-color2, #e0e0e0);\n  --xr-disabled-color: var(--jp-layout-color3, #bdbdbd);\n  --xr-background-color: var(--jp-layout-color0, white);\n  --xr-background-color-row-even: var(--jp-layout-color1, white);\n  --xr-background-color-row-odd: var(--jp-layout-color2, #eeeeee);\n}\n\nhtml[theme=dark],\nbody[data-theme=dark],\nbody.vscode-dark {\n  --xr-font-color0: rgba(255, 255, 255, 1);\n  --xr-font-color2: rgba(255, 255, 255, 0.54);\n  --xr-font-color3: rgba(255, 255, 255, 0.38);\n  --xr-border-color: #1F1F1F;\n  --xr-disabled-color: #515151;\n  --xr-background-color: #111111;\n  --xr-background-color-row-even: #111111;\n  --xr-background-color-row-odd: #313131;\n}\n\n.xr-wrap {\n  display: block !important;\n  min-width: 300px;\n  max-width: 700px;\n}\n\n.xr-text-repr-fallback {\n  /* fallback to plain text repr when CSS is not injected (untrusted notebook) */\n  display: none;\n}\n\n.xr-header {\n  padding-top: 6px;\n  padding-bottom: 6px;\n  margin-bottom: 4px;\n  border-bottom: solid 1px var(--xr-border-color);\n}\n\n.xr-header > div,\n.xr-header > ul {\n  display: inline;\n  margin-top: 0;\n  margin-bottom: 0;\n}\n\n.xr-obj-type,\n.xr-array-name {\n  margin-left: 2px;\n  margin-right: 10px;\n}\n\n.xr-obj-type {\n  color: var(--xr-font-color2);\n}\n\n.xr-sections {\n  padding-left: 0 !important;\n  display: grid;\n  grid-template-columns: 150px auto auto 1fr 20px 20px;\n}\n\n.xr-section-item {\n  display: contents;\n}\n\n.xr-section-item input {\n  display: none;\n}\n\n.xr-section-item input + label {\n  color: var(--xr-disabled-color);\n}\n\n.xr-section-item input:enabled + label {\n  cursor: pointer;\n  color: var(--xr-font-color2);\n}\n\n.xr-section-item input:enabled + label:hover {\n  color: var(--xr-font-color0);\n}\n\n.xr-section-summary {\n  grid-column: 1;\n  color: var(--xr-font-color2);\n  font-weight: 500;\n}\n\n.xr-section-summary > span {\n  display: inline-block;\n  padding-left: 0.5em;\n}\n\n.xr-section-summary-in:disabled + label {\n  color: var(--xr-font-color2);\n}\n\n.xr-section-summary-in + label:before {\n  display: inline-block;\n  content: '►';\n  font-size: 11px;\n  width: 15px;\n  text-align: center;\n}\n\n.xr-section-summary-in:disabled + label:before {\n  color: var(--xr-disabled-color);\n}\n\n.xr-section-summary-in:checked + label:before {\n  content: '▼';\n}\n\n.xr-section-summary-in:checked + label > span {\n  display: none;\n}\n\n.xr-section-summary,\n.xr-section-inline-details {\n  padding-top: 4px;\n  padding-bottom: 4px;\n}\n\n.xr-section-inline-details {\n  grid-column: 2 / -1;\n}\n\n.xr-section-details {\n  display: none;\n  grid-column: 1 / -1;\n  margin-bottom: 5px;\n}\n\n.xr-section-summary-in:checked ~ .xr-section-details {\n  display: contents;\n}\n\n.xr-array-wrap {\n  grid-column: 1 / -1;\n  display: grid;\n  grid-template-columns: 20px auto;\n}\n\n.xr-array-wrap > label {\n  grid-column: 1;\n  vertical-align: top;\n}\n\n.xr-preview {\n  color: var(--xr-font-color3);\n}\n\n.xr-array-preview,\n.xr-array-data {\n  padding: 0 5px !important;\n  grid-column: 2;\n}\n\n.xr-array-data,\n.xr-array-in:checked ~ .xr-array-preview {\n  display: none;\n}\n\n.xr-array-in:checked ~ .xr-array-data,\n.xr-array-preview {\n  display: inline-block;\n}\n\n.xr-dim-list {\n  display: inline-block !important;\n  list-style: none;\n  padding: 0 !important;\n  margin: 0;\n}\n\n.xr-dim-list li {\n  display: inline-block;\n  padding: 0;\n  margin: 0;\n}\n\n.xr-dim-list:before {\n  content: '(';\n}\n\n.xr-dim-list:after {\n  content: ')';\n}\n\n.xr-dim-list li:not(:last-child):after {\n  content: ',';\n  padding-right: 5px;\n}\n\n.xr-has-index {\n  font-weight: bold;\n}\n\n.xr-var-list,\n.xr-var-item {\n  display: contents;\n}\n\n.xr-var-item > div,\n.xr-var-item label,\n.xr-var-item > .xr-var-name span {\n  background-color: var(--xr-background-color-row-even);\n  margin-bottom: 0;\n}\n\n.xr-var-item > .xr-var-name:hover span {\n  padding-right: 5px;\n}\n\n.xr-var-list > li:nth-child(odd) > div,\n.xr-var-list > li:nth-child(odd) > label,\n.xr-var-list > li:nth-child(odd) > .xr-var-name span {\n  background-color: var(--xr-background-color-row-odd);\n}\n\n.xr-var-name {\n  grid-column: 1;\n}\n\n.xr-var-dims {\n  grid-column: 2;\n}\n\n.xr-var-dtype {\n  grid-column: 3;\n  text-align: right;\n  color: var(--xr-font-color2);\n}\n\n.xr-var-preview {\n  grid-column: 4;\n}\n\n.xr-index-preview {\n  grid-column: 2 / 5;\n  color: var(--xr-font-color2);\n}\n\n.xr-var-name,\n.xr-var-dims,\n.xr-var-dtype,\n.xr-preview,\n.xr-attrs dt {\n  white-space: nowrap;\n  overflow: hidden;\n  text-overflow: ellipsis;\n  padding-right: 10px;\n}\n\n.xr-var-name:hover,\n.xr-var-dims:hover,\n.xr-var-dtype:hover,\n.xr-attrs dt:hover {\n  overflow: visible;\n  width: auto;\n  z-index: 1;\n}\n\n.xr-var-attrs,\n.xr-var-data,\n.xr-index-data {\n  display: none;\n  background-color: var(--xr-background-color) !important;\n  padding-bottom: 5px !important;\n}\n\n.xr-var-attrs-in:checked ~ .xr-var-attrs,\n.xr-var-data-in:checked ~ .xr-var-data,\n.xr-index-data-in:checked ~ .xr-index-data {\n  display: block;\n}\n\n.xr-var-data > table {\n  float: right;\n}\n\n.xr-var-name span,\n.xr-var-data,\n.xr-index-name div,\n.xr-index-data,\n.xr-attrs {\n  padding-left: 25px !important;\n}\n\n.xr-attrs,\n.xr-var-attrs,\n.xr-var-data,\n.xr-index-data {\n  grid-column: 1 / -1;\n}\n\ndl.xr-attrs {\n  padding: 0;\n  margin: 0;\n  display: grid;\n  grid-template-columns: 125px auto;\n}\n\n.xr-attrs dt,\n.xr-attrs dd {\n  padding: 0;\n  margin: 0;\n  float: left;\n  padding-right: 10px;\n  width: auto;\n}\n\n.xr-attrs dt {\n  font-weight: normal;\n  grid-column: 1;\n}\n\n.xr-attrs dt:hover span {\n  display: inline-block;\n  background: var(--xr-background-color);\n  padding-right: 10px;\n}\n\n.xr-attrs dd {\n  grid-column: 2;\n  white-space: pre-wrap;\n  word-break: break-all;\n}\n\n.xr-icon-database,\n.xr-icon-file-text2,\n.xr-no-icon {\n  display: inline-block;\n  vertical-align: middle;\n  width: 1em;\n  height: 1.5em !important;\n  stroke-width: 0;\n  stroke: currentColor;\n  fill: currentColor;\n}\n</style><pre class='xr-text-repr-fallback'>&lt;xarray.Dataset&gt;\nDimensions:               (station: 1, time: 9)\nCoordinates:\n  * station               (station) float64 1.0\n  * time                  (time) datetime64[ns] 2022-08-30T11:21:01 ... 2022-...\nData variables: (12/18)\n    ghi                   (time, station) float32 269.9 269.9 ... 269.9 269.9\n    gti                   (time, station) float32 277.6 277.6 ... 277.3 278.1\n    ta                    (time, station) float32 294.8 294.7 ... 294.7 294.8\n    rh                    (time, station) float32 0.6253 0.6248 ... 0.628 0.629\n    battery_voltage       (time, station) float32 6.443 6.445 ... 6.449 6.465\n    gti_min               (time, station) float32 277.3 277.3 ... 277.3 277.3\n    ...                    ...\n    lon                   (station) float64 11.89\n    maintenance_flag_ghi  (station) float32 9.0\n    maintenance_flag_gti  (station) float32 7.0\n    szen                  (time, station) float64 42.51 42.51 ... 42.51 42.51\n    sazi                  (time, station) float64 182.9 182.9 ... 182.9 182.9\n    esd                   (station) float64 1.01\nAttributes: (12/31)\n    title:                     TROPOS pyranometer network (PyrNet) observations\n    institution:               Leibniz Institute for Tropospheric Research (T...\n    department:                Remote Sensing of Atmospheric Processes\n    department_team:           Clouds, Aerosol and Radiation\n    address:                   Permoser Str. 15, 04318 Leipzig, Germany\n    source:                    TROPOS pyranometer network (PyrNet)\n    ...                        ...\n    geospatial_lon_max:        11.885252199999991\n    geospatial_lon_units:      degE\n    time_coverage_start:       2022-08-30T11:21:01\n    time_coverage_end:         2022-08-30T11:21:09\n    time_coverage_duration:    P0DT0H0M8S\n    time_coverage_resolution:  P0DT0H0M1S</pre><div class='xr-wrap' style='display:none'><div class='xr-header'><div class='xr-obj-type'>xarray.Dataset</div></div><ul class='xr-sections'><li class='xr-section-item'><input id='section-77e6d299-8018-402a-810b-a767bd6d19da' class='xr-section-summary-in' type='checkbox' disabled ><label for='section-77e6d299-8018-402a-810b-a767bd6d19da' class='xr-section-summary'  title='Expand/collapse section'>Dimensions:</label><div class='xr-section-inline-details'><ul class='xr-dim-list'><li><span class='xr-has-index'>station</span>: 1</li><li><span class='xr-has-index'>time</span>: 9</li></ul></div><div class='xr-section-details'></div></li><li class='xr-section-item'><input id='section-11206197-3d79-4a94-bd09-b564b7ec3381' class='xr-section-summary-in' type='checkbox'  checked><label for='section-11206197-3d79-4a94-bd09-b564b7ec3381' class='xr-section-summary' >Coordinates: <span>(2)</span></label><div class='xr-section-inline-details'></div><div class='xr-section-details'><ul class='xr-var-list'><li class='xr-var-item'><div class='xr-var-name'><span class='xr-has-index'>station</span></div><div class='xr-var-dims'>(station)</div><div class='xr-var-dtype'>float64</div><div class='xr-var-preview xr-preview'>1.0</div><input id='attrs-6b9e057f-3244-4283-b183-c4b9f3005f4a' class='xr-var-attrs-in' type='checkbox' disabled><label for='attrs-6b9e057f-3244-4283-b183-c4b9f3005f4a' title='Show/Hide attributes'><svg class='icon xr-icon-file-text2'><use xlink:href='#icon-file-text2'></use></svg></label><input id='data-13067431-f319-49f1-9b81-d5874135a704' class='xr-var-data-in' type='checkbox'><label for='data-13067431-f319-49f1-9b81-d5874135a704' title='Show/Hide data repr'><svg class='icon xr-icon-database'><use xlink:href='#icon-database'></use></svg></label><div class='xr-var-attrs'><dl class='xr-attrs'></dl></div><div class='xr-var-data'><pre>array([1.])</pre></div></li><li class='xr-var-item'><div class='xr-var-name'><span class='xr-has-index'>time</span></div><div class='xr-var-dims'>(time)</div><div class='xr-var-dtype'>datetime64[ns]</div><div class='xr-var-preview xr-preview'>2022-08-30T11:21:01 ... 2022-08-...</div><input id='attrs-70a5e1f6-510c-4b28-b813-14f01d16c430' class='xr-var-attrs-in' type='checkbox' disabled><label for='attrs-70a5e1f6-510c-4b28-b813-14f01d16c430' title='Show/Hide attributes'><svg class='icon xr-icon-file-text2'><use xlink:href='#icon-file-text2'></use></svg></label><input id='data-44f1ae08-5934-46d9-9d91-e2345eec47e6' class='xr-var-data-in' type='checkbox'><label for='data-44f1ae08-5934-46d9-9d91-e2345eec47e6' title='Show/Hide data repr'><svg class='icon xr-icon-database'><use xlink:href='#icon-database'></use></svg></label><div class='xr-var-attrs'><dl class='xr-attrs'></dl></div><div class='xr-var-data'><pre>array([&#x27;2022-08-30T11:21:01.000000000&#x27;, &#x27;2022-08-30T11:21:02.000000000&#x27;,\n       &#x27;2022-08-30T11:21:03.000000000&#x27;, &#x27;2022-08-30T11:21:04.000000000&#x27;,\n       &#x27;2022-08-30T11:21:05.000000000&#x27;, &#x27;2022-08-30T11:21:06.000000000&#x27;,\n       &#x27;2022-08-30T11:21:07.000000000&#x27;, &#x27;2022-08-30T11:21:08.000000000&#x27;,\n       &#x27;2022-08-30T11:21:09.000000000&#x27;], dtype=&#x27;datetime64[ns]&#x27;)</pre></div></li></ul></div></li><li class='xr-section-item'><input id='section-27f84c27-7fdf-4f92-a871-ddd373703c8f' class='xr-section-summary-in' type='checkbox'  ><label for='section-27f84c27-7fdf-4f92-a871-ddd373703c8f' class='xr-section-summary' >Data variables: <span>(18)</span></label><div class='xr-section-inline-details'></div><div class='xr-section-details'><ul class='xr-var-list'><li class='xr-var-item'><div class='xr-var-name'><span>ghi</span></div><div class='xr-var-dims'>(time, station)</div><div class='xr-var-dtype'>float32</div><div class='xr-var-preview xr-preview'>269.9 269.9 269.9 ... 269.9 269.9</div><input id='attrs-96a36cf1-ca5d-4ac7-b694-035ff3cc787b' class='xr-var-attrs-in' type='checkbox' ><label for='attrs-96a36cf1-ca5d-4ac7-b694-035ff3cc787b' title='Show/Hide attributes'><svg class='icon xr-icon-file-text2'><use xlink:href='#icon-file-text2'></use></svg></label><input id='data-08243365-812a-43e8-9b42-0b818e590487' class='xr-var-data-in' type='checkbox'><label for='data-08243365-812a-43e8-9b42-0b818e590487' title='Show/Hide data repr'><svg class='icon xr-icon-database'><use xlink:href='#icon-database'></use></svg></label><div class='xr-var-attrs'><dl class='xr-attrs'><dt><span>units :</span></dt><dd>V</dd><dt><span>long_name :</span></dt><dd>downwelling shortwave flux</dd><dt><span>standard_name :</span></dt><dd>downwelling_shortwave_flux_in_air</dd><dt><span>valid_range :</span></dt><dd>[   0 1023]</dd><dt><span>serial :</span></dt><dd>S12128.001</dd><dt><span>calibration_factor :</span></dt><dd>7.73</dd><dt><span>calibration_function :</span></dt><dd>flux (W m-2) = flux (V) * calibration_factor (W m-2 V-1)</dd></dl></div><div class='xr-var-data'><pre>array([[269.86047],\n       [269.86047],\n       [269.86047],\n       [269.72137],\n       [269.86047],\n       [269.86047],\n       [269.72137],\n       [269.86047],\n       [269.86047]], dtype=float32)</pre></div></li><li class='xr-var-item'><div class='xr-var-name'><span>gti</span></div><div class='xr-var-dims'>(time, station)</div><div class='xr-var-dtype'>float32</div><div class='xr-var-preview xr-preview'>277.6 277.6 277.3 ... 277.3 278.1</div><input id='attrs-d393d5f2-d400-43c4-b259-44a3a2e050b3' class='xr-var-attrs-in' type='checkbox' ><label for='attrs-d393d5f2-d400-43c4-b259-44a3a2e050b3' title='Show/Hide attributes'><svg class='icon xr-icon-file-text2'><use xlink:href='#icon-file-text2'></use></svg></label><input id='data-f29dc83f-d36e-4849-b557-0927f54e047f' class='xr-var-data-in' type='checkbox'><label for='data-f29dc83f-d36e-4849-b557-0927f54e047f' title='Show/Hide data repr'><svg class='icon xr-icon-database'><use xlink:href='#icon-database'></use></svg></label><div class='xr-var-attrs'><dl class='xr-attrs'><dt><span>units :</span></dt><dd>V</dd><dt><span>long_name :</span></dt><dd>downwelling shortwave flux measured on secondary platform, might be tilted</dd><dt><span>standard_name :</span></dt><dd>downwelling_shortwave_flux_in_air</dd><dt><span>valid_range :</span></dt><dd>[   0 1023]</dd><dt><span>hangle :</span></dt><dd>0.0</dd><dt><span>vangle :</span></dt><dd>0.0</dd><dt><span>serial :</span></dt><dd>S12137.049</dd><dt><span>calibration_factor :</span></dt><dd>6.98</dd><dt><span>calibration_function :</span></dt><dd>flux (W m-2) = flux (V) * calibration_factor (W m-2 V-1)</dd></dl></div><div class='xr-var-data'><pre>array([[277.59805],\n       [277.59805],\n       [277.28995],\n       [277.28995],\n       [277.444  ],\n       [277.28995],\n       [276.98184],\n       [277.28995],\n       [278.06018]], dtype=float32)</pre></div></li><li class='xr-var-item'><div class='xr-var-name'><span>ta</span></div><div class='xr-var-dims'>(time, station)</div><div class='xr-var-dtype'>float32</div><div class='xr-var-preview xr-preview'>294.8 294.7 294.8 ... 294.7 294.8</div><input id='attrs-bcb39a42-c422-4458-b4a1-0454ae3e2d9c' class='xr-var-attrs-in' type='checkbox' ><label for='attrs-bcb39a42-c422-4458-b4a1-0454ae3e2d9c' title='Show/Hide attributes'><svg class='icon xr-icon-file-text2'><use xlink:href='#icon-file-text2'></use></svg></label><input id='data-72689b34-3b54-48b8-963d-23f09cc6c592' class='xr-var-data-in' type='checkbox'><label for='data-72689b34-3b54-48b8-963d-23f09cc6c592' title='Show/Hide data repr'><svg class='icon xr-icon-database'><use xlink:href='#icon-database'></use></svg></label><div class='xr-var-attrs'><dl class='xr-attrs'><dt><span>units :</span></dt><dd>K</dd><dt><span>long_name :</span></dt><dd>air temperature</dd><dt><span>standard_name :</span></dt><dd>air_temperature</dd><dt><span>valid_range :</span></dt><dd>[  0 775]</dd></dl></div><div class='xr-var-data'><pre>array([[294.8016 ],\n       [294.7371 ],\n       [294.77008],\n       [294.74997],\n       [294.7887 ],\n       [294.74997],\n       [294.8145 ],\n       [294.72705],\n       [294.76288]], dtype=float32)</pre></div></li><li class='xr-var-item'><div class='xr-var-name'><span>rh</span></div><div class='xr-var-dims'>(time, station)</div><div class='xr-var-dtype'>float32</div><div class='xr-var-preview xr-preview'>0.6253 0.6248 ... 0.628 0.629</div><input id='attrs-56356d63-6ff2-4652-8a34-37c0ffb27775' class='xr-var-attrs-in' type='checkbox' ><label for='attrs-56356d63-6ff2-4652-8a34-37c0ffb27775' title='Show/Hide attributes'><svg class='icon xr-icon-file-text2'><use xlink:href='#icon-file-text2'></use></svg></label><input id='data-57cd6597-483a-4ae4-86a9-2a8423e9583f' class='xr-var-data-in' type='checkbox'><label for='data-57cd6597-483a-4ae4-86a9-2a8423e9583f' title='Show/Hide data repr'><svg class='icon xr-icon-database'><use xlink:href='#icon-database'></use></svg></label><div class='xr-var-attrs'><dl class='xr-attrs'><dt><span>units :</span></dt><dd>1</dd><dt><span>long_name :</span></dt><dd>air relative humidity</dd><dt><span>standard_name :</span></dt><dd>relative_humidity</dd><dt><span>valid_range :</span></dt><dd>[  0 775]</dd></dl></div><div class='xr-var-data'><pre>array([[0.6252903 ],\n       [0.62477416],\n       [0.6259498 ],\n       [0.6265806 ],\n       [0.6270968 ],\n       [0.6270968 ],\n       [0.6286451 ],\n       [0.627957  ],\n       [0.62903225]], dtype=float32)</pre></div></li><li class='xr-var-item'><div class='xr-var-name'><span>battery_voltage</span></div><div class='xr-var-dims'>(time, station)</div><div class='xr-var-dtype'>float32</div><div class='xr-var-preview xr-preview'>6.443 6.445 6.444 ... 6.449 6.465</div><input id='attrs-03c88d0a-c2d2-4ffb-a8f5-8a42e8e782ae' class='xr-var-attrs-in' type='checkbox' ><label for='attrs-03c88d0a-c2d2-4ffb-a8f5-8a42e8e782ae' title='Show/Hide attributes'><svg class='icon xr-icon-file-text2'><use xlink:href='#icon-file-text2'></use></svg></label><input id='data-2c062758-5546-47d4-86bf-2c92ca89de10' class='xr-var-data-in' type='checkbox'><label for='data-2c062758-5546-47d4-86bf-2c92ca89de10' title='Show/Hide data repr'><svg class='icon xr-icon-database'><use xlink:href='#icon-database'></use></svg></label><div class='xr-var-attrs'><dl class='xr-attrs'><dt><span>units :</span></dt><dd>V</dd><dt><span>standard_name :</span></dt><dd>battery_voltage</dd><dt><span>valid_range :</span></dt><dd>[  0 992]</dd></dl></div><div class='xr-var-data'><pre>array([[6.44258  ],\n       [6.4451613],\n       [6.4437275],\n       [6.445807 ],\n       [6.4496775],\n       [6.4477415],\n       [6.4464517],\n       [6.4494624],\n       [6.464516 ]], dtype=float32)</pre></div></li><li class='xr-var-item'><div class='xr-var-name'><span>gti_min</span></div><div class='xr-var-dims'>(time, station)</div><div class='xr-var-dtype'>float32</div><div class='xr-var-preview xr-preview'>277.3 277.3 277.3 ... 277.3 277.3</div><input id='attrs-36eff53e-e4c5-473d-b88b-816e9fe7d0c8' class='xr-var-attrs-in' type='checkbox' ><label for='attrs-36eff53e-e4c5-473d-b88b-816e9fe7d0c8' title='Show/Hide attributes'><svg class='icon xr-icon-file-text2'><use xlink:href='#icon-file-text2'></use></svg></label><input id='data-cd0348aa-e586-459e-83e0-8b01e14e5b97' class='xr-var-data-in' type='checkbox'><label for='data-cd0348aa-e586-459e-83e0-8b01e14e5b97' title='Show/Hide data repr'><svg class='icon xr-icon-database'><use xlink:href='#icon-database'></use></svg></label><div class='xr-var-attrs'><dl class='xr-attrs'><dt><span>units :</span></dt><dd>V</dd><dt><span>long_name :</span></dt><dd>downwelling shortwave flux measured on secondary platform, might be tilted</dd><dt><span>standard_name :</span></dt><dd>min_downwelling_shortwave_flux_in_air</dd><dt><span>valid_range :</span></dt><dd>[   0 1023]</dd><dt><span>hangle :</span></dt><dd>0.0</dd><dt><span>vangle :</span></dt><dd>0.0</dd><dt><span>serial :</span></dt><dd>S12137.049</dd><dt><span>calibration_factor :</span></dt><dd>6.98</dd><dt><span>calibration_function :</span></dt><dd>flux (W m-2) = flux (V) * calibration_factor (W m-2 V-1)</dd></dl></div><div class='xr-var-data'><pre>array([[277.28995],\n       [277.28995],\n       [277.28995],\n       [275.74945],\n       [275.74945],\n       [277.28995],\n       [275.74945],\n       [277.28995],\n       [277.28995]], dtype=float32)</pre></div></li><li class='xr-var-item'><div class='xr-var-name'><span>ghi_min</span></div><div class='xr-var-dims'>(time, station)</div><div class='xr-var-dtype'>float32</div><div class='xr-var-preview xr-preview'>269.9 269.9 269.9 ... 269.9 269.9</div><input id='attrs-5b0c018f-c73a-4a8d-8c6a-3f4d09cce6cd' class='xr-var-attrs-in' type='checkbox' ><label for='attrs-5b0c018f-c73a-4a8d-8c6a-3f4d09cce6cd' title='Show/Hide attributes'><svg class='icon xr-icon-file-text2'><use xlink:href='#icon-file-text2'></use></svg></label><input id='data-414cbd83-c852-453d-8c88-8614a27702d8' class='xr-var-data-in' type='checkbox'><label for='data-414cbd83-c852-453d-8c88-8614a27702d8' title='Show/Hide data repr'><svg class='icon xr-icon-database'><use xlink:href='#icon-database'></use></svg></label><div class='xr-var-attrs'><dl class='xr-attrs'><dt><span>units :</span></dt><dd>V</dd><dt><span>long_name :</span></dt><dd>downwelling shortwave flux</dd><dt><span>standard_name :</span></dt><dd>min_downwelling_shortwave_flux_in_air</dd><dt><span>valid_range :</span></dt><dd>[   0 1023]</dd><dt><span>serial :</span></dt><dd>S12128.001</dd><dt><span>calibration_factor :</span></dt><dd>7.73</dd><dt><span>calibration_function :</span></dt><dd>flux (W m-2) = flux (V) * calibration_factor (W m-2 V-1)</dd></dl></div><div class='xr-var-data'><pre>array([[269.86047],\n       [269.86047],\n       [269.86047],\n       [268.46945],\n       [269.86047],\n       [269.86047],\n       [268.46945],\n       [269.86047],\n       [269.86047]], dtype=float32)</pre></div></li><li class='xr-var-item'><div class='xr-var-name'><span>gti_max</span></div><div class='xr-var-dims'>(time, station)</div><div class='xr-var-dtype'>float32</div><div class='xr-var-preview xr-preview'>278.8 278.8 277.3 ... 277.3 278.8</div><input id='attrs-9842597e-cda2-44ab-9a5a-bd7be1c5609f' class='xr-var-attrs-in' type='checkbox' ><label for='attrs-9842597e-cda2-44ab-9a5a-bd7be1c5609f' title='Show/Hide attributes'><svg class='icon xr-icon-file-text2'><use xlink:href='#icon-file-text2'></use></svg></label><input id='data-0b58bec9-fd43-4717-93a9-29ad366224e1' class='xr-var-data-in' type='checkbox'><label for='data-0b58bec9-fd43-4717-93a9-29ad366224e1' title='Show/Hide data repr'><svg class='icon xr-icon-database'><use xlink:href='#icon-database'></use></svg></label><div class='xr-var-attrs'><dl class='xr-attrs'><dt><span>units :</span></dt><dd>V</dd><dt><span>long_name :</span></dt><dd>downwelling shortwave flux measured on secondary platform, might be tilted</dd><dt><span>standard_name :</span></dt><dd>max_downwelling_shortwave_flux_in_air</dd><dt><span>valid_range :</span></dt><dd>[   0 1023]</dd><dt><span>hangle :</span></dt><dd>0.0</dd><dt><span>vangle :</span></dt><dd>0.0</dd><dt><span>serial :</span></dt><dd>S12137.049</dd><dt><span>calibration_factor :</span></dt><dd>6.98</dd><dt><span>calibration_function :</span></dt><dd>flux (W m-2) = flux (V) * calibration_factor (W m-2 V-1)</dd></dl></div><div class='xr-var-data'><pre>array([[278.83044],\n       [278.83044],\n       [277.28995],\n       [278.83044],\n       [278.83044],\n       [277.28995],\n       [277.28995],\n       [277.28995],\n       [278.83044]], dtype=float32)</pre></div></li><li class='xr-var-item'><div class='xr-var-name'><span>ghi_max</span></div><div class='xr-var-dims'>(time, station)</div><div class='xr-var-dtype'>float32</div><div class='xr-var-preview xr-preview'>269.9 269.9 269.9 ... 269.9 269.9</div><input id='attrs-aeb37f89-653d-4288-85ac-305fe2cdf10b' class='xr-var-attrs-in' type='checkbox' ><label for='attrs-aeb37f89-653d-4288-85ac-305fe2cdf10b' title='Show/Hide attributes'><svg class='icon xr-icon-file-text2'><use xlink:href='#icon-file-text2'></use></svg></label><input id='data-d5b6111d-1ba6-4341-acff-c3bef0946ffa' class='xr-var-data-in' type='checkbox'><label for='data-d5b6111d-1ba6-4341-acff-c3bef0946ffa' title='Show/Hide data repr'><svg class='icon xr-icon-database'><use xlink:href='#icon-database'></use></svg></label><div class='xr-var-attrs'><dl class='xr-attrs'><dt><span>units :</span></dt><dd>V</dd><dt><span>long_name :</span></dt><dd>downwelling shortwave flux</dd><dt><span>standard_name :</span></dt><dd>max_downwelling_shortwave_flux_in_air</dd><dt><span>valid_range :</span></dt><dd>[   0 1023]</dd><dt><span>serial :</span></dt><dd>S12128.001</dd><dt><span>calibration_factor :</span></dt><dd>7.73</dd><dt><span>calibration_function :</span></dt><dd>flux (W m-2) = flux (V) * calibration_factor (W m-2 V-1)</dd></dl></div><div class='xr-var-data'><pre>array([[269.86047],\n       [269.86047],\n       [269.86047],\n       [269.86047],\n       [269.86047],\n       [269.86047],\n       [269.86047],\n       [269.86047],\n       [269.86047]], dtype=float32)</pre></div></li><li class='xr-var-item'><div class='xr-var-name'><span>gti_std</span></div><div class='xr-var-dims'>(time, station)</div><div class='xr-var-dtype'>float64</div><div class='xr-var-preview xr-preview'>0.6889 0.6495 0.0 ... 0.0 1.089</div><input id='attrs-0f78032e-b9a8-4bec-995a-be6a5b28b305' class='xr-var-attrs-in' type='checkbox' ><label for='attrs-0f78032e-b9a8-4bec-995a-be6a5b28b305' title='Show/Hide attributes'><svg class='icon xr-icon-file-text2'><use xlink:href='#icon-file-text2'></use></svg></label><input id='data-c9ea4b9d-972d-4d99-b02f-872155438bf7' class='xr-var-data-in' type='checkbox'><label for='data-c9ea4b9d-972d-4d99-b02f-872155438bf7' title='Show/Hide data repr'><svg class='icon xr-icon-database'><use xlink:href='#icon-database'></use></svg></label><div class='xr-var-attrs'><dl class='xr-attrs'><dt><span>units :</span></dt><dd>V</dd><dt><span>long_name :</span></dt><dd>downwelling shortwave flux measured on secondary platform, might be tilted</dd><dt><span>standard_name :</span></dt><dd>std_downwelling_shortwave_flux_in_air</dd><dt><span>valid_range :</span></dt><dd>[   0 1023]</dd><dt><span>hangle :</span></dt><dd>0.0</dd><dt><span>vangle :</span></dt><dd>0.0</dd><dt><span>serial :</span></dt><dd>S12137.049</dd><dt><span>calibration_factor :</span></dt><dd>6.98</dd><dt><span>calibration_function :</span></dt><dd>flux (W m-2) = flux (V) * calibration_factor (W m-2 V-1)</dd></dl></div><div class='xr-var-data'><pre>array([[0.68893112],\n       [0.64953049],\n       [0.        ],\n       [0.72619717],\n       [0.87445719],\n       [0.        ],\n       [0.64953049],\n       [0.        ],\n       [1.08929575]])</pre></div></li><li class='xr-var-item'><div class='xr-var-name'><span>ghi_std</span></div><div class='xr-var-dims'>(time, station)</div><div class='xr-var-dtype'>float64</div><div class='xr-var-preview xr-preview'>0.0 0.0 0.0 ... 0.4399 0.0 0.0</div><input id='attrs-8f9e49ad-32bd-4f86-86b4-80476fec54bb' class='xr-var-attrs-in' type='checkbox' ><label for='attrs-8f9e49ad-32bd-4f86-86b4-80476fec54bb' title='Show/Hide attributes'><svg class='icon xr-icon-file-text2'><use xlink:href='#icon-file-text2'></use></svg></label><input id='data-1e427794-d2da-4bb7-b1a0-0c75205612c9' class='xr-var-data-in' type='checkbox'><label for='data-1e427794-d2da-4bb7-b1a0-0c75205612c9' title='Show/Hide data repr'><svg class='icon xr-icon-database'><use xlink:href='#icon-database'></use></svg></label><div class='xr-var-attrs'><dl class='xr-attrs'><dt><span>units :</span></dt><dd>V</dd><dt><span>long_name :</span></dt><dd>downwelling shortwave flux</dd><dt><span>standard_name :</span></dt><dd>std_downwelling_shortwave_flux_in_air</dd><dt><span>valid_range :</span></dt><dd>[   0 1023]</dd><dt><span>serial :</span></dt><dd>S12128.001</dd><dt><span>calibration_factor :</span></dt><dd>7.73</dd><dt><span>calibration_function :</span></dt><dd>flux (W m-2) = flux (V) * calibration_factor (W m-2 V-1)</dd></dl></div><div class='xr-var-data'><pre>array([[0.        ],\n       [0.        ],\n       [0.        ],\n       [0.43987969],\n       [0.        ],\n       [0.        ],\n       [0.43987969],\n       [0.        ],\n       [0.        ]])</pre></div></li><li class='xr-var-item'><div class='xr-var-name'><span>lat</span></div><div class='xr-var-dims'>(station)</div><div class='xr-var-dtype'>float64</div><div class='xr-var-preview xr-preview'>51.39</div><input id='attrs-007704f5-7b93-44ac-8e3b-6f35669b772c' class='xr-var-attrs-in' type='checkbox' ><label for='attrs-007704f5-7b93-44ac-8e3b-6f35669b772c' title='Show/Hide attributes'><svg class='icon xr-icon-file-text2'><use xlink:href='#icon-file-text2'></use></svg></label><input id='data-16d6fa26-d59a-49d5-a619-f1009610ebb3' class='xr-var-data-in' type='checkbox'><label for='data-16d6fa26-d59a-49d5-a619-f1009610ebb3' title='Show/Hide data repr'><svg class='icon xr-icon-database'><use xlink:href='#icon-database'></use></svg></label><div class='xr-var-attrs'><dl class='xr-attrs'><dt><span>standard_name :</span></dt><dd>latitude</dd><dt><span>units :</span></dt><dd>degree_north</dd><dt><span>valid_range :</span></dt><dd>[        0 180000000]</dd></dl></div><div class='xr-var-data'><pre>array([51.3902104])</pre></div></li><li class='xr-var-item'><div class='xr-var-name'><span>lon</span></div><div class='xr-var-dims'>(station)</div><div class='xr-var-dtype'>float64</div><div class='xr-var-preview xr-preview'>11.89</div><input id='attrs-7614ccb4-042d-4b38-b1eb-17224948f760' class='xr-var-attrs-in' type='checkbox' ><label for='attrs-7614ccb4-042d-4b38-b1eb-17224948f760' title='Show/Hide attributes'><svg class='icon xr-icon-file-text2'><use xlink:href='#icon-file-text2'></use></svg></label><input id='data-7f5d0c72-25cb-43ca-8575-5fb01b338f0e' class='xr-var-data-in' type='checkbox'><label for='data-7f5d0c72-25cb-43ca-8575-5fb01b338f0e' title='Show/Hide data repr'><svg class='icon xr-icon-database'><use xlink:href='#icon-database'></use></svg></label><div class='xr-var-attrs'><dl class='xr-attrs'><dt><span>standard_name :</span></dt><dd>longitude</dd><dt><span>units :</span></dt><dd>degree_east</dd><dt><span>valid_range :</span></dt><dd>[        0 360000000]</dd></dl></div><div class='xr-var-data'><pre>array([11.8852522])</pre></div></li><li class='xr-var-item'><div class='xr-var-name'><span>maintenance_flag_ghi</span></div><div class='xr-var-dims'>(station)</div><div class='xr-var-dtype'>float32</div><div class='xr-var-preview xr-preview'>9.0</div><input id='attrs-c5242f7e-f2f5-4560-8fa7-25fe1e8834ce' class='xr-var-attrs-in' type='checkbox' ><label for='attrs-c5242f7e-f2f5-4560-8fa7-25fe1e8834ce' title='Show/Hide attributes'><svg class='icon xr-icon-file-text2'><use xlink:href='#icon-file-text2'></use></svg></label><input id='data-902ce42f-5112-47a0-8ed1-5ed8d14c37db' class='xr-var-data-in' type='checkbox'><label for='data-902ce42f-5112-47a0-8ed1-5ed8d14c37db' title='Show/Hide data repr'><svg class='icon xr-icon-database'><use xlink:href='#icon-database'></use></svg></label><div class='xr-var-attrs'><dl class='xr-attrs'><dt><span>standard_name :</span></dt><dd>quality_flag</dd><dt><span>long_name :</span></dt><dd>Maintenance quality control flags for main pyranometer</dd><dt><span>note :</span></dt><dd>Soiling describes subjectively the coverage of the pyranometer dome with dirt. The level flag is problematic if the bubble of the spirit level touches the reference ring, and bad if it is outside.</dd><dt><span>valid_range :</span></dt><dd>[ 0 11]</dd><dt><span>flag_masks :</span></dt><dd>[ 3  3  3 12 12]</dd><dt><span>flag_values :</span></dt><dd>[1 2 3 4 8]</dd><dt><span>flag_meanings :</span></dt><dd>soiling_light soiling_moderate soiling_heavy level_problematic level_bad</dd><dt><span>note_general :</span></dt><dd>this is a test; 222</dd><dt><span>note_clean :</span></dt><dd>testing notes; None</dd><dt><span>note_level :</span></dt><dd>None; test</dd></dl></div><div class='xr-var-data'><pre>array([9.], dtype=float32)</pre></div></li><li class='xr-var-item'><div class='xr-var-name'><span>maintenance_flag_gti</span></div><div class='xr-var-dims'>(station)</div><div class='xr-var-dtype'>float32</div><div class='xr-var-preview xr-preview'>7.0</div><input id='attrs-9763c851-a66e-40d3-acc4-f892f02b7174' class='xr-var-attrs-in' type='checkbox' ><label for='attrs-9763c851-a66e-40d3-acc4-f892f02b7174' title='Show/Hide attributes'><svg class='icon xr-icon-file-text2'><use xlink:href='#icon-file-text2'></use></svg></label><input id='data-432db965-5417-40c1-b52c-ed7023e02a3c' class='xr-var-data-in' type='checkbox'><label for='data-432db965-5417-40c1-b52c-ed7023e02a3c' title='Show/Hide data repr'><svg class='icon xr-icon-database'><use xlink:href='#icon-database'></use></svg></label><div class='xr-var-attrs'><dl class='xr-attrs'><dt><span>standard_name :</span></dt><dd>quality_flag</dd><dt><span>long_name :</span></dt><dd>Maintenance quality control flags for secondary pyranometer</dd><dt><span>note :</span></dt><dd>Soiling describes subjectively the coverage of the pyranometer dome with dirt. The level flag is problematic if the bubble of the spirit level touches the reference ring, and bad if it is outside.</dd><dt><span>valid_range :</span></dt><dd>[ 0 11]</dd><dt><span>flag_masks :</span></dt><dd>[ 3  3  3 12 12]</dd><dt><span>flag_values :</span></dt><dd>[1 2 3 4 8]</dd><dt><span>flag_meanings :</span></dt><dd>soiling_light soiling_moderate soiling_heavy level_problematic level_bad</dd><dt><span>note_general :</span></dt><dd>this is a test; 222</dd><dt><span>note_clean :</span></dt><dd>None; None</dd><dt><span>note_level :</span></dt><dd>None; None</dd></dl></div><div class='xr-var-data'><pre>array([7.], dtype=float32)</pre></div></li><li class='xr-var-item'><div class='xr-var-name'><span>szen</span></div><div class='xr-var-dims'>(time, station)</div><div class='xr-var-dtype'>float64</div><div class='xr-var-preview xr-preview'>42.51 42.51 42.51 ... 42.51 42.51</div><input id='attrs-0a613bcd-ad23-45ce-866d-60b2e1ba3cf9' class='xr-var-attrs-in' type='checkbox' ><label for='attrs-0a613bcd-ad23-45ce-866d-60b2e1ba3cf9' title='Show/Hide attributes'><svg class='icon xr-icon-file-text2'><use xlink:href='#icon-file-text2'></use></svg></label><input id='data-fecedea5-662c-4cf8-92b4-aefe040ff03a' class='xr-var-data-in' type='checkbox'><label for='data-fecedea5-662c-4cf8-92b4-aefe040ff03a' title='Show/Hide data repr'><svg class='icon xr-icon-database'><use xlink:href='#icon-database'></use></svg></label><div class='xr-var-attrs'><dl class='xr-attrs'><dt><span>standard_name :</span></dt><dd>solar_zenith_angle</dd><dt><span>units :</span></dt><dd>degree</dd><dt><span>valid_range :</span></dt><dd>[0, 36000]</dd></dl></div><div class='xr-var-data'><pre>array([[42.51131386],\n       [42.51144947],\n       [42.51158535],\n       [42.51172152],\n       [42.51185796],\n       [42.51199467],\n       [42.51213166],\n       [42.51226893],\n       [42.51240647]])</pre></div></li><li class='xr-var-item'><div class='xr-var-name'><span>sazi</span></div><div class='xr-var-dims'>(time, station)</div><div class='xr-var-dtype'>float64</div><div class='xr-var-preview xr-preview'>182.9 182.9 182.9 ... 182.9 182.9</div><input id='attrs-43b49926-abc2-48cb-84eb-54b4605dcdf6' class='xr-var-attrs-in' type='checkbox' ><label for='attrs-43b49926-abc2-48cb-84eb-54b4605dcdf6' title='Show/Hide attributes'><svg class='icon xr-icon-file-text2'><use xlink:href='#icon-file-text2'></use></svg></label><input id='data-8bba640f-0a37-4bb0-ac62-607a5a86e8ec' class='xr-var-data-in' type='checkbox'><label for='data-8bba640f-0a37-4bb0-ac62-607a5a86e8ec' title='Show/Hide data repr'><svg class='icon xr-icon-database'><use xlink:href='#icon-database'></use></svg></label><div class='xr-var-attrs'><dl class='xr-attrs'><dt><span>standard_name :</span></dt><dd>solar_azimuth_angle</dd><dt><span>units :</span></dt><dd>degree</dd><dt><span>valid_range :</span></dt><dd>[0, 36000]</dd></dl></div><div class='xr-var-data'><pre>array([[182.89457146],\n       [182.90066116],\n       [182.90675083],\n       [182.91284047],\n       [182.91893008],\n       [182.92501967],\n       [182.93110922],\n       [182.93719875],\n       [182.94328824]])</pre></div></li><li class='xr-var-item'><div class='xr-var-name'><span>esd</span></div><div class='xr-var-dims'>(station)</div><div class='xr-var-dtype'>float64</div><div class='xr-var-preview xr-preview'>1.01</div><input id='attrs-ea5c40a3-be26-4a99-991e-81186f2f5dc0' class='xr-var-attrs-in' type='checkbox' ><label for='attrs-ea5c40a3-be26-4a99-991e-81186f2f5dc0' title='Show/Hide attributes'><svg class='icon xr-icon-file-text2'><use xlink:href='#icon-file-text2'></use></svg></label><input id='data-eb057831-5f28-4e7c-9a63-ea24a71d2dcc' class='xr-var-data-in' type='checkbox'><label for='data-eb057831-5f28-4e7c-9a63-ea24a71d2dcc' title='Show/Hide data repr'><svg class='icon xr-icon-database'><use xlink:href='#icon-database'></use></svg></label><div class='xr-var-attrs'><dl class='xr-attrs'><dt><span>standard_name :</span></dt><dd>earth_sun_distance</dd><dt><span>units :</span></dt><dd>AU</dd><dt><span>valid_range :</span></dt><dd>[0, 40000]</dd></dl></div><div class='xr-var-data'><pre>array([1.00959973])</pre></div></li></ul></div></li><li class='xr-section-item'><input id='section-5c733869-bda0-48e4-b620-4c95327067ba' class='xr-section-summary-in' type='checkbox'  ><label for='section-5c733869-bda0-48e4-b620-4c95327067ba' class='xr-section-summary' >Indexes: <span>(2)</span></label><div class='xr-section-inline-details'></div><div class='xr-section-details'><ul class='xr-var-list'><li class='xr-var-item'><div class='xr-index-name'><div>station</div></div><div class='xr-index-preview'>PandasIndex</div><div></div><input id='index-bfd1fd98-2b4f-4e5a-ac8c-a499283dcd6d' class='xr-index-data-in' type='checkbox'/><label for='index-bfd1fd98-2b4f-4e5a-ac8c-a499283dcd6d' title='Show/Hide index repr'><svg class='icon xr-icon-database'><use xlink:href='#icon-database'></use></svg></label><div class='xr-index-data'><pre>PandasIndex(Float64Index([1.0], dtype=&#x27;float64&#x27;, name=&#x27;station&#x27;))</pre></div></li><li class='xr-var-item'><div class='xr-index-name'><div>time</div></div><div class='xr-index-preview'>PandasIndex</div><div></div><input id='index-1f8016d9-7f72-4c42-b81d-a49a6ca7a4f0' class='xr-index-data-in' type='checkbox'/><label for='index-1f8016d9-7f72-4c42-b81d-a49a6ca7a4f0' title='Show/Hide index repr'><svg class='icon xr-icon-database'><use xlink:href='#icon-database'></use></svg></label><div class='xr-index-data'><pre>PandasIndex(DatetimeIndex([&#x27;2022-08-30 11:21:01&#x27;, &#x27;2022-08-30 11:21:02&#x27;,\n               &#x27;2022-08-30 11:21:03&#x27;, &#x27;2022-08-30 11:21:04&#x27;,\n               &#x27;2022-08-30 11:21:05&#x27;, &#x27;2022-08-30 11:21:06&#x27;,\n               &#x27;2022-08-30 11:21:07&#x27;, &#x27;2022-08-30 11:21:08&#x27;,\n               &#x27;2022-08-30 11:21:09&#x27;],\n              dtype=&#x27;datetime64[ns]&#x27;, name=&#x27;time&#x27;, freq=&#x27;S&#x27;))</pre></div></li></ul></div></li><li class='xr-section-item'><input id='section-8445401f-1551-4111-a866-e88204e4573a' class='xr-section-summary-in' type='checkbox'  ><label for='section-8445401f-1551-4111-a866-e88204e4573a' class='xr-section-summary' >Attributes: <span>(31)</span></label><div class='xr-section-inline-details'></div><div class='xr-section-details'><dl class='xr-attrs'><dt><span>title :</span></dt><dd>TROPOS pyranometer network (PyrNet) observations</dd><dt><span>institution :</span></dt><dd>Leibniz Institute for Tropospheric Research (TROPOS)</dd><dt><span>department :</span></dt><dd>Remote Sensing of Atmospheric Processes</dd><dt><span>department_team :</span></dt><dd>Clouds, Aerosol and Radiation</dd><dt><span>address :</span></dt><dd>Permoser Str. 15, 04318 Leipzig, Germany</dd><dt><span>source :</span></dt><dd>TROPOS pyranometer network (PyrNet)</dd><dt><span>contact_person :</span></dt><dd>Andreas Macke and the clouds, aerosol and radiation team of the remote sensing department, mailto:andreas.macke@tropos.de</dd><dt><span>contributor_name :</span></dt><dd></dd><dt><span>contributor_role :</span></dt><dd></dd><dt><span>authors_software :</span></dt><dd>Hartwig Deneke, Jonas Witthuhn, mailto:deneke@tropos.de</dd><dt><span>creator_name :</span></dt><dd></dd><dt><span>project :</span></dt><dd></dd><dt><span>references :</span></dt><dd>https://doi.org/10.5194/amt-9-1153-2016</dd><dt><span>standard_name_vocabulary :</span></dt><dd>CF Standard Name Table v81</dd><dt><span>conventions :</span></dt><dd>CF-1.10, ACDD-1.3</dd><dt><span>license :</span></dt><dd>CC-BY-SA 3.0</dd><dt><span>TESTNOTE :</span></dt><dd>This is a test note.</dd><dt><span>processing_level :</span></dt><dd>l1b</dd><dt><span>product_version :</span></dt><dd>0.1.10+15.g5f0229e.dirty</dd><dt><span>history :</span></dt><dd>2024-01-31T07:48:49: Generated level l1a  by pyrnet version 0.1.10+15.g5f0229e.dirty; 2024-01-31T07:48:51: Generated level l1b  by pyrnet version 0.1.10+15.g5f0229e.dirty; </dd><dt><span>date_created :</span></dt><dd>2024-01-31T07:48:51</dd><dt><span>geospatial_lat_min :</span></dt><dd>51.3902104</dd><dt><span>geospatial_lat_max :</span></dt><dd>51.3902104</dd><dt><span>geospatial_lat_units :</span></dt><dd>degN</dd><dt><span>geospatial_lon_min :</span></dt><dd>11.885252199999991</dd><dt><span>geospatial_lon_max :</span></dt><dd>11.885252199999991</dd><dt><span>geospatial_lon_units :</span></dt><dd>degE</dd><dt><span>time_coverage_start :</span></dt><dd>2022-08-30T11:21:01</dd><dt><span>time_coverage_end :</span></dt><dd>2022-08-30T11:21:09</dd><dt><span>time_coverage_duration :</span></dt><dd>P0DT0H0M8S</dd><dt><span>time_coverage_resolution :</span></dt><dd>P0DT0H0M1S</dd></dl></div></li></ul></div></div>"
     },
     "execution_count": 41,
     "metadata": {},
     "output_type": "execute_result"
    }
   ],
   "source": [
    "ds_l1b"
   ],
   "metadata": {
    "collapsed": false,
    "ExecuteTime": {
     "end_time": "2024-01-31T07:48:51.491419800Z",
     "start_time": "2024-01-31T07:48:51.260941700Z"
    }
   }
  },
  {
   "cell_type": "code",
   "execution_count": 42,
   "outputs": [
    {
     "data": {
      "text/plain": "<class 'netCDF4._netCDF4.Dataset'>\nroot group (NETCDF4 data model, file format HDF5):\n    title: TROPOS pyranometer network (PyrNet) observations\n    institution: Leibniz Institute for Tropospheric Research (TROPOS)\n    department: Remote Sensing of Atmospheric Processes\n    department_team: Clouds, Aerosol and Radiation\n    address: Permoser Str. 15, 04318 Leipzig, Germany\n    source: TROPOS pyranometer network (PyrNet)\n    contact_person: Andreas Macke and the clouds, aerosol and radiation team of the remote sensing department, mailto:andreas.macke@tropos.de\n    contributor_name: \n    contributor_role: \n    authors_software: Hartwig Deneke, Jonas Witthuhn, mailto:deneke@tropos.de\n    creator_name: \n    project: \n    references: https://doi.org/10.5194/amt-9-1153-2016\n    standard_name_vocabulary: CF Standard Name Table v81\n    conventions: CF-1.10, ACDD-1.3\n    license: CC-BY-SA 3.0\n    TESTNOTE: This is a test note.\n    processing_level: l1b\n    product_version: 0.1.10+15.g5f0229e.dirty\n    history: 2024-01-31T07:48:49: Generated level l1a  by pyrnet version 0.1.10+15.g5f0229e.dirty; 2024-01-31T07:48:51: Generated level l1b  by pyrnet version 0.1.10+15.g5f0229e.dirty; \n    date_created: 2024-01-31T07:48:51\n    geospatial_lat_min: 51.3902104\n    geospatial_lat_max: 51.3902104\n    geospatial_lat_units: degN\n    geospatial_lon_min: 11.885252199999991\n    geospatial_lon_max: 11.885252199999991\n    geospatial_lon_units: degE\n    time_coverage_start: 2022-08-30T11:21:01\n    time_coverage_end: 2022-08-30T11:21:09\n    time_coverage_duration: P0DT0H0M8S\n    time_coverage_resolution: P0DT0H0M1S\n    dimensions(sizes): station(1), time(9)\n    variables(dimensions): float64 station(station), float64 time(time), uint16 ghi(time, station), uint16 gti(time, station), uint16 ta(time, station), uint16 rh(time, station), uint16 battery_voltage(time, station), uint16 gti_min(time, station), uint16 ghi_min(time, station), uint16 gti_max(time, station), uint16 ghi_max(time, station), uint16 gti_std(time, station), uint16 ghi_std(time, station), uint32 lat(station), uint32 lon(station), uint8 maintenance_flag_ghi(station), uint8 maintenance_flag_gti(station), uint16 szen(time, station), uint16 sazi(time, station), uint16 esd(station)\n    groups: "
     },
     "execution_count": 42,
     "metadata": {},
     "output_type": "execute_result"
    }
   ],
   "source": [
    "#|dropout\n",
    "import netCDF4\n",
    "netCDF4.Dataset(\"../../example_data/to_l1b_output.nc\",'r')"
   ],
   "metadata": {
    "collapsed": false,
    "ExecuteTime": {
     "end_time": "2024-01-31T07:48:51.495409500Z",
     "start_time": "2024-01-31T07:48:51.328562100Z"
    }
   }
  },
  {
   "cell_type": "code",
   "execution_count": 43,
   "outputs": [],
   "source": [
    "#|hide\n",
    "# Export module\n",
    "# Requires *nbdev* to export and update the *../lib/logger.py* module\n",
    "import nbdev.export\n",
    "import nbformat as nbf\n",
    "name = \"data\"\n",
    "\n",
    "# Export python module\n",
    "nbdev.export.nb_export( f\"{name}.ipynb\" ,f\"../../src/pyrnet\")\n",
    "\n",
    "# Export to docs\n",
    "ntbk = nbf.read(f\"{name}.ipynb\", nbf.NO_CONVERT)\n",
    "\n",
    "text_search_dict = {\n",
    "    \"#|hide\": \"remove-cell\",  # Remove the whole cell\n",
    "    \"#|dropcode\": \"hide-input\",  # Hide the input w/ a button to show\n",
    "    \"#|dropout\": \"hide-output\"  # Hide the output w/ a button to show\n",
    "}\n",
    "for cell in ntbk.cells:\n",
    "    cell_tags = cell.get('metadata', {}).get('tags', [])\n",
    "    for key, val in text_search_dict.items():\n",
    "            if key in cell['source']:\n",
    "                if val not in cell_tags:\n",
    "                    cell_tags.append(val)\n",
    "    if len(cell_tags) > 0:\n",
    "        cell['metadata']['tags'] = cell_tags\n",
    "    nbf.write(ntbk, f\"../../docs/source/nbs/{name}.ipynb\")"
   ],
   "metadata": {
    "collapsed": false,
    "ExecuteTime": {
     "end_time": "2024-01-31T07:48:54.267642400Z",
     "start_time": "2024-01-31T07:48:51.392123800Z"
    }
   }
  }
 ],
 "metadata": {
  "kernelspec": {
   "display_name": "Python 3",
   "language": "python",
   "name": "python3"
  },
  "language_info": {
   "codemirror_mode": {
    "name": "ipython",
    "version": 2
   },
   "file_extension": ".py",
   "mimetype": "text/x-python",
   "name": "python",
   "nbconvert_exporter": "python",
   "pygments_lexer": "ipython2",
   "version": "2.7.6"
  }
 },
 "nbformat": 4,
 "nbformat_minor": 0
}
