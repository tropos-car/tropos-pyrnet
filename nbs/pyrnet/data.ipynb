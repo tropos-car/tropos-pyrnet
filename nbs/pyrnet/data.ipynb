{
 "cells": [
  {
   "cell_type": "code",
   "execution_count": 1,
   "metadata": {
    "collapsed": false,
    "ExecuteTime": {
     "end_time": "2024-02-23T15:22:56.408154500Z",
     "start_time": "2024-02-23T15:22:55.266536Z"
    }
   },
   "outputs": [],
   "source": [
    "#|hide\n",
    "#|default_exp data"
   ]
  },
  {
   "cell_type": "markdown",
   "metadata": {
    "collapsed": false
   },
   "source": [
    "# Data level\n",
    "\n",
    "Reading and advance in data processing levels to be stored in netcdf database format.\n",
    "\n",
    "```{note}\n",
    "raw > l1a > l1b > l1c\n",
    "```"
   ]
  },
  {
   "cell_type": "code",
   "execution_count": 2,
   "metadata": {
    "collapsed": false,
    "ExecuteTime": {
     "end_time": "2024-02-23T15:22:58.275769900Z",
     "start_time": "2024-02-23T15:22:55.282300900Z"
    }
   },
   "outputs": [],
   "source": [
    "#|export\n",
    "import os\n",
    "import numpy as np\n",
    "import pandas as pd\n",
    "import xarray as xr\n",
    "import logging\n",
    "from toolz import assoc_in, merge_with\n",
    "import pkg_resources as pkg_res\n",
    "import warnings\n",
    "\n",
    "from trosat import sunpos as sp\n",
    "from trosat.cfconv import read_cfjson\n",
    "\n",
    "import pyrnet\n",
    "pyrnet_version = pyrnet.__version__\n",
    "import pyrnet.pyrnet\n",
    "import pyrnet.utils\n",
    "import pyrnet.logger\n",
    "import pyrnet.reports\n",
    "import pyrnet.qcrad\n",
    "\n",
    "# logging setup\n",
    "logging.basicConfig(\n",
    "    filename='pyrnet.log',\n",
    "    encoding='utf-8',\n",
    "    level=logging.DEBUG,\n",
    "    format='%(asctime)s %(name)s %(levelname)s:%(message)s'\n",
    ")\n",
    "logger = logging.getLogger(__name__)"
   ]
  },
  {
   "cell_type": "code",
   "execution_count": 3,
   "metadata": {
    "collapsed": false,
    "ExecuteTime": {
     "end_time": "2024-02-23T15:22:58.289746800Z",
     "start_time": "2024-02-23T15:22:57.022005400Z"
    }
   },
   "outputs": [],
   "source": [
    "import matplotlib.pyplot as plt"
   ]
  },
  {
   "cell_type": "markdown",
   "metadata": {
    "collapsed": false
   },
   "source": [
    "## netCDF dataset operations\n"
   ]
  },
  {
   "cell_type": "markdown",
   "source": [
    "### Filename\n",
    "Filename from config format string."
   ],
   "metadata": {
    "collapsed": false
   }
  },
  {
   "cell_type": "code",
   "execution_count": 4,
   "outputs": [],
   "source": [
    "#|export\n",
    "def get_fname(ds, freq, timevar='time', sfx='nc', config=None):\n",
    "    config = get_config(config)\n",
    "    duration = ds[timevar].values[-1] - ds[timevar].values[0]\n",
    "    if ds.station.size==1:\n",
    "        kind = 's'\n",
    "        station = ds.station.values[0]\n",
    "    else:\n",
    "        kind = 'n'\n",
    "        station = ds.station.size\n",
    "    format_dict = dict(\n",
    "        dt = pd.to_datetime(ds[timevar].values[0]),\n",
    "        period = pd.to_timedelta(duration).isoformat(),\n",
    "        campaign = config[\"campaign\"],\n",
    "        kind = kind,\n",
    "        station = int(station),\n",
    "        level = ds.processing_level,\n",
    "        freq = freq,\n",
    "        collection = int(config[\"collection\"]),\n",
    "        sfx = sfx\n",
    "    )\n",
    "    return config[\"output\"].format(**format_dict) "
   ],
   "metadata": {
    "collapsed": false,
    "ExecuteTime": {
     "end_time": "2024-02-23T15:22:58.290778300Z",
     "start_time": "2024-02-23T15:22:57.505405400Z"
    }
   }
  },
  {
   "cell_type": "markdown",
   "source": [
    "### Update netcdf coverage metadata\n",
    "Add and update ACDD covarge metadata to dataset"
   ],
   "metadata": {
    "collapsed": false
   }
  },
  {
   "cell_type": "code",
   "execution_count": 5,
   "metadata": {
    "collapsed": false,
    "ExecuteTime": {
     "end_time": "2024-02-23T15:22:58.290778300Z",
     "start_time": "2024-02-23T15:22:57.520739800Z"
    }
   },
   "outputs": [],
   "source": [
    "#|export\n",
    "def update_coverage_meta(ds, timevar='time'):\n",
    "    \"\"\"Update global attributes related to geospatial and time coverage\n",
    "    \"\"\"\n",
    "    duration = ds[timevar].values[-1] - ds[timevar].values[0]\n",
    "    resolution = np.mean(np.diff(ds[timevar].values))\n",
    "    now = pd.to_datetime(np.datetime64(\"now\"))\n",
    "    gattrs = {\n",
    "        'date_created': now.isoformat(),\n",
    "        'geospatial_lat_min': np.nanmin(ds.lat.values),\n",
    "        'geospatial_lat_max': np.nanmax(ds.lat.values),\n",
    "        'geospatial_lat_units': 'degN',\n",
    "        'geospatial_lon_min': np.nanmin(ds.lon.values),\n",
    "        'geospatial_lon_max': np.nanmax(ds.lon.values),\n",
    "        'geospatial_lon_units': 'degE',\n",
    "        'time_coverage_start': pd.to_datetime(ds[timevar].values[0]).isoformat(),\n",
    "        'time_coverage_end': pd.to_datetime(ds[timevar].values[-1]).isoformat(),\n",
    "        'time_coverage_duration': pd.to_timedelta(duration).isoformat(),\n",
    "        'time_coverage_resolution': pd.to_timedelta(resolution).isoformat(),\n",
    "    }\n",
    "    ds.attrs.update(gattrs)\n",
    "    return ds\n"
   ]
  },
  {
   "cell_type": "markdown",
   "source": [
    "### Stretch resolution\n",
    "Update encoding *scale_factor* and *add_offset* to use the full dtype resolution."
   ],
   "metadata": {
    "collapsed": false
   }
  },
  {
   "cell_type": "code",
   "execution_count": 6,
   "metadata": {
    "collapsed": false,
    "ExecuteTime": {
     "end_time": "2024-02-23T15:22:58.290778300Z",
     "start_time": "2024-02-23T15:22:57.538736700Z"
    }
   },
   "outputs": [],
   "source": [
    "#|export\n",
    "def stretch_resolution(ds: xr.Dataset) -> xr.Dataset:\n",
    "    \"\"\" Stretch variable resolution to full integer size,\n",
    "    to not lose resolution after averaging ADC count data.\"\"\"\n",
    "    for var in ds:\n",
    "        if \"scale_factor\" not in ds[var].encoding:\n",
    "            continue\n",
    "        if \"valid_range\" not in ds[var].attrs:\n",
    "            continue\n",
    "        dtype = ds[var].encoding['dtype']\n",
    "        valid_range = ds[var].valid_range\n",
    "        int_limit = np.iinfo(dtype).max\n",
    "        scale_factor = ds[var].encoding['scale_factor']\n",
    "        scale_factor_mod = int((int_limit-1)/valid_range[1])\n",
    "        ds[var].encoding.update({\n",
    "            \"scale_factor\": scale_factor / scale_factor_mod,\n",
    "            \"_FillValue\": int_limit,\n",
    "        })\n",
    "        ds[var].attrs.update({\n",
    "            \"valid_range\": valid_range * scale_factor_mod\n",
    "        })\n",
    "    return ds"
   ]
  },
  {
   "cell_type": "markdown",
   "source": [
    "### Write to netcdf\n",
    "Ensure complete metadata and merge if needed before writing to netcdf."
   ],
   "metadata": {
    "collapsed": false
   }
  },
  {
   "cell_type": "code",
   "execution_count": 7,
   "metadata": {
    "collapsed": false,
    "ExecuteTime": {
     "end_time": "2024-02-23T15:22:58.290778300Z",
     "start_time": "2024-02-23T15:22:57.555722200Z"
    }
   },
   "outputs": [],
   "source": [
    "#|export\n",
    "def to_netcdf(ds,fname, timevar=\"time\"):\n",
    "    \"\"\"xarray to netcdf, but merge if exist\n",
    "    \"\"\"\n",
    "    # save to netCDF4\n",
    "    ds = update_coverage_meta(ds, timevar=timevar)\n",
    "    ds.to_netcdf(fname,\n",
    "                 encoding={timevar:{'dtype':'float64'}}) # for OpenDAP 2 compatibility\n",
    "#|export\n",
    "def to_netcdf_l1b(ds, fname,freq='1s', timevar=\"time\"):\n",
    "    \"\"\"xarray to netcdf, but merge if exist\n",
    "    \"\"\"\n",
    "    # merge if necessary\n",
    "    dslist = pyrnet.utils.make_iter(ds)\n",
    "    \n",
    "    if os.path.exists(fname):\n",
    "        ds1 = xr.load_dataset(fname)\n",
    "        dslist.append(ds1)\n",
    "        os.remove(fname)\n",
    "\n",
    "    ds = merge_l1b(dslist, freq=freq, timevar=timevar)\n",
    "    # save to netCDF4\n",
    "    ds = update_coverage_meta(ds, timevar=timevar)\n",
    "    ds.to_netcdf(fname,\n",
    "                 encoding={timevar:{'dtype':'float64'}}) # for OpenDAP 2 compatibility"
   ]
  },
  {
   "cell_type": "markdown",
   "source": [
    "### Resample\n",
    "Specialized (fast) resample methods, as xarray resample is sometimes very slow."
   ],
   "metadata": {
    "collapsed": false
   }
  },
  {
   "cell_type": "code",
   "execution_count": 8,
   "metadata": {
    "collapsed": false,
    "ExecuteTime": {
     "end_time": "2024-02-23T15:22:58.290778300Z",
     "start_time": "2024-02-23T15:22:57.569403Z"
    }
   },
   "outputs": [],
   "source": [
    "#|export\n",
    "def resample(ds, freq, methods='mean', kwargs={}):\n",
    "    \"\"\" Resample xarray dataset using pandas for speed.\n",
    "    https://github.com/pydata/xarray/issues/4498#issuecomment-706688398\n",
    "    \"\"\"\n",
    "    if isinstance(methods,str):\n",
    "        methods = [methods]\n",
    "\n",
    "    dsr = ds.to_dataframe().resample(freq)\n",
    "    dsouts = []\n",
    "    for method in methods:\n",
    "        # what we want (quickly), but in Pandas form\n",
    "        df_h = dsr.apply(method)#, kwargs=dict(numeric_only=True) )\n",
    "        # rebuild xarray dataset with attributes\n",
    "        vals = []\n",
    "        for c in df_h.columns:\n",
    "            vals.append(\n",
    "                xr.DataArray(data=df_h[c],\n",
    "                             dims=['time'],\n",
    "                             coords={'time': df_h.index},\n",
    "                             attrs=ds[c].attrs)\n",
    "            )\n",
    "        dsouts.append(xr.Dataset(dict(zip(df_h.columns, vals)), attrs=ds.attrs))\n",
    "\n",
    "    if len(dsouts) == 1:\n",
    "        dsouts = dsouts[0]\n",
    "    return dsouts"
   ]
  },
  {
   "cell_type": "markdown",
   "metadata": {
    "collapsed": false
   },
   "source": [
    "## Config \n",
    "Parse default config"
   ]
  },
  {
   "cell_type": "code",
   "execution_count": 9,
   "metadata": {
    "collapsed": false,
    "ExecuteTime": {
     "end_time": "2024-02-23T15:22:58.290778300Z",
     "start_time": "2024-02-23T15:22:57.587312Z"
    }
   },
   "outputs": [],
   "source": [
    "#|export\n",
    "def get_config(config: dict|None = None) -> dict:\n",
    "    \"\"\"Read default config and merge with input config\n",
    "    \"\"\"\n",
    "\n",
    "    fn_config = pkg_res.resource_filename(\"pyrnet\", \"share/pyrnet_config.json\")\n",
    "    default_config = pyrnet.utils.read_json(fn_config)\n",
    "    if config is None:\n",
    "        config = default_config\n",
    "    config = {**default_config, **config}\n",
    "\n",
    "    # add default files\n",
    "    cfiles = {\n",
    "        \"file_cfmeta\": \"share/pyrnet_cfmeta.json\",\n",
    "        \"file_calibration\": \"share/pyrnet_calibration.json\",\n",
    "        \"file_mapping\": \"share/pyrnet_station_map.json\",\n",
    "        \"file_gti_angles\": \"share/pyrnet_gti_angles.json\",\n",
    "        \"file_site\": \"share/pyrnet_sites.json\",\n",
    "    }\n",
    "    for fn in cfiles:\n",
    "        if config[fn] is None:\n",
    "            config[fn] =  pkg_res.resource_filename(\"pyrnet\", cfiles[fn])\n",
    "    return config\n",
    "\n",
    "def get_sensor_config(sconfig: dict|None = None) -> dict:\n",
    "    \"\"\" Read the sensor configuration from the default json file and merge if needed. \n",
    "    \"\"\"\n",
    "    fn_config = pkg_res.resource_filename(\"pyrnet\", \"share/pyrnet_sensor_config.json\")\n",
    "    default_config = pyrnet.utils.read_json(fn_config)\n",
    "    if sconfig is None:\n",
    "        sconfig = default_config\n",
    "    sconfig = {**default_config, **sconfig}\n",
    "    return sconfig\n",
    "\n",
    "def get_cfmeta(config: dict|None = None) -> dict:\n",
    "    \"\"\"Read global and variable attributes and encoding from cfmeta.json\n",
    "    \"\"\"\n",
    "    config= get_config(config)\n",
    "    # parse the json file\n",
    "    cfdict = read_cfjson(config[\"file_cfmeta\"])\n",
    "    # get global attributes:\n",
    "    gattrs = cfdict['attributes']\n",
    "    # apply config\n",
    "    gattrs = {k:v.format_map(config) for k,v in gattrs.items()}\n",
    "    # get variable attributes\n",
    "    d = pyrnet.utils.get_var_attrs(cfdict)\n",
    "    # split encoding attributes\n",
    "    vattrs, vencode = pyrnet.utils.get_attrs_enc(d)\n",
    "    return gattrs, vattrs, vencode"
   ]
  },
  {
   "cell_type": "markdown",
   "metadata": {
    "collapsed": false
   },
   "source": [
    "## Encoding\n",
    "The encoding attributes are defined within the file PyrNet/share/pyrnet_cfmeta.json per default.\n",
    "\n",
    "The netcdf packing of data is realized via the two attributes *scale_factor* and *add_offset*:\n",
    "  ```unpacked_variable = scale_factor * packed_variable + add_offset```"
   ]
  },
  {
   "cell_type": "code",
   "execution_count": 10,
   "outputs": [],
   "source": [
    "#|export\n",
    "def calc_encoding(sconfig:dict, ADCV=3.3, ADCbits=10) -> dict:\n",
    "    ADCfac = ADCV / (2**ADCbits-1) # Last bit is reserved \n",
    "    sencoding = {}\n",
    "    for k, v in sconfig.items():\n",
    "        sencoding.update(\n",
    "            {k: dict(\n",
    "                units=v['units'],\n",
    "                scale_factor=v['C']*ADCfac/v['gain'],\n",
    "                add_offset=v['offset'],\n",
    "                valid_range= [0, min(((2**ADCbits-1), int(v['Vmax']*v['gain']/ADCfac)))]\n",
    "            )}\n",
    "        )\n",
    "    return sencoding"
   ],
   "metadata": {
    "collapsed": false,
    "ExecuteTime": {
     "end_time": "2024-02-23T15:22:58.290778300Z",
     "start_time": "2024-02-23T15:22:57.600895100Z"
    }
   }
  },
  {
   "cell_type": "code",
   "execution_count": 11,
   "outputs": [
    {
     "data": {
      "text/plain": "{'ta': {'units': 'K',\n  'scale_factor': 0.12903225806451613,\n  'add_offset': 253.15,\n  'valid_range': [0, 775]},\n 'rh': {'units': '1',\n  'scale_factor': 0.0012903225806451613,\n  'add_offset': 0.0,\n  'valid_range': [0, 775]},\n 'battery_voltage': {'units': 'V',\n  'scale_factor': 0.0064516129032258064,\n  'add_offset': 0.0,\n  'valid_range': [0, 992]},\n 'ghi': {'units': 'V',\n  'scale_factor': 1.075268817204301e-05,\n  'add_offset': 0.0,\n  'valid_range': [0, 1023]},\n 'gti': {'units': 'V',\n  'scale_factor': 1.075268817204301e-05,\n  'add_offset': 0.0,\n  'valid_range': [0, 1023]}}"
     },
     "execution_count": 11,
     "metadata": {},
     "output_type": "execute_result"
    }
   ],
   "source": [
    "sconfig = get_sensor_config()\n",
    "sencoding = calc_encoding(sconfig)\n",
    "sencoding"
   ],
   "metadata": {
    "collapsed": false,
    "ExecuteTime": {
     "end_time": "2024-02-23T15:22:58.295636Z",
     "start_time": "2024-02-23T15:22:57.611425100Z"
    }
   }
  },
  {
   "cell_type": "code",
   "execution_count": 12,
   "metadata": {
    "collapsed": false,
    "ExecuteTime": {
     "end_time": "2024-02-23T15:22:58.296670800Z",
     "start_time": "2024-02-23T15:22:57.631077800Z"
    }
   },
   "outputs": [
    {
     "data": {
      "text/plain": "{'attributes': {'Conventions': 'CF-1.10, ACDD-1.3',\n  'title': 'TROPOS pyranometer network (PyrNet) observational data set',\n  'history': '',\n  'institution': 'Leibniz Institute for Tropospheric Research (TROPOS)',\n  'source': 'TROPOS pyranometer network (PyrNet)',\n  'references': 'https://doi.org/10.5194/amt-9-1153-2016',\n  'Department': 'Remote Sensing of Atmospheric Processes',\n  'Department_team': 'Clouds, Aerosol and Radiation',\n  'Address': 'Permoser Str. 15, 04318 Leipzig, Germany',\n  'Contact_person': 'Andreas Macke and the clouds, aerosol and radiation team of the remote sensing department, mailto:andreas.macke@tropos.de',\n  'Contributor_name': '{contributor_name}',\n  'Contributor_role': '{contributor_role}',\n  'Authors_software': 'Hartwig Deneke, Jonas Witthuhn, mailto:deneke@tropos.de',\n  'Creator_name': '{creator_name}',\n  'Project': '{project}',\n  'Standard_name_vocabulary': 'CF Standard Name Table v81',\n  'License': 'CC-BY-SA 3.0'},\n 'variables': {'ta': {'type': 'u2',\n   'attributes': {'units': 'K',\n    'long_name': 'air temperature',\n    'standard_name': 'air_temperature',\n    'scale_factor': 0.01,\n    'add_offset': 253.15,\n    '_FillValue': 65535,\n    'valid_range': [0, 10000],\n    'zlib': True}},\n  'rh': {'type': 'u2',\n   'attributes': {'units': '1',\n    'long_name': 'air relative humidity',\n    'standard_name': 'relative_humidity',\n    'scale_factor': 0.0001,\n    'add_offset': 0.0,\n    'valid_range': [0, 10000],\n    '_FillValue': 65535,\n    'zlib': True}},\n  'battery_voltage': {'type': 'u2',\n   'attributes': {'units': 'V',\n    'standard_name': 'battery_voltage',\n    'scale_factor': 0.001,\n    'add_offset': 0.0,\n    'valid_range': [0, 6400],\n    '_FillValue': 65535,\n    'zlib': True}},\n  'ghi': {'type': 'u2',\n   'attributes': {'units': 'W m-2',\n    'long_name': 'downwelling shortwave flux',\n    'standard_name': 'downwelling_shortwave_flux_in_air',\n    'scale_factor': 0.025,\n    'add_offset': 0.0,\n    'valid_range': [0, 60000],\n    '_FillValue': 65535,\n    'zlib': True}},\n  'gti': {'type': 'u2',\n   'attributes': {'units': 'V',\n    'long_name': 'downwelling shortwave flux measured on secondary platform, might be tilted',\n    'standard_name': 'downwelling_shortwave_flux_in_air',\n    'scale_factor': 0.025,\n    'add_offset': 0.0,\n    'valid_range': [0, 60000],\n    '_FillValue': 65535,\n    'zlib': True}},\n  'station': {'type': 'u1',\n   'attributes': {'units': '-',\n    'long_name': 'PyrNet unit box number',\n    '_FillValue': 255,\n    'zlib': True}},\n  'szen': {'type': 'u2',\n   'attributes': {'standard_name': 'solar_zenith_angle',\n    'units': 'degree',\n    'scale_factor': 0.005,\n    'add_offset': 0.0,\n    'valid_range': [0, 36000],\n    '_FillValue': 65535,\n    'zlib': True}},\n  'sazi': {'type': 'u2',\n   'attributes': {'standard_name': 'solar_azimuth_angle',\n    'units': 'degree',\n    'scale_factor': 0.01,\n    'add_offset': 0.0,\n    'valid_range': [0, 36000],\n    '_FillValue': 65535,\n    'zlib': True}},\n  'esd': {'type': 'f8',\n   'attributes': {'long_name': 'Earth-sun distance',\n    'note': 'Calculated based on Spencer (1971), as mean of its values over all time steps.',\n    'units': 'ua'}},\n  'maintenance_flag_ghi': {'type': 'u1',\n   'attributes': {'standard_name': 'quality_flag',\n    'long_name': 'Maintenance quality control flags for main pyranometer',\n    'note': 'Soiling describes subjectively the coverage of the pyranometer dome with dirt. The level flag is problematic if the bubble of the spirit level touches the reference ring, and bad if it is outside.',\n    'valid_range': [0, 11],\n    'flag_masks': [3, 3, 3, 12, 12],\n    'flag_values': [1, 2, 3, 4, 8],\n    'flag_meanings': 'soiling_light soiling_moderate soiling_heavy level_problematic level_bad',\n    '_FillValue': 255,\n    'zlib': True}},\n  'maintenance_flag_gti': {'type': 'u1',\n   'attributes': {'standard_name': 'quality_flag',\n    'long_name': 'Maintenance quality control flags for secondary pyranometer',\n    'note': 'Soiling describes subjectively the coverage of the pyranometer dome with dirt. The level flag is problematic if the bubble of the spirit level touches the reference ring, and bad if it is outside.',\n    'valid_range': [0, 11],\n    'flag_masks': [3, 3, 3, 12, 12],\n    'flag_values': [1, 2, 3, 4, 8],\n    'flag_meanings': 'soiling_light soiling_moderate soiling_heavy level_problematic level_bad',\n    '_FillValue': 255,\n    'zlib': True}},\n  'lat': {'type': 'f8',\n   'attributes': {'standard_name': 'latitude',\n    'units': 'degree_north',\n    'valid_range': [-90.0, 90.0],\n    '_FillValue': -9999.0,\n    'zlib': True}},\n  'lon': {'type': 'f8',\n   'attributes': {'standard_name': 'longitude',\n    'units': 'degree_east',\n    'valid_range': [-180.0, 180.0],\n    '_FillValue': -99999.0,\n    'zlib': True}},\n  'iadc': {'type': 'u4',\n   'attributes': {'standard_name': 'index',\n    'comment': 'index to map gps to adc records',\n    'units': '-',\n    '_FillValue': 4294967295,\n    'zlib': True}},\n  'adctime': {'type': 'u4',\n   'attributes': {'standard_name': 'time',\n    '_FillValue': 4294967295,\n    'zlib': True}},\n  'time': {'type': 'f8',\n   'attributes': {'standard_name': 'time', 'zlib': True}}}}"
     },
     "execution_count": 12,
     "metadata": {},
     "output_type": "execute_result"
    }
   ],
   "source": [
    "#|dropcode\n",
    "#|dropout\n",
    "fn_cfjson = pkg_res.resource_filename(\"pyrnet\", \"share/pyrnet_cfmeta.c01.json\")\n",
    "read_cfjson(fn_cfjson)"
   ]
  },
  {
   "cell_type": "markdown",
   "metadata": {
    "collapsed": false
   },
   "source": [
    "### Irradiance values\n",
    "\n",
    "Irradiance values are stored as Voltage for later calibration. Assigning 1500Wm-2 as maximum measurable irradiance from the irradiance sensor. The maximum counts (*valid_max*) measured by the logger can be calculated by:\n",
    " * maximum counts = $\\mathrm{gain}*1500*\\mathrm{C_{max}}*1023/3.3$\n",
    "\n",
    "Most calibration factors are in the area of 7.5 uV/Wm-2, assuming $\\mathrm{C_{max}}=8$uV/Wm-2 for this estimate seems sufficient. All radiation sensors are amplified with a fixed gain of $\\mathrm{gain}=300$.\n",
    "\n",
    "Later (level 1c+) the scale factor will be instrument specific by adding the calibration from V to W m-2\n",
    "\n",
    "### Temperature and humidity\n",
    "\n",
    "\n",
    "Calibration coefficients for Temperature and Humidity DKRF-4000 series (discontinued) https://www.driesen-kern.de/downloads/produktlinie_feuchte.pdf are:\n",
    " * Temperature (T) range :-20-80 degC  from 0-5V\n",
    " * relative Humidity (rH) range: 0-100% from 0-5V\n",
    "\n",
    "As the logger ADC range is 0-3.3V with a 10bit resolution, the sensors are measured through a voltage splitting circuit. Therefore, the ADC counts have to be doubled.\n",
    " * Voltage U [V] = $2* 3.3/1023$ [counts]\n",
    " * T = $-20 + 100*(U/5)$ [degC] = $253.15 + 100*(U/5)$ [K]\n",
    " * rH = $(U/5)$  [%]  = $(U/5)$    [%]\n",
    "\n",
    "### Ancillary data\n",
    "\n",
    "* solar zenith angle (*szen*)\n",
    "    * valid range unpacked: (0,180) (deg)\n",
    "    * packing in u2 integer (unsigned 16bit)\n",
    "        * fill value = $2^{16} - 1$\n",
    "        * scale_factor = $180 /(2^{16}-2)$\n",
    "* solar azimuth angle (*sazi*)\n",
    "    * valid range unpacked: (0,360)\n",
    "    * packing in u2 integer (unsigned 16bit)\n",
    "        * fill_value = $2^{16} -1$\n",
    "        * scale_factor= $360 / (2^{16}-2)$\n",
    "* earth sun distance (*esd*)\n",
    "    * valid range unpacked: (0.98,1.02)\n",
    "    * packing in u2 integer (unsigned 16bit)\n",
    "        * fill_value = $2^{16} -1$\n",
    "        * scale_factor= $(1.02-0.98)/(2^{16}-2)$\n",
    "        * add_offset = 0.98\n"
   ]
  },
  {
   "cell_type": "code",
   "execution_count": 13,
   "metadata": {
    "collapsed": false,
    "ExecuteTime": {
     "end_time": "2024-02-23T15:22:58.296670800Z",
     "start_time": "2024-02-23T15:22:57.656006Z"
    }
   },
   "outputs": [
    {
     "name": "stdout",
     "output_type": "stream",
     "text": [
      "ta scale_factor: 0.12903225806451613\n",
      "ta add_offset: 253.15\n",
      "ta valid_range: [0, 775]\n",
      "\n",
      "rh scale_factor: 0.0012903225806451613\n",
      "rh add_offset: 0\n",
      "rh valid_range: [0, 775]\n",
      "\n",
      "battery scale_factor: 0.0064516129032258064\n",
      "battery add_offset: 0\n",
      "battery valid_range: [0, 992]\n",
      "\n",
      "radflux scale_factor: 1.075268817204301e-05\n",
      "radflux add_offset: 0\n",
      "radflux valid_range: [0, 1023]\n",
      "\n",
      "scale_factor szen (deg): 0.005\n",
      "add_offset szen: 0.0 \n",
      "valid_range szen: [0, 36000]\n",
      "\n",
      "scale_factor sazi (deg): 0.01\n",
      "add_offset sazi: 0.0 \n",
      "valid_range sazi: [0, 36000]\n",
      "\n",
      "scale_factor esd (AU): 1.0000000000000008e-06\n",
      "add_offset esd: 0.98 \n",
      "valid_range esd: [0, 40000]\n",
      "\n",
      "scale_factor lat (degree_north): 1e-06\n",
      "add_offset lat (degree_north): -90.\n",
      "valid_range lat: [0, 180_000_000]\n",
      "\n",
      "scale_factor lon (degree_east): 1e-06\n",
      "add_offset lon (degree_east): -180.\n",
      "valid_range lon: [0, 360_000_000]\n"
     ]
    }
   ],
   "source": [
    "#|dropcode\n",
    "#|dropout\n",
    "sensor_config = {\n",
    "    \"ta\": {\n",
    "        \"C\": 100./5., # K/V\n",
    "        \"offset\": 253.15, # K at 0V\n",
    "        \"gain\": 0.5, # measured over voltage splitter\n",
    "        \"Vmax\": 5, # V output at sensor\n",
    "    },\n",
    "    \"rh\": {\n",
    "        \"C\": 1./5., # 1/V\n",
    "        \"offset\": 0, # 0 at 0V\n",
    "        \"gain\": 0.5, # measured over voltage splitter\n",
    "        \"Vmax\": 5, # V output at sensor\n",
    "    },\n",
    "    \"battery\": {\n",
    "        \"C\": 1., # V(batt)/V\n",
    "        \"offset\": 0, # V at 0V\n",
    "        \"gain\": 0.5, # measured over voltage splitter\n",
    "        \"Vmax\": 6.4, # V output at sensor\n",
    "    },\n",
    "    \"radflux\": {\n",
    "        \"C\": 1., # Vsensor/Vmeasured\n",
    "        \"offset\": 0, # V at 0V\n",
    "        \"gain\": 300, # amplified\n",
    "        \"Vmax\": 1500*8*1e-6, # V output at sensor\n",
    "    },\n",
    "}\n",
    "ADCfac = 3.3/1023. # V/counts\n",
    "for var in sensor_config:\n",
    "    sconf = sensor_config[var]\n",
    "    print(f\"{var} scale_factor: {sconf['C']*ADCfac/sconf['gain']}\")\n",
    "    print(f\"{var} add_offset: {sconf['offset']}\")\n",
    "    print(f\"{var} valid_range: [0, {min((1023, int(sconf['Vmax']*sconf['gain']/ADCfac)))}]\")\n",
    "    print()\n",
    "\n",
    "# szen encoding\n",
    "print(f\"scale_factor szen (deg): {180./(36_000)}\")\n",
    "print(f\"add_offset szen: 0.0 \")\n",
    "print(f\"valid_range szen: [0, {36_000}]\")\n",
    "print()\n",
    "# sazi encoding\n",
    "print(f\"scale_factor sazi (deg): {360./(36_000)}\")\n",
    "print(f\"add_offset sazi: 0.0 \")\n",
    "print(f\"valid_range sazi: [0, {36_000}]\")\n",
    "print()\n",
    "# esd encoding\n",
    "print(f\"scale_factor esd (AU): {(1.02-0.98)/(40_000)}\")\n",
    "print(f\"add_offset esd: 0.98 \")\n",
    "print(f\"valid_range esd: [0, {40_000}]\")\n",
    "print()\n",
    "# lat encoding\n",
    "print(f\"scale_factor lat (degree_north): {(90.-(-90.))/180_000_000}\")\n",
    "print(f\"add_offset lat (degree_north): -90.\")\n",
    "print(f\"valid_range lat: [0, 180_000_000]\")\n",
    "print()\n",
    "# lon encoding\n",
    "print(f\"scale_factor lon (degree_east): {(180.-(-180.))/360_000_000}\")\n",
    "print(f\"add_offset lon (degree_east): -180.\")\n",
    "print(f\"valid_range lon: [0, 360_000_000]\")\n",
    "print()"
   ]
  },
  {
   "cell_type": "markdown",
   "source": [
    "### Add encoding to netcdf"
   ],
   "metadata": {
    "collapsed": false
   }
  },
  {
   "cell_type": "code",
   "execution_count": 14,
   "metadata": {
    "collapsed": false,
    "ExecuteTime": {
     "end_time": "2024-02-23T15:22:58.296670800Z",
     "start_time": "2024-02-23T15:22:57.679295600Z"
    }
   },
   "outputs": [],
   "source": [
    "#|export\n",
    "def add_encoding(ds, vencode=None):\n",
    "    \"\"\"\n",
    "    Set valid_range attribute and encoding to every variable of the dataset.\n",
    "\n",
    "    Parameters\n",
    "    ----------\n",
    "    ds: xr.Dataset\n",
    "        Dataset of any processing level. The processing level will be\n",
    "        determined by the global attribute 'processing_level'.\n",
    "    vencode: dict or None\n",
    "        Dictionary of encoding attributes by variable name, will be merged with pyrnet default cfmeta. The default is None.\n",
    "\n",
    "    Returns\n",
    "    -------\n",
    "    xr.Dataset\n",
    "        The input dataset but with encoding and valid_range attribute.\n",
    "    \"\"\"\n",
    "    # prepare netcdf encoding\n",
    "    _, vattrs_default, vencode_default = get_cfmeta()\n",
    "\n",
    "    # Add valid range temporary to encoding dict.\n",
    "    # As valid_range is not implemented in xarray encoding,\n",
    "    #  it has to be stored as a variable attribute later.\n",
    "    for k in vencode_default:\n",
    "        if \"valid_range\" in vencode_default[k]:\n",
    "            continue\n",
    "        if \"valid_range\" not in vattrs_default[k]:\n",
    "            continue\n",
    "        vencode_default = assoc_in(vencode_default,\n",
    "                                   [k,'valid_range'],\n",
    "                                   vattrs_default[k]['valid_range'])\n",
    "        \n",
    "    # merge input and default with preference on input\n",
    "    if vencode is None:\n",
    "        vencode = vencode_default\n",
    "    else:\n",
    "        a = vencode_default.copy()\n",
    "        b = vencode.copy()\n",
    "        vencode = {}\n",
    "        for k in set(a)-set(b):\n",
    "            vencode.update({k:a[k]})\n",
    "        for k in set(a)&set(b):\n",
    "            vencode.update({k: {**a[k],**b[k]}})\n",
    "        for k in set(b)-set(a):\n",
    "            vencode.update({k:b[k]})\n",
    "\n",
    "    # add encoding to Dataset\n",
    "    for k, v in vencode.items():\n",
    "        if k not in ds:\n",
    "            continue\n",
    "        for ki in [key for key in ds if key.startswith(k)]:\n",
    "            ds[ki].encoding.update(v)\n",
    "        if \"valid_range\" not in vencode[k]:\n",
    "            continue\n",
    "        # add valid_range to variable attributes\n",
    "        for ki in [key for key in ds if key.startswith(k)]:\n",
    "            ds[ki].attrs.update({\n",
    "                'valid_range': vencode[k]['valid_range']\n",
    "            })\n",
    "            \n",
    "    # add encoding to coords\n",
    "    if ds.processing_level=='l1a':\n",
    "        ds[\"gpstime\"].encoding.update({\n",
    "            **vencode[\"time\"],\n",
    "            \"units\": f\"seconds since {np.datetime_as_string(ds.gpstime.data[0], unit='D')}T00:00Z\",\n",
    "        })\n",
    "        ds[\"maintenancetime\"].encoding.update({\n",
    "            **vencode[\"time\"],\n",
    "            \"units\": f\"seconds since {np.datetime_as_string(ds.maintenancetime.data[0], unit='D')}T00:00Z\",\n",
    "        })\n",
    "        ds[\"adctime\"].encoding.update({\n",
    "            **vencode[\"adctime\"],\n",
    "            \"units\": \"milliseconds\"\n",
    "        })\n",
    "        ds[\"station\"].encoding.update({\n",
    "            **vencode[\"station\"]\n",
    "        })\n",
    "    elif ds.processing_level == 'l1b':\n",
    "        ds[\"time\"].encoding.update({\n",
    "            **vencode[\"time\"],\n",
    "            \"units\": f\"seconds since {np.datetime_as_string(ds.time.data[0], unit='D')}T00:00Z\",\n",
    "        })\n",
    "        ds[\"maintenancetime\"].encoding.update({\n",
    "            **vencode[\"time\"],\n",
    "            \"units\": f\"seconds since {np.datetime_as_string(ds.maintenancetime.data[0], unit='D')}T00:00Z\",\n",
    "        })\n",
    "    else:\n",
    "        raise ValueError(\"Dataset has no 'processing_level' attribute.\")\n",
    "    return ds"
   ]
  },
  {
   "cell_type": "markdown",
   "metadata": {
    "collapsed": false
   },
   "source": [
    "## l1a\n",
    "Full resolution unprocessed, uncalibrated data. One data file corresponds to one maintenance period of one PyrNet station.\n",
    "\n",
    "Level *l1a* will be processed from the logger raw data with the following workflow:\n",
    "\n",
    "1. Parse raw logger file\n",
    "    * ```pyrnet.logger.read_records```\n",
    "1. Get maintenance logbook quality flags\n",
    "    * ```pyrnet.reports```\n",
    "1. Get metadata and encoding\n",
    "    * ```pyrnet_cfmeta_l1b.json```\n",
    "1. Make xarray Dataset\n",
    "1. Add variable and global attributes and encoding"
   ]
  },
  {
   "cell_type": "code",
   "execution_count": 15,
   "metadata": {
    "collapsed": false,
    "ExecuteTime": {
     "end_time": "2024-02-23T15:22:58.296670800Z",
     "start_time": "2024-02-23T15:22:57.702527300Z"
    }
   },
   "outputs": [],
   "source": [
    "config = get_config()\n",
    "gattrs, vattrs, vencode = get_cfmeta(config)\n",
    "\n",
    "# update encoding with sensor config for l1a\n",
    "sconfig = get_sensor_config()\n",
    "sencoding = calc_encoding(sconfig, ADCV=3.3, ADCbits=10)"
   ]
  },
  {
   "cell_type": "code",
   "execution_count": 16,
   "metadata": {
    "collapsed": false,
    "ExecuteTime": {
     "end_time": "2024-02-23T15:22:58.296670800Z",
     "start_time": "2024-02-23T15:22:57.735094700Z"
    }
   },
   "outputs": [
    {
     "data": {
      "text/plain": "{'ta': {'scale_factor': 0.12903225806451613,\n  'add_offset': 253.15,\n  '_FillValue': 65535,\n  'zlib': True,\n  'dtype': 'u2',\n  'gzip': True,\n  'complevel': 6,\n  'units': 'K'},\n 'rh': {'scale_factor': 0.0012903225806451613,\n  'add_offset': 0.0,\n  '_FillValue': 65535,\n  'zlib': True,\n  'dtype': 'u2',\n  'gzip': True,\n  'complevel': 6,\n  'units': '1'},\n 'battery_voltage': {'scale_factor': 0.0064516129032258064,\n  'add_offset': 0.0,\n  '_FillValue': 65535,\n  'zlib': True,\n  'dtype': 'u2',\n  'gzip': True,\n  'complevel': 6,\n  'units': 'V'},\n 'ghi': {'scale_factor': 1.075268817204301e-05,\n  'add_offset': 0.0,\n  '_FillValue': 65535,\n  'zlib': True,\n  'dtype': 'u2',\n  'gzip': True,\n  'complevel': 6,\n  'units': 'V'},\n 'gti': {'scale_factor': 1.075268817204301e-05,\n  'add_offset': 0.0,\n  '_FillValue': 65535,\n  'zlib': True,\n  'dtype': 'u2',\n  'gzip': True,\n  'complevel': 6,\n  'units': 'V'},\n 'station': {'_FillValue': 255,\n  'zlib': True,\n  'dtype': 'u1',\n  'gzip': True,\n  'complevel': 6},\n 'szen': {'scale_factor': 0.005,\n  'add_offset': 0.0,\n  '_FillValue': 65535,\n  'zlib': True,\n  'dtype': 'u2',\n  'gzip': True,\n  'complevel': 6},\n 'sazi': {'scale_factor': 0.01,\n  'add_offset': 0.0,\n  '_FillValue': 65535,\n  'zlib': True,\n  'dtype': 'u2',\n  'gzip': True,\n  'complevel': 6},\n 'esd': {'dtype': 'f8', 'gzip': True, 'complevel': 6},\n 'maintenance_flag_ghi': {'_FillValue': 255,\n  'zlib': True,\n  'dtype': 'u1',\n  'gzip': True,\n  'complevel': 6},\n 'maintenance_flag_gti': {'_FillValue': 255,\n  'zlib': True,\n  'dtype': 'u1',\n  'gzip': True,\n  'complevel': 6},\n 'lat': {'_FillValue': -9999.0,\n  'zlib': True,\n  'dtype': 'f8',\n  'gzip': True,\n  'complevel': 6},\n 'lon': {'_FillValue': -99999.0,\n  'zlib': True,\n  'dtype': 'f8',\n  'gzip': True,\n  'complevel': 6},\n 'iadc': {'_FillValue': 4294967295,\n  'zlib': True,\n  'dtype': 'u4',\n  'gzip': True,\n  'complevel': 6},\n 'adctime': {'_FillValue': 4294967295,\n  'zlib': True,\n  'dtype': 'u4',\n  'gzip': True,\n  'complevel': 6},\n 'time': {'zlib': True, 'dtype': 'f8', 'gzip': True, 'complevel': 6}}"
     },
     "execution_count": 16,
     "metadata": {},
     "output_type": "execute_result"
    }
   ],
   "source": [
    "# from toolz import update_in\n",
    "for var,enc in sencoding.items():\n",
    "    for k,v in enc.items():\n",
    "        if k==\"valid_range\":\n",
    "            vattrs = assoc_in(vattrs, [var,k], v)\n",
    "        else:\n",
    "            vencode = assoc_in(vencode, [var,k], v)\n",
    "vencode"
   ]
  },
  {
   "cell_type": "markdown",
   "metadata": {
    "collapsed": false
   },
   "source": [
    "## to l1a_function"
   ]
  },
  {
   "cell_type": "code",
   "execution_count": 17,
   "metadata": {
    "collapsed": false,
    "ExecuteTime": {
     "end_time": "2024-02-23T15:22:58.297670400Z",
     "start_time": "2024-02-23T15:22:57.766392Z"
    }
   },
   "outputs": [],
   "source": [
    "#|export\n",
    "def to_l1a(\n",
    "        fname : str,\n",
    "        *,\n",
    "        station: int,\n",
    "        report: dict|pd.DataFrame|None,\n",
    "        date_of_measure : np.datetime64 = np.datetime64(\"now\"),\n",
    "        config: dict|None = None,\n",
    "        sconfig: dict|None = None,\n",
    "        global_attrs: dict|None = None\n",
    ") -> xr.Dataset|None:\n",
    "    \"\"\"\n",
    "    Read logger raw file and parse it to xarray Dataset. Thereby, attributes and names are defined via cfmeta.json file and sun position values are calculated and added.\n",
    "\n",
    "    Parameters\n",
    "    ----------\n",
    "    fname: str\n",
    "        Path and filename of the raw logger file.\n",
    "    station: int\n",
    "        PyrNet station box number.\n",
    "    report: dict\n",
    "        Parsed maintenance report, see reports.ipynb\n",
    "    bins: int\n",
    "        Number of desired bins per day. The default is 86400, which result in\n",
    "        mean values of 1 second steps per day. Maximum resolution is 86400000.\n",
    "    date_of_measure: float, datetime or datetime64\n",
    "        A rough date of measure  to account for GPS week rollover. If measured in 2019, day resolution is recommended, before 2019 annual resolution, 2020 onwards not required. If float, interpreted as Julian day from 2000-01-01T12:00. the default is np.datetime64(\"now\").\n",
    "    config: dict\n",
    "        Stores processing specific configuration.\n",
    "            * cfjson -> path to cfmeta.json, the default is \"../share/pyrnet_cfmeta.json\"\n",
    "            * stripminutes -> number of minutes to be stripped from the data at start and end,\n",
    "                the default is 5.\n",
    "    sconfig: dict\n",
    "        Config for ADC and amplifier for each sensor. The default is \"../share/pyrnet_sensor_config.json\"\n",
    "    global_attrs: dict\n",
    "        Additional global attributes for the Dataset. (Overrides cfmeta.json attributes)\n",
    "    Returns\n",
    "    -------\n",
    "    xarray.Dataset\n",
    "        Raw Logger data for one measurement periode.\n",
    "    \"\"\"\n",
    "    ADCV = 3.3\n",
    "    ADCbits = 10\n",
    "    \n",
    "    # load and merge  default config\n",
    "    config = get_config(config)\n",
    "    gattrs, vattrs, vencode = get_cfmeta(config)\n",
    "    \n",
    "    # update encoding with sensor config for l1a\n",
    "    sconfig = get_sensor_config(sconfig)\n",
    "    sencoding = calc_encoding(sconfig, ADCV=ADCV, ADCbits=ADCbits)\n",
    "    # update encoding with sensor config for l1a\n",
    "    for var, enc in sencoding.items():\n",
    "        for k, v in enc.items():\n",
    "            if k in [\"units\"]:\n",
    "                vattrs = assoc_in(vattrs, [var, k], v)\n",
    "            else:\n",
    "                vencode = assoc_in(vencode, [var, k], v)\n",
    "                \n",
    "    # update additional global attributes\n",
    "    if global_attrs is not None:\n",
    "        gattrs.update(global_attrs)\n",
    "\n",
    "    date_of_measure = pyrnet.utils.to_datetime64(date_of_measure)\n",
    "\n",
    "    # 1. Parse raw file\n",
    "    rec_adc, rec_gprmc = pyrnet.logger.read_records(fname=fname, date_of_measure=date_of_measure)\n",
    "\n",
    "    if type(rec_adc)==bool or len(rec_gprmc.time)<3:\n",
    "        logger.debug(\"Failed to load the data from the file, because of not enough stable GPS data, or file is empty.\")\n",
    "        return None\n",
    "\n",
    "    # Get ADC time\n",
    "    adctime = pyrnet.logger.get_adc_time(rec_adc)\n",
    "\n",
    "    # ADC to Volts\n",
    "    # Drop time and internal battery sensor output (columns 0 and 1)\n",
    "    adc_volts = ADCV * rec_adc[:,2:] / float(2**ADCbits - 1)\n",
    "\n",
    "    # 2. Get Logbook maintenance quality flags\n",
    "    key = f\"{station:03d}\"\n",
    "    if report is None:\n",
    "        logger.warning(\"No report available!\")\n",
    "        report = {}\n",
    "    if isinstance(report, pd.DataFrame):\n",
    "        logger.info(f\"Parsing report at date {rec_gprmc.time[-1]}\")\n",
    "        report = pyrnet.reports.parse_report(\n",
    "            report,\n",
    "            date_of_maintenance=rec_gprmc.time[-1],\n",
    "            stations=station\n",
    "        )\n",
    "\n",
    "    if key not in report:\n",
    "        logger.warning(f\"No report for station {station} available.\")\n",
    "        warnings.warn(f\"No report for station {station} available.\")\n",
    "        qc_main = pyrnet.reports.get_qcflag(4,3)\n",
    "        qc_extra = pyrnet.reports.get_qcflag(4,3)\n",
    "        vattrs = assoc_in(vattrs, [\"maintenance_flag_ghi\",\"note_general\"], \"No maintenance report!\")\n",
    "        vattrs = assoc_in(vattrs, [\"maintenance_flag_gti\",\"note_general\"], \"No maintenance report!\")\n",
    "        maintenancetime = np.array([rec_gprmc.time.astype('datetime64[ns]')[-1]])\n",
    "    else:\n",
    "        qc_main = pyrnet.reports.get_qcflag(\n",
    "            qc_clean=report[key]['clean'],\n",
    "            qc_level=report[key]['align']\n",
    "        )\n",
    "        qc_extra = pyrnet.reports.get_qcflag(\n",
    "            qc_clean=report[key]['clean2'],\n",
    "            qc_level=report[key]['align2']\n",
    "        )\n",
    "        maintenancetime = np.array([pyrnet.utils.to_datetime64(report[key][\"maintenancetime\"])]) \n",
    "        # add qc notes\n",
    "        vattrs = assoc_in(vattrs, [\"maintenance_flag_ghi\",\"note_general\"], report[key][\"note_general\"])\n",
    "        vattrs = assoc_in(vattrs, [\"maintenance_flag_gti\",\"note_general\"], report[key][\"note_general\"])\n",
    "        vattrs = assoc_in(vattrs, [\"maintenance_flag_ghi\",\"note_clean\"], report[key][\"note_clean\"])\n",
    "        vattrs = assoc_in(vattrs, [\"maintenance_flag_gti\",\"note_clean\"], report[key][\"note_clean2\"])\n",
    "        vattrs = assoc_in(vattrs, [\"maintenance_flag_ghi\",\"note_level\"], report[key][\"note_align\"])\n",
    "        vattrs = assoc_in(vattrs, [\"maintenance_flag_gti\",\"note_level\"], report[key][\"note_align2\"])\n",
    "    qc_main = np.ubyte(qc_main)\n",
    "    qc_extra = np.ubyte(qc_extra)\n",
    "\n",
    "    # 3. Add global meta data\n",
    "    now = pd.to_datetime(np.datetime64(\"now\"))\n",
    "    gattrs.update({\n",
    "        'processing_level': 'l1a',\n",
    "        'product_version': pyrnet_version,\n",
    "        'history': f'{now.isoformat()}: Generated level l1a  by pyrnet version {pyrnet_version}; ',\n",
    "    })\n",
    "    # add site information\n",
    "    if config['sites'] is not None:\n",
    "        sites = pyrnet.utils.read_json(config['file_site'])[config['sites']]\n",
    "        if key in sites:\n",
    "            gattrs.update({ \"site\" : sites[key]})\n",
    "\n",
    "    # add gti angles\n",
    "    # default horizontal\n",
    "    vattrs = assoc_in(vattrs, [\"gti\",\"hangle\"], 0.)\n",
    "    vattrs = assoc_in(vattrs, [\"gti\",\"vangle\"], 0.)\n",
    "    # update with angles from mapping file\n",
    "    if config['gti_angles'] is not None:\n",
    "        gti_angles = pyrnet.utils.read_json(config['file_gti_angles'])[config['gti_angles']]\n",
    "        if key in gti_angles:\n",
    "            hangle = np.nan if gti_angles[key][0] is None else gti_angles[key][0]\n",
    "            vangle = np.nan if gti_angles[key][1] is None else gti_angles[key][1]\n",
    "            vattrs = assoc_in(vattrs, [\"gti\",\"hangle\"], hangle)\n",
    "            vattrs = assoc_in(vattrs, [\"gti\",\"vangle\"], vangle)\n",
    "\n",
    "    if adc_volts.shape[1]<5: # gti data is not available\n",
    "        adc_volts = np.concatenate((adc_volts,-1*np.ones(adc_volts.shape[0])[:,None]),axis=1)\n",
    "\n",
    "    # 8. Make xarray Dataset\n",
    "    values = {}\n",
    "    for k, v in sconfig.items():\n",
    "        offset = sconfig[k][\"offset\"]\n",
    "        gain = sconfig[k][\"gain\"]\n",
    "        C = sconfig[k][\"C\"]\n",
    "        iadc = sconfig[k][\"iadc\"]\n",
    "        volts = adc_volts[:,iadc][:,None]\n",
    "        values.update(\n",
    "            {k: offset + C*volts/gain}\n",
    "        )\n",
    "    ds = xr.Dataset(\n",
    "        data_vars={\n",
    "            \"ghi\": ((\"adctime\",\"station\"), values[\"ghi\"]), # [V]\n",
    "            \"gti\": ((\"adctime\",\"station\"), values[\"gti\"]), # [V]\n",
    "            \"ta\": ((\"adctime\",\"station\"), values[\"ta\"]), # [K]\n",
    "            \"rh\": ((\"adctime\",\"station\"), values[\"rh\"]), # [-]\n",
    "            \"battery_voltage\": ((\"adctime\",\"station\"), values[\"battery_voltage\"]), # [V]\n",
    "            \"lat\": ((\"gpstime\",\"station\"), rec_gprmc.lat[:,None]), # [degN]\n",
    "            \"lon\": ((\"gpstime\",\"station\"), rec_gprmc.lon[:,None]), # [degE]\n",
    "            \"maintenance_flag_ghi\": ((\"maintenancetime\",\"station\"), [[qc_main]]),\n",
    "            \"maintenance_flag_gti\": ((\"maintenancetime\",\"station\"), [[qc_extra]]),\n",
    "            \"iadc\": ((\"gpstime\", \"station\"), rec_gprmc.iadc[:,None])\n",
    "        },\n",
    "        coords={\n",
    "            \"adctime\": (\"adctime\", adctime.astype('timedelta64[ns]')),\n",
    "            \"gpstime\": (\"gpstime\", rec_gprmc.time.astype('datetime64[ns]')),\n",
    "            \"maintenancetime\": (\"maintenancetime\", maintenancetime),\n",
    "            \"station\": (\"station\", [np.ubyte(station)]),\n",
    "        },\n",
    "        attrs=gattrs\n",
    "    )\n",
    "\n",
    "    # drop ocurance of douplicate gps values\n",
    "    ds = ds.drop_duplicates(\"gpstime\")\n",
    "\n",
    "    # add global coverage attributes\n",
    "    ds = update_coverage_meta(ds, timevar=\"gpstime\")\n",
    "\n",
    "    # add attributes to Dataset\n",
    "    for k,v in vattrs.items():\n",
    "        if k not in ds.keys():\n",
    "            continue\n",
    "        ds[k].attrs = v\n",
    "\n",
    "    # add encoding to Dataset\n",
    "    ds = add_encoding(ds, vencode)\n",
    "\n",
    "    return ds"
   ]
  },
  {
   "cell_type": "markdown",
   "metadata": {
    "collapsed": false
   },
   "source": [
    "## Test to_l1a function"
   ]
  },
  {
   "cell_type": "code",
   "execution_count": 18,
   "metadata": {
    "collapsed": false,
    "ExecuteTime": {
     "end_time": "2024-02-23T15:22:58.300660200Z",
     "start_time": "2024-02-23T15:22:57.791743800Z"
    }
   },
   "outputs": [
    {
     "name": "stdout",
     "output_type": "stream",
     "text": [
      "Processing fname:\n",
      "2022-08-30_P0DT0H0M4.935S_pyrnet__s001l1af10Hz.c01.nc\n"
     ]
    },
    {
     "data": {
      "text/plain": "<xarray.Dataset>\nDimensions:               (adctime: 77, station: 1, gpstime: 5,\n                           maintenancetime: 1)\nCoordinates:\n  * adctime               (adctime) timedelta64[ns] 00:00:00 ... 00:00:07.600000\n  * gpstime               (gpstime) datetime64[ns] 2022-08-30T11:21:04.065000...\n  * maintenancetime       (maintenancetime) datetime64[ns] 2023-05-08T16:09:06\n  * station               (station) uint8 1\nData variables:\n    ghi                   (adctime, station) float64 0.002086 ... 0.002086\n    gti                   (adctime, station) float64 0.001935 ... 0.001935\n    ta                    (adctime, station) float64 294.7 294.7 ... 294.8 295.0\n    rh                    (adctime, station) float64 0.6245 0.6245 ... 0.6297\n    battery_voltage       (adctime, station) float64 6.452 6.439 ... 6.465 6.452\n    lat                   (gpstime, station) float64 51.39 51.39 ... 51.39 51.39\n    lon                   (gpstime, station) float64 11.89 11.89 ... 11.89 11.89\n    maintenance_flag_ghi  (maintenancetime, station) uint8 9\n    maintenance_flag_gti  (maintenancetime, station) uint8 7\n    iadc                  (gpstime, station) uint32 26 35 54 64 74\nAttributes: (12/31)\n    Conventions:               CF-1.10, ACDD-1.3\n    title:                     TROPOS pyranometer network (PyrNet) observatio...\n    history:                   2024-02-23T15:22:57: Generated level l1a  by p...\n    institution:               Leibniz Institute for Tropospheric Research (T...\n    source:                    TROPOS pyranometer network (PyrNet)\n    references:                https://doi.org/10.5194/amt-9-1153-2016\n    ...                        ...\n    geospatial_lon_max:        11.885256666666667\n    geospatial_lon_units:      degE\n    time_coverage_start:       2022-08-30T11:21:04.065000\n    time_coverage_end:         2022-08-30T11:21:09\n    time_coverage_duration:    P0DT0H0M4.935S\n    time_coverage_resolution:  P0DT0H0M1.23375S",
      "text/html": "<div><svg style=\"position: absolute; width: 0; height: 0; overflow: hidden\">\n<defs>\n<symbol id=\"icon-database\" viewBox=\"0 0 32 32\">\n<path d=\"M16 0c-8.837 0-16 2.239-16 5v4c0 2.761 7.163 5 16 5s16-2.239 16-5v-4c0-2.761-7.163-5-16-5z\"></path>\n<path d=\"M16 17c-8.837 0-16-2.239-16-5v6c0 2.761 7.163 5 16 5s16-2.239 16-5v-6c0 2.761-7.163 5-16 5z\"></path>\n<path d=\"M16 26c-8.837 0-16-2.239-16-5v6c0 2.761 7.163 5 16 5s16-2.239 16-5v-6c0 2.761-7.163 5-16 5z\"></path>\n</symbol>\n<symbol id=\"icon-file-text2\" viewBox=\"0 0 32 32\">\n<path d=\"M28.681 7.159c-0.694-0.947-1.662-2.053-2.724-3.116s-2.169-2.030-3.116-2.724c-1.612-1.182-2.393-1.319-2.841-1.319h-15.5c-1.378 0-2.5 1.121-2.5 2.5v27c0 1.378 1.122 2.5 2.5 2.5h23c1.378 0 2.5-1.122 2.5-2.5v-19.5c0-0.448-0.137-1.23-1.319-2.841zM24.543 5.457c0.959 0.959 1.712 1.825 2.268 2.543h-4.811v-4.811c0.718 0.556 1.584 1.309 2.543 2.268zM28 29.5c0 0.271-0.229 0.5-0.5 0.5h-23c-0.271 0-0.5-0.229-0.5-0.5v-27c0-0.271 0.229-0.5 0.5-0.5 0 0 15.499-0 15.5 0v7c0 0.552 0.448 1 1 1h7v19.5z\"></path>\n<path d=\"M23 26h-14c-0.552 0-1-0.448-1-1s0.448-1 1-1h14c0.552 0 1 0.448 1 1s-0.448 1-1 1z\"></path>\n<path d=\"M23 22h-14c-0.552 0-1-0.448-1-1s0.448-1 1-1h14c0.552 0 1 0.448 1 1s-0.448 1-1 1z\"></path>\n<path d=\"M23 18h-14c-0.552 0-1-0.448-1-1s0.448-1 1-1h14c0.552 0 1 0.448 1 1s-0.448 1-1 1z\"></path>\n</symbol>\n</defs>\n</svg>\n<style>/* CSS stylesheet for displaying xarray objects in jupyterlab.\n *\n */\n\n:root {\n  --xr-font-color0: var(--jp-content-font-color0, rgba(0, 0, 0, 1));\n  --xr-font-color2: var(--jp-content-font-color2, rgba(0, 0, 0, 0.54));\n  --xr-font-color3: var(--jp-content-font-color3, rgba(0, 0, 0, 0.38));\n  --xr-border-color: var(--jp-border-color2, #e0e0e0);\n  --xr-disabled-color: var(--jp-layout-color3, #bdbdbd);\n  --xr-background-color: var(--jp-layout-color0, white);\n  --xr-background-color-row-even: var(--jp-layout-color1, white);\n  --xr-background-color-row-odd: var(--jp-layout-color2, #eeeeee);\n}\n\nhtml[theme=dark],\nbody[data-theme=dark],\nbody.vscode-dark {\n  --xr-font-color0: rgba(255, 255, 255, 1);\n  --xr-font-color2: rgba(255, 255, 255, 0.54);\n  --xr-font-color3: rgba(255, 255, 255, 0.38);\n  --xr-border-color: #1F1F1F;\n  --xr-disabled-color: #515151;\n  --xr-background-color: #111111;\n  --xr-background-color-row-even: #111111;\n  --xr-background-color-row-odd: #313131;\n}\n\n.xr-wrap {\n  display: block !important;\n  min-width: 300px;\n  max-width: 700px;\n}\n\n.xr-text-repr-fallback {\n  /* fallback to plain text repr when CSS is not injected (untrusted notebook) */\n  display: none;\n}\n\n.xr-header {\n  padding-top: 6px;\n  padding-bottom: 6px;\n  margin-bottom: 4px;\n  border-bottom: solid 1px var(--xr-border-color);\n}\n\n.xr-header > div,\n.xr-header > ul {\n  display: inline;\n  margin-top: 0;\n  margin-bottom: 0;\n}\n\n.xr-obj-type,\n.xr-array-name {\n  margin-left: 2px;\n  margin-right: 10px;\n}\n\n.xr-obj-type {\n  color: var(--xr-font-color2);\n}\n\n.xr-sections {\n  padding-left: 0 !important;\n  display: grid;\n  grid-template-columns: 150px auto auto 1fr 20px 20px;\n}\n\n.xr-section-item {\n  display: contents;\n}\n\n.xr-section-item input {\n  display: none;\n}\n\n.xr-section-item input + label {\n  color: var(--xr-disabled-color);\n}\n\n.xr-section-item input:enabled + label {\n  cursor: pointer;\n  color: var(--xr-font-color2);\n}\n\n.xr-section-item input:enabled + label:hover {\n  color: var(--xr-font-color0);\n}\n\n.xr-section-summary {\n  grid-column: 1;\n  color: var(--xr-font-color2);\n  font-weight: 500;\n}\n\n.xr-section-summary > span {\n  display: inline-block;\n  padding-left: 0.5em;\n}\n\n.xr-section-summary-in:disabled + label {\n  color: var(--xr-font-color2);\n}\n\n.xr-section-summary-in + label:before {\n  display: inline-block;\n  content: '►';\n  font-size: 11px;\n  width: 15px;\n  text-align: center;\n}\n\n.xr-section-summary-in:disabled + label:before {\n  color: var(--xr-disabled-color);\n}\n\n.xr-section-summary-in:checked + label:before {\n  content: '▼';\n}\n\n.xr-section-summary-in:checked + label > span {\n  display: none;\n}\n\n.xr-section-summary,\n.xr-section-inline-details {\n  padding-top: 4px;\n  padding-bottom: 4px;\n}\n\n.xr-section-inline-details {\n  grid-column: 2 / -1;\n}\n\n.xr-section-details {\n  display: none;\n  grid-column: 1 / -1;\n  margin-bottom: 5px;\n}\n\n.xr-section-summary-in:checked ~ .xr-section-details {\n  display: contents;\n}\n\n.xr-array-wrap {\n  grid-column: 1 / -1;\n  display: grid;\n  grid-template-columns: 20px auto;\n}\n\n.xr-array-wrap > label {\n  grid-column: 1;\n  vertical-align: top;\n}\n\n.xr-preview {\n  color: var(--xr-font-color3);\n}\n\n.xr-array-preview,\n.xr-array-data {\n  padding: 0 5px !important;\n  grid-column: 2;\n}\n\n.xr-array-data,\n.xr-array-in:checked ~ .xr-array-preview {\n  display: none;\n}\n\n.xr-array-in:checked ~ .xr-array-data,\n.xr-array-preview {\n  display: inline-block;\n}\n\n.xr-dim-list {\n  display: inline-block !important;\n  list-style: none;\n  padding: 0 !important;\n  margin: 0;\n}\n\n.xr-dim-list li {\n  display: inline-block;\n  padding: 0;\n  margin: 0;\n}\n\n.xr-dim-list:before {\n  content: '(';\n}\n\n.xr-dim-list:after {\n  content: ')';\n}\n\n.xr-dim-list li:not(:last-child):after {\n  content: ',';\n  padding-right: 5px;\n}\n\n.xr-has-index {\n  font-weight: bold;\n}\n\n.xr-var-list,\n.xr-var-item {\n  display: contents;\n}\n\n.xr-var-item > div,\n.xr-var-item label,\n.xr-var-item > .xr-var-name span {\n  background-color: var(--xr-background-color-row-even);\n  margin-bottom: 0;\n}\n\n.xr-var-item > .xr-var-name:hover span {\n  padding-right: 5px;\n}\n\n.xr-var-list > li:nth-child(odd) > div,\n.xr-var-list > li:nth-child(odd) > label,\n.xr-var-list > li:nth-child(odd) > .xr-var-name span {\n  background-color: var(--xr-background-color-row-odd);\n}\n\n.xr-var-name {\n  grid-column: 1;\n}\n\n.xr-var-dims {\n  grid-column: 2;\n}\n\n.xr-var-dtype {\n  grid-column: 3;\n  text-align: right;\n  color: var(--xr-font-color2);\n}\n\n.xr-var-preview {\n  grid-column: 4;\n}\n\n.xr-index-preview {\n  grid-column: 2 / 5;\n  color: var(--xr-font-color2);\n}\n\n.xr-var-name,\n.xr-var-dims,\n.xr-var-dtype,\n.xr-preview,\n.xr-attrs dt {\n  white-space: nowrap;\n  overflow: hidden;\n  text-overflow: ellipsis;\n  padding-right: 10px;\n}\n\n.xr-var-name:hover,\n.xr-var-dims:hover,\n.xr-var-dtype:hover,\n.xr-attrs dt:hover {\n  overflow: visible;\n  width: auto;\n  z-index: 1;\n}\n\n.xr-var-attrs,\n.xr-var-data,\n.xr-index-data {\n  display: none;\n  background-color: var(--xr-background-color) !important;\n  padding-bottom: 5px !important;\n}\n\n.xr-var-attrs-in:checked ~ .xr-var-attrs,\n.xr-var-data-in:checked ~ .xr-var-data,\n.xr-index-data-in:checked ~ .xr-index-data {\n  display: block;\n}\n\n.xr-var-data > table {\n  float: right;\n}\n\n.xr-var-name span,\n.xr-var-data,\n.xr-index-name div,\n.xr-index-data,\n.xr-attrs {\n  padding-left: 25px !important;\n}\n\n.xr-attrs,\n.xr-var-attrs,\n.xr-var-data,\n.xr-index-data {\n  grid-column: 1 / -1;\n}\n\ndl.xr-attrs {\n  padding: 0;\n  margin: 0;\n  display: grid;\n  grid-template-columns: 125px auto;\n}\n\n.xr-attrs dt,\n.xr-attrs dd {\n  padding: 0;\n  margin: 0;\n  float: left;\n  padding-right: 10px;\n  width: auto;\n}\n\n.xr-attrs dt {\n  font-weight: normal;\n  grid-column: 1;\n}\n\n.xr-attrs dt:hover span {\n  display: inline-block;\n  background: var(--xr-background-color);\n  padding-right: 10px;\n}\n\n.xr-attrs dd {\n  grid-column: 2;\n  white-space: pre-wrap;\n  word-break: break-all;\n}\n\n.xr-icon-database,\n.xr-icon-file-text2,\n.xr-no-icon {\n  display: inline-block;\n  vertical-align: middle;\n  width: 1em;\n  height: 1.5em !important;\n  stroke-width: 0;\n  stroke: currentColor;\n  fill: currentColor;\n}\n</style><pre class='xr-text-repr-fallback'>&lt;xarray.Dataset&gt;\nDimensions:               (adctime: 77, station: 1, gpstime: 5,\n                           maintenancetime: 1)\nCoordinates:\n  * adctime               (adctime) timedelta64[ns] 00:00:00 ... 00:00:07.600000\n  * gpstime               (gpstime) datetime64[ns] 2022-08-30T11:21:04.065000...\n  * maintenancetime       (maintenancetime) datetime64[ns] 2023-05-08T16:09:06\n  * station               (station) uint8 1\nData variables:\n    ghi                   (adctime, station) float64 0.002086 ... 0.002086\n    gti                   (adctime, station) float64 0.001935 ... 0.001935\n    ta                    (adctime, station) float64 294.7 294.7 ... 294.8 295.0\n    rh                    (adctime, station) float64 0.6245 0.6245 ... 0.6297\n    battery_voltage       (adctime, station) float64 6.452 6.439 ... 6.465 6.452\n    lat                   (gpstime, station) float64 51.39 51.39 ... 51.39 51.39\n    lon                   (gpstime, station) float64 11.89 11.89 ... 11.89 11.89\n    maintenance_flag_ghi  (maintenancetime, station) uint8 9\n    maintenance_flag_gti  (maintenancetime, station) uint8 7\n    iadc                  (gpstime, station) uint32 26 35 54 64 74\nAttributes: (12/31)\n    Conventions:               CF-1.10, ACDD-1.3\n    title:                     TROPOS pyranometer network (PyrNet) observatio...\n    history:                   2024-02-23T15:22:57: Generated level l1a  by p...\n    institution:               Leibniz Institute for Tropospheric Research (T...\n    source:                    TROPOS pyranometer network (PyrNet)\n    references:                https://doi.org/10.5194/amt-9-1153-2016\n    ...                        ...\n    geospatial_lon_max:        11.885256666666667\n    geospatial_lon_units:      degE\n    time_coverage_start:       2022-08-30T11:21:04.065000\n    time_coverage_end:         2022-08-30T11:21:09\n    time_coverage_duration:    P0DT0H0M4.935S\n    time_coverage_resolution:  P0DT0H0M1.23375S</pre><div class='xr-wrap' style='display:none'><div class='xr-header'><div class='xr-obj-type'>xarray.Dataset</div></div><ul class='xr-sections'><li class='xr-section-item'><input id='section-492a54b6-15e7-4d65-a03f-cad6e8631b4a' class='xr-section-summary-in' type='checkbox' disabled ><label for='section-492a54b6-15e7-4d65-a03f-cad6e8631b4a' class='xr-section-summary'  title='Expand/collapse section'>Dimensions:</label><div class='xr-section-inline-details'><ul class='xr-dim-list'><li><span class='xr-has-index'>adctime</span>: 77</li><li><span class='xr-has-index'>station</span>: 1</li><li><span class='xr-has-index'>gpstime</span>: 5</li><li><span class='xr-has-index'>maintenancetime</span>: 1</li></ul></div><div class='xr-section-details'></div></li><li class='xr-section-item'><input id='section-70fe6822-baa5-4cd2-8e8c-5d9a3146e66e' class='xr-section-summary-in' type='checkbox'  checked><label for='section-70fe6822-baa5-4cd2-8e8c-5d9a3146e66e' class='xr-section-summary' >Coordinates: <span>(4)</span></label><div class='xr-section-inline-details'></div><div class='xr-section-details'><ul class='xr-var-list'><li class='xr-var-item'><div class='xr-var-name'><span class='xr-has-index'>adctime</span></div><div class='xr-var-dims'>(adctime)</div><div class='xr-var-dtype'>timedelta64[ns]</div><div class='xr-var-preview xr-preview'>00:00:00 ... 00:00:07.600000</div><input id='attrs-10f3bfff-ae45-4367-83e3-657700b4ddaa' class='xr-var-attrs-in' type='checkbox' ><label for='attrs-10f3bfff-ae45-4367-83e3-657700b4ddaa' title='Show/Hide attributes'><svg class='icon xr-icon-file-text2'><use xlink:href='#icon-file-text2'></use></svg></label><input id='data-92390e1d-cd6d-4cb3-9c33-dcc4366ab745' class='xr-var-data-in' type='checkbox'><label for='data-92390e1d-cd6d-4cb3-9c33-dcc4366ab745' title='Show/Hide data repr'><svg class='icon xr-icon-database'><use xlink:href='#icon-database'></use></svg></label><div class='xr-var-attrs'><dl class='xr-attrs'><dt><span>standard_name :</span></dt><dd>time</dd></dl></div><div class='xr-var-data'><pre>array([         0,  100000000,  200000000,  300000000,  400000000,  500000000,\n        600000000,  700000000,  800000000,  900000000, 1000000000, 1100000000,\n       1200000000, 1300000000, 1400000000, 1500000000, 1600000000, 1700000000,\n       1800000000, 1900000000, 2000000000, 2100000000, 2200000000, 2300000000,\n       2400000000, 2500000000, 2600000000, 2700000000, 2800000000, 2900000000,\n       3000000000, 3100000000, 3200000000, 3300000000, 3400000000, 3500000000,\n       3600000000, 3700000000, 3800000000, 3900000000, 4000000000, 4100000000,\n       4200000000, 4300000000, 4400000000, 4500000000, 4600000000, 4700000000,\n       4800000000, 4900000000, 5000000000, 5100000000, 5200000000, 5300000000,\n       5400000000, 5500000000, 5600000000, 5700000000, 5800000000, 5900000000,\n       6000000000, 6100000000, 6200000000, 6300000000, 6400000000, 6500000000,\n       6600000000, 6700000000, 6800000000, 6900000000, 7000000000, 7100000000,\n       7200000000, 7300000000, 7400000000, 7500000000, 7600000000],\n      dtype=&#x27;timedelta64[ns]&#x27;)</pre></div></li><li class='xr-var-item'><div class='xr-var-name'><span class='xr-has-index'>gpstime</span></div><div class='xr-var-dims'>(gpstime)</div><div class='xr-var-dtype'>datetime64[ns]</div><div class='xr-var-preview xr-preview'>2022-08-30T11:21:04.065000 ... 2...</div><input id='attrs-9e366ca4-81d7-4114-b23e-2e9fb0f40e49' class='xr-var-attrs-in' type='checkbox' disabled><label for='attrs-9e366ca4-81d7-4114-b23e-2e9fb0f40e49' title='Show/Hide attributes'><svg class='icon xr-icon-file-text2'><use xlink:href='#icon-file-text2'></use></svg></label><input id='data-3839cb67-e782-42bb-a3e9-59b4203e8e5e' class='xr-var-data-in' type='checkbox'><label for='data-3839cb67-e782-42bb-a3e9-59b4203e8e5e' title='Show/Hide data repr'><svg class='icon xr-icon-database'><use xlink:href='#icon-database'></use></svg></label><div class='xr-var-attrs'><dl class='xr-attrs'></dl></div><div class='xr-var-data'><pre>array([&#x27;2022-08-30T11:21:04.065000000&#x27;, &#x27;2022-08-30T11:21:05.065000000&#x27;,\n       &#x27;2022-08-30T11:21:07.000000000&#x27;, &#x27;2022-08-30T11:21:08.000000000&#x27;,\n       &#x27;2022-08-30T11:21:09.000000000&#x27;], dtype=&#x27;datetime64[ns]&#x27;)</pre></div></li><li class='xr-var-item'><div class='xr-var-name'><span class='xr-has-index'>maintenancetime</span></div><div class='xr-var-dims'>(maintenancetime)</div><div class='xr-var-dtype'>datetime64[ns]</div><div class='xr-var-preview xr-preview'>2023-05-08T16:09:06</div><input id='attrs-165e20a5-d428-417a-ab8f-a52ca97ffac9' class='xr-var-attrs-in' type='checkbox' disabled><label for='attrs-165e20a5-d428-417a-ab8f-a52ca97ffac9' title='Show/Hide attributes'><svg class='icon xr-icon-file-text2'><use xlink:href='#icon-file-text2'></use></svg></label><input id='data-ff73efcd-076c-4bf4-a5ca-337c3e51f8ef' class='xr-var-data-in' type='checkbox'><label for='data-ff73efcd-076c-4bf4-a5ca-337c3e51f8ef' title='Show/Hide data repr'><svg class='icon xr-icon-database'><use xlink:href='#icon-database'></use></svg></label><div class='xr-var-attrs'><dl class='xr-attrs'></dl></div><div class='xr-var-data'><pre>array([&#x27;2023-05-08T16:09:06.000000000&#x27;], dtype=&#x27;datetime64[ns]&#x27;)</pre></div></li><li class='xr-var-item'><div class='xr-var-name'><span class='xr-has-index'>station</span></div><div class='xr-var-dims'>(station)</div><div class='xr-var-dtype'>uint8</div><div class='xr-var-preview xr-preview'>1</div><input id='attrs-90d32636-cec0-47ee-a8a3-a4b5aad11cfc' class='xr-var-attrs-in' type='checkbox' ><label for='attrs-90d32636-cec0-47ee-a8a3-a4b5aad11cfc' title='Show/Hide attributes'><svg class='icon xr-icon-file-text2'><use xlink:href='#icon-file-text2'></use></svg></label><input id='data-0d756c97-caa5-46e6-bcb0-4bdec2939531' class='xr-var-data-in' type='checkbox'><label for='data-0d756c97-caa5-46e6-bcb0-4bdec2939531' title='Show/Hide data repr'><svg class='icon xr-icon-database'><use xlink:href='#icon-database'></use></svg></label><div class='xr-var-attrs'><dl class='xr-attrs'><dt><span>units :</span></dt><dd>-</dd><dt><span>long_name :</span></dt><dd>PyrNet unit box number</dd></dl></div><div class='xr-var-data'><pre>array([1], dtype=uint8)</pre></div></li></ul></div></li><li class='xr-section-item'><input id='section-8f01e8ab-93a5-4f12-ac4d-e48422159aa6' class='xr-section-summary-in' type='checkbox'  checked><label for='section-8f01e8ab-93a5-4f12-ac4d-e48422159aa6' class='xr-section-summary' >Data variables: <span>(10)</span></label><div class='xr-section-inline-details'></div><div class='xr-section-details'><ul class='xr-var-list'><li class='xr-var-item'><div class='xr-var-name'><span>ghi</span></div><div class='xr-var-dims'>(adctime, station)</div><div class='xr-var-dtype'>float64</div><div class='xr-var-preview xr-preview'>0.002086 0.002086 ... 0.002086</div><input id='attrs-e3c9f08b-8090-48b3-801a-22254f16bf50' class='xr-var-attrs-in' type='checkbox' ><label for='attrs-e3c9f08b-8090-48b3-801a-22254f16bf50' title='Show/Hide attributes'><svg class='icon xr-icon-file-text2'><use xlink:href='#icon-file-text2'></use></svg></label><input id='data-bac7e2ce-35e7-4eb2-9b0e-84244d73545d' class='xr-var-data-in' type='checkbox'><label for='data-bac7e2ce-35e7-4eb2-9b0e-84244d73545d' title='Show/Hide data repr'><svg class='icon xr-icon-database'><use xlink:href='#icon-database'></use></svg></label><div class='xr-var-attrs'><dl class='xr-attrs'><dt><span>units :</span></dt><dd>V</dd><dt><span>long_name :</span></dt><dd>downwelling shortwave flux</dd><dt><span>standard_name :</span></dt><dd>downwelling_shortwave_flux_in_air</dd><dt><span>valid_range :</span></dt><dd>[0, 1023]</dd></dl></div><div class='xr-var-data'><pre>array([[0.00208602],\n       [0.00208602],\n       [0.00208602],\n       [0.00208602],\n       [0.00208602],\n       [0.00208602],\n       [0.00208602],\n       [0.00208602],\n       [0.00208602],\n       [0.00208602],\n       [0.00208602],\n       [0.00208602],\n       [0.00208602],\n       [0.00208602],\n       [0.00208602],\n       [0.00208602],\n       [0.00208602],\n       [0.00208602],\n       [0.00208602],\n       [0.00208602],\n...\n       [0.00207527],\n       [0.00208602],\n       [0.00208602],\n       [0.00208602],\n       [0.00208602],\n       [0.00208602],\n       [0.00208602],\n       [0.00208602],\n       [0.00208602],\n       [0.00208602],\n       [0.00208602],\n       [0.00208602],\n       [0.00208602],\n       [0.00208602],\n       [0.00208602],\n       [0.00208602],\n       [0.00208602],\n       [0.00208602],\n       [0.00208602],\n       [0.00208602]])</pre></div></li><li class='xr-var-item'><div class='xr-var-name'><span>gti</span></div><div class='xr-var-dims'>(adctime, station)</div><div class='xr-var-dtype'>float64</div><div class='xr-var-preview xr-preview'>0.001935 0.001935 ... 0.001935</div><input id='attrs-86bb8493-e0c7-4ca2-ae63-5e9c492671aa' class='xr-var-attrs-in' type='checkbox' ><label for='attrs-86bb8493-e0c7-4ca2-ae63-5e9c492671aa' title='Show/Hide attributes'><svg class='icon xr-icon-file-text2'><use xlink:href='#icon-file-text2'></use></svg></label><input id='data-2ab4c923-7a4c-43d5-8e04-4100794c8e28' class='xr-var-data-in' type='checkbox'><label for='data-2ab4c923-7a4c-43d5-8e04-4100794c8e28' title='Show/Hide data repr'><svg class='icon xr-icon-database'><use xlink:href='#icon-database'></use></svg></label><div class='xr-var-attrs'><dl class='xr-attrs'><dt><span>units :</span></dt><dd>V</dd><dt><span>long_name :</span></dt><dd>downwelling shortwave flux measured on secondary platform, might be tilted</dd><dt><span>standard_name :</span></dt><dd>downwelling_shortwave_flux_in_air</dd><dt><span>valid_range :</span></dt><dd>[0, 1023]</dd><dt><span>hangle :</span></dt><dd>0.0</dd><dt><span>vangle :</span></dt><dd>0.0</dd></dl></div><div class='xr-var-data'><pre>array([[0.00193548],\n       [0.00193548],\n       [0.00193548],\n       [0.00193548],\n       [0.00194624],\n       [0.00193548],\n       [0.00194624],\n       [0.00193548],\n       [0.00193548],\n       [0.00193548],\n       [0.00193548],\n       [0.00194624],\n       [0.00193548],\n       [0.00193548],\n       [0.00193548],\n       [0.00193548],\n       [0.00193548],\n       [0.00193548],\n       [0.00193548],\n       [0.00193548],\n...\n       [0.00193548],\n       [0.00193548],\n       [0.00193548],\n       [0.00193548],\n       [0.00193548],\n       [0.00193548],\n       [0.00192473],\n       [0.00192473],\n       [0.00193548],\n       [0.00193548],\n       [0.00193548],\n       [0.00193548],\n       [0.00193548],\n       [0.00193548],\n       [0.00193548],\n       [0.00193548],\n       [0.00193548],\n       [0.00193548],\n       [0.00194624],\n       [0.00193548]])</pre></div></li><li class='xr-var-item'><div class='xr-var-name'><span>ta</span></div><div class='xr-var-dims'>(adctime, station)</div><div class='xr-var-dtype'>float64</div><div class='xr-var-preview xr-preview'>294.7 294.7 294.7 ... 294.8 295.0</div><input id='attrs-2c371dd7-67a2-461c-8747-5cfd17c8ce14' class='xr-var-attrs-in' type='checkbox' ><label for='attrs-2c371dd7-67a2-461c-8747-5cfd17c8ce14' title='Show/Hide attributes'><svg class='icon xr-icon-file-text2'><use xlink:href='#icon-file-text2'></use></svg></label><input id='data-581403cf-b4ed-42a6-81b8-d2dd83d7af75' class='xr-var-data-in' type='checkbox'><label for='data-581403cf-b4ed-42a6-81b8-d2dd83d7af75' title='Show/Hide data repr'><svg class='icon xr-icon-database'><use xlink:href='#icon-database'></use></svg></label><div class='xr-var-attrs'><dl class='xr-attrs'><dt><span>units :</span></dt><dd>K</dd><dt><span>long_name :</span></dt><dd>air temperature</dd><dt><span>standard_name :</span></dt><dd>air_temperature</dd><dt><span>valid_range :</span></dt><dd>[0, 775]</dd></dl></div><div class='xr-var-data'><pre>array([[294.6983871 ],\n       [294.6983871 ],\n       [294.6983871 ],\n       [294.6983871 ],\n       [294.95645161],\n       [294.95645161],\n       [294.6983871 ],\n       [294.6983871 ],\n       [294.6983871 ],\n       [294.6983871 ],\n       [294.6983871 ],\n       [294.82741935],\n       [294.95645161],\n       [294.6983871 ],\n       [294.6983871 ],\n       [294.6983871 ],\n       [294.82741935],\n       [294.6983871 ],\n       [294.82741935],\n       [294.6983871 ],\n...\n       [294.82741935],\n       [294.95645161],\n       [294.6983871 ],\n       [294.6983871 ],\n       [294.82741935],\n       [294.6983871 ],\n       [294.82741935],\n       [294.95645161],\n       [294.6983871 ],\n       [294.6983871 ],\n       [294.6983871 ],\n       [294.82741935],\n       [294.6983871 ],\n       [294.82741935],\n       [294.6983871 ],\n       [294.6983871 ],\n       [294.6983871 ],\n       [294.6983871 ],\n       [294.82741935],\n       [294.95645161]])</pre></div></li><li class='xr-var-item'><div class='xr-var-name'><span>rh</span></div><div class='xr-var-dims'>(adctime, station)</div><div class='xr-var-dtype'>float64</div><div class='xr-var-preview xr-preview'>0.6245 0.6245 ... 0.6297 0.6297</div><input id='attrs-e79741b9-2543-4147-bd6c-45e4ee5f61a3' class='xr-var-attrs-in' type='checkbox' ><label for='attrs-e79741b9-2543-4147-bd6c-45e4ee5f61a3' title='Show/Hide attributes'><svg class='icon xr-icon-file-text2'><use xlink:href='#icon-file-text2'></use></svg></label><input id='data-396c9d9a-2d77-49ef-8c3d-82aa43cac0ca' class='xr-var-data-in' type='checkbox'><label for='data-396c9d9a-2d77-49ef-8c3d-82aa43cac0ca' title='Show/Hide data repr'><svg class='icon xr-icon-database'><use xlink:href='#icon-database'></use></svg></label><div class='xr-var-attrs'><dl class='xr-attrs'><dt><span>units :</span></dt><dd>1</dd><dt><span>long_name :</span></dt><dd>air relative humidity</dd><dt><span>standard_name :</span></dt><dd>relative_humidity</dd><dt><span>valid_range :</span></dt><dd>[0, 775]</dd></dl></div><div class='xr-var-data'><pre>array([[0.62451613],\n       [0.62451613],\n       [0.62451613],\n       [0.62580645],\n       [0.62580645],\n       [0.62580645],\n       [0.62451613],\n       [0.62451613],\n       [0.62451613],\n       [0.62451613],\n       [0.62580645],\n       [0.62709677],\n       [0.62451613],\n       [0.62322581],\n       [0.62451613],\n       [0.62451613],\n       [0.62451613],\n       [0.62580645],\n       [0.62709677],\n       [0.62451613],\n...\n       [0.62967742],\n       [0.6283871 ],\n       [0.62709677],\n       [0.62709677],\n       [0.62709677],\n       [0.62967742],\n       [0.62967742],\n       [0.62967742],\n       [0.62709677],\n       [0.62709677],\n       [0.6283871 ],\n       [0.6283871 ],\n       [0.62967742],\n       [0.62967742],\n       [0.62709677],\n       [0.62709677],\n       [0.62709677],\n       [0.6283871 ],\n       [0.62967742],\n       [0.62967742]])</pre></div></li><li class='xr-var-item'><div class='xr-var-name'><span>battery_voltage</span></div><div class='xr-var-dims'>(adctime, station)</div><div class='xr-var-dtype'>float64</div><div class='xr-var-preview xr-preview'>6.452 6.439 6.445 ... 6.465 6.452</div><input id='attrs-76c84fe7-fe8f-4c78-900d-761a6d0d1feb' class='xr-var-attrs-in' type='checkbox' ><label for='attrs-76c84fe7-fe8f-4c78-900d-761a6d0d1feb' title='Show/Hide attributes'><svg class='icon xr-icon-file-text2'><use xlink:href='#icon-file-text2'></use></svg></label><input id='data-65b63b75-2d03-4e58-bd71-4c471aecc2fa' class='xr-var-data-in' type='checkbox'><label for='data-65b63b75-2d03-4e58-bd71-4c471aecc2fa' title='Show/Hide data repr'><svg class='icon xr-icon-database'><use xlink:href='#icon-database'></use></svg></label><div class='xr-var-attrs'><dl class='xr-attrs'><dt><span>units :</span></dt><dd>V</dd><dt><span>standard_name :</span></dt><dd>battery_voltage</dd><dt><span>valid_range :</span></dt><dd>[0, 992]</dd></dl></div><div class='xr-var-data'><pre>array([[6.4516129 ],\n       [6.43870968],\n       [6.44516129],\n       [6.4516129 ],\n       [6.43870968],\n       [6.43870968],\n       [6.4516129 ],\n       [6.44516129],\n       [6.43870968],\n       [6.4516129 ],\n       [6.44516129],\n       [6.4516129 ],\n       [6.43870968],\n       [6.43870968],\n       [6.43870968],\n       [6.4516129 ],\n       [6.43870968],\n       [6.44516129],\n       [6.44516129],\n       [6.43870968],\n...\n       [6.45806452],\n       [6.43870968],\n       [6.43870968],\n       [6.44516129],\n       [6.43225806],\n       [6.43870968],\n       [6.44516129],\n       [6.4516129 ],\n       [6.46451613],\n       [6.4516129 ],\n       [6.46451613],\n       [6.4516129 ],\n       [6.4516129 ],\n       [6.43870968],\n       [6.43870968],\n       [6.43225806],\n       [6.4516129 ],\n       [6.46451613],\n       [6.46451613],\n       [6.4516129 ]])</pre></div></li><li class='xr-var-item'><div class='xr-var-name'><span>lat</span></div><div class='xr-var-dims'>(gpstime, station)</div><div class='xr-var-dtype'>float64</div><div class='xr-var-preview xr-preview'>51.39 51.39 51.39 51.39 51.39</div><input id='attrs-ed16334c-8d30-474e-a5b6-a36f7d7224e0' class='xr-var-attrs-in' type='checkbox' ><label for='attrs-ed16334c-8d30-474e-a5b6-a36f7d7224e0' title='Show/Hide attributes'><svg class='icon xr-icon-file-text2'><use xlink:href='#icon-file-text2'></use></svg></label><input id='data-91a19791-563b-4857-925a-c3045fe4b785' class='xr-var-data-in' type='checkbox'><label for='data-91a19791-563b-4857-925a-c3045fe4b785' title='Show/Hide data repr'><svg class='icon xr-icon-database'><use xlink:href='#icon-database'></use></svg></label><div class='xr-var-attrs'><dl class='xr-attrs'><dt><span>standard_name :</span></dt><dd>latitude</dd><dt><span>units :</span></dt><dd>degree_north</dd><dt><span>valid_range :</span></dt><dd>[-90.0, 90.0]</dd></dl></div><div class='xr-var-data'><pre>array([[51.39021167],\n       [51.39021167],\n       [51.39021   ],\n       [51.39021   ],\n       [51.39020833]])</pre></div></li><li class='xr-var-item'><div class='xr-var-name'><span>lon</span></div><div class='xr-var-dims'>(gpstime, station)</div><div class='xr-var-dtype'>float64</div><div class='xr-var-preview xr-preview'>11.89 11.89 11.89 11.89 11.89</div><input id='attrs-46d00e26-197f-4797-9a3f-c690bf717832' class='xr-var-attrs-in' type='checkbox' ><label for='attrs-46d00e26-197f-4797-9a3f-c690bf717832' title='Show/Hide attributes'><svg class='icon xr-icon-file-text2'><use xlink:href='#icon-file-text2'></use></svg></label><input id='data-595ffaaa-fdd6-4420-8f77-18b97c65ea97' class='xr-var-data-in' type='checkbox'><label for='data-595ffaaa-fdd6-4420-8f77-18b97c65ea97' title='Show/Hide data repr'><svg class='icon xr-icon-database'><use xlink:href='#icon-database'></use></svg></label><div class='xr-var-attrs'><dl class='xr-attrs'><dt><span>standard_name :</span></dt><dd>longitude</dd><dt><span>units :</span></dt><dd>degree_east</dd><dt><span>valid_range :</span></dt><dd>[-180.0, 180.0]</dd></dl></div><div class='xr-var-data'><pre>array([[11.885255  ],\n       [11.88525667],\n       [11.88525167],\n       [11.88525   ],\n       [11.88524667]])</pre></div></li><li class='xr-var-item'><div class='xr-var-name'><span>maintenance_flag_ghi</span></div><div class='xr-var-dims'>(maintenancetime, station)</div><div class='xr-var-dtype'>uint8</div><div class='xr-var-preview xr-preview'>9</div><input id='attrs-52e9c136-09da-40c0-b1aa-92d4a6d26794' class='xr-var-attrs-in' type='checkbox' ><label for='attrs-52e9c136-09da-40c0-b1aa-92d4a6d26794' title='Show/Hide attributes'><svg class='icon xr-icon-file-text2'><use xlink:href='#icon-file-text2'></use></svg></label><input id='data-b6cfc5be-d171-4596-a7ba-3026d411ba22' class='xr-var-data-in' type='checkbox'><label for='data-b6cfc5be-d171-4596-a7ba-3026d411ba22' title='Show/Hide data repr'><svg class='icon xr-icon-database'><use xlink:href='#icon-database'></use></svg></label><div class='xr-var-attrs'><dl class='xr-attrs'><dt><span>standard_name :</span></dt><dd>quality_flag</dd><dt><span>long_name :</span></dt><dd>Maintenance quality control flags for main pyranometer</dd><dt><span>note :</span></dt><dd>Soiling describes subjectively the coverage of the pyranometer dome with dirt. The level flag is problematic if the bubble of the spirit level touches the reference ring, and bad if it is outside.</dd><dt><span>valid_range :</span></dt><dd>[0, 11]</dd><dt><span>flag_masks :</span></dt><dd>[3, 3, 3, 12, 12]</dd><dt><span>flag_values :</span></dt><dd>[1, 2, 3, 4, 8]</dd><dt><span>flag_meanings :</span></dt><dd>soiling_light soiling_moderate soiling_heavy level_problematic level_bad</dd><dt><span>note_general :</span></dt><dd>222</dd><dt><span>note_clean :</span></dt><dd>testing notes</dd><dt><span>note_level :</span></dt><dd>test</dd></dl></div><div class='xr-var-data'><pre>array([[9]], dtype=uint8)</pre></div></li><li class='xr-var-item'><div class='xr-var-name'><span>maintenance_flag_gti</span></div><div class='xr-var-dims'>(maintenancetime, station)</div><div class='xr-var-dtype'>uint8</div><div class='xr-var-preview xr-preview'>7</div><input id='attrs-119fafc4-e3b5-41b2-b3b6-515a671faf17' class='xr-var-attrs-in' type='checkbox' ><label for='attrs-119fafc4-e3b5-41b2-b3b6-515a671faf17' title='Show/Hide attributes'><svg class='icon xr-icon-file-text2'><use xlink:href='#icon-file-text2'></use></svg></label><input id='data-0d8919e0-5beb-4c94-b2d4-5549e792e5c6' class='xr-var-data-in' type='checkbox'><label for='data-0d8919e0-5beb-4c94-b2d4-5549e792e5c6' title='Show/Hide data repr'><svg class='icon xr-icon-database'><use xlink:href='#icon-database'></use></svg></label><div class='xr-var-attrs'><dl class='xr-attrs'><dt><span>standard_name :</span></dt><dd>quality_flag</dd><dt><span>long_name :</span></dt><dd>Maintenance quality control flags for secondary pyranometer</dd><dt><span>note :</span></dt><dd>Soiling describes subjectively the coverage of the pyranometer dome with dirt. The level flag is problematic if the bubble of the spirit level touches the reference ring, and bad if it is outside.</dd><dt><span>valid_range :</span></dt><dd>[0, 11]</dd><dt><span>flag_masks :</span></dt><dd>[3, 3, 3, 12, 12]</dd><dt><span>flag_values :</span></dt><dd>[1, 2, 3, 4, 8]</dd><dt><span>flag_meanings :</span></dt><dd>soiling_light soiling_moderate soiling_heavy level_problematic level_bad</dd><dt><span>note_general :</span></dt><dd>222</dd><dt><span>note_clean :</span></dt><dd></dd><dt><span>note_level :</span></dt><dd></dd></dl></div><div class='xr-var-data'><pre>array([[7]], dtype=uint8)</pre></div></li><li class='xr-var-item'><div class='xr-var-name'><span>iadc</span></div><div class='xr-var-dims'>(gpstime, station)</div><div class='xr-var-dtype'>uint32</div><div class='xr-var-preview xr-preview'>26 35 54 64 74</div><input id='attrs-c1427433-cbd7-4530-bcaf-67e35e40e21d' class='xr-var-attrs-in' type='checkbox' ><label for='attrs-c1427433-cbd7-4530-bcaf-67e35e40e21d' title='Show/Hide attributes'><svg class='icon xr-icon-file-text2'><use xlink:href='#icon-file-text2'></use></svg></label><input id='data-a8c08510-5c58-4348-9371-a01f6fe8e747' class='xr-var-data-in' type='checkbox'><label for='data-a8c08510-5c58-4348-9371-a01f6fe8e747' title='Show/Hide data repr'><svg class='icon xr-icon-database'><use xlink:href='#icon-database'></use></svg></label><div class='xr-var-attrs'><dl class='xr-attrs'><dt><span>standard_name :</span></dt><dd>index</dd><dt><span>comment :</span></dt><dd>index to map gps to adc records</dd><dt><span>units :</span></dt><dd>-</dd></dl></div><div class='xr-var-data'><pre>array([[26],\n       [35],\n       [54],\n       [64],\n       [74]], dtype=uint32)</pre></div></li></ul></div></li><li class='xr-section-item'><input id='section-40063847-add8-4573-b4e4-802fcd2eaae9' class='xr-section-summary-in' type='checkbox'  ><label for='section-40063847-add8-4573-b4e4-802fcd2eaae9' class='xr-section-summary' >Indexes: <span>(4)</span></label><div class='xr-section-inline-details'></div><div class='xr-section-details'><ul class='xr-var-list'><li class='xr-var-item'><div class='xr-index-name'><div>adctime</div></div><div class='xr-index-preview'>PandasIndex</div><div></div><input id='index-d713afbd-a345-4683-a5ea-673883352534' class='xr-index-data-in' type='checkbox'/><label for='index-d713afbd-a345-4683-a5ea-673883352534' title='Show/Hide index repr'><svg class='icon xr-icon-database'><use xlink:href='#icon-database'></use></svg></label><div class='xr-index-data'><pre>PandasIndex(TimedeltaIndex([       &#x27;0 days 00:00:00&#x27;, &#x27;0 days 00:00:00.100000&#x27;,\n                &#x27;0 days 00:00:00.200000&#x27;, &#x27;0 days 00:00:00.300000&#x27;,\n                &#x27;0 days 00:00:00.400000&#x27;, &#x27;0 days 00:00:00.500000&#x27;,\n                &#x27;0 days 00:00:00.600000&#x27;, &#x27;0 days 00:00:00.700000&#x27;,\n                &#x27;0 days 00:00:00.800000&#x27;, &#x27;0 days 00:00:00.900000&#x27;,\n                       &#x27;0 days 00:00:01&#x27;, &#x27;0 days 00:00:01.100000&#x27;,\n                &#x27;0 days 00:00:01.200000&#x27;, &#x27;0 days 00:00:01.300000&#x27;,\n                &#x27;0 days 00:00:01.400000&#x27;, &#x27;0 days 00:00:01.500000&#x27;,\n                &#x27;0 days 00:00:01.600000&#x27;, &#x27;0 days 00:00:01.700000&#x27;,\n                &#x27;0 days 00:00:01.800000&#x27;, &#x27;0 days 00:00:01.900000&#x27;,\n                       &#x27;0 days 00:00:02&#x27;, &#x27;0 days 00:00:02.100000&#x27;,\n                &#x27;0 days 00:00:02.200000&#x27;, &#x27;0 days 00:00:02.300000&#x27;,\n                &#x27;0 days 00:00:02.400000&#x27;, &#x27;0 days 00:00:02.500000&#x27;,\n                &#x27;0 days 00:00:02.600000&#x27;, &#x27;0 days 00:00:02.700000&#x27;,\n                &#x27;0 days 00:00:02.800000&#x27;, &#x27;0 days 00:00:02.900000&#x27;,\n                       &#x27;0 days 00:00:03&#x27;, &#x27;0 days 00:00:03.100000&#x27;,\n                &#x27;0 days 00:00:03.200000&#x27;, &#x27;0 days 00:00:03.300000&#x27;,\n                &#x27;0 days 00:00:03.400000&#x27;, &#x27;0 days 00:00:03.500000&#x27;,\n                &#x27;0 days 00:00:03.600000&#x27;, &#x27;0 days 00:00:03.700000&#x27;,\n                &#x27;0 days 00:00:03.800000&#x27;, &#x27;0 days 00:00:03.900000&#x27;,\n                       &#x27;0 days 00:00:04&#x27;, &#x27;0 days 00:00:04.100000&#x27;,\n                &#x27;0 days 00:00:04.200000&#x27;, &#x27;0 days 00:00:04.300000&#x27;,\n                &#x27;0 days 00:00:04.400000&#x27;, &#x27;0 days 00:00:04.500000&#x27;,\n                &#x27;0 days 00:00:04.600000&#x27;, &#x27;0 days 00:00:04.700000&#x27;,\n                &#x27;0 days 00:00:04.800000&#x27;, &#x27;0 days 00:00:04.900000&#x27;,\n                       &#x27;0 days 00:00:05&#x27;, &#x27;0 days 00:00:05.100000&#x27;,\n                &#x27;0 days 00:00:05.200000&#x27;, &#x27;0 days 00:00:05.300000&#x27;,\n                &#x27;0 days 00:00:05.400000&#x27;, &#x27;0 days 00:00:05.500000&#x27;,\n                &#x27;0 days 00:00:05.600000&#x27;, &#x27;0 days 00:00:05.700000&#x27;,\n                &#x27;0 days 00:00:05.800000&#x27;, &#x27;0 days 00:00:05.900000&#x27;,\n                       &#x27;0 days 00:00:06&#x27;, &#x27;0 days 00:00:06.100000&#x27;,\n                &#x27;0 days 00:00:06.200000&#x27;, &#x27;0 days 00:00:06.300000&#x27;,\n                &#x27;0 days 00:00:06.400000&#x27;, &#x27;0 days 00:00:06.500000&#x27;,\n                &#x27;0 days 00:00:06.600000&#x27;, &#x27;0 days 00:00:06.700000&#x27;,\n                &#x27;0 days 00:00:06.800000&#x27;, &#x27;0 days 00:00:06.900000&#x27;,\n                       &#x27;0 days 00:00:07&#x27;, &#x27;0 days 00:00:07.100000&#x27;,\n                &#x27;0 days 00:00:07.200000&#x27;, &#x27;0 days 00:00:07.300000&#x27;,\n                &#x27;0 days 00:00:07.400000&#x27;, &#x27;0 days 00:00:07.500000&#x27;,\n                &#x27;0 days 00:00:07.600000&#x27;],\n               dtype=&#x27;timedelta64[ns]&#x27;, name=&#x27;adctime&#x27;, freq=None))</pre></div></li><li class='xr-var-item'><div class='xr-index-name'><div>gpstime</div></div><div class='xr-index-preview'>PandasIndex</div><div></div><input id='index-220c9d09-42c0-404c-bf15-dcc79b792e59' class='xr-index-data-in' type='checkbox'/><label for='index-220c9d09-42c0-404c-bf15-dcc79b792e59' title='Show/Hide index repr'><svg class='icon xr-icon-database'><use xlink:href='#icon-database'></use></svg></label><div class='xr-index-data'><pre>PandasIndex(DatetimeIndex([&#x27;2022-08-30 11:21:04.065000&#x27;, &#x27;2022-08-30 11:21:05.065000&#x27;,\n                      &#x27;2022-08-30 11:21:07&#x27;,        &#x27;2022-08-30 11:21:08&#x27;,\n                      &#x27;2022-08-30 11:21:09&#x27;],\n              dtype=&#x27;datetime64[ns]&#x27;, name=&#x27;gpstime&#x27;, freq=None))</pre></div></li><li class='xr-var-item'><div class='xr-index-name'><div>maintenancetime</div></div><div class='xr-index-preview'>PandasIndex</div><div></div><input id='index-6acb7d79-dcf8-4900-853d-337566ab4284' class='xr-index-data-in' type='checkbox'/><label for='index-6acb7d79-dcf8-4900-853d-337566ab4284' title='Show/Hide index repr'><svg class='icon xr-icon-database'><use xlink:href='#icon-database'></use></svg></label><div class='xr-index-data'><pre>PandasIndex(DatetimeIndex([&#x27;2023-05-08 16:09:06&#x27;], dtype=&#x27;datetime64[ns]&#x27;, name=&#x27;maintenancetime&#x27;, freq=None))</pre></div></li><li class='xr-var-item'><div class='xr-index-name'><div>station</div></div><div class='xr-index-preview'>PandasIndex</div><div></div><input id='index-3b11a0b1-ce99-4501-8943-a8dbaf4d65e8' class='xr-index-data-in' type='checkbox'/><label for='index-3b11a0b1-ce99-4501-8943-a8dbaf4d65e8' title='Show/Hide index repr'><svg class='icon xr-icon-database'><use xlink:href='#icon-database'></use></svg></label><div class='xr-index-data'><pre>PandasIndex(UInt64Index([1], dtype=&#x27;uint64&#x27;, name=&#x27;station&#x27;))</pre></div></li></ul></div></li><li class='xr-section-item'><input id='section-09099282-088c-4fb6-ab3f-594b03012723' class='xr-section-summary-in' type='checkbox'  ><label for='section-09099282-088c-4fb6-ab3f-594b03012723' class='xr-section-summary' >Attributes: <span>(31)</span></label><div class='xr-section-inline-details'></div><div class='xr-section-details'><dl class='xr-attrs'><dt><span>Conventions :</span></dt><dd>CF-1.10, ACDD-1.3</dd><dt><span>title :</span></dt><dd>TROPOS pyranometer network (PyrNet) observational data set</dd><dt><span>history :</span></dt><dd>2024-02-23T15:22:57: Generated level l1a  by pyrnet version 0.1.10+60.gc0e9399.dirty; </dd><dt><span>institution :</span></dt><dd>Leibniz Institute for Tropospheric Research (TROPOS)</dd><dt><span>source :</span></dt><dd>TROPOS pyranometer network (PyrNet)</dd><dt><span>references :</span></dt><dd>https://doi.org/10.5194/amt-9-1153-2016</dd><dt><span>Department :</span></dt><dd>Remote Sensing of Atmospheric Processes</dd><dt><span>Department_team :</span></dt><dd>Clouds, Aerosol and Radiation</dd><dt><span>Address :</span></dt><dd>Permoser Str. 15, 04318 Leipzig, Germany</dd><dt><span>Contact_person :</span></dt><dd>Andreas Macke and the clouds, aerosol and radiation team of the remote sensing department, mailto:andreas.macke@tropos.de</dd><dt><span>Contributor_name :</span></dt><dd></dd><dt><span>Contributor_role :</span></dt><dd></dd><dt><span>Authors_software :</span></dt><dd>Hartwig Deneke, Jonas Witthuhn, mailto:deneke@tropos.de</dd><dt><span>Creator_name :</span></dt><dd></dd><dt><span>Project :</span></dt><dd></dd><dt><span>Standard_name_vocabulary :</span></dt><dd>CF Standard Name Table v81</dd><dt><span>License :</span></dt><dd>CC-BY-SA 3.0</dd><dt><span>TESTNOTE :</span></dt><dd>This is a test note.</dd><dt><span>processing_level :</span></dt><dd>l1a</dd><dt><span>product_version :</span></dt><dd>0.1.10+60.gc0e9399.dirty</dd><dt><span>date_created :</span></dt><dd>2024-02-23T15:22:57</dd><dt><span>geospatial_lat_min :</span></dt><dd>51.390208333333334</dd><dt><span>geospatial_lat_max :</span></dt><dd>51.390211666666666</dd><dt><span>geospatial_lat_units :</span></dt><dd>degN</dd><dt><span>geospatial_lon_min :</span></dt><dd>11.885246666666667</dd><dt><span>geospatial_lon_max :</span></dt><dd>11.885256666666667</dd><dt><span>geospatial_lon_units :</span></dt><dd>degE</dd><dt><span>time_coverage_start :</span></dt><dd>2022-08-30T11:21:04.065000</dd><dt><span>time_coverage_end :</span></dt><dd>2022-08-30T11:21:09</dd><dt><span>time_coverage_duration :</span></dt><dd>P0DT0H0M4.935S</dd><dt><span>time_coverage_resolution :</span></dt><dd>P0DT0H0M1.23375S</dd></dl></div></li></ul></div></div>"
     },
     "execution_count": 18,
     "metadata": {},
     "output_type": "execute_result"
    }
   ],
   "source": [
    "#|dropout\n",
    "fn_report = \"../../example_data/results-survey224783.csv\"\n",
    "fn_data = \"../../example_data/Pyr9_000.bin\"\n",
    "\n",
    "fn_cfmeta = pkg_res.resource_filename(\"pyrnet\", \"share/pyrnet_cfmeta.c01.json\")\n",
    "\n",
    "\n",
    "# parse report\n",
    "df_report = pyrnet.reports.get_responses(fn=\"../../example_data/results-survey224783.csv\")\n",
    "report = pyrnet.reports.parse_report(df_report,\n",
    "                              date_of_maintenance=np.datetime64(\"2023-05-08T12:00\"))\n",
    "# read logger file to xarray\n",
    "ds = to_l1a(\n",
    "    fname=fn_data,\n",
    "    station=1, # actually test data is from station 9, but test reports are for station 1 and 2 only\n",
    "    # bins=86400, # seconds resolution\n",
    "    report=report,\n",
    "    config={\"file_cfmeta\": fn_cfmeta, \"stripminutes\": 0},\n",
    "    global_attrs={\"TESTNOTE\": \"This is a test note.\"}\n",
    ")\n",
    "\n",
    "print(\"Processing fname:\")\n",
    "print(get_fname(ds, freq=\"10Hz\", timevar=\"gpstime\", config=None))\n",
    "\n",
    "ds.to_netcdf(\"../../example_data/to_l1a_output.nc\")\n",
    "ds"
   ]
  },
  {
   "cell_type": "code",
   "execution_count": 19,
   "metadata": {
    "collapsed": false,
    "ExecuteTime": {
     "end_time": "2024-02-23T15:22:59.075260700Z",
     "start_time": "2024-02-23T15:22:57.972972400Z"
    }
   },
   "outputs": [
    {
     "name": "stdout",
     "output_type": "stream",
     "text": [
      "CHECKING NetCDF FILE: ../../example_data/to_l1a_output.nc\n",
      "=====================\n",
      "Using CF Checker Version 4.1.0\n",
      "Checking against CF Version CF-1.8\n",
      "Using Standard Name Table Version 84 (2024-01-19T15:55:10Z)\n",
      "Using Area Type Table Version 11 (06 July 2023)\n",
      "Using Standardized Region Name Table Version 4 (18 December 2018)\n",
      "\n",
      "ERROR: (2.6.1): This netCDF file does not appear to contain CF Convention data.\n",
      "\n",
      "------------------\n",
      "Checking variable: ghi\n",
      "------------------\n",
      "ERROR: (3.1): Units are not consistent with those given in the standard_name table.\n",
      "ERROR: (8.1): must be of type byte, short or int\n",
      "\n",
      "------------------\n",
      "Checking variable: gti\n",
      "------------------\n",
      "ERROR: (3.1): Units are not consistent with those given in the standard_name table.\n",
      "ERROR: (8.1): must be of type byte, short or int\n",
      "\n",
      "------------------\n",
      "Checking variable: ta\n",
      "------------------\n",
      "ERROR: (8.1): must be of type byte, short or int\n",
      "\n",
      "------------------\n",
      "Checking variable: rh\n",
      "------------------\n",
      "ERROR: (8.1): must be of type byte, short or int\n",
      "\n",
      "------------------\n",
      "Checking variable: battery_voltage\n",
      "------------------\n",
      "ERROR: (3.3): Invalid standard_name: battery_voltage\n",
      "ERROR: (8.1): must be of type byte, short or int\n",
      "\n",
      "------------------\n",
      "Checking variable: lat\n",
      "------------------\n",
      "\n",
      "------------------\n",
      "Checking variable: lon\n",
      "------------------\n",
      "\n",
      "------------------\n",
      "Checking variable: maintenance_flag_ghi\n",
      "------------------\n",
      "ERROR: Attribute flag_values of incorrect type (expecting 'Data Variable' type, got 'Numeric' type)\n",
      "\n",
      "------------------\n",
      "Checking variable: maintenance_flag_gti\n",
      "------------------\n",
      "ERROR: Attribute flag_values of incorrect type (expecting 'Data Variable' type, got 'Numeric' type)\n",
      "\n",
      "------------------\n",
      "Checking variable: iadc\n",
      "------------------\n",
      "ERROR: (3.3): Invalid standard_name: index\n",
      "ERROR: (3.1): Invalid units: -\n",
      "\n",
      "------------------\n",
      "Checking variable: adctime\n",
      "------------------\n",
      "WARN: (4.4.1): Use of the calendar and/or month_lengths attributes is recommended for time coordinate variables\n",
      "ERROR: (4.4): Invalid units and/or reference time\n",
      "\n",
      "------------------\n",
      "Checking variable: gpstime\n",
      "------------------\n",
      "WARN: (3): No standard_name or long_name attribute specified\n",
      "\n",
      "------------------\n",
      "Checking variable: maintenancetime\n",
      "------------------\n",
      "WARN: (3): No standard_name or long_name attribute specified\n",
      "\n",
      "------------------\n",
      "Checking variable: station\n",
      "------------------\n",
      "ERROR: (3.1): Invalid units: -\n",
      "\n",
      "ERRORS detected: 15\n",
      "WARNINGS given: 3\n",
      "INFORMATION messages: 0\n"
     ]
    }
   ],
   "source": [
    "import cfchecker.cfchecks\n",
    "init = cfchecker.cfchecks.CFChecker()\n",
    "res = init.checker(\"../../example_data/to_l1a_output.nc\")"
   ]
  },
  {
   "cell_type": "code",
   "execution_count": 20,
   "metadata": {
    "collapsed": false,
    "ExecuteTime": {
     "end_time": "2024-02-23T15:22:59.075260700Z",
     "start_time": "2024-02-23T15:22:58.798082600Z"
    }
   },
   "outputs": [
    {
     "data": {
      "text/plain": "<class 'netCDF4._netCDF4.Dataset'>\nroot group (NETCDF4 data model, file format HDF5):\n    Conventions: CF-1.10, ACDD-1.3\n    title: TROPOS pyranometer network (PyrNet) observational data set\n    history: 2024-02-23T15:22:57: Generated level l1a  by pyrnet version 0.1.10+60.gc0e9399.dirty; \n    institution: Leibniz Institute for Tropospheric Research (TROPOS)\n    source: TROPOS pyranometer network (PyrNet)\n    references: https://doi.org/10.5194/amt-9-1153-2016\n    Department: Remote Sensing of Atmospheric Processes\n    Department_team: Clouds, Aerosol and Radiation\n    Address: Permoser Str. 15, 04318 Leipzig, Germany\n    Contact_person: Andreas Macke and the clouds, aerosol and radiation team of the remote sensing department, mailto:andreas.macke@tropos.de\n    Contributor_name: \n    Contributor_role: \n    Authors_software: Hartwig Deneke, Jonas Witthuhn, mailto:deneke@tropos.de\n    Creator_name: \n    Project: \n    Standard_name_vocabulary: CF Standard Name Table v81\n    License: CC-BY-SA 3.0\n    TESTNOTE: This is a test note.\n    processing_level: l1a\n    product_version: 0.1.10+60.gc0e9399.dirty\n    date_created: 2024-02-23T15:22:57\n    geospatial_lat_min: 51.390208333333334\n    geospatial_lat_max: 51.390211666666666\n    geospatial_lat_units: degN\n    geospatial_lon_min: 11.885246666666667\n    geospatial_lon_max: 11.885256666666667\n    geospatial_lon_units: degE\n    time_coverage_start: 2022-08-30T11:21:04.065000\n    time_coverage_end: 2022-08-30T11:21:09\n    time_coverage_duration: P0DT0H0M4.935S\n    time_coverage_resolution: P0DT0H0M1.23375S\n    dimensions(sizes): adctime(77), station(1), gpstime(5), maintenancetime(1)\n    variables(dimensions): uint16 ghi(adctime, station), uint16 gti(adctime, station), uint16 ta(adctime, station), uint16 rh(adctime, station), uint16 battery_voltage(adctime, station), float64 lat(gpstime, station), float64 lon(gpstime, station), uint8 maintenance_flag_ghi(maintenancetime, station), uint8 maintenance_flag_gti(maintenancetime, station), uint32 iadc(gpstime, station), uint32 adctime(adctime), float64 gpstime(gpstime), float64 maintenancetime(maintenancetime), uint8 station(station)\n    groups: "
     },
     "execution_count": 20,
     "metadata": {},
     "output_type": "execute_result"
    }
   ],
   "source": [
    "#|dropout\n",
    "import netCDF4\n",
    "netCDF4.Dataset(\"../../example_data/to_l1a_output.nc\",'r')"
   ]
  },
  {
   "cell_type": "markdown",
   "metadata": {
    "collapsed": false
   },
   "source": [
    "\n",
    "\n",
    "## l1b\n",
    "Resampled, calibrated data as daily files per station. Resampling is per default to one second, but can be configured.\n"
   ]
  },
  {
   "cell_type": "code",
   "execution_count": 21,
   "metadata": {
    "collapsed": false,
    "ExecuteTime": {
     "end_time": "2024-02-23T15:22:59.091035900Z",
     "start_time": "2024-02-23T15:22:58.822150100Z"
    }
   },
   "outputs": [],
   "source": [
    "fname = \"../../example_data/to_l1a_output.nc\"\n",
    "config = {\n",
    "    \"l1bfreq\": \"1s\",\n",
    "    \"stripminutes\": 5,\n",
    "    \"average_latlon\": True,\n",
    "    \"radflux_varname\": [\"ghi\", \"gti\"]\n",
    "}\n",
    "\n",
    "config = get_config(config)\n",
    "gattrs, vattrs, vencode = get_cfmeta(config)\n"
   ]
  },
  {
   "cell_type": "markdown",
   "metadata": {
    "collapsed": false
   },
   "source": [
    "The l1b data is processed from the l1b data with the following workflow:\n",
    "\n",
    "### Read l1a netcdf\n",
    "Ensure its l1a by checking *processing_level* attribute.\n",
    "\n",
    "### Sync GPS to ADC time\n",
    "Use ```sync_adc_time``` to fit logger ADC timedelta since operation start to GPS timestamps. This is crucial to overcome time drifts and ensure synchronized measurements.\n",
    "\n",
    "### Make dataset with new time\n",
    "Initialize new l1b dataset with the synchronized time as coordinate"
   ]
  },
  {
   "cell_type": "code",
   "execution_count": 22,
   "metadata": {
    "collapsed": false,
    "ExecuteTime": {
     "end_time": "2024-02-23T15:22:59.391537100Z",
     "start_time": "2024-02-23T15:22:58.841413600Z"
    }
   },
   "outputs": [
    {
     "data": {
      "text/plain": "<xarray.Dataset>\nDimensions:          (time: 77, station: 1, maintenancetime: 1)\nCoordinates:\n  * maintenancetime  (maintenancetime) datetime64[ns] 2023-05-08T16:09:06\n  * station          (station) float32 1.0\n  * time             (time) datetime64[ns] 2022-08-30T11:21:01.443000 ... 202...\nData variables:\n    ghi              (time, station) float32 ...\n    gti              (time, station) float32 ...\n    ta               (time, station) float32 ...\n    rh               (time, station) float32 ...\n    battery_voltage  (time, station) float32 ...\nAttributes: (12/31)\n    Conventions:               CF-1.10, ACDD-1.3\n    title:                     TROPOS pyranometer network (PyrNet) observatio...\n    history:                   2024-02-23T15:22:57: Generated level l1a  by p...\n    institution:               Leibniz Institute for Tropospheric Research (T...\n    source:                    TROPOS pyranometer network (PyrNet)\n    references:                https://doi.org/10.5194/amt-9-1153-2016\n    ...                        ...\n    geospatial_lon_max:        11.885256666666667\n    geospatial_lon_units:      degE\n    time_coverage_start:       2022-08-30T11:21:04.065000\n    time_coverage_end:         2022-08-30T11:21:09\n    time_coverage_duration:    P0DT0H0M4.935S\n    time_coverage_resolution:  P0DT0H0M1.23375S",
      "text/html": "<div><svg style=\"position: absolute; width: 0; height: 0; overflow: hidden\">\n<defs>\n<symbol id=\"icon-database\" viewBox=\"0 0 32 32\">\n<path d=\"M16 0c-8.837 0-16 2.239-16 5v4c0 2.761 7.163 5 16 5s16-2.239 16-5v-4c0-2.761-7.163-5-16-5z\"></path>\n<path d=\"M16 17c-8.837 0-16-2.239-16-5v6c0 2.761 7.163 5 16 5s16-2.239 16-5v-6c0 2.761-7.163 5-16 5z\"></path>\n<path d=\"M16 26c-8.837 0-16-2.239-16-5v6c0 2.761 7.163 5 16 5s16-2.239 16-5v-6c0 2.761-7.163 5-16 5z\"></path>\n</symbol>\n<symbol id=\"icon-file-text2\" viewBox=\"0 0 32 32\">\n<path d=\"M28.681 7.159c-0.694-0.947-1.662-2.053-2.724-3.116s-2.169-2.030-3.116-2.724c-1.612-1.182-2.393-1.319-2.841-1.319h-15.5c-1.378 0-2.5 1.121-2.5 2.5v27c0 1.378 1.122 2.5 2.5 2.5h23c1.378 0 2.5-1.122 2.5-2.5v-19.5c0-0.448-0.137-1.23-1.319-2.841zM24.543 5.457c0.959 0.959 1.712 1.825 2.268 2.543h-4.811v-4.811c0.718 0.556 1.584 1.309 2.543 2.268zM28 29.5c0 0.271-0.229 0.5-0.5 0.5h-23c-0.271 0-0.5-0.229-0.5-0.5v-27c0-0.271 0.229-0.5 0.5-0.5 0 0 15.499-0 15.5 0v7c0 0.552 0.448 1 1 1h7v19.5z\"></path>\n<path d=\"M23 26h-14c-0.552 0-1-0.448-1-1s0.448-1 1-1h14c0.552 0 1 0.448 1 1s-0.448 1-1 1z\"></path>\n<path d=\"M23 22h-14c-0.552 0-1-0.448-1-1s0.448-1 1-1h14c0.552 0 1 0.448 1 1s-0.448 1-1 1z\"></path>\n<path d=\"M23 18h-14c-0.552 0-1-0.448-1-1s0.448-1 1-1h14c0.552 0 1 0.448 1 1s-0.448 1-1 1z\"></path>\n</symbol>\n</defs>\n</svg>\n<style>/* CSS stylesheet for displaying xarray objects in jupyterlab.\n *\n */\n\n:root {\n  --xr-font-color0: var(--jp-content-font-color0, rgba(0, 0, 0, 1));\n  --xr-font-color2: var(--jp-content-font-color2, rgba(0, 0, 0, 0.54));\n  --xr-font-color3: var(--jp-content-font-color3, rgba(0, 0, 0, 0.38));\n  --xr-border-color: var(--jp-border-color2, #e0e0e0);\n  --xr-disabled-color: var(--jp-layout-color3, #bdbdbd);\n  --xr-background-color: var(--jp-layout-color0, white);\n  --xr-background-color-row-even: var(--jp-layout-color1, white);\n  --xr-background-color-row-odd: var(--jp-layout-color2, #eeeeee);\n}\n\nhtml[theme=dark],\nbody[data-theme=dark],\nbody.vscode-dark {\n  --xr-font-color0: rgba(255, 255, 255, 1);\n  --xr-font-color2: rgba(255, 255, 255, 0.54);\n  --xr-font-color3: rgba(255, 255, 255, 0.38);\n  --xr-border-color: #1F1F1F;\n  --xr-disabled-color: #515151;\n  --xr-background-color: #111111;\n  --xr-background-color-row-even: #111111;\n  --xr-background-color-row-odd: #313131;\n}\n\n.xr-wrap {\n  display: block !important;\n  min-width: 300px;\n  max-width: 700px;\n}\n\n.xr-text-repr-fallback {\n  /* fallback to plain text repr when CSS is not injected (untrusted notebook) */\n  display: none;\n}\n\n.xr-header {\n  padding-top: 6px;\n  padding-bottom: 6px;\n  margin-bottom: 4px;\n  border-bottom: solid 1px var(--xr-border-color);\n}\n\n.xr-header > div,\n.xr-header > ul {\n  display: inline;\n  margin-top: 0;\n  margin-bottom: 0;\n}\n\n.xr-obj-type,\n.xr-array-name {\n  margin-left: 2px;\n  margin-right: 10px;\n}\n\n.xr-obj-type {\n  color: var(--xr-font-color2);\n}\n\n.xr-sections {\n  padding-left: 0 !important;\n  display: grid;\n  grid-template-columns: 150px auto auto 1fr 20px 20px;\n}\n\n.xr-section-item {\n  display: contents;\n}\n\n.xr-section-item input {\n  display: none;\n}\n\n.xr-section-item input + label {\n  color: var(--xr-disabled-color);\n}\n\n.xr-section-item input:enabled + label {\n  cursor: pointer;\n  color: var(--xr-font-color2);\n}\n\n.xr-section-item input:enabled + label:hover {\n  color: var(--xr-font-color0);\n}\n\n.xr-section-summary {\n  grid-column: 1;\n  color: var(--xr-font-color2);\n  font-weight: 500;\n}\n\n.xr-section-summary > span {\n  display: inline-block;\n  padding-left: 0.5em;\n}\n\n.xr-section-summary-in:disabled + label {\n  color: var(--xr-font-color2);\n}\n\n.xr-section-summary-in + label:before {\n  display: inline-block;\n  content: '►';\n  font-size: 11px;\n  width: 15px;\n  text-align: center;\n}\n\n.xr-section-summary-in:disabled + label:before {\n  color: var(--xr-disabled-color);\n}\n\n.xr-section-summary-in:checked + label:before {\n  content: '▼';\n}\n\n.xr-section-summary-in:checked + label > span {\n  display: none;\n}\n\n.xr-section-summary,\n.xr-section-inline-details {\n  padding-top: 4px;\n  padding-bottom: 4px;\n}\n\n.xr-section-inline-details {\n  grid-column: 2 / -1;\n}\n\n.xr-section-details {\n  display: none;\n  grid-column: 1 / -1;\n  margin-bottom: 5px;\n}\n\n.xr-section-summary-in:checked ~ .xr-section-details {\n  display: contents;\n}\n\n.xr-array-wrap {\n  grid-column: 1 / -1;\n  display: grid;\n  grid-template-columns: 20px auto;\n}\n\n.xr-array-wrap > label {\n  grid-column: 1;\n  vertical-align: top;\n}\n\n.xr-preview {\n  color: var(--xr-font-color3);\n}\n\n.xr-array-preview,\n.xr-array-data {\n  padding: 0 5px !important;\n  grid-column: 2;\n}\n\n.xr-array-data,\n.xr-array-in:checked ~ .xr-array-preview {\n  display: none;\n}\n\n.xr-array-in:checked ~ .xr-array-data,\n.xr-array-preview {\n  display: inline-block;\n}\n\n.xr-dim-list {\n  display: inline-block !important;\n  list-style: none;\n  padding: 0 !important;\n  margin: 0;\n}\n\n.xr-dim-list li {\n  display: inline-block;\n  padding: 0;\n  margin: 0;\n}\n\n.xr-dim-list:before {\n  content: '(';\n}\n\n.xr-dim-list:after {\n  content: ')';\n}\n\n.xr-dim-list li:not(:last-child):after {\n  content: ',';\n  padding-right: 5px;\n}\n\n.xr-has-index {\n  font-weight: bold;\n}\n\n.xr-var-list,\n.xr-var-item {\n  display: contents;\n}\n\n.xr-var-item > div,\n.xr-var-item label,\n.xr-var-item > .xr-var-name span {\n  background-color: var(--xr-background-color-row-even);\n  margin-bottom: 0;\n}\n\n.xr-var-item > .xr-var-name:hover span {\n  padding-right: 5px;\n}\n\n.xr-var-list > li:nth-child(odd) > div,\n.xr-var-list > li:nth-child(odd) > label,\n.xr-var-list > li:nth-child(odd) > .xr-var-name span {\n  background-color: var(--xr-background-color-row-odd);\n}\n\n.xr-var-name {\n  grid-column: 1;\n}\n\n.xr-var-dims {\n  grid-column: 2;\n}\n\n.xr-var-dtype {\n  grid-column: 3;\n  text-align: right;\n  color: var(--xr-font-color2);\n}\n\n.xr-var-preview {\n  grid-column: 4;\n}\n\n.xr-index-preview {\n  grid-column: 2 / 5;\n  color: var(--xr-font-color2);\n}\n\n.xr-var-name,\n.xr-var-dims,\n.xr-var-dtype,\n.xr-preview,\n.xr-attrs dt {\n  white-space: nowrap;\n  overflow: hidden;\n  text-overflow: ellipsis;\n  padding-right: 10px;\n}\n\n.xr-var-name:hover,\n.xr-var-dims:hover,\n.xr-var-dtype:hover,\n.xr-attrs dt:hover {\n  overflow: visible;\n  width: auto;\n  z-index: 1;\n}\n\n.xr-var-attrs,\n.xr-var-data,\n.xr-index-data {\n  display: none;\n  background-color: var(--xr-background-color) !important;\n  padding-bottom: 5px !important;\n}\n\n.xr-var-attrs-in:checked ~ .xr-var-attrs,\n.xr-var-data-in:checked ~ .xr-var-data,\n.xr-index-data-in:checked ~ .xr-index-data {\n  display: block;\n}\n\n.xr-var-data > table {\n  float: right;\n}\n\n.xr-var-name span,\n.xr-var-data,\n.xr-index-name div,\n.xr-index-data,\n.xr-attrs {\n  padding-left: 25px !important;\n}\n\n.xr-attrs,\n.xr-var-attrs,\n.xr-var-data,\n.xr-index-data {\n  grid-column: 1 / -1;\n}\n\ndl.xr-attrs {\n  padding: 0;\n  margin: 0;\n  display: grid;\n  grid-template-columns: 125px auto;\n}\n\n.xr-attrs dt,\n.xr-attrs dd {\n  padding: 0;\n  margin: 0;\n  float: left;\n  padding-right: 10px;\n  width: auto;\n}\n\n.xr-attrs dt {\n  font-weight: normal;\n  grid-column: 1;\n}\n\n.xr-attrs dt:hover span {\n  display: inline-block;\n  background: var(--xr-background-color);\n  padding-right: 10px;\n}\n\n.xr-attrs dd {\n  grid-column: 2;\n  white-space: pre-wrap;\n  word-break: break-all;\n}\n\n.xr-icon-database,\n.xr-icon-file-text2,\n.xr-no-icon {\n  display: inline-block;\n  vertical-align: middle;\n  width: 1em;\n  height: 1.5em !important;\n  stroke-width: 0;\n  stroke: currentColor;\n  fill: currentColor;\n}\n</style><pre class='xr-text-repr-fallback'>&lt;xarray.Dataset&gt;\nDimensions:          (time: 77, station: 1, maintenancetime: 1)\nCoordinates:\n  * maintenancetime  (maintenancetime) datetime64[ns] 2023-05-08T16:09:06\n  * station          (station) float32 1.0\n  * time             (time) datetime64[ns] 2022-08-30T11:21:01.443000 ... 202...\nData variables:\n    ghi              (time, station) float32 ...\n    gti              (time, station) float32 ...\n    ta               (time, station) float32 ...\n    rh               (time, station) float32 ...\n    battery_voltage  (time, station) float32 ...\nAttributes: (12/31)\n    Conventions:               CF-1.10, ACDD-1.3\n    title:                     TROPOS pyranometer network (PyrNet) observatio...\n    history:                   2024-02-23T15:22:57: Generated level l1a  by p...\n    institution:               Leibniz Institute for Tropospheric Research (T...\n    source:                    TROPOS pyranometer network (PyrNet)\n    references:                https://doi.org/10.5194/amt-9-1153-2016\n    ...                        ...\n    geospatial_lon_max:        11.885256666666667\n    geospatial_lon_units:      degE\n    time_coverage_start:       2022-08-30T11:21:04.065000\n    time_coverage_end:         2022-08-30T11:21:09\n    time_coverage_duration:    P0DT0H0M4.935S\n    time_coverage_resolution:  P0DT0H0M1.23375S</pre><div class='xr-wrap' style='display:none'><div class='xr-header'><div class='xr-obj-type'>xarray.Dataset</div></div><ul class='xr-sections'><li class='xr-section-item'><input id='section-f69ca8b5-0876-43be-9c36-08c5f9e92a4f' class='xr-section-summary-in' type='checkbox' disabled ><label for='section-f69ca8b5-0876-43be-9c36-08c5f9e92a4f' class='xr-section-summary'  title='Expand/collapse section'>Dimensions:</label><div class='xr-section-inline-details'><ul class='xr-dim-list'><li><span class='xr-has-index'>time</span>: 77</li><li><span class='xr-has-index'>station</span>: 1</li><li><span class='xr-has-index'>maintenancetime</span>: 1</li></ul></div><div class='xr-section-details'></div></li><li class='xr-section-item'><input id='section-f32b164a-1b91-4449-b5d1-336392bc621a' class='xr-section-summary-in' type='checkbox'  checked><label for='section-f32b164a-1b91-4449-b5d1-336392bc621a' class='xr-section-summary' >Coordinates: <span>(3)</span></label><div class='xr-section-inline-details'></div><div class='xr-section-details'><ul class='xr-var-list'><li class='xr-var-item'><div class='xr-var-name'><span class='xr-has-index'>maintenancetime</span></div><div class='xr-var-dims'>(maintenancetime)</div><div class='xr-var-dtype'>datetime64[ns]</div><div class='xr-var-preview xr-preview'>2023-05-08T16:09:06</div><input id='attrs-d3fc6df2-706d-4fd5-a082-8a2f02c38bd9' class='xr-var-attrs-in' type='checkbox' disabled><label for='attrs-d3fc6df2-706d-4fd5-a082-8a2f02c38bd9' title='Show/Hide attributes'><svg class='icon xr-icon-file-text2'><use xlink:href='#icon-file-text2'></use></svg></label><input id='data-93edaee6-ecd8-4105-90d3-bb1529de1355' class='xr-var-data-in' type='checkbox'><label for='data-93edaee6-ecd8-4105-90d3-bb1529de1355' title='Show/Hide data repr'><svg class='icon xr-icon-database'><use xlink:href='#icon-database'></use></svg></label><div class='xr-var-attrs'><dl class='xr-attrs'></dl></div><div class='xr-var-data'><pre>array([&#x27;2023-05-08T16:09:06.000000000&#x27;], dtype=&#x27;datetime64[ns]&#x27;)</pre></div></li><li class='xr-var-item'><div class='xr-var-name'><span class='xr-has-index'>station</span></div><div class='xr-var-dims'>(station)</div><div class='xr-var-dtype'>float32</div><div class='xr-var-preview xr-preview'>1.0</div><input id='attrs-d4fdb86c-3982-4c08-a1c7-e0f3236b4b18' class='xr-var-attrs-in' type='checkbox' ><label for='attrs-d4fdb86c-3982-4c08-a1c7-e0f3236b4b18' title='Show/Hide attributes'><svg class='icon xr-icon-file-text2'><use xlink:href='#icon-file-text2'></use></svg></label><input id='data-d5fcb14b-a766-425e-bb71-eefe51abfee6' class='xr-var-data-in' type='checkbox'><label for='data-d5fcb14b-a766-425e-bb71-eefe51abfee6' title='Show/Hide data repr'><svg class='icon xr-icon-database'><use xlink:href='#icon-database'></use></svg></label><div class='xr-var-attrs'><dl class='xr-attrs'><dt><span>units :</span></dt><dd>-</dd><dt><span>long_name :</span></dt><dd>PyrNet unit box number</dd></dl></div><div class='xr-var-data'><pre>array([1.], dtype=float32)</pre></div></li><li class='xr-var-item'><div class='xr-var-name'><span class='xr-has-index'>time</span></div><div class='xr-var-dims'>(time)</div><div class='xr-var-dtype'>datetime64[ns]</div><div class='xr-var-preview xr-preview'>2022-08-30T11:21:01.443000 ... 2...</div><input id='attrs-54df97a8-cd89-42be-94bd-eb756a0fdcac' class='xr-var-attrs-in' type='checkbox' disabled><label for='attrs-54df97a8-cd89-42be-94bd-eb756a0fdcac' title='Show/Hide attributes'><svg class='icon xr-icon-file-text2'><use xlink:href='#icon-file-text2'></use></svg></label><input id='data-937e22a2-1fec-43cb-9765-20bdaa1ece3f' class='xr-var-data-in' type='checkbox'><label for='data-937e22a2-1fec-43cb-9765-20bdaa1ece3f' title='Show/Hide data repr'><svg class='icon xr-icon-database'><use xlink:href='#icon-database'></use></svg></label><div class='xr-var-attrs'><dl class='xr-attrs'></dl></div><div class='xr-var-data'><pre>array([&#x27;2022-08-30T11:21:01.443000000&#x27;, &#x27;2022-08-30T11:21:01.545000000&#x27;,\n       &#x27;2022-08-30T11:21:01.647000000&#x27;, &#x27;2022-08-30T11:21:01.750000000&#x27;,\n       &#x27;2022-08-30T11:21:01.852000000&#x27;, &#x27;2022-08-30T11:21:01.955000000&#x27;,\n       &#x27;2022-08-30T11:21:02.057000000&#x27;, &#x27;2022-08-30T11:21:02.160000000&#x27;,\n       &#x27;2022-08-30T11:21:02.262000000&#x27;, &#x27;2022-08-30T11:21:02.364000000&#x27;,\n       &#x27;2022-08-30T11:21:02.467000000&#x27;, &#x27;2022-08-30T11:21:02.569000000&#x27;,\n       &#x27;2022-08-30T11:21:02.672000000&#x27;, &#x27;2022-08-30T11:21:02.774000000&#x27;,\n       &#x27;2022-08-30T11:21:02.877000000&#x27;, &#x27;2022-08-30T11:21:02.979000000&#x27;,\n       &#x27;2022-08-30T11:21:03.081000000&#x27;, &#x27;2022-08-30T11:21:03.184000000&#x27;,\n       &#x27;2022-08-30T11:21:03.286000000&#x27;, &#x27;2022-08-30T11:21:03.389000000&#x27;,\n       &#x27;2022-08-30T11:21:03.491000000&#x27;, &#x27;2022-08-30T11:21:03.594000000&#x27;,\n       &#x27;2022-08-30T11:21:03.696000000&#x27;, &#x27;2022-08-30T11:21:03.799000000&#x27;,\n       &#x27;2022-08-30T11:21:03.901000000&#x27;, &#x27;2022-08-30T11:21:04.003000000&#x27;,\n       &#x27;2022-08-30T11:21:04.106000000&#x27;, &#x27;2022-08-30T11:21:04.208000000&#x27;,\n       &#x27;2022-08-30T11:21:04.311000000&#x27;, &#x27;2022-08-30T11:21:04.413000000&#x27;,\n       &#x27;2022-08-30T11:21:04.516000000&#x27;, &#x27;2022-08-30T11:21:04.618000000&#x27;,\n       &#x27;2022-08-30T11:21:04.720000000&#x27;, &#x27;2022-08-30T11:21:04.823000000&#x27;,\n       &#x27;2022-08-30T11:21:04.925000000&#x27;, &#x27;2022-08-30T11:21:05.028000000&#x27;,\n       &#x27;2022-08-30T11:21:05.130000000&#x27;, &#x27;2022-08-30T11:21:05.233000000&#x27;,\n       &#x27;2022-08-30T11:21:05.335000000&#x27;, &#x27;2022-08-30T11:21:05.438000000&#x27;,\n       &#x27;2022-08-30T11:21:05.540000000&#x27;, &#x27;2022-08-30T11:21:05.642000000&#x27;,\n       &#x27;2022-08-30T11:21:05.745000000&#x27;, &#x27;2022-08-30T11:21:05.847000000&#x27;,\n       &#x27;2022-08-30T11:21:05.950000000&#x27;, &#x27;2022-08-30T11:21:06.052000000&#x27;,\n       &#x27;2022-08-30T11:21:06.155000000&#x27;, &#x27;2022-08-30T11:21:06.257000000&#x27;,\n       &#x27;2022-08-30T11:21:06.359000000&#x27;, &#x27;2022-08-30T11:21:06.462000000&#x27;,\n       &#x27;2022-08-30T11:21:06.564000000&#x27;, &#x27;2022-08-30T11:21:06.667000000&#x27;,\n       &#x27;2022-08-30T11:21:06.769000000&#x27;, &#x27;2022-08-30T11:21:06.872000000&#x27;,\n       &#x27;2022-08-30T11:21:06.974000000&#x27;, &#x27;2022-08-30T11:21:07.077000000&#x27;,\n       &#x27;2022-08-30T11:21:07.179000000&#x27;, &#x27;2022-08-30T11:21:07.281000000&#x27;,\n       &#x27;2022-08-30T11:21:07.384000000&#x27;, &#x27;2022-08-30T11:21:07.486000000&#x27;,\n       &#x27;2022-08-30T11:21:07.589000000&#x27;, &#x27;2022-08-30T11:21:07.691000000&#x27;,\n       &#x27;2022-08-30T11:21:07.794000000&#x27;, &#x27;2022-08-30T11:21:07.896000000&#x27;,\n       &#x27;2022-08-30T11:21:07.998000000&#x27;, &#x27;2022-08-30T11:21:08.101000000&#x27;,\n       &#x27;2022-08-30T11:21:08.203000000&#x27;, &#x27;2022-08-30T11:21:08.306000000&#x27;,\n       &#x27;2022-08-30T11:21:08.408000000&#x27;, &#x27;2022-08-30T11:21:08.511000000&#x27;,\n       &#x27;2022-08-30T11:21:08.613000000&#x27;, &#x27;2022-08-30T11:21:08.715000000&#x27;,\n       &#x27;2022-08-30T11:21:08.818000000&#x27;, &#x27;2022-08-30T11:21:08.920000000&#x27;,\n       &#x27;2022-08-30T11:21:09.023000000&#x27;, &#x27;2022-08-30T11:21:09.125000000&#x27;,\n       &#x27;2022-08-30T11:21:09.228000000&#x27;], dtype=&#x27;datetime64[ns]&#x27;)</pre></div></li></ul></div></li><li class='xr-section-item'><input id='section-c5a12e31-5595-44c9-87a3-85f731ae6de4' class='xr-section-summary-in' type='checkbox'  checked><label for='section-c5a12e31-5595-44c9-87a3-85f731ae6de4' class='xr-section-summary' >Data variables: <span>(5)</span></label><div class='xr-section-inline-details'></div><div class='xr-section-details'><ul class='xr-var-list'><li class='xr-var-item'><div class='xr-var-name'><span>ghi</span></div><div class='xr-var-dims'>(time, station)</div><div class='xr-var-dtype'>float32</div><div class='xr-var-preview xr-preview'>...</div><input id='attrs-e024681c-b2f6-43cb-a93d-2661c33c1caf' class='xr-var-attrs-in' type='checkbox' ><label for='attrs-e024681c-b2f6-43cb-a93d-2661c33c1caf' title='Show/Hide attributes'><svg class='icon xr-icon-file-text2'><use xlink:href='#icon-file-text2'></use></svg></label><input id='data-f082c23c-2739-4e37-b1c3-e2605d14203b' class='xr-var-data-in' type='checkbox'><label for='data-f082c23c-2739-4e37-b1c3-e2605d14203b' title='Show/Hide data repr'><svg class='icon xr-icon-database'><use xlink:href='#icon-database'></use></svg></label><div class='xr-var-attrs'><dl class='xr-attrs'><dt><span>units :</span></dt><dd>V</dd><dt><span>long_name :</span></dt><dd>downwelling shortwave flux</dd><dt><span>standard_name :</span></dt><dd>downwelling_shortwave_flux_in_air</dd><dt><span>valid_range :</span></dt><dd>[   0 1023]</dd></dl></div><div class='xr-var-data'><pre>[77 values with dtype=float32]</pre></div></li><li class='xr-var-item'><div class='xr-var-name'><span>gti</span></div><div class='xr-var-dims'>(time, station)</div><div class='xr-var-dtype'>float32</div><div class='xr-var-preview xr-preview'>...</div><input id='attrs-90a12bbd-61f9-4e29-adea-8d8d909bc27c' class='xr-var-attrs-in' type='checkbox' ><label for='attrs-90a12bbd-61f9-4e29-adea-8d8d909bc27c' title='Show/Hide attributes'><svg class='icon xr-icon-file-text2'><use xlink:href='#icon-file-text2'></use></svg></label><input id='data-564d68c0-3031-49e5-9443-3cfeccbd1af7' class='xr-var-data-in' type='checkbox'><label for='data-564d68c0-3031-49e5-9443-3cfeccbd1af7' title='Show/Hide data repr'><svg class='icon xr-icon-database'><use xlink:href='#icon-database'></use></svg></label><div class='xr-var-attrs'><dl class='xr-attrs'><dt><span>units :</span></dt><dd>V</dd><dt><span>long_name :</span></dt><dd>downwelling shortwave flux measured on secondary platform, might be tilted</dd><dt><span>standard_name :</span></dt><dd>downwelling_shortwave_flux_in_air</dd><dt><span>valid_range :</span></dt><dd>[   0 1023]</dd><dt><span>hangle :</span></dt><dd>0.0</dd><dt><span>vangle :</span></dt><dd>0.0</dd></dl></div><div class='xr-var-data'><pre>[77 values with dtype=float32]</pre></div></li><li class='xr-var-item'><div class='xr-var-name'><span>ta</span></div><div class='xr-var-dims'>(time, station)</div><div class='xr-var-dtype'>float32</div><div class='xr-var-preview xr-preview'>...</div><input id='attrs-41b292e1-1e26-4d2b-96ca-cb05584c19ce' class='xr-var-attrs-in' type='checkbox' ><label for='attrs-41b292e1-1e26-4d2b-96ca-cb05584c19ce' title='Show/Hide attributes'><svg class='icon xr-icon-file-text2'><use xlink:href='#icon-file-text2'></use></svg></label><input id='data-d6421ce1-9866-4280-9835-80683bfadf39' class='xr-var-data-in' type='checkbox'><label for='data-d6421ce1-9866-4280-9835-80683bfadf39' title='Show/Hide data repr'><svg class='icon xr-icon-database'><use xlink:href='#icon-database'></use></svg></label><div class='xr-var-attrs'><dl class='xr-attrs'><dt><span>units :</span></dt><dd>K</dd><dt><span>long_name :</span></dt><dd>air temperature</dd><dt><span>standard_name :</span></dt><dd>air_temperature</dd><dt><span>valid_range :</span></dt><dd>[  0 775]</dd></dl></div><div class='xr-var-data'><pre>[77 values with dtype=float32]</pre></div></li><li class='xr-var-item'><div class='xr-var-name'><span>rh</span></div><div class='xr-var-dims'>(time, station)</div><div class='xr-var-dtype'>float32</div><div class='xr-var-preview xr-preview'>...</div><input id='attrs-45e3788c-a11d-43d8-8867-cd468711f270' class='xr-var-attrs-in' type='checkbox' ><label for='attrs-45e3788c-a11d-43d8-8867-cd468711f270' title='Show/Hide attributes'><svg class='icon xr-icon-file-text2'><use xlink:href='#icon-file-text2'></use></svg></label><input id='data-31b5cd93-b5ce-49fc-99c9-b4878e260aaf' class='xr-var-data-in' type='checkbox'><label for='data-31b5cd93-b5ce-49fc-99c9-b4878e260aaf' title='Show/Hide data repr'><svg class='icon xr-icon-database'><use xlink:href='#icon-database'></use></svg></label><div class='xr-var-attrs'><dl class='xr-attrs'><dt><span>units :</span></dt><dd>1</dd><dt><span>long_name :</span></dt><dd>air relative humidity</dd><dt><span>standard_name :</span></dt><dd>relative_humidity</dd><dt><span>valid_range :</span></dt><dd>[  0 775]</dd></dl></div><div class='xr-var-data'><pre>[77 values with dtype=float32]</pre></div></li><li class='xr-var-item'><div class='xr-var-name'><span>battery_voltage</span></div><div class='xr-var-dims'>(time, station)</div><div class='xr-var-dtype'>float32</div><div class='xr-var-preview xr-preview'>...</div><input id='attrs-8ba5f403-42b1-4400-af0e-5645302c73d3' class='xr-var-attrs-in' type='checkbox' ><label for='attrs-8ba5f403-42b1-4400-af0e-5645302c73d3' title='Show/Hide attributes'><svg class='icon xr-icon-file-text2'><use xlink:href='#icon-file-text2'></use></svg></label><input id='data-d56d6e39-b44e-4f4a-9de0-293c50487a5e' class='xr-var-data-in' type='checkbox'><label for='data-d56d6e39-b44e-4f4a-9de0-293c50487a5e' title='Show/Hide data repr'><svg class='icon xr-icon-database'><use xlink:href='#icon-database'></use></svg></label><div class='xr-var-attrs'><dl class='xr-attrs'><dt><span>units :</span></dt><dd>V</dd><dt><span>standard_name :</span></dt><dd>battery_voltage</dd><dt><span>valid_range :</span></dt><dd>[  0 992]</dd></dl></div><div class='xr-var-data'><pre>[77 values with dtype=float32]</pre></div></li></ul></div></li><li class='xr-section-item'><input id='section-497af26f-6a02-4763-ab3f-d6f73a197641' class='xr-section-summary-in' type='checkbox'  ><label for='section-497af26f-6a02-4763-ab3f-d6f73a197641' class='xr-section-summary' >Indexes: <span>(3)</span></label><div class='xr-section-inline-details'></div><div class='xr-section-details'><ul class='xr-var-list'><li class='xr-var-item'><div class='xr-index-name'><div>maintenancetime</div></div><div class='xr-index-preview'>PandasIndex</div><div></div><input id='index-e76bb236-2a44-464f-a777-ffd361a68e25' class='xr-index-data-in' type='checkbox'/><label for='index-e76bb236-2a44-464f-a777-ffd361a68e25' title='Show/Hide index repr'><svg class='icon xr-icon-database'><use xlink:href='#icon-database'></use></svg></label><div class='xr-index-data'><pre>PandasIndex(DatetimeIndex([&#x27;2023-05-08 16:09:06&#x27;], dtype=&#x27;datetime64[ns]&#x27;, name=&#x27;maintenancetime&#x27;, freq=None))</pre></div></li><li class='xr-var-item'><div class='xr-index-name'><div>station</div></div><div class='xr-index-preview'>PandasIndex</div><div></div><input id='index-53c3b54d-3fa3-4eef-ac25-4a1fa2517ede' class='xr-index-data-in' type='checkbox'/><label for='index-53c3b54d-3fa3-4eef-ac25-4a1fa2517ede' title='Show/Hide index repr'><svg class='icon xr-icon-database'><use xlink:href='#icon-database'></use></svg></label><div class='xr-index-data'><pre>PandasIndex(Float64Index([1.0], dtype=&#x27;float64&#x27;, name=&#x27;station&#x27;))</pre></div></li><li class='xr-var-item'><div class='xr-index-name'><div>time</div></div><div class='xr-index-preview'>PandasIndex</div><div></div><input id='index-f759ebed-04bc-4f88-9440-25030aae7e1f' class='xr-index-data-in' type='checkbox'/><label for='index-f759ebed-04bc-4f88-9440-25030aae7e1f' title='Show/Hide index repr'><svg class='icon xr-icon-database'><use xlink:href='#icon-database'></use></svg></label><div class='xr-index-data'><pre>PandasIndex(DatetimeIndex([&#x27;2022-08-30 11:21:01.443000&#x27;, &#x27;2022-08-30 11:21:01.545000&#x27;,\n               &#x27;2022-08-30 11:21:01.647000&#x27;, &#x27;2022-08-30 11:21:01.750000&#x27;,\n               &#x27;2022-08-30 11:21:01.852000&#x27;, &#x27;2022-08-30 11:21:01.955000&#x27;,\n               &#x27;2022-08-30 11:21:02.057000&#x27;, &#x27;2022-08-30 11:21:02.160000&#x27;,\n               &#x27;2022-08-30 11:21:02.262000&#x27;, &#x27;2022-08-30 11:21:02.364000&#x27;,\n               &#x27;2022-08-30 11:21:02.467000&#x27;, &#x27;2022-08-30 11:21:02.569000&#x27;,\n               &#x27;2022-08-30 11:21:02.672000&#x27;, &#x27;2022-08-30 11:21:02.774000&#x27;,\n               &#x27;2022-08-30 11:21:02.877000&#x27;, &#x27;2022-08-30 11:21:02.979000&#x27;,\n               &#x27;2022-08-30 11:21:03.081000&#x27;, &#x27;2022-08-30 11:21:03.184000&#x27;,\n               &#x27;2022-08-30 11:21:03.286000&#x27;, &#x27;2022-08-30 11:21:03.389000&#x27;,\n               &#x27;2022-08-30 11:21:03.491000&#x27;, &#x27;2022-08-30 11:21:03.594000&#x27;,\n               &#x27;2022-08-30 11:21:03.696000&#x27;, &#x27;2022-08-30 11:21:03.799000&#x27;,\n               &#x27;2022-08-30 11:21:03.901000&#x27;, &#x27;2022-08-30 11:21:04.003000&#x27;,\n               &#x27;2022-08-30 11:21:04.106000&#x27;, &#x27;2022-08-30 11:21:04.208000&#x27;,\n               &#x27;2022-08-30 11:21:04.311000&#x27;, &#x27;2022-08-30 11:21:04.413000&#x27;,\n               &#x27;2022-08-30 11:21:04.516000&#x27;, &#x27;2022-08-30 11:21:04.618000&#x27;,\n               &#x27;2022-08-30 11:21:04.720000&#x27;, &#x27;2022-08-30 11:21:04.823000&#x27;,\n               &#x27;2022-08-30 11:21:04.925000&#x27;, &#x27;2022-08-30 11:21:05.028000&#x27;,\n               &#x27;2022-08-30 11:21:05.130000&#x27;, &#x27;2022-08-30 11:21:05.233000&#x27;,\n               &#x27;2022-08-30 11:21:05.335000&#x27;, &#x27;2022-08-30 11:21:05.438000&#x27;,\n               &#x27;2022-08-30 11:21:05.540000&#x27;, &#x27;2022-08-30 11:21:05.642000&#x27;,\n               &#x27;2022-08-30 11:21:05.745000&#x27;, &#x27;2022-08-30 11:21:05.847000&#x27;,\n               &#x27;2022-08-30 11:21:05.950000&#x27;, &#x27;2022-08-30 11:21:06.052000&#x27;,\n               &#x27;2022-08-30 11:21:06.155000&#x27;, &#x27;2022-08-30 11:21:06.257000&#x27;,\n               &#x27;2022-08-30 11:21:06.359000&#x27;, &#x27;2022-08-30 11:21:06.462000&#x27;,\n               &#x27;2022-08-30 11:21:06.564000&#x27;, &#x27;2022-08-30 11:21:06.667000&#x27;,\n               &#x27;2022-08-30 11:21:06.769000&#x27;, &#x27;2022-08-30 11:21:06.872000&#x27;,\n               &#x27;2022-08-30 11:21:06.974000&#x27;, &#x27;2022-08-30 11:21:07.077000&#x27;,\n               &#x27;2022-08-30 11:21:07.179000&#x27;, &#x27;2022-08-30 11:21:07.281000&#x27;,\n               &#x27;2022-08-30 11:21:07.384000&#x27;, &#x27;2022-08-30 11:21:07.486000&#x27;,\n               &#x27;2022-08-30 11:21:07.589000&#x27;, &#x27;2022-08-30 11:21:07.691000&#x27;,\n               &#x27;2022-08-30 11:21:07.794000&#x27;, &#x27;2022-08-30 11:21:07.896000&#x27;,\n               &#x27;2022-08-30 11:21:07.998000&#x27;, &#x27;2022-08-30 11:21:08.101000&#x27;,\n               &#x27;2022-08-30 11:21:08.203000&#x27;, &#x27;2022-08-30 11:21:08.306000&#x27;,\n               &#x27;2022-08-30 11:21:08.408000&#x27;, &#x27;2022-08-30 11:21:08.511000&#x27;,\n               &#x27;2022-08-30 11:21:08.613000&#x27;, &#x27;2022-08-30 11:21:08.715000&#x27;,\n               &#x27;2022-08-30 11:21:08.818000&#x27;, &#x27;2022-08-30 11:21:08.920000&#x27;,\n               &#x27;2022-08-30 11:21:09.023000&#x27;, &#x27;2022-08-30 11:21:09.125000&#x27;,\n               &#x27;2022-08-30 11:21:09.228000&#x27;],\n              dtype=&#x27;datetime64[ns]&#x27;, name=&#x27;time&#x27;, freq=None))</pre></div></li></ul></div></li><li class='xr-section-item'><input id='section-a27fbedf-c408-4c5e-a362-804470be73a3' class='xr-section-summary-in' type='checkbox'  ><label for='section-a27fbedf-c408-4c5e-a362-804470be73a3' class='xr-section-summary' >Attributes: <span>(31)</span></label><div class='xr-section-inline-details'></div><div class='xr-section-details'><dl class='xr-attrs'><dt><span>Conventions :</span></dt><dd>CF-1.10, ACDD-1.3</dd><dt><span>title :</span></dt><dd>TROPOS pyranometer network (PyrNet) observational data set</dd><dt><span>history :</span></dt><dd>2024-02-23T15:22:57: Generated level l1a  by pyrnet version 0.1.10+60.gc0e9399.dirty; </dd><dt><span>institution :</span></dt><dd>Leibniz Institute for Tropospheric Research (TROPOS)</dd><dt><span>source :</span></dt><dd>TROPOS pyranometer network (PyrNet)</dd><dt><span>references :</span></dt><dd>https://doi.org/10.5194/amt-9-1153-2016</dd><dt><span>Department :</span></dt><dd>Remote Sensing of Atmospheric Processes</dd><dt><span>Department_team :</span></dt><dd>Clouds, Aerosol and Radiation</dd><dt><span>Address :</span></dt><dd>Permoser Str. 15, 04318 Leipzig, Germany</dd><dt><span>Contact_person :</span></dt><dd>Andreas Macke and the clouds, aerosol and radiation team of the remote sensing department, mailto:andreas.macke@tropos.de</dd><dt><span>Contributor_name :</span></dt><dd></dd><dt><span>Contributor_role :</span></dt><dd></dd><dt><span>Authors_software :</span></dt><dd>Hartwig Deneke, Jonas Witthuhn, mailto:deneke@tropos.de</dd><dt><span>Creator_name :</span></dt><dd></dd><dt><span>Project :</span></dt><dd></dd><dt><span>Standard_name_vocabulary :</span></dt><dd>CF Standard Name Table v81</dd><dt><span>License :</span></dt><dd>CC-BY-SA 3.0</dd><dt><span>TESTNOTE :</span></dt><dd>This is a test note.</dd><dt><span>processing_level :</span></dt><dd>l1a</dd><dt><span>product_version :</span></dt><dd>0.1.10+60.gc0e9399.dirty</dd><dt><span>date_created :</span></dt><dd>2024-02-23T15:22:57</dd><dt><span>geospatial_lat_min :</span></dt><dd>51.390208333333334</dd><dt><span>geospatial_lat_max :</span></dt><dd>51.390211666666666</dd><dt><span>geospatial_lat_units :</span></dt><dd>degN</dd><dt><span>geospatial_lon_min :</span></dt><dd>11.885246666666667</dd><dt><span>geospatial_lon_max :</span></dt><dd>11.885256666666667</dd><dt><span>geospatial_lon_units :</span></dt><dd>degE</dd><dt><span>time_coverage_start :</span></dt><dd>2022-08-30T11:21:04.065000</dd><dt><span>time_coverage_end :</span></dt><dd>2022-08-30T11:21:09</dd><dt><span>time_coverage_duration :</span></dt><dd>P0DT0H0M4.935S</dd><dt><span>time_coverage_resolution :</span></dt><dd>P0DT0H0M1.23375S</dd></dl></div></li></ul></div></div>"
     },
     "execution_count": 22,
     "metadata": {},
     "output_type": "execute_result"
    }
   ],
   "source": [
    "#|dropcode\n",
    "#|dropout\n",
    "# 1. Load l1a data\n",
    "ds_l1a = xr.open_dataset(fname)\n",
    "# check correct file\n",
    "if ds_l1a.processing_level != \"l1a\":\n",
    "    raise ValueError(f\"{fname} is not a l1a file.\")\n",
    "\n",
    "\n",
    "# 2. Sync GPS to ADC time\n",
    "adctime = pyrnet.logger.sync_adc_time(\n",
    "    adctime = ds_l1a.adctime.values,\n",
    "    gpstime = ds_l1a.gpstime.values,\n",
    "    iadc = ds_l1a.iadc.squeeze().values.astype(int),\n",
    "    check_results= False\n",
    ")\n",
    "\n",
    "# 3. Create new dataset (l1b) with synced time\n",
    "\n",
    "ds_l1b = ds_l1a.drop_dims('gpstime')\n",
    "ds_l1b = ds_l1b.drop_vars(['maintenance_flag_ghi','maintenance_flag_gti']) # keep only time dependend variables\n",
    "ds_l1b = ds_l1b.assign({'time': ('adctime', adctime)})\n",
    "ds_l1b = ds_l1b.swap_dims({\"adctime\":\"time\"})\n",
    "ds_l1b = ds_l1b.drop_vars(\"adctime\")\n",
    "ds_l1b"
   ]
  },
  {
   "cell_type": "code",
   "execution_count": 23,
   "metadata": {
    "collapsed": false,
    "ExecuteTime": {
     "end_time": "2024-02-23T15:22:59.418781700Z",
     "start_time": "2024-02-23T15:22:59.162511Z"
    }
   },
   "outputs": [],
   "source": [
    "#|hide\n",
    "# dsp = ds_l1b.sel(time=\"2019-07-15\")\n",
    "# plt.figure()\n",
    "# plt.plot(dsp.time, dsp.ghi)\n",
    "# plt.grid()"
   ]
  },
  {
   "cell_type": "markdown",
   "metadata": {
    "collapsed": false
   },
   "source": [
    "### Drop first and last X minutes of data \n",
    "To avoid bad data due to maintenance during start or end of the maintenance interval, a certain amound of minutes is dropped (defined in config).\n",
    "\n",
    "```{note}\n",
    "config.json -> \"stripminutes\"\n",
    "```"
   ]
  },
  {
   "cell_type": "code",
   "execution_count": 24,
   "metadata": {
    "collapsed": false,
    "ExecuteTime": {
     "end_time": "2024-02-23T15:22:59.429935600Z",
     "start_time": "2024-02-23T15:22:59.180602900Z"
    }
   },
   "outputs": [
    {
     "data": {
      "text/plain": "<xarray.Dataset>\nDimensions:          (time: 37, station: 1, maintenancetime: 1)\nCoordinates:\n  * maintenancetime  (maintenancetime) datetime64[ns] 2023-05-08T16:09:06\n  * station          (station) float32 1.0\n  * time             (time) datetime64[ns] 2022-08-30T11:21:03.491000 ... 202...\nData variables:\n    ghi              (time, station) float32 ...\n    gti              (time, station) float32 ...\n    ta               (time, station) float32 ...\n    rh               (time, station) float32 ...\n    battery_voltage  (time, station) float32 ...\nAttributes: (12/31)\n    Conventions:               CF-1.10, ACDD-1.3\n    title:                     TROPOS pyranometer network (PyrNet) observatio...\n    history:                   2024-02-23T15:22:57: Generated level l1a  by p...\n    institution:               Leibniz Institute for Tropospheric Research (T...\n    source:                    TROPOS pyranometer network (PyrNet)\n    references:                https://doi.org/10.5194/amt-9-1153-2016\n    ...                        ...\n    geospatial_lon_max:        11.885256666666667\n    geospatial_lon_units:      degE\n    time_coverage_start:       2022-08-30T11:21:04.065000\n    time_coverage_end:         2022-08-30T11:21:09\n    time_coverage_duration:    P0DT0H0M4.935S\n    time_coverage_resolution:  P0DT0H0M1.23375S",
      "text/html": "<div><svg style=\"position: absolute; width: 0; height: 0; overflow: hidden\">\n<defs>\n<symbol id=\"icon-database\" viewBox=\"0 0 32 32\">\n<path d=\"M16 0c-8.837 0-16 2.239-16 5v4c0 2.761 7.163 5 16 5s16-2.239 16-5v-4c0-2.761-7.163-5-16-5z\"></path>\n<path d=\"M16 17c-8.837 0-16-2.239-16-5v6c0 2.761 7.163 5 16 5s16-2.239 16-5v-6c0 2.761-7.163 5-16 5z\"></path>\n<path d=\"M16 26c-8.837 0-16-2.239-16-5v6c0 2.761 7.163 5 16 5s16-2.239 16-5v-6c0 2.761-7.163 5-16 5z\"></path>\n</symbol>\n<symbol id=\"icon-file-text2\" viewBox=\"0 0 32 32\">\n<path d=\"M28.681 7.159c-0.694-0.947-1.662-2.053-2.724-3.116s-2.169-2.030-3.116-2.724c-1.612-1.182-2.393-1.319-2.841-1.319h-15.5c-1.378 0-2.5 1.121-2.5 2.5v27c0 1.378 1.122 2.5 2.5 2.5h23c1.378 0 2.5-1.122 2.5-2.5v-19.5c0-0.448-0.137-1.23-1.319-2.841zM24.543 5.457c0.959 0.959 1.712 1.825 2.268 2.543h-4.811v-4.811c0.718 0.556 1.584 1.309 2.543 2.268zM28 29.5c0 0.271-0.229 0.5-0.5 0.5h-23c-0.271 0-0.5-0.229-0.5-0.5v-27c0-0.271 0.229-0.5 0.5-0.5 0 0 15.499-0 15.5 0v7c0 0.552 0.448 1 1 1h7v19.5z\"></path>\n<path d=\"M23 26h-14c-0.552 0-1-0.448-1-1s0.448-1 1-1h14c0.552 0 1 0.448 1 1s-0.448 1-1 1z\"></path>\n<path d=\"M23 22h-14c-0.552 0-1-0.448-1-1s0.448-1 1-1h14c0.552 0 1 0.448 1 1s-0.448 1-1 1z\"></path>\n<path d=\"M23 18h-14c-0.552 0-1-0.448-1-1s0.448-1 1-1h14c0.552 0 1 0.448 1 1s-0.448 1-1 1z\"></path>\n</symbol>\n</defs>\n</svg>\n<style>/* CSS stylesheet for displaying xarray objects in jupyterlab.\n *\n */\n\n:root {\n  --xr-font-color0: var(--jp-content-font-color0, rgba(0, 0, 0, 1));\n  --xr-font-color2: var(--jp-content-font-color2, rgba(0, 0, 0, 0.54));\n  --xr-font-color3: var(--jp-content-font-color3, rgba(0, 0, 0, 0.38));\n  --xr-border-color: var(--jp-border-color2, #e0e0e0);\n  --xr-disabled-color: var(--jp-layout-color3, #bdbdbd);\n  --xr-background-color: var(--jp-layout-color0, white);\n  --xr-background-color-row-even: var(--jp-layout-color1, white);\n  --xr-background-color-row-odd: var(--jp-layout-color2, #eeeeee);\n}\n\nhtml[theme=dark],\nbody[data-theme=dark],\nbody.vscode-dark {\n  --xr-font-color0: rgba(255, 255, 255, 1);\n  --xr-font-color2: rgba(255, 255, 255, 0.54);\n  --xr-font-color3: rgba(255, 255, 255, 0.38);\n  --xr-border-color: #1F1F1F;\n  --xr-disabled-color: #515151;\n  --xr-background-color: #111111;\n  --xr-background-color-row-even: #111111;\n  --xr-background-color-row-odd: #313131;\n}\n\n.xr-wrap {\n  display: block !important;\n  min-width: 300px;\n  max-width: 700px;\n}\n\n.xr-text-repr-fallback {\n  /* fallback to plain text repr when CSS is not injected (untrusted notebook) */\n  display: none;\n}\n\n.xr-header {\n  padding-top: 6px;\n  padding-bottom: 6px;\n  margin-bottom: 4px;\n  border-bottom: solid 1px var(--xr-border-color);\n}\n\n.xr-header > div,\n.xr-header > ul {\n  display: inline;\n  margin-top: 0;\n  margin-bottom: 0;\n}\n\n.xr-obj-type,\n.xr-array-name {\n  margin-left: 2px;\n  margin-right: 10px;\n}\n\n.xr-obj-type {\n  color: var(--xr-font-color2);\n}\n\n.xr-sections {\n  padding-left: 0 !important;\n  display: grid;\n  grid-template-columns: 150px auto auto 1fr 20px 20px;\n}\n\n.xr-section-item {\n  display: contents;\n}\n\n.xr-section-item input {\n  display: none;\n}\n\n.xr-section-item input + label {\n  color: var(--xr-disabled-color);\n}\n\n.xr-section-item input:enabled + label {\n  cursor: pointer;\n  color: var(--xr-font-color2);\n}\n\n.xr-section-item input:enabled + label:hover {\n  color: var(--xr-font-color0);\n}\n\n.xr-section-summary {\n  grid-column: 1;\n  color: var(--xr-font-color2);\n  font-weight: 500;\n}\n\n.xr-section-summary > span {\n  display: inline-block;\n  padding-left: 0.5em;\n}\n\n.xr-section-summary-in:disabled + label {\n  color: var(--xr-font-color2);\n}\n\n.xr-section-summary-in + label:before {\n  display: inline-block;\n  content: '►';\n  font-size: 11px;\n  width: 15px;\n  text-align: center;\n}\n\n.xr-section-summary-in:disabled + label:before {\n  color: var(--xr-disabled-color);\n}\n\n.xr-section-summary-in:checked + label:before {\n  content: '▼';\n}\n\n.xr-section-summary-in:checked + label > span {\n  display: none;\n}\n\n.xr-section-summary,\n.xr-section-inline-details {\n  padding-top: 4px;\n  padding-bottom: 4px;\n}\n\n.xr-section-inline-details {\n  grid-column: 2 / -1;\n}\n\n.xr-section-details {\n  display: none;\n  grid-column: 1 / -1;\n  margin-bottom: 5px;\n}\n\n.xr-section-summary-in:checked ~ .xr-section-details {\n  display: contents;\n}\n\n.xr-array-wrap {\n  grid-column: 1 / -1;\n  display: grid;\n  grid-template-columns: 20px auto;\n}\n\n.xr-array-wrap > label {\n  grid-column: 1;\n  vertical-align: top;\n}\n\n.xr-preview {\n  color: var(--xr-font-color3);\n}\n\n.xr-array-preview,\n.xr-array-data {\n  padding: 0 5px !important;\n  grid-column: 2;\n}\n\n.xr-array-data,\n.xr-array-in:checked ~ .xr-array-preview {\n  display: none;\n}\n\n.xr-array-in:checked ~ .xr-array-data,\n.xr-array-preview {\n  display: inline-block;\n}\n\n.xr-dim-list {\n  display: inline-block !important;\n  list-style: none;\n  padding: 0 !important;\n  margin: 0;\n}\n\n.xr-dim-list li {\n  display: inline-block;\n  padding: 0;\n  margin: 0;\n}\n\n.xr-dim-list:before {\n  content: '(';\n}\n\n.xr-dim-list:after {\n  content: ')';\n}\n\n.xr-dim-list li:not(:last-child):after {\n  content: ',';\n  padding-right: 5px;\n}\n\n.xr-has-index {\n  font-weight: bold;\n}\n\n.xr-var-list,\n.xr-var-item {\n  display: contents;\n}\n\n.xr-var-item > div,\n.xr-var-item label,\n.xr-var-item > .xr-var-name span {\n  background-color: var(--xr-background-color-row-even);\n  margin-bottom: 0;\n}\n\n.xr-var-item > .xr-var-name:hover span {\n  padding-right: 5px;\n}\n\n.xr-var-list > li:nth-child(odd) > div,\n.xr-var-list > li:nth-child(odd) > label,\n.xr-var-list > li:nth-child(odd) > .xr-var-name span {\n  background-color: var(--xr-background-color-row-odd);\n}\n\n.xr-var-name {\n  grid-column: 1;\n}\n\n.xr-var-dims {\n  grid-column: 2;\n}\n\n.xr-var-dtype {\n  grid-column: 3;\n  text-align: right;\n  color: var(--xr-font-color2);\n}\n\n.xr-var-preview {\n  grid-column: 4;\n}\n\n.xr-index-preview {\n  grid-column: 2 / 5;\n  color: var(--xr-font-color2);\n}\n\n.xr-var-name,\n.xr-var-dims,\n.xr-var-dtype,\n.xr-preview,\n.xr-attrs dt {\n  white-space: nowrap;\n  overflow: hidden;\n  text-overflow: ellipsis;\n  padding-right: 10px;\n}\n\n.xr-var-name:hover,\n.xr-var-dims:hover,\n.xr-var-dtype:hover,\n.xr-attrs dt:hover {\n  overflow: visible;\n  width: auto;\n  z-index: 1;\n}\n\n.xr-var-attrs,\n.xr-var-data,\n.xr-index-data {\n  display: none;\n  background-color: var(--xr-background-color) !important;\n  padding-bottom: 5px !important;\n}\n\n.xr-var-attrs-in:checked ~ .xr-var-attrs,\n.xr-var-data-in:checked ~ .xr-var-data,\n.xr-index-data-in:checked ~ .xr-index-data {\n  display: block;\n}\n\n.xr-var-data > table {\n  float: right;\n}\n\n.xr-var-name span,\n.xr-var-data,\n.xr-index-name div,\n.xr-index-data,\n.xr-attrs {\n  padding-left: 25px !important;\n}\n\n.xr-attrs,\n.xr-var-attrs,\n.xr-var-data,\n.xr-index-data {\n  grid-column: 1 / -1;\n}\n\ndl.xr-attrs {\n  padding: 0;\n  margin: 0;\n  display: grid;\n  grid-template-columns: 125px auto;\n}\n\n.xr-attrs dt,\n.xr-attrs dd {\n  padding: 0;\n  margin: 0;\n  float: left;\n  padding-right: 10px;\n  width: auto;\n}\n\n.xr-attrs dt {\n  font-weight: normal;\n  grid-column: 1;\n}\n\n.xr-attrs dt:hover span {\n  display: inline-block;\n  background: var(--xr-background-color);\n  padding-right: 10px;\n}\n\n.xr-attrs dd {\n  grid-column: 2;\n  white-space: pre-wrap;\n  word-break: break-all;\n}\n\n.xr-icon-database,\n.xr-icon-file-text2,\n.xr-no-icon {\n  display: inline-block;\n  vertical-align: middle;\n  width: 1em;\n  height: 1.5em !important;\n  stroke-width: 0;\n  stroke: currentColor;\n  fill: currentColor;\n}\n</style><pre class='xr-text-repr-fallback'>&lt;xarray.Dataset&gt;\nDimensions:          (time: 37, station: 1, maintenancetime: 1)\nCoordinates:\n  * maintenancetime  (maintenancetime) datetime64[ns] 2023-05-08T16:09:06\n  * station          (station) float32 1.0\n  * time             (time) datetime64[ns] 2022-08-30T11:21:03.491000 ... 202...\nData variables:\n    ghi              (time, station) float32 ...\n    gti              (time, station) float32 ...\n    ta               (time, station) float32 ...\n    rh               (time, station) float32 ...\n    battery_voltage  (time, station) float32 ...\nAttributes: (12/31)\n    Conventions:               CF-1.10, ACDD-1.3\n    title:                     TROPOS pyranometer network (PyrNet) observatio...\n    history:                   2024-02-23T15:22:57: Generated level l1a  by p...\n    institution:               Leibniz Institute for Tropospheric Research (T...\n    source:                    TROPOS pyranometer network (PyrNet)\n    references:                https://doi.org/10.5194/amt-9-1153-2016\n    ...                        ...\n    geospatial_lon_max:        11.885256666666667\n    geospatial_lon_units:      degE\n    time_coverage_start:       2022-08-30T11:21:04.065000\n    time_coverage_end:         2022-08-30T11:21:09\n    time_coverage_duration:    P0DT0H0M4.935S\n    time_coverage_resolution:  P0DT0H0M1.23375S</pre><div class='xr-wrap' style='display:none'><div class='xr-header'><div class='xr-obj-type'>xarray.Dataset</div></div><ul class='xr-sections'><li class='xr-section-item'><input id='section-5856ab03-12c1-485f-b28f-2e71311ccc67' class='xr-section-summary-in' type='checkbox' disabled ><label for='section-5856ab03-12c1-485f-b28f-2e71311ccc67' class='xr-section-summary'  title='Expand/collapse section'>Dimensions:</label><div class='xr-section-inline-details'><ul class='xr-dim-list'><li><span class='xr-has-index'>time</span>: 37</li><li><span class='xr-has-index'>station</span>: 1</li><li><span class='xr-has-index'>maintenancetime</span>: 1</li></ul></div><div class='xr-section-details'></div></li><li class='xr-section-item'><input id='section-d9bdd6d9-f6e5-47d2-aa30-392515a8ceee' class='xr-section-summary-in' type='checkbox'  checked><label for='section-d9bdd6d9-f6e5-47d2-aa30-392515a8ceee' class='xr-section-summary' >Coordinates: <span>(3)</span></label><div class='xr-section-inline-details'></div><div class='xr-section-details'><ul class='xr-var-list'><li class='xr-var-item'><div class='xr-var-name'><span class='xr-has-index'>maintenancetime</span></div><div class='xr-var-dims'>(maintenancetime)</div><div class='xr-var-dtype'>datetime64[ns]</div><div class='xr-var-preview xr-preview'>2023-05-08T16:09:06</div><input id='attrs-117ab89b-153a-42a4-a3b9-425907680af2' class='xr-var-attrs-in' type='checkbox' disabled><label for='attrs-117ab89b-153a-42a4-a3b9-425907680af2' title='Show/Hide attributes'><svg class='icon xr-icon-file-text2'><use xlink:href='#icon-file-text2'></use></svg></label><input id='data-f8f48089-c3ea-461e-aede-7e9161da0347' class='xr-var-data-in' type='checkbox'><label for='data-f8f48089-c3ea-461e-aede-7e9161da0347' title='Show/Hide data repr'><svg class='icon xr-icon-database'><use xlink:href='#icon-database'></use></svg></label><div class='xr-var-attrs'><dl class='xr-attrs'></dl></div><div class='xr-var-data'><pre>array([&#x27;2023-05-08T16:09:06.000000000&#x27;], dtype=&#x27;datetime64[ns]&#x27;)</pre></div></li><li class='xr-var-item'><div class='xr-var-name'><span class='xr-has-index'>station</span></div><div class='xr-var-dims'>(station)</div><div class='xr-var-dtype'>float32</div><div class='xr-var-preview xr-preview'>1.0</div><input id='attrs-704cf88a-6752-4cd6-983f-70445490d2b0' class='xr-var-attrs-in' type='checkbox' ><label for='attrs-704cf88a-6752-4cd6-983f-70445490d2b0' title='Show/Hide attributes'><svg class='icon xr-icon-file-text2'><use xlink:href='#icon-file-text2'></use></svg></label><input id='data-43ffe76e-986d-4006-ba03-dd3b52b7e559' class='xr-var-data-in' type='checkbox'><label for='data-43ffe76e-986d-4006-ba03-dd3b52b7e559' title='Show/Hide data repr'><svg class='icon xr-icon-database'><use xlink:href='#icon-database'></use></svg></label><div class='xr-var-attrs'><dl class='xr-attrs'><dt><span>units :</span></dt><dd>-</dd><dt><span>long_name :</span></dt><dd>PyrNet unit box number</dd></dl></div><div class='xr-var-data'><pre>array([1.], dtype=float32)</pre></div></li><li class='xr-var-item'><div class='xr-var-name'><span class='xr-has-index'>time</span></div><div class='xr-var-dims'>(time)</div><div class='xr-var-dtype'>datetime64[ns]</div><div class='xr-var-preview xr-preview'>2022-08-30T11:21:03.491000 ... 2...</div><input id='attrs-58820d5e-8c5e-4722-b669-381457acde06' class='xr-var-attrs-in' type='checkbox' disabled><label for='attrs-58820d5e-8c5e-4722-b669-381457acde06' title='Show/Hide attributes'><svg class='icon xr-icon-file-text2'><use xlink:href='#icon-file-text2'></use></svg></label><input id='data-32899481-a1cb-4f16-ba0b-f549d0901f01' class='xr-var-data-in' type='checkbox'><label for='data-32899481-a1cb-4f16-ba0b-f549d0901f01' title='Show/Hide data repr'><svg class='icon xr-icon-database'><use xlink:href='#icon-database'></use></svg></label><div class='xr-var-attrs'><dl class='xr-attrs'></dl></div><div class='xr-var-data'><pre>array([&#x27;2022-08-30T11:21:03.491000000&#x27;, &#x27;2022-08-30T11:21:03.594000000&#x27;,\n       &#x27;2022-08-30T11:21:03.696000000&#x27;, &#x27;2022-08-30T11:21:03.799000000&#x27;,\n       &#x27;2022-08-30T11:21:03.901000000&#x27;, &#x27;2022-08-30T11:21:04.003000000&#x27;,\n       &#x27;2022-08-30T11:21:04.106000000&#x27;, &#x27;2022-08-30T11:21:04.208000000&#x27;,\n       &#x27;2022-08-30T11:21:04.311000000&#x27;, &#x27;2022-08-30T11:21:04.413000000&#x27;,\n       &#x27;2022-08-30T11:21:04.516000000&#x27;, &#x27;2022-08-30T11:21:04.618000000&#x27;,\n       &#x27;2022-08-30T11:21:04.720000000&#x27;, &#x27;2022-08-30T11:21:04.823000000&#x27;,\n       &#x27;2022-08-30T11:21:04.925000000&#x27;, &#x27;2022-08-30T11:21:05.028000000&#x27;,\n       &#x27;2022-08-30T11:21:05.130000000&#x27;, &#x27;2022-08-30T11:21:05.233000000&#x27;,\n       &#x27;2022-08-30T11:21:05.335000000&#x27;, &#x27;2022-08-30T11:21:05.438000000&#x27;,\n       &#x27;2022-08-30T11:21:05.540000000&#x27;, &#x27;2022-08-30T11:21:05.642000000&#x27;,\n       &#x27;2022-08-30T11:21:05.745000000&#x27;, &#x27;2022-08-30T11:21:05.847000000&#x27;,\n       &#x27;2022-08-30T11:21:05.950000000&#x27;, &#x27;2022-08-30T11:21:06.052000000&#x27;,\n       &#x27;2022-08-30T11:21:06.155000000&#x27;, &#x27;2022-08-30T11:21:06.257000000&#x27;,\n       &#x27;2022-08-30T11:21:06.359000000&#x27;, &#x27;2022-08-30T11:21:06.462000000&#x27;,\n       &#x27;2022-08-30T11:21:06.564000000&#x27;, &#x27;2022-08-30T11:21:06.667000000&#x27;,\n       &#x27;2022-08-30T11:21:06.769000000&#x27;, &#x27;2022-08-30T11:21:06.872000000&#x27;,\n       &#x27;2022-08-30T11:21:06.974000000&#x27;, &#x27;2022-08-30T11:21:07.077000000&#x27;,\n       &#x27;2022-08-30T11:21:07.179000000&#x27;], dtype=&#x27;datetime64[ns]&#x27;)</pre></div></li></ul></div></li><li class='xr-section-item'><input id='section-2e9632b7-e05e-419e-9ac9-51d6c1d62e04' class='xr-section-summary-in' type='checkbox'  checked><label for='section-2e9632b7-e05e-419e-9ac9-51d6c1d62e04' class='xr-section-summary' >Data variables: <span>(5)</span></label><div class='xr-section-inline-details'></div><div class='xr-section-details'><ul class='xr-var-list'><li class='xr-var-item'><div class='xr-var-name'><span>ghi</span></div><div class='xr-var-dims'>(time, station)</div><div class='xr-var-dtype'>float32</div><div class='xr-var-preview xr-preview'>...</div><input id='attrs-c9b5ad39-aad6-401e-bd0c-c18624ee945e' class='xr-var-attrs-in' type='checkbox' ><label for='attrs-c9b5ad39-aad6-401e-bd0c-c18624ee945e' title='Show/Hide attributes'><svg class='icon xr-icon-file-text2'><use xlink:href='#icon-file-text2'></use></svg></label><input id='data-c9a27840-f2ac-46a7-8b2b-7565e5dcf71a' class='xr-var-data-in' type='checkbox'><label for='data-c9a27840-f2ac-46a7-8b2b-7565e5dcf71a' title='Show/Hide data repr'><svg class='icon xr-icon-database'><use xlink:href='#icon-database'></use></svg></label><div class='xr-var-attrs'><dl class='xr-attrs'><dt><span>units :</span></dt><dd>V</dd><dt><span>long_name :</span></dt><dd>downwelling shortwave flux</dd><dt><span>standard_name :</span></dt><dd>downwelling_shortwave_flux_in_air</dd><dt><span>valid_range :</span></dt><dd>[   0 1023]</dd></dl></div><div class='xr-var-data'><pre>[37 values with dtype=float32]</pre></div></li><li class='xr-var-item'><div class='xr-var-name'><span>gti</span></div><div class='xr-var-dims'>(time, station)</div><div class='xr-var-dtype'>float32</div><div class='xr-var-preview xr-preview'>...</div><input id='attrs-28f5d8bf-db7e-46d3-9b40-bb6b50e3b422' class='xr-var-attrs-in' type='checkbox' ><label for='attrs-28f5d8bf-db7e-46d3-9b40-bb6b50e3b422' title='Show/Hide attributes'><svg class='icon xr-icon-file-text2'><use xlink:href='#icon-file-text2'></use></svg></label><input id='data-4337d38f-6ebd-44aa-99a1-10f365bb670e' class='xr-var-data-in' type='checkbox'><label for='data-4337d38f-6ebd-44aa-99a1-10f365bb670e' title='Show/Hide data repr'><svg class='icon xr-icon-database'><use xlink:href='#icon-database'></use></svg></label><div class='xr-var-attrs'><dl class='xr-attrs'><dt><span>units :</span></dt><dd>V</dd><dt><span>long_name :</span></dt><dd>downwelling shortwave flux measured on secondary platform, might be tilted</dd><dt><span>standard_name :</span></dt><dd>downwelling_shortwave_flux_in_air</dd><dt><span>valid_range :</span></dt><dd>[   0 1023]</dd><dt><span>hangle :</span></dt><dd>0.0</dd><dt><span>vangle :</span></dt><dd>0.0</dd></dl></div><div class='xr-var-data'><pre>[37 values with dtype=float32]</pre></div></li><li class='xr-var-item'><div class='xr-var-name'><span>ta</span></div><div class='xr-var-dims'>(time, station)</div><div class='xr-var-dtype'>float32</div><div class='xr-var-preview xr-preview'>...</div><input id='attrs-22c7f076-c33c-43bb-ba37-90c3fb8fcbb9' class='xr-var-attrs-in' type='checkbox' ><label for='attrs-22c7f076-c33c-43bb-ba37-90c3fb8fcbb9' title='Show/Hide attributes'><svg class='icon xr-icon-file-text2'><use xlink:href='#icon-file-text2'></use></svg></label><input id='data-84545b7d-43ea-4714-87e5-d893edffa4b3' class='xr-var-data-in' type='checkbox'><label for='data-84545b7d-43ea-4714-87e5-d893edffa4b3' title='Show/Hide data repr'><svg class='icon xr-icon-database'><use xlink:href='#icon-database'></use></svg></label><div class='xr-var-attrs'><dl class='xr-attrs'><dt><span>units :</span></dt><dd>K</dd><dt><span>long_name :</span></dt><dd>air temperature</dd><dt><span>standard_name :</span></dt><dd>air_temperature</dd><dt><span>valid_range :</span></dt><dd>[  0 775]</dd></dl></div><div class='xr-var-data'><pre>[37 values with dtype=float32]</pre></div></li><li class='xr-var-item'><div class='xr-var-name'><span>rh</span></div><div class='xr-var-dims'>(time, station)</div><div class='xr-var-dtype'>float32</div><div class='xr-var-preview xr-preview'>...</div><input id='attrs-b1f658ca-6a0c-4887-b90f-14ab7559bb91' class='xr-var-attrs-in' type='checkbox' ><label for='attrs-b1f658ca-6a0c-4887-b90f-14ab7559bb91' title='Show/Hide attributes'><svg class='icon xr-icon-file-text2'><use xlink:href='#icon-file-text2'></use></svg></label><input id='data-d5513954-b2d5-4d3f-9d1b-5b9773db38bc' class='xr-var-data-in' type='checkbox'><label for='data-d5513954-b2d5-4d3f-9d1b-5b9773db38bc' title='Show/Hide data repr'><svg class='icon xr-icon-database'><use xlink:href='#icon-database'></use></svg></label><div class='xr-var-attrs'><dl class='xr-attrs'><dt><span>units :</span></dt><dd>1</dd><dt><span>long_name :</span></dt><dd>air relative humidity</dd><dt><span>standard_name :</span></dt><dd>relative_humidity</dd><dt><span>valid_range :</span></dt><dd>[  0 775]</dd></dl></div><div class='xr-var-data'><pre>[37 values with dtype=float32]</pre></div></li><li class='xr-var-item'><div class='xr-var-name'><span>battery_voltage</span></div><div class='xr-var-dims'>(time, station)</div><div class='xr-var-dtype'>float32</div><div class='xr-var-preview xr-preview'>...</div><input id='attrs-12edcf21-2645-4c57-90f7-3e40dfb1a8d7' class='xr-var-attrs-in' type='checkbox' ><label for='attrs-12edcf21-2645-4c57-90f7-3e40dfb1a8d7' title='Show/Hide attributes'><svg class='icon xr-icon-file-text2'><use xlink:href='#icon-file-text2'></use></svg></label><input id='data-fbdbd9b3-29d4-4d86-9218-be7a47aefa07' class='xr-var-data-in' type='checkbox'><label for='data-fbdbd9b3-29d4-4d86-9218-be7a47aefa07' title='Show/Hide data repr'><svg class='icon xr-icon-database'><use xlink:href='#icon-database'></use></svg></label><div class='xr-var-attrs'><dl class='xr-attrs'><dt><span>units :</span></dt><dd>V</dd><dt><span>standard_name :</span></dt><dd>battery_voltage</dd><dt><span>valid_range :</span></dt><dd>[  0 992]</dd></dl></div><div class='xr-var-data'><pre>[37 values with dtype=float32]</pre></div></li></ul></div></li><li class='xr-section-item'><input id='section-d020523c-c418-4107-bc2a-66033f8a3766' class='xr-section-summary-in' type='checkbox'  ><label for='section-d020523c-c418-4107-bc2a-66033f8a3766' class='xr-section-summary' >Indexes: <span>(3)</span></label><div class='xr-section-inline-details'></div><div class='xr-section-details'><ul class='xr-var-list'><li class='xr-var-item'><div class='xr-index-name'><div>maintenancetime</div></div><div class='xr-index-preview'>PandasIndex</div><div></div><input id='index-170c0b93-b2bd-4c44-9b0e-2e9bfdf45d74' class='xr-index-data-in' type='checkbox'/><label for='index-170c0b93-b2bd-4c44-9b0e-2e9bfdf45d74' title='Show/Hide index repr'><svg class='icon xr-icon-database'><use xlink:href='#icon-database'></use></svg></label><div class='xr-index-data'><pre>PandasIndex(DatetimeIndex([&#x27;2023-05-08 16:09:06&#x27;], dtype=&#x27;datetime64[ns]&#x27;, name=&#x27;maintenancetime&#x27;, freq=None))</pre></div></li><li class='xr-var-item'><div class='xr-index-name'><div>station</div></div><div class='xr-index-preview'>PandasIndex</div><div></div><input id='index-105a4860-a115-4c79-80d4-7df7213deb12' class='xr-index-data-in' type='checkbox'/><label for='index-105a4860-a115-4c79-80d4-7df7213deb12' title='Show/Hide index repr'><svg class='icon xr-icon-database'><use xlink:href='#icon-database'></use></svg></label><div class='xr-index-data'><pre>PandasIndex(Float64Index([1.0], dtype=&#x27;float64&#x27;, name=&#x27;station&#x27;))</pre></div></li><li class='xr-var-item'><div class='xr-index-name'><div>time</div></div><div class='xr-index-preview'>PandasIndex</div><div></div><input id='index-7dfc3da3-f485-498d-9859-cdf6a9703f49' class='xr-index-data-in' type='checkbox'/><label for='index-7dfc3da3-f485-498d-9859-cdf6a9703f49' title='Show/Hide index repr'><svg class='icon xr-icon-database'><use xlink:href='#icon-database'></use></svg></label><div class='xr-index-data'><pre>PandasIndex(DatetimeIndex([&#x27;2022-08-30 11:21:03.491000&#x27;, &#x27;2022-08-30 11:21:03.594000&#x27;,\n               &#x27;2022-08-30 11:21:03.696000&#x27;, &#x27;2022-08-30 11:21:03.799000&#x27;,\n               &#x27;2022-08-30 11:21:03.901000&#x27;, &#x27;2022-08-30 11:21:04.003000&#x27;,\n               &#x27;2022-08-30 11:21:04.106000&#x27;, &#x27;2022-08-30 11:21:04.208000&#x27;,\n               &#x27;2022-08-30 11:21:04.311000&#x27;, &#x27;2022-08-30 11:21:04.413000&#x27;,\n               &#x27;2022-08-30 11:21:04.516000&#x27;, &#x27;2022-08-30 11:21:04.618000&#x27;,\n               &#x27;2022-08-30 11:21:04.720000&#x27;, &#x27;2022-08-30 11:21:04.823000&#x27;,\n               &#x27;2022-08-30 11:21:04.925000&#x27;, &#x27;2022-08-30 11:21:05.028000&#x27;,\n               &#x27;2022-08-30 11:21:05.130000&#x27;, &#x27;2022-08-30 11:21:05.233000&#x27;,\n               &#x27;2022-08-30 11:21:05.335000&#x27;, &#x27;2022-08-30 11:21:05.438000&#x27;,\n               &#x27;2022-08-30 11:21:05.540000&#x27;, &#x27;2022-08-30 11:21:05.642000&#x27;,\n               &#x27;2022-08-30 11:21:05.745000&#x27;, &#x27;2022-08-30 11:21:05.847000&#x27;,\n               &#x27;2022-08-30 11:21:05.950000&#x27;, &#x27;2022-08-30 11:21:06.052000&#x27;,\n               &#x27;2022-08-30 11:21:06.155000&#x27;, &#x27;2022-08-30 11:21:06.257000&#x27;,\n               &#x27;2022-08-30 11:21:06.359000&#x27;, &#x27;2022-08-30 11:21:06.462000&#x27;,\n               &#x27;2022-08-30 11:21:06.564000&#x27;, &#x27;2022-08-30 11:21:06.667000&#x27;,\n               &#x27;2022-08-30 11:21:06.769000&#x27;, &#x27;2022-08-30 11:21:06.872000&#x27;,\n               &#x27;2022-08-30 11:21:06.974000&#x27;, &#x27;2022-08-30 11:21:07.077000&#x27;,\n               &#x27;2022-08-30 11:21:07.179000&#x27;],\n              dtype=&#x27;datetime64[ns]&#x27;, name=&#x27;time&#x27;, freq=None))</pre></div></li></ul></div></li><li class='xr-section-item'><input id='section-3068687a-360d-4ce9-96f0-6ee1b89bec05' class='xr-section-summary-in' type='checkbox'  ><label for='section-3068687a-360d-4ce9-96f0-6ee1b89bec05' class='xr-section-summary' >Attributes: <span>(31)</span></label><div class='xr-section-inline-details'></div><div class='xr-section-details'><dl class='xr-attrs'><dt><span>Conventions :</span></dt><dd>CF-1.10, ACDD-1.3</dd><dt><span>title :</span></dt><dd>TROPOS pyranometer network (PyrNet) observational data set</dd><dt><span>history :</span></dt><dd>2024-02-23T15:22:57: Generated level l1a  by pyrnet version 0.1.10+60.gc0e9399.dirty; </dd><dt><span>institution :</span></dt><dd>Leibniz Institute for Tropospheric Research (TROPOS)</dd><dt><span>source :</span></dt><dd>TROPOS pyranometer network (PyrNet)</dd><dt><span>references :</span></dt><dd>https://doi.org/10.5194/amt-9-1153-2016</dd><dt><span>Department :</span></dt><dd>Remote Sensing of Atmospheric Processes</dd><dt><span>Department_team :</span></dt><dd>Clouds, Aerosol and Radiation</dd><dt><span>Address :</span></dt><dd>Permoser Str. 15, 04318 Leipzig, Germany</dd><dt><span>Contact_person :</span></dt><dd>Andreas Macke and the clouds, aerosol and radiation team of the remote sensing department, mailto:andreas.macke@tropos.de</dd><dt><span>Contributor_name :</span></dt><dd></dd><dt><span>Contributor_role :</span></dt><dd></dd><dt><span>Authors_software :</span></dt><dd>Hartwig Deneke, Jonas Witthuhn, mailto:deneke@tropos.de</dd><dt><span>Creator_name :</span></dt><dd></dd><dt><span>Project :</span></dt><dd></dd><dt><span>Standard_name_vocabulary :</span></dt><dd>CF Standard Name Table v81</dd><dt><span>License :</span></dt><dd>CC-BY-SA 3.0</dd><dt><span>TESTNOTE :</span></dt><dd>This is a test note.</dd><dt><span>processing_level :</span></dt><dd>l1a</dd><dt><span>product_version :</span></dt><dd>0.1.10+60.gc0e9399.dirty</dd><dt><span>date_created :</span></dt><dd>2024-02-23T15:22:57</dd><dt><span>geospatial_lat_min :</span></dt><dd>51.390208333333334</dd><dt><span>geospatial_lat_max :</span></dt><dd>51.390211666666666</dd><dt><span>geospatial_lat_units :</span></dt><dd>degN</dd><dt><span>geospatial_lon_min :</span></dt><dd>11.885246666666667</dd><dt><span>geospatial_lon_max :</span></dt><dd>11.885256666666667</dd><dt><span>geospatial_lon_units :</span></dt><dd>degE</dd><dt><span>time_coverage_start :</span></dt><dd>2022-08-30T11:21:04.065000</dd><dt><span>time_coverage_end :</span></dt><dd>2022-08-30T11:21:09</dd><dt><span>time_coverage_duration :</span></dt><dd>P0DT0H0M4.935S</dd><dt><span>time_coverage_resolution :</span></dt><dd>P0DT0H0M1.23375S</dd></dl></div></li></ul></div></div>"
     },
     "execution_count": 24,
     "metadata": {},
     "output_type": "execute_result"
    }
   ],
   "source": [
    "#|dropcode\n",
    "#|dropout\n",
    "# 4. Drop first and last <stripminutes> minutes of data to avoid bad data due to maintenance\n",
    "\n",
    "# stripminutes = np.timedelta64(int(config['stripminutes']), 'm')\n",
    "# for now use some seconds for demonstration\n",
    "stripminutes = np.timedelta64(2, 's')\n",
    "tslice = slice(ds_l1b.time.values[0] + stripminutes,\n",
    "               ds_l1b.time.values[-1] - stripminutes)\n",
    "ds_l1b = ds_l1b.sel(time=tslice)\n",
    "ds_l1b"
   ]
  },
  {
   "cell_type": "markdown",
   "source": [
    "###  Resample\n",
    "Resample the data to desired time interval\n",
    "    * ```pyrnet.data.resample```\n"
   ],
   "metadata": {
    "collapsed": false
   }
  },
  {
   "cell_type": "code",
   "execution_count": 25,
   "outputs": [
    {
     "data": {
      "text/plain": "<xarray.Dataset>\nDimensions:          (station: 1, time: 5)\nCoordinates:\n  * station          (station) float64 1.0\n  * time             (time) datetime64[ns] 2022-08-30T11:21:03 ... 2022-08-30...\nData variables:\n    ghi              (time, station) float32 0.002086 0.002085 ... 0.002086\n    gti              (time, station) float32 0.001935 0.001935 ... 0.001935\n    ta               (time, station) float32 294.8 294.7 294.8 294.7 294.8\n    rh               (time, station) float32 0.6263 0.6266 0.6271 0.6271 0.629\n    battery_voltage  (time, station) float32 6.445 6.446 6.45 6.448 6.458\n    ghi_min          (time, station) float32 0.002086 0.002075 ... 0.002086\n    gti_min          (time, station) float32 0.001935 0.001925 ... 0.001935\n    ghi_max          (time, station) float32 0.002086 0.002086 ... 0.002086\n    gti_max          (time, station) float32 0.001935 0.001946 ... 0.001935\n    ghi_std          (time, station) float64 0.0 3.4e-06 0.0 0.0 0.0\n    gti_std          (time, station) float64 0.0 5.069e-06 6.104e-06 0.0 0.0\nAttributes: (12/31)\n    Conventions:               CF-1.10, ACDD-1.3\n    title:                     TROPOS pyranometer network (PyrNet) observatio...\n    history:                   2024-02-23T15:22:57: Generated level l1a  by p...\n    institution:               Leibniz Institute for Tropospheric Research (T...\n    source:                    TROPOS pyranometer network (PyrNet)\n    references:                https://doi.org/10.5194/amt-9-1153-2016\n    ...                        ...\n    geospatial_lon_max:        11.885256666666667\n    geospatial_lon_units:      degE\n    time_coverage_start:       2022-08-30T11:21:04.065000\n    time_coverage_end:         2022-08-30T11:21:09\n    time_coverage_duration:    P0DT0H0M4.935S\n    time_coverage_resolution:  P0DT0H0M1.23375S",
      "text/html": "<div><svg style=\"position: absolute; width: 0; height: 0; overflow: hidden\">\n<defs>\n<symbol id=\"icon-database\" viewBox=\"0 0 32 32\">\n<path d=\"M16 0c-8.837 0-16 2.239-16 5v4c0 2.761 7.163 5 16 5s16-2.239 16-5v-4c0-2.761-7.163-5-16-5z\"></path>\n<path d=\"M16 17c-8.837 0-16-2.239-16-5v6c0 2.761 7.163 5 16 5s16-2.239 16-5v-6c0 2.761-7.163 5-16 5z\"></path>\n<path d=\"M16 26c-8.837 0-16-2.239-16-5v6c0 2.761 7.163 5 16 5s16-2.239 16-5v-6c0 2.761-7.163 5-16 5z\"></path>\n</symbol>\n<symbol id=\"icon-file-text2\" viewBox=\"0 0 32 32\">\n<path d=\"M28.681 7.159c-0.694-0.947-1.662-2.053-2.724-3.116s-2.169-2.030-3.116-2.724c-1.612-1.182-2.393-1.319-2.841-1.319h-15.5c-1.378 0-2.5 1.121-2.5 2.5v27c0 1.378 1.122 2.5 2.5 2.5h23c1.378 0 2.5-1.122 2.5-2.5v-19.5c0-0.448-0.137-1.23-1.319-2.841zM24.543 5.457c0.959 0.959 1.712 1.825 2.268 2.543h-4.811v-4.811c0.718 0.556 1.584 1.309 2.543 2.268zM28 29.5c0 0.271-0.229 0.5-0.5 0.5h-23c-0.271 0-0.5-0.229-0.5-0.5v-27c0-0.271 0.229-0.5 0.5-0.5 0 0 15.499-0 15.5 0v7c0 0.552 0.448 1 1 1h7v19.5z\"></path>\n<path d=\"M23 26h-14c-0.552 0-1-0.448-1-1s0.448-1 1-1h14c0.552 0 1 0.448 1 1s-0.448 1-1 1z\"></path>\n<path d=\"M23 22h-14c-0.552 0-1-0.448-1-1s0.448-1 1-1h14c0.552 0 1 0.448 1 1s-0.448 1-1 1z\"></path>\n<path d=\"M23 18h-14c-0.552 0-1-0.448-1-1s0.448-1 1-1h14c0.552 0 1 0.448 1 1s-0.448 1-1 1z\"></path>\n</symbol>\n</defs>\n</svg>\n<style>/* CSS stylesheet for displaying xarray objects in jupyterlab.\n *\n */\n\n:root {\n  --xr-font-color0: var(--jp-content-font-color0, rgba(0, 0, 0, 1));\n  --xr-font-color2: var(--jp-content-font-color2, rgba(0, 0, 0, 0.54));\n  --xr-font-color3: var(--jp-content-font-color3, rgba(0, 0, 0, 0.38));\n  --xr-border-color: var(--jp-border-color2, #e0e0e0);\n  --xr-disabled-color: var(--jp-layout-color3, #bdbdbd);\n  --xr-background-color: var(--jp-layout-color0, white);\n  --xr-background-color-row-even: var(--jp-layout-color1, white);\n  --xr-background-color-row-odd: var(--jp-layout-color2, #eeeeee);\n}\n\nhtml[theme=dark],\nbody[data-theme=dark],\nbody.vscode-dark {\n  --xr-font-color0: rgba(255, 255, 255, 1);\n  --xr-font-color2: rgba(255, 255, 255, 0.54);\n  --xr-font-color3: rgba(255, 255, 255, 0.38);\n  --xr-border-color: #1F1F1F;\n  --xr-disabled-color: #515151;\n  --xr-background-color: #111111;\n  --xr-background-color-row-even: #111111;\n  --xr-background-color-row-odd: #313131;\n}\n\n.xr-wrap {\n  display: block !important;\n  min-width: 300px;\n  max-width: 700px;\n}\n\n.xr-text-repr-fallback {\n  /* fallback to plain text repr when CSS is not injected (untrusted notebook) */\n  display: none;\n}\n\n.xr-header {\n  padding-top: 6px;\n  padding-bottom: 6px;\n  margin-bottom: 4px;\n  border-bottom: solid 1px var(--xr-border-color);\n}\n\n.xr-header > div,\n.xr-header > ul {\n  display: inline;\n  margin-top: 0;\n  margin-bottom: 0;\n}\n\n.xr-obj-type,\n.xr-array-name {\n  margin-left: 2px;\n  margin-right: 10px;\n}\n\n.xr-obj-type {\n  color: var(--xr-font-color2);\n}\n\n.xr-sections {\n  padding-left: 0 !important;\n  display: grid;\n  grid-template-columns: 150px auto auto 1fr 20px 20px;\n}\n\n.xr-section-item {\n  display: contents;\n}\n\n.xr-section-item input {\n  display: none;\n}\n\n.xr-section-item input + label {\n  color: var(--xr-disabled-color);\n}\n\n.xr-section-item input:enabled + label {\n  cursor: pointer;\n  color: var(--xr-font-color2);\n}\n\n.xr-section-item input:enabled + label:hover {\n  color: var(--xr-font-color0);\n}\n\n.xr-section-summary {\n  grid-column: 1;\n  color: var(--xr-font-color2);\n  font-weight: 500;\n}\n\n.xr-section-summary > span {\n  display: inline-block;\n  padding-left: 0.5em;\n}\n\n.xr-section-summary-in:disabled + label {\n  color: var(--xr-font-color2);\n}\n\n.xr-section-summary-in + label:before {\n  display: inline-block;\n  content: '►';\n  font-size: 11px;\n  width: 15px;\n  text-align: center;\n}\n\n.xr-section-summary-in:disabled + label:before {\n  color: var(--xr-disabled-color);\n}\n\n.xr-section-summary-in:checked + label:before {\n  content: '▼';\n}\n\n.xr-section-summary-in:checked + label > span {\n  display: none;\n}\n\n.xr-section-summary,\n.xr-section-inline-details {\n  padding-top: 4px;\n  padding-bottom: 4px;\n}\n\n.xr-section-inline-details {\n  grid-column: 2 / -1;\n}\n\n.xr-section-details {\n  display: none;\n  grid-column: 1 / -1;\n  margin-bottom: 5px;\n}\n\n.xr-section-summary-in:checked ~ .xr-section-details {\n  display: contents;\n}\n\n.xr-array-wrap {\n  grid-column: 1 / -1;\n  display: grid;\n  grid-template-columns: 20px auto;\n}\n\n.xr-array-wrap > label {\n  grid-column: 1;\n  vertical-align: top;\n}\n\n.xr-preview {\n  color: var(--xr-font-color3);\n}\n\n.xr-array-preview,\n.xr-array-data {\n  padding: 0 5px !important;\n  grid-column: 2;\n}\n\n.xr-array-data,\n.xr-array-in:checked ~ .xr-array-preview {\n  display: none;\n}\n\n.xr-array-in:checked ~ .xr-array-data,\n.xr-array-preview {\n  display: inline-block;\n}\n\n.xr-dim-list {\n  display: inline-block !important;\n  list-style: none;\n  padding: 0 !important;\n  margin: 0;\n}\n\n.xr-dim-list li {\n  display: inline-block;\n  padding: 0;\n  margin: 0;\n}\n\n.xr-dim-list:before {\n  content: '(';\n}\n\n.xr-dim-list:after {\n  content: ')';\n}\n\n.xr-dim-list li:not(:last-child):after {\n  content: ',';\n  padding-right: 5px;\n}\n\n.xr-has-index {\n  font-weight: bold;\n}\n\n.xr-var-list,\n.xr-var-item {\n  display: contents;\n}\n\n.xr-var-item > div,\n.xr-var-item label,\n.xr-var-item > .xr-var-name span {\n  background-color: var(--xr-background-color-row-even);\n  margin-bottom: 0;\n}\n\n.xr-var-item > .xr-var-name:hover span {\n  padding-right: 5px;\n}\n\n.xr-var-list > li:nth-child(odd) > div,\n.xr-var-list > li:nth-child(odd) > label,\n.xr-var-list > li:nth-child(odd) > .xr-var-name span {\n  background-color: var(--xr-background-color-row-odd);\n}\n\n.xr-var-name {\n  grid-column: 1;\n}\n\n.xr-var-dims {\n  grid-column: 2;\n}\n\n.xr-var-dtype {\n  grid-column: 3;\n  text-align: right;\n  color: var(--xr-font-color2);\n}\n\n.xr-var-preview {\n  grid-column: 4;\n}\n\n.xr-index-preview {\n  grid-column: 2 / 5;\n  color: var(--xr-font-color2);\n}\n\n.xr-var-name,\n.xr-var-dims,\n.xr-var-dtype,\n.xr-preview,\n.xr-attrs dt {\n  white-space: nowrap;\n  overflow: hidden;\n  text-overflow: ellipsis;\n  padding-right: 10px;\n}\n\n.xr-var-name:hover,\n.xr-var-dims:hover,\n.xr-var-dtype:hover,\n.xr-attrs dt:hover {\n  overflow: visible;\n  width: auto;\n  z-index: 1;\n}\n\n.xr-var-attrs,\n.xr-var-data,\n.xr-index-data {\n  display: none;\n  background-color: var(--xr-background-color) !important;\n  padding-bottom: 5px !important;\n}\n\n.xr-var-attrs-in:checked ~ .xr-var-attrs,\n.xr-var-data-in:checked ~ .xr-var-data,\n.xr-index-data-in:checked ~ .xr-index-data {\n  display: block;\n}\n\n.xr-var-data > table {\n  float: right;\n}\n\n.xr-var-name span,\n.xr-var-data,\n.xr-index-name div,\n.xr-index-data,\n.xr-attrs {\n  padding-left: 25px !important;\n}\n\n.xr-attrs,\n.xr-var-attrs,\n.xr-var-data,\n.xr-index-data {\n  grid-column: 1 / -1;\n}\n\ndl.xr-attrs {\n  padding: 0;\n  margin: 0;\n  display: grid;\n  grid-template-columns: 125px auto;\n}\n\n.xr-attrs dt,\n.xr-attrs dd {\n  padding: 0;\n  margin: 0;\n  float: left;\n  padding-right: 10px;\n  width: auto;\n}\n\n.xr-attrs dt {\n  font-weight: normal;\n  grid-column: 1;\n}\n\n.xr-attrs dt:hover span {\n  display: inline-block;\n  background: var(--xr-background-color);\n  padding-right: 10px;\n}\n\n.xr-attrs dd {\n  grid-column: 2;\n  white-space: pre-wrap;\n  word-break: break-all;\n}\n\n.xr-icon-database,\n.xr-icon-file-text2,\n.xr-no-icon {\n  display: inline-block;\n  vertical-align: middle;\n  width: 1em;\n  height: 1.5em !important;\n  stroke-width: 0;\n  stroke: currentColor;\n  fill: currentColor;\n}\n</style><pre class='xr-text-repr-fallback'>&lt;xarray.Dataset&gt;\nDimensions:          (station: 1, time: 5)\nCoordinates:\n  * station          (station) float64 1.0\n  * time             (time) datetime64[ns] 2022-08-30T11:21:03 ... 2022-08-30...\nData variables:\n    ghi              (time, station) float32 0.002086 0.002085 ... 0.002086\n    gti              (time, station) float32 0.001935 0.001935 ... 0.001935\n    ta               (time, station) float32 294.8 294.7 294.8 294.7 294.8\n    rh               (time, station) float32 0.6263 0.6266 0.6271 0.6271 0.629\n    battery_voltage  (time, station) float32 6.445 6.446 6.45 6.448 6.458\n    ghi_min          (time, station) float32 0.002086 0.002075 ... 0.002086\n    gti_min          (time, station) float32 0.001935 0.001925 ... 0.001935\n    ghi_max          (time, station) float32 0.002086 0.002086 ... 0.002086\n    gti_max          (time, station) float32 0.001935 0.001946 ... 0.001935\n    ghi_std          (time, station) float64 0.0 3.4e-06 0.0 0.0 0.0\n    gti_std          (time, station) float64 0.0 5.069e-06 6.104e-06 0.0 0.0\nAttributes: (12/31)\n    Conventions:               CF-1.10, ACDD-1.3\n    title:                     TROPOS pyranometer network (PyrNet) observatio...\n    history:                   2024-02-23T15:22:57: Generated level l1a  by p...\n    institution:               Leibniz Institute for Tropospheric Research (T...\n    source:                    TROPOS pyranometer network (PyrNet)\n    references:                https://doi.org/10.5194/amt-9-1153-2016\n    ...                        ...\n    geospatial_lon_max:        11.885256666666667\n    geospatial_lon_units:      degE\n    time_coverage_start:       2022-08-30T11:21:04.065000\n    time_coverage_end:         2022-08-30T11:21:09\n    time_coverage_duration:    P0DT0H0M4.935S\n    time_coverage_resolution:  P0DT0H0M1.23375S</pre><div class='xr-wrap' style='display:none'><div class='xr-header'><div class='xr-obj-type'>xarray.Dataset</div></div><ul class='xr-sections'><li class='xr-section-item'><input id='section-ffa71ed8-422d-4e70-99c1-2f3a2d2316a1' class='xr-section-summary-in' type='checkbox' disabled ><label for='section-ffa71ed8-422d-4e70-99c1-2f3a2d2316a1' class='xr-section-summary'  title='Expand/collapse section'>Dimensions:</label><div class='xr-section-inline-details'><ul class='xr-dim-list'><li><span class='xr-has-index'>station</span>: 1</li><li><span class='xr-has-index'>time</span>: 5</li></ul></div><div class='xr-section-details'></div></li><li class='xr-section-item'><input id='section-8076ab5f-15c4-458b-bd45-97fe8edabb46' class='xr-section-summary-in' type='checkbox'  checked><label for='section-8076ab5f-15c4-458b-bd45-97fe8edabb46' class='xr-section-summary' >Coordinates: <span>(2)</span></label><div class='xr-section-inline-details'></div><div class='xr-section-details'><ul class='xr-var-list'><li class='xr-var-item'><div class='xr-var-name'><span class='xr-has-index'>station</span></div><div class='xr-var-dims'>(station)</div><div class='xr-var-dtype'>float64</div><div class='xr-var-preview xr-preview'>1.0</div><input id='attrs-1455fdd6-bdef-4ec9-9468-db38bc5b2189' class='xr-var-attrs-in' type='checkbox' disabled><label for='attrs-1455fdd6-bdef-4ec9-9468-db38bc5b2189' title='Show/Hide attributes'><svg class='icon xr-icon-file-text2'><use xlink:href='#icon-file-text2'></use></svg></label><input id='data-8c3a564f-80fc-486a-a539-cad4299e0f10' class='xr-var-data-in' type='checkbox'><label for='data-8c3a564f-80fc-486a-a539-cad4299e0f10' title='Show/Hide data repr'><svg class='icon xr-icon-database'><use xlink:href='#icon-database'></use></svg></label><div class='xr-var-attrs'><dl class='xr-attrs'></dl></div><div class='xr-var-data'><pre>array([1.])</pre></div></li><li class='xr-var-item'><div class='xr-var-name'><span class='xr-has-index'>time</span></div><div class='xr-var-dims'>(time)</div><div class='xr-var-dtype'>datetime64[ns]</div><div class='xr-var-preview xr-preview'>2022-08-30T11:21:03 ... 2022-08-...</div><input id='attrs-765353d8-617e-4d9e-be62-18a1ae1db280' class='xr-var-attrs-in' type='checkbox' disabled><label for='attrs-765353d8-617e-4d9e-be62-18a1ae1db280' title='Show/Hide attributes'><svg class='icon xr-icon-file-text2'><use xlink:href='#icon-file-text2'></use></svg></label><input id='data-495c2d43-6103-48ff-9dfe-095f5c45a8fc' class='xr-var-data-in' type='checkbox'><label for='data-495c2d43-6103-48ff-9dfe-095f5c45a8fc' title='Show/Hide data repr'><svg class='icon xr-icon-database'><use xlink:href='#icon-database'></use></svg></label><div class='xr-var-attrs'><dl class='xr-attrs'></dl></div><div class='xr-var-data'><pre>array([&#x27;2022-08-30T11:21:03.000000000&#x27;, &#x27;2022-08-30T11:21:04.000000000&#x27;,\n       &#x27;2022-08-30T11:21:05.000000000&#x27;, &#x27;2022-08-30T11:21:06.000000000&#x27;,\n       &#x27;2022-08-30T11:21:07.000000000&#x27;], dtype=&#x27;datetime64[ns]&#x27;)</pre></div></li></ul></div></li><li class='xr-section-item'><input id='section-75a513b4-6ec6-485b-b271-5c73ddf4327e' class='xr-section-summary-in' type='checkbox'  checked><label for='section-75a513b4-6ec6-485b-b271-5c73ddf4327e' class='xr-section-summary' >Data variables: <span>(11)</span></label><div class='xr-section-inline-details'></div><div class='xr-section-details'><ul class='xr-var-list'><li class='xr-var-item'><div class='xr-var-name'><span>ghi</span></div><div class='xr-var-dims'>(time, station)</div><div class='xr-var-dtype'>float32</div><div class='xr-var-preview xr-preview'>0.002086 0.002085 ... 0.002086</div><input id='attrs-2e4dd41b-67ed-4c73-9742-664c4ab6048a' class='xr-var-attrs-in' type='checkbox' ><label for='attrs-2e4dd41b-67ed-4c73-9742-664c4ab6048a' title='Show/Hide attributes'><svg class='icon xr-icon-file-text2'><use xlink:href='#icon-file-text2'></use></svg></label><input id='data-fb9f02fa-5636-4077-9f2d-d273189eb44d' class='xr-var-data-in' type='checkbox'><label for='data-fb9f02fa-5636-4077-9f2d-d273189eb44d' title='Show/Hide data repr'><svg class='icon xr-icon-database'><use xlink:href='#icon-database'></use></svg></label><div class='xr-var-attrs'><dl class='xr-attrs'><dt><span>units :</span></dt><dd>V</dd><dt><span>long_name :</span></dt><dd>downwelling shortwave flux</dd><dt><span>standard_name :</span></dt><dd>downwelling_shortwave_flux_in_air</dd><dt><span>valid_range :</span></dt><dd>[   0 1023]</dd></dl></div><div class='xr-var-data'><pre>array([[0.00208602],\n       [0.00208495],\n       [0.00208602],\n       [0.00208602],\n       [0.00208602]], dtype=float32)</pre></div></li><li class='xr-var-item'><div class='xr-var-name'><span>gti</span></div><div class='xr-var-dims'>(time, station)</div><div class='xr-var-dtype'>float32</div><div class='xr-var-preview xr-preview'>0.001935 0.001935 ... 0.001935</div><input id='attrs-ad073f51-3629-478b-89bc-da15a26d46f9' class='xr-var-attrs-in' type='checkbox' ><label for='attrs-ad073f51-3629-478b-89bc-da15a26d46f9' title='Show/Hide attributes'><svg class='icon xr-icon-file-text2'><use xlink:href='#icon-file-text2'></use></svg></label><input id='data-96b620ec-a674-4d19-856f-03a24ce1f979' class='xr-var-data-in' type='checkbox'><label for='data-96b620ec-a674-4d19-856f-03a24ce1f979' title='Show/Hide data repr'><svg class='icon xr-icon-database'><use xlink:href='#icon-database'></use></svg></label><div class='xr-var-attrs'><dl class='xr-attrs'><dt><span>units :</span></dt><dd>V</dd><dt><span>long_name :</span></dt><dd>downwelling shortwave flux measured on secondary platform, might be tilted</dd><dt><span>standard_name :</span></dt><dd>downwelling_shortwave_flux_in_air</dd><dt><span>valid_range :</span></dt><dd>[   0 1023]</dd><dt><span>hangle :</span></dt><dd>0.0</dd><dt><span>vangle :</span></dt><dd>0.0</dd></dl></div><div class='xr-var-data'><pre>array([[0.00193548],\n       [0.00193548],\n       [0.00193656],\n       [0.00193548],\n       [0.00193548]], dtype=float32)</pre></div></li><li class='xr-var-item'><div class='xr-var-name'><span>ta</span></div><div class='xr-var-dims'>(time, station)</div><div class='xr-var-dtype'>float32</div><div class='xr-var-preview xr-preview'>294.8 294.7 294.8 294.7 294.8</div><input id='attrs-134d1d04-4171-4dd4-9052-11df55efd9ee' class='xr-var-attrs-in' type='checkbox' ><label for='attrs-134d1d04-4171-4dd4-9052-11df55efd9ee' title='Show/Hide attributes'><svg class='icon xr-icon-file-text2'><use xlink:href='#icon-file-text2'></use></svg></label><input id='data-908b8cfe-a872-41b8-bb87-a8fdc09aa318' class='xr-var-data-in' type='checkbox'><label for='data-908b8cfe-a872-41b8-bb87-a8fdc09aa318' title='Show/Hide data repr'><svg class='icon xr-icon-database'><use xlink:href='#icon-database'></use></svg></label><div class='xr-var-attrs'><dl class='xr-attrs'><dt><span>units :</span></dt><dd>K</dd><dt><span>long_name :</span></dt><dd>air temperature</dd><dt><span>standard_name :</span></dt><dd>air_temperature</dd><dt><span>valid_range :</span></dt><dd>[  0 775]</dd></dl></div><div class='xr-var-data'><pre>array([[294.7758 ],\n       [294.74997],\n       [294.7887 ],\n       [294.74997],\n       [294.82742]], dtype=float32)</pre></div></li><li class='xr-var-item'><div class='xr-var-name'><span>rh</span></div><div class='xr-var-dims'>(time, station)</div><div class='xr-var-dtype'>float32</div><div class='xr-var-preview xr-preview'>0.6263 0.6266 0.6271 0.6271 0.629</div><input id='attrs-af073f87-0ba4-4cce-a2a1-c27cdf65bb28' class='xr-var-attrs-in' type='checkbox' ><label for='attrs-af073f87-0ba4-4cce-a2a1-c27cdf65bb28' title='Show/Hide attributes'><svg class='icon xr-icon-file-text2'><use xlink:href='#icon-file-text2'></use></svg></label><input id='data-ba8b3d5b-9ac0-4aa3-8f9f-6b6b578230d3' class='xr-var-data-in' type='checkbox'><label for='data-ba8b3d5b-9ac0-4aa3-8f9f-6b6b578230d3' title='Show/Hide data repr'><svg class='icon xr-icon-database'><use xlink:href='#icon-database'></use></svg></label><div class='xr-var-attrs'><dl class='xr-attrs'><dt><span>units :</span></dt><dd>1</dd><dt><span>long_name :</span></dt><dd>air relative humidity</dd><dt><span>standard_name :</span></dt><dd>relative_humidity</dd><dt><span>valid_range :</span></dt><dd>[  0 775]</dd></dl></div><div class='xr-var-data'><pre>array([[0.62632257],\n       [0.6265806 ],\n       [0.6270968 ],\n       [0.6270968 ],\n       [0.62903225]], dtype=float32)</pre></div></li><li class='xr-var-item'><div class='xr-var-name'><span>battery_voltage</span></div><div class='xr-var-dims'>(time, station)</div><div class='xr-var-dtype'>float32</div><div class='xr-var-preview xr-preview'>6.445 6.446 6.45 6.448 6.458</div><input id='attrs-c369e87b-5d3f-421f-8b31-988d62c5ecde' class='xr-var-attrs-in' type='checkbox' ><label for='attrs-c369e87b-5d3f-421f-8b31-988d62c5ecde' title='Show/Hide attributes'><svg class='icon xr-icon-file-text2'><use xlink:href='#icon-file-text2'></use></svg></label><input id='data-9dc7a275-359e-4815-89de-1abab1a4f36b' class='xr-var-data-in' type='checkbox'><label for='data-9dc7a275-359e-4815-89de-1abab1a4f36b' title='Show/Hide data repr'><svg class='icon xr-icon-database'><use xlink:href='#icon-database'></use></svg></label><div class='xr-var-attrs'><dl class='xr-attrs'><dt><span>units :</span></dt><dd>V</dd><dt><span>standard_name :</span></dt><dd>battery_voltage</dd><dt><span>valid_range :</span></dt><dd>[  0 992]</dd></dl></div><div class='xr-var-data'><pre>array([[6.4451613],\n       [6.445807 ],\n       [6.4496775],\n       [6.4477415],\n       [6.4580646]], dtype=float32)</pre></div></li><li class='xr-var-item'><div class='xr-var-name'><span>ghi_min</span></div><div class='xr-var-dims'>(time, station)</div><div class='xr-var-dtype'>float32</div><div class='xr-var-preview xr-preview'>0.002086 0.002075 ... 0.002086</div><input id='attrs-c86339f8-16c1-40c9-abe7-eb260351e3c5' class='xr-var-attrs-in' type='checkbox' ><label for='attrs-c86339f8-16c1-40c9-abe7-eb260351e3c5' title='Show/Hide attributes'><svg class='icon xr-icon-file-text2'><use xlink:href='#icon-file-text2'></use></svg></label><input id='data-60f2ed12-4895-4681-b73e-1ca264f05d3f' class='xr-var-data-in' type='checkbox'><label for='data-60f2ed12-4895-4681-b73e-1ca264f05d3f' title='Show/Hide data repr'><svg class='icon xr-icon-database'><use xlink:href='#icon-database'></use></svg></label><div class='xr-var-attrs'><dl class='xr-attrs'><dt><span>units :</span></dt><dd>V</dd><dt><span>long_name :</span></dt><dd>downwelling shortwave flux</dd><dt><span>standard_name :</span></dt><dd>min_downwelling_shortwave_flux_in_air</dd><dt><span>valid_range :</span></dt><dd>[   0 1023]</dd></dl></div><div class='xr-var-data'><pre>array([[0.00208602],\n       [0.00207527],\n       [0.00208602],\n       [0.00208602],\n       [0.00208602]], dtype=float32)</pre></div></li><li class='xr-var-item'><div class='xr-var-name'><span>gti_min</span></div><div class='xr-var-dims'>(time, station)</div><div class='xr-var-dtype'>float32</div><div class='xr-var-preview xr-preview'>0.001935 0.001925 ... 0.001935</div><input id='attrs-0b36d58d-4b4f-4520-a424-559e5da655d1' class='xr-var-attrs-in' type='checkbox' ><label for='attrs-0b36d58d-4b4f-4520-a424-559e5da655d1' title='Show/Hide attributes'><svg class='icon xr-icon-file-text2'><use xlink:href='#icon-file-text2'></use></svg></label><input id='data-bb507074-ccff-4965-a615-3c7b38b95763' class='xr-var-data-in' type='checkbox'><label for='data-bb507074-ccff-4965-a615-3c7b38b95763' title='Show/Hide data repr'><svg class='icon xr-icon-database'><use xlink:href='#icon-database'></use></svg></label><div class='xr-var-attrs'><dl class='xr-attrs'><dt><span>units :</span></dt><dd>V</dd><dt><span>long_name :</span></dt><dd>downwelling shortwave flux measured on secondary platform, might be tilted</dd><dt><span>standard_name :</span></dt><dd>min_downwelling_shortwave_flux_in_air</dd><dt><span>valid_range :</span></dt><dd>[   0 1023]</dd><dt><span>hangle :</span></dt><dd>0.0</dd><dt><span>vangle :</span></dt><dd>0.0</dd></dl></div><div class='xr-var-data'><pre>array([[0.00193548],\n       [0.00192473],\n       [0.00192473],\n       [0.00193548],\n       [0.00193548]], dtype=float32)</pre></div></li><li class='xr-var-item'><div class='xr-var-name'><span>ghi_max</span></div><div class='xr-var-dims'>(time, station)</div><div class='xr-var-dtype'>float32</div><div class='xr-var-preview xr-preview'>0.002086 0.002086 ... 0.002086</div><input id='attrs-05ec1961-6a33-4e64-95f5-f3fa3b78aa8a' class='xr-var-attrs-in' type='checkbox' ><label for='attrs-05ec1961-6a33-4e64-95f5-f3fa3b78aa8a' title='Show/Hide attributes'><svg class='icon xr-icon-file-text2'><use xlink:href='#icon-file-text2'></use></svg></label><input id='data-c4ef59c5-75b5-4dbb-b486-5d3160d30a94' class='xr-var-data-in' type='checkbox'><label for='data-c4ef59c5-75b5-4dbb-b486-5d3160d30a94' title='Show/Hide data repr'><svg class='icon xr-icon-database'><use xlink:href='#icon-database'></use></svg></label><div class='xr-var-attrs'><dl class='xr-attrs'><dt><span>units :</span></dt><dd>V</dd><dt><span>long_name :</span></dt><dd>downwelling shortwave flux</dd><dt><span>standard_name :</span></dt><dd>max_downwelling_shortwave_flux_in_air</dd><dt><span>valid_range :</span></dt><dd>[   0 1023]</dd></dl></div><div class='xr-var-data'><pre>array([[0.00208602],\n       [0.00208602],\n       [0.00208602],\n       [0.00208602],\n       [0.00208602]], dtype=float32)</pre></div></li><li class='xr-var-item'><div class='xr-var-name'><span>gti_max</span></div><div class='xr-var-dims'>(time, station)</div><div class='xr-var-dtype'>float32</div><div class='xr-var-preview xr-preview'>0.001935 0.001946 ... 0.001935</div><input id='attrs-2c3e7c3b-f6c3-4d4b-8031-18fe231c29a6' class='xr-var-attrs-in' type='checkbox' ><label for='attrs-2c3e7c3b-f6c3-4d4b-8031-18fe231c29a6' title='Show/Hide attributes'><svg class='icon xr-icon-file-text2'><use xlink:href='#icon-file-text2'></use></svg></label><input id='data-74972658-1fc0-415d-a0f5-a94ce4714c1a' class='xr-var-data-in' type='checkbox'><label for='data-74972658-1fc0-415d-a0f5-a94ce4714c1a' title='Show/Hide data repr'><svg class='icon xr-icon-database'><use xlink:href='#icon-database'></use></svg></label><div class='xr-var-attrs'><dl class='xr-attrs'><dt><span>units :</span></dt><dd>V</dd><dt><span>long_name :</span></dt><dd>downwelling shortwave flux measured on secondary platform, might be tilted</dd><dt><span>standard_name :</span></dt><dd>max_downwelling_shortwave_flux_in_air</dd><dt><span>valid_range :</span></dt><dd>[   0 1023]</dd><dt><span>hangle :</span></dt><dd>0.0</dd><dt><span>vangle :</span></dt><dd>0.0</dd></dl></div><div class='xr-var-data'><pre>array([[0.00193548],\n       [0.00194624],\n       [0.00194624],\n       [0.00193548],\n       [0.00193548]], dtype=float32)</pre></div></li><li class='xr-var-item'><div class='xr-var-name'><span>ghi_std</span></div><div class='xr-var-dims'>(time, station)</div><div class='xr-var-dtype'>float64</div><div class='xr-var-preview xr-preview'>0.0 3.4e-06 0.0 0.0 0.0</div><input id='attrs-7022499b-2bf2-4edf-ba7d-bda3972964bd' class='xr-var-attrs-in' type='checkbox' ><label for='attrs-7022499b-2bf2-4edf-ba7d-bda3972964bd' title='Show/Hide attributes'><svg class='icon xr-icon-file-text2'><use xlink:href='#icon-file-text2'></use></svg></label><input id='data-3efcd566-1e75-4fad-b2af-8b62aa430d99' class='xr-var-data-in' type='checkbox'><label for='data-3efcd566-1e75-4fad-b2af-8b62aa430d99' title='Show/Hide data repr'><svg class='icon xr-icon-database'><use xlink:href='#icon-database'></use></svg></label><div class='xr-var-attrs'><dl class='xr-attrs'><dt><span>units :</span></dt><dd>V</dd><dt><span>long_name :</span></dt><dd>downwelling shortwave flux</dd><dt><span>standard_name :</span></dt><dd>std_downwelling_shortwave_flux_in_air</dd><dt><span>valid_range :</span></dt><dd>[   0 1023]</dd></dl></div><div class='xr-var-data'><pre>array([[0.00000000e+00],\n       [3.40026587e-06],\n       [0.00000000e+00],\n       [0.00000000e+00],\n       [0.00000000e+00]])</pre></div></li><li class='xr-var-item'><div class='xr-var-name'><span>gti_std</span></div><div class='xr-var-dims'>(time, station)</div><div class='xr-var-dtype'>float64</div><div class='xr-var-preview xr-preview'>0.0 5.069e-06 6.104e-06 0.0 0.0</div><input id='attrs-7e2eeb43-ed53-47b2-8b01-0d750c98ce24' class='xr-var-attrs-in' type='checkbox' ><label for='attrs-7e2eeb43-ed53-47b2-8b01-0d750c98ce24' title='Show/Hide attributes'><svg class='icon xr-icon-file-text2'><use xlink:href='#icon-file-text2'></use></svg></label><input id='data-494da5cb-507c-4e4e-b560-fbc27fdc8a6e' class='xr-var-data-in' type='checkbox'><label for='data-494da5cb-507c-4e4e-b560-fbc27fdc8a6e' title='Show/Hide data repr'><svg class='icon xr-icon-database'><use xlink:href='#icon-database'></use></svg></label><div class='xr-var-attrs'><dl class='xr-attrs'><dt><span>units :</span></dt><dd>V</dd><dt><span>long_name :</span></dt><dd>downwelling shortwave flux measured on secondary platform, might be tilted</dd><dt><span>standard_name :</span></dt><dd>std_downwelling_shortwave_flux_in_air</dd><dt><span>valid_range :</span></dt><dd>[   0 1023]</dd><dt><span>hangle :</span></dt><dd>0.0</dd><dt><span>vangle :</span></dt><dd>0.0</dd></dl></div><div class='xr-var-data'><pre>array([[0.00000000e+00],\n       [5.06887196e-06],\n       [6.10373011e-06],\n       [0.00000000e+00],\n       [0.00000000e+00]])</pre></div></li></ul></div></li><li class='xr-section-item'><input id='section-5889c420-2e7b-4a88-a438-d50c75debdb8' class='xr-section-summary-in' type='checkbox'  ><label for='section-5889c420-2e7b-4a88-a438-d50c75debdb8' class='xr-section-summary' >Indexes: <span>(2)</span></label><div class='xr-section-inline-details'></div><div class='xr-section-details'><ul class='xr-var-list'><li class='xr-var-item'><div class='xr-index-name'><div>time</div></div><div class='xr-index-preview'>PandasIndex</div><div></div><input id='index-edd3e5df-6779-4ae3-b0c8-bee36dff5d92' class='xr-index-data-in' type='checkbox'/><label for='index-edd3e5df-6779-4ae3-b0c8-bee36dff5d92' title='Show/Hide index repr'><svg class='icon xr-icon-database'><use xlink:href='#icon-database'></use></svg></label><div class='xr-index-data'><pre>PandasIndex(DatetimeIndex([&#x27;2022-08-30 11:21:03&#x27;, &#x27;2022-08-30 11:21:04&#x27;,\n               &#x27;2022-08-30 11:21:05&#x27;, &#x27;2022-08-30 11:21:06&#x27;,\n               &#x27;2022-08-30 11:21:07&#x27;],\n              dtype=&#x27;datetime64[ns]&#x27;, name=&#x27;time&#x27;, freq=&#x27;S&#x27;))</pre></div></li><li class='xr-var-item'><div class='xr-index-name'><div>station</div></div><div class='xr-index-preview'>PandasIndex</div><div></div><input id='index-d81cf3a6-3671-4c8f-9ffc-2c5cef0c8a23' class='xr-index-data-in' type='checkbox'/><label for='index-d81cf3a6-3671-4c8f-9ffc-2c5cef0c8a23' title='Show/Hide index repr'><svg class='icon xr-icon-database'><use xlink:href='#icon-database'></use></svg></label><div class='xr-index-data'><pre>PandasIndex(Float64Index([1.0], dtype=&#x27;float64&#x27;, name=&#x27;station&#x27;))</pre></div></li></ul></div></li><li class='xr-section-item'><input id='section-dff3b4a5-e07a-441c-9e8c-2d39e014ba32' class='xr-section-summary-in' type='checkbox'  ><label for='section-dff3b4a5-e07a-441c-9e8c-2d39e014ba32' class='xr-section-summary' >Attributes: <span>(31)</span></label><div class='xr-section-inline-details'></div><div class='xr-section-details'><dl class='xr-attrs'><dt><span>Conventions :</span></dt><dd>CF-1.10, ACDD-1.3</dd><dt><span>title :</span></dt><dd>TROPOS pyranometer network (PyrNet) observational data set</dd><dt><span>history :</span></dt><dd>2024-02-23T15:22:57: Generated level l1a  by pyrnet version 0.1.10+60.gc0e9399.dirty; </dd><dt><span>institution :</span></dt><dd>Leibniz Institute for Tropospheric Research (TROPOS)</dd><dt><span>source :</span></dt><dd>TROPOS pyranometer network (PyrNet)</dd><dt><span>references :</span></dt><dd>https://doi.org/10.5194/amt-9-1153-2016</dd><dt><span>Department :</span></dt><dd>Remote Sensing of Atmospheric Processes</dd><dt><span>Department_team :</span></dt><dd>Clouds, Aerosol and Radiation</dd><dt><span>Address :</span></dt><dd>Permoser Str. 15, 04318 Leipzig, Germany</dd><dt><span>Contact_person :</span></dt><dd>Andreas Macke and the clouds, aerosol and radiation team of the remote sensing department, mailto:andreas.macke@tropos.de</dd><dt><span>Contributor_name :</span></dt><dd></dd><dt><span>Contributor_role :</span></dt><dd></dd><dt><span>Authors_software :</span></dt><dd>Hartwig Deneke, Jonas Witthuhn, mailto:deneke@tropos.de</dd><dt><span>Creator_name :</span></dt><dd></dd><dt><span>Project :</span></dt><dd></dd><dt><span>Standard_name_vocabulary :</span></dt><dd>CF Standard Name Table v81</dd><dt><span>License :</span></dt><dd>CC-BY-SA 3.0</dd><dt><span>TESTNOTE :</span></dt><dd>This is a test note.</dd><dt><span>processing_level :</span></dt><dd>l1a</dd><dt><span>product_version :</span></dt><dd>0.1.10+60.gc0e9399.dirty</dd><dt><span>date_created :</span></dt><dd>2024-02-23T15:22:57</dd><dt><span>geospatial_lat_min :</span></dt><dd>51.390208333333334</dd><dt><span>geospatial_lat_max :</span></dt><dd>51.390211666666666</dd><dt><span>geospatial_lat_units :</span></dt><dd>degN</dd><dt><span>geospatial_lon_min :</span></dt><dd>11.885246666666667</dd><dt><span>geospatial_lon_max :</span></dt><dd>11.885256666666667</dd><dt><span>geospatial_lon_units :</span></dt><dd>degE</dd><dt><span>time_coverage_start :</span></dt><dd>2022-08-30T11:21:04.065000</dd><dt><span>time_coverage_end :</span></dt><dd>2022-08-30T11:21:09</dd><dt><span>time_coverage_duration :</span></dt><dd>P0DT0H0M4.935S</dd><dt><span>time_coverage_resolution :</span></dt><dd>P0DT0H0M1.23375S</dd></dl></div></li></ul></div></div>"
     },
     "execution_count": 25,
     "metadata": {},
     "output_type": "execute_result"
    }
   ],
   "source": [
    "#|dropcode\n",
    "#|dropout\n",
    "# 6. resample to desired resolution\n",
    "# save station coordinate\n",
    "station_dim = {\"station\": ds_l1b[\"station\"].values}\n",
    "\n",
    "# resample on time dimension with specified methods\n",
    "methods = ['mean'] + config[\"l1b_resample_stats\"]\n",
    "res = resample(\n",
    "    ds_l1b.squeeze().drop_vars(\"station\"), # drop station coordinate and variable\n",
    "    freq=config['l1bfreq'],\n",
    "    methods=methods,\n",
    "    kwargs=dict(skipna=True)\n",
    ")\n",
    "\n",
    "# add standard names for new variables\n",
    "ds_l1b = res[0]\n",
    "for i, method in enumerate(methods[1:]):\n",
    "    for var in config[\"radflux_varname\"]:\n",
    "        ds_l1b[f\"{var}_{method}\"] = res[i+1][var]\n",
    "        ds_l1b[f\"{var}_{method}\"].attrs.update({\n",
    "            \"standard_name\": f\"{method}_\"+ds_l1b[f\"{var}_{method}\"].attrs[\"standard_name\"]\n",
    "        })\n",
    "\n",
    "# add station dimension back again\n",
    "ds_l1b = ds_l1b.expand_dims(station_dim, axis=-1)\n",
    "ds_l1b"
   ],
   "metadata": {
    "collapsed": false,
    "ExecuteTime": {
     "end_time": "2024-02-23T15:22:59.434951Z",
     "start_time": "2024-02-23T15:22:59.218760300Z"
    }
   }
  },
  {
   "cell_type": "code",
   "execution_count": 26,
   "metadata": {
    "collapsed": false,
    "ExecuteTime": {
     "end_time": "2024-02-23T15:22:59.448522500Z",
     "start_time": "2024-02-23T15:22:59.286315800Z"
    }
   },
   "outputs": [],
   "source": [
    "#|hide\n",
    "# dsp = ds_l1b.sel(time=\"2019-07-15\")\n",
    "# plt.figure()\n",
    "# plt.plot(dsp.time, dsp.ghi)\n",
    "# plt.grid()"
   ]
  },
  {
   "cell_type": "markdown",
   "metadata": {
    "collapsed": false
   },
   "source": [
    "### Interpolate GPS coordinates\n",
    "\n",
    "Use ```xarray.interp``` to interpolate lat and lon to the resampled time dimension.\n",
    "```{note}\n",
    "At this point the descision to whether store geocoordinates in full time resolution or as mean over the time interval is made.\n",
    "\n",
    "This is configured in config.json -> \"average_latlon\"\n",
    "```"
   ]
  },
  {
   "cell_type": "code",
   "execution_count": 27,
   "metadata": {
    "collapsed": false,
    "ExecuteTime": {
     "end_time": "2024-02-23T15:22:59.477615Z",
     "start_time": "2024-02-23T15:22:59.297371300Z"
    }
   },
   "outputs": [
    {
     "data": {
      "text/plain": "<xarray.Dataset>\nDimensions:               (station: 1, time: 5, maintenancetime: 1)\nCoordinates:\n  * station               (station) float64 1.0\n  * time                  (time) datetime64[ns] 2022-08-30T11:21:03 ... 2022-...\n  * maintenancetime       (maintenancetime) datetime64[ns] 2023-05-08T16:09:06\nData variables: (12/15)\n    ghi                   (time, station) float32 0.002086 0.002085 ... 0.002086\n    gti                   (time, station) float32 0.001935 0.001935 ... 0.001935\n    ta                    (time, station) float32 294.8 294.7 294.8 294.7 294.8\n    rh                    (time, station) float32 0.6263 0.6266 ... 0.6271 0.629\n    battery_voltage       (time, station) float32 6.445 6.446 6.45 6.448 6.458\n    ghi_min               (time, station) float32 0.002086 0.002075 ... 0.002086\n    ...                    ...\n    ghi_std               (time, station) float64 0.0 3.4e-06 0.0 0.0 0.0\n    gti_std               (time, station) float64 0.0 5.069e-06 ... 0.0 0.0\n    lat                   (time, station) float64 nan nan 51.39 51.39 51.39\n    lon                   (time, station) float64 nan nan 11.89 11.89 11.89\n    maintenance_flag_ghi  (maintenancetime, station) float32 9.0\n    maintenance_flag_gti  (maintenancetime, station) float32 7.0\nAttributes: (12/31)\n    Conventions:               CF-1.10, ACDD-1.3\n    title:                     TROPOS pyranometer network (PyrNet) observatio...\n    history:                   2024-02-23T15:22:57: Generated level l1a  by p...\n    institution:               Leibniz Institute for Tropospheric Research (T...\n    source:                    TROPOS pyranometer network (PyrNet)\n    references:                https://doi.org/10.5194/amt-9-1153-2016\n    ...                        ...\n    geospatial_lon_max:        11.885256666666667\n    geospatial_lon_units:      degE\n    time_coverage_start:       2022-08-30T11:21:04.065000\n    time_coverage_end:         2022-08-30T11:21:09\n    time_coverage_duration:    P0DT0H0M4.935S\n    time_coverage_resolution:  P0DT0H0M1.23375S",
      "text/html": "<div><svg style=\"position: absolute; width: 0; height: 0; overflow: hidden\">\n<defs>\n<symbol id=\"icon-database\" viewBox=\"0 0 32 32\">\n<path d=\"M16 0c-8.837 0-16 2.239-16 5v4c0 2.761 7.163 5 16 5s16-2.239 16-5v-4c0-2.761-7.163-5-16-5z\"></path>\n<path d=\"M16 17c-8.837 0-16-2.239-16-5v6c0 2.761 7.163 5 16 5s16-2.239 16-5v-6c0 2.761-7.163 5-16 5z\"></path>\n<path d=\"M16 26c-8.837 0-16-2.239-16-5v6c0 2.761 7.163 5 16 5s16-2.239 16-5v-6c0 2.761-7.163 5-16 5z\"></path>\n</symbol>\n<symbol id=\"icon-file-text2\" viewBox=\"0 0 32 32\">\n<path d=\"M28.681 7.159c-0.694-0.947-1.662-2.053-2.724-3.116s-2.169-2.030-3.116-2.724c-1.612-1.182-2.393-1.319-2.841-1.319h-15.5c-1.378 0-2.5 1.121-2.5 2.5v27c0 1.378 1.122 2.5 2.5 2.5h23c1.378 0 2.5-1.122 2.5-2.5v-19.5c0-0.448-0.137-1.23-1.319-2.841zM24.543 5.457c0.959 0.959 1.712 1.825 2.268 2.543h-4.811v-4.811c0.718 0.556 1.584 1.309 2.543 2.268zM28 29.5c0 0.271-0.229 0.5-0.5 0.5h-23c-0.271 0-0.5-0.229-0.5-0.5v-27c0-0.271 0.229-0.5 0.5-0.5 0 0 15.499-0 15.5 0v7c0 0.552 0.448 1 1 1h7v19.5z\"></path>\n<path d=\"M23 26h-14c-0.552 0-1-0.448-1-1s0.448-1 1-1h14c0.552 0 1 0.448 1 1s-0.448 1-1 1z\"></path>\n<path d=\"M23 22h-14c-0.552 0-1-0.448-1-1s0.448-1 1-1h14c0.552 0 1 0.448 1 1s-0.448 1-1 1z\"></path>\n<path d=\"M23 18h-14c-0.552 0-1-0.448-1-1s0.448-1 1-1h14c0.552 0 1 0.448 1 1s-0.448 1-1 1z\"></path>\n</symbol>\n</defs>\n</svg>\n<style>/* CSS stylesheet for displaying xarray objects in jupyterlab.\n *\n */\n\n:root {\n  --xr-font-color0: var(--jp-content-font-color0, rgba(0, 0, 0, 1));\n  --xr-font-color2: var(--jp-content-font-color2, rgba(0, 0, 0, 0.54));\n  --xr-font-color3: var(--jp-content-font-color3, rgba(0, 0, 0, 0.38));\n  --xr-border-color: var(--jp-border-color2, #e0e0e0);\n  --xr-disabled-color: var(--jp-layout-color3, #bdbdbd);\n  --xr-background-color: var(--jp-layout-color0, white);\n  --xr-background-color-row-even: var(--jp-layout-color1, white);\n  --xr-background-color-row-odd: var(--jp-layout-color2, #eeeeee);\n}\n\nhtml[theme=dark],\nbody[data-theme=dark],\nbody.vscode-dark {\n  --xr-font-color0: rgba(255, 255, 255, 1);\n  --xr-font-color2: rgba(255, 255, 255, 0.54);\n  --xr-font-color3: rgba(255, 255, 255, 0.38);\n  --xr-border-color: #1F1F1F;\n  --xr-disabled-color: #515151;\n  --xr-background-color: #111111;\n  --xr-background-color-row-even: #111111;\n  --xr-background-color-row-odd: #313131;\n}\n\n.xr-wrap {\n  display: block !important;\n  min-width: 300px;\n  max-width: 700px;\n}\n\n.xr-text-repr-fallback {\n  /* fallback to plain text repr when CSS is not injected (untrusted notebook) */\n  display: none;\n}\n\n.xr-header {\n  padding-top: 6px;\n  padding-bottom: 6px;\n  margin-bottom: 4px;\n  border-bottom: solid 1px var(--xr-border-color);\n}\n\n.xr-header > div,\n.xr-header > ul {\n  display: inline;\n  margin-top: 0;\n  margin-bottom: 0;\n}\n\n.xr-obj-type,\n.xr-array-name {\n  margin-left: 2px;\n  margin-right: 10px;\n}\n\n.xr-obj-type {\n  color: var(--xr-font-color2);\n}\n\n.xr-sections {\n  padding-left: 0 !important;\n  display: grid;\n  grid-template-columns: 150px auto auto 1fr 20px 20px;\n}\n\n.xr-section-item {\n  display: contents;\n}\n\n.xr-section-item input {\n  display: none;\n}\n\n.xr-section-item input + label {\n  color: var(--xr-disabled-color);\n}\n\n.xr-section-item input:enabled + label {\n  cursor: pointer;\n  color: var(--xr-font-color2);\n}\n\n.xr-section-item input:enabled + label:hover {\n  color: var(--xr-font-color0);\n}\n\n.xr-section-summary {\n  grid-column: 1;\n  color: var(--xr-font-color2);\n  font-weight: 500;\n}\n\n.xr-section-summary > span {\n  display: inline-block;\n  padding-left: 0.5em;\n}\n\n.xr-section-summary-in:disabled + label {\n  color: var(--xr-font-color2);\n}\n\n.xr-section-summary-in + label:before {\n  display: inline-block;\n  content: '►';\n  font-size: 11px;\n  width: 15px;\n  text-align: center;\n}\n\n.xr-section-summary-in:disabled + label:before {\n  color: var(--xr-disabled-color);\n}\n\n.xr-section-summary-in:checked + label:before {\n  content: '▼';\n}\n\n.xr-section-summary-in:checked + label > span {\n  display: none;\n}\n\n.xr-section-summary,\n.xr-section-inline-details {\n  padding-top: 4px;\n  padding-bottom: 4px;\n}\n\n.xr-section-inline-details {\n  grid-column: 2 / -1;\n}\n\n.xr-section-details {\n  display: none;\n  grid-column: 1 / -1;\n  margin-bottom: 5px;\n}\n\n.xr-section-summary-in:checked ~ .xr-section-details {\n  display: contents;\n}\n\n.xr-array-wrap {\n  grid-column: 1 / -1;\n  display: grid;\n  grid-template-columns: 20px auto;\n}\n\n.xr-array-wrap > label {\n  grid-column: 1;\n  vertical-align: top;\n}\n\n.xr-preview {\n  color: var(--xr-font-color3);\n}\n\n.xr-array-preview,\n.xr-array-data {\n  padding: 0 5px !important;\n  grid-column: 2;\n}\n\n.xr-array-data,\n.xr-array-in:checked ~ .xr-array-preview {\n  display: none;\n}\n\n.xr-array-in:checked ~ .xr-array-data,\n.xr-array-preview {\n  display: inline-block;\n}\n\n.xr-dim-list {\n  display: inline-block !important;\n  list-style: none;\n  padding: 0 !important;\n  margin: 0;\n}\n\n.xr-dim-list li {\n  display: inline-block;\n  padding: 0;\n  margin: 0;\n}\n\n.xr-dim-list:before {\n  content: '(';\n}\n\n.xr-dim-list:after {\n  content: ')';\n}\n\n.xr-dim-list li:not(:last-child):after {\n  content: ',';\n  padding-right: 5px;\n}\n\n.xr-has-index {\n  font-weight: bold;\n}\n\n.xr-var-list,\n.xr-var-item {\n  display: contents;\n}\n\n.xr-var-item > div,\n.xr-var-item label,\n.xr-var-item > .xr-var-name span {\n  background-color: var(--xr-background-color-row-even);\n  margin-bottom: 0;\n}\n\n.xr-var-item > .xr-var-name:hover span {\n  padding-right: 5px;\n}\n\n.xr-var-list > li:nth-child(odd) > div,\n.xr-var-list > li:nth-child(odd) > label,\n.xr-var-list > li:nth-child(odd) > .xr-var-name span {\n  background-color: var(--xr-background-color-row-odd);\n}\n\n.xr-var-name {\n  grid-column: 1;\n}\n\n.xr-var-dims {\n  grid-column: 2;\n}\n\n.xr-var-dtype {\n  grid-column: 3;\n  text-align: right;\n  color: var(--xr-font-color2);\n}\n\n.xr-var-preview {\n  grid-column: 4;\n}\n\n.xr-index-preview {\n  grid-column: 2 / 5;\n  color: var(--xr-font-color2);\n}\n\n.xr-var-name,\n.xr-var-dims,\n.xr-var-dtype,\n.xr-preview,\n.xr-attrs dt {\n  white-space: nowrap;\n  overflow: hidden;\n  text-overflow: ellipsis;\n  padding-right: 10px;\n}\n\n.xr-var-name:hover,\n.xr-var-dims:hover,\n.xr-var-dtype:hover,\n.xr-attrs dt:hover {\n  overflow: visible;\n  width: auto;\n  z-index: 1;\n}\n\n.xr-var-attrs,\n.xr-var-data,\n.xr-index-data {\n  display: none;\n  background-color: var(--xr-background-color) !important;\n  padding-bottom: 5px !important;\n}\n\n.xr-var-attrs-in:checked ~ .xr-var-attrs,\n.xr-var-data-in:checked ~ .xr-var-data,\n.xr-index-data-in:checked ~ .xr-index-data {\n  display: block;\n}\n\n.xr-var-data > table {\n  float: right;\n}\n\n.xr-var-name span,\n.xr-var-data,\n.xr-index-name div,\n.xr-index-data,\n.xr-attrs {\n  padding-left: 25px !important;\n}\n\n.xr-attrs,\n.xr-var-attrs,\n.xr-var-data,\n.xr-index-data {\n  grid-column: 1 / -1;\n}\n\ndl.xr-attrs {\n  padding: 0;\n  margin: 0;\n  display: grid;\n  grid-template-columns: 125px auto;\n}\n\n.xr-attrs dt,\n.xr-attrs dd {\n  padding: 0;\n  margin: 0;\n  float: left;\n  padding-right: 10px;\n  width: auto;\n}\n\n.xr-attrs dt {\n  font-weight: normal;\n  grid-column: 1;\n}\n\n.xr-attrs dt:hover span {\n  display: inline-block;\n  background: var(--xr-background-color);\n  padding-right: 10px;\n}\n\n.xr-attrs dd {\n  grid-column: 2;\n  white-space: pre-wrap;\n  word-break: break-all;\n}\n\n.xr-icon-database,\n.xr-icon-file-text2,\n.xr-no-icon {\n  display: inline-block;\n  vertical-align: middle;\n  width: 1em;\n  height: 1.5em !important;\n  stroke-width: 0;\n  stroke: currentColor;\n  fill: currentColor;\n}\n</style><pre class='xr-text-repr-fallback'>&lt;xarray.Dataset&gt;\nDimensions:               (station: 1, time: 5, maintenancetime: 1)\nCoordinates:\n  * station               (station) float64 1.0\n  * time                  (time) datetime64[ns] 2022-08-30T11:21:03 ... 2022-...\n  * maintenancetime       (maintenancetime) datetime64[ns] 2023-05-08T16:09:06\nData variables: (12/15)\n    ghi                   (time, station) float32 0.002086 0.002085 ... 0.002086\n    gti                   (time, station) float32 0.001935 0.001935 ... 0.001935\n    ta                    (time, station) float32 294.8 294.7 294.8 294.7 294.8\n    rh                    (time, station) float32 0.6263 0.6266 ... 0.6271 0.629\n    battery_voltage       (time, station) float32 6.445 6.446 6.45 6.448 6.458\n    ghi_min               (time, station) float32 0.002086 0.002075 ... 0.002086\n    ...                    ...\n    ghi_std               (time, station) float64 0.0 3.4e-06 0.0 0.0 0.0\n    gti_std               (time, station) float64 0.0 5.069e-06 ... 0.0 0.0\n    lat                   (time, station) float64 nan nan 51.39 51.39 51.39\n    lon                   (time, station) float64 nan nan 11.89 11.89 11.89\n    maintenance_flag_ghi  (maintenancetime, station) float32 9.0\n    maintenance_flag_gti  (maintenancetime, station) float32 7.0\nAttributes: (12/31)\n    Conventions:               CF-1.10, ACDD-1.3\n    title:                     TROPOS pyranometer network (PyrNet) observatio...\n    history:                   2024-02-23T15:22:57: Generated level l1a  by p...\n    institution:               Leibniz Institute for Tropospheric Research (T...\n    source:                    TROPOS pyranometer network (PyrNet)\n    references:                https://doi.org/10.5194/amt-9-1153-2016\n    ...                        ...\n    geospatial_lon_max:        11.885256666666667\n    geospatial_lon_units:      degE\n    time_coverage_start:       2022-08-30T11:21:04.065000\n    time_coverage_end:         2022-08-30T11:21:09\n    time_coverage_duration:    P0DT0H0M4.935S\n    time_coverage_resolution:  P0DT0H0M1.23375S</pre><div class='xr-wrap' style='display:none'><div class='xr-header'><div class='xr-obj-type'>xarray.Dataset</div></div><ul class='xr-sections'><li class='xr-section-item'><input id='section-60df516d-314c-453d-b24d-d0240717da9f' class='xr-section-summary-in' type='checkbox' disabled ><label for='section-60df516d-314c-453d-b24d-d0240717da9f' class='xr-section-summary'  title='Expand/collapse section'>Dimensions:</label><div class='xr-section-inline-details'><ul class='xr-dim-list'><li><span class='xr-has-index'>station</span>: 1</li><li><span class='xr-has-index'>time</span>: 5</li><li><span class='xr-has-index'>maintenancetime</span>: 1</li></ul></div><div class='xr-section-details'></div></li><li class='xr-section-item'><input id='section-0520b757-39b3-4fd0-b426-eb72254360c7' class='xr-section-summary-in' type='checkbox'  checked><label for='section-0520b757-39b3-4fd0-b426-eb72254360c7' class='xr-section-summary' >Coordinates: <span>(3)</span></label><div class='xr-section-inline-details'></div><div class='xr-section-details'><ul class='xr-var-list'><li class='xr-var-item'><div class='xr-var-name'><span class='xr-has-index'>station</span></div><div class='xr-var-dims'>(station)</div><div class='xr-var-dtype'>float64</div><div class='xr-var-preview xr-preview'>1.0</div><input id='attrs-bf7771ef-e3de-4e89-b2c2-b3ee2c659f77' class='xr-var-attrs-in' type='checkbox' disabled><label for='attrs-bf7771ef-e3de-4e89-b2c2-b3ee2c659f77' title='Show/Hide attributes'><svg class='icon xr-icon-file-text2'><use xlink:href='#icon-file-text2'></use></svg></label><input id='data-7db577b8-0090-4b92-85a6-23d04f9d05d3' class='xr-var-data-in' type='checkbox'><label for='data-7db577b8-0090-4b92-85a6-23d04f9d05d3' title='Show/Hide data repr'><svg class='icon xr-icon-database'><use xlink:href='#icon-database'></use></svg></label><div class='xr-var-attrs'><dl class='xr-attrs'></dl></div><div class='xr-var-data'><pre>array([1.])</pre></div></li><li class='xr-var-item'><div class='xr-var-name'><span class='xr-has-index'>time</span></div><div class='xr-var-dims'>(time)</div><div class='xr-var-dtype'>datetime64[ns]</div><div class='xr-var-preview xr-preview'>2022-08-30T11:21:03 ... 2022-08-...</div><input id='attrs-c9382732-6d39-4c53-86c0-9d36fe49d9b2' class='xr-var-attrs-in' type='checkbox' disabled><label for='attrs-c9382732-6d39-4c53-86c0-9d36fe49d9b2' title='Show/Hide attributes'><svg class='icon xr-icon-file-text2'><use xlink:href='#icon-file-text2'></use></svg></label><input id='data-9c8cd295-569f-4d17-9d80-8182c32b692d' class='xr-var-data-in' type='checkbox'><label for='data-9c8cd295-569f-4d17-9d80-8182c32b692d' title='Show/Hide data repr'><svg class='icon xr-icon-database'><use xlink:href='#icon-database'></use></svg></label><div class='xr-var-attrs'><dl class='xr-attrs'></dl></div><div class='xr-var-data'><pre>array([&#x27;2022-08-30T11:21:03.000000000&#x27;, &#x27;2022-08-30T11:21:04.000000000&#x27;,\n       &#x27;2022-08-30T11:21:05.000000000&#x27;, &#x27;2022-08-30T11:21:06.000000000&#x27;,\n       &#x27;2022-08-30T11:21:07.000000000&#x27;], dtype=&#x27;datetime64[ns]&#x27;)</pre></div></li><li class='xr-var-item'><div class='xr-var-name'><span class='xr-has-index'>maintenancetime</span></div><div class='xr-var-dims'>(maintenancetime)</div><div class='xr-var-dtype'>datetime64[ns]</div><div class='xr-var-preview xr-preview'>2023-05-08T16:09:06</div><input id='attrs-8ffbd804-232e-4982-821c-dedac4c86a91' class='xr-var-attrs-in' type='checkbox' disabled><label for='attrs-8ffbd804-232e-4982-821c-dedac4c86a91' title='Show/Hide attributes'><svg class='icon xr-icon-file-text2'><use xlink:href='#icon-file-text2'></use></svg></label><input id='data-63a32c21-08df-4da1-ba96-4dc0f0b0885d' class='xr-var-data-in' type='checkbox'><label for='data-63a32c21-08df-4da1-ba96-4dc0f0b0885d' title='Show/Hide data repr'><svg class='icon xr-icon-database'><use xlink:href='#icon-database'></use></svg></label><div class='xr-var-attrs'><dl class='xr-attrs'></dl></div><div class='xr-var-data'><pre>array([&#x27;2023-05-08T16:09:06.000000000&#x27;], dtype=&#x27;datetime64[ns]&#x27;)</pre></div></li></ul></div></li><li class='xr-section-item'><input id='section-3779887b-9103-4120-9495-7c8bb9e11692' class='xr-section-summary-in' type='checkbox'  ><label for='section-3779887b-9103-4120-9495-7c8bb9e11692' class='xr-section-summary' >Data variables: <span>(15)</span></label><div class='xr-section-inline-details'></div><div class='xr-section-details'><ul class='xr-var-list'><li class='xr-var-item'><div class='xr-var-name'><span>ghi</span></div><div class='xr-var-dims'>(time, station)</div><div class='xr-var-dtype'>float32</div><div class='xr-var-preview xr-preview'>0.002086 0.002085 ... 0.002086</div><input id='attrs-fdc2f54e-6662-4791-b155-ca07fc4f52f4' class='xr-var-attrs-in' type='checkbox' ><label for='attrs-fdc2f54e-6662-4791-b155-ca07fc4f52f4' title='Show/Hide attributes'><svg class='icon xr-icon-file-text2'><use xlink:href='#icon-file-text2'></use></svg></label><input id='data-9633c2ce-7226-401b-9659-d9c34fe7633a' class='xr-var-data-in' type='checkbox'><label for='data-9633c2ce-7226-401b-9659-d9c34fe7633a' title='Show/Hide data repr'><svg class='icon xr-icon-database'><use xlink:href='#icon-database'></use></svg></label><div class='xr-var-attrs'><dl class='xr-attrs'><dt><span>units :</span></dt><dd>V</dd><dt><span>long_name :</span></dt><dd>downwelling shortwave flux</dd><dt><span>standard_name :</span></dt><dd>downwelling_shortwave_flux_in_air</dd><dt><span>valid_range :</span></dt><dd>[   0 1023]</dd></dl></div><div class='xr-var-data'><pre>array([[0.00208602],\n       [0.00208495],\n       [0.00208602],\n       [0.00208602],\n       [0.00208602]], dtype=float32)</pre></div></li><li class='xr-var-item'><div class='xr-var-name'><span>gti</span></div><div class='xr-var-dims'>(time, station)</div><div class='xr-var-dtype'>float32</div><div class='xr-var-preview xr-preview'>0.001935 0.001935 ... 0.001935</div><input id='attrs-45f81de5-2224-4521-ae72-4732197fd246' class='xr-var-attrs-in' type='checkbox' ><label for='attrs-45f81de5-2224-4521-ae72-4732197fd246' title='Show/Hide attributes'><svg class='icon xr-icon-file-text2'><use xlink:href='#icon-file-text2'></use></svg></label><input id='data-ee7cc6ab-dbcc-44c0-927c-ac9037cd4bb3' class='xr-var-data-in' type='checkbox'><label for='data-ee7cc6ab-dbcc-44c0-927c-ac9037cd4bb3' title='Show/Hide data repr'><svg class='icon xr-icon-database'><use xlink:href='#icon-database'></use></svg></label><div class='xr-var-attrs'><dl class='xr-attrs'><dt><span>units :</span></dt><dd>V</dd><dt><span>long_name :</span></dt><dd>downwelling shortwave flux measured on secondary platform, might be tilted</dd><dt><span>standard_name :</span></dt><dd>downwelling_shortwave_flux_in_air</dd><dt><span>valid_range :</span></dt><dd>[   0 1023]</dd><dt><span>hangle :</span></dt><dd>0.0</dd><dt><span>vangle :</span></dt><dd>0.0</dd></dl></div><div class='xr-var-data'><pre>array([[0.00193548],\n       [0.00193548],\n       [0.00193656],\n       [0.00193548],\n       [0.00193548]], dtype=float32)</pre></div></li><li class='xr-var-item'><div class='xr-var-name'><span>ta</span></div><div class='xr-var-dims'>(time, station)</div><div class='xr-var-dtype'>float32</div><div class='xr-var-preview xr-preview'>294.8 294.7 294.8 294.7 294.8</div><input id='attrs-3a5c8cd9-8267-4f9e-9855-cd767ccbad95' class='xr-var-attrs-in' type='checkbox' ><label for='attrs-3a5c8cd9-8267-4f9e-9855-cd767ccbad95' title='Show/Hide attributes'><svg class='icon xr-icon-file-text2'><use xlink:href='#icon-file-text2'></use></svg></label><input id='data-79a35b34-5328-4aef-a34c-48e14216caac' class='xr-var-data-in' type='checkbox'><label for='data-79a35b34-5328-4aef-a34c-48e14216caac' title='Show/Hide data repr'><svg class='icon xr-icon-database'><use xlink:href='#icon-database'></use></svg></label><div class='xr-var-attrs'><dl class='xr-attrs'><dt><span>units :</span></dt><dd>K</dd><dt><span>long_name :</span></dt><dd>air temperature</dd><dt><span>standard_name :</span></dt><dd>air_temperature</dd><dt><span>valid_range :</span></dt><dd>[  0 775]</dd></dl></div><div class='xr-var-data'><pre>array([[294.7758 ],\n       [294.74997],\n       [294.7887 ],\n       [294.74997],\n       [294.82742]], dtype=float32)</pre></div></li><li class='xr-var-item'><div class='xr-var-name'><span>rh</span></div><div class='xr-var-dims'>(time, station)</div><div class='xr-var-dtype'>float32</div><div class='xr-var-preview xr-preview'>0.6263 0.6266 0.6271 0.6271 0.629</div><input id='attrs-03f5ec1f-cc7a-43b9-bbcb-9b44c25a0d98' class='xr-var-attrs-in' type='checkbox' ><label for='attrs-03f5ec1f-cc7a-43b9-bbcb-9b44c25a0d98' title='Show/Hide attributes'><svg class='icon xr-icon-file-text2'><use xlink:href='#icon-file-text2'></use></svg></label><input id='data-18c2d78a-7c16-4959-9444-9c4eb40fb978' class='xr-var-data-in' type='checkbox'><label for='data-18c2d78a-7c16-4959-9444-9c4eb40fb978' title='Show/Hide data repr'><svg class='icon xr-icon-database'><use xlink:href='#icon-database'></use></svg></label><div class='xr-var-attrs'><dl class='xr-attrs'><dt><span>units :</span></dt><dd>1</dd><dt><span>long_name :</span></dt><dd>air relative humidity</dd><dt><span>standard_name :</span></dt><dd>relative_humidity</dd><dt><span>valid_range :</span></dt><dd>[  0 775]</dd></dl></div><div class='xr-var-data'><pre>array([[0.62632257],\n       [0.6265806 ],\n       [0.6270968 ],\n       [0.6270968 ],\n       [0.62903225]], dtype=float32)</pre></div></li><li class='xr-var-item'><div class='xr-var-name'><span>battery_voltage</span></div><div class='xr-var-dims'>(time, station)</div><div class='xr-var-dtype'>float32</div><div class='xr-var-preview xr-preview'>6.445 6.446 6.45 6.448 6.458</div><input id='attrs-059522e1-6f00-4851-be04-4f7690148340' class='xr-var-attrs-in' type='checkbox' ><label for='attrs-059522e1-6f00-4851-be04-4f7690148340' title='Show/Hide attributes'><svg class='icon xr-icon-file-text2'><use xlink:href='#icon-file-text2'></use></svg></label><input id='data-93126a19-986e-4116-914e-820dddeec14e' class='xr-var-data-in' type='checkbox'><label for='data-93126a19-986e-4116-914e-820dddeec14e' title='Show/Hide data repr'><svg class='icon xr-icon-database'><use xlink:href='#icon-database'></use></svg></label><div class='xr-var-attrs'><dl class='xr-attrs'><dt><span>units :</span></dt><dd>V</dd><dt><span>standard_name :</span></dt><dd>battery_voltage</dd><dt><span>valid_range :</span></dt><dd>[  0 992]</dd></dl></div><div class='xr-var-data'><pre>array([[6.4451613],\n       [6.445807 ],\n       [6.4496775],\n       [6.4477415],\n       [6.4580646]], dtype=float32)</pre></div></li><li class='xr-var-item'><div class='xr-var-name'><span>ghi_min</span></div><div class='xr-var-dims'>(time, station)</div><div class='xr-var-dtype'>float32</div><div class='xr-var-preview xr-preview'>0.002086 0.002075 ... 0.002086</div><input id='attrs-aacc56ee-aaa2-4249-aba0-7a0d242c7405' class='xr-var-attrs-in' type='checkbox' ><label for='attrs-aacc56ee-aaa2-4249-aba0-7a0d242c7405' title='Show/Hide attributes'><svg class='icon xr-icon-file-text2'><use xlink:href='#icon-file-text2'></use></svg></label><input id='data-6637856e-e215-4abf-bc12-f86c16b9f82c' class='xr-var-data-in' type='checkbox'><label for='data-6637856e-e215-4abf-bc12-f86c16b9f82c' title='Show/Hide data repr'><svg class='icon xr-icon-database'><use xlink:href='#icon-database'></use></svg></label><div class='xr-var-attrs'><dl class='xr-attrs'><dt><span>units :</span></dt><dd>V</dd><dt><span>long_name :</span></dt><dd>downwelling shortwave flux</dd><dt><span>standard_name :</span></dt><dd>min_downwelling_shortwave_flux_in_air</dd><dt><span>valid_range :</span></dt><dd>[   0 1023]</dd></dl></div><div class='xr-var-data'><pre>array([[0.00208602],\n       [0.00207527],\n       [0.00208602],\n       [0.00208602],\n       [0.00208602]], dtype=float32)</pre></div></li><li class='xr-var-item'><div class='xr-var-name'><span>gti_min</span></div><div class='xr-var-dims'>(time, station)</div><div class='xr-var-dtype'>float32</div><div class='xr-var-preview xr-preview'>0.001935 0.001925 ... 0.001935</div><input id='attrs-563342ab-d98b-4c34-bca3-89b3cfa47855' class='xr-var-attrs-in' type='checkbox' ><label for='attrs-563342ab-d98b-4c34-bca3-89b3cfa47855' title='Show/Hide attributes'><svg class='icon xr-icon-file-text2'><use xlink:href='#icon-file-text2'></use></svg></label><input id='data-87ff059a-fc0c-4e20-a742-8a8c3d38582b' class='xr-var-data-in' type='checkbox'><label for='data-87ff059a-fc0c-4e20-a742-8a8c3d38582b' title='Show/Hide data repr'><svg class='icon xr-icon-database'><use xlink:href='#icon-database'></use></svg></label><div class='xr-var-attrs'><dl class='xr-attrs'><dt><span>units :</span></dt><dd>V</dd><dt><span>long_name :</span></dt><dd>downwelling shortwave flux measured on secondary platform, might be tilted</dd><dt><span>standard_name :</span></dt><dd>min_downwelling_shortwave_flux_in_air</dd><dt><span>valid_range :</span></dt><dd>[   0 1023]</dd><dt><span>hangle :</span></dt><dd>0.0</dd><dt><span>vangle :</span></dt><dd>0.0</dd></dl></div><div class='xr-var-data'><pre>array([[0.00193548],\n       [0.00192473],\n       [0.00192473],\n       [0.00193548],\n       [0.00193548]], dtype=float32)</pre></div></li><li class='xr-var-item'><div class='xr-var-name'><span>ghi_max</span></div><div class='xr-var-dims'>(time, station)</div><div class='xr-var-dtype'>float32</div><div class='xr-var-preview xr-preview'>0.002086 0.002086 ... 0.002086</div><input id='attrs-26298ce5-9f9f-4374-b0c7-666b4b106622' class='xr-var-attrs-in' type='checkbox' ><label for='attrs-26298ce5-9f9f-4374-b0c7-666b4b106622' title='Show/Hide attributes'><svg class='icon xr-icon-file-text2'><use xlink:href='#icon-file-text2'></use></svg></label><input id='data-eb6a693e-4b81-4490-a256-e89e735cac57' class='xr-var-data-in' type='checkbox'><label for='data-eb6a693e-4b81-4490-a256-e89e735cac57' title='Show/Hide data repr'><svg class='icon xr-icon-database'><use xlink:href='#icon-database'></use></svg></label><div class='xr-var-attrs'><dl class='xr-attrs'><dt><span>units :</span></dt><dd>V</dd><dt><span>long_name :</span></dt><dd>downwelling shortwave flux</dd><dt><span>standard_name :</span></dt><dd>max_downwelling_shortwave_flux_in_air</dd><dt><span>valid_range :</span></dt><dd>[   0 1023]</dd></dl></div><div class='xr-var-data'><pre>array([[0.00208602],\n       [0.00208602],\n       [0.00208602],\n       [0.00208602],\n       [0.00208602]], dtype=float32)</pre></div></li><li class='xr-var-item'><div class='xr-var-name'><span>gti_max</span></div><div class='xr-var-dims'>(time, station)</div><div class='xr-var-dtype'>float32</div><div class='xr-var-preview xr-preview'>0.001935 0.001946 ... 0.001935</div><input id='attrs-5eed770d-6037-4752-a6cc-8201d20c3b36' class='xr-var-attrs-in' type='checkbox' ><label for='attrs-5eed770d-6037-4752-a6cc-8201d20c3b36' title='Show/Hide attributes'><svg class='icon xr-icon-file-text2'><use xlink:href='#icon-file-text2'></use></svg></label><input id='data-9697910a-7ebb-451b-b5d4-9a66a5fc3f06' class='xr-var-data-in' type='checkbox'><label for='data-9697910a-7ebb-451b-b5d4-9a66a5fc3f06' title='Show/Hide data repr'><svg class='icon xr-icon-database'><use xlink:href='#icon-database'></use></svg></label><div class='xr-var-attrs'><dl class='xr-attrs'><dt><span>units :</span></dt><dd>V</dd><dt><span>long_name :</span></dt><dd>downwelling shortwave flux measured on secondary platform, might be tilted</dd><dt><span>standard_name :</span></dt><dd>max_downwelling_shortwave_flux_in_air</dd><dt><span>valid_range :</span></dt><dd>[   0 1023]</dd><dt><span>hangle :</span></dt><dd>0.0</dd><dt><span>vangle :</span></dt><dd>0.0</dd></dl></div><div class='xr-var-data'><pre>array([[0.00193548],\n       [0.00194624],\n       [0.00194624],\n       [0.00193548],\n       [0.00193548]], dtype=float32)</pre></div></li><li class='xr-var-item'><div class='xr-var-name'><span>ghi_std</span></div><div class='xr-var-dims'>(time, station)</div><div class='xr-var-dtype'>float64</div><div class='xr-var-preview xr-preview'>0.0 3.4e-06 0.0 0.0 0.0</div><input id='attrs-eaab9099-2334-4fdf-bbc9-32604ba76fd4' class='xr-var-attrs-in' type='checkbox' ><label for='attrs-eaab9099-2334-4fdf-bbc9-32604ba76fd4' title='Show/Hide attributes'><svg class='icon xr-icon-file-text2'><use xlink:href='#icon-file-text2'></use></svg></label><input id='data-176371ce-b078-4074-8aa9-d2711f5a792d' class='xr-var-data-in' type='checkbox'><label for='data-176371ce-b078-4074-8aa9-d2711f5a792d' title='Show/Hide data repr'><svg class='icon xr-icon-database'><use xlink:href='#icon-database'></use></svg></label><div class='xr-var-attrs'><dl class='xr-attrs'><dt><span>units :</span></dt><dd>V</dd><dt><span>long_name :</span></dt><dd>downwelling shortwave flux</dd><dt><span>standard_name :</span></dt><dd>std_downwelling_shortwave_flux_in_air</dd><dt><span>valid_range :</span></dt><dd>[   0 1023]</dd></dl></div><div class='xr-var-data'><pre>array([[0.00000000e+00],\n       [3.40026587e-06],\n       [0.00000000e+00],\n       [0.00000000e+00],\n       [0.00000000e+00]])</pre></div></li><li class='xr-var-item'><div class='xr-var-name'><span>gti_std</span></div><div class='xr-var-dims'>(time, station)</div><div class='xr-var-dtype'>float64</div><div class='xr-var-preview xr-preview'>0.0 5.069e-06 6.104e-06 0.0 0.0</div><input id='attrs-fca6585c-9dc5-478a-bf6e-fcd0ae9112ed' class='xr-var-attrs-in' type='checkbox' ><label for='attrs-fca6585c-9dc5-478a-bf6e-fcd0ae9112ed' title='Show/Hide attributes'><svg class='icon xr-icon-file-text2'><use xlink:href='#icon-file-text2'></use></svg></label><input id='data-54386e16-1ccd-40ec-9fbb-1da79f331f53' class='xr-var-data-in' type='checkbox'><label for='data-54386e16-1ccd-40ec-9fbb-1da79f331f53' title='Show/Hide data repr'><svg class='icon xr-icon-database'><use xlink:href='#icon-database'></use></svg></label><div class='xr-var-attrs'><dl class='xr-attrs'><dt><span>units :</span></dt><dd>V</dd><dt><span>long_name :</span></dt><dd>downwelling shortwave flux measured on secondary platform, might be tilted</dd><dt><span>standard_name :</span></dt><dd>std_downwelling_shortwave_flux_in_air</dd><dt><span>valid_range :</span></dt><dd>[   0 1023]</dd><dt><span>hangle :</span></dt><dd>0.0</dd><dt><span>vangle :</span></dt><dd>0.0</dd></dl></div><div class='xr-var-data'><pre>array([[0.00000000e+00],\n       [5.06887196e-06],\n       [6.10373011e-06],\n       [0.00000000e+00],\n       [0.00000000e+00]])</pre></div></li><li class='xr-var-item'><div class='xr-var-name'><span>lat</span></div><div class='xr-var-dims'>(time, station)</div><div class='xr-var-dtype'>float64</div><div class='xr-var-preview xr-preview'>nan nan 51.39 51.39 51.39</div><input id='attrs-8df57796-dbd3-4eda-b0ac-386c63e4d972' class='xr-var-attrs-in' type='checkbox' ><label for='attrs-8df57796-dbd3-4eda-b0ac-386c63e4d972' title='Show/Hide attributes'><svg class='icon xr-icon-file-text2'><use xlink:href='#icon-file-text2'></use></svg></label><input id='data-104fb661-d112-46f3-949e-97ee724cc92d' class='xr-var-data-in' type='checkbox'><label for='data-104fb661-d112-46f3-949e-97ee724cc92d' title='Show/Hide data repr'><svg class='icon xr-icon-database'><use xlink:href='#icon-database'></use></svg></label><div class='xr-var-attrs'><dl class='xr-attrs'><dt><span>standard_name :</span></dt><dd>latitude</dd><dt><span>units :</span></dt><dd>degree_north</dd><dt><span>valid_range :</span></dt><dd>[-90.  90.]</dd></dl></div><div class='xr-var-data'><pre>array([[        nan],\n       [        nan],\n       [51.39021167],\n       [51.39021086],\n       [51.39021   ]])</pre></div></li><li class='xr-var-item'><div class='xr-var-name'><span>lon</span></div><div class='xr-var-dims'>(time, station)</div><div class='xr-var-dtype'>float64</div><div class='xr-var-preview xr-preview'>nan nan 11.89 11.89 11.89</div><input id='attrs-ddf82499-eb8e-4ecc-b60d-8796d22b10ae' class='xr-var-attrs-in' type='checkbox' ><label for='attrs-ddf82499-eb8e-4ecc-b60d-8796d22b10ae' title='Show/Hide attributes'><svg class='icon xr-icon-file-text2'><use xlink:href='#icon-file-text2'></use></svg></label><input id='data-9c7bc869-17a7-44c6-bef7-ed38e9c8af9e' class='xr-var-data-in' type='checkbox'><label for='data-9c7bc869-17a7-44c6-bef7-ed38e9c8af9e' title='Show/Hide data repr'><svg class='icon xr-icon-database'><use xlink:href='#icon-database'></use></svg></label><div class='xr-var-attrs'><dl class='xr-attrs'><dt><span>standard_name :</span></dt><dd>longitude</dd><dt><span>units :</span></dt><dd>degree_east</dd><dt><span>valid_range :</span></dt><dd>[-180.  180.]</dd></dl></div><div class='xr-var-data'><pre>array([[        nan],\n       [        nan],\n       [11.88525656],\n       [11.88525425],\n       [11.88525167]])</pre></div></li><li class='xr-var-item'><div class='xr-var-name'><span>maintenance_flag_ghi</span></div><div class='xr-var-dims'>(maintenancetime, station)</div><div class='xr-var-dtype'>float32</div><div class='xr-var-preview xr-preview'>9.0</div><input id='attrs-f8342744-58b9-4a8e-a2ee-001f259780a8' class='xr-var-attrs-in' type='checkbox' ><label for='attrs-f8342744-58b9-4a8e-a2ee-001f259780a8' title='Show/Hide attributes'><svg class='icon xr-icon-file-text2'><use xlink:href='#icon-file-text2'></use></svg></label><input id='data-06469566-084d-43d9-a384-5876f2a88eb2' class='xr-var-data-in' type='checkbox'><label for='data-06469566-084d-43d9-a384-5876f2a88eb2' title='Show/Hide data repr'><svg class='icon xr-icon-database'><use xlink:href='#icon-database'></use></svg></label><div class='xr-var-attrs'><dl class='xr-attrs'><dt><span>standard_name :</span></dt><dd>quality_flag</dd><dt><span>long_name :</span></dt><dd>Maintenance quality control flags for main pyranometer</dd><dt><span>note :</span></dt><dd>Soiling describes subjectively the coverage of the pyranometer dome with dirt. The level flag is problematic if the bubble of the spirit level touches the reference ring, and bad if it is outside.</dd><dt><span>valid_range :</span></dt><dd>[ 0 11]</dd><dt><span>flag_masks :</span></dt><dd>[ 3  3  3 12 12]</dd><dt><span>flag_values :</span></dt><dd>[1 2 3 4 8]</dd><dt><span>flag_meanings :</span></dt><dd>soiling_light soiling_moderate soiling_heavy level_problematic level_bad</dd><dt><span>note_general :</span></dt><dd>222</dd><dt><span>note_clean :</span></dt><dd>testing notes</dd><dt><span>note_level :</span></dt><dd>test</dd></dl></div><div class='xr-var-data'><pre>array([[9.]], dtype=float32)</pre></div></li><li class='xr-var-item'><div class='xr-var-name'><span>maintenance_flag_gti</span></div><div class='xr-var-dims'>(maintenancetime, station)</div><div class='xr-var-dtype'>float32</div><div class='xr-var-preview xr-preview'>7.0</div><input id='attrs-33e65b9e-5aff-4062-9736-f06d92021b04' class='xr-var-attrs-in' type='checkbox' ><label for='attrs-33e65b9e-5aff-4062-9736-f06d92021b04' title='Show/Hide attributes'><svg class='icon xr-icon-file-text2'><use xlink:href='#icon-file-text2'></use></svg></label><input id='data-d84172ad-42e8-4473-aad6-a403d19c65ef' class='xr-var-data-in' type='checkbox'><label for='data-d84172ad-42e8-4473-aad6-a403d19c65ef' title='Show/Hide data repr'><svg class='icon xr-icon-database'><use xlink:href='#icon-database'></use></svg></label><div class='xr-var-attrs'><dl class='xr-attrs'><dt><span>standard_name :</span></dt><dd>quality_flag</dd><dt><span>long_name :</span></dt><dd>Maintenance quality control flags for secondary pyranometer</dd><dt><span>note :</span></dt><dd>Soiling describes subjectively the coverage of the pyranometer dome with dirt. The level flag is problematic if the bubble of the spirit level touches the reference ring, and bad if it is outside.</dd><dt><span>valid_range :</span></dt><dd>[ 0 11]</dd><dt><span>flag_masks :</span></dt><dd>[ 3  3  3 12 12]</dd><dt><span>flag_values :</span></dt><dd>[1 2 3 4 8]</dd><dt><span>flag_meanings :</span></dt><dd>soiling_light soiling_moderate soiling_heavy level_problematic level_bad</dd><dt><span>note_general :</span></dt><dd>222</dd><dt><span>note_clean :</span></dt><dd></dd><dt><span>note_level :</span></dt><dd></dd></dl></div><div class='xr-var-data'><pre>array([[7.]], dtype=float32)</pre></div></li></ul></div></li><li class='xr-section-item'><input id='section-0dc6b1f5-a5eb-4b92-bc10-a1788fbbe3d9' class='xr-section-summary-in' type='checkbox'  ><label for='section-0dc6b1f5-a5eb-4b92-bc10-a1788fbbe3d9' class='xr-section-summary' >Indexes: <span>(3)</span></label><div class='xr-section-inline-details'></div><div class='xr-section-details'><ul class='xr-var-list'><li class='xr-var-item'><div class='xr-index-name'><div>station</div></div><div class='xr-index-preview'>PandasIndex</div><div></div><input id='index-439e0e77-bec9-4824-8b33-f895d8156f2f' class='xr-index-data-in' type='checkbox'/><label for='index-439e0e77-bec9-4824-8b33-f895d8156f2f' title='Show/Hide index repr'><svg class='icon xr-icon-database'><use xlink:href='#icon-database'></use></svg></label><div class='xr-index-data'><pre>PandasIndex(Float64Index([1.0], dtype=&#x27;float64&#x27;, name=&#x27;station&#x27;))</pre></div></li><li class='xr-var-item'><div class='xr-index-name'><div>time</div></div><div class='xr-index-preview'>PandasIndex</div><div></div><input id='index-d7f1eeb8-f331-46da-b935-d3f3b32e8e2c' class='xr-index-data-in' type='checkbox'/><label for='index-d7f1eeb8-f331-46da-b935-d3f3b32e8e2c' title='Show/Hide index repr'><svg class='icon xr-icon-database'><use xlink:href='#icon-database'></use></svg></label><div class='xr-index-data'><pre>PandasIndex(DatetimeIndex([&#x27;2022-08-30 11:21:03&#x27;, &#x27;2022-08-30 11:21:04&#x27;,\n               &#x27;2022-08-30 11:21:05&#x27;, &#x27;2022-08-30 11:21:06&#x27;,\n               &#x27;2022-08-30 11:21:07&#x27;],\n              dtype=&#x27;datetime64[ns]&#x27;, name=&#x27;time&#x27;, freq=&#x27;S&#x27;))</pre></div></li><li class='xr-var-item'><div class='xr-index-name'><div>maintenancetime</div></div><div class='xr-index-preview'>PandasIndex</div><div></div><input id='index-c6d45789-ac46-49ae-a43f-144eaacd32ee' class='xr-index-data-in' type='checkbox'/><label for='index-c6d45789-ac46-49ae-a43f-144eaacd32ee' title='Show/Hide index repr'><svg class='icon xr-icon-database'><use xlink:href='#icon-database'></use></svg></label><div class='xr-index-data'><pre>PandasIndex(DatetimeIndex([&#x27;2023-05-08 16:09:06&#x27;], dtype=&#x27;datetime64[ns]&#x27;, name=&#x27;maintenancetime&#x27;, freq=None))</pre></div></li></ul></div></li><li class='xr-section-item'><input id='section-ad8102e3-11e6-4d40-a0bb-1f00a9e2184a' class='xr-section-summary-in' type='checkbox'  ><label for='section-ad8102e3-11e6-4d40-a0bb-1f00a9e2184a' class='xr-section-summary' >Attributes: <span>(31)</span></label><div class='xr-section-inline-details'></div><div class='xr-section-details'><dl class='xr-attrs'><dt><span>Conventions :</span></dt><dd>CF-1.10, ACDD-1.3</dd><dt><span>title :</span></dt><dd>TROPOS pyranometer network (PyrNet) observational data set</dd><dt><span>history :</span></dt><dd>2024-02-23T15:22:57: Generated level l1a  by pyrnet version 0.1.10+60.gc0e9399.dirty; </dd><dt><span>institution :</span></dt><dd>Leibniz Institute for Tropospheric Research (TROPOS)</dd><dt><span>source :</span></dt><dd>TROPOS pyranometer network (PyrNet)</dd><dt><span>references :</span></dt><dd>https://doi.org/10.5194/amt-9-1153-2016</dd><dt><span>Department :</span></dt><dd>Remote Sensing of Atmospheric Processes</dd><dt><span>Department_team :</span></dt><dd>Clouds, Aerosol and Radiation</dd><dt><span>Address :</span></dt><dd>Permoser Str. 15, 04318 Leipzig, Germany</dd><dt><span>Contact_person :</span></dt><dd>Andreas Macke and the clouds, aerosol and radiation team of the remote sensing department, mailto:andreas.macke@tropos.de</dd><dt><span>Contributor_name :</span></dt><dd></dd><dt><span>Contributor_role :</span></dt><dd></dd><dt><span>Authors_software :</span></dt><dd>Hartwig Deneke, Jonas Witthuhn, mailto:deneke@tropos.de</dd><dt><span>Creator_name :</span></dt><dd></dd><dt><span>Project :</span></dt><dd></dd><dt><span>Standard_name_vocabulary :</span></dt><dd>CF Standard Name Table v81</dd><dt><span>License :</span></dt><dd>CC-BY-SA 3.0</dd><dt><span>TESTNOTE :</span></dt><dd>This is a test note.</dd><dt><span>processing_level :</span></dt><dd>l1a</dd><dt><span>product_version :</span></dt><dd>0.1.10+60.gc0e9399.dirty</dd><dt><span>date_created :</span></dt><dd>2024-02-23T15:22:57</dd><dt><span>geospatial_lat_min :</span></dt><dd>51.390208333333334</dd><dt><span>geospatial_lat_max :</span></dt><dd>51.390211666666666</dd><dt><span>geospatial_lat_units :</span></dt><dd>degN</dd><dt><span>geospatial_lon_min :</span></dt><dd>11.885246666666667</dd><dt><span>geospatial_lon_max :</span></dt><dd>11.885256666666667</dd><dt><span>geospatial_lon_units :</span></dt><dd>degE</dd><dt><span>time_coverage_start :</span></dt><dd>2022-08-30T11:21:04.065000</dd><dt><span>time_coverage_end :</span></dt><dd>2022-08-30T11:21:09</dd><dt><span>time_coverage_duration :</span></dt><dd>P0DT0H0M4.935S</dd><dt><span>time_coverage_resolution :</span></dt><dd>P0DT0H0M1.23375S</dd></dl></div></li></ul></div></div>"
     },
     "execution_count": 27,
     "metadata": {},
     "output_type": "execute_result"
    }
   ],
   "source": [
    "#|dropcode\n",
    "#|dropout\n",
    "\n",
    "# 7. Interpolate GPS coordinates to bin time\n",
    "ds_gps = ds_l1a.drop_dims(\"adctime\")\n",
    "ds_gps = ds_gps.drop_vars(['iadc'])\n",
    "\n",
    "\n",
    "# Decide whether geo coordinates should be averaged or not\n",
    "\n",
    "# if config['average_latlon']:\n",
    "ds_gps_avg = ds_gps.mean('gpstime',skipna=True)\n",
    "ds_l1b_avg = xr.merge((ds_l1b,ds_gps_avg))\n",
    "\n",
    "# else:\n",
    "ds_gps = ds_gps.interp(gpstime=ds_l1b.time,\n",
    "                       kwargs={\"bounds_error\":False, \"fill_value\":np.nan})\n",
    "ds_gps = ds_gps.drop_vars(\"gpstime\")\n",
    "\n",
    "ds_l1b = xr.merge((ds_l1b,ds_gps))\n",
    "\n",
    "ds_l1b"
   ]
  },
  {
   "cell_type": "code",
   "execution_count": 28,
   "metadata": {
    "collapsed": false,
    "ExecuteTime": {
     "end_time": "2024-02-23T15:22:59.477615Z",
     "start_time": "2024-02-23T15:22:59.352357700Z"
    }
   },
   "outputs": [],
   "source": [
    "#|hide\n",
    "# dsp = ds_l1b.sel(time=\"2019-07-15\")\n",
    "# plt.figure()\n",
    "# plt.plot(dsp.time, dsp.ghi)\n",
    "# plt.grid()"
   ]
  },
  {
   "cell_type": "markdown",
   "metadata": {
    "collapsed": false
   },
   "source": []
  },
  {
   "cell_type": "markdown",
   "metadata": {
    "collapsed": false
   },
   "source": [
    "### Add sun position\n",
    "Use ```trosat.sunpos``` to calculate sun position from time and lat,lon coordinates.\n"
   ]
  },
  {
   "cell_type": "code",
   "execution_count": 29,
   "metadata": {
    "collapsed": false,
    "ExecuteTime": {
     "end_time": "2024-02-23T15:22:59.478607600Z",
     "start_time": "2024-02-23T15:22:59.368809600Z"
    }
   },
   "outputs": [
    {
     "name": "stdout",
     "output_type": "stream",
     "text": [
      "szen (avg latlon): [42.51158528 42.51172144 42.51185788 42.5119946  42.51213159]\n",
      "szen: [        nan         nan 42.51185936 42.5119952  42.51213125]\n",
      "sazi  (avg latlon): [182.90675054 182.91284018 182.91892979 182.92501938 182.93110893]\n",
      "sazi: [         nan          nan 182.91893638 182.92502264 182.93110846]\n",
      "Earth-Sun Distance: 1.009599726026352\n"
     ]
    }
   ],
   "source": [
    "#|dropcode\n",
    "#|dropout\n",
    "# 8. Calc and add sun position\n",
    "\n",
    "szen, sazi = sp.sun_angles(\n",
    "    time=ds_l1b.time.values[:,None],\n",
    "    lat=ds_l1b.lat.values,\n",
    "    lon=ds_l1b.lon.values\n",
    ")\n",
    "\n",
    "\n",
    "szen_avg, sazi_avg = sp.sun_angles(\n",
    "    time=ds_l1b_avg.time.values[:,None],\n",
    "    lat=ds_l1b_avg.lat.values,\n",
    "    lon=ds_l1b_avg.lon.values\n",
    ")\n",
    "\n",
    "szen  = szen.squeeze()\n",
    "sazi = sazi.squeeze()\n",
    "szen_avg = szen_avg.squeeze()\n",
    "sazi_avg = sazi_avg.squeeze()\n",
    "\n",
    "\n",
    "esd = np.mean(sp.earth_sun_distance(ds_l1b.time.values))\n",
    "\n",
    "print('szen (avg latlon):', szen_avg)\n",
    "print('szen:', szen)\n",
    "print('sazi  (avg latlon):', sazi_avg)\n",
    "print('sazi:', sazi)\n",
    "print('Earth-Sun Distance:',esd)"
   ]
  },
  {
   "cell_type": "code",
   "execution_count": 30,
   "metadata": {
    "collapsed": false,
    "ExecuteTime": {
     "end_time": "2024-02-23T15:22:59.860724700Z",
     "start_time": "2024-02-23T15:22:59.384554500Z"
    }
   },
   "outputs": [
    {
     "data": {
      "text/plain": "<xarray.Dataset>\nDimensions:               (station: 1, time: 5, maintenancetime: 1)\nCoordinates:\n  * station               (station) float64 1.0\n  * time                  (time) datetime64[ns] 2022-08-30T11:21:03 ... 2022-...\n  * maintenancetime       (maintenancetime) datetime64[ns] 2023-05-08T16:09:06\nData variables: (12/18)\n    ghi                   (time, station) float32 0.002086 0.002085 ... 0.002086\n    gti                   (time, station) float32 0.001935 0.001935 ... 0.001935\n    ta                    (time, station) float32 294.8 294.7 294.8 294.7 294.8\n    rh                    (time, station) float32 0.6263 0.6266 ... 0.6271 0.629\n    battery_voltage       (time, station) float32 6.445 6.446 6.45 6.448 6.458\n    ghi_min               (time, station) float32 0.002086 0.002075 ... 0.002086\n    ...                    ...\n    lon                   (time, station) float64 nan nan 11.89 11.89 11.89\n    maintenance_flag_ghi  (maintenancetime, station) float32 9.0\n    maintenance_flag_gti  (maintenancetime, station) float32 7.0\n    szen                  (time, station) float64 nan nan 42.51 42.51 42.51\n    sazi                  (time, station) float64 nan nan 182.9 182.9 182.9\n    esd                   (station) float64 1.01\nAttributes: (12/31)\n    Conventions:               CF-1.10, ACDD-1.3\n    title:                     TROPOS pyranometer network (PyrNet) observatio...\n    history:                   2024-02-23T15:22:57: Generated level l1a  by p...\n    institution:               Leibniz Institute for Tropospheric Research (T...\n    source:                    TROPOS pyranometer network (PyrNet)\n    references:                https://doi.org/10.5194/amt-9-1153-2016\n    ...                        ...\n    geospatial_lon_max:        11.885256666666667\n    geospatial_lon_units:      degE\n    time_coverage_start:       2022-08-30T11:21:04.065000\n    time_coverage_end:         2022-08-30T11:21:09\n    time_coverage_duration:    P0DT0H0M4.935S\n    time_coverage_resolution:  P0DT0H0M1.23375S",
      "text/html": "<div><svg style=\"position: absolute; width: 0; height: 0; overflow: hidden\">\n<defs>\n<symbol id=\"icon-database\" viewBox=\"0 0 32 32\">\n<path d=\"M16 0c-8.837 0-16 2.239-16 5v4c0 2.761 7.163 5 16 5s16-2.239 16-5v-4c0-2.761-7.163-5-16-5z\"></path>\n<path d=\"M16 17c-8.837 0-16-2.239-16-5v6c0 2.761 7.163 5 16 5s16-2.239 16-5v-6c0 2.761-7.163 5-16 5z\"></path>\n<path d=\"M16 26c-8.837 0-16-2.239-16-5v6c0 2.761 7.163 5 16 5s16-2.239 16-5v-6c0 2.761-7.163 5-16 5z\"></path>\n</symbol>\n<symbol id=\"icon-file-text2\" viewBox=\"0 0 32 32\">\n<path d=\"M28.681 7.159c-0.694-0.947-1.662-2.053-2.724-3.116s-2.169-2.030-3.116-2.724c-1.612-1.182-2.393-1.319-2.841-1.319h-15.5c-1.378 0-2.5 1.121-2.5 2.5v27c0 1.378 1.122 2.5 2.5 2.5h23c1.378 0 2.5-1.122 2.5-2.5v-19.5c0-0.448-0.137-1.23-1.319-2.841zM24.543 5.457c0.959 0.959 1.712 1.825 2.268 2.543h-4.811v-4.811c0.718 0.556 1.584 1.309 2.543 2.268zM28 29.5c0 0.271-0.229 0.5-0.5 0.5h-23c-0.271 0-0.5-0.229-0.5-0.5v-27c0-0.271 0.229-0.5 0.5-0.5 0 0 15.499-0 15.5 0v7c0 0.552 0.448 1 1 1h7v19.5z\"></path>\n<path d=\"M23 26h-14c-0.552 0-1-0.448-1-1s0.448-1 1-1h14c0.552 0 1 0.448 1 1s-0.448 1-1 1z\"></path>\n<path d=\"M23 22h-14c-0.552 0-1-0.448-1-1s0.448-1 1-1h14c0.552 0 1 0.448 1 1s-0.448 1-1 1z\"></path>\n<path d=\"M23 18h-14c-0.552 0-1-0.448-1-1s0.448-1 1-1h14c0.552 0 1 0.448 1 1s-0.448 1-1 1z\"></path>\n</symbol>\n</defs>\n</svg>\n<style>/* CSS stylesheet for displaying xarray objects in jupyterlab.\n *\n */\n\n:root {\n  --xr-font-color0: var(--jp-content-font-color0, rgba(0, 0, 0, 1));\n  --xr-font-color2: var(--jp-content-font-color2, rgba(0, 0, 0, 0.54));\n  --xr-font-color3: var(--jp-content-font-color3, rgba(0, 0, 0, 0.38));\n  --xr-border-color: var(--jp-border-color2, #e0e0e0);\n  --xr-disabled-color: var(--jp-layout-color3, #bdbdbd);\n  --xr-background-color: var(--jp-layout-color0, white);\n  --xr-background-color-row-even: var(--jp-layout-color1, white);\n  --xr-background-color-row-odd: var(--jp-layout-color2, #eeeeee);\n}\n\nhtml[theme=dark],\nbody[data-theme=dark],\nbody.vscode-dark {\n  --xr-font-color0: rgba(255, 255, 255, 1);\n  --xr-font-color2: rgba(255, 255, 255, 0.54);\n  --xr-font-color3: rgba(255, 255, 255, 0.38);\n  --xr-border-color: #1F1F1F;\n  --xr-disabled-color: #515151;\n  --xr-background-color: #111111;\n  --xr-background-color-row-even: #111111;\n  --xr-background-color-row-odd: #313131;\n}\n\n.xr-wrap {\n  display: block !important;\n  min-width: 300px;\n  max-width: 700px;\n}\n\n.xr-text-repr-fallback {\n  /* fallback to plain text repr when CSS is not injected (untrusted notebook) */\n  display: none;\n}\n\n.xr-header {\n  padding-top: 6px;\n  padding-bottom: 6px;\n  margin-bottom: 4px;\n  border-bottom: solid 1px var(--xr-border-color);\n}\n\n.xr-header > div,\n.xr-header > ul {\n  display: inline;\n  margin-top: 0;\n  margin-bottom: 0;\n}\n\n.xr-obj-type,\n.xr-array-name {\n  margin-left: 2px;\n  margin-right: 10px;\n}\n\n.xr-obj-type {\n  color: var(--xr-font-color2);\n}\n\n.xr-sections {\n  padding-left: 0 !important;\n  display: grid;\n  grid-template-columns: 150px auto auto 1fr 20px 20px;\n}\n\n.xr-section-item {\n  display: contents;\n}\n\n.xr-section-item input {\n  display: none;\n}\n\n.xr-section-item input + label {\n  color: var(--xr-disabled-color);\n}\n\n.xr-section-item input:enabled + label {\n  cursor: pointer;\n  color: var(--xr-font-color2);\n}\n\n.xr-section-item input:enabled + label:hover {\n  color: var(--xr-font-color0);\n}\n\n.xr-section-summary {\n  grid-column: 1;\n  color: var(--xr-font-color2);\n  font-weight: 500;\n}\n\n.xr-section-summary > span {\n  display: inline-block;\n  padding-left: 0.5em;\n}\n\n.xr-section-summary-in:disabled + label {\n  color: var(--xr-font-color2);\n}\n\n.xr-section-summary-in + label:before {\n  display: inline-block;\n  content: '►';\n  font-size: 11px;\n  width: 15px;\n  text-align: center;\n}\n\n.xr-section-summary-in:disabled + label:before {\n  color: var(--xr-disabled-color);\n}\n\n.xr-section-summary-in:checked + label:before {\n  content: '▼';\n}\n\n.xr-section-summary-in:checked + label > span {\n  display: none;\n}\n\n.xr-section-summary,\n.xr-section-inline-details {\n  padding-top: 4px;\n  padding-bottom: 4px;\n}\n\n.xr-section-inline-details {\n  grid-column: 2 / -1;\n}\n\n.xr-section-details {\n  display: none;\n  grid-column: 1 / -1;\n  margin-bottom: 5px;\n}\n\n.xr-section-summary-in:checked ~ .xr-section-details {\n  display: contents;\n}\n\n.xr-array-wrap {\n  grid-column: 1 / -1;\n  display: grid;\n  grid-template-columns: 20px auto;\n}\n\n.xr-array-wrap > label {\n  grid-column: 1;\n  vertical-align: top;\n}\n\n.xr-preview {\n  color: var(--xr-font-color3);\n}\n\n.xr-array-preview,\n.xr-array-data {\n  padding: 0 5px !important;\n  grid-column: 2;\n}\n\n.xr-array-data,\n.xr-array-in:checked ~ .xr-array-preview {\n  display: none;\n}\n\n.xr-array-in:checked ~ .xr-array-data,\n.xr-array-preview {\n  display: inline-block;\n}\n\n.xr-dim-list {\n  display: inline-block !important;\n  list-style: none;\n  padding: 0 !important;\n  margin: 0;\n}\n\n.xr-dim-list li {\n  display: inline-block;\n  padding: 0;\n  margin: 0;\n}\n\n.xr-dim-list:before {\n  content: '(';\n}\n\n.xr-dim-list:after {\n  content: ')';\n}\n\n.xr-dim-list li:not(:last-child):after {\n  content: ',';\n  padding-right: 5px;\n}\n\n.xr-has-index {\n  font-weight: bold;\n}\n\n.xr-var-list,\n.xr-var-item {\n  display: contents;\n}\n\n.xr-var-item > div,\n.xr-var-item label,\n.xr-var-item > .xr-var-name span {\n  background-color: var(--xr-background-color-row-even);\n  margin-bottom: 0;\n}\n\n.xr-var-item > .xr-var-name:hover span {\n  padding-right: 5px;\n}\n\n.xr-var-list > li:nth-child(odd) > div,\n.xr-var-list > li:nth-child(odd) > label,\n.xr-var-list > li:nth-child(odd) > .xr-var-name span {\n  background-color: var(--xr-background-color-row-odd);\n}\n\n.xr-var-name {\n  grid-column: 1;\n}\n\n.xr-var-dims {\n  grid-column: 2;\n}\n\n.xr-var-dtype {\n  grid-column: 3;\n  text-align: right;\n  color: var(--xr-font-color2);\n}\n\n.xr-var-preview {\n  grid-column: 4;\n}\n\n.xr-index-preview {\n  grid-column: 2 / 5;\n  color: var(--xr-font-color2);\n}\n\n.xr-var-name,\n.xr-var-dims,\n.xr-var-dtype,\n.xr-preview,\n.xr-attrs dt {\n  white-space: nowrap;\n  overflow: hidden;\n  text-overflow: ellipsis;\n  padding-right: 10px;\n}\n\n.xr-var-name:hover,\n.xr-var-dims:hover,\n.xr-var-dtype:hover,\n.xr-attrs dt:hover {\n  overflow: visible;\n  width: auto;\n  z-index: 1;\n}\n\n.xr-var-attrs,\n.xr-var-data,\n.xr-index-data {\n  display: none;\n  background-color: var(--xr-background-color) !important;\n  padding-bottom: 5px !important;\n}\n\n.xr-var-attrs-in:checked ~ .xr-var-attrs,\n.xr-var-data-in:checked ~ .xr-var-data,\n.xr-index-data-in:checked ~ .xr-index-data {\n  display: block;\n}\n\n.xr-var-data > table {\n  float: right;\n}\n\n.xr-var-name span,\n.xr-var-data,\n.xr-index-name div,\n.xr-index-data,\n.xr-attrs {\n  padding-left: 25px !important;\n}\n\n.xr-attrs,\n.xr-var-attrs,\n.xr-var-data,\n.xr-index-data {\n  grid-column: 1 / -1;\n}\n\ndl.xr-attrs {\n  padding: 0;\n  margin: 0;\n  display: grid;\n  grid-template-columns: 125px auto;\n}\n\n.xr-attrs dt,\n.xr-attrs dd {\n  padding: 0;\n  margin: 0;\n  float: left;\n  padding-right: 10px;\n  width: auto;\n}\n\n.xr-attrs dt {\n  font-weight: normal;\n  grid-column: 1;\n}\n\n.xr-attrs dt:hover span {\n  display: inline-block;\n  background: var(--xr-background-color);\n  padding-right: 10px;\n}\n\n.xr-attrs dd {\n  grid-column: 2;\n  white-space: pre-wrap;\n  word-break: break-all;\n}\n\n.xr-icon-database,\n.xr-icon-file-text2,\n.xr-no-icon {\n  display: inline-block;\n  vertical-align: middle;\n  width: 1em;\n  height: 1.5em !important;\n  stroke-width: 0;\n  stroke: currentColor;\n  fill: currentColor;\n}\n</style><pre class='xr-text-repr-fallback'>&lt;xarray.Dataset&gt;\nDimensions:               (station: 1, time: 5, maintenancetime: 1)\nCoordinates:\n  * station               (station) float64 1.0\n  * time                  (time) datetime64[ns] 2022-08-30T11:21:03 ... 2022-...\n  * maintenancetime       (maintenancetime) datetime64[ns] 2023-05-08T16:09:06\nData variables: (12/18)\n    ghi                   (time, station) float32 0.002086 0.002085 ... 0.002086\n    gti                   (time, station) float32 0.001935 0.001935 ... 0.001935\n    ta                    (time, station) float32 294.8 294.7 294.8 294.7 294.8\n    rh                    (time, station) float32 0.6263 0.6266 ... 0.6271 0.629\n    battery_voltage       (time, station) float32 6.445 6.446 6.45 6.448 6.458\n    ghi_min               (time, station) float32 0.002086 0.002075 ... 0.002086\n    ...                    ...\n    lon                   (time, station) float64 nan nan 11.89 11.89 11.89\n    maintenance_flag_ghi  (maintenancetime, station) float32 9.0\n    maintenance_flag_gti  (maintenancetime, station) float32 7.0\n    szen                  (time, station) float64 nan nan 42.51 42.51 42.51\n    sazi                  (time, station) float64 nan nan 182.9 182.9 182.9\n    esd                   (station) float64 1.01\nAttributes: (12/31)\n    Conventions:               CF-1.10, ACDD-1.3\n    title:                     TROPOS pyranometer network (PyrNet) observatio...\n    history:                   2024-02-23T15:22:57: Generated level l1a  by p...\n    institution:               Leibniz Institute for Tropospheric Research (T...\n    source:                    TROPOS pyranometer network (PyrNet)\n    references:                https://doi.org/10.5194/amt-9-1153-2016\n    ...                        ...\n    geospatial_lon_max:        11.885256666666667\n    geospatial_lon_units:      degE\n    time_coverage_start:       2022-08-30T11:21:04.065000\n    time_coverage_end:         2022-08-30T11:21:09\n    time_coverage_duration:    P0DT0H0M4.935S\n    time_coverage_resolution:  P0DT0H0M1.23375S</pre><div class='xr-wrap' style='display:none'><div class='xr-header'><div class='xr-obj-type'>xarray.Dataset</div></div><ul class='xr-sections'><li class='xr-section-item'><input id='section-c6e8a5e1-e21f-4e37-9c5e-af863dbf32a6' class='xr-section-summary-in' type='checkbox' disabled ><label for='section-c6e8a5e1-e21f-4e37-9c5e-af863dbf32a6' class='xr-section-summary'  title='Expand/collapse section'>Dimensions:</label><div class='xr-section-inline-details'><ul class='xr-dim-list'><li><span class='xr-has-index'>station</span>: 1</li><li><span class='xr-has-index'>time</span>: 5</li><li><span class='xr-has-index'>maintenancetime</span>: 1</li></ul></div><div class='xr-section-details'></div></li><li class='xr-section-item'><input id='section-f1f35d03-551a-4c86-b3ad-d9d5a8353ee2' class='xr-section-summary-in' type='checkbox'  checked><label for='section-f1f35d03-551a-4c86-b3ad-d9d5a8353ee2' class='xr-section-summary' >Coordinates: <span>(3)</span></label><div class='xr-section-inline-details'></div><div class='xr-section-details'><ul class='xr-var-list'><li class='xr-var-item'><div class='xr-var-name'><span class='xr-has-index'>station</span></div><div class='xr-var-dims'>(station)</div><div class='xr-var-dtype'>float64</div><div class='xr-var-preview xr-preview'>1.0</div><input id='attrs-de1c7cfe-7ed3-4ec8-b310-a9c4c1ead388' class='xr-var-attrs-in' type='checkbox' disabled><label for='attrs-de1c7cfe-7ed3-4ec8-b310-a9c4c1ead388' title='Show/Hide attributes'><svg class='icon xr-icon-file-text2'><use xlink:href='#icon-file-text2'></use></svg></label><input id='data-ecd54b3c-322d-419d-85f0-2743b625ded3' class='xr-var-data-in' type='checkbox'><label for='data-ecd54b3c-322d-419d-85f0-2743b625ded3' title='Show/Hide data repr'><svg class='icon xr-icon-database'><use xlink:href='#icon-database'></use></svg></label><div class='xr-var-attrs'><dl class='xr-attrs'></dl></div><div class='xr-var-data'><pre>array([1.])</pre></div></li><li class='xr-var-item'><div class='xr-var-name'><span class='xr-has-index'>time</span></div><div class='xr-var-dims'>(time)</div><div class='xr-var-dtype'>datetime64[ns]</div><div class='xr-var-preview xr-preview'>2022-08-30T11:21:03 ... 2022-08-...</div><input id='attrs-e0d00321-a818-4d65-890f-2426129b7571' class='xr-var-attrs-in' type='checkbox' disabled><label for='attrs-e0d00321-a818-4d65-890f-2426129b7571' title='Show/Hide attributes'><svg class='icon xr-icon-file-text2'><use xlink:href='#icon-file-text2'></use></svg></label><input id='data-ecc5cff4-ad8d-4d43-b934-f86ae04758e0' class='xr-var-data-in' type='checkbox'><label for='data-ecc5cff4-ad8d-4d43-b934-f86ae04758e0' title='Show/Hide data repr'><svg class='icon xr-icon-database'><use xlink:href='#icon-database'></use></svg></label><div class='xr-var-attrs'><dl class='xr-attrs'></dl></div><div class='xr-var-data'><pre>array([&#x27;2022-08-30T11:21:03.000000000&#x27;, &#x27;2022-08-30T11:21:04.000000000&#x27;,\n       &#x27;2022-08-30T11:21:05.000000000&#x27;, &#x27;2022-08-30T11:21:06.000000000&#x27;,\n       &#x27;2022-08-30T11:21:07.000000000&#x27;], dtype=&#x27;datetime64[ns]&#x27;)</pre></div></li><li class='xr-var-item'><div class='xr-var-name'><span class='xr-has-index'>maintenancetime</span></div><div class='xr-var-dims'>(maintenancetime)</div><div class='xr-var-dtype'>datetime64[ns]</div><div class='xr-var-preview xr-preview'>2023-05-08T16:09:06</div><input id='attrs-edf75700-c446-490b-931b-335d47552c56' class='xr-var-attrs-in' type='checkbox' disabled><label for='attrs-edf75700-c446-490b-931b-335d47552c56' title='Show/Hide attributes'><svg class='icon xr-icon-file-text2'><use xlink:href='#icon-file-text2'></use></svg></label><input id='data-1d477e70-97bb-4ad9-8a08-cca6cb08c6c7' class='xr-var-data-in' type='checkbox'><label for='data-1d477e70-97bb-4ad9-8a08-cca6cb08c6c7' title='Show/Hide data repr'><svg class='icon xr-icon-database'><use xlink:href='#icon-database'></use></svg></label><div class='xr-var-attrs'><dl class='xr-attrs'></dl></div><div class='xr-var-data'><pre>array([&#x27;2023-05-08T16:09:06.000000000&#x27;], dtype=&#x27;datetime64[ns]&#x27;)</pre></div></li></ul></div></li><li class='xr-section-item'><input id='section-ed1904b4-0803-41fb-a04c-8b69c6fc4fff' class='xr-section-summary-in' type='checkbox'  ><label for='section-ed1904b4-0803-41fb-a04c-8b69c6fc4fff' class='xr-section-summary' >Data variables: <span>(18)</span></label><div class='xr-section-inline-details'></div><div class='xr-section-details'><ul class='xr-var-list'><li class='xr-var-item'><div class='xr-var-name'><span>ghi</span></div><div class='xr-var-dims'>(time, station)</div><div class='xr-var-dtype'>float32</div><div class='xr-var-preview xr-preview'>0.002086 0.002085 ... 0.002086</div><input id='attrs-d0f12025-ecca-479a-bc38-7c31ede4055e' class='xr-var-attrs-in' type='checkbox' ><label for='attrs-d0f12025-ecca-479a-bc38-7c31ede4055e' title='Show/Hide attributes'><svg class='icon xr-icon-file-text2'><use xlink:href='#icon-file-text2'></use></svg></label><input id='data-62e1810e-1c12-4e55-8e02-1241d2637b6c' class='xr-var-data-in' type='checkbox'><label for='data-62e1810e-1c12-4e55-8e02-1241d2637b6c' title='Show/Hide data repr'><svg class='icon xr-icon-database'><use xlink:href='#icon-database'></use></svg></label><div class='xr-var-attrs'><dl class='xr-attrs'><dt><span>units :</span></dt><dd>V</dd><dt><span>long_name :</span></dt><dd>downwelling shortwave flux</dd><dt><span>standard_name :</span></dt><dd>downwelling_shortwave_flux_in_air</dd><dt><span>valid_range :</span></dt><dd>[   0 1023]</dd></dl></div><div class='xr-var-data'><pre>array([[0.00208602],\n       [0.00208495],\n       [0.00208602],\n       [0.00208602],\n       [0.00208602]], dtype=float32)</pre></div></li><li class='xr-var-item'><div class='xr-var-name'><span>gti</span></div><div class='xr-var-dims'>(time, station)</div><div class='xr-var-dtype'>float32</div><div class='xr-var-preview xr-preview'>0.001935 0.001935 ... 0.001935</div><input id='attrs-e826d2f2-4a29-4d88-8ff4-932e314a050a' class='xr-var-attrs-in' type='checkbox' ><label for='attrs-e826d2f2-4a29-4d88-8ff4-932e314a050a' title='Show/Hide attributes'><svg class='icon xr-icon-file-text2'><use xlink:href='#icon-file-text2'></use></svg></label><input id='data-4e54d72e-d1e4-4d84-b409-52ba036fc9ad' class='xr-var-data-in' type='checkbox'><label for='data-4e54d72e-d1e4-4d84-b409-52ba036fc9ad' title='Show/Hide data repr'><svg class='icon xr-icon-database'><use xlink:href='#icon-database'></use></svg></label><div class='xr-var-attrs'><dl class='xr-attrs'><dt><span>units :</span></dt><dd>V</dd><dt><span>long_name :</span></dt><dd>downwelling shortwave flux measured on secondary platform, might be tilted</dd><dt><span>standard_name :</span></dt><dd>downwelling_shortwave_flux_in_air</dd><dt><span>valid_range :</span></dt><dd>[   0 1023]</dd><dt><span>hangle :</span></dt><dd>0.0</dd><dt><span>vangle :</span></dt><dd>0.0</dd></dl></div><div class='xr-var-data'><pre>array([[0.00193548],\n       [0.00193548],\n       [0.00193656],\n       [0.00193548],\n       [0.00193548]], dtype=float32)</pre></div></li><li class='xr-var-item'><div class='xr-var-name'><span>ta</span></div><div class='xr-var-dims'>(time, station)</div><div class='xr-var-dtype'>float32</div><div class='xr-var-preview xr-preview'>294.8 294.7 294.8 294.7 294.8</div><input id='attrs-b584a239-09a3-4735-adff-117cb9ad5d2a' class='xr-var-attrs-in' type='checkbox' ><label for='attrs-b584a239-09a3-4735-adff-117cb9ad5d2a' title='Show/Hide attributes'><svg class='icon xr-icon-file-text2'><use xlink:href='#icon-file-text2'></use></svg></label><input id='data-f9019993-147b-472f-8da1-54e377d01b54' class='xr-var-data-in' type='checkbox'><label for='data-f9019993-147b-472f-8da1-54e377d01b54' title='Show/Hide data repr'><svg class='icon xr-icon-database'><use xlink:href='#icon-database'></use></svg></label><div class='xr-var-attrs'><dl class='xr-attrs'><dt><span>units :</span></dt><dd>K</dd><dt><span>long_name :</span></dt><dd>air temperature</dd><dt><span>standard_name :</span></dt><dd>air_temperature</dd><dt><span>valid_range :</span></dt><dd>[  0 775]</dd></dl></div><div class='xr-var-data'><pre>array([[294.7758 ],\n       [294.74997],\n       [294.7887 ],\n       [294.74997],\n       [294.82742]], dtype=float32)</pre></div></li><li class='xr-var-item'><div class='xr-var-name'><span>rh</span></div><div class='xr-var-dims'>(time, station)</div><div class='xr-var-dtype'>float32</div><div class='xr-var-preview xr-preview'>0.6263 0.6266 0.6271 0.6271 0.629</div><input id='attrs-ce03b220-2510-4342-8240-7cec665fe01d' class='xr-var-attrs-in' type='checkbox' ><label for='attrs-ce03b220-2510-4342-8240-7cec665fe01d' title='Show/Hide attributes'><svg class='icon xr-icon-file-text2'><use xlink:href='#icon-file-text2'></use></svg></label><input id='data-9d347dfc-93ae-4d9a-8769-7717f22b08bd' class='xr-var-data-in' type='checkbox'><label for='data-9d347dfc-93ae-4d9a-8769-7717f22b08bd' title='Show/Hide data repr'><svg class='icon xr-icon-database'><use xlink:href='#icon-database'></use></svg></label><div class='xr-var-attrs'><dl class='xr-attrs'><dt><span>units :</span></dt><dd>1</dd><dt><span>long_name :</span></dt><dd>air relative humidity</dd><dt><span>standard_name :</span></dt><dd>relative_humidity</dd><dt><span>valid_range :</span></dt><dd>[  0 775]</dd></dl></div><div class='xr-var-data'><pre>array([[0.62632257],\n       [0.6265806 ],\n       [0.6270968 ],\n       [0.6270968 ],\n       [0.62903225]], dtype=float32)</pre></div></li><li class='xr-var-item'><div class='xr-var-name'><span>battery_voltage</span></div><div class='xr-var-dims'>(time, station)</div><div class='xr-var-dtype'>float32</div><div class='xr-var-preview xr-preview'>6.445 6.446 6.45 6.448 6.458</div><input id='attrs-fe95d742-ab87-4e35-9bf4-6d2555504454' class='xr-var-attrs-in' type='checkbox' ><label for='attrs-fe95d742-ab87-4e35-9bf4-6d2555504454' title='Show/Hide attributes'><svg class='icon xr-icon-file-text2'><use xlink:href='#icon-file-text2'></use></svg></label><input id='data-a45ace72-cd5d-4430-a013-b08673a79552' class='xr-var-data-in' type='checkbox'><label for='data-a45ace72-cd5d-4430-a013-b08673a79552' title='Show/Hide data repr'><svg class='icon xr-icon-database'><use xlink:href='#icon-database'></use></svg></label><div class='xr-var-attrs'><dl class='xr-attrs'><dt><span>units :</span></dt><dd>V</dd><dt><span>standard_name :</span></dt><dd>battery_voltage</dd><dt><span>valid_range :</span></dt><dd>[  0 992]</dd></dl></div><div class='xr-var-data'><pre>array([[6.4451613],\n       [6.445807 ],\n       [6.4496775],\n       [6.4477415],\n       [6.4580646]], dtype=float32)</pre></div></li><li class='xr-var-item'><div class='xr-var-name'><span>ghi_min</span></div><div class='xr-var-dims'>(time, station)</div><div class='xr-var-dtype'>float32</div><div class='xr-var-preview xr-preview'>0.002086 0.002075 ... 0.002086</div><input id='attrs-f503b482-48df-4ef6-8cab-a4d69f5bb2a0' class='xr-var-attrs-in' type='checkbox' ><label for='attrs-f503b482-48df-4ef6-8cab-a4d69f5bb2a0' title='Show/Hide attributes'><svg class='icon xr-icon-file-text2'><use xlink:href='#icon-file-text2'></use></svg></label><input id='data-6ac70e90-3c49-47e4-a9fd-0eeadc07d029' class='xr-var-data-in' type='checkbox'><label for='data-6ac70e90-3c49-47e4-a9fd-0eeadc07d029' title='Show/Hide data repr'><svg class='icon xr-icon-database'><use xlink:href='#icon-database'></use></svg></label><div class='xr-var-attrs'><dl class='xr-attrs'><dt><span>units :</span></dt><dd>V</dd><dt><span>long_name :</span></dt><dd>downwelling shortwave flux</dd><dt><span>standard_name :</span></dt><dd>min_downwelling_shortwave_flux_in_air</dd><dt><span>valid_range :</span></dt><dd>[   0 1023]</dd></dl></div><div class='xr-var-data'><pre>array([[0.00208602],\n       [0.00207527],\n       [0.00208602],\n       [0.00208602],\n       [0.00208602]], dtype=float32)</pre></div></li><li class='xr-var-item'><div class='xr-var-name'><span>gti_min</span></div><div class='xr-var-dims'>(time, station)</div><div class='xr-var-dtype'>float32</div><div class='xr-var-preview xr-preview'>0.001935 0.001925 ... 0.001935</div><input id='attrs-c7275591-63f7-405d-bca8-368a75e5d89f' class='xr-var-attrs-in' type='checkbox' ><label for='attrs-c7275591-63f7-405d-bca8-368a75e5d89f' title='Show/Hide attributes'><svg class='icon xr-icon-file-text2'><use xlink:href='#icon-file-text2'></use></svg></label><input id='data-3f3c1ee1-ae50-4099-8f9a-e1496bbecf26' class='xr-var-data-in' type='checkbox'><label for='data-3f3c1ee1-ae50-4099-8f9a-e1496bbecf26' title='Show/Hide data repr'><svg class='icon xr-icon-database'><use xlink:href='#icon-database'></use></svg></label><div class='xr-var-attrs'><dl class='xr-attrs'><dt><span>units :</span></dt><dd>V</dd><dt><span>long_name :</span></dt><dd>downwelling shortwave flux measured on secondary platform, might be tilted</dd><dt><span>standard_name :</span></dt><dd>min_downwelling_shortwave_flux_in_air</dd><dt><span>valid_range :</span></dt><dd>[   0 1023]</dd><dt><span>hangle :</span></dt><dd>0.0</dd><dt><span>vangle :</span></dt><dd>0.0</dd></dl></div><div class='xr-var-data'><pre>array([[0.00193548],\n       [0.00192473],\n       [0.00192473],\n       [0.00193548],\n       [0.00193548]], dtype=float32)</pre></div></li><li class='xr-var-item'><div class='xr-var-name'><span>ghi_max</span></div><div class='xr-var-dims'>(time, station)</div><div class='xr-var-dtype'>float32</div><div class='xr-var-preview xr-preview'>0.002086 0.002086 ... 0.002086</div><input id='attrs-0f4d2ffd-42fe-4de3-994f-c8e286a8aa66' class='xr-var-attrs-in' type='checkbox' ><label for='attrs-0f4d2ffd-42fe-4de3-994f-c8e286a8aa66' title='Show/Hide attributes'><svg class='icon xr-icon-file-text2'><use xlink:href='#icon-file-text2'></use></svg></label><input id='data-c3911370-6d04-442f-9f98-d73eb99a0632' class='xr-var-data-in' type='checkbox'><label for='data-c3911370-6d04-442f-9f98-d73eb99a0632' title='Show/Hide data repr'><svg class='icon xr-icon-database'><use xlink:href='#icon-database'></use></svg></label><div class='xr-var-attrs'><dl class='xr-attrs'><dt><span>units :</span></dt><dd>V</dd><dt><span>long_name :</span></dt><dd>downwelling shortwave flux</dd><dt><span>standard_name :</span></dt><dd>max_downwelling_shortwave_flux_in_air</dd><dt><span>valid_range :</span></dt><dd>[   0 1023]</dd></dl></div><div class='xr-var-data'><pre>array([[0.00208602],\n       [0.00208602],\n       [0.00208602],\n       [0.00208602],\n       [0.00208602]], dtype=float32)</pre></div></li><li class='xr-var-item'><div class='xr-var-name'><span>gti_max</span></div><div class='xr-var-dims'>(time, station)</div><div class='xr-var-dtype'>float32</div><div class='xr-var-preview xr-preview'>0.001935 0.001946 ... 0.001935</div><input id='attrs-e4c6eaa2-95c3-4ca2-b747-d50a277c99b7' class='xr-var-attrs-in' type='checkbox' ><label for='attrs-e4c6eaa2-95c3-4ca2-b747-d50a277c99b7' title='Show/Hide attributes'><svg class='icon xr-icon-file-text2'><use xlink:href='#icon-file-text2'></use></svg></label><input id='data-4e5bcb85-f216-4406-ad4b-7233e11ad226' class='xr-var-data-in' type='checkbox'><label for='data-4e5bcb85-f216-4406-ad4b-7233e11ad226' title='Show/Hide data repr'><svg class='icon xr-icon-database'><use xlink:href='#icon-database'></use></svg></label><div class='xr-var-attrs'><dl class='xr-attrs'><dt><span>units :</span></dt><dd>V</dd><dt><span>long_name :</span></dt><dd>downwelling shortwave flux measured on secondary platform, might be tilted</dd><dt><span>standard_name :</span></dt><dd>max_downwelling_shortwave_flux_in_air</dd><dt><span>valid_range :</span></dt><dd>[   0 1023]</dd><dt><span>hangle :</span></dt><dd>0.0</dd><dt><span>vangle :</span></dt><dd>0.0</dd></dl></div><div class='xr-var-data'><pre>array([[0.00193548],\n       [0.00194624],\n       [0.00194624],\n       [0.00193548],\n       [0.00193548]], dtype=float32)</pre></div></li><li class='xr-var-item'><div class='xr-var-name'><span>ghi_std</span></div><div class='xr-var-dims'>(time, station)</div><div class='xr-var-dtype'>float64</div><div class='xr-var-preview xr-preview'>0.0 3.4e-06 0.0 0.0 0.0</div><input id='attrs-327d8368-65c9-4155-9feb-373e814ca731' class='xr-var-attrs-in' type='checkbox' ><label for='attrs-327d8368-65c9-4155-9feb-373e814ca731' title='Show/Hide attributes'><svg class='icon xr-icon-file-text2'><use xlink:href='#icon-file-text2'></use></svg></label><input id='data-690febaa-abba-4240-9e0d-0513de217295' class='xr-var-data-in' type='checkbox'><label for='data-690febaa-abba-4240-9e0d-0513de217295' title='Show/Hide data repr'><svg class='icon xr-icon-database'><use xlink:href='#icon-database'></use></svg></label><div class='xr-var-attrs'><dl class='xr-attrs'><dt><span>units :</span></dt><dd>V</dd><dt><span>long_name :</span></dt><dd>downwelling shortwave flux</dd><dt><span>standard_name :</span></dt><dd>std_downwelling_shortwave_flux_in_air</dd><dt><span>valid_range :</span></dt><dd>[   0 1023]</dd></dl></div><div class='xr-var-data'><pre>array([[0.00000000e+00],\n       [3.40026587e-06],\n       [0.00000000e+00],\n       [0.00000000e+00],\n       [0.00000000e+00]])</pre></div></li><li class='xr-var-item'><div class='xr-var-name'><span>gti_std</span></div><div class='xr-var-dims'>(time, station)</div><div class='xr-var-dtype'>float64</div><div class='xr-var-preview xr-preview'>0.0 5.069e-06 6.104e-06 0.0 0.0</div><input id='attrs-7d123a29-ec8e-4499-b86d-ea3991c0a1da' class='xr-var-attrs-in' type='checkbox' ><label for='attrs-7d123a29-ec8e-4499-b86d-ea3991c0a1da' title='Show/Hide attributes'><svg class='icon xr-icon-file-text2'><use xlink:href='#icon-file-text2'></use></svg></label><input id='data-555bab9e-64bb-4e16-850b-bf4ed80e3129' class='xr-var-data-in' type='checkbox'><label for='data-555bab9e-64bb-4e16-850b-bf4ed80e3129' title='Show/Hide data repr'><svg class='icon xr-icon-database'><use xlink:href='#icon-database'></use></svg></label><div class='xr-var-attrs'><dl class='xr-attrs'><dt><span>units :</span></dt><dd>V</dd><dt><span>long_name :</span></dt><dd>downwelling shortwave flux measured on secondary platform, might be tilted</dd><dt><span>standard_name :</span></dt><dd>std_downwelling_shortwave_flux_in_air</dd><dt><span>valid_range :</span></dt><dd>[   0 1023]</dd><dt><span>hangle :</span></dt><dd>0.0</dd><dt><span>vangle :</span></dt><dd>0.0</dd></dl></div><div class='xr-var-data'><pre>array([[0.00000000e+00],\n       [5.06887196e-06],\n       [6.10373011e-06],\n       [0.00000000e+00],\n       [0.00000000e+00]])</pre></div></li><li class='xr-var-item'><div class='xr-var-name'><span>lat</span></div><div class='xr-var-dims'>(time, station)</div><div class='xr-var-dtype'>float64</div><div class='xr-var-preview xr-preview'>nan nan 51.39 51.39 51.39</div><input id='attrs-30491872-05e8-4373-8def-c1c96ef63acb' class='xr-var-attrs-in' type='checkbox' ><label for='attrs-30491872-05e8-4373-8def-c1c96ef63acb' title='Show/Hide attributes'><svg class='icon xr-icon-file-text2'><use xlink:href='#icon-file-text2'></use></svg></label><input id='data-630b8d82-cf20-4339-ad5c-7cb28f2a93d7' class='xr-var-data-in' type='checkbox'><label for='data-630b8d82-cf20-4339-ad5c-7cb28f2a93d7' title='Show/Hide data repr'><svg class='icon xr-icon-database'><use xlink:href='#icon-database'></use></svg></label><div class='xr-var-attrs'><dl class='xr-attrs'><dt><span>standard_name :</span></dt><dd>latitude</dd><dt><span>units :</span></dt><dd>degree_north</dd><dt><span>valid_range :</span></dt><dd>[-90.  90.]</dd></dl></div><div class='xr-var-data'><pre>array([[        nan],\n       [        nan],\n       [51.39021167],\n       [51.39021086],\n       [51.39021   ]])</pre></div></li><li class='xr-var-item'><div class='xr-var-name'><span>lon</span></div><div class='xr-var-dims'>(time, station)</div><div class='xr-var-dtype'>float64</div><div class='xr-var-preview xr-preview'>nan nan 11.89 11.89 11.89</div><input id='attrs-9448ea56-5db0-4fcc-97ac-41cb093075e1' class='xr-var-attrs-in' type='checkbox' ><label for='attrs-9448ea56-5db0-4fcc-97ac-41cb093075e1' title='Show/Hide attributes'><svg class='icon xr-icon-file-text2'><use xlink:href='#icon-file-text2'></use></svg></label><input id='data-fc319c7a-7e2e-4561-9124-0f24d73cc4c6' class='xr-var-data-in' type='checkbox'><label for='data-fc319c7a-7e2e-4561-9124-0f24d73cc4c6' title='Show/Hide data repr'><svg class='icon xr-icon-database'><use xlink:href='#icon-database'></use></svg></label><div class='xr-var-attrs'><dl class='xr-attrs'><dt><span>standard_name :</span></dt><dd>longitude</dd><dt><span>units :</span></dt><dd>degree_east</dd><dt><span>valid_range :</span></dt><dd>[-180.  180.]</dd></dl></div><div class='xr-var-data'><pre>array([[        nan],\n       [        nan],\n       [11.88525656],\n       [11.88525425],\n       [11.88525167]])</pre></div></li><li class='xr-var-item'><div class='xr-var-name'><span>maintenance_flag_ghi</span></div><div class='xr-var-dims'>(maintenancetime, station)</div><div class='xr-var-dtype'>float32</div><div class='xr-var-preview xr-preview'>9.0</div><input id='attrs-314098bd-d20f-4186-bc3c-3584beac7666' class='xr-var-attrs-in' type='checkbox' ><label for='attrs-314098bd-d20f-4186-bc3c-3584beac7666' title='Show/Hide attributes'><svg class='icon xr-icon-file-text2'><use xlink:href='#icon-file-text2'></use></svg></label><input id='data-fd308640-4af5-4f92-a615-e4b23063b0cd' class='xr-var-data-in' type='checkbox'><label for='data-fd308640-4af5-4f92-a615-e4b23063b0cd' title='Show/Hide data repr'><svg class='icon xr-icon-database'><use xlink:href='#icon-database'></use></svg></label><div class='xr-var-attrs'><dl class='xr-attrs'><dt><span>standard_name :</span></dt><dd>quality_flag</dd><dt><span>long_name :</span></dt><dd>Maintenance quality control flags for main pyranometer</dd><dt><span>note :</span></dt><dd>Soiling describes subjectively the coverage of the pyranometer dome with dirt. The level flag is problematic if the bubble of the spirit level touches the reference ring, and bad if it is outside.</dd><dt><span>valid_range :</span></dt><dd>[ 0 11]</dd><dt><span>flag_masks :</span></dt><dd>[ 3  3  3 12 12]</dd><dt><span>flag_values :</span></dt><dd>[1 2 3 4 8]</dd><dt><span>flag_meanings :</span></dt><dd>soiling_light soiling_moderate soiling_heavy level_problematic level_bad</dd><dt><span>note_general :</span></dt><dd>222</dd><dt><span>note_clean :</span></dt><dd>testing notes</dd><dt><span>note_level :</span></dt><dd>test</dd></dl></div><div class='xr-var-data'><pre>array([[9.]], dtype=float32)</pre></div></li><li class='xr-var-item'><div class='xr-var-name'><span>maintenance_flag_gti</span></div><div class='xr-var-dims'>(maintenancetime, station)</div><div class='xr-var-dtype'>float32</div><div class='xr-var-preview xr-preview'>7.0</div><input id='attrs-5defe44a-6cc3-4d4f-95b4-95ab52b2bda7' class='xr-var-attrs-in' type='checkbox' ><label for='attrs-5defe44a-6cc3-4d4f-95b4-95ab52b2bda7' title='Show/Hide attributes'><svg class='icon xr-icon-file-text2'><use xlink:href='#icon-file-text2'></use></svg></label><input id='data-9d0d262b-ef6f-44b6-9974-f6bc826bc14e' class='xr-var-data-in' type='checkbox'><label for='data-9d0d262b-ef6f-44b6-9974-f6bc826bc14e' title='Show/Hide data repr'><svg class='icon xr-icon-database'><use xlink:href='#icon-database'></use></svg></label><div class='xr-var-attrs'><dl class='xr-attrs'><dt><span>standard_name :</span></dt><dd>quality_flag</dd><dt><span>long_name :</span></dt><dd>Maintenance quality control flags for secondary pyranometer</dd><dt><span>note :</span></dt><dd>Soiling describes subjectively the coverage of the pyranometer dome with dirt. The level flag is problematic if the bubble of the spirit level touches the reference ring, and bad if it is outside.</dd><dt><span>valid_range :</span></dt><dd>[ 0 11]</dd><dt><span>flag_masks :</span></dt><dd>[ 3  3  3 12 12]</dd><dt><span>flag_values :</span></dt><dd>[1 2 3 4 8]</dd><dt><span>flag_meanings :</span></dt><dd>soiling_light soiling_moderate soiling_heavy level_problematic level_bad</dd><dt><span>note_general :</span></dt><dd>222</dd><dt><span>note_clean :</span></dt><dd></dd><dt><span>note_level :</span></dt><dd></dd></dl></div><div class='xr-var-data'><pre>array([[7.]], dtype=float32)</pre></div></li><li class='xr-var-item'><div class='xr-var-name'><span>szen</span></div><div class='xr-var-dims'>(time, station)</div><div class='xr-var-dtype'>float64</div><div class='xr-var-preview xr-preview'>nan nan 42.51 42.51 42.51</div><input id='attrs-114e81b0-1e45-47cb-bf0b-f228c399d465' class='xr-var-attrs-in' type='checkbox' ><label for='attrs-114e81b0-1e45-47cb-bf0b-f228c399d465' title='Show/Hide attributes'><svg class='icon xr-icon-file-text2'><use xlink:href='#icon-file-text2'></use></svg></label><input id='data-312ec543-878a-468e-9c28-68ef783765b6' class='xr-var-data-in' type='checkbox'><label for='data-312ec543-878a-468e-9c28-68ef783765b6' title='Show/Hide data repr'><svg class='icon xr-icon-database'><use xlink:href='#icon-database'></use></svg></label><div class='xr-var-attrs'><dl class='xr-attrs'><dt><span>standard_name :</span></dt><dd>solar_zenith_angle</dd><dt><span>units :</span></dt><dd>degree</dd><dt><span>valid_range :</span></dt><dd>[0, 36000]</dd></dl></div><div class='xr-var-data'><pre>array([[        nan],\n       [        nan],\n       [42.51185936],\n       [42.5119952 ],\n       [42.51213125]])</pre></div></li><li class='xr-var-item'><div class='xr-var-name'><span>sazi</span></div><div class='xr-var-dims'>(time, station)</div><div class='xr-var-dtype'>float64</div><div class='xr-var-preview xr-preview'>nan nan 182.9 182.9 182.9</div><input id='attrs-9a7026dc-0ba4-499c-974c-1f7938354174' class='xr-var-attrs-in' type='checkbox' ><label for='attrs-9a7026dc-0ba4-499c-974c-1f7938354174' title='Show/Hide attributes'><svg class='icon xr-icon-file-text2'><use xlink:href='#icon-file-text2'></use></svg></label><input id='data-53241e3b-6c2a-4c4d-becb-2f84d1c42d9d' class='xr-var-data-in' type='checkbox'><label for='data-53241e3b-6c2a-4c4d-becb-2f84d1c42d9d' title='Show/Hide data repr'><svg class='icon xr-icon-database'><use xlink:href='#icon-database'></use></svg></label><div class='xr-var-attrs'><dl class='xr-attrs'><dt><span>standard_name :</span></dt><dd>solar_azimuth_angle</dd><dt><span>units :</span></dt><dd>degree</dd><dt><span>valid_range :</span></dt><dd>[0, 36000]</dd></dl></div><div class='xr-var-data'><pre>array([[         nan],\n       [         nan],\n       [182.91893638],\n       [182.92502264],\n       [182.93110846]])</pre></div></li><li class='xr-var-item'><div class='xr-var-name'><span>esd</span></div><div class='xr-var-dims'>(station)</div><div class='xr-var-dtype'>float64</div><div class='xr-var-preview xr-preview'>1.01</div><input id='attrs-755fda1a-71b2-4309-b7c9-0eca63e25d45' class='xr-var-attrs-in' type='checkbox' ><label for='attrs-755fda1a-71b2-4309-b7c9-0eca63e25d45' title='Show/Hide attributes'><svg class='icon xr-icon-file-text2'><use xlink:href='#icon-file-text2'></use></svg></label><input id='data-823a14ab-034e-4a6c-aeb4-d3f2de26582d' class='xr-var-data-in' type='checkbox'><label for='data-823a14ab-034e-4a6c-aeb4-d3f2de26582d' title='Show/Hide data repr'><svg class='icon xr-icon-database'><use xlink:href='#icon-database'></use></svg></label><div class='xr-var-attrs'><dl class='xr-attrs'><dt><span>long_name :</span></dt><dd>Earth-sun distance</dd><dt><span>note :</span></dt><dd>Calculated based on Spencer (1971), as mean of its values over all time steps.</dd><dt><span>units :</span></dt><dd>ua</dd></dl></div><div class='xr-var-data'><pre>array([1.00959973])</pre></div></li></ul></div></li><li class='xr-section-item'><input id='section-736095c0-b78f-4f55-9be5-e572a80658bb' class='xr-section-summary-in' type='checkbox'  ><label for='section-736095c0-b78f-4f55-9be5-e572a80658bb' class='xr-section-summary' >Indexes: <span>(3)</span></label><div class='xr-section-inline-details'></div><div class='xr-section-details'><ul class='xr-var-list'><li class='xr-var-item'><div class='xr-index-name'><div>station</div></div><div class='xr-index-preview'>PandasIndex</div><div></div><input id='index-86b800ad-019c-4358-b62e-417a6fb3e56f' class='xr-index-data-in' type='checkbox'/><label for='index-86b800ad-019c-4358-b62e-417a6fb3e56f' title='Show/Hide index repr'><svg class='icon xr-icon-database'><use xlink:href='#icon-database'></use></svg></label><div class='xr-index-data'><pre>PandasIndex(Float64Index([1.0], dtype=&#x27;float64&#x27;, name=&#x27;station&#x27;))</pre></div></li><li class='xr-var-item'><div class='xr-index-name'><div>time</div></div><div class='xr-index-preview'>PandasIndex</div><div></div><input id='index-f3bafee0-2069-4a25-b312-8a8fd5928fe6' class='xr-index-data-in' type='checkbox'/><label for='index-f3bafee0-2069-4a25-b312-8a8fd5928fe6' title='Show/Hide index repr'><svg class='icon xr-icon-database'><use xlink:href='#icon-database'></use></svg></label><div class='xr-index-data'><pre>PandasIndex(DatetimeIndex([&#x27;2022-08-30 11:21:03&#x27;, &#x27;2022-08-30 11:21:04&#x27;,\n               &#x27;2022-08-30 11:21:05&#x27;, &#x27;2022-08-30 11:21:06&#x27;,\n               &#x27;2022-08-30 11:21:07&#x27;],\n              dtype=&#x27;datetime64[ns]&#x27;, name=&#x27;time&#x27;, freq=&#x27;S&#x27;))</pre></div></li><li class='xr-var-item'><div class='xr-index-name'><div>maintenancetime</div></div><div class='xr-index-preview'>PandasIndex</div><div></div><input id='index-0402f20d-9654-48e2-a5f1-2be97393c962' class='xr-index-data-in' type='checkbox'/><label for='index-0402f20d-9654-48e2-a5f1-2be97393c962' title='Show/Hide index repr'><svg class='icon xr-icon-database'><use xlink:href='#icon-database'></use></svg></label><div class='xr-index-data'><pre>PandasIndex(DatetimeIndex([&#x27;2023-05-08 16:09:06&#x27;], dtype=&#x27;datetime64[ns]&#x27;, name=&#x27;maintenancetime&#x27;, freq=None))</pre></div></li></ul></div></li><li class='xr-section-item'><input id='section-249ef667-e065-40b6-9550-252cb63a02e7' class='xr-section-summary-in' type='checkbox'  ><label for='section-249ef667-e065-40b6-9550-252cb63a02e7' class='xr-section-summary' >Attributes: <span>(31)</span></label><div class='xr-section-inline-details'></div><div class='xr-section-details'><dl class='xr-attrs'><dt><span>Conventions :</span></dt><dd>CF-1.10, ACDD-1.3</dd><dt><span>title :</span></dt><dd>TROPOS pyranometer network (PyrNet) observational data set</dd><dt><span>history :</span></dt><dd>2024-02-23T15:22:57: Generated level l1a  by pyrnet version 0.1.10+60.gc0e9399.dirty; </dd><dt><span>institution :</span></dt><dd>Leibniz Institute for Tropospheric Research (TROPOS)</dd><dt><span>source :</span></dt><dd>TROPOS pyranometer network (PyrNet)</dd><dt><span>references :</span></dt><dd>https://doi.org/10.5194/amt-9-1153-2016</dd><dt><span>Department :</span></dt><dd>Remote Sensing of Atmospheric Processes</dd><dt><span>Department_team :</span></dt><dd>Clouds, Aerosol and Radiation</dd><dt><span>Address :</span></dt><dd>Permoser Str. 15, 04318 Leipzig, Germany</dd><dt><span>Contact_person :</span></dt><dd>Andreas Macke and the clouds, aerosol and radiation team of the remote sensing department, mailto:andreas.macke@tropos.de</dd><dt><span>Contributor_name :</span></dt><dd></dd><dt><span>Contributor_role :</span></dt><dd></dd><dt><span>Authors_software :</span></dt><dd>Hartwig Deneke, Jonas Witthuhn, mailto:deneke@tropos.de</dd><dt><span>Creator_name :</span></dt><dd></dd><dt><span>Project :</span></dt><dd></dd><dt><span>Standard_name_vocabulary :</span></dt><dd>CF Standard Name Table v81</dd><dt><span>License :</span></dt><dd>CC-BY-SA 3.0</dd><dt><span>TESTNOTE :</span></dt><dd>This is a test note.</dd><dt><span>processing_level :</span></dt><dd>l1a</dd><dt><span>product_version :</span></dt><dd>0.1.10+60.gc0e9399.dirty</dd><dt><span>date_created :</span></dt><dd>2024-02-23T15:22:57</dd><dt><span>geospatial_lat_min :</span></dt><dd>51.390208333333334</dd><dt><span>geospatial_lat_max :</span></dt><dd>51.390211666666666</dd><dt><span>geospatial_lat_units :</span></dt><dd>degN</dd><dt><span>geospatial_lon_min :</span></dt><dd>11.885246666666667</dd><dt><span>geospatial_lon_max :</span></dt><dd>11.885256666666667</dd><dt><span>geospatial_lon_units :</span></dt><dd>degE</dd><dt><span>time_coverage_start :</span></dt><dd>2022-08-30T11:21:04.065000</dd><dt><span>time_coverage_end :</span></dt><dd>2022-08-30T11:21:09</dd><dt><span>time_coverage_duration :</span></dt><dd>P0DT0H0M4.935S</dd><dt><span>time_coverage_resolution :</span></dt><dd>P0DT0H0M1.23375S</dd></dl></div></li></ul></div></div>"
     },
     "execution_count": 30,
     "metadata": {},
     "output_type": "execute_result"
    }
   ],
   "source": [
    "#|dropcode\n",
    "#|dropout\n",
    "ds_l1b = ds_l1b.assign(\n",
    "    {\n",
    "        \"szen\": ((\"time\", \"station\"), szen[:,None]),\n",
    "        \"sazi\": ((\"time\", \"station\"), sazi[:,None]),\n",
    "        \"esd\": (\"station\", [esd])\n",
    "    }\n",
    ")\n",
    "for key in ['szen', 'sazi','esd']:\n",
    "    ds_l1b[key].attrs.update(vattrs[key])\n",
    "    # ds_l1b[key].encoding.update(vencode[key])\n",
    "ds_l1b"
   ]
  },
  {
   "cell_type": "markdown",
   "metadata": {
    "collapsed": false
   },
   "source": [
    "### **(Not implemented)** Alignment detection\n",
    "Detect the alignment of the instruments assuming perfect alignment at the beginning of the maintenance period. Refine GTI *hangle* and *vangle* if available. "
   ]
  },
  {
   "cell_type": "markdown",
   "source": [
    "### Calibrate radiation flux\n",
    "\n",
    "Calibration and correction of measured voltage (U) is done via the following equations:\n",
    "\n",
    "$ \\mathrm{GHI} = \\mathrm{U} * \\mathrm{C}_\\mathrm{a} * \\mathrm{C}_\\mathrm{c}(\\mu_a) * \\frac{\\mu_0}{\\mu_a}$,\n",
    "\n",
    "$ \\mathrm{GTI} = \\mathrm{U} * \\mathrm{C}_\\mathrm{a} * \\mathrm{C}_\\mathrm{c}(\\mu_a)$,\n",
    "\n",
    "with the absolute calibration factor $\\mathrm{C}_\\mathrm{a}$ $\\left(\\frac{W}{m^2}V^{-1}\\right)$ and the cosine correction factor $\\mathrm{C}_\\mathrm{c}$ which depends on the cosine of the apparent solar zenith angle ($\\mu_a$). The fraction $\\frac{\\mu_0}{\\mu_a}$ is applied as a factor to correct for misalignment (neglecting diffuse radiation) ([Boers et al. (1998)](http://dx.doi.org/10.1029/98JD01431)).\n",
    "\n",
    "Therefore, the full calibration including cosine and misalignment correction can only be applied if the apparent zenith angle is known. For GHI we apply the full calibration assuming $\\mu_a = \\mu_0$. For GTI, only the absolute calibration is added. GTI cosine correction is applied only if both *hangle* and *vangle* are known.  "
   ],
   "metadata": {
    "collapsed": false
   }
  },
  {
   "cell_type": "code",
   "execution_count": 31,
   "outputs": [
    {
     "name": "stdout",
     "output_type": "stream",
     "text": [
      "Meta Lookup:\n",
      ">> Box = 1.0\n",
      ">> serial(s) = ['S12128.001', 'S12137.049']\n",
      ">> calibration factor(s) = [7.73, 6.98]\n",
      ">> cosine correction factor = 1.45 - 3.04·x¹ + 5.59·x² - 3.01·x³,\n",
      ">>     with x = cos(apparent solar zenith angle)\n"
     ]
    },
    {
     "data": {
      "text/plain": "<xarray.Dataset>\nDimensions:               (station: 1, time: 5, maintenancetime: 1)\nCoordinates:\n  * station               (station) float64 1.0\n  * time                  (time) datetime64[ns] 2022-08-30T11:21:03 ... 2022-...\n  * maintenancetime       (maintenancetime) datetime64[ns] 2023-05-08T16:09:06\nData variables: (12/18)\n    ghi                   (time, station) float64 269.9 269.7 280.9 280.9 280.9\n    gti                   (time, station) float64 277.3 277.3 288.8 288.6 288.6\n    ta                    (time, station) float32 294.8 294.7 294.8 294.7 294.8\n    rh                    (time, station) float32 0.6263 0.6266 ... 0.6271 0.629\n    battery_voltage       (time, station) float32 6.445 6.446 6.45 6.448 6.458\n    ghi_min               (time, station) float64 269.9 268.5 280.9 280.9 280.9\n    ...                    ...\n    lon                   (time, station) float64 nan nan 11.89 11.89 11.89\n    maintenance_flag_ghi  (maintenancetime, station) float32 9.0\n    maintenance_flag_gti  (maintenancetime, station) float32 7.0\n    szen                  (time, station) float64 nan nan 42.51 42.51 42.51\n    sazi                  (time, station) float64 nan nan 182.9 182.9 182.9\n    esd                   (station) float64 1.01\nAttributes: (12/31)\n    Conventions:               CF-1.10, ACDD-1.3\n    title:                     TROPOS pyranometer network (PyrNet) observatio...\n    history:                   2024-02-23T15:22:57: Generated level l1a  by p...\n    institution:               Leibniz Institute for Tropospheric Research (T...\n    source:                    TROPOS pyranometer network (PyrNet)\n    references:                https://doi.org/10.5194/amt-9-1153-2016\n    ...                        ...\n    geospatial_lon_max:        11.885256666666667\n    geospatial_lon_units:      degE\n    time_coverage_start:       2022-08-30T11:21:04.065000\n    time_coverage_end:         2022-08-30T11:21:09\n    time_coverage_duration:    P0DT0H0M4.935S\n    time_coverage_resolution:  P0DT0H0M1.23375S",
      "text/html": "<div><svg style=\"position: absolute; width: 0; height: 0; overflow: hidden\">\n<defs>\n<symbol id=\"icon-database\" viewBox=\"0 0 32 32\">\n<path d=\"M16 0c-8.837 0-16 2.239-16 5v4c0 2.761 7.163 5 16 5s16-2.239 16-5v-4c0-2.761-7.163-5-16-5z\"></path>\n<path d=\"M16 17c-8.837 0-16-2.239-16-5v6c0 2.761 7.163 5 16 5s16-2.239 16-5v-6c0 2.761-7.163 5-16 5z\"></path>\n<path d=\"M16 26c-8.837 0-16-2.239-16-5v6c0 2.761 7.163 5 16 5s16-2.239 16-5v-6c0 2.761-7.163 5-16 5z\"></path>\n</symbol>\n<symbol id=\"icon-file-text2\" viewBox=\"0 0 32 32\">\n<path d=\"M28.681 7.159c-0.694-0.947-1.662-2.053-2.724-3.116s-2.169-2.030-3.116-2.724c-1.612-1.182-2.393-1.319-2.841-1.319h-15.5c-1.378 0-2.5 1.121-2.5 2.5v27c0 1.378 1.122 2.5 2.5 2.5h23c1.378 0 2.5-1.122 2.5-2.5v-19.5c0-0.448-0.137-1.23-1.319-2.841zM24.543 5.457c0.959 0.959 1.712 1.825 2.268 2.543h-4.811v-4.811c0.718 0.556 1.584 1.309 2.543 2.268zM28 29.5c0 0.271-0.229 0.5-0.5 0.5h-23c-0.271 0-0.5-0.229-0.5-0.5v-27c0-0.271 0.229-0.5 0.5-0.5 0 0 15.499-0 15.5 0v7c0 0.552 0.448 1 1 1h7v19.5z\"></path>\n<path d=\"M23 26h-14c-0.552 0-1-0.448-1-1s0.448-1 1-1h14c0.552 0 1 0.448 1 1s-0.448 1-1 1z\"></path>\n<path d=\"M23 22h-14c-0.552 0-1-0.448-1-1s0.448-1 1-1h14c0.552 0 1 0.448 1 1s-0.448 1-1 1z\"></path>\n<path d=\"M23 18h-14c-0.552 0-1-0.448-1-1s0.448-1 1-1h14c0.552 0 1 0.448 1 1s-0.448 1-1 1z\"></path>\n</symbol>\n</defs>\n</svg>\n<style>/* CSS stylesheet for displaying xarray objects in jupyterlab.\n *\n */\n\n:root {\n  --xr-font-color0: var(--jp-content-font-color0, rgba(0, 0, 0, 1));\n  --xr-font-color2: var(--jp-content-font-color2, rgba(0, 0, 0, 0.54));\n  --xr-font-color3: var(--jp-content-font-color3, rgba(0, 0, 0, 0.38));\n  --xr-border-color: var(--jp-border-color2, #e0e0e0);\n  --xr-disabled-color: var(--jp-layout-color3, #bdbdbd);\n  --xr-background-color: var(--jp-layout-color0, white);\n  --xr-background-color-row-even: var(--jp-layout-color1, white);\n  --xr-background-color-row-odd: var(--jp-layout-color2, #eeeeee);\n}\n\nhtml[theme=dark],\nbody[data-theme=dark],\nbody.vscode-dark {\n  --xr-font-color0: rgba(255, 255, 255, 1);\n  --xr-font-color2: rgba(255, 255, 255, 0.54);\n  --xr-font-color3: rgba(255, 255, 255, 0.38);\n  --xr-border-color: #1F1F1F;\n  --xr-disabled-color: #515151;\n  --xr-background-color: #111111;\n  --xr-background-color-row-even: #111111;\n  --xr-background-color-row-odd: #313131;\n}\n\n.xr-wrap {\n  display: block !important;\n  min-width: 300px;\n  max-width: 700px;\n}\n\n.xr-text-repr-fallback {\n  /* fallback to plain text repr when CSS is not injected (untrusted notebook) */\n  display: none;\n}\n\n.xr-header {\n  padding-top: 6px;\n  padding-bottom: 6px;\n  margin-bottom: 4px;\n  border-bottom: solid 1px var(--xr-border-color);\n}\n\n.xr-header > div,\n.xr-header > ul {\n  display: inline;\n  margin-top: 0;\n  margin-bottom: 0;\n}\n\n.xr-obj-type,\n.xr-array-name {\n  margin-left: 2px;\n  margin-right: 10px;\n}\n\n.xr-obj-type {\n  color: var(--xr-font-color2);\n}\n\n.xr-sections {\n  padding-left: 0 !important;\n  display: grid;\n  grid-template-columns: 150px auto auto 1fr 20px 20px;\n}\n\n.xr-section-item {\n  display: contents;\n}\n\n.xr-section-item input {\n  display: none;\n}\n\n.xr-section-item input + label {\n  color: var(--xr-disabled-color);\n}\n\n.xr-section-item input:enabled + label {\n  cursor: pointer;\n  color: var(--xr-font-color2);\n}\n\n.xr-section-item input:enabled + label:hover {\n  color: var(--xr-font-color0);\n}\n\n.xr-section-summary {\n  grid-column: 1;\n  color: var(--xr-font-color2);\n  font-weight: 500;\n}\n\n.xr-section-summary > span {\n  display: inline-block;\n  padding-left: 0.5em;\n}\n\n.xr-section-summary-in:disabled + label {\n  color: var(--xr-font-color2);\n}\n\n.xr-section-summary-in + label:before {\n  display: inline-block;\n  content: '►';\n  font-size: 11px;\n  width: 15px;\n  text-align: center;\n}\n\n.xr-section-summary-in:disabled + label:before {\n  color: var(--xr-disabled-color);\n}\n\n.xr-section-summary-in:checked + label:before {\n  content: '▼';\n}\n\n.xr-section-summary-in:checked + label > span {\n  display: none;\n}\n\n.xr-section-summary,\n.xr-section-inline-details {\n  padding-top: 4px;\n  padding-bottom: 4px;\n}\n\n.xr-section-inline-details {\n  grid-column: 2 / -1;\n}\n\n.xr-section-details {\n  display: none;\n  grid-column: 1 / -1;\n  margin-bottom: 5px;\n}\n\n.xr-section-summary-in:checked ~ .xr-section-details {\n  display: contents;\n}\n\n.xr-array-wrap {\n  grid-column: 1 / -1;\n  display: grid;\n  grid-template-columns: 20px auto;\n}\n\n.xr-array-wrap > label {\n  grid-column: 1;\n  vertical-align: top;\n}\n\n.xr-preview {\n  color: var(--xr-font-color3);\n}\n\n.xr-array-preview,\n.xr-array-data {\n  padding: 0 5px !important;\n  grid-column: 2;\n}\n\n.xr-array-data,\n.xr-array-in:checked ~ .xr-array-preview {\n  display: none;\n}\n\n.xr-array-in:checked ~ .xr-array-data,\n.xr-array-preview {\n  display: inline-block;\n}\n\n.xr-dim-list {\n  display: inline-block !important;\n  list-style: none;\n  padding: 0 !important;\n  margin: 0;\n}\n\n.xr-dim-list li {\n  display: inline-block;\n  padding: 0;\n  margin: 0;\n}\n\n.xr-dim-list:before {\n  content: '(';\n}\n\n.xr-dim-list:after {\n  content: ')';\n}\n\n.xr-dim-list li:not(:last-child):after {\n  content: ',';\n  padding-right: 5px;\n}\n\n.xr-has-index {\n  font-weight: bold;\n}\n\n.xr-var-list,\n.xr-var-item {\n  display: contents;\n}\n\n.xr-var-item > div,\n.xr-var-item label,\n.xr-var-item > .xr-var-name span {\n  background-color: var(--xr-background-color-row-even);\n  margin-bottom: 0;\n}\n\n.xr-var-item > .xr-var-name:hover span {\n  padding-right: 5px;\n}\n\n.xr-var-list > li:nth-child(odd) > div,\n.xr-var-list > li:nth-child(odd) > label,\n.xr-var-list > li:nth-child(odd) > .xr-var-name span {\n  background-color: var(--xr-background-color-row-odd);\n}\n\n.xr-var-name {\n  grid-column: 1;\n}\n\n.xr-var-dims {\n  grid-column: 2;\n}\n\n.xr-var-dtype {\n  grid-column: 3;\n  text-align: right;\n  color: var(--xr-font-color2);\n}\n\n.xr-var-preview {\n  grid-column: 4;\n}\n\n.xr-index-preview {\n  grid-column: 2 / 5;\n  color: var(--xr-font-color2);\n}\n\n.xr-var-name,\n.xr-var-dims,\n.xr-var-dtype,\n.xr-preview,\n.xr-attrs dt {\n  white-space: nowrap;\n  overflow: hidden;\n  text-overflow: ellipsis;\n  padding-right: 10px;\n}\n\n.xr-var-name:hover,\n.xr-var-dims:hover,\n.xr-var-dtype:hover,\n.xr-attrs dt:hover {\n  overflow: visible;\n  width: auto;\n  z-index: 1;\n}\n\n.xr-var-attrs,\n.xr-var-data,\n.xr-index-data {\n  display: none;\n  background-color: var(--xr-background-color) !important;\n  padding-bottom: 5px !important;\n}\n\n.xr-var-attrs-in:checked ~ .xr-var-attrs,\n.xr-var-data-in:checked ~ .xr-var-data,\n.xr-index-data-in:checked ~ .xr-index-data {\n  display: block;\n}\n\n.xr-var-data > table {\n  float: right;\n}\n\n.xr-var-name span,\n.xr-var-data,\n.xr-index-name div,\n.xr-index-data,\n.xr-attrs {\n  padding-left: 25px !important;\n}\n\n.xr-attrs,\n.xr-var-attrs,\n.xr-var-data,\n.xr-index-data {\n  grid-column: 1 / -1;\n}\n\ndl.xr-attrs {\n  padding: 0;\n  margin: 0;\n  display: grid;\n  grid-template-columns: 125px auto;\n}\n\n.xr-attrs dt,\n.xr-attrs dd {\n  padding: 0;\n  margin: 0;\n  float: left;\n  padding-right: 10px;\n  width: auto;\n}\n\n.xr-attrs dt {\n  font-weight: normal;\n  grid-column: 1;\n}\n\n.xr-attrs dt:hover span {\n  display: inline-block;\n  background: var(--xr-background-color);\n  padding-right: 10px;\n}\n\n.xr-attrs dd {\n  grid-column: 2;\n  white-space: pre-wrap;\n  word-break: break-all;\n}\n\n.xr-icon-database,\n.xr-icon-file-text2,\n.xr-no-icon {\n  display: inline-block;\n  vertical-align: middle;\n  width: 1em;\n  height: 1.5em !important;\n  stroke-width: 0;\n  stroke: currentColor;\n  fill: currentColor;\n}\n</style><pre class='xr-text-repr-fallback'>&lt;xarray.Dataset&gt;\nDimensions:               (station: 1, time: 5, maintenancetime: 1)\nCoordinates:\n  * station               (station) float64 1.0\n  * time                  (time) datetime64[ns] 2022-08-30T11:21:03 ... 2022-...\n  * maintenancetime       (maintenancetime) datetime64[ns] 2023-05-08T16:09:06\nData variables: (12/18)\n    ghi                   (time, station) float64 269.9 269.7 280.9 280.9 280.9\n    gti                   (time, station) float64 277.3 277.3 288.8 288.6 288.6\n    ta                    (time, station) float32 294.8 294.7 294.8 294.7 294.8\n    rh                    (time, station) float32 0.6263 0.6266 ... 0.6271 0.629\n    battery_voltage       (time, station) float32 6.445 6.446 6.45 6.448 6.458\n    ghi_min               (time, station) float64 269.9 268.5 280.9 280.9 280.9\n    ...                    ...\n    lon                   (time, station) float64 nan nan 11.89 11.89 11.89\n    maintenance_flag_ghi  (maintenancetime, station) float32 9.0\n    maintenance_flag_gti  (maintenancetime, station) float32 7.0\n    szen                  (time, station) float64 nan nan 42.51 42.51 42.51\n    sazi                  (time, station) float64 nan nan 182.9 182.9 182.9\n    esd                   (station) float64 1.01\nAttributes: (12/31)\n    Conventions:               CF-1.10, ACDD-1.3\n    title:                     TROPOS pyranometer network (PyrNet) observatio...\n    history:                   2024-02-23T15:22:57: Generated level l1a  by p...\n    institution:               Leibniz Institute for Tropospheric Research (T...\n    source:                    TROPOS pyranometer network (PyrNet)\n    references:                https://doi.org/10.5194/amt-9-1153-2016\n    ...                        ...\n    geospatial_lon_max:        11.885256666666667\n    geospatial_lon_units:      degE\n    time_coverage_start:       2022-08-30T11:21:04.065000\n    time_coverage_end:         2022-08-30T11:21:09\n    time_coverage_duration:    P0DT0H0M4.935S\n    time_coverage_resolution:  P0DT0H0M1.23375S</pre><div class='xr-wrap' style='display:none'><div class='xr-header'><div class='xr-obj-type'>xarray.Dataset</div></div><ul class='xr-sections'><li class='xr-section-item'><input id='section-75b308ec-2937-4de6-a2ec-ea8e7de81548' class='xr-section-summary-in' type='checkbox' disabled ><label for='section-75b308ec-2937-4de6-a2ec-ea8e7de81548' class='xr-section-summary'  title='Expand/collapse section'>Dimensions:</label><div class='xr-section-inline-details'><ul class='xr-dim-list'><li><span class='xr-has-index'>station</span>: 1</li><li><span class='xr-has-index'>time</span>: 5</li><li><span class='xr-has-index'>maintenancetime</span>: 1</li></ul></div><div class='xr-section-details'></div></li><li class='xr-section-item'><input id='section-ed8edd8e-ea95-48c3-9919-f2c8f7ae4378' class='xr-section-summary-in' type='checkbox'  checked><label for='section-ed8edd8e-ea95-48c3-9919-f2c8f7ae4378' class='xr-section-summary' >Coordinates: <span>(3)</span></label><div class='xr-section-inline-details'></div><div class='xr-section-details'><ul class='xr-var-list'><li class='xr-var-item'><div class='xr-var-name'><span class='xr-has-index'>station</span></div><div class='xr-var-dims'>(station)</div><div class='xr-var-dtype'>float64</div><div class='xr-var-preview xr-preview'>1.0</div><input id='attrs-b6cb48e5-b799-4148-a24a-4035dbf49966' class='xr-var-attrs-in' type='checkbox' disabled><label for='attrs-b6cb48e5-b799-4148-a24a-4035dbf49966' title='Show/Hide attributes'><svg class='icon xr-icon-file-text2'><use xlink:href='#icon-file-text2'></use></svg></label><input id='data-a8fc505a-00b7-4f36-9b1e-18c28677ccef' class='xr-var-data-in' type='checkbox'><label for='data-a8fc505a-00b7-4f36-9b1e-18c28677ccef' title='Show/Hide data repr'><svg class='icon xr-icon-database'><use xlink:href='#icon-database'></use></svg></label><div class='xr-var-attrs'><dl class='xr-attrs'></dl></div><div class='xr-var-data'><pre>array([1.])</pre></div></li><li class='xr-var-item'><div class='xr-var-name'><span class='xr-has-index'>time</span></div><div class='xr-var-dims'>(time)</div><div class='xr-var-dtype'>datetime64[ns]</div><div class='xr-var-preview xr-preview'>2022-08-30T11:21:03 ... 2022-08-...</div><input id='attrs-f9364d7a-a49c-46c3-8b34-05befc13f9a0' class='xr-var-attrs-in' type='checkbox' disabled><label for='attrs-f9364d7a-a49c-46c3-8b34-05befc13f9a0' title='Show/Hide attributes'><svg class='icon xr-icon-file-text2'><use xlink:href='#icon-file-text2'></use></svg></label><input id='data-6719860e-95b8-4568-ad99-1c99e1e50bec' class='xr-var-data-in' type='checkbox'><label for='data-6719860e-95b8-4568-ad99-1c99e1e50bec' title='Show/Hide data repr'><svg class='icon xr-icon-database'><use xlink:href='#icon-database'></use></svg></label><div class='xr-var-attrs'><dl class='xr-attrs'></dl></div><div class='xr-var-data'><pre>array([&#x27;2022-08-30T11:21:03.000000000&#x27;, &#x27;2022-08-30T11:21:04.000000000&#x27;,\n       &#x27;2022-08-30T11:21:05.000000000&#x27;, &#x27;2022-08-30T11:21:06.000000000&#x27;,\n       &#x27;2022-08-30T11:21:07.000000000&#x27;], dtype=&#x27;datetime64[ns]&#x27;)</pre></div></li><li class='xr-var-item'><div class='xr-var-name'><span class='xr-has-index'>maintenancetime</span></div><div class='xr-var-dims'>(maintenancetime)</div><div class='xr-var-dtype'>datetime64[ns]</div><div class='xr-var-preview xr-preview'>2023-05-08T16:09:06</div><input id='attrs-83dd34d2-58cf-4d45-afdb-7d1e41ec3a29' class='xr-var-attrs-in' type='checkbox' disabled><label for='attrs-83dd34d2-58cf-4d45-afdb-7d1e41ec3a29' title='Show/Hide attributes'><svg class='icon xr-icon-file-text2'><use xlink:href='#icon-file-text2'></use></svg></label><input id='data-cddfc7dc-2afd-43dd-a744-5eb9d467d7bc' class='xr-var-data-in' type='checkbox'><label for='data-cddfc7dc-2afd-43dd-a744-5eb9d467d7bc' title='Show/Hide data repr'><svg class='icon xr-icon-database'><use xlink:href='#icon-database'></use></svg></label><div class='xr-var-attrs'><dl class='xr-attrs'></dl></div><div class='xr-var-data'><pre>array([&#x27;2023-05-08T16:09:06.000000000&#x27;], dtype=&#x27;datetime64[ns]&#x27;)</pre></div></li></ul></div></li><li class='xr-section-item'><input id='section-a5608477-f87e-4a98-9e66-b2f49777ec24' class='xr-section-summary-in' type='checkbox'  ><label for='section-a5608477-f87e-4a98-9e66-b2f49777ec24' class='xr-section-summary' >Data variables: <span>(18)</span></label><div class='xr-section-inline-details'></div><div class='xr-section-details'><ul class='xr-var-list'><li class='xr-var-item'><div class='xr-var-name'><span>ghi</span></div><div class='xr-var-dims'>(time, station)</div><div class='xr-var-dtype'>float64</div><div class='xr-var-preview xr-preview'>269.9 269.7 280.9 280.9 280.9</div><input id='attrs-f0ac2a03-201b-44cb-938a-87ec1e25ade1' class='xr-var-attrs-in' type='checkbox' ><label for='attrs-f0ac2a03-201b-44cb-938a-87ec1e25ade1' title='Show/Hide attributes'><svg class='icon xr-icon-file-text2'><use xlink:href='#icon-file-text2'></use></svg></label><input id='data-5d1d3198-0164-4a08-b03f-6472e4cddafd' class='xr-var-data-in' type='checkbox'><label for='data-5d1d3198-0164-4a08-b03f-6472e4cddafd' title='Show/Hide data repr'><svg class='icon xr-icon-database'><use xlink:href='#icon-database'></use></svg></label><div class='xr-var-attrs'><dl class='xr-attrs'><dt><span>units :</span></dt><dd>W m-2</dd><dt><span>long_name :</span></dt><dd>downwelling shortwave flux</dd><dt><span>standard_name :</span></dt><dd>downwelling_shortwave_flux_in_air</dd><dt><span>valid_range :</span></dt><dd>[   0 1023]</dd><dt><span>serial :</span></dt><dd>S12128.001</dd><dt><span>calibration_Cabsolute :</span></dt><dd>129366.10608020698</dd><dt><span>calibration_Ccoscorr :</span></dt><dd>1.45 - 3.04·x¹ + 5.59·x² - 3.01·x³</dd><dt><span>calibration_function :</span></dt><dd>flux (W m-2) = flux (V) * Cabsolute (W m-2 V-1) * Ccoscorr(mua)</dd></dl></div><div class='xr-var-data'><pre>array([[269.860475  ],\n       [269.72137902],\n       [280.90462604],\n       [280.90449869],\n       [280.90437115]])</pre></div></li><li class='xr-var-item'><div class='xr-var-name'><span>gti</span></div><div class='xr-var-dims'>(time, station)</div><div class='xr-var-dtype'>float64</div><div class='xr-var-preview xr-preview'>277.3 277.3 288.8 288.6 288.6</div><input id='attrs-02f10a74-0049-4f96-a364-fc5f053d159a' class='xr-var-attrs-in' type='checkbox' ><label for='attrs-02f10a74-0049-4f96-a364-fc5f053d159a' title='Show/Hide attributes'><svg class='icon xr-icon-file-text2'><use xlink:href='#icon-file-text2'></use></svg></label><input id='data-2a9d9054-fce1-4fdd-ba48-a0ea70e28665' class='xr-var-data-in' type='checkbox'><label for='data-2a9d9054-fce1-4fdd-ba48-a0ea70e28665' title='Show/Hide data repr'><svg class='icon xr-icon-database'><use xlink:href='#icon-database'></use></svg></label><div class='xr-var-attrs'><dl class='xr-attrs'><dt><span>units :</span></dt><dd>W m-2</dd><dt><span>long_name :</span></dt><dd>downwelling shortwave flux measured on secondary platform, might be tilted</dd><dt><span>standard_name :</span></dt><dd>downwelling_shortwave_flux_in_air</dd><dt><span>valid_range :</span></dt><dd>[   0 1023]</dd><dt><span>hangle :</span></dt><dd>0.0</dd><dt><span>vangle :</span></dt><dd>0.0</dd><dt><span>serial :</span></dt><dd>S12137.049</dd><dt><span>calibration_Cabsolute :</span></dt><dd>143266.47564469912</dd><dt><span>calibration_Ccoscorr :</span></dt><dd>1.45 - 3.04·x¹ + 5.59·x² - 3.01·x³</dd><dt><span>calibration_function :</span></dt><dd>flux (W m-2) = flux (V) * Cabsolute (W m-2 V-1) * Ccoscorr(mua)</dd></dl></div><div class='xr-var-data'><pre>array([[277.28995527],\n       [277.28995527],\n       [288.79852425],\n       [288.63802999],\n       [288.63789894]])</pre></div></li><li class='xr-var-item'><div class='xr-var-name'><span>ta</span></div><div class='xr-var-dims'>(time, station)</div><div class='xr-var-dtype'>float32</div><div class='xr-var-preview xr-preview'>294.8 294.7 294.8 294.7 294.8</div><input id='attrs-f373af3d-8a30-4c62-9bb3-ca447dd6b330' class='xr-var-attrs-in' type='checkbox' ><label for='attrs-f373af3d-8a30-4c62-9bb3-ca447dd6b330' title='Show/Hide attributes'><svg class='icon xr-icon-file-text2'><use xlink:href='#icon-file-text2'></use></svg></label><input id='data-e8986aa9-8e4c-4eca-b821-395c1169975d' class='xr-var-data-in' type='checkbox'><label for='data-e8986aa9-8e4c-4eca-b821-395c1169975d' title='Show/Hide data repr'><svg class='icon xr-icon-database'><use xlink:href='#icon-database'></use></svg></label><div class='xr-var-attrs'><dl class='xr-attrs'><dt><span>units :</span></dt><dd>K</dd><dt><span>long_name :</span></dt><dd>air temperature</dd><dt><span>standard_name :</span></dt><dd>air_temperature</dd><dt><span>valid_range :</span></dt><dd>[  0 775]</dd></dl></div><div class='xr-var-data'><pre>array([[294.7758 ],\n       [294.74997],\n       [294.7887 ],\n       [294.74997],\n       [294.82742]], dtype=float32)</pre></div></li><li class='xr-var-item'><div class='xr-var-name'><span>rh</span></div><div class='xr-var-dims'>(time, station)</div><div class='xr-var-dtype'>float32</div><div class='xr-var-preview xr-preview'>0.6263 0.6266 0.6271 0.6271 0.629</div><input id='attrs-22aaf903-142f-4c87-8f64-139681d54095' class='xr-var-attrs-in' type='checkbox' ><label for='attrs-22aaf903-142f-4c87-8f64-139681d54095' title='Show/Hide attributes'><svg class='icon xr-icon-file-text2'><use xlink:href='#icon-file-text2'></use></svg></label><input id='data-ad0bae22-ae3c-4008-bf8c-4d2e13932d8b' class='xr-var-data-in' type='checkbox'><label for='data-ad0bae22-ae3c-4008-bf8c-4d2e13932d8b' title='Show/Hide data repr'><svg class='icon xr-icon-database'><use xlink:href='#icon-database'></use></svg></label><div class='xr-var-attrs'><dl class='xr-attrs'><dt><span>units :</span></dt><dd>1</dd><dt><span>long_name :</span></dt><dd>air relative humidity</dd><dt><span>standard_name :</span></dt><dd>relative_humidity</dd><dt><span>valid_range :</span></dt><dd>[  0 775]</dd></dl></div><div class='xr-var-data'><pre>array([[0.62632257],\n       [0.6265806 ],\n       [0.6270968 ],\n       [0.6270968 ],\n       [0.62903225]], dtype=float32)</pre></div></li><li class='xr-var-item'><div class='xr-var-name'><span>battery_voltage</span></div><div class='xr-var-dims'>(time, station)</div><div class='xr-var-dtype'>float32</div><div class='xr-var-preview xr-preview'>6.445 6.446 6.45 6.448 6.458</div><input id='attrs-5b5fe237-51be-4fc3-9ac1-de805c6a0286' class='xr-var-attrs-in' type='checkbox' ><label for='attrs-5b5fe237-51be-4fc3-9ac1-de805c6a0286' title='Show/Hide attributes'><svg class='icon xr-icon-file-text2'><use xlink:href='#icon-file-text2'></use></svg></label><input id='data-71901f1b-d515-4cec-adee-80031e051a48' class='xr-var-data-in' type='checkbox'><label for='data-71901f1b-d515-4cec-adee-80031e051a48' title='Show/Hide data repr'><svg class='icon xr-icon-database'><use xlink:href='#icon-database'></use></svg></label><div class='xr-var-attrs'><dl class='xr-attrs'><dt><span>units :</span></dt><dd>V</dd><dt><span>standard_name :</span></dt><dd>battery_voltage</dd><dt><span>valid_range :</span></dt><dd>[  0 992]</dd></dl></div><div class='xr-var-data'><pre>array([[6.4451613],\n       [6.445807 ],\n       [6.4496775],\n       [6.4477415],\n       [6.4580646]], dtype=float32)</pre></div></li><li class='xr-var-item'><div class='xr-var-name'><span>ghi_min</span></div><div class='xr-var-dims'>(time, station)</div><div class='xr-var-dtype'>float64</div><div class='xr-var-preview xr-preview'>269.9 268.5 280.9 280.9 280.9</div><input id='attrs-4f4644b0-69c9-4cb6-97b8-1e1589447125' class='xr-var-attrs-in' type='checkbox' ><label for='attrs-4f4644b0-69c9-4cb6-97b8-1e1589447125' title='Show/Hide attributes'><svg class='icon xr-icon-file-text2'><use xlink:href='#icon-file-text2'></use></svg></label><input id='data-277892fe-38e9-47e8-8c95-4ffa4f01cbd2' class='xr-var-data-in' type='checkbox'><label for='data-277892fe-38e9-47e8-8c95-4ffa4f01cbd2' title='Show/Hide data repr'><svg class='icon xr-icon-database'><use xlink:href='#icon-database'></use></svg></label><div class='xr-var-attrs'><dl class='xr-attrs'><dt><span>units :</span></dt><dd>W m-2</dd><dt><span>long_name :</span></dt><dd>downwelling shortwave flux</dd><dt><span>standard_name :</span></dt><dd>min_downwelling_shortwave_flux_in_air</dd><dt><span>valid_range :</span></dt><dd>[   0 1023]</dd><dt><span>serial :</span></dt><dd>S12128.001</dd><dt><span>calibration_Cabsolute :</span></dt><dd>129366.10608020698</dd><dt><span>calibration_Ccoscorr :</span></dt><dd>1.45 - 3.04·x¹ + 5.59·x² - 3.01·x³</dd><dt><span>calibration_function :</span></dt><dd>flux (W m-2) = flux (V) * Cabsolute (W m-2 V-1) * Ccoscorr(mua)</dd></dl></div><div class='xr-var-data'><pre>array([[269.860475  ],\n       [268.46945498],\n       [280.90462604],\n       [280.90449869],\n       [280.90437115]])</pre></div></li><li class='xr-var-item'><div class='xr-var-name'><span>gti_min</span></div><div class='xr-var-dims'>(time, station)</div><div class='xr-var-dtype'>float64</div><div class='xr-var-preview xr-preview'>277.3 275.7 287.0 288.6 288.6</div><input id='attrs-ee7958de-54a9-4d71-98dd-115c6c9c53e3' class='xr-var-attrs-in' type='checkbox' ><label for='attrs-ee7958de-54a9-4d71-98dd-115c6c9c53e3' title='Show/Hide attributes'><svg class='icon xr-icon-file-text2'><use xlink:href='#icon-file-text2'></use></svg></label><input id='data-da314daa-ecbb-4552-bae2-6cfee7e89335' class='xr-var-data-in' type='checkbox'><label for='data-da314daa-ecbb-4552-bae2-6cfee7e89335' title='Show/Hide data repr'><svg class='icon xr-icon-database'><use xlink:href='#icon-database'></use></svg></label><div class='xr-var-attrs'><dl class='xr-attrs'><dt><span>units :</span></dt><dd>W m-2</dd><dt><span>long_name :</span></dt><dd>downwelling shortwave flux measured on secondary platform, might be tilted</dd><dt><span>standard_name :</span></dt><dd>min_downwelling_shortwave_flux_in_air</dd><dt><span>valid_range :</span></dt><dd>[   0 1023]</dd><dt><span>hangle :</span></dt><dd>0.0</dd><dt><span>vangle :</span></dt><dd>0.0</dd><dt><span>serial :</span></dt><dd>S12137.049</dd><dt><span>calibration_Cabsolute :</span></dt><dd>143266.47564469912</dd><dt><span>calibration_Ccoscorr :</span></dt><dd>1.45 - 3.04·x¹ + 5.59·x² - 3.01·x³</dd><dt><span>calibration_function :</span></dt><dd>flux (W m-2) = flux (V) * Cabsolute (W m-2 V-1) * Ccoscorr(mua)</dd></dl></div><div class='xr-var-data'><pre>array([[277.28995527],\n       [275.74945367],\n       [287.03461358],\n       [288.63802999],\n       [288.63789894]])</pre></div></li><li class='xr-var-item'><div class='xr-var-name'><span>ghi_max</span></div><div class='xr-var-dims'>(time, station)</div><div class='xr-var-dtype'>float64</div><div class='xr-var-preview xr-preview'>269.9 269.9 280.9 280.9 280.9</div><input id='attrs-0cc51fef-b9fa-4e7c-a255-3a054bf457c9' class='xr-var-attrs-in' type='checkbox' ><label for='attrs-0cc51fef-b9fa-4e7c-a255-3a054bf457c9' title='Show/Hide attributes'><svg class='icon xr-icon-file-text2'><use xlink:href='#icon-file-text2'></use></svg></label><input id='data-9bb3558b-8088-45b4-b322-591928a11718' class='xr-var-data-in' type='checkbox'><label for='data-9bb3558b-8088-45b4-b322-591928a11718' title='Show/Hide data repr'><svg class='icon xr-icon-database'><use xlink:href='#icon-database'></use></svg></label><div class='xr-var-attrs'><dl class='xr-attrs'><dt><span>units :</span></dt><dd>W m-2</dd><dt><span>long_name :</span></dt><dd>downwelling shortwave flux</dd><dt><span>standard_name :</span></dt><dd>max_downwelling_shortwave_flux_in_air</dd><dt><span>valid_range :</span></dt><dd>[   0 1023]</dd><dt><span>serial :</span></dt><dd>S12128.001</dd><dt><span>calibration_Cabsolute :</span></dt><dd>129366.10608020698</dd><dt><span>calibration_Ccoscorr :</span></dt><dd>1.45 - 3.04·x¹ + 5.59·x² - 3.01·x³</dd><dt><span>calibration_function :</span></dt><dd>flux (W m-2) = flux (V) * Cabsolute (W m-2 V-1) * Ccoscorr(mua)</dd></dl></div><div class='xr-var-data'><pre>array([[269.860475  ],\n       [269.860475  ],\n       [280.90462604],\n       [280.90449869],\n       [280.90437115]])</pre></div></li><li class='xr-var-item'><div class='xr-var-name'><span>gti_max</span></div><div class='xr-var-dims'>(time, station)</div><div class='xr-var-dtype'>float64</div><div class='xr-var-preview xr-preview'>277.3 278.8 290.2 288.6 288.6</div><input id='attrs-530981ff-ccdf-4c26-b8f0-3afce53ac436' class='xr-var-attrs-in' type='checkbox' ><label for='attrs-530981ff-ccdf-4c26-b8f0-3afce53ac436' title='Show/Hide attributes'><svg class='icon xr-icon-file-text2'><use xlink:href='#icon-file-text2'></use></svg></label><input id='data-e7fc851c-f02c-42b7-884d-4f933826b240' class='xr-var-data-in' type='checkbox'><label for='data-e7fc851c-f02c-42b7-884d-4f933826b240' title='Show/Hide data repr'><svg class='icon xr-icon-database'><use xlink:href='#icon-database'></use></svg></label><div class='xr-var-attrs'><dl class='xr-attrs'><dt><span>units :</span></dt><dd>W m-2</dd><dt><span>long_name :</span></dt><dd>downwelling shortwave flux measured on secondary platform, might be tilted</dd><dt><span>standard_name :</span></dt><dd>max_downwelling_shortwave_flux_in_air</dd><dt><span>valid_range :</span></dt><dd>[   0 1023]</dd><dt><span>hangle :</span></dt><dd>0.0</dd><dt><span>vangle :</span></dt><dd>0.0</dd><dt><span>serial :</span></dt><dd>S12137.049</dd><dt><span>calibration_Cabsolute :</span></dt><dd>143266.47564469912</dd><dt><span>calibration_Ccoscorr :</span></dt><dd>1.45 - 3.04·x¹ + 5.59·x² - 3.01·x³</dd><dt><span>calibration_function :</span></dt><dd>flux (W m-2) = flux (V) * Cabsolute (W m-2 V-1) * Ccoscorr(mua)</dd></dl></div><div class='xr-var-data'><pre>array([[277.28995527],\n       [278.83045688],\n       [290.24170811],\n       [288.63802999],\n       [288.63789894]])</pre></div></li><li class='xr-var-item'><div class='xr-var-name'><span>ghi_std</span></div><div class='xr-var-dims'>(time, station)</div><div class='xr-var-dtype'>float64</div><div class='xr-var-preview xr-preview'>0.0 0.4399 0.0 0.0 0.0</div><input id='attrs-700a05f7-b923-499e-8084-c5459ff57bc5' class='xr-var-attrs-in' type='checkbox' ><label for='attrs-700a05f7-b923-499e-8084-c5459ff57bc5' title='Show/Hide attributes'><svg class='icon xr-icon-file-text2'><use xlink:href='#icon-file-text2'></use></svg></label><input id='data-75bc694d-481f-4e23-853f-ba1d199ecde2' class='xr-var-data-in' type='checkbox'><label for='data-75bc694d-481f-4e23-853f-ba1d199ecde2' title='Show/Hide data repr'><svg class='icon xr-icon-database'><use xlink:href='#icon-database'></use></svg></label><div class='xr-var-attrs'><dl class='xr-attrs'><dt><span>units :</span></dt><dd>W m-2</dd><dt><span>long_name :</span></dt><dd>downwelling shortwave flux</dd><dt><span>standard_name :</span></dt><dd>std_downwelling_shortwave_flux_in_air</dd><dt><span>valid_range :</span></dt><dd>[   0 1023]</dd><dt><span>serial :</span></dt><dd>S12128.001</dd><dt><span>calibration_Cabsolute :</span></dt><dd>129366.10608020698</dd><dt><span>calibration_Ccoscorr :</span></dt><dd>1.45 - 3.04·x¹ + 5.59·x² - 3.01·x³</dd><dt><span>calibration_function :</span></dt><dd>flux (W m-2) = flux (V) * Cabsolute (W m-2 V-1) * Ccoscorr(mua)</dd></dl></div><div class='xr-var-data'><pre>array([[0.        ],\n       [0.43987915],\n       [0.        ],\n       [0.        ],\n       [0.        ]])</pre></div></li><li class='xr-var-item'><div class='xr-var-name'><span>gti_std</span></div><div class='xr-var-dims'>(time, station)</div><div class='xr-var-dtype'>float64</div><div class='xr-var-preview xr-preview'>0.0 0.7262 0.9102 0.0 0.0</div><input id='attrs-7068af55-4f56-4dd9-846d-d451198cd2a0' class='xr-var-attrs-in' type='checkbox' ><label for='attrs-7068af55-4f56-4dd9-846d-d451198cd2a0' title='Show/Hide attributes'><svg class='icon xr-icon-file-text2'><use xlink:href='#icon-file-text2'></use></svg></label><input id='data-87b1f8f4-b1b7-4189-aeb6-06355684ef34' class='xr-var-data-in' type='checkbox'><label for='data-87b1f8f4-b1b7-4189-aeb6-06355684ef34' title='Show/Hide data repr'><svg class='icon xr-icon-database'><use xlink:href='#icon-database'></use></svg></label><div class='xr-var-attrs'><dl class='xr-attrs'><dt><span>units :</span></dt><dd>W m-2</dd><dt><span>long_name :</span></dt><dd>downwelling shortwave flux measured on secondary platform, might be tilted</dd><dt><span>standard_name :</span></dt><dd>std_downwelling_shortwave_flux_in_air</dd><dt><span>valid_range :</span></dt><dd>[   0 1023]</dd><dt><span>hangle :</span></dt><dd>0.0</dd><dt><span>vangle :</span></dt><dd>0.0</dd><dt><span>serial :</span></dt><dd>S12137.049</dd><dt><span>calibration_Cabsolute :</span></dt><dd>143266.47564469912</dd><dt><span>calibration_Ccoscorr :</span></dt><dd>1.45 - 3.04·x¹ + 5.59·x² - 3.01·x³</dd><dt><span>calibration_function :</span></dt><dd>flux (W m-2) = flux (V) * Cabsolute (W m-2 V-1) * Ccoscorr(mua)</dd></dl></div><div class='xr-var-data'><pre>array([[0.        ],\n       [0.72619942],\n       [0.91024753],\n       [0.        ],\n       [0.        ]])</pre></div></li><li class='xr-var-item'><div class='xr-var-name'><span>lat</span></div><div class='xr-var-dims'>(time, station)</div><div class='xr-var-dtype'>float64</div><div class='xr-var-preview xr-preview'>nan nan 51.39 51.39 51.39</div><input id='attrs-10f80f46-bdd9-4b5b-ae59-52ce4ada2db3' class='xr-var-attrs-in' type='checkbox' ><label for='attrs-10f80f46-bdd9-4b5b-ae59-52ce4ada2db3' title='Show/Hide attributes'><svg class='icon xr-icon-file-text2'><use xlink:href='#icon-file-text2'></use></svg></label><input id='data-7250beac-e584-4fb0-aa65-8009e19485ad' class='xr-var-data-in' type='checkbox'><label for='data-7250beac-e584-4fb0-aa65-8009e19485ad' title='Show/Hide data repr'><svg class='icon xr-icon-database'><use xlink:href='#icon-database'></use></svg></label><div class='xr-var-attrs'><dl class='xr-attrs'><dt><span>standard_name :</span></dt><dd>latitude</dd><dt><span>units :</span></dt><dd>degree_north</dd><dt><span>valid_range :</span></dt><dd>[-90.  90.]</dd></dl></div><div class='xr-var-data'><pre>array([[        nan],\n       [        nan],\n       [51.39021167],\n       [51.39021086],\n       [51.39021   ]])</pre></div></li><li class='xr-var-item'><div class='xr-var-name'><span>lon</span></div><div class='xr-var-dims'>(time, station)</div><div class='xr-var-dtype'>float64</div><div class='xr-var-preview xr-preview'>nan nan 11.89 11.89 11.89</div><input id='attrs-f32a6698-ed65-4dcc-bcd8-d56a82e20068' class='xr-var-attrs-in' type='checkbox' ><label for='attrs-f32a6698-ed65-4dcc-bcd8-d56a82e20068' title='Show/Hide attributes'><svg class='icon xr-icon-file-text2'><use xlink:href='#icon-file-text2'></use></svg></label><input id='data-7c93b095-65a2-4177-8749-632c3a9f4427' class='xr-var-data-in' type='checkbox'><label for='data-7c93b095-65a2-4177-8749-632c3a9f4427' title='Show/Hide data repr'><svg class='icon xr-icon-database'><use xlink:href='#icon-database'></use></svg></label><div class='xr-var-attrs'><dl class='xr-attrs'><dt><span>standard_name :</span></dt><dd>longitude</dd><dt><span>units :</span></dt><dd>degree_east</dd><dt><span>valid_range :</span></dt><dd>[-180.  180.]</dd></dl></div><div class='xr-var-data'><pre>array([[        nan],\n       [        nan],\n       [11.88525656],\n       [11.88525425],\n       [11.88525167]])</pre></div></li><li class='xr-var-item'><div class='xr-var-name'><span>maintenance_flag_ghi</span></div><div class='xr-var-dims'>(maintenancetime, station)</div><div class='xr-var-dtype'>float32</div><div class='xr-var-preview xr-preview'>9.0</div><input id='attrs-71ba0a10-0465-4ce7-bb20-0b89f057662b' class='xr-var-attrs-in' type='checkbox' ><label for='attrs-71ba0a10-0465-4ce7-bb20-0b89f057662b' title='Show/Hide attributes'><svg class='icon xr-icon-file-text2'><use xlink:href='#icon-file-text2'></use></svg></label><input id='data-59526458-105b-4771-8946-6c5f142095b9' class='xr-var-data-in' type='checkbox'><label for='data-59526458-105b-4771-8946-6c5f142095b9' title='Show/Hide data repr'><svg class='icon xr-icon-database'><use xlink:href='#icon-database'></use></svg></label><div class='xr-var-attrs'><dl class='xr-attrs'><dt><span>standard_name :</span></dt><dd>quality_flag</dd><dt><span>long_name :</span></dt><dd>Maintenance quality control flags for main pyranometer</dd><dt><span>note :</span></dt><dd>Soiling describes subjectively the coverage of the pyranometer dome with dirt. The level flag is problematic if the bubble of the spirit level touches the reference ring, and bad if it is outside.</dd><dt><span>valid_range :</span></dt><dd>[ 0 11]</dd><dt><span>flag_masks :</span></dt><dd>[ 3  3  3 12 12]</dd><dt><span>flag_values :</span></dt><dd>[1 2 3 4 8]</dd><dt><span>flag_meanings :</span></dt><dd>soiling_light soiling_moderate soiling_heavy level_problematic level_bad</dd><dt><span>note_general :</span></dt><dd>222</dd><dt><span>note_clean :</span></dt><dd>testing notes</dd><dt><span>note_level :</span></dt><dd>test</dd></dl></div><div class='xr-var-data'><pre>array([[9.]], dtype=float32)</pre></div></li><li class='xr-var-item'><div class='xr-var-name'><span>maintenance_flag_gti</span></div><div class='xr-var-dims'>(maintenancetime, station)</div><div class='xr-var-dtype'>float32</div><div class='xr-var-preview xr-preview'>7.0</div><input id='attrs-4d26194f-f3e6-40fa-a277-fb470b3f5f17' class='xr-var-attrs-in' type='checkbox' ><label for='attrs-4d26194f-f3e6-40fa-a277-fb470b3f5f17' title='Show/Hide attributes'><svg class='icon xr-icon-file-text2'><use xlink:href='#icon-file-text2'></use></svg></label><input id='data-7bec3ca4-a13d-40f9-9e0e-b9661bfa975f' class='xr-var-data-in' type='checkbox'><label for='data-7bec3ca4-a13d-40f9-9e0e-b9661bfa975f' title='Show/Hide data repr'><svg class='icon xr-icon-database'><use xlink:href='#icon-database'></use></svg></label><div class='xr-var-attrs'><dl class='xr-attrs'><dt><span>standard_name :</span></dt><dd>quality_flag</dd><dt><span>long_name :</span></dt><dd>Maintenance quality control flags for secondary pyranometer</dd><dt><span>note :</span></dt><dd>Soiling describes subjectively the coverage of the pyranometer dome with dirt. The level flag is problematic if the bubble of the spirit level touches the reference ring, and bad if it is outside.</dd><dt><span>valid_range :</span></dt><dd>[ 0 11]</dd><dt><span>flag_masks :</span></dt><dd>[ 3  3  3 12 12]</dd><dt><span>flag_values :</span></dt><dd>[1 2 3 4 8]</dd><dt><span>flag_meanings :</span></dt><dd>soiling_light soiling_moderate soiling_heavy level_problematic level_bad</dd><dt><span>note_general :</span></dt><dd>222</dd><dt><span>note_clean :</span></dt><dd></dd><dt><span>note_level :</span></dt><dd></dd></dl></div><div class='xr-var-data'><pre>array([[7.]], dtype=float32)</pre></div></li><li class='xr-var-item'><div class='xr-var-name'><span>szen</span></div><div class='xr-var-dims'>(time, station)</div><div class='xr-var-dtype'>float64</div><div class='xr-var-preview xr-preview'>nan nan 42.51 42.51 42.51</div><input id='attrs-a9dc1c9d-cf3d-44be-a416-33bf5a992faa' class='xr-var-attrs-in' type='checkbox' ><label for='attrs-a9dc1c9d-cf3d-44be-a416-33bf5a992faa' title='Show/Hide attributes'><svg class='icon xr-icon-file-text2'><use xlink:href='#icon-file-text2'></use></svg></label><input id='data-d128f485-4a8c-4f18-a123-a4f6f176a8cc' class='xr-var-data-in' type='checkbox'><label for='data-d128f485-4a8c-4f18-a123-a4f6f176a8cc' title='Show/Hide data repr'><svg class='icon xr-icon-database'><use xlink:href='#icon-database'></use></svg></label><div class='xr-var-attrs'><dl class='xr-attrs'><dt><span>standard_name :</span></dt><dd>solar_zenith_angle</dd><dt><span>units :</span></dt><dd>degree</dd><dt><span>valid_range :</span></dt><dd>[0, 36000]</dd></dl></div><div class='xr-var-data'><pre>array([[        nan],\n       [        nan],\n       [42.51185936],\n       [42.5119952 ],\n       [42.51213125]])</pre></div></li><li class='xr-var-item'><div class='xr-var-name'><span>sazi</span></div><div class='xr-var-dims'>(time, station)</div><div class='xr-var-dtype'>float64</div><div class='xr-var-preview xr-preview'>nan nan 182.9 182.9 182.9</div><input id='attrs-ce264eb5-c0f2-4f5e-bcb5-458238833846' class='xr-var-attrs-in' type='checkbox' ><label for='attrs-ce264eb5-c0f2-4f5e-bcb5-458238833846' title='Show/Hide attributes'><svg class='icon xr-icon-file-text2'><use xlink:href='#icon-file-text2'></use></svg></label><input id='data-7605df1e-3123-44a6-9e8b-73ef2915b29b' class='xr-var-data-in' type='checkbox'><label for='data-7605df1e-3123-44a6-9e8b-73ef2915b29b' title='Show/Hide data repr'><svg class='icon xr-icon-database'><use xlink:href='#icon-database'></use></svg></label><div class='xr-var-attrs'><dl class='xr-attrs'><dt><span>standard_name :</span></dt><dd>solar_azimuth_angle</dd><dt><span>units :</span></dt><dd>degree</dd><dt><span>valid_range :</span></dt><dd>[0, 36000]</dd></dl></div><div class='xr-var-data'><pre>array([[         nan],\n       [         nan],\n       [182.91893638],\n       [182.92502264],\n       [182.93110846]])</pre></div></li><li class='xr-var-item'><div class='xr-var-name'><span>esd</span></div><div class='xr-var-dims'>(station)</div><div class='xr-var-dtype'>float64</div><div class='xr-var-preview xr-preview'>1.01</div><input id='attrs-58683581-001e-4454-b20c-faf2d4b901a6' class='xr-var-attrs-in' type='checkbox' ><label for='attrs-58683581-001e-4454-b20c-faf2d4b901a6' title='Show/Hide attributes'><svg class='icon xr-icon-file-text2'><use xlink:href='#icon-file-text2'></use></svg></label><input id='data-95d2622d-b8c7-4167-a08a-7863b9cc43b9' class='xr-var-data-in' type='checkbox'><label for='data-95d2622d-b8c7-4167-a08a-7863b9cc43b9' title='Show/Hide data repr'><svg class='icon xr-icon-database'><use xlink:href='#icon-database'></use></svg></label><div class='xr-var-attrs'><dl class='xr-attrs'><dt><span>long_name :</span></dt><dd>Earth-sun distance</dd><dt><span>note :</span></dt><dd>Calculated based on Spencer (1971), as mean of its values over all time steps.</dd><dt><span>units :</span></dt><dd>ua</dd></dl></div><div class='xr-var-data'><pre>array([1.00959973])</pre></div></li></ul></div></li><li class='xr-section-item'><input id='section-e398daa2-29aa-4eda-8320-81dbf63e52c4' class='xr-section-summary-in' type='checkbox'  ><label for='section-e398daa2-29aa-4eda-8320-81dbf63e52c4' class='xr-section-summary' >Indexes: <span>(3)</span></label><div class='xr-section-inline-details'></div><div class='xr-section-details'><ul class='xr-var-list'><li class='xr-var-item'><div class='xr-index-name'><div>station</div></div><div class='xr-index-preview'>PandasIndex</div><div></div><input id='index-33d289d8-b6b8-48f5-9ed6-ac0a5be654df' class='xr-index-data-in' type='checkbox'/><label for='index-33d289d8-b6b8-48f5-9ed6-ac0a5be654df' title='Show/Hide index repr'><svg class='icon xr-icon-database'><use xlink:href='#icon-database'></use></svg></label><div class='xr-index-data'><pre>PandasIndex(Float64Index([1.0], dtype=&#x27;float64&#x27;, name=&#x27;station&#x27;))</pre></div></li><li class='xr-var-item'><div class='xr-index-name'><div>time</div></div><div class='xr-index-preview'>PandasIndex</div><div></div><input id='index-42b458c5-efd8-4d44-80c9-22d73ebebfda' class='xr-index-data-in' type='checkbox'/><label for='index-42b458c5-efd8-4d44-80c9-22d73ebebfda' title='Show/Hide index repr'><svg class='icon xr-icon-database'><use xlink:href='#icon-database'></use></svg></label><div class='xr-index-data'><pre>PandasIndex(DatetimeIndex([&#x27;2022-08-30 11:21:03&#x27;, &#x27;2022-08-30 11:21:04&#x27;,\n               &#x27;2022-08-30 11:21:05&#x27;, &#x27;2022-08-30 11:21:06&#x27;,\n               &#x27;2022-08-30 11:21:07&#x27;],\n              dtype=&#x27;datetime64[ns]&#x27;, name=&#x27;time&#x27;, freq=&#x27;S&#x27;))</pre></div></li><li class='xr-var-item'><div class='xr-index-name'><div>maintenancetime</div></div><div class='xr-index-preview'>PandasIndex</div><div></div><input id='index-f52f068a-3fcc-496a-b7b6-2e9fe0c6a08d' class='xr-index-data-in' type='checkbox'/><label for='index-f52f068a-3fcc-496a-b7b6-2e9fe0c6a08d' title='Show/Hide index repr'><svg class='icon xr-icon-database'><use xlink:href='#icon-database'></use></svg></label><div class='xr-index-data'><pre>PandasIndex(DatetimeIndex([&#x27;2023-05-08 16:09:06&#x27;], dtype=&#x27;datetime64[ns]&#x27;, name=&#x27;maintenancetime&#x27;, freq=None))</pre></div></li></ul></div></li><li class='xr-section-item'><input id='section-357e0c89-250c-4a51-a52f-44d71576fd45' class='xr-section-summary-in' type='checkbox'  ><label for='section-357e0c89-250c-4a51-a52f-44d71576fd45' class='xr-section-summary' >Attributes: <span>(31)</span></label><div class='xr-section-inline-details'></div><div class='xr-section-details'><dl class='xr-attrs'><dt><span>Conventions :</span></dt><dd>CF-1.10, ACDD-1.3</dd><dt><span>title :</span></dt><dd>TROPOS pyranometer network (PyrNet) observational data set</dd><dt><span>history :</span></dt><dd>2024-02-23T15:22:57: Generated level l1a  by pyrnet version 0.1.10+60.gc0e9399.dirty; </dd><dt><span>institution :</span></dt><dd>Leibniz Institute for Tropospheric Research (TROPOS)</dd><dt><span>source :</span></dt><dd>TROPOS pyranometer network (PyrNet)</dd><dt><span>references :</span></dt><dd>https://doi.org/10.5194/amt-9-1153-2016</dd><dt><span>Department :</span></dt><dd>Remote Sensing of Atmospheric Processes</dd><dt><span>Department_team :</span></dt><dd>Clouds, Aerosol and Radiation</dd><dt><span>Address :</span></dt><dd>Permoser Str. 15, 04318 Leipzig, Germany</dd><dt><span>Contact_person :</span></dt><dd>Andreas Macke and the clouds, aerosol and radiation team of the remote sensing department, mailto:andreas.macke@tropos.de</dd><dt><span>Contributor_name :</span></dt><dd></dd><dt><span>Contributor_role :</span></dt><dd></dd><dt><span>Authors_software :</span></dt><dd>Hartwig Deneke, Jonas Witthuhn, mailto:deneke@tropos.de</dd><dt><span>Creator_name :</span></dt><dd></dd><dt><span>Project :</span></dt><dd></dd><dt><span>Standard_name_vocabulary :</span></dt><dd>CF Standard Name Table v81</dd><dt><span>License :</span></dt><dd>CC-BY-SA 3.0</dd><dt><span>TESTNOTE :</span></dt><dd>This is a test note.</dd><dt><span>processing_level :</span></dt><dd>l1a</dd><dt><span>product_version :</span></dt><dd>0.1.10+60.gc0e9399.dirty</dd><dt><span>date_created :</span></dt><dd>2024-02-23T15:22:57</dd><dt><span>geospatial_lat_min :</span></dt><dd>51.390208333333334</dd><dt><span>geospatial_lat_max :</span></dt><dd>51.390211666666666</dd><dt><span>geospatial_lat_units :</span></dt><dd>degN</dd><dt><span>geospatial_lon_min :</span></dt><dd>11.885246666666667</dd><dt><span>geospatial_lon_max :</span></dt><dd>11.885256666666667</dd><dt><span>geospatial_lon_units :</span></dt><dd>degE</dd><dt><span>time_coverage_start :</span></dt><dd>2022-08-30T11:21:04.065000</dd><dt><span>time_coverage_end :</span></dt><dd>2022-08-30T11:21:09</dd><dt><span>time_coverage_duration :</span></dt><dd>P0DT0H0M4.935S</dd><dt><span>time_coverage_resolution :</span></dt><dd>P0DT0H0M1.23375S</dd></dl></div></li></ul></div></div>"
     },
     "execution_count": 31,
     "metadata": {},
     "output_type": "execute_result"
    }
   ],
   "source": [
    "# 5. rad flux calibration\n",
    "box = ds_l1b.station.values[0]\n",
    "boxnumber, serial, cfac, CCcoef = pyrnet.pyrnet.meta_lookup(\n",
    "    ds_l1b.time.values[0],\n",
    "    box=box,\n",
    "    cfile=config['file_calibration'],\n",
    "    mapfile=config['file_mapping'],\n",
    ")\n",
    "\n",
    "print(f\"Meta Lookup:\")\n",
    "print(f\">> Box = {box}\")\n",
    "print(f\">> serial(s) = {serial}\")\n",
    "print(f\">> calibration factor(s) = {cfac}\")\n",
    "print(f\">> cosine correction factor = {np.polynomial.polynomial.Polynomial(CCcoef)},\\n>>     with x = cos(apparent solar zenith angle)\")\n",
    "\n",
    "mu0 = np.cos(np.deg2rad(ds_l1b.szen.values))\n",
    "\n",
    "# calibrate radiation flux with gain=300\n",
    "for i, radflx in enumerate(config['radflux_varname']):\n",
    "    # all radflux related variables (including <radflux>_<resamplemethod> variables)\n",
    "    radflx_vars = [var for var in ds_l1b if var.startswith(radflx)]\n",
    "    if cfac[i] is None:\n",
    "        # drop if calibration/instrument don't exist (probably secondary pyranometer).\n",
    "        ds_l1b = ds_l1b.drop_vars(radflx_vars)\n",
    "        continue\n",
    "    \n",
    "    # calc apparent zenith angle if possible\n",
    "    mua = mu0.copy()\n",
    "    if \"vangle\" in ds[radflx].attrs:\n",
    "        vangle = pyrnet.utils.make_iter(ds[radflx].attrs[\"vangle\"])\n",
    "        hangle = pyrnet.utils.make_iter(ds[radflx].attrs[\"hangle\"])\n",
    "        mua = pyrnet.utils.calc_apparent_coszen(\n",
    "            pitch=vangle,\n",
    "            yaw=hangle,\n",
    "            zen=ds_l1b.szen.values,\n",
    "            azi=ds_l1b.sazi.values\n",
    "        )\n",
    "    \n",
    "    mask_mua = ~np.isnan(mua)\n",
    "    Ca = 1e6/cfac[i]\n",
    "    Cc = np.polynomial.polynomial.polyval(mua, c=CCcoef)\n",
    "    Cmu = mu0/mua\n",
    "    # apply to all variables\n",
    "    for var in radflx_vars:\n",
    "        calib_func = \"flux (W m-2) = flux (V) * Cabsolute (W m-2 V-1)\"\n",
    "        C = np.ones(mu0.shape)*Ca\n",
    "        if radflx == \"gti\":\n",
    "            C[mask_mua] *= Cc[mask_mua]\n",
    "            calib_func += \"\" if np.all(np.isnan(mua)) else \" * Ccoscorr(mua)\"\n",
    "        else:\n",
    "            C[mask_mua] *= Cc[mask_mua] * Cmu[mask_mua]\n",
    "            calib_func += \" * Ccoscorr(mua)\"# * mu0/mua\" (not implemented)\n",
    "        ds_l1b[var].values = ds_l1b[var].values*C\n",
    "\n",
    "        ds_l1b[var].attrs['units'] = \"W m-2\",\n",
    "        ds_l1b[var].attrs.update({\n",
    "            \"units\": \"W m-2\",\n",
    "            \"serial\": serial[i],\n",
    "            \"calibration_Cabsolute\": Ca,\n",
    "            \"calibration_Ccoscorr\": str(np.polynomial.polynomial.Polynomial(CCcoef)),\n",
    "            \"calibration_function\": calib_func\n",
    "        })\n",
    "ds_l1b"
   ],
   "metadata": {
    "collapsed": false,
    "ExecuteTime": {
     "end_time": "2024-02-23T15:22:59.998945200Z",
     "start_time": "2024-02-23T15:22:59.436942700Z"
    }
   }
  },
  {
   "cell_type": "markdown",
   "source": [
    "### Add automatic quality flags\n",
    "Add BSRN recommended limit checks and intercompare checks if multiple pyranometers are in the dataset."
   ],
   "metadata": {
    "collapsed": false
   }
  },
  {
   "cell_type": "code",
   "execution_count": 32,
   "metadata": {
    "collapsed": false,
    "ExecuteTime": {
     "end_time": "2024-02-23T15:23:00.007510500Z",
     "start_time": "2024-02-23T15:22:59.500777900Z"
    }
   },
   "outputs": [
    {
     "data": {
      "text/plain": "<xarray.Dataset>\nDimensions:               (station: 1, time: 5, maintenancetime: 1)\nCoordinates:\n  * station               (station) float64 1.0\n  * time                  (time) datetime64[ns] 2022-08-30T11:21:03 ... 2022-...\n  * maintenancetime       (maintenancetime) datetime64[ns] 2023-05-08T16:09:06\nData variables: (12/20)\n    ghi                   (time, station) float64 269.9 269.7 280.9 280.9 280.9\n    gti                   (time, station) float64 277.3 277.3 288.8 288.6 288.6\n    ta                    (time, station) float32 294.8 294.7 294.8 294.7 294.8\n    rh                    (time, station) float32 0.6263 0.6266 ... 0.6271 0.629\n    battery_voltage       (time, station) float32 6.445 6.446 6.45 6.448 6.458\n    ghi_min               (time, station) float64 269.9 268.5 280.9 280.9 280.9\n    ...                    ...\n    maintenance_flag_gti  (maintenancetime, station) float32 7.0\n    szen                  (time, station) float64 nan nan 42.51 42.51 42.51\n    sazi                  (time, station) float64 nan nan 182.9 182.9 182.9\n    esd                   (station) float64 1.01\n    qc_flag_ghi           (time, station) uint8 0 0 0 0 0\n    qc_flag_gti           (time, station) uint8 0 0 0 0 0\nAttributes: (12/31)\n    Conventions:               CF-1.10, ACDD-1.3\n    title:                     TROPOS pyranometer network (PyrNet) observatio...\n    history:                   2024-02-23T15:22:57: Generated level l1a  by p...\n    institution:               Leibniz Institute for Tropospheric Research (T...\n    source:                    TROPOS pyranometer network (PyrNet)\n    references:                https://doi.org/10.5194/amt-9-1153-2016\n    ...                        ...\n    geospatial_lon_max:        11.885256666666667\n    geospatial_lon_units:      degE\n    time_coverage_start:       2022-08-30T11:21:04.065000\n    time_coverage_end:         2022-08-30T11:21:09\n    time_coverage_duration:    P0DT0H0M4.935S\n    time_coverage_resolution:  P0DT0H0M1.23375S",
      "text/html": "<div><svg style=\"position: absolute; width: 0; height: 0; overflow: hidden\">\n<defs>\n<symbol id=\"icon-database\" viewBox=\"0 0 32 32\">\n<path d=\"M16 0c-8.837 0-16 2.239-16 5v4c0 2.761 7.163 5 16 5s16-2.239 16-5v-4c0-2.761-7.163-5-16-5z\"></path>\n<path d=\"M16 17c-8.837 0-16-2.239-16-5v6c0 2.761 7.163 5 16 5s16-2.239 16-5v-6c0 2.761-7.163 5-16 5z\"></path>\n<path d=\"M16 26c-8.837 0-16-2.239-16-5v6c0 2.761 7.163 5 16 5s16-2.239 16-5v-6c0 2.761-7.163 5-16 5z\"></path>\n</symbol>\n<symbol id=\"icon-file-text2\" viewBox=\"0 0 32 32\">\n<path d=\"M28.681 7.159c-0.694-0.947-1.662-2.053-2.724-3.116s-2.169-2.030-3.116-2.724c-1.612-1.182-2.393-1.319-2.841-1.319h-15.5c-1.378 0-2.5 1.121-2.5 2.5v27c0 1.378 1.122 2.5 2.5 2.5h23c1.378 0 2.5-1.122 2.5-2.5v-19.5c0-0.448-0.137-1.23-1.319-2.841zM24.543 5.457c0.959 0.959 1.712 1.825 2.268 2.543h-4.811v-4.811c0.718 0.556 1.584 1.309 2.543 2.268zM28 29.5c0 0.271-0.229 0.5-0.5 0.5h-23c-0.271 0-0.5-0.229-0.5-0.5v-27c0-0.271 0.229-0.5 0.5-0.5 0 0 15.499-0 15.5 0v7c0 0.552 0.448 1 1 1h7v19.5z\"></path>\n<path d=\"M23 26h-14c-0.552 0-1-0.448-1-1s0.448-1 1-1h14c0.552 0 1 0.448 1 1s-0.448 1-1 1z\"></path>\n<path d=\"M23 22h-14c-0.552 0-1-0.448-1-1s0.448-1 1-1h14c0.552 0 1 0.448 1 1s-0.448 1-1 1z\"></path>\n<path d=\"M23 18h-14c-0.552 0-1-0.448-1-1s0.448-1 1-1h14c0.552 0 1 0.448 1 1s-0.448 1-1 1z\"></path>\n</symbol>\n</defs>\n</svg>\n<style>/* CSS stylesheet for displaying xarray objects in jupyterlab.\n *\n */\n\n:root {\n  --xr-font-color0: var(--jp-content-font-color0, rgba(0, 0, 0, 1));\n  --xr-font-color2: var(--jp-content-font-color2, rgba(0, 0, 0, 0.54));\n  --xr-font-color3: var(--jp-content-font-color3, rgba(0, 0, 0, 0.38));\n  --xr-border-color: var(--jp-border-color2, #e0e0e0);\n  --xr-disabled-color: var(--jp-layout-color3, #bdbdbd);\n  --xr-background-color: var(--jp-layout-color0, white);\n  --xr-background-color-row-even: var(--jp-layout-color1, white);\n  --xr-background-color-row-odd: var(--jp-layout-color2, #eeeeee);\n}\n\nhtml[theme=dark],\nbody[data-theme=dark],\nbody.vscode-dark {\n  --xr-font-color0: rgba(255, 255, 255, 1);\n  --xr-font-color2: rgba(255, 255, 255, 0.54);\n  --xr-font-color3: rgba(255, 255, 255, 0.38);\n  --xr-border-color: #1F1F1F;\n  --xr-disabled-color: #515151;\n  --xr-background-color: #111111;\n  --xr-background-color-row-even: #111111;\n  --xr-background-color-row-odd: #313131;\n}\n\n.xr-wrap {\n  display: block !important;\n  min-width: 300px;\n  max-width: 700px;\n}\n\n.xr-text-repr-fallback {\n  /* fallback to plain text repr when CSS is not injected (untrusted notebook) */\n  display: none;\n}\n\n.xr-header {\n  padding-top: 6px;\n  padding-bottom: 6px;\n  margin-bottom: 4px;\n  border-bottom: solid 1px var(--xr-border-color);\n}\n\n.xr-header > div,\n.xr-header > ul {\n  display: inline;\n  margin-top: 0;\n  margin-bottom: 0;\n}\n\n.xr-obj-type,\n.xr-array-name {\n  margin-left: 2px;\n  margin-right: 10px;\n}\n\n.xr-obj-type {\n  color: var(--xr-font-color2);\n}\n\n.xr-sections {\n  padding-left: 0 !important;\n  display: grid;\n  grid-template-columns: 150px auto auto 1fr 20px 20px;\n}\n\n.xr-section-item {\n  display: contents;\n}\n\n.xr-section-item input {\n  display: none;\n}\n\n.xr-section-item input + label {\n  color: var(--xr-disabled-color);\n}\n\n.xr-section-item input:enabled + label {\n  cursor: pointer;\n  color: var(--xr-font-color2);\n}\n\n.xr-section-item input:enabled + label:hover {\n  color: var(--xr-font-color0);\n}\n\n.xr-section-summary {\n  grid-column: 1;\n  color: var(--xr-font-color2);\n  font-weight: 500;\n}\n\n.xr-section-summary > span {\n  display: inline-block;\n  padding-left: 0.5em;\n}\n\n.xr-section-summary-in:disabled + label {\n  color: var(--xr-font-color2);\n}\n\n.xr-section-summary-in + label:before {\n  display: inline-block;\n  content: '►';\n  font-size: 11px;\n  width: 15px;\n  text-align: center;\n}\n\n.xr-section-summary-in:disabled + label:before {\n  color: var(--xr-disabled-color);\n}\n\n.xr-section-summary-in:checked + label:before {\n  content: '▼';\n}\n\n.xr-section-summary-in:checked + label > span {\n  display: none;\n}\n\n.xr-section-summary,\n.xr-section-inline-details {\n  padding-top: 4px;\n  padding-bottom: 4px;\n}\n\n.xr-section-inline-details {\n  grid-column: 2 / -1;\n}\n\n.xr-section-details {\n  display: none;\n  grid-column: 1 / -1;\n  margin-bottom: 5px;\n}\n\n.xr-section-summary-in:checked ~ .xr-section-details {\n  display: contents;\n}\n\n.xr-array-wrap {\n  grid-column: 1 / -1;\n  display: grid;\n  grid-template-columns: 20px auto;\n}\n\n.xr-array-wrap > label {\n  grid-column: 1;\n  vertical-align: top;\n}\n\n.xr-preview {\n  color: var(--xr-font-color3);\n}\n\n.xr-array-preview,\n.xr-array-data {\n  padding: 0 5px !important;\n  grid-column: 2;\n}\n\n.xr-array-data,\n.xr-array-in:checked ~ .xr-array-preview {\n  display: none;\n}\n\n.xr-array-in:checked ~ .xr-array-data,\n.xr-array-preview {\n  display: inline-block;\n}\n\n.xr-dim-list {\n  display: inline-block !important;\n  list-style: none;\n  padding: 0 !important;\n  margin: 0;\n}\n\n.xr-dim-list li {\n  display: inline-block;\n  padding: 0;\n  margin: 0;\n}\n\n.xr-dim-list:before {\n  content: '(';\n}\n\n.xr-dim-list:after {\n  content: ')';\n}\n\n.xr-dim-list li:not(:last-child):after {\n  content: ',';\n  padding-right: 5px;\n}\n\n.xr-has-index {\n  font-weight: bold;\n}\n\n.xr-var-list,\n.xr-var-item {\n  display: contents;\n}\n\n.xr-var-item > div,\n.xr-var-item label,\n.xr-var-item > .xr-var-name span {\n  background-color: var(--xr-background-color-row-even);\n  margin-bottom: 0;\n}\n\n.xr-var-item > .xr-var-name:hover span {\n  padding-right: 5px;\n}\n\n.xr-var-list > li:nth-child(odd) > div,\n.xr-var-list > li:nth-child(odd) > label,\n.xr-var-list > li:nth-child(odd) > .xr-var-name span {\n  background-color: var(--xr-background-color-row-odd);\n}\n\n.xr-var-name {\n  grid-column: 1;\n}\n\n.xr-var-dims {\n  grid-column: 2;\n}\n\n.xr-var-dtype {\n  grid-column: 3;\n  text-align: right;\n  color: var(--xr-font-color2);\n}\n\n.xr-var-preview {\n  grid-column: 4;\n}\n\n.xr-index-preview {\n  grid-column: 2 / 5;\n  color: var(--xr-font-color2);\n}\n\n.xr-var-name,\n.xr-var-dims,\n.xr-var-dtype,\n.xr-preview,\n.xr-attrs dt {\n  white-space: nowrap;\n  overflow: hidden;\n  text-overflow: ellipsis;\n  padding-right: 10px;\n}\n\n.xr-var-name:hover,\n.xr-var-dims:hover,\n.xr-var-dtype:hover,\n.xr-attrs dt:hover {\n  overflow: visible;\n  width: auto;\n  z-index: 1;\n}\n\n.xr-var-attrs,\n.xr-var-data,\n.xr-index-data {\n  display: none;\n  background-color: var(--xr-background-color) !important;\n  padding-bottom: 5px !important;\n}\n\n.xr-var-attrs-in:checked ~ .xr-var-attrs,\n.xr-var-data-in:checked ~ .xr-var-data,\n.xr-index-data-in:checked ~ .xr-index-data {\n  display: block;\n}\n\n.xr-var-data > table {\n  float: right;\n}\n\n.xr-var-name span,\n.xr-var-data,\n.xr-index-name div,\n.xr-index-data,\n.xr-attrs {\n  padding-left: 25px !important;\n}\n\n.xr-attrs,\n.xr-var-attrs,\n.xr-var-data,\n.xr-index-data {\n  grid-column: 1 / -1;\n}\n\ndl.xr-attrs {\n  padding: 0;\n  margin: 0;\n  display: grid;\n  grid-template-columns: 125px auto;\n}\n\n.xr-attrs dt,\n.xr-attrs dd {\n  padding: 0;\n  margin: 0;\n  float: left;\n  padding-right: 10px;\n  width: auto;\n}\n\n.xr-attrs dt {\n  font-weight: normal;\n  grid-column: 1;\n}\n\n.xr-attrs dt:hover span {\n  display: inline-block;\n  background: var(--xr-background-color);\n  padding-right: 10px;\n}\n\n.xr-attrs dd {\n  grid-column: 2;\n  white-space: pre-wrap;\n  word-break: break-all;\n}\n\n.xr-icon-database,\n.xr-icon-file-text2,\n.xr-no-icon {\n  display: inline-block;\n  vertical-align: middle;\n  width: 1em;\n  height: 1.5em !important;\n  stroke-width: 0;\n  stroke: currentColor;\n  fill: currentColor;\n}\n</style><pre class='xr-text-repr-fallback'>&lt;xarray.Dataset&gt;\nDimensions:               (station: 1, time: 5, maintenancetime: 1)\nCoordinates:\n  * station               (station) float64 1.0\n  * time                  (time) datetime64[ns] 2022-08-30T11:21:03 ... 2022-...\n  * maintenancetime       (maintenancetime) datetime64[ns] 2023-05-08T16:09:06\nData variables: (12/20)\n    ghi                   (time, station) float64 269.9 269.7 280.9 280.9 280.9\n    gti                   (time, station) float64 277.3 277.3 288.8 288.6 288.6\n    ta                    (time, station) float32 294.8 294.7 294.8 294.7 294.8\n    rh                    (time, station) float32 0.6263 0.6266 ... 0.6271 0.629\n    battery_voltage       (time, station) float32 6.445 6.446 6.45 6.448 6.458\n    ghi_min               (time, station) float64 269.9 268.5 280.9 280.9 280.9\n    ...                    ...\n    maintenance_flag_gti  (maintenancetime, station) float32 7.0\n    szen                  (time, station) float64 nan nan 42.51 42.51 42.51\n    sazi                  (time, station) float64 nan nan 182.9 182.9 182.9\n    esd                   (station) float64 1.01\n    qc_flag_ghi           (time, station) uint8 0 0 0 0 0\n    qc_flag_gti           (time, station) uint8 0 0 0 0 0\nAttributes: (12/31)\n    Conventions:               CF-1.10, ACDD-1.3\n    title:                     TROPOS pyranometer network (PyrNet) observatio...\n    history:                   2024-02-23T15:22:57: Generated level l1a  by p...\n    institution:               Leibniz Institute for Tropospheric Research (T...\n    source:                    TROPOS pyranometer network (PyrNet)\n    references:                https://doi.org/10.5194/amt-9-1153-2016\n    ...                        ...\n    geospatial_lon_max:        11.885256666666667\n    geospatial_lon_units:      degE\n    time_coverage_start:       2022-08-30T11:21:04.065000\n    time_coverage_end:         2022-08-30T11:21:09\n    time_coverage_duration:    P0DT0H0M4.935S\n    time_coverage_resolution:  P0DT0H0M1.23375S</pre><div class='xr-wrap' style='display:none'><div class='xr-header'><div class='xr-obj-type'>xarray.Dataset</div></div><ul class='xr-sections'><li class='xr-section-item'><input id='section-67406cd4-b390-46bd-bc92-cf510fe080e1' class='xr-section-summary-in' type='checkbox' disabled ><label for='section-67406cd4-b390-46bd-bc92-cf510fe080e1' class='xr-section-summary'  title='Expand/collapse section'>Dimensions:</label><div class='xr-section-inline-details'><ul class='xr-dim-list'><li><span class='xr-has-index'>station</span>: 1</li><li><span class='xr-has-index'>time</span>: 5</li><li><span class='xr-has-index'>maintenancetime</span>: 1</li></ul></div><div class='xr-section-details'></div></li><li class='xr-section-item'><input id='section-a7223859-fc37-4234-b250-df4a1c843895' class='xr-section-summary-in' type='checkbox'  checked><label for='section-a7223859-fc37-4234-b250-df4a1c843895' class='xr-section-summary' >Coordinates: <span>(3)</span></label><div class='xr-section-inline-details'></div><div class='xr-section-details'><ul class='xr-var-list'><li class='xr-var-item'><div class='xr-var-name'><span class='xr-has-index'>station</span></div><div class='xr-var-dims'>(station)</div><div class='xr-var-dtype'>float64</div><div class='xr-var-preview xr-preview'>1.0</div><input id='attrs-78bbff9e-fddd-45ca-b2ac-dd047624521f' class='xr-var-attrs-in' type='checkbox' disabled><label for='attrs-78bbff9e-fddd-45ca-b2ac-dd047624521f' title='Show/Hide attributes'><svg class='icon xr-icon-file-text2'><use xlink:href='#icon-file-text2'></use></svg></label><input id='data-8c896d3b-cf3f-4e05-94d5-66e1a53fd6f2' class='xr-var-data-in' type='checkbox'><label for='data-8c896d3b-cf3f-4e05-94d5-66e1a53fd6f2' title='Show/Hide data repr'><svg class='icon xr-icon-database'><use xlink:href='#icon-database'></use></svg></label><div class='xr-var-attrs'><dl class='xr-attrs'></dl></div><div class='xr-var-data'><pre>array([1.])</pre></div></li><li class='xr-var-item'><div class='xr-var-name'><span class='xr-has-index'>time</span></div><div class='xr-var-dims'>(time)</div><div class='xr-var-dtype'>datetime64[ns]</div><div class='xr-var-preview xr-preview'>2022-08-30T11:21:03 ... 2022-08-...</div><input id='attrs-e5bee30f-e4f5-461c-842a-43d725560331' class='xr-var-attrs-in' type='checkbox' disabled><label for='attrs-e5bee30f-e4f5-461c-842a-43d725560331' title='Show/Hide attributes'><svg class='icon xr-icon-file-text2'><use xlink:href='#icon-file-text2'></use></svg></label><input id='data-fdbae305-bfd8-4120-a5cd-63ae115b28d1' class='xr-var-data-in' type='checkbox'><label for='data-fdbae305-bfd8-4120-a5cd-63ae115b28d1' title='Show/Hide data repr'><svg class='icon xr-icon-database'><use xlink:href='#icon-database'></use></svg></label><div class='xr-var-attrs'><dl class='xr-attrs'></dl></div><div class='xr-var-data'><pre>array([&#x27;2022-08-30T11:21:03.000000000&#x27;, &#x27;2022-08-30T11:21:04.000000000&#x27;,\n       &#x27;2022-08-30T11:21:05.000000000&#x27;, &#x27;2022-08-30T11:21:06.000000000&#x27;,\n       &#x27;2022-08-30T11:21:07.000000000&#x27;], dtype=&#x27;datetime64[ns]&#x27;)</pre></div></li><li class='xr-var-item'><div class='xr-var-name'><span class='xr-has-index'>maintenancetime</span></div><div class='xr-var-dims'>(maintenancetime)</div><div class='xr-var-dtype'>datetime64[ns]</div><div class='xr-var-preview xr-preview'>2023-05-08T16:09:06</div><input id='attrs-22ff73c6-257d-49db-9530-66ce89632445' class='xr-var-attrs-in' type='checkbox' disabled><label for='attrs-22ff73c6-257d-49db-9530-66ce89632445' title='Show/Hide attributes'><svg class='icon xr-icon-file-text2'><use xlink:href='#icon-file-text2'></use></svg></label><input id='data-071a90c4-1b0f-4702-b615-38d22d42dcdd' class='xr-var-data-in' type='checkbox'><label for='data-071a90c4-1b0f-4702-b615-38d22d42dcdd' title='Show/Hide data repr'><svg class='icon xr-icon-database'><use xlink:href='#icon-database'></use></svg></label><div class='xr-var-attrs'><dl class='xr-attrs'></dl></div><div class='xr-var-data'><pre>array([&#x27;2023-05-08T16:09:06.000000000&#x27;], dtype=&#x27;datetime64[ns]&#x27;)</pre></div></li></ul></div></li><li class='xr-section-item'><input id='section-8a62159b-f501-4d93-976c-b2b223f95a8a' class='xr-section-summary-in' type='checkbox'  ><label for='section-8a62159b-f501-4d93-976c-b2b223f95a8a' class='xr-section-summary' >Data variables: <span>(20)</span></label><div class='xr-section-inline-details'></div><div class='xr-section-details'><ul class='xr-var-list'><li class='xr-var-item'><div class='xr-var-name'><span>ghi</span></div><div class='xr-var-dims'>(time, station)</div><div class='xr-var-dtype'>float64</div><div class='xr-var-preview xr-preview'>269.9 269.7 280.9 280.9 280.9</div><input id='attrs-08fe82b6-f405-4acb-9889-8165b7af4a1e' class='xr-var-attrs-in' type='checkbox' ><label for='attrs-08fe82b6-f405-4acb-9889-8165b7af4a1e' title='Show/Hide attributes'><svg class='icon xr-icon-file-text2'><use xlink:href='#icon-file-text2'></use></svg></label><input id='data-207efbbe-4716-4ae3-88d8-dd76fb3b5d4e' class='xr-var-data-in' type='checkbox'><label for='data-207efbbe-4716-4ae3-88d8-dd76fb3b5d4e' title='Show/Hide data repr'><svg class='icon xr-icon-database'><use xlink:href='#icon-database'></use></svg></label><div class='xr-var-attrs'><dl class='xr-attrs'><dt><span>units :</span></dt><dd>W m-2</dd><dt><span>long_name :</span></dt><dd>downwelling shortwave flux</dd><dt><span>standard_name :</span></dt><dd>downwelling_shortwave_flux_in_air</dd><dt><span>valid_range :</span></dt><dd>[   0 1023]</dd><dt><span>serial :</span></dt><dd>S12128.001</dd><dt><span>calibration_Cabsolute :</span></dt><dd>129366.10608020698</dd><dt><span>calibration_Ccoscorr :</span></dt><dd>1.45 - 3.04·x¹ + 5.59·x² - 3.01·x³</dd><dt><span>calibration_function :</span></dt><dd>flux (W m-2) = flux (V) * Cabsolute (W m-2 V-1) * Ccoscorr(mua)</dd></dl></div><div class='xr-var-data'><pre>array([[269.860475  ],\n       [269.72137902],\n       [280.90462604],\n       [280.90449869],\n       [280.90437115]])</pre></div></li><li class='xr-var-item'><div class='xr-var-name'><span>gti</span></div><div class='xr-var-dims'>(time, station)</div><div class='xr-var-dtype'>float64</div><div class='xr-var-preview xr-preview'>277.3 277.3 288.8 288.6 288.6</div><input id='attrs-0a5405ea-3cf3-49e6-9d75-ddaca9eac88a' class='xr-var-attrs-in' type='checkbox' ><label for='attrs-0a5405ea-3cf3-49e6-9d75-ddaca9eac88a' title='Show/Hide attributes'><svg class='icon xr-icon-file-text2'><use xlink:href='#icon-file-text2'></use></svg></label><input id='data-9c4b2a97-3c39-4eef-93a3-c64b8e0f80aa' class='xr-var-data-in' type='checkbox'><label for='data-9c4b2a97-3c39-4eef-93a3-c64b8e0f80aa' title='Show/Hide data repr'><svg class='icon xr-icon-database'><use xlink:href='#icon-database'></use></svg></label><div class='xr-var-attrs'><dl class='xr-attrs'><dt><span>units :</span></dt><dd>W m-2</dd><dt><span>long_name :</span></dt><dd>downwelling shortwave flux measured on secondary platform, might be tilted</dd><dt><span>standard_name :</span></dt><dd>downwelling_shortwave_flux_in_air</dd><dt><span>valid_range :</span></dt><dd>[   0 1023]</dd><dt><span>hangle :</span></dt><dd>0.0</dd><dt><span>vangle :</span></dt><dd>0.0</dd><dt><span>serial :</span></dt><dd>S12137.049</dd><dt><span>calibration_Cabsolute :</span></dt><dd>143266.47564469912</dd><dt><span>calibration_Ccoscorr :</span></dt><dd>1.45 - 3.04·x¹ + 5.59·x² - 3.01·x³</dd><dt><span>calibration_function :</span></dt><dd>flux (W m-2) = flux (V) * Cabsolute (W m-2 V-1) * Ccoscorr(mua)</dd></dl></div><div class='xr-var-data'><pre>array([[277.28995527],\n       [277.28995527],\n       [288.79852425],\n       [288.63802999],\n       [288.63789894]])</pre></div></li><li class='xr-var-item'><div class='xr-var-name'><span>ta</span></div><div class='xr-var-dims'>(time, station)</div><div class='xr-var-dtype'>float32</div><div class='xr-var-preview xr-preview'>294.8 294.7 294.8 294.7 294.8</div><input id='attrs-79b8bc23-8600-42d4-be22-bf55e935092c' class='xr-var-attrs-in' type='checkbox' ><label for='attrs-79b8bc23-8600-42d4-be22-bf55e935092c' title='Show/Hide attributes'><svg class='icon xr-icon-file-text2'><use xlink:href='#icon-file-text2'></use></svg></label><input id='data-0a4f8b53-e927-4baa-b8c4-028c0dba8695' class='xr-var-data-in' type='checkbox'><label for='data-0a4f8b53-e927-4baa-b8c4-028c0dba8695' title='Show/Hide data repr'><svg class='icon xr-icon-database'><use xlink:href='#icon-database'></use></svg></label><div class='xr-var-attrs'><dl class='xr-attrs'><dt><span>units :</span></dt><dd>K</dd><dt><span>long_name :</span></dt><dd>air temperature</dd><dt><span>standard_name :</span></dt><dd>air_temperature</dd><dt><span>valid_range :</span></dt><dd>[  0 775]</dd></dl></div><div class='xr-var-data'><pre>array([[294.7758 ],\n       [294.74997],\n       [294.7887 ],\n       [294.74997],\n       [294.82742]], dtype=float32)</pre></div></li><li class='xr-var-item'><div class='xr-var-name'><span>rh</span></div><div class='xr-var-dims'>(time, station)</div><div class='xr-var-dtype'>float32</div><div class='xr-var-preview xr-preview'>0.6263 0.6266 0.6271 0.6271 0.629</div><input id='attrs-a5678f31-31e9-4065-8901-bc95cfcadb7a' class='xr-var-attrs-in' type='checkbox' ><label for='attrs-a5678f31-31e9-4065-8901-bc95cfcadb7a' title='Show/Hide attributes'><svg class='icon xr-icon-file-text2'><use xlink:href='#icon-file-text2'></use></svg></label><input id='data-12a34e14-b5ee-47b7-b45e-75a9cd69c19f' class='xr-var-data-in' type='checkbox'><label for='data-12a34e14-b5ee-47b7-b45e-75a9cd69c19f' title='Show/Hide data repr'><svg class='icon xr-icon-database'><use xlink:href='#icon-database'></use></svg></label><div class='xr-var-attrs'><dl class='xr-attrs'><dt><span>units :</span></dt><dd>1</dd><dt><span>long_name :</span></dt><dd>air relative humidity</dd><dt><span>standard_name :</span></dt><dd>relative_humidity</dd><dt><span>valid_range :</span></dt><dd>[  0 775]</dd></dl></div><div class='xr-var-data'><pre>array([[0.62632257],\n       [0.6265806 ],\n       [0.6270968 ],\n       [0.6270968 ],\n       [0.62903225]], dtype=float32)</pre></div></li><li class='xr-var-item'><div class='xr-var-name'><span>battery_voltage</span></div><div class='xr-var-dims'>(time, station)</div><div class='xr-var-dtype'>float32</div><div class='xr-var-preview xr-preview'>6.445 6.446 6.45 6.448 6.458</div><input id='attrs-e638a046-c1c6-4eec-8187-ab6a0f31bd2f' class='xr-var-attrs-in' type='checkbox' ><label for='attrs-e638a046-c1c6-4eec-8187-ab6a0f31bd2f' title='Show/Hide attributes'><svg class='icon xr-icon-file-text2'><use xlink:href='#icon-file-text2'></use></svg></label><input id='data-3992b845-a8c5-42f3-bbc3-829802d18613' class='xr-var-data-in' type='checkbox'><label for='data-3992b845-a8c5-42f3-bbc3-829802d18613' title='Show/Hide data repr'><svg class='icon xr-icon-database'><use xlink:href='#icon-database'></use></svg></label><div class='xr-var-attrs'><dl class='xr-attrs'><dt><span>units :</span></dt><dd>V</dd><dt><span>standard_name :</span></dt><dd>battery_voltage</dd><dt><span>valid_range :</span></dt><dd>[  0 992]</dd></dl></div><div class='xr-var-data'><pre>array([[6.4451613],\n       [6.445807 ],\n       [6.4496775],\n       [6.4477415],\n       [6.4580646]], dtype=float32)</pre></div></li><li class='xr-var-item'><div class='xr-var-name'><span>ghi_min</span></div><div class='xr-var-dims'>(time, station)</div><div class='xr-var-dtype'>float64</div><div class='xr-var-preview xr-preview'>269.9 268.5 280.9 280.9 280.9</div><input id='attrs-df782ba2-8e7a-4363-a853-4c003e460439' class='xr-var-attrs-in' type='checkbox' ><label for='attrs-df782ba2-8e7a-4363-a853-4c003e460439' title='Show/Hide attributes'><svg class='icon xr-icon-file-text2'><use xlink:href='#icon-file-text2'></use></svg></label><input id='data-55fc72e3-403a-4a42-8967-c47d40c3e22a' class='xr-var-data-in' type='checkbox'><label for='data-55fc72e3-403a-4a42-8967-c47d40c3e22a' title='Show/Hide data repr'><svg class='icon xr-icon-database'><use xlink:href='#icon-database'></use></svg></label><div class='xr-var-attrs'><dl class='xr-attrs'><dt><span>units :</span></dt><dd>W m-2</dd><dt><span>long_name :</span></dt><dd>downwelling shortwave flux</dd><dt><span>standard_name :</span></dt><dd>min_downwelling_shortwave_flux_in_air</dd><dt><span>valid_range :</span></dt><dd>[   0 1023]</dd><dt><span>serial :</span></dt><dd>S12128.001</dd><dt><span>calibration_Cabsolute :</span></dt><dd>129366.10608020698</dd><dt><span>calibration_Ccoscorr :</span></dt><dd>1.45 - 3.04·x¹ + 5.59·x² - 3.01·x³</dd><dt><span>calibration_function :</span></dt><dd>flux (W m-2) = flux (V) * Cabsolute (W m-2 V-1) * Ccoscorr(mua)</dd></dl></div><div class='xr-var-data'><pre>array([[269.860475  ],\n       [268.46945498],\n       [280.90462604],\n       [280.90449869],\n       [280.90437115]])</pre></div></li><li class='xr-var-item'><div class='xr-var-name'><span>gti_min</span></div><div class='xr-var-dims'>(time, station)</div><div class='xr-var-dtype'>float64</div><div class='xr-var-preview xr-preview'>277.3 275.7 287.0 288.6 288.6</div><input id='attrs-81f64965-fddb-4da0-bdaf-2cc6641e9281' class='xr-var-attrs-in' type='checkbox' ><label for='attrs-81f64965-fddb-4da0-bdaf-2cc6641e9281' title='Show/Hide attributes'><svg class='icon xr-icon-file-text2'><use xlink:href='#icon-file-text2'></use></svg></label><input id='data-24252efa-0791-4dfc-84a1-3eab540408b3' class='xr-var-data-in' type='checkbox'><label for='data-24252efa-0791-4dfc-84a1-3eab540408b3' title='Show/Hide data repr'><svg class='icon xr-icon-database'><use xlink:href='#icon-database'></use></svg></label><div class='xr-var-attrs'><dl class='xr-attrs'><dt><span>units :</span></dt><dd>W m-2</dd><dt><span>long_name :</span></dt><dd>downwelling shortwave flux measured on secondary platform, might be tilted</dd><dt><span>standard_name :</span></dt><dd>min_downwelling_shortwave_flux_in_air</dd><dt><span>valid_range :</span></dt><dd>[   0 1023]</dd><dt><span>hangle :</span></dt><dd>0.0</dd><dt><span>vangle :</span></dt><dd>0.0</dd><dt><span>serial :</span></dt><dd>S12137.049</dd><dt><span>calibration_Cabsolute :</span></dt><dd>143266.47564469912</dd><dt><span>calibration_Ccoscorr :</span></dt><dd>1.45 - 3.04·x¹ + 5.59·x² - 3.01·x³</dd><dt><span>calibration_function :</span></dt><dd>flux (W m-2) = flux (V) * Cabsolute (W m-2 V-1) * Ccoscorr(mua)</dd></dl></div><div class='xr-var-data'><pre>array([[277.28995527],\n       [275.74945367],\n       [287.03461358],\n       [288.63802999],\n       [288.63789894]])</pre></div></li><li class='xr-var-item'><div class='xr-var-name'><span>ghi_max</span></div><div class='xr-var-dims'>(time, station)</div><div class='xr-var-dtype'>float64</div><div class='xr-var-preview xr-preview'>269.9 269.9 280.9 280.9 280.9</div><input id='attrs-fb657991-8b66-4f7d-95a0-736c1fcbdad1' class='xr-var-attrs-in' type='checkbox' ><label for='attrs-fb657991-8b66-4f7d-95a0-736c1fcbdad1' title='Show/Hide attributes'><svg class='icon xr-icon-file-text2'><use xlink:href='#icon-file-text2'></use></svg></label><input id='data-2389b5e1-d030-492b-badc-926375eb4246' class='xr-var-data-in' type='checkbox'><label for='data-2389b5e1-d030-492b-badc-926375eb4246' title='Show/Hide data repr'><svg class='icon xr-icon-database'><use xlink:href='#icon-database'></use></svg></label><div class='xr-var-attrs'><dl class='xr-attrs'><dt><span>units :</span></dt><dd>W m-2</dd><dt><span>long_name :</span></dt><dd>downwelling shortwave flux</dd><dt><span>standard_name :</span></dt><dd>max_downwelling_shortwave_flux_in_air</dd><dt><span>valid_range :</span></dt><dd>[   0 1023]</dd><dt><span>serial :</span></dt><dd>S12128.001</dd><dt><span>calibration_Cabsolute :</span></dt><dd>129366.10608020698</dd><dt><span>calibration_Ccoscorr :</span></dt><dd>1.45 - 3.04·x¹ + 5.59·x² - 3.01·x³</dd><dt><span>calibration_function :</span></dt><dd>flux (W m-2) = flux (V) * Cabsolute (W m-2 V-1) * Ccoscorr(mua)</dd></dl></div><div class='xr-var-data'><pre>array([[269.860475  ],\n       [269.860475  ],\n       [280.90462604],\n       [280.90449869],\n       [280.90437115]])</pre></div></li><li class='xr-var-item'><div class='xr-var-name'><span>gti_max</span></div><div class='xr-var-dims'>(time, station)</div><div class='xr-var-dtype'>float64</div><div class='xr-var-preview xr-preview'>277.3 278.8 290.2 288.6 288.6</div><input id='attrs-506518c3-3301-4a54-a7c1-83eb50451a8a' class='xr-var-attrs-in' type='checkbox' ><label for='attrs-506518c3-3301-4a54-a7c1-83eb50451a8a' title='Show/Hide attributes'><svg class='icon xr-icon-file-text2'><use xlink:href='#icon-file-text2'></use></svg></label><input id='data-6aad80e0-5a0c-4884-b3bd-72a6e28183a3' class='xr-var-data-in' type='checkbox'><label for='data-6aad80e0-5a0c-4884-b3bd-72a6e28183a3' title='Show/Hide data repr'><svg class='icon xr-icon-database'><use xlink:href='#icon-database'></use></svg></label><div class='xr-var-attrs'><dl class='xr-attrs'><dt><span>units :</span></dt><dd>W m-2</dd><dt><span>long_name :</span></dt><dd>downwelling shortwave flux measured on secondary platform, might be tilted</dd><dt><span>standard_name :</span></dt><dd>max_downwelling_shortwave_flux_in_air</dd><dt><span>valid_range :</span></dt><dd>[   0 1023]</dd><dt><span>hangle :</span></dt><dd>0.0</dd><dt><span>vangle :</span></dt><dd>0.0</dd><dt><span>serial :</span></dt><dd>S12137.049</dd><dt><span>calibration_Cabsolute :</span></dt><dd>143266.47564469912</dd><dt><span>calibration_Ccoscorr :</span></dt><dd>1.45 - 3.04·x¹ + 5.59·x² - 3.01·x³</dd><dt><span>calibration_function :</span></dt><dd>flux (W m-2) = flux (V) * Cabsolute (W m-2 V-1) * Ccoscorr(mua)</dd></dl></div><div class='xr-var-data'><pre>array([[277.28995527],\n       [278.83045688],\n       [290.24170811],\n       [288.63802999],\n       [288.63789894]])</pre></div></li><li class='xr-var-item'><div class='xr-var-name'><span>ghi_std</span></div><div class='xr-var-dims'>(time, station)</div><div class='xr-var-dtype'>float64</div><div class='xr-var-preview xr-preview'>0.0 0.4399 0.0 0.0 0.0</div><input id='attrs-788c1cce-0128-4e84-b748-67cff947c157' class='xr-var-attrs-in' type='checkbox' ><label for='attrs-788c1cce-0128-4e84-b748-67cff947c157' title='Show/Hide attributes'><svg class='icon xr-icon-file-text2'><use xlink:href='#icon-file-text2'></use></svg></label><input id='data-be0ccaf2-5916-4fdc-9b18-8964b9bccbda' class='xr-var-data-in' type='checkbox'><label for='data-be0ccaf2-5916-4fdc-9b18-8964b9bccbda' title='Show/Hide data repr'><svg class='icon xr-icon-database'><use xlink:href='#icon-database'></use></svg></label><div class='xr-var-attrs'><dl class='xr-attrs'><dt><span>units :</span></dt><dd>W m-2</dd><dt><span>long_name :</span></dt><dd>downwelling shortwave flux</dd><dt><span>standard_name :</span></dt><dd>std_downwelling_shortwave_flux_in_air</dd><dt><span>valid_range :</span></dt><dd>[   0 1023]</dd><dt><span>serial :</span></dt><dd>S12128.001</dd><dt><span>calibration_Cabsolute :</span></dt><dd>129366.10608020698</dd><dt><span>calibration_Ccoscorr :</span></dt><dd>1.45 - 3.04·x¹ + 5.59·x² - 3.01·x³</dd><dt><span>calibration_function :</span></dt><dd>flux (W m-2) = flux (V) * Cabsolute (W m-2 V-1) * Ccoscorr(mua)</dd></dl></div><div class='xr-var-data'><pre>array([[0.        ],\n       [0.43987915],\n       [0.        ],\n       [0.        ],\n       [0.        ]])</pre></div></li><li class='xr-var-item'><div class='xr-var-name'><span>gti_std</span></div><div class='xr-var-dims'>(time, station)</div><div class='xr-var-dtype'>float64</div><div class='xr-var-preview xr-preview'>0.0 0.7262 0.9102 0.0 0.0</div><input id='attrs-8896fcee-3b90-4194-8bbb-d49880bdcc61' class='xr-var-attrs-in' type='checkbox' ><label for='attrs-8896fcee-3b90-4194-8bbb-d49880bdcc61' title='Show/Hide attributes'><svg class='icon xr-icon-file-text2'><use xlink:href='#icon-file-text2'></use></svg></label><input id='data-db9b3ba6-49b6-42ff-bd41-34402f997a1b' class='xr-var-data-in' type='checkbox'><label for='data-db9b3ba6-49b6-42ff-bd41-34402f997a1b' title='Show/Hide data repr'><svg class='icon xr-icon-database'><use xlink:href='#icon-database'></use></svg></label><div class='xr-var-attrs'><dl class='xr-attrs'><dt><span>units :</span></dt><dd>W m-2</dd><dt><span>long_name :</span></dt><dd>downwelling shortwave flux measured on secondary platform, might be tilted</dd><dt><span>standard_name :</span></dt><dd>std_downwelling_shortwave_flux_in_air</dd><dt><span>valid_range :</span></dt><dd>[   0 1023]</dd><dt><span>hangle :</span></dt><dd>0.0</dd><dt><span>vangle :</span></dt><dd>0.0</dd><dt><span>serial :</span></dt><dd>S12137.049</dd><dt><span>calibration_Cabsolute :</span></dt><dd>143266.47564469912</dd><dt><span>calibration_Ccoscorr :</span></dt><dd>1.45 - 3.04·x¹ + 5.59·x² - 3.01·x³</dd><dt><span>calibration_function :</span></dt><dd>flux (W m-2) = flux (V) * Cabsolute (W m-2 V-1) * Ccoscorr(mua)</dd></dl></div><div class='xr-var-data'><pre>array([[0.        ],\n       [0.72619942],\n       [0.91024753],\n       [0.        ],\n       [0.        ]])</pre></div></li><li class='xr-var-item'><div class='xr-var-name'><span>lat</span></div><div class='xr-var-dims'>(time, station)</div><div class='xr-var-dtype'>float64</div><div class='xr-var-preview xr-preview'>nan nan 51.39 51.39 51.39</div><input id='attrs-09bdd698-d651-45ba-ab57-5ff51093507d' class='xr-var-attrs-in' type='checkbox' ><label for='attrs-09bdd698-d651-45ba-ab57-5ff51093507d' title='Show/Hide attributes'><svg class='icon xr-icon-file-text2'><use xlink:href='#icon-file-text2'></use></svg></label><input id='data-6852f301-2018-4eb1-9119-9550af7733d8' class='xr-var-data-in' type='checkbox'><label for='data-6852f301-2018-4eb1-9119-9550af7733d8' title='Show/Hide data repr'><svg class='icon xr-icon-database'><use xlink:href='#icon-database'></use></svg></label><div class='xr-var-attrs'><dl class='xr-attrs'><dt><span>standard_name :</span></dt><dd>latitude</dd><dt><span>units :</span></dt><dd>degree_north</dd><dt><span>valid_range :</span></dt><dd>[-90.  90.]</dd></dl></div><div class='xr-var-data'><pre>array([[        nan],\n       [        nan],\n       [51.39021167],\n       [51.39021086],\n       [51.39021   ]])</pre></div></li><li class='xr-var-item'><div class='xr-var-name'><span>lon</span></div><div class='xr-var-dims'>(time, station)</div><div class='xr-var-dtype'>float64</div><div class='xr-var-preview xr-preview'>nan nan 11.89 11.89 11.89</div><input id='attrs-dbfa35e9-bf8e-4580-a614-0430ce1a6a0a' class='xr-var-attrs-in' type='checkbox' ><label for='attrs-dbfa35e9-bf8e-4580-a614-0430ce1a6a0a' title='Show/Hide attributes'><svg class='icon xr-icon-file-text2'><use xlink:href='#icon-file-text2'></use></svg></label><input id='data-76650c91-cc88-4456-969e-0266a925e041' class='xr-var-data-in' type='checkbox'><label for='data-76650c91-cc88-4456-969e-0266a925e041' title='Show/Hide data repr'><svg class='icon xr-icon-database'><use xlink:href='#icon-database'></use></svg></label><div class='xr-var-attrs'><dl class='xr-attrs'><dt><span>standard_name :</span></dt><dd>longitude</dd><dt><span>units :</span></dt><dd>degree_east</dd><dt><span>valid_range :</span></dt><dd>[-180.  180.]</dd></dl></div><div class='xr-var-data'><pre>array([[        nan],\n       [        nan],\n       [11.88525656],\n       [11.88525425],\n       [11.88525167]])</pre></div></li><li class='xr-var-item'><div class='xr-var-name'><span>maintenance_flag_ghi</span></div><div class='xr-var-dims'>(maintenancetime, station)</div><div class='xr-var-dtype'>float32</div><div class='xr-var-preview xr-preview'>9.0</div><input id='attrs-db070780-b128-4745-82d6-d8360c0a806a' class='xr-var-attrs-in' type='checkbox' ><label for='attrs-db070780-b128-4745-82d6-d8360c0a806a' title='Show/Hide attributes'><svg class='icon xr-icon-file-text2'><use xlink:href='#icon-file-text2'></use></svg></label><input id='data-d6804ea5-195d-404b-81f3-0f22c60ee606' class='xr-var-data-in' type='checkbox'><label for='data-d6804ea5-195d-404b-81f3-0f22c60ee606' title='Show/Hide data repr'><svg class='icon xr-icon-database'><use xlink:href='#icon-database'></use></svg></label><div class='xr-var-attrs'><dl class='xr-attrs'><dt><span>standard_name :</span></dt><dd>quality_flag</dd><dt><span>long_name :</span></dt><dd>Maintenance quality control flags for main pyranometer</dd><dt><span>note :</span></dt><dd>Soiling describes subjectively the coverage of the pyranometer dome with dirt. The level flag is problematic if the bubble of the spirit level touches the reference ring, and bad if it is outside.</dd><dt><span>valid_range :</span></dt><dd>[ 0 11]</dd><dt><span>flag_masks :</span></dt><dd>[ 3  3  3 12 12]</dd><dt><span>flag_values :</span></dt><dd>[1 2 3 4 8]</dd><dt><span>flag_meanings :</span></dt><dd>soiling_light soiling_moderate soiling_heavy level_problematic level_bad</dd><dt><span>note_general :</span></dt><dd>222</dd><dt><span>note_clean :</span></dt><dd>testing notes</dd><dt><span>note_level :</span></dt><dd>test</dd></dl></div><div class='xr-var-data'><pre>array([[9.]], dtype=float32)</pre></div></li><li class='xr-var-item'><div class='xr-var-name'><span>maintenance_flag_gti</span></div><div class='xr-var-dims'>(maintenancetime, station)</div><div class='xr-var-dtype'>float32</div><div class='xr-var-preview xr-preview'>7.0</div><input id='attrs-03f474ae-85ff-447a-96ad-9f923970bfb2' class='xr-var-attrs-in' type='checkbox' ><label for='attrs-03f474ae-85ff-447a-96ad-9f923970bfb2' title='Show/Hide attributes'><svg class='icon xr-icon-file-text2'><use xlink:href='#icon-file-text2'></use></svg></label><input id='data-b6296e78-6de7-424a-b5fb-0ba2f4d4df5c' class='xr-var-data-in' type='checkbox'><label for='data-b6296e78-6de7-424a-b5fb-0ba2f4d4df5c' title='Show/Hide data repr'><svg class='icon xr-icon-database'><use xlink:href='#icon-database'></use></svg></label><div class='xr-var-attrs'><dl class='xr-attrs'><dt><span>standard_name :</span></dt><dd>quality_flag</dd><dt><span>long_name :</span></dt><dd>Maintenance quality control flags for secondary pyranometer</dd><dt><span>note :</span></dt><dd>Soiling describes subjectively the coverage of the pyranometer dome with dirt. The level flag is problematic if the bubble of the spirit level touches the reference ring, and bad if it is outside.</dd><dt><span>valid_range :</span></dt><dd>[ 0 11]</dd><dt><span>flag_masks :</span></dt><dd>[ 3  3  3 12 12]</dd><dt><span>flag_values :</span></dt><dd>[1 2 3 4 8]</dd><dt><span>flag_meanings :</span></dt><dd>soiling_light soiling_moderate soiling_heavy level_problematic level_bad</dd><dt><span>note_general :</span></dt><dd>222</dd><dt><span>note_clean :</span></dt><dd></dd><dt><span>note_level :</span></dt><dd></dd></dl></div><div class='xr-var-data'><pre>array([[7.]], dtype=float32)</pre></div></li><li class='xr-var-item'><div class='xr-var-name'><span>szen</span></div><div class='xr-var-dims'>(time, station)</div><div class='xr-var-dtype'>float64</div><div class='xr-var-preview xr-preview'>nan nan 42.51 42.51 42.51</div><input id='attrs-b701dd0f-876e-4476-a5ee-ad8084df1cf5' class='xr-var-attrs-in' type='checkbox' ><label for='attrs-b701dd0f-876e-4476-a5ee-ad8084df1cf5' title='Show/Hide attributes'><svg class='icon xr-icon-file-text2'><use xlink:href='#icon-file-text2'></use></svg></label><input id='data-49865c68-9838-420a-bdf0-861bd00b16ee' class='xr-var-data-in' type='checkbox'><label for='data-49865c68-9838-420a-bdf0-861bd00b16ee' title='Show/Hide data repr'><svg class='icon xr-icon-database'><use xlink:href='#icon-database'></use></svg></label><div class='xr-var-attrs'><dl class='xr-attrs'><dt><span>standard_name :</span></dt><dd>solar_zenith_angle</dd><dt><span>units :</span></dt><dd>degree</dd><dt><span>valid_range :</span></dt><dd>[0, 36000]</dd></dl></div><div class='xr-var-data'><pre>array([[        nan],\n       [        nan],\n       [42.51185936],\n       [42.5119952 ],\n       [42.51213125]])</pre></div></li><li class='xr-var-item'><div class='xr-var-name'><span>sazi</span></div><div class='xr-var-dims'>(time, station)</div><div class='xr-var-dtype'>float64</div><div class='xr-var-preview xr-preview'>nan nan 182.9 182.9 182.9</div><input id='attrs-19f18f8d-b799-43c6-8e02-57178a557db7' class='xr-var-attrs-in' type='checkbox' ><label for='attrs-19f18f8d-b799-43c6-8e02-57178a557db7' title='Show/Hide attributes'><svg class='icon xr-icon-file-text2'><use xlink:href='#icon-file-text2'></use></svg></label><input id='data-4f33959f-0a97-41a3-aa0f-9d7f5431dc46' class='xr-var-data-in' type='checkbox'><label for='data-4f33959f-0a97-41a3-aa0f-9d7f5431dc46' title='Show/Hide data repr'><svg class='icon xr-icon-database'><use xlink:href='#icon-database'></use></svg></label><div class='xr-var-attrs'><dl class='xr-attrs'><dt><span>standard_name :</span></dt><dd>solar_azimuth_angle</dd><dt><span>units :</span></dt><dd>degree</dd><dt><span>valid_range :</span></dt><dd>[0, 36000]</dd></dl></div><div class='xr-var-data'><pre>array([[         nan],\n       [         nan],\n       [182.91893638],\n       [182.92502264],\n       [182.93110846]])</pre></div></li><li class='xr-var-item'><div class='xr-var-name'><span>esd</span></div><div class='xr-var-dims'>(station)</div><div class='xr-var-dtype'>float64</div><div class='xr-var-preview xr-preview'>1.01</div><input id='attrs-8060becd-8d77-4921-ba10-7e93840a4fd8' class='xr-var-attrs-in' type='checkbox' ><label for='attrs-8060becd-8d77-4921-ba10-7e93840a4fd8' title='Show/Hide attributes'><svg class='icon xr-icon-file-text2'><use xlink:href='#icon-file-text2'></use></svg></label><input id='data-bbe03c2d-aefb-4880-9c9d-71d1ed88ed3d' class='xr-var-data-in' type='checkbox'><label for='data-bbe03c2d-aefb-4880-9c9d-71d1ed88ed3d' title='Show/Hide data repr'><svg class='icon xr-icon-database'><use xlink:href='#icon-database'></use></svg></label><div class='xr-var-attrs'><dl class='xr-attrs'><dt><span>long_name :</span></dt><dd>Earth-sun distance</dd><dt><span>note :</span></dt><dd>Calculated based on Spencer (1971), as mean of its values over all time steps.</dd><dt><span>units :</span></dt><dd>ua</dd></dl></div><div class='xr-var-data'><pre>array([1.00959973])</pre></div></li><li class='xr-var-item'><div class='xr-var-name'><span>qc_flag_ghi</span></div><div class='xr-var-dims'>(time, station)</div><div class='xr-var-dtype'>uint8</div><div class='xr-var-preview xr-preview'>0 0 0 0 0</div><input id='attrs-7e790b54-45fa-4064-94e8-7f976867ba90' class='xr-var-attrs-in' type='checkbox' ><label for='attrs-7e790b54-45fa-4064-94e8-7f976867ba90' title='Show/Hide attributes'><svg class='icon xr-icon-file-text2'><use xlink:href='#icon-file-text2'></use></svg></label><input id='data-4e85f52b-0ae2-4754-9a6a-9f361e8d2a57' class='xr-var-data-in' type='checkbox'><label for='data-4e85f52b-0ae2-4754-9a6a-9f361e8d2a57' title='Show/Hide data repr'><svg class='icon xr-icon-database'><use xlink:href='#icon-database'></use></svg></label><div class='xr-var-attrs'><dl class='xr-attrs'><dt><span>standard_name :</span></dt><dd>quality_flag</dd><dt><span>valid_range :</span></dt><dd>[0, 127]</dd><dt><span>serial :</span></dt><dd>S12128.001</dd><dt><span>calibration_Cabsolute :</span></dt><dd>129366.10608020698</dd><dt><span>calibration_Ccoscorr :</span></dt><dd>1.45 - 3.04·x¹ + 5.59·x² - 3.01·x³</dd><dt><span>calibration_function :</span></dt><dd>flux (W m-2) = flux (V) * Cabsolute (W m-2 V-1) * Ccoscorr(mua)</dd><dt><span>ancillary_variables :</span></dt><dd>ghi</dd><dt><span>flag_masks :</span></dt><dd>[1, 2, 4, 8, 16, 32, 64]</dd><dt><span>flag_values :</span></dt><dd>[1, 2, 4, 8, 16, 32, 64]</dd><dt><span>flag_meanings :</span></dt><dd>below_physical_limit above_physical_limit below_rare_limit above_rare_limit comparison_to_low comparison_to_high quality_control_failed</dd></dl></div><div class='xr-var-data'><pre>array([[0],\n       [0],\n       [0],\n       [0],\n       [0]], dtype=uint8)</pre></div></li><li class='xr-var-item'><div class='xr-var-name'><span>qc_flag_gti</span></div><div class='xr-var-dims'>(time, station)</div><div class='xr-var-dtype'>uint8</div><div class='xr-var-preview xr-preview'>0 0 0 0 0</div><input id='attrs-032fa4b6-2f05-451c-8d28-73d07a7aa6f7' class='xr-var-attrs-in' type='checkbox' ><label for='attrs-032fa4b6-2f05-451c-8d28-73d07a7aa6f7' title='Show/Hide attributes'><svg class='icon xr-icon-file-text2'><use xlink:href='#icon-file-text2'></use></svg></label><input id='data-70bf1d20-3ff8-4ea9-b1c2-06056c9a41af' class='xr-var-data-in' type='checkbox'><label for='data-70bf1d20-3ff8-4ea9-b1c2-06056c9a41af' title='Show/Hide data repr'><svg class='icon xr-icon-database'><use xlink:href='#icon-database'></use></svg></label><div class='xr-var-attrs'><dl class='xr-attrs'><dt><span>standard_name :</span></dt><dd>quality_flag</dd><dt><span>valid_range :</span></dt><dd>[0, 127]</dd><dt><span>hangle :</span></dt><dd>0.0</dd><dt><span>vangle :</span></dt><dd>0.0</dd><dt><span>serial :</span></dt><dd>S12137.049</dd><dt><span>calibration_Cabsolute :</span></dt><dd>143266.47564469912</dd><dt><span>calibration_Ccoscorr :</span></dt><dd>1.45 - 3.04·x¹ + 5.59·x² - 3.01·x³</dd><dt><span>calibration_function :</span></dt><dd>flux (W m-2) = flux (V) * Cabsolute (W m-2 V-1) * Ccoscorr(mua)</dd><dt><span>ancillary_variables :</span></dt><dd>gti</dd><dt><span>flag_masks :</span></dt><dd>[1, 2, 4, 8, 16, 32, 64]</dd><dt><span>flag_values :</span></dt><dd>[1, 2, 4, 8, 16, 32, 64]</dd><dt><span>flag_meanings :</span></dt><dd>below_physical_limit above_physical_limit below_rare_limit above_rare_limit comparison_to_low comparison_to_high quality_control_failed</dd></dl></div><div class='xr-var-data'><pre>array([[0],\n       [0],\n       [0],\n       [0],\n       [0]], dtype=uint8)</pre></div></li></ul></div></li><li class='xr-section-item'><input id='section-8b1b1d12-93f3-4b1e-a880-781ed0c2a1dd' class='xr-section-summary-in' type='checkbox'  ><label for='section-8b1b1d12-93f3-4b1e-a880-781ed0c2a1dd' class='xr-section-summary' >Indexes: <span>(3)</span></label><div class='xr-section-inline-details'></div><div class='xr-section-details'><ul class='xr-var-list'><li class='xr-var-item'><div class='xr-index-name'><div>station</div></div><div class='xr-index-preview'>PandasIndex</div><div></div><input id='index-28219368-d272-47e3-b3f0-106f1aa4e729' class='xr-index-data-in' type='checkbox'/><label for='index-28219368-d272-47e3-b3f0-106f1aa4e729' title='Show/Hide index repr'><svg class='icon xr-icon-database'><use xlink:href='#icon-database'></use></svg></label><div class='xr-index-data'><pre>PandasIndex(Float64Index([1.0], dtype=&#x27;float64&#x27;, name=&#x27;station&#x27;))</pre></div></li><li class='xr-var-item'><div class='xr-index-name'><div>time</div></div><div class='xr-index-preview'>PandasIndex</div><div></div><input id='index-51220a13-59b6-4d75-940a-9cfd1ffe044c' class='xr-index-data-in' type='checkbox'/><label for='index-51220a13-59b6-4d75-940a-9cfd1ffe044c' title='Show/Hide index repr'><svg class='icon xr-icon-database'><use xlink:href='#icon-database'></use></svg></label><div class='xr-index-data'><pre>PandasIndex(DatetimeIndex([&#x27;2022-08-30 11:21:03&#x27;, &#x27;2022-08-30 11:21:04&#x27;,\n               &#x27;2022-08-30 11:21:05&#x27;, &#x27;2022-08-30 11:21:06&#x27;,\n               &#x27;2022-08-30 11:21:07&#x27;],\n              dtype=&#x27;datetime64[ns]&#x27;, name=&#x27;time&#x27;, freq=&#x27;S&#x27;))</pre></div></li><li class='xr-var-item'><div class='xr-index-name'><div>maintenancetime</div></div><div class='xr-index-preview'>PandasIndex</div><div></div><input id='index-23105d93-87ee-4eda-8c2e-43d87eeb5f74' class='xr-index-data-in' type='checkbox'/><label for='index-23105d93-87ee-4eda-8c2e-43d87eeb5f74' title='Show/Hide index repr'><svg class='icon xr-icon-database'><use xlink:href='#icon-database'></use></svg></label><div class='xr-index-data'><pre>PandasIndex(DatetimeIndex([&#x27;2023-05-08 16:09:06&#x27;], dtype=&#x27;datetime64[ns]&#x27;, name=&#x27;maintenancetime&#x27;, freq=None))</pre></div></li></ul></div></li><li class='xr-section-item'><input id='section-9da5791d-ad74-44a0-83b4-005a20bf6c85' class='xr-section-summary-in' type='checkbox'  ><label for='section-9da5791d-ad74-44a0-83b4-005a20bf6c85' class='xr-section-summary' >Attributes: <span>(31)</span></label><div class='xr-section-inline-details'></div><div class='xr-section-details'><dl class='xr-attrs'><dt><span>Conventions :</span></dt><dd>CF-1.10, ACDD-1.3</dd><dt><span>title :</span></dt><dd>TROPOS pyranometer network (PyrNet) observational data set</dd><dt><span>history :</span></dt><dd>2024-02-23T15:22:57: Generated level l1a  by pyrnet version 0.1.10+60.gc0e9399.dirty; </dd><dt><span>institution :</span></dt><dd>Leibniz Institute for Tropospheric Research (TROPOS)</dd><dt><span>source :</span></dt><dd>TROPOS pyranometer network (PyrNet)</dd><dt><span>references :</span></dt><dd>https://doi.org/10.5194/amt-9-1153-2016</dd><dt><span>Department :</span></dt><dd>Remote Sensing of Atmospheric Processes</dd><dt><span>Department_team :</span></dt><dd>Clouds, Aerosol and Radiation</dd><dt><span>Address :</span></dt><dd>Permoser Str. 15, 04318 Leipzig, Germany</dd><dt><span>Contact_person :</span></dt><dd>Andreas Macke and the clouds, aerosol and radiation team of the remote sensing department, mailto:andreas.macke@tropos.de</dd><dt><span>Contributor_name :</span></dt><dd></dd><dt><span>Contributor_role :</span></dt><dd></dd><dt><span>Authors_software :</span></dt><dd>Hartwig Deneke, Jonas Witthuhn, mailto:deneke@tropos.de</dd><dt><span>Creator_name :</span></dt><dd></dd><dt><span>Project :</span></dt><dd></dd><dt><span>Standard_name_vocabulary :</span></dt><dd>CF Standard Name Table v81</dd><dt><span>License :</span></dt><dd>CC-BY-SA 3.0</dd><dt><span>TESTNOTE :</span></dt><dd>This is a test note.</dd><dt><span>processing_level :</span></dt><dd>l1a</dd><dt><span>product_version :</span></dt><dd>0.1.10+60.gc0e9399.dirty</dd><dt><span>date_created :</span></dt><dd>2024-02-23T15:22:57</dd><dt><span>geospatial_lat_min :</span></dt><dd>51.390208333333334</dd><dt><span>geospatial_lat_max :</span></dt><dd>51.390211666666666</dd><dt><span>geospatial_lat_units :</span></dt><dd>degN</dd><dt><span>geospatial_lon_min :</span></dt><dd>11.885246666666667</dd><dt><span>geospatial_lon_max :</span></dt><dd>11.885256666666667</dd><dt><span>geospatial_lon_units :</span></dt><dd>degE</dd><dt><span>time_coverage_start :</span></dt><dd>2022-08-30T11:21:04.065000</dd><dt><span>time_coverage_end :</span></dt><dd>2022-08-30T11:21:09</dd><dt><span>time_coverage_duration :</span></dt><dd>P0DT0H0M4.935S</dd><dt><span>time_coverage_resolution :</span></dt><dd>P0DT0H0M1.23375S</dd></dl></div></li></ul></div></div>"
     },
     "execution_count": 32,
     "metadata": {},
     "output_type": "execute_result"
    }
   ],
   "source": [
    "#|dropcode\n",
    "#|dropout\n",
    "ds_l1b = pyrnet.qcrad.add_qc_flags(ds_l1b, config[\"radflux_varname\"])\n",
    "ds_l1b"
   ]
  },
  {
   "cell_type": "markdown",
   "metadata": {
    "collapsed": false
   },
   "source": [
    "### Update variables and global attributes and encoding"
   ]
  },
  {
   "cell_type": "code",
   "execution_count": 33,
   "metadata": {
    "collapsed": false,
    "ExecuteTime": {
     "end_time": "2024-02-23T15:23:00.023302500Z",
     "start_time": "2024-02-23T15:22:59.569918400Z"
    }
   },
   "outputs": [
    {
     "data": {
      "text/plain": "<xarray.Dataset>\nDimensions:               (station: 1, time: 5, maintenancetime: 1)\nCoordinates:\n  * station               (station) float64 1.0\n  * time                  (time) datetime64[ns] 2022-08-30T11:21:03 ... 2022-...\n  * maintenancetime       (maintenancetime) datetime64[ns] 2023-05-08T16:09:06\nData variables: (12/20)\n    ghi                   (time, station) float64 269.9 269.7 280.9 280.9 280.9\n    gti                   (time, station) float64 277.3 277.3 288.8 288.6 288.6\n    ta                    (time, station) float32 294.8 294.7 294.8 294.7 294.8\n    rh                    (time, station) float32 0.6263 0.6266 ... 0.6271 0.629\n    battery_voltage       (time, station) float32 6.445 6.446 6.45 6.448 6.458\n    ghi_min               (time, station) float64 269.9 268.5 280.9 280.9 280.9\n    ...                    ...\n    maintenance_flag_gti  (maintenancetime, station) float32 7.0\n    szen                  (time, station) float64 nan nan 42.51 42.51 42.51\n    sazi                  (time, station) float64 nan nan 182.9 182.9 182.9\n    esd                   (station) float64 1.01\n    qc_flag_ghi           (time, station) uint8 0 0 0 0 0\n    qc_flag_gti           (time, station) uint8 0 0 0 0 0\nAttributes: (12/31)\n    Conventions:               CF-1.10, ACDD-1.3\n    title:                     TROPOS pyranometer network (PyrNet) observatio...\n    history:                   2024-02-23T15:22:57: Generated level l1a  by p...\n    institution:               Leibniz Institute for Tropospheric Research (T...\n    source:                    TROPOS pyranometer network (PyrNet)\n    references:                https://doi.org/10.5194/amt-9-1153-2016\n    ...                        ...\n    geospatial_lon_max:        11.885256558333333\n    geospatial_lon_units:      degE\n    time_coverage_start:       2022-08-30T11:21:03\n    time_coverage_end:         2022-08-30T11:21:07\n    time_coverage_duration:    P0DT0H0M4S\n    time_coverage_resolution:  P0DT0H0M1S",
      "text/html": "<div><svg style=\"position: absolute; width: 0; height: 0; overflow: hidden\">\n<defs>\n<symbol id=\"icon-database\" viewBox=\"0 0 32 32\">\n<path d=\"M16 0c-8.837 0-16 2.239-16 5v4c0 2.761 7.163 5 16 5s16-2.239 16-5v-4c0-2.761-7.163-5-16-5z\"></path>\n<path d=\"M16 17c-8.837 0-16-2.239-16-5v6c0 2.761 7.163 5 16 5s16-2.239 16-5v-6c0 2.761-7.163 5-16 5z\"></path>\n<path d=\"M16 26c-8.837 0-16-2.239-16-5v6c0 2.761 7.163 5 16 5s16-2.239 16-5v-6c0 2.761-7.163 5-16 5z\"></path>\n</symbol>\n<symbol id=\"icon-file-text2\" viewBox=\"0 0 32 32\">\n<path d=\"M28.681 7.159c-0.694-0.947-1.662-2.053-2.724-3.116s-2.169-2.030-3.116-2.724c-1.612-1.182-2.393-1.319-2.841-1.319h-15.5c-1.378 0-2.5 1.121-2.5 2.5v27c0 1.378 1.122 2.5 2.5 2.5h23c1.378 0 2.5-1.122 2.5-2.5v-19.5c0-0.448-0.137-1.23-1.319-2.841zM24.543 5.457c0.959 0.959 1.712 1.825 2.268 2.543h-4.811v-4.811c0.718 0.556 1.584 1.309 2.543 2.268zM28 29.5c0 0.271-0.229 0.5-0.5 0.5h-23c-0.271 0-0.5-0.229-0.5-0.5v-27c0-0.271 0.229-0.5 0.5-0.5 0 0 15.499-0 15.5 0v7c0 0.552 0.448 1 1 1h7v19.5z\"></path>\n<path d=\"M23 26h-14c-0.552 0-1-0.448-1-1s0.448-1 1-1h14c0.552 0 1 0.448 1 1s-0.448 1-1 1z\"></path>\n<path d=\"M23 22h-14c-0.552 0-1-0.448-1-1s0.448-1 1-1h14c0.552 0 1 0.448 1 1s-0.448 1-1 1z\"></path>\n<path d=\"M23 18h-14c-0.552 0-1-0.448-1-1s0.448-1 1-1h14c0.552 0 1 0.448 1 1s-0.448 1-1 1z\"></path>\n</symbol>\n</defs>\n</svg>\n<style>/* CSS stylesheet for displaying xarray objects in jupyterlab.\n *\n */\n\n:root {\n  --xr-font-color0: var(--jp-content-font-color0, rgba(0, 0, 0, 1));\n  --xr-font-color2: var(--jp-content-font-color2, rgba(0, 0, 0, 0.54));\n  --xr-font-color3: var(--jp-content-font-color3, rgba(0, 0, 0, 0.38));\n  --xr-border-color: var(--jp-border-color2, #e0e0e0);\n  --xr-disabled-color: var(--jp-layout-color3, #bdbdbd);\n  --xr-background-color: var(--jp-layout-color0, white);\n  --xr-background-color-row-even: var(--jp-layout-color1, white);\n  --xr-background-color-row-odd: var(--jp-layout-color2, #eeeeee);\n}\n\nhtml[theme=dark],\nbody[data-theme=dark],\nbody.vscode-dark {\n  --xr-font-color0: rgba(255, 255, 255, 1);\n  --xr-font-color2: rgba(255, 255, 255, 0.54);\n  --xr-font-color3: rgba(255, 255, 255, 0.38);\n  --xr-border-color: #1F1F1F;\n  --xr-disabled-color: #515151;\n  --xr-background-color: #111111;\n  --xr-background-color-row-even: #111111;\n  --xr-background-color-row-odd: #313131;\n}\n\n.xr-wrap {\n  display: block !important;\n  min-width: 300px;\n  max-width: 700px;\n}\n\n.xr-text-repr-fallback {\n  /* fallback to plain text repr when CSS is not injected (untrusted notebook) */\n  display: none;\n}\n\n.xr-header {\n  padding-top: 6px;\n  padding-bottom: 6px;\n  margin-bottom: 4px;\n  border-bottom: solid 1px var(--xr-border-color);\n}\n\n.xr-header > div,\n.xr-header > ul {\n  display: inline;\n  margin-top: 0;\n  margin-bottom: 0;\n}\n\n.xr-obj-type,\n.xr-array-name {\n  margin-left: 2px;\n  margin-right: 10px;\n}\n\n.xr-obj-type {\n  color: var(--xr-font-color2);\n}\n\n.xr-sections {\n  padding-left: 0 !important;\n  display: grid;\n  grid-template-columns: 150px auto auto 1fr 20px 20px;\n}\n\n.xr-section-item {\n  display: contents;\n}\n\n.xr-section-item input {\n  display: none;\n}\n\n.xr-section-item input + label {\n  color: var(--xr-disabled-color);\n}\n\n.xr-section-item input:enabled + label {\n  cursor: pointer;\n  color: var(--xr-font-color2);\n}\n\n.xr-section-item input:enabled + label:hover {\n  color: var(--xr-font-color0);\n}\n\n.xr-section-summary {\n  grid-column: 1;\n  color: var(--xr-font-color2);\n  font-weight: 500;\n}\n\n.xr-section-summary > span {\n  display: inline-block;\n  padding-left: 0.5em;\n}\n\n.xr-section-summary-in:disabled + label {\n  color: var(--xr-font-color2);\n}\n\n.xr-section-summary-in + label:before {\n  display: inline-block;\n  content: '►';\n  font-size: 11px;\n  width: 15px;\n  text-align: center;\n}\n\n.xr-section-summary-in:disabled + label:before {\n  color: var(--xr-disabled-color);\n}\n\n.xr-section-summary-in:checked + label:before {\n  content: '▼';\n}\n\n.xr-section-summary-in:checked + label > span {\n  display: none;\n}\n\n.xr-section-summary,\n.xr-section-inline-details {\n  padding-top: 4px;\n  padding-bottom: 4px;\n}\n\n.xr-section-inline-details {\n  grid-column: 2 / -1;\n}\n\n.xr-section-details {\n  display: none;\n  grid-column: 1 / -1;\n  margin-bottom: 5px;\n}\n\n.xr-section-summary-in:checked ~ .xr-section-details {\n  display: contents;\n}\n\n.xr-array-wrap {\n  grid-column: 1 / -1;\n  display: grid;\n  grid-template-columns: 20px auto;\n}\n\n.xr-array-wrap > label {\n  grid-column: 1;\n  vertical-align: top;\n}\n\n.xr-preview {\n  color: var(--xr-font-color3);\n}\n\n.xr-array-preview,\n.xr-array-data {\n  padding: 0 5px !important;\n  grid-column: 2;\n}\n\n.xr-array-data,\n.xr-array-in:checked ~ .xr-array-preview {\n  display: none;\n}\n\n.xr-array-in:checked ~ .xr-array-data,\n.xr-array-preview {\n  display: inline-block;\n}\n\n.xr-dim-list {\n  display: inline-block !important;\n  list-style: none;\n  padding: 0 !important;\n  margin: 0;\n}\n\n.xr-dim-list li {\n  display: inline-block;\n  padding: 0;\n  margin: 0;\n}\n\n.xr-dim-list:before {\n  content: '(';\n}\n\n.xr-dim-list:after {\n  content: ')';\n}\n\n.xr-dim-list li:not(:last-child):after {\n  content: ',';\n  padding-right: 5px;\n}\n\n.xr-has-index {\n  font-weight: bold;\n}\n\n.xr-var-list,\n.xr-var-item {\n  display: contents;\n}\n\n.xr-var-item > div,\n.xr-var-item label,\n.xr-var-item > .xr-var-name span {\n  background-color: var(--xr-background-color-row-even);\n  margin-bottom: 0;\n}\n\n.xr-var-item > .xr-var-name:hover span {\n  padding-right: 5px;\n}\n\n.xr-var-list > li:nth-child(odd) > div,\n.xr-var-list > li:nth-child(odd) > label,\n.xr-var-list > li:nth-child(odd) > .xr-var-name span {\n  background-color: var(--xr-background-color-row-odd);\n}\n\n.xr-var-name {\n  grid-column: 1;\n}\n\n.xr-var-dims {\n  grid-column: 2;\n}\n\n.xr-var-dtype {\n  grid-column: 3;\n  text-align: right;\n  color: var(--xr-font-color2);\n}\n\n.xr-var-preview {\n  grid-column: 4;\n}\n\n.xr-index-preview {\n  grid-column: 2 / 5;\n  color: var(--xr-font-color2);\n}\n\n.xr-var-name,\n.xr-var-dims,\n.xr-var-dtype,\n.xr-preview,\n.xr-attrs dt {\n  white-space: nowrap;\n  overflow: hidden;\n  text-overflow: ellipsis;\n  padding-right: 10px;\n}\n\n.xr-var-name:hover,\n.xr-var-dims:hover,\n.xr-var-dtype:hover,\n.xr-attrs dt:hover {\n  overflow: visible;\n  width: auto;\n  z-index: 1;\n}\n\n.xr-var-attrs,\n.xr-var-data,\n.xr-index-data {\n  display: none;\n  background-color: var(--xr-background-color) !important;\n  padding-bottom: 5px !important;\n}\n\n.xr-var-attrs-in:checked ~ .xr-var-attrs,\n.xr-var-data-in:checked ~ .xr-var-data,\n.xr-index-data-in:checked ~ .xr-index-data {\n  display: block;\n}\n\n.xr-var-data > table {\n  float: right;\n}\n\n.xr-var-name span,\n.xr-var-data,\n.xr-index-name div,\n.xr-index-data,\n.xr-attrs {\n  padding-left: 25px !important;\n}\n\n.xr-attrs,\n.xr-var-attrs,\n.xr-var-data,\n.xr-index-data {\n  grid-column: 1 / -1;\n}\n\ndl.xr-attrs {\n  padding: 0;\n  margin: 0;\n  display: grid;\n  grid-template-columns: 125px auto;\n}\n\n.xr-attrs dt,\n.xr-attrs dd {\n  padding: 0;\n  margin: 0;\n  float: left;\n  padding-right: 10px;\n  width: auto;\n}\n\n.xr-attrs dt {\n  font-weight: normal;\n  grid-column: 1;\n}\n\n.xr-attrs dt:hover span {\n  display: inline-block;\n  background: var(--xr-background-color);\n  padding-right: 10px;\n}\n\n.xr-attrs dd {\n  grid-column: 2;\n  white-space: pre-wrap;\n  word-break: break-all;\n}\n\n.xr-icon-database,\n.xr-icon-file-text2,\n.xr-no-icon {\n  display: inline-block;\n  vertical-align: middle;\n  width: 1em;\n  height: 1.5em !important;\n  stroke-width: 0;\n  stroke: currentColor;\n  fill: currentColor;\n}\n</style><pre class='xr-text-repr-fallback'>&lt;xarray.Dataset&gt;\nDimensions:               (station: 1, time: 5, maintenancetime: 1)\nCoordinates:\n  * station               (station) float64 1.0\n  * time                  (time) datetime64[ns] 2022-08-30T11:21:03 ... 2022-...\n  * maintenancetime       (maintenancetime) datetime64[ns] 2023-05-08T16:09:06\nData variables: (12/20)\n    ghi                   (time, station) float64 269.9 269.7 280.9 280.9 280.9\n    gti                   (time, station) float64 277.3 277.3 288.8 288.6 288.6\n    ta                    (time, station) float32 294.8 294.7 294.8 294.7 294.8\n    rh                    (time, station) float32 0.6263 0.6266 ... 0.6271 0.629\n    battery_voltage       (time, station) float32 6.445 6.446 6.45 6.448 6.458\n    ghi_min               (time, station) float64 269.9 268.5 280.9 280.9 280.9\n    ...                    ...\n    maintenance_flag_gti  (maintenancetime, station) float32 7.0\n    szen                  (time, station) float64 nan nan 42.51 42.51 42.51\n    sazi                  (time, station) float64 nan nan 182.9 182.9 182.9\n    esd                   (station) float64 1.01\n    qc_flag_ghi           (time, station) uint8 0 0 0 0 0\n    qc_flag_gti           (time, station) uint8 0 0 0 0 0\nAttributes: (12/31)\n    Conventions:               CF-1.10, ACDD-1.3\n    title:                     TROPOS pyranometer network (PyrNet) observatio...\n    history:                   2024-02-23T15:22:57: Generated level l1a  by p...\n    institution:               Leibniz Institute for Tropospheric Research (T...\n    source:                    TROPOS pyranometer network (PyrNet)\n    references:                https://doi.org/10.5194/amt-9-1153-2016\n    ...                        ...\n    geospatial_lon_max:        11.885256558333333\n    geospatial_lon_units:      degE\n    time_coverage_start:       2022-08-30T11:21:03\n    time_coverage_end:         2022-08-30T11:21:07\n    time_coverage_duration:    P0DT0H0M4S\n    time_coverage_resolution:  P0DT0H0M1S</pre><div class='xr-wrap' style='display:none'><div class='xr-header'><div class='xr-obj-type'>xarray.Dataset</div></div><ul class='xr-sections'><li class='xr-section-item'><input id='section-b04d510f-e4da-4787-8227-c4b805dc164f' class='xr-section-summary-in' type='checkbox' disabled ><label for='section-b04d510f-e4da-4787-8227-c4b805dc164f' class='xr-section-summary'  title='Expand/collapse section'>Dimensions:</label><div class='xr-section-inline-details'><ul class='xr-dim-list'><li><span class='xr-has-index'>station</span>: 1</li><li><span class='xr-has-index'>time</span>: 5</li><li><span class='xr-has-index'>maintenancetime</span>: 1</li></ul></div><div class='xr-section-details'></div></li><li class='xr-section-item'><input id='section-84704ed5-e754-467e-a7ed-623328518c50' class='xr-section-summary-in' type='checkbox'  checked><label for='section-84704ed5-e754-467e-a7ed-623328518c50' class='xr-section-summary' >Coordinates: <span>(3)</span></label><div class='xr-section-inline-details'></div><div class='xr-section-details'><ul class='xr-var-list'><li class='xr-var-item'><div class='xr-var-name'><span class='xr-has-index'>station</span></div><div class='xr-var-dims'>(station)</div><div class='xr-var-dtype'>float64</div><div class='xr-var-preview xr-preview'>1.0</div><input id='attrs-73538ca5-4871-4523-9596-a2823f444995' class='xr-var-attrs-in' type='checkbox' disabled><label for='attrs-73538ca5-4871-4523-9596-a2823f444995' title='Show/Hide attributes'><svg class='icon xr-icon-file-text2'><use xlink:href='#icon-file-text2'></use></svg></label><input id='data-82bdd0df-6d5b-4ed9-ba2a-a205fc8b4bcf' class='xr-var-data-in' type='checkbox'><label for='data-82bdd0df-6d5b-4ed9-ba2a-a205fc8b4bcf' title='Show/Hide data repr'><svg class='icon xr-icon-database'><use xlink:href='#icon-database'></use></svg></label><div class='xr-var-attrs'><dl class='xr-attrs'></dl></div><div class='xr-var-data'><pre>array([1.])</pre></div></li><li class='xr-var-item'><div class='xr-var-name'><span class='xr-has-index'>time</span></div><div class='xr-var-dims'>(time)</div><div class='xr-var-dtype'>datetime64[ns]</div><div class='xr-var-preview xr-preview'>2022-08-30T11:21:03 ... 2022-08-...</div><input id='attrs-c9297629-3bdb-4aaf-8430-714238bd7d6a' class='xr-var-attrs-in' type='checkbox' disabled><label for='attrs-c9297629-3bdb-4aaf-8430-714238bd7d6a' title='Show/Hide attributes'><svg class='icon xr-icon-file-text2'><use xlink:href='#icon-file-text2'></use></svg></label><input id='data-669c5b4f-67bf-4067-a179-79e5e84219cd' class='xr-var-data-in' type='checkbox'><label for='data-669c5b4f-67bf-4067-a179-79e5e84219cd' title='Show/Hide data repr'><svg class='icon xr-icon-database'><use xlink:href='#icon-database'></use></svg></label><div class='xr-var-attrs'><dl class='xr-attrs'></dl></div><div class='xr-var-data'><pre>array([&#x27;2022-08-30T11:21:03.000000000&#x27;, &#x27;2022-08-30T11:21:04.000000000&#x27;,\n       &#x27;2022-08-30T11:21:05.000000000&#x27;, &#x27;2022-08-30T11:21:06.000000000&#x27;,\n       &#x27;2022-08-30T11:21:07.000000000&#x27;], dtype=&#x27;datetime64[ns]&#x27;)</pre></div></li><li class='xr-var-item'><div class='xr-var-name'><span class='xr-has-index'>maintenancetime</span></div><div class='xr-var-dims'>(maintenancetime)</div><div class='xr-var-dtype'>datetime64[ns]</div><div class='xr-var-preview xr-preview'>2023-05-08T16:09:06</div><input id='attrs-f762a62a-7067-448c-9d5b-f3255abe2572' class='xr-var-attrs-in' type='checkbox' disabled><label for='attrs-f762a62a-7067-448c-9d5b-f3255abe2572' title='Show/Hide attributes'><svg class='icon xr-icon-file-text2'><use xlink:href='#icon-file-text2'></use></svg></label><input id='data-ea548b9c-5b06-456c-9716-2b5e435180b3' class='xr-var-data-in' type='checkbox'><label for='data-ea548b9c-5b06-456c-9716-2b5e435180b3' title='Show/Hide data repr'><svg class='icon xr-icon-database'><use xlink:href='#icon-database'></use></svg></label><div class='xr-var-attrs'><dl class='xr-attrs'></dl></div><div class='xr-var-data'><pre>array([&#x27;2023-05-08T16:09:06.000000000&#x27;], dtype=&#x27;datetime64[ns]&#x27;)</pre></div></li></ul></div></li><li class='xr-section-item'><input id='section-e990ba71-5f38-4914-8620-736278243e7c' class='xr-section-summary-in' type='checkbox'  ><label for='section-e990ba71-5f38-4914-8620-736278243e7c' class='xr-section-summary' >Data variables: <span>(20)</span></label><div class='xr-section-inline-details'></div><div class='xr-section-details'><ul class='xr-var-list'><li class='xr-var-item'><div class='xr-var-name'><span>ghi</span></div><div class='xr-var-dims'>(time, station)</div><div class='xr-var-dtype'>float64</div><div class='xr-var-preview xr-preview'>269.9 269.7 280.9 280.9 280.9</div><input id='attrs-e485bdfa-f6ec-4635-8a5f-8997fd550a93' class='xr-var-attrs-in' type='checkbox' ><label for='attrs-e485bdfa-f6ec-4635-8a5f-8997fd550a93' title='Show/Hide attributes'><svg class='icon xr-icon-file-text2'><use xlink:href='#icon-file-text2'></use></svg></label><input id='data-76533040-c002-4f3b-8006-067b1c9157a8' class='xr-var-data-in' type='checkbox'><label for='data-76533040-c002-4f3b-8006-067b1c9157a8' title='Show/Hide data repr'><svg class='icon xr-icon-database'><use xlink:href='#icon-database'></use></svg></label><div class='xr-var-attrs'><dl class='xr-attrs'><dt><span>units :</span></dt><dd>W m-2</dd><dt><span>long_name :</span></dt><dd>downwelling shortwave flux</dd><dt><span>standard_name :</span></dt><dd>downwelling_shortwave_flux_in_air</dd><dt><span>valid_range :</span></dt><dd>[   0 1023]</dd><dt><span>serial :</span></dt><dd>S12128.001</dd><dt><span>calibration_Cabsolute :</span></dt><dd>129366.10608020698</dd><dt><span>calibration_Ccoscorr :</span></dt><dd>1.45 - 3.04·x¹ + 5.59·x² - 3.01·x³</dd><dt><span>calibration_function :</span></dt><dd>flux (W m-2) = flux (V) * Cabsolute (W m-2 V-1) * Ccoscorr(mua)</dd></dl></div><div class='xr-var-data'><pre>array([[269.860475  ],\n       [269.72137902],\n       [280.90462604],\n       [280.90449869],\n       [280.90437115]])</pre></div></li><li class='xr-var-item'><div class='xr-var-name'><span>gti</span></div><div class='xr-var-dims'>(time, station)</div><div class='xr-var-dtype'>float64</div><div class='xr-var-preview xr-preview'>277.3 277.3 288.8 288.6 288.6</div><input id='attrs-c88724f3-3e1b-4161-9201-4f778b0abaf5' class='xr-var-attrs-in' type='checkbox' ><label for='attrs-c88724f3-3e1b-4161-9201-4f778b0abaf5' title='Show/Hide attributes'><svg class='icon xr-icon-file-text2'><use xlink:href='#icon-file-text2'></use></svg></label><input id='data-3bb5bf80-02d2-4936-9aa0-74403b32f067' class='xr-var-data-in' type='checkbox'><label for='data-3bb5bf80-02d2-4936-9aa0-74403b32f067' title='Show/Hide data repr'><svg class='icon xr-icon-database'><use xlink:href='#icon-database'></use></svg></label><div class='xr-var-attrs'><dl class='xr-attrs'><dt><span>units :</span></dt><dd>W m-2</dd><dt><span>long_name :</span></dt><dd>downwelling shortwave flux measured on secondary platform, might be tilted</dd><dt><span>standard_name :</span></dt><dd>downwelling_shortwave_flux_in_air</dd><dt><span>valid_range :</span></dt><dd>[   0 1023]</dd><dt><span>hangle :</span></dt><dd>0.0</dd><dt><span>vangle :</span></dt><dd>0.0</dd><dt><span>serial :</span></dt><dd>S12137.049</dd><dt><span>calibration_Cabsolute :</span></dt><dd>143266.47564469912</dd><dt><span>calibration_Ccoscorr :</span></dt><dd>1.45 - 3.04·x¹ + 5.59·x² - 3.01·x³</dd><dt><span>calibration_function :</span></dt><dd>flux (W m-2) = flux (V) * Cabsolute (W m-2 V-1) * Ccoscorr(mua)</dd></dl></div><div class='xr-var-data'><pre>array([[277.28995527],\n       [277.28995527],\n       [288.79852425],\n       [288.63802999],\n       [288.63789894]])</pre></div></li><li class='xr-var-item'><div class='xr-var-name'><span>ta</span></div><div class='xr-var-dims'>(time, station)</div><div class='xr-var-dtype'>float32</div><div class='xr-var-preview xr-preview'>294.8 294.7 294.8 294.7 294.8</div><input id='attrs-623a3904-720f-425f-bc72-7bb2be081ff1' class='xr-var-attrs-in' type='checkbox' ><label for='attrs-623a3904-720f-425f-bc72-7bb2be081ff1' title='Show/Hide attributes'><svg class='icon xr-icon-file-text2'><use xlink:href='#icon-file-text2'></use></svg></label><input id='data-596e2617-55a0-4383-b30e-d078d77fcb80' class='xr-var-data-in' type='checkbox'><label for='data-596e2617-55a0-4383-b30e-d078d77fcb80' title='Show/Hide data repr'><svg class='icon xr-icon-database'><use xlink:href='#icon-database'></use></svg></label><div class='xr-var-attrs'><dl class='xr-attrs'><dt><span>units :</span></dt><dd>K</dd><dt><span>long_name :</span></dt><dd>air temperature</dd><dt><span>standard_name :</span></dt><dd>air_temperature</dd><dt><span>valid_range :</span></dt><dd>[  0 775]</dd></dl></div><div class='xr-var-data'><pre>array([[294.7758 ],\n       [294.74997],\n       [294.7887 ],\n       [294.74997],\n       [294.82742]], dtype=float32)</pre></div></li><li class='xr-var-item'><div class='xr-var-name'><span>rh</span></div><div class='xr-var-dims'>(time, station)</div><div class='xr-var-dtype'>float32</div><div class='xr-var-preview xr-preview'>0.6263 0.6266 0.6271 0.6271 0.629</div><input id='attrs-d5be4026-6911-475d-9dbf-9682fe4f69b2' class='xr-var-attrs-in' type='checkbox' ><label for='attrs-d5be4026-6911-475d-9dbf-9682fe4f69b2' title='Show/Hide attributes'><svg class='icon xr-icon-file-text2'><use xlink:href='#icon-file-text2'></use></svg></label><input id='data-a1dd24ec-b087-4d6e-9f32-022d074c2837' class='xr-var-data-in' type='checkbox'><label for='data-a1dd24ec-b087-4d6e-9f32-022d074c2837' title='Show/Hide data repr'><svg class='icon xr-icon-database'><use xlink:href='#icon-database'></use></svg></label><div class='xr-var-attrs'><dl class='xr-attrs'><dt><span>units :</span></dt><dd>1</dd><dt><span>long_name :</span></dt><dd>air relative humidity</dd><dt><span>standard_name :</span></dt><dd>relative_humidity</dd><dt><span>valid_range :</span></dt><dd>[  0 775]</dd></dl></div><div class='xr-var-data'><pre>array([[0.62632257],\n       [0.6265806 ],\n       [0.6270968 ],\n       [0.6270968 ],\n       [0.62903225]], dtype=float32)</pre></div></li><li class='xr-var-item'><div class='xr-var-name'><span>battery_voltage</span></div><div class='xr-var-dims'>(time, station)</div><div class='xr-var-dtype'>float32</div><div class='xr-var-preview xr-preview'>6.445 6.446 6.45 6.448 6.458</div><input id='attrs-5b696da3-bc86-4646-83fb-241c8ec98a19' class='xr-var-attrs-in' type='checkbox' ><label for='attrs-5b696da3-bc86-4646-83fb-241c8ec98a19' title='Show/Hide attributes'><svg class='icon xr-icon-file-text2'><use xlink:href='#icon-file-text2'></use></svg></label><input id='data-892048e9-0204-4e96-a3c8-0129a6a3efc7' class='xr-var-data-in' type='checkbox'><label for='data-892048e9-0204-4e96-a3c8-0129a6a3efc7' title='Show/Hide data repr'><svg class='icon xr-icon-database'><use xlink:href='#icon-database'></use></svg></label><div class='xr-var-attrs'><dl class='xr-attrs'><dt><span>units :</span></dt><dd>V</dd><dt><span>standard_name :</span></dt><dd>battery_voltage</dd><dt><span>valid_range :</span></dt><dd>[  0 992]</dd></dl></div><div class='xr-var-data'><pre>array([[6.4451613],\n       [6.445807 ],\n       [6.4496775],\n       [6.4477415],\n       [6.4580646]], dtype=float32)</pre></div></li><li class='xr-var-item'><div class='xr-var-name'><span>ghi_min</span></div><div class='xr-var-dims'>(time, station)</div><div class='xr-var-dtype'>float64</div><div class='xr-var-preview xr-preview'>269.9 268.5 280.9 280.9 280.9</div><input id='attrs-0a50156b-bc3a-4349-acd7-c70ae102e09e' class='xr-var-attrs-in' type='checkbox' ><label for='attrs-0a50156b-bc3a-4349-acd7-c70ae102e09e' title='Show/Hide attributes'><svg class='icon xr-icon-file-text2'><use xlink:href='#icon-file-text2'></use></svg></label><input id='data-01272a9a-120b-434d-9c7e-c0ec4583b726' class='xr-var-data-in' type='checkbox'><label for='data-01272a9a-120b-434d-9c7e-c0ec4583b726' title='Show/Hide data repr'><svg class='icon xr-icon-database'><use xlink:href='#icon-database'></use></svg></label><div class='xr-var-attrs'><dl class='xr-attrs'><dt><span>units :</span></dt><dd>W m-2</dd><dt><span>long_name :</span></dt><dd>downwelling shortwave flux</dd><dt><span>standard_name :</span></dt><dd>min_downwelling_shortwave_flux_in_air</dd><dt><span>valid_range :</span></dt><dd>[   0 1023]</dd><dt><span>serial :</span></dt><dd>S12128.001</dd><dt><span>calibration_Cabsolute :</span></dt><dd>129366.10608020698</dd><dt><span>calibration_Ccoscorr :</span></dt><dd>1.45 - 3.04·x¹ + 5.59·x² - 3.01·x³</dd><dt><span>calibration_function :</span></dt><dd>flux (W m-2) = flux (V) * Cabsolute (W m-2 V-1) * Ccoscorr(mua)</dd></dl></div><div class='xr-var-data'><pre>array([[269.860475  ],\n       [268.46945498],\n       [280.90462604],\n       [280.90449869],\n       [280.90437115]])</pre></div></li><li class='xr-var-item'><div class='xr-var-name'><span>gti_min</span></div><div class='xr-var-dims'>(time, station)</div><div class='xr-var-dtype'>float64</div><div class='xr-var-preview xr-preview'>277.3 275.7 287.0 288.6 288.6</div><input id='attrs-c412ed54-604d-48ff-a14b-e8faf2478cea' class='xr-var-attrs-in' type='checkbox' ><label for='attrs-c412ed54-604d-48ff-a14b-e8faf2478cea' title='Show/Hide attributes'><svg class='icon xr-icon-file-text2'><use xlink:href='#icon-file-text2'></use></svg></label><input id='data-3d2d9aa5-6488-4de6-bbae-6669e9f2a681' class='xr-var-data-in' type='checkbox'><label for='data-3d2d9aa5-6488-4de6-bbae-6669e9f2a681' title='Show/Hide data repr'><svg class='icon xr-icon-database'><use xlink:href='#icon-database'></use></svg></label><div class='xr-var-attrs'><dl class='xr-attrs'><dt><span>units :</span></dt><dd>W m-2</dd><dt><span>long_name :</span></dt><dd>downwelling shortwave flux measured on secondary platform, might be tilted</dd><dt><span>standard_name :</span></dt><dd>min_downwelling_shortwave_flux_in_air</dd><dt><span>valid_range :</span></dt><dd>[   0 1023]</dd><dt><span>hangle :</span></dt><dd>0.0</dd><dt><span>vangle :</span></dt><dd>0.0</dd><dt><span>serial :</span></dt><dd>S12137.049</dd><dt><span>calibration_Cabsolute :</span></dt><dd>143266.47564469912</dd><dt><span>calibration_Ccoscorr :</span></dt><dd>1.45 - 3.04·x¹ + 5.59·x² - 3.01·x³</dd><dt><span>calibration_function :</span></dt><dd>flux (W m-2) = flux (V) * Cabsolute (W m-2 V-1) * Ccoscorr(mua)</dd></dl></div><div class='xr-var-data'><pre>array([[277.28995527],\n       [275.74945367],\n       [287.03461358],\n       [288.63802999],\n       [288.63789894]])</pre></div></li><li class='xr-var-item'><div class='xr-var-name'><span>ghi_max</span></div><div class='xr-var-dims'>(time, station)</div><div class='xr-var-dtype'>float64</div><div class='xr-var-preview xr-preview'>269.9 269.9 280.9 280.9 280.9</div><input id='attrs-86f90d18-a2d0-4e36-853f-7d97f277d62d' class='xr-var-attrs-in' type='checkbox' ><label for='attrs-86f90d18-a2d0-4e36-853f-7d97f277d62d' title='Show/Hide attributes'><svg class='icon xr-icon-file-text2'><use xlink:href='#icon-file-text2'></use></svg></label><input id='data-7dcd5060-2648-4872-b058-7f710ae2af8b' class='xr-var-data-in' type='checkbox'><label for='data-7dcd5060-2648-4872-b058-7f710ae2af8b' title='Show/Hide data repr'><svg class='icon xr-icon-database'><use xlink:href='#icon-database'></use></svg></label><div class='xr-var-attrs'><dl class='xr-attrs'><dt><span>units :</span></dt><dd>W m-2</dd><dt><span>long_name :</span></dt><dd>downwelling shortwave flux</dd><dt><span>standard_name :</span></dt><dd>max_downwelling_shortwave_flux_in_air</dd><dt><span>valid_range :</span></dt><dd>[   0 1023]</dd><dt><span>serial :</span></dt><dd>S12128.001</dd><dt><span>calibration_Cabsolute :</span></dt><dd>129366.10608020698</dd><dt><span>calibration_Ccoscorr :</span></dt><dd>1.45 - 3.04·x¹ + 5.59·x² - 3.01·x³</dd><dt><span>calibration_function :</span></dt><dd>flux (W m-2) = flux (V) * Cabsolute (W m-2 V-1) * Ccoscorr(mua)</dd></dl></div><div class='xr-var-data'><pre>array([[269.860475  ],\n       [269.860475  ],\n       [280.90462604],\n       [280.90449869],\n       [280.90437115]])</pre></div></li><li class='xr-var-item'><div class='xr-var-name'><span>gti_max</span></div><div class='xr-var-dims'>(time, station)</div><div class='xr-var-dtype'>float64</div><div class='xr-var-preview xr-preview'>277.3 278.8 290.2 288.6 288.6</div><input id='attrs-20df45b4-4408-404c-be33-7993534953b6' class='xr-var-attrs-in' type='checkbox' ><label for='attrs-20df45b4-4408-404c-be33-7993534953b6' title='Show/Hide attributes'><svg class='icon xr-icon-file-text2'><use xlink:href='#icon-file-text2'></use></svg></label><input id='data-fd8ea029-f592-4fc9-abaa-501473123459' class='xr-var-data-in' type='checkbox'><label for='data-fd8ea029-f592-4fc9-abaa-501473123459' title='Show/Hide data repr'><svg class='icon xr-icon-database'><use xlink:href='#icon-database'></use></svg></label><div class='xr-var-attrs'><dl class='xr-attrs'><dt><span>units :</span></dt><dd>W m-2</dd><dt><span>long_name :</span></dt><dd>downwelling shortwave flux measured on secondary platform, might be tilted</dd><dt><span>standard_name :</span></dt><dd>max_downwelling_shortwave_flux_in_air</dd><dt><span>valid_range :</span></dt><dd>[   0 1023]</dd><dt><span>hangle :</span></dt><dd>0.0</dd><dt><span>vangle :</span></dt><dd>0.0</dd><dt><span>serial :</span></dt><dd>S12137.049</dd><dt><span>calibration_Cabsolute :</span></dt><dd>143266.47564469912</dd><dt><span>calibration_Ccoscorr :</span></dt><dd>1.45 - 3.04·x¹ + 5.59·x² - 3.01·x³</dd><dt><span>calibration_function :</span></dt><dd>flux (W m-2) = flux (V) * Cabsolute (W m-2 V-1) * Ccoscorr(mua)</dd></dl></div><div class='xr-var-data'><pre>array([[277.28995527],\n       [278.83045688],\n       [290.24170811],\n       [288.63802999],\n       [288.63789894]])</pre></div></li><li class='xr-var-item'><div class='xr-var-name'><span>ghi_std</span></div><div class='xr-var-dims'>(time, station)</div><div class='xr-var-dtype'>float64</div><div class='xr-var-preview xr-preview'>0.0 0.4399 0.0 0.0 0.0</div><input id='attrs-7db6a642-be09-47c9-8b39-601fb227fbd0' class='xr-var-attrs-in' type='checkbox' ><label for='attrs-7db6a642-be09-47c9-8b39-601fb227fbd0' title='Show/Hide attributes'><svg class='icon xr-icon-file-text2'><use xlink:href='#icon-file-text2'></use></svg></label><input id='data-7b1357f5-ca66-4263-b440-1db1b7cb9b5b' class='xr-var-data-in' type='checkbox'><label for='data-7b1357f5-ca66-4263-b440-1db1b7cb9b5b' title='Show/Hide data repr'><svg class='icon xr-icon-database'><use xlink:href='#icon-database'></use></svg></label><div class='xr-var-attrs'><dl class='xr-attrs'><dt><span>units :</span></dt><dd>W m-2</dd><dt><span>long_name :</span></dt><dd>downwelling shortwave flux</dd><dt><span>standard_name :</span></dt><dd>std_downwelling_shortwave_flux_in_air</dd><dt><span>valid_range :</span></dt><dd>[   0 1023]</dd><dt><span>serial :</span></dt><dd>S12128.001</dd><dt><span>calibration_Cabsolute :</span></dt><dd>129366.10608020698</dd><dt><span>calibration_Ccoscorr :</span></dt><dd>1.45 - 3.04·x¹ + 5.59·x² - 3.01·x³</dd><dt><span>calibration_function :</span></dt><dd>flux (W m-2) = flux (V) * Cabsolute (W m-2 V-1) * Ccoscorr(mua)</dd></dl></div><div class='xr-var-data'><pre>array([[0.        ],\n       [0.43987915],\n       [0.        ],\n       [0.        ],\n       [0.        ]])</pre></div></li><li class='xr-var-item'><div class='xr-var-name'><span>gti_std</span></div><div class='xr-var-dims'>(time, station)</div><div class='xr-var-dtype'>float64</div><div class='xr-var-preview xr-preview'>0.0 0.7262 0.9102 0.0 0.0</div><input id='attrs-863bfd32-563f-4b92-8b1a-62004b1d6177' class='xr-var-attrs-in' type='checkbox' ><label for='attrs-863bfd32-563f-4b92-8b1a-62004b1d6177' title='Show/Hide attributes'><svg class='icon xr-icon-file-text2'><use xlink:href='#icon-file-text2'></use></svg></label><input id='data-2be7c957-eec7-42d7-ada6-190d7fd63617' class='xr-var-data-in' type='checkbox'><label for='data-2be7c957-eec7-42d7-ada6-190d7fd63617' title='Show/Hide data repr'><svg class='icon xr-icon-database'><use xlink:href='#icon-database'></use></svg></label><div class='xr-var-attrs'><dl class='xr-attrs'><dt><span>units :</span></dt><dd>W m-2</dd><dt><span>long_name :</span></dt><dd>downwelling shortwave flux measured on secondary platform, might be tilted</dd><dt><span>standard_name :</span></dt><dd>std_downwelling_shortwave_flux_in_air</dd><dt><span>valid_range :</span></dt><dd>[   0 1023]</dd><dt><span>hangle :</span></dt><dd>0.0</dd><dt><span>vangle :</span></dt><dd>0.0</dd><dt><span>serial :</span></dt><dd>S12137.049</dd><dt><span>calibration_Cabsolute :</span></dt><dd>143266.47564469912</dd><dt><span>calibration_Ccoscorr :</span></dt><dd>1.45 - 3.04·x¹ + 5.59·x² - 3.01·x³</dd><dt><span>calibration_function :</span></dt><dd>flux (W m-2) = flux (V) * Cabsolute (W m-2 V-1) * Ccoscorr(mua)</dd></dl></div><div class='xr-var-data'><pre>array([[0.        ],\n       [0.72619942],\n       [0.91024753],\n       [0.        ],\n       [0.        ]])</pre></div></li><li class='xr-var-item'><div class='xr-var-name'><span>lat</span></div><div class='xr-var-dims'>(time, station)</div><div class='xr-var-dtype'>float64</div><div class='xr-var-preview xr-preview'>nan nan 51.39 51.39 51.39</div><input id='attrs-3c1c33ce-f37e-4e2b-963b-2a9a3e536ba2' class='xr-var-attrs-in' type='checkbox' ><label for='attrs-3c1c33ce-f37e-4e2b-963b-2a9a3e536ba2' title='Show/Hide attributes'><svg class='icon xr-icon-file-text2'><use xlink:href='#icon-file-text2'></use></svg></label><input id='data-79fbf6a7-26a8-416b-ab32-58ad1ca3fe15' class='xr-var-data-in' type='checkbox'><label for='data-79fbf6a7-26a8-416b-ab32-58ad1ca3fe15' title='Show/Hide data repr'><svg class='icon xr-icon-database'><use xlink:href='#icon-database'></use></svg></label><div class='xr-var-attrs'><dl class='xr-attrs'><dt><span>standard_name :</span></dt><dd>latitude</dd><dt><span>units :</span></dt><dd>degree_north</dd><dt><span>valid_range :</span></dt><dd>[-90.  90.]</dd></dl></div><div class='xr-var-data'><pre>array([[        nan],\n       [        nan],\n       [51.39021167],\n       [51.39021086],\n       [51.39021   ]])</pre></div></li><li class='xr-var-item'><div class='xr-var-name'><span>lon</span></div><div class='xr-var-dims'>(time, station)</div><div class='xr-var-dtype'>float64</div><div class='xr-var-preview xr-preview'>nan nan 11.89 11.89 11.89</div><input id='attrs-21a64b12-1fba-4b1e-b76e-b411bb18d887' class='xr-var-attrs-in' type='checkbox' ><label for='attrs-21a64b12-1fba-4b1e-b76e-b411bb18d887' title='Show/Hide attributes'><svg class='icon xr-icon-file-text2'><use xlink:href='#icon-file-text2'></use></svg></label><input id='data-64cb771a-0d04-4f27-8b5c-42ca5618fa19' class='xr-var-data-in' type='checkbox'><label for='data-64cb771a-0d04-4f27-8b5c-42ca5618fa19' title='Show/Hide data repr'><svg class='icon xr-icon-database'><use xlink:href='#icon-database'></use></svg></label><div class='xr-var-attrs'><dl class='xr-attrs'><dt><span>standard_name :</span></dt><dd>longitude</dd><dt><span>units :</span></dt><dd>degree_east</dd><dt><span>valid_range :</span></dt><dd>[-180.  180.]</dd></dl></div><div class='xr-var-data'><pre>array([[        nan],\n       [        nan],\n       [11.88525656],\n       [11.88525425],\n       [11.88525167]])</pre></div></li><li class='xr-var-item'><div class='xr-var-name'><span>maintenance_flag_ghi</span></div><div class='xr-var-dims'>(maintenancetime, station)</div><div class='xr-var-dtype'>float32</div><div class='xr-var-preview xr-preview'>9.0</div><input id='attrs-2f760447-8687-4b07-ba25-a75ada82e8e6' class='xr-var-attrs-in' type='checkbox' ><label for='attrs-2f760447-8687-4b07-ba25-a75ada82e8e6' title='Show/Hide attributes'><svg class='icon xr-icon-file-text2'><use xlink:href='#icon-file-text2'></use></svg></label><input id='data-1cd98089-745d-4692-b26e-d06ca382605f' class='xr-var-data-in' type='checkbox'><label for='data-1cd98089-745d-4692-b26e-d06ca382605f' title='Show/Hide data repr'><svg class='icon xr-icon-database'><use xlink:href='#icon-database'></use></svg></label><div class='xr-var-attrs'><dl class='xr-attrs'><dt><span>standard_name :</span></dt><dd>quality_flag</dd><dt><span>long_name :</span></dt><dd>Maintenance quality control flags for main pyranometer</dd><dt><span>note :</span></dt><dd>Soiling describes subjectively the coverage of the pyranometer dome with dirt. The level flag is problematic if the bubble of the spirit level touches the reference ring, and bad if it is outside.</dd><dt><span>valid_range :</span></dt><dd>[ 0 11]</dd><dt><span>flag_masks :</span></dt><dd>[ 3  3  3 12 12]</dd><dt><span>flag_values :</span></dt><dd>[1 2 3 4 8]</dd><dt><span>flag_meanings :</span></dt><dd>soiling_light soiling_moderate soiling_heavy level_problematic level_bad</dd><dt><span>note_general :</span></dt><dd>222</dd><dt><span>note_clean :</span></dt><dd>testing notes</dd><dt><span>note_level :</span></dt><dd>test</dd></dl></div><div class='xr-var-data'><pre>array([[9.]], dtype=float32)</pre></div></li><li class='xr-var-item'><div class='xr-var-name'><span>maintenance_flag_gti</span></div><div class='xr-var-dims'>(maintenancetime, station)</div><div class='xr-var-dtype'>float32</div><div class='xr-var-preview xr-preview'>7.0</div><input id='attrs-30010f7b-d07b-4af7-87b2-52144c838aaf' class='xr-var-attrs-in' type='checkbox' ><label for='attrs-30010f7b-d07b-4af7-87b2-52144c838aaf' title='Show/Hide attributes'><svg class='icon xr-icon-file-text2'><use xlink:href='#icon-file-text2'></use></svg></label><input id='data-e0135687-9d92-4425-a04f-a71964886a72' class='xr-var-data-in' type='checkbox'><label for='data-e0135687-9d92-4425-a04f-a71964886a72' title='Show/Hide data repr'><svg class='icon xr-icon-database'><use xlink:href='#icon-database'></use></svg></label><div class='xr-var-attrs'><dl class='xr-attrs'><dt><span>standard_name :</span></dt><dd>quality_flag</dd><dt><span>long_name :</span></dt><dd>Maintenance quality control flags for secondary pyranometer</dd><dt><span>note :</span></dt><dd>Soiling describes subjectively the coverage of the pyranometer dome with dirt. The level flag is problematic if the bubble of the spirit level touches the reference ring, and bad if it is outside.</dd><dt><span>valid_range :</span></dt><dd>[ 0 11]</dd><dt><span>flag_masks :</span></dt><dd>[ 3  3  3 12 12]</dd><dt><span>flag_values :</span></dt><dd>[1 2 3 4 8]</dd><dt><span>flag_meanings :</span></dt><dd>soiling_light soiling_moderate soiling_heavy level_problematic level_bad</dd><dt><span>note_general :</span></dt><dd>222</dd><dt><span>note_clean :</span></dt><dd></dd><dt><span>note_level :</span></dt><dd></dd></dl></div><div class='xr-var-data'><pre>array([[7.]], dtype=float32)</pre></div></li><li class='xr-var-item'><div class='xr-var-name'><span>szen</span></div><div class='xr-var-dims'>(time, station)</div><div class='xr-var-dtype'>float64</div><div class='xr-var-preview xr-preview'>nan nan 42.51 42.51 42.51</div><input id='attrs-d221cac9-d394-4020-84d3-f11d54918663' class='xr-var-attrs-in' type='checkbox' ><label for='attrs-d221cac9-d394-4020-84d3-f11d54918663' title='Show/Hide attributes'><svg class='icon xr-icon-file-text2'><use xlink:href='#icon-file-text2'></use></svg></label><input id='data-f805b8f6-83ce-42dc-80c6-e6c75420954c' class='xr-var-data-in' type='checkbox'><label for='data-f805b8f6-83ce-42dc-80c6-e6c75420954c' title='Show/Hide data repr'><svg class='icon xr-icon-database'><use xlink:href='#icon-database'></use></svg></label><div class='xr-var-attrs'><dl class='xr-attrs'><dt><span>standard_name :</span></dt><dd>solar_zenith_angle</dd><dt><span>units :</span></dt><dd>degree</dd><dt><span>valid_range :</span></dt><dd>[0, 36000]</dd></dl></div><div class='xr-var-data'><pre>array([[        nan],\n       [        nan],\n       [42.51185936],\n       [42.5119952 ],\n       [42.51213125]])</pre></div></li><li class='xr-var-item'><div class='xr-var-name'><span>sazi</span></div><div class='xr-var-dims'>(time, station)</div><div class='xr-var-dtype'>float64</div><div class='xr-var-preview xr-preview'>nan nan 182.9 182.9 182.9</div><input id='attrs-1e92f77d-27ee-495c-be25-5e187c81011e' class='xr-var-attrs-in' type='checkbox' ><label for='attrs-1e92f77d-27ee-495c-be25-5e187c81011e' title='Show/Hide attributes'><svg class='icon xr-icon-file-text2'><use xlink:href='#icon-file-text2'></use></svg></label><input id='data-bce0e05d-2fe7-4bc1-87bc-8987a31d4da0' class='xr-var-data-in' type='checkbox'><label for='data-bce0e05d-2fe7-4bc1-87bc-8987a31d4da0' title='Show/Hide data repr'><svg class='icon xr-icon-database'><use xlink:href='#icon-database'></use></svg></label><div class='xr-var-attrs'><dl class='xr-attrs'><dt><span>standard_name :</span></dt><dd>solar_azimuth_angle</dd><dt><span>units :</span></dt><dd>degree</dd><dt><span>valid_range :</span></dt><dd>[0, 36000]</dd></dl></div><div class='xr-var-data'><pre>array([[         nan],\n       [         nan],\n       [182.91893638],\n       [182.92502264],\n       [182.93110846]])</pre></div></li><li class='xr-var-item'><div class='xr-var-name'><span>esd</span></div><div class='xr-var-dims'>(station)</div><div class='xr-var-dtype'>float64</div><div class='xr-var-preview xr-preview'>1.01</div><input id='attrs-5785fb21-23e9-4e61-a411-d244ab12c8a1' class='xr-var-attrs-in' type='checkbox' ><label for='attrs-5785fb21-23e9-4e61-a411-d244ab12c8a1' title='Show/Hide attributes'><svg class='icon xr-icon-file-text2'><use xlink:href='#icon-file-text2'></use></svg></label><input id='data-3989e2df-f760-4ccb-ad32-7c4b24beea24' class='xr-var-data-in' type='checkbox'><label for='data-3989e2df-f760-4ccb-ad32-7c4b24beea24' title='Show/Hide data repr'><svg class='icon xr-icon-database'><use xlink:href='#icon-database'></use></svg></label><div class='xr-var-attrs'><dl class='xr-attrs'><dt><span>long_name :</span></dt><dd>Earth-sun distance</dd><dt><span>note :</span></dt><dd>Calculated based on Spencer (1971), as mean of its values over all time steps.</dd><dt><span>units :</span></dt><dd>ua</dd></dl></div><div class='xr-var-data'><pre>array([1.00959973])</pre></div></li><li class='xr-var-item'><div class='xr-var-name'><span>qc_flag_ghi</span></div><div class='xr-var-dims'>(time, station)</div><div class='xr-var-dtype'>uint8</div><div class='xr-var-preview xr-preview'>0 0 0 0 0</div><input id='attrs-5347ba36-7bd6-4978-9f35-b72deda7d38d' class='xr-var-attrs-in' type='checkbox' ><label for='attrs-5347ba36-7bd6-4978-9f35-b72deda7d38d' title='Show/Hide attributes'><svg class='icon xr-icon-file-text2'><use xlink:href='#icon-file-text2'></use></svg></label><input id='data-8dfac9fd-e6bb-4f19-ad66-1fa0a33c67c0' class='xr-var-data-in' type='checkbox'><label for='data-8dfac9fd-e6bb-4f19-ad66-1fa0a33c67c0' title='Show/Hide data repr'><svg class='icon xr-icon-database'><use xlink:href='#icon-database'></use></svg></label><div class='xr-var-attrs'><dl class='xr-attrs'><dt><span>standard_name :</span></dt><dd>quality_flag</dd><dt><span>valid_range :</span></dt><dd>[0, 127]</dd><dt><span>serial :</span></dt><dd>S12128.001</dd><dt><span>calibration_Cabsolute :</span></dt><dd>129366.10608020698</dd><dt><span>calibration_Ccoscorr :</span></dt><dd>1.45 - 3.04·x¹ + 5.59·x² - 3.01·x³</dd><dt><span>calibration_function :</span></dt><dd>flux (W m-2) = flux (V) * Cabsolute (W m-2 V-1) * Ccoscorr(mua)</dd><dt><span>ancillary_variables :</span></dt><dd>ghi</dd><dt><span>flag_masks :</span></dt><dd>[1, 2, 4, 8, 16, 32, 64]</dd><dt><span>flag_values :</span></dt><dd>[1, 2, 4, 8, 16, 32, 64]</dd><dt><span>flag_meanings :</span></dt><dd>below_physical_limit above_physical_limit below_rare_limit above_rare_limit comparison_to_low comparison_to_high quality_control_failed</dd></dl></div><div class='xr-var-data'><pre>array([[0],\n       [0],\n       [0],\n       [0],\n       [0]], dtype=uint8)</pre></div></li><li class='xr-var-item'><div class='xr-var-name'><span>qc_flag_gti</span></div><div class='xr-var-dims'>(time, station)</div><div class='xr-var-dtype'>uint8</div><div class='xr-var-preview xr-preview'>0 0 0 0 0</div><input id='attrs-bd577420-e00c-48e6-abbb-67204b10ac30' class='xr-var-attrs-in' type='checkbox' ><label for='attrs-bd577420-e00c-48e6-abbb-67204b10ac30' title='Show/Hide attributes'><svg class='icon xr-icon-file-text2'><use xlink:href='#icon-file-text2'></use></svg></label><input id='data-42624d6c-4874-4776-8d1d-edbad7b66617' class='xr-var-data-in' type='checkbox'><label for='data-42624d6c-4874-4776-8d1d-edbad7b66617' title='Show/Hide data repr'><svg class='icon xr-icon-database'><use xlink:href='#icon-database'></use></svg></label><div class='xr-var-attrs'><dl class='xr-attrs'><dt><span>standard_name :</span></dt><dd>quality_flag</dd><dt><span>valid_range :</span></dt><dd>[0, 127]</dd><dt><span>hangle :</span></dt><dd>0.0</dd><dt><span>vangle :</span></dt><dd>0.0</dd><dt><span>serial :</span></dt><dd>S12137.049</dd><dt><span>calibration_Cabsolute :</span></dt><dd>143266.47564469912</dd><dt><span>calibration_Ccoscorr :</span></dt><dd>1.45 - 3.04·x¹ + 5.59·x² - 3.01·x³</dd><dt><span>calibration_function :</span></dt><dd>flux (W m-2) = flux (V) * Cabsolute (W m-2 V-1) * Ccoscorr(mua)</dd><dt><span>ancillary_variables :</span></dt><dd>gti</dd><dt><span>flag_masks :</span></dt><dd>[1, 2, 4, 8, 16, 32, 64]</dd><dt><span>flag_values :</span></dt><dd>[1, 2, 4, 8, 16, 32, 64]</dd><dt><span>flag_meanings :</span></dt><dd>below_physical_limit above_physical_limit below_rare_limit above_rare_limit comparison_to_low comparison_to_high quality_control_failed</dd></dl></div><div class='xr-var-data'><pre>array([[0],\n       [0],\n       [0],\n       [0],\n       [0]], dtype=uint8)</pre></div></li></ul></div></li><li class='xr-section-item'><input id='section-aecf273d-9fb0-4b74-a7a2-2176a38a9636' class='xr-section-summary-in' type='checkbox'  ><label for='section-aecf273d-9fb0-4b74-a7a2-2176a38a9636' class='xr-section-summary' >Indexes: <span>(3)</span></label><div class='xr-section-inline-details'></div><div class='xr-section-details'><ul class='xr-var-list'><li class='xr-var-item'><div class='xr-index-name'><div>station</div></div><div class='xr-index-preview'>PandasIndex</div><div></div><input id='index-1783c25d-5f2f-4be9-8e1c-e2037f66ba01' class='xr-index-data-in' type='checkbox'/><label for='index-1783c25d-5f2f-4be9-8e1c-e2037f66ba01' title='Show/Hide index repr'><svg class='icon xr-icon-database'><use xlink:href='#icon-database'></use></svg></label><div class='xr-index-data'><pre>PandasIndex(Float64Index([1.0], dtype=&#x27;float64&#x27;, name=&#x27;station&#x27;))</pre></div></li><li class='xr-var-item'><div class='xr-index-name'><div>time</div></div><div class='xr-index-preview'>PandasIndex</div><div></div><input id='index-66fb422b-f07a-43db-aadf-c8f992371e51' class='xr-index-data-in' type='checkbox'/><label for='index-66fb422b-f07a-43db-aadf-c8f992371e51' title='Show/Hide index repr'><svg class='icon xr-icon-database'><use xlink:href='#icon-database'></use></svg></label><div class='xr-index-data'><pre>PandasIndex(DatetimeIndex([&#x27;2022-08-30 11:21:03&#x27;, &#x27;2022-08-30 11:21:04&#x27;,\n               &#x27;2022-08-30 11:21:05&#x27;, &#x27;2022-08-30 11:21:06&#x27;,\n               &#x27;2022-08-30 11:21:07&#x27;],\n              dtype=&#x27;datetime64[ns]&#x27;, name=&#x27;time&#x27;, freq=&#x27;S&#x27;))</pre></div></li><li class='xr-var-item'><div class='xr-index-name'><div>maintenancetime</div></div><div class='xr-index-preview'>PandasIndex</div><div></div><input id='index-0570144b-bab9-4fff-b9bf-2f07c8c25a64' class='xr-index-data-in' type='checkbox'/><label for='index-0570144b-bab9-4fff-b9bf-2f07c8c25a64' title='Show/Hide index repr'><svg class='icon xr-icon-database'><use xlink:href='#icon-database'></use></svg></label><div class='xr-index-data'><pre>PandasIndex(DatetimeIndex([&#x27;2023-05-08 16:09:06&#x27;], dtype=&#x27;datetime64[ns]&#x27;, name=&#x27;maintenancetime&#x27;, freq=None))</pre></div></li></ul></div></li><li class='xr-section-item'><input id='section-aa8e698c-f6cf-4a38-a42c-41dd088127ea' class='xr-section-summary-in' type='checkbox'  ><label for='section-aa8e698c-f6cf-4a38-a42c-41dd088127ea' class='xr-section-summary' >Attributes: <span>(31)</span></label><div class='xr-section-inline-details'></div><div class='xr-section-details'><dl class='xr-attrs'><dt><span>Conventions :</span></dt><dd>CF-1.10, ACDD-1.3</dd><dt><span>title :</span></dt><dd>TROPOS pyranometer network (PyrNet) observational data set</dd><dt><span>history :</span></dt><dd>2024-02-23T15:22:57: Generated level l1a  by pyrnet version 0.1.10+60.gc0e9399.dirty; 2024-02-23T15:22:59: Generated level l1b  by pyrnet version 0.1.10+60.gc0e9399.dirty; </dd><dt><span>institution :</span></dt><dd>Leibniz Institute for Tropospheric Research (TROPOS)</dd><dt><span>source :</span></dt><dd>TROPOS pyranometer network (PyrNet)</dd><dt><span>references :</span></dt><dd>https://doi.org/10.5194/amt-9-1153-2016</dd><dt><span>Department :</span></dt><dd>Remote Sensing of Atmospheric Processes</dd><dt><span>Department_team :</span></dt><dd>Clouds, Aerosol and Radiation</dd><dt><span>Address :</span></dt><dd>Permoser Str. 15, 04318 Leipzig, Germany</dd><dt><span>Contact_person :</span></dt><dd>Andreas Macke and the clouds, aerosol and radiation team of the remote sensing department, mailto:andreas.macke@tropos.de</dd><dt><span>Contributor_name :</span></dt><dd></dd><dt><span>Contributor_role :</span></dt><dd></dd><dt><span>Authors_software :</span></dt><dd>Hartwig Deneke, Jonas Witthuhn, mailto:deneke@tropos.de</dd><dt><span>Creator_name :</span></dt><dd></dd><dt><span>Project :</span></dt><dd></dd><dt><span>Standard_name_vocabulary :</span></dt><dd>CF Standard Name Table v81</dd><dt><span>License :</span></dt><dd>CC-BY-SA 3.0</dd><dt><span>TESTNOTE :</span></dt><dd>This is a test note.</dd><dt><span>processing_level :</span></dt><dd>l1b</dd><dt><span>product_version :</span></dt><dd>0.1.10+60.gc0e9399.dirty</dd><dt><span>date_created :</span></dt><dd>2024-02-23T15:22:59</dd><dt><span>geospatial_lat_min :</span></dt><dd>51.39021</dd><dt><span>geospatial_lat_max :</span></dt><dd>51.390211666666666</dd><dt><span>geospatial_lat_units :</span></dt><dd>degN</dd><dt><span>geospatial_lon_min :</span></dt><dd>11.885251666666667</dd><dt><span>geospatial_lon_max :</span></dt><dd>11.885256558333333</dd><dt><span>geospatial_lon_units :</span></dt><dd>degE</dd><dt><span>time_coverage_start :</span></dt><dd>2022-08-30T11:21:03</dd><dt><span>time_coverage_end :</span></dt><dd>2022-08-30T11:21:07</dd><dt><span>time_coverage_duration :</span></dt><dd>P0DT0H0M4S</dd><dt><span>time_coverage_resolution :</span></dt><dd>P0DT0H0M1S</dd></dl></div></li></ul></div></div>"
     },
     "execution_count": 33,
     "metadata": {},
     "output_type": "execute_result"
    }
   ],
   "source": [
    "#|dropcode\n",
    "#|dropout\n",
    "# add global coverage attributes\n",
    "ds_l1b = update_coverage_meta(ds_l1b, timevar=\"time\")\n",
    "\n",
    "ds_l1b.attrs[\"processing_level\"] = 'l1b'\n",
    "now = pd.to_datetime(np.datetime64(\"now\"))\n",
    "ds_l1b.attrs[\"history\"] = ds_l1b.history + f\"{now.isoformat()}: Generated level l1b  by pyrnet version {pyrnet_version}; \"\n",
    "\n",
    "ds_l1b"
   ]
  },
  {
   "cell_type": "code",
   "execution_count": 34,
   "metadata": {
    "collapsed": false,
    "ExecuteTime": {
     "end_time": "2024-02-23T15:23:00.037337300Z",
     "start_time": "2024-02-23T15:22:59.617985800Z"
    }
   },
   "outputs": [],
   "source": [
    "#|hide\n",
    "# dsp = ds_l1b.sel(time=\"2019-07-15\")\n",
    "# plt.figure()\n",
    "# plt.plot(dsp.time, dsp.ghi)\n",
    "# plt.grid()"
   ]
  },
  {
   "cell_type": "code",
   "execution_count": 35,
   "metadata": {
    "collapsed": false,
    "ExecuteTime": {
     "end_time": "2024-02-23T15:23:00.037337300Z",
     "start_time": "2024-02-23T15:22:59.628112800Z"
    }
   },
   "outputs": [],
   "source": [
    "#|hide\n",
    "# ds_l1b.to_netcdf(\"../../testnb/to_l1b_output.nc\",\n",
    "#                  encoding={'time':{'dtype':'float64'}})"
   ]
  },
  {
   "cell_type": "code",
   "execution_count": 36,
   "metadata": {
    "collapsed": false,
    "ExecuteTime": {
     "end_time": "2024-02-23T15:23:00.037337300Z",
     "start_time": "2024-02-23T15:22:59.641931100Z"
    }
   },
   "outputs": [],
   "source": [
    "#|hide\n",
    "# dsp = xr.load_dataset(\"../../testnb/to_l1b_output.nc\").sel(time=\"2019-07-15\")\n",
    "# plt.figure()\n",
    "# plt.plot(dsp.time, dsp.ghi)\n",
    "# plt.grid()"
   ]
  },
  {
   "cell_type": "markdown",
   "metadata": {
    "collapsed": false
   },
   "source": [
    "## to_l1b function"
   ]
  },
  {
   "cell_type": "code",
   "execution_count": 37,
   "metadata": {
    "collapsed": false,
    "ExecuteTime": {
     "end_time": "2024-02-23T15:23:00.038373200Z",
     "start_time": "2024-02-23T15:22:59.687633800Z"
    }
   },
   "outputs": [],
   "source": [
    "#|export\n",
    "#|dropcode\n",
    "def to_l1b(\n",
    "        fname: str,\n",
    "        *,\n",
    "        config: dict | None = None,\n",
    "        global_attrs: dict | None = None,\n",
    "        check_adc_sync: bool = True\n",
    ") -> xr.Dataset|None:\n",
    "\n",
    "    config = get_config(config)\n",
    "    gattrs, vattrs, vencode = get_cfmeta(config)\n",
    "\n",
    "    if global_attrs is not None:\n",
    "        gattrs.update(global_attrs)\n",
    "\n",
    "    ######################################################################################\n",
    "    ## Load l1a data\n",
    "    ds_l1a = xr.open_dataset(fname)\n",
    "    # check correct file\n",
    "    if ds_l1a.processing_level != \"l1a\":\n",
    "        logger.warning(f\"{fname} is not a l1a file. Skip.\")\n",
    "        return None\n",
    "\n",
    "    ######################################################################################\n",
    "    ## Sync GPS to ADC time\n",
    "    adctime = pyrnet.logger.sync_adc_time(\n",
    "        adctime = ds_l1a.adctime.values,\n",
    "        gpstime = ds_l1a.gpstime.values,\n",
    "        iadc = ds_l1a.iadc.squeeze().values.astype(int),\n",
    "        check_results = check_adc_sync\n",
    "    )\n",
    "    \n",
    "    if adctime is None:\n",
    "        logger.warning(f\"Could not fit GPS to ADC time for file {fname}. Skip.\")\n",
    "        return None\n",
    "\n",
    "    ######################################################################################\n",
    "    ## Create new dataset (l1b)\n",
    "    ds_l1b = ds_l1a.drop_dims('gpstime')\n",
    "    ds_l1b = ds_l1b.drop_vars(['maintenance_flag_ghi','maintenance_flag_gti']) # keep only time dependent variables\n",
    "    ds_l1b = ds_l1b.assign({'time': ('adctime', adctime)})\n",
    "    ds_l1b = ds_l1b.swap_dims({\"adctime\":\"time\"})\n",
    "    ds_l1b = ds_l1b.drop_vars(\"adctime\")\n",
    "\n",
    "    ds_l1b[\"time\"].encoding.update({\n",
    "        \"dtype\": 'float64',\n",
    "        \"units\": f\"seconds since {np.datetime_as_string(ds_l1b.time.data[0], unit='D')}T00:00Z\",\n",
    "    })\n",
    "    logger.info(f\"Dataset time coverage before strip: {ds_l1b.time.values[0]} - {ds_l1b.time.values[-1]}\")\n",
    "\n",
    "    ######################################################################################\n",
    "    ## Drop first and last <stripminutes> minutes of data to avoid bad data due to maintenance\n",
    "    stripminutes = np.timedelta64(int(config['stripminutes']), 'm')\n",
    "    if (ds_l1b.time.values[0] + 3*stripminutes) > ds_l1b.time.values[-1]:\n",
    "        logger.warning(f\"{fname} has not enough data. Skip.\")\n",
    "        return None\n",
    "\n",
    "    ds_l1b = ds_l1b.isel(time=ds_l1b.time>ds_l1b.time.values[0] + stripminutes)\n",
    "    ds_l1b = ds_l1b.isel(time=ds_l1b.time<ds_l1b.time.values[-1] - stripminutes)\n",
    "    if ds_l1b.time.size < 10:\n",
    "        logger.warning(f\"{fname} has not enough data, after strip. Skip.\")\n",
    "        return None\n",
    "\n",
    "\n",
    "    logger.info(f\"Dataset time coverage after strip: {ds_l1b.time.values[0]} - {ds_l1b.time.values[-1]}\")\n",
    "\n",
    "    #####################################################################################\n",
    "    ## resample to desired resolution\n",
    "    # save station coordinate\n",
    "    station_dim = {\"station\": ds_l1b[\"station\"].values}\n",
    "    \n",
    "    # resample on time dimension with specified methods\n",
    "    methods = ['mean'] + config[\"l1b_resample_stats\"]\n",
    "    res = resample(\n",
    "        ds_l1b.squeeze().drop_vars(\"station\"), # drop station coordinate and variable\n",
    "        freq=config['l1bfreq'],\n",
    "        methods=methods,\n",
    "        kwargs=dict(skipna=True)\n",
    "    )\n",
    "    \n",
    "    # add standard names for new variables\n",
    "    # apply for variables if both in config['radflux_varname'] and ds_l1b.keys()\n",
    "    radflux_vars = list(set(config['radflux_varname'])&set(ds_l1b.keys()))\n",
    "    ds_l1b = res[0]\n",
    "    for i, method in enumerate(methods[1:]):\n",
    "        for var in radflux_vars:\n",
    "            ds_l1b[f\"{var}_{method}\"] = res[i+1][var]\n",
    "            ds_l1b[f\"{var}_{method}\"].attrs.update({\n",
    "                \"standard_name\": f\"{method}_\"+ds_l1b[f\"{var}_{method}\"].attrs[\"standard_name\"]\n",
    "            })\n",
    "    \n",
    "    # add station dimension back again\n",
    "    ds_l1b = ds_l1b.expand_dims(station_dim, axis=-1)\n",
    "\n",
    "    ######################################################################################\n",
    "    ## Interpolate GPS coordinates to l1b time\n",
    "    ds_gps = ds_l1a.drop_dims(\"adctime\")\n",
    "    ds_gps = ds_gps.drop_vars(['iadc'])\n",
    "\n",
    "    # Decide whether geo coordinates should be averaged or not\n",
    "    if config['average_latlon']:\n",
    "        ds_gps = ds_gps.mean('gpstime', skipna=True, keep_attrs=True)\n",
    "    else:\n",
    "        ds_gps = ds_gps.interp(gpstime=ds_l1b.time)\n",
    "        ds_gps = ds_gps.drop_vars(\"gpstime\")\n",
    "\n",
    "    ds_l1b = xr.merge((ds_l1b,ds_gps))\n",
    "\n",
    "    ######################################################################################\n",
    "    ## Calc and add sun position\n",
    "    szen, sazi = sp.sun_angles(\n",
    "        time=ds_l1b.time.values[:,None], # line up with coordinates to keep dependence on time only\n",
    "        lat=ds_l1b.lat.values,\n",
    "        lon=ds_l1b.lon.values\n",
    "    )\n",
    "    szen  = szen.squeeze()\n",
    "    sazi = sazi.squeeze()\n",
    "\n",
    "    esd = np.mean(sp.earth_sun_distance(ds_l1b.time.values))\n",
    "\n",
    "    ds_l1b = ds_l1b.assign(\n",
    "        {\n",
    "            \"szen\": ((\"time\", \"station\"), szen[:,None]),\n",
    "            \"sazi\": ((\"time\", \"station\"), sazi[:,None]),\n",
    "            \"esd\": (\"station\", [esd])\n",
    "        }\n",
    "    )\n",
    "    # update attributes and encoding\n",
    "    for key in ['szen', 'sazi','esd']:\n",
    "        ds_l1b[key].attrs.update(vattrs[key])\n",
    "\n",
    "    ######################################################################################\n",
    "    ## rad flux calibration\n",
    "    box = ds_l1b.station.values[0]\n",
    "    boxnumber, serial, cfac, CCcoef = pyrnet.pyrnet.meta_lookup(\n",
    "        ds_l1b.time.values[0],\n",
    "        box=box,\n",
    "        cfile=config['file_calibration'],\n",
    "        mapfile=config['file_mapping'],\n",
    "    )\n",
    "    logger.info(f\"Meta Lookup:\")\n",
    "    logger.info(f\">> Box={box}\")\n",
    "    logger.info(f\">> serial(s)={serial}\")\n",
    "    logger.info(f\">> calibration factor(s)={cfac}\")\n",
    "\n",
    "    mu0 = np.cos(np.deg2rad(ds_l1b.szen.values))\n",
    "    \n",
    "    # calibrate radiation flux with gain=300\n",
    "    for i, radflx in enumerate(config['radflux_varname']):\n",
    "        # all radflux related variables (including <radflux>_<resamplemethod> variables)\n",
    "        radflx_vars = [var for var in ds_l1b if var.startswith(radflx)]\n",
    "        if cfac[i] is None:\n",
    "            # drop if calibration/instrument don't exist (probably secondary pyranometer).\n",
    "            ds_l1b = ds_l1b.drop_vars(radflx_vars)\n",
    "            continue\n",
    "        \n",
    "        # calc apparent zenith angle if possible\n",
    "        mua = mu0.copy()\n",
    "        if \"vangle\" in ds_l1b[radflx].attrs:\n",
    "            vangle = pyrnet.utils.make_iter(ds_l1b[radflx].attrs[\"vangle\"])\n",
    "            hangle = pyrnet.utils.make_iter(ds_l1b[radflx].attrs[\"hangle\"])\n",
    "            mua = pyrnet.utils.calc_apparent_coszen(\n",
    "                pitch=vangle,\n",
    "                yaw=hangle,\n",
    "                zen=ds_l1b.szen.values,\n",
    "                azi=ds_l1b.sazi.values\n",
    "            )\n",
    "        \n",
    "        mask_mua = ~np.isnan(mua)\n",
    "        Ca = 1e6/cfac[i]\n",
    "        Cc = np.polynomial.polynomial.polyval(mua, c=CCcoef)\n",
    "        Cmu = mu0/mua\n",
    "        # apply to all variables\n",
    "        for var in radflx_vars:\n",
    "            calib_func = \"flux (W m-2) = flux (V) * Cabsolute (W m-2 V-1)\"\n",
    "            C = np.ones(mu0.shape)*Ca\n",
    "            if radflx == \"gti\":\n",
    "                C[mask_mua] *= Cc[mask_mua]\n",
    "                calib_func += \"\" if np.all(np.isnan(mua)) else \" * Ccoscorr(mua)\"\n",
    "            else:\n",
    "                C[mask_mua] *= Cc[mask_mua] * Cmu[mask_mua]\n",
    "                calib_func += \" * Ccoscorr(mua)\" # * mu0/mua\" (not implemented)\n",
    "            ds_l1b[var].values = ds_l1b[var].values*C\n",
    "    \n",
    "            ds_l1b[var].attrs['units'] = \"W m-2\",\n",
    "            ds_l1b[var].attrs.update({\n",
    "                \"units\": \"W m-2\",\n",
    "                \"serial\": serial[i],\n",
    "                \"calibration_Cabsolute\": Ca,\n",
    "                \"calibration_Ccoscorr\": str(np.polynomial.polynomial.Polynomial(CCcoef)),\n",
    "                \"calibration_function\": calib_func\n",
    "            })\n",
    "\n",
    "    ######################################################################################  \n",
    "    ## add quality flags\n",
    "    ds_l1b = pyrnet.qcrad.add_qc_flags(ds_l1b, config[\"radflux_varname\"])\n",
    "\n",
    "    ######################################################################################\n",
    "    ## Update variables, global attributes and encoding\n",
    "    #add global coverage attributes\n",
    "    ds_l1b = update_coverage_meta(ds_l1b, timevar=\"time\")\n",
    "    ds_l1b.attrs[\"processing_level\"] = 'l1b'\n",
    "    ds_l1b.attrs[\"product_version\"] = pyrnet_version\n",
    "    now = pd.to_datetime(np.datetime64(\"now\"))\n",
    "    ds_l1b.attrs[\"history\"] = ds_l1b.history + f\"{now.isoformat()}: Generated level l1b  by pyrnet version {pyrnet_version}; \"\n",
    "\n",
    "    # update encoding\n",
    "    ds_l1b = add_encoding(ds_l1b, vencode=vencode)\n",
    "\n",
    "    return ds_l1b"
   ]
  },
  {
   "cell_type": "markdown",
   "metadata": {
    "collapsed": false
   },
   "source": [
    "## Test to_l1b function"
   ]
  },
  {
   "cell_type": "code",
   "execution_count": 38,
   "metadata": {
    "collapsed": false,
    "ExecuteTime": {
     "end_time": "2024-02-23T15:23:00.347347700Z",
     "start_time": "2024-02-23T15:22:59.702180600Z"
    }
   },
   "outputs": [
    {
     "name": "stdout",
     "output_type": "stream",
     "text": [
      "Processing fname:\n",
      "2022-08-30_P0DT0H0M8S_pyrnet_test_s001l1bf1s.c01.nc\n"
     ]
    },
    {
     "data": {
      "text/plain": "<xarray.Dataset>\nDimensions:               (station: 1, time: 9, maintenancetime: 1)\nCoordinates:\n  * station               (station) float64 1.0\n  * time                  (time) datetime64[ns] 2022-08-30T11:21:01 ... 2022-...\n  * maintenancetime       (maintenancetime) datetime64[ns] 2023-05-08T16:09:06\nData variables: (12/20)\n    ghi                   (time, station) float64 280.9 280.9 ... 280.9 280.9\n    gti                   (time, station) float64 289.0 289.0 ... 288.6 289.4\n    ta                    (time, station) float32 294.8 294.7 ... 294.7 294.8\n    rh                    (time, station) float32 0.6253 0.6248 ... 0.628 0.629\n    battery_voltage       (time, station) float32 6.443 6.445 ... 6.449 6.465\n    gti_min               (time, station) float64 288.6 288.6 ... 288.6 288.6\n    ...                    ...\n    maintenance_flag_gti  (maintenancetime, station) float32 7.0\n    szen                  (time, station) float64 42.51 42.51 ... 42.51 42.51\n    sazi                  (time, station) float64 182.9 182.9 ... 182.9 182.9\n    esd                   (station) float64 1.01\n    qc_flag_ghi           (time, station) uint8 0 0 0 0 0 0 0 0 0\n    qc_flag_gti           (time, station) uint8 0 0 0 0 0 0 0 0 0\nAttributes: (12/31)\n    Conventions:               CF-1.10, ACDD-1.3\n    title:                     TROPOS pyranometer network (PyrNet) observatio...\n    history:                   2024-02-23T15:22:57: Generated level l1a  by p...\n    institution:               Leibniz Institute for Tropospheric Research (T...\n    source:                    TROPOS pyranometer network (PyrNet)\n    references:                https://doi.org/10.5194/amt-9-1153-2016\n    ...                        ...\n    geospatial_lon_max:        11.885252\n    geospatial_lon_units:      degE\n    time_coverage_start:       2022-08-30T11:21:01\n    time_coverage_end:         2022-08-30T11:21:09\n    time_coverage_duration:    P0DT0H0M8S\n    time_coverage_resolution:  P0DT0H0M1S",
      "text/html": "<div><svg style=\"position: absolute; width: 0; height: 0; overflow: hidden\">\n<defs>\n<symbol id=\"icon-database\" viewBox=\"0 0 32 32\">\n<path d=\"M16 0c-8.837 0-16 2.239-16 5v4c0 2.761 7.163 5 16 5s16-2.239 16-5v-4c0-2.761-7.163-5-16-5z\"></path>\n<path d=\"M16 17c-8.837 0-16-2.239-16-5v6c0 2.761 7.163 5 16 5s16-2.239 16-5v-6c0 2.761-7.163 5-16 5z\"></path>\n<path d=\"M16 26c-8.837 0-16-2.239-16-5v6c0 2.761 7.163 5 16 5s16-2.239 16-5v-6c0 2.761-7.163 5-16 5z\"></path>\n</symbol>\n<symbol id=\"icon-file-text2\" viewBox=\"0 0 32 32\">\n<path d=\"M28.681 7.159c-0.694-0.947-1.662-2.053-2.724-3.116s-2.169-2.030-3.116-2.724c-1.612-1.182-2.393-1.319-2.841-1.319h-15.5c-1.378 0-2.5 1.121-2.5 2.5v27c0 1.378 1.122 2.5 2.5 2.5h23c1.378 0 2.5-1.122 2.5-2.5v-19.5c0-0.448-0.137-1.23-1.319-2.841zM24.543 5.457c0.959 0.959 1.712 1.825 2.268 2.543h-4.811v-4.811c0.718 0.556 1.584 1.309 2.543 2.268zM28 29.5c0 0.271-0.229 0.5-0.5 0.5h-23c-0.271 0-0.5-0.229-0.5-0.5v-27c0-0.271 0.229-0.5 0.5-0.5 0 0 15.499-0 15.5 0v7c0 0.552 0.448 1 1 1h7v19.5z\"></path>\n<path d=\"M23 26h-14c-0.552 0-1-0.448-1-1s0.448-1 1-1h14c0.552 0 1 0.448 1 1s-0.448 1-1 1z\"></path>\n<path d=\"M23 22h-14c-0.552 0-1-0.448-1-1s0.448-1 1-1h14c0.552 0 1 0.448 1 1s-0.448 1-1 1z\"></path>\n<path d=\"M23 18h-14c-0.552 0-1-0.448-1-1s0.448-1 1-1h14c0.552 0 1 0.448 1 1s-0.448 1-1 1z\"></path>\n</symbol>\n</defs>\n</svg>\n<style>/* CSS stylesheet for displaying xarray objects in jupyterlab.\n *\n */\n\n:root {\n  --xr-font-color0: var(--jp-content-font-color0, rgba(0, 0, 0, 1));\n  --xr-font-color2: var(--jp-content-font-color2, rgba(0, 0, 0, 0.54));\n  --xr-font-color3: var(--jp-content-font-color3, rgba(0, 0, 0, 0.38));\n  --xr-border-color: var(--jp-border-color2, #e0e0e0);\n  --xr-disabled-color: var(--jp-layout-color3, #bdbdbd);\n  --xr-background-color: var(--jp-layout-color0, white);\n  --xr-background-color-row-even: var(--jp-layout-color1, white);\n  --xr-background-color-row-odd: var(--jp-layout-color2, #eeeeee);\n}\n\nhtml[theme=dark],\nbody[data-theme=dark],\nbody.vscode-dark {\n  --xr-font-color0: rgba(255, 255, 255, 1);\n  --xr-font-color2: rgba(255, 255, 255, 0.54);\n  --xr-font-color3: rgba(255, 255, 255, 0.38);\n  --xr-border-color: #1F1F1F;\n  --xr-disabled-color: #515151;\n  --xr-background-color: #111111;\n  --xr-background-color-row-even: #111111;\n  --xr-background-color-row-odd: #313131;\n}\n\n.xr-wrap {\n  display: block !important;\n  min-width: 300px;\n  max-width: 700px;\n}\n\n.xr-text-repr-fallback {\n  /* fallback to plain text repr when CSS is not injected (untrusted notebook) */\n  display: none;\n}\n\n.xr-header {\n  padding-top: 6px;\n  padding-bottom: 6px;\n  margin-bottom: 4px;\n  border-bottom: solid 1px var(--xr-border-color);\n}\n\n.xr-header > div,\n.xr-header > ul {\n  display: inline;\n  margin-top: 0;\n  margin-bottom: 0;\n}\n\n.xr-obj-type,\n.xr-array-name {\n  margin-left: 2px;\n  margin-right: 10px;\n}\n\n.xr-obj-type {\n  color: var(--xr-font-color2);\n}\n\n.xr-sections {\n  padding-left: 0 !important;\n  display: grid;\n  grid-template-columns: 150px auto auto 1fr 20px 20px;\n}\n\n.xr-section-item {\n  display: contents;\n}\n\n.xr-section-item input {\n  display: none;\n}\n\n.xr-section-item input + label {\n  color: var(--xr-disabled-color);\n}\n\n.xr-section-item input:enabled + label {\n  cursor: pointer;\n  color: var(--xr-font-color2);\n}\n\n.xr-section-item input:enabled + label:hover {\n  color: var(--xr-font-color0);\n}\n\n.xr-section-summary {\n  grid-column: 1;\n  color: var(--xr-font-color2);\n  font-weight: 500;\n}\n\n.xr-section-summary > span {\n  display: inline-block;\n  padding-left: 0.5em;\n}\n\n.xr-section-summary-in:disabled + label {\n  color: var(--xr-font-color2);\n}\n\n.xr-section-summary-in + label:before {\n  display: inline-block;\n  content: '►';\n  font-size: 11px;\n  width: 15px;\n  text-align: center;\n}\n\n.xr-section-summary-in:disabled + label:before {\n  color: var(--xr-disabled-color);\n}\n\n.xr-section-summary-in:checked + label:before {\n  content: '▼';\n}\n\n.xr-section-summary-in:checked + label > span {\n  display: none;\n}\n\n.xr-section-summary,\n.xr-section-inline-details {\n  padding-top: 4px;\n  padding-bottom: 4px;\n}\n\n.xr-section-inline-details {\n  grid-column: 2 / -1;\n}\n\n.xr-section-details {\n  display: none;\n  grid-column: 1 / -1;\n  margin-bottom: 5px;\n}\n\n.xr-section-summary-in:checked ~ .xr-section-details {\n  display: contents;\n}\n\n.xr-array-wrap {\n  grid-column: 1 / -1;\n  display: grid;\n  grid-template-columns: 20px auto;\n}\n\n.xr-array-wrap > label {\n  grid-column: 1;\n  vertical-align: top;\n}\n\n.xr-preview {\n  color: var(--xr-font-color3);\n}\n\n.xr-array-preview,\n.xr-array-data {\n  padding: 0 5px !important;\n  grid-column: 2;\n}\n\n.xr-array-data,\n.xr-array-in:checked ~ .xr-array-preview {\n  display: none;\n}\n\n.xr-array-in:checked ~ .xr-array-data,\n.xr-array-preview {\n  display: inline-block;\n}\n\n.xr-dim-list {\n  display: inline-block !important;\n  list-style: none;\n  padding: 0 !important;\n  margin: 0;\n}\n\n.xr-dim-list li {\n  display: inline-block;\n  padding: 0;\n  margin: 0;\n}\n\n.xr-dim-list:before {\n  content: '(';\n}\n\n.xr-dim-list:after {\n  content: ')';\n}\n\n.xr-dim-list li:not(:last-child):after {\n  content: ',';\n  padding-right: 5px;\n}\n\n.xr-has-index {\n  font-weight: bold;\n}\n\n.xr-var-list,\n.xr-var-item {\n  display: contents;\n}\n\n.xr-var-item > div,\n.xr-var-item label,\n.xr-var-item > .xr-var-name span {\n  background-color: var(--xr-background-color-row-even);\n  margin-bottom: 0;\n}\n\n.xr-var-item > .xr-var-name:hover span {\n  padding-right: 5px;\n}\n\n.xr-var-list > li:nth-child(odd) > div,\n.xr-var-list > li:nth-child(odd) > label,\n.xr-var-list > li:nth-child(odd) > .xr-var-name span {\n  background-color: var(--xr-background-color-row-odd);\n}\n\n.xr-var-name {\n  grid-column: 1;\n}\n\n.xr-var-dims {\n  grid-column: 2;\n}\n\n.xr-var-dtype {\n  grid-column: 3;\n  text-align: right;\n  color: var(--xr-font-color2);\n}\n\n.xr-var-preview {\n  grid-column: 4;\n}\n\n.xr-index-preview {\n  grid-column: 2 / 5;\n  color: var(--xr-font-color2);\n}\n\n.xr-var-name,\n.xr-var-dims,\n.xr-var-dtype,\n.xr-preview,\n.xr-attrs dt {\n  white-space: nowrap;\n  overflow: hidden;\n  text-overflow: ellipsis;\n  padding-right: 10px;\n}\n\n.xr-var-name:hover,\n.xr-var-dims:hover,\n.xr-var-dtype:hover,\n.xr-attrs dt:hover {\n  overflow: visible;\n  width: auto;\n  z-index: 1;\n}\n\n.xr-var-attrs,\n.xr-var-data,\n.xr-index-data {\n  display: none;\n  background-color: var(--xr-background-color) !important;\n  padding-bottom: 5px !important;\n}\n\n.xr-var-attrs-in:checked ~ .xr-var-attrs,\n.xr-var-data-in:checked ~ .xr-var-data,\n.xr-index-data-in:checked ~ .xr-index-data {\n  display: block;\n}\n\n.xr-var-data > table {\n  float: right;\n}\n\n.xr-var-name span,\n.xr-var-data,\n.xr-index-name div,\n.xr-index-data,\n.xr-attrs {\n  padding-left: 25px !important;\n}\n\n.xr-attrs,\n.xr-var-attrs,\n.xr-var-data,\n.xr-index-data {\n  grid-column: 1 / -1;\n}\n\ndl.xr-attrs {\n  padding: 0;\n  margin: 0;\n  display: grid;\n  grid-template-columns: 125px auto;\n}\n\n.xr-attrs dt,\n.xr-attrs dd {\n  padding: 0;\n  margin: 0;\n  float: left;\n  padding-right: 10px;\n  width: auto;\n}\n\n.xr-attrs dt {\n  font-weight: normal;\n  grid-column: 1;\n}\n\n.xr-attrs dt:hover span {\n  display: inline-block;\n  background: var(--xr-background-color);\n  padding-right: 10px;\n}\n\n.xr-attrs dd {\n  grid-column: 2;\n  white-space: pre-wrap;\n  word-break: break-all;\n}\n\n.xr-icon-database,\n.xr-icon-file-text2,\n.xr-no-icon {\n  display: inline-block;\n  vertical-align: middle;\n  width: 1em;\n  height: 1.5em !important;\n  stroke-width: 0;\n  stroke: currentColor;\n  fill: currentColor;\n}\n</style><pre class='xr-text-repr-fallback'>&lt;xarray.Dataset&gt;\nDimensions:               (station: 1, time: 9, maintenancetime: 1)\nCoordinates:\n  * station               (station) float64 1.0\n  * time                  (time) datetime64[ns] 2022-08-30T11:21:01 ... 2022-...\n  * maintenancetime       (maintenancetime) datetime64[ns] 2023-05-08T16:09:06\nData variables: (12/20)\n    ghi                   (time, station) float64 280.9 280.9 ... 280.9 280.9\n    gti                   (time, station) float64 289.0 289.0 ... 288.6 289.4\n    ta                    (time, station) float32 294.8 294.7 ... 294.7 294.8\n    rh                    (time, station) float32 0.6253 0.6248 ... 0.628 0.629\n    battery_voltage       (time, station) float32 6.443 6.445 ... 6.449 6.465\n    gti_min               (time, station) float64 288.6 288.6 ... 288.6 288.6\n    ...                    ...\n    maintenance_flag_gti  (maintenancetime, station) float32 7.0\n    szen                  (time, station) float64 42.51 42.51 ... 42.51 42.51\n    sazi                  (time, station) float64 182.9 182.9 ... 182.9 182.9\n    esd                   (station) float64 1.01\n    qc_flag_ghi           (time, station) uint8 0 0 0 0 0 0 0 0 0\n    qc_flag_gti           (time, station) uint8 0 0 0 0 0 0 0 0 0\nAttributes: (12/31)\n    Conventions:               CF-1.10, ACDD-1.3\n    title:                     TROPOS pyranometer network (PyrNet) observatio...\n    history:                   2024-02-23T15:22:57: Generated level l1a  by p...\n    institution:               Leibniz Institute for Tropospheric Research (T...\n    source:                    TROPOS pyranometer network (PyrNet)\n    references:                https://doi.org/10.5194/amt-9-1153-2016\n    ...                        ...\n    geospatial_lon_max:        11.885252\n    geospatial_lon_units:      degE\n    time_coverage_start:       2022-08-30T11:21:01\n    time_coverage_end:         2022-08-30T11:21:09\n    time_coverage_duration:    P0DT0H0M8S\n    time_coverage_resolution:  P0DT0H0M1S</pre><div class='xr-wrap' style='display:none'><div class='xr-header'><div class='xr-obj-type'>xarray.Dataset</div></div><ul class='xr-sections'><li class='xr-section-item'><input id='section-0f6e74a6-aa64-40f2-96b5-c1344700774c' class='xr-section-summary-in' type='checkbox' disabled ><label for='section-0f6e74a6-aa64-40f2-96b5-c1344700774c' class='xr-section-summary'  title='Expand/collapse section'>Dimensions:</label><div class='xr-section-inline-details'><ul class='xr-dim-list'><li><span class='xr-has-index'>station</span>: 1</li><li><span class='xr-has-index'>time</span>: 9</li><li><span class='xr-has-index'>maintenancetime</span>: 1</li></ul></div><div class='xr-section-details'></div></li><li class='xr-section-item'><input id='section-45f49375-264a-4d27-9515-3ae56b492955' class='xr-section-summary-in' type='checkbox'  checked><label for='section-45f49375-264a-4d27-9515-3ae56b492955' class='xr-section-summary' >Coordinates: <span>(3)</span></label><div class='xr-section-inline-details'></div><div class='xr-section-details'><ul class='xr-var-list'><li class='xr-var-item'><div class='xr-var-name'><span class='xr-has-index'>station</span></div><div class='xr-var-dims'>(station)</div><div class='xr-var-dtype'>float64</div><div class='xr-var-preview xr-preview'>1.0</div><input id='attrs-50ece8af-f9c7-4acc-9d57-d75e4be49eae' class='xr-var-attrs-in' type='checkbox' disabled><label for='attrs-50ece8af-f9c7-4acc-9d57-d75e4be49eae' title='Show/Hide attributes'><svg class='icon xr-icon-file-text2'><use xlink:href='#icon-file-text2'></use></svg></label><input id='data-d4ce0de3-efc9-40e8-b6dd-b668177fdbc3' class='xr-var-data-in' type='checkbox'><label for='data-d4ce0de3-efc9-40e8-b6dd-b668177fdbc3' title='Show/Hide data repr'><svg class='icon xr-icon-database'><use xlink:href='#icon-database'></use></svg></label><div class='xr-var-attrs'><dl class='xr-attrs'></dl></div><div class='xr-var-data'><pre>array([1.])</pre></div></li><li class='xr-var-item'><div class='xr-var-name'><span class='xr-has-index'>time</span></div><div class='xr-var-dims'>(time)</div><div class='xr-var-dtype'>datetime64[ns]</div><div class='xr-var-preview xr-preview'>2022-08-30T11:21:01 ... 2022-08-...</div><input id='attrs-9a9693ee-07d2-4d82-994f-c2154135ca28' class='xr-var-attrs-in' type='checkbox' disabled><label for='attrs-9a9693ee-07d2-4d82-994f-c2154135ca28' title='Show/Hide attributes'><svg class='icon xr-icon-file-text2'><use xlink:href='#icon-file-text2'></use></svg></label><input id='data-5b36d82c-b8ee-4562-a3e3-bed76e1926ea' class='xr-var-data-in' type='checkbox'><label for='data-5b36d82c-b8ee-4562-a3e3-bed76e1926ea' title='Show/Hide data repr'><svg class='icon xr-icon-database'><use xlink:href='#icon-database'></use></svg></label><div class='xr-var-attrs'><dl class='xr-attrs'></dl></div><div class='xr-var-data'><pre>array([&#x27;2022-08-30T11:21:01.000000000&#x27;, &#x27;2022-08-30T11:21:02.000000000&#x27;,\n       &#x27;2022-08-30T11:21:03.000000000&#x27;, &#x27;2022-08-30T11:21:04.000000000&#x27;,\n       &#x27;2022-08-30T11:21:05.000000000&#x27;, &#x27;2022-08-30T11:21:06.000000000&#x27;,\n       &#x27;2022-08-30T11:21:07.000000000&#x27;, &#x27;2022-08-30T11:21:08.000000000&#x27;,\n       &#x27;2022-08-30T11:21:09.000000000&#x27;], dtype=&#x27;datetime64[ns]&#x27;)</pre></div></li><li class='xr-var-item'><div class='xr-var-name'><span class='xr-has-index'>maintenancetime</span></div><div class='xr-var-dims'>(maintenancetime)</div><div class='xr-var-dtype'>datetime64[ns]</div><div class='xr-var-preview xr-preview'>2023-05-08T16:09:06</div><input id='attrs-49dec94f-ddd8-404c-8e08-e2e009177600' class='xr-var-attrs-in' type='checkbox' disabled><label for='attrs-49dec94f-ddd8-404c-8e08-e2e009177600' title='Show/Hide attributes'><svg class='icon xr-icon-file-text2'><use xlink:href='#icon-file-text2'></use></svg></label><input id='data-2dd89ae3-eae9-4542-9d73-ca2ebbbdd556' class='xr-var-data-in' type='checkbox'><label for='data-2dd89ae3-eae9-4542-9d73-ca2ebbbdd556' title='Show/Hide data repr'><svg class='icon xr-icon-database'><use xlink:href='#icon-database'></use></svg></label><div class='xr-var-attrs'><dl class='xr-attrs'></dl></div><div class='xr-var-data'><pre>array([&#x27;2023-05-08T16:09:06.000000000&#x27;], dtype=&#x27;datetime64[ns]&#x27;)</pre></div></li></ul></div></li><li class='xr-section-item'><input id='section-778a28c3-b057-49ba-ad64-dc46244858d7' class='xr-section-summary-in' type='checkbox'  ><label for='section-778a28c3-b057-49ba-ad64-dc46244858d7' class='xr-section-summary' >Data variables: <span>(20)</span></label><div class='xr-section-inline-details'></div><div class='xr-section-details'><ul class='xr-var-list'><li class='xr-var-item'><div class='xr-var-name'><span>ghi</span></div><div class='xr-var-dims'>(time, station)</div><div class='xr-var-dtype'>float64</div><div class='xr-var-preview xr-preview'>280.9 280.9 280.9 ... 280.9 280.9</div><input id='attrs-2ab16f37-4588-4fbf-8a95-b3e36755b733' class='xr-var-attrs-in' type='checkbox' ><label for='attrs-2ab16f37-4588-4fbf-8a95-b3e36755b733' title='Show/Hide attributes'><svg class='icon xr-icon-file-text2'><use xlink:href='#icon-file-text2'></use></svg></label><input id='data-51d29f01-6e8a-4195-bd43-d28ec3245473' class='xr-var-data-in' type='checkbox'><label for='data-51d29f01-6e8a-4195-bd43-d28ec3245473' title='Show/Hide data repr'><svg class='icon xr-icon-database'><use xlink:href='#icon-database'></use></svg></label><div class='xr-var-attrs'><dl class='xr-attrs'><dt><span>units :</span></dt><dd>W m-2</dd><dt><span>long_name :</span></dt><dd>downwelling shortwave flux</dd><dt><span>standard_name :</span></dt><dd>downwelling_shortwave_flux_in_air</dd><dt><span>valid_range :</span></dt><dd>[0, 60000]</dd><dt><span>serial :</span></dt><dd>S12128.001</dd><dt><span>calibration_Cabsolute :</span></dt><dd>129366.10608020698</dd><dt><span>calibration_Ccoscorr :</span></dt><dd>1.45 - 3.04·x¹ + 5.59·x² - 3.01·x³</dd><dt><span>calibration_function :</span></dt><dd>flux (W m-2) = flux (V) * Cabsolute (W m-2 V-1) * Ccoscorr(mua)</dd></dl></div><div class='xr-var-data'><pre>array([[280.90513748],\n       [280.90501036],\n       [280.90488297],\n       [280.75996672],\n       [280.90462742],\n       [280.90449925],\n       [280.75958242],\n       [280.90424214],\n       [280.90411319]])</pre></div></li><li class='xr-var-item'><div class='xr-var-name'><span>gti</span></div><div class='xr-var-dims'>(time, station)</div><div class='xr-var-dtype'>float64</div><div class='xr-var-preview xr-preview'>289.0 289.0 288.6 ... 288.6 289.4</div><input id='attrs-9070b6dc-4965-48ec-8e91-6d2f769c0205' class='xr-var-attrs-in' type='checkbox' ><label for='attrs-9070b6dc-4965-48ec-8e91-6d2f769c0205' title='Show/Hide attributes'><svg class='icon xr-icon-file-text2'><use xlink:href='#icon-file-text2'></use></svg></label><input id='data-eade6420-5c0b-4582-b39b-9197df6ea024' class='xr-var-data-in' type='checkbox'><label for='data-eade6420-5c0b-4582-b39b-9197df6ea024' title='Show/Hide data repr'><svg class='icon xr-icon-database'><use xlink:href='#icon-database'></use></svg></label><div class='xr-var-attrs'><dl class='xr-attrs'><dt><span>units :</span></dt><dd>W m-2</dd><dt><span>long_name :</span></dt><dd>downwelling shortwave flux measured on secondary platform, might be tilted</dd><dt><span>standard_name :</span></dt><dd>downwelling_shortwave_flux_in_air</dd><dt><span>valid_range :</span></dt><dd>[0, 60000]</dd><dt><span>hangle :</span></dt><dd>0.0</dd><dt><span>vangle :</span></dt><dd>0.0</dd><dt><span>serial :</span></dt><dd>S12137.049</dd><dt><span>calibration_Cabsolute :</span></dt><dd>143266.47564469912</dd><dt><span>calibration_Ccoscorr :</span></dt><dd>1.45 - 3.04·x¹ + 5.59·x² - 3.01·x³</dd><dt><span>calibration_function :</span></dt><dd>flux (W m-2) = flux (V) * Cabsolute (W m-2 V-1) * Ccoscorr(mua)</dd></dl></div><div class='xr-var-data'><pre>array([[288.95941377],\n       [288.959283  ],\n       [288.63842485],\n       [288.63829369],\n       [288.79852567],\n       [288.63803057],\n       [288.31717208],\n       [288.63776637],\n       [289.43939736]])</pre></div></li><li class='xr-var-item'><div class='xr-var-name'><span>ta</span></div><div class='xr-var-dims'>(time, station)</div><div class='xr-var-dtype'>float32</div><div class='xr-var-preview xr-preview'>294.8 294.7 294.8 ... 294.7 294.8</div><input id='attrs-f448c867-7ca5-41e8-81bf-26b6a8bcc81c' class='xr-var-attrs-in' type='checkbox' ><label for='attrs-f448c867-7ca5-41e8-81bf-26b6a8bcc81c' title='Show/Hide attributes'><svg class='icon xr-icon-file-text2'><use xlink:href='#icon-file-text2'></use></svg></label><input id='data-3708a1ed-6746-4d1b-a471-13ca578942b2' class='xr-var-data-in' type='checkbox'><label for='data-3708a1ed-6746-4d1b-a471-13ca578942b2' title='Show/Hide data repr'><svg class='icon xr-icon-database'><use xlink:href='#icon-database'></use></svg></label><div class='xr-var-attrs'><dl class='xr-attrs'><dt><span>units :</span></dt><dd>K</dd><dt><span>long_name :</span></dt><dd>air temperature</dd><dt><span>standard_name :</span></dt><dd>air_temperature</dd><dt><span>valid_range :</span></dt><dd>[0, 10000]</dd></dl></div><div class='xr-var-data'><pre>array([[294.8016 ],\n       [294.7371 ],\n       [294.77008],\n       [294.74997],\n       [294.7887 ],\n       [294.74997],\n       [294.8145 ],\n       [294.72705],\n       [294.76288]], dtype=float32)</pre></div></li><li class='xr-var-item'><div class='xr-var-name'><span>rh</span></div><div class='xr-var-dims'>(time, station)</div><div class='xr-var-dtype'>float32</div><div class='xr-var-preview xr-preview'>0.6253 0.6248 ... 0.628 0.629</div><input id='attrs-a599ccd9-582c-41b3-8709-dedf2ae01e77' class='xr-var-attrs-in' type='checkbox' ><label for='attrs-a599ccd9-582c-41b3-8709-dedf2ae01e77' title='Show/Hide attributes'><svg class='icon xr-icon-file-text2'><use xlink:href='#icon-file-text2'></use></svg></label><input id='data-4e546602-72f5-4d00-91ce-0e7a19277f9b' class='xr-var-data-in' type='checkbox'><label for='data-4e546602-72f5-4d00-91ce-0e7a19277f9b' title='Show/Hide data repr'><svg class='icon xr-icon-database'><use xlink:href='#icon-database'></use></svg></label><div class='xr-var-attrs'><dl class='xr-attrs'><dt><span>units :</span></dt><dd>1</dd><dt><span>long_name :</span></dt><dd>air relative humidity</dd><dt><span>standard_name :</span></dt><dd>relative_humidity</dd><dt><span>valid_range :</span></dt><dd>[0, 10000]</dd></dl></div><div class='xr-var-data'><pre>array([[0.6252903 ],\n       [0.62477416],\n       [0.6259498 ],\n       [0.6265806 ],\n       [0.6270968 ],\n       [0.6270968 ],\n       [0.6286451 ],\n       [0.627957  ],\n       [0.62903225]], dtype=float32)</pre></div></li><li class='xr-var-item'><div class='xr-var-name'><span>battery_voltage</span></div><div class='xr-var-dims'>(time, station)</div><div class='xr-var-dtype'>float32</div><div class='xr-var-preview xr-preview'>6.443 6.445 6.444 ... 6.449 6.465</div><input id='attrs-f66722fc-9f4e-4520-b035-01184ea0f053' class='xr-var-attrs-in' type='checkbox' ><label for='attrs-f66722fc-9f4e-4520-b035-01184ea0f053' title='Show/Hide attributes'><svg class='icon xr-icon-file-text2'><use xlink:href='#icon-file-text2'></use></svg></label><input id='data-8bb3b263-6e2a-4193-a111-6ca0b055c834' class='xr-var-data-in' type='checkbox'><label for='data-8bb3b263-6e2a-4193-a111-6ca0b055c834' title='Show/Hide data repr'><svg class='icon xr-icon-database'><use xlink:href='#icon-database'></use></svg></label><div class='xr-var-attrs'><dl class='xr-attrs'><dt><span>units :</span></dt><dd>V</dd><dt><span>standard_name :</span></dt><dd>battery_voltage</dd><dt><span>valid_range :</span></dt><dd>[0, 6400]</dd></dl></div><div class='xr-var-data'><pre>array([[6.44258  ],\n       [6.4451613],\n       [6.4437275],\n       [6.445807 ],\n       [6.4496775],\n       [6.4477415],\n       [6.4464517],\n       [6.4494624],\n       [6.464516 ]], dtype=float32)</pre></div></li><li class='xr-var-item'><div class='xr-var-name'><span>gti_min</span></div><div class='xr-var-dims'>(time, station)</div><div class='xr-var-dtype'>float64</div><div class='xr-var-preview xr-preview'>288.6 288.6 288.6 ... 288.6 288.6</div><input id='attrs-9278cdb9-d740-495e-9673-6ec6e33becb1' class='xr-var-attrs-in' type='checkbox' ><label for='attrs-9278cdb9-d740-495e-9673-6ec6e33becb1' title='Show/Hide attributes'><svg class='icon xr-icon-file-text2'><use xlink:href='#icon-file-text2'></use></svg></label><input id='data-8b516012-36fa-4295-88c2-bd39d5ab174b' class='xr-var-data-in' type='checkbox'><label for='data-8b516012-36fa-4295-88c2-bd39d5ab174b' title='Show/Hide data repr'><svg class='icon xr-icon-database'><use xlink:href='#icon-database'></use></svg></label><div class='xr-var-attrs'><dl class='xr-attrs'><dt><span>units :</span></dt><dd>W m-2</dd><dt><span>long_name :</span></dt><dd>downwelling shortwave flux measured on secondary platform, might be tilted</dd><dt><span>standard_name :</span></dt><dd>min_downwelling_shortwave_flux_in_air</dd><dt><span>valid_range :</span></dt><dd>[0, 60000]</dd><dt><span>hangle :</span></dt><dd>0.0</dd><dt><span>vangle :</span></dt><dd>0.0</dd><dt><span>serial :</span></dt><dd>S12137.049</dd><dt><span>calibration_Cabsolute :</span></dt><dd>143266.47564469912</dd><dt><span>calibration_Ccoscorr :</span></dt><dd>1.45 - 3.04·x¹ + 5.59·x² - 3.01·x³</dd><dt><span>calibration_function :</span></dt><dd>flux (W m-2) = flux (V) * Cabsolute (W m-2 V-1) * Ccoscorr(mua)</dd></dl></div><div class='xr-var-data'><pre>array([[288.63868637],\n       [288.63855575],\n       [288.63842485],\n       [287.03474569],\n       [287.03461499],\n       [288.63803057],\n       [287.0343528 ],\n       [288.63776637],\n       [288.63763387]])</pre></div></li><li class='xr-var-item'><div class='xr-var-name'><span>ghi_min</span></div><div class='xr-var-dims'>(time, station)</div><div class='xr-var-dtype'>float64</div><div class='xr-var-preview xr-preview'>280.9 280.9 280.9 ... 280.9 280.9</div><input id='attrs-7b6ed3a2-2af9-45ab-adbc-e78a72b4de56' class='xr-var-attrs-in' type='checkbox' ><label for='attrs-7b6ed3a2-2af9-45ab-adbc-e78a72b4de56' title='Show/Hide attributes'><svg class='icon xr-icon-file-text2'><use xlink:href='#icon-file-text2'></use></svg></label><input id='data-c55184df-d0f9-4eb0-990f-f556f3112139' class='xr-var-data-in' type='checkbox'><label for='data-c55184df-d0f9-4eb0-990f-f556f3112139' title='Show/Hide data repr'><svg class='icon xr-icon-database'><use xlink:href='#icon-database'></use></svg></label><div class='xr-var-attrs'><dl class='xr-attrs'><dt><span>units :</span></dt><dd>W m-2</dd><dt><span>long_name :</span></dt><dd>downwelling shortwave flux</dd><dt><span>standard_name :</span></dt><dd>min_downwelling_shortwave_flux_in_air</dd><dt><span>valid_range :</span></dt><dd>[0, 60000]</dd><dt><span>serial :</span></dt><dd>S12128.001</dd><dt><span>calibration_Cabsolute :</span></dt><dd>129366.10608020698</dd><dt><span>calibration_Ccoscorr :</span></dt><dd>1.45 - 3.04·x¹ + 5.59·x² - 3.01·x³</dd><dt><span>calibration_function :</span></dt><dd>flux (W m-2) = flux (V) * Cabsolute (W m-2 V-1) * Ccoscorr(mua)</dd></dl></div><div class='xr-var-data'><pre>array([[280.90513748],\n       [280.90501036],\n       [280.90488297],\n       [279.45680657],\n       [280.90462742],\n       [280.90449925],\n       [279.45642405],\n       [280.90424214],\n       [280.90411319]])</pre></div></li><li class='xr-var-item'><div class='xr-var-name'><span>gti_max</span></div><div class='xr-var-dims'>(time, station)</div><div class='xr-var-dtype'>float64</div><div class='xr-var-preview xr-preview'>290.2 290.2 288.6 ... 288.6 290.2</div><input id='attrs-f2f30b9a-9513-4e75-bf59-781757697050' class='xr-var-attrs-in' type='checkbox' ><label for='attrs-f2f30b9a-9513-4e75-bf59-781757697050' title='Show/Hide attributes'><svg class='icon xr-icon-file-text2'><use xlink:href='#icon-file-text2'></use></svg></label><input id='data-69ba125f-85b0-4f13-a56b-292ba988c818' class='xr-var-data-in' type='checkbox'><label for='data-69ba125f-85b0-4f13-a56b-292ba988c818' title='Show/Hide data repr'><svg class='icon xr-icon-database'><use xlink:href='#icon-database'></use></svg></label><div class='xr-var-attrs'><dl class='xr-attrs'><dt><span>units :</span></dt><dd>W m-2</dd><dt><span>long_name :</span></dt><dd>downwelling shortwave flux measured on secondary platform, might be tilted</dd><dt><span>standard_name :</span></dt><dd>max_downwelling_shortwave_flux_in_air</dd><dt><span>valid_range :</span></dt><dd>[0, 60000]</dd><dt><span>hangle :</span></dt><dd>0.0</dd><dt><span>vangle :</span></dt><dd>0.0</dd><dt><span>serial :</span></dt><dd>S12137.049</dd><dt><span>calibration_Cabsolute :</span></dt><dd>143266.47564469912</dd><dt><span>calibration_Ccoscorr :</span></dt><dd>1.45 - 3.04·x¹ + 5.59·x² - 3.01·x³</dd><dt><span>calibration_function :</span></dt><dd>flux (W m-2) = flux (V) * Cabsolute (W m-2 V-1) * Ccoscorr(mua)</dd></dl></div><div class='xr-var-data'><pre>array([[290.24223656],\n       [290.24210521],\n       [288.63842485],\n       [290.2418417 ],\n       [290.24170954],\n       [288.63803057],\n       [288.63789861],\n       [288.63776637],\n       [290.24117821]])</pre></div></li><li class='xr-var-item'><div class='xr-var-name'><span>ghi_max</span></div><div class='xr-var-dims'>(time, station)</div><div class='xr-var-dtype'>float64</div><div class='xr-var-preview xr-preview'>280.9 280.9 280.9 ... 280.9 280.9</div><input id='attrs-bbbec0eb-c77c-41b0-90f0-c18088d441ff' class='xr-var-attrs-in' type='checkbox' ><label for='attrs-bbbec0eb-c77c-41b0-90f0-c18088d441ff' title='Show/Hide attributes'><svg class='icon xr-icon-file-text2'><use xlink:href='#icon-file-text2'></use></svg></label><input id='data-c27a0e8b-6ed3-4e9f-9953-cc32653d115e' class='xr-var-data-in' type='checkbox'><label for='data-c27a0e8b-6ed3-4e9f-9953-cc32653d115e' title='Show/Hide data repr'><svg class='icon xr-icon-database'><use xlink:href='#icon-database'></use></svg></label><div class='xr-var-attrs'><dl class='xr-attrs'><dt><span>units :</span></dt><dd>W m-2</dd><dt><span>long_name :</span></dt><dd>downwelling shortwave flux</dd><dt><span>standard_name :</span></dt><dd>max_downwelling_shortwave_flux_in_air</dd><dt><span>valid_range :</span></dt><dd>[0, 60000]</dd><dt><span>serial :</span></dt><dd>S12128.001</dd><dt><span>calibration_Cabsolute :</span></dt><dd>129366.10608020698</dd><dt><span>calibration_Ccoscorr :</span></dt><dd>1.45 - 3.04·x¹ + 5.59·x² - 3.01·x³</dd><dt><span>calibration_function :</span></dt><dd>flux (W m-2) = flux (V) * Cabsolute (W m-2 V-1) * Ccoscorr(mua)</dd></dl></div><div class='xr-var-data'><pre>array([[280.90513748],\n       [280.90501036],\n       [280.90488297],\n       [280.90475533],\n       [280.90462742],\n       [280.90449925],\n       [280.90437082],\n       [280.90424214],\n       [280.90411319]])</pre></div></li><li class='xr-var-item'><div class='xr-var-name'><span>gti_std</span></div><div class='xr-var-dims'>(time, station)</div><div class='xr-var-dtype'>float64</div><div class='xr-var-preview xr-preview'>0.7171 0.6761 0.0 ... 0.0 1.134</div><input id='attrs-ada161e3-21f8-41fb-93ce-faf4041cd464' class='xr-var-attrs-in' type='checkbox' ><label for='attrs-ada161e3-21f8-41fb-93ce-faf4041cd464' title='Show/Hide attributes'><svg class='icon xr-icon-file-text2'><use xlink:href='#icon-file-text2'></use></svg></label><input id='data-f4805fc0-445c-4baa-ae8d-17cfbec5af33' class='xr-var-data-in' type='checkbox'><label for='data-f4805fc0-445c-4baa-ae8d-17cfbec5af33' title='Show/Hide data repr'><svg class='icon xr-icon-database'><use xlink:href='#icon-database'></use></svg></label><div class='xr-var-attrs'><dl class='xr-attrs'><dt><span>units :</span></dt><dd>W m-2</dd><dt><span>long_name :</span></dt><dd>downwelling shortwave flux measured on secondary platform, might be tilted</dd><dt><span>standard_name :</span></dt><dd>std_downwelling_shortwave_flux_in_air</dd><dt><span>valid_range :</span></dt><dd>[0, 60000]</dd><dt><span>hangle :</span></dt><dd>0.0</dd><dt><span>vangle :</span></dt><dd>0.0</dd><dt><span>serial :</span></dt><dd>S12137.049</dd><dt><span>calibration_Cabsolute :</span></dt><dd>143266.47564469912</dd><dt><span>calibration_Ccoscorr :</span></dt><dd>1.45 - 3.04·x¹ + 5.59·x² - 3.01·x³</dd><dt><span>calibration_function :</span></dt><dd>flux (W m-2) = flux (V) * Cabsolute (W m-2 V-1) * Ccoscorr(mua)</dd></dl></div><div class='xr-var-data'><pre>array([[0.71712944],\n       [0.67611582],\n       [0.        ],\n       [0.75591978],\n       [0.91024754],\n       [0.        ],\n       [0.67611428],\n       [0.        ],\n       [1.13387708]])</pre></div></li><li class='xr-var-item'><div class='xr-var-name'><span>ghi_std</span></div><div class='xr-var-dims'>(time, station)</div><div class='xr-var-dtype'>float64</div><div class='xr-var-preview xr-preview'>0.0 0.0 0.0 ... 0.4579 0.0 0.0</div><input id='attrs-045e281f-31f8-4d0a-8919-c6bb4193cc52' class='xr-var-attrs-in' type='checkbox' ><label for='attrs-045e281f-31f8-4d0a-8919-c6bb4193cc52' title='Show/Hide attributes'><svg class='icon xr-icon-file-text2'><use xlink:href='#icon-file-text2'></use></svg></label><input id='data-709fe624-e5a6-4abb-ba5f-177ecb9d7f09' class='xr-var-data-in' type='checkbox'><label for='data-709fe624-e5a6-4abb-ba5f-177ecb9d7f09' title='Show/Hide data repr'><svg class='icon xr-icon-database'><use xlink:href='#icon-database'></use></svg></label><div class='xr-var-attrs'><dl class='xr-attrs'><dt><span>units :</span></dt><dd>W m-2</dd><dt><span>long_name :</span></dt><dd>downwelling shortwave flux</dd><dt><span>standard_name :</span></dt><dd>std_downwelling_shortwave_flux_in_air</dd><dt><span>valid_range :</span></dt><dd>[0, 60000]</dd><dt><span>serial :</span></dt><dd>S12128.001</dd><dt><span>calibration_Cabsolute :</span></dt><dd>129366.10608020698</dd><dt><span>calibration_Ccoscorr :</span></dt><dd>1.45 - 3.04·x¹ + 5.59·x² - 3.01·x³</dd><dt><span>calibration_function :</span></dt><dd>flux (W m-2) = flux (V) * Cabsolute (W m-2 V-1) * Ccoscorr(mua)</dd></dl></div><div class='xr-var-data'><pre>array([[0.        ],\n       [0.        ],\n       [0.        ],\n       [0.4578816 ],\n       [0.        ],\n       [0.        ],\n       [0.45788097],\n       [0.        ],\n       [0.        ]])</pre></div></li><li class='xr-var-item'><div class='xr-var-name'><span>lat</span></div><div class='xr-var-dims'>(station)</div><div class='xr-var-dtype'>float64</div><div class='xr-var-preview xr-preview'>51.39</div><input id='attrs-11ce5646-b840-4b67-ae8e-2ec0a6fd4f6d' class='xr-var-attrs-in' type='checkbox' ><label for='attrs-11ce5646-b840-4b67-ae8e-2ec0a6fd4f6d' title='Show/Hide attributes'><svg class='icon xr-icon-file-text2'><use xlink:href='#icon-file-text2'></use></svg></label><input id='data-0b345d58-2c31-44f9-b6e7-e2c5f096a869' class='xr-var-data-in' type='checkbox'><label for='data-0b345d58-2c31-44f9-b6e7-e2c5f096a869' title='Show/Hide data repr'><svg class='icon xr-icon-database'><use xlink:href='#icon-database'></use></svg></label><div class='xr-var-attrs'><dl class='xr-attrs'><dt><span>standard_name :</span></dt><dd>latitude</dd><dt><span>units :</span></dt><dd>degree_north</dd><dt><span>valid_range :</span></dt><dd>[-90.0, 90.0]</dd></dl></div><div class='xr-var-data'><pre>array([51.39021033])</pre></div></li><li class='xr-var-item'><div class='xr-var-name'><span>lon</span></div><div class='xr-var-dims'>(station)</div><div class='xr-var-dtype'>float64</div><div class='xr-var-preview xr-preview'>11.89</div><input id='attrs-2fdfff99-0ca4-4d06-9e5c-8b5717d8d3df' class='xr-var-attrs-in' type='checkbox' ><label for='attrs-2fdfff99-0ca4-4d06-9e5c-8b5717d8d3df' title='Show/Hide attributes'><svg class='icon xr-icon-file-text2'><use xlink:href='#icon-file-text2'></use></svg></label><input id='data-ff2f753d-07dd-4c89-8a77-fe7fbfd3039b' class='xr-var-data-in' type='checkbox'><label for='data-ff2f753d-07dd-4c89-8a77-fe7fbfd3039b' title='Show/Hide data repr'><svg class='icon xr-icon-database'><use xlink:href='#icon-database'></use></svg></label><div class='xr-var-attrs'><dl class='xr-attrs'><dt><span>standard_name :</span></dt><dd>longitude</dd><dt><span>units :</span></dt><dd>degree_east</dd><dt><span>valid_range :</span></dt><dd>[-180.0, 180.0]</dd></dl></div><div class='xr-var-data'><pre>array([11.885252])</pre></div></li><li class='xr-var-item'><div class='xr-var-name'><span>maintenance_flag_ghi</span></div><div class='xr-var-dims'>(maintenancetime, station)</div><div class='xr-var-dtype'>float32</div><div class='xr-var-preview xr-preview'>9.0</div><input id='attrs-5524381e-9500-4f83-9647-f1a073b38aa6' class='xr-var-attrs-in' type='checkbox' ><label for='attrs-5524381e-9500-4f83-9647-f1a073b38aa6' title='Show/Hide attributes'><svg class='icon xr-icon-file-text2'><use xlink:href='#icon-file-text2'></use></svg></label><input id='data-6ed420bc-2f05-4325-ba69-7f73d3e56d9e' class='xr-var-data-in' type='checkbox'><label for='data-6ed420bc-2f05-4325-ba69-7f73d3e56d9e' title='Show/Hide data repr'><svg class='icon xr-icon-database'><use xlink:href='#icon-database'></use></svg></label><div class='xr-var-attrs'><dl class='xr-attrs'><dt><span>standard_name :</span></dt><dd>quality_flag</dd><dt><span>long_name :</span></dt><dd>Maintenance quality control flags for main pyranometer</dd><dt><span>note :</span></dt><dd>Soiling describes subjectively the coverage of the pyranometer dome with dirt. The level flag is problematic if the bubble of the spirit level touches the reference ring, and bad if it is outside.</dd><dt><span>valid_range :</span></dt><dd>[0, 11]</dd><dt><span>flag_masks :</span></dt><dd>[ 3  3  3 12 12]</dd><dt><span>flag_values :</span></dt><dd>[1 2 3 4 8]</dd><dt><span>flag_meanings :</span></dt><dd>soiling_light soiling_moderate soiling_heavy level_problematic level_bad</dd><dt><span>note_general :</span></dt><dd>222</dd><dt><span>note_clean :</span></dt><dd>testing notes</dd><dt><span>note_level :</span></dt><dd>test</dd></dl></div><div class='xr-var-data'><pre>array([[9.]], dtype=float32)</pre></div></li><li class='xr-var-item'><div class='xr-var-name'><span>maintenance_flag_gti</span></div><div class='xr-var-dims'>(maintenancetime, station)</div><div class='xr-var-dtype'>float32</div><div class='xr-var-preview xr-preview'>7.0</div><input id='attrs-044081c6-9437-4c42-9656-bd66b27daf7c' class='xr-var-attrs-in' type='checkbox' ><label for='attrs-044081c6-9437-4c42-9656-bd66b27daf7c' title='Show/Hide attributes'><svg class='icon xr-icon-file-text2'><use xlink:href='#icon-file-text2'></use></svg></label><input id='data-ac3c0319-8629-40ed-9eca-8e2bf7b9dcb3' class='xr-var-data-in' type='checkbox'><label for='data-ac3c0319-8629-40ed-9eca-8e2bf7b9dcb3' title='Show/Hide data repr'><svg class='icon xr-icon-database'><use xlink:href='#icon-database'></use></svg></label><div class='xr-var-attrs'><dl class='xr-attrs'><dt><span>standard_name :</span></dt><dd>quality_flag</dd><dt><span>long_name :</span></dt><dd>Maintenance quality control flags for secondary pyranometer</dd><dt><span>note :</span></dt><dd>Soiling describes subjectively the coverage of the pyranometer dome with dirt. The level flag is problematic if the bubble of the spirit level touches the reference ring, and bad if it is outside.</dd><dt><span>valid_range :</span></dt><dd>[0, 11]</dd><dt><span>flag_masks :</span></dt><dd>[ 3  3  3 12 12]</dd><dt><span>flag_values :</span></dt><dd>[1 2 3 4 8]</dd><dt><span>flag_meanings :</span></dt><dd>soiling_light soiling_moderate soiling_heavy level_problematic level_bad</dd><dt><span>note_general :</span></dt><dd>222</dd><dt><span>note_clean :</span></dt><dd></dd><dt><span>note_level :</span></dt><dd></dd></dl></div><div class='xr-var-data'><pre>array([[7.]], dtype=float32)</pre></div></li><li class='xr-var-item'><div class='xr-var-name'><span>szen</span></div><div class='xr-var-dims'>(time, station)</div><div class='xr-var-dtype'>float64</div><div class='xr-var-preview xr-preview'>42.51 42.51 42.51 ... 42.51 42.51</div><input id='attrs-919157ad-2937-45ee-bb67-513800b7f13b' class='xr-var-attrs-in' type='checkbox' ><label for='attrs-919157ad-2937-45ee-bb67-513800b7f13b' title='Show/Hide attributes'><svg class='icon xr-icon-file-text2'><use xlink:href='#icon-file-text2'></use></svg></label><input id='data-1bd1af64-8a59-4c5f-af43-c0ab093fa045' class='xr-var-data-in' type='checkbox'><label for='data-1bd1af64-8a59-4c5f-af43-c0ab093fa045' title='Show/Hide data repr'><svg class='icon xr-icon-database'><use xlink:href='#icon-database'></use></svg></label><div class='xr-var-attrs'><dl class='xr-attrs'><dt><span>standard_name :</span></dt><dd>solar_zenith_angle</dd><dt><span>units :</span></dt><dd>degree</dd><dt><span>valid_range :</span></dt><dd>[0, 36000]</dd></dl></div><div class='xr-var-data'><pre>array([[42.51131378],\n       [42.51144939],\n       [42.51158528],\n       [42.51172144],\n       [42.51185788],\n       [42.5119946 ],\n       [42.51213159],\n       [42.51226886],\n       [42.5124064 ]])</pre></div></li><li class='xr-var-item'><div class='xr-var-name'><span>sazi</span></div><div class='xr-var-dims'>(time, station)</div><div class='xr-var-dtype'>float64</div><div class='xr-var-preview xr-preview'>182.9 182.9 182.9 ... 182.9 182.9</div><input id='attrs-1816ba33-6ab4-4686-9857-eac4b4e0b97f' class='xr-var-attrs-in' type='checkbox' ><label for='attrs-1816ba33-6ab4-4686-9857-eac4b4e0b97f' title='Show/Hide attributes'><svg class='icon xr-icon-file-text2'><use xlink:href='#icon-file-text2'></use></svg></label><input id='data-7ffcb749-14a8-490c-9ced-08583d018852' class='xr-var-data-in' type='checkbox'><label for='data-7ffcb749-14a8-490c-9ced-08583d018852' title='Show/Hide data repr'><svg class='icon xr-icon-database'><use xlink:href='#icon-database'></use></svg></label><div class='xr-var-attrs'><dl class='xr-attrs'><dt><span>standard_name :</span></dt><dd>solar_azimuth_angle</dd><dt><span>units :</span></dt><dd>degree</dd><dt><span>valid_range :</span></dt><dd>[0, 36000]</dd></dl></div><div class='xr-var-data'><pre>array([[182.89457117],\n       [182.90066087],\n       [182.90675054],\n       [182.91284018],\n       [182.91892979],\n       [182.92501938],\n       [182.93110893],\n       [182.93719846],\n       [182.94328795]])</pre></div></li><li class='xr-var-item'><div class='xr-var-name'><span>esd</span></div><div class='xr-var-dims'>(station)</div><div class='xr-var-dtype'>float64</div><div class='xr-var-preview xr-preview'>1.01</div><input id='attrs-9b4f0233-13eb-4105-8887-e4ec3c11af5b' class='xr-var-attrs-in' type='checkbox' ><label for='attrs-9b4f0233-13eb-4105-8887-e4ec3c11af5b' title='Show/Hide attributes'><svg class='icon xr-icon-file-text2'><use xlink:href='#icon-file-text2'></use></svg></label><input id='data-1a8744bc-2b0f-48c0-a86d-b9aafbbe631f' class='xr-var-data-in' type='checkbox'><label for='data-1a8744bc-2b0f-48c0-a86d-b9aafbbe631f' title='Show/Hide data repr'><svg class='icon xr-icon-database'><use xlink:href='#icon-database'></use></svg></label><div class='xr-var-attrs'><dl class='xr-attrs'><dt><span>long_name :</span></dt><dd>Earth-sun distance</dd><dt><span>note :</span></dt><dd>Calculated based on Spencer (1971), as mean of its values over all time steps.</dd><dt><span>units :</span></dt><dd>ua</dd></dl></div><div class='xr-var-data'><pre>array([1.00959973])</pre></div></li><li class='xr-var-item'><div class='xr-var-name'><span>qc_flag_ghi</span></div><div class='xr-var-dims'>(time, station)</div><div class='xr-var-dtype'>uint8</div><div class='xr-var-preview xr-preview'>0 0 0 0 0 0 0 0 0</div><input id='attrs-abde3b63-8073-4149-b225-b372ca41a98d' class='xr-var-attrs-in' type='checkbox' ><label for='attrs-abde3b63-8073-4149-b225-b372ca41a98d' title='Show/Hide attributes'><svg class='icon xr-icon-file-text2'><use xlink:href='#icon-file-text2'></use></svg></label><input id='data-a68af257-b63b-4d76-806a-b5769a5dc2a5' class='xr-var-data-in' type='checkbox'><label for='data-a68af257-b63b-4d76-806a-b5769a5dc2a5' title='Show/Hide data repr'><svg class='icon xr-icon-database'><use xlink:href='#icon-database'></use></svg></label><div class='xr-var-attrs'><dl class='xr-attrs'><dt><span>standard_name :</span></dt><dd>quality_flag</dd><dt><span>valid_range :</span></dt><dd>[0, 127]</dd><dt><span>serial :</span></dt><dd>S12128.001</dd><dt><span>calibration_Cabsolute :</span></dt><dd>129366.10608020698</dd><dt><span>calibration_Ccoscorr :</span></dt><dd>1.45 - 3.04·x¹ + 5.59·x² - 3.01·x³</dd><dt><span>calibration_function :</span></dt><dd>flux (W m-2) = flux (V) * Cabsolute (W m-2 V-1) * Ccoscorr(mua)</dd><dt><span>ancillary_variables :</span></dt><dd>ghi</dd><dt><span>flag_masks :</span></dt><dd>[1, 2, 4, 8, 16, 32, 64]</dd><dt><span>flag_values :</span></dt><dd>[1, 2, 4, 8, 16, 32, 64]</dd><dt><span>flag_meanings :</span></dt><dd>below_physical_limit above_physical_limit below_rare_limit above_rare_limit comparison_to_low comparison_to_high quality_control_failed</dd></dl></div><div class='xr-var-data'><pre>array([[0],\n       [0],\n       [0],\n       [0],\n       [0],\n       [0],\n       [0],\n       [0],\n       [0]], dtype=uint8)</pre></div></li><li class='xr-var-item'><div class='xr-var-name'><span>qc_flag_gti</span></div><div class='xr-var-dims'>(time, station)</div><div class='xr-var-dtype'>uint8</div><div class='xr-var-preview xr-preview'>0 0 0 0 0 0 0 0 0</div><input id='attrs-12d79849-c472-476a-ab33-6a8fa9ed595a' class='xr-var-attrs-in' type='checkbox' ><label for='attrs-12d79849-c472-476a-ab33-6a8fa9ed595a' title='Show/Hide attributes'><svg class='icon xr-icon-file-text2'><use xlink:href='#icon-file-text2'></use></svg></label><input id='data-a644b684-571e-40e9-a730-645fb9785eeb' class='xr-var-data-in' type='checkbox'><label for='data-a644b684-571e-40e9-a730-645fb9785eeb' title='Show/Hide data repr'><svg class='icon xr-icon-database'><use xlink:href='#icon-database'></use></svg></label><div class='xr-var-attrs'><dl class='xr-attrs'><dt><span>standard_name :</span></dt><dd>quality_flag</dd><dt><span>valid_range :</span></dt><dd>[0, 127]</dd><dt><span>hangle :</span></dt><dd>0.0</dd><dt><span>vangle :</span></dt><dd>0.0</dd><dt><span>serial :</span></dt><dd>S12137.049</dd><dt><span>calibration_Cabsolute :</span></dt><dd>143266.47564469912</dd><dt><span>calibration_Ccoscorr :</span></dt><dd>1.45 - 3.04·x¹ + 5.59·x² - 3.01·x³</dd><dt><span>calibration_function :</span></dt><dd>flux (W m-2) = flux (V) * Cabsolute (W m-2 V-1) * Ccoscorr(mua)</dd><dt><span>ancillary_variables :</span></dt><dd>gti</dd><dt><span>flag_masks :</span></dt><dd>[1, 2, 4, 8, 16, 32, 64]</dd><dt><span>flag_values :</span></dt><dd>[1, 2, 4, 8, 16, 32, 64]</dd><dt><span>flag_meanings :</span></dt><dd>below_physical_limit above_physical_limit below_rare_limit above_rare_limit comparison_to_low comparison_to_high quality_control_failed</dd></dl></div><div class='xr-var-data'><pre>array([[0],\n       [0],\n       [0],\n       [0],\n       [0],\n       [0],\n       [0],\n       [0],\n       [0]], dtype=uint8)</pre></div></li></ul></div></li><li class='xr-section-item'><input id='section-c70f98da-e386-4166-8f04-35501bfa89f9' class='xr-section-summary-in' type='checkbox'  ><label for='section-c70f98da-e386-4166-8f04-35501bfa89f9' class='xr-section-summary' >Indexes: <span>(3)</span></label><div class='xr-section-inline-details'></div><div class='xr-section-details'><ul class='xr-var-list'><li class='xr-var-item'><div class='xr-index-name'><div>station</div></div><div class='xr-index-preview'>PandasIndex</div><div></div><input id='index-82e69cb5-4c52-42ee-896d-a1df822e3f3d' class='xr-index-data-in' type='checkbox'/><label for='index-82e69cb5-4c52-42ee-896d-a1df822e3f3d' title='Show/Hide index repr'><svg class='icon xr-icon-database'><use xlink:href='#icon-database'></use></svg></label><div class='xr-index-data'><pre>PandasIndex(Float64Index([1.0], dtype=&#x27;float64&#x27;, name=&#x27;station&#x27;))</pre></div></li><li class='xr-var-item'><div class='xr-index-name'><div>time</div></div><div class='xr-index-preview'>PandasIndex</div><div></div><input id='index-20a43a79-3811-44bc-af5a-d28e6aeba3e9' class='xr-index-data-in' type='checkbox'/><label for='index-20a43a79-3811-44bc-af5a-d28e6aeba3e9' title='Show/Hide index repr'><svg class='icon xr-icon-database'><use xlink:href='#icon-database'></use></svg></label><div class='xr-index-data'><pre>PandasIndex(DatetimeIndex([&#x27;2022-08-30 11:21:01&#x27;, &#x27;2022-08-30 11:21:02&#x27;,\n               &#x27;2022-08-30 11:21:03&#x27;, &#x27;2022-08-30 11:21:04&#x27;,\n               &#x27;2022-08-30 11:21:05&#x27;, &#x27;2022-08-30 11:21:06&#x27;,\n               &#x27;2022-08-30 11:21:07&#x27;, &#x27;2022-08-30 11:21:08&#x27;,\n               &#x27;2022-08-30 11:21:09&#x27;],\n              dtype=&#x27;datetime64[ns]&#x27;, name=&#x27;time&#x27;, freq=&#x27;S&#x27;))</pre></div></li><li class='xr-var-item'><div class='xr-index-name'><div>maintenancetime</div></div><div class='xr-index-preview'>PandasIndex</div><div></div><input id='index-b4d9cb02-4514-4a8b-8627-f24fb29e0d2f' class='xr-index-data-in' type='checkbox'/><label for='index-b4d9cb02-4514-4a8b-8627-f24fb29e0d2f' title='Show/Hide index repr'><svg class='icon xr-icon-database'><use xlink:href='#icon-database'></use></svg></label><div class='xr-index-data'><pre>PandasIndex(DatetimeIndex([&#x27;2023-05-08 16:09:06&#x27;], dtype=&#x27;datetime64[ns]&#x27;, name=&#x27;maintenancetime&#x27;, freq=None))</pre></div></li></ul></div></li><li class='xr-section-item'><input id='section-66f613fe-4fcc-436b-9210-af2737ea6b6c' class='xr-section-summary-in' type='checkbox'  ><label for='section-66f613fe-4fcc-436b-9210-af2737ea6b6c' class='xr-section-summary' >Attributes: <span>(31)</span></label><div class='xr-section-inline-details'></div><div class='xr-section-details'><dl class='xr-attrs'><dt><span>Conventions :</span></dt><dd>CF-1.10, ACDD-1.3</dd><dt><span>title :</span></dt><dd>TROPOS pyranometer network (PyrNet) observational data set</dd><dt><span>history :</span></dt><dd>2024-02-23T15:22:57: Generated level l1a  by pyrnet version 0.1.10+60.gc0e9399.dirty; 2024-02-23T15:22:59: Generated level l1b  by pyrnet version 0.1.10+60.gc0e9399.dirty; </dd><dt><span>institution :</span></dt><dd>Leibniz Institute for Tropospheric Research (TROPOS)</dd><dt><span>source :</span></dt><dd>TROPOS pyranometer network (PyrNet)</dd><dt><span>references :</span></dt><dd>https://doi.org/10.5194/amt-9-1153-2016</dd><dt><span>Department :</span></dt><dd>Remote Sensing of Atmospheric Processes</dd><dt><span>Department_team :</span></dt><dd>Clouds, Aerosol and Radiation</dd><dt><span>Address :</span></dt><dd>Permoser Str. 15, 04318 Leipzig, Germany</dd><dt><span>Contact_person :</span></dt><dd>Andreas Macke and the clouds, aerosol and radiation team of the remote sensing department, mailto:andreas.macke@tropos.de</dd><dt><span>Contributor_name :</span></dt><dd></dd><dt><span>Contributor_role :</span></dt><dd></dd><dt><span>Authors_software :</span></dt><dd>Hartwig Deneke, Jonas Witthuhn, mailto:deneke@tropos.de</dd><dt><span>Creator_name :</span></dt><dd></dd><dt><span>Project :</span></dt><dd></dd><dt><span>Standard_name_vocabulary :</span></dt><dd>CF Standard Name Table v81</dd><dt><span>License :</span></dt><dd>CC-BY-SA 3.0</dd><dt><span>TESTNOTE :</span></dt><dd>This is a test note.</dd><dt><span>processing_level :</span></dt><dd>l1b</dd><dt><span>product_version :</span></dt><dd>0.1.10+60.gc0e9399.dirty</dd><dt><span>date_created :</span></dt><dd>2024-02-23T15:22:59</dd><dt><span>geospatial_lat_min :</span></dt><dd>51.390210333333336</dd><dt><span>geospatial_lat_max :</span></dt><dd>51.390210333333336</dd><dt><span>geospatial_lat_units :</span></dt><dd>degN</dd><dt><span>geospatial_lon_min :</span></dt><dd>11.885252</dd><dt><span>geospatial_lon_max :</span></dt><dd>11.885252</dd><dt><span>geospatial_lon_units :</span></dt><dd>degE</dd><dt><span>time_coverage_start :</span></dt><dd>2022-08-30T11:21:01</dd><dt><span>time_coverage_end :</span></dt><dd>2022-08-30T11:21:09</dd><dt><span>time_coverage_duration :</span></dt><dd>P0DT0H0M8S</dd><dt><span>time_coverage_resolution :</span></dt><dd>P0DT0H0M1S</dd></dl></div></li></ul></div></div>"
     },
     "execution_count": 38,
     "metadata": {},
     "output_type": "execute_result"
    }
   ],
   "source": [
    "#|dropcode\n",
    "#|dropout\n",
    "fname = \"../../example_data/to_l1a_output.nc\"\n",
    "config = {\n",
    "    \"l1bfreq\":\"1s\",\n",
    "    \"campaign\": \"test\",\n",
    "    \"stripminutes\":0,\n",
    "    \"average_latlon\":True,\n",
    "    \"l1b_resample_stats\": [\"min\", \"max\", \"std\"],\n",
    "    \"radflux_varname\": [\"ghi\",\"gti\"]\n",
    "}\n",
    "\n",
    "ds_l1b = to_l1b(fname=fname, config=config, check_adc_sync=False)\n",
    "\n",
    "print(\"Processing fname:\")\n",
    "print(get_fname(ds_l1b, freq='1s', timevar=\"time\", config=config))\n",
    "\n",
    "ds_l1b.to_netcdf(\"../../example_data/to_l1b_output.nc\")\n",
    "ds_l1b"
   ]
  },
  {
   "cell_type": "code",
   "execution_count": 39,
   "metadata": {
    "collapsed": false,
    "ExecuteTime": {
     "end_time": "2024-02-23T15:23:00.781548100Z",
     "start_time": "2024-02-23T15:22:59.984886300Z"
    }
   },
   "outputs": [
    {
     "name": "stdout",
     "output_type": "stream",
     "text": [
      "CHECKING NetCDF FILE: ../../example_data/to_l1b_output.nc\n",
      "=====================\n",
      "Using CF Checker Version 4.1.0\n",
      "Checking against CF Version CF-1.8\n",
      "Using Standard Name Table Version 84 (2024-01-19T15:55:10Z)\n",
      "Using Area Type Table Version 11 (06 July 2023)\n",
      "Using Standardized Region Name Table Version 4 (18 December 2018)\n",
      "\n",
      "ERROR: (2.6.1): This netCDF file does not appear to contain CF Convention data.\n",
      "\n",
      "------------------\n",
      "Checking variable: station\n",
      "------------------\n",
      "WARN: (3): No standard_name or long_name attribute specified\n",
      "WARN: (3.1): units attribute should be present\n",
      "\n",
      "------------------\n",
      "Checking variable: time\n",
      "------------------\n",
      "WARN: (3): No standard_name or long_name attribute specified\n",
      "\n",
      "------------------\n",
      "Checking variable: ghi\n",
      "------------------\n",
      "ERROR: (8.1): must be of type byte, short or int\n",
      "\n",
      "------------------\n",
      "Checking variable: gti\n",
      "------------------\n",
      "ERROR: (8.1): must be of type byte, short or int\n",
      "\n",
      "------------------\n",
      "Checking variable: ta\n",
      "------------------\n",
      "ERROR: (8.1): must be of type byte, short or int\n",
      "\n",
      "------------------\n",
      "Checking variable: rh\n",
      "------------------\n",
      "ERROR: (8.1): must be of type byte, short or int\n",
      "\n",
      "------------------\n",
      "Checking variable: battery_voltage\n",
      "------------------\n",
      "ERROR: (3.3): Invalid standard_name: battery_voltage\n",
      "ERROR: (8.1): must be of type byte, short or int\n",
      "\n",
      "------------------\n",
      "Checking variable: gti_min\n",
      "------------------\n",
      "ERROR: (3.3): Invalid standard_name: min_downwelling_shortwave_flux_in_air\n",
      "ERROR: (8.1): must be of type byte, short or int\n",
      "\n",
      "------------------\n",
      "Checking variable: ghi_min\n",
      "------------------\n",
      "ERROR: (3.3): Invalid standard_name: min_downwelling_shortwave_flux_in_air\n",
      "ERROR: (8.1): must be of type byte, short or int\n",
      "\n",
      "------------------\n",
      "Checking variable: gti_max\n",
      "------------------\n",
      "ERROR: (3.3): Invalid standard_name: max_downwelling_shortwave_flux_in_air\n",
      "ERROR: (8.1): must be of type byte, short or int\n",
      "\n",
      "------------------\n",
      "Checking variable: ghi_max\n",
      "------------------\n",
      "ERROR: (3.3): Invalid standard_name: max_downwelling_shortwave_flux_in_air\n",
      "ERROR: (8.1): must be of type byte, short or int\n",
      "\n",
      "------------------\n",
      "Checking variable: gti_std\n",
      "------------------\n",
      "ERROR: (3.3): Invalid standard_name: std_downwelling_shortwave_flux_in_air\n",
      "ERROR: (8.1): must be of type byte, short or int\n",
      "\n",
      "------------------\n",
      "Checking variable: ghi_std\n",
      "------------------\n",
      "ERROR: (3.3): Invalid standard_name: std_downwelling_shortwave_flux_in_air\n",
      "ERROR: (8.1): must be of type byte, short or int\n",
      "\n",
      "------------------\n",
      "Checking variable: lat\n",
      "------------------\n",
      "\n",
      "------------------\n",
      "Checking variable: lon\n",
      "------------------\n",
      "\n",
      "------------------\n",
      "Checking variable: maintenance_flag_ghi\n",
      "------------------\n",
      "ERROR: Attribute flag_values of incorrect type (expecting 'Data Variable' type, got 'Numeric' type)\n",
      "\n",
      "------------------\n",
      "Checking variable: maintenance_flag_gti\n",
      "------------------\n",
      "ERROR: Attribute flag_values of incorrect type (expecting 'Data Variable' type, got 'Numeric' type)\n",
      "\n",
      "------------------\n",
      "Checking variable: maintenancetime\n",
      "------------------\n",
      "WARN: (3): No standard_name or long_name attribute specified\n",
      "\n",
      "------------------\n",
      "Checking variable: szen\n",
      "------------------\n",
      "ERROR: (8.1): must be of type byte, short or int\n",
      "\n",
      "------------------\n",
      "Checking variable: sazi\n",
      "------------------\n",
      "ERROR: (8.1): must be of type byte, short or int\n",
      "\n",
      "------------------\n",
      "Checking variable: esd\n",
      "------------------\n",
      "\n",
      "------------------\n",
      "Checking variable: qc_flag_ghi\n",
      "------------------\n",
      "ERROR: Attribute flag_masks of incorrect type (expecting 'Data Variable' type, got 'Numeric' type)\n",
      "ERROR: Attribute flag_values of incorrect type (expecting 'Data Variable' type, got 'Numeric' type)\n",
      "\n",
      "------------------\n",
      "Checking variable: qc_flag_gti\n",
      "------------------\n",
      "ERROR: Attribute flag_masks of incorrect type (expecting 'Data Variable' type, got 'Numeric' type)\n",
      "ERROR: Attribute flag_values of incorrect type (expecting 'Data Variable' type, got 'Numeric' type)\n",
      "\n",
      "ERRORS detected: 27\n",
      "WARNINGS given: 4\n",
      "INFORMATION messages: 0\n"
     ]
    }
   ],
   "source": [
    "import cfchecker.cfchecks\n",
    "init = cfchecker.cfchecks.CFChecker()\n",
    "res = init.checker(\"../../example_data/to_l1b_output.nc\")"
   ]
  },
  {
   "cell_type": "code",
   "execution_count": 40,
   "metadata": {
    "collapsed": false,
    "ExecuteTime": {
     "end_time": "2024-02-23T15:23:00.785098500Z",
     "start_time": "2024-02-23T15:23:00.458347600Z"
    }
   },
   "outputs": [
    {
     "data": {
      "text/plain": "<class 'netCDF4._netCDF4.Dataset'>\nroot group (NETCDF4 data model, file format HDF5):\n    Conventions: CF-1.10, ACDD-1.3\n    title: TROPOS pyranometer network (PyrNet) observational data set\n    history: 2024-02-23T15:22:57: Generated level l1a  by pyrnet version 0.1.10+60.gc0e9399.dirty; 2024-02-23T15:22:59: Generated level l1b  by pyrnet version 0.1.10+60.gc0e9399.dirty; \n    institution: Leibniz Institute for Tropospheric Research (TROPOS)\n    source: TROPOS pyranometer network (PyrNet)\n    references: https://doi.org/10.5194/amt-9-1153-2016\n    Department: Remote Sensing of Atmospheric Processes\n    Department_team: Clouds, Aerosol and Radiation\n    Address: Permoser Str. 15, 04318 Leipzig, Germany\n    Contact_person: Andreas Macke and the clouds, aerosol and radiation team of the remote sensing department, mailto:andreas.macke@tropos.de\n    Contributor_name: \n    Contributor_role: \n    Authors_software: Hartwig Deneke, Jonas Witthuhn, mailto:deneke@tropos.de\n    Creator_name: \n    Project: \n    Standard_name_vocabulary: CF Standard Name Table v81\n    License: CC-BY-SA 3.0\n    TESTNOTE: This is a test note.\n    processing_level: l1b\n    product_version: 0.1.10+60.gc0e9399.dirty\n    date_created: 2024-02-23T15:22:59\n    geospatial_lat_min: 51.390210333333336\n    geospatial_lat_max: 51.390210333333336\n    geospatial_lat_units: degN\n    geospatial_lon_min: 11.885252\n    geospatial_lon_max: 11.885252\n    geospatial_lon_units: degE\n    time_coverage_start: 2022-08-30T11:21:01\n    time_coverage_end: 2022-08-30T11:21:09\n    time_coverage_duration: P0DT0H0M8S\n    time_coverage_resolution: P0DT0H0M1S\n    dimensions(sizes): station(1), time(9), maintenancetime(1)\n    variables(dimensions): float64 station(station), float64 time(time), uint16 ghi(time, station), uint16 gti(time, station), uint16 ta(time, station), uint16 rh(time, station), uint16 battery_voltage(time, station), uint16 gti_min(time, station), uint16 ghi_min(time, station), uint16 gti_max(time, station), uint16 ghi_max(time, station), uint16 gti_std(time, station), uint16 ghi_std(time, station), float64 lat(station), float64 lon(station), uint8 maintenance_flag_ghi(maintenancetime, station), uint8 maintenance_flag_gti(maintenancetime, station), float64 maintenancetime(maintenancetime), uint16 szen(time, station), uint16 sazi(time, station), float64 esd(station), uint8 qc_flag_ghi(time, station), uint8 qc_flag_gti(time, station)\n    groups: "
     },
     "execution_count": 40,
     "metadata": {},
     "output_type": "execute_result"
    }
   ],
   "source": [
    "#|dropout\n",
    "import netCDF4\n",
    "netCDF4.Dataset(\"../../example_data/to_l1b_output.nc\",'r')"
   ]
  },
  {
   "cell_type": "markdown",
   "source": [
    "## Merging\n",
    "Merging datasets with xarray default merge overwrites or drops certain variable attributes (e.g., serial number, calibration factor). The methods here are specialized to merge PyrNet datasets and attributes.   "
   ],
   "metadata": {
    "collapsed": false
   }
  },
  {
   "cell_type": "code",
   "execution_count": 41,
   "outputs": [],
   "source": [
    "# make 3 artificial datasets for testing\n",
    "# original ds_l1b\n",
    "ds1 = ds_l1b.copy()\n",
    "ds1.attrs[\"site\"] = \"testsite1\"\n",
    "# ds_l1b but new times\n",
    "ds2 = ds1.copy()\n",
    "ds2 = ds2.assign_coords({\n",
    "    \"time\": (\"time\", ds2.time.values+(ds2.time.values[-1]-ds2.time.values[0]))\n",
    "})\n",
    "# ds_l1b, same time but other station\n",
    "ds3 = ds1.copy()\n",
    "ds3 = ds3.assign_coords({\n",
    "    \"station\": (\"station\", [2])\n",
    "})\n",
    "ds3.attrs[\"site\"] = \"testsite2\"\n",
    "for var in ds3:\n",
    "    if \"ghi\" in var:\n",
    "        ds3[var].attrs[\"serial\"] = \"test_ghi_ds3\"\n",
    "    if \"gti\" in var:\n",
    "        ds3[var].attrs[\"serial\"] = \"test_gti_ds3\"\n",
    "\n",
    "dslist = [ds1, ds3, ds2]\n"
   ],
   "metadata": {
    "collapsed": false,
    "ExecuteTime": {
     "end_time": "2024-02-23T15:23:00.785098500Z",
     "start_time": "2024-02-23T15:23:00.500310700Z"
    }
   }
  },
  {
   "cell_type": "markdown",
   "source": [
    "### Sort by station coordinates\n",
    "Before merging, sort them by station"
   ],
   "metadata": {
    "collapsed": false
   }
  },
  {
   "cell_type": "code",
   "execution_count": 42,
   "outputs": [],
   "source": [
    "#|export\n",
    "#|dropcode\n",
    "def _sort_by_station(dslist):\n",
    "    # sort dslist for first station\n",
    "    station0 = []\n",
    "    for i in range(len(dslist)):\n",
    "        station0.append(int(dslist[i][\"station\"].values[0]))\n",
    "    isort = np.argsort(station0).ravel()\n",
    "    dslist = [dslist[i] for i in isort]\n",
    "    return dslist\n"
   ],
   "metadata": {
    "collapsed": false,
    "ExecuteTime": {
     "end_time": "2024-02-23T15:23:00.793108900Z",
     "start_time": "2024-02-23T15:23:00.538951800Z"
    }
   }
  },
  {
   "cell_type": "code",
   "execution_count": 43,
   "outputs": [
    {
     "name": "stdout",
     "output_type": "stream",
     "text": [
      "[1.]\n",
      "[1.]\n",
      "[2]\n"
     ]
    },
    {
     "data": {
      "text/plain": "[None, None, None]"
     },
     "execution_count": 43,
     "metadata": {},
     "output_type": "execute_result"
    }
   ],
   "source": [
    "#|dropout\n",
    "dslist = _sort_by_station(dslist)\n",
    "[print(dslist[i].station.values) for i in range(len(dslist))]"
   ],
   "metadata": {
    "collapsed": false,
    "ExecuteTime": {
     "end_time": "2024-02-23T15:23:00.794112500Z",
     "start_time": "2024-02-23T15:23:00.550247100Z"
    }
   }
  },
  {
   "cell_type": "markdown",
   "source": [
    "### Merge global and variable attributes\n",
    "Some attributes are tied to a specific statin (e.g., calibration factor, serial number). These attributes are converted to a list and merged with respect to the station dimension."
   ],
   "metadata": {
    "collapsed": false
   }
  },
  {
   "cell_type": "code",
   "execution_count": 44,
   "outputs": [],
   "source": [
    "#|export\n",
    "#|dropcode\n",
    "def _merge_gattrs_by_station(dslist, merge_gattrs):\n",
    "    merged_gattrs = {}\n",
    "    gattrs_idx = {}\n",
    "    for i in range(len(dslist)):\n",
    "        dst = dslist[i]\n",
    "        for attr in dst.attrs:\n",
    "            if attr not in merge_gattrs:\n",
    "                continue\n",
    "            # save station index, as attributes are related to station dimension\n",
    "            attridx = list(dst.station.values.astype(int))\n",
    "            attrval = list(pyrnet.utils.make_iter(dst.attrs[attr]))\n",
    "            # merge attributes, overwrite values of same station\n",
    "            if attr in merged_gattrs:\n",
    "                mattrval = merged_gattrs[attr] + attrval\n",
    "                mattridx = gattrs_idx[attr] + attridx\n",
    "                _,idx = np.unique(mattridx, return_index=True)\n",
    "                attridx = [mattridx[i] for i in idx]\n",
    "                attrval = [mattrval[i] for i in idx]\n",
    "            gattrs_idx = assoc_in(\n",
    "                gattrs_idx, [attr], attridx\n",
    "            )\n",
    "            merged_gattrs = assoc_in(\n",
    "                merged_gattrs, [attr], attrval\n",
    "            )\n",
    "    return merged_gattrs\n",
    "\n",
    "def _merge_vattrs_by_station(dslist, merge_attrs):\n",
    "    # merge variable attrs:\n",
    "    merge_attrs_fill_value = [merge_attrs[key] for key in merge_attrs] \n",
    "    merge_attrs = [key for key in merge_attrs]\n",
    "    \n",
    "    # add missing gti variables\n",
    "    for i in range(len(dslist)):\n",
    "        dst = dslist[i].copy()\n",
    "        if \"gti\" in dst:\n",
    "            continue\n",
    "        ghi_vars = [var for var in dst if \"ghi\" in var]\n",
    "        gti_vars = [var.replace(\"ghi\",\"gti\") for var in ghi_vars]\n",
    "        for ghi_var, gti_var in zip(ghi_vars,gti_vars):\n",
    "            dst = dst.assign({\n",
    "                gti_var: (dst[ghi_var].dims, np.full(dst[ghi_var].shape, np.nan))\n",
    "            })\n",
    "            for j,attr in enumerate(merge_attrs):\n",
    "                if \"note\" in attr:\n",
    "                    continue\n",
    "                fill_value = dst.station.size * [merge_attrs_fill_value[j]]\n",
    "                dst[gti_var].attrs.update({\n",
    "                    attr: fill_value\n",
    "                })\n",
    "        dslist[i] = dst\n",
    "    \n",
    "    merged_attrs = {}\n",
    "    mattrs_idx = {}\n",
    "    for i in range(len(dslist)):\n",
    "        dst = dslist[i]\n",
    "        for var in dst:\n",
    "            for attr in dst[var].attrs:\n",
    "                if attr not in merge_attrs:\n",
    "                    continue\n",
    "                # save station index, as attributes are related to station dimension\n",
    "                attridx = list(dst.station.values.astype(int))\n",
    "                attrval = list(pyrnet.utils.make_iter(dst[var].attrs[attr]))\n",
    "                # merge attributes, overwrite values of same station\n",
    "                if var not in merged_attrs:\n",
    "                    merged_attrs.update({var:{}})\n",
    "                    mattrs_idx.update({var:{}})\n",
    "                if attr in merged_attrs[var]:\n",
    "                    mattrval = merged_attrs[var][attr] + attrval\n",
    "                    mattridx = mattrs_idx[var][attr] + attridx\n",
    "                    _,idx = np.unique(mattridx, return_index=True)\n",
    "                    attridx = [mattridx[i] for i in idx]\n",
    "                    attrval = [mattrval[i] for i in idx]\n",
    "                mattrs_idx = assoc_in(\n",
    "                    mattrs_idx, [var,attr], attridx\n",
    "                )\n",
    "                merged_attrs = assoc_in(\n",
    "                    merged_attrs, [var,attr], attrval\n",
    "                )\n",
    "    return merged_attrs\n",
    "    "
   ],
   "metadata": {
    "collapsed": false,
    "ExecuteTime": {
     "end_time": "2024-02-23T15:23:00.814970500Z",
     "start_time": "2024-02-23T15:23:00.578287600Z"
    }
   }
  },
  {
   "cell_type": "code",
   "execution_count": 45,
   "outputs": [
    {
     "name": "stdout",
     "output_type": "stream",
     "text": [
      "{'site': ['testsite1', 'testsite2']}\n",
      "{'ghi': {'serial': ['S12128.001', 'test_ghi_ds3']}, 'gti': {'serial': ['S12137.049', 'test_gti_ds3']}, 'gti_min': {'serial': ['S12137.049', 'test_gti_ds3']}, 'ghi_min': {'serial': ['S12128.001', 'test_ghi_ds3']}, 'gti_max': {'serial': ['S12137.049', 'test_gti_ds3']}, 'ghi_max': {'serial': ['S12128.001', 'test_ghi_ds3']}, 'gti_std': {'serial': ['S12137.049', 'test_gti_ds3']}, 'ghi_std': {'serial': ['S12128.001', 'test_ghi_ds3']}, 'maintenance_flag_ghi': {'note_general': ['222', '222'], 'serial': ['test_ghi_ds3']}, 'maintenance_flag_gti': {'note_general': ['222', '222'], 'serial': ['test_gti_ds3']}, 'qc_flag_ghi': {'serial': ['S12128.001', 'test_ghi_ds3']}, 'qc_flag_gti': {'serial': ['S12137.049', 'test_gti_ds3']}}\n"
     ]
    }
   ],
   "source": [
    "#|dropout\n",
    "merged_gattrs = _merge_gattrs_by_station(dslist, merge_gattrs=[\"site\"])\n",
    "print(merged_gattrs)\n",
    "merged_attrs = _merge_vattrs_by_station(dslist, merge_attrs={\"serial\":\"\", \"note_general\":\"\"})\n",
    "print(merged_attrs)"
   ],
   "metadata": {
    "collapsed": false,
    "ExecuteTime": {
     "end_time": "2024-02-23T15:23:00.851012Z",
     "start_time": "2024-02-23T15:23:00.598845200Z"
    }
   }
  },
  {
   "cell_type": "markdown",
   "source": [
    "### Dataset unification\n",
    "Reindex all kinds of dimension to unify datasets."
   ],
   "metadata": {
    "collapsed": false
   }
  },
  {
   "cell_type": "code",
   "execution_count": 46,
   "outputs": [],
   "source": [
    "#|export\n",
    "#|dropcode\n",
    "def _reindex_time(dslist, freq='1s', timevar='time'):\n",
    "    dates = []\n",
    "    for i in range(len(dslist)):\n",
    "        # reindex to full day\n",
    "        dates.append(dslist[i][timevar].values[0].astype(\"datetime64[D]\"))\n",
    "    udates = np.unique(dates)\n",
    "    \n",
    "    timeidx = pd.DatetimeIndex([])\n",
    "    for date in udates:\n",
    "        timeidx = timeidx.append(pd.date_range(\n",
    "            date,\n",
    "            date + np.timedelta64(1, 'D'),\n",
    "            freq=freq,\n",
    "            inclusive='left'\n",
    "        ))\n",
    "    \n",
    "    for i in range(len(dslist)):\n",
    "        dslist[i] = dslist[i].reindex(\n",
    "            {timevar:timeidx},\n",
    "            method='nearest',\n",
    "            tolerance=np.timedelta64(1, 'ms')\n",
    "        )\n",
    "    return dslist\n",
    "\n",
    "def _reindex_station(dslist):\n",
    "    stations = []\n",
    "    for i in range(len(dslist)):\n",
    "        # reindex to full day\n",
    "        stations += list(dslist[i].station.values)\n",
    "    ustations = np.unique(stations)\n",
    "    for i in range(len(dslist)):\n",
    "        dslist[i] = dslist[i].reindex(\n",
    "            {\"station\":ustations},\n",
    "            method='nearest',\n",
    "            tolerance=1e-6\n",
    "        )\n",
    "    return dslist\n",
    "\n",
    "def _reindex_maintenancetime(dslist):\n",
    "    mtimes = []\n",
    "    for i in range(len(dslist)):\n",
    "        # reindex to full day\n",
    "        mtimes += list(dslist[i].maintenancetime.values)\n",
    "    umtimes = np.unique(mtimes)\n",
    "    for i in range(len(dslist)):\n",
    "        dslist[i] = dslist[i].reindex(\n",
    "            {\"maintenancetime\":umtimes},\n",
    "            method='nearest',\n",
    "            tolerance=np.timedelta64(1, 'ms')\n",
    "        )\n",
    "    return dslist"
   ],
   "metadata": {
    "collapsed": false,
    "ExecuteTime": {
     "end_time": "2024-02-23T15:23:00.851012Z",
     "start_time": "2024-02-23T15:23:00.615887Z"
    }
   }
  },
  {
   "cell_type": "markdown",
   "source": [
    "### Snap Maintenance time coordinate\n",
    "The Maintenancetime coordinate is given at report time, which is actually somewhere after the maintenance. Assuming the report takes place on same or next day, we snap the coordinate to matching data gaps of 10-120min. "
   ],
   "metadata": {
    "collapsed": false
   }
  },
  {
   "cell_type": "code",
   "execution_count": 47,
   "outputs": [],
   "source": [
    "#|export\n",
    "#|dropcode\n",
    "def _maintenancetime_snap_to_gap(ds):\n",
    "    old_mtimes = ds.maintenancetime.values\n",
    "    new_mtimes = old_mtimes.copy()\n",
    "    for i, mtime in enumerate(old_mtimes):\n",
    "        dtime = mtime.astype(\"datetime64[D]\") - ds.time.values[0].astype(\"datetime64[D]\")\n",
    "        # consider only same or next day maintenance times for snapping\n",
    "        if (dtime > np.timedelta64(1,\"D\") or\n",
    "            dtime < np.timedelta64(0,\"D\")):\n",
    "            continue\n",
    "        # lookup station\n",
    "        istation = np.argwhere(~np.isnan(\n",
    "            ds.maintenance_flag_ghi.values[i,:]\n",
    "        ))[0][0]\n",
    "        # identify gaps and gap length\n",
    "        igap = np.argwhere(np.isnan(\n",
    "            ds.ghi.isel(station=istation).values\n",
    "        )).ravel()\n",
    "        digap = np.diff(igap)\n",
    "        istartgaps = np.insert(digap,0,0)!=1\n",
    "        iendgaps = np.insert(digap,-1,0)!=1\n",
    "        # checkout only gaps of certain length\n",
    "        gaptimes = []\n",
    "        gapidxs = []\n",
    "        for istart,iend in zip(igap[istartgaps],igap[iendgaps]):\n",
    "            gaptime = ds.time.values[iend] - ds.time.values[istart]\n",
    "            # assume maintenance takes at least 10 min and maximum 2h\n",
    "            if (np.timedelta64(10, \"m\") < gaptime < np.timedelta64(2, 'h')):\n",
    "                gapidxs.append(istart)\n",
    "                gaptimes.append(ds.time.values[istart])\n",
    "        if len(gaptimes)==0:\n",
    "            continue\n",
    "        # snap maintenance time to the closest matching gap\n",
    "        new_mtimes[i] = gaptimes[np.argmin([mtime-gtime for gtime in gaptimes])]\n",
    "    # update maintenancetime coordinate\n",
    "    ds = ds.assign_coords({\n",
    "        \"maintenancetime\": (\"maintenancetime\", new_mtimes)\n",
    "    })\n",
    "    return ds"
   ],
   "metadata": {
    "collapsed": false,
    "ExecuteTime": {
     "end_time": "2024-02-23T15:23:00.852522Z",
     "start_time": "2024-02-23T15:23:00.630518Z"
    }
   }
  },
  {
   "cell_type": "markdown",
   "source": [
    "### Merging processed datasets"
   ],
   "metadata": {
    "collapsed": false
   }
  },
  {
   "cell_type": "code",
   "execution_count": 48,
   "outputs": [],
   "source": [
    "#|export\n",
    "#|dropcode\n",
    "def merge_l1b(\n",
    "        dslist,\n",
    "        freq='1s',\n",
    "        timevar='time',\n",
    "        merge_gattrs=[\"site\"],\n",
    "        merge_attrs={\n",
    "            \"calibration_Cabsolute\":0,\n",
    "            \"serial\":\"\",\n",
    "            \"vangle\":0,\n",
    "            \"hangle\":0,\n",
    "            \"note_general\":\"\",\n",
    "            \"note_clean\":\"\",\n",
    "            \"note_level\":\"\"\n",
    "        }\n",
    "):\n",
    "    # sort by first station coordinate\n",
    "    dslist = _sort_by_station(dslist)\n",
    "    \n",
    "    ################################################################\n",
    "    ## Merge Attributes\n",
    "    # have to merge attributes before reindexing, \n",
    "    # as attributes are tied the specific stations in the current datasets\n",
    "    merged_gattrs = _merge_gattrs_by_station(dslist, merge_gattrs=merge_gattrs)\n",
    "    merged_attrs = _merge_vattrs_by_station(dslist, merge_attrs=merge_attrs)\n",
    "    \n",
    "    #####################################################################\n",
    "    ## Unify datasets\n",
    "    # reindex timevar:\n",
    "    dslist = _reindex_time(dslist, freq=freq, timevar=timevar)\n",
    "    # reindex station var:\n",
    "    dslist = _reindex_station(dslist)\n",
    "    # reindex maintenancetime var:\n",
    "    dslist = _reindex_maintenancetime(dslist)\n",
    "    \n",
    "    #####################################################################\n",
    "    ## Merge datasets\n",
    "    # merge vars with (time,station) dims\n",
    "    for i in range(len(dslist)):\n",
    "        dst = dslist[i].copy()\n",
    "        dst = dst.drop_vars(\n",
    "            [var for var in dst if not (timevar in dst[var].dims and \"station\" in dst[var].dims)]\n",
    "        )\n",
    "        if i==0:\n",
    "            ds_time_station = dst.copy()\n",
    "        else:\n",
    "            # handle overlapping values by dropping from the first (override from second)\n",
    "            for var in dst:\n",
    "                overlap = (~np.isnan(dst[var].values))*(~np.isnan(dst[var].values))\n",
    "                ds_time_station[var].values[overlap] = np.nan\n",
    "            ds_time_station = ds_time_station.merge(dst)\n",
    "            \n",
    "    # merge vars with (maintenancetime, station) dims\n",
    "    for i in range(len(dslist)):\n",
    "        dst = dslist[i].copy()\n",
    "        dst = dst.drop_vars(\n",
    "            [var for var in dst if not (\"maintenancetime\" in dst[var].dims and \"station\" in dst[var].dims)]\n",
    "        )\n",
    "        if i==0:\n",
    "            ds_mtime_station = dst.copy()\n",
    "        else:\n",
    "            for var in dst:\n",
    "                overlap = (~np.isnan(dst[var].values))*(~np.isnan(dst[var].values))\n",
    "                ds_mtime_station[var].values[overlap] = np.nan\n",
    "            ds_mtime_station = ds_mtime_station.merge(dst)\n",
    "    \n",
    "    # merge vars with (time,station) dims\n",
    "    for i in range(len(dslist)):\n",
    "        dst = dslist[i].copy()\n",
    "        dst = dst.drop_vars(\n",
    "            [var for var in dst if not (len(dst[var].dims)==1 and \"station\" in dst[var].dims)]\n",
    "        )\n",
    "        if i==0:\n",
    "            ds_station = dst.copy()\n",
    "        else:\n",
    "            try:\n",
    "                # works there is no overlap with non null values ( new stations )\n",
    "                ds_station = ds_station.merge(dst, compat='no_conflicts')\n",
    "            except:\n",
    "                # override if station already exists\n",
    "                ds_station = ds_station.merge(dst, compat='override')\n",
    "            #ds_station = xr.concat((ds_station, dst), dim='station')\n",
    "    \n",
    "    ds_merged = xr.merge([ds_time_station,ds_station,ds_mtime_station])\n",
    "    \n",
    "    ###########################################################################\n",
    "    ## add merged attrs\n",
    "    # write new history\n",
    "    now = pd.to_datetime(np.datetime64(\"now\"))\n",
    "    ds_merged.attrs[\"history\"] = f\"{now.isoformat()}: Merged level l1b by pyrnet version {pyrnet_version}; \"\n",
    "    \n",
    "    # save merged global attrs\n",
    "    for attr in ds_merged.attrs:\n",
    "        if attr not in merge_gattrs:\n",
    "            continue\n",
    "        ds_merged.attrs[attr] = merged_gattrs[attr]\n",
    "    \n",
    "    # save merged variable attrs\n",
    "    for var in ds_merged:\n",
    "        for attr in ds_merged[var].attrs:\n",
    "            if attr not in merge_attrs:\n",
    "                continue\n",
    "            ds_merged[var].attrs[attr] = merged_attrs[var][attr]\n",
    "  \n",
    "    #############################################################################\n",
    "    ## maintenance time snap to data gap\n",
    "    # check maintenance time per station\n",
    "    # if its in time range, scan for gaps >10min and snap closest maintenance time to this gaps\n",
    "    ds_merged = _maintenancetime_snap_to_gap(ds_merged)\n",
    "    \n",
    "    # add encoding\n",
    "    ds_merged = add_encoding(ds_merged)\n",
    "    return ds_merged\n"
   ],
   "metadata": {
    "collapsed": false,
    "ExecuteTime": {
     "end_time": "2024-02-23T15:23:00.852522Z",
     "start_time": "2024-02-23T15:23:00.653890200Z"
    }
   }
  },
  {
   "cell_type": "markdown",
   "source": [
    "### Test merging"
   ],
   "metadata": {
    "collapsed": false
   }
  },
  {
   "cell_type": "code",
   "execution_count": 49,
   "outputs": [
    {
     "data": {
      "text/plain": "<xarray.Dataset>\nDimensions:               (station: 1, time: 9, maintenancetime: 1)\nCoordinates:\n  * station               (station) float64 1.0\n  * time                  (time) datetime64[ns] 2022-08-30T11:21:01 ... 2022-...\n  * maintenancetime       (maintenancetime) datetime64[ns] 2023-05-08T16:09:06\nData variables: (12/20)\n    ghi                   (time, station) float64 280.9 280.9 ... 280.9 280.9\n    gti                   (time, station) float64 289.0 289.0 ... 288.6 289.0\n    ta                    (time, station) float32 294.8 294.7 ... 294.7 294.8\n    rh                    (time, station) float32 0.6253 0.6248 ... 0.628 0.6253\n    battery_voltage       (time, station) float32 6.443 6.445 ... 6.449 6.443\n    gti_min               (time, station) float64 288.6 288.6 ... 288.6 288.6\n    ...                    ...\n    qc_flag_gti           (time, station) float64 0.0 0.0 0.0 ... 0.0 0.0 0.0\n    lat                   (station) float64 51.39\n    lon                   (station) float64 11.89\n    esd                   (station) float64 1.01\n    maintenance_flag_ghi  (maintenancetime, station) float32 9.0\n    maintenance_flag_gti  (maintenancetime, station) float32 7.0\nAttributes: (12/32)\n    Conventions:               CF-1.10, ACDD-1.3\n    title:                     TROPOS pyranometer network (PyrNet) observatio...\n    history:                   2024-02-23T15:23:01: Merged level l1b by pyrne...\n    institution:               Leibniz Institute for Tropospheric Research (T...\n    source:                    TROPOS pyranometer network (PyrNet)\n    references:                https://doi.org/10.5194/amt-9-1153-2016\n    ...                        ...\n    geospatial_lon_units:      degE\n    time_coverage_start:       2022-08-30T11:21:01\n    time_coverage_end:         2022-08-30T11:21:09\n    time_coverage_duration:    P0DT0H0M8S\n    time_coverage_resolution:  P0DT0H0M1S\n    site:                      ['testsite1', 'testsite2']",
      "text/html": "<div><svg style=\"position: absolute; width: 0; height: 0; overflow: hidden\">\n<defs>\n<symbol id=\"icon-database\" viewBox=\"0 0 32 32\">\n<path d=\"M16 0c-8.837 0-16 2.239-16 5v4c0 2.761 7.163 5 16 5s16-2.239 16-5v-4c0-2.761-7.163-5-16-5z\"></path>\n<path d=\"M16 17c-8.837 0-16-2.239-16-5v6c0 2.761 7.163 5 16 5s16-2.239 16-5v-6c0 2.761-7.163 5-16 5z\"></path>\n<path d=\"M16 26c-8.837 0-16-2.239-16-5v6c0 2.761 7.163 5 16 5s16-2.239 16-5v-6c0 2.761-7.163 5-16 5z\"></path>\n</symbol>\n<symbol id=\"icon-file-text2\" viewBox=\"0 0 32 32\">\n<path d=\"M28.681 7.159c-0.694-0.947-1.662-2.053-2.724-3.116s-2.169-2.030-3.116-2.724c-1.612-1.182-2.393-1.319-2.841-1.319h-15.5c-1.378 0-2.5 1.121-2.5 2.5v27c0 1.378 1.122 2.5 2.5 2.5h23c1.378 0 2.5-1.122 2.5-2.5v-19.5c0-0.448-0.137-1.23-1.319-2.841zM24.543 5.457c0.959 0.959 1.712 1.825 2.268 2.543h-4.811v-4.811c0.718 0.556 1.584 1.309 2.543 2.268zM28 29.5c0 0.271-0.229 0.5-0.5 0.5h-23c-0.271 0-0.5-0.229-0.5-0.5v-27c0-0.271 0.229-0.5 0.5-0.5 0 0 15.499-0 15.5 0v7c0 0.552 0.448 1 1 1h7v19.5z\"></path>\n<path d=\"M23 26h-14c-0.552 0-1-0.448-1-1s0.448-1 1-1h14c0.552 0 1 0.448 1 1s-0.448 1-1 1z\"></path>\n<path d=\"M23 22h-14c-0.552 0-1-0.448-1-1s0.448-1 1-1h14c0.552 0 1 0.448 1 1s-0.448 1-1 1z\"></path>\n<path d=\"M23 18h-14c-0.552 0-1-0.448-1-1s0.448-1 1-1h14c0.552 0 1 0.448 1 1s-0.448 1-1 1z\"></path>\n</symbol>\n</defs>\n</svg>\n<style>/* CSS stylesheet for displaying xarray objects in jupyterlab.\n *\n */\n\n:root {\n  --xr-font-color0: var(--jp-content-font-color0, rgba(0, 0, 0, 1));\n  --xr-font-color2: var(--jp-content-font-color2, rgba(0, 0, 0, 0.54));\n  --xr-font-color3: var(--jp-content-font-color3, rgba(0, 0, 0, 0.38));\n  --xr-border-color: var(--jp-border-color2, #e0e0e0);\n  --xr-disabled-color: var(--jp-layout-color3, #bdbdbd);\n  --xr-background-color: var(--jp-layout-color0, white);\n  --xr-background-color-row-even: var(--jp-layout-color1, white);\n  --xr-background-color-row-odd: var(--jp-layout-color2, #eeeeee);\n}\n\nhtml[theme=dark],\nbody[data-theme=dark],\nbody.vscode-dark {\n  --xr-font-color0: rgba(255, 255, 255, 1);\n  --xr-font-color2: rgba(255, 255, 255, 0.54);\n  --xr-font-color3: rgba(255, 255, 255, 0.38);\n  --xr-border-color: #1F1F1F;\n  --xr-disabled-color: #515151;\n  --xr-background-color: #111111;\n  --xr-background-color-row-even: #111111;\n  --xr-background-color-row-odd: #313131;\n}\n\n.xr-wrap {\n  display: block !important;\n  min-width: 300px;\n  max-width: 700px;\n}\n\n.xr-text-repr-fallback {\n  /* fallback to plain text repr when CSS is not injected (untrusted notebook) */\n  display: none;\n}\n\n.xr-header {\n  padding-top: 6px;\n  padding-bottom: 6px;\n  margin-bottom: 4px;\n  border-bottom: solid 1px var(--xr-border-color);\n}\n\n.xr-header > div,\n.xr-header > ul {\n  display: inline;\n  margin-top: 0;\n  margin-bottom: 0;\n}\n\n.xr-obj-type,\n.xr-array-name {\n  margin-left: 2px;\n  margin-right: 10px;\n}\n\n.xr-obj-type {\n  color: var(--xr-font-color2);\n}\n\n.xr-sections {\n  padding-left: 0 !important;\n  display: grid;\n  grid-template-columns: 150px auto auto 1fr 20px 20px;\n}\n\n.xr-section-item {\n  display: contents;\n}\n\n.xr-section-item input {\n  display: none;\n}\n\n.xr-section-item input + label {\n  color: var(--xr-disabled-color);\n}\n\n.xr-section-item input:enabled + label {\n  cursor: pointer;\n  color: var(--xr-font-color2);\n}\n\n.xr-section-item input:enabled + label:hover {\n  color: var(--xr-font-color0);\n}\n\n.xr-section-summary {\n  grid-column: 1;\n  color: var(--xr-font-color2);\n  font-weight: 500;\n}\n\n.xr-section-summary > span {\n  display: inline-block;\n  padding-left: 0.5em;\n}\n\n.xr-section-summary-in:disabled + label {\n  color: var(--xr-font-color2);\n}\n\n.xr-section-summary-in + label:before {\n  display: inline-block;\n  content: '►';\n  font-size: 11px;\n  width: 15px;\n  text-align: center;\n}\n\n.xr-section-summary-in:disabled + label:before {\n  color: var(--xr-disabled-color);\n}\n\n.xr-section-summary-in:checked + label:before {\n  content: '▼';\n}\n\n.xr-section-summary-in:checked + label > span {\n  display: none;\n}\n\n.xr-section-summary,\n.xr-section-inline-details {\n  padding-top: 4px;\n  padding-bottom: 4px;\n}\n\n.xr-section-inline-details {\n  grid-column: 2 / -1;\n}\n\n.xr-section-details {\n  display: none;\n  grid-column: 1 / -1;\n  margin-bottom: 5px;\n}\n\n.xr-section-summary-in:checked ~ .xr-section-details {\n  display: contents;\n}\n\n.xr-array-wrap {\n  grid-column: 1 / -1;\n  display: grid;\n  grid-template-columns: 20px auto;\n}\n\n.xr-array-wrap > label {\n  grid-column: 1;\n  vertical-align: top;\n}\n\n.xr-preview {\n  color: var(--xr-font-color3);\n}\n\n.xr-array-preview,\n.xr-array-data {\n  padding: 0 5px !important;\n  grid-column: 2;\n}\n\n.xr-array-data,\n.xr-array-in:checked ~ .xr-array-preview {\n  display: none;\n}\n\n.xr-array-in:checked ~ .xr-array-data,\n.xr-array-preview {\n  display: inline-block;\n}\n\n.xr-dim-list {\n  display: inline-block !important;\n  list-style: none;\n  padding: 0 !important;\n  margin: 0;\n}\n\n.xr-dim-list li {\n  display: inline-block;\n  padding: 0;\n  margin: 0;\n}\n\n.xr-dim-list:before {\n  content: '(';\n}\n\n.xr-dim-list:after {\n  content: ')';\n}\n\n.xr-dim-list li:not(:last-child):after {\n  content: ',';\n  padding-right: 5px;\n}\n\n.xr-has-index {\n  font-weight: bold;\n}\n\n.xr-var-list,\n.xr-var-item {\n  display: contents;\n}\n\n.xr-var-item > div,\n.xr-var-item label,\n.xr-var-item > .xr-var-name span {\n  background-color: var(--xr-background-color-row-even);\n  margin-bottom: 0;\n}\n\n.xr-var-item > .xr-var-name:hover span {\n  padding-right: 5px;\n}\n\n.xr-var-list > li:nth-child(odd) > div,\n.xr-var-list > li:nth-child(odd) > label,\n.xr-var-list > li:nth-child(odd) > .xr-var-name span {\n  background-color: var(--xr-background-color-row-odd);\n}\n\n.xr-var-name {\n  grid-column: 1;\n}\n\n.xr-var-dims {\n  grid-column: 2;\n}\n\n.xr-var-dtype {\n  grid-column: 3;\n  text-align: right;\n  color: var(--xr-font-color2);\n}\n\n.xr-var-preview {\n  grid-column: 4;\n}\n\n.xr-index-preview {\n  grid-column: 2 / 5;\n  color: var(--xr-font-color2);\n}\n\n.xr-var-name,\n.xr-var-dims,\n.xr-var-dtype,\n.xr-preview,\n.xr-attrs dt {\n  white-space: nowrap;\n  overflow: hidden;\n  text-overflow: ellipsis;\n  padding-right: 10px;\n}\n\n.xr-var-name:hover,\n.xr-var-dims:hover,\n.xr-var-dtype:hover,\n.xr-attrs dt:hover {\n  overflow: visible;\n  width: auto;\n  z-index: 1;\n}\n\n.xr-var-attrs,\n.xr-var-data,\n.xr-index-data {\n  display: none;\n  background-color: var(--xr-background-color) !important;\n  padding-bottom: 5px !important;\n}\n\n.xr-var-attrs-in:checked ~ .xr-var-attrs,\n.xr-var-data-in:checked ~ .xr-var-data,\n.xr-index-data-in:checked ~ .xr-index-data {\n  display: block;\n}\n\n.xr-var-data > table {\n  float: right;\n}\n\n.xr-var-name span,\n.xr-var-data,\n.xr-index-name div,\n.xr-index-data,\n.xr-attrs {\n  padding-left: 25px !important;\n}\n\n.xr-attrs,\n.xr-var-attrs,\n.xr-var-data,\n.xr-index-data {\n  grid-column: 1 / -1;\n}\n\ndl.xr-attrs {\n  padding: 0;\n  margin: 0;\n  display: grid;\n  grid-template-columns: 125px auto;\n}\n\n.xr-attrs dt,\n.xr-attrs dd {\n  padding: 0;\n  margin: 0;\n  float: left;\n  padding-right: 10px;\n  width: auto;\n}\n\n.xr-attrs dt {\n  font-weight: normal;\n  grid-column: 1;\n}\n\n.xr-attrs dt:hover span {\n  display: inline-block;\n  background: var(--xr-background-color);\n  padding-right: 10px;\n}\n\n.xr-attrs dd {\n  grid-column: 2;\n  white-space: pre-wrap;\n  word-break: break-all;\n}\n\n.xr-icon-database,\n.xr-icon-file-text2,\n.xr-no-icon {\n  display: inline-block;\n  vertical-align: middle;\n  width: 1em;\n  height: 1.5em !important;\n  stroke-width: 0;\n  stroke: currentColor;\n  fill: currentColor;\n}\n</style><pre class='xr-text-repr-fallback'>&lt;xarray.Dataset&gt;\nDimensions:               (station: 1, time: 9, maintenancetime: 1)\nCoordinates:\n  * station               (station) float64 1.0\n  * time                  (time) datetime64[ns] 2022-08-30T11:21:01 ... 2022-...\n  * maintenancetime       (maintenancetime) datetime64[ns] 2023-05-08T16:09:06\nData variables: (12/20)\n    ghi                   (time, station) float64 280.9 280.9 ... 280.9 280.9\n    gti                   (time, station) float64 289.0 289.0 ... 288.6 289.0\n    ta                    (time, station) float32 294.8 294.7 ... 294.7 294.8\n    rh                    (time, station) float32 0.6253 0.6248 ... 0.628 0.6253\n    battery_voltage       (time, station) float32 6.443 6.445 ... 6.449 6.443\n    gti_min               (time, station) float64 288.6 288.6 ... 288.6 288.6\n    ...                    ...\n    qc_flag_gti           (time, station) float64 0.0 0.0 0.0 ... 0.0 0.0 0.0\n    lat                   (station) float64 51.39\n    lon                   (station) float64 11.89\n    esd                   (station) float64 1.01\n    maintenance_flag_ghi  (maintenancetime, station) float32 9.0\n    maintenance_flag_gti  (maintenancetime, station) float32 7.0\nAttributes: (12/32)\n    Conventions:               CF-1.10, ACDD-1.3\n    title:                     TROPOS pyranometer network (PyrNet) observatio...\n    history:                   2024-02-23T15:23:01: Merged level l1b by pyrne...\n    institution:               Leibniz Institute for Tropospheric Research (T...\n    source:                    TROPOS pyranometer network (PyrNet)\n    references:                https://doi.org/10.5194/amt-9-1153-2016\n    ...                        ...\n    geospatial_lon_units:      degE\n    time_coverage_start:       2022-08-30T11:21:01\n    time_coverage_end:         2022-08-30T11:21:09\n    time_coverage_duration:    P0DT0H0M8S\n    time_coverage_resolution:  P0DT0H0M1S\n    site:                      [&#x27;testsite1&#x27;, &#x27;testsite2&#x27;]</pre><div class='xr-wrap' style='display:none'><div class='xr-header'><div class='xr-obj-type'>xarray.Dataset</div></div><ul class='xr-sections'><li class='xr-section-item'><input id='section-7c2e5978-077f-44d2-b52c-ba29e20782d6' class='xr-section-summary-in' type='checkbox' disabled ><label for='section-7c2e5978-077f-44d2-b52c-ba29e20782d6' class='xr-section-summary'  title='Expand/collapse section'>Dimensions:</label><div class='xr-section-inline-details'><ul class='xr-dim-list'><li><span class='xr-has-index'>station</span>: 1</li><li><span class='xr-has-index'>time</span>: 9</li><li><span class='xr-has-index'>maintenancetime</span>: 1</li></ul></div><div class='xr-section-details'></div></li><li class='xr-section-item'><input id='section-882a861e-81f8-4222-9048-ae315e1e081c' class='xr-section-summary-in' type='checkbox'  checked><label for='section-882a861e-81f8-4222-9048-ae315e1e081c' class='xr-section-summary' >Coordinates: <span>(3)</span></label><div class='xr-section-inline-details'></div><div class='xr-section-details'><ul class='xr-var-list'><li class='xr-var-item'><div class='xr-var-name'><span class='xr-has-index'>station</span></div><div class='xr-var-dims'>(station)</div><div class='xr-var-dtype'>float64</div><div class='xr-var-preview xr-preview'>1.0</div><input id='attrs-27dffeee-67bb-4adc-9d5e-96ae02955f03' class='xr-var-attrs-in' type='checkbox' disabled><label for='attrs-27dffeee-67bb-4adc-9d5e-96ae02955f03' title='Show/Hide attributes'><svg class='icon xr-icon-file-text2'><use xlink:href='#icon-file-text2'></use></svg></label><input id='data-2cdc07c6-7f44-4af5-a765-4512f44b0175' class='xr-var-data-in' type='checkbox'><label for='data-2cdc07c6-7f44-4af5-a765-4512f44b0175' title='Show/Hide data repr'><svg class='icon xr-icon-database'><use xlink:href='#icon-database'></use></svg></label><div class='xr-var-attrs'><dl class='xr-attrs'></dl></div><div class='xr-var-data'><pre>array([1.])</pre></div></li><li class='xr-var-item'><div class='xr-var-name'><span class='xr-has-index'>time</span></div><div class='xr-var-dims'>(time)</div><div class='xr-var-dtype'>datetime64[ns]</div><div class='xr-var-preview xr-preview'>2022-08-30T11:21:01 ... 2022-08-...</div><input id='attrs-03e215ed-2b25-4ed8-9ee9-886db914e032' class='xr-var-attrs-in' type='checkbox' disabled><label for='attrs-03e215ed-2b25-4ed8-9ee9-886db914e032' title='Show/Hide attributes'><svg class='icon xr-icon-file-text2'><use xlink:href='#icon-file-text2'></use></svg></label><input id='data-a8160b28-925c-43fe-a827-a9fdb06458d5' class='xr-var-data-in' type='checkbox'><label for='data-a8160b28-925c-43fe-a827-a9fdb06458d5' title='Show/Hide data repr'><svg class='icon xr-icon-database'><use xlink:href='#icon-database'></use></svg></label><div class='xr-var-attrs'><dl class='xr-attrs'></dl></div><div class='xr-var-data'><pre>array([&#x27;2022-08-30T11:21:01.000000000&#x27;, &#x27;2022-08-30T11:21:02.000000000&#x27;,\n       &#x27;2022-08-30T11:21:03.000000000&#x27;, &#x27;2022-08-30T11:21:04.000000000&#x27;,\n       &#x27;2022-08-30T11:21:05.000000000&#x27;, &#x27;2022-08-30T11:21:06.000000000&#x27;,\n       &#x27;2022-08-30T11:21:07.000000000&#x27;, &#x27;2022-08-30T11:21:08.000000000&#x27;,\n       &#x27;2022-08-30T11:21:09.000000000&#x27;], dtype=&#x27;datetime64[ns]&#x27;)</pre></div></li><li class='xr-var-item'><div class='xr-var-name'><span class='xr-has-index'>maintenancetime</span></div><div class='xr-var-dims'>(maintenancetime)</div><div class='xr-var-dtype'>datetime64[ns]</div><div class='xr-var-preview xr-preview'>2023-05-08T16:09:06</div><input id='attrs-4310d66f-e9c4-43fd-bbbf-bb683cc2b112' class='xr-var-attrs-in' type='checkbox' disabled><label for='attrs-4310d66f-e9c4-43fd-bbbf-bb683cc2b112' title='Show/Hide attributes'><svg class='icon xr-icon-file-text2'><use xlink:href='#icon-file-text2'></use></svg></label><input id='data-8a88e88e-b000-4672-bd3f-23de58d7e59d' class='xr-var-data-in' type='checkbox'><label for='data-8a88e88e-b000-4672-bd3f-23de58d7e59d' title='Show/Hide data repr'><svg class='icon xr-icon-database'><use xlink:href='#icon-database'></use></svg></label><div class='xr-var-attrs'><dl class='xr-attrs'></dl></div><div class='xr-var-data'><pre>array([&#x27;2023-05-08T16:09:06.000000000&#x27;], dtype=&#x27;datetime64[ns]&#x27;)</pre></div></li></ul></div></li><li class='xr-section-item'><input id='section-dd0eecb1-7516-4075-85ea-7976fe69a77a' class='xr-section-summary-in' type='checkbox'  ><label for='section-dd0eecb1-7516-4075-85ea-7976fe69a77a' class='xr-section-summary' >Data variables: <span>(20)</span></label><div class='xr-section-inline-details'></div><div class='xr-section-details'><ul class='xr-var-list'><li class='xr-var-item'><div class='xr-var-name'><span>ghi</span></div><div class='xr-var-dims'>(time, station)</div><div class='xr-var-dtype'>float64</div><div class='xr-var-preview xr-preview'>280.9 280.9 280.9 ... 280.9 280.9</div><input id='attrs-391676f6-6d30-45a0-884f-143d953cc1a9' class='xr-var-attrs-in' type='checkbox' ><label for='attrs-391676f6-6d30-45a0-884f-143d953cc1a9' title='Show/Hide attributes'><svg class='icon xr-icon-file-text2'><use xlink:href='#icon-file-text2'></use></svg></label><input id='data-3bf09b8b-aa5f-4c1d-9107-af9b4f38c5fc' class='xr-var-data-in' type='checkbox'><label for='data-3bf09b8b-aa5f-4c1d-9107-af9b4f38c5fc' title='Show/Hide data repr'><svg class='icon xr-icon-database'><use xlink:href='#icon-database'></use></svg></label><div class='xr-var-attrs'><dl class='xr-attrs'><dt><span>units :</span></dt><dd>W m-2</dd><dt><span>long_name :</span></dt><dd>downwelling shortwave flux</dd><dt><span>standard_name :</span></dt><dd>downwelling_shortwave_flux_in_air</dd><dt><span>valid_range :</span></dt><dd>[0, 60000]</dd><dt><span>serial :</span></dt><dd>[&#x27;S12128.001&#x27;, &#x27;test_ghi_ds3&#x27;]</dd><dt><span>calibration_Cabsolute :</span></dt><dd>[129366.10608020698, 129366.10608020698]</dd><dt><span>calibration_Ccoscorr :</span></dt><dd>1.45 - 3.04·x¹ + 5.59·x² - 3.01·x³</dd><dt><span>calibration_function :</span></dt><dd>flux (W m-2) = flux (V) * Cabsolute (W m-2 V-1) * Ccoscorr(mua)</dd></dl></div><div class='xr-var-data'><pre>array([[280.90513748],\n       [280.90501036],\n       [280.90488297],\n       [280.75996672],\n       [280.90462742],\n       [280.90449925],\n       [280.75958242],\n       [280.90424214],\n       [280.90513748]])</pre></div></li><li class='xr-var-item'><div class='xr-var-name'><span>gti</span></div><div class='xr-var-dims'>(time, station)</div><div class='xr-var-dtype'>float64</div><div class='xr-var-preview xr-preview'>289.0 289.0 288.6 ... 288.6 289.0</div><input id='attrs-bf0248e6-3ff4-4ba7-8dd5-6c0ebb8a5702' class='xr-var-attrs-in' type='checkbox' ><label for='attrs-bf0248e6-3ff4-4ba7-8dd5-6c0ebb8a5702' title='Show/Hide attributes'><svg class='icon xr-icon-file-text2'><use xlink:href='#icon-file-text2'></use></svg></label><input id='data-152bf2bf-6ef8-49ce-ad85-26eca086f30b' class='xr-var-data-in' type='checkbox'><label for='data-152bf2bf-6ef8-49ce-ad85-26eca086f30b' title='Show/Hide data repr'><svg class='icon xr-icon-database'><use xlink:href='#icon-database'></use></svg></label><div class='xr-var-attrs'><dl class='xr-attrs'><dt><span>units :</span></dt><dd>W m-2</dd><dt><span>long_name :</span></dt><dd>downwelling shortwave flux measured on secondary platform, might be tilted</dd><dt><span>standard_name :</span></dt><dd>downwelling_shortwave_flux_in_air</dd><dt><span>valid_range :</span></dt><dd>[0, 60000]</dd><dt><span>hangle :</span></dt><dd>[0.0, 0.0]</dd><dt><span>vangle :</span></dt><dd>[0.0, 0.0]</dd><dt><span>serial :</span></dt><dd>[&#x27;S12137.049&#x27;, &#x27;test_gti_ds3&#x27;]</dd><dt><span>calibration_Cabsolute :</span></dt><dd>[143266.47564469912, 143266.47564469912]</dd><dt><span>calibration_Ccoscorr :</span></dt><dd>1.45 - 3.04·x¹ + 5.59·x² - 3.01·x³</dd><dt><span>calibration_function :</span></dt><dd>flux (W m-2) = flux (V) * Cabsolute (W m-2 V-1) * Ccoscorr(mua)</dd></dl></div><div class='xr-var-data'><pre>array([[288.95941377],\n       [288.959283  ],\n       [288.63842485],\n       [288.63829369],\n       [288.79852567],\n       [288.63803057],\n       [288.31717208],\n       [288.63776637],\n       [288.95941377]])</pre></div></li><li class='xr-var-item'><div class='xr-var-name'><span>ta</span></div><div class='xr-var-dims'>(time, station)</div><div class='xr-var-dtype'>float32</div><div class='xr-var-preview xr-preview'>294.8 294.7 294.8 ... 294.7 294.8</div><input id='attrs-dce9f038-5ef6-4499-b322-c2ec0fb99df5' class='xr-var-attrs-in' type='checkbox' ><label for='attrs-dce9f038-5ef6-4499-b322-c2ec0fb99df5' title='Show/Hide attributes'><svg class='icon xr-icon-file-text2'><use xlink:href='#icon-file-text2'></use></svg></label><input id='data-3ea9433a-d879-44ac-86ec-d771c89f74ae' class='xr-var-data-in' type='checkbox'><label for='data-3ea9433a-d879-44ac-86ec-d771c89f74ae' title='Show/Hide data repr'><svg class='icon xr-icon-database'><use xlink:href='#icon-database'></use></svg></label><div class='xr-var-attrs'><dl class='xr-attrs'><dt><span>units :</span></dt><dd>K</dd><dt><span>long_name :</span></dt><dd>air temperature</dd><dt><span>standard_name :</span></dt><dd>air_temperature</dd><dt><span>valid_range :</span></dt><dd>[0, 10000]</dd></dl></div><div class='xr-var-data'><pre>array([[294.8016 ],\n       [294.7371 ],\n       [294.77008],\n       [294.74997],\n       [294.7887 ],\n       [294.74997],\n       [294.8145 ],\n       [294.72705],\n       [294.8016 ]], dtype=float32)</pre></div></li><li class='xr-var-item'><div class='xr-var-name'><span>rh</span></div><div class='xr-var-dims'>(time, station)</div><div class='xr-var-dtype'>float32</div><div class='xr-var-preview xr-preview'>0.6253 0.6248 ... 0.628 0.6253</div><input id='attrs-59929696-687b-411d-9496-fa3eaa2876ed' class='xr-var-attrs-in' type='checkbox' ><label for='attrs-59929696-687b-411d-9496-fa3eaa2876ed' title='Show/Hide attributes'><svg class='icon xr-icon-file-text2'><use xlink:href='#icon-file-text2'></use></svg></label><input id='data-e707e53c-6358-4361-8b84-d4991c0a4e84' class='xr-var-data-in' type='checkbox'><label for='data-e707e53c-6358-4361-8b84-d4991c0a4e84' title='Show/Hide data repr'><svg class='icon xr-icon-database'><use xlink:href='#icon-database'></use></svg></label><div class='xr-var-attrs'><dl class='xr-attrs'><dt><span>units :</span></dt><dd>1</dd><dt><span>long_name :</span></dt><dd>air relative humidity</dd><dt><span>standard_name :</span></dt><dd>relative_humidity</dd><dt><span>valid_range :</span></dt><dd>[0, 10000]</dd></dl></div><div class='xr-var-data'><pre>array([[0.6252903 ],\n       [0.62477416],\n       [0.6259498 ],\n       [0.6265806 ],\n       [0.6270968 ],\n       [0.6270968 ],\n       [0.6286451 ],\n       [0.627957  ],\n       [0.6252903 ]], dtype=float32)</pre></div></li><li class='xr-var-item'><div class='xr-var-name'><span>battery_voltage</span></div><div class='xr-var-dims'>(time, station)</div><div class='xr-var-dtype'>float32</div><div class='xr-var-preview xr-preview'>6.443 6.445 6.444 ... 6.449 6.443</div><input id='attrs-b107b652-1529-494b-b141-632fdb1bf84b' class='xr-var-attrs-in' type='checkbox' ><label for='attrs-b107b652-1529-494b-b141-632fdb1bf84b' title='Show/Hide attributes'><svg class='icon xr-icon-file-text2'><use xlink:href='#icon-file-text2'></use></svg></label><input id='data-dc4c4432-70c1-48d8-9b01-af4370544d17' class='xr-var-data-in' type='checkbox'><label for='data-dc4c4432-70c1-48d8-9b01-af4370544d17' title='Show/Hide data repr'><svg class='icon xr-icon-database'><use xlink:href='#icon-database'></use></svg></label><div class='xr-var-attrs'><dl class='xr-attrs'><dt><span>units :</span></dt><dd>V</dd><dt><span>standard_name :</span></dt><dd>battery_voltage</dd><dt><span>valid_range :</span></dt><dd>[0, 6400]</dd></dl></div><div class='xr-var-data'><pre>array([[6.44258  ],\n       [6.4451613],\n       [6.4437275],\n       [6.445807 ],\n       [6.4496775],\n       [6.4477415],\n       [6.4464517],\n       [6.4494624],\n       [6.44258  ]], dtype=float32)</pre></div></li><li class='xr-var-item'><div class='xr-var-name'><span>gti_min</span></div><div class='xr-var-dims'>(time, station)</div><div class='xr-var-dtype'>float64</div><div class='xr-var-preview xr-preview'>288.6 288.6 288.6 ... 288.6 288.6</div><input id='attrs-a10cb228-1e0c-41b2-9c1d-56604980c515' class='xr-var-attrs-in' type='checkbox' ><label for='attrs-a10cb228-1e0c-41b2-9c1d-56604980c515' title='Show/Hide attributes'><svg class='icon xr-icon-file-text2'><use xlink:href='#icon-file-text2'></use></svg></label><input id='data-3b6ddd02-adec-4d36-b933-68e279c0c8a8' class='xr-var-data-in' type='checkbox'><label for='data-3b6ddd02-adec-4d36-b933-68e279c0c8a8' title='Show/Hide data repr'><svg class='icon xr-icon-database'><use xlink:href='#icon-database'></use></svg></label><div class='xr-var-attrs'><dl class='xr-attrs'><dt><span>units :</span></dt><dd>W m-2</dd><dt><span>long_name :</span></dt><dd>downwelling shortwave flux measured on secondary platform, might be tilted</dd><dt><span>standard_name :</span></dt><dd>min_downwelling_shortwave_flux_in_air</dd><dt><span>valid_range :</span></dt><dd>[0, 60000]</dd><dt><span>hangle :</span></dt><dd>[0.0, 0.0]</dd><dt><span>vangle :</span></dt><dd>[0.0, 0.0]</dd><dt><span>serial :</span></dt><dd>[&#x27;S12137.049&#x27;, &#x27;test_gti_ds3&#x27;]</dd><dt><span>calibration_Cabsolute :</span></dt><dd>[143266.47564469912, 143266.47564469912]</dd><dt><span>calibration_Ccoscorr :</span></dt><dd>1.45 - 3.04·x¹ + 5.59·x² - 3.01·x³</dd><dt><span>calibration_function :</span></dt><dd>flux (W m-2) = flux (V) * Cabsolute (W m-2 V-1) * Ccoscorr(mua)</dd></dl></div><div class='xr-var-data'><pre>array([[288.63868637],\n       [288.63855575],\n       [288.63842485],\n       [287.03474569],\n       [287.03461499],\n       [288.63803057],\n       [287.0343528 ],\n       [288.63776637],\n       [288.63868637]])</pre></div></li><li class='xr-var-item'><div class='xr-var-name'><span>ghi_min</span></div><div class='xr-var-dims'>(time, station)</div><div class='xr-var-dtype'>float64</div><div class='xr-var-preview xr-preview'>280.9 280.9 280.9 ... 280.9 280.9</div><input id='attrs-51726700-67ff-40d5-9ad0-be0ff6b5dba3' class='xr-var-attrs-in' type='checkbox' ><label for='attrs-51726700-67ff-40d5-9ad0-be0ff6b5dba3' title='Show/Hide attributes'><svg class='icon xr-icon-file-text2'><use xlink:href='#icon-file-text2'></use></svg></label><input id='data-efa59c80-62f2-4c34-a64e-46c520ee40f3' class='xr-var-data-in' type='checkbox'><label for='data-efa59c80-62f2-4c34-a64e-46c520ee40f3' title='Show/Hide data repr'><svg class='icon xr-icon-database'><use xlink:href='#icon-database'></use></svg></label><div class='xr-var-attrs'><dl class='xr-attrs'><dt><span>units :</span></dt><dd>W m-2</dd><dt><span>long_name :</span></dt><dd>downwelling shortwave flux</dd><dt><span>standard_name :</span></dt><dd>min_downwelling_shortwave_flux_in_air</dd><dt><span>valid_range :</span></dt><dd>[0, 60000]</dd><dt><span>serial :</span></dt><dd>[&#x27;S12128.001&#x27;, &#x27;test_ghi_ds3&#x27;]</dd><dt><span>calibration_Cabsolute :</span></dt><dd>[129366.10608020698, 129366.10608020698]</dd><dt><span>calibration_Ccoscorr :</span></dt><dd>1.45 - 3.04·x¹ + 5.59·x² - 3.01·x³</dd><dt><span>calibration_function :</span></dt><dd>flux (W m-2) = flux (V) * Cabsolute (W m-2 V-1) * Ccoscorr(mua)</dd></dl></div><div class='xr-var-data'><pre>array([[280.90513748],\n       [280.90501036],\n       [280.90488297],\n       [279.45680657],\n       [280.90462742],\n       [280.90449925],\n       [279.45642405],\n       [280.90424214],\n       [280.90513748]])</pre></div></li><li class='xr-var-item'><div class='xr-var-name'><span>gti_max</span></div><div class='xr-var-dims'>(time, station)</div><div class='xr-var-dtype'>float64</div><div class='xr-var-preview xr-preview'>290.2 290.2 288.6 ... 288.6 290.2</div><input id='attrs-85323a54-096e-4b40-8f60-e702116fffd3' class='xr-var-attrs-in' type='checkbox' ><label for='attrs-85323a54-096e-4b40-8f60-e702116fffd3' title='Show/Hide attributes'><svg class='icon xr-icon-file-text2'><use xlink:href='#icon-file-text2'></use></svg></label><input id='data-29b2eb75-dbf4-4679-9fd5-834c4663b65d' class='xr-var-data-in' type='checkbox'><label for='data-29b2eb75-dbf4-4679-9fd5-834c4663b65d' title='Show/Hide data repr'><svg class='icon xr-icon-database'><use xlink:href='#icon-database'></use></svg></label><div class='xr-var-attrs'><dl class='xr-attrs'><dt><span>units :</span></dt><dd>W m-2</dd><dt><span>long_name :</span></dt><dd>downwelling shortwave flux measured on secondary platform, might be tilted</dd><dt><span>standard_name :</span></dt><dd>max_downwelling_shortwave_flux_in_air</dd><dt><span>valid_range :</span></dt><dd>[0, 60000]</dd><dt><span>hangle :</span></dt><dd>[0.0, 0.0]</dd><dt><span>vangle :</span></dt><dd>[0.0, 0.0]</dd><dt><span>serial :</span></dt><dd>[&#x27;S12137.049&#x27;, &#x27;test_gti_ds3&#x27;]</dd><dt><span>calibration_Cabsolute :</span></dt><dd>[143266.47564469912, 143266.47564469912]</dd><dt><span>calibration_Ccoscorr :</span></dt><dd>1.45 - 3.04·x¹ + 5.59·x² - 3.01·x³</dd><dt><span>calibration_function :</span></dt><dd>flux (W m-2) = flux (V) * Cabsolute (W m-2 V-1) * Ccoscorr(mua)</dd></dl></div><div class='xr-var-data'><pre>array([[290.24223656],\n       [290.24210521],\n       [288.63842485],\n       [290.2418417 ],\n       [290.24170954],\n       [288.63803057],\n       [288.63789861],\n       [288.63776637],\n       [290.24223656]])</pre></div></li><li class='xr-var-item'><div class='xr-var-name'><span>ghi_max</span></div><div class='xr-var-dims'>(time, station)</div><div class='xr-var-dtype'>float64</div><div class='xr-var-preview xr-preview'>280.9 280.9 280.9 ... 280.9 280.9</div><input id='attrs-01d839a1-1907-4024-b386-a1617dd6ff44' class='xr-var-attrs-in' type='checkbox' ><label for='attrs-01d839a1-1907-4024-b386-a1617dd6ff44' title='Show/Hide attributes'><svg class='icon xr-icon-file-text2'><use xlink:href='#icon-file-text2'></use></svg></label><input id='data-a4fa2cdb-f57f-453e-b797-78e30f0d38f3' class='xr-var-data-in' type='checkbox'><label for='data-a4fa2cdb-f57f-453e-b797-78e30f0d38f3' title='Show/Hide data repr'><svg class='icon xr-icon-database'><use xlink:href='#icon-database'></use></svg></label><div class='xr-var-attrs'><dl class='xr-attrs'><dt><span>units :</span></dt><dd>W m-2</dd><dt><span>long_name :</span></dt><dd>downwelling shortwave flux</dd><dt><span>standard_name :</span></dt><dd>max_downwelling_shortwave_flux_in_air</dd><dt><span>valid_range :</span></dt><dd>[0, 60000]</dd><dt><span>serial :</span></dt><dd>[&#x27;S12128.001&#x27;, &#x27;test_ghi_ds3&#x27;]</dd><dt><span>calibration_Cabsolute :</span></dt><dd>[129366.10608020698, 129366.10608020698]</dd><dt><span>calibration_Ccoscorr :</span></dt><dd>1.45 - 3.04·x¹ + 5.59·x² - 3.01·x³</dd><dt><span>calibration_function :</span></dt><dd>flux (W m-2) = flux (V) * Cabsolute (W m-2 V-1) * Ccoscorr(mua)</dd></dl></div><div class='xr-var-data'><pre>array([[280.90513748],\n       [280.90501036],\n       [280.90488297],\n       [280.90475533],\n       [280.90462742],\n       [280.90449925],\n       [280.90437082],\n       [280.90424214],\n       [280.90513748]])</pre></div></li><li class='xr-var-item'><div class='xr-var-name'><span>gti_std</span></div><div class='xr-var-dims'>(time, station)</div><div class='xr-var-dtype'>float64</div><div class='xr-var-preview xr-preview'>0.7171 0.6761 0.0 ... 0.0 0.7171</div><input id='attrs-b11edeae-6a15-49ca-ab47-61a0bf17563e' class='xr-var-attrs-in' type='checkbox' ><label for='attrs-b11edeae-6a15-49ca-ab47-61a0bf17563e' title='Show/Hide attributes'><svg class='icon xr-icon-file-text2'><use xlink:href='#icon-file-text2'></use></svg></label><input id='data-c4b4742b-881f-4ad0-a38f-1d603e09dd51' class='xr-var-data-in' type='checkbox'><label for='data-c4b4742b-881f-4ad0-a38f-1d603e09dd51' title='Show/Hide data repr'><svg class='icon xr-icon-database'><use xlink:href='#icon-database'></use></svg></label><div class='xr-var-attrs'><dl class='xr-attrs'><dt><span>units :</span></dt><dd>W m-2</dd><dt><span>long_name :</span></dt><dd>downwelling shortwave flux measured on secondary platform, might be tilted</dd><dt><span>standard_name :</span></dt><dd>std_downwelling_shortwave_flux_in_air</dd><dt><span>valid_range :</span></dt><dd>[0, 60000]</dd><dt><span>hangle :</span></dt><dd>[0.0, 0.0]</dd><dt><span>vangle :</span></dt><dd>[0.0, 0.0]</dd><dt><span>serial :</span></dt><dd>[&#x27;S12137.049&#x27;, &#x27;test_gti_ds3&#x27;]</dd><dt><span>calibration_Cabsolute :</span></dt><dd>[143266.47564469912, 143266.47564469912]</dd><dt><span>calibration_Ccoscorr :</span></dt><dd>1.45 - 3.04·x¹ + 5.59·x² - 3.01·x³</dd><dt><span>calibration_function :</span></dt><dd>flux (W m-2) = flux (V) * Cabsolute (W m-2 V-1) * Ccoscorr(mua)</dd></dl></div><div class='xr-var-data'><pre>array([[0.71712944],\n       [0.67611582],\n       [0.        ],\n       [0.75591978],\n       [0.91024754],\n       [0.        ],\n       [0.67611428],\n       [0.        ],\n       [0.71712944]])</pre></div></li><li class='xr-var-item'><div class='xr-var-name'><span>ghi_std</span></div><div class='xr-var-dims'>(time, station)</div><div class='xr-var-dtype'>float64</div><div class='xr-var-preview xr-preview'>0.0 0.0 0.0 ... 0.4579 0.0 0.0</div><input id='attrs-1e6549ef-776f-4b92-a4df-94fc59f4b5f2' class='xr-var-attrs-in' type='checkbox' ><label for='attrs-1e6549ef-776f-4b92-a4df-94fc59f4b5f2' title='Show/Hide attributes'><svg class='icon xr-icon-file-text2'><use xlink:href='#icon-file-text2'></use></svg></label><input id='data-2a762c68-b927-4ac2-adae-9dafc24fbfd0' class='xr-var-data-in' type='checkbox'><label for='data-2a762c68-b927-4ac2-adae-9dafc24fbfd0' title='Show/Hide data repr'><svg class='icon xr-icon-database'><use xlink:href='#icon-database'></use></svg></label><div class='xr-var-attrs'><dl class='xr-attrs'><dt><span>units :</span></dt><dd>W m-2</dd><dt><span>long_name :</span></dt><dd>downwelling shortwave flux</dd><dt><span>standard_name :</span></dt><dd>std_downwelling_shortwave_flux_in_air</dd><dt><span>valid_range :</span></dt><dd>[0, 60000]</dd><dt><span>serial :</span></dt><dd>[&#x27;S12128.001&#x27;, &#x27;test_ghi_ds3&#x27;]</dd><dt><span>calibration_Cabsolute :</span></dt><dd>[129366.10608020698, 129366.10608020698]</dd><dt><span>calibration_Ccoscorr :</span></dt><dd>1.45 - 3.04·x¹ + 5.59·x² - 3.01·x³</dd><dt><span>calibration_function :</span></dt><dd>flux (W m-2) = flux (V) * Cabsolute (W m-2 V-1) * Ccoscorr(mua)</dd></dl></div><div class='xr-var-data'><pre>array([[0.        ],\n       [0.        ],\n       [0.        ],\n       [0.4578816 ],\n       [0.        ],\n       [0.        ],\n       [0.45788097],\n       [0.        ],\n       [0.        ]])</pre></div></li><li class='xr-var-item'><div class='xr-var-name'><span>szen</span></div><div class='xr-var-dims'>(time, station)</div><div class='xr-var-dtype'>float64</div><div class='xr-var-preview xr-preview'>42.51 42.51 42.51 ... 42.51 42.51</div><input id='attrs-bc1aff58-387d-429c-9626-4ed6eb0a8056' class='xr-var-attrs-in' type='checkbox' ><label for='attrs-bc1aff58-387d-429c-9626-4ed6eb0a8056' title='Show/Hide attributes'><svg class='icon xr-icon-file-text2'><use xlink:href='#icon-file-text2'></use></svg></label><input id='data-46e38c5b-78ce-4605-881c-3f891fe45313' class='xr-var-data-in' type='checkbox'><label for='data-46e38c5b-78ce-4605-881c-3f891fe45313' title='Show/Hide data repr'><svg class='icon xr-icon-database'><use xlink:href='#icon-database'></use></svg></label><div class='xr-var-attrs'><dl class='xr-attrs'><dt><span>standard_name :</span></dt><dd>solar_zenith_angle</dd><dt><span>units :</span></dt><dd>degree</dd><dt><span>valid_range :</span></dt><dd>[0, 36000]</dd></dl></div><div class='xr-var-data'><pre>array([[42.51131378],\n       [42.51144939],\n       [42.51158528],\n       [42.51172144],\n       [42.51185788],\n       [42.5119946 ],\n       [42.51213159],\n       [42.51226886],\n       [42.51131378]])</pre></div></li><li class='xr-var-item'><div class='xr-var-name'><span>sazi</span></div><div class='xr-var-dims'>(time, station)</div><div class='xr-var-dtype'>float64</div><div class='xr-var-preview xr-preview'>182.9 182.9 182.9 ... 182.9 182.9</div><input id='attrs-bd8e1728-62de-480d-828b-b01d8a47c66e' class='xr-var-attrs-in' type='checkbox' ><label for='attrs-bd8e1728-62de-480d-828b-b01d8a47c66e' title='Show/Hide attributes'><svg class='icon xr-icon-file-text2'><use xlink:href='#icon-file-text2'></use></svg></label><input id='data-f23a1bed-04db-4541-a25b-34037f46d76e' class='xr-var-data-in' type='checkbox'><label for='data-f23a1bed-04db-4541-a25b-34037f46d76e' title='Show/Hide data repr'><svg class='icon xr-icon-database'><use xlink:href='#icon-database'></use></svg></label><div class='xr-var-attrs'><dl class='xr-attrs'><dt><span>standard_name :</span></dt><dd>solar_azimuth_angle</dd><dt><span>units :</span></dt><dd>degree</dd><dt><span>valid_range :</span></dt><dd>[0, 36000]</dd></dl></div><div class='xr-var-data'><pre>array([[182.89457117],\n       [182.90066087],\n       [182.90675054],\n       [182.91284018],\n       [182.91892979],\n       [182.92501938],\n       [182.93110893],\n       [182.93719846],\n       [182.89457117]])</pre></div></li><li class='xr-var-item'><div class='xr-var-name'><span>qc_flag_ghi</span></div><div class='xr-var-dims'>(time, station)</div><div class='xr-var-dtype'>float64</div><div class='xr-var-preview xr-preview'>0.0 0.0 0.0 0.0 0.0 0.0 0.0 0.0 0.0</div><input id='attrs-989dda9a-d9a5-4d75-8c0d-d0e3a3f67692' class='xr-var-attrs-in' type='checkbox' ><label for='attrs-989dda9a-d9a5-4d75-8c0d-d0e3a3f67692' title='Show/Hide attributes'><svg class='icon xr-icon-file-text2'><use xlink:href='#icon-file-text2'></use></svg></label><input id='data-50e25613-e338-4ae7-bef9-683bda4862a4' class='xr-var-data-in' type='checkbox'><label for='data-50e25613-e338-4ae7-bef9-683bda4862a4' title='Show/Hide data repr'><svg class='icon xr-icon-database'><use xlink:href='#icon-database'></use></svg></label><div class='xr-var-attrs'><dl class='xr-attrs'><dt><span>standard_name :</span></dt><dd>quality_flag</dd><dt><span>valid_range :</span></dt><dd>[0, 127]</dd><dt><span>serial :</span></dt><dd>[&#x27;S12128.001&#x27;, &#x27;test_ghi_ds3&#x27;]</dd><dt><span>calibration_Cabsolute :</span></dt><dd>[129366.10608020698, 129366.10608020698]</dd><dt><span>calibration_Ccoscorr :</span></dt><dd>1.45 - 3.04·x¹ + 5.59·x² - 3.01·x³</dd><dt><span>calibration_function :</span></dt><dd>flux (W m-2) = flux (V) * Cabsolute (W m-2 V-1) * Ccoscorr(mua)</dd><dt><span>ancillary_variables :</span></dt><dd>ghi</dd><dt><span>flag_masks :</span></dt><dd>[1, 2, 4, 8, 16, 32, 64]</dd><dt><span>flag_values :</span></dt><dd>[1, 2, 4, 8, 16, 32, 64]</dd><dt><span>flag_meanings :</span></dt><dd>below_physical_limit above_physical_limit below_rare_limit above_rare_limit comparison_to_low comparison_to_high quality_control_failed</dd></dl></div><div class='xr-var-data'><pre>array([[0.],\n       [0.],\n       [0.],\n       [0.],\n       [0.],\n       [0.],\n       [0.],\n       [0.],\n       [0.]])</pre></div></li><li class='xr-var-item'><div class='xr-var-name'><span>qc_flag_gti</span></div><div class='xr-var-dims'>(time, station)</div><div class='xr-var-dtype'>float64</div><div class='xr-var-preview xr-preview'>0.0 0.0 0.0 0.0 0.0 0.0 0.0 0.0 0.0</div><input id='attrs-dcfbdc6c-b021-46f9-bc38-ff365b842c62' class='xr-var-attrs-in' type='checkbox' ><label for='attrs-dcfbdc6c-b021-46f9-bc38-ff365b842c62' title='Show/Hide attributes'><svg class='icon xr-icon-file-text2'><use xlink:href='#icon-file-text2'></use></svg></label><input id='data-1ce0818f-92bd-43c9-8edc-dae25ca084e2' class='xr-var-data-in' type='checkbox'><label for='data-1ce0818f-92bd-43c9-8edc-dae25ca084e2' title='Show/Hide data repr'><svg class='icon xr-icon-database'><use xlink:href='#icon-database'></use></svg></label><div class='xr-var-attrs'><dl class='xr-attrs'><dt><span>standard_name :</span></dt><dd>quality_flag</dd><dt><span>valid_range :</span></dt><dd>[0, 127]</dd><dt><span>hangle :</span></dt><dd>[0.0, 0.0]</dd><dt><span>vangle :</span></dt><dd>[0.0, 0.0]</dd><dt><span>serial :</span></dt><dd>[&#x27;S12137.049&#x27;, &#x27;test_gti_ds3&#x27;]</dd><dt><span>calibration_Cabsolute :</span></dt><dd>[143266.47564469912, 143266.47564469912]</dd><dt><span>calibration_Ccoscorr :</span></dt><dd>1.45 - 3.04·x¹ + 5.59·x² - 3.01·x³</dd><dt><span>calibration_function :</span></dt><dd>flux (W m-2) = flux (V) * Cabsolute (W m-2 V-1) * Ccoscorr(mua)</dd><dt><span>ancillary_variables :</span></dt><dd>gti</dd><dt><span>flag_masks :</span></dt><dd>[1, 2, 4, 8, 16, 32, 64]</dd><dt><span>flag_values :</span></dt><dd>[1, 2, 4, 8, 16, 32, 64]</dd><dt><span>flag_meanings :</span></dt><dd>below_physical_limit above_physical_limit below_rare_limit above_rare_limit comparison_to_low comparison_to_high quality_control_failed</dd></dl></div><div class='xr-var-data'><pre>array([[0.],\n       [0.],\n       [0.],\n       [0.],\n       [0.],\n       [0.],\n       [0.],\n       [0.],\n       [0.]])</pre></div></li><li class='xr-var-item'><div class='xr-var-name'><span>lat</span></div><div class='xr-var-dims'>(station)</div><div class='xr-var-dtype'>float64</div><div class='xr-var-preview xr-preview'>51.39</div><input id='attrs-7b2c52ac-21e9-48fd-b930-bd16b5f53f73' class='xr-var-attrs-in' type='checkbox' ><label for='attrs-7b2c52ac-21e9-48fd-b930-bd16b5f53f73' title='Show/Hide attributes'><svg class='icon xr-icon-file-text2'><use xlink:href='#icon-file-text2'></use></svg></label><input id='data-30f3dede-2d4c-4734-a540-5dcb16d1e461' class='xr-var-data-in' type='checkbox'><label for='data-30f3dede-2d4c-4734-a540-5dcb16d1e461' title='Show/Hide data repr'><svg class='icon xr-icon-database'><use xlink:href='#icon-database'></use></svg></label><div class='xr-var-attrs'><dl class='xr-attrs'><dt><span>standard_name :</span></dt><dd>latitude</dd><dt><span>units :</span></dt><dd>degree_north</dd><dt><span>valid_range :</span></dt><dd>[-90.0, 90.0]</dd></dl></div><div class='xr-var-data'><pre>array([51.39021033])</pre></div></li><li class='xr-var-item'><div class='xr-var-name'><span>lon</span></div><div class='xr-var-dims'>(station)</div><div class='xr-var-dtype'>float64</div><div class='xr-var-preview xr-preview'>11.89</div><input id='attrs-be36fc54-3fdb-46a4-9483-ee175efd4188' class='xr-var-attrs-in' type='checkbox' ><label for='attrs-be36fc54-3fdb-46a4-9483-ee175efd4188' title='Show/Hide attributes'><svg class='icon xr-icon-file-text2'><use xlink:href='#icon-file-text2'></use></svg></label><input id='data-17b09ae7-3e28-4cbb-9973-73b8b7e02dcf' class='xr-var-data-in' type='checkbox'><label for='data-17b09ae7-3e28-4cbb-9973-73b8b7e02dcf' title='Show/Hide data repr'><svg class='icon xr-icon-database'><use xlink:href='#icon-database'></use></svg></label><div class='xr-var-attrs'><dl class='xr-attrs'><dt><span>standard_name :</span></dt><dd>longitude</dd><dt><span>units :</span></dt><dd>degree_east</dd><dt><span>valid_range :</span></dt><dd>[-180.0, 180.0]</dd></dl></div><div class='xr-var-data'><pre>array([11.885252])</pre></div></li><li class='xr-var-item'><div class='xr-var-name'><span>esd</span></div><div class='xr-var-dims'>(station)</div><div class='xr-var-dtype'>float64</div><div class='xr-var-preview xr-preview'>1.01</div><input id='attrs-674a3d79-d579-4d19-a8c5-7aae4656a439' class='xr-var-attrs-in' type='checkbox' ><label for='attrs-674a3d79-d579-4d19-a8c5-7aae4656a439' title='Show/Hide attributes'><svg class='icon xr-icon-file-text2'><use xlink:href='#icon-file-text2'></use></svg></label><input id='data-427fa21c-08d7-4c68-8de9-0e424f434ba8' class='xr-var-data-in' type='checkbox'><label for='data-427fa21c-08d7-4c68-8de9-0e424f434ba8' title='Show/Hide data repr'><svg class='icon xr-icon-database'><use xlink:href='#icon-database'></use></svg></label><div class='xr-var-attrs'><dl class='xr-attrs'><dt><span>long_name :</span></dt><dd>Earth-sun distance</dd><dt><span>note :</span></dt><dd>Calculated based on Spencer (1971), as mean of its values over all time steps.</dd><dt><span>units :</span></dt><dd>ua</dd></dl></div><div class='xr-var-data'><pre>array([1.00959973])</pre></div></li><li class='xr-var-item'><div class='xr-var-name'><span>maintenance_flag_ghi</span></div><div class='xr-var-dims'>(maintenancetime, station)</div><div class='xr-var-dtype'>float32</div><div class='xr-var-preview xr-preview'>9.0</div><input id='attrs-80adf5e4-33dd-4b7c-a6f0-7dfa0fa3e748' class='xr-var-attrs-in' type='checkbox' ><label for='attrs-80adf5e4-33dd-4b7c-a6f0-7dfa0fa3e748' title='Show/Hide attributes'><svg class='icon xr-icon-file-text2'><use xlink:href='#icon-file-text2'></use></svg></label><input id='data-4ef12971-281e-4ad0-8dc7-d2c39c017471' class='xr-var-data-in' type='checkbox'><label for='data-4ef12971-281e-4ad0-8dc7-d2c39c017471' title='Show/Hide data repr'><svg class='icon xr-icon-database'><use xlink:href='#icon-database'></use></svg></label><div class='xr-var-attrs'><dl class='xr-attrs'><dt><span>standard_name :</span></dt><dd>quality_flag</dd><dt><span>long_name :</span></dt><dd>Maintenance quality control flags for main pyranometer</dd><dt><span>note :</span></dt><dd>Soiling describes subjectively the coverage of the pyranometer dome with dirt. The level flag is problematic if the bubble of the spirit level touches the reference ring, and bad if it is outside.</dd><dt><span>valid_range :</span></dt><dd>[0, 11]</dd><dt><span>flag_masks :</span></dt><dd>[ 3  3  3 12 12]</dd><dt><span>flag_values :</span></dt><dd>[1 2 3 4 8]</dd><dt><span>flag_meanings :</span></dt><dd>soiling_light soiling_moderate soiling_heavy level_problematic level_bad</dd><dt><span>note_general :</span></dt><dd>[&#x27;222&#x27;, &#x27;222&#x27;]</dd><dt><span>note_clean :</span></dt><dd>[&#x27;testing notes&#x27;, &#x27;testing notes&#x27;]</dd><dt><span>note_level :</span></dt><dd>[&#x27;test&#x27;, &#x27;test&#x27;]</dd></dl></div><div class='xr-var-data'><pre>array([[9.]], dtype=float32)</pre></div></li><li class='xr-var-item'><div class='xr-var-name'><span>maintenance_flag_gti</span></div><div class='xr-var-dims'>(maintenancetime, station)</div><div class='xr-var-dtype'>float32</div><div class='xr-var-preview xr-preview'>7.0</div><input id='attrs-70cd95e9-ee50-4890-8217-37a07e6f1b43' class='xr-var-attrs-in' type='checkbox' ><label for='attrs-70cd95e9-ee50-4890-8217-37a07e6f1b43' title='Show/Hide attributes'><svg class='icon xr-icon-file-text2'><use xlink:href='#icon-file-text2'></use></svg></label><input id='data-5618fcbb-4783-4a19-8f23-481267c8893e' class='xr-var-data-in' type='checkbox'><label for='data-5618fcbb-4783-4a19-8f23-481267c8893e' title='Show/Hide data repr'><svg class='icon xr-icon-database'><use xlink:href='#icon-database'></use></svg></label><div class='xr-var-attrs'><dl class='xr-attrs'><dt><span>standard_name :</span></dt><dd>quality_flag</dd><dt><span>long_name :</span></dt><dd>Maintenance quality control flags for secondary pyranometer</dd><dt><span>note :</span></dt><dd>Soiling describes subjectively the coverage of the pyranometer dome with dirt. The level flag is problematic if the bubble of the spirit level touches the reference ring, and bad if it is outside.</dd><dt><span>valid_range :</span></dt><dd>[0, 11]</dd><dt><span>flag_masks :</span></dt><dd>[ 3  3  3 12 12]</dd><dt><span>flag_values :</span></dt><dd>[1 2 3 4 8]</dd><dt><span>flag_meanings :</span></dt><dd>soiling_light soiling_moderate soiling_heavy level_problematic level_bad</dd><dt><span>note_general :</span></dt><dd>[&#x27;222&#x27;, &#x27;222&#x27;]</dd><dt><span>note_clean :</span></dt><dd>[&#x27;&#x27;, &#x27;&#x27;]</dd><dt><span>note_level :</span></dt><dd>[&#x27;&#x27;, &#x27;&#x27;]</dd></dl></div><div class='xr-var-data'><pre>array([[7.]], dtype=float32)</pre></div></li></ul></div></li><li class='xr-section-item'><input id='section-05a5cd04-ddc6-4104-9804-2d0d23eb3998' class='xr-section-summary-in' type='checkbox'  ><label for='section-05a5cd04-ddc6-4104-9804-2d0d23eb3998' class='xr-section-summary' >Indexes: <span>(3)</span></label><div class='xr-section-inline-details'></div><div class='xr-section-details'><ul class='xr-var-list'><li class='xr-var-item'><div class='xr-index-name'><div>station</div></div><div class='xr-index-preview'>PandasIndex</div><div></div><input id='index-5178eef5-1490-470d-89e5-2f54743ca017' class='xr-index-data-in' type='checkbox'/><label for='index-5178eef5-1490-470d-89e5-2f54743ca017' title='Show/Hide index repr'><svg class='icon xr-icon-database'><use xlink:href='#icon-database'></use></svg></label><div class='xr-index-data'><pre>PandasIndex(Float64Index([1.0], dtype=&#x27;float64&#x27;, name=&#x27;station&#x27;))</pre></div></li><li class='xr-var-item'><div class='xr-index-name'><div>time</div></div><div class='xr-index-preview'>PandasIndex</div><div></div><input id='index-2dee1526-9444-4f49-b5ef-756c7e26d7ba' class='xr-index-data-in' type='checkbox'/><label for='index-2dee1526-9444-4f49-b5ef-756c7e26d7ba' title='Show/Hide index repr'><svg class='icon xr-icon-database'><use xlink:href='#icon-database'></use></svg></label><div class='xr-index-data'><pre>PandasIndex(DatetimeIndex([&#x27;2022-08-30 11:21:01&#x27;, &#x27;2022-08-30 11:21:02&#x27;,\n               &#x27;2022-08-30 11:21:03&#x27;, &#x27;2022-08-30 11:21:04&#x27;,\n               &#x27;2022-08-30 11:21:05&#x27;, &#x27;2022-08-30 11:21:06&#x27;,\n               &#x27;2022-08-30 11:21:07&#x27;, &#x27;2022-08-30 11:21:08&#x27;,\n               &#x27;2022-08-30 11:21:09&#x27;],\n              dtype=&#x27;datetime64[ns]&#x27;, name=&#x27;time&#x27;, freq=&#x27;S&#x27;))</pre></div></li><li class='xr-var-item'><div class='xr-index-name'><div>maintenancetime</div></div><div class='xr-index-preview'>PandasIndex</div><div></div><input id='index-38a0042f-9ab7-40b9-b1df-94c02ae39d4f' class='xr-index-data-in' type='checkbox'/><label for='index-38a0042f-9ab7-40b9-b1df-94c02ae39d4f' title='Show/Hide index repr'><svg class='icon xr-icon-database'><use xlink:href='#icon-database'></use></svg></label><div class='xr-index-data'><pre>PandasIndex(DatetimeIndex([&#x27;2023-05-08 16:09:06&#x27;], dtype=&#x27;datetime64[ns]&#x27;, name=&#x27;maintenancetime&#x27;, freq=None))</pre></div></li></ul></div></li><li class='xr-section-item'><input id='section-b5819210-14ca-405c-90a3-a038f6985092' class='xr-section-summary-in' type='checkbox'  ><label for='section-b5819210-14ca-405c-90a3-a038f6985092' class='xr-section-summary' >Attributes: <span>(32)</span></label><div class='xr-section-inline-details'></div><div class='xr-section-details'><dl class='xr-attrs'><dt><span>Conventions :</span></dt><dd>CF-1.10, ACDD-1.3</dd><dt><span>title :</span></dt><dd>TROPOS pyranometer network (PyrNet) observational data set</dd><dt><span>history :</span></dt><dd>2024-02-23T15:23:01: Merged level l1b by pyrnet version 0.1.10+60.gc0e9399.dirty; </dd><dt><span>institution :</span></dt><dd>Leibniz Institute for Tropospheric Research (TROPOS)</dd><dt><span>source :</span></dt><dd>TROPOS pyranometer network (PyrNet)</dd><dt><span>references :</span></dt><dd>https://doi.org/10.5194/amt-9-1153-2016</dd><dt><span>Department :</span></dt><dd>Remote Sensing of Atmospheric Processes</dd><dt><span>Department_team :</span></dt><dd>Clouds, Aerosol and Radiation</dd><dt><span>Address :</span></dt><dd>Permoser Str. 15, 04318 Leipzig, Germany</dd><dt><span>Contact_person :</span></dt><dd>Andreas Macke and the clouds, aerosol and radiation team of the remote sensing department, mailto:andreas.macke@tropos.de</dd><dt><span>Contributor_name :</span></dt><dd></dd><dt><span>Contributor_role :</span></dt><dd></dd><dt><span>Authors_software :</span></dt><dd>Hartwig Deneke, Jonas Witthuhn, mailto:deneke@tropos.de</dd><dt><span>Creator_name :</span></dt><dd></dd><dt><span>Project :</span></dt><dd></dd><dt><span>Standard_name_vocabulary :</span></dt><dd>CF Standard Name Table v81</dd><dt><span>License :</span></dt><dd>CC-BY-SA 3.0</dd><dt><span>TESTNOTE :</span></dt><dd>This is a test note.</dd><dt><span>processing_level :</span></dt><dd>l1b</dd><dt><span>product_version :</span></dt><dd>0.1.10+60.gc0e9399.dirty</dd><dt><span>date_created :</span></dt><dd>2024-02-23T15:22:59</dd><dt><span>geospatial_lat_min :</span></dt><dd>51.390210333333336</dd><dt><span>geospatial_lat_max :</span></dt><dd>51.390210333333336</dd><dt><span>geospatial_lat_units :</span></dt><dd>degN</dd><dt><span>geospatial_lon_min :</span></dt><dd>11.885252</dd><dt><span>geospatial_lon_max :</span></dt><dd>11.885252</dd><dt><span>geospatial_lon_units :</span></dt><dd>degE</dd><dt><span>time_coverage_start :</span></dt><dd>2022-08-30T11:21:01</dd><dt><span>time_coverage_end :</span></dt><dd>2022-08-30T11:21:09</dd><dt><span>time_coverage_duration :</span></dt><dd>P0DT0H0M8S</dd><dt><span>time_coverage_resolution :</span></dt><dd>P0DT0H0M1S</dd><dt><span>site :</span></dt><dd>[&#x27;testsite1&#x27;, &#x27;testsite2&#x27;]</dd></dl></div></li></ul></div></div>"
     },
     "execution_count": 49,
     "metadata": {},
     "output_type": "execute_result"
    }
   ],
   "source": [
    "#|dropout\n",
    "#|dropcode\n",
    "ds_merged = merge_l1b(dslist,freq='1s',timevar='time')\n",
    "ds_merged.reindex_like(dslist[0])"
   ],
   "metadata": {
    "collapsed": false,
    "ExecuteTime": {
     "end_time": "2024-02-23T15:23:01.581550200Z",
     "start_time": "2024-02-23T15:23:00.684744500Z"
    }
   }
  },
  {
   "cell_type": "code",
   "execution_count": 50,
   "outputs": [],
   "source": [
    "#|hide\n",
    "# #|export\n",
    "# def merge_ds(ds1, ds2, timevar=\"time\"):\n",
    "#     \"\"\"Merge two datasets along the time dimension.\n",
    "#     \"\"\"\n",
    "#     if ds1[timevar].equals(ds2[timevar]):\n",
    "#         logging.info(\"Overwrite existing file.\")\n",
    "#         return ds2\n",
    "#     logging.info(\"Merge with existing file.\")\n",
    "# \n",
    "#     ## overwrite non time dependent variables\n",
    "#     overwrite_vars = [ v for v in ds1 if timevar not in ds1[v].dims ]\n",
    "# \n",
    "#     ## merge both datasets\n",
    "#     ds_new=ds1.merge(ds2,\n",
    "#                      compat='no_conflicts',\n",
    "#                      overwrite_vars=overwrite_vars)\n",
    "# \n",
    "#     # add global coverage attributes\n",
    "#     ds_new.attrs.update({'merged':1})\n",
    "# \n",
    "#     # add encoding again\n",
    "#     ds_new = add_encoding(ds_new)\n",
    "#     return ds_new"
   ],
   "metadata": {
    "collapsed": false,
    "ExecuteTime": {
     "end_time": "2024-02-23T15:23:01.581550200Z",
     "start_time": "2024-02-23T15:23:01.537238300Z"
    }
   }
  },
  {
   "cell_type": "code",
   "execution_count": 51,
   "metadata": {
    "collapsed": false,
    "ExecuteTime": {
     "end_time": "2024-02-23T15:23:03.358765300Z",
     "start_time": "2024-02-23T15:23:01.552309600Z"
    }
   },
   "outputs": [],
   "source": [
    "#|hide\n",
    "# Export module\n",
    "# Requires *nbdev* to export and update the *../lib/logger.py* module\n",
    "import nbdev.export\n",
    "import nbformat as nbf\n",
    "name = \"data\"\n",
    "\n",
    "# Export python module\n",
    "nbdev.export.nb_export( f\"{name}.ipynb\" ,f\"../../src/pyrnet\")\n",
    "\n",
    "# Export to docs\n",
    "ntbk = nbf.read(f\"{name}.ipynb\", nbf.NO_CONVERT)\n",
    "\n",
    "text_search_dict = {\n",
    "    \"#|hide\": \"remove-cell\",  # Remove the whole cell\n",
    "    \"#|dropcode\": \"hide-input\",  # Hide the input w/ a button to show\n",
    "    \"#|dropout\": \"hide-output\"  # Hide the output w/ a button to show\n",
    "}\n",
    "for cell in ntbk.cells:\n",
    "    cell_tags = cell.get('metadata', {}).get('tags', [])\n",
    "    for key, val in text_search_dict.items():\n",
    "            if key in cell['source']:\n",
    "                if val not in cell_tags:\n",
    "                    cell_tags.append(val)\n",
    "    if len(cell_tags) > 0:\n",
    "        cell['metadata']['tags'] = cell_tags\n",
    "    nbf.write(ntbk, f\"../../docs/source/nbs/{name}.ipynb\")"
   ]
  }
 ],
 "metadata": {
  "kernelspec": {
   "display_name": "Python 3 (ipykernel)",
   "language": "python",
   "name": "python3"
  },
  "language_info": {
   "codemirror_mode": {
    "name": "ipython",
    "version": 3
   },
   "file_extension": ".py",
   "mimetype": "text/x-python",
   "name": "python",
   "nbconvert_exporter": "python",
   "pygments_lexer": "ipython3",
   "version": "3.11.7"
  }
 },
 "nbformat": 4,
 "nbformat_minor": 4
}
