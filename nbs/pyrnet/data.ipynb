{
 "cells": [
  {
   "cell_type": "code",
   "execution_count": 1,
   "metadata": {
    "collapsed": false,
    "ExecuteTime": {
     "end_time": "2024-02-29T07:54:33.729772400Z",
     "start_time": "2024-02-29T07:54:32.650315200Z"
    }
   },
   "outputs": [],
   "source": [
    "#|hide\n",
    "#|default_exp data"
   ]
  },
  {
   "cell_type": "markdown",
   "metadata": {
    "collapsed": false
   },
   "source": [
    "# Data level\n",
    "\n",
    "Reading and advance in data processing levels to be stored in netcdf database format.\n",
    "\n",
    "```{note}\n",
    "raw > l1a > l1b > l1c\n",
    "```"
   ]
  },
  {
   "cell_type": "code",
   "execution_count": 2,
   "metadata": {
    "collapsed": false,
    "ExecuteTime": {
     "end_time": "2024-02-29T07:54:35.876098Z",
     "start_time": "2024-02-29T07:54:32.659290400Z"
    }
   },
   "outputs": [],
   "source": [
    "#|export\n",
    "import os\n",
    "import numpy as np\n",
    "import pandas as pd\n",
    "import xarray as xr\n",
    "import logging\n",
    "from toolz import assoc_in, merge_with\n",
    "import pkg_resources as pkg_res\n",
    "import warnings\n",
    "\n",
    "from trosat import sunpos as sp\n",
    "from trosat.cfconv import read_cfjson\n",
    "\n",
    "import pyrnet\n",
    "pyrnet_version = pyrnet.__version__\n",
    "import pyrnet.pyrnet\n",
    "import pyrnet.utils\n",
    "import pyrnet.logger\n",
    "import pyrnet.reports\n",
    "import pyrnet.qcrad\n",
    "\n",
    "# logging setup\n",
    "logging.basicConfig(\n",
    "    filename='pyrnet.log',\n",
    "    encoding='utf-8',\n",
    "    level=logging.DEBUG,\n",
    "    format='%(asctime)s %(name)s %(levelname)s:%(message)s'\n",
    ")\n",
    "logger = logging.getLogger(__name__)"
   ]
  },
  {
   "cell_type": "code",
   "execution_count": 3,
   "metadata": {
    "collapsed": false,
    "ExecuteTime": {
     "end_time": "2024-02-29T07:54:36.454474300Z",
     "start_time": "2024-02-29T07:54:35.879092400Z"
    }
   },
   "outputs": [],
   "source": [
    "import matplotlib.pyplot as plt"
   ]
  },
  {
   "cell_type": "markdown",
   "metadata": {
    "collapsed": false
   },
   "source": [
    "## netCDF dataset operations\n"
   ]
  },
  {
   "cell_type": "markdown",
   "source": [
    "### Filename\n",
    "Filename from config format string."
   ],
   "metadata": {
    "collapsed": false
   }
  },
  {
   "cell_type": "code",
   "execution_count": 4,
   "outputs": [],
   "source": [
    "#|export\n",
    "def get_fname(ds, freq, period=None, timevar='time', sfx='nc', kind=None, station=None, config=None):\n",
    "    config = get_config(config)\n",
    "    if period is None:\n",
    "        period = ds[timevar].values[-1] - ds[timevar].values[0]\n",
    "        period = pd.to_timedelta(period).floor(\"s\").isoformat()\n",
    "    if kind is None:\n",
    "        if ds.station.size==1:\n",
    "            kind = 's'\n",
    "            station = ds.station.values[0]\n",
    "        else:\n",
    "            kind = 'n'\n",
    "            station = ds.station.size\n",
    "    format_dict = dict(\n",
    "        dt = pd.to_datetime(ds[timevar].values[0]),\n",
    "        period = period,\n",
    "        campaign = config[\"campaign\"],\n",
    "        kind = kind,\n",
    "        station = int(station),\n",
    "        level = ds.processing_level,\n",
    "        freq = freq,\n",
    "        collection = int(config[\"collection\"]),\n",
    "        sfx = sfx\n",
    "    )\n",
    "    return config[\"output\"].format(**format_dict) "
   ],
   "metadata": {
    "collapsed": false,
    "ExecuteTime": {
     "end_time": "2024-02-29T07:54:36.464741400Z",
     "start_time": "2024-02-29T07:54:36.455473Z"
    }
   }
  },
  {
   "cell_type": "markdown",
   "source": [
    "### Update netcdf coverage metadata\n",
    "Add and update ACDD covarge metadata to dataset"
   ],
   "metadata": {
    "collapsed": false
   }
  },
  {
   "cell_type": "code",
   "execution_count": 5,
   "metadata": {
    "collapsed": false,
    "ExecuteTime": {
     "end_time": "2024-02-29T07:54:36.487455900Z",
     "start_time": "2024-02-29T07:54:36.469885600Z"
    }
   },
   "outputs": [],
   "source": [
    "#|export\n",
    "def update_coverage_meta(ds, timevar='time'):\n",
    "    \"\"\"Update global attributes related to geospatial and time coverage\n",
    "    \"\"\"\n",
    "    duration = ds[timevar].values[-1] - ds[timevar].values[0]\n",
    "    resolution = np.mean(np.diff(ds[timevar].values))\n",
    "    now = pd.to_datetime(np.datetime64(\"now\"))\n",
    "    gattrs = {\n",
    "        'date_created': now.isoformat(),\n",
    "        'geospatial_lat_min': np.nanmin(ds.lat.values),\n",
    "        'geospatial_lat_max': np.nanmax(ds.lat.values),\n",
    "        'geospatial_lat_units': 'degN',\n",
    "        'geospatial_lon_min': np.nanmin(ds.lon.values),\n",
    "        'geospatial_lon_max': np.nanmax(ds.lon.values),\n",
    "        'geospatial_lon_units': 'degE',\n",
    "        'time_coverage_start': pd.to_datetime(ds[timevar].values[0]).isoformat(),\n",
    "        'time_coverage_end': pd.to_datetime(ds[timevar].values[-1]).isoformat(),\n",
    "        'time_coverage_duration': pd.to_timedelta(duration).isoformat(),\n",
    "        'time_coverage_resolution': pd.to_timedelta(resolution).isoformat(),\n",
    "    }\n",
    "    ds.attrs.update(gattrs)\n",
    "    return ds\n"
   ]
  },
  {
   "cell_type": "markdown",
   "source": [
    "### Stretch resolution\n",
    "Update encoding *scale_factor* and *add_offset* to use the full dtype resolution."
   ],
   "metadata": {
    "collapsed": false
   }
  },
  {
   "cell_type": "code",
   "execution_count": 6,
   "metadata": {
    "collapsed": false,
    "ExecuteTime": {
     "end_time": "2024-02-29T07:54:36.487455900Z",
     "start_time": "2024-02-29T07:54:36.477414500Z"
    }
   },
   "outputs": [],
   "source": [
    "#|export\n",
    "def stretch_resolution(ds: xr.Dataset) -> xr.Dataset:\n",
    "    \"\"\" Stretch variable resolution to full integer size,\n",
    "    to not lose resolution after averaging ADC count data.\"\"\"\n",
    "    for var in ds:\n",
    "        if \"scale_factor\" not in ds[var].encoding:\n",
    "            continue\n",
    "        if \"valid_range\" not in ds[var].attrs:\n",
    "            continue\n",
    "        dtype = ds[var].encoding['dtype']\n",
    "        valid_range = ds[var].valid_range\n",
    "        int_limit = np.iinfo(dtype).max\n",
    "        scale_factor = ds[var].encoding['scale_factor']\n",
    "        scale_factor_mod = int((int_limit-1)/valid_range[1])\n",
    "        ds[var].encoding.update({\n",
    "            \"scale_factor\": scale_factor / scale_factor_mod,\n",
    "            \"_FillValue\": int_limit,\n",
    "        })\n",
    "        ds[var].attrs.update({\n",
    "            \"valid_range\": valid_range * scale_factor_mod\n",
    "        })\n",
    "    return ds"
   ]
  },
  {
   "cell_type": "markdown",
   "source": [
    "### Write to netcdf\n",
    "Ensure complete metadata and merge if needed before writing to netcdf."
   ],
   "metadata": {
    "collapsed": false
   }
  },
  {
   "cell_type": "code",
   "execution_count": 7,
   "metadata": {
    "collapsed": false,
    "ExecuteTime": {
     "end_time": "2024-02-29T07:54:36.586188400Z",
     "start_time": "2024-02-29T07:54:36.489974100Z"
    }
   },
   "outputs": [],
   "source": [
    "#|export\n",
    "def to_netcdf(ds, fname, timevar=\"time\"):\n",
    "    \"\"\"xarray to netcdf, but merge if exist\n",
    "    \"\"\"\n",
    "    # save to netCDF4\n",
    "    ds = update_coverage_meta(ds, timevar=timevar)\n",
    "    ds.to_netcdf(fname,\n",
    "                 encoding={timevar:{'dtype':'float64'}}) # for OpenDAP 2 compatibility\n",
    "#|export\n",
    "def to_netcdf_l1b(ds, fname, freq='1s', timevar=\"time\"):\n",
    "    \"\"\"xarray to netcdf, but merge if exist\n",
    "    \"\"\"\n",
    "    # merge if necessary\n",
    "    if isinstance(ds, xr.Dataset):\n",
    "        dslist = [ds]\n",
    "    else:\n",
    "        dslist = ds\n",
    "    \n",
    "    if os.path.exists(fname):\n",
    "        ds1 = xr.load_dataset(fname)\n",
    "        dslist.append(ds1)\n",
    "        \n",
    "    ds = merge_l1b(dslist, freq=freq, timevar=timevar)\n",
    "    # save to netCDF4\n",
    "    ds = update_coverage_meta(ds, timevar=timevar)\n",
    "    \n",
    "    if os.path.exists(fname): \n",
    "        os.remove(fname)\n",
    "    ds.to_netcdf(fname,\n",
    "                 encoding={timevar:{'dtype':'float64'}}) # for OpenDAP 2 compatibility"
   ]
  },
  {
   "cell_type": "markdown",
   "source": [
    "### Resample\n",
    "Specialized (fast) resample methods, as xarray resample is sometimes very slow."
   ],
   "metadata": {
    "collapsed": false
   }
  },
  {
   "cell_type": "code",
   "execution_count": 8,
   "metadata": {
    "collapsed": false,
    "ExecuteTime": {
     "end_time": "2024-02-29T07:54:36.586696800Z",
     "start_time": "2024-02-29T07:54:36.498462300Z"
    }
   },
   "outputs": [],
   "source": [
    "#|export\n",
    "def resample(ds, freq, methods='mean', kwargs={}):\n",
    "    \"\"\" Resample xarray dataset using pandas for speed.\n",
    "    https://github.com/pydata/xarray/issues/4498#issuecomment-706688398\n",
    "    \"\"\"\n",
    "    if isinstance(methods,str):\n",
    "        methods = [methods]\n",
    "\n",
    "    dsr = ds.to_dataframe().resample(freq)\n",
    "    dsouts = []\n",
    "    for method in methods:\n",
    "        # what we want (quickly), but in Pandas form\n",
    "        with warnings.catch_warnings():\n",
    "            warnings.simplefilter(action='ignore', category=FutureWarning)\n",
    "            df_h = dsr.apply(method)\n",
    "        # rebuild xarray dataset with attributes\n",
    "        vals = []\n",
    "        for c in df_h.columns:\n",
    "            vals.append(\n",
    "                xr.DataArray(data=df_h[c],\n",
    "                             dims=['time'],\n",
    "                             coords={'time': df_h.index},\n",
    "                             attrs=ds[c].attrs)\n",
    "            )\n",
    "        dsouts.append(xr.Dataset(dict(zip(df_h.columns, vals)), attrs=ds.attrs))\n",
    "\n",
    "    if len(dsouts) == 1:\n",
    "        dsouts = dsouts[0]\n",
    "    return dsouts"
   ]
  },
  {
   "cell_type": "markdown",
   "metadata": {
    "collapsed": false
   },
   "source": [
    "## Config \n",
    "Parse default config"
   ]
  },
  {
   "cell_type": "code",
   "execution_count": 9,
   "metadata": {
    "collapsed": false,
    "ExecuteTime": {
     "end_time": "2024-02-29T07:54:36.586696800Z",
     "start_time": "2024-02-29T07:54:36.511013600Z"
    }
   },
   "outputs": [],
   "source": [
    "#|export\n",
    "def get_config(config: dict|None = None) -> dict:\n",
    "    \"\"\"Read default config and merge with input config\n",
    "    \"\"\"\n",
    "\n",
    "    fn_config = pkg_res.resource_filename(\"pyrnet\", \"share/pyrnet_config.json\")\n",
    "    default_config = pyrnet.utils.read_json(fn_config)\n",
    "    if config is None:\n",
    "        config = default_config\n",
    "    config = {**default_config, **config}\n",
    "\n",
    "    # add default files\n",
    "    cfiles = {\n",
    "        \"file_cfmeta\": \"share/pyrnet_cfmeta.json\",\n",
    "        \"file_calibration\": \"share/pyrnet_calibration.json\",\n",
    "        \"file_mapping\": \"share/pyrnet_station_map.json\",\n",
    "        \"file_gti_angles\": \"share/pyrnet_gti_angles.json\",\n",
    "        \"file_site\": \"share/pyrnet_sites.json\",\n",
    "    }\n",
    "    for fn in cfiles:\n",
    "        if config[fn] is None:\n",
    "            config[fn] =  pkg_res.resource_filename(\"pyrnet\", cfiles[fn])\n",
    "    return config\n",
    "\n",
    "def get_sensor_config(sconfig: dict|None = None) -> dict:\n",
    "    \"\"\" Read the sensor configuration from the default json file and merge if needed. \n",
    "    \"\"\"\n",
    "    fn_config = pkg_res.resource_filename(\"pyrnet\", \"share/pyrnet_sensor_config.json\")\n",
    "    default_config = pyrnet.utils.read_json(fn_config)\n",
    "    if sconfig is None:\n",
    "        sconfig = default_config\n",
    "    sconfig = {**default_config, **sconfig}\n",
    "    return sconfig\n",
    "\n",
    "def get_cfmeta(config: dict|None = None) -> dict:\n",
    "    \"\"\"Read global and variable attributes and encoding from cfmeta.json\n",
    "    \"\"\"\n",
    "    config= get_config(config)\n",
    "    # parse the json file\n",
    "    cfdict = read_cfjson(config[\"file_cfmeta\"])\n",
    "    # get global attributes:\n",
    "    gattrs = cfdict['attributes']\n",
    "    # apply config\n",
    "    gattrs = {k:v.format_map(config) for k,v in gattrs.items()}\n",
    "    # get variable attributes\n",
    "    d = pyrnet.utils.get_var_attrs(cfdict)\n",
    "    # split encoding attributes\n",
    "    vattrs, vencode = pyrnet.utils.get_attrs_enc(d)\n",
    "    return gattrs, vattrs, vencode"
   ]
  },
  {
   "cell_type": "markdown",
   "metadata": {
    "collapsed": false
   },
   "source": [
    "## Encoding\n",
    "The encoding attributes are defined within the file PyrNet/share/pyrnet_cfmeta.json per default.\n",
    "\n",
    "The netcdf packing of data is realized via the two attributes *scale_factor* and *add_offset*:\n",
    "  ```unpacked_variable = scale_factor * packed_variable + add_offset```"
   ]
  },
  {
   "cell_type": "code",
   "execution_count": 10,
   "outputs": [],
   "source": [
    "#|export\n",
    "def calc_encoding(sconfig:dict, ADCV=3.3, ADCbits=10) -> dict:\n",
    "    ADCfac = ADCV / (2**ADCbits-1) # Last bit is reserved \n",
    "    sencoding = {}\n",
    "    for k, v in sconfig.items():\n",
    "        sencoding.update(\n",
    "            {k: dict(\n",
    "                units=v['units'],\n",
    "                scale_factor=v['C']*ADCfac/v['gain'],\n",
    "                add_offset=v['offset'],\n",
    "                valid_range= [0, min(((2**ADCbits-1), int(v['Vmax']*v['gain']/ADCfac)))]\n",
    "            )}\n",
    "        )\n",
    "    return sencoding"
   ],
   "metadata": {
    "collapsed": false,
    "ExecuteTime": {
     "end_time": "2024-02-29T07:54:36.587699200Z",
     "start_time": "2024-02-29T07:54:36.518898200Z"
    }
   }
  },
  {
   "cell_type": "code",
   "execution_count": 11,
   "outputs": [
    {
     "data": {
      "text/plain": "{'ta': {'units': 'K',\n  'scale_factor': 0.12903225806451613,\n  'add_offset': 253.15,\n  'valid_range': [0, 775]},\n 'rh': {'units': '1',\n  'scale_factor': 0.0012903225806451613,\n  'add_offset': 0.0,\n  'valid_range': [0, 775]},\n 'battery_voltage': {'units': 'V',\n  'scale_factor': 0.0064516129032258064,\n  'add_offset': 0.0,\n  'valid_range': [0, 992]},\n 'ghi': {'units': 'V',\n  'scale_factor': 1.075268817204301e-05,\n  'add_offset': 0.0,\n  'valid_range': [0, 1023]},\n 'gti': {'units': 'V',\n  'scale_factor': 1.075268817204301e-05,\n  'add_offset': 0.0,\n  'valid_range': [0, 1023]}}"
     },
     "execution_count": 11,
     "metadata": {},
     "output_type": "execute_result"
    }
   ],
   "source": [
    "sconfig = get_sensor_config()\n",
    "sencoding = calc_encoding(sconfig)\n",
    "sencoding"
   ],
   "metadata": {
    "collapsed": false,
    "ExecuteTime": {
     "end_time": "2024-02-29T07:54:36.596673300Z",
     "start_time": "2024-02-29T07:54:36.525889500Z"
    }
   }
  },
  {
   "cell_type": "code",
   "execution_count": 12,
   "metadata": {
    "collapsed": false,
    "ExecuteTime": {
     "end_time": "2024-02-29T07:54:36.598668300Z",
     "start_time": "2024-02-29T07:54:36.539283700Z"
    }
   },
   "outputs": [
    {
     "data": {
      "text/plain": "{'attributes': {'Conventions': 'CF-1.10, ACDD-1.3',\n  'title': 'TROPOS pyranometer network (PyrNet) observational data set',\n  'history': '',\n  'institution': 'Leibniz Institute for Tropospheric Research (TROPOS)',\n  'source': 'TROPOS pyranometer network (PyrNet)',\n  'references': 'https://doi.org/10.5194/amt-9-1153-2016',\n  'Department': 'Remote Sensing of Atmospheric Processes',\n  'Department_team': 'Clouds, Aerosol and Radiation',\n  'Address': 'Permoser Str. 15, 04318 Leipzig, Germany',\n  'Contact_person': 'Andreas Macke and the clouds, aerosol and radiation team of the remote sensing department, mailto:andreas.macke@tropos.de',\n  'Contributor_name': '{contributor_name}',\n  'Contributor_role': '{contributor_role}',\n  'Authors_software': 'Hartwig Deneke, Jonas Witthuhn, mailto:deneke@tropos.de',\n  'Creator_name': '{creator_name}',\n  'Project': '{project}',\n  'Standard_name_vocabulary': 'CF Standard Name Table v81',\n  'License': 'CC-BY-SA 3.0'},\n 'variables': {'ta': {'type': 'u2',\n   'attributes': {'units': 'K',\n    'long_name': 'air temperature',\n    'standard_name': 'air_temperature',\n    'scale_factor': 0.01,\n    'add_offset': 253.15,\n    '_FillValue': 65535,\n    'valid_range': [0, 10000],\n    'zlib': True}},\n  'rh': {'type': 'u2',\n   'attributes': {'units': '1',\n    'long_name': 'air relative humidity',\n    'standard_name': 'relative_humidity',\n    'scale_factor': 0.0001,\n    'add_offset': 0.0,\n    'valid_range': [0, 10000],\n    '_FillValue': 65535,\n    'zlib': True}},\n  'battery_voltage': {'type': 'u2',\n   'attributes': {'units': 'V',\n    'standard_name': 'battery_voltage',\n    'scale_factor': 0.001,\n    'add_offset': 0.0,\n    'valid_range': [0, 6400],\n    '_FillValue': 65535,\n    'zlib': True}},\n  'ghi': {'type': 'u2',\n   'attributes': {'units': 'W m-2',\n    'long_name': 'downwelling shortwave flux',\n    'standard_name': 'downwelling_shortwave_flux_in_air',\n    'scale_factor': 0.025,\n    'add_offset': 0.0,\n    'valid_range': [0, 60000],\n    '_FillValue': 65535,\n    'zlib': True}},\n  'gti': {'type': 'u2',\n   'attributes': {'units': 'V',\n    'long_name': 'downwelling shortwave flux measured on secondary platform, might be tilted',\n    'standard_name': 'downwelling_shortwave_flux_in_air',\n    'scale_factor': 0.025,\n    'add_offset': 0.0,\n    'valid_range': [0, 60000],\n    '_FillValue': 65535,\n    'zlib': True}},\n  'station': {'type': 'u1',\n   'attributes': {'units': '-',\n    'long_name': 'PyrNet unit box number',\n    '_FillValue': 255,\n    'zlib': True}},\n  'szen': {'type': 'u2',\n   'attributes': {'standard_name': 'solar_zenith_angle',\n    'units': 'degree',\n    'scale_factor': 0.005,\n    'add_offset': 0.0,\n    'valid_range': [0, 36000],\n    '_FillValue': 65535,\n    'zlib': True}},\n  'sazi': {'type': 'u2',\n   'attributes': {'standard_name': 'solar_azimuth_angle',\n    'units': 'degree',\n    'scale_factor': 0.01,\n    'add_offset': 0.0,\n    'valid_range': [0, 36000],\n    '_FillValue': 65535,\n    'zlib': True}},\n  'esd': {'type': 'f8',\n   'attributes': {'long_name': 'Earth-sun distance',\n    'note': 'Calculated based on Spencer (1971), as mean of its values over all time steps.',\n    'units': 'ua'}},\n  'maintenance_flag': {'type': 'u1',\n   'attributes': {'standard_name': 'quality_flag',\n    'long_name': 'Maintenance quality control flags',\n    'note': 'Soiling describes subjectively the coverage of the pyranometer dome with dirt. The level flag is problematic if the bubble of the spirit level touches the reference ring, and bad if it is outside.',\n    'valid_range': [0, 11],\n    'flag_masks': [3, 3, 3, 12, 12],\n    'flag_values': [1, 2, 3, 4, 8],\n    'flag_meanings': 'soiling_light soiling_moderate soiling_heavy level_problematic level_bad',\n    '_FillValue': 255,\n    'zlib': True}},\n  'qc_flag': {'type': 'u1',\n   'attributes': {'standard_name': 'quality_flag',\n    'long_name': 'Automatic quality checks.',\n    'valid_range': [0, 127],\n    'flag_masks': [1, 2, 4, 8, 16, 32, 64],\n    'flag_values': [1, 2, 4, 8, 16, 32, 64],\n    'flag_meanings': 'below_physical_limit above_physical_limit below_rare_limit above_rare_limit comparison_to_low comparison_to_high quality_control_failed',\n    '_FillValue': 255,\n    'zlib': True}},\n  'lat': {'type': 'f8',\n   'attributes': {'standard_name': 'latitude',\n    'units': 'degree_north',\n    'valid_range': [-90.0, 90.0],\n    '_FillValue': -9999.0,\n    'zlib': True}},\n  'lon': {'type': 'f8',\n   'attributes': {'standard_name': 'longitude',\n    'units': 'degree_east',\n    'valid_range': [-180.0, 180.0],\n    '_FillValue': -99999.0,\n    'zlib': True}},\n  'iadc': {'type': 'u4',\n   'attributes': {'standard_name': 'index',\n    'comment': 'index to map gps to adc records',\n    'units': '-',\n    '_FillValue': 4294967295,\n    'zlib': True}},\n  'adctime': {'type': 'u4',\n   'attributes': {'standard_name': 'time',\n    '_FillValue': 4294967295,\n    'zlib': True}},\n  'time': {'type': 'f8',\n   'attributes': {'standard_name': 'time', 'zlib': True}}}}"
     },
     "execution_count": 12,
     "metadata": {},
     "output_type": "execute_result"
    }
   ],
   "source": [
    "#|dropcode\n",
    "#|dropout\n",
    "fn_cfjson = pkg_res.resource_filename(\"pyrnet\", \"share/pyrnet_cfmeta.c01.json\")\n",
    "read_cfjson(fn_cfjson)"
   ]
  },
  {
   "cell_type": "markdown",
   "metadata": {
    "collapsed": false
   },
   "source": [
    "### Irradiance values\n",
    "\n",
    "Irradiance values are stored as Voltage for later calibration. Assigning 1500Wm-2 as maximum measurable irradiance from the irradiance sensor. The maximum counts (*valid_max*) measured by the logger can be calculated by:\n",
    " * maximum counts = $\\mathrm{gain}*1500*\\mathrm{C_{max}}*1023/3.3$\n",
    "\n",
    "Most calibration factors are in the area of 7.5 uV/Wm-2, assuming $\\mathrm{C_{max}}=8$uV/Wm-2 for this estimate seems sufficient. All radiation sensors are amplified with a fixed gain of $\\mathrm{gain}=300$.\n",
    "\n",
    "Later (level 1c+) the scale factor will be instrument specific by adding the calibration from V to W m-2\n",
    "\n",
    "### Temperature and humidity\n",
    "\n",
    "\n",
    "Calibration coefficients for Temperature and Humidity DKRF-4000 series (discontinued) https://www.driesen-kern.de/downloads/produktlinie_feuchte.pdf are:\n",
    " * Temperature (T) range :-20-80 degC  from 0-5V\n",
    " * relative Humidity (rH) range: 0-100% from 0-5V\n",
    "\n",
    "As the logger ADC range is 0-3.3V with a 10bit resolution, the sensors are measured through a voltage splitting circuit. Therefore, the ADC counts have to be doubled.\n",
    " * Voltage U [V] = $2* 3.3/1023$ [counts]\n",
    " * T = $-20 + 100*(U/5)$ [degC] = $253.15 + 100*(U/5)$ [K]\n",
    " * rH = $(U/5)$  [%]  = $(U/5)$    [%]\n",
    "\n",
    "### Ancillary data\n",
    "\n",
    "* solar zenith angle (*szen*)\n",
    "    * valid range unpacked: (0,180) (deg)\n",
    "    * packing in u2 integer (unsigned 16bit)\n",
    "        * fill value = $2^{16} - 1$\n",
    "        * scale_factor = $180 /(2^{16}-2)$\n",
    "* solar azimuth angle (*sazi*)\n",
    "    * valid range unpacked: (0,360)\n",
    "    * packing in u2 integer (unsigned 16bit)\n",
    "        * fill_value = $2^{16} -1$\n",
    "        * scale_factor= $360 / (2^{16}-2)$\n",
    "* earth sun distance (*esd*)\n",
    "    * valid range unpacked: (0.98,1.02)\n",
    "    * packing in u2 integer (unsigned 16bit)\n",
    "        * fill_value = $2^{16} -1$\n",
    "        * scale_factor= $(1.02-0.98)/(2^{16}-2)$\n",
    "        * add_offset = 0.98\n"
   ]
  },
  {
   "cell_type": "code",
   "execution_count": 13,
   "metadata": {
    "collapsed": false,
    "ExecuteTime": {
     "end_time": "2024-02-29T07:54:36.599664900Z",
     "start_time": "2024-02-29T07:54:36.562109300Z"
    }
   },
   "outputs": [
    {
     "name": "stdout",
     "output_type": "stream",
     "text": [
      "ta scale_factor: 0.12903225806451613\n",
      "ta add_offset: 253.15\n",
      "ta valid_range: [0, 775]\n",
      "\n",
      "rh scale_factor: 0.0012903225806451613\n",
      "rh add_offset: 0\n",
      "rh valid_range: [0, 775]\n",
      "\n",
      "battery scale_factor: 0.0064516129032258064\n",
      "battery add_offset: 0\n",
      "battery valid_range: [0, 992]\n",
      "\n",
      "radflux scale_factor: 1.075268817204301e-05\n",
      "radflux add_offset: 0\n",
      "radflux valid_range: [0, 1023]\n",
      "\n",
      "scale_factor szen (deg): 0.005\n",
      "add_offset szen: 0.0 \n",
      "valid_range szen: [0, 36000]\n",
      "\n",
      "scale_factor sazi (deg): 0.01\n",
      "add_offset sazi: 0.0 \n",
      "valid_range sazi: [0, 36000]\n",
      "\n",
      "scale_factor esd (AU): 1.0000000000000008e-06\n",
      "add_offset esd: 0.98 \n",
      "valid_range esd: [0, 40000]\n",
      "\n",
      "scale_factor lat (degree_north): 1e-06\n",
      "add_offset lat (degree_north): -90.\n",
      "valid_range lat: [0, 180_000_000]\n",
      "\n",
      "scale_factor lon (degree_east): 1e-06\n",
      "add_offset lon (degree_east): -180.\n",
      "valid_range lon: [0, 360_000_000]\n"
     ]
    }
   ],
   "source": [
    "#|dropcode\n",
    "#|dropout\n",
    "sensor_config = {\n",
    "    \"ta\": {\n",
    "        \"C\": 100./5., # K/V\n",
    "        \"offset\": 253.15, # K at 0V\n",
    "        \"gain\": 0.5, # measured over voltage splitter\n",
    "        \"Vmax\": 5, # V output at sensor\n",
    "    },\n",
    "    \"rh\": {\n",
    "        \"C\": 1./5., # 1/V\n",
    "        \"offset\": 0, # 0 at 0V\n",
    "        \"gain\": 0.5, # measured over voltage splitter\n",
    "        \"Vmax\": 5, # V output at sensor\n",
    "    },\n",
    "    \"battery\": {\n",
    "        \"C\": 1., # V(batt)/V\n",
    "        \"offset\": 0, # V at 0V\n",
    "        \"gain\": 0.5, # measured over voltage splitter\n",
    "        \"Vmax\": 6.4, # V output at sensor\n",
    "    },\n",
    "    \"radflux\": {\n",
    "        \"C\": 1., # Vsensor/Vmeasured\n",
    "        \"offset\": 0, # V at 0V\n",
    "        \"gain\": 300, # amplified\n",
    "        \"Vmax\": 1500*8*1e-6, # V output at sensor\n",
    "    },\n",
    "}\n",
    "ADCfac = 3.3/1023. # V/counts\n",
    "for var in sensor_config:\n",
    "    sconf = sensor_config[var]\n",
    "    print(f\"{var} scale_factor: {sconf['C']*ADCfac/sconf['gain']}\")\n",
    "    print(f\"{var} add_offset: {sconf['offset']}\")\n",
    "    print(f\"{var} valid_range: [0, {min((1023, int(sconf['Vmax']*sconf['gain']/ADCfac)))}]\")\n",
    "    print()\n",
    "\n",
    "# szen encoding\n",
    "print(f\"scale_factor szen (deg): {180./(36_000)}\")\n",
    "print(f\"add_offset szen: 0.0 \")\n",
    "print(f\"valid_range szen: [0, {36_000}]\")\n",
    "print()\n",
    "# sazi encoding\n",
    "print(f\"scale_factor sazi (deg): {360./(36_000)}\")\n",
    "print(f\"add_offset sazi: 0.0 \")\n",
    "print(f\"valid_range sazi: [0, {36_000}]\")\n",
    "print()\n",
    "# esd encoding\n",
    "print(f\"scale_factor esd (AU): {(1.02-0.98)/(40_000)}\")\n",
    "print(f\"add_offset esd: 0.98 \")\n",
    "print(f\"valid_range esd: [0, {40_000}]\")\n",
    "print()\n",
    "# lat encoding\n",
    "print(f\"scale_factor lat (degree_north): {(90.-(-90.))/180_000_000}\")\n",
    "print(f\"add_offset lat (degree_north): -90.\")\n",
    "print(f\"valid_range lat: [0, 180_000_000]\")\n",
    "print()\n",
    "# lon encoding\n",
    "print(f\"scale_factor lon (degree_east): {(180.-(-180.))/360_000_000}\")\n",
    "print(f\"add_offset lon (degree_east): -180.\")\n",
    "print(f\"valid_range lon: [0, 360_000_000]\")\n",
    "print()"
   ]
  },
  {
   "cell_type": "markdown",
   "source": [
    "### Add encoding to netcdf"
   ],
   "metadata": {
    "collapsed": false
   }
  },
  {
   "cell_type": "code",
   "execution_count": 14,
   "metadata": {
    "collapsed": false,
    "ExecuteTime": {
     "end_time": "2024-02-29T07:54:36.629730900Z",
     "start_time": "2024-02-29T07:54:36.586696800Z"
    }
   },
   "outputs": [],
   "source": [
    "#|export\n",
    "def add_encoding(ds, vencode=None):\n",
    "    \"\"\"\n",
    "    Set valid_range attribute and encoding to every variable of the dataset.\n",
    "\n",
    "    Parameters\n",
    "    ----------\n",
    "    ds: xr.Dataset\n",
    "        Dataset of any processing level. The processing level will be\n",
    "        determined by the global attribute 'processing_level'.\n",
    "    vencode: dict or None\n",
    "        Dictionary of encoding attributes by variable name, will be merged with pyrnet default cfmeta. The default is None.\n",
    "\n",
    "    Returns\n",
    "    -------\n",
    "    xr.Dataset\n",
    "        The input dataset but with encoding and valid_range attribute.\n",
    "    \"\"\"\n",
    "    # prepare netcdf encoding\n",
    "    _, vattrs_default, vencode_default = get_cfmeta()\n",
    "\n",
    "    # Add valid range temporary to encoding dict.\n",
    "    # As valid_range is not implemented in xarray encoding,\n",
    "    #  it has to be stored as a variable attribute later.\n",
    "    for k in vencode_default:\n",
    "        if \"valid_range\" in vencode_default[k]:\n",
    "            continue\n",
    "        if \"valid_range\" not in vattrs_default[k]:\n",
    "            continue\n",
    "        vencode_default = assoc_in(vencode_default,\n",
    "                                   [k,'valid_range'],\n",
    "                                   vattrs_default[k]['valid_range'])\n",
    "        \n",
    "    # merge input and default with preference on input\n",
    "    if vencode is None:\n",
    "        vencode = vencode_default\n",
    "    else:\n",
    "        a = vencode_default.copy()\n",
    "        b = vencode.copy()\n",
    "        vencode = {}\n",
    "        for k in set(a)-set(b):\n",
    "            vencode.update({k:a[k]})\n",
    "        for k in set(a)&set(b):\n",
    "            vencode.update({k: {**a[k],**b[k]}})\n",
    "        for k in set(b)-set(a):\n",
    "            vencode.update({k:b[k]})\n",
    "\n",
    "    # add encoding to Dataset\n",
    "    for k, v in vencode.items():\n",
    "        for ki in [key for key in ds if key.startswith(k)]:\n",
    "            ds[ki].encoding.update(v)\n",
    "        if \"valid_range\" not in vencode[k]:\n",
    "            continue\n",
    "        # add valid_range to variable attributes\n",
    "        for ki in [key for key in ds if key.startswith(k)]:\n",
    "            ds[ki].attrs.update({\n",
    "                'valid_range': vencode[k]['valid_range']\n",
    "            })\n",
    "            \n",
    "    # add encoding to coords\n",
    "    if ds.processing_level=='l1a':\n",
    "        ds[\"gpstime\"].encoding.update({\n",
    "            **vencode[\"time\"],\n",
    "            \"units\": f\"seconds since {np.datetime_as_string(ds.gpstime.data[0], unit='D')}T00:00Z\",\n",
    "        })\n",
    "        ds[\"maintenancetime\"].encoding.update({\n",
    "            **vencode[\"time\"],\n",
    "            \"units\": f\"seconds since {np.datetime_as_string(ds.maintenancetime.data[0], unit='D')}T00:00Z\",\n",
    "        })\n",
    "        ds[\"adctime\"].encoding.update({\n",
    "            **vencode[\"adctime\"],\n",
    "            \"units\": \"milliseconds\"\n",
    "        })\n",
    "        ds[\"station\"].encoding.update({\n",
    "            **vencode[\"station\"]\n",
    "        })\n",
    "    elif ds.processing_level == 'l1b':\n",
    "        ds[\"time\"].encoding.update({\n",
    "            **vencode[\"time\"],\n",
    "            \"units\": f\"seconds since {np.datetime_as_string(ds.time.data[0], unit='D')}T00:00Z\",\n",
    "        })\n",
    "        ds[\"maintenancetime\"].encoding.update({\n",
    "            **vencode[\"time\"],\n",
    "            \"units\": f\"seconds since {np.datetime_as_string(ds.maintenancetime.data[0], unit='D')}T00:00Z\",\n",
    "        })\n",
    "    else:\n",
    "        raise ValueError(\"Dataset has no 'processing_level' attribute.\")\n",
    "    return ds"
   ]
  },
  {
   "cell_type": "markdown",
   "metadata": {
    "collapsed": false
   },
   "source": [
    "## l1a\n",
    "Full resolution unprocessed, uncalibrated data. One data file corresponds to one maintenance period of one PyrNet station.\n",
    "\n",
    "Level *l1a* will be processed from the logger raw data with the following workflow:\n",
    "\n",
    "1. Parse raw logger file\n",
    "    * ```pyrnet.logger.read_records```\n",
    "1. Get maintenance logbook quality flags\n",
    "    * ```pyrnet.reports```\n",
    "1. Get metadata and encoding\n",
    "    * ```pyrnet_cfmeta_l1b.json```\n",
    "1. Make xarray Dataset\n",
    "1. Add variable and global attributes and encoding"
   ]
  },
  {
   "cell_type": "code",
   "execution_count": 15,
   "metadata": {
    "collapsed": false,
    "ExecuteTime": {
     "end_time": "2024-02-29T07:54:36.683681600Z",
     "start_time": "2024-02-29T07:54:36.594679600Z"
    }
   },
   "outputs": [],
   "source": [
    "config = get_config()\n",
    "gattrs, vattrs, vencode = get_cfmeta(config)\n",
    "\n",
    "# update encoding with sensor config for l1a\n",
    "sconfig = get_sensor_config()\n",
    "sencoding = calc_encoding(sconfig, ADCV=3.3, ADCbits=10)"
   ]
  },
  {
   "cell_type": "code",
   "execution_count": 16,
   "metadata": {
    "collapsed": false,
    "ExecuteTime": {
     "end_time": "2024-02-29T07:54:36.920659200Z",
     "start_time": "2024-02-29T07:54:36.611572300Z"
    }
   },
   "outputs": [
    {
     "data": {
      "text/plain": "{'ta': {'scale_factor': 0.12903225806451613,\n  'add_offset': 253.15,\n  '_FillValue': 65535,\n  'zlib': True,\n  'dtype': 'u2',\n  'gzip': True,\n  'complevel': 6,\n  'units': 'K'},\n 'rh': {'scale_factor': 0.0012903225806451613,\n  'add_offset': 0.0,\n  '_FillValue': 65535,\n  'zlib': True,\n  'dtype': 'u2',\n  'gzip': True,\n  'complevel': 6,\n  'units': '1'},\n 'battery_voltage': {'scale_factor': 0.0064516129032258064,\n  'add_offset': 0.0,\n  '_FillValue': 65535,\n  'zlib': True,\n  'dtype': 'u2',\n  'gzip': True,\n  'complevel': 6,\n  'units': 'V'},\n 'ghi': {'scale_factor': 1.075268817204301e-05,\n  'add_offset': 0.0,\n  '_FillValue': 65535,\n  'zlib': True,\n  'dtype': 'u2',\n  'gzip': True,\n  'complevel': 6,\n  'units': 'V'},\n 'gti': {'scale_factor': 1.075268817204301e-05,\n  'add_offset': 0.0,\n  '_FillValue': 65535,\n  'zlib': True,\n  'dtype': 'u2',\n  'gzip': True,\n  'complevel': 6,\n  'units': 'V'},\n 'station': {'_FillValue': 255,\n  'zlib': True,\n  'dtype': 'u1',\n  'gzip': True,\n  'complevel': 6},\n 'szen': {'scale_factor': 0.005,\n  'add_offset': 0.0,\n  '_FillValue': 65535,\n  'zlib': True,\n  'dtype': 'u2',\n  'gzip': True,\n  'complevel': 6},\n 'sazi': {'scale_factor': 0.01,\n  'add_offset': 0.0,\n  '_FillValue': 65535,\n  'zlib': True,\n  'dtype': 'u2',\n  'gzip': True,\n  'complevel': 6},\n 'esd': {'dtype': 'f8', 'gzip': True, 'complevel': 6},\n 'maintenance_flag': {'_FillValue': 255,\n  'zlib': True,\n  'dtype': 'u1',\n  'gzip': True,\n  'complevel': 6},\n 'qc_flag': {'_FillValue': 255,\n  'zlib': True,\n  'dtype': 'u1',\n  'gzip': True,\n  'complevel': 6},\n 'lat': {'_FillValue': -9999.0,\n  'zlib': True,\n  'dtype': 'f8',\n  'gzip': True,\n  'complevel': 6},\n 'lon': {'_FillValue': -99999.0,\n  'zlib': True,\n  'dtype': 'f8',\n  'gzip': True,\n  'complevel': 6},\n 'iadc': {'_FillValue': 4294967295,\n  'zlib': True,\n  'dtype': 'u4',\n  'gzip': True,\n  'complevel': 6},\n 'adctime': {'_FillValue': 4294967295,\n  'zlib': True,\n  'dtype': 'u4',\n  'gzip': True,\n  'complevel': 6},\n 'time': {'zlib': True, 'dtype': 'f8', 'gzip': True, 'complevel': 6}}"
     },
     "execution_count": 16,
     "metadata": {},
     "output_type": "execute_result"
    }
   ],
   "source": [
    "# from toolz import update_in\n",
    "for var,enc in sencoding.items():\n",
    "    for k,v in enc.items():\n",
    "        if k==\"valid_range\":\n",
    "            vattrs = assoc_in(vattrs, [var,k], v)\n",
    "        else:\n",
    "            vencode = assoc_in(vencode, [var,k], v)\n",
    "vencode"
   ]
  },
  {
   "cell_type": "markdown",
   "metadata": {
    "collapsed": false
   },
   "source": [
    "## to l1a_function"
   ]
  },
  {
   "cell_type": "code",
   "execution_count": 17,
   "metadata": {
    "collapsed": false,
    "ExecuteTime": {
     "end_time": "2024-02-29T07:54:36.947106700Z",
     "start_time": "2024-02-29T07:54:36.618717300Z"
    }
   },
   "outputs": [],
   "source": [
    "#|export\n",
    "def to_l1a(\n",
    "        fname : str,\n",
    "        *,\n",
    "        station: int,\n",
    "        report: dict|pd.DataFrame|None,\n",
    "        date_of_measure : np.datetime64 = np.datetime64(\"now\"),\n",
    "        config: dict|None = None,\n",
    "        sconfig: dict|None = None,\n",
    "        global_attrs: dict|None = None\n",
    ") -> xr.Dataset|None:\n",
    "    \"\"\"\n",
    "    Read logger raw file and parse it to xarray Dataset. Thereby, attributes and names are defined via cfmeta.json file and sun position values are calculated and added.\n",
    "\n",
    "    Parameters\n",
    "    ----------\n",
    "    fname: str\n",
    "        Path and filename of the raw logger file.\n",
    "    station: int\n",
    "        PyrNet station box number.\n",
    "    report: dict\n",
    "        Parsed maintenance report, see reports.ipynb\n",
    "    bins: int\n",
    "        Number of desired bins per day. The default is 86400, which result in\n",
    "        mean values of 1 second steps per day. Maximum resolution is 86400000.\n",
    "    date_of_measure: float, datetime or datetime64\n",
    "        A rough date of measure  to account for GPS week rollover. If measured in 2019, day resolution is recommended, before 2019 annual resolution, 2020 onwards not required. If float, interpreted as Julian day from 2000-01-01T12:00. the default is np.datetime64(\"now\").\n",
    "    config: dict\n",
    "        Stores processing specific configuration.\n",
    "            * cfjson -> path to cfmeta.json, the default is \"../share/pyrnet_cfmeta.json\"\n",
    "            * stripminutes -> number of minutes to be stripped from the data at start and end,\n",
    "                the default is 5.\n",
    "    sconfig: dict\n",
    "        Config for ADC and amplifier for each sensor. The default is \"../share/pyrnet_sensor_config.json\"\n",
    "    global_attrs: dict\n",
    "        Additional global attributes for the Dataset. (Overrides cfmeta.json attributes)\n",
    "    Returns\n",
    "    -------\n",
    "    xarray.Dataset\n",
    "        Raw Logger data for one measurement periode.\n",
    "    \"\"\"\n",
    "    ADCV = 3.3\n",
    "    ADCbits = 10\n",
    "    \n",
    "    # load and merge  default config\n",
    "    config = get_config(config)\n",
    "    gattrs, vattrs, vencode = get_cfmeta(config)\n",
    "    \n",
    "    # update encoding with sensor config for l1a\n",
    "    sconfig = get_sensor_config(sconfig)\n",
    "    sencoding = calc_encoding(sconfig, ADCV=ADCV, ADCbits=ADCbits)\n",
    "    # update encoding with sensor config for l1a\n",
    "    for var, enc in sencoding.items():\n",
    "        for k, v in enc.items():\n",
    "            if k in [\"units\"]:\n",
    "                vattrs = assoc_in(vattrs, [var, k], v)\n",
    "            else:\n",
    "                vencode = assoc_in(vencode, [var, k], v)\n",
    "                \n",
    "    # update additional global attributes\n",
    "    if global_attrs is not None:\n",
    "        gattrs.update(global_attrs)\n",
    "\n",
    "    date_of_measure = pyrnet.utils.to_datetime64(date_of_measure)\n",
    "\n",
    "    # 1. Parse raw file\n",
    "    rec_adc, rec_gprmc = pyrnet.logger.read_records(fname=fname, date_of_measure=date_of_measure)\n",
    "\n",
    "    if type(rec_adc)==bool or len(rec_gprmc.time)<3:\n",
    "        logger.debug(\"Failed to load the data from the file, because of not enough stable GPS data, or file is empty.\")\n",
    "        return None\n",
    "\n",
    "    # Get ADC time\n",
    "    adctime = pyrnet.logger.get_adc_time(rec_adc)\n",
    "\n",
    "    # ADC to Volts\n",
    "    # Drop time and internal battery sensor output (columns 0 and 1)\n",
    "    adc_volts = ADCV * rec_adc[:,2:] / float(2**ADCbits - 1)\n",
    "\n",
    "    # 2. Get Logbook maintenance quality flags\n",
    "    key = f\"{station:03d}\"\n",
    "    if report is None:\n",
    "        logger.warning(\"No report available!\")\n",
    "        report = {}\n",
    "    if isinstance(report, pd.DataFrame):\n",
    "        logger.info(f\"Parsing report at date {rec_gprmc.time[-1]}\")\n",
    "        report = pyrnet.reports.parse_report(\n",
    "            report,\n",
    "            date_of_maintenance=rec_gprmc.time[-1],\n",
    "            stations=station\n",
    "        )\n",
    "\n",
    "    if key not in report:\n",
    "        logger.warning(f\"No report for station {station} available.\")\n",
    "        warnings.warn(f\"No report for station {station} available.\")\n",
    "        qc_main = pyrnet.reports.get_qcflag(4,3)\n",
    "        qc_extra = pyrnet.reports.get_qcflag(4,3)\n",
    "        vattrs = assoc_in(vattrs, [\"maintenance_flag_ghi\",\"note_general\"], \"No maintenance report!\")\n",
    "        vattrs = assoc_in(vattrs, [\"maintenance_flag_gti\",\"note_general\"], \"No maintenance report!\")\n",
    "        vattrs = assoc_in(vattrs, [\"maintenance_flag_ghi\",\"note_clean\"], \"\")\n",
    "        vattrs = assoc_in(vattrs, [\"maintenance_flag_gti\",\"note_clean\"], \"\")\n",
    "        vattrs = assoc_in(vattrs, [\"maintenance_flag_ghi\",\"note_level\"], \"\")\n",
    "        vattrs = assoc_in(vattrs, [\"maintenance_flag_gti\",\"note_level\"], \"\")\n",
    "        maintenancetime = np.array([rec_gprmc.time.astype('datetime64[ns]')[-1]])\n",
    "    else:\n",
    "        qc_main = pyrnet.reports.get_qcflag(\n",
    "            qc_clean=report[key]['clean'],\n",
    "            qc_level=report[key]['align']\n",
    "        )\n",
    "        qc_extra = pyrnet.reports.get_qcflag(\n",
    "            qc_clean=report[key]['clean2'],\n",
    "            qc_level=report[key]['align2']\n",
    "        )\n",
    "        maintenancetime = np.array([pyrnet.utils.to_datetime64(report[key][\"maintenancetime\"])]) \n",
    "        # add qc notes\n",
    "        vattrs = assoc_in(vattrs, [\"maintenance_flag_ghi\",\"note_general\"], report[key][\"note_general\"])\n",
    "        vattrs = assoc_in(vattrs, [\"maintenance_flag_gti\",\"note_general\"], report[key][\"note_general\"])\n",
    "        vattrs = assoc_in(vattrs, [\"maintenance_flag_ghi\",\"note_clean\"], report[key][\"note_clean\"])\n",
    "        vattrs = assoc_in(vattrs, [\"maintenance_flag_gti\",\"note_clean\"], report[key][\"note_clean2\"])\n",
    "        vattrs = assoc_in(vattrs, [\"maintenance_flag_ghi\",\"note_level\"], report[key][\"note_align\"])\n",
    "        vattrs = assoc_in(vattrs, [\"maintenance_flag_gti\",\"note_level\"], report[key][\"note_align2\"])\n",
    "    qc_main = np.ubyte(qc_main)\n",
    "    qc_extra = np.ubyte(qc_extra)\n",
    "\n",
    "    # 3. Add global meta data\n",
    "    now = pd.to_datetime(np.datetime64(\"now\"))\n",
    "    gattrs.update({\n",
    "        'processing_level': 'l1a',\n",
    "        'product_version': pyrnet_version,\n",
    "        'history': f'{now.isoformat()}: Generated level l1a  by pyrnet version {pyrnet_version}; ',\n",
    "    })\n",
    "    # add site information\n",
    "    if config['sites'] is not None:\n",
    "        sites = pyrnet.utils.read_json(config['file_site'])[config['sites']]\n",
    "        if key in sites:\n",
    "            gattrs.update({ \"site\" : sites[key]})\n",
    "\n",
    "    # add gti angles\n",
    "    # default horizontal\n",
    "    vattrs = assoc_in(vattrs, [\"gti\",\"hangle\"], 0.)\n",
    "    vattrs = assoc_in(vattrs, [\"gti\",\"vangle\"], 0.)\n",
    "    # update with angles from mapping file\n",
    "    if config['gti_angles'] is not None:\n",
    "        gti_angles = pyrnet.utils.read_json(config['file_gti_angles'])[config['gti_angles']]\n",
    "        if key in gti_angles:\n",
    "            hangle = np.nan if gti_angles[key][0] is None else gti_angles[key][0]\n",
    "            vangle = np.nan if gti_angles[key][1] is None else gti_angles[key][1]\n",
    "            vattrs = assoc_in(vattrs, [\"gti\",\"hangle\"], hangle)\n",
    "            vattrs = assoc_in(vattrs, [\"gti\",\"vangle\"], vangle)\n",
    "\n",
    "    if adc_volts.shape[1]<5: # gti data is not available\n",
    "        adc_volts = np.concatenate((adc_volts,-1*np.ones(adc_volts.shape[0])[:,None]),axis=1)\n",
    "\n",
    "    # 8. Make xarray Dataset\n",
    "    values = {}\n",
    "    for k, v in sconfig.items():\n",
    "        offset = sconfig[k][\"offset\"]\n",
    "        gain = sconfig[k][\"gain\"]\n",
    "        C = sconfig[k][\"C\"]\n",
    "        iadc = sconfig[k][\"iadc\"]\n",
    "        volts = adc_volts[:,iadc][:,None]\n",
    "        values.update(\n",
    "            {k: offset + C*volts/gain}\n",
    "        )\n",
    "    ds = xr.Dataset(\n",
    "        data_vars={\n",
    "            \"ghi\": ((\"adctime\",\"station\"), values[\"ghi\"]), # [V]\n",
    "            \"gti\": ((\"adctime\",\"station\"), values[\"gti\"]), # [V]\n",
    "            \"ta\": ((\"adctime\",\"station\"), values[\"ta\"]), # [K]\n",
    "            \"rh\": ((\"adctime\",\"station\"), values[\"rh\"]), # [-]\n",
    "            \"battery_voltage\": ((\"adctime\",\"station\"), values[\"battery_voltage\"]), # [V]\n",
    "            \"lat\": ((\"gpstime\",\"station\"), rec_gprmc.lat[:,None]), # [degN]\n",
    "            \"lon\": ((\"gpstime\",\"station\"), rec_gprmc.lon[:,None]), # [degE]\n",
    "            \"maintenance_flag_ghi\": ((\"maintenancetime\",\"station\"), [[qc_main]]),\n",
    "            \"maintenance_flag_gti\": ((\"maintenancetime\",\"station\"), [[qc_extra]]),\n",
    "            \"iadc\": ((\"gpstime\", \"station\"), rec_gprmc.iadc[:,None])\n",
    "        },\n",
    "        coords={\n",
    "            \"adctime\": (\"adctime\", adctime.astype('timedelta64[ns]')),\n",
    "            \"gpstime\": (\"gpstime\", rec_gprmc.time.astype('datetime64[ns]')),\n",
    "            \"maintenancetime\": (\"maintenancetime\", maintenancetime),\n",
    "            \"station\": (\"station\", [np.ubyte(station)]),\n",
    "        },\n",
    "        attrs=gattrs\n",
    "    )\n",
    "\n",
    "    # drop ocurance of douplicate gps values\n",
    "    ds = ds.drop_duplicates(\"gpstime\")\n",
    "\n",
    "    # add global coverage attributes\n",
    "    ds = update_coverage_meta(ds, timevar=\"gpstime\")\n",
    "\n",
    "    # add attributes to Dataset\n",
    "    for k,v in vattrs.items():\n",
    "        if k not in ds.keys():\n",
    "            continue\n",
    "        ds[k].attrs = v\n",
    "\n",
    "    # add encoding to Dataset\n",
    "    ds = add_encoding(ds, vencode)\n",
    "\n",
    "    return ds"
   ]
  },
  {
   "cell_type": "markdown",
   "metadata": {
    "collapsed": false
   },
   "source": [
    "## Test to_l1a function"
   ]
  },
  {
   "cell_type": "code",
   "execution_count": 18,
   "metadata": {
    "collapsed": false,
    "ExecuteTime": {
     "end_time": "2024-02-29T07:54:36.985059200Z",
     "start_time": "2024-02-29T07:54:36.645785500Z"
    }
   },
   "outputs": [
    {
     "name": "stdout",
     "output_type": "stream",
     "text": [
      "Processing fname:\n",
      "2022-08-30_P0DT0H0M4S_pyrnet__s001l1af10Hz.c01.nc\n"
     ]
    },
    {
     "data": {
      "text/plain": "<xarray.Dataset>\nDimensions:               (adctime: 77, station: 1, gpstime: 5,\n                           maintenancetime: 1)\nCoordinates:\n  * adctime               (adctime) timedelta64[ns] 00:00:00 ... 00:00:07.600000\n  * gpstime               (gpstime) datetime64[ns] 2022-08-30T11:21:04.065000...\n  * maintenancetime       (maintenancetime) datetime64[ns] 2023-05-08T16:09:06\n  * station               (station) uint8 1\nData variables:\n    ghi                   (adctime, station) float64 0.002086 ... 0.002086\n    gti                   (adctime, station) float64 0.001935 ... 0.001935\n    ta                    (adctime, station) float64 294.7 294.7 ... 294.8 295.0\n    rh                    (adctime, station) float64 0.6245 0.6245 ... 0.6297\n    battery_voltage       (adctime, station) float64 6.452 6.439 ... 6.465 6.452\n    lat                   (gpstime, station) float64 51.39 51.39 ... 51.39 51.39\n    lon                   (gpstime, station) float64 11.89 11.89 ... 11.89 11.89\n    maintenance_flag_ghi  (maintenancetime, station) uint8 9\n    maintenance_flag_gti  (maintenancetime, station) uint8 7\n    iadc                  (gpstime, station) uint32 26 35 54 64 74\nAttributes: (12/31)\n    Conventions:               CF-1.10, ACDD-1.3\n    title:                     TROPOS pyranometer network (PyrNet) observatio...\n    history:                   2024-02-29T07:54:36: Generated level l1a  by p...\n    institution:               Leibniz Institute for Tropospheric Research (T...\n    source:                    TROPOS pyranometer network (PyrNet)\n    references:                https://doi.org/10.5194/amt-9-1153-2016\n    ...                        ...\n    geospatial_lon_max:        11.885256666666667\n    geospatial_lon_units:      degE\n    time_coverage_start:       2022-08-30T11:21:04.065000\n    time_coverage_end:         2022-08-30T11:21:09\n    time_coverage_duration:    P0DT0H0M4.935S\n    time_coverage_resolution:  P0DT0H0M1.23375S",
      "text/html": "<div><svg style=\"position: absolute; width: 0; height: 0; overflow: hidden\">\n<defs>\n<symbol id=\"icon-database\" viewBox=\"0 0 32 32\">\n<path d=\"M16 0c-8.837 0-16 2.239-16 5v4c0 2.761 7.163 5 16 5s16-2.239 16-5v-4c0-2.761-7.163-5-16-5z\"></path>\n<path d=\"M16 17c-8.837 0-16-2.239-16-5v6c0 2.761 7.163 5 16 5s16-2.239 16-5v-6c0 2.761-7.163 5-16 5z\"></path>\n<path d=\"M16 26c-8.837 0-16-2.239-16-5v6c0 2.761 7.163 5 16 5s16-2.239 16-5v-6c0 2.761-7.163 5-16 5z\"></path>\n</symbol>\n<symbol id=\"icon-file-text2\" viewBox=\"0 0 32 32\">\n<path d=\"M28.681 7.159c-0.694-0.947-1.662-2.053-2.724-3.116s-2.169-2.030-3.116-2.724c-1.612-1.182-2.393-1.319-2.841-1.319h-15.5c-1.378 0-2.5 1.121-2.5 2.5v27c0 1.378 1.122 2.5 2.5 2.5h23c1.378 0 2.5-1.122 2.5-2.5v-19.5c0-0.448-0.137-1.23-1.319-2.841zM24.543 5.457c0.959 0.959 1.712 1.825 2.268 2.543h-4.811v-4.811c0.718 0.556 1.584 1.309 2.543 2.268zM28 29.5c0 0.271-0.229 0.5-0.5 0.5h-23c-0.271 0-0.5-0.229-0.5-0.5v-27c0-0.271 0.229-0.5 0.5-0.5 0 0 15.499-0 15.5 0v7c0 0.552 0.448 1 1 1h7v19.5z\"></path>\n<path d=\"M23 26h-14c-0.552 0-1-0.448-1-1s0.448-1 1-1h14c0.552 0 1 0.448 1 1s-0.448 1-1 1z\"></path>\n<path d=\"M23 22h-14c-0.552 0-1-0.448-1-1s0.448-1 1-1h14c0.552 0 1 0.448 1 1s-0.448 1-1 1z\"></path>\n<path d=\"M23 18h-14c-0.552 0-1-0.448-1-1s0.448-1 1-1h14c0.552 0 1 0.448 1 1s-0.448 1-1 1z\"></path>\n</symbol>\n</defs>\n</svg>\n<style>/* CSS stylesheet for displaying xarray objects in jupyterlab.\n *\n */\n\n:root {\n  --xr-font-color0: var(--jp-content-font-color0, rgba(0, 0, 0, 1));\n  --xr-font-color2: var(--jp-content-font-color2, rgba(0, 0, 0, 0.54));\n  --xr-font-color3: var(--jp-content-font-color3, rgba(0, 0, 0, 0.38));\n  --xr-border-color: var(--jp-border-color2, #e0e0e0);\n  --xr-disabled-color: var(--jp-layout-color3, #bdbdbd);\n  --xr-background-color: var(--jp-layout-color0, white);\n  --xr-background-color-row-even: var(--jp-layout-color1, white);\n  --xr-background-color-row-odd: var(--jp-layout-color2, #eeeeee);\n}\n\nhtml[theme=dark],\nbody[data-theme=dark],\nbody.vscode-dark {\n  --xr-font-color0: rgba(255, 255, 255, 1);\n  --xr-font-color2: rgba(255, 255, 255, 0.54);\n  --xr-font-color3: rgba(255, 255, 255, 0.38);\n  --xr-border-color: #1F1F1F;\n  --xr-disabled-color: #515151;\n  --xr-background-color: #111111;\n  --xr-background-color-row-even: #111111;\n  --xr-background-color-row-odd: #313131;\n}\n\n.xr-wrap {\n  display: block !important;\n  min-width: 300px;\n  max-width: 700px;\n}\n\n.xr-text-repr-fallback {\n  /* fallback to plain text repr when CSS is not injected (untrusted notebook) */\n  display: none;\n}\n\n.xr-header {\n  padding-top: 6px;\n  padding-bottom: 6px;\n  margin-bottom: 4px;\n  border-bottom: solid 1px var(--xr-border-color);\n}\n\n.xr-header > div,\n.xr-header > ul {\n  display: inline;\n  margin-top: 0;\n  margin-bottom: 0;\n}\n\n.xr-obj-type,\n.xr-array-name {\n  margin-left: 2px;\n  margin-right: 10px;\n}\n\n.xr-obj-type {\n  color: var(--xr-font-color2);\n}\n\n.xr-sections {\n  padding-left: 0 !important;\n  display: grid;\n  grid-template-columns: 150px auto auto 1fr 20px 20px;\n}\n\n.xr-section-item {\n  display: contents;\n}\n\n.xr-section-item input {\n  display: none;\n}\n\n.xr-section-item input + label {\n  color: var(--xr-disabled-color);\n}\n\n.xr-section-item input:enabled + label {\n  cursor: pointer;\n  color: var(--xr-font-color2);\n}\n\n.xr-section-item input:enabled + label:hover {\n  color: var(--xr-font-color0);\n}\n\n.xr-section-summary {\n  grid-column: 1;\n  color: var(--xr-font-color2);\n  font-weight: 500;\n}\n\n.xr-section-summary > span {\n  display: inline-block;\n  padding-left: 0.5em;\n}\n\n.xr-section-summary-in:disabled + label {\n  color: var(--xr-font-color2);\n}\n\n.xr-section-summary-in + label:before {\n  display: inline-block;\n  content: '►';\n  font-size: 11px;\n  width: 15px;\n  text-align: center;\n}\n\n.xr-section-summary-in:disabled + label:before {\n  color: var(--xr-disabled-color);\n}\n\n.xr-section-summary-in:checked + label:before {\n  content: '▼';\n}\n\n.xr-section-summary-in:checked + label > span {\n  display: none;\n}\n\n.xr-section-summary,\n.xr-section-inline-details {\n  padding-top: 4px;\n  padding-bottom: 4px;\n}\n\n.xr-section-inline-details {\n  grid-column: 2 / -1;\n}\n\n.xr-section-details {\n  display: none;\n  grid-column: 1 / -1;\n  margin-bottom: 5px;\n}\n\n.xr-section-summary-in:checked ~ .xr-section-details {\n  display: contents;\n}\n\n.xr-array-wrap {\n  grid-column: 1 / -1;\n  display: grid;\n  grid-template-columns: 20px auto;\n}\n\n.xr-array-wrap > label {\n  grid-column: 1;\n  vertical-align: top;\n}\n\n.xr-preview {\n  color: var(--xr-font-color3);\n}\n\n.xr-array-preview,\n.xr-array-data {\n  padding: 0 5px !important;\n  grid-column: 2;\n}\n\n.xr-array-data,\n.xr-array-in:checked ~ .xr-array-preview {\n  display: none;\n}\n\n.xr-array-in:checked ~ .xr-array-data,\n.xr-array-preview {\n  display: inline-block;\n}\n\n.xr-dim-list {\n  display: inline-block !important;\n  list-style: none;\n  padding: 0 !important;\n  margin: 0;\n}\n\n.xr-dim-list li {\n  display: inline-block;\n  padding: 0;\n  margin: 0;\n}\n\n.xr-dim-list:before {\n  content: '(';\n}\n\n.xr-dim-list:after {\n  content: ')';\n}\n\n.xr-dim-list li:not(:last-child):after {\n  content: ',';\n  padding-right: 5px;\n}\n\n.xr-has-index {\n  font-weight: bold;\n}\n\n.xr-var-list,\n.xr-var-item {\n  display: contents;\n}\n\n.xr-var-item > div,\n.xr-var-item label,\n.xr-var-item > .xr-var-name span {\n  background-color: var(--xr-background-color-row-even);\n  margin-bottom: 0;\n}\n\n.xr-var-item > .xr-var-name:hover span {\n  padding-right: 5px;\n}\n\n.xr-var-list > li:nth-child(odd) > div,\n.xr-var-list > li:nth-child(odd) > label,\n.xr-var-list > li:nth-child(odd) > .xr-var-name span {\n  background-color: var(--xr-background-color-row-odd);\n}\n\n.xr-var-name {\n  grid-column: 1;\n}\n\n.xr-var-dims {\n  grid-column: 2;\n}\n\n.xr-var-dtype {\n  grid-column: 3;\n  text-align: right;\n  color: var(--xr-font-color2);\n}\n\n.xr-var-preview {\n  grid-column: 4;\n}\n\n.xr-index-preview {\n  grid-column: 2 / 5;\n  color: var(--xr-font-color2);\n}\n\n.xr-var-name,\n.xr-var-dims,\n.xr-var-dtype,\n.xr-preview,\n.xr-attrs dt {\n  white-space: nowrap;\n  overflow: hidden;\n  text-overflow: ellipsis;\n  padding-right: 10px;\n}\n\n.xr-var-name:hover,\n.xr-var-dims:hover,\n.xr-var-dtype:hover,\n.xr-attrs dt:hover {\n  overflow: visible;\n  width: auto;\n  z-index: 1;\n}\n\n.xr-var-attrs,\n.xr-var-data,\n.xr-index-data {\n  display: none;\n  background-color: var(--xr-background-color) !important;\n  padding-bottom: 5px !important;\n}\n\n.xr-var-attrs-in:checked ~ .xr-var-attrs,\n.xr-var-data-in:checked ~ .xr-var-data,\n.xr-index-data-in:checked ~ .xr-index-data {\n  display: block;\n}\n\n.xr-var-data > table {\n  float: right;\n}\n\n.xr-var-name span,\n.xr-var-data,\n.xr-index-name div,\n.xr-index-data,\n.xr-attrs {\n  padding-left: 25px !important;\n}\n\n.xr-attrs,\n.xr-var-attrs,\n.xr-var-data,\n.xr-index-data {\n  grid-column: 1 / -1;\n}\n\ndl.xr-attrs {\n  padding: 0;\n  margin: 0;\n  display: grid;\n  grid-template-columns: 125px auto;\n}\n\n.xr-attrs dt,\n.xr-attrs dd {\n  padding: 0;\n  margin: 0;\n  float: left;\n  padding-right: 10px;\n  width: auto;\n}\n\n.xr-attrs dt {\n  font-weight: normal;\n  grid-column: 1;\n}\n\n.xr-attrs dt:hover span {\n  display: inline-block;\n  background: var(--xr-background-color);\n  padding-right: 10px;\n}\n\n.xr-attrs dd {\n  grid-column: 2;\n  white-space: pre-wrap;\n  word-break: break-all;\n}\n\n.xr-icon-database,\n.xr-icon-file-text2,\n.xr-no-icon {\n  display: inline-block;\n  vertical-align: middle;\n  width: 1em;\n  height: 1.5em !important;\n  stroke-width: 0;\n  stroke: currentColor;\n  fill: currentColor;\n}\n</style><pre class='xr-text-repr-fallback'>&lt;xarray.Dataset&gt;\nDimensions:               (adctime: 77, station: 1, gpstime: 5,\n                           maintenancetime: 1)\nCoordinates:\n  * adctime               (adctime) timedelta64[ns] 00:00:00 ... 00:00:07.600000\n  * gpstime               (gpstime) datetime64[ns] 2022-08-30T11:21:04.065000...\n  * maintenancetime       (maintenancetime) datetime64[ns] 2023-05-08T16:09:06\n  * station               (station) uint8 1\nData variables:\n    ghi                   (adctime, station) float64 0.002086 ... 0.002086\n    gti                   (adctime, station) float64 0.001935 ... 0.001935\n    ta                    (adctime, station) float64 294.7 294.7 ... 294.8 295.0\n    rh                    (adctime, station) float64 0.6245 0.6245 ... 0.6297\n    battery_voltage       (adctime, station) float64 6.452 6.439 ... 6.465 6.452\n    lat                   (gpstime, station) float64 51.39 51.39 ... 51.39 51.39\n    lon                   (gpstime, station) float64 11.89 11.89 ... 11.89 11.89\n    maintenance_flag_ghi  (maintenancetime, station) uint8 9\n    maintenance_flag_gti  (maintenancetime, station) uint8 7\n    iadc                  (gpstime, station) uint32 26 35 54 64 74\nAttributes: (12/31)\n    Conventions:               CF-1.10, ACDD-1.3\n    title:                     TROPOS pyranometer network (PyrNet) observatio...\n    history:                   2024-02-29T07:54:36: Generated level l1a  by p...\n    institution:               Leibniz Institute for Tropospheric Research (T...\n    source:                    TROPOS pyranometer network (PyrNet)\n    references:                https://doi.org/10.5194/amt-9-1153-2016\n    ...                        ...\n    geospatial_lon_max:        11.885256666666667\n    geospatial_lon_units:      degE\n    time_coverage_start:       2022-08-30T11:21:04.065000\n    time_coverage_end:         2022-08-30T11:21:09\n    time_coverage_duration:    P0DT0H0M4.935S\n    time_coverage_resolution:  P0DT0H0M1.23375S</pre><div class='xr-wrap' style='display:none'><div class='xr-header'><div class='xr-obj-type'>xarray.Dataset</div></div><ul class='xr-sections'><li class='xr-section-item'><input id='section-8b9fda3d-474f-4cb2-a8b2-365cae012e3f' class='xr-section-summary-in' type='checkbox' disabled ><label for='section-8b9fda3d-474f-4cb2-a8b2-365cae012e3f' class='xr-section-summary'  title='Expand/collapse section'>Dimensions:</label><div class='xr-section-inline-details'><ul class='xr-dim-list'><li><span class='xr-has-index'>adctime</span>: 77</li><li><span class='xr-has-index'>station</span>: 1</li><li><span class='xr-has-index'>gpstime</span>: 5</li><li><span class='xr-has-index'>maintenancetime</span>: 1</li></ul></div><div class='xr-section-details'></div></li><li class='xr-section-item'><input id='section-4dc90942-9fb3-4b5c-a1f0-e54356a34fe1' class='xr-section-summary-in' type='checkbox'  checked><label for='section-4dc90942-9fb3-4b5c-a1f0-e54356a34fe1' class='xr-section-summary' >Coordinates: <span>(4)</span></label><div class='xr-section-inline-details'></div><div class='xr-section-details'><ul class='xr-var-list'><li class='xr-var-item'><div class='xr-var-name'><span class='xr-has-index'>adctime</span></div><div class='xr-var-dims'>(adctime)</div><div class='xr-var-dtype'>timedelta64[ns]</div><div class='xr-var-preview xr-preview'>00:00:00 ... 00:00:07.600000</div><input id='attrs-364d151b-f07e-4695-b535-3300d5154e38' class='xr-var-attrs-in' type='checkbox' ><label for='attrs-364d151b-f07e-4695-b535-3300d5154e38' title='Show/Hide attributes'><svg class='icon xr-icon-file-text2'><use xlink:href='#icon-file-text2'></use></svg></label><input id='data-40777d23-1252-4711-9050-8172392ef6f0' class='xr-var-data-in' type='checkbox'><label for='data-40777d23-1252-4711-9050-8172392ef6f0' title='Show/Hide data repr'><svg class='icon xr-icon-database'><use xlink:href='#icon-database'></use></svg></label><div class='xr-var-attrs'><dl class='xr-attrs'><dt><span>standard_name :</span></dt><dd>time</dd></dl></div><div class='xr-var-data'><pre>array([         0,  100000000,  200000000,  300000000,  400000000,  500000000,\n        600000000,  700000000,  800000000,  900000000, 1000000000, 1100000000,\n       1200000000, 1300000000, 1400000000, 1500000000, 1600000000, 1700000000,\n       1800000000, 1900000000, 2000000000, 2100000000, 2200000000, 2300000000,\n       2400000000, 2500000000, 2600000000, 2700000000, 2800000000, 2900000000,\n       3000000000, 3100000000, 3200000000, 3300000000, 3400000000, 3500000000,\n       3600000000, 3700000000, 3800000000, 3900000000, 4000000000, 4100000000,\n       4200000000, 4300000000, 4400000000, 4500000000, 4600000000, 4700000000,\n       4800000000, 4900000000, 5000000000, 5100000000, 5200000000, 5300000000,\n       5400000000, 5500000000, 5600000000, 5700000000, 5800000000, 5900000000,\n       6000000000, 6100000000, 6200000000, 6300000000, 6400000000, 6500000000,\n       6600000000, 6700000000, 6800000000, 6900000000, 7000000000, 7100000000,\n       7200000000, 7300000000, 7400000000, 7500000000, 7600000000],\n      dtype=&#x27;timedelta64[ns]&#x27;)</pre></div></li><li class='xr-var-item'><div class='xr-var-name'><span class='xr-has-index'>gpstime</span></div><div class='xr-var-dims'>(gpstime)</div><div class='xr-var-dtype'>datetime64[ns]</div><div class='xr-var-preview xr-preview'>2022-08-30T11:21:04.065000 ... 2...</div><input id='attrs-0482d088-6235-4340-8baa-214b96cfe936' class='xr-var-attrs-in' type='checkbox' disabled><label for='attrs-0482d088-6235-4340-8baa-214b96cfe936' title='Show/Hide attributes'><svg class='icon xr-icon-file-text2'><use xlink:href='#icon-file-text2'></use></svg></label><input id='data-967c2530-14c2-4cf3-8bf4-dac363920f43' class='xr-var-data-in' type='checkbox'><label for='data-967c2530-14c2-4cf3-8bf4-dac363920f43' title='Show/Hide data repr'><svg class='icon xr-icon-database'><use xlink:href='#icon-database'></use></svg></label><div class='xr-var-attrs'><dl class='xr-attrs'></dl></div><div class='xr-var-data'><pre>array([&#x27;2022-08-30T11:21:04.065000000&#x27;, &#x27;2022-08-30T11:21:05.065000000&#x27;,\n       &#x27;2022-08-30T11:21:07.000000000&#x27;, &#x27;2022-08-30T11:21:08.000000000&#x27;,\n       &#x27;2022-08-30T11:21:09.000000000&#x27;], dtype=&#x27;datetime64[ns]&#x27;)</pre></div></li><li class='xr-var-item'><div class='xr-var-name'><span class='xr-has-index'>maintenancetime</span></div><div class='xr-var-dims'>(maintenancetime)</div><div class='xr-var-dtype'>datetime64[ns]</div><div class='xr-var-preview xr-preview'>2023-05-08T16:09:06</div><input id='attrs-484534fa-b011-4169-aac8-009350c79fbe' class='xr-var-attrs-in' type='checkbox' disabled><label for='attrs-484534fa-b011-4169-aac8-009350c79fbe' title='Show/Hide attributes'><svg class='icon xr-icon-file-text2'><use xlink:href='#icon-file-text2'></use></svg></label><input id='data-5c1e8181-2c04-41ca-99e6-070d7043a5e5' class='xr-var-data-in' type='checkbox'><label for='data-5c1e8181-2c04-41ca-99e6-070d7043a5e5' title='Show/Hide data repr'><svg class='icon xr-icon-database'><use xlink:href='#icon-database'></use></svg></label><div class='xr-var-attrs'><dl class='xr-attrs'></dl></div><div class='xr-var-data'><pre>array([&#x27;2023-05-08T16:09:06.000000000&#x27;], dtype=&#x27;datetime64[ns]&#x27;)</pre></div></li><li class='xr-var-item'><div class='xr-var-name'><span class='xr-has-index'>station</span></div><div class='xr-var-dims'>(station)</div><div class='xr-var-dtype'>uint8</div><div class='xr-var-preview xr-preview'>1</div><input id='attrs-4755cc31-d87e-4c8c-816b-f59eba7521a6' class='xr-var-attrs-in' type='checkbox' ><label for='attrs-4755cc31-d87e-4c8c-816b-f59eba7521a6' title='Show/Hide attributes'><svg class='icon xr-icon-file-text2'><use xlink:href='#icon-file-text2'></use></svg></label><input id='data-99a18fce-9db7-4b19-be98-a0dda9e79da1' class='xr-var-data-in' type='checkbox'><label for='data-99a18fce-9db7-4b19-be98-a0dda9e79da1' title='Show/Hide data repr'><svg class='icon xr-icon-database'><use xlink:href='#icon-database'></use></svg></label><div class='xr-var-attrs'><dl class='xr-attrs'><dt><span>units :</span></dt><dd>-</dd><dt><span>long_name :</span></dt><dd>PyrNet unit box number</dd></dl></div><div class='xr-var-data'><pre>array([1], dtype=uint8)</pre></div></li></ul></div></li><li class='xr-section-item'><input id='section-0a1d3429-e744-4c0b-9dee-cd4b4e1f0cc0' class='xr-section-summary-in' type='checkbox'  checked><label for='section-0a1d3429-e744-4c0b-9dee-cd4b4e1f0cc0' class='xr-section-summary' >Data variables: <span>(10)</span></label><div class='xr-section-inline-details'></div><div class='xr-section-details'><ul class='xr-var-list'><li class='xr-var-item'><div class='xr-var-name'><span>ghi</span></div><div class='xr-var-dims'>(adctime, station)</div><div class='xr-var-dtype'>float64</div><div class='xr-var-preview xr-preview'>0.002086 0.002086 ... 0.002086</div><input id='attrs-ea6efd07-7247-41b5-9439-2d5c5c46df81' class='xr-var-attrs-in' type='checkbox' ><label for='attrs-ea6efd07-7247-41b5-9439-2d5c5c46df81' title='Show/Hide attributes'><svg class='icon xr-icon-file-text2'><use xlink:href='#icon-file-text2'></use></svg></label><input id='data-4ce4ee0d-743b-499d-b0ac-8f9b8d1e4c7d' class='xr-var-data-in' type='checkbox'><label for='data-4ce4ee0d-743b-499d-b0ac-8f9b8d1e4c7d' title='Show/Hide data repr'><svg class='icon xr-icon-database'><use xlink:href='#icon-database'></use></svg></label><div class='xr-var-attrs'><dl class='xr-attrs'><dt><span>units :</span></dt><dd>V</dd><dt><span>long_name :</span></dt><dd>downwelling shortwave flux</dd><dt><span>standard_name :</span></dt><dd>downwelling_shortwave_flux_in_air</dd><dt><span>valid_range :</span></dt><dd>[0, 1023]</dd></dl></div><div class='xr-var-data'><pre>array([[0.00208602],\n       [0.00208602],\n       [0.00208602],\n       [0.00208602],\n       [0.00208602],\n       [0.00208602],\n       [0.00208602],\n       [0.00208602],\n       [0.00208602],\n       [0.00208602],\n       [0.00208602],\n       [0.00208602],\n       [0.00208602],\n       [0.00208602],\n       [0.00208602],\n       [0.00208602],\n       [0.00208602],\n       [0.00208602],\n       [0.00208602],\n       [0.00208602],\n...\n       [0.00207527],\n       [0.00208602],\n       [0.00208602],\n       [0.00208602],\n       [0.00208602],\n       [0.00208602],\n       [0.00208602],\n       [0.00208602],\n       [0.00208602],\n       [0.00208602],\n       [0.00208602],\n       [0.00208602],\n       [0.00208602],\n       [0.00208602],\n       [0.00208602],\n       [0.00208602],\n       [0.00208602],\n       [0.00208602],\n       [0.00208602],\n       [0.00208602]])</pre></div></li><li class='xr-var-item'><div class='xr-var-name'><span>gti</span></div><div class='xr-var-dims'>(adctime, station)</div><div class='xr-var-dtype'>float64</div><div class='xr-var-preview xr-preview'>0.001935 0.001935 ... 0.001935</div><input id='attrs-cd03ff53-20cf-48da-9500-dbb34d7560c7' class='xr-var-attrs-in' type='checkbox' ><label for='attrs-cd03ff53-20cf-48da-9500-dbb34d7560c7' title='Show/Hide attributes'><svg class='icon xr-icon-file-text2'><use xlink:href='#icon-file-text2'></use></svg></label><input id='data-c47a4459-01a1-4cc3-8bbe-445958e08aba' class='xr-var-data-in' type='checkbox'><label for='data-c47a4459-01a1-4cc3-8bbe-445958e08aba' title='Show/Hide data repr'><svg class='icon xr-icon-database'><use xlink:href='#icon-database'></use></svg></label><div class='xr-var-attrs'><dl class='xr-attrs'><dt><span>units :</span></dt><dd>V</dd><dt><span>long_name :</span></dt><dd>downwelling shortwave flux measured on secondary platform, might be tilted</dd><dt><span>standard_name :</span></dt><dd>downwelling_shortwave_flux_in_air</dd><dt><span>valid_range :</span></dt><dd>[0, 1023]</dd><dt><span>hangle :</span></dt><dd>0.0</dd><dt><span>vangle :</span></dt><dd>0.0</dd></dl></div><div class='xr-var-data'><pre>array([[0.00193548],\n       [0.00193548],\n       [0.00193548],\n       [0.00193548],\n       [0.00194624],\n       [0.00193548],\n       [0.00194624],\n       [0.00193548],\n       [0.00193548],\n       [0.00193548],\n       [0.00193548],\n       [0.00194624],\n       [0.00193548],\n       [0.00193548],\n       [0.00193548],\n       [0.00193548],\n       [0.00193548],\n       [0.00193548],\n       [0.00193548],\n       [0.00193548],\n...\n       [0.00193548],\n       [0.00193548],\n       [0.00193548],\n       [0.00193548],\n       [0.00193548],\n       [0.00193548],\n       [0.00192473],\n       [0.00192473],\n       [0.00193548],\n       [0.00193548],\n       [0.00193548],\n       [0.00193548],\n       [0.00193548],\n       [0.00193548],\n       [0.00193548],\n       [0.00193548],\n       [0.00193548],\n       [0.00193548],\n       [0.00194624],\n       [0.00193548]])</pre></div></li><li class='xr-var-item'><div class='xr-var-name'><span>ta</span></div><div class='xr-var-dims'>(adctime, station)</div><div class='xr-var-dtype'>float64</div><div class='xr-var-preview xr-preview'>294.7 294.7 294.7 ... 294.8 295.0</div><input id='attrs-6d575b99-e396-44fd-9186-242c231d670b' class='xr-var-attrs-in' type='checkbox' ><label for='attrs-6d575b99-e396-44fd-9186-242c231d670b' title='Show/Hide attributes'><svg class='icon xr-icon-file-text2'><use xlink:href='#icon-file-text2'></use></svg></label><input id='data-1cf7bda0-d328-4cad-a0ea-a19e5feab2f1' class='xr-var-data-in' type='checkbox'><label for='data-1cf7bda0-d328-4cad-a0ea-a19e5feab2f1' title='Show/Hide data repr'><svg class='icon xr-icon-database'><use xlink:href='#icon-database'></use></svg></label><div class='xr-var-attrs'><dl class='xr-attrs'><dt><span>units :</span></dt><dd>K</dd><dt><span>long_name :</span></dt><dd>air temperature</dd><dt><span>standard_name :</span></dt><dd>air_temperature</dd><dt><span>valid_range :</span></dt><dd>[0, 775]</dd></dl></div><div class='xr-var-data'><pre>array([[294.6983871 ],\n       [294.6983871 ],\n       [294.6983871 ],\n       [294.6983871 ],\n       [294.95645161],\n       [294.95645161],\n       [294.6983871 ],\n       [294.6983871 ],\n       [294.6983871 ],\n       [294.6983871 ],\n       [294.6983871 ],\n       [294.82741935],\n       [294.95645161],\n       [294.6983871 ],\n       [294.6983871 ],\n       [294.6983871 ],\n       [294.82741935],\n       [294.6983871 ],\n       [294.82741935],\n       [294.6983871 ],\n...\n       [294.82741935],\n       [294.95645161],\n       [294.6983871 ],\n       [294.6983871 ],\n       [294.82741935],\n       [294.6983871 ],\n       [294.82741935],\n       [294.95645161],\n       [294.6983871 ],\n       [294.6983871 ],\n       [294.6983871 ],\n       [294.82741935],\n       [294.6983871 ],\n       [294.82741935],\n       [294.6983871 ],\n       [294.6983871 ],\n       [294.6983871 ],\n       [294.6983871 ],\n       [294.82741935],\n       [294.95645161]])</pre></div></li><li class='xr-var-item'><div class='xr-var-name'><span>rh</span></div><div class='xr-var-dims'>(adctime, station)</div><div class='xr-var-dtype'>float64</div><div class='xr-var-preview xr-preview'>0.6245 0.6245 ... 0.6297 0.6297</div><input id='attrs-661ee76c-39e5-4725-824f-54eb50906182' class='xr-var-attrs-in' type='checkbox' ><label for='attrs-661ee76c-39e5-4725-824f-54eb50906182' title='Show/Hide attributes'><svg class='icon xr-icon-file-text2'><use xlink:href='#icon-file-text2'></use></svg></label><input id='data-71c7c890-7276-4bc4-a230-d93918f353f8' class='xr-var-data-in' type='checkbox'><label for='data-71c7c890-7276-4bc4-a230-d93918f353f8' title='Show/Hide data repr'><svg class='icon xr-icon-database'><use xlink:href='#icon-database'></use></svg></label><div class='xr-var-attrs'><dl class='xr-attrs'><dt><span>units :</span></dt><dd>1</dd><dt><span>long_name :</span></dt><dd>air relative humidity</dd><dt><span>standard_name :</span></dt><dd>relative_humidity</dd><dt><span>valid_range :</span></dt><dd>[0, 775]</dd></dl></div><div class='xr-var-data'><pre>array([[0.62451613],\n       [0.62451613],\n       [0.62451613],\n       [0.62580645],\n       [0.62580645],\n       [0.62580645],\n       [0.62451613],\n       [0.62451613],\n       [0.62451613],\n       [0.62451613],\n       [0.62580645],\n       [0.62709677],\n       [0.62451613],\n       [0.62322581],\n       [0.62451613],\n       [0.62451613],\n       [0.62451613],\n       [0.62580645],\n       [0.62709677],\n       [0.62451613],\n...\n       [0.62967742],\n       [0.6283871 ],\n       [0.62709677],\n       [0.62709677],\n       [0.62709677],\n       [0.62967742],\n       [0.62967742],\n       [0.62967742],\n       [0.62709677],\n       [0.62709677],\n       [0.6283871 ],\n       [0.6283871 ],\n       [0.62967742],\n       [0.62967742],\n       [0.62709677],\n       [0.62709677],\n       [0.62709677],\n       [0.6283871 ],\n       [0.62967742],\n       [0.62967742]])</pre></div></li><li class='xr-var-item'><div class='xr-var-name'><span>battery_voltage</span></div><div class='xr-var-dims'>(adctime, station)</div><div class='xr-var-dtype'>float64</div><div class='xr-var-preview xr-preview'>6.452 6.439 6.445 ... 6.465 6.452</div><input id='attrs-35bbfb46-09e3-4b33-befa-2831e467bd15' class='xr-var-attrs-in' type='checkbox' ><label for='attrs-35bbfb46-09e3-4b33-befa-2831e467bd15' title='Show/Hide attributes'><svg class='icon xr-icon-file-text2'><use xlink:href='#icon-file-text2'></use></svg></label><input id='data-c28d492a-09cc-4385-98cd-33077e2aa529' class='xr-var-data-in' type='checkbox'><label for='data-c28d492a-09cc-4385-98cd-33077e2aa529' title='Show/Hide data repr'><svg class='icon xr-icon-database'><use xlink:href='#icon-database'></use></svg></label><div class='xr-var-attrs'><dl class='xr-attrs'><dt><span>units :</span></dt><dd>V</dd><dt><span>standard_name :</span></dt><dd>battery_voltage</dd><dt><span>valid_range :</span></dt><dd>[0, 992]</dd></dl></div><div class='xr-var-data'><pre>array([[6.4516129 ],\n       [6.43870968],\n       [6.44516129],\n       [6.4516129 ],\n       [6.43870968],\n       [6.43870968],\n       [6.4516129 ],\n       [6.44516129],\n       [6.43870968],\n       [6.4516129 ],\n       [6.44516129],\n       [6.4516129 ],\n       [6.43870968],\n       [6.43870968],\n       [6.43870968],\n       [6.4516129 ],\n       [6.43870968],\n       [6.44516129],\n       [6.44516129],\n       [6.43870968],\n...\n       [6.45806452],\n       [6.43870968],\n       [6.43870968],\n       [6.44516129],\n       [6.43225806],\n       [6.43870968],\n       [6.44516129],\n       [6.4516129 ],\n       [6.46451613],\n       [6.4516129 ],\n       [6.46451613],\n       [6.4516129 ],\n       [6.4516129 ],\n       [6.43870968],\n       [6.43870968],\n       [6.43225806],\n       [6.4516129 ],\n       [6.46451613],\n       [6.46451613],\n       [6.4516129 ]])</pre></div></li><li class='xr-var-item'><div class='xr-var-name'><span>lat</span></div><div class='xr-var-dims'>(gpstime, station)</div><div class='xr-var-dtype'>float64</div><div class='xr-var-preview xr-preview'>51.39 51.39 51.39 51.39 51.39</div><input id='attrs-df49a8e3-dfcf-4cf4-86ee-0794c7d43b5d' class='xr-var-attrs-in' type='checkbox' ><label for='attrs-df49a8e3-dfcf-4cf4-86ee-0794c7d43b5d' title='Show/Hide attributes'><svg class='icon xr-icon-file-text2'><use xlink:href='#icon-file-text2'></use></svg></label><input id='data-41a0e0cd-2f7b-4956-8c64-e05532b9307e' class='xr-var-data-in' type='checkbox'><label for='data-41a0e0cd-2f7b-4956-8c64-e05532b9307e' title='Show/Hide data repr'><svg class='icon xr-icon-database'><use xlink:href='#icon-database'></use></svg></label><div class='xr-var-attrs'><dl class='xr-attrs'><dt><span>standard_name :</span></dt><dd>latitude</dd><dt><span>units :</span></dt><dd>degree_north</dd><dt><span>valid_range :</span></dt><dd>[-90.0, 90.0]</dd></dl></div><div class='xr-var-data'><pre>array([[51.39021167],\n       [51.39021167],\n       [51.39021   ],\n       [51.39021   ],\n       [51.39020833]])</pre></div></li><li class='xr-var-item'><div class='xr-var-name'><span>lon</span></div><div class='xr-var-dims'>(gpstime, station)</div><div class='xr-var-dtype'>float64</div><div class='xr-var-preview xr-preview'>11.89 11.89 11.89 11.89 11.89</div><input id='attrs-51189a94-c1cf-4354-b674-a4544f44657b' class='xr-var-attrs-in' type='checkbox' ><label for='attrs-51189a94-c1cf-4354-b674-a4544f44657b' title='Show/Hide attributes'><svg class='icon xr-icon-file-text2'><use xlink:href='#icon-file-text2'></use></svg></label><input id='data-470120aa-9950-46ac-81a9-178fa507822b' class='xr-var-data-in' type='checkbox'><label for='data-470120aa-9950-46ac-81a9-178fa507822b' title='Show/Hide data repr'><svg class='icon xr-icon-database'><use xlink:href='#icon-database'></use></svg></label><div class='xr-var-attrs'><dl class='xr-attrs'><dt><span>standard_name :</span></dt><dd>longitude</dd><dt><span>units :</span></dt><dd>degree_east</dd><dt><span>valid_range :</span></dt><dd>[-180.0, 180.0]</dd></dl></div><div class='xr-var-data'><pre>array([[11.885255  ],\n       [11.88525667],\n       [11.88525167],\n       [11.88525   ],\n       [11.88524667]])</pre></div></li><li class='xr-var-item'><div class='xr-var-name'><span>maintenance_flag_ghi</span></div><div class='xr-var-dims'>(maintenancetime, station)</div><div class='xr-var-dtype'>uint8</div><div class='xr-var-preview xr-preview'>9</div><input id='attrs-9b6883b6-0a8b-4c2c-a44f-0f92fea6508c' class='xr-var-attrs-in' type='checkbox' ><label for='attrs-9b6883b6-0a8b-4c2c-a44f-0f92fea6508c' title='Show/Hide attributes'><svg class='icon xr-icon-file-text2'><use xlink:href='#icon-file-text2'></use></svg></label><input id='data-456873cb-aae3-41b1-93af-28a786492695' class='xr-var-data-in' type='checkbox'><label for='data-456873cb-aae3-41b1-93af-28a786492695' title='Show/Hide data repr'><svg class='icon xr-icon-database'><use xlink:href='#icon-database'></use></svg></label><div class='xr-var-attrs'><dl class='xr-attrs'><dt><span>note_general :</span></dt><dd>222</dd><dt><span>note_clean :</span></dt><dd>testing notes</dd><dt><span>note_level :</span></dt><dd>test</dd><dt><span>valid_range :</span></dt><dd>[0, 11]</dd></dl></div><div class='xr-var-data'><pre>array([[9]], dtype=uint8)</pre></div></li><li class='xr-var-item'><div class='xr-var-name'><span>maintenance_flag_gti</span></div><div class='xr-var-dims'>(maintenancetime, station)</div><div class='xr-var-dtype'>uint8</div><div class='xr-var-preview xr-preview'>7</div><input id='attrs-341d1cf7-5e4b-4029-a9da-026bb1695ed5' class='xr-var-attrs-in' type='checkbox' ><label for='attrs-341d1cf7-5e4b-4029-a9da-026bb1695ed5' title='Show/Hide attributes'><svg class='icon xr-icon-file-text2'><use xlink:href='#icon-file-text2'></use></svg></label><input id='data-2d4ba043-9f4e-48e1-9981-d98f7119cd67' class='xr-var-data-in' type='checkbox'><label for='data-2d4ba043-9f4e-48e1-9981-d98f7119cd67' title='Show/Hide data repr'><svg class='icon xr-icon-database'><use xlink:href='#icon-database'></use></svg></label><div class='xr-var-attrs'><dl class='xr-attrs'><dt><span>note_general :</span></dt><dd>222</dd><dt><span>note_clean :</span></dt><dd></dd><dt><span>note_level :</span></dt><dd></dd><dt><span>valid_range :</span></dt><dd>[0, 11]</dd></dl></div><div class='xr-var-data'><pre>array([[7]], dtype=uint8)</pre></div></li><li class='xr-var-item'><div class='xr-var-name'><span>iadc</span></div><div class='xr-var-dims'>(gpstime, station)</div><div class='xr-var-dtype'>uint32</div><div class='xr-var-preview xr-preview'>26 35 54 64 74</div><input id='attrs-fcc20861-0542-45ae-bca9-c1465839516b' class='xr-var-attrs-in' type='checkbox' ><label for='attrs-fcc20861-0542-45ae-bca9-c1465839516b' title='Show/Hide attributes'><svg class='icon xr-icon-file-text2'><use xlink:href='#icon-file-text2'></use></svg></label><input id='data-8ffbfdb7-3aeb-4aed-a620-f9d9e7134282' class='xr-var-data-in' type='checkbox'><label for='data-8ffbfdb7-3aeb-4aed-a620-f9d9e7134282' title='Show/Hide data repr'><svg class='icon xr-icon-database'><use xlink:href='#icon-database'></use></svg></label><div class='xr-var-attrs'><dl class='xr-attrs'><dt><span>standard_name :</span></dt><dd>index</dd><dt><span>comment :</span></dt><dd>index to map gps to adc records</dd><dt><span>units :</span></dt><dd>-</dd></dl></div><div class='xr-var-data'><pre>array([[26],\n       [35],\n       [54],\n       [64],\n       [74]], dtype=uint32)</pre></div></li></ul></div></li><li class='xr-section-item'><input id='section-0fcc0ee2-6625-4206-ab1a-52ec8f55e411' class='xr-section-summary-in' type='checkbox'  ><label for='section-0fcc0ee2-6625-4206-ab1a-52ec8f55e411' class='xr-section-summary' >Indexes: <span>(4)</span></label><div class='xr-section-inline-details'></div><div class='xr-section-details'><ul class='xr-var-list'><li class='xr-var-item'><div class='xr-index-name'><div>adctime</div></div><div class='xr-index-preview'>PandasIndex</div><div></div><input id='index-72f19ce4-e5e8-4311-ac87-31c64104f8be' class='xr-index-data-in' type='checkbox'/><label for='index-72f19ce4-e5e8-4311-ac87-31c64104f8be' title='Show/Hide index repr'><svg class='icon xr-icon-database'><use xlink:href='#icon-database'></use></svg></label><div class='xr-index-data'><pre>PandasIndex(TimedeltaIndex([       &#x27;0 days 00:00:00&#x27;, &#x27;0 days 00:00:00.100000&#x27;,\n                &#x27;0 days 00:00:00.200000&#x27;, &#x27;0 days 00:00:00.300000&#x27;,\n                &#x27;0 days 00:00:00.400000&#x27;, &#x27;0 days 00:00:00.500000&#x27;,\n                &#x27;0 days 00:00:00.600000&#x27;, &#x27;0 days 00:00:00.700000&#x27;,\n                &#x27;0 days 00:00:00.800000&#x27;, &#x27;0 days 00:00:00.900000&#x27;,\n                       &#x27;0 days 00:00:01&#x27;, &#x27;0 days 00:00:01.100000&#x27;,\n                &#x27;0 days 00:00:01.200000&#x27;, &#x27;0 days 00:00:01.300000&#x27;,\n                &#x27;0 days 00:00:01.400000&#x27;, &#x27;0 days 00:00:01.500000&#x27;,\n                &#x27;0 days 00:00:01.600000&#x27;, &#x27;0 days 00:00:01.700000&#x27;,\n                &#x27;0 days 00:00:01.800000&#x27;, &#x27;0 days 00:00:01.900000&#x27;,\n                       &#x27;0 days 00:00:02&#x27;, &#x27;0 days 00:00:02.100000&#x27;,\n                &#x27;0 days 00:00:02.200000&#x27;, &#x27;0 days 00:00:02.300000&#x27;,\n                &#x27;0 days 00:00:02.400000&#x27;, &#x27;0 days 00:00:02.500000&#x27;,\n                &#x27;0 days 00:00:02.600000&#x27;, &#x27;0 days 00:00:02.700000&#x27;,\n                &#x27;0 days 00:00:02.800000&#x27;, &#x27;0 days 00:00:02.900000&#x27;,\n                       &#x27;0 days 00:00:03&#x27;, &#x27;0 days 00:00:03.100000&#x27;,\n                &#x27;0 days 00:00:03.200000&#x27;, &#x27;0 days 00:00:03.300000&#x27;,\n                &#x27;0 days 00:00:03.400000&#x27;, &#x27;0 days 00:00:03.500000&#x27;,\n                &#x27;0 days 00:00:03.600000&#x27;, &#x27;0 days 00:00:03.700000&#x27;,\n                &#x27;0 days 00:00:03.800000&#x27;, &#x27;0 days 00:00:03.900000&#x27;,\n                       &#x27;0 days 00:00:04&#x27;, &#x27;0 days 00:00:04.100000&#x27;,\n                &#x27;0 days 00:00:04.200000&#x27;, &#x27;0 days 00:00:04.300000&#x27;,\n                &#x27;0 days 00:00:04.400000&#x27;, &#x27;0 days 00:00:04.500000&#x27;,\n                &#x27;0 days 00:00:04.600000&#x27;, &#x27;0 days 00:00:04.700000&#x27;,\n                &#x27;0 days 00:00:04.800000&#x27;, &#x27;0 days 00:00:04.900000&#x27;,\n                       &#x27;0 days 00:00:05&#x27;, &#x27;0 days 00:00:05.100000&#x27;,\n                &#x27;0 days 00:00:05.200000&#x27;, &#x27;0 days 00:00:05.300000&#x27;,\n                &#x27;0 days 00:00:05.400000&#x27;, &#x27;0 days 00:00:05.500000&#x27;,\n                &#x27;0 days 00:00:05.600000&#x27;, &#x27;0 days 00:00:05.700000&#x27;,\n                &#x27;0 days 00:00:05.800000&#x27;, &#x27;0 days 00:00:05.900000&#x27;,\n                       &#x27;0 days 00:00:06&#x27;, &#x27;0 days 00:00:06.100000&#x27;,\n                &#x27;0 days 00:00:06.200000&#x27;, &#x27;0 days 00:00:06.300000&#x27;,\n                &#x27;0 days 00:00:06.400000&#x27;, &#x27;0 days 00:00:06.500000&#x27;,\n                &#x27;0 days 00:00:06.600000&#x27;, &#x27;0 days 00:00:06.700000&#x27;,\n                &#x27;0 days 00:00:06.800000&#x27;, &#x27;0 days 00:00:06.900000&#x27;,\n                       &#x27;0 days 00:00:07&#x27;, &#x27;0 days 00:00:07.100000&#x27;,\n                &#x27;0 days 00:00:07.200000&#x27;, &#x27;0 days 00:00:07.300000&#x27;,\n                &#x27;0 days 00:00:07.400000&#x27;, &#x27;0 days 00:00:07.500000&#x27;,\n                &#x27;0 days 00:00:07.600000&#x27;],\n               dtype=&#x27;timedelta64[ns]&#x27;, name=&#x27;adctime&#x27;, freq=None))</pre></div></li><li class='xr-var-item'><div class='xr-index-name'><div>gpstime</div></div><div class='xr-index-preview'>PandasIndex</div><div></div><input id='index-b4ea0570-19f4-47d4-9fc2-fb3e606f4505' class='xr-index-data-in' type='checkbox'/><label for='index-b4ea0570-19f4-47d4-9fc2-fb3e606f4505' title='Show/Hide index repr'><svg class='icon xr-icon-database'><use xlink:href='#icon-database'></use></svg></label><div class='xr-index-data'><pre>PandasIndex(DatetimeIndex([&#x27;2022-08-30 11:21:04.065000&#x27;, &#x27;2022-08-30 11:21:05.065000&#x27;,\n                      &#x27;2022-08-30 11:21:07&#x27;,        &#x27;2022-08-30 11:21:08&#x27;,\n                      &#x27;2022-08-30 11:21:09&#x27;],\n              dtype=&#x27;datetime64[ns]&#x27;, name=&#x27;gpstime&#x27;, freq=None))</pre></div></li><li class='xr-var-item'><div class='xr-index-name'><div>maintenancetime</div></div><div class='xr-index-preview'>PandasIndex</div><div></div><input id='index-8a1b77f0-a205-4a69-beb4-f504c76bca78' class='xr-index-data-in' type='checkbox'/><label for='index-8a1b77f0-a205-4a69-beb4-f504c76bca78' title='Show/Hide index repr'><svg class='icon xr-icon-database'><use xlink:href='#icon-database'></use></svg></label><div class='xr-index-data'><pre>PandasIndex(DatetimeIndex([&#x27;2023-05-08 16:09:06&#x27;], dtype=&#x27;datetime64[ns]&#x27;, name=&#x27;maintenancetime&#x27;, freq=None))</pre></div></li><li class='xr-var-item'><div class='xr-index-name'><div>station</div></div><div class='xr-index-preview'>PandasIndex</div><div></div><input id='index-8a6b6512-e319-45fd-850d-79e16dcb7377' class='xr-index-data-in' type='checkbox'/><label for='index-8a6b6512-e319-45fd-850d-79e16dcb7377' title='Show/Hide index repr'><svg class='icon xr-icon-database'><use xlink:href='#icon-database'></use></svg></label><div class='xr-index-data'><pre>PandasIndex(UInt64Index([1], dtype=&#x27;uint64&#x27;, name=&#x27;station&#x27;))</pre></div></li></ul></div></li><li class='xr-section-item'><input id='section-c7d9bbc7-6127-4290-88dd-2a297f4938e7' class='xr-section-summary-in' type='checkbox'  ><label for='section-c7d9bbc7-6127-4290-88dd-2a297f4938e7' class='xr-section-summary' >Attributes: <span>(31)</span></label><div class='xr-section-inline-details'></div><div class='xr-section-details'><dl class='xr-attrs'><dt><span>Conventions :</span></dt><dd>CF-1.10, ACDD-1.3</dd><dt><span>title :</span></dt><dd>TROPOS pyranometer network (PyrNet) observational data set</dd><dt><span>history :</span></dt><dd>2024-02-29T07:54:36: Generated level l1a  by pyrnet version 0.2.4+0.gbfcb0c5.dirty; </dd><dt><span>institution :</span></dt><dd>Leibniz Institute for Tropospheric Research (TROPOS)</dd><dt><span>source :</span></dt><dd>TROPOS pyranometer network (PyrNet)</dd><dt><span>references :</span></dt><dd>https://doi.org/10.5194/amt-9-1153-2016</dd><dt><span>Department :</span></dt><dd>Remote Sensing of Atmospheric Processes</dd><dt><span>Department_team :</span></dt><dd>Clouds, Aerosol and Radiation</dd><dt><span>Address :</span></dt><dd>Permoser Str. 15, 04318 Leipzig, Germany</dd><dt><span>Contact_person :</span></dt><dd>Andreas Macke and the clouds, aerosol and radiation team of the remote sensing department, mailto:andreas.macke@tropos.de</dd><dt><span>Contributor_name :</span></dt><dd></dd><dt><span>Contributor_role :</span></dt><dd></dd><dt><span>Authors_software :</span></dt><dd>Hartwig Deneke, Jonas Witthuhn, mailto:deneke@tropos.de</dd><dt><span>Creator_name :</span></dt><dd></dd><dt><span>Project :</span></dt><dd></dd><dt><span>Standard_name_vocabulary :</span></dt><dd>CF Standard Name Table v81</dd><dt><span>License :</span></dt><dd>CC-BY-SA 3.0</dd><dt><span>TESTNOTE :</span></dt><dd>This is a test note.</dd><dt><span>processing_level :</span></dt><dd>l1a</dd><dt><span>product_version :</span></dt><dd>0.2.4+0.gbfcb0c5.dirty</dd><dt><span>date_created :</span></dt><dd>2024-02-29T07:54:36</dd><dt><span>geospatial_lat_min :</span></dt><dd>51.390208333333334</dd><dt><span>geospatial_lat_max :</span></dt><dd>51.390211666666666</dd><dt><span>geospatial_lat_units :</span></dt><dd>degN</dd><dt><span>geospatial_lon_min :</span></dt><dd>11.885246666666667</dd><dt><span>geospatial_lon_max :</span></dt><dd>11.885256666666667</dd><dt><span>geospatial_lon_units :</span></dt><dd>degE</dd><dt><span>time_coverage_start :</span></dt><dd>2022-08-30T11:21:04.065000</dd><dt><span>time_coverage_end :</span></dt><dd>2022-08-30T11:21:09</dd><dt><span>time_coverage_duration :</span></dt><dd>P0DT0H0M4.935S</dd><dt><span>time_coverage_resolution :</span></dt><dd>P0DT0H0M1.23375S</dd></dl></div></li></ul></div></div>"
     },
     "execution_count": 18,
     "metadata": {},
     "output_type": "execute_result"
    }
   ],
   "source": [
    "#|dropout\n",
    "fn_report = \"../../example_data/results-survey224783.csv\"\n",
    "fn_data = \"../../example_data/Pyr9_000.bin\"\n",
    "\n",
    "fn_cfmeta = pkg_res.resource_filename(\"pyrnet\", \"share/pyrnet_cfmeta.c01.json\")\n",
    "\n",
    "\n",
    "# parse report\n",
    "df_report = pyrnet.reports.get_responses(fn=\"../../example_data/results-survey224783.csv\")\n",
    "report = pyrnet.reports.parse_report(df_report,\n",
    "                              date_of_maintenance=np.datetime64(\"2023-05-08T12:00\"))\n",
    "# read logger file to xarray\n",
    "ds = to_l1a(\n",
    "    fname=fn_data,\n",
    "    station=1, # actually test data is from station 9, but test reports are for station 1 and 2 only\n",
    "    # bins=86400, # seconds resolution\n",
    "    report=report,\n",
    "    config={\"file_cfmeta\": fn_cfmeta, \"stripminutes\": 0},\n",
    "    global_attrs={\"TESTNOTE\": \"This is a test note.\"}\n",
    ")\n",
    "\n",
    "print(\"Processing fname:\")\n",
    "print(get_fname(ds, freq=\"10Hz\", timevar=\"gpstime\", config=None))\n",
    "\n",
    "ds.to_netcdf(\"../../example_data/to_l1a_output.nc\")\n",
    "ds"
   ]
  },
  {
   "cell_type": "code",
   "execution_count": 19,
   "metadata": {
    "collapsed": false,
    "ExecuteTime": {
     "end_time": "2024-02-29T07:54:38.187602300Z",
     "start_time": "2024-02-29T07:54:36.827835100Z"
    }
   },
   "outputs": [
    {
     "name": "stdout",
     "output_type": "stream",
     "text": [
      "CHECKING NetCDF FILE: ../../example_data/to_l1a_output.nc\n",
      "=====================\n",
      "Using CF Checker Version 4.1.0\n",
      "Checking against CF Version CF-1.8\n",
      "Using Standard Name Table Version 84 (2024-01-19T15:55:10Z)\n",
      "Using Area Type Table Version 11 (06 July 2023)\n",
      "Using Standardized Region Name Table Version 4 (18 December 2018)\n",
      "\n",
      "ERROR: (2.6.1): This netCDF file does not appear to contain CF Convention data.\n",
      "\n",
      "------------------\n",
      "Checking variable: ghi\n",
      "------------------\n",
      "ERROR: (3.1): Units are not consistent with those given in the standard_name table.\n",
      "ERROR: (8.1): must be of type byte, short or int\n",
      "\n",
      "------------------\n",
      "Checking variable: gti\n",
      "------------------\n",
      "ERROR: (3.1): Units are not consistent with those given in the standard_name table.\n",
      "ERROR: (8.1): must be of type byte, short or int\n",
      "\n",
      "------------------\n",
      "Checking variable: ta\n",
      "------------------\n",
      "ERROR: (8.1): must be of type byte, short or int\n",
      "\n",
      "------------------\n",
      "Checking variable: rh\n",
      "------------------\n",
      "ERROR: (8.1): must be of type byte, short or int\n",
      "\n",
      "------------------\n",
      "Checking variable: battery_voltage\n",
      "------------------\n",
      "ERROR: (3.3): Invalid standard_name: battery_voltage\n",
      "ERROR: (8.1): must be of type byte, short or int\n",
      "\n",
      "------------------\n",
      "Checking variable: lat\n",
      "------------------\n",
      "\n",
      "------------------\n",
      "Checking variable: lon\n",
      "------------------\n",
      "\n",
      "------------------\n",
      "Checking variable: maintenance_flag_ghi\n",
      "------------------\n",
      "WARN: (3): No standard_name or long_name attribute specified\n",
      "INFO: (3.1): No units attribute set.  Please consider adding a units attribute for completeness.\n",
      "\n",
      "------------------\n",
      "Checking variable: maintenance_flag_gti\n",
      "------------------\n",
      "WARN: (3): No standard_name or long_name attribute specified\n",
      "INFO: (3.1): No units attribute set.  Please consider adding a units attribute for completeness.\n",
      "\n",
      "------------------\n",
      "Checking variable: iadc\n",
      "------------------\n",
      "ERROR: (3.3): Invalid standard_name: index\n",
      "ERROR: (3.1): Invalid units: -\n",
      "\n",
      "------------------\n",
      "Checking variable: adctime\n",
      "------------------\n",
      "WARN: (4.4.1): Use of the calendar and/or month_lengths attributes is recommended for time coordinate variables\n",
      "ERROR: (4.4): Invalid units and/or reference time\n",
      "\n",
      "------------------\n",
      "Checking variable: gpstime\n",
      "------------------\n",
      "WARN: (3): No standard_name or long_name attribute specified\n",
      "\n",
      "------------------\n",
      "Checking variable: maintenancetime\n",
      "------------------\n",
      "WARN: (3): No standard_name or long_name attribute specified\n",
      "\n",
      "------------------\n",
      "Checking variable: station\n",
      "------------------\n",
      "ERROR: (3.1): Invalid units: -\n",
      "\n",
      "ERRORS detected: 13\n",
      "WARNINGS given: 5\n",
      "INFORMATION messages: 2\n"
     ]
    }
   ],
   "source": [
    "import cfchecker.cfchecks\n",
    "init = cfchecker.cfchecks.CFChecker()\n",
    "res = init.checker(\"../../example_data/to_l1a_output.nc\")"
   ]
  },
  {
   "cell_type": "code",
   "execution_count": 20,
   "metadata": {
    "collapsed": false,
    "ExecuteTime": {
     "end_time": "2024-02-29T07:54:38.211011400Z",
     "start_time": "2024-02-29T07:54:38.180600400Z"
    }
   },
   "outputs": [
    {
     "data": {
      "text/plain": "<class 'netCDF4._netCDF4.Dataset'>\nroot group (NETCDF4 data model, file format HDF5):\n    Conventions: CF-1.10, ACDD-1.3\n    title: TROPOS pyranometer network (PyrNet) observational data set\n    history: 2024-02-29T07:54:36: Generated level l1a  by pyrnet version 0.2.4+0.gbfcb0c5.dirty; \n    institution: Leibniz Institute for Tropospheric Research (TROPOS)\n    source: TROPOS pyranometer network (PyrNet)\n    references: https://doi.org/10.5194/amt-9-1153-2016\n    Department: Remote Sensing of Atmospheric Processes\n    Department_team: Clouds, Aerosol and Radiation\n    Address: Permoser Str. 15, 04318 Leipzig, Germany\n    Contact_person: Andreas Macke and the clouds, aerosol and radiation team of the remote sensing department, mailto:andreas.macke@tropos.de\n    Contributor_name: \n    Contributor_role: \n    Authors_software: Hartwig Deneke, Jonas Witthuhn, mailto:deneke@tropos.de\n    Creator_name: \n    Project: \n    Standard_name_vocabulary: CF Standard Name Table v81\n    License: CC-BY-SA 3.0\n    TESTNOTE: This is a test note.\n    processing_level: l1a\n    product_version: 0.2.4+0.gbfcb0c5.dirty\n    date_created: 2024-02-29T07:54:36\n    geospatial_lat_min: 51.390208333333334\n    geospatial_lat_max: 51.390211666666666\n    geospatial_lat_units: degN\n    geospatial_lon_min: 11.885246666666667\n    geospatial_lon_max: 11.885256666666667\n    geospatial_lon_units: degE\n    time_coverage_start: 2022-08-30T11:21:04.065000\n    time_coverage_end: 2022-08-30T11:21:09\n    time_coverage_duration: P0DT0H0M4.935S\n    time_coverage_resolution: P0DT0H0M1.23375S\n    dimensions(sizes): adctime(77), station(1), gpstime(5), maintenancetime(1)\n    variables(dimensions): uint16 ghi(adctime, station), uint16 gti(adctime, station), uint16 ta(adctime, station), uint16 rh(adctime, station), uint16 battery_voltage(adctime, station), float64 lat(gpstime, station), float64 lon(gpstime, station), uint8 maintenance_flag_ghi(maintenancetime, station), uint8 maintenance_flag_gti(maintenancetime, station), uint32 iadc(gpstime, station), uint32 adctime(adctime), float64 gpstime(gpstime), float64 maintenancetime(maintenancetime), uint8 station(station)\n    groups: "
     },
     "execution_count": 20,
     "metadata": {},
     "output_type": "execute_result"
    }
   ],
   "source": [
    "#|dropout\n",
    "import netCDF4\n",
    "netCDF4.Dataset(\"../../example_data/to_l1a_output.nc\",'r')"
   ]
  },
  {
   "cell_type": "markdown",
   "metadata": {
    "collapsed": false
   },
   "source": [
    "\n",
    "\n",
    "## l1b\n",
    "Resampled, calibrated data as daily files per station. Resampling is per default to one second, but can be configured.\n"
   ]
  },
  {
   "cell_type": "code",
   "execution_count": 21,
   "metadata": {
    "collapsed": false,
    "ExecuteTime": {
     "end_time": "2024-02-29T07:54:38.283609800Z",
     "start_time": "2024-02-29T07:54:38.198223600Z"
    }
   },
   "outputs": [],
   "source": [
    "fname = \"../../example_data/to_l1a_output.nc\"\n",
    "config = {\n",
    "    \"l1bfreq\": \"1s\",\n",
    "    \"stripminutes\": 5,\n",
    "    \"average_latlon\": True,\n",
    "    \"radflux_varname\": [\"ghi\", \"gti\"]\n",
    "}\n",
    "\n",
    "config = get_config(config)\n",
    "gattrs, vattrs, vencode = get_cfmeta(config)\n"
   ]
  },
  {
   "cell_type": "markdown",
   "metadata": {
    "collapsed": false
   },
   "source": [
    "The l1b data is processed from the l1b data with the following workflow:\n",
    "\n",
    "### Read l1a netcdf\n",
    "Ensure its l1a by checking *processing_level* attribute.\n",
    "\n",
    "### Sync GPS to ADC time\n",
    "Use ```sync_adc_time``` to fit logger ADC timedelta since operation start to GPS timestamps. This is crucial to overcome time drifts and ensure synchronized measurements.\n",
    "\n",
    "### Make dataset with new time\n",
    "Initialize new l1b dataset with the synchronized time as coordinate"
   ]
  },
  {
   "cell_type": "code",
   "execution_count": 22,
   "metadata": {
    "collapsed": false,
    "ExecuteTime": {
     "end_time": "2024-02-29T07:54:38.458897300Z",
     "start_time": "2024-02-29T07:54:38.214003300Z"
    }
   },
   "outputs": [
    {
     "data": {
      "text/plain": "<xarray.Dataset>\nDimensions:          (time: 77, station: 1, maintenancetime: 1)\nCoordinates:\n  * maintenancetime  (maintenancetime) datetime64[ns] 2023-05-08T16:09:06\n  * station          (station) float32 1.0\n  * time             (time) datetime64[ns] 2022-08-30T11:21:01.443000 ... 202...\nData variables:\n    ghi              (time, station) float32 ...\n    gti              (time, station) float32 ...\n    ta               (time, station) float32 ...\n    rh               (time, station) float32 ...\n    battery_voltage  (time, station) float32 ...\nAttributes: (12/31)\n    Conventions:               CF-1.10, ACDD-1.3\n    title:                     TROPOS pyranometer network (PyrNet) observatio...\n    history:                   2024-02-29T07:54:36: Generated level l1a  by p...\n    institution:               Leibniz Institute for Tropospheric Research (T...\n    source:                    TROPOS pyranometer network (PyrNet)\n    references:                https://doi.org/10.5194/amt-9-1153-2016\n    ...                        ...\n    geospatial_lon_max:        11.885256666666667\n    geospatial_lon_units:      degE\n    time_coverage_start:       2022-08-30T11:21:04.065000\n    time_coverage_end:         2022-08-30T11:21:09\n    time_coverage_duration:    P0DT0H0M4.935S\n    time_coverage_resolution:  P0DT0H0M1.23375S",
      "text/html": "<div><svg style=\"position: absolute; width: 0; height: 0; overflow: hidden\">\n<defs>\n<symbol id=\"icon-database\" viewBox=\"0 0 32 32\">\n<path d=\"M16 0c-8.837 0-16 2.239-16 5v4c0 2.761 7.163 5 16 5s16-2.239 16-5v-4c0-2.761-7.163-5-16-5z\"></path>\n<path d=\"M16 17c-8.837 0-16-2.239-16-5v6c0 2.761 7.163 5 16 5s16-2.239 16-5v-6c0 2.761-7.163 5-16 5z\"></path>\n<path d=\"M16 26c-8.837 0-16-2.239-16-5v6c0 2.761 7.163 5 16 5s16-2.239 16-5v-6c0 2.761-7.163 5-16 5z\"></path>\n</symbol>\n<symbol id=\"icon-file-text2\" viewBox=\"0 0 32 32\">\n<path d=\"M28.681 7.159c-0.694-0.947-1.662-2.053-2.724-3.116s-2.169-2.030-3.116-2.724c-1.612-1.182-2.393-1.319-2.841-1.319h-15.5c-1.378 0-2.5 1.121-2.5 2.5v27c0 1.378 1.122 2.5 2.5 2.5h23c1.378 0 2.5-1.122 2.5-2.5v-19.5c0-0.448-0.137-1.23-1.319-2.841zM24.543 5.457c0.959 0.959 1.712 1.825 2.268 2.543h-4.811v-4.811c0.718 0.556 1.584 1.309 2.543 2.268zM28 29.5c0 0.271-0.229 0.5-0.5 0.5h-23c-0.271 0-0.5-0.229-0.5-0.5v-27c0-0.271 0.229-0.5 0.5-0.5 0 0 15.499-0 15.5 0v7c0 0.552 0.448 1 1 1h7v19.5z\"></path>\n<path d=\"M23 26h-14c-0.552 0-1-0.448-1-1s0.448-1 1-1h14c0.552 0 1 0.448 1 1s-0.448 1-1 1z\"></path>\n<path d=\"M23 22h-14c-0.552 0-1-0.448-1-1s0.448-1 1-1h14c0.552 0 1 0.448 1 1s-0.448 1-1 1z\"></path>\n<path d=\"M23 18h-14c-0.552 0-1-0.448-1-1s0.448-1 1-1h14c0.552 0 1 0.448 1 1s-0.448 1-1 1z\"></path>\n</symbol>\n</defs>\n</svg>\n<style>/* CSS stylesheet for displaying xarray objects in jupyterlab.\n *\n */\n\n:root {\n  --xr-font-color0: var(--jp-content-font-color0, rgba(0, 0, 0, 1));\n  --xr-font-color2: var(--jp-content-font-color2, rgba(0, 0, 0, 0.54));\n  --xr-font-color3: var(--jp-content-font-color3, rgba(0, 0, 0, 0.38));\n  --xr-border-color: var(--jp-border-color2, #e0e0e0);\n  --xr-disabled-color: var(--jp-layout-color3, #bdbdbd);\n  --xr-background-color: var(--jp-layout-color0, white);\n  --xr-background-color-row-even: var(--jp-layout-color1, white);\n  --xr-background-color-row-odd: var(--jp-layout-color2, #eeeeee);\n}\n\nhtml[theme=dark],\nbody[data-theme=dark],\nbody.vscode-dark {\n  --xr-font-color0: rgba(255, 255, 255, 1);\n  --xr-font-color2: rgba(255, 255, 255, 0.54);\n  --xr-font-color3: rgba(255, 255, 255, 0.38);\n  --xr-border-color: #1F1F1F;\n  --xr-disabled-color: #515151;\n  --xr-background-color: #111111;\n  --xr-background-color-row-even: #111111;\n  --xr-background-color-row-odd: #313131;\n}\n\n.xr-wrap {\n  display: block !important;\n  min-width: 300px;\n  max-width: 700px;\n}\n\n.xr-text-repr-fallback {\n  /* fallback to plain text repr when CSS is not injected (untrusted notebook) */\n  display: none;\n}\n\n.xr-header {\n  padding-top: 6px;\n  padding-bottom: 6px;\n  margin-bottom: 4px;\n  border-bottom: solid 1px var(--xr-border-color);\n}\n\n.xr-header > div,\n.xr-header > ul {\n  display: inline;\n  margin-top: 0;\n  margin-bottom: 0;\n}\n\n.xr-obj-type,\n.xr-array-name {\n  margin-left: 2px;\n  margin-right: 10px;\n}\n\n.xr-obj-type {\n  color: var(--xr-font-color2);\n}\n\n.xr-sections {\n  padding-left: 0 !important;\n  display: grid;\n  grid-template-columns: 150px auto auto 1fr 20px 20px;\n}\n\n.xr-section-item {\n  display: contents;\n}\n\n.xr-section-item input {\n  display: none;\n}\n\n.xr-section-item input + label {\n  color: var(--xr-disabled-color);\n}\n\n.xr-section-item input:enabled + label {\n  cursor: pointer;\n  color: var(--xr-font-color2);\n}\n\n.xr-section-item input:enabled + label:hover {\n  color: var(--xr-font-color0);\n}\n\n.xr-section-summary {\n  grid-column: 1;\n  color: var(--xr-font-color2);\n  font-weight: 500;\n}\n\n.xr-section-summary > span {\n  display: inline-block;\n  padding-left: 0.5em;\n}\n\n.xr-section-summary-in:disabled + label {\n  color: var(--xr-font-color2);\n}\n\n.xr-section-summary-in + label:before {\n  display: inline-block;\n  content: '►';\n  font-size: 11px;\n  width: 15px;\n  text-align: center;\n}\n\n.xr-section-summary-in:disabled + label:before {\n  color: var(--xr-disabled-color);\n}\n\n.xr-section-summary-in:checked + label:before {\n  content: '▼';\n}\n\n.xr-section-summary-in:checked + label > span {\n  display: none;\n}\n\n.xr-section-summary,\n.xr-section-inline-details {\n  padding-top: 4px;\n  padding-bottom: 4px;\n}\n\n.xr-section-inline-details {\n  grid-column: 2 / -1;\n}\n\n.xr-section-details {\n  display: none;\n  grid-column: 1 / -1;\n  margin-bottom: 5px;\n}\n\n.xr-section-summary-in:checked ~ .xr-section-details {\n  display: contents;\n}\n\n.xr-array-wrap {\n  grid-column: 1 / -1;\n  display: grid;\n  grid-template-columns: 20px auto;\n}\n\n.xr-array-wrap > label {\n  grid-column: 1;\n  vertical-align: top;\n}\n\n.xr-preview {\n  color: var(--xr-font-color3);\n}\n\n.xr-array-preview,\n.xr-array-data {\n  padding: 0 5px !important;\n  grid-column: 2;\n}\n\n.xr-array-data,\n.xr-array-in:checked ~ .xr-array-preview {\n  display: none;\n}\n\n.xr-array-in:checked ~ .xr-array-data,\n.xr-array-preview {\n  display: inline-block;\n}\n\n.xr-dim-list {\n  display: inline-block !important;\n  list-style: none;\n  padding: 0 !important;\n  margin: 0;\n}\n\n.xr-dim-list li {\n  display: inline-block;\n  padding: 0;\n  margin: 0;\n}\n\n.xr-dim-list:before {\n  content: '(';\n}\n\n.xr-dim-list:after {\n  content: ')';\n}\n\n.xr-dim-list li:not(:last-child):after {\n  content: ',';\n  padding-right: 5px;\n}\n\n.xr-has-index {\n  font-weight: bold;\n}\n\n.xr-var-list,\n.xr-var-item {\n  display: contents;\n}\n\n.xr-var-item > div,\n.xr-var-item label,\n.xr-var-item > .xr-var-name span {\n  background-color: var(--xr-background-color-row-even);\n  margin-bottom: 0;\n}\n\n.xr-var-item > .xr-var-name:hover span {\n  padding-right: 5px;\n}\n\n.xr-var-list > li:nth-child(odd) > div,\n.xr-var-list > li:nth-child(odd) > label,\n.xr-var-list > li:nth-child(odd) > .xr-var-name span {\n  background-color: var(--xr-background-color-row-odd);\n}\n\n.xr-var-name {\n  grid-column: 1;\n}\n\n.xr-var-dims {\n  grid-column: 2;\n}\n\n.xr-var-dtype {\n  grid-column: 3;\n  text-align: right;\n  color: var(--xr-font-color2);\n}\n\n.xr-var-preview {\n  grid-column: 4;\n}\n\n.xr-index-preview {\n  grid-column: 2 / 5;\n  color: var(--xr-font-color2);\n}\n\n.xr-var-name,\n.xr-var-dims,\n.xr-var-dtype,\n.xr-preview,\n.xr-attrs dt {\n  white-space: nowrap;\n  overflow: hidden;\n  text-overflow: ellipsis;\n  padding-right: 10px;\n}\n\n.xr-var-name:hover,\n.xr-var-dims:hover,\n.xr-var-dtype:hover,\n.xr-attrs dt:hover {\n  overflow: visible;\n  width: auto;\n  z-index: 1;\n}\n\n.xr-var-attrs,\n.xr-var-data,\n.xr-index-data {\n  display: none;\n  background-color: var(--xr-background-color) !important;\n  padding-bottom: 5px !important;\n}\n\n.xr-var-attrs-in:checked ~ .xr-var-attrs,\n.xr-var-data-in:checked ~ .xr-var-data,\n.xr-index-data-in:checked ~ .xr-index-data {\n  display: block;\n}\n\n.xr-var-data > table {\n  float: right;\n}\n\n.xr-var-name span,\n.xr-var-data,\n.xr-index-name div,\n.xr-index-data,\n.xr-attrs {\n  padding-left: 25px !important;\n}\n\n.xr-attrs,\n.xr-var-attrs,\n.xr-var-data,\n.xr-index-data {\n  grid-column: 1 / -1;\n}\n\ndl.xr-attrs {\n  padding: 0;\n  margin: 0;\n  display: grid;\n  grid-template-columns: 125px auto;\n}\n\n.xr-attrs dt,\n.xr-attrs dd {\n  padding: 0;\n  margin: 0;\n  float: left;\n  padding-right: 10px;\n  width: auto;\n}\n\n.xr-attrs dt {\n  font-weight: normal;\n  grid-column: 1;\n}\n\n.xr-attrs dt:hover span {\n  display: inline-block;\n  background: var(--xr-background-color);\n  padding-right: 10px;\n}\n\n.xr-attrs dd {\n  grid-column: 2;\n  white-space: pre-wrap;\n  word-break: break-all;\n}\n\n.xr-icon-database,\n.xr-icon-file-text2,\n.xr-no-icon {\n  display: inline-block;\n  vertical-align: middle;\n  width: 1em;\n  height: 1.5em !important;\n  stroke-width: 0;\n  stroke: currentColor;\n  fill: currentColor;\n}\n</style><pre class='xr-text-repr-fallback'>&lt;xarray.Dataset&gt;\nDimensions:          (time: 77, station: 1, maintenancetime: 1)\nCoordinates:\n  * maintenancetime  (maintenancetime) datetime64[ns] 2023-05-08T16:09:06\n  * station          (station) float32 1.0\n  * time             (time) datetime64[ns] 2022-08-30T11:21:01.443000 ... 202...\nData variables:\n    ghi              (time, station) float32 ...\n    gti              (time, station) float32 ...\n    ta               (time, station) float32 ...\n    rh               (time, station) float32 ...\n    battery_voltage  (time, station) float32 ...\nAttributes: (12/31)\n    Conventions:               CF-1.10, ACDD-1.3\n    title:                     TROPOS pyranometer network (PyrNet) observatio...\n    history:                   2024-02-29T07:54:36: Generated level l1a  by p...\n    institution:               Leibniz Institute for Tropospheric Research (T...\n    source:                    TROPOS pyranometer network (PyrNet)\n    references:                https://doi.org/10.5194/amt-9-1153-2016\n    ...                        ...\n    geospatial_lon_max:        11.885256666666667\n    geospatial_lon_units:      degE\n    time_coverage_start:       2022-08-30T11:21:04.065000\n    time_coverage_end:         2022-08-30T11:21:09\n    time_coverage_duration:    P0DT0H0M4.935S\n    time_coverage_resolution:  P0DT0H0M1.23375S</pre><div class='xr-wrap' style='display:none'><div class='xr-header'><div class='xr-obj-type'>xarray.Dataset</div></div><ul class='xr-sections'><li class='xr-section-item'><input id='section-a853cfdf-96ed-481a-b021-a1d63b939538' class='xr-section-summary-in' type='checkbox' disabled ><label for='section-a853cfdf-96ed-481a-b021-a1d63b939538' class='xr-section-summary'  title='Expand/collapse section'>Dimensions:</label><div class='xr-section-inline-details'><ul class='xr-dim-list'><li><span class='xr-has-index'>time</span>: 77</li><li><span class='xr-has-index'>station</span>: 1</li><li><span class='xr-has-index'>maintenancetime</span>: 1</li></ul></div><div class='xr-section-details'></div></li><li class='xr-section-item'><input id='section-7dcce156-2d6a-4ef4-a009-81e2cf001d9b' class='xr-section-summary-in' type='checkbox'  checked><label for='section-7dcce156-2d6a-4ef4-a009-81e2cf001d9b' class='xr-section-summary' >Coordinates: <span>(3)</span></label><div class='xr-section-inline-details'></div><div class='xr-section-details'><ul class='xr-var-list'><li class='xr-var-item'><div class='xr-var-name'><span class='xr-has-index'>maintenancetime</span></div><div class='xr-var-dims'>(maintenancetime)</div><div class='xr-var-dtype'>datetime64[ns]</div><div class='xr-var-preview xr-preview'>2023-05-08T16:09:06</div><input id='attrs-dbd76ac6-56df-437c-9283-d933140d8358' class='xr-var-attrs-in' type='checkbox' disabled><label for='attrs-dbd76ac6-56df-437c-9283-d933140d8358' title='Show/Hide attributes'><svg class='icon xr-icon-file-text2'><use xlink:href='#icon-file-text2'></use></svg></label><input id='data-a58e8f46-273b-44f6-8436-779675aa9509' class='xr-var-data-in' type='checkbox'><label for='data-a58e8f46-273b-44f6-8436-779675aa9509' title='Show/Hide data repr'><svg class='icon xr-icon-database'><use xlink:href='#icon-database'></use></svg></label><div class='xr-var-attrs'><dl class='xr-attrs'></dl></div><div class='xr-var-data'><pre>array([&#x27;2023-05-08T16:09:06.000000000&#x27;], dtype=&#x27;datetime64[ns]&#x27;)</pre></div></li><li class='xr-var-item'><div class='xr-var-name'><span class='xr-has-index'>station</span></div><div class='xr-var-dims'>(station)</div><div class='xr-var-dtype'>float32</div><div class='xr-var-preview xr-preview'>1.0</div><input id='attrs-539097ee-6e1a-4c4e-951b-341eb82fc738' class='xr-var-attrs-in' type='checkbox' ><label for='attrs-539097ee-6e1a-4c4e-951b-341eb82fc738' title='Show/Hide attributes'><svg class='icon xr-icon-file-text2'><use xlink:href='#icon-file-text2'></use></svg></label><input id='data-772040b0-cc98-46d0-b927-47801493dcd0' class='xr-var-data-in' type='checkbox'><label for='data-772040b0-cc98-46d0-b927-47801493dcd0' title='Show/Hide data repr'><svg class='icon xr-icon-database'><use xlink:href='#icon-database'></use></svg></label><div class='xr-var-attrs'><dl class='xr-attrs'><dt><span>units :</span></dt><dd>-</dd><dt><span>long_name :</span></dt><dd>PyrNet unit box number</dd></dl></div><div class='xr-var-data'><pre>array([1.], dtype=float32)</pre></div></li><li class='xr-var-item'><div class='xr-var-name'><span class='xr-has-index'>time</span></div><div class='xr-var-dims'>(time)</div><div class='xr-var-dtype'>datetime64[ns]</div><div class='xr-var-preview xr-preview'>2022-08-30T11:21:01.443000 ... 2...</div><input id='attrs-a582ce21-9482-4491-88d4-68a7d5803c08' class='xr-var-attrs-in' type='checkbox' disabled><label for='attrs-a582ce21-9482-4491-88d4-68a7d5803c08' title='Show/Hide attributes'><svg class='icon xr-icon-file-text2'><use xlink:href='#icon-file-text2'></use></svg></label><input id='data-6eb12c5c-f0ef-428a-91d4-661dc227e7ac' class='xr-var-data-in' type='checkbox'><label for='data-6eb12c5c-f0ef-428a-91d4-661dc227e7ac' title='Show/Hide data repr'><svg class='icon xr-icon-database'><use xlink:href='#icon-database'></use></svg></label><div class='xr-var-attrs'><dl class='xr-attrs'></dl></div><div class='xr-var-data'><pre>array([&#x27;2022-08-30T11:21:01.443000000&#x27;, &#x27;2022-08-30T11:21:01.545000000&#x27;,\n       &#x27;2022-08-30T11:21:01.647000000&#x27;, &#x27;2022-08-30T11:21:01.750000000&#x27;,\n       &#x27;2022-08-30T11:21:01.852000000&#x27;, &#x27;2022-08-30T11:21:01.955000000&#x27;,\n       &#x27;2022-08-30T11:21:02.057000000&#x27;, &#x27;2022-08-30T11:21:02.160000000&#x27;,\n       &#x27;2022-08-30T11:21:02.262000000&#x27;, &#x27;2022-08-30T11:21:02.364000000&#x27;,\n       &#x27;2022-08-30T11:21:02.467000000&#x27;, &#x27;2022-08-30T11:21:02.569000000&#x27;,\n       &#x27;2022-08-30T11:21:02.672000000&#x27;, &#x27;2022-08-30T11:21:02.774000000&#x27;,\n       &#x27;2022-08-30T11:21:02.877000000&#x27;, &#x27;2022-08-30T11:21:02.979000000&#x27;,\n       &#x27;2022-08-30T11:21:03.081000000&#x27;, &#x27;2022-08-30T11:21:03.184000000&#x27;,\n       &#x27;2022-08-30T11:21:03.286000000&#x27;, &#x27;2022-08-30T11:21:03.389000000&#x27;,\n       &#x27;2022-08-30T11:21:03.491000000&#x27;, &#x27;2022-08-30T11:21:03.594000000&#x27;,\n       &#x27;2022-08-30T11:21:03.696000000&#x27;, &#x27;2022-08-30T11:21:03.799000000&#x27;,\n       &#x27;2022-08-30T11:21:03.901000000&#x27;, &#x27;2022-08-30T11:21:04.003000000&#x27;,\n       &#x27;2022-08-30T11:21:04.106000000&#x27;, &#x27;2022-08-30T11:21:04.208000000&#x27;,\n       &#x27;2022-08-30T11:21:04.311000000&#x27;, &#x27;2022-08-30T11:21:04.413000000&#x27;,\n       &#x27;2022-08-30T11:21:04.516000000&#x27;, &#x27;2022-08-30T11:21:04.618000000&#x27;,\n       &#x27;2022-08-30T11:21:04.720000000&#x27;, &#x27;2022-08-30T11:21:04.823000000&#x27;,\n       &#x27;2022-08-30T11:21:04.925000000&#x27;, &#x27;2022-08-30T11:21:05.028000000&#x27;,\n       &#x27;2022-08-30T11:21:05.130000000&#x27;, &#x27;2022-08-30T11:21:05.233000000&#x27;,\n       &#x27;2022-08-30T11:21:05.335000000&#x27;, &#x27;2022-08-30T11:21:05.438000000&#x27;,\n       &#x27;2022-08-30T11:21:05.540000000&#x27;, &#x27;2022-08-30T11:21:05.642000000&#x27;,\n       &#x27;2022-08-30T11:21:05.745000000&#x27;, &#x27;2022-08-30T11:21:05.847000000&#x27;,\n       &#x27;2022-08-30T11:21:05.950000000&#x27;, &#x27;2022-08-30T11:21:06.052000000&#x27;,\n       &#x27;2022-08-30T11:21:06.155000000&#x27;, &#x27;2022-08-30T11:21:06.257000000&#x27;,\n       &#x27;2022-08-30T11:21:06.359000000&#x27;, &#x27;2022-08-30T11:21:06.462000000&#x27;,\n       &#x27;2022-08-30T11:21:06.564000000&#x27;, &#x27;2022-08-30T11:21:06.667000000&#x27;,\n       &#x27;2022-08-30T11:21:06.769000000&#x27;, &#x27;2022-08-30T11:21:06.872000000&#x27;,\n       &#x27;2022-08-30T11:21:06.974000000&#x27;, &#x27;2022-08-30T11:21:07.077000000&#x27;,\n       &#x27;2022-08-30T11:21:07.179000000&#x27;, &#x27;2022-08-30T11:21:07.281000000&#x27;,\n       &#x27;2022-08-30T11:21:07.384000000&#x27;, &#x27;2022-08-30T11:21:07.486000000&#x27;,\n       &#x27;2022-08-30T11:21:07.589000000&#x27;, &#x27;2022-08-30T11:21:07.691000000&#x27;,\n       &#x27;2022-08-30T11:21:07.794000000&#x27;, &#x27;2022-08-30T11:21:07.896000000&#x27;,\n       &#x27;2022-08-30T11:21:07.998000000&#x27;, &#x27;2022-08-30T11:21:08.101000000&#x27;,\n       &#x27;2022-08-30T11:21:08.203000000&#x27;, &#x27;2022-08-30T11:21:08.306000000&#x27;,\n       &#x27;2022-08-30T11:21:08.408000000&#x27;, &#x27;2022-08-30T11:21:08.511000000&#x27;,\n       &#x27;2022-08-30T11:21:08.613000000&#x27;, &#x27;2022-08-30T11:21:08.715000000&#x27;,\n       &#x27;2022-08-30T11:21:08.818000000&#x27;, &#x27;2022-08-30T11:21:08.920000000&#x27;,\n       &#x27;2022-08-30T11:21:09.023000000&#x27;, &#x27;2022-08-30T11:21:09.125000000&#x27;,\n       &#x27;2022-08-30T11:21:09.228000000&#x27;], dtype=&#x27;datetime64[ns]&#x27;)</pre></div></li></ul></div></li><li class='xr-section-item'><input id='section-205728bc-5ea2-4d56-93ab-00501b8512e1' class='xr-section-summary-in' type='checkbox'  checked><label for='section-205728bc-5ea2-4d56-93ab-00501b8512e1' class='xr-section-summary' >Data variables: <span>(5)</span></label><div class='xr-section-inline-details'></div><div class='xr-section-details'><ul class='xr-var-list'><li class='xr-var-item'><div class='xr-var-name'><span>ghi</span></div><div class='xr-var-dims'>(time, station)</div><div class='xr-var-dtype'>float32</div><div class='xr-var-preview xr-preview'>...</div><input id='attrs-c796da53-b77c-46a7-ba21-3b2e0901b780' class='xr-var-attrs-in' type='checkbox' ><label for='attrs-c796da53-b77c-46a7-ba21-3b2e0901b780' title='Show/Hide attributes'><svg class='icon xr-icon-file-text2'><use xlink:href='#icon-file-text2'></use></svg></label><input id='data-7449da49-3c3e-42b6-b104-09f115f02547' class='xr-var-data-in' type='checkbox'><label for='data-7449da49-3c3e-42b6-b104-09f115f02547' title='Show/Hide data repr'><svg class='icon xr-icon-database'><use xlink:href='#icon-database'></use></svg></label><div class='xr-var-attrs'><dl class='xr-attrs'><dt><span>units :</span></dt><dd>V</dd><dt><span>long_name :</span></dt><dd>downwelling shortwave flux</dd><dt><span>standard_name :</span></dt><dd>downwelling_shortwave_flux_in_air</dd><dt><span>valid_range :</span></dt><dd>[   0 1023]</dd></dl></div><div class='xr-var-data'><pre>[77 values with dtype=float32]</pre></div></li><li class='xr-var-item'><div class='xr-var-name'><span>gti</span></div><div class='xr-var-dims'>(time, station)</div><div class='xr-var-dtype'>float32</div><div class='xr-var-preview xr-preview'>...</div><input id='attrs-4fb96036-f5f8-4a5f-9498-7b2f42b29f78' class='xr-var-attrs-in' type='checkbox' ><label for='attrs-4fb96036-f5f8-4a5f-9498-7b2f42b29f78' title='Show/Hide attributes'><svg class='icon xr-icon-file-text2'><use xlink:href='#icon-file-text2'></use></svg></label><input id='data-3a18ef7e-e921-4fc8-8137-db4ad3712090' class='xr-var-data-in' type='checkbox'><label for='data-3a18ef7e-e921-4fc8-8137-db4ad3712090' title='Show/Hide data repr'><svg class='icon xr-icon-database'><use xlink:href='#icon-database'></use></svg></label><div class='xr-var-attrs'><dl class='xr-attrs'><dt><span>units :</span></dt><dd>V</dd><dt><span>long_name :</span></dt><dd>downwelling shortwave flux measured on secondary platform, might be tilted</dd><dt><span>standard_name :</span></dt><dd>downwelling_shortwave_flux_in_air</dd><dt><span>valid_range :</span></dt><dd>[   0 1023]</dd><dt><span>hangle :</span></dt><dd>0.0</dd><dt><span>vangle :</span></dt><dd>0.0</dd></dl></div><div class='xr-var-data'><pre>[77 values with dtype=float32]</pre></div></li><li class='xr-var-item'><div class='xr-var-name'><span>ta</span></div><div class='xr-var-dims'>(time, station)</div><div class='xr-var-dtype'>float32</div><div class='xr-var-preview xr-preview'>...</div><input id='attrs-99ecfd18-f91e-40bd-9799-2f9c30aa29ee' class='xr-var-attrs-in' type='checkbox' ><label for='attrs-99ecfd18-f91e-40bd-9799-2f9c30aa29ee' title='Show/Hide attributes'><svg class='icon xr-icon-file-text2'><use xlink:href='#icon-file-text2'></use></svg></label><input id='data-6498ffe9-d8a9-4776-afec-649718354ba0' class='xr-var-data-in' type='checkbox'><label for='data-6498ffe9-d8a9-4776-afec-649718354ba0' title='Show/Hide data repr'><svg class='icon xr-icon-database'><use xlink:href='#icon-database'></use></svg></label><div class='xr-var-attrs'><dl class='xr-attrs'><dt><span>units :</span></dt><dd>K</dd><dt><span>long_name :</span></dt><dd>air temperature</dd><dt><span>standard_name :</span></dt><dd>air_temperature</dd><dt><span>valid_range :</span></dt><dd>[  0 775]</dd></dl></div><div class='xr-var-data'><pre>[77 values with dtype=float32]</pre></div></li><li class='xr-var-item'><div class='xr-var-name'><span>rh</span></div><div class='xr-var-dims'>(time, station)</div><div class='xr-var-dtype'>float32</div><div class='xr-var-preview xr-preview'>...</div><input id='attrs-b1f16ca2-e998-4803-a380-69ee25c494cf' class='xr-var-attrs-in' type='checkbox' ><label for='attrs-b1f16ca2-e998-4803-a380-69ee25c494cf' title='Show/Hide attributes'><svg class='icon xr-icon-file-text2'><use xlink:href='#icon-file-text2'></use></svg></label><input id='data-5c96c247-f757-4b3d-804d-313c4e9739c3' class='xr-var-data-in' type='checkbox'><label for='data-5c96c247-f757-4b3d-804d-313c4e9739c3' title='Show/Hide data repr'><svg class='icon xr-icon-database'><use xlink:href='#icon-database'></use></svg></label><div class='xr-var-attrs'><dl class='xr-attrs'><dt><span>units :</span></dt><dd>1</dd><dt><span>long_name :</span></dt><dd>air relative humidity</dd><dt><span>standard_name :</span></dt><dd>relative_humidity</dd><dt><span>valid_range :</span></dt><dd>[  0 775]</dd></dl></div><div class='xr-var-data'><pre>[77 values with dtype=float32]</pre></div></li><li class='xr-var-item'><div class='xr-var-name'><span>battery_voltage</span></div><div class='xr-var-dims'>(time, station)</div><div class='xr-var-dtype'>float32</div><div class='xr-var-preview xr-preview'>...</div><input id='attrs-aee1a7a8-6f18-43d1-a982-75175df329f7' class='xr-var-attrs-in' type='checkbox' ><label for='attrs-aee1a7a8-6f18-43d1-a982-75175df329f7' title='Show/Hide attributes'><svg class='icon xr-icon-file-text2'><use xlink:href='#icon-file-text2'></use></svg></label><input id='data-e5dc608c-bf90-49f2-889d-ca1cbe25e236' class='xr-var-data-in' type='checkbox'><label for='data-e5dc608c-bf90-49f2-889d-ca1cbe25e236' title='Show/Hide data repr'><svg class='icon xr-icon-database'><use xlink:href='#icon-database'></use></svg></label><div class='xr-var-attrs'><dl class='xr-attrs'><dt><span>units :</span></dt><dd>V</dd><dt><span>standard_name :</span></dt><dd>battery_voltage</dd><dt><span>valid_range :</span></dt><dd>[  0 992]</dd></dl></div><div class='xr-var-data'><pre>[77 values with dtype=float32]</pre></div></li></ul></div></li><li class='xr-section-item'><input id='section-69a11838-5104-41fa-be46-a820a1591ce9' class='xr-section-summary-in' type='checkbox'  ><label for='section-69a11838-5104-41fa-be46-a820a1591ce9' class='xr-section-summary' >Indexes: <span>(3)</span></label><div class='xr-section-inline-details'></div><div class='xr-section-details'><ul class='xr-var-list'><li class='xr-var-item'><div class='xr-index-name'><div>maintenancetime</div></div><div class='xr-index-preview'>PandasIndex</div><div></div><input id='index-d179c0ab-e76b-4dbf-a5fe-c6a228a3f33e' class='xr-index-data-in' type='checkbox'/><label for='index-d179c0ab-e76b-4dbf-a5fe-c6a228a3f33e' title='Show/Hide index repr'><svg class='icon xr-icon-database'><use xlink:href='#icon-database'></use></svg></label><div class='xr-index-data'><pre>PandasIndex(DatetimeIndex([&#x27;2023-05-08 16:09:06&#x27;], dtype=&#x27;datetime64[ns]&#x27;, name=&#x27;maintenancetime&#x27;, freq=None))</pre></div></li><li class='xr-var-item'><div class='xr-index-name'><div>station</div></div><div class='xr-index-preview'>PandasIndex</div><div></div><input id='index-6c0f0582-f9b1-463d-9625-2559bd744320' class='xr-index-data-in' type='checkbox'/><label for='index-6c0f0582-f9b1-463d-9625-2559bd744320' title='Show/Hide index repr'><svg class='icon xr-icon-database'><use xlink:href='#icon-database'></use></svg></label><div class='xr-index-data'><pre>PandasIndex(Float64Index([1.0], dtype=&#x27;float64&#x27;, name=&#x27;station&#x27;))</pre></div></li><li class='xr-var-item'><div class='xr-index-name'><div>time</div></div><div class='xr-index-preview'>PandasIndex</div><div></div><input id='index-db31ff5b-bd69-48f8-a105-289978a3090d' class='xr-index-data-in' type='checkbox'/><label for='index-db31ff5b-bd69-48f8-a105-289978a3090d' title='Show/Hide index repr'><svg class='icon xr-icon-database'><use xlink:href='#icon-database'></use></svg></label><div class='xr-index-data'><pre>PandasIndex(DatetimeIndex([&#x27;2022-08-30 11:21:01.443000&#x27;, &#x27;2022-08-30 11:21:01.545000&#x27;,\n               &#x27;2022-08-30 11:21:01.647000&#x27;, &#x27;2022-08-30 11:21:01.750000&#x27;,\n               &#x27;2022-08-30 11:21:01.852000&#x27;, &#x27;2022-08-30 11:21:01.955000&#x27;,\n               &#x27;2022-08-30 11:21:02.057000&#x27;, &#x27;2022-08-30 11:21:02.160000&#x27;,\n               &#x27;2022-08-30 11:21:02.262000&#x27;, &#x27;2022-08-30 11:21:02.364000&#x27;,\n               &#x27;2022-08-30 11:21:02.467000&#x27;, &#x27;2022-08-30 11:21:02.569000&#x27;,\n               &#x27;2022-08-30 11:21:02.672000&#x27;, &#x27;2022-08-30 11:21:02.774000&#x27;,\n               &#x27;2022-08-30 11:21:02.877000&#x27;, &#x27;2022-08-30 11:21:02.979000&#x27;,\n               &#x27;2022-08-30 11:21:03.081000&#x27;, &#x27;2022-08-30 11:21:03.184000&#x27;,\n               &#x27;2022-08-30 11:21:03.286000&#x27;, &#x27;2022-08-30 11:21:03.389000&#x27;,\n               &#x27;2022-08-30 11:21:03.491000&#x27;, &#x27;2022-08-30 11:21:03.594000&#x27;,\n               &#x27;2022-08-30 11:21:03.696000&#x27;, &#x27;2022-08-30 11:21:03.799000&#x27;,\n               &#x27;2022-08-30 11:21:03.901000&#x27;, &#x27;2022-08-30 11:21:04.003000&#x27;,\n               &#x27;2022-08-30 11:21:04.106000&#x27;, &#x27;2022-08-30 11:21:04.208000&#x27;,\n               &#x27;2022-08-30 11:21:04.311000&#x27;, &#x27;2022-08-30 11:21:04.413000&#x27;,\n               &#x27;2022-08-30 11:21:04.516000&#x27;, &#x27;2022-08-30 11:21:04.618000&#x27;,\n               &#x27;2022-08-30 11:21:04.720000&#x27;, &#x27;2022-08-30 11:21:04.823000&#x27;,\n               &#x27;2022-08-30 11:21:04.925000&#x27;, &#x27;2022-08-30 11:21:05.028000&#x27;,\n               &#x27;2022-08-30 11:21:05.130000&#x27;, &#x27;2022-08-30 11:21:05.233000&#x27;,\n               &#x27;2022-08-30 11:21:05.335000&#x27;, &#x27;2022-08-30 11:21:05.438000&#x27;,\n               &#x27;2022-08-30 11:21:05.540000&#x27;, &#x27;2022-08-30 11:21:05.642000&#x27;,\n               &#x27;2022-08-30 11:21:05.745000&#x27;, &#x27;2022-08-30 11:21:05.847000&#x27;,\n               &#x27;2022-08-30 11:21:05.950000&#x27;, &#x27;2022-08-30 11:21:06.052000&#x27;,\n               &#x27;2022-08-30 11:21:06.155000&#x27;, &#x27;2022-08-30 11:21:06.257000&#x27;,\n               &#x27;2022-08-30 11:21:06.359000&#x27;, &#x27;2022-08-30 11:21:06.462000&#x27;,\n               &#x27;2022-08-30 11:21:06.564000&#x27;, &#x27;2022-08-30 11:21:06.667000&#x27;,\n               &#x27;2022-08-30 11:21:06.769000&#x27;, &#x27;2022-08-30 11:21:06.872000&#x27;,\n               &#x27;2022-08-30 11:21:06.974000&#x27;, &#x27;2022-08-30 11:21:07.077000&#x27;,\n               &#x27;2022-08-30 11:21:07.179000&#x27;, &#x27;2022-08-30 11:21:07.281000&#x27;,\n               &#x27;2022-08-30 11:21:07.384000&#x27;, &#x27;2022-08-30 11:21:07.486000&#x27;,\n               &#x27;2022-08-30 11:21:07.589000&#x27;, &#x27;2022-08-30 11:21:07.691000&#x27;,\n               &#x27;2022-08-30 11:21:07.794000&#x27;, &#x27;2022-08-30 11:21:07.896000&#x27;,\n               &#x27;2022-08-30 11:21:07.998000&#x27;, &#x27;2022-08-30 11:21:08.101000&#x27;,\n               &#x27;2022-08-30 11:21:08.203000&#x27;, &#x27;2022-08-30 11:21:08.306000&#x27;,\n               &#x27;2022-08-30 11:21:08.408000&#x27;, &#x27;2022-08-30 11:21:08.511000&#x27;,\n               &#x27;2022-08-30 11:21:08.613000&#x27;, &#x27;2022-08-30 11:21:08.715000&#x27;,\n               &#x27;2022-08-30 11:21:08.818000&#x27;, &#x27;2022-08-30 11:21:08.920000&#x27;,\n               &#x27;2022-08-30 11:21:09.023000&#x27;, &#x27;2022-08-30 11:21:09.125000&#x27;,\n               &#x27;2022-08-30 11:21:09.228000&#x27;],\n              dtype=&#x27;datetime64[ns]&#x27;, name=&#x27;time&#x27;, freq=None))</pre></div></li></ul></div></li><li class='xr-section-item'><input id='section-eb815209-3c5f-474a-b9ff-80928a0a3512' class='xr-section-summary-in' type='checkbox'  ><label for='section-eb815209-3c5f-474a-b9ff-80928a0a3512' class='xr-section-summary' >Attributes: <span>(31)</span></label><div class='xr-section-inline-details'></div><div class='xr-section-details'><dl class='xr-attrs'><dt><span>Conventions :</span></dt><dd>CF-1.10, ACDD-1.3</dd><dt><span>title :</span></dt><dd>TROPOS pyranometer network (PyrNet) observational data set</dd><dt><span>history :</span></dt><dd>2024-02-29T07:54:36: Generated level l1a  by pyrnet version 0.2.4+0.gbfcb0c5.dirty; </dd><dt><span>institution :</span></dt><dd>Leibniz Institute for Tropospheric Research (TROPOS)</dd><dt><span>source :</span></dt><dd>TROPOS pyranometer network (PyrNet)</dd><dt><span>references :</span></dt><dd>https://doi.org/10.5194/amt-9-1153-2016</dd><dt><span>Department :</span></dt><dd>Remote Sensing of Atmospheric Processes</dd><dt><span>Department_team :</span></dt><dd>Clouds, Aerosol and Radiation</dd><dt><span>Address :</span></dt><dd>Permoser Str. 15, 04318 Leipzig, Germany</dd><dt><span>Contact_person :</span></dt><dd>Andreas Macke and the clouds, aerosol and radiation team of the remote sensing department, mailto:andreas.macke@tropos.de</dd><dt><span>Contributor_name :</span></dt><dd></dd><dt><span>Contributor_role :</span></dt><dd></dd><dt><span>Authors_software :</span></dt><dd>Hartwig Deneke, Jonas Witthuhn, mailto:deneke@tropos.de</dd><dt><span>Creator_name :</span></dt><dd></dd><dt><span>Project :</span></dt><dd></dd><dt><span>Standard_name_vocabulary :</span></dt><dd>CF Standard Name Table v81</dd><dt><span>License :</span></dt><dd>CC-BY-SA 3.0</dd><dt><span>TESTNOTE :</span></dt><dd>This is a test note.</dd><dt><span>processing_level :</span></dt><dd>l1a</dd><dt><span>product_version :</span></dt><dd>0.2.4+0.gbfcb0c5.dirty</dd><dt><span>date_created :</span></dt><dd>2024-02-29T07:54:36</dd><dt><span>geospatial_lat_min :</span></dt><dd>51.390208333333334</dd><dt><span>geospatial_lat_max :</span></dt><dd>51.390211666666666</dd><dt><span>geospatial_lat_units :</span></dt><dd>degN</dd><dt><span>geospatial_lon_min :</span></dt><dd>11.885246666666667</dd><dt><span>geospatial_lon_max :</span></dt><dd>11.885256666666667</dd><dt><span>geospatial_lon_units :</span></dt><dd>degE</dd><dt><span>time_coverage_start :</span></dt><dd>2022-08-30T11:21:04.065000</dd><dt><span>time_coverage_end :</span></dt><dd>2022-08-30T11:21:09</dd><dt><span>time_coverage_duration :</span></dt><dd>P0DT0H0M4.935S</dd><dt><span>time_coverage_resolution :</span></dt><dd>P0DT0H0M1.23375S</dd></dl></div></li></ul></div></div>"
     },
     "execution_count": 22,
     "metadata": {},
     "output_type": "execute_result"
    }
   ],
   "source": [
    "#|dropcode\n",
    "#|dropout\n",
    "# 1. Load l1a data\n",
    "ds_l1a = xr.open_dataset(fname)\n",
    "# check correct file\n",
    "if ds_l1a.processing_level != \"l1a\":\n",
    "    raise ValueError(f\"{fname} is not a l1a file.\")\n",
    "\n",
    "\n",
    "# 2. Sync GPS to ADC time\n",
    "adctime = pyrnet.logger.sync_adc_time(\n",
    "    adctime = ds_l1a.adctime.values,\n",
    "    gpstime = ds_l1a.gpstime.values,\n",
    "    iadc = ds_l1a.iadc.squeeze().values.astype(int),\n",
    "    check_results= False\n",
    ")\n",
    "\n",
    "# 3. Create new dataset (l1b) with synced time\n",
    "\n",
    "ds_l1b = ds_l1a.drop_dims('gpstime')\n",
    "ds_l1b = ds_l1b.drop_vars(['maintenance_flag_ghi','maintenance_flag_gti']) # keep only time dependend variables\n",
    "ds_l1b = ds_l1b.assign({'time': ('adctime', adctime)})\n",
    "ds_l1b = ds_l1b.swap_dims({\"adctime\":\"time\"})\n",
    "ds_l1b = ds_l1b.drop_vars(\"adctime\")\n",
    "ds_l1b"
   ]
  },
  {
   "cell_type": "code",
   "execution_count": 23,
   "metadata": {
    "collapsed": false,
    "ExecuteTime": {
     "end_time": "2024-02-29T07:54:38.482390600Z",
     "start_time": "2024-02-29T07:54:38.456392600Z"
    }
   },
   "outputs": [],
   "source": [
    "#|hide\n",
    "# dsp = ds_l1b.sel(time=\"2019-07-15\")\n",
    "# plt.figure()\n",
    "# plt.plot(dsp.time, dsp.ghi)\n",
    "# plt.grid()"
   ]
  },
  {
   "cell_type": "markdown",
   "metadata": {
    "collapsed": false
   },
   "source": [
    "### Drop first and last X minutes of data \n",
    "To avoid bad data due to maintenance during start or end of the maintenance interval, a certain amound of minutes is dropped (defined in config).\n",
    "\n",
    "```{note}\n",
    "config.json -> \"stripminutes\"\n",
    "```"
   ]
  },
  {
   "cell_type": "code",
   "execution_count": 24,
   "metadata": {
    "collapsed": false,
    "ExecuteTime": {
     "end_time": "2024-02-29T07:54:38.626821900Z",
     "start_time": "2024-02-29T07:54:38.471865800Z"
    }
   },
   "outputs": [
    {
     "data": {
      "text/plain": "<xarray.Dataset>\nDimensions:          (time: 37, station: 1, maintenancetime: 1)\nCoordinates:\n  * maintenancetime  (maintenancetime) datetime64[ns] 2023-05-08T16:09:06\n  * station          (station) float32 1.0\n  * time             (time) datetime64[ns] 2022-08-30T11:21:03.491000 ... 202...\nData variables:\n    ghi              (time, station) float32 ...\n    gti              (time, station) float32 ...\n    ta               (time, station) float32 ...\n    rh               (time, station) float32 ...\n    battery_voltage  (time, station) float32 ...\nAttributes: (12/31)\n    Conventions:               CF-1.10, ACDD-1.3\n    title:                     TROPOS pyranometer network (PyrNet) observatio...\n    history:                   2024-02-29T07:54:36: Generated level l1a  by p...\n    institution:               Leibniz Institute for Tropospheric Research (T...\n    source:                    TROPOS pyranometer network (PyrNet)\n    references:                https://doi.org/10.5194/amt-9-1153-2016\n    ...                        ...\n    geospatial_lon_max:        11.885256666666667\n    geospatial_lon_units:      degE\n    time_coverage_start:       2022-08-30T11:21:04.065000\n    time_coverage_end:         2022-08-30T11:21:09\n    time_coverage_duration:    P0DT0H0M4.935S\n    time_coverage_resolution:  P0DT0H0M1.23375S",
      "text/html": "<div><svg style=\"position: absolute; width: 0; height: 0; overflow: hidden\">\n<defs>\n<symbol id=\"icon-database\" viewBox=\"0 0 32 32\">\n<path d=\"M16 0c-8.837 0-16 2.239-16 5v4c0 2.761 7.163 5 16 5s16-2.239 16-5v-4c0-2.761-7.163-5-16-5z\"></path>\n<path d=\"M16 17c-8.837 0-16-2.239-16-5v6c0 2.761 7.163 5 16 5s16-2.239 16-5v-6c0 2.761-7.163 5-16 5z\"></path>\n<path d=\"M16 26c-8.837 0-16-2.239-16-5v6c0 2.761 7.163 5 16 5s16-2.239 16-5v-6c0 2.761-7.163 5-16 5z\"></path>\n</symbol>\n<symbol id=\"icon-file-text2\" viewBox=\"0 0 32 32\">\n<path d=\"M28.681 7.159c-0.694-0.947-1.662-2.053-2.724-3.116s-2.169-2.030-3.116-2.724c-1.612-1.182-2.393-1.319-2.841-1.319h-15.5c-1.378 0-2.5 1.121-2.5 2.5v27c0 1.378 1.122 2.5 2.5 2.5h23c1.378 0 2.5-1.122 2.5-2.5v-19.5c0-0.448-0.137-1.23-1.319-2.841zM24.543 5.457c0.959 0.959 1.712 1.825 2.268 2.543h-4.811v-4.811c0.718 0.556 1.584 1.309 2.543 2.268zM28 29.5c0 0.271-0.229 0.5-0.5 0.5h-23c-0.271 0-0.5-0.229-0.5-0.5v-27c0-0.271 0.229-0.5 0.5-0.5 0 0 15.499-0 15.5 0v7c0 0.552 0.448 1 1 1h7v19.5z\"></path>\n<path d=\"M23 26h-14c-0.552 0-1-0.448-1-1s0.448-1 1-1h14c0.552 0 1 0.448 1 1s-0.448 1-1 1z\"></path>\n<path d=\"M23 22h-14c-0.552 0-1-0.448-1-1s0.448-1 1-1h14c0.552 0 1 0.448 1 1s-0.448 1-1 1z\"></path>\n<path d=\"M23 18h-14c-0.552 0-1-0.448-1-1s0.448-1 1-1h14c0.552 0 1 0.448 1 1s-0.448 1-1 1z\"></path>\n</symbol>\n</defs>\n</svg>\n<style>/* CSS stylesheet for displaying xarray objects in jupyterlab.\n *\n */\n\n:root {\n  --xr-font-color0: var(--jp-content-font-color0, rgba(0, 0, 0, 1));\n  --xr-font-color2: var(--jp-content-font-color2, rgba(0, 0, 0, 0.54));\n  --xr-font-color3: var(--jp-content-font-color3, rgba(0, 0, 0, 0.38));\n  --xr-border-color: var(--jp-border-color2, #e0e0e0);\n  --xr-disabled-color: var(--jp-layout-color3, #bdbdbd);\n  --xr-background-color: var(--jp-layout-color0, white);\n  --xr-background-color-row-even: var(--jp-layout-color1, white);\n  --xr-background-color-row-odd: var(--jp-layout-color2, #eeeeee);\n}\n\nhtml[theme=dark],\nbody[data-theme=dark],\nbody.vscode-dark {\n  --xr-font-color0: rgba(255, 255, 255, 1);\n  --xr-font-color2: rgba(255, 255, 255, 0.54);\n  --xr-font-color3: rgba(255, 255, 255, 0.38);\n  --xr-border-color: #1F1F1F;\n  --xr-disabled-color: #515151;\n  --xr-background-color: #111111;\n  --xr-background-color-row-even: #111111;\n  --xr-background-color-row-odd: #313131;\n}\n\n.xr-wrap {\n  display: block !important;\n  min-width: 300px;\n  max-width: 700px;\n}\n\n.xr-text-repr-fallback {\n  /* fallback to plain text repr when CSS is not injected (untrusted notebook) */\n  display: none;\n}\n\n.xr-header {\n  padding-top: 6px;\n  padding-bottom: 6px;\n  margin-bottom: 4px;\n  border-bottom: solid 1px var(--xr-border-color);\n}\n\n.xr-header > div,\n.xr-header > ul {\n  display: inline;\n  margin-top: 0;\n  margin-bottom: 0;\n}\n\n.xr-obj-type,\n.xr-array-name {\n  margin-left: 2px;\n  margin-right: 10px;\n}\n\n.xr-obj-type {\n  color: var(--xr-font-color2);\n}\n\n.xr-sections {\n  padding-left: 0 !important;\n  display: grid;\n  grid-template-columns: 150px auto auto 1fr 20px 20px;\n}\n\n.xr-section-item {\n  display: contents;\n}\n\n.xr-section-item input {\n  display: none;\n}\n\n.xr-section-item input + label {\n  color: var(--xr-disabled-color);\n}\n\n.xr-section-item input:enabled + label {\n  cursor: pointer;\n  color: var(--xr-font-color2);\n}\n\n.xr-section-item input:enabled + label:hover {\n  color: var(--xr-font-color0);\n}\n\n.xr-section-summary {\n  grid-column: 1;\n  color: var(--xr-font-color2);\n  font-weight: 500;\n}\n\n.xr-section-summary > span {\n  display: inline-block;\n  padding-left: 0.5em;\n}\n\n.xr-section-summary-in:disabled + label {\n  color: var(--xr-font-color2);\n}\n\n.xr-section-summary-in + label:before {\n  display: inline-block;\n  content: '►';\n  font-size: 11px;\n  width: 15px;\n  text-align: center;\n}\n\n.xr-section-summary-in:disabled + label:before {\n  color: var(--xr-disabled-color);\n}\n\n.xr-section-summary-in:checked + label:before {\n  content: '▼';\n}\n\n.xr-section-summary-in:checked + label > span {\n  display: none;\n}\n\n.xr-section-summary,\n.xr-section-inline-details {\n  padding-top: 4px;\n  padding-bottom: 4px;\n}\n\n.xr-section-inline-details {\n  grid-column: 2 / -1;\n}\n\n.xr-section-details {\n  display: none;\n  grid-column: 1 / -1;\n  margin-bottom: 5px;\n}\n\n.xr-section-summary-in:checked ~ .xr-section-details {\n  display: contents;\n}\n\n.xr-array-wrap {\n  grid-column: 1 / -1;\n  display: grid;\n  grid-template-columns: 20px auto;\n}\n\n.xr-array-wrap > label {\n  grid-column: 1;\n  vertical-align: top;\n}\n\n.xr-preview {\n  color: var(--xr-font-color3);\n}\n\n.xr-array-preview,\n.xr-array-data {\n  padding: 0 5px !important;\n  grid-column: 2;\n}\n\n.xr-array-data,\n.xr-array-in:checked ~ .xr-array-preview {\n  display: none;\n}\n\n.xr-array-in:checked ~ .xr-array-data,\n.xr-array-preview {\n  display: inline-block;\n}\n\n.xr-dim-list {\n  display: inline-block !important;\n  list-style: none;\n  padding: 0 !important;\n  margin: 0;\n}\n\n.xr-dim-list li {\n  display: inline-block;\n  padding: 0;\n  margin: 0;\n}\n\n.xr-dim-list:before {\n  content: '(';\n}\n\n.xr-dim-list:after {\n  content: ')';\n}\n\n.xr-dim-list li:not(:last-child):after {\n  content: ',';\n  padding-right: 5px;\n}\n\n.xr-has-index {\n  font-weight: bold;\n}\n\n.xr-var-list,\n.xr-var-item {\n  display: contents;\n}\n\n.xr-var-item > div,\n.xr-var-item label,\n.xr-var-item > .xr-var-name span {\n  background-color: var(--xr-background-color-row-even);\n  margin-bottom: 0;\n}\n\n.xr-var-item > .xr-var-name:hover span {\n  padding-right: 5px;\n}\n\n.xr-var-list > li:nth-child(odd) > div,\n.xr-var-list > li:nth-child(odd) > label,\n.xr-var-list > li:nth-child(odd) > .xr-var-name span {\n  background-color: var(--xr-background-color-row-odd);\n}\n\n.xr-var-name {\n  grid-column: 1;\n}\n\n.xr-var-dims {\n  grid-column: 2;\n}\n\n.xr-var-dtype {\n  grid-column: 3;\n  text-align: right;\n  color: var(--xr-font-color2);\n}\n\n.xr-var-preview {\n  grid-column: 4;\n}\n\n.xr-index-preview {\n  grid-column: 2 / 5;\n  color: var(--xr-font-color2);\n}\n\n.xr-var-name,\n.xr-var-dims,\n.xr-var-dtype,\n.xr-preview,\n.xr-attrs dt {\n  white-space: nowrap;\n  overflow: hidden;\n  text-overflow: ellipsis;\n  padding-right: 10px;\n}\n\n.xr-var-name:hover,\n.xr-var-dims:hover,\n.xr-var-dtype:hover,\n.xr-attrs dt:hover {\n  overflow: visible;\n  width: auto;\n  z-index: 1;\n}\n\n.xr-var-attrs,\n.xr-var-data,\n.xr-index-data {\n  display: none;\n  background-color: var(--xr-background-color) !important;\n  padding-bottom: 5px !important;\n}\n\n.xr-var-attrs-in:checked ~ .xr-var-attrs,\n.xr-var-data-in:checked ~ .xr-var-data,\n.xr-index-data-in:checked ~ .xr-index-data {\n  display: block;\n}\n\n.xr-var-data > table {\n  float: right;\n}\n\n.xr-var-name span,\n.xr-var-data,\n.xr-index-name div,\n.xr-index-data,\n.xr-attrs {\n  padding-left: 25px !important;\n}\n\n.xr-attrs,\n.xr-var-attrs,\n.xr-var-data,\n.xr-index-data {\n  grid-column: 1 / -1;\n}\n\ndl.xr-attrs {\n  padding: 0;\n  margin: 0;\n  display: grid;\n  grid-template-columns: 125px auto;\n}\n\n.xr-attrs dt,\n.xr-attrs dd {\n  padding: 0;\n  margin: 0;\n  float: left;\n  padding-right: 10px;\n  width: auto;\n}\n\n.xr-attrs dt {\n  font-weight: normal;\n  grid-column: 1;\n}\n\n.xr-attrs dt:hover span {\n  display: inline-block;\n  background: var(--xr-background-color);\n  padding-right: 10px;\n}\n\n.xr-attrs dd {\n  grid-column: 2;\n  white-space: pre-wrap;\n  word-break: break-all;\n}\n\n.xr-icon-database,\n.xr-icon-file-text2,\n.xr-no-icon {\n  display: inline-block;\n  vertical-align: middle;\n  width: 1em;\n  height: 1.5em !important;\n  stroke-width: 0;\n  stroke: currentColor;\n  fill: currentColor;\n}\n</style><pre class='xr-text-repr-fallback'>&lt;xarray.Dataset&gt;\nDimensions:          (time: 37, station: 1, maintenancetime: 1)\nCoordinates:\n  * maintenancetime  (maintenancetime) datetime64[ns] 2023-05-08T16:09:06\n  * station          (station) float32 1.0\n  * time             (time) datetime64[ns] 2022-08-30T11:21:03.491000 ... 202...\nData variables:\n    ghi              (time, station) float32 ...\n    gti              (time, station) float32 ...\n    ta               (time, station) float32 ...\n    rh               (time, station) float32 ...\n    battery_voltage  (time, station) float32 ...\nAttributes: (12/31)\n    Conventions:               CF-1.10, ACDD-1.3\n    title:                     TROPOS pyranometer network (PyrNet) observatio...\n    history:                   2024-02-29T07:54:36: Generated level l1a  by p...\n    institution:               Leibniz Institute for Tropospheric Research (T...\n    source:                    TROPOS pyranometer network (PyrNet)\n    references:                https://doi.org/10.5194/amt-9-1153-2016\n    ...                        ...\n    geospatial_lon_max:        11.885256666666667\n    geospatial_lon_units:      degE\n    time_coverage_start:       2022-08-30T11:21:04.065000\n    time_coverage_end:         2022-08-30T11:21:09\n    time_coverage_duration:    P0DT0H0M4.935S\n    time_coverage_resolution:  P0DT0H0M1.23375S</pre><div class='xr-wrap' style='display:none'><div class='xr-header'><div class='xr-obj-type'>xarray.Dataset</div></div><ul class='xr-sections'><li class='xr-section-item'><input id='section-ca4f2922-2f5e-48c9-8589-4c6e14381d2d' class='xr-section-summary-in' type='checkbox' disabled ><label for='section-ca4f2922-2f5e-48c9-8589-4c6e14381d2d' class='xr-section-summary'  title='Expand/collapse section'>Dimensions:</label><div class='xr-section-inline-details'><ul class='xr-dim-list'><li><span class='xr-has-index'>time</span>: 37</li><li><span class='xr-has-index'>station</span>: 1</li><li><span class='xr-has-index'>maintenancetime</span>: 1</li></ul></div><div class='xr-section-details'></div></li><li class='xr-section-item'><input id='section-80558705-a8a5-4bb1-81fe-c643e608164f' class='xr-section-summary-in' type='checkbox'  checked><label for='section-80558705-a8a5-4bb1-81fe-c643e608164f' class='xr-section-summary' >Coordinates: <span>(3)</span></label><div class='xr-section-inline-details'></div><div class='xr-section-details'><ul class='xr-var-list'><li class='xr-var-item'><div class='xr-var-name'><span class='xr-has-index'>maintenancetime</span></div><div class='xr-var-dims'>(maintenancetime)</div><div class='xr-var-dtype'>datetime64[ns]</div><div class='xr-var-preview xr-preview'>2023-05-08T16:09:06</div><input id='attrs-c05fa336-46aa-4df4-8817-2a36bee5298e' class='xr-var-attrs-in' type='checkbox' disabled><label for='attrs-c05fa336-46aa-4df4-8817-2a36bee5298e' title='Show/Hide attributes'><svg class='icon xr-icon-file-text2'><use xlink:href='#icon-file-text2'></use></svg></label><input id='data-3b694ad8-3fa9-4daa-9b8e-97dd22fcd801' class='xr-var-data-in' type='checkbox'><label for='data-3b694ad8-3fa9-4daa-9b8e-97dd22fcd801' title='Show/Hide data repr'><svg class='icon xr-icon-database'><use xlink:href='#icon-database'></use></svg></label><div class='xr-var-attrs'><dl class='xr-attrs'></dl></div><div class='xr-var-data'><pre>array([&#x27;2023-05-08T16:09:06.000000000&#x27;], dtype=&#x27;datetime64[ns]&#x27;)</pre></div></li><li class='xr-var-item'><div class='xr-var-name'><span class='xr-has-index'>station</span></div><div class='xr-var-dims'>(station)</div><div class='xr-var-dtype'>float32</div><div class='xr-var-preview xr-preview'>1.0</div><input id='attrs-3594bd5e-895d-4976-b862-b7790aa2fd6f' class='xr-var-attrs-in' type='checkbox' ><label for='attrs-3594bd5e-895d-4976-b862-b7790aa2fd6f' title='Show/Hide attributes'><svg class='icon xr-icon-file-text2'><use xlink:href='#icon-file-text2'></use></svg></label><input id='data-4a85ed84-eed4-4a49-a2b1-8ce56217c40f' class='xr-var-data-in' type='checkbox'><label for='data-4a85ed84-eed4-4a49-a2b1-8ce56217c40f' title='Show/Hide data repr'><svg class='icon xr-icon-database'><use xlink:href='#icon-database'></use></svg></label><div class='xr-var-attrs'><dl class='xr-attrs'><dt><span>units :</span></dt><dd>-</dd><dt><span>long_name :</span></dt><dd>PyrNet unit box number</dd></dl></div><div class='xr-var-data'><pre>array([1.], dtype=float32)</pre></div></li><li class='xr-var-item'><div class='xr-var-name'><span class='xr-has-index'>time</span></div><div class='xr-var-dims'>(time)</div><div class='xr-var-dtype'>datetime64[ns]</div><div class='xr-var-preview xr-preview'>2022-08-30T11:21:03.491000 ... 2...</div><input id='attrs-e9230f07-1583-48d8-af86-ba166a5186a8' class='xr-var-attrs-in' type='checkbox' disabled><label for='attrs-e9230f07-1583-48d8-af86-ba166a5186a8' title='Show/Hide attributes'><svg class='icon xr-icon-file-text2'><use xlink:href='#icon-file-text2'></use></svg></label><input id='data-63156d8b-7321-429e-b6fe-81473a55fd6c' class='xr-var-data-in' type='checkbox'><label for='data-63156d8b-7321-429e-b6fe-81473a55fd6c' title='Show/Hide data repr'><svg class='icon xr-icon-database'><use xlink:href='#icon-database'></use></svg></label><div class='xr-var-attrs'><dl class='xr-attrs'></dl></div><div class='xr-var-data'><pre>array([&#x27;2022-08-30T11:21:03.491000000&#x27;, &#x27;2022-08-30T11:21:03.594000000&#x27;,\n       &#x27;2022-08-30T11:21:03.696000000&#x27;, &#x27;2022-08-30T11:21:03.799000000&#x27;,\n       &#x27;2022-08-30T11:21:03.901000000&#x27;, &#x27;2022-08-30T11:21:04.003000000&#x27;,\n       &#x27;2022-08-30T11:21:04.106000000&#x27;, &#x27;2022-08-30T11:21:04.208000000&#x27;,\n       &#x27;2022-08-30T11:21:04.311000000&#x27;, &#x27;2022-08-30T11:21:04.413000000&#x27;,\n       &#x27;2022-08-30T11:21:04.516000000&#x27;, &#x27;2022-08-30T11:21:04.618000000&#x27;,\n       &#x27;2022-08-30T11:21:04.720000000&#x27;, &#x27;2022-08-30T11:21:04.823000000&#x27;,\n       &#x27;2022-08-30T11:21:04.925000000&#x27;, &#x27;2022-08-30T11:21:05.028000000&#x27;,\n       &#x27;2022-08-30T11:21:05.130000000&#x27;, &#x27;2022-08-30T11:21:05.233000000&#x27;,\n       &#x27;2022-08-30T11:21:05.335000000&#x27;, &#x27;2022-08-30T11:21:05.438000000&#x27;,\n       &#x27;2022-08-30T11:21:05.540000000&#x27;, &#x27;2022-08-30T11:21:05.642000000&#x27;,\n       &#x27;2022-08-30T11:21:05.745000000&#x27;, &#x27;2022-08-30T11:21:05.847000000&#x27;,\n       &#x27;2022-08-30T11:21:05.950000000&#x27;, &#x27;2022-08-30T11:21:06.052000000&#x27;,\n       &#x27;2022-08-30T11:21:06.155000000&#x27;, &#x27;2022-08-30T11:21:06.257000000&#x27;,\n       &#x27;2022-08-30T11:21:06.359000000&#x27;, &#x27;2022-08-30T11:21:06.462000000&#x27;,\n       &#x27;2022-08-30T11:21:06.564000000&#x27;, &#x27;2022-08-30T11:21:06.667000000&#x27;,\n       &#x27;2022-08-30T11:21:06.769000000&#x27;, &#x27;2022-08-30T11:21:06.872000000&#x27;,\n       &#x27;2022-08-30T11:21:06.974000000&#x27;, &#x27;2022-08-30T11:21:07.077000000&#x27;,\n       &#x27;2022-08-30T11:21:07.179000000&#x27;], dtype=&#x27;datetime64[ns]&#x27;)</pre></div></li></ul></div></li><li class='xr-section-item'><input id='section-239153ca-48df-4ee7-b701-029050e6198f' class='xr-section-summary-in' type='checkbox'  checked><label for='section-239153ca-48df-4ee7-b701-029050e6198f' class='xr-section-summary' >Data variables: <span>(5)</span></label><div class='xr-section-inline-details'></div><div class='xr-section-details'><ul class='xr-var-list'><li class='xr-var-item'><div class='xr-var-name'><span>ghi</span></div><div class='xr-var-dims'>(time, station)</div><div class='xr-var-dtype'>float32</div><div class='xr-var-preview xr-preview'>...</div><input id='attrs-46c6ece9-87bc-464a-8793-049561932aee' class='xr-var-attrs-in' type='checkbox' ><label for='attrs-46c6ece9-87bc-464a-8793-049561932aee' title='Show/Hide attributes'><svg class='icon xr-icon-file-text2'><use xlink:href='#icon-file-text2'></use></svg></label><input id='data-6e0d02ac-679c-4d0d-9d7d-41def2e1315f' class='xr-var-data-in' type='checkbox'><label for='data-6e0d02ac-679c-4d0d-9d7d-41def2e1315f' title='Show/Hide data repr'><svg class='icon xr-icon-database'><use xlink:href='#icon-database'></use></svg></label><div class='xr-var-attrs'><dl class='xr-attrs'><dt><span>units :</span></dt><dd>V</dd><dt><span>long_name :</span></dt><dd>downwelling shortwave flux</dd><dt><span>standard_name :</span></dt><dd>downwelling_shortwave_flux_in_air</dd><dt><span>valid_range :</span></dt><dd>[   0 1023]</dd></dl></div><div class='xr-var-data'><pre>[37 values with dtype=float32]</pre></div></li><li class='xr-var-item'><div class='xr-var-name'><span>gti</span></div><div class='xr-var-dims'>(time, station)</div><div class='xr-var-dtype'>float32</div><div class='xr-var-preview xr-preview'>...</div><input id='attrs-c4fa9cbe-7a6b-48d6-a94f-c4ea665ba60a' class='xr-var-attrs-in' type='checkbox' ><label for='attrs-c4fa9cbe-7a6b-48d6-a94f-c4ea665ba60a' title='Show/Hide attributes'><svg class='icon xr-icon-file-text2'><use xlink:href='#icon-file-text2'></use></svg></label><input id='data-957a0d1f-cdf6-48dc-a277-c417705f7205' class='xr-var-data-in' type='checkbox'><label for='data-957a0d1f-cdf6-48dc-a277-c417705f7205' title='Show/Hide data repr'><svg class='icon xr-icon-database'><use xlink:href='#icon-database'></use></svg></label><div class='xr-var-attrs'><dl class='xr-attrs'><dt><span>units :</span></dt><dd>V</dd><dt><span>long_name :</span></dt><dd>downwelling shortwave flux measured on secondary platform, might be tilted</dd><dt><span>standard_name :</span></dt><dd>downwelling_shortwave_flux_in_air</dd><dt><span>valid_range :</span></dt><dd>[   0 1023]</dd><dt><span>hangle :</span></dt><dd>0.0</dd><dt><span>vangle :</span></dt><dd>0.0</dd></dl></div><div class='xr-var-data'><pre>[37 values with dtype=float32]</pre></div></li><li class='xr-var-item'><div class='xr-var-name'><span>ta</span></div><div class='xr-var-dims'>(time, station)</div><div class='xr-var-dtype'>float32</div><div class='xr-var-preview xr-preview'>...</div><input id='attrs-4e0e9e9b-9351-444c-8041-15f6f9b86cfc' class='xr-var-attrs-in' type='checkbox' ><label for='attrs-4e0e9e9b-9351-444c-8041-15f6f9b86cfc' title='Show/Hide attributes'><svg class='icon xr-icon-file-text2'><use xlink:href='#icon-file-text2'></use></svg></label><input id='data-76b8f0af-7b21-4290-8a1d-e1013619ccc0' class='xr-var-data-in' type='checkbox'><label for='data-76b8f0af-7b21-4290-8a1d-e1013619ccc0' title='Show/Hide data repr'><svg class='icon xr-icon-database'><use xlink:href='#icon-database'></use></svg></label><div class='xr-var-attrs'><dl class='xr-attrs'><dt><span>units :</span></dt><dd>K</dd><dt><span>long_name :</span></dt><dd>air temperature</dd><dt><span>standard_name :</span></dt><dd>air_temperature</dd><dt><span>valid_range :</span></dt><dd>[  0 775]</dd></dl></div><div class='xr-var-data'><pre>[37 values with dtype=float32]</pre></div></li><li class='xr-var-item'><div class='xr-var-name'><span>rh</span></div><div class='xr-var-dims'>(time, station)</div><div class='xr-var-dtype'>float32</div><div class='xr-var-preview xr-preview'>...</div><input id='attrs-eb6ecac6-b5bf-46f9-9604-35ffa8052025' class='xr-var-attrs-in' type='checkbox' ><label for='attrs-eb6ecac6-b5bf-46f9-9604-35ffa8052025' title='Show/Hide attributes'><svg class='icon xr-icon-file-text2'><use xlink:href='#icon-file-text2'></use></svg></label><input id='data-e6c2d706-c7c3-4056-9717-dce77fb8eb03' class='xr-var-data-in' type='checkbox'><label for='data-e6c2d706-c7c3-4056-9717-dce77fb8eb03' title='Show/Hide data repr'><svg class='icon xr-icon-database'><use xlink:href='#icon-database'></use></svg></label><div class='xr-var-attrs'><dl class='xr-attrs'><dt><span>units :</span></dt><dd>1</dd><dt><span>long_name :</span></dt><dd>air relative humidity</dd><dt><span>standard_name :</span></dt><dd>relative_humidity</dd><dt><span>valid_range :</span></dt><dd>[  0 775]</dd></dl></div><div class='xr-var-data'><pre>[37 values with dtype=float32]</pre></div></li><li class='xr-var-item'><div class='xr-var-name'><span>battery_voltage</span></div><div class='xr-var-dims'>(time, station)</div><div class='xr-var-dtype'>float32</div><div class='xr-var-preview xr-preview'>...</div><input id='attrs-795c7841-3057-4e9f-a7b9-e63e3ab5ec47' class='xr-var-attrs-in' type='checkbox' ><label for='attrs-795c7841-3057-4e9f-a7b9-e63e3ab5ec47' title='Show/Hide attributes'><svg class='icon xr-icon-file-text2'><use xlink:href='#icon-file-text2'></use></svg></label><input id='data-ed3b7299-e72d-4ee6-ab5c-a95332a6ff91' class='xr-var-data-in' type='checkbox'><label for='data-ed3b7299-e72d-4ee6-ab5c-a95332a6ff91' title='Show/Hide data repr'><svg class='icon xr-icon-database'><use xlink:href='#icon-database'></use></svg></label><div class='xr-var-attrs'><dl class='xr-attrs'><dt><span>units :</span></dt><dd>V</dd><dt><span>standard_name :</span></dt><dd>battery_voltage</dd><dt><span>valid_range :</span></dt><dd>[  0 992]</dd></dl></div><div class='xr-var-data'><pre>[37 values with dtype=float32]</pre></div></li></ul></div></li><li class='xr-section-item'><input id='section-c872e3a3-a3e7-45ff-a293-cba0d967a8e5' class='xr-section-summary-in' type='checkbox'  ><label for='section-c872e3a3-a3e7-45ff-a293-cba0d967a8e5' class='xr-section-summary' >Indexes: <span>(3)</span></label><div class='xr-section-inline-details'></div><div class='xr-section-details'><ul class='xr-var-list'><li class='xr-var-item'><div class='xr-index-name'><div>maintenancetime</div></div><div class='xr-index-preview'>PandasIndex</div><div></div><input id='index-ab057b71-dac5-455c-91c8-39da5f97c48f' class='xr-index-data-in' type='checkbox'/><label for='index-ab057b71-dac5-455c-91c8-39da5f97c48f' title='Show/Hide index repr'><svg class='icon xr-icon-database'><use xlink:href='#icon-database'></use></svg></label><div class='xr-index-data'><pre>PandasIndex(DatetimeIndex([&#x27;2023-05-08 16:09:06&#x27;], dtype=&#x27;datetime64[ns]&#x27;, name=&#x27;maintenancetime&#x27;, freq=None))</pre></div></li><li class='xr-var-item'><div class='xr-index-name'><div>station</div></div><div class='xr-index-preview'>PandasIndex</div><div></div><input id='index-374d9615-ebc0-4b7b-b09c-975fde804984' class='xr-index-data-in' type='checkbox'/><label for='index-374d9615-ebc0-4b7b-b09c-975fde804984' title='Show/Hide index repr'><svg class='icon xr-icon-database'><use xlink:href='#icon-database'></use></svg></label><div class='xr-index-data'><pre>PandasIndex(Float64Index([1.0], dtype=&#x27;float64&#x27;, name=&#x27;station&#x27;))</pre></div></li><li class='xr-var-item'><div class='xr-index-name'><div>time</div></div><div class='xr-index-preview'>PandasIndex</div><div></div><input id='index-873728c0-506e-4824-8670-4bbd6a63a87f' class='xr-index-data-in' type='checkbox'/><label for='index-873728c0-506e-4824-8670-4bbd6a63a87f' title='Show/Hide index repr'><svg class='icon xr-icon-database'><use xlink:href='#icon-database'></use></svg></label><div class='xr-index-data'><pre>PandasIndex(DatetimeIndex([&#x27;2022-08-30 11:21:03.491000&#x27;, &#x27;2022-08-30 11:21:03.594000&#x27;,\n               &#x27;2022-08-30 11:21:03.696000&#x27;, &#x27;2022-08-30 11:21:03.799000&#x27;,\n               &#x27;2022-08-30 11:21:03.901000&#x27;, &#x27;2022-08-30 11:21:04.003000&#x27;,\n               &#x27;2022-08-30 11:21:04.106000&#x27;, &#x27;2022-08-30 11:21:04.208000&#x27;,\n               &#x27;2022-08-30 11:21:04.311000&#x27;, &#x27;2022-08-30 11:21:04.413000&#x27;,\n               &#x27;2022-08-30 11:21:04.516000&#x27;, &#x27;2022-08-30 11:21:04.618000&#x27;,\n               &#x27;2022-08-30 11:21:04.720000&#x27;, &#x27;2022-08-30 11:21:04.823000&#x27;,\n               &#x27;2022-08-30 11:21:04.925000&#x27;, &#x27;2022-08-30 11:21:05.028000&#x27;,\n               &#x27;2022-08-30 11:21:05.130000&#x27;, &#x27;2022-08-30 11:21:05.233000&#x27;,\n               &#x27;2022-08-30 11:21:05.335000&#x27;, &#x27;2022-08-30 11:21:05.438000&#x27;,\n               &#x27;2022-08-30 11:21:05.540000&#x27;, &#x27;2022-08-30 11:21:05.642000&#x27;,\n               &#x27;2022-08-30 11:21:05.745000&#x27;, &#x27;2022-08-30 11:21:05.847000&#x27;,\n               &#x27;2022-08-30 11:21:05.950000&#x27;, &#x27;2022-08-30 11:21:06.052000&#x27;,\n               &#x27;2022-08-30 11:21:06.155000&#x27;, &#x27;2022-08-30 11:21:06.257000&#x27;,\n               &#x27;2022-08-30 11:21:06.359000&#x27;, &#x27;2022-08-30 11:21:06.462000&#x27;,\n               &#x27;2022-08-30 11:21:06.564000&#x27;, &#x27;2022-08-30 11:21:06.667000&#x27;,\n               &#x27;2022-08-30 11:21:06.769000&#x27;, &#x27;2022-08-30 11:21:06.872000&#x27;,\n               &#x27;2022-08-30 11:21:06.974000&#x27;, &#x27;2022-08-30 11:21:07.077000&#x27;,\n               &#x27;2022-08-30 11:21:07.179000&#x27;],\n              dtype=&#x27;datetime64[ns]&#x27;, name=&#x27;time&#x27;, freq=None))</pre></div></li></ul></div></li><li class='xr-section-item'><input id='section-0f668613-4c06-47d2-92aa-f4e200f5a680' class='xr-section-summary-in' type='checkbox'  ><label for='section-0f668613-4c06-47d2-92aa-f4e200f5a680' class='xr-section-summary' >Attributes: <span>(31)</span></label><div class='xr-section-inline-details'></div><div class='xr-section-details'><dl class='xr-attrs'><dt><span>Conventions :</span></dt><dd>CF-1.10, ACDD-1.3</dd><dt><span>title :</span></dt><dd>TROPOS pyranometer network (PyrNet) observational data set</dd><dt><span>history :</span></dt><dd>2024-02-29T07:54:36: Generated level l1a  by pyrnet version 0.2.4+0.gbfcb0c5.dirty; </dd><dt><span>institution :</span></dt><dd>Leibniz Institute for Tropospheric Research (TROPOS)</dd><dt><span>source :</span></dt><dd>TROPOS pyranometer network (PyrNet)</dd><dt><span>references :</span></dt><dd>https://doi.org/10.5194/amt-9-1153-2016</dd><dt><span>Department :</span></dt><dd>Remote Sensing of Atmospheric Processes</dd><dt><span>Department_team :</span></dt><dd>Clouds, Aerosol and Radiation</dd><dt><span>Address :</span></dt><dd>Permoser Str. 15, 04318 Leipzig, Germany</dd><dt><span>Contact_person :</span></dt><dd>Andreas Macke and the clouds, aerosol and radiation team of the remote sensing department, mailto:andreas.macke@tropos.de</dd><dt><span>Contributor_name :</span></dt><dd></dd><dt><span>Contributor_role :</span></dt><dd></dd><dt><span>Authors_software :</span></dt><dd>Hartwig Deneke, Jonas Witthuhn, mailto:deneke@tropos.de</dd><dt><span>Creator_name :</span></dt><dd></dd><dt><span>Project :</span></dt><dd></dd><dt><span>Standard_name_vocabulary :</span></dt><dd>CF Standard Name Table v81</dd><dt><span>License :</span></dt><dd>CC-BY-SA 3.0</dd><dt><span>TESTNOTE :</span></dt><dd>This is a test note.</dd><dt><span>processing_level :</span></dt><dd>l1a</dd><dt><span>product_version :</span></dt><dd>0.2.4+0.gbfcb0c5.dirty</dd><dt><span>date_created :</span></dt><dd>2024-02-29T07:54:36</dd><dt><span>geospatial_lat_min :</span></dt><dd>51.390208333333334</dd><dt><span>geospatial_lat_max :</span></dt><dd>51.390211666666666</dd><dt><span>geospatial_lat_units :</span></dt><dd>degN</dd><dt><span>geospatial_lon_min :</span></dt><dd>11.885246666666667</dd><dt><span>geospatial_lon_max :</span></dt><dd>11.885256666666667</dd><dt><span>geospatial_lon_units :</span></dt><dd>degE</dd><dt><span>time_coverage_start :</span></dt><dd>2022-08-30T11:21:04.065000</dd><dt><span>time_coverage_end :</span></dt><dd>2022-08-30T11:21:09</dd><dt><span>time_coverage_duration :</span></dt><dd>P0DT0H0M4.935S</dd><dt><span>time_coverage_resolution :</span></dt><dd>P0DT0H0M1.23375S</dd></dl></div></li></ul></div></div>"
     },
     "execution_count": 24,
     "metadata": {},
     "output_type": "execute_result"
    }
   ],
   "source": [
    "#|dropcode\n",
    "#|dropout\n",
    "# 4. Drop first and last <stripminutes> minutes of data to avoid bad data due to maintenance\n",
    "\n",
    "# stripminutes = np.timedelta64(int(config['stripminutes']), 'm')\n",
    "# for now use some seconds for demonstration\n",
    "stripminutes = np.timedelta64(2, 's')\n",
    "tslice = slice(ds_l1b.time.values[0] + stripminutes,\n",
    "               ds_l1b.time.values[-1] - stripminutes)\n",
    "ds_l1b = ds_l1b.sel(time=tslice)\n",
    "ds_l1b"
   ]
  },
  {
   "cell_type": "markdown",
   "source": [
    "###  Resample\n",
    "Resample the data to desired time interval\n",
    "    * ```pyrnet.data.resample```\n"
   ],
   "metadata": {
    "collapsed": false
   }
  },
  {
   "cell_type": "code",
   "execution_count": 25,
   "outputs": [
    {
     "data": {
      "text/plain": "<xarray.Dataset>\nDimensions:          (station: 1, time: 5)\nCoordinates:\n  * station          (station) float64 1.0\n  * time             (time) datetime64[ns] 2022-08-30T11:21:03 ... 2022-08-30...\nData variables:\n    ghi              (time, station) float32 0.002086 0.002085 ... 0.002086\n    gti              (time, station) float32 0.001935 0.001935 ... 0.001935\n    ta               (time, station) float32 294.8 294.7 294.8 294.7 294.8\n    rh               (time, station) float32 0.6263 0.6266 0.6271 0.6271 0.629\n    battery_voltage  (time, station) float32 6.445 6.446 6.45 6.448 6.458\n    ghi_min          (time, station) float32 0.002086 0.002075 ... 0.002086\n    gti_min          (time, station) float32 0.001935 0.001925 ... 0.001935\n    ghi_max          (time, station) float32 0.002086 0.002086 ... 0.002086\n    gti_max          (time, station) float32 0.001935 0.001946 ... 0.001935\n    ghi_std          (time, station) float64 0.0 3.4e-06 0.0 0.0 0.0\n    gti_std          (time, station) float64 0.0 5.069e-06 6.104e-06 0.0 0.0\nAttributes: (12/31)\n    Conventions:               CF-1.10, ACDD-1.3\n    title:                     TROPOS pyranometer network (PyrNet) observatio...\n    history:                   2024-02-29T07:54:36: Generated level l1a  by p...\n    institution:               Leibniz Institute for Tropospheric Research (T...\n    source:                    TROPOS pyranometer network (PyrNet)\n    references:                https://doi.org/10.5194/amt-9-1153-2016\n    ...                        ...\n    geospatial_lon_max:        11.885256666666667\n    geospatial_lon_units:      degE\n    time_coverage_start:       2022-08-30T11:21:04.065000\n    time_coverage_end:         2022-08-30T11:21:09\n    time_coverage_duration:    P0DT0H0M4.935S\n    time_coverage_resolution:  P0DT0H0M1.23375S",
      "text/html": "<div><svg style=\"position: absolute; width: 0; height: 0; overflow: hidden\">\n<defs>\n<symbol id=\"icon-database\" viewBox=\"0 0 32 32\">\n<path d=\"M16 0c-8.837 0-16 2.239-16 5v4c0 2.761 7.163 5 16 5s16-2.239 16-5v-4c0-2.761-7.163-5-16-5z\"></path>\n<path d=\"M16 17c-8.837 0-16-2.239-16-5v6c0 2.761 7.163 5 16 5s16-2.239 16-5v-6c0 2.761-7.163 5-16 5z\"></path>\n<path d=\"M16 26c-8.837 0-16-2.239-16-5v6c0 2.761 7.163 5 16 5s16-2.239 16-5v-6c0 2.761-7.163 5-16 5z\"></path>\n</symbol>\n<symbol id=\"icon-file-text2\" viewBox=\"0 0 32 32\">\n<path d=\"M28.681 7.159c-0.694-0.947-1.662-2.053-2.724-3.116s-2.169-2.030-3.116-2.724c-1.612-1.182-2.393-1.319-2.841-1.319h-15.5c-1.378 0-2.5 1.121-2.5 2.5v27c0 1.378 1.122 2.5 2.5 2.5h23c1.378 0 2.5-1.122 2.5-2.5v-19.5c0-0.448-0.137-1.23-1.319-2.841zM24.543 5.457c0.959 0.959 1.712 1.825 2.268 2.543h-4.811v-4.811c0.718 0.556 1.584 1.309 2.543 2.268zM28 29.5c0 0.271-0.229 0.5-0.5 0.5h-23c-0.271 0-0.5-0.229-0.5-0.5v-27c0-0.271 0.229-0.5 0.5-0.5 0 0 15.499-0 15.5 0v7c0 0.552 0.448 1 1 1h7v19.5z\"></path>\n<path d=\"M23 26h-14c-0.552 0-1-0.448-1-1s0.448-1 1-1h14c0.552 0 1 0.448 1 1s-0.448 1-1 1z\"></path>\n<path d=\"M23 22h-14c-0.552 0-1-0.448-1-1s0.448-1 1-1h14c0.552 0 1 0.448 1 1s-0.448 1-1 1z\"></path>\n<path d=\"M23 18h-14c-0.552 0-1-0.448-1-1s0.448-1 1-1h14c0.552 0 1 0.448 1 1s-0.448 1-1 1z\"></path>\n</symbol>\n</defs>\n</svg>\n<style>/* CSS stylesheet for displaying xarray objects in jupyterlab.\n *\n */\n\n:root {\n  --xr-font-color0: var(--jp-content-font-color0, rgba(0, 0, 0, 1));\n  --xr-font-color2: var(--jp-content-font-color2, rgba(0, 0, 0, 0.54));\n  --xr-font-color3: var(--jp-content-font-color3, rgba(0, 0, 0, 0.38));\n  --xr-border-color: var(--jp-border-color2, #e0e0e0);\n  --xr-disabled-color: var(--jp-layout-color3, #bdbdbd);\n  --xr-background-color: var(--jp-layout-color0, white);\n  --xr-background-color-row-even: var(--jp-layout-color1, white);\n  --xr-background-color-row-odd: var(--jp-layout-color2, #eeeeee);\n}\n\nhtml[theme=dark],\nbody[data-theme=dark],\nbody.vscode-dark {\n  --xr-font-color0: rgba(255, 255, 255, 1);\n  --xr-font-color2: rgba(255, 255, 255, 0.54);\n  --xr-font-color3: rgba(255, 255, 255, 0.38);\n  --xr-border-color: #1F1F1F;\n  --xr-disabled-color: #515151;\n  --xr-background-color: #111111;\n  --xr-background-color-row-even: #111111;\n  --xr-background-color-row-odd: #313131;\n}\n\n.xr-wrap {\n  display: block !important;\n  min-width: 300px;\n  max-width: 700px;\n}\n\n.xr-text-repr-fallback {\n  /* fallback to plain text repr when CSS is not injected (untrusted notebook) */\n  display: none;\n}\n\n.xr-header {\n  padding-top: 6px;\n  padding-bottom: 6px;\n  margin-bottom: 4px;\n  border-bottom: solid 1px var(--xr-border-color);\n}\n\n.xr-header > div,\n.xr-header > ul {\n  display: inline;\n  margin-top: 0;\n  margin-bottom: 0;\n}\n\n.xr-obj-type,\n.xr-array-name {\n  margin-left: 2px;\n  margin-right: 10px;\n}\n\n.xr-obj-type {\n  color: var(--xr-font-color2);\n}\n\n.xr-sections {\n  padding-left: 0 !important;\n  display: grid;\n  grid-template-columns: 150px auto auto 1fr 20px 20px;\n}\n\n.xr-section-item {\n  display: contents;\n}\n\n.xr-section-item input {\n  display: none;\n}\n\n.xr-section-item input + label {\n  color: var(--xr-disabled-color);\n}\n\n.xr-section-item input:enabled + label {\n  cursor: pointer;\n  color: var(--xr-font-color2);\n}\n\n.xr-section-item input:enabled + label:hover {\n  color: var(--xr-font-color0);\n}\n\n.xr-section-summary {\n  grid-column: 1;\n  color: var(--xr-font-color2);\n  font-weight: 500;\n}\n\n.xr-section-summary > span {\n  display: inline-block;\n  padding-left: 0.5em;\n}\n\n.xr-section-summary-in:disabled + label {\n  color: var(--xr-font-color2);\n}\n\n.xr-section-summary-in + label:before {\n  display: inline-block;\n  content: '►';\n  font-size: 11px;\n  width: 15px;\n  text-align: center;\n}\n\n.xr-section-summary-in:disabled + label:before {\n  color: var(--xr-disabled-color);\n}\n\n.xr-section-summary-in:checked + label:before {\n  content: '▼';\n}\n\n.xr-section-summary-in:checked + label > span {\n  display: none;\n}\n\n.xr-section-summary,\n.xr-section-inline-details {\n  padding-top: 4px;\n  padding-bottom: 4px;\n}\n\n.xr-section-inline-details {\n  grid-column: 2 / -1;\n}\n\n.xr-section-details {\n  display: none;\n  grid-column: 1 / -1;\n  margin-bottom: 5px;\n}\n\n.xr-section-summary-in:checked ~ .xr-section-details {\n  display: contents;\n}\n\n.xr-array-wrap {\n  grid-column: 1 / -1;\n  display: grid;\n  grid-template-columns: 20px auto;\n}\n\n.xr-array-wrap > label {\n  grid-column: 1;\n  vertical-align: top;\n}\n\n.xr-preview {\n  color: var(--xr-font-color3);\n}\n\n.xr-array-preview,\n.xr-array-data {\n  padding: 0 5px !important;\n  grid-column: 2;\n}\n\n.xr-array-data,\n.xr-array-in:checked ~ .xr-array-preview {\n  display: none;\n}\n\n.xr-array-in:checked ~ .xr-array-data,\n.xr-array-preview {\n  display: inline-block;\n}\n\n.xr-dim-list {\n  display: inline-block !important;\n  list-style: none;\n  padding: 0 !important;\n  margin: 0;\n}\n\n.xr-dim-list li {\n  display: inline-block;\n  padding: 0;\n  margin: 0;\n}\n\n.xr-dim-list:before {\n  content: '(';\n}\n\n.xr-dim-list:after {\n  content: ')';\n}\n\n.xr-dim-list li:not(:last-child):after {\n  content: ',';\n  padding-right: 5px;\n}\n\n.xr-has-index {\n  font-weight: bold;\n}\n\n.xr-var-list,\n.xr-var-item {\n  display: contents;\n}\n\n.xr-var-item > div,\n.xr-var-item label,\n.xr-var-item > .xr-var-name span {\n  background-color: var(--xr-background-color-row-even);\n  margin-bottom: 0;\n}\n\n.xr-var-item > .xr-var-name:hover span {\n  padding-right: 5px;\n}\n\n.xr-var-list > li:nth-child(odd) > div,\n.xr-var-list > li:nth-child(odd) > label,\n.xr-var-list > li:nth-child(odd) > .xr-var-name span {\n  background-color: var(--xr-background-color-row-odd);\n}\n\n.xr-var-name {\n  grid-column: 1;\n}\n\n.xr-var-dims {\n  grid-column: 2;\n}\n\n.xr-var-dtype {\n  grid-column: 3;\n  text-align: right;\n  color: var(--xr-font-color2);\n}\n\n.xr-var-preview {\n  grid-column: 4;\n}\n\n.xr-index-preview {\n  grid-column: 2 / 5;\n  color: var(--xr-font-color2);\n}\n\n.xr-var-name,\n.xr-var-dims,\n.xr-var-dtype,\n.xr-preview,\n.xr-attrs dt {\n  white-space: nowrap;\n  overflow: hidden;\n  text-overflow: ellipsis;\n  padding-right: 10px;\n}\n\n.xr-var-name:hover,\n.xr-var-dims:hover,\n.xr-var-dtype:hover,\n.xr-attrs dt:hover {\n  overflow: visible;\n  width: auto;\n  z-index: 1;\n}\n\n.xr-var-attrs,\n.xr-var-data,\n.xr-index-data {\n  display: none;\n  background-color: var(--xr-background-color) !important;\n  padding-bottom: 5px !important;\n}\n\n.xr-var-attrs-in:checked ~ .xr-var-attrs,\n.xr-var-data-in:checked ~ .xr-var-data,\n.xr-index-data-in:checked ~ .xr-index-data {\n  display: block;\n}\n\n.xr-var-data > table {\n  float: right;\n}\n\n.xr-var-name span,\n.xr-var-data,\n.xr-index-name div,\n.xr-index-data,\n.xr-attrs {\n  padding-left: 25px !important;\n}\n\n.xr-attrs,\n.xr-var-attrs,\n.xr-var-data,\n.xr-index-data {\n  grid-column: 1 / -1;\n}\n\ndl.xr-attrs {\n  padding: 0;\n  margin: 0;\n  display: grid;\n  grid-template-columns: 125px auto;\n}\n\n.xr-attrs dt,\n.xr-attrs dd {\n  padding: 0;\n  margin: 0;\n  float: left;\n  padding-right: 10px;\n  width: auto;\n}\n\n.xr-attrs dt {\n  font-weight: normal;\n  grid-column: 1;\n}\n\n.xr-attrs dt:hover span {\n  display: inline-block;\n  background: var(--xr-background-color);\n  padding-right: 10px;\n}\n\n.xr-attrs dd {\n  grid-column: 2;\n  white-space: pre-wrap;\n  word-break: break-all;\n}\n\n.xr-icon-database,\n.xr-icon-file-text2,\n.xr-no-icon {\n  display: inline-block;\n  vertical-align: middle;\n  width: 1em;\n  height: 1.5em !important;\n  stroke-width: 0;\n  stroke: currentColor;\n  fill: currentColor;\n}\n</style><pre class='xr-text-repr-fallback'>&lt;xarray.Dataset&gt;\nDimensions:          (station: 1, time: 5)\nCoordinates:\n  * station          (station) float64 1.0\n  * time             (time) datetime64[ns] 2022-08-30T11:21:03 ... 2022-08-30...\nData variables:\n    ghi              (time, station) float32 0.002086 0.002085 ... 0.002086\n    gti              (time, station) float32 0.001935 0.001935 ... 0.001935\n    ta               (time, station) float32 294.8 294.7 294.8 294.7 294.8\n    rh               (time, station) float32 0.6263 0.6266 0.6271 0.6271 0.629\n    battery_voltage  (time, station) float32 6.445 6.446 6.45 6.448 6.458\n    ghi_min          (time, station) float32 0.002086 0.002075 ... 0.002086\n    gti_min          (time, station) float32 0.001935 0.001925 ... 0.001935\n    ghi_max          (time, station) float32 0.002086 0.002086 ... 0.002086\n    gti_max          (time, station) float32 0.001935 0.001946 ... 0.001935\n    ghi_std          (time, station) float64 0.0 3.4e-06 0.0 0.0 0.0\n    gti_std          (time, station) float64 0.0 5.069e-06 6.104e-06 0.0 0.0\nAttributes: (12/31)\n    Conventions:               CF-1.10, ACDD-1.3\n    title:                     TROPOS pyranometer network (PyrNet) observatio...\n    history:                   2024-02-29T07:54:36: Generated level l1a  by p...\n    institution:               Leibniz Institute for Tropospheric Research (T...\n    source:                    TROPOS pyranometer network (PyrNet)\n    references:                https://doi.org/10.5194/amt-9-1153-2016\n    ...                        ...\n    geospatial_lon_max:        11.885256666666667\n    geospatial_lon_units:      degE\n    time_coverage_start:       2022-08-30T11:21:04.065000\n    time_coverage_end:         2022-08-30T11:21:09\n    time_coverage_duration:    P0DT0H0M4.935S\n    time_coverage_resolution:  P0DT0H0M1.23375S</pre><div class='xr-wrap' style='display:none'><div class='xr-header'><div class='xr-obj-type'>xarray.Dataset</div></div><ul class='xr-sections'><li class='xr-section-item'><input id='section-6c8421bc-b28f-4417-a54f-9c11e4a28720' class='xr-section-summary-in' type='checkbox' disabled ><label for='section-6c8421bc-b28f-4417-a54f-9c11e4a28720' class='xr-section-summary'  title='Expand/collapse section'>Dimensions:</label><div class='xr-section-inline-details'><ul class='xr-dim-list'><li><span class='xr-has-index'>station</span>: 1</li><li><span class='xr-has-index'>time</span>: 5</li></ul></div><div class='xr-section-details'></div></li><li class='xr-section-item'><input id='section-5d53360a-ffd4-4fda-90b0-cb165f0e48bb' class='xr-section-summary-in' type='checkbox'  checked><label for='section-5d53360a-ffd4-4fda-90b0-cb165f0e48bb' class='xr-section-summary' >Coordinates: <span>(2)</span></label><div class='xr-section-inline-details'></div><div class='xr-section-details'><ul class='xr-var-list'><li class='xr-var-item'><div class='xr-var-name'><span class='xr-has-index'>station</span></div><div class='xr-var-dims'>(station)</div><div class='xr-var-dtype'>float64</div><div class='xr-var-preview xr-preview'>1.0</div><input id='attrs-84cc586c-1ddd-4d4e-840e-ef33c6630f90' class='xr-var-attrs-in' type='checkbox' ><label for='attrs-84cc586c-1ddd-4d4e-840e-ef33c6630f90' title='Show/Hide attributes'><svg class='icon xr-icon-file-text2'><use xlink:href='#icon-file-text2'></use></svg></label><input id='data-af2e173c-0cb4-4862-9049-99693d5740ad' class='xr-var-data-in' type='checkbox'><label for='data-af2e173c-0cb4-4862-9049-99693d5740ad' title='Show/Hide data repr'><svg class='icon xr-icon-database'><use xlink:href='#icon-database'></use></svg></label><div class='xr-var-attrs'><dl class='xr-attrs'><dt><span>units :</span></dt><dd>-</dd><dt><span>long_name :</span></dt><dd>PyrNet unit box number</dd></dl></div><div class='xr-var-data'><pre>array([1.])</pre></div></li><li class='xr-var-item'><div class='xr-var-name'><span class='xr-has-index'>time</span></div><div class='xr-var-dims'>(time)</div><div class='xr-var-dtype'>datetime64[ns]</div><div class='xr-var-preview xr-preview'>2022-08-30T11:21:03 ... 2022-08-...</div><input id='attrs-28faa7c1-9eb2-415e-86ec-f2f4ad3e6b9b' class='xr-var-attrs-in' type='checkbox' disabled><label for='attrs-28faa7c1-9eb2-415e-86ec-f2f4ad3e6b9b' title='Show/Hide attributes'><svg class='icon xr-icon-file-text2'><use xlink:href='#icon-file-text2'></use></svg></label><input id='data-59e90430-68d7-4611-a0a3-7317b2a860a9' class='xr-var-data-in' type='checkbox'><label for='data-59e90430-68d7-4611-a0a3-7317b2a860a9' title='Show/Hide data repr'><svg class='icon xr-icon-database'><use xlink:href='#icon-database'></use></svg></label><div class='xr-var-attrs'><dl class='xr-attrs'></dl></div><div class='xr-var-data'><pre>array([&#x27;2022-08-30T11:21:03.000000000&#x27;, &#x27;2022-08-30T11:21:04.000000000&#x27;,\n       &#x27;2022-08-30T11:21:05.000000000&#x27;, &#x27;2022-08-30T11:21:06.000000000&#x27;,\n       &#x27;2022-08-30T11:21:07.000000000&#x27;], dtype=&#x27;datetime64[ns]&#x27;)</pre></div></li></ul></div></li><li class='xr-section-item'><input id='section-ec4801d6-7dee-49ac-b91e-ad4e597013f1' class='xr-section-summary-in' type='checkbox'  checked><label for='section-ec4801d6-7dee-49ac-b91e-ad4e597013f1' class='xr-section-summary' >Data variables: <span>(11)</span></label><div class='xr-section-inline-details'></div><div class='xr-section-details'><ul class='xr-var-list'><li class='xr-var-item'><div class='xr-var-name'><span>ghi</span></div><div class='xr-var-dims'>(time, station)</div><div class='xr-var-dtype'>float32</div><div class='xr-var-preview xr-preview'>0.002086 0.002085 ... 0.002086</div><input id='attrs-b3e723ea-fee4-4093-b26f-39b8b1fa7725' class='xr-var-attrs-in' type='checkbox' ><label for='attrs-b3e723ea-fee4-4093-b26f-39b8b1fa7725' title='Show/Hide attributes'><svg class='icon xr-icon-file-text2'><use xlink:href='#icon-file-text2'></use></svg></label><input id='data-3e4b8a04-b61d-4615-9ef3-32692f7904ea' class='xr-var-data-in' type='checkbox'><label for='data-3e4b8a04-b61d-4615-9ef3-32692f7904ea' title='Show/Hide data repr'><svg class='icon xr-icon-database'><use xlink:href='#icon-database'></use></svg></label><div class='xr-var-attrs'><dl class='xr-attrs'><dt><span>units :</span></dt><dd>V</dd><dt><span>long_name :</span></dt><dd>downwelling shortwave flux</dd><dt><span>standard_name :</span></dt><dd>downwelling_shortwave_flux_in_air</dd><dt><span>valid_range :</span></dt><dd>[   0 1023]</dd></dl></div><div class='xr-var-data'><pre>array([[0.00208602],\n       [0.00208495],\n       [0.00208602],\n       [0.00208602],\n       [0.00208602]], dtype=float32)</pre></div></li><li class='xr-var-item'><div class='xr-var-name'><span>gti</span></div><div class='xr-var-dims'>(time, station)</div><div class='xr-var-dtype'>float32</div><div class='xr-var-preview xr-preview'>0.001935 0.001935 ... 0.001935</div><input id='attrs-d5e9e884-b101-4e26-80f2-d0690616e6e9' class='xr-var-attrs-in' type='checkbox' ><label for='attrs-d5e9e884-b101-4e26-80f2-d0690616e6e9' title='Show/Hide attributes'><svg class='icon xr-icon-file-text2'><use xlink:href='#icon-file-text2'></use></svg></label><input id='data-8110241e-eded-45cc-b37d-836cafab18d1' class='xr-var-data-in' type='checkbox'><label for='data-8110241e-eded-45cc-b37d-836cafab18d1' title='Show/Hide data repr'><svg class='icon xr-icon-database'><use xlink:href='#icon-database'></use></svg></label><div class='xr-var-attrs'><dl class='xr-attrs'><dt><span>units :</span></dt><dd>V</dd><dt><span>long_name :</span></dt><dd>downwelling shortwave flux measured on secondary platform, might be tilted</dd><dt><span>standard_name :</span></dt><dd>downwelling_shortwave_flux_in_air</dd><dt><span>valid_range :</span></dt><dd>[   0 1023]</dd><dt><span>hangle :</span></dt><dd>0.0</dd><dt><span>vangle :</span></dt><dd>0.0</dd></dl></div><div class='xr-var-data'><pre>array([[0.00193548],\n       [0.00193548],\n       [0.00193656],\n       [0.00193548],\n       [0.00193548]], dtype=float32)</pre></div></li><li class='xr-var-item'><div class='xr-var-name'><span>ta</span></div><div class='xr-var-dims'>(time, station)</div><div class='xr-var-dtype'>float32</div><div class='xr-var-preview xr-preview'>294.8 294.7 294.8 294.7 294.8</div><input id='attrs-d1a56be3-8518-43c3-af68-6944d6a9b5cb' class='xr-var-attrs-in' type='checkbox' ><label for='attrs-d1a56be3-8518-43c3-af68-6944d6a9b5cb' title='Show/Hide attributes'><svg class='icon xr-icon-file-text2'><use xlink:href='#icon-file-text2'></use></svg></label><input id='data-07be9262-86ba-4056-a4cc-a5a4a6c880c1' class='xr-var-data-in' type='checkbox'><label for='data-07be9262-86ba-4056-a4cc-a5a4a6c880c1' title='Show/Hide data repr'><svg class='icon xr-icon-database'><use xlink:href='#icon-database'></use></svg></label><div class='xr-var-attrs'><dl class='xr-attrs'><dt><span>units :</span></dt><dd>K</dd><dt><span>long_name :</span></dt><dd>air temperature</dd><dt><span>standard_name :</span></dt><dd>air_temperature</dd><dt><span>valid_range :</span></dt><dd>[  0 775]</dd></dl></div><div class='xr-var-data'><pre>array([[294.7758 ],\n       [294.74997],\n       [294.7887 ],\n       [294.74997],\n       [294.82742]], dtype=float32)</pre></div></li><li class='xr-var-item'><div class='xr-var-name'><span>rh</span></div><div class='xr-var-dims'>(time, station)</div><div class='xr-var-dtype'>float32</div><div class='xr-var-preview xr-preview'>0.6263 0.6266 0.6271 0.6271 0.629</div><input id='attrs-960c8ea6-0449-48cc-a78b-d1a99e617c3f' class='xr-var-attrs-in' type='checkbox' ><label for='attrs-960c8ea6-0449-48cc-a78b-d1a99e617c3f' title='Show/Hide attributes'><svg class='icon xr-icon-file-text2'><use xlink:href='#icon-file-text2'></use></svg></label><input id='data-3ca0daea-d051-44ae-a126-4e1734f0f51c' class='xr-var-data-in' type='checkbox'><label for='data-3ca0daea-d051-44ae-a126-4e1734f0f51c' title='Show/Hide data repr'><svg class='icon xr-icon-database'><use xlink:href='#icon-database'></use></svg></label><div class='xr-var-attrs'><dl class='xr-attrs'><dt><span>units :</span></dt><dd>1</dd><dt><span>long_name :</span></dt><dd>air relative humidity</dd><dt><span>standard_name :</span></dt><dd>relative_humidity</dd><dt><span>valid_range :</span></dt><dd>[  0 775]</dd></dl></div><div class='xr-var-data'><pre>array([[0.62632257],\n       [0.6265806 ],\n       [0.6270968 ],\n       [0.6270968 ],\n       [0.62903225]], dtype=float32)</pre></div></li><li class='xr-var-item'><div class='xr-var-name'><span>battery_voltage</span></div><div class='xr-var-dims'>(time, station)</div><div class='xr-var-dtype'>float32</div><div class='xr-var-preview xr-preview'>6.445 6.446 6.45 6.448 6.458</div><input id='attrs-6105718e-5925-4b35-b786-6677e1cde9a3' class='xr-var-attrs-in' type='checkbox' ><label for='attrs-6105718e-5925-4b35-b786-6677e1cde9a3' title='Show/Hide attributes'><svg class='icon xr-icon-file-text2'><use xlink:href='#icon-file-text2'></use></svg></label><input id='data-af03215a-613b-4278-b11c-387c255dad5e' class='xr-var-data-in' type='checkbox'><label for='data-af03215a-613b-4278-b11c-387c255dad5e' title='Show/Hide data repr'><svg class='icon xr-icon-database'><use xlink:href='#icon-database'></use></svg></label><div class='xr-var-attrs'><dl class='xr-attrs'><dt><span>units :</span></dt><dd>V</dd><dt><span>standard_name :</span></dt><dd>battery_voltage</dd><dt><span>valid_range :</span></dt><dd>[  0 992]</dd></dl></div><div class='xr-var-data'><pre>array([[6.4451613],\n       [6.445807 ],\n       [6.4496775],\n       [6.4477415],\n       [6.4580646]], dtype=float32)</pre></div></li><li class='xr-var-item'><div class='xr-var-name'><span>ghi_min</span></div><div class='xr-var-dims'>(time, station)</div><div class='xr-var-dtype'>float32</div><div class='xr-var-preview xr-preview'>0.002086 0.002075 ... 0.002086</div><input id='attrs-04a9e04e-a21f-4b9d-8462-bf22c75982ec' class='xr-var-attrs-in' type='checkbox' ><label for='attrs-04a9e04e-a21f-4b9d-8462-bf22c75982ec' title='Show/Hide attributes'><svg class='icon xr-icon-file-text2'><use xlink:href='#icon-file-text2'></use></svg></label><input id='data-626e487e-fccc-4f77-8027-add58eae95b3' class='xr-var-data-in' type='checkbox'><label for='data-626e487e-fccc-4f77-8027-add58eae95b3' title='Show/Hide data repr'><svg class='icon xr-icon-database'><use xlink:href='#icon-database'></use></svg></label><div class='xr-var-attrs'><dl class='xr-attrs'><dt><span>units :</span></dt><dd>V</dd><dt><span>long_name :</span></dt><dd>downwelling shortwave flux</dd><dt><span>standard_name :</span></dt><dd>min_downwelling_shortwave_flux_in_air</dd><dt><span>valid_range :</span></dt><dd>[   0 1023]</dd></dl></div><div class='xr-var-data'><pre>array([[0.00208602],\n       [0.00207527],\n       [0.00208602],\n       [0.00208602],\n       [0.00208602]], dtype=float32)</pre></div></li><li class='xr-var-item'><div class='xr-var-name'><span>gti_min</span></div><div class='xr-var-dims'>(time, station)</div><div class='xr-var-dtype'>float32</div><div class='xr-var-preview xr-preview'>0.001935 0.001925 ... 0.001935</div><input id='attrs-d7924944-3370-49f9-9972-cae6d2a331c1' class='xr-var-attrs-in' type='checkbox' ><label for='attrs-d7924944-3370-49f9-9972-cae6d2a331c1' title='Show/Hide attributes'><svg class='icon xr-icon-file-text2'><use xlink:href='#icon-file-text2'></use></svg></label><input id='data-96bde1ed-710b-416f-8e2c-9cbb57b1c832' class='xr-var-data-in' type='checkbox'><label for='data-96bde1ed-710b-416f-8e2c-9cbb57b1c832' title='Show/Hide data repr'><svg class='icon xr-icon-database'><use xlink:href='#icon-database'></use></svg></label><div class='xr-var-attrs'><dl class='xr-attrs'><dt><span>units :</span></dt><dd>V</dd><dt><span>long_name :</span></dt><dd>downwelling shortwave flux measured on secondary platform, might be tilted</dd><dt><span>standard_name :</span></dt><dd>min_downwelling_shortwave_flux_in_air</dd><dt><span>valid_range :</span></dt><dd>[   0 1023]</dd><dt><span>hangle :</span></dt><dd>0.0</dd><dt><span>vangle :</span></dt><dd>0.0</dd></dl></div><div class='xr-var-data'><pre>array([[0.00193548],\n       [0.00192473],\n       [0.00192473],\n       [0.00193548],\n       [0.00193548]], dtype=float32)</pre></div></li><li class='xr-var-item'><div class='xr-var-name'><span>ghi_max</span></div><div class='xr-var-dims'>(time, station)</div><div class='xr-var-dtype'>float32</div><div class='xr-var-preview xr-preview'>0.002086 0.002086 ... 0.002086</div><input id='attrs-2340047a-ba07-4148-a686-6a4085e30687' class='xr-var-attrs-in' type='checkbox' ><label for='attrs-2340047a-ba07-4148-a686-6a4085e30687' title='Show/Hide attributes'><svg class='icon xr-icon-file-text2'><use xlink:href='#icon-file-text2'></use></svg></label><input id='data-116937ec-f371-42a3-8d7f-dc27cf9172da' class='xr-var-data-in' type='checkbox'><label for='data-116937ec-f371-42a3-8d7f-dc27cf9172da' title='Show/Hide data repr'><svg class='icon xr-icon-database'><use xlink:href='#icon-database'></use></svg></label><div class='xr-var-attrs'><dl class='xr-attrs'><dt><span>units :</span></dt><dd>V</dd><dt><span>long_name :</span></dt><dd>downwelling shortwave flux</dd><dt><span>standard_name :</span></dt><dd>max_downwelling_shortwave_flux_in_air</dd><dt><span>valid_range :</span></dt><dd>[   0 1023]</dd></dl></div><div class='xr-var-data'><pre>array([[0.00208602],\n       [0.00208602],\n       [0.00208602],\n       [0.00208602],\n       [0.00208602]], dtype=float32)</pre></div></li><li class='xr-var-item'><div class='xr-var-name'><span>gti_max</span></div><div class='xr-var-dims'>(time, station)</div><div class='xr-var-dtype'>float32</div><div class='xr-var-preview xr-preview'>0.001935 0.001946 ... 0.001935</div><input id='attrs-badfbd7e-2aba-429e-8f90-2da674c594ef' class='xr-var-attrs-in' type='checkbox' ><label for='attrs-badfbd7e-2aba-429e-8f90-2da674c594ef' title='Show/Hide attributes'><svg class='icon xr-icon-file-text2'><use xlink:href='#icon-file-text2'></use></svg></label><input id='data-d1db4338-c11d-44c8-bf23-791c65d58c68' class='xr-var-data-in' type='checkbox'><label for='data-d1db4338-c11d-44c8-bf23-791c65d58c68' title='Show/Hide data repr'><svg class='icon xr-icon-database'><use xlink:href='#icon-database'></use></svg></label><div class='xr-var-attrs'><dl class='xr-attrs'><dt><span>units :</span></dt><dd>V</dd><dt><span>long_name :</span></dt><dd>downwelling shortwave flux measured on secondary platform, might be tilted</dd><dt><span>standard_name :</span></dt><dd>max_downwelling_shortwave_flux_in_air</dd><dt><span>valid_range :</span></dt><dd>[   0 1023]</dd><dt><span>hangle :</span></dt><dd>0.0</dd><dt><span>vangle :</span></dt><dd>0.0</dd></dl></div><div class='xr-var-data'><pre>array([[0.00193548],\n       [0.00194624],\n       [0.00194624],\n       [0.00193548],\n       [0.00193548]], dtype=float32)</pre></div></li><li class='xr-var-item'><div class='xr-var-name'><span>ghi_std</span></div><div class='xr-var-dims'>(time, station)</div><div class='xr-var-dtype'>float64</div><div class='xr-var-preview xr-preview'>0.0 3.4e-06 0.0 0.0 0.0</div><input id='attrs-e3fbecb6-9155-4261-97d4-fba302aff09f' class='xr-var-attrs-in' type='checkbox' ><label for='attrs-e3fbecb6-9155-4261-97d4-fba302aff09f' title='Show/Hide attributes'><svg class='icon xr-icon-file-text2'><use xlink:href='#icon-file-text2'></use></svg></label><input id='data-6172052a-1f86-4ef1-93f9-8e43fb4c9c5b' class='xr-var-data-in' type='checkbox'><label for='data-6172052a-1f86-4ef1-93f9-8e43fb4c9c5b' title='Show/Hide data repr'><svg class='icon xr-icon-database'><use xlink:href='#icon-database'></use></svg></label><div class='xr-var-attrs'><dl class='xr-attrs'><dt><span>units :</span></dt><dd>V</dd><dt><span>long_name :</span></dt><dd>downwelling shortwave flux</dd><dt><span>standard_name :</span></dt><dd>std_downwelling_shortwave_flux_in_air</dd><dt><span>valid_range :</span></dt><dd>[   0 1023]</dd></dl></div><div class='xr-var-data'><pre>array([[0.00000000e+00],\n       [3.40026587e-06],\n       [0.00000000e+00],\n       [0.00000000e+00],\n       [0.00000000e+00]])</pre></div></li><li class='xr-var-item'><div class='xr-var-name'><span>gti_std</span></div><div class='xr-var-dims'>(time, station)</div><div class='xr-var-dtype'>float64</div><div class='xr-var-preview xr-preview'>0.0 5.069e-06 6.104e-06 0.0 0.0</div><input id='attrs-3037fb34-114a-4caa-9d41-a9d53a1bbfd2' class='xr-var-attrs-in' type='checkbox' ><label for='attrs-3037fb34-114a-4caa-9d41-a9d53a1bbfd2' title='Show/Hide attributes'><svg class='icon xr-icon-file-text2'><use xlink:href='#icon-file-text2'></use></svg></label><input id='data-30ae732b-2cb0-4bbf-b63c-214b60cb5444' class='xr-var-data-in' type='checkbox'><label for='data-30ae732b-2cb0-4bbf-b63c-214b60cb5444' title='Show/Hide data repr'><svg class='icon xr-icon-database'><use xlink:href='#icon-database'></use></svg></label><div class='xr-var-attrs'><dl class='xr-attrs'><dt><span>units :</span></dt><dd>V</dd><dt><span>long_name :</span></dt><dd>downwelling shortwave flux measured on secondary platform, might be tilted</dd><dt><span>standard_name :</span></dt><dd>std_downwelling_shortwave_flux_in_air</dd><dt><span>valid_range :</span></dt><dd>[   0 1023]</dd><dt><span>hangle :</span></dt><dd>0.0</dd><dt><span>vangle :</span></dt><dd>0.0</dd></dl></div><div class='xr-var-data'><pre>array([[0.00000000e+00],\n       [5.06887196e-06],\n       [6.10373011e-06],\n       [0.00000000e+00],\n       [0.00000000e+00]])</pre></div></li></ul></div></li><li class='xr-section-item'><input id='section-97c4096d-c507-4877-87dd-5aae60a25519' class='xr-section-summary-in' type='checkbox'  ><label for='section-97c4096d-c507-4877-87dd-5aae60a25519' class='xr-section-summary' >Indexes: <span>(2)</span></label><div class='xr-section-inline-details'></div><div class='xr-section-details'><ul class='xr-var-list'><li class='xr-var-item'><div class='xr-index-name'><div>time</div></div><div class='xr-index-preview'>PandasIndex</div><div></div><input id='index-c9b934c4-3822-4429-bb37-b976729be8e4' class='xr-index-data-in' type='checkbox'/><label for='index-c9b934c4-3822-4429-bb37-b976729be8e4' title='Show/Hide index repr'><svg class='icon xr-icon-database'><use xlink:href='#icon-database'></use></svg></label><div class='xr-index-data'><pre>PandasIndex(DatetimeIndex([&#x27;2022-08-30 11:21:03&#x27;, &#x27;2022-08-30 11:21:04&#x27;,\n               &#x27;2022-08-30 11:21:05&#x27;, &#x27;2022-08-30 11:21:06&#x27;,\n               &#x27;2022-08-30 11:21:07&#x27;],\n              dtype=&#x27;datetime64[ns]&#x27;, name=&#x27;time&#x27;, freq=&#x27;S&#x27;))</pre></div></li><li class='xr-var-item'><div class='xr-index-name'><div>station</div></div><div class='xr-index-preview'>PandasIndex</div><div></div><input id='index-1e2198be-f4dc-4b18-bf62-e3117a5cf4f0' class='xr-index-data-in' type='checkbox'/><label for='index-1e2198be-f4dc-4b18-bf62-e3117a5cf4f0' title='Show/Hide index repr'><svg class='icon xr-icon-database'><use xlink:href='#icon-database'></use></svg></label><div class='xr-index-data'><pre>PandasIndex(Float64Index([1.0], dtype=&#x27;float64&#x27;, name=&#x27;station&#x27;))</pre></div></li></ul></div></li><li class='xr-section-item'><input id='section-a0147322-12c1-41fc-b815-22e3bbcc9601' class='xr-section-summary-in' type='checkbox'  ><label for='section-a0147322-12c1-41fc-b815-22e3bbcc9601' class='xr-section-summary' >Attributes: <span>(31)</span></label><div class='xr-section-inline-details'></div><div class='xr-section-details'><dl class='xr-attrs'><dt><span>Conventions :</span></dt><dd>CF-1.10, ACDD-1.3</dd><dt><span>title :</span></dt><dd>TROPOS pyranometer network (PyrNet) observational data set</dd><dt><span>history :</span></dt><dd>2024-02-29T07:54:36: Generated level l1a  by pyrnet version 0.2.4+0.gbfcb0c5.dirty; </dd><dt><span>institution :</span></dt><dd>Leibniz Institute for Tropospheric Research (TROPOS)</dd><dt><span>source :</span></dt><dd>TROPOS pyranometer network (PyrNet)</dd><dt><span>references :</span></dt><dd>https://doi.org/10.5194/amt-9-1153-2016</dd><dt><span>Department :</span></dt><dd>Remote Sensing of Atmospheric Processes</dd><dt><span>Department_team :</span></dt><dd>Clouds, Aerosol and Radiation</dd><dt><span>Address :</span></dt><dd>Permoser Str. 15, 04318 Leipzig, Germany</dd><dt><span>Contact_person :</span></dt><dd>Andreas Macke and the clouds, aerosol and radiation team of the remote sensing department, mailto:andreas.macke@tropos.de</dd><dt><span>Contributor_name :</span></dt><dd></dd><dt><span>Contributor_role :</span></dt><dd></dd><dt><span>Authors_software :</span></dt><dd>Hartwig Deneke, Jonas Witthuhn, mailto:deneke@tropos.de</dd><dt><span>Creator_name :</span></dt><dd></dd><dt><span>Project :</span></dt><dd></dd><dt><span>Standard_name_vocabulary :</span></dt><dd>CF Standard Name Table v81</dd><dt><span>License :</span></dt><dd>CC-BY-SA 3.0</dd><dt><span>TESTNOTE :</span></dt><dd>This is a test note.</dd><dt><span>processing_level :</span></dt><dd>l1a</dd><dt><span>product_version :</span></dt><dd>0.2.4+0.gbfcb0c5.dirty</dd><dt><span>date_created :</span></dt><dd>2024-02-29T07:54:36</dd><dt><span>geospatial_lat_min :</span></dt><dd>51.390208333333334</dd><dt><span>geospatial_lat_max :</span></dt><dd>51.390211666666666</dd><dt><span>geospatial_lat_units :</span></dt><dd>degN</dd><dt><span>geospatial_lon_min :</span></dt><dd>11.885246666666667</dd><dt><span>geospatial_lon_max :</span></dt><dd>11.885256666666667</dd><dt><span>geospatial_lon_units :</span></dt><dd>degE</dd><dt><span>time_coverage_start :</span></dt><dd>2022-08-30T11:21:04.065000</dd><dt><span>time_coverage_end :</span></dt><dd>2022-08-30T11:21:09</dd><dt><span>time_coverage_duration :</span></dt><dd>P0DT0H0M4.935S</dd><dt><span>time_coverage_resolution :</span></dt><dd>P0DT0H0M1.23375S</dd></dl></div></li></ul></div></div>"
     },
     "execution_count": 25,
     "metadata": {},
     "output_type": "execute_result"
    }
   ],
   "source": [
    "#|dropcode\n",
    "#|dropout\n",
    "# 6. resample to desired resolution\n",
    "# save station coordinate\n",
    "station_dim = {\"station\": ds_l1b[\"station\"].values}\n",
    "station_attrs = ds_l1b[\"station\"].attrs\n",
    "\n",
    "# resample on time dimension with specified methods\n",
    "methods = ['mean'] + config[\"l1b_resample_stats\"]\n",
    "res = resample(\n",
    "    ds_l1b.squeeze().drop_vars(\"station\"), # drop station coordinate and variable\n",
    "    freq=config['l1bfreq'],\n",
    "    methods=methods,\n",
    "    kwargs=dict(skipna=True)\n",
    ")\n",
    "\n",
    "# add standard names for new variables\n",
    "ds_l1b = res[0]\n",
    "for i, method in enumerate(methods[1:]):\n",
    "    for var in config[\"radflux_varname\"]:\n",
    "        ds_l1b[f\"{var}_{method}\"] = res[i+1][var]\n",
    "        ds_l1b[f\"{var}_{method}\"].attrs.update({\n",
    "            \"standard_name\": f\"{method}_\"+ds_l1b[f\"{var}_{method}\"].attrs[\"standard_name\"]\n",
    "        })\n",
    "\n",
    "# add station dimension back again\n",
    "ds_l1b = ds_l1b.expand_dims(station_dim, axis=-1)\n",
    "ds_l1b[\"station\"].attrs.update(station_attrs)\n",
    "ds_l1b"
   ],
   "metadata": {
    "collapsed": false,
    "ExecuteTime": {
     "end_time": "2024-02-29T07:54:38.654261900Z",
     "start_time": "2024-02-29T07:54:38.496733300Z"
    }
   }
  },
  {
   "cell_type": "code",
   "execution_count": 26,
   "metadata": {
    "collapsed": false,
    "ExecuteTime": {
     "end_time": "2024-02-29T07:54:38.677444900Z",
     "start_time": "2024-02-29T07:54:38.601881800Z"
    }
   },
   "outputs": [],
   "source": [
    "#|hide\n",
    "# dsp = ds_l1b.sel(time=\"2019-07-15\")\n",
    "# plt.figure()\n",
    "# plt.plot(dsp.time, dsp.ghi)\n",
    "# plt.grid()"
   ]
  },
  {
   "cell_type": "markdown",
   "metadata": {
    "collapsed": false
   },
   "source": [
    "### Interpolate GPS coordinates\n",
    "\n",
    "Use ```xarray.interp``` to interpolate lat and lon to the resampled time dimension.\n",
    "```{note}\n",
    "At this point the descision to whether store geocoordinates in full time resolution or as mean over the time interval is made.\n",
    "\n",
    "This is configured in config.json -> \"average_latlon\"\n",
    "```"
   ]
  },
  {
   "cell_type": "code",
   "execution_count": 27,
   "metadata": {
    "collapsed": false,
    "ExecuteTime": {
     "end_time": "2024-02-29T07:54:38.850603100Z",
     "start_time": "2024-02-29T07:54:38.612856600Z"
    }
   },
   "outputs": [
    {
     "data": {
      "text/plain": "<xarray.Dataset>\nDimensions:               (station: 1, time: 5, maintenancetime: 1)\nCoordinates:\n  * station               (station) float64 1.0\n  * time                  (time) datetime64[ns] 2022-08-30T11:21:03 ... 2022-...\n  * maintenancetime       (maintenancetime) datetime64[ns] 2023-05-08T16:09:06\nData variables: (12/15)\n    ghi                   (time, station) float32 0.002086 0.002085 ... 0.002086\n    gti                   (time, station) float32 0.001935 0.001935 ... 0.001935\n    ta                    (time, station) float32 294.8 294.7 294.8 294.7 294.8\n    rh                    (time, station) float32 0.6263 0.6266 ... 0.6271 0.629\n    battery_voltage       (time, station) float32 6.445 6.446 6.45 6.448 6.458\n    ghi_min               (time, station) float32 0.002086 0.002075 ... 0.002086\n    ...                    ...\n    ghi_std               (time, station) float64 0.0 3.4e-06 0.0 0.0 0.0\n    gti_std               (time, station) float64 0.0 5.069e-06 ... 0.0 0.0\n    lat                   (time, station) float64 nan nan 51.39 51.39 51.39\n    lon                   (time, station) float64 nan nan 11.89 11.89 11.89\n    maintenance_flag_ghi  (maintenancetime, station) float32 9.0\n    maintenance_flag_gti  (maintenancetime, station) float32 7.0\nAttributes: (12/31)\n    Conventions:               CF-1.10, ACDD-1.3\n    title:                     TROPOS pyranometer network (PyrNet) observatio...\n    history:                   2024-02-29T07:54:36: Generated level l1a  by p...\n    institution:               Leibniz Institute for Tropospheric Research (T...\n    source:                    TROPOS pyranometer network (PyrNet)\n    references:                https://doi.org/10.5194/amt-9-1153-2016\n    ...                        ...\n    geospatial_lon_max:        11.885256666666667\n    geospatial_lon_units:      degE\n    time_coverage_start:       2022-08-30T11:21:04.065000\n    time_coverage_end:         2022-08-30T11:21:09\n    time_coverage_duration:    P0DT0H0M4.935S\n    time_coverage_resolution:  P0DT0H0M1.23375S",
      "text/html": "<div><svg style=\"position: absolute; width: 0; height: 0; overflow: hidden\">\n<defs>\n<symbol id=\"icon-database\" viewBox=\"0 0 32 32\">\n<path d=\"M16 0c-8.837 0-16 2.239-16 5v4c0 2.761 7.163 5 16 5s16-2.239 16-5v-4c0-2.761-7.163-5-16-5z\"></path>\n<path d=\"M16 17c-8.837 0-16-2.239-16-5v6c0 2.761 7.163 5 16 5s16-2.239 16-5v-6c0 2.761-7.163 5-16 5z\"></path>\n<path d=\"M16 26c-8.837 0-16-2.239-16-5v6c0 2.761 7.163 5 16 5s16-2.239 16-5v-6c0 2.761-7.163 5-16 5z\"></path>\n</symbol>\n<symbol id=\"icon-file-text2\" viewBox=\"0 0 32 32\">\n<path d=\"M28.681 7.159c-0.694-0.947-1.662-2.053-2.724-3.116s-2.169-2.030-3.116-2.724c-1.612-1.182-2.393-1.319-2.841-1.319h-15.5c-1.378 0-2.5 1.121-2.5 2.5v27c0 1.378 1.122 2.5 2.5 2.5h23c1.378 0 2.5-1.122 2.5-2.5v-19.5c0-0.448-0.137-1.23-1.319-2.841zM24.543 5.457c0.959 0.959 1.712 1.825 2.268 2.543h-4.811v-4.811c0.718 0.556 1.584 1.309 2.543 2.268zM28 29.5c0 0.271-0.229 0.5-0.5 0.5h-23c-0.271 0-0.5-0.229-0.5-0.5v-27c0-0.271 0.229-0.5 0.5-0.5 0 0 15.499-0 15.5 0v7c0 0.552 0.448 1 1 1h7v19.5z\"></path>\n<path d=\"M23 26h-14c-0.552 0-1-0.448-1-1s0.448-1 1-1h14c0.552 0 1 0.448 1 1s-0.448 1-1 1z\"></path>\n<path d=\"M23 22h-14c-0.552 0-1-0.448-1-1s0.448-1 1-1h14c0.552 0 1 0.448 1 1s-0.448 1-1 1z\"></path>\n<path d=\"M23 18h-14c-0.552 0-1-0.448-1-1s0.448-1 1-1h14c0.552 0 1 0.448 1 1s-0.448 1-1 1z\"></path>\n</symbol>\n</defs>\n</svg>\n<style>/* CSS stylesheet for displaying xarray objects in jupyterlab.\n *\n */\n\n:root {\n  --xr-font-color0: var(--jp-content-font-color0, rgba(0, 0, 0, 1));\n  --xr-font-color2: var(--jp-content-font-color2, rgba(0, 0, 0, 0.54));\n  --xr-font-color3: var(--jp-content-font-color3, rgba(0, 0, 0, 0.38));\n  --xr-border-color: var(--jp-border-color2, #e0e0e0);\n  --xr-disabled-color: var(--jp-layout-color3, #bdbdbd);\n  --xr-background-color: var(--jp-layout-color0, white);\n  --xr-background-color-row-even: var(--jp-layout-color1, white);\n  --xr-background-color-row-odd: var(--jp-layout-color2, #eeeeee);\n}\n\nhtml[theme=dark],\nbody[data-theme=dark],\nbody.vscode-dark {\n  --xr-font-color0: rgba(255, 255, 255, 1);\n  --xr-font-color2: rgba(255, 255, 255, 0.54);\n  --xr-font-color3: rgba(255, 255, 255, 0.38);\n  --xr-border-color: #1F1F1F;\n  --xr-disabled-color: #515151;\n  --xr-background-color: #111111;\n  --xr-background-color-row-even: #111111;\n  --xr-background-color-row-odd: #313131;\n}\n\n.xr-wrap {\n  display: block !important;\n  min-width: 300px;\n  max-width: 700px;\n}\n\n.xr-text-repr-fallback {\n  /* fallback to plain text repr when CSS is not injected (untrusted notebook) */\n  display: none;\n}\n\n.xr-header {\n  padding-top: 6px;\n  padding-bottom: 6px;\n  margin-bottom: 4px;\n  border-bottom: solid 1px var(--xr-border-color);\n}\n\n.xr-header > div,\n.xr-header > ul {\n  display: inline;\n  margin-top: 0;\n  margin-bottom: 0;\n}\n\n.xr-obj-type,\n.xr-array-name {\n  margin-left: 2px;\n  margin-right: 10px;\n}\n\n.xr-obj-type {\n  color: var(--xr-font-color2);\n}\n\n.xr-sections {\n  padding-left: 0 !important;\n  display: grid;\n  grid-template-columns: 150px auto auto 1fr 20px 20px;\n}\n\n.xr-section-item {\n  display: contents;\n}\n\n.xr-section-item input {\n  display: none;\n}\n\n.xr-section-item input + label {\n  color: var(--xr-disabled-color);\n}\n\n.xr-section-item input:enabled + label {\n  cursor: pointer;\n  color: var(--xr-font-color2);\n}\n\n.xr-section-item input:enabled + label:hover {\n  color: var(--xr-font-color0);\n}\n\n.xr-section-summary {\n  grid-column: 1;\n  color: var(--xr-font-color2);\n  font-weight: 500;\n}\n\n.xr-section-summary > span {\n  display: inline-block;\n  padding-left: 0.5em;\n}\n\n.xr-section-summary-in:disabled + label {\n  color: var(--xr-font-color2);\n}\n\n.xr-section-summary-in + label:before {\n  display: inline-block;\n  content: '►';\n  font-size: 11px;\n  width: 15px;\n  text-align: center;\n}\n\n.xr-section-summary-in:disabled + label:before {\n  color: var(--xr-disabled-color);\n}\n\n.xr-section-summary-in:checked + label:before {\n  content: '▼';\n}\n\n.xr-section-summary-in:checked + label > span {\n  display: none;\n}\n\n.xr-section-summary,\n.xr-section-inline-details {\n  padding-top: 4px;\n  padding-bottom: 4px;\n}\n\n.xr-section-inline-details {\n  grid-column: 2 / -1;\n}\n\n.xr-section-details {\n  display: none;\n  grid-column: 1 / -1;\n  margin-bottom: 5px;\n}\n\n.xr-section-summary-in:checked ~ .xr-section-details {\n  display: contents;\n}\n\n.xr-array-wrap {\n  grid-column: 1 / -1;\n  display: grid;\n  grid-template-columns: 20px auto;\n}\n\n.xr-array-wrap > label {\n  grid-column: 1;\n  vertical-align: top;\n}\n\n.xr-preview {\n  color: var(--xr-font-color3);\n}\n\n.xr-array-preview,\n.xr-array-data {\n  padding: 0 5px !important;\n  grid-column: 2;\n}\n\n.xr-array-data,\n.xr-array-in:checked ~ .xr-array-preview {\n  display: none;\n}\n\n.xr-array-in:checked ~ .xr-array-data,\n.xr-array-preview {\n  display: inline-block;\n}\n\n.xr-dim-list {\n  display: inline-block !important;\n  list-style: none;\n  padding: 0 !important;\n  margin: 0;\n}\n\n.xr-dim-list li {\n  display: inline-block;\n  padding: 0;\n  margin: 0;\n}\n\n.xr-dim-list:before {\n  content: '(';\n}\n\n.xr-dim-list:after {\n  content: ')';\n}\n\n.xr-dim-list li:not(:last-child):after {\n  content: ',';\n  padding-right: 5px;\n}\n\n.xr-has-index {\n  font-weight: bold;\n}\n\n.xr-var-list,\n.xr-var-item {\n  display: contents;\n}\n\n.xr-var-item > div,\n.xr-var-item label,\n.xr-var-item > .xr-var-name span {\n  background-color: var(--xr-background-color-row-even);\n  margin-bottom: 0;\n}\n\n.xr-var-item > .xr-var-name:hover span {\n  padding-right: 5px;\n}\n\n.xr-var-list > li:nth-child(odd) > div,\n.xr-var-list > li:nth-child(odd) > label,\n.xr-var-list > li:nth-child(odd) > .xr-var-name span {\n  background-color: var(--xr-background-color-row-odd);\n}\n\n.xr-var-name {\n  grid-column: 1;\n}\n\n.xr-var-dims {\n  grid-column: 2;\n}\n\n.xr-var-dtype {\n  grid-column: 3;\n  text-align: right;\n  color: var(--xr-font-color2);\n}\n\n.xr-var-preview {\n  grid-column: 4;\n}\n\n.xr-index-preview {\n  grid-column: 2 / 5;\n  color: var(--xr-font-color2);\n}\n\n.xr-var-name,\n.xr-var-dims,\n.xr-var-dtype,\n.xr-preview,\n.xr-attrs dt {\n  white-space: nowrap;\n  overflow: hidden;\n  text-overflow: ellipsis;\n  padding-right: 10px;\n}\n\n.xr-var-name:hover,\n.xr-var-dims:hover,\n.xr-var-dtype:hover,\n.xr-attrs dt:hover {\n  overflow: visible;\n  width: auto;\n  z-index: 1;\n}\n\n.xr-var-attrs,\n.xr-var-data,\n.xr-index-data {\n  display: none;\n  background-color: var(--xr-background-color) !important;\n  padding-bottom: 5px !important;\n}\n\n.xr-var-attrs-in:checked ~ .xr-var-attrs,\n.xr-var-data-in:checked ~ .xr-var-data,\n.xr-index-data-in:checked ~ .xr-index-data {\n  display: block;\n}\n\n.xr-var-data > table {\n  float: right;\n}\n\n.xr-var-name span,\n.xr-var-data,\n.xr-index-name div,\n.xr-index-data,\n.xr-attrs {\n  padding-left: 25px !important;\n}\n\n.xr-attrs,\n.xr-var-attrs,\n.xr-var-data,\n.xr-index-data {\n  grid-column: 1 / -1;\n}\n\ndl.xr-attrs {\n  padding: 0;\n  margin: 0;\n  display: grid;\n  grid-template-columns: 125px auto;\n}\n\n.xr-attrs dt,\n.xr-attrs dd {\n  padding: 0;\n  margin: 0;\n  float: left;\n  padding-right: 10px;\n  width: auto;\n}\n\n.xr-attrs dt {\n  font-weight: normal;\n  grid-column: 1;\n}\n\n.xr-attrs dt:hover span {\n  display: inline-block;\n  background: var(--xr-background-color);\n  padding-right: 10px;\n}\n\n.xr-attrs dd {\n  grid-column: 2;\n  white-space: pre-wrap;\n  word-break: break-all;\n}\n\n.xr-icon-database,\n.xr-icon-file-text2,\n.xr-no-icon {\n  display: inline-block;\n  vertical-align: middle;\n  width: 1em;\n  height: 1.5em !important;\n  stroke-width: 0;\n  stroke: currentColor;\n  fill: currentColor;\n}\n</style><pre class='xr-text-repr-fallback'>&lt;xarray.Dataset&gt;\nDimensions:               (station: 1, time: 5, maintenancetime: 1)\nCoordinates:\n  * station               (station) float64 1.0\n  * time                  (time) datetime64[ns] 2022-08-30T11:21:03 ... 2022-...\n  * maintenancetime       (maintenancetime) datetime64[ns] 2023-05-08T16:09:06\nData variables: (12/15)\n    ghi                   (time, station) float32 0.002086 0.002085 ... 0.002086\n    gti                   (time, station) float32 0.001935 0.001935 ... 0.001935\n    ta                    (time, station) float32 294.8 294.7 294.8 294.7 294.8\n    rh                    (time, station) float32 0.6263 0.6266 ... 0.6271 0.629\n    battery_voltage       (time, station) float32 6.445 6.446 6.45 6.448 6.458\n    ghi_min               (time, station) float32 0.002086 0.002075 ... 0.002086\n    ...                    ...\n    ghi_std               (time, station) float64 0.0 3.4e-06 0.0 0.0 0.0\n    gti_std               (time, station) float64 0.0 5.069e-06 ... 0.0 0.0\n    lat                   (time, station) float64 nan nan 51.39 51.39 51.39\n    lon                   (time, station) float64 nan nan 11.89 11.89 11.89\n    maintenance_flag_ghi  (maintenancetime, station) float32 9.0\n    maintenance_flag_gti  (maintenancetime, station) float32 7.0\nAttributes: (12/31)\n    Conventions:               CF-1.10, ACDD-1.3\n    title:                     TROPOS pyranometer network (PyrNet) observatio...\n    history:                   2024-02-29T07:54:36: Generated level l1a  by p...\n    institution:               Leibniz Institute for Tropospheric Research (T...\n    source:                    TROPOS pyranometer network (PyrNet)\n    references:                https://doi.org/10.5194/amt-9-1153-2016\n    ...                        ...\n    geospatial_lon_max:        11.885256666666667\n    geospatial_lon_units:      degE\n    time_coverage_start:       2022-08-30T11:21:04.065000\n    time_coverage_end:         2022-08-30T11:21:09\n    time_coverage_duration:    P0DT0H0M4.935S\n    time_coverage_resolution:  P0DT0H0M1.23375S</pre><div class='xr-wrap' style='display:none'><div class='xr-header'><div class='xr-obj-type'>xarray.Dataset</div></div><ul class='xr-sections'><li class='xr-section-item'><input id='section-7e335a99-7c19-4dd9-b874-5fc794d9800f' class='xr-section-summary-in' type='checkbox' disabled ><label for='section-7e335a99-7c19-4dd9-b874-5fc794d9800f' class='xr-section-summary'  title='Expand/collapse section'>Dimensions:</label><div class='xr-section-inline-details'><ul class='xr-dim-list'><li><span class='xr-has-index'>station</span>: 1</li><li><span class='xr-has-index'>time</span>: 5</li><li><span class='xr-has-index'>maintenancetime</span>: 1</li></ul></div><div class='xr-section-details'></div></li><li class='xr-section-item'><input id='section-1007678e-5d59-4768-8a15-76e18cb33128' class='xr-section-summary-in' type='checkbox'  checked><label for='section-1007678e-5d59-4768-8a15-76e18cb33128' class='xr-section-summary' >Coordinates: <span>(3)</span></label><div class='xr-section-inline-details'></div><div class='xr-section-details'><ul class='xr-var-list'><li class='xr-var-item'><div class='xr-var-name'><span class='xr-has-index'>station</span></div><div class='xr-var-dims'>(station)</div><div class='xr-var-dtype'>float64</div><div class='xr-var-preview xr-preview'>1.0</div><input id='attrs-5552ab1c-92b0-4cb5-8459-749e87f827cd' class='xr-var-attrs-in' type='checkbox' ><label for='attrs-5552ab1c-92b0-4cb5-8459-749e87f827cd' title='Show/Hide attributes'><svg class='icon xr-icon-file-text2'><use xlink:href='#icon-file-text2'></use></svg></label><input id='data-6098e072-1017-43dc-8a0f-3bed113f91b1' class='xr-var-data-in' type='checkbox'><label for='data-6098e072-1017-43dc-8a0f-3bed113f91b1' title='Show/Hide data repr'><svg class='icon xr-icon-database'><use xlink:href='#icon-database'></use></svg></label><div class='xr-var-attrs'><dl class='xr-attrs'><dt><span>units :</span></dt><dd>-</dd><dt><span>long_name :</span></dt><dd>PyrNet unit box number</dd></dl></div><div class='xr-var-data'><pre>array([1.])</pre></div></li><li class='xr-var-item'><div class='xr-var-name'><span class='xr-has-index'>time</span></div><div class='xr-var-dims'>(time)</div><div class='xr-var-dtype'>datetime64[ns]</div><div class='xr-var-preview xr-preview'>2022-08-30T11:21:03 ... 2022-08-...</div><input id='attrs-a6d2c8fb-9af0-42b6-9bd0-4cabd7ba3c5c' class='xr-var-attrs-in' type='checkbox' disabled><label for='attrs-a6d2c8fb-9af0-42b6-9bd0-4cabd7ba3c5c' title='Show/Hide attributes'><svg class='icon xr-icon-file-text2'><use xlink:href='#icon-file-text2'></use></svg></label><input id='data-b2d8a8f7-7fa2-43b8-8b02-29d8025d0eaa' class='xr-var-data-in' type='checkbox'><label for='data-b2d8a8f7-7fa2-43b8-8b02-29d8025d0eaa' title='Show/Hide data repr'><svg class='icon xr-icon-database'><use xlink:href='#icon-database'></use></svg></label><div class='xr-var-attrs'><dl class='xr-attrs'></dl></div><div class='xr-var-data'><pre>array([&#x27;2022-08-30T11:21:03.000000000&#x27;, &#x27;2022-08-30T11:21:04.000000000&#x27;,\n       &#x27;2022-08-30T11:21:05.000000000&#x27;, &#x27;2022-08-30T11:21:06.000000000&#x27;,\n       &#x27;2022-08-30T11:21:07.000000000&#x27;], dtype=&#x27;datetime64[ns]&#x27;)</pre></div></li><li class='xr-var-item'><div class='xr-var-name'><span class='xr-has-index'>maintenancetime</span></div><div class='xr-var-dims'>(maintenancetime)</div><div class='xr-var-dtype'>datetime64[ns]</div><div class='xr-var-preview xr-preview'>2023-05-08T16:09:06</div><input id='attrs-282e0be0-6e47-4a51-a4e5-ffc7cd7c4ba4' class='xr-var-attrs-in' type='checkbox' disabled><label for='attrs-282e0be0-6e47-4a51-a4e5-ffc7cd7c4ba4' title='Show/Hide attributes'><svg class='icon xr-icon-file-text2'><use xlink:href='#icon-file-text2'></use></svg></label><input id='data-8cb44747-9c3c-4a58-a8c0-0e8bea4e9474' class='xr-var-data-in' type='checkbox'><label for='data-8cb44747-9c3c-4a58-a8c0-0e8bea4e9474' title='Show/Hide data repr'><svg class='icon xr-icon-database'><use xlink:href='#icon-database'></use></svg></label><div class='xr-var-attrs'><dl class='xr-attrs'></dl></div><div class='xr-var-data'><pre>array([&#x27;2023-05-08T16:09:06.000000000&#x27;], dtype=&#x27;datetime64[ns]&#x27;)</pre></div></li></ul></div></li><li class='xr-section-item'><input id='section-5533a084-1b4e-4c84-8203-eb81f7d647b6' class='xr-section-summary-in' type='checkbox'  ><label for='section-5533a084-1b4e-4c84-8203-eb81f7d647b6' class='xr-section-summary' >Data variables: <span>(15)</span></label><div class='xr-section-inline-details'></div><div class='xr-section-details'><ul class='xr-var-list'><li class='xr-var-item'><div class='xr-var-name'><span>ghi</span></div><div class='xr-var-dims'>(time, station)</div><div class='xr-var-dtype'>float32</div><div class='xr-var-preview xr-preview'>0.002086 0.002085 ... 0.002086</div><input id='attrs-ce883b9a-0f14-4bbd-9fb0-03dde4233402' class='xr-var-attrs-in' type='checkbox' ><label for='attrs-ce883b9a-0f14-4bbd-9fb0-03dde4233402' title='Show/Hide attributes'><svg class='icon xr-icon-file-text2'><use xlink:href='#icon-file-text2'></use></svg></label><input id='data-6228e7fe-010d-4b60-8100-44e15442dc25' class='xr-var-data-in' type='checkbox'><label for='data-6228e7fe-010d-4b60-8100-44e15442dc25' title='Show/Hide data repr'><svg class='icon xr-icon-database'><use xlink:href='#icon-database'></use></svg></label><div class='xr-var-attrs'><dl class='xr-attrs'><dt><span>units :</span></dt><dd>V</dd><dt><span>long_name :</span></dt><dd>downwelling shortwave flux</dd><dt><span>standard_name :</span></dt><dd>downwelling_shortwave_flux_in_air</dd><dt><span>valid_range :</span></dt><dd>[   0 1023]</dd></dl></div><div class='xr-var-data'><pre>array([[0.00208602],\n       [0.00208495],\n       [0.00208602],\n       [0.00208602],\n       [0.00208602]], dtype=float32)</pre></div></li><li class='xr-var-item'><div class='xr-var-name'><span>gti</span></div><div class='xr-var-dims'>(time, station)</div><div class='xr-var-dtype'>float32</div><div class='xr-var-preview xr-preview'>0.001935 0.001935 ... 0.001935</div><input id='attrs-499851ac-72ab-4747-baac-856dffe9af8d' class='xr-var-attrs-in' type='checkbox' ><label for='attrs-499851ac-72ab-4747-baac-856dffe9af8d' title='Show/Hide attributes'><svg class='icon xr-icon-file-text2'><use xlink:href='#icon-file-text2'></use></svg></label><input id='data-a993538e-4974-47f7-bf24-06f77541b4a5' class='xr-var-data-in' type='checkbox'><label for='data-a993538e-4974-47f7-bf24-06f77541b4a5' title='Show/Hide data repr'><svg class='icon xr-icon-database'><use xlink:href='#icon-database'></use></svg></label><div class='xr-var-attrs'><dl class='xr-attrs'><dt><span>units :</span></dt><dd>V</dd><dt><span>long_name :</span></dt><dd>downwelling shortwave flux measured on secondary platform, might be tilted</dd><dt><span>standard_name :</span></dt><dd>downwelling_shortwave_flux_in_air</dd><dt><span>valid_range :</span></dt><dd>[   0 1023]</dd><dt><span>hangle :</span></dt><dd>0.0</dd><dt><span>vangle :</span></dt><dd>0.0</dd></dl></div><div class='xr-var-data'><pre>array([[0.00193548],\n       [0.00193548],\n       [0.00193656],\n       [0.00193548],\n       [0.00193548]], dtype=float32)</pre></div></li><li class='xr-var-item'><div class='xr-var-name'><span>ta</span></div><div class='xr-var-dims'>(time, station)</div><div class='xr-var-dtype'>float32</div><div class='xr-var-preview xr-preview'>294.8 294.7 294.8 294.7 294.8</div><input id='attrs-7a11b226-1358-40e9-9789-847aa353d2db' class='xr-var-attrs-in' type='checkbox' ><label for='attrs-7a11b226-1358-40e9-9789-847aa353d2db' title='Show/Hide attributes'><svg class='icon xr-icon-file-text2'><use xlink:href='#icon-file-text2'></use></svg></label><input id='data-c9b06023-3885-4cf4-9dc4-a36fe522761b' class='xr-var-data-in' type='checkbox'><label for='data-c9b06023-3885-4cf4-9dc4-a36fe522761b' title='Show/Hide data repr'><svg class='icon xr-icon-database'><use xlink:href='#icon-database'></use></svg></label><div class='xr-var-attrs'><dl class='xr-attrs'><dt><span>units :</span></dt><dd>K</dd><dt><span>long_name :</span></dt><dd>air temperature</dd><dt><span>standard_name :</span></dt><dd>air_temperature</dd><dt><span>valid_range :</span></dt><dd>[  0 775]</dd></dl></div><div class='xr-var-data'><pre>array([[294.7758 ],\n       [294.74997],\n       [294.7887 ],\n       [294.74997],\n       [294.82742]], dtype=float32)</pre></div></li><li class='xr-var-item'><div class='xr-var-name'><span>rh</span></div><div class='xr-var-dims'>(time, station)</div><div class='xr-var-dtype'>float32</div><div class='xr-var-preview xr-preview'>0.6263 0.6266 0.6271 0.6271 0.629</div><input id='attrs-fbede144-9e78-4313-b830-70baec3a7723' class='xr-var-attrs-in' type='checkbox' ><label for='attrs-fbede144-9e78-4313-b830-70baec3a7723' title='Show/Hide attributes'><svg class='icon xr-icon-file-text2'><use xlink:href='#icon-file-text2'></use></svg></label><input id='data-deb720d7-37e4-4770-9b0a-ad9fb0776fb1' class='xr-var-data-in' type='checkbox'><label for='data-deb720d7-37e4-4770-9b0a-ad9fb0776fb1' title='Show/Hide data repr'><svg class='icon xr-icon-database'><use xlink:href='#icon-database'></use></svg></label><div class='xr-var-attrs'><dl class='xr-attrs'><dt><span>units :</span></dt><dd>1</dd><dt><span>long_name :</span></dt><dd>air relative humidity</dd><dt><span>standard_name :</span></dt><dd>relative_humidity</dd><dt><span>valid_range :</span></dt><dd>[  0 775]</dd></dl></div><div class='xr-var-data'><pre>array([[0.62632257],\n       [0.6265806 ],\n       [0.6270968 ],\n       [0.6270968 ],\n       [0.62903225]], dtype=float32)</pre></div></li><li class='xr-var-item'><div class='xr-var-name'><span>battery_voltage</span></div><div class='xr-var-dims'>(time, station)</div><div class='xr-var-dtype'>float32</div><div class='xr-var-preview xr-preview'>6.445 6.446 6.45 6.448 6.458</div><input id='attrs-3f30085a-68c7-42ee-851c-cfa07b36a09e' class='xr-var-attrs-in' type='checkbox' ><label for='attrs-3f30085a-68c7-42ee-851c-cfa07b36a09e' title='Show/Hide attributes'><svg class='icon xr-icon-file-text2'><use xlink:href='#icon-file-text2'></use></svg></label><input id='data-2df7cc7e-a3eb-4aea-8b5a-4059b2390a41' class='xr-var-data-in' type='checkbox'><label for='data-2df7cc7e-a3eb-4aea-8b5a-4059b2390a41' title='Show/Hide data repr'><svg class='icon xr-icon-database'><use xlink:href='#icon-database'></use></svg></label><div class='xr-var-attrs'><dl class='xr-attrs'><dt><span>units :</span></dt><dd>V</dd><dt><span>standard_name :</span></dt><dd>battery_voltage</dd><dt><span>valid_range :</span></dt><dd>[  0 992]</dd></dl></div><div class='xr-var-data'><pre>array([[6.4451613],\n       [6.445807 ],\n       [6.4496775],\n       [6.4477415],\n       [6.4580646]], dtype=float32)</pre></div></li><li class='xr-var-item'><div class='xr-var-name'><span>ghi_min</span></div><div class='xr-var-dims'>(time, station)</div><div class='xr-var-dtype'>float32</div><div class='xr-var-preview xr-preview'>0.002086 0.002075 ... 0.002086</div><input id='attrs-6961840e-caf1-4d5e-995c-438d6fe14b8c' class='xr-var-attrs-in' type='checkbox' ><label for='attrs-6961840e-caf1-4d5e-995c-438d6fe14b8c' title='Show/Hide attributes'><svg class='icon xr-icon-file-text2'><use xlink:href='#icon-file-text2'></use></svg></label><input id='data-31d6bc81-89b5-4876-aca1-c2ca07de2ebc' class='xr-var-data-in' type='checkbox'><label for='data-31d6bc81-89b5-4876-aca1-c2ca07de2ebc' title='Show/Hide data repr'><svg class='icon xr-icon-database'><use xlink:href='#icon-database'></use></svg></label><div class='xr-var-attrs'><dl class='xr-attrs'><dt><span>units :</span></dt><dd>V</dd><dt><span>long_name :</span></dt><dd>downwelling shortwave flux</dd><dt><span>standard_name :</span></dt><dd>min_downwelling_shortwave_flux_in_air</dd><dt><span>valid_range :</span></dt><dd>[   0 1023]</dd></dl></div><div class='xr-var-data'><pre>array([[0.00208602],\n       [0.00207527],\n       [0.00208602],\n       [0.00208602],\n       [0.00208602]], dtype=float32)</pre></div></li><li class='xr-var-item'><div class='xr-var-name'><span>gti_min</span></div><div class='xr-var-dims'>(time, station)</div><div class='xr-var-dtype'>float32</div><div class='xr-var-preview xr-preview'>0.001935 0.001925 ... 0.001935</div><input id='attrs-628e458e-78d8-4ec3-8d08-cbabc064e7f3' class='xr-var-attrs-in' type='checkbox' ><label for='attrs-628e458e-78d8-4ec3-8d08-cbabc064e7f3' title='Show/Hide attributes'><svg class='icon xr-icon-file-text2'><use xlink:href='#icon-file-text2'></use></svg></label><input id='data-d4504011-8e4d-4eb8-8d55-1800ce503bbb' class='xr-var-data-in' type='checkbox'><label for='data-d4504011-8e4d-4eb8-8d55-1800ce503bbb' title='Show/Hide data repr'><svg class='icon xr-icon-database'><use xlink:href='#icon-database'></use></svg></label><div class='xr-var-attrs'><dl class='xr-attrs'><dt><span>units :</span></dt><dd>V</dd><dt><span>long_name :</span></dt><dd>downwelling shortwave flux measured on secondary platform, might be tilted</dd><dt><span>standard_name :</span></dt><dd>min_downwelling_shortwave_flux_in_air</dd><dt><span>valid_range :</span></dt><dd>[   0 1023]</dd><dt><span>hangle :</span></dt><dd>0.0</dd><dt><span>vangle :</span></dt><dd>0.0</dd></dl></div><div class='xr-var-data'><pre>array([[0.00193548],\n       [0.00192473],\n       [0.00192473],\n       [0.00193548],\n       [0.00193548]], dtype=float32)</pre></div></li><li class='xr-var-item'><div class='xr-var-name'><span>ghi_max</span></div><div class='xr-var-dims'>(time, station)</div><div class='xr-var-dtype'>float32</div><div class='xr-var-preview xr-preview'>0.002086 0.002086 ... 0.002086</div><input id='attrs-51a3bbbf-9188-47d1-befd-e94857e9cc2f' class='xr-var-attrs-in' type='checkbox' ><label for='attrs-51a3bbbf-9188-47d1-befd-e94857e9cc2f' title='Show/Hide attributes'><svg class='icon xr-icon-file-text2'><use xlink:href='#icon-file-text2'></use></svg></label><input id='data-75c212f9-e808-49e8-b767-fe8ac433a455' class='xr-var-data-in' type='checkbox'><label for='data-75c212f9-e808-49e8-b767-fe8ac433a455' title='Show/Hide data repr'><svg class='icon xr-icon-database'><use xlink:href='#icon-database'></use></svg></label><div class='xr-var-attrs'><dl class='xr-attrs'><dt><span>units :</span></dt><dd>V</dd><dt><span>long_name :</span></dt><dd>downwelling shortwave flux</dd><dt><span>standard_name :</span></dt><dd>max_downwelling_shortwave_flux_in_air</dd><dt><span>valid_range :</span></dt><dd>[   0 1023]</dd></dl></div><div class='xr-var-data'><pre>array([[0.00208602],\n       [0.00208602],\n       [0.00208602],\n       [0.00208602],\n       [0.00208602]], dtype=float32)</pre></div></li><li class='xr-var-item'><div class='xr-var-name'><span>gti_max</span></div><div class='xr-var-dims'>(time, station)</div><div class='xr-var-dtype'>float32</div><div class='xr-var-preview xr-preview'>0.001935 0.001946 ... 0.001935</div><input id='attrs-99f4765b-4dde-44e7-813b-dfe59d89d72b' class='xr-var-attrs-in' type='checkbox' ><label for='attrs-99f4765b-4dde-44e7-813b-dfe59d89d72b' title='Show/Hide attributes'><svg class='icon xr-icon-file-text2'><use xlink:href='#icon-file-text2'></use></svg></label><input id='data-5c1d7e49-ae76-4977-a58f-46b998cb0b96' class='xr-var-data-in' type='checkbox'><label for='data-5c1d7e49-ae76-4977-a58f-46b998cb0b96' title='Show/Hide data repr'><svg class='icon xr-icon-database'><use xlink:href='#icon-database'></use></svg></label><div class='xr-var-attrs'><dl class='xr-attrs'><dt><span>units :</span></dt><dd>V</dd><dt><span>long_name :</span></dt><dd>downwelling shortwave flux measured on secondary platform, might be tilted</dd><dt><span>standard_name :</span></dt><dd>max_downwelling_shortwave_flux_in_air</dd><dt><span>valid_range :</span></dt><dd>[   0 1023]</dd><dt><span>hangle :</span></dt><dd>0.0</dd><dt><span>vangle :</span></dt><dd>0.0</dd></dl></div><div class='xr-var-data'><pre>array([[0.00193548],\n       [0.00194624],\n       [0.00194624],\n       [0.00193548],\n       [0.00193548]], dtype=float32)</pre></div></li><li class='xr-var-item'><div class='xr-var-name'><span>ghi_std</span></div><div class='xr-var-dims'>(time, station)</div><div class='xr-var-dtype'>float64</div><div class='xr-var-preview xr-preview'>0.0 3.4e-06 0.0 0.0 0.0</div><input id='attrs-a1e76410-32af-4383-8a52-24ef05e29445' class='xr-var-attrs-in' type='checkbox' ><label for='attrs-a1e76410-32af-4383-8a52-24ef05e29445' title='Show/Hide attributes'><svg class='icon xr-icon-file-text2'><use xlink:href='#icon-file-text2'></use></svg></label><input id='data-98ab4ba8-6423-4732-8107-34fcc7101f88' class='xr-var-data-in' type='checkbox'><label for='data-98ab4ba8-6423-4732-8107-34fcc7101f88' title='Show/Hide data repr'><svg class='icon xr-icon-database'><use xlink:href='#icon-database'></use></svg></label><div class='xr-var-attrs'><dl class='xr-attrs'><dt><span>units :</span></dt><dd>V</dd><dt><span>long_name :</span></dt><dd>downwelling shortwave flux</dd><dt><span>standard_name :</span></dt><dd>std_downwelling_shortwave_flux_in_air</dd><dt><span>valid_range :</span></dt><dd>[   0 1023]</dd></dl></div><div class='xr-var-data'><pre>array([[0.00000000e+00],\n       [3.40026587e-06],\n       [0.00000000e+00],\n       [0.00000000e+00],\n       [0.00000000e+00]])</pre></div></li><li class='xr-var-item'><div class='xr-var-name'><span>gti_std</span></div><div class='xr-var-dims'>(time, station)</div><div class='xr-var-dtype'>float64</div><div class='xr-var-preview xr-preview'>0.0 5.069e-06 6.104e-06 0.0 0.0</div><input id='attrs-f46cfed7-a08b-4163-97c2-92331a8dd96b' class='xr-var-attrs-in' type='checkbox' ><label for='attrs-f46cfed7-a08b-4163-97c2-92331a8dd96b' title='Show/Hide attributes'><svg class='icon xr-icon-file-text2'><use xlink:href='#icon-file-text2'></use></svg></label><input id='data-73ef1652-99ec-41ee-8d2d-11498a4ef462' class='xr-var-data-in' type='checkbox'><label for='data-73ef1652-99ec-41ee-8d2d-11498a4ef462' title='Show/Hide data repr'><svg class='icon xr-icon-database'><use xlink:href='#icon-database'></use></svg></label><div class='xr-var-attrs'><dl class='xr-attrs'><dt><span>units :</span></dt><dd>V</dd><dt><span>long_name :</span></dt><dd>downwelling shortwave flux measured on secondary platform, might be tilted</dd><dt><span>standard_name :</span></dt><dd>std_downwelling_shortwave_flux_in_air</dd><dt><span>valid_range :</span></dt><dd>[   0 1023]</dd><dt><span>hangle :</span></dt><dd>0.0</dd><dt><span>vangle :</span></dt><dd>0.0</dd></dl></div><div class='xr-var-data'><pre>array([[0.00000000e+00],\n       [5.06887196e-06],\n       [6.10373011e-06],\n       [0.00000000e+00],\n       [0.00000000e+00]])</pre></div></li><li class='xr-var-item'><div class='xr-var-name'><span>lat</span></div><div class='xr-var-dims'>(time, station)</div><div class='xr-var-dtype'>float64</div><div class='xr-var-preview xr-preview'>nan nan 51.39 51.39 51.39</div><input id='attrs-22a49f10-1384-49e4-9a9a-d38ad63edce5' class='xr-var-attrs-in' type='checkbox' ><label for='attrs-22a49f10-1384-49e4-9a9a-d38ad63edce5' title='Show/Hide attributes'><svg class='icon xr-icon-file-text2'><use xlink:href='#icon-file-text2'></use></svg></label><input id='data-b35406b2-3028-4a5a-8430-70024e386806' class='xr-var-data-in' type='checkbox'><label for='data-b35406b2-3028-4a5a-8430-70024e386806' title='Show/Hide data repr'><svg class='icon xr-icon-database'><use xlink:href='#icon-database'></use></svg></label><div class='xr-var-attrs'><dl class='xr-attrs'><dt><span>standard_name :</span></dt><dd>latitude</dd><dt><span>units :</span></dt><dd>degree_north</dd><dt><span>valid_range :</span></dt><dd>[-90.  90.]</dd></dl></div><div class='xr-var-data'><pre>array([[        nan],\n       [        nan],\n       [51.39021167],\n       [51.39021086],\n       [51.39021   ]])</pre></div></li><li class='xr-var-item'><div class='xr-var-name'><span>lon</span></div><div class='xr-var-dims'>(time, station)</div><div class='xr-var-dtype'>float64</div><div class='xr-var-preview xr-preview'>nan nan 11.89 11.89 11.89</div><input id='attrs-a7c740e9-45c6-458e-833d-f22bce848861' class='xr-var-attrs-in' type='checkbox' ><label for='attrs-a7c740e9-45c6-458e-833d-f22bce848861' title='Show/Hide attributes'><svg class='icon xr-icon-file-text2'><use xlink:href='#icon-file-text2'></use></svg></label><input id='data-a3fea9be-8c0c-4983-834b-05491f89f42b' class='xr-var-data-in' type='checkbox'><label for='data-a3fea9be-8c0c-4983-834b-05491f89f42b' title='Show/Hide data repr'><svg class='icon xr-icon-database'><use xlink:href='#icon-database'></use></svg></label><div class='xr-var-attrs'><dl class='xr-attrs'><dt><span>standard_name :</span></dt><dd>longitude</dd><dt><span>units :</span></dt><dd>degree_east</dd><dt><span>valid_range :</span></dt><dd>[-180.  180.]</dd></dl></div><div class='xr-var-data'><pre>array([[        nan],\n       [        nan],\n       [11.88525656],\n       [11.88525425],\n       [11.88525167]])</pre></div></li><li class='xr-var-item'><div class='xr-var-name'><span>maintenance_flag_ghi</span></div><div class='xr-var-dims'>(maintenancetime, station)</div><div class='xr-var-dtype'>float32</div><div class='xr-var-preview xr-preview'>9.0</div><input id='attrs-5f1adbf5-28d3-4b7a-bdaf-648dfb38923f' class='xr-var-attrs-in' type='checkbox' ><label for='attrs-5f1adbf5-28d3-4b7a-bdaf-648dfb38923f' title='Show/Hide attributes'><svg class='icon xr-icon-file-text2'><use xlink:href='#icon-file-text2'></use></svg></label><input id='data-630e7707-e06a-4617-b9a7-5daec5b9e377' class='xr-var-data-in' type='checkbox'><label for='data-630e7707-e06a-4617-b9a7-5daec5b9e377' title='Show/Hide data repr'><svg class='icon xr-icon-database'><use xlink:href='#icon-database'></use></svg></label><div class='xr-var-attrs'><dl class='xr-attrs'><dt><span>note_general :</span></dt><dd>222</dd><dt><span>note_clean :</span></dt><dd>testing notes</dd><dt><span>note_level :</span></dt><dd>test</dd><dt><span>valid_range :</span></dt><dd>[ 0 11]</dd></dl></div><div class='xr-var-data'><pre>array([[9.]], dtype=float32)</pre></div></li><li class='xr-var-item'><div class='xr-var-name'><span>maintenance_flag_gti</span></div><div class='xr-var-dims'>(maintenancetime, station)</div><div class='xr-var-dtype'>float32</div><div class='xr-var-preview xr-preview'>7.0</div><input id='attrs-23f7a7e5-5271-4bd0-8ab4-4efe427d33a2' class='xr-var-attrs-in' type='checkbox' ><label for='attrs-23f7a7e5-5271-4bd0-8ab4-4efe427d33a2' title='Show/Hide attributes'><svg class='icon xr-icon-file-text2'><use xlink:href='#icon-file-text2'></use></svg></label><input id='data-fa0f7852-0d47-4d5b-a5af-dc6111fa7393' class='xr-var-data-in' type='checkbox'><label for='data-fa0f7852-0d47-4d5b-a5af-dc6111fa7393' title='Show/Hide data repr'><svg class='icon xr-icon-database'><use xlink:href='#icon-database'></use></svg></label><div class='xr-var-attrs'><dl class='xr-attrs'><dt><span>note_general :</span></dt><dd>222</dd><dt><span>note_clean :</span></dt><dd></dd><dt><span>note_level :</span></dt><dd></dd><dt><span>valid_range :</span></dt><dd>[ 0 11]</dd></dl></div><div class='xr-var-data'><pre>array([[7.]], dtype=float32)</pre></div></li></ul></div></li><li class='xr-section-item'><input id='section-2abdfdb6-3c32-46f1-94d1-cecc95ad7e29' class='xr-section-summary-in' type='checkbox'  ><label for='section-2abdfdb6-3c32-46f1-94d1-cecc95ad7e29' class='xr-section-summary' >Indexes: <span>(3)</span></label><div class='xr-section-inline-details'></div><div class='xr-section-details'><ul class='xr-var-list'><li class='xr-var-item'><div class='xr-index-name'><div>station</div></div><div class='xr-index-preview'>PandasIndex</div><div></div><input id='index-f0ba7d4d-fdc5-4e16-8466-3ecadda49eba' class='xr-index-data-in' type='checkbox'/><label for='index-f0ba7d4d-fdc5-4e16-8466-3ecadda49eba' title='Show/Hide index repr'><svg class='icon xr-icon-database'><use xlink:href='#icon-database'></use></svg></label><div class='xr-index-data'><pre>PandasIndex(Float64Index([1.0], dtype=&#x27;float64&#x27;, name=&#x27;station&#x27;))</pre></div></li><li class='xr-var-item'><div class='xr-index-name'><div>time</div></div><div class='xr-index-preview'>PandasIndex</div><div></div><input id='index-04be7148-9ba3-47cc-a83a-b9a16aba87f8' class='xr-index-data-in' type='checkbox'/><label for='index-04be7148-9ba3-47cc-a83a-b9a16aba87f8' title='Show/Hide index repr'><svg class='icon xr-icon-database'><use xlink:href='#icon-database'></use></svg></label><div class='xr-index-data'><pre>PandasIndex(DatetimeIndex([&#x27;2022-08-30 11:21:03&#x27;, &#x27;2022-08-30 11:21:04&#x27;,\n               &#x27;2022-08-30 11:21:05&#x27;, &#x27;2022-08-30 11:21:06&#x27;,\n               &#x27;2022-08-30 11:21:07&#x27;],\n              dtype=&#x27;datetime64[ns]&#x27;, name=&#x27;time&#x27;, freq=&#x27;S&#x27;))</pre></div></li><li class='xr-var-item'><div class='xr-index-name'><div>maintenancetime</div></div><div class='xr-index-preview'>PandasIndex</div><div></div><input id='index-1d7ca54e-13c8-40ec-8ead-6d2d349f5c48' class='xr-index-data-in' type='checkbox'/><label for='index-1d7ca54e-13c8-40ec-8ead-6d2d349f5c48' title='Show/Hide index repr'><svg class='icon xr-icon-database'><use xlink:href='#icon-database'></use></svg></label><div class='xr-index-data'><pre>PandasIndex(DatetimeIndex([&#x27;2023-05-08 16:09:06&#x27;], dtype=&#x27;datetime64[ns]&#x27;, name=&#x27;maintenancetime&#x27;, freq=None))</pre></div></li></ul></div></li><li class='xr-section-item'><input id='section-ed8fbee4-cbe3-42f4-b81f-335857c8ee45' class='xr-section-summary-in' type='checkbox'  ><label for='section-ed8fbee4-cbe3-42f4-b81f-335857c8ee45' class='xr-section-summary' >Attributes: <span>(31)</span></label><div class='xr-section-inline-details'></div><div class='xr-section-details'><dl class='xr-attrs'><dt><span>Conventions :</span></dt><dd>CF-1.10, ACDD-1.3</dd><dt><span>title :</span></dt><dd>TROPOS pyranometer network (PyrNet) observational data set</dd><dt><span>history :</span></dt><dd>2024-02-29T07:54:36: Generated level l1a  by pyrnet version 0.2.4+0.gbfcb0c5.dirty; </dd><dt><span>institution :</span></dt><dd>Leibniz Institute for Tropospheric Research (TROPOS)</dd><dt><span>source :</span></dt><dd>TROPOS pyranometer network (PyrNet)</dd><dt><span>references :</span></dt><dd>https://doi.org/10.5194/amt-9-1153-2016</dd><dt><span>Department :</span></dt><dd>Remote Sensing of Atmospheric Processes</dd><dt><span>Department_team :</span></dt><dd>Clouds, Aerosol and Radiation</dd><dt><span>Address :</span></dt><dd>Permoser Str. 15, 04318 Leipzig, Germany</dd><dt><span>Contact_person :</span></dt><dd>Andreas Macke and the clouds, aerosol and radiation team of the remote sensing department, mailto:andreas.macke@tropos.de</dd><dt><span>Contributor_name :</span></dt><dd></dd><dt><span>Contributor_role :</span></dt><dd></dd><dt><span>Authors_software :</span></dt><dd>Hartwig Deneke, Jonas Witthuhn, mailto:deneke@tropos.de</dd><dt><span>Creator_name :</span></dt><dd></dd><dt><span>Project :</span></dt><dd></dd><dt><span>Standard_name_vocabulary :</span></dt><dd>CF Standard Name Table v81</dd><dt><span>License :</span></dt><dd>CC-BY-SA 3.0</dd><dt><span>TESTNOTE :</span></dt><dd>This is a test note.</dd><dt><span>processing_level :</span></dt><dd>l1a</dd><dt><span>product_version :</span></dt><dd>0.2.4+0.gbfcb0c5.dirty</dd><dt><span>date_created :</span></dt><dd>2024-02-29T07:54:36</dd><dt><span>geospatial_lat_min :</span></dt><dd>51.390208333333334</dd><dt><span>geospatial_lat_max :</span></dt><dd>51.390211666666666</dd><dt><span>geospatial_lat_units :</span></dt><dd>degN</dd><dt><span>geospatial_lon_min :</span></dt><dd>11.885246666666667</dd><dt><span>geospatial_lon_max :</span></dt><dd>11.885256666666667</dd><dt><span>geospatial_lon_units :</span></dt><dd>degE</dd><dt><span>time_coverage_start :</span></dt><dd>2022-08-30T11:21:04.065000</dd><dt><span>time_coverage_end :</span></dt><dd>2022-08-30T11:21:09</dd><dt><span>time_coverage_duration :</span></dt><dd>P0DT0H0M4.935S</dd><dt><span>time_coverage_resolution :</span></dt><dd>P0DT0H0M1.23375S</dd></dl></div></li></ul></div></div>"
     },
     "execution_count": 27,
     "metadata": {},
     "output_type": "execute_result"
    }
   ],
   "source": [
    "#|dropcode\n",
    "#|dropout\n",
    "\n",
    "# 7. Interpolate GPS coordinates to bin time\n",
    "ds_gps = ds_l1a.drop_dims(\"adctime\")\n",
    "ds_gps = ds_gps.drop_vars(['iadc'])\n",
    "\n",
    "\n",
    "# Decide whether geo coordinates should be averaged or not\n",
    "\n",
    "# if config['average_latlon']:\n",
    "ds_gps_avg = ds_gps.mean('gpstime',skipna=True)\n",
    "ds_l1b_avg = xr.merge((ds_l1b,ds_gps_avg))\n",
    "\n",
    "# else:\n",
    "ds_gps = ds_gps.interp(gpstime=ds_l1b.time,\n",
    "                       kwargs={\"bounds_error\":False, \"fill_value\":np.nan})\n",
    "ds_gps = ds_gps.drop_vars(\"gpstime\")\n",
    "\n",
    "ds_l1b = xr.merge((ds_l1b,ds_gps))\n",
    "\n",
    "ds_l1b"
   ]
  },
  {
   "cell_type": "code",
   "execution_count": 28,
   "metadata": {
    "collapsed": false,
    "ExecuteTime": {
     "end_time": "2024-02-29T07:54:38.850603100Z",
     "start_time": "2024-02-29T07:54:38.665966500Z"
    }
   },
   "outputs": [],
   "source": [
    "#|hide\n",
    "# dsp = ds_l1b.sel(time=\"2019-07-15\")\n",
    "# plt.figure()\n",
    "# plt.plot(dsp.time, dsp.ghi)\n",
    "# plt.grid()"
   ]
  },
  {
   "cell_type": "markdown",
   "metadata": {
    "collapsed": false
   },
   "source": []
  },
  {
   "cell_type": "markdown",
   "metadata": {
    "collapsed": false
   },
   "source": [
    "### Add sun position\n",
    "Use ```trosat.sunpos``` to calculate sun position from time and lat,lon coordinates.\n"
   ]
  },
  {
   "cell_type": "code",
   "execution_count": 29,
   "metadata": {
    "collapsed": false,
    "ExecuteTime": {
     "end_time": "2024-02-29T07:54:38.874546600Z",
     "start_time": "2024-02-29T07:54:38.684418600Z"
    }
   },
   "outputs": [
    {
     "name": "stdout",
     "output_type": "stream",
     "text": [
      "szen (avg latlon): [42.51158528 42.51172144 42.51185788 42.5119946  42.51213159]\n",
      "szen: [        nan         nan 42.51185936 42.5119952  42.51213125]\n",
      "sazi  (avg latlon): [182.90675054 182.91284018 182.91892979 182.92501938 182.93110893]\n",
      "sazi: [         nan          nan 182.91893638 182.92502264 182.93110846]\n",
      "Earth-Sun Distance: 1.009599726026352\n"
     ]
    }
   ],
   "source": [
    "#|dropcode\n",
    "#|dropout\n",
    "# 8. Calc and add sun position\n",
    "\n",
    "szen, sazi = sp.sun_angles(\n",
    "    time=ds_l1b.time.values[:,None],\n",
    "    lat=ds_l1b.lat.values,\n",
    "    lon=ds_l1b.lon.values\n",
    ")\n",
    "\n",
    "\n",
    "szen_avg, sazi_avg = sp.sun_angles(\n",
    "    time=ds_l1b_avg.time.values[:,None],\n",
    "    lat=ds_l1b_avg.lat.values,\n",
    "    lon=ds_l1b_avg.lon.values\n",
    ")\n",
    "\n",
    "szen  = szen.squeeze()\n",
    "sazi = sazi.squeeze()\n",
    "szen_avg = szen_avg.squeeze()\n",
    "sazi_avg = sazi_avg.squeeze()\n",
    "\n",
    "\n",
    "esd = np.mean(sp.earth_sun_distance(ds_l1b.time.values))\n",
    "\n",
    "print('szen (avg latlon):', szen_avg)\n",
    "print('szen:', szen)\n",
    "print('sazi  (avg latlon):', sazi_avg)\n",
    "print('sazi:', sazi)\n",
    "print('Earth-Sun Distance:',esd)"
   ]
  },
  {
   "cell_type": "code",
   "execution_count": 30,
   "metadata": {
    "collapsed": false,
    "ExecuteTime": {
     "end_time": "2024-02-29T07:54:38.884022800Z",
     "start_time": "2024-02-29T07:54:38.704371400Z"
    }
   },
   "outputs": [
    {
     "data": {
      "text/plain": "<xarray.Dataset>\nDimensions:               (station: 1, time: 5, maintenancetime: 1)\nCoordinates:\n  * station               (station) float64 1.0\n  * time                  (time) datetime64[ns] 2022-08-30T11:21:03 ... 2022-...\n  * maintenancetime       (maintenancetime) datetime64[ns] 2023-05-08T16:09:06\nData variables: (12/18)\n    ghi                   (time, station) float32 0.002086 0.002085 ... 0.002086\n    gti                   (time, station) float32 0.001935 0.001935 ... 0.001935\n    ta                    (time, station) float32 294.8 294.7 294.8 294.7 294.8\n    rh                    (time, station) float32 0.6263 0.6266 ... 0.6271 0.629\n    battery_voltage       (time, station) float32 6.445 6.446 6.45 6.448 6.458\n    ghi_min               (time, station) float32 0.002086 0.002075 ... 0.002086\n    ...                    ...\n    lon                   (time, station) float64 nan nan 11.89 11.89 11.89\n    maintenance_flag_ghi  (maintenancetime, station) float32 9.0\n    maintenance_flag_gti  (maintenancetime, station) float32 7.0\n    szen                  (time, station) float64 nan nan 42.51 42.51 42.51\n    sazi                  (time, station) float64 nan nan 182.9 182.9 182.9\n    esd                   (station) float64 1.01\nAttributes: (12/31)\n    Conventions:               CF-1.10, ACDD-1.3\n    title:                     TROPOS pyranometer network (PyrNet) observatio...\n    history:                   2024-02-29T07:54:36: Generated level l1a  by p...\n    institution:               Leibniz Institute for Tropospheric Research (T...\n    source:                    TROPOS pyranometer network (PyrNet)\n    references:                https://doi.org/10.5194/amt-9-1153-2016\n    ...                        ...\n    geospatial_lon_max:        11.885256666666667\n    geospatial_lon_units:      degE\n    time_coverage_start:       2022-08-30T11:21:04.065000\n    time_coverage_end:         2022-08-30T11:21:09\n    time_coverage_duration:    P0DT0H0M4.935S\n    time_coverage_resolution:  P0DT0H0M1.23375S",
      "text/html": "<div><svg style=\"position: absolute; width: 0; height: 0; overflow: hidden\">\n<defs>\n<symbol id=\"icon-database\" viewBox=\"0 0 32 32\">\n<path d=\"M16 0c-8.837 0-16 2.239-16 5v4c0 2.761 7.163 5 16 5s16-2.239 16-5v-4c0-2.761-7.163-5-16-5z\"></path>\n<path d=\"M16 17c-8.837 0-16-2.239-16-5v6c0 2.761 7.163 5 16 5s16-2.239 16-5v-6c0 2.761-7.163 5-16 5z\"></path>\n<path d=\"M16 26c-8.837 0-16-2.239-16-5v6c0 2.761 7.163 5 16 5s16-2.239 16-5v-6c0 2.761-7.163 5-16 5z\"></path>\n</symbol>\n<symbol id=\"icon-file-text2\" viewBox=\"0 0 32 32\">\n<path d=\"M28.681 7.159c-0.694-0.947-1.662-2.053-2.724-3.116s-2.169-2.030-3.116-2.724c-1.612-1.182-2.393-1.319-2.841-1.319h-15.5c-1.378 0-2.5 1.121-2.5 2.5v27c0 1.378 1.122 2.5 2.5 2.5h23c1.378 0 2.5-1.122 2.5-2.5v-19.5c0-0.448-0.137-1.23-1.319-2.841zM24.543 5.457c0.959 0.959 1.712 1.825 2.268 2.543h-4.811v-4.811c0.718 0.556 1.584 1.309 2.543 2.268zM28 29.5c0 0.271-0.229 0.5-0.5 0.5h-23c-0.271 0-0.5-0.229-0.5-0.5v-27c0-0.271 0.229-0.5 0.5-0.5 0 0 15.499-0 15.5 0v7c0 0.552 0.448 1 1 1h7v19.5z\"></path>\n<path d=\"M23 26h-14c-0.552 0-1-0.448-1-1s0.448-1 1-1h14c0.552 0 1 0.448 1 1s-0.448 1-1 1z\"></path>\n<path d=\"M23 22h-14c-0.552 0-1-0.448-1-1s0.448-1 1-1h14c0.552 0 1 0.448 1 1s-0.448 1-1 1z\"></path>\n<path d=\"M23 18h-14c-0.552 0-1-0.448-1-1s0.448-1 1-1h14c0.552 0 1 0.448 1 1s-0.448 1-1 1z\"></path>\n</symbol>\n</defs>\n</svg>\n<style>/* CSS stylesheet for displaying xarray objects in jupyterlab.\n *\n */\n\n:root {\n  --xr-font-color0: var(--jp-content-font-color0, rgba(0, 0, 0, 1));\n  --xr-font-color2: var(--jp-content-font-color2, rgba(0, 0, 0, 0.54));\n  --xr-font-color3: var(--jp-content-font-color3, rgba(0, 0, 0, 0.38));\n  --xr-border-color: var(--jp-border-color2, #e0e0e0);\n  --xr-disabled-color: var(--jp-layout-color3, #bdbdbd);\n  --xr-background-color: var(--jp-layout-color0, white);\n  --xr-background-color-row-even: var(--jp-layout-color1, white);\n  --xr-background-color-row-odd: var(--jp-layout-color2, #eeeeee);\n}\n\nhtml[theme=dark],\nbody[data-theme=dark],\nbody.vscode-dark {\n  --xr-font-color0: rgba(255, 255, 255, 1);\n  --xr-font-color2: rgba(255, 255, 255, 0.54);\n  --xr-font-color3: rgba(255, 255, 255, 0.38);\n  --xr-border-color: #1F1F1F;\n  --xr-disabled-color: #515151;\n  --xr-background-color: #111111;\n  --xr-background-color-row-even: #111111;\n  --xr-background-color-row-odd: #313131;\n}\n\n.xr-wrap {\n  display: block !important;\n  min-width: 300px;\n  max-width: 700px;\n}\n\n.xr-text-repr-fallback {\n  /* fallback to plain text repr when CSS is not injected (untrusted notebook) */\n  display: none;\n}\n\n.xr-header {\n  padding-top: 6px;\n  padding-bottom: 6px;\n  margin-bottom: 4px;\n  border-bottom: solid 1px var(--xr-border-color);\n}\n\n.xr-header > div,\n.xr-header > ul {\n  display: inline;\n  margin-top: 0;\n  margin-bottom: 0;\n}\n\n.xr-obj-type,\n.xr-array-name {\n  margin-left: 2px;\n  margin-right: 10px;\n}\n\n.xr-obj-type {\n  color: var(--xr-font-color2);\n}\n\n.xr-sections {\n  padding-left: 0 !important;\n  display: grid;\n  grid-template-columns: 150px auto auto 1fr 20px 20px;\n}\n\n.xr-section-item {\n  display: contents;\n}\n\n.xr-section-item input {\n  display: none;\n}\n\n.xr-section-item input + label {\n  color: var(--xr-disabled-color);\n}\n\n.xr-section-item input:enabled + label {\n  cursor: pointer;\n  color: var(--xr-font-color2);\n}\n\n.xr-section-item input:enabled + label:hover {\n  color: var(--xr-font-color0);\n}\n\n.xr-section-summary {\n  grid-column: 1;\n  color: var(--xr-font-color2);\n  font-weight: 500;\n}\n\n.xr-section-summary > span {\n  display: inline-block;\n  padding-left: 0.5em;\n}\n\n.xr-section-summary-in:disabled + label {\n  color: var(--xr-font-color2);\n}\n\n.xr-section-summary-in + label:before {\n  display: inline-block;\n  content: '►';\n  font-size: 11px;\n  width: 15px;\n  text-align: center;\n}\n\n.xr-section-summary-in:disabled + label:before {\n  color: var(--xr-disabled-color);\n}\n\n.xr-section-summary-in:checked + label:before {\n  content: '▼';\n}\n\n.xr-section-summary-in:checked + label > span {\n  display: none;\n}\n\n.xr-section-summary,\n.xr-section-inline-details {\n  padding-top: 4px;\n  padding-bottom: 4px;\n}\n\n.xr-section-inline-details {\n  grid-column: 2 / -1;\n}\n\n.xr-section-details {\n  display: none;\n  grid-column: 1 / -1;\n  margin-bottom: 5px;\n}\n\n.xr-section-summary-in:checked ~ .xr-section-details {\n  display: contents;\n}\n\n.xr-array-wrap {\n  grid-column: 1 / -1;\n  display: grid;\n  grid-template-columns: 20px auto;\n}\n\n.xr-array-wrap > label {\n  grid-column: 1;\n  vertical-align: top;\n}\n\n.xr-preview {\n  color: var(--xr-font-color3);\n}\n\n.xr-array-preview,\n.xr-array-data {\n  padding: 0 5px !important;\n  grid-column: 2;\n}\n\n.xr-array-data,\n.xr-array-in:checked ~ .xr-array-preview {\n  display: none;\n}\n\n.xr-array-in:checked ~ .xr-array-data,\n.xr-array-preview {\n  display: inline-block;\n}\n\n.xr-dim-list {\n  display: inline-block !important;\n  list-style: none;\n  padding: 0 !important;\n  margin: 0;\n}\n\n.xr-dim-list li {\n  display: inline-block;\n  padding: 0;\n  margin: 0;\n}\n\n.xr-dim-list:before {\n  content: '(';\n}\n\n.xr-dim-list:after {\n  content: ')';\n}\n\n.xr-dim-list li:not(:last-child):after {\n  content: ',';\n  padding-right: 5px;\n}\n\n.xr-has-index {\n  font-weight: bold;\n}\n\n.xr-var-list,\n.xr-var-item {\n  display: contents;\n}\n\n.xr-var-item > div,\n.xr-var-item label,\n.xr-var-item > .xr-var-name span {\n  background-color: var(--xr-background-color-row-even);\n  margin-bottom: 0;\n}\n\n.xr-var-item > .xr-var-name:hover span {\n  padding-right: 5px;\n}\n\n.xr-var-list > li:nth-child(odd) > div,\n.xr-var-list > li:nth-child(odd) > label,\n.xr-var-list > li:nth-child(odd) > .xr-var-name span {\n  background-color: var(--xr-background-color-row-odd);\n}\n\n.xr-var-name {\n  grid-column: 1;\n}\n\n.xr-var-dims {\n  grid-column: 2;\n}\n\n.xr-var-dtype {\n  grid-column: 3;\n  text-align: right;\n  color: var(--xr-font-color2);\n}\n\n.xr-var-preview {\n  grid-column: 4;\n}\n\n.xr-index-preview {\n  grid-column: 2 / 5;\n  color: var(--xr-font-color2);\n}\n\n.xr-var-name,\n.xr-var-dims,\n.xr-var-dtype,\n.xr-preview,\n.xr-attrs dt {\n  white-space: nowrap;\n  overflow: hidden;\n  text-overflow: ellipsis;\n  padding-right: 10px;\n}\n\n.xr-var-name:hover,\n.xr-var-dims:hover,\n.xr-var-dtype:hover,\n.xr-attrs dt:hover {\n  overflow: visible;\n  width: auto;\n  z-index: 1;\n}\n\n.xr-var-attrs,\n.xr-var-data,\n.xr-index-data {\n  display: none;\n  background-color: var(--xr-background-color) !important;\n  padding-bottom: 5px !important;\n}\n\n.xr-var-attrs-in:checked ~ .xr-var-attrs,\n.xr-var-data-in:checked ~ .xr-var-data,\n.xr-index-data-in:checked ~ .xr-index-data {\n  display: block;\n}\n\n.xr-var-data > table {\n  float: right;\n}\n\n.xr-var-name span,\n.xr-var-data,\n.xr-index-name div,\n.xr-index-data,\n.xr-attrs {\n  padding-left: 25px !important;\n}\n\n.xr-attrs,\n.xr-var-attrs,\n.xr-var-data,\n.xr-index-data {\n  grid-column: 1 / -1;\n}\n\ndl.xr-attrs {\n  padding: 0;\n  margin: 0;\n  display: grid;\n  grid-template-columns: 125px auto;\n}\n\n.xr-attrs dt,\n.xr-attrs dd {\n  padding: 0;\n  margin: 0;\n  float: left;\n  padding-right: 10px;\n  width: auto;\n}\n\n.xr-attrs dt {\n  font-weight: normal;\n  grid-column: 1;\n}\n\n.xr-attrs dt:hover span {\n  display: inline-block;\n  background: var(--xr-background-color);\n  padding-right: 10px;\n}\n\n.xr-attrs dd {\n  grid-column: 2;\n  white-space: pre-wrap;\n  word-break: break-all;\n}\n\n.xr-icon-database,\n.xr-icon-file-text2,\n.xr-no-icon {\n  display: inline-block;\n  vertical-align: middle;\n  width: 1em;\n  height: 1.5em !important;\n  stroke-width: 0;\n  stroke: currentColor;\n  fill: currentColor;\n}\n</style><pre class='xr-text-repr-fallback'>&lt;xarray.Dataset&gt;\nDimensions:               (station: 1, time: 5, maintenancetime: 1)\nCoordinates:\n  * station               (station) float64 1.0\n  * time                  (time) datetime64[ns] 2022-08-30T11:21:03 ... 2022-...\n  * maintenancetime       (maintenancetime) datetime64[ns] 2023-05-08T16:09:06\nData variables: (12/18)\n    ghi                   (time, station) float32 0.002086 0.002085 ... 0.002086\n    gti                   (time, station) float32 0.001935 0.001935 ... 0.001935\n    ta                    (time, station) float32 294.8 294.7 294.8 294.7 294.8\n    rh                    (time, station) float32 0.6263 0.6266 ... 0.6271 0.629\n    battery_voltage       (time, station) float32 6.445 6.446 6.45 6.448 6.458\n    ghi_min               (time, station) float32 0.002086 0.002075 ... 0.002086\n    ...                    ...\n    lon                   (time, station) float64 nan nan 11.89 11.89 11.89\n    maintenance_flag_ghi  (maintenancetime, station) float32 9.0\n    maintenance_flag_gti  (maintenancetime, station) float32 7.0\n    szen                  (time, station) float64 nan nan 42.51 42.51 42.51\n    sazi                  (time, station) float64 nan nan 182.9 182.9 182.9\n    esd                   (station) float64 1.01\nAttributes: (12/31)\n    Conventions:               CF-1.10, ACDD-1.3\n    title:                     TROPOS pyranometer network (PyrNet) observatio...\n    history:                   2024-02-29T07:54:36: Generated level l1a  by p...\n    institution:               Leibniz Institute for Tropospheric Research (T...\n    source:                    TROPOS pyranometer network (PyrNet)\n    references:                https://doi.org/10.5194/amt-9-1153-2016\n    ...                        ...\n    geospatial_lon_max:        11.885256666666667\n    geospatial_lon_units:      degE\n    time_coverage_start:       2022-08-30T11:21:04.065000\n    time_coverage_end:         2022-08-30T11:21:09\n    time_coverage_duration:    P0DT0H0M4.935S\n    time_coverage_resolution:  P0DT0H0M1.23375S</pre><div class='xr-wrap' style='display:none'><div class='xr-header'><div class='xr-obj-type'>xarray.Dataset</div></div><ul class='xr-sections'><li class='xr-section-item'><input id='section-d1363352-0ae5-4221-b753-90f2eafde1fd' class='xr-section-summary-in' type='checkbox' disabled ><label for='section-d1363352-0ae5-4221-b753-90f2eafde1fd' class='xr-section-summary'  title='Expand/collapse section'>Dimensions:</label><div class='xr-section-inline-details'><ul class='xr-dim-list'><li><span class='xr-has-index'>station</span>: 1</li><li><span class='xr-has-index'>time</span>: 5</li><li><span class='xr-has-index'>maintenancetime</span>: 1</li></ul></div><div class='xr-section-details'></div></li><li class='xr-section-item'><input id='section-f6e7d9a1-a736-40cb-ae69-ba032d667fb0' class='xr-section-summary-in' type='checkbox'  checked><label for='section-f6e7d9a1-a736-40cb-ae69-ba032d667fb0' class='xr-section-summary' >Coordinates: <span>(3)</span></label><div class='xr-section-inline-details'></div><div class='xr-section-details'><ul class='xr-var-list'><li class='xr-var-item'><div class='xr-var-name'><span class='xr-has-index'>station</span></div><div class='xr-var-dims'>(station)</div><div class='xr-var-dtype'>float64</div><div class='xr-var-preview xr-preview'>1.0</div><input id='attrs-771de6e9-ea4d-4187-8e9d-0c82b95094a3' class='xr-var-attrs-in' type='checkbox' ><label for='attrs-771de6e9-ea4d-4187-8e9d-0c82b95094a3' title='Show/Hide attributes'><svg class='icon xr-icon-file-text2'><use xlink:href='#icon-file-text2'></use></svg></label><input id='data-5256f2c8-c09c-4311-888f-a820f1a860ab' class='xr-var-data-in' type='checkbox'><label for='data-5256f2c8-c09c-4311-888f-a820f1a860ab' title='Show/Hide data repr'><svg class='icon xr-icon-database'><use xlink:href='#icon-database'></use></svg></label><div class='xr-var-attrs'><dl class='xr-attrs'><dt><span>units :</span></dt><dd>-</dd><dt><span>long_name :</span></dt><dd>PyrNet unit box number</dd></dl></div><div class='xr-var-data'><pre>array([1.])</pre></div></li><li class='xr-var-item'><div class='xr-var-name'><span class='xr-has-index'>time</span></div><div class='xr-var-dims'>(time)</div><div class='xr-var-dtype'>datetime64[ns]</div><div class='xr-var-preview xr-preview'>2022-08-30T11:21:03 ... 2022-08-...</div><input id='attrs-32cf0076-44d8-4aeb-b428-ee86eaba7673' class='xr-var-attrs-in' type='checkbox' disabled><label for='attrs-32cf0076-44d8-4aeb-b428-ee86eaba7673' title='Show/Hide attributes'><svg class='icon xr-icon-file-text2'><use xlink:href='#icon-file-text2'></use></svg></label><input id='data-21618262-f7fd-46b9-b8f1-692786304bfd' class='xr-var-data-in' type='checkbox'><label for='data-21618262-f7fd-46b9-b8f1-692786304bfd' title='Show/Hide data repr'><svg class='icon xr-icon-database'><use xlink:href='#icon-database'></use></svg></label><div class='xr-var-attrs'><dl class='xr-attrs'></dl></div><div class='xr-var-data'><pre>array([&#x27;2022-08-30T11:21:03.000000000&#x27;, &#x27;2022-08-30T11:21:04.000000000&#x27;,\n       &#x27;2022-08-30T11:21:05.000000000&#x27;, &#x27;2022-08-30T11:21:06.000000000&#x27;,\n       &#x27;2022-08-30T11:21:07.000000000&#x27;], dtype=&#x27;datetime64[ns]&#x27;)</pre></div></li><li class='xr-var-item'><div class='xr-var-name'><span class='xr-has-index'>maintenancetime</span></div><div class='xr-var-dims'>(maintenancetime)</div><div class='xr-var-dtype'>datetime64[ns]</div><div class='xr-var-preview xr-preview'>2023-05-08T16:09:06</div><input id='attrs-dd7ae33f-a30f-4161-bf07-72b9c302dcaa' class='xr-var-attrs-in' type='checkbox' disabled><label for='attrs-dd7ae33f-a30f-4161-bf07-72b9c302dcaa' title='Show/Hide attributes'><svg class='icon xr-icon-file-text2'><use xlink:href='#icon-file-text2'></use></svg></label><input id='data-3faef623-c2a7-4b25-85f2-50066cf406c3' class='xr-var-data-in' type='checkbox'><label for='data-3faef623-c2a7-4b25-85f2-50066cf406c3' title='Show/Hide data repr'><svg class='icon xr-icon-database'><use xlink:href='#icon-database'></use></svg></label><div class='xr-var-attrs'><dl class='xr-attrs'></dl></div><div class='xr-var-data'><pre>array([&#x27;2023-05-08T16:09:06.000000000&#x27;], dtype=&#x27;datetime64[ns]&#x27;)</pre></div></li></ul></div></li><li class='xr-section-item'><input id='section-31ec910e-14b5-4c2d-ae23-8842eea0c4fe' class='xr-section-summary-in' type='checkbox'  ><label for='section-31ec910e-14b5-4c2d-ae23-8842eea0c4fe' class='xr-section-summary' >Data variables: <span>(18)</span></label><div class='xr-section-inline-details'></div><div class='xr-section-details'><ul class='xr-var-list'><li class='xr-var-item'><div class='xr-var-name'><span>ghi</span></div><div class='xr-var-dims'>(time, station)</div><div class='xr-var-dtype'>float32</div><div class='xr-var-preview xr-preview'>0.002086 0.002085 ... 0.002086</div><input id='attrs-29b84609-f034-48fe-93b6-2a9598a7fb7a' class='xr-var-attrs-in' type='checkbox' ><label for='attrs-29b84609-f034-48fe-93b6-2a9598a7fb7a' title='Show/Hide attributes'><svg class='icon xr-icon-file-text2'><use xlink:href='#icon-file-text2'></use></svg></label><input id='data-e3787937-b53f-44b9-828b-59f7de0ffbaa' class='xr-var-data-in' type='checkbox'><label for='data-e3787937-b53f-44b9-828b-59f7de0ffbaa' title='Show/Hide data repr'><svg class='icon xr-icon-database'><use xlink:href='#icon-database'></use></svg></label><div class='xr-var-attrs'><dl class='xr-attrs'><dt><span>units :</span></dt><dd>V</dd><dt><span>long_name :</span></dt><dd>downwelling shortwave flux</dd><dt><span>standard_name :</span></dt><dd>downwelling_shortwave_flux_in_air</dd><dt><span>valid_range :</span></dt><dd>[   0 1023]</dd></dl></div><div class='xr-var-data'><pre>array([[0.00208602],\n       [0.00208495],\n       [0.00208602],\n       [0.00208602],\n       [0.00208602]], dtype=float32)</pre></div></li><li class='xr-var-item'><div class='xr-var-name'><span>gti</span></div><div class='xr-var-dims'>(time, station)</div><div class='xr-var-dtype'>float32</div><div class='xr-var-preview xr-preview'>0.001935 0.001935 ... 0.001935</div><input id='attrs-58f37c54-fa7d-40b8-bc35-1a1f2c6e48d4' class='xr-var-attrs-in' type='checkbox' ><label for='attrs-58f37c54-fa7d-40b8-bc35-1a1f2c6e48d4' title='Show/Hide attributes'><svg class='icon xr-icon-file-text2'><use xlink:href='#icon-file-text2'></use></svg></label><input id='data-6602d36e-eda8-4b4e-8520-f8967b7b3f48' class='xr-var-data-in' type='checkbox'><label for='data-6602d36e-eda8-4b4e-8520-f8967b7b3f48' title='Show/Hide data repr'><svg class='icon xr-icon-database'><use xlink:href='#icon-database'></use></svg></label><div class='xr-var-attrs'><dl class='xr-attrs'><dt><span>units :</span></dt><dd>V</dd><dt><span>long_name :</span></dt><dd>downwelling shortwave flux measured on secondary platform, might be tilted</dd><dt><span>standard_name :</span></dt><dd>downwelling_shortwave_flux_in_air</dd><dt><span>valid_range :</span></dt><dd>[   0 1023]</dd><dt><span>hangle :</span></dt><dd>0.0</dd><dt><span>vangle :</span></dt><dd>0.0</dd></dl></div><div class='xr-var-data'><pre>array([[0.00193548],\n       [0.00193548],\n       [0.00193656],\n       [0.00193548],\n       [0.00193548]], dtype=float32)</pre></div></li><li class='xr-var-item'><div class='xr-var-name'><span>ta</span></div><div class='xr-var-dims'>(time, station)</div><div class='xr-var-dtype'>float32</div><div class='xr-var-preview xr-preview'>294.8 294.7 294.8 294.7 294.8</div><input id='attrs-3329929a-9bc1-439d-8c3d-e17adcb0542e' class='xr-var-attrs-in' type='checkbox' ><label for='attrs-3329929a-9bc1-439d-8c3d-e17adcb0542e' title='Show/Hide attributes'><svg class='icon xr-icon-file-text2'><use xlink:href='#icon-file-text2'></use></svg></label><input id='data-e15c2378-9302-4498-88ba-d5b138c539b9' class='xr-var-data-in' type='checkbox'><label for='data-e15c2378-9302-4498-88ba-d5b138c539b9' title='Show/Hide data repr'><svg class='icon xr-icon-database'><use xlink:href='#icon-database'></use></svg></label><div class='xr-var-attrs'><dl class='xr-attrs'><dt><span>units :</span></dt><dd>K</dd><dt><span>long_name :</span></dt><dd>air temperature</dd><dt><span>standard_name :</span></dt><dd>air_temperature</dd><dt><span>valid_range :</span></dt><dd>[  0 775]</dd></dl></div><div class='xr-var-data'><pre>array([[294.7758 ],\n       [294.74997],\n       [294.7887 ],\n       [294.74997],\n       [294.82742]], dtype=float32)</pre></div></li><li class='xr-var-item'><div class='xr-var-name'><span>rh</span></div><div class='xr-var-dims'>(time, station)</div><div class='xr-var-dtype'>float32</div><div class='xr-var-preview xr-preview'>0.6263 0.6266 0.6271 0.6271 0.629</div><input id='attrs-12ddf2e5-a947-4623-bcf0-62686a7ae804' class='xr-var-attrs-in' type='checkbox' ><label for='attrs-12ddf2e5-a947-4623-bcf0-62686a7ae804' title='Show/Hide attributes'><svg class='icon xr-icon-file-text2'><use xlink:href='#icon-file-text2'></use></svg></label><input id='data-00b02257-2072-44c2-a322-0a3366727cc0' class='xr-var-data-in' type='checkbox'><label for='data-00b02257-2072-44c2-a322-0a3366727cc0' title='Show/Hide data repr'><svg class='icon xr-icon-database'><use xlink:href='#icon-database'></use></svg></label><div class='xr-var-attrs'><dl class='xr-attrs'><dt><span>units :</span></dt><dd>1</dd><dt><span>long_name :</span></dt><dd>air relative humidity</dd><dt><span>standard_name :</span></dt><dd>relative_humidity</dd><dt><span>valid_range :</span></dt><dd>[  0 775]</dd></dl></div><div class='xr-var-data'><pre>array([[0.62632257],\n       [0.6265806 ],\n       [0.6270968 ],\n       [0.6270968 ],\n       [0.62903225]], dtype=float32)</pre></div></li><li class='xr-var-item'><div class='xr-var-name'><span>battery_voltage</span></div><div class='xr-var-dims'>(time, station)</div><div class='xr-var-dtype'>float32</div><div class='xr-var-preview xr-preview'>6.445 6.446 6.45 6.448 6.458</div><input id='attrs-e07f6b1e-92ee-4059-b710-e6a4d636fbc4' class='xr-var-attrs-in' type='checkbox' ><label for='attrs-e07f6b1e-92ee-4059-b710-e6a4d636fbc4' title='Show/Hide attributes'><svg class='icon xr-icon-file-text2'><use xlink:href='#icon-file-text2'></use></svg></label><input id='data-60ba56aa-ddd0-4425-94e3-8988d0dd685e' class='xr-var-data-in' type='checkbox'><label for='data-60ba56aa-ddd0-4425-94e3-8988d0dd685e' title='Show/Hide data repr'><svg class='icon xr-icon-database'><use xlink:href='#icon-database'></use></svg></label><div class='xr-var-attrs'><dl class='xr-attrs'><dt><span>units :</span></dt><dd>V</dd><dt><span>standard_name :</span></dt><dd>battery_voltage</dd><dt><span>valid_range :</span></dt><dd>[  0 992]</dd></dl></div><div class='xr-var-data'><pre>array([[6.4451613],\n       [6.445807 ],\n       [6.4496775],\n       [6.4477415],\n       [6.4580646]], dtype=float32)</pre></div></li><li class='xr-var-item'><div class='xr-var-name'><span>ghi_min</span></div><div class='xr-var-dims'>(time, station)</div><div class='xr-var-dtype'>float32</div><div class='xr-var-preview xr-preview'>0.002086 0.002075 ... 0.002086</div><input id='attrs-8fbb0d80-b915-4d38-bb50-b43a9f5a9e40' class='xr-var-attrs-in' type='checkbox' ><label for='attrs-8fbb0d80-b915-4d38-bb50-b43a9f5a9e40' title='Show/Hide attributes'><svg class='icon xr-icon-file-text2'><use xlink:href='#icon-file-text2'></use></svg></label><input id='data-4b35b409-e84d-49fe-b5c2-eb6935790f3f' class='xr-var-data-in' type='checkbox'><label for='data-4b35b409-e84d-49fe-b5c2-eb6935790f3f' title='Show/Hide data repr'><svg class='icon xr-icon-database'><use xlink:href='#icon-database'></use></svg></label><div class='xr-var-attrs'><dl class='xr-attrs'><dt><span>units :</span></dt><dd>V</dd><dt><span>long_name :</span></dt><dd>downwelling shortwave flux</dd><dt><span>standard_name :</span></dt><dd>min_downwelling_shortwave_flux_in_air</dd><dt><span>valid_range :</span></dt><dd>[   0 1023]</dd></dl></div><div class='xr-var-data'><pre>array([[0.00208602],\n       [0.00207527],\n       [0.00208602],\n       [0.00208602],\n       [0.00208602]], dtype=float32)</pre></div></li><li class='xr-var-item'><div class='xr-var-name'><span>gti_min</span></div><div class='xr-var-dims'>(time, station)</div><div class='xr-var-dtype'>float32</div><div class='xr-var-preview xr-preview'>0.001935 0.001925 ... 0.001935</div><input id='attrs-3d666a64-ec5e-4499-9520-040c36c0e0db' class='xr-var-attrs-in' type='checkbox' ><label for='attrs-3d666a64-ec5e-4499-9520-040c36c0e0db' title='Show/Hide attributes'><svg class='icon xr-icon-file-text2'><use xlink:href='#icon-file-text2'></use></svg></label><input id='data-d3a8f275-d221-433c-bb39-fb7b4ab0e50e' class='xr-var-data-in' type='checkbox'><label for='data-d3a8f275-d221-433c-bb39-fb7b4ab0e50e' title='Show/Hide data repr'><svg class='icon xr-icon-database'><use xlink:href='#icon-database'></use></svg></label><div class='xr-var-attrs'><dl class='xr-attrs'><dt><span>units :</span></dt><dd>V</dd><dt><span>long_name :</span></dt><dd>downwelling shortwave flux measured on secondary platform, might be tilted</dd><dt><span>standard_name :</span></dt><dd>min_downwelling_shortwave_flux_in_air</dd><dt><span>valid_range :</span></dt><dd>[   0 1023]</dd><dt><span>hangle :</span></dt><dd>0.0</dd><dt><span>vangle :</span></dt><dd>0.0</dd></dl></div><div class='xr-var-data'><pre>array([[0.00193548],\n       [0.00192473],\n       [0.00192473],\n       [0.00193548],\n       [0.00193548]], dtype=float32)</pre></div></li><li class='xr-var-item'><div class='xr-var-name'><span>ghi_max</span></div><div class='xr-var-dims'>(time, station)</div><div class='xr-var-dtype'>float32</div><div class='xr-var-preview xr-preview'>0.002086 0.002086 ... 0.002086</div><input id='attrs-315ab7b8-7c91-46fd-9593-a5a6bea2f2c2' class='xr-var-attrs-in' type='checkbox' ><label for='attrs-315ab7b8-7c91-46fd-9593-a5a6bea2f2c2' title='Show/Hide attributes'><svg class='icon xr-icon-file-text2'><use xlink:href='#icon-file-text2'></use></svg></label><input id='data-648d03ef-475c-486b-8346-0d25386e31d8' class='xr-var-data-in' type='checkbox'><label for='data-648d03ef-475c-486b-8346-0d25386e31d8' title='Show/Hide data repr'><svg class='icon xr-icon-database'><use xlink:href='#icon-database'></use></svg></label><div class='xr-var-attrs'><dl class='xr-attrs'><dt><span>units :</span></dt><dd>V</dd><dt><span>long_name :</span></dt><dd>downwelling shortwave flux</dd><dt><span>standard_name :</span></dt><dd>max_downwelling_shortwave_flux_in_air</dd><dt><span>valid_range :</span></dt><dd>[   0 1023]</dd></dl></div><div class='xr-var-data'><pre>array([[0.00208602],\n       [0.00208602],\n       [0.00208602],\n       [0.00208602],\n       [0.00208602]], dtype=float32)</pre></div></li><li class='xr-var-item'><div class='xr-var-name'><span>gti_max</span></div><div class='xr-var-dims'>(time, station)</div><div class='xr-var-dtype'>float32</div><div class='xr-var-preview xr-preview'>0.001935 0.001946 ... 0.001935</div><input id='attrs-7a21dd64-5f73-4358-a9eb-340902c09ee3' class='xr-var-attrs-in' type='checkbox' ><label for='attrs-7a21dd64-5f73-4358-a9eb-340902c09ee3' title='Show/Hide attributes'><svg class='icon xr-icon-file-text2'><use xlink:href='#icon-file-text2'></use></svg></label><input id='data-09b3fb30-7de6-4861-80fc-8cc04057ba69' class='xr-var-data-in' type='checkbox'><label for='data-09b3fb30-7de6-4861-80fc-8cc04057ba69' title='Show/Hide data repr'><svg class='icon xr-icon-database'><use xlink:href='#icon-database'></use></svg></label><div class='xr-var-attrs'><dl class='xr-attrs'><dt><span>units :</span></dt><dd>V</dd><dt><span>long_name :</span></dt><dd>downwelling shortwave flux measured on secondary platform, might be tilted</dd><dt><span>standard_name :</span></dt><dd>max_downwelling_shortwave_flux_in_air</dd><dt><span>valid_range :</span></dt><dd>[   0 1023]</dd><dt><span>hangle :</span></dt><dd>0.0</dd><dt><span>vangle :</span></dt><dd>0.0</dd></dl></div><div class='xr-var-data'><pre>array([[0.00193548],\n       [0.00194624],\n       [0.00194624],\n       [0.00193548],\n       [0.00193548]], dtype=float32)</pre></div></li><li class='xr-var-item'><div class='xr-var-name'><span>ghi_std</span></div><div class='xr-var-dims'>(time, station)</div><div class='xr-var-dtype'>float64</div><div class='xr-var-preview xr-preview'>0.0 3.4e-06 0.0 0.0 0.0</div><input id='attrs-dd6505ad-080c-46c4-a599-995e87a3898f' class='xr-var-attrs-in' type='checkbox' ><label for='attrs-dd6505ad-080c-46c4-a599-995e87a3898f' title='Show/Hide attributes'><svg class='icon xr-icon-file-text2'><use xlink:href='#icon-file-text2'></use></svg></label><input id='data-04c14260-9bf6-4c04-a917-b208acf64916' class='xr-var-data-in' type='checkbox'><label for='data-04c14260-9bf6-4c04-a917-b208acf64916' title='Show/Hide data repr'><svg class='icon xr-icon-database'><use xlink:href='#icon-database'></use></svg></label><div class='xr-var-attrs'><dl class='xr-attrs'><dt><span>units :</span></dt><dd>V</dd><dt><span>long_name :</span></dt><dd>downwelling shortwave flux</dd><dt><span>standard_name :</span></dt><dd>std_downwelling_shortwave_flux_in_air</dd><dt><span>valid_range :</span></dt><dd>[   0 1023]</dd></dl></div><div class='xr-var-data'><pre>array([[0.00000000e+00],\n       [3.40026587e-06],\n       [0.00000000e+00],\n       [0.00000000e+00],\n       [0.00000000e+00]])</pre></div></li><li class='xr-var-item'><div class='xr-var-name'><span>gti_std</span></div><div class='xr-var-dims'>(time, station)</div><div class='xr-var-dtype'>float64</div><div class='xr-var-preview xr-preview'>0.0 5.069e-06 6.104e-06 0.0 0.0</div><input id='attrs-8895d392-1379-45d1-9eb0-54815c82404f' class='xr-var-attrs-in' type='checkbox' ><label for='attrs-8895d392-1379-45d1-9eb0-54815c82404f' title='Show/Hide attributes'><svg class='icon xr-icon-file-text2'><use xlink:href='#icon-file-text2'></use></svg></label><input id='data-02ec6b48-843e-48d8-ba1e-fb91b1615505' class='xr-var-data-in' type='checkbox'><label for='data-02ec6b48-843e-48d8-ba1e-fb91b1615505' title='Show/Hide data repr'><svg class='icon xr-icon-database'><use xlink:href='#icon-database'></use></svg></label><div class='xr-var-attrs'><dl class='xr-attrs'><dt><span>units :</span></dt><dd>V</dd><dt><span>long_name :</span></dt><dd>downwelling shortwave flux measured on secondary platform, might be tilted</dd><dt><span>standard_name :</span></dt><dd>std_downwelling_shortwave_flux_in_air</dd><dt><span>valid_range :</span></dt><dd>[   0 1023]</dd><dt><span>hangle :</span></dt><dd>0.0</dd><dt><span>vangle :</span></dt><dd>0.0</dd></dl></div><div class='xr-var-data'><pre>array([[0.00000000e+00],\n       [5.06887196e-06],\n       [6.10373011e-06],\n       [0.00000000e+00],\n       [0.00000000e+00]])</pre></div></li><li class='xr-var-item'><div class='xr-var-name'><span>lat</span></div><div class='xr-var-dims'>(time, station)</div><div class='xr-var-dtype'>float64</div><div class='xr-var-preview xr-preview'>nan nan 51.39 51.39 51.39</div><input id='attrs-d0c71323-a2bf-4c62-a76f-0cbe111a7ab3' class='xr-var-attrs-in' type='checkbox' ><label for='attrs-d0c71323-a2bf-4c62-a76f-0cbe111a7ab3' title='Show/Hide attributes'><svg class='icon xr-icon-file-text2'><use xlink:href='#icon-file-text2'></use></svg></label><input id='data-d8974997-fed6-4cfc-a94f-107c9eb64b63' class='xr-var-data-in' type='checkbox'><label for='data-d8974997-fed6-4cfc-a94f-107c9eb64b63' title='Show/Hide data repr'><svg class='icon xr-icon-database'><use xlink:href='#icon-database'></use></svg></label><div class='xr-var-attrs'><dl class='xr-attrs'><dt><span>standard_name :</span></dt><dd>latitude</dd><dt><span>units :</span></dt><dd>degree_north</dd><dt><span>valid_range :</span></dt><dd>[-90.  90.]</dd></dl></div><div class='xr-var-data'><pre>array([[        nan],\n       [        nan],\n       [51.39021167],\n       [51.39021086],\n       [51.39021   ]])</pre></div></li><li class='xr-var-item'><div class='xr-var-name'><span>lon</span></div><div class='xr-var-dims'>(time, station)</div><div class='xr-var-dtype'>float64</div><div class='xr-var-preview xr-preview'>nan nan 11.89 11.89 11.89</div><input id='attrs-bf104a9d-87ef-44b9-a7c9-3198244085ec' class='xr-var-attrs-in' type='checkbox' ><label for='attrs-bf104a9d-87ef-44b9-a7c9-3198244085ec' title='Show/Hide attributes'><svg class='icon xr-icon-file-text2'><use xlink:href='#icon-file-text2'></use></svg></label><input id='data-8a1610f4-309a-47c4-aa57-503dc0fa4e37' class='xr-var-data-in' type='checkbox'><label for='data-8a1610f4-309a-47c4-aa57-503dc0fa4e37' title='Show/Hide data repr'><svg class='icon xr-icon-database'><use xlink:href='#icon-database'></use></svg></label><div class='xr-var-attrs'><dl class='xr-attrs'><dt><span>standard_name :</span></dt><dd>longitude</dd><dt><span>units :</span></dt><dd>degree_east</dd><dt><span>valid_range :</span></dt><dd>[-180.  180.]</dd></dl></div><div class='xr-var-data'><pre>array([[        nan],\n       [        nan],\n       [11.88525656],\n       [11.88525425],\n       [11.88525167]])</pre></div></li><li class='xr-var-item'><div class='xr-var-name'><span>maintenance_flag_ghi</span></div><div class='xr-var-dims'>(maintenancetime, station)</div><div class='xr-var-dtype'>float32</div><div class='xr-var-preview xr-preview'>9.0</div><input id='attrs-9d705864-869e-491a-85a2-690fc610fcf6' class='xr-var-attrs-in' type='checkbox' ><label for='attrs-9d705864-869e-491a-85a2-690fc610fcf6' title='Show/Hide attributes'><svg class='icon xr-icon-file-text2'><use xlink:href='#icon-file-text2'></use></svg></label><input id='data-afb62767-371f-443c-b376-c91db7acde84' class='xr-var-data-in' type='checkbox'><label for='data-afb62767-371f-443c-b376-c91db7acde84' title='Show/Hide data repr'><svg class='icon xr-icon-database'><use xlink:href='#icon-database'></use></svg></label><div class='xr-var-attrs'><dl class='xr-attrs'><dt><span>note_general :</span></dt><dd>222</dd><dt><span>note_clean :</span></dt><dd>testing notes</dd><dt><span>note_level :</span></dt><dd>test</dd><dt><span>valid_range :</span></dt><dd>[ 0 11]</dd></dl></div><div class='xr-var-data'><pre>array([[9.]], dtype=float32)</pre></div></li><li class='xr-var-item'><div class='xr-var-name'><span>maintenance_flag_gti</span></div><div class='xr-var-dims'>(maintenancetime, station)</div><div class='xr-var-dtype'>float32</div><div class='xr-var-preview xr-preview'>7.0</div><input id='attrs-9c167780-1680-4671-8f7f-ff5ec372ffd4' class='xr-var-attrs-in' type='checkbox' ><label for='attrs-9c167780-1680-4671-8f7f-ff5ec372ffd4' title='Show/Hide attributes'><svg class='icon xr-icon-file-text2'><use xlink:href='#icon-file-text2'></use></svg></label><input id='data-193a7186-cd71-469e-b331-8c35668c561d' class='xr-var-data-in' type='checkbox'><label for='data-193a7186-cd71-469e-b331-8c35668c561d' title='Show/Hide data repr'><svg class='icon xr-icon-database'><use xlink:href='#icon-database'></use></svg></label><div class='xr-var-attrs'><dl class='xr-attrs'><dt><span>note_general :</span></dt><dd>222</dd><dt><span>note_clean :</span></dt><dd></dd><dt><span>note_level :</span></dt><dd></dd><dt><span>valid_range :</span></dt><dd>[ 0 11]</dd></dl></div><div class='xr-var-data'><pre>array([[7.]], dtype=float32)</pre></div></li><li class='xr-var-item'><div class='xr-var-name'><span>szen</span></div><div class='xr-var-dims'>(time, station)</div><div class='xr-var-dtype'>float64</div><div class='xr-var-preview xr-preview'>nan nan 42.51 42.51 42.51</div><input id='attrs-10648153-f6f3-46bb-9d87-931f8a14a270' class='xr-var-attrs-in' type='checkbox' ><label for='attrs-10648153-f6f3-46bb-9d87-931f8a14a270' title='Show/Hide attributes'><svg class='icon xr-icon-file-text2'><use xlink:href='#icon-file-text2'></use></svg></label><input id='data-e5cd997c-ce7e-45ea-90d4-c38d2359aa36' class='xr-var-data-in' type='checkbox'><label for='data-e5cd997c-ce7e-45ea-90d4-c38d2359aa36' title='Show/Hide data repr'><svg class='icon xr-icon-database'><use xlink:href='#icon-database'></use></svg></label><div class='xr-var-attrs'><dl class='xr-attrs'><dt><span>standard_name :</span></dt><dd>solar_zenith_angle</dd><dt><span>units :</span></dt><dd>degree</dd><dt><span>valid_range :</span></dt><dd>[0, 36000]</dd></dl></div><div class='xr-var-data'><pre>array([[        nan],\n       [        nan],\n       [42.51185936],\n       [42.5119952 ],\n       [42.51213125]])</pre></div></li><li class='xr-var-item'><div class='xr-var-name'><span>sazi</span></div><div class='xr-var-dims'>(time, station)</div><div class='xr-var-dtype'>float64</div><div class='xr-var-preview xr-preview'>nan nan 182.9 182.9 182.9</div><input id='attrs-842fc5e3-356e-4413-9308-b264660fbf6e' class='xr-var-attrs-in' type='checkbox' ><label for='attrs-842fc5e3-356e-4413-9308-b264660fbf6e' title='Show/Hide attributes'><svg class='icon xr-icon-file-text2'><use xlink:href='#icon-file-text2'></use></svg></label><input id='data-9f17250c-90ce-423b-b470-847572d18eec' class='xr-var-data-in' type='checkbox'><label for='data-9f17250c-90ce-423b-b470-847572d18eec' title='Show/Hide data repr'><svg class='icon xr-icon-database'><use xlink:href='#icon-database'></use></svg></label><div class='xr-var-attrs'><dl class='xr-attrs'><dt><span>standard_name :</span></dt><dd>solar_azimuth_angle</dd><dt><span>units :</span></dt><dd>degree</dd><dt><span>valid_range :</span></dt><dd>[0, 36000]</dd></dl></div><div class='xr-var-data'><pre>array([[         nan],\n       [         nan],\n       [182.91893638],\n       [182.92502264],\n       [182.93110846]])</pre></div></li><li class='xr-var-item'><div class='xr-var-name'><span>esd</span></div><div class='xr-var-dims'>(station)</div><div class='xr-var-dtype'>float64</div><div class='xr-var-preview xr-preview'>1.01</div><input id='attrs-bd7551f5-5366-42b9-b551-9574d4add80c' class='xr-var-attrs-in' type='checkbox' ><label for='attrs-bd7551f5-5366-42b9-b551-9574d4add80c' title='Show/Hide attributes'><svg class='icon xr-icon-file-text2'><use xlink:href='#icon-file-text2'></use></svg></label><input id='data-12101486-101d-4573-a421-0ef8d8aa8ebc' class='xr-var-data-in' type='checkbox'><label for='data-12101486-101d-4573-a421-0ef8d8aa8ebc' title='Show/Hide data repr'><svg class='icon xr-icon-database'><use xlink:href='#icon-database'></use></svg></label><div class='xr-var-attrs'><dl class='xr-attrs'><dt><span>long_name :</span></dt><dd>Earth-sun distance</dd><dt><span>note :</span></dt><dd>Calculated based on Spencer (1971), as mean of its values over all time steps.</dd><dt><span>units :</span></dt><dd>ua</dd></dl></div><div class='xr-var-data'><pre>array([1.00959973])</pre></div></li></ul></div></li><li class='xr-section-item'><input id='section-36e84b85-ff04-48d6-9b45-2b7bf8e076b9' class='xr-section-summary-in' type='checkbox'  ><label for='section-36e84b85-ff04-48d6-9b45-2b7bf8e076b9' class='xr-section-summary' >Indexes: <span>(3)</span></label><div class='xr-section-inline-details'></div><div class='xr-section-details'><ul class='xr-var-list'><li class='xr-var-item'><div class='xr-index-name'><div>station</div></div><div class='xr-index-preview'>PandasIndex</div><div></div><input id='index-8e7ed4f7-8bad-4e8c-b50b-26a291abf63b' class='xr-index-data-in' type='checkbox'/><label for='index-8e7ed4f7-8bad-4e8c-b50b-26a291abf63b' title='Show/Hide index repr'><svg class='icon xr-icon-database'><use xlink:href='#icon-database'></use></svg></label><div class='xr-index-data'><pre>PandasIndex(Float64Index([1.0], dtype=&#x27;float64&#x27;, name=&#x27;station&#x27;))</pre></div></li><li class='xr-var-item'><div class='xr-index-name'><div>time</div></div><div class='xr-index-preview'>PandasIndex</div><div></div><input id='index-0de788d5-15a8-40f2-a63e-e21d774716f8' class='xr-index-data-in' type='checkbox'/><label for='index-0de788d5-15a8-40f2-a63e-e21d774716f8' title='Show/Hide index repr'><svg class='icon xr-icon-database'><use xlink:href='#icon-database'></use></svg></label><div class='xr-index-data'><pre>PandasIndex(DatetimeIndex([&#x27;2022-08-30 11:21:03&#x27;, &#x27;2022-08-30 11:21:04&#x27;,\n               &#x27;2022-08-30 11:21:05&#x27;, &#x27;2022-08-30 11:21:06&#x27;,\n               &#x27;2022-08-30 11:21:07&#x27;],\n              dtype=&#x27;datetime64[ns]&#x27;, name=&#x27;time&#x27;, freq=&#x27;S&#x27;))</pre></div></li><li class='xr-var-item'><div class='xr-index-name'><div>maintenancetime</div></div><div class='xr-index-preview'>PandasIndex</div><div></div><input id='index-82d87003-1c8f-4223-be5e-2bd08b1df18d' class='xr-index-data-in' type='checkbox'/><label for='index-82d87003-1c8f-4223-be5e-2bd08b1df18d' title='Show/Hide index repr'><svg class='icon xr-icon-database'><use xlink:href='#icon-database'></use></svg></label><div class='xr-index-data'><pre>PandasIndex(DatetimeIndex([&#x27;2023-05-08 16:09:06&#x27;], dtype=&#x27;datetime64[ns]&#x27;, name=&#x27;maintenancetime&#x27;, freq=None))</pre></div></li></ul></div></li><li class='xr-section-item'><input id='section-199f7dcc-f764-4b38-ac05-30a74d4aafeb' class='xr-section-summary-in' type='checkbox'  ><label for='section-199f7dcc-f764-4b38-ac05-30a74d4aafeb' class='xr-section-summary' >Attributes: <span>(31)</span></label><div class='xr-section-inline-details'></div><div class='xr-section-details'><dl class='xr-attrs'><dt><span>Conventions :</span></dt><dd>CF-1.10, ACDD-1.3</dd><dt><span>title :</span></dt><dd>TROPOS pyranometer network (PyrNet) observational data set</dd><dt><span>history :</span></dt><dd>2024-02-29T07:54:36: Generated level l1a  by pyrnet version 0.2.4+0.gbfcb0c5.dirty; </dd><dt><span>institution :</span></dt><dd>Leibniz Institute for Tropospheric Research (TROPOS)</dd><dt><span>source :</span></dt><dd>TROPOS pyranometer network (PyrNet)</dd><dt><span>references :</span></dt><dd>https://doi.org/10.5194/amt-9-1153-2016</dd><dt><span>Department :</span></dt><dd>Remote Sensing of Atmospheric Processes</dd><dt><span>Department_team :</span></dt><dd>Clouds, Aerosol and Radiation</dd><dt><span>Address :</span></dt><dd>Permoser Str. 15, 04318 Leipzig, Germany</dd><dt><span>Contact_person :</span></dt><dd>Andreas Macke and the clouds, aerosol and radiation team of the remote sensing department, mailto:andreas.macke@tropos.de</dd><dt><span>Contributor_name :</span></dt><dd></dd><dt><span>Contributor_role :</span></dt><dd></dd><dt><span>Authors_software :</span></dt><dd>Hartwig Deneke, Jonas Witthuhn, mailto:deneke@tropos.de</dd><dt><span>Creator_name :</span></dt><dd></dd><dt><span>Project :</span></dt><dd></dd><dt><span>Standard_name_vocabulary :</span></dt><dd>CF Standard Name Table v81</dd><dt><span>License :</span></dt><dd>CC-BY-SA 3.0</dd><dt><span>TESTNOTE :</span></dt><dd>This is a test note.</dd><dt><span>processing_level :</span></dt><dd>l1a</dd><dt><span>product_version :</span></dt><dd>0.2.4+0.gbfcb0c5.dirty</dd><dt><span>date_created :</span></dt><dd>2024-02-29T07:54:36</dd><dt><span>geospatial_lat_min :</span></dt><dd>51.390208333333334</dd><dt><span>geospatial_lat_max :</span></dt><dd>51.390211666666666</dd><dt><span>geospatial_lat_units :</span></dt><dd>degN</dd><dt><span>geospatial_lon_min :</span></dt><dd>11.885246666666667</dd><dt><span>geospatial_lon_max :</span></dt><dd>11.885256666666667</dd><dt><span>geospatial_lon_units :</span></dt><dd>degE</dd><dt><span>time_coverage_start :</span></dt><dd>2022-08-30T11:21:04.065000</dd><dt><span>time_coverage_end :</span></dt><dd>2022-08-30T11:21:09</dd><dt><span>time_coverage_duration :</span></dt><dd>P0DT0H0M4.935S</dd><dt><span>time_coverage_resolution :</span></dt><dd>P0DT0H0M1.23375S</dd></dl></div></li></ul></div></div>"
     },
     "execution_count": 30,
     "metadata": {},
     "output_type": "execute_result"
    }
   ],
   "source": [
    "#|dropcode\n",
    "#|dropout\n",
    "ds_l1b = ds_l1b.assign(\n",
    "    {\n",
    "        \"szen\": ((\"time\", \"station\"), szen[:,None]),\n",
    "        \"sazi\": ((\"time\", \"station\"), sazi[:,None]),\n",
    "        \"esd\": (\"station\", [esd])\n",
    "    }\n",
    ")\n",
    "for key in ['szen', 'sazi','esd']:\n",
    "    ds_l1b[key].attrs.update(vattrs[key])\n",
    "    # ds_l1b[key].encoding.update(vencode[key])\n",
    "ds_l1b"
   ]
  },
  {
   "cell_type": "markdown",
   "metadata": {
    "collapsed": false
   },
   "source": [
    "### **(Not implemented)** Alignment detection\n",
    "Detect the alignment of the instruments assuming perfect alignment at the beginning of the maintenance period. Refine GTI *hangle* and *vangle* if available. "
   ]
  },
  {
   "cell_type": "markdown",
   "source": [
    "### Calibrate radiation flux\n",
    "\n",
    "Calibration and correction of measured voltage (U) is done via the following equations:\n",
    "\n",
    "$ \\mathrm{GHI} = \\mathrm{U} * \\mathrm{C}_\\mathrm{a} * \\mathrm{C}_\\mathrm{c}(\\mu_a) * \\frac{\\mu_0}{\\mu_a}$,\n",
    "\n",
    "$ \\mathrm{GTI} = \\mathrm{U} * \\mathrm{C}_\\mathrm{a} * \\mathrm{C}_\\mathrm{c}(\\mu_a)$,\n",
    "\n",
    "with the absolute calibration factor $\\mathrm{C}_\\mathrm{a}$ $\\left(\\frac{W}{m^2}V^{-1}\\right)$ and the cosine correction factor $\\mathrm{C}_\\mathrm{c}$ which depends on the cosine of the apparent solar zenith angle ($\\mu_a$). The fraction $\\frac{\\mu_0}{\\mu_a}$ is applied as a factor to correct for misalignment (neglecting diffuse radiation) ([Boers et al. (1998)](http://dx.doi.org/10.1029/98JD01431)).\n",
    "\n",
    "Therefore, the full calibration including cosine and misalignment correction can only be applied if the apparent zenith angle is known. For GHI we apply the full calibration assuming $\\mu_a = \\mu_0$. For GTI, only the absolute calibration is added. GTI cosine correction is applied only if both *hangle* and *vangle* are known.  "
   ],
   "metadata": {
    "collapsed": false
   }
  },
  {
   "cell_type": "code",
   "execution_count": 31,
   "outputs": [
    {
     "name": "stdout",
     "output_type": "stream",
     "text": [
      "Meta Lookup:\n",
      ">> Box = 1.0\n",
      ">> serial(s) = ['S12128.001', 'S12137.049']\n",
      ">> calibration factor(s) = [7.73, 6.98]\n",
      ">> cosine correction factor = 1.45 - 3.04·x¹ + 5.59·x² - 3.01·x³,\n",
      ">>     with x = cos(apparent solar zenith angle)\n"
     ]
    },
    {
     "data": {
      "text/plain": "<xarray.Dataset>\nDimensions:               (station: 1, time: 5, maintenancetime: 1)\nCoordinates:\n  * station               (station) float64 1.0\n  * time                  (time) datetime64[ns] 2022-08-30T11:21:03 ... 2022-...\n  * maintenancetime       (maintenancetime) datetime64[ns] 2023-05-08T16:09:06\nData variables: (12/18)\n    ghi                   (time, station) float64 269.9 269.7 280.9 280.9 280.9\n    gti                   (time, station) float64 277.3 277.3 288.8 288.6 288.6\n    ta                    (time, station) float32 294.8 294.7 294.8 294.7 294.8\n    rh                    (time, station) float32 0.6263 0.6266 ... 0.6271 0.629\n    battery_voltage       (time, station) float32 6.445 6.446 6.45 6.448 6.458\n    ghi_min               (time, station) float64 269.9 268.5 280.9 280.9 280.9\n    ...                    ...\n    lon                   (time, station) float64 nan nan 11.89 11.89 11.89\n    maintenance_flag_ghi  (maintenancetime, station) float32 9.0\n    maintenance_flag_gti  (maintenancetime, station) float32 7.0\n    szen                  (time, station) float64 nan nan 42.51 42.51 42.51\n    sazi                  (time, station) float64 nan nan 182.9 182.9 182.9\n    esd                   (station) float64 1.01\nAttributes: (12/31)\n    Conventions:               CF-1.10, ACDD-1.3\n    title:                     TROPOS pyranometer network (PyrNet) observatio...\n    history:                   2024-02-29T07:54:36: Generated level l1a  by p...\n    institution:               Leibniz Institute for Tropospheric Research (T...\n    source:                    TROPOS pyranometer network (PyrNet)\n    references:                https://doi.org/10.5194/amt-9-1153-2016\n    ...                        ...\n    geospatial_lon_max:        11.885256666666667\n    geospatial_lon_units:      degE\n    time_coverage_start:       2022-08-30T11:21:04.065000\n    time_coverage_end:         2022-08-30T11:21:09\n    time_coverage_duration:    P0DT0H0M4.935S\n    time_coverage_resolution:  P0DT0H0M1.23375S",
      "text/html": "<div><svg style=\"position: absolute; width: 0; height: 0; overflow: hidden\">\n<defs>\n<symbol id=\"icon-database\" viewBox=\"0 0 32 32\">\n<path d=\"M16 0c-8.837 0-16 2.239-16 5v4c0 2.761 7.163 5 16 5s16-2.239 16-5v-4c0-2.761-7.163-5-16-5z\"></path>\n<path d=\"M16 17c-8.837 0-16-2.239-16-5v6c0 2.761 7.163 5 16 5s16-2.239 16-5v-6c0 2.761-7.163 5-16 5z\"></path>\n<path d=\"M16 26c-8.837 0-16-2.239-16-5v6c0 2.761 7.163 5 16 5s16-2.239 16-5v-6c0 2.761-7.163 5-16 5z\"></path>\n</symbol>\n<symbol id=\"icon-file-text2\" viewBox=\"0 0 32 32\">\n<path d=\"M28.681 7.159c-0.694-0.947-1.662-2.053-2.724-3.116s-2.169-2.030-3.116-2.724c-1.612-1.182-2.393-1.319-2.841-1.319h-15.5c-1.378 0-2.5 1.121-2.5 2.5v27c0 1.378 1.122 2.5 2.5 2.5h23c1.378 0 2.5-1.122 2.5-2.5v-19.5c0-0.448-0.137-1.23-1.319-2.841zM24.543 5.457c0.959 0.959 1.712 1.825 2.268 2.543h-4.811v-4.811c0.718 0.556 1.584 1.309 2.543 2.268zM28 29.5c0 0.271-0.229 0.5-0.5 0.5h-23c-0.271 0-0.5-0.229-0.5-0.5v-27c0-0.271 0.229-0.5 0.5-0.5 0 0 15.499-0 15.5 0v7c0 0.552 0.448 1 1 1h7v19.5z\"></path>\n<path d=\"M23 26h-14c-0.552 0-1-0.448-1-1s0.448-1 1-1h14c0.552 0 1 0.448 1 1s-0.448 1-1 1z\"></path>\n<path d=\"M23 22h-14c-0.552 0-1-0.448-1-1s0.448-1 1-1h14c0.552 0 1 0.448 1 1s-0.448 1-1 1z\"></path>\n<path d=\"M23 18h-14c-0.552 0-1-0.448-1-1s0.448-1 1-1h14c0.552 0 1 0.448 1 1s-0.448 1-1 1z\"></path>\n</symbol>\n</defs>\n</svg>\n<style>/* CSS stylesheet for displaying xarray objects in jupyterlab.\n *\n */\n\n:root {\n  --xr-font-color0: var(--jp-content-font-color0, rgba(0, 0, 0, 1));\n  --xr-font-color2: var(--jp-content-font-color2, rgba(0, 0, 0, 0.54));\n  --xr-font-color3: var(--jp-content-font-color3, rgba(0, 0, 0, 0.38));\n  --xr-border-color: var(--jp-border-color2, #e0e0e0);\n  --xr-disabled-color: var(--jp-layout-color3, #bdbdbd);\n  --xr-background-color: var(--jp-layout-color0, white);\n  --xr-background-color-row-even: var(--jp-layout-color1, white);\n  --xr-background-color-row-odd: var(--jp-layout-color2, #eeeeee);\n}\n\nhtml[theme=dark],\nbody[data-theme=dark],\nbody.vscode-dark {\n  --xr-font-color0: rgba(255, 255, 255, 1);\n  --xr-font-color2: rgba(255, 255, 255, 0.54);\n  --xr-font-color3: rgba(255, 255, 255, 0.38);\n  --xr-border-color: #1F1F1F;\n  --xr-disabled-color: #515151;\n  --xr-background-color: #111111;\n  --xr-background-color-row-even: #111111;\n  --xr-background-color-row-odd: #313131;\n}\n\n.xr-wrap {\n  display: block !important;\n  min-width: 300px;\n  max-width: 700px;\n}\n\n.xr-text-repr-fallback {\n  /* fallback to plain text repr when CSS is not injected (untrusted notebook) */\n  display: none;\n}\n\n.xr-header {\n  padding-top: 6px;\n  padding-bottom: 6px;\n  margin-bottom: 4px;\n  border-bottom: solid 1px var(--xr-border-color);\n}\n\n.xr-header > div,\n.xr-header > ul {\n  display: inline;\n  margin-top: 0;\n  margin-bottom: 0;\n}\n\n.xr-obj-type,\n.xr-array-name {\n  margin-left: 2px;\n  margin-right: 10px;\n}\n\n.xr-obj-type {\n  color: var(--xr-font-color2);\n}\n\n.xr-sections {\n  padding-left: 0 !important;\n  display: grid;\n  grid-template-columns: 150px auto auto 1fr 20px 20px;\n}\n\n.xr-section-item {\n  display: contents;\n}\n\n.xr-section-item input {\n  display: none;\n}\n\n.xr-section-item input + label {\n  color: var(--xr-disabled-color);\n}\n\n.xr-section-item input:enabled + label {\n  cursor: pointer;\n  color: var(--xr-font-color2);\n}\n\n.xr-section-item input:enabled + label:hover {\n  color: var(--xr-font-color0);\n}\n\n.xr-section-summary {\n  grid-column: 1;\n  color: var(--xr-font-color2);\n  font-weight: 500;\n}\n\n.xr-section-summary > span {\n  display: inline-block;\n  padding-left: 0.5em;\n}\n\n.xr-section-summary-in:disabled + label {\n  color: var(--xr-font-color2);\n}\n\n.xr-section-summary-in + label:before {\n  display: inline-block;\n  content: '►';\n  font-size: 11px;\n  width: 15px;\n  text-align: center;\n}\n\n.xr-section-summary-in:disabled + label:before {\n  color: var(--xr-disabled-color);\n}\n\n.xr-section-summary-in:checked + label:before {\n  content: '▼';\n}\n\n.xr-section-summary-in:checked + label > span {\n  display: none;\n}\n\n.xr-section-summary,\n.xr-section-inline-details {\n  padding-top: 4px;\n  padding-bottom: 4px;\n}\n\n.xr-section-inline-details {\n  grid-column: 2 / -1;\n}\n\n.xr-section-details {\n  display: none;\n  grid-column: 1 / -1;\n  margin-bottom: 5px;\n}\n\n.xr-section-summary-in:checked ~ .xr-section-details {\n  display: contents;\n}\n\n.xr-array-wrap {\n  grid-column: 1 / -1;\n  display: grid;\n  grid-template-columns: 20px auto;\n}\n\n.xr-array-wrap > label {\n  grid-column: 1;\n  vertical-align: top;\n}\n\n.xr-preview {\n  color: var(--xr-font-color3);\n}\n\n.xr-array-preview,\n.xr-array-data {\n  padding: 0 5px !important;\n  grid-column: 2;\n}\n\n.xr-array-data,\n.xr-array-in:checked ~ .xr-array-preview {\n  display: none;\n}\n\n.xr-array-in:checked ~ .xr-array-data,\n.xr-array-preview {\n  display: inline-block;\n}\n\n.xr-dim-list {\n  display: inline-block !important;\n  list-style: none;\n  padding: 0 !important;\n  margin: 0;\n}\n\n.xr-dim-list li {\n  display: inline-block;\n  padding: 0;\n  margin: 0;\n}\n\n.xr-dim-list:before {\n  content: '(';\n}\n\n.xr-dim-list:after {\n  content: ')';\n}\n\n.xr-dim-list li:not(:last-child):after {\n  content: ',';\n  padding-right: 5px;\n}\n\n.xr-has-index {\n  font-weight: bold;\n}\n\n.xr-var-list,\n.xr-var-item {\n  display: contents;\n}\n\n.xr-var-item > div,\n.xr-var-item label,\n.xr-var-item > .xr-var-name span {\n  background-color: var(--xr-background-color-row-even);\n  margin-bottom: 0;\n}\n\n.xr-var-item > .xr-var-name:hover span {\n  padding-right: 5px;\n}\n\n.xr-var-list > li:nth-child(odd) > div,\n.xr-var-list > li:nth-child(odd) > label,\n.xr-var-list > li:nth-child(odd) > .xr-var-name span {\n  background-color: var(--xr-background-color-row-odd);\n}\n\n.xr-var-name {\n  grid-column: 1;\n}\n\n.xr-var-dims {\n  grid-column: 2;\n}\n\n.xr-var-dtype {\n  grid-column: 3;\n  text-align: right;\n  color: var(--xr-font-color2);\n}\n\n.xr-var-preview {\n  grid-column: 4;\n}\n\n.xr-index-preview {\n  grid-column: 2 / 5;\n  color: var(--xr-font-color2);\n}\n\n.xr-var-name,\n.xr-var-dims,\n.xr-var-dtype,\n.xr-preview,\n.xr-attrs dt {\n  white-space: nowrap;\n  overflow: hidden;\n  text-overflow: ellipsis;\n  padding-right: 10px;\n}\n\n.xr-var-name:hover,\n.xr-var-dims:hover,\n.xr-var-dtype:hover,\n.xr-attrs dt:hover {\n  overflow: visible;\n  width: auto;\n  z-index: 1;\n}\n\n.xr-var-attrs,\n.xr-var-data,\n.xr-index-data {\n  display: none;\n  background-color: var(--xr-background-color) !important;\n  padding-bottom: 5px !important;\n}\n\n.xr-var-attrs-in:checked ~ .xr-var-attrs,\n.xr-var-data-in:checked ~ .xr-var-data,\n.xr-index-data-in:checked ~ .xr-index-data {\n  display: block;\n}\n\n.xr-var-data > table {\n  float: right;\n}\n\n.xr-var-name span,\n.xr-var-data,\n.xr-index-name div,\n.xr-index-data,\n.xr-attrs {\n  padding-left: 25px !important;\n}\n\n.xr-attrs,\n.xr-var-attrs,\n.xr-var-data,\n.xr-index-data {\n  grid-column: 1 / -1;\n}\n\ndl.xr-attrs {\n  padding: 0;\n  margin: 0;\n  display: grid;\n  grid-template-columns: 125px auto;\n}\n\n.xr-attrs dt,\n.xr-attrs dd {\n  padding: 0;\n  margin: 0;\n  float: left;\n  padding-right: 10px;\n  width: auto;\n}\n\n.xr-attrs dt {\n  font-weight: normal;\n  grid-column: 1;\n}\n\n.xr-attrs dt:hover span {\n  display: inline-block;\n  background: var(--xr-background-color);\n  padding-right: 10px;\n}\n\n.xr-attrs dd {\n  grid-column: 2;\n  white-space: pre-wrap;\n  word-break: break-all;\n}\n\n.xr-icon-database,\n.xr-icon-file-text2,\n.xr-no-icon {\n  display: inline-block;\n  vertical-align: middle;\n  width: 1em;\n  height: 1.5em !important;\n  stroke-width: 0;\n  stroke: currentColor;\n  fill: currentColor;\n}\n</style><pre class='xr-text-repr-fallback'>&lt;xarray.Dataset&gt;\nDimensions:               (station: 1, time: 5, maintenancetime: 1)\nCoordinates:\n  * station               (station) float64 1.0\n  * time                  (time) datetime64[ns] 2022-08-30T11:21:03 ... 2022-...\n  * maintenancetime       (maintenancetime) datetime64[ns] 2023-05-08T16:09:06\nData variables: (12/18)\n    ghi                   (time, station) float64 269.9 269.7 280.9 280.9 280.9\n    gti                   (time, station) float64 277.3 277.3 288.8 288.6 288.6\n    ta                    (time, station) float32 294.8 294.7 294.8 294.7 294.8\n    rh                    (time, station) float32 0.6263 0.6266 ... 0.6271 0.629\n    battery_voltage       (time, station) float32 6.445 6.446 6.45 6.448 6.458\n    ghi_min               (time, station) float64 269.9 268.5 280.9 280.9 280.9\n    ...                    ...\n    lon                   (time, station) float64 nan nan 11.89 11.89 11.89\n    maintenance_flag_ghi  (maintenancetime, station) float32 9.0\n    maintenance_flag_gti  (maintenancetime, station) float32 7.0\n    szen                  (time, station) float64 nan nan 42.51 42.51 42.51\n    sazi                  (time, station) float64 nan nan 182.9 182.9 182.9\n    esd                   (station) float64 1.01\nAttributes: (12/31)\n    Conventions:               CF-1.10, ACDD-1.3\n    title:                     TROPOS pyranometer network (PyrNet) observatio...\n    history:                   2024-02-29T07:54:36: Generated level l1a  by p...\n    institution:               Leibniz Institute for Tropospheric Research (T...\n    source:                    TROPOS pyranometer network (PyrNet)\n    references:                https://doi.org/10.5194/amt-9-1153-2016\n    ...                        ...\n    geospatial_lon_max:        11.885256666666667\n    geospatial_lon_units:      degE\n    time_coverage_start:       2022-08-30T11:21:04.065000\n    time_coverage_end:         2022-08-30T11:21:09\n    time_coverage_duration:    P0DT0H0M4.935S\n    time_coverage_resolution:  P0DT0H0M1.23375S</pre><div class='xr-wrap' style='display:none'><div class='xr-header'><div class='xr-obj-type'>xarray.Dataset</div></div><ul class='xr-sections'><li class='xr-section-item'><input id='section-35d3a5bd-5e0e-43dc-9e32-a94f85aeafda' class='xr-section-summary-in' type='checkbox' disabled ><label for='section-35d3a5bd-5e0e-43dc-9e32-a94f85aeafda' class='xr-section-summary'  title='Expand/collapse section'>Dimensions:</label><div class='xr-section-inline-details'><ul class='xr-dim-list'><li><span class='xr-has-index'>station</span>: 1</li><li><span class='xr-has-index'>time</span>: 5</li><li><span class='xr-has-index'>maintenancetime</span>: 1</li></ul></div><div class='xr-section-details'></div></li><li class='xr-section-item'><input id='section-fc0df52d-917a-463e-9bec-cc0e8b00b7b0' class='xr-section-summary-in' type='checkbox'  checked><label for='section-fc0df52d-917a-463e-9bec-cc0e8b00b7b0' class='xr-section-summary' >Coordinates: <span>(3)</span></label><div class='xr-section-inline-details'></div><div class='xr-section-details'><ul class='xr-var-list'><li class='xr-var-item'><div class='xr-var-name'><span class='xr-has-index'>station</span></div><div class='xr-var-dims'>(station)</div><div class='xr-var-dtype'>float64</div><div class='xr-var-preview xr-preview'>1.0</div><input id='attrs-caba6782-d5a2-4f90-9af7-ada812a74814' class='xr-var-attrs-in' type='checkbox' ><label for='attrs-caba6782-d5a2-4f90-9af7-ada812a74814' title='Show/Hide attributes'><svg class='icon xr-icon-file-text2'><use xlink:href='#icon-file-text2'></use></svg></label><input id='data-538fc162-6192-4365-bce0-36d52525d943' class='xr-var-data-in' type='checkbox'><label for='data-538fc162-6192-4365-bce0-36d52525d943' title='Show/Hide data repr'><svg class='icon xr-icon-database'><use xlink:href='#icon-database'></use></svg></label><div class='xr-var-attrs'><dl class='xr-attrs'><dt><span>units :</span></dt><dd>-</dd><dt><span>long_name :</span></dt><dd>PyrNet unit box number</dd></dl></div><div class='xr-var-data'><pre>array([1.])</pre></div></li><li class='xr-var-item'><div class='xr-var-name'><span class='xr-has-index'>time</span></div><div class='xr-var-dims'>(time)</div><div class='xr-var-dtype'>datetime64[ns]</div><div class='xr-var-preview xr-preview'>2022-08-30T11:21:03 ... 2022-08-...</div><input id='attrs-23a8dc4a-9958-492c-914e-508dae7dbbd0' class='xr-var-attrs-in' type='checkbox' disabled><label for='attrs-23a8dc4a-9958-492c-914e-508dae7dbbd0' title='Show/Hide attributes'><svg class='icon xr-icon-file-text2'><use xlink:href='#icon-file-text2'></use></svg></label><input id='data-20d0c355-c1b3-40f7-90af-ed2b071fb794' class='xr-var-data-in' type='checkbox'><label for='data-20d0c355-c1b3-40f7-90af-ed2b071fb794' title='Show/Hide data repr'><svg class='icon xr-icon-database'><use xlink:href='#icon-database'></use></svg></label><div class='xr-var-attrs'><dl class='xr-attrs'></dl></div><div class='xr-var-data'><pre>array([&#x27;2022-08-30T11:21:03.000000000&#x27;, &#x27;2022-08-30T11:21:04.000000000&#x27;,\n       &#x27;2022-08-30T11:21:05.000000000&#x27;, &#x27;2022-08-30T11:21:06.000000000&#x27;,\n       &#x27;2022-08-30T11:21:07.000000000&#x27;], dtype=&#x27;datetime64[ns]&#x27;)</pre></div></li><li class='xr-var-item'><div class='xr-var-name'><span class='xr-has-index'>maintenancetime</span></div><div class='xr-var-dims'>(maintenancetime)</div><div class='xr-var-dtype'>datetime64[ns]</div><div class='xr-var-preview xr-preview'>2023-05-08T16:09:06</div><input id='attrs-96e91634-6ae2-404e-b625-cfdd76e09078' class='xr-var-attrs-in' type='checkbox' disabled><label for='attrs-96e91634-6ae2-404e-b625-cfdd76e09078' title='Show/Hide attributes'><svg class='icon xr-icon-file-text2'><use xlink:href='#icon-file-text2'></use></svg></label><input id='data-4313ce89-ac66-4fe2-9e72-6b37c2948b51' class='xr-var-data-in' type='checkbox'><label for='data-4313ce89-ac66-4fe2-9e72-6b37c2948b51' title='Show/Hide data repr'><svg class='icon xr-icon-database'><use xlink:href='#icon-database'></use></svg></label><div class='xr-var-attrs'><dl class='xr-attrs'></dl></div><div class='xr-var-data'><pre>array([&#x27;2023-05-08T16:09:06.000000000&#x27;], dtype=&#x27;datetime64[ns]&#x27;)</pre></div></li></ul></div></li><li class='xr-section-item'><input id='section-07e31005-ecb6-4566-8559-97eb07b8d887' class='xr-section-summary-in' type='checkbox'  ><label for='section-07e31005-ecb6-4566-8559-97eb07b8d887' class='xr-section-summary' >Data variables: <span>(18)</span></label><div class='xr-section-inline-details'></div><div class='xr-section-details'><ul class='xr-var-list'><li class='xr-var-item'><div class='xr-var-name'><span>ghi</span></div><div class='xr-var-dims'>(time, station)</div><div class='xr-var-dtype'>float64</div><div class='xr-var-preview xr-preview'>269.9 269.7 280.9 280.9 280.9</div><input id='attrs-e797cda2-706f-46d6-aada-91276b404dec' class='xr-var-attrs-in' type='checkbox' ><label for='attrs-e797cda2-706f-46d6-aada-91276b404dec' title='Show/Hide attributes'><svg class='icon xr-icon-file-text2'><use xlink:href='#icon-file-text2'></use></svg></label><input id='data-5120b605-71e4-47c6-b503-c4c948b3aa15' class='xr-var-data-in' type='checkbox'><label for='data-5120b605-71e4-47c6-b503-c4c948b3aa15' title='Show/Hide data repr'><svg class='icon xr-icon-database'><use xlink:href='#icon-database'></use></svg></label><div class='xr-var-attrs'><dl class='xr-attrs'><dt><span>units :</span></dt><dd>W m-2</dd><dt><span>long_name :</span></dt><dd>downwelling shortwave flux</dd><dt><span>standard_name :</span></dt><dd>downwelling_shortwave_flux_in_air</dd><dt><span>valid_range :</span></dt><dd>[   0 1023]</dd><dt><span>serial :</span></dt><dd>S12128.001</dd><dt><span>calibration_Cabsolute :</span></dt><dd>129366.10608020698</dd><dt><span>calibration_Ccoscorr :</span></dt><dd>1.45 - 3.04·x¹ + 5.59·x² - 3.01·x³</dd><dt><span>calibration_function :</span></dt><dd>flux (W m-2) = flux (V) * Cabsolute (W m-2 V-1) * Ccoscorr(mua)</dd></dl></div><div class='xr-var-data'><pre>array([[269.860475  ],\n       [269.72137902],\n       [280.90462604],\n       [280.90449869],\n       [280.90437115]])</pre></div></li><li class='xr-var-item'><div class='xr-var-name'><span>gti</span></div><div class='xr-var-dims'>(time, station)</div><div class='xr-var-dtype'>float64</div><div class='xr-var-preview xr-preview'>277.3 277.3 288.8 288.6 288.6</div><input id='attrs-7b0dbdab-f654-4e18-9b36-4918429b22e2' class='xr-var-attrs-in' type='checkbox' ><label for='attrs-7b0dbdab-f654-4e18-9b36-4918429b22e2' title='Show/Hide attributes'><svg class='icon xr-icon-file-text2'><use xlink:href='#icon-file-text2'></use></svg></label><input id='data-f0b98920-acba-4ff2-bb17-b88c38e6e9d4' class='xr-var-data-in' type='checkbox'><label for='data-f0b98920-acba-4ff2-bb17-b88c38e6e9d4' title='Show/Hide data repr'><svg class='icon xr-icon-database'><use xlink:href='#icon-database'></use></svg></label><div class='xr-var-attrs'><dl class='xr-attrs'><dt><span>units :</span></dt><dd>W m-2</dd><dt><span>long_name :</span></dt><dd>downwelling shortwave flux measured on secondary platform, might be tilted</dd><dt><span>standard_name :</span></dt><dd>downwelling_shortwave_flux_in_air</dd><dt><span>valid_range :</span></dt><dd>[   0 1023]</dd><dt><span>hangle :</span></dt><dd>0.0</dd><dt><span>vangle :</span></dt><dd>0.0</dd><dt><span>serial :</span></dt><dd>S12137.049</dd><dt><span>calibration_Cabsolute :</span></dt><dd>143266.47564469912</dd><dt><span>calibration_Ccoscorr :</span></dt><dd>1.45 - 3.04·x¹ + 5.59·x² - 3.01·x³</dd><dt><span>calibration_function :</span></dt><dd>flux (W m-2) = flux (V) * Cabsolute (W m-2 V-1) * Ccoscorr(mua)</dd></dl></div><div class='xr-var-data'><pre>array([[277.28995527],\n       [277.28995527],\n       [288.79852425],\n       [288.63802999],\n       [288.63789894]])</pre></div></li><li class='xr-var-item'><div class='xr-var-name'><span>ta</span></div><div class='xr-var-dims'>(time, station)</div><div class='xr-var-dtype'>float32</div><div class='xr-var-preview xr-preview'>294.8 294.7 294.8 294.7 294.8</div><input id='attrs-9fd5e02d-2105-4615-81fe-791c50982231' class='xr-var-attrs-in' type='checkbox' ><label for='attrs-9fd5e02d-2105-4615-81fe-791c50982231' title='Show/Hide attributes'><svg class='icon xr-icon-file-text2'><use xlink:href='#icon-file-text2'></use></svg></label><input id='data-c2b09753-bbdb-4aac-93f4-40c7d3722327' class='xr-var-data-in' type='checkbox'><label for='data-c2b09753-bbdb-4aac-93f4-40c7d3722327' title='Show/Hide data repr'><svg class='icon xr-icon-database'><use xlink:href='#icon-database'></use></svg></label><div class='xr-var-attrs'><dl class='xr-attrs'><dt><span>units :</span></dt><dd>K</dd><dt><span>long_name :</span></dt><dd>air temperature</dd><dt><span>standard_name :</span></dt><dd>air_temperature</dd><dt><span>valid_range :</span></dt><dd>[  0 775]</dd></dl></div><div class='xr-var-data'><pre>array([[294.7758 ],\n       [294.74997],\n       [294.7887 ],\n       [294.74997],\n       [294.82742]], dtype=float32)</pre></div></li><li class='xr-var-item'><div class='xr-var-name'><span>rh</span></div><div class='xr-var-dims'>(time, station)</div><div class='xr-var-dtype'>float32</div><div class='xr-var-preview xr-preview'>0.6263 0.6266 0.6271 0.6271 0.629</div><input id='attrs-1c0500aa-bdc4-427c-b532-137f86bad42c' class='xr-var-attrs-in' type='checkbox' ><label for='attrs-1c0500aa-bdc4-427c-b532-137f86bad42c' title='Show/Hide attributes'><svg class='icon xr-icon-file-text2'><use xlink:href='#icon-file-text2'></use></svg></label><input id='data-765758eb-3b79-4b55-9b95-19fcad9a70bd' class='xr-var-data-in' type='checkbox'><label for='data-765758eb-3b79-4b55-9b95-19fcad9a70bd' title='Show/Hide data repr'><svg class='icon xr-icon-database'><use xlink:href='#icon-database'></use></svg></label><div class='xr-var-attrs'><dl class='xr-attrs'><dt><span>units :</span></dt><dd>1</dd><dt><span>long_name :</span></dt><dd>air relative humidity</dd><dt><span>standard_name :</span></dt><dd>relative_humidity</dd><dt><span>valid_range :</span></dt><dd>[  0 775]</dd></dl></div><div class='xr-var-data'><pre>array([[0.62632257],\n       [0.6265806 ],\n       [0.6270968 ],\n       [0.6270968 ],\n       [0.62903225]], dtype=float32)</pre></div></li><li class='xr-var-item'><div class='xr-var-name'><span>battery_voltage</span></div><div class='xr-var-dims'>(time, station)</div><div class='xr-var-dtype'>float32</div><div class='xr-var-preview xr-preview'>6.445 6.446 6.45 6.448 6.458</div><input id='attrs-29eb03ef-f50f-48bf-82ab-f5fbd420d52a' class='xr-var-attrs-in' type='checkbox' ><label for='attrs-29eb03ef-f50f-48bf-82ab-f5fbd420d52a' title='Show/Hide attributes'><svg class='icon xr-icon-file-text2'><use xlink:href='#icon-file-text2'></use></svg></label><input id='data-b4fdcbf5-74ff-4f4e-b89f-865f68426cfb' class='xr-var-data-in' type='checkbox'><label for='data-b4fdcbf5-74ff-4f4e-b89f-865f68426cfb' title='Show/Hide data repr'><svg class='icon xr-icon-database'><use xlink:href='#icon-database'></use></svg></label><div class='xr-var-attrs'><dl class='xr-attrs'><dt><span>units :</span></dt><dd>V</dd><dt><span>standard_name :</span></dt><dd>battery_voltage</dd><dt><span>valid_range :</span></dt><dd>[  0 992]</dd></dl></div><div class='xr-var-data'><pre>array([[6.4451613],\n       [6.445807 ],\n       [6.4496775],\n       [6.4477415],\n       [6.4580646]], dtype=float32)</pre></div></li><li class='xr-var-item'><div class='xr-var-name'><span>ghi_min</span></div><div class='xr-var-dims'>(time, station)</div><div class='xr-var-dtype'>float64</div><div class='xr-var-preview xr-preview'>269.9 268.5 280.9 280.9 280.9</div><input id='attrs-d07a3da3-5c94-4456-bc66-17101c22af81' class='xr-var-attrs-in' type='checkbox' ><label for='attrs-d07a3da3-5c94-4456-bc66-17101c22af81' title='Show/Hide attributes'><svg class='icon xr-icon-file-text2'><use xlink:href='#icon-file-text2'></use></svg></label><input id='data-9d7497cb-e424-4d76-9b3b-f9a3d31f4ef1' class='xr-var-data-in' type='checkbox'><label for='data-9d7497cb-e424-4d76-9b3b-f9a3d31f4ef1' title='Show/Hide data repr'><svg class='icon xr-icon-database'><use xlink:href='#icon-database'></use></svg></label><div class='xr-var-attrs'><dl class='xr-attrs'><dt><span>units :</span></dt><dd>W m-2</dd><dt><span>long_name :</span></dt><dd>downwelling shortwave flux</dd><dt><span>standard_name :</span></dt><dd>min_downwelling_shortwave_flux_in_air</dd><dt><span>valid_range :</span></dt><dd>[   0 1023]</dd><dt><span>serial :</span></dt><dd>S12128.001</dd><dt><span>calibration_Cabsolute :</span></dt><dd>129366.10608020698</dd><dt><span>calibration_Ccoscorr :</span></dt><dd>1.45 - 3.04·x¹ + 5.59·x² - 3.01·x³</dd><dt><span>calibration_function :</span></dt><dd>flux (W m-2) = flux (V) * Cabsolute (W m-2 V-1) * Ccoscorr(mua)</dd></dl></div><div class='xr-var-data'><pre>array([[269.860475  ],\n       [268.46945498],\n       [280.90462604],\n       [280.90449869],\n       [280.90437115]])</pre></div></li><li class='xr-var-item'><div class='xr-var-name'><span>gti_min</span></div><div class='xr-var-dims'>(time, station)</div><div class='xr-var-dtype'>float64</div><div class='xr-var-preview xr-preview'>277.3 275.7 287.0 288.6 288.6</div><input id='attrs-02f23859-223b-4df2-ae55-13e5de983629' class='xr-var-attrs-in' type='checkbox' ><label for='attrs-02f23859-223b-4df2-ae55-13e5de983629' title='Show/Hide attributes'><svg class='icon xr-icon-file-text2'><use xlink:href='#icon-file-text2'></use></svg></label><input id='data-e4ca7f0b-5655-4b71-839a-f701f62de916' class='xr-var-data-in' type='checkbox'><label for='data-e4ca7f0b-5655-4b71-839a-f701f62de916' title='Show/Hide data repr'><svg class='icon xr-icon-database'><use xlink:href='#icon-database'></use></svg></label><div class='xr-var-attrs'><dl class='xr-attrs'><dt><span>units :</span></dt><dd>W m-2</dd><dt><span>long_name :</span></dt><dd>downwelling shortwave flux measured on secondary platform, might be tilted</dd><dt><span>standard_name :</span></dt><dd>min_downwelling_shortwave_flux_in_air</dd><dt><span>valid_range :</span></dt><dd>[   0 1023]</dd><dt><span>hangle :</span></dt><dd>0.0</dd><dt><span>vangle :</span></dt><dd>0.0</dd><dt><span>serial :</span></dt><dd>S12137.049</dd><dt><span>calibration_Cabsolute :</span></dt><dd>143266.47564469912</dd><dt><span>calibration_Ccoscorr :</span></dt><dd>1.45 - 3.04·x¹ + 5.59·x² - 3.01·x³</dd><dt><span>calibration_function :</span></dt><dd>flux (W m-2) = flux (V) * Cabsolute (W m-2 V-1) * Ccoscorr(mua)</dd></dl></div><div class='xr-var-data'><pre>array([[277.28995527],\n       [275.74945367],\n       [287.03461358],\n       [288.63802999],\n       [288.63789894]])</pre></div></li><li class='xr-var-item'><div class='xr-var-name'><span>ghi_max</span></div><div class='xr-var-dims'>(time, station)</div><div class='xr-var-dtype'>float64</div><div class='xr-var-preview xr-preview'>269.9 269.9 280.9 280.9 280.9</div><input id='attrs-5cb02c59-25a6-4d59-b471-8b0ad795cdaa' class='xr-var-attrs-in' type='checkbox' ><label for='attrs-5cb02c59-25a6-4d59-b471-8b0ad795cdaa' title='Show/Hide attributes'><svg class='icon xr-icon-file-text2'><use xlink:href='#icon-file-text2'></use></svg></label><input id='data-d81451b7-a43d-4942-9068-64593b9b3844' class='xr-var-data-in' type='checkbox'><label for='data-d81451b7-a43d-4942-9068-64593b9b3844' title='Show/Hide data repr'><svg class='icon xr-icon-database'><use xlink:href='#icon-database'></use></svg></label><div class='xr-var-attrs'><dl class='xr-attrs'><dt><span>units :</span></dt><dd>W m-2</dd><dt><span>long_name :</span></dt><dd>downwelling shortwave flux</dd><dt><span>standard_name :</span></dt><dd>max_downwelling_shortwave_flux_in_air</dd><dt><span>valid_range :</span></dt><dd>[   0 1023]</dd><dt><span>serial :</span></dt><dd>S12128.001</dd><dt><span>calibration_Cabsolute :</span></dt><dd>129366.10608020698</dd><dt><span>calibration_Ccoscorr :</span></dt><dd>1.45 - 3.04·x¹ + 5.59·x² - 3.01·x³</dd><dt><span>calibration_function :</span></dt><dd>flux (W m-2) = flux (V) * Cabsolute (W m-2 V-1) * Ccoscorr(mua)</dd></dl></div><div class='xr-var-data'><pre>array([[269.860475  ],\n       [269.860475  ],\n       [280.90462604],\n       [280.90449869],\n       [280.90437115]])</pre></div></li><li class='xr-var-item'><div class='xr-var-name'><span>gti_max</span></div><div class='xr-var-dims'>(time, station)</div><div class='xr-var-dtype'>float64</div><div class='xr-var-preview xr-preview'>277.3 278.8 290.2 288.6 288.6</div><input id='attrs-dc663b54-af9b-4682-8b53-4e1e30e54eca' class='xr-var-attrs-in' type='checkbox' ><label for='attrs-dc663b54-af9b-4682-8b53-4e1e30e54eca' title='Show/Hide attributes'><svg class='icon xr-icon-file-text2'><use xlink:href='#icon-file-text2'></use></svg></label><input id='data-5ab2adf4-eb39-426f-bb7f-c6885781b0a3' class='xr-var-data-in' type='checkbox'><label for='data-5ab2adf4-eb39-426f-bb7f-c6885781b0a3' title='Show/Hide data repr'><svg class='icon xr-icon-database'><use xlink:href='#icon-database'></use></svg></label><div class='xr-var-attrs'><dl class='xr-attrs'><dt><span>units :</span></dt><dd>W m-2</dd><dt><span>long_name :</span></dt><dd>downwelling shortwave flux measured on secondary platform, might be tilted</dd><dt><span>standard_name :</span></dt><dd>max_downwelling_shortwave_flux_in_air</dd><dt><span>valid_range :</span></dt><dd>[   0 1023]</dd><dt><span>hangle :</span></dt><dd>0.0</dd><dt><span>vangle :</span></dt><dd>0.0</dd><dt><span>serial :</span></dt><dd>S12137.049</dd><dt><span>calibration_Cabsolute :</span></dt><dd>143266.47564469912</dd><dt><span>calibration_Ccoscorr :</span></dt><dd>1.45 - 3.04·x¹ + 5.59·x² - 3.01·x³</dd><dt><span>calibration_function :</span></dt><dd>flux (W m-2) = flux (V) * Cabsolute (W m-2 V-1) * Ccoscorr(mua)</dd></dl></div><div class='xr-var-data'><pre>array([[277.28995527],\n       [278.83045688],\n       [290.24170811],\n       [288.63802999],\n       [288.63789894]])</pre></div></li><li class='xr-var-item'><div class='xr-var-name'><span>ghi_std</span></div><div class='xr-var-dims'>(time, station)</div><div class='xr-var-dtype'>float64</div><div class='xr-var-preview xr-preview'>0.0 0.4399 0.0 0.0 0.0</div><input id='attrs-610890a2-b623-4f4a-8041-74528d14936b' class='xr-var-attrs-in' type='checkbox' ><label for='attrs-610890a2-b623-4f4a-8041-74528d14936b' title='Show/Hide attributes'><svg class='icon xr-icon-file-text2'><use xlink:href='#icon-file-text2'></use></svg></label><input id='data-6302c400-6b44-4303-bbf9-2949ebd77ea9' class='xr-var-data-in' type='checkbox'><label for='data-6302c400-6b44-4303-bbf9-2949ebd77ea9' title='Show/Hide data repr'><svg class='icon xr-icon-database'><use xlink:href='#icon-database'></use></svg></label><div class='xr-var-attrs'><dl class='xr-attrs'><dt><span>units :</span></dt><dd>W m-2</dd><dt><span>long_name :</span></dt><dd>downwelling shortwave flux</dd><dt><span>standard_name :</span></dt><dd>std_downwelling_shortwave_flux_in_air</dd><dt><span>valid_range :</span></dt><dd>[   0 1023]</dd><dt><span>serial :</span></dt><dd>S12128.001</dd><dt><span>calibration_Cabsolute :</span></dt><dd>129366.10608020698</dd><dt><span>calibration_Ccoscorr :</span></dt><dd>1.45 - 3.04·x¹ + 5.59·x² - 3.01·x³</dd><dt><span>calibration_function :</span></dt><dd>flux (W m-2) = flux (V) * Cabsolute (W m-2 V-1) * Ccoscorr(mua)</dd></dl></div><div class='xr-var-data'><pre>array([[0.        ],\n       [0.43987915],\n       [0.        ],\n       [0.        ],\n       [0.        ]])</pre></div></li><li class='xr-var-item'><div class='xr-var-name'><span>gti_std</span></div><div class='xr-var-dims'>(time, station)</div><div class='xr-var-dtype'>float64</div><div class='xr-var-preview xr-preview'>0.0 0.7262 0.9102 0.0 0.0</div><input id='attrs-844ae628-c661-407a-8ddd-f63b87193463' class='xr-var-attrs-in' type='checkbox' ><label for='attrs-844ae628-c661-407a-8ddd-f63b87193463' title='Show/Hide attributes'><svg class='icon xr-icon-file-text2'><use xlink:href='#icon-file-text2'></use></svg></label><input id='data-55fb189a-a05b-4183-a881-6374b843cd8b' class='xr-var-data-in' type='checkbox'><label for='data-55fb189a-a05b-4183-a881-6374b843cd8b' title='Show/Hide data repr'><svg class='icon xr-icon-database'><use xlink:href='#icon-database'></use></svg></label><div class='xr-var-attrs'><dl class='xr-attrs'><dt><span>units :</span></dt><dd>W m-2</dd><dt><span>long_name :</span></dt><dd>downwelling shortwave flux measured on secondary platform, might be tilted</dd><dt><span>standard_name :</span></dt><dd>std_downwelling_shortwave_flux_in_air</dd><dt><span>valid_range :</span></dt><dd>[   0 1023]</dd><dt><span>hangle :</span></dt><dd>0.0</dd><dt><span>vangle :</span></dt><dd>0.0</dd><dt><span>serial :</span></dt><dd>S12137.049</dd><dt><span>calibration_Cabsolute :</span></dt><dd>143266.47564469912</dd><dt><span>calibration_Ccoscorr :</span></dt><dd>1.45 - 3.04·x¹ + 5.59·x² - 3.01·x³</dd><dt><span>calibration_function :</span></dt><dd>flux (W m-2) = flux (V) * Cabsolute (W m-2 V-1) * Ccoscorr(mua)</dd></dl></div><div class='xr-var-data'><pre>array([[0.        ],\n       [0.72619942],\n       [0.91024753],\n       [0.        ],\n       [0.        ]])</pre></div></li><li class='xr-var-item'><div class='xr-var-name'><span>lat</span></div><div class='xr-var-dims'>(time, station)</div><div class='xr-var-dtype'>float64</div><div class='xr-var-preview xr-preview'>nan nan 51.39 51.39 51.39</div><input id='attrs-ea247615-4053-47f7-9b4d-5166df29e5e4' class='xr-var-attrs-in' type='checkbox' ><label for='attrs-ea247615-4053-47f7-9b4d-5166df29e5e4' title='Show/Hide attributes'><svg class='icon xr-icon-file-text2'><use xlink:href='#icon-file-text2'></use></svg></label><input id='data-d4790768-bdf1-434d-8546-52b930a50f0a' class='xr-var-data-in' type='checkbox'><label for='data-d4790768-bdf1-434d-8546-52b930a50f0a' title='Show/Hide data repr'><svg class='icon xr-icon-database'><use xlink:href='#icon-database'></use></svg></label><div class='xr-var-attrs'><dl class='xr-attrs'><dt><span>standard_name :</span></dt><dd>latitude</dd><dt><span>units :</span></dt><dd>degree_north</dd><dt><span>valid_range :</span></dt><dd>[-90.  90.]</dd></dl></div><div class='xr-var-data'><pre>array([[        nan],\n       [        nan],\n       [51.39021167],\n       [51.39021086],\n       [51.39021   ]])</pre></div></li><li class='xr-var-item'><div class='xr-var-name'><span>lon</span></div><div class='xr-var-dims'>(time, station)</div><div class='xr-var-dtype'>float64</div><div class='xr-var-preview xr-preview'>nan nan 11.89 11.89 11.89</div><input id='attrs-2e2ea166-ddb9-4253-bfee-bc6e46cc177d' class='xr-var-attrs-in' type='checkbox' ><label for='attrs-2e2ea166-ddb9-4253-bfee-bc6e46cc177d' title='Show/Hide attributes'><svg class='icon xr-icon-file-text2'><use xlink:href='#icon-file-text2'></use></svg></label><input id='data-729f8d21-c803-4333-872e-c69aa8e10227' class='xr-var-data-in' type='checkbox'><label for='data-729f8d21-c803-4333-872e-c69aa8e10227' title='Show/Hide data repr'><svg class='icon xr-icon-database'><use xlink:href='#icon-database'></use></svg></label><div class='xr-var-attrs'><dl class='xr-attrs'><dt><span>standard_name :</span></dt><dd>longitude</dd><dt><span>units :</span></dt><dd>degree_east</dd><dt><span>valid_range :</span></dt><dd>[-180.  180.]</dd></dl></div><div class='xr-var-data'><pre>array([[        nan],\n       [        nan],\n       [11.88525656],\n       [11.88525425],\n       [11.88525167]])</pre></div></li><li class='xr-var-item'><div class='xr-var-name'><span>maintenance_flag_ghi</span></div><div class='xr-var-dims'>(maintenancetime, station)</div><div class='xr-var-dtype'>float32</div><div class='xr-var-preview xr-preview'>9.0</div><input id='attrs-a5b7a7d7-cab7-4724-a586-4a73341ae698' class='xr-var-attrs-in' type='checkbox' ><label for='attrs-a5b7a7d7-cab7-4724-a586-4a73341ae698' title='Show/Hide attributes'><svg class='icon xr-icon-file-text2'><use xlink:href='#icon-file-text2'></use></svg></label><input id='data-5a501f8c-99dc-4f29-a04f-9d684f868b90' class='xr-var-data-in' type='checkbox'><label for='data-5a501f8c-99dc-4f29-a04f-9d684f868b90' title='Show/Hide data repr'><svg class='icon xr-icon-database'><use xlink:href='#icon-database'></use></svg></label><div class='xr-var-attrs'><dl class='xr-attrs'><dt><span>note_general :</span></dt><dd>222</dd><dt><span>note_clean :</span></dt><dd>testing notes</dd><dt><span>note_level :</span></dt><dd>test</dd><dt><span>valid_range :</span></dt><dd>[ 0 11]</dd></dl></div><div class='xr-var-data'><pre>array([[9.]], dtype=float32)</pre></div></li><li class='xr-var-item'><div class='xr-var-name'><span>maintenance_flag_gti</span></div><div class='xr-var-dims'>(maintenancetime, station)</div><div class='xr-var-dtype'>float32</div><div class='xr-var-preview xr-preview'>7.0</div><input id='attrs-89214c88-8fd5-4adb-b7f8-0934f7189564' class='xr-var-attrs-in' type='checkbox' ><label for='attrs-89214c88-8fd5-4adb-b7f8-0934f7189564' title='Show/Hide attributes'><svg class='icon xr-icon-file-text2'><use xlink:href='#icon-file-text2'></use></svg></label><input id='data-8165c51a-2e43-4d65-a4a4-be606de5c97e' class='xr-var-data-in' type='checkbox'><label for='data-8165c51a-2e43-4d65-a4a4-be606de5c97e' title='Show/Hide data repr'><svg class='icon xr-icon-database'><use xlink:href='#icon-database'></use></svg></label><div class='xr-var-attrs'><dl class='xr-attrs'><dt><span>note_general :</span></dt><dd>222</dd><dt><span>note_clean :</span></dt><dd></dd><dt><span>note_level :</span></dt><dd></dd><dt><span>valid_range :</span></dt><dd>[ 0 11]</dd></dl></div><div class='xr-var-data'><pre>array([[7.]], dtype=float32)</pre></div></li><li class='xr-var-item'><div class='xr-var-name'><span>szen</span></div><div class='xr-var-dims'>(time, station)</div><div class='xr-var-dtype'>float64</div><div class='xr-var-preview xr-preview'>nan nan 42.51 42.51 42.51</div><input id='attrs-75d4a8f7-4c14-425a-a318-994a4933d417' class='xr-var-attrs-in' type='checkbox' ><label for='attrs-75d4a8f7-4c14-425a-a318-994a4933d417' title='Show/Hide attributes'><svg class='icon xr-icon-file-text2'><use xlink:href='#icon-file-text2'></use></svg></label><input id='data-6e931875-8dff-4b85-befa-8e375ff92cff' class='xr-var-data-in' type='checkbox'><label for='data-6e931875-8dff-4b85-befa-8e375ff92cff' title='Show/Hide data repr'><svg class='icon xr-icon-database'><use xlink:href='#icon-database'></use></svg></label><div class='xr-var-attrs'><dl class='xr-attrs'><dt><span>standard_name :</span></dt><dd>solar_zenith_angle</dd><dt><span>units :</span></dt><dd>degree</dd><dt><span>valid_range :</span></dt><dd>[0, 36000]</dd></dl></div><div class='xr-var-data'><pre>array([[        nan],\n       [        nan],\n       [42.51185936],\n       [42.5119952 ],\n       [42.51213125]])</pre></div></li><li class='xr-var-item'><div class='xr-var-name'><span>sazi</span></div><div class='xr-var-dims'>(time, station)</div><div class='xr-var-dtype'>float64</div><div class='xr-var-preview xr-preview'>nan nan 182.9 182.9 182.9</div><input id='attrs-64a4a45f-28c8-46db-8693-04f67a775dc7' class='xr-var-attrs-in' type='checkbox' ><label for='attrs-64a4a45f-28c8-46db-8693-04f67a775dc7' title='Show/Hide attributes'><svg class='icon xr-icon-file-text2'><use xlink:href='#icon-file-text2'></use></svg></label><input id='data-ca04c085-5a79-457b-9fe9-2678ea4e8a96' class='xr-var-data-in' type='checkbox'><label for='data-ca04c085-5a79-457b-9fe9-2678ea4e8a96' title='Show/Hide data repr'><svg class='icon xr-icon-database'><use xlink:href='#icon-database'></use></svg></label><div class='xr-var-attrs'><dl class='xr-attrs'><dt><span>standard_name :</span></dt><dd>solar_azimuth_angle</dd><dt><span>units :</span></dt><dd>degree</dd><dt><span>valid_range :</span></dt><dd>[0, 36000]</dd></dl></div><div class='xr-var-data'><pre>array([[         nan],\n       [         nan],\n       [182.91893638],\n       [182.92502264],\n       [182.93110846]])</pre></div></li><li class='xr-var-item'><div class='xr-var-name'><span>esd</span></div><div class='xr-var-dims'>(station)</div><div class='xr-var-dtype'>float64</div><div class='xr-var-preview xr-preview'>1.01</div><input id='attrs-72e6312b-fa2f-4537-a05b-a5a5f3ae1b5c' class='xr-var-attrs-in' type='checkbox' ><label for='attrs-72e6312b-fa2f-4537-a05b-a5a5f3ae1b5c' title='Show/Hide attributes'><svg class='icon xr-icon-file-text2'><use xlink:href='#icon-file-text2'></use></svg></label><input id='data-52fa1d6e-092c-49f4-a4ae-50cdc960cdd6' class='xr-var-data-in' type='checkbox'><label for='data-52fa1d6e-092c-49f4-a4ae-50cdc960cdd6' title='Show/Hide data repr'><svg class='icon xr-icon-database'><use xlink:href='#icon-database'></use></svg></label><div class='xr-var-attrs'><dl class='xr-attrs'><dt><span>long_name :</span></dt><dd>Earth-sun distance</dd><dt><span>note :</span></dt><dd>Calculated based on Spencer (1971), as mean of its values over all time steps.</dd><dt><span>units :</span></dt><dd>ua</dd></dl></div><div class='xr-var-data'><pre>array([1.00959973])</pre></div></li></ul></div></li><li class='xr-section-item'><input id='section-3e1e974f-6d95-4da9-9335-480b460b7519' class='xr-section-summary-in' type='checkbox'  ><label for='section-3e1e974f-6d95-4da9-9335-480b460b7519' class='xr-section-summary' >Indexes: <span>(3)</span></label><div class='xr-section-inline-details'></div><div class='xr-section-details'><ul class='xr-var-list'><li class='xr-var-item'><div class='xr-index-name'><div>station</div></div><div class='xr-index-preview'>PandasIndex</div><div></div><input id='index-2b7781c3-a475-4e4c-b756-db056ab6af7a' class='xr-index-data-in' type='checkbox'/><label for='index-2b7781c3-a475-4e4c-b756-db056ab6af7a' title='Show/Hide index repr'><svg class='icon xr-icon-database'><use xlink:href='#icon-database'></use></svg></label><div class='xr-index-data'><pre>PandasIndex(Float64Index([1.0], dtype=&#x27;float64&#x27;, name=&#x27;station&#x27;))</pre></div></li><li class='xr-var-item'><div class='xr-index-name'><div>time</div></div><div class='xr-index-preview'>PandasIndex</div><div></div><input id='index-ebec2144-0a0c-4f88-9c56-cfbd726df5c4' class='xr-index-data-in' type='checkbox'/><label for='index-ebec2144-0a0c-4f88-9c56-cfbd726df5c4' title='Show/Hide index repr'><svg class='icon xr-icon-database'><use xlink:href='#icon-database'></use></svg></label><div class='xr-index-data'><pre>PandasIndex(DatetimeIndex([&#x27;2022-08-30 11:21:03&#x27;, &#x27;2022-08-30 11:21:04&#x27;,\n               &#x27;2022-08-30 11:21:05&#x27;, &#x27;2022-08-30 11:21:06&#x27;,\n               &#x27;2022-08-30 11:21:07&#x27;],\n              dtype=&#x27;datetime64[ns]&#x27;, name=&#x27;time&#x27;, freq=&#x27;S&#x27;))</pre></div></li><li class='xr-var-item'><div class='xr-index-name'><div>maintenancetime</div></div><div class='xr-index-preview'>PandasIndex</div><div></div><input id='index-651e94ca-5dbf-46f0-a74c-7e9a74209519' class='xr-index-data-in' type='checkbox'/><label for='index-651e94ca-5dbf-46f0-a74c-7e9a74209519' title='Show/Hide index repr'><svg class='icon xr-icon-database'><use xlink:href='#icon-database'></use></svg></label><div class='xr-index-data'><pre>PandasIndex(DatetimeIndex([&#x27;2023-05-08 16:09:06&#x27;], dtype=&#x27;datetime64[ns]&#x27;, name=&#x27;maintenancetime&#x27;, freq=None))</pre></div></li></ul></div></li><li class='xr-section-item'><input id='section-f3374684-f6dd-4ea0-8447-4e4d189b2033' class='xr-section-summary-in' type='checkbox'  ><label for='section-f3374684-f6dd-4ea0-8447-4e4d189b2033' class='xr-section-summary' >Attributes: <span>(31)</span></label><div class='xr-section-inline-details'></div><div class='xr-section-details'><dl class='xr-attrs'><dt><span>Conventions :</span></dt><dd>CF-1.10, ACDD-1.3</dd><dt><span>title :</span></dt><dd>TROPOS pyranometer network (PyrNet) observational data set</dd><dt><span>history :</span></dt><dd>2024-02-29T07:54:36: Generated level l1a  by pyrnet version 0.2.4+0.gbfcb0c5.dirty; </dd><dt><span>institution :</span></dt><dd>Leibniz Institute for Tropospheric Research (TROPOS)</dd><dt><span>source :</span></dt><dd>TROPOS pyranometer network (PyrNet)</dd><dt><span>references :</span></dt><dd>https://doi.org/10.5194/amt-9-1153-2016</dd><dt><span>Department :</span></dt><dd>Remote Sensing of Atmospheric Processes</dd><dt><span>Department_team :</span></dt><dd>Clouds, Aerosol and Radiation</dd><dt><span>Address :</span></dt><dd>Permoser Str. 15, 04318 Leipzig, Germany</dd><dt><span>Contact_person :</span></dt><dd>Andreas Macke and the clouds, aerosol and radiation team of the remote sensing department, mailto:andreas.macke@tropos.de</dd><dt><span>Contributor_name :</span></dt><dd></dd><dt><span>Contributor_role :</span></dt><dd></dd><dt><span>Authors_software :</span></dt><dd>Hartwig Deneke, Jonas Witthuhn, mailto:deneke@tropos.de</dd><dt><span>Creator_name :</span></dt><dd></dd><dt><span>Project :</span></dt><dd></dd><dt><span>Standard_name_vocabulary :</span></dt><dd>CF Standard Name Table v81</dd><dt><span>License :</span></dt><dd>CC-BY-SA 3.0</dd><dt><span>TESTNOTE :</span></dt><dd>This is a test note.</dd><dt><span>processing_level :</span></dt><dd>l1a</dd><dt><span>product_version :</span></dt><dd>0.2.4+0.gbfcb0c5.dirty</dd><dt><span>date_created :</span></dt><dd>2024-02-29T07:54:36</dd><dt><span>geospatial_lat_min :</span></dt><dd>51.390208333333334</dd><dt><span>geospatial_lat_max :</span></dt><dd>51.390211666666666</dd><dt><span>geospatial_lat_units :</span></dt><dd>degN</dd><dt><span>geospatial_lon_min :</span></dt><dd>11.885246666666667</dd><dt><span>geospatial_lon_max :</span></dt><dd>11.885256666666667</dd><dt><span>geospatial_lon_units :</span></dt><dd>degE</dd><dt><span>time_coverage_start :</span></dt><dd>2022-08-30T11:21:04.065000</dd><dt><span>time_coverage_end :</span></dt><dd>2022-08-30T11:21:09</dd><dt><span>time_coverage_duration :</span></dt><dd>P0DT0H0M4.935S</dd><dt><span>time_coverage_resolution :</span></dt><dd>P0DT0H0M1.23375S</dd></dl></div></li></ul></div></div>"
     },
     "execution_count": 31,
     "metadata": {},
     "output_type": "execute_result"
    }
   ],
   "source": [
    "# 5. rad flux calibration\n",
    "box = ds_l1b.station.values[0]\n",
    "boxnumber, serial, cfac, CCcoef = pyrnet.pyrnet.meta_lookup(\n",
    "    ds_l1b.time.values[0],\n",
    "    box=box,\n",
    "    cfile=config['file_calibration'],\n",
    "    mapfile=config['file_mapping'],\n",
    ")\n",
    "\n",
    "print(f\"Meta Lookup:\")\n",
    "print(f\">> Box = {box}\")\n",
    "print(f\">> serial(s) = {serial}\")\n",
    "print(f\">> calibration factor(s) = {cfac}\")\n",
    "print(f\">> cosine correction factor = {np.polynomial.polynomial.Polynomial(CCcoef)},\\n>>     with x = cos(apparent solar zenith angle)\")\n",
    "\n",
    "mu0 = np.cos(np.deg2rad(ds_l1b.szen.values))\n",
    "\n",
    "# calibrate radiation flux with gain=300\n",
    "for i, radflx in enumerate(config['radflux_varname']):\n",
    "    # all radflux related variables (including <radflux>_<resamplemethod> variables)\n",
    "    radflx_vars = [var for var in ds_l1b if var.startswith(radflx)]\n",
    "    if cfac[i] is None:\n",
    "        # drop if calibration/instrument don't exist (probably secondary pyranometer).\n",
    "        ds_l1b = ds_l1b.drop_vars(radflx_vars)\n",
    "        continue\n",
    "    \n",
    "    # calc apparent zenith angle if possible\n",
    "    mua = mu0.copy()\n",
    "    if \"vangle\" in ds[radflx].attrs:\n",
    "        vangle = pyrnet.utils.make_iter(ds[radflx].attrs[\"vangle\"])\n",
    "        hangle = pyrnet.utils.make_iter(ds[radflx].attrs[\"hangle\"])\n",
    "        mua = pyrnet.utils.calc_apparent_coszen(\n",
    "            pitch=vangle,\n",
    "            yaw=hangle,\n",
    "            zen=ds_l1b.szen.values,\n",
    "            azi=ds_l1b.sazi.values\n",
    "        )\n",
    "    \n",
    "    mask_mua = ~np.isnan(mua)\n",
    "    Ca = 1e6/cfac[i]\n",
    "    Cc = np.polynomial.polynomial.polyval(mua, c=CCcoef)\n",
    "    Cmu = mu0/mua\n",
    "    # apply to all variables\n",
    "    for var in radflx_vars:\n",
    "        calib_func = \"flux (W m-2) = flux (V) * Cabsolute (W m-2 V-1)\"\n",
    "        C = np.ones(mu0.shape)*Ca\n",
    "        if radflx == \"gti\":\n",
    "            C[mask_mua] *= Cc[mask_mua]\n",
    "            calib_func += \"\" if np.all(np.isnan(mua)) else \" * Ccoscorr(mua)\"\n",
    "        else:\n",
    "            C[mask_mua] *= Cc[mask_mua] * Cmu[mask_mua]\n",
    "            calib_func += \" * Ccoscorr(mua)\"# * mu0/mua\" (not implemented)\n",
    "        ds_l1b[var].values = ds_l1b[var].values*C\n",
    "\n",
    "        ds_l1b[var].attrs['units'] = \"W m-2\",\n",
    "        ds_l1b[var].attrs.update({\n",
    "            \"units\": \"W m-2\",\n",
    "            \"serial\": serial[i],\n",
    "            \"calibration_Cabsolute\": Ca,\n",
    "            \"calibration_Ccoscorr\": str(np.polynomial.polynomial.Polynomial(CCcoef)),\n",
    "            \"calibration_function\": calib_func\n",
    "        })\n",
    "ds_l1b"
   ],
   "metadata": {
    "collapsed": false,
    "ExecuteTime": {
     "end_time": "2024-02-29T07:54:38.928328300Z",
     "start_time": "2024-02-29T07:54:38.747329200Z"
    }
   }
  },
  {
   "cell_type": "markdown",
   "source": [
    "### Add automatic quality flags\n",
    "Add BSRN recommended limit checks and intercompare checks if multiple pyranometers are in the dataset."
   ],
   "metadata": {
    "collapsed": false
   }
  },
  {
   "cell_type": "code",
   "execution_count": 32,
   "metadata": {
    "collapsed": false,
    "ExecuteTime": {
     "end_time": "2024-02-29T07:54:39.323919100Z",
     "start_time": "2024-02-29T07:54:38.825509500Z"
    }
   },
   "outputs": [
    {
     "data": {
      "text/plain": "<xarray.Dataset>\nDimensions:               (station: 1, time: 5, maintenancetime: 1)\nCoordinates:\n  * station               (station) float64 1.0\n  * time                  (time) datetime64[ns] 2022-08-30T11:21:03 ... 2022-...\n  * maintenancetime       (maintenancetime) datetime64[ns] 2023-05-08T16:09:06\nData variables: (12/20)\n    ghi                   (time, station) float64 269.9 269.7 280.9 280.9 280.9\n    gti                   (time, station) float64 277.3 277.3 288.8 288.6 288.6\n    ta                    (time, station) float32 294.8 294.7 294.8 294.7 294.8\n    rh                    (time, station) float32 0.6263 0.6266 ... 0.6271 0.629\n    battery_voltage       (time, station) float32 6.445 6.446 6.45 6.448 6.458\n    ghi_min               (time, station) float64 269.9 268.5 280.9 280.9 280.9\n    ...                    ...\n    maintenance_flag_gti  (maintenancetime, station) float32 7.0\n    szen                  (time, station) float64 nan nan 42.51 42.51 42.51\n    sazi                  (time, station) float64 nan nan 182.9 182.9 182.9\n    esd                   (station) float64 1.01\n    qc_flag_ghi           (time, station) uint8 0 0 0 0 0\n    qc_flag_gti           (time, station) uint8 0 0 0 0 0\nAttributes: (12/31)\n    Conventions:               CF-1.10, ACDD-1.3\n    title:                     TROPOS pyranometer network (PyrNet) observatio...\n    history:                   2024-02-29T07:54:36: Generated level l1a  by p...\n    institution:               Leibniz Institute for Tropospheric Research (T...\n    source:                    TROPOS pyranometer network (PyrNet)\n    references:                https://doi.org/10.5194/amt-9-1153-2016\n    ...                        ...\n    geospatial_lon_max:        11.885256666666667\n    geospatial_lon_units:      degE\n    time_coverage_start:       2022-08-30T11:21:04.065000\n    time_coverage_end:         2022-08-30T11:21:09\n    time_coverage_duration:    P0DT0H0M4.935S\n    time_coverage_resolution:  P0DT0H0M1.23375S",
      "text/html": "<div><svg style=\"position: absolute; width: 0; height: 0; overflow: hidden\">\n<defs>\n<symbol id=\"icon-database\" viewBox=\"0 0 32 32\">\n<path d=\"M16 0c-8.837 0-16 2.239-16 5v4c0 2.761 7.163 5 16 5s16-2.239 16-5v-4c0-2.761-7.163-5-16-5z\"></path>\n<path d=\"M16 17c-8.837 0-16-2.239-16-5v6c0 2.761 7.163 5 16 5s16-2.239 16-5v-6c0 2.761-7.163 5-16 5z\"></path>\n<path d=\"M16 26c-8.837 0-16-2.239-16-5v6c0 2.761 7.163 5 16 5s16-2.239 16-5v-6c0 2.761-7.163 5-16 5z\"></path>\n</symbol>\n<symbol id=\"icon-file-text2\" viewBox=\"0 0 32 32\">\n<path d=\"M28.681 7.159c-0.694-0.947-1.662-2.053-2.724-3.116s-2.169-2.030-3.116-2.724c-1.612-1.182-2.393-1.319-2.841-1.319h-15.5c-1.378 0-2.5 1.121-2.5 2.5v27c0 1.378 1.122 2.5 2.5 2.5h23c1.378 0 2.5-1.122 2.5-2.5v-19.5c0-0.448-0.137-1.23-1.319-2.841zM24.543 5.457c0.959 0.959 1.712 1.825 2.268 2.543h-4.811v-4.811c0.718 0.556 1.584 1.309 2.543 2.268zM28 29.5c0 0.271-0.229 0.5-0.5 0.5h-23c-0.271 0-0.5-0.229-0.5-0.5v-27c0-0.271 0.229-0.5 0.5-0.5 0 0 15.499-0 15.5 0v7c0 0.552 0.448 1 1 1h7v19.5z\"></path>\n<path d=\"M23 26h-14c-0.552 0-1-0.448-1-1s0.448-1 1-1h14c0.552 0 1 0.448 1 1s-0.448 1-1 1z\"></path>\n<path d=\"M23 22h-14c-0.552 0-1-0.448-1-1s0.448-1 1-1h14c0.552 0 1 0.448 1 1s-0.448 1-1 1z\"></path>\n<path d=\"M23 18h-14c-0.552 0-1-0.448-1-1s0.448-1 1-1h14c0.552 0 1 0.448 1 1s-0.448 1-1 1z\"></path>\n</symbol>\n</defs>\n</svg>\n<style>/* CSS stylesheet for displaying xarray objects in jupyterlab.\n *\n */\n\n:root {\n  --xr-font-color0: var(--jp-content-font-color0, rgba(0, 0, 0, 1));\n  --xr-font-color2: var(--jp-content-font-color2, rgba(0, 0, 0, 0.54));\n  --xr-font-color3: var(--jp-content-font-color3, rgba(0, 0, 0, 0.38));\n  --xr-border-color: var(--jp-border-color2, #e0e0e0);\n  --xr-disabled-color: var(--jp-layout-color3, #bdbdbd);\n  --xr-background-color: var(--jp-layout-color0, white);\n  --xr-background-color-row-even: var(--jp-layout-color1, white);\n  --xr-background-color-row-odd: var(--jp-layout-color2, #eeeeee);\n}\n\nhtml[theme=dark],\nbody[data-theme=dark],\nbody.vscode-dark {\n  --xr-font-color0: rgba(255, 255, 255, 1);\n  --xr-font-color2: rgba(255, 255, 255, 0.54);\n  --xr-font-color3: rgba(255, 255, 255, 0.38);\n  --xr-border-color: #1F1F1F;\n  --xr-disabled-color: #515151;\n  --xr-background-color: #111111;\n  --xr-background-color-row-even: #111111;\n  --xr-background-color-row-odd: #313131;\n}\n\n.xr-wrap {\n  display: block !important;\n  min-width: 300px;\n  max-width: 700px;\n}\n\n.xr-text-repr-fallback {\n  /* fallback to plain text repr when CSS is not injected (untrusted notebook) */\n  display: none;\n}\n\n.xr-header {\n  padding-top: 6px;\n  padding-bottom: 6px;\n  margin-bottom: 4px;\n  border-bottom: solid 1px var(--xr-border-color);\n}\n\n.xr-header > div,\n.xr-header > ul {\n  display: inline;\n  margin-top: 0;\n  margin-bottom: 0;\n}\n\n.xr-obj-type,\n.xr-array-name {\n  margin-left: 2px;\n  margin-right: 10px;\n}\n\n.xr-obj-type {\n  color: var(--xr-font-color2);\n}\n\n.xr-sections {\n  padding-left: 0 !important;\n  display: grid;\n  grid-template-columns: 150px auto auto 1fr 20px 20px;\n}\n\n.xr-section-item {\n  display: contents;\n}\n\n.xr-section-item input {\n  display: none;\n}\n\n.xr-section-item input + label {\n  color: var(--xr-disabled-color);\n}\n\n.xr-section-item input:enabled + label {\n  cursor: pointer;\n  color: var(--xr-font-color2);\n}\n\n.xr-section-item input:enabled + label:hover {\n  color: var(--xr-font-color0);\n}\n\n.xr-section-summary {\n  grid-column: 1;\n  color: var(--xr-font-color2);\n  font-weight: 500;\n}\n\n.xr-section-summary > span {\n  display: inline-block;\n  padding-left: 0.5em;\n}\n\n.xr-section-summary-in:disabled + label {\n  color: var(--xr-font-color2);\n}\n\n.xr-section-summary-in + label:before {\n  display: inline-block;\n  content: '►';\n  font-size: 11px;\n  width: 15px;\n  text-align: center;\n}\n\n.xr-section-summary-in:disabled + label:before {\n  color: var(--xr-disabled-color);\n}\n\n.xr-section-summary-in:checked + label:before {\n  content: '▼';\n}\n\n.xr-section-summary-in:checked + label > span {\n  display: none;\n}\n\n.xr-section-summary,\n.xr-section-inline-details {\n  padding-top: 4px;\n  padding-bottom: 4px;\n}\n\n.xr-section-inline-details {\n  grid-column: 2 / -1;\n}\n\n.xr-section-details {\n  display: none;\n  grid-column: 1 / -1;\n  margin-bottom: 5px;\n}\n\n.xr-section-summary-in:checked ~ .xr-section-details {\n  display: contents;\n}\n\n.xr-array-wrap {\n  grid-column: 1 / -1;\n  display: grid;\n  grid-template-columns: 20px auto;\n}\n\n.xr-array-wrap > label {\n  grid-column: 1;\n  vertical-align: top;\n}\n\n.xr-preview {\n  color: var(--xr-font-color3);\n}\n\n.xr-array-preview,\n.xr-array-data {\n  padding: 0 5px !important;\n  grid-column: 2;\n}\n\n.xr-array-data,\n.xr-array-in:checked ~ .xr-array-preview {\n  display: none;\n}\n\n.xr-array-in:checked ~ .xr-array-data,\n.xr-array-preview {\n  display: inline-block;\n}\n\n.xr-dim-list {\n  display: inline-block !important;\n  list-style: none;\n  padding: 0 !important;\n  margin: 0;\n}\n\n.xr-dim-list li {\n  display: inline-block;\n  padding: 0;\n  margin: 0;\n}\n\n.xr-dim-list:before {\n  content: '(';\n}\n\n.xr-dim-list:after {\n  content: ')';\n}\n\n.xr-dim-list li:not(:last-child):after {\n  content: ',';\n  padding-right: 5px;\n}\n\n.xr-has-index {\n  font-weight: bold;\n}\n\n.xr-var-list,\n.xr-var-item {\n  display: contents;\n}\n\n.xr-var-item > div,\n.xr-var-item label,\n.xr-var-item > .xr-var-name span {\n  background-color: var(--xr-background-color-row-even);\n  margin-bottom: 0;\n}\n\n.xr-var-item > .xr-var-name:hover span {\n  padding-right: 5px;\n}\n\n.xr-var-list > li:nth-child(odd) > div,\n.xr-var-list > li:nth-child(odd) > label,\n.xr-var-list > li:nth-child(odd) > .xr-var-name span {\n  background-color: var(--xr-background-color-row-odd);\n}\n\n.xr-var-name {\n  grid-column: 1;\n}\n\n.xr-var-dims {\n  grid-column: 2;\n}\n\n.xr-var-dtype {\n  grid-column: 3;\n  text-align: right;\n  color: var(--xr-font-color2);\n}\n\n.xr-var-preview {\n  grid-column: 4;\n}\n\n.xr-index-preview {\n  grid-column: 2 / 5;\n  color: var(--xr-font-color2);\n}\n\n.xr-var-name,\n.xr-var-dims,\n.xr-var-dtype,\n.xr-preview,\n.xr-attrs dt {\n  white-space: nowrap;\n  overflow: hidden;\n  text-overflow: ellipsis;\n  padding-right: 10px;\n}\n\n.xr-var-name:hover,\n.xr-var-dims:hover,\n.xr-var-dtype:hover,\n.xr-attrs dt:hover {\n  overflow: visible;\n  width: auto;\n  z-index: 1;\n}\n\n.xr-var-attrs,\n.xr-var-data,\n.xr-index-data {\n  display: none;\n  background-color: var(--xr-background-color) !important;\n  padding-bottom: 5px !important;\n}\n\n.xr-var-attrs-in:checked ~ .xr-var-attrs,\n.xr-var-data-in:checked ~ .xr-var-data,\n.xr-index-data-in:checked ~ .xr-index-data {\n  display: block;\n}\n\n.xr-var-data > table {\n  float: right;\n}\n\n.xr-var-name span,\n.xr-var-data,\n.xr-index-name div,\n.xr-index-data,\n.xr-attrs {\n  padding-left: 25px !important;\n}\n\n.xr-attrs,\n.xr-var-attrs,\n.xr-var-data,\n.xr-index-data {\n  grid-column: 1 / -1;\n}\n\ndl.xr-attrs {\n  padding: 0;\n  margin: 0;\n  display: grid;\n  grid-template-columns: 125px auto;\n}\n\n.xr-attrs dt,\n.xr-attrs dd {\n  padding: 0;\n  margin: 0;\n  float: left;\n  padding-right: 10px;\n  width: auto;\n}\n\n.xr-attrs dt {\n  font-weight: normal;\n  grid-column: 1;\n}\n\n.xr-attrs dt:hover span {\n  display: inline-block;\n  background: var(--xr-background-color);\n  padding-right: 10px;\n}\n\n.xr-attrs dd {\n  grid-column: 2;\n  white-space: pre-wrap;\n  word-break: break-all;\n}\n\n.xr-icon-database,\n.xr-icon-file-text2,\n.xr-no-icon {\n  display: inline-block;\n  vertical-align: middle;\n  width: 1em;\n  height: 1.5em !important;\n  stroke-width: 0;\n  stroke: currentColor;\n  fill: currentColor;\n}\n</style><pre class='xr-text-repr-fallback'>&lt;xarray.Dataset&gt;\nDimensions:               (station: 1, time: 5, maintenancetime: 1)\nCoordinates:\n  * station               (station) float64 1.0\n  * time                  (time) datetime64[ns] 2022-08-30T11:21:03 ... 2022-...\n  * maintenancetime       (maintenancetime) datetime64[ns] 2023-05-08T16:09:06\nData variables: (12/20)\n    ghi                   (time, station) float64 269.9 269.7 280.9 280.9 280.9\n    gti                   (time, station) float64 277.3 277.3 288.8 288.6 288.6\n    ta                    (time, station) float32 294.8 294.7 294.8 294.7 294.8\n    rh                    (time, station) float32 0.6263 0.6266 ... 0.6271 0.629\n    battery_voltage       (time, station) float32 6.445 6.446 6.45 6.448 6.458\n    ghi_min               (time, station) float64 269.9 268.5 280.9 280.9 280.9\n    ...                    ...\n    maintenance_flag_gti  (maintenancetime, station) float32 7.0\n    szen                  (time, station) float64 nan nan 42.51 42.51 42.51\n    sazi                  (time, station) float64 nan nan 182.9 182.9 182.9\n    esd                   (station) float64 1.01\n    qc_flag_ghi           (time, station) uint8 0 0 0 0 0\n    qc_flag_gti           (time, station) uint8 0 0 0 0 0\nAttributes: (12/31)\n    Conventions:               CF-1.10, ACDD-1.3\n    title:                     TROPOS pyranometer network (PyrNet) observatio...\n    history:                   2024-02-29T07:54:36: Generated level l1a  by p...\n    institution:               Leibniz Institute for Tropospheric Research (T...\n    source:                    TROPOS pyranometer network (PyrNet)\n    references:                https://doi.org/10.5194/amt-9-1153-2016\n    ...                        ...\n    geospatial_lon_max:        11.885256666666667\n    geospatial_lon_units:      degE\n    time_coverage_start:       2022-08-30T11:21:04.065000\n    time_coverage_end:         2022-08-30T11:21:09\n    time_coverage_duration:    P0DT0H0M4.935S\n    time_coverage_resolution:  P0DT0H0M1.23375S</pre><div class='xr-wrap' style='display:none'><div class='xr-header'><div class='xr-obj-type'>xarray.Dataset</div></div><ul class='xr-sections'><li class='xr-section-item'><input id='section-15997613-3b84-4adb-94ad-1e6f660f914e' class='xr-section-summary-in' type='checkbox' disabled ><label for='section-15997613-3b84-4adb-94ad-1e6f660f914e' class='xr-section-summary'  title='Expand/collapse section'>Dimensions:</label><div class='xr-section-inline-details'><ul class='xr-dim-list'><li><span class='xr-has-index'>station</span>: 1</li><li><span class='xr-has-index'>time</span>: 5</li><li><span class='xr-has-index'>maintenancetime</span>: 1</li></ul></div><div class='xr-section-details'></div></li><li class='xr-section-item'><input id='section-b82a2cb4-72a1-44f8-92f3-708489e3a45d' class='xr-section-summary-in' type='checkbox'  checked><label for='section-b82a2cb4-72a1-44f8-92f3-708489e3a45d' class='xr-section-summary' >Coordinates: <span>(3)</span></label><div class='xr-section-inline-details'></div><div class='xr-section-details'><ul class='xr-var-list'><li class='xr-var-item'><div class='xr-var-name'><span class='xr-has-index'>station</span></div><div class='xr-var-dims'>(station)</div><div class='xr-var-dtype'>float64</div><div class='xr-var-preview xr-preview'>1.0</div><input id='attrs-2a33d662-0c55-4708-811c-74512c1009df' class='xr-var-attrs-in' type='checkbox' ><label for='attrs-2a33d662-0c55-4708-811c-74512c1009df' title='Show/Hide attributes'><svg class='icon xr-icon-file-text2'><use xlink:href='#icon-file-text2'></use></svg></label><input id='data-00e0208f-76d7-44b0-956e-daae906b5ad8' class='xr-var-data-in' type='checkbox'><label for='data-00e0208f-76d7-44b0-956e-daae906b5ad8' title='Show/Hide data repr'><svg class='icon xr-icon-database'><use xlink:href='#icon-database'></use></svg></label><div class='xr-var-attrs'><dl class='xr-attrs'><dt><span>units :</span></dt><dd>-</dd><dt><span>long_name :</span></dt><dd>PyrNet unit box number</dd></dl></div><div class='xr-var-data'><pre>array([1.])</pre></div></li><li class='xr-var-item'><div class='xr-var-name'><span class='xr-has-index'>time</span></div><div class='xr-var-dims'>(time)</div><div class='xr-var-dtype'>datetime64[ns]</div><div class='xr-var-preview xr-preview'>2022-08-30T11:21:03 ... 2022-08-...</div><input id='attrs-7e1d9ad1-e98e-47c7-bfe3-588e5bde6ed6' class='xr-var-attrs-in' type='checkbox' disabled><label for='attrs-7e1d9ad1-e98e-47c7-bfe3-588e5bde6ed6' title='Show/Hide attributes'><svg class='icon xr-icon-file-text2'><use xlink:href='#icon-file-text2'></use></svg></label><input id='data-fa1d798d-b627-4241-8df0-04be1ab4ec5a' class='xr-var-data-in' type='checkbox'><label for='data-fa1d798d-b627-4241-8df0-04be1ab4ec5a' title='Show/Hide data repr'><svg class='icon xr-icon-database'><use xlink:href='#icon-database'></use></svg></label><div class='xr-var-attrs'><dl class='xr-attrs'></dl></div><div class='xr-var-data'><pre>array([&#x27;2022-08-30T11:21:03.000000000&#x27;, &#x27;2022-08-30T11:21:04.000000000&#x27;,\n       &#x27;2022-08-30T11:21:05.000000000&#x27;, &#x27;2022-08-30T11:21:06.000000000&#x27;,\n       &#x27;2022-08-30T11:21:07.000000000&#x27;], dtype=&#x27;datetime64[ns]&#x27;)</pre></div></li><li class='xr-var-item'><div class='xr-var-name'><span class='xr-has-index'>maintenancetime</span></div><div class='xr-var-dims'>(maintenancetime)</div><div class='xr-var-dtype'>datetime64[ns]</div><div class='xr-var-preview xr-preview'>2023-05-08T16:09:06</div><input id='attrs-469183bf-5bb9-4183-80c6-fa984f224218' class='xr-var-attrs-in' type='checkbox' disabled><label for='attrs-469183bf-5bb9-4183-80c6-fa984f224218' title='Show/Hide attributes'><svg class='icon xr-icon-file-text2'><use xlink:href='#icon-file-text2'></use></svg></label><input id='data-6f3156d4-b78a-4254-85f8-cb2d91f488ed' class='xr-var-data-in' type='checkbox'><label for='data-6f3156d4-b78a-4254-85f8-cb2d91f488ed' title='Show/Hide data repr'><svg class='icon xr-icon-database'><use xlink:href='#icon-database'></use></svg></label><div class='xr-var-attrs'><dl class='xr-attrs'></dl></div><div class='xr-var-data'><pre>array([&#x27;2023-05-08T16:09:06.000000000&#x27;], dtype=&#x27;datetime64[ns]&#x27;)</pre></div></li></ul></div></li><li class='xr-section-item'><input id='section-5a6bba99-0941-4657-ad19-bef41b7dd298' class='xr-section-summary-in' type='checkbox'  ><label for='section-5a6bba99-0941-4657-ad19-bef41b7dd298' class='xr-section-summary' >Data variables: <span>(20)</span></label><div class='xr-section-inline-details'></div><div class='xr-section-details'><ul class='xr-var-list'><li class='xr-var-item'><div class='xr-var-name'><span>ghi</span></div><div class='xr-var-dims'>(time, station)</div><div class='xr-var-dtype'>float64</div><div class='xr-var-preview xr-preview'>269.9 269.7 280.9 280.9 280.9</div><input id='attrs-bbda0bdb-d1c2-4080-9d99-95258adb50fc' class='xr-var-attrs-in' type='checkbox' ><label for='attrs-bbda0bdb-d1c2-4080-9d99-95258adb50fc' title='Show/Hide attributes'><svg class='icon xr-icon-file-text2'><use xlink:href='#icon-file-text2'></use></svg></label><input id='data-28f9dc09-53bb-4cfa-bcc6-5037321e0bc3' class='xr-var-data-in' type='checkbox'><label for='data-28f9dc09-53bb-4cfa-bcc6-5037321e0bc3' title='Show/Hide data repr'><svg class='icon xr-icon-database'><use xlink:href='#icon-database'></use></svg></label><div class='xr-var-attrs'><dl class='xr-attrs'><dt><span>units :</span></dt><dd>W m-2</dd><dt><span>long_name :</span></dt><dd>downwelling shortwave flux</dd><dt><span>standard_name :</span></dt><dd>downwelling_shortwave_flux_in_air</dd><dt><span>valid_range :</span></dt><dd>[   0 1023]</dd><dt><span>serial :</span></dt><dd>S12128.001</dd><dt><span>calibration_Cabsolute :</span></dt><dd>129366.10608020698</dd><dt><span>calibration_Ccoscorr :</span></dt><dd>1.45 - 3.04·x¹ + 5.59·x² - 3.01·x³</dd><dt><span>calibration_function :</span></dt><dd>flux (W m-2) = flux (V) * Cabsolute (W m-2 V-1) * Ccoscorr(mua)</dd></dl></div><div class='xr-var-data'><pre>array([[269.860475  ],\n       [269.72137902],\n       [280.90462604],\n       [280.90449869],\n       [280.90437115]])</pre></div></li><li class='xr-var-item'><div class='xr-var-name'><span>gti</span></div><div class='xr-var-dims'>(time, station)</div><div class='xr-var-dtype'>float64</div><div class='xr-var-preview xr-preview'>277.3 277.3 288.8 288.6 288.6</div><input id='attrs-49157e81-98d4-48ee-aa5b-d22544bfc51e' class='xr-var-attrs-in' type='checkbox' ><label for='attrs-49157e81-98d4-48ee-aa5b-d22544bfc51e' title='Show/Hide attributes'><svg class='icon xr-icon-file-text2'><use xlink:href='#icon-file-text2'></use></svg></label><input id='data-79e8bca3-b6b4-4316-a3b6-f9ff76766f88' class='xr-var-data-in' type='checkbox'><label for='data-79e8bca3-b6b4-4316-a3b6-f9ff76766f88' title='Show/Hide data repr'><svg class='icon xr-icon-database'><use xlink:href='#icon-database'></use></svg></label><div class='xr-var-attrs'><dl class='xr-attrs'><dt><span>units :</span></dt><dd>W m-2</dd><dt><span>long_name :</span></dt><dd>downwelling shortwave flux measured on secondary platform, might be tilted</dd><dt><span>standard_name :</span></dt><dd>downwelling_shortwave_flux_in_air</dd><dt><span>valid_range :</span></dt><dd>[   0 1023]</dd><dt><span>hangle :</span></dt><dd>0.0</dd><dt><span>vangle :</span></dt><dd>0.0</dd><dt><span>serial :</span></dt><dd>S12137.049</dd><dt><span>calibration_Cabsolute :</span></dt><dd>143266.47564469912</dd><dt><span>calibration_Ccoscorr :</span></dt><dd>1.45 - 3.04·x¹ + 5.59·x² - 3.01·x³</dd><dt><span>calibration_function :</span></dt><dd>flux (W m-2) = flux (V) * Cabsolute (W m-2 V-1) * Ccoscorr(mua)</dd></dl></div><div class='xr-var-data'><pre>array([[277.28995527],\n       [277.28995527],\n       [288.79852425],\n       [288.63802999],\n       [288.63789894]])</pre></div></li><li class='xr-var-item'><div class='xr-var-name'><span>ta</span></div><div class='xr-var-dims'>(time, station)</div><div class='xr-var-dtype'>float32</div><div class='xr-var-preview xr-preview'>294.8 294.7 294.8 294.7 294.8</div><input id='attrs-50d7a646-2939-424e-84c8-b87993f7c2ab' class='xr-var-attrs-in' type='checkbox' ><label for='attrs-50d7a646-2939-424e-84c8-b87993f7c2ab' title='Show/Hide attributes'><svg class='icon xr-icon-file-text2'><use xlink:href='#icon-file-text2'></use></svg></label><input id='data-7ff18eb5-a20f-4fd4-b512-8a0225b7ccf9' class='xr-var-data-in' type='checkbox'><label for='data-7ff18eb5-a20f-4fd4-b512-8a0225b7ccf9' title='Show/Hide data repr'><svg class='icon xr-icon-database'><use xlink:href='#icon-database'></use></svg></label><div class='xr-var-attrs'><dl class='xr-attrs'><dt><span>units :</span></dt><dd>K</dd><dt><span>long_name :</span></dt><dd>air temperature</dd><dt><span>standard_name :</span></dt><dd>air_temperature</dd><dt><span>valid_range :</span></dt><dd>[  0 775]</dd></dl></div><div class='xr-var-data'><pre>array([[294.7758 ],\n       [294.74997],\n       [294.7887 ],\n       [294.74997],\n       [294.82742]], dtype=float32)</pre></div></li><li class='xr-var-item'><div class='xr-var-name'><span>rh</span></div><div class='xr-var-dims'>(time, station)</div><div class='xr-var-dtype'>float32</div><div class='xr-var-preview xr-preview'>0.6263 0.6266 0.6271 0.6271 0.629</div><input id='attrs-490e0114-128f-47ca-a6e4-31cefd4c8e86' class='xr-var-attrs-in' type='checkbox' ><label for='attrs-490e0114-128f-47ca-a6e4-31cefd4c8e86' title='Show/Hide attributes'><svg class='icon xr-icon-file-text2'><use xlink:href='#icon-file-text2'></use></svg></label><input id='data-e3d2547c-ae26-41df-9a92-e57685484a0f' class='xr-var-data-in' type='checkbox'><label for='data-e3d2547c-ae26-41df-9a92-e57685484a0f' title='Show/Hide data repr'><svg class='icon xr-icon-database'><use xlink:href='#icon-database'></use></svg></label><div class='xr-var-attrs'><dl class='xr-attrs'><dt><span>units :</span></dt><dd>1</dd><dt><span>long_name :</span></dt><dd>air relative humidity</dd><dt><span>standard_name :</span></dt><dd>relative_humidity</dd><dt><span>valid_range :</span></dt><dd>[  0 775]</dd></dl></div><div class='xr-var-data'><pre>array([[0.62632257],\n       [0.6265806 ],\n       [0.6270968 ],\n       [0.6270968 ],\n       [0.62903225]], dtype=float32)</pre></div></li><li class='xr-var-item'><div class='xr-var-name'><span>battery_voltage</span></div><div class='xr-var-dims'>(time, station)</div><div class='xr-var-dtype'>float32</div><div class='xr-var-preview xr-preview'>6.445 6.446 6.45 6.448 6.458</div><input id='attrs-0ede3552-c638-47b4-be01-4c38e24087c2' class='xr-var-attrs-in' type='checkbox' ><label for='attrs-0ede3552-c638-47b4-be01-4c38e24087c2' title='Show/Hide attributes'><svg class='icon xr-icon-file-text2'><use xlink:href='#icon-file-text2'></use></svg></label><input id='data-a38f9335-73ef-4bfa-b626-335f3c15e7ee' class='xr-var-data-in' type='checkbox'><label for='data-a38f9335-73ef-4bfa-b626-335f3c15e7ee' title='Show/Hide data repr'><svg class='icon xr-icon-database'><use xlink:href='#icon-database'></use></svg></label><div class='xr-var-attrs'><dl class='xr-attrs'><dt><span>units :</span></dt><dd>V</dd><dt><span>standard_name :</span></dt><dd>battery_voltage</dd><dt><span>valid_range :</span></dt><dd>[  0 992]</dd></dl></div><div class='xr-var-data'><pre>array([[6.4451613],\n       [6.445807 ],\n       [6.4496775],\n       [6.4477415],\n       [6.4580646]], dtype=float32)</pre></div></li><li class='xr-var-item'><div class='xr-var-name'><span>ghi_min</span></div><div class='xr-var-dims'>(time, station)</div><div class='xr-var-dtype'>float64</div><div class='xr-var-preview xr-preview'>269.9 268.5 280.9 280.9 280.9</div><input id='attrs-1d21db25-95bf-4d98-8fc8-1e727f84d60d' class='xr-var-attrs-in' type='checkbox' ><label for='attrs-1d21db25-95bf-4d98-8fc8-1e727f84d60d' title='Show/Hide attributes'><svg class='icon xr-icon-file-text2'><use xlink:href='#icon-file-text2'></use></svg></label><input id='data-63dc2dd3-5ef2-4514-84e0-df26d7219933' class='xr-var-data-in' type='checkbox'><label for='data-63dc2dd3-5ef2-4514-84e0-df26d7219933' title='Show/Hide data repr'><svg class='icon xr-icon-database'><use xlink:href='#icon-database'></use></svg></label><div class='xr-var-attrs'><dl class='xr-attrs'><dt><span>units :</span></dt><dd>W m-2</dd><dt><span>long_name :</span></dt><dd>downwelling shortwave flux</dd><dt><span>standard_name :</span></dt><dd>min_downwelling_shortwave_flux_in_air</dd><dt><span>valid_range :</span></dt><dd>[   0 1023]</dd><dt><span>serial :</span></dt><dd>S12128.001</dd><dt><span>calibration_Cabsolute :</span></dt><dd>129366.10608020698</dd><dt><span>calibration_Ccoscorr :</span></dt><dd>1.45 - 3.04·x¹ + 5.59·x² - 3.01·x³</dd><dt><span>calibration_function :</span></dt><dd>flux (W m-2) = flux (V) * Cabsolute (W m-2 V-1) * Ccoscorr(mua)</dd></dl></div><div class='xr-var-data'><pre>array([[269.860475  ],\n       [268.46945498],\n       [280.90462604],\n       [280.90449869],\n       [280.90437115]])</pre></div></li><li class='xr-var-item'><div class='xr-var-name'><span>gti_min</span></div><div class='xr-var-dims'>(time, station)</div><div class='xr-var-dtype'>float64</div><div class='xr-var-preview xr-preview'>277.3 275.7 287.0 288.6 288.6</div><input id='attrs-915b998f-e802-4c6d-b4df-a61e38d25a35' class='xr-var-attrs-in' type='checkbox' ><label for='attrs-915b998f-e802-4c6d-b4df-a61e38d25a35' title='Show/Hide attributes'><svg class='icon xr-icon-file-text2'><use xlink:href='#icon-file-text2'></use></svg></label><input id='data-cb6bb6da-02df-4f88-bf52-392768397d99' class='xr-var-data-in' type='checkbox'><label for='data-cb6bb6da-02df-4f88-bf52-392768397d99' title='Show/Hide data repr'><svg class='icon xr-icon-database'><use xlink:href='#icon-database'></use></svg></label><div class='xr-var-attrs'><dl class='xr-attrs'><dt><span>units :</span></dt><dd>W m-2</dd><dt><span>long_name :</span></dt><dd>downwelling shortwave flux measured on secondary platform, might be tilted</dd><dt><span>standard_name :</span></dt><dd>min_downwelling_shortwave_flux_in_air</dd><dt><span>valid_range :</span></dt><dd>[   0 1023]</dd><dt><span>hangle :</span></dt><dd>0.0</dd><dt><span>vangle :</span></dt><dd>0.0</dd><dt><span>serial :</span></dt><dd>S12137.049</dd><dt><span>calibration_Cabsolute :</span></dt><dd>143266.47564469912</dd><dt><span>calibration_Ccoscorr :</span></dt><dd>1.45 - 3.04·x¹ + 5.59·x² - 3.01·x³</dd><dt><span>calibration_function :</span></dt><dd>flux (W m-2) = flux (V) * Cabsolute (W m-2 V-1) * Ccoscorr(mua)</dd></dl></div><div class='xr-var-data'><pre>array([[277.28995527],\n       [275.74945367],\n       [287.03461358],\n       [288.63802999],\n       [288.63789894]])</pre></div></li><li class='xr-var-item'><div class='xr-var-name'><span>ghi_max</span></div><div class='xr-var-dims'>(time, station)</div><div class='xr-var-dtype'>float64</div><div class='xr-var-preview xr-preview'>269.9 269.9 280.9 280.9 280.9</div><input id='attrs-9b700f49-faa5-43e6-9dee-27aad35a1b7c' class='xr-var-attrs-in' type='checkbox' ><label for='attrs-9b700f49-faa5-43e6-9dee-27aad35a1b7c' title='Show/Hide attributes'><svg class='icon xr-icon-file-text2'><use xlink:href='#icon-file-text2'></use></svg></label><input id='data-143bbd20-d408-4d80-adba-c19166f39a7f' class='xr-var-data-in' type='checkbox'><label for='data-143bbd20-d408-4d80-adba-c19166f39a7f' title='Show/Hide data repr'><svg class='icon xr-icon-database'><use xlink:href='#icon-database'></use></svg></label><div class='xr-var-attrs'><dl class='xr-attrs'><dt><span>units :</span></dt><dd>W m-2</dd><dt><span>long_name :</span></dt><dd>downwelling shortwave flux</dd><dt><span>standard_name :</span></dt><dd>max_downwelling_shortwave_flux_in_air</dd><dt><span>valid_range :</span></dt><dd>[   0 1023]</dd><dt><span>serial :</span></dt><dd>S12128.001</dd><dt><span>calibration_Cabsolute :</span></dt><dd>129366.10608020698</dd><dt><span>calibration_Ccoscorr :</span></dt><dd>1.45 - 3.04·x¹ + 5.59·x² - 3.01·x³</dd><dt><span>calibration_function :</span></dt><dd>flux (W m-2) = flux (V) * Cabsolute (W m-2 V-1) * Ccoscorr(mua)</dd></dl></div><div class='xr-var-data'><pre>array([[269.860475  ],\n       [269.860475  ],\n       [280.90462604],\n       [280.90449869],\n       [280.90437115]])</pre></div></li><li class='xr-var-item'><div class='xr-var-name'><span>gti_max</span></div><div class='xr-var-dims'>(time, station)</div><div class='xr-var-dtype'>float64</div><div class='xr-var-preview xr-preview'>277.3 278.8 290.2 288.6 288.6</div><input id='attrs-3e09b902-8e5c-4ba4-9b68-780f79b9e727' class='xr-var-attrs-in' type='checkbox' ><label for='attrs-3e09b902-8e5c-4ba4-9b68-780f79b9e727' title='Show/Hide attributes'><svg class='icon xr-icon-file-text2'><use xlink:href='#icon-file-text2'></use></svg></label><input id='data-9290a517-3942-4446-ade5-497f51454bf9' class='xr-var-data-in' type='checkbox'><label for='data-9290a517-3942-4446-ade5-497f51454bf9' title='Show/Hide data repr'><svg class='icon xr-icon-database'><use xlink:href='#icon-database'></use></svg></label><div class='xr-var-attrs'><dl class='xr-attrs'><dt><span>units :</span></dt><dd>W m-2</dd><dt><span>long_name :</span></dt><dd>downwelling shortwave flux measured on secondary platform, might be tilted</dd><dt><span>standard_name :</span></dt><dd>max_downwelling_shortwave_flux_in_air</dd><dt><span>valid_range :</span></dt><dd>[   0 1023]</dd><dt><span>hangle :</span></dt><dd>0.0</dd><dt><span>vangle :</span></dt><dd>0.0</dd><dt><span>serial :</span></dt><dd>S12137.049</dd><dt><span>calibration_Cabsolute :</span></dt><dd>143266.47564469912</dd><dt><span>calibration_Ccoscorr :</span></dt><dd>1.45 - 3.04·x¹ + 5.59·x² - 3.01·x³</dd><dt><span>calibration_function :</span></dt><dd>flux (W m-2) = flux (V) * Cabsolute (W m-2 V-1) * Ccoscorr(mua)</dd></dl></div><div class='xr-var-data'><pre>array([[277.28995527],\n       [278.83045688],\n       [290.24170811],\n       [288.63802999],\n       [288.63789894]])</pre></div></li><li class='xr-var-item'><div class='xr-var-name'><span>ghi_std</span></div><div class='xr-var-dims'>(time, station)</div><div class='xr-var-dtype'>float64</div><div class='xr-var-preview xr-preview'>0.0 0.4399 0.0 0.0 0.0</div><input id='attrs-eb1c07da-be22-47db-a3fd-dbf95abd368c' class='xr-var-attrs-in' type='checkbox' ><label for='attrs-eb1c07da-be22-47db-a3fd-dbf95abd368c' title='Show/Hide attributes'><svg class='icon xr-icon-file-text2'><use xlink:href='#icon-file-text2'></use></svg></label><input id='data-06924b0c-6eea-4a09-9fd9-a18bf068d5cd' class='xr-var-data-in' type='checkbox'><label for='data-06924b0c-6eea-4a09-9fd9-a18bf068d5cd' title='Show/Hide data repr'><svg class='icon xr-icon-database'><use xlink:href='#icon-database'></use></svg></label><div class='xr-var-attrs'><dl class='xr-attrs'><dt><span>units :</span></dt><dd>W m-2</dd><dt><span>long_name :</span></dt><dd>downwelling shortwave flux</dd><dt><span>standard_name :</span></dt><dd>std_downwelling_shortwave_flux_in_air</dd><dt><span>valid_range :</span></dt><dd>[   0 1023]</dd><dt><span>serial :</span></dt><dd>S12128.001</dd><dt><span>calibration_Cabsolute :</span></dt><dd>129366.10608020698</dd><dt><span>calibration_Ccoscorr :</span></dt><dd>1.45 - 3.04·x¹ + 5.59·x² - 3.01·x³</dd><dt><span>calibration_function :</span></dt><dd>flux (W m-2) = flux (V) * Cabsolute (W m-2 V-1) * Ccoscorr(mua)</dd></dl></div><div class='xr-var-data'><pre>array([[0.        ],\n       [0.43987915],\n       [0.        ],\n       [0.        ],\n       [0.        ]])</pre></div></li><li class='xr-var-item'><div class='xr-var-name'><span>gti_std</span></div><div class='xr-var-dims'>(time, station)</div><div class='xr-var-dtype'>float64</div><div class='xr-var-preview xr-preview'>0.0 0.7262 0.9102 0.0 0.0</div><input id='attrs-bce5150a-7f1b-48aa-8314-397448fdc9e2' class='xr-var-attrs-in' type='checkbox' ><label for='attrs-bce5150a-7f1b-48aa-8314-397448fdc9e2' title='Show/Hide attributes'><svg class='icon xr-icon-file-text2'><use xlink:href='#icon-file-text2'></use></svg></label><input id='data-fdb709e3-7033-4359-8bd3-3ad5e513b40d' class='xr-var-data-in' type='checkbox'><label for='data-fdb709e3-7033-4359-8bd3-3ad5e513b40d' title='Show/Hide data repr'><svg class='icon xr-icon-database'><use xlink:href='#icon-database'></use></svg></label><div class='xr-var-attrs'><dl class='xr-attrs'><dt><span>units :</span></dt><dd>W m-2</dd><dt><span>long_name :</span></dt><dd>downwelling shortwave flux measured on secondary platform, might be tilted</dd><dt><span>standard_name :</span></dt><dd>std_downwelling_shortwave_flux_in_air</dd><dt><span>valid_range :</span></dt><dd>[   0 1023]</dd><dt><span>hangle :</span></dt><dd>0.0</dd><dt><span>vangle :</span></dt><dd>0.0</dd><dt><span>serial :</span></dt><dd>S12137.049</dd><dt><span>calibration_Cabsolute :</span></dt><dd>143266.47564469912</dd><dt><span>calibration_Ccoscorr :</span></dt><dd>1.45 - 3.04·x¹ + 5.59·x² - 3.01·x³</dd><dt><span>calibration_function :</span></dt><dd>flux (W m-2) = flux (V) * Cabsolute (W m-2 V-1) * Ccoscorr(mua)</dd></dl></div><div class='xr-var-data'><pre>array([[0.        ],\n       [0.72619942],\n       [0.91024753],\n       [0.        ],\n       [0.        ]])</pre></div></li><li class='xr-var-item'><div class='xr-var-name'><span>lat</span></div><div class='xr-var-dims'>(time, station)</div><div class='xr-var-dtype'>float64</div><div class='xr-var-preview xr-preview'>nan nan 51.39 51.39 51.39</div><input id='attrs-0d4ba6b5-d642-45d5-ada1-073899542524' class='xr-var-attrs-in' type='checkbox' ><label for='attrs-0d4ba6b5-d642-45d5-ada1-073899542524' title='Show/Hide attributes'><svg class='icon xr-icon-file-text2'><use xlink:href='#icon-file-text2'></use></svg></label><input id='data-bed9f58f-cf79-42fa-8412-a947ae950b3f' class='xr-var-data-in' type='checkbox'><label for='data-bed9f58f-cf79-42fa-8412-a947ae950b3f' title='Show/Hide data repr'><svg class='icon xr-icon-database'><use xlink:href='#icon-database'></use></svg></label><div class='xr-var-attrs'><dl class='xr-attrs'><dt><span>standard_name :</span></dt><dd>latitude</dd><dt><span>units :</span></dt><dd>degree_north</dd><dt><span>valid_range :</span></dt><dd>[-90.  90.]</dd></dl></div><div class='xr-var-data'><pre>array([[        nan],\n       [        nan],\n       [51.39021167],\n       [51.39021086],\n       [51.39021   ]])</pre></div></li><li class='xr-var-item'><div class='xr-var-name'><span>lon</span></div><div class='xr-var-dims'>(time, station)</div><div class='xr-var-dtype'>float64</div><div class='xr-var-preview xr-preview'>nan nan 11.89 11.89 11.89</div><input id='attrs-06cb2c6e-de24-4f89-bf7b-581841521dfe' class='xr-var-attrs-in' type='checkbox' ><label for='attrs-06cb2c6e-de24-4f89-bf7b-581841521dfe' title='Show/Hide attributes'><svg class='icon xr-icon-file-text2'><use xlink:href='#icon-file-text2'></use></svg></label><input id='data-8833fbb8-699e-4e47-b37d-92f95ad5b92c' class='xr-var-data-in' type='checkbox'><label for='data-8833fbb8-699e-4e47-b37d-92f95ad5b92c' title='Show/Hide data repr'><svg class='icon xr-icon-database'><use xlink:href='#icon-database'></use></svg></label><div class='xr-var-attrs'><dl class='xr-attrs'><dt><span>standard_name :</span></dt><dd>longitude</dd><dt><span>units :</span></dt><dd>degree_east</dd><dt><span>valid_range :</span></dt><dd>[-180.  180.]</dd></dl></div><div class='xr-var-data'><pre>array([[        nan],\n       [        nan],\n       [11.88525656],\n       [11.88525425],\n       [11.88525167]])</pre></div></li><li class='xr-var-item'><div class='xr-var-name'><span>maintenance_flag_ghi</span></div><div class='xr-var-dims'>(maintenancetime, station)</div><div class='xr-var-dtype'>float32</div><div class='xr-var-preview xr-preview'>9.0</div><input id='attrs-9a928879-622f-46fc-a3f0-871212ef8ae9' class='xr-var-attrs-in' type='checkbox' ><label for='attrs-9a928879-622f-46fc-a3f0-871212ef8ae9' title='Show/Hide attributes'><svg class='icon xr-icon-file-text2'><use xlink:href='#icon-file-text2'></use></svg></label><input id='data-b43f541c-fe6e-4d43-a187-c34d39124b39' class='xr-var-data-in' type='checkbox'><label for='data-b43f541c-fe6e-4d43-a187-c34d39124b39' title='Show/Hide data repr'><svg class='icon xr-icon-database'><use xlink:href='#icon-database'></use></svg></label><div class='xr-var-attrs'><dl class='xr-attrs'><dt><span>note_general :</span></dt><dd>222</dd><dt><span>note_clean :</span></dt><dd>testing notes</dd><dt><span>note_level :</span></dt><dd>test</dd><dt><span>valid_range :</span></dt><dd>[ 0 11]</dd></dl></div><div class='xr-var-data'><pre>array([[9.]], dtype=float32)</pre></div></li><li class='xr-var-item'><div class='xr-var-name'><span>maintenance_flag_gti</span></div><div class='xr-var-dims'>(maintenancetime, station)</div><div class='xr-var-dtype'>float32</div><div class='xr-var-preview xr-preview'>7.0</div><input id='attrs-e789a735-6cde-431d-b602-4663a9e3dbda' class='xr-var-attrs-in' type='checkbox' ><label for='attrs-e789a735-6cde-431d-b602-4663a9e3dbda' title='Show/Hide attributes'><svg class='icon xr-icon-file-text2'><use xlink:href='#icon-file-text2'></use></svg></label><input id='data-2c3ac8b0-3214-4d41-8c78-22099b903f09' class='xr-var-data-in' type='checkbox'><label for='data-2c3ac8b0-3214-4d41-8c78-22099b903f09' title='Show/Hide data repr'><svg class='icon xr-icon-database'><use xlink:href='#icon-database'></use></svg></label><div class='xr-var-attrs'><dl class='xr-attrs'><dt><span>note_general :</span></dt><dd>222</dd><dt><span>note_clean :</span></dt><dd></dd><dt><span>note_level :</span></dt><dd></dd><dt><span>valid_range :</span></dt><dd>[ 0 11]</dd></dl></div><div class='xr-var-data'><pre>array([[7.]], dtype=float32)</pre></div></li><li class='xr-var-item'><div class='xr-var-name'><span>szen</span></div><div class='xr-var-dims'>(time, station)</div><div class='xr-var-dtype'>float64</div><div class='xr-var-preview xr-preview'>nan nan 42.51 42.51 42.51</div><input id='attrs-54b68c8e-6616-43fa-b7f1-c131d84c0a16' class='xr-var-attrs-in' type='checkbox' ><label for='attrs-54b68c8e-6616-43fa-b7f1-c131d84c0a16' title='Show/Hide attributes'><svg class='icon xr-icon-file-text2'><use xlink:href='#icon-file-text2'></use></svg></label><input id='data-c5c1a377-7666-4b25-94aa-1ac3daddf041' class='xr-var-data-in' type='checkbox'><label for='data-c5c1a377-7666-4b25-94aa-1ac3daddf041' title='Show/Hide data repr'><svg class='icon xr-icon-database'><use xlink:href='#icon-database'></use></svg></label><div class='xr-var-attrs'><dl class='xr-attrs'><dt><span>standard_name :</span></dt><dd>solar_zenith_angle</dd><dt><span>units :</span></dt><dd>degree</dd><dt><span>valid_range :</span></dt><dd>[0, 36000]</dd></dl></div><div class='xr-var-data'><pre>array([[        nan],\n       [        nan],\n       [42.51185936],\n       [42.5119952 ],\n       [42.51213125]])</pre></div></li><li class='xr-var-item'><div class='xr-var-name'><span>sazi</span></div><div class='xr-var-dims'>(time, station)</div><div class='xr-var-dtype'>float64</div><div class='xr-var-preview xr-preview'>nan nan 182.9 182.9 182.9</div><input id='attrs-54d4c622-46b1-48b8-ae81-f8f834836dca' class='xr-var-attrs-in' type='checkbox' ><label for='attrs-54d4c622-46b1-48b8-ae81-f8f834836dca' title='Show/Hide attributes'><svg class='icon xr-icon-file-text2'><use xlink:href='#icon-file-text2'></use></svg></label><input id='data-825eb4b1-6eb2-4c2a-97cb-3d5162eebb7a' class='xr-var-data-in' type='checkbox'><label for='data-825eb4b1-6eb2-4c2a-97cb-3d5162eebb7a' title='Show/Hide data repr'><svg class='icon xr-icon-database'><use xlink:href='#icon-database'></use></svg></label><div class='xr-var-attrs'><dl class='xr-attrs'><dt><span>standard_name :</span></dt><dd>solar_azimuth_angle</dd><dt><span>units :</span></dt><dd>degree</dd><dt><span>valid_range :</span></dt><dd>[0, 36000]</dd></dl></div><div class='xr-var-data'><pre>array([[         nan],\n       [         nan],\n       [182.91893638],\n       [182.92502264],\n       [182.93110846]])</pre></div></li><li class='xr-var-item'><div class='xr-var-name'><span>esd</span></div><div class='xr-var-dims'>(station)</div><div class='xr-var-dtype'>float64</div><div class='xr-var-preview xr-preview'>1.01</div><input id='attrs-5d9c157b-6a31-4b55-b84d-1a8a40efb2a6' class='xr-var-attrs-in' type='checkbox' ><label for='attrs-5d9c157b-6a31-4b55-b84d-1a8a40efb2a6' title='Show/Hide attributes'><svg class='icon xr-icon-file-text2'><use xlink:href='#icon-file-text2'></use></svg></label><input id='data-749ac745-1fdf-4944-9327-bb5b3bdcf51f' class='xr-var-data-in' type='checkbox'><label for='data-749ac745-1fdf-4944-9327-bb5b3bdcf51f' title='Show/Hide data repr'><svg class='icon xr-icon-database'><use xlink:href='#icon-database'></use></svg></label><div class='xr-var-attrs'><dl class='xr-attrs'><dt><span>long_name :</span></dt><dd>Earth-sun distance</dd><dt><span>note :</span></dt><dd>Calculated based on Spencer (1971), as mean of its values over all time steps.</dd><dt><span>units :</span></dt><dd>ua</dd></dl></div><div class='xr-var-data'><pre>array([1.00959973])</pre></div></li><li class='xr-var-item'><div class='xr-var-name'><span>qc_flag_ghi</span></div><div class='xr-var-dims'>(time, station)</div><div class='xr-var-dtype'>uint8</div><div class='xr-var-preview xr-preview'>0 0 0 0 0</div><input id='attrs-54b7016c-88af-409b-bf4f-af37ef69d6d5' class='xr-var-attrs-in' type='checkbox' ><label for='attrs-54b7016c-88af-409b-bf4f-af37ef69d6d5' title='Show/Hide attributes'><svg class='icon xr-icon-file-text2'><use xlink:href='#icon-file-text2'></use></svg></label><input id='data-92f78fd3-76de-44c0-88c8-878b2b549c64' class='xr-var-data-in' type='checkbox'><label for='data-92f78fd3-76de-44c0-88c8-878b2b549c64' title='Show/Hide data repr'><svg class='icon xr-icon-database'><use xlink:href='#icon-database'></use></svg></label><div class='xr-var-attrs'><dl class='xr-attrs'><dt><span>standard_name :</span></dt><dd>quality_flag</dd><dt><span>valid_range :</span></dt><dd>[0, 127]</dd><dt><span>serial :</span></dt><dd>S12128.001</dd><dt><span>calibration_Cabsolute :</span></dt><dd>129366.10608020698</dd><dt><span>calibration_Ccoscorr :</span></dt><dd>1.45 - 3.04·x¹ + 5.59·x² - 3.01·x³</dd><dt><span>calibration_function :</span></dt><dd>flux (W m-2) = flux (V) * Cabsolute (W m-2 V-1) * Ccoscorr(mua)</dd><dt><span>ancillary_variables :</span></dt><dd>ghi</dd><dt><span>flag_masks :</span></dt><dd>[1, 2, 4, 8, 16, 32, 64]</dd><dt><span>flag_values :</span></dt><dd>[1, 2, 4, 8, 16, 32, 64]</dd><dt><span>flag_meanings :</span></dt><dd>below_physical_limit above_physical_limit below_rare_limit above_rare_limit comparison_to_low comparison_to_high quality_control_failed</dd></dl></div><div class='xr-var-data'><pre>array([[0],\n       [0],\n       [0],\n       [0],\n       [0]], dtype=uint8)</pre></div></li><li class='xr-var-item'><div class='xr-var-name'><span>qc_flag_gti</span></div><div class='xr-var-dims'>(time, station)</div><div class='xr-var-dtype'>uint8</div><div class='xr-var-preview xr-preview'>0 0 0 0 0</div><input id='attrs-7de9b27f-40f0-4104-8836-dc34aef3c6cc' class='xr-var-attrs-in' type='checkbox' ><label for='attrs-7de9b27f-40f0-4104-8836-dc34aef3c6cc' title='Show/Hide attributes'><svg class='icon xr-icon-file-text2'><use xlink:href='#icon-file-text2'></use></svg></label><input id='data-a324934b-ef44-48a2-b79c-e70cb0a90dc7' class='xr-var-data-in' type='checkbox'><label for='data-a324934b-ef44-48a2-b79c-e70cb0a90dc7' title='Show/Hide data repr'><svg class='icon xr-icon-database'><use xlink:href='#icon-database'></use></svg></label><div class='xr-var-attrs'><dl class='xr-attrs'><dt><span>standard_name :</span></dt><dd>quality_flag</dd><dt><span>valid_range :</span></dt><dd>[0, 127]</dd><dt><span>hangle :</span></dt><dd>0.0</dd><dt><span>vangle :</span></dt><dd>0.0</dd><dt><span>serial :</span></dt><dd>S12137.049</dd><dt><span>calibration_Cabsolute :</span></dt><dd>143266.47564469912</dd><dt><span>calibration_Ccoscorr :</span></dt><dd>1.45 - 3.04·x¹ + 5.59·x² - 3.01·x³</dd><dt><span>calibration_function :</span></dt><dd>flux (W m-2) = flux (V) * Cabsolute (W m-2 V-1) * Ccoscorr(mua)</dd><dt><span>ancillary_variables :</span></dt><dd>gti</dd><dt><span>flag_masks :</span></dt><dd>[1, 2, 4, 8, 16, 32, 64]</dd><dt><span>flag_values :</span></dt><dd>[1, 2, 4, 8, 16, 32, 64]</dd><dt><span>flag_meanings :</span></dt><dd>below_physical_limit above_physical_limit below_rare_limit above_rare_limit comparison_to_low comparison_to_high quality_control_failed</dd></dl></div><div class='xr-var-data'><pre>array([[0],\n       [0],\n       [0],\n       [0],\n       [0]], dtype=uint8)</pre></div></li></ul></div></li><li class='xr-section-item'><input id='section-e1ee4a27-20d7-4e50-a8c3-f99a1a511a83' class='xr-section-summary-in' type='checkbox'  ><label for='section-e1ee4a27-20d7-4e50-a8c3-f99a1a511a83' class='xr-section-summary' >Indexes: <span>(3)</span></label><div class='xr-section-inline-details'></div><div class='xr-section-details'><ul class='xr-var-list'><li class='xr-var-item'><div class='xr-index-name'><div>station</div></div><div class='xr-index-preview'>PandasIndex</div><div></div><input id='index-df1a6cb5-2ed6-4853-a9a2-db112d2e1512' class='xr-index-data-in' type='checkbox'/><label for='index-df1a6cb5-2ed6-4853-a9a2-db112d2e1512' title='Show/Hide index repr'><svg class='icon xr-icon-database'><use xlink:href='#icon-database'></use></svg></label><div class='xr-index-data'><pre>PandasIndex(Float64Index([1.0], dtype=&#x27;float64&#x27;, name=&#x27;station&#x27;))</pre></div></li><li class='xr-var-item'><div class='xr-index-name'><div>time</div></div><div class='xr-index-preview'>PandasIndex</div><div></div><input id='index-251f718b-72a7-4e5e-bbfd-a0a04ecea800' class='xr-index-data-in' type='checkbox'/><label for='index-251f718b-72a7-4e5e-bbfd-a0a04ecea800' title='Show/Hide index repr'><svg class='icon xr-icon-database'><use xlink:href='#icon-database'></use></svg></label><div class='xr-index-data'><pre>PandasIndex(DatetimeIndex([&#x27;2022-08-30 11:21:03&#x27;, &#x27;2022-08-30 11:21:04&#x27;,\n               &#x27;2022-08-30 11:21:05&#x27;, &#x27;2022-08-30 11:21:06&#x27;,\n               &#x27;2022-08-30 11:21:07&#x27;],\n              dtype=&#x27;datetime64[ns]&#x27;, name=&#x27;time&#x27;, freq=&#x27;S&#x27;))</pre></div></li><li class='xr-var-item'><div class='xr-index-name'><div>maintenancetime</div></div><div class='xr-index-preview'>PandasIndex</div><div></div><input id='index-9e2c8bd0-0abd-4ba5-83e3-c2c59840c37b' class='xr-index-data-in' type='checkbox'/><label for='index-9e2c8bd0-0abd-4ba5-83e3-c2c59840c37b' title='Show/Hide index repr'><svg class='icon xr-icon-database'><use xlink:href='#icon-database'></use></svg></label><div class='xr-index-data'><pre>PandasIndex(DatetimeIndex([&#x27;2023-05-08 16:09:06&#x27;], dtype=&#x27;datetime64[ns]&#x27;, name=&#x27;maintenancetime&#x27;, freq=None))</pre></div></li></ul></div></li><li class='xr-section-item'><input id='section-be039337-479c-4e05-852c-c9b8d4024b07' class='xr-section-summary-in' type='checkbox'  ><label for='section-be039337-479c-4e05-852c-c9b8d4024b07' class='xr-section-summary' >Attributes: <span>(31)</span></label><div class='xr-section-inline-details'></div><div class='xr-section-details'><dl class='xr-attrs'><dt><span>Conventions :</span></dt><dd>CF-1.10, ACDD-1.3</dd><dt><span>title :</span></dt><dd>TROPOS pyranometer network (PyrNet) observational data set</dd><dt><span>history :</span></dt><dd>2024-02-29T07:54:36: Generated level l1a  by pyrnet version 0.2.4+0.gbfcb0c5.dirty; </dd><dt><span>institution :</span></dt><dd>Leibniz Institute for Tropospheric Research (TROPOS)</dd><dt><span>source :</span></dt><dd>TROPOS pyranometer network (PyrNet)</dd><dt><span>references :</span></dt><dd>https://doi.org/10.5194/amt-9-1153-2016</dd><dt><span>Department :</span></dt><dd>Remote Sensing of Atmospheric Processes</dd><dt><span>Department_team :</span></dt><dd>Clouds, Aerosol and Radiation</dd><dt><span>Address :</span></dt><dd>Permoser Str. 15, 04318 Leipzig, Germany</dd><dt><span>Contact_person :</span></dt><dd>Andreas Macke and the clouds, aerosol and radiation team of the remote sensing department, mailto:andreas.macke@tropos.de</dd><dt><span>Contributor_name :</span></dt><dd></dd><dt><span>Contributor_role :</span></dt><dd></dd><dt><span>Authors_software :</span></dt><dd>Hartwig Deneke, Jonas Witthuhn, mailto:deneke@tropos.de</dd><dt><span>Creator_name :</span></dt><dd></dd><dt><span>Project :</span></dt><dd></dd><dt><span>Standard_name_vocabulary :</span></dt><dd>CF Standard Name Table v81</dd><dt><span>License :</span></dt><dd>CC-BY-SA 3.0</dd><dt><span>TESTNOTE :</span></dt><dd>This is a test note.</dd><dt><span>processing_level :</span></dt><dd>l1a</dd><dt><span>product_version :</span></dt><dd>0.2.4+0.gbfcb0c5.dirty</dd><dt><span>date_created :</span></dt><dd>2024-02-29T07:54:36</dd><dt><span>geospatial_lat_min :</span></dt><dd>51.390208333333334</dd><dt><span>geospatial_lat_max :</span></dt><dd>51.390211666666666</dd><dt><span>geospatial_lat_units :</span></dt><dd>degN</dd><dt><span>geospatial_lon_min :</span></dt><dd>11.885246666666667</dd><dt><span>geospatial_lon_max :</span></dt><dd>11.885256666666667</dd><dt><span>geospatial_lon_units :</span></dt><dd>degE</dd><dt><span>time_coverage_start :</span></dt><dd>2022-08-30T11:21:04.065000</dd><dt><span>time_coverage_end :</span></dt><dd>2022-08-30T11:21:09</dd><dt><span>time_coverage_duration :</span></dt><dd>P0DT0H0M4.935S</dd><dt><span>time_coverage_resolution :</span></dt><dd>P0DT0H0M1.23375S</dd></dl></div></li></ul></div></div>"
     },
     "execution_count": 32,
     "metadata": {},
     "output_type": "execute_result"
    }
   ],
   "source": [
    "#|dropcode\n",
    "#|dropout\n",
    "ds_l1b = pyrnet.qcrad.add_qc_flags(ds_l1b, config[\"radflux_varname\"])\n",
    "ds_l1b"
   ]
  },
  {
   "cell_type": "markdown",
   "metadata": {
    "collapsed": false
   },
   "source": [
    "### Update variables and global attributes and encoding"
   ]
  },
  {
   "cell_type": "code",
   "execution_count": 33,
   "metadata": {
    "collapsed": false,
    "ExecuteTime": {
     "end_time": "2024-02-29T07:54:39.358192200Z",
     "start_time": "2024-02-29T07:54:38.914362200Z"
    }
   },
   "outputs": [
    {
     "data": {
      "text/plain": "<xarray.Dataset>\nDimensions:               (station: 1, time: 5, maintenancetime: 1)\nCoordinates:\n  * station               (station) float64 1.0\n  * time                  (time) datetime64[ns] 2022-08-30T11:21:03 ... 2022-...\n  * maintenancetime       (maintenancetime) datetime64[ns] 2023-05-08T16:09:06\nData variables: (12/20)\n    ghi                   (time, station) float64 269.9 269.7 280.9 280.9 280.9\n    gti                   (time, station) float64 277.3 277.3 288.8 288.6 288.6\n    ta                    (time, station) float32 294.8 294.7 294.8 294.7 294.8\n    rh                    (time, station) float32 0.6263 0.6266 ... 0.6271 0.629\n    battery_voltage       (time, station) float32 6.445 6.446 6.45 6.448 6.458\n    ghi_min               (time, station) float64 269.9 268.5 280.9 280.9 280.9\n    ...                    ...\n    maintenance_flag_gti  (maintenancetime, station) float32 7.0\n    szen                  (time, station) float64 nan nan 42.51 42.51 42.51\n    sazi                  (time, station) float64 nan nan 182.9 182.9 182.9\n    esd                   (station) float64 1.01\n    qc_flag_ghi           (time, station) uint8 0 0 0 0 0\n    qc_flag_gti           (time, station) uint8 0 0 0 0 0\nAttributes: (12/31)\n    Conventions:               CF-1.10, ACDD-1.3\n    title:                     TROPOS pyranometer network (PyrNet) observatio...\n    history:                   2024-02-29T07:54:36: Generated level l1a  by p...\n    institution:               Leibniz Institute for Tropospheric Research (T...\n    source:                    TROPOS pyranometer network (PyrNet)\n    references:                https://doi.org/10.5194/amt-9-1153-2016\n    ...                        ...\n    geospatial_lon_max:        11.885256558333333\n    geospatial_lon_units:      degE\n    time_coverage_start:       2022-08-30T11:21:03\n    time_coverage_end:         2022-08-30T11:21:07\n    time_coverage_duration:    P0DT0H0M4S\n    time_coverage_resolution:  P0DT0H0M1S",
      "text/html": "<div><svg style=\"position: absolute; width: 0; height: 0; overflow: hidden\">\n<defs>\n<symbol id=\"icon-database\" viewBox=\"0 0 32 32\">\n<path d=\"M16 0c-8.837 0-16 2.239-16 5v4c0 2.761 7.163 5 16 5s16-2.239 16-5v-4c0-2.761-7.163-5-16-5z\"></path>\n<path d=\"M16 17c-8.837 0-16-2.239-16-5v6c0 2.761 7.163 5 16 5s16-2.239 16-5v-6c0 2.761-7.163 5-16 5z\"></path>\n<path d=\"M16 26c-8.837 0-16-2.239-16-5v6c0 2.761 7.163 5 16 5s16-2.239 16-5v-6c0 2.761-7.163 5-16 5z\"></path>\n</symbol>\n<symbol id=\"icon-file-text2\" viewBox=\"0 0 32 32\">\n<path d=\"M28.681 7.159c-0.694-0.947-1.662-2.053-2.724-3.116s-2.169-2.030-3.116-2.724c-1.612-1.182-2.393-1.319-2.841-1.319h-15.5c-1.378 0-2.5 1.121-2.5 2.5v27c0 1.378 1.122 2.5 2.5 2.5h23c1.378 0 2.5-1.122 2.5-2.5v-19.5c0-0.448-0.137-1.23-1.319-2.841zM24.543 5.457c0.959 0.959 1.712 1.825 2.268 2.543h-4.811v-4.811c0.718 0.556 1.584 1.309 2.543 2.268zM28 29.5c0 0.271-0.229 0.5-0.5 0.5h-23c-0.271 0-0.5-0.229-0.5-0.5v-27c0-0.271 0.229-0.5 0.5-0.5 0 0 15.499-0 15.5 0v7c0 0.552 0.448 1 1 1h7v19.5z\"></path>\n<path d=\"M23 26h-14c-0.552 0-1-0.448-1-1s0.448-1 1-1h14c0.552 0 1 0.448 1 1s-0.448 1-1 1z\"></path>\n<path d=\"M23 22h-14c-0.552 0-1-0.448-1-1s0.448-1 1-1h14c0.552 0 1 0.448 1 1s-0.448 1-1 1z\"></path>\n<path d=\"M23 18h-14c-0.552 0-1-0.448-1-1s0.448-1 1-1h14c0.552 0 1 0.448 1 1s-0.448 1-1 1z\"></path>\n</symbol>\n</defs>\n</svg>\n<style>/* CSS stylesheet for displaying xarray objects in jupyterlab.\n *\n */\n\n:root {\n  --xr-font-color0: var(--jp-content-font-color0, rgba(0, 0, 0, 1));\n  --xr-font-color2: var(--jp-content-font-color2, rgba(0, 0, 0, 0.54));\n  --xr-font-color3: var(--jp-content-font-color3, rgba(0, 0, 0, 0.38));\n  --xr-border-color: var(--jp-border-color2, #e0e0e0);\n  --xr-disabled-color: var(--jp-layout-color3, #bdbdbd);\n  --xr-background-color: var(--jp-layout-color0, white);\n  --xr-background-color-row-even: var(--jp-layout-color1, white);\n  --xr-background-color-row-odd: var(--jp-layout-color2, #eeeeee);\n}\n\nhtml[theme=dark],\nbody[data-theme=dark],\nbody.vscode-dark {\n  --xr-font-color0: rgba(255, 255, 255, 1);\n  --xr-font-color2: rgba(255, 255, 255, 0.54);\n  --xr-font-color3: rgba(255, 255, 255, 0.38);\n  --xr-border-color: #1F1F1F;\n  --xr-disabled-color: #515151;\n  --xr-background-color: #111111;\n  --xr-background-color-row-even: #111111;\n  --xr-background-color-row-odd: #313131;\n}\n\n.xr-wrap {\n  display: block !important;\n  min-width: 300px;\n  max-width: 700px;\n}\n\n.xr-text-repr-fallback {\n  /* fallback to plain text repr when CSS is not injected (untrusted notebook) */\n  display: none;\n}\n\n.xr-header {\n  padding-top: 6px;\n  padding-bottom: 6px;\n  margin-bottom: 4px;\n  border-bottom: solid 1px var(--xr-border-color);\n}\n\n.xr-header > div,\n.xr-header > ul {\n  display: inline;\n  margin-top: 0;\n  margin-bottom: 0;\n}\n\n.xr-obj-type,\n.xr-array-name {\n  margin-left: 2px;\n  margin-right: 10px;\n}\n\n.xr-obj-type {\n  color: var(--xr-font-color2);\n}\n\n.xr-sections {\n  padding-left: 0 !important;\n  display: grid;\n  grid-template-columns: 150px auto auto 1fr 20px 20px;\n}\n\n.xr-section-item {\n  display: contents;\n}\n\n.xr-section-item input {\n  display: none;\n}\n\n.xr-section-item input + label {\n  color: var(--xr-disabled-color);\n}\n\n.xr-section-item input:enabled + label {\n  cursor: pointer;\n  color: var(--xr-font-color2);\n}\n\n.xr-section-item input:enabled + label:hover {\n  color: var(--xr-font-color0);\n}\n\n.xr-section-summary {\n  grid-column: 1;\n  color: var(--xr-font-color2);\n  font-weight: 500;\n}\n\n.xr-section-summary > span {\n  display: inline-block;\n  padding-left: 0.5em;\n}\n\n.xr-section-summary-in:disabled + label {\n  color: var(--xr-font-color2);\n}\n\n.xr-section-summary-in + label:before {\n  display: inline-block;\n  content: '►';\n  font-size: 11px;\n  width: 15px;\n  text-align: center;\n}\n\n.xr-section-summary-in:disabled + label:before {\n  color: var(--xr-disabled-color);\n}\n\n.xr-section-summary-in:checked + label:before {\n  content: '▼';\n}\n\n.xr-section-summary-in:checked + label > span {\n  display: none;\n}\n\n.xr-section-summary,\n.xr-section-inline-details {\n  padding-top: 4px;\n  padding-bottom: 4px;\n}\n\n.xr-section-inline-details {\n  grid-column: 2 / -1;\n}\n\n.xr-section-details {\n  display: none;\n  grid-column: 1 / -1;\n  margin-bottom: 5px;\n}\n\n.xr-section-summary-in:checked ~ .xr-section-details {\n  display: contents;\n}\n\n.xr-array-wrap {\n  grid-column: 1 / -1;\n  display: grid;\n  grid-template-columns: 20px auto;\n}\n\n.xr-array-wrap > label {\n  grid-column: 1;\n  vertical-align: top;\n}\n\n.xr-preview {\n  color: var(--xr-font-color3);\n}\n\n.xr-array-preview,\n.xr-array-data {\n  padding: 0 5px !important;\n  grid-column: 2;\n}\n\n.xr-array-data,\n.xr-array-in:checked ~ .xr-array-preview {\n  display: none;\n}\n\n.xr-array-in:checked ~ .xr-array-data,\n.xr-array-preview {\n  display: inline-block;\n}\n\n.xr-dim-list {\n  display: inline-block !important;\n  list-style: none;\n  padding: 0 !important;\n  margin: 0;\n}\n\n.xr-dim-list li {\n  display: inline-block;\n  padding: 0;\n  margin: 0;\n}\n\n.xr-dim-list:before {\n  content: '(';\n}\n\n.xr-dim-list:after {\n  content: ')';\n}\n\n.xr-dim-list li:not(:last-child):after {\n  content: ',';\n  padding-right: 5px;\n}\n\n.xr-has-index {\n  font-weight: bold;\n}\n\n.xr-var-list,\n.xr-var-item {\n  display: contents;\n}\n\n.xr-var-item > div,\n.xr-var-item label,\n.xr-var-item > .xr-var-name span {\n  background-color: var(--xr-background-color-row-even);\n  margin-bottom: 0;\n}\n\n.xr-var-item > .xr-var-name:hover span {\n  padding-right: 5px;\n}\n\n.xr-var-list > li:nth-child(odd) > div,\n.xr-var-list > li:nth-child(odd) > label,\n.xr-var-list > li:nth-child(odd) > .xr-var-name span {\n  background-color: var(--xr-background-color-row-odd);\n}\n\n.xr-var-name {\n  grid-column: 1;\n}\n\n.xr-var-dims {\n  grid-column: 2;\n}\n\n.xr-var-dtype {\n  grid-column: 3;\n  text-align: right;\n  color: var(--xr-font-color2);\n}\n\n.xr-var-preview {\n  grid-column: 4;\n}\n\n.xr-index-preview {\n  grid-column: 2 / 5;\n  color: var(--xr-font-color2);\n}\n\n.xr-var-name,\n.xr-var-dims,\n.xr-var-dtype,\n.xr-preview,\n.xr-attrs dt {\n  white-space: nowrap;\n  overflow: hidden;\n  text-overflow: ellipsis;\n  padding-right: 10px;\n}\n\n.xr-var-name:hover,\n.xr-var-dims:hover,\n.xr-var-dtype:hover,\n.xr-attrs dt:hover {\n  overflow: visible;\n  width: auto;\n  z-index: 1;\n}\n\n.xr-var-attrs,\n.xr-var-data,\n.xr-index-data {\n  display: none;\n  background-color: var(--xr-background-color) !important;\n  padding-bottom: 5px !important;\n}\n\n.xr-var-attrs-in:checked ~ .xr-var-attrs,\n.xr-var-data-in:checked ~ .xr-var-data,\n.xr-index-data-in:checked ~ .xr-index-data {\n  display: block;\n}\n\n.xr-var-data > table {\n  float: right;\n}\n\n.xr-var-name span,\n.xr-var-data,\n.xr-index-name div,\n.xr-index-data,\n.xr-attrs {\n  padding-left: 25px !important;\n}\n\n.xr-attrs,\n.xr-var-attrs,\n.xr-var-data,\n.xr-index-data {\n  grid-column: 1 / -1;\n}\n\ndl.xr-attrs {\n  padding: 0;\n  margin: 0;\n  display: grid;\n  grid-template-columns: 125px auto;\n}\n\n.xr-attrs dt,\n.xr-attrs dd {\n  padding: 0;\n  margin: 0;\n  float: left;\n  padding-right: 10px;\n  width: auto;\n}\n\n.xr-attrs dt {\n  font-weight: normal;\n  grid-column: 1;\n}\n\n.xr-attrs dt:hover span {\n  display: inline-block;\n  background: var(--xr-background-color);\n  padding-right: 10px;\n}\n\n.xr-attrs dd {\n  grid-column: 2;\n  white-space: pre-wrap;\n  word-break: break-all;\n}\n\n.xr-icon-database,\n.xr-icon-file-text2,\n.xr-no-icon {\n  display: inline-block;\n  vertical-align: middle;\n  width: 1em;\n  height: 1.5em !important;\n  stroke-width: 0;\n  stroke: currentColor;\n  fill: currentColor;\n}\n</style><pre class='xr-text-repr-fallback'>&lt;xarray.Dataset&gt;\nDimensions:               (station: 1, time: 5, maintenancetime: 1)\nCoordinates:\n  * station               (station) float64 1.0\n  * time                  (time) datetime64[ns] 2022-08-30T11:21:03 ... 2022-...\n  * maintenancetime       (maintenancetime) datetime64[ns] 2023-05-08T16:09:06\nData variables: (12/20)\n    ghi                   (time, station) float64 269.9 269.7 280.9 280.9 280.9\n    gti                   (time, station) float64 277.3 277.3 288.8 288.6 288.6\n    ta                    (time, station) float32 294.8 294.7 294.8 294.7 294.8\n    rh                    (time, station) float32 0.6263 0.6266 ... 0.6271 0.629\n    battery_voltage       (time, station) float32 6.445 6.446 6.45 6.448 6.458\n    ghi_min               (time, station) float64 269.9 268.5 280.9 280.9 280.9\n    ...                    ...\n    maintenance_flag_gti  (maintenancetime, station) float32 7.0\n    szen                  (time, station) float64 nan nan 42.51 42.51 42.51\n    sazi                  (time, station) float64 nan nan 182.9 182.9 182.9\n    esd                   (station) float64 1.01\n    qc_flag_ghi           (time, station) uint8 0 0 0 0 0\n    qc_flag_gti           (time, station) uint8 0 0 0 0 0\nAttributes: (12/31)\n    Conventions:               CF-1.10, ACDD-1.3\n    title:                     TROPOS pyranometer network (PyrNet) observatio...\n    history:                   2024-02-29T07:54:36: Generated level l1a  by p...\n    institution:               Leibniz Institute for Tropospheric Research (T...\n    source:                    TROPOS pyranometer network (PyrNet)\n    references:                https://doi.org/10.5194/amt-9-1153-2016\n    ...                        ...\n    geospatial_lon_max:        11.885256558333333\n    geospatial_lon_units:      degE\n    time_coverage_start:       2022-08-30T11:21:03\n    time_coverage_end:         2022-08-30T11:21:07\n    time_coverage_duration:    P0DT0H0M4S\n    time_coverage_resolution:  P0DT0H0M1S</pre><div class='xr-wrap' style='display:none'><div class='xr-header'><div class='xr-obj-type'>xarray.Dataset</div></div><ul class='xr-sections'><li class='xr-section-item'><input id='section-50ebf257-4333-48fb-92c2-229519719a0c' class='xr-section-summary-in' type='checkbox' disabled ><label for='section-50ebf257-4333-48fb-92c2-229519719a0c' class='xr-section-summary'  title='Expand/collapse section'>Dimensions:</label><div class='xr-section-inline-details'><ul class='xr-dim-list'><li><span class='xr-has-index'>station</span>: 1</li><li><span class='xr-has-index'>time</span>: 5</li><li><span class='xr-has-index'>maintenancetime</span>: 1</li></ul></div><div class='xr-section-details'></div></li><li class='xr-section-item'><input id='section-6b65b23e-8393-4fc5-bd15-f84cbf842321' class='xr-section-summary-in' type='checkbox'  checked><label for='section-6b65b23e-8393-4fc5-bd15-f84cbf842321' class='xr-section-summary' >Coordinates: <span>(3)</span></label><div class='xr-section-inline-details'></div><div class='xr-section-details'><ul class='xr-var-list'><li class='xr-var-item'><div class='xr-var-name'><span class='xr-has-index'>station</span></div><div class='xr-var-dims'>(station)</div><div class='xr-var-dtype'>float64</div><div class='xr-var-preview xr-preview'>1.0</div><input id='attrs-59fab8e6-4df8-47bc-98c8-9c01f9e761e9' class='xr-var-attrs-in' type='checkbox' ><label for='attrs-59fab8e6-4df8-47bc-98c8-9c01f9e761e9' title='Show/Hide attributes'><svg class='icon xr-icon-file-text2'><use xlink:href='#icon-file-text2'></use></svg></label><input id='data-7e3171f1-1531-443e-a64b-36b4df6056fd' class='xr-var-data-in' type='checkbox'><label for='data-7e3171f1-1531-443e-a64b-36b4df6056fd' title='Show/Hide data repr'><svg class='icon xr-icon-database'><use xlink:href='#icon-database'></use></svg></label><div class='xr-var-attrs'><dl class='xr-attrs'><dt><span>units :</span></dt><dd>-</dd><dt><span>long_name :</span></dt><dd>PyrNet unit box number</dd></dl></div><div class='xr-var-data'><pre>array([1.])</pre></div></li><li class='xr-var-item'><div class='xr-var-name'><span class='xr-has-index'>time</span></div><div class='xr-var-dims'>(time)</div><div class='xr-var-dtype'>datetime64[ns]</div><div class='xr-var-preview xr-preview'>2022-08-30T11:21:03 ... 2022-08-...</div><input id='attrs-0ab4a5e9-4a5f-40de-8e0f-547bba702259' class='xr-var-attrs-in' type='checkbox' disabled><label for='attrs-0ab4a5e9-4a5f-40de-8e0f-547bba702259' title='Show/Hide attributes'><svg class='icon xr-icon-file-text2'><use xlink:href='#icon-file-text2'></use></svg></label><input id='data-795906bf-f261-4db4-be70-0b60a09245fc' class='xr-var-data-in' type='checkbox'><label for='data-795906bf-f261-4db4-be70-0b60a09245fc' title='Show/Hide data repr'><svg class='icon xr-icon-database'><use xlink:href='#icon-database'></use></svg></label><div class='xr-var-attrs'><dl class='xr-attrs'></dl></div><div class='xr-var-data'><pre>array([&#x27;2022-08-30T11:21:03.000000000&#x27;, &#x27;2022-08-30T11:21:04.000000000&#x27;,\n       &#x27;2022-08-30T11:21:05.000000000&#x27;, &#x27;2022-08-30T11:21:06.000000000&#x27;,\n       &#x27;2022-08-30T11:21:07.000000000&#x27;], dtype=&#x27;datetime64[ns]&#x27;)</pre></div></li><li class='xr-var-item'><div class='xr-var-name'><span class='xr-has-index'>maintenancetime</span></div><div class='xr-var-dims'>(maintenancetime)</div><div class='xr-var-dtype'>datetime64[ns]</div><div class='xr-var-preview xr-preview'>2023-05-08T16:09:06</div><input id='attrs-43ac7998-aeed-4267-a4fd-357447fd8500' class='xr-var-attrs-in' type='checkbox' disabled><label for='attrs-43ac7998-aeed-4267-a4fd-357447fd8500' title='Show/Hide attributes'><svg class='icon xr-icon-file-text2'><use xlink:href='#icon-file-text2'></use></svg></label><input id='data-a3e18375-5925-446f-b40d-885f368b74d9' class='xr-var-data-in' type='checkbox'><label for='data-a3e18375-5925-446f-b40d-885f368b74d9' title='Show/Hide data repr'><svg class='icon xr-icon-database'><use xlink:href='#icon-database'></use></svg></label><div class='xr-var-attrs'><dl class='xr-attrs'></dl></div><div class='xr-var-data'><pre>array([&#x27;2023-05-08T16:09:06.000000000&#x27;], dtype=&#x27;datetime64[ns]&#x27;)</pre></div></li></ul></div></li><li class='xr-section-item'><input id='section-dd8ad7eb-4798-4770-9d05-e7d168b23774' class='xr-section-summary-in' type='checkbox'  ><label for='section-dd8ad7eb-4798-4770-9d05-e7d168b23774' class='xr-section-summary' >Data variables: <span>(20)</span></label><div class='xr-section-inline-details'></div><div class='xr-section-details'><ul class='xr-var-list'><li class='xr-var-item'><div class='xr-var-name'><span>ghi</span></div><div class='xr-var-dims'>(time, station)</div><div class='xr-var-dtype'>float64</div><div class='xr-var-preview xr-preview'>269.9 269.7 280.9 280.9 280.9</div><input id='attrs-edde1d35-2845-4f7b-8a1b-c0febdaba0cf' class='xr-var-attrs-in' type='checkbox' ><label for='attrs-edde1d35-2845-4f7b-8a1b-c0febdaba0cf' title='Show/Hide attributes'><svg class='icon xr-icon-file-text2'><use xlink:href='#icon-file-text2'></use></svg></label><input id='data-341b0736-c1ee-4701-a332-fb358e99251a' class='xr-var-data-in' type='checkbox'><label for='data-341b0736-c1ee-4701-a332-fb358e99251a' title='Show/Hide data repr'><svg class='icon xr-icon-database'><use xlink:href='#icon-database'></use></svg></label><div class='xr-var-attrs'><dl class='xr-attrs'><dt><span>units :</span></dt><dd>W m-2</dd><dt><span>long_name :</span></dt><dd>downwelling shortwave flux</dd><dt><span>standard_name :</span></dt><dd>downwelling_shortwave_flux_in_air</dd><dt><span>valid_range :</span></dt><dd>[   0 1023]</dd><dt><span>serial :</span></dt><dd>S12128.001</dd><dt><span>calibration_Cabsolute :</span></dt><dd>129366.10608020698</dd><dt><span>calibration_Ccoscorr :</span></dt><dd>1.45 - 3.04·x¹ + 5.59·x² - 3.01·x³</dd><dt><span>calibration_function :</span></dt><dd>flux (W m-2) = flux (V) * Cabsolute (W m-2 V-1) * Ccoscorr(mua)</dd></dl></div><div class='xr-var-data'><pre>array([[269.860475  ],\n       [269.72137902],\n       [280.90462604],\n       [280.90449869],\n       [280.90437115]])</pre></div></li><li class='xr-var-item'><div class='xr-var-name'><span>gti</span></div><div class='xr-var-dims'>(time, station)</div><div class='xr-var-dtype'>float64</div><div class='xr-var-preview xr-preview'>277.3 277.3 288.8 288.6 288.6</div><input id='attrs-86bab623-9bed-4a9f-88ce-6cf7e3b0bb38' class='xr-var-attrs-in' type='checkbox' ><label for='attrs-86bab623-9bed-4a9f-88ce-6cf7e3b0bb38' title='Show/Hide attributes'><svg class='icon xr-icon-file-text2'><use xlink:href='#icon-file-text2'></use></svg></label><input id='data-c7ca76a6-5b5e-42f7-89ae-de11ddd3ea3c' class='xr-var-data-in' type='checkbox'><label for='data-c7ca76a6-5b5e-42f7-89ae-de11ddd3ea3c' title='Show/Hide data repr'><svg class='icon xr-icon-database'><use xlink:href='#icon-database'></use></svg></label><div class='xr-var-attrs'><dl class='xr-attrs'><dt><span>units :</span></dt><dd>W m-2</dd><dt><span>long_name :</span></dt><dd>downwelling shortwave flux measured on secondary platform, might be tilted</dd><dt><span>standard_name :</span></dt><dd>downwelling_shortwave_flux_in_air</dd><dt><span>valid_range :</span></dt><dd>[   0 1023]</dd><dt><span>hangle :</span></dt><dd>0.0</dd><dt><span>vangle :</span></dt><dd>0.0</dd><dt><span>serial :</span></dt><dd>S12137.049</dd><dt><span>calibration_Cabsolute :</span></dt><dd>143266.47564469912</dd><dt><span>calibration_Ccoscorr :</span></dt><dd>1.45 - 3.04·x¹ + 5.59·x² - 3.01·x³</dd><dt><span>calibration_function :</span></dt><dd>flux (W m-2) = flux (V) * Cabsolute (W m-2 V-1) * Ccoscorr(mua)</dd></dl></div><div class='xr-var-data'><pre>array([[277.28995527],\n       [277.28995527],\n       [288.79852425],\n       [288.63802999],\n       [288.63789894]])</pre></div></li><li class='xr-var-item'><div class='xr-var-name'><span>ta</span></div><div class='xr-var-dims'>(time, station)</div><div class='xr-var-dtype'>float32</div><div class='xr-var-preview xr-preview'>294.8 294.7 294.8 294.7 294.8</div><input id='attrs-48ae5196-100c-4c5f-8bfa-0511bead9445' class='xr-var-attrs-in' type='checkbox' ><label for='attrs-48ae5196-100c-4c5f-8bfa-0511bead9445' title='Show/Hide attributes'><svg class='icon xr-icon-file-text2'><use xlink:href='#icon-file-text2'></use></svg></label><input id='data-e01d64cb-0f09-4efa-8a58-8035b295ee87' class='xr-var-data-in' type='checkbox'><label for='data-e01d64cb-0f09-4efa-8a58-8035b295ee87' title='Show/Hide data repr'><svg class='icon xr-icon-database'><use xlink:href='#icon-database'></use></svg></label><div class='xr-var-attrs'><dl class='xr-attrs'><dt><span>units :</span></dt><dd>K</dd><dt><span>long_name :</span></dt><dd>air temperature</dd><dt><span>standard_name :</span></dt><dd>air_temperature</dd><dt><span>valid_range :</span></dt><dd>[  0 775]</dd></dl></div><div class='xr-var-data'><pre>array([[294.7758 ],\n       [294.74997],\n       [294.7887 ],\n       [294.74997],\n       [294.82742]], dtype=float32)</pre></div></li><li class='xr-var-item'><div class='xr-var-name'><span>rh</span></div><div class='xr-var-dims'>(time, station)</div><div class='xr-var-dtype'>float32</div><div class='xr-var-preview xr-preview'>0.6263 0.6266 0.6271 0.6271 0.629</div><input id='attrs-05dd6313-b21e-4f6a-96f8-0d10803972af' class='xr-var-attrs-in' type='checkbox' ><label for='attrs-05dd6313-b21e-4f6a-96f8-0d10803972af' title='Show/Hide attributes'><svg class='icon xr-icon-file-text2'><use xlink:href='#icon-file-text2'></use></svg></label><input id='data-595abcdb-6d31-4d10-8245-e2412ff235b2' class='xr-var-data-in' type='checkbox'><label for='data-595abcdb-6d31-4d10-8245-e2412ff235b2' title='Show/Hide data repr'><svg class='icon xr-icon-database'><use xlink:href='#icon-database'></use></svg></label><div class='xr-var-attrs'><dl class='xr-attrs'><dt><span>units :</span></dt><dd>1</dd><dt><span>long_name :</span></dt><dd>air relative humidity</dd><dt><span>standard_name :</span></dt><dd>relative_humidity</dd><dt><span>valid_range :</span></dt><dd>[  0 775]</dd></dl></div><div class='xr-var-data'><pre>array([[0.62632257],\n       [0.6265806 ],\n       [0.6270968 ],\n       [0.6270968 ],\n       [0.62903225]], dtype=float32)</pre></div></li><li class='xr-var-item'><div class='xr-var-name'><span>battery_voltage</span></div><div class='xr-var-dims'>(time, station)</div><div class='xr-var-dtype'>float32</div><div class='xr-var-preview xr-preview'>6.445 6.446 6.45 6.448 6.458</div><input id='attrs-ef2d1a4f-ae37-4b99-b5d1-43bf483dcc55' class='xr-var-attrs-in' type='checkbox' ><label for='attrs-ef2d1a4f-ae37-4b99-b5d1-43bf483dcc55' title='Show/Hide attributes'><svg class='icon xr-icon-file-text2'><use xlink:href='#icon-file-text2'></use></svg></label><input id='data-ef467689-f870-479e-9a4a-d7f7677961ce' class='xr-var-data-in' type='checkbox'><label for='data-ef467689-f870-479e-9a4a-d7f7677961ce' title='Show/Hide data repr'><svg class='icon xr-icon-database'><use xlink:href='#icon-database'></use></svg></label><div class='xr-var-attrs'><dl class='xr-attrs'><dt><span>units :</span></dt><dd>V</dd><dt><span>standard_name :</span></dt><dd>battery_voltage</dd><dt><span>valid_range :</span></dt><dd>[  0 992]</dd></dl></div><div class='xr-var-data'><pre>array([[6.4451613],\n       [6.445807 ],\n       [6.4496775],\n       [6.4477415],\n       [6.4580646]], dtype=float32)</pre></div></li><li class='xr-var-item'><div class='xr-var-name'><span>ghi_min</span></div><div class='xr-var-dims'>(time, station)</div><div class='xr-var-dtype'>float64</div><div class='xr-var-preview xr-preview'>269.9 268.5 280.9 280.9 280.9</div><input id='attrs-b9cb8cf0-52c0-42dc-b9c9-d9733d5bf6aa' class='xr-var-attrs-in' type='checkbox' ><label for='attrs-b9cb8cf0-52c0-42dc-b9c9-d9733d5bf6aa' title='Show/Hide attributes'><svg class='icon xr-icon-file-text2'><use xlink:href='#icon-file-text2'></use></svg></label><input id='data-685e04f4-922d-4937-9849-205d897d5ff0' class='xr-var-data-in' type='checkbox'><label for='data-685e04f4-922d-4937-9849-205d897d5ff0' title='Show/Hide data repr'><svg class='icon xr-icon-database'><use xlink:href='#icon-database'></use></svg></label><div class='xr-var-attrs'><dl class='xr-attrs'><dt><span>units :</span></dt><dd>W m-2</dd><dt><span>long_name :</span></dt><dd>downwelling shortwave flux</dd><dt><span>standard_name :</span></dt><dd>min_downwelling_shortwave_flux_in_air</dd><dt><span>valid_range :</span></dt><dd>[   0 1023]</dd><dt><span>serial :</span></dt><dd>S12128.001</dd><dt><span>calibration_Cabsolute :</span></dt><dd>129366.10608020698</dd><dt><span>calibration_Ccoscorr :</span></dt><dd>1.45 - 3.04·x¹ + 5.59·x² - 3.01·x³</dd><dt><span>calibration_function :</span></dt><dd>flux (W m-2) = flux (V) * Cabsolute (W m-2 V-1) * Ccoscorr(mua)</dd></dl></div><div class='xr-var-data'><pre>array([[269.860475  ],\n       [268.46945498],\n       [280.90462604],\n       [280.90449869],\n       [280.90437115]])</pre></div></li><li class='xr-var-item'><div class='xr-var-name'><span>gti_min</span></div><div class='xr-var-dims'>(time, station)</div><div class='xr-var-dtype'>float64</div><div class='xr-var-preview xr-preview'>277.3 275.7 287.0 288.6 288.6</div><input id='attrs-87067b9d-48c1-47ee-9188-340518c69d1f' class='xr-var-attrs-in' type='checkbox' ><label for='attrs-87067b9d-48c1-47ee-9188-340518c69d1f' title='Show/Hide attributes'><svg class='icon xr-icon-file-text2'><use xlink:href='#icon-file-text2'></use></svg></label><input id='data-01ffde52-85a1-41d9-8949-e29f0544d7e6' class='xr-var-data-in' type='checkbox'><label for='data-01ffde52-85a1-41d9-8949-e29f0544d7e6' title='Show/Hide data repr'><svg class='icon xr-icon-database'><use xlink:href='#icon-database'></use></svg></label><div class='xr-var-attrs'><dl class='xr-attrs'><dt><span>units :</span></dt><dd>W m-2</dd><dt><span>long_name :</span></dt><dd>downwelling shortwave flux measured on secondary platform, might be tilted</dd><dt><span>standard_name :</span></dt><dd>min_downwelling_shortwave_flux_in_air</dd><dt><span>valid_range :</span></dt><dd>[   0 1023]</dd><dt><span>hangle :</span></dt><dd>0.0</dd><dt><span>vangle :</span></dt><dd>0.0</dd><dt><span>serial :</span></dt><dd>S12137.049</dd><dt><span>calibration_Cabsolute :</span></dt><dd>143266.47564469912</dd><dt><span>calibration_Ccoscorr :</span></dt><dd>1.45 - 3.04·x¹ + 5.59·x² - 3.01·x³</dd><dt><span>calibration_function :</span></dt><dd>flux (W m-2) = flux (V) * Cabsolute (W m-2 V-1) * Ccoscorr(mua)</dd></dl></div><div class='xr-var-data'><pre>array([[277.28995527],\n       [275.74945367],\n       [287.03461358],\n       [288.63802999],\n       [288.63789894]])</pre></div></li><li class='xr-var-item'><div class='xr-var-name'><span>ghi_max</span></div><div class='xr-var-dims'>(time, station)</div><div class='xr-var-dtype'>float64</div><div class='xr-var-preview xr-preview'>269.9 269.9 280.9 280.9 280.9</div><input id='attrs-cf211ca9-61b4-4363-8164-53e006b3b300' class='xr-var-attrs-in' type='checkbox' ><label for='attrs-cf211ca9-61b4-4363-8164-53e006b3b300' title='Show/Hide attributes'><svg class='icon xr-icon-file-text2'><use xlink:href='#icon-file-text2'></use></svg></label><input id='data-b859738c-34b4-40d8-af61-45db52f8251a' class='xr-var-data-in' type='checkbox'><label for='data-b859738c-34b4-40d8-af61-45db52f8251a' title='Show/Hide data repr'><svg class='icon xr-icon-database'><use xlink:href='#icon-database'></use></svg></label><div class='xr-var-attrs'><dl class='xr-attrs'><dt><span>units :</span></dt><dd>W m-2</dd><dt><span>long_name :</span></dt><dd>downwelling shortwave flux</dd><dt><span>standard_name :</span></dt><dd>max_downwelling_shortwave_flux_in_air</dd><dt><span>valid_range :</span></dt><dd>[   0 1023]</dd><dt><span>serial :</span></dt><dd>S12128.001</dd><dt><span>calibration_Cabsolute :</span></dt><dd>129366.10608020698</dd><dt><span>calibration_Ccoscorr :</span></dt><dd>1.45 - 3.04·x¹ + 5.59·x² - 3.01·x³</dd><dt><span>calibration_function :</span></dt><dd>flux (W m-2) = flux (V) * Cabsolute (W m-2 V-1) * Ccoscorr(mua)</dd></dl></div><div class='xr-var-data'><pre>array([[269.860475  ],\n       [269.860475  ],\n       [280.90462604],\n       [280.90449869],\n       [280.90437115]])</pre></div></li><li class='xr-var-item'><div class='xr-var-name'><span>gti_max</span></div><div class='xr-var-dims'>(time, station)</div><div class='xr-var-dtype'>float64</div><div class='xr-var-preview xr-preview'>277.3 278.8 290.2 288.6 288.6</div><input id='attrs-ac89ccd5-76fe-4978-b961-e24390e1aa81' class='xr-var-attrs-in' type='checkbox' ><label for='attrs-ac89ccd5-76fe-4978-b961-e24390e1aa81' title='Show/Hide attributes'><svg class='icon xr-icon-file-text2'><use xlink:href='#icon-file-text2'></use></svg></label><input id='data-400001a3-7ab0-4c4e-b749-d9f260b340c2' class='xr-var-data-in' type='checkbox'><label for='data-400001a3-7ab0-4c4e-b749-d9f260b340c2' title='Show/Hide data repr'><svg class='icon xr-icon-database'><use xlink:href='#icon-database'></use></svg></label><div class='xr-var-attrs'><dl class='xr-attrs'><dt><span>units :</span></dt><dd>W m-2</dd><dt><span>long_name :</span></dt><dd>downwelling shortwave flux measured on secondary platform, might be tilted</dd><dt><span>standard_name :</span></dt><dd>max_downwelling_shortwave_flux_in_air</dd><dt><span>valid_range :</span></dt><dd>[   0 1023]</dd><dt><span>hangle :</span></dt><dd>0.0</dd><dt><span>vangle :</span></dt><dd>0.0</dd><dt><span>serial :</span></dt><dd>S12137.049</dd><dt><span>calibration_Cabsolute :</span></dt><dd>143266.47564469912</dd><dt><span>calibration_Ccoscorr :</span></dt><dd>1.45 - 3.04·x¹ + 5.59·x² - 3.01·x³</dd><dt><span>calibration_function :</span></dt><dd>flux (W m-2) = flux (V) * Cabsolute (W m-2 V-1) * Ccoscorr(mua)</dd></dl></div><div class='xr-var-data'><pre>array([[277.28995527],\n       [278.83045688],\n       [290.24170811],\n       [288.63802999],\n       [288.63789894]])</pre></div></li><li class='xr-var-item'><div class='xr-var-name'><span>ghi_std</span></div><div class='xr-var-dims'>(time, station)</div><div class='xr-var-dtype'>float64</div><div class='xr-var-preview xr-preview'>0.0 0.4399 0.0 0.0 0.0</div><input id='attrs-949f0acc-7720-4fc4-bb92-d99ec0b36dbe' class='xr-var-attrs-in' type='checkbox' ><label for='attrs-949f0acc-7720-4fc4-bb92-d99ec0b36dbe' title='Show/Hide attributes'><svg class='icon xr-icon-file-text2'><use xlink:href='#icon-file-text2'></use></svg></label><input id='data-15feb869-e30d-41c8-8217-4d31a6562678' class='xr-var-data-in' type='checkbox'><label for='data-15feb869-e30d-41c8-8217-4d31a6562678' title='Show/Hide data repr'><svg class='icon xr-icon-database'><use xlink:href='#icon-database'></use></svg></label><div class='xr-var-attrs'><dl class='xr-attrs'><dt><span>units :</span></dt><dd>W m-2</dd><dt><span>long_name :</span></dt><dd>downwelling shortwave flux</dd><dt><span>standard_name :</span></dt><dd>std_downwelling_shortwave_flux_in_air</dd><dt><span>valid_range :</span></dt><dd>[   0 1023]</dd><dt><span>serial :</span></dt><dd>S12128.001</dd><dt><span>calibration_Cabsolute :</span></dt><dd>129366.10608020698</dd><dt><span>calibration_Ccoscorr :</span></dt><dd>1.45 - 3.04·x¹ + 5.59·x² - 3.01·x³</dd><dt><span>calibration_function :</span></dt><dd>flux (W m-2) = flux (V) * Cabsolute (W m-2 V-1) * Ccoscorr(mua)</dd></dl></div><div class='xr-var-data'><pre>array([[0.        ],\n       [0.43987915],\n       [0.        ],\n       [0.        ],\n       [0.        ]])</pre></div></li><li class='xr-var-item'><div class='xr-var-name'><span>gti_std</span></div><div class='xr-var-dims'>(time, station)</div><div class='xr-var-dtype'>float64</div><div class='xr-var-preview xr-preview'>0.0 0.7262 0.9102 0.0 0.0</div><input id='attrs-1131b6c0-8936-4cd5-9501-c2ede3ff5ccb' class='xr-var-attrs-in' type='checkbox' ><label for='attrs-1131b6c0-8936-4cd5-9501-c2ede3ff5ccb' title='Show/Hide attributes'><svg class='icon xr-icon-file-text2'><use xlink:href='#icon-file-text2'></use></svg></label><input id='data-092f7674-da3e-44c8-9203-2fcffaacfc4a' class='xr-var-data-in' type='checkbox'><label for='data-092f7674-da3e-44c8-9203-2fcffaacfc4a' title='Show/Hide data repr'><svg class='icon xr-icon-database'><use xlink:href='#icon-database'></use></svg></label><div class='xr-var-attrs'><dl class='xr-attrs'><dt><span>units :</span></dt><dd>W m-2</dd><dt><span>long_name :</span></dt><dd>downwelling shortwave flux measured on secondary platform, might be tilted</dd><dt><span>standard_name :</span></dt><dd>std_downwelling_shortwave_flux_in_air</dd><dt><span>valid_range :</span></dt><dd>[   0 1023]</dd><dt><span>hangle :</span></dt><dd>0.0</dd><dt><span>vangle :</span></dt><dd>0.0</dd><dt><span>serial :</span></dt><dd>S12137.049</dd><dt><span>calibration_Cabsolute :</span></dt><dd>143266.47564469912</dd><dt><span>calibration_Ccoscorr :</span></dt><dd>1.45 - 3.04·x¹ + 5.59·x² - 3.01·x³</dd><dt><span>calibration_function :</span></dt><dd>flux (W m-2) = flux (V) * Cabsolute (W m-2 V-1) * Ccoscorr(mua)</dd></dl></div><div class='xr-var-data'><pre>array([[0.        ],\n       [0.72619942],\n       [0.91024753],\n       [0.        ],\n       [0.        ]])</pre></div></li><li class='xr-var-item'><div class='xr-var-name'><span>lat</span></div><div class='xr-var-dims'>(time, station)</div><div class='xr-var-dtype'>float64</div><div class='xr-var-preview xr-preview'>nan nan 51.39 51.39 51.39</div><input id='attrs-69bb3cec-e6c0-4772-8668-7834aa64d9f5' class='xr-var-attrs-in' type='checkbox' ><label for='attrs-69bb3cec-e6c0-4772-8668-7834aa64d9f5' title='Show/Hide attributes'><svg class='icon xr-icon-file-text2'><use xlink:href='#icon-file-text2'></use></svg></label><input id='data-554b8361-8a62-4e98-a133-3f53026c2221' class='xr-var-data-in' type='checkbox'><label for='data-554b8361-8a62-4e98-a133-3f53026c2221' title='Show/Hide data repr'><svg class='icon xr-icon-database'><use xlink:href='#icon-database'></use></svg></label><div class='xr-var-attrs'><dl class='xr-attrs'><dt><span>standard_name :</span></dt><dd>latitude</dd><dt><span>units :</span></dt><dd>degree_north</dd><dt><span>valid_range :</span></dt><dd>[-90.  90.]</dd></dl></div><div class='xr-var-data'><pre>array([[        nan],\n       [        nan],\n       [51.39021167],\n       [51.39021086],\n       [51.39021   ]])</pre></div></li><li class='xr-var-item'><div class='xr-var-name'><span>lon</span></div><div class='xr-var-dims'>(time, station)</div><div class='xr-var-dtype'>float64</div><div class='xr-var-preview xr-preview'>nan nan 11.89 11.89 11.89</div><input id='attrs-d20f5483-7848-4ce5-9a2b-d91e165361fe' class='xr-var-attrs-in' type='checkbox' ><label for='attrs-d20f5483-7848-4ce5-9a2b-d91e165361fe' title='Show/Hide attributes'><svg class='icon xr-icon-file-text2'><use xlink:href='#icon-file-text2'></use></svg></label><input id='data-a035ab16-b328-4d31-bc4c-30c737d1e1de' class='xr-var-data-in' type='checkbox'><label for='data-a035ab16-b328-4d31-bc4c-30c737d1e1de' title='Show/Hide data repr'><svg class='icon xr-icon-database'><use xlink:href='#icon-database'></use></svg></label><div class='xr-var-attrs'><dl class='xr-attrs'><dt><span>standard_name :</span></dt><dd>longitude</dd><dt><span>units :</span></dt><dd>degree_east</dd><dt><span>valid_range :</span></dt><dd>[-180.  180.]</dd></dl></div><div class='xr-var-data'><pre>array([[        nan],\n       [        nan],\n       [11.88525656],\n       [11.88525425],\n       [11.88525167]])</pre></div></li><li class='xr-var-item'><div class='xr-var-name'><span>maintenance_flag_ghi</span></div><div class='xr-var-dims'>(maintenancetime, station)</div><div class='xr-var-dtype'>float32</div><div class='xr-var-preview xr-preview'>9.0</div><input id='attrs-855dfed7-615b-4df1-97a6-b1b09bbdae77' class='xr-var-attrs-in' type='checkbox' ><label for='attrs-855dfed7-615b-4df1-97a6-b1b09bbdae77' title='Show/Hide attributes'><svg class='icon xr-icon-file-text2'><use xlink:href='#icon-file-text2'></use></svg></label><input id='data-1eb25207-61dc-4b5d-a9d0-12c918af58f0' class='xr-var-data-in' type='checkbox'><label for='data-1eb25207-61dc-4b5d-a9d0-12c918af58f0' title='Show/Hide data repr'><svg class='icon xr-icon-database'><use xlink:href='#icon-database'></use></svg></label><div class='xr-var-attrs'><dl class='xr-attrs'><dt><span>note_general :</span></dt><dd>222</dd><dt><span>note_clean :</span></dt><dd>testing notes</dd><dt><span>note_level :</span></dt><dd>test</dd><dt><span>valid_range :</span></dt><dd>[ 0 11]</dd></dl></div><div class='xr-var-data'><pre>array([[9.]], dtype=float32)</pre></div></li><li class='xr-var-item'><div class='xr-var-name'><span>maintenance_flag_gti</span></div><div class='xr-var-dims'>(maintenancetime, station)</div><div class='xr-var-dtype'>float32</div><div class='xr-var-preview xr-preview'>7.0</div><input id='attrs-101c45b3-7f25-46b2-a65e-006533b0e6df' class='xr-var-attrs-in' type='checkbox' ><label for='attrs-101c45b3-7f25-46b2-a65e-006533b0e6df' title='Show/Hide attributes'><svg class='icon xr-icon-file-text2'><use xlink:href='#icon-file-text2'></use></svg></label><input id='data-f7b896d1-fde9-44cd-9424-456e400bb89a' class='xr-var-data-in' type='checkbox'><label for='data-f7b896d1-fde9-44cd-9424-456e400bb89a' title='Show/Hide data repr'><svg class='icon xr-icon-database'><use xlink:href='#icon-database'></use></svg></label><div class='xr-var-attrs'><dl class='xr-attrs'><dt><span>note_general :</span></dt><dd>222</dd><dt><span>note_clean :</span></dt><dd></dd><dt><span>note_level :</span></dt><dd></dd><dt><span>valid_range :</span></dt><dd>[ 0 11]</dd></dl></div><div class='xr-var-data'><pre>array([[7.]], dtype=float32)</pre></div></li><li class='xr-var-item'><div class='xr-var-name'><span>szen</span></div><div class='xr-var-dims'>(time, station)</div><div class='xr-var-dtype'>float64</div><div class='xr-var-preview xr-preview'>nan nan 42.51 42.51 42.51</div><input id='attrs-9c578230-3461-45ea-8b5a-4e2874c2cd57' class='xr-var-attrs-in' type='checkbox' ><label for='attrs-9c578230-3461-45ea-8b5a-4e2874c2cd57' title='Show/Hide attributes'><svg class='icon xr-icon-file-text2'><use xlink:href='#icon-file-text2'></use></svg></label><input id='data-0fbeb4b8-efa1-47e4-8e64-16821716251d' class='xr-var-data-in' type='checkbox'><label for='data-0fbeb4b8-efa1-47e4-8e64-16821716251d' title='Show/Hide data repr'><svg class='icon xr-icon-database'><use xlink:href='#icon-database'></use></svg></label><div class='xr-var-attrs'><dl class='xr-attrs'><dt><span>standard_name :</span></dt><dd>solar_zenith_angle</dd><dt><span>units :</span></dt><dd>degree</dd><dt><span>valid_range :</span></dt><dd>[0, 36000]</dd></dl></div><div class='xr-var-data'><pre>array([[        nan],\n       [        nan],\n       [42.51185936],\n       [42.5119952 ],\n       [42.51213125]])</pre></div></li><li class='xr-var-item'><div class='xr-var-name'><span>sazi</span></div><div class='xr-var-dims'>(time, station)</div><div class='xr-var-dtype'>float64</div><div class='xr-var-preview xr-preview'>nan nan 182.9 182.9 182.9</div><input id='attrs-2138cca9-d79a-474c-8981-06fcf9eadc39' class='xr-var-attrs-in' type='checkbox' ><label for='attrs-2138cca9-d79a-474c-8981-06fcf9eadc39' title='Show/Hide attributes'><svg class='icon xr-icon-file-text2'><use xlink:href='#icon-file-text2'></use></svg></label><input id='data-d2caee2e-8228-4c14-adc7-2328f7646baf' class='xr-var-data-in' type='checkbox'><label for='data-d2caee2e-8228-4c14-adc7-2328f7646baf' title='Show/Hide data repr'><svg class='icon xr-icon-database'><use xlink:href='#icon-database'></use></svg></label><div class='xr-var-attrs'><dl class='xr-attrs'><dt><span>standard_name :</span></dt><dd>solar_azimuth_angle</dd><dt><span>units :</span></dt><dd>degree</dd><dt><span>valid_range :</span></dt><dd>[0, 36000]</dd></dl></div><div class='xr-var-data'><pre>array([[         nan],\n       [         nan],\n       [182.91893638],\n       [182.92502264],\n       [182.93110846]])</pre></div></li><li class='xr-var-item'><div class='xr-var-name'><span>esd</span></div><div class='xr-var-dims'>(station)</div><div class='xr-var-dtype'>float64</div><div class='xr-var-preview xr-preview'>1.01</div><input id='attrs-fe3ed225-cfcc-43d9-8d52-ea85aacc1a63' class='xr-var-attrs-in' type='checkbox' ><label for='attrs-fe3ed225-cfcc-43d9-8d52-ea85aacc1a63' title='Show/Hide attributes'><svg class='icon xr-icon-file-text2'><use xlink:href='#icon-file-text2'></use></svg></label><input id='data-287f135e-88a8-498e-ad0a-e263ecd4d3fe' class='xr-var-data-in' type='checkbox'><label for='data-287f135e-88a8-498e-ad0a-e263ecd4d3fe' title='Show/Hide data repr'><svg class='icon xr-icon-database'><use xlink:href='#icon-database'></use></svg></label><div class='xr-var-attrs'><dl class='xr-attrs'><dt><span>long_name :</span></dt><dd>Earth-sun distance</dd><dt><span>note :</span></dt><dd>Calculated based on Spencer (1971), as mean of its values over all time steps.</dd><dt><span>units :</span></dt><dd>ua</dd></dl></div><div class='xr-var-data'><pre>array([1.00959973])</pre></div></li><li class='xr-var-item'><div class='xr-var-name'><span>qc_flag_ghi</span></div><div class='xr-var-dims'>(time, station)</div><div class='xr-var-dtype'>uint8</div><div class='xr-var-preview xr-preview'>0 0 0 0 0</div><input id='attrs-3c8c1871-d817-406a-90a8-d91b334f77fe' class='xr-var-attrs-in' type='checkbox' ><label for='attrs-3c8c1871-d817-406a-90a8-d91b334f77fe' title='Show/Hide attributes'><svg class='icon xr-icon-file-text2'><use xlink:href='#icon-file-text2'></use></svg></label><input id='data-a18be6f6-0e00-44b9-bc97-2405a741f618' class='xr-var-data-in' type='checkbox'><label for='data-a18be6f6-0e00-44b9-bc97-2405a741f618' title='Show/Hide data repr'><svg class='icon xr-icon-database'><use xlink:href='#icon-database'></use></svg></label><div class='xr-var-attrs'><dl class='xr-attrs'><dt><span>standard_name :</span></dt><dd>quality_flag</dd><dt><span>valid_range :</span></dt><dd>[0, 127]</dd><dt><span>serial :</span></dt><dd>S12128.001</dd><dt><span>calibration_Cabsolute :</span></dt><dd>129366.10608020698</dd><dt><span>calibration_Ccoscorr :</span></dt><dd>1.45 - 3.04·x¹ + 5.59·x² - 3.01·x³</dd><dt><span>calibration_function :</span></dt><dd>flux (W m-2) = flux (V) * Cabsolute (W m-2 V-1) * Ccoscorr(mua)</dd><dt><span>ancillary_variables :</span></dt><dd>ghi</dd><dt><span>flag_masks :</span></dt><dd>[1, 2, 4, 8, 16, 32, 64]</dd><dt><span>flag_values :</span></dt><dd>[1, 2, 4, 8, 16, 32, 64]</dd><dt><span>flag_meanings :</span></dt><dd>below_physical_limit above_physical_limit below_rare_limit above_rare_limit comparison_to_low comparison_to_high quality_control_failed</dd></dl></div><div class='xr-var-data'><pre>array([[0],\n       [0],\n       [0],\n       [0],\n       [0]], dtype=uint8)</pre></div></li><li class='xr-var-item'><div class='xr-var-name'><span>qc_flag_gti</span></div><div class='xr-var-dims'>(time, station)</div><div class='xr-var-dtype'>uint8</div><div class='xr-var-preview xr-preview'>0 0 0 0 0</div><input id='attrs-2f1edd50-fffe-4fbb-97b4-5ec9afabea10' class='xr-var-attrs-in' type='checkbox' ><label for='attrs-2f1edd50-fffe-4fbb-97b4-5ec9afabea10' title='Show/Hide attributes'><svg class='icon xr-icon-file-text2'><use xlink:href='#icon-file-text2'></use></svg></label><input id='data-aea76621-54ef-4c5b-91f9-f64f44aeb0f1' class='xr-var-data-in' type='checkbox'><label for='data-aea76621-54ef-4c5b-91f9-f64f44aeb0f1' title='Show/Hide data repr'><svg class='icon xr-icon-database'><use xlink:href='#icon-database'></use></svg></label><div class='xr-var-attrs'><dl class='xr-attrs'><dt><span>standard_name :</span></dt><dd>quality_flag</dd><dt><span>valid_range :</span></dt><dd>[0, 127]</dd><dt><span>hangle :</span></dt><dd>0.0</dd><dt><span>vangle :</span></dt><dd>0.0</dd><dt><span>serial :</span></dt><dd>S12137.049</dd><dt><span>calibration_Cabsolute :</span></dt><dd>143266.47564469912</dd><dt><span>calibration_Ccoscorr :</span></dt><dd>1.45 - 3.04·x¹ + 5.59·x² - 3.01·x³</dd><dt><span>calibration_function :</span></dt><dd>flux (W m-2) = flux (V) * Cabsolute (W m-2 V-1) * Ccoscorr(mua)</dd><dt><span>ancillary_variables :</span></dt><dd>gti</dd><dt><span>flag_masks :</span></dt><dd>[1, 2, 4, 8, 16, 32, 64]</dd><dt><span>flag_values :</span></dt><dd>[1, 2, 4, 8, 16, 32, 64]</dd><dt><span>flag_meanings :</span></dt><dd>below_physical_limit above_physical_limit below_rare_limit above_rare_limit comparison_to_low comparison_to_high quality_control_failed</dd></dl></div><div class='xr-var-data'><pre>array([[0],\n       [0],\n       [0],\n       [0],\n       [0]], dtype=uint8)</pre></div></li></ul></div></li><li class='xr-section-item'><input id='section-c23363a5-1677-4cd4-bb9d-36dc5fc75d5b' class='xr-section-summary-in' type='checkbox'  ><label for='section-c23363a5-1677-4cd4-bb9d-36dc5fc75d5b' class='xr-section-summary' >Indexes: <span>(3)</span></label><div class='xr-section-inline-details'></div><div class='xr-section-details'><ul class='xr-var-list'><li class='xr-var-item'><div class='xr-index-name'><div>station</div></div><div class='xr-index-preview'>PandasIndex</div><div></div><input id='index-002f1cd0-7b7f-4209-ba62-d4c9d9df965a' class='xr-index-data-in' type='checkbox'/><label for='index-002f1cd0-7b7f-4209-ba62-d4c9d9df965a' title='Show/Hide index repr'><svg class='icon xr-icon-database'><use xlink:href='#icon-database'></use></svg></label><div class='xr-index-data'><pre>PandasIndex(Float64Index([1.0], dtype=&#x27;float64&#x27;, name=&#x27;station&#x27;))</pre></div></li><li class='xr-var-item'><div class='xr-index-name'><div>time</div></div><div class='xr-index-preview'>PandasIndex</div><div></div><input id='index-76c71d7b-098d-4b4c-8df2-24a9d1eeb114' class='xr-index-data-in' type='checkbox'/><label for='index-76c71d7b-098d-4b4c-8df2-24a9d1eeb114' title='Show/Hide index repr'><svg class='icon xr-icon-database'><use xlink:href='#icon-database'></use></svg></label><div class='xr-index-data'><pre>PandasIndex(DatetimeIndex([&#x27;2022-08-30 11:21:03&#x27;, &#x27;2022-08-30 11:21:04&#x27;,\n               &#x27;2022-08-30 11:21:05&#x27;, &#x27;2022-08-30 11:21:06&#x27;,\n               &#x27;2022-08-30 11:21:07&#x27;],\n              dtype=&#x27;datetime64[ns]&#x27;, name=&#x27;time&#x27;, freq=&#x27;S&#x27;))</pre></div></li><li class='xr-var-item'><div class='xr-index-name'><div>maintenancetime</div></div><div class='xr-index-preview'>PandasIndex</div><div></div><input id='index-ad2bb2ac-e3f9-4693-85ab-f82e5151a947' class='xr-index-data-in' type='checkbox'/><label for='index-ad2bb2ac-e3f9-4693-85ab-f82e5151a947' title='Show/Hide index repr'><svg class='icon xr-icon-database'><use xlink:href='#icon-database'></use></svg></label><div class='xr-index-data'><pre>PandasIndex(DatetimeIndex([&#x27;2023-05-08 16:09:06&#x27;], dtype=&#x27;datetime64[ns]&#x27;, name=&#x27;maintenancetime&#x27;, freq=None))</pre></div></li></ul></div></li><li class='xr-section-item'><input id='section-461b4043-398b-450f-b846-081daf43ea9f' class='xr-section-summary-in' type='checkbox'  ><label for='section-461b4043-398b-450f-b846-081daf43ea9f' class='xr-section-summary' >Attributes: <span>(31)</span></label><div class='xr-section-inline-details'></div><div class='xr-section-details'><dl class='xr-attrs'><dt><span>Conventions :</span></dt><dd>CF-1.10, ACDD-1.3</dd><dt><span>title :</span></dt><dd>TROPOS pyranometer network (PyrNet) observational data set</dd><dt><span>history :</span></dt><dd>2024-02-29T07:54:36: Generated level l1a  by pyrnet version 0.2.4+0.gbfcb0c5.dirty; 2024-02-29T07:54:38: Generated level l1b  by pyrnet version 0.2.4+0.gbfcb0c5.dirty; </dd><dt><span>institution :</span></dt><dd>Leibniz Institute for Tropospheric Research (TROPOS)</dd><dt><span>source :</span></dt><dd>TROPOS pyranometer network (PyrNet)</dd><dt><span>references :</span></dt><dd>https://doi.org/10.5194/amt-9-1153-2016</dd><dt><span>Department :</span></dt><dd>Remote Sensing of Atmospheric Processes</dd><dt><span>Department_team :</span></dt><dd>Clouds, Aerosol and Radiation</dd><dt><span>Address :</span></dt><dd>Permoser Str. 15, 04318 Leipzig, Germany</dd><dt><span>Contact_person :</span></dt><dd>Andreas Macke and the clouds, aerosol and radiation team of the remote sensing department, mailto:andreas.macke@tropos.de</dd><dt><span>Contributor_name :</span></dt><dd></dd><dt><span>Contributor_role :</span></dt><dd></dd><dt><span>Authors_software :</span></dt><dd>Hartwig Deneke, Jonas Witthuhn, mailto:deneke@tropos.de</dd><dt><span>Creator_name :</span></dt><dd></dd><dt><span>Project :</span></dt><dd></dd><dt><span>Standard_name_vocabulary :</span></dt><dd>CF Standard Name Table v81</dd><dt><span>License :</span></dt><dd>CC-BY-SA 3.0</dd><dt><span>TESTNOTE :</span></dt><dd>This is a test note.</dd><dt><span>processing_level :</span></dt><dd>l1b</dd><dt><span>product_version :</span></dt><dd>0.2.4+0.gbfcb0c5.dirty</dd><dt><span>date_created :</span></dt><dd>2024-02-29T07:54:38</dd><dt><span>geospatial_lat_min :</span></dt><dd>51.39021</dd><dt><span>geospatial_lat_max :</span></dt><dd>51.390211666666666</dd><dt><span>geospatial_lat_units :</span></dt><dd>degN</dd><dt><span>geospatial_lon_min :</span></dt><dd>11.885251666666667</dd><dt><span>geospatial_lon_max :</span></dt><dd>11.885256558333333</dd><dt><span>geospatial_lon_units :</span></dt><dd>degE</dd><dt><span>time_coverage_start :</span></dt><dd>2022-08-30T11:21:03</dd><dt><span>time_coverage_end :</span></dt><dd>2022-08-30T11:21:07</dd><dt><span>time_coverage_duration :</span></dt><dd>P0DT0H0M4S</dd><dt><span>time_coverage_resolution :</span></dt><dd>P0DT0H0M1S</dd></dl></div></li></ul></div></div>"
     },
     "execution_count": 33,
     "metadata": {},
     "output_type": "execute_result"
    }
   ],
   "source": [
    "#|dropcode\n",
    "#|dropout\n",
    "# add global coverage attributes\n",
    "ds_l1b = update_coverage_meta(ds_l1b, timevar=\"time\")\n",
    "\n",
    "ds_l1b.attrs[\"processing_level\"] = 'l1b'\n",
    "now = pd.to_datetime(np.datetime64(\"now\"))\n",
    "ds_l1b.attrs[\"history\"] = ds_l1b.history + f\"{now.isoformat()}: Generated level l1b  by pyrnet version {pyrnet_version}; \"\n",
    "\n",
    "ds_l1b"
   ]
  },
  {
   "cell_type": "code",
   "execution_count": 34,
   "metadata": {
    "collapsed": false,
    "ExecuteTime": {
     "end_time": "2024-02-29T07:54:39.359189200Z",
     "start_time": "2024-02-29T07:54:38.951985900Z"
    }
   },
   "outputs": [],
   "source": [
    "#|hide\n",
    "# dsp = ds_l1b.sel(time=\"2019-07-15\")\n",
    "# plt.figure()\n",
    "# plt.plot(dsp.time, dsp.ghi)\n",
    "# plt.grid()"
   ]
  },
  {
   "cell_type": "code",
   "execution_count": 35,
   "metadata": {
    "collapsed": false,
    "ExecuteTime": {
     "end_time": "2024-02-29T07:54:39.359189200Z",
     "start_time": "2024-02-29T07:54:39.013427900Z"
    }
   },
   "outputs": [],
   "source": [
    "#|hide\n",
    "# ds_l1b.to_netcdf(\"../../testnb/to_l1b_output.nc\",\n",
    "#                  encoding={'time':{'dtype':'float64'}})"
   ]
  },
  {
   "cell_type": "code",
   "execution_count": 36,
   "metadata": {
    "collapsed": false,
    "ExecuteTime": {
     "end_time": "2024-02-29T07:54:39.364173500Z",
     "start_time": "2024-02-29T07:54:39.023405800Z"
    }
   },
   "outputs": [],
   "source": [
    "#|hide\n",
    "# dsp = xr.load_dataset(\"../../testnb/to_l1b_output.nc\").sel(time=\"2019-07-15\")\n",
    "# plt.figure()\n",
    "# plt.plot(dsp.time, dsp.ghi)\n",
    "# plt.grid()"
   ]
  },
  {
   "cell_type": "markdown",
   "metadata": {
    "collapsed": false
   },
   "source": [
    "## to_l1b function"
   ]
  },
  {
   "cell_type": "code",
   "execution_count": 37,
   "metadata": {
    "collapsed": false,
    "ExecuteTime": {
     "end_time": "2024-02-29T07:54:39.372152100Z",
     "start_time": "2024-02-29T07:54:39.032649300Z"
    }
   },
   "outputs": [],
   "source": [
    "#|export\n",
    "#|dropcode\n",
    "def to_l1b(\n",
    "        fname: str,\n",
    "        *,\n",
    "        config: dict | None = None,\n",
    "        global_attrs: dict | None = None,\n",
    "        check_adc_sync: bool = True\n",
    ") -> xr.Dataset|None:\n",
    "\n",
    "    config = get_config(config)\n",
    "    gattrs, vattrs, vencode = get_cfmeta(config)\n",
    "\n",
    "    if global_attrs is not None:\n",
    "        gattrs.update(global_attrs)\n",
    "\n",
    "    ######################################################################################\n",
    "    ## Load l1a data\n",
    "    ds_l1a = xr.open_dataset(fname)\n",
    "    # check correct file\n",
    "    if ds_l1a.processing_level != \"l1a\":\n",
    "        logger.warning(f\"{fname} is not a l1a file. Skip.\")\n",
    "        return None\n",
    "\n",
    "    ######################################################################################\n",
    "    ## Sync GPS to ADC time\n",
    "    adctime = pyrnet.logger.sync_adc_time(\n",
    "        adctime = ds_l1a.adctime.values,\n",
    "        gpstime = ds_l1a.gpstime.values,\n",
    "        iadc = ds_l1a.iadc.squeeze().values.astype(int),\n",
    "        check_results = check_adc_sync\n",
    "    )\n",
    "    \n",
    "    if adctime is None:\n",
    "        logger.warning(f\"Could not fit GPS to ADC time for file {fname}. Skip.\")\n",
    "        return None\n",
    "\n",
    "    ######################################################################################\n",
    "    ## Create new dataset (l1b)\n",
    "    ds_l1b = ds_l1a.drop_dims('gpstime')\n",
    "    ds_l1b = ds_l1b.drop_vars(['maintenance_flag_ghi','maintenance_flag_gti']) # keep only time dependent variables\n",
    "    ds_l1b = ds_l1b.assign({'time': ('adctime', adctime)})\n",
    "    ds_l1b = ds_l1b.swap_dims({\"adctime\":\"time\"})\n",
    "    ds_l1b = ds_l1b.drop_vars(\"adctime\")\n",
    "\n",
    "    ds_l1b[\"time\"].encoding.update({\n",
    "        \"dtype\": 'float64',\n",
    "        \"units\": f\"seconds since {np.datetime_as_string(ds_l1b.time.data[0], unit='D')}T00:00Z\",\n",
    "    })\n",
    "    logger.info(f\"Dataset time coverage before strip: {ds_l1b.time.values[0]} - {ds_l1b.time.values[-1]}\")\n",
    "\n",
    "    ######################################################################################\n",
    "    ## Drop first and last <stripminutes> minutes of data to avoid bad data due to maintenance\n",
    "    stripminutes = np.timedelta64(int(config['stripminutes']), 'm')\n",
    "    if (ds_l1b.time.values[0] + 3*stripminutes) > ds_l1b.time.values[-1]:\n",
    "        logger.warning(f\"{fname} has not enough data. Skip.\")\n",
    "        return None\n",
    "\n",
    "    ds_l1b = ds_l1b.isel(time=ds_l1b.time>ds_l1b.time.values[0] + stripminutes)\n",
    "    ds_l1b = ds_l1b.isel(time=ds_l1b.time<ds_l1b.time.values[-1] - stripminutes)\n",
    "    if ds_l1b.time.size < 10:\n",
    "        logger.warning(f\"{fname} has not enough data, after strip. Skip.\")\n",
    "        return None\n",
    "\n",
    "\n",
    "    logger.info(f\"Dataset time coverage after strip: {ds_l1b.time.values[0]} - {ds_l1b.time.values[-1]}\")\n",
    "\n",
    "    #####################################################################################\n",
    "    ## resample to desired resolution\n",
    "    # save station coordinate\n",
    "    station_dim = {\"station\": ds_l1b[\"station\"].values}\n",
    "    station_attrs = ds_l1b[\"station\"].attrs\n",
    "\n",
    "    # resample on time dimension with specified methods\n",
    "    methods = ['mean'] + config[\"l1b_resample_stats\"]\n",
    "    res = resample(\n",
    "        ds_l1b.squeeze().drop_vars(\"station\"), # drop station coordinate and variable\n",
    "        freq=config['l1bfreq'],\n",
    "        methods=methods,\n",
    "        kwargs=dict(skipna=True)\n",
    "    )\n",
    "    \n",
    "    # add standard names for new variables\n",
    "    # apply for variables if both in config['radflux_varname'] and ds_l1b.keys()\n",
    "    radflux_vars = list(set(config['radflux_varname'])&set(ds_l1b.keys()))\n",
    "    ds_l1b = res[0]\n",
    "    for i, method in enumerate(methods[1:]):\n",
    "        for var in radflux_vars:\n",
    "            ds_l1b[f\"{var}_{method}\"] = res[i+1][var]\n",
    "            ds_l1b[f\"{var}_{method}\"].attrs.update({\n",
    "                \"standard_name\": f\"{method}_\"+ds_l1b[f\"{var}_{method}\"].attrs[\"standard_name\"]\n",
    "            })\n",
    "    \n",
    "    # add station dimension back again\n",
    "    ds_l1b = ds_l1b.expand_dims(station_dim, axis=-1)\n",
    "    ds_l1b[\"station\"].attrs.update(station_attrs)\n",
    "    \n",
    "    ######################################################################################\n",
    "    ## Interpolate GPS coordinates to l1b time\n",
    "    ds_gps = ds_l1a.drop_dims(\"adctime\")\n",
    "    ds_gps = ds_gps.drop_vars(['iadc'])\n",
    "\n",
    "    # Decide whether geo coordinates should be averaged or not\n",
    "    if config['average_latlon']:\n",
    "        ds_gps = ds_gps.mean('gpstime', skipna=True, keep_attrs=True)\n",
    "    else:\n",
    "        ds_gps = ds_gps.interp(gpstime=ds_l1b.time)\n",
    "        ds_gps = ds_gps.drop_vars(\"gpstime\")\n",
    "\n",
    "    ds_l1b = xr.merge((ds_l1b,ds_gps))\n",
    "\n",
    "    ######################################################################################\n",
    "    ## Calc and add sun position\n",
    "    szen, sazi = sp.sun_angles(\n",
    "        time=ds_l1b.time.values[:,None], # line up with coordinates to keep dependence on time only\n",
    "        lat=ds_l1b.lat.values,\n",
    "        lon=ds_l1b.lon.values\n",
    "    )\n",
    "    szen  = szen.squeeze()\n",
    "    sazi = sazi.squeeze()\n",
    "\n",
    "    esd = np.mean(sp.earth_sun_distance(ds_l1b.time.values))\n",
    "\n",
    "    ds_l1b = ds_l1b.assign(\n",
    "        {\n",
    "            \"szen\": ((\"time\", \"station\"), szen[:,None]),\n",
    "            \"sazi\": ((\"time\", \"station\"), sazi[:,None]),\n",
    "            \"esd\": (\"station\", [esd])\n",
    "        }\n",
    "    )\n",
    "    # update attributes and encoding\n",
    "    for key in ['szen', 'sazi','esd']:\n",
    "        ds_l1b[key].attrs.update(vattrs[key])\n",
    "\n",
    "    ######################################################################################\n",
    "    ## rad flux calibration\n",
    "    box = ds_l1b.station.values[0]\n",
    "    boxnumber, serial, cfac, CCcoef = pyrnet.pyrnet.meta_lookup(\n",
    "        ds_l1b.time.values[0],\n",
    "        box=box,\n",
    "        cfile=config['file_calibration'],\n",
    "        mapfile=config['file_mapping'],\n",
    "    )\n",
    "    logger.info(f\"Meta Lookup:\")\n",
    "    logger.info(f\">> Box={box}\")\n",
    "    logger.info(f\">> serial(s)={serial}\")\n",
    "    logger.info(f\">> calibration factor(s)={cfac}\")\n",
    "\n",
    "    mu0 = np.cos(np.deg2rad(ds_l1b.szen.values))\n",
    "    \n",
    "    # calibrate radiation flux with gain=300\n",
    "    for i, radflx in enumerate(config['radflux_varname']):\n",
    "        # all radflux related variables (including <radflux>_<resamplemethod> variables)\n",
    "        radflx_vars = [var for var in ds_l1b if var.startswith(radflx)]\n",
    "        if cfac[i] is None:\n",
    "            # drop if calibration/instrument don't exist (probably secondary pyranometer).\n",
    "            ds_l1b = ds_l1b.drop_vars(radflx_vars)\n",
    "            continue\n",
    "        \n",
    "        # calc apparent zenith angle if possible\n",
    "        mua = mu0.copy()\n",
    "        if \"vangle\" in ds_l1b[radflx].attrs:\n",
    "            vangle = pyrnet.utils.make_iter(ds_l1b[radflx].attrs[\"vangle\"])\n",
    "            hangle = pyrnet.utils.make_iter(ds_l1b[radflx].attrs[\"hangle\"])\n",
    "            mua = pyrnet.utils.calc_apparent_coszen(\n",
    "                pitch=vangle,\n",
    "                yaw=hangle,\n",
    "                zen=ds_l1b.szen.values,\n",
    "                azi=ds_l1b.sazi.values\n",
    "            )\n",
    "        \n",
    "        mask_mua = ~np.isnan(mua)\n",
    "        Ca = 1e6/cfac[i]\n",
    "        Cc = np.polynomial.polynomial.polyval(mua, c=CCcoef)\n",
    "        Cmu = mu0/mua\n",
    "        # apply to all variables\n",
    "        for var in radflx_vars:\n",
    "            calib_func = \"flux (W m-2) = flux (V) * Cabsolute (W m-2 V-1)\"\n",
    "            C = np.ones(mu0.shape)*Ca\n",
    "            if radflx == \"gti\":\n",
    "                C[mask_mua] *= Cc[mask_mua]\n",
    "                calib_func += \"\" if np.all(np.isnan(mua)) else \" * Ccoscorr(mua)\"\n",
    "            else:\n",
    "                C[mask_mua] *= Cc[mask_mua] * Cmu[mask_mua]\n",
    "                calib_func += \" * Ccoscorr(mua)\" # * mu0/mua\" (not implemented)\n",
    "            ds_l1b[var].values = ds_l1b[var].values*C\n",
    "    \n",
    "            ds_l1b[var].attrs['units'] = \"W m-2\",\n",
    "            ds_l1b[var].attrs.update({\n",
    "                \"units\": \"W m-2\",\n",
    "                \"serial\": serial[i],\n",
    "                \"calibration_Cabsolute\": Ca,\n",
    "                \"calibration_Ccoscorr\": str(np.polynomial.polynomial.Polynomial(CCcoef)),\n",
    "                \"calibration_function\": calib_func\n",
    "            })\n",
    "\n",
    "    ######################################################################################  \n",
    "    ## add quality flags\n",
    "    ds_l1b = pyrnet.qcrad.add_qc_flags(ds_l1b, config[\"radflux_varname\"])\n",
    "\n",
    "    ######################################################################################\n",
    "    ## Update variables, global attributes and encoding\n",
    "    #add global coverage attributes\n",
    "    ds_l1b = update_coverage_meta(ds_l1b, timevar=\"time\")\n",
    "    ds_l1b.attrs[\"processing_level\"] = 'l1b'\n",
    "    ds_l1b.attrs[\"product_version\"] = pyrnet_version\n",
    "    now = pd.to_datetime(np.datetime64(\"now\"))\n",
    "    ds_l1b.attrs[\"history\"] = ds_l1b.history + f\"{now.isoformat()}: Generated level l1b  by pyrnet version {pyrnet_version}; \"\n",
    "\n",
    "    # update encoding\n",
    "    ds_l1b = add_encoding(ds_l1b, vencode=vencode)\n",
    "\n",
    "    return ds_l1b"
   ]
  },
  {
   "cell_type": "markdown",
   "metadata": {
    "collapsed": false
   },
   "source": [
    "## Test to_l1b function"
   ]
  },
  {
   "cell_type": "code",
   "execution_count": 38,
   "metadata": {
    "collapsed": false,
    "ExecuteTime": {
     "end_time": "2024-02-29T07:54:39.569618100Z",
     "start_time": "2024-02-29T07:54:39.067529300Z"
    }
   },
   "outputs": [
    {
     "name": "stdout",
     "output_type": "stream",
     "text": [
      "Processing fname:\n",
      "2022-08-30_P0DT0H0M8S_pyrnet_test_s001l1bf1s.c01.nc\n"
     ]
    },
    {
     "data": {
      "text/plain": "<xarray.Dataset>\nDimensions:               (station: 1, time: 9, maintenancetime: 1)\nCoordinates:\n  * station               (station) float64 1.0\n  * time                  (time) datetime64[ns] 2022-08-30T11:21:01 ... 2022-...\n  * maintenancetime       (maintenancetime) datetime64[ns] 2023-05-08T16:09:06\nData variables: (12/20)\n    ghi                   (time, station) float64 280.9 280.9 ... 280.9 280.9\n    gti                   (time, station) float64 289.0 289.0 ... 288.6 289.4\n    ta                    (time, station) float32 294.8 294.7 ... 294.7 294.8\n    rh                    (time, station) float32 0.6253 0.6248 ... 0.628 0.629\n    battery_voltage       (time, station) float32 6.443 6.445 ... 6.449 6.465\n    ghi_min               (time, station) float64 280.9 280.9 ... 280.9 280.9\n    ...                    ...\n    maintenance_flag_gti  (maintenancetime, station) float32 7.0\n    szen                  (time, station) float64 42.51 42.51 ... 42.51 42.51\n    sazi                  (time, station) float64 182.9 182.9 ... 182.9 182.9\n    esd                   (station) float64 1.01\n    qc_flag_ghi           (time, station) uint8 0 0 0 0 0 0 0 0 0\n    qc_flag_gti           (time, station) uint8 0 0 0 0 0 0 0 0 0\nAttributes: (12/31)\n    Conventions:               CF-1.10, ACDD-1.3\n    title:                     TROPOS pyranometer network (PyrNet) observatio...\n    history:                   2024-02-29T07:54:36: Generated level l1a  by p...\n    institution:               Leibniz Institute for Tropospheric Research (T...\n    source:                    TROPOS pyranometer network (PyrNet)\n    references:                https://doi.org/10.5194/amt-9-1153-2016\n    ...                        ...\n    geospatial_lon_max:        11.885252\n    geospatial_lon_units:      degE\n    time_coverage_start:       2022-08-30T11:21:01\n    time_coverage_end:         2022-08-30T11:21:09\n    time_coverage_duration:    P0DT0H0M8S\n    time_coverage_resolution:  P0DT0H0M1S",
      "text/html": "<div><svg style=\"position: absolute; width: 0; height: 0; overflow: hidden\">\n<defs>\n<symbol id=\"icon-database\" viewBox=\"0 0 32 32\">\n<path d=\"M16 0c-8.837 0-16 2.239-16 5v4c0 2.761 7.163 5 16 5s16-2.239 16-5v-4c0-2.761-7.163-5-16-5z\"></path>\n<path d=\"M16 17c-8.837 0-16-2.239-16-5v6c0 2.761 7.163 5 16 5s16-2.239 16-5v-6c0 2.761-7.163 5-16 5z\"></path>\n<path d=\"M16 26c-8.837 0-16-2.239-16-5v6c0 2.761 7.163 5 16 5s16-2.239 16-5v-6c0 2.761-7.163 5-16 5z\"></path>\n</symbol>\n<symbol id=\"icon-file-text2\" viewBox=\"0 0 32 32\">\n<path d=\"M28.681 7.159c-0.694-0.947-1.662-2.053-2.724-3.116s-2.169-2.030-3.116-2.724c-1.612-1.182-2.393-1.319-2.841-1.319h-15.5c-1.378 0-2.5 1.121-2.5 2.5v27c0 1.378 1.122 2.5 2.5 2.5h23c1.378 0 2.5-1.122 2.5-2.5v-19.5c0-0.448-0.137-1.23-1.319-2.841zM24.543 5.457c0.959 0.959 1.712 1.825 2.268 2.543h-4.811v-4.811c0.718 0.556 1.584 1.309 2.543 2.268zM28 29.5c0 0.271-0.229 0.5-0.5 0.5h-23c-0.271 0-0.5-0.229-0.5-0.5v-27c0-0.271 0.229-0.5 0.5-0.5 0 0 15.499-0 15.5 0v7c0 0.552 0.448 1 1 1h7v19.5z\"></path>\n<path d=\"M23 26h-14c-0.552 0-1-0.448-1-1s0.448-1 1-1h14c0.552 0 1 0.448 1 1s-0.448 1-1 1z\"></path>\n<path d=\"M23 22h-14c-0.552 0-1-0.448-1-1s0.448-1 1-1h14c0.552 0 1 0.448 1 1s-0.448 1-1 1z\"></path>\n<path d=\"M23 18h-14c-0.552 0-1-0.448-1-1s0.448-1 1-1h14c0.552 0 1 0.448 1 1s-0.448 1-1 1z\"></path>\n</symbol>\n</defs>\n</svg>\n<style>/* CSS stylesheet for displaying xarray objects in jupyterlab.\n *\n */\n\n:root {\n  --xr-font-color0: var(--jp-content-font-color0, rgba(0, 0, 0, 1));\n  --xr-font-color2: var(--jp-content-font-color2, rgba(0, 0, 0, 0.54));\n  --xr-font-color3: var(--jp-content-font-color3, rgba(0, 0, 0, 0.38));\n  --xr-border-color: var(--jp-border-color2, #e0e0e0);\n  --xr-disabled-color: var(--jp-layout-color3, #bdbdbd);\n  --xr-background-color: var(--jp-layout-color0, white);\n  --xr-background-color-row-even: var(--jp-layout-color1, white);\n  --xr-background-color-row-odd: var(--jp-layout-color2, #eeeeee);\n}\n\nhtml[theme=dark],\nbody[data-theme=dark],\nbody.vscode-dark {\n  --xr-font-color0: rgba(255, 255, 255, 1);\n  --xr-font-color2: rgba(255, 255, 255, 0.54);\n  --xr-font-color3: rgba(255, 255, 255, 0.38);\n  --xr-border-color: #1F1F1F;\n  --xr-disabled-color: #515151;\n  --xr-background-color: #111111;\n  --xr-background-color-row-even: #111111;\n  --xr-background-color-row-odd: #313131;\n}\n\n.xr-wrap {\n  display: block !important;\n  min-width: 300px;\n  max-width: 700px;\n}\n\n.xr-text-repr-fallback {\n  /* fallback to plain text repr when CSS is not injected (untrusted notebook) */\n  display: none;\n}\n\n.xr-header {\n  padding-top: 6px;\n  padding-bottom: 6px;\n  margin-bottom: 4px;\n  border-bottom: solid 1px var(--xr-border-color);\n}\n\n.xr-header > div,\n.xr-header > ul {\n  display: inline;\n  margin-top: 0;\n  margin-bottom: 0;\n}\n\n.xr-obj-type,\n.xr-array-name {\n  margin-left: 2px;\n  margin-right: 10px;\n}\n\n.xr-obj-type {\n  color: var(--xr-font-color2);\n}\n\n.xr-sections {\n  padding-left: 0 !important;\n  display: grid;\n  grid-template-columns: 150px auto auto 1fr 20px 20px;\n}\n\n.xr-section-item {\n  display: contents;\n}\n\n.xr-section-item input {\n  display: none;\n}\n\n.xr-section-item input + label {\n  color: var(--xr-disabled-color);\n}\n\n.xr-section-item input:enabled + label {\n  cursor: pointer;\n  color: var(--xr-font-color2);\n}\n\n.xr-section-item input:enabled + label:hover {\n  color: var(--xr-font-color0);\n}\n\n.xr-section-summary {\n  grid-column: 1;\n  color: var(--xr-font-color2);\n  font-weight: 500;\n}\n\n.xr-section-summary > span {\n  display: inline-block;\n  padding-left: 0.5em;\n}\n\n.xr-section-summary-in:disabled + label {\n  color: var(--xr-font-color2);\n}\n\n.xr-section-summary-in + label:before {\n  display: inline-block;\n  content: '►';\n  font-size: 11px;\n  width: 15px;\n  text-align: center;\n}\n\n.xr-section-summary-in:disabled + label:before {\n  color: var(--xr-disabled-color);\n}\n\n.xr-section-summary-in:checked + label:before {\n  content: '▼';\n}\n\n.xr-section-summary-in:checked + label > span {\n  display: none;\n}\n\n.xr-section-summary,\n.xr-section-inline-details {\n  padding-top: 4px;\n  padding-bottom: 4px;\n}\n\n.xr-section-inline-details {\n  grid-column: 2 / -1;\n}\n\n.xr-section-details {\n  display: none;\n  grid-column: 1 / -1;\n  margin-bottom: 5px;\n}\n\n.xr-section-summary-in:checked ~ .xr-section-details {\n  display: contents;\n}\n\n.xr-array-wrap {\n  grid-column: 1 / -1;\n  display: grid;\n  grid-template-columns: 20px auto;\n}\n\n.xr-array-wrap > label {\n  grid-column: 1;\n  vertical-align: top;\n}\n\n.xr-preview {\n  color: var(--xr-font-color3);\n}\n\n.xr-array-preview,\n.xr-array-data {\n  padding: 0 5px !important;\n  grid-column: 2;\n}\n\n.xr-array-data,\n.xr-array-in:checked ~ .xr-array-preview {\n  display: none;\n}\n\n.xr-array-in:checked ~ .xr-array-data,\n.xr-array-preview {\n  display: inline-block;\n}\n\n.xr-dim-list {\n  display: inline-block !important;\n  list-style: none;\n  padding: 0 !important;\n  margin: 0;\n}\n\n.xr-dim-list li {\n  display: inline-block;\n  padding: 0;\n  margin: 0;\n}\n\n.xr-dim-list:before {\n  content: '(';\n}\n\n.xr-dim-list:after {\n  content: ')';\n}\n\n.xr-dim-list li:not(:last-child):after {\n  content: ',';\n  padding-right: 5px;\n}\n\n.xr-has-index {\n  font-weight: bold;\n}\n\n.xr-var-list,\n.xr-var-item {\n  display: contents;\n}\n\n.xr-var-item > div,\n.xr-var-item label,\n.xr-var-item > .xr-var-name span {\n  background-color: var(--xr-background-color-row-even);\n  margin-bottom: 0;\n}\n\n.xr-var-item > .xr-var-name:hover span {\n  padding-right: 5px;\n}\n\n.xr-var-list > li:nth-child(odd) > div,\n.xr-var-list > li:nth-child(odd) > label,\n.xr-var-list > li:nth-child(odd) > .xr-var-name span {\n  background-color: var(--xr-background-color-row-odd);\n}\n\n.xr-var-name {\n  grid-column: 1;\n}\n\n.xr-var-dims {\n  grid-column: 2;\n}\n\n.xr-var-dtype {\n  grid-column: 3;\n  text-align: right;\n  color: var(--xr-font-color2);\n}\n\n.xr-var-preview {\n  grid-column: 4;\n}\n\n.xr-index-preview {\n  grid-column: 2 / 5;\n  color: var(--xr-font-color2);\n}\n\n.xr-var-name,\n.xr-var-dims,\n.xr-var-dtype,\n.xr-preview,\n.xr-attrs dt {\n  white-space: nowrap;\n  overflow: hidden;\n  text-overflow: ellipsis;\n  padding-right: 10px;\n}\n\n.xr-var-name:hover,\n.xr-var-dims:hover,\n.xr-var-dtype:hover,\n.xr-attrs dt:hover {\n  overflow: visible;\n  width: auto;\n  z-index: 1;\n}\n\n.xr-var-attrs,\n.xr-var-data,\n.xr-index-data {\n  display: none;\n  background-color: var(--xr-background-color) !important;\n  padding-bottom: 5px !important;\n}\n\n.xr-var-attrs-in:checked ~ .xr-var-attrs,\n.xr-var-data-in:checked ~ .xr-var-data,\n.xr-index-data-in:checked ~ .xr-index-data {\n  display: block;\n}\n\n.xr-var-data > table {\n  float: right;\n}\n\n.xr-var-name span,\n.xr-var-data,\n.xr-index-name div,\n.xr-index-data,\n.xr-attrs {\n  padding-left: 25px !important;\n}\n\n.xr-attrs,\n.xr-var-attrs,\n.xr-var-data,\n.xr-index-data {\n  grid-column: 1 / -1;\n}\n\ndl.xr-attrs {\n  padding: 0;\n  margin: 0;\n  display: grid;\n  grid-template-columns: 125px auto;\n}\n\n.xr-attrs dt,\n.xr-attrs dd {\n  padding: 0;\n  margin: 0;\n  float: left;\n  padding-right: 10px;\n  width: auto;\n}\n\n.xr-attrs dt {\n  font-weight: normal;\n  grid-column: 1;\n}\n\n.xr-attrs dt:hover span {\n  display: inline-block;\n  background: var(--xr-background-color);\n  padding-right: 10px;\n}\n\n.xr-attrs dd {\n  grid-column: 2;\n  white-space: pre-wrap;\n  word-break: break-all;\n}\n\n.xr-icon-database,\n.xr-icon-file-text2,\n.xr-no-icon {\n  display: inline-block;\n  vertical-align: middle;\n  width: 1em;\n  height: 1.5em !important;\n  stroke-width: 0;\n  stroke: currentColor;\n  fill: currentColor;\n}\n</style><pre class='xr-text-repr-fallback'>&lt;xarray.Dataset&gt;\nDimensions:               (station: 1, time: 9, maintenancetime: 1)\nCoordinates:\n  * station               (station) float64 1.0\n  * time                  (time) datetime64[ns] 2022-08-30T11:21:01 ... 2022-...\n  * maintenancetime       (maintenancetime) datetime64[ns] 2023-05-08T16:09:06\nData variables: (12/20)\n    ghi                   (time, station) float64 280.9 280.9 ... 280.9 280.9\n    gti                   (time, station) float64 289.0 289.0 ... 288.6 289.4\n    ta                    (time, station) float32 294.8 294.7 ... 294.7 294.8\n    rh                    (time, station) float32 0.6253 0.6248 ... 0.628 0.629\n    battery_voltage       (time, station) float32 6.443 6.445 ... 6.449 6.465\n    ghi_min               (time, station) float64 280.9 280.9 ... 280.9 280.9\n    ...                    ...\n    maintenance_flag_gti  (maintenancetime, station) float32 7.0\n    szen                  (time, station) float64 42.51 42.51 ... 42.51 42.51\n    sazi                  (time, station) float64 182.9 182.9 ... 182.9 182.9\n    esd                   (station) float64 1.01\n    qc_flag_ghi           (time, station) uint8 0 0 0 0 0 0 0 0 0\n    qc_flag_gti           (time, station) uint8 0 0 0 0 0 0 0 0 0\nAttributes: (12/31)\n    Conventions:               CF-1.10, ACDD-1.3\n    title:                     TROPOS pyranometer network (PyrNet) observatio...\n    history:                   2024-02-29T07:54:36: Generated level l1a  by p...\n    institution:               Leibniz Institute for Tropospheric Research (T...\n    source:                    TROPOS pyranometer network (PyrNet)\n    references:                https://doi.org/10.5194/amt-9-1153-2016\n    ...                        ...\n    geospatial_lon_max:        11.885252\n    geospatial_lon_units:      degE\n    time_coverage_start:       2022-08-30T11:21:01\n    time_coverage_end:         2022-08-30T11:21:09\n    time_coverage_duration:    P0DT0H0M8S\n    time_coverage_resolution:  P0DT0H0M1S</pre><div class='xr-wrap' style='display:none'><div class='xr-header'><div class='xr-obj-type'>xarray.Dataset</div></div><ul class='xr-sections'><li class='xr-section-item'><input id='section-f6ca2dde-f1a2-4bb0-be81-6ddcb8c0cfb7' class='xr-section-summary-in' type='checkbox' disabled ><label for='section-f6ca2dde-f1a2-4bb0-be81-6ddcb8c0cfb7' class='xr-section-summary'  title='Expand/collapse section'>Dimensions:</label><div class='xr-section-inline-details'><ul class='xr-dim-list'><li><span class='xr-has-index'>station</span>: 1</li><li><span class='xr-has-index'>time</span>: 9</li><li><span class='xr-has-index'>maintenancetime</span>: 1</li></ul></div><div class='xr-section-details'></div></li><li class='xr-section-item'><input id='section-67b25acc-2563-4d8c-b1cf-c266921375e8' class='xr-section-summary-in' type='checkbox'  checked><label for='section-67b25acc-2563-4d8c-b1cf-c266921375e8' class='xr-section-summary' >Coordinates: <span>(3)</span></label><div class='xr-section-inline-details'></div><div class='xr-section-details'><ul class='xr-var-list'><li class='xr-var-item'><div class='xr-var-name'><span class='xr-has-index'>station</span></div><div class='xr-var-dims'>(station)</div><div class='xr-var-dtype'>float64</div><div class='xr-var-preview xr-preview'>1.0</div><input id='attrs-3ae96cc1-0145-4d7a-b533-e3fe124f5dbc' class='xr-var-attrs-in' type='checkbox' ><label for='attrs-3ae96cc1-0145-4d7a-b533-e3fe124f5dbc' title='Show/Hide attributes'><svg class='icon xr-icon-file-text2'><use xlink:href='#icon-file-text2'></use></svg></label><input id='data-849add66-567d-44d6-9fad-a1510253d978' class='xr-var-data-in' type='checkbox'><label for='data-849add66-567d-44d6-9fad-a1510253d978' title='Show/Hide data repr'><svg class='icon xr-icon-database'><use xlink:href='#icon-database'></use></svg></label><div class='xr-var-attrs'><dl class='xr-attrs'><dt><span>units :</span></dt><dd>-</dd><dt><span>long_name :</span></dt><dd>PyrNet unit box number</dd></dl></div><div class='xr-var-data'><pre>array([1.])</pre></div></li><li class='xr-var-item'><div class='xr-var-name'><span class='xr-has-index'>time</span></div><div class='xr-var-dims'>(time)</div><div class='xr-var-dtype'>datetime64[ns]</div><div class='xr-var-preview xr-preview'>2022-08-30T11:21:01 ... 2022-08-...</div><input id='attrs-b315913a-62a0-4811-bb49-a9a2264e2989' class='xr-var-attrs-in' type='checkbox' disabled><label for='attrs-b315913a-62a0-4811-bb49-a9a2264e2989' title='Show/Hide attributes'><svg class='icon xr-icon-file-text2'><use xlink:href='#icon-file-text2'></use></svg></label><input id='data-3bc3e3a2-aafc-4eec-92ee-66037aef0723' class='xr-var-data-in' type='checkbox'><label for='data-3bc3e3a2-aafc-4eec-92ee-66037aef0723' title='Show/Hide data repr'><svg class='icon xr-icon-database'><use xlink:href='#icon-database'></use></svg></label><div class='xr-var-attrs'><dl class='xr-attrs'></dl></div><div class='xr-var-data'><pre>array([&#x27;2022-08-30T11:21:01.000000000&#x27;, &#x27;2022-08-30T11:21:02.000000000&#x27;,\n       &#x27;2022-08-30T11:21:03.000000000&#x27;, &#x27;2022-08-30T11:21:04.000000000&#x27;,\n       &#x27;2022-08-30T11:21:05.000000000&#x27;, &#x27;2022-08-30T11:21:06.000000000&#x27;,\n       &#x27;2022-08-30T11:21:07.000000000&#x27;, &#x27;2022-08-30T11:21:08.000000000&#x27;,\n       &#x27;2022-08-30T11:21:09.000000000&#x27;], dtype=&#x27;datetime64[ns]&#x27;)</pre></div></li><li class='xr-var-item'><div class='xr-var-name'><span class='xr-has-index'>maintenancetime</span></div><div class='xr-var-dims'>(maintenancetime)</div><div class='xr-var-dtype'>datetime64[ns]</div><div class='xr-var-preview xr-preview'>2023-05-08T16:09:06</div><input id='attrs-d3c7a0df-700e-48a2-821e-7f5ef4cdd3c6' class='xr-var-attrs-in' type='checkbox' disabled><label for='attrs-d3c7a0df-700e-48a2-821e-7f5ef4cdd3c6' title='Show/Hide attributes'><svg class='icon xr-icon-file-text2'><use xlink:href='#icon-file-text2'></use></svg></label><input id='data-c3ec9ba1-0786-4933-bfb8-bb5edfe80d86' class='xr-var-data-in' type='checkbox'><label for='data-c3ec9ba1-0786-4933-bfb8-bb5edfe80d86' title='Show/Hide data repr'><svg class='icon xr-icon-database'><use xlink:href='#icon-database'></use></svg></label><div class='xr-var-attrs'><dl class='xr-attrs'></dl></div><div class='xr-var-data'><pre>array([&#x27;2023-05-08T16:09:06.000000000&#x27;], dtype=&#x27;datetime64[ns]&#x27;)</pre></div></li></ul></div></li><li class='xr-section-item'><input id='section-b479f5c8-05a9-41bf-a39e-3ba7f8ad80ad' class='xr-section-summary-in' type='checkbox'  ><label for='section-b479f5c8-05a9-41bf-a39e-3ba7f8ad80ad' class='xr-section-summary' >Data variables: <span>(20)</span></label><div class='xr-section-inline-details'></div><div class='xr-section-details'><ul class='xr-var-list'><li class='xr-var-item'><div class='xr-var-name'><span>ghi</span></div><div class='xr-var-dims'>(time, station)</div><div class='xr-var-dtype'>float64</div><div class='xr-var-preview xr-preview'>280.9 280.9 280.9 ... 280.9 280.9</div><input id='attrs-942720cf-35b8-4b3c-80e6-ae82cb98383d' class='xr-var-attrs-in' type='checkbox' ><label for='attrs-942720cf-35b8-4b3c-80e6-ae82cb98383d' title='Show/Hide attributes'><svg class='icon xr-icon-file-text2'><use xlink:href='#icon-file-text2'></use></svg></label><input id='data-a2c92304-a281-41f3-a37e-0058f8204c1a' class='xr-var-data-in' type='checkbox'><label for='data-a2c92304-a281-41f3-a37e-0058f8204c1a' title='Show/Hide data repr'><svg class='icon xr-icon-database'><use xlink:href='#icon-database'></use></svg></label><div class='xr-var-attrs'><dl class='xr-attrs'><dt><span>units :</span></dt><dd>W m-2</dd><dt><span>long_name :</span></dt><dd>downwelling shortwave flux</dd><dt><span>standard_name :</span></dt><dd>downwelling_shortwave_flux_in_air</dd><dt><span>valid_range :</span></dt><dd>[0, 60000]</dd><dt><span>serial :</span></dt><dd>S12128.001</dd><dt><span>calibration_Cabsolute :</span></dt><dd>129366.10608020698</dd><dt><span>calibration_Ccoscorr :</span></dt><dd>1.45 - 3.04·x¹ + 5.59·x² - 3.01·x³</dd><dt><span>calibration_function :</span></dt><dd>flux (W m-2) = flux (V) * Cabsolute (W m-2 V-1) * Ccoscorr(mua)</dd></dl></div><div class='xr-var-data'><pre>array([[280.90513748],\n       [280.90501036],\n       [280.90488297],\n       [280.75996672],\n       [280.90462742],\n       [280.90449925],\n       [280.75958242],\n       [280.90424214],\n       [280.90411319]])</pre></div></li><li class='xr-var-item'><div class='xr-var-name'><span>gti</span></div><div class='xr-var-dims'>(time, station)</div><div class='xr-var-dtype'>float64</div><div class='xr-var-preview xr-preview'>289.0 289.0 288.6 ... 288.6 289.4</div><input id='attrs-61edc91f-cb68-4f88-b8b3-a50295e497f5' class='xr-var-attrs-in' type='checkbox' ><label for='attrs-61edc91f-cb68-4f88-b8b3-a50295e497f5' title='Show/Hide attributes'><svg class='icon xr-icon-file-text2'><use xlink:href='#icon-file-text2'></use></svg></label><input id='data-dd44b1a0-17ee-4bd7-a3ce-007a66d245d0' class='xr-var-data-in' type='checkbox'><label for='data-dd44b1a0-17ee-4bd7-a3ce-007a66d245d0' title='Show/Hide data repr'><svg class='icon xr-icon-database'><use xlink:href='#icon-database'></use></svg></label><div class='xr-var-attrs'><dl class='xr-attrs'><dt><span>units :</span></dt><dd>W m-2</dd><dt><span>long_name :</span></dt><dd>downwelling shortwave flux measured on secondary platform, might be tilted</dd><dt><span>standard_name :</span></dt><dd>downwelling_shortwave_flux_in_air</dd><dt><span>valid_range :</span></dt><dd>[0, 60000]</dd><dt><span>hangle :</span></dt><dd>0.0</dd><dt><span>vangle :</span></dt><dd>0.0</dd><dt><span>serial :</span></dt><dd>S12137.049</dd><dt><span>calibration_Cabsolute :</span></dt><dd>143266.47564469912</dd><dt><span>calibration_Ccoscorr :</span></dt><dd>1.45 - 3.04·x¹ + 5.59·x² - 3.01·x³</dd><dt><span>calibration_function :</span></dt><dd>flux (W m-2) = flux (V) * Cabsolute (W m-2 V-1) * Ccoscorr(mua)</dd></dl></div><div class='xr-var-data'><pre>array([[288.95941377],\n       [288.959283  ],\n       [288.63842485],\n       [288.63829369],\n       [288.79852567],\n       [288.63803057],\n       [288.31717208],\n       [288.63776637],\n       [289.43939736]])</pre></div></li><li class='xr-var-item'><div class='xr-var-name'><span>ta</span></div><div class='xr-var-dims'>(time, station)</div><div class='xr-var-dtype'>float32</div><div class='xr-var-preview xr-preview'>294.8 294.7 294.8 ... 294.7 294.8</div><input id='attrs-d9ff6437-185e-46d1-88d6-78771cf20a72' class='xr-var-attrs-in' type='checkbox' ><label for='attrs-d9ff6437-185e-46d1-88d6-78771cf20a72' title='Show/Hide attributes'><svg class='icon xr-icon-file-text2'><use xlink:href='#icon-file-text2'></use></svg></label><input id='data-3066b7a0-b40b-4d3d-a694-74307441d034' class='xr-var-data-in' type='checkbox'><label for='data-3066b7a0-b40b-4d3d-a694-74307441d034' title='Show/Hide data repr'><svg class='icon xr-icon-database'><use xlink:href='#icon-database'></use></svg></label><div class='xr-var-attrs'><dl class='xr-attrs'><dt><span>units :</span></dt><dd>K</dd><dt><span>long_name :</span></dt><dd>air temperature</dd><dt><span>standard_name :</span></dt><dd>air_temperature</dd><dt><span>valid_range :</span></dt><dd>[0, 10000]</dd></dl></div><div class='xr-var-data'><pre>array([[294.8016 ],\n       [294.7371 ],\n       [294.77008],\n       [294.74997],\n       [294.7887 ],\n       [294.74997],\n       [294.8145 ],\n       [294.72705],\n       [294.76288]], dtype=float32)</pre></div></li><li class='xr-var-item'><div class='xr-var-name'><span>rh</span></div><div class='xr-var-dims'>(time, station)</div><div class='xr-var-dtype'>float32</div><div class='xr-var-preview xr-preview'>0.6253 0.6248 ... 0.628 0.629</div><input id='attrs-7723760b-170c-4652-8701-46c17b3dc13d' class='xr-var-attrs-in' type='checkbox' ><label for='attrs-7723760b-170c-4652-8701-46c17b3dc13d' title='Show/Hide attributes'><svg class='icon xr-icon-file-text2'><use xlink:href='#icon-file-text2'></use></svg></label><input id='data-9215bd55-812d-4223-b76c-2cc3ce0ef66f' class='xr-var-data-in' type='checkbox'><label for='data-9215bd55-812d-4223-b76c-2cc3ce0ef66f' title='Show/Hide data repr'><svg class='icon xr-icon-database'><use xlink:href='#icon-database'></use></svg></label><div class='xr-var-attrs'><dl class='xr-attrs'><dt><span>units :</span></dt><dd>1</dd><dt><span>long_name :</span></dt><dd>air relative humidity</dd><dt><span>standard_name :</span></dt><dd>relative_humidity</dd><dt><span>valid_range :</span></dt><dd>[0, 10000]</dd></dl></div><div class='xr-var-data'><pre>array([[0.6252903 ],\n       [0.62477416],\n       [0.6259498 ],\n       [0.6265806 ],\n       [0.6270968 ],\n       [0.6270968 ],\n       [0.6286451 ],\n       [0.627957  ],\n       [0.62903225]], dtype=float32)</pre></div></li><li class='xr-var-item'><div class='xr-var-name'><span>battery_voltage</span></div><div class='xr-var-dims'>(time, station)</div><div class='xr-var-dtype'>float32</div><div class='xr-var-preview xr-preview'>6.443 6.445 6.444 ... 6.449 6.465</div><input id='attrs-38913ec6-200c-4437-bc73-dfdea38353da' class='xr-var-attrs-in' type='checkbox' ><label for='attrs-38913ec6-200c-4437-bc73-dfdea38353da' title='Show/Hide attributes'><svg class='icon xr-icon-file-text2'><use xlink:href='#icon-file-text2'></use></svg></label><input id='data-3ac71ddc-3c06-4bf7-9e8b-838acde55159' class='xr-var-data-in' type='checkbox'><label for='data-3ac71ddc-3c06-4bf7-9e8b-838acde55159' title='Show/Hide data repr'><svg class='icon xr-icon-database'><use xlink:href='#icon-database'></use></svg></label><div class='xr-var-attrs'><dl class='xr-attrs'><dt><span>units :</span></dt><dd>V</dd><dt><span>standard_name :</span></dt><dd>battery_voltage</dd><dt><span>valid_range :</span></dt><dd>[0, 6400]</dd></dl></div><div class='xr-var-data'><pre>array([[6.44258  ],\n       [6.4451613],\n       [6.4437275],\n       [6.445807 ],\n       [6.4496775],\n       [6.4477415],\n       [6.4464517],\n       [6.4494624],\n       [6.464516 ]], dtype=float32)</pre></div></li><li class='xr-var-item'><div class='xr-var-name'><span>ghi_min</span></div><div class='xr-var-dims'>(time, station)</div><div class='xr-var-dtype'>float64</div><div class='xr-var-preview xr-preview'>280.9 280.9 280.9 ... 280.9 280.9</div><input id='attrs-2fd73375-d435-4b61-8fd7-4435bb0fcb19' class='xr-var-attrs-in' type='checkbox' ><label for='attrs-2fd73375-d435-4b61-8fd7-4435bb0fcb19' title='Show/Hide attributes'><svg class='icon xr-icon-file-text2'><use xlink:href='#icon-file-text2'></use></svg></label><input id='data-d97ccbd8-c585-44ca-b544-2c30f5e76525' class='xr-var-data-in' type='checkbox'><label for='data-d97ccbd8-c585-44ca-b544-2c30f5e76525' title='Show/Hide data repr'><svg class='icon xr-icon-database'><use xlink:href='#icon-database'></use></svg></label><div class='xr-var-attrs'><dl class='xr-attrs'><dt><span>units :</span></dt><dd>W m-2</dd><dt><span>long_name :</span></dt><dd>downwelling shortwave flux</dd><dt><span>standard_name :</span></dt><dd>min_downwelling_shortwave_flux_in_air</dd><dt><span>valid_range :</span></dt><dd>[0, 60000]</dd><dt><span>serial :</span></dt><dd>S12128.001</dd><dt><span>calibration_Cabsolute :</span></dt><dd>129366.10608020698</dd><dt><span>calibration_Ccoscorr :</span></dt><dd>1.45 - 3.04·x¹ + 5.59·x² - 3.01·x³</dd><dt><span>calibration_function :</span></dt><dd>flux (W m-2) = flux (V) * Cabsolute (W m-2 V-1) * Ccoscorr(mua)</dd></dl></div><div class='xr-var-data'><pre>array([[280.90513748],\n       [280.90501036],\n       [280.90488297],\n       [279.45680657],\n       [280.90462742],\n       [280.90449925],\n       [279.45642405],\n       [280.90424214],\n       [280.90411319]])</pre></div></li><li class='xr-var-item'><div class='xr-var-name'><span>gti_min</span></div><div class='xr-var-dims'>(time, station)</div><div class='xr-var-dtype'>float64</div><div class='xr-var-preview xr-preview'>288.6 288.6 288.6 ... 288.6 288.6</div><input id='attrs-303a77f0-203f-420f-aa8a-893dd8ded31c' class='xr-var-attrs-in' type='checkbox' ><label for='attrs-303a77f0-203f-420f-aa8a-893dd8ded31c' title='Show/Hide attributes'><svg class='icon xr-icon-file-text2'><use xlink:href='#icon-file-text2'></use></svg></label><input id='data-0f47e849-abc8-424c-a26c-30a9e72079f7' class='xr-var-data-in' type='checkbox'><label for='data-0f47e849-abc8-424c-a26c-30a9e72079f7' title='Show/Hide data repr'><svg class='icon xr-icon-database'><use xlink:href='#icon-database'></use></svg></label><div class='xr-var-attrs'><dl class='xr-attrs'><dt><span>units :</span></dt><dd>W m-2</dd><dt><span>long_name :</span></dt><dd>downwelling shortwave flux measured on secondary platform, might be tilted</dd><dt><span>standard_name :</span></dt><dd>min_downwelling_shortwave_flux_in_air</dd><dt><span>valid_range :</span></dt><dd>[0, 60000]</dd><dt><span>hangle :</span></dt><dd>0.0</dd><dt><span>vangle :</span></dt><dd>0.0</dd><dt><span>serial :</span></dt><dd>S12137.049</dd><dt><span>calibration_Cabsolute :</span></dt><dd>143266.47564469912</dd><dt><span>calibration_Ccoscorr :</span></dt><dd>1.45 - 3.04·x¹ + 5.59·x² - 3.01·x³</dd><dt><span>calibration_function :</span></dt><dd>flux (W m-2) = flux (V) * Cabsolute (W m-2 V-1) * Ccoscorr(mua)</dd></dl></div><div class='xr-var-data'><pre>array([[288.63868637],\n       [288.63855575],\n       [288.63842485],\n       [287.03474569],\n       [287.03461499],\n       [288.63803057],\n       [287.0343528 ],\n       [288.63776637],\n       [288.63763387]])</pre></div></li><li class='xr-var-item'><div class='xr-var-name'><span>ghi_max</span></div><div class='xr-var-dims'>(time, station)</div><div class='xr-var-dtype'>float64</div><div class='xr-var-preview xr-preview'>280.9 280.9 280.9 ... 280.9 280.9</div><input id='attrs-bde76591-759d-4b18-89a8-82e98029189c' class='xr-var-attrs-in' type='checkbox' ><label for='attrs-bde76591-759d-4b18-89a8-82e98029189c' title='Show/Hide attributes'><svg class='icon xr-icon-file-text2'><use xlink:href='#icon-file-text2'></use></svg></label><input id='data-8dca2112-0db3-456c-bd25-f163c150a37a' class='xr-var-data-in' type='checkbox'><label for='data-8dca2112-0db3-456c-bd25-f163c150a37a' title='Show/Hide data repr'><svg class='icon xr-icon-database'><use xlink:href='#icon-database'></use></svg></label><div class='xr-var-attrs'><dl class='xr-attrs'><dt><span>units :</span></dt><dd>W m-2</dd><dt><span>long_name :</span></dt><dd>downwelling shortwave flux</dd><dt><span>standard_name :</span></dt><dd>max_downwelling_shortwave_flux_in_air</dd><dt><span>valid_range :</span></dt><dd>[0, 60000]</dd><dt><span>serial :</span></dt><dd>S12128.001</dd><dt><span>calibration_Cabsolute :</span></dt><dd>129366.10608020698</dd><dt><span>calibration_Ccoscorr :</span></dt><dd>1.45 - 3.04·x¹ + 5.59·x² - 3.01·x³</dd><dt><span>calibration_function :</span></dt><dd>flux (W m-2) = flux (V) * Cabsolute (W m-2 V-1) * Ccoscorr(mua)</dd></dl></div><div class='xr-var-data'><pre>array([[280.90513748],\n       [280.90501036],\n       [280.90488297],\n       [280.90475533],\n       [280.90462742],\n       [280.90449925],\n       [280.90437082],\n       [280.90424214],\n       [280.90411319]])</pre></div></li><li class='xr-var-item'><div class='xr-var-name'><span>gti_max</span></div><div class='xr-var-dims'>(time, station)</div><div class='xr-var-dtype'>float64</div><div class='xr-var-preview xr-preview'>290.2 290.2 288.6 ... 288.6 290.2</div><input id='attrs-128f9661-2851-4926-996f-d014b46ed79e' class='xr-var-attrs-in' type='checkbox' ><label for='attrs-128f9661-2851-4926-996f-d014b46ed79e' title='Show/Hide attributes'><svg class='icon xr-icon-file-text2'><use xlink:href='#icon-file-text2'></use></svg></label><input id='data-9a4fda1c-ed9c-4823-90e4-b400093814a3' class='xr-var-data-in' type='checkbox'><label for='data-9a4fda1c-ed9c-4823-90e4-b400093814a3' title='Show/Hide data repr'><svg class='icon xr-icon-database'><use xlink:href='#icon-database'></use></svg></label><div class='xr-var-attrs'><dl class='xr-attrs'><dt><span>units :</span></dt><dd>W m-2</dd><dt><span>long_name :</span></dt><dd>downwelling shortwave flux measured on secondary platform, might be tilted</dd><dt><span>standard_name :</span></dt><dd>max_downwelling_shortwave_flux_in_air</dd><dt><span>valid_range :</span></dt><dd>[0, 60000]</dd><dt><span>hangle :</span></dt><dd>0.0</dd><dt><span>vangle :</span></dt><dd>0.0</dd><dt><span>serial :</span></dt><dd>S12137.049</dd><dt><span>calibration_Cabsolute :</span></dt><dd>143266.47564469912</dd><dt><span>calibration_Ccoscorr :</span></dt><dd>1.45 - 3.04·x¹ + 5.59·x² - 3.01·x³</dd><dt><span>calibration_function :</span></dt><dd>flux (W m-2) = flux (V) * Cabsolute (W m-2 V-1) * Ccoscorr(mua)</dd></dl></div><div class='xr-var-data'><pre>array([[290.24223656],\n       [290.24210521],\n       [288.63842485],\n       [290.2418417 ],\n       [290.24170954],\n       [288.63803057],\n       [288.63789861],\n       [288.63776637],\n       [290.24117821]])</pre></div></li><li class='xr-var-item'><div class='xr-var-name'><span>ghi_std</span></div><div class='xr-var-dims'>(time, station)</div><div class='xr-var-dtype'>float64</div><div class='xr-var-preview xr-preview'>0.0 0.0 0.0 ... 0.4579 0.0 0.0</div><input id='attrs-e25634c0-e8c6-44fb-9f01-59a68638b277' class='xr-var-attrs-in' type='checkbox' ><label for='attrs-e25634c0-e8c6-44fb-9f01-59a68638b277' title='Show/Hide attributes'><svg class='icon xr-icon-file-text2'><use xlink:href='#icon-file-text2'></use></svg></label><input id='data-b1e074fa-3ece-42bf-848e-454e788a6a6d' class='xr-var-data-in' type='checkbox'><label for='data-b1e074fa-3ece-42bf-848e-454e788a6a6d' title='Show/Hide data repr'><svg class='icon xr-icon-database'><use xlink:href='#icon-database'></use></svg></label><div class='xr-var-attrs'><dl class='xr-attrs'><dt><span>units :</span></dt><dd>W m-2</dd><dt><span>long_name :</span></dt><dd>downwelling shortwave flux</dd><dt><span>standard_name :</span></dt><dd>std_downwelling_shortwave_flux_in_air</dd><dt><span>valid_range :</span></dt><dd>[0, 60000]</dd><dt><span>serial :</span></dt><dd>S12128.001</dd><dt><span>calibration_Cabsolute :</span></dt><dd>129366.10608020698</dd><dt><span>calibration_Ccoscorr :</span></dt><dd>1.45 - 3.04·x¹ + 5.59·x² - 3.01·x³</dd><dt><span>calibration_function :</span></dt><dd>flux (W m-2) = flux (V) * Cabsolute (W m-2 V-1) * Ccoscorr(mua)</dd></dl></div><div class='xr-var-data'><pre>array([[0.        ],\n       [0.        ],\n       [0.        ],\n       [0.4578816 ],\n       [0.        ],\n       [0.        ],\n       [0.45788097],\n       [0.        ],\n       [0.        ]])</pre></div></li><li class='xr-var-item'><div class='xr-var-name'><span>gti_std</span></div><div class='xr-var-dims'>(time, station)</div><div class='xr-var-dtype'>float64</div><div class='xr-var-preview xr-preview'>0.7171 0.6761 0.0 ... 0.0 1.134</div><input id='attrs-abf2d256-e5ef-4ab2-8e7d-543761319dde' class='xr-var-attrs-in' type='checkbox' ><label for='attrs-abf2d256-e5ef-4ab2-8e7d-543761319dde' title='Show/Hide attributes'><svg class='icon xr-icon-file-text2'><use xlink:href='#icon-file-text2'></use></svg></label><input id='data-7bc48986-6f52-4a18-b7f5-607a270606ed' class='xr-var-data-in' type='checkbox'><label for='data-7bc48986-6f52-4a18-b7f5-607a270606ed' title='Show/Hide data repr'><svg class='icon xr-icon-database'><use xlink:href='#icon-database'></use></svg></label><div class='xr-var-attrs'><dl class='xr-attrs'><dt><span>units :</span></dt><dd>W m-2</dd><dt><span>long_name :</span></dt><dd>downwelling shortwave flux measured on secondary platform, might be tilted</dd><dt><span>standard_name :</span></dt><dd>std_downwelling_shortwave_flux_in_air</dd><dt><span>valid_range :</span></dt><dd>[0, 60000]</dd><dt><span>hangle :</span></dt><dd>0.0</dd><dt><span>vangle :</span></dt><dd>0.0</dd><dt><span>serial :</span></dt><dd>S12137.049</dd><dt><span>calibration_Cabsolute :</span></dt><dd>143266.47564469912</dd><dt><span>calibration_Ccoscorr :</span></dt><dd>1.45 - 3.04·x¹ + 5.59·x² - 3.01·x³</dd><dt><span>calibration_function :</span></dt><dd>flux (W m-2) = flux (V) * Cabsolute (W m-2 V-1) * Ccoscorr(mua)</dd></dl></div><div class='xr-var-data'><pre>array([[0.71712944],\n       [0.67611582],\n       [0.        ],\n       [0.75591978],\n       [0.91024754],\n       [0.        ],\n       [0.67611428],\n       [0.        ],\n       [1.13387708]])</pre></div></li><li class='xr-var-item'><div class='xr-var-name'><span>lat</span></div><div class='xr-var-dims'>(station)</div><div class='xr-var-dtype'>float64</div><div class='xr-var-preview xr-preview'>51.39</div><input id='attrs-21b81f7a-5912-4b89-9204-ac1efaa1592f' class='xr-var-attrs-in' type='checkbox' ><label for='attrs-21b81f7a-5912-4b89-9204-ac1efaa1592f' title='Show/Hide attributes'><svg class='icon xr-icon-file-text2'><use xlink:href='#icon-file-text2'></use></svg></label><input id='data-14a14e75-30d8-46ed-8ee6-9ef7b03c3432' class='xr-var-data-in' type='checkbox'><label for='data-14a14e75-30d8-46ed-8ee6-9ef7b03c3432' title='Show/Hide data repr'><svg class='icon xr-icon-database'><use xlink:href='#icon-database'></use></svg></label><div class='xr-var-attrs'><dl class='xr-attrs'><dt><span>standard_name :</span></dt><dd>latitude</dd><dt><span>units :</span></dt><dd>degree_north</dd><dt><span>valid_range :</span></dt><dd>[-90.0, 90.0]</dd></dl></div><div class='xr-var-data'><pre>array([51.39021033])</pre></div></li><li class='xr-var-item'><div class='xr-var-name'><span>lon</span></div><div class='xr-var-dims'>(station)</div><div class='xr-var-dtype'>float64</div><div class='xr-var-preview xr-preview'>11.89</div><input id='attrs-a8037da0-da5a-4c47-b9ce-cac261b9643f' class='xr-var-attrs-in' type='checkbox' ><label for='attrs-a8037da0-da5a-4c47-b9ce-cac261b9643f' title='Show/Hide attributes'><svg class='icon xr-icon-file-text2'><use xlink:href='#icon-file-text2'></use></svg></label><input id='data-820e201b-e18b-45a8-a791-e8d8662065b5' class='xr-var-data-in' type='checkbox'><label for='data-820e201b-e18b-45a8-a791-e8d8662065b5' title='Show/Hide data repr'><svg class='icon xr-icon-database'><use xlink:href='#icon-database'></use></svg></label><div class='xr-var-attrs'><dl class='xr-attrs'><dt><span>standard_name :</span></dt><dd>longitude</dd><dt><span>units :</span></dt><dd>degree_east</dd><dt><span>valid_range :</span></dt><dd>[-180.0, 180.0]</dd></dl></div><div class='xr-var-data'><pre>array([11.885252])</pre></div></li><li class='xr-var-item'><div class='xr-var-name'><span>maintenance_flag_ghi</span></div><div class='xr-var-dims'>(maintenancetime, station)</div><div class='xr-var-dtype'>float32</div><div class='xr-var-preview xr-preview'>9.0</div><input id='attrs-1ab15703-3663-4050-96ae-9c28dd51a4c4' class='xr-var-attrs-in' type='checkbox' ><label for='attrs-1ab15703-3663-4050-96ae-9c28dd51a4c4' title='Show/Hide attributes'><svg class='icon xr-icon-file-text2'><use xlink:href='#icon-file-text2'></use></svg></label><input id='data-a073f65a-d9da-4ab6-8ea0-ec50ba523887' class='xr-var-data-in' type='checkbox'><label for='data-a073f65a-d9da-4ab6-8ea0-ec50ba523887' title='Show/Hide data repr'><svg class='icon xr-icon-database'><use xlink:href='#icon-database'></use></svg></label><div class='xr-var-attrs'><dl class='xr-attrs'><dt><span>note_general :</span></dt><dd>222</dd><dt><span>note_clean :</span></dt><dd>testing notes</dd><dt><span>note_level :</span></dt><dd>test</dd><dt><span>valid_range :</span></dt><dd>[0, 11]</dd></dl></div><div class='xr-var-data'><pre>array([[9.]], dtype=float32)</pre></div></li><li class='xr-var-item'><div class='xr-var-name'><span>maintenance_flag_gti</span></div><div class='xr-var-dims'>(maintenancetime, station)</div><div class='xr-var-dtype'>float32</div><div class='xr-var-preview xr-preview'>7.0</div><input id='attrs-23be8cd5-8c6e-4538-91e6-66df869192e1' class='xr-var-attrs-in' type='checkbox' ><label for='attrs-23be8cd5-8c6e-4538-91e6-66df869192e1' title='Show/Hide attributes'><svg class='icon xr-icon-file-text2'><use xlink:href='#icon-file-text2'></use></svg></label><input id='data-f47081c5-95c5-4edb-bd60-bd0be9b35255' class='xr-var-data-in' type='checkbox'><label for='data-f47081c5-95c5-4edb-bd60-bd0be9b35255' title='Show/Hide data repr'><svg class='icon xr-icon-database'><use xlink:href='#icon-database'></use></svg></label><div class='xr-var-attrs'><dl class='xr-attrs'><dt><span>note_general :</span></dt><dd>222</dd><dt><span>note_clean :</span></dt><dd></dd><dt><span>note_level :</span></dt><dd></dd><dt><span>valid_range :</span></dt><dd>[0, 11]</dd></dl></div><div class='xr-var-data'><pre>array([[7.]], dtype=float32)</pre></div></li><li class='xr-var-item'><div class='xr-var-name'><span>szen</span></div><div class='xr-var-dims'>(time, station)</div><div class='xr-var-dtype'>float64</div><div class='xr-var-preview xr-preview'>42.51 42.51 42.51 ... 42.51 42.51</div><input id='attrs-27228690-0a48-4dec-952e-75a310d6642a' class='xr-var-attrs-in' type='checkbox' ><label for='attrs-27228690-0a48-4dec-952e-75a310d6642a' title='Show/Hide attributes'><svg class='icon xr-icon-file-text2'><use xlink:href='#icon-file-text2'></use></svg></label><input id='data-53d35b5e-37d6-4483-8bcc-ea9e657b5f88' class='xr-var-data-in' type='checkbox'><label for='data-53d35b5e-37d6-4483-8bcc-ea9e657b5f88' title='Show/Hide data repr'><svg class='icon xr-icon-database'><use xlink:href='#icon-database'></use></svg></label><div class='xr-var-attrs'><dl class='xr-attrs'><dt><span>standard_name :</span></dt><dd>solar_zenith_angle</dd><dt><span>units :</span></dt><dd>degree</dd><dt><span>valid_range :</span></dt><dd>[0, 36000]</dd></dl></div><div class='xr-var-data'><pre>array([[42.51131378],\n       [42.51144939],\n       [42.51158528],\n       [42.51172144],\n       [42.51185788],\n       [42.5119946 ],\n       [42.51213159],\n       [42.51226886],\n       [42.5124064 ]])</pre></div></li><li class='xr-var-item'><div class='xr-var-name'><span>sazi</span></div><div class='xr-var-dims'>(time, station)</div><div class='xr-var-dtype'>float64</div><div class='xr-var-preview xr-preview'>182.9 182.9 182.9 ... 182.9 182.9</div><input id='attrs-b5f6b23d-ca09-4d3e-a6b3-468d331ee256' class='xr-var-attrs-in' type='checkbox' ><label for='attrs-b5f6b23d-ca09-4d3e-a6b3-468d331ee256' title='Show/Hide attributes'><svg class='icon xr-icon-file-text2'><use xlink:href='#icon-file-text2'></use></svg></label><input id='data-4ae1075b-b7a0-4c8a-a187-f87c897c8b60' class='xr-var-data-in' type='checkbox'><label for='data-4ae1075b-b7a0-4c8a-a187-f87c897c8b60' title='Show/Hide data repr'><svg class='icon xr-icon-database'><use xlink:href='#icon-database'></use></svg></label><div class='xr-var-attrs'><dl class='xr-attrs'><dt><span>standard_name :</span></dt><dd>solar_azimuth_angle</dd><dt><span>units :</span></dt><dd>degree</dd><dt><span>valid_range :</span></dt><dd>[0, 36000]</dd></dl></div><div class='xr-var-data'><pre>array([[182.89457117],\n       [182.90066087],\n       [182.90675054],\n       [182.91284018],\n       [182.91892979],\n       [182.92501938],\n       [182.93110893],\n       [182.93719846],\n       [182.94328795]])</pre></div></li><li class='xr-var-item'><div class='xr-var-name'><span>esd</span></div><div class='xr-var-dims'>(station)</div><div class='xr-var-dtype'>float64</div><div class='xr-var-preview xr-preview'>1.01</div><input id='attrs-6052eadf-ce6f-4b1b-9f50-adfddd4a8fdf' class='xr-var-attrs-in' type='checkbox' ><label for='attrs-6052eadf-ce6f-4b1b-9f50-adfddd4a8fdf' title='Show/Hide attributes'><svg class='icon xr-icon-file-text2'><use xlink:href='#icon-file-text2'></use></svg></label><input id='data-94175482-3949-4cdc-a0c5-93d76b8c1d97' class='xr-var-data-in' type='checkbox'><label for='data-94175482-3949-4cdc-a0c5-93d76b8c1d97' title='Show/Hide data repr'><svg class='icon xr-icon-database'><use xlink:href='#icon-database'></use></svg></label><div class='xr-var-attrs'><dl class='xr-attrs'><dt><span>long_name :</span></dt><dd>Earth-sun distance</dd><dt><span>note :</span></dt><dd>Calculated based on Spencer (1971), as mean of its values over all time steps.</dd><dt><span>units :</span></dt><dd>ua</dd></dl></div><div class='xr-var-data'><pre>array([1.00959973])</pre></div></li><li class='xr-var-item'><div class='xr-var-name'><span>qc_flag_ghi</span></div><div class='xr-var-dims'>(time, station)</div><div class='xr-var-dtype'>uint8</div><div class='xr-var-preview xr-preview'>0 0 0 0 0 0 0 0 0</div><input id='attrs-80c4799e-0ae4-47e4-881b-afe863bc9193' class='xr-var-attrs-in' type='checkbox' ><label for='attrs-80c4799e-0ae4-47e4-881b-afe863bc9193' title='Show/Hide attributes'><svg class='icon xr-icon-file-text2'><use xlink:href='#icon-file-text2'></use></svg></label><input id='data-8bcba366-417e-4611-bed2-0a810758218c' class='xr-var-data-in' type='checkbox'><label for='data-8bcba366-417e-4611-bed2-0a810758218c' title='Show/Hide data repr'><svg class='icon xr-icon-database'><use xlink:href='#icon-database'></use></svg></label><div class='xr-var-attrs'><dl class='xr-attrs'><dt><span>standard_name :</span></dt><dd>quality_flag</dd><dt><span>valid_range :</span></dt><dd>[0, 127]</dd><dt><span>serial :</span></dt><dd>S12128.001</dd><dt><span>calibration_Cabsolute :</span></dt><dd>129366.10608020698</dd><dt><span>calibration_Ccoscorr :</span></dt><dd>1.45 - 3.04·x¹ + 5.59·x² - 3.01·x³</dd><dt><span>calibration_function :</span></dt><dd>flux (W m-2) = flux (V) * Cabsolute (W m-2 V-1) * Ccoscorr(mua)</dd><dt><span>ancillary_variables :</span></dt><dd>ghi</dd><dt><span>flag_masks :</span></dt><dd>[1, 2, 4, 8, 16, 32, 64]</dd><dt><span>flag_values :</span></dt><dd>[1, 2, 4, 8, 16, 32, 64]</dd><dt><span>flag_meanings :</span></dt><dd>below_physical_limit above_physical_limit below_rare_limit above_rare_limit comparison_to_low comparison_to_high quality_control_failed</dd></dl></div><div class='xr-var-data'><pre>array([[0],\n       [0],\n       [0],\n       [0],\n       [0],\n       [0],\n       [0],\n       [0],\n       [0]], dtype=uint8)</pre></div></li><li class='xr-var-item'><div class='xr-var-name'><span>qc_flag_gti</span></div><div class='xr-var-dims'>(time, station)</div><div class='xr-var-dtype'>uint8</div><div class='xr-var-preview xr-preview'>0 0 0 0 0 0 0 0 0</div><input id='attrs-fc312254-e17a-40ee-b68c-a7661170a2ff' class='xr-var-attrs-in' type='checkbox' ><label for='attrs-fc312254-e17a-40ee-b68c-a7661170a2ff' title='Show/Hide attributes'><svg class='icon xr-icon-file-text2'><use xlink:href='#icon-file-text2'></use></svg></label><input id='data-123dfb3a-c333-4453-91c1-c8c8db5fff30' class='xr-var-data-in' type='checkbox'><label for='data-123dfb3a-c333-4453-91c1-c8c8db5fff30' title='Show/Hide data repr'><svg class='icon xr-icon-database'><use xlink:href='#icon-database'></use></svg></label><div class='xr-var-attrs'><dl class='xr-attrs'><dt><span>standard_name :</span></dt><dd>quality_flag</dd><dt><span>valid_range :</span></dt><dd>[0, 127]</dd><dt><span>hangle :</span></dt><dd>0.0</dd><dt><span>vangle :</span></dt><dd>0.0</dd><dt><span>serial :</span></dt><dd>S12137.049</dd><dt><span>calibration_Cabsolute :</span></dt><dd>143266.47564469912</dd><dt><span>calibration_Ccoscorr :</span></dt><dd>1.45 - 3.04·x¹ + 5.59·x² - 3.01·x³</dd><dt><span>calibration_function :</span></dt><dd>flux (W m-2) = flux (V) * Cabsolute (W m-2 V-1) * Ccoscorr(mua)</dd><dt><span>ancillary_variables :</span></dt><dd>gti</dd><dt><span>flag_masks :</span></dt><dd>[1, 2, 4, 8, 16, 32, 64]</dd><dt><span>flag_values :</span></dt><dd>[1, 2, 4, 8, 16, 32, 64]</dd><dt><span>flag_meanings :</span></dt><dd>below_physical_limit above_physical_limit below_rare_limit above_rare_limit comparison_to_low comparison_to_high quality_control_failed</dd></dl></div><div class='xr-var-data'><pre>array([[0],\n       [0],\n       [0],\n       [0],\n       [0],\n       [0],\n       [0],\n       [0],\n       [0]], dtype=uint8)</pre></div></li></ul></div></li><li class='xr-section-item'><input id='section-163b549c-1e66-4246-adfe-a4d72ca29ace' class='xr-section-summary-in' type='checkbox'  ><label for='section-163b549c-1e66-4246-adfe-a4d72ca29ace' class='xr-section-summary' >Indexes: <span>(3)</span></label><div class='xr-section-inline-details'></div><div class='xr-section-details'><ul class='xr-var-list'><li class='xr-var-item'><div class='xr-index-name'><div>station</div></div><div class='xr-index-preview'>PandasIndex</div><div></div><input id='index-82cf156a-b428-449e-bcbb-a1e400e44242' class='xr-index-data-in' type='checkbox'/><label for='index-82cf156a-b428-449e-bcbb-a1e400e44242' title='Show/Hide index repr'><svg class='icon xr-icon-database'><use xlink:href='#icon-database'></use></svg></label><div class='xr-index-data'><pre>PandasIndex(Float64Index([1.0], dtype=&#x27;float64&#x27;, name=&#x27;station&#x27;))</pre></div></li><li class='xr-var-item'><div class='xr-index-name'><div>time</div></div><div class='xr-index-preview'>PandasIndex</div><div></div><input id='index-8f082b17-a20e-4d16-85e7-b0b513b65067' class='xr-index-data-in' type='checkbox'/><label for='index-8f082b17-a20e-4d16-85e7-b0b513b65067' title='Show/Hide index repr'><svg class='icon xr-icon-database'><use xlink:href='#icon-database'></use></svg></label><div class='xr-index-data'><pre>PandasIndex(DatetimeIndex([&#x27;2022-08-30 11:21:01&#x27;, &#x27;2022-08-30 11:21:02&#x27;,\n               &#x27;2022-08-30 11:21:03&#x27;, &#x27;2022-08-30 11:21:04&#x27;,\n               &#x27;2022-08-30 11:21:05&#x27;, &#x27;2022-08-30 11:21:06&#x27;,\n               &#x27;2022-08-30 11:21:07&#x27;, &#x27;2022-08-30 11:21:08&#x27;,\n               &#x27;2022-08-30 11:21:09&#x27;],\n              dtype=&#x27;datetime64[ns]&#x27;, name=&#x27;time&#x27;, freq=&#x27;S&#x27;))</pre></div></li><li class='xr-var-item'><div class='xr-index-name'><div>maintenancetime</div></div><div class='xr-index-preview'>PandasIndex</div><div></div><input id='index-d56793a7-ee43-4096-8db8-5793fb4def7f' class='xr-index-data-in' type='checkbox'/><label for='index-d56793a7-ee43-4096-8db8-5793fb4def7f' title='Show/Hide index repr'><svg class='icon xr-icon-database'><use xlink:href='#icon-database'></use></svg></label><div class='xr-index-data'><pre>PandasIndex(DatetimeIndex([&#x27;2023-05-08 16:09:06&#x27;], dtype=&#x27;datetime64[ns]&#x27;, name=&#x27;maintenancetime&#x27;, freq=None))</pre></div></li></ul></div></li><li class='xr-section-item'><input id='section-a0780b28-b71b-467d-a947-6441fed6e5ca' class='xr-section-summary-in' type='checkbox'  ><label for='section-a0780b28-b71b-467d-a947-6441fed6e5ca' class='xr-section-summary' >Attributes: <span>(31)</span></label><div class='xr-section-inline-details'></div><div class='xr-section-details'><dl class='xr-attrs'><dt><span>Conventions :</span></dt><dd>CF-1.10, ACDD-1.3</dd><dt><span>title :</span></dt><dd>TROPOS pyranometer network (PyrNet) observational data set</dd><dt><span>history :</span></dt><dd>2024-02-29T07:54:36: Generated level l1a  by pyrnet version 0.2.4+0.gbfcb0c5.dirty; 2024-02-29T07:54:39: Generated level l1b  by pyrnet version 0.2.4+0.gbfcb0c5.dirty; </dd><dt><span>institution :</span></dt><dd>Leibniz Institute for Tropospheric Research (TROPOS)</dd><dt><span>source :</span></dt><dd>TROPOS pyranometer network (PyrNet)</dd><dt><span>references :</span></dt><dd>https://doi.org/10.5194/amt-9-1153-2016</dd><dt><span>Department :</span></dt><dd>Remote Sensing of Atmospheric Processes</dd><dt><span>Department_team :</span></dt><dd>Clouds, Aerosol and Radiation</dd><dt><span>Address :</span></dt><dd>Permoser Str. 15, 04318 Leipzig, Germany</dd><dt><span>Contact_person :</span></dt><dd>Andreas Macke and the clouds, aerosol and radiation team of the remote sensing department, mailto:andreas.macke@tropos.de</dd><dt><span>Contributor_name :</span></dt><dd></dd><dt><span>Contributor_role :</span></dt><dd></dd><dt><span>Authors_software :</span></dt><dd>Hartwig Deneke, Jonas Witthuhn, mailto:deneke@tropos.de</dd><dt><span>Creator_name :</span></dt><dd></dd><dt><span>Project :</span></dt><dd></dd><dt><span>Standard_name_vocabulary :</span></dt><dd>CF Standard Name Table v81</dd><dt><span>License :</span></dt><dd>CC-BY-SA 3.0</dd><dt><span>TESTNOTE :</span></dt><dd>This is a test note.</dd><dt><span>processing_level :</span></dt><dd>l1b</dd><dt><span>product_version :</span></dt><dd>0.2.4+0.gbfcb0c5.dirty</dd><dt><span>date_created :</span></dt><dd>2024-02-29T07:54:39</dd><dt><span>geospatial_lat_min :</span></dt><dd>51.390210333333336</dd><dt><span>geospatial_lat_max :</span></dt><dd>51.390210333333336</dd><dt><span>geospatial_lat_units :</span></dt><dd>degN</dd><dt><span>geospatial_lon_min :</span></dt><dd>11.885252</dd><dt><span>geospatial_lon_max :</span></dt><dd>11.885252</dd><dt><span>geospatial_lon_units :</span></dt><dd>degE</dd><dt><span>time_coverage_start :</span></dt><dd>2022-08-30T11:21:01</dd><dt><span>time_coverage_end :</span></dt><dd>2022-08-30T11:21:09</dd><dt><span>time_coverage_duration :</span></dt><dd>P0DT0H0M8S</dd><dt><span>time_coverage_resolution :</span></dt><dd>P0DT0H0M1S</dd></dl></div></li></ul></div></div>"
     },
     "execution_count": 38,
     "metadata": {},
     "output_type": "execute_result"
    }
   ],
   "source": [
    "#|dropcode\n",
    "#|dropout\n",
    "fname = \"../../example_data/to_l1a_output.nc\"\n",
    "config = {\n",
    "    \"l1bfreq\":\"1s\",\n",
    "    \"campaign\": \"test\",\n",
    "    \"stripminutes\":0,\n",
    "    \"average_latlon\":True,\n",
    "    \"l1b_resample_stats\": [\"min\", \"max\", \"std\"],\n",
    "    \"radflux_varname\": [\"ghi\",\"gti\"]\n",
    "}\n",
    "\n",
    "ds_l1b = to_l1b(fname=fname, config=config, check_adc_sync=False)\n",
    "\n",
    "print(\"Processing fname:\")\n",
    "print(get_fname(ds_l1b, freq='1s', timevar=\"time\", config=config))\n",
    "\n",
    "ds_l1b.to_netcdf(\"../../example_data/to_l1b_output.nc\")\n",
    "ds_l1b"
   ]
  },
  {
   "cell_type": "code",
   "execution_count": 39,
   "metadata": {
    "collapsed": false,
    "ExecuteTime": {
     "end_time": "2024-02-29T07:54:40.388451700Z",
     "start_time": "2024-02-29T07:54:39.365172600Z"
    }
   },
   "outputs": [
    {
     "name": "stdout",
     "output_type": "stream",
     "text": [
      "CHECKING NetCDF FILE: ../../example_data/to_l1b_output.nc\n",
      "=====================\n",
      "Using CF Checker Version 4.1.0\n",
      "Checking against CF Version CF-1.8\n",
      "Using Standard Name Table Version 84 (2024-01-19T15:55:10Z)\n",
      "Using Area Type Table Version 11 (06 July 2023)\n",
      "Using Standardized Region Name Table Version 4 (18 December 2018)\n",
      "\n",
      "ERROR: (2.6.1): This netCDF file does not appear to contain CF Convention data.\n",
      "\n",
      "------------------\n",
      "Checking variable: station\n",
      "------------------\n",
      "ERROR: (3.1): Invalid units: -\n",
      "\n",
      "------------------\n",
      "Checking variable: time\n",
      "------------------\n",
      "WARN: (3): No standard_name or long_name attribute specified\n",
      "\n",
      "------------------\n",
      "Checking variable: ghi\n",
      "------------------\n",
      "ERROR: (8.1): must be of type byte, short or int\n",
      "\n",
      "------------------\n",
      "Checking variable: gti\n",
      "------------------\n",
      "ERROR: (8.1): must be of type byte, short or int\n",
      "\n",
      "------------------\n",
      "Checking variable: ta\n",
      "------------------\n",
      "ERROR: (8.1): must be of type byte, short or int\n",
      "\n",
      "------------------\n",
      "Checking variable: rh\n",
      "------------------\n",
      "ERROR: (8.1): must be of type byte, short or int\n",
      "\n",
      "------------------\n",
      "Checking variable: battery_voltage\n",
      "------------------\n",
      "ERROR: (3.3): Invalid standard_name: battery_voltage\n",
      "ERROR: (8.1): must be of type byte, short or int\n",
      "\n",
      "------------------\n",
      "Checking variable: ghi_min\n",
      "------------------\n",
      "ERROR: (3.3): Invalid standard_name: min_downwelling_shortwave_flux_in_air\n",
      "ERROR: (8.1): must be of type byte, short or int\n",
      "\n",
      "------------------\n",
      "Checking variable: gti_min\n",
      "------------------\n",
      "ERROR: (3.3): Invalid standard_name: min_downwelling_shortwave_flux_in_air\n",
      "ERROR: (8.1): must be of type byte, short or int\n",
      "\n",
      "------------------\n",
      "Checking variable: ghi_max\n",
      "------------------\n",
      "ERROR: (3.3): Invalid standard_name: max_downwelling_shortwave_flux_in_air\n",
      "ERROR: (8.1): must be of type byte, short or int\n",
      "\n",
      "------------------\n",
      "Checking variable: gti_max\n",
      "------------------\n",
      "ERROR: (3.3): Invalid standard_name: max_downwelling_shortwave_flux_in_air\n",
      "ERROR: (8.1): must be of type byte, short or int\n",
      "\n",
      "------------------\n",
      "Checking variable: ghi_std\n",
      "------------------\n",
      "ERROR: (3.3): Invalid standard_name: std_downwelling_shortwave_flux_in_air\n",
      "ERROR: (8.1): must be of type byte, short or int\n",
      "\n",
      "------------------\n",
      "Checking variable: gti_std\n",
      "------------------\n",
      "ERROR: (3.3): Invalid standard_name: std_downwelling_shortwave_flux_in_air\n",
      "ERROR: (8.1): must be of type byte, short or int\n",
      "\n",
      "------------------\n",
      "Checking variable: lat\n",
      "------------------\n",
      "\n",
      "------------------\n",
      "Checking variable: lon\n",
      "------------------\n",
      "\n",
      "------------------\n",
      "Checking variable: maintenance_flag_ghi\n",
      "------------------\n",
      "WARN: (3): No standard_name or long_name attribute specified\n",
      "INFO: (3.1): No units attribute set.  Please consider adding a units attribute for completeness.\n",
      "\n",
      "------------------\n",
      "Checking variable: maintenance_flag_gti\n",
      "------------------\n",
      "WARN: (3): No standard_name or long_name attribute specified\n",
      "INFO: (3.1): No units attribute set.  Please consider adding a units attribute for completeness.\n",
      "\n",
      "------------------\n",
      "Checking variable: maintenancetime\n",
      "------------------\n",
      "WARN: (3): No standard_name or long_name attribute specified\n",
      "\n",
      "------------------\n",
      "Checking variable: szen\n",
      "------------------\n",
      "ERROR: (8.1): must be of type byte, short or int\n",
      "\n",
      "------------------\n",
      "Checking variable: sazi\n",
      "------------------\n",
      "ERROR: (8.1): must be of type byte, short or int\n",
      "\n",
      "------------------\n",
      "Checking variable: esd\n",
      "------------------\n",
      "\n",
      "------------------\n",
      "Checking variable: qc_flag_ghi\n",
      "------------------\n",
      "ERROR: Attribute flag_masks of incorrect type (expecting 'Data Variable' type, got 'Numeric' type)\n",
      "ERROR: Attribute flag_values of incorrect type (expecting 'Data Variable' type, got 'Numeric' type)\n",
      "\n",
      "------------------\n",
      "Checking variable: qc_flag_gti\n",
      "------------------\n",
      "ERROR: Attribute flag_masks of incorrect type (expecting 'Data Variable' type, got 'Numeric' type)\n",
      "ERROR: Attribute flag_values of incorrect type (expecting 'Data Variable' type, got 'Numeric' type)\n",
      "\n",
      "ERRORS detected: 26\n",
      "WARNINGS given: 4\n",
      "INFORMATION messages: 2\n"
     ]
    }
   ],
   "source": [
    "import cfchecker.cfchecks\n",
    "init = cfchecker.cfchecks.CFChecker()\n",
    "res = init.checker(\"../../example_data/to_l1b_output.nc\")"
   ]
  },
  {
   "cell_type": "code",
   "execution_count": 40,
   "metadata": {
    "collapsed": false,
    "ExecuteTime": {
     "end_time": "2024-02-29T07:54:40.409250200Z",
     "start_time": "2024-02-29T07:54:40.384450300Z"
    }
   },
   "outputs": [
    {
     "data": {
      "text/plain": "<class 'netCDF4._netCDF4.Dataset'>\nroot group (NETCDF4 data model, file format HDF5):\n    Conventions: CF-1.10, ACDD-1.3\n    title: TROPOS pyranometer network (PyrNet) observational data set\n    history: 2024-02-29T07:54:36: Generated level l1a  by pyrnet version 0.2.4+0.gbfcb0c5.dirty; 2024-02-29T07:54:39: Generated level l1b  by pyrnet version 0.2.4+0.gbfcb0c5.dirty; \n    institution: Leibniz Institute for Tropospheric Research (TROPOS)\n    source: TROPOS pyranometer network (PyrNet)\n    references: https://doi.org/10.5194/amt-9-1153-2016\n    Department: Remote Sensing of Atmospheric Processes\n    Department_team: Clouds, Aerosol and Radiation\n    Address: Permoser Str. 15, 04318 Leipzig, Germany\n    Contact_person: Andreas Macke and the clouds, aerosol and radiation team of the remote sensing department, mailto:andreas.macke@tropos.de\n    Contributor_name: \n    Contributor_role: \n    Authors_software: Hartwig Deneke, Jonas Witthuhn, mailto:deneke@tropos.de\n    Creator_name: \n    Project: \n    Standard_name_vocabulary: CF Standard Name Table v81\n    License: CC-BY-SA 3.0\n    TESTNOTE: This is a test note.\n    processing_level: l1b\n    product_version: 0.2.4+0.gbfcb0c5.dirty\n    date_created: 2024-02-29T07:54:39\n    geospatial_lat_min: 51.390210333333336\n    geospatial_lat_max: 51.390210333333336\n    geospatial_lat_units: degN\n    geospatial_lon_min: 11.885252\n    geospatial_lon_max: 11.885252\n    geospatial_lon_units: degE\n    time_coverage_start: 2022-08-30T11:21:01\n    time_coverage_end: 2022-08-30T11:21:09\n    time_coverage_duration: P0DT0H0M8S\n    time_coverage_resolution: P0DT0H0M1S\n    dimensions(sizes): station(1), time(9), maintenancetime(1)\n    variables(dimensions): float64 station(station), float64 time(time), uint16 ghi(time, station), uint16 gti(time, station), uint16 ta(time, station), uint16 rh(time, station), uint16 battery_voltage(time, station), uint16 ghi_min(time, station), uint16 gti_min(time, station), uint16 ghi_max(time, station), uint16 gti_max(time, station), uint16 ghi_std(time, station), uint16 gti_std(time, station), float64 lat(station), float64 lon(station), uint8 maintenance_flag_ghi(maintenancetime, station), uint8 maintenance_flag_gti(maintenancetime, station), float64 maintenancetime(maintenancetime), uint16 szen(time, station), uint16 sazi(time, station), float64 esd(station), uint8 qc_flag_ghi(time, station), uint8 qc_flag_gti(time, station)\n    groups: "
     },
     "execution_count": 40,
     "metadata": {},
     "output_type": "execute_result"
    }
   ],
   "source": [
    "#|dropout\n",
    "import netCDF4\n",
    "netCDF4.Dataset(\"../../example_data/to_l1b_output.nc\",'r')"
   ]
  },
  {
   "cell_type": "markdown",
   "source": [
    "## Merging\n",
    "Merging datasets with xarray default merge overwrites or drops certain variable attributes (e.g., serial number, calibration factor). The methods here are specialized to merge PyrNet datasets and attributes.   "
   ],
   "metadata": {
    "collapsed": false
   }
  },
  {
   "cell_type": "code",
   "execution_count": 41,
   "outputs": [],
   "source": [
    "# make 3 artificial datasets for testing\n",
    "# original ds_l1b\n",
    "ds1 = ds_l1b.copy()\n",
    "ds1.attrs[\"site\"] = \"testsite1\"\n",
    "# ds_l1b but new times\n",
    "ds2 = ds1.copy()\n",
    "ds2 = ds2.assign_coords({\n",
    "    \"time\": (\"time\", ds2.time.values+(ds2.time.values[-1]-ds2.time.values[0]))\n",
    "})\n",
    "# ds_l1b, same time but other station\n",
    "ds3 = ds1.copy()\n",
    "ds3 = ds3.assign_coords({\n",
    "    \"station\": (\"station\", [2])\n",
    "})\n",
    "ds3.attrs[\"site\"] = \"testsite2\"\n",
    "for var in ds3:\n",
    "    if \"ghi\" in var:\n",
    "        ds3[var].attrs[\"serial\"] = \"test_ghi_ds3\"\n",
    "    if \"gti\" in var:\n",
    "        ds3[var].attrs[\"serial\"] = \"test_gti_ds3\"\n",
    "\n",
    "dslist = [ds1, ds3, ds2]\n"
   ],
   "metadata": {
    "collapsed": false,
    "ExecuteTime": {
     "end_time": "2024-02-29T07:54:40.517957400Z",
     "start_time": "2024-02-29T07:54:40.424661500Z"
    }
   }
  },
  {
   "cell_type": "markdown",
   "source": [
    "### Sort by station coordinates\n",
    "Before merging, sort them by station"
   ],
   "metadata": {
    "collapsed": false
   }
  },
  {
   "cell_type": "code",
   "execution_count": 42,
   "outputs": [],
   "source": [
    "#|export\n",
    "#|dropcode\n",
    "def _sort_by_station(dslist):\n",
    "    # sort dslist for first station\n",
    "    station0 = []\n",
    "    for i in range(len(dslist)):\n",
    "        station0.append(int(dslist[i][\"station\"].values[0]))\n",
    "    isort = np.argsort(station0).ravel()\n",
    "    dslist = [dslist[i] for i in isort]\n",
    "    return dslist\n"
   ],
   "metadata": {
    "collapsed": false,
    "ExecuteTime": {
     "end_time": "2024-02-29T07:54:40.523941700Z",
     "start_time": "2024-02-29T07:54:40.435333900Z"
    }
   }
  },
  {
   "cell_type": "code",
   "execution_count": 43,
   "outputs": [
    {
     "name": "stdout",
     "output_type": "stream",
     "text": [
      "[1.]\n",
      "[1.]\n",
      "[2]\n"
     ]
    },
    {
     "data": {
      "text/plain": "[None, None, None]"
     },
     "execution_count": 43,
     "metadata": {},
     "output_type": "execute_result"
    }
   ],
   "source": [
    "#|dropout\n",
    "dslist = _sort_by_station(dslist)\n",
    "[print(dslist[i].station.values) for i in range(len(dslist))]"
   ],
   "metadata": {
    "collapsed": false,
    "ExecuteTime": {
     "end_time": "2024-02-29T07:54:40.524951200Z",
     "start_time": "2024-02-29T07:54:40.441831Z"
    }
   }
  },
  {
   "cell_type": "markdown",
   "source": [
    "### Merge global and variable attributes\n",
    "Some attributes are tied to a specific statin (e.g., calibration factor, serial number). These attributes are converted to a list and merged with respect to the station dimension."
   ],
   "metadata": {
    "collapsed": false
   }
  },
  {
   "cell_type": "code",
   "execution_count": 44,
   "outputs": [],
   "source": [
    "#|export\n",
    "#|dropcode\n",
    "def _merge_gattrs_by_station(dslist, merge_gattrs):\n",
    "    # merge variable attrs:\n",
    "    merge_gattrs_fill_value = [merge_gattrs[key] for key in merge_gattrs] \n",
    "    merge_gattrs = [key for key in merge_gattrs]\n",
    "    \n",
    "    merged_gattrs = {}\n",
    "    gattrs_idx = {}\n",
    "    for i in range(len(dslist)):\n",
    "        dst = dslist[i]\n",
    "        for j,attr in enumerate(merge_gattrs):\n",
    "            if attr not in dst.attrs:\n",
    "                fill_value = dst.station.size * [merge_gattrs_fill_value[j]]\n",
    "                dst.attrs.update({\n",
    "                    attr: fill_value\n",
    "                })\n",
    "            # save station index, as attributes are related to station dimension\n",
    "            attridx = list(dst.station.values.astype(int))\n",
    "            attrval = list(pyrnet.utils.make_iter(dst.attrs[attr]))\n",
    "            # merge attributes, overwrite values of same station\n",
    "            if attr in merged_gattrs:\n",
    "                mattrval = merged_gattrs[attr] + attrval\n",
    "                mattridx = gattrs_idx[attr] + attridx\n",
    "                _,idx = np.unique(mattridx, return_index=True)\n",
    "                attridx = [mattridx[i] for i in idx]\n",
    "                attrval = [mattrval[i] for i in idx]\n",
    "            gattrs_idx = assoc_in(\n",
    "                gattrs_idx, [attr], attridx\n",
    "            )\n",
    "            merged_gattrs = assoc_in(\n",
    "                merged_gattrs, [attr], attrval\n",
    "            )\n",
    "    return merged_gattrs\n",
    "\n",
    "def _merge_vattrs_by_station(dslist, merge_attrs):\n",
    "    # merge variable attrs:\n",
    "    merge_attrs_fill_value = [merge_attrs[key] for key in merge_attrs] \n",
    "    merge_attrs = [key for key in merge_attrs]\n",
    "    \n",
    "    # add missing gti variables\n",
    "    for i in range(len(dslist)):\n",
    "        dst = dslist[i].copy()\n",
    "        if \"gti\" in dst:\n",
    "            continue\n",
    "        ghi_vars = [var for var in dst if \"ghi\" in var]\n",
    "        gti_vars = [var.replace(\"ghi\",\"gti\") for var in ghi_vars]\n",
    "        for ghi_var, gti_var in zip(ghi_vars,gti_vars):\n",
    "            dst = dst.assign({\n",
    "                gti_var: (dst[ghi_var].dims, np.full(dst[ghi_var].shape, np.nan))\n",
    "            })\n",
    "            for j,attr in enumerate(merge_attrs):\n",
    "                if \"note\" in attr and not ghi_var.startswith(\"maintenance\"):\n",
    "                    continue\n",
    "                if \"note\" not in attr and ghi_var.startswith(\"maintenance\"):\n",
    "                    continue\n",
    "                fill_value = dst.station.size * [merge_attrs_fill_value[j]]\n",
    "                dst[gti_var].attrs.update({\n",
    "                    attr: fill_value\n",
    "                })\n",
    "        dslist[i] = dst\n",
    "    \n",
    "    merged_attrs = {}\n",
    "    mattrs_idx = {}\n",
    "    for i in range(len(dslist)):\n",
    "        dst = dslist[i]\n",
    "        for var in dst:\n",
    "            # for attr in dst[var].attrs:\n",
    "            #     if attr not in merge_attrs:\n",
    "            #         continue\n",
    "            for j,attr in enumerate(merge_attrs):\n",
    "                if \"note\" in attr and not var.startswith(\"maintenance\"):\n",
    "                    continue\n",
    "                if \"note\" not in attr and var.startswith(\"maintenance\"):\n",
    "                    continue\n",
    "                if attr not in dst[var].attrs:\n",
    "                    fill_value = dst.station.size * [merge_attrs_fill_value[j]]\n",
    "                    dst[var].attrs.update({\n",
    "                        attr: fill_value\n",
    "                     })\n",
    "                # save station index, as attributes are related to station dimension\n",
    "                attridx = list(dst.station.values.astype(int))\n",
    "                attrval = list(pyrnet.utils.make_iter(dst[var].attrs[attr]))\n",
    "\n",
    "                # merge attributes, overwrite values of same station\n",
    "                if var not in merged_attrs:\n",
    "                    merged_attrs.update({var:{}})\n",
    "                    mattrs_idx.update({var:{}})\n",
    "                if attr in merged_attrs[var]:\n",
    "                    mattrval = merged_attrs[var][attr] + attrval\n",
    "                    mattridx = mattrs_idx[var][attr] + attridx\n",
    "                    \n",
    "                    _,idx = np.unique(mattridx, return_index=True)\n",
    "                    attridx = [mattridx[i] for i in idx]\n",
    "                    attrval = [mattrval[i] for i in idx]\n",
    "                mattrs_idx = assoc_in(\n",
    "                    mattrs_idx, [var,attr], attridx\n",
    "                )\n",
    "                merged_attrs = assoc_in(\n",
    "                    merged_attrs, [var,attr], attrval\n",
    "                )\n",
    "    return dslist, merged_attrs\n",
    "    "
   ],
   "metadata": {
    "collapsed": false,
    "ExecuteTime": {
     "end_time": "2024-02-29T07:54:40.525949200Z",
     "start_time": "2024-02-29T07:54:40.452916700Z"
    }
   }
  },
  {
   "cell_type": "code",
   "execution_count": 45,
   "outputs": [
    {
     "name": "stdout",
     "output_type": "stream",
     "text": [
      "{'site': ['testsite1', 'testsite2']}\n",
      "{'ghi': {'serial': ['S12128.001', 'test_ghi_ds3']}, 'gti': {'serial': ['S12137.049', 'test_gti_ds3']}, 'ta': {'serial': ['', '']}, 'rh': {'serial': ['', '']}, 'battery_voltage': {'serial': ['', '']}, 'ghi_min': {'serial': ['S12128.001', 'test_ghi_ds3']}, 'gti_min': {'serial': ['S12137.049', 'test_gti_ds3']}, 'ghi_max': {'serial': ['S12128.001', 'test_ghi_ds3']}, 'gti_max': {'serial': ['S12137.049', 'test_gti_ds3']}, 'ghi_std': {'serial': ['S12128.001', 'test_ghi_ds3']}, 'gti_std': {'serial': ['S12137.049', 'test_gti_ds3']}, 'lat': {'serial': ['', '']}, 'lon': {'serial': ['', '']}, 'maintenance_flag_ghi': {'note_general': ['222', '222']}, 'maintenance_flag_gti': {'note_general': ['222', '222']}, 'szen': {'serial': ['', '']}, 'sazi': {'serial': ['', '']}, 'esd': {'serial': ['', '']}, 'qc_flag_ghi': {'serial': ['S12128.001', 'test_ghi_ds3']}, 'qc_flag_gti': {'serial': ['S12137.049', 'test_gti_ds3']}}\n"
     ]
    }
   ],
   "source": [
    "#|dropout\n",
    "merged_gattrs = _merge_gattrs_by_station(dslist, merge_gattrs={\"site\":\"\"})\n",
    "print(merged_gattrs)\n",
    "_, merged_attrs = _merge_vattrs_by_station(dslist, merge_attrs={\"serial\":\"\", \"note_general\":\"\"})\n",
    "print(merged_attrs)"
   ],
   "metadata": {
    "collapsed": false,
    "ExecuteTime": {
     "end_time": "2024-02-29T07:54:40.526946600Z",
     "start_time": "2024-02-29T07:54:40.479894900Z"
    }
   }
  },
  {
   "cell_type": "markdown",
   "source": [
    "### Dataset unification\n",
    "Reindex all kinds of dimension to unify datasets."
   ],
   "metadata": {
    "collapsed": false
   }
  },
  {
   "cell_type": "code",
   "execution_count": 46,
   "outputs": [],
   "source": [
    "#|export\n",
    "#|dropcode\n",
    "def _reindex_time(dslist, freq='1s', timevar='time'):\n",
    "    dates = []\n",
    "    for i in range(len(dslist)):\n",
    "        # reindex to full day\n",
    "        dates.append(dslist[i][timevar].values[0].astype(\"datetime64[D]\"))\n",
    "    udates = np.unique(dates)\n",
    "    \n",
    "    timeidx = pd.DatetimeIndex([])\n",
    "    for date in udates:\n",
    "        timeidx = timeidx.append(pd.date_range(\n",
    "            date,\n",
    "            date + np.timedelta64(1, 'D'),\n",
    "            freq=freq,\n",
    "            inclusive='left'\n",
    "        ))\n",
    "    \n",
    "    for i in range(len(dslist)):\n",
    "        dslist[i] = dslist[i].reindex(\n",
    "            {timevar:timeidx},\n",
    "            method='nearest',\n",
    "            tolerance=np.timedelta64(1, 'ms')\n",
    "        )\n",
    "    return dslist\n",
    "\n",
    "def _reindex_station(dslist):\n",
    "    stations = []\n",
    "    for i in range(len(dslist)):\n",
    "        # reindex to full day\n",
    "        stations += list(dslist[i].station.values)\n",
    "    ustations = np.unique(stations)\n",
    "    for i in range(len(dslist)):\n",
    "        dslist[i] = dslist[i].reindex(\n",
    "            {\"station\":ustations},\n",
    "            method='nearest',\n",
    "            tolerance=1e-6\n",
    "        )\n",
    "    return dslist\n",
    "\n",
    "def _reindex_maintenancetime(dslist):\n",
    "    mtimes = []\n",
    "    for i in range(len(dslist)):\n",
    "        # reindex to full day\n",
    "        mtimes += list(dslist[i].maintenancetime.values)\n",
    "    umtimes = np.unique(mtimes)\n",
    "    for i in range(len(dslist)):\n",
    "        dslist[i] = dslist[i].reindex(\n",
    "            {\"maintenancetime\":umtimes},\n",
    "            method='nearest',\n",
    "            tolerance=np.timedelta64(1, 'ms')\n",
    "        )\n",
    "    return dslist"
   ],
   "metadata": {
    "collapsed": false,
    "ExecuteTime": {
     "end_time": "2024-02-29T07:54:40.526946600Z",
     "start_time": "2024-02-29T07:54:40.494245Z"
    }
   }
  },
  {
   "cell_type": "markdown",
   "source": [
    "### Snap Maintenance time coordinate\n",
    "The Maintenancetime coordinate is given at report time, which is actually somewhere after the maintenance. Assuming the report takes place on same or next day, we snap the coordinate to matching data gaps of 10-120min. "
   ],
   "metadata": {
    "collapsed": false
   }
  },
  {
   "cell_type": "code",
   "execution_count": 47,
   "outputs": [],
   "source": [
    "#|export\n",
    "#|dropcode\n",
    "def _maintenancetime_snap_to_gap(ds):\n",
    "    old_mtimes = ds.maintenancetime.values\n",
    "    new_mtimes = old_mtimes.copy()\n",
    "    for i, mtime in enumerate(old_mtimes):\n",
    "        dtime = mtime.astype(\"datetime64[D]\") - ds.time.values[0].astype(\"datetime64[D]\")\n",
    "        # consider only same or next day maintenance times for snapping\n",
    "        if (dtime > np.timedelta64(1,\"D\") or\n",
    "            dtime < np.timedelta64(0,\"D\")):\n",
    "            continue\n",
    "        # lookup station\n",
    "        istation = np.argwhere(~np.isnan(\n",
    "            ds.maintenance_flag_ghi.values[i,:]\n",
    "        ))[0][0]\n",
    "        # identify gaps and gap length\n",
    "        igap = np.argwhere(np.isnan(\n",
    "            ds.ghi.isel(station=istation).values\n",
    "        )).ravel()\n",
    "        if len(igap)<10:\n",
    "            continue\n",
    "        digap = np.diff(igap)\n",
    "        istartgaps = np.insert(digap,0,0)!=1\n",
    "        iendgaps = np.insert(digap,-1,0)!=1\n",
    "        # checkout only gaps of certain length\n",
    "        gaptimes = []\n",
    "        gapidxs = []\n",
    "        for istart,iend in zip(igap[istartgaps],igap[iendgaps]):\n",
    "            gaptime = ds.time.values[iend] - ds.time.values[istart]\n",
    "            # assume maintenance takes at least 10 min and maximum 2h\n",
    "            if (np.timedelta64(10, \"m\") < gaptime < np.timedelta64(2, 'h')):\n",
    "                gapidxs.append(istart)\n",
    "                gaptimes.append(ds.time.values[istart])\n",
    "        if len(gaptimes)==0:\n",
    "            continue\n",
    "        # snap maintenance time to the closest matching gap\n",
    "        new_mtimes[i] = gaptimes[np.argmin([mtime-gtime for gtime in gaptimes])]\n",
    "    # update maintenancetime coordinate\n",
    "    ds = ds.assign_coords({\n",
    "        \"maintenancetime\": (\"maintenancetime\", new_mtimes)\n",
    "    })\n",
    "    ds = ds.sortby(\"maintenancetime\")\n",
    "    \n",
    "    # merge duplicates\n",
    "    dates, counts = np.unique(ds.maintenancetime.values,return_counts=True)\n",
    "    duplets = dates[counts>1]\n",
    "    if len(duplets)>0:\n",
    "        dsold = ds.copy()\n",
    "        ds = ds.drop_duplicates(dim='maintenancetime', keep='first')\n",
    "        for ddate in duplets:\n",
    "            dst = dsold.sel(maintenancetime=ddate)\n",
    "            vars = [var for var in dst if \"maintenancetime\" in  dst[var].dims]\n",
    "            for var in vars:\n",
    "                for i in range(dst.maintenancetime.size-1):\n",
    "                    mask = np.isnan(ds[var].sel(maintenancetime=ddate).values)\n",
    "                    ds[var].sel(maintenancetime=ddate).values[mask] = dst[var].isel(maintenancetime=i+1).values[mask]\n",
    "    \n",
    "    return ds"
   ],
   "metadata": {
    "collapsed": false,
    "ExecuteTime": {
     "end_time": "2024-02-29T07:54:40.526946600Z",
     "start_time": "2024-02-29T07:54:40.508976500Z"
    }
   }
  },
  {
   "cell_type": "markdown",
   "source": [
    "### Merging processed datasets"
   ],
   "metadata": {
    "collapsed": false
   }
  },
  {
   "cell_type": "code",
   "execution_count": 48,
   "outputs": [],
   "source": [
    "#|export\n",
    "#|dropcode\n",
    "def merge_l1b(\n",
    "        dslist,\n",
    "        freq='1s',\n",
    "        timevar='time',\n",
    "        merge_gattrs={\"site\":\"\"},\n",
    "        merge_attrs={\n",
    "            \"calibration_Cabsolute\":0,\n",
    "            \"serial\":\"\",\n",
    "            \"vangle\":0,\n",
    "            \"hangle\":0,\n",
    "            \"note_general\":\"\",\n",
    "            \"note_clean\":\"\",\n",
    "            \"note_level\":\"\"\n",
    "        }\n",
    "):\n",
    "    # sort by first station coordinate\n",
    "    dslist = _sort_by_station(dslist)\n",
    "    \n",
    "    ################################################################\n",
    "    ## Merge Attributes\n",
    "    # have to merge attributes before reindexing, \n",
    "    # as attributes are tied the specific stations in the current datasets\n",
    "    merged_gattrs = _merge_gattrs_by_station(dslist, merge_gattrs=merge_gattrs)\n",
    "    dslist, merged_attrs = _merge_vattrs_by_station(dslist, merge_attrs=merge_attrs)\n",
    "    \n",
    "    #####################################################################\n",
    "    ## Unify datasets\n",
    "    # reindex timevar:\n",
    "    dslist = _reindex_time(dslist, freq=freq, timevar=timevar)\n",
    "    # reindex station var:\n",
    "    dslist = _reindex_station(dslist)\n",
    "    # reindex maintenancetime var:\n",
    "    dslist = _reindex_maintenancetime(dslist)\n",
    "    \n",
    "    #####################################################################\n",
    "    ## Merge datasets\n",
    "    # merge vars with (time,station) dims\n",
    "    for i in range(len(dslist)):\n",
    "        dst = dslist[i].copy()\n",
    "        dst = dst.drop_vars(\n",
    "            [var for var in dst if not (timevar in dst[var].dims and \"station\" in dst[var].dims)]\n",
    "        )\n",
    "        if i==0:\n",
    "            ds_time_station = dst.copy()\n",
    "        else:\n",
    "            # handle overlapping values by dropping from the first (override from second)\n",
    "            for var in dst:\n",
    "                overlap = (~np.isnan(dst[var].values))*(~np.isnan(dst[var].values))\n",
    "                ds_time_station[var].values = ds_time_station[var].values.astype(float)\n",
    "                ds_time_station[var].values[overlap] = np.nan\n",
    "            ds_time_station = ds_time_station.merge(dst)\n",
    "            \n",
    "    # merge vars with (maintenancetime, station) dims\n",
    "    for i in range(len(dslist)):\n",
    "        dst = dslist[i].copy()\n",
    "        dst = dst.drop_vars(\n",
    "            [var for var in dst if not (\"maintenancetime\" in dst[var].dims and \"station\" in dst[var].dims)]\n",
    "        )\n",
    "        if i==0:\n",
    "            ds_mtime_station = dst.copy()\n",
    "        else:\n",
    "            for var in dst:\n",
    "                overlap = (~np.isnan(dst[var].values))*(~np.isnan(dst[var].values))\n",
    "                ds_mtime_station[var].values = ds_mtime_station[var].values.astype(float)\n",
    "                ds_mtime_station[var].values[overlap] = np.nan\n",
    "            ds_mtime_station = ds_mtime_station.merge(dst)\n",
    "    \n",
    "    # merge vars with (time,station) dims\n",
    "    for i in range(len(dslist)):\n",
    "        dst = dslist[i].copy()\n",
    "        dst = dst.drop_vars(\n",
    "            [var for var in dst if not (len(dst[var].dims)==1 and \"station\" in dst[var].dims)]\n",
    "        )\n",
    "        if i==0:\n",
    "            ds_station = dst.copy()\n",
    "        else:\n",
    "            try:\n",
    "                # works there is no overlap with non null values ( new stations )\n",
    "                ds_station = ds_station.merge(dst, compat='no_conflicts')\n",
    "            except:\n",
    "                # override if station already exists\n",
    "                ds_station = ds_station.merge(dst, compat='override')\n",
    "            #ds_station = xr.concat((ds_station, dst), dim='station')\n",
    "    \n",
    "    ds_merged = xr.merge([ds_time_station,ds_station,ds_mtime_station])\n",
    "    \n",
    "    ###########################################################################\n",
    "    ## add merged attrs\n",
    "    # write new history\n",
    "    now = pd.to_datetime(np.datetime64(\"now\"))\n",
    "    ds_merged.attrs[\"history\"] = f\"{now.isoformat()}: Merged level l1b by pyrnet version {pyrnet_version}; \"\n",
    "    \n",
    "    # save merged global attrs\n",
    "    for attr in ds_merged.attrs:\n",
    "        if attr not in merge_gattrs:\n",
    "            continue\n",
    "        ds_merged.attrs[attr] = merged_gattrs[attr]\n",
    "    \n",
    "    # save merged variable attrs\n",
    "    for var in ds_merged:\n",
    "        for attr in ds_merged[var].attrs:\n",
    "            if attr not in merge_attrs:\n",
    "                continue\n",
    "            ds_merged[var].attrs[attr] = merged_attrs[var][attr]\n",
    "  \n",
    "    #############################################################################\n",
    "    ## maintenance time snap to data gap\n",
    "    # check maintenance time per station\n",
    "    # if its in time range, scan for gaps >10min and snap closest maintenance time to this gaps\n",
    "    ds_merged = _maintenancetime_snap_to_gap(ds_merged)\n",
    "    \n",
    "    # update automatic quality flags\n",
    "    ds_merged = pyrnet.qcrad.add_qc_flags(ds_merged, [\"ghi\",\"gti\"])\n",
    "    # add encoding\n",
    "    ds_merged = add_encoding(ds_merged)\n",
    "    return ds_merged\n"
   ],
   "metadata": {
    "collapsed": false,
    "ExecuteTime": {
     "end_time": "2024-02-29T07:54:40.598133Z",
     "start_time": "2024-02-29T07:54:40.523941700Z"
    }
   }
  },
  {
   "cell_type": "markdown",
   "source": [
    "### Test merging"
   ],
   "metadata": {
    "collapsed": false
   }
  },
  {
   "cell_type": "code",
   "execution_count": 49,
   "outputs": [
    {
     "data": {
      "text/plain": "<xarray.Dataset>\nDimensions:               (station: 1, time: 9, maintenancetime: 1)\nCoordinates:\n  * station               (station) float64 1.0\n  * time                  (time) datetime64[ns] 2022-08-30T11:21:01 ... 2022-...\n  * maintenancetime       (maintenancetime) datetime64[ns] 2023-05-08T16:09:06\nData variables: (12/20)\n    ghi                   (time, station) float64 280.9 280.9 ... 280.9 280.9\n    gti                   (time, station) float64 289.0 289.0 ... 288.6 289.0\n    ta                    (time, station) float64 294.8 294.7 ... 294.7 294.8\n    rh                    (time, station) float64 0.6253 0.6248 ... 0.628 0.6253\n    battery_voltage       (time, station) float64 6.443 6.445 ... 6.449 6.443\n    ghi_min               (time, station) float64 280.9 280.9 ... 280.9 280.9\n    ...                    ...\n    qc_flag_gti           (time, station) uint8 0 0 0 0 0 0 0 0 0\n    lat                   (station) float64 51.39\n    lon                   (station) float64 11.89\n    esd                   (station) float64 1.01\n    maintenance_flag_ghi  (maintenancetime, station) float64 9.0\n    maintenance_flag_gti  (maintenancetime, station) float64 7.0\nAttributes: (12/32)\n    Conventions:               CF-1.10, ACDD-1.3\n    title:                     TROPOS pyranometer network (PyrNet) observatio...\n    history:                   2024-02-29T07:54:41: Merged level l1b by pyrne...\n    institution:               Leibniz Institute for Tropospheric Research (T...\n    source:                    TROPOS pyranometer network (PyrNet)\n    references:                https://doi.org/10.5194/amt-9-1153-2016\n    ...                        ...\n    geospatial_lon_units:      degE\n    time_coverage_start:       2022-08-30T11:21:01\n    time_coverage_end:         2022-08-30T11:21:09\n    time_coverage_duration:    P0DT0H0M8S\n    time_coverage_resolution:  P0DT0H0M1S\n    site:                      ['testsite1', 'testsite2']",
      "text/html": "<div><svg style=\"position: absolute; width: 0; height: 0; overflow: hidden\">\n<defs>\n<symbol id=\"icon-database\" viewBox=\"0 0 32 32\">\n<path d=\"M16 0c-8.837 0-16 2.239-16 5v4c0 2.761 7.163 5 16 5s16-2.239 16-5v-4c0-2.761-7.163-5-16-5z\"></path>\n<path d=\"M16 17c-8.837 0-16-2.239-16-5v6c0 2.761 7.163 5 16 5s16-2.239 16-5v-6c0 2.761-7.163 5-16 5z\"></path>\n<path d=\"M16 26c-8.837 0-16-2.239-16-5v6c0 2.761 7.163 5 16 5s16-2.239 16-5v-6c0 2.761-7.163 5-16 5z\"></path>\n</symbol>\n<symbol id=\"icon-file-text2\" viewBox=\"0 0 32 32\">\n<path d=\"M28.681 7.159c-0.694-0.947-1.662-2.053-2.724-3.116s-2.169-2.030-3.116-2.724c-1.612-1.182-2.393-1.319-2.841-1.319h-15.5c-1.378 0-2.5 1.121-2.5 2.5v27c0 1.378 1.122 2.5 2.5 2.5h23c1.378 0 2.5-1.122 2.5-2.5v-19.5c0-0.448-0.137-1.23-1.319-2.841zM24.543 5.457c0.959 0.959 1.712 1.825 2.268 2.543h-4.811v-4.811c0.718 0.556 1.584 1.309 2.543 2.268zM28 29.5c0 0.271-0.229 0.5-0.5 0.5h-23c-0.271 0-0.5-0.229-0.5-0.5v-27c0-0.271 0.229-0.5 0.5-0.5 0 0 15.499-0 15.5 0v7c0 0.552 0.448 1 1 1h7v19.5z\"></path>\n<path d=\"M23 26h-14c-0.552 0-1-0.448-1-1s0.448-1 1-1h14c0.552 0 1 0.448 1 1s-0.448 1-1 1z\"></path>\n<path d=\"M23 22h-14c-0.552 0-1-0.448-1-1s0.448-1 1-1h14c0.552 0 1 0.448 1 1s-0.448 1-1 1z\"></path>\n<path d=\"M23 18h-14c-0.552 0-1-0.448-1-1s0.448-1 1-1h14c0.552 0 1 0.448 1 1s-0.448 1-1 1z\"></path>\n</symbol>\n</defs>\n</svg>\n<style>/* CSS stylesheet for displaying xarray objects in jupyterlab.\n *\n */\n\n:root {\n  --xr-font-color0: var(--jp-content-font-color0, rgba(0, 0, 0, 1));\n  --xr-font-color2: var(--jp-content-font-color2, rgba(0, 0, 0, 0.54));\n  --xr-font-color3: var(--jp-content-font-color3, rgba(0, 0, 0, 0.38));\n  --xr-border-color: var(--jp-border-color2, #e0e0e0);\n  --xr-disabled-color: var(--jp-layout-color3, #bdbdbd);\n  --xr-background-color: var(--jp-layout-color0, white);\n  --xr-background-color-row-even: var(--jp-layout-color1, white);\n  --xr-background-color-row-odd: var(--jp-layout-color2, #eeeeee);\n}\n\nhtml[theme=dark],\nbody[data-theme=dark],\nbody.vscode-dark {\n  --xr-font-color0: rgba(255, 255, 255, 1);\n  --xr-font-color2: rgba(255, 255, 255, 0.54);\n  --xr-font-color3: rgba(255, 255, 255, 0.38);\n  --xr-border-color: #1F1F1F;\n  --xr-disabled-color: #515151;\n  --xr-background-color: #111111;\n  --xr-background-color-row-even: #111111;\n  --xr-background-color-row-odd: #313131;\n}\n\n.xr-wrap {\n  display: block !important;\n  min-width: 300px;\n  max-width: 700px;\n}\n\n.xr-text-repr-fallback {\n  /* fallback to plain text repr when CSS is not injected (untrusted notebook) */\n  display: none;\n}\n\n.xr-header {\n  padding-top: 6px;\n  padding-bottom: 6px;\n  margin-bottom: 4px;\n  border-bottom: solid 1px var(--xr-border-color);\n}\n\n.xr-header > div,\n.xr-header > ul {\n  display: inline;\n  margin-top: 0;\n  margin-bottom: 0;\n}\n\n.xr-obj-type,\n.xr-array-name {\n  margin-left: 2px;\n  margin-right: 10px;\n}\n\n.xr-obj-type {\n  color: var(--xr-font-color2);\n}\n\n.xr-sections {\n  padding-left: 0 !important;\n  display: grid;\n  grid-template-columns: 150px auto auto 1fr 20px 20px;\n}\n\n.xr-section-item {\n  display: contents;\n}\n\n.xr-section-item input {\n  display: none;\n}\n\n.xr-section-item input + label {\n  color: var(--xr-disabled-color);\n}\n\n.xr-section-item input:enabled + label {\n  cursor: pointer;\n  color: var(--xr-font-color2);\n}\n\n.xr-section-item input:enabled + label:hover {\n  color: var(--xr-font-color0);\n}\n\n.xr-section-summary {\n  grid-column: 1;\n  color: var(--xr-font-color2);\n  font-weight: 500;\n}\n\n.xr-section-summary > span {\n  display: inline-block;\n  padding-left: 0.5em;\n}\n\n.xr-section-summary-in:disabled + label {\n  color: var(--xr-font-color2);\n}\n\n.xr-section-summary-in + label:before {\n  display: inline-block;\n  content: '►';\n  font-size: 11px;\n  width: 15px;\n  text-align: center;\n}\n\n.xr-section-summary-in:disabled + label:before {\n  color: var(--xr-disabled-color);\n}\n\n.xr-section-summary-in:checked + label:before {\n  content: '▼';\n}\n\n.xr-section-summary-in:checked + label > span {\n  display: none;\n}\n\n.xr-section-summary,\n.xr-section-inline-details {\n  padding-top: 4px;\n  padding-bottom: 4px;\n}\n\n.xr-section-inline-details {\n  grid-column: 2 / -1;\n}\n\n.xr-section-details {\n  display: none;\n  grid-column: 1 / -1;\n  margin-bottom: 5px;\n}\n\n.xr-section-summary-in:checked ~ .xr-section-details {\n  display: contents;\n}\n\n.xr-array-wrap {\n  grid-column: 1 / -1;\n  display: grid;\n  grid-template-columns: 20px auto;\n}\n\n.xr-array-wrap > label {\n  grid-column: 1;\n  vertical-align: top;\n}\n\n.xr-preview {\n  color: var(--xr-font-color3);\n}\n\n.xr-array-preview,\n.xr-array-data {\n  padding: 0 5px !important;\n  grid-column: 2;\n}\n\n.xr-array-data,\n.xr-array-in:checked ~ .xr-array-preview {\n  display: none;\n}\n\n.xr-array-in:checked ~ .xr-array-data,\n.xr-array-preview {\n  display: inline-block;\n}\n\n.xr-dim-list {\n  display: inline-block !important;\n  list-style: none;\n  padding: 0 !important;\n  margin: 0;\n}\n\n.xr-dim-list li {\n  display: inline-block;\n  padding: 0;\n  margin: 0;\n}\n\n.xr-dim-list:before {\n  content: '(';\n}\n\n.xr-dim-list:after {\n  content: ')';\n}\n\n.xr-dim-list li:not(:last-child):after {\n  content: ',';\n  padding-right: 5px;\n}\n\n.xr-has-index {\n  font-weight: bold;\n}\n\n.xr-var-list,\n.xr-var-item {\n  display: contents;\n}\n\n.xr-var-item > div,\n.xr-var-item label,\n.xr-var-item > .xr-var-name span {\n  background-color: var(--xr-background-color-row-even);\n  margin-bottom: 0;\n}\n\n.xr-var-item > .xr-var-name:hover span {\n  padding-right: 5px;\n}\n\n.xr-var-list > li:nth-child(odd) > div,\n.xr-var-list > li:nth-child(odd) > label,\n.xr-var-list > li:nth-child(odd) > .xr-var-name span {\n  background-color: var(--xr-background-color-row-odd);\n}\n\n.xr-var-name {\n  grid-column: 1;\n}\n\n.xr-var-dims {\n  grid-column: 2;\n}\n\n.xr-var-dtype {\n  grid-column: 3;\n  text-align: right;\n  color: var(--xr-font-color2);\n}\n\n.xr-var-preview {\n  grid-column: 4;\n}\n\n.xr-index-preview {\n  grid-column: 2 / 5;\n  color: var(--xr-font-color2);\n}\n\n.xr-var-name,\n.xr-var-dims,\n.xr-var-dtype,\n.xr-preview,\n.xr-attrs dt {\n  white-space: nowrap;\n  overflow: hidden;\n  text-overflow: ellipsis;\n  padding-right: 10px;\n}\n\n.xr-var-name:hover,\n.xr-var-dims:hover,\n.xr-var-dtype:hover,\n.xr-attrs dt:hover {\n  overflow: visible;\n  width: auto;\n  z-index: 1;\n}\n\n.xr-var-attrs,\n.xr-var-data,\n.xr-index-data {\n  display: none;\n  background-color: var(--xr-background-color) !important;\n  padding-bottom: 5px !important;\n}\n\n.xr-var-attrs-in:checked ~ .xr-var-attrs,\n.xr-var-data-in:checked ~ .xr-var-data,\n.xr-index-data-in:checked ~ .xr-index-data {\n  display: block;\n}\n\n.xr-var-data > table {\n  float: right;\n}\n\n.xr-var-name span,\n.xr-var-data,\n.xr-index-name div,\n.xr-index-data,\n.xr-attrs {\n  padding-left: 25px !important;\n}\n\n.xr-attrs,\n.xr-var-attrs,\n.xr-var-data,\n.xr-index-data {\n  grid-column: 1 / -1;\n}\n\ndl.xr-attrs {\n  padding: 0;\n  margin: 0;\n  display: grid;\n  grid-template-columns: 125px auto;\n}\n\n.xr-attrs dt,\n.xr-attrs dd {\n  padding: 0;\n  margin: 0;\n  float: left;\n  padding-right: 10px;\n  width: auto;\n}\n\n.xr-attrs dt {\n  font-weight: normal;\n  grid-column: 1;\n}\n\n.xr-attrs dt:hover span {\n  display: inline-block;\n  background: var(--xr-background-color);\n  padding-right: 10px;\n}\n\n.xr-attrs dd {\n  grid-column: 2;\n  white-space: pre-wrap;\n  word-break: break-all;\n}\n\n.xr-icon-database,\n.xr-icon-file-text2,\n.xr-no-icon {\n  display: inline-block;\n  vertical-align: middle;\n  width: 1em;\n  height: 1.5em !important;\n  stroke-width: 0;\n  stroke: currentColor;\n  fill: currentColor;\n}\n</style><pre class='xr-text-repr-fallback'>&lt;xarray.Dataset&gt;\nDimensions:               (station: 1, time: 9, maintenancetime: 1)\nCoordinates:\n  * station               (station) float64 1.0\n  * time                  (time) datetime64[ns] 2022-08-30T11:21:01 ... 2022-...\n  * maintenancetime       (maintenancetime) datetime64[ns] 2023-05-08T16:09:06\nData variables: (12/20)\n    ghi                   (time, station) float64 280.9 280.9 ... 280.9 280.9\n    gti                   (time, station) float64 289.0 289.0 ... 288.6 289.0\n    ta                    (time, station) float64 294.8 294.7 ... 294.7 294.8\n    rh                    (time, station) float64 0.6253 0.6248 ... 0.628 0.6253\n    battery_voltage       (time, station) float64 6.443 6.445 ... 6.449 6.443\n    ghi_min               (time, station) float64 280.9 280.9 ... 280.9 280.9\n    ...                    ...\n    qc_flag_gti           (time, station) uint8 0 0 0 0 0 0 0 0 0\n    lat                   (station) float64 51.39\n    lon                   (station) float64 11.89\n    esd                   (station) float64 1.01\n    maintenance_flag_ghi  (maintenancetime, station) float64 9.0\n    maintenance_flag_gti  (maintenancetime, station) float64 7.0\nAttributes: (12/32)\n    Conventions:               CF-1.10, ACDD-1.3\n    title:                     TROPOS pyranometer network (PyrNet) observatio...\n    history:                   2024-02-29T07:54:41: Merged level l1b by pyrne...\n    institution:               Leibniz Institute for Tropospheric Research (T...\n    source:                    TROPOS pyranometer network (PyrNet)\n    references:                https://doi.org/10.5194/amt-9-1153-2016\n    ...                        ...\n    geospatial_lon_units:      degE\n    time_coverage_start:       2022-08-30T11:21:01\n    time_coverage_end:         2022-08-30T11:21:09\n    time_coverage_duration:    P0DT0H0M8S\n    time_coverage_resolution:  P0DT0H0M1S\n    site:                      [&#x27;testsite1&#x27;, &#x27;testsite2&#x27;]</pre><div class='xr-wrap' style='display:none'><div class='xr-header'><div class='xr-obj-type'>xarray.Dataset</div></div><ul class='xr-sections'><li class='xr-section-item'><input id='section-065dd1f5-c645-427b-b2d8-614f1391641b' class='xr-section-summary-in' type='checkbox' disabled ><label for='section-065dd1f5-c645-427b-b2d8-614f1391641b' class='xr-section-summary'  title='Expand/collapse section'>Dimensions:</label><div class='xr-section-inline-details'><ul class='xr-dim-list'><li><span class='xr-has-index'>station</span>: 1</li><li><span class='xr-has-index'>time</span>: 9</li><li><span class='xr-has-index'>maintenancetime</span>: 1</li></ul></div><div class='xr-section-details'></div></li><li class='xr-section-item'><input id='section-86028d1f-8363-43c7-8140-0e31a93457be' class='xr-section-summary-in' type='checkbox'  checked><label for='section-86028d1f-8363-43c7-8140-0e31a93457be' class='xr-section-summary' >Coordinates: <span>(3)</span></label><div class='xr-section-inline-details'></div><div class='xr-section-details'><ul class='xr-var-list'><li class='xr-var-item'><div class='xr-var-name'><span class='xr-has-index'>station</span></div><div class='xr-var-dims'>(station)</div><div class='xr-var-dtype'>float64</div><div class='xr-var-preview xr-preview'>1.0</div><input id='attrs-4ab9a091-b5c6-4373-88ee-885cb7444399' class='xr-var-attrs-in' type='checkbox' ><label for='attrs-4ab9a091-b5c6-4373-88ee-885cb7444399' title='Show/Hide attributes'><svg class='icon xr-icon-file-text2'><use xlink:href='#icon-file-text2'></use></svg></label><input id='data-d43f6791-6056-467f-90dd-7d415ed4f688' class='xr-var-data-in' type='checkbox'><label for='data-d43f6791-6056-467f-90dd-7d415ed4f688' title='Show/Hide data repr'><svg class='icon xr-icon-database'><use xlink:href='#icon-database'></use></svg></label><div class='xr-var-attrs'><dl class='xr-attrs'><dt><span>units :</span></dt><dd>-</dd><dt><span>long_name :</span></dt><dd>PyrNet unit box number</dd></dl></div><div class='xr-var-data'><pre>array([1.])</pre></div></li><li class='xr-var-item'><div class='xr-var-name'><span class='xr-has-index'>time</span></div><div class='xr-var-dims'>(time)</div><div class='xr-var-dtype'>datetime64[ns]</div><div class='xr-var-preview xr-preview'>2022-08-30T11:21:01 ... 2022-08-...</div><input id='attrs-0810f8e0-19f3-4aa4-9008-fc66ea0774ea' class='xr-var-attrs-in' type='checkbox' disabled><label for='attrs-0810f8e0-19f3-4aa4-9008-fc66ea0774ea' title='Show/Hide attributes'><svg class='icon xr-icon-file-text2'><use xlink:href='#icon-file-text2'></use></svg></label><input id='data-00cf1f2d-9109-445a-82d5-c530d14b2479' class='xr-var-data-in' type='checkbox'><label for='data-00cf1f2d-9109-445a-82d5-c530d14b2479' title='Show/Hide data repr'><svg class='icon xr-icon-database'><use xlink:href='#icon-database'></use></svg></label><div class='xr-var-attrs'><dl class='xr-attrs'></dl></div><div class='xr-var-data'><pre>array([&#x27;2022-08-30T11:21:01.000000000&#x27;, &#x27;2022-08-30T11:21:02.000000000&#x27;,\n       &#x27;2022-08-30T11:21:03.000000000&#x27;, &#x27;2022-08-30T11:21:04.000000000&#x27;,\n       &#x27;2022-08-30T11:21:05.000000000&#x27;, &#x27;2022-08-30T11:21:06.000000000&#x27;,\n       &#x27;2022-08-30T11:21:07.000000000&#x27;, &#x27;2022-08-30T11:21:08.000000000&#x27;,\n       &#x27;2022-08-30T11:21:09.000000000&#x27;], dtype=&#x27;datetime64[ns]&#x27;)</pre></div></li><li class='xr-var-item'><div class='xr-var-name'><span class='xr-has-index'>maintenancetime</span></div><div class='xr-var-dims'>(maintenancetime)</div><div class='xr-var-dtype'>datetime64[ns]</div><div class='xr-var-preview xr-preview'>2023-05-08T16:09:06</div><input id='attrs-63af2f0f-8851-4688-b2f4-2d4afca72989' class='xr-var-attrs-in' type='checkbox' disabled><label for='attrs-63af2f0f-8851-4688-b2f4-2d4afca72989' title='Show/Hide attributes'><svg class='icon xr-icon-file-text2'><use xlink:href='#icon-file-text2'></use></svg></label><input id='data-71524429-2b5a-40b3-8b9f-2e4c28fb554b' class='xr-var-data-in' type='checkbox'><label for='data-71524429-2b5a-40b3-8b9f-2e4c28fb554b' title='Show/Hide data repr'><svg class='icon xr-icon-database'><use xlink:href='#icon-database'></use></svg></label><div class='xr-var-attrs'><dl class='xr-attrs'></dl></div><div class='xr-var-data'><pre>array([&#x27;2023-05-08T16:09:06.000000000&#x27;], dtype=&#x27;datetime64[ns]&#x27;)</pre></div></li></ul></div></li><li class='xr-section-item'><input id='section-d883017c-b49b-4098-b315-72f11afd8338' class='xr-section-summary-in' type='checkbox'  ><label for='section-d883017c-b49b-4098-b315-72f11afd8338' class='xr-section-summary' >Data variables: <span>(20)</span></label><div class='xr-section-inline-details'></div><div class='xr-section-details'><ul class='xr-var-list'><li class='xr-var-item'><div class='xr-var-name'><span>ghi</span></div><div class='xr-var-dims'>(time, station)</div><div class='xr-var-dtype'>float64</div><div class='xr-var-preview xr-preview'>280.9 280.9 280.9 ... 280.9 280.9</div><input id='attrs-31070c3b-9c86-4a44-aa7a-25416edda296' class='xr-var-attrs-in' type='checkbox' ><label for='attrs-31070c3b-9c86-4a44-aa7a-25416edda296' title='Show/Hide attributes'><svg class='icon xr-icon-file-text2'><use xlink:href='#icon-file-text2'></use></svg></label><input id='data-fbc24b95-970a-4367-8b77-aceb7b3b9d21' class='xr-var-data-in' type='checkbox'><label for='data-fbc24b95-970a-4367-8b77-aceb7b3b9d21' title='Show/Hide data repr'><svg class='icon xr-icon-database'><use xlink:href='#icon-database'></use></svg></label><div class='xr-var-attrs'><dl class='xr-attrs'><dt><span>units :</span></dt><dd>W m-2</dd><dt><span>long_name :</span></dt><dd>downwelling shortwave flux</dd><dt><span>standard_name :</span></dt><dd>downwelling_shortwave_flux_in_air</dd><dt><span>valid_range :</span></dt><dd>[0, 60000]</dd><dt><span>serial :</span></dt><dd>[&#x27;S12128.001&#x27;, &#x27;test_ghi_ds3&#x27;]</dd><dt><span>calibration_Cabsolute :</span></dt><dd>[129366.10608020698, 129366.10608020698]</dd><dt><span>calibration_Ccoscorr :</span></dt><dd>1.45 - 3.04·x¹ + 5.59·x² - 3.01·x³</dd><dt><span>calibration_function :</span></dt><dd>flux (W m-2) = flux (V) * Cabsolute (W m-2 V-1) * Ccoscorr(mua)</dd><dt><span>vangle :</span></dt><dd>[0, 0]</dd><dt><span>hangle :</span></dt><dd>[0, 0]</dd></dl></div><div class='xr-var-data'><pre>array([[280.90513748],\n       [280.90501036],\n       [280.90488297],\n       [280.75996672],\n       [280.90462742],\n       [280.90449925],\n       [280.75958242],\n       [280.90424214],\n       [280.90513748]])</pre></div></li><li class='xr-var-item'><div class='xr-var-name'><span>gti</span></div><div class='xr-var-dims'>(time, station)</div><div class='xr-var-dtype'>float64</div><div class='xr-var-preview xr-preview'>289.0 289.0 288.6 ... 288.6 289.0</div><input id='attrs-3c4c3bb3-fe15-465e-8624-4b0beae8c562' class='xr-var-attrs-in' type='checkbox' ><label for='attrs-3c4c3bb3-fe15-465e-8624-4b0beae8c562' title='Show/Hide attributes'><svg class='icon xr-icon-file-text2'><use xlink:href='#icon-file-text2'></use></svg></label><input id='data-65622cde-7173-46fe-ad10-84f9bd32ae2d' class='xr-var-data-in' type='checkbox'><label for='data-65622cde-7173-46fe-ad10-84f9bd32ae2d' title='Show/Hide data repr'><svg class='icon xr-icon-database'><use xlink:href='#icon-database'></use></svg></label><div class='xr-var-attrs'><dl class='xr-attrs'><dt><span>units :</span></dt><dd>W m-2</dd><dt><span>long_name :</span></dt><dd>downwelling shortwave flux measured on secondary platform, might be tilted</dd><dt><span>standard_name :</span></dt><dd>downwelling_shortwave_flux_in_air</dd><dt><span>valid_range :</span></dt><dd>[0, 60000]</dd><dt><span>hangle :</span></dt><dd>[0.0, 0.0]</dd><dt><span>vangle :</span></dt><dd>[0.0, 0.0]</dd><dt><span>serial :</span></dt><dd>[&#x27;S12137.049&#x27;, &#x27;test_gti_ds3&#x27;]</dd><dt><span>calibration_Cabsolute :</span></dt><dd>[143266.47564469912, 143266.47564469912]</dd><dt><span>calibration_Ccoscorr :</span></dt><dd>1.45 - 3.04·x¹ + 5.59·x² - 3.01·x³</dd><dt><span>calibration_function :</span></dt><dd>flux (W m-2) = flux (V) * Cabsolute (W m-2 V-1) * Ccoscorr(mua)</dd></dl></div><div class='xr-var-data'><pre>array([[288.95941377],\n       [288.959283  ],\n       [288.63842485],\n       [288.63829369],\n       [288.79852567],\n       [288.63803057],\n       [288.31717208],\n       [288.63776637],\n       [288.95941377]])</pre></div></li><li class='xr-var-item'><div class='xr-var-name'><span>ta</span></div><div class='xr-var-dims'>(time, station)</div><div class='xr-var-dtype'>float64</div><div class='xr-var-preview xr-preview'>294.8 294.7 294.8 ... 294.7 294.8</div><input id='attrs-5d3383a8-8129-41f6-9ac9-456ac960ca78' class='xr-var-attrs-in' type='checkbox' ><label for='attrs-5d3383a8-8129-41f6-9ac9-456ac960ca78' title='Show/Hide attributes'><svg class='icon xr-icon-file-text2'><use xlink:href='#icon-file-text2'></use></svg></label><input id='data-3aa89e4c-336b-40f7-aae5-02c08526b41a' class='xr-var-data-in' type='checkbox'><label for='data-3aa89e4c-336b-40f7-aae5-02c08526b41a' title='Show/Hide data repr'><svg class='icon xr-icon-database'><use xlink:href='#icon-database'></use></svg></label><div class='xr-var-attrs'><dl class='xr-attrs'><dt><span>units :</span></dt><dd>K</dd><dt><span>long_name :</span></dt><dd>air temperature</dd><dt><span>standard_name :</span></dt><dd>air_temperature</dd><dt><span>valid_range :</span></dt><dd>[0, 10000]</dd><dt><span>serial :</span></dt><dd>[&#x27;&#x27;, &#x27;&#x27;]</dd><dt><span>calibration_Cabsolute :</span></dt><dd>[0, 0]</dd><dt><span>vangle :</span></dt><dd>[0, 0]</dd><dt><span>hangle :</span></dt><dd>[0, 0]</dd></dl></div><div class='xr-var-data'><pre>array([[294.80160522],\n       [294.73709106],\n       [294.77008057],\n       [294.74996948],\n       [294.78869629],\n       [294.74996948],\n       [294.81451416],\n       [294.72705078],\n       [294.80160522]])</pre></div></li><li class='xr-var-item'><div class='xr-var-name'><span>rh</span></div><div class='xr-var-dims'>(time, station)</div><div class='xr-var-dtype'>float64</div><div class='xr-var-preview xr-preview'>0.6253 0.6248 ... 0.628 0.6253</div><input id='attrs-896e72bb-0a3e-492d-bfa6-66e22509d2a7' class='xr-var-attrs-in' type='checkbox' ><label for='attrs-896e72bb-0a3e-492d-bfa6-66e22509d2a7' title='Show/Hide attributes'><svg class='icon xr-icon-file-text2'><use xlink:href='#icon-file-text2'></use></svg></label><input id='data-d0143f27-7bfc-43b7-9ee6-44d0158ef215' class='xr-var-data-in' type='checkbox'><label for='data-d0143f27-7bfc-43b7-9ee6-44d0158ef215' title='Show/Hide data repr'><svg class='icon xr-icon-database'><use xlink:href='#icon-database'></use></svg></label><div class='xr-var-attrs'><dl class='xr-attrs'><dt><span>units :</span></dt><dd>1</dd><dt><span>long_name :</span></dt><dd>air relative humidity</dd><dt><span>standard_name :</span></dt><dd>relative_humidity</dd><dt><span>valid_range :</span></dt><dd>[0, 10000]</dd><dt><span>serial :</span></dt><dd>[&#x27;&#x27;, &#x27;&#x27;]</dd><dt><span>calibration_Cabsolute :</span></dt><dd>[0, 0]</dd><dt><span>vangle :</span></dt><dd>[0, 0]</dd><dt><span>hangle :</span></dt><dd>[0, 0]</dd></dl></div><div class='xr-var-data'><pre>array([[0.62529027],\n       [0.62477416],\n       [0.6259498 ],\n       [0.6265806 ],\n       [0.62709677],\n       [0.62709677],\n       [0.62864512],\n       [0.62795699],\n       [0.62529027]])</pre></div></li><li class='xr-var-item'><div class='xr-var-name'><span>battery_voltage</span></div><div class='xr-var-dims'>(time, station)</div><div class='xr-var-dtype'>float64</div><div class='xr-var-preview xr-preview'>6.443 6.445 6.444 ... 6.449 6.443</div><input id='attrs-4924d33b-bb65-4710-a08a-4301c0c4b0ff' class='xr-var-attrs-in' type='checkbox' ><label for='attrs-4924d33b-bb65-4710-a08a-4301c0c4b0ff' title='Show/Hide attributes'><svg class='icon xr-icon-file-text2'><use xlink:href='#icon-file-text2'></use></svg></label><input id='data-2f034cb1-35bc-40f6-a9a6-165dc6e08303' class='xr-var-data-in' type='checkbox'><label for='data-2f034cb1-35bc-40f6-a9a6-165dc6e08303' title='Show/Hide data repr'><svg class='icon xr-icon-database'><use xlink:href='#icon-database'></use></svg></label><div class='xr-var-attrs'><dl class='xr-attrs'><dt><span>units :</span></dt><dd>V</dd><dt><span>standard_name :</span></dt><dd>battery_voltage</dd><dt><span>valid_range :</span></dt><dd>[0, 6400]</dd><dt><span>serial :</span></dt><dd>[&#x27;&#x27;, &#x27;&#x27;]</dd><dt><span>calibration_Cabsolute :</span></dt><dd>[0, 0]</dd><dt><span>vangle :</span></dt><dd>[0, 0]</dd><dt><span>hangle :</span></dt><dd>[0, 0]</dd></dl></div><div class='xr-var-data'><pre>array([[6.44258022],\n       [6.44516134],\n       [6.44372749],\n       [6.44580698],\n       [6.44967747],\n       [6.44774151],\n       [6.44645166],\n       [6.44946241],\n       [6.44258022]])</pre></div></li><li class='xr-var-item'><div class='xr-var-name'><span>ghi_min</span></div><div class='xr-var-dims'>(time, station)</div><div class='xr-var-dtype'>float64</div><div class='xr-var-preview xr-preview'>280.9 280.9 280.9 ... 280.9 280.9</div><input id='attrs-1a13dd49-c203-4fa1-818b-f2ee58fe9b46' class='xr-var-attrs-in' type='checkbox' ><label for='attrs-1a13dd49-c203-4fa1-818b-f2ee58fe9b46' title='Show/Hide attributes'><svg class='icon xr-icon-file-text2'><use xlink:href='#icon-file-text2'></use></svg></label><input id='data-ab7e3d66-5425-4dfa-91b0-6be62fb27901' class='xr-var-data-in' type='checkbox'><label for='data-ab7e3d66-5425-4dfa-91b0-6be62fb27901' title='Show/Hide data repr'><svg class='icon xr-icon-database'><use xlink:href='#icon-database'></use></svg></label><div class='xr-var-attrs'><dl class='xr-attrs'><dt><span>units :</span></dt><dd>W m-2</dd><dt><span>long_name :</span></dt><dd>downwelling shortwave flux</dd><dt><span>standard_name :</span></dt><dd>min_downwelling_shortwave_flux_in_air</dd><dt><span>valid_range :</span></dt><dd>[0, 60000]</dd><dt><span>serial :</span></dt><dd>[&#x27;S12128.001&#x27;, &#x27;test_ghi_ds3&#x27;]</dd><dt><span>calibration_Cabsolute :</span></dt><dd>[129366.10608020698, 129366.10608020698]</dd><dt><span>calibration_Ccoscorr :</span></dt><dd>1.45 - 3.04·x¹ + 5.59·x² - 3.01·x³</dd><dt><span>calibration_function :</span></dt><dd>flux (W m-2) = flux (V) * Cabsolute (W m-2 V-1) * Ccoscorr(mua)</dd><dt><span>vangle :</span></dt><dd>[0, 0]</dd><dt><span>hangle :</span></dt><dd>[0, 0]</dd></dl></div><div class='xr-var-data'><pre>array([[280.90513748],\n       [280.90501036],\n       [280.90488297],\n       [279.45680657],\n       [280.90462742],\n       [280.90449925],\n       [279.45642405],\n       [280.90424214],\n       [280.90513748]])</pre></div></li><li class='xr-var-item'><div class='xr-var-name'><span>gti_min</span></div><div class='xr-var-dims'>(time, station)</div><div class='xr-var-dtype'>float64</div><div class='xr-var-preview xr-preview'>288.6 288.6 288.6 ... 288.6 288.6</div><input id='attrs-223a233e-d882-45f2-b055-a673d9fd3da7' class='xr-var-attrs-in' type='checkbox' ><label for='attrs-223a233e-d882-45f2-b055-a673d9fd3da7' title='Show/Hide attributes'><svg class='icon xr-icon-file-text2'><use xlink:href='#icon-file-text2'></use></svg></label><input id='data-7016eed5-7d41-423f-90b9-53733e4e60c6' class='xr-var-data-in' type='checkbox'><label for='data-7016eed5-7d41-423f-90b9-53733e4e60c6' title='Show/Hide data repr'><svg class='icon xr-icon-database'><use xlink:href='#icon-database'></use></svg></label><div class='xr-var-attrs'><dl class='xr-attrs'><dt><span>units :</span></dt><dd>W m-2</dd><dt><span>long_name :</span></dt><dd>downwelling shortwave flux measured on secondary platform, might be tilted</dd><dt><span>standard_name :</span></dt><dd>min_downwelling_shortwave_flux_in_air</dd><dt><span>valid_range :</span></dt><dd>[0, 60000]</dd><dt><span>hangle :</span></dt><dd>[0.0, 0.0]</dd><dt><span>vangle :</span></dt><dd>[0.0, 0.0]</dd><dt><span>serial :</span></dt><dd>[&#x27;S12137.049&#x27;, &#x27;test_gti_ds3&#x27;]</dd><dt><span>calibration_Cabsolute :</span></dt><dd>[143266.47564469912, 143266.47564469912]</dd><dt><span>calibration_Ccoscorr :</span></dt><dd>1.45 - 3.04·x¹ + 5.59·x² - 3.01·x³</dd><dt><span>calibration_function :</span></dt><dd>flux (W m-2) = flux (V) * Cabsolute (W m-2 V-1) * Ccoscorr(mua)</dd></dl></div><div class='xr-var-data'><pre>array([[288.63868637],\n       [288.63855575],\n       [288.63842485],\n       [287.03474569],\n       [287.03461499],\n       [288.63803057],\n       [287.0343528 ],\n       [288.63776637],\n       [288.63868637]])</pre></div></li><li class='xr-var-item'><div class='xr-var-name'><span>ghi_max</span></div><div class='xr-var-dims'>(time, station)</div><div class='xr-var-dtype'>float64</div><div class='xr-var-preview xr-preview'>280.9 280.9 280.9 ... 280.9 280.9</div><input id='attrs-212f551d-5ae9-4319-a3cf-21a6754c3df7' class='xr-var-attrs-in' type='checkbox' ><label for='attrs-212f551d-5ae9-4319-a3cf-21a6754c3df7' title='Show/Hide attributes'><svg class='icon xr-icon-file-text2'><use xlink:href='#icon-file-text2'></use></svg></label><input id='data-7f04afe7-4eb0-4e4c-a0d5-de1cce159c91' class='xr-var-data-in' type='checkbox'><label for='data-7f04afe7-4eb0-4e4c-a0d5-de1cce159c91' title='Show/Hide data repr'><svg class='icon xr-icon-database'><use xlink:href='#icon-database'></use></svg></label><div class='xr-var-attrs'><dl class='xr-attrs'><dt><span>units :</span></dt><dd>W m-2</dd><dt><span>long_name :</span></dt><dd>downwelling shortwave flux</dd><dt><span>standard_name :</span></dt><dd>max_downwelling_shortwave_flux_in_air</dd><dt><span>valid_range :</span></dt><dd>[0, 60000]</dd><dt><span>serial :</span></dt><dd>[&#x27;S12128.001&#x27;, &#x27;test_ghi_ds3&#x27;]</dd><dt><span>calibration_Cabsolute :</span></dt><dd>[129366.10608020698, 129366.10608020698]</dd><dt><span>calibration_Ccoscorr :</span></dt><dd>1.45 - 3.04·x¹ + 5.59·x² - 3.01·x³</dd><dt><span>calibration_function :</span></dt><dd>flux (W m-2) = flux (V) * Cabsolute (W m-2 V-1) * Ccoscorr(mua)</dd><dt><span>vangle :</span></dt><dd>[0, 0]</dd><dt><span>hangle :</span></dt><dd>[0, 0]</dd></dl></div><div class='xr-var-data'><pre>array([[280.90513748],\n       [280.90501036],\n       [280.90488297],\n       [280.90475533],\n       [280.90462742],\n       [280.90449925],\n       [280.90437082],\n       [280.90424214],\n       [280.90513748]])</pre></div></li><li class='xr-var-item'><div class='xr-var-name'><span>gti_max</span></div><div class='xr-var-dims'>(time, station)</div><div class='xr-var-dtype'>float64</div><div class='xr-var-preview xr-preview'>290.2 290.2 288.6 ... 288.6 290.2</div><input id='attrs-8247e44b-f9d0-47b0-8cd5-9e58b3bfcd4c' class='xr-var-attrs-in' type='checkbox' ><label for='attrs-8247e44b-f9d0-47b0-8cd5-9e58b3bfcd4c' title='Show/Hide attributes'><svg class='icon xr-icon-file-text2'><use xlink:href='#icon-file-text2'></use></svg></label><input id='data-7c71c4c9-49c1-4f51-9295-f6d25240e143' class='xr-var-data-in' type='checkbox'><label for='data-7c71c4c9-49c1-4f51-9295-f6d25240e143' title='Show/Hide data repr'><svg class='icon xr-icon-database'><use xlink:href='#icon-database'></use></svg></label><div class='xr-var-attrs'><dl class='xr-attrs'><dt><span>units :</span></dt><dd>W m-2</dd><dt><span>long_name :</span></dt><dd>downwelling shortwave flux measured on secondary platform, might be tilted</dd><dt><span>standard_name :</span></dt><dd>max_downwelling_shortwave_flux_in_air</dd><dt><span>valid_range :</span></dt><dd>[0, 60000]</dd><dt><span>hangle :</span></dt><dd>[0.0, 0.0]</dd><dt><span>vangle :</span></dt><dd>[0.0, 0.0]</dd><dt><span>serial :</span></dt><dd>[&#x27;S12137.049&#x27;, &#x27;test_gti_ds3&#x27;]</dd><dt><span>calibration_Cabsolute :</span></dt><dd>[143266.47564469912, 143266.47564469912]</dd><dt><span>calibration_Ccoscorr :</span></dt><dd>1.45 - 3.04·x¹ + 5.59·x² - 3.01·x³</dd><dt><span>calibration_function :</span></dt><dd>flux (W m-2) = flux (V) * Cabsolute (W m-2 V-1) * Ccoscorr(mua)</dd></dl></div><div class='xr-var-data'><pre>array([[290.24223656],\n       [290.24210521],\n       [288.63842485],\n       [290.2418417 ],\n       [290.24170954],\n       [288.63803057],\n       [288.63789861],\n       [288.63776637],\n       [290.24223656]])</pre></div></li><li class='xr-var-item'><div class='xr-var-name'><span>ghi_std</span></div><div class='xr-var-dims'>(time, station)</div><div class='xr-var-dtype'>float64</div><div class='xr-var-preview xr-preview'>0.0 0.0 0.0 ... 0.4579 0.0 0.0</div><input id='attrs-06e5b029-8ea3-47fc-9934-db83137edac2' class='xr-var-attrs-in' type='checkbox' ><label for='attrs-06e5b029-8ea3-47fc-9934-db83137edac2' title='Show/Hide attributes'><svg class='icon xr-icon-file-text2'><use xlink:href='#icon-file-text2'></use></svg></label><input id='data-cedd779e-c950-496a-8189-03cfb7012539' class='xr-var-data-in' type='checkbox'><label for='data-cedd779e-c950-496a-8189-03cfb7012539' title='Show/Hide data repr'><svg class='icon xr-icon-database'><use xlink:href='#icon-database'></use></svg></label><div class='xr-var-attrs'><dl class='xr-attrs'><dt><span>units :</span></dt><dd>W m-2</dd><dt><span>long_name :</span></dt><dd>downwelling shortwave flux</dd><dt><span>standard_name :</span></dt><dd>std_downwelling_shortwave_flux_in_air</dd><dt><span>valid_range :</span></dt><dd>[0, 60000]</dd><dt><span>serial :</span></dt><dd>[&#x27;S12128.001&#x27;, &#x27;test_ghi_ds3&#x27;]</dd><dt><span>calibration_Cabsolute :</span></dt><dd>[129366.10608020698, 129366.10608020698]</dd><dt><span>calibration_Ccoscorr :</span></dt><dd>1.45 - 3.04·x¹ + 5.59·x² - 3.01·x³</dd><dt><span>calibration_function :</span></dt><dd>flux (W m-2) = flux (V) * Cabsolute (W m-2 V-1) * Ccoscorr(mua)</dd><dt><span>vangle :</span></dt><dd>[0, 0]</dd><dt><span>hangle :</span></dt><dd>[0, 0]</dd></dl></div><div class='xr-var-data'><pre>array([[0.        ],\n       [0.        ],\n       [0.        ],\n       [0.4578816 ],\n       [0.        ],\n       [0.        ],\n       [0.45788097],\n       [0.        ],\n       [0.        ]])</pre></div></li><li class='xr-var-item'><div class='xr-var-name'><span>gti_std</span></div><div class='xr-var-dims'>(time, station)</div><div class='xr-var-dtype'>float64</div><div class='xr-var-preview xr-preview'>0.7171 0.6761 0.0 ... 0.0 0.7171</div><input id='attrs-f522ce95-7e3c-4ffb-bede-ed925486288d' class='xr-var-attrs-in' type='checkbox' ><label for='attrs-f522ce95-7e3c-4ffb-bede-ed925486288d' title='Show/Hide attributes'><svg class='icon xr-icon-file-text2'><use xlink:href='#icon-file-text2'></use></svg></label><input id='data-bbdf3018-b14c-47e0-9db5-770cf64eb5ec' class='xr-var-data-in' type='checkbox'><label for='data-bbdf3018-b14c-47e0-9db5-770cf64eb5ec' title='Show/Hide data repr'><svg class='icon xr-icon-database'><use xlink:href='#icon-database'></use></svg></label><div class='xr-var-attrs'><dl class='xr-attrs'><dt><span>units :</span></dt><dd>W m-2</dd><dt><span>long_name :</span></dt><dd>downwelling shortwave flux measured on secondary platform, might be tilted</dd><dt><span>standard_name :</span></dt><dd>std_downwelling_shortwave_flux_in_air</dd><dt><span>valid_range :</span></dt><dd>[0, 60000]</dd><dt><span>hangle :</span></dt><dd>[0.0, 0.0]</dd><dt><span>vangle :</span></dt><dd>[0.0, 0.0]</dd><dt><span>serial :</span></dt><dd>[&#x27;S12137.049&#x27;, &#x27;test_gti_ds3&#x27;]</dd><dt><span>calibration_Cabsolute :</span></dt><dd>[143266.47564469912, 143266.47564469912]</dd><dt><span>calibration_Ccoscorr :</span></dt><dd>1.45 - 3.04·x¹ + 5.59·x² - 3.01·x³</dd><dt><span>calibration_function :</span></dt><dd>flux (W m-2) = flux (V) * Cabsolute (W m-2 V-1) * Ccoscorr(mua)</dd></dl></div><div class='xr-var-data'><pre>array([[0.71712944],\n       [0.67611582],\n       [0.        ],\n       [0.75591978],\n       [0.91024754],\n       [0.        ],\n       [0.67611428],\n       [0.        ],\n       [0.71712944]])</pre></div></li><li class='xr-var-item'><div class='xr-var-name'><span>szen</span></div><div class='xr-var-dims'>(time, station)</div><div class='xr-var-dtype'>float64</div><div class='xr-var-preview xr-preview'>42.51 42.51 42.51 ... 42.51 42.51</div><input id='attrs-36a18a0c-e6ff-4c5d-8a9a-f48e57824c27' class='xr-var-attrs-in' type='checkbox' ><label for='attrs-36a18a0c-e6ff-4c5d-8a9a-f48e57824c27' title='Show/Hide attributes'><svg class='icon xr-icon-file-text2'><use xlink:href='#icon-file-text2'></use></svg></label><input id='data-6cf9a67f-8111-4019-bc01-fcd21797ce2f' class='xr-var-data-in' type='checkbox'><label for='data-6cf9a67f-8111-4019-bc01-fcd21797ce2f' title='Show/Hide data repr'><svg class='icon xr-icon-database'><use xlink:href='#icon-database'></use></svg></label><div class='xr-var-attrs'><dl class='xr-attrs'><dt><span>standard_name :</span></dt><dd>solar_zenith_angle</dd><dt><span>units :</span></dt><dd>degree</dd><dt><span>valid_range :</span></dt><dd>[0, 36000]</dd><dt><span>serial :</span></dt><dd>[&#x27;&#x27;, &#x27;&#x27;]</dd><dt><span>calibration_Cabsolute :</span></dt><dd>[0, 0]</dd><dt><span>vangle :</span></dt><dd>[0, 0]</dd><dt><span>hangle :</span></dt><dd>[0, 0]</dd></dl></div><div class='xr-var-data'><pre>array([[42.51131378],\n       [42.51144939],\n       [42.51158528],\n       [42.51172144],\n       [42.51185788],\n       [42.5119946 ],\n       [42.51213159],\n       [42.51226886],\n       [42.51131378]])</pre></div></li><li class='xr-var-item'><div class='xr-var-name'><span>sazi</span></div><div class='xr-var-dims'>(time, station)</div><div class='xr-var-dtype'>float64</div><div class='xr-var-preview xr-preview'>182.9 182.9 182.9 ... 182.9 182.9</div><input id='attrs-0aad69c8-0a96-4fb0-b819-758d5cdf4ad7' class='xr-var-attrs-in' type='checkbox' ><label for='attrs-0aad69c8-0a96-4fb0-b819-758d5cdf4ad7' title='Show/Hide attributes'><svg class='icon xr-icon-file-text2'><use xlink:href='#icon-file-text2'></use></svg></label><input id='data-52092cf5-51d5-4b5b-bee4-fe6a5e2aa444' class='xr-var-data-in' type='checkbox'><label for='data-52092cf5-51d5-4b5b-bee4-fe6a5e2aa444' title='Show/Hide data repr'><svg class='icon xr-icon-database'><use xlink:href='#icon-database'></use></svg></label><div class='xr-var-attrs'><dl class='xr-attrs'><dt><span>standard_name :</span></dt><dd>solar_azimuth_angle</dd><dt><span>units :</span></dt><dd>degree</dd><dt><span>valid_range :</span></dt><dd>[0, 36000]</dd><dt><span>serial :</span></dt><dd>[&#x27;&#x27;, &#x27;&#x27;]</dd><dt><span>calibration_Cabsolute :</span></dt><dd>[0, 0]</dd><dt><span>vangle :</span></dt><dd>[0, 0]</dd><dt><span>hangle :</span></dt><dd>[0, 0]</dd></dl></div><div class='xr-var-data'><pre>array([[182.89457117],\n       [182.90066087],\n       [182.90675054],\n       [182.91284018],\n       [182.91892979],\n       [182.92501938],\n       [182.93110893],\n       [182.93719846],\n       [182.89457117]])</pre></div></li><li class='xr-var-item'><div class='xr-var-name'><span>qc_flag_ghi</span></div><div class='xr-var-dims'>(time, station)</div><div class='xr-var-dtype'>uint8</div><div class='xr-var-preview xr-preview'>0 0 0 0 0 0 0 0 0</div><input id='attrs-42be78e1-3440-4714-92ce-abf0446323b2' class='xr-var-attrs-in' type='checkbox' ><label for='attrs-42be78e1-3440-4714-92ce-abf0446323b2' title='Show/Hide attributes'><svg class='icon xr-icon-file-text2'><use xlink:href='#icon-file-text2'></use></svg></label><input id='data-353543a4-125f-4ec8-820b-d999913367a6' class='xr-var-data-in' type='checkbox'><label for='data-353543a4-125f-4ec8-820b-d999913367a6' title='Show/Hide data repr'><svg class='icon xr-icon-database'><use xlink:href='#icon-database'></use></svg></label><div class='xr-var-attrs'><dl class='xr-attrs'><dt><span>standard_name :</span></dt><dd>quality_flag</dd><dt><span>valid_range :</span></dt><dd>[0, 127]</dd><dt><span>serial :</span></dt><dd>[&#x27;S12128.001&#x27;, &#x27;test_ghi_ds3&#x27;]</dd><dt><span>calibration_Cabsolute :</span></dt><dd>[129366.10608020698, 129366.10608020698]</dd><dt><span>calibration_Ccoscorr :</span></dt><dd>1.45 - 3.04·x¹ + 5.59·x² - 3.01·x³</dd><dt><span>calibration_function :</span></dt><dd>flux (W m-2) = flux (V) * Cabsolute (W m-2 V-1) * Ccoscorr(mua)</dd><dt><span>vangle :</span></dt><dd>[0, 0]</dd><dt><span>hangle :</span></dt><dd>[0, 0]</dd><dt><span>ancillary_variables :</span></dt><dd>ghi</dd><dt><span>flag_masks :</span></dt><dd>[1, 2, 4, 8, 16, 32, 64]</dd><dt><span>flag_values :</span></dt><dd>[1, 2, 4, 8, 16, 32, 64]</dd><dt><span>flag_meanings :</span></dt><dd>below_physical_limit above_physical_limit below_rare_limit above_rare_limit comparison_to_low comparison_to_high quality_control_failed</dd></dl></div><div class='xr-var-data'><pre>array([[0],\n       [0],\n       [0],\n       [0],\n       [0],\n       [0],\n       [0],\n       [0],\n       [0]], dtype=uint8)</pre></div></li><li class='xr-var-item'><div class='xr-var-name'><span>qc_flag_gti</span></div><div class='xr-var-dims'>(time, station)</div><div class='xr-var-dtype'>uint8</div><div class='xr-var-preview xr-preview'>0 0 0 0 0 0 0 0 0</div><input id='attrs-bdd60576-1d8b-48be-97f7-b88dda57d586' class='xr-var-attrs-in' type='checkbox' ><label for='attrs-bdd60576-1d8b-48be-97f7-b88dda57d586' title='Show/Hide attributes'><svg class='icon xr-icon-file-text2'><use xlink:href='#icon-file-text2'></use></svg></label><input id='data-a30aef38-ef8a-4c18-9560-904f6bbe18b3' class='xr-var-data-in' type='checkbox'><label for='data-a30aef38-ef8a-4c18-9560-904f6bbe18b3' title='Show/Hide data repr'><svg class='icon xr-icon-database'><use xlink:href='#icon-database'></use></svg></label><div class='xr-var-attrs'><dl class='xr-attrs'><dt><span>standard_name :</span></dt><dd>quality_flag</dd><dt><span>valid_range :</span></dt><dd>[0, 127]</dd><dt><span>hangle :</span></dt><dd>[0.0, 0.0]</dd><dt><span>vangle :</span></dt><dd>[0.0, 0.0]</dd><dt><span>serial :</span></dt><dd>[&#x27;S12137.049&#x27;, &#x27;test_gti_ds3&#x27;]</dd><dt><span>calibration_Cabsolute :</span></dt><dd>[143266.47564469912, 143266.47564469912]</dd><dt><span>calibration_Ccoscorr :</span></dt><dd>1.45 - 3.04·x¹ + 5.59·x² - 3.01·x³</dd><dt><span>calibration_function :</span></dt><dd>flux (W m-2) = flux (V) * Cabsolute (W m-2 V-1) * Ccoscorr(mua)</dd><dt><span>ancillary_variables :</span></dt><dd>gti</dd><dt><span>flag_masks :</span></dt><dd>[1, 2, 4, 8, 16, 32, 64]</dd><dt><span>flag_values :</span></dt><dd>[1, 2, 4, 8, 16, 32, 64]</dd><dt><span>flag_meanings :</span></dt><dd>below_physical_limit above_physical_limit below_rare_limit above_rare_limit comparison_to_low comparison_to_high quality_control_failed</dd></dl></div><div class='xr-var-data'><pre>array([[0],\n       [0],\n       [0],\n       [0],\n       [0],\n       [0],\n       [0],\n       [0],\n       [0]], dtype=uint8)</pre></div></li><li class='xr-var-item'><div class='xr-var-name'><span>lat</span></div><div class='xr-var-dims'>(station)</div><div class='xr-var-dtype'>float64</div><div class='xr-var-preview xr-preview'>51.39</div><input id='attrs-7278d349-6552-4985-a85c-ce8276c87964' class='xr-var-attrs-in' type='checkbox' ><label for='attrs-7278d349-6552-4985-a85c-ce8276c87964' title='Show/Hide attributes'><svg class='icon xr-icon-file-text2'><use xlink:href='#icon-file-text2'></use></svg></label><input id='data-837697f4-16ff-4ae9-b1f7-95af22866f4e' class='xr-var-data-in' type='checkbox'><label for='data-837697f4-16ff-4ae9-b1f7-95af22866f4e' title='Show/Hide data repr'><svg class='icon xr-icon-database'><use xlink:href='#icon-database'></use></svg></label><div class='xr-var-attrs'><dl class='xr-attrs'><dt><span>standard_name :</span></dt><dd>latitude</dd><dt><span>units :</span></dt><dd>degree_north</dd><dt><span>valid_range :</span></dt><dd>[-90.0, 90.0]</dd><dt><span>serial :</span></dt><dd>[&#x27;&#x27;, &#x27;&#x27;]</dd><dt><span>calibration_Cabsolute :</span></dt><dd>[0, 0]</dd><dt><span>vangle :</span></dt><dd>[0, 0]</dd><dt><span>hangle :</span></dt><dd>[0, 0]</dd></dl></div><div class='xr-var-data'><pre>array([51.39021033])</pre></div></li><li class='xr-var-item'><div class='xr-var-name'><span>lon</span></div><div class='xr-var-dims'>(station)</div><div class='xr-var-dtype'>float64</div><div class='xr-var-preview xr-preview'>11.89</div><input id='attrs-72ab8341-4da9-49b5-8ae1-a33c3182be37' class='xr-var-attrs-in' type='checkbox' ><label for='attrs-72ab8341-4da9-49b5-8ae1-a33c3182be37' title='Show/Hide attributes'><svg class='icon xr-icon-file-text2'><use xlink:href='#icon-file-text2'></use></svg></label><input id='data-cde79894-6cf1-4043-989e-8c8c8e95e9e0' class='xr-var-data-in' type='checkbox'><label for='data-cde79894-6cf1-4043-989e-8c8c8e95e9e0' title='Show/Hide data repr'><svg class='icon xr-icon-database'><use xlink:href='#icon-database'></use></svg></label><div class='xr-var-attrs'><dl class='xr-attrs'><dt><span>standard_name :</span></dt><dd>longitude</dd><dt><span>units :</span></dt><dd>degree_east</dd><dt><span>valid_range :</span></dt><dd>[-180.0, 180.0]</dd><dt><span>serial :</span></dt><dd>[&#x27;&#x27;, &#x27;&#x27;]</dd><dt><span>calibration_Cabsolute :</span></dt><dd>[0, 0]</dd><dt><span>vangle :</span></dt><dd>[0, 0]</dd><dt><span>hangle :</span></dt><dd>[0, 0]</dd></dl></div><div class='xr-var-data'><pre>array([11.885252])</pre></div></li><li class='xr-var-item'><div class='xr-var-name'><span>esd</span></div><div class='xr-var-dims'>(station)</div><div class='xr-var-dtype'>float64</div><div class='xr-var-preview xr-preview'>1.01</div><input id='attrs-db0e6bb1-06a6-44dd-b4d6-244bab53f8c4' class='xr-var-attrs-in' type='checkbox' ><label for='attrs-db0e6bb1-06a6-44dd-b4d6-244bab53f8c4' title='Show/Hide attributes'><svg class='icon xr-icon-file-text2'><use xlink:href='#icon-file-text2'></use></svg></label><input id='data-3723cd14-2049-4dfe-8039-97b2b11192f6' class='xr-var-data-in' type='checkbox'><label for='data-3723cd14-2049-4dfe-8039-97b2b11192f6' title='Show/Hide data repr'><svg class='icon xr-icon-database'><use xlink:href='#icon-database'></use></svg></label><div class='xr-var-attrs'><dl class='xr-attrs'><dt><span>long_name :</span></dt><dd>Earth-sun distance</dd><dt><span>note :</span></dt><dd>Calculated based on Spencer (1971), as mean of its values over all time steps.</dd><dt><span>units :</span></dt><dd>ua</dd><dt><span>serial :</span></dt><dd>[&#x27;&#x27;, &#x27;&#x27;]</dd><dt><span>calibration_Cabsolute :</span></dt><dd>[0, 0]</dd><dt><span>vangle :</span></dt><dd>[0, 0]</dd><dt><span>hangle :</span></dt><dd>[0, 0]</dd></dl></div><div class='xr-var-data'><pre>array([1.00959973])</pre></div></li><li class='xr-var-item'><div class='xr-var-name'><span>maintenance_flag_ghi</span></div><div class='xr-var-dims'>(maintenancetime, station)</div><div class='xr-var-dtype'>float64</div><div class='xr-var-preview xr-preview'>9.0</div><input id='attrs-362263bc-627d-4ec0-8712-cc69b8b75971' class='xr-var-attrs-in' type='checkbox' ><label for='attrs-362263bc-627d-4ec0-8712-cc69b8b75971' title='Show/Hide attributes'><svg class='icon xr-icon-file-text2'><use xlink:href='#icon-file-text2'></use></svg></label><input id='data-cde3dda3-eb88-49b4-852c-42e9f88ea9c3' class='xr-var-data-in' type='checkbox'><label for='data-cde3dda3-eb88-49b4-852c-42e9f88ea9c3' title='Show/Hide data repr'><svg class='icon xr-icon-database'><use xlink:href='#icon-database'></use></svg></label><div class='xr-var-attrs'><dl class='xr-attrs'><dt><span>note_general :</span></dt><dd>[&#x27;222&#x27;, &#x27;222&#x27;]</dd><dt><span>note_clean :</span></dt><dd>[&#x27;testing notes&#x27;, &#x27;testing notes&#x27;]</dd><dt><span>note_level :</span></dt><dd>[&#x27;test&#x27;, &#x27;test&#x27;]</dd><dt><span>valid_range :</span></dt><dd>[0, 11]</dd></dl></div><div class='xr-var-data'><pre>array([[9.]])</pre></div></li><li class='xr-var-item'><div class='xr-var-name'><span>maintenance_flag_gti</span></div><div class='xr-var-dims'>(maintenancetime, station)</div><div class='xr-var-dtype'>float64</div><div class='xr-var-preview xr-preview'>7.0</div><input id='attrs-c01ee454-b63b-43cf-b188-83eff182051f' class='xr-var-attrs-in' type='checkbox' ><label for='attrs-c01ee454-b63b-43cf-b188-83eff182051f' title='Show/Hide attributes'><svg class='icon xr-icon-file-text2'><use xlink:href='#icon-file-text2'></use></svg></label><input id='data-33135ff3-4a46-4836-9dbc-3f9f3772176d' class='xr-var-data-in' type='checkbox'><label for='data-33135ff3-4a46-4836-9dbc-3f9f3772176d' title='Show/Hide data repr'><svg class='icon xr-icon-database'><use xlink:href='#icon-database'></use></svg></label><div class='xr-var-attrs'><dl class='xr-attrs'><dt><span>note_general :</span></dt><dd>[&#x27;222&#x27;, &#x27;222&#x27;]</dd><dt><span>note_clean :</span></dt><dd>[&#x27;&#x27;, &#x27;&#x27;]</dd><dt><span>note_level :</span></dt><dd>[&#x27;&#x27;, &#x27;&#x27;]</dd><dt><span>valid_range :</span></dt><dd>[0, 11]</dd></dl></div><div class='xr-var-data'><pre>array([[7.]])</pre></div></li></ul></div></li><li class='xr-section-item'><input id='section-2ebdaebf-e435-4aec-8998-ea7f9f119daa' class='xr-section-summary-in' type='checkbox'  ><label for='section-2ebdaebf-e435-4aec-8998-ea7f9f119daa' class='xr-section-summary' >Indexes: <span>(3)</span></label><div class='xr-section-inline-details'></div><div class='xr-section-details'><ul class='xr-var-list'><li class='xr-var-item'><div class='xr-index-name'><div>station</div></div><div class='xr-index-preview'>PandasIndex</div><div></div><input id='index-db80c1c9-cae4-49e3-9346-5c9fe681e44a' class='xr-index-data-in' type='checkbox'/><label for='index-db80c1c9-cae4-49e3-9346-5c9fe681e44a' title='Show/Hide index repr'><svg class='icon xr-icon-database'><use xlink:href='#icon-database'></use></svg></label><div class='xr-index-data'><pre>PandasIndex(Float64Index([1.0], dtype=&#x27;float64&#x27;, name=&#x27;station&#x27;))</pre></div></li><li class='xr-var-item'><div class='xr-index-name'><div>time</div></div><div class='xr-index-preview'>PandasIndex</div><div></div><input id='index-d229be0a-3962-4b05-8503-b14b6f0bdd96' class='xr-index-data-in' type='checkbox'/><label for='index-d229be0a-3962-4b05-8503-b14b6f0bdd96' title='Show/Hide index repr'><svg class='icon xr-icon-database'><use xlink:href='#icon-database'></use></svg></label><div class='xr-index-data'><pre>PandasIndex(DatetimeIndex([&#x27;2022-08-30 11:21:01&#x27;, &#x27;2022-08-30 11:21:02&#x27;,\n               &#x27;2022-08-30 11:21:03&#x27;, &#x27;2022-08-30 11:21:04&#x27;,\n               &#x27;2022-08-30 11:21:05&#x27;, &#x27;2022-08-30 11:21:06&#x27;,\n               &#x27;2022-08-30 11:21:07&#x27;, &#x27;2022-08-30 11:21:08&#x27;,\n               &#x27;2022-08-30 11:21:09&#x27;],\n              dtype=&#x27;datetime64[ns]&#x27;, name=&#x27;time&#x27;, freq=&#x27;S&#x27;))</pre></div></li><li class='xr-var-item'><div class='xr-index-name'><div>maintenancetime</div></div><div class='xr-index-preview'>PandasIndex</div><div></div><input id='index-5662d6f0-8b81-435a-8dbf-98273103f9cf' class='xr-index-data-in' type='checkbox'/><label for='index-5662d6f0-8b81-435a-8dbf-98273103f9cf' title='Show/Hide index repr'><svg class='icon xr-icon-database'><use xlink:href='#icon-database'></use></svg></label><div class='xr-index-data'><pre>PandasIndex(DatetimeIndex([&#x27;2023-05-08 16:09:06&#x27;], dtype=&#x27;datetime64[ns]&#x27;, name=&#x27;maintenancetime&#x27;, freq=None))</pre></div></li></ul></div></li><li class='xr-section-item'><input id='section-86af8a7a-5949-40b7-bcce-ef86b8cea544' class='xr-section-summary-in' type='checkbox'  ><label for='section-86af8a7a-5949-40b7-bcce-ef86b8cea544' class='xr-section-summary' >Attributes: <span>(32)</span></label><div class='xr-section-inline-details'></div><div class='xr-section-details'><dl class='xr-attrs'><dt><span>Conventions :</span></dt><dd>CF-1.10, ACDD-1.3</dd><dt><span>title :</span></dt><dd>TROPOS pyranometer network (PyrNet) observational data set</dd><dt><span>history :</span></dt><dd>2024-02-29T07:54:41: Merged level l1b by pyrnet version 0.2.4+0.gbfcb0c5.dirty; </dd><dt><span>institution :</span></dt><dd>Leibniz Institute for Tropospheric Research (TROPOS)</dd><dt><span>source :</span></dt><dd>TROPOS pyranometer network (PyrNet)</dd><dt><span>references :</span></dt><dd>https://doi.org/10.5194/amt-9-1153-2016</dd><dt><span>Department :</span></dt><dd>Remote Sensing of Atmospheric Processes</dd><dt><span>Department_team :</span></dt><dd>Clouds, Aerosol and Radiation</dd><dt><span>Address :</span></dt><dd>Permoser Str. 15, 04318 Leipzig, Germany</dd><dt><span>Contact_person :</span></dt><dd>Andreas Macke and the clouds, aerosol and radiation team of the remote sensing department, mailto:andreas.macke@tropos.de</dd><dt><span>Contributor_name :</span></dt><dd></dd><dt><span>Contributor_role :</span></dt><dd></dd><dt><span>Authors_software :</span></dt><dd>Hartwig Deneke, Jonas Witthuhn, mailto:deneke@tropos.de</dd><dt><span>Creator_name :</span></dt><dd></dd><dt><span>Project :</span></dt><dd></dd><dt><span>Standard_name_vocabulary :</span></dt><dd>CF Standard Name Table v81</dd><dt><span>License :</span></dt><dd>CC-BY-SA 3.0</dd><dt><span>TESTNOTE :</span></dt><dd>This is a test note.</dd><dt><span>processing_level :</span></dt><dd>l1b</dd><dt><span>product_version :</span></dt><dd>0.2.4+0.gbfcb0c5.dirty</dd><dt><span>date_created :</span></dt><dd>2024-02-29T07:54:39</dd><dt><span>geospatial_lat_min :</span></dt><dd>51.390210333333336</dd><dt><span>geospatial_lat_max :</span></dt><dd>51.390210333333336</dd><dt><span>geospatial_lat_units :</span></dt><dd>degN</dd><dt><span>geospatial_lon_min :</span></dt><dd>11.885252</dd><dt><span>geospatial_lon_max :</span></dt><dd>11.885252</dd><dt><span>geospatial_lon_units :</span></dt><dd>degE</dd><dt><span>time_coverage_start :</span></dt><dd>2022-08-30T11:21:01</dd><dt><span>time_coverage_end :</span></dt><dd>2022-08-30T11:21:09</dd><dt><span>time_coverage_duration :</span></dt><dd>P0DT0H0M8S</dd><dt><span>time_coverage_resolution :</span></dt><dd>P0DT0H0M1S</dd><dt><span>site :</span></dt><dd>[&#x27;testsite1&#x27;, &#x27;testsite2&#x27;]</dd></dl></div></li></ul></div></div>"
     },
     "execution_count": 49,
     "metadata": {},
     "output_type": "execute_result"
    }
   ],
   "source": [
    "#|dropout\n",
    "#|dropcode\n",
    "ds_merged = merge_l1b(dslist,freq='1s',timevar='time')\n",
    "ds_merged.reindex_like(dslist[0])"
   ],
   "metadata": {
    "collapsed": false,
    "ExecuteTime": {
     "end_time": "2024-02-29T07:54:41.322530400Z",
     "start_time": "2024-02-29T07:54:40.545920700Z"
    }
   }
  },
  {
   "cell_type": "code",
   "execution_count": 50,
   "outputs": [],
   "source": [
    "#|hide\n",
    "# #|export\n",
    "# def merge_ds(ds1, ds2, timevar=\"time\"):\n",
    "#     \"\"\"Merge two datasets along the time dimension.\n",
    "#     \"\"\"\n",
    "#     if ds1[timevar].equals(ds2[timevar]):\n",
    "#         logging.info(\"Overwrite existing file.\")\n",
    "#         return ds2\n",
    "#     logging.info(\"Merge with existing file.\")\n",
    "# \n",
    "#     ## overwrite non time dependent variables\n",
    "#     overwrite_vars = [ v for v in ds1 if timevar not in ds1[v].dims ]\n",
    "# \n",
    "#     ## merge both datasets\n",
    "#     ds_new=ds1.merge(ds2,\n",
    "#                      compat='no_conflicts',\n",
    "#                      overwrite_vars=overwrite_vars)\n",
    "# \n",
    "#     # add global coverage attributes\n",
    "#     ds_new.attrs.update({'merged':1})\n",
    "# \n",
    "#     # add encoding again\n",
    "#     ds_new = add_encoding(ds_new)\n",
    "#     return ds_new"
   ],
   "metadata": {
    "collapsed": false,
    "ExecuteTime": {
     "end_time": "2024-02-29T07:54:41.341040100Z",
     "start_time": "2024-02-29T07:54:41.317036600Z"
    }
   }
  },
  {
   "cell_type": "code",
   "execution_count": 51,
   "metadata": {
    "collapsed": false,
    "ExecuteTime": {
     "end_time": "2024-02-29T07:54:43.467214800Z",
     "start_time": "2024-02-29T07:54:41.326526800Z"
    }
   },
   "outputs": [],
   "source": [
    "#|hide\n",
    "# Export module\n",
    "# Requires *nbdev* to export and update the *../lib/logger.py* module\n",
    "import nbdev.export\n",
    "import nbformat as nbf\n",
    "name = \"data\"\n",
    "\n",
    "# Export python module\n",
    "nbdev.export.nb_export( f\"{name}.ipynb\" ,f\"../../src/pyrnet\")\n",
    "\n",
    "# Export to docs\n",
    "ntbk = nbf.read(f\"{name}.ipynb\", nbf.NO_CONVERT)\n",
    "\n",
    "text_search_dict = {\n",
    "    \"#|hide\": \"remove-cell\",  # Remove the whole cell\n",
    "    \"#|dropcode\": \"hide-input\",  # Hide the input w/ a button to show\n",
    "    \"#|dropout\": \"hide-output\"  # Hide the output w/ a button to show\n",
    "}\n",
    "for cell in ntbk.cells:\n",
    "    cell_tags = cell.get('metadata', {}).get('tags', [])\n",
    "    for key, val in text_search_dict.items():\n",
    "            if key in cell['source']:\n",
    "                if val not in cell_tags:\n",
    "                    cell_tags.append(val)\n",
    "    if len(cell_tags) > 0:\n",
    "        cell['metadata']['tags'] = cell_tags\n",
    "    nbf.write(ntbk, f\"../../docs/source/nbs/{name}.ipynb\")"
   ]
  }
 ],
 "metadata": {
  "kernelspec": {
   "display_name": "Python 3 (ipykernel)",
   "language": "python",
   "name": "python3"
  },
  "language_info": {
   "codemirror_mode": {
    "name": "ipython",
    "version": 3
   },
   "file_extension": ".py",
   "mimetype": "text/x-python",
   "name": "python",
   "nbconvert_exporter": "python",
   "pygments_lexer": "ipython3",
   "version": "3.11.7"
  }
 },
 "nbformat": 4,
 "nbformat_minor": 4
}
