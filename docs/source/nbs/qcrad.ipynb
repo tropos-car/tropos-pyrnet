{
 "cells": [
  {
   "cell_type": "code",
   "execution_count": 1,
   "id": "initial_id",
   "metadata": {
    "ExecuteTime": {
     "end_time": "2024-02-14T13:48:00.637742Z",
     "start_time": "2024-02-14T13:48:00.133447400Z"
    },
    "collapsed": true,
    "tags": [
     "remove-cell"
    ]
   },
   "outputs": [],
   "source": [
    "#|hide\n",
    "#|default_exp qcrad"
   ]
  },
  {
   "cell_type": "markdown",
   "id": "cf56cd614fb8d48a",
   "metadata": {
    "collapsed": false
   },
   "source": [
    "# PyrNet automatic quality checks\n",
    "In the following, functions for automatic quality screening are developed. Including BSRN recommended physical and rare limits, as well as network sanity checks."
   ]
  },
  {
   "cell_type": "code",
   "execution_count": null,
   "id": "10e20462eea472cd",
   "metadata": {
    "ExecuteTime": {
     "start_time": "2024-02-14T13:48:00.154128Z"
    },
    "collapsed": false,
    "is_executing": true
   },
   "outputs": [],
   "source": [
    "#|export\n",
    "import xarray as xr\n",
    "import numpy as np\n",
    "import trosat.sunpos as sp\n",
    "import logging\n",
    "\n",
    "import pyrnet.data\n",
    "import pyrnet.utils\n",
    "\n",
    "\n",
    "# logging setup\n",
    "logging.basicConfig(\n",
    "    filename='pyrnet.log',\n",
    "    encoding='utf-8',\n",
    "    level=logging.DEBUG,\n",
    "    format='%(asctime)s %(name)s %(levelname)s:%(message)s'\n",
    ")\n",
    "logger = logging.getLogger(__name__)"
   ]
  },
  {
   "cell_type": "code",
   "execution_count": null,
   "id": "933ea329f4416a5e",
   "metadata": {
    "collapsed": false,
    "is_executing": true
   },
   "outputs": [],
   "source": [
    "import matplotlib.pyplot as plt"
   ]
  },
  {
   "cell_type": "code",
   "execution_count": null,
   "id": "46c99745dd91bc2b",
   "metadata": {
    "collapsed": false,
    "is_executing": true
   },
   "outputs": [],
   "source": [
    "#|export\n",
    "class CONSTANTS:\n",
    "    S0 = 1367  # W m-2\n",
    "    k = 5.67*1e-8"
   ]
  },
  {
   "cell_type": "markdown",
   "id": "80c0dbd48c9039c1",
   "metadata": {
    "collapsed": false
   },
   "source": [
    "## BSRN recommended checks\n",
    "BSRN recommends thresholds for physical and rare limits of GHI data"
   ]
  },
  {
   "cell_type": "code",
   "execution_count": null,
   "id": "f3b0a3fe1b692933",
   "metadata": {
    "collapsed": false,
    "is_executing": true
   },
   "outputs": [],
   "source": [
    "#|export\n",
    "class QCCode:\n",
    "    \"\"\" BSRN quality codes\n",
    "    https://wiki.pangaea.de/wiki/BSRN_Toolbox#Quality_Check\n",
    "    \"\"\"\n",
    "    below_physical = 2**0 # 1\n",
    "    above_phyiscal = 2**1 # 2\n",
    "    below_rare = 2**2 # 4\n",
    "    above_rare = 2**3 # 8\n",
    "    compare_to_low = 2**4 # 16\n",
    "    compare_to_high = 2**5 # 32\n",
    "    quality_control_failed = 2**6 # 64"
   ]
  },
  {
   "cell_type": "markdown",
   "id": "66d85261e2c99f10",
   "metadata": {
    "collapsed": false
   },
   "source": [
    "## Load test dataset:"
   ]
  },
  {
   "cell_type": "code",
   "execution_count": null,
   "id": "6dd8e1d8c7a00692",
   "metadata": {
    "collapsed": false,
    "is_executing": true,
    "tags": [
     "hide-input",
     "hide-output"
    ]
   },
   "outputs": [],
   "source": [
    "#|dropcode\n",
    "#|dropout\n",
    "fname = \"../../example_data/to_l1b_output.nc\"\n",
    "ds_l1b = xr.load_dataset(fname)\n",
    "ds_l1b "
   ]
  },
  {
   "cell_type": "markdown",
   "id": "a1ff010e73b142fa",
   "metadata": {
    "collapsed": false
   },
   "source": [
    "## Function to initialize qc-flag variables:"
   ]
  },
  {
   "cell_type": "code",
   "execution_count": null,
   "id": "7d76db3bef479c3d",
   "metadata": {
    "collapsed": false,
    "is_executing": true,
    "tags": [
     "hide-input"
    ]
   },
   "outputs": [],
   "source": [
    "#|export\n",
    "#|dropcode\n",
    "def init_qc_flag(ds, var):\n",
    "    qc_bits = [2**i for i in range(7)]\n",
    "    ds[f\"qc_flag_{var}\"] = ds[var].copy()\n",
    "    ds[f\"qc_flag_{var}\"].values = np.zeros(ds[var].shape).astype(np.ubyte)\n",
    "    attrs = ds[f\"qc_flag_{var}\"].attrs\n",
    "    attrs.update({\n",
    "        \"standard_name\": \"quality_flag\",\n",
    "        \"ancillary_variables\": var,\n",
    "        \"valid_range\": [0, np.sum(qc_bits)],\n",
    "        \"flag_masks\": qc_bits,\n",
    "        \"flag_values\": qc_bits,\n",
    "        \"flag_meanings\": str(\n",
    "            \"below_physical_limit\" + \" \" +\n",
    "            \"above_physical_limit\" + \" \" +\n",
    "            \"below_rare_limit\" + \" \" +\n",
    "            \"above_rare_limit\" + \" \" +\n",
    "            \"comparison_to_low\" + \" \" +\n",
    "            \"comparison_to_high\" + \" \"+\n",
    "            \"quality_control_failed\"\n",
    "        )\n",
    "    })\n",
    "    attrs.pop(\"units\", None)\n",
    "    attrs.pop(\"long_name\", None)\n",
    "    ds[f\"qc_flag_{var}\"].attrs.update(attrs)\n",
    "    ds[f\"qc_flag_{var}\"].encoding.update({\n",
    "        \"dtype\": \"u1\",\n",
    "        \"_FillValue\": 255,\n",
    "        \"zlib\": True\n",
    "    })\n",
    "    return ds"
   ]
  },
  {
   "cell_type": "markdown",
   "id": "264a6b61b518fdf8",
   "metadata": {
    "collapsed": false
   },
   "source": [
    "## Initialize qc-flags for dataset"
   ]
  },
  {
   "cell_type": "code",
   "execution_count": null,
   "id": "a09283de54f67de1",
   "metadata": {
    "collapsed": false,
    "is_executing": true,
    "tags": [
     "hide-output"
    ]
   },
   "outputs": [],
   "source": [
    "#|dropout\n",
    "config = pyrnet.data.get_config()\n",
    "\n",
    "for var in config[\"radflux_varname\"]:\n",
    "    ds_l1b = init_qc_flag(ds_l1b, var) \n",
    "    \n",
    "ds_l1b"
   ]
  },
  {
   "cell_type": "markdown",
   "id": "74a19376e53face8",
   "metadata": {
    "collapsed": false
   },
   "source": [
    "## Prepare ancillary variables"
   ]
  },
  {
   "cell_type": "code",
   "execution_count": null,
   "id": "c12c02028d333f4",
   "metadata": {
    "collapsed": false,
    "is_executing": true
   },
   "outputs": [],
   "source": [
    "szen = ds_l1b.szen.values\n",
    "mu0 = np.cos(np.deg2rad(szen))\n",
    "mu0[mu0 < 0] = 0 #  exclude night\n",
    "esd = ds_l1b.esd.values\n",
    "Sa = CONSTANTS.S0 / esd**2"
   ]
  },
  {
   "cell_type": "markdown",
   "id": "761ca9941636e5ee",
   "metadata": {
    "collapsed": false
   },
   "source": [
    "## Perform quality checks on GHI (main pyranometer) and GTI (extra pyranometer).\n",
    "Check if GTI is tilted and if so, apply a simple conversion to horizontal irradiance for the quality checks."
   ]
  },
  {
   "cell_type": "code",
   "execution_count": null,
   "id": "5d797bd16478c491",
   "metadata": {
    "collapsed": false,
    "is_executing": true,
    "tags": [
     "hide-input",
     "hide-output"
    ]
   },
   "outputs": [],
   "source": [
    "#|dropcode\n",
    "#|dropout\n",
    "dsr = ds_l1b.copy()\n",
    "dsr = dsr.drop_vars([var for var in dsr if var not in config[\"radflux_varname\"]])\n",
    "for var in config[\"radflux_varname\"]:\n",
    "    is_tilted = pyrnet.utils.check_tilted(ds_l1b[var])\n",
    "    values = ds_l1b[var].values.copy()\n",
    "    # apply correction if possible\n",
    "    if np.any(is_tilted):\n",
    "        vangle = pyrnet.utils.make_iter(ds_l1b[var].attrs[\"vangle\"])\n",
    "        hangle = pyrnet.utils.make_iter(ds_l1b[var].attrs[\"hangle\"])\n",
    "        cfac = pyrnet.utils.tilt_correction_factor(\n",
    "            dp = vangle,\n",
    "            dy = hangle,\n",
    "            szen=ds_l1b.szen.values,\n",
    "            sazi=ds_l1b.sazi.values\n",
    "        )\n",
    "        mask = is_tilted[None,:] * np.isnan(cfac)\n",
    "        ds_l1b[f\"qc_flag_{var}\"].values[mask] += QCCode.quality_control_failed\n",
    "        apply_correction = is_tilted[None,:] * ~np.isnan(cfac)\n",
    "        values[apply_correction] *= cfac[apply_correction]\n",
    "    \n",
    "    # update radflux collection dataset\n",
    "    dsr[var].values = values\n",
    "    \n",
    "    # physical minimum\n",
    "    mask = values < -4\n",
    "    ds_l1b[f\"qc_flag_{var}\"].values[mask] += QCCode.below_physical\n",
    "    # physical maximum\n",
    "    mask = values > ((Sa * 1.5 * mu0 ** 1.2) + 100)\n",
    "    ds_l1b[f\"qc_flag_{var}\"].values[mask] += QCCode.above_phyiscal\n",
    "    # rare limit minimum\n",
    "    mask = values < -2\n",
    "    ds_l1b[f\"qc_flag_{var}\"].values[mask] += QCCode.below_rare\n",
    "    # rare limit maximum\n",
    "    mask = values > ((Sa * 1.2 * mu0 ** 1.2) + 50)\n",
    "    ds_l1b[f\"qc_flag_{var}\"].values[mask] += QCCode.above_rare\n",
    "    \n",
    "    fig,ax = plt.subplots(1,1)\n",
    "    ax.set_title(var)\n",
    "    ax.fill_between(ds_l1b.time,np.ones(mu0.shape[0])*-4,((Sa * 1.5 * mu0 ** 1.2) + 100)[:,0],color='r',alpha=0.2)\n",
    "    ax.fill_between(ds_l1b.time,np.ones(mu0.shape[0])*-2,((Sa * 1.2 * mu0 ** 1.2) + 50)[:,0],color='g',alpha=0.2)\n",
    "    ax.plot(ds_l1b.time,ds_l1b[var].values,'grey')\n",
    "    ax.plot(ds_l1b.time,values, 'k')\n",
    "    ax.set_ylim([0,1500])\n",
    "    ax.grid(True)\n",
    "    \n",
    "# compare all sensors from network, or single station\n",
    "dsr = dsr.resample(time=\"30min\",skipna=True).mean()\n",
    "thres_low = np.ones(ds_l1b.time.size)*0.9\n",
    "thres_high = np.ones(ds_l1b.time.size)*1.1\n",
    "thres_low[ds_l1b.szen.mean(\"station\")>75] = 0.85\n",
    "thres_low[ds_l1b.szen.mean(\"station\")>75] = 1.15\n",
    "all_values_mean = np.nanmean(np.concatenate([dsr[var].values for var in dsr],axis=1),axis=1)\n",
    "for var in config[\"radflux_varname\"]:\n",
    "    is_tilted = pyrnet.utils.check_tilted(ds_l1b[var])\n",
    "    ratio = np.ones(dsr[var].shape)\n",
    "    if np.any(is_tilted):\n",
    "        meanvalues =  all_values_mean\n",
    "    else:\n",
    "        meanvalues = np.nanmean(dsr[var].values, axis=1)\n",
    "    ratio[meanvalues>50] = dsr[var].values[meanvalues>50] / meanvalues[meanvalues>50][:,None]\n",
    "    \n",
    "    fig,ax = plt.subplots(1,1)\n",
    "    ax.set_title(var)\n",
    "    ax.plot(dsr.time,dsr[var].values,'grey')\n",
    "    ax.fill_between(dsr.time,meanvalues*0.9,meanvalues*1.1,color='r',alpha=0.2)\n",
    "    ax.plot(dsr.time,meanvalues,'k')\n",
    "    # reindex ratio to original resolution\n",
    "    dsr = dsr.assign({\"ratio\": ((\"time\",\"station\"), ratio)})\n",
    "    ratio = dsr.ratio.reindex_like(ds_l1b, method='nearest').values\n",
    "    dsr = dsr.drop_vars([\"ratio\"])\n",
    "    # comparison to low\n",
    "    mask = ratio < thres_low[:,None]\n",
    "    ds_l1b[f\"qc_flag_{var}\"].values[mask] += QCCode.compare_to_low\n",
    "    \n",
    "    # comparison to high\n",
    "    mask = ratio > thres_high[:,None]\n",
    "    ds_l1b[f\"qc_flag_{var}\"].values[mask] += QCCode.compare_to_high\n",
    "       \n",
    "\n",
    "ds_l1b"
   ]
  },
  {
   "cell_type": "markdown",
   "id": "9ddb5d00a059f147",
   "metadata": {
    "collapsed": false
   },
   "source": [
    "## add_qc_flag function"
   ]
  },
  {
   "cell_type": "code",
   "execution_count": null,
   "id": "d62e6d71332b950a",
   "metadata": {
    "collapsed": false,
    "is_executing": true,
    "tags": [
     "hide-input"
    ]
   },
   "outputs": [],
   "source": [
    "#|export\n",
    "#|dropcode\n",
    "def add_qc_flags(ds, vars):\n",
    "    \"\"\"\n",
    "    Add quality flags to flux variables in the dataset.\n",
    "    \n",
    "    Parameters\n",
    "    ----------\n",
    "    ds: xr.Dataset\n",
    "        Dataset with flux variables, dimensions ('time','station'). Also, solar zenith (szen) and azimuth (sazi) angles are required.\n",
    "        Works for pyrnet l1b and l1b_network files.\n",
    "    vars: list\n",
    "        List of flux variable names in ds.\n",
    "\n",
    "    Returns\n",
    "    -------\n",
    "    xr.Dataset\n",
    "        The input dataset, but with additional 'qc_flag_<fluxvar>' variables.\n",
    "    \"\"\"\n",
    "    # keep only available variables\n",
    "    vars = [ var for var in vars if var in ds ]\n",
    "    \n",
    "    # init qc flags\n",
    "    for var in vars:\n",
    "        ds = init_qc_flag(ds, var) \n",
    "    \n",
    "    # ancillary variables\n",
    "    szen = ds.szen.values\n",
    "    mu0 = np.cos(np.deg2rad(szen))\n",
    "    mu0[mu0 < 0] = 0 #  exclude night\n",
    "    esd = ds.esd.values\n",
    "    Sa = CONSTANTS.S0 / esd**2\n",
    "    \n",
    "    # prepare subsample dataset, to be resampled to 30min mean for comparison checks\n",
    "    dsr = ds.copy()\n",
    "    dsr = dsr.drop_vars([var for var in dsr if var not in vars])\n",
    "    \n",
    "    # do physical and extreme limit tests\n",
    "    for var in vars:\n",
    "        is_tilted = pyrnet.utils.check_tilted(ds[var])\n",
    "        values = ds[var].values.copy()\n",
    "        \n",
    "        # apply correction if possible\n",
    "        if np.any(is_tilted):\n",
    "            vangle = pyrnet.utils.make_iter(ds[var].attrs[\"vangle\"])\n",
    "            hangle = pyrnet.utils.make_iter(ds[var].attrs[\"hangle\"])\n",
    "            cfac = pyrnet.utils.tilt_correction_factor(\n",
    "                dp = vangle,\n",
    "                dy = hangle,\n",
    "                szen=ds.szen.values,\n",
    "                sazi=ds.sazi.values\n",
    "            )\n",
    "            mask = is_tilted[None,:] * np.isnan(cfac)\n",
    "            ds[f\"qc_flag_{var}\"].values[mask] += QCCode.quality_control_failed\n",
    "            apply_correction = is_tilted[None,:] * ~np.isnan(cfac)\n",
    "            values[apply_correction] *= cfac[apply_correction]\n",
    "        \n",
    "        # update subsample dataset\n",
    "        dsr[var].values = values\n",
    "        \n",
    "        # physical minimum\n",
    "        mask = values < -4\n",
    "        ds[f\"qc_flag_{var}\"].values[mask] += QCCode.below_physical\n",
    "        # physical maximum\n",
    "        mask = values > ((Sa * 1.5 * mu0 ** 1.2) + 100)\n",
    "        ds[f\"qc_flag_{var}\"].values[mask] += QCCode.above_phyiscal\n",
    "        # rare limit minimum\n",
    "        mask = values < -2\n",
    "        ds[f\"qc_flag_{var}\"].values[mask] += QCCode.below_rare\n",
    "        # rare limit maximum\n",
    "        mask = values > ((Sa * 1.2 * mu0 ** 1.2) + 50)\n",
    "        ds[f\"qc_flag_{var}\"].values[mask] += QCCode.above_rare\n",
    "        \n",
    "        \n",
    "    # compare all sensors from network, or single station\n",
    "    dsr = dsr.resample(time=\"30min\",skipna=True).mean()\n",
    "    thres_low = np.ones(ds.time.size)*0.9\n",
    "    thres_high = np.ones(ds.time.size)*1.1\n",
    "    thres_low[ds.szen.mean(\"station\")>75] = 0.85\n",
    "    thres_low[ds.szen.mean(\"station\")>75] = 1.15\n",
    "    all_values_mean = np.nanmean(np.concatenate([dsr[var].values for var in dsr],axis=1),axis=1)\n",
    "    for var in vars:\n",
    "        is_tilted = pyrnet.utils.check_tilted(ds[var])\n",
    "        ratio = np.ones(dsr[var].shape)\n",
    "        if np.any(is_tilted):\n",
    "            meanvalues =  all_values_mean\n",
    "        else:\n",
    "            meanvalues = np.nanmean(dsr[var].values, axis=1)\n",
    "        ratio[meanvalues>50] = dsr[var].values[meanvalues>50] / meanvalues[meanvalues>50][:,None]\n",
    "        \n",
    "        # reindex ratio to original resolution\n",
    "        dsr = dsr.assign({\"ratio\": ((\"time\",\"station\"), ratio)})\n",
    "        ratio = dsr.ratio.reindex_like(ds, method='nearest').values\n",
    "        dsr = dsr.drop_vars([\"ratio\"])\n",
    "        # comparison to low\n",
    "        mask = ratio < thres_low[:,None]\n",
    "        ds[f\"qc_flag_{var}\"].values[mask] += QCCode.compare_to_low\n",
    "        \n",
    "        # comparison to high\n",
    "        mask = ratio > thres_high[:,None]\n",
    "        ds[f\"qc_flag_{var}\"].values[mask] += QCCode.compare_to_high\n",
    "    \n",
    "    return ds"
   ]
  },
  {
   "cell_type": "markdown",
   "id": "1cadc1e0428fea2c",
   "metadata": {
    "collapsed": false
   },
   "source": [
    "## Test add_qc_flag function"
   ]
  },
  {
   "cell_type": "code",
   "execution_count": null,
   "id": "e2505f402e83ef73",
   "metadata": {
    "collapsed": false,
    "is_executing": true,
    "tags": [
     "hide-output"
    ]
   },
   "outputs": [],
   "source": [
    "#|dropout\n",
    "fname = \"../../example_data/to_l1b_output.nc\"\n",
    "ds = xr.load_dataset(fname)\n",
    "ds "
   ]
  },
  {
   "cell_type": "code",
   "execution_count": null,
   "id": "f63a060a8b4a2e1c",
   "metadata": {
    "collapsed": false,
    "is_executing": true,
    "tags": [
     "hide-output"
    ]
   },
   "outputs": [],
   "source": [
    "#|dropout\n",
    "ds = add_qc_flags(ds, [\"ghi\", \"gti\"])\n",
    "ds"
   ]
  },
  {
   "cell_type": "code",
   "execution_count": null,
   "id": "c23d17c81a5e5683",
   "metadata": {
    "collapsed": false,
    "is_executing": true,
    "tags": [
     "remove-cell",
     "hide-input",
     "hide-output"
    ]
   },
   "outputs": [],
   "source": [
    "#|hide\n",
    "# Export module\n",
    "# Requires *nbdev* to export and update the *../lib/logger.py* module\n",
    "import nbdev.export\n",
    "import nbformat as nbf\n",
    "name = \"qcrad\"\n",
    "\n",
    "# Export python module\n",
    "nbdev.export.nb_export( f\"{name}.ipynb\" ,f\"../../src/pyrnet\")\n",
    "\n",
    "# Export to docs\n",
    "ntbk = nbf.read(f\"{name}.ipynb\", nbf.NO_CONVERT)\n",
    "\n",
    "text_search_dict = {\n",
    "    \"#|hide\": \"remove-cell\",  # Remove the whole cell\n",
    "    \"#|dropcode\": \"hide-input\",  # Hide the input w/ a button to show\n",
    "    \"#|dropout\": \"hide-output\"  # Hide the output w/ a button to show\n",
    "}\n",
    "for cell in ntbk.cells:\n",
    "    cell_tags = cell.get('metadata', {}).get('tags', [])\n",
    "    for key, val in text_search_dict.items():\n",
    "            if key in cell['source']:\n",
    "                if val not in cell_tags:\n",
    "                    cell_tags.append(val)\n",
    "    if len(cell_tags) > 0:\n",
    "        cell['metadata']['tags'] = cell_tags\n",
    "    nbf.write(ntbk, f\"../../docs/source/nbs/{name}.ipynb\")"
   ]
  }
 ],
 "metadata": {
  "kernelspec": {
   "display_name": "pyrnet",
   "language": "python",
   "name": "pyrnet"
  },
  "language_info": {
   "codemirror_mode": {
    "name": "ipython",
    "version": 2
   },
   "file_extension": ".py",
   "mimetype": "text/x-python",
   "name": "python",
   "nbconvert_exporter": "python",
   "pygments_lexer": "ipython2",
   "version": "2.7.6"
  }
 },
 "nbformat": 4,
 "nbformat_minor": 5
}
