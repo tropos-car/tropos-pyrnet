{
 "cells": [
  {
   "cell_type": "markdown",
   "metadata": {
    "collapsed": false
   },
   "source": [
    "# Utils\n",
    "Utility functions for PyrNet"
   ]
  },
  {
   "cell_type": "code",
   "execution_count": 1,
   "metadata": {
    "ExecuteTime": {
     "end_time": "2024-02-14T13:46:59.723941300Z",
     "start_time": "2024-02-14T13:46:58.937386200Z"
    },
    "collapsed": false,
    "tags": [
     "remove-cell"
    ]
   },
   "outputs": [],
   "source": [
    "#|hide\n",
    "#|default_exp utils"
   ]
  },
  {
   "cell_type": "code",
   "execution_count": 2,
   "metadata": {
    "ExecuteTime": {
     "end_time": "2024-02-14T13:47:00.451536500Z",
     "start_time": "2024-02-14T13:46:58.953548500Z"
    },
    "collapsed": false
   },
   "outputs": [],
   "source": [
    "#|export\n",
    "from numpy.typing import ArrayLike, NDArray\n",
    "import numpy as np\n",
    "from scipy.signal.windows import gaussian\n",
    "import jstyleson as json\n",
    "from addict import Dict as adict\n",
    "from operator import itemgetter\n",
    "from toolz import keyfilter\n",
    "import pyproj\n",
    "\n",
    "# python -m pip install git+https://github.com/hdeneke/trosat-base.git#egg=trosat-base\n",
    "import trosat.sunpos as sp"
   ]
  },
  {
   "cell_type": "code",
   "execution_count": null,
   "metadata": {
    "ExecuteTime": {
     "end_time": "2024-02-14T13:47:02.243576200Z",
     "start_time": "2024-02-14T13:47:00.453931Z"
    },
    "collapsed": false
   },
   "outputs": [],
   "source": [
    "# extra imports for demonstration\n",
    "import sys,os\n",
    "import pandas as pd\n",
    "import matplotlib.pyplot as plt\n",
    "import datetime as dt\n",
    "#import pkg_resources as pkg_res\n",
    "import importlib.resources\n",
    "\n",
    "import pyrnet"
   ]
  },
  {
   "cell_type": "markdown",
   "metadata": {
    "collapsed": false
   },
   "source": [
    "## Representation of Time\n",
    "Unifying various representations of time to numpy.datetime64 comes in handy when handling user inputs."
   ]
  },
  {
   "cell_type": "code",
   "execution_count": 4,
   "metadata": {
    "ExecuteTime": {
     "end_time": "2024-02-14T13:47:02.275256Z",
     "start_time": "2024-02-14T13:47:02.247565700Z"
    },
    "collapsed": false
   },
   "outputs": [],
   "source": [
    "#|export\n",
    "EPOCH_JD_2000_0 = np.datetime64(\"2000-01-01T12:00\")\n",
    "def to_datetime64(time, epoch=EPOCH_JD_2000_0):\n",
    "    \"\"\"\n",
    "    Convert various representations of time to datetime64.\n",
    "\n",
    "    Parameters\n",
    "    ----------\n",
    "    time : list, ndarray, or scalar of type float, datetime or datetime64\n",
    "        A representation of time. If float, interpreted as Julian date.\n",
    "    epoch : np.datetime64, default JD2000.0\n",
    "        The epoch to use for the calculation\n",
    "\n",
    "    Returns\n",
    "    -------\n",
    "    datetime64 or ndarray of datetime64\n",
    "    \"\"\"\n",
    "    jd = sp.to_julday(time, epoch=epoch)\n",
    "    jdms = np.int64(86_400_000*jd)\n",
    "    return epoch + jdms.astype('timedelta64[ms]')"
   ]
  },
  {
   "cell_type": "code",
   "execution_count": 5,
   "metadata": {
    "ExecuteTime": {
     "end_time": "2024-02-14T13:47:02.276253800Z",
     "start_time": "2024-02-14T13:47:02.262884200Z"
    },
    "collapsed": false
   },
   "outputs": [],
   "source": [
    "# testing to_datetime64\n",
    "date_jd = 5203.5 # 2014-04-01T00:00\n",
    "date_dt = dt.datetime(2014,4,1,12,10)\n",
    "date_pd = pd.date_range(\"2014-04-01\",\"2014-04-03\",freq='1d')\n",
    "date_list = [dt.date(2014,4,1), dt.date(2014,4,2)]\n",
    "assert np.datetime64(\"2014-04-01T00:00\")==to_datetime64(date_jd)\n",
    "assert np.datetime64(\"2014-04-01T12:10\")==to_datetime64(date_dt)\n",
    "assert np.array_equal(\n",
    "    np.array([np.datetime64(\"2014-04-01\"),\n",
    "                 np.datetime64(\"2014-04-02\"),\n",
    "                 np.datetime64(\"2014-04-03\")]\n",
    "                ).astype(\"datetime64[ms]\"),\n",
    "    to_datetime64(date_pd))\n",
    "assert np.array_equal(\n",
    "    np.array([np.datetime64(\"2014-04-01\"),\n",
    "                 np.datetime64(\"2014-04-02\")]\n",
    "                ).astype(\"datetime64[ms]\"),\n",
    "    to_datetime64(date_list))"
   ]
  },
  {
   "cell_type": "markdown",
   "metadata": {
    "collapsed": false
   },
   "source": [
    "## Json netcdf config tools\n",
    "The netCDF attributes and encoding variables are stored in [CF-Compliance](https://cfconventions.org/) json files. The following utility functions are used to parse the json and return attribute and encoding dictionary's to be used with xarray."
   ]
  },
  {
   "cell_type": "code",
   "execution_count": 6,
   "metadata": {
    "ExecuteTime": {
     "end_time": "2024-02-14T13:47:02.334582700Z",
     "start_time": "2024-02-14T13:47:02.277251500Z"
    },
    "collapsed": false
   },
   "outputs": [],
   "source": [
    "#|export\n",
    "def read_json(fpath: str, *, object_hook: type = adict, cls = None) -> dict:\n",
    "    \"\"\" Parse json file to python dict.\n",
    "    \"\"\"\n",
    "    with open(fpath,\"r\") as f:\n",
    "        js = json.load(f, object_hook=object_hook, cls=cls)\n",
    "        return js\n",
    "\n",
    "def pick(whitelist: list[str], d: dict) -> dict:\n",
    "    \"\"\" Keep only whitelisted keys from input dict.\n",
    "    \"\"\"\n",
    "    return keyfilter(lambda k: k in whitelist, d)\n",
    "\n",
    "def omit(blacklist: list[str], d: dict) -> dict:\n",
    "    \"\"\" Omit blacklisted keys from input dict.\n",
    "    \"\"\"\n",
    "    return keyfilter(lambda k: k not in blacklist, d)\n",
    "\n",
    "def get_var_attrs(d: dict) -> dict:\n",
    "    \"\"\"\n",
    "    Parse cf-compliance dictionary.\n",
    "\n",
    "    Parameters\n",
    "    ----------\n",
    "    d: dict\n",
    "        Dict parsed from cf-meta json.\n",
    "\n",
    "    Returns\n",
    "    -------\n",
    "    dict\n",
    "        Dict with netcdf attributes for each variable.\n",
    "    \"\"\"\n",
    "    get_vars = itemgetter(\"variables\")\n",
    "    get_attrs = itemgetter(\"attributes\")\n",
    "    vattrs = {k: get_attrs(v) for k,v in get_vars(d).items()}\n",
    "    for k,v in get_vars(d).items():\n",
    "        vattrs[k].update({\n",
    "            \"dtype\": v[\"type\"],\n",
    "            \"gzip\":True,\n",
    "            \"complevel\":6\n",
    "        })\n",
    "    return vattrs\n",
    "\n",
    "def get_attrs_enc(d : dict) -> (dict,dict):\n",
    "    \"\"\" Split variable attributes in attributes and encoding-attributes.\n",
    "    \"\"\"\n",
    "    _enc_attrs = {\n",
    "        \"scale_factor\",\n",
    "        \"add_offset\",\n",
    "        \"_FillValue\",\n",
    "        \"dtype\",\n",
    "        \"zlib\",\n",
    "        \"gzip\",\n",
    "        \"complevel\",\n",
    "        \"calendar\",\n",
    "    }\n",
    "    # extract variable attributes\n",
    "    vattrs = {k: omit(_enc_attrs, v) for k, v in d.items()}\n",
    "    # extract variable encoding\n",
    "    vencode = {k: pick(_enc_attrs, v) for k, v in d.items()}\n",
    "    return vattrs, vencode"
   ]
  },
  {
   "cell_type": "markdown",
   "metadata": {
    "collapsed": false
   },
   "source": [
    "### Usage:"
   ]
  },
  {
   "cell_type": "code",
   "execution_count": null,
   "metadata": {
    "ExecuteTime": {
     "end_time": "2024-02-14T13:47:02.347116900Z",
     "start_time": "2024-02-14T13:47:02.287685700Z"
    },
    "collapsed": false,
    "tags": [
     "hide-output"
    ]
   },
   "outputs": [
    {
     "data": {
      "text/plain": [
       "{'Title': 'TROPOS pyranometer network (PyrNet) observations',\n",
       " 'Institution': 'Leibniz Institute for Tropospheric Research (TROPOS)',\n",
       " 'Department': 'Remote Sensing of Atmospheric Processes',\n",
       " 'Department_team': 'Clouds, Aerosol and Radiation',\n",
       " 'Address': 'Permoser Str. 15, 04318 Leipzig, Germany',\n",
       " 'Source': 'TROPOS pyranometer network (PyrNet)',\n",
       " 'Contact_person': 'Andreas Macke and the clouds, aerosol and radiation team of the remote sensing department, mailto:andreas.macke@tropos.de',\n",
       " 'Contributor_name': 'Jon Doe; Roger Rogers',\n",
       " 'Contributor_role': 'Set-up; Tear-down',\n",
       " 'Authors_software': 'Hartwig Deneke, Jonas Witthuhn, mailto:deneke@tropos.de',\n",
       " 'Creator_name': 'Adam Alpha',\n",
       " 'Project': 'Notebook Example',\n",
       " 'References': 'https://doi.org/10.5194/amt-9-1153-2016',\n",
       " 'Standard_name_vocabulary': 'CF Standard Name Table v81',\n",
       " 'Conventions': 'CF-1.10, ACDD-1.3',\n",
       " 'License': 'CC-BY-SA 3.0'}"
      ]
     },
     "execution_count": 7,
     "metadata": {},
     "output_type": "execute_result"
    }
   ],
   "source": [
    "#|dropout\n",
    "fn = os.path.join(importlib.resources.files(\"pyrnet\"), \"share/pyrnet_cfmeta.json\")\n",
    "\n",
    "config =  dict(\n",
    "    contributor_name = \"Jon Doe; Roger Rogers\",\n",
    "    contributor_role = \"Set-up; Tear-down\",\n",
    "    project = \"Notebook Example\",\n",
    "    creator_name = \"Adam Alpha\",\n",
    "    dt = np.datetime64(\"now\").item(),\n",
    "    sdate = dt.datetime(2014,4,1,12,0),\n",
    "    edate = dt.datetime(2014,4,2,18,0),\n",
    "    notes = \"This is just an example.\",\n",
    ")\n",
    "\n",
    "# parse the json file\n",
    "cfdict = read_json(fn)\n",
    "\n",
    "# get global attributes:\n",
    "gattrs = cfdict['attributes']\n",
    "\n",
    "# apply config\n",
    "gattrs = {k:v.format_map(config) for k,v in gattrs.items()}\n",
    "\n",
    "gattrs"
   ]
  },
  {
   "cell_type": "code",
   "execution_count": 8,
   "metadata": {
    "ExecuteTime": {
     "end_time": "2024-02-14T13:47:02.348113900Z",
     "start_time": "2024-02-14T13:47:02.311578600Z"
    },
    "collapsed": false,
    "tags": [
     "hide-output"
    ]
   },
   "outputs": [
    {
     "data": {
      "text/plain": [
       "({'ta': {'units': 'K',\n",
       "   'long_name': 'air temperature',\n",
       "   'standard_name': 'air_temperature',\n",
       "   'valid_range': [0, 10000]},\n",
       "  'rh': {'units': '1',\n",
       "   'long_name': 'air relative humidity',\n",
       "   'standard_name': 'relative_humidity',\n",
       "   'valid_range': [0, 10000]},\n",
       "  'battery_voltage': {'units': 'V',\n",
       "   'standard_name': 'battery_voltage',\n",
       "   'valid_range': [0, 6400]},\n",
       "  'ghi': {'units': 'W m-2',\n",
       "   'long_name': 'downwelling shortwave flux',\n",
       "   'standard_name': 'downwelling_shortwave_flux_in_air',\n",
       "   'valid_range': [0, 60000]},\n",
       "  'gti': {'units': 'V',\n",
       "   'long_name': 'downwelling shortwave flux measured on secondary platform, might be tilted',\n",
       "   'standard_name': 'downwelling_shortwave_flux_in_air',\n",
       "   'valid_range': [0, 60000]},\n",
       "  'station': {'units': '-', 'long_name': 'PyrNet unit box number'},\n",
       "  'szen': {'standard_name': 'solar_zenith_angle',\n",
       "   'units': 'degree',\n",
       "   'valid_range': [0, 36000]},\n",
       "  'sazi': {'standard_name': 'solar_azimuth_angle',\n",
       "   'units': 'degree',\n",
       "   'valid_range': [0, 36000]},\n",
       "  'esd': {'standard_name': 'earth_sun_distance',\n",
       "   'units': 'AU',\n",
       "   'valid_range': [0, 40000]},\n",
       "  'maintenance_flag_ghi': {'standard_name': 'quality_flag',\n",
       "   'long_name': 'Maintenance quality control flags for main pyranometer',\n",
       "   'note': 'Soiling describes subjectively the coverage of the pyranometer dome with dirt. The level flag is problematic if the bubble of the spirit level touches the reference ring, and bad if it is outside.',\n",
       "   'valid_range': [0, 11],\n",
       "   'flag_masks': [3, 3, 3, 12, 12],\n",
       "   'flag_values': [1, 2, 3, 4, 8],\n",
       "   'flag_meanings': 'soiling_light soiling_moderate soiling_heavy level_problematic level_bad'},\n",
       "  'maintenance_flag_gti': {'standard_name': 'quality_flag',\n",
       "   'long_name': 'Maintenance quality control flags for secondary pyranometer',\n",
       "   'note': 'Soiling describes subjectively the coverage of the pyranometer dome with dirt. The level flag is problematic if the bubble of the spirit level touches the reference ring, and bad if it is outside.',\n",
       "   'valid_range': [0, 11],\n",
       "   'flag_masks': [3, 3, 3, 12, 12],\n",
       "   'flag_values': [1, 2, 3, 4, 8],\n",
       "   'flag_meanings': 'soiling_light soiling_moderate soiling_heavy level_problematic level_bad'},\n",
       "  'lat': {'standard_name': 'latitude',\n",
       "   'units': 'degree_north',\n",
       "   'valid_range': [0, 180000000]},\n",
       "  'lon': {'standard_name': 'longitude',\n",
       "   'units': 'degree_east',\n",
       "   'valid_range': [0, 360000000]},\n",
       "  'iadc': {'standard_name': 'index',\n",
       "   'comment': 'index to map gps to adc records',\n",
       "   'units': '-'},\n",
       "  'adctime': {'standard_name': 'time'},\n",
       "  'time': {'standard_name': 'time'}},\n",
       " {'ta': {'scale_factor': 0.0001,\n",
       "   'add_offset': 253.15,\n",
       "   '_FillValue': 65535,\n",
       "   'zlib': True,\n",
       "   'dtype': 'u2',\n",
       "   'gzip': True,\n",
       "   'complevel': 6},\n",
       "  'rh': {'scale_factor': 0.0001,\n",
       "   'add_offset': 0.0,\n",
       "   '_FillValue': 65535,\n",
       "   'zlib': True,\n",
       "   'dtype': 'u2',\n",
       "   'gzip': True,\n",
       "   'complevel': 6},\n",
       "  'battery_voltage': {'scale_factor': 0.001,\n",
       "   'add_offset': 0.0,\n",
       "   '_FillValue': 65535,\n",
       "   'zlib': True,\n",
       "   'dtype': 'u2',\n",
       "   'gzip': True,\n",
       "   'complevel': 6},\n",
       "  'ghi': {'scale_factor': 0.025,\n",
       "   'add_offset': 0.0,\n",
       "   '_FillValue': 65535,\n",
       "   'zlib': True,\n",
       "   'dtype': 'u2',\n",
       "   'gzip': True,\n",
       "   'complevel': 6},\n",
       "  'gti': {'scale_factor': 0.025,\n",
       "   'add_offset': 0.0,\n",
       "   '_FillValue': 65535,\n",
       "   'zlib': True,\n",
       "   'dtype': 'u2',\n",
       "   'gzip': True,\n",
       "   'complevel': 6},\n",
       "  'station': {'_FillValue': 255,\n",
       "   'zlib': True,\n",
       "   'dtype': 'u1',\n",
       "   'gzip': True,\n",
       "   'complevel': 6},\n",
       "  'szen': {'scale_factor': 0.005,\n",
       "   'add_offset': 0.0,\n",
       "   '_FillValue': 65535,\n",
       "   'zlib': True,\n",
       "   'dtype': 'u2',\n",
       "   'gzip': True,\n",
       "   'complevel': 6},\n",
       "  'sazi': {'scale_factor': 0.01,\n",
       "   'add_offset': 0.0,\n",
       "   '_FillValue': 65535,\n",
       "   'zlib': True,\n",
       "   'dtype': 'u2',\n",
       "   'gzip': True,\n",
       "   'complevel': 6},\n",
       "  'esd': {'scale_factor': 1e-06,\n",
       "   'add_offset': 0.98,\n",
       "   '_FillValue': 65535,\n",
       "   'zlib': True,\n",
       "   'dtype': 'u2',\n",
       "   'gzip': True,\n",
       "   'complevel': 6},\n",
       "  'maintenance_flag_ghi': {'_FillValue': 255,\n",
       "   'zlib': True,\n",
       "   'dtype': 'u1',\n",
       "   'gzip': True,\n",
       "   'complevel': 6},\n",
       "  'maintenance_flag_gti': {'_FillValue': 255,\n",
       "   'zlib': True,\n",
       "   'dtype': 'u1',\n",
       "   'gzip': True,\n",
       "   'complevel': 6},\n",
       "  'lat': {'scale_factor': 1e-06,\n",
       "   'add_offset': -90,\n",
       "   '_FillValue': 4294967295,\n",
       "   'zlib': True,\n",
       "   'dtype': 'u4',\n",
       "   'gzip': True,\n",
       "   'complevel': 6},\n",
       "  'lon': {'scale_factor': 1e-06,\n",
       "   'add_offset': -180,\n",
       "   '_FillValue': 4294967295,\n",
       "   'zlib': True,\n",
       "   'dtype': 'u4',\n",
       "   'gzip': True,\n",
       "   'complevel': 6},\n",
       "  'iadc': {'_FillValue': 4294967295,\n",
       "   'zlib': True,\n",
       "   'dtype': 'u4',\n",
       "   'gzip': True,\n",
       "   'complevel': 6},\n",
       "  'adctime': {'_FillValue': 4294967295,\n",
       "   'zlib': True,\n",
       "   'dtype': 'u4',\n",
       "   'gzip': True,\n",
       "   'complevel': 6},\n",
       "  'time': {'zlib': True, 'dtype': 'f8', 'gzip': True, 'complevel': 6}})"
      ]
     },
     "execution_count": 8,
     "metadata": {},
     "output_type": "execute_result"
    }
   ],
   "source": [
    "#|dropout\n",
    "# get variable attributes\n",
    "d = get_var_attrs(cfdict)\n",
    "\n",
    "# split encoding attributes\n",
    "vattrs, vencode = get_attrs_enc(d)\n",
    "\n",
    "vattrs, vencode"
   ]
  },
  {
   "cell_type": "markdown",
   "metadata": {
    "collapsed": false
   },
   "source": [
    "## Euclidian distances of stations"
   ]
  },
  {
   "cell_type": "code",
   "execution_count": 9,
   "metadata": {
    "ExecuteTime": {
     "end_time": "2024-02-14T13:47:02.383890200Z",
     "start_time": "2024-02-14T13:47:02.326780500Z"
    },
    "collapsed": false
   },
   "outputs": [],
   "source": [
    "#|export\n",
    "def get_xy_coords(lon, lat, lonc=None, latc=None):\n",
    "    \"\"\"\n",
    "    Calculate Cartesian coordinates of network stations, relative to the mean\n",
    "    lon/lat of the stations\n",
    "    \"\"\"\n",
    "    GEOD = pyproj.Geod(ellps='WGS84')\n",
    "\n",
    "    n  = len(lon)\n",
    "    if lonc is None:\n",
    "        lonc = lon.mean()\n",
    "    if latc is None:\n",
    "        latc = lat.mean()\n",
    "\n",
    "    az, _, d = np.array([GEOD.inv(lonc, latc, lon[i], lat[i]) for i in range(n)]).T\n",
    "    x = d*np.sin(np.deg2rad(az))\n",
    "    y = d*np.cos(np.deg2rad(az))\n",
    "    return x,y"
   ]
  },
  {
   "cell_type": "code",
   "execution_count": 10,
   "metadata": {
    "ExecuteTime": {
     "end_time": "2024-02-14T13:47:02.384887800Z",
     "start_time": "2024-02-14T13:47:02.339568700Z"
    },
    "collapsed": false
   },
   "outputs": [],
   "source": [
    "#|export\n",
    "def pairwise_distance_matrix( x: ArrayLike, y: ArrayLike ) -> NDArray:\n",
    "    \"\"\"\n",
    "    Get square matrix with Euclidian distances of stations\n",
    "\n",
    "    Parameters\n",
    "    ----------\n",
    "    x: array_like\n",
    "        X coordinates\n",
    "    y: array_like\n",
    "        Y coordinates\n",
    "\n",
    "    Returns\n",
    "    -------\n",
    "    ndarray\n",
    "        A square matrix with Euclidian distances of stations\n",
    "    \"\"\"\n",
    "    x = np.array(x)\n",
    "    y = np.array(y)\n",
    "    return np.sqrt( (x[None,:]-x[:,None])**2+(y[None,:]-y[:,None])**2 )"
   ]
  },
  {
   "cell_type": "code",
   "execution_count": 11,
   "metadata": {
    "ExecuteTime": {
     "end_time": "2024-02-14T13:47:02.448188Z",
     "start_time": "2024-02-14T13:47:02.350617300Z"
    },
    "collapsed": false
   },
   "outputs": [
    {
     "name": "stdout",
     "output_type": "stream",
     "text": [
      "[[0. 1. 2.]\n",
      " [1. 0. 1.]\n",
      " [2. 1. 0.]]\n"
     ]
    }
   ],
   "source": [
    "x = [0, 1, 2]\n",
    "y = [0, 0, 0]\n",
    "dist = pairwise_distance_matrix(x,y)\n",
    "print(dist)\n",
    "assert dist[0,0]==dist[1,1]==dist[2,2]==0\n",
    "assert dist[0,1]==dist[1,0]==1\n",
    "assert dist[0,2]==dist[2,0]==2"
   ]
  },
  {
   "cell_type": "markdown",
   "metadata": {
    "collapsed": false
   },
   "source": [
    "## Fourier utility\n",
    "\n",
    "### Create a gaussian window\n",
    "Convert a scale parameter *J* to FWHM of a normal distribution\n",
    "\n",
    "$\\mathrm{FWHM} = 2 \\sqrt{2 \\ln 2} \\sigma = f \\sigma$\n",
    "\n",
    "define FWHM with scale parameter *J*, so that :\n",
    "$\\mathrm{FWHM} = 60*2^J$\n",
    "\n"
   ]
  },
  {
   "cell_type": "code",
   "execution_count": 12,
   "metadata": {
    "ExecuteTime": {
     "end_time": "2024-02-14T13:47:02.569650500Z",
     "start_time": "2024-02-14T13:47:02.365465700Z"
    },
    "collapsed": false
   },
   "outputs": [
    {
     "name": "stdout",
     "output_type": "stream",
     "text": [
      "J = -2 -> FWHM(J) = 15.0\n",
      "J = -1 -> FWHM(J) = 30.0\n",
      "J =  0 -> FWHM(J) = 60.0\n",
      "J =  1 -> FWHM(J) = 120.0\n",
      "J =  2 -> FWHM(J) = 240.0\n",
      "J =  3 -> FWHM(J) = 480.0\n"
     ]
    }
   ],
   "source": [
    "for J in range(-2,4):\n",
    "    print(f\"J = {J:2d} -> FWHM(J) = {60.*2**J}\")"
   ]
  },
  {
   "cell_type": "code",
   "execution_count": 13,
   "metadata": {
    "ExecuteTime": {
     "end_time": "2024-02-14T13:47:02.867036400Z",
     "start_time": "2024-02-14T13:47:02.381511200Z"
    },
    "collapsed": false
   },
   "outputs": [
    {
     "name": "stdout",
     "output_type": "stream",
     "text": [
      "sum of distribution density: 1.000\n"
     ]
    },
    {
     "data": {
      "image/png": "[encoded data removed]",
      "text/plain": [
       "<Figure size 640x480 with 1 Axes>"
      ]
     },
     "metadata": {},
     "output_type": "display_data"
    }
   ],
   "source": [
    "J=2\n",
    "f = 2.0*np.sqrt(2*np.log(2))\n",
    "sig = (60.0/f)*2**J\n",
    "\n",
    "# FWHM from scale parameter\n",
    "FWHM = 60*2**J\n",
    "\n",
    "# normalized gaussian distribution\n",
    "g  = gaussian(3*FWHM, sig, sym=False)\n",
    "# distribution density (sums up to 1)\n",
    "gd = g/(np.sqrt(2*np.pi)*sig)\n",
    "print(f\"sum of distribution density: {np.sum(gd):.3f}\")\n",
    "\n",
    "x0 = np.argmax(gd)\n",
    "x1, x2 = x0-.5*FWHM, x0+.5*FWHM\n",
    "plt.figure()\n",
    "_ = plt.plot(g/np.sqrt(2*np.pi)/sig, label='gaussian distribution density')\n",
    "_ = plt.hlines(.5*np.max(gd),x1,x2,color='k', label=f'FWHM={FWHM}')\n",
    "_ = plt.grid()\n",
    "_ = plt.legend()\n",
    "plt.show()"
   ]
  },
  {
   "cell_type": "code",
   "execution_count": 14,
   "metadata": {
    "ExecuteTime": {
     "end_time": "2024-02-14T13:47:03.512453300Z",
     "start_time": "2024-02-14T13:47:02.875075900Z"
    },
    "collapsed": false
   },
   "outputs": [
    {
     "name": "stderr",
     "output_type": "stream",
     "text": [
      "/home/jonas/miniconda3/envs/pyrnet/lib/python3.11/site-packages/matplotlib/cbook/__init__.py:1335: ComplexWarning: Casting complex values to real discards the imaginary part\n",
      "  return np.asarray(x, float)\n"
     ]
    },
    {
     "data": {
      "image/png": "[encoded data removed]",
      "text/plain": [
       "<Figure size 640x480 with 2 Axes>"
      ]
     },
     "metadata": {},
     "output_type": "display_data"
    }
   ],
   "source": [
    "# shift array, so that it starts with the maxima\n",
    "gd_rolled = np.roll(gd, np.floor_divide(3*FWHM, 2))\n",
    "\n",
    "# calculate the frequency response of the Gaussian window\n",
    "gd_fft = np.fft.fft(gd_rolled)\n",
    "fft_freq = np.fft.fftfreq(gd_rolled.shape[0])\n",
    "\n",
    "fig, axs = plt.subplots(2,1)\n",
    "_ = axs[0].set_title(\"Gaussian distribution density\")\n",
    "_ = axs[0].plot(gd_rolled)\n",
    "_ = axs[0].grid(True)\n",
    "_ = axs[0].set_xlabel('Sample')\n",
    "_ = axs[0].set_ylabel('Amplitude')\n",
    "\n",
    "_ = axs[1].set_title(\"Frequency response of the Gaussian window\")\n",
    "_ = axs[1].plot(fft_freq,gd_fft,'b.')\n",
    "_ = axs[1].set_xlabel('normalized frequency (cycles per sample)')\n",
    "_ = axs[1].set_ylabel('normalized magnitude (dB)')\n",
    "_ = axs[1].set_xlim([-.05,.05])\n",
    "fig.tight_layout()"
   ]
  },
  {
   "cell_type": "code",
   "execution_count": 15,
   "metadata": {
    "ExecuteTime": {
     "end_time": "2024-02-14T13:47:03.580391Z",
     "start_time": "2024-02-14T13:47:03.512453300Z"
    },
    "collapsed": false
   },
   "outputs": [],
   "source": [
    "#|export\n",
    "def gauss_fwin_fwhm(fwhm: float, N: int = 86400) -> NDArray:\n",
    "    \"\"\"\n",
    "    Convert scale parameter to FWHM of Normal distribution see\n",
    "    [https://en.wikipedia.org/wiki/Full_width_at_half_maximum#Normal_distribution]\n",
    "\n",
    "    Parameters\n",
    "    ----------\n",
    "    fwhm: float\n",
    "        FWHM of the gaussian distribution\n",
    "    N: int\n",
    "        Number of points in the output window. If zero, an empty array is returned. An exception is thrown when it is negative.\n",
    "        The default is 86400 (seconds per day).\n",
    "\n",
    "    Returns\n",
    "    -------\n",
    "    ndarray\n",
    "        Frequency response of the gaussian window\n",
    "    \"\"\"\n",
    "    f = 2.0*np.sqrt(2*np.log(2))\n",
    "    sig = fwhm/f\n",
    "    g  = gaussian(N, sig, sym=False)/np.sqrt(2*np.pi)/sig\n",
    "    return np.fft.fft(np.roll(g, np.floor_divide(N, 2)))\n",
    "\n",
    "def gauss_fwin(J: float, N: int=86400) -> NDArray:\n",
    "    \"\"\"\n",
    "    Convert scale parameter to FWHM of Normal distribution see\n",
    "    [https://en.wikipedia.org/wiki/Full_width_at_half_maximum#Normal_distribution]\n",
    "\n",
    "    Parameters\n",
    "    ----------\n",
    "    J: float\n",
    "        scale parameter for FWHM, with FWHM=60*2**J\n",
    "    N: int\n",
    "        Number of points in the output window. If zero, an empty array is returned. An exception is thrown when it is negative.\n",
    "        The default is 86400 (seconds per day).\n",
    "\n",
    "    Returns\n",
    "    -------\n",
    "    ndarray\n",
    "        Frequency response of the gaussian window\n",
    "    \"\"\"\n",
    "    fwhm = 60.*2**J\n",
    "    return gauss_fwin_fwhm(fwhm, N=N)\n",
    "\n"
   ]
  },
  {
   "cell_type": "markdown",
   "metadata": {
    "collapsed": false
   },
   "source": [
    "### Smoothing Data by convolution"
   ]
  },
  {
   "cell_type": "code",
   "execution_count": 16,
   "metadata": {
    "ExecuteTime": {
     "end_time": "2024-02-14T13:47:03.613645500Z",
     "start_time": "2024-02-14T13:47:03.527480200Z"
    },
    "collapsed": false
   },
   "outputs": [],
   "source": [
    "#|export\n",
    "def smooth_fwhm(y: ArrayLike, fwhm: float, axis: int = 0) -> NDArray:\n",
    "    \"\"\"\n",
    "    Smooth data with gaussian window by convolution\n",
    "\n",
    "    Parameters\n",
    "    ----------\n",
    "    y: array_like\n",
    "        Input array.\n",
    "    fwhm: float\n",
    "        FWHM of the gaussian window to be convolved with the input array.\n",
    "    axis: int, optional\n",
    "        Axis over which to smoothing is applied.\n",
    "\n",
    "    Returns\n",
    "    -------\n",
    "    ndarray\n",
    "        Smoothed array of the same shape as the input array `y`.\n",
    "    \"\"\"\n",
    "    Y = np.fft.fft(y, axis=axis)\n",
    "    W = gauss_fwin_fwhm(fwhm, y.shape[axis])\n",
    "    if y.ndim > 1:\n",
    "        W = np.expand_dims(W, axis=axis).T\n",
    "    return np.fft.ifft(Y * W, axis=axis).real\n",
    "\n",
    "def smooth(y: ArrayLike, J: float, axis: int = 0) -> NDArray:\n",
    "    \"\"\"\n",
    "    Smooth data with gaussian window by convolution\n",
    "\n",
    "    Parameters\n",
    "    ----------\n",
    "    y: array_like\n",
    "        Input array.\n",
    "    J: float\n",
    "        Scale parameter for the FWHM (FWHM=60*2**J) of the\n",
    "        gaussian window to be convolved with the input array.\n",
    "    axis: int, optional\n",
    "        Axis over which to smoothing is applied.\n",
    "\n",
    "    Returns\n",
    "    -------\n",
    "    ndarray\n",
    "        Smoothed array of the same shape as the input array `y`.\n",
    "    \"\"\"\n",
    "    fwhm = 60.*2**J\n",
    "    return smooth_fwhm(y, fwhm, axis=axis)\n"
   ]
  },
  {
   "cell_type": "code",
   "execution_count": 17,
   "metadata": {
    "ExecuteTime": {
     "end_time": "2024-02-14T13:47:03.994147100Z",
     "start_time": "2024-02-14T13:47:03.601571900Z"
    },
    "collapsed": false
   },
   "outputs": [
    {
     "data": {
      "image/png": "[encoded data removed]",
      "text/plain": [
       "<Figure size 640x480 with 1 Axes>"
      ]
     },
     "metadata": {},
     "output_type": "display_data"
    }
   ],
   "source": [
    "axis=0\n",
    "sig = np.repeat([0., 1., 0.], 100)\n",
    "sig2 = np.vstack((sig*2,sig*4))\n",
    "\n",
    "fwhm = 10\n",
    "filtered = smooth_fwhm(sig, fwhm, axis=0)\n",
    "filtered2 = smooth_fwhm(sig2, fwhm, axis=1)\n",
    "\n",
    "\n",
    "fig, ax = plt.subplots(1,1)\n",
    "_ = ax.plot(sig, label='signal')\n",
    "_ = ax.plot(sig2.T, label='signal')\n",
    "_ = ax.plot(filtered, label='smoothed signal')\n",
    "_ = ax.plot(filtered2.T, label='smoothed signal')\n",
    "_ = ax.legend()\n",
    "fig.show()"
   ]
  },
  {
   "cell_type": "code",
   "execution_count": 18,
   "metadata": {
    "ExecuteTime": {
     "end_time": "2024-02-14T13:47:03.995141300Z",
     "start_time": "2024-02-14T13:47:03.986935600Z"
    },
    "collapsed": false
   },
   "outputs": [],
   "source": [
    "# from pyrnet import pyrnet\n",
    "# date = dt.datetime(2013,7,15)\n",
    "# pyr  = pyrnet.read_pyrnet(date, 'hope_juelich')\n",
    "# \n",
    "# z0 = pyr.ghi.data[:,0]\n",
    "# z1 = smooth(pyr.ghi.data, 0, axis=0)\n",
    "# z2 = smooth(pyr.ghi.data.T, 5, axis=-1)\n",
    "# \n",
    "# fig, ax = plt.subplots(1,1)\n",
    "# _ = ax.plot(z0,'k')\n",
    "# _ = ax.plot(z1[:,0],'g')\n",
    "# _ = ax.plot(z2[0,:],'r')\n",
    "# _ = ax.grid(True)\n",
    "# fig.show()"
   ]
  },
  {
   "cell_type": "markdown",
   "metadata": {
    "collapsed": false
   },
   "source": [
    "# Tilted Pyranometer Utils\n",
    "Functions to calculate apparent zenith angle and simple correction to horizontal irradiance."
   ]
  },
  {
   "cell_type": "code",
   "execution_count": 19,
   "metadata": {
    "ExecuteTime": {
     "end_time": "2024-02-14T13:47:04.101337100Z",
     "start_time": "2024-02-14T13:47:04.002147400Z"
    },
    "collapsed": false,
    "tags": [
     "hide-input"
    ]
   },
   "outputs": [],
   "source": [
    "#|export\n",
    "#|dropcode\n",
    "def make_iter(x):\n",
    "    \"\"\"Check if x is an iterable, if not make it so and return np.array(x).\n",
    "    \"\"\"\n",
    "    if isinstance(x, str):\n",
    "        x = [x]\n",
    "    try:\n",
    "        iter(x)\n",
    "    except:\n",
    "        x = [x]\n",
    "    return np.array(x)\n",
    "\n",
    "def check_tilted(x):\n",
    "    \"\"\"\n",
    "    Check x attrs 'hangle' and 'vangle' if available and >0.1 degree.\n",
    "    \n",
    "    Parameters\n",
    "    ----------\n",
    "    x: xr.DataArray\n",
    "\n",
    "    Returns\n",
    "    -------\n",
    "    list of bools\n",
    "        True if vangle attribute > 0.1 degree. Same length as 'x.vangle'.\n",
    "    \"\"\"\n",
    "    is_tilted = np.full(x.shape[1], False)\n",
    "    # check if this is a tilted irradiance measurement\n",
    "    if \"vangle\" in x.attrs:\n",
    "        vangle = make_iter(x.attrs[\"vangle\"])\n",
    "        hangle = make_iter(x.attrs[\"hangle\"])\n",
    "        try:\n",
    "            assert len(vangle)==len(is_tilted)\n",
    "        except:\n",
    "            raise Exception(f\"Attribute vangle and hangle of {var} should have the same length as the station dimension.\")\n",
    "        is_tilted = np.abs(vangle)>0.1\n",
    "    return is_tilted"
   ]
  },
  {
   "cell_type": "code",
   "execution_count": 20,
   "metadata": {
    "ExecuteTime": {
     "end_time": "2024-02-14T13:47:04.104561300Z",
     "start_time": "2024-02-14T13:47:04.019733300Z"
    },
    "collapsed": false
   },
   "outputs": [],
   "source": [
    "#|export\n",
    "def calc_apparent_coszen(pitch,yaw,zen,azi):\n",
    "    \"\"\"\n",
    "    Calculate cosine of apparent zenith angle\n",
    "\n",
    "    Parameters:\n",
    "    -----------\n",
    "    pitch: float, array of float\n",
    "        Platform pitch angle (degrees) - Angle between vertical and platfrom normal vector, e.g. platform zenith angle\n",
    "    yaw: float, array of float\n",
    "        Platform yaw angle (degrees) - Angle positive clockwise from north, e.g. platfrom azimuth angle\n",
    "    zen: flaot, array of float\n",
    "        Solar zenith angle (degrees)\n",
    "    azi: float, array of float\n",
    "        Solar azimuth angle (degrees)\n",
    "\n",
    "    Returns:\n",
    "    --------\n",
    "    coszen: float, array of float\n",
    "        The cosine of the platform apparent zenith angle (angle between solar and platform normal vector)\n",
    "    \"\"\"\n",
    "    #calculate the angle between radiometer normal to sun position vector\n",
    "    p = np.deg2rad(-1.*pitch)\n",
    "    z = np.deg2rad(zen)\n",
    "    g = np.deg2rad(azi - yaw) \n",
    "    coszen = -np.sin(z)*np.sin(p)*np.cos(g) + np.cos(z)*np.cos(p)\n",
    "    return coszen # cos of angle between radiometer normal and solar vector\n",
    "\n",
    "def tilt_correction_factor(dp, dy, szen, sazi):\n",
    "    tczen = calc_apparent_coszen(dp, dy, szen, sazi)\n",
    "    return np.cos(np.deg2rad(szen))/tczen\n",
    "\n",
    "def bias_optimize_pitch(vals,ghi,ghi_t,zen,azi,dp):\n",
    "    dy = vals\n",
    "    F = ghi_t*tilt_correction_factor(dp,dy,zen,azi)\n",
    "    return np.nanmean(np.abs(ghi-F))\n",
    "\n",
    "def bias_optimize_yaw(vals,ghi,ghi_t,zen,azi,dy):\n",
    "    dp = vals\n",
    "    F = ghi_t*tilt_correction_factor(dp,dy,zen,azi)\n",
    "    return np.nanmean(np.abs(ghi-F))\n",
    "\n",
    "def bias_optimize(vals,ghi,ghi_t,zen,azi):\n",
    "    dp, dy = vals\n",
    "    F = ghi_t*tilt_correction_factor(dp, dy, zen, azi)\n",
    "    return np.nanmean(np.abs(ghi-F))"
   ]
  },
  {
   "cell_type": "code",
   "execution_count": 21,
   "metadata": {
    "ExecuteTime": {
     "end_time": "2024-02-14T13:47:04.105557200Z",
     "start_time": "2024-02-14T13:47:04.035130200Z"
    },
    "collapsed": false
   },
   "outputs": [],
   "source": [
    "assert 10==np.round(np.rad2deg(np.arccos(calc_apparent_coszen(20,180,30,180))),3)\n",
    "assert 60==np.round(np.rad2deg(np.arccos(calc_apparent_coszen(30,0,30,180))),3)\n",
    "assert tilt_correction_factor(30,180,20,180)<1  # zenith distance from tilted to sun is shorter than horizontal to sun\n",
    "assert tilt_correction_factor(40,180,20,180)==1 # zenith distance from tilted to sun is equal horizontal to sun\n",
    "assert tilt_correction_factor(41,180,20,180)>1  # zenith distance from tilted to sun is longer than horizontal to sun"
   ]
  },
  {
   "cell_type": "markdown",
   "metadata": {
    "collapsed": false
   },
   "source": []
  },
  {
   "cell_type": "code",
   "execution_count": 22,
   "metadata": {
    "ExecuteTime": {
     "end_time": "2024-02-14T13:47:05.392671400Z",
     "start_time": "2024-02-14T13:47:04.049748700Z"
    },
    "collapsed": false,
    "tags": [
     "remove-cell",
     "hide-input",
     "hide-output"
    ]
   },
   "outputs": [],
   "source": [
    "#|hide\n",
    "# Export module\n",
    "# Requires *nbdev* to export and update the *../lib/utils.py* module\n",
    "import nbdev.export\n",
    "import nbformat as nbf\n",
    "name = \"utils\"\n",
    "\n",
    "# Export python module\n",
    "nbdev.export.nb_export( f\"{name}.ipynb\" ,f\"../../src/pyrnet\")\n",
    "\n",
    "# Export to docs\n",
    "ntbk = nbf.read(f\"{name}.ipynb\", nbf.NO_CONVERT)\n",
    "\n",
    "text_search_dict = {\n",
    "    \"#|hide\": \"remove-cell\",  # Remove the whole cell\n",
    "    \"#|dropcode\": \"hide-input\",  # Hide the input w/ a button to show\n",
    "    \"#|dropout\": \"hide-output\"  # Hide the output w/ a button to show\n",
    "}\n",
    "for cell in ntbk.cells:\n",
    "    cell_tags = cell.get('metadata', {}).get('tags', [])\n",
    "    for key, val in text_search_dict.items():\n",
    "            if key in cell['source']:\n",
    "                if val not in cell_tags:\n",
    "                    cell_tags.append(val)\n",
    "    if len(cell_tags) > 0:\n",
    "        cell['metadata']['tags'] = cell_tags\n",
    "    nbf.write(ntbk, f\"../../docs/source/nbs/{name}.ipynb\")"
   ]
  },
  {
   "cell_type": "markdown",
   "metadata": {
    "collapsed": false
   },
   "source": []
  },
  {
   "cell_type": "markdown",
   "metadata": {
    "collapsed": false
   },
   "source": []
  }
 ],
 "metadata": {
  "kernelspec": {
   "display_name": "Python 3",
   "language": "python",
   "name": "python3"
  },
  "language_info": {
   "codemirror_mode": {
    "name": "ipython",
    "version": 2
   },
   "file_extension": ".py",
   "mimetype": "text/x-python",
   "name": "python",
   "nbconvert_exporter": "python",
   "pygments_lexer": "ipython2",
   "version": "2.7.6"
  }
 },
 "nbformat": 4,
 "nbformat_minor": 0
}
